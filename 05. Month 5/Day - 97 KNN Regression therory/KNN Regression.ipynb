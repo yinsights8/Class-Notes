{
 "cells": [
  {
   "cell_type": "markdown",
   "id": "2bb19b41",
   "metadata": {},
   "source": [
    "# KNN Regression"
   ]
  },
  {
   "cell_type": "raw",
   "id": "6ef132a6",
   "metadata": {},
   "source": [
    "1. Select the value of K (K - Number of nearest neighbors)\n",
    "2. We need to calculate the distance between testing data points with remaining training data points\n",
    "3. Once the distances will get calculated after that, It will get sorted in an ascending order\n",
    "4. We do consider the nearest neighbors on the basis of K value \n",
    "5. Once the nearest neighbors will get considered then, in the final step we can get the average of      data points which is nearest to the testing or unseen data point."
   ]
  },
  {
   "cell_type": "markdown",
   "id": "0a583acc",
   "metadata": {},
   "source": [
    "# Advantages of KNN Algorithm"
   ]
  },
  {
   "cell_type": "raw",
   "id": "bfcb9adf",
   "metadata": {},
   "source": [
    "1. It is useful for classification as well as Regression\n",
    "2. KNN is non parametric Algorithm (We do not have assumptions on the data)\n",
    "3. It is easy to implement\n",
    "4. No Training steps are required (Faster than other algorithms)\n",
    "5. Only one hyperparameter is required that is (P value and K value)\n",
    "6. It will automatically lends to the multiclass classification"
   ]
  },
  {
   "cell_type": "markdown",
   "id": "8e03a59e",
   "metadata": {},
   "source": [
    "# Disadvantages of KNN Algorithm"
   ]
  },
  {
   "cell_type": "raw",
   "id": "f0d20474",
   "metadata": {},
   "source": [
    "1. Lazy learner algorithm (Testing steps are very slow in KNN)\n",
    "2. Suitable for Smaller datasets\n",
    "3. Sensitive to outliers\n",
    "4. We always needs to use the features scaling \n",
    "5. Each and everytime we need to find out the value of K\n",
    "6. We can not use KNN for High-Dimensional datasets \n",
    "\n",
    "# When we are having high dimensional datasets, In that case we can use dimensionality reduction \n",
    "techniques (PCA) ----->>> Principal Component Analysis "
   ]
  },
  {
   "cell_type": "raw",
   "id": "c5b3dd98",
   "metadata": {},
   "source": [
    "Hyperparameters that we can use to find out the best K Value:\n",
    "    \n",
    "    \n",
    "1. GridSearchCV:\n",
    "    \n",
    "    It will try every single combination of present list values which we can pass while using the    GridSearchCV. SO that Each and EVery single Combination will get considered for the Cross Validation.\n",
    "\n",
    "    GridSearchCV takes much time than RandomizedSearchCv as it check the entire combinations in the    data\n",
    "\n",
    "2. RandomizedSearchCV:\n",
    "    \n",
    "    It goes through only five number of Combinations or Random Combinations in the data.\n",
    "    \n",
    "    It takes lesser time than the GridSearchCV, As it check with the Random COmbinations in the data"
   ]
  }
 ],
 "metadata": {
  "kernelspec": {
   "display_name": "Python 3 (ipykernel)",
   "language": "python",
   "name": "python3"
  },
  "language_info": {
   "codemirror_mode": {
    "name": "ipython",
    "version": 3
   },
   "file_extension": ".py",
   "mimetype": "text/x-python",
   "name": "python",
   "nbconvert_exporter": "python",
   "pygments_lexer": "ipython3",
   "version": "3.10.8"
  }
 },
 "nbformat": 4,
 "nbformat_minor": 5
}
