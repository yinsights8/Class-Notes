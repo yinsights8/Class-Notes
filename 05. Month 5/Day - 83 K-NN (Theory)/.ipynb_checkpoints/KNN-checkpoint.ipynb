{
 "cells": [
  {
   "cell_type": "markdown",
   "id": "ceef0aa8",
   "metadata": {},
   "source": [
    "# K- Nearest Neighbors"
   ]
  },
  {
   "cell_type": "raw",
   "id": "78e66f79",
   "metadata": {},
   "source": [
    "1. K-Nearest Neighbor is a Supervised machine Learning Algorithm.\n",
    "2. It is useful for both Classification as well as Regression\n",
    "3. K - Nearest Neighbor is a Distance based Algorithm. That means, We need to calculate the Distances\n",
    "4. We do calculate the distances between data points by using distance metrics.\n",
    "5. KNN algorithm is a Non-Parametric Algorithm\n",
    "6. KNN is Non Parametric Algorithm That means, We do not have an assumptions on the data.\n",
    "7. KNN is also called as Lazy Learner Algorithm"
   ]
  },
  {
   "cell_type": "raw",
   "id": "ca449cbc",
   "metadata": {},
   "source": [
    "Gradient Descent Based algorithm:\n",
    "    \n",
    "    1. Linear Regression\n",
    "    2. Logistic Regression\n",
    "    3. Neural Network\n",
    "    \n",
    "    \n",
    "Distance Based Algorithm:\n",
    "    \n",
    "    1. K-Nearest Neighbors (KNN)\n",
    "    2. KMeans Clustering\n",
    "    3. Support Vector Machine (SVM)\n",
    "    \n",
    "\n",
    "Tree Based Algorithm:\n",
    "    \n",
    "    1. Decision Tree\n",
    "    2. Random Forest\n",
    "    3. Adaboost\n",
    "    4. XGBoost\n",
    "    5. GradientBoost"
   ]
  },
  {
   "cell_type": "raw",
   "id": "88259ee0",
   "metadata": {},
   "source": [
    "In KNN Algorithm We are using Distance Metrics:\n",
    "    \n",
    "    1. Manhattan Distance (P = 1)\n",
    "    2. Euclidean Distance (P = 2)"
   ]
  },
  {
   "cell_type": "markdown",
   "id": "198beeaa",
   "metadata": {},
   "source": [
    "# KNN Algorithm"
   ]
  },
  {
   "cell_type": "raw",
   "id": "82cf35b1",
   "metadata": {},
   "source": [
    "1. In KNN Algorithm we need to find out the best K Value (K - Nearest Neighbors)\n",
    "2. We need to calculate the distances between new datapoints (Testing Data points/Unseen Data) with all the remaining data points. (Training Data Points)\n",
    "3. In KNN Algorithm default value of is (K = 5)\n",
    "\n",
    "k = 5\n",
    "k < 5 >> It can be Noisy, (Low Bias and High Variance)"
   ]
  },
  {
   "cell_type": "markdown",
   "id": "02011439",
   "metadata": {},
   "source": [
    "# Feature Scaling"
   ]
  },
  {
   "cell_type": "raw",
   "id": "dfd46b1a",
   "metadata": {},
   "source": [
    "1. MinMax Scaler (Normalization)\n",
    "2. Stanard Scaler (Standardization) >> Z - Score\n",
    "3. Robust Scaler\n",
    "4. Unit Vector Scaler\n",
    "5. Power Transform Scaler"
   ]
  },
  {
   "cell_type": "raw",
   "id": "5b914f0d",
   "metadata": {},
   "source": [
    "Feature Scaling :\n",
    "    \n",
    "    Feature Scaling is used to scale down the Numeric Features in to the same scale.\n",
    "    \n",
    "    Model Is not able to understand the Units, SO that we need to use Feature Scaling on Scale     Variant Data.\n",
    "    \n",
    "    Like Unit : KM, M, Years in Numbers, Days"
   ]
  },
  {
   "cell_type": "markdown",
   "id": "e870f860",
   "metadata": {},
   "source": [
    "# 1. MinMax Scaler (Normalization)"
   ]
  },
  {
   "cell_type": "raw",
   "id": "4b32e245",
   "metadata": {},
   "source": [
    "Normalization :\n",
    "     \n",
    "        In Normalization we can rescale the features in a specific range (0 to 1)\n",
    "        \n",
    "        Xnor = (X - Xmin)/(Xmax - Xmin)\n",
    "        \n",
    "        If the data is not following Guassian Distribution then we can use Normalization\n",
    "        \n",
    "        Do not use Normalization on One hot Encoding Features and Target Variable  "
   ]
  },
  {
   "cell_type": "markdown",
   "id": "e356b6c5",
   "metadata": {},
   "source": [
    "# 2. Standard Scaler (Standardization)"
   ]
  },
  {
   "cell_type": "raw",
   "id": "1036a783",
   "metadata": {},
   "source": [
    "Standardization:\n",
    "    \n",
    "    In Standardization we are not having any specific range\n",
    "    \n",
    "    Xnew = (X - Xmean)/(STD)\n",
    "    \n",
    "    If tne data is Following Gaussian Distribution then we can use Standardization\n",
    "    \n",
    "    Do not use Standardization on One Hot Encoding Features and Target Features."
   ]
  },
  {
   "cell_type": "code",
   "execution_count": null,
   "id": "14c1d3af",
   "metadata": {},
   "outputs": [],
   "source": []
  },
  {
   "cell_type": "code",
   "execution_count": null,
   "id": "ed04f61c",
   "metadata": {},
   "outputs": [],
   "source": []
  }
 ],
 "metadata": {
  "kernelspec": {
   "display_name": "Python 3 (ipykernel)",
   "language": "python",
   "name": "python3"
  },
  "language_info": {
   "codemirror_mode": {
    "name": "ipython",
    "version": 3
   },
   "file_extension": ".py",
   "mimetype": "text/x-python",
   "name": "python",
   "nbconvert_exporter": "python",
   "pygments_lexer": "ipython3",
   "version": "3.10.8"
  }
 },
 "nbformat": 4,
 "nbformat_minor": 5
}
