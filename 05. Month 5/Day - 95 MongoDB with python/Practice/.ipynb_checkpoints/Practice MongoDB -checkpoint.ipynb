{
 "cells": [
  {
   "cell_type": "code",
   "execution_count": null,
   "id": "34dca687",
   "metadata": {},
   "outputs": [],
   "source": []
  },
  {
   "cell_type": "raw",
   "id": "e6eaa014",
   "metadata": {},
   "source": [
    "mysql            ==     mongodb\n",
    "database         ==     database\n",
    "tables           ==     collection\n",
    "rows / records   ==     document\n",
    "columns.         ==     keys"
   ]
  },
  {
   "cell_type": "markdown",
   "id": "6dc57a58",
   "metadata": {},
   "source": [
    "## import libraries"
   ]
  },
  {
   "cell_type": "code",
   "execution_count": 1,
   "id": "b52097f7",
   "metadata": {},
   "outputs": [
    {
     "name": "stdout",
     "output_type": "stream",
     "text": [
      "Requirement already satisfied: pymongo in c:\\users\\yashd\\anaconda3\\envs\\myenv\\lib\\site-packages (4.3.3)\n",
      "Requirement already satisfied: dnspython<3.0.0,>=1.16.0 in c:\\users\\yashd\\anaconda3\\envs\\myenv\\lib\\site-packages (from pymongo) (2.2.1)\n"
     ]
    }
   ],
   "source": [
    "!pip install pymongo"
   ]
  },
  {
   "cell_type": "code",
   "execution_count": 2,
   "id": "4b0d2f20",
   "metadata": {},
   "outputs": [],
   "source": [
    "import pandas as pd\n",
    "import pymongo "
   ]
  },
  {
   "cell_type": "markdown",
   "id": "93da8fbe",
   "metadata": {},
   "source": [
    "### step 1 Create a connection"
   ]
  },
  {
   "cell_type": "code",
   "execution_count": 3,
   "id": "eb9165f9",
   "metadata": {},
   "outputs": [
    {
     "data": {
      "text/plain": [
       "MongoClient(host=['localhost:27017'], document_class=dict, tz_aware=False, connect=True)"
      ]
     },
     "execution_count": 3,
     "metadata": {},
     "output_type": "execute_result"
    }
   ],
   "source": [
    "client = pymongo.MongoClient(\"mongodb://localhost:27017\")\n",
    "client"
   ]
  },
  {
   "cell_type": "markdown",
   "id": "ea88c3f1",
   "metadata": {},
   "source": [
    "### operations in mongodb"
   ]
  },
  {
   "cell_type": "raw",
   "id": "9d955e2f",
   "metadata": {},
   "source": [
    "1. Create database \n",
    "2. create collection\n",
    "3. insert data\n",
    "4. read data\n",
    "5. update data\n",
    "6. delete data"
   ]
  },
  {
   "cell_type": "raw",
   "id": "ffc71bbe",
   "metadata": {},
   "source": [
    "databases >> database >> collections >> documents >> key: value"
   ]
  },
  {
   "cell_type": "markdown",
   "id": "98124330",
   "metadata": {},
   "source": [
    "### 1. Create database / use database"
   ]
  },
  {
   "cell_type": "code",
   "execution_count": 5,
   "id": "5142bba7",
   "metadata": {},
   "outputs": [
    {
     "data": {
      "text/plain": [
       "Database(MongoClient(host=['localhost:27017'], document_class=dict, tz_aware=False, connect=True), 'Engg_Data')"
      ]
     },
     "execution_count": 5,
     "metadata": {},
     "output_type": "execute_result"
    }
   ],
   "source": [
    "db = client[\"Engg_Data\"]\n",
    "db"
   ]
  },
  {
   "cell_type": "markdown",
   "id": "a34504d0",
   "metadata": {},
   "source": [
    "### 2. create collection"
   ]
  },
  {
   "cell_type": "code",
   "execution_count": 6,
   "id": "ba13cc53",
   "metadata": {},
   "outputs": [
    {
     "data": {
      "text/plain": [
       "Collection(Database(MongoClient(host=['localhost:27017'], document_class=dict, tz_aware=False, connect=True), 'Engg_Data'), 'Student')"
      ]
     },
     "execution_count": 6,
     "metadata": {},
     "output_type": "execute_result"
    }
   ],
   "source": [
    "coll = db[\"Student\"]\n",
    "coll"
   ]
  },
  {
   "cell_type": "code",
   "execution_count": 7,
   "id": "239616bd",
   "metadata": {},
   "outputs": [
    {
     "data": {
      "text/plain": [
       "['Student']"
      ]
     },
     "execution_count": 7,
     "metadata": {},
     "output_type": "execute_result"
    }
   ],
   "source": [
    "db.list_collection_names()"
   ]
  },
  {
   "cell_type": "markdown",
   "id": "d3c2c30c",
   "metadata": {},
   "source": [
    "### 3. insert a documents "
   ]
  },
  {
   "cell_type": "raw",
   "id": "d9d78808",
   "metadata": {},
   "source": [
    "1. insert_one() :- this will insert single document \n",
    "2. insert_many() :- this will insert multiple documents\n",
    "\n",
    "collection_name.insert_one({key:value})"
   ]
  },
  {
   "cell_type": "code",
   "execution_count": 8,
   "id": "8bbf4eaf",
   "metadata": {},
   "outputs": [
    {
     "data": {
      "text/plain": [
       "<pymongo.results.InsertOneResult at 0x1a1070f5c90>"
      ]
     },
     "execution_count": 8,
     "metadata": {},
     "output_type": "execute_result"
    }
   ],
   "source": [
    "coll.insert_one({\"roll_no\": 101, \"name\":\"rohit\", \"cgpa\":9, \"loc\":\"pune\"})"
   ]
  },
  {
   "cell_type": "code",
   "execution_count": 9,
   "id": "3cc16866",
   "metadata": {},
   "outputs": [
    {
     "data": {
      "text/plain": [
       "<pymongo.results.InsertOneResult at 0x1a1070f7bb0>"
      ]
     },
     "execution_count": 9,
     "metadata": {},
     "output_type": "execute_result"
    }
   ],
   "source": [
    "coll.insert_one({\"roll_no\":102, \"name\": \"sahil\", \"cgpa\":8, \"loc\": \"bangolore\", \"contact\":{\"MobNo\": 8055354248, \"email\": \"exaple@gmail.com\"}})"
   ]
  },
  {
   "cell_type": "code",
   "execution_count": 10,
   "id": "ac02674b",
   "metadata": {},
   "outputs": [
    {
     "data": {
      "text/plain": [
       "<pymongo.results.InsertOneResult at 0x1a1070f7f10>"
      ]
     },
     "execution_count": 10,
     "metadata": {},
     "output_type": "execute_result"
    }
   ],
   "source": [
    "coll.insert_one({\"roll_no\": 103, \"name\": \"Ankush\", \"cgpa\":6, 'loc':\"nagpur\", \"contact\":{\"MobNo\": 8055354248, \"email\": \"exaple@gmail.com\"}, \n",
    "                \"designation\": \"Engineer\"})"
   ]
  },
  {
   "cell_type": "code",
   "execution_count": 11,
   "id": "0e65c67d",
   "metadata": {},
   "outputs": [
    {
     "data": {
      "text/plain": [
       "<pymongo.results.InsertManyResult at 0x1a1070f7ee0>"
      ]
     },
     "execution_count": 11,
     "metadata": {},
     "output_type": "execute_result"
    }
   ],
   "source": [
    "coll.insert_many([{\"roll_no\": 101, \"name\":\"rohit\", \"cgpa\":9, \"loc\":\"pune\"}, \n",
    "                {\"roll_no\": 104, \"name\":\"shubham\", \"cgpa\":6, \"loc\":\"mumbai\"},\n",
    "                {\"roll_no\": 105, \"name\":\"ritik\", \"cgpa\":8, \"loc\":\"jaipur\"}])"
   ]
  },
  {
   "cell_type": "code",
   "execution_count": 12,
   "id": "903d9831",
   "metadata": {},
   "outputs": [
    {
     "data": {
      "text/plain": [
       "<pymongo.results.InsertManyResult at 0x1a1070f7dc0>"
      ]
     },
     "execution_count": 12,
     "metadata": {},
     "output_type": "execute_result"
    }
   ],
   "source": [
    "coll.insert_many([{\"roll_no\": 106, \"name\":\"saniya\", \"cgpa\":6, \"loc\":\"akola\"},\n",
    "                 {\"roll_no\": 107, \"name\":\"sanket\", \"cgpa\":5, \"loc\":\"dhule\"}])"
   ]
  },
  {
   "cell_type": "code",
   "execution_count": 13,
   "id": "9b1a5376",
   "metadata": {},
   "outputs": [
    {
     "data": {
      "text/plain": [
       "<pymongo.results.InsertOneResult at 0x1a1070f5ff0>"
      ]
     },
     "execution_count": 13,
     "metadata": {},
     "output_type": "execute_result"
    }
   ],
   "source": [
    "coll.insert_one({})"
   ]
  },
  {
   "cell_type": "code",
   "execution_count": 14,
   "id": "2f4be1e9",
   "metadata": {},
   "outputs": [
    {
     "data": {
      "text/plain": [
       "<pymongo.results.InsertManyResult at 0x1a1070f5a80>"
      ]
     },
     "execution_count": 14,
     "metadata": {},
     "output_type": "execute_result"
    }
   ],
   "source": [
    "coll.insert_many([{}])"
   ]
  },
  {
   "cell_type": "markdown",
   "id": "985bd206",
   "metadata": {},
   "source": [
    "### read collection"
   ]
  },
  {
   "cell_type": "markdown",
   "id": "99e18763",
   "metadata": {},
   "source": [
    "#### 1. find_one({where condition},{select})"
   ]
  },
  {
   "cell_type": "raw",
   "id": "93fe2b62",
   "metadata": {},
   "source": [
    "1. find_one() :- it will read single document\n",
    "2. find() :- it will read multiple documents  \n",
    "\n",
    "- Syntax:-\n",
    "    - find_one({where condition},{select})"
   ]
  },
  {
   "cell_type": "code",
   "execution_count": 15,
   "id": "efb3b574",
   "metadata": {},
   "outputs": [
    {
     "ename": "SyntaxError",
     "evalue": "invalid syntax (1245057550.py, line 1)",
     "output_type": "error",
     "traceback": [
      "\u001b[1;36m  Cell \u001b[1;32mIn [15], line 1\u001b[1;36m\u001b[0m\n\u001b[1;33m    without filter condition: returns first document of the collection\u001b[0m\n\u001b[1;37m            ^\u001b[0m\n\u001b[1;31mSyntaxError\u001b[0m\u001b[1;31m:\u001b[0m invalid syntax\n"
     ]
    }
   ],
   "source": [
    "without filter condition: returns first document of the collection\n",
    "with filter condition   : return the first matched document"
   ]
  },
  {
   "cell_type": "code",
   "execution_count": null,
   "id": "56a3adb5",
   "metadata": {},
   "outputs": [],
   "source": []
  },
  {
   "cell_type": "code",
   "execution_count": 16,
   "id": "6ec719da",
   "metadata": {},
   "outputs": [
    {
     "data": {
      "text/plain": [
       "{'roll_no': 104,\n",
       " 'name': 'shubham',\n",
       " 'cgpa': 6,\n",
       " 'loc': 'mumbai',\n",
       " 'contact': {'MobNo': 9764224809, 'Email': 'Example123@gmail.com'}}"
      ]
     },
     "execution_count": 16,
     "metadata": {},
     "output_type": "execute_result"
    }
   ],
   "source": [
    "coll.find_one({\"roll_no\":104}, {\"_id\":0})"
   ]
  },
  {
   "cell_type": "code",
   "execution_count": 17,
   "id": "22d45e96",
   "metadata": {},
   "outputs": [],
   "source": [
    "coll.find_one({\"roll_no\":0},{})"
   ]
  },
  {
   "cell_type": "code",
   "execution_count": 18,
   "id": "a54a68ca",
   "metadata": {},
   "outputs": [
    {
     "data": {
      "text/plain": [
       "{'_id': ObjectId('63a2ce8a4927281ce1c88381')}"
      ]
     },
     "execution_count": 18,
     "metadata": {},
     "output_type": "execute_result"
    }
   ],
   "source": [
    "coll.find_one({},{\"_id\":1})"
   ]
  },
  {
   "cell_type": "code",
   "execution_count": 19,
   "id": "13ac2ad6",
   "metadata": {},
   "outputs": [],
   "source": [
    "coll.find_one({\"_id\":0})"
   ]
  },
  {
   "cell_type": "code",
   "execution_count": 20,
   "id": "1a7bc810",
   "metadata": {},
   "outputs": [
    {
     "data": {
      "text/plain": [
       "{'roll_no': 55, 'name': 'rohit', 'cgpa': 9, 'loc': 'mumbai'}"
      ]
     },
     "execution_count": 20,
     "metadata": {},
     "output_type": "execute_result"
    }
   ],
   "source": [
    "coll.find_one({},{\"_id\":0})"
   ]
  },
  {
   "cell_type": "code",
   "execution_count": 21,
   "id": "67188dda",
   "metadata": {},
   "outputs": [
    {
     "data": {
      "text/plain": [
       "{'_id': ObjectId('63a2d0e94927281ce1c88386'),\n",
       " 'roll_no': 105,\n",
       " 'name': 'ritik',\n",
       " 'cgpa': 8,\n",
       " 'loc': 'jaipur'}"
      ]
     },
     "execution_count": 21,
     "metadata": {},
     "output_type": "execute_result"
    }
   ],
   "source": [
    "coll.find_one({\"roll_no\":105},{})"
   ]
  },
  {
   "cell_type": "code",
   "execution_count": 22,
   "id": "623b53f4",
   "metadata": {},
   "outputs": [
    {
     "data": {
      "text/plain": [
       "{'roll_no': 102,\n",
       " 'name': 'sahil',\n",
       " 'cgpa': 8,\n",
       " 'loc': 'bangolore',\n",
       " 'contact': {'MobNo': 8055354248, 'email': 'exaple@gmail.com'}}"
      ]
     },
     "execution_count": 22,
     "metadata": {},
     "output_type": "execute_result"
    }
   ],
   "source": [
    "coll.find_one({\"name\":\"sahil\"},{\"_id\":0})"
   ]
  },
  {
   "cell_type": "code",
   "execution_count": 23,
   "id": "7926e2b3",
   "metadata": {},
   "outputs": [
    {
     "data": {
      "text/plain": [
       "{'roll_no': 102,\n",
       " 'name': 'sahil',\n",
       " 'cgpa': 8,\n",
       " 'loc': 'bangolore',\n",
       " 'contact': {'MobNo': 8055354248, 'email': 'exaple@gmail.com'}}"
      ]
     },
     "execution_count": 23,
     "metadata": {},
     "output_type": "execute_result"
    }
   ],
   "source": [
    "coll.find_one({\"cgpa\":8},{\"_id\":0})"
   ]
  },
  {
   "cell_type": "code",
   "execution_count": 24,
   "id": "1cf04f48",
   "metadata": {},
   "outputs": [
    {
     "data": {
      "text/plain": [
       "{'name': 'ritik', 'cgpa': 8}"
      ]
     },
     "execution_count": 24,
     "metadata": {},
     "output_type": "execute_result"
    }
   ],
   "source": [
    "coll.find_one({\"roll_no\":105},{\"roll_no\":0,\"_id\":0, \"loc\":0})"
   ]
  },
  {
   "cell_type": "markdown",
   "id": "82f3a524",
   "metadata": {},
   "source": [
    "#### 2. find({where condition},{select})\n",
    "- it returns the list of dictionary"
   ]
  },
  {
   "cell_type": "raw",
   "id": "e4aac4fb",
   "metadata": {},
   "source": [
    "find()\n",
    "2. collection_name.find({where condition},{select})\n",
    "\n",
    "without filter condition: returns all documents of the collection\n",
    "with filter condition   : return the all matched documents"
   ]
  },
  {
   "cell_type": "code",
   "execution_count": 25,
   "id": "be8c1a1b",
   "metadata": {},
   "outputs": [
    {
     "data": {
      "text/plain": [
       "[{'roll_no': 105, 'name': 'ritik', 'cgpa': 8, 'loc': 'jaipur'},\n",
       " {'roll_no': 105, 'name': 'ritik', 'cgpa': 8, 'loc': 'jaipur'},\n",
       " {'roll_no': 105, 'name': 'ritik', 'cgpa': 8, 'loc': 'jaipur'},\n",
       " {'roll_no': 105, 'name': 'ritik', 'cgpa': 8, 'loc': 'jaipur'}]"
      ]
     },
     "execution_count": 25,
     "metadata": {},
     "output_type": "execute_result"
    }
   ],
   "source": [
    "data = coll.find({\"roll_no\":105},{\"_id\":0})\n",
    "list(data)"
   ]
  },
  {
   "cell_type": "code",
   "execution_count": 26,
   "id": "813c4670",
   "metadata": {},
   "outputs": [
    {
     "data": {
      "text/plain": [
       "[{'roll_no': 105, 'name': 'ritik', 'cgpa': 8, 'loc': 'jaipur'},\n",
       " {'roll_no': 105, 'name': 'ritik', 'cgpa': 8, 'loc': 'jaipur'},\n",
       " {'roll_no': 105, 'name': 'ritik', 'cgpa': 8, 'loc': 'jaipur'},\n",
       " {'roll_no': 105, 'name': 'ritik', 'cgpa': 8, 'loc': 'jaipur'}]"
      ]
     },
     "execution_count": 26,
     "metadata": {},
     "output_type": "execute_result"
    }
   ],
   "source": [
    "data = coll.find({\"name\":\"ritik\"},{\"_id\":0})\n",
    "list(data)"
   ]
  },
  {
   "cell_type": "code",
   "execution_count": 27,
   "id": "65c0518c",
   "metadata": {},
   "outputs": [
    {
     "data": {
      "text/plain": [
       "[{'roll_no': 55, 'name': 'rohit', 'cgpa': 9, 'loc': 'mumbai'},\n",
       " {'roll_no': 101, 'name': 'rohit', 'cgpa': 9, 'loc': 'pune'},\n",
       " {'roll_no': 101, 'name': 'rohit', 'cgpa': 9, 'loc': 'pune'},\n",
       " {'roll_no': 101, 'name': 'rohit', 'cgpa': 9, 'loc': 'pune'},\n",
       " {'roll_no': 101, 'name': 'rohit', 'cgpa': 9, 'loc': 'pune'},\n",
       " {'roll_no': 101, 'name': 'rohit', 'cgpa': 9, 'loc': 'pune'},\n",
       " {'roll_no': 101, 'name': 'rohit', 'cgpa': 9, 'loc': 'pune'}]"
      ]
     },
     "execution_count": 27,
     "metadata": {},
     "output_type": "execute_result"
    }
   ],
   "source": [
    "data = coll.find({\"cgpa\":9},{\"_id\":0})\n",
    "list(data)"
   ]
  },
  {
   "cell_type": "code",
   "execution_count": 28,
   "id": "1982d998",
   "metadata": {},
   "outputs": [
    {
     "data": {
      "text/plain": [
       "[{'name': 'rohit', 'cgpa': 9},\n",
       " {'name': 'rohit', 'cgpa': 9},\n",
       " {'name': 'rohit', 'cgpa': 9},\n",
       " {'name': 'rohit', 'cgpa': 9},\n",
       " {'name': 'rohit', 'cgpa': 9},\n",
       " {'name': 'rohit', 'cgpa': 9},\n",
       " {'name': 'rohit', 'cgpa': 9}]"
      ]
     },
     "execution_count": 28,
     "metadata": {},
     "output_type": "execute_result"
    }
   ],
   "source": [
    "data = coll.find({\"cgpa\":9},{\"_id\":0, \"loc\":0, \"roll_no\":0})\n",
    "list(data)"
   ]
  },
  {
   "cell_type": "code",
   "execution_count": 29,
   "id": "7a53fc67",
   "metadata": {},
   "outputs": [
    {
     "data": {
      "text/plain": [
       "({'_id': ObjectId('63a2d0e94927281ce1c88385'),\n",
       "  'roll_no': 104,\n",
       "  'name': 'shubham',\n",
       "  'cgpa': 6,\n",
       "  'loc': 'mumbai',\n",
       "  'contact': {'MobNo': 9764224809, 'Email': 'Example123@gmail.com'}},\n",
       " {'_id': ObjectId('63a2d0f04927281ce1c88388'),\n",
       "  'roll_no': 104,\n",
       "  'name': 'shubham',\n",
       "  'cgpa': 6,\n",
       "  'loc': 'mumbai'},\n",
       " {'_id': ObjectId('63a30f2afc09e590771664cc'),\n",
       "  'roll_no': 104,\n",
       "  'name': 'shubham',\n",
       "  'cgpa': 6,\n",
       "  'loc': 'mumbai'},\n",
       " {'_id': ObjectId('63a31007fe4ffbf6160e1589'),\n",
       "  'roll_no': 104,\n",
       "  'name': 'shubham',\n",
       "  'cgpa': 6,\n",
       "  'loc': 'mumbai'})"
      ]
     },
     "execution_count": 29,
     "metadata": {},
     "output_type": "execute_result"
    }
   ],
   "source": [
    "data = coll.find({\"roll_no\":104},{})\n",
    "tuple(data)"
   ]
  },
  {
   "cell_type": "code",
   "execution_count": 30,
   "id": "96e5bcc7",
   "metadata": {},
   "outputs": [
    {
     "data": {
      "text/plain": [
       "({'roll_no': 104,\n",
       "  'name': 'shubham',\n",
       "  'cgpa': 6,\n",
       "  'loc': 'mumbai',\n",
       "  'contact': {'MobNo': 9764224809, 'Email': 'Example123@gmail.com'}},\n",
       " {'roll_no': 104, 'name': 'shubham', 'cgpa': 6, 'loc': 'mumbai'},\n",
       " {'roll_no': 104, 'name': 'shubham', 'cgpa': 6, 'loc': 'mumbai'},\n",
       " {'roll_no': 104, 'name': 'shubham', 'cgpa': 6, 'loc': 'mumbai'})"
      ]
     },
     "execution_count": 30,
     "metadata": {},
     "output_type": "execute_result"
    }
   ],
   "source": [
    "data = coll.find({\"roll_no\":104},{\"_id\":0})\n",
    "tuple(data)"
   ]
  },
  {
   "cell_type": "markdown",
   "id": "d3770a8a",
   "metadata": {},
   "source": [
    "### 3. Update collection"
   ]
  },
  {
   "cell_type": "raw",
   "id": "4f5ea54f",
   "metadata": {},
   "source": [
    "1. update_one() :- this will update single document \n",
    "2. update_many() :- this will update multiple documents"
   ]
  },
  {
   "cell_type": "markdown",
   "id": "986043f9",
   "metadata": {},
   "source": [
    "#### 1. update_one({where condition},{'$set':{'key':value}})\n",
    "- without condition :- update single document of the collection\n",
    "- with condition :- update matched single document of the collection"
   ]
  },
  {
   "cell_type": "code",
   "execution_count": 31,
   "id": "00f1313d",
   "metadata": {},
   "outputs": [
    {
     "data": {
      "text/plain": [
       "<pymongo.results.UpdateResult at 0x1a10993ea10>"
      ]
     },
     "execution_count": 31,
     "metadata": {},
     "output_type": "execute_result"
    }
   ],
   "source": [
    "coll.update_one({},{\"$set\":{\"loc\":\"mumbai\"}})"
   ]
  },
  {
   "cell_type": "code",
   "execution_count": 32,
   "id": "0bced747",
   "metadata": {},
   "outputs": [
    {
     "data": {
      "text/plain": [
       "<pymongo.results.UpdateResult at 0x1a1070f67d0>"
      ]
     },
     "execution_count": 32,
     "metadata": {},
     "output_type": "execute_result"
    }
   ],
   "source": [
    "coll.update_one({\"roll_no\":104},{\"$set\":{\"contact\":{\"MobNo\":9764224809, \"Email\":\"Example123@gmail.com\"}}})"
   ]
  },
  {
   "cell_type": "code",
   "execution_count": 33,
   "id": "41c8215e",
   "metadata": {},
   "outputs": [
    {
     "data": {
      "text/plain": [
       "<pymongo.results.UpdateResult at 0x1a1070f7d60>"
      ]
     },
     "execution_count": 33,
     "metadata": {},
     "output_type": "execute_result"
    }
   ],
   "source": [
    "coll.update_one({},{\"$set\":{\"roll_no\":55}})"
   ]
  },
  {
   "cell_type": "code",
   "execution_count": 34,
   "id": "7646fa46",
   "metadata": {},
   "outputs": [
    {
     "data": {
      "text/plain": [
       "<pymongo.results.UpdateResult at 0x1a109eb5bd0>"
      ]
     },
     "execution_count": 34,
     "metadata": {},
     "output_type": "execute_result"
    }
   ],
   "source": [
    "coll.update_one({\"name\":\"Ankush\"},{\"$set\":{\"loc\":\"amravati\"}})"
   ]
  },
  {
   "cell_type": "code",
   "execution_count": null,
   "id": "80c1761a",
   "metadata": {},
   "outputs": [],
   "source": []
  }
 ],
 "metadata": {
  "kernelspec": {
   "display_name": "Python 3 (ipykernel)",
   "language": "python",
   "name": "python3"
  },
  "language_info": {
   "codemirror_mode": {
    "name": "ipython",
    "version": 3
   },
   "file_extension": ".py",
   "mimetype": "text/x-python",
   "name": "python",
   "nbconvert_exporter": "python",
   "pygments_lexer": "ipython3",
   "version": "3.10.8"
  }
 },
 "nbformat": 4,
 "nbformat_minor": 5
}
