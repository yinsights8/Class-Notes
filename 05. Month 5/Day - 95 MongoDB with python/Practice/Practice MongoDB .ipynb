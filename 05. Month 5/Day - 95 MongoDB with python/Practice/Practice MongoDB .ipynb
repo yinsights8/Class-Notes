{
 "cells": [
  {
   "cell_type": "code",
   "execution_count": null,
   "id": "34dca687",
   "metadata": {},
   "outputs": [],
   "source": []
  },
  {
   "cell_type": "raw",
   "id": "e6eaa014",
   "metadata": {},
   "source": [
    "mysql            ==     mongodb\n",
    "database         ==     database\n",
    "tables           ==     collection\n",
    "rows / records   ==     document\n",
    "columns.         ==     keys"
   ]
  },
  {
   "cell_type": "markdown",
   "id": "6dc57a58",
   "metadata": {},
   "source": [
    "## import libraries"
   ]
  },
  {
   "cell_type": "code",
   "execution_count": 1,
   "id": "b52097f7",
   "metadata": {},
   "outputs": [
    {
     "name": "stdout",
     "output_type": "stream",
     "text": [
      "Requirement already satisfied: pymongo in c:\\users\\yashd\\anaconda3\\envs\\myenv\\lib\\site-packages (4.3.3)\n",
      "Requirement already satisfied: dnspython<3.0.0,>=1.16.0 in c:\\users\\yashd\\anaconda3\\envs\\myenv\\lib\\site-packages (from pymongo) (2.2.1)\n"
     ]
    }
   ],
   "source": [
    "!pip install pymongo"
   ]
  },
  {
   "cell_type": "code",
   "execution_count": 2,
   "id": "4b0d2f20",
   "metadata": {},
   "outputs": [],
   "source": [
    "import pandas as pd\n",
    "import pymongo "
   ]
  },
  {
   "cell_type": "markdown",
   "id": "93da8fbe",
   "metadata": {},
   "source": [
    "### step 1 Create a connection"
   ]
  },
  {
   "cell_type": "code",
   "execution_count": 3,
   "id": "eb9165f9",
   "metadata": {},
   "outputs": [
    {
     "data": {
      "text/plain": [
       "MongoClient(host=['localhost:27017'], document_class=dict, tz_aware=False, connect=True)"
      ]
     },
     "execution_count": 3,
     "metadata": {},
     "output_type": "execute_result"
    }
   ],
   "source": [
    "client = pymongo.MongoClient(\"mongodb://localhost:27017\")\n",
    "client"
   ]
  },
  {
   "cell_type": "markdown",
   "id": "ea88c3f1",
   "metadata": {},
   "source": [
    "### operations in mongodb"
   ]
  },
  {
   "cell_type": "raw",
   "id": "9d955e2f",
   "metadata": {},
   "source": [
    "1. Create database \n",
    "2. create collection\n",
    "3. insert data\n",
    "4. read data\n",
    "5. update data\n",
    "6. delete data"
   ]
  },
  {
   "cell_type": "raw",
   "id": "a80740d7",
   "metadata": {},
   "source": [
    "databases >> database >> collections >> documents >> key: value"
   ]
  },
  {
   "cell_type": "markdown",
   "id": "98124330",
   "metadata": {},
   "source": [
    "### 1. Create database / use database"
   ]
  },
  {
   "cell_type": "code",
   "execution_count": 5,
   "id": "5142bba7",
   "metadata": {},
   "outputs": [
    {
     "data": {
      "text/plain": [
       "Database(MongoClient(host=['localhost:27017'], document_class=dict, tz_aware=False, connect=True), 'Engg_Data')"
      ]
     },
     "execution_count": 5,
     "metadata": {},
     "output_type": "execute_result"
    }
   ],
   "source": [
    "db = client[\"Engg_Data\"]\n",
    "db"
   ]
  },
  {
   "cell_type": "markdown",
   "id": "a34504d0",
   "metadata": {},
   "source": [
    "### 2. create collection"
   ]
  },
  {
   "cell_type": "code",
   "execution_count": 6,
   "id": "ba13cc53",
   "metadata": {},
   "outputs": [
    {
     "data": {
      "text/plain": [
       "Collection(Database(MongoClient(host=['localhost:27017'], document_class=dict, tz_aware=False, connect=True), 'Engg_Data'), 'Student')"
      ]
     },
     "execution_count": 6,
     "metadata": {},
     "output_type": "execute_result"
    }
   ],
   "source": [
    "coll = db[\"Student\"]\n",
    "coll"
   ]
  },
  {
   "cell_type": "code",
   "execution_count": 7,
   "id": "239616bd",
   "metadata": {},
   "outputs": [
    {
     "data": {
      "text/plain": [
       "['Student']"
      ]
     },
     "execution_count": 7,
     "metadata": {},
     "output_type": "execute_result"
    }
   ],
   "source": [
    "db.list_collection_names()"
   ]
  },
  {
   "cell_type": "markdown",
   "id": "d3c2c30c",
   "metadata": {},
   "source": [
    "### 3. insert a documents "
   ]
  },
  {
   "cell_type": "raw",
   "id": "d9d78808",
   "metadata": {},
   "source": [
    "1. insert_one() :- this will insert single document \n",
    "2. insert_many() :- this will insert multiple documents\n",
    "\n",
    "collection_name.insert_one({key:value})"
   ]
  },
  {
   "cell_type": "code",
   "execution_count": 8,
   "id": "8bbf4eaf",
   "metadata": {},
   "outputs": [
    {
     "data": {
      "text/plain": [
       "<pymongo.results.InsertOneResult at 0x1a1070f5c90>"
      ]
     },
     "execution_count": 8,
     "metadata": {},
     "output_type": "execute_result"
    }
   ],
   "source": [
    "coll.insert_one({\"roll_no\": 101, \"name\":\"rohit\", \"cgpa\":9, \"loc\":\"pune\"})"
   ]
  },
  {
   "cell_type": "code",
   "execution_count": 9,
   "id": "3cc16866",
   "metadata": {},
   "outputs": [
    {
     "data": {
      "text/plain": [
       "<pymongo.results.InsertOneResult at 0x1a1070f7bb0>"
      ]
     },
     "execution_count": 9,
     "metadata": {},
     "output_type": "execute_result"
    }
   ],
   "source": [
    "coll.insert_one({\"roll_no\":102, \"name\": \"sahil\", \"cgpa\":8, \"loc\": \"bangolore\", \"contact\":{\"MobNo\": 8055354248, \"email\": \"exaple@gmail.com\"}})"
   ]
  },
  {
   "cell_type": "code",
   "execution_count": 10,
   "id": "ac02674b",
   "metadata": {},
   "outputs": [
    {
     "data": {
      "text/plain": [
       "<pymongo.results.InsertOneResult at 0x1a1070f7f10>"
      ]
     },
     "execution_count": 10,
     "metadata": {},
     "output_type": "execute_result"
    }
   ],
   "source": [
    "coll.insert_one({\"roll_no\": 103, \"name\": \"Ankush\", \"cgpa\":6, 'loc':\"nagpur\", \"contact\":{\"MobNo\": 8055354248, \"email\": \"exaple@gmail.com\"}, \n",
    "                \"designation\": \"Engineer\"})"
   ]
  },
  {
   "cell_type": "code",
   "execution_count": 11,
   "id": "0e65c67d",
   "metadata": {},
   "outputs": [
    {
     "data": {
      "text/plain": [
       "<pymongo.results.InsertManyResult at 0x1a1070f7ee0>"
      ]
     },
     "execution_count": 11,
     "metadata": {},
     "output_type": "execute_result"
    }
   ],
   "source": [
    "coll.insert_many([{\"roll_no\": 101, \"name\":\"rohit\", \"cgpa\":9, \"loc\":\"pune\"}, \n",
    "                {\"roll_no\": 104, \"name\":\"shubham\", \"cgpa\":6, \"loc\":\"mumbai\"},\n",
    "                {\"roll_no\": 105, \"name\":\"ritik\", \"cgpa\":8, \"loc\":\"jaipur\"}])"
   ]
  },
  {
   "cell_type": "code",
   "execution_count": 12,
   "id": "903d9831",
   "metadata": {},
   "outputs": [
    {
     "data": {
      "text/plain": [
       "<pymongo.results.InsertManyResult at 0x1a1070f7dc0>"
      ]
     },
     "execution_count": 12,
     "metadata": {},
     "output_type": "execute_result"
    }
   ],
   "source": [
    "coll.insert_many([{\"roll_no\": 106, \"name\":\"saniya\", \"cgpa\":6, \"loc\":\"akola\"},\n",
    "                 {\"roll_no\": 107, \"name\":\"sanket\", \"cgpa\":5, \"loc\":\"dhule\"}])"
   ]
  },
  {
   "cell_type": "code",
   "execution_count": 13,
   "id": "9b1a5376",
   "metadata": {},
   "outputs": [
    {
     "data": {
      "text/plain": [
       "<pymongo.results.InsertOneResult at 0x1a1070f5ff0>"
      ]
     },
     "execution_count": 13,
     "metadata": {},
     "output_type": "execute_result"
    }
   ],
   "source": [
    "coll.insert_one({})"
   ]
  },
  {
   "cell_type": "code",
   "execution_count": 14,
   "id": "2f4be1e9",
   "metadata": {},
   "outputs": [
    {
     "data": {
      "text/plain": [
       "<pymongo.results.InsertManyResult at 0x1a1070f5a80>"
      ]
     },
     "execution_count": 14,
     "metadata": {},
     "output_type": "execute_result"
    }
   ],
   "source": [
    "coll.insert_many([{}])"
   ]
  },
  {
   "cell_type": "markdown",
   "id": "985bd206",
   "metadata": {},
   "source": [
    "### read collection"
   ]
  },
  {
   "cell_type": "markdown",
   "id": "99e18763",
   "metadata": {},
   "source": [
    "#### 1. find_one({where condition},{select})"
   ]
  },
  {
   "cell_type": "raw",
   "id": "93fe2b62",
   "metadata": {},
   "source": [
    "1. find_one() :- it will read single document\n",
    "2. find() :- it will read multiple documents  \n",
    "\n",
    "- Syntax:-\n",
    "    - find_one({where condition},{select})"
   ]
  },
  {
   "cell_type": "code",
   "execution_count": 15,
   "id": "efb3b574",
   "metadata": {},
   "outputs": [
    {
     "ename": "SyntaxError",
     "evalue": "invalid syntax (1245057550.py, line 1)",
     "output_type": "error",
     "traceback": [
      "\u001b[1;36m  Cell \u001b[1;32mIn [15], line 1\u001b[1;36m\u001b[0m\n\u001b[1;33m    without filter condition: returns first document of the collection\u001b[0m\n\u001b[1;37m            ^\u001b[0m\n\u001b[1;31mSyntaxError\u001b[0m\u001b[1;31m:\u001b[0m invalid syntax\n"
     ]
    }
   ],
   "source": [
    "without filter condition: returns first document of the collection\n",
    "with filter condition   : return the first matched document"
   ]
  },
  {
   "cell_type": "code",
   "execution_count": null,
   "id": "56a3adb5",
   "metadata": {},
   "outputs": [],
   "source": []
  },
  {
   "cell_type": "code",
   "execution_count": 16,
   "id": "6ec719da",
   "metadata": {},
   "outputs": [
    {
     "data": {
      "text/plain": [
       "{'roll_no': 104,\n",
       " 'name': 'shubham',\n",
       " 'cgpa': 6,\n",
       " 'loc': 'mumbai',\n",
       " 'contact': {'MobNo': 9764224809, 'Email': 'Example123@gmail.com'}}"
      ]
     },
     "execution_count": 16,
     "metadata": {},
     "output_type": "execute_result"
    }
   ],
   "source": [
    "coll.find_one({\"roll_no\":104}, {\"_id\":0})"
   ]
  },
  {
   "cell_type": "code",
   "execution_count": 17,
   "id": "22d45e96",
   "metadata": {},
   "outputs": [],
   "source": [
    "coll.find_one({\"roll_no\":0},{})"
   ]
  },
  {
   "cell_type": "code",
   "execution_count": 18,
   "id": "a54a68ca",
   "metadata": {},
   "outputs": [
    {
     "data": {
      "text/plain": [
       "{'_id': ObjectId('63a2ce8a4927281ce1c88381')}"
      ]
     },
     "execution_count": 18,
     "metadata": {},
     "output_type": "execute_result"
    }
   ],
   "source": [
    "coll.find_one({},{\"_id\":1})"
   ]
  },
  {
   "cell_type": "code",
   "execution_count": 19,
   "id": "13ac2ad6",
   "metadata": {},
   "outputs": [],
   "source": [
    "coll.find_one({\"_id\":0})"
   ]
  },
  {
   "cell_type": "code",
   "execution_count": 20,
   "id": "1a7bc810",
   "metadata": {},
   "outputs": [
    {
     "data": {
      "text/plain": [
       "{'roll_no': 55, 'name': 'rohit', 'cgpa': 9, 'loc': 'mumbai'}"
      ]
     },
     "execution_count": 20,
     "metadata": {},
     "output_type": "execute_result"
    }
   ],
   "source": [
    "coll.find_one({},{\"_id\":0})"
   ]
  },
  {
   "cell_type": "code",
   "execution_count": 21,
   "id": "67188dda",
   "metadata": {},
   "outputs": [
    {
     "data": {
      "text/plain": [
       "{'_id': ObjectId('63a2d0e94927281ce1c88386'),\n",
       " 'roll_no': 105,\n",
       " 'name': 'ritik',\n",
       " 'cgpa': 8,\n",
       " 'loc': 'jaipur'}"
      ]
     },
     "execution_count": 21,
     "metadata": {},
     "output_type": "execute_result"
    }
   ],
   "source": [
    "coll.find_one({\"roll_no\":105},{})"
   ]
  },
  {
   "cell_type": "code",
   "execution_count": 22,
   "id": "623b53f4",
   "metadata": {},
   "outputs": [
    {
     "data": {
      "text/plain": [
       "{'roll_no': 102,\n",
       " 'name': 'sahil',\n",
       " 'cgpa': 8,\n",
       " 'loc': 'bangolore',\n",
       " 'contact': {'MobNo': 8055354248, 'email': 'exaple@gmail.com'}}"
      ]
     },
     "execution_count": 22,
     "metadata": {},
     "output_type": "execute_result"
    }
   ],
   "source": [
    "coll.find_one({\"name\":\"sahil\"},{\"_id\":0})"
   ]
  },
  {
   "cell_type": "code",
   "execution_count": 23,
   "id": "7926e2b3",
   "metadata": {},
   "outputs": [
    {
     "data": {
      "text/plain": [
       "{'roll_no': 102,\n",
       " 'name': 'sahil',\n",
       " 'cgpa': 8,\n",
       " 'loc': 'bangolore',\n",
       " 'contact': {'MobNo': 8055354248, 'email': 'exaple@gmail.com'}}"
      ]
     },
     "execution_count": 23,
     "metadata": {},
     "output_type": "execute_result"
    }
   ],
   "source": [
    "coll.find_one({\"cgpa\":8},{\"_id\":0})"
   ]
  },
  {
   "cell_type": "code",
   "execution_count": 24,
   "id": "1cf04f48",
   "metadata": {},
   "outputs": [
    {
     "data": {
      "text/plain": [
       "{'name': 'ritik', 'cgpa': 8}"
      ]
     },
     "execution_count": 24,
     "metadata": {},
     "output_type": "execute_result"
    }
   ],
   "source": [
    "coll.find_one({\"roll_no\":105},{\"roll_no\":0,\"_id\":0, \"loc\":0})"
   ]
  },
  {
   "cell_type": "markdown",
   "id": "82f3a524",
   "metadata": {},
   "source": [
    "#### 2. find({where condition},{select})\n",
    "- it returns the list of dictionary"
   ]
  },
  {
   "cell_type": "raw",
   "id": "e4aac4fb",
   "metadata": {},
   "source": [
    "find()\n",
    "2. collection_name.find({where condition},{select})\n",
    "\n",
    "without filter condition: returns all documents of the collection\n",
    "with filter condition   : return the all matched documents"
   ]
  },
  {
   "cell_type": "code",
   "execution_count": 25,
   "id": "be8c1a1b",
   "metadata": {},
   "outputs": [
    {
     "data": {
      "text/plain": [
       "[{'roll_no': 105, 'name': 'ritik', 'cgpa': 8, 'loc': 'jaipur'},\n",
       " {'roll_no': 105, 'name': 'ritik', 'cgpa': 8, 'loc': 'jaipur'},\n",
       " {'roll_no': 105, 'name': 'ritik', 'cgpa': 8, 'loc': 'jaipur'},\n",
       " {'roll_no': 105, 'name': 'ritik', 'cgpa': 8, 'loc': 'jaipur'}]"
      ]
     },
     "execution_count": 25,
     "metadata": {},
     "output_type": "execute_result"
    }
   ],
   "source": [
    "data = coll.find({\"roll_no\":105},{\"_id\":0})\n",
    "list(data)"
   ]
  },
  {
   "cell_type": "code",
   "execution_count": 26,
   "id": "813c4670",
   "metadata": {},
   "outputs": [
    {
     "data": {
      "text/plain": [
       "[{'roll_no': 105, 'name': 'ritik', 'cgpa': 8, 'loc': 'jaipur'},\n",
       " {'roll_no': 105, 'name': 'ritik', 'cgpa': 8, 'loc': 'jaipur'},\n",
       " {'roll_no': 105, 'name': 'ritik', 'cgpa': 8, 'loc': 'jaipur'},\n",
       " {'roll_no': 105, 'name': 'ritik', 'cgpa': 8, 'loc': 'jaipur'}]"
      ]
     },
     "execution_count": 26,
     "metadata": {},
     "output_type": "execute_result"
    }
   ],
   "source": [
    "data = coll.find({\"name\":\"ritik\"},{\"_id\":0})\n",
    "list(data)"
   ]
  },
  {
   "cell_type": "code",
   "execution_count": 27,
   "id": "65c0518c",
   "metadata": {},
   "outputs": [
    {
     "data": {
      "text/plain": [
       "[{'roll_no': 55, 'name': 'rohit', 'cgpa': 9, 'loc': 'mumbai'},\n",
       " {'roll_no': 101, 'name': 'rohit', 'cgpa': 9, 'loc': 'pune'},\n",
       " {'roll_no': 101, 'name': 'rohit', 'cgpa': 9, 'loc': 'pune'},\n",
       " {'roll_no': 101, 'name': 'rohit', 'cgpa': 9, 'loc': 'pune'},\n",
       " {'roll_no': 101, 'name': 'rohit', 'cgpa': 9, 'loc': 'pune'},\n",
       " {'roll_no': 101, 'name': 'rohit', 'cgpa': 9, 'loc': 'pune'},\n",
       " {'roll_no': 101, 'name': 'rohit', 'cgpa': 9, 'loc': 'pune'}]"
      ]
     },
     "execution_count": 27,
     "metadata": {},
     "output_type": "execute_result"
    }
   ],
   "source": [
    "data = coll.find({\"cgpa\":9},{\"_id\":0})\n",
    "list(data)"
   ]
  },
  {
   "cell_type": "code",
   "execution_count": 28,
   "id": "1982d998",
   "metadata": {},
   "outputs": [
    {
     "data": {
      "text/plain": [
       "[{'name': 'rohit', 'cgpa': 9},\n",
       " {'name': 'rohit', 'cgpa': 9},\n",
       " {'name': 'rohit', 'cgpa': 9},\n",
       " {'name': 'rohit', 'cgpa': 9},\n",
       " {'name': 'rohit', 'cgpa': 9},\n",
       " {'name': 'rohit', 'cgpa': 9},\n",
       " {'name': 'rohit', 'cgpa': 9}]"
      ]
     },
     "execution_count": 28,
     "metadata": {},
     "output_type": "execute_result"
    }
   ],
   "source": [
    "data = coll.find({\"cgpa\":9},{\"_id\":0, \"loc\":0, \"roll_no\":0})\n",
    "list(data)"
   ]
  },
  {
   "cell_type": "code",
   "execution_count": 29,
   "id": "7a53fc67",
   "metadata": {},
   "outputs": [
    {
     "data": {
      "text/plain": [
       "({'_id': ObjectId('63a2d0e94927281ce1c88385'),\n",
       "  'roll_no': 104,\n",
       "  'name': 'shubham',\n",
       "  'cgpa': 6,\n",
       "  'loc': 'mumbai',\n",
       "  'contact': {'MobNo': 9764224809, 'Email': 'Example123@gmail.com'}},\n",
       " {'_id': ObjectId('63a2d0f04927281ce1c88388'),\n",
       "  'roll_no': 104,\n",
       "  'name': 'shubham',\n",
       "  'cgpa': 6,\n",
       "  'loc': 'mumbai'},\n",
       " {'_id': ObjectId('63a30f2afc09e590771664cc'),\n",
       "  'roll_no': 104,\n",
       "  'name': 'shubham',\n",
       "  'cgpa': 6,\n",
       "  'loc': 'mumbai'},\n",
       " {'_id': ObjectId('63a31007fe4ffbf6160e1589'),\n",
       "  'roll_no': 104,\n",
       "  'name': 'shubham',\n",
       "  'cgpa': 6,\n",
       "  'loc': 'mumbai'})"
      ]
     },
     "execution_count": 29,
     "metadata": {},
     "output_type": "execute_result"
    }
   ],
   "source": [
    "data = coll.find({\"roll_no\":104},{})\n",
    "tuple(data)"
   ]
  },
  {
   "cell_type": "code",
   "execution_count": 30,
   "id": "96e5bcc7",
   "metadata": {},
   "outputs": [
    {
     "data": {
      "text/plain": [
       "({'roll_no': 104,\n",
       "  'name': 'shubham',\n",
       "  'cgpa': 6,\n",
       "  'loc': 'mumbai',\n",
       "  'contact': {'MobNo': 9764224809, 'Email': 'Example123@gmail.com'}},\n",
       " {'roll_no': 104, 'name': 'shubham', 'cgpa': 6, 'loc': 'mumbai'},\n",
       " {'roll_no': 104, 'name': 'shubham', 'cgpa': 6, 'loc': 'mumbai'},\n",
       " {'roll_no': 104, 'name': 'shubham', 'cgpa': 6, 'loc': 'mumbai'})"
      ]
     },
     "execution_count": 30,
     "metadata": {},
     "output_type": "execute_result"
    }
   ],
   "source": [
    "data = coll.find({\"roll_no\":104},{\"_id\":0})\n",
    "tuple(data)"
   ]
  },
  {
   "cell_type": "markdown",
   "id": "d3770a8a",
   "metadata": {},
   "source": [
    "### 3. Update collection"
   ]
  },
  {
   "cell_type": "raw",
   "id": "4f5ea54f",
   "metadata": {},
   "source": [
    "1. update_one() :- this will update single document \n",
    "2. update_many() :- this will update multiple documents"
   ]
  },
  {
   "cell_type": "markdown",
   "id": "986043f9",
   "metadata": {},
   "source": [
    "#### 1. update_one({where condition},{'$set':{'key':value}})\n",
    "- without condition :- update single document of the collection\n",
    "- with condition :- update matched single document of the collection"
   ]
  },
  {
   "cell_type": "code",
   "execution_count": 31,
   "id": "00f1313d",
   "metadata": {},
   "outputs": [
    {
     "data": {
      "text/plain": [
       "<pymongo.results.UpdateResult at 0x1a10993ea10>"
      ]
     },
     "execution_count": 31,
     "metadata": {},
     "output_type": "execute_result"
    }
   ],
   "source": [
    "coll.update_one({},{\"$set\":{\"loc\":\"mumbai\"}})"
   ]
  },
  {
   "cell_type": "code",
   "execution_count": 32,
   "id": "0bced747",
   "metadata": {},
   "outputs": [
    {
     "data": {
      "text/plain": [
       "<pymongo.results.UpdateResult at 0x1a1070f67d0>"
      ]
     },
     "execution_count": 32,
     "metadata": {},
     "output_type": "execute_result"
    }
   ],
   "source": [
    "coll.update_one({\"roll_no\":104},{\"$set\":{\"contact\":{\"MobNo\":9764224809, \"Email\":\"Example123@gmail.com\"}}})"
   ]
  },
  {
   "cell_type": "code",
   "execution_count": 33,
   "id": "41c8215e",
   "metadata": {},
   "outputs": [
    {
     "data": {
      "text/plain": [
       "<pymongo.results.UpdateResult at 0x1a1070f7d60>"
      ]
     },
     "execution_count": 33,
     "metadata": {},
     "output_type": "execute_result"
    }
   ],
   "source": [
    "coll.update_one({},{\"$set\":{\"roll_no\":55}})"
   ]
  },
  {
   "cell_type": "code",
   "execution_count": 35,
   "id": "7646fa46",
   "metadata": {},
   "outputs": [
    {
     "data": {
      "text/plain": [
       "<pymongo.results.UpdateResult at 0x1a10a2fb190>"
      ]
     },
     "execution_count": 35,
     "metadata": {},
     "output_type": "execute_result"
    }
   ],
   "source": [
    "coll.update_one({\"name\":\"Ankush\"},{\"$set\":{\"loc\":\"amravati\"}})"
   ]
  },
  {
   "cell_type": "code",
   "execution_count": null,
   "id": "28a3ef22",
   "metadata": {},
   "outputs": [],
   "source": []
  },
  {
   "cell_type": "markdown",
   "id": "5a1209f2",
   "metadata": {},
   "source": [
    "#### update_many({where condition},{\"$set\":{\"key\":value})"
   ]
  },
  {
   "cell_type": "code",
   "execution_count": 36,
   "id": "f4a3196f",
   "metadata": {},
   "outputs": [
    {
     "data": {
      "text/plain": [
       "<pymongo.results.UpdateResult at 0x1a10993fbe0>"
      ]
     },
     "execution_count": 36,
     "metadata": {},
     "output_type": "execute_result"
    }
   ],
   "source": [
    "coll.update_many({\"name\":\"ritik\"},{\"$set\":{\"name\":\"krrish\"}})"
   ]
  },
  {
   "cell_type": "code",
   "execution_count": 37,
   "id": "98272d73",
   "metadata": {},
   "outputs": [
    {
     "data": {
      "text/plain": [
       "<pymongo.results.UpdateResult at 0x1a109df5420>"
      ]
     },
     "execution_count": 37,
     "metadata": {},
     "output_type": "execute_result"
    }
   ],
   "source": [
    "coll.update_many({\"roll_no\":106},{\"$set\":{\"cgpa\":7}})"
   ]
  },
  {
   "cell_type": "code",
   "execution_count": 38,
   "id": "5377e9ec",
   "metadata": {},
   "outputs": [
    {
     "data": {
      "text/plain": [
       "<pymongo.results.UpdateResult at 0x1a10a870190>"
      ]
     },
     "execution_count": 38,
     "metadata": {},
     "output_type": "execute_result"
    }
   ],
   "source": [
    "coll.update_many({\"roll_no\":101},{\"$set\":{\"branch\":\"comp\"}})"
   ]
  },
  {
   "cell_type": "markdown",
   "id": "64787f61",
   "metadata": {},
   "source": [
    "### sorting a data"
   ]
  },
  {
   "cell_type": "code",
   "execution_count": 40,
   "id": "4acc6455",
   "metadata": {},
   "outputs": [
    {
     "data": {
      "text/plain": [
       "[{},\n",
       " {},\n",
       " {},\n",
       " {},\n",
       " {},\n",
       " {},\n",
       " {'roll_no': 107, 'name': 'sanket', 'cgpa': 5, 'loc': 'dhule'},\n",
       " {'roll_no': 107, 'name': 'sanket', 'cgpa': 5, 'loc': 'dhule'},\n",
       " {'roll_no': 107, 'name': 'sanket', 'cgpa': 5, 'loc': 'dhule'},\n",
       " {'roll_no': 103,\n",
       "  'name': 'Ankush',\n",
       "  'cgpa': 6,\n",
       "  'loc': 'amravati',\n",
       "  'contact': {'MobNo': 8055354248, 'email': 'exaple@gmail.com'},\n",
       "  'designation': 'Engineer'},\n",
       " {'roll_no': 104,\n",
       "  'name': 'shubham',\n",
       "  'cgpa': 6,\n",
       "  'loc': 'mumbai',\n",
       "  'contact': {'MobNo': 9764224809, 'Email': 'Example123@gmail.com'}},\n",
       " {'roll_no': 104, 'name': 'shubham', 'cgpa': 6, 'loc': 'mumbai'},\n",
       " {'roll_no': 103,\n",
       "  'name': 'Ankush',\n",
       "  'cgpa': 6,\n",
       "  'loc': 'nagpur',\n",
       "  'contact': {'MobNo': 8055354248, 'email': 'exaple@gmail.com'},\n",
       "  'designation': 'Engineer'},\n",
       " {'roll_no': 103,\n",
       "  'name': 'Ankush',\n",
       "  'cgpa': 6,\n",
       "  'loc': 'nagpur',\n",
       "  'contact': {'MobNo': 8055354248, 'email': 'exaple@gmail.com'},\n",
       "  'designation': 'Engineer'},\n",
       " {'roll_no': 104, 'name': 'shubham', 'cgpa': 6, 'loc': 'mumbai'},\n",
       " {'roll_no': 103,\n",
       "  'name': 'Ankush',\n",
       "  'cgpa': 6,\n",
       "  'loc': 'nagpur',\n",
       "  'contact': {'MobNo': 8055354248, 'email': 'exaple@gmail.com'},\n",
       "  'designation': 'Engineer'},\n",
       " {'roll_no': 104, 'name': 'shubham', 'cgpa': 6, 'loc': 'mumbai'},\n",
       " {'roll_no': 106, 'name': 'saniya', 'cgpa': 7, 'loc': 'akola'},\n",
       " {'roll_no': 106, 'name': 'saniya', 'cgpa': 7, 'loc': 'akola'},\n",
       " {'roll_no': 106, 'name': 'saniya', 'cgpa': 7, 'loc': 'akola'},\n",
       " {'roll_no': 102,\n",
       "  'name': 'sahil',\n",
       "  'cgpa': 8,\n",
       "  'loc': 'bangolore',\n",
       "  'contact': {'MobNo': 8055354248, 'email': 'exaple@gmail.com'}},\n",
       " {'roll_no': 105, 'name': 'krrish', 'cgpa': 8, 'loc': 'jaipur'},\n",
       " {'roll_no': 105, 'name': 'krrish', 'cgpa': 8, 'loc': 'jaipur'},\n",
       " {'roll_no': 102,\n",
       "  'name': 'sahil',\n",
       "  'cgpa': 8,\n",
       "  'loc': 'bangolore',\n",
       "  'contact': {'MobNo': 8055354248, 'email': 'exaple@gmail.com'}},\n",
       " {'roll_no': 105, 'name': 'krrish', 'cgpa': 8, 'loc': 'jaipur'},\n",
       " {'roll_no': 102,\n",
       "  'name': 'sahil',\n",
       "  'cgpa': 8,\n",
       "  'loc': 'bangolore',\n",
       "  'contact': {'MobNo': 8055354248, 'email': 'exaple@gmail.com'}},\n",
       " {'roll_no': 105, 'name': 'krrish', 'cgpa': 8, 'loc': 'jaipur'},\n",
       " {'roll_no': 55, 'name': 'rohit', 'cgpa': 9, 'loc': 'mumbai'},\n",
       " {'roll_no': 101, 'name': 'rohit', 'cgpa': 9, 'loc': 'pune', 'branch': 'comp'},\n",
       " {'roll_no': 101, 'name': 'rohit', 'cgpa': 9, 'loc': 'pune', 'branch': 'comp'},\n",
       " {'roll_no': 101, 'name': 'rohit', 'cgpa': 9, 'loc': 'pune', 'branch': 'comp'},\n",
       " {'roll_no': 101, 'name': 'rohit', 'cgpa': 9, 'loc': 'pune', 'branch': 'comp'},\n",
       " {'roll_no': 101, 'name': 'rohit', 'cgpa': 9, 'loc': 'pune', 'branch': 'comp'},\n",
       " {'roll_no': 101, 'name': 'rohit', 'cgpa': 9, 'loc': 'pune', 'branch': 'comp'}]"
      ]
     },
     "execution_count": 40,
     "metadata": {},
     "output_type": "execute_result"
    }
   ],
   "source": [
    "data = coll.find({},{\"_id\":0}).sort(\"cgpa\")\n",
    "list(data)"
   ]
  },
  {
   "cell_type": "code",
   "execution_count": null,
   "id": "5602aefb",
   "metadata": {},
   "outputs": [],
   "source": []
  },
  {
   "cell_type": "code",
   "execution_count": 42,
   "id": "238d1104",
   "metadata": {},
   "outputs": [
    {
     "data": {
      "text/plain": [
       "[{},\n",
       " {},\n",
       " {},\n",
       " {},\n",
       " {},\n",
       " {},\n",
       " {'roll_no': 103,\n",
       "  'name': 'Ankush',\n",
       "  'cgpa': 6,\n",
       "  'loc': 'amravati',\n",
       "  'contact': {'MobNo': 8055354248, 'email': 'exaple@gmail.com'},\n",
       "  'designation': 'Engineer'},\n",
       " {'roll_no': 103,\n",
       "  'name': 'Ankush',\n",
       "  'cgpa': 6,\n",
       "  'loc': 'nagpur',\n",
       "  'contact': {'MobNo': 8055354248, 'email': 'exaple@gmail.com'},\n",
       "  'designation': 'Engineer'},\n",
       " {'roll_no': 103,\n",
       "  'name': 'Ankush',\n",
       "  'cgpa': 6,\n",
       "  'loc': 'nagpur',\n",
       "  'contact': {'MobNo': 8055354248, 'email': 'exaple@gmail.com'},\n",
       "  'designation': 'Engineer'},\n",
       " {'roll_no': 103,\n",
       "  'name': 'Ankush',\n",
       "  'cgpa': 6,\n",
       "  'loc': 'nagpur',\n",
       "  'contact': {'MobNo': 8055354248, 'email': 'exaple@gmail.com'},\n",
       "  'designation': 'Engineer'},\n",
       " {'roll_no': 105, 'name': 'krrish', 'cgpa': 8, 'loc': 'jaipur'},\n",
       " {'roll_no': 105, 'name': 'krrish', 'cgpa': 8, 'loc': 'jaipur'},\n",
       " {'roll_no': 105, 'name': 'krrish', 'cgpa': 8, 'loc': 'jaipur'},\n",
       " {'roll_no': 105, 'name': 'krrish', 'cgpa': 8, 'loc': 'jaipur'},\n",
       " {'roll_no': 55, 'name': 'rohit', 'cgpa': 9, 'loc': 'mumbai'},\n",
       " {'roll_no': 101, 'name': 'rohit', 'cgpa': 9, 'loc': 'pune', 'branch': 'comp'},\n",
       " {'roll_no': 101, 'name': 'rohit', 'cgpa': 9, 'loc': 'pune', 'branch': 'comp'},\n",
       " {'roll_no': 101, 'name': 'rohit', 'cgpa': 9, 'loc': 'pune', 'branch': 'comp'},\n",
       " {'roll_no': 101, 'name': 'rohit', 'cgpa': 9, 'loc': 'pune', 'branch': 'comp'},\n",
       " {'roll_no': 101, 'name': 'rohit', 'cgpa': 9, 'loc': 'pune', 'branch': 'comp'},\n",
       " {'roll_no': 101, 'name': 'rohit', 'cgpa': 9, 'loc': 'pune', 'branch': 'comp'},\n",
       " {'roll_no': 102,\n",
       "  'name': 'sahil',\n",
       "  'cgpa': 8,\n",
       "  'loc': 'bangolore',\n",
       "  'contact': {'MobNo': 8055354248, 'email': 'exaple@gmail.com'}},\n",
       " {'roll_no': 102,\n",
       "  'name': 'sahil',\n",
       "  'cgpa': 8,\n",
       "  'loc': 'bangolore',\n",
       "  'contact': {'MobNo': 8055354248, 'email': 'exaple@gmail.com'}},\n",
       " {'roll_no': 102,\n",
       "  'name': 'sahil',\n",
       "  'cgpa': 8,\n",
       "  'loc': 'bangolore',\n",
       "  'contact': {'MobNo': 8055354248, 'email': 'exaple@gmail.com'}},\n",
       " {'roll_no': 106, 'name': 'saniya', 'cgpa': 7, 'loc': 'akola'},\n",
       " {'roll_no': 106, 'name': 'saniya', 'cgpa': 7, 'loc': 'akola'},\n",
       " {'roll_no': 106, 'name': 'saniya', 'cgpa': 7, 'loc': 'akola'},\n",
       " {'roll_no': 107, 'name': 'sanket', 'cgpa': 5, 'loc': 'dhule'},\n",
       " {'roll_no': 107, 'name': 'sanket', 'cgpa': 5, 'loc': 'dhule'},\n",
       " {'roll_no': 107, 'name': 'sanket', 'cgpa': 5, 'loc': 'dhule'},\n",
       " {'roll_no': 104,\n",
       "  'name': 'shubham',\n",
       "  'cgpa': 6,\n",
       "  'loc': 'mumbai',\n",
       "  'contact': {'MobNo': 9764224809, 'Email': 'Example123@gmail.com'}},\n",
       " {'roll_no': 104, 'name': 'shubham', 'cgpa': 6, 'loc': 'mumbai'},\n",
       " {'roll_no': 104, 'name': 'shubham', 'cgpa': 6, 'loc': 'mumbai'},\n",
       " {'roll_no': 104, 'name': 'shubham', 'cgpa': 6, 'loc': 'mumbai'}]"
      ]
     },
     "execution_count": 42,
     "metadata": {},
     "output_type": "execute_result"
    }
   ],
   "source": [
    "data = coll.find({},{\"_id\":0}).sort(\"name\")\n",
    "list(data)"
   ]
  },
  {
   "cell_type": "markdown",
   "id": "3b69a5c9",
   "metadata": {},
   "source": [
    "#### sort in descending order"
   ]
  },
  {
   "cell_type": "code",
   "execution_count": 45,
   "id": "1884b171",
   "metadata": {},
   "outputs": [
    {
     "data": {
      "text/plain": [
       "[{'roll_no': 55, 'name': 'rohit', 'cgpa': 9, 'loc': 'mumbai'},\n",
       " {'roll_no': 101, 'name': 'rohit', 'cgpa': 9, 'loc': 'pune', 'branch': 'comp'},\n",
       " {'roll_no': 101, 'name': 'rohit', 'cgpa': 9, 'loc': 'pune', 'branch': 'comp'},\n",
       " {'roll_no': 101, 'name': 'rohit', 'cgpa': 9, 'loc': 'pune', 'branch': 'comp'},\n",
       " {'roll_no': 101, 'name': 'rohit', 'cgpa': 9, 'loc': 'pune', 'branch': 'comp'},\n",
       " {'roll_no': 101, 'name': 'rohit', 'cgpa': 9, 'loc': 'pune', 'branch': 'comp'},\n",
       " {'roll_no': 101, 'name': 'rohit', 'cgpa': 9, 'loc': 'pune', 'branch': 'comp'},\n",
       " {'roll_no': 102,\n",
       "  'name': 'sahil',\n",
       "  'cgpa': 8,\n",
       "  'loc': 'bangolore',\n",
       "  'contact': {'MobNo': 8055354248, 'email': 'exaple@gmail.com'}},\n",
       " {'roll_no': 105, 'name': 'krrish', 'cgpa': 8, 'loc': 'jaipur'},\n",
       " {'roll_no': 105, 'name': 'krrish', 'cgpa': 8, 'loc': 'jaipur'},\n",
       " {'roll_no': 102,\n",
       "  'name': 'sahil',\n",
       "  'cgpa': 8,\n",
       "  'loc': 'bangolore',\n",
       "  'contact': {'MobNo': 8055354248, 'email': 'exaple@gmail.com'}},\n",
       " {'roll_no': 105, 'name': 'krrish', 'cgpa': 8, 'loc': 'jaipur'},\n",
       " {'roll_no': 102,\n",
       "  'name': 'sahil',\n",
       "  'cgpa': 8,\n",
       "  'loc': 'bangolore',\n",
       "  'contact': {'MobNo': 8055354248, 'email': 'exaple@gmail.com'}},\n",
       " {'roll_no': 105, 'name': 'krrish', 'cgpa': 8, 'loc': 'jaipur'},\n",
       " {'roll_no': 106, 'name': 'saniya', 'cgpa': 7, 'loc': 'akola'},\n",
       " {'roll_no': 106, 'name': 'saniya', 'cgpa': 7, 'loc': 'akola'},\n",
       " {'roll_no': 106, 'name': 'saniya', 'cgpa': 7, 'loc': 'akola'},\n",
       " {'roll_no': 103,\n",
       "  'name': 'Ankush',\n",
       "  'cgpa': 6,\n",
       "  'loc': 'amravati',\n",
       "  'contact': {'MobNo': 8055354248, 'email': 'exaple@gmail.com'},\n",
       "  'designation': 'Engineer'},\n",
       " {'roll_no': 104,\n",
       "  'name': 'shubham',\n",
       "  'cgpa': 6,\n",
       "  'loc': 'mumbai',\n",
       "  'contact': {'MobNo': 9764224809, 'Email': 'Example123@gmail.com'}},\n",
       " {'roll_no': 104, 'name': 'shubham', 'cgpa': 6, 'loc': 'mumbai'},\n",
       " {'roll_no': 103,\n",
       "  'name': 'Ankush',\n",
       "  'cgpa': 6,\n",
       "  'loc': 'nagpur',\n",
       "  'contact': {'MobNo': 8055354248, 'email': 'exaple@gmail.com'},\n",
       "  'designation': 'Engineer'},\n",
       " {'roll_no': 103,\n",
       "  'name': 'Ankush',\n",
       "  'cgpa': 6,\n",
       "  'loc': 'nagpur',\n",
       "  'contact': {'MobNo': 8055354248, 'email': 'exaple@gmail.com'},\n",
       "  'designation': 'Engineer'},\n",
       " {'roll_no': 104, 'name': 'shubham', 'cgpa': 6, 'loc': 'mumbai'},\n",
       " {'roll_no': 103,\n",
       "  'name': 'Ankush',\n",
       "  'cgpa': 6,\n",
       "  'loc': 'nagpur',\n",
       "  'contact': {'MobNo': 8055354248, 'email': 'exaple@gmail.com'},\n",
       "  'designation': 'Engineer'},\n",
       " {'roll_no': 104, 'name': 'shubham', 'cgpa': 6, 'loc': 'mumbai'},\n",
       " {'roll_no': 107, 'name': 'sanket', 'cgpa': 5, 'loc': 'dhule'},\n",
       " {'roll_no': 107, 'name': 'sanket', 'cgpa': 5, 'loc': 'dhule'},\n",
       " {'roll_no': 107, 'name': 'sanket', 'cgpa': 5, 'loc': 'dhule'},\n",
       " {},\n",
       " {},\n",
       " {},\n",
       " {},\n",
       " {},\n",
       " {}]"
      ]
     },
     "execution_count": 45,
     "metadata": {},
     "output_type": "execute_result"
    }
   ],
   "source": [
    "data = coll.find({},{\"_id\":0}).sort(\"cgpa\",-1)\n",
    "list(data)"
   ]
  },
  {
   "cell_type": "code",
   "execution_count": 47,
   "id": "c338131d",
   "metadata": {},
   "outputs": [
    {
     "data": {
      "text/plain": [
       "[{},\n",
       " {},\n",
       " {},\n",
       " {},\n",
       " {'roll_no': 107, 'name': 'sanket', 'cgpa': 5, 'loc': 'dhule'},\n",
       " {'roll_no': 107, 'name': 'sanket', 'cgpa': 5, 'loc': 'dhule'},\n",
       " {'roll_no': 107, 'name': 'sanket', 'cgpa': 5, 'loc': 'dhule'},\n",
       " {'roll_no': 103,\n",
       "  'name': 'Ankush',\n",
       "  'cgpa': 6,\n",
       "  'loc': 'amravati',\n",
       "  'contact': {'MobNo': 8055354248, 'email': 'exaple@gmail.com'},\n",
       "  'designation': 'Engineer'},\n",
       " {'roll_no': 104,\n",
       "  'name': 'shubham',\n",
       "  'cgpa': 6,\n",
       "  'loc': 'mumbai',\n",
       "  'contact': {'MobNo': 9764224809, 'Email': 'Example123@gmail.com'}},\n",
       " {'roll_no': 104, 'name': 'shubham', 'cgpa': 6, 'loc': 'mumbai'},\n",
       " {'roll_no': 103,\n",
       "  'name': 'Ankush',\n",
       "  'cgpa': 6,\n",
       "  'loc': 'nagpur',\n",
       "  'contact': {'MobNo': 8055354248, 'email': 'exaple@gmail.com'},\n",
       "  'designation': 'Engineer'},\n",
       " {'roll_no': 103,\n",
       "  'name': 'Ankush',\n",
       "  'cgpa': 6,\n",
       "  'loc': 'nagpur',\n",
       "  'contact': {'MobNo': 8055354248, 'email': 'exaple@gmail.com'},\n",
       "  'designation': 'Engineer'},\n",
       " {'roll_no': 104, 'name': 'shubham', 'cgpa': 6, 'loc': 'mumbai'},\n",
       " {'roll_no': 103,\n",
       "  'name': 'Ankush',\n",
       "  'cgpa': 6,\n",
       "  'loc': 'nagpur',\n",
       "  'contact': {'MobNo': 8055354248, 'email': 'exaple@gmail.com'},\n",
       "  'designation': 'Engineer'},\n",
       " {'roll_no': 104, 'name': 'shubham', 'cgpa': 6, 'loc': 'mumbai'},\n",
       " {'roll_no': 106, 'name': 'saniya', 'cgpa': 7, 'loc': 'akola'},\n",
       " {'roll_no': 106, 'name': 'saniya', 'cgpa': 7, 'loc': 'akola'},\n",
       " {'roll_no': 106, 'name': 'saniya', 'cgpa': 7, 'loc': 'akola'},\n",
       " {'roll_no': 102,\n",
       "  'name': 'sahil',\n",
       "  'cgpa': 8,\n",
       "  'loc': 'bangolore',\n",
       "  'contact': {'MobNo': 8055354248, 'email': 'exaple@gmail.com'}},\n",
       " {'roll_no': 105, 'name': 'krrish', 'cgpa': 8, 'loc': 'jaipur'},\n",
       " {'roll_no': 105, 'name': 'krrish', 'cgpa': 8, 'loc': 'jaipur'},\n",
       " {'roll_no': 102,\n",
       "  'name': 'sahil',\n",
       "  'cgpa': 8,\n",
       "  'loc': 'bangolore',\n",
       "  'contact': {'MobNo': 8055354248, 'email': 'exaple@gmail.com'}},\n",
       " {'roll_no': 105, 'name': 'krrish', 'cgpa': 8, 'loc': 'jaipur'},\n",
       " {'roll_no': 102,\n",
       "  'name': 'sahil',\n",
       "  'cgpa': 8,\n",
       "  'loc': 'bangolore',\n",
       "  'contact': {'MobNo': 8055354248, 'email': 'exaple@gmail.com'}},\n",
       " {'roll_no': 105, 'name': 'krrish', 'cgpa': 8, 'loc': 'jaipur'},\n",
       " {'roll_no': 55, 'name': 'rohit', 'cgpa': 9, 'loc': 'mumbai'},\n",
       " {'roll_no': 101, 'name': 'rohit', 'cgpa': 9, 'loc': 'pune', 'branch': 'comp'},\n",
       " {'roll_no': 101, 'name': 'rohit', 'cgpa': 9, 'loc': 'pune', 'branch': 'comp'},\n",
       " {'roll_no': 101, 'name': 'rohit', 'cgpa': 9, 'loc': 'pune', 'branch': 'comp'},\n",
       " {'roll_no': 101, 'name': 'rohit', 'cgpa': 9, 'loc': 'pune', 'branch': 'comp'},\n",
       " {'roll_no': 101, 'name': 'rohit', 'cgpa': 9, 'loc': 'pune', 'branch': 'comp'},\n",
       " {'roll_no': 101, 'name': 'rohit', 'cgpa': 9, 'loc': 'pune', 'branch': 'comp'}]"
      ]
     },
     "execution_count": 47,
     "metadata": {},
     "output_type": "execute_result"
    }
   ],
   "source": [
    "data = coll.find({},{\"_id\":0}).sort(\"cgpa\").skip(2)\n",
    "list(data)"
   ]
  },
  {
   "cell_type": "markdown",
   "id": "f87d02dc",
   "metadata": {},
   "source": [
    "## deleting data from mongoDB"
   ]
  },
  {
   "cell_type": "raw",
   "id": "85066ab7",
   "metadata": {},
   "source": [
    "1. delete_one() :- it will delete the single document from the collection\n",
    "2. delete_many() :- it will delete the all matched documents from the collection"
   ]
  },
  {
   "cell_type": "markdown",
   "id": "4afa7b56",
   "metadata": {},
   "source": [
    "### 3. delete_one({})"
   ]
  },
  {
   "cell_type": "code",
   "execution_count": 50,
   "id": "47b328f0",
   "metadata": {},
   "outputs": [
    {
     "data": {
      "text/plain": [
       "<pymongo.results.DeleteResult at 0x1a10b296c20>"
      ]
     },
     "execution_count": 50,
     "metadata": {},
     "output_type": "execute_result"
    }
   ],
   "source": [
    "coll.delete_one({})"
   ]
  },
  {
   "cell_type": "code",
   "execution_count": 51,
   "id": "449f976b",
   "metadata": {},
   "outputs": [
    {
     "data": {
      "text/plain": [
       "<pymongo.results.DeleteResult at 0x1a10b086710>"
      ]
     },
     "execution_count": 51,
     "metadata": {},
     "output_type": "execute_result"
    }
   ],
   "source": [
    "coll.delete_one({\"roll_no\":101})"
   ]
  },
  {
   "cell_type": "code",
   "execution_count": 52,
   "id": "8f602102",
   "metadata": {},
   "outputs": [
    {
     "data": {
      "text/plain": [
       "<pymongo.results.DeleteResult at 0x1a109d47e50>"
      ]
     },
     "execution_count": 52,
     "metadata": {},
     "output_type": "execute_result"
    }
   ],
   "source": [
    "coll.delete_one({\"roll_no\":105})"
   ]
  },
  {
   "cell_type": "markdown",
   "id": "06508d1b",
   "metadata": {},
   "source": [
    "### 3.1 delete_many({})"
   ]
  },
  {
   "cell_type": "code",
   "execution_count": 53,
   "id": "733b2ca2",
   "metadata": {},
   "outputs": [
    {
     "data": {
      "text/plain": [
       "<pymongo.results.DeleteResult at 0x1a10b188c40>"
      ]
     },
     "execution_count": 53,
     "metadata": {},
     "output_type": "execute_result"
    }
   ],
   "source": [
    "coll.delete_many({\"loc\":\"jaipur\"})"
   ]
  },
  {
   "cell_type": "code",
   "execution_count": 54,
   "id": "d19762ed",
   "metadata": {},
   "outputs": [
    {
     "data": {
      "text/plain": [
       "<pymongo.results.DeleteResult at 0x1a10ae6a560>"
      ]
     },
     "execution_count": 54,
     "metadata": {},
     "output_type": "execute_result"
    }
   ],
   "source": [
    "coll.delete_many({\"cgpa\":6})"
   ]
  },
  {
   "cell_type": "code",
   "execution_count": 55,
   "id": "598d3cd8",
   "metadata": {},
   "outputs": [
    {
     "data": {
      "text/plain": [
       "<pymongo.results.DeleteResult at 0x1a10b0e9b10>"
      ]
     },
     "execution_count": 55,
     "metadata": {},
     "output_type": "execute_result"
    }
   ],
   "source": [
    "coll.delete_many({})"
   ]
  },
  {
   "cell_type": "markdown",
   "id": "78a0da0c",
   "metadata": {},
   "source": [
    "## drop  collection "
   ]
  },
  {
   "cell_type": "raw",
   "id": "c88247f0",
   "metadata": {},
   "source": [
    "collection_name.drop()"
   ]
  },
  {
   "cell_type": "code",
   "execution_count": 57,
   "id": "b2e492a8",
   "metadata": {},
   "outputs": [],
   "source": [
    "coll.drop()"
   ]
  },
  {
   "cell_type": "markdown",
   "id": "59eea5d3",
   "metadata": {},
   "source": [
    "## drop database"
   ]
  },
  {
   "cell_type": "raw",
   "id": "9a9feace",
   "metadata": {},
   "source": [
    "client_name.drop()"
   ]
  },
  {
   "cell_type": "code",
   "execution_count": 59,
   "id": "a8bcf61c",
   "metadata": {},
   "outputs": [],
   "source": [
    "client.drop_database(\"Engg_Data\")"
   ]
  },
  {
   "cell_type": "code",
   "execution_count": null,
   "id": "5e757dea",
   "metadata": {},
   "outputs": [],
   "source": []
  },
  {
   "cell_type": "markdown",
   "id": "5b036440",
   "metadata": {},
   "source": [
    "## import csv file into mongodb database "
   ]
  },
  {
   "cell_type": "code",
   "execution_count": 63,
   "id": "39e691cd",
   "metadata": {},
   "outputs": [
    {
     "name": "stderr",
     "output_type": "stream",
     "text": [
      "C:\\Users\\yashd\\AppData\\Local\\Temp\\ipykernel_5632\\2361903296.py:2: FutureWarning: Using short name for 'orient' is deprecated. Only the options: ('dict', list, 'series', 'split', 'records', 'index') will be used in a future version. Use one of the above to silence this warning.\n",
      "  df = data.to_dict(orient=\"record\")\n"
     ]
    },
    {
     "data": {
      "text/plain": [
       "<pymongo.results.InsertManyResult at 0x1a10fcbdcc0>"
      ]
     },
     "execution_count": 63,
     "metadata": {},
     "output_type": "execute_result"
    }
   ],
   "source": [
    "data = pd.read_csv(\"emp.csv\")\n",
    "df = data.to_dict(orient=\"record\")\n",
    "db = client[\"test_db\"]\n",
    "db.emp_data.insert_many(df)"
   ]
  },
  {
   "cell_type": "code",
   "execution_count": 64,
   "id": "6914fd2b",
   "metadata": {},
   "outputs": [
    {
     "name": "stderr",
     "output_type": "stream",
     "text": [
      "C:\\Users\\yashd\\AppData\\Local\\Temp\\ipykernel_5632\\3021626208.py:2: FutureWarning: Using short name for 'orient' is deprecated. Only the options: ('dict', list, 'series', 'split', 'records', 'index') will be used in a future version. Use one of the above to silence this warning.\n",
      "  df = data.to_dict(orient=\"record\")\n"
     ]
    },
    {
     "data": {
      "text/plain": [
       "<pymongo.results.InsertManyResult at 0x1a1102d5330>"
      ]
     },
     "execution_count": 64,
     "metadata": {},
     "output_type": "execute_result"
    }
   ],
   "source": [
    "data = pd.read_csv(\"Iris.csv\")\n",
    "df = data.to_dict(orient=\"record\")\n",
    "db_iris = client[\"test\"]\n",
    "db_iris.irish.insert_many(df)"
   ]
  },
  {
   "cell_type": "code",
   "execution_count": 66,
   "id": "5b0cee01",
   "metadata": {},
   "outputs": [
    {
     "name": "stderr",
     "output_type": "stream",
     "text": [
      "C:\\Users\\yashd\\AppData\\Local\\Temp\\ipykernel_5632\\220359928.py:2: FutureWarning: Using short name for 'orient' is deprecated. Only the options: ('dict', list, 'series', 'split', 'records', 'index') will be used in a future version. Use one of the above to silence this warning.\n",
      "  df = dataa.to_dict(orient=\"record\")\n"
     ]
    },
    {
     "data": {
      "text/plain": [
       "<pymongo.results.InsertManyResult at 0x1a110478190>"
      ]
     },
     "execution_count": 66,
     "metadata": {},
     "output_type": "execute_result"
    }
   ],
   "source": [
    "dataa = pd.read_csv(\"advertising.csv\")\n",
    "df = dataa.to_dict(orient=\"record\")\n",
    "database = client[\"advertise\"]\n",
    "database.advertisement.insert_many(df)"
   ]
  },
  {
   "cell_type": "markdown",
   "id": "9199a222",
   "metadata": {},
   "source": [
    "### import json file into mongo collection"
   ]
  },
  {
   "cell_type": "code",
   "execution_count": 71,
   "id": "630a8665",
   "metadata": {},
   "outputs": [],
   "source": [
    "import json"
   ]
  },
  {
   "cell_type": "code",
   "execution_count": 72,
   "id": "ab0f8639",
   "metadata": {},
   "outputs": [
    {
     "data": {
      "text/plain": [
       "<pymongo.results.InsertManyResult at 0x1a1104b3340>"
      ]
     },
     "execution_count": 72,
     "metadata": {},
     "output_type": "execute_result"
    }
   ],
   "source": [
    "file = open(\"iris.json\")\n",
    "data = json.load(file)\n",
    "db.iris.insert_many(data)"
   ]
  },
  {
   "cell_type": "code",
   "execution_count": 73,
   "id": "bdad7aa4",
   "metadata": {},
   "outputs": [
    {
     "data": {
      "text/plain": [
       "<pymongo.results.InsertManyResult at 0x1a1103efca0>"
      ]
     },
     "execution_count": 73,
     "metadata": {},
     "output_type": "execute_result"
    }
   ],
   "source": [
    "file = open(\"iris.json\")\n",
    "df = json.load(file)\n",
    "database.iris.insert_many(df)"
   ]
  },
  {
   "cell_type": "code",
   "execution_count": 74,
   "id": "a46f97de",
   "metadata": {},
   "outputs": [
    {
     "data": {
      "text/plain": [
       "<pymongo.results.InsertManyResult at 0x1a10ffaba30>"
      ]
     },
     "execution_count": 74,
     "metadata": {},
     "output_type": "execute_result"
    }
   ],
   "source": [
    "f1 = open(\"iris.json\")\n",
    "df = json.load(f1)\n",
    "db_iris.iris.insert_many(df)"
   ]
  },
  {
   "cell_type": "markdown",
   "id": "7a57d425",
   "metadata": {},
   "source": [
    "## export collection into dataframe"
   ]
  },
  {
   "cell_type": "code",
   "execution_count": 84,
   "id": "fae535d9",
   "metadata": {},
   "outputs": [
    {
     "data": {
      "text/html": [
       "<div>\n",
       "<style scoped>\n",
       "    .dataframe tbody tr th:only-of-type {\n",
       "        vertical-align: middle;\n",
       "    }\n",
       "\n",
       "    .dataframe tbody tr th {\n",
       "        vertical-align: top;\n",
       "    }\n",
       "\n",
       "    .dataframe thead th {\n",
       "        text-align: right;\n",
       "    }\n",
       "</style>\n",
       "<table border=\"1\" class=\"dataframe\">\n",
       "  <thead>\n",
       "    <tr style=\"text-align: right;\">\n",
       "      <th></th>\n",
       "      <th>_id</th>\n",
       "      <th>emp_ID</th>\n",
       "      <th>emp_NAME</th>\n",
       "      <th>DEPT_NAME</th>\n",
       "      <th>SALARY</th>\n",
       "    </tr>\n",
       "  </thead>\n",
       "  <tbody>\n",
       "    <tr>\n",
       "      <th>0</th>\n",
       "      <td>63a318b9fe4ffbf6160e158f</td>\n",
       "      <td>101</td>\n",
       "      <td>Mohan</td>\n",
       "      <td>Admin</td>\n",
       "      <td>4000</td>\n",
       "    </tr>\n",
       "    <tr>\n",
       "      <th>1</th>\n",
       "      <td>63a318b9fe4ffbf6160e1590</td>\n",
       "      <td>102</td>\n",
       "      <td>rahul</td>\n",
       "      <td>HR</td>\n",
       "      <td>3000</td>\n",
       "    </tr>\n",
       "    <tr>\n",
       "      <th>2</th>\n",
       "      <td>63a318b9fe4ffbf6160e1591</td>\n",
       "      <td>103</td>\n",
       "      <td>Akbar</td>\n",
       "      <td>IT</td>\n",
       "      <td>4000</td>\n",
       "    </tr>\n",
       "    <tr>\n",
       "      <th>3</th>\n",
       "      <td>63a318b9fe4ffbf6160e1592</td>\n",
       "      <td>104</td>\n",
       "      <td>Dorvin</td>\n",
       "      <td>Finance</td>\n",
       "      <td>6500</td>\n",
       "    </tr>\n",
       "    <tr>\n",
       "      <th>4</th>\n",
       "      <td>63a318b9fe4ffbf6160e1593</td>\n",
       "      <td>105</td>\n",
       "      <td>Rohit</td>\n",
       "      <td>HR</td>\n",
       "      <td>3000</td>\n",
       "    </tr>\n",
       "  </tbody>\n",
       "</table>\n",
       "</div>"
      ],
      "text/plain": [
       "                        _id  emp_ID emp_NAME DEPT_NAME  SALARY\n",
       "0  63a318b9fe4ffbf6160e158f     101    Mohan     Admin    4000\n",
       "1  63a318b9fe4ffbf6160e1590     102    rahul        HR    3000\n",
       "2  63a318b9fe4ffbf6160e1591     103    Akbar        IT    4000\n",
       "3  63a318b9fe4ffbf6160e1592     104   Dorvin   Finance    6500\n",
       "4  63a318b9fe4ffbf6160e1593     105    Rohit        HR    3000"
      ]
     },
     "execution_count": 84,
     "metadata": {},
     "output_type": "execute_result"
    }
   ],
   "source": [
    "data = db.emp_data.find({})\n",
    "df = list(data)\n",
    "df = pd.DataFrame(df)\n",
    "df.head()"
   ]
  },
  {
   "cell_type": "code",
   "execution_count": 81,
   "id": "6478ce30",
   "metadata": {},
   "outputs": [
    {
     "data": {
      "text/plain": [
       "['iris', 'emp_data']"
      ]
     },
     "execution_count": 81,
     "metadata": {},
     "output_type": "execute_result"
    }
   ],
   "source": [
    "db.list_collection_names()"
   ]
  },
  {
   "cell_type": "code",
   "execution_count": 89,
   "id": "63ca83bf",
   "metadata": {},
   "outputs": [
    {
     "data": {
      "text/html": [
       "<div>\n",
       "<style scoped>\n",
       "    .dataframe tbody tr th:only-of-type {\n",
       "        vertical-align: middle;\n",
       "    }\n",
       "\n",
       "    .dataframe tbody tr th {\n",
       "        vertical-align: top;\n",
       "    }\n",
       "\n",
       "    .dataframe thead th {\n",
       "        text-align: right;\n",
       "    }\n",
       "</style>\n",
       "<table border=\"1\" class=\"dataframe\">\n",
       "  <thead>\n",
       "    <tr style=\"text-align: right;\">\n",
       "      <th></th>\n",
       "      <th>emp_ID</th>\n",
       "      <th>emp_NAME</th>\n",
       "      <th>DEPT_NAME</th>\n",
       "      <th>SALARY</th>\n",
       "    </tr>\n",
       "  </thead>\n",
       "  <tbody>\n",
       "    <tr>\n",
       "      <th>0</th>\n",
       "      <td>101</td>\n",
       "      <td>Mohan</td>\n",
       "      <td>Admin</td>\n",
       "      <td>4000</td>\n",
       "    </tr>\n",
       "    <tr>\n",
       "      <th>1</th>\n",
       "      <td>102</td>\n",
       "      <td>rahul</td>\n",
       "      <td>HR</td>\n",
       "      <td>3000</td>\n",
       "    </tr>\n",
       "    <tr>\n",
       "      <th>2</th>\n",
       "      <td>103</td>\n",
       "      <td>Akbar</td>\n",
       "      <td>IT</td>\n",
       "      <td>4000</td>\n",
       "    </tr>\n",
       "    <tr>\n",
       "      <th>3</th>\n",
       "      <td>104</td>\n",
       "      <td>Dorvin</td>\n",
       "      <td>Finance</td>\n",
       "      <td>6500</td>\n",
       "    </tr>\n",
       "    <tr>\n",
       "      <th>4</th>\n",
       "      <td>105</td>\n",
       "      <td>Rohit</td>\n",
       "      <td>HR</td>\n",
       "      <td>3000</td>\n",
       "    </tr>\n",
       "  </tbody>\n",
       "</table>\n",
       "</div>"
      ],
      "text/plain": [
       "   emp_ID emp_NAME DEPT_NAME  SALARY\n",
       "0     101    Mohan     Admin    4000\n",
       "1     102    rahul        HR    3000\n",
       "2     103    Akbar        IT    4000\n",
       "3     104   Dorvin   Finance    6500\n",
       "4     105    Rohit        HR    3000"
      ]
     },
     "execution_count": 89,
     "metadata": {},
     "output_type": "execute_result"
    }
   ],
   "source": [
    "data = db.emp_data.find({},{\"_id\":0})\n",
    "df = list(data)\n",
    "df = pd.DataFrame(df)\n",
    "df.head()"
   ]
  },
  {
   "cell_type": "code",
   "execution_count": null,
   "id": "e11b81fa",
   "metadata": {},
   "outputs": [],
   "source": []
  }
 ],
 "metadata": {
  "kernelspec": {
   "display_name": "Python 3 (ipykernel)",
   "language": "python",
   "name": "python3"
  },
  "language_info": {
   "codemirror_mode": {
    "name": "ipython",
    "version": 3
   },
   "file_extension": ".py",
   "mimetype": "text/x-python",
   "name": "python",
   "nbconvert_exporter": "python",
   "pygments_lexer": "ipython3",
   "version": "3.10.8"
  }
 },
 "nbformat": 4,
 "nbformat_minor": 5
}
