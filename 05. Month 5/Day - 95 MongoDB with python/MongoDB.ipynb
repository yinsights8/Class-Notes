{
 "cells": [
  {
   "cell_type": "markdown",
   "id": "3230720c",
   "metadata": {},
   "source": [
    "Mysql :\n",
    "\n",
    "workbench/jupyter notebook\n",
    "relational database\n",
    "structured data\n",
    "tables"
   ]
  },
  {
   "cell_type": "markdown",
   "id": "2987bcfc",
   "metadata": {},
   "source": [
    "MongoDB:\n",
    "compass/jupyter notebook\n",
    "non relational database\n",
    "unstructured data\n",
    "json >> dictionary >> key : value"
   ]
  },
  {
   "cell_type": "code",
   "execution_count": null,
   "id": "48383d39",
   "metadata": {},
   "outputs": [],
   "source": [
    "emp :\n",
    "    empid,empname,salary, loc   contact\n",
    "    1001. rohit.  80000.  pune  null\n",
    "    1002. snehal. 90000.  pune. 8983720070\n",
    "    1003  dhiraj  '70000' pune. no field\n",
    "    1004  neha.   60000.  pune. mobno/email\n",
    "    "
   ]
  },
  {
   "cell_type": "code",
   "execution_count": null,
   "id": "4446993b",
   "metadata": {},
   "outputs": [],
   "source": [
    "{contact:{'mobno':value,'email':value}}"
   ]
  },
  {
   "cell_type": "code",
   "execution_count": null,
   "id": "ec7606cf",
   "metadata": {},
   "outputs": [],
   "source": [
    "mysql      == mongodb\n",
    "database   == database\n",
    "tables     == collection\n",
    "rows.      == document\n",
    "columns.   == keys"
   ]
  },
  {
   "cell_type": "markdown",
   "id": "b9d0b7e2",
   "metadata": {},
   "source": [
    "### import libraries"
   ]
  },
  {
   "cell_type": "code",
   "execution_count": 1,
   "id": "d63d38ef",
   "metadata": {},
   "outputs": [],
   "source": [
    "import pymongo\n",
    "import pandas as pd"
   ]
  },
  {
   "cell_type": "markdown",
   "id": "39968db6",
   "metadata": {},
   "source": [
    "### create connection"
   ]
  },
  {
   "cell_type": "code",
   "execution_count": 2,
   "id": "8e161ed5",
   "metadata": {},
   "outputs": [
    {
     "data": {
      "text/plain": [
       "MongoClient(host=['localhost:27017'], document_class=dict, tz_aware=False, connect=True)"
      ]
     },
     "execution_count": 2,
     "metadata": {},
     "output_type": "execute_result"
    }
   ],
   "source": [
    "client=pymongo.MongoClient('mongodb://localhost:27017')\n",
    "client"
   ]
  },
  {
   "cell_type": "markdown",
   "id": "3e867836",
   "metadata": {},
   "source": [
    "### operations"
   ]
  },
  {
   "cell_type": "code",
   "execution_count": null,
   "id": "d8057a2d",
   "metadata": {},
   "outputs": [],
   "source": [
    "1. create database\n",
    "2. create collection\n",
    "3. insert data\n",
    "4. read data\n",
    "5. update data\n",
    "6. delete data"
   ]
  },
  {
   "cell_type": "code",
   "execution_count": null,
   "id": "72e10359",
   "metadata": {},
   "outputs": [],
   "source": [
    "databases >> database >> collections >> documents >> key: value"
   ]
  },
  {
   "cell_type": "markdown",
   "id": "317c70cf",
   "metadata": {},
   "source": [
    "### 1. create database/use database"
   ]
  },
  {
   "cell_type": "code",
   "execution_count": 60,
   "id": "20d393cf",
   "metadata": {},
   "outputs": [
    {
     "data": {
      "text/plain": [
       "Database(MongoClient(host=['localhost:27017'], document_class=dict, tz_aware=False, connect=True), 'engg_data')"
      ]
     },
     "execution_count": 60,
     "metadata": {},
     "output_type": "execute_result"
    }
   ],
   "source": [
    "db=client['engg_data']\n",
    "db"
   ]
  },
  {
   "cell_type": "code",
   "execution_count": 5,
   "id": "02854b60",
   "metadata": {},
   "outputs": [
    {
     "data": {
      "text/plain": [
       "['admin', 'config', 'emp', 'local']"
      ]
     },
     "execution_count": 5,
     "metadata": {},
     "output_type": "execute_result"
    }
   ],
   "source": [
    "client.list_database_names()"
   ]
  },
  {
   "cell_type": "markdown",
   "id": "6d3bbd58",
   "metadata": {},
   "source": [
    "### 2. create collection"
   ]
  },
  {
   "cell_type": "code",
   "execution_count": 61,
   "id": "0f8f6d86",
   "metadata": {},
   "outputs": [
    {
     "data": {
      "text/plain": [
       "Collection(Database(MongoClient(host=['localhost:27017'], document_class=dict, tz_aware=False, connect=True), 'engg_data'), 'student')"
      ]
     },
     "execution_count": 61,
     "metadata": {},
     "output_type": "execute_result"
    }
   ],
   "source": [
    "coll=db['student']\n",
    "coll"
   ]
  },
  {
   "cell_type": "code",
   "execution_count": 7,
   "id": "b93968cd",
   "metadata": {},
   "outputs": [
    {
     "data": {
      "text/plain": [
       "[]"
      ]
     },
     "execution_count": 7,
     "metadata": {},
     "output_type": "execute_result"
    }
   ],
   "source": [
    "db.list_collection_names()"
   ]
  },
  {
   "cell_type": "markdown",
   "id": "8686cdfb",
   "metadata": {},
   "source": [
    "### 3. insert document"
   ]
  },
  {
   "cell_type": "code",
   "execution_count": null,
   "id": "f2c764ce",
   "metadata": {},
   "outputs": [],
   "source": [
    "insert_one() : insert a single document\n",
    "insert_many(): insert multiple documents"
   ]
  },
  {
   "cell_type": "markdown",
   "id": "b766d657",
   "metadata": {},
   "source": [
    "#### 1. insert_one()"
   ]
  },
  {
   "cell_type": "code",
   "execution_count": null,
   "id": "08bec247",
   "metadata": {},
   "outputs": [],
   "source": [
    "collection_name.insert_one({key:value})"
   ]
  },
  {
   "cell_type": "code",
   "execution_count": 62,
   "id": "db5413c2",
   "metadata": {},
   "outputs": [
    {
     "data": {
      "text/plain": [
       "<pymongo.results.InsertOneResult at 0x150db3d30>"
      ]
     },
     "execution_count": 62,
     "metadata": {},
     "output_type": "execute_result"
    }
   ],
   "source": [
    "coll.insert_one({'rollno':101,'stud_name':'rohit','cgpa':9,'loc':'pune'})"
   ]
  },
  {
   "cell_type": "code",
   "execution_count": 9,
   "id": "277899dc",
   "metadata": {},
   "outputs": [
    {
     "data": {
      "text/plain": [
       "['student']"
      ]
     },
     "execution_count": 9,
     "metadata": {},
     "output_type": "execute_result"
    }
   ],
   "source": [
    "db.list_collection_names()"
   ]
  },
  {
   "cell_type": "code",
   "execution_count": 10,
   "id": "df1b4a73",
   "metadata": {},
   "outputs": [
    {
     "data": {
      "text/plain": [
       "['admin', 'config', 'emp', 'engg_data', 'local']"
      ]
     },
     "execution_count": 10,
     "metadata": {},
     "output_type": "execute_result"
    }
   ],
   "source": [
    "client.list_database_names()"
   ]
  },
  {
   "cell_type": "code",
   "execution_count": 63,
   "id": "b0371676",
   "metadata": {},
   "outputs": [
    {
     "data": {
      "text/plain": [
       "<pymongo.results.InsertOneResult at 0x126671330>"
      ]
     },
     "execution_count": 63,
     "metadata": {},
     "output_type": "execute_result"
    }
   ],
   "source": [
    "coll.insert_one({'rollno':102,'stud_name':'snehal','cgpa':8,'loc':'pune'})"
   ]
  },
  {
   "cell_type": "code",
   "execution_count": 64,
   "id": "cafbc3ae",
   "metadata": {},
   "outputs": [
    {
     "data": {
      "text/plain": [
       "<pymongo.results.InsertOneResult at 0x126670d00>"
      ]
     },
     "execution_count": 64,
     "metadata": {},
     "output_type": "execute_result"
    }
   ],
   "source": [
    "coll.insert_one({'rollno':103,'stud_name':'rohit','cgpa':7,'loc':'pune','contact':8983720070})"
   ]
  },
  {
   "cell_type": "code",
   "execution_count": 65,
   "id": "4a97fd98",
   "metadata": {},
   "outputs": [
    {
     "data": {
      "text/plain": [
       "<pymongo.results.InsertOneResult at 0x150db3d60>"
      ]
     },
     "execution_count": 65,
     "metadata": {},
     "output_type": "execute_result"
    }
   ],
   "source": [
    "coll.insert_one({'rollno':103,'stud_name':'rohit','cgpa':7,'loc':'pune',\n",
    "                 'contact':{'mob':8983720070,'email':'rohit@gmail.com'}})"
   ]
  },
  {
   "cell_type": "markdown",
   "id": "8478c533",
   "metadata": {},
   "source": [
    "#### 2. insert_many()"
   ]
  },
  {
   "cell_type": "code",
   "execution_count": null,
   "id": "68eb9dc7",
   "metadata": {},
   "outputs": [],
   "source": [
    "collection_name.insert_many([{},{}])"
   ]
  },
  {
   "cell_type": "code",
   "execution_count": 14,
   "id": "452f57f7",
   "metadata": {},
   "outputs": [
    {
     "data": {
      "text/plain": [
       "<pymongo.results.InsertManyResult at 0x10575db40>"
      ]
     },
     "execution_count": 14,
     "metadata": {},
     "output_type": "execute_result"
    }
   ],
   "source": [
    "coll.insert_many([{'rollno':104,'stud_name':'goldi'},\n",
    "                 {'rollno':105,'stud_name':'akash','loc':'mumbai'}])"
   ]
  },
  {
   "cell_type": "markdown",
   "id": "c8ae8d60",
   "metadata": {},
   "source": [
    "### 2. read data"
   ]
  },
  {
   "cell_type": "code",
   "execution_count": null,
   "id": "a8cf68a2",
   "metadata": {},
   "outputs": [],
   "source": [
    "find_one(): return a single document\n",
    "find()    : return multiple documents"
   ]
  },
  {
   "cell_type": "markdown",
   "id": "3ab83390",
   "metadata": {},
   "source": [
    "#### 1. find_one()"
   ]
  },
  {
   "cell_type": "code",
   "execution_count": null,
   "id": "2b9aa591",
   "metadata": {},
   "outputs": [],
   "source": [
    "collection_name.find_one({where condition},{select})\n",
    "without filter condition: returns first document of the collection\n",
    "with filter condition   : return the first matched document"
   ]
  },
  {
   "cell_type": "code",
   "execution_count": 15,
   "id": "f470583b",
   "metadata": {},
   "outputs": [
    {
     "data": {
      "text/plain": [
       "{'_id': ObjectId('63a1c0ae65e1e6f2d4a09b41'),\n",
       " 'rollno': 101,\n",
       " 'stud_name': 'rohit',\n",
       " 'cgpa': 9,\n",
       " 'loc': 'pune'}"
      ]
     },
     "execution_count": 15,
     "metadata": {},
     "output_type": "execute_result"
    }
   ],
   "source": [
    "coll.find_one({})"
   ]
  },
  {
   "cell_type": "code",
   "execution_count": 16,
   "id": "02cb9cb1",
   "metadata": {},
   "outputs": [
    {
     "data": {
      "text/plain": [
       "{'rollno': 101, 'stud_name': 'rohit', 'cgpa': 9, 'loc': 'pune'}"
      ]
     },
     "execution_count": 16,
     "metadata": {},
     "output_type": "execute_result"
    }
   ],
   "source": [
    "coll.find_one({},{'_id':0})"
   ]
  },
  {
   "cell_type": "code",
   "execution_count": 17,
   "id": "229f3f14",
   "metadata": {},
   "outputs": [
    {
     "data": {
      "text/plain": [
       "{'rollno': 101, 'stud_name': 'rohit', 'cgpa': 9}"
      ]
     },
     "execution_count": 17,
     "metadata": {},
     "output_type": "execute_result"
    }
   ],
   "source": [
    "coll.find_one({},{'_id':0,'loc':0})"
   ]
  },
  {
   "cell_type": "code",
   "execution_count": 18,
   "id": "8fd69d28",
   "metadata": {},
   "outputs": [
    {
     "data": {
      "text/plain": [
       "{'rollno': 101, 'stud_name': 'rohit'}"
      ]
     },
     "execution_count": 18,
     "metadata": {},
     "output_type": "execute_result"
    }
   ],
   "source": [
    "coll.find_one({},{'_id':0,'loc':0,'cgpa':0})"
   ]
  },
  {
   "cell_type": "code",
   "execution_count": 20,
   "id": "3761a6ab",
   "metadata": {},
   "outputs": [
    {
     "data": {
      "text/plain": [
       "{'_id': ObjectId('63a1c0ae65e1e6f2d4a09b41'), 'cgpa': 9, 'loc': 'pune'}"
      ]
     },
     "execution_count": 20,
     "metadata": {},
     "output_type": "execute_result"
    }
   ],
   "source": [
    "coll.find_one({},{'loc':1,'cgpa':1})"
   ]
  },
  {
   "cell_type": "code",
   "execution_count": 21,
   "id": "21159b6f",
   "metadata": {},
   "outputs": [
    {
     "data": {
      "text/plain": [
       "{'cgpa': 9, 'loc': 'pune'}"
      ]
     },
     "execution_count": 21,
     "metadata": {},
     "output_type": "execute_result"
    }
   ],
   "source": [
    "coll.find_one({},{'_id':0,'loc':1,'cgpa':1})"
   ]
  },
  {
   "cell_type": "code",
   "execution_count": 22,
   "id": "d962a4b1",
   "metadata": {},
   "outputs": [
    {
     "ename": "OperationFailure",
     "evalue": "Cannot do inclusion on field cgpa in exclusion projection, full error: {'ok': 0.0, 'errmsg': 'Cannot do inclusion on field cgpa in exclusion projection', 'code': 31253, 'codeName': 'Location31253'}",
     "output_type": "error",
     "traceback": [
      "\u001b[0;31m---------------------------------------------------------------------------\u001b[0m",
      "\u001b[0;31mOperationFailure\u001b[0m                          Traceback (most recent call last)",
      "Input \u001b[0;32mIn [22]\u001b[0m, in \u001b[0;36m<cell line: 1>\u001b[0;34m()\u001b[0m\n\u001b[0;32m----> 1\u001b[0m \u001b[43mcoll\u001b[49m\u001b[38;5;241;43m.\u001b[39;49m\u001b[43mfind_one\u001b[49m\u001b[43m(\u001b[49m\u001b[43m{\u001b[49m\u001b[43m}\u001b[49m\u001b[43m,\u001b[49m\u001b[43m{\u001b[49m\u001b[38;5;124;43m'\u001b[39;49m\u001b[38;5;124;43m_id\u001b[39;49m\u001b[38;5;124;43m'\u001b[39;49m\u001b[43m:\u001b[49m\u001b[38;5;241;43m0\u001b[39;49m\u001b[43m,\u001b[49m\u001b[38;5;124;43m'\u001b[39;49m\u001b[38;5;124;43mloc\u001b[39;49m\u001b[38;5;124;43m'\u001b[39;49m\u001b[43m:\u001b[49m\u001b[38;5;241;43m0\u001b[39;49m\u001b[43m,\u001b[49m\u001b[38;5;124;43m'\u001b[39;49m\u001b[38;5;124;43mcgpa\u001b[39;49m\u001b[38;5;124;43m'\u001b[39;49m\u001b[43m:\u001b[49m\u001b[38;5;241;43m1\u001b[39;49m\u001b[43m}\u001b[49m\u001b[43m)\u001b[49m\n",
      "File \u001b[0;32m/Library/Frameworks/Python.framework/Versions/3.10/lib/python3.10/site-packages/pymongo/collection.py:1419\u001b[0m, in \u001b[0;36mCollection.find_one\u001b[0;34m(self, filter, *args, **kwargs)\u001b[0m\n\u001b[1;32m   1417\u001b[0m     \u001b[38;5;28mfilter\u001b[39m \u001b[38;5;241m=\u001b[39m {\u001b[38;5;124m\"\u001b[39m\u001b[38;5;124m_id\u001b[39m\u001b[38;5;124m\"\u001b[39m: \u001b[38;5;28mfilter\u001b[39m}\n\u001b[1;32m   1418\u001b[0m cursor \u001b[38;5;241m=\u001b[39m \u001b[38;5;28mself\u001b[39m\u001b[38;5;241m.\u001b[39mfind(\u001b[38;5;28mfilter\u001b[39m, \u001b[38;5;241m*\u001b[39margs, \u001b[38;5;241m*\u001b[39m\u001b[38;5;241m*\u001b[39mkwargs)\n\u001b[0;32m-> 1419\u001b[0m \u001b[38;5;28;01mfor\u001b[39;00m result \u001b[38;5;129;01min\u001b[39;00m cursor\u001b[38;5;241m.\u001b[39mlimit(\u001b[38;5;241m-\u001b[39m\u001b[38;5;241m1\u001b[39m):\n\u001b[1;32m   1420\u001b[0m     \u001b[38;5;28;01mreturn\u001b[39;00m result\n\u001b[1;32m   1421\u001b[0m \u001b[38;5;28;01mreturn\u001b[39;00m \u001b[38;5;28;01mNone\u001b[39;00m\n",
      "File \u001b[0;32m/Library/Frameworks/Python.framework/Versions/3.10/lib/python3.10/site-packages/pymongo/cursor.py:1248\u001b[0m, in \u001b[0;36mCursor.next\u001b[0;34m(self)\u001b[0m\n\u001b[1;32m   1246\u001b[0m \u001b[38;5;28;01mif\u001b[39;00m \u001b[38;5;28mself\u001b[39m\u001b[38;5;241m.\u001b[39m__empty:\n\u001b[1;32m   1247\u001b[0m     \u001b[38;5;28;01mraise\u001b[39;00m \u001b[38;5;167;01mStopIteration\u001b[39;00m\n\u001b[0;32m-> 1248\u001b[0m \u001b[38;5;28;01mif\u001b[39;00m \u001b[38;5;28mlen\u001b[39m(\u001b[38;5;28mself\u001b[39m\u001b[38;5;241m.\u001b[39m__data) \u001b[38;5;129;01mor\u001b[39;00m \u001b[38;5;28;43mself\u001b[39;49m\u001b[38;5;241;43m.\u001b[39;49m\u001b[43m_refresh\u001b[49m\u001b[43m(\u001b[49m\u001b[43m)\u001b[49m:\n\u001b[1;32m   1249\u001b[0m     \u001b[38;5;28;01mreturn\u001b[39;00m \u001b[38;5;28mself\u001b[39m\u001b[38;5;241m.\u001b[39m__data\u001b[38;5;241m.\u001b[39mpopleft()\n\u001b[1;32m   1250\u001b[0m \u001b[38;5;28;01melse\u001b[39;00m:\n",
      "File \u001b[0;32m/Library/Frameworks/Python.framework/Versions/3.10/lib/python3.10/site-packages/pymongo/cursor.py:1165\u001b[0m, in \u001b[0;36mCursor._refresh\u001b[0;34m(self)\u001b[0m\n\u001b[1;32m   1143\u001b[0m         \u001b[38;5;28;01mraise\u001b[39;00m InvalidOperation(\n\u001b[1;32m   1144\u001b[0m             \u001b[38;5;124m\"\u001b[39m\u001b[38;5;124mPassing a \u001b[39m\u001b[38;5;124m'\u001b[39m\u001b[38;5;124mhint\u001b[39m\u001b[38;5;124m'\u001b[39m\u001b[38;5;124m is required when using the min/max query\u001b[39m\u001b[38;5;124m\"\u001b[39m\n\u001b[1;32m   1145\u001b[0m             \u001b[38;5;124m\"\u001b[39m\u001b[38;5;124m option to ensure the query utilizes the correct index\u001b[39m\u001b[38;5;124m\"\u001b[39m\n\u001b[1;32m   1146\u001b[0m         )\n\u001b[1;32m   1147\u001b[0m     q \u001b[38;5;241m=\u001b[39m \u001b[38;5;28mself\u001b[39m\u001b[38;5;241m.\u001b[39m_query_class(\n\u001b[1;32m   1148\u001b[0m         \u001b[38;5;28mself\u001b[39m\u001b[38;5;241m.\u001b[39m__query_flags,\n\u001b[1;32m   1149\u001b[0m         \u001b[38;5;28mself\u001b[39m\u001b[38;5;241m.\u001b[39m__collection\u001b[38;5;241m.\u001b[39mdatabase\u001b[38;5;241m.\u001b[39mname,\n\u001b[0;32m   (...)\u001b[0m\n\u001b[1;32m   1163\u001b[0m         \u001b[38;5;28mself\u001b[39m\u001b[38;5;241m.\u001b[39m__exhaust,\n\u001b[1;32m   1164\u001b[0m     )\n\u001b[0;32m-> 1165\u001b[0m     \u001b[38;5;28;43mself\u001b[39;49m\u001b[38;5;241;43m.\u001b[39;49m\u001b[43m__send_message\u001b[49m\u001b[43m(\u001b[49m\u001b[43mq\u001b[49m\u001b[43m)\u001b[49m\n\u001b[1;32m   1166\u001b[0m \u001b[38;5;28;01melif\u001b[39;00m \u001b[38;5;28mself\u001b[39m\u001b[38;5;241m.\u001b[39m__id:  \u001b[38;5;66;03m# Get More\u001b[39;00m\n\u001b[1;32m   1167\u001b[0m     \u001b[38;5;28;01mif\u001b[39;00m \u001b[38;5;28mself\u001b[39m\u001b[38;5;241m.\u001b[39m__limit:\n",
      "File \u001b[0;32m/Library/Frameworks/Python.framework/Versions/3.10/lib/python3.10/site-packages/pymongo/cursor.py:1052\u001b[0m, in \u001b[0;36mCursor.__send_message\u001b[0;34m(self, operation)\u001b[0m\n\u001b[1;32m   1049\u001b[0m     \u001b[38;5;28;01mraise\u001b[39;00m InvalidOperation(\u001b[38;5;124m\"\u001b[39m\u001b[38;5;124mexhaust cursors do not support auto encryption\u001b[39m\u001b[38;5;124m\"\u001b[39m)\n\u001b[1;32m   1051\u001b[0m \u001b[38;5;28;01mtry\u001b[39;00m:\n\u001b[0;32m-> 1052\u001b[0m     response \u001b[38;5;241m=\u001b[39m \u001b[43mclient\u001b[49m\u001b[38;5;241;43m.\u001b[39;49m\u001b[43m_run_operation\u001b[49m\u001b[43m(\u001b[49m\n\u001b[1;32m   1053\u001b[0m \u001b[43m        \u001b[49m\u001b[43moperation\u001b[49m\u001b[43m,\u001b[49m\u001b[43m \u001b[49m\u001b[38;5;28;43mself\u001b[39;49m\u001b[38;5;241;43m.\u001b[39;49m\u001b[43m_unpack_response\u001b[49m\u001b[43m,\u001b[49m\u001b[43m \u001b[49m\u001b[43maddress\u001b[49m\u001b[38;5;241;43m=\u001b[39;49m\u001b[38;5;28;43mself\u001b[39;49m\u001b[38;5;241;43m.\u001b[39;49m\u001b[43m__address\u001b[49m\n\u001b[1;32m   1054\u001b[0m \u001b[43m    \u001b[49m\u001b[43m)\u001b[49m\n\u001b[1;32m   1055\u001b[0m \u001b[38;5;28;01mexcept\u001b[39;00m OperationFailure \u001b[38;5;28;01mas\u001b[39;00m exc:\n\u001b[1;32m   1056\u001b[0m     \u001b[38;5;28;01mif\u001b[39;00m exc\u001b[38;5;241m.\u001b[39mcode \u001b[38;5;129;01min\u001b[39;00m _CURSOR_CLOSED_ERRORS \u001b[38;5;129;01mor\u001b[39;00m \u001b[38;5;28mself\u001b[39m\u001b[38;5;241m.\u001b[39m__exhaust:\n\u001b[1;32m   1057\u001b[0m         \u001b[38;5;66;03m# Don't send killCursors because the cursor is already closed.\u001b[39;00m\n",
      "File \u001b[0;32m/Library/Frameworks/Python.framework/Versions/3.10/lib/python3.10/site-packages/pymongo/mongo_client.py:1267\u001b[0m, in \u001b[0;36mMongoClient._run_operation\u001b[0;34m(self, operation, unpack_res, address)\u001b[0m\n\u001b[1;32m   1262\u001b[0m \u001b[38;5;28;01mdef\u001b[39;00m \u001b[38;5;21m_cmd\u001b[39m(session, server, sock_info, read_preference):\n\u001b[1;32m   1263\u001b[0m     \u001b[38;5;28;01mreturn\u001b[39;00m server\u001b[38;5;241m.\u001b[39mrun_operation(\n\u001b[1;32m   1264\u001b[0m         sock_info, operation, read_preference, \u001b[38;5;28mself\u001b[39m\u001b[38;5;241m.\u001b[39m_event_listeners, unpack_res\n\u001b[1;32m   1265\u001b[0m     )\n\u001b[0;32m-> 1267\u001b[0m \u001b[38;5;28;01mreturn\u001b[39;00m \u001b[38;5;28;43mself\u001b[39;49m\u001b[38;5;241;43m.\u001b[39;49m\u001b[43m_retryable_read\u001b[49m\u001b[43m(\u001b[49m\n\u001b[1;32m   1268\u001b[0m \u001b[43m    \u001b[49m\u001b[43m_cmd\u001b[49m\u001b[43m,\u001b[49m\n\u001b[1;32m   1269\u001b[0m \u001b[43m    \u001b[49m\u001b[43moperation\u001b[49m\u001b[38;5;241;43m.\u001b[39;49m\u001b[43mread_preference\u001b[49m\u001b[43m,\u001b[49m\n\u001b[1;32m   1270\u001b[0m \u001b[43m    \u001b[49m\u001b[43moperation\u001b[49m\u001b[38;5;241;43m.\u001b[39;49m\u001b[43msession\u001b[49m\u001b[43m,\u001b[49m\n\u001b[1;32m   1271\u001b[0m \u001b[43m    \u001b[49m\u001b[43maddress\u001b[49m\u001b[38;5;241;43m=\u001b[39;49m\u001b[43maddress\u001b[49m\u001b[43m,\u001b[49m\n\u001b[1;32m   1272\u001b[0m \u001b[43m    \u001b[49m\u001b[43mretryable\u001b[49m\u001b[38;5;241;43m=\u001b[39;49m\u001b[38;5;28;43misinstance\u001b[39;49m\u001b[43m(\u001b[49m\u001b[43moperation\u001b[49m\u001b[43m,\u001b[49m\u001b[43m \u001b[49m\u001b[43mmessage\u001b[49m\u001b[38;5;241;43m.\u001b[39;49m\u001b[43m_Query\u001b[49m\u001b[43m)\u001b[49m\u001b[43m,\u001b[49m\n\u001b[1;32m   1273\u001b[0m \u001b[43m\u001b[49m\u001b[43m)\u001b[49m\n",
      "File \u001b[0;32m/Library/Frameworks/Python.framework/Versions/3.10/lib/python3.10/site-packages/pymongo/mongo_client.py:1371\u001b[0m, in \u001b[0;36mMongoClient._retryable_read\u001b[0;34m(self, func, read_pref, session, address, retryable)\u001b[0m\n\u001b[1;32m   1369\u001b[0m             \u001b[38;5;28;01massert\u001b[39;00m last_error \u001b[38;5;129;01mis\u001b[39;00m \u001b[38;5;129;01mnot\u001b[39;00m \u001b[38;5;28;01mNone\u001b[39;00m\n\u001b[1;32m   1370\u001b[0m             \u001b[38;5;28;01mraise\u001b[39;00m last_error\n\u001b[0;32m-> 1371\u001b[0m         \u001b[38;5;28;01mreturn\u001b[39;00m \u001b[43mfunc\u001b[49m\u001b[43m(\u001b[49m\u001b[43msession\u001b[49m\u001b[43m,\u001b[49m\u001b[43m \u001b[49m\u001b[43mserver\u001b[49m\u001b[43m,\u001b[49m\u001b[43m \u001b[49m\u001b[43msock_info\u001b[49m\u001b[43m,\u001b[49m\u001b[43m \u001b[49m\u001b[43mread_pref\u001b[49m\u001b[43m)\u001b[49m\n\u001b[1;32m   1372\u001b[0m \u001b[38;5;28;01mexcept\u001b[39;00m ServerSelectionTimeoutError:\n\u001b[1;32m   1373\u001b[0m     \u001b[38;5;28;01mif\u001b[39;00m retrying:\n\u001b[1;32m   1374\u001b[0m         \u001b[38;5;66;03m# The application may think the write was never attempted\u001b[39;00m\n\u001b[1;32m   1375\u001b[0m         \u001b[38;5;66;03m# if we raise ServerSelectionTimeoutError on the retry\u001b[39;00m\n\u001b[1;32m   1376\u001b[0m         \u001b[38;5;66;03m# attempt. Raise the original exception instead.\u001b[39;00m\n",
      "File \u001b[0;32m/Library/Frameworks/Python.framework/Versions/3.10/lib/python3.10/site-packages/pymongo/mongo_client.py:1263\u001b[0m, in \u001b[0;36mMongoClient._run_operation.<locals>._cmd\u001b[0;34m(session, server, sock_info, read_preference)\u001b[0m\n\u001b[1;32m   1262\u001b[0m \u001b[38;5;28;01mdef\u001b[39;00m \u001b[38;5;21m_cmd\u001b[39m(session, server, sock_info, read_preference):\n\u001b[0;32m-> 1263\u001b[0m     \u001b[38;5;28;01mreturn\u001b[39;00m \u001b[43mserver\u001b[49m\u001b[38;5;241;43m.\u001b[39;49m\u001b[43mrun_operation\u001b[49m\u001b[43m(\u001b[49m\n\u001b[1;32m   1264\u001b[0m \u001b[43m        \u001b[49m\u001b[43msock_info\u001b[49m\u001b[43m,\u001b[49m\u001b[43m \u001b[49m\u001b[43moperation\u001b[49m\u001b[43m,\u001b[49m\u001b[43m \u001b[49m\u001b[43mread_preference\u001b[49m\u001b[43m,\u001b[49m\u001b[43m \u001b[49m\u001b[38;5;28;43mself\u001b[39;49m\u001b[38;5;241;43m.\u001b[39;49m\u001b[43m_event_listeners\u001b[49m\u001b[43m,\u001b[49m\u001b[43m \u001b[49m\u001b[43munpack_res\u001b[49m\n\u001b[1;32m   1265\u001b[0m \u001b[43m    \u001b[49m\u001b[43m)\u001b[49m\n",
      "File \u001b[0;32m/Library/Frameworks/Python.framework/Versions/3.10/lib/python3.10/site-packages/pymongo/server.py:134\u001b[0m, in \u001b[0;36mServer.run_operation\u001b[0;34m(self, sock_info, operation, read_preference, listeners, unpack_res)\u001b[0m\n\u001b[1;32m    132\u001b[0m         first \u001b[38;5;241m=\u001b[39m docs[\u001b[38;5;241m0\u001b[39m]\n\u001b[1;32m    133\u001b[0m         operation\u001b[38;5;241m.\u001b[39mclient\u001b[38;5;241m.\u001b[39m_process_response(first, operation\u001b[38;5;241m.\u001b[39msession)\n\u001b[0;32m--> 134\u001b[0m         \u001b[43m_check_command_response\u001b[49m\u001b[43m(\u001b[49m\u001b[43mfirst\u001b[49m\u001b[43m,\u001b[49m\u001b[43m \u001b[49m\u001b[43msock_info\u001b[49m\u001b[38;5;241;43m.\u001b[39;49m\u001b[43mmax_wire_version\u001b[49m\u001b[43m)\u001b[49m\n\u001b[1;32m    135\u001b[0m \u001b[38;5;28;01mexcept\u001b[39;00m \u001b[38;5;167;01mException\u001b[39;00m \u001b[38;5;28;01mas\u001b[39;00m exc:\n\u001b[1;32m    136\u001b[0m     \u001b[38;5;28;01mif\u001b[39;00m publish:\n",
      "File \u001b[0;32m/Library/Frameworks/Python.framework/Versions/3.10/lib/python3.10/site-packages/pymongo/helpers.py:180\u001b[0m, in \u001b[0;36m_check_command_response\u001b[0;34m(response, max_wire_version, allowable_errors, parse_write_concern_error)\u001b[0m\n\u001b[1;32m    177\u001b[0m \u001b[38;5;28;01melif\u001b[39;00m code \u001b[38;5;241m==\u001b[39m \u001b[38;5;241m43\u001b[39m:\n\u001b[1;32m    178\u001b[0m     \u001b[38;5;28;01mraise\u001b[39;00m CursorNotFound(errmsg, code, response, max_wire_version)\n\u001b[0;32m--> 180\u001b[0m \u001b[38;5;28;01mraise\u001b[39;00m OperationFailure(errmsg, code, response, max_wire_version)\n",
      "\u001b[0;31mOperationFailure\u001b[0m: Cannot do inclusion on field cgpa in exclusion projection, full error: {'ok': 0.0, 'errmsg': 'Cannot do inclusion on field cgpa in exclusion projection', 'code': 31253, 'codeName': 'Location31253'}"
     ]
    }
   ],
   "source": [
    "coll.find_one({},{'_id':0,'loc':0,'cgpa':1})"
   ]
  },
  {
   "cell_type": "code",
   "execution_count": 23,
   "id": "e52e14e8",
   "metadata": {},
   "outputs": [
    {
     "data": {
      "text/plain": [
       "{'rollno': 101, 'stud_name': 'rohit'}"
      ]
     },
     "execution_count": 23,
     "metadata": {},
     "output_type": "execute_result"
    }
   ],
   "source": [
    "coll.find_one({},{'_id':0,'loc':0,'cgpa':0})"
   ]
  },
  {
   "cell_type": "code",
   "execution_count": null,
   "id": "db51fe13",
   "metadata": {},
   "outputs": [],
   "source": [
    "20 keys : read 4 keys : to specify 1 for these 4 keys\n",
    "20 keys : skip 4 keys : to specify 0 for these 4 keys"
   ]
  },
  {
   "cell_type": "code",
   "execution_count": 24,
   "id": "14481523",
   "metadata": {},
   "outputs": [
    {
     "data": {
      "text/plain": [
       "{'_id': ObjectId('63a1c18065e1e6f2d4a09b43'),\n",
       " 'rollno': 103,\n",
       " 'stud_name': 'rohit',\n",
       " 'cgpa': 7,\n",
       " 'loc': 'pune',\n",
       " 'contact': 8983720070}"
      ]
     },
     "execution_count": 24,
     "metadata": {},
     "output_type": "execute_result"
    }
   ],
   "source": [
    "coll.find_one({'rollno':103})"
   ]
  },
  {
   "cell_type": "code",
   "execution_count": 25,
   "id": "042ca644",
   "metadata": {},
   "outputs": [
    {
     "data": {
      "text/plain": [
       "{'rollno': 103,\n",
       " 'stud_name': 'rohit',\n",
       " 'cgpa': 7,\n",
       " 'loc': 'pune',\n",
       " 'contact': 8983720070}"
      ]
     },
     "execution_count": 25,
     "metadata": {},
     "output_type": "execute_result"
    }
   ],
   "source": [
    "coll.find_one({'rollno':103},{'_id':0})"
   ]
  },
  {
   "cell_type": "code",
   "execution_count": 26,
   "id": "38ad8657",
   "metadata": {},
   "outputs": [
    {
     "data": {
      "text/plain": [
       "{'rollno': 101, 'stud_name': 'rohit', 'cgpa': 9, 'loc': 'pune'}"
      ]
     },
     "execution_count": 26,
     "metadata": {},
     "output_type": "execute_result"
    }
   ],
   "source": [
    "coll.find_one({'loc':'pune'},{'_id':0})"
   ]
  },
  {
   "cell_type": "code",
   "execution_count": 39,
   "id": "8d3dd2ee",
   "metadata": {},
   "outputs": [
    {
     "data": {
      "text/plain": [
       "{'rollno': 103,\n",
       " 'stud_name': 'rohit',\n",
       " 'cgpa': 7,\n",
       " 'loc': 'pune',\n",
       " 'contact': {'mob': 8983720070, 'email': 'rohit@gmail.com'},\n",
       " 'branch': 'comp'}"
      ]
     },
     "execution_count": 39,
     "metadata": {},
     "output_type": "execute_result"
    }
   ],
   "source": [
    "coll.find_one({'contact.email':'rohit@gmail.com'},{'_id':0})"
   ]
  },
  {
   "cell_type": "markdown",
   "id": "d45f6bad",
   "metadata": {},
   "source": [
    "### find()"
   ]
  },
  {
   "cell_type": "code",
   "execution_count": null,
   "id": "7f5db118",
   "metadata": {},
   "outputs": [],
   "source": [
    "collection_name.find({filter condition},{select})\n",
    "without filter condition: returns all documents of the collection\n",
    "with filter condition   : return the all matched documents"
   ]
  },
  {
   "cell_type": "code",
   "execution_count": 28,
   "id": "3bcbc580",
   "metadata": {},
   "outputs": [
    {
     "data": {
      "text/plain": [
       "[{'rollno': 101, 'stud_name': 'rohit', 'cgpa': 9, 'loc': 'pune'},\n",
       " {'rollno': 102, 'stud_name': 'snehal', 'cgpa': 8, 'loc': 'pune'},\n",
       " {'rollno': 103,\n",
       "  'stud_name': 'rohit',\n",
       "  'cgpa': 7,\n",
       "  'loc': 'pune',\n",
       "  'contact': 8983720070},\n",
       " {'rollno': 103,\n",
       "  'stud_name': 'rohit',\n",
       "  'cgpa': 7,\n",
       "  'loc': 'pune',\n",
       "  'contact': {'mob': 8983720070, 'email': 'rohit@gmail.com'}},\n",
       " {'rollno': 104, 'stud_name': 'goldi'},\n",
       " {'rollno': 105, 'stud_name': 'akash', 'loc': 'mumbai'}]"
      ]
     },
     "execution_count": 28,
     "metadata": {},
     "output_type": "execute_result"
    }
   ],
   "source": [
    "data=coll.find({},{'_id':0})\n",
    "list(data)"
   ]
  },
  {
   "cell_type": "code",
   "execution_count": 29,
   "id": "e9b4f00b",
   "metadata": {},
   "outputs": [
    {
     "data": {
      "text/plain": [
       "[{'rollno': 103,\n",
       "  'stud_name': 'rohit',\n",
       "  'cgpa': 7,\n",
       "  'loc': 'pune',\n",
       "  'contact': 8983720070},\n",
       " {'rollno': 103,\n",
       "  'stud_name': 'rohit',\n",
       "  'cgpa': 7,\n",
       "  'loc': 'pune',\n",
       "  'contact': {'mob': 8983720070, 'email': 'rohit@gmail.com'}}]"
      ]
     },
     "execution_count": 29,
     "metadata": {},
     "output_type": "execute_result"
    }
   ],
   "source": [
    "data=coll.find({'rollno':103},{'_id':0})\n",
    "list(data)"
   ]
  },
  {
   "cell_type": "code",
   "execution_count": 30,
   "id": "82fdddc1",
   "metadata": {},
   "outputs": [
    {
     "data": {
      "text/plain": [
       "[{'rollno': 101, 'stud_name': 'rohit', 'cgpa': 9, 'loc': 'pune'},\n",
       " {'rollno': 102, 'stud_name': 'snehal', 'cgpa': 8, 'loc': 'pune'},\n",
       " {'rollno': 103,\n",
       "  'stud_name': 'rohit',\n",
       "  'cgpa': 7,\n",
       "  'loc': 'pune',\n",
       "  'contact': 8983720070},\n",
       " {'rollno': 103,\n",
       "  'stud_name': 'rohit',\n",
       "  'cgpa': 7,\n",
       "  'loc': 'pune',\n",
       "  'contact': {'mob': 8983720070, 'email': 'rohit@gmail.com'}}]"
      ]
     },
     "execution_count": 30,
     "metadata": {},
     "output_type": "execute_result"
    }
   ],
   "source": [
    "data=coll.find({'loc':'pune'},{'_id':0})\n",
    "list(data)"
   ]
  },
  {
   "cell_type": "code",
   "execution_count": 31,
   "id": "b1727494",
   "metadata": {},
   "outputs": [
    {
     "data": {
      "text/plain": [
       "[{'_id': ObjectId('63a1c0ae65e1e6f2d4a09b41'),\n",
       "  'rollno': 101,\n",
       "  'stud_name': 'rohit',\n",
       "  'cgpa': 9,\n",
       "  'loc': 'pune'},\n",
       " {'_id': ObjectId('63a1c14165e1e6f2d4a09b42'),\n",
       "  'rollno': 102,\n",
       "  'stud_name': 'snehal',\n",
       "  'cgpa': 8,\n",
       "  'loc': 'pune'}]"
      ]
     },
     "execution_count": 31,
     "metadata": {},
     "output_type": "execute_result"
    }
   ],
   "source": [
    "data=coll.find({'cgpa':{'$gt':7}})\n",
    "list(data)"
   ]
  },
  {
   "cell_type": "code",
   "execution_count": null,
   "id": "81f79487",
   "metadata": {},
   "outputs": [],
   "source": [
    "lt: less than\n",
    "gte: greater than equal to\n",
    "lte: less than equal to\n",
    "ne : not equal to\n",
    "in : specify multiple possible values"
   ]
  },
  {
   "cell_type": "markdown",
   "id": "d2dcee72",
   "metadata": {},
   "source": [
    "### update data"
   ]
  },
  {
   "cell_type": "code",
   "execution_count": null,
   "id": "50a7a6e5",
   "metadata": {},
   "outputs": [],
   "source": [
    "update_one(): update a single document\n",
    "update_many():update multiple documents"
   ]
  },
  {
   "cell_type": "markdown",
   "id": "def193a2",
   "metadata": {},
   "source": [
    "#### 1. update_one()"
   ]
  },
  {
   "cell_type": "code",
   "execution_count": null,
   "id": "6976e198",
   "metadata": {},
   "outputs": [],
   "source": [
    "collection_name.update_one({where condition},{'$set':{'key':value}})\n",
    "without filter condition: update first document of the collection\n",
    "with filter condition   : update the first matched document"
   ]
  },
  {
   "cell_type": "code",
   "execution_count": 32,
   "id": "6e06900e",
   "metadata": {},
   "outputs": [
    {
     "data": {
      "text/plain": [
       "<pymongo.results.UpdateResult at 0x1264eabc0>"
      ]
     },
     "execution_count": 32,
     "metadata": {},
     "output_type": "execute_result"
    }
   ],
   "source": [
    "coll.update_one({},{'$set':{'loc':'mumbai'}})"
   ]
  },
  {
   "cell_type": "code",
   "execution_count": 33,
   "id": "085a14f2",
   "metadata": {},
   "outputs": [
    {
     "data": {
      "text/plain": [
       "<pymongo.results.UpdateResult at 0x1264eae00>"
      ]
     },
     "execution_count": 33,
     "metadata": {},
     "output_type": "execute_result"
    }
   ],
   "source": [
    "coll.update_one({'rollno':103},{'$set':{'loc':'chennai'}})"
   ]
  },
  {
   "cell_type": "code",
   "execution_count": 34,
   "id": "f9cccd2e",
   "metadata": {},
   "outputs": [
    {
     "data": {
      "text/plain": [
       "<pymongo.results.UpdateResult at 0x10575d720>"
      ]
     },
     "execution_count": 34,
     "metadata": {},
     "output_type": "execute_result"
    }
   ],
   "source": [
    "coll.update_one({},{'$set':{'contact':8990786756}})"
   ]
  },
  {
   "cell_type": "markdown",
   "id": "1f541535",
   "metadata": {},
   "source": [
    "### 2. update_many()"
   ]
  },
  {
   "cell_type": "code",
   "execution_count": null,
   "id": "d8fc04b3",
   "metadata": {},
   "outputs": [],
   "source": [
    "collection_name.update_many({where condition},{'$set':{'key':value}})\n",
    "without filter condition: update all documents of the collection\n",
    "with filter condition   : update the all matched documents"
   ]
  },
  {
   "cell_type": "code",
   "execution_count": 35,
   "id": "54dc9b56",
   "metadata": {},
   "outputs": [
    {
     "data": {
      "text/plain": [
       "<pymongo.results.UpdateResult at 0x10575dff0>"
      ]
     },
     "execution_count": 35,
     "metadata": {},
     "output_type": "execute_result"
    }
   ],
   "source": [
    "coll.update_many({},{'$set':{'branch':'comp'}})"
   ]
  },
  {
   "cell_type": "code",
   "execution_count": 36,
   "id": "7bf1afd5",
   "metadata": {},
   "outputs": [
    {
     "data": {
      "text/plain": [
       "<pymongo.results.UpdateResult at 0x1266714e0>"
      ]
     },
     "execution_count": 36,
     "metadata": {},
     "output_type": "execute_result"
    }
   ],
   "source": [
    "coll.update_many({},{'$set':{'branch':'civil'}})"
   ]
  },
  {
   "cell_type": "code",
   "execution_count": 37,
   "id": "4d6178cc",
   "metadata": {},
   "outputs": [
    {
     "data": {
      "text/plain": [
       "<pymongo.results.UpdateResult at 0x126670c70>"
      ]
     },
     "execution_count": 37,
     "metadata": {},
     "output_type": "execute_result"
    }
   ],
   "source": [
    "coll.update_many({'loc':'pune'},{'$set':{'branch':'comp'}})"
   ]
  },
  {
   "cell_type": "code",
   "execution_count": 38,
   "id": "dd66ee85",
   "metadata": {},
   "outputs": [
    {
     "data": {
      "text/plain": [
       "<pymongo.results.UpdateResult at 0x10575dd50>"
      ]
     },
     "execution_count": 38,
     "metadata": {},
     "output_type": "execute_result"
    }
   ],
   "source": [
    "coll.update_one({'loc':'chennai'},{'$set':{'cgpa':6}})"
   ]
  },
  {
   "cell_type": "markdown",
   "id": "55d73d23",
   "metadata": {},
   "source": [
    "### sort the data"
   ]
  },
  {
   "cell_type": "code",
   "execution_count": 41,
   "id": "a7931f31",
   "metadata": {},
   "outputs": [
    {
     "data": {
      "text/plain": [
       "[{'rollno': 104, 'stud_name': 'goldi', 'branch': 'civil'},\n",
       " {'rollno': 105, 'stud_name': 'akash', 'loc': 'mumbai', 'branch': 'civil'},\n",
       " {'rollno': 103,\n",
       "  'stud_name': 'rohit',\n",
       "  'cgpa': 6,\n",
       "  'loc': 'chennai',\n",
       "  'contact': 8983720070,\n",
       "  'branch': 'civil'},\n",
       " {'rollno': 103,\n",
       "  'stud_name': 'rohit',\n",
       "  'cgpa': 7,\n",
       "  'loc': 'pune',\n",
       "  'contact': {'mob': 8983720070, 'email': 'rohit@gmail.com'},\n",
       "  'branch': 'comp'},\n",
       " {'rollno': 102,\n",
       "  'stud_name': 'snehal',\n",
       "  'cgpa': 8,\n",
       "  'loc': 'pune',\n",
       "  'branch': 'comp'},\n",
       " {'rollno': 101,\n",
       "  'stud_name': 'rohit',\n",
       "  'cgpa': 9,\n",
       "  'loc': 'mumbai',\n",
       "  'contact': 8990786756,\n",
       "  'branch': 'civil'}]"
      ]
     },
     "execution_count": 41,
     "metadata": {},
     "output_type": "execute_result"
    }
   ],
   "source": [
    "data=coll.find({},{'_id':0}).sort('cgpa')\n",
    "list(data)"
   ]
  },
  {
   "cell_type": "code",
   "execution_count": 42,
   "id": "593502e3",
   "metadata": {},
   "outputs": [
    {
     "data": {
      "text/plain": [
       "[{'rollno': 101,\n",
       "  'stud_name': 'rohit',\n",
       "  'cgpa': 9,\n",
       "  'loc': 'mumbai',\n",
       "  'contact': 8990786756,\n",
       "  'branch': 'civil'},\n",
       " {'rollno': 102,\n",
       "  'stud_name': 'snehal',\n",
       "  'cgpa': 8,\n",
       "  'loc': 'pune',\n",
       "  'branch': 'comp'},\n",
       " {'rollno': 103,\n",
       "  'stud_name': 'rohit',\n",
       "  'cgpa': 7,\n",
       "  'loc': 'pune',\n",
       "  'contact': {'mob': 8983720070, 'email': 'rohit@gmail.com'},\n",
       "  'branch': 'comp'},\n",
       " {'rollno': 103,\n",
       "  'stud_name': 'rohit',\n",
       "  'cgpa': 6,\n",
       "  'loc': 'chennai',\n",
       "  'contact': 8983720070,\n",
       "  'branch': 'civil'},\n",
       " {'rollno': 104, 'stud_name': 'goldi', 'branch': 'civil'},\n",
       " {'rollno': 105, 'stud_name': 'akash', 'loc': 'mumbai', 'branch': 'civil'}]"
      ]
     },
     "execution_count": 42,
     "metadata": {},
     "output_type": "execute_result"
    }
   ],
   "source": [
    "data=coll.find({},{'_id':0}).sort('cgpa',-1)\n",
    "list(data)"
   ]
  },
  {
   "cell_type": "markdown",
   "id": "4a17c213",
   "metadata": {},
   "source": [
    "### limit()"
   ]
  },
  {
   "cell_type": "code",
   "execution_count": 45,
   "id": "efea4c09",
   "metadata": {},
   "outputs": [
    {
     "data": {
      "text/plain": [
       "[{'rollno': 101,\n",
       "  'stud_name': 'rohit',\n",
       "  'cgpa': 9,\n",
       "  'loc': 'mumbai',\n",
       "  'contact': 8990786756,\n",
       "  'branch': 'civil'},\n",
       " {'rollno': 102,\n",
       "  'stud_name': 'snehal',\n",
       "  'cgpa': 8,\n",
       "  'loc': 'pune',\n",
       "  'branch': 'comp'}]"
      ]
     },
     "execution_count": 45,
     "metadata": {},
     "output_type": "execute_result"
    }
   ],
   "source": [
    "data=coll.find({},{'_id':0}).limit(2)\n",
    "list(data)"
   ]
  },
  {
   "cell_type": "code",
   "execution_count": 46,
   "id": "5bb03347",
   "metadata": {},
   "outputs": [
    {
     "data": {
      "text/plain": [
       "[{'rollno': 103,\n",
       "  'stud_name': 'rohit',\n",
       "  'cgpa': 6,\n",
       "  'loc': 'chennai',\n",
       "  'contact': 8983720070,\n",
       "  'branch': 'civil'},\n",
       " {'rollno': 103,\n",
       "  'stud_name': 'rohit',\n",
       "  'cgpa': 7,\n",
       "  'loc': 'pune',\n",
       "  'contact': {'mob': 8983720070, 'email': 'rohit@gmail.com'},\n",
       "  'branch': 'comp'}]"
      ]
     },
     "execution_count": 46,
     "metadata": {},
     "output_type": "execute_result"
    }
   ],
   "source": [
    "data=coll.find({},{'_id':0}).sort('cgpa').limit(2).skip(2)\n",
    "list(data)"
   ]
  },
  {
   "cell_type": "code",
   "execution_count": 47,
   "id": "f8135970",
   "metadata": {},
   "outputs": [
    {
     "data": {
      "text/plain": [
       "[{'rollno': 103,\n",
       "  'stud_name': 'rohit',\n",
       "  'cgpa': 6,\n",
       "  'loc': 'chennai',\n",
       "  'contact': 8983720070,\n",
       "  'branch': 'civil'},\n",
       " {'rollno': 103,\n",
       "  'stud_name': 'rohit',\n",
       "  'cgpa': 7,\n",
       "  'loc': 'pune',\n",
       "  'contact': {'mob': 8983720070, 'email': 'rohit@gmail.com'},\n",
       "  'branch': 'comp'},\n",
       " {'rollno': 102,\n",
       "  'stud_name': 'snehal',\n",
       "  'cgpa': 8,\n",
       "  'loc': 'pune',\n",
       "  'branch': 'comp'},\n",
       " {'rollno': 101,\n",
       "  'stud_name': 'rohit',\n",
       "  'cgpa': 9,\n",
       "  'loc': 'mumbai',\n",
       "  'contact': 8990786756,\n",
       "  'branch': 'civil'}]"
      ]
     },
     "execution_count": 47,
     "metadata": {},
     "output_type": "execute_result"
    }
   ],
   "source": [
    "data=coll.find({},{'_id':0}).sort('cgpa').skip(2)\n",
    "list(data)"
   ]
  },
  {
   "cell_type": "markdown",
   "id": "1cc6cb19",
   "metadata": {},
   "source": [
    "### delete data"
   ]
  },
  {
   "cell_type": "code",
   "execution_count": null,
   "id": "6395f62b",
   "metadata": {},
   "outputs": [],
   "source": [
    "delete_one(): delete a single document\n",
    "delete_many() : delete multiple documents"
   ]
  },
  {
   "cell_type": "markdown",
   "id": "995d902b",
   "metadata": {},
   "source": [
    "#### 1. delete_one()"
   ]
  },
  {
   "cell_type": "code",
   "execution_count": null,
   "id": "5ab45d14",
   "metadata": {},
   "outputs": [],
   "source": [
    "collection_name.delete_one({filter condition})\n",
    "without filter condition: delete first document of the collection\n",
    "with filter condition   : deletes the first matched document"
   ]
  },
  {
   "cell_type": "code",
   "execution_count": 48,
   "id": "bb4b0e11",
   "metadata": {},
   "outputs": [
    {
     "data": {
      "text/plain": [
       "<pymongo.results.DeleteResult at 0x126670250>"
      ]
     },
     "execution_count": 48,
     "metadata": {},
     "output_type": "execute_result"
    }
   ],
   "source": [
    "coll.delete_one({})"
   ]
  },
  {
   "cell_type": "code",
   "execution_count": 49,
   "id": "fbf40dc5",
   "metadata": {},
   "outputs": [
    {
     "data": {
      "text/plain": [
       "<pymongo.results.DeleteResult at 0x126670f10>"
      ]
     },
     "execution_count": 49,
     "metadata": {},
     "output_type": "execute_result"
    }
   ],
   "source": [
    "coll.delete_one({'rollno':103})"
   ]
  },
  {
   "cell_type": "markdown",
   "id": "01426bdc",
   "metadata": {},
   "source": [
    "#### delete_many()"
   ]
  },
  {
   "cell_type": "code",
   "execution_count": null,
   "id": "bf3ddcf9",
   "metadata": {},
   "outputs": [],
   "source": [
    "collection_name.delete_many({filter condition})\n",
    "without filter condition: delete all documents of the collection\n",
    "with filter condition   : deletes all matched documents"
   ]
  },
  {
   "cell_type": "code",
   "execution_count": 50,
   "id": "f9210548",
   "metadata": {},
   "outputs": [
    {
     "data": {
      "text/plain": [
       "<pymongo.results.DeleteResult at 0x1266714b0>"
      ]
     },
     "execution_count": 50,
     "metadata": {},
     "output_type": "execute_result"
    }
   ],
   "source": [
    "coll.delete_many({'branch':'civil'})"
   ]
  },
  {
   "cell_type": "code",
   "execution_count": 51,
   "id": "06a7a64a",
   "metadata": {},
   "outputs": [
    {
     "data": {
      "text/plain": [
       "<pymongo.results.DeleteResult at 0x126671090>"
      ]
     },
     "execution_count": 51,
     "metadata": {},
     "output_type": "execute_result"
    }
   ],
   "source": [
    "coll.delete_many({})"
   ]
  },
  {
   "cell_type": "markdown",
   "id": "3f3068f6",
   "metadata": {},
   "source": [
    "### drop collection"
   ]
  },
  {
   "cell_type": "code",
   "execution_count": null,
   "id": "4222ce7e",
   "metadata": {},
   "outputs": [],
   "source": [
    "collection_name.drop()"
   ]
  },
  {
   "cell_type": "code",
   "execution_count": 52,
   "id": "946f7509",
   "metadata": {},
   "outputs": [],
   "source": [
    "coll.drop()"
   ]
  },
  {
   "cell_type": "markdown",
   "id": "ce21d7b3",
   "metadata": {},
   "source": [
    "### drop database"
   ]
  },
  {
   "cell_type": "code",
   "execution_count": null,
   "id": "e18431e6",
   "metadata": {},
   "outputs": [],
   "source": [
    "client.drop_database('engg_data')"
   ]
  },
  {
   "cell_type": "markdown",
   "id": "04b5ec5b",
   "metadata": {},
   "source": [
    "### import a csv file into mongodb collection"
   ]
  },
  {
   "cell_type": "code",
   "execution_count": 55,
   "id": "21ca16f4",
   "metadata": {},
   "outputs": [
    {
     "data": {
      "text/plain": [
       "<pymongo.results.InsertManyResult at 0x150e1ff70>"
      ]
     },
     "execution_count": 55,
     "metadata": {},
     "output_type": "execute_result"
    }
   ],
   "source": [
    "data=pd.read_csv('emp.csv')\n",
    "df=data.to_dict(orient='records')\n",
    "db=client['db_test']\n",
    "db.emp_data.insert_many(df)"
   ]
  },
  {
   "cell_type": "markdown",
   "id": "fa271418",
   "metadata": {},
   "source": [
    "### import json file into mongo collection"
   ]
  },
  {
   "cell_type": "code",
   "execution_count": 56,
   "id": "ec9848d6",
   "metadata": {},
   "outputs": [],
   "source": [
    "import json"
   ]
  },
  {
   "cell_type": "code",
   "execution_count": 59,
   "id": "67a0d947",
   "metadata": {},
   "outputs": [
    {
     "data": {
      "text/plain": [
       "<pymongo.results.InsertManyResult at 0x126670f40>"
      ]
     },
     "execution_count": 59,
     "metadata": {},
     "output_type": "execute_result"
    }
   ],
   "source": [
    "f=open('iris.json')\n",
    "data=json.load(f)\n",
    "db.iris.insert_many(data)"
   ]
  },
  {
   "cell_type": "markdown",
   "id": "14105b23",
   "metadata": {},
   "source": [
    "### export collection into dataframe"
   ]
  },
  {
   "cell_type": "code",
   "execution_count": 67,
   "id": "09583163",
   "metadata": {},
   "outputs": [
    {
     "data": {
      "text/html": [
       "<div>\n",
       "<style scoped>\n",
       "    .dataframe tbody tr th:only-of-type {\n",
       "        vertical-align: middle;\n",
       "    }\n",
       "\n",
       "    .dataframe tbody tr th {\n",
       "        vertical-align: top;\n",
       "    }\n",
       "\n",
       "    .dataframe thead th {\n",
       "        text-align: right;\n",
       "    }\n",
       "</style>\n",
       "<table border=\"1\" class=\"dataframe\">\n",
       "  <thead>\n",
       "    <tr style=\"text-align: right;\">\n",
       "      <th></th>\n",
       "      <th>_id</th>\n",
       "      <th>rollno</th>\n",
       "      <th>stud_name</th>\n",
       "      <th>cgpa</th>\n",
       "      <th>loc</th>\n",
       "      <th>contact</th>\n",
       "    </tr>\n",
       "  </thead>\n",
       "  <tbody>\n",
       "    <tr>\n",
       "      <th>0</th>\n",
       "      <td>63a1d0aa65e1e6f2d4a09bf4</td>\n",
       "      <td>101</td>\n",
       "      <td>rohit</td>\n",
       "      <td>9</td>\n",
       "      <td>pune</td>\n",
       "      <td>NaN</td>\n",
       "    </tr>\n",
       "    <tr>\n",
       "      <th>1</th>\n",
       "      <td>63a1d0ae65e1e6f2d4a09bf5</td>\n",
       "      <td>102</td>\n",
       "      <td>snehal</td>\n",
       "      <td>8</td>\n",
       "      <td>pune</td>\n",
       "      <td>NaN</td>\n",
       "    </tr>\n",
       "    <tr>\n",
       "      <th>2</th>\n",
       "      <td>63a1d0b065e1e6f2d4a09bf6</td>\n",
       "      <td>103</td>\n",
       "      <td>rohit</td>\n",
       "      <td>7</td>\n",
       "      <td>pune</td>\n",
       "      <td>8983720070</td>\n",
       "    </tr>\n",
       "    <tr>\n",
       "      <th>3</th>\n",
       "      <td>63a1d0b265e1e6f2d4a09bf7</td>\n",
       "      <td>103</td>\n",
       "      <td>rohit</td>\n",
       "      <td>7</td>\n",
       "      <td>pune</td>\n",
       "      <td>{'mob': 8983720070, 'email': 'rohit@gmail.com'}</td>\n",
       "    </tr>\n",
       "  </tbody>\n",
       "</table>\n",
       "</div>"
      ],
      "text/plain": [
       "                        _id  rollno stud_name  cgpa   loc  \\\n",
       "0  63a1d0aa65e1e6f2d4a09bf4     101     rohit     9  pune   \n",
       "1  63a1d0ae65e1e6f2d4a09bf5     102    snehal     8  pune   \n",
       "2  63a1d0b065e1e6f2d4a09bf6     103     rohit     7  pune   \n",
       "3  63a1d0b265e1e6f2d4a09bf7     103     rohit     7  pune   \n",
       "\n",
       "                                           contact  \n",
       "0                                              NaN  \n",
       "1                                              NaN  \n",
       "2                                       8983720070  \n",
       "3  {'mob': 8983720070, 'email': 'rohit@gmail.com'}  "
      ]
     },
     "execution_count": 67,
     "metadata": {},
     "output_type": "execute_result"
    }
   ],
   "source": [
    "data=coll.find({})\n",
    "data1=list(data)\n",
    "df=pd.DataFrame(data1)\n",
    "df"
   ]
  },
  {
   "cell_type": "markdown",
   "id": "372dbcb8",
   "metadata": {},
   "source": [
    "### summary"
   ]
  },
  {
   "cell_type": "code",
   "execution_count": null,
   "id": "0c78791f",
   "metadata": {},
   "outputs": [],
   "source": [
    "\n",
    "create database:\n",
    "    connection_name['database_name']\n",
    "    \n",
    "create collection:\n",
    "    database_name['collection_name']\n",
    "    \n",
    "insert document:\n",
    "    insert_one(): used to insert a single document\n",
    "    collection_name.insert_one({key:value})\n",
    "    \n",
    "    insert_many(): used to insert multiple documents\n",
    "    collection_name.insert_many([{key:value},{key:value}])\n",
    "    \n",
    "read data :\n",
    "    find_one(): used to read a single document\n",
    "    collection_name.find_one({filter condition},{select})\n",
    "    without filter condition: read the first document of the collection\n",
    "    with filter condition   : read the first matched document\n",
    "        \n",
    "    find(): used to read multiple documents\n",
    "    collection_name.find({filter condition},{select})\n",
    "    without filter condition: read all documents of the collection\n",
    "    with filter condition   : read all matched documents\n",
    "        \n",
    "update data:\n",
    "    update_one(): update a single docuemnt\n",
    "    collection_name.update_one({filter condition},{'$set'{'key':'value'}})\n",
    "    without filter condition: update the first document of the collection\n",
    "    with filter condition   : update the first matched document\n",
    "   \n",
    "    update_many(): update multiple documents\n",
    "    collection_name.update_many({filter condition},{'$set':{'key':'value'}})\n",
    "    without filter condition: update all documents of the collection\n",
    "    with filter condition   : update all matched documents\n",
    "    \n",
    "delete data:\n",
    "    delete_one() : delete single document\n",
    "    collection_name.delete_one({filter condition})\n",
    "    without filter condition: delete the first document of the collection\n",
    "    with filter condition   : delete the first matched document\n",
    "        \n",
    "    delete_many(): delete multiple documents\n",
    "    collection_name.delete_many({filter condition})\n",
    "    without filter condition: delete all documents of the collection\n",
    "    with filter condition   : delete all matched documents\n",
    "   \n",
    "    \n",
    "    "
   ]
  }
 ],
 "metadata": {
  "kernelspec": {
   "display_name": "Python 3 (ipykernel)",
   "language": "python",
   "name": "python3"
  },
  "language_info": {
   "codemirror_mode": {
    "name": "ipython",
    "version": 3
   },
   "file_extension": ".py",
   "mimetype": "text/x-python",
   "name": "python",
   "nbconvert_exporter": "python",
   "pygments_lexer": "ipython3",
   "version": "3.10.8"
  }
 },
 "nbformat": 4,
 "nbformat_minor": 5
}
