{
 "cells": [
  {
   "cell_type": "code",
   "execution_count": 3,
   "id": "ebd66cf4",
   "metadata": {},
   "outputs": [
    {
     "data": {
      "text/plain": [
       "{'Key1': 'Val1'}"
      ]
     },
     "execution_count": 3,
     "metadata": {},
     "output_type": "execute_result"
    }
   ],
   "source": [
    "di1 = {\"Key1\":\"Val1\"}\n",
    "di1"
   ]
  },
  {
   "cell_type": "markdown",
   "id": "d61d1036",
   "metadata": {},
   "source": [
    "# fromkeys()\n",
    "- dict.fromkeys(sequence, [val])"
   ]
  },
  {
   "cell_type": "code",
   "execution_count": 1,
   "id": "9fff56a6",
   "metadata": {},
   "outputs": [],
   "source": [
    "di = {}"
   ]
  },
  {
   "cell_type": "code",
   "execution_count": 2,
   "id": "e185fd6e",
   "metadata": {},
   "outputs": [
    {
     "data": {
      "text/plain": [
       "{}"
      ]
     },
     "execution_count": 2,
     "metadata": {},
     "output_type": "execute_result"
    }
   ],
   "source": [
    "di"
   ]
  },
  {
   "cell_type": "code",
   "execution_count": 7,
   "id": "a00f9418",
   "metadata": {},
   "outputs": [
    {
     "data": {
      "text/plain": [
       "{'One': None, 'Two': None, 'Three': None}"
      ]
     },
     "execution_count": 7,
     "metadata": {},
     "output_type": "execute_result"
    }
   ],
   "source": [
    "result = di.fromkeys([\"One\",\"Two\",\"Three\"])\n",
    "result"
   ]
  },
  {
   "cell_type": "code",
   "execution_count": 8,
   "id": "b6094d28",
   "metadata": {},
   "outputs": [
    {
     "data": {
      "text/plain": [
       "{}"
      ]
     },
     "execution_count": 8,
     "metadata": {},
     "output_type": "execute_result"
    }
   ],
   "source": [
    "di"
   ]
  },
  {
   "cell_type": "code",
   "execution_count": 9,
   "id": "31b2942f",
   "metadata": {},
   "outputs": [
    {
     "data": {
      "text/plain": [
       "dict_values([None, None, None])"
      ]
     },
     "execution_count": 9,
     "metadata": {},
     "output_type": "execute_result"
    }
   ],
   "source": [
    "result.values()"
   ]
  },
  {
   "cell_type": "code",
   "execution_count": 10,
   "id": "e7ff6c19",
   "metadata": {},
   "outputs": [
    {
     "data": {
      "text/plain": [
       "dict_keys(['One', 'Two', 'Three'])"
      ]
     },
     "execution_count": 10,
     "metadata": {},
     "output_type": "execute_result"
    }
   ],
   "source": [
    "result.keys()"
   ]
  },
  {
   "cell_type": "code",
   "execution_count": 11,
   "id": "c5bf6f84",
   "metadata": {},
   "outputs": [
    {
     "data": {
      "text/plain": [
       "{'One': [1, 2, 3], 'Two': [1, 2, 3], 'Three': [1, 2, 3]}"
      ]
     },
     "execution_count": 11,
     "metadata": {},
     "output_type": "execute_result"
    }
   ],
   "source": [
    "di.fromkeys(['One', 'Two', 'Three'],[1,2,3])"
   ]
  },
  {
   "cell_type": "code",
   "execution_count": 12,
   "id": "92c056ee",
   "metadata": {},
   "outputs": [
    {
     "data": {
      "text/plain": [
       "{'One': 1, 'Two': 1, 'Three': 1}"
      ]
     },
     "execution_count": 12,
     "metadata": {},
     "output_type": "execute_result"
    }
   ],
   "source": [
    "di.fromkeys(['One', 'Two', 'Three'],1)"
   ]
  },
  {
   "cell_type": "code",
   "execution_count": 13,
   "id": "7b7411de",
   "metadata": {},
   "outputs": [
    {
     "data": {
      "text/plain": [
       "{'One': 1000, 'Two': 1000, 'Three': 1000}"
      ]
     },
     "execution_count": 13,
     "metadata": {},
     "output_type": "execute_result"
    }
   ],
   "source": [
    "di.fromkeys(['One', 'Two', 'Three'],1000)"
   ]
  },
  {
   "cell_type": "code",
   "execution_count": 14,
   "id": "5c7e2156",
   "metadata": {},
   "outputs": [
    {
     "data": {
      "text/plain": [
       "{'One': 'Python', 'Two': 'Python', 'Three': 'Python'}"
      ]
     },
     "execution_count": 14,
     "metadata": {},
     "output_type": "execute_result"
    }
   ],
   "source": [
    "di.fromkeys(['One', 'Two', 'Three'],\"Python\")"
   ]
  },
  {
   "cell_type": "code",
   "execution_count": 15,
   "id": "853250e5",
   "metadata": {},
   "outputs": [
    {
     "data": {
      "text/plain": [
       "{'One': 'Python', 'Two': 'Python', 'Three': 'Python'}"
      ]
     },
     "execution_count": 15,
     "metadata": {},
     "output_type": "execute_result"
    }
   ],
   "source": [
    "di.fromkeys(('One', 'Two', 'Three'),\"Python\")"
   ]
  },
  {
   "cell_type": "code",
   "execution_count": 16,
   "id": "978ce6e1",
   "metadata": {},
   "outputs": [
    {
     "data": {
      "text/plain": [
       "{}"
      ]
     },
     "execution_count": 16,
     "metadata": {},
     "output_type": "execute_result"
    }
   ],
   "source": [
    "di"
   ]
  },
  {
   "cell_type": "code",
   "execution_count": 17,
   "id": "4d69742d",
   "metadata": {},
   "outputs": [
    {
     "name": "stdout",
     "output_type": "stream",
     "text": [
      "<class 'NoneType'>\n",
      "<class 'NoneType'>\n",
      "<class 'NoneType'>\n"
     ]
    }
   ],
   "source": [
    "for i in result.values():\n",
    "    print(type(i))"
   ]
  },
  {
   "cell_type": "markdown",
   "id": "1151f91b",
   "metadata": {},
   "source": [
    "# setdefault\n",
    "- Return a value with a specified key\n",
    "- If specified key is not present in the dictionary, then it will gets added."
   ]
  },
  {
   "cell_type": "code",
   "execution_count": 19,
   "id": "d1920fc1",
   "metadata": {},
   "outputs": [
    {
     "data": {
      "text/plain": [
       "{'Employee_name': 'Monika',\n",
       " 'Employee_lname': 'Kabra',\n",
       " 'Employee_ID': 10010,\n",
       " 'Employee_Designation': 'Data Analyst',\n",
       " 'Employee_Salary': 1500000,\n",
       " 'Employee_Location': 'Pune'}"
      ]
     },
     "execution_count": 19,
     "metadata": {},
     "output_type": "execute_result"
    }
   ],
   "source": [
    "new_di = {\n",
    "    \"Employee_name\" : \"Monika\",\n",
    "    \"Employee_lname\" : \"Kabra\",\n",
    "    \"Employee_ID\" : 10010,\n",
    "    \"Employee_Designation\" : \"Data Analyst\",\n",
    "    \"Employee_Salary\" : 1500000,\n",
    "    \"Employee_Location\" : \"Pune\"\n",
    "}\n",
    "new_di"
   ]
  },
  {
   "cell_type": "code",
   "execution_count": 20,
   "id": "8c2083de",
   "metadata": {},
   "outputs": [
    {
     "data": {
      "text/plain": [
       "'Pune'"
      ]
     },
     "execution_count": 20,
     "metadata": {},
     "output_type": "execute_result"
    }
   ],
   "source": [
    "new_di.setdefault(\"Employee_Location\")"
   ]
  },
  {
   "cell_type": "code",
   "execution_count": 21,
   "id": "4c37dbc3",
   "metadata": {},
   "outputs": [],
   "source": [
    "new_di.setdefault(\"Employee_Location1\")# Key not present"
   ]
  },
  {
   "cell_type": "code",
   "execution_count": 22,
   "id": "d454606b",
   "metadata": {},
   "outputs": [
    {
     "data": {
      "text/plain": [
       "{'Employee_name': 'Monika',\n",
       " 'Employee_lname': 'Kabra',\n",
       " 'Employee_ID': 10010,\n",
       " 'Employee_Designation': 'Data Analyst',\n",
       " 'Employee_Salary': 1500000,\n",
       " 'Employee_Location': 'Pune',\n",
       " 'Employee_Location1': None}"
      ]
     },
     "execution_count": 22,
     "metadata": {},
     "output_type": "execute_result"
    }
   ],
   "source": [
    "new_di"
   ]
  },
  {
   "cell_type": "code",
   "execution_count": 26,
   "id": "3a4d2498",
   "metadata": {},
   "outputs": [
    {
     "data": {
      "text/plain": [
       "'Pune2'"
      ]
     },
     "execution_count": 26,
     "metadata": {},
     "output_type": "execute_result"
    }
   ],
   "source": [
    "new_di.setdefault(\"Employee_Location2\",\"Pune2\")"
   ]
  },
  {
   "cell_type": "code",
   "execution_count": 27,
   "id": "48976ed8",
   "metadata": {},
   "outputs": [
    {
     "data": {
      "text/plain": [
       "{'Employee_name': 'Monika',\n",
       " 'Employee_lname': 'Kabra',\n",
       " 'Employee_ID': 10010,\n",
       " 'Employee_Designation': 'Data Analyst',\n",
       " 'Employee_Salary': 1500000,\n",
       " 'Employee_Location': 'Pune',\n",
       " 'Employee_Location1': None,\n",
       " 'Employee_Location2': 'Pune2'}"
      ]
     },
     "execution_count": 27,
     "metadata": {},
     "output_type": "execute_result"
    }
   ],
   "source": [
    "new_di"
   ]
  },
  {
   "cell_type": "code",
   "execution_count": 29,
   "id": "e327ee1b",
   "metadata": {},
   "outputs": [
    {
     "data": {
      "text/plain": [
       "10010"
      ]
     },
     "execution_count": 29,
     "metadata": {},
     "output_type": "execute_result"
    }
   ],
   "source": [
    "new_di.setdefault(\"Employee_ID\",10011)"
   ]
  },
  {
   "cell_type": "code",
   "execution_count": 30,
   "id": "b80a61d7",
   "metadata": {},
   "outputs": [],
   "source": [
    "new_di.setdefault(\"Employee_ID_Vendor\")"
   ]
  },
  {
   "cell_type": "code",
   "execution_count": 31,
   "id": "f4dd6cde",
   "metadata": {},
   "outputs": [
    {
     "data": {
      "text/plain": [
       "{'Employee_name': 'Monika',\n",
       " 'Employee_lname': 'Kabra',\n",
       " 'Employee_ID': 10010,\n",
       " 'Employee_Designation': 'Data Analyst',\n",
       " 'Employee_Salary': 1500000,\n",
       " 'Employee_Location': 'Pune',\n",
       " 'Employee_Location1': None,\n",
       " 'Employee_Location2': 'Pune2',\n",
       " 'Employee_ID_Vendor': None}"
      ]
     },
     "execution_count": 31,
     "metadata": {},
     "output_type": "execute_result"
    }
   ],
   "source": [
    "new_di"
   ]
  },
  {
   "cell_type": "code",
   "execution_count": 32,
   "id": "72b6ee30",
   "metadata": {},
   "outputs": [
    {
     "data": {
      "text/plain": [
       "11199"
      ]
     },
     "execution_count": 32,
     "metadata": {},
     "output_type": "execute_result"
    }
   ],
   "source": [
    "new_di.setdefault(\"Employee_ID_Vendor1\",11199)"
   ]
  },
  {
   "cell_type": "code",
   "execution_count": 33,
   "id": "770ae613",
   "metadata": {},
   "outputs": [
    {
     "data": {
      "text/plain": [
       "{'Employee_name': 'Monika',\n",
       " 'Employee_lname': 'Kabra',\n",
       " 'Employee_ID': 10010,\n",
       " 'Employee_Designation': 'Data Analyst',\n",
       " 'Employee_Salary': 1500000,\n",
       " 'Employee_Location': 'Pune',\n",
       " 'Employee_Location1': None,\n",
       " 'Employee_Location2': 'Pune2',\n",
       " 'Employee_ID_Vendor': None,\n",
       " 'Employee_ID_Vendor1': 11199}"
      ]
     },
     "execution_count": 33,
     "metadata": {},
     "output_type": "execute_result"
    }
   ],
   "source": [
    "new_di"
   ]
  },
  {
   "cell_type": "markdown",
   "id": "fbd31b70",
   "metadata": {},
   "source": [
    "# copy"
   ]
  },
  {
   "cell_type": "code",
   "execution_count": 34,
   "id": "00c03106",
   "metadata": {},
   "outputs": [
    {
     "data": {
      "text/plain": [
       "{'Employee_name': 'Monika',\n",
       " 'Employee_lname': 'Kabra',\n",
       " 'Employee_ID': 10010,\n",
       " 'Employee_Designation': 'Data Analyst',\n",
       " 'Employee_Salary': 1500000,\n",
       " 'Employee_Location': 'Pune',\n",
       " 'Employee_Location1': None,\n",
       " 'Employee_Location2': 'Pune2',\n",
       " 'Employee_ID_Vendor': None,\n",
       " 'Employee_ID_Vendor1': 11199}"
      ]
     },
     "execution_count": 34,
     "metadata": {},
     "output_type": "execute_result"
    }
   ],
   "source": [
    "new_di"
   ]
  },
  {
   "cell_type": "code",
   "execution_count": 35,
   "id": "7ef51035",
   "metadata": {},
   "outputs": [
    {
     "data": {
      "text/plain": [
       "{'Employee_name': 'Monika',\n",
       " 'Employee_lname': 'Kabra',\n",
       " 'Employee_ID': 10010,\n",
       " 'Employee_Designation': 'Data Analyst',\n",
       " 'Employee_Salary': 1500000,\n",
       " 'Employee_Location': 'Pune',\n",
       " 'Employee_Location1': None,\n",
       " 'Employee_Location2': 'Pune2',\n",
       " 'Employee_ID_Vendor': None,\n",
       " 'Employee_ID_Vendor1': 11199,\n",
       " 'XYZ': 100}"
      ]
     },
     "execution_count": 35,
     "metadata": {},
     "output_type": "execute_result"
    }
   ],
   "source": [
    "new_di1 = new_di\n",
    "new_di1[\"XYZ\"] = 100\n",
    "new_di"
   ]
  },
  {
   "cell_type": "code",
   "execution_count": 37,
   "id": "bb0eea3b",
   "metadata": {},
   "outputs": [
    {
     "data": {
      "text/plain": [
       "{'Employee_name': 'Monika',\n",
       " 'Employee_lname': 'Kabra',\n",
       " 'Employee_ID': 10010,\n",
       " 'Employee_Designation': 'Data Analyst',\n",
       " 'Employee_Salary': 1500000,\n",
       " 'Employee_Location': 'Pune',\n",
       " 'Employee_Location1': None,\n",
       " 'Employee_Location2': 'Pune2',\n",
       " 'Employee_ID_Vendor': None,\n",
       " 'Employee_ID_Vendor1': 11199}"
      ]
     },
     "execution_count": 37,
     "metadata": {},
     "output_type": "execute_result"
    }
   ],
   "source": [
    "new_di = {'Employee_name': 'Monika',\n",
    " 'Employee_lname': 'Kabra',\n",
    " 'Employee_ID': 10010,\n",
    " 'Employee_Designation': 'Data Analyst',\n",
    " 'Employee_Salary': 1500000,\n",
    " 'Employee_Location': 'Pune',\n",
    " 'Employee_Location1': None,\n",
    " 'Employee_Location2': 'Pune2',\n",
    " 'Employee_ID_Vendor': None,\n",
    " 'Employee_ID_Vendor1': 11199}\n",
    "new_di2 = new_di.copy()\n",
    "new_di2[\"XYZ\"] = 100\n",
    "new_di"
   ]
  },
  {
   "cell_type": "code",
   "execution_count": null,
   "id": "2d545bd2",
   "metadata": {},
   "outputs": [],
   "source": []
  }
 ],
 "metadata": {
  "kernelspec": {
   "display_name": "Python 3 (ipykernel)",
   "language": "python",
   "name": "python3"
  },
  "language_info": {
   "codemirror_mode": {
    "name": "ipython",
    "version": 3
   },
   "file_extension": ".py",
   "mimetype": "text/x-python",
   "name": "python",
   "nbconvert_exporter": "python",
   "pygments_lexer": "ipython3",
   "version": "3.9.12"
  }
 },
 "nbformat": 4,
 "nbformat_minor": 5
}
