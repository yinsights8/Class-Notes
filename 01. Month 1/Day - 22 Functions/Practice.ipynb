{
 "cells": [
  {
   "cell_type": "markdown",
   "id": "a77122a6",
   "metadata": {},
   "source": [
    "## Fromkeys(iterator, value)"
   ]
  },
  {
   "cell_type": "code",
   "execution_count": 3,
   "id": "d5dfb818",
   "metadata": {},
   "outputs": [
    {
     "name": "stdout",
     "output_type": "stream",
     "text": [
      "{'one': None, 'Two': None, 'Three': None, 'Four': None}\n"
     ]
    }
   ],
   "source": [
    "list1= [\"one\", \"Two\", \"Three\", \"Four\"]\n",
    "\n",
    "dic1 = dict.fromkeys(list1)\n",
    "print(dic1)"
   ]
  },
  {
   "cell_type": "markdown",
   "id": "f6409f7f",
   "metadata": {},
   "source": [
    "###### Note:- if we do not pass an argument then it will assign None value  as a default value"
   ]
  },
  {
   "cell_type": "code",
   "execution_count": 7,
   "id": "5ce26bcd",
   "metadata": {},
   "outputs": [
    {
     "name": "stdout",
     "output_type": "stream",
     "text": [
      "{'one': (12, 14, 56), 'Two': (12, 14, 56), 'Three': (12, 14, 56), 'Four': (12, 14, 56)}\n"
     ]
    }
   ],
   "source": [
    "list2 = [\"one\", \"Two\", \"Three\", \"Four\"]\n",
    "\n",
    "values = 12,14,56\n",
    "\n",
    "new_dict = dict.fromkeys(list2, values)\n",
    "print(new_dict)"
   ]
  },
  {
   "cell_type": "code",
   "execution_count": 11,
   "id": "f7cedcae",
   "metadata": {},
   "outputs": [
    {
     "name": "stdout",
     "output_type": "stream",
     "text": [
      "{'Two': (12, 14, 56), 'one': (12, 14, 56), 'Three': (12, 14, 56), 'Four': (12, 14, 56)}\n"
     ]
    }
   ],
   "source": [
    "list2 = frozenset([\"one\", \"Two\", \"Three\", \"Four\"])\n",
    "\n",
    "values = 12,14,56\n",
    "\n",
    "new_dict = dict.fromkeys(list2, values)\n",
    "print(new_dict)"
   ]
  },
  {
   "cell_type": "code",
   "execution_count": 1,
   "id": "a921f578",
   "metadata": {
    "scrolled": true
   },
   "outputs": [
    {
     "name": "stdout",
     "output_type": "stream",
     "text": [
      "{'yash': {'position': 'Data scientist', 'Location': 'USA', 'Salary': '90000 $', 'Contact Number': 1234567890}, 'rutik': {'position': 'Data scientist', 'Location': 'USA', 'Salary': '90000 $', 'Contact Number': 1234567890}}\n"
     ]
    }
   ],
   "source": [
    "names = [\"yash\", \"rutik\"]\n",
    "data = {\n",
    "    \"position\": \"Data scientist\",\n",
    "    \"Location\": \"USA\",\n",
    "    \"Salary\": \"90000 $\",\n",
    "    \"Contact Number\": 1234567890\n",
    "    }\n",
    "\n",
    "employee_data = dict.fromkeys(names, data)\n",
    "print(employee_data)"
   ]
  },
  {
   "cell_type": "code",
   "execution_count": 5,
   "id": "2794f5fd",
   "metadata": {},
   "outputs": [
    {
     "data": {
      "text/plain": [
       "{'position': 'Data scientist',\n",
       " 'Location': 'Pune',\n",
       " 'Salary': 1500000,\n",
       " 'Contact Number': 7894561230}"
      ]
     },
     "execution_count": 5,
     "metadata": {},
     "output_type": "execute_result"
    }
   ],
   "source": [
    "employee_data[\"rutik\"]"
   ]
  },
  {
   "cell_type": "code",
   "execution_count": null,
   "id": "c1657669",
   "metadata": {},
   "outputs": [],
   "source": []
  },
  {
   "cell_type": "code",
   "execution_count": 2,
   "id": "92ed898b",
   "metadata": {},
   "outputs": [],
   "source": [
    "employee_data[\"rutik\"][\"Location\"] = \"Pune\"\n",
    "employee_data[\"rutik\"][\"Salary\"] = 1500000\n",
    "employee_data[\"rutik\"][\"Contact Number\"]  = 7894561230"
   ]
  },
  {
   "cell_type": "code",
   "execution_count": 3,
   "id": "bee39d23",
   "metadata": {},
   "outputs": [
    {
     "name": "stdout",
     "output_type": "stream",
     "text": [
      "{'yash': {'position': 'Data scientist', 'Location': 'Pune', 'Salary': 1500000, 'Contact Number': 7894561230}, 'rutik': {'position': 'Data scientist', 'Location': 'Pune', 'Salary': 1500000, 'Contact Number': 7894561230}}\n"
     ]
    }
   ],
   "source": [
    "print(employee_data)"
   ]
  },
  {
   "cell_type": "code",
   "execution_count": null,
   "id": "5b1238d8",
   "metadata": {},
   "outputs": [],
   "source": []
  },
  {
   "cell_type": "code",
   "execution_count": null,
   "id": "00974a81",
   "metadata": {},
   "outputs": [],
   "source": []
  },
  {
   "cell_type": "code",
   "execution_count": 9,
   "id": "615ebb20",
   "metadata": {},
   "outputs": [
    {
     "name": "stdout",
     "output_type": "stream",
     "text": [
      "{'yash': {'position': 'Data scientist', 'Location': 'USA', 'Salary': '90000 $', 'Contact Number': 1234567890}, 'rutik': {'position': 'Data scientist', 'Location': 'USA', 'Salary': '90000 $', 'Contact Number': 1234567890}}\n"
     ]
    }
   ],
   "source": [
    "names = [\"yash\", \"rutik\"]\n",
    "data = {\n",
    "    \"position\": \"Data scientist\",\n",
    "    \"Location\": \"USA\",\n",
    "    \"Salary\": \"90000 $\",\n",
    "    \"Contact Number\": 1234567890\n",
    "    }\n",
    "\n",
    "employee_data2 = dict.fromkeys(names, data)\n",
    "print(employee_data2)"
   ]
  },
  {
   "cell_type": "code",
   "execution_count": 10,
   "id": "5931b25c",
   "metadata": {},
   "outputs": [
    {
     "data": {
      "text/plain": [
       "{'position': 'Data scientist',\n",
       " 'Location': 'USA',\n",
       " 'Salary': '90000 $',\n",
       " 'Contact Number': 1234567890}"
      ]
     },
     "execution_count": 10,
     "metadata": {},
     "output_type": "execute_result"
    }
   ],
   "source": [
    "employee_data2[\"rutik\"]"
   ]
  },
  {
   "cell_type": "code",
   "execution_count": 12,
   "id": "fd6de027",
   "metadata": {},
   "outputs": [],
   "source": [
    "employee_data2[\"rutik\"][\"Salary\"] = 1500000"
   ]
  },
  {
   "cell_type": "code",
   "execution_count": 13,
   "id": "df683c70",
   "metadata": {},
   "outputs": [
    {
     "data": {
      "text/plain": [
       "{'yash': {'position': 'Data scientist',\n",
       "  'Location': 'USA',\n",
       "  'Salary': 1500000,\n",
       "  'Contact Number': 1234567890},\n",
       " 'rutik': {'position': 'Data scientist',\n",
       "  'Location': 'USA',\n",
       "  'Salary': 1500000,\n",
       "  'Contact Number': 1234567890}}"
      ]
     },
     "execution_count": 13,
     "metadata": {},
     "output_type": "execute_result"
    }
   ],
   "source": [
    "employee_data2"
   ]
  },
  {
   "cell_type": "markdown",
   "id": "ee39d268",
   "metadata": {},
   "source": [
    "# creating a dictionary with none values"
   ]
  },
  {
   "cell_type": "code",
   "execution_count": 21,
   "id": "93399c0f",
   "metadata": {},
   "outputs": [
    {
     "name": "stdout",
     "output_type": "stream",
     "text": [
      "Formedormed dictionary with no assign values: {'apple': None, 'ball': None, 'cat': None, 'dog': None, 'elephant': None}\n",
      "**************************************************\n",
      "\n",
      "Formed dictionary with assign values: {'apple': ['a', 'b', 'c'], 'ball': ['a', 'b', 'c'], 'cat': ['a', 'b', 'c'], 'dog': ['a', 'b', 'c'], 'elephant': ['a', 'b', 'c']}\n"
     ]
    }
   ],
   "source": [
    "seq = [\"apple\", \"ball\", \"cat\", \"dog\", \"elephant\"]\n",
    "\n",
    "result_dict = dict.fromkeys(seq)\n",
    "print(f\"Formedormed dictionary with no assign values: {result_dict}\")\n",
    "print(\"*\"*50)\n",
    "print()\n",
    "\n",
    "res_dict = dict.fromkeys(seq, ['a','b','c'])\n",
    "print(f\"Formed dictionary with assign values: {res_dict}\")"
   ]
  },
  {
   "cell_type": "code",
   "execution_count": 23,
   "id": "0eda81ed",
   "metadata": {},
   "outputs": [
    {
     "name": "stdout",
     "output_type": "stream",
     "text": [
      "{'One': 'Python', 'Two': 'Python', 'Three': 'Python'}\n"
     ]
    }
   ],
   "source": [
    "new = dict.fromkeys(('One', 'Two', 'Three'),\"Python\")\n",
    "print(new)"
   ]
  },
  {
   "cell_type": "code",
   "execution_count": 25,
   "id": "30a17be2",
   "metadata": {},
   "outputs": [
    {
     "name": "stdout",
     "output_type": "stream",
     "text": [
      "{'One': 'Python', 'Two': 'Python', 'Three': 'Python'}\n"
     ]
    }
   ],
   "source": [
    "di = {}\n",
    "\n",
    "new_di = di.fromkeys(('One', 'Two', 'Three'),\"Python\")\n",
    "print(new_di)"
   ]
  },
  {
   "cell_type": "markdown",
   "id": "0f1b6e8d",
   "metadata": {},
   "source": [
    "# setdefault()"
   ]
  },
  {
   "cell_type": "markdown",
   "id": "bd38587f",
   "metadata": {},
   "source": [
    "### syntax:- \n",
    "###### dict.setdefault( keyname, value )"
   ]
  },
  {
   "cell_type": "code",
   "execution_count": 35,
   "id": "bf216f03",
   "metadata": {},
   "outputs": [
    {
     "name": "stdout",
     "output_type": "stream",
     "text": [
      "{'name': 'Yash', 'position': 'Data scientist', 'Location': 'USA', 'Salary': '90000 $', 'Contact Number': 1234567890}\n"
     ]
    }
   ],
   "source": [
    "data = { \n",
    "    \"name\": \"Yash\",\n",
    "    \"position\": \"Data scientist\",\n",
    "    \"Location\": \"USA\",\n",
    "    \"Salary\": \"90000 $\",\n",
    "    \"Contact Number\": 1234567890\n",
    "    \n",
    "}\n",
    "print(data)"
   ]
  },
  {
   "cell_type": "code",
   "execution_count": 40,
   "id": "4493ac1d",
   "metadata": {},
   "outputs": [
    {
     "name": "stdout",
     "output_type": "stream",
     "text": [
      "{'name': 'Yash', 'position': 'Data scientist', 'Location': 'USA', 'Salary': '90000 $', 'Contact Number': 1234567890, 'work': None}\n"
     ]
    }
   ],
   "source": [
    "data.setdefault(\"work\")\n",
    "print(data)"
   ]
  },
  {
   "cell_type": "code",
   "execution_count": 43,
   "id": "4cb6423b",
   "metadata": {},
   "outputs": [
    {
     "name": "stdout",
     "output_type": "stream",
     "text": [
      "{'name': 'Yash', 'position': 'Data scientist', 'Location': 'USA', 'Salary': '90000 $', 'Contact Number': 1234567890, 'work': None, 'work1': 'Work from home'}\n"
     ]
    }
   ],
   "source": [
    "data.setdefault(\"work1\", \"Work from home\")\n",
    "print(data)"
   ]
  },
  {
   "cell_type": "code",
   "execution_count": 45,
   "id": "8df71615",
   "metadata": {},
   "outputs": [
    {
     "name": "stdout",
     "output_type": "stream",
     "text": [
      "{'name': 'Yash', 'position': 'Data scientist', 'Location': 'USA', 'Salary': '90000 $', 'Contact Number': 1234567890}\n"
     ]
    }
   ],
   "source": [
    "data1 = { \n",
    "    \"name\": \"Yash\",\n",
    "    \"position\": \"Data scientist\",\n",
    "    \"Location\": \"USA\",\n",
    "    \"Salary\": \"90000 $\",\n",
    "    \"Contact Number\": 1234567890\n",
    "    \n",
    "}\n",
    "print(data1)"
   ]
  },
  {
   "cell_type": "code",
   "execution_count": 46,
   "id": "95d9c3bf",
   "metadata": {},
   "outputs": [
    {
     "data": {
      "text/plain": [
       "'Yash'"
      ]
     },
     "execution_count": 46,
     "metadata": {},
     "output_type": "execute_result"
    }
   ],
   "source": [
    "# if the value is present within a dictionary then it simply going to return a the value \n",
    "# associeted with the key\n",
    "data1.setdefault(\"name\")"
   ]
  },
  {
   "cell_type": "code",
   "execution_count": 47,
   "id": "8afec215",
   "metadata": {},
   "outputs": [
    {
     "name": "stdout",
     "output_type": "stream",
     "text": [
      "{'name': 'Yash', 'position': 'Data scientist', 'Location': 'USA', 'Salary': '90000 $', 'Contact Number': 1234567890}\n"
     ]
    }
   ],
   "source": [
    "# if the value is not present in dictionary then the key will be inserted with a default value None\n",
    "# we can add value in setdefalult fuction \n",
    "\n",
    "data2 = { \n",
    "    \"name\": \"Yash\",\n",
    "    \"position\": \"Data scientist\",\n",
    "    \"Location\": \"USA\",\n",
    "    \"Salary\": \"90000 $\",\n",
    "    \"Contact Number\": 1234567890\n",
    "    \n",
    "}\n",
    "print(data2)"
   ]
  },
  {
   "cell_type": "code",
   "execution_count": 49,
   "id": "fcbdc274",
   "metadata": {},
   "outputs": [
    {
     "name": "stdout",
     "output_type": "stream",
     "text": [
      "{'name': 'Yash', 'position': 'Data scientist', 'Location': 'USA', 'Salary': '90000 $', 'Contact Number': 1234567890, 'key': 'value'}\n"
     ]
    }
   ],
   "source": [
    "data2.setdefault(\"key\", \"value\")\n",
    "print(data2)"
   ]
  },
  {
   "cell_type": "code",
   "execution_count": 50,
   "id": "50e4bc6c",
   "metadata": {},
   "outputs": [
    {
     "name": "stdout",
     "output_type": "stream",
     "text": [
      "{'name': 'Yash', 'position': 'Data scientist', 'Location': 'USA', 'Salary': '90000 $', 'Contact Number': 1234567890, 'key': 'value', 'key1': None}\n"
     ]
    }
   ],
   "source": [
    "data2.setdefault(\"key1\", )\n",
    "print(data2)"
   ]
  },
  {
   "cell_type": "markdown",
   "id": "3d17205c",
   "metadata": {},
   "source": [
    "## Fucntions"
   ]
  },
  {
   "cell_type": "code",
   "execution_count": 53,
   "id": "a569b698",
   "metadata": {},
   "outputs": [
    {
     "name": "stdout",
     "output_type": "stream",
     "text": [
      "70\n"
     ]
    }
   ],
   "source": [
    "def addition():\n",
    "    a = 20\n",
    "    b = 50\n",
    "    print(a+b)\n",
    "addition()"
   ]
  },
  {
   "cell_type": "code",
   "execution_count": 54,
   "id": "19808ff7",
   "metadata": {},
   "outputs": [
    {
     "name": "stdout",
     "output_type": "stream",
     "text": [
      "-------------------------\n",
      "We are learning functions\n",
      "-------------------------\n",
      "\n",
      "-------------------------\n",
      "We are learning functions\n",
      "-------------------------\n",
      "\n",
      "-------------------------\n",
      "We are learning functions\n",
      "-------------------------\n",
      "\n",
      "-------------------------\n",
      "We are learning functions\n",
      "-------------------------\n",
      "\n",
      "-------------------------\n",
      "We are learning functions\n",
      "-------------------------\n",
      "\n"
     ]
    }
   ],
   "source": [
    "print(\"-\"*25)\n",
    "print(\"We are learning functions\") # 4\n",
    "print(\"-\"*25)\n",
    "print()\n",
    "print(\"-\"*25)\n",
    "print(\"We are learning functions\") # 4\n",
    "print(\"-\"*25)\n",
    "print()\n",
    "print(\"-\"*25)\n",
    "print(\"We are learning functions\") # 4       Total lines = 20\n",
    "print(\"-\"*25)\n",
    "print()\n",
    "print(\"-\"*25)\n",
    "print(\"We are learning functions\") # 4\n",
    "print(\"-\"*25)\n",
    "print()\n",
    "print(\"-\"*25)\n",
    "print(\"We are learning functions\") # 4\n",
    "print(\"-\"*25)\n",
    "print()"
   ]
  },
  {
   "cell_type": "code",
   "execution_count": 4,
   "id": "83320d5c",
   "metadata": {},
   "outputs": [
    {
     "name": "stdout",
     "output_type": "stream",
     "text": [
      "-------------------------\n",
      "We are learning functions\n",
      "-------------------------\n",
      "\n",
      "-------------------------\n",
      "We are learning functions\n",
      "-------------------------\n",
      "\n",
      "-------------------------\n",
      "We are learning functions\n",
      "-------------------------\n",
      "\n",
      "-------------------------\n",
      "We are learning functions\n",
      "-------------------------\n",
      "\n",
      "-------------------------\n",
      "We are learning functions\n",
      "-------------------------\n",
      "\n"
     ]
    }
   ],
   "source": [
    "# to avoide the above repetations of the code we create a funcntion\n",
    "\n",
    "def func():\n",
    "    print(\"-\"*25)\n",
    "    print(\"We are learning functions\") # 4\n",
    "    print(\"-\"*25)\n",
    "    print()\n",
    "func()\n",
    "func()\n",
    "func()\n",
    "func()\n",
    "func()\n",
    "\n"
   ]
  },
  {
   "cell_type": "code",
   "execution_count": 5,
   "id": "39e7154f",
   "metadata": {},
   "outputs": [
    {
     "name": "stdout",
     "output_type": "stream",
     "text": [
      "-------------------------\n",
      "We are learning functions\n",
      "-------------------------\n",
      "\n",
      "-------------------------\n",
      "We are learning functions\n",
      "-------------------------\n",
      "\n",
      "-------------------------\n",
      "We are learning functions\n",
      "-------------------------\n",
      "\n",
      "-------------------------\n",
      "We are learning functions\n",
      "-------------------------\n",
      "\n",
      "-------------------------\n",
      "We are learning functions\n",
      "-------------------------\n",
      "\n"
     ]
    }
   ],
   "source": [
    "for _ in range(5):\n",
    "    func()"
   ]
  },
  {
   "cell_type": "code",
   "execution_count": 7,
   "id": "e48b15ef",
   "metadata": {},
   "outputs": [
    {
     "name": "stdout",
     "output_type": "stream",
     "text": [
      "-------------------------\n",
      "We are learning functions\n",
      "-------------------------\n",
      "\n",
      "-------------------------\n",
      "We are learning functions\n",
      "-------------------------\n",
      "\n",
      "-------------------------\n",
      "We are learning functions\n",
      "-------------------------\n",
      "\n",
      "-------------------------\n",
      "We are learning functions\n",
      "-------------------------\n",
      "\n",
      "-------------------------\n",
      "We are learning functions\n",
      "-------------------------\n",
      "\n"
     ]
    }
   ],
   "source": [
    "n = 5\n",
    "a = 0\n",
    "while a < n:\n",
    "    func()\n",
    "    a += 1"
   ]
  },
  {
   "cell_type": "code",
   "execution_count": 27,
   "id": "c1ca9ca6",
   "metadata": {},
   "outputs": [
    {
     "name": "stdout",
     "output_type": "stream",
     "text": [
      "10\n",
      "the addition of the result is: None\n"
     ]
    }
   ],
   "source": [
    "lis = [1,2,3,4]\n",
    "\n",
    "def addition(li):\n",
    "    add = 0\n",
    "    for i in li:\n",
    "        add += i\n",
    "    print(add)\n",
    "    \n",
    "\n",
    "result = addition(lis)\n",
    "print(f\"the addition of the result is: {result}\")"
   ]
  },
  {
   "cell_type": "code",
   "execution_count": 15,
   "id": "31ca7fb5",
   "metadata": {},
   "outputs": [],
   "source": [
    "lis = [1,2,3,4]\n"
   ]
  },
  {
   "cell_type": "code",
   "execution_count": 31,
   "id": "8d9a8550",
   "metadata": {},
   "outputs": [
    {
     "name": "stdout",
     "output_type": "stream",
     "text": [
      "The addition of the list elements is: 10\n",
      "66\n",
      "3666\n"
     ]
    }
   ],
   "source": [
    "lis = [1,2,3,4]\n",
    "\n",
    "def addition(li):\n",
    "    add = 0\n",
    "    for i in li:\n",
    "        add += i\n",
    "    return add\n",
    "    \n",
    "\n",
    "result = addition(lis)\n",
    "print(f\"The addition of the list elements is: {result}\")\n",
    "print(addition([11, 22, 33]))\n",
    "print(addition([111, 222, 3333]))"
   ]
  },
  {
   "cell_type": "markdown",
   "id": "2637c2c9",
   "metadata": {},
   "source": [
    "# find the average of a list"
   ]
  },
  {
   "cell_type": "code",
   "execution_count": 33,
   "id": "30553928",
   "metadata": {},
   "outputs": [
    {
     "name": "stdout",
     "output_type": "stream",
     "text": [
      "The average of a list is: 3.5\n"
     ]
    }
   ],
   "source": [
    "def avg(list1):\n",
    "    add = 0\n",
    "    for i in list1:\n",
    "        add += i\n",
    "    return add/len(list1)\n",
    "\n",
    "numbers = [1,2,3,4,5,6]\n",
    "result = avg(numbers)\n",
    "print(f\"The average of a list is: {result}\")"
   ]
  },
  {
   "cell_type": "code",
   "execution_count": 35,
   "id": "9cf353fb",
   "metadata": {},
   "outputs": [
    {
     "name": "stdout",
     "output_type": "stream",
     "text": [
      "even list: [4, 0, 6, 4, 2, 76, 34, 876]\n",
      "odd list: [5, 7, 65, 3, 5, 7, 9, 5, 9, 45, 65]\n"
     ]
    }
   ],
   "source": [
    "\n",
    "\n",
    "def even_odd(li_list):\n",
    "    even = []\n",
    "    odd = []\n",
    "    for i in li_list:\n",
    "        if i % 2 == 0:\n",
    "            even.append(i)\n",
    "        else:\n",
    "            odd.append(i)\n",
    "    print(f\"even list: {even}\")\n",
    "    print(f\"odd list: {odd}\")\n",
    "    \n",
    "li_num = [5,7,4,65,3,5,7,9,0,6,4,2,5,76,9,45,34,65,876]\n",
    "even_odd(li_num)"
   ]
  },
  {
   "cell_type": "code",
   "execution_count": 36,
   "id": "cb656611",
   "metadata": {},
   "outputs": [
    {
     "name": "stdout",
     "output_type": "stream",
     "text": [
      "even list: []\n",
      "odd list: [5, 7, 65, 3, 5, 7, 9, 5, 9, 45, 65]\n"
     ]
    }
   ],
   "source": [
    "def even_odd(li_list):\n",
    "    even = []\n",
    "    odd = []\n",
    "    for i in li_list:\n",
    "        if i % 2 == 0:\n",
    "#             even.append(i)\n",
    "            pass\n",
    "        else:\n",
    "            odd.append(i)\n",
    "    print(f\"even list: {even}\")\n",
    "    print(f\"odd list: {odd}\")\n",
    "    \n",
    "li_num = [5,7,4,65,3,5,7,9,0,6,4,2,5,76,9,45,34,65,876]\n",
    "even_odd(li_num)"
   ]
  },
  {
   "cell_type": "code",
   "execution_count": 37,
   "id": "f9a399e3",
   "metadata": {},
   "outputs": [
    {
     "name": "stdout",
     "output_type": "stream",
     "text": [
      "even list: [4, 0, 6, 4, 2, 76, 34, 876]\n",
      "odd list: []\n"
     ]
    }
   ],
   "source": [
    "def even_odd(li_list):\n",
    "    even = []\n",
    "    odd = []\n",
    "    for i in li_list:\n",
    "        if i % 2 == 0:\n",
    "            even.append(i)\n",
    "        else:\n",
    "#             odd.append(i)\n",
    "            pass\n",
    "    print(f\"even list: {even}\")\n",
    "    print(f\"odd list: {odd}\")\n",
    "    \n",
    "li_num = [5,7,4,65,3,5,7,9,0,6,4,2,5,76,9,45,34,65,876]\n",
    "even_odd(li_num)"
   ]
  },
  {
   "cell_type": "markdown",
   "id": "d1fc12fb",
   "metadata": {},
   "source": [
    "# get even_odd by list comprehension"
   ]
  },
  {
   "cell_type": "code",
   "execution_count": 40,
   "id": "a4e0e7f0",
   "metadata": {},
   "outputs": [
    {
     "name": "stdout",
     "output_type": "stream",
     "text": [
      "The even_numbers are: [4, 0, 6, 4, 2, 76, 34, 876]\n",
      "The od_numbers are: [5, 7, 65, 3, 5, 7, 9, 5, 9, 45, 65]\n"
     ]
    }
   ],
   "source": [
    "def get_even_odd(ev_od):\n",
    "    \n",
    "    eve = [i for i in ev_od if i % 2 == 0]\n",
    "    od = [i for i in ev_od if i % 2 != 0]\n",
    "    \n",
    "    print(f\"The even_numbers are: {eve}\")\n",
    "    print(f\"The od_numbers are: {od}\")\n",
    "\n",
    "get_even_odd([5,7,4,65,3,5,7,9,0,6,4,2,5,76,9,45,34,65,876])"
   ]
  },
  {
   "cell_type": "code",
   "execution_count": 42,
   "id": "505303e1",
   "metadata": {},
   "outputs": [
    {
     "name": "stdout",
     "output_type": "stream",
     "text": [
      "The even_numbers are: [4, 0, 6, 4, 2, 76, 34, 876]\n",
      "The od_numbers are: [5, 7, 65, 3, 5, 7, 9, 5, 9, 45, 65]\n"
     ]
    }
   ],
   "source": [
    "def get_even_odd(ev_od):\n",
    "    \n",
    "    eve = [i for i in ev_od if i % 2 == 0]\n",
    "    od = [i for i in ev_od if i % 2 != 0]\n",
    "    \n",
    "    print(f\"The even_numbers are: {eve}\")\n",
    "    print(f\"The od_numbers are: {od}\")\n",
    "\n",
    "get_even_odd([5,7,4,65,3,5,7,9,0,6,4,2,5,76,9,45,34,65,876])"
   ]
  },
  {
   "cell_type": "code",
   "execution_count": 45,
   "id": "83a48865",
   "metadata": {},
   "outputs": [
    {
     "data": {
      "text/plain": [
       "530"
      ]
     },
     "execution_count": 45,
     "metadata": {},
     "output_type": "execute_result"
    }
   ],
   "source": [
    "def learning_return():\n",
    "    x = 10\n",
    "    y = 20\n",
    "    return x + y\n",
    "\n",
    "learning_return() + 500"
   ]
  },
  {
   "cell_type": "code",
   "execution_count": 46,
   "id": "4cbef94d",
   "metadata": {},
   "outputs": [
    {
     "ename": "TypeError",
     "evalue": "unsupported operand type(s) for +: 'int' and 'str'",
     "output_type": "error",
     "traceback": [
      "\u001b[1;31m---------------------------------------------------------------------------\u001b[0m",
      "\u001b[1;31mTypeError\u001b[0m                                 Traceback (most recent call last)",
      "Input \u001b[1;32mIn [46]\u001b[0m, in \u001b[0;36m<cell line: 6>\u001b[1;34m()\u001b[0m\n\u001b[0;32m      3\u001b[0m     y \u001b[38;5;241m=\u001b[39m \u001b[38;5;241m20\u001b[39m\n\u001b[0;32m      4\u001b[0m     \u001b[38;5;28;01mreturn\u001b[39;00m x \u001b[38;5;241m+\u001b[39m y\n\u001b[1;32m----> 6\u001b[0m \u001b[43mlearning_return\u001b[49m\u001b[43m(\u001b[49m\u001b[43m)\u001b[49m\u001b[43m \u001b[49m\u001b[38;5;241;43m+\u001b[39;49m\u001b[43m \u001b[49m\u001b[38;5;124;43m\"\u001b[39;49m\u001b[38;5;124;43myash\u001b[39;49m\u001b[38;5;124;43m\"\u001b[39;49m\n",
      "\u001b[1;31mTypeError\u001b[0m: unsupported operand type(s) for +: 'int' and 'str'"
     ]
    }
   ],
   "source": [
    "def learning_return():\n",
    "    x = 10\n",
    "    y = 20\n",
    "    return x + y\n",
    "\n",
    "learning_return() + \"yash\""
   ]
  },
  {
   "cell_type": "code",
   "execution_count": 47,
   "id": "81b85395",
   "metadata": {},
   "outputs": [
    {
     "data": {
      "text/plain": [
       "32.5"
      ]
     },
     "execution_count": 47,
     "metadata": {},
     "output_type": "execute_result"
    }
   ],
   "source": [
    "def learning_return():\n",
    "    x = 10\n",
    "    y = 20\n",
    "    return x + y\n",
    "\n",
    "learning_return() + 2.5"
   ]
  },
  {
   "cell_type": "code",
   "execution_count": 48,
   "id": "8aafd647",
   "metadata": {},
   "outputs": [
    {
     "ename": "TypeError",
     "evalue": "unsupported operand type(s) for +: 'int' and 'list'",
     "output_type": "error",
     "traceback": [
      "\u001b[1;31m---------------------------------------------------------------------------\u001b[0m",
      "\u001b[1;31mTypeError\u001b[0m                                 Traceback (most recent call last)",
      "Input \u001b[1;32mIn [48]\u001b[0m, in \u001b[0;36m<cell line: 6>\u001b[1;34m()\u001b[0m\n\u001b[0;32m      3\u001b[0m     y \u001b[38;5;241m=\u001b[39m \u001b[38;5;241m20\u001b[39m\n\u001b[0;32m      4\u001b[0m     \u001b[38;5;28;01mreturn\u001b[39;00m x \u001b[38;5;241m+\u001b[39m y\n\u001b[1;32m----> 6\u001b[0m \u001b[43mlearning_return\u001b[49m\u001b[43m(\u001b[49m\u001b[43m)\u001b[49m\u001b[43m \u001b[49m\u001b[38;5;241;43m+\u001b[39;49m\u001b[43m \u001b[49m\u001b[43m[\u001b[49m\u001b[38;5;241;43m1\u001b[39;49m\u001b[43m,\u001b[49m\u001b[38;5;241;43m2\u001b[39;49m\u001b[43m,\u001b[49m\u001b[38;5;241;43m3\u001b[39;49m\u001b[43m]\u001b[49m\n",
      "\u001b[1;31mTypeError\u001b[0m: unsupported operand type(s) for +: 'int' and 'list'"
     ]
    }
   ],
   "source": [
    "def learning_return():\n",
    "    x = 10\n",
    "    y = 20\n",
    "    return x + y\n",
    "\n",
    "learning_return() + [1,2,3]"
   ]
  },
  {
   "cell_type": "code",
   "execution_count": 49,
   "id": "372fbd20",
   "metadata": {},
   "outputs": [
    {
     "ename": "TypeError",
     "evalue": "unsupported operand type(s) for +: 'int' and 'list'",
     "output_type": "error",
     "traceback": [
      "\u001b[1;31m---------------------------------------------------------------------------\u001b[0m",
      "\u001b[1;31mTypeError\u001b[0m                                 Traceback (most recent call last)",
      "Input \u001b[1;32mIn [49]\u001b[0m, in \u001b[0;36m<cell line: 1>\u001b[1;34m()\u001b[0m\n\u001b[1;32m----> 1\u001b[0m \u001b[38;5;241;43m2\u001b[39;49m\u001b[43m \u001b[49m\u001b[38;5;241;43m+\u001b[39;49m\u001b[43m \u001b[49m\u001b[43m[\u001b[49m\u001b[38;5;241;43m2\u001b[39;49m\u001b[43m,\u001b[49m\u001b[38;5;241;43m5\u001b[39;49m\u001b[43m,\u001b[49m\u001b[38;5;241;43m6\u001b[39;49m\u001b[43m]\u001b[49m\n",
      "\u001b[1;31mTypeError\u001b[0m: unsupported operand type(s) for +: 'int' and 'list'"
     ]
    }
   ],
   "source": [
    "2 + [2,5,6]"
   ]
  },
  {
   "cell_type": "code",
   "execution_count": 52,
   "id": "c06fb347",
   "metadata": {},
   "outputs": [
    {
     "ename": "TypeError",
     "evalue": "unsupported operand type(s) for //: 'list' and 'int'",
     "output_type": "error",
     "traceback": [
      "\u001b[1;31m---------------------------------------------------------------------------\u001b[0m",
      "\u001b[1;31mTypeError\u001b[0m                                 Traceback (most recent call last)",
      "Input \u001b[1;32mIn [52]\u001b[0m, in \u001b[0;36m<cell line: 1>\u001b[1;34m()\u001b[0m\n\u001b[1;32m----> 1\u001b[0m \u001b[43m[\u001b[49m\u001b[38;5;241;43m2\u001b[39;49m\u001b[43m,\u001b[49m\u001b[38;5;241;43m5\u001b[39;49m\u001b[43m,\u001b[49m\u001b[38;5;241;43m6\u001b[39;49m\u001b[43m]\u001b[49m\u001b[38;5;241;43m/\u001b[39;49m\u001b[38;5;241;43m/\u001b[39;49m\u001b[38;5;241;43m2\u001b[39;49m\n",
      "\u001b[1;31mTypeError\u001b[0m: unsupported operand type(s) for //: 'list' and 'int'"
     ]
    }
   ],
   "source": [
    "[2,5,6]//2"
   ]
  },
  {
   "cell_type": "code",
   "execution_count": 53,
   "id": "a84fa89f",
   "metadata": {},
   "outputs": [
    {
     "ename": "TypeError",
     "evalue": "unsupported operand type(s) for ** or pow(): 'list' and 'int'",
     "output_type": "error",
     "traceback": [
      "\u001b[1;31m---------------------------------------------------------------------------\u001b[0m",
      "\u001b[1;31mTypeError\u001b[0m                                 Traceback (most recent call last)",
      "Input \u001b[1;32mIn [53]\u001b[0m, in \u001b[0;36m<cell line: 1>\u001b[1;34m()\u001b[0m\n\u001b[1;32m----> 1\u001b[0m \u001b[43m[\u001b[49m\u001b[38;5;241;43m2\u001b[39;49m\u001b[43m,\u001b[49m\u001b[38;5;241;43m5\u001b[39;49m\u001b[43m,\u001b[49m\u001b[38;5;241;43m6\u001b[39;49m\u001b[43m]\u001b[49m\u001b[38;5;241;43m*\u001b[39;49m\u001b[38;5;241;43m*\u001b[39;49m\u001b[38;5;241;43m2\u001b[39;49m\n",
      "\u001b[1;31mTypeError\u001b[0m: unsupported operand type(s) for ** or pow(): 'list' and 'int'"
     ]
    }
   ],
   "source": [
    "[2,5,6]**2"
   ]
  },
  {
   "cell_type": "code",
   "execution_count": null,
   "id": "4ced5095",
   "metadata": {},
   "outputs": [],
   "source": []
  }
 ],
 "metadata": {
  "kernelspec": {
   "display_name": "Python 3 (ipykernel)",
   "language": "python",
   "name": "python3"
  },
  "language_info": {
   "codemirror_mode": {
    "name": "ipython",
    "version": 3
   },
   "file_extension": ".py",
   "mimetype": "text/x-python",
   "name": "python",
   "nbconvert_exporter": "python",
   "pygments_lexer": "ipython3",
   "version": "3.9.12"
  }
 },
 "nbformat": 4,
 "nbformat_minor": 5
}
