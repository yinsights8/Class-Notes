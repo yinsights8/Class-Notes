{
 "cells": [
  {
   "cell_type": "markdown",
   "id": "5f005104",
   "metadata": {},
   "source": [
    "# Functions\n",
    "- Functions are an organized block of reusable code\n",
    "- Functions will gest executed only when it gets called\n",
    "- def keyword is used to define a function\n",
    "- Function calling = my_funcname(),my_funcname1(arg1,arg2)\n",
    "- Function name should follow the identifier rules"
   ]
  },
  {
   "cell_type": "raw",
   "id": "43a30fef",
   "metadata": {},
   "source": [
    "f(z) = 3x + 4y # 4,5/1,3/100,200\n",
    "3*4 + 4*5\n",
    "3*1 + 4*3\n",
    "3*100 + 200 * 4\n",
    "\n",
    "3x + 4y # 4,5/1,3/100,200"
   ]
  },
  {
   "cell_type": "markdown",
   "id": "19a43fcc",
   "metadata": {},
   "source": [
    "# Syntax"
   ]
  },
  {
   "cell_type": "raw",
   "id": "5d0a6f60",
   "metadata": {},
   "source": [
    "def my_functionname(): # Defining a function\n",
    "    statement-1 |\n",
    "    statement-1 |\n",
    "    statement-1 |------------->>> Block of code\n",
    "        .       |\n",
    "        .       |\n",
    "    statement-n |\n",
    "    \n",
    "    \n",
    "my_functionname() # Calling a function\n",
    "\n",
    "def my_functionname(parameter1,parameter2):-Defining a function with parameter\n",
    "    statement-1 |\n",
    "    statement-1 |\n",
    "    statement-1 |------------->>> Block of code\n",
    "        .       |\n",
    "        .       |\n",
    "    statement-n |\n",
    "    \n",
    "    \n",
    "my_functionname(argument1,argument2) # Calling a function with argument\n",
    "\n"
   ]
  },
  {
   "cell_type": "code",
   "execution_count": 7,
   "id": "0b85b990",
   "metadata": {},
   "outputs": [
    {
     "name": "stdout",
     "output_type": "stream",
     "text": [
      "-------------------------\n",
      "We are learning functions\n",
      "-------------------------\n",
      "\n",
      "-------------------------\n",
      "We are learning functions\n",
      "-------------------------\n",
      "\n",
      "-------------------------\n",
      "We are learning functions\n",
      "-------------------------\n",
      "\n",
      "-------------------------\n",
      "We are learning functions\n",
      "-------------------------\n",
      "\n",
      "-------------------------\n",
      "We are learning functions\n",
      "-------------------------\n",
      "\n"
     ]
    }
   ],
   "source": [
    "print(\"-\"*25)\n",
    "print(\"We are learning functions\") # 4\n",
    "print(\"-\"*25)\n",
    "print()\n",
    "print(\"-\"*25)\n",
    "print(\"We are learning functions\") # 4\n",
    "print(\"-\"*25)\n",
    "print()\n",
    "print(\"-\"*25)\n",
    "print(\"We are learning functions\") # 4       Total lines = 20\n",
    "print(\"-\"*25)\n",
    "print()\n",
    "print(\"-\"*25)\n",
    "print(\"We are learning functions\") # 4\n",
    "print(\"-\"*25)\n",
    "print()\n",
    "print(\"-\"*25)\n",
    "print(\"We are learning functions\") # 4\n",
    "print(\"-\"*25)\n",
    "print()"
   ]
  },
  {
   "cell_type": "code",
   "execution_count": 10,
   "id": "20ff67df",
   "metadata": {},
   "outputs": [
    {
     "name": "stdout",
     "output_type": "stream",
     "text": [
      "-------------------------\n",
      "We are learning functions\n",
      "-------------------------\n",
      "\n",
      "-------------------------\n",
      "We are learning functions\n",
      "-------------------------\n",
      "\n",
      "-------------------------\n",
      "We are learning functions\n",
      "-------------------------\n",
      "\n",
      "-------------------------\n",
      "We are learning functions\n",
      "-------------------------\n",
      "\n",
      "-------------------------\n",
      "We are learning functions\n",
      "-------------------------\n",
      "\n"
     ]
    }
   ],
   "source": [
    "def welcome_noteForfunction(): # Definition\n",
    "    print(\"-\"*25)\n",
    "    print(\"We are learning functions\") # 4\n",
    "    print(\"-\"*25)\n",
    "    print()\n",
    "    \n",
    "welcome_noteForfunction() # Calling\n",
    "welcome_noteForfunction()\n",
    "welcome_noteForfunction()\n",
    "welcome_noteForfunction()\n",
    "welcome_noteForfunction()"
   ]
  },
  {
   "cell_type": "code",
   "execution_count": 12,
   "id": "85e6300c",
   "metadata": {},
   "outputs": [
    {
     "name": "stdout",
     "output_type": "stream",
     "text": [
      "List = [1, 2, 3]\n",
      "The summation = 6\n",
      "List = [11, 22, 33]\n",
      "The summation = 66\n",
      "List = [111, 222, 333]\n",
      "The summation = 666\n"
     ]
    }
   ],
   "source": [
    "li1 = [1,2,3]\n",
    "print(f\"List = {li1}\")\n",
    "summation = 0\n",
    "for i in li1:\n",
    "    summation += i\n",
    "print(f\"The summation = {summation}\")\n",
    "\n",
    "li2 = [11,22,33]\n",
    "print(f\"List = {li2}\")\n",
    "summation = 0\n",
    "for i in li2:\n",
    "    summation += i\n",
    "print(f\"The summation = {summation}\")\n",
    "\n",
    "li3 = [111,222,333]\n",
    "print(f\"List = {li3}\")\n",
    "summation = 0\n",
    "for i in li3:\n",
    "    summation += i\n",
    "print(f\"The summation = {summation}\")\n"
   ]
  },
  {
   "cell_type": "code",
   "execution_count": 15,
   "id": "59b140d7",
   "metadata": {},
   "outputs": [
    {
     "name": "stdout",
     "output_type": "stream",
     "text": [
      "List = [1, 2, 3]\n",
      "The summation = 6\n",
      "List = [11, 22, 33]\n",
      "The summation = 66\n",
      "List = [111, 222, 3333]\n",
      "The summation = 3666\n"
     ]
    }
   ],
   "source": [
    "def get_sum(list1):\n",
    "    print(f\"List = {list1}\")\n",
    "    summation = 0\n",
    "    for i in list1:\n",
    "        summation += i\n",
    "    print(f\"The summation = {summation}\")\n",
    "    \n",
    "get_sum([1, 2, 3])\n",
    "get_sum([11, 22, 33])\n",
    "get_sum([111, 222, 3333])"
   ]
  },
  {
   "cell_type": "code",
   "execution_count": 21,
   "id": "01a67b79",
   "metadata": {},
   "outputs": [
    {
     "name": "stdout",
     "output_type": "stream",
     "text": [
      "Python Function\n",
      "Functions are great\n",
      "Functions are great\n",
      "Functions are great\n",
      "Functions are great\n",
      "Functions are great\n",
      "\n",
      "Python Function\n",
      "Functions are great\n",
      "Functions are great\n",
      "Functions are great\n",
      "Functions are great\n",
      "Functions are great\n",
      "\n",
      "Python Function\n",
      "Functions are great\n",
      "Functions are great\n",
      "Functions are great\n",
      "Functions are great\n",
      "Functions are great\n",
      "\n"
     ]
    }
   ],
   "source": [
    "print(\"Python Function\")\n",
    "for i in range(5):\n",
    "    print(\"Functions are great\")\n",
    "print()\n",
    "\n",
    "print(\"Python Function\")\n",
    "for i in range(5):\n",
    "    print(\"Functions are great\")\n",
    "print()\n",
    "\n",
    "\n",
    "print(\"Python Function\")\n",
    "for i in range(5):\n",
    "    print(\"Functions are great\")\n",
    "print()\n",
    "\n"
   ]
  },
  {
   "cell_type": "code",
   "execution_count": 23,
   "id": "90244c39",
   "metadata": {},
   "outputs": [
    {
     "name": "stdout",
     "output_type": "stream",
     "text": [
      "Python Function\n",
      "Functions are great\n",
      "Functions are great\n",
      "Functions are great\n",
      "Functions are great\n",
      "Functions are great\n",
      "\n",
      "Python Function\n",
      "Functions are great\n",
      "Functions are great\n",
      "Functions are great\n",
      "Functions are great\n",
      "Functions are great\n",
      "Functions are great\n",
      "Functions are great\n",
      "\n",
      "Python Function\n",
      "Functions are great\n",
      "Functions are great\n",
      "Functions are great\n",
      "Functions are great\n",
      "Functions are great\n",
      "Functions are great\n",
      "Functions are great\n",
      "Functions are great\n",
      "Functions are great\n",
      "\n"
     ]
    }
   ],
   "source": [
    "def get_print(n):\n",
    "    print(\"Python Function\")\n",
    "    for i in range(n):\n",
    "        print(\"Functions are great\")\n",
    "    print()\n",
    "    \n",
    "get_print(5)\n",
    "get_print(7)\n",
    "get_print(9)"
   ]
  },
  {
   "cell_type": "markdown",
   "id": "d471da30",
   "metadata": {},
   "source": [
    "# Avg of 3 numbers "
   ]
  },
  {
   "cell_type": "code",
   "execution_count": 27,
   "id": "8eac55d4",
   "metadata": {},
   "outputs": [
    {
     "name": "stdout",
     "output_type": "stream",
     "text": [
      "Num1 = 10, Num2 = 20, Num3 = 30\n",
      "The Avg of number = 20.0\n",
      "\n",
      "Num1 = 100, Num2 = 200, Num3 = 300\n",
      "The Avg of number = 200.0\n",
      "\n",
      "Num1 = 1000, Num2 = 2000, Num3 = 3000\n",
      "The Avg of number = 2000.0\n",
      "\n"
     ]
    }
   ],
   "source": [
    "num1 = 10\n",
    "num2 = 20\n",
    "num3 = 30\n",
    "print(f\"Num1 = {num1}, Num2 = {num2}, Num3 = {num3}\")\n",
    "avg = (num1+num2+num3)/3\n",
    "print(f\"The Avg of number = {avg}\")\n",
    "print()\n",
    "\n",
    "num1 = 100\n",
    "num2 = 200\n",
    "num3 = 300\n",
    "print(f\"Num1 = {num1}, Num2 = {num2}, Num3 = {num3}\")\n",
    "avg = (num1+num2+num3)/3\n",
    "print(f\"The Avg of number = {avg}\")\n",
    "print()\n",
    "\n",
    "\n",
    "num1 = 1000\n",
    "num2 = 2000\n",
    "num3 = 3000\n",
    "print(f\"Num1 = {num1}, Num2 = {num2}, Num3 = {num3}\")\n",
    "avg = (num1+num2+num3)/3\n",
    "print(f\"The Avg of number = {avg}\")\n",
    "print()"
   ]
  },
  {
   "cell_type": "code",
   "execution_count": null,
   "id": "dd7d3c12",
   "metadata": {},
   "outputs": [],
   "source": [
    "print(f\"Num1 = {num1}, Num2 = {num2}, Num3 = {num3}\")\n",
    "avg = (num1+num2+num3)/3\n",
    "print(f\"The Avg of number = {avg}\")\n",
    "print()"
   ]
  },
  {
   "cell_type": "code",
   "execution_count": 28,
   "id": "f1e4416c",
   "metadata": {},
   "outputs": [],
   "source": [
    "def get_avg(num1,num2,num3):\n",
    "    print(f\"Num1 = {num1}, Num2 = {num2}, Num3 = {num3}\")\n",
    "    avg = (num1+num2+num3)/3\n",
    "    print(f\"The Avg of number = {avg}\")\n",
    "    print()"
   ]
  },
  {
   "cell_type": "code",
   "execution_count": 31,
   "id": "346fb294",
   "metadata": {},
   "outputs": [
    {
     "name": "stdout",
     "output_type": "stream",
     "text": [
      "Num1 = 10, Num2 = 20, Num3 = 30\n",
      "The Avg of number = 20.0\n",
      "\n",
      "Num1 = 100, Num2 = 200, Num3 = 300\n",
      "The Avg of number = 200.0\n",
      "\n",
      "Num1 = 1000, Num2 = 2000, Num3 = 3000\n",
      "The Avg of number = 2000.0\n",
      "\n"
     ]
    }
   ],
   "source": [
    "get_avg(10,20,30)\n",
    "get_avg(100,200,300)\n",
    "get_avg(1000,2000,3000)"
   ]
  },
  {
   "cell_type": "markdown",
   "id": "a736cd4f",
   "metadata": {},
   "source": [
    "### Number of arguments = Number of parameters"
   ]
  },
  {
   "cell_type": "code",
   "execution_count": 32,
   "id": "7633fd3b",
   "metadata": {},
   "outputs": [
    {
     "name": "stdout",
     "output_type": "stream",
     "text": [
      "val1 = 10 and val2 = 20\n"
     ]
    }
   ],
   "source": [
    "def dummy_func(val1,val2):\n",
    "    print(f\"val1 = {val1} and val2 = {val2}\")\n",
    "    \n",
    "dummy_func(10,20)"
   ]
  },
  {
   "cell_type": "code",
   "execution_count": 33,
   "id": "1a8bf9cb",
   "metadata": {},
   "outputs": [
    {
     "ename": "TypeError",
     "evalue": "dummy_func() missing 1 required positional argument: 'val2'",
     "output_type": "error",
     "traceback": [
      "\u001b[1;31m---------------------------------------------------------------------------\u001b[0m",
      "\u001b[1;31mTypeError\u001b[0m                                 Traceback (most recent call last)",
      "Input \u001b[1;32mIn [33]\u001b[0m, in \u001b[0;36m<cell line: 4>\u001b[1;34m()\u001b[0m\n\u001b[0;32m      1\u001b[0m \u001b[38;5;28;01mdef\u001b[39;00m \u001b[38;5;21mdummy_func\u001b[39m(val1,val2):\n\u001b[0;32m      2\u001b[0m     \u001b[38;5;28mprint\u001b[39m(\u001b[38;5;124mf\u001b[39m\u001b[38;5;124m\"\u001b[39m\u001b[38;5;124mval1 = \u001b[39m\u001b[38;5;132;01m{\u001b[39;00mval1\u001b[38;5;132;01m}\u001b[39;00m\u001b[38;5;124m and val2 = \u001b[39m\u001b[38;5;132;01m{\u001b[39;00mval2\u001b[38;5;132;01m}\u001b[39;00m\u001b[38;5;124m\"\u001b[39m)\n\u001b[1;32m----> 4\u001b[0m \u001b[43mdummy_func\u001b[49m\u001b[43m(\u001b[49m\u001b[38;5;241;43m10\u001b[39;49m\u001b[43m)\u001b[49m\n",
      "\u001b[1;31mTypeError\u001b[0m: dummy_func() missing 1 required positional argument: 'val2'"
     ]
    }
   ],
   "source": [
    "def dummy_func(val1,val2):\n",
    "    print(f\"val1 = {val1} and val2 = {val2}\")\n",
    "    \n",
    "dummy_func(10)"
   ]
  },
  {
   "cell_type": "code",
   "execution_count": 34,
   "id": "ea92d3c4",
   "metadata": {},
   "outputs": [
    {
     "ename": "TypeError",
     "evalue": "dummy_func() takes 2 positional arguments but 3 were given",
     "output_type": "error",
     "traceback": [
      "\u001b[1;31m---------------------------------------------------------------------------\u001b[0m",
      "\u001b[1;31mTypeError\u001b[0m                                 Traceback (most recent call last)",
      "Input \u001b[1;32mIn [34]\u001b[0m, in \u001b[0;36m<cell line: 4>\u001b[1;34m()\u001b[0m\n\u001b[0;32m      1\u001b[0m \u001b[38;5;28;01mdef\u001b[39;00m \u001b[38;5;21mdummy_func\u001b[39m(val1,val2):\n\u001b[0;32m      2\u001b[0m     \u001b[38;5;28mprint\u001b[39m(\u001b[38;5;124mf\u001b[39m\u001b[38;5;124m\"\u001b[39m\u001b[38;5;124mval1 = \u001b[39m\u001b[38;5;132;01m{\u001b[39;00mval1\u001b[38;5;132;01m}\u001b[39;00m\u001b[38;5;124m and val2 = \u001b[39m\u001b[38;5;132;01m{\u001b[39;00mval2\u001b[38;5;132;01m}\u001b[39;00m\u001b[38;5;124m\"\u001b[39m)\n\u001b[1;32m----> 4\u001b[0m \u001b[43mdummy_func\u001b[49m\u001b[43m(\u001b[49m\u001b[38;5;241;43m10\u001b[39;49m\u001b[43m,\u001b[49m\u001b[38;5;241;43m20\u001b[39;49m\u001b[43m,\u001b[49m\u001b[38;5;241;43m30\u001b[39;49m\u001b[43m)\u001b[49m\n",
      "\u001b[1;31mTypeError\u001b[0m: dummy_func() takes 2 positional arguments but 3 were given"
     ]
    }
   ],
   "source": [
    "def dummy_func(val1,val2):\n",
    "    print(f\"val1 = {val1} and val2 = {val2}\")\n",
    "    \n",
    "dummy_func(10,20,30)"
   ]
  },
  {
   "cell_type": "code",
   "execution_count": 35,
   "id": "f8f9228c",
   "metadata": {},
   "outputs": [
    {
     "ename": "TypeError",
     "evalue": "dummy_func() takes 0 positional arguments but 1 was given",
     "output_type": "error",
     "traceback": [
      "\u001b[1;31m---------------------------------------------------------------------------\u001b[0m",
      "\u001b[1;31mTypeError\u001b[0m                                 Traceback (most recent call last)",
      "Input \u001b[1;32mIn [35]\u001b[0m, in \u001b[0;36m<cell line: 4>\u001b[1;34m()\u001b[0m\n\u001b[0;32m      1\u001b[0m \u001b[38;5;28;01mdef\u001b[39;00m \u001b[38;5;21mdummy_func\u001b[39m():\n\u001b[0;32m      2\u001b[0m     \u001b[38;5;28mprint\u001b[39m(\u001b[38;5;124mf\u001b[39m\u001b[38;5;124m\"\u001b[39m\u001b[38;5;124mval1 = \u001b[39m\u001b[38;5;132;01m{\u001b[39;00mval1\u001b[38;5;132;01m}\u001b[39;00m\u001b[38;5;124m and val2 = \u001b[39m\u001b[38;5;132;01m{\u001b[39;00mval2\u001b[38;5;132;01m}\u001b[39;00m\u001b[38;5;124m\"\u001b[39m)\n\u001b[1;32m----> 4\u001b[0m \u001b[43mdummy_func\u001b[49m\u001b[43m(\u001b[49m\u001b[38;5;241;43m10\u001b[39;49m\u001b[43m)\u001b[49m\n",
      "\u001b[1;31mTypeError\u001b[0m: dummy_func() takes 0 positional arguments but 1 was given"
     ]
    }
   ],
   "source": [
    "def dummy_func():\n",
    "    print(f\"val1 = {val1} and val2 = {val2}\")\n",
    "    \n",
    "dummy_func(10)"
   ]
  },
  {
   "cell_type": "code",
   "execution_count": 36,
   "id": "c8d54193",
   "metadata": {},
   "outputs": [
    {
     "ename": "NameError",
     "evalue": "name 'val2' is not defined",
     "output_type": "error",
     "traceback": [
      "\u001b[1;31m---------------------------------------------------------------------------\u001b[0m",
      "\u001b[1;31mNameError\u001b[0m                                 Traceback (most recent call last)",
      "Input \u001b[1;32mIn [36]\u001b[0m, in \u001b[0;36m<cell line: 4>\u001b[1;34m()\u001b[0m\n\u001b[0;32m      1\u001b[0m \u001b[38;5;28;01mdef\u001b[39;00m \u001b[38;5;21mdummy_func\u001b[39m(val1):\n\u001b[0;32m      2\u001b[0m     \u001b[38;5;28mprint\u001b[39m(\u001b[38;5;124mf\u001b[39m\u001b[38;5;124m\"\u001b[39m\u001b[38;5;124mval1 = \u001b[39m\u001b[38;5;132;01m{\u001b[39;00mval1\u001b[38;5;132;01m}\u001b[39;00m\u001b[38;5;124m and val2 = \u001b[39m\u001b[38;5;132;01m{\u001b[39;00mval2\u001b[38;5;132;01m}\u001b[39;00m\u001b[38;5;124m\"\u001b[39m)\n\u001b[1;32m----> 4\u001b[0m \u001b[43mdummy_func\u001b[49m\u001b[43m(\u001b[49m\u001b[38;5;241;43m10\u001b[39;49m\u001b[43m)\u001b[49m\n",
      "Input \u001b[1;32mIn [36]\u001b[0m, in \u001b[0;36mdummy_func\u001b[1;34m(val1)\u001b[0m\n\u001b[0;32m      1\u001b[0m \u001b[38;5;28;01mdef\u001b[39;00m \u001b[38;5;21mdummy_func\u001b[39m(val1):\n\u001b[1;32m----> 2\u001b[0m     \u001b[38;5;28mprint\u001b[39m(\u001b[38;5;124mf\u001b[39m\u001b[38;5;124m\"\u001b[39m\u001b[38;5;124mval1 = \u001b[39m\u001b[38;5;132;01m{\u001b[39;00mval1\u001b[38;5;132;01m}\u001b[39;00m\u001b[38;5;124m and val2 = \u001b[39m\u001b[38;5;132;01m{\u001b[39;00mval2\u001b[38;5;132;01m}\u001b[39;00m\u001b[38;5;124m\"\u001b[39m)\n",
      "\u001b[1;31mNameError\u001b[0m: name 'val2' is not defined"
     ]
    }
   ],
   "source": [
    "def dummy_func(val1):\n",
    "    \n",
    "    print(f\"val1 = {val1} and val2 = {val2}\")\n",
    "    \n",
    "dummy_func(10)"
   ]
  },
  {
   "cell_type": "code",
   "execution_count": 37,
   "id": "e1626e03",
   "metadata": {},
   "outputs": [
    {
     "name": "stdout",
     "output_type": "stream",
     "text": [
      "val1 = 10 and val2 = 10000000\n"
     ]
    }
   ],
   "source": [
    "def dummy_func(val1):\n",
    "    val2 = 10000000\n",
    "    print(f\"val1 = {val1} and val2 = {val2}\")\n",
    "    \n",
    "dummy_func(10)"
   ]
  },
  {
   "cell_type": "code",
   "execution_count": 45,
   "id": "a4bdefdf",
   "metadata": {},
   "outputs": [
    {
     "name": "stdout",
     "output_type": "stream",
     "text": [
      "Input List = [5, 7, 4, 65, 3, 5, 7, 9, 0, 6, 4, 2, 5, 76, 9, 45, 34, 65, 876]\n",
      "Even number list = [4, 0, 6, 4, 2, 76, 34, 876]\n",
      "Odd numer list = [5, 7, 65, 3, 5, 7, 9, 5, 9, 45, 65]\n",
      "-------------------------------------------------------------------------------------\n",
      "Input List = [5, 7, 65, 3, 5, 7, 9, 5, 9, 45, 65]\n",
      "Even number list = []\n",
      "Odd numer list = [5, 7, 65, 3, 5, 7, 9, 5, 9, 45, 65]\n",
      "-------------------------------------------------------------------------------------\n",
      "Input List = [4, 0, 6, 4, 2, 76, 34, 876]\n",
      "Even number list = [4, 0, 6, 4, 2, 76, 34, 876]\n",
      "Odd numer list = []\n"
     ]
    }
   ],
   "source": [
    "li = [5,7,4,65,3,5,7,9,0,6,4,2,5,76,9,45,34,65,876]\n",
    "print(f\"Input List = {li}\")\n",
    "even_li = []\n",
    "odd_li = []\n",
    "for i in li:\n",
    "    if i % 2 == 0:\n",
    "        even_li.append(i)\n",
    "    else:\n",
    "        odd_li.append(i)\n",
    "        \n",
    "print(f\"Even number list = {even_li}\")\n",
    "print(f\"Odd numer list = {odd_li}\")\n",
    "print(\"-\"*85)\n",
    "\n",
    "\n",
    "li = [5, 7, 65, 3, 5, 7, 9, 5, 9, 45, 65]\n",
    "print(f\"Input List = {li}\")\n",
    "even_li = []\n",
    "odd_li = []\n",
    "for i in li:\n",
    "    if i % 2 == 0:\n",
    "        even_li.append(i)\n",
    "    else:\n",
    "        odd_li.append(i)\n",
    "        \n",
    "print(f\"Even number list = {even_li}\")\n",
    "print(f\"Odd numer list = {odd_li}\")\n",
    "print(\"-\"*85)\n",
    "\n",
    "\n",
    "li = [4, 0, 6, 4, 2, 76, 34, 876]\n",
    "print(f\"Input List = {li}\")\n",
    "even_li = []\n",
    "odd_li = []\n",
    "for i in li:\n",
    "    if i % 2 == 0:\n",
    "        even_li.append(i)\n",
    "    else:\n",
    "        odd_li.append(i)\n",
    "        \n",
    "print(f\"Even number list = {even_li}\")\n",
    "print(f\"Odd numer list = {odd_li}\")"
   ]
  },
  {
   "cell_type": "code",
   "execution_count": 46,
   "id": "0284e3fc",
   "metadata": {},
   "outputs": [
    {
     "name": "stdout",
     "output_type": "stream",
     "text": [
      "Input List = [5, 7, 4, 65, 3, 5, 7, 9, 0, 6, 4, 2, 5, 76, 9, 45, 34, 65, 876]\n",
      "Even number list = [4, 0, 6, 4, 2, 76, 34, 876]\n",
      "Odd numer list = [5, 7, 65, 3, 5, 7, 9, 5, 9, 45, 65]\n",
      "-------------------------------------------------------------------------------------\n",
      "Input List = [5, 7, 65, 3, 5, 7, 9, 5, 9, 45, 65]\n",
      "Even number list = []\n",
      "Odd numer list = [5, 7, 65, 3, 5, 7, 9, 5, 9, 45, 65]\n",
      "-------------------------------------------------------------------------------------\n",
      "Input List = [4, 0, 6, 4, 2, 76, 34, 876]\n",
      "Even number list = [4, 0, 6, 4, 2, 76, 34, 876]\n",
      "Odd numer list = []\n",
      "-------------------------------------------------------------------------------------\n",
      "Input List = [1, 2, 3, 4, 5, 6, 7, 8, 9, 10, 11, 12, 13, 14, 15, 16, 17, 18, 19, 20]\n",
      "Even number list = [2, 4, 6, 8, 10, 12, 14, 16, 18, 20]\n",
      "Odd numer list = [1, 3, 5, 7, 9, 11, 13, 15, 17, 19]\n",
      "-------------------------------------------------------------------------------------\n"
     ]
    }
   ],
   "source": [
    "def get_Even_Odd_li(li):\n",
    "    print(f\"Input List = {li}\")\n",
    "    even_li = []\n",
    "    odd_li = []\n",
    "    for i in li:\n",
    "        if i % 2 == 0:\n",
    "            even_li.append(i)\n",
    "        else:\n",
    "            odd_li.append(i)\n",
    "            \n",
    "    print(f\"Even number list = {even_li}\")\n",
    "    print(f\"Odd numer list = {odd_li}\")\n",
    "    print(\"-\"*85)\n",
    "\n",
    "            \n",
    "get_Even_Odd_li([5,7,4,65,3,5,7,9,0,6,4,2,5,76,9,45,34,65,876])\n",
    "get_Even_Odd_li([5, 7, 65, 3, 5, 7, 9, 5, 9, 45, 65])\n",
    "get_Even_Odd_li([4, 0, 6, 4, 2, 76, 34, 876])\n",
    "get_Even_Odd_li([1,2,3,4,5,6,7,8,9,10,11,12,13,14,15,16,17,18,19,20])"
   ]
  },
  {
   "cell_type": "code",
   "execution_count": 50,
   "id": "eb964f4b",
   "metadata": {},
   "outputs": [
    {
     "name": "stdout",
     "output_type": "stream",
     "text": [
      "Input List = [5, 7, 4, 65, 3, 5, 7, 9, 0, 6, 4, 2, 5, 76, 9, 45, 34, 65, 876]\n",
      "Even number list = [4, 0, 6, 4, 2, 76, 34, 876]\n",
      "Odd numer list = [5, 7, 65, 3, 5, 7, 9, 5, 9, 45, 65]\n",
      "-------------------------------------------------------------------------------------\n",
      "Input List = [5, 7, 65, 3, 5, 7, 9, 5, 9, 45, 65]\n",
      "Even number list = []\n",
      "Odd numer list = [5, 7, 65, 3, 5, 7, 9, 5, 9, 45, 65]\n",
      "-------------------------------------------------------------------------------------\n",
      "Input List = [4, 0, 6, 4, 2, 76, 34, 876]\n",
      "Even number list = [4, 0, 6, 4, 2, 76, 34, 876]\n",
      "Odd numer list = []\n",
      "-------------------------------------------------------------------------------------\n",
      "Input List = [1, 2, 3, 4, 5, 6, 7, 8, 9, 10, 11, 12, 13, 14, 15, 16, 17, 18, 19, 20]\n",
      "Even number list = [2, 4, 6, 8, 10, 12, 14, 16, 18, 20]\n",
      "Odd numer list = [1, 3, 5, 7, 9, 11, 13, 15, 17, 19]\n",
      "-------------------------------------------------------------------------------------\n"
     ]
    }
   ],
   "source": [
    "def get_Even_Odd_li(li):\n",
    "    print(f\"Input List = {li}\")\n",
    "    even_li = [i for i in li if i % 2 == 0]\n",
    "    odd_li = [i for i in li if i % 2 != 0]\n",
    "    print(f\"Even number list = {even_li}\")\n",
    "    print(f\"Odd numer list = {odd_li}\")\n",
    "    print(\"-\"*85)\n",
    "\n",
    "            \n",
    "get_Even_Odd_li([5,7,4,65,3,5,7,9,0,6,4,2,5,76,9,45,34,65,876])\n",
    "get_Even_Odd_li([5, 7, 65, 3, 5, 7, 9, 5, 9, 45, 65])\n",
    "get_Even_Odd_li([4, 0, 6, 4, 2, 76, 34, 876])\n",
    "get_Even_Odd_li([1,2,3,4,5,6,7,8,9,10,11,12,13,14,15,16,17,18,19,20])"
   ]
  },
  {
   "cell_type": "markdown",
   "id": "b9041232",
   "metadata": {},
   "source": [
    "# Return Statement"
   ]
  },
  {
   "cell_type": "code",
   "execution_count": 51,
   "id": "22c65f39",
   "metadata": {},
   "outputs": [
    {
     "data": {
      "text/plain": [
       "30"
      ]
     },
     "execution_count": 51,
     "metadata": {},
     "output_type": "execute_result"
    }
   ],
   "source": [
    "def learning_return():\n",
    "    x = 10\n",
    "    y = 20\n",
    "    return x + y\n",
    "\n",
    "learning_return()"
   ]
  },
  {
   "cell_type": "code",
   "execution_count": 53,
   "id": "cb445116",
   "metadata": {},
   "outputs": [
    {
     "data": {
      "text/plain": [
       "530"
      ]
     },
     "execution_count": 53,
     "metadata": {},
     "output_type": "execute_result"
    }
   ],
   "source": [
    "def learning_return():\n",
    "    x = 10\n",
    "    y = 20\n",
    "    return x + y\n",
    "\n",
    "learning_return() + 500"
   ]
  },
  {
   "cell_type": "code",
   "execution_count": 54,
   "id": "769f878e",
   "metadata": {},
   "outputs": [
    {
     "name": "stdout",
     "output_type": "stream",
     "text": [
      "30\n"
     ]
    }
   ],
   "source": [
    "def learning_return():\n",
    "    x = 10\n",
    "    y = 20\n",
    "    return x + y\n",
    "\n",
    "res = learning_return()\n",
    "print(res)"
   ]
  },
  {
   "cell_type": "code",
   "execution_count": 55,
   "id": "81aa6d42",
   "metadata": {},
   "outputs": [
    {
     "name": "stdout",
     "output_type": "stream",
     "text": [
      "The result of learning_return funcvtion = 30\n"
     ]
    }
   ],
   "source": [
    "def print_res():\n",
    "    print(f\"The result of learning_return funcvtion = {res}\")\n",
    "print_res()"
   ]
  },
  {
   "cell_type": "code",
   "execution_count": 56,
   "id": "c51a26e2",
   "metadata": {},
   "outputs": [
    {
     "ename": "SyntaxError",
     "evalue": "cannot assign to expression here. Maybe you meant '==' instead of '='? (2738528365.py, line 1)",
     "output_type": "error",
     "traceback": [
      "\u001b[1;36m  Input \u001b[1;32mIn [56]\u001b[1;36m\u001b[0m\n\u001b[1;33m    get_min&max = 0\u001b[0m\n\u001b[1;37m    ^\u001b[0m\n\u001b[1;31mSyntaxError\u001b[0m\u001b[1;31m:\u001b[0m cannot assign to expression here. Maybe you meant '==' instead of '='?\n"
     ]
    }
   ],
   "source": [
    "get_min&max = 0"
   ]
  },
  {
   "cell_type": "code",
   "execution_count": 59,
   "id": "3034d388",
   "metadata": {},
   "outputs": [
    {
     "data": {
      "text/plain": [
       "(1, 5)"
      ]
     },
     "execution_count": 59,
     "metadata": {},
     "output_type": "execute_result"
    }
   ],
   "source": [
    "def get_min_max(li):\n",
    "    minimum = min(li)\n",
    "    maximum = max(li)\n",
    "    return minimum,maximum\n",
    "\n",
    "get_min_max([1,2,3,4,5])"
   ]
  },
  {
   "cell_type": "code",
   "execution_count": 60,
   "id": "ccd429a1",
   "metadata": {},
   "outputs": [],
   "source": [
    "a,b = (1,2)"
   ]
  },
  {
   "cell_type": "code",
   "execution_count": 61,
   "id": "e9afb305",
   "metadata": {},
   "outputs": [
    {
     "data": {
      "text/plain": [
       "1"
      ]
     },
     "execution_count": 61,
     "metadata": {},
     "output_type": "execute_result"
    }
   ],
   "source": [
    "a"
   ]
  },
  {
   "cell_type": "code",
   "execution_count": 62,
   "id": "5d2a63c4",
   "metadata": {},
   "outputs": [
    {
     "data": {
      "text/plain": [
       "2"
      ]
     },
     "execution_count": 62,
     "metadata": {},
     "output_type": "execute_result"
    }
   ],
   "source": [
    "b"
   ]
  },
  {
   "cell_type": "code",
   "execution_count": 63,
   "id": "2aeffce9",
   "metadata": {},
   "outputs": [
    {
     "name": "stdout",
     "output_type": "stream",
     "text": [
      "Minimum = 1\n",
      "Maximum = 5\n"
     ]
    }
   ],
   "source": [
    "def get_min_max(li):\n",
    "    minimum = min(li)\n",
    "    maximum = max(li)\n",
    "    return minimum,maximum\n",
    "\n",
    "minimum , maximum = get_min_max([1,2,3,4,5])\n",
    "print(f\"Minimum = {minimum}\")\n",
    "print(f\"Maximum = {maximum}\")"
   ]
  },
  {
   "cell_type": "code",
   "execution_count": 65,
   "id": "076f53dd",
   "metadata": {},
   "outputs": [
    {
     "name": "stdout",
     "output_type": "stream",
     "text": [
      "Minimum = (1, 5)\n"
     ]
    }
   ],
   "source": [
    "def get_min_max(li):\n",
    "    minimum = min(li)\n",
    "    maximum = max(li)\n",
    "    return minimum,maximum\n",
    "\n",
    "min1 = get_min_max([1,2,3,4,5])\n",
    "print(f\"Minimum = {min1}\")"
   ]
  },
  {
   "cell_type": "code",
   "execution_count": null,
   "id": "3f65dc18",
   "metadata": {},
   "outputs": [],
   "source": []
  },
  {
   "cell_type": "code",
   "execution_count": null,
   "id": "aa2fcc70",
   "metadata": {},
   "outputs": [],
   "source": []
  },
  {
   "cell_type": "code",
   "execution_count": null,
   "id": "9b4be4ec",
   "metadata": {},
   "outputs": [],
   "source": []
  },
  {
   "cell_type": "code",
   "execution_count": null,
   "id": "2cdbbb8c",
   "metadata": {},
   "outputs": [],
   "source": []
  },
  {
   "cell_type": "code",
   "execution_count": null,
   "id": "c0944f8e",
   "metadata": {},
   "outputs": [],
   "source": []
  },
  {
   "cell_type": "code",
   "execution_count": null,
   "id": "8987f564",
   "metadata": {},
   "outputs": [],
   "source": []
  },
  {
   "cell_type": "code",
   "execution_count": null,
   "id": "a97b03d9",
   "metadata": {},
   "outputs": [],
   "source": []
  },
  {
   "cell_type": "code",
   "execution_count": null,
   "id": "105cf885",
   "metadata": {},
   "outputs": [],
   "source": []
  },
  {
   "cell_type": "code",
   "execution_count": null,
   "id": "2c79aea8",
   "metadata": {},
   "outputs": [],
   "source": []
  },
  {
   "cell_type": "code",
   "execution_count": null,
   "id": "b5f80f79",
   "metadata": {},
   "outputs": [],
   "source": []
  },
  {
   "cell_type": "code",
   "execution_count": null,
   "id": "b5d94057",
   "metadata": {},
   "outputs": [],
   "source": []
  },
  {
   "cell_type": "code",
   "execution_count": null,
   "id": "dff8ba5c",
   "metadata": {},
   "outputs": [],
   "source": []
  }
 ],
 "metadata": {
  "kernelspec": {
   "display_name": "Python 3 (ipykernel)",
   "language": "python",
   "name": "python3"
  },
  "language_info": {
   "codemirror_mode": {
    "name": "ipython",
    "version": 3
   },
   "file_extension": ".py",
   "mimetype": "text/x-python",
   "name": "python",
   "nbconvert_exporter": "python",
   "pygments_lexer": "ipython3",
   "version": "3.10.5"
  }
 },
 "nbformat": 4,
 "nbformat_minor": 5
}
