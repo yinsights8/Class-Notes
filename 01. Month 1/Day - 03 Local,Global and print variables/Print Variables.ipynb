{
 "cells": [
  {
   "cell_type": "markdown",
   "id": "e3038bc2",
   "metadata": {},
   "source": [
    "# Print Function"
   ]
  },
  {
   "cell_type": "code",
   "execution_count": 1,
   "id": "30ec3c7f",
   "metadata": {},
   "outputs": [
    {
     "name": "stdout",
     "output_type": "stream",
     "text": [
      "The values of var1 and var2 =  100 200\n"
     ]
    }
   ],
   "source": [
    "var1 = 100\n",
    "var2 = 200\n",
    "print(\"The values of var1 and var2 = \",var1,var2)"
   ]
  },
  {
   "cell_type": "code",
   "execution_count": 2,
   "id": "b843eb0e",
   "metadata": {},
   "outputs": [
    {
     "name": "stdout",
     "output_type": "stream",
     "text": [
      "The values of var1 and var2 =  Python Data Science\n"
     ]
    }
   ],
   "source": [
    "var1 = 'Python'\n",
    "var2 = \"Data Science\"\n",
    "print(\"The values of var1 and var2 = \",var1,var2)"
   ]
  },
  {
   "cell_type": "code",
   "execution_count": 4,
   "id": "4bdfa4fd",
   "metadata": {},
   "outputs": [
    {
     "name": "stdout",
     "output_type": "stream",
     "text": [
      "The values of var1= Python  and the value of var2= Data Science\n"
     ]
    }
   ],
   "source": [
    "var1 = 'Python'\n",
    "var2 = \"Data Science\"\n",
    "print(\"The values of var1=\",var1,\" and the value of var2=\",var2)"
   ]
  },
  {
   "cell_type": "code",
   "execution_count": 5,
   "id": "7df57ff7",
   "metadata": {},
   "outputs": [
    {
     "name": "stdout",
     "output_type": "stream",
     "text": [
      "The addition of num1 10 and num2 20 is equal to 30\n"
     ]
    }
   ],
   "source": [
    "num1 = 10\n",
    "num2 = 20\n",
    "addition = num1 + num2\n",
    "print(\"The addition of num1\",num1,\"and num2\",num2,\"is equal to\",addition)"
   ]
  },
  {
   "cell_type": "code",
   "execution_count": 6,
   "id": "1b6196f2",
   "metadata": {},
   "outputs": [
    {
     "ename": "SyntaxError",
     "evalue": "invalid syntax (<ipython-input-6-40696ee6bcce>, line 4)",
     "output_type": "error",
     "traceback": [
      "\u001b[1;36m  File \u001b[1;32m\"<ipython-input-6-40696ee6bcce>\"\u001b[1;36m, line \u001b[1;32m4\u001b[0m\n\u001b[1;33m    print(\"The addition of num1\",num1,\"and num2\"num2,\"is equal to\",addition)\u001b[0m\n\u001b[1;37m                                                ^\u001b[0m\n\u001b[1;31mSyntaxError\u001b[0m\u001b[1;31m:\u001b[0m invalid syntax\n"
     ]
    }
   ],
   "source": [
    "num1 = 10\n",
    "num2 = 20\n",
    "addition = num1 + num2\n",
    "print(\"The addition of num1\",num1,\"and num2\"num2,\"is equal to\",addition)"
   ]
  },
  {
   "cell_type": "markdown",
   "id": "4f5363df",
   "metadata": {},
   "source": [
    "# f-string"
   ]
  },
  {
   "cell_type": "code",
   "execution_count": 7,
   "id": "788997ca",
   "metadata": {},
   "outputs": [
    {
     "name": "stdout",
     "output_type": "stream",
     "text": [
      "The addition of 10 and 20 is equal to 30\n"
     ]
    }
   ],
   "source": [
    "num1 = 10\n",
    "num2 = 20\n",
    "addition = num1 + num2\n",
    "# The addition of num1 10 and num2 20 is equal to 30\n",
    "print(f\"The addition of {num1} and {num2} is equal to {addition}\")"
   ]
  },
  {
   "cell_type": "code",
   "execution_count": 8,
   "id": "1332fcb0",
   "metadata": {},
   "outputs": [
    {
     "name": "stdout",
     "output_type": "stream",
     "text": [
      "The Multiplication of 10 and 20 is equal to 200\n"
     ]
    }
   ],
   "source": [
    "num1 = 10\n",
    "num2 = 20\n",
    "Multiplication = num1 * num2\n",
    "print(f\"The Multiplication of {num1} and {num2} is equal to {Multiplication}\")"
   ]
  },
  {
   "cell_type": "markdown",
   "id": "bdd501df",
   "metadata": {},
   "source": [
    "# 2. format string"
   ]
  },
  {
   "cell_type": "code",
   "execution_count": 9,
   "id": "866a667f",
   "metadata": {},
   "outputs": [
    {
     "name": "stdout",
     "output_type": "stream",
     "text": [
      "The Division of 50 and 10 is equal to 5.0\n"
     ]
    }
   ],
   "source": [
    "a = 50\n",
    "b = 10\n",
    "div = a / b\n",
    "print(\"The Division of {} and {} is equal to {}\".format(a,b,div))"
   ]
  },
  {
   "cell_type": "code",
   "execution_count": 10,
   "id": "3a26615d",
   "metadata": {},
   "outputs": [
    {
     "name": "stdout",
     "output_type": "stream",
     "text": [
      "The Floor Division of 50 and 10 is equal to 5\n"
     ]
    }
   ],
   "source": [
    "a = 50\n",
    "b = 10\n",
    "floor_div = a // b\n",
    "print(\"The Floor Division of {0} and {1} is equal to {2}\".format(a,b,floor_div))"
   ]
  },
  {
   "cell_type": "code",
   "execution_count": 12,
   "id": "641556b9",
   "metadata": {},
   "outputs": [
    {
     "name": "stdout",
     "output_type": "stream",
     "text": [
      "Hi 0\n"
     ]
    }
   ],
   "source": [
    "print(\"Hi {}\".format(0))"
   ]
  },
  {
   "cell_type": "code",
   "execution_count": 14,
   "id": "5a0c30bd",
   "metadata": {},
   "outputs": [
    {
     "name": "stdout",
     "output_type": "stream",
     "text": [
      "The Floor Division of 50 and 10 is equal to 5\n"
     ]
    }
   ],
   "source": [
    "a = 50\n",
    "b = 10\n",
    "floor_div = a // b\n",
    "print(\"The Floor Division of {0} and {1} is equal to {2}\".format(a,b,floor_div))"
   ]
  },
  {
   "cell_type": "code",
   "execution_count": 16,
   "id": "a0a08b90",
   "metadata": {},
   "outputs": [
    {
     "name": "stdout",
     "output_type": "stream",
     "text": [
      "The Floor Division of 10 and 50 is equal to 50\n"
     ]
    }
   ],
   "source": [
    "a = 50\n",
    "b = 10\n",
    "floor_div = a // b\n",
    "print(\"The Floor Division of {1} and {0} is equal to {0}\".format(a,b,floor_div))"
   ]
  },
  {
   "cell_type": "code",
   "execution_count": 17,
   "id": "66d56b56",
   "metadata": {},
   "outputs": [
    {
     "name": "stdout",
     "output_type": "stream",
     "text": [
      "The Floor Division of 5 and 50 is equal to 10\n"
     ]
    }
   ],
   "source": [
    "a = 50\n",
    "b = 10\n",
    "floor_div = a // b\n",
    "print(\"The Floor Division of {2} and {0} is equal to {1}\".format(a,b,floor_div))"
   ]
  },
  {
   "cell_type": "code",
   "execution_count": 18,
   "id": "5402b8c7",
   "metadata": {},
   "outputs": [
    {
     "name": "stdout",
     "output_type": "stream",
     "text": [
      "The Floor Division of 50 and 10 is equal to 5\n"
     ]
    }
   ],
   "source": [
    "a = 50\n",
    "b = 10\n",
    "floor_div = a // b\n",
    "print(\"The Floor Division of {} and {} is equal to {}\".format(a,b,floor_div))"
   ]
  },
  {
   "cell_type": "code",
   "execution_count": 19,
   "id": "24d9cd21",
   "metadata": {},
   "outputs": [
    {
     "name": "stdout",
     "output_type": "stream",
     "text": [
      "The Floor Division of 50 and 50 is equal to 50\n"
     ]
    }
   ],
   "source": [
    "a = 50\n",
    "b = 10\n",
    "floor_div = a // b\n",
    "print(\"The Floor Division of {0} and {0} is equal to {0}\".format(a,b,floor_div))"
   ]
  },
  {
   "cell_type": "code",
   "execution_count": 20,
   "id": "436b1c13",
   "metadata": {},
   "outputs": [
    {
     "name": "stdout",
     "output_type": "stream",
     "text": [
      "The Sub of 100 and 50 = 50\n"
     ]
    }
   ],
   "source": [
    "a = 100\n",
    "b = 50\n",
    "c = \"Python\"\n",
    "sub = a - b\n",
    "print(f\"The Sub of {a} and {b} = {sub}\")"
   ]
  },
  {
   "cell_type": "code",
   "execution_count": 23,
   "id": "3d982199",
   "metadata": {},
   "outputs": [
    {
     "name": "stdout",
     "output_type": "stream",
     "text": [
      "The Sub of a = 100 and b = 50, sub = 50\n"
     ]
    }
   ],
   "source": [
    "a = 100\n",
    "b = 50\n",
    "c = \"Python\"\n",
    "sub = a - b\n",
    "print(f\"The Sub of a = {a} and b = {b}, sub = {sub}\")"
   ]
  },
  {
   "cell_type": "code",
   "execution_count": 24,
   "id": "39320069",
   "metadata": {},
   "outputs": [
    {
     "name": "stdout",
     "output_type": "stream",
     "text": [
      "The Sub of a = 100 and b = 50, sub = 50 Python\n"
     ]
    }
   ],
   "source": [
    "a = 100\n",
    "b = 50\n",
    "c = \"Python\"\n",
    "sub = a - b\n",
    "print(f\"The Sub of a = {a} and b = {b}, sub = {sub}\",c)"
   ]
  },
  {
   "cell_type": "code",
   "execution_count": 25,
   "id": "3b4400af",
   "metadata": {},
   "outputs": [
    {
     "name": "stdout",
     "output_type": "stream",
     "text": [
      "The Sub of a = 100 and b = 50 Sub = 50\n"
     ]
    }
   ],
   "source": [
    "a = 100\n",
    "b = 50\n",
    "c = \"Python\"\n",
    "sub = a - b\n",
    "print(f\"The Sub of a = {a} and b = {b}\",f\"Sub = {sub}\")"
   ]
  },
  {
   "cell_type": "code",
   "execution_count": 26,
   "id": "9788aec7",
   "metadata": {},
   "outputs": [
    {
     "name": "stdout",
     "output_type": "stream",
     "text": [
      "The Sub of a = 100 and b = 50 Sub = 50\n"
     ]
    }
   ],
   "source": [
    "a = 100\n",
    "b = 50\n",
    "c = \"Python\"\n",
    "sub = a - b\n",
    "print(f\"The Sub of a = {a} and b = {b}\",\"Sub = {}\".format(sub))"
   ]
  },
  {
   "cell_type": "code",
   "execution_count": 27,
   "id": "4eebe3b1",
   "metadata": {},
   "outputs": [
    {
     "name": "stdout",
     "output_type": "stream",
     "text": [
      "Python The Sub of a = 100 and b = 50 Sub = 50\n"
     ]
    }
   ],
   "source": [
    "a = 100\n",
    "b = 50\n",
    "c = \"Python\"\n",
    "sub = a - b\n",
    "print(c,f\"The Sub of a = {a} and b = {b}\",\"Sub = {}\".format(sub))"
   ]
  },
  {
   "cell_type": "code",
   "execution_count": 30,
   "id": "f7cdf7ec",
   "metadata": {},
   "outputs": [
    {
     "name": "stdout",
     "output_type": "stream",
     "text": [
      "a = 0, b = 1, sub = 2\n"
     ]
    }
   ],
   "source": [
    "a = 200\n",
    "b = 100\n",
    "print(f\"a = {0}, b = {1}, sub = {2}\".format(a,b,a-b))"
   ]
  },
  {
   "cell_type": "code",
   "execution_count": 42,
   "id": "2984150e",
   "metadata": {},
   "outputs": [
    {
     "name": "stdout",
     "output_type": "stream",
     "text": [
      "The list = [1, 2, 3]\n"
     ]
    }
   ],
   "source": [
    "list1 = [1,2,3]\n",
    "print(f\"The list = {list1}\")"
   ]
  },
  {
   "cell_type": "code",
   "execution_count": 43,
   "id": "27af2110",
   "metadata": {},
   "outputs": [
    {
     "name": "stdout",
     "output_type": "stream",
     "text": [
      "The list = [1, 2, 3], data type = <class 'list'>\n"
     ]
    }
   ],
   "source": [
    "list1 = [1,2,3]\n",
    "print(f\"The list = {list1}, data type = {type(list1)}\")"
   ]
  },
  {
   "cell_type": "code",
   "execution_count": 46,
   "id": "87e1c751",
   "metadata": {},
   "outputs": [
    {
     "name": "stdout",
     "output_type": "stream",
     "text": [
      "The list = [1, 2, 3], data type = <class 'list'>\n"
     ]
    }
   ],
   "source": [
    "list1 = [1,2,3]\n",
    "print(\"The list = {0}, data type = {1}\".format(list1,type(list1)))"
   ]
  },
  {
   "cell_type": "code",
   "execution_count": 47,
   "id": "d158ddce",
   "metadata": {},
   "outputs": [
    {
     "name": "stdout",
     "output_type": "stream",
     "text": [
      "The list = [1, 2, 3], data type = <class 'list'>\n"
     ]
    }
   ],
   "source": [
    "list1 = [1,2,3]\n",
    "print(\"The list = {}, data type = {}\".format(list1,type(list1)))"
   ]
  },
  {
   "cell_type": "code",
   "execution_count": 49,
   "id": "00803285",
   "metadata": {},
   "outputs": [
    {
     "name": "stdout",
     "output_type": "stream",
     "text": [
      "The tup = (1, 2, 3), data type = <class 'tuple'>\n"
     ]
    }
   ],
   "source": [
    "tup = (1,2,3)\n",
    "print(\"The tup = {}, data type = {}\".format(tup,type(tup)))"
   ]
  },
  {
   "cell_type": "code",
   "execution_count": null,
   "id": "f32e9329",
   "metadata": {},
   "outputs": [],
   "source": []
  }
 ],
 "metadata": {
  "kernelspec": {
   "display_name": "Python 3 (ipykernel)",
   "language": "python",
   "name": "python3"
  },
  "language_info": {
   "codemirror_mode": {
    "name": "ipython",
    "version": 3
   },
   "file_extension": ".py",
   "mimetype": "text/x-python",
   "name": "python",
   "nbconvert_exporter": "python",
   "pygments_lexer": "ipython3",
   "version": "3.9.12"
  }
 },
 "nbformat": 4,
 "nbformat_minor": 5
}
