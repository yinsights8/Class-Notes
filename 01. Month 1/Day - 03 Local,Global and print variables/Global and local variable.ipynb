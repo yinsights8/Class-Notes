{
 "cells": [
  {
   "cell_type": "code",
   "execution_count": 1,
   "id": "a281c161",
   "metadata": {},
   "outputs": [
    {
     "name": "stdout",
     "output_type": "stream",
     "text": [
      "9\n"
     ]
    },
    {
     "ename": "NameError",
     "evalue": "name 'a' is not defined",
     "output_type": "error",
     "traceback": [
      "\u001b[1;31m---------------------------------------------------------------------------\u001b[0m",
      "\u001b[1;31mNameError\u001b[0m                                 Traceback (most recent call last)",
      "Input \u001b[1;32mIn [1]\u001b[0m, in \u001b[0;36m<cell line: 9>\u001b[1;34m()\u001b[0m\n\u001b[0;32m      5\u001b[0m     \u001b[38;5;28mprint\u001b[39m(result)\n\u001b[0;32m      7\u001b[0m add()\n\u001b[1;32m----> 9\u001b[0m \u001b[38;5;28mprint\u001b[39m(\u001b[43ma\u001b[49m,b)\n",
      "\u001b[1;31mNameError\u001b[0m: name 'a' is not defined"
     ]
    }
   ],
   "source": [
    "def add():\n",
    "    a = 4   # here a is local variable and it's only works for add function, and it is destroyed after function \n",
    "    b = 5   # here b is local variable and it's only works for add function, and it is destroyed after function\n",
    "    result = a+b\n",
    "    print(result)\n",
    "    \n",
    "add()\n",
    "\n",
    "print(a,b)"
   ]
  },
  {
   "cell_type": "code",
   "execution_count": 2,
   "id": "e38569dc",
   "metadata": {},
   "outputs": [
    {
     "name": "stdout",
     "output_type": "stream",
     "text": [
      "9\n",
      "500 400\n"
     ]
    }
   ],
   "source": [
    "a = 500   # here a is globle variable and it's valid universaly\n",
    "b = 400   # here a is globle variable it's valid universaly\n",
    "def add():\n",
    "    a = 4 \n",
    "    b = 5\n",
    "    result = a+b\n",
    "    print(result)\n",
    "    \n",
    "add()\n",
    "\n",
    "print(a,b)"
   ]
  },
  {
   "cell_type": "code",
   "execution_count": 3,
   "id": "12f46e18",
   "metadata": {},
   "outputs": [
    {
     "name": "stdout",
     "output_type": "stream",
     "text": [
      "The value of a is 6 and b is 5 within a function\n",
      "\n",
      "The value of a is 6 and b is 400 outside of a function\n"
     ]
    }
   ],
   "source": [
    "a = 8  \n",
    "b = 400\n",
    "def add():\n",
    "    global a # here if we print the value of 'a' then the value of 'a' gets updated and that value that has already been assign globally will be updataed\n",
    "    a = 6\n",
    "    b = 5\n",
    "    print(f\"The value of a is {a} and b is {b} within a function\")\n",
    "    #result = a+b\n",
    "    #print(result)\n",
    "add()\n",
    "print()\n",
    "print(f\"The value of a is {a} and b is {b} outside of a function\")"
   ]
  },
  {
   "cell_type": "code",
   "execution_count": 4,
   "id": "39c85e53",
   "metadata": {},
   "outputs": [
    {
     "name": "stdout",
     "output_type": "stream",
     "text": [
      "The string = Python and Data Science\n",
      "The x = 10\n",
      "We are accessing str1 outside the function Python and Data Science\n",
      "We are accessing x outside the function 10\n"
     ]
    }
   ],
   "source": [
    "str1 = \"Python and Data Science\"    # Global Variable\n",
    "def test():                         # Defining function\n",
    "    global x\n",
    "    x = 10                          # Local Variable\n",
    "    print(f\"The string = {str1}\")\n",
    "    print(f\"The x = {x}\")\n",
    "    \n",
    "test()                              # Calling function\n",
    "\n",
    "print(f\"We are accessing str1 outside the function {str1}\")\n",
    "print(f\"We are accessing x outside the function {x}\")"
   ]
  },
  {
   "cell_type": "code",
   "execution_count": null,
   "id": "770cfd1f",
   "metadata": {},
   "outputs": [],
   "source": []
  },
  {
   "cell_type": "markdown",
   "id": "87f00f6e",
   "metadata": {},
   "source": [
    "## Assinging same values to the variables"
   ]
  },
  {
   "cell_type": "code",
   "execution_count": 5,
   "id": "85065873",
   "metadata": {},
   "outputs": [
    {
     "name": "stdout",
     "output_type": "stream",
     "text": [
      "100\n",
      "100\n",
      "100\n"
     ]
    }
   ],
   "source": [
    "x = 100\n",
    "y = 100\n",
    "z = 100\n",
    "print(x)\n",
    "print(y)\n",
    "print(z)"
   ]
  },
  {
   "cell_type": "code",
   "execution_count": 6,
   "id": "43a908fe",
   "metadata": {},
   "outputs": [
    {
     "name": "stdout",
     "output_type": "stream",
     "text": [
      "100 100 100\n"
     ]
    }
   ],
   "source": [
    "x = y = z = 100\n",
    "print(x,y,z)"
   ]
  },
  {
   "cell_type": "markdown",
   "id": "87db728b",
   "metadata": {},
   "source": [
    "## Assigining different values to the variables"
   ]
  },
  {
   "cell_type": "code",
   "execution_count": 7,
   "id": "19dc1d52",
   "metadata": {},
   "outputs": [
    {
     "name": "stdout",
     "output_type": "stream",
     "text": [
      "100 200 300\n"
     ]
    }
   ],
   "source": [
    "x = 100\n",
    "y = 200 \n",
    "z = 300\n",
    "print(x,y,z)"
   ]
  },
  {
   "cell_type": "code",
   "execution_count": 8,
   "id": "5d62566a",
   "metadata": {},
   "outputs": [
    {
     "name": "stdout",
     "output_type": "stream",
     "text": [
      "100 200 300\n",
      "<class 'int'>\n",
      "<class 'int'>\n",
      "<class 'int'>\n"
     ]
    }
   ],
   "source": [
    "x,y,z = 100, 200, 300\n",
    "print(x,y,z)\n",
    "print(type(x))\n",
    "print(type(y))\n",
    "print(type(z))"
   ]
  },
  {
   "cell_type": "code",
   "execution_count": 9,
   "id": "db01622a",
   "metadata": {},
   "outputs": [
    {
     "ename": "SyntaxError",
     "evalue": "cannot assign to literal (3758660630.py, line 1)",
     "output_type": "error",
     "traceback": [
      "\u001b[1;36m  Input \u001b[1;32mIn [9]\u001b[1;36m\u001b[0m\n\u001b[1;33m    x = y = z = 100 = 200 = 300\u001b[0m\n\u001b[1;37m                ^\u001b[0m\n\u001b[1;31mSyntaxError\u001b[0m\u001b[1;31m:\u001b[0m cannot assign to literal\n"
     ]
    }
   ],
   "source": [
    "x = y = z = 100 = 200 = 300\n",
    "print(x,y,z)"
   ]
  },
  {
   "cell_type": "code",
   "execution_count": 14,
   "id": "c73af877",
   "metadata": {},
   "outputs": [
    {
     "name": "stdout",
     "output_type": "stream",
     "text": [
      "* * * * * * \n",
      "* * * * * * \n",
      "* * * * * * \n",
      "* * * * * * \n",
      "* * * * * * \n"
     ]
    }
   ],
   "source": [
    "def star(n):\n",
    "    for i in range(0, n):\n",
    "        for j in range(0, n+1):\n",
    "\n",
    "            print(\"*\", end= \" \")\n",
    "        print()\n",
    "star(5)"
   ]
  },
  {
   "cell_type": "code",
   "execution_count": null,
   "id": "d61e89bc",
   "metadata": {},
   "outputs": [],
   "source": []
  },
  {
   "cell_type": "code",
   "execution_count": null,
   "id": "d57dc94d",
   "metadata": {},
   "outputs": [],
   "source": []
  },
  {
   "cell_type": "code",
   "execution_count": null,
   "id": "73986ab4",
   "metadata": {},
   "outputs": [],
   "source": []
  }
 ],
 "metadata": {
  "kernelspec": {
   "display_name": "Python 3 (ipykernel)",
   "language": "python",
   "name": "python3"
  },
  "language_info": {
   "codemirror_mode": {
    "name": "ipython",
    "version": 3
   },
   "file_extension": ".py",
   "mimetype": "text/x-python",
   "name": "python",
   "nbconvert_exporter": "python",
   "pygments_lexer": "ipython3",
   "version": "3.9.12"
  }
 },
 "nbformat": 4,
 "nbformat_minor": 5
}
