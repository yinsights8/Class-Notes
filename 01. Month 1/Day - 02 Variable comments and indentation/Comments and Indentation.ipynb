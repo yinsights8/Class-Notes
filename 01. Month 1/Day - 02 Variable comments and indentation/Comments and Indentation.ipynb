{
 "cells": [
  {
   "cell_type": "markdown",
   "id": "4ab61a13",
   "metadata": {},
   "source": [
    "# Comments\n",
    "- 1. Comments are specified by >>> #\n",
    "- 2. Control + / >> To Comment Multiple Lines\n",
    "- 3. Tripple Quotes"
   ]
  },
  {
   "cell_type": "code",
   "execution_count": null,
   "id": "23725e0c",
   "metadata": {},
   "outputs": [],
   "source": [
    "# print(\"Hello World!\")\n",
    "print(\"Hello World!\") # This is my first code line\n",
    "#print(\"Learning Python 1\")\n",
    "print(\"Learning Python 2\")\n",
    "#print(\"Learning Python 3\")\n",
    "print(\"Learning Python 4\")\n",
    "print(\"Learning Python 5\")\n",
    "print(\"Learning Python 6\")"
   ]
  },
  {
   "cell_type": "code",
   "execution_count": null,
   "id": "efee61db",
   "metadata": {},
   "outputs": [],
   "source": [
    "# print(\"Hello World!\")\n",
    "print(\"Hello World!\") # This is my first code line\n",
    "#print(\"Learning Python 1\")\n",
    "print(\"Learning Python 2\")\n",
    "# print(\"Learning Python 3\")   Used Control+/\n",
    "# print(\"Learning Python 4\")\n",
    "# print(\"Learning Python 5\")\n",
    "# print(\"Learning Python 6\")"
   ]
  },
  {
   "cell_type": "code",
   "execution_count": null,
   "id": "14d52311",
   "metadata": {},
   "outputs": [],
   "source": [
    "print(\"Hello World!\")\n",
    "print(\"Hello World!\") \n",
    "print(\"Learning Python 1\")\n",
    "# print(\"Learning Python 2\")\n",
    "# print(\"Learning Python 3\")\n",
    "# print(\"Learning Python 4\")\n",
    "# print(\"Learning Python 5\")\n",
    "# print(\"Learning Python 6\")"
   ]
  },
  {
   "cell_type": "code",
   "execution_count": 1,
   "id": "dda10b0c",
   "metadata": {},
   "outputs": [
    {
     "name": "stdout",
     "output_type": "stream",
     "text": [
      "This is about Python Language\n"
     ]
    }
   ],
   "source": [
    "\"\"\"Python is a high-level, interpreted, general-purpose programming language. Its design philosophy \n",
    "emphasizes code readability with the use of significant indentation.Python is dynamically-typed and \n",
    "garbage-collected. It supports multiple programming paradigms, including structured (particularly \n",
    "procedural), object-oriented and functional programming. It is often described as a \"batteries \n",
    "included\" language due to its comprehensive standard library.\"\"\"\n",
    "print(\"This is about Python Language\")"
   ]
  },
  {
   "cell_type": "code",
   "execution_count": 4,
   "id": "ae7bf572",
   "metadata": {},
   "outputs": [
    {
     "name": "stdout",
     "output_type": "stream",
     "text": [
      "This is about Python Language\n"
     ]
    }
   ],
   "source": [
    "# Python is a high-level, interpreted, general-purpose programming language. Its design philosophy \n",
    "# emphasizes code readability with the use of significant indentation.Python is dynamically-typed and \n",
    "# garbage-collected. It supports multiple programming paradigms, including structured (particularly \n",
    "# procedural), object-oriented and functional programming. It is often described as a \"batteries \n",
    "# included\" language due to its comprehensive standard library.\n",
    "print(\"This is about Python Language\")"
   ]
  },
  {
   "cell_type": "markdown",
   "id": "be4714a2",
   "metadata": {},
   "source": [
    "# Indentation\n",
    "- Space at the start of the code line"
   ]
  },
  {
   "cell_type": "code",
   "execution_count": 5,
   "id": "85badbf3",
   "metadata": {},
   "outputs": [
    {
     "name": "stdout",
     "output_type": "stream",
     "text": [
      "Hello World!\n"
     ]
    }
   ],
   "source": [
    "print(\"Hello World!\")\n"
   ]
  },
  {
   "cell_type": "code",
   "execution_count": 6,
   "id": "61b2c55a",
   "metadata": {},
   "outputs": [
    {
     "name": "stdout",
     "output_type": "stream",
     "text": [
      "Hello World!\n",
      "Hello World!\n"
     ]
    }
   ],
   "source": [
    "print(\"Hello World!\")\n",
    "print(\"Hello World!\")\n"
   ]
  },
  {
   "cell_type": "code",
   "execution_count": 9,
   "id": "56041427",
   "metadata": {},
   "outputs": [
    {
     "ename": "IndentationError",
     "evalue": "unexpected indent (307742348.py, line 4)",
     "output_type": "error",
     "traceback": [
      "\u001b[1;36m  Input \u001b[1;32mIn [9]\u001b[1;36m\u001b[0m\n\u001b[1;33m    print(\"Hello World!\") # Adding one Space\u001b[0m\n\u001b[1;37m    ^\u001b[0m\n\u001b[1;31mIndentationError\u001b[0m\u001b[1;31m:\u001b[0m unexpected indent\n"
     ]
    }
   ],
   "source": [
    "print(\"Hello World!\")\n",
    "print(\"Hello World!\")\n",
    "print(\"Hello World!\")\n",
    " print(\"Hello World!\") # Adding one Space\n"
   ]
  },
  {
   "cell_type": "code",
   "execution_count": 31,
   "id": "ec2e03d2",
   "metadata": {},
   "outputs": [
    {
     "name": "stdout",
     "output_type": "stream",
     "text": [
      "Hello World!\n",
      "Hello World!\n",
      "Hello World!\n",
      "Hello World!\n"
     ]
    }
   ],
   "source": [
    " print(\"Hello World!\") # Adding one Space\n",
    "print(\"Hello World!\") # Adding one Space\n",
    " print(\"Hello World!\") # Adding one Space\n",
    " print(\"Hello World!\") # Adding one Space"
   ]
  },
  {
   "cell_type": "code",
   "execution_count": 11,
   "id": "24716093",
   "metadata": {},
   "outputs": [
    {
     "name": "stdout",
     "output_type": "stream",
     "text": [
      "Hello World!\n",
      "Hello World!\n",
      "Hello World!\n",
      "Hello World!\n"
     ]
    }
   ],
   "source": [
    "  print(\"Hello World!\") # Adding one more Space\n",
    "  print(\"Hello World!\") # Adding one more Space\n",
    "  print(\"Hello World!\") # Adding one more Space\n",
    "  print(\"Hello World!\") # Adding one more Space"
   ]
  },
  {
   "cell_type": "code",
   "execution_count": 15,
   "id": "0b89df30",
   "metadata": {},
   "outputs": [
    {
     "name": "stdout",
     "output_type": "stream",
     "text": [
      "Good to go for Voting\n"
     ]
    }
   ],
   "source": [
    "Age = 56\n",
    "if Age > 18:\n",
    "    print('Good to go for Voting') # 4 Spaces or 1 Tab"
   ]
  },
  {
   "cell_type": "code",
   "execution_count": 16,
   "id": "5603a551",
   "metadata": {},
   "outputs": [
    {
     "name": "stdout",
     "output_type": "stream",
     "text": [
      "Good to go for Voting\n",
      "Going for Vote\n"
     ]
    }
   ],
   "source": [
    "Age = 56\n",
    "if Age > 18:\n",
    "    print('Good to go for Voting')\n",
    "    print(\"Going for Vote\")"
   ]
  },
  {
   "cell_type": "code",
   "execution_count": 20,
   "id": "a7ec4af4",
   "metadata": {},
   "outputs": [
    {
     "ename": "IndentationError",
     "evalue": "unindent does not match any outer indentation level (<tokenize>, line 4)",
     "output_type": "error",
     "traceback": [
      "\u001b[1;36m  File \u001b[1;32m<tokenize>:4\u001b[1;36m\u001b[0m\n\u001b[1;33m    print(\"Going for Vote\") # 3 spaces\u001b[0m\n\u001b[1;37m    ^\u001b[0m\n\u001b[1;31mIndentationError\u001b[0m\u001b[1;31m:\u001b[0m unindent does not match any outer indentation level\n"
     ]
    }
   ],
   "source": [
    "Age = 56\n",
    "if Age > 18:\n",
    "    print('Good to go for Voting') # 4 spaces\n",
    "   print(\"Going for Vote\") # 3 spaces"
   ]
  },
  {
   "cell_type": "code",
   "execution_count": 21,
   "id": "2b49be75",
   "metadata": {},
   "outputs": [
    {
     "name": "stdout",
     "output_type": "stream",
     "text": [
      "Good to go for Voting\n",
      "Going for Vote\n"
     ]
    }
   ],
   "source": [
    "Age = 56\n",
    "if Age > 18:\n",
    "   print('Good to go for Voting') # 3 spaces\n",
    "   print(\"Going for Vote\") # 3 spaces"
   ]
  },
  {
   "cell_type": "code",
   "execution_count": 22,
   "id": "741540fd",
   "metadata": {},
   "outputs": [
    {
     "name": "stdout",
     "output_type": "stream",
     "text": [
      "Good to go for Voting\n",
      "Going for Vote\n"
     ]
    }
   ],
   "source": [
    "Age = 56\n",
    "if Age > 18:\n",
    "  print('Good to go for Voting') # 2 spaces\n",
    "  print(\"Going for Vote\") # 2 spaces"
   ]
  },
  {
   "cell_type": "code",
   "execution_count": 23,
   "id": "595b1c05",
   "metadata": {},
   "outputs": [
    {
     "name": "stdout",
     "output_type": "stream",
     "text": [
      "Good to go for Voting\n",
      "Going for Vote\n",
      "Testing Age for Voting\n"
     ]
    }
   ],
   "source": [
    "Age = 56\n",
    "if Age > 18:\n",
    "  print('Good to go for Voting') # 2 spaces\n",
    "  print(\"Going for Vote\") # 2 spaces\n",
    "    \n",
    "print(\"Testing Age for Voting\")"
   ]
  },
  {
   "cell_type": "code",
   "execution_count": 27,
   "id": "48da137b",
   "metadata": {},
   "outputs": [
    {
     "name": "stdout",
     "output_type": "stream",
     "text": [
      "Can not go for voting\n"
     ]
    }
   ],
   "source": [
    "Age = 16\n",
    "if Age > 18:\n",
    "  print('Good to go for Voting') # 2 spaces\n",
    "  print(\"Going for Vote\") # 2 spaces\n",
    "else:\n",
    "    print(\"Can not go for voting\") # 4 Spaces\n",
    "    "
   ]
  },
  {
   "cell_type": "code",
   "execution_count": 28,
   "id": "73095b31",
   "metadata": {},
   "outputs": [
    {
     "name": "stdout",
     "output_type": "stream",
     "text": [
      "Can not go for voting\n",
      "Sorry\n"
     ]
    }
   ],
   "source": [
    "Age = 16\n",
    "if Age > 18:\n",
    "  print('Good to go for Voting') # 2 spaces\n",
    "  print(\"Going for Vote\") # 2 spaces\n",
    "else:\n",
    "    print(\"Can not go for voting\") # 4 Spaces\n",
    "    print(\"Sorry\")"
   ]
  },
  {
   "cell_type": "code",
   "execution_count": 35,
   "id": "beb14722",
   "metadata": {},
   "outputs": [
    {
     "name": "stdout",
     "output_type": "stream",
     "text": [
      "Can not go for voting\n",
      "Sorry\n",
      "If else block tested\n"
     ]
    }
   ],
   "source": [
    "Age = 16\n",
    "if Age > 18:\n",
    "  print('Good to go for Voting') # 2 spaces\n",
    "  print(\"Going for Vote\") # 2 spaces\n",
    "else:\n",
    "    print(\"Can not go for voting\") # 4 Spaces\n",
    "    print(\"Sorry\")\n",
    "        \n",
    "print(\"If else block tested\")"
   ]
  },
  {
   "cell_type": "code",
   "execution_count": null,
   "id": "3f5f1154",
   "metadata": {},
   "outputs": [],
   "source": []
  }
 ],
 "metadata": {
  "kernelspec": {
   "display_name": "Python 3 (ipykernel)",
   "language": "python",
   "name": "python3"
  },
  "language_info": {
   "codemirror_mode": {
    "name": "ipython",
    "version": 3
   },
   "file_extension": ".py",
   "mimetype": "text/x-python",
   "name": "python",
   "nbconvert_exporter": "python",
   "pygments_lexer": "ipython3",
   "version": "3.10.5"
  }
 },
 "nbformat": 4,
 "nbformat_minor": 5
}
