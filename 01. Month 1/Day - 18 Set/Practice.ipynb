{
 "cells": [
  {
   "cell_type": "markdown",
   "id": "9f94e750",
   "metadata": {},
   "source": [
    "# set\n",
    "- it is a unorded data type \n",
    "- it is immutable (can not change items)\n",
    "- duplicates items are not allowed \n",
    "- length can be varies according its element\n",
    "- can not be access by indexing and slicing \n",
    "- has more functionality \n",
    "- store unique values\n",
    "- elements are enclosed by {    }\n",
    "- set constructor \n",
    "  - syntax:- \n",
    "    - set(iterator)"
   ]
  },
  {
   "cell_type": "code",
   "execution_count": 3,
   "id": "9ec38306",
   "metadata": {},
   "outputs": [
    {
     "data": {
      "text/plain": [
       "{'Data', 'ML', 'Python', 'Science'}"
      ]
     },
     "execution_count": 3,
     "metadata": {},
     "output_type": "execute_result"
    }
   ],
   "source": [
    "# ways to assign sets\n",
    "\n",
    "set1 = {\"Python\", \"Data\", \"Science\", \"ML\"}\n",
    "set1"
   ]
  },
  {
   "cell_type": "code",
   "execution_count": 6,
   "id": "1b88ce62",
   "metadata": {},
   "outputs": [
    {
     "name": "stdout",
     "output_type": "stream",
     "text": [
      "{1, 2, 3, 4, 5, 6}\n"
     ]
    }
   ],
   "source": [
    "se1 = set([1,2,3,4,5,6])\n",
    "print(se1)"
   ]
  },
  {
   "cell_type": "code",
   "execution_count": 7,
   "id": "f424c64c",
   "metadata": {},
   "outputs": [
    {
     "data": {
      "text/plain": [
       "set"
      ]
     },
     "execution_count": 7,
     "metadata": {},
     "output_type": "execute_result"
    }
   ],
   "source": [
    "# create an empty set\n",
    "\n",
    "empty_set = set()\n",
    "type(empty_set)"
   ]
  },
  {
   "cell_type": "code",
   "execution_count": 11,
   "id": "6c2f5a36",
   "metadata": {},
   "outputs": [
    {
     "data": {
      "text/plain": [
       "dict"
      ]
     },
     "execution_count": 11,
     "metadata": {},
     "output_type": "execute_result"
    }
   ],
   "source": [
    "empty_set1 = {}\n",
    "type(empty_set1)"
   ]
  },
  {
   "cell_type": "code",
   "execution_count": 26,
   "id": "afdd7d42",
   "metadata": {},
   "outputs": [
    {
     "name": "stdout",
     "output_type": "stream",
     "text": [
      "list:  [1, 2, 3, 4, 5, 6]\n",
      "^^^^^^^^^^^^^^^^^^^^^^^^^^^^^^^^^^^^^^^^^^^^^^^^^^\n",
      "set:  {1, 2, 3, 4, 5, 6} se = set(list1)\n",
      "\n",
      "         OR         \n",
      "\n",
      "set:  {8, 9, 7} by se1 = set([7, 8, 9])\n"
     ]
    }
   ],
   "source": [
    "list1 = [1,2,3,4,5,6]\n",
    "print(\"list: \",list1)\n",
    "\n",
    "print(\"^\"*50)\n",
    "\n",
    "se = set(list1)\n",
    "print(\"set: \",se,\"se = set(list1)\")\n",
    "print()\n",
    "\n",
    "print(\"OR\".center(20))\n",
    "\n",
    "se1 = set([7, 8, 9])\n",
    "print()\n",
    "print(\"set: \",se1,\"by se1 = set([7, 8, 9])\")"
   ]
  },
  {
   "cell_type": "code",
   "execution_count": 19,
   "id": "ae4a6e59",
   "metadata": {},
   "outputs": [
    {
     "ename": "TypeError",
     "evalue": "'set' object is not subscriptable",
     "output_type": "error",
     "traceback": [
      "\u001b[1;31m---------------------------------------------------------------------------\u001b[0m",
      "\u001b[1;31mTypeError\u001b[0m                                 Traceback (most recent call last)",
      "Input \u001b[1;32mIn [19]\u001b[0m, in \u001b[0;36m<cell line: 3>\u001b[1;34m()\u001b[0m\n\u001b[0;32m      1\u001b[0m access_set \u001b[38;5;241m=\u001b[39m {\u001b[38;5;124m\"\u001b[39m\u001b[38;5;124mPython\u001b[39m\u001b[38;5;124m\"\u001b[39m, \u001b[38;5;124m\"\u001b[39m\u001b[38;5;124mData\u001b[39m\u001b[38;5;124m\"\u001b[39m, \u001b[38;5;124m\"\u001b[39m\u001b[38;5;124mScience\u001b[39m\u001b[38;5;124m\"\u001b[39m, \u001b[38;5;124m\"\u001b[39m\u001b[38;5;124mML\u001b[39m\u001b[38;5;124m\"\u001b[39m}\n\u001b[1;32m----> 3\u001b[0m \u001b[43maccess_set\u001b[49m\u001b[43m[\u001b[49m\u001b[38;5;241;43m1\u001b[39;49m\u001b[43m]\u001b[49m\n\u001b[0;32m      4\u001b[0m access_set[\u001b[38;5;241m0\u001b[39m]\n",
      "\u001b[1;31mTypeError\u001b[0m: 'set' object is not subscriptable"
     ]
    }
   ],
   "source": [
    "# Indexing and slicing does not work\n",
    "\n",
    "access_set = {\"Python\", \"Data\", \"Science\", \"ML\"}\n",
    "\n",
    "access_set[1]\n",
    "access_set[0]"
   ]
  },
  {
   "cell_type": "markdown",
   "id": "801774b7",
   "metadata": {},
   "source": [
    "#### if we can't acces the elements from the set then how we can acces the elements from the set itself without any functions"
   ]
  },
  {
   "cell_type": "code",
   "execution_count": 31,
   "id": "c8bfe074",
   "metadata": {},
   "outputs": [
    {
     "name": "stdout",
     "output_type": "stream",
     "text": [
      "{'Scientist', 2, 3, 4, 1, 5, 'Science', 'Python', 'Data'}\n",
      "\n",
      "Scientist\n",
      "2\n",
      "3\n",
      "4\n",
      "1\n",
      "5\n",
      "Science\n",
      "Python\n",
      "Data\n"
     ]
    }
   ],
   "source": [
    "access = {\"Python\", \"Data\", \"Science\", \"Scientist\", 1, 2, 3, 4, 5}\n",
    "print(access)\n",
    "print()\n",
    "for i in access:\n",
    "    print(i)"
   ]
  },
  {
   "cell_type": "code",
   "execution_count": 38,
   "id": "d74d5458",
   "metadata": {},
   "outputs": [
    {
     "name": "stdout",
     "output_type": "stream",
     "text": [
      "Python\n"
     ]
    }
   ],
   "source": [
    "for i in access:\n",
    "    if i == \"Python\":\n",
    "        print(i)\n",
    "        \n",
    "        \n",
    "#     else:\n",
    "#         print(i)"
   ]
  },
  {
   "cell_type": "code",
   "execution_count": 39,
   "id": "7566a9e4",
   "metadata": {},
   "outputs": [
    {
     "name": "stdout",
     "output_type": "stream",
     "text": [
      "True\n"
     ]
    }
   ],
   "source": [
    "thisset = {\"apple\", \"banana\", \"cherry\"}\n",
    "\n",
    "print(\"banana\" in thisset)"
   ]
  },
  {
   "cell_type": "code",
   "execution_count": 40,
   "id": "49a948c3",
   "metadata": {},
   "outputs": [
    {
     "name": "stdout",
     "output_type": "stream",
     "text": [
      "{1, 2, 3, 4, 7, 8, 9}\n"
     ]
    }
   ],
   "source": [
    "s = {4,7,8,9,2,1,3}\n",
    "print(s)"
   ]
  },
  {
   "cell_type": "code",
   "execution_count": 41,
   "id": "c05a870e",
   "metadata": {},
   "outputs": [
    {
     "data": {
      "text/plain": [
       "68"
      ]
     },
     "execution_count": 41,
     "metadata": {},
     "output_type": "execute_result"
    }
   ],
   "source": [
    "ord(\"D\")"
   ]
  },
  {
   "cell_type": "code",
   "execution_count": 42,
   "id": "b6098f32",
   "metadata": {},
   "outputs": [
    {
     "data": {
      "text/plain": [
       "97"
      ]
     },
     "execution_count": 42,
     "metadata": {},
     "output_type": "execute_result"
    }
   ],
   "source": [
    "ord(\"a\")"
   ]
  },
  {
   "cell_type": "code",
   "execution_count": 51,
   "id": "519cbd3f",
   "metadata": {},
   "outputs": [
    {
     "name": "stdout",
     "output_type": "stream",
     "text": [
      "{1, 2, 3, 66, 55, 44}\n",
      "{66, 44, 55}\n"
     ]
    }
   ],
   "source": [
    "set1 = {3,1,2}\n",
    "set2 = {44,55,66}\n",
    "\n",
    "set1.update(set2)\n",
    "\n",
    "print(set1)\n",
    "print(set2)"
   ]
  },
  {
   "cell_type": "code",
   "execution_count": 56,
   "id": "1d6e6a6a",
   "metadata": {},
   "outputs": [
    {
     "name": "stdout",
     "output_type": "stream",
     "text": [
      "{1, 2, 3}\n",
      "{1, 66, 2, 3, 55, 44}\n"
     ]
    }
   ],
   "source": [
    "set1 = {3,1,2}\n",
    "set2 = {44,55,66}\n",
    "\n",
    "set2.update(set1)\n",
    "\n",
    "print(set1)\n",
    "\n",
    "print(set2)\n",
    "\n"
   ]
  },
  {
   "cell_type": "code",
   "execution_count": 57,
   "id": "5a6b0a76",
   "metadata": {},
   "outputs": [
    {
     "name": "stdout",
     "output_type": "stream",
     "text": [
      "True\n"
     ]
    }
   ],
   "source": [
    "print(True)"
   ]
  },
  {
   "cell_type": "code",
   "execution_count": 61,
   "id": "73da8e81",
   "metadata": {},
   "outputs": [
    {
     "data": {
      "text/plain": [
       "2"
      ]
     },
     "execution_count": 61,
     "metadata": {},
     "output_type": "execute_result"
    }
   ],
   "source": [
    "True + True"
   ]
  },
  {
   "cell_type": "code",
   "execution_count": 65,
   "id": "3bafb636",
   "metadata": {},
   "outputs": [
    {
     "data": {
      "text/plain": [
       "{1, 2, 3, 4, 8}"
      ]
     },
     "execution_count": 65,
     "metadata": {},
     "output_type": "execute_result"
    }
   ],
   "source": [
    "add_ele = {1,2,3}\n",
    "\n",
    "add_ele.add(4)\n",
    "add_ele.add(8)\n",
    "add_ele"
   ]
  },
  {
   "cell_type": "code",
   "execution_count": 67,
   "id": "253c5e40",
   "metadata": {},
   "outputs": [
    {
     "name": "stdout",
     "output_type": "stream",
     "text": [
      "{1, 2, 3, 4, 5, 6, 7, 8, 9}\n"
     ]
    }
   ],
   "source": [
    "add_ele = {1,2,3}\n",
    "\n",
    "li = [4,5,6,7,8,9]\n",
    "\n",
    "for i in li:\n",
    "    \n",
    "    add_ele.add(i)\n",
    "    \n",
    "print(add_ele)"
   ]
  },
  {
   "cell_type": "code",
   "execution_count": null,
   "id": "56ac8c82",
   "metadata": {},
   "outputs": [],
   "source": []
  },
  {
   "cell_type": "code",
   "execution_count": 68,
   "id": "a9912868",
   "metadata": {},
   "outputs": [
    {
     "name": "stdout",
     "output_type": "stream",
     "text": [
      "{'banana', 'cherry', 'google', 'apple', 'microsoft'}\n"
     ]
    }
   ],
   "source": [
    "x = {\"apple\", \"banana\", \"cherry\"}\n",
    "y = {\"google\", \"microsoft\", \"apple\"}\n",
    "\n",
    "z = x.union(y) \n",
    "\n",
    "print(z)"
   ]
  },
  {
   "cell_type": "code",
   "execution_count": 69,
   "id": "afea4f20",
   "metadata": {},
   "outputs": [
    {
     "data": {
      "text/plain": [
       "{'apple', 'banana', 'cherry'}"
      ]
     },
     "execution_count": 69,
     "metadata": {},
     "output_type": "execute_result"
    }
   ],
   "source": [
    "x = {\"apple\", \"banana\", \"cherry\", \"apple\"}\n",
    "x"
   ]
  },
  {
   "cell_type": "code",
   "execution_count": 71,
   "id": "79ba02ba",
   "metadata": {},
   "outputs": [
    {
     "name": "stdout",
     "output_type": "stream",
     "text": [
      "{1, 2, 3, 5, 6, 7, 8, 9}\n"
     ]
    }
   ],
   "source": [
    "x = {1,2,5,6,8}\n",
    "\n",
    "y = {9,7,8,1,2,3,5,6}\n",
    "\n",
    "z = x.union(y)\n",
    "\n",
    "print(z)"
   ]
  },
  {
   "cell_type": "code",
   "execution_count": 79,
   "id": "be29ca76",
   "metadata": {},
   "outputs": [
    {
     "name": "stdout",
     "output_type": "stream",
     "text": [
      "[1, 2, 5, 6, 3, 7, 8, 9]\n"
     ]
    }
   ],
   "source": [
    "x = {5,6,1,2}\n",
    "\n",
    "y = {9,7,8,1,2,3,5,6}\n",
    "\n",
    "\n",
    "added = []\n",
    "\n",
    "for i in x:\n",
    "    if i in y:\n",
    "        added.append(i)\n",
    "        \n",
    "        \n",
    "for i in y:\n",
    "    if i not in x:\n",
    "        added.append(i)\n",
    "\n",
    "print(added)"
   ]
  },
  {
   "cell_type": "code",
   "execution_count": null,
   "id": "d52e1cb7",
   "metadata": {},
   "outputs": [],
   "source": []
  },
  {
   "cell_type": "code",
   "execution_count": 110,
   "id": "a24eadd6",
   "metadata": {},
   "outputs": [
    {
     "name": "stdout",
     "output_type": "stream",
     "text": [
      "{1, 2, 3, 5, 6, 7, 8, 9}\n"
     ]
    }
   ],
   "source": [
    "x = {5,6,1,2}\n",
    "\n",
    "y = [9,7,8,1,2,3,5,6]\n",
    "\n",
    "\n",
    "added = []\n",
    "\n",
    "for i in x:\n",
    "    if i in y:\n",
    "        added.append(i)\n",
    "        \n",
    "        \n",
    "for i in y:\n",
    "    if i not in x:\n",
    "        added.append(i)\n",
    "\n",
    "print(set(added))"
   ]
  },
  {
   "cell_type": "code",
   "execution_count": null,
   "id": "75616459",
   "metadata": {},
   "outputs": [],
   "source": []
  },
  {
   "cell_type": "code",
   "execution_count": 3,
   "id": "f0d6e6be",
   "metadata": {},
   "outputs": [
    {
     "name": "stdout",
     "output_type": "stream",
     "text": [
      "None\n"
     ]
    }
   ],
   "source": [
    "a = {1,2,3}\n",
    "\n",
    "b = a.add(4)\n",
    "\n",
    "print(b)"
   ]
  },
  {
   "cell_type": "code",
   "execution_count": 8,
   "id": "a4f60de4",
   "metadata": {},
   "outputs": [
    {
     "name": "stdout",
     "output_type": "stream",
     "text": [
      "{1, 2, 3, 4, 66, 5, 77, 88}\n"
     ]
    }
   ],
   "source": [
    "d = {1,2,3,4}\n",
    "f = {1,2,3,5,66,77,88}\n",
    "\n",
    "d.update(f)\n",
    "\n",
    "print(d)"
   ]
  },
  {
   "cell_type": "code",
   "execution_count": 9,
   "id": "41ecda4a",
   "metadata": {},
   "outputs": [
    {
     "name": "stdout",
     "output_type": "stream",
     "text": [
      "{1, 66, 3, 2, 5, 4, 77, 88}\n"
     ]
    }
   ],
   "source": [
    "f.update(d)\n",
    "\n",
    "print(f)"
   ]
  },
  {
   "cell_type": "code",
   "execution_count": 10,
   "id": "6e35f976",
   "metadata": {},
   "outputs": [
    {
     "name": "stdout",
     "output_type": "stream",
     "text": [
      "{1, 2, 3, 4, 66, 5, 77, 88}\n"
     ]
    }
   ],
   "source": [
    "d = {1,2,3,4}\n",
    "f = {1,2,3,5,66,77,88}\n",
    "\n",
    "g = d.union(f)\n",
    "\n",
    "print(g)"
   ]
  },
  {
   "cell_type": "code",
   "execution_count": null,
   "id": "cbf0a276",
   "metadata": {},
   "outputs": [],
   "source": [
    " "
   ]
  },
  {
   "cell_type": "code",
   "execution_count": 11,
   "id": "6bf3c167",
   "metadata": {},
   "outputs": [
    {
     "data": {
      "text/plain": [
       "{'a', 'b', 'c', 'd', 'e', 'f', 'g', 'h'}"
      ]
     },
     "execution_count": 11,
     "metadata": {},
     "output_type": "execute_result"
    }
   ],
   "source": [
    "set1 = {'a','b','c','d'}\n",
    "set2 = {'e','f','g','h'}\n",
    "set1 |= set( {'e','f','g','h'})\n",
    "set1"
   ]
  },
  {
   "cell_type": "code",
   "execution_count": 14,
   "id": "d196b6fe",
   "metadata": {},
   "outputs": [
    {
     "name": "stdout",
     "output_type": "stream",
     "text": [
      "{1, 2, 3, 7, 8, 9}\n"
     ]
    }
   ],
   "source": [
    "set1 = {1,2,3}\n",
    "\n",
    "set2 = {4,5,6}\n",
    "\n",
    "set1 |= set({7,8,9})\n",
    "\n",
    "print(set1)"
   ]
  },
  {
   "cell_type": "code",
   "execution_count": null,
   "id": "a1071c0a",
   "metadata": {},
   "outputs": [],
   "source": []
  },
  {
   "cell_type": "code",
   "execution_count": 17,
   "id": "b918f769",
   "metadata": {},
   "outputs": [
    {
     "name": "stdout",
     "output_type": "stream",
     "text": [
      "{1, 4, 5, 6}\n"
     ]
    }
   ],
   "source": [
    "set1 = {1,2,3}\n",
    "\n",
    "set4 = set({4,5,6,1})\n",
    "\n",
    "print(set4)"
   ]
  },
  {
   "cell_type": "code",
   "execution_count": 20,
   "id": "ba75eab1",
   "metadata": {},
   "outputs": [
    {
     "name": "stdout",
     "output_type": "stream",
     "text": [
      "{1, 2, 3, 4, 66, 5, 7, 8, 9, 77, 'data', 'science', 'pyhton', 88}\n"
     ]
    }
   ],
   "source": [
    "d = {1,2,3,4}\n",
    "f = {1,2,3,5,66,77,88}\n",
    "j = {7,8,9}\n",
    "h = {\"pyhton\", \"data\",\"science\"}\n",
    "\n",
    "d.update(f,j,h)\n",
    "\n",
    "print(d)"
   ]
  },
  {
   "cell_type": "markdown",
   "id": "7ab0a1b5",
   "metadata": {},
   "source": [
    "### intersection"
   ]
  },
  {
   "cell_type": "code",
   "execution_count": 33,
   "id": "99f99890",
   "metadata": {},
   "outputs": [
    {
     "name": "stdout",
     "output_type": "stream",
     "text": [
      "{2, 5}\n"
     ]
    }
   ],
   "source": [
    "s1 = {1,2,3,4,5}\n",
    "s2 = {4,5,6,7,8,2}\n",
    "s3 = {7,8,5,1,2}\n",
    "\n",
    "s = s1.intersection(s2,s3)\n",
    "\n",
    "print(s)"
   ]
  },
  {
   "cell_type": "code",
   "execution_count": 40,
   "id": "8a3491f5",
   "metadata": {},
   "outputs": [
    {
     "name": "stdout",
     "output_type": "stream",
     "text": [
      "{3, 4}\n"
     ]
    }
   ],
   "source": [
    "k = {1,2,3,4}\n",
    "j = {4,5,6,8,3}\n",
    "d = {4,50,60,30,3}\n",
    "\n",
    "new = []\n",
    "\n",
    "for i in k:\n",
    "    if i in j and i in d:\n",
    "        new.append(i)\n",
    "        \n",
    "print(set(new))"
   ]
  },
  {
   "cell_type": "code",
   "execution_count": null,
   "id": "53306ff7",
   "metadata": {},
   "outputs": [],
   "source": []
  },
  {
   "cell_type": "code",
   "execution_count": 34,
   "id": "9255ad56",
   "metadata": {},
   "outputs": [
    {
     "name": "stdout",
     "output_type": "stream",
     "text": [
      "{1, 2, 3}\n"
     ]
    }
   ],
   "source": [
    "s1 = {1,2,3,4,5}\n",
    "s2 = {4,5,6,7,8}\n",
    "\n",
    "p = s1.difference(s2)\n",
    "print(p)"
   ]
  },
  {
   "cell_type": "code",
   "execution_count": 1,
   "id": "9507a2df",
   "metadata": {},
   "outputs": [
    {
     "data": {
      "text/plain": [
       "True"
      ]
     },
     "execution_count": 1,
     "metadata": {},
     "output_type": "execute_result"
    }
   ],
   "source": [
    "li1 = [True,True,True,True,True,True,False,False,False,False,False]\n",
    "any(li1)"
   ]
  },
  {
   "cell_type": "code",
   "execution_count": 2,
   "id": "265ce99d",
   "metadata": {},
   "outputs": [
    {
     "data": {
      "text/plain": [
       "False"
      ]
     },
     "execution_count": 2,
     "metadata": {},
     "output_type": "execute_result"
    }
   ],
   "source": [
    "all(li1)"
   ]
  },
  {
   "cell_type": "code",
   "execution_count": 3,
   "id": "6535e1a6",
   "metadata": {},
   "outputs": [
    {
     "data": {
      "text/plain": [
       "True"
      ]
     },
     "execution_count": 3,
     "metadata": {},
     "output_type": "execute_result"
    }
   ],
   "source": [
    "li2 = [True,True,True,True,True,True]\n",
    "all(li2)"
   ]
  },
  {
   "cell_type": "code",
   "execution_count": 4,
   "id": "0ae16fae",
   "metadata": {},
   "outputs": [
    {
     "data": {
      "text/plain": [
       "False"
      ]
     },
     "execution_count": 4,
     "metadata": {},
     "output_type": "execute_result"
    }
   ],
   "source": [
    "li3 = [False,False,False,False,False]\n",
    "all(li3)"
   ]
  },
  {
   "cell_type": "code",
   "execution_count": 5,
   "id": "6ffe8d8a",
   "metadata": {},
   "outputs": [
    {
     "data": {
      "text/plain": [
       "False"
      ]
     },
     "execution_count": 5,
     "metadata": {},
     "output_type": "execute_result"
    }
   ],
   "source": [
    "li3 = [False,False,False,False,False]\n",
    "any(li3)"
   ]
  },
  {
   "cell_type": "code",
   "execution_count": 8,
   "id": "d3467aab",
   "metadata": {},
   "outputs": [
    {
     "data": {
      "text/plain": [
       "False"
      ]
     },
     "execution_count": 8,
     "metadata": {},
     "output_type": "execute_result"
    }
   ],
   "source": [
    "li3 = [False,False,False,False,False]\n",
    "any(li3)"
   ]
  },
  {
   "cell_type": "code",
   "execution_count": 10,
   "id": "170f9d52",
   "metadata": {},
   "outputs": [
    {
     "ename": "TypeError",
     "evalue": "set expected at most 1 argument, got 2",
     "output_type": "error",
     "traceback": [
      "\u001b[1;31m---------------------------------------------------------------------------\u001b[0m",
      "\u001b[1;31mTypeError\u001b[0m                                 Traceback (most recent call last)",
      "Input \u001b[1;32mIn [10]\u001b[0m, in \u001b[0;36m<cell line: 1>\u001b[1;34m()\u001b[0m\n\u001b[1;32m----> 1\u001b[0m \u001b[38;5;28;43mset\u001b[39;49m\u001b[43m(\u001b[49m\u001b[43m[\u001b[49m\u001b[38;5;241;43m10\u001b[39;49m\u001b[43m,\u001b[49m\u001b[38;5;241;43m12\u001b[39;49m\u001b[43m,\u001b[49m\u001b[38;5;241;43m13\u001b[39;49m\u001b[43m]\u001b[49m\u001b[43m,\u001b[49m\u001b[43m[\u001b[49m\u001b[38;5;241;43m1\u001b[39;49m\u001b[43m,\u001b[49m\u001b[38;5;241;43m2\u001b[39;49m\u001b[43m,\u001b[49m\u001b[38;5;241;43m3\u001b[39;49m\u001b[43m]\u001b[49m\u001b[43m)\u001b[49m\n",
      "\u001b[1;31mTypeError\u001b[0m: set expected at most 1 argument, got 2"
     ]
    }
   ],
   "source": [
    "set([10,12,13],[1,2,3])"
   ]
  },
  {
   "cell_type": "code",
   "execution_count": 11,
   "id": "5f8b7af4",
   "metadata": {},
   "outputs": [
    {
     "ename": "TypeError",
     "evalue": "unhashable type: 'list'",
     "output_type": "error",
     "traceback": [
      "\u001b[1;31m---------------------------------------------------------------------------\u001b[0m",
      "\u001b[1;31mTypeError\u001b[0m                                 Traceback (most recent call last)",
      "Input \u001b[1;32mIn [11]\u001b[0m, in \u001b[0;36m<cell line: 1>\u001b[1;34m()\u001b[0m\n\u001b[1;32m----> 1\u001b[0m \u001b[38;5;28;43mset\u001b[39;49m\u001b[43m(\u001b[49m\u001b[43m[\u001b[49m\u001b[38;5;241;43m10\u001b[39;49m\u001b[43m,\u001b[49m\u001b[38;5;241;43m12\u001b[39;49m\u001b[43m,\u001b[49m\u001b[38;5;241;43m13\u001b[39;49m\u001b[43m,\u001b[49m\u001b[43m[\u001b[49m\u001b[38;5;241;43m1\u001b[39;49m\u001b[43m,\u001b[49m\u001b[38;5;241;43m2\u001b[39;49m\u001b[43m,\u001b[49m\u001b[38;5;241;43m3\u001b[39;49m\u001b[43m]\u001b[49m\u001b[43m]\u001b[49m\u001b[43m)\u001b[49m\n",
      "\u001b[1;31mTypeError\u001b[0m: unhashable type: 'list'"
     ]
    }
   ],
   "source": [
    "set([10,12,13,[1,2,3]])"
   ]
  },
  {
   "cell_type": "code",
   "execution_count": 21,
   "id": "4d101fa1",
   "metadata": {},
   "outputs": [
    {
     "data": {
      "text/plain": [
       "'python'"
      ]
     },
     "execution_count": 21,
     "metadata": {},
     "output_type": "execute_result"
    }
   ],
   "source": [
    "s2 = {4,5,6,\"kaka\",7,8,\"python\"}\n",
    "\n",
    "s2.pop()"
   ]
  },
  {
   "cell_type": "code",
   "execution_count": 25,
   "id": "61bca805",
   "metadata": {},
   "outputs": [
    {
     "data": {
      "text/plain": [
       "{4, 5, 6, 7, 8, 'kaka', 'python'}"
      ]
     },
     "execution_count": 25,
     "metadata": {},
     "output_type": "execute_result"
    }
   ],
   "source": [
    "s2 = {4,5,6,\"kaka\",7,8,\"python\"}\n",
    "\n",
    "s2.discard(\"mama\")\n",
    "s2"
   ]
  },
  {
   "cell_type": "code",
   "execution_count": 26,
   "id": "769bc17a",
   "metadata": {},
   "outputs": [
    {
     "data": {
      "text/plain": [
       "{4, 5, 6, 7, 8, 'python'}"
      ]
     },
     "execution_count": 26,
     "metadata": {},
     "output_type": "execute_result"
    }
   ],
   "source": [
    "s2 = {4,5,6,\"kaka\",7,8,\"python\"}\n",
    "\n",
    "s2.discard(\"kaka\")\n",
    "s2"
   ]
  },
  {
   "cell_type": "code",
   "execution_count": 34,
   "id": "da0f8ca4",
   "metadata": {},
   "outputs": [
    {
     "name": "stdout",
     "output_type": "stream",
     "text": [
      "{8, 'can not convert', 4, 6}\n",
      "<class 'set'>\n"
     ]
    }
   ],
   "source": [
    "s2 = {4,5,6,7,8}\n",
    "\n",
    "new_s2 = {i if i % 2 == 0 else \"can not convert\" for i in s2 }\n",
    "print(new_s2)\n",
    "print(type(new_s2))"
   ]
  },
  {
   "cell_type": "code",
   "execution_count": null,
   "id": "09f56110",
   "metadata": {},
   "outputs": [],
   "source": []
  }
 ],
 "metadata": {
  "kernelspec": {
   "display_name": "Python 3 (ipykernel)",
   "language": "python",
   "name": "python3"
  },
  "language_info": {
   "codemirror_mode": {
    "name": "ipython",
    "version": 3
   },
   "file_extension": ".py",
   "mimetype": "text/x-python",
   "name": "python",
   "nbconvert_exporter": "python",
   "pygments_lexer": "ipython3",
   "version": "3.9.12"
  }
 },
 "nbformat": 4,
 "nbformat_minor": 5
}
