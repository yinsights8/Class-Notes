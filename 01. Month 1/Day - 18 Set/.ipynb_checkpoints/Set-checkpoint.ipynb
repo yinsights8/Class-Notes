{
 "cells": [
  {
   "cell_type": "code",
   "execution_count": 1,
   "id": "21a96233",
   "metadata": {},
   "outputs": [
    {
     "data": {
      "text/plain": [
       "set"
      ]
     },
     "execution_count": 1,
     "metadata": {},
     "output_type": "execute_result"
    }
   ],
   "source": [
    "set1 = {1,2,3}\n",
    "type(set1)"
   ]
  },
  {
   "cell_type": "code",
   "execution_count": 2,
   "id": "590156f4",
   "metadata": {},
   "outputs": [
    {
     "data": {
      "text/plain": [
       "set"
      ]
     },
     "execution_count": 2,
     "metadata": {},
     "output_type": "execute_result"
    }
   ],
   "source": [
    "set1 = set()\n",
    "type(set1)"
   ]
  },
  {
   "cell_type": "code",
   "execution_count": 3,
   "id": "e2ad0391",
   "metadata": {},
   "outputs": [
    {
     "data": {
      "text/plain": [
       "{1, 2, 3}"
      ]
     },
     "execution_count": 3,
     "metadata": {},
     "output_type": "execute_result"
    }
   ],
   "source": [
    "set1 = {1,2,3,3,3,3,3}\n",
    "set1"
   ]
  },
  {
   "cell_type": "code",
   "execution_count": 4,
   "id": "d58bb6a0",
   "metadata": {},
   "outputs": [
    {
     "data": {
      "text/plain": [
       "{1, 2, 3, 3.5, 5.5, 'DataScience', 'Python'}"
      ]
     },
     "execution_count": 4,
     "metadata": {},
     "output_type": "execute_result"
    }
   ],
   "source": [
    "set1 = {1,2,3,3,3,3,5.5,3.5,\"Python\",\"DataScience\"}\n",
    "set1"
   ]
  },
  {
   "cell_type": "code",
   "execution_count": 5,
   "id": "d34b77a2",
   "metadata": {},
   "outputs": [
    {
     "name": "stdout",
     "output_type": "stream",
     "text": [
      "10\n"
     ]
    },
    {
     "data": {
      "text/plain": [
       "7"
      ]
     },
     "execution_count": 5,
     "metadata": {},
     "output_type": "execute_result"
    }
   ],
   "source": [
    "list1 = [1,2,3,3,3,3,5.5,3.5,\"Python\",\"DataScience\"]\n",
    "print(len(list1))\n",
    "set1 = {1,2,3,3,3,3,5.5,3.5,\"Python\",\"DataScience\"}\n",
    "len(set1)"
   ]
  },
  {
   "cell_type": "raw",
   "id": "e3501cf2",
   "metadata": {},
   "source": [
    "True = 1\n",
    "False = 0"
   ]
  },
  {
   "cell_type": "code",
   "execution_count": 7,
   "id": "b0e6303e",
   "metadata": {},
   "outputs": [
    {
     "name": "stdout",
     "output_type": "stream",
     "text": [
      "11\n"
     ]
    }
   ],
   "source": [
    "li1 = [True,True,True,True,True,True,False,False,False,False,False]\n",
    "print(len(li1))"
   ]
  },
  {
   "cell_type": "code",
   "execution_count": 9,
   "id": "8b191051",
   "metadata": {},
   "outputs": [
    {
     "name": "stdout",
     "output_type": "stream",
     "text": [
      "{False, True} 2\n"
     ]
    }
   ],
   "source": [
    "s1 = {True,True,True,True,True,True,False,False,False,False,False}\n",
    "print(s1,len(s1))"
   ]
  },
  {
   "cell_type": "code",
   "execution_count": 10,
   "id": "454cf5fd",
   "metadata": {},
   "outputs": [
    {
     "name": "stdout",
     "output_type": "stream",
     "text": [
      "[True, True, False, False, False, 1, 1, 1, 0, 0, 0] 11\n"
     ]
    }
   ],
   "source": [
    "li1 = [True,True,False,False,False,1,1,1,0,0,0]\n",
    "print(li1,len(li1))"
   ]
  },
  {
   "cell_type": "code",
   "execution_count": 11,
   "id": "7b848910",
   "metadata": {},
   "outputs": [
    {
     "name": "stdout",
     "output_type": "stream",
     "text": [
      "{False, True} 2\n"
     ]
    }
   ],
   "source": [
    "s1 = {True,True,False,False,False,1,1,1,0,0,0}\n",
    "print(s1,len(s1))"
   ]
  },
  {
   "cell_type": "markdown",
   "id": "c658762a",
   "metadata": {},
   "source": [
    "# Set constructor "
   ]
  },
  {
   "cell_type": "code",
   "execution_count": 12,
   "id": "34ad3fe4",
   "metadata": {},
   "outputs": [
    {
     "name": "stdout",
     "output_type": "stream",
     "text": [
      "[1, 2, 3, 3, 3, 3, 5.5, 3.5, 'Python', 'DataScience'] 10\n",
      "{1, 2, 3.5, 3, 5.5, 'DataScience', 'Python'} 7\n"
     ]
    }
   ],
   "source": [
    "list1 = [1,2,3,3,3,3,5.5,3.5,\"Python\",\"DataScience\"]\n",
    "print(list1,len(list1))\n",
    "\n",
    "set1 = set(list1)\n",
    "print(set1,len(set1))"
   ]
  },
  {
   "cell_type": "code",
   "execution_count": 13,
   "id": "5af021f8",
   "metadata": {},
   "outputs": [
    {
     "name": "stdout",
     "output_type": "stream",
     "text": [
      "[1, 2, 3, 3, 3, 3, 5.5, 3.5, 'Python', 'DataScience'] 10\n",
      "{1, 2, 3.5, 3, 5.5, 'DataScience', 'Python'} 7\n",
      "[1, 2, 3.5, 3, 5.5, 'DataScience', 'Python'] 7\n"
     ]
    }
   ],
   "source": [
    "list1 = [1,2,3,3,3,3,5.5,3.5,\"Python\",\"DataScience\"]\n",
    "print(list1,len(list1))\n",
    "\n",
    "set1 = set(list1)\n",
    "print(set1,len(set1))\n",
    "\n",
    "list2 = list(set1)\n",
    "print(list2,len(list2))"
   ]
  },
  {
   "cell_type": "code",
   "execution_count": 17,
   "id": "ce879469",
   "metadata": {},
   "outputs": [
    {
     "data": {
      "text/plain": [
       "[2, 3, 4, 5, 8, 44, 55, 87]"
      ]
     },
     "execution_count": 17,
     "metadata": {},
     "output_type": "execute_result"
    }
   ],
   "source": [
    "list1 = [4,5,87,3,2,44,44,55,8,55,8]\n",
    "list2 = list(set(list1))\n",
    "list2"
   ]
  },
  {
   "cell_type": "code",
   "execution_count": 18,
   "id": "3b900e89",
   "metadata": {},
   "outputs": [
    {
     "data": {
      "text/plain": [
       "(2, 3, 4, 5, 8, 44, 55, 87)"
      ]
     },
     "execution_count": 18,
     "metadata": {},
     "output_type": "execute_result"
    }
   ],
   "source": [
    "t1 = (4,5,87,3,2,44,44,55,8,55,8)\n",
    "t2 = tuple(set(t1))\n",
    "t2"
   ]
  },
  {
   "cell_type": "code",
   "execution_count": 19,
   "id": "dd345177",
   "metadata": {},
   "outputs": [
    {
     "data": {
      "text/plain": [
       "{' ', 'D', 'P', 'S', 'a', 'c', 'd', 'e', 'h', 'i', 'n', 'o', 't', 'y'}"
      ]
     },
     "execution_count": 19,
     "metadata": {},
     "output_type": "execute_result"
    }
   ],
   "source": [
    "set(\"Python and Data Science\")"
   ]
  },
  {
   "cell_type": "code",
   "execution_count": 20,
   "id": "7b24e17c",
   "metadata": {},
   "outputs": [
    {
     "data": {
      "text/plain": [
       "['P',\n",
       " 'y',\n",
       " 't',\n",
       " 'h',\n",
       " 'o',\n",
       " 'n',\n",
       " ' ',\n",
       " 'a',\n",
       " 'n',\n",
       " 'd',\n",
       " ' ',\n",
       " 'D',\n",
       " 'a',\n",
       " 't',\n",
       " 'a',\n",
       " ' ',\n",
       " 'S',\n",
       " 'c',\n",
       " 'i',\n",
       " 'e',\n",
       " 'n',\n",
       " 'c',\n",
       " 'e']"
      ]
     },
     "execution_count": 20,
     "metadata": {},
     "output_type": "execute_result"
    }
   ],
   "source": [
    "list(\"Python and Data Science\")"
   ]
  },
  {
   "cell_type": "code",
   "execution_count": 31,
   "id": "b3178c62",
   "metadata": {},
   "outputs": [
    {
     "data": {
      "text/plain": [
       "list"
      ]
     },
     "execution_count": 31,
     "metadata": {},
     "output_type": "execute_result"
    }
   ],
   "source": [
    "type([\"Python and Data Science\",\"ML\",30])"
   ]
  },
  {
   "cell_type": "code",
   "execution_count": 28,
   "id": "a447b2a3",
   "metadata": {},
   "outputs": [
    {
     "ename": "TypeError",
     "evalue": "set expected at most 1 argument, got 3",
     "output_type": "error",
     "traceback": [
      "\u001b[1;31m---------------------------------------------------------------------------\u001b[0m",
      "\u001b[1;31mTypeError\u001b[0m                                 Traceback (most recent call last)",
      "Input \u001b[1;32mIn [28]\u001b[0m, in \u001b[0;36m<cell line: 1>\u001b[1;34m()\u001b[0m\n\u001b[1;32m----> 1\u001b[0m \u001b[38;5;28;43mset\u001b[39;49m\u001b[43m(\u001b[49m\u001b[38;5;124;43m\"\u001b[39;49m\u001b[38;5;124;43mPython and Data Science\u001b[39;49m\u001b[38;5;124;43m\"\u001b[39;49m\u001b[43m,\u001b[49m\u001b[38;5;124;43m\"\u001b[39;49m\u001b[38;5;124;43mML\u001b[39;49m\u001b[38;5;124;43m\"\u001b[39;49m\u001b[43m,\u001b[49m\u001b[38;5;241;43m30\u001b[39;49m\u001b[43m)\u001b[49m\n",
      "\u001b[1;31mTypeError\u001b[0m: set expected at most 1 argument, got 3"
     ]
    }
   ],
   "source": [
    "set(\"Python and Data Science\",\"ML\",30)"
   ]
  },
  {
   "cell_type": "code",
   "execution_count": 27,
   "id": "9d6d14f2",
   "metadata": {},
   "outputs": [
    {
     "data": {
      "text/plain": [
       "{10, 12, 13}"
      ]
     },
     "execution_count": 27,
     "metadata": {},
     "output_type": "execute_result"
    }
   ],
   "source": [
    "set([10,12,13])"
   ]
  },
  {
   "cell_type": "code",
   "execution_count": 32,
   "id": "d1662324",
   "metadata": {},
   "outputs": [
    {
     "ename": "TypeError",
     "evalue": "list expected at most 1 argument, got 2",
     "output_type": "error",
     "traceback": [
      "\u001b[1;31m---------------------------------------------------------------------------\u001b[0m",
      "\u001b[1;31mTypeError\u001b[0m                                 Traceback (most recent call last)",
      "Input \u001b[1;32mIn [32]\u001b[0m, in \u001b[0;36m<cell line: 1>\u001b[1;34m()\u001b[0m\n\u001b[1;32m----> 1\u001b[0m \u001b[38;5;28;43mlist\u001b[39;49m\u001b[43m(\u001b[49m\u001b[38;5;241;43m1\u001b[39;49m\u001b[43m,\u001b[49m\u001b[38;5;241;43m2\u001b[39;49m\u001b[43m)\u001b[49m\n",
      "\u001b[1;31mTypeError\u001b[0m: list expected at most 1 argument, got 2"
     ]
    }
   ],
   "source": [
    "list(1,2)"
   ]
  },
  {
   "cell_type": "markdown",
   "id": "27d847ea",
   "metadata": {},
   "source": [
    "# How to access set items  \n",
    "- No indexing or slicing in set"
   ]
  },
  {
   "cell_type": "code",
   "execution_count": 33,
   "id": "84182667",
   "metadata": {},
   "outputs": [
    {
     "data": {
      "text/plain": [
       "{'C', 'C++', 'GoLang', 'Java', 'Python', 'R'}"
      ]
     },
     "execution_count": 33,
     "metadata": {},
     "output_type": "execute_result"
    }
   ],
   "source": [
    "set1 = {\"Python\",\"R\",\"Java\",\"GoLang\",\"C\",\"C++\"}\n",
    "set1"
   ]
  },
  {
   "cell_type": "code",
   "execution_count": 34,
   "id": "aa6df201",
   "metadata": {},
   "outputs": [
    {
     "ename": "TypeError",
     "evalue": "'set' object is not subscriptable",
     "output_type": "error",
     "traceback": [
      "\u001b[1;31m---------------------------------------------------------------------------\u001b[0m",
      "\u001b[1;31mTypeError\u001b[0m                                 Traceback (most recent call last)",
      "Input \u001b[1;32mIn [34]\u001b[0m, in \u001b[0;36m<cell line: 1>\u001b[1;34m()\u001b[0m\n\u001b[1;32m----> 1\u001b[0m \u001b[43mset1\u001b[49m\u001b[43m[\u001b[49m\u001b[38;5;241;43m0\u001b[39;49m\u001b[43m]\u001b[49m\n",
      "\u001b[1;31mTypeError\u001b[0m: 'set' object is not subscriptable"
     ]
    }
   ],
   "source": [
    "set1[0]"
   ]
  },
  {
   "cell_type": "code",
   "execution_count": 36,
   "id": "dc9aa03c",
   "metadata": {},
   "outputs": [
    {
     "ename": "TypeError",
     "evalue": "'set' object is not subscriptable",
     "output_type": "error",
     "traceback": [
      "\u001b[1;31m---------------------------------------------------------------------------\u001b[0m",
      "\u001b[1;31mTypeError\u001b[0m                                 Traceback (most recent call last)",
      "Input \u001b[1;32mIn [36]\u001b[0m, in \u001b[0;36m<cell line: 1>\u001b[1;34m()\u001b[0m\n\u001b[1;32m----> 1\u001b[0m \u001b[43mset1\u001b[49m\u001b[43m[\u001b[49m\u001b[38;5;241;43m1\u001b[39;49m\u001b[43m:\u001b[49m\u001b[38;5;241;43m7\u001b[39;49m\u001b[43m]\u001b[49m\n",
      "\u001b[1;31mTypeError\u001b[0m: 'set' object is not subscriptable"
     ]
    }
   ],
   "source": [
    "set1[1:7]"
   ]
  },
  {
   "cell_type": "code",
   "execution_count": 45,
   "id": "92addffb",
   "metadata": {},
   "outputs": [
    {
     "name": "stdout",
     "output_type": "stream",
     "text": [
      "Language set =  {'R', 'Java', 'GoLang', 'C', 'C++', 'Python'}\n",
      "Language Name =  R\n",
      "Language Name =  Java\n",
      "Language Name =  GoLang\n",
      "Language Name =  C\n",
      "Language Name =  C++\n",
      "Language Name =  Python\n"
     ]
    }
   ],
   "source": [
    "set1 = {\"Python\",\"R\",\"Java\",\"GoLang\",\"C\",\"C++\"}\n",
    "print(\"Language set = \",set1)\n",
    "\n",
    "for val in set1:\n",
    "    print(\"Language Name = \",val)"
   ]
  },
  {
   "cell_type": "code",
   "execution_count": 46,
   "id": "bd0482a3",
   "metadata": {},
   "outputs": [
    {
     "name": "stdout",
     "output_type": "stream",
     "text": [
      "1\n",
      "2\n",
      "3\n"
     ]
    }
   ],
   "source": [
    "li = [1,2,3]\n",
    "i = 0\n",
    "while i < len(li):\n",
    "    print(li[i])\n",
    "    i += 1"
   ]
  },
  {
   "cell_type": "code",
   "execution_count": 44,
   "id": "f24411a0",
   "metadata": {},
   "outputs": [
    {
     "ename": "KeyboardInterrupt",
     "evalue": "",
     "output_type": "error",
     "traceback": [
      "\u001b[1;31m---------------------------------------------------------------------------\u001b[0m",
      "\u001b[1;31mKeyboardInterrupt\u001b[0m                         Traceback (most recent call last)",
      "Input \u001b[1;32mIn [44]\u001b[0m, in \u001b[0;36m<cell line: 3>\u001b[1;34m()\u001b[0m\n\u001b[0;32m      1\u001b[0m cnt \u001b[38;5;241m=\u001b[39m \u001b[38;5;241m0\u001b[39m\n\u001b[0;32m      2\u001b[0m length \u001b[38;5;241m=\u001b[39m \u001b[38;5;28mlen\u001b[39m(set1)\n\u001b[1;32m----> 3\u001b[0m \u001b[38;5;28;01mwhile\u001b[39;00m \u001b[43mval\u001b[49m\u001b[43m \u001b[49m\u001b[38;5;129;43;01min\u001b[39;49;00m\u001b[43m \u001b[49m\u001b[43mset1\u001b[49m:\n\u001b[0;32m      4\u001b[0m     \u001b[38;5;28;01mif\u001b[39;00m val \u001b[38;5;241m==\u001b[39m \u001b[38;5;124m\"\u001b[39m\u001b[38;5;124mR\u001b[39m\u001b[38;5;124m\"\u001b[39m \u001b[38;5;129;01mand\u001b[39;00m cnt \u001b[38;5;241m<\u001b[39m length:\n\u001b[0;32m      5\u001b[0m         \u001b[38;5;28mprint\u001b[39m(val)\n",
      "\u001b[1;31mKeyboardInterrupt\u001b[0m: "
     ]
    }
   ],
   "source": [
    "cnt = 0\n",
    "length = len(set1)\n",
    "i = 0\n",
    "while i < length:\n",
    "    if val == \"R\" and cnt < length:\n",
    "        print(val)\n",
    "    cnt += 1"
   ]
  },
  {
   "cell_type": "code",
   "execution_count": 50,
   "id": "c0ef9d19",
   "metadata": {},
   "outputs": [
    {
     "name": "stdout",
     "output_type": "stream",
     "text": [
      "R\n"
     ]
    }
   ],
   "source": [
    "val = \"R\"\n",
    "if val in set1:\n",
    "    print(val)"
   ]
  },
  {
   "cell_type": "markdown",
   "id": "05eee4fe",
   "metadata": {},
   "source": [
    "# Set Functions"
   ]
  },
  {
   "cell_type": "code",
   "execution_count": 51,
   "id": "1d2844a7",
   "metadata": {},
   "outputs": [
    {
     "name": "stdout",
     "output_type": "stream",
     "text": [
      "[7, 8, 9]\n"
     ]
    }
   ],
   "source": [
    "list1 = [4,5,6,7,8,9]\n",
    "list2 = [7,8,9,10,11,12]\n",
    "list3 = []\n",
    "for i in list1:\n",
    "    if i in list2:\n",
    "        list3.append(i)\n",
    "print(list3)"
   ]
  },
  {
   "cell_type": "code",
   "execution_count": 54,
   "id": "1ee70617",
   "metadata": {},
   "outputs": [
    {
     "name": "stdout",
     "output_type": "stream",
     "text": [
      "[4, 5, 6, 10, 11, 12]\n"
     ]
    }
   ],
   "source": [
    "list1 = [4,5,6,7,8,9] # 4,5,6\n",
    "list2 = [7,8,9,10,11,12] # 10,11,12\n",
    "list3 = []\n",
    "for i in list1:\n",
    "    if i not in list2:\n",
    "        list3.append(i)\n",
    "for i in list2:\n",
    "    if i not in list1:\n",
    "        list3.append(i)\n",
    "\n",
    "print(list3)"
   ]
  },
  {
   "cell_type": "markdown",
   "id": "2042e464",
   "metadata": {},
   "source": [
    "#  How to add items in a set\n",
    "### 1. add()\n",
    "- Used to add only one item in a set"
   ]
  },
  {
   "cell_type": "code",
   "execution_count": 55,
   "id": "aa6a8c63",
   "metadata": {},
   "outputs": [],
   "source": [
    "set1 = {1,2,3,4,5}\n",
    "set1.add(666)"
   ]
  },
  {
   "cell_type": "code",
   "execution_count": 56,
   "id": "1fca9a43",
   "metadata": {},
   "outputs": [
    {
     "data": {
      "text/plain": [
       "{1, 2, 3, 4, 5, 666}"
      ]
     },
     "execution_count": 56,
     "metadata": {},
     "output_type": "execute_result"
    }
   ],
   "source": [
    "set1"
   ]
  },
  {
   "cell_type": "code",
   "execution_count": 58,
   "id": "5ebb8228",
   "metadata": {},
   "outputs": [
    {
     "data": {
      "text/plain": [
       "{1, 2, 3, 4, 5, 'Python'}"
      ]
     },
     "execution_count": 58,
     "metadata": {},
     "output_type": "execute_result"
    }
   ],
   "source": [
    "set1 = {1,2,3,4,5}\n",
    "set1.add(\"Python\")\n",
    "set1"
   ]
  },
  {
   "cell_type": "code",
   "execution_count": 59,
   "id": "46aef93c",
   "metadata": {},
   "outputs": [
    {
     "data": {
      "text/plain": [
       "{'.Net', 'C', 'C++', 'GoLang', 'Java', 'Python', 'R'}"
      ]
     },
     "execution_count": 59,
     "metadata": {},
     "output_type": "execute_result"
    }
   ],
   "source": [
    "set1 = {\"Python\",\"R\",\"Java\",\"GoLang\",\"C\",\"C++\"}\n",
    "set1.add(\".Net\")\n",
    "set1"
   ]
  },
  {
   "cell_type": "markdown",
   "id": "0f317772",
   "metadata": {},
   "source": [
    "## 2. update() "
   ]
  },
  {
   "cell_type": "code",
   "execution_count": 61,
   "id": "1142703d",
   "metadata": {},
   "outputs": [
    {
     "name": "stdout",
     "output_type": "stream",
     "text": [
      "{'R', 'Java', 'GoLang', 'C', 'C++', 'Python'}\n",
      "{'C++', 'C', 'GoLang'}\n"
     ]
    }
   ],
   "source": [
    "set1 = {\"Python\",\"R\",\"Java\"}\n",
    "set2 = {\"GoLang\",\"C\",\"C++\"}\n",
    "\n",
    "set1.update(set2)\n",
    "\n",
    "print(\"Set1 ------>\",set1)\n",
    "print(\"Set2 ------>\",set2)"
   ]
  },
  {
   "cell_type": "code",
   "execution_count": 63,
   "id": "e85ddbfa",
   "metadata": {},
   "outputs": [
    {
     "name": "stdout",
     "output_type": "stream",
     "text": [
      "Set1 ------> {'R', 'Java', 'Python'}\n",
      "Set2 ------> {'R', 'Java', 'Python', 'GoLang', 'C++', 'C'}\n"
     ]
    }
   ],
   "source": [
    "set1 = {\"Python\",\"R\",\"Java\"}\n",
    "set2 = {\"GoLang\",\"C\",\"C++\"}\n",
    "\n",
    "set2.update(set1)\n",
    "\n",
    "print(\"Set1 ------>\",set1)\n",
    "print(\"Set2 ------>\",set2)"
   ]
  },
  {
   "cell_type": "code",
   "execution_count": 64,
   "id": "d250a9d5",
   "metadata": {},
   "outputs": [
    {
     "name": "stdout",
     "output_type": "stream",
     "text": [
      "Set1 ------> {'R', 'Java', 'Python'}\n",
      "Set2 ------> {'C++', 'C', 'GoLang'}\n"
     ]
    }
   ],
   "source": [
    "set1 = {\"Python\",\"R\",\"Java\"}\n",
    "set2 = {\"GoLang\",\"C\",\"C++\"}\n",
    "\n",
    "set2.update(set2)\n",
    "\n",
    "print(\"Set1 ------>\",set1)\n",
    "print(\"Set2 ------>\",set2)"
   ]
  },
  {
   "cell_type": "code",
   "execution_count": 69,
   "id": "70044bf9",
   "metadata": {},
   "outputs": [
    {
     "name": "stdout",
     "output_type": "stream",
     "text": [
      "Set1 ------> {1, 2, 3}\n",
      "Set2 ------> {1, 66, 2, 3, 55, 44}\n"
     ]
    }
   ],
   "source": [
    "set1 = {1,2,3}\n",
    "set2 = {44,55,66}\n",
    "\n",
    "set2.update(set1)\n",
    "\n",
    "print(\"Set1 ------>\",set1)\n",
    "print(\"Set2 ------>\",set2)"
   ]
  },
  {
   "cell_type": "code",
   "execution_count": 70,
   "id": "e8e6a466",
   "metadata": {},
   "outputs": [
    {
     "name": "stdout",
     "output_type": "stream",
     "text": [
      "Set1 ------> {1, 2, 3, 66, 55, 44}\n",
      "Set2 ------> {66, 44, 55}\n"
     ]
    }
   ],
   "source": [
    "set1 = {1,2,3}\n",
    "set2 = {44,55,66}\n",
    "\n",
    "set1.update(set2)\n",
    "\n",
    "print(\"Set1 ------>\",set1)\n",
    "print(\"Set2 ------>\",set2)"
   ]
  },
  {
   "cell_type": "code",
   "execution_count": 71,
   "id": "cb2bb33e",
   "metadata": {},
   "outputs": [
    {
     "name": "stdout",
     "output_type": "stream",
     "text": [
      "Set1 ------> {1, 2, 3, 4, 5, 66, 44, 55}\n",
      "Set2 ------> {66, 4, 5, 55, 44}\n"
     ]
    }
   ],
   "source": [
    "set1 = {1,2,3,4,5}\n",
    "set2 = {4,5,44,55,66}\n",
    "\n",
    "set1.update(set2)\n",
    "\n",
    "print(\"Set1 ------>\",set1)\n",
    "print(\"Set2 ------>\",set2)"
   ]
  },
  {
   "cell_type": "code",
   "execution_count": 73,
   "id": "c0ef8481",
   "metadata": {},
   "outputs": [
    {
     "name": "stdout",
     "output_type": "stream",
     "text": [
      "Set1 ------> {1, 2, 3, 4, 5, 66, 55, 44}\n",
      "Set2 ------> [4, 5, 44, 55, 66]\n"
     ]
    }
   ],
   "source": [
    "set1 = {1,2,3,4,5}\n",
    "set2 = [4,5,44,55,66]\n",
    "\n",
    "set1.update(set2) # list,tuple,set\n",
    "\n",
    "print(\"Set1 ------>\",set1)\n",
    "print(\"Set2 ------>\",set2)"
   ]
  },
  {
   "cell_type": "code",
   "execution_count": 74,
   "id": "523f4c6d",
   "metadata": {},
   "outputs": [
    {
     "name": "stdout",
     "output_type": "stream",
     "text": [
      "Set1 ------> {1, 2, 3, 4, 5, 66, 55, 44}\n",
      "Set2 ------> (4, 5, 44, 55, 66)\n"
     ]
    }
   ],
   "source": [
    "set1 = {1,2,3,4,5}\n",
    "set2 = (4,5,44,55,66)\n",
    "\n",
    "set1.update(set2) # list,tuple,set\n",
    "\n",
    "print(\"Set1 ------>\",set1)\n",
    "print(\"Set2 ------>\",set2)"
   ]
  },
  {
   "cell_type": "code",
   "execution_count": 75,
   "id": "73588c21",
   "metadata": {},
   "outputs": [
    {
     "name": "stdout",
     "output_type": "stream",
     "text": [
      "Set1 ------> {'h', 1, 2, 3, 4, 5, 'n', 't', 'o', 'P', 'y'}\n",
      "Set2 ------> (4, 5, 44, 55, 66)\n"
     ]
    }
   ],
   "source": [
    "set1 = {1,2,3,4,5}\n",
    "set2 = (4,5,44,55,66)\n",
    "\n",
    "set1.update(\"Python\") # list,tuple,set\n",
    "\n",
    "print(\"Set1 ------>\",set1)\n",
    "print(\"Set2 ------>\",set2)"
   ]
  },
  {
   "cell_type": "markdown",
   "id": "f6632120",
   "metadata": {},
   "source": [
    "## 3. Union\n",
    "- Return a new set"
   ]
  },
  {
   "cell_type": "code",
   "execution_count": 80,
   "id": "3c190f1a",
   "metadata": {},
   "outputs": [
    {
     "name": "stdout",
     "output_type": "stream",
     "text": [
      "Set1 ------> {1, 2, 3, 4, 5}\n",
      "Set2 ------> {66, 4, 5, 55, 44}\n",
      "Set3 ------> {1, 2, 3, 4, 5, 66, 44, 55}\n"
     ]
    }
   ],
   "source": [
    "set1 = {1,2,3,4,5}\n",
    "set2 = {4,5,44,55,66}\n",
    "\n",
    "set3 = set1.union(set2)\n",
    "\n",
    "print(\"Set1 ------>\",set1)\n",
    "print(\"Set2 ------>\",set2)\n",
    "print(\"Set3 ------>\",set3)"
   ]
  },
  {
   "cell_type": "code",
   "execution_count": 81,
   "id": "176fbe93",
   "metadata": {},
   "outputs": [
    {
     "name": "stdout",
     "output_type": "stream",
     "text": [
      "Set1 ------> {1, 2, 3, 4, 5}\n",
      "Set2 ------> {66, 44, 55}\n",
      "Set3 ------> {1, 2, 3, 4, 5, 66, 55, 44}\n"
     ]
    }
   ],
   "source": [
    "set1 = {1,2,3,4,5}\n",
    "set2 = {44,55,66}\n",
    "\n",
    "set3 = set1.union(set2)\n",
    "\n",
    "print(\"Set1 ------>\",set1)\n",
    "print(\"Set2 ------>\",set2)\n",
    "print(\"Set3 ------>\",set3)"
   ]
  },
  {
   "cell_type": "code",
   "execution_count": 82,
   "id": "e5c49297",
   "metadata": {},
   "outputs": [
    {
     "name": "stdout",
     "output_type": "stream",
     "text": [
      "Set1 ------> {1, 2, 3, 4, 5}\n",
      "Set2 ------> {66, 4, 5, 55, 44}\n",
      "Set3 ------> {1, 66, 2, 4, 5, 3, 44, 55}\n"
     ]
    }
   ],
   "source": [
    "set1 = {1,2,3,4,5}\n",
    "set2 = {4,5,44,55,66}\n",
    "\n",
    "set3 = set2.union(set1)\n",
    "\n",
    "print(\"Set1 ------>\",set1)\n",
    "print(\"Set2 ------>\",set2)\n",
    "print(\"Set3 ------>\",set3)"
   ]
  },
  {
   "cell_type": "code",
   "execution_count": 83,
   "id": "53beea8e",
   "metadata": {},
   "outputs": [
    {
     "name": "stdout",
     "output_type": "stream",
     "text": [
      "Set1 ------> {1, 2, 3, 4, 5}\n",
      "Set2 ------> {66, 44, 55}\n",
      "Set3 ------> {1, 2, 3, 4, 5, 66, 33, 11, 44, 22, 55}\n"
     ]
    }
   ],
   "source": [
    "set1 = {1,2,3,4,5}\n",
    "set2 = {44,55,66}\n",
    "set4 = {11,22,33,44,55}\n",
    "\n",
    "set3 = set1.union(set2,set4)\n",
    "\n",
    "print(\"Set1 ------>\",set1)\n",
    "print(\"Set2 ------>\",set2)\n",
    "print(\"Set3 ------>\",set3)"
   ]
  },
  {
   "cell_type": "code",
   "execution_count": null,
   "id": "66d306d0",
   "metadata": {},
   "outputs": [],
   "source": []
  },
  {
   "cell_type": "code",
   "execution_count": null,
   "id": "9d1ab567",
   "metadata": {},
   "outputs": [],
   "source": []
  },
  {
   "cell_type": "code",
   "execution_count": null,
   "id": "59a98a07",
   "metadata": {},
   "outputs": [],
   "source": []
  },
  {
   "cell_type": "code",
   "execution_count": null,
   "id": "92103fef",
   "metadata": {},
   "outputs": [],
   "source": []
  },
  {
   "cell_type": "code",
   "execution_count": null,
   "id": "15d63664",
   "metadata": {},
   "outputs": [],
   "source": []
  },
  {
   "cell_type": "code",
   "execution_count": null,
   "id": "39f6ed92",
   "metadata": {},
   "outputs": [],
   "source": []
  },
  {
   "cell_type": "code",
   "execution_count": null,
   "id": "6bc03d38",
   "metadata": {},
   "outputs": [],
   "source": []
  },
  {
   "cell_type": "code",
   "execution_count": null,
   "id": "09ba5c77",
   "metadata": {},
   "outputs": [],
   "source": []
  },
  {
   "cell_type": "code",
   "execution_count": null,
   "id": "5c59e35e",
   "metadata": {},
   "outputs": [],
   "source": []
  },
  {
   "cell_type": "code",
   "execution_count": null,
   "id": "5fb1c3ff",
   "metadata": {},
   "outputs": [],
   "source": []
  },
  {
   "cell_type": "code",
   "execution_count": null,
   "id": "1711eebe",
   "metadata": {},
   "outputs": [],
   "source": []
  },
  {
   "cell_type": "code",
   "execution_count": null,
   "id": "59e091aa",
   "metadata": {},
   "outputs": [],
   "source": []
  },
  {
   "cell_type": "code",
   "execution_count": null,
   "id": "1ca8d311",
   "metadata": {},
   "outputs": [],
   "source": []
  },
  {
   "cell_type": "code",
   "execution_count": null,
   "id": "0f30e1df",
   "metadata": {},
   "outputs": [],
   "source": []
  },
  {
   "cell_type": "code",
   "execution_count": null,
   "id": "ae71107d",
   "metadata": {},
   "outputs": [],
   "source": []
  },
  {
   "cell_type": "code",
   "execution_count": null,
   "id": "412a2763",
   "metadata": {},
   "outputs": [],
   "source": []
  },
  {
   "cell_type": "code",
   "execution_count": null,
   "id": "5be4b8d4",
   "metadata": {},
   "outputs": [],
   "source": []
  },
  {
   "cell_type": "code",
   "execution_count": null,
   "id": "d0669790",
   "metadata": {},
   "outputs": [],
   "source": []
  },
  {
   "cell_type": "code",
   "execution_count": null,
   "id": "ecceed1c",
   "metadata": {},
   "outputs": [],
   "source": []
  },
  {
   "cell_type": "code",
   "execution_count": null,
   "id": "777e8b4c",
   "metadata": {},
   "outputs": [],
   "source": []
  },
  {
   "cell_type": "code",
   "execution_count": null,
   "id": "8d3377bb",
   "metadata": {},
   "outputs": [],
   "source": []
  },
  {
   "cell_type": "code",
   "execution_count": null,
   "id": "153db91c",
   "metadata": {},
   "outputs": [],
   "source": []
  },
  {
   "cell_type": "code",
   "execution_count": null,
   "id": "dfc330cf",
   "metadata": {},
   "outputs": [],
   "source": []
  },
  {
   "cell_type": "code",
   "execution_count": null,
   "id": "4560c4ab",
   "metadata": {},
   "outputs": [],
   "source": []
  }
 ],
 "metadata": {
  "kernelspec": {
   "display_name": "Python 3 (ipykernel)",
   "language": "python",
   "name": "python3"
  },
  "language_info": {
   "codemirror_mode": {
    "name": "ipython",
    "version": 3
   },
   "file_extension": ".py",
   "mimetype": "text/x-python",
   "name": "python",
   "nbconvert_exporter": "python",
   "pygments_lexer": "ipython3",
   "version": "3.10.5"
  }
 },
 "nbformat": 4,
 "nbformat_minor": 5
}
