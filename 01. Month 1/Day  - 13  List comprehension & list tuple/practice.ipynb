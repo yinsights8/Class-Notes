{
 "cells": [
  {
   "cell_type": "markdown",
   "id": "9c0b4cad",
   "metadata": {},
   "source": [
    "# sorted(list_name)"
   ]
  },
  {
   "cell_type": "code",
   "execution_count": 8,
   "id": "d1f42d91",
   "metadata": {},
   "outputs": [
    {
     "name": "stdout",
     "output_type": "stream",
     "text": [
      "[4, 5, 6, 7, 44, 55, 33, 2, 8, 9]\n",
      "\n",
      "[55, 44, 33, 9, 8, 7, 6, 5, 4, 2]\n"
     ]
    }
   ],
   "source": [
    "num_li = [4,5,6,7,44,55,33,2,8,9]\n",
    "print(num_li)\n",
    "print()\n",
    "a= sorted(num_li,reverse=True)\n",
    "print(a)"
   ]
  },
  {
   "cell_type": "code",
   "execution_count": 5,
   "id": "e9d56420",
   "metadata": {},
   "outputs": [
    {
     "data": {
      "text/plain": [
       "[55, 44, 33, 9, 8, 7, 6, 5, 4, 2]"
      ]
     },
     "execution_count": 5,
     "metadata": {},
     "output_type": "execute_result"
    }
   ],
   "source": [
    "a"
   ]
  },
  {
   "cell_type": "markdown",
   "id": "ddb8903d",
   "metadata": {},
   "source": [
    "# Reverse "
   ]
  },
  {
   "cell_type": "code",
   "execution_count": 15,
   "id": "36ef780b",
   "metadata": {},
   "outputs": [
    {
     "data": {
      "text/plain": [
       "['science', 'data', 'pythoh', 9, 8, 7, 6, 5, 4, 3, 2, 1]"
      ]
     },
     "execution_count": 15,
     "metadata": {},
     "output_type": "execute_result"
    }
   ],
   "source": [
    "num_list = [1,2,3,4,5,6,7,8,9, \"pythoh\", \"data\", \"science\"]\n",
    "num_list.reverse()\n",
    "num_list"
   ]
  },
  {
   "cell_type": "markdown",
   "id": "02036eb4",
   "metadata": {},
   "source": [
    "# reversed"
   ]
  },
  {
   "cell_type": "code",
   "execution_count": 23,
   "id": "fdbeee7e",
   "metadata": {},
   "outputs": [
    {
     "name": "stdout",
     "output_type": "stream",
     "text": [
      "[9, 8, 2, 33, 55, 44, 7, 6, 5, 4]\n"
     ]
    }
   ],
   "source": [
    "num_li = [4, 5, 6, 7, 44, 55, 33, 2, 8, 9]\n",
    "f= list(reversed(num_li))\n",
    "print(f)"
   ]
  },
  {
   "cell_type": "markdown",
   "id": "f64dae4a",
   "metadata": {},
   "source": [
    "# index"
   ]
  },
  {
   "cell_type": "code",
   "execution_count": 36,
   "id": "de600959",
   "metadata": {},
   "outputs": [
    {
     "name": "stdout",
     "output_type": "stream",
     "text": [
      "5\n",
      "0\n"
     ]
    }
   ],
   "source": [
    "num_li = [4, 4, 5, 6, 7, 44, 55, 33, 2, 8, 9]\n",
    "\n",
    "print(num_li.index(44))\n",
    "print(num_li.index(4))"
   ]
  },
  {
   "cell_type": "markdown",
   "id": "f694e8f9",
   "metadata": {},
   "source": [
    "# max"
   ]
  },
  {
   "cell_type": "code",
   "execution_count": 2,
   "id": "aef792d6",
   "metadata": {},
   "outputs": [
    {
     "data": {
      "text/plain": [
       "80"
      ]
     },
     "execution_count": 2,
     "metadata": {},
     "output_type": "execute_result"
    }
   ],
   "source": [
    "k = [1,2,3,5,8,9,4,55,10,80]\n",
    "m = max(k)\n",
    "m"
   ]
  },
  {
   "cell_type": "markdown",
   "id": "a0b7f551",
   "metadata": {},
   "source": [
    "# max"
   ]
  },
  {
   "cell_type": "code",
   "execution_count": 5,
   "id": "28b4a519",
   "metadata": {},
   "outputs": [
    {
     "name": "stdout",
     "output_type": "stream",
     "text": [
      "1\n"
     ]
    }
   ],
   "source": [
    "k = [1,2,3,5,8,9,4,55,10,80]\n",
    "minu = min(k)\n",
    "print(minu)"
   ]
  },
  {
   "cell_type": "markdown",
   "id": "c98167ed",
   "metadata": {},
   "source": [
    "# sum"
   ]
  },
  {
   "cell_type": "code",
   "execution_count": 6,
   "id": "a0b3539b",
   "metadata": {},
   "outputs": [
    {
     "name": "stdout",
     "output_type": "stream",
     "text": [
      "177\n"
     ]
    }
   ],
   "source": [
    "add = sum(k)\n",
    "print(add)"
   ]
  },
  {
   "cell_type": "markdown",
   "id": "d6dccce4",
   "metadata": {},
   "source": [
    "# Nested list"
   ]
  },
  {
   "cell_type": "code",
   "execution_count": 15,
   "id": "16ffa22a",
   "metadata": {},
   "outputs": [
    {
     "name": "stdout",
     "output_type": "stream",
     "text": [
      "[7, 8, 9, [10, 11, 12]] 7\n",
      "[7, 8, 9, [10, 11, 12]] 8\n",
      "[7, 8, 9, [10, 11, 12]] 9\n",
      "[7, 8, 9, [10, 11, 12]] [10, 11, 12]\n"
     ]
    }
   ],
   "source": [
    "n = [1,2,3, [4,5,6], [7,8,9,[10,11,12]]]\n",
    "print(n[-1], n[-1][0])\n",
    "print(n[-1], n[-1][1])\n",
    "print(n[-1], n[-1][2])"
   ]
  },
  {
   "cell_type": "code",
   "execution_count": 16,
   "id": "5ab45944",
   "metadata": {},
   "outputs": [
    {
     "name": "stdout",
     "output_type": "stream",
     "text": [
      "[7, 8, 9, [10, 11, 12]] 8\n"
     ]
    }
   ],
   "source": [
    "print(n[-1], n[-1][1])"
   ]
  },
  {
   "cell_type": "code",
   "execution_count": 23,
   "id": "397e8368",
   "metadata": {},
   "outputs": [
    {
     "name": "stdout",
     "output_type": "stream",
     "text": [
      "[7, 8, 9, [10, 11, 12]] 10\n",
      "[7, 8, 9, [10, 11, 12]] 11\n",
      "[7, 8, 9, [10, 11, 12]] 12\n"
     ]
    }
   ],
   "source": [
    "print(n[-1], n[-1][3][0])\n",
    "print(n[-1], n[-1][3][1])\n",
    "print(n[-1], n[-1][3][2])"
   ]
  },
  {
   "cell_type": "code",
   "execution_count": null,
   "id": "54aff406",
   "metadata": {},
   "outputs": [],
   "source": []
  },
  {
   "cell_type": "markdown",
   "id": "83583104",
   "metadata": {},
   "source": [
    "# copy "
   ]
  },
  {
   "cell_type": "code",
   "execution_count": 3,
   "id": "a5afdd75",
   "metadata": {},
   "outputs": [
    {
     "name": "stdout",
     "output_type": "stream",
     "text": [
      "[5, 6, 7, 8, 9, 10]\n",
      "\n",
      "[5, 6, 7, 8, 9, 10]\n"
     ]
    }
   ],
   "source": [
    "a = [5,6,7,8,9,10] \n",
    "b =a\n",
    "print(a)\n",
    "print()\n",
    "print(b)"
   ]
  },
  {
   "cell_type": "code",
   "execution_count": 4,
   "id": "ab4b1054",
   "metadata": {},
   "outputs": [
    {
     "data": {
      "text/plain": [
       "2264664421120"
      ]
     },
     "execution_count": 4,
     "metadata": {},
     "output_type": "execute_result"
    }
   ],
   "source": [
    "id(a)"
   ]
  },
  {
   "cell_type": "code",
   "execution_count": 5,
   "id": "1185d4cc",
   "metadata": {},
   "outputs": [
    {
     "data": {
      "text/plain": [
       "2264664421120"
      ]
     },
     "execution_count": 5,
     "metadata": {},
     "output_type": "execute_result"
    }
   ],
   "source": [
    "id(b)"
   ]
  },
  {
   "cell_type": "code",
   "execution_count": 6,
   "id": "c3a5a1fe",
   "metadata": {},
   "outputs": [
    {
     "data": {
      "text/plain": [
       "True"
      ]
     },
     "execution_count": 6,
     "metadata": {},
     "output_type": "execute_result"
    }
   ],
   "source": [
    "id(a) == id(b)"
   ]
  },
  {
   "cell_type": "code",
   "execution_count": 14,
   "id": "7ed97d31",
   "metadata": {},
   "outputs": [
    {
     "name": "stdout",
     "output_type": "stream",
     "text": [
      "original list [5, 6, 7, 8, 9, 10]\n",
      "modified list : [5, 6, 7, 8, 9, 10]\n",
      "**************************************************\n",
      "original list [5, 6, 7, 8, 9, 'python']\n",
      "modified list : [5, 6, 7, 8, 9, 'python']\n"
     ]
    }
   ],
   "source": [
    "a = [5,6,7,8,9,10] \n",
    "b =a\n",
    "print(f\"original list {a}\")\n",
    "print(f\"modified list : {b}\")\n",
    "\n",
    "a[-1] = \"python\"\n",
    "\n",
    "\n",
    "print(\"*\"*50)\n",
    "print(f\"original list {a}\")\n",
    "print(f\"modified list : {b}\")"
   ]
  },
  {
   "cell_type": "markdown",
   "id": "22eae8c4",
   "metadata": {},
   "source": [
    "# Shallow copy\n",
    "- Shallow Copy stores the references of objects to the original memory address. \n",
    "- Shallow Copy reflects changes made to the new/copied object in the original object. if there is a nested list element.\n",
    "- shallow copy dosen't reflects changes made to the new/copied objects in the original object. if it is not a nested element or list"
   ]
  },
  {
   "cell_type": "code",
   "execution_count": 18,
   "id": "4a8be6f5",
   "metadata": {},
   "outputs": [
    {
     "name": "stdout",
     "output_type": "stream",
     "text": [
      "original list [5, 6, 7, 8, 9, 10] , 2557848291776\n",
      "copied list : [5, 6, 7, 8, 9, 10],  2557849034048\n",
      "**************************************************\n",
      "original list [5, 6, 7, 8, 9, 'python'] , 2557848291776\n",
      "copied list : [5, 6, 7, 8, 9, 10],  2557849034048\n"
     ]
    }
   ],
   "source": [
    "# list1 is a original copy object\n",
    "# list2 is a nw/copied object\n",
    "\n",
    "list1 = [5,6,7,8,9,10] \n",
    "list2 = list1.copy()\n",
    "print(f\"original list {list1} , {id(list1)}\")\n",
    "\n",
    "print(f\"copied list : {list2},  {id(list2)}\")\n",
    "\n",
    "\n",
    "list1[-1] = \"python\"\n",
    "\n",
    "\n",
    "print(\"*\"*50)\n",
    "print(f\"original list {list1} , {id(list1)}\")\n",
    "\n",
    "print(f\"copied list : {list2},  {id(list2)}\")\n"
   ]
  },
  {
   "cell_type": "code",
   "execution_count": 15,
   "id": "38a8682b",
   "metadata": {},
   "outputs": [
    {
     "name": "stdout",
     "output_type": "stream",
     "text": [
      "original list [5, 6, 7, 8, 9, [10, 11, 12]] , 2557848379840\n",
      "copied list : [5, 6, 7, 8, 9, [10, 11, 12]],  2557848292800\n",
      "**************************************************\n",
      "original list [5, 6, 7, 8, 9, ['Science', 11, 12]] , 2557848379840\n",
      "copied list : [5, 6, 7, 8, 9, ['Science', 11, 12]],  2557848292800\n"
     ]
    }
   ],
   "source": [
    "list1 = [5,6,7,8,9,[10,11,12]] \n",
    "list2 = list1.copy()\n",
    "print(f\"original list {list1} , {id(list1)}\")\n",
    "\n",
    "print(f\"copied list : {list2},  {id(list2)}\")\n",
    "\n",
    "\n",
    "list1[-1][0] = \"Science\"\n",
    "\n",
    "\n",
    "print(\"*\"*50)\n",
    "print(f\"original list {list1} , {id(list1)}\")\n",
    "\n",
    "print(f\"copied list : {list2},  {id(list2)}\")\n"
   ]
  },
  {
   "cell_type": "markdown",
   "id": "e20275a8",
   "metadata": {},
   "source": [
    "# DeepCopy\n",
    "\n",
    "- syntax\n",
    "   - var = copy.deepcopy(list1) \n",
    "- Deep copy stores copies of the object's value.\n",
    "- Deep copy doesn't reflect changes made to the new/copied object in the original object."
   ]
  },
  {
   "cell_type": "code",
   "execution_count": 19,
   "id": "136afeda",
   "metadata": {},
   "outputs": [],
   "source": [
    "import copy"
   ]
  },
  {
   "cell_type": "code",
   "execution_count": 22,
   "id": "1887eb79",
   "metadata": {},
   "outputs": [
    {
     "name": "stdout",
     "output_type": "stream",
     "text": [
      "original list [5, 6, 7, 8, 9, [10, 11, 12]] , 2557850249408\n",
      "copied list : [5, 6, 7, 8, 9, [10, 11, 12]],  2557811887232\n",
      "**************************************************\n",
      "original list [5, 6, 7, 8, 9, [10, 11, 'Yash']] , 2557850249408\n",
      "copied list : [5, 6, 7, 8, 9, [10, 11, 12]],  2557811887232\n"
     ]
    }
   ],
   "source": [
    "list1 = [5,6,7,8,9,[10,11,12]]\n",
    "list2 = copy.deepcopy(list1)\n",
    "\n",
    "print(f\"original list {list1} , {id(list1)}\")\n",
    "print(f\"copied list : {list2},  {id(list2)}\")\n",
    "\n",
    "list1[-1][2] = \"Yash\"\n",
    "\n",
    "print(\"*\"*50)\n",
    "\n",
    "print(f\"original list {list1} , {id(list1)}\")\n",
    "print(f\"copied list : {list2},  {id(list2)}\")"
   ]
  },
  {
   "cell_type": "code",
   "execution_count": 23,
   "id": "7d5333cc",
   "metadata": {},
   "outputs": [
    {
     "name": "stdout",
     "output_type": "stream",
     "text": [
      "original list [5, 6, 7, 8, 9, [10, 11, 12]] , 2557850423104\n",
      "copied list : [5, 6, 7, 8, 9, [10, 11, 12]],  2557846772672\n",
      "**************************************************\n",
      "original list [5, 6, 7, 8, 9, [10, 11, 12]] , 2557850423104\n",
      "copied list : [5, 6, 7, 8, 9, [10, 11, 'Yash']],  2557846772672\n"
     ]
    }
   ],
   "source": [
    "list1 = [5,6,7,8,9,[10,11,12]]\n",
    "list2 = copy.deepcopy(list1)\n",
    "\n",
    "print(f\"original list {list1} , {id(list1)}\")\n",
    "print(f\"copied list : {list2},  {id(list2)}\")\n",
    "\n",
    "list2[-1][2] = \"Yash\"\n",
    "\n",
    "print(\"*\"*50)\n",
    "\n",
    "print(f\"original list {list1} , {id(list1)}\")\n",
    "print(f\"copied list : {list2},  {id(list2)}\")"
   ]
  },
  {
   "cell_type": "code",
   "execution_count": null,
   "id": "dcc8075f",
   "metadata": {},
   "outputs": [],
   "source": []
  },
  {
   "cell_type": "markdown",
   "id": "880009f0",
   "metadata": {},
   "source": [
    "# List comprehension\n",
    "- syntax \n",
    "  - new_list = [new_list for item in list]\n",
    "  \n",
    "- conditional syntax\n",
    "    - new_list = [new_list for item in list if condition]"
   ]
  },
  {
   "cell_type": "code",
   "execution_count": 26,
   "id": "84c0486b",
   "metadata": {},
   "outputs": [
    {
     "data": {
      "text/plain": [
       "[1, 4, 9, 16, 25]"
      ]
     },
     "execution_count": 26,
     "metadata": {},
     "output_type": "execute_result"
    }
   ],
   "source": [
    "list_com = [1,2,3,4,5]\n",
    "\n",
    "new_list = [i**2 for i in list_com]\n",
    "new_list"
   ]
  },
  {
   "cell_type": "code",
   "execution_count": 27,
   "id": "8ef6161a",
   "metadata": {},
   "outputs": [
    {
     "data": {
      "text/plain": [
       "[1, 9, 25]"
      ]
     },
     "execution_count": 27,
     "metadata": {},
     "output_type": "execute_result"
    }
   ],
   "source": [
    "list_com = [1,2,3,4,5]\n",
    "\n",
    "new_list = [i**2 for i in list_com if i % 2 != 0]\n",
    "new_list"
   ]
  },
  {
   "cell_type": "code",
   "execution_count": 30,
   "id": "b4d9eab0",
   "metadata": {},
   "outputs": [
    {
     "data": {
      "text/plain": [
       "[1, 9, 25]"
      ]
     },
     "execution_count": 30,
     "metadata": {},
     "output_type": "execute_result"
    }
   ],
   "source": [
    "list_com = [1,2,3,4,5]\n",
    "\n",
    "new_list = [i**2 for i in list_com if i % 2 != 0]\n",
    "new_list"
   ]
  },
  {
   "cell_type": "code",
   "execution_count": null,
   "id": "c9f87257",
   "metadata": {},
   "outputs": [],
   "source": []
  },
  {
   "cell_type": "code",
   "execution_count": 9,
   "id": "e8a724e2",
   "metadata": {},
   "outputs": [
    {
     "name": "stdout",
     "output_type": "stream",
     "text": [
      "original  ['yash', 'shailendra', 'pooja', 'vaibhav', 'ankush', 'somnath'] 1950743598144\n",
      "duplicate ['yash', 'shailendra', 'pooja', 'vaibhav', 'ankush', 'somnath'] 1950726730112\n",
      "**************************************************\n",
      "original  ['yash', 'shailendra', 'pooja', 'vaibhav', 'ankush', 'science'] 1950743598144\n",
      "duplicate ['yash', 'shailendra', 'pooja', 'vaibhav', 'ankush', 'somnath'] 1950726730112\n"
     ]
    }
   ],
   "source": [
    "lis1 = [\"yash\", \"shailendra\", \"pooja\",\"vaibhav\", \"ankush\", \"somnath\"]\n",
    "lis2 = lis1.copy()\n",
    "\n",
    "print(\"original \",lis1, id(lis1))\n",
    "print(\"duplicate\",lis2, id(lis2))\n",
    "\n",
    "lis1[-1] = \"science\"\n",
    "\n",
    "print(\"*\"*50)\n",
    "\n",
    "print(\"original \",lis1, id(lis1))\n",
    "print(\"duplicate\",lis2, id(lis2))"
   ]
  },
  {
   "cell_type": "code",
   "execution_count": 21,
   "id": "0f88b5e3",
   "metadata": {},
   "outputs": [
    {
     "name": "stdout",
     "output_type": "stream",
     "text": [
      "original  [1, 2, 3, 4, [7, 8, 9]] 1950743744640\n",
      "duplicate [1, 2, 3, 4, [7, 8, 9]] 1950744918080\n",
      "**************************************************\n",
      "original  [1, 2, 3, 4, 'science'] 1950743744640\n",
      "duplicate [1, 2, 3, 4, [7, 8, 9]] 1950744918080\n"
     ]
    }
   ],
   "source": [
    "lis1 = [1,2,3,4,[7,8,9]]\n",
    "lis2 = lis1.copy()\n",
    "\n",
    "print(\"original \",lis1, id(lis1))\n",
    "print(\"duplicate\",lis2, id(lis2))\n",
    "\n",
    "lis1[-1] = \"science\"\n",
    "\n",
    "print(\"*\"*50)\n",
    "\n",
    "print(\"original \",lis1, id(lis1))\n",
    "print(\"duplicate\",lis2, id(lis2))"
   ]
  },
  {
   "cell_type": "code",
   "execution_count": 10,
   "id": "a5938115",
   "metadata": {},
   "outputs": [
    {
     "name": "stdout",
     "output_type": "stream",
     "text": [
      "original  [1, 2, 3, 4, [7, 8, 9]] 1950728049280\n",
      "duplicate [1, 2, 3, 4, [7, 8, 9]] 1950743869568\n",
      "**************************************************\n",
      "original  [1, 2, 3, 4, ['science', 8, 9]] 1950728049280\n",
      "duplicate [1, 2, 3, 4, ['science', 8, 9]] 1950743869568\n"
     ]
    }
   ],
   "source": [
    "lis1 = [1,2,3,4,[7,8,9]]\n",
    "lis2 = lis1.copy()\n",
    "\n",
    "print(\"original \",lis1, id(lis1))\n",
    "print(\"duplicate\",lis2, id(lis2))\n",
    "\n",
    "lis1[-1][0] = \"science\"\n",
    "\n",
    "print(\"*\"*50)\n",
    "\n",
    "print(\"original \",lis1, id(lis1))\n",
    "print(\"duplicate\",lis2, id(lis2))"
   ]
  },
  {
   "cell_type": "code",
   "execution_count": 18,
   "id": "5446e94f",
   "metadata": {},
   "outputs": [],
   "source": [
    "import copy"
   ]
  },
  {
   "cell_type": "code",
   "execution_count": 20,
   "id": "5666dbd0",
   "metadata": {},
   "outputs": [
    {
     "name": "stdout",
     "output_type": "stream",
     "text": [
      "original  [1, 2, 3, 4, [7, 8, 9]] 1950747237184\n",
      "duplicate [1, 2, 3, 4, [7, 8, 9]] 1950750861056\n",
      "**************************************************\n",
      "original  [1, 2, 3, 4, ['science', 8, 9]] 1950747237184\n",
      "duplicate [1, 2, 3, 4, [7, 8, 9]] 1950750861056\n"
     ]
    }
   ],
   "source": [
    "lis1 = [1,2,3,4,[7,8,9]]\n",
    "lis2 = copy.deepcopy(lis1)\n",
    "\n",
    "print(\"original \",lis1, id(lis1))\n",
    "print(\"duplicate\",lis2, id(lis2))\n",
    "\n",
    "lis1[-1][0] = \"science\"\n",
    "\n",
    "print(\"*\"*50)\n",
    "\n",
    "print(\"original \",lis1, id(lis1))\n",
    "print(\"duplicate\",lis2, id(lis2))"
   ]
  },
  {
   "cell_type": "code",
   "execution_count": 22,
   "id": "16bd0abc",
   "metadata": {},
   "outputs": [
    {
     "data": {
      "text/plain": [
       "(1, 2, 3, 4, 5)"
      ]
     },
     "execution_count": 22,
     "metadata": {},
     "output_type": "execute_result"
    }
   ],
   "source": [
    "g = [1,2,3,4,5]\n",
    "\n",
    "u = tuple(g)\n",
    "u"
   ]
  },
  {
   "cell_type": "code",
   "execution_count": 24,
   "id": "c98424e1",
   "metadata": {},
   "outputs": [
    {
     "data": {
      "text/plain": [
       "{1, 2, 3, 4, 5}"
      ]
     },
     "execution_count": 24,
     "metadata": {},
     "output_type": "execute_result"
    }
   ],
   "source": [
    "s = set(g)\n",
    "s"
   ]
  },
  {
   "cell_type": "code",
   "execution_count": 25,
   "id": "44c9fa86",
   "metadata": {},
   "outputs": [
    {
     "name": "stdout",
     "output_type": "stream",
     "text": [
      "[2, 4, 6, 8, 10]\n"
     ]
    }
   ],
   "source": [
    "even_list = []\n",
    "for i in range(1,11):\n",
    "    if i % 2 == 0:\n",
    "        even_list.append(i)\n",
    "print(even_list)"
   ]
  },
  {
   "cell_type": "code",
   "execution_count": 32,
   "id": "383a34cb",
   "metadata": {},
   "outputs": [],
   "source": [
    "even = [i for i in range(1,11) if i % 2 == 0]"
   ]
  },
  {
   "cell_type": "code",
   "execution_count": 33,
   "id": "d9e16fff",
   "metadata": {},
   "outputs": [
    {
     "data": {
      "text/plain": [
       "[2, 4, 6, 8, 10]"
      ]
     },
     "execution_count": 33,
     "metadata": {},
     "output_type": "execute_result"
    }
   ],
   "source": [
    "even"
   ]
  },
  {
   "cell_type": "code",
   "execution_count": 34,
   "id": "94aa9ac6",
   "metadata": {},
   "outputs": [
    {
     "data": {
      "text/plain": [
       "[1089, 3025, 5929]"
      ]
     },
     "execution_count": 34,
     "metadata": {},
     "output_type": "execute_result"
    }
   ],
   "source": [
    "li = [3,5,8,33,55,2,1,3,5,77,8,68]\n",
    "even_square_li = [i ** 2 for i in li if i > 10 and i % 2 != 0]\n",
    "even_square_li"
   ]
  },
  {
   "cell_type": "code",
   "execution_count": null,
   "id": "d606b113",
   "metadata": {},
   "outputs": [],
   "source": []
  }
 ],
 "metadata": {
  "kernelspec": {
   "display_name": "Python 3 (ipykernel)",
   "language": "python",
   "name": "python3"
  },
  "language_info": {
   "codemirror_mode": {
    "name": "ipython",
    "version": 3
   },
   "file_extension": ".py",
   "mimetype": "text/x-python",
   "name": "python",
   "nbconvert_exporter": "python",
   "pygments_lexer": "ipython3",
   "version": "3.9.12"
  }
 },
 "nbformat": 4,
 "nbformat_minor": 5
}
