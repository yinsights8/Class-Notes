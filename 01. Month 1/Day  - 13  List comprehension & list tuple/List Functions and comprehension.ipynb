{
 "cells": [
  {
   "cell_type": "markdown",
   "id": "3d68cdca",
   "metadata": {},
   "source": [
    "## List Functions\n",
    "- append()\n",
    "- extend()\n",
    "- insert()\n",
    "- remove()\n",
    "- pop()\n",
    "- clear()\n",
    "- del key\n",
    "- reverse()\n",
    "- sort()\n",
    "- index()\n",
    "- count()"
   ]
  },
  {
   "cell_type": "markdown",
   "id": "d7417289",
   "metadata": {},
   "source": [
    "# Built-in functions\n",
    "- sorted()\n",
    "- reversed()\n",
    "- sum()\n",
    "- min()\n",
    "- max()"
   ]
  },
  {
   "cell_type": "markdown",
   "id": "8ebd5515",
   "metadata": {},
   "source": [
    "# List Comprehension\n",
    "- new_list = [expression for var_name in list]"
   ]
  },
  {
   "cell_type": "markdown",
   "id": "a1220be2",
   "metadata": {},
   "source": [
    "## max()"
   ]
  },
  {
   "cell_type": "code",
   "execution_count": 1,
   "id": "446c4572",
   "metadata": {},
   "outputs": [
    {
     "data": {
      "text/plain": [
       "55"
      ]
     },
     "execution_count": 1,
     "metadata": {},
     "output_type": "execute_result"
    }
   ],
   "source": [
    "num_li = [4,5,6,7,44,55,33,2,8,9,4,4]\n",
    "max(num_li)"
   ]
  },
  {
   "cell_type": "code",
   "execution_count": 2,
   "id": "e39eaebf",
   "metadata": {},
   "outputs": [
    {
     "data": {
      "text/plain": [
       "4000"
      ]
     },
     "execution_count": 2,
     "metadata": {},
     "output_type": "execute_result"
    }
   ],
   "source": [
    "num_li = [4,5,6,7,44,55,33,2,8,9,4,4000]\n",
    "max(num_li)"
   ]
  },
  {
   "cell_type": "markdown",
   "id": "fb53323b",
   "metadata": {},
   "source": [
    "## min()"
   ]
  },
  {
   "cell_type": "code",
   "execution_count": 5,
   "id": "d32b23a5",
   "metadata": {},
   "outputs": [
    {
     "data": {
      "text/plain": [
       "2"
      ]
     },
     "execution_count": 5,
     "metadata": {},
     "output_type": "execute_result"
    }
   ],
   "source": [
    "num_li = [4,5,6,7,44,55,33,2,8,9,4,4]\n",
    "min(num_li)"
   ]
  },
  {
   "cell_type": "code",
   "execution_count": 6,
   "id": "9399daeb",
   "metadata": {},
   "outputs": [
    {
     "data": {
      "text/plain": [
       "-44"
      ]
     },
     "execution_count": 6,
     "metadata": {},
     "output_type": "execute_result"
    }
   ],
   "source": [
    "num_li = [4,5,6,7,-44,55,33,2,8,9,4,4]\n",
    "min(num_li)"
   ]
  },
  {
   "cell_type": "markdown",
   "id": "7fd102e7",
   "metadata": {},
   "source": [
    "## sum()"
   ]
  },
  {
   "cell_type": "code",
   "execution_count": 7,
   "id": "4f2eb89f",
   "metadata": {},
   "outputs": [
    {
     "data": {
      "text/plain": [
       "15"
      ]
     },
     "execution_count": 7,
     "metadata": {},
     "output_type": "execute_result"
    }
   ],
   "source": [
    "num_li = [1,2,3,4,5]\n",
    "sum(num_li)"
   ]
  },
  {
   "cell_type": "code",
   "execution_count": 8,
   "id": "bba125ec",
   "metadata": {},
   "outputs": [
    {
     "data": {
      "text/plain": [
       "5"
      ]
     },
     "execution_count": 8,
     "metadata": {},
     "output_type": "execute_result"
    }
   ],
   "source": [
    "num_li = [1,1,1,1,1]\n",
    "sum(num_li)"
   ]
  },
  {
   "cell_type": "code",
   "execution_count": 9,
   "id": "2fdbecff",
   "metadata": {},
   "outputs": [
    {
     "ename": "TypeError",
     "evalue": "unsupported operand type(s) for +: 'int' and 'str'",
     "output_type": "error",
     "traceback": [
      "\u001b[1;31m---------------------------------------------------------------------------\u001b[0m",
      "\u001b[1;31mTypeError\u001b[0m                                 Traceback (most recent call last)",
      "Input \u001b[1;32mIn [9]\u001b[0m, in \u001b[0;36m<cell line: 2>\u001b[1;34m()\u001b[0m\n\u001b[0;32m      1\u001b[0m num_li \u001b[38;5;241m=\u001b[39m [\u001b[38;5;241m1\u001b[39m,\u001b[38;5;241m1\u001b[39m,\u001b[38;5;241m1\u001b[39m,\u001b[38;5;241m1\u001b[39m,\u001b[38;5;241m1\u001b[39m,\u001b[38;5;124m\"\u001b[39m\u001b[38;5;124mHi\u001b[39m\u001b[38;5;124m\"\u001b[39m]\n\u001b[1;32m----> 2\u001b[0m \u001b[38;5;28;43msum\u001b[39;49m\u001b[43m(\u001b[49m\u001b[43mnum_li\u001b[49m\u001b[43m)\u001b[49m\n",
      "\u001b[1;31mTypeError\u001b[0m: unsupported operand type(s) for +: 'int' and 'str'"
     ]
    }
   ],
   "source": [
    "num_li = [1,1,1,1,1,\"Hi\"]\n",
    "sum(num_li)"
   ]
  },
  {
   "cell_type": "code",
   "execution_count": 10,
   "id": "609e10c1",
   "metadata": {},
   "outputs": [
    {
     "data": {
      "text/plain": [
       "55"
      ]
     },
     "execution_count": 10,
     "metadata": {},
     "output_type": "execute_result"
    }
   ],
   "source": [
    "num_li = list(range(1,11))\n",
    "sum(num_li)"
   ]
  },
  {
   "cell_type": "code",
   "execution_count": 11,
   "id": "f5eb77a6",
   "metadata": {},
   "outputs": [
    {
     "name": "stdout",
     "output_type": "stream",
     "text": [
      "55\n"
     ]
    }
   ],
   "source": [
    "add=0\n",
    "for i in range(1,11):\n",
    "    add+=i\n",
    "print(add)"
   ]
  },
  {
   "cell_type": "markdown",
   "id": "00d2540e",
   "metadata": {},
   "source": [
    "# Nested List"
   ]
  },
  {
   "cell_type": "code",
   "execution_count": 12,
   "id": "91b3d577",
   "metadata": {},
   "outputs": [
    {
     "name": "stdout",
     "output_type": "stream",
     "text": [
      "List   = [[1, 2, 3], [4, 5, 6], [7, 8, 9]]\n",
      "Length = 3\n"
     ]
    }
   ],
   "source": [
    "list1 = [[1,2,3],[4,5,6],[7,8,9]]\n",
    "print(f\"List   = {list1}\")\n",
    "print(f\"Length = {len(list1)}\")"
   ]
  },
  {
   "cell_type": "code",
   "execution_count": 15,
   "id": "cbe7a770",
   "metadata": {},
   "outputs": [
    {
     "name": "stdout",
     "output_type": "stream",
     "text": [
      "List   = [[1, 2], [3, 4, 5, 6], [7, 8, 9, 10, 11]]\n",
      "Length = 3\n",
      "[1, 2]\n",
      "[3, 4, 5, 6]\n",
      "[7, 8, 9, 10, 11]\n"
     ]
    }
   ],
   "source": [
    "list1 = [[1,2],[3,4,5,6],[7,8,9,10,11]]\n",
    "print(f\"List   = {list1}\")\n",
    "print(f\"Length = {len(list1)}\")\n",
    "\n",
    "for sub_li in list1:\n",
    "    print(sub_li)"
   ]
  },
  {
   "cell_type": "code",
   "execution_count": 18,
   "id": "03ad5a65",
   "metadata": {},
   "outputs": [
    {
     "name": "stdout",
     "output_type": "stream",
     "text": [
      "[1, 2]\n",
      "[3, 4, 5, 6]\n",
      "[7, 8, 9, 10, 11]\n"
     ]
    },
    {
     "ename": "IndexError",
     "evalue": "list index out of range",
     "output_type": "error",
     "traceback": [
      "\u001b[1;31m---------------------------------------------------------------------------\u001b[0m",
      "\u001b[1;31mIndexError\u001b[0m                                Traceback (most recent call last)",
      "Input \u001b[1;32mIn [18]\u001b[0m, in \u001b[0;36m<cell line: 5>\u001b[1;34m()\u001b[0m\n\u001b[0;32m      3\u001b[0m \u001b[38;5;28mprint\u001b[39m(list1[\u001b[38;5;241m1\u001b[39m])\n\u001b[0;32m      4\u001b[0m \u001b[38;5;28mprint\u001b[39m(list1[\u001b[38;5;241m2\u001b[39m])\n\u001b[1;32m----> 5\u001b[0m \u001b[38;5;28mprint\u001b[39m(\u001b[43mlist1\u001b[49m\u001b[43m[\u001b[49m\u001b[38;5;241;43m3\u001b[39;49m\u001b[43m]\u001b[49m)\n",
      "\u001b[1;31mIndexError\u001b[0m: list index out of range"
     ]
    }
   ],
   "source": [
    "list1 = [[1,2],[3,4,5,6],[7,8,9,10,11]]\n",
    "print(list1[0])\n",
    "print(list1[1])\n",
    "print(list1[2])\n",
    "print(list1[3])"
   ]
  },
  {
   "cell_type": "code",
   "execution_count": 20,
   "id": "96ae2233",
   "metadata": {},
   "outputs": [
    {
     "name": "stdout",
     "output_type": "stream",
     "text": [
      "[1, 2] 1\n",
      "[3, 4, 5, 6] 3\n",
      "[7, 8, 9, 10, 11] 7\n"
     ]
    }
   ],
   "source": [
    "list1 = [[1,2],[3,4,5,6],[7,8,9,10,11]]\n",
    "print(list1[0],list1[0][0])\n",
    "print(list1[1],list1[1][0])\n",
    "print(list1[2],list1[2][0])"
   ]
  },
  {
   "cell_type": "code",
   "execution_count": 21,
   "id": "e49ad5f6",
   "metadata": {},
   "outputs": [
    {
     "name": "stdout",
     "output_type": "stream",
     "text": [
      "[1, 2] 2\n",
      "[3, 4, 5, 6] 6\n",
      "[7, 8, 9, 10, 11] 11\n"
     ]
    }
   ],
   "source": [
    "list1 = [[1,2],[3,4,5,6],[7,8,9,10,11]]\n",
    "print(list1[0],list1[0][-1])\n",
    "print(list1[1],list1[1][-1])\n",
    "print(list1[2],list1[2][-1])"
   ]
  },
  {
   "cell_type": "code",
   "execution_count": 24,
   "id": "5978057e",
   "metadata": {},
   "outputs": [
    {
     "name": "stdout",
     "output_type": "stream",
     "text": [
      "[7, 8, 9, 10, 11] [7, 8, 9]\n"
     ]
    }
   ],
   "source": [
    "list1 = [[1,2],[3,4,5,6],[7,8,9,10,11]]\n",
    "print(list1[-1],list1[-1][0:3])"
   ]
  },
  {
   "cell_type": "markdown",
   "id": "6572f81e",
   "metadata": {},
   "source": [
    "# Copy"
   ]
  },
  {
   "cell_type": "code",
   "execution_count": 26,
   "id": "ac383c6e",
   "metadata": {},
   "outputs": [
    {
     "name": "stdout",
     "output_type": "stream",
     "text": [
      "5\n",
      "5\n"
     ]
    }
   ],
   "source": [
    "a = 5\n",
    "b = a\n",
    "print(a)\n",
    "print(b)"
   ]
  },
  {
   "cell_type": "code",
   "execution_count": 28,
   "id": "d54e228b",
   "metadata": {},
   "outputs": [
    {
     "name": "stdout",
     "output_type": "stream",
     "text": [
      "List1 =  [5, 6, 7, 8, 9, 10]\n",
      "List2 =  [5, 6, 7, 8, 9, 10]\n"
     ]
    }
   ],
   "source": [
    "a = [5,6,7,8,9,10]\n",
    "b = a\n",
    "print(\"List1 = \",a)\n",
    "print(\"List2 = \",b)"
   ]
  },
  {
   "cell_type": "code",
   "execution_count": 29,
   "id": "58315020",
   "metadata": {},
   "outputs": [
    {
     "data": {
      "text/plain": [
       "2733644630400"
      ]
     },
     "execution_count": 29,
     "metadata": {},
     "output_type": "execute_result"
    }
   ],
   "source": [
    "id(a)"
   ]
  },
  {
   "cell_type": "code",
   "execution_count": 30,
   "id": "fb792d82",
   "metadata": {},
   "outputs": [
    {
     "data": {
      "text/plain": [
       "2733644630400"
      ]
     },
     "execution_count": 30,
     "metadata": {},
     "output_type": "execute_result"
    }
   ],
   "source": [
    "id(b)"
   ]
  },
  {
   "cell_type": "code",
   "execution_count": 33,
   "id": "189003f0",
   "metadata": {},
   "outputs": [
    {
     "name": "stdout",
     "output_type": "stream",
     "text": [
      "List1 =  [5, 6, 7, 8, 9, 10]\n",
      "List2 =  [5, 6, 7, 8, 9, 10]\n",
      "--------------------------------------------------\n",
      "List1 =  [5, 6, 7, 8, 9, 10, 5, 6, 7, 8, 9, 10]\n",
      "List2 =  [5, 6, 7, 8, 9, 10, 5, 6, 7, 8, 9, 10]\n"
     ]
    }
   ],
   "source": [
    "a = [5,6,7,8,9,10]\n",
    "b = a\n",
    "print(\"List1 = \",a)\n",
    "print(\"List2 = \",b)\n",
    "\n",
    "a.extend(b)\n",
    "\n",
    "print(\"-\"*50)\n",
    "print(\"List1 = \",a)\n",
    "print(\"List2 = \",b)"
   ]
  },
  {
   "cell_type": "code",
   "execution_count": 34,
   "id": "8ee6d3d9",
   "metadata": {},
   "outputs": [
    {
     "name": "stdout",
     "output_type": "stream",
     "text": [
      "List1 =  [5, 6, 7, 8, 9, 10]\n",
      "List2 =  [5, 6, 7, 8, 9, 10]\n",
      "--------------------------------------------------\n",
      "List1 =  [5, 'Six', 7, 8, 9, 10]\n",
      "List2 =  [5, 'Six', 7, 8, 9, 10]\n"
     ]
    }
   ],
   "source": [
    "a = [5,6,7,8,9,10]\n",
    "b = a\n",
    "print(\"List1 = \",a)\n",
    "print(\"List2 = \",b)\n",
    "\n",
    "a[1] = \"Six\"\n",
    "\n",
    "print(\"-\"*50)\n",
    "print(\"List1 = \",a)\n",
    "print(\"List2 = \",b)"
   ]
  },
  {
   "cell_type": "markdown",
   "id": "8171ca94",
   "metadata": {},
   "source": [
    "# Shallow copy"
   ]
  },
  {
   "cell_type": "code",
   "execution_count": 35,
   "id": "59e7c67d",
   "metadata": {},
   "outputs": [
    {
     "name": "stdout",
     "output_type": "stream",
     "text": [
      "List1 =  [5, 6, 7, 8, 9, 10]\n",
      "List2 =  [5, 6, 7, 8, 9, 10]\n",
      "2733644278336\n",
      "2733677599296\n"
     ]
    }
   ],
   "source": [
    "a = [5,6,7,8,9,10]\n",
    "b = a.copy()\n",
    "print(\"List1 = \",a)\n",
    "print(\"List2 = \",b)\n",
    "\n",
    "print(id(a))\n",
    "print(id(b))"
   ]
  },
  {
   "cell_type": "code",
   "execution_count": 38,
   "id": "2d653a76",
   "metadata": {},
   "outputs": [
    {
     "name": "stdout",
     "output_type": "stream",
     "text": [
      "List1 =  [5, 6, 7, 8, 9, 10]\n",
      "List2 =  [5, 6, 7, 8, 9, 10]\n",
      "--------------------------------------------------\n",
      "List1 =  [5, 6, 7, 8, 9, 10]\n",
      "List2 =  [5, 'Six', 7, 8, 9, 10]\n"
     ]
    }
   ],
   "source": [
    "a = [5,6,7,8,9,10]\n",
    "b = a.copy()\n",
    "print(\"List1 = \",a)\n",
    "print(\"List2 = \",b)\n",
    "\n",
    "b[1] = \"Six\"\n",
    "\n",
    "print(\"-\"*50)\n",
    "print(\"List1 = \",a)\n",
    "print(\"List2 = \",b)"
   ]
  },
  {
   "cell_type": "code",
   "execution_count": 39,
   "id": "ea29bdef",
   "metadata": {},
   "outputs": [
    {
     "name": "stdout",
     "output_type": "stream",
     "text": [
      "List1 =  [5, 6, 7, 8, 9, 10]\n",
      "List2 =  [5, 6, 7, 8, 9, 10]\n",
      "--------------------------------------------------\n",
      "List1 =  [5, 6, 7, 8, 9, 10, 'Python']\n",
      "List2 =  [5, 6, 7, 8, 9, 10]\n"
     ]
    }
   ],
   "source": [
    "a = [5,6,7,8,9,10]\n",
    "b = a.copy()\n",
    "print(\"List1 = \",a)\n",
    "print(\"List2 = \",b)\n",
    "\n",
    "a.append(\"Python\")\n",
    "\n",
    "print(\"-\"*50)\n",
    "print(\"List1 = \",a)\n",
    "print(\"List2 = \",b)"
   ]
  },
  {
   "cell_type": "code",
   "execution_count": 40,
   "id": "ff1514ec",
   "metadata": {},
   "outputs": [
    {
     "name": "stdout",
     "output_type": "stream",
     "text": [
      "List1 =  [[1, 2], [3, 4], [5, 6]]\n",
      "List2 =  [[1, 2], [3, 4], [5, 6]]\n"
     ]
    }
   ],
   "source": [
    "li1 = [[1,2],[3,4],[5,6]]\n",
    "li2 = li1.copy()\n",
    "print(\"List1 = \",li1)\n",
    "print(\"List2 = \",li2)"
   ]
  },
  {
   "cell_type": "code",
   "execution_count": 43,
   "id": "7abada47",
   "metadata": {},
   "outputs": [
    {
     "name": "stdout",
     "output_type": "stream",
     "text": [
      "List1 =  [[1, 2], [3, 4], [5, 6]]\n",
      "List2 =  [[1, 2], [3, 4], [5, 6]]\n",
      "****************************************\n",
      "List1 =  [['One', 2], [3, 4], [5, 6]]\n",
      "List2 =  [['One', 2], [3, 4], [5, 6]]\n"
     ]
    }
   ],
   "source": [
    "li1 = [[1,2],[3,4],[5,6]]\n",
    "li2 = li1.copy()\n",
    "print(\"List1 = \",li1)\n",
    "print(\"List2 = \",li2)\n",
    "\n",
    "li1[0][0] = \"One\"\n",
    "\n",
    "print(\"*\"*40)\n",
    "print(\"List1 = \",li1)\n",
    "print(\"List2 = \",li2)\n"
   ]
  },
  {
   "cell_type": "code",
   "execution_count": 44,
   "id": "52e0070b",
   "metadata": {},
   "outputs": [
    {
     "name": "stdout",
     "output_type": "stream",
     "text": [
      "List1 =  [100, [1, 2], [3, 4], [5, 6]]\n",
      "List2 =  [100, [1, 2], [3, 4], [5, 6]]\n",
      "****************************************\n",
      "List1 =  ['Python', [1, 2], [3, 4], [5, 6]]\n",
      "List2 =  [100, [1, 2], [3, 4], [5, 6]]\n"
     ]
    }
   ],
   "source": [
    "li1 = [100,[1,2],[3,4],[5,6]]\n",
    "li2 = li1.copy()\n",
    "print(\"List1 = \",li1)\n",
    "print(\"List2 = \",li2)\n",
    "\n",
    "li1[0] = \"Python\"\n",
    "\n",
    "print(\"*\"*40)\n",
    "print(\"List1 = \",li1)\n",
    "print(\"List2 = \",li2)\n"
   ]
  },
  {
   "cell_type": "code",
   "execution_count": 45,
   "id": "b74f5638",
   "metadata": {},
   "outputs": [
    {
     "name": "stdout",
     "output_type": "stream",
     "text": [
      "List1 =  [100, [1, 2], [3, 4], [5, 6]]\n",
      "List2 =  [100, [1, 2], [3, 4], [5, 6]]\n",
      "****************************************\n",
      "List1 =  [100, [1, 2], [3, 4], [5, 'Six']]\n",
      "List2 =  [100, [1, 2], [3, 4], [5, 'Six']]\n"
     ]
    }
   ],
   "source": [
    "li1 = [100,[1,2],[3,4],[5,6]]\n",
    "li2 = li1.copy()\n",
    "print(\"List1 = \",li1)\n",
    "print(\"List2 = \",li2)\n",
    "\n",
    "li1[-1][-1] = \"Six\"\n",
    "\n",
    "print(\"*\"*40)\n",
    "print(\"List1 = \",li1)\n",
    "print(\"List2 = \",li2)\n"
   ]
  },
  {
   "cell_type": "code",
   "execution_count": 46,
   "id": "a971ac82",
   "metadata": {},
   "outputs": [
    {
     "name": "stdout",
     "output_type": "stream",
     "text": [
      "List1 =  [100, [1, 2], [3, 4], [5, 6]]\n",
      "List2 =  [100, [1, 2], [3, 4], [5, 6]]\n",
      "****************************************\n",
      "List1 =  [100, [1, 2], [3, 4], 'Six']\n",
      "List2 =  [100, [1, 2], [3, 4], [5, 6]]\n"
     ]
    }
   ],
   "source": [
    "li1 = [100,[1,2],[3,4],[5,6]]\n",
    "li2 = li1.copy()\n",
    "print(\"List1 = \",li1)\n",
    "print(\"List2 = \",li2)\n",
    "\n",
    "li1[-1]= \"Six\"\n",
    "\n",
    "print(\"*\"*40)\n",
    "print(\"List1 = \",li1)\n",
    "print(\"List2 = \",li2)\n"
   ]
  },
  {
   "cell_type": "markdown",
   "id": "dccbfa6e",
   "metadata": {},
   "source": [
    "## DeepCopy"
   ]
  },
  {
   "cell_type": "code",
   "execution_count": 47,
   "id": "6916ae31",
   "metadata": {},
   "outputs": [],
   "source": [
    "import copy"
   ]
  },
  {
   "cell_type": "code",
   "execution_count": 48,
   "id": "61af1939",
   "metadata": {},
   "outputs": [
    {
     "name": "stdout",
     "output_type": "stream",
     "text": [
      "List1 =  [[1, 2], [3, 4], [5, 6]]\n",
      "List2 =  [[1, 2], [3, 4], [5, 6]]\n"
     ]
    }
   ],
   "source": [
    "li1 = [[1,2],[3,4],[5,6]]\n",
    "li2 = copy.deepcopy(li1)\n",
    "print(\"List1 = \",li1)\n",
    "print(\"List2 = \",li2)"
   ]
  },
  {
   "cell_type": "code",
   "execution_count": 49,
   "id": "dfbef439",
   "metadata": {},
   "outputs": [
    {
     "name": "stdout",
     "output_type": "stream",
     "text": [
      "List1 =  [[1, 2], [3, 4], [5, 6]]\n",
      "List2 =  [[1, 2], [3, 4], [5, 6]]\n",
      "****************************************\n",
      "List1 =  [[1, 2], ['Three', 4], [5, 6]]\n",
      "List2 =  [[1, 2], [3, 4], [5, 6]]\n"
     ]
    }
   ],
   "source": [
    "li1 = [[1,2],[3,4],[5,6]]\n",
    "li2 = copy.deepcopy(li1)\n",
    "print(\"List1 = \",li1)\n",
    "print(\"List2 = \",li2)\n",
    "\n",
    "li1[1][0] = \"Three\"\n",
    "\n",
    "print(\"*\"*40)\n",
    "print(\"List1 = \",li1)\n",
    "print(\"List2 = \",li2)\n"
   ]
  },
  {
   "cell_type": "code",
   "execution_count": 51,
   "id": "bb41e346",
   "metadata": {},
   "outputs": [
    {
     "name": "stdout",
     "output_type": "stream",
     "text": [
      "List1 =  [[1, 2], [3, 4], [5, 6]]\n",
      "List2 =  [[1, 2], [3, 4], [5, 6]]\n",
      "****************************************\n",
      "List1 =  [[1, 2], ['Three', 4], [5, 6]]\n",
      "List2 =  [[1, 2], ['Three', 4], [5, 6]]\n"
     ]
    }
   ],
   "source": [
    "li1 = [[1,2],[3,4],[5,6]]\n",
    "li2 = li1.copy()\n",
    "print(\"List1 = \",li1)\n",
    "print(\"List2 = \",li2)\n",
    "\n",
    "li1[1][0] = \"Three\"\n",
    "\n",
    "print(\"*\"*40)\n",
    "print(\"List1 = \",li1)\n",
    "print(\"List2 = \",li2)\n"
   ]
  },
  {
   "cell_type": "code",
   "execution_count": 50,
   "id": "69ead300",
   "metadata": {},
   "outputs": [
    {
     "name": "stdout",
     "output_type": "stream",
     "text": [
      "List1 =  [100, [1, 2], [3, 4], [5, 6]]\n",
      "List2 =  [100, [1, 2], [3, 4], [5, 6]]\n",
      "****************************************\n",
      "List1 =  ['Python', [1, 2], [3, 4], [5, 6]]\n",
      "List2 =  [100, [1, 2], [3, 4], [5, 6]]\n"
     ]
    }
   ],
   "source": [
    "li1 = [100,[1,2],[3,4],[5,6]]\n",
    "li2 = copy.deepcopy(li1)\n",
    "print(\"List1 = \",li1)\n",
    "print(\"List2 = \",li2)\n",
    "\n",
    "li1[0] = \"Python\"\n",
    "\n",
    "print(\"*\"*40)\n",
    "print(\"List1 = \",li1)\n",
    "print(\"List2 = \",li2)\n"
   ]
  },
  {
   "cell_type": "code",
   "execution_count": 54,
   "id": "6e6fe529",
   "metadata": {},
   "outputs": [
    {
     "name": "stdout",
     "output_type": "stream",
     "text": [
      "<class 'list'>\n",
      "<class 'list'>\n",
      "<class 'list'>\n",
      "<class 'list'>\n"
     ]
    }
   ],
   "source": [
    "li1 = [[1,2],[3,4],[5,6]]\n",
    "print(type(li1))\n",
    "for i in li1:\n",
    "    print(type(i))"
   ]
  },
  {
   "cell_type": "code",
   "execution_count": 56,
   "id": "a309de10",
   "metadata": {},
   "outputs": [
    {
     "name": "stdout",
     "output_type": "stream",
     "text": [
      "[1, 2]\n",
      "1\n",
      "2\n",
      "[3, 4]\n",
      "3\n",
      "4\n",
      "[5, 6]\n",
      "5\n",
      "6\n"
     ]
    }
   ],
   "source": [
    "li1 = [[1,2],[3,4],[5,6]]\n",
    "for i in li1:\n",
    "    print(i)\n",
    "    for j in i:\n",
    "        print(j)"
   ]
  },
  {
   "cell_type": "markdown",
   "id": "d5ecbf8b",
   "metadata": {},
   "source": [
    "# List Constructor"
   ]
  },
  {
   "cell_type": "code",
   "execution_count": 57,
   "id": "f22388ac",
   "metadata": {},
   "outputs": [
    {
     "data": {
      "text/plain": [
       "tuple"
      ]
     },
     "execution_count": 57,
     "metadata": {},
     "output_type": "execute_result"
    }
   ],
   "source": [
    "tup1 = (1,2,3)\n",
    "type(tup1)"
   ]
  },
  {
   "cell_type": "code",
   "execution_count": 61,
   "id": "70023a2a",
   "metadata": {},
   "outputs": [
    {
     "name": "stdout",
     "output_type": "stream",
     "text": [
      "(1, 2, 3) <class 'tuple'>\n",
      "[1, 2, 3] <class 'list'>\n"
     ]
    }
   ],
   "source": [
    "tup1 = (1,2,3)\n",
    "print(tup1,type(tup1))\n",
    "\n",
    "li1 = list(tup1) # List constructor\n",
    "print(li1,type(li1))"
   ]
  },
  {
   "cell_type": "code",
   "execution_count": 62,
   "id": "bab4112b",
   "metadata": {},
   "outputs": [
    {
     "name": "stdout",
     "output_type": "stream",
     "text": [
      "{1, 2, 3} <class 'set'>\n",
      "[1, 2, 3] <class 'list'>\n"
     ]
    }
   ],
   "source": [
    "set1 = {1,2,3}\n",
    "print(set1,type(set1))\n",
    "\n",
    "li1 = list(set1) # List constructor\n",
    "print(li1,type(li1))"
   ]
  },
  {
   "cell_type": "code",
   "execution_count": 63,
   "id": "fb2df8a1",
   "metadata": {},
   "outputs": [
    {
     "name": "stdout",
     "output_type": "stream",
     "text": [
      "Data Science <class 'str'>\n",
      "['D', 'a', 't', 'a', ' ', 'S', 'c', 'i', 'e', 'n', 'c', 'e'] <class 'list'>\n"
     ]
    }
   ],
   "source": [
    "str1 = \"Data Science\"\n",
    "print(str1,type(str1))\n",
    "\n",
    "li1 = list(str1) # List constructor\n",
    "print(li1,type(li1))"
   ]
  },
  {
   "cell_type": "code",
   "execution_count": 66,
   "id": "7b975f8b",
   "metadata": {},
   "outputs": [
    {
     "data": {
      "text/plain": [
       "'Data Science'"
      ]
     },
     "execution_count": 66,
     "metadata": {},
     "output_type": "execute_result"
    }
   ],
   "source": [
    "\"\".join(['D', 'a', 't', 'a', ' ', 'S', 'c', 'i', 'e', 'n', 'c', 'e'])"
   ]
  },
  {
   "cell_type": "code",
   "execution_count": 72,
   "id": "f2e9f1a3",
   "metadata": {},
   "outputs": [
    {
     "name": "stdout",
     "output_type": "stream",
     "text": [
      "D-a-t-a- -S-c-i-e-n-c-e\n"
     ]
    }
   ],
   "source": [
    "str1 = \"Data Science\" # D-a-t-a\n",
    "print(\"-\".join(list(str1)))"
   ]
  },
  {
   "cell_type": "code",
   "execution_count": 73,
   "id": "53e8889e",
   "metadata": {},
   "outputs": [
    {
     "data": {
      "text/plain": [
       "['D', 'a', 't', 'a', ' ', 'S', 'c', 'i', 'e', 'n', 'c', 'e']"
      ]
     },
     "execution_count": 73,
     "metadata": {},
     "output_type": "execute_result"
    }
   ],
   "source": [
    "str1 = \"Data Science\"\n",
    "char_li = []\n",
    "for i in str1:\n",
    "    char_li.append(i)\n",
    "char_li"
   ]
  },
  {
   "cell_type": "code",
   "execution_count": 74,
   "id": "7930ba14",
   "metadata": {},
   "outputs": [
    {
     "data": {
      "text/plain": [
       "'D-a-t-a- -S-c-i-e-n-c-e'"
      ]
     },
     "execution_count": 74,
     "metadata": {},
     "output_type": "execute_result"
    }
   ],
   "source": [
    "\"-\".join(char_li)"
   ]
  },
  {
   "cell_type": "code",
   "execution_count": 77,
   "id": "6213f353",
   "metadata": {},
   "outputs": [
    {
     "data": {
      "text/plain": [
       "True"
      ]
     },
     "execution_count": 77,
     "metadata": {},
     "output_type": "execute_result"
    }
   ],
   "source": [
    "\"D-a-t-a- -S-c-i-e-n-c-e\" == 'D-a-t-a- -S-c-i-e-n-c-e'"
   ]
  },
  {
   "cell_type": "markdown",
   "id": "91ae5181",
   "metadata": {},
   "source": [
    "# List Comprehension\n",
    "- new_list = [expression for var_name in list]"
   ]
  },
  {
   "cell_type": "code",
   "execution_count": 90,
   "id": "992ed641",
   "metadata": {},
   "outputs": [
    {
     "name": "stdout",
     "output_type": "stream",
     "text": [
      "[5]\n",
      "[5, 15]\n",
      "[5, 15, 25]\n",
      "[5, 15, 25, 35]\n",
      "[5, 15, 25, 35, 45]\n"
     ]
    }
   ],
   "source": [
    "li = [10,20,30,40,50]\n",
    "new_li1 = []\n",
    "for val in li:\n",
    "    new_li1.append(val - 5)\n",
    "    print(new_li1)\n"
   ]
  },
  {
   "cell_type": "code",
   "execution_count": 91,
   "id": "99d7a327",
   "metadata": {},
   "outputs": [
    {
     "data": {
      "text/plain": [
       "[5, 15, 25, 35, 45]"
      ]
     },
     "execution_count": 91,
     "metadata": {},
     "output_type": "execute_result"
    }
   ],
   "source": [
    "li = [10,20,30,40,50]\n",
    "new_li2 = [val - 5 for val in li]\n",
    "new_li2"
   ]
  },
  {
   "cell_type": "code",
   "execution_count": 93,
   "id": "b973e8bc",
   "metadata": {},
   "outputs": [
    {
     "data": {
      "text/plain": [
       "['Mathing', 'Phying', 'Cheming', 'Bioing', 'Enging']"
      ]
     },
     "execution_count": 93,
     "metadata": {},
     "output_type": "execute_result"
    }
   ],
   "source": [
    "sub_list = [\"Math\",\"Phy\",\"Chem\",\"Bio\",\"Eng\"] # Mathing, phying\n",
    "ing_li = []\n",
    "for sub_name in sub_list:\n",
    "    ing_li.append(sub_name + \"ing\")\n",
    "ing_li"
   ]
  },
  {
   "cell_type": "code",
   "execution_count": 96,
   "id": "dcc52908",
   "metadata": {},
   "outputs": [
    {
     "data": {
      "text/plain": [
       "['Mathing', 'Phying', 'Cheming', 'Bioing', 'Enging']"
      ]
     },
     "execution_count": 96,
     "metadata": {},
     "output_type": "execute_result"
    }
   ],
   "source": [
    "ing_li2 = [i + \"ing\" for i in sub_list]\n",
    "ing_li2"
   ]
  },
  {
   "cell_type": "code",
   "execution_count": 97,
   "id": "8d8242e5",
   "metadata": {},
   "outputs": [
    {
     "data": {
      "text/plain": [
       "['MATH', 'PHY', 'CHEM', 'BIO', 'ENG']"
      ]
     },
     "execution_count": 97,
     "metadata": {},
     "output_type": "execute_result"
    }
   ],
   "source": [
    "ing_li2 = [i.upper() for i in sub_list]\n",
    "ing_li2"
   ]
  },
  {
   "cell_type": "code",
   "execution_count": 98,
   "id": "5d738654",
   "metadata": {},
   "outputs": [
    {
     "data": {
      "text/plain": [
       "['math', 'phy', 'chem', 'bio', 'eng']"
      ]
     },
     "execution_count": 98,
     "metadata": {},
     "output_type": "execute_result"
    }
   ],
   "source": [
    "ing_li2 = [i.lower() for i in sub_list]\n",
    "ing_li2"
   ]
  },
  {
   "cell_type": "code",
   "execution_count": 99,
   "id": "2734c655",
   "metadata": {},
   "outputs": [
    {
     "name": "stdout",
     "output_type": "stream",
     "text": [
      "[1, 2, 3, 4, 5, 6, 7, 8, 9, 10, 11, 12, 13, 14, 15]\n"
     ]
    }
   ],
   "source": [
    "list1 = list(range(1,16))\n",
    "print(list1)"
   ]
  },
  {
   "cell_type": "code",
   "execution_count": 101,
   "id": "680093df",
   "metadata": {},
   "outputs": [
    {
     "name": "stdout",
     "output_type": "stream",
     "text": [
      "[]\n",
      "[2]\n",
      "[2]\n",
      "[2, 4]\n",
      "[2, 4]\n",
      "[2, 4, 6]\n",
      "[2, 4, 6]\n",
      "[2, 4, 6, 8]\n",
      "[2, 4, 6, 8]\n",
      "[2, 4, 6, 8, 10]\n",
      "[2, 4, 6, 8, 10]\n",
      "[2, 4, 6, 8, 10, 12]\n",
      "[2, 4, 6, 8, 10, 12]\n",
      "[2, 4, 6, 8, 10, 12, 14]\n",
      "[2, 4, 6, 8, 10, 12, 14]\n",
      "Even number list [2, 4, 6, 8, 10, 12, 14]\n"
     ]
    }
   ],
   "source": [
    "even_list1 = []\n",
    "for i in list1:\n",
    "    if i % 2 == 0:\n",
    "        even_list1.append(i)\n",
    "    print(even_list1)\n",
    "print(f\"Even number list {even_list1}\")"
   ]
  },
  {
   "cell_type": "code",
   "execution_count": 103,
   "id": "1e1ffae8",
   "metadata": {},
   "outputs": [
    {
     "data": {
      "text/plain": [
       "[2, 4, 6, 8, 10, 12, 14]"
      ]
     },
     "execution_count": 103,
     "metadata": {},
     "output_type": "execute_result"
    }
   ],
   "source": [
    "even_list2 = [i for i in list1 if i%2 == 0]\n",
    "even_list2"
   ]
  },
  {
   "cell_type": "code",
   "execution_count": 104,
   "id": "e6e19220",
   "metadata": {},
   "outputs": [
    {
     "name": "stdout",
     "output_type": "stream",
     "text": [
      "Odd number list [1, 3, 5, 7, 9, 11, 13, 15]\n"
     ]
    }
   ],
   "source": [
    "odd_list1 = []\n",
    "for i in list1:\n",
    "    if i % 2 != 0:\n",
    "        odd_list1.append(i)\n",
    "print(f\"Odd number list {odd_list1}\")"
   ]
  },
  {
   "cell_type": "code",
   "execution_count": 105,
   "id": "f3a95d7d",
   "metadata": {},
   "outputs": [
    {
     "data": {
      "text/plain": [
       "[1, 3, 5, 7, 9, 11, 13, 15]"
      ]
     },
     "execution_count": 105,
     "metadata": {},
     "output_type": "execute_result"
    }
   ],
   "source": [
    "odd_list2 = [i for i in list1 if i%2!=0]\n",
    "odd_list2\n"
   ]
  },
  {
   "cell_type": "code",
   "execution_count": 106,
   "id": "ae4d7f18",
   "metadata": {},
   "outputs": [
    {
     "data": {
      "text/plain": [
       "[4, 16, 36, 64, 100, 144, 196]"
      ]
     },
     "execution_count": 106,
     "metadata": {},
     "output_type": "execute_result"
    }
   ],
   "source": [
    "squared_li = [i ** 2 for i in [2, 4, 6, 8, 10, 12, 14]]\n",
    "squared_li"
   ]
  },
  {
   "cell_type": "code",
   "execution_count": 107,
   "id": "206fa998",
   "metadata": {},
   "outputs": [
    {
     "data": {
      "text/plain": [
       "[8, 64, 216, 512, 1000, 1728, 2744]"
      ]
     },
     "execution_count": 107,
     "metadata": {},
     "output_type": "execute_result"
    }
   ],
   "source": [
    "squared_li = [i ** 3 for i in [2, 4, 6, 8, 10, 12, 14]]\n",
    "squared_li"
   ]
  },
  {
   "cell_type": "code",
   "execution_count": 108,
   "id": "8c7013d2",
   "metadata": {},
   "outputs": [
    {
     "data": {
      "text/plain": [
       "['CHEM']"
      ]
     },
     "execution_count": 108,
     "metadata": {},
     "output_type": "execute_result"
    }
   ],
   "source": [
    "sub_list = [\"Math\",\"Phy\",\"Chem\",\"Bio\",\"Eng\"]\n",
    "new_li = [i.upper() for i in sub_list if i.startswith(\"C\")]\n",
    "new_li"
   ]
  },
  {
   "cell_type": "code",
   "execution_count": 109,
   "id": "4194c741",
   "metadata": {},
   "outputs": [
    {
     "data": {
      "text/plain": [
       "['MATH', 'PHY', 'BIO', 'ENG']"
      ]
     },
     "execution_count": 109,
     "metadata": {},
     "output_type": "execute_result"
    }
   ],
   "source": [
    "sub_list = [\"Math\",\"Phy\",\"Chem\",\"Bio\",\"Eng\"]\n",
    "new_li = [i.upper() for i in sub_list if not i.startswith(\"C\")]\n",
    "new_li"
   ]
  },
  {
   "cell_type": "code",
   "execution_count": 112,
   "id": "4e21d49f",
   "metadata": {},
   "outputs": [
    {
     "data": {
      "text/plain": [
       "[1089, 3025, 5929, 4624]"
      ]
     },
     "execution_count": 112,
     "metadata": {},
     "output_type": "execute_result"
    }
   ],
   "source": [
    "li = [3,5,8,33,55,2,1,3,5,77,8,68]\n",
    "square_li = [i ** 2 for i in li if i > 10]\n",
    "square_li"
   ]
  },
  {
   "cell_type": "code",
   "execution_count": 3,
   "id": "dd3b898d",
   "metadata": {},
   "outputs": [
    {
     "data": {
      "text/plain": [
       "[4624]"
      ]
     },
     "execution_count": 3,
     "metadata": {},
     "output_type": "execute_result"
    }
   ],
   "source": [
    "li = [3,5,8,33,55,2,1,3,5,77,8,68]\n",
    "even_square_li = [i ** 2 for i in li if i > 10 and i % 2 == 0]\n",
    "even_square_li"
   ]
  },
  {
   "cell_type": "code",
   "execution_count": null,
   "id": "9d123900",
   "metadata": {},
   "outputs": [],
   "source": []
  },
  {
   "cell_type": "code",
   "execution_count": null,
   "id": "7ec535e4",
   "metadata": {},
   "outputs": [],
   "source": []
  }
 ],
 "metadata": {
  "kernelspec": {
   "display_name": "Python 3 (ipykernel)",
   "language": "python",
   "name": "python3"
  },
  "language_info": {
   "codemirror_mode": {
    "name": "ipython",
    "version": 3
   },
   "file_extension": ".py",
   "mimetype": "text/x-python",
   "name": "python",
   "nbconvert_exporter": "python",
   "pygments_lexer": "ipython3",
   "version": "3.9.12"
  }
 },
 "nbformat": 4,
 "nbformat_minor": 5
}
