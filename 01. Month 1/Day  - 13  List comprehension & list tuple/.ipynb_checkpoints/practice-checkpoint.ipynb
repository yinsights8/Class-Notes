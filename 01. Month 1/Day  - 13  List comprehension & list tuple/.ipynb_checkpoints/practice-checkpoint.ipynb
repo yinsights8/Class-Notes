{
 "cells": [
  {
   "cell_type": "markdown",
   "id": "9c0b4cad",
   "metadata": {},
   "source": [
    "# sorted(list_name)"
   ]
  },
  {
   "cell_type": "code",
   "execution_count": 8,
   "id": "d1f42d91",
   "metadata": {},
   "outputs": [
    {
     "name": "stdout",
     "output_type": "stream",
     "text": [
      "[4, 5, 6, 7, 44, 55, 33, 2, 8, 9]\n",
      "\n",
      "[55, 44, 33, 9, 8, 7, 6, 5, 4, 2]\n"
     ]
    }
   ],
   "source": [
    "num_li = [4,5,6,7,44,55,33,2,8,9]\n",
    "print(num_li)\n",
    "print()\n",
    "a= sorted(num_li,reverse=True)\n",
    "print(a)"
   ]
  },
  {
   "cell_type": "code",
   "execution_count": 5,
   "id": "e9d56420",
   "metadata": {},
   "outputs": [
    {
     "data": {
      "text/plain": [
       "[55, 44, 33, 9, 8, 7, 6, 5, 4, 2]"
      ]
     },
     "execution_count": 5,
     "metadata": {},
     "output_type": "execute_result"
    }
   ],
   "source": [
    "a"
   ]
  },
  {
   "cell_type": "markdown",
   "id": "ddb8903d",
   "metadata": {},
   "source": [
    "# Reverse "
   ]
  },
  {
   "cell_type": "code",
   "execution_count": 15,
   "id": "36ef780b",
   "metadata": {},
   "outputs": [
    {
     "data": {
      "text/plain": [
       "['science', 'data', 'pythoh', 9, 8, 7, 6, 5, 4, 3, 2, 1]"
      ]
     },
     "execution_count": 15,
     "metadata": {},
     "output_type": "execute_result"
    }
   ],
   "source": [
    "num_list = [1,2,3,4,5,6,7,8,9, \"pythoh\", \"data\", \"science\"]\n",
    "num_list.reverse()\n",
    "num_list"
   ]
  },
  {
   "cell_type": "markdown",
   "id": "02036eb4",
   "metadata": {},
   "source": [
    "# reversed"
   ]
  },
  {
   "cell_type": "code",
   "execution_count": 23,
   "id": "fdbeee7e",
   "metadata": {},
   "outputs": [
    {
     "name": "stdout",
     "output_type": "stream",
     "text": [
      "[9, 8, 2, 33, 55, 44, 7, 6, 5, 4]\n"
     ]
    }
   ],
   "source": [
    "num_li = [4, 5, 6, 7, 44, 55, 33, 2, 8, 9]\n",
    "f= list(reversed(num_li))\n",
    "print(f)"
   ]
  },
  {
   "cell_type": "markdown",
   "id": "f64dae4a",
   "metadata": {},
   "source": [
    "# index"
   ]
  },
  {
   "cell_type": "code",
   "execution_count": 36,
   "id": "de600959",
   "metadata": {},
   "outputs": [
    {
     "name": "stdout",
     "output_type": "stream",
     "text": [
      "5\n",
      "0\n"
     ]
    }
   ],
   "source": [
    "num_li = [4, 4, 5, 6, 7, 44, 55, 33, 2, 8, 9]\n",
    "\n",
    "print(num_li.index(44))\n",
    "print(num_li.index(4))"
   ]
  },
  {
   "cell_type": "markdown",
   "id": "f694e8f9",
   "metadata": {},
   "source": [
    "# max"
   ]
  },
  {
   "cell_type": "code",
   "execution_count": 2,
   "id": "aef792d6",
   "metadata": {},
   "outputs": [
    {
     "data": {
      "text/plain": [
       "80"
      ]
     },
     "execution_count": 2,
     "metadata": {},
     "output_type": "execute_result"
    }
   ],
   "source": [
    "k = [1,2,3,5,8,9,4,55,10,80]\n",
    "m = max(k)\n",
    "m"
   ]
  },
  {
   "cell_type": "markdown",
   "id": "a0b7f551",
   "metadata": {},
   "source": [
    "# max"
   ]
  },
  {
   "cell_type": "code",
   "execution_count": 5,
   "id": "28b4a519",
   "metadata": {},
   "outputs": [
    {
     "name": "stdout",
     "output_type": "stream",
     "text": [
      "1\n"
     ]
    }
   ],
   "source": [
    "k = [1,2,3,5,8,9,4,55,10,80]\n",
    "minu = min(k)\n",
    "print(minu)"
   ]
  },
  {
   "cell_type": "markdown",
   "id": "c98167ed",
   "metadata": {},
   "source": [
    "# sum"
   ]
  },
  {
   "cell_type": "code",
   "execution_count": 6,
   "id": "a0b3539b",
   "metadata": {},
   "outputs": [
    {
     "name": "stdout",
     "output_type": "stream",
     "text": [
      "177\n"
     ]
    }
   ],
   "source": [
    "add = sum(k)\n",
    "print(add)"
   ]
  },
  {
   "cell_type": "markdown",
   "id": "d6dccce4",
   "metadata": {},
   "source": [
    "# Nested list"
   ]
  },
  {
   "cell_type": "code",
   "execution_count": 15,
   "id": "16ffa22a",
   "metadata": {},
   "outputs": [
    {
     "name": "stdout",
     "output_type": "stream",
     "text": [
      "[7, 8, 9, [10, 11, 12]] 7\n",
      "[7, 8, 9, [10, 11, 12]] 8\n",
      "[7, 8, 9, [10, 11, 12]] 9\n",
      "[7, 8, 9, [10, 11, 12]] [10, 11, 12]\n"
     ]
    }
   ],
   "source": [
    "n = [1,2,3, [4,5,6], [7,8,9,[10,11,12]]]\n",
    "print(n[-1], n[-1][0])\n",
    "print(n[-1], n[-1][1])\n",
    "print(n[-1], n[-1][2])"
   ]
  },
  {
   "cell_type": "code",
   "execution_count": 16,
   "id": "5ab45944",
   "metadata": {},
   "outputs": [
    {
     "name": "stdout",
     "output_type": "stream",
     "text": [
      "[7, 8, 9, [10, 11, 12]] 8\n"
     ]
    }
   ],
   "source": [
    "print(n[-1], n[-1][1])"
   ]
  },
  {
   "cell_type": "code",
   "execution_count": 23,
   "id": "397e8368",
   "metadata": {},
   "outputs": [
    {
     "name": "stdout",
     "output_type": "stream",
     "text": [
      "[7, 8, 9, [10, 11, 12]] 10\n",
      "[7, 8, 9, [10, 11, 12]] 11\n",
      "[7, 8, 9, [10, 11, 12]] 12\n"
     ]
    }
   ],
   "source": [
    "print(n[-1], n[-1][3][0])\n",
    "print(n[-1], n[-1][3][1])\n",
    "print(n[-1], n[-1][3][2])"
   ]
  },
  {
   "cell_type": "code",
   "execution_count": null,
   "id": "54aff406",
   "metadata": {},
   "outputs": [],
   "source": []
  },
  {
   "cell_type": "markdown",
   "id": "83583104",
   "metadata": {},
   "source": [
    "# copy "
   ]
  },
  {
   "cell_type": "code",
   "execution_count": null,
   "id": "a5afdd75",
   "metadata": {},
   "outputs": [],
   "source": []
  }
 ],
 "metadata": {
  "kernelspec": {
   "display_name": "Python 3 (ipykernel)",
   "language": "python",
   "name": "python3"
  },
  "language_info": {
   "codemirror_mode": {
    "name": "ipython",
    "version": 3
   },
   "file_extension": ".py",
   "mimetype": "text/x-python",
   "name": "python",
   "nbconvert_exporter": "python",
   "pygments_lexer": "ipython3",
   "version": "3.9.12"
  }
 },
 "nbformat": 4,
 "nbformat_minor": 5
}
