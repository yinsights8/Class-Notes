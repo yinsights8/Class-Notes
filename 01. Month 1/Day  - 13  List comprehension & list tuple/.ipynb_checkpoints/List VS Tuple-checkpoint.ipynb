{
 "cells": [
  {
   "cell_type": "markdown",
   "id": "e42bd237",
   "metadata": {},
   "source": [
    "# List\n",
    "- 1. Mutable (Values can be changed/changable) ---> add,delete, update\n",
    "- 2. Allow Duplicate items\n",
    "- 3. Orderd data type\n",
    "- 4. Enclosed by []\n",
    "- 5. Variable length\n",
    "- 6. More memory required\n",
    "- 7. More functional\n",
    "- 8. Collection of any data types\n",
    "- 9. List is slower than tuple\n",
    "\n",
    "# Tuple\n",
    "- 1. Immutable Data Type (Unchangable)\n",
    "- 2. Allows Duplicate items\n",
    "- 3. Orderd\n",
    "- 4. Enclosed by ()\n",
    "- 5. fixed length\n",
    "- 6. Requires less memory\n",
    "- 7. Less functional\n",
    "- 8. Collection of any data types\n",
    "- 9. Tuple is faster than list"
   ]
  },
  {
   "cell_type": "code",
   "execution_count": null,
   "id": "c808102f",
   "metadata": {},
   "outputs": [],
   "source": []
  }
 ],
 "metadata": {
  "kernelspec": {
   "display_name": "Python 3 (ipykernel)",
   "language": "python",
   "name": "python3"
  },
  "language_info": {
   "codemirror_mode": {
    "name": "ipython",
    "version": 3
   },
   "file_extension": ".py",
   "mimetype": "text/x-python",
   "name": "python",
   "nbconvert_exporter": "python",
   "pygments_lexer": "ipython3",
   "version": "3.10.5"
  }
 },
 "nbformat": 4,
 "nbformat_minor": 5
}
