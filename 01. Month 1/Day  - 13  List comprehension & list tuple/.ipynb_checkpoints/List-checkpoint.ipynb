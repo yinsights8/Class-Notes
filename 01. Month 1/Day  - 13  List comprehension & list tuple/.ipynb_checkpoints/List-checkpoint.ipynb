{
 "cells": [
  {
   "cell_type": "markdown",
   "id": "61923d87",
   "metadata": {},
   "source": [
    "# List\n"
   ]
  },
  {
   "cell_type": "markdown",
   "id": "454f0f5d",
   "metadata": {},
   "source": [
    "## Sorted()\n",
    "- sorted(list) is a built in function"
   ]
  },
  {
   "cell_type": "code",
   "execution_count": 2,
   "id": "29397ebf",
   "metadata": {},
   "outputs": [
    {
     "name": "stdout",
     "output_type": "stream",
     "text": [
      "Original List   = [4, 5, 6, 7, 44, 55, 33, 2, 8, 9]\n",
      "Modified List   = [2, 4, 5, 6, 7, 8, 9, 33, 44, 55]\n"
     ]
    }
   ],
   "source": [
    "num_li = [4,5,6,7,44,55,33,2,8,9]\n",
    "sorted_list = sorted(num_li)\n",
    "\n",
    "print(f\"Original List   = {num_li}\")\n",
    "print(f\"Modified List   = {sorted_list}\")"
   ]
  },
  {
   "cell_type": "code",
   "execution_count": 3,
   "id": "a5fe5c7a",
   "metadata": {},
   "outputs": [
    {
     "name": "stdout",
     "output_type": "stream",
     "text": [
      "Original List   = [4, 5, 6, 7, 44, 55, 33, 2, 8, 9]\n",
      "Modified List   = [55, 44, 33, 9, 8, 7, 6, 5, 4, 2]\n"
     ]
    }
   ],
   "source": [
    "num_li = [4,5,6,7,44,55,33,2,8,9]\n",
    "sorted_list = sorted(num_li,reverse=True)\n",
    "\n",
    "print(f\"Original List   = {num_li}\")\n",
    "print(f\"Modified List   = {sorted_list}\")"
   ]
  },
  {
   "cell_type": "code",
   "execution_count": 4,
   "id": "729af6ea",
   "metadata": {},
   "outputs": [
    {
     "ename": "TypeError",
     "evalue": "'<' not supported between instances of 'int' and 'str'",
     "output_type": "error",
     "traceback": [
      "\u001b[1;31m---------------------------------------------------------------------------\u001b[0m",
      "\u001b[1;31mTypeError\u001b[0m                                 Traceback (most recent call last)",
      "Input \u001b[1;32mIn [4]\u001b[0m, in \u001b[0;36m<cell line: 2>\u001b[1;34m()\u001b[0m\n\u001b[0;32m      1\u001b[0m num_li \u001b[38;5;241m=\u001b[39m [\u001b[38;5;241m4\u001b[39m,\u001b[38;5;241m5\u001b[39m,\u001b[38;5;241m6\u001b[39m,\u001b[38;5;241m7\u001b[39m,\u001b[38;5;241m44\u001b[39m,\u001b[38;5;241m55\u001b[39m,\u001b[38;5;241m33\u001b[39m,\u001b[38;5;241m2\u001b[39m,\u001b[38;5;241m8\u001b[39m,\u001b[38;5;241m9\u001b[39m,\u001b[38;5;124m\"\u001b[39m\u001b[38;5;124mPython\u001b[39m\u001b[38;5;124m\"\u001b[39m,\u001b[38;5;124m\"\u001b[39m\u001b[38;5;124mDS\u001b[39m\u001b[38;5;124m\"\u001b[39m,\u001b[38;5;124m\"\u001b[39m\u001b[38;5;124mML\u001b[39m\u001b[38;5;124m\"\u001b[39m]\n\u001b[1;32m----> 2\u001b[0m sorted_list \u001b[38;5;241m=\u001b[39m \u001b[38;5;28;43msorted\u001b[39;49m\u001b[43m(\u001b[49m\u001b[43mnum_li\u001b[49m\u001b[43m,\u001b[49m\u001b[43mreverse\u001b[49m\u001b[38;5;241;43m=\u001b[39;49m\u001b[38;5;28;43;01mTrue\u001b[39;49;00m\u001b[43m)\u001b[49m\n\u001b[0;32m      4\u001b[0m \u001b[38;5;28mprint\u001b[39m(\u001b[38;5;124mf\u001b[39m\u001b[38;5;124m\"\u001b[39m\u001b[38;5;124mOriginal List   = \u001b[39m\u001b[38;5;132;01m{\u001b[39;00mnum_li\u001b[38;5;132;01m}\u001b[39;00m\u001b[38;5;124m\"\u001b[39m)\n\u001b[0;32m      5\u001b[0m \u001b[38;5;28mprint\u001b[39m(\u001b[38;5;124mf\u001b[39m\u001b[38;5;124m\"\u001b[39m\u001b[38;5;124mModified List   = \u001b[39m\u001b[38;5;132;01m{\u001b[39;00msorted_list\u001b[38;5;132;01m}\u001b[39;00m\u001b[38;5;124m\"\u001b[39m)\n",
      "\u001b[1;31mTypeError\u001b[0m: '<' not supported between instances of 'int' and 'str'"
     ]
    }
   ],
   "source": [
    "num_li = [4,5,6,7,44,55,33,2,8,9,\"Python\",\"DS\",\"ML\"]\n",
    "sorted_list = sorted(num_li,reverse=True)\n",
    "\n",
    "print(f\"Original List   = {num_li}\")\n",
    "print(f\"Modified List   = {sorted_list}\")"
   ]
  },
  {
   "cell_type": "markdown",
   "id": "402869af",
   "metadata": {},
   "source": [
    "## Reverse"
   ]
  },
  {
   "cell_type": "code",
   "execution_count": 6,
   "id": "e0178349",
   "metadata": {},
   "outputs": [
    {
     "name": "stdout",
     "output_type": "stream",
     "text": [
      "Original List          = [4, 5, 6, 7, 44, 55, 33, 2, 8, 9, 'Python', 'DS', 'ML']\n",
      "After operation List   = ['ML', 'DS', 'Python', 9, 8, 2, 33, 55, 44, 7, 6, 5, 4]\n"
     ]
    }
   ],
   "source": [
    "num_li = [4,5,6,7,44,55,33,2,8,9,\"Python\",\"DS\",\"ML\"]\n",
    "print(f\"Original List          = {num_li}\")\n",
    "num_li.reverse()\n",
    "print(f\"After operation List   = {num_li}\")"
   ]
  },
  {
   "cell_type": "markdown",
   "id": "3d4cb073",
   "metadata": {},
   "source": [
    "## reversed()"
   ]
  },
  {
   "cell_type": "code",
   "execution_count": 8,
   "id": "4e805764",
   "metadata": {},
   "outputs": [
    {
     "data": {
      "text/plain": [
       "[9, 8, 2, 33, 55, 44, 7, 6, 5, 4]"
      ]
     },
     "execution_count": 8,
     "metadata": {},
     "output_type": "execute_result"
    }
   ],
   "source": [
    "num_li = [4,5,6,7,44,55,33,2,8,9]\n",
    "list(reversed(num_li))"
   ]
  },
  {
   "cell_type": "code",
   "execution_count": 9,
   "id": "8607982e",
   "metadata": {},
   "outputs": [
    {
     "data": {
      "text/plain": [
       "(9, 8, 2, 33, 55, 44, 7, 6, 5, 4)"
      ]
     },
     "execution_count": 9,
     "metadata": {},
     "output_type": "execute_result"
    }
   ],
   "source": [
    "num_li = [4,5,6,7,44,55,33,2,8,9]\n",
    "tuple(reversed(num_li))"
   ]
  },
  {
   "cell_type": "markdown",
   "id": "659c7a85",
   "metadata": {},
   "source": [
    "## index()"
   ]
  },
  {
   "cell_type": "code",
   "execution_count": 10,
   "id": "3deb3cf6",
   "metadata": {},
   "outputs": [
    {
     "data": {
      "text/plain": [
       "4"
      ]
     },
     "execution_count": 10,
     "metadata": {},
     "output_type": "execute_result"
    }
   ],
   "source": [
    "str1 = 'Python'\n",
    "str1.index(\"o\")"
   ]
  },
  {
   "cell_type": "code",
   "execution_count": 11,
   "id": "cbf1885d",
   "metadata": {},
   "outputs": [
    {
     "data": {
      "text/plain": [
       "0"
      ]
     },
     "execution_count": 11,
     "metadata": {},
     "output_type": "execute_result"
    }
   ],
   "source": [
    "num_li = [4,5,6,7,44,55,33,2,8,9]\n",
    "num_li.index(4)"
   ]
  },
  {
   "cell_type": "code",
   "execution_count": 12,
   "id": "b0e5d785",
   "metadata": {},
   "outputs": [
    {
     "data": {
      "text/plain": [
       "3"
      ]
     },
     "execution_count": 12,
     "metadata": {},
     "output_type": "execute_result"
    }
   ],
   "source": [
    "num_li = [4,5,6,7]\n",
    "num_li.index(7)"
   ]
  },
  {
   "cell_type": "code",
   "execution_count": 13,
   "id": "0195f2fa",
   "metadata": {},
   "outputs": [
    {
     "data": {
      "text/plain": [
       "1"
      ]
     },
     "execution_count": 13,
     "metadata": {},
     "output_type": "execute_result"
    }
   ],
   "source": [
    "sub_list = [\"Math\",\"Phy\",\"Chem\",\"Bio\",\"Eng\"]\n",
    "sub_list.index('Phy')"
   ]
  },
  {
   "cell_type": "code",
   "execution_count": 14,
   "id": "4e784493",
   "metadata": {},
   "outputs": [
    {
     "ename": "ValueError",
     "evalue": "'Physics' is not in list",
     "output_type": "error",
     "traceback": [
      "\u001b[1;31m---------------------------------------------------------------------------\u001b[0m",
      "\u001b[1;31mValueError\u001b[0m                                Traceback (most recent call last)",
      "Input \u001b[1;32mIn [14]\u001b[0m, in \u001b[0;36m<cell line: 2>\u001b[1;34m()\u001b[0m\n\u001b[0;32m      1\u001b[0m sub_list \u001b[38;5;241m=\u001b[39m [\u001b[38;5;124m\"\u001b[39m\u001b[38;5;124mMath\u001b[39m\u001b[38;5;124m\"\u001b[39m,\u001b[38;5;124m\"\u001b[39m\u001b[38;5;124mPhy\u001b[39m\u001b[38;5;124m\"\u001b[39m,\u001b[38;5;124m\"\u001b[39m\u001b[38;5;124mChem\u001b[39m\u001b[38;5;124m\"\u001b[39m,\u001b[38;5;124m\"\u001b[39m\u001b[38;5;124mBio\u001b[39m\u001b[38;5;124m\"\u001b[39m,\u001b[38;5;124m\"\u001b[39m\u001b[38;5;124mEng\u001b[39m\u001b[38;5;124m\"\u001b[39m]\n\u001b[1;32m----> 2\u001b[0m \u001b[43msub_list\u001b[49m\u001b[38;5;241;43m.\u001b[39;49m\u001b[43mindex\u001b[49m\u001b[43m(\u001b[49m\u001b[38;5;124;43m'\u001b[39;49m\u001b[38;5;124;43mPhysics\u001b[39;49m\u001b[38;5;124;43m'\u001b[39;49m\u001b[43m)\u001b[49m\n",
      "\u001b[1;31mValueError\u001b[0m: 'Physics' is not in list"
     ]
    }
   ],
   "source": [
    "sub_list = [\"Math\",\"Phy\",\"Chem\",\"Bio\",\"Eng\"]\n",
    "sub_list.index('Physics')"
   ]
  },
  {
   "cell_type": "markdown",
   "id": "5d8be251",
   "metadata": {},
   "source": [
    "## count()"
   ]
  },
  {
   "cell_type": "code",
   "execution_count": 15,
   "id": "36c3adac",
   "metadata": {},
   "outputs": [
    {
     "data": {
      "text/plain": [
       "1"
      ]
     },
     "execution_count": 15,
     "metadata": {},
     "output_type": "execute_result"
    }
   ],
   "source": [
    "num_li = [4,5,6,7,44,55,33,2,8,9]\n",
    "num_li.count(4)"
   ]
  },
  {
   "cell_type": "code",
   "execution_count": 16,
   "id": "4bf29662",
   "metadata": {},
   "outputs": [
    {
     "data": {
      "text/plain": [
       "3"
      ]
     },
     "execution_count": 16,
     "metadata": {},
     "output_type": "execute_result"
    }
   ],
   "source": [
    "num_li = [4,5,6,7,44,55,33,2,8,9,4,4]\n",
    "num_li.count(4)"
   ]
  },
  {
   "cell_type": "code",
   "execution_count": 17,
   "id": "7a724a9e",
   "metadata": {},
   "outputs": [
    {
     "data": {
      "text/plain": [
       "0"
      ]
     },
     "execution_count": 17,
     "metadata": {},
     "output_type": "execute_result"
    }
   ],
   "source": [
    "num_li = [4,5,6,7,44,55,33,2,8,9,4,4]\n",
    "num_li.count(40)"
   ]
  },
  {
   "cell_type": "code",
   "execution_count": 18,
   "id": "9f851d27",
   "metadata": {},
   "outputs": [
    {
     "data": {
      "text/plain": [
       "0"
      ]
     },
     "execution_count": 18,
     "metadata": {},
     "output_type": "execute_result"
    }
   ],
   "source": [
    "sub_list = [\"Math\",\"Phy\",\"Chem\",\"Bio\",\"Eng\"]\n",
    "sub_list.count('Physics')"
   ]
  },
  {
   "cell_type": "code",
   "execution_count": 19,
   "id": "a26b8628",
   "metadata": {},
   "outputs": [
    {
     "data": {
      "text/plain": [
       "1"
      ]
     },
     "execution_count": 19,
     "metadata": {},
     "output_type": "execute_result"
    }
   ],
   "source": [
    "sub_list = [\"Math\",\"Phy\",\"Chem\",\"Bio\",\"Eng\"]\n",
    "sub_list.count('Phy')"
   ]
  },
  {
   "cell_type": "code",
   "execution_count": null,
   "id": "f3a19eb9",
   "metadata": {},
   "outputs": [],
   "source": []
  }
 ],
 "metadata": {
  "kernelspec": {
   "display_name": "Python 3 (ipykernel)",
   "language": "python",
   "name": "python3"
  },
  "language_info": {
   "codemirror_mode": {
    "name": "ipython",
    "version": 3
   },
   "file_extension": ".py",
   "mimetype": "text/x-python",
   "name": "python",
   "nbconvert_exporter": "python",
   "pygments_lexer": "ipython3",
   "version": "3.10.5"
  }
 },
 "nbformat": 4,
 "nbformat_minor": 5
}
