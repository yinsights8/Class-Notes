{
 "cells": [
  {
   "cell_type": "markdown",
   "id": "79590d2d",
   "metadata": {},
   "source": [
    "# While Loop"
   ]
  },
  {
   "cell_type": "raw",
   "id": "55321a99",
   "metadata": {},
   "source": [
    "while condition:\n",
    "    statement-1\n",
    "    statement-2\n",
    "    statement-3\n",
    "        .\n",
    "        .\n",
    "    statement-n"
   ]
  },
  {
   "cell_type": "code",
   "execution_count": 1,
   "id": "398f5721",
   "metadata": {},
   "outputs": [
    {
     "name": "stdout",
     "output_type": "stream",
     "text": [
      "0\n",
      "1\n",
      "2\n",
      "3\n",
      "4\n"
     ]
    }
   ],
   "source": [
    "for i in range(5):\n",
    "    print(i)"
   ]
  },
  {
   "cell_type": "code",
   "execution_count": 3,
   "id": "4a1becf1",
   "metadata": {},
   "outputs": [
    {
     "name": "stdout",
     "output_type": "stream",
     "text": [
      "0\n",
      "1\n",
      "2\n",
      "3\n",
      "4\n"
     ]
    }
   ],
   "source": [
    "i = 0          \n",
    "             #  i=0,i=1, i=2, i=3, i=4, i=5 - Exits \n",
    "while i < 5: # True,True,True,True,True,False--->Exit the while loop\n",
    "    print(i)\n",
    "    i += 1"
   ]
  },
  {
   "cell_type": "code",
   "execution_count": 6,
   "id": "7bf737e2",
   "metadata": {},
   "outputs": [
    {
     "name": "stdout",
     "output_type": "stream",
     "text": [
      "This is while loop\n",
      "This is while loop\n",
      "This is while loop\n",
      "This is while loop\n",
      "This is while loop\n"
     ]
    }
   ],
   "source": [
    "i = 0\n",
    "while i < 5:\n",
    "    print(\"This is while loop\")\n",
    "    i += 1"
   ]
  },
  {
   "cell_type": "code",
   "execution_count": 8,
   "id": "ffaff372",
   "metadata": {},
   "outputs": [
    {
     "name": "stdout",
     "output_type": "stream",
     "text": [
      "This is while loop\n",
      "This is while loop\n",
      "This is while loop\n"
     ]
    }
   ],
   "source": [
    "i = 0\n",
    "while i < 5: # 0, 2, 4, 6<5-False\n",
    "    print(\"This is while loop\")\n",
    "    i += 2"
   ]
  },
  {
   "cell_type": "code",
   "execution_count": 12,
   "id": "e30f73b6",
   "metadata": {},
   "outputs": [
    {
     "name": "stdout",
     "output_type": "stream",
     "text": [
      "This is while loop 0\n",
      "This is while loop 2\n",
      "This is while loop 4\n"
     ]
    }
   ],
   "source": [
    "i = 0\n",
    "while i < 5: # 0, 2, 4, 6<5-false\n",
    "    print(\"This is while loop\",i)\n",
    "    i += 2"
   ]
  },
  {
   "cell_type": "code",
   "execution_count": 13,
   "id": "e20b9d06",
   "metadata": {},
   "outputs": [
    {
     "name": "stdout",
     "output_type": "stream",
     "text": [
      "This is while loop 1\n",
      "This is while loop 3\n"
     ]
    }
   ],
   "source": [
    "i = 1\n",
    "while i < 5: # 1, 3,5<5-false\n",
    "    print(\"This is while loop\",i)\n",
    "    i += 2"
   ]
  },
  {
   "cell_type": "code",
   "execution_count": 15,
   "id": "0c604286",
   "metadata": {},
   "outputs": [
    {
     "name": "stdout",
     "output_type": "stream",
     "text": [
      "Multiplication of first 5 numbers is = 120\n"
     ]
    }
   ],
   "source": [
    "n = 5\n",
    "multiplication = 1\n",
    "for i in range(1, n+1):\n",
    "    multiplication *= i\n",
    "print(f\"Multiplication of first {n} numbers is = {multiplication}\")"
   ]
  },
  {
   "cell_type": "code",
   "execution_count": 19,
   "id": "170f60f1",
   "metadata": {},
   "outputs": [
    {
     "name": "stdout",
     "output_type": "stream",
     "text": [
      "Addition of first 10 numbers is = 55\n"
     ]
    }
   ],
   "source": [
    "n = 10\n",
    "Addition = 0\n",
    "for i in range(n+1):\n",
    "    Addition += i\n",
    "print(f\"Addition of first {n} numbers is = {Addition}\")"
   ]
  },
  {
   "cell_type": "code",
   "execution_count": 22,
   "id": "4e79acd5",
   "metadata": {},
   "outputs": [
    {
     "name": "stdout",
     "output_type": "stream",
     "text": [
      "Addition at each iteration= 0\n",
      "Addition at each iteration= 1\n",
      "Addition at each iteration= 3\n",
      "Addition at each iteration= 6\n",
      "Addition at each iteration= 10\n",
      "Addition at each iteration= 15\n",
      "Addition at each iteration= 21\n",
      "Addition at each iteration= 28\n",
      "Addition at each iteration= 36\n",
      "Addition at each iteration= 45\n",
      "Addition at each iteration= 55\n",
      "Addition of first 10 numbers is = 55\n"
     ]
    }
   ],
   "source": [
    "i = 0\n",
    "n = 10\n",
    "addition = 0\n",
    "while i <= n:     # i = 11 ---> False\n",
    "    addition += i # 45 + 10 \n",
    "    i += 1        # 11\n",
    "    print(\"Addition at each iteration=\",addition)\n",
    "print(f\"Addition of first {n} numbers is = {addition}\")"
   ]
  },
  {
   "cell_type": "code",
   "execution_count": 31,
   "id": "83cd5250",
   "metadata": {},
   "outputs": [
    {
     "name": "stdout",
     "output_type": "stream",
     "text": [
      "Multiplication =  1\n",
      "Multiplication =  2\n",
      "Multiplication =  6\n",
      "Multiplication =  24\n",
      "Multiplication =  120\n",
      "Multiplication =  720\n",
      "Multiplication =  5040\n",
      "Multiplication =  40320\n",
      "Multiplication =  362880\n",
      "Multiplication =  3628800\n",
      "Multiplication of first 10 numbers is = 3628800\n"
     ]
    }
   ],
   "source": [
    "n = 10\n",
    "i = 1\n",
    "multiplication = 1\n",
    "while i <= n:\n",
    "    multiplication *= i\n",
    "    print(\"Multiplication = \",multiplication)\n",
    "    i += 1\n",
    "    \n",
    "print(f\"Multiplication of first {n} numbers is = {multiplication}\")\n",
    "\n",
    "\n"
   ]
  },
  {
   "cell_type": "code",
   "execution_count": 33,
   "id": "4766d96b",
   "metadata": {},
   "outputs": [
    {
     "name": "stdout",
     "output_type": "stream",
     "text": [
      "At index 0 The value is 11\n",
      "At index 1 The value is 22\n",
      "At index 2 The value is 33\n",
      "At index 3 The value is 44\n",
      "At index 4 The value is 55\n"
     ]
    }
   ],
   "source": [
    "li = [11,22,33,44,55]\n",
    "i = 0\n",
    "while i < len(li):\n",
    "    print(f\"At index {i} The value is {li[i]}\")\n",
    "    i += 1"
   ]
  },
  {
   "cell_type": "code",
   "execution_count": 34,
   "id": "adeec225",
   "metadata": {},
   "outputs": [
    {
     "name": "stdout",
     "output_type": "stream",
     "text": [
      "At index 0 The value is P\n",
      "At index 1 The value is y\n",
      "At index 2 The value is t\n",
      "At index 3 The value is h\n",
      "At index 4 The value is o\n",
      "At index 5 The value is n\n"
     ]
    }
   ],
   "source": [
    "str1 = \"Python\"\n",
    "i = 0\n",
    "while i < len(str1):\n",
    "    print(f\"At index {i} The value is {str1[i]}\")\n",
    "    i += 1"
   ]
  },
  {
   "cell_type": "markdown",
   "id": "cb4cc752",
   "metadata": {},
   "source": [
    "# Loop control statement\n",
    "- break\n",
    "- continue"
   ]
  },
  {
   "cell_type": "markdown",
   "id": "32923439",
   "metadata": {},
   "source": [
    "# 1. break"
   ]
  },
  {
   "cell_type": "code",
   "execution_count": 35,
   "id": "ea059e99",
   "metadata": {},
   "outputs": [
    {
     "name": "stdout",
     "output_type": "stream",
     "text": [
      "0\n",
      "1\n",
      "2\n"
     ]
    }
   ],
   "source": [
    "for i in range(5):\n",
    "    if i == 3:\n",
    "        break\n",
    "    print(i)"
   ]
  },
  {
   "cell_type": "code",
   "execution_count": 37,
   "id": "f85580ac",
   "metadata": {},
   "outputs": [
    {
     "name": "stdout",
     "output_type": "stream",
     "text": [
      "0\n",
      "1\n",
      "2\n",
      "Number found\n"
     ]
    }
   ],
   "source": [
    "i = 0\n",
    "while i < 5:\n",
    "    if i == 3:\n",
    "        print(f\"Number found\")\n",
    "        break\n",
    "    print(i)\n",
    "    i += 1"
   ]
  },
  {
   "cell_type": "code",
   "execution_count": 38,
   "id": "563d4c99",
   "metadata": {},
   "outputs": [
    {
     "name": "stdout",
     "output_type": "stream",
     "text": [
      "0\n",
      "1\n",
      "2\n"
     ]
    }
   ],
   "source": [
    "i = 0\n",
    "while i < 5:\n",
    "    if i == 3:\n",
    "#         print(f\"Number found\")\n",
    "        break\n",
    "        print(f\"Number found\")\n",
    "    print(i)\n",
    "    i += 1"
   ]
  },
  {
   "cell_type": "code",
   "execution_count": 41,
   "id": "3f42b24d",
   "metadata": {},
   "outputs": [
    {
     "name": "stdout",
     "output_type": "stream",
     "text": [
      "Welome to PVR!\n",
      "How many tickets u want ?13\n",
      "Congratulation!. Your order number = 1, is confirmed...\n",
      "Congratulation!. Your order number = 2, is confirmed...\n",
      "Congratulation!. Your order number = 3, is confirmed...\n",
      "Congratulation!. Your order number = 4, is confirmed...\n",
      "Congratulation!. Your order number = 5, is confirmed...\n",
      "Congratulation!. Your order number = 6, is confirmed...\n",
      "Congratulation!. Your order number = 7, is confirmed...\n",
      "Congratulation!. Your order number = 8, is confirmed...\n",
      "Congratulation!. Your order number = 9, is confirmed...\n",
      "Congratulation!. Your order number = 10, is confirmed...\n",
      "Congratulation!. Your order number = 11, is confirmed...\n",
      "Congratulation!. Your order number = 12, is confirmed...\n",
      "Congratulation!. Your order number = 13, is confirmed...\n",
      "Enjoy your movie....\n"
     ]
    }
   ],
   "source": [
    "print(\"Welome to PVR!\")\n",
    "order_qty = int(input(\"How many tickets u want ?\"))\n",
    "i = 1\n",
    "while i <= order_qty:\n",
    "    print(f\"Congratulation!. Your order number = {i}, is confirmed...\")\n",
    "    i += 1\n",
    "    \n",
    "print(\"Enjoy your movie....\")"
   ]
  },
  {
   "cell_type": "code",
   "execution_count": 44,
   "id": "31e26f60",
   "metadata": {},
   "outputs": [
    {
     "name": "stdout",
     "output_type": "stream",
     "text": [
      "Welome to PVR!\n",
      "How many tickets u want ?15\n",
      "Congratulation!. Your order number = 1, is confirmed...\n",
      "Congratulation!. Your order number = 2, is confirmed...\n",
      "Congratulation!. Your order number = 3, is confirmed...\n",
      "Congratulation!. Your order number = 4, is confirmed...\n",
      "Congratulation!. Your order number = 5, is confirmed...\n",
      "Congratulation!. Your order number = 6, is confirmed...\n",
      "Congratulation!. Your order number = 7, is confirmed...\n",
      "Sorry! We are out if stock\n",
      "Enjoy your movie....\n"
     ]
    }
   ],
   "source": [
    "print(\"Welome to PVR!\")\n",
    "order_qty = int(input(\"How many tickets u want ?\"))\n",
    "stock = 7\n",
    "i = 1\n",
    "while i <= order_qty:\n",
    "    print(f\"Congratulation!. Your order number = {i}, is confirmed...\")\n",
    "    if i == stock:\n",
    "        print(\"Sorry! We are out if stock\")\n",
    "        break\n",
    "    i += 1\n",
    "    \n",
    "print(\"Enjoy your movie....\")"
   ]
  },
  {
   "cell_type": "code",
   "execution_count": 47,
   "id": "73425822",
   "metadata": {},
   "outputs": [
    {
     "name": "stdout",
     "output_type": "stream",
     "text": [
      "* \n",
      "* * \n",
      "* * * \n",
      "* * * * \n",
      "* * * * * \n",
      "* * * * \n",
      "* * * \n",
      "* * \n",
      "* \n"
     ]
    }
   ],
   "source": [
    "n = 5\n",
    "for i in range(1, n+ 1):\n",
    "    print(\"\"*(n-i) + \"* \"*i)\n",
    "    \n",
    "for i in range(n-1,0,-1):\n",
    "    print(\"\" *(n - i)+\"* \"*i)"
   ]
  },
  {
   "cell_type": "code",
   "execution_count": 50,
   "id": "afcc6243",
   "metadata": {},
   "outputs": [
    {
     "name": "stdout",
     "output_type": "stream",
     "text": [
      "* \n",
      "* * \n",
      "* * * \n",
      "* * * * \n",
      "* * * * * \n",
      "* * * * * \n",
      "* * * * \n",
      "* * * \n",
      "* * \n",
      "* \n"
     ]
    }
   ],
   "source": [
    "n = 5\n",
    "i = 1\n",
    "while i <= n:\n",
    "    print(\"\"*(n-i) + \"* \"*i)\n",
    "    i += 1\n",
    "    \n",
    "i = 5\n",
    "while i >= 1:\n",
    "    print(\"\"*(n-i) + \"* \"*i)\n",
    "    i -= 1"
   ]
  },
  {
   "cell_type": "markdown",
   "id": "500d56a5",
   "metadata": {},
   "source": [
    "# 2 Continue"
   ]
  },
  {
   "cell_type": "code",
   "execution_count": 51,
   "id": "554da3bb",
   "metadata": {},
   "outputs": [
    {
     "name": "stdout",
     "output_type": "stream",
     "text": [
      "i == 5\n",
      "i == 6\n",
      "Number found\n",
      "i == 7\n",
      "i == 8\n",
      "i == 9\n",
      "i == 10\n"
     ]
    }
   ],
   "source": [
    "i = 5\n",
    "while i <= 10:\n",
    "    print(f\"i == {i}\")\n",
    "    i += 1\n",
    "    if i == 7:\n",
    "        print(\"Number found\")\n",
    "        continue"
   ]
  },
  {
   "cell_type": "code",
   "execution_count": 52,
   "id": "8ce32add",
   "metadata": {},
   "outputs": [
    {
     "name": "stdout",
     "output_type": "stream",
     "text": [
      "i == 5\n",
      "i == 6\n",
      "i == 7\n",
      "i == 8\n",
      "i == 9\n",
      "i == 10\n"
     ]
    }
   ],
   "source": [
    "i = 5\n",
    "while i <= 10:\n",
    "    print(f\"i == {i}\")\n",
    "    i += 1\n",
    "    if i == 7:\n",
    "        continue\n",
    "        print(\"Number found\")\n",
    "#         continue"
   ]
  },
  {
   "cell_type": "markdown",
   "id": "84f1829f",
   "metadata": {},
   "source": [
    "# Factorial"
   ]
  },
  {
   "cell_type": "code",
   "execution_count": 53,
   "id": "449018cf",
   "metadata": {},
   "outputs": [
    {
     "name": "stdout",
     "output_type": "stream",
     "text": [
      "Factorial of 5 == 120\n"
     ]
    }
   ],
   "source": [
    "fact = 1\n",
    "n = 5\n",
    "for i in range(1,n+1):\n",
    "    fact *= i\n",
    "print(f\"Factorial of {n} == {fact}\")"
   ]
  },
  {
   "cell_type": "code",
   "execution_count": 56,
   "id": "1a74a1aa",
   "metadata": {},
   "outputs": [
    {
     "name": "stdout",
     "output_type": "stream",
     "text": [
      "Factorial of 5 == 120\n"
     ]
    }
   ],
   "source": [
    "fact = 1\n",
    "n = i = 5\n",
    "while i >= 1:\n",
    "    fact *= i\n",
    "    i -= 1\n",
    "print(f\"Factorial of {n} == {fact}\")"
   ]
  },
  {
   "cell_type": "raw",
   "id": "8c1d31e1",
   "metadata": {},
   "source": [
    "n = 5\n",
    "5 * 1 = 5\n",
    "5 * 2 = 10\n",
    "5 * 3 = 15"
   ]
  },
  {
   "cell_type": "code",
   "execution_count": 58,
   "id": "12b697a8",
   "metadata": {},
   "outputs": [
    {
     "name": "stdout",
     "output_type": "stream",
     "text": [
      "5 * 1  == 5\n",
      "5 * 2  == 10\n",
      "5 * 3  == 15\n",
      "5 * 4  == 20\n",
      "5 * 5  == 25\n",
      "5 * 6  == 30\n",
      "5 * 7  == 35\n",
      "5 * 8  == 40\n",
      "5 * 9  == 45\n",
      "5 * 10  == 50\n"
     ]
    }
   ],
   "source": [
    "n = 5\n",
    "i = 1\n",
    "while i <= 10:\n",
    "    print(f\"{n} * {i}  == {n * i}\")\n",
    "    i += 1"
   ]
  },
  {
   "cell_type": "code",
   "execution_count": 60,
   "id": "354263c9",
   "metadata": {},
   "outputs": [
    {
     "name": "stdout",
     "output_type": "stream",
     "text": [
      "9 * 1  == 9\n",
      "9 * 2  == 18\n",
      "9 * 3  == 27\n",
      "9 * 4  == 36\n",
      "9 * 5  == 45\n",
      "9 * 6  == 54\n",
      "9 * 7  == 63\n",
      "9 * 8  == 72\n",
      "9 * 9  == 81\n",
      "9 * 10  == 90\n"
     ]
    }
   ],
   "source": [
    "n = 9\n",
    "i = 1\n",
    "while i <= 10:\n",
    "    print(f\"{n} * {i}  == {n * i}\")\n",
    "    i += 1"
   ]
  },
  {
   "cell_type": "markdown",
   "id": "a39b4782",
   "metadata": {},
   "source": [
    "# While Else\n"
   ]
  },
  {
   "cell_type": "code",
   "execution_count": 65,
   "id": "8b1c9edd",
   "metadata": {},
   "outputs": [
    {
     "name": "stdout",
     "output_type": "stream",
     "text": [
      "0\n",
      "1\n",
      "2\n",
      "3\n",
      "4\n",
      "Loop Completed\n",
      "Outside the loop\n"
     ]
    }
   ],
   "source": [
    "for i in range(5):\n",
    "    print(i)\n",
    "else:\n",
    "    print(\"Loop Completed\")\n",
    "    \n",
    "print(\"Outside the loop\")"
   ]
  },
  {
   "cell_type": "code",
   "execution_count": 66,
   "id": "151e801d",
   "metadata": {},
   "outputs": [
    {
     "name": "stdout",
     "output_type": "stream",
     "text": [
      "0\n",
      "1\n",
      "2\n",
      "3\n",
      "4\n",
      "While loop completed\n",
      "Outside the loop\n"
     ]
    }
   ],
   "source": [
    "i = 0\n",
    "while i < 5:\n",
    "    print(i)\n",
    "    i += 1\n",
    "else:\n",
    "    print(\"While loop completed\")\n",
    "    \n",
    "print(\"Outside the loop\")"
   ]
  },
  {
   "cell_type": "code",
   "execution_count": 67,
   "id": "4784b727",
   "metadata": {},
   "outputs": [
    {
     "name": "stdout",
     "output_type": "stream",
     "text": [
      "0\n",
      "1\n",
      "2\n",
      "Outside the loop\n"
     ]
    }
   ],
   "source": [
    "for i in range(5):\n",
    "    if i == 3:\n",
    "        break\n",
    "    print(i)\n",
    "else:\n",
    "    print(\"Loop Completed\")\n",
    "    \n",
    "print(\"Outside the loop\")"
   ]
  },
  {
   "cell_type": "code",
   "execution_count": 68,
   "id": "5df1f949",
   "metadata": {},
   "outputs": [
    {
     "name": "stdout",
     "output_type": "stream",
     "text": [
      "0\n",
      "1\n",
      "2\n",
      "Outside the loop\n"
     ]
    }
   ],
   "source": [
    "i = 0\n",
    "while i < 5:\n",
    "    if i == 3:\n",
    "        break\n",
    "    print(i)\n",
    "    i += 1\n",
    "else:\n",
    "    print(\"While loop completed\")\n",
    "    \n",
    "print(\"Outside the loop\")"
   ]
  },
  {
   "cell_type": "code",
   "execution_count": 70,
   "id": "4b4b2697",
   "metadata": {},
   "outputs": [
    {
     "name": "stdout",
     "output_type": "stream",
     "text": [
      "Enter your age34\n",
      "Good to go for voting\n",
      "Enter your age556\n",
      "Good to go for voting\n",
      "Enter your age43\n",
      "Good to go for voting\n",
      "Enter your age34\n",
      "Good to go for voting\n",
      "Enter your age65\n",
      "Good to go for voting\n",
      "Enter your age76\n",
      "Good to go for voting\n",
      "Enter your age18\n",
      "Good to go for voting\n",
      "Enter your age13\n"
     ]
    }
   ],
   "source": [
    "while True:\n",
    "    Age = int(input(\"Enter your age\"))\n",
    "    if Age < 18:\n",
    "        break\n",
    "    else:\n",
    "        print(\"Good to go for voting\")"
   ]
  },
  {
   "cell_type": "code",
   "execution_count": 72,
   "id": "8aebf288",
   "metadata": {},
   "outputs": [
    {
     "name": "stdout",
     "output_type": "stream",
     "text": [
      "Enter your charvaibhav\n",
      "Char = vaibhav\n",
      "Enter your charsaurabh\n",
      "Char = saurabh\n",
      "Enter your charstop\n",
      "Char = stop\n",
      "Enter your charStop\n"
     ]
    }
   ],
   "source": [
    "while True:\n",
    "    ch = input(\"Enter your char\")\n",
    "    if ch == \"Stop\":\n",
    "        break\n",
    "    else:\n",
    "        print(f\"Char = {ch}\")"
   ]
  },
  {
   "cell_type": "code",
   "execution_count": null,
   "id": "a1e0d249",
   "metadata": {},
   "outputs": [],
   "source": []
  }
 ],
 "metadata": {
  "kernelspec": {
   "display_name": "Python 3 (ipykernel)",
   "language": "python",
   "name": "python3"
  },
  "language_info": {
   "codemirror_mode": {
    "name": "ipython",
    "version": 3
   },
   "file_extension": ".py",
   "mimetype": "text/x-python",
   "name": "python",
   "nbconvert_exporter": "python",
   "pygments_lexer": "ipython3",
   "version": "3.10.5"
  }
 },
 "nbformat": 4,
 "nbformat_minor": 5
}
