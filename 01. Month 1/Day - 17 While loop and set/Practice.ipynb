{
 "cells": [
  {
   "cell_type": "markdown",
   "id": "8a0ac897",
   "metadata": {},
   "source": [
    "# While Loop"
   ]
  },
  {
   "cell_type": "code",
   "execution_count": 1,
   "id": "1096ccc6",
   "metadata": {},
   "outputs": [
    {
     "name": "stdout",
     "output_type": "stream",
     "text": [
      "0\n",
      "1\n",
      "2\n",
      "3\n",
      "4\n"
     ]
    }
   ],
   "source": [
    "for i in range(5):\n",
    "    print(i)"
   ]
  },
  {
   "cell_type": "code",
   "execution_count": 7,
   "id": "c0dd0f3c",
   "metadata": {},
   "outputs": [
    {
     "name": "stdout",
     "output_type": "stream",
     "text": [
      "0\n",
      "1\n",
      "2\n",
      "3\n",
      "4\n",
      "5\n",
      "6\n"
     ]
    }
   ],
   "source": [
    "n = 6\n",
    "i = 0\n",
    "while i <= n: # 1 < 6 , 2 < 6, 3 , 4 , 5, 6 < 6\n",
    "    \n",
    "    print(i)\n",
    "    i += 1 \n",
    "    "
   ]
  },
  {
   "cell_type": "code",
   "execution_count": 28,
   "id": "4092f606",
   "metadata": {},
   "outputs": [
    {
     "name": "stdout",
     "output_type": "stream",
     "text": [
      "Enter your number up to 0-9: 4\n"
     ]
    }
   ],
   "source": [
    "lis1 = [0,1,2,3,4,5,6,7,8,9]\n",
    "number = []\n",
    "\n",
    "while number not in lis1:\n",
    "    number = int(input(\"Enter your number up to 0-9: \"))\n",
    "    if number > 9 :\n",
    "        \n",
    "        print(\"Incorrect number! Please type again (0-9)\")\n",
    "    else:\n",
    "        pass"
   ]
  },
  {
   "cell_type": "code",
   "execution_count": 14,
   "id": "e8c3f759",
   "metadata": {},
   "outputs": [
    {
     "name": "stdout",
     "output_type": "stream",
     "text": [
      "Enter your name: yash@123\n",
      "yash@123\n",
      "Enter your name: Yash@123\n",
      "yash@123\n",
      "Enter your name: Yash%123\n",
      "yash%123\n",
      "Enter your name: Yash123\n",
      "yash123\n"
     ]
    }
   ],
   "source": [
    "name = \"\"\n",
    "\n",
    "while not name.isalnum():\n",
    "    name = input(\"Enter your name: \").lower()\n",
    "    print(name)\n",
    "    \n",
    "# if len(name) < 8:\n",
    "#     print(\"name should not be less than 8 characters\")\n",
    "# else:\n",
    "#     pass"
   ]
  },
  {
   "cell_type": "code",
   "execution_count": 13,
   "id": "0265cbd6",
   "metadata": {},
   "outputs": [
    {
     "name": "stdout",
     "output_type": "stream",
     "text": [
      "                    * * * * *                     \n",
      "                    * * * * *                     \n",
      "                    * * * * *                     \n",
      "                    * * * * *                     \n",
      "                    * * * * *                     \n"
     ]
    }
   ],
   "source": [
    "n = 5\n",
    "i = 0\n",
    "\n",
    "start = \"* \"*5\n",
    "\n",
    "while i < n:\n",
    "    print(start.center(50))\n",
    "    i += 1"
   ]
  },
  {
   "cell_type": "code",
   "execution_count": 21,
   "id": "5149db57",
   "metadata": {},
   "outputs": [
    {
     "name": "stdout",
     "output_type": "stream",
     "text": [
      " *\n",
      " * *\n",
      " * * *\n",
      " * * * *\n",
      " * * * * *\n",
      " * * * * * *\n"
     ]
    }
   ],
   "source": [
    "n = 6\n",
    "i = 1\n",
    "\n",
    "while i <= n: # 1 < 6\n",
    "    print(\" *\"*i)\n",
    "    i += 1"
   ]
  },
  {
   "cell_type": "code",
   "execution_count": 14,
   "id": "9cd52758",
   "metadata": {},
   "outputs": [
    {
     "name": "stdout",
     "output_type": "stream",
     "text": [
      " *\n",
      " * *\n",
      " * * *\n",
      " * * * *\n",
      " * * * * *\n"
     ]
    }
   ],
   "source": [
    "n = 6\n",
    "i = 1\n",
    "\n",
    "while i < n: # 1 < 6\n",
    "    print(\" *\"*i)\n",
    "    i += 1"
   ]
  },
  {
   "cell_type": "code",
   "execution_count": 31,
   "id": "fbf35a11",
   "metadata": {},
   "outputs": [
    {
     "name": "stdout",
     "output_type": "stream",
     "text": [
      "       *\n",
      "       * *\n",
      "       * * *\n",
      "       * * * *\n",
      "       * * * * *\n",
      "       * * * * * *\n"
     ]
    }
   ],
   "source": [
    "n = 6\n",
    "i = 1\n",
    "\n",
    "while i <= n: # 1 < 6\n",
    "    print(\" \"*(n-1),\" *\"*i)\n",
    "    i += 1"
   ]
  },
  {
   "cell_type": "code",
   "execution_count": 28,
   "id": "b9d40bb1",
   "metadata": {},
   "outputs": [
    {
     "name": "stdout",
     "output_type": "stream",
     "text": [
      "* * * * * * \n",
      "* * * * * \n",
      "* * * * \n",
      "* * * \n",
      "* * \n",
      "* \n"
     ]
    }
   ],
   "source": [
    "n = 6\n",
    "i = 1\n",
    "while i <= n :\n",
    "    j = n\n",
    "    while j >= i:  # 6 >= 1 True\n",
    "        print(\"*\", end = \" \")\n",
    "        j -= 1\n",
    "    print()\n",
    "    i += 1"
   ]
  },
  {
   "cell_type": "code",
   "execution_count": null,
   "id": "818130c5",
   "metadata": {},
   "outputs": [],
   "source": []
  },
  {
   "cell_type": "code",
   "execution_count": 11,
   "id": "f5def9cd",
   "metadata": {},
   "outputs": [
    {
     "name": "stdout",
     "output_type": "stream",
     "text": [
      " * * * * *\n",
      " * * * *\n",
      " * * *\n"
     ]
    }
   ],
   "source": [
    "n = 5\n",
    "m = n-1\n",
    "j = m-1\n",
    "print(\" *\"*n)\n",
    "print(\" *\"*m)\n",
    "print(\" *\"*j)"
   ]
  },
  {
   "cell_type": "code",
   "execution_count": null,
   "id": "97cf853b",
   "metadata": {},
   "outputs": [],
   "source": [
    "n = 6\n",
    "i = 1\n",
    "j = \n",
    "while i < n: # 1 < 6\n",
    "    while j\n",
    "    print(\" *\"*i)\n",
    "    i += 1"
   ]
  },
  {
   "cell_type": "code",
   "execution_count": 12,
   "id": "eedc8a27",
   "metadata": {},
   "outputs": [
    {
     "name": "stdout",
     "output_type": "stream",
     "text": [
      " *\n",
      " * *\n",
      " * * *\n",
      " * * * *\n",
      " * * * * *\n",
      " * * * * * *\n"
     ]
    }
   ],
   "source": [
    "n = 6\n",
    "for i in range(1,n+1):\n",
    "    print(\" *\"*i)"
   ]
  },
  {
   "cell_type": "code",
   "execution_count": 9,
   "id": "1b9df66a",
   "metadata": {},
   "outputs": [
    {
     "name": "stdout",
     "output_type": "stream",
     "text": [
      "* * * * * * \n",
      "* * * * * \n",
      "* * * * \n",
      "* * * \n",
      "* * \n",
      "* \n"
     ]
    }
   ],
   "source": [
    "n = 6\n",
    "for i in range(n,0,-1):\n",
    "    print(\"* \"*i)"
   ]
  },
  {
   "cell_type": "code",
   "execution_count": 9,
   "id": "f1d80f6b",
   "metadata": {},
   "outputs": [
    {
     "name": "stdout",
     "output_type": "stream",
     "text": [
      "1\n",
      "2\n",
      "6\n",
      "24\n"
     ]
    }
   ],
   "source": [
    "n = 5\n",
    "multi = 1\n",
    "i = 1\n",
    "\n",
    "while i < n:\n",
    "    \n",
    "    multi *= i\n",
    "    print(multi)\n",
    "    i+=1"
   ]
  },
  {
   "cell_type": "markdown",
   "id": "4e2aeba8",
   "metadata": {},
   "source": [
    "# adition of number up N"
   ]
  },
  {
   "cell_type": "code",
   "execution_count": 13,
   "id": "d9cf6ab5",
   "metadata": {},
   "outputs": [
    {
     "name": "stdout",
     "output_type": "stream",
     "text": [
      "i = 0 & addition is: 0\n",
      "i = 1 & addition is: 1\n",
      "i = 2 & addition is: 3\n",
      "i = 3 & addition is: 6\n",
      "i = 4 & addition is: 10\n",
      "i = 5 & addition is: 15\n",
      "i = 6 & addition is: 21\n",
      "i = 7 & addition is: 28\n",
      "i = 8 & addition is: 36\n",
      "i = 9 & addition is: 45\n"
     ]
    }
   ],
   "source": [
    "n = 10\n",
    "\n",
    "add = 0\n",
    "i = 0\n",
    "\n",
    "while i < n:\n",
    "    add += i\n",
    "    print(f\"i = {i} & addition is: {add}\")\n",
    "    i += 1"
   ]
  },
  {
   "cell_type": "code",
   "execution_count": 18,
   "id": "42c81f4f",
   "metadata": {},
   "outputs": [
    {
     "name": "stdout",
     "output_type": "stream",
     "text": [
      "i == 5\n",
      "i == 6\n",
      "i == 7\n",
      "i == 8\n",
      "i == 9\n",
      "i == 10\n"
     ]
    }
   ],
   "source": [
    "i = 5\n",
    "while i <= 10:\n",
    "    print(f\"i == {i}\")\n",
    "    i += 1\n",
    "    if i == 7:\n",
    "        continue\n",
    "        print(\"Number found\")"
   ]
  },
  {
   "cell_type": "code",
   "execution_count": null,
   "id": "0219b3de",
   "metadata": {},
   "outputs": [],
   "source": []
  }
 ],
 "metadata": {
  "kernelspec": {
   "display_name": "Python 3 (ipykernel)",
   "language": "python",
   "name": "python3"
  },
  "language_info": {
   "codemirror_mode": {
    "name": "ipython",
    "version": 3
   },
   "file_extension": ".py",
   "mimetype": "text/x-python",
   "name": "python",
   "nbconvert_exporter": "python",
   "pygments_lexer": "ipython3",
   "version": "3.9.12"
  }
 },
 "nbformat": 4,
 "nbformat_minor": 5
}
