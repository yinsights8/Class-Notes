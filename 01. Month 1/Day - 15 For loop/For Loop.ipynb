{
 "cells": [
  {
   "cell_type": "markdown",
   "id": "d9101a0d",
   "metadata": {},
   "source": [
    "# Loop In Python\n",
    "- We have two types of loop in python\n",
    "- 1. For Loop\n",
    "- 2. While Loop"
   ]
  },
  {
   "cell_type": "markdown",
   "id": "7252f8e6",
   "metadata": {},
   "source": [
    "# For Loop\n",
    "- For loop works like an iterator(It is an object used to traverse over the iterable)\n",
    "- Sequence ---> String, List, tuple, set, dict, range, arrays, dataframes\n",
    "- Syntax :-"
   ]
  },
  {
   "cell_type": "raw",
   "id": "c6294b2f",
   "metadata": {},
   "source": [
    "for variable_name in sequence:\n",
    "    Statement-1\n",
    "    Statement-2\n",
    "    Statement-3\n",
    "        .\n",
    "        .\n",
    "    Statement-n-1\n",
    "    Statement-n\n",
    "    \n",
    "for index, item in enumerate(sequence):\n",
    "    Statement-1\n",
    "    Statement-2\n",
    "    Statement-3\n",
    "        .\n",
    "        .\n",
    "    Statement-n-1\n",
    "    Statement-n"
   ]
  },
  {
   "cell_type": "code",
   "execution_count": 1,
   "id": "6db82e5a",
   "metadata": {},
   "outputs": [
    {
     "name": "stdout",
     "output_type": "stream",
     "text": [
      "Python & Data Science\n",
      "Python & Data Science\n",
      "Python & Data Science\n",
      "Python & Data Science\n",
      "Python & Data Science\n"
     ]
    }
   ],
   "source": [
    "# Want to print the statement for 5 times\n",
    "print(\"Python & Data Science\")\n",
    "print(\"Python & Data Science\")\n",
    "print(\"Python & Data Science\")\n",
    "print(\"Python & Data Science\")\n",
    "print(\"Python & Data Science\")"
   ]
  },
  {
   "cell_type": "code",
   "execution_count": 2,
   "id": "ddd70570",
   "metadata": {},
   "outputs": [
    {
     "name": "stdout",
     "output_type": "stream",
     "text": [
      "Python & Data Science\n",
      "Python & Data Science\n",
      "Python & Data Science\n",
      "Python & Data Science\n",
      "Python & Data Science\n",
      "Python & Data Science\n",
      "Python & Data Science\n",
      "Python & Data Science\n",
      "Python & Data Science\n",
      "Python & Data Science\n"
     ]
    }
   ],
   "source": [
    "# Want to print the statement for 10 times\n",
    "print(\"Python & Data Science\")\n",
    "print(\"Python & Data Science\")\n",
    "print(\"Python & Data Science\")\n",
    "print(\"Python & Data Science\")\n",
    "print(\"Python & Data Science\")\n",
    "print(\"Python & Data Science\")\n",
    "print(\"Python & Data Science\")\n",
    "print(\"Python & Data Science\")\n",
    "print(\"Python & Data Science\")\n",
    "print(\"Python & Data Science\")"
   ]
  },
  {
   "cell_type": "code",
   "execution_count": 3,
   "id": "759027cf",
   "metadata": {},
   "outputs": [
    {
     "name": "stdout",
     "output_type": "stream",
     "text": [
      "0\n",
      "1\n",
      "2\n",
      "3\n",
      "4\n"
     ]
    }
   ],
   "source": [
    "for i in range(5):\n",
    "    print(i)"
   ]
  },
  {
   "cell_type": "code",
   "execution_count": 4,
   "id": "eabc3fa3",
   "metadata": {},
   "outputs": [
    {
     "name": "stdout",
     "output_type": "stream",
     "text": [
      "0\n",
      "1\n",
      "2\n",
      "3\n",
      "4\n"
     ]
    }
   ],
   "source": [
    "print(0)\n",
    "print(1)\n",
    "print(2)\n",
    "print(3)\n",
    "print(4)"
   ]
  },
  {
   "cell_type": "code",
   "execution_count": 5,
   "id": "16b8e38f",
   "metadata": {},
   "outputs": [
    {
     "name": "stdout",
     "output_type": "stream",
     "text": [
      "Python & Data Science\n",
      "Python & Data Science\n",
      "Python & Data Science\n",
      "Python & Data Science\n",
      "Python & Data Science\n"
     ]
    }
   ],
   "source": [
    "for i in range(5): # 0,1,2,3,4\n",
    "    print(\"Python & Data Science\")"
   ]
  },
  {
   "cell_type": "code",
   "execution_count": 6,
   "id": "122de850",
   "metadata": {},
   "outputs": [
    {
     "name": "stdout",
     "output_type": "stream",
     "text": [
      "Python & Data Science\n",
      "Python & Data Science\n",
      "Python & Data Science\n",
      "Python & Data Science\n",
      "Python & Data Science\n",
      "Python & Data Science\n",
      "Python & Data Science\n",
      "Python & Data Science\n",
      "Python & Data Science\n",
      "Python & Data Science\n"
     ]
    }
   ],
   "source": [
    "for i in range(10): # 0,1,2,3,4,5,6,7,8,9\n",
    "    print(\"Python & Data Science\")"
   ]
  },
  {
   "cell_type": "markdown",
   "id": "33237497",
   "metadata": {},
   "source": [
    "## For loop on String"
   ]
  },
  {
   "cell_type": "code",
   "execution_count": 8,
   "id": "a61e1073",
   "metadata": {},
   "outputs": [
    {
     "name": "stdout",
     "output_type": "stream",
     "text": [
      "D\n",
      "a\n",
      "t\n",
      "a\n",
      " \n",
      "S\n",
      "c\n",
      "i\n",
      "e\n",
      "n\n",
      "c\n",
      "e\n"
     ]
    }
   ],
   "source": [
    "string = \"Data Science\"\n",
    "len(string)\n",
    "for char in string: # 12\n",
    "    print(char)"
   ]
  },
  {
   "cell_type": "code",
   "execution_count": 9,
   "id": "b6ada3d1",
   "metadata": {},
   "outputs": [
    {
     "name": "stdout",
     "output_type": "stream",
     "text": [
      "0\n",
      "1\n",
      "2\n",
      "3\n",
      "4\n",
      "5\n",
      "6\n",
      "7\n",
      "8\n",
      "9\n",
      "10\n",
      "11\n"
     ]
    }
   ],
   "source": [
    "string = \"Data Science\"\n",
    "len(string) # 12\n",
    "for char in range(len(string)): # 12 times\n",
    "    print(char)"
   ]
  },
  {
   "cell_type": "code",
   "execution_count": 11,
   "id": "502bb424",
   "metadata": {},
   "outputs": [
    {
     "data": {
      "text/plain": [
       "'P'"
      ]
     },
     "execution_count": 11,
     "metadata": {},
     "output_type": "execute_result"
    }
   ],
   "source": [
    "\"Python\"[0]"
   ]
  },
  {
   "cell_type": "code",
   "execution_count": 10,
   "id": "3a637a03",
   "metadata": {},
   "outputs": [
    {
     "name": "stdout",
     "output_type": "stream",
     "text": [
      "D\n",
      "a\n",
      "t\n",
      "a\n",
      " \n",
      "S\n",
      "c\n",
      "i\n",
      "e\n",
      "n\n",
      "c\n",
      "e\n"
     ]
    }
   ],
   "source": [
    "string = \"Data Science\"\n",
    "len(string) # 12\n",
    "for char in range(len(string)): # 12 times\n",
    "    print(string[char])"
   ]
  },
  {
   "cell_type": "code",
   "execution_count": 13,
   "id": "778879d5",
   "metadata": {},
   "outputs": [
    {
     "name": "stdout",
     "output_type": "stream",
     "text": [
      "This is Data Science class P\n",
      "This is Data Science class y\n",
      "This is Data Science class t\n",
      "This is Data Science class h\n",
      "This is Data Science class o\n",
      "This is Data Science class n\n"
     ]
    }
   ],
   "source": [
    "string = \"Python\"\n",
    "for char in string: # 6 times\n",
    "    print(\"This is Data Science class\",char)"
   ]
  },
  {
   "cell_type": "code",
   "execution_count": 14,
   "id": "4a3f8be3",
   "metadata": {},
   "outputs": [
    {
     "name": "stdout",
     "output_type": "stream",
     "text": [
      "0 P\n",
      "1 y\n",
      "2 t\n",
      "3 h\n",
      "4 o\n",
      "5 n\n"
     ]
    }
   ],
   "source": [
    "string = \"Python\"\n",
    "for index,char in enumerate(string): # 6 times\n",
    "    print(index,char)"
   ]
  },
  {
   "cell_type": "code",
   "execution_count": 15,
   "id": "2b1b2cea",
   "metadata": {},
   "outputs": [
    {
     "name": "stdout",
     "output_type": "stream",
     "text": [
      "0 P P\n",
      "1 y y\n",
      "2 t t\n",
      "3 h h\n",
      "4 o o\n",
      "5 n n\n"
     ]
    }
   ],
   "source": [
    "string = \"Python\"\n",
    "for index,char in enumerate(string): # 6 times\n",
    "    print(index,char,string[index])"
   ]
  },
  {
   "cell_type": "code",
   "execution_count": 16,
   "id": "2debe293",
   "metadata": {},
   "outputs": [
    {
     "name": "stdout",
     "output_type": "stream",
     "text": [
      "The char on the index = 0 is P\n",
      "The char on the index = 1 is y\n",
      "The char on the index = 2 is t\n",
      "The char on the index = 3 is h\n",
      "The char on the index = 4 is o\n",
      "The char on the index = 5 is n\n"
     ]
    }
   ],
   "source": [
    "string = \"Python\"\n",
    "for index,char in enumerate(string): # 6 times\n",
    "    print(f\"The char on the index = {index} is {char}\")"
   ]
  },
  {
   "cell_type": "code",
   "execution_count": 17,
   "id": "963fd8ce",
   "metadata": {},
   "outputs": [
    {
     "data": {
      "text/plain": [
       "5"
      ]
     },
     "execution_count": 17,
     "metadata": {},
     "output_type": "execute_result"
    }
   ],
   "source": [
    "index"
   ]
  },
  {
   "cell_type": "code",
   "execution_count": 18,
   "id": "c46dbd11",
   "metadata": {},
   "outputs": [
    {
     "data": {
      "text/plain": [
       "'n'"
      ]
     },
     "execution_count": 18,
     "metadata": {},
     "output_type": "execute_result"
    }
   ],
   "source": [
    "char"
   ]
  },
  {
   "cell_type": "markdown",
   "id": "5d9f38bf",
   "metadata": {},
   "source": [
    "## For loop on List"
   ]
  },
  {
   "cell_type": "code",
   "execution_count": 20,
   "id": "4401ab13",
   "metadata": {},
   "outputs": [
    {
     "name": "stdout",
     "output_type": "stream",
     "text": [
      "0\n",
      "1\n",
      "2\n",
      "3\n",
      "4\n"
     ]
    }
   ],
   "source": [
    "li = [11,22,33,44,55]\n",
    "for item in range(len(li)):\n",
    "    print(item)"
   ]
  },
  {
   "cell_type": "code",
   "execution_count": 21,
   "id": "c7987e42",
   "metadata": {},
   "outputs": [
    {
     "data": {
      "text/plain": [
       "11"
      ]
     },
     "execution_count": 21,
     "metadata": {},
     "output_type": "execute_result"
    }
   ],
   "source": [
    "li[0]"
   ]
  },
  {
   "cell_type": "code",
   "execution_count": 22,
   "id": "bba518c2",
   "metadata": {},
   "outputs": [
    {
     "name": "stdout",
     "output_type": "stream",
     "text": [
      "11\n",
      "22\n",
      "33\n",
      "44\n",
      "55\n"
     ]
    }
   ],
   "source": [
    "li = [11,22,33,44,55]\n",
    "for item in range(len(li)):\n",
    "    print(li[item])"
   ]
  },
  {
   "cell_type": "code",
   "execution_count": 23,
   "id": "53d85e5a",
   "metadata": {},
   "outputs": [
    {
     "name": "stdout",
     "output_type": "stream",
     "text": [
      "11\n",
      "22\n",
      "33\n",
      "44\n",
      "55\n"
     ]
    }
   ],
   "source": [
    "li = [11,22,33,44,55]\n",
    "for item in li:\n",
    "    print(item)"
   ]
  },
  {
   "cell_type": "code",
   "execution_count": 24,
   "id": "a73af2df",
   "metadata": {},
   "outputs": [
    {
     "name": "stdout",
     "output_type": "stream",
     "text": [
      "0 11\n",
      "1 22\n",
      "2 33\n",
      "3 44\n",
      "4 55\n"
     ]
    }
   ],
   "source": [
    "li = [11,22,33,44,55]\n",
    "for index,item in enumerate(li):\n",
    "    print(index,item)"
   ]
  },
  {
   "cell_type": "code",
   "execution_count": 25,
   "id": "c543ebe3",
   "metadata": {},
   "outputs": [
    {
     "name": "stdout",
     "output_type": "stream",
     "text": [
      "0 11 11\n",
      "1 22 22\n",
      "2 33 33\n",
      "3 44 44\n",
      "4 55 55\n"
     ]
    }
   ],
   "source": [
    "li = [11,22,33,44,55]\n",
    "for index,item in enumerate(li):\n",
    "    print(index,item,li[index])"
   ]
  },
  {
   "cell_type": "code",
   "execution_count": 26,
   "id": "34b60ea0",
   "metadata": {},
   "outputs": [
    {
     "name": "stdout",
     "output_type": "stream",
     "text": [
      "The item on the index = 0 is 11\n",
      "The item on the index = 1 is 22\n",
      "The item on the index = 2 is 33\n",
      "The item on the index = 3 is 44\n",
      "The item on the index = 4 is 55\n"
     ]
    }
   ],
   "source": [
    "li = [11,22,33,44,55]\n",
    "for index,item in enumerate(li):\n",
    "    print(f\"The item on the index = {index} is {item}\")"
   ]
  },
  {
   "cell_type": "code",
   "execution_count": 28,
   "id": "3b57a520",
   "metadata": {},
   "outputs": [
    {
     "name": "stdout",
     "output_type": "stream",
     "text": [
      "The value (1) is of int type\n",
      "The value (2) is of int type\n",
      "The value (3) is of int type\n",
      "The value (4) is of int type\n",
      "The value (5) is of int type\n"
     ]
    }
   ],
   "source": [
    "li = [1,2,3,4,5,2.3,4.5,4.6,\"Python\",\"DS\",9.9,\"ML\"]\n",
    "for value in li:\n",
    "    if type(value) == int:\n",
    "        print(f\"The value ({value}) is of int type\")"
   ]
  },
  {
   "cell_type": "code",
   "execution_count": 2,
   "id": "4b768e2b",
   "metadata": {},
   "outputs": [
    {
     "name": "stdout",
     "output_type": "stream",
     "text": [
      "The value (1) is of int type\n",
      "The value (2) is of int type\n",
      "The value (3) is of int type\n",
      "The value (4) is of int type\n",
      "The value (5) is of int type\n",
      "The value (2.3) is of float type\n",
      "The value (4.5) is of float type\n",
      "The value (4.6) is of float type\n",
      "The value (Python) is of string type\n",
      "The value (DS) is of string type\n",
      "The value (9.9) is of float type\n",
      "The value (ML) is of string type\n"
     ]
    }
   ],
   "source": [
    "li = [1,2,3,4,5,2.3,4.5,4.6,\"Python\",\"DS\",9.9,\"ML\"]\n",
    "for value in li:\n",
    "    if type(value) == int:\n",
    "        print(f\"The value ({value}) is of int type\")\n",
    "        \n",
    "    elif type(value) == float:\n",
    "        print(f\"The value ({value}) is of float type\")\n",
    "    \n",
    "    else:\n",
    "        print(f\"The value ({value}) is of string type\")"
   ]
  },
  {
   "cell_type": "code",
   "execution_count": 4,
   "id": "cc2cb5a3",
   "metadata": {},
   "outputs": [
    {
     "name": "stdout",
     "output_type": "stream",
     "text": [
      "Int list    = [1, 2, 3, 4, 5, 999, 888]\n",
      "Float list  = [2.3, 4.5, 4.6, 9.9]\n",
      "String list = ['Python', 'DS', 'ML']\n"
     ]
    }
   ],
   "source": [
    "li = [1,2,3,4,5,2.3,4.5,4.6,\"Python\",\"DS\",9.9,\"ML\",999,888]\n",
    "int_li = []\n",
    "float_li = []\n",
    "string_li = []\n",
    "for value in li:\n",
    "    if type(value) == int:\n",
    "        int_li.append(value)\n",
    "        \n",
    "    elif type(value) == float:\n",
    "        float_li.append(value)\n",
    "    \n",
    "    else:\n",
    "        string_li.append(value)\n",
    "        \n",
    "        \n",
    "print(f\"Int list    = {int_li}\")\n",
    "print(f\"Float list  = {float_li}\")\n",
    "print(f\"String list = {string_li}\")"
   ]
  },
  {
   "cell_type": "code",
   "execution_count": 5,
   "id": "360842ec",
   "metadata": {},
   "outputs": [
    {
     "name": "stdout",
     "output_type": "stream",
     "text": [
      "Int list    = [1, 2, 3, 4, 5, 999, 888]\n",
      "Float list  = [2.3, 4.5, 4.6, 9.9]\n",
      "String list = ['python', 'ds', 'ml']\n"
     ]
    }
   ],
   "source": [
    "li = [1,2,3,4,5,2.3,4.5,4.6,\"Python\",\"DS\",9.9,\"ML\",999,888]\n",
    "int_li = []\n",
    "float_li = []\n",
    "string_li = []\n",
    "for value in li:\n",
    "    if type(value) == int:\n",
    "        int_li.append(value)\n",
    "        \n",
    "    elif type(value) == float:\n",
    "        float_li.append(value)\n",
    "    \n",
    "    else:\n",
    "        string_li.append(value.lower())\n",
    "        \n",
    "        \n",
    "print(f\"Int list    = {int_li}\")\n",
    "print(f\"Float list  = {float_li}\")\n",
    "print(f\"String list = {string_li}\")"
   ]
  },
  {
   "cell_type": "code",
   "execution_count": 8,
   "id": "9fcd3aa6",
   "metadata": {},
   "outputs": [
    {
     "name": "stdout",
     "output_type": "stream",
     "text": [
      "Int list    = [1, 2, 3, 4, 5, 999, 888]\n",
      "Float list  = [2.3, 4.5, 4.6, 9.9]\n",
      "String list = ['python', 'ds', 'ml']\n"
     ]
    }
   ],
   "source": [
    "li = [1,2,3,4,5,2.3,4.5,4.6,\"Python\",\"DS\",9.9,\"ML\",999,888]\n",
    "int_li = []\n",
    "float_li = []\n",
    "string_li = []\n",
    "for value in li:\n",
    "    if type(value) == int:\n",
    "        int_li.append(value)\n",
    "        \n",
    "    elif type(value) == float:\n",
    "        float_li.append(value)\n",
    "    \n",
    "    else:\n",
    "        lower_str = value.lower()\n",
    "        string_li.append(lower_str)\n",
    "        \n",
    "        \n",
    "print(f\"Int list    = {int_li}\")\n",
    "print(f\"Float list  = {float_li}\")\n",
    "print(f\"String list = {string_li}\")"
   ]
  },
  {
   "cell_type": "code",
   "execution_count": 10,
   "id": "c2c41f2c",
   "metadata": {},
   "outputs": [
    {
     "name": "stdout",
     "output_type": "stream",
     "text": [
      "Int list    = [1, 2, 3, 4, 5, 999, 888],7,7\n",
      "Float list  = [2.3, 4.5, 4.6, 9.9]\n",
      "String list = ['python', 'ds', 'ml']\n"
     ]
    }
   ],
   "source": [
    "li = [1,2,3,4,5,2.3,4.5,4.6,\"Python\",\"DS\",9.9,\"ML\",999,888]\n",
    "int_li = []\n",
    "float_li = []\n",
    "string_li = []\n",
    "int_cnt = 0\n",
    "for value in li:\n",
    "    if type(value) == int:\n",
    "        int_li.append(value)\n",
    "        int_cnt += 1\n",
    "        \n",
    "    elif type(value) == float:\n",
    "        float_li.append(value)\n",
    "    \n",
    "    else:\n",
    "        lower_str = value.lower()\n",
    "        string_li.append(lower_str)\n",
    "        \n",
    "        \n",
    "print(f\"Int list    = {int_li},{int_cnt},{len(int_li)}\")\n",
    "print(f\"Float list  = {float_li}\")\n",
    "print(f\"String list = {string_li}\")"
   ]
  },
  {
   "cell_type": "markdown",
   "id": "f67550b7",
   "metadata": {},
   "source": [
    "#  Loop Control Statements\n",
    "- Used for controlling the flow of the loop\n",
    "1. break\n",
    "2. continue\n",
    "3. pass"
   ]
  },
  {
   "cell_type": "markdown",
   "id": "e847dd41",
   "metadata": {},
   "source": [
    "### 1. break statement\n",
    "- Used to exit the for loop."
   ]
  },
  {
   "cell_type": "code",
   "execution_count": 11,
   "id": "354410f4",
   "metadata": {},
   "outputs": [
    {
     "name": "stdout",
     "output_type": "stream",
     "text": [
      "0\n",
      "1\n",
      "2\n",
      "3\n",
      "4\n"
     ]
    }
   ],
   "source": [
    "for i in range(5):\n",
    "    print(i)"
   ]
  },
  {
   "cell_type": "code",
   "execution_count": 12,
   "id": "221fcf5b",
   "metadata": {},
   "outputs": [
    {
     "name": "stdout",
     "output_type": "stream",
     "text": [
      "0\n",
      "1\n",
      "2\n"
     ]
    }
   ],
   "source": [
    "for i in range(5):\n",
    "    if i == 3:\n",
    "        break\n",
    "    print(i)"
   ]
  },
  {
   "cell_type": "code",
   "execution_count": 14,
   "id": "964986bc",
   "metadata": {},
   "outputs": [
    {
     "name": "stdout",
     "output_type": "stream",
     "text": [
      "i ---------> 0\n",
      "i ---------> 1\n",
      "i ---------> 2\n",
      "i ---------> 3\n",
      "i ---------> 4\n",
      "i ---------> 5\n",
      "i ---------> 6\n",
      "i ---------> 7\n",
      "i ---------> 8\n",
      "i ---------> 9\n"
     ]
    }
   ],
   "source": [
    "for i in range(50):\n",
    "    if i == 10:\n",
    "        break\n",
    "    print(\"i --------->\",i)"
   ]
  },
  {
   "cell_type": "code",
   "execution_count": 16,
   "id": "c99a2094",
   "metadata": {},
   "outputs": [
    {
     "name": "stdout",
     "output_type": "stream",
     "text": [
      "i ---------> 0\n",
      "i ---------> 1\n",
      "i ---------> 2\n",
      "i ---------> 3\n",
      "i ---------> 4\n",
      "i ---------> 5\n",
      "i ---------> 6\n",
      "i ---------> 7\n",
      "i ---------> 8\n",
      "i ---------> 9\n",
      "i ---------> 10\n"
     ]
    }
   ],
   "source": [
    "for i in range(50):\n",
    "    print(\"i --------->\",i)\n",
    "    if i == 10:\n",
    "        break"
   ]
  },
  {
   "cell_type": "code",
   "execution_count": 21,
   "id": "a365abd3",
   "metadata": {},
   "outputs": [
    {
     "name": "stdout",
     "output_type": "stream",
     "text": [
      "Welome to PVR!\n",
      "How many tickets u want ?10\n",
      "Congratulation!. Your order number = 1, is confirmed...\n",
      "Congratulation!. Your order number = 2, is confirmed...\n",
      "Congratulation!. Your order number = 3, is confirmed...\n",
      "Congratulation!. Your order number = 4, is confirmed...\n",
      "Congratulation!. Your order number = 5, is confirmed...\n",
      "Congratulation!. Your order number = 6, is confirmed...\n",
      "Congratulation!. Your order number = 7, is confirmed...\n",
      "Congratulation!. Your order number = 8, is confirmed...\n",
      "Congratulation!. Your order number = 9, is confirmed...\n",
      "Congratulation!. Your order number = 10, is confirmed...\n",
      "Enjoy your movie....\n"
     ]
    }
   ],
   "source": [
    "print(\"Welome to PVR!\")\n",
    "order_qty = int(input(\"How many tickets u want ?\"))\n",
    "for i in range(1,order_qty+1):\n",
    "    print(f\"Congratulation!. Your order number = {i}, is confirmed...\")\n",
    "    \n",
    "print(\"Enjoy your movie....\")"
   ]
  },
  {
   "cell_type": "code",
   "execution_count": 22,
   "id": "a0ab62a2",
   "metadata": {},
   "outputs": [
    {
     "name": "stdout",
     "output_type": "stream",
     "text": [
      "Welome to PVR!\n",
      "How many tickets u want ?5\n",
      "Congratulation!. Your order number = 1, is confirmed...\n",
      "Congratulation!. Your order number = 2, is confirmed...\n",
      "Congratulation!. Your order number = 3, is confirmed...\n",
      "Congratulation!. Your order number = 4, is confirmed...\n",
      "Congratulation!. Your order number = 5, is confirmed...\n",
      "Enjoy your movie....\n"
     ]
    }
   ],
   "source": [
    "print(\"Welome to PVR!\")\n",
    "order_qty = int(input(\"How many tickets u want ?\"))\n",
    "for i in range(1,order_qty+1):\n",
    "    print(f\"Congratulation!. Your order number = {i}, is confirmed...\")\n",
    "    \n",
    "print(\"Enjoy your movie....\")"
   ]
  },
  {
   "cell_type": "code",
   "execution_count": 23,
   "id": "3172e1dc",
   "metadata": {},
   "outputs": [
    {
     "name": "stdout",
     "output_type": "stream",
     "text": [
      "Welome to PVR!\n",
      "How many tickets u want ?50\n",
      "Congratulation!. Your order number = 1, is confirmed...\n",
      "Congratulation!. Your order number = 2, is confirmed...\n",
      "Congratulation!. Your order number = 3, is confirmed...\n",
      "Congratulation!. Your order number = 4, is confirmed...\n",
      "Congratulation!. Your order number = 5, is confirmed...\n",
      "Congratulation!. Your order number = 6, is confirmed...\n",
      "Congratulation!. Your order number = 7, is confirmed...\n",
      "Congratulation!. Your order number = 8, is confirmed...\n",
      "Congratulation!. Your order number = 9, is confirmed...\n",
      "Congratulation!. Your order number = 10, is confirmed...\n",
      "Congratulation!. Your order number = 11, is confirmed...\n",
      "Congratulation!. Your order number = 12, is confirmed...\n",
      "Congratulation!. Your order number = 13, is confirmed...\n",
      "Congratulation!. Your order number = 14, is confirmed...\n",
      "Congratulation!. Your order number = 15, is confirmed...\n",
      "Congratulation!. Your order number = 16, is confirmed...\n",
      "Congratulation!. Your order number = 17, is confirmed...\n",
      "Congratulation!. Your order number = 18, is confirmed...\n",
      "Congratulation!. Your order number = 19, is confirmed...\n",
      "Congratulation!. Your order number = 20, is confirmed...\n",
      "Congratulation!. Your order number = 21, is confirmed...\n",
      "Congratulation!. Your order number = 22, is confirmed...\n",
      "Congratulation!. Your order number = 23, is confirmed...\n",
      "Congratulation!. Your order number = 24, is confirmed...\n",
      "Congratulation!. Your order number = 25, is confirmed...\n",
      "Congratulation!. Your order number = 26, is confirmed...\n",
      "Congratulation!. Your order number = 27, is confirmed...\n",
      "Congratulation!. Your order number = 28, is confirmed...\n",
      "Congratulation!. Your order number = 29, is confirmed...\n",
      "Congratulation!. Your order number = 30, is confirmed...\n",
      "Congratulation!. Your order number = 31, is confirmed...\n",
      "Congratulation!. Your order number = 32, is confirmed...\n",
      "Congratulation!. Your order number = 33, is confirmed...\n",
      "Congratulation!. Your order number = 34, is confirmed...\n",
      "Congratulation!. Your order number = 35, is confirmed...\n",
      "Congratulation!. Your order number = 36, is confirmed...\n",
      "Congratulation!. Your order number = 37, is confirmed...\n",
      "Congratulation!. Your order number = 38, is confirmed...\n",
      "Congratulation!. Your order number = 39, is confirmed...\n",
      "Congratulation!. Your order number = 40, is confirmed...\n",
      "Congratulation!. Your order number = 41, is confirmed...\n",
      "Congratulation!. Your order number = 42, is confirmed...\n",
      "Congratulation!. Your order number = 43, is confirmed...\n",
      "Congratulation!. Your order number = 44, is confirmed...\n",
      "Congratulation!. Your order number = 45, is confirmed...\n",
      "Congratulation!. Your order number = 46, is confirmed...\n",
      "Congratulation!. Your order number = 47, is confirmed...\n",
      "Congratulation!. Your order number = 48, is confirmed...\n",
      "Congratulation!. Your order number = 49, is confirmed...\n",
      "Congratulation!. Your order number = 50, is confirmed...\n",
      "Enjoy your movie....\n"
     ]
    }
   ],
   "source": [
    "print(\"Welome to PVR!\")\n",
    "order_qty = int(input(\"How many tickets u want ?\"))\n",
    "for i in range(1,order_qty+1):\n",
    "    print(f\"Congratulation!. Your order number = {i}, is confirmed...\")\n",
    "    \n",
    "print(\"Enjoy your movie....\")"
   ]
  },
  {
   "cell_type": "code",
   "execution_count": 25,
   "id": "503b13fb",
   "metadata": {},
   "outputs": [
    {
     "name": "stdout",
     "output_type": "stream",
     "text": [
      "Welome to PVR!\n",
      "How many tickets u want ?7\n",
      "Congratulation!. Your order number = 1, is confirmed...\n",
      "Congratulation!. Your order number = 2, is confirmed...\n",
      "Congratulation!. Your order number = 3, is confirmed...\n",
      "Congratulation!. Your order number = 4, is confirmed...\n",
      "Congratulation!. Your order number = 5, is confirmed...\n",
      "Enjoy your movie....\n"
     ]
    }
   ],
   "source": [
    "print(\"Welome to PVR!\")\n",
    "order_qty = int(input(\"How many tickets u want ?\"))\n",
    "stock = 5\n",
    "for i in range(1,order_qty+1):\n",
    "    print(f\"Congratulation!. Your order number = {i}, is confirmed...\")\n",
    "    if i == stock:\n",
    "        break\n",
    "    \n",
    "print(\"Enjoy your movie....\")"
   ]
  },
  {
   "cell_type": "code",
   "execution_count": 26,
   "id": "f8061689",
   "metadata": {},
   "outputs": [
    {
     "name": "stdout",
     "output_type": "stream",
     "text": [
      "Welome to PVR!\n",
      "How many tickets u want ?10\n",
      "Congratulation!. Your order number = 1, is confirmed...\n",
      "Congratulation!. Your order number = 2, is confirmed...\n",
      "Congratulation!. Your order number = 3, is confirmed...\n",
      "Congratulation!. Your order number = 4, is confirmed...\n",
      "Congratulation!. Your order number = 5, is confirmed...\n",
      "Sorry. Out of stock\n",
      "Enjoy your movie....\n"
     ]
    }
   ],
   "source": [
    "print(\"Welome to PVR!\")\n",
    "order_qty = int(input(\"How many tickets u want ?\"))\n",
    "stock = 5\n",
    "for i in range(1,order_qty+1):\n",
    "    print(f\"Congratulation!. Your order number = {i}, is confirmed...\")\n",
    "    if i == stock:\n",
    "        print(\"Sorry. Out of stock\")\n",
    "        break\n",
    "    \n",
    "print(\"Enjoy your movie....\")"
   ]
  },
  {
   "cell_type": "code",
   "execution_count": 27,
   "id": "3994f1f5",
   "metadata": {},
   "outputs": [
    {
     "name": "stdout",
     "output_type": "stream",
     "text": [
      "The value (1) is of int type\n",
      "The value (2) is of int type\n",
      "The value (3) is of int type\n",
      "The value (4) is of int type\n",
      "The value (5) is of int type\n",
      "The value (2.3) is of float type\n",
      "The value (4.5) is of float type\n",
      "The value (4.6) is of float type\n",
      "The value (Python) is of string type\n",
      "The value (DS) is of string type\n",
      "The value (9.9) is of float type\n",
      "The value (ML) is of string type\n"
     ]
    }
   ],
   "source": [
    "li = [1,2,3,4,5,2.3,4.5,4.6,\"Python\",\"DS\",9.9,\"ML\"]\n",
    "for value in li:\n",
    "    if type(value) == int:\n",
    "        print(f\"The value ({value}) is of int type\")\n",
    "        \n",
    "    elif type(value) == float:\n",
    "        \n",
    "        print(f\"The value ({value}) is of float type\")\n",
    "    \n",
    "    else:\n",
    "        print(f\"The value ({value}) is of string type\")"
   ]
  },
  {
   "cell_type": "code",
   "execution_count": 28,
   "id": "2489ee2a",
   "metadata": {},
   "outputs": [
    {
     "name": "stdout",
     "output_type": "stream",
     "text": [
      "The value (1) is of int type\n",
      "The value (2) is of int type\n",
      "The value (3) is of int type\n",
      "The value (4) is of int type\n",
      "The value (5) is of int type\n"
     ]
    }
   ],
   "source": [
    "li = [1,2,3,4,5,2.3,4.5,4.6,\"Python\",\"DS\",9.9,\"ML\"]\n",
    "for value in li:\n",
    "    if type(value) == int:\n",
    "        print(f\"The value ({value}) is of int type\")\n",
    "        \n",
    "    elif type(value) == float:\n",
    "        break\n",
    "    \n",
    "    else:\n",
    "        print(f\"The value ({value}) is of string type\")"
   ]
  },
  {
   "cell_type": "code",
   "execution_count": 29,
   "id": "578c6462",
   "metadata": {},
   "outputs": [
    {
     "name": "stdout",
     "output_type": "stream",
     "text": [
      "The value (1) is of int type\n"
     ]
    }
   ],
   "source": [
    "li = [1,1.2,3,4,5,2.3,4.5,4.6,\"Python\",\"DS\",9.9,\"ML\"]\n",
    "for value in li:\n",
    "    if type(value) == int:\n",
    "        print(f\"The value ({value}) is of int type\")\n",
    "        \n",
    "    elif type(value) == float:\n",
    "        break\n",
    "    \n",
    "    else:\n",
    "        print(f\"The value ({value}) is of string type\")"
   ]
  },
  {
   "cell_type": "code",
   "execution_count": 30,
   "id": "fb4d193e",
   "metadata": {},
   "outputs": [
    {
     "name": "stdout",
     "output_type": "stream",
     "text": [
      "1\n",
      "2\n",
      "6\n",
      "9\n",
      "6\n",
      "90\n",
      "8\n",
      "7\n",
      "9\n",
      "6\n",
      "77\n",
      "443\n",
      "5\n",
      "6\n",
      "78\n",
      "56\n",
      "4\n"
     ]
    }
   ],
   "source": [
    "number_li = [1,2,6,9,6,90,8,7,9,6,77,443,5,6,78,56,4]\n",
    "for number in number_li:\n",
    "    print(number)"
   ]
  },
  {
   "cell_type": "code",
   "execution_count": 31,
   "id": "64f7b80a",
   "metadata": {},
   "outputs": [
    {
     "name": "stdout",
     "output_type": "stream",
     "text": [
      "1\n",
      "2\n",
      "6\n",
      "9\n",
      "6\n",
      "90\n",
      "8\n",
      "7\n",
      "9\n",
      "6\n",
      "77\n"
     ]
    }
   ],
   "source": [
    "number_li = [1,2,6,9,6,90,8,7,9,6,77,443,5,6,78,56,4]\n",
    "for number in number_li:\n",
    "    if number > 100:\n",
    "        break\n",
    "    print(number)"
   ]
  },
  {
   "cell_type": "markdown",
   "id": "96e871e5",
   "metadata": {},
   "source": [
    "### 2. continue\n",
    "- Used to stop/skip the current iteration only.\n",
    "- Continues with next statements"
   ]
  },
  {
   "cell_type": "code",
   "execution_count": 33,
   "id": "8559b515",
   "metadata": {},
   "outputs": [
    {
     "name": "stdout",
     "output_type": "stream",
     "text": [
      "1\n",
      "2\n",
      "6\n",
      "9\n",
      "6\n"
     ]
    }
   ],
   "source": [
    "number_li = [1,2,6,9,6,90,8,7,9,6,77,443,5,6,78,56,4]\n",
    "for number in number_li:\n",
    "    if number > 75:\n",
    "        break\n",
    "    print(number)"
   ]
  },
  {
   "cell_type": "code",
   "execution_count": 35,
   "id": "38899b06",
   "metadata": {},
   "outputs": [
    {
     "name": "stdout",
     "output_type": "stream",
     "text": [
      "1\n",
      "2\n",
      "6\n",
      "9\n",
      "6\n",
      "8\n",
      "7\n",
      "9\n",
      "6\n",
      "5\n",
      "6\n",
      "56\n",
      "4\n"
     ]
    }
   ],
   "source": [
    "number_li = [1,2,6,9,6,90,8,7,9,6,77,443,5,6,78,56,4]\n",
    "for number in number_li:\n",
    "    if number > 75: #78 = True\n",
    "        continue\n",
    "    print(number)"
   ]
  },
  {
   "cell_type": "code",
   "execution_count": 37,
   "id": "77d71fa0",
   "metadata": {},
   "outputs": [
    {
     "name": "stdout",
     "output_type": "stream",
     "text": [
      "The value (3) is of int type\n",
      "The value (4) is of int type\n",
      "The value (5) is of int type\n",
      "The value (Python) is of string type\n",
      "The value (DS) is of string type\n",
      "The value (ML) is of string type\n"
     ]
    }
   ],
   "source": [
    "li = [1.1,2.2,3,4,5,2.3,4.5,4.6,\"Python\",\"DS\",9.9,\"ML\"]\n",
    "for value in li:\n",
    "    if type(value) == int:\n",
    "        print(f\"The value ({value}) is of int type\")\n",
    "        \n",
    "    elif type(value) == float:\n",
    "        continue\n",
    "    \n",
    "    else:\n",
    "        print(f\"The value ({value}) is of string type\")"
   ]
  },
  {
   "cell_type": "code",
   "execution_count": 39,
   "id": "92f2b574",
   "metadata": {},
   "outputs": [
    {
     "name": "stdout",
     "output_type": "stream",
     "text": [
      "The value (1) is of int type\n",
      "The value (2) is of int type\n",
      "The value (3) is of int type\n",
      "The value (4) is of int type\n",
      "The value (5) is of int type\n"
     ]
    }
   ],
   "source": [
    "li = [1,2,3,4,5,2.3,4.5,4.6,\"Python\",\"DS\",9.9,\"ML\"]\n",
    "for value in li:\n",
    "    if type(value) == int:\n",
    "        print(f\"The value ({value}) is of int type\")\n",
    "        \n",
    "    else:\n",
    "        continue"
   ]
  },
  {
   "cell_type": "code",
   "execution_count": 40,
   "id": "a073dda8",
   "metadata": {},
   "outputs": [
    {
     "name": "stdout",
     "output_type": "stream",
     "text": [
      "0\n",
      "1\n",
      "2\n",
      "4\n"
     ]
    }
   ],
   "source": [
    "for i in range(5):\n",
    "    if i == 3:\n",
    "        continue\n",
    "    print(i)"
   ]
  },
  {
   "cell_type": "code",
   "execution_count": 41,
   "id": "43972e1e",
   "metadata": {},
   "outputs": [
    {
     "name": "stdout",
     "output_type": "stream",
     "text": [
      "Welome to PVR!\n",
      "How many tickets u want ?10\n",
      "Congratulation!. Your order number = 1, is confirmed...\n",
      "Congratulation!. Your order number = 2, is confirmed...\n",
      "Congratulations. You are the lucky customer today\n",
      "Congratulation!. Your order number = 4, is confirmed...\n",
      "Congratulation!. Your order number = 5, is confirmed...\n",
      "Congratulation!. Your order number = 6, is confirmed...\n",
      "Congratulation!. Your order number = 7, is confirmed...\n",
      "Congratulation!. Your order number = 8, is confirmed...\n",
      "Congratulation!. Your order number = 9, is confirmed...\n",
      "Congratulation!. Your order number = 10, is confirmed...\n",
      "Enjoy your movie....\n"
     ]
    }
   ],
   "source": [
    "print(\"Welome to PVR!\")\n",
    "order_qty = int(input(\"How many tickets u want ?\"))\n",
    "lucky_number = 3\n",
    "for i in range(1,order_qty+1):\n",
    "    if i == lucky_number:\n",
    "        print(\"Congratulations. You are the lucky customer today\")\n",
    "        continue\n",
    "    print(f\"Congratulation!. Your order number = {i}, is confirmed...\")\n",
    "    \n",
    "print(\"Enjoy your movie....\")"
   ]
  },
  {
   "cell_type": "markdown",
   "id": "66d3e299",
   "metadata": {},
   "source": [
    "### 3. pass statement\n",
    "- PlaceHolder"
   ]
  },
  {
   "cell_type": "code",
   "execution_count": 42,
   "id": "57a4ef76",
   "metadata": {},
   "outputs": [
    {
     "name": "stdout",
     "output_type": "stream",
     "text": [
      "0\n",
      "1\n",
      "2\n",
      "3\n",
      "4\n"
     ]
    }
   ],
   "source": [
    "for i in range(5):\n",
    "    print(i)\n",
    "    pass"
   ]
  },
  {
   "cell_type": "code",
   "execution_count": 46,
   "id": "09258975",
   "metadata": {},
   "outputs": [
    {
     "name": "stdout",
     "output_type": "stream",
     "text": [
      "0\n",
      "1\n",
      "2\n",
      "3\n",
      "4\n"
     ]
    }
   ],
   "source": [
    "for i in range(5):\n",
    "    pass\n",
    "    print(i)\n",
    "    pass"
   ]
  },
  {
   "cell_type": "code",
   "execution_count": 44,
   "id": "e7a77a1c",
   "metadata": {},
   "outputs": [
    {
     "name": "stdout",
     "output_type": "stream",
     "text": [
      "Welcome to python\n",
      "0\n",
      "Welcome to python\n",
      "1\n",
      "Welcome to python\n",
      "2\n",
      "Welcome to python\n",
      "3\n",
      "Welcome to python\n",
      "4\n"
     ]
    }
   ],
   "source": [
    "for i in range(5):\n",
    "    print(\"Welcome to python\")\n",
    "    print(i)\n",
    "#     pass"
   ]
  },
  {
   "cell_type": "code",
   "execution_count": 45,
   "id": "2b72f058",
   "metadata": {},
   "outputs": [
    {
     "name": "stdout",
     "output_type": "stream",
     "text": [
      "Welcome to python\n",
      "0\n",
      "Hi\n",
      "Welcome to python\n",
      "1\n",
      "Hi\n",
      "Welcome to python\n",
      "2\n",
      "Hi\n",
      "Welcome to python\n",
      "3\n",
      "Hi\n",
      "Welcome to python\n",
      "4\n",
      "Hi\n"
     ]
    }
   ],
   "source": [
    "for i in range(5):\n",
    "    print(\"Welcome to python\")\n",
    "    print(i)\n",
    "    print(\"Hi\")"
   ]
  },
  {
   "cell_type": "code",
   "execution_count": 49,
   "id": "ac009da5",
   "metadata": {},
   "outputs": [
    {
     "name": "stdout",
     "output_type": "stream",
     "text": [
      "0\n",
      "1\n",
      "2\n",
      "4\n"
     ]
    }
   ],
   "source": [
    "for i in range(5):\n",
    "    if i != 3:\n",
    "        print(i)"
   ]
  },
  {
   "cell_type": "code",
   "execution_count": 50,
   "id": "27345e66",
   "metadata": {},
   "outputs": [
    {
     "ename": "SyntaxError",
     "evalue": "incomplete input (2980949836.py, line 4)",
     "output_type": "error",
     "traceback": [
      "\u001b[1;36m  Input \u001b[1;32mIn [50]\u001b[1;36m\u001b[0m\n\u001b[1;33m    else:\u001b[0m\n\u001b[1;37m         ^\u001b[0m\n\u001b[1;31mSyntaxError\u001b[0m\u001b[1;31m:\u001b[0m incomplete input\n"
     ]
    }
   ],
   "source": [
    "for i in range(5):\n",
    "    if i != 3:\n",
    "        print(i)\n",
    "    else:"
   ]
  },
  {
   "cell_type": "code",
   "execution_count": 51,
   "id": "79e93821",
   "metadata": {},
   "outputs": [
    {
     "name": "stdout",
     "output_type": "stream",
     "text": [
      "0\n",
      "1\n",
      "2\n",
      "4\n"
     ]
    }
   ],
   "source": [
    "for i in range(5):\n",
    "    if i != 3:\n",
    "        print(i)\n",
    "    else:\n",
    "        pass"
   ]
  },
  {
   "cell_type": "code",
   "execution_count": 52,
   "id": "7a9c6cf0",
   "metadata": {},
   "outputs": [
    {
     "ename": "SyntaxError",
     "evalue": "incomplete input (2178781912.py, line 2)",
     "output_type": "error",
     "traceback": [
      "\u001b[1;36m  Input \u001b[1;32mIn [52]\u001b[1;36m\u001b[0m\n\u001b[1;33m    \u001b[0m\n\u001b[1;37m    ^\u001b[0m\n\u001b[1;31mSyntaxError\u001b[0m\u001b[1;31m:\u001b[0m incomplete input\n"
     ]
    }
   ],
   "source": [
    "class Prduct1:\n",
    "    "
   ]
  },
  {
   "cell_type": "code",
   "execution_count": 58,
   "id": "246376d5",
   "metadata": {},
   "outputs": [],
   "source": [
    "class Product1:\n",
    "    pass"
   ]
  },
  {
   "cell_type": "code",
   "execution_count": 59,
   "id": "d2ffe587",
   "metadata": {},
   "outputs": [],
   "source": [
    "p1 = Product1()"
   ]
  },
  {
   "cell_type": "code",
   "execution_count": 60,
   "id": "4ae7b3f8",
   "metadata": {},
   "outputs": [
    {
     "data": {
      "text/plain": [
       "<__main__.Product1 at 0x1488a437070>"
      ]
     },
     "execution_count": 60,
     "metadata": {},
     "output_type": "execute_result"
    }
   ],
   "source": [
    "p1"
   ]
  },
  {
   "cell_type": "code",
   "execution_count": 67,
   "id": "ea56cf6b",
   "metadata": {},
   "outputs": [
    {
     "ename": "IndentationError",
     "evalue": "expected an indented block after function definition on line 2 (1867518065.py, line 5)",
     "output_type": "error",
     "traceback": [
      "\u001b[1;36m  Input \u001b[1;32mIn [67]\u001b[1;36m\u001b[0m\n\u001b[1;33m    def login_page(self):\u001b[0m\n\u001b[1;37m    ^\u001b[0m\n\u001b[1;31mIndentationError\u001b[0m\u001b[1;31m:\u001b[0m expected an indented block after function definition on line 2\n"
     ]
    }
   ],
   "source": [
    "class Product1:\n",
    "    def welcome_page(self):\n",
    "        \n",
    "    \n",
    "    def login_page(self):\n",
    "        pass\n",
    "    \n",
    "    def get_loginID(self):\n",
    "        pass\n",
    "    \n",
    "    def get_password(self):\n",
    "        pass"
   ]
  },
  {
   "cell_type": "code",
   "execution_count": 68,
   "id": "4e2a149e",
   "metadata": {},
   "outputs": [],
   "source": [
    "class Product1:\n",
    "    def welcome_page(self):\n",
    "        pass\n",
    "    \n",
    "    def login_page(self):\n",
    "        pass\n",
    "    \n",
    "    def get_loginID(self):\n",
    "        pass\n",
    "    \n",
    "    def get_password(self):\n",
    "        pass"
   ]
  },
  {
   "cell_type": "code",
   "execution_count": 69,
   "id": "f4c340ed",
   "metadata": {},
   "outputs": [],
   "source": [
    "p1 = Product1()"
   ]
  },
  {
   "cell_type": "code",
   "execution_count": 70,
   "id": "aff20890",
   "metadata": {},
   "outputs": [],
   "source": [
    "p1.get_loginID()\n",
    "p1.get_password()\n",
    "p1.welcome_page()\n",
    "p1.login_page()"
   ]
  },
  {
   "cell_type": "markdown",
   "id": "ff8d9754",
   "metadata": {},
   "source": [
    "# for-else \n",
    "- Else block will execute only when the loop completes it all iterations."
   ]
  },
  {
   "cell_type": "code",
   "execution_count": 71,
   "id": "17dbc471",
   "metadata": {},
   "outputs": [
    {
     "name": "stdout",
     "output_type": "stream",
     "text": [
      "0\n",
      "1\n",
      "2\n",
      "3\n",
      "4\n",
      "All values printed\n"
     ]
    }
   ],
   "source": [
    "for i in range(5):\n",
    "    print(i)\n",
    "print(\"All values printed\")"
   ]
  },
  {
   "cell_type": "code",
   "execution_count": 4,
   "id": "b94a90c0",
   "metadata": {},
   "outputs": [
    {
     "name": "stdout",
     "output_type": "stream",
     "text": [
      "0\n",
      "1\n",
      "2\n",
      "All values printed\n"
     ]
    }
   ],
   "source": [
    "for i in range(5):\n",
    "    if i == 3:\n",
    "        break\n",
    "        \n",
    "    print(i)\n",
    "print(\"All values printed\")"
   ]
  },
  {
   "cell_type": "code",
   "execution_count": 83,
   "id": "c9440abd",
   "metadata": {},
   "outputs": [
    {
     "name": "stdout",
     "output_type": "stream",
     "text": [
      "0\n",
      "1\n",
      "2\n"
     ]
    }
   ],
   "source": [
    "for i in range(5):\n",
    "    if i == 3:\n",
    "        break\n",
    "        \n",
    "    print(i)\n",
    "    \n",
    "else:\n",
    "    print(\"All values printed\")"
   ]
  },
  {
   "cell_type": "code",
   "execution_count": 2,
   "id": "01de9455",
   "metadata": {},
   "outputs": [
    {
     "name": "stdout",
     "output_type": "stream",
     "text": [
      "0\n",
      "1\n",
      "2\n",
      "3\n",
      "4\n",
      "All values printed\n"
     ]
    }
   ],
   "source": [
    "for i in range(5):\n",
    "    if i == 30:\n",
    "        break\n",
    "    print(i)\n",
    "    \n",
    "else:\n",
    "    print(\"All values printed\")"
   ]
  },
  {
   "cell_type": "code",
   "execution_count": 85,
   "id": "e364dc1a",
   "metadata": {},
   "outputs": [
    {
     "name": "stdout",
     "output_type": "stream",
     "text": [
      "0\n",
      "1\n",
      "2\n",
      "3\n",
      "4\n",
      "All iterations completed\n"
     ]
    }
   ],
   "source": [
    "for i in range(5):\n",
    "        \n",
    "    print(i)\n",
    "print(\"All iterations completed\")"
   ]
  },
  {
   "cell_type": "code",
   "execution_count": 86,
   "id": "ebf99225",
   "metadata": {},
   "outputs": [
    {
     "name": "stdout",
     "output_type": "stream",
     "text": [
      "0\n",
      "1\n",
      "2\n",
      "All iterations completed\n"
     ]
    }
   ],
   "source": [
    "for i in range(5):\n",
    "    if i == 3:\n",
    "        break\n",
    "    print(i)\n",
    "print(\"All iterations completed\")"
   ]
  },
  {
   "cell_type": "code",
   "execution_count": 6,
   "id": "87df83c2",
   "metadata": {},
   "outputs": [
    {
     "name": "stdout",
     "output_type": "stream",
     "text": [
      "0\n",
      "1\n",
      "2\n"
     ]
    }
   ],
   "source": [
    "for i in range(5):\n",
    "    if i == 3:\n",
    "        break\n",
    "    print(i)\n",
    "else:\n",
    "    print(\"All iterations completed\")"
   ]
  },
  {
   "cell_type": "code",
   "execution_count": 89,
   "id": "55e7ec38",
   "metadata": {},
   "outputs": [
    {
     "name": "stdout",
     "output_type": "stream",
     "text": [
      "90\n"
     ]
    },
    {
     "data": {
      "text/plain": [
       "90"
      ]
     },
     "execution_count": 89,
     "metadata": {},
     "output_type": "execute_result"
    }
   ],
   "source": [
    "int(input())"
   ]
  },
  {
   "cell_type": "code",
   "execution_count": 97,
   "id": "a13eb479",
   "metadata": {},
   "outputs": [
    {
     "name": "stdout",
     "output_type": "stream",
     "text": [
      "3\n"
     ]
    },
    {
     "data": {
      "text/plain": [
       "12"
      ]
     },
     "execution_count": 97,
     "metadata": {},
     "output_type": "execute_result"
    }
   ],
   "source": [
    "number = 123\n",
    "c_n = number % 10\n",
    "print(c_n)\n",
    "number // 10"
   ]
  },
  {
   "cell_type": "code",
   "execution_count": 102,
   "id": "8db6a749",
   "metadata": {},
   "outputs": [],
   "source": [
    "List=[1,2,3,7,5,7,6,7]\n",
    "for i in List:\n",
    "  if i==7: continue\n",
    "  print(f\"element{i}=index{List.index(i)}\")"
   ]
  },
  {
   "cell_type": "code",
   "execution_count": null,
   "id": "f1b19246",
   "metadata": {},
   "outputs": [],
   "source": []
  },
  {
   "cell_type": "code",
   "execution_count": null,
   "id": "d714e0f7",
   "metadata": {},
   "outputs": [],
   "source": []
  }
 ],
 "metadata": {
  "kernelspec": {
   "display_name": "Python 3 (ipykernel)",
   "language": "python",
   "name": "python3"
  },
  "language_info": {
   "codemirror_mode": {
    "name": "ipython",
    "version": 3
   },
   "file_extension": ".py",
   "mimetype": "text/x-python",
   "name": "python",
   "nbconvert_exporter": "python",
   "pygments_lexer": "ipython3",
   "version": "3.9.12"
  }
 },
 "nbformat": 4,
 "nbformat_minor": 5
}
