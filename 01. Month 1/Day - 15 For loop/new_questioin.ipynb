{
 "cells": [
  {
   "cell_type": "markdown",
   "id": "ed0f9eeb",
   "metadata": {},
   "source": [
    "# How to reverse a intiger number"
   ]
  },
  {
   "cell_type": "code",
   "execution_count": 7,
   "id": "b405d7a6",
   "metadata": {},
   "outputs": [
    {
     "name": "stdout",
     "output_type": "stream",
     "text": [
      "3 2 1"
     ]
    }
   ],
   "source": [
    "number = 123\n",
    "c_1 = number % 10\n",
    "c_2 = number // 50\n",
    "c_3 = number // 70\n",
    "\n",
    "print(c_1,c_2,c_3,end=\"\")"
   ]
  },
  {
   "cell_type": "code",
   "execution_count": 2,
   "id": "3079aa5f",
   "metadata": {},
   "outputs": [
    {
     "name": "stdout",
     "output_type": "stream",
     "text": [
      "Please provide the number to be reversed: 45\n",
      "540\n"
     ]
    }
   ],
   "source": [
    "My_Number = int(input(\"Please provide the number to be reversed: \"))\n",
    "Reverse_Number = 0\n",
    "# temp = Reverse_Number\n",
    "Reminder = 1\n",
    "for i in range (Reminder+2):\n",
    "    Reminder = My_Number %10\n",
    "    Reverse_Number = (Reverse_Number *10) + Reminder\n",
    "    My_Number = My_Number //10\n",
    "print(Reverse_Number)"
   ]
  },
  {
   "cell_type": "code",
   "execution_count": 3,
   "id": "ca3ecc09",
   "metadata": {},
   "outputs": [
    {
     "name": "stdout",
     "output_type": "stream",
     "text": [
      "0\n"
     ]
    }
   ],
   "source": [
    "num = 250\n",
    "reverse_num = 0\n",
    "temp = Reverse_Number\n",
    "reminder = 1\n",
    "for i in range(reminder + 1):\n",
    "    reminder = num % 10\n",
    "    reverse = (reverse_num * 10) + reminder\n",
    "    new_num = num // 10\n",
    "\n",
    "print(reverse)"
   ]
  },
  {
   "cell_type": "code",
   "execution_count": 10,
   "id": "38dfe87a",
   "metadata": {},
   "outputs": [
    {
     "name": "stdout",
     "output_type": "stream",
     "text": [
      "0\n",
      "5\n",
      "0 5\n"
     ]
    }
   ],
   "source": [
    "num = 50\n",
    "\n",
    "reminder = num % 10\n",
    "print(reminder)\n",
    "# reverse = (0 * 10) + reminder\n",
    "new_num = num // 10\n",
    "print(new_num)\n",
    "\n",
    "print(reminder,new_num)"
   ]
  },
  {
   "cell_type": "code",
   "execution_count": 27,
   "id": "9e4e8ddc",
   "metadata": {},
   "outputs": [
    {
     "name": "stdout",
     "output_type": "stream",
     "text": [
      "Enter any two digit  number: 87\n",
      "78\n"
     ]
    }
   ],
   "source": [
    "num = int(input(\"Enter any two digit  number: \"))\n",
    "reminder = num % 10\n",
    "new_num = num // 10\n",
    "print(f\"{reminder}{new_num}\")"
   ]
  },
  {
   "cell_type": "code",
   "execution_count": 36,
   "id": "de4f36d7",
   "metadata": {},
   "outputs": [
    {
     "name": "stdout",
     "output_type": "stream",
     "text": [
      "Enter any two digit  number: 5051\n",
      "1505\n"
     ]
    }
   ],
   "source": [
    "num = int(input(\"Enter any two digit  number: \"))\n",
    "reminder = num % 10\n",
    "new_num = num // 10\n",
    "print(f\"{reminder}{new_num}\")"
   ]
  },
  {
   "cell_type": "code",
   "execution_count": null,
   "id": "e432e7d0",
   "metadata": {},
   "outputs": [],
   "source": []
  }
 ],
 "metadata": {
  "kernelspec": {
   "display_name": "Python 3 (ipykernel)",
   "language": "python",
   "name": "python3"
  },
  "language_info": {
   "codemirror_mode": {
    "name": "ipython",
    "version": 3
   },
   "file_extension": ".py",
   "mimetype": "text/x-python",
   "name": "python",
   "nbconvert_exporter": "python",
   "pygments_lexer": "ipython3",
   "version": "3.9.12"
  }
 },
 "nbformat": 4,
 "nbformat_minor": 5
}
