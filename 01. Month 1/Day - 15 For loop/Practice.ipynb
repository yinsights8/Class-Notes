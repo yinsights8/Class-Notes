{
 "cells": [
  {
   "cell_type": "code",
   "execution_count": 1,
   "id": "2b987fbb",
   "metadata": {},
   "outputs": [
    {
     "name": "stdout",
     "output_type": "stream",
     "text": [
      "i = 0\n",
      "i = 1\n",
      "i = 2\n",
      "i = 3\n",
      "i = 4\n",
      "i = 5\n",
      "i = 6\n",
      "i = 7\n",
      "i = 8\n",
      "i = 9\n"
     ]
    }
   ],
   "source": [
    "for i in range(10): # 0, 1, 2, 3, 4, 5, 6, 7, 8, 9\n",
    "    print(f\"i = {i}\")"
   ]
  },
  {
   "cell_type": "code",
   "execution_count": 3,
   "id": "0eb1e775",
   "metadata": {},
   "outputs": [
    {
     "name": "stdout",
     "output_type": "stream",
     "text": [
      "python and data science\n",
      "python and data science\n",
      "python and data science\n",
      "python and data science\n",
      "python and data science\n"
     ]
    }
   ],
   "source": [
    "str1 = \"python and data science\"\n",
    "for i in range(5):             # 0, 1, 2, 3, 4\n",
    "    print(str1)"
   ]
  },
  {
   "cell_type": "code",
   "execution_count": 9,
   "id": "504d814d",
   "metadata": {},
   "outputs": [
    {
     "name": "stdout",
     "output_type": "stream",
     "text": [
      "length of the string is:  23\n",
      "p\n",
      "y\n",
      "t\n",
      "h\n",
      "o\n",
      "n\n",
      " \n",
      "a\n",
      "n\n",
      "d\n",
      " \n",
      "d\n",
      "a\n",
      "t\n",
      "a\n",
      " \n",
      "s\n",
      "c\n",
      "i\n",
      "e\n",
      "n\n",
      "c\n",
      "e\n"
     ]
    }
   ],
   "source": [
    "# loop throgh a string\n",
    "string = \"python and data science\"\n",
    "print(\"length of the string is: \",len(string))\n",
    "for i in string: # while looping through string it will iterate char by char and print it on a next line\n",
    "    print(i)"
   ]
  },
  {
   "cell_type": "code",
   "execution_count": 12,
   "id": "61076af0",
   "metadata": {},
   "outputs": [
    {
     "name": "stdout",
     "output_type": "stream",
     "text": [
      "0\n",
      "1\n",
      "2\n",
      "3\n",
      "4\n",
      "5\n",
      "6\n",
      "7\n",
      "8\n",
      "9\n",
      "10\n",
      "11\n",
      "12\n",
      "13\n",
      "14\n",
      "15\n",
      "16\n",
      "17\n",
      "18\n",
      "19\n",
      "20\n",
      "21\n",
      "22\n"
     ]
    }
   ],
   "source": [
    "string1 = \"Python and data science\"\n",
    "\n",
    "for item in range(len(string1)): # we can use this length of string1 numbers as a index of that characters\n",
    "    print(item)"
   ]
  },
  {
   "cell_type": "code",
   "execution_count": 11,
   "id": "6df1d1ef",
   "metadata": {},
   "outputs": [
    {
     "name": "stdout",
     "output_type": "stream",
     "text": [
      "P\n",
      "y\n",
      "t\n",
      "h\n",
      "o\n",
      "n\n",
      " \n",
      "a\n",
      "n\n",
      "d\n",
      " \n",
      "d\n",
      "a\n",
      "t\n",
      "a\n",
      " \n",
      "s\n",
      "c\n",
      "i\n",
      "e\n",
      "n\n",
      "c\n",
      "e\n"
     ]
    }
   ],
   "source": [
    "# accesign items through range function\n",
    "\n",
    "string = \"Python and data science\"\n",
    "\n",
    "for item in range(len(string)):\n",
    "    print(string[item])"
   ]
  },
  {
   "cell_type": "code",
   "execution_count": 17,
   "id": "bbeed9ec",
   "metadata": {},
   "outputs": [
    {
     "name": "stdout",
     "output_type": "stream",
     "text": [
      "0 = P\n",
      "1 = y\n",
      "2 = t\n",
      "3 = h\n",
      "4 = o\n",
      "5 = n\n"
     ]
    }
   ],
   "source": [
    "str2 = \"Python\"\n",
    "\n",
    "for index,item in enumerate(str2):\n",
    "    print(f\"{index} = {item}\")"
   ]
  },
  {
   "cell_type": "markdown",
   "id": "be6d092a",
   "metadata": {},
   "source": [
    "# Loop control statement\n",
    "\n",
    "### break\n",
    "### continue\n",
    "### pass"
   ]
  },
  {
   "cell_type": "code",
   "execution_count": 30,
   "id": "831e76a5",
   "metadata": {
    "scrolled": true
   },
   "outputs": [
    {
     "name": "stdout",
     "output_type": "stream",
     "text": [
      "1\n",
      "2\n",
      "3\n",
      "5\n",
      "2.3\n",
      "4.5\n",
      "4.6\n"
     ]
    }
   ],
   "source": [
    "li = [1,2,3,4,5,2.3,4.5,4.6,\"Python\",\"DS\",9.9,\"ML\",999,888]\n",
    "for item in li:\n",
    "    \n",
    "    if item == 4:\n",
    "        continue\n",
    "    elif item == \"Python\":\n",
    "        break\n",
    "    else:\n",
    "        pass\n",
    "    \n",
    "    print(item)"
   ]
  },
  {
   "cell_type": "markdown",
   "id": "6e8f43fd",
   "metadata": {},
   "source": [
    "## continue \n",
    "- This statement will skip the current value or item and continue the flow of for loop"
   ]
  },
  {
   "cell_type": "code",
   "execution_count": 34,
   "id": "e7d7385a",
   "metadata": {},
   "outputs": [
    {
     "name": "stdout",
     "output_type": "stream",
     "text": [
      "1 2 3 4 5 2.3 4.5 4.6 DS 9.9 ML 999 888 "
     ]
    }
   ],
   "source": [
    "conti = [1,2,3,4,5,2.3,4.5,4.6,\"Python\",\"DS\",9.9,\"ML\",999,888]\n",
    "\n",
    "for i in conti:\n",
    "    if i == \"Python\":\n",
    "        continue    # this statement has skiped the current value \"python\"\n",
    "    print(i,end=\" \")"
   ]
  },
  {
   "cell_type": "markdown",
   "id": "b39cbae2",
   "metadata": {},
   "source": [
    "## break\n",
    "- This statement will completely break the flow of for loop"
   ]
  },
  {
   "cell_type": "code",
   "execution_count": 39,
   "id": "56b821c8",
   "metadata": {},
   "outputs": [
    {
     "name": "stdout",
     "output_type": "stream",
     "text": [
      "1 2 3 4 5 2.3 4.5 4.6 Python "
     ]
    }
   ],
   "source": [
    "break_flow = [1,2,3,4,5,2.3,4.5,4.6,\"Python\",\"DS\",9.9,\"ML\",999,888]\n",
    "\n",
    "for item in break_flow:\n",
    "    if item == \"DS\":\n",
    "        break    # as he encounter the item he breaks the flow of list\n",
    "    print(item, end=\" \")\n",
    "    \n"
   ]
  },
  {
   "cell_type": "markdown",
   "id": "6f5166d6",
   "metadata": {},
   "source": [
    "## pass\n",
    "- This statement is use for to avoides the error from the unwnted written block or just to leave a space for future references\n",
    "- when coder desides not to write in  a perticular block of statement in that case he can use pass statement. this will written no  error"
   ]
  },
  {
   "cell_type": "code",
   "execution_count": 40,
   "id": "6c979049",
   "metadata": {},
   "outputs": [],
   "source": [
    "pass_flow = [1,2,3,4,5,2.3,4.5,4.6,\"Python\",\"DS\",9.9,\"ML\",999,888]\n",
    "for jetm in pass_flow:\n",
    "    pass"
   ]
  },
  {
   "cell_type": "markdown",
   "id": "ea3a0fb6",
   "metadata": {},
   "source": [
    "# for-else\n",
    "- Else block will execute only when the loop completes it all iterations."
   ]
  },
  {
   "cell_type": "code",
   "execution_count": 61,
   "id": "3d4e4be8",
   "metadata": {},
   "outputs": [
    {
     "name": "stdout",
     "output_type": "stream",
     "text": [
      "0\n",
      "1\n",
      "2\n",
      "All values printed\n"
     ]
    }
   ],
   "source": [
    "for i in range(5):\n",
    "    if i == 3:\n",
    "        break\n",
    "        \n",
    "    print(i)\n",
    "print(\"All values printed\")"
   ]
  },
  {
   "cell_type": "code",
   "execution_count": 51,
   "id": "8be73195",
   "metadata": {},
   "outputs": [
    {
     "name": "stdout",
     "output_type": "stream",
     "text": [
      "0\n",
      "1\n",
      "2\n"
     ]
    }
   ],
   "source": [
    "for i in range(5):\n",
    "    if i == 3:\n",
    "        \n",
    "        break\n",
    "        \n",
    "    print(i)\n",
    "    \n",
    "else:\n",
    "    print(\"All conditions has been satisfied\")"
   ]
  },
  {
   "cell_type": "code",
   "execution_count": 59,
   "id": "2dd43b1a",
   "metadata": {
    "scrolled": true
   },
   "outputs": [
    {
     "name": "stdout",
     "output_type": "stream",
     "text": [
      "0\n",
      "1\n",
      "2\n",
      "3\n",
      "4\n",
      "All conditions has been satisfied\n"
     ]
    }
   ],
   "source": [
    "for i in range(5):\n",
    "    if i == 30:\n",
    "        \n",
    "        break\n",
    "        \n",
    "    print(i)\n",
    "    \n",
    "else:\n",
    "    print(\"All conditions has been satisfied\")"
   ]
  },
  {
   "cell_type": "code",
   "execution_count": null,
   "id": "5fd01eb5",
   "metadata": {},
   "outputs": [],
   "source": []
  },
  {
   "cell_type": "code",
   "execution_count": 69,
   "id": "99516289",
   "metadata": {},
   "outputs": [
    {
     "name": "stdout",
     "output_type": "stream",
     "text": [
      "3 2 1"
     ]
    }
   ],
   "source": []
  },
  {
   "cell_type": "code",
   "execution_count": 73,
   "id": "44478a12",
   "metadata": {},
   "outputs": [
    {
     "name": "stdout",
     "output_type": "stream",
     "text": [
      "1\n"
     ]
    }
   ],
   "source": [
    "number = 31\n",
    "r_1 = number % 10\n",
    "print(r_1)"
   ]
  },
  {
   "cell_type": "code",
   "execution_count": 75,
   "id": "838b0552",
   "metadata": {},
   "outputs": [
    {
     "ename": "TypeError",
     "evalue": "'int' object is not subscriptable",
     "output_type": "error",
     "traceback": [
      "\u001b[1;31m---------------------------------------------------------------------------\u001b[0m",
      "\u001b[1;31mTypeError\u001b[0m                                 Traceback (most recent call last)",
      "Input \u001b[1;32mIn [75]\u001b[0m, in \u001b[0;36m<cell line: 2>\u001b[1;34m()\u001b[0m\n\u001b[0;32m      1\u001b[0m num \u001b[38;5;241m=\u001b[39m \u001b[38;5;241m13\u001b[39m\n\u001b[1;32m----> 2\u001b[0m \u001b[43mnum\u001b[49m\u001b[43m[\u001b[49m\u001b[38;5;241;43m0\u001b[39;49m\u001b[43m]\u001b[49m\n",
      "\u001b[1;31mTypeError\u001b[0m: 'int' object is not subscriptable"
     ]
    }
   ],
   "source": [
    "num = 13"
   ]
  },
  {
   "cell_type": "code",
   "execution_count": 117,
   "id": "e28f0ba2",
   "metadata": {},
   "outputs": [
    {
     "name": "stdout",
     "output_type": "stream",
     "text": [
      "Please provide the number to be reversed: 32\n",
      "230\n"
     ]
    }
   ],
   "source": []
  },
  {
   "cell_type": "code",
   "execution_count": 83,
   "id": "78b6de69",
   "metadata": {},
   "outputs": [
    {
     "data": {
      "text/plain": [
       "1"
      ]
     },
     "execution_count": 83,
     "metadata": {},
     "output_type": "execute_result"
    }
   ],
   "source": [
    "31 % 10"
   ]
  },
  {
   "cell_type": "code",
   "execution_count": 84,
   "id": "cf84e3ed",
   "metadata": {},
   "outputs": [
    {
     "data": {
      "text/plain": [
       "1"
      ]
     },
     "execution_count": 84,
     "metadata": {},
     "output_type": "execute_result"
    }
   ],
   "source": [
    "(0 * 10) + 1"
   ]
  },
  {
   "cell_type": "code",
   "execution_count": 86,
   "id": "6999be0c",
   "metadata": {},
   "outputs": [
    {
     "data": {
      "text/plain": [
       "3"
      ]
     },
     "execution_count": 86,
     "metadata": {},
     "output_type": "execute_result"
    }
   ],
   "source": [
    "31 // 10"
   ]
  },
  {
   "cell_type": "code",
   "execution_count": 116,
   "id": "98de6bf9",
   "metadata": {},
   "outputs": [
    {
     "name": "stdout",
     "output_type": "stream",
     "text": [
      "0\n"
     ]
    }
   ],
   "source": []
  },
  {
   "cell_type": "code",
   "execution_count": 106,
   "id": "350eb592",
   "metadata": {},
   "outputs": [
    {
     "name": "stdout",
     "output_type": "stream",
     "text": [
      "2\n",
      "51\n",
      "2 2 51\n"
     ]
    }
   ],
   "source": []
  },
  {
   "cell_type": "code",
   "execution_count": null,
   "id": "5b7bfbca",
   "metadata": {},
   "outputs": [],
   "source": []
  }
 ],
 "metadata": {
  "kernelspec": {
   "display_name": "Python 3 (ipykernel)",
   "language": "python",
   "name": "python3"
  },
  "language_info": {
   "codemirror_mode": {
    "name": "ipython",
    "version": 3
   },
   "file_extension": ".py",
   "mimetype": "text/x-python",
   "name": "python",
   "nbconvert_exporter": "python",
   "pygments_lexer": "ipython3",
   "version": "3.9.12"
  }
 },
 "nbformat": 4,
 "nbformat_minor": 5
}
