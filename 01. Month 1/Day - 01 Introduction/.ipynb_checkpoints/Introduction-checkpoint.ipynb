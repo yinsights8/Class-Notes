{
 "cells": [
  {
   "cell_type": "markdown",
   "id": "97d735fb",
   "metadata": {},
   "source": [
    "# Introduction"
   ]
  },
  {
   "cell_type": "code",
   "execution_count": 1,
   "id": "e6c59d7c",
   "metadata": {},
   "outputs": [
    {
     "name": "stdout",
     "output_type": "stream",
     "text": [
      "Hello World!\n"
     ]
    }
   ],
   "source": [
    "print(\"Hello World!\")"
   ]
  },
  {
   "cell_type": "code",
   "execution_count": 4,
   "id": "dd912b7f",
   "metadata": {},
   "outputs": [
    {
     "name": "stdout",
     "output_type": "stream",
     "text": [
      "Welcome to Python and Data Science Class\n"
     ]
    }
   ],
   "source": [
    "print('Welcome to Python and Data Science Class')"
   ]
  },
  {
   "cell_type": "code",
   "execution_count": 5,
   "id": "4aca760d",
   "metadata": {},
   "outputs": [
    {
     "name": "stdout",
     "output_type": "stream",
     "text": [
      "Data Science\n"
     ]
    },
    {
     "data": {
      "text/plain": [
       "100"
      ]
     },
     "execution_count": 5,
     "metadata": {},
     "output_type": "execute_result"
    }
   ],
   "source": [
    "print(\"Data Science\")\n",
    "number = 100\n",
    "number"
   ]
  },
  {
   "cell_type": "code",
   "execution_count": 6,
   "id": "e1931496",
   "metadata": {},
   "outputs": [
    {
     "data": {
      "text/plain": [
       "100"
      ]
     },
     "execution_count": 6,
     "metadata": {},
     "output_type": "execute_result"
    }
   ],
   "source": [
    "number"
   ]
  },
  {
   "cell_type": "code",
   "execution_count": 11,
   "id": "58d819b7",
   "metadata": {},
   "outputs": [
    {
     "data": {
      "text/plain": [
       "200"
      ]
     },
     "execution_count": 11,
     "metadata": {},
     "output_type": "execute_result"
    }
   ],
   "source": [
    "number1 = 100\n",
    "number1\n",
    "number2 = 200\n",
    "number2"
   ]
  },
  {
   "cell_type": "code",
   "execution_count": 9,
   "id": "b01f7610",
   "metadata": {},
   "outputs": [
    {
     "name": "stdout",
     "output_type": "stream",
     "text": [
      "100\n"
     ]
    },
    {
     "data": {
      "text/plain": [
       "200"
      ]
     },
     "execution_count": 9,
     "metadata": {},
     "output_type": "execute_result"
    }
   ],
   "source": [
    "number1 = 100\n",
    "print(number1)\n",
    "number2 = 200\n",
    "number2"
   ]
  },
  {
   "cell_type": "code",
   "execution_count": 13,
   "id": "f75c7571",
   "metadata": {},
   "outputs": [
    {
     "name": "stdout",
     "output_type": "stream",
     "text": [
      "100\n",
      "200\n"
     ]
    },
    {
     "data": {
      "text/plain": [
       "300"
      ]
     },
     "execution_count": 13,
     "metadata": {},
     "output_type": "execute_result"
    }
   ],
   "source": [
    "number1 = 100\n",
    "print(number1)\n",
    "number2 = 200\n",
    "print(number2)\n",
    "number3 = 300\n",
    "number3"
   ]
  },
  {
   "cell_type": "markdown",
   "id": "849badeb",
   "metadata": {},
   "source": [
    "# First using single Hash"
   ]
  },
  {
   "cell_type": "markdown",
   "id": "73052172",
   "metadata": {},
   "source": [
    "## Second Heading\n",
    "\n",
    "### Third Heading\n",
    "\n",
    "#### Fourth Heading\n",
    "\n",
    "##### Fifth Heading"
   ]
  },
  {
   "cell_type": "code",
   "execution_count": 16,
   "id": "0c306b00",
   "metadata": {},
   "outputs": [
    {
     "data": {
      "text/plain": [
       "'Hello'"
      ]
     },
     "execution_count": 16,
     "metadata": {},
     "output_type": "execute_result"
    }
   ],
   "source": [
    "\"Hello\""
   ]
  },
  {
   "cell_type": "markdown",
   "id": "1c0ab504",
   "metadata": {},
   "source": [
    "# Data Science"
   ]
  },
  {
   "cell_type": "raw",
   "id": "f0568191",
   "metadata": {},
   "source": [
    "Data science is an interdisciplinary field that uses scientific methods, processes, algorithms and systems to extract knowledge and insights from noisy, structured and unstructured data,[1][2] and apply knowledge from data across a broad range of application domains. Data science is related to data mining, machine learning and big data."
   ]
  },
  {
   "cell_type": "code",
   "execution_count": 18,
   "id": "ee410db9",
   "metadata": {},
   "outputs": [
    {
     "data": {
      "text/plain": [
       "'Data science is an interdisciplinary field that uses scientific methods, processes, algorithms and systems to extract knowledge and insights from noisy, structured and unstructured data,[1][2] and apply knowledge from data across a broad range of application domains. Data science is related to data mining, machine learning and big data.'"
      ]
     },
     "execution_count": 18,
     "metadata": {},
     "output_type": "execute_result"
    }
   ],
   "source": [
    "\"\"\"Data science is an interdisciplinary field that uses scientific methods, processes, algorithms and systems to extract knowledge and insights from noisy, structured and unstructured data,[1][2] and apply knowledge from data across a broad range of application domains. Data science is related to data mining, machine learning and big data.\"\"\""
   ]
  },
  {
   "cell_type": "code",
   "execution_count": 19,
   "id": "3c995c80",
   "metadata": {},
   "outputs": [
    {
     "name": "stdout",
     "output_type": "stream",
     "text": [
      "Data science is an interdisciplinary field that uses scientific methods, processes, algorithms and systems to extract knowledge and insights from noisy, structured and unstructured data,[1][2] and apply knowledge from data across a broad range of application domains. Data science is related to data mining, machine learning and big data.\n"
     ]
    }
   ],
   "source": [
    "print(\"\"\"Data science is an interdisciplinary field that uses scientific methods, processes, algorithms and systems to extract knowledge and insights from noisy, structured and unstructured data,[1][2] and apply knowledge from data across a broad range of application domains. Data science is related to data mining, machine learning and big data.\"\"\")"
   ]
  },
  {
   "cell_type": "markdown",
   "id": "945d76fa",
   "metadata": {},
   "source": [
    "# How to run a cell\n",
    "- 1. control + Enter >>> Used to run the current cell\n",
    "    - 2. Shift + Enter >>> Used to execute current cell amd enter in the next cell\n",
    "        - 3. Alt + Enter >>> Used to execute current cell and create / add new blank cell"
   ]
  },
  {
   "cell_type": "markdown",
   "id": "8de8bfb3",
   "metadata": {},
   "source": [
    "- 1. control + Enter >>> Used to run the current cell\n",
    "    - 2. Shift + Enter >>> Used to execute current cell amd enter in the next cell\n",
    "        - 3. Alt + Enter >>> Used to execute current cell and create / add new blank cell"
   ]
  },
  {
   "cell_type": "raw",
   "id": "a6faa350",
   "metadata": {},
   "source": [
    "- 1. control + Enter >>> Used to run the current cell\n",
    "    - 2. Shift + Enter >>> Used to execute current cell amd enter in the next cell\n",
    "        - 3. Alt + Enter >>> Used to execute current cell and create / add new blank cell"
   ]
  },
  {
   "cell_type": "code",
   "execution_count": null,
   "id": "aca54d90",
   "metadata": {},
   "outputs": [],
   "source": []
  }
 ],
 "metadata": {
  "kernelspec": {
   "display_name": "Python 3",
   "language": "python",
   "name": "python3"
  },
  "language_info": {
   "codemirror_mode": {
    "name": "ipython",
    "version": 3
   },
   "file_extension": ".py",
   "mimetype": "text/x-python",
   "name": "python",
   "nbconvert_exporter": "python",
   "pygments_lexer": "ipython3",
   "version": "3.8.8"
  }
 },
 "nbformat": 4,
 "nbformat_minor": 5
}
