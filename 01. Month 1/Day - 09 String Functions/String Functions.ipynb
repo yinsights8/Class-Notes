{
 "cells": [
  {
   "cell_type": "markdown",
   "id": "c4e2fb9b",
   "metadata": {},
   "source": [
    "# String Functions"
   ]
  },
  {
   "cell_type": "markdown",
   "id": "fbd7bc0c",
   "metadata": {},
   "source": [
    "# 16. isalnum\n",
    "- Return True or False\n",
    "- Return True >> If string is in alphanumeric\n",
    "- Alphanumeric >> a-z,A-Z,0-9 (These are allowed char only)\n",
    "- Special char, dot and spaces (Not allowed char)"
   ]
  },
  {
   "cell_type": "code",
   "execution_count": 2,
   "id": "31139cb5",
   "metadata": {},
   "outputs": [
    {
     "data": {
      "text/plain": [
       "False"
      ]
     },
     "execution_count": 2,
     "metadata": {},
     "output_type": "execute_result"
    }
   ],
   "source": [
    "string = \"Data Science\" # Space NA\n",
    "string.isalnum()"
   ]
  },
  {
   "cell_type": "code",
   "execution_count": 3,
   "id": "d4eaa5ff",
   "metadata": {},
   "outputs": [
    {
     "data": {
      "text/plain": [
       "True"
      ]
     },
     "execution_count": 3,
     "metadata": {},
     "output_type": "execute_result"
    }
   ],
   "source": [
    "string = \"DataScience\" \n",
    "string.isalnum()"
   ]
  },
  {
   "cell_type": "code",
   "execution_count": 4,
   "id": "f5c7c83b",
   "metadata": {},
   "outputs": [
    {
     "data": {
      "text/plain": [
       "True"
      ]
     },
     "execution_count": 4,
     "metadata": {},
     "output_type": "execute_result"
    }
   ],
   "source": [
    "string = \"DataScience30July\" \n",
    "string.isalnum()"
   ]
  },
  {
   "cell_type": "code",
   "execution_count": 5,
   "id": "0212bc53",
   "metadata": {},
   "outputs": [
    {
     "data": {
      "text/plain": [
       "False"
      ]
     },
     "execution_count": 5,
     "metadata": {},
     "output_type": "execute_result"
    }
   ],
   "source": [
    "string = \"DataScience@30July\" \n",
    "string.isalnum()"
   ]
  },
  {
   "cell_type": "code",
   "execution_count": 6,
   "id": "23de72c0",
   "metadata": {},
   "outputs": [
    {
     "data": {
      "text/plain": [
       "False"
      ]
     },
     "execution_count": 6,
     "metadata": {},
     "output_type": "execute_result"
    }
   ],
   "source": [
    "string = \" \" \n",
    "string.isalnum()"
   ]
  },
  {
   "cell_type": "code",
   "execution_count": 8,
   "id": "36132d9b",
   "metadata": {},
   "outputs": [
    {
     "data": {
      "text/plain": [
       "False"
      ]
     },
     "execution_count": 8,
     "metadata": {},
     "output_type": "execute_result"
    }
   ],
   "source": [
    "string = \"3.4\" \n",
    "string.isalnum()"
   ]
  },
  {
   "cell_type": "markdown",
   "id": "e644f6bb",
   "metadata": {},
   "source": [
    "# 17. isalpha()\n",
    "- Return True or False\n",
    "- Return True >> If string contains only alphabates\n",
    "- Alphabates >> a-z,A-Z(The`se are allowed char only)\n",
    "- Special char, dot and spaces (Not allowed char)"
   ]
  },
  {
   "cell_type": "code",
   "execution_count": 10,
   "id": "d4a23da5",
   "metadata": {},
   "outputs": [
    {
     "data": {
      "text/plain": [
       "True"
      ]
     },
     "execution_count": 10,
     "metadata": {},
     "output_type": "execute_result"
    }
   ],
   "source": [
    "string = \"DataScience\"\n",
    "string.isalpha()"
   ]
  },
  {
   "cell_type": "code",
   "execution_count": 12,
   "id": "027dbfec",
   "metadata": {},
   "outputs": [
    {
     "data": {
      "text/plain": [
       "True"
      ]
     },
     "execution_count": 12,
     "metadata": {},
     "output_type": "execute_result"
    }
   ],
   "source": [
    "string = \"DataScience\".lower().upper()\n",
    "string.isalpha()"
   ]
  },
  {
   "cell_type": "code",
   "execution_count": 13,
   "id": "aaa201a6",
   "metadata": {},
   "outputs": [
    {
     "data": {
      "text/plain": [
       "False"
      ]
     },
     "execution_count": 13,
     "metadata": {},
     "output_type": "execute_result"
    }
   ],
   "source": [
    "string = \"Data Science\"\n",
    "string.isalpha()"
   ]
  },
  {
   "cell_type": "code",
   "execution_count": 14,
   "id": "e2124cd6",
   "metadata": {},
   "outputs": [
    {
     "data": {
      "text/plain": [
       "False"
      ]
     },
     "execution_count": 14,
     "metadata": {},
     "output_type": "execute_result"
    }
   ],
   "source": [
    "string = \"Data@Science\"\n",
    "string.isalpha()"
   ]
  },
  {
   "cell_type": "code",
   "execution_count": 15,
   "id": "23f13210",
   "metadata": {},
   "outputs": [
    {
     "data": {
      "text/plain": [
       "False"
      ]
     },
     "execution_count": 15,
     "metadata": {},
     "output_type": "execute_result"
    }
   ],
   "source": [
    "string = \"DataScience1.42\"\n",
    "string.isalpha()"
   ]
  },
  {
   "cell_type": "code",
   "execution_count": 20,
   "id": "1f5e55a7",
   "metadata": {},
   "outputs": [
    {
     "data": {
      "text/plain": [
       "True"
      ]
     },
     "execution_count": 20,
     "metadata": {},
     "output_type": "execute_result"
    }
   ],
   "source": [
    "raw_string = \"  HGRD2343YF  \"\n",
    "# raw_string.isalnum() # False\n",
    "new_str = raw_string.strip()\n",
    "new_str.isalnum()  # True"
   ]
  },
  {
   "cell_type": "code",
   "execution_count": 25,
   "id": "2db4b0bd",
   "metadata": {},
   "outputs": [
    {
     "data": {
      "text/plain": [
       "True"
      ]
     },
     "execution_count": 25,
     "metadata": {},
     "output_type": "execute_result"
    }
   ],
   "source": [
    "raw_string = \"  1234 2345 3456  \"\n",
    "# raw_string.isalnum() # False\n",
    "new = raw_string.replace(\" \",\"\")\n",
    "new.isalnum()"
   ]
  },
  {
   "cell_type": "code",
   "execution_count": 26,
   "id": "213409f2",
   "metadata": {},
   "outputs": [
    {
     "data": {
      "text/plain": [
       "True"
      ]
     },
     "execution_count": 26,
     "metadata": {},
     "output_type": "execute_result"
    }
   ],
   "source": [
    "raw_string = \"  1234 2345 3456  \"\n",
    "# raw_string.isalnum() # False\n",
    "raw_string.replace(\" \",\"\").isalnum()\n",
    "# new.isalnum()"
   ]
  },
  {
   "cell_type": "code",
   "execution_count": 27,
   "id": "6f680f68",
   "metadata": {},
   "outputs": [
    {
     "data": {
      "text/plain": [
       "'123 234432 321'"
      ]
     },
     "execution_count": 27,
     "metadata": {},
     "output_type": "execute_result"
    }
   ],
   "source": [
    "\"123 234\" + \"432 321\""
   ]
  },
  {
   "cell_type": "markdown",
   "id": "277917d3",
   "metadata": {},
   "source": [
    "# 18. isdecimal()\n",
    "- Return True or False\n",
    "- Return True >> If string contains only digits(0-9)\n",
    "- Alphabates >> 0-9(These are allowed char only)\n",
    "- Special char, dot and spaces (Not allowed char)"
   ]
  },
  {
   "cell_type": "code",
   "execution_count": 28,
   "id": "8f81f5ef",
   "metadata": {},
   "outputs": [
    {
     "data": {
      "text/plain": [
       "True"
      ]
     },
     "execution_count": 28,
     "metadata": {},
     "output_type": "execute_result"
    }
   ],
   "source": [
    "string = \"12345\"\n",
    "string.isdecimal()"
   ]
  },
  {
   "cell_type": "code",
   "execution_count": 29,
   "id": "ad233a59",
   "metadata": {},
   "outputs": [
    {
     "data": {
      "text/plain": [
       "False"
      ]
     },
     "execution_count": 29,
     "metadata": {},
     "output_type": "execute_result"
    }
   ],
   "source": [
    "string = \"123 45\"\n",
    "string.isdecimal()"
   ]
  },
  {
   "cell_type": "code",
   "execution_count": 30,
   "id": "b6605d7f",
   "metadata": {},
   "outputs": [
    {
     "data": {
      "text/plain": [
       "False"
      ]
     },
     "execution_count": 30,
     "metadata": {},
     "output_type": "execute_result"
    }
   ],
   "source": [
    "string = \"123.45\"\n",
    "string.isdecimal()"
   ]
  },
  {
   "cell_type": "code",
   "execution_count": 31,
   "id": "c2d49112",
   "metadata": {},
   "outputs": [
    {
     "data": {
      "text/plain": [
       "False"
      ]
     },
     "execution_count": 31,
     "metadata": {},
     "output_type": "execute_result"
    }
   ],
   "source": [
    "string = \"123@45\"\n",
    "string.isdecimal()"
   ]
  },
  {
   "cell_type": "code",
   "execution_count": 32,
   "id": "901e4d15",
   "metadata": {},
   "outputs": [
    {
     "data": {
      "text/plain": [
       "True"
      ]
     },
     "execution_count": 32,
     "metadata": {},
     "output_type": "execute_result"
    }
   ],
   "source": [
    "string = \"9980987656\"\n",
    "string.isdecimal()"
   ]
  },
  {
   "cell_type": "code",
   "execution_count": 33,
   "id": "d14f2041",
   "metadata": {},
   "outputs": [
    {
     "data": {
      "text/plain": [
       "False"
      ]
     },
     "execution_count": 33,
     "metadata": {},
     "output_type": "execute_result"
    }
   ],
   "source": [
    "string = \"9980987656@\" # False\n",
    "string.isdecimal()"
   ]
  },
  {
   "cell_type": "raw",
   "id": "f4486a4e",
   "metadata": {},
   "source": [
    "\\u0030 == 0\n",
    "\\u0031 == 1\n",
    "\\u0032 == 2\n",
    "    .\n",
    "    .\n",
    "\\u0039 == 9"
   ]
  },
  {
   "cell_type": "code",
   "execution_count": 37,
   "id": "75f2fc09",
   "metadata": {},
   "outputs": [
    {
     "name": "stdout",
     "output_type": "stream",
     "text": [
      "0\n",
      "1\n",
      "2\n"
     ]
    }
   ],
   "source": [
    "print(\"\\u0030\")\n",
    "print(\"\\u0031\")\n",
    "print(\"\\u0032\") # 2"
   ]
  },
  {
   "cell_type": "code",
   "execution_count": 38,
   "id": "048d62c0",
   "metadata": {},
   "outputs": [
    {
     "data": {
      "text/plain": [
       "True"
      ]
     },
     "execution_count": 38,
     "metadata": {},
     "output_type": "execute_result"
    }
   ],
   "source": [
    "str1 = \"\\u0032\"\n",
    "str1.isdecimal()"
   ]
  },
  {
   "cell_type": "code",
   "execution_count": 39,
   "id": "c9eb35ba",
   "metadata": {},
   "outputs": [
    {
     "data": {
      "text/plain": [
       "True"
      ]
     },
     "execution_count": 39,
     "metadata": {},
     "output_type": "execute_result"
    }
   ],
   "source": [
    "str1 = \"\\u0036\"\n",
    "str1.isdecimal()"
   ]
  },
  {
   "cell_type": "code",
   "execution_count": 43,
   "id": "901e1e17",
   "metadata": {},
   "outputs": [
    {
     "name": "stdout",
     "output_type": "stream",
     "text": [
      "Đ\n"
     ]
    }
   ],
   "source": [
    "str1 = \"\\u0110\"\n",
    "# str1.isdecimal()\n",
    "print(str1)"
   ]
  },
  {
   "cell_type": "markdown",
   "id": "469aa319",
   "metadata": {},
   "source": [
    "# 19. isdigit()\n",
    "- Return True or False\n",
    "- Return True >> If string contains digits, subscripts and superscripts\n",
    "- Alphabates >> 0-9(These are allowed char only)\n",
    "- Special char, dot and spaces (Not allowed char)"
   ]
  },
  {
   "cell_type": "code",
   "execution_count": 44,
   "id": "d31b8148",
   "metadata": {},
   "outputs": [
    {
     "data": {
      "text/plain": [
       "True"
      ]
     },
     "execution_count": 44,
     "metadata": {},
     "output_type": "execute_result"
    }
   ],
   "source": [
    "mobile_number = \"9899909998\"\n",
    "mobile_number.isdecimal()"
   ]
  },
  {
   "cell_type": "code",
   "execution_count": 45,
   "id": "2baeddab",
   "metadata": {},
   "outputs": [
    {
     "data": {
      "text/plain": [
       "True"
      ]
     },
     "execution_count": 45,
     "metadata": {},
     "output_type": "execute_result"
    }
   ],
   "source": [
    "str1 = \"\\u0032\"\n",
    "str1.isdecimal()"
   ]
  },
  {
   "cell_type": "code",
   "execution_count": 46,
   "id": "023a3c87",
   "metadata": {},
   "outputs": [
    {
     "data": {
      "text/plain": [
       "True"
      ]
     },
     "execution_count": 46,
     "metadata": {},
     "output_type": "execute_result"
    }
   ],
   "source": [
    "mobile_number = \"9899909998\"\n",
    "mobile_number.isdigit()"
   ]
  },
  {
   "cell_type": "code",
   "execution_count": 47,
   "id": "bc930a73",
   "metadata": {},
   "outputs": [
    {
     "data": {
      "text/plain": [
       "False"
      ]
     },
     "execution_count": 47,
     "metadata": {},
     "output_type": "execute_result"
    }
   ],
   "source": [
    "mobile_number = \"989990.9998\"\n",
    "mobile_number.isdigit()"
   ]
  },
  {
   "cell_type": "code",
   "execution_count": 49,
   "id": "232acacc",
   "metadata": {},
   "outputs": [
    {
     "data": {
      "text/plain": [
       "False"
      ]
     },
     "execution_count": 49,
     "metadata": {},
     "output_type": "execute_result"
    }
   ],
   "source": [
    "mobile_number = \"989990 9998@\"\n",
    "mobile_number.isdigit()"
   ]
  },
  {
   "cell_type": "code",
   "execution_count": 50,
   "id": "a41acb43",
   "metadata": {},
   "outputs": [
    {
     "data": {
      "text/plain": [
       "True"
      ]
     },
     "execution_count": 50,
     "metadata": {},
     "output_type": "execute_result"
    }
   ],
   "source": [
    "str1 = \"\\u0032\" # Superscript\n",
    "str1.isdecimal()"
   ]
  },
  {
   "cell_type": "code",
   "execution_count": 51,
   "id": "35962020",
   "metadata": {},
   "outputs": [
    {
     "data": {
      "text/plain": [
       "True"
      ]
     },
     "execution_count": 51,
     "metadata": {},
     "output_type": "execute_result"
    }
   ],
   "source": [
    "str1 = \"\\u0032\" # Superscript\n",
    "str1.isdigit()"
   ]
  },
  {
   "cell_type": "code",
   "execution_count": 59,
   "id": "de4cae87",
   "metadata": {},
   "outputs": [
    {
     "data": {
      "text/plain": [
       "False"
      ]
     },
     "execution_count": 59,
     "metadata": {},
     "output_type": "execute_result"
    }
   ],
   "source": [
    "str1 = \"\\u00B2\" # Superscript\n",
    "str1.isdecimal()"
   ]
  },
  {
   "cell_type": "code",
   "execution_count": 60,
   "id": "9905be08",
   "metadata": {},
   "outputs": [
    {
     "data": {
      "text/plain": [
       "True"
      ]
     },
     "execution_count": 60,
     "metadata": {},
     "output_type": "execute_result"
    }
   ],
   "source": [
    "str1 = \"\\u00B2\" # Superscript\n",
    "str1.isdigit()"
   ]
  },
  {
   "cell_type": "code",
   "execution_count": 61,
   "id": "016ece0a",
   "metadata": {},
   "outputs": [
    {
     "data": {
      "text/plain": [
       "'²'"
      ]
     },
     "execution_count": 61,
     "metadata": {},
     "output_type": "execute_result"
    }
   ],
   "source": [
    "\"\\u00B2\""
   ]
  },
  {
   "cell_type": "code",
   "execution_count": 66,
   "id": "92965283",
   "metadata": {},
   "outputs": [
    {
     "data": {
      "text/plain": [
       "'₇'"
      ]
     },
     "execution_count": 66,
     "metadata": {},
     "output_type": "execute_result"
    }
   ],
   "source": [
    "\"\\u2087\" # Subscripts"
   ]
  },
  {
   "cell_type": "code",
   "execution_count": 67,
   "id": "7425f8fa",
   "metadata": {},
   "outputs": [
    {
     "data": {
      "text/plain": [
       "False"
      ]
     },
     "execution_count": 67,
     "metadata": {},
     "output_type": "execute_result"
    }
   ],
   "source": [
    "str1 = \"\\u2087\"\n",
    "str1.isdecimal()"
   ]
  },
  {
   "cell_type": "code",
   "execution_count": 68,
   "id": "2d986aeb",
   "metadata": {},
   "outputs": [
    {
     "data": {
      "text/plain": [
       "True"
      ]
     },
     "execution_count": 68,
     "metadata": {},
     "output_type": "execute_result"
    }
   ],
   "source": [
    "str1 = \"\\u2087\"\n",
    "str1.isdigit()"
   ]
  },
  {
   "cell_type": "markdown",
   "id": "5ba9ebe1",
   "metadata": {},
   "source": [
    "# 19. isnumeric()\n",
    "- Return True or False\n",
    "- Return True >> If string contains digits, subscripts, superscripts and vulgar fraction(1/2,2/3)"
   ]
  },
  {
   "cell_type": "code",
   "execution_count": 70,
   "id": "f9ce94a7",
   "metadata": {},
   "outputs": [
    {
     "data": {
      "text/plain": [
       "'½'"
      ]
     },
     "execution_count": 70,
     "metadata": {},
     "output_type": "execute_result"
    }
   ],
   "source": [
    "str1 = \"\\u00BD\"\n",
    "str1"
   ]
  },
  {
   "cell_type": "code",
   "execution_count": 71,
   "id": "ea89e808",
   "metadata": {},
   "outputs": [
    {
     "data": {
      "text/plain": [
       "True"
      ]
     },
     "execution_count": 71,
     "metadata": {},
     "output_type": "execute_result"
    }
   ],
   "source": [
    "str1 = \"\\u00BD\"\n",
    "str1.isnumeric()"
   ]
  },
  {
   "cell_type": "code",
   "execution_count": 73,
   "id": "ec3f8d68",
   "metadata": {},
   "outputs": [
    {
     "data": {
      "text/plain": [
       "True"
      ]
     },
     "execution_count": 73,
     "metadata": {},
     "output_type": "execute_result"
    }
   ],
   "source": [
    "\"\\u2082\".isnumeric()"
   ]
  },
  {
   "cell_type": "code",
   "execution_count": 75,
   "id": "8b95cc16",
   "metadata": {},
   "outputs": [
    {
     "name": "stdout",
     "output_type": "stream",
     "text": [
      "True\n",
      "True\n",
      "True\n"
     ]
    }
   ],
   "source": [
    "string = \"56789\"\n",
    "print(string.isdecimal()) \n",
    "print(string.isdigit()) \n",
    "print(string.isnumeric()) "
   ]
  },
  {
   "cell_type": "code",
   "execution_count": 76,
   "id": "d27baa1d",
   "metadata": {},
   "outputs": [
    {
     "name": "stdout",
     "output_type": "stream",
     "text": [
      "False\n",
      "True\n",
      "True\n"
     ]
    }
   ],
   "source": [
    "string = \"\\u2082\"\n",
    "print(string.isdecimal()) \n",
    "print(string.isdigit()) \n",
    "print(string.isnumeric()) "
   ]
  },
  {
   "cell_type": "code",
   "execution_count": 77,
   "id": "89e5c6cb",
   "metadata": {},
   "outputs": [
    {
     "name": "stdout",
     "output_type": "stream",
     "text": [
      "False\n",
      "False\n",
      "False\n"
     ]
    }
   ],
   "source": [
    "string = \"5.555\"\n",
    "print(string.isdecimal()) \n",
    "print(string.isdigit()) \n",
    "print(string.isnumeric()) "
   ]
  },
  {
   "cell_type": "code",
   "execution_count": 78,
   "id": "6aed5f38",
   "metadata": {},
   "outputs": [
    {
     "name": "stdout",
     "output_type": "stream",
     "text": [
      "False\n",
      "False\n",
      "False\n"
     ]
    }
   ],
   "source": [
    "string = \"5 555\"\n",
    "print(string.isdecimal()) \n",
    "print(string.isdigit()) \n",
    "print(string.isnumeric()) "
   ]
  },
  {
   "cell_type": "code",
   "execution_count": 80,
   "id": "980f2c21",
   "metadata": {},
   "outputs": [
    {
     "data": {
      "text/plain": [
       "'1'"
      ]
     },
     "execution_count": 80,
     "metadata": {},
     "output_type": "execute_result"
    }
   ],
   "source": [
    "\"\\u0031\""
   ]
  },
  {
   "cell_type": "code",
   "execution_count": 81,
   "id": "d6975aa4",
   "metadata": {},
   "outputs": [
    {
     "name": "stdout",
     "output_type": "stream",
     "text": [
      "True\n",
      "True\n",
      "True\n"
     ]
    }
   ],
   "source": [
    "string = \"\\u0031\"\n",
    "print(string.isdecimal()) \n",
    "print(string.isdigit()) \n",
    "print(string.isnumeric()) "
   ]
  },
  {
   "cell_type": "code",
   "execution_count": 82,
   "id": "37a5030f",
   "metadata": {},
   "outputs": [
    {
     "data": {
      "text/plain": [
       "'₂'"
      ]
     },
     "execution_count": 82,
     "metadata": {},
     "output_type": "execute_result"
    }
   ],
   "source": [
    "\"\\u2082\""
   ]
  },
  {
   "cell_type": "code",
   "execution_count": 83,
   "id": "590767b9",
   "metadata": {},
   "outputs": [
    {
     "name": "stdout",
     "output_type": "stream",
     "text": [
      "False\n",
      "True\n",
      "True\n"
     ]
    }
   ],
   "source": [
    "string = \"\\u2082\"\n",
    "print(string.isdecimal()) \n",
    "print(string.isdigit()) \n",
    "print(string.isnumeric()) "
   ]
  },
  {
   "cell_type": "markdown",
   "id": "7fecad77",
   "metadata": {},
   "source": [
    "# 20. islower()\n",
    "- Return True or False\n",
    "- Return True >> If string contains all plphabates in lower case.\n",
    "- space and special char are allowed"
   ]
  },
  {
   "cell_type": "code",
   "execution_count": 84,
   "id": "1bf5ae8c",
   "metadata": {},
   "outputs": [
    {
     "data": {
      "text/plain": [
       "True"
      ]
     },
     "execution_count": 84,
     "metadata": {},
     "output_type": "execute_result"
    }
   ],
   "source": [
    "str1 = \"python\"\n",
    "str1.islower()"
   ]
  },
  {
   "cell_type": "code",
   "execution_count": 85,
   "id": "6cef1774",
   "metadata": {},
   "outputs": [
    {
     "data": {
      "text/plain": [
       "False"
      ]
     },
     "execution_count": 85,
     "metadata": {},
     "output_type": "execute_result"
    }
   ],
   "source": [
    "str1 = \"Python\"\n",
    "str1.islower()"
   ]
  },
  {
   "cell_type": "code",
   "execution_count": 86,
   "id": "59957ce1",
   "metadata": {},
   "outputs": [
    {
     "data": {
      "text/plain": [
       "False"
      ]
     },
     "execution_count": 86,
     "metadata": {},
     "output_type": "execute_result"
    }
   ],
   "source": [
    "str1 = \"Python and Data Science\"\n",
    "str1.islower()"
   ]
  },
  {
   "cell_type": "code",
   "execution_count": 87,
   "id": "97e7c64e",
   "metadata": {},
   "outputs": [
    {
     "data": {
      "text/plain": [
       "True"
      ]
     },
     "execution_count": 87,
     "metadata": {},
     "output_type": "execute_result"
    }
   ],
   "source": [
    "str1 = \"Python and Data Science\".lower()\n",
    "str1.islower()"
   ]
  },
  {
   "cell_type": "code",
   "execution_count": 89,
   "id": "bdb1a8c5",
   "metadata": {},
   "outputs": [
    {
     "data": {
      "text/plain": [
       "False"
      ]
     },
     "execution_count": 89,
     "metadata": {},
     "output_type": "execute_result"
    }
   ],
   "source": [
    "str1 = \"Python & Data Science\"\n",
    "str1.islower()"
   ]
  },
  {
   "cell_type": "code",
   "execution_count": 90,
   "id": "27113f9d",
   "metadata": {},
   "outputs": [
    {
     "data": {
      "text/plain": [
       "True"
      ]
     },
     "execution_count": 90,
     "metadata": {},
     "output_type": "execute_result"
    }
   ],
   "source": [
    "str1 = \"Python & Data Science\".lower()\n",
    "str1.islower()"
   ]
  },
  {
   "cell_type": "markdown",
   "id": "557d169e",
   "metadata": {},
   "source": [
    "# 21. isupper()\n",
    "- Return True or False\n",
    "- Return True >> If string contains all alphabates in upper case.\n",
    "- space and special char are allowed"
   ]
  },
  {
   "cell_type": "code",
   "execution_count": 91,
   "id": "16c44425",
   "metadata": {},
   "outputs": [
    {
     "data": {
      "text/plain": [
       "True"
      ]
     },
     "execution_count": 91,
     "metadata": {},
     "output_type": "execute_result"
    }
   ],
   "source": [
    "str1 = \"PYTHON\"\n",
    "str1.isupper()"
   ]
  },
  {
   "cell_type": "code",
   "execution_count": 92,
   "id": "912d3d34",
   "metadata": {},
   "outputs": [
    {
     "data": {
      "text/plain": [
       "True"
      ]
     },
     "execution_count": 92,
     "metadata": {},
     "output_type": "execute_result"
    }
   ],
   "source": [
    "str1 = \"PYTHON AND DATA SCIENCE\"\n",
    "str1.isupper()"
   ]
  },
  {
   "cell_type": "code",
   "execution_count": 93,
   "id": "f88fad9c",
   "metadata": {},
   "outputs": [
    {
     "data": {
      "text/plain": [
       "True"
      ]
     },
     "execution_count": 93,
     "metadata": {},
     "output_type": "execute_result"
    }
   ],
   "source": [
    "str1 = \"PYTHON & DATA SCIENCE\"\n",
    "str1.isupper()"
   ]
  },
  {
   "cell_type": "code",
   "execution_count": 94,
   "id": "46c4b36e",
   "metadata": {},
   "outputs": [
    {
     "data": {
      "text/plain": [
       "False"
      ]
     },
     "execution_count": 94,
     "metadata": {},
     "output_type": "execute_result"
    }
   ],
   "source": [
    "str1 = \"PYTHON & DATA SCIENCE\".title()\n",
    "str1.isupper()"
   ]
  },
  {
   "cell_type": "code",
   "execution_count": 95,
   "id": "b4ae4a8f",
   "metadata": {},
   "outputs": [
    {
     "data": {
      "text/plain": [
       "False"
      ]
     },
     "execution_count": 95,
     "metadata": {},
     "output_type": "execute_result"
    }
   ],
   "source": [
    "str1 = \"PYTHON & DATA SCIENCE\".swapcase()\n",
    "str1.isupper()"
   ]
  },
  {
   "cell_type": "code",
   "execution_count": 96,
   "id": "19207883",
   "metadata": {},
   "outputs": [
    {
     "data": {
      "text/plain": [
       "True"
      ]
     },
     "execution_count": 96,
     "metadata": {},
     "output_type": "execute_result"
    }
   ],
   "source": [
    "str1 = \"PYTHON & DATA SCIENCE\".swapcase().upper()\n",
    "str1.isupper()"
   ]
  },
  {
   "cell_type": "markdown",
   "id": "74088437",
   "metadata": {},
   "source": [
    "# 21. istitle()\n",
    "- Return True or False\n",
    "- Return True >> If string in title case.\n",
    "- space and special char are allowed"
   ]
  },
  {
   "cell_type": "code",
   "execution_count": 99,
   "id": "1bc398ec",
   "metadata": {},
   "outputs": [
    {
     "data": {
      "text/plain": [
       "True"
      ]
     },
     "execution_count": 99,
     "metadata": {},
     "output_type": "execute_result"
    }
   ],
   "source": [
    "str1 = \"Python & Data Science\" # Space &\n",
    "str1.istitle()"
   ]
  },
  {
   "cell_type": "code",
   "execution_count": 100,
   "id": "b90d3ec1",
   "metadata": {},
   "outputs": [
    {
     "data": {
      "text/plain": [
       "False"
      ]
     },
     "execution_count": 100,
     "metadata": {},
     "output_type": "execute_result"
    }
   ],
   "source": [
    "str1 = \"Python & Data Science\".lower()\n",
    "str1.istitle()"
   ]
  },
  {
   "cell_type": "code",
   "execution_count": 101,
   "id": "5fe63593",
   "metadata": {},
   "outputs": [
    {
     "data": {
      "text/plain": [
       "False"
      ]
     },
     "execution_count": 101,
     "metadata": {},
     "output_type": "execute_result"
    }
   ],
   "source": [
    "str1 = \"Python & Data Science\".lower().upper()\n",
    "str1.istitle()"
   ]
  },
  {
   "cell_type": "code",
   "execution_count": 102,
   "id": "fc3cf5ff",
   "metadata": {},
   "outputs": [
    {
     "data": {
      "text/plain": [
       "False"
      ]
     },
     "execution_count": 102,
     "metadata": {},
     "output_type": "execute_result"
    }
   ],
   "source": [
    "str1 = \"Python & Data Science\".lower().upper().swapcase()\n",
    "str1.istitle()"
   ]
  },
  {
   "cell_type": "code",
   "execution_count": 103,
   "id": "ecd59244",
   "metadata": {},
   "outputs": [
    {
     "data": {
      "text/plain": [
       "True"
      ]
     },
     "execution_count": 103,
     "metadata": {},
     "output_type": "execute_result"
    }
   ],
   "source": [
    "str1 = \"Python & Data Science\".lower().upper().swapcase().title()\n",
    "str1.istitle()"
   ]
  },
  {
   "cell_type": "markdown",
   "id": "e267fae1",
   "metadata": {},
   "source": [
    "# 24. isspace()\n",
    "- True >> If all char are space"
   ]
  },
  {
   "cell_type": "code",
   "execution_count": 104,
   "id": "6be55cc5",
   "metadata": {},
   "outputs": [
    {
     "data": {
      "text/plain": [
       "True"
      ]
     },
     "execution_count": 104,
     "metadata": {},
     "output_type": "execute_result"
    }
   ],
   "source": [
    "str1 = \" \" # Single space\n",
    "str1.isspace()"
   ]
  },
  {
   "cell_type": "code",
   "execution_count": 105,
   "id": "d3064906",
   "metadata": {},
   "outputs": [
    {
     "data": {
      "text/plain": [
       "True"
      ]
     },
     "execution_count": 105,
     "metadata": {},
     "output_type": "execute_result"
    }
   ],
   "source": [
    "str1 = \"                                 \" \n",
    "str1.isspace()"
   ]
  },
  {
   "cell_type": "code",
   "execution_count": 106,
   "id": "d0239cc3",
   "metadata": {},
   "outputs": [
    {
     "data": {
      "text/plain": [
       "True"
      ]
     },
     "execution_count": 106,
     "metadata": {},
     "output_type": "execute_result"
    }
   ],
   "source": [
    "str1 = \"    \" \n",
    "str1.isspace()"
   ]
  },
  {
   "cell_type": "code",
   "execution_count": 107,
   "id": "2b2026b0",
   "metadata": {},
   "outputs": [
    {
     "data": {
      "text/plain": [
       "False"
      ]
     },
     "execution_count": 107,
     "metadata": {},
     "output_type": "execute_result"
    }
   ],
   "source": [
    "str1 = \"    A\" \n",
    "str1.isspace()"
   ]
  },
  {
   "cell_type": "code",
   "execution_count": 108,
   "id": "cecc0cce",
   "metadata": {},
   "outputs": [
    {
     "data": {
      "text/plain": [
       "False"
      ]
     },
     "execution_count": 108,
     "metadata": {},
     "output_type": "execute_result"
    }
   ],
   "source": [
    "str1 = \"    .\" \n",
    "str1.isspace()"
   ]
  },
  {
   "cell_type": "code",
   "execution_count": 109,
   "id": "e7a18efb",
   "metadata": {},
   "outputs": [
    {
     "data": {
      "text/plain": [
       "False"
      ]
     },
     "execution_count": 109,
     "metadata": {},
     "output_type": "execute_result"
    }
   ],
   "source": [
    "str1 = \"    \\124\" \n",
    "str1.isspace()"
   ]
  },
  {
   "cell_type": "code",
   "execution_count": 112,
   "id": "fb1a74ca",
   "metadata": {},
   "outputs": [],
   "source": [
    "string = \"\"\"Python and data science\n",
    "        \n",
    "30 July Batch\n",
    "          \n",
    "Velocity Training Center\n",
    "         \n",
    "Morning Batch\n",
    "               \n",
    "Good Students\"\"\""
   ]
  },
  {
   "cell_type": "code",
   "execution_count": 113,
   "id": "0f868e23",
   "metadata": {},
   "outputs": [
    {
     "name": "stdout",
     "output_type": "stream",
     "text": [
      "Python and data science\n",
      "        \n",
      "30 July Batch\n",
      "          \n",
      "Velocity Training Center\n",
      "         \n",
      "Morning Batch\n",
      "               \n",
      "Good Students\n"
     ]
    }
   ],
   "source": [
    "print(string)"
   ]
  },
  {
   "cell_type": "code",
   "execution_count": 114,
   "id": "5f376f0b",
   "metadata": {},
   "outputs": [
    {
     "data": {
      "text/plain": [
       "['p', 'y', 't', 'h', 'o', 'n']"
      ]
     },
     "execution_count": 114,
     "metadata": {},
     "output_type": "execute_result"
    }
   ],
   "source": [
    "s = \"p y t h o n\"\n",
    "s.split()"
   ]
  },
  {
   "cell_type": "code",
   "execution_count": 116,
   "id": "6a145b45",
   "metadata": {},
   "outputs": [
    {
     "data": {
      "text/plain": [
       "'hi \\n\\nby'"
      ]
     },
     "execution_count": 116,
     "metadata": {},
     "output_type": "execute_result"
    }
   ],
   "source": [
    "s = \"\"\"hi \n",
    "\n",
    "by\"\"\"\n",
    "s"
   ]
  },
  {
   "cell_type": "code",
   "execution_count": 117,
   "id": "357883a7",
   "metadata": {},
   "outputs": [
    {
     "data": {
      "text/plain": [
       "'Python and data science\\n        \\n30 July Batch\\n          \\nVelocity Training Center\\n         \\nMorning Batch\\n               \\nGood Students'"
      ]
     },
     "execution_count": 117,
     "metadata": {},
     "output_type": "execute_result"
    }
   ],
   "source": [
    "string = \"\"\"Python and data science\n",
    "        \n",
    "30 July Batch\n",
    "          \n",
    "Velocity Training Center\n",
    "         \n",
    "Morning Batch\n",
    "               \n",
    "Good Students\"\"\"\n",
    "\n",
    "string"
   ]
  },
  {
   "cell_type": "code",
   "execution_count": 119,
   "id": "99681ae9",
   "metadata": {},
   "outputs": [
    {
     "data": {
      "text/plain": [
       "['Python and data science',\n",
       " '        ',\n",
       " '30 July Batch',\n",
       " '          ',\n",
       " 'Velocity Training Center',\n",
       " '         ',\n",
       " 'Morning Batch',\n",
       " '               ',\n",
       " 'Good Students']"
      ]
     },
     "execution_count": 119,
     "metadata": {},
     "output_type": "execute_result"
    }
   ],
   "source": [
    "string = \"\"\"Python and data science\n",
    "        \n",
    "30 July Batch\n",
    "          \n",
    "Velocity Training Center\n",
    "         \n",
    "Morning Batch\n",
    "               \n",
    "Good Students\"\"\"\n",
    "\n",
    "line_list = string.split(\"\\n\")\n",
    "line_list"
   ]
  },
  {
   "cell_type": "code",
   "execution_count": 123,
   "id": "76cde0d4",
   "metadata": {},
   "outputs": [
    {
     "data": {
      "text/plain": [
       "True"
      ]
     },
     "execution_count": 123,
     "metadata": {},
     "output_type": "execute_result"
    }
   ],
   "source": [
    "line_list[5].isspace()"
   ]
  },
  {
   "cell_type": "code",
   "execution_count": null,
   "id": "45a4d789",
   "metadata": {},
   "outputs": [],
   "source": []
  },
  {
   "cell_type": "code",
   "execution_count": 127,
   "id": "12abab4b",
   "metadata": {},
   "outputs": [
    {
     "name": "stdout",
     "output_type": "stream",
     "text": [
      "THe line is :------ Python and data science\n",
      "THe line is :------         \n",
      "THe line is :------ 30 July Batch\n",
      "THe line is :------           \n",
      "THe line is :------ Velocity Training Center\n",
      "THe line is :------          \n",
      "THe line is :------ Morning Batch\n",
      "THe line is :------                \n",
      "THe line is :------ Good Students\n"
     ]
    }
   ],
   "source": [
    "for line in line_list:\n",
    "    print(f\"THe line is :------ {line}\")"
   ]
  },
  {
   "cell_type": "code",
   "execution_count": 126,
   "id": "8c400e51",
   "metadata": {},
   "outputs": [
    {
     "name": "stdout",
     "output_type": "stream",
     "text": [
      "Length of the Spaces :-          , 8\n",
      "Length of the Spaces :-            , 10\n",
      "Length of the Spaces :-           , 9\n",
      "Length of the Spaces :-                 , 15\n"
     ]
    }
   ],
   "source": [
    "for line in line_list:\n",
    "    if line.isspace():\n",
    "        print(f\"Length of the Spaces :- {line} , {len(line)}\")"
   ]
  },
  {
   "cell_type": "code",
   "execution_count": 128,
   "id": "684ee111",
   "metadata": {},
   "outputs": [
    {
     "name": "stdout",
     "output_type": "stream",
     "text": [
      "Python and data science\n",
      "30 July Batch\n",
      "Velocity Training Center\n",
      "Morning Batch\n",
      "Good Students\n"
     ]
    }
   ],
   "source": [
    "for line in line_list:\n",
    "    if not line.isspace():\n",
    "        print(f\"{line}\")"
   ]
  },
  {
   "cell_type": "markdown",
   "id": "3d94c459",
   "metadata": {},
   "source": [
    "# 25. zfill()\n",
    "- zero filling"
   ]
  },
  {
   "cell_type": "code",
   "execution_count": 129,
   "id": "ab369d43",
   "metadata": {},
   "outputs": [
    {
     "data": {
      "text/plain": [
       "6"
      ]
     },
     "execution_count": 129,
     "metadata": {},
     "output_type": "execute_result"
    }
   ],
   "source": [
    "string = \"Python\"\n",
    "len(string)"
   ]
  },
  {
   "cell_type": "code",
   "execution_count": 130,
   "id": "f28886c5",
   "metadata": {},
   "outputs": [
    {
     "data": {
      "text/plain": [
       "4"
      ]
     },
     "execution_count": 130,
     "metadata": {},
     "output_type": "execute_result"
    }
   ],
   "source": [
    "10 - 6"
   ]
  },
  {
   "cell_type": "code",
   "execution_count": 131,
   "id": "0c858c81",
   "metadata": {},
   "outputs": [
    {
     "data": {
      "text/plain": [
       "'0000Python'"
      ]
     },
     "execution_count": 131,
     "metadata": {},
     "output_type": "execute_result"
    }
   ],
   "source": [
    "string.zfill(10)"
   ]
  },
  {
   "cell_type": "code",
   "execution_count": 132,
   "id": "1530a48c",
   "metadata": {},
   "outputs": [
    {
     "data": {
      "text/plain": [
       "9"
      ]
     },
     "execution_count": 132,
     "metadata": {},
     "output_type": "execute_result"
    }
   ],
   "source": [
    "15 - 6"
   ]
  },
  {
   "cell_type": "code",
   "execution_count": 133,
   "id": "493d6f28",
   "metadata": {},
   "outputs": [
    {
     "data": {
      "text/plain": [
       "'000000000Python'"
      ]
     },
     "execution_count": 133,
     "metadata": {},
     "output_type": "execute_result"
    }
   ],
   "source": [
    "string.zfill(15)"
   ]
  },
  {
   "cell_type": "code",
   "execution_count": 134,
   "id": "c21cba8b",
   "metadata": {},
   "outputs": [
    {
     "data": {
      "text/plain": [
       "14"
      ]
     },
     "execution_count": 134,
     "metadata": {},
     "output_type": "execute_result"
    }
   ],
   "source": [
    "20 - 6"
   ]
  },
  {
   "cell_type": "code",
   "execution_count": 135,
   "id": "4fd2bbe3",
   "metadata": {},
   "outputs": [
    {
     "data": {
      "text/plain": [
       "'00000000000000Python'"
      ]
     },
     "execution_count": 135,
     "metadata": {},
     "output_type": "execute_result"
    }
   ],
   "source": [
    "string.zfill(20)"
   ]
  },
  {
   "cell_type": "markdown",
   "id": "d4cb1297",
   "metadata": {},
   "source": [
    "# 26. center()"
   ]
  },
  {
   "cell_type": "code",
   "execution_count": 136,
   "id": "159af372",
   "metadata": {},
   "outputs": [
    {
     "data": {
      "text/plain": [
       "4"
      ]
     },
     "execution_count": 136,
     "metadata": {},
     "output_type": "execute_result"
    }
   ],
   "source": [
    "string = \"Data\"\n",
    "len(string)"
   ]
  },
  {
   "cell_type": "code",
   "execution_count": 138,
   "id": "509bd4c7",
   "metadata": {},
   "outputs": [
    {
     "data": {
      "text/plain": [
       "2"
      ]
     },
     "execution_count": 138,
     "metadata": {},
     "output_type": "execute_result"
    }
   ],
   "source": [
    "6 - 4"
   ]
  },
  {
   "cell_type": "code",
   "execution_count": 137,
   "id": "196bb039",
   "metadata": {},
   "outputs": [
    {
     "data": {
      "text/plain": [
       "' Data '"
      ]
     },
     "execution_count": 137,
     "metadata": {},
     "output_type": "execute_result"
    }
   ],
   "source": [
    "string.center(6)"
   ]
  },
  {
   "cell_type": "code",
   "execution_count": 139,
   "id": "980cdbbe",
   "metadata": {},
   "outputs": [
    {
     "data": {
      "text/plain": [
       "'  Data '"
      ]
     },
     "execution_count": 139,
     "metadata": {},
     "output_type": "execute_result"
    }
   ],
   "source": [
    "string.center(7)"
   ]
  },
  {
   "cell_type": "code",
   "execution_count": 140,
   "id": "4f2a0295",
   "metadata": {},
   "outputs": [
    {
     "data": {
      "text/plain": [
       "6"
      ]
     },
     "execution_count": 140,
     "metadata": {},
     "output_type": "execute_result"
    }
   ],
   "source": [
    "10 - 4"
   ]
  },
  {
   "cell_type": "code",
   "execution_count": 141,
   "id": "0f44f06e",
   "metadata": {},
   "outputs": [
    {
     "data": {
      "text/plain": [
       "'   Data   '"
      ]
     },
     "execution_count": 141,
     "metadata": {},
     "output_type": "execute_result"
    }
   ],
   "source": [
    "string.center(10)"
   ]
  },
  {
   "cell_type": "code",
   "execution_count": 143,
   "id": "acd6dc43",
   "metadata": {},
   "outputs": [],
   "source": [
    "centered_str = string.center(11)"
   ]
  },
  {
   "cell_type": "code",
   "execution_count": 145,
   "id": "a30e5ac9",
   "metadata": {},
   "outputs": [
    {
     "data": {
      "text/plain": [
       "7"
      ]
     },
     "execution_count": 145,
     "metadata": {},
     "output_type": "execute_result"
    }
   ],
   "source": [
    "cnt = 0\n",
    "for i in centered_str:\n",
    "    if i.isspace(): # Isspace\n",
    "        cnt = cnt + 1\n",
    "        \n",
    "cnt"
   ]
  },
  {
   "cell_type": "code",
   "execution_count": 146,
   "id": "8201cfb7",
   "metadata": {},
   "outputs": [
    {
     "data": {
      "text/plain": [
       "7"
      ]
     },
     "execution_count": 146,
     "metadata": {},
     "output_type": "execute_result"
    }
   ],
   "source": [
    "11 - 4"
   ]
  },
  {
   "cell_type": "code",
   "execution_count": 147,
   "id": "b949e1f7",
   "metadata": {},
   "outputs": [
    {
     "data": {
      "text/plain": [
       "'+++Data+++'"
      ]
     },
     "execution_count": 147,
     "metadata": {},
     "output_type": "execute_result"
    }
   ],
   "source": [
    "string.center(10,\"+\")"
   ]
  },
  {
   "cell_type": "code",
   "execution_count": 148,
   "id": "fe216a94",
   "metadata": {},
   "outputs": [
    {
     "data": {
      "text/plain": [
       "'--------Data--------'"
      ]
     },
     "execution_count": 148,
     "metadata": {},
     "output_type": "execute_result"
    }
   ],
   "source": [
    "string.center(20,\"-\")"
   ]
  },
  {
   "cell_type": "code",
   "execution_count": 150,
   "id": "e41b572a",
   "metadata": {},
   "outputs": [
    {
     "data": {
      "text/plain": [
       "'xxxxxxxxDataxxxxxxxx'"
      ]
     },
     "execution_count": 150,
     "metadata": {},
     "output_type": "execute_result"
    }
   ],
   "source": [
    "string.center(20,\"x\")"
   ]
  },
  {
   "cell_type": "code",
   "execution_count": 151,
   "id": "097e23d8",
   "metadata": {},
   "outputs": [
    {
     "data": {
      "text/plain": [
       "'xxxxData Sciencexxxx'"
      ]
     },
     "execution_count": 151,
     "metadata": {},
     "output_type": "execute_result"
    }
   ],
   "source": [
    "string = 'Data Science'\n",
    "string.center(20,\"x\")"
   ]
  },
  {
   "cell_type": "code",
   "execution_count": 152,
   "id": "dea35427",
   "metadata": {},
   "outputs": [
    {
     "data": {
      "text/plain": [
       "'xxxxxxxxxData Sciencexxxxxxxxx'"
      ]
     },
     "execution_count": 152,
     "metadata": {},
     "output_type": "execute_result"
    }
   ],
   "source": [
    "string = 'Data Science'\n",
    "string.center(30,\"x\")"
   ]
  },
  {
   "cell_type": "code",
   "execution_count": null,
   "id": "afcc6885",
   "metadata": {},
   "outputs": [],
   "source": []
  },
  {
   "cell_type": "code",
   "execution_count": null,
   "id": "90825608",
   "metadata": {},
   "outputs": [],
   "source": []
  }
 ],
 "metadata": {
  "kernelspec": {
   "display_name": "Python 3 (ipykernel)",
   "language": "python",
   "name": "python3"
  },
  "language_info": {
   "codemirror_mode": {
    "name": "ipython",
    "version": 3
   },
   "file_extension": ".py",
   "mimetype": "text/x-python",
   "name": "python",
   "nbconvert_exporter": "python",
   "pygments_lexer": "ipython3",
   "version": "3.9.12"
  }
 },
 "nbformat": 4,
 "nbformat_minor": 5
}
