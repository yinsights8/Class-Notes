{
 "cells": [
  {
   "cell_type": "markdown",
   "id": "be5a1769",
   "metadata": {},
   "source": [
    "# 1.  string.zfill(): \n",
    "\n",
    "- this method will add (0) at the biginning of the string until it reaches the specified length\n"
   ]
  },
  {
   "cell_type": "code",
   "execution_count": 1,
   "id": "2bde553a",
   "metadata": {},
   "outputs": [
    {
     "name": "stdout",
     "output_type": "stream",
     "text": [
      "00000hello\n",
      "Welcome to the jungle\n",
      "000010.000\n"
     ]
    }
   ],
   "source": [
    "a = \"hello\"\n",
    "b = \"Welcome to the jungle\"\n",
    "c = \"10.000\"\n",
    "\n",
    "print(a.zfill(10))\n",
    "print(b.zfill(10))\n",
    "print(c.zfill(10))"
   ]
  },
  {
   "cell_type": "code",
   "execution_count": 2,
   "id": "1735899a",
   "metadata": {},
   "outputs": [
    {
     "name": "stdout",
     "output_type": "stream",
     "text": [
      "000000000a\n"
     ]
    }
   ],
   "source": [
    "g = \"a\"\n",
    "print(g.zfill(10))"
   ]
  },
  {
   "cell_type": "code",
   "execution_count": null,
   "id": "6d378fd7",
   "metadata": {},
   "outputs": [],
   "source": []
  },
  {
   "cell_type": "markdown",
   "id": "5380147f",
   "metadata": {},
   "source": [
    "# 2. string.Center(length, character)\n",
    "- The center() method will center align the string using a specified character (space is default) as the fill character.\n",
    "\n",
    "- lenght = required \n",
    "- Character = optional. the character to fill the missing space on each side. Default is \" \" (space)"
   ]
  },
  {
   "cell_type": "code",
   "execution_count": 3,
   "id": "4a5a32da",
   "metadata": {},
   "outputs": [
    {
     "name": "stdout",
     "output_type": "stream",
     "text": [
      "________yash________\n"
     ]
    }
   ],
   "source": [
    "txt = \"yash\"\n",
    "x = txt.center(20, \"_\")\n",
    "print(x)"
   ]
  },
  {
   "cell_type": "code",
   "execution_count": 4,
   "id": "eafa951e",
   "metadata": {},
   "outputs": [
    {
     "name": "stdout",
     "output_type": "stream",
     "text": [
      "        yash        \n"
     ]
    }
   ],
   "source": [
    "txt = \"yash\"\n",
    "x = txt.center(20)\n",
    "print(x)"
   ]
  },
  {
   "cell_type": "markdown",
   "id": "b63ec99a",
   "metadata": {},
   "source": [
    "# 3. .startswith(charecter, start, end) :- \n",
    "- This function will checks weather the string is starting with specific character if it is, then return True. if not the n it returns False\n",
    "- start, end = Optional"
   ]
  },
  {
   "cell_type": "code",
   "execution_count": 5,
   "id": "4604d7a1",
   "metadata": {},
   "outputs": [
    {
     "data": {
      "text/plain": [
       "True"
      ]
     },
     "execution_count": 5,
     "metadata": {},
     "output_type": "execute_result"
    }
   ],
   "source": [
    "txt = \"Hello, welcome to my world\"\n",
    "txt.startswith(\"\")"
   ]
  },
  {
   "cell_type": "code",
   "execution_count": 6,
   "id": "d3bd567a",
   "metadata": {},
   "outputs": [
    {
     "data": {
      "text/plain": [
       "False"
      ]
     },
     "execution_count": 6,
     "metadata": {},
     "output_type": "execute_result"
    }
   ],
   "source": [
    "txt = \"Hello, welcome to my world\"\n",
    "txt.startswith(\" \") "
   ]
  },
  {
   "cell_type": "code",
   "execution_count": 7,
   "id": "a2d189e2",
   "metadata": {},
   "outputs": [
    {
     "data": {
      "text/plain": [
       "True"
      ]
     },
     "execution_count": 7,
     "metadata": {},
     "output_type": "execute_result"
    }
   ],
   "source": [
    "txt = \"Hello, welcome to my world\"\n",
    "txt.startswith(\"H\")"
   ]
  },
  {
   "cell_type": "code",
   "execution_count": 8,
   "id": "39829c48",
   "metadata": {},
   "outputs": [
    {
     "data": {
      "text/plain": [
       "True"
      ]
     },
     "execution_count": 8,
     "metadata": {},
     "output_type": "execute_result"
    }
   ],
   "source": [
    "txt.startswith(\"wel\",7, 20)"
   ]
  },
  {
   "cell_type": "markdown",
   "id": "5cb6734b",
   "metadata": {},
   "source": [
    "# 4. alnum():-\n",
    "- this method returns True if the given string has alphabets as well as numbers (a-z), (A-Z), (0-9), else false\n",
    "\n",
    "- Note:- If there is a special characters within a string like (space,!,@,#,$,% etc.) the output will be False"
   ]
  },
  {
   "cell_type": "code",
   "execution_count": 9,
   "id": "e9a85c8f",
   "metadata": {},
   "outputs": [
    {
     "name": "stdout",
     "output_type": "stream",
     "text": [
      "True\n"
     ]
    }
   ],
   "source": [
    "txtx = \"YAsh123\"\n",
    "\n",
    "print(txtx.isalnum())"
   ]
  },
  {
   "cell_type": "code",
   "execution_count": 10,
   "id": "2b5ec3b4",
   "metadata": {},
   "outputs": [
    {
     "name": "stdout",
     "output_type": "stream",
     "text": [
      "True\n"
     ]
    }
   ],
   "source": [
    "txtx = \"YAsh\"\n",
    "print(txtx.isalnum())"
   ]
  },
  {
   "cell_type": "code",
   "execution_count": 11,
   "id": "aa6a5f61",
   "metadata": {},
   "outputs": [
    {
     "name": "stdout",
     "output_type": "stream",
     "text": [
      "False\n"
     ]
    }
   ],
   "source": [
    "txtx = \"Y A s h\"\n",
    "print(txtx.isalnum())"
   ]
  },
  {
   "cell_type": "code",
   "execution_count": null,
   "id": "b7c16e8b",
   "metadata": {},
   "outputs": [],
   "source": []
  },
  {
   "cell_type": "markdown",
   "id": "354b09b2",
   "metadata": {},
   "source": [
    "# 5. alpha():\n",
    "- this method returns True if the given string has alphabets as well as numbers (a-z), (A-Z),  else false\n",
    "\n",
    "- Note:- If there is a special characters within a string like (space,!,@,#,$,% etc.) the output will be False"
   ]
  },
  {
   "cell_type": "code",
   "execution_count": 18,
   "id": "dc47f10e",
   "metadata": {},
   "outputs": [
    {
     "name": "stdout",
     "output_type": "stream",
     "text": [
      "False\n"
     ]
    }
   ],
   "source": [
    "txt2 = \"YAsh\"\n",
    "print(txtx.isalpha())"
   ]
  },
  {
   "cell_type": "code",
   "execution_count": 19,
   "id": "d17bf040",
   "metadata": {},
   "outputs": [
    {
     "data": {
      "text/plain": [
       "False"
      ]
     },
     "execution_count": 19,
     "metadata": {},
     "output_type": "execute_result"
    }
   ],
   "source": [
    "st = \"\"\n",
    "st.isalnum()"
   ]
  },
  {
   "cell_type": "code",
   "execution_count": 20,
   "id": "c45c8b26",
   "metadata": {},
   "outputs": [
    {
     "name": "stdout",
     "output_type": "stream",
     "text": [
      "False\n"
     ]
    }
   ],
   "source": [
    "txt2 = \"YAsh123\"\n",
    "\n",
    "print(txt2.isalpha())"
   ]
  },
  {
   "cell_type": "code",
   "execution_count": 21,
   "id": "111b3f68",
   "metadata": {},
   "outputs": [
    {
     "data": {
      "text/plain": [
       "False"
      ]
     },
     "execution_count": 21,
     "metadata": {},
     "output_type": "execute_result"
    }
   ],
   "source": [
    "st = \" \"\n",
    "st.isalnum()"
   ]
  },
  {
   "cell_type": "code",
   "execution_count": 1,
   "id": "9654dfe6",
   "metadata": {},
   "outputs": [
    {
     "data": {
      "text/plain": [
       "False"
      ]
     },
     "execution_count": 1,
     "metadata": {},
     "output_type": "execute_result"
    }
   ],
   "source": [
    "string = \" 123 456 789\"\n",
    "string.isalnum()"
   ]
  },
  {
   "cell_type": "code",
   "execution_count": 5,
   "id": "a6a0c098",
   "metadata": {},
   "outputs": [
    {
     "data": {
      "text/plain": [
       "True"
      ]
     },
     "execution_count": 5,
     "metadata": {},
     "output_type": "execute_result"
    }
   ],
   "source": [
    "string = \" 123 456 789\"\n",
    "m = string.strip().replace(\" \", \"\")\n",
    "m.isalnum()"
   ]
  },
  {
   "cell_type": "code",
   "execution_count": null,
   "id": "08cae71b",
   "metadata": {},
   "outputs": [],
   "source": []
  },
  {
   "cell_type": "code",
   "execution_count": 22,
   "id": "8da614c1",
   "metadata": {
    "scrolled": true
   },
   "outputs": [
    {
     "name": "stdout",
     "output_type": "stream",
     "text": [
      "False\n"
     ]
    }
   ],
   "source": [
    "txt2 = \"YA sh\"\n",
    "\n",
    "print(txt2.isalpha())"
   ]
  },
  {
   "cell_type": "markdown",
   "id": "ff1409dc",
   "metadata": {},
   "source": [
    "# string.isdigit():\n",
    "- this method returns True if the given string has alphabets as well as numbers (a-z), (A-Z), else false\n",
    "\n",
    "- Note:- If there is a special characters within a string like (space,!,@,#,$,% etc.) the output will be False"
   ]
  },
  {
   "cell_type": "code",
   "execution_count": 23,
   "id": "a8b63dac",
   "metadata": {},
   "outputs": [
    {
     "name": "stdout",
     "output_type": "stream",
     "text": [
      "True\n"
     ]
    }
   ],
   "source": [
    "f = \"123456789\"\n",
    "print(f.isdigit())"
   ]
  },
  {
   "cell_type": "code",
   "execution_count": 24,
   "id": "b74f15fe",
   "metadata": {},
   "outputs": [
    {
     "name": "stdout",
     "output_type": "stream",
     "text": [
      "False\n"
     ]
    }
   ],
   "source": [
    "f = \"12345  6789\"\n",
    "print(f.isdigit())"
   ]
  },
  {
   "cell_type": "code",
   "execution_count": 25,
   "id": "87838cc2",
   "metadata": {},
   "outputs": [
    {
     "name": "stdout",
     "output_type": "stream",
     "text": [
      "False\n"
     ]
    }
   ],
   "source": [
    "f = \"123!@#456789\"\n",
    "print(f.isdigit())"
   ]
  },
  {
   "cell_type": "code",
   "execution_count": 26,
   "id": "e03a68ee",
   "metadata": {},
   "outputs": [
    {
     "name": "stdout",
     "output_type": "stream",
     "text": [
      "False\n"
     ]
    }
   ],
   "source": [
    "f = \"2**2\"\n",
    "print(f.isdigit())"
   ]
  },
  {
   "cell_type": "code",
   "execution_count": 27,
   "id": "86bb2bfd",
   "metadata": {},
   "outputs": [
    {
     "name": "stdout",
     "output_type": "stream",
     "text": [
      "True\n"
     ]
    }
   ],
   "source": [
    "f = \"²\"\n",
    "print(f.isdigit())"
   ]
  },
  {
   "cell_type": "code",
   "execution_count": 28,
   "id": "603554eb",
   "metadata": {},
   "outputs": [
    {
     "name": "stdout",
     "output_type": "stream",
     "text": [
      "False\n"
     ]
    }
   ],
   "source": [
    "g = \"1/2\"\n",
    "print(g.isdigit())"
   ]
  },
  {
   "cell_type": "code",
   "execution_count": 29,
   "id": "75b17319",
   "metadata": {},
   "outputs": [
    {
     "name": "stdout",
     "output_type": "stream",
     "text": [
      "True\n",
      "True\n"
     ]
    }
   ],
   "source": [
    "a = \"\\u0030\" #unicode for 0\n",
    "b = \"\\u00B2\" #unicode for ²\n",
    "\n",
    "print(a.isdigit())\n",
    "print(b.isdigit())"
   ]
  },
  {
   "cell_type": "code",
   "execution_count": 30,
   "id": "6e1850b0",
   "metadata": {},
   "outputs": [
    {
     "name": "stdout",
     "output_type": "stream",
     "text": [
      "False\n"
     ]
    }
   ],
   "source": [
    "# s = '½'\n",
    "# fraction is not a digit\n",
    "s = '½'\n",
    "print(s.isdigit())"
   ]
  },
  {
   "cell_type": "code",
   "execution_count": 31,
   "id": "533ff37b",
   "metadata": {},
   "outputs": [
    {
     "name": "stdout",
     "output_type": "stream",
     "text": [
      "False\n"
     ]
    }
   ],
   "source": [
    "s = \"xi\"\n",
    "print(s.isdigit())"
   ]
  },
  {
   "cell_type": "code",
   "execution_count": 53,
   "id": "baef4725",
   "metadata": {},
   "outputs": [
    {
     "data": {
      "text/plain": [
       "'!'"
      ]
     },
     "execution_count": 53,
     "metadata": {},
     "output_type": "execute_result"
    }
   ],
   "source": [
    "\"\\u0021\""
   ]
  },
  {
   "cell_type": "code",
   "execution_count": 54,
   "id": "a21c10ca",
   "metadata": {},
   "outputs": [
    {
     "data": {
      "text/plain": [
       "'\"'"
      ]
     },
     "execution_count": 54,
     "metadata": {},
     "output_type": "execute_result"
    }
   ],
   "source": [
    "\"\\u0022\""
   ]
  },
  {
   "cell_type": "code",
   "execution_count": 55,
   "id": "452ec141",
   "metadata": {},
   "outputs": [
    {
     "data": {
      "text/plain": [
       "'#'"
      ]
     },
     "execution_count": 55,
     "metadata": {},
     "output_type": "execute_result"
    }
   ],
   "source": [
    "\"\\u0023\""
   ]
  },
  {
   "cell_type": "code",
   "execution_count": 57,
   "id": "9652c912",
   "metadata": {},
   "outputs": [
    {
     "data": {
      "text/plain": [
       "'$'"
      ]
     },
     "execution_count": 57,
     "metadata": {},
     "output_type": "execute_result"
    }
   ],
   "source": [
    "\"\\u0024\""
   ]
  },
  {
   "cell_type": "code",
   "execution_count": 58,
   "id": "80e94197",
   "metadata": {},
   "outputs": [
    {
     "data": {
      "text/plain": [
       "'²'"
      ]
     },
     "execution_count": 58,
     "metadata": {},
     "output_type": "execute_result"
    }
   ],
   "source": [
    "\"\\u00b2\""
   ]
  },
  {
   "cell_type": "code",
   "execution_count": 59,
   "id": "49e0c835",
   "metadata": {},
   "outputs": [
    {
     "data": {
      "text/plain": [
       "'³'"
      ]
     },
     "execution_count": 59,
     "metadata": {},
     "output_type": "execute_result"
    }
   ],
   "source": [
    "\"\\u00b3\""
   ]
  },
  {
   "cell_type": "code",
   "execution_count": 61,
   "id": "8cf8721a",
   "metadata": {},
   "outputs": [
    {
     "data": {
      "text/plain": [
       "'´'"
      ]
     },
     "execution_count": 61,
     "metadata": {},
     "output_type": "execute_result"
    }
   ],
   "source": [
    "\"\\u00b4\""
   ]
  },
  {
   "cell_type": "code",
   "execution_count": 71,
   "id": "18d00580",
   "metadata": {},
   "outputs": [
    {
     "data": {
      "text/plain": [
       "'µ'"
      ]
     },
     "execution_count": 71,
     "metadata": {},
     "output_type": "execute_result"
    }
   ],
   "source": [
    "\"\\u00b5\""
   ]
  },
  {
   "cell_type": "code",
   "execution_count": 72,
   "id": "5af48911",
   "metadata": {},
   "outputs": [
    {
     "data": {
      "text/plain": [
       "'²'"
      ]
     },
     "execution_count": 72,
     "metadata": {},
     "output_type": "execute_result"
    }
   ],
   "source": [
    "\"\\u00b2\""
   ]
  },
  {
   "cell_type": "code",
   "execution_count": 74,
   "id": "aa566bcd",
   "metadata": {},
   "outputs": [
    {
     "data": {
      "text/plain": [
       "'\\x10'"
      ]
     },
     "execution_count": 74,
     "metadata": {},
     "output_type": "execute_result"
    }
   ],
   "source": [
    "\"\\u0010\""
   ]
  },
  {
   "cell_type": "code",
   "execution_count": 75,
   "id": "2da941fd",
   "metadata": {},
   "outputs": [
    {
     "data": {
      "text/plain": [
       "'@'"
      ]
     },
     "execution_count": 75,
     "metadata": {},
     "output_type": "execute_result"
    }
   ],
   "source": [
    "\"\\u0040\""
   ]
  },
  {
   "cell_type": "code",
   "execution_count": 79,
   "id": "57821f21",
   "metadata": {},
   "outputs": [
    {
     "data": {
      "text/plain": [
       "'B'"
      ]
     },
     "execution_count": 79,
     "metadata": {},
     "output_type": "execute_result"
    }
   ],
   "source": [
    "\"\\u0042\""
   ]
  },
  {
   "cell_type": "code",
   "execution_count": null,
   "id": "879a6f44",
   "metadata": {},
   "outputs": [],
   "source": []
  },
  {
   "cell_type": "code",
   "execution_count": 80,
   "id": "1ed74ab3",
   "metadata": {},
   "outputs": [
    {
     "data": {
      "text/plain": [
       "'C'"
      ]
     },
     "execution_count": 80,
     "metadata": {},
     "output_type": "execute_result"
    }
   ],
   "source": [
    "\"\\u0043\""
   ]
  },
  {
   "cell_type": "code",
   "execution_count": null,
   "id": "b01b5474",
   "metadata": {},
   "outputs": [],
   "source": []
  },
  {
   "cell_type": "code",
   "execution_count": 15,
   "id": "4e7d307e",
   "metadata": {},
   "outputs": [
    {
     "data": {
      "text/plain": [
       "'Python and data science\\n        \\n30 July Batch\\n          \\nVelocity Training Center\\n         \\nMorning Batch\\n               \\nGood Students'"
      ]
     },
     "execution_count": 15,
     "metadata": {},
     "output_type": "execute_result"
    }
   ],
   "source": [
    "s_string = \"\"\"Python and data science\n",
    "        \n",
    "30 July Batch\n",
    "          \n",
    "Velocity Training Center\n",
    "         \n",
    "Morning Batch\n",
    "               \n",
    "Good Students\"\"\"\n",
    "string"
   ]
  },
  {
   "cell_type": "code",
   "execution_count": 16,
   "id": "f5e79bf0",
   "metadata": {},
   "outputs": [
    {
     "name": "stdout",
     "output_type": "stream",
     "text": [
      "['Python and data science', '        ', '30 July Batch', '          ', 'Velocity Training Center', '         ']\n"
     ]
    },
    {
     "data": {
      "text/plain": [
       "True"
      ]
     },
     "execution_count": 16,
     "metadata": {},
     "output_type": "execute_result"
    }
   ],
   "source": [
    "nw = s_string.split(\"\\n\")\n",
    "print(nw[:6])\n",
    "nw[5].isspace()"
   ]
  },
  {
   "cell_type": "code",
   "execution_count": 24,
   "id": "dddc9a37",
   "metadata": {},
   "outputs": [
    {
     "name": "stdout",
     "output_type": "stream",
     "text": [
      "This is a balnk space:----> Python and data science\n",
      "This is a balnk space:---->         \n",
      "This is a balnk space:----> 30 July Batch\n",
      "This is a balnk space:---->           \n",
      "This is a balnk space:----> Velocity Training Center\n",
      "This is a balnk space:---->          \n",
      "This is a balnk space:----> Morning Batch\n",
      "This is a balnk space:---->                \n",
      "This is a balnk space:----> Good Students\n"
     ]
    }
   ],
   "source": [
    "for space in nw:\n",
    "    \n",
    "    print(f\"This is a balnk space:----> {space}\")"
   ]
  },
  {
   "cell_type": "code",
   "execution_count": 27,
   "id": "f975ae08",
   "metadata": {},
   "outputs": [
    {
     "name": "stdout",
     "output_type": "stream",
     "text": [
      "This is a space:         , 8\n",
      "This is a space:           , 10\n",
      "This is a space:          , 9\n",
      "This is a space:                , 15\n"
     ]
    }
   ],
   "source": [
    "for line in nw:\n",
    "    if line.isspace():\n",
    "        print(f\"This is a space: {line}, {len(line)}\")"
   ]
  },
  {
   "cell_type": "code",
   "execution_count": null,
   "id": "f489e166",
   "metadata": {},
   "outputs": [],
   "source": []
  }
 ],
 "metadata": {
  "kernelspec": {
   "display_name": "Python 3 (ipykernel)",
   "language": "python",
   "name": "python3"
  },
  "language_info": {
   "codemirror_mode": {
    "name": "ipython",
    "version": 3
   },
   "file_extension": ".py",
   "mimetype": "text/x-python",
   "name": "python",
   "nbconvert_exporter": "python",
   "pygments_lexer": "ipython3",
   "version": "3.9.12"
  }
 },
 "nbformat": 4,
 "nbformat_minor": 5
}
