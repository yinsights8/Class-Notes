{
 "cells": [
  {
   "cell_type": "markdown",
   "id": "fb8418e7",
   "metadata": {},
   "source": [
    "# 1. .count()\n",
    "- This function counts the number of ocurrence of the spacied value \n",
    "- sytax = string.count(substring, [start_index], [end_index])\n",
    "- string.count(value, [start_index], [end_index])  \n",
    "- however start_index and end_index is optional "
   ]
  },
  {
   "cell_type": "code",
   "execution_count": null,
   "id": "8f7e8cb2",
   "metadata": {},
   "outputs": [],
   "source": []
  },
  {
   "cell_type": "code",
   "execution_count": 7,
   "id": "ab0d1902",
   "metadata": {},
   "outputs": [
    {
     "data": {
      "text/plain": [
       "3"
      ]
     },
     "execution_count": 7,
     "metadata": {},
     "output_type": "execute_result"
    }
   ],
   "source": [
    "string  = \"we are learining python, and python is a very easy and understandable language, python language is most popular with data science\"\n",
    "string.count(\"python\")"
   ]
  },
  {
   "cell_type": "code",
   "execution_count": 28,
   "id": "ae7fcd15",
   "metadata": {},
   "outputs": [
    {
     "data": {
      "text/plain": [
       "0"
      ]
     },
     "execution_count": 28,
     "metadata": {},
     "output_type": "execute_result"
    }
   ],
   "source": [
    "string.count(\"yash\")"
   ]
  },
  {
   "cell_type": "code",
   "execution_count": 16,
   "id": "7acef436",
   "metadata": {},
   "outputs": [
    {
     "data": {
      "text/plain": [
       "129"
      ]
     },
     "execution_count": 16,
     "metadata": {},
     "output_type": "execute_result"
    }
   ],
   "source": [
    "len(string)"
   ]
  },
  {
   "cell_type": "code",
   "execution_count": 25,
   "id": "3431043a",
   "metadata": {},
   "outputs": [
    {
     "name": "stdout",
     "output_type": "stream",
     "text": [
      "we are learining python, and python is a\n"
     ]
    }
   ],
   "source": [
    "print(string[0:40])"
   ]
  },
  {
   "cell_type": "code",
   "execution_count": 26,
   "id": "3e12d850",
   "metadata": {},
   "outputs": [
    {
     "data": {
      "text/plain": [
       "2"
      ]
     },
     "execution_count": 26,
     "metadata": {},
     "output_type": "execute_result"
    }
   ],
   "source": [
    "# [start_value], [end_value] represents the spacified value occures in that perticular \n",
    "string.count(\"python\",0, 40)"
   ]
  },
  {
   "cell_type": "code",
   "execution_count": 27,
   "id": "7e647c64",
   "metadata": {},
   "outputs": [
    {
     "data": {
      "text/plain": [
       "0"
      ]
     },
     "execution_count": 27,
     "metadata": {},
     "output_type": "execute_result"
    }
   ],
   "source": []
  },
  {
   "cell_type": "markdown",
   "id": "29f0c20e",
   "metadata": {},
   "source": [
    "# 2. .find()\n",
    "### Definition and Usage\n",
    "- The find() method finds the first occurrence of the specified value. (first index number)\n",
    "\n",
    "- The find() method returns -1 if the value is not found.\n",
    "\n",
    "- The find() method is almost the same as the index() method, the only difference is that the index() method raises an exception - if the value is not found. (See example below)"
   ]
  },
  {
   "cell_type": "code",
   "execution_count": 29,
   "id": "76332b03",
   "metadata": {},
   "outputs": [],
   "source": [
    "string = \"\"\"Data Science is about data gathering, analysis and decision-making. Data Science \n",
    "is about finding patterns in data, through analysis, and make future predictions. By using Data \n",
    "Science, companies are able to make: Better decision (should we choose A or B)\"\"\""
   ]
  },
  {
   "cell_type": "code",
   "execution_count": 30,
   "id": "46c5daa8",
   "metadata": {
    "scrolled": true
   },
   "outputs": [
    {
     "data": {
      "text/plain": [
       "22"
      ]
     },
     "execution_count": 30,
     "metadata": {},
     "output_type": "execute_result"
    }
   ],
   "source": [
    "string.find(\"data\")"
   ]
  },
  {
   "cell_type": "code",
   "execution_count": 32,
   "id": "56e04c6c",
   "metadata": {},
   "outputs": [
    {
     "data": {
      "text/plain": [
       "0"
      ]
     },
     "execution_count": 32,
     "metadata": {},
     "output_type": "execute_result"
    }
   ],
   "source": [
    "string.find(\"Data\")"
   ]
  },
  {
   "cell_type": "code",
   "execution_count": 51,
   "id": "17aa630e",
   "metadata": {},
   "outputs": [
    {
     "name": "stdout",
     "output_type": "stream",
     "text": [
      "-1\n"
     ]
    },
    {
     "data": {
      "text/plain": [
       "'ata Science is about data gathering, analysis and'"
      ]
     },
     "execution_count": 51,
     "metadata": {},
     "output_type": "execute_result"
    }
   ],
   "source": [
    "print(string.find(\"Data\",1,50))\n",
    "string[1:50]"
   ]
  },
  {
   "cell_type": "code",
   "execution_count": null,
   "id": "f621030e",
   "metadata": {},
   "outputs": [],
   "source": []
  },
  {
   "cell_type": "code",
   "execution_count": 34,
   "id": "4c7e31c0",
   "metadata": {},
   "outputs": [
    {
     "data": {
      "text/plain": [
       "164"
      ]
     },
     "execution_count": 34,
     "metadata": {},
     "output_type": "execute_result"
    }
   ],
   "source": [
    "string.find(\"By\")"
   ]
  },
  {
   "cell_type": "markdown",
   "id": "003c3aa0",
   "metadata": {},
   "source": [
    "#### difference between .find() and .index()"
   ]
  },
  {
   "cell_type": "code",
   "execution_count": 38,
   "id": "19b8b9b9",
   "metadata": {},
   "outputs": [
    {
     "ename": "NameError",
     "evalue": "name 'stiring' is not defined",
     "output_type": "error",
     "traceback": [
      "\u001b[1;31m---------------------------------------------------------------------------\u001b[0m",
      "\u001b[1;31mNameError\u001b[0m                                 Traceback (most recent call last)",
      "Input \u001b[1;32mIn [38]\u001b[0m, in \u001b[0;36m<cell line: 2>\u001b[1;34m()\u001b[0m\n\u001b[0;32m      1\u001b[0m \u001b[38;5;66;03m# difference between .find() and .index()\u001b[39;00m\n\u001b[1;32m----> 2\u001b[0m \u001b[43mstiring\u001b[49m\u001b[38;5;241m.\u001b[39mindex(\u001b[38;5;124m\"\u001b[39m\u001b[38;5;124myash\u001b[39m\u001b[38;5;124m\"\u001b[39m)\n",
      "\u001b[1;31mNameError\u001b[0m: name 'stiring' is not defined"
     ]
    }
   ],
   "source": [
    "# difference between .find() and .index()\n",
    "stiring.index(\"yash\")"
   ]
  },
  {
   "cell_type": "code",
   "execution_count": 39,
   "id": "f3fced64",
   "metadata": {},
   "outputs": [
    {
     "name": "stdout",
     "output_type": "stream",
     "text": [
      "value is not found\n"
     ]
    }
   ],
   "source": [
    "value = \"yash\"\n",
    "if value in string:\n",
    "    print(f\"the index of is = {string.index(value)}\")\n",
    "else:\n",
    "    print(\"value is not found\")"
   ]
  },
  {
   "cell_type": "code",
   "execution_count": 44,
   "id": "55c5ba15",
   "metadata": {},
   "outputs": [
    {
     "data": {
      "text/plain": [
       "-1"
      ]
     },
     "execution_count": 44,
     "metadata": {},
     "output_type": "execute_result"
    }
   ],
   "source": [
    "value = \"yash\"\n",
    "string.find(value)"
   ]
  },
  {
   "cell_type": "code",
   "execution_count": null,
   "id": "a4f14b61",
   "metadata": {},
   "outputs": [],
   "source": []
  },
  {
   "cell_type": "code",
   "execution_count": 45,
   "id": "8baa8ca4",
   "metadata": {},
   "outputs": [
    {
     "name": "stdout",
     "output_type": "stream",
     "text": [
      "not found\n"
     ]
    }
   ],
   "source": [
    "if value in string:\n",
    "    print(f\"the first occurence is = {string.find(value)}\")\n",
    "else:\n",
    "    print(\"not found\")"
   ]
  },
  {
   "cell_type": "code",
   "execution_count": null,
   "id": "65f9970d",
   "metadata": {},
   "outputs": [],
   "source": [
    "string = \"\"\"Data Science is about data gathering, analysis and decision-making. Data Science \n",
    "is about finding patterns in data, through analysis, and make future predictions. By using Data \n",
    "Science, companies are able to make: Better decision (should we choose A or B)\"\"\""
   ]
  },
  {
   "cell_type": "code",
   "execution_count": 69,
   "id": "3fe0848e",
   "metadata": {},
   "outputs": [
    {
     "name": "stdout",
     "output_type": "stream",
     "text": [
      " DATA science is about DATA gathering, analysis and decision-making. DATA science is about finding patterns in data, through analysis, and make future predictions. by using DATA science, companies are able to make: better decision (should we choose a or b)\n"
     ]
    }
   ],
   "source": [
    "new_string = \"\"\"\"\"\"\n",
    "\n",
    "for i in string.lower().split():\n",
    "    if i == \"data\":\n",
    "        new_string = new_string + \" \" + i.upper()\n",
    "    else:\n",
    "        new_string += ' ' + i\n",
    "        \n",
    "print(new_string)"
   ]
  },
  {
   "cell_type": "code",
   "execution_count": null,
   "id": "5d97a34f",
   "metadata": {},
   "outputs": [],
   "source": []
  },
  {
   "cell_type": "code",
   "execution_count": null,
   "id": "a65ede5e",
   "metadata": {},
   "outputs": [],
   "source": []
  }
 ],
 "metadata": {
  "kernelspec": {
   "display_name": "Python 3 (ipykernel)",
   "language": "python",
   "name": "python3"
  },
  "language_info": {
   "codemirror_mode": {
    "name": "ipython",
    "version": 3
   },
   "file_extension": ".py",
   "mimetype": "text/x-python",
   "name": "python",
   "nbconvert_exporter": "python",
   "pygments_lexer": "ipython3",
   "version": "3.9.12"
  }
 },
 "nbformat": 4,
 "nbformat_minor": 5
}
