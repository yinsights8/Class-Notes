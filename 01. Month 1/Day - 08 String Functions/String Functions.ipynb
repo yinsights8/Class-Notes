{
 "cells": [
  {
   "cell_type": "markdown",
   "id": "f7e0238d",
   "metadata": {},
   "source": [
    "# String Functions"
   ]
  },
  {
   "cell_type": "markdown",
   "id": "aeefad7f",
   "metadata": {},
   "source": [
    "## 10. Count\n",
    "- syntax:\n",
    "    - string.count(substring,[start_index],[end_index])"
   ]
  },
  {
   "cell_type": "code",
   "execution_count": 1,
   "id": "def09060",
   "metadata": {},
   "outputs": [
    {
     "data": {
      "text/plain": [
       "'We are learning Python and Data Science. Python language is simple & easy to learn'"
      ]
     },
     "execution_count": 1,
     "metadata": {},
     "output_type": "execute_result"
    }
   ],
   "source": [
    "string = \"We are learning Python and Data Science. Python language is simple & easy to learn\"\n",
    "string"
   ]
  },
  {
   "cell_type": "code",
   "execution_count": 2,
   "id": "a4c01327",
   "metadata": {},
   "outputs": [
    {
     "data": {
      "text/plain": [
       "2"
      ]
     },
     "execution_count": 2,
     "metadata": {},
     "output_type": "execute_result"
    }
   ],
   "source": [
    "substring = \"Python\"\n",
    "string.count(substring)"
   ]
  },
  {
   "cell_type": "code",
   "execution_count": 3,
   "id": "b3e7075b",
   "metadata": {},
   "outputs": [
    {
     "data": {
      "text/plain": [
       "4"
      ]
     },
     "execution_count": 3,
     "metadata": {},
     "output_type": "execute_result"
    }
   ],
   "source": [
    "string = \"We are learning Python and Data Science. Python language is simple & easy to learn. Python Python\"\n",
    "string.count(substring)"
   ]
  },
  {
   "cell_type": "code",
   "execution_count": 4,
   "id": "e8902e9b",
   "metadata": {},
   "outputs": [
    {
     "data": {
      "text/plain": [
       "9"
      ]
     },
     "execution_count": 4,
     "metadata": {},
     "output_type": "execute_result"
    }
   ],
   "source": [
    "string = \"We are learning Python and Data Science. Python language is simple & easy to learn. Python Python\"\n",
    "string.count(\"a\")"
   ]
  },
  {
   "cell_type": "code",
   "execution_count": 8,
   "id": "f22dab0c",
   "metadata": {},
   "outputs": [
    {
     "data": {
      "text/plain": [
       "0"
      ]
     },
     "execution_count": 8,
     "metadata": {},
     "output_type": "execute_result"
    }
   ],
   "source": [
    "\"ahfhhskkasdfsdaasdfsda\".count(\"abc\")"
   ]
  },
  {
   "cell_type": "code",
   "execution_count": 9,
   "id": "72842d5e",
   "metadata": {},
   "outputs": [
    {
     "data": {
      "text/plain": [
       "1"
      ]
     },
     "execution_count": 9,
     "metadata": {},
     "output_type": "execute_result"
    }
   ],
   "source": [
    "string = \"We are learning Python and Data Science. Python language is simple & easy to learn. Python Python\"\n",
    "string.count(\"We\")"
   ]
  },
  {
   "cell_type": "code",
   "execution_count": 10,
   "id": "92ddcdf3",
   "metadata": {},
   "outputs": [
    {
     "data": {
      "text/plain": [
       "0"
      ]
     },
     "execution_count": 10,
     "metadata": {},
     "output_type": "execute_result"
    }
   ],
   "source": [
    "string = \"We are learning Python and Data Science. Python language is simple & easy to learn. Python Python\"\n",
    "string.count(\"we\")"
   ]
  },
  {
   "cell_type": "code",
   "execution_count": 11,
   "id": "c822cf0f",
   "metadata": {},
   "outputs": [
    {
     "data": {
      "text/plain": [
       "4"
      ]
     },
     "execution_count": 11,
     "metadata": {},
     "output_type": "execute_result"
    }
   ],
   "source": [
    "string = \"We are learning Python and Data Science. Python language is simple & easy to learn. Python Python\"\n",
    "string.count(\"a\",0,30)"
   ]
  },
  {
   "cell_type": "code",
   "execution_count": 12,
   "id": "f9e7020b",
   "metadata": {},
   "outputs": [
    {
     "data": {
      "text/plain": [
       "3"
      ]
     },
     "execution_count": 12,
     "metadata": {},
     "output_type": "execute_result"
    }
   ],
   "source": [
    "string = \"Python and Data science\"\n",
    "string.count(\"a\",7,len(string))"
   ]
  },
  {
   "cell_type": "code",
   "execution_count": 13,
   "id": "cf1ed39e",
   "metadata": {},
   "outputs": [
    {
     "data": {
      "text/plain": [
       "3"
      ]
     },
     "execution_count": 13,
     "metadata": {},
     "output_type": "execute_result"
    }
   ],
   "source": [
    "string = \"Python and Data science\"\n",
    "string.count(\"a\",7,15)"
   ]
  },
  {
   "cell_type": "code",
   "execution_count": 14,
   "id": "716a2235",
   "metadata": {
    "scrolled": true
   },
   "outputs": [
    {
     "data": {
      "text/plain": [
       "'and Data'"
      ]
     },
     "execution_count": 14,
     "metadata": {},
     "output_type": "execute_result"
    }
   ],
   "source": [
    "string[7:15]"
   ]
  },
  {
   "cell_type": "code",
   "execution_count": 15,
   "id": "cec642dc",
   "metadata": {},
   "outputs": [
    {
     "data": {
      "text/plain": [
       "3"
      ]
     },
     "execution_count": 15,
     "metadata": {},
     "output_type": "execute_result"
    }
   ],
   "source": [
    "'and Data'.count('a')"
   ]
  },
  {
   "cell_type": "code",
   "execution_count": 16,
   "id": "2c1b94fa",
   "metadata": {},
   "outputs": [
    {
     "data": {
      "text/plain": [
       "0"
      ]
     },
     "execution_count": 16,
     "metadata": {},
     "output_type": "execute_result"
    }
   ],
   "source": [
    "string = \"Python and Data science\"\n",
    "string.count(\"aaaa\")"
   ]
  },
  {
   "cell_type": "markdown",
   "id": "2be8f9f5",
   "metadata": {},
   "source": [
    "## index()\n",
    "- string.index(substring,[start_index],[end_index])"
   ]
  },
  {
   "cell_type": "code",
   "execution_count": 17,
   "id": "c0992d34",
   "metadata": {},
   "outputs": [
    {
     "data": {
      "text/plain": [
       "'Data Science is about data gathering, analysis and decision-making. Data Science \\nis about finding patterns in data, through analysis, and make future predictions. By using Data \\nScience, companies are able to make: Better decisions (should we choose A or B)'"
      ]
     },
     "execution_count": 17,
     "metadata": {},
     "output_type": "execute_result"
    }
   ],
   "source": [
    "string = \"\"\"Data Science is about data gathering, analysis and decision-making. Data Science \n",
    "is about finding patterns in data, through analysis, and make future predictions. By using Data \n",
    "Science, companies are able to make: Better decisions (should we choose A or B)\"\"\"\n",
    "\n",
    "string"
   ]
  },
  {
   "cell_type": "code",
   "execution_count": 18,
   "id": "3e0c95be",
   "metadata": {},
   "outputs": [
    {
     "data": {
      "text/plain": [
       "0"
      ]
     },
     "execution_count": 18,
     "metadata": {},
     "output_type": "execute_result"
    }
   ],
   "source": [
    "string.index(\"Data\")"
   ]
  },
  {
   "cell_type": "code",
   "execution_count": 20,
   "id": "7fba529f",
   "metadata": {},
   "outputs": [
    {
     "data": {
      "text/plain": [
       "5"
      ]
     },
     "execution_count": 20,
     "metadata": {},
     "output_type": "execute_result"
    }
   ],
   "source": [
    "string.index(\"Science\")"
   ]
  },
  {
   "cell_type": "code",
   "execution_count": 21,
   "id": "ba34c22e",
   "metadata": {},
   "outputs": [
    {
     "data": {
      "text/plain": [
       "5"
      ]
     },
     "execution_count": 21,
     "metadata": {},
     "output_type": "execute_result"
    }
   ],
   "source": [
    "string.index(\"Sc\")"
   ]
  },
  {
   "cell_type": "code",
   "execution_count": 23,
   "id": "ddc3b033",
   "metadata": {},
   "outputs": [
    {
     "ename": "ValueError",
     "evalue": "substring not found",
     "output_type": "error",
     "traceback": [
      "\u001b[1;31m---------------------------------------------------------------------------\u001b[0m",
      "\u001b[1;31mValueError\u001b[0m                                Traceback (most recent call last)",
      "\u001b[1;32m<ipython-input-23-563fca980bc1>\u001b[0m in \u001b[0;36m<module>\u001b[1;34m\u001b[0m\n\u001b[0;32m      4\u001b[0m \u001b[1;33m\u001b[0m\u001b[0m\n\u001b[0;32m      5\u001b[0m \u001b[0mstring\u001b[0m \u001b[1;33m=\u001b[0m \u001b[0mstring\u001b[0m\u001b[1;33m.\u001b[0m\u001b[0mreplace\u001b[0m\u001b[1;33m(\u001b[0m\u001b[1;34m\"Science\"\u001b[0m\u001b[1;33m,\u001b[0m\u001b[1;34m\"Dcience\"\u001b[0m\u001b[1;33m)\u001b[0m\u001b[1;33m\u001b[0m\u001b[1;33m\u001b[0m\u001b[0m\n\u001b[1;32m----> 6\u001b[1;33m \u001b[0mstring\u001b[0m\u001b[1;33m.\u001b[0m\u001b[0mindex\u001b[0m\u001b[1;33m(\u001b[0m\u001b[1;34m'Sc'\u001b[0m\u001b[1;33m)\u001b[0m\u001b[1;33m\u001b[0m\u001b[1;33m\u001b[0m\u001b[0m\n\u001b[0m",
      "\u001b[1;31mValueError\u001b[0m: substring not found"
     ]
    }
   ],
   "source": [
    "string = \"\"\"Data Science is about data gathering, analysis and decision-making. Data Science \n",
    "is about finding patterns in data, through analysis, and make future predictions. By using Data \n",
    "Science, companies are able to make: Better decisions (should we choose A or B)\"\"\"\n",
    "\n",
    "string = string.replace(\"Science\",\"Dcience\")\n",
    "string.index('Science')"
   ]
  },
  {
   "cell_type": "code",
   "execution_count": 24,
   "id": "b8b7279d",
   "metadata": {},
   "outputs": [
    {
     "data": {
      "text/plain": [
       "5"
      ]
     },
     "execution_count": 24,
     "metadata": {},
     "output_type": "execute_result"
    }
   ],
   "source": [
    "string = \"\"\"Data Science is about data gathering, analysis and decision-making. Data Science \n",
    "is about finding patterns in data, through analysis, and make future predictions. By using Data \n",
    "Science, companies are able to make: Better decisions (should we choose A or B)\"\"\"\n",
    "\n",
    "# string = string.replace(\"Science\",\"Dcience\")\n",
    "string.index('Science',0,30)"
   ]
  },
  {
   "cell_type": "code",
   "execution_count": 25,
   "id": "29d57d7a",
   "metadata": {},
   "outputs": [
    {
     "ename": "ValueError",
     "evalue": "substring not found",
     "output_type": "error",
     "traceback": [
      "\u001b[1;31m---------------------------------------------------------------------------\u001b[0m",
      "\u001b[1;31mValueError\u001b[0m                                Traceback (most recent call last)",
      "\u001b[1;32m<ipython-input-25-dc010c03c562>\u001b[0m in \u001b[0;36m<module>\u001b[1;34m\u001b[0m\n\u001b[0;32m      4\u001b[0m \u001b[1;33m\u001b[0m\u001b[0m\n\u001b[0;32m      5\u001b[0m \u001b[0mstring\u001b[0m \u001b[1;33m=\u001b[0m \u001b[0mstring\u001b[0m\u001b[1;33m.\u001b[0m\u001b[0mreplace\u001b[0m\u001b[1;33m(\u001b[0m\u001b[1;34m\"Science\"\u001b[0m\u001b[1;33m,\u001b[0m\u001b[1;34m\"Dcience\"\u001b[0m\u001b[1;33m)\u001b[0m\u001b[1;33m\u001b[0m\u001b[1;33m\u001b[0m\u001b[0m\n\u001b[1;32m----> 6\u001b[1;33m \u001b[0mstring\u001b[0m\u001b[1;33m.\u001b[0m\u001b[0mindex\u001b[0m\u001b[1;33m(\u001b[0m\u001b[1;34m'Science'\u001b[0m\u001b[1;33m,\u001b[0m\u001b[1;36m0\u001b[0m\u001b[1;33m,\u001b[0m\u001b[1;36m30\u001b[0m\u001b[1;33m)\u001b[0m\u001b[1;33m\u001b[0m\u001b[1;33m\u001b[0m\u001b[0m\n\u001b[0m",
      "\u001b[1;31mValueError\u001b[0m: substring not found"
     ]
    }
   ],
   "source": [
    "string = \"\"\"Data Science is about data gathering, analysis and decision-making. Data Science \n",
    "is about finding patterns in data, through analysis, and make future predictions. By using Data \n",
    "Science, companies are able to make: Better decisions (should we choose A or B)\"\"\"\n",
    "\n",
    "string = string.replace(\"Science\",\"Dcience\")\n",
    "string.index('Science',0,30)"
   ]
  },
  {
   "cell_type": "code",
   "execution_count": 26,
   "id": "25610608",
   "metadata": {},
   "outputs": [
    {
     "data": {
      "text/plain": [
       "'Data Dcience is about data gat'"
      ]
     },
     "execution_count": 26,
     "metadata": {},
     "output_type": "execute_result"
    }
   ],
   "source": [
    "string[0:30]"
   ]
  },
  {
   "cell_type": "code",
   "execution_count": 28,
   "id": "39536760",
   "metadata": {},
   "outputs": [
    {
     "data": {
      "text/plain": [
       "13"
      ]
     },
     "execution_count": 28,
     "metadata": {},
     "output_type": "execute_result"
    }
   ],
   "source": [
    "string = \"\"\"Data Science is about data gathering, analysis and decision-making. Data Science \n",
    "is about finding patterns in data, through analysis, and make future predictions. By using Data \n",
    "Science, companies are able to make: Better decisions (should we choose A or B)\"\"\"\n",
    "\n",
    "string = string.replace(\"Science\",\"Dcience\")\n",
    "string.index('is',0,30)"
   ]
  },
  {
   "cell_type": "code",
   "execution_count": 29,
   "id": "7067c3ca",
   "metadata": {},
   "outputs": [
    {
     "data": {
      "text/plain": [
       "4"
      ]
     },
     "execution_count": 29,
     "metadata": {},
     "output_type": "execute_result"
    }
   ],
   "source": [
    "string = \"\"\"Data Science is about data gathering, analysis and decision-making. Data Science \n",
    "is about finding patterns in data, through analysis, and make future predictions. By using Data \n",
    "Science, companies are able to make: Better decisions (should we choose A or B)\"\"\"\n",
    "\n",
    "string = string.replace(\"Science\",\"Dcience\")\n",
    "string.index(\" \")"
   ]
  },
  {
   "cell_type": "code",
   "execution_count": 30,
   "id": "8317a253",
   "metadata": {},
   "outputs": [
    {
     "data": {
      "text/plain": [
       "True"
      ]
     },
     "execution_count": 30,
     "metadata": {},
     "output_type": "execute_result"
    }
   ],
   "source": [
    "\"Science\" in \"Data Science\""
   ]
  },
  {
   "cell_type": "code",
   "execution_count": 31,
   "id": "04be9185",
   "metadata": {},
   "outputs": [
    {
     "data": {
      "text/plain": [
       "False"
      ]
     },
     "execution_count": 31,
     "metadata": {},
     "output_type": "execute_result"
    }
   ],
   "source": [
    "\"Scence\" in \"Data Science\""
   ]
  },
  {
   "cell_type": "code",
   "execution_count": 32,
   "id": "a61d4d56",
   "metadata": {},
   "outputs": [
    {
     "data": {
      "text/plain": [
       "False"
      ]
     },
     "execution_count": 32,
     "metadata": {},
     "output_type": "execute_result"
    }
   ],
   "source": [
    "str1 = \"Python\"\n",
    "'p' in str1"
   ]
  },
  {
   "cell_type": "code",
   "execution_count": 33,
   "id": "41aac315",
   "metadata": {},
   "outputs": [
    {
     "data": {
      "text/plain": [
       "True"
      ]
     },
     "execution_count": 33,
     "metadata": {},
     "output_type": "execute_result"
    }
   ],
   "source": [
    "str1 = \"Python\"\n",
    "'P' in str1"
   ]
  },
  {
   "cell_type": "code",
   "execution_count": 34,
   "id": "6bd4449f",
   "metadata": {},
   "outputs": [
    {
     "name": "stdout",
     "output_type": "stream",
     "text": [
      "P is present\n"
     ]
    }
   ],
   "source": [
    "str1 = \"Python\"\n",
    "if \"P\" in str1:\n",
    "    print(\"P is present\")\n",
    "else:\n",
    "    print(\"P is not present\")"
   ]
  },
  {
   "cell_type": "code",
   "execution_count": 35,
   "id": "70f331f7",
   "metadata": {},
   "outputs": [
    {
     "name": "stdout",
     "output_type": "stream",
     "text": [
      "P is not present\n"
     ]
    }
   ],
   "source": [
    "str1 = \"Python\"\n",
    "if \"p\" in str1:\n",
    "    print(\"P is present\")\n",
    "else:\n",
    "    print(\"P is not present\")"
   ]
  },
  {
   "cell_type": "code",
   "execution_count": 36,
   "id": "ebdd7ee8",
   "metadata": {},
   "outputs": [
    {
     "name": "stdout",
     "output_type": "stream",
     "text": [
      "The index of decisions is 223\n"
     ]
    }
   ],
   "source": [
    "string = \"\"\"Data Science is about data gathering, analysis and decision-making. Data Science \n",
    "is about finding patterns in data, through analysis, and make future predictions. By using Data \n",
    "Science, companies are able to make: Better decisions (should we choose A or B)\"\"\"\n",
    "\n",
    "substring = 'decisions'\n",
    "\n",
    "if substring in string:\n",
    "    print(f\"The index of {substring} is {string.index(substring)}\")\n",
    "else:\n",
    "    print(f\"{substring} is not available\")"
   ]
  },
  {
   "cell_type": "code",
   "execution_count": 37,
   "id": "361fda2d",
   "metadata": {},
   "outputs": [
    {
     "name": "stdout",
     "output_type": "stream",
     "text": [
      "decisions is not available\n"
     ]
    }
   ],
   "source": [
    "string = \"\"\"Data Science is about data gathering, analysis and decision-making. Data Science \n",
    "is about finding patterns in data, through analysis, and make future predictions. By using Data \n",
    "Science, companies are able to make: Better deeeecisions (should we choose A or B)\"\"\"\n",
    "\n",
    "substring = 'decisions'\n",
    "\n",
    "if substring in string:\n",
    "    print(f\"The index of {substring} is {string.index(substring)}\")\n",
    "else:\n",
    "    print(f\"{substring} is not available\")"
   ]
  },
  {
   "cell_type": "code",
   "execution_count": 42,
   "id": "ef79c828",
   "metadata": {},
   "outputs": [
    {
     "name": "stdout",
     "output_type": "stream",
     "text": [
      "['Data', 'Science', 'is', 'about', 'data', 'gathering,', 'analysis', 'and', 'decision-making.', 'Data', 'Science', 'is', 'about', 'finding', 'patterns', 'in', 'data,', 'through', 'analysis,', 'and', 'make', 'future', 'predictions.', 'By', 'using', 'Data', 'Science,', 'companies', 'are', 'able', 'to', 'make:', 'Better', 'deeeecisions', '(should', 'we', 'choose', 'A', 'or', 'B)']\n"
     ]
    }
   ],
   "source": [
    "print(string.split())"
   ]
  },
  {
   "cell_type": "code",
   "execution_count": 44,
   "id": "7369fa75",
   "metadata": {},
   "outputs": [
    {
     "name": "stdout",
     "output_type": "stream",
     "text": [
      "{'Data': 3, 'Science': 2, 'is': 2, 'about': 2, 'data': 1, 'gathering,': 1, 'analysis': 1, 'and': 2, 'decision-making.': 1, 'finding': 1, 'patterns': 1, 'in': 1, 'data,': 1, 'through': 1, 'analysis,': 1, 'make': 1, 'future': 1, 'predictions.': 1, 'By': 1, 'using': 1, 'Science,': 1, 'companies': 1, 'are': 1, 'able': 1, 'to': 1, 'make:': 1, 'Better': 1, 'deeeecisions': 1, '(should': 1, 'we': 1, 'choose': 1, 'A': 1, 'or': 1, 'B)': 1}\n"
     ]
    }
   ],
   "source": [
    "di = {}\n",
    "for i in string.split():\n",
    "    if i not in di.keys():\n",
    "        di[i] = 1\n",
    "    else:\n",
    "        di[i] += 1\n",
    "        \n",
    "print(di)"
   ]
  },
  {
   "cell_type": "code",
   "execution_count": 51,
   "id": "4b04b5aa",
   "metadata": {},
   "outputs": [],
   "source": [
    "string = \"\"\"Data Science is about data gathering, analysis and decision-making. Data Science \n",
    "is about finding patterns in data, through analysis, and make future predictions. By using Data \n",
    "Science, companies are able to make: Better decision (should we choose A or B)\"\"\""
   ]
  },
  {
   "cell_type": "markdown",
   "id": "8118f88a",
   "metadata": {},
   "source": [
    "## 12. find()\n",
    "- string.find(substring,start_index,end_index)\n",
    "- If substring present = Return index of a substring\n",
    "- If substring absent  = Return -1"
   ]
  },
  {
   "cell_type": "code",
   "execution_count": 54,
   "id": "d3fa731f",
   "metadata": {},
   "outputs": [
    {
     "data": {
      "text/plain": [
       "0"
      ]
     },
     "execution_count": 54,
     "metadata": {},
     "output_type": "execute_result"
    }
   ],
   "source": [
    "string = \"\"\"Data Science is about data gathering, analysis and decision-making. Data Science \n",
    "is about finding patterns in data, through analysis, and make future predictions. By using Data \n",
    "Science, companies are able to make: Better decision (should we choose A or B)\"\"\"\n",
    "\n",
    "string.find(\"Data\")"
   ]
  },
  {
   "cell_type": "code",
   "execution_count": 55,
   "id": "c77097ab",
   "metadata": {},
   "outputs": [
    {
     "data": {
      "text/plain": [
       "-1"
      ]
     },
     "execution_count": 55,
     "metadata": {},
     "output_type": "execute_result"
    }
   ],
   "source": [
    "string = \"\"\"Data Science is about data gathering, analysis and decision-making. Data Science \n",
    "is about finding patterns in data, through analysis, and make future predictions. By using Data \n",
    "Science, companies are able to make: Better decision (should we choose A or B)\"\"\"\n",
    "\n",
    "string.find(\"Python\")"
   ]
  },
  {
   "cell_type": "code",
   "execution_count": 56,
   "id": "7e5deb9c",
   "metadata": {},
   "outputs": [
    {
     "ename": "ValueError",
     "evalue": "substring not found",
     "output_type": "error",
     "traceback": [
      "\u001b[1;31m---------------------------------------------------------------------------\u001b[0m",
      "\u001b[1;31mValueError\u001b[0m                                Traceback (most recent call last)",
      "\u001b[1;32m<ipython-input-56-63dcb43e9b3a>\u001b[0m in \u001b[0;36m<module>\u001b[1;34m\u001b[0m\n\u001b[0;32m      3\u001b[0m Science, companies are able to make: Better decision (should we choose A or B)\"\"\"\n\u001b[0;32m      4\u001b[0m \u001b[1;33m\u001b[0m\u001b[0m\n\u001b[1;32m----> 5\u001b[1;33m \u001b[0mstring\u001b[0m\u001b[1;33m.\u001b[0m\u001b[0mindex\u001b[0m\u001b[1;33m(\u001b[0m\u001b[1;34m\"Python\"\u001b[0m\u001b[1;33m)\u001b[0m\u001b[1;33m\u001b[0m\u001b[1;33m\u001b[0m\u001b[0m\n\u001b[0m",
      "\u001b[1;31mValueError\u001b[0m: substring not found"
     ]
    }
   ],
   "source": [
    "string = \"\"\"Data Science is about data gathering, analysis and decision-making. Data Science \n",
    "is about finding patterns in data, through analysis, and make future predictions. By using Data \n",
    "Science, companies are able to make: Better decision (should we choose A or B)\"\"\"\n",
    "\n",
    "string.index(\"Python\")"
   ]
  },
  {
   "cell_type": "code",
   "execution_count": 57,
   "id": "ae6b274f",
   "metadata": {},
   "outputs": [
    {
     "name": "stdout",
     "output_type": "stream",
     "text": [
      "Python is not present\n"
     ]
    }
   ],
   "source": [
    "string = \"\"\"Data Science is about data gathering, analysis and decision-making. Data Science \n",
    "is about finding patterns in data, through analysis, and make future predictions. By using Data \n",
    "Science, companies are able to make: Better decision (should we choose A or B)\"\"\"\n",
    "\n",
    "if \"Python\" in string:\n",
    "    print(string.index(\"Python\"))\n",
    "else:\n",
    "    print(\"Python is not present\")"
   ]
  },
  {
   "cell_type": "code",
   "execution_count": 58,
   "id": "e8755e16",
   "metadata": {},
   "outputs": [
    {
     "data": {
      "text/plain": [
       "16"
      ]
     },
     "execution_count": 58,
     "metadata": {},
     "output_type": "execute_result"
    }
   ],
   "source": [
    "string = \"\"\"Data Science is about data gathering, analysis and decision-making. Data Science \n",
    "is about finding patterns in data, through analysis, and make future predictions. By using Data \n",
    "Science, companies are able to make: Better decision (should we choose A or B)\"\"\"\n",
    "\n",
    "string.find(\"about\")"
   ]
  },
  {
   "cell_type": "code",
   "execution_count": 62,
   "id": "51b31c1f",
   "metadata": {},
   "outputs": [
    {
     "data": {
      "text/plain": [
       "16"
      ]
     },
     "execution_count": 62,
     "metadata": {},
     "output_type": "execute_result"
    }
   ],
   "source": [
    "string = \"\"\"Data Science is about data gathering, analysis and decision-making. Data Science \n",
    "is about finding patterns in data, through analysis, and make future predictions. By using Data \n",
    "Science, companies are able to make: Better decision (should we choose A or B)\"\"\"\n",
    "\n",
    "string.find(\"about\",15,25)"
   ]
  },
  {
   "cell_type": "code",
   "execution_count": 64,
   "id": "e2ebb500",
   "metadata": {},
   "outputs": [
    {
     "data": {
      "text/plain": [
       "16"
      ]
     },
     "execution_count": 64,
     "metadata": {},
     "output_type": "execute_result"
    }
   ],
   "source": [
    "string = \"\"\"Data Science is about data gathering, analysis and decision-making. Data Science \n",
    "is about finding patterns in data, through analysis, and make future predictions. By using Data \n",
    "Science, companies are able to make: Better decision (should we choose A or B)\"\"\"\n",
    "\n",
    "string.find(\"about\",15,25)"
   ]
  },
  {
   "cell_type": "code",
   "execution_count": 65,
   "id": "9529972d",
   "metadata": {},
   "outputs": [
    {
     "data": {
      "text/plain": [
       "' about dat'"
      ]
     },
     "execution_count": 65,
     "metadata": {},
     "output_type": "execute_result"
    }
   ],
   "source": [
    "string[15:25]"
   ]
  },
  {
   "cell_type": "code",
   "execution_count": 66,
   "id": "36150a45",
   "metadata": {},
   "outputs": [
    {
     "data": {
      "text/plain": [
       "'Data Science is about data gathering, analysis and decision-making. Data Science \\nis about finding patterns in data, through analysis, and make future predictions. By using Data \\nScience, companies are able to make: Better decision (should we choose A or B)'"
      ]
     },
     "execution_count": 66,
     "metadata": {},
     "output_type": "execute_result"
    }
   ],
   "source": [
    "string"
   ]
  },
  {
   "cell_type": "code",
   "execution_count": null,
   "id": "b213a6c3",
   "metadata": {},
   "outputs": [],
   "source": []
  },
  {
   "cell_type": "code",
   "execution_count": 76,
   "id": "d7aa8588",
   "metadata": {},
   "outputs": [
    {
     "data": {
      "text/plain": [
       "'using Data \\nScience, companies are able to make: Better decision (should we choose A or B)'"
      ]
     },
     "execution_count": 76,
     "metadata": {},
     "output_type": "execute_result"
    }
   ],
   "source": [
    "str1 = \"\"\"Data Science is about data gathering, analysis and decision-making. Data Science \n",
    "is about finding patterns in data, through analysis, and make future predictions. By using Data \n",
    "Science, companies are able to make: Better decision (should we choose A or B)\"\"\"\n",
    "\n",
    "substring = \"By\"\n",
    "index_sub = str1.find(substring)\n",
    "str1[index_sub + len(substring) + 1:]"
   ]
  },
  {
   "cell_type": "code",
   "execution_count": 79,
   "id": "094b3588",
   "metadata": {},
   "outputs": [
    {
     "data": {
      "text/plain": [
       "['data',\n",
       " 'science',\n",
       " 'is',\n",
       " 'about',\n",
       " 'data',\n",
       " 'gathering,',\n",
       " 'analysis',\n",
       " 'and',\n",
       " 'decision-making.',\n",
       " 'data',\n",
       " 'science',\n",
       " 'is',\n",
       " 'about',\n",
       " 'finding',\n",
       " 'patterns',\n",
       " 'in',\n",
       " 'data,',\n",
       " 'through',\n",
       " 'analysis,',\n",
       " 'and',\n",
       " 'make',\n",
       " 'future',\n",
       " 'predictions.',\n",
       " 'by',\n",
       " 'using',\n",
       " 'data',\n",
       " 'science,',\n",
       " 'companies',\n",
       " 'are',\n",
       " 'able',\n",
       " 'to',\n",
       " 'make:',\n",
       " 'better',\n",
       " 'decision',\n",
       " '(should',\n",
       " 'we',\n",
       " 'choose',\n",
       " 'a',\n",
       " 'or',\n",
       " 'b)']"
      ]
     },
     "execution_count": 79,
     "metadata": {},
     "output_type": "execute_result"
    }
   ],
   "source": [
    "str1.lower().split()"
   ]
  },
  {
   "cell_type": "code",
   "execution_count": 81,
   "id": "535d1466",
   "metadata": {},
   "outputs": [
    {
     "data": {
      "text/plain": [
       "' DATA science is about DATA gathering, analysis and decision-making. DATA science is about finding patterns in data, through analysis, and make future predictions. by using DATA science, companies are able to make: better decision (should we choose a or b)'"
      ]
     },
     "execution_count": 81,
     "metadata": {},
     "output_type": "execute_result"
    }
   ],
   "source": [
    "new_str = \"\"\"\"\"\"\n",
    "for i in str1.lower().split():\n",
    "    if \"data\" == i:\n",
    "        new_str = new_str + \" \" + i.upper()\n",
    "    else:\n",
    "        new_str  = new_str + \" \" +  i\n",
    "new_str"
   ]
  },
  {
   "cell_type": "code",
   "execution_count": 82,
   "id": "4528e1ba",
   "metadata": {},
   "outputs": [
    {
     "name": "stdout",
     "output_type": "stream",
     "text": [
      "Data is present\n"
     ]
    }
   ],
   "source": [
    "string = \"Python and Data Science\"\n",
    "index = string.find(\"Data\")\n",
    "if index == -1:\n",
    "    print(f\"Data is not present\")\n",
    "else:\n",
    "    print(\"Data is present\")"
   ]
  },
  {
   "cell_type": "code",
   "execution_count": 83,
   "id": "55e24795",
   "metadata": {},
   "outputs": [
    {
     "name": "stdout",
     "output_type": "stream",
     "text": [
      "Data is not present\n"
     ]
    }
   ],
   "source": [
    "string = \"Python and Data Science\"\n",
    "index = string.find(\"data\")\n",
    "if index == -1:\n",
    "    print(f\"Data is not present\")\n",
    "else:\n",
    "    print(\"Data is present\")"
   ]
  },
  {
   "cell_type": "markdown",
   "id": "ab16654b",
   "metadata": {},
   "source": [
    "## 12. split()\n",
    "- It will convert string to list\n",
    "- List = Its a collection of different data types"
   ]
  },
  {
   "cell_type": "code",
   "execution_count": 86,
   "id": "436b252c",
   "metadata": {},
   "outputs": [],
   "source": [
    "list1 = [1,2,3,1.1,2.2,3.3,\"Hi\",\"Bye\",[\"Hi\",\"Bye\"],[123,123,123],{\"One\":1},{1,2,3},(1,2,3)]"
   ]
  },
  {
   "cell_type": "code",
   "execution_count": 87,
   "id": "1b744b7f",
   "metadata": {},
   "outputs": [
    {
     "data": {
      "text/plain": [
       "[1,\n",
       " 2,\n",
       " 3,\n",
       " 1.1,\n",
       " 2.2,\n",
       " 3.3,\n",
       " 'Hi',\n",
       " 'Bye',\n",
       " ['Hi', 'Bye'],\n",
       " [123, 123, 123],\n",
       " {'One': 1},\n",
       " {1, 2, 3},\n",
       " (1, 2, 3)]"
      ]
     },
     "execution_count": 87,
     "metadata": {},
     "output_type": "execute_result"
    }
   ],
   "source": [
    "list1"
   ]
  },
  {
   "cell_type": "code",
   "execution_count": 88,
   "id": "f8426985",
   "metadata": {},
   "outputs": [
    {
     "data": {
      "text/plain": [
       "['Python', 'and', 'Data', 'Science']"
      ]
     },
     "execution_count": 88,
     "metadata": {},
     "output_type": "execute_result"
    }
   ],
   "source": [
    "string = \"Python and Data Science\"\n",
    "string.split()"
   ]
  },
  {
   "cell_type": "code",
   "execution_count": 89,
   "id": "8ed11282",
   "metadata": {},
   "outputs": [
    {
     "data": {
      "text/plain": [
       "['Python', 'and', 'Data', 'Scienc', 'e']"
      ]
     },
     "execution_count": 89,
     "metadata": {},
     "output_type": "execute_result"
    }
   ],
   "source": [
    "string = \"Python and Data Scienc e\"\n",
    "string.split()"
   ]
  },
  {
   "cell_type": "code",
   "execution_count": 90,
   "id": "c930b31a",
   "metadata": {},
   "outputs": [
    {
     "data": {
      "text/plain": [
       "['Python', 'and', 'Data', 'Science']"
      ]
     },
     "execution_count": 90,
     "metadata": {},
     "output_type": "execute_result"
    }
   ],
   "source": [
    "string = \"Python and Data Science\"\n",
    "string.split(\" \")"
   ]
  },
  {
   "cell_type": "code",
   "execution_count": 91,
   "id": "4c6b9cfe",
   "metadata": {},
   "outputs": [
    {
     "data": {
      "text/plain": [
       "['Python', 'and', 'Data', 'Science']"
      ]
     },
     "execution_count": 91,
     "metadata": {},
     "output_type": "execute_result"
    }
   ],
   "source": [
    "string = \"Python-and-Data-Science\"\n",
    "string.split(\"-\")"
   ]
  },
  {
   "cell_type": "code",
   "execution_count": 92,
   "id": "4a2d8b1f",
   "metadata": {},
   "outputs": [
    {
     "data": {
      "text/plain": [
       "['Python ', 'nd D', 't', ' Science']"
      ]
     },
     "execution_count": 92,
     "metadata": {},
     "output_type": "execute_result"
    }
   ],
   "source": [
    "string = \"Python and Data Science\"\n",
    "string.split(\"a\")"
   ]
  },
  {
   "cell_type": "code",
   "execution_count": 93,
   "id": "57a81bf9",
   "metadata": {},
   "outputs": [
    {
     "data": {
      "text/plain": [
       "['Python ', 'nd D', 't', ' Sci', 'ence']"
      ]
     },
     "execution_count": 93,
     "metadata": {},
     "output_type": "execute_result"
    }
   ],
   "source": [
    "string = \"Python and Data Sciaence\"\n",
    "string.split(\"a\")"
   ]
  },
  {
   "cell_type": "code",
   "execution_count": 94,
   "id": "2b36f6c2",
   "metadata": {},
   "outputs": [
    {
     "data": {
      "text/plain": [
       "['Python ', ' Data Science']"
      ]
     },
     "execution_count": 94,
     "metadata": {},
     "output_type": "execute_result"
    }
   ],
   "source": [
    "string = \"Python and Data Science\"\n",
    "string.split(\"and\")"
   ]
  },
  {
   "cell_type": "code",
   "execution_count": 98,
   "id": "a451053a",
   "metadata": {},
   "outputs": [
    {
     "data": {
      "text/plain": [
       "['Python ', ' Data Science']"
      ]
     },
     "execution_count": 98,
     "metadata": {},
     "output_type": "execute_result"
    }
   ],
   "source": [
    "string = \"Python & Data Science\"\n",
    "string.split(\"&\")"
   ]
  },
  {
   "cell_type": "markdown",
   "id": "a87e9ce6",
   "metadata": {},
   "source": [
    "## 13. join\n",
    "- list to string\n",
    "- syntax = \"\".join(list)"
   ]
  },
  {
   "cell_type": "code",
   "execution_count": 99,
   "id": "446b5d7a",
   "metadata": {},
   "outputs": [
    {
     "name": "stdout",
     "output_type": "stream",
     "text": [
      "['Python', 'and', 'Data', 'Science']\n"
     ]
    }
   ],
   "source": [
    "list1 = ['Python', 'and', 'Data', 'Science']\n",
    "print(list1)\n"
   ]
  },
  {
   "cell_type": "code",
   "execution_count": 100,
   "id": "aefcee1d",
   "metadata": {},
   "outputs": [
    {
     "data": {
      "text/plain": [
       "'PythonandDataScience'"
      ]
     },
     "execution_count": 100,
     "metadata": {},
     "output_type": "execute_result"
    }
   ],
   "source": [
    "\"\".join(list1)"
   ]
  },
  {
   "cell_type": "code",
   "execution_count": 101,
   "id": "cd7f7cf3",
   "metadata": {},
   "outputs": [
    {
     "data": {
      "text/plain": [
       "'Python and Data Science'"
      ]
     },
     "execution_count": 101,
     "metadata": {},
     "output_type": "execute_result"
    }
   ],
   "source": [
    "\" \".join(list1)"
   ]
  },
  {
   "cell_type": "code",
   "execution_count": 102,
   "id": "b5df496f",
   "metadata": {},
   "outputs": [
    {
     "data": {
      "text/plain": [
       "'Python-and-Data-Science'"
      ]
     },
     "execution_count": 102,
     "metadata": {},
     "output_type": "execute_result"
    }
   ],
   "source": [
    "\"-\".join(list1)"
   ]
  },
  {
   "cell_type": "code",
   "execution_count": 103,
   "id": "47e97d83",
   "metadata": {},
   "outputs": [
    {
     "data": {
      "text/plain": [
       "'Python      and      Data      Science'"
      ]
     },
     "execution_count": 103,
     "metadata": {},
     "output_type": "execute_result"
    }
   ],
   "source": [
    "\"      \".join(list1)"
   ]
  },
  {
   "cell_type": "markdown",
   "id": "edc6e9e9",
   "metadata": {},
   "source": [
    "## 14. endswith\n",
    "- It returns True/False values and used to check file extension."
   ]
  },
  {
   "cell_type": "code",
   "execution_count": 104,
   "id": "bc2575f0",
   "metadata": {},
   "outputs": [
    {
     "data": {
      "text/plain": [
       "True"
      ]
     },
     "execution_count": 104,
     "metadata": {},
     "output_type": "execute_result"
    }
   ],
   "source": [
    "string = \"Python and Data Science\"\n",
    "string.endswith(\"e\")"
   ]
  },
  {
   "cell_type": "code",
   "execution_count": 105,
   "id": "d0233ce4",
   "metadata": {},
   "outputs": [
    {
     "data": {
      "text/plain": [
       "False"
      ]
     },
     "execution_count": 105,
     "metadata": {},
     "output_type": "execute_result"
    }
   ],
   "source": [
    "string = \"Python and Data Science\"\n",
    "string.endswith(\"E\")"
   ]
  },
  {
   "cell_type": "code",
   "execution_count": 106,
   "id": "54d41b9d",
   "metadata": {},
   "outputs": [
    {
     "data": {
      "text/plain": [
       "True"
      ]
     },
     "execution_count": 106,
     "metadata": {},
     "output_type": "execute_result"
    }
   ],
   "source": [
    "string = \"Python and Data Science\"\n",
    "string.endswith(\"Science\")"
   ]
  },
  {
   "cell_type": "code",
   "execution_count": 107,
   "id": "b51031d2",
   "metadata": {},
   "outputs": [
    {
     "data": {
      "text/plain": [
       "False"
      ]
     },
     "execution_count": 107,
     "metadata": {},
     "output_type": "execute_result"
    }
   ],
   "source": [
    "string = \"Python and Data Science\"\n",
    "string.endswith(\"and\")"
   ]
  },
  {
   "cell_type": "code",
   "execution_count": 108,
   "id": "c6ce620b",
   "metadata": {},
   "outputs": [],
   "source": [
    "import os"
   ]
  },
  {
   "cell_type": "code",
   "execution_count": 3,
   "id": "89854310",
   "metadata": {},
   "outputs": [
    {
     "data": {
      "text/plain": [
       "True"
      ]
     },
     "execution_count": 3,
     "metadata": {},
     "output_type": "execute_result"
    }
   ],
   "source": [
    "file_path = \"C:/Users/hp/OneDrive/Desktop/Data/sample.txt\"\n",
    "file_path.endswith(\".txt\")"
   ]
  },
  {
   "cell_type": "code",
   "execution_count": 5,
   "id": "46a4b2e6",
   "metadata": {},
   "outputs": [
    {
     "data": {
      "text/plain": [
       "True"
      ]
     },
     "execution_count": 5,
     "metadata": {},
     "output_type": "execute_result"
    }
   ],
   "source": [
    "file_path = \"C:\\\\Users\\\\hp\\\\OneDrive\\\\Desktop\\\\Data\\\\sample.pdf\"\n",
    "file_path.endswith(\".pdf\")"
   ]
  },
  {
   "cell_type": "code",
   "execution_count": 112,
   "id": "7543e5bf",
   "metadata": {},
   "outputs": [
    {
     "data": {
      "text/plain": [
       "False"
      ]
     },
     "execution_count": 112,
     "metadata": {},
     "output_type": "execute_result"
    }
   ],
   "source": [
    "file_path = r\"C:\\Users\\hp\\OneDrive\\Desktop\\Data\\sample.PDF\"\n",
    "file_path.endswith(\".pdf\")"
   ]
  },
  {
   "cell_type": "code",
   "execution_count": 113,
   "id": "ac50af92",
   "metadata": {},
   "outputs": [
    {
     "name": "stdout",
     "output_type": "stream",
     "text": [
      "Text file is present\n"
     ]
    }
   ],
   "source": [
    "file_path = r\"C:\\Users\\hp\\OneDrive\\Desktop\\Data\\sample.txt\"\n",
    "if file_path.endswith(\".txt\"):\n",
    "    print(\"Text file is present\")\n",
    "else:\n",
    "    print(\"Text file is absent\")"
   ]
  },
  {
   "cell_type": "code",
   "execution_count": 114,
   "id": "8979dd44",
   "metadata": {},
   "outputs": [
    {
     "name": "stdout",
     "output_type": "stream",
     "text": [
      "Text file is absent\n"
     ]
    }
   ],
   "source": [
    "file_path = r\"C:\\Users\\hp\\OneDrive\\Desktop\\Data\\sample.txtt\"\n",
    "if file_path.endswith(\".txt\"):\n",
    "    print(\"Text file is present\")\n",
    "else:\n",
    "    print(\"Text file is absent\")"
   ]
  },
  {
   "cell_type": "code",
   "execution_count": 118,
   "id": "433b77bd",
   "metadata": {},
   "outputs": [
    {
     "name": "stdout",
     "output_type": "stream",
     "text": [
      "Bye\n"
     ]
    }
   ],
   "source": [
    "if False:\n",
    "    print(\"Hi\")\n",
    "else:\n",
    "    print(\"Bye\")"
   ]
  },
  {
   "cell_type": "code",
   "execution_count": 119,
   "id": "2e83f604",
   "metadata": {},
   "outputs": [
    {
     "name": "stdout",
     "output_type": "stream",
     "text": [
      "Hi\n"
     ]
    }
   ],
   "source": [
    "if True:\n",
    "    print(\"Hi\")\n",
    "else:\n",
    "    print(\"Bye\")"
   ]
  },
  {
   "cell_type": "code",
   "execution_count": 147,
   "id": "3323fdbb",
   "metadata": {},
   "outputs": [
    {
     "data": {
      "text/plain": [
       "['.ipynb_checkpoints',\n",
       " '1. Weather Data.csv',\n",
       " '2. Cars Data1.csv',\n",
       " '3. Police Data.csv',\n",
       " 'AB_NYC_2019.csv',\n",
       " 'all_data.csv',\n",
       " 'bhp.csv',\n",
       " 'Book1.csv',\n",
       " 'canada_per_capita_income.csv',\n",
       " 'sample0.txt',\n",
       " 'sample1.txt',\n",
       " 'sample2.txt',\n",
       " 'sample3.txt',\n",
       " 'sample4.txt',\n",
       " 'String Functions.ipynb']"
      ]
     },
     "execution_count": 147,
     "metadata": {},
     "output_type": "execute_result"
    }
   ],
   "source": [
    "list_files = os.listdir()\n",
    "list_files"
   ]
  },
  {
   "cell_type": "code",
   "execution_count": 148,
   "id": "8fb6d0f2",
   "metadata": {},
   "outputs": [
    {
     "name": "stdout",
     "output_type": "stream",
     "text": [
      "The file = .ipynb_checkpoints\n",
      "The file = 1. Weather Data.csv\n",
      "The file = 2. Cars Data1.csv\n",
      "The file = 3. Police Data.csv\n",
      "The file = AB_NYC_2019.csv\n",
      "The file = all_data.csv\n",
      "The file = bhp.csv\n",
      "The file = Book1.csv\n",
      "The file = canada_per_capita_income.csv\n",
      "The file = sample0.txt\n",
      "The file = sample1.txt\n",
      "The file = sample2.txt\n",
      "The file = sample3.txt\n",
      "The file = sample4.txt\n",
      "The file = String Functions.ipynb\n"
     ]
    }
   ],
   "source": [
    "for file in list_files:\n",
    "    print(f\"The file = {file}\")"
   ]
  },
  {
   "cell_type": "code",
   "execution_count": 149,
   "id": "e05033e5",
   "metadata": {},
   "outputs": [
    {
     "name": "stdout",
     "output_type": "stream",
     "text": [
      "CSV File Name = 1. Weather Data.csv\n",
      "CSV File Name = 2. Cars Data1.csv\n",
      "CSV File Name = 3. Police Data.csv\n",
      "CSV File Name = AB_NYC_2019.csv\n",
      "CSV File Name = all_data.csv\n",
      "CSV File Name = bhp.csv\n",
      "CSV File Name = Book1.csv\n",
      "CSV File Name = canada_per_capita_income.csv\n"
     ]
    }
   ],
   "source": [
    "for file in list_files:\n",
    "    if file.endswith('.csv'):\n",
    "        print(f\"CSV File Name = {file}\")  "
   ]
  },
  {
   "cell_type": "code",
   "execution_count": 127,
   "id": "e54a9ecb",
   "metadata": {},
   "outputs": [
    {
     "data": {
      "text/plain": [
       "10"
      ]
     },
     "execution_count": 127,
     "metadata": {},
     "output_type": "execute_result"
    }
   ],
   "source": [
    "len(list_files)"
   ]
  },
  {
   "cell_type": "code",
   "execution_count": 150,
   "id": "fa49066b",
   "metadata": {},
   "outputs": [
    {
     "name": "stdout",
     "output_type": "stream",
     "text": [
      "CSV File Name   = 1. Weather Data.csv\n",
      "CSV File Name   = 2. Cars Data1.csv\n",
      "CSV File Name   = 3. Police Data.csv\n",
      "CSV File Name   = AB_NYC_2019.csv\n",
      "CSV File Name   = all_data.csv\n",
      "CSV File Name   = bhp.csv\n",
      "CSV File Name   = Book1.csv\n",
      "CSV File Name   = canada_per_capita_income.csv\n",
      "IPYNB File Name = String Functions.ipynb\n"
     ]
    }
   ],
   "source": [
    "for file in list_files:\n",
    "    if file.endswith('.csv'):\n",
    "        print(f\"CSV File Name   = {file}\")  \n",
    "        \n",
    "    if file.endswith(\".ipynb\"):\n",
    "        print(f\"IPYNB File Name = {file}\")"
   ]
  },
  {
   "cell_type": "code",
   "execution_count": 155,
   "id": "726f4ac1",
   "metadata": {},
   "outputs": [
    {
     "name": "stdout",
     "output_type": "stream",
     "text": [
      "\n",
      "CSV File Name   = 1. Weather Data.csv\n",
      "\n",
      "CSV File Name   = 2. Cars Data1.csv\n",
      "\n",
      "CSV File Name   = 3. Police Data.csv\n",
      "\n",
      "CSV File Name   = AB_NYC_2019.csv\n",
      "\n",
      "CSV File Name   = all_data.csv\n",
      "\n",
      "CSV File Name   = bhp.csv\n",
      "\n",
      "CSV File Name   = Book1.csv\n",
      "\n",
      "CSV File Name   = canada_per_capita_income.csv\n",
      "\n",
      "TEXT File Name  = sample0.txt\n",
      "\n",
      "TEXT File Name  = sample1.txt\n",
      "\n",
      "TEXT File Name  = sample2.txt\n",
      "\n",
      "TEXT File Name  = sample3.txt\n",
      "\n",
      "TEXT File Name  = sample4.txt\n",
      "\n",
      "IPYNB File Name = String Functions.ipynb\n",
      "\n"
     ]
    }
   ],
   "source": [
    "for file in list_files:\n",
    "    if file.endswith('.csv'):\n",
    "        print(f\"CSV File Name   = {file}\")  \n",
    "        \n",
    "    if file.endswith(\".ipynb\"):\n",
    "        print(f\"IPYNB File Name = {file}\")\n",
    "    \n",
    "    if file.endswith(\".txt\"):\n",
    "        print(f\"TEXT File Name  = {file}\")\n",
    "    print()"
   ]
  },
  {
   "cell_type": "code",
   "execution_count": 8,
   "id": "3609614f",
   "metadata": {},
   "outputs": [],
   "source": [
    "with open(r\"C:\\Users\\yashd\\text.txt\",\"w\") as data_file:\n",
    "    data_file.write(\"something\")"
   ]
  },
  {
   "cell_type": "code",
   "execution_count": 5,
   "id": "412af96e",
   "metadata": {},
   "outputs": [],
   "source": [
    " f = \"machine learning\""
   ]
  },
  {
   "cell_type": "code",
   "execution_count": 7,
   "id": "053868fd",
   "metadata": {},
   "outputs": [
    {
     "data": {
      "text/plain": [
       "True"
      ]
     },
     "execution_count": 7,
     "metadata": {},
     "output_type": "execute_result"
    }
   ],
   "source": [
    "\"m\" in f"
   ]
  },
  {
   "cell_type": "code",
   "execution_count": null,
   "id": "adfc5f83",
   "metadata": {},
   "outputs": [],
   "source": []
  },
  {
   "cell_type": "code",
   "execution_count": null,
   "id": "cf410ee3",
   "metadata": {},
   "outputs": [],
   "source": []
  }
 ],
 "metadata": {
  "kernelspec": {
   "display_name": "Python 3 (ipykernel)",
   "language": "python",
   "name": "python3"
  },
  "language_info": {
   "codemirror_mode": {
    "name": "ipython",
    "version": 3
   },
   "file_extension": ".py",
   "mimetype": "text/x-python",
   "name": "python",
   "nbconvert_exporter": "python",
   "pygments_lexer": "ipython3",
   "version": "3.9.12"
  }
 },
 "nbformat": 4,
 "nbformat_minor": 5
}
