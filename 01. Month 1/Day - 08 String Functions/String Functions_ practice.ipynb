{
 "cells": [
  {
   "cell_type": "markdown",
   "id": "dd31627c",
   "metadata": {},
   "source": [
    "# 1. .count()\n",
    "- This function counts the number of ocurrence of the spacied value \n",
    "- sytax = string.count(substring, [start_index], [end_index])\n",
    "- string.count(value, [start_index], [end_index])  \n",
    "- however start_index and end_index is optional "
   ]
  },
  {
   "cell_type": "code",
   "execution_count": null,
   "id": "eec4b024",
   "metadata": {},
   "outputs": [],
   "source": []
  },
  {
   "cell_type": "code",
   "execution_count": 7,
   "id": "d534ae52",
   "metadata": {},
   "outputs": [
    {
     "data": {
      "text/plain": [
       "3"
      ]
     },
     "execution_count": 7,
     "metadata": {},
     "output_type": "execute_result"
    }
   ],
   "source": [
    "string  = \"we are learining python, and python is a very easy and understandable language, python language is most popular with data science\"\n",
    "string.count(\"python\")"
   ]
  },
  {
   "cell_type": "code",
   "execution_count": 28,
   "id": "29b3b6b3",
   "metadata": {},
   "outputs": [
    {
     "data": {
      "text/plain": [
       "0"
      ]
     },
     "execution_count": 28,
     "metadata": {},
     "output_type": "execute_result"
    }
   ],
   "source": [
    "string.count(\"yash\")"
   ]
  },
  {
   "cell_type": "code",
   "execution_count": 16,
   "id": "7138382a",
   "metadata": {},
   "outputs": [
    {
     "data": {
      "text/plain": [
       "129"
      ]
     },
     "execution_count": 16,
     "metadata": {},
     "output_type": "execute_result"
    }
   ],
   "source": [
    "len(string)"
   ]
  },
  {
   "cell_type": "code",
   "execution_count": 25,
   "id": "af7de3e0",
   "metadata": {},
   "outputs": [
    {
     "name": "stdout",
     "output_type": "stream",
     "text": [
      "we are learining python, and python is a\n"
     ]
    }
   ],
   "source": [
    "print(string[0:40])"
   ]
  },
  {
   "cell_type": "code",
   "execution_count": 26,
   "id": "61926bb9",
   "metadata": {},
   "outputs": [
    {
     "data": {
      "text/plain": [
       "2"
      ]
     },
     "execution_count": 26,
     "metadata": {},
     "output_type": "execute_result"
    }
   ],
   "source": [
    "# [start_value], [end_value] represents the spacified value occures in that perticular \n",
    "string.count(\"python\",0, 40)"
   ]
  },
  {
   "cell_type": "code",
   "execution_count": 27,
   "id": "dc06665e",
   "metadata": {},
   "outputs": [
    {
     "data": {
      "text/plain": [
       "0"
      ]
     },
     "execution_count": 27,
     "metadata": {},
     "output_type": "execute_result"
    }
   ],
   "source": []
  },
  {
   "cell_type": "markdown",
   "id": "ed6a0417",
   "metadata": {},
   "source": [
    "# 2. .find()\n",
    "### Definition and Usage\n",
    "- The find() method finds the first occurrence of the specified value. (first index number)\n",
    "\n",
    "- The find() method returns -1 if the value is not found.\n",
    "\n",
    "- The find() method is almost the same as the index() method, the only difference is that the index() method raises an exception - if the value is not found. (See example below)"
   ]
  },
  {
   "cell_type": "code",
   "execution_count": 29,
   "id": "db4a5b44",
   "metadata": {},
   "outputs": [],
   "source": [
    "string = \"\"\"Data Science is about data gathering, analysis and decision-making. Data Science \n",
    "is about finding patterns in data, through analysis, and make future predictions. By using Data \n",
    "Science, companies are able to make: Better decision (should we choose A or B)\"\"\""
   ]
  },
  {
   "cell_type": "code",
   "execution_count": 30,
   "id": "39237fc0",
   "metadata": {
    "scrolled": true
   },
   "outputs": [
    {
     "data": {
      "text/plain": [
       "22"
      ]
     },
     "execution_count": 30,
     "metadata": {},
     "output_type": "execute_result"
    }
   ],
   "source": [
    "string.find(\"data\")"
   ]
  },
  {
   "cell_type": "code",
   "execution_count": 32,
   "id": "70bc80b7",
   "metadata": {},
   "outputs": [
    {
     "data": {
      "text/plain": [
       "0"
      ]
     },
     "execution_count": 32,
     "metadata": {},
     "output_type": "execute_result"
    }
   ],
   "source": [
    "string.find(\"Data\")"
   ]
  },
  {
   "cell_type": "code",
   "execution_count": 51,
   "id": "b118669b",
   "metadata": {},
   "outputs": [
    {
     "name": "stdout",
     "output_type": "stream",
     "text": [
      "-1\n"
     ]
    },
    {
     "data": {
      "text/plain": [
       "'ata Science is about data gathering, analysis and'"
      ]
     },
     "execution_count": 51,
     "metadata": {},
     "output_type": "execute_result"
    }
   ],
   "source": [
    "print(string.find(\"Data\",1,50))\n",
    "string[1:50]"
   ]
  },
  {
   "cell_type": "code",
   "execution_count": null,
   "id": "4a58cc69",
   "metadata": {},
   "outputs": [],
   "source": []
  },
  {
   "cell_type": "code",
   "execution_count": 34,
   "id": "10808c69",
   "metadata": {},
   "outputs": [
    {
     "data": {
      "text/plain": [
       "164"
      ]
     },
     "execution_count": 34,
     "metadata": {},
     "output_type": "execute_result"
    }
   ],
   "source": [
    "string.find(\"By\")"
   ]
  },
  {
   "cell_type": "markdown",
   "id": "7f83116e",
   "metadata": {},
   "source": [
    "#### difference between .find() and .index()"
   ]
  },
  {
   "cell_type": "code",
   "execution_count": 10,
   "id": "508311ea",
   "metadata": {},
   "outputs": [
    {
     "ename": "NameError",
     "evalue": "name 'string' is not defined",
     "output_type": "error",
     "traceback": [
      "\u001b[1;31m---------------------------------------------------------------------------\u001b[0m",
      "\u001b[1;31mNameError\u001b[0m                                 Traceback (most recent call last)",
      "Input \u001b[1;32mIn [10]\u001b[0m, in \u001b[0;36m<cell line: 2>\u001b[1;34m()\u001b[0m\n\u001b[0;32m      1\u001b[0m \u001b[38;5;66;03m# difference between .find() and .index()\u001b[39;00m\n\u001b[1;32m----> 2\u001b[0m \u001b[43mstring\u001b[49m\u001b[38;5;241m.\u001b[39mindex(\u001b[38;5;124m\"\u001b[39m\u001b[38;5;124myash\u001b[39m\u001b[38;5;124m\"\u001b[39m)\n",
      "\u001b[1;31mNameError\u001b[0m: name 'string' is not defined"
     ]
    }
   ],
   "source": [
    "# difference between .find() and .index()\n",
    "string.index(\"yash\")"
   ]
  },
  {
   "cell_type": "code",
   "execution_count": 39,
   "id": "3211c2c3",
   "metadata": {},
   "outputs": [
    {
     "name": "stdout",
     "output_type": "stream",
     "text": [
      "value is not found\n"
     ]
    }
   ],
   "source": [
    "value = \"yash\"\n",
    "if value in string:\n",
    "    print(f\"the index of is = {string.index(value)}\")\n",
    "else:\n",
    "    print(\"value is not found\")"
   ]
  },
  {
   "cell_type": "code",
   "execution_count": 44,
   "id": "7891d5c8",
   "metadata": {},
   "outputs": [
    {
     "data": {
      "text/plain": [
       "-1"
      ]
     },
     "execution_count": 44,
     "metadata": {},
     "output_type": "execute_result"
    }
   ],
   "source": [
    "value = \"yash\"\n",
    "string.find(value)"
   ]
  },
  {
   "cell_type": "code",
   "execution_count": null,
   "id": "ab4897b9",
   "metadata": {},
   "outputs": [],
   "source": []
  },
  {
   "cell_type": "code",
   "execution_count": 45,
   "id": "e371b35e",
   "metadata": {},
   "outputs": [
    {
     "name": "stdout",
     "output_type": "stream",
     "text": [
      "not found\n"
     ]
    }
   ],
   "source": [
    "if value in string:\n",
    "    print(f\"the first occurence is = {string.find(value)}\")\n",
    "else:\n",
    "    print(\"not found\")"
   ]
  },
  {
   "cell_type": "code",
   "execution_count": null,
   "id": "4339b07d",
   "metadata": {},
   "outputs": [],
   "source": [
    "string = \"\"\"Data Science is about data gathering, analysis and decision-making. Data Science \n",
    "is about finding patterns in data, through analysis, and make future predictions. By using Data \n",
    "Science, companies are able to make: Better decision (should we choose A or B)\"\"\""
   ]
  },
  {
   "cell_type": "code",
   "execution_count": 69,
   "id": "c09642e6",
   "metadata": {},
   "outputs": [
    {
     "name": "stdout",
     "output_type": "stream",
     "text": [
      " DATA science is about DATA gathering, analysis and decision-making. DATA science is about finding patterns in data, through analysis, and make future predictions. by using DATA science, companies are able to make: better decision (should we choose a or b)\n"
     ]
    }
   ],
   "source": [
    "new_string = \"\"\"\"\"\"\n",
    "\n",
    "for i in string.lower().split():\n",
    "    if i == \"data\":\n",
    "        new_string = new_string + \" \" + i.upper()\n",
    "    else:\n",
    "        new_string += ' ' + i\n",
    "        \n",
    "print(new_string)"
   ]
  },
  {
   "cell_type": "code",
   "execution_count": null,
   "id": "9eb2b20f",
   "metadata": {},
   "outputs": [],
   "source": []
  },
  {
   "cell_type": "markdown",
   "id": "e43ae97c",
   "metadata": {},
   "source": [
    "# index()\n",
    "- The index() method returns the position at the first occurrence of the specified value."
   ]
  },
  {
   "cell_type": "code",
   "execution_count": 94,
   "id": "64135430",
   "metadata": {},
   "outputs": [
    {
     "data": {
      "text/plain": [
       "3"
      ]
     },
     "execution_count": 94,
     "metadata": {},
     "output_type": "execute_result"
    }
   ],
   "source": [
    "data = [\"a\", 'b', 'c', 1,2,3,4,{\"key\":\"value\"}, {1,2.3}]\n",
    "data.index(1, 2, -1)"
   ]
  },
  {
   "cell_type": "code",
   "execution_count": 87,
   "id": "d7214f07",
   "metadata": {},
   "outputs": [
    {
     "data": {
      "text/plain": [
       "2"
      ]
     },
     "execution_count": 87,
     "metadata": {},
     "output_type": "execute_result"
    }
   ],
   "source": [
    "data = [\"a\", 'b', 'c', 1,2,3,4]\n",
    "\n",
    "data.index('c')"
   ]
  },
  {
   "cell_type": "code",
   "execution_count": 2,
   "id": "a700e8f1",
   "metadata": {},
   "outputs": [
    {
     "data": {
      "text/plain": [
       "2"
      ]
     },
     "execution_count": 2,
     "metadata": {},
     "output_type": "execute_result"
    }
   ],
   "source": [
    "fruits = ['apple', 'banana', 'cherry']\n",
    "\n",
    "fruits.index(\"cherry\")"
   ]
  },
  {
   "cell_type": "code",
   "execution_count": 8,
   "id": "2948912a",
   "metadata": {},
   "outputs": [
    {
     "name": "stdout",
     "output_type": "stream",
     "text": [
      "The index position of 'a' index is: 7\n"
     ]
    }
   ],
   "source": [
    "stng1 = \"python and data science\"\n",
    "value = stng1.index('a')\n",
    "print(f\"The index position of 'a' index is: {value}\")"
   ]
  },
  {
   "cell_type": "code",
   "execution_count": null,
   "id": "6a1e2a94",
   "metadata": {},
   "outputs": [],
   "source": []
  },
  {
   "cell_type": "raw",
   "id": "a276fcb0",
   "metadata": {},
   "source": []
  },
  {
   "cell_type": "markdown",
   "id": "ae52897e",
   "metadata": {},
   "source": [
    "# .split()\n",
    "\n",
    "- The split() method splits a string into a list.\n",
    "\n",
    "- You can specify the separator, default separator is any whitespace.\n",
    "- .split(sep = \"  \")"
   ]
  },
  {
   "cell_type": "code",
   "execution_count": 70,
   "id": "34479a21",
   "metadata": {},
   "outputs": [
    {
     "data": {
      "text/plain": [
       "['python', 'and', 'data', 'science']"
      ]
     },
     "execution_count": 70,
     "metadata": {},
     "output_type": "execute_result"
    }
   ],
   "source": [
    "str1 = \"python and data science\"\n",
    "str1.split()"
   ]
  },
  {
   "cell_type": "code",
   "execution_count": 71,
   "id": "ba504bf5",
   "metadata": {},
   "outputs": [
    {
     "data": {
      "text/plain": [
       "['python ', 'nd d', 't', ' science']"
      ]
     },
     "execution_count": 71,
     "metadata": {},
     "output_type": "execute_result"
    }
   ],
   "source": [
    "str1.split(sep=\"a\")"
   ]
  },
  {
   "cell_type": "code",
   "execution_count": 72,
   "id": "58e415f3",
   "metadata": {},
   "outputs": [
    {
     "data": {
      "text/plain": [
       "['python ', 'nd d', 't', ' science']"
      ]
     },
     "execution_count": 72,
     "metadata": {},
     "output_type": "execute_result"
    }
   ],
   "source": [
    "str1.split(\"a\")"
   ]
  },
  {
   "cell_type": "code",
   "execution_count": null,
   "id": "6aace68b",
   "metadata": {},
   "outputs": [],
   "source": []
  },
  {
   "cell_type": "markdown",
   "id": "1af9a4e5",
   "metadata": {},
   "source": [
    "# .join(variable)\n",
    "- The join() method takes all items in an iterable and joins them into one string.\n",
    "\n",
    "- A string must be specified as the separator.\n"
   ]
  },
  {
   "cell_type": "code",
   "execution_count": 74,
   "id": "7591f8b5",
   "metadata": {},
   "outputs": [
    {
     "data": {
      "text/plain": [
       "'python and data science'"
      ]
     },
     "execution_count": 74,
     "metadata": {},
     "output_type": "execute_result"
    }
   ],
   "source": [
    "list1 = ['python', 'and', 'data', 'science']\n",
    "\n",
    "\" \".join(list1)"
   ]
  },
  {
   "cell_type": "code",
   "execution_count": 78,
   "id": "3b7e60e5",
   "metadata": {},
   "outputs": [
    {
     "data": {
      "text/plain": [
       "'python-and-data-science'"
      ]
     },
     "execution_count": 78,
     "metadata": {},
     "output_type": "execute_result"
    }
   ],
   "source": [
    "str2 = ['python', 'and', 'data', 'science']\n",
    "\"-\".join(str2)"
   ]
  },
  {
   "cell_type": "code",
   "execution_count": null,
   "id": "fa3d366e",
   "metadata": {},
   "outputs": [],
   "source": []
  },
  {
   "cell_type": "markdown",
   "id": "e537497f",
   "metadata": {},
   "source": [
    "# .endswith()\n",
    "- The endswith() method returns True if the string ends with the specified value, otherwise False.\n",
    "- It returns True/False values and used to check file extension.\n",
    "- string.endswith(value, start, end)"
   ]
  },
  {
   "cell_type": "code",
   "execution_count": 12,
   "id": "729ebd57",
   "metadata": {},
   "outputs": [
    {
     "data": {
      "text/plain": [
       "True"
      ]
     },
     "execution_count": 12,
     "metadata": {},
     "output_type": "execute_result"
    }
   ],
   "source": [
    "data = \"Python and data science.\"\n",
    "\n",
    "data.endswith(\".\")"
   ]
  },
  {
   "cell_type": "code",
   "execution_count": 13,
   "id": "136d9db3",
   "metadata": {},
   "outputs": [
    {
     "data": {
      "text/plain": [
       "False"
      ]
     },
     "execution_count": 13,
     "metadata": {},
     "output_type": "execute_result"
    }
   ],
   "source": [
    "data.endswith('e')"
   ]
  },
  {
   "cell_type": "code",
   "execution_count": 14,
   "id": "ec1f0b6c",
   "metadata": {},
   "outputs": [
    {
     "data": {
      "text/plain": [
       "True"
      ]
     },
     "execution_count": 14,
     "metadata": {},
     "output_type": "execute_result"
    }
   ],
   "source": [
    "data = \"Python and data science\"\n",
    "data.endswith(\"e\")"
   ]
  },
  {
   "cell_type": "code",
   "execution_count": 15,
   "id": "e1f53d30",
   "metadata": {},
   "outputs": [
    {
     "data": {
      "text/plain": [
       "True"
      ]
     },
     "execution_count": 15,
     "metadata": {},
     "output_type": "execute_result"
    }
   ],
   "source": [
    "data.endswith(\"science\")"
   ]
  },
  {
   "cell_type": "code",
   "execution_count": 16,
   "id": "969d3459",
   "metadata": {},
   "outputs": [],
   "source": [
    "import os"
   ]
  },
  {
   "cell_type": "code",
   "execution_count": 21,
   "id": "cb571968",
   "metadata": {},
   "outputs": [
    {
     "name": "stdout",
     "output_type": "stream",
     "text": [
      "True\n"
     ]
    }
   ],
   "source": [
    "data1 = r\"E:\\Velocity class\\Notes\\Day 8\\08_10_IfElse_StrFunctions-20220810T054208Z-001\\sample1.txt\"\n",
    "print(data1.endswith(\".txt\"))"
   ]
  },
  {
   "cell_type": "code",
   "execution_count": 26,
   "id": "0becc177",
   "metadata": {},
   "outputs": [
    {
     "name": "stdout",
     "output_type": "stream",
     "text": [
      "['.ipynb_checkpoints', '1. Weather Data.csv', '2. Cars Data1.csv', '3. Police Data.csv', 'AB_NYC_2019.csv', 'all_data.csv', 'bhp.csv', 'Book1.csv', 'canada_per_capita_income.csv', 'sample0.txt', 'sample1.txt', 'sample2.txt', 'sample3.txt', 'sample4.txt', 'String Functions.ipynb', 'String Functions_ practice.ipynb']\n"
     ]
    }
   ],
   "source": [
    "list2 = os.listdir()\n",
    "print(list2)"
   ]
  },
  {
   "cell_type": "code",
   "execution_count": 28,
   "id": "bbf75830",
   "metadata": {},
   "outputs": [
    {
     "name": "stdout",
     "output_type": "stream",
     "text": [
      "------------------------------\n",
      "------------------------------\n",
      "------------------------------\n",
      "------------------------------\n",
      "------------------------------\n",
      "------------------------------\n",
      "------------------------------\n",
      "------------------------------\n",
      "------------------------------\n",
      "sample0.txt\n",
      "sample1.txt\n",
      "sample2.txt\n",
      "sample3.txt\n",
      "sample4.txt\n",
      "------------------------------\n",
      "------------------------------\n"
     ]
    }
   ],
   "source": [
    "for i in list2:\n",
    "    if i.endswith(\".txt\"):\n",
    "        print(i)\n",
    "    else:\n",
    "        print(\"-\"*30)"
   ]
  },
  {
   "cell_type": "code",
   "execution_count": 37,
   "id": "b2ac81bb",
   "metadata": {},
   "outputs": [
    {
     "name": "stdout",
     "output_type": "stream",
     "text": [
      "------------------------------\n",
      "the file ends with CSV:--> 1. Weather Data.csv\n",
      "the file ends with CSV:--> 2. Cars Data1.csv\n",
      "the file ends with CSV:--> 3. Police Data.csv\n",
      "the file ends with CSV:--> AB_NYC_2019.csv\n",
      "the file ends with CSV:--> all_data.csv\n",
      "the file ends with CSV:--> bhp.csv\n",
      "the file ends with CSV:--> Book1.csv\n",
      "the file ends with CSV:--> canada_per_capita_income.csv\n",
      "------------------------------\n",
      "------------------------------\n",
      "------------------------------\n",
      "------------------------------\n",
      "------------------------------\n",
      "the file ends with ipynb:--> String Functions.ipynb\n",
      "the file ends with ipynb:--> String Functions_ practice.ipynb\n"
     ]
    }
   ],
   "source": [
    "for i in list2:\n",
    "    if i.endswith(\".csv\"):\n",
    "        print(f\"the file ends with CSV:--> {i}\")\n",
    "    elif i.endswith(\".ipynb\"):\n",
    "        print(f\"the file ends with ipynb:--> {i}\")\n",
    "    else:\n",
    "        print(\"-\"*30)"
   ]
  },
  {
   "cell_type": "code",
   "execution_count": 38,
   "id": "d9c79120",
   "metadata": {},
   "outputs": [
    {
     "name": "stdout",
     "output_type": "stream",
     "text": [
      "True\n"
     ]
    }
   ],
   "source": [
    "data1 = r\"E:\\Velocity class\\Notes\\Day 8\\08_10_IfElse_StrFunctions-20220810T054208Z-001\\sample1.txt\"\n",
    "print(data1.endswith(\".txt\"))"
   ]
  },
  {
   "cell_type": "code",
   "execution_count": 39,
   "id": "20d2311f",
   "metadata": {},
   "outputs": [
    {
     "name": "stdout",
     "output_type": "stream",
     "text": [
      "False\n"
     ]
    }
   ],
   "source": [
    "data1 = r\"E:\\Velocity class\\Notes\\Day 8\\08_10_IfElse_StrFunctions-20220810T054208Z-001\\sample1.txt\"\n",
    "print(data1.endswith(\".pdf\"))"
   ]
  },
  {
   "cell_type": "markdown",
   "id": "11e52109",
   "metadata": {},
   "source": [
    "#  difference between find() and index"
   ]
  },
  {
   "cell_type": "code",
   "execution_count": 2,
   "id": "d4f03bee",
   "metadata": {},
   "outputs": [],
   "source": [
    "data1 =  \"\"\"Data Science is about data gathering, analysis and decision-making. Data Science \n",
    "is about finding patterns in data, through analysis, and make future predictions. By using Data \n",
    "Science, companies are able to make: Better decision (should we choose A or B)\"\"\""
   ]
  },
  {
   "cell_type": "code",
   "execution_count": 3,
   "id": "a1ee4e44",
   "metadata": {},
   "outputs": [
    {
     "data": {
      "text/plain": [
       "38"
      ]
     },
     "execution_count": 3,
     "metadata": {},
     "output_type": "execute_result"
    }
   ],
   "source": [
    "data1.find(\"analysis\")"
   ]
  },
  {
   "cell_type": "code",
   "execution_count": 4,
   "id": "ea57002a",
   "metadata": {},
   "outputs": [
    {
     "data": {
      "text/plain": [
       "38"
      ]
     },
     "execution_count": 4,
     "metadata": {},
     "output_type": "execute_result"
    }
   ],
   "source": [
    "data1.index(\"analysis\")"
   ]
  },
  {
   "cell_type": "code",
   "execution_count": 5,
   "id": "3369c467",
   "metadata": {},
   "outputs": [
    {
     "ename": "ValueError",
     "evalue": "substring not found",
     "output_type": "error",
     "traceback": [
      "\u001b[1;31m---------------------------------------------------------------------------\u001b[0m",
      "\u001b[1;31mValueError\u001b[0m                                Traceback (most recent call last)",
      "Input \u001b[1;32mIn [5]\u001b[0m, in \u001b[0;36m<cell line: 1>\u001b[1;34m()\u001b[0m\n\u001b[1;32m----> 1\u001b[0m \u001b[43mdata1\u001b[49m\u001b[38;5;241;43m.\u001b[39;49m\u001b[43mindex\u001b[49m\u001b[43m(\u001b[49m\u001b[38;5;124;43m\"\u001b[39;49m\u001b[38;5;124;43myash\u001b[39;49m\u001b[38;5;124;43m\"\u001b[39;49m\u001b[43m)\u001b[49m\n",
      "\u001b[1;31mValueError\u001b[0m: substring not found"
     ]
    }
   ],
   "source": [
    "data1.index(\"yash\")"
   ]
  },
  {
   "cell_type": "code",
   "execution_count": 6,
   "id": "09a8aa36",
   "metadata": {},
   "outputs": [
    {
     "data": {
      "text/plain": [
       "-1"
      ]
     },
     "execution_count": 6,
     "metadata": {},
     "output_type": "execute_result"
    }
   ],
   "source": [
    "data1.find(\"yash\")"
   ]
  },
  {
   "cell_type": "code",
   "execution_count": 7,
   "id": "60c91001",
   "metadata": {},
   "outputs": [
    {
     "data": {
      "text/plain": [
       "2"
      ]
     },
     "execution_count": 7,
     "metadata": {},
     "output_type": "execute_result"
    }
   ],
   "source": [
    "data1.count(\"analysis\")"
   ]
  },
  {
   "cell_type": "code",
   "execution_count": 8,
   "id": "ccfb9b51",
   "metadata": {},
   "outputs": [
    {
     "data": {
      "text/plain": [
       "0"
      ]
     },
     "execution_count": 8,
     "metadata": {},
     "output_type": "execute_result"
    }
   ],
   "source": [
    "data1.count(\"yash\")"
   ]
  },
  {
   "cell_type": "code",
   "execution_count": 9,
   "id": "50e22bf2",
   "metadata": {},
   "outputs": [
    {
     "data": {
      "text/plain": [
       "3"
      ]
     },
     "execution_count": 9,
     "metadata": {},
     "output_type": "execute_result"
    }
   ],
   "source": [
    "data1.count(\"Data\")"
   ]
  },
  {
   "cell_type": "code",
   "execution_count": 17,
   "id": "19febd87",
   "metadata": {},
   "outputs": [
    {
     "data": {
      "text/plain": [
       "'Python and data science'"
      ]
     },
     "execution_count": 17,
     "metadata": {},
     "output_type": "execute_result"
    }
   ],
   "source": [
    "new_string = \"Python and data science\"\n",
    "new_string"
   ]
  },
  {
   "cell_type": "code",
   "execution_count": 19,
   "id": "89ed1ee7",
   "metadata": {},
   "outputs": [
    {
     "data": {
      "text/plain": [
       "['Python', 'and', 'data', 'science']"
      ]
     },
     "execution_count": 19,
     "metadata": {},
     "output_type": "execute_result"
    }
   ],
   "source": [
    "n = new_string.split()\n",
    "n"
   ]
  },
  {
   "cell_type": "code",
   "execution_count": 14,
   "id": "d8de134e",
   "metadata": {},
   "outputs": [
    {
     "data": {
      "text/plain": [
       "'Python'"
      ]
     },
     "execution_count": 14,
     "metadata": {},
     "output_type": "execute_result"
    }
   ],
   "source": [
    "n[0]"
   ]
  },
  {
   "cell_type": "code",
   "execution_count": 15,
   "id": "1b6d86be",
   "metadata": {},
   "outputs": [
    {
     "data": {
      "text/plain": [
       "'and'"
      ]
     },
     "execution_count": 15,
     "metadata": {},
     "output_type": "execute_result"
    }
   ],
   "source": [
    "n[1]"
   ]
  },
  {
   "cell_type": "code",
   "execution_count": 20,
   "id": "379542e9",
   "metadata": {},
   "outputs": [],
   "source": [
    "join_string = ['Python', 'and', 'data', 'science']"
   ]
  },
  {
   "cell_type": "code",
   "execution_count": 22,
   "id": "7ed5f431",
   "metadata": {},
   "outputs": [
    {
     "data": {
      "text/plain": [
       "'Python and data science'"
      ]
     },
     "execution_count": 22,
     "metadata": {},
     "output_type": "execute_result"
    }
   ],
   "source": [
    "\" \".join(join_string)"
   ]
  },
  {
   "cell_type": "code",
   "execution_count": 23,
   "id": "e19395fa",
   "metadata": {},
   "outputs": [
    {
     "data": {
      "text/plain": [
       "'P y t h o n   a n d   d a t a   s c i e n c e'"
      ]
     },
     "execution_count": 23,
     "metadata": {},
     "output_type": "execute_result"
    }
   ],
   "source": [
    "new_string = \"Python and data science\"\n",
    "\" \".join(new_string)"
   ]
  },
  {
   "cell_type": "code",
   "execution_count": null,
   "id": "014b75cf",
   "metadata": {},
   "outputs": [],
   "source": []
  },
  {
   "cell_type": "code",
   "execution_count": null,
   "id": "e3558fdd",
   "metadata": {},
   "outputs": [],
   "source": []
  },
  {
   "cell_type": "code",
   "execution_count": 24,
   "id": "21c1237a",
   "metadata": {},
   "outputs": [
    {
     "name": "stdout",
     "output_type": "stream",
     "text": [
      "apple 0\n",
      "lemone 1\n",
      "banana 2\n",
      "cherry 3\n"
     ]
    }
   ],
   "source": [
    "lst = ['apple', 'lemone', \"banana\", \"cherry\"]\n",
    "\n",
    "for i, index in enumerate(lst):\n",
    "    print(index, i )\n",
    "    "
   ]
  },
  {
   "cell_type": "code",
   "execution_count": null,
   "id": "a8ee9cd5",
   "metadata": {},
   "outputs": [],
   "source": []
  },
  {
   "cell_type": "code",
   "execution_count": null,
   "id": "82df30b8",
   "metadata": {},
   "outputs": [],
   "source": []
  }
 ],
 "metadata": {
  "kernelspec": {
   "display_name": "Python 3 (ipykernel)",
   "language": "python",
   "name": "python3"
  },
  "language_info": {
   "codemirror_mode": {
    "name": "ipython",
    "version": 3
   },
   "file_extension": ".py",
   "mimetype": "text/x-python",
   "name": "python",
   "nbconvert_exporter": "python",
   "pygments_lexer": "ipython3",
   "version": "3.9.12"
  }
 },
 "nbformat": 4,
 "nbformat_minor": 5
}
