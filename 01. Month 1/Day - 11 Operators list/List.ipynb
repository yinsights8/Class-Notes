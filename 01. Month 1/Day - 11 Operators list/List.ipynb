{
 "cells": [
  {
   "cell_type": "markdown",
   "id": "245d1ba6",
   "metadata": {},
   "source": [
    "# List\n",
    "- List ia a collection of items\n",
    "- List can hold ---> int, str, float, list, tuple, set, etc....\n",
    "- It is used to store sequence of various data types"
   ]
  },
  {
   "cell_type": "markdown",
   "id": "6e493ca1",
   "metadata": {},
   "source": [
    "# Properties\n",
    "- 1. Ordered data type\n",
    "- 2. Mutable :\n",
    "    - Changable >> add elements, delete elements, update the list\n",
    "- 3. Duplicate items are allowed \n",
    "- 4. Enclosed by square brackets --> []\n",
    "- 5. All the items in a list are comma seperated\n",
    "- LOMAD"
   ]
  },
  {
   "cell_type": "code",
   "execution_count": 1,
   "id": "2c537cea",
   "metadata": {},
   "outputs": [
    {
     "data": {
      "text/plain": [
       "list"
      ]
     },
     "execution_count": 1,
     "metadata": {},
     "output_type": "execute_result"
    }
   ],
   "source": [
    "list1 = []\n",
    "type(list1)"
   ]
  },
  {
   "cell_type": "code",
   "execution_count": 2,
   "id": "e7d4c14b",
   "metadata": {},
   "outputs": [
    {
     "data": {
      "text/plain": [
       "[1, 2, 3]"
      ]
     },
     "execution_count": 2,
     "metadata": {},
     "output_type": "execute_result"
    }
   ],
   "source": [
    "list1 = [1,2,3]\n",
    "list1"
   ]
  },
  {
   "cell_type": "code",
   "execution_count": 3,
   "id": "a0f3daa4",
   "metadata": {},
   "outputs": [
    {
     "data": {
      "text/plain": [
       "[1.1, 2.2, 3.3]"
      ]
     },
     "execution_count": 3,
     "metadata": {},
     "output_type": "execute_result"
    }
   ],
   "source": [
    "list1 = [1.1,2.2,3.3]\n",
    "list1"
   ]
  },
  {
   "cell_type": "code",
   "execution_count": 4,
   "id": "e3e2245c",
   "metadata": {},
   "outputs": [
    {
     "data": {
      "text/plain": [
       "['1.1', '2.2', '3.3']"
      ]
     },
     "execution_count": 4,
     "metadata": {},
     "output_type": "execute_result"
    }
   ],
   "source": [
    "list1 = ['1.1','2.2','3.3']\n",
    "list1"
   ]
  },
  {
   "cell_type": "code",
   "execution_count": 5,
   "id": "6529f8c3",
   "metadata": {},
   "outputs": [
    {
     "data": {
      "text/plain": [
       "['1.1', ['2.2', '3.3']]"
      ]
     },
     "execution_count": 5,
     "metadata": {},
     "output_type": "execute_result"
    }
   ],
   "source": [
    "list1 = ['1.1',['2.2','3.3']]\n",
    "list1"
   ]
  },
  {
   "cell_type": "code",
   "execution_count": 6,
   "id": "ca8d9b91",
   "metadata": {},
   "outputs": [
    {
     "data": {
      "text/plain": [
       "['1.1', [2, 3.3]]"
      ]
     },
     "execution_count": 6,
     "metadata": {},
     "output_type": "execute_result"
    }
   ],
   "source": [
    "list1 = ['1.1',[2,3.3]]\n",
    "list1"
   ]
  },
  {
   "cell_type": "code",
   "execution_count": 8,
   "id": "7aedc281",
   "metadata": {},
   "outputs": [
    {
     "data": {
      "text/plain": [
       "[1, 2.2, 'Python', [1, 2, 3], (1, 2, 3), {1, 2, 3}]"
      ]
     },
     "execution_count": 8,
     "metadata": {},
     "output_type": "execute_result"
    }
   ],
   "source": [
    "list1 = [1,2.2,\"Python\",[1,2,3],(1,2,3),{1,2,3}]\n",
    "list1"
   ]
  },
  {
   "cell_type": "code",
   "execution_count": 18,
   "id": "fc78e957",
   "metadata": {},
   "outputs": [
    {
     "data": {
      "text/plain": [
       "{1, 2, 2.5, 3, 'python'}"
      ]
     },
     "execution_count": 18,
     "metadata": {},
     "output_type": "execute_result"
    }
   ],
   "source": [
    "set1 = {1,2,3,\"python\",2.5}\n",
    "set1"
   ]
  },
  {
   "cell_type": "code",
   "execution_count": 19,
   "id": "c4cf2574",
   "metadata": {},
   "outputs": [
    {
     "data": {
      "text/plain": [
       "(1, 2, 3, 'python', 2.5)"
      ]
     },
     "execution_count": 19,
     "metadata": {},
     "output_type": "execute_result"
    }
   ],
   "source": [
    "tup1 = (1,2,3,\"python\",2.5)\n",
    "tup1"
   ]
  },
  {
   "cell_type": "code",
   "execution_count": 20,
   "id": "6bbae831",
   "metadata": {},
   "outputs": [
    {
     "data": {
      "text/plain": [
       "{'One': 1, 'Two': 2}"
      ]
     },
     "execution_count": 20,
     "metadata": {},
     "output_type": "execute_result"
    }
   ],
   "source": [
    "di = {\"One\":1,\"Two\":2}\n",
    "di"
   ]
  },
  {
   "cell_type": "code",
   "execution_count": 21,
   "id": "df32f9d1",
   "metadata": {},
   "outputs": [
    {
     "data": {
      "text/plain": [
       "[1.1, 2.2, 3.3, [1, 2.2, 'Python', [1, 2, 3], (1, 2, 3), {1, 2, 3}]]"
      ]
     },
     "execution_count": 21,
     "metadata": {},
     "output_type": "execute_result"
    }
   ],
   "source": [
    "list1 = [1.1,2.2,3.3,[1,2.2,\"Python\",[1,2,3],(1,2,3),{1,2,3}]]\n",
    "list1"
   ]
  },
  {
   "cell_type": "markdown",
   "id": "388f446f",
   "metadata": {},
   "source": [
    "# Indexing"
   ]
  },
  {
   "cell_type": "raw",
   "id": "cafbb73e",
   "metadata": {},
   "source": [
    "  [1, 2, 3, 4, 5]\n",
    "   0  1  2  3  4\n",
    "  -5 -4 -3 -2 -1"
   ]
  },
  {
   "cell_type": "code",
   "execution_count": 22,
   "id": "08173712",
   "metadata": {},
   "outputs": [
    {
     "name": "stdout",
     "output_type": "stream",
     "text": [
      "[1, 2, 3, 4, 5]\n"
     ]
    }
   ],
   "source": [
    "list1 = [1,2,3,4,5]\n",
    "print(list1)"
   ]
  },
  {
   "cell_type": "code",
   "execution_count": 28,
   "id": "7d6b2407",
   "metadata": {},
   "outputs": [
    {
     "data": {
      "text/plain": [
       "5"
      ]
     },
     "execution_count": 28,
     "metadata": {},
     "output_type": "execute_result"
    }
   ],
   "source": [
    "list1 = [1,2,3,4,5]\n",
    "list1[0]\n",
    "list1[1]\n",
    "list1[2]\n",
    "list1[4]\n",
    "# list1[5]"
   ]
  },
  {
   "cell_type": "code",
   "execution_count": 31,
   "id": "75b614e9",
   "metadata": {},
   "outputs": [
    {
     "name": "stdout",
     "output_type": "stream",
     "text": [
      "1\n",
      "2\n",
      "3\n",
      "4\n",
      "5\n"
     ]
    },
    {
     "ename": "IndexError",
     "evalue": "list index out of range",
     "output_type": "error",
     "traceback": [
      "\u001b[1;31m---------------------------------------------------------------------------\u001b[0m",
      "\u001b[1;31mIndexError\u001b[0m                                Traceback (most recent call last)",
      "Input \u001b[1;32mIn [31]\u001b[0m, in \u001b[0;36m<cell line: 7>\u001b[1;34m()\u001b[0m\n\u001b[0;32m      5\u001b[0m \u001b[38;5;28mprint\u001b[39m(list1[\u001b[38;5;241m3\u001b[39m])\n\u001b[0;32m      6\u001b[0m \u001b[38;5;28mprint\u001b[39m(list1[\u001b[38;5;241m4\u001b[39m])\n\u001b[1;32m----> 7\u001b[0m \u001b[38;5;28mprint\u001b[39m(\u001b[43mlist1\u001b[49m\u001b[43m[\u001b[49m\u001b[38;5;241;43m5\u001b[39;49m\u001b[43m]\u001b[49m)\n",
      "\u001b[1;31mIndexError\u001b[0m: list index out of range"
     ]
    }
   ],
   "source": [
    "list1 = [1,2,3,4,5]\n",
    "print(list1[0])\n",
    "print(list1[1])\n",
    "print(list1[2])\n",
    "print(list1[3])\n",
    "print(list1[4])\n",
    "print(list1[5])"
   ]
  },
  {
   "cell_type": "code",
   "execution_count": 37,
   "id": "6bb5afc7",
   "metadata": {},
   "outputs": [
    {
     "name": "stdout",
     "output_type": "stream",
     "text": [
      "5\n",
      "4\n",
      "3\n",
      "2\n",
      "1\n"
     ]
    },
    {
     "ename": "IndexError",
     "evalue": "list index out of range",
     "output_type": "error",
     "traceback": [
      "\u001b[1;31m---------------------------------------------------------------------------\u001b[0m",
      "\u001b[1;31mIndexError\u001b[0m                                Traceback (most recent call last)",
      "Input \u001b[1;32mIn [37]\u001b[0m, in \u001b[0;36m<cell line: 7>\u001b[1;34m()\u001b[0m\n\u001b[0;32m      5\u001b[0m \u001b[38;5;28mprint\u001b[39m(list1[\u001b[38;5;241m-\u001b[39m\u001b[38;5;241m4\u001b[39m])\n\u001b[0;32m      6\u001b[0m \u001b[38;5;28mprint\u001b[39m(list1[\u001b[38;5;241m-\u001b[39m\u001b[38;5;241m5\u001b[39m])\n\u001b[1;32m----> 7\u001b[0m \u001b[38;5;28mprint\u001b[39m(\u001b[43mlist1\u001b[49m\u001b[43m[\u001b[49m\u001b[38;5;241;43m-\u001b[39;49m\u001b[38;5;241;43m6\u001b[39;49m\u001b[43m]\u001b[49m)\n",
      "\u001b[1;31mIndexError\u001b[0m: list index out of range"
     ]
    }
   ],
   "source": [
    "list1 = [1,2,3,4,5]\n",
    "print(list1[-1])\n",
    "print(list1[-2])\n",
    "print(list1[-3])\n",
    "print(list1[-4])\n",
    "print(list1[-5])\n",
    "print(list1[-6])"
   ]
  },
  {
   "cell_type": "code",
   "execution_count": 38,
   "id": "576103c8",
   "metadata": {},
   "outputs": [
    {
     "name": "stdout",
     "output_type": "stream",
     "text": [
      "Python\n",
      "Data\n",
      "Science\n"
     ]
    }
   ],
   "source": [
    "list1 = [\"Python\",\"Data\",\"Science\",[1,2,3]]\n",
    "print(list1[0])\n",
    "print(list1[1])\n",
    "print(list1[2])"
   ]
  },
  {
   "cell_type": "code",
   "execution_count": 46,
   "id": "7974806f",
   "metadata": {},
   "outputs": [
    {
     "name": "stdout",
     "output_type": "stream",
     "text": [
      "Python\n",
      "Data\n",
      "SCIENCE\n",
      "<class 'list'>\n"
     ]
    }
   ],
   "source": [
    "list1 = [\"Python\",\"Data\",\"Science\",[1,2,3]]\n",
    "print(list1[0])\n",
    "print(list1[1])\n",
    "print(list1[2].upper())\n",
    "print(type(list1[3]))"
   ]
  },
  {
   "cell_type": "code",
   "execution_count": 54,
   "id": "4bd963d0",
   "metadata": {},
   "outputs": [
    {
     "data": {
      "text/plain": [
       "2"
      ]
     },
     "execution_count": 54,
     "metadata": {},
     "output_type": "execute_result"
    }
   ],
   "source": [
    "li = [1,2,3,[1,2,3]]\n",
    "li[3][0] # First element of inner list\n",
    "li[3][1] # Second element of inner list"
   ]
  },
  {
   "cell_type": "code",
   "execution_count": 59,
   "id": "7d036773",
   "metadata": {},
   "outputs": [
    {
     "data": {
      "text/plain": [
       "'e'"
      ]
     },
     "execution_count": 59,
     "metadata": {},
     "output_type": "execute_result"
    }
   ],
   "source": [
    "list1 = [\"Python\",\"Data\",\"Science\",[1,2,3]]\n",
    "list1[2][-1]"
   ]
  },
  {
   "cell_type": "markdown",
   "id": "c289bb78",
   "metadata": {},
   "source": [
    "# Slicing"
   ]
  },
  {
   "cell_type": "code",
   "execution_count": 60,
   "id": "aa616ff7",
   "metadata": {},
   "outputs": [
    {
     "data": {
      "text/plain": [
       "[1, 2, 3, 4, 5]"
      ]
     },
     "execution_count": 60,
     "metadata": {},
     "output_type": "execute_result"
    }
   ],
   "source": [
    "list1 = [1,2,3,4,5,60,70,80,900,1000,\"Pythin\",\"And\",\"Data\",\"Science\"]\n",
    "list1[0:5]"
   ]
  },
  {
   "cell_type": "code",
   "execution_count": 61,
   "id": "a2bdc8e2",
   "metadata": {},
   "outputs": [
    {
     "data": {
      "text/plain": [
       "[1, 2, 3, 4, 5]"
      ]
     },
     "execution_count": 61,
     "metadata": {},
     "output_type": "execute_result"
    }
   ],
   "source": [
    "list1 = [1,2,3,4,5,60,70,80,900,1000,\"Pythin\",\"And\",\"Data\",\"Science\"]\n",
    "list1[:5]"
   ]
  },
  {
   "cell_type": "code",
   "execution_count": 63,
   "id": "965d768e",
   "metadata": {},
   "outputs": [
    {
     "data": {
      "text/plain": [
       "[1, 2, 3, 4, 5]"
      ]
     },
     "execution_count": 63,
     "metadata": {},
     "output_type": "execute_result"
    }
   ],
   "source": [
    "list1 = [1,2,3,4,5,60,70,80,900,1000,\"Pythin\",\"And\",\"Data\",\"Science\"]\n",
    "list1[:5:1]"
   ]
  },
  {
   "cell_type": "code",
   "execution_count": 64,
   "id": "36563a00",
   "metadata": {},
   "outputs": [
    {
     "data": {
      "text/plain": [
       "[60, 70, 80]"
      ]
     },
     "execution_count": 64,
     "metadata": {},
     "output_type": "execute_result"
    }
   ],
   "source": [
    "list1 = [1,2,3,4,5,60,70,80,900,1000,\"Pythin\",\"And\",\"Data\",\"Science\"]\n",
    "list1[5 : 8]"
   ]
  },
  {
   "cell_type": "code",
   "execution_count": 65,
   "id": "e4c44b12",
   "metadata": {},
   "outputs": [
    {
     "data": {
      "text/plain": [
       "[900, 1000]"
      ]
     },
     "execution_count": 65,
     "metadata": {},
     "output_type": "execute_result"
    }
   ],
   "source": [
    "list1 = [1,2,3,4,5,60,70,80,900,1000,\"Pythin\",\"And\",\"Data\",\"Science\"]\n",
    "list1[8 : 10]"
   ]
  },
  {
   "cell_type": "code",
   "execution_count": 67,
   "id": "049f788d",
   "metadata": {},
   "outputs": [
    {
     "data": {
      "text/plain": [
       "['Python', 'And', 'Data', 'Science']"
      ]
     },
     "execution_count": 67,
     "metadata": {},
     "output_type": "execute_result"
    }
   ],
   "source": [
    "list1 = [1,2,3,4,5,60,70,80,900,1000,\"Python\",\"And\",\"Data\",\"Science\"]\n",
    "list1[10 : ]"
   ]
  },
  {
   "cell_type": "code",
   "execution_count": 68,
   "id": "4ec5bc7a",
   "metadata": {},
   "outputs": [
    {
     "data": {
      "text/plain": [
       "['Python', 'Data']"
      ]
     },
     "execution_count": 68,
     "metadata": {},
     "output_type": "execute_result"
    }
   ],
   "source": [
    "list1 = [1,2,3,4,5,60,70,80,900,1000,\"Python\",\"And\",\"Data\",\"Science\"]\n",
    "list1[10 : :2]"
   ]
  },
  {
   "cell_type": "code",
   "execution_count": 70,
   "id": "a680b530",
   "metadata": {},
   "outputs": [
    {
     "data": {
      "text/plain": [
       "[]"
      ]
     },
     "execution_count": 70,
     "metadata": {},
     "output_type": "execute_result"
    }
   ],
   "source": [
    "list1 = [1,2,3,4,5,60,70,80,900,1000,\"Python\",\"And\",\"Data\",\"Science\"]\n",
    "list1[10 : 14 : -1]"
   ]
  },
  {
   "cell_type": "code",
   "execution_count": 74,
   "id": "6a27374f",
   "metadata": {},
   "outputs": [
    {
     "data": {
      "text/plain": [
       "['Science', 'Data', 'And', 'Python', 1000, 900, 80, 70, 60, 5, 4, 3, 2, 1]"
      ]
     },
     "execution_count": 74,
     "metadata": {},
     "output_type": "execute_result"
    }
   ],
   "source": [
    "list1 = [1,2,3,4,5,60,70,80,900,1000,\"Python\",\"And\",\"Data\",\"Science\"]\n",
    "            #  -10-9 -8 -7 -6   -5    -4     -3     -2      -1\n",
    "     #   0 1 2 3 4  5  6  7  8   9      10      11     12      13\n",
    "\n",
    "list1[::-1]"
   ]
  },
  {
   "cell_type": "code",
   "execution_count": 80,
   "id": "e5de7b19",
   "metadata": {},
   "outputs": [
    {
     "data": {
      "text/plain": [
       "['Science', 'Data', 'And', 'Python']"
      ]
     },
     "execution_count": 80,
     "metadata": {},
     "output_type": "execute_result"
    }
   ],
   "source": [
    "list1 = [1,2,3,4,5,60,70,80,900,1000,\"Python\",\"And\",\"Data\",\"Science\"]\n",
    "            #  -10-9 -8 -7 -6   -5    -4     -3     -2      -1\n",
    "     #   0 1 2 3 4  5  6  7  8   9      10      11     12      13\n",
    "\n",
    "list1[:-5:-1] # -1,-2,-3,-4,-5"
   ]
  },
  {
   "cell_type": "code",
   "execution_count": 81,
   "id": "e95d7bf7",
   "metadata": {},
   "outputs": [
    {
     "data": {
      "text/plain": [
       "['Science', 'And']"
      ]
     },
     "execution_count": 81,
     "metadata": {},
     "output_type": "execute_result"
    }
   ],
   "source": [
    "list1 = [1,2,3,4,5,60,70,80,900,1000,\"Python\",\"And\",\"Data\",\"Science\"]\n",
    "            #  -10-9 -8 -7 -6   -5    -4     -3     -2      -1\n",
    "     #   0 1 2 3 4  5  6  7  8   9      10      11     12      13\n",
    "\n",
    "list1[:-5:-2] "
   ]
  },
  {
   "cell_type": "code",
   "execution_count": 82,
   "id": "dc76337f",
   "metadata": {},
   "outputs": [
    {
     "data": {
      "text/plain": [
       "[2, 4, 60, 80, 1000, 'And', 'Science']"
      ]
     },
     "execution_count": 82,
     "metadata": {},
     "output_type": "execute_result"
    }
   ],
   "source": [
    "list1 = [1,2,3,4,5,60,70,80,900,1000,\"Python\",\"And\",\"Data\",\"Science\"]\n",
    "            #  -10-9 -8 -7 -6   -5    -4     -3     -2      -1\n",
    "     #   0 1 2 3 4  5  6  7  8   9      10      11     12      13\n",
    "\n",
    "list1[1::2] "
   ]
  },
  {
   "cell_type": "code",
   "execution_count": 83,
   "id": "3da3b334",
   "metadata": {},
   "outputs": [
    {
     "data": {
      "text/plain": [
       "[1, 3, 5, 70, 900, 'Python', 'Data']"
      ]
     },
     "execution_count": 83,
     "metadata": {},
     "output_type": "execute_result"
    }
   ],
   "source": [
    "list1 = [1,2,3,4,5,60,70,80,900,1000,\"Python\",\"And\",\"Data\",\"Science\"]\n",
    "            #  -10-9 -8 -7 -6   -5    -4     -3     -2      -1\n",
    "     #   0 1 2 3 4  5  6  7  8   9      10      11     12      13\n",
    "\n",
    "list1[::2] "
   ]
  },
  {
   "cell_type": "code",
   "execution_count": 84,
   "id": "625b9c62",
   "metadata": {},
   "outputs": [
    {
     "data": {
      "text/plain": [
       "['Science', 'Data', 'And', 'Python', 1000, 900, 80, 70, 60, 5, 4, 3, 2, 1]"
      ]
     },
     "execution_count": 84,
     "metadata": {},
     "output_type": "execute_result"
    }
   ],
   "source": [
    "list1[::-1]"
   ]
  },
  {
   "cell_type": "code",
   "execution_count": 86,
   "id": "894e07d6",
   "metadata": {},
   "outputs": [
    {
     "data": {
      "text/plain": [
       "['Science', 'Data', 'And', 'Python', 1000, 900, 80, 70, 60, 5, 4, 3, 2, 1]"
      ]
     },
     "execution_count": 86,
     "metadata": {},
     "output_type": "execute_result"
    }
   ],
   "source": [
    "list(reversed(list1))"
   ]
  },
  {
   "cell_type": "code",
   "execution_count": 90,
   "id": "dd5331b4",
   "metadata": {},
   "outputs": [
    {
     "data": {
      "text/plain": [
       "['Science', 'Data', 'And', 'Python', 1000, 900, 80, 70, 60, 5, 4, 3, 2, 1]"
      ]
     },
     "execution_count": 90,
     "metadata": {},
     "output_type": "execute_result"
    }
   ],
   "source": [
    "list(reversed(list1))"
   ]
  },
  {
   "cell_type": "code",
   "execution_count": 95,
   "id": "7b4ec847",
   "metadata": {},
   "outputs": [
    {
     "data": {
      "text/plain": [
       "'nohtyP'"
      ]
     },
     "execution_count": 95,
     "metadata": {},
     "output_type": "execute_result"
    }
   ],
   "source": [
    "\"\".join(list(reversed(\"Python\")))"
   ]
  },
  {
   "cell_type": "code",
   "execution_count": 96,
   "id": "f09fde2a",
   "metadata": {},
   "outputs": [
    {
     "data": {
      "text/plain": [
       "'nohtyP'"
      ]
     },
     "execution_count": 96,
     "metadata": {},
     "output_type": "execute_result"
    }
   ],
   "source": [
    "\"\".join(list(\"Python\"[::-1]))"
   ]
  },
  {
   "cell_type": "markdown",
   "id": "94574eb0",
   "metadata": {},
   "source": [
    "## Check items in list"
   ]
  },
  {
   "cell_type": "code",
   "execution_count": 97,
   "id": "6669e42d",
   "metadata": {},
   "outputs": [
    {
     "data": {
      "text/plain": [
       "[1, 2, 3, 4, 5, 60, 70, 80, 900, 1000, 'Python', 'And', 'Data', 'Science']"
      ]
     },
     "execution_count": 97,
     "metadata": {},
     "output_type": "execute_result"
    }
   ],
   "source": [
    "list1"
   ]
  },
  {
   "cell_type": "code",
   "execution_count": 98,
   "id": "f5dd3c28",
   "metadata": {},
   "outputs": [
    {
     "data": {
      "text/plain": [
       "True"
      ]
     },
     "execution_count": 98,
     "metadata": {},
     "output_type": "execute_result"
    }
   ],
   "source": [
    "\"Python\" in list1"
   ]
  },
  {
   "cell_type": "code",
   "execution_count": 99,
   "id": "f9a4ab19",
   "metadata": {},
   "outputs": [
    {
     "data": {
      "text/plain": [
       "False"
      ]
     },
     "execution_count": 99,
     "metadata": {},
     "output_type": "execute_result"
    }
   ],
   "source": [
    "\"python\" in list1"
   ]
  },
  {
   "cell_type": "code",
   "execution_count": 100,
   "id": "e8f8c53d",
   "metadata": {},
   "outputs": [
    {
     "name": "stdout",
     "output_type": "stream",
     "text": [
      "Python is present in [1, 2, 3, 4, 5, 60, 70, 80, 900, 1000, 'Python', 'And', 'Data', 'Science']\n"
     ]
    }
   ],
   "source": [
    "if \"Python\" in list1:\n",
    "    print(f\"Python is present in {list1}\")\n"
   ]
  },
  {
   "cell_type": "code",
   "execution_count": 102,
   "id": "103df0e9",
   "metadata": {},
   "outputs": [
    {
     "name": "stdout",
     "output_type": "stream",
     "text": [
      "python is not present in [1, 2, 3, 4, 5, 60, 70, 80, 900, 1000, 'Python', 'And', 'Data', 'Science']\n"
     ]
    }
   ],
   "source": [
    "if \"python\" in list1:\n",
    "    print(f\"python is present in {list1}\")\n",
    "else:\n",
    "    print(f\"python is not present in {list1}\")"
   ]
  },
  {
   "cell_type": "code",
   "execution_count": 103,
   "id": "364d5153",
   "metadata": {},
   "outputs": [
    {
     "name": "stdout",
     "output_type": "stream",
     "text": [
      "Yes\n"
     ]
    }
   ],
   "source": [
    "if \"Hi\" in [\"Hi\",\"Bye\"]:\n",
    "    print(\"Yes\")\n",
    "else:\n",
    "    print(\"No\")"
   ]
  },
  {
   "cell_type": "code",
   "execution_count": 104,
   "id": "10bf3c5e",
   "metadata": {},
   "outputs": [
    {
     "name": "stdout",
     "output_type": "stream",
     "text": [
      "No\n"
     ]
    }
   ],
   "source": [
    "if \"hi\" in [\"Hi\",\"Bye\"]:\n",
    "    print(\"Yes\")\n",
    "else:\n",
    "    print(\"No\")"
   ]
  },
  {
   "cell_type": "markdown",
   "id": "a14624ca",
   "metadata": {},
   "source": [
    "# Access list items by using for loop"
   ]
  },
  {
   "cell_type": "code",
   "execution_count": 105,
   "id": "16ec1d67",
   "metadata": {},
   "outputs": [
    {
     "data": {
      "text/plain": [
       "[1, 2, 3, 4, 5, 60, 70, 80, 900, 1000, 'Python', 'And', 'Data', 'Science']"
      ]
     },
     "execution_count": 105,
     "metadata": {},
     "output_type": "execute_result"
    }
   ],
   "source": [
    "list1"
   ]
  },
  {
   "cell_type": "code",
   "execution_count": 106,
   "id": "432f7200",
   "metadata": {},
   "outputs": [
    {
     "name": "stdout",
     "output_type": "stream",
     "text": [
      "The element = 1\n",
      "The element = 2\n",
      "The element = 3\n",
      "The element = 4\n",
      "The element = 5\n",
      "The element = 60\n",
      "The element = 70\n",
      "The element = 80\n",
      "The element = 900\n",
      "The element = 1000\n",
      "The element = Python\n",
      "The element = And\n",
      "The element = Data\n",
      "The element = Science\n"
     ]
    }
   ],
   "source": [
    "for i in list1:\n",
    "    print(f\"The element = {i}\")"
   ]
  },
  {
   "cell_type": "code",
   "execution_count": null,
   "id": "3d7e414a",
   "metadata": {},
   "outputs": [],
   "source": []
  }
 ],
 "metadata": {
  "kernelspec": {
   "display_name": "Python 3 (ipykernel)",
   "language": "python",
   "name": "python3"
  },
  "language_info": {
   "codemirror_mode": {
    "name": "ipython",
    "version": 3
   },
   "file_extension": ".py",
   "mimetype": "text/x-python",
   "name": "python",
   "nbconvert_exporter": "python",
   "pygments_lexer": "ipython3",
   "version": "3.9.12"
  }
 },
 "nbformat": 4,
 "nbformat_minor": 5
}
