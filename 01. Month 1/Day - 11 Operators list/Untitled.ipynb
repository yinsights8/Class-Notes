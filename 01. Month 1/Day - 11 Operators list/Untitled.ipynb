{
 "cells": [
  {
   "cell_type": "raw",
   "id": "776eb8a4",
   "metadata": {},
   "source": [
    "L - list is a \n",
    "O - Ordered data type\n",
    "M - mutable data type\n",
    "A - allowed \n",
    "D - duplicate"
   ]
  },
  {
   "cell_type": "code",
   "execution_count": 9,
   "id": "ee4d9dc5",
   "metadata": {},
   "outputs": [
    {
     "data": {
      "text/plain": [
       "True"
      ]
     },
     "execution_count": 9,
     "metadata": {},
     "output_type": "execute_result"
    }
   ],
   "source": [
    "x = 5\n",
    "y = 5\n",
    "id(x) is not id(y)"
   ]
  },
  {
   "cell_type": "code",
   "execution_count": 2,
   "id": "5e83f7ac",
   "metadata": {},
   "outputs": [
    {
     "data": {
      "text/plain": [
       "True"
      ]
     },
     "execution_count": 2,
     "metadata": {},
     "output_type": "execute_result"
    }
   ],
   "source": [
    "x == y"
   ]
  },
  {
   "cell_type": "code",
   "execution_count": 3,
   "id": "d2e12d0f",
   "metadata": {},
   "outputs": [
    {
     "data": {
      "text/plain": [
       "True"
      ]
     },
     "execution_count": 3,
     "metadata": {},
     "output_type": "execute_result"
    }
   ],
   "source": [
    "x is y"
   ]
  },
  {
   "cell_type": "code",
   "execution_count": 4,
   "id": "1e4f1965",
   "metadata": {},
   "outputs": [
    {
     "data": {
      "text/plain": [
       "2163673033136"
      ]
     },
     "execution_count": 4,
     "metadata": {},
     "output_type": "execute_result"
    }
   ],
   "source": [
    "id(x)"
   ]
  },
  {
   "cell_type": "code",
   "execution_count": 6,
   "id": "af1fe704",
   "metadata": {},
   "outputs": [
    {
     "data": {
      "text/plain": [
       "True"
      ]
     },
     "execution_count": 6,
     "metadata": {},
     "output_type": "execute_result"
    }
   ],
   "source": [
    "2163673033136 == 2163673033136"
   ]
  },
  {
   "cell_type": "code",
   "execution_count": 13,
   "id": "87fbbef5",
   "metadata": {},
   "outputs": [
    {
     "data": {
      "text/plain": [
       "3"
      ]
     },
     "execution_count": 13,
     "metadata": {},
     "output_type": "execute_result"
    }
   ],
   "source": []
  },
  {
   "cell_type": "code",
   "execution_count": 14,
   "id": "2ed09e4b",
   "metadata": {},
   "outputs": [
    {
     "data": {
      "text/plain": [
       "3"
      ]
     },
     "execution_count": 14,
     "metadata": {},
     "output_type": "execute_result"
    }
   ],
   "source": [
    "list1[len(list1)-3]"
   ]
  },
  {
   "cell_type": "code",
   "execution_count": 3,
   "id": "04c62b6e",
   "metadata": {},
   "outputs": [
    {
     "data": {
      "text/plain": [
       "True"
      ]
     },
     "execution_count": 3,
     "metadata": {},
     "output_type": "execute_result"
    }
   ],
   "source": [
    "a = 50\n",
    "c = 50\n",
    "a is c"
   ]
  },
  {
   "cell_type": "code",
   "execution_count": 4,
   "id": "30f5a4f2",
   "metadata": {},
   "outputs": [
    {
     "data": {
      "text/plain": [
       "2057166286672"
      ]
     },
     "execution_count": 4,
     "metadata": {},
     "output_type": "execute_result"
    }
   ],
   "source": [
    "id(a)"
   ]
  },
  {
   "cell_type": "code",
   "execution_count": 5,
   "id": "07b3e170",
   "metadata": {},
   "outputs": [
    {
     "data": {
      "text/plain": [
       "2057166286672"
      ]
     },
     "execution_count": 5,
     "metadata": {},
     "output_type": "execute_result"
    }
   ],
   "source": [
    "id(c)"
   ]
  },
  {
   "cell_type": "code",
   "execution_count": 6,
   "id": "173054f3",
   "metadata": {},
   "outputs": [
    {
     "data": {
      "text/plain": [
       "True"
      ]
     },
     "execution_count": 6,
     "metadata": {},
     "output_type": "execute_result"
    }
   ],
   "source": [
    "id(a) == id(c)"
   ]
  },
  {
   "cell_type": "code",
   "execution_count": 8,
   "id": "d99b261c",
   "metadata": {},
   "outputs": [
    {
     "ename": "TypeError",
     "evalue": "argument of type 'int' is not iterable",
     "output_type": "error",
     "traceback": [
      "\u001b[1;31m---------------------------------------------------------------------------\u001b[0m",
      "\u001b[1;31mTypeError\u001b[0m                                 Traceback (most recent call last)",
      "Input \u001b[1;32mIn [8]\u001b[0m, in \u001b[0;36m<cell line: 1>\u001b[1;34m()\u001b[0m\n\u001b[1;32m----> 1\u001b[0m \u001b[38;5;28;43mid\u001b[39;49m\u001b[43m(\u001b[49m\u001b[43ma\u001b[49m\u001b[43m)\u001b[49m\u001b[43m \u001b[49m\u001b[38;5;129;43;01min\u001b[39;49;00m\u001b[43m \u001b[49m\u001b[38;5;28;43mid\u001b[39;49m\u001b[43m(\u001b[49m\u001b[43mc\u001b[49m\u001b[43m)\u001b[49m\n",
      "\u001b[1;31mTypeError\u001b[0m: argument of type 'int' is not iterable"
     ]
    }
   ],
   "source": [
    "id(a) in id(c)"
   ]
  },
  {
   "cell_type": "code",
   "execution_count": 12,
   "id": "92fd5146",
   "metadata": {},
   "outputs": [
    {
     "data": {
      "text/plain": [
       "list"
      ]
     },
     "execution_count": 12,
     "metadata": {},
     "output_type": "execute_result"
    }
   ],
   "source": []
  },
  {
   "cell_type": "code",
   "execution_count": 13,
   "id": "8d623319",
   "metadata": {},
   "outputs": [
    {
     "data": {
      "text/plain": [
       "[1, 8, 5, 6, 9, 7]"
      ]
     },
     "execution_count": 13,
     "metadata": {},
     "output_type": "execute_result"
    }
   ],
   "source": [
    "ls = [1,8,5,6,9,7]\n",
    "ls"
   ]
  },
  {
   "cell_type": "code",
   "execution_count": 14,
   "id": "8b6f91c7",
   "metadata": {},
   "outputs": [
    {
     "data": {
      "text/plain": [
       "{1, 5, 6, 7, 8, 9}"
      ]
     },
     "execution_count": 14,
     "metadata": {},
     "output_type": "execute_result"
    }
   ],
   "source": [
    "set(ls)"
   ]
  },
  {
   "cell_type": "code",
   "execution_count": 92,
   "id": "659861c6",
   "metadata": {},
   "outputs": [
    {
     "name": "stdout",
     "output_type": "stream",
     "text": [
      "<class 'list'>\n"
     ]
    }
   ],
   "source": [
    "print(type(ls))"
   ]
  },
  {
   "cell_type": "code",
   "execution_count": 15,
   "id": "bab4d487",
   "metadata": {},
   "outputs": [],
   "source": [
    "list1 = [1,2,3,4,5,60,70,80,900,1000,\"Pythin\",\"And\",\"Data\",\"Science\"]"
   ]
  },
  {
   "cell_type": "code",
   "execution_count": null,
   "id": "203fd27d",
   "metadata": {},
   "outputs": [],
   "source": []
  },
  {
   "cell_type": "code",
   "execution_count": null,
   "id": "58660ede",
   "metadata": {},
   "outputs": [],
   "source": []
  },
  {
   "cell_type": "code",
   "execution_count": 26,
   "id": "827c20fb",
   "metadata": {},
   "outputs": [
    {
     "name": "stdout",
     "output_type": "stream",
     "text": [
      "4\n",
      "5\n",
      "6\n"
     ]
    }
   ],
   "source": [
    "li = [1,2,3,[4,5,6[7,8,9]]]\n",
    "print(li[3][0])\n",
    "print(li[3][1])\n",
    "print(li[3][2])"
   ]
  },
  {
   "cell_type": "code",
   "execution_count": 28,
   "id": "32e8ec11",
   "metadata": {},
   "outputs": [
    {
     "data": {
      "text/plain": [
       "9"
      ]
     },
     "execution_count": 28,
     "metadata": {},
     "output_type": "execute_result"
    }
   ],
   "source": [
    "li = [1,2,3,[4,5,6,[7,8,9]]]\n",
    "# li[3][3][0]\n",
    "# li[3][3][2]"
   ]
  },
  {
   "cell_type": "code",
   "execution_count": 44,
   "id": "2f3623ca",
   "metadata": {},
   "outputs": [
    {
     "data": {
      "text/plain": [
       "1"
      ]
     },
     "execution_count": 44,
     "metadata": {},
     "output_type": "execute_result"
    }
   ],
   "source": [
    "li[-4]"
   ]
  },
  {
   "cell_type": "code",
   "execution_count": null,
   "id": "859da45c",
   "metadata": {},
   "outputs": [],
   "source": [
    "list1 = [1,2,3,4,5,60,70,80,900,1000,\"Python\",\"And\",\"Data\",\"Science\"]\n",
    "            #  -10-9 -8 -7 -6   -5    -4     -3     -2      -1\n",
    "     #   0 1 2 3 4  5  6  7  8   9      10      11     12      13\n",
    "\n",
    "list1[:-5:-1] # -1,-2,-3,-4,-5"
   ]
  },
  {
   "cell_type": "code",
   "execution_count": null,
   "id": "c6e17f99",
   "metadata": {},
   "outputs": [],
   "source": []
  },
  {
   "cell_type": "code",
   "execution_count": null,
   "id": "3cdd20c8",
   "metadata": {},
   "outputs": [],
   "source": []
  },
  {
   "cell_type": "code",
   "execution_count": null,
   "id": "4bc886bc",
   "metadata": {},
   "outputs": [],
   "source": []
  },
  {
   "cell_type": "code",
   "execution_count": null,
   "id": "6c65b092",
   "metadata": {},
   "outputs": [],
   "source": []
  },
  {
   "cell_type": "code",
   "execution_count": null,
   "id": "071fd49b",
   "metadata": {},
   "outputs": [],
   "source": []
  },
  {
   "cell_type": "code",
   "execution_count": null,
   "id": "c1842d9e",
   "metadata": {},
   "outputs": [],
   "source": []
  },
  {
   "cell_type": "code",
   "execution_count": null,
   "id": "95cbf522",
   "metadata": {},
   "outputs": [],
   "source": []
  },
  {
   "cell_type": "code",
   "execution_count": null,
   "id": "8dd171ad",
   "metadata": {},
   "outputs": [],
   "source": []
  },
  {
   "cell_type": "code",
   "execution_count": null,
   "id": "c594ae20",
   "metadata": {},
   "outputs": [],
   "source": []
  },
  {
   "cell_type": "code",
   "execution_count": null,
   "id": "403c6974",
   "metadata": {},
   "outputs": [],
   "source": []
  },
  {
   "cell_type": "code",
   "execution_count": null,
   "id": "781b9f46",
   "metadata": {},
   "outputs": [],
   "source": []
  },
  {
   "cell_type": "code",
   "execution_count": null,
   "id": "6cbfc508",
   "metadata": {},
   "outputs": [],
   "source": []
  },
  {
   "cell_type": "code",
   "execution_count": null,
   "id": "77a317f0",
   "metadata": {},
   "outputs": [],
   "source": []
  },
  {
   "cell_type": "code",
   "execution_count": null,
   "id": "5fe0d515",
   "metadata": {},
   "outputs": [],
   "source": []
  },
  {
   "cell_type": "code",
   "execution_count": null,
   "id": "24b0b12c",
   "metadata": {},
   "outputs": [],
   "source": []
  },
  {
   "cell_type": "code",
   "execution_count": null,
   "id": "36b4afc5",
   "metadata": {},
   "outputs": [],
   "source": []
  },
  {
   "cell_type": "code",
   "execution_count": 50,
   "id": "1290cf83",
   "metadata": {},
   "outputs": [
    {
     "data": {
      "text/plain": [
       "5"
      ]
     },
     "execution_count": 50,
     "metadata": {},
     "output_type": "execute_result"
    }
   ],
   "source": [
    "li[-1][1]"
   ]
  },
  {
   "cell_type": "code",
   "execution_count": 68,
   "id": "380036ff",
   "metadata": {},
   "outputs": [
    {
     "data": {
      "text/plain": [
       "{'one': 1, 'two': 2, 'three': 3, 'four': {'five': 4, 'six': 5}}"
      ]
     },
     "execution_count": 68,
     "metadata": {},
     "output_type": "execute_result"
    }
   ],
   "source": [
    "dit = {\"one\":1, \"two\":2, \"three\":3, \"four\":{\"five\":4,\"six\":5}}\n",
    "dit"
   ]
  },
  {
   "cell_type": "code",
   "execution_count": 77,
   "id": "dde06b8d",
   "metadata": {},
   "outputs": [
    {
     "data": {
      "text/plain": [
       "1"
      ]
     },
     "execution_count": 77,
     "metadata": {},
     "output_type": "execute_result"
    }
   ],
   "source": [
    "dit.get(\"one\")"
   ]
  },
  {
   "cell_type": "code",
   "execution_count": 79,
   "id": "6963d8ac",
   "metadata": {},
   "outputs": [
    {
     "ename": "TypeError",
     "evalue": "'dict' object is not callable",
     "output_type": "error",
     "traceback": [
      "\u001b[1;31m---------------------------------------------------------------------------\u001b[0m",
      "\u001b[1;31mTypeError\u001b[0m                                 Traceback (most recent call last)",
      "Input \u001b[1;32mIn [79]\u001b[0m, in \u001b[0;36m<cell line: 1>\u001b[1;34m()\u001b[0m\n\u001b[1;32m----> 1\u001b[0m x \u001b[38;5;241m=\u001b[39m \u001b[43mdit\u001b[49m\u001b[43m(\u001b[49m\u001b[38;5;124;43m\"\u001b[39;49m\u001b[38;5;124;43mone\u001b[39;49m\u001b[38;5;124;43m\"\u001b[39;49m\u001b[43m)\u001b[49m\n\u001b[0;32m      2\u001b[0m \u001b[38;5;28mprint\u001b[39m(x)\n",
      "\u001b[1;31mTypeError\u001b[0m: 'dict' object is not callable"
     ]
    }
   ],
   "source": [
    "x = dit(\"one\")\n",
    "print(x)"
   ]
  },
  {
   "cell_type": "code",
   "execution_count": 80,
   "id": "b8fba524",
   "metadata": {},
   "outputs": [
    {
     "data": {
      "text/plain": [
       "dict_items([('one', 1), ('two', 2), ('three', 3), ('four', {'five': 4, 'six': 5})])"
      ]
     },
     "execution_count": 80,
     "metadata": {},
     "output_type": "execute_result"
    }
   ],
   "source": [
    "dit.items()"
   ]
  },
  {
   "cell_type": "code",
   "execution_count": 81,
   "id": "6f0f4cc0",
   "metadata": {},
   "outputs": [
    {
     "data": {
      "text/plain": [
       "dict_keys(['one', 'two', 'three', 'four'])"
      ]
     },
     "execution_count": 81,
     "metadata": {},
     "output_type": "execute_result"
    }
   ],
   "source": [
    "dit.keys()"
   ]
  },
  {
   "cell_type": "code",
   "execution_count": 82,
   "id": "526ad567",
   "metadata": {},
   "outputs": [
    {
     "data": {
      "text/plain": [
       "dict_values([1, 2, 3, {'five': 4, 'six': 5}])"
      ]
     },
     "execution_count": 82,
     "metadata": {},
     "output_type": "execute_result"
    }
   ],
   "source": [
    "dit.values()"
   ]
  },
  {
   "cell_type": "code",
   "execution_count": 85,
   "id": "d769585c",
   "metadata": {},
   "outputs": [
    {
     "data": {
      "text/plain": [
       "1"
      ]
     },
     "execution_count": 85,
     "metadata": {},
     "output_type": "execute_result"
    }
   ],
   "source": [
    "dit[\"one\"]"
   ]
  },
  {
   "cell_type": "code",
   "execution_count": 90,
   "id": "764e6429",
   "metadata": {},
   "outputs": [
    {
     "data": {
      "text/plain": [
       "dict_items([('one', 1), ('two', 2), ('three', 3), ('four', {'five': 4, 'six': 5})])"
      ]
     },
     "execution_count": 90,
     "metadata": {},
     "output_type": "execute_result"
    }
   ],
   "source": [
    "dit.items()"
   ]
  },
  {
   "cell_type": "code",
   "execution_count": null,
   "id": "e6ef9847",
   "metadata": {},
   "outputs": [],
   "source": []
  },
  {
   "cell_type": "code",
   "execution_count": null,
   "id": "cc822947",
   "metadata": {},
   "outputs": [],
   "source": []
  },
  {
   "cell_type": "code",
   "execution_count": null,
   "id": "c13f35cf",
   "metadata": {},
   "outputs": [],
   "source": []
  },
  {
   "cell_type": "code",
   "execution_count": null,
   "id": "99c88731",
   "metadata": {},
   "outputs": [],
   "source": []
  },
  {
   "cell_type": "code",
   "execution_count": null,
   "id": "88b541a5",
   "metadata": {},
   "outputs": [],
   "source": []
  },
  {
   "cell_type": "code",
   "execution_count": null,
   "id": "10574b93",
   "metadata": {},
   "outputs": [],
   "source": []
  },
  {
   "cell_type": "code",
   "execution_count": 5,
   "id": "aa98a5a3",
   "metadata": {},
   "outputs": [
    {
     "name": "stdout",
     "output_type": "stream",
     "text": [
      "Enter any string: pyton\n",
      "pyton\n",
      "y\n"
     ]
    }
   ],
   "source": [
    "user = input(\"Enter any string: \")\n",
    "store_1 = \"\"\n",
    "\n",
    "for char in user:\n",
    "    store_1 += char # store = store + char\n",
    "print(store_1)\n",
    "\n",
    "\n",
    "print(store_1[1])"
   ]
  },
  {
   "cell_type": "code",
   "execution_count": null,
   "id": "691cbdcd",
   "metadata": {},
   "outputs": [],
   "source": []
  },
  {
   "cell_type": "code",
   "execution_count": 4,
   "id": "4dc6d394",
   "metadata": {},
   "outputs": [
    {
     "name": "stdout",
     "output_type": "stream",
     "text": [
      "p\n",
      "y\n",
      "t\n",
      "h\n",
      "o\n",
      "n\n"
     ]
    }
   ],
   "source": [
    "for i in \"python\":\n",
    "    print(i)"
   ]
  },
  {
   "cell_type": "code",
   "execution_count": 8,
   "id": "b9398287",
   "metadata": {},
   "outputs": [
    {
     "name": "stdout",
     "output_type": "stream",
     "text": [
      "['python', 'and', 'data', 'science']\n",
      "python and data science\n"
     ]
    }
   ],
   "source": [
    "string = \"python and data science\".split()\n",
    "\n",
    "print(string)\n",
    "\n",
    "print(\" \".join(string))\n"
   ]
  },
  {
   "cell_type": "code",
   "execution_count": 15,
   "id": "3cf928f0",
   "metadata": {},
   "outputs": [
    {
     "name": "stdout",
     "output_type": "stream",
     "text": [
      "\n",
      "niranjan123\n"
     ]
    }
   ],
   "source": [
    "strn = \"niranjan123\"\n",
    "\n",
    "num = []\n",
    "\n",
    "alpha = []\n",
    "\n",
    "for char in strn:\n",
    "    \n",
    "    if strn in [1,2,3]:\n",
    "        num += char\n",
    "        \n",
    "    else:\n",
    "        alpha.append(char)\n",
    "        \n",
    "print(\" \".join(num))\n",
    "print(\"\".join(alpha))"
   ]
  },
  {
   "cell_type": "code",
   "execution_count": 3,
   "id": "d50e2daf",
   "metadata": {},
   "outputs": [
    {
     "name": "stdout",
     "output_type": "stream",
     "text": [
      "1 2 3\n",
      "\n",
      "yash\n"
     ]
    }
   ],
   "source": [
    "strn = \"yash123\"\n",
    "#strn1 = int(strn)\n",
    "\n",
    "num = \"\"\n",
    "\n",
    "alpha = \"\"\n",
    "\n",
    "# \"n\" and \"0\" following the order of ord(\"n\") and ord(\"0\") and ord(\"9\")\n",
    "for char in strn:\n",
    "    \n",
    "    if char <= '0' or char >= '9':\n",
    "        alpha += char\n",
    "\n",
    "    else:\n",
    "        num += char\n",
    "        \n",
    "print(' '.join(num))\n",
    "print()\n",
    "print(\"\".join(alpha))"
   ]
  },
  {
   "cell_type": "code",
   "execution_count": 7,
   "id": "a3cc0762",
   "metadata": {},
   "outputs": [
    {
     "name": "stdout",
     "output_type": "stream",
     "text": [
      "121\n",
      "97\n",
      "115\n"
     ]
    }
   ],
   "source": [
    "a= ord(\"y\"); b = ord(\"a\"); c = ord(\"s\") ; d = ord(\"h\")\n",
    "\n",
    "print(a)\n",
    "print(b)\n",
    "print(c)"
   ]
  },
  {
   "cell_type": "code",
   "execution_count": 11,
   "id": "5f1230a1",
   "metadata": {},
   "outputs": [
    {
     "name": "stdout",
     "output_type": "stream",
     "text": [
      "49\n",
      "50\n",
      "51\n",
      "48\n",
      "57\n"
     ]
    }
   ],
   "source": [
    "x= ord(\"1\"); y = ord(\"2\"); z = ord(\"3\"); p = ord(\"0\"); q = ord(\"9\")\n",
    "\n",
    "print(x)\n",
    "print(y)\n",
    "print(z)\n",
    "print(p)\n",
    "print(q)"
   ]
  },
  {
   "cell_type": "code",
   "execution_count": 22,
   "id": "415b5030",
   "metadata": {},
   "outputs": [
    {
     "name": "stdout",
     "output_type": "stream",
     "text": [
      "\n",
      "y at [121]\n",
      "\n",
      "a at [121, 97]\n",
      "\n",
      "s at [121, 97, 115]\n",
      "\n",
      "h at [121, 97, 115, 104]\n"
     ]
    }
   ],
   "source": [
    "strn = \"yash123\"\n",
    "#strn1 = int(strn)\n",
    "\n",
    "num = \"\"\n",
    "ord_num = []\n",
    "\n",
    "alpha = \"\"\n",
    "\n",
    "ord_alpha = []\n",
    "\n",
    "# \"n\" and \"0\" following the order of ord(\"n\") and ord(\"0\") and ord(\"9\")\n",
    "for char in strn:\n",
    "    \n",
    "    # char is compairing wint string intiger and ther order of alphabets is always higer than number i.e 'y' = 121, '9' = 57\n",
    "    if char <= '0' or char >= '9':\n",
    "        alpha += char\n",
    "        ord_num.append(ord(char))\n",
    "        print(f\"{char} at {ord_num}\")\n",
    "\n",
    "    else:\n",
    "        num += char\n",
    "        ord_alpha.append(ord(char))\n",
    "        \n"
   ]
  },
  {
   "cell_type": "code",
   "execution_count": null,
   "id": "0614902f",
   "metadata": {},
   "outputs": [],
   "source": []
  },
  {
   "cell_type": "code",
   "execution_count": null,
   "id": "37f02be7",
   "metadata": {},
   "outputs": [],
   "source": []
  },
  {
   "cell_type": "code",
   "execution_count": 1,
   "id": "c6699a97",
   "metadata": {},
   "outputs": [
    {
     "data": {
      "text/plain": [
       "110"
      ]
     },
     "execution_count": 1,
     "metadata": {},
     "output_type": "execute_result"
    }
   ],
   "source": [
    "ord(\"n\")"
   ]
  },
  {
   "cell_type": "code",
   "execution_count": 2,
   "id": "48728d5a",
   "metadata": {},
   "outputs": [
    {
     "data": {
      "text/plain": [
       "48"
      ]
     },
     "execution_count": 2,
     "metadata": {},
     "output_type": "execute_result"
    }
   ],
   "source": [
    "ord(\"0\")"
   ]
  },
  {
   "cell_type": "code",
   "execution_count": 3,
   "id": "54863a28",
   "metadata": {},
   "outputs": [
    {
     "data": {
      "text/plain": [
       "57"
      ]
     },
     "execution_count": 3,
     "metadata": {},
     "output_type": "execute_result"
    }
   ],
   "source": [
    "ord(\"9\")"
   ]
  },
  {
   "cell_type": "code",
   "execution_count": 26,
   "id": "a15c6067",
   "metadata": {},
   "outputs": [
    {
     "data": {
      "text/plain": [
       "97"
      ]
     },
     "execution_count": 26,
     "metadata": {},
     "output_type": "execute_result"
    }
   ],
   "source": [
    "ord('a')"
   ]
  },
  {
   "cell_type": "code",
   "execution_count": null,
   "id": "b715aa53",
   "metadata": {},
   "outputs": [],
   "source": []
  },
  {
   "cell_type": "code",
   "execution_count": 52,
   "id": "c6127beb",
   "metadata": {},
   "outputs": [
    {
     "data": {
      "text/plain": [
       "False"
      ]
     },
     "execution_count": 52,
     "metadata": {},
     "output_type": "execute_result"
    }
   ],
   "source": [
    "\"0\" > \"9\""
   ]
  },
  {
   "cell_type": "code",
   "execution_count": 53,
   "id": "c3ac0fbb",
   "metadata": {},
   "outputs": [
    {
     "data": {
      "text/plain": [
       "True"
      ]
     },
     "execution_count": 53,
     "metadata": {},
     "output_type": "execute_result"
    }
   ],
   "source": [
    "1 <2"
   ]
  },
  {
   "cell_type": "code",
   "execution_count": 54,
   "id": "371f8973",
   "metadata": {},
   "outputs": [
    {
     "data": {
      "text/plain": [
       "False"
      ]
     },
     "execution_count": 54,
     "metadata": {},
     "output_type": "execute_result"
    }
   ],
   "source": [
    "1 > 2"
   ]
  },
  {
   "cell_type": "code",
   "execution_count": 57,
   "id": "acf07e48",
   "metadata": {},
   "outputs": [
    {
     "data": {
      "text/plain": [
       "False"
      ]
     },
     "execution_count": 57,
     "metadata": {},
     "output_type": "execute_result"
    }
   ],
   "source": [
    "int(\"1\") > int(\"2\")"
   ]
  },
  {
   "cell_type": "code",
   "execution_count": 59,
   "id": "9fe5a3b2",
   "metadata": {},
   "outputs": [],
   "source": [
    "strn1 = \"niranjan123\""
   ]
  },
  {
   "cell_type": "code",
   "execution_count": null,
   "id": "72e8036e",
   "metadata": {},
   "outputs": [],
   "source": []
  },
  {
   "cell_type": "code",
   "execution_count": 61,
   "id": "d491d564",
   "metadata": {},
   "outputs": [
    {
     "ename": "ValueError",
     "evalue": "invalid literal for int() with base 10: 'b'",
     "output_type": "error",
     "traceback": [
      "\u001b[1;31m---------------------------------------------------------------------------\u001b[0m",
      "\u001b[1;31mValueError\u001b[0m                                Traceback (most recent call last)",
      "Input \u001b[1;32mIn [61]\u001b[0m, in \u001b[0;36m<cell line: 2>\u001b[1;34m()\u001b[0m\n\u001b[0;32m      1\u001b[0m a \u001b[38;5;241m=\u001b[39m \u001b[38;5;124m\"\u001b[39m\u001b[38;5;124mb\u001b[39m\u001b[38;5;124m\"\u001b[39m\n\u001b[1;32m----> 2\u001b[0m \u001b[38;5;28mprint\u001b[39m(\u001b[38;5;28;43mint\u001b[39;49m\u001b[43m(\u001b[49m\u001b[43ma\u001b[49m\u001b[43m)\u001b[49m)\n",
      "\u001b[1;31mValueError\u001b[0m: invalid literal for int() with base 10: 'b'"
     ]
    }
   ],
   "source": [
    "a = \"b\"\n",
    "print(int(a))"
   ]
  },
  {
   "cell_type": "code",
   "execution_count": 64,
   "id": "93be516a",
   "metadata": {},
   "outputs": [
    {
     "data": {
      "text/plain": [
       "False"
      ]
     },
     "execution_count": 64,
     "metadata": {},
     "output_type": "execute_result"
    }
   ],
   "source": [
    "\"n\" <= \"0\""
   ]
  },
  {
   "cell_type": "code",
   "execution_count": 67,
   "id": "4d7403ec",
   "metadata": {},
   "outputs": [
    {
     "data": {
      "text/plain": [
       "True"
      ]
     },
     "execution_count": 67,
     "metadata": {},
     "output_type": "execute_result"
    }
   ],
   "source": [
    "\"n\" >= \"9\""
   ]
  },
  {
   "cell_type": "code",
   "execution_count": 76,
   "id": "0cc011f8",
   "metadata": {},
   "outputs": [
    {
     "data": {
      "text/plain": [
       "False"
      ]
     },
     "execution_count": 76,
     "metadata": {},
     "output_type": "execute_result"
    }
   ],
   "source": [
    "'c' == 'a'"
   ]
  },
  {
   "cell_type": "code",
   "execution_count": 70,
   "id": "a0c4cc1d",
   "metadata": {},
   "outputs": [
    {
     "data": {
      "text/plain": [
       "'c'"
      ]
     },
     "execution_count": 70,
     "metadata": {},
     "output_type": "execute_result"
    }
   ],
   "source": [
    "'c'"
   ]
  },
  {
   "cell_type": "code",
   "execution_count": 71,
   "id": "19e4148e",
   "metadata": {},
   "outputs": [
    {
     "data": {
      "text/plain": [
       "0"
      ]
     },
     "execution_count": 71,
     "metadata": {},
     "output_type": "execute_result"
    }
   ],
   "source": [
    "a = \"c\"\n",
    "a.index(a)"
   ]
  },
  {
   "cell_type": "markdown",
   "id": "736d43ae",
   "metadata": {},
   "source": [
    "# Write a Python program to find the first repeated character in a given string"
   ]
  },
  {
   "cell_type": "code",
   "execution_count": 1,
   "id": "45222c76",
   "metadata": {},
   "outputs": [
    {
     "name": "stdout",
     "output_type": "stream",
     "text": [
      "3\n"
     ]
    }
   ],
   "source": [
    "strng = \"hellohellohello\"\n",
    "st = strng.count(\"h\")\n",
    "print(st)"
   ]
  },
  {
   "cell_type": "code",
   "execution_count": 8,
   "id": "8e119870",
   "metadata": {},
   "outputs": [
    {
     "data": {
      "text/plain": [
       "'l'"
      ]
     },
     "execution_count": 8,
     "metadata": {},
     "output_type": "execute_result"
    }
   ],
   "source": [
    "def repeat_char(string):\n",
    "    for char in string:\n",
    "\n",
    "        if string[:].count(char) > 1:\n",
    "            return char\n",
    "    \n",
    "repeat_char(\"helllo\")"
   ]
  },
  {
   "cell_type": "code",
   "execution_count": 4,
   "id": "7f71585c",
   "metadata": {},
   "outputs": [
    {
     "name": "stdout",
     "output_type": "stream",
     "text": [
      "hello\n"
     ]
    }
   ],
   "source": [
    "string = \"hello\"\n",
    "print(string[:len(string)])"
   ]
  },
  {
   "cell_type": "code",
   "execution_count": 3,
   "id": "2ce32e7c",
   "metadata": {},
   "outputs": [
    {
     "name": "stdout",
     "output_type": "stream",
     "text": [
      "['python', 'is', 'easy', 'and', 'python', 'is', 'simple']\n"
     ]
    },
    {
     "data": {
      "text/plain": [
       "'is, 2'"
      ]
     },
     "execution_count": 3,
     "metadata": {},
     "output_type": "execute_result"
    }
   ],
   "source": [
    "def repeat_word(string):\n",
    "    \n",
    "    new_string = string.split()\n",
    "\n",
    "    for word in new_string:\n",
    "\n",
    "        if string[1:].count(word) > 1:\n",
    "            \n",
    "            c = new_string.count(word)\n",
    "            \n",
    "            return f\"{word}, {c}\"\n",
    "        \n",
    "repeat_word(\"python is easy and python is simple\")\n",
    "repeat_word(\"Both of these issues are fixed by postponing the evaluation of annotations. Instead of compiling code which executes expressions in annotations at their definition time, the compiler stores the annotation in a string form equivalent to the AST of the expression in question. If needed, annotations can be resolved at runtime using typing.get_type_hints(). In the common case where this is not required, the annotations are cheaper to store (since short strings are interned by the interpreter) and make startup time faster.\")"
   ]
  },
  {
   "cell_type": "code",
   "execution_count": null,
   "id": "fd84c96f",
   "metadata": {},
   "outputs": [],
   "source": []
  }
 ],
 "metadata": {
  "kernelspec": {
   "display_name": "Python 3 (ipykernel)",
   "language": "python",
   "name": "python3"
  },
  "language_info": {
   "codemirror_mode": {
    "name": "ipython",
    "version": 3
   },
   "file_extension": ".py",
   "mimetype": "text/x-python",
   "name": "python",
   "nbconvert_exporter": "python",
   "pygments_lexer": "ipython3",
   "version": "3.9.12"
  }
 },
 "nbformat": 4,
 "nbformat_minor": 5
}
