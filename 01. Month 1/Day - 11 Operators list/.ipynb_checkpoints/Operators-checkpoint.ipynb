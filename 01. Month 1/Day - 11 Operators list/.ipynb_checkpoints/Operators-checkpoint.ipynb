{
 "cells": [
  {
   "cell_type": "markdown",
   "id": "cfe10d3c",
   "metadata": {},
   "source": [
    "# Operators\n",
    "### 1. Comparision "
   ]
  },
  {
   "cell_type": "raw",
   "id": "3ab5663c",
   "metadata": {},
   "source": [
    "- ==\n",
    "- != \n",
    "- > \n",
    "- < \n",
    "- >= \n",
    "- <= "
   ]
  },
  {
   "cell_type": "markdown",
   "id": "7bc492c6",
   "metadata": {},
   "source": [
    "### 2. Logical Operators"
   ]
  },
  {
   "cell_type": "raw",
   "id": "aa341301",
   "metadata": {},
   "source": [
    "and\n",
    "or \n",
    "not"
   ]
  },
  {
   "cell_type": "markdown",
   "id": "80a6516c",
   "metadata": {},
   "source": [
    "### 3. Assignment Operators"
   ]
  },
  {
   "cell_type": "raw",
   "id": "b9f57444",
   "metadata": {},
   "source": [
    "= \n",
    "+=\n",
    "-=\n",
    "*=\n",
    "/=\n",
    "//=\n",
    "%=\n",
    "**="
   ]
  },
  {
   "cell_type": "markdown",
   "id": "4d1f00e6",
   "metadata": {},
   "source": [
    "### 4. Arithmetic Operators"
   ]
  },
  {
   "cell_type": "raw",
   "id": "86b6c184",
   "metadata": {},
   "source": [
    "+\n",
    "-\n",
    "*\n",
    "/\n",
    "//\n",
    "%\n",
    "**"
   ]
  },
  {
   "cell_type": "markdown",
   "id": "18cef77b",
   "metadata": {},
   "source": [
    "### 5. Membership Oerators\n",
    "- in\n",
    "- not in"
   ]
  },
  {
   "cell_type": "code",
   "execution_count": 1,
   "id": "2b8ce652",
   "metadata": {},
   "outputs": [
    {
     "data": {
      "text/plain": [
       "True"
      ]
     },
     "execution_count": 1,
     "metadata": {},
     "output_type": "execute_result"
    }
   ],
   "source": [
    "string = \"Python & Data Science\"\n",
    "sub_string = \"Data\"\n",
    "\n",
    "sub_string in string"
   ]
  },
  {
   "cell_type": "code",
   "execution_count": 4,
   "id": "15448cc9",
   "metadata": {},
   "outputs": [
    {
     "name": "stdout",
     "output_type": "stream",
     "text": [
      "Data is present in Python & Data Science\n"
     ]
    }
   ],
   "source": [
    "string = \"Python & Data Science\"\n",
    "sub_string = \"Data\"\n",
    "\n",
    "if sub_string in string:\n",
    "    print(f\"{sub_string} is present in {string}\")\n",
    "else:\n",
    "    print(f\"{sub_string} is not present in {string}\")"
   ]
  },
  {
   "cell_type": "code",
   "execution_count": 5,
   "id": "9018008a",
   "metadata": {},
   "outputs": [
    {
     "name": "stdout",
     "output_type": "stream",
     "text": [
      "data is not present in Python & Data Science\n"
     ]
    }
   ],
   "source": [
    "string = \"Python & Data Science\"\n",
    "sub_string = \"data\"\n",
    "\n",
    "if sub_string in string:\n",
    "    print(f\"{sub_string} is present in {string}\")\n",
    "else:\n",
    "    print(f\"{sub_string} is not present in {string}\")"
   ]
  },
  {
   "cell_type": "code",
   "execution_count": 11,
   "id": "ddf3e188",
   "metadata": {},
   "outputs": [
    {
     "name": "stdout",
     "output_type": "stream",
     "text": [
      "Data & Python is present in Python & Data Science\n"
     ]
    }
   ],
   "source": [
    "string = \"Python & Data Science\"\n",
    "sub_string1 = \"Data\"\n",
    "sub_string2 = \"Python\"\n",
    "\n",
    "if (sub_string1 in string) and (sub_string2 in string): # True and True >> True \n",
    "    print(f\"{sub_string1} & {sub_string2} is present in {string}\")\n",
    "else:\n",
    "    print(f\"{sub_string1} & {sub_string2} is not present in {string}\")"
   ]
  },
  {
   "cell_type": "code",
   "execution_count": 12,
   "id": "a7f6601b",
   "metadata": {},
   "outputs": [
    {
     "data": {
      "text/plain": [
       "True"
      ]
     },
     "execution_count": 12,
     "metadata": {},
     "output_type": "execute_result"
    }
   ],
   "source": [
    "(sub_string1 in string) and (sub_string2 in string)"
   ]
  },
  {
   "cell_type": "code",
   "execution_count": 13,
   "id": "0ecb7be4",
   "metadata": {},
   "outputs": [
    {
     "name": "stdout",
     "output_type": "stream",
     "text": [
      "data & python is not present in Python & Data Science\n"
     ]
    }
   ],
   "source": [
    "string = \"Python & Data Science\"\n",
    "sub_string1 = \"data\"\n",
    "sub_string2 = \"python\"\n",
    "\n",
    "if (sub_string1 in string) and (sub_string2 in string): # True and True >> True \n",
    "    print(f\"{sub_string1} & {sub_string2} is present in {string}\")\n",
    "else:\n",
    "    print(f\"{sub_string1} & {sub_string2} is not present in {string}\")"
   ]
  },
  {
   "cell_type": "code",
   "execution_count": 16,
   "id": "450cf1ad",
   "metadata": {},
   "outputs": [
    {
     "data": {
      "text/plain": [
       "False"
      ]
     },
     "execution_count": 16,
     "metadata": {},
     "output_type": "execute_result"
    }
   ],
   "source": [
    "string = \"Python & Data Science\"\n",
    "sub_str = 'Data'\n",
    "sub_str not in string  # present then return False"
   ]
  },
  {
   "cell_type": "code",
   "execution_count": 17,
   "id": "37598ae8",
   "metadata": {},
   "outputs": [
    {
     "data": {
      "text/plain": [
       "True"
      ]
     },
     "execution_count": 17,
     "metadata": {},
     "output_type": "execute_result"
    }
   ],
   "source": [
    "string = \"Python & Data Science\"\n",
    "sub_str = 'data'\n",
    "sub_str not in string  # Not present then return True"
   ]
  },
  {
   "cell_type": "code",
   "execution_count": 18,
   "id": "78a206ad",
   "metadata": {},
   "outputs": [
    {
     "name": "stdout",
     "output_type": "stream",
     "text": [
      "data is not present in Python & Data Science\n"
     ]
    }
   ],
   "source": [
    "string = \"Python & Data Science\"\n",
    "sub_string = \"data\"\n",
    "\n",
    "if sub_string not in string:\n",
    "    print(f\"{sub_string} is not present in {string}\")\n",
    "else:\n",
    "    print(f\"{sub_string} is present in {string}\")"
   ]
  },
  {
   "cell_type": "code",
   "execution_count": 19,
   "id": "cfa06dce",
   "metadata": {},
   "outputs": [
    {
     "data": {
      "text/plain": [
       "True"
      ]
     },
     "execution_count": 19,
     "metadata": {},
     "output_type": "execute_result"
    }
   ],
   "source": [
    "sub_string not in string"
   ]
  },
  {
   "cell_type": "code",
   "execution_count": 20,
   "id": "d0a36ee6",
   "metadata": {},
   "outputs": [
    {
     "name": "stdout",
     "output_type": "stream",
     "text": [
      "Data is present in Python & Data Science\n"
     ]
    }
   ],
   "source": [
    "string = \"Python & Data Science\"\n",
    "sub_string = \"Data\"\n",
    "\n",
    "if sub_string not in string:\n",
    "    print(f\"{sub_string} is not present in {string}\")\n",
    "else:\n",
    "    print(f\"{sub_string} is present in {string}\")"
   ]
  },
  {
   "cell_type": "code",
   "execution_count": 21,
   "id": "d878af04",
   "metadata": {},
   "outputs": [
    {
     "data": {
      "text/plain": [
       "False"
      ]
     },
     "execution_count": 21,
     "metadata": {},
     "output_type": "execute_result"
    }
   ],
   "source": [
    "sub_string not in string"
   ]
  },
  {
   "cell_type": "code",
   "execution_count": 22,
   "id": "f921c170",
   "metadata": {},
   "outputs": [],
   "source": [
    "Val = True\n",
    "\n",
    "not Val"
   ]
  },
  {
   "cell_type": "code",
   "execution_count": 24,
   "id": "ee042e4e",
   "metadata": {},
   "outputs": [
    {
     "data": {
      "text/plain": [
       "True"
      ]
     },
     "execution_count": 24,
     "metadata": {},
     "output_type": "execute_result"
    }
   ],
   "source": [
    "Val = False\n",
    "\n",
    "not Val"
   ]
  },
  {
   "cell_type": "code",
   "execution_count": 27,
   "id": "29b7aed2",
   "metadata": {},
   "outputs": [
    {
     "name": "stdout",
     "output_type": "stream",
     "text": [
      "50 is less than 100\n"
     ]
    }
   ],
   "source": [
    "val = 50\n",
    "if val < 100: # True\n",
    "    print(f\"{val} is less than 100\")\n",
    "else:\n",
    "    print(f\"{val} is greater than 100\")"
   ]
  },
  {
   "cell_type": "code",
   "execution_count": 28,
   "id": "cedeb239",
   "metadata": {},
   "outputs": [
    {
     "data": {
      "text/plain": [
       "True"
      ]
     },
     "execution_count": 28,
     "metadata": {},
     "output_type": "execute_result"
    }
   ],
   "source": [
    "val < 100"
   ]
  },
  {
   "cell_type": "code",
   "execution_count": 30,
   "id": "aa63b9fb",
   "metadata": {},
   "outputs": [
    {
     "name": "stdout",
     "output_type": "stream",
     "text": [
      "50 is greater than 100\n"
     ]
    }
   ],
   "source": [
    "val = 50\n",
    "if not val < 100: # Not True >> False\n",
    "    print(f\"{val} is less than 100\")\n",
    "else:\n",
    "    print(f\"{val} is greater than 100\")"
   ]
  },
  {
   "cell_type": "markdown",
   "id": "c07643da",
   "metadata": {},
   "source": [
    "### 6. Identity Operators\n",
    "- is\n",
    "- is not"
   ]
  },
  {
   "cell_type": "code",
   "execution_count": 31,
   "id": "dde9c593",
   "metadata": {},
   "outputs": [
    {
     "data": {
      "text/plain": [
       "True"
      ]
     },
     "execution_count": 31,
     "metadata": {},
     "output_type": "execute_result"
    }
   ],
   "source": [
    "a = 50\n",
    "b = 50\n",
    "a == b"
   ]
  },
  {
   "cell_type": "code",
   "execution_count": 34,
   "id": "e50bf53d",
   "metadata": {},
   "outputs": [
    {
     "data": {
      "text/plain": [
       "(1685014020624, 1685014023760)"
      ]
     },
     "execution_count": 34,
     "metadata": {},
     "output_type": "execute_result"
    }
   ],
   "source": [
    "a = 500\n",
    "b = 500\n",
    "id(a),id(b)"
   ]
  },
  {
   "cell_type": "code",
   "execution_count": 35,
   "id": "9a6bc8dc",
   "metadata": {},
   "outputs": [
    {
     "data": {
      "text/plain": [
       "(1684929847504, 1684929847504)"
      ]
     },
     "execution_count": 35,
     "metadata": {},
     "output_type": "execute_result"
    }
   ],
   "source": [
    "a = 256\n",
    "b = 256\n",
    "id(a),id(b)"
   ]
  },
  {
   "cell_type": "code",
   "execution_count": 45,
   "id": "29447f93",
   "metadata": {},
   "outputs": [
    {
     "data": {
      "text/plain": [
       "(1685014025008, 1685014025168)"
      ]
     },
     "execution_count": 45,
     "metadata": {},
     "output_type": "execute_result"
    }
   ],
   "source": [
    "a = 257\n",
    "b = 257\n",
    "id(a),id(b)"
   ]
  },
  {
   "cell_type": "code",
   "execution_count": 37,
   "id": "081f7266",
   "metadata": {},
   "outputs": [
    {
     "data": {
      "text/plain": [
       "(1685013240816, 1685013240816)"
      ]
     },
     "execution_count": 37,
     "metadata": {},
     "output_type": "execute_result"
    }
   ],
   "source": [
    "a = \"123456\"\n",
    "b = \"123456\"\n",
    "id(a),id(b)"
   ]
  },
  {
   "cell_type": "code",
   "execution_count": 47,
   "id": "97f15111",
   "metadata": {},
   "outputs": [
    {
     "data": {
      "text/plain": [
       "(1685013165440, 1685012954944)"
      ]
     },
     "execution_count": 47,
     "metadata": {},
     "output_type": "execute_result"
    }
   ],
   "source": [
    "li1 = [1,2]\n",
    "li2 = [1,2]\n",
    "id(li1),id(li2)"
   ]
  },
  {
   "cell_type": "code",
   "execution_count": 49,
   "id": "70b39e5b",
   "metadata": {},
   "outputs": [
    {
     "data": {
      "text/plain": [
       "(1684929839152, 1684929839152)"
      ]
     },
     "execution_count": 49,
     "metadata": {},
     "output_type": "execute_result"
    }
   ],
   "source": [
    "a = -5\n",
    "b = -5\n",
    "id(a),id(b)"
   ]
  },
  {
   "cell_type": "code",
   "execution_count": 50,
   "id": "31544bae",
   "metadata": {},
   "outputs": [
    {
     "data": {
      "text/plain": [
       "(1685014025296, 1685014025808)"
      ]
     },
     "execution_count": 50,
     "metadata": {},
     "output_type": "execute_result"
    }
   ],
   "source": [
    "a = -6\n",
    "b = -6\n",
    "id(a),id(b)"
   ]
  },
  {
   "cell_type": "code",
   "execution_count": 53,
   "id": "780f5829",
   "metadata": {},
   "outputs": [
    {
     "name": "stdout",
     "output_type": "stream",
     "text": [
      "Same Location\n"
     ]
    }
   ],
   "source": [
    "a = 256\n",
    "b = 256\n",
    "if id(a) == id(b):\n",
    "    print(\"Same Location\")\n",
    "else:\n",
    "    print(\"Different Location\")"
   ]
  },
  {
   "cell_type": "code",
   "execution_count": 74,
   "id": "67bb9821",
   "metadata": {},
   "outputs": [
    {
     "name": "stdout",
     "output_type": "stream",
     "text": [
      "Same Location\n"
     ]
    }
   ],
   "source": [
    "a = 256\n",
    "b = 256\n",
    "if id(a) == id(b):\n",
    "    print(\"Same Location\")\n",
    "else:\n",
    "    print(\"Different Location\")"
   ]
  },
  {
   "cell_type": "code",
   "execution_count": 86,
   "id": "6c91f962",
   "metadata": {},
   "outputs": [
    {
     "name": "stdout",
     "output_type": "stream",
     "text": [
      "Different Location\n"
     ]
    }
   ],
   "source": [
    "a = 0\n",
    "b = 1\n",
    "if id(a) == id(b):\n",
    "    print(\"Same Location\")\n",
    "else:\n",
    "    print(\"Different Location\")"
   ]
  },
  {
   "cell_type": "code",
   "execution_count": 87,
   "id": "38355c1e",
   "metadata": {},
   "outputs": [
    {
     "name": "stdout",
     "output_type": "stream",
     "text": [
      "Same Location\n"
     ]
    }
   ],
   "source": [
    "a = -5\n",
    "b = -5\n",
    "if id(a) == id(b):\n",
    "    print(\"Same Location\")\n",
    "else:\n",
    "    print(\"Different Location\")"
   ]
  },
  {
   "cell_type": "code",
   "execution_count": 88,
   "id": "85033fce",
   "metadata": {},
   "outputs": [
    {
     "name": "stdout",
     "output_type": "stream",
     "text": [
      "Different Location\n"
     ]
    }
   ],
   "source": [
    "a = -7\n",
    "b = -7\n",
    "if id(a) == id(b):\n",
    "    print(\"Same Location\")\n",
    "else:\n",
    "    print(\"Different Location\")"
   ]
  },
  {
   "cell_type": "code",
   "execution_count": 6,
   "id": "ae9385c6",
   "metadata": {},
   "outputs": [
    {
     "data": {
      "text/plain": [
       "(1560167383088, 1560167383088)"
      ]
     },
     "execution_count": 6,
     "metadata": {},
     "output_type": "execute_result"
    }
   ],
   "source": [
    " id(a) , id(b)"
   ]
  },
  {
   "cell_type": "code",
   "execution_count": 7,
   "id": "38cd534f",
   "metadata": {},
   "outputs": [
    {
     "name": "stdout",
     "output_type": "stream",
     "text": [
      "Different Location\n"
     ]
    }
   ],
   "source": [
    "a = -5\n",
    "b = -5\n",
    "if id(a) is id(b):\n",
    "    print(\"Same Location\")\n",
    "else:\n",
    "    print(\"Different Location\")"
   ]
  },
  {
   "cell_type": "code",
   "execution_count": 9,
   "id": "3e776be4",
   "metadata": {},
   "outputs": [
    {
     "name": "stdout",
     "output_type": "stream",
     "text": [
      "Different Location\n"
     ]
    }
   ],
   "source": [
    "a = -5\n",
    "b = -5\n",
    "if id(a) is not id(b):\n",
    "    print(\"Different Location\")\n",
    "    \n",
    "else:\n",
    "    print(\"Same Location\")"
   ]
  },
  {
   "cell_type": "code",
   "execution_count": null,
   "id": "78ddd6e4",
   "metadata": {},
   "outputs": [],
   "source": []
  }
 ],
 "metadata": {
  "kernelspec": {
   "display_name": "Python 3 (ipykernel)",
   "language": "python",
   "name": "python3"
  },
  "language_info": {
   "codemirror_mode": {
    "name": "ipython",
    "version": 3
   },
   "file_extension": ".py",
   "mimetype": "text/x-python",
   "name": "python",
   "nbconvert_exporter": "python",
   "pygments_lexer": "ipython3",
   "version": "3.10.5"
  }
 },
 "nbformat": 4,
 "nbformat_minor": 5
}
