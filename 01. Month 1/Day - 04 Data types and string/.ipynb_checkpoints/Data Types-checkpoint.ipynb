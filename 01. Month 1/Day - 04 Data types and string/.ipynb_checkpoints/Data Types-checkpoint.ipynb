{
 "cells": [
  {
   "cell_type": "markdown",
   "id": "4f25c09a",
   "metadata": {},
   "source": [
    "# Data Types\n",
    "- Numeric >>> int,float,complex\n",
    "- Text >>> str\n",
    "- Sequence >>> list,tuple,range\n",
    "- Mapping >>> dict\n",
    "- Set >> set, frozenset\n",
    "- boolean >>> bool (True and False)\n",
    "- bytearray"
   ]
  },
  {
   "cell_type": "markdown",
   "id": "0edf1ba7",
   "metadata": {},
   "source": [
    "# Numeric Data Types\n",
    "### 1. int\n",
    "- int contains whole numbers\n",
    "- +ve or -ve numbers"
   ]
  },
  {
   "cell_type": "code",
   "execution_count": 3,
   "id": "eb7a9e24",
   "metadata": {},
   "outputs": [
    {
     "name": "stdout",
     "output_type": "stream",
     "text": [
      "The Number = 15 and its data type = <class 'int'>\n"
     ]
    }
   ],
   "source": [
    "num = 15\n",
    "print(f\"The Number = {num} and its data type = {type(num)}\")"
   ]
  },
  {
   "cell_type": "code",
   "execution_count": 4,
   "id": "a5606364",
   "metadata": {},
   "outputs": [
    {
     "name": "stdout",
     "output_type": "stream",
     "text": [
      "The Number = 0 and its data type = <class 'int'>\n"
     ]
    }
   ],
   "source": [
    "num = 0\n",
    "print(f\"The Number = {num} and its data type = {type(num)}\")"
   ]
  },
  {
   "cell_type": "code",
   "execution_count": 5,
   "id": "7c255c5e",
   "metadata": {},
   "outputs": [
    {
     "name": "stdout",
     "output_type": "stream",
     "text": [
      "The Number = -15 and its data type = <class 'int'>\n"
     ]
    }
   ],
   "source": [
    "num = -15\n",
    "print(f\"The Number = {num} and its data type = {type(num)}\")"
   ]
  },
  {
   "cell_type": "code",
   "execution_count": 6,
   "id": "18d3b035",
   "metadata": {},
   "outputs": [
    {
     "name": "stdout",
     "output_type": "stream",
     "text": [
      "The Number = 15684738 and its data type = <class 'int'>\n"
     ]
    }
   ],
   "source": [
    "num = 15684738\n",
    "print(f\"The Number = {num} and its data type = {type(num)}\")"
   ]
  },
  {
   "cell_type": "markdown",
   "id": "a0e0c991",
   "metadata": {},
   "source": [
    "### 2. float\n",
    "- Float contains all decimal points\n",
    "- +ve or -ve"
   ]
  },
  {
   "cell_type": "code",
   "execution_count": 7,
   "id": "bd35afd4",
   "metadata": {},
   "outputs": [
    {
     "name": "stdout",
     "output_type": "stream",
     "text": [
      "The Number = 1.5 and its data type = <class 'float'>\n"
     ]
    }
   ],
   "source": [
    "num = 1.5\n",
    "print(f\"The Number = {num} and its data type = {type(num)}\")"
   ]
  },
  {
   "cell_type": "code",
   "execution_count": 8,
   "id": "74310a27",
   "metadata": {},
   "outputs": [
    {
     "name": "stdout",
     "output_type": "stream",
     "text": [
      "The Number = -1.5 and its data type = <class 'float'>\n"
     ]
    }
   ],
   "source": [
    "num = -1.5\n",
    "print(f\"The Number = {num} and its data type = {type(num)}\")"
   ]
  },
  {
   "cell_type": "code",
   "execution_count": 9,
   "id": "93b0df6b",
   "metadata": {},
   "outputs": [
    {
     "name": "stdout",
     "output_type": "stream",
     "text": [
      "The Number = -1.5600446675 and its data type = <class 'float'>\n"
     ]
    }
   ],
   "source": [
    "num = -1.5600446675\n",
    "print(f\"The Number = {num} and its data type = {type(num)}\")"
   ]
  },
  {
   "cell_type": "code",
   "execution_count": 10,
   "id": "27851a10",
   "metadata": {},
   "outputs": [
    {
     "name": "stdout",
     "output_type": "stream",
     "text": [
      "The Number = 1.584773554 and its data type = <class 'float'>\n"
     ]
    }
   ],
   "source": [
    "num = 1.584773554\n",
    "print(f\"The Number = {num} and its data type = {type(num)}\")"
   ]
  },
  {
   "cell_type": "code",
   "execution_count": 11,
   "id": "7354f877",
   "metadata": {},
   "outputs": [
    {
     "name": "stdout",
     "output_type": "stream",
     "text": [
      "The Number = 0.0 and its data type = <class 'float'>\n"
     ]
    }
   ],
   "source": [
    "num = 0.0\n",
    "print(f\"The Number = {num} and its data type = {type(num)}\")"
   ]
  },
  {
   "cell_type": "code",
   "execution_count": 12,
   "id": "08b185f8",
   "metadata": {},
   "outputs": [
    {
     "name": "stdout",
     "output_type": "stream",
     "text": [
      "The Number = 0 and its data type = <class 'int'>\n"
     ]
    }
   ],
   "source": [
    "num = 0\n",
    "print(f\"The Number = {num} and its data type = {type(num)}\")"
   ]
  },
  {
   "cell_type": "markdown",
   "id": "e6c4dd63",
   "metadata": {},
   "source": [
    "### 3. Complex Data Type\n",
    "- Complex datatype contains real and imaginary part"
   ]
  },
  {
   "cell_type": "code",
   "execution_count": 13,
   "id": "30b1caca",
   "metadata": {},
   "outputs": [
    {
     "name": "stdout",
     "output_type": "stream",
     "text": [
      "The Number = (5+5j) and its data type = <class 'complex'>\n"
     ]
    }
   ],
   "source": [
    "num = 5 + 5j\n",
    "print(f\"The Number = {num} and its data type = {type(num)}\")"
   ]
  },
  {
   "cell_type": "code",
   "execution_count": 14,
   "id": "13567858",
   "metadata": {},
   "outputs": [
    {
     "name": "stdout",
     "output_type": "stream",
     "text": [
      "The Number = (5-5j) and its data type = <class 'complex'>\n"
     ]
    }
   ],
   "source": [
    "num = 5 - 5j\n",
    "print(f\"The Number = {num} and its data type = {type(num)}\")"
   ]
  },
  {
   "cell_type": "code",
   "execution_count": 15,
   "id": "36a3b70b",
   "metadata": {},
   "outputs": [
    {
     "name": "stdout",
     "output_type": "stream",
     "text": [
      "The Number = -5j and its data type = <class 'complex'>\n"
     ]
    }
   ],
   "source": [
    "num = 0 - 5j\n",
    "print(f\"The Number = {num} and its data type = {type(num)}\")"
   ]
  },
  {
   "cell_type": "code",
   "execution_count": 16,
   "id": "a544d38e",
   "metadata": {},
   "outputs": [
    {
     "name": "stdout",
     "output_type": "stream",
     "text": [
      "The Number = 0j and its data type = <class 'complex'>\n"
     ]
    }
   ],
   "source": [
    "num = 0 + 0j\n",
    "print(f\"The Number = {num} and its data type = {type(num)}\")"
   ]
  },
  {
   "cell_type": "markdown",
   "id": "4b09cb89",
   "metadata": {},
   "source": [
    "# Python Type Casting\n",
    "- Here we need to specify data type\n",
    "- int()\n",
    "- float()\n",
    "- str()\n",
    "- complex()"
   ]
  },
  {
   "cell_type": "markdown",
   "id": "0121682f",
   "metadata": {},
   "source": [
    "## 1. int to float"
   ]
  },
  {
   "cell_type": "code",
   "execution_count": 17,
   "id": "1ae49f29",
   "metadata": {},
   "outputs": [
    {
     "name": "stdout",
     "output_type": "stream",
     "text": [
      "The Number = 50 and its data type = <class 'int'>\n"
     ]
    }
   ],
   "source": [
    "num = 50\n",
    "print(f\"The Number = {num} and its data type = {type(num)}\")"
   ]
  },
  {
   "cell_type": "code",
   "execution_count": 21,
   "id": "c8294744",
   "metadata": {},
   "outputs": [
    {
     "name": "stdout",
     "output_type": "stream",
     "text": [
      "The Number = 50 and its data type = <class 'int'>\n",
      "\n",
      "************************************************************\n",
      "\n",
      "The Number = 50.0 and its data type = <class 'float'>\n"
     ]
    }
   ],
   "source": [
    "num = 50\n",
    "print(f\"The Number = {num} and its data type = {type(num)}\")\n",
    "print()\n",
    "print(\"*\"*60)\n",
    "print()\n",
    "num = float(num)\n",
    "print(f\"The Number = {num} and its data type = {type(num)}\")"
   ]
  },
  {
   "cell_type": "code",
   "execution_count": 22,
   "id": "3f96d90f",
   "metadata": {},
   "outputs": [
    {
     "name": "stdout",
     "output_type": "stream",
     "text": [
      "The Number = -50 and its data type = <class 'int'>\n",
      "\n",
      "************************************************************\n",
      "\n",
      "The Number = -50.0 and its data type = <class 'float'>\n"
     ]
    }
   ],
   "source": [
    "num = -50\n",
    "print(f\"The Number = {num} and its data type = {type(num)}\")\n",
    "print()\n",
    "print(\"*\"*60)\n",
    "print()\n",
    "num = float(num)\n",
    "print(f\"The Number = {num} and its data type = {type(num)}\")"
   ]
  },
  {
   "cell_type": "code",
   "execution_count": 23,
   "id": "99fc4c07",
   "metadata": {},
   "outputs": [
    {
     "name": "stdout",
     "output_type": "stream",
     "text": [
      "The Number = 0 and its data type = <class 'int'>\n",
      "\n",
      "************************************************************\n",
      "\n",
      "The Number = 0.0 and its data type = <class 'float'>\n"
     ]
    }
   ],
   "source": [
    "num = 0\n",
    "print(f\"The Number = {num} and its data type = {type(num)}\")\n",
    "print()\n",
    "print(\"*\"*60)\n",
    "print()\n",
    "num = float(num)\n",
    "print(f\"The Number = {num} and its data type = {type(num)}\")"
   ]
  },
  {
   "cell_type": "code",
   "execution_count": 24,
   "id": "24eba72c",
   "metadata": {},
   "outputs": [
    {
     "name": "stdout",
     "output_type": "stream",
     "text": [
      "The Number = 0.0 and its data type = <class 'float'>\n",
      "\n",
      "************************************************************\n",
      "\n",
      "The Number = 0.0 and its data type = <class 'float'>\n"
     ]
    }
   ],
   "source": [
    "num = 0.0\n",
    "print(f\"The Number = {num} and its data type = {type(num)}\")\n",
    "print()\n",
    "print(\"*\"*60)\n",
    "print()\n",
    "num = float(num)\n",
    "print(f\"The Number = {num} and its data type = {type(num)}\")"
   ]
  },
  {
   "cell_type": "markdown",
   "id": "19764f31",
   "metadata": {},
   "source": [
    "## 2. float to int"
   ]
  },
  {
   "cell_type": "code",
   "execution_count": 25,
   "id": "c2c7dc93",
   "metadata": {},
   "outputs": [
    {
     "name": "stdout",
     "output_type": "stream",
     "text": [
      "The Number = 0.0 and its data type = <class 'float'>\n",
      "\n",
      "************************************************************\n",
      "\n",
      "The Number = 0 and its data type = <class 'int'>\n"
     ]
    }
   ],
   "source": [
    "num = 0.0\n",
    "print(f\"The Number = {num} and its data type = {type(num)}\")\n",
    "print()\n",
    "print(\"*\"*60)\n",
    "print()\n",
    "num = int(num)\n",
    "print(f\"The Number = {num} and its data type = {type(num)}\")"
   ]
  },
  {
   "cell_type": "code",
   "execution_count": 26,
   "id": "4f24fb9e",
   "metadata": {},
   "outputs": [
    {
     "name": "stdout",
     "output_type": "stream",
     "text": [
      "The Number = 1.55667687 and its data type = <class 'float'>\n",
      "\n",
      "************************************************************\n",
      "\n",
      "The Number = 1 and its data type = <class 'int'>\n"
     ]
    }
   ],
   "source": [
    "num = 1.55667687\n",
    "print(f\"The Number = {num} and its data type = {type(num)}\")\n",
    "print()\n",
    "print(\"*\"*60)\n",
    "print()\n",
    "num = int(num)\n",
    "print(f\"The Number = {num} and its data type = {type(num)}\")"
   ]
  },
  {
   "cell_type": "code",
   "execution_count": 27,
   "id": "3057598a",
   "metadata": {},
   "outputs": [
    {
     "name": "stdout",
     "output_type": "stream",
     "text": [
      "The Number = -1.55667687 and its data type = <class 'float'>\n",
      "\n",
      "************************************************************\n",
      "\n",
      "The Number = -1 and its data type = <class 'int'>\n"
     ]
    }
   ],
   "source": [
    "num = -1.55667687\n",
    "print(f\"The Number = {num} and its data type = {type(num)}\")\n",
    "print()\n",
    "print(\"*\"*60)\n",
    "print()\n",
    "num = int(num)\n",
    "print(f\"The Number = {num} and its data type = {type(num)}\")"
   ]
  },
  {
   "cell_type": "code",
   "execution_count": 30,
   "id": "ba96c1ac",
   "metadata": {},
   "outputs": [
    {
     "data": {
      "text/plain": [
       "3.142857142857143"
      ]
     },
     "execution_count": 30,
     "metadata": {},
     "output_type": "execute_result"
    }
   ],
   "source": [
    "num = 22/7\n",
    "num"
   ]
  },
  {
   "cell_type": "code",
   "execution_count": 29,
   "id": "1b74ae90",
   "metadata": {},
   "outputs": [
    {
     "data": {
      "text/plain": [
       "3.14"
      ]
     },
     "execution_count": 29,
     "metadata": {},
     "output_type": "execute_result"
    }
   ],
   "source": [
    "num = round(num,2)\n",
    "num"
   ]
  },
  {
   "cell_type": "code",
   "execution_count": 31,
   "id": "257968a8",
   "metadata": {},
   "outputs": [
    {
     "data": {
      "text/plain": [
       "3.143"
      ]
     },
     "execution_count": 31,
     "metadata": {},
     "output_type": "execute_result"
    }
   ],
   "source": [
    "num = round(num,3)\n",
    "num"
   ]
  },
  {
   "cell_type": "markdown",
   "id": "3870db1a",
   "metadata": {},
   "source": [
    "## 3. int to complex"
   ]
  },
  {
   "cell_type": "code",
   "execution_count": 32,
   "id": "2e4001fd",
   "metadata": {},
   "outputs": [
    {
     "name": "stdout",
     "output_type": "stream",
     "text": [
      "The Number = -1 and its data type = <class 'int'>\n",
      "\n",
      "************************************************************\n",
      "\n",
      "The Number = (-1+0j) and its data type = <class 'complex'>\n"
     ]
    }
   ],
   "source": [
    "num = -1\n",
    "print(f\"The Number = {num} and its data type = {type(num)}\")\n",
    "print()\n",
    "print(\"*\"*60)\n",
    "print()\n",
    "num = complex(num)\n",
    "print(f\"The Number = {num} and its data type = {type(num)}\")"
   ]
  },
  {
   "cell_type": "code",
   "execution_count": 33,
   "id": "ee42bdc7",
   "metadata": {},
   "outputs": [
    {
     "name": "stdout",
     "output_type": "stream",
     "text": [
      "The Number = 100 and its data type = <class 'int'>\n",
      "\n",
      "************************************************************\n",
      "\n",
      "The Number = (100+0j) and its data type = <class 'complex'>\n"
     ]
    }
   ],
   "source": [
    "num = 100\n",
    "print(f\"The Number = {num} and its data type = {type(num)}\")\n",
    "print()\n",
    "print(\"*\"*60)\n",
    "print()\n",
    "num = complex(num)\n",
    "print(f\"The Number = {num} and its data type = {type(num)}\")"
   ]
  },
  {
   "cell_type": "code",
   "execution_count": 34,
   "id": "f6179889",
   "metadata": {},
   "outputs": [
    {
     "name": "stdout",
     "output_type": "stream",
     "text": [
      "The Number = 0 and its data type = <class 'int'>\n",
      "\n",
      "************************************************************\n",
      "\n",
      "The Number = 0j and its data type = <class 'complex'>\n"
     ]
    }
   ],
   "source": [
    "num = 0\n",
    "print(f\"The Number = {num} and its data type = {type(num)}\")\n",
    "print()\n",
    "print(\"*\"*60)\n",
    "print()\n",
    "num = complex(num)\n",
    "print(f\"The Number = {num} and its data type = {type(num)}\")"
   ]
  },
  {
   "cell_type": "markdown",
   "id": "b276fa80",
   "metadata": {},
   "source": [
    "## 4. float to complex"
   ]
  },
  {
   "cell_type": "code",
   "execution_count": 35,
   "id": "22ac0928",
   "metadata": {},
   "outputs": [
    {
     "name": "stdout",
     "output_type": "stream",
     "text": [
      "The Number = 1.5 and its data type = <class 'float'>\n",
      "\n",
      "************************************************************\n",
      "\n",
      "The Number = (1.5+0j) and its data type = <class 'complex'>\n"
     ]
    }
   ],
   "source": [
    "num = 1.5\n",
    "print(f\"The Number = {num} and its data type = {type(num)}\")\n",
    "print()\n",
    "print(\"*\"*60)\n",
    "print()\n",
    "num = complex(num)\n",
    "print(f\"The Number = {num} and its data type = {type(num)}\")"
   ]
  },
  {
   "cell_type": "code",
   "execution_count": 40,
   "id": "95686020",
   "metadata": {},
   "outputs": [
    {
     "name": "stdout",
     "output_type": "stream",
     "text": [
      "The Number = -1.5 and its data type = <class 'float'>\n",
      "\n",
      "************************************************************\n",
      "\n",
      "The Number = (-1.5+0j) and its data type = <class 'complex'>\n"
     ]
    }
   ],
   "source": [
    "num = -1.5\n",
    "print(f\"The Number = {num} and its data type = {type(num)}\")\n",
    "print()\n",
    "print(\"*\"*60)\n",
    "print()\n",
    "num = complex(num)\n",
    "print(f\"The Number = {num} and its data type = {type(num)}\")"
   ]
  },
  {
   "cell_type": "markdown",
   "id": "44bcc85c",
   "metadata": {},
   "source": [
    "## 5. Complex to int\n",
    "- We can not convert a complex value to int one"
   ]
  },
  {
   "cell_type": "code",
   "execution_count": 37,
   "id": "fdcceff0",
   "metadata": {},
   "outputs": [
    {
     "name": "stdout",
     "output_type": "stream",
     "text": [
      "The Number = (1.5+5j) and its data type = <class 'complex'>\n",
      "\n",
      "************************************************************\n",
      "\n"
     ]
    },
    {
     "ename": "TypeError",
     "evalue": "can't convert complex to int",
     "output_type": "error",
     "traceback": [
      "\u001b[1;31m---------------------------------------------------------------------------\u001b[0m",
      "\u001b[1;31mTypeError\u001b[0m                                 Traceback (most recent call last)",
      "\u001b[1;32m<ipython-input-37-1e5c34f39734>\u001b[0m in \u001b[0;36m<module>\u001b[1;34m\u001b[0m\n\u001b[0;32m      4\u001b[0m \u001b[0mprint\u001b[0m\u001b[1;33m(\u001b[0m\u001b[1;34m\"*\"\u001b[0m\u001b[1;33m*\u001b[0m\u001b[1;36m60\u001b[0m\u001b[1;33m)\u001b[0m\u001b[1;33m\u001b[0m\u001b[1;33m\u001b[0m\u001b[0m\n\u001b[0;32m      5\u001b[0m \u001b[0mprint\u001b[0m\u001b[1;33m(\u001b[0m\u001b[1;33m)\u001b[0m\u001b[1;33m\u001b[0m\u001b[1;33m\u001b[0m\u001b[0m\n\u001b[1;32m----> 6\u001b[1;33m \u001b[0mnum\u001b[0m \u001b[1;33m=\u001b[0m \u001b[0mint\u001b[0m\u001b[1;33m(\u001b[0m\u001b[0mnum\u001b[0m\u001b[1;33m)\u001b[0m\u001b[1;33m\u001b[0m\u001b[1;33m\u001b[0m\u001b[0m\n\u001b[0m\u001b[0;32m      7\u001b[0m \u001b[0mprint\u001b[0m\u001b[1;33m(\u001b[0m\u001b[1;34mf\"The Number = {num} and its data type = {type(num)}\"\u001b[0m\u001b[1;33m)\u001b[0m\u001b[1;33m\u001b[0m\u001b[1;33m\u001b[0m\u001b[0m\n",
      "\u001b[1;31mTypeError\u001b[0m: can't convert complex to int"
     ]
    }
   ],
   "source": [
    "num = 1.5 + 5j\n",
    "print(f\"The Number = {num} and its data type = {type(num)}\")\n",
    "print()\n",
    "print(\"*\"*60)\n",
    "print()\n",
    "num = int(num)\n",
    "print(f\"The Number = {num} and its data type = {type(num)}\")"
   ]
  },
  {
   "cell_type": "markdown",
   "id": "30e9353f",
   "metadata": {},
   "source": [
    "#### TypeError: can't convert complex to int"
   ]
  },
  {
   "cell_type": "markdown",
   "id": "6fb91c62",
   "metadata": {},
   "source": [
    "## 6. Complex to float\n",
    "- We can not convert a complex value to float one"
   ]
  },
  {
   "cell_type": "code",
   "execution_count": 38,
   "id": "38fc6077",
   "metadata": {},
   "outputs": [
    {
     "name": "stdout",
     "output_type": "stream",
     "text": [
      "The Number = (1.5+5j) and its data type = <class 'complex'>\n",
      "\n",
      "************************************************************\n",
      "\n"
     ]
    },
    {
     "ename": "TypeError",
     "evalue": "can't convert complex to float",
     "output_type": "error",
     "traceback": [
      "\u001b[1;31m---------------------------------------------------------------------------\u001b[0m",
      "\u001b[1;31mTypeError\u001b[0m                                 Traceback (most recent call last)",
      "\u001b[1;32m<ipython-input-38-edb1bc5eb8af>\u001b[0m in \u001b[0;36m<module>\u001b[1;34m\u001b[0m\n\u001b[0;32m      4\u001b[0m \u001b[0mprint\u001b[0m\u001b[1;33m(\u001b[0m\u001b[1;34m\"*\"\u001b[0m\u001b[1;33m*\u001b[0m\u001b[1;36m60\u001b[0m\u001b[1;33m)\u001b[0m\u001b[1;33m\u001b[0m\u001b[1;33m\u001b[0m\u001b[0m\n\u001b[0;32m      5\u001b[0m \u001b[0mprint\u001b[0m\u001b[1;33m(\u001b[0m\u001b[1;33m)\u001b[0m\u001b[1;33m\u001b[0m\u001b[1;33m\u001b[0m\u001b[0m\n\u001b[1;32m----> 6\u001b[1;33m \u001b[0mnum\u001b[0m \u001b[1;33m=\u001b[0m \u001b[0mfloat\u001b[0m\u001b[1;33m(\u001b[0m\u001b[0mnum\u001b[0m\u001b[1;33m)\u001b[0m\u001b[1;33m\u001b[0m\u001b[1;33m\u001b[0m\u001b[0m\n\u001b[0m\u001b[0;32m      7\u001b[0m \u001b[0mprint\u001b[0m\u001b[1;33m(\u001b[0m\u001b[1;34mf\"The Number = {num} and its data type = {type(num)}\"\u001b[0m\u001b[1;33m)\u001b[0m\u001b[1;33m\u001b[0m\u001b[1;33m\u001b[0m\u001b[0m\n",
      "\u001b[1;31mTypeError\u001b[0m: can't convert complex to float"
     ]
    }
   ],
   "source": [
    "num = 1.5 + 5j\n",
    "print(f\"The Number = {num} and its data type = {type(num)}\")\n",
    "print()\n",
    "print(\"*\"*60)\n",
    "print()\n",
    "num = float(num)\n",
    "print(f\"The Number = {num} and its data type = {type(num)}\")"
   ]
  },
  {
   "cell_type": "markdown",
   "id": "1cddc714",
   "metadata": {},
   "source": [
    "## 7. int to string"
   ]
  },
  {
   "cell_type": "code",
   "execution_count": 50,
   "id": "105e1940",
   "metadata": {},
   "outputs": [
    {
     "name": "stdout",
     "output_type": "stream",
     "text": [
      "The Number = 10 and its data type = <class 'int'>\n",
      "\n",
      "************************************************************\n",
      "\n",
      "The Number = 10 and its data type = <class 'str'>\n"
     ]
    },
    {
     "data": {
      "text/plain": [
       "'10'"
      ]
     },
     "execution_count": 50,
     "metadata": {},
     "output_type": "execute_result"
    }
   ],
   "source": [
    "num = 10\n",
    "print(f\"The Number = {num} and its data type = {type(num)}\")\n",
    "print()\n",
    "print(\"*\"*60)\n",
    "print()\n",
    "string = str(num)\n",
    "print(f\"The Number = {string} and its data type = {type(string)}\")\n",
    "string"
   ]
  },
  {
   "cell_type": "code",
   "execution_count": 51,
   "id": "d023bf0a",
   "metadata": {},
   "outputs": [
    {
     "name": "stdout",
     "output_type": "stream",
     "text": [
      "The Number = 100000000000000000000000 and its data type = <class 'int'>\n",
      "\n",
      "************************************************************\n",
      "\n",
      "The Number = 100000000000000000000000 and its data type = <class 'str'>\n"
     ]
    },
    {
     "data": {
      "text/plain": [
       "'100000000000000000000000'"
      ]
     },
     "execution_count": 51,
     "metadata": {},
     "output_type": "execute_result"
    }
   ],
   "source": [
    "num = 100000000000000000000000\n",
    "print(f\"The Number = {num} and its data type = {type(num)}\")\n",
    "print()\n",
    "print(\"*\"*60)\n",
    "print()\n",
    "string = str(num)\n",
    "print(f\"The Number = {string} and its data type = {type(string)}\")\n",
    "string"
   ]
  },
  {
   "cell_type": "markdown",
   "id": "e3c1c8af",
   "metadata": {},
   "source": [
    "## 8. float to string"
   ]
  },
  {
   "cell_type": "code",
   "execution_count": 52,
   "id": "7b35e8f7",
   "metadata": {},
   "outputs": [
    {
     "name": "stdout",
     "output_type": "stream",
     "text": [
      "The Number = 10.5 and its data type = <class 'float'>\n",
      "\n",
      "************************************************************\n",
      "\n",
      "The Number = 10.5 and its data type = <class 'str'>\n"
     ]
    },
    {
     "data": {
      "text/plain": [
       "'10.5'"
      ]
     },
     "execution_count": 52,
     "metadata": {},
     "output_type": "execute_result"
    }
   ],
   "source": [
    "num = 10.5\n",
    "print(f\"The Number = {num} and its data type = {type(num)}\")\n",
    "print()\n",
    "print(\"*\"*60)\n",
    "print()\n",
    "string = str(num)\n",
    "print(f\"The Number = {string} and its data type = {type(string)}\")\n",
    "string"
   ]
  },
  {
   "cell_type": "markdown",
   "id": "bb6c55b6",
   "metadata": {},
   "source": [
    "## 9. string to int"
   ]
  },
  {
   "cell_type": "code",
   "execution_count": 53,
   "id": "545c1d2d",
   "metadata": {},
   "outputs": [
    {
     "name": "stdout",
     "output_type": "stream",
     "text": [
      "The Number = 1000 and its data type = <class 'str'>\n",
      "\n",
      "************************************************************\n",
      "\n",
      "The Number = 1000 and its data type = <class 'int'>\n"
     ]
    }
   ],
   "source": [
    "string = \"1000\"\n",
    "print(f\"The Number = {string} and its data type = {type(string)}\")\n",
    "print()\n",
    "print(\"*\"*60)\n",
    "print()\n",
    "num = int(string)\n",
    "print(f\"The Number = {num} and its data type = {type(num)}\")"
   ]
  },
  {
   "cell_type": "code",
   "execution_count": 54,
   "id": "0118526e",
   "metadata": {},
   "outputs": [
    {
     "name": "stdout",
     "output_type": "stream",
     "text": [
      "The Number = 10 00 and its data type = <class 'str'>\n",
      "\n",
      "************************************************************\n",
      "\n"
     ]
    },
    {
     "ename": "ValueError",
     "evalue": "invalid literal for int() with base 10: '10 00'",
     "output_type": "error",
     "traceback": [
      "\u001b[1;31m---------------------------------------------------------------------------\u001b[0m",
      "\u001b[1;31mValueError\u001b[0m                                Traceback (most recent call last)",
      "\u001b[1;32m<ipython-input-54-2a2e6f69a29b>\u001b[0m in \u001b[0;36m<module>\u001b[1;34m\u001b[0m\n\u001b[0;32m      4\u001b[0m \u001b[0mprint\u001b[0m\u001b[1;33m(\u001b[0m\u001b[1;34m\"*\"\u001b[0m\u001b[1;33m*\u001b[0m\u001b[1;36m60\u001b[0m\u001b[1;33m)\u001b[0m\u001b[1;33m\u001b[0m\u001b[1;33m\u001b[0m\u001b[0m\n\u001b[0;32m      5\u001b[0m \u001b[0mprint\u001b[0m\u001b[1;33m(\u001b[0m\u001b[1;33m)\u001b[0m\u001b[1;33m\u001b[0m\u001b[1;33m\u001b[0m\u001b[0m\n\u001b[1;32m----> 6\u001b[1;33m \u001b[0mnum\u001b[0m \u001b[1;33m=\u001b[0m \u001b[0mint\u001b[0m\u001b[1;33m(\u001b[0m\u001b[0mstring\u001b[0m\u001b[1;33m)\u001b[0m\u001b[1;33m\u001b[0m\u001b[1;33m\u001b[0m\u001b[0m\n\u001b[0m\u001b[0;32m      7\u001b[0m \u001b[0mprint\u001b[0m\u001b[1;33m(\u001b[0m\u001b[1;34mf\"The Number = {num} and its data type = {type(num)}\"\u001b[0m\u001b[1;33m)\u001b[0m\u001b[1;33m\u001b[0m\u001b[1;33m\u001b[0m\u001b[0m\n",
      "\u001b[1;31mValueError\u001b[0m: invalid literal for int() with base 10: '10 00'"
     ]
    }
   ],
   "source": [
    "string = \"10 00\"\n",
    "print(f\"The Number = {string} and its data type = {type(string)}\")\n",
    "print()\n",
    "print(\"*\"*60)\n",
    "print()\n",
    "num = int(string)\n",
    "print(f\"The Number = {num} and its data type = {type(num)}\")"
   ]
  },
  {
   "cell_type": "code",
   "execution_count": 55,
   "id": "12c8dc0d",
   "metadata": {},
   "outputs": [
    {
     "name": "stdout",
     "output_type": "stream",
     "text": [
      "The Number = 10- and its data type = <class 'str'>\n",
      "\n",
      "************************************************************\n",
      "\n"
     ]
    },
    {
     "ename": "ValueError",
     "evalue": "invalid literal for int() with base 10: '10-'",
     "output_type": "error",
     "traceback": [
      "\u001b[1;31m---------------------------------------------------------------------------\u001b[0m",
      "\u001b[1;31mValueError\u001b[0m                                Traceback (most recent call last)",
      "\u001b[1;32m<ipython-input-55-d619df81e14e>\u001b[0m in \u001b[0;36m<module>\u001b[1;34m\u001b[0m\n\u001b[0;32m      4\u001b[0m \u001b[0mprint\u001b[0m\u001b[1;33m(\u001b[0m\u001b[1;34m\"*\"\u001b[0m\u001b[1;33m*\u001b[0m\u001b[1;36m60\u001b[0m\u001b[1;33m)\u001b[0m\u001b[1;33m\u001b[0m\u001b[1;33m\u001b[0m\u001b[0m\n\u001b[0;32m      5\u001b[0m \u001b[0mprint\u001b[0m\u001b[1;33m(\u001b[0m\u001b[1;33m)\u001b[0m\u001b[1;33m\u001b[0m\u001b[1;33m\u001b[0m\u001b[0m\n\u001b[1;32m----> 6\u001b[1;33m \u001b[0mnum\u001b[0m \u001b[1;33m=\u001b[0m \u001b[0mint\u001b[0m\u001b[1;33m(\u001b[0m\u001b[0mstring\u001b[0m\u001b[1;33m)\u001b[0m\u001b[1;33m\u001b[0m\u001b[1;33m\u001b[0m\u001b[0m\n\u001b[0m\u001b[0;32m      7\u001b[0m \u001b[0mprint\u001b[0m\u001b[1;33m(\u001b[0m\u001b[1;34mf\"The Number = {num} and its data type = {type(num)}\"\u001b[0m\u001b[1;33m)\u001b[0m\u001b[1;33m\u001b[0m\u001b[1;33m\u001b[0m\u001b[0m\n",
      "\u001b[1;31mValueError\u001b[0m: invalid literal for int() with base 10: '10-'"
     ]
    }
   ],
   "source": [
    "string = \"10-\"\n",
    "print(f\"The Number = {string} and its data type = {type(string)}\")\n",
    "print()\n",
    "print(\"*\"*60)\n",
    "print()\n",
    "num = int(string)\n",
    "print(f\"The Number = {num} and its data type = {type(num)}\")"
   ]
  },
  {
   "cell_type": "code",
   "execution_count": 56,
   "id": "3b3ea394",
   "metadata": {},
   "outputs": [
    {
     "name": "stdout",
     "output_type": "stream",
     "text": [
      "The Number =  10  and its data type = <class 'str'>\n",
      "\n",
      "************************************************************\n",
      "\n",
      "The Number = 10 and its data type = <class 'int'>\n"
     ]
    }
   ],
   "source": [
    "string = \" 10 \"\n",
    "print(f\"The Number = {string} and its data type = {type(string)}\")\n",
    "print()\n",
    "print(\"*\"*60)\n",
    "print()\n",
    "num = int(string)\n",
    "print(f\"The Number = {num} and its data type = {type(num)}\")"
   ]
  },
  {
   "cell_type": "code",
   "execution_count": 59,
   "id": "91d78b1f",
   "metadata": {},
   "outputs": [
    {
     "name": "stdout",
     "output_type": "stream",
     "text": [
      "The Number =                                              10 and its data type = <class 'str'>\n",
      "\n",
      "************************************************************\n",
      "\n",
      "The Number = 10 and its data type = <class 'int'>\n"
     ]
    }
   ],
   "source": [
    "string = \"                                             10\"\n",
    "print(f\"The Number = {string} and its data type = {type(string)}\")\n",
    "print()\n",
    "print(\"*\"*60)\n",
    "print()\n",
    "num = int(string)\n",
    "print(f\"The Number = {num} and its data type = {type(num)}\")"
   ]
  },
  {
   "cell_type": "code",
   "execution_count": 61,
   "id": "8299b615",
   "metadata": {},
   "outputs": [
    {
     "name": "stdout",
     "output_type": "stream",
     "text": [
      "The Number = 10 and its data type = <class 'str'>\n",
      "\n",
      "************************************************************\n",
      "\n",
      "The Number = 10 and its data type = <class 'int'>\n"
     ]
    }
   ],
   "source": [
    "string = \"10\"\n",
    "print(f\"The Number = {string} and its data type = {type(string)}\")\n",
    "print()\n",
    "print(\"*\"*60)\n",
    "print()\n",
    "num = int(string)\n",
    "print(f\"The Number = {num} and its data type = {type(num)}\")"
   ]
  },
  {
   "cell_type": "markdown",
   "id": "44cb1ff7",
   "metadata": {},
   "source": [
    "## 10. string to float"
   ]
  },
  {
   "cell_type": "code",
   "execution_count": 68,
   "id": "78622df8",
   "metadata": {},
   "outputs": [
    {
     "name": "stdout",
     "output_type": "stream",
     "text": [
      "The Number = 10.56 and its data type = <class 'str'>\n",
      "\n",
      "************************************************************\n",
      "\n"
     ]
    },
    {
     "ename": "ValueError",
     "evalue": "invalid literal for int() with base 10: '10.56'",
     "output_type": "error",
     "traceback": [
      "\u001b[1;31m---------------------------------------------------------------------------\u001b[0m",
      "\u001b[1;31mValueError\u001b[0m                                Traceback (most recent call last)",
      "\u001b[1;32m<ipython-input-68-3f2012a68c65>\u001b[0m in \u001b[0;36m<module>\u001b[1;34m\u001b[0m\n\u001b[0;32m      4\u001b[0m \u001b[0mprint\u001b[0m\u001b[1;33m(\u001b[0m\u001b[1;34m\"*\"\u001b[0m\u001b[1;33m*\u001b[0m\u001b[1;36m60\u001b[0m\u001b[1;33m)\u001b[0m\u001b[1;33m\u001b[0m\u001b[1;33m\u001b[0m\u001b[0m\n\u001b[0;32m      5\u001b[0m \u001b[0mprint\u001b[0m\u001b[1;33m(\u001b[0m\u001b[1;33m)\u001b[0m\u001b[1;33m\u001b[0m\u001b[1;33m\u001b[0m\u001b[0m\n\u001b[1;32m----> 6\u001b[1;33m \u001b[0mnum\u001b[0m \u001b[1;33m=\u001b[0m \u001b[0mint\u001b[0m\u001b[1;33m(\u001b[0m\u001b[0mstring\u001b[0m\u001b[1;33m)\u001b[0m\u001b[1;33m\u001b[0m\u001b[1;33m\u001b[0m\u001b[0m\n\u001b[0m\u001b[0;32m      7\u001b[0m \u001b[0mprint\u001b[0m\u001b[1;33m(\u001b[0m\u001b[1;34mf\"The Number = {num} and its data type = {type(num)}\"\u001b[0m\u001b[1;33m)\u001b[0m\u001b[1;33m\u001b[0m\u001b[1;33m\u001b[0m\u001b[0m\n",
      "\u001b[1;31mValueError\u001b[0m: invalid literal for int() with base 10: '10.56'"
     ]
    }
   ],
   "source": [
    "string = \"10.56\"\n",
    "print(f\"The Number = {string} and its data type = {type(string)}\")\n",
    "print()\n",
    "print(\"*\"*60)\n",
    "print()\n",
    "num = int(string)\n",
    "print(f\"The Number = {num} and its data type = {type(num)}\")"
   ]
  },
  {
   "cell_type": "code",
   "execution_count": 69,
   "id": "0ec934b8",
   "metadata": {},
   "outputs": [
    {
     "name": "stdout",
     "output_type": "stream",
     "text": [
      "The Number = 10.56 and its data type = <class 'str'>\n",
      "\n",
      "************************************************************\n",
      "\n",
      "The Number = 10.56 and its data type = <class 'float'>\n"
     ]
    }
   ],
   "source": [
    "string = \"10.56\"\n",
    "print(f\"The Number = {string} and its data type = {type(string)}\")\n",
    "print()\n",
    "print(\"*\"*60)\n",
    "print()\n",
    "num = float(string)\n",
    "print(f\"The Number = {num} and its data type = {type(num)}\")"
   ]
  },
  {
   "cell_type": "code",
   "execution_count": null,
   "id": "ea251b8f",
   "metadata": {},
   "outputs": [],
   "source": []
  }
 ],
 "metadata": {
  "kernelspec": {
   "display_name": "Python 3",
   "language": "python",
   "name": "python3"
  },
  "language_info": {
   "codemirror_mode": {
    "name": "ipython",
    "version": 3
   },
   "file_extension": ".py",
   "mimetype": "text/x-python",
   "name": "python",
   "nbconvert_exporter": "python",
   "pygments_lexer": "ipython3",
   "version": "3.8.8"
  }
 },
 "nbformat": 4,
 "nbformat_minor": 5
}
