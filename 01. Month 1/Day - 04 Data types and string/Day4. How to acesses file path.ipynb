{
 "cells": [
  {
   "cell_type": "markdown",
   "id": "b52d4132",
   "metadata": {},
   "source": [
    "## Backslash() :-  it is use for eascaping character"
   ]
  },
  {
   "cell_type": "markdown",
   "id": "a3fa99f6",
   "metadata": {},
   "source": [
    "### how to acesses file path\n",
    "#### Here, \\U in \"C:\\Users... starts an eight-character Unicode escape, such as \\U00014321. In your code, the escape is followed by the character 's', which is invalid."
   ]
  },
  {
   "cell_type": "code",
   "execution_count": null,
   "id": "5bb90866",
   "metadata": {},
   "outputs": [],
   "source": []
  },
  {
   "cell_type": "code",
   "execution_count": 22,
   "id": "375c86fc",
   "metadata": {},
   "outputs": [
    {
     "name": "stdout",
     "output_type": "stream",
     "text": [
      "E:\\Velocity class\\Notes\\08_05_String\\08_05_String\n"
     ]
    }
   ],
   "source": [
    "# to acess the file path we need to add extra slash into the string after every words \\\\, then and only then it will print\n",
    "# thr print fuction will work\n",
    "\n",
    "file_path = \"E:\\\\Velocity class\\\\Notes\\\\08_05_String\\\\08_05_String\"\n",
    "\n",
    "print(file_path)"
   ]
  },
  {
   "cell_type": "code",
   "execution_count": 19,
   "id": "2c1b9b13",
   "metadata": {},
   "outputs": [
    {
     "data": {
      "text/plain": [
       "49"
      ]
     },
     "execution_count": 19,
     "metadata": {},
     "output_type": "execute_result"
    }
   ],
   "source": [
    "len(file_path)"
   ]
  },
  {
   "cell_type": "code",
   "execution_count": 7,
   "id": "2e969164",
   "metadata": {},
   "outputs": [
    {
     "name": "stdout",
     "output_type": "stream",
     "text": [
      "E:\\Velocity class\\Notes\\08_05_String\\08_05_String\n"
     ]
    }
   ],
   "source": [
    "# however there is another way of accessing the file which is Or prefix the string with r (to produce a raw string):\n",
    "# r --> denotes raw file \n",
    "\n",
    "## It seems the '\\U' was producing an error and the 'r' preceding the string turns off the eight-character\n",
    "## Unicode escape (for a raw string)\n",
    "## which was failing.\n",
    "\n",
    "\n",
    "file_path = r\"E:\\Velocity class\\Notes\\08_05_String\\08_05_String\"\n",
    "\n",
    "print(file_path)"
   ]
  },
  {
   "cell_type": "code",
   "execution_count": null,
   "id": "db9d9a22",
   "metadata": {},
   "outputs": [],
   "source": []
  },
  {
   "cell_type": "code",
   "execution_count": 8,
   "id": "eb16d5c4",
   "metadata": {},
   "outputs": [
    {
     "ename": "SyntaxError",
     "evalue": "(unicode error) 'unicodeescape' codec can't decode bytes in position 17-18: malformed \\N character escape (782284105.py, line 3)",
     "output_type": "error",
     "traceback": [
      "\u001b[1;36m  Input \u001b[1;32mIn [8]\u001b[1;36m\u001b[0m\n\u001b[1;33m    file2 = \"E:\\Velocity class\\Notes\\08_05_String\\08_05_String\"\u001b[0m\n\u001b[1;37m                                                               ^\u001b[0m\n\u001b[1;31mSyntaxError\u001b[0m\u001b[1;31m:\u001b[0m (unicode error) 'unicodeescape' codec can't decode bytes in position 17-18: malformed \\N character escape\n"
     ]
    }
   ],
   "source": [
    "# if we do not use (raw file) 'r' or we do not use \\\\ in a string then jupyter will show an error \n",
    "\n",
    "file2 = \"E:\\Velocity class\\Notes\\08_05_String\\08_05_String\"\n",
    "print(file2)"
   ]
  },
  {
   "cell_type": "code",
   "execution_count": null,
   "id": "c922dea2",
   "metadata": {},
   "outputs": [],
   "source": []
  },
  {
   "cell_type": "code",
   "execution_count": null,
   "id": "ab315d9a",
   "metadata": {},
   "outputs": [],
   "source": []
  },
  {
   "cell_type": "code",
   "execution_count": 17,
   "id": "119a9d62",
   "metadata": {},
   "outputs": [
    {
     "name": "stdout",
     "output_type": "stream",
     "text": [
      "E:/Velocity class/Notes/08_05_String/08_05_String\n"
     ]
    }
   ],
   "source": [
    "# if we use forward slash ( / ) in that case it won't produce an error\n",
    "\n",
    "file2 = \"E:/Velocity class/Notes/08_05_String/08_05_String\"\n",
    "print(file2)"
   ]
  },
  {
   "cell_type": "code",
   "execution_count": 16,
   "id": "285bb520",
   "metadata": {},
   "outputs": [
    {
     "name": "stdout",
     "output_type": "stream",
     "text": [
      "hello yash dhakade \n",
      "how are you ? are you fine today?, \n",
      "it's been a while since we talk, \tdidn't we !\n"
     ]
    }
   ],
   "source": [
    "new_str = \"hello yash dhakade \\nhow are you ? are you fine today?, \\nit's been a while since we talk, \\tdidn't we !\"\n",
    "print(new_str)"
   ]
  },
  {
   "cell_type": "code",
   "execution_count": 2,
   "id": "b6684390",
   "metadata": {
    "scrolled": true
   },
   "outputs": [
    {
     "name": "stdout",
     "output_type": "stream",
     "text": [
      "http://localhost:8888/notebooks/1.%20Velocity%20Class%20Notes/Day4%2C%20string%20indexing%20and%20string%20escape%20characters/Day4.%20How%20to%20acesses%20file%20path.ipynb\n"
     ]
    }
   ],
   "source": [
    "file = \"\"\"http://localhost:8888/notebooks/1.%20Velocity%20Class%20Notes/Day4%2C%20string%20indexing%20and%20string%20escape%20characters/Day4.%20How%20to%20acesses%20file%20path.ipynb\"\"\"\n",
    "print(f\"{file}\")"
   ]
  },
  {
   "cell_type": "code",
   "execution_count": null,
   "id": "8f2255b2",
   "metadata": {},
   "outputs": [],
   "source": [
    " "
   ]
  },
  {
   "cell_type": "code",
   "execution_count": 11,
   "id": "8d94c40f",
   "metadata": {
    "scrolled": false
   },
   "outputs": [
    {
     "name": "stdout",
     "output_type": "stream",
     "text": [
      "https://www.wcofun.com/anime/boruto-naruto-next-generations\n"
     ]
    }
   ],
   "source": [
    "link = \"\"\"\"\"\"\"\"\"https://www.wcofun.com/anime/boruto-naruto-next-generations\"\"\"\"\"\"\"\"\"\n",
    "print(link)"
   ]
  },
  {
   "cell_type": "code",
   "execution_count": 16,
   "id": "15ea8263",
   "metadata": {},
   "outputs": [
    {
     "data": {
      "text/plain": [
       "59"
      ]
     },
     "execution_count": 16,
     "metadata": {},
     "output_type": "execute_result"
    }
   ],
   "source": [
    "len(link)"
   ]
  },
  {
   "cell_type": "code",
   "execution_count": null,
   "id": "b2e28f9c",
   "metadata": {},
   "outputs": [],
   "source": []
  }
 ],
 "metadata": {
  "kernelspec": {
   "display_name": "Python 3 (ipykernel)",
   "language": "python",
   "name": "python3"
  },
  "language_info": {
   "codemirror_mode": {
    "name": "ipython",
    "version": 3
   },
   "file_extension": ".py",
   "mimetype": "text/x-python",
   "name": "python",
   "nbconvert_exporter": "python",
   "pygments_lexer": "ipython3",
   "version": "3.9.12"
  }
 },
 "nbformat": 4,
 "nbformat_minor": 5
}
