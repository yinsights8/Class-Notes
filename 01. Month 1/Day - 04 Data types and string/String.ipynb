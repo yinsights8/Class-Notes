{
 "cells": [
  {
   "cell_type": "markdown",
   "id": "acfe7804",
   "metadata": {},
   "source": [
    "# String\n",
    "- String is a collection of characters surrounded by single, double or tripple quote"
   ]
  },
  {
   "cell_type": "code",
   "execution_count": 12,
   "id": "6bf75859",
   "metadata": {},
   "outputs": [
    {
     "name": "stdout",
     "output_type": "stream",
     "text": [
      "The String = Python and Data Science\n",
      "The String = Python and Data Science\n",
      "The String = Python and Data Science\n"
     ]
    }
   ],
   "source": [
    "string = 'Python and Data Science'\n",
    "print(f\"The String = {string}\")\n",
    "string = \"Python and Data Science\"\n",
    "print(f\"The String = {string}\")\n",
    "string = \"\"\"Python and Data Science\"\"\"\n",
    "print(f\"The String = {string}\")"
   ]
  },
  {
   "cell_type": "code",
   "execution_count": 3,
   "id": "e18fc0ae",
   "metadata": {},
   "outputs": [
    {
     "name": "stdout",
     "output_type": "stream",
     "text": [
      "The String = Python and Data Science 30 July Batch\n"
     ]
    }
   ],
   "source": [
    "string = 'Python and Data Science 30 July Batch'\n",
    "print(f\"The String = {string}\")"
   ]
  },
  {
   "cell_type": "code",
   "execution_count": 4,
   "id": "288a9e18",
   "metadata": {},
   "outputs": [
    {
     "name": "stdout",
     "output_type": "stream",
     "text": [
      "The String = ********Python and Data Science 30 July Batch*********\n"
     ]
    }
   ],
   "source": [
    "string = '********Python and Data Science 30 July Batch*********'\n",
    "print(f\"The String = {string}\")"
   ]
  },
  {
   "cell_type": "code",
   "execution_count": 5,
   "id": "72af88f2",
   "metadata": {},
   "outputs": [
    {
     "name": "stdout",
     "output_type": "stream",
     "text": [
      "The String = ********Python & Data Science 30 July Batch*********\n"
     ]
    }
   ],
   "source": [
    "string = '********Python & Data Science 30 July Batch*********'\n",
    "print(f\"The String = {string}\")"
   ]
  },
  {
   "cell_type": "markdown",
   "id": "855ba1d6",
   "metadata": {},
   "source": [
    "#### We can not use single quote in single quote"
   ]
  },
  {
   "cell_type": "code",
   "execution_count": 6,
   "id": "66b20280",
   "metadata": {},
   "outputs": [
    {
     "name": "stdout",
     "output_type": "stream",
     "text": [
      "The String = Python and Data Science\n"
     ]
    }
   ],
   "source": [
    "string = 'Python and Data Science'\n",
    "print(f\"The String = {string}\")"
   ]
  },
  {
   "cell_type": "code",
   "execution_count": 7,
   "id": "f489e273",
   "metadata": {},
   "outputs": [
    {
     "ename": "SyntaxError",
     "evalue": "invalid syntax (<ipython-input-7-4e9cc9f3f564>, line 1)",
     "output_type": "error",
     "traceback": [
      "\u001b[1;36m  File \u001b[1;32m\"<ipython-input-7-4e9cc9f3f564>\"\u001b[1;36m, line \u001b[1;32m1\u001b[0m\n\u001b[1;33m    string = 'Python and 'Data Science''\u001b[0m\n\u001b[1;37m                          ^\u001b[0m\n\u001b[1;31mSyntaxError\u001b[0m\u001b[1;31m:\u001b[0m invalid syntax\n"
     ]
    }
   ],
   "source": [
    "string = 'Python and 'Data Science''\n",
    "print(f\"The String = {string}\")"
   ]
  },
  {
   "cell_type": "code",
   "execution_count": 9,
   "id": "b856b04f",
   "metadata": {},
   "outputs": [
    {
     "ename": "SyntaxError",
     "evalue": "invalid syntax (<ipython-input-9-e9be2b7cc939>, line 1)",
     "output_type": "error",
     "traceback": [
      "\u001b[1;36m  File \u001b[1;32m\"<ipython-input-9-e9be2b7cc939>\"\u001b[1;36m, line \u001b[1;32m1\u001b[0m\n\u001b[1;33m    string = 'Python and Data Science 30'th Julay Batch'\u001b[0m\n\u001b[1;37m                                         ^\u001b[0m\n\u001b[1;31mSyntaxError\u001b[0m\u001b[1;31m:\u001b[0m invalid syntax\n"
     ]
    }
   ],
   "source": [
    "string = 'Python and Data Science 30'th Julay Batch'\n",
    "print(f\"The String = {string}\")"
   ]
  },
  {
   "cell_type": "code",
   "execution_count": 11,
   "id": "7f47886b",
   "metadata": {},
   "outputs": [
    {
     "name": "stdout",
     "output_type": "stream",
     "text": [
      "The String = Python and Data Science 30'th Julay Batch\n"
     ]
    }
   ],
   "source": [
    "string = 'Python and Data Science 30\\'th Julay Batch'\n",
    "print(f\"The String = {string}\")"
   ]
  },
  {
   "cell_type": "markdown",
   "id": "1712268d",
   "metadata": {},
   "source": [
    "#### We can not use double quote in double quote"
   ]
  },
  {
   "cell_type": "code",
   "execution_count": 13,
   "id": "c1a2371b",
   "metadata": {},
   "outputs": [
    {
     "name": "stdout",
     "output_type": "stream",
     "text": [
      "The String = Python and Data Science\n"
     ]
    }
   ],
   "source": [
    "string = \"Python and Data Science\"\n",
    "print(f\"The String = {string}\")"
   ]
  },
  {
   "cell_type": "code",
   "execution_count": 14,
   "id": "60c1312d",
   "metadata": {},
   "outputs": [
    {
     "ename": "SyntaxError",
     "evalue": "invalid syntax (<ipython-input-14-0d5622d38a70>, line 1)",
     "output_type": "error",
     "traceback": [
      "\u001b[1;36m  File \u001b[1;32m\"<ipython-input-14-0d5622d38a70>\"\u001b[1;36m, line \u001b[1;32m1\u001b[0m\n\u001b[1;33m    string = \"Python and \"Data Science\"\"\u001b[0m\n\u001b[1;37m                          ^\u001b[0m\n\u001b[1;31mSyntaxError\u001b[0m\u001b[1;31m:\u001b[0m invalid syntax\n"
     ]
    }
   ],
   "source": [
    "string = \"Python and \"Data Science\"\"\n",
    "print(f\"The String = {string}\")"
   ]
  },
  {
   "cell_type": "code",
   "execution_count": 19,
   "id": "43d021fe",
   "metadata": {},
   "outputs": [
    {
     "name": "stdout",
     "output_type": "stream",
     "text": [
      "The String = Python and \"Data\" Science\n"
     ]
    }
   ],
   "source": [
    "string = \"\"\"Python and \"Data\" Science\"\"\"\n",
    "print(f\"The String = {string}\")"
   ]
  },
  {
   "cell_type": "code",
   "execution_count": 20,
   "id": "edbe5cbd",
   "metadata": {},
   "outputs": [
    {
     "name": "stdout",
     "output_type": "stream",
     "text": [
      "The String = Python and 'Data' Science\n"
     ]
    }
   ],
   "source": [
    "string = \"Python and 'Data' Science\"\n",
    "print(f\"The String = {string}\")"
   ]
  },
  {
   "cell_type": "code",
   "execution_count": 21,
   "id": "745296ea",
   "metadata": {},
   "outputs": [
    {
     "ename": "SyntaxError",
     "evalue": "invalid syntax (<ipython-input-21-fc284442018c>, line 1)",
     "output_type": "error",
     "traceback": [
      "\u001b[1;36m  File \u001b[1;32m\"<ipython-input-21-fc284442018c>\"\u001b[1;36m, line \u001b[1;32m1\u001b[0m\n\u001b[1;33m    string = \"Python and \"Data\" Science\"\u001b[0m\n\u001b[1;37m                          ^\u001b[0m\n\u001b[1;31mSyntaxError\u001b[0m\u001b[1;31m:\u001b[0m invalid syntax\n"
     ]
    }
   ],
   "source": [
    "string = \"Python and \"Data\" Science\"\n",
    "print(f\"The String = {string}\")"
   ]
  },
  {
   "cell_type": "code",
   "execution_count": 22,
   "id": "58342c08",
   "metadata": {},
   "outputs": [
    {
     "name": "stdout",
     "output_type": "stream",
     "text": [
      "The String = Python and \"Data\" Science\n"
     ]
    }
   ],
   "source": [
    "string = \"Python and \\\"Data\\\" Science\"\n",
    "print(f\"The String = {string}\")"
   ]
  },
  {
   "cell_type": "raw",
   "id": "335dbc8f",
   "metadata": {},
   "source": [
    "Deep learning is a type of machine learning and artificial intelligence (AI) that imitates the way humans gain certain types of knowledge. Deep learning is an important element of data science, which includes statistics and predictive modeling."
   ]
  },
  {
   "cell_type": "code",
   "execution_count": 23,
   "id": "d3e87953",
   "metadata": {},
   "outputs": [
    {
     "name": "stdout",
     "output_type": "stream",
     "text": [
      "The String = Data Science is a great field\n"
     ]
    }
   ],
   "source": [
    "Data_Science = \"Data Science is a great field\"\n",
    "print(f\"The String = {Data_Science}\")"
   ]
  },
  {
   "cell_type": "code",
   "execution_count": 26,
   "id": "3c24758a",
   "metadata": {},
   "outputs": [
    {
     "ename": "SyntaxError",
     "evalue": "EOL while scanning string literal (<ipython-input-26-d6653125f6d4>, line 1)",
     "output_type": "error",
     "traceback": [
      "\u001b[1;36m  File \u001b[1;32m\"<ipython-input-26-d6653125f6d4>\"\u001b[1;36m, line \u001b[1;32m1\u001b[0m\n\u001b[1;33m    Data_Science = \"Data Science\u001b[0m\n\u001b[1;37m                                 ^\u001b[0m\n\u001b[1;31mSyntaxError\u001b[0m\u001b[1;31m:\u001b[0m EOL while scanning string literal\n"
     ]
    }
   ],
   "source": [
    "Data_Science = \"Data Science\n",
    "                is a great field\"\n",
    "print(f\"The String = {Data_Science}\")"
   ]
  },
  {
   "cell_type": "code",
   "execution_count": 27,
   "id": "bb66b616",
   "metadata": {},
   "outputs": [
    {
     "name": "stdout",
     "output_type": "stream",
     "text": [
      "The String = Data Science \n",
      "                is a great field\n"
     ]
    }
   ],
   "source": [
    "Data_Science = \"\"\"Data Science \n",
    "                is a great field\"\"\"\n",
    "print(f\"The String = {Data_Science}\")"
   ]
  },
  {
   "cell_type": "code",
   "execution_count": 30,
   "id": "64c652a8",
   "metadata": {},
   "outputs": [
    {
     "name": "stdout",
     "output_type": "stream",
     "text": [
      "The String = Data Science \n",
      "\n",
      "\n",
      "\n",
      "                is a great field\n"
     ]
    }
   ],
   "source": [
    "Data_Science = \"\"\"Data Science \n",
    "\n",
    "\n",
    "\n",
    "                is a great field\"\"\"\n",
    "print(f\"The String = {Data_Science}\")"
   ]
  },
  {
   "cell_type": "code",
   "execution_count": 31,
   "id": "15188aa4",
   "metadata": {},
   "outputs": [
    {
     "name": "stdout",
     "output_type": "stream",
     "text": [
      "The String = Data Science \n",
      "                                               \n",
      "                                               \n",
      "                                               is a great field\n"
     ]
    }
   ],
   "source": [
    "Data_Science = \"\"\"Data Science \n",
    "                                               \n",
    "                                               \n",
    "                                               is a great field\"\"\"\n",
    "print(f\"The String = {Data_Science}\")"
   ]
  },
  {
   "cell_type": "code",
   "execution_count": 28,
   "id": "a4b2a8c5",
   "metadata": {},
   "outputs": [
    {
     "name": "stdout",
     "output_type": "stream",
     "text": [
      "The String = Deep learning is a type of machine learning and artificial intelligence (AI) that imitates the way humans gain certain types of knowledge. Deep learning is an important element of data science, which includes statistics and predictive modeling.\n"
     ]
    }
   ],
   "source": [
    "Deep_Learning = \"\"\"Deep learning is a type of machine learning and artificial intelligence (AI) that imitates the way humans gain certain types of knowledge. Deep learning is an important element of data science, which includes statistics and predictive modeling.\"\"\"\n",
    "print(f\"The String = {Deep_Learning}\")"
   ]
  },
  {
   "cell_type": "code",
   "execution_count": 29,
   "id": "8e4fca15",
   "metadata": {},
   "outputs": [
    {
     "name": "stdout",
     "output_type": "stream",
     "text": [
      "The String = Deep learning is a type of machine learning and artificial intelligence (AI) \n",
      "that imitates the way humans gain certain types of knowledge. Deep learning is an important element \n",
      "of data science, which includes statistics and predictive modeling.\n"
     ]
    }
   ],
   "source": [
    "Deep_Learning = \"\"\"Deep learning is a type of machine learning and artificial intelligence (AI) \n",
    "that imitates the way humans gain certain types of knowledge. Deep learning is an important element \n",
    "of data science, which includes statistics and predictive modeling.\"\"\"\n",
    "print(f\"The String = {Deep_Learning}\")"
   ]
  },
  {
   "cell_type": "code",
   "execution_count": 51,
   "id": "f12da3b1",
   "metadata": {},
   "outputs": [],
   "source": [
    "val = 5j"
   ]
  },
  {
   "cell_type": "code",
   "execution_count": 52,
   "id": "45b7bda8",
   "metadata": {},
   "outputs": [
    {
     "ename": "TypeError",
     "evalue": "can't convert complex to int",
     "output_type": "error",
     "traceback": [
      "\u001b[1;31m---------------------------------------------------------------------------\u001b[0m",
      "\u001b[1;31mTypeError\u001b[0m                                 Traceback (most recent call last)",
      "\u001b[1;32m<ipython-input-52-f1511b1f8129>\u001b[0m in \u001b[0;36m<module>\u001b[1;34m\u001b[0m\n\u001b[1;32m----> 1\u001b[1;33m \u001b[0mint\u001b[0m\u001b[1;33m(\u001b[0m\u001b[0mval\u001b[0m\u001b[1;33m)\u001b[0m\u001b[1;33m\u001b[0m\u001b[1;33m\u001b[0m\u001b[0m\n\u001b[0m",
      "\u001b[1;31mTypeError\u001b[0m: can't convert complex to int"
     ]
    }
   ],
   "source": [
    "int(val)"
   ]
  },
  {
   "cell_type": "code",
   "execution_count": null,
   "id": "88e37a6c",
   "metadata": {},
   "outputs": [],
   "source": []
  }
 ],
 "metadata": {
  "kernelspec": {
   "display_name": "Python 3 (ipykernel)",
   "language": "python",
   "name": "python3"
  },
  "language_info": {
   "codemirror_mode": {
    "name": "ipython",
    "version": 3
   },
   "file_extension": ".py",
   "mimetype": "text/x-python",
   "name": "python",
   "nbconvert_exporter": "python",
   "pygments_lexer": "ipython3",
   "version": "3.9.12"
  }
 },
 "nbformat": 4,
 "nbformat_minor": 5
}
