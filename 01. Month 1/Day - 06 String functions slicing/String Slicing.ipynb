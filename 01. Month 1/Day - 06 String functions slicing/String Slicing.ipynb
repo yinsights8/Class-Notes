{
 "cells": [
  {
   "cell_type": "markdown",
   "id": "71f19935",
   "metadata": {},
   "source": [
    "# String\n"
   ]
  },
  {
   "cell_type": "code",
   "execution_count": 1,
   "id": "b4d84967",
   "metadata": {},
   "outputs": [],
   "source": [
    "str1 = \"Python\""
   ]
  },
  {
   "cell_type": "raw",
   "id": "6d1cd9f8",
   "metadata": {},
   "source": [
    " P  y  t  h  o  n\n",
    " 0  1  2  3  4  5\n",
    "-6 -5 -4 -3 -2 -1"
   ]
  },
  {
   "cell_type": "code",
   "execution_count": 2,
   "id": "972e60a6",
   "metadata": {},
   "outputs": [
    {
     "data": {
      "text/plain": [
       "'P'"
      ]
     },
     "execution_count": 2,
     "metadata": {},
     "output_type": "execute_result"
    }
   ],
   "source": [
    "str1[0]"
   ]
  },
  {
   "cell_type": "code",
   "execution_count": 3,
   "id": "f6d4ae3e",
   "metadata": {},
   "outputs": [
    {
     "data": {
      "text/plain": [
       "'n'"
      ]
     },
     "execution_count": 3,
     "metadata": {},
     "output_type": "execute_result"
    }
   ],
   "source": [
    "str1[-1]"
   ]
  },
  {
   "cell_type": "code",
   "execution_count": 4,
   "id": "e0bac3f4",
   "metadata": {},
   "outputs": [
    {
     "data": {
      "text/plain": [
       "'t'"
      ]
     },
     "execution_count": 4,
     "metadata": {},
     "output_type": "execute_result"
    }
   ],
   "source": [
    "str1[2]"
   ]
  },
  {
   "cell_type": "code",
   "execution_count": 5,
   "id": "23f671d2",
   "metadata": {},
   "outputs": [
    {
     "data": {
      "text/plain": [
       "'t'"
      ]
     },
     "execution_count": 5,
     "metadata": {},
     "output_type": "execute_result"
    }
   ],
   "source": [
    "str1[-4]"
   ]
  },
  {
   "cell_type": "markdown",
   "id": "88f046ae",
   "metadata": {},
   "source": [
    "# String Slicing"
   ]
  },
  {
   "cell_type": "raw",
   "id": "ba7b50ea",
   "metadata": {},
   "source": [
    "Syntax = string[start_index:end_index]"
   ]
  },
  {
   "cell_type": "code",
   "execution_count": 7,
   "id": "191cbae7",
   "metadata": {},
   "outputs": [],
   "source": [
    "str1 = \"Python And Data Science\""
   ]
  },
  {
   "cell_type": "code",
   "execution_count": 8,
   "id": "a1d86d00",
   "metadata": {},
   "outputs": [
    {
     "data": {
      "text/plain": [
       "'Python And Data Science'"
      ]
     },
     "execution_count": 8,
     "metadata": {},
     "output_type": "execute_result"
    }
   ],
   "source": [
    "str1[:]"
   ]
  },
  {
   "cell_type": "code",
   "execution_count": 9,
   "id": "6b0e2a4d",
   "metadata": {},
   "outputs": [
    {
     "data": {
      "text/plain": [
       "'Python And'"
      ]
     },
     "execution_count": 9,
     "metadata": {},
     "output_type": "execute_result"
    }
   ],
   "source": [
    "str1[:10]"
   ]
  },
  {
   "cell_type": "code",
   "execution_count": 10,
   "id": "e675d392",
   "metadata": {},
   "outputs": [
    {
     "data": {
      "text/plain": [
       "' Data Science'"
      ]
     },
     "execution_count": 10,
     "metadata": {},
     "output_type": "execute_result"
    }
   ],
   "source": [
    "str1[10:]"
   ]
  },
  {
   "cell_type": "code",
   "execution_count": 11,
   "id": "1f849b98",
   "metadata": {},
   "outputs": [
    {
     "data": {
      "text/plain": [
       "'tho'"
      ]
     },
     "execution_count": 11,
     "metadata": {},
     "output_type": "execute_result"
    }
   ],
   "source": [
    "# 2,3,4,5=(excluded)\n",
    "str1[2:5] "
   ]
  },
  {
   "cell_type": "markdown",
   "id": "1296d66d",
   "metadata": {},
   "source": [
    "# Negative Slicing"
   ]
  },
  {
   "cell_type": "raw",
   "id": "4d91b3e6",
   "metadata": {},
   "source": [
    " P  y  t  h  o  n\n",
    " 0  1  2  3  4  5\n",
    "-6 -5 -4 -3 -2 -1"
   ]
  },
  {
   "cell_type": "code",
   "execution_count": 12,
   "id": "e715095e",
   "metadata": {},
   "outputs": [
    {
     "data": {
      "text/plain": [
       "'Python And Data Science'"
      ]
     },
     "execution_count": 12,
     "metadata": {},
     "output_type": "execute_result"
    }
   ],
   "source": [
    "str1"
   ]
  },
  {
   "cell_type": "code",
   "execution_count": 15,
   "id": "a34f5a9b",
   "metadata": {},
   "outputs": [
    {
     "data": {
      "text/plain": [
       "'ienc'"
      ]
     },
     "execution_count": 15,
     "metadata": {},
     "output_type": "execute_result"
    }
   ],
   "source": [
    "# -5,-4,-3,-2,-1=(excluded)\n",
    "str1[-5:-1]"
   ]
  },
  {
   "cell_type": "code",
   "execution_count": 16,
   "id": "74e3cb38",
   "metadata": {},
   "outputs": [
    {
     "data": {
      "text/plain": [
       "'nd Da'"
      ]
     },
     "execution_count": 16,
     "metadata": {},
     "output_type": "execute_result"
    }
   ],
   "source": [
    "# -15,-14,-13,-12,-11,-10=(excluded)\n",
    "str1[-15:-10]"
   ]
  },
  {
   "cell_type": "code",
   "execution_count": 17,
   "id": "c458a8ae",
   "metadata": {},
   "outputs": [
    {
     "data": {
      "text/plain": [
       "'ience'"
      ]
     },
     "execution_count": 17,
     "metadata": {},
     "output_type": "execute_result"
    }
   ],
   "source": [
    "str1[-5:]"
   ]
  },
  {
   "cell_type": "code",
   "execution_count": 18,
   "id": "c15d8f13",
   "metadata": {},
   "outputs": [
    {
     "data": {
      "text/plain": [
       "'nd Data Science'"
      ]
     },
     "execution_count": 18,
     "metadata": {},
     "output_type": "execute_result"
    }
   ],
   "source": [
    "str1[-15:]"
   ]
  },
  {
   "cell_type": "code",
   "execution_count": 19,
   "id": "aaf7c098",
   "metadata": {},
   "outputs": [
    {
     "data": {
      "text/plain": [
       "'nd Data Scienc'"
      ]
     },
     "execution_count": 19,
     "metadata": {},
     "output_type": "execute_result"
    }
   ],
   "source": [
    "str1[-15:-1]"
   ]
  },
  {
   "cell_type": "markdown",
   "id": "19c519bd",
   "metadata": {},
   "source": [
    "# Step Size\n",
    "- Syntax = string[start_index : end_index : step_size]"
   ]
  },
  {
   "cell_type": "code",
   "execution_count": 21,
   "id": "d4722efc",
   "metadata": {},
   "outputs": [],
   "source": [
    "str1 = \"Python And Data Science\""
   ]
  },
  {
   "cell_type": "code",
   "execution_count": 22,
   "id": "92009b55",
   "metadata": {},
   "outputs": [
    {
     "data": {
      "text/plain": [
       "'Pytho'"
      ]
     },
     "execution_count": 22,
     "metadata": {},
     "output_type": "execute_result"
    }
   ],
   "source": [
    "str1[0:5]"
   ]
  },
  {
   "cell_type": "code",
   "execution_count": 23,
   "id": "ecb534ce",
   "metadata": {},
   "outputs": [
    {
     "data": {
      "text/plain": [
       "'Python And Data'"
      ]
     },
     "execution_count": 23,
     "metadata": {},
     "output_type": "execute_result"
    }
   ],
   "source": [
    "str1[0:15]"
   ]
  },
  {
   "cell_type": "code",
   "execution_count": 24,
   "id": "970e5fa8",
   "metadata": {},
   "outputs": [
    {
     "data": {
      "text/plain": [
       "'Python And Data'"
      ]
     },
     "execution_count": 24,
     "metadata": {},
     "output_type": "execute_result"
    }
   ],
   "source": [
    "str1[0:15:1]"
   ]
  },
  {
   "cell_type": "code",
   "execution_count": 25,
   "id": "d690efda",
   "metadata": {},
   "outputs": [
    {
     "data": {
      "text/plain": [
       "'Pto n aa'"
      ]
     },
     "execution_count": 25,
     "metadata": {},
     "output_type": "execute_result"
    }
   ],
   "source": [
    "str1[0:15:2]"
   ]
  },
  {
   "cell_type": "raw",
   "id": "ab28b87b",
   "metadata": {},
   "source": [
    " P  y  t  h  o  n\n",
    " 0  1  2  3  4  5\n",
    "-6 -5 -4 -3 -2 -1"
   ]
  },
  {
   "cell_type": "code",
   "execution_count": 28,
   "id": "4fbe912e",
   "metadata": {},
   "outputs": [
    {
     "data": {
      "text/plain": [
       "'Python'"
      ]
     },
     "execution_count": 28,
     "metadata": {},
     "output_type": "execute_result"
    }
   ],
   "source": [
    "str1[0:6:1]"
   ]
  },
  {
   "cell_type": "code",
   "execution_count": 29,
   "id": "5c5cf3dd",
   "metadata": {},
   "outputs": [
    {
     "data": {
      "text/plain": [
       "'Pto'"
      ]
     },
     "execution_count": 29,
     "metadata": {},
     "output_type": "execute_result"
    }
   ],
   "source": [
    "str1[0:6:2] # Pto"
   ]
  },
  {
   "cell_type": "code",
   "execution_count": 30,
   "id": "03ba8119",
   "metadata": {},
   "outputs": [
    {
     "data": {
      "text/plain": [
       "'Ph'"
      ]
     },
     "execution_count": 30,
     "metadata": {},
     "output_type": "execute_result"
    }
   ],
   "source": [
    "str1[0:6:3] # Ph"
   ]
  },
  {
   "cell_type": "code",
   "execution_count": 31,
   "id": "39eacae8",
   "metadata": {},
   "outputs": [
    {
     "data": {
      "text/plain": [
       "'Python And Data Science'"
      ]
     },
     "execution_count": 31,
     "metadata": {},
     "output_type": "execute_result"
    }
   ],
   "source": [
    "str1"
   ]
  },
  {
   "cell_type": "code",
   "execution_count": 32,
   "id": "b0852c01",
   "metadata": {},
   "outputs": [
    {
     "data": {
      "text/plain": [
       "'ython'"
      ]
     },
     "execution_count": 32,
     "metadata": {},
     "output_type": "execute_result"
    }
   ],
   "source": [
    "str1[1:6]"
   ]
  },
  {
   "cell_type": "code",
   "execution_count": 33,
   "id": "2e3caca0",
   "metadata": {},
   "outputs": [
    {
     "data": {
      "text/plain": [
       "'ython'"
      ]
     },
     "execution_count": 33,
     "metadata": {},
     "output_type": "execute_result"
    }
   ],
   "source": [
    "str1[1:6:1]"
   ]
  },
  {
   "cell_type": "code",
   "execution_count": 34,
   "id": "3b245fef",
   "metadata": {},
   "outputs": [
    {
     "data": {
      "text/plain": [
       "'yhn'"
      ]
     },
     "execution_count": 34,
     "metadata": {},
     "output_type": "execute_result"
    }
   ],
   "source": [
    "str1[1:6:2]"
   ]
  },
  {
   "cell_type": "code",
   "execution_count": 35,
   "id": "2572215b",
   "metadata": {},
   "outputs": [
    {
     "data": {
      "text/plain": [
       "'Pto n aaSine'"
      ]
     },
     "execution_count": 35,
     "metadata": {},
     "output_type": "execute_result"
    }
   ],
   "source": [
    "str1[0::2]"
   ]
  },
  {
   "cell_type": "code",
   "execution_count": 36,
   "id": "1f50db20",
   "metadata": {},
   "outputs": [
    {
     "data": {
      "text/plain": [
       "' aaSine'"
      ]
     },
     "execution_count": 36,
     "metadata": {},
     "output_type": "execute_result"
    }
   ],
   "source": [
    "str1[10::2]"
   ]
  },
  {
   "cell_type": "code",
   "execution_count": 37,
   "id": "e3f8606c",
   "metadata": {},
   "outputs": [
    {
     "data": {
      "text/plain": [
       "'Python And Data Science'"
      ]
     },
     "execution_count": 37,
     "metadata": {},
     "output_type": "execute_result"
    }
   ],
   "source": [
    "str1[:]"
   ]
  },
  {
   "cell_type": "code",
   "execution_count": 38,
   "id": "897d2266",
   "metadata": {},
   "outputs": [
    {
     "data": {
      "text/plain": [
       "'Python And Data Science'"
      ]
     },
     "execution_count": 38,
     "metadata": {},
     "output_type": "execute_result"
    }
   ],
   "source": [
    "str1[::1]"
   ]
  },
  {
   "cell_type": "code",
   "execution_count": 39,
   "id": "b70be8a5",
   "metadata": {},
   "outputs": [
    {
     "data": {
      "text/plain": [
       "'Pto n aaSine'"
      ]
     },
     "execution_count": 39,
     "metadata": {},
     "output_type": "execute_result"
    }
   ],
   "source": [
    "str1[::2]"
   ]
  },
  {
   "cell_type": "code",
   "execution_count": 41,
   "id": "af40ed8d",
   "metadata": {},
   "outputs": [
    {
     "data": {
      "text/plain": [
       "'Python And Data Science'"
      ]
     },
     "execution_count": 41,
     "metadata": {},
     "output_type": "execute_result"
    }
   ],
   "source": [
    "str1"
   ]
  },
  {
   "cell_type": "code",
   "execution_count": 42,
   "id": "6b66c749",
   "metadata": {},
   "outputs": [
    {
     "data": {
      "text/plain": [
       "'nd Data Scienc'"
      ]
     },
     "execution_count": 42,
     "metadata": {},
     "output_type": "execute_result"
    }
   ],
   "source": [
    "str1[-15:-1:1]"
   ]
  },
  {
   "cell_type": "code",
   "execution_count": 43,
   "id": "331e2f93",
   "metadata": {},
   "outputs": [
    {
     "data": {
      "text/plain": [
       "''"
      ]
     },
     "execution_count": 43,
     "metadata": {},
     "output_type": "execute_result"
    }
   ],
   "source": [
    "str1[-1:-15]"
   ]
  },
  {
   "cell_type": "code",
   "execution_count": 44,
   "id": "418bb430",
   "metadata": {},
   "outputs": [
    {
     "data": {
      "text/plain": [
       "'ecneicS ataD d'"
      ]
     },
     "execution_count": 44,
     "metadata": {},
     "output_type": "execute_result"
    }
   ],
   "source": [
    "str1[-1:-15:-1]"
   ]
  },
  {
   "cell_type": "markdown",
   "id": "2b41d7e8",
   "metadata": {},
   "source": [
    "# Reversed String"
   ]
  },
  {
   "cell_type": "code",
   "execution_count": 40,
   "id": "8b87070c",
   "metadata": {},
   "outputs": [
    {
     "data": {
      "text/plain": [
       "'Python And Data Science'"
      ]
     },
     "execution_count": 40,
     "metadata": {},
     "output_type": "execute_result"
    }
   ],
   "source": [
    "str1"
   ]
  },
  {
   "cell_type": "code",
   "execution_count": 45,
   "id": "c0c03e6b",
   "metadata": {},
   "outputs": [
    {
     "data": {
      "text/plain": [
       "'ecneicS ataD dnA nohtyP'"
      ]
     },
     "execution_count": 45,
     "metadata": {},
     "output_type": "execute_result"
    }
   ],
   "source": [
    "str1[::-1]"
   ]
  },
  {
   "cell_type": "code",
   "execution_count": 49,
   "id": "05e3db7e",
   "metadata": {},
   "outputs": [
    {
     "data": {
      "text/plain": [
       "'Python And'"
      ]
     },
     "execution_count": 49,
     "metadata": {},
     "output_type": "execute_result"
    }
   ],
   "source": [
    "str1[0:10:1]"
   ]
  },
  {
   "cell_type": "code",
   "execution_count": 50,
   "id": "210a7204",
   "metadata": {},
   "outputs": [
    {
     "data": {
      "text/plain": [
       "''"
      ]
     },
     "execution_count": 50,
     "metadata": {},
     "output_type": "execute_result"
    }
   ],
   "source": [
    "str1[10:0:1]"
   ]
  },
  {
   "cell_type": "code",
   "execution_count": 51,
   "id": "60078c4a",
   "metadata": {},
   "outputs": [
    {
     "data": {
      "text/plain": [
       "' dnA nohty'"
      ]
     },
     "execution_count": 51,
     "metadata": {},
     "output_type": "execute_result"
    }
   ],
   "source": [
    "str1[10:0:-1]"
   ]
  },
  {
   "cell_type": "markdown",
   "id": "3ec66f94",
   "metadata": {},
   "source": [
    "# Access char by using for loop"
   ]
  },
  {
   "cell_type": "raw",
   "id": "4a310d4e",
   "metadata": {},
   "source": [
    "Syntax:-\n",
    "\n",
    "for var_name in Sequence:\n",
    "    statement1\n",
    "    statement2\n",
    "    statement3\n",
    "    statement4\n",
    "        .\n",
    "        .\n",
    "    statement_n"
   ]
  },
  {
   "cell_type": "code",
   "execution_count": 57,
   "id": "5f780202",
   "metadata": {},
   "outputs": [
    {
     "data": {
      "text/plain": [
       "'Python'"
      ]
     },
     "execution_count": 57,
     "metadata": {},
     "output_type": "execute_result"
    }
   ],
   "source": [
    "str1 = \"Python\"\n",
    "str1"
   ]
  },
  {
   "cell_type": "code",
   "execution_count": 58,
   "id": "b59dc9dd",
   "metadata": {},
   "outputs": [
    {
     "data": {
      "text/plain": [
       "6"
      ]
     },
     "execution_count": 58,
     "metadata": {},
     "output_type": "execute_result"
    }
   ],
   "source": [
    "len(str1)"
   ]
  },
  {
   "cell_type": "code",
   "execution_count": 59,
   "id": "3cbaf7d9",
   "metadata": {},
   "outputs": [
    {
     "name": "stdout",
     "output_type": "stream",
     "text": [
      "This is a string\n",
      "This is a string\n",
      "This is a string\n",
      "This is a string\n",
      "This is a string\n",
      "This is a string\n"
     ]
    }
   ],
   "source": [
    "for char in str1:\n",
    "    print(\"This is a string\")"
   ]
  },
  {
   "cell_type": "code",
   "execution_count": 60,
   "id": "397ed390",
   "metadata": {},
   "outputs": [
    {
     "data": {
      "text/plain": [
       "'Python'"
      ]
     },
     "execution_count": 60,
     "metadata": {},
     "output_type": "execute_result"
    }
   ],
   "source": [
    "str1"
   ]
  },
  {
   "cell_type": "code",
   "execution_count": 61,
   "id": "077cad87",
   "metadata": {},
   "outputs": [
    {
     "name": "stdout",
     "output_type": "stream",
     "text": [
      "P\n",
      "y\n",
      "t\n",
      "h\n",
      "o\n",
      "n\n"
     ]
    }
   ],
   "source": [
    "for char in str1: \n",
    "    print(char)"
   ]
  },
  {
   "cell_type": "code",
   "execution_count": 62,
   "id": "c767d332",
   "metadata": {},
   "outputs": [
    {
     "name": "stdout",
     "output_type": "stream",
     "text": [
      "THe Char is = P\n",
      "THe Char is = y\n",
      "THe Char is = t\n",
      "THe Char is = h\n",
      "THe Char is = o\n",
      "THe Char is = n\n"
     ]
    }
   ],
   "source": [
    "for char in str1: \n",
    "    print(f\"THe Char is = {char}\")"
   ]
  },
  {
   "cell_type": "code",
   "execution_count": 63,
   "id": "cb99baf8",
   "metadata": {},
   "outputs": [
    {
     "name": "stdout",
     "output_type": "stream",
     "text": [
      "THe Char is = P\n",
      "--------------------\n",
      "THe Char is = y\n",
      "--------------------\n",
      "THe Char is = t\n",
      "--------------------\n",
      "THe Char is = h\n",
      "--------------------\n",
      "THe Char is = o\n",
      "--------------------\n",
      "THe Char is = n\n",
      "--------------------\n"
     ]
    }
   ],
   "source": [
    "for char in str1: \n",
    "    print(f\"THe Char is = {char}\")\n",
    "    print(\"-\"*20)"
   ]
  },
  {
   "cell_type": "code",
   "execution_count": 64,
   "id": "1d4a2afe",
   "metadata": {},
   "outputs": [
    {
     "data": {
      "text/plain": [
       "'Python'"
      ]
     },
     "execution_count": 64,
     "metadata": {},
     "output_type": "execute_result"
    }
   ],
   "source": [
    "str1"
   ]
  },
  {
   "cell_type": "code",
   "execution_count": 73,
   "id": "5ce724ba",
   "metadata": {},
   "outputs": [
    {
     "name": "stdout",
     "output_type": "stream",
     "text": [
      "P\n",
      "y\n",
      "t\n",
      "h\n",
      "o\n",
      "n\n"
     ]
    }
   ],
   "source": [
    "index_number = 0\n",
    "print(str1[index_number])\n",
    "index_number = 0 + 1\n",
    "print(str1[index_number])\n",
    "index_number = index_number + 1\n",
    "print(str1[index_number])\n",
    "index_number = index_number + 1\n",
    "print(str1[index_number])\n",
    "index_number = index_number + 1\n",
    "print(str1[index_number])\n",
    "index_number = index_number + 1\n",
    "print(str1[index_number])"
   ]
  },
  {
   "cell_type": "code",
   "execution_count": 74,
   "id": "83190b3d",
   "metadata": {},
   "outputs": [
    {
     "name": "stdout",
     "output_type": "stream",
     "text": [
      "The index is = 0\n",
      "The char is  = P\n",
      "--------------------------------------------------\n",
      "The index is = 1\n",
      "The char is  = y\n",
      "--------------------------------------------------\n",
      "The index is = 2\n",
      "The char is  = t\n",
      "--------------------------------------------------\n",
      "The index is = 3\n",
      "The char is  = h\n",
      "--------------------------------------------------\n",
      "The index is = 4\n",
      "The char is  = o\n",
      "--------------------------------------------------\n",
      "The index is = 5\n",
      "The char is  = n\n",
      "--------------------------------------------------\n"
     ]
    }
   ],
   "source": [
    "index_number = 0\n",
    "for char in str1:\n",
    "    print(f\"The index is = {index_number}\")\n",
    "    print(f\"The char is  = {char}\")\n",
    "    print(\"-\"*50)\n",
    "    index_number = index_number + 1"
   ]
  },
  {
   "cell_type": "code",
   "execution_count": 75,
   "id": "3f2018e7",
   "metadata": {},
   "outputs": [
    {
     "name": "stdout",
     "output_type": "stream",
     "text": [
      "The index is = 0\n",
      "The char is  = P\n",
      "--------------------------------------------------\n",
      "The index is = 1\n",
      "The char is  = y\n",
      "--------------------------------------------------\n",
      "The index is = 2\n",
      "The char is  = t\n",
      "--------------------------------------------------\n",
      "The index is = 3\n",
      "The char is  = h\n",
      "--------------------------------------------------\n",
      "The index is = 4\n",
      "The char is  = o\n",
      "--------------------------------------------------\n",
      "The index is = 5\n",
      "The char is  = n\n",
      "--------------------------------------------------\n"
     ]
    }
   ],
   "source": [
    "index_number = 0\n",
    "for char in str1:\n",
    "    print(f\"The index is = {index_number}\")\n",
    "    print(f\"The char is  = {str1[index_number]}\")\n",
    "    print(\"-\"*50)\n",
    "    index_number = index_number + 1"
   ]
  },
  {
   "cell_type": "code",
   "execution_count": 76,
   "id": "93ce5193",
   "metadata": {},
   "outputs": [
    {
     "name": "stdout",
     "output_type": "stream",
     "text": [
      "The index is = 0 & the char = P\n",
      "-------------------------\n",
      "The index is = 0 & the char = P\n",
      "-------------------------\n",
      "The index is = 0 & the char = P\n",
      "-------------------------\n",
      "The index is = 0 & the char = P\n",
      "-------------------------\n",
      "The index is = 0 & the char = P\n",
      "-------------------------\n",
      "The index is = 0 & the char = P\n",
      "-------------------------\n"
     ]
    }
   ],
   "source": [
    "index_number = 0\n",
    "for char in str1:\n",
    "    print(f\"The index is = {index_number} & the char = {str1[index_number]}\")\n",
    "    print(\"-\"*25)"
   ]
  },
  {
   "cell_type": "code",
   "execution_count": 78,
   "id": "aa5fb17f",
   "metadata": {},
   "outputs": [
    {
     "name": "stdout",
     "output_type": "stream",
     "text": [
      "The index is = 0 & the char = P\n",
      "-----------------------------------\n",
      "The index is = 1 & the char = y\n",
      "-----------------------------------\n",
      "The index is = 2 & the char = t\n",
      "-----------------------------------\n",
      "The index is = 3 & the char = h\n",
      "-----------------------------------\n",
      "The index is = 4 & the char = o\n",
      "-----------------------------------\n",
      "The index is = 5 & the char = n\n",
      "-----------------------------------\n"
     ]
    }
   ],
   "source": [
    "index_number = 0\n",
    "for char in str1:\n",
    "    print(f\"The index is = {index_number} & the char = {str1[index_number]}\")\n",
    "    index_number = index_number + 1\n",
    "    print(\"-\"*35)"
   ]
  },
  {
   "cell_type": "markdown",
   "id": "cf5fcaf9",
   "metadata": {},
   "source": [
    "# enumerate()"
   ]
  },
  {
   "cell_type": "code",
   "execution_count": 79,
   "id": "30b5c15c",
   "metadata": {},
   "outputs": [
    {
     "data": {
      "text/plain": [
       "'Python'"
      ]
     },
     "execution_count": 79,
     "metadata": {},
     "output_type": "execute_result"
    }
   ],
   "source": [
    "str1"
   ]
  },
  {
   "cell_type": "raw",
   "id": "99f630cc",
   "metadata": {},
   "source": [
    " P  y  t  h  o  n\n",
    " 0  1  2  3  4  5\n",
    "-6 -5 -4 -3 -2 -1"
   ]
  },
  {
   "cell_type": "code",
   "execution_count": 88,
   "id": "75ea2402",
   "metadata": {},
   "outputs": [
    {
     "name": "stdout",
     "output_type": "stream",
     "text": [
      "The index is = 0 & the char = P\n",
      "The index is = 1 & the char = y\n",
      "The index is = 2 & the char = t\n",
      "The index is = 3 & the char = h\n",
      "The index is = 4 & the char = o\n",
      "The index is = 5 & the char = n\n"
     ]
    }
   ],
   "source": [
    "for index,char in enumerate(str1):\n",
    "    print(f\"The index is = {index} & the char = {char}\")\n",
    "#     print(\"-\"*35)"
   ]
  },
  {
   "cell_type": "code",
   "execution_count": 89,
   "id": "d80f3d25",
   "metadata": {},
   "outputs": [
    {
     "name": "stdout",
     "output_type": "stream",
     "text": [
      "P\n",
      "y\n",
      "t\n",
      "h\n",
      "o\n",
      "n\n"
     ]
    }
   ],
   "source": [
    "for char in \"Python\":\n",
    "    print(char)"
   ]
  },
  {
   "cell_type": "raw",
   "id": "7d151bab",
   "metadata": {},
   "source": [
    "for char in \"Python\":\n",
    "    print(char)         \n",
    "    \n",
    "1 iteration grab 0 indexed_value = P\n",
    "2 iteration grab 1 indexed_value = y\n",
    "3 iteration grab 2 indexed_value = t\n",
    "4 iteration grab 3 indexed_value = h\n",
    "5 iteration grab 4 indexed_value = o\n",
    "6 iteration grab 5 indexed_value = n"
   ]
  },
  {
   "cell_type": "code",
   "execution_count": 98,
   "id": "7de0e75e",
   "metadata": {},
   "outputs": [
    {
     "name": "stdout",
     "output_type": "stream",
     "text": [
      "Hi \thi1\n"
     ]
    }
   ],
   "source": [
    "str1 = \"Hi \\thi1\"\n",
    "print(str1)"
   ]
  },
  {
   "cell_type": "code",
   "execution_count": 101,
   "id": "cd4043fd",
   "metadata": {},
   "outputs": [
    {
     "name": "stdout",
     "output_type": "stream",
     "text": [
      "\tHi \thi1\n"
     ]
    }
   ],
   "source": [
    "str1 = \"\\tHi \\thi1\"\n",
    "print(str1)"
   ]
  },
  {
   "cell_type": "code",
   "execution_count": 109,
   "id": "d6040ef7",
   "metadata": {},
   "outputs": [
    {
     "name": "stdout",
     "output_type": "stream",
     "text": [
      "\tHi        \thi1\n"
     ]
    }
   ],
   "source": [
    "str2 = \"\\tHi        \\thi1\"\n",
    "print(str2)"
   ]
  },
  {
   "cell_type": "code",
   "execution_count": 111,
   "id": "7f1cc810",
   "metadata": {},
   "outputs": [
    {
     "name": "stdout",
     "output_type": "stream",
     "text": [
      "10\n"
     ]
    }
   ],
   "source": [
    "cnt = 0\n",
    "for i in str2:\n",
    "    if i.isspace():\n",
    "        cnt += 1\n",
    "print(cnt)"
   ]
  },
  {
   "cell_type": "code",
   "execution_count": 131,
   "id": "33f7a420",
   "metadata": {},
   "outputs": [
    {
     "name": "stdout",
     "output_type": "stream",
     "text": [
      "['python', '&', 'data', 'science']\n"
     ]
    },
    {
     "data": {
      "text/plain": [
       "' Python & Data Science'"
      ]
     },
     "execution_count": 131,
     "metadata": {},
     "output_type": "execute_result"
    }
   ],
   "source": [
    "s = \"python & data science\"\n",
    "li = s.split()\n",
    "print(li)\n",
    "new_str = \"\"\n",
    "for s in li:\n",
    "    n_s = s[0].upper() + s[1:]\n",
    "    new_str = new_str + \" \" + n_s\n",
    "new_str"
   ]
  },
  {
   "cell_type": "code",
   "execution_count": 137,
   "id": "f9310635",
   "metadata": {},
   "outputs": [
    {
     "name": "stdout",
     "output_type": "stream",
     "text": [
      "python\n"
     ]
    },
    {
     "data": {
      "text/plain": [
       "'po'"
      ]
     },
     "execution_count": 137,
     "metadata": {},
     "output_type": "execute_result"
    }
   ],
   "source": [
    "s = \"python\"\n",
    "print(s)\n",
    "s[0:5:4]"
   ]
  },
  {
   "cell_type": "code",
   "execution_count": 149,
   "id": "312b340f",
   "metadata": {},
   "outputs": [
    {
     "data": {
      "text/plain": [
       "-4"
      ]
     },
     "execution_count": 149,
     "metadata": {},
     "output_type": "execute_result"
    }
   ],
   "source": [
    "2 - len(s)"
   ]
  },
  {
   "cell_type": "code",
   "execution_count": 148,
   "id": "695881a6",
   "metadata": {},
   "outputs": [
    {
     "data": {
      "text/plain": [
       "'t'"
      ]
     },
     "execution_count": 148,
     "metadata": {},
     "output_type": "execute_result"
    }
   ],
   "source": [
    "s[2-len(s)]"
   ]
  },
  {
   "cell_type": "code",
   "execution_count": 138,
   "id": "cd7cea35",
   "metadata": {},
   "outputs": [
    {
     "data": {
      "text/plain": [
       "6"
      ]
     },
     "execution_count": 138,
     "metadata": {},
     "output_type": "execute_result"
    }
   ],
   "source": [
    "len(s)"
   ]
  },
  {
   "cell_type": "code",
   "execution_count": 141,
   "id": "cb5f75c2",
   "metadata": {},
   "outputs": [
    {
     "data": {
      "text/plain": [
       "'python'"
      ]
     },
     "execution_count": 141,
     "metadata": {},
     "output_type": "execute_result"
    }
   ],
   "source": [
    "s[0:len(s)] # 0,1,2,3,4,5,6"
   ]
  },
  {
   "cell_type": "code",
   "execution_count": 142,
   "id": "4ed0af0f",
   "metadata": {},
   "outputs": [
    {
     "data": {
      "text/plain": [
       "'python'"
      ]
     },
     "execution_count": 142,
     "metadata": {},
     "output_type": "execute_result"
    }
   ],
   "source": [
    "s[0:len(s)]"
   ]
  },
  {
   "cell_type": "code",
   "execution_count": null,
   "id": "c977a989",
   "metadata": {},
   "outputs": [],
   "source": []
  }
 ],
 "metadata": {
  "kernelspec": {
   "display_name": "Python 3",
   "language": "python",
   "name": "python3"
  },
  "language_info": {
   "codemirror_mode": {
    "name": "ipython",
    "version": 3
   },
   "file_extension": ".py",
   "mimetype": "text/x-python",
   "name": "python",
   "nbconvert_exporter": "python",
   "pygments_lexer": "ipython3",
   "version": "3.8.8"
  }
 },
 "nbformat": 4,
 "nbformat_minor": 5
}
