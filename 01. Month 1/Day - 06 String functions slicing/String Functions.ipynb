{
 "cells": [
  {
   "cell_type": "markdown",
   "id": "127f82fd",
   "metadata": {},
   "source": [
    "# String Functions\n",
    "\n",
    "- Strings are immutable that means we can not change or modify a string once created"
   ]
  },
  {
   "cell_type": "code",
   "execution_count": 1,
   "id": "7bd1c2ae",
   "metadata": {},
   "outputs": [],
   "source": [
    "str1 = \"Python\""
   ]
  },
  {
   "cell_type": "code",
   "execution_count": 3,
   "id": "6951061b",
   "metadata": {},
   "outputs": [
    {
     "ename": "TypeError",
     "evalue": "'str' object does not support item assignment",
     "output_type": "error",
     "traceback": [
      "\u001b[1;31m---------------------------------------------------------------------------\u001b[0m",
      "\u001b[1;31mTypeError\u001b[0m                                 Traceback (most recent call last)",
      "\u001b[1;32m<ipython-input-3-f5599223e3e9>\u001b[0m in \u001b[0;36m<module>\u001b[1;34m\u001b[0m\n\u001b[1;32m----> 1\u001b[1;33m \u001b[0mstr1\u001b[0m\u001b[1;33m[\u001b[0m\u001b[1;36m0\u001b[0m\u001b[1;33m]\u001b[0m \u001b[1;33m=\u001b[0m \u001b[1;34m\"p\"\u001b[0m\u001b[1;33m\u001b[0m\u001b[1;33m\u001b[0m\u001b[0m\n\u001b[0m",
      "\u001b[1;31mTypeError\u001b[0m: 'str' object does not support item assignment"
     ]
    }
   ],
   "source": [
    "str1[0] = \"p\""
   ]
  },
  {
   "cell_type": "code",
   "execution_count": 4,
   "id": "e50ca7b8",
   "metadata": {},
   "outputs": [],
   "source": [
    "str2 = \"Data Science\""
   ]
  },
  {
   "cell_type": "code",
   "execution_count": 5,
   "id": "4cace2eb",
   "metadata": {},
   "outputs": [
    {
     "data": {
      "text/plain": [
       "'Python'"
      ]
     },
     "execution_count": 5,
     "metadata": {},
     "output_type": "execute_result"
    }
   ],
   "source": [
    "str1"
   ]
  },
  {
   "cell_type": "code",
   "execution_count": 6,
   "id": "5d64f286",
   "metadata": {},
   "outputs": [
    {
     "data": {
      "text/plain": [
       "'Data Science'"
      ]
     },
     "execution_count": 6,
     "metadata": {},
     "output_type": "execute_result"
    }
   ],
   "source": [
    "str2"
   ]
  },
  {
   "cell_type": "code",
   "execution_count": 9,
   "id": "449e9017",
   "metadata": {},
   "outputs": [
    {
     "name": "stdout",
     "output_type": "stream",
     "text": [
      "Str1 = Python\n",
      "Str2 = Data Science\n",
      "Str3 = PythonData Science\n"
     ]
    }
   ],
   "source": [
    "print(f\"Str1 = {str1}\")\n",
    "print(f\"Str2 = {str2}\")\n",
    "str3 = str1 + str2\n",
    "print(f\"Str3 = {str3}\")"
   ]
  },
  {
   "cell_type": "code",
   "execution_count": 10,
   "id": "21b6e433",
   "metadata": {},
   "outputs": [
    {
     "name": "stdout",
     "output_type": "stream",
     "text": [
      "Str1 = Python\n",
      "Str2 = Data Science\n",
      "Str3 = Python Data Science\n"
     ]
    }
   ],
   "source": [
    "print(f\"Str1 = {str1}\")\n",
    "print(f\"Str2 = {str2}\")\n",
    "str3 = str1 + \" \" + str2\n",
    "print(f\"Str3 = {str3}\")"
   ]
  },
  {
   "cell_type": "code",
   "execution_count": 11,
   "id": "f6a7fc9a",
   "metadata": {},
   "outputs": [
    {
     "name": "stdout",
     "output_type": "stream",
     "text": [
      "Str1 = Python\n",
      "Str2 = Data Science\n",
      "Str3 = Python Data Science\n"
     ]
    }
   ],
   "source": [
    "print(f\"Str1 = {str1}\")\n",
    "print(f\"Str2 = {str2}\")\n",
    "str3 = str1 + ' ' + str2\n",
    "print(f\"Str3 = {str3}\")"
   ]
  },
  {
   "cell_type": "code",
   "execution_count": 12,
   "id": "946903e4",
   "metadata": {},
   "outputs": [
    {
     "name": "stdout",
     "output_type": "stream",
     "text": [
      "Str1 = Python\n",
      "Str2 = Data Science\n",
      "Str3 = Python&Data Science\n"
     ]
    }
   ],
   "source": [
    "print(f\"Str1 = {str1}\")\n",
    "print(f\"Str2 = {str2}\")\n",
    "str3 = str1 + '&' + str2\n",
    "print(f\"Str3 = {str3}\")"
   ]
  },
  {
   "cell_type": "code",
   "execution_count": 13,
   "id": "5965e401",
   "metadata": {},
   "outputs": [
    {
     "name": "stdout",
     "output_type": "stream",
     "text": [
      "Str1 = 10\n",
      "Str2 = 20\n",
      "Str3 = 1020\n"
     ]
    }
   ],
   "source": [
    "str1 = \"10\"\n",
    "str2 = '20'\n",
    "print(f\"Str1 = {str1}\")\n",
    "print(f\"Str2 = {str2}\")\n",
    "str3 = str1 +  str2\n",
    "print(f\"Str3 = {str3}\")"
   ]
  },
  {
   "cell_type": "code",
   "execution_count": 15,
   "id": "0af68eb4",
   "metadata": {},
   "outputs": [
    {
     "name": "stdout",
     "output_type": "stream",
     "text": [
      "Str1 = 10\n",
      "Str2 = 20\n",
      "Str3 = 30 and data type = <class 'int'>\n"
     ]
    }
   ],
   "source": [
    "str1 = \"10\"\n",
    "str2 = '20'\n",
    "print(f\"Str1 = {str1}\")\n",
    "print(f\"Str2 = {str2}\")\n",
    "str3 = int(str1) +  int(str2)\n",
    "print(f\"Str3 = {str3} and data type = {type(str3)}\")"
   ]
  },
  {
   "cell_type": "code",
   "execution_count": 16,
   "id": "599aa154",
   "metadata": {},
   "outputs": [
    {
     "ename": "TypeError",
     "evalue": "can only concatenate str (not \"int\") to str",
     "output_type": "error",
     "traceback": [
      "\u001b[1;31m---------------------------------------------------------------------------\u001b[0m",
      "\u001b[1;31mTypeError\u001b[0m                                 Traceback (most recent call last)",
      "\u001b[1;32m<ipython-input-16-34b9498ddd33>\u001b[0m in \u001b[0;36m<module>\u001b[1;34m\u001b[0m\n\u001b[1;32m----> 1\u001b[1;33m \u001b[0mstr1\u001b[0m \u001b[1;33m+\u001b[0m \u001b[1;36m10\u001b[0m\u001b[1;33m\u001b[0m\u001b[1;33m\u001b[0m\u001b[0m\n\u001b[0m",
      "\u001b[1;31mTypeError\u001b[0m: can only concatenate str (not \"int\") to str"
     ]
    }
   ],
   "source": [
    "str1 + 10"
   ]
  },
  {
   "cell_type": "code",
   "execution_count": 17,
   "id": "8b48ddad",
   "metadata": {},
   "outputs": [
    {
     "data": {
      "text/plain": [
       "40"
      ]
     },
     "execution_count": 17,
     "metadata": {},
     "output_type": "execute_result"
    }
   ],
   "source": [
    "str3 + 10"
   ]
  },
  {
   "cell_type": "code",
   "execution_count": 20,
   "id": "6fa5add3",
   "metadata": {},
   "outputs": [
    {
     "data": {
      "text/plain": [
       "'Python'"
      ]
     },
     "execution_count": 20,
     "metadata": {},
     "output_type": "execute_result"
    }
   ],
   "source": [
    "str1 = \"Python\"\n",
    "str1"
   ]
  },
  {
   "cell_type": "code",
   "execution_count": 21,
   "id": "c89fbf75",
   "metadata": {},
   "outputs": [
    {
     "ename": "TypeError",
     "evalue": "can only concatenate str (not \"int\") to str",
     "output_type": "error",
     "traceback": [
      "\u001b[1;31m---------------------------------------------------------------------------\u001b[0m",
      "\u001b[1;31mTypeError\u001b[0m                                 Traceback (most recent call last)",
      "\u001b[1;32m<ipython-input-21-686fa1348b09>\u001b[0m in \u001b[0;36m<module>\u001b[1;34m\u001b[0m\n\u001b[1;32m----> 1\u001b[1;33m \u001b[0mstr1\u001b[0m \u001b[1;33m+\u001b[0m \u001b[1;36m5\u001b[0m\u001b[1;33m\u001b[0m\u001b[1;33m\u001b[0m\u001b[0m\n\u001b[0m",
      "\u001b[1;31mTypeError\u001b[0m: can only concatenate str (not \"int\") to str"
     ]
    }
   ],
   "source": [
    "str1 + 5"
   ]
  },
  {
   "cell_type": "code",
   "execution_count": 23,
   "id": "484f4258",
   "metadata": {},
   "outputs": [
    {
     "data": {
      "text/plain": [
       "'PythonPythonPython'"
      ]
     },
     "execution_count": 23,
     "metadata": {},
     "output_type": "execute_result"
    }
   ],
   "source": [
    "str1 + str1 + str1"
   ]
  },
  {
   "cell_type": "code",
   "execution_count": 24,
   "id": "9a8b113e",
   "metadata": {},
   "outputs": [
    {
     "data": {
      "text/plain": [
       "'PythonPythonPython'"
      ]
     },
     "execution_count": 24,
     "metadata": {},
     "output_type": "execute_result"
    }
   ],
   "source": [
    "str1 * 3"
   ]
  },
  {
   "cell_type": "code",
   "execution_count": 26,
   "id": "9e1ff2b6",
   "metadata": {},
   "outputs": [
    {
     "data": {
      "text/plain": [
       "'Python '"
      ]
     },
     "execution_count": 26,
     "metadata": {},
     "output_type": "execute_result"
    }
   ],
   "source": [
    "str1 = \"Python \"\n",
    "str1"
   ]
  },
  {
   "cell_type": "code",
   "execution_count": 27,
   "id": "80b0c473",
   "metadata": {},
   "outputs": [
    {
     "data": {
      "text/plain": [
       "'Python Python Python '"
      ]
     },
     "execution_count": 27,
     "metadata": {},
     "output_type": "execute_result"
    }
   ],
   "source": [
    "str1 + str1 + str1"
   ]
  },
  {
   "cell_type": "code",
   "execution_count": 30,
   "id": "03af78a9",
   "metadata": {},
   "outputs": [
    {
     "data": {
      "text/plain": [
       "'Python Python Python '"
      ]
     },
     "execution_count": 30,
     "metadata": {},
     "output_type": "execute_result"
    }
   ],
   "source": [
    "str1 * 3"
   ]
  },
  {
   "cell_type": "code",
   "execution_count": 31,
   "id": "c3fe6bde",
   "metadata": {},
   "outputs": [
    {
     "data": {
      "text/plain": [
       "'C:\\\\Users\\\\hp\\\\OneDrive\\\\Desktop\\\\30_July_PythonAndDataScience\\\\08_08_StringFunctions'"
      ]
     },
     "execution_count": 31,
     "metadata": {},
     "output_type": "execute_result"
    }
   ],
   "source": [
    "folder_path = r\"C:\\Users\\hp\\OneDrive\\Desktop\\30_July_PythonAndDataScience\\08_08_StringFunctions\"\n",
    "folder_path"
   ]
  },
  {
   "cell_type": "code",
   "execution_count": 32,
   "id": "58eef29d",
   "metadata": {},
   "outputs": [
    {
     "data": {
      "text/plain": [
       "'String Functions.ipynb'"
      ]
     },
     "execution_count": 32,
     "metadata": {},
     "output_type": "execute_result"
    }
   ],
   "source": [
    "file_name = \"String Functions.ipynb\"\n",
    "file_name"
   ]
  },
  {
   "cell_type": "code",
   "execution_count": 33,
   "id": "7a454a78",
   "metadata": {},
   "outputs": [
    {
     "data": {
      "text/plain": [
       "'C:\\\\Users\\\\hp\\\\OneDrive\\\\Desktop\\\\30_July_PythonAndDataScience\\\\08_08_StringFunctionsString Functions.ipynb'"
      ]
     },
     "execution_count": 33,
     "metadata": {},
     "output_type": "execute_result"
    }
   ],
   "source": [
    "folder_path + file_name"
   ]
  },
  {
   "cell_type": "code",
   "execution_count": 34,
   "id": "75eddf1f",
   "metadata": {},
   "outputs": [
    {
     "data": {
      "text/plain": [
       "'C:\\\\Users\\\\hp\\\\OneDrive\\\\Desktop\\\\30_July_PythonAndDataScience\\\\08_08_StringFunctions\\\\String Functions.ipynb'"
      ]
     },
     "execution_count": 34,
     "metadata": {},
     "output_type": "execute_result"
    }
   ],
   "source": [
    "folder_path + \"\\\\\" + file_name"
   ]
  },
  {
   "cell_type": "code",
   "execution_count": 38,
   "id": "5da3176b",
   "metadata": {},
   "outputs": [
    {
     "data": {
      "text/plain": [
       "'C:\\\\Users\\\\hp\\\\OneDrive\\\\Desktop\\\\30_July_PythonAndDataScience\\\\08_08_StringFunctions\\\\'"
      ]
     },
     "execution_count": 38,
     "metadata": {},
     "output_type": "execute_result"
    }
   ],
   "source": [
    "folder_path = \"C:\\\\Users\\\\hp\\\\OneDrive\\\\Desktop\\\\30_July_PythonAndDataScience\\\\08_08_StringFunctions\\\\\"\n",
    "folder_path"
   ]
  },
  {
   "cell_type": "code",
   "execution_count": 39,
   "id": "d65f2cfa",
   "metadata": {},
   "outputs": [
    {
     "data": {
      "text/plain": [
       "'String Functions.ipynb'"
      ]
     },
     "execution_count": 39,
     "metadata": {},
     "output_type": "execute_result"
    }
   ],
   "source": [
    "file_name"
   ]
  },
  {
   "cell_type": "code",
   "execution_count": 40,
   "id": "8f0b9157",
   "metadata": {},
   "outputs": [
    {
     "data": {
      "text/plain": [
       "'C:\\\\Users\\\\hp\\\\OneDrive\\\\Desktop\\\\30_July_PythonAndDataScience\\\\08_08_StringFunctions\\\\String Functions.ipynb'"
      ]
     },
     "execution_count": 40,
     "metadata": {},
     "output_type": "execute_result"
    }
   ],
   "source": [
    "folder_path + file_name"
   ]
  },
  {
   "cell_type": "markdown",
   "id": "53ad744f",
   "metadata": {},
   "source": [
    "# String Functions\n",
    "### 1. Capitalize()\n",
    "- It will Capitalize only first char of the string(Zero indexed char)\n",
    "\n",
    "- Syntax :\n",
    "    - String_name.capitalize()"
   ]
  },
  {
   "cell_type": "code",
   "execution_count": 42,
   "id": "a32b41de",
   "metadata": {},
   "outputs": [
    {
     "data": {
      "text/plain": [
       "'Python and data science'"
      ]
     },
     "execution_count": 42,
     "metadata": {},
     "output_type": "execute_result"
    }
   ],
   "source": [
    "Str1 = \"python and data science\"\n",
    "Str1.capitalize()"
   ]
  },
  {
   "cell_type": "code",
   "execution_count": 47,
   "id": "949418cf",
   "metadata": {},
   "outputs": [
    {
     "name": "stdout",
     "output_type": "stream",
     "text": [
      "Str1 = python and data science\n",
      "Str2 = Python and data science\n"
     ]
    }
   ],
   "source": [
    "Str1 = \"python and data science\" # Lower Case p\n",
    "print(f\"Str1 = {Str1}\")\n",
    "Str2 = Str1.capitalize()\n",
    "print(f\"Str2 = {Str2}\")"
   ]
  },
  {
   "cell_type": "code",
   "execution_count": 45,
   "id": "a10bbac3",
   "metadata": {},
   "outputs": [
    {
     "name": "stdout",
     "output_type": "stream",
     "text": [
      "Str1 = Python and data science\n",
      "Str2 = Python and data science\n"
     ]
    }
   ],
   "source": [
    "Str1 = \"Python and data science\" # Upper case P\n",
    "print(f\"Str1 = {Str1}\")\n",
    "Str2 = Str1.capitalize()\n",
    "print(f\"Str2 = {Str2}\")"
   ]
  },
  {
   "cell_type": "code",
   "execution_count": 48,
   "id": "51d1ebb0",
   "metadata": {},
   "outputs": [
    {
     "name": "stdout",
     "output_type": "stream",
     "text": [
      "Str1 = machine learning\n",
      "Str2 = Machine learning\n"
     ]
    }
   ],
   "source": [
    "Str1 = \"machine learning\"\n",
    "print(f\"Str1 = {Str1}\")\n",
    "Str2 = Str1.capitalize()\n",
    "print(f\"Str2 = {Str2}\")"
   ]
  },
  {
   "cell_type": "code",
   "execution_count": 49,
   "id": "8aabd74d",
   "metadata": {},
   "outputs": [
    {
     "name": "stdout",
     "output_type": "stream",
     "text": [
      "Str1 = 123\n",
      "Str2 = 123\n"
     ]
    }
   ],
   "source": [
    "Str1 = \"123\"\n",
    "print(f\"Str1 = {Str1}\")\n",
    "Str2 = Str1.capitalize()\n",
    "print(f\"Str2 = {Str2}\")"
   ]
  },
  {
   "cell_type": "markdown",
   "id": "4f1783d7",
   "metadata": {},
   "source": [
    "### 2. Upper()\n",
    "- It will change all lower case char to upper case char\n",
    "\n",
    "- Syntax :\n",
    "    - String_name.upper()"
   ]
  },
  {
   "cell_type": "code",
   "execution_count": 50,
   "id": "3341d513",
   "metadata": {},
   "outputs": [
    {
     "name": "stdout",
     "output_type": "stream",
     "text": [
      "Str1 = python and data science\n",
      "Str2 = PYTHON AND DATA SCIENCE\n"
     ]
    }
   ],
   "source": [
    "str1 = \"python and data science\"\n",
    "print(f\"Str1 = {str1}\")\n",
    "str2 = str1.upper()\n",
    "print(f\"Str2 = {str2}\")"
   ]
  },
  {
   "cell_type": "code",
   "execution_count": 51,
   "id": "ba754798",
   "metadata": {},
   "outputs": [
    {
     "name": "stdout",
     "output_type": "stream",
     "text": [
      "Str1 = PYTHON and data science\n",
      "Str2 = PYTHON AND DATA SCIENCE\n"
     ]
    }
   ],
   "source": [
    "str1 = \"PYTHON and data science\"\n",
    "print(f\"Str1 = {str1}\")\n",
    "str2 = str1.upper()\n",
    "print(f\"Str2 = {str2}\")"
   ]
  },
  {
   "cell_type": "code",
   "execution_count": 52,
   "id": "090cf1e2",
   "metadata": {},
   "outputs": [
    {
     "name": "stdout",
     "output_type": "stream",
     "text": [
      "Str1 = PYTHON and data science 123\n",
      "Str2 = PYTHON AND DATA SCIENCE 123\n"
     ]
    }
   ],
   "source": [
    "str1 = \"PYTHON and data science 123\"\n",
    "print(f\"Str1 = {str1}\")\n",
    "str2 = str1.upper()\n",
    "print(f\"Str2 = {str2}\")"
   ]
  },
  {
   "cell_type": "code",
   "execution_count": 53,
   "id": "ab17d634",
   "metadata": {},
   "outputs": [
    {
     "name": "stdout",
     "output_type": "stream",
     "text": [
      "Str1 = PYTHON\n",
      "Str2 = PYTHON\n"
     ]
    }
   ],
   "source": [
    "str1 = \"PYTHON\"\n",
    "print(f\"Str1 = {str1}\")\n",
    "str2 = str1.upper()\n",
    "print(f\"Str2 = {str2}\")"
   ]
  },
  {
   "cell_type": "code",
   "execution_count": 54,
   "id": "43725110",
   "metadata": {},
   "outputs": [
    {
     "name": "stdout",
     "output_type": "stream",
     "text": [
      "Str1 = python & data science\n",
      "Str2 = PYTHON & DATA SCIENCE\n"
     ]
    }
   ],
   "source": [
    "str1 = \"python & data science\"\n",
    "print(f\"Str1 = {str1}\")\n",
    "str2 = str1.upper()\n",
    "print(f\"Str2 = {str2}\")"
   ]
  },
  {
   "cell_type": "markdown",
   "id": "845a3882",
   "metadata": {},
   "source": [
    "### 3. lower()\n",
    "- It will convert string into lower case\n",
    "\n",
    "- Syntax :\n",
    "    - String_name.lower()"
   ]
  },
  {
   "cell_type": "code",
   "execution_count": 55,
   "id": "d8ed8154",
   "metadata": {},
   "outputs": [
    {
     "name": "stdout",
     "output_type": "stream",
     "text": [
      "Str1 = PYTHON AND DATA SCIENCE\n",
      "Str2 = python and data science\n"
     ]
    }
   ],
   "source": [
    "str1 = \"PYTHON AND DATA SCIENCE\"\n",
    "print(f\"Str1 = {str1}\")\n",
    "str2 = str1.lower()\n",
    "print(f\"Str2 = {str2}\")"
   ]
  },
  {
   "cell_type": "code",
   "execution_count": 56,
   "id": "6868e1bf",
   "metadata": {},
   "outputs": [
    {
     "name": "stdout",
     "output_type": "stream",
     "text": [
      "Str1 = PYTHON & DATA SCIENCE\n",
      "Str2 = python & data science\n"
     ]
    }
   ],
   "source": [
    "str1 = \"PYTHON & DATA SCIENCE\"\n",
    "print(f\"Str1 = {str1}\")\n",
    "str2 = str1.lower()\n",
    "print(f\"Str2 = {str2}\")"
   ]
  },
  {
   "cell_type": "code",
   "execution_count": 57,
   "id": "8d0f27f8",
   "metadata": {},
   "outputs": [
    {
     "name": "stdout",
     "output_type": "stream",
     "text": [
      "Str1 = python & data science\n",
      "Str2 = python & data science\n"
     ]
    }
   ],
   "source": [
    "str1 = \"python & data science\"\n",
    "print(f\"Str1 = {str1}\")\n",
    "str2 = str1.lower()\n",
    "print(f\"Str2 = {str2}\")"
   ]
  },
  {
   "cell_type": "code",
   "execution_count": 58,
   "id": "f707944f",
   "metadata": {},
   "outputs": [
    {
     "name": "stdout",
     "output_type": "stream",
     "text": [
      "Str1 = PYTHON & DATA SCIENCE 123\n",
      "Str2 = python & data science 123\n"
     ]
    }
   ],
   "source": [
    "str1 = \"PYTHON & DATA SCIENCE 123\"\n",
    "print(f\"Str1 = {str1}\")\n",
    "str2 = str1.lower()\n",
    "print(f\"Str2 = {str2}\")"
   ]
  },
  {
   "cell_type": "code",
   "execution_count": 59,
   "id": "10c3d305",
   "metadata": {},
   "outputs": [],
   "source": [
    "adhar_name = \"Vaibhav Panchal\"\n",
    "pan_name = \"VAIBHAV PANCHAL\""
   ]
  },
  {
   "cell_type": "code",
   "execution_count": 60,
   "id": "92c8d1dc",
   "metadata": {},
   "outputs": [
    {
     "data": {
      "text/plain": [
       "'VAIBHAV PANCHAL'"
      ]
     },
     "execution_count": 60,
     "metadata": {},
     "output_type": "execute_result"
    }
   ],
   "source": [
    "adhar_name.upper()"
   ]
  },
  {
   "cell_type": "code",
   "execution_count": 61,
   "id": "5ca9b0f8",
   "metadata": {},
   "outputs": [
    {
     "data": {
      "text/plain": [
       "'VAIBHAV PANCHAL'"
      ]
     },
     "execution_count": 61,
     "metadata": {},
     "output_type": "execute_result"
    }
   ],
   "source": [
    "pan_name.upper()"
   ]
  },
  {
   "cell_type": "code",
   "execution_count": 62,
   "id": "8828797d",
   "metadata": {},
   "outputs": [
    {
     "data": {
      "text/plain": [
       "True"
      ]
     },
     "execution_count": 62,
     "metadata": {},
     "output_type": "execute_result"
    }
   ],
   "source": [
    "\"Hi\" == \"Hi\""
   ]
  },
  {
   "cell_type": "code",
   "execution_count": 63,
   "id": "d831a907",
   "metadata": {},
   "outputs": [
    {
     "data": {
      "text/plain": [
       "False"
      ]
     },
     "execution_count": 63,
     "metadata": {},
     "output_type": "execute_result"
    }
   ],
   "source": [
    "\"Hi\" == \"Hi1\""
   ]
  },
  {
   "cell_type": "code",
   "execution_count": 64,
   "id": "d94c13e4",
   "metadata": {},
   "outputs": [
    {
     "data": {
      "text/plain": [
       "False"
      ]
     },
     "execution_count": 64,
     "metadata": {},
     "output_type": "execute_result"
    }
   ],
   "source": [
    "pan_name == adhar_name"
   ]
  },
  {
   "cell_type": "code",
   "execution_count": 65,
   "id": "baa83e68",
   "metadata": {},
   "outputs": [
    {
     "data": {
      "text/plain": [
       "True"
      ]
     },
     "execution_count": 65,
     "metadata": {},
     "output_type": "execute_result"
    }
   ],
   "source": [
    "pan_name.upper() == adhar_name.upper()"
   ]
  },
  {
   "cell_type": "code",
   "execution_count": 66,
   "id": "1fc1a4f5",
   "metadata": {},
   "outputs": [
    {
     "data": {
      "text/plain": [
       "True"
      ]
     },
     "execution_count": 66,
     "metadata": {},
     "output_type": "execute_result"
    }
   ],
   "source": [
    "pan_name.lower() == adhar_name.lower()"
   ]
  },
  {
   "cell_type": "markdown",
   "id": "7b676e1f",
   "metadata": {},
   "source": [
    "### 4. title()\n",
    "- It will capitalize the first char of each word in the upper case\n",
    "\n",
    "- Syntax :\n",
    "    - String_name.title()"
   ]
  },
  {
   "cell_type": "code",
   "execution_count": 69,
   "id": "2aef5a72",
   "metadata": {},
   "outputs": [
    {
     "name": "stdout",
     "output_type": "stream",
     "text": [
      "Str1 = python & data science\n",
      "Str2 = Python & Data Science\n"
     ]
    }
   ],
   "source": [
    "str1 = \"python & data science\"\n",
    "print(f\"Str1 = {str1}\")\n",
    "str2 = str1.title()\n",
    "print(f\"Str2 = {str2}\")"
   ]
  },
  {
   "cell_type": "code",
   "execution_count": 70,
   "id": "5d575e44",
   "metadata": {},
   "outputs": [
    {
     "data": {
      "text/plain": [
       "'S'"
      ]
     },
     "execution_count": 70,
     "metadata": {},
     "output_type": "execute_result"
    }
   ],
   "source": [
    "\"s\".upper()"
   ]
  },
  {
   "cell_type": "code",
   "execution_count": 74,
   "id": "2a5f7201",
   "metadata": {},
   "outputs": [
    {
     "name": "stdout",
     "output_type": "stream",
     "text": [
      "1\n",
      "2\n",
      "3\n",
      "4\n",
      "5\n",
      "6\n",
      "7\n",
      "8\n",
      "9\n",
      "10\n",
      "11\n",
      "12\n",
      "13\n",
      "14\n"
     ]
    }
   ],
   "source": [
    "for i in range(1,15):\n",
    "    print(i)"
   ]
  },
  {
   "cell_type": "code",
   "execution_count": null,
   "id": "c7321bd6",
   "metadata": {},
   "outputs": [],
   "source": []
  }
 ],
 "metadata": {
  "kernelspec": {
   "display_name": "Python 3 (ipykernel)",
   "language": "python",
   "name": "python3"
  },
  "language_info": {
   "codemirror_mode": {
    "name": "ipython",
    "version": 3
   },
   "file_extension": ".py",
   "mimetype": "text/x-python",
   "name": "python",
   "nbconvert_exporter": "python",
   "pygments_lexer": "ipython3",
   "version": "3.9.12"
  }
 },
 "nbformat": 4,
 "nbformat_minor": 5
}
