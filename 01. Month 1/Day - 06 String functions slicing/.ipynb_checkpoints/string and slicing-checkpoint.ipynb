{
 "cells": [
  {
   "cell_type": "markdown",
   "id": "5141f4d7",
   "metadata": {},
   "source": [
    "# String and slicing \n",
    " - here the range of slicing is variable[start_index : end_index : step_index]\n",
    " - the range is [staring_index : upto_number but not included]   "
   ]
  },
  {
   "cell_type": "code",
   "execution_count": 1,
   "id": "2cfe12a9",
   "metadata": {},
   "outputs": [],
   "source": [
    "str_1 = \"pyhton and data science\""
   ]
  },
  {
   "cell_type": "code",
   "execution_count": 3,
   "id": "f8093510",
   "metadata": {},
   "outputs": [
    {
     "data": {
      "text/plain": [
       "'y'"
      ]
     },
     "execution_count": 3,
     "metadata": {},
     "output_type": "execute_result"
    }
   ],
   "source": [
    "str_1[1]"
   ]
  },
  {
   "cell_type": "code",
   "execution_count": 4,
   "id": "d779284a",
   "metadata": {},
   "outputs": [
    {
     "data": {
      "text/plain": [
       "'e'"
      ]
     },
     "execution_count": 4,
     "metadata": {},
     "output_type": "execute_result"
    }
   ],
   "source": [
    "str_1[-1]"
   ]
  },
  {
   "cell_type": "code",
   "execution_count": 5,
   "id": "9831eaa0",
   "metadata": {},
   "outputs": [
    {
     "data": {
      "text/plain": [
       "'pyhton and data science'"
      ]
     },
     "execution_count": 5,
     "metadata": {},
     "output_type": "execute_result"
    }
   ],
   "source": [
    "str_1[:]"
   ]
  },
  {
   "cell_type": "code",
   "execution_count": 7,
   "id": "84e2215e",
   "metadata": {},
   "outputs": [
    {
     "data": {
      "text/plain": [
       "'yhton and data science'"
      ]
     },
     "execution_count": 7,
     "metadata": {},
     "output_type": "execute_result"
    }
   ],
   "source": [
    "str_1[1:]"
   ]
  },
  {
   "cell_type": "code",
   "execution_count": 9,
   "id": "26a2fce8",
   "metadata": {},
   "outputs": [
    {
     "data": {
      "text/plain": [
       "'pyhton and d'"
      ]
     },
     "execution_count": 9,
     "metadata": {},
     "output_type": "execute_result"
    }
   ],
   "source": [
    "str_1[0:12] # here 12th index is 'a' but he did't included it"
   ]
  },
  {
   "cell_type": "code",
   "execution_count": 10,
   "id": "d8c0651f",
   "metadata": {},
   "outputs": [
    {
     "data": {
      "text/plain": [
       "'pyhton and da'"
      ]
     },
     "execution_count": 10,
     "metadata": {},
     "output_type": "execute_result"
    }
   ],
   "source": [
    "# to include the end_variable we need to take i+1\n",
    "\n",
    "str_1[0:13] # str_1[0 : 12 +1]"
   ]
  },
  {
   "cell_type": "markdown",
   "id": "1285d12e",
   "metadata": {},
   "source": [
    "# reverse string"
   ]
  },
  {
   "cell_type": "code",
   "execution_count": 22,
   "id": "c433e4af",
   "metadata": {},
   "outputs": [
    {
     "data": {
      "text/plain": [
       "6"
      ]
     },
     "execution_count": 22,
     "metadata": {},
     "output_type": "execute_result"
    }
   ],
   "source": [
    "str_1 = \"python\"\n",
    "len(str_1)"
   ]
  },
  {
   "cell_type": "code",
   "execution_count": 23,
   "id": "982d1d62",
   "metadata": {},
   "outputs": [
    {
     "data": {
      "text/plain": [
       "'nohtyp'"
      ]
     },
     "execution_count": 23,
     "metadata": {},
     "output_type": "execute_result"
    }
   ],
   "source": [
    "str_1[::-1]"
   ]
  },
  {
   "cell_type": "code",
   "execution_count": 27,
   "id": "f4510b14",
   "metadata": {},
   "outputs": [
    {
     "data": {
      "text/plain": [
       "'ot'"
      ]
     },
     "execution_count": 27,
     "metadata": {},
     "output_type": "execute_result"
    }
   ],
   "source": [
    "str_1[-2:-6:-2]"
   ]
  },
  {
   "cell_type": "code",
   "execution_count": 30,
   "id": "c59c0b96",
   "metadata": {},
   "outputs": [
    {
     "data": {
      "text/plain": [
       "'ot'"
      ]
     },
     "execution_count": 30,
     "metadata": {},
     "output_type": "execute_result"
    }
   ],
   "source": [
    "str_1[len(str_1)-2: -len(str_1): -2]"
   ]
  },
  {
   "cell_type": "code",
   "execution_count": 35,
   "id": "00582fe4",
   "metadata": {},
   "outputs": [
    {
     "data": {
      "text/plain": [
       "'t'"
      ]
     },
     "execution_count": 35,
     "metadata": {},
     "output_type": "execute_result"
    }
   ],
   "source": [
    "str_1[-4: -6: -2]"
   ]
  },
  {
   "cell_type": "code",
   "execution_count": 54,
   "id": "66688a9e",
   "metadata": {},
   "outputs": [
    {
     "name": "stdout",
     "output_type": "stream",
     "text": [
      "Python And Data Science "
     ]
    }
   ],
   "source": [
    "st = \"python and data science\"\n",
    "\n",
    "for word in st.split():\n",
    "    print(word.capitalize(),end=\" \")\n"
   ]
  },
  {
   "cell_type": "code",
   "execution_count": null,
   "id": "cf9382a7",
   "metadata": {},
   "outputs": [],
   "source": []
  },
  {
   "cell_type": "code",
   "execution_count": null,
   "id": "cba0afa8",
   "metadata": {},
   "outputs": [],
   "source": []
  }
 ],
 "metadata": {
  "kernelspec": {
   "display_name": "Python 3 (ipykernel)",
   "language": "python",
   "name": "python3"
  },
  "language_info": {
   "codemirror_mode": {
    "name": "ipython",
    "version": 3
   },
   "file_extension": ".py",
   "mimetype": "text/x-python",
   "name": "python",
   "nbconvert_exporter": "python",
   "pygments_lexer": "ipython3",
   "version": "3.9.12"
  }
 },
 "nbformat": 4,
 "nbformat_minor": 5
}
