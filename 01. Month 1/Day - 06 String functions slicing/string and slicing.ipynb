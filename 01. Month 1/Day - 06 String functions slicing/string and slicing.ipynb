{
 "cells": [
  {
   "cell_type": "markdown",
   "id": "4ce6f335",
   "metadata": {},
   "source": [
    "# String and slicing \n",
    " - here the range of slicing is variable[start_index : end_index : step_index]\n",
    " - the range is [staring_index : upto_number but not included]   "
   ]
  },
  {
   "cell_type": "code",
   "execution_count": 1,
   "id": "a0dd0467",
   "metadata": {},
   "outputs": [],
   "source": [
    "str_1 = \"pyhton and data science\""
   ]
  },
  {
   "cell_type": "code",
   "execution_count": 3,
   "id": "f70da467",
   "metadata": {},
   "outputs": [
    {
     "data": {
      "text/plain": [
       "'y'"
      ]
     },
     "execution_count": 3,
     "metadata": {},
     "output_type": "execute_result"
    }
   ],
   "source": [
    "str_1[1]"
   ]
  },
  {
   "cell_type": "code",
   "execution_count": 4,
   "id": "97ab1f59",
   "metadata": {},
   "outputs": [
    {
     "data": {
      "text/plain": [
       "'e'"
      ]
     },
     "execution_count": 4,
     "metadata": {},
     "output_type": "execute_result"
    }
   ],
   "source": [
    "str_1[-1]"
   ]
  },
  {
   "cell_type": "code",
   "execution_count": 5,
   "id": "98ddcb05",
   "metadata": {},
   "outputs": [
    {
     "data": {
      "text/plain": [
       "'pyhton and data science'"
      ]
     },
     "execution_count": 5,
     "metadata": {},
     "output_type": "execute_result"
    }
   ],
   "source": [
    "str_1[:]"
   ]
  },
  {
   "cell_type": "code",
   "execution_count": 7,
   "id": "ca4778a4",
   "metadata": {},
   "outputs": [
    {
     "data": {
      "text/plain": [
       "'yhton and data science'"
      ]
     },
     "execution_count": 7,
     "metadata": {},
     "output_type": "execute_result"
    }
   ],
   "source": [
    "str_1[1:]"
   ]
  },
  {
   "cell_type": "code",
   "execution_count": 9,
   "id": "ab256ef9",
   "metadata": {},
   "outputs": [
    {
     "data": {
      "text/plain": [
       "'pyhton and d'"
      ]
     },
     "execution_count": 9,
     "metadata": {},
     "output_type": "execute_result"
    }
   ],
   "source": [
    "str_1[0:12] # here 12th index is 'a' but he did't included it"
   ]
  },
  {
   "cell_type": "code",
   "execution_count": 10,
   "id": "346b8ba1",
   "metadata": {},
   "outputs": [
    {
     "data": {
      "text/plain": [
       "'pyhton and da'"
      ]
     },
     "execution_count": 10,
     "metadata": {},
     "output_type": "execute_result"
    }
   ],
   "source": [
    "# to include the end_variable we need to take i+1\n",
    "\n",
    "str_1[0:13] # str_1[0 : 12 +1]"
   ]
  },
  {
   "cell_type": "markdown",
   "id": "8f965d98",
   "metadata": {},
   "source": [
    "# reverse string"
   ]
  },
  {
   "cell_type": "code",
   "execution_count": 22,
   "id": "394df940",
   "metadata": {},
   "outputs": [
    {
     "data": {
      "text/plain": [
       "6"
      ]
     },
     "execution_count": 22,
     "metadata": {},
     "output_type": "execute_result"
    }
   ],
   "source": [
    "str_1 = \"python\"\n",
    "len(str_1)"
   ]
  },
  {
   "cell_type": "code",
   "execution_count": 23,
   "id": "c0908db8",
   "metadata": {},
   "outputs": [
    {
     "data": {
      "text/plain": [
       "'nohtyp'"
      ]
     },
     "execution_count": 23,
     "metadata": {},
     "output_type": "execute_result"
    }
   ],
   "source": [
    "str_1[::-1]"
   ]
  },
  {
   "cell_type": "code",
   "execution_count": 27,
   "id": "2fd8bb43",
   "metadata": {},
   "outputs": [
    {
     "data": {
      "text/plain": [
       "'ot'"
      ]
     },
     "execution_count": 27,
     "metadata": {},
     "output_type": "execute_result"
    }
   ],
   "source": [
    "str_1[-2:-6:-2]"
   ]
  },
  {
   "cell_type": "code",
   "execution_count": 30,
   "id": "0f46d557",
   "metadata": {},
   "outputs": [
    {
     "data": {
      "text/plain": [
       "'ot'"
      ]
     },
     "execution_count": 30,
     "metadata": {},
     "output_type": "execute_result"
    }
   ],
   "source": [
    "str_1[len(str_1)-2: -len(str_1): -2]"
   ]
  },
  {
   "cell_type": "code",
   "execution_count": 35,
   "id": "2fcdb1e8",
   "metadata": {},
   "outputs": [
    {
     "data": {
      "text/plain": [
       "'t'"
      ]
     },
     "execution_count": 35,
     "metadata": {},
     "output_type": "execute_result"
    }
   ],
   "source": [
    "str_1[-4: -6: -2]"
   ]
  },
  {
   "cell_type": "code",
   "execution_count": 54,
   "id": "711e97d6",
   "metadata": {},
   "outputs": [
    {
     "name": "stdout",
     "output_type": "stream",
     "text": [
      "Python And Data Science "
     ]
    }
   ],
   "source": [
    "st = \"python and data science\"\n",
    "\n",
    "for word in st.split():\n",
    "    print(word.capitalize(),end=\" \")\n"
   ]
  },
  {
   "cell_type": "code",
   "execution_count": 66,
   "id": "1231547c",
   "metadata": {},
   "outputs": [
    {
     "data": {
      "text/plain": [
       "'e'"
      ]
     },
     "execution_count": 66,
     "metadata": {},
     "output_type": "execute_result"
    }
   ],
   "source": [
    "st[len(st)-1]"
   ]
  },
  {
   "cell_type": "code",
   "execution_count": 76,
   "id": "4f7c0389",
   "metadata": {},
   "outputs": [
    {
     "name": "stdout",
     "output_type": "stream",
     "text": [
      "letter: P is at index: 0\n",
      "letter: Y is at index: 1\n",
      "letter: T is at index: 2\n",
      "letter: H is at index: 3\n",
      "letter: O is at index: 4\n",
      "letter: N is at index: 5\n",
      "letter:   is at index: 6\n",
      "S     P     A     C     E\n",
      "letter: A is at index: 7\n",
      "letter: N is at index: 8\n",
      "letter: D is at index: 9\n",
      "letter:   is at index: 10\n",
      "S     P     A     C     E\n",
      "letter: D is at index: 11\n",
      "letter: A is at index: 12\n",
      "letter: T is at index: 13\n",
      "letter: A is at index: 14\n",
      "letter:   is at index: 15\n",
      "S     P     A     C     E\n",
      "letter: S is at index: 16\n",
      "letter: C is at index: 17\n",
      "letter: I is at index: 18\n",
      "letter: E is at index: 19\n",
      "letter: N is at index: 20\n",
      "letter: C is at index: 21\n",
      "letter: E is at index: 22\n"
     ]
    }
   ],
   "source": [
    "# print index_number and the indexed number letter\n",
    "index_num = 0\n",
    "for word in st:\n",
    "    print(f\"letter: {word.capitalize()} is at index: {index_num}\")\n",
    "    index_num += 1\n",
    "    if word == \" \":\n",
    "        print(\"S     P     A     C     E\")"
   ]
  },
  {
   "cell_type": "code",
   "execution_count": 71,
   "id": "9d8140b6",
   "metadata": {},
   "outputs": [
    {
     "data": {
      "text/plain": [
       "23"
      ]
     },
     "execution_count": 71,
     "metadata": {},
     "output_type": "execute_result"
    }
   ],
   "source": [
    "len(st)"
   ]
  },
  {
   "cell_type": "code",
   "execution_count": 83,
   "id": "4c1ed6cb",
   "metadata": {},
   "outputs": [
    {
     "name": "stdout",
     "output_type": "stream",
     "text": [
      "letter: p at index: 0\n",
      "letter: y at index: 1\n",
      "letter: t at index: 2\n",
      "letter: h at index: 3\n",
      "letter: o at index: 4\n",
      "letter: n at index: 5\n",
      "letter:   at index: 6\n",
      "letter: a at index: 7\n",
      "letter: n at index: 8\n",
      "letter: d at index: 9\n",
      "letter:   at index: 10\n",
      "letter: d at index: 11\n",
      "letter: a at index: 12\n",
      "letter: t at index: 13\n",
      "letter: a at index: 14\n",
      "letter:   at index: 15\n",
      "letter: s at index: 16\n",
      "letter: c at index: 17\n",
      "letter: i at index: 18\n",
      "letter: e at index: 19\n",
      "letter: n at index: 20\n",
      "letter: c at index: 21\n",
      "letter: e at index: 22\n"
     ]
    }
   ],
   "source": [
    "for index,char in enumerate(st):\n",
    "    print(f\"letter: {char} at index: {index}\")"
   ]
  },
  {
   "cell_type": "code",
   "execution_count": 98,
   "id": "d72177b9",
   "metadata": {},
   "outputs": [
    {
     "name": "stdout",
     "output_type": "stream",
     "text": [
      "index is: 0\n",
      "letter is: p\n",
      "------------------------------\n",
      "index is: 1\n",
      "letter is: y\n",
      "------------------------------\n",
      "index is: 2\n",
      "letter is: t\n",
      "------------------------------\n",
      "index is: 3\n",
      "letter is: h\n",
      "------------------------------\n",
      "index is: 4\n",
      "letter is: o\n",
      "------------------------------\n",
      "index is: 5\n",
      "letter is: n\n",
      "------------------------------\n",
      "index is: 6\n",
      "letter is:  \n",
      "------------------------------\n",
      "index is: 7\n",
      "letter is: a\n",
      "------------------------------\n",
      "index is: 8\n",
      "letter is: n\n",
      "------------------------------\n",
      "index is: 9\n",
      "letter is: d\n",
      "------------------------------\n",
      "index is: 10\n",
      "letter is:  \n",
      "------------------------------\n",
      "index is: 11\n",
      "letter is: d\n",
      "------------------------------\n",
      "index is: 12\n",
      "letter is: a\n",
      "------------------------------\n",
      "index is: 13\n",
      "letter is: t\n",
      "------------------------------\n",
      "index is: 14\n",
      "letter is: a\n",
      "------------------------------\n",
      "index is: 15\n",
      "letter is:  \n",
      "------------------------------\n",
      "index is: 16\n",
      "letter is: s\n",
      "------------------------------\n",
      "index is: 17\n",
      "letter is: c\n",
      "------------------------------\n",
      "index is: 18\n",
      "letter is: i\n",
      "------------------------------\n",
      "index is: 19\n",
      "letter is: e\n",
      "------------------------------\n",
      "index is: 20\n",
      "letter is: n\n",
      "------------------------------\n",
      "index is: 21\n",
      "letter is: c\n",
      "------------------------------\n",
      "index is: 22\n",
      "letter is: e\n",
      "------------------------------\n"
     ]
    }
   ],
   "source": [
    "index_numb = 0\n",
    "for char in st:\n",
    "    print(f\"index is: {index_numb}\")\n",
    "    print(f\"letter is: {st[index_numb]}\")  # python[0] == p  # st[index_num] == 'letter'\n",
    "    print(\"-\"*30)\n",
    "    index_numb += 1\n",
    "    "
   ]
  },
  {
   "cell_type": "code",
   "execution_count": 100,
   "id": "4a6649ca",
   "metadata": {},
   "outputs": [],
   "source": [
    "# count spaces"
   ]
  },
  {
   "cell_type": "code",
   "execution_count": 101,
   "id": "a588478f",
   "metadata": {},
   "outputs": [
    {
     "data": {
      "text/plain": [
       "'python and data science'"
      ]
     },
     "execution_count": 101,
     "metadata": {},
     "output_type": "execute_result"
    }
   ],
   "source": [
    "st"
   ]
  },
  {
   "cell_type": "code",
   "execution_count": 104,
   "id": "fc03edad",
   "metadata": {},
   "outputs": [
    {
     "name": "stdout",
     "output_type": "stream",
     "text": [
      "3\n"
     ]
    }
   ],
   "source": [
    "cnt = 0 \n",
    "for space in st:\n",
    "    if space.isspace():\n",
    "        cnt+=1\n",
    "print(cnt)"
   ]
  },
  {
   "cell_type": "code",
   "execution_count": null,
   "id": "ed3a993d",
   "metadata": {},
   "outputs": [],
   "source": []
  }
 ],
 "metadata": {
  "kernelspec": {
   "display_name": "Python 3 (ipykernel)",
   "language": "python",
   "name": "python3"
  },
  "language_info": {
   "codemirror_mode": {
    "name": "ipython",
    "version": 3
   },
   "file_extension": ".py",
   "mimetype": "text/x-python",
   "name": "python",
   "nbconvert_exporter": "python",
   "pygments_lexer": "ipython3",
   "version": "3.9.12"
  }
 },
 "nbformat": 4,
 "nbformat_minor": 5
}
