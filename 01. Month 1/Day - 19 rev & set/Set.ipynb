{
 "cells": [
  {
   "cell_type": "markdown",
   "id": "0d8c3227",
   "metadata": {},
   "source": [
    "# Set"
   ]
  },
  {
   "cell_type": "markdown",
   "id": "59fa4492",
   "metadata": {},
   "source": [
    "# Delete\n",
    "- 1. remove()\n",
    "- 2. discard()\n",
    "- 3. pop()\n",
    "- 4. clear()"
   ]
  },
  {
   "cell_type": "markdown",
   "id": "5a27021b",
   "metadata": {},
   "source": [
    "### 1. remove()\n",
    "- set.remove(item)"
   ]
  },
  {
   "cell_type": "code",
   "execution_count": 1,
   "id": "5a32f5bd",
   "metadata": {},
   "outputs": [
    {
     "name": "stdout",
     "output_type": "stream",
     "text": [
      "Before remove operation = {'C', 'C++', 'Java', 'Python', 'R'}\n",
      "Enter a language to remove from a set.....C\n",
      "After remove operation  = {'C++', 'Java', 'Python', 'R'}\n"
     ]
    }
   ],
   "source": [
    "lang_set = {'C++', 'Java', 'C', 'Python', 'R'}\n",
    "print(f\"Before remove operation = {lang_set}\")\n",
    "item = input(\"Enter a language to remove from a set.....\")\n",
    "lang_set.remove(item)\n",
    "print(f\"After remove operation  = {lang_set}\")"
   ]
  },
  {
   "cell_type": "code",
   "execution_count": 2,
   "id": "bab2beb0",
   "metadata": {},
   "outputs": [
    {
     "name": "stdout",
     "output_type": "stream",
     "text": [
      "Before remove operation = {'C', 'C++', 'Java', 'Python', 'R'}\n",
      "Enter a language to remove from a set.....Python\n",
      "After remove operation  = {'C', 'C++', 'Java', 'R'}\n"
     ]
    }
   ],
   "source": [
    "lang_set = {'C++', 'Java', 'C', 'Python', 'R'}\n",
    "print(f\"Before remove operation = {lang_set}\")\n",
    "item = input(\"Enter a language to remove from a set.....\")\n",
    "lang_set.remove(item)\n",
    "print(f\"After remove operation  = {lang_set}\")"
   ]
  },
  {
   "cell_type": "code",
   "execution_count": 3,
   "id": "5df06116",
   "metadata": {},
   "outputs": [
    {
     "name": "stdout",
     "output_type": "stream",
     "text": [
      "Before remove operation = {'C', 'C++', 'Java', 'Python', 'R'}\n",
      "Enter a language to remove from a set.....Cplusplus\n"
     ]
    },
    {
     "ename": "KeyError",
     "evalue": "'Cplusplus'",
     "output_type": "error",
     "traceback": [
      "\u001b[1;31m---------------------------------------------------------------------------\u001b[0m",
      "\u001b[1;31mKeyError\u001b[0m                                  Traceback (most recent call last)",
      "Input \u001b[1;32mIn [3]\u001b[0m, in \u001b[0;36m<cell line: 4>\u001b[1;34m()\u001b[0m\n\u001b[0;32m      2\u001b[0m \u001b[38;5;28mprint\u001b[39m(\u001b[38;5;124mf\u001b[39m\u001b[38;5;124m\"\u001b[39m\u001b[38;5;124mBefore remove operation = \u001b[39m\u001b[38;5;132;01m{\u001b[39;00mlang_set\u001b[38;5;132;01m}\u001b[39;00m\u001b[38;5;124m\"\u001b[39m)\n\u001b[0;32m      3\u001b[0m item \u001b[38;5;241m=\u001b[39m \u001b[38;5;28minput\u001b[39m(\u001b[38;5;124m\"\u001b[39m\u001b[38;5;124mEnter a language to remove from a set.....\u001b[39m\u001b[38;5;124m\"\u001b[39m)\n\u001b[1;32m----> 4\u001b[0m \u001b[43mlang_set\u001b[49m\u001b[38;5;241;43m.\u001b[39;49m\u001b[43mremove\u001b[49m\u001b[43m(\u001b[49m\u001b[43mitem\u001b[49m\u001b[43m)\u001b[49m\n\u001b[0;32m      5\u001b[0m \u001b[38;5;28mprint\u001b[39m(\u001b[38;5;124mf\u001b[39m\u001b[38;5;124m\"\u001b[39m\u001b[38;5;124mAfter remove operation  = \u001b[39m\u001b[38;5;132;01m{\u001b[39;00mlang_set\u001b[38;5;132;01m}\u001b[39;00m\u001b[38;5;124m\"\u001b[39m)\n",
      "\u001b[1;31mKeyError\u001b[0m: 'Cplusplus'"
     ]
    }
   ],
   "source": [
    "lang_set = {'C++', 'Java', 'C', 'Python', 'R'}\n",
    "print(f\"Before remove operation = {lang_set}\")\n",
    "item = input(\"Enter a language to remove from a set.....\")\n",
    "lang_set.remove(item)\n",
    "print(f\"After remove operation  = {lang_set}\")"
   ]
  },
  {
   "cell_type": "code",
   "execution_count": 5,
   "id": "22df4cea",
   "metadata": {},
   "outputs": [
    {
     "name": "stdout",
     "output_type": "stream",
     "text": [
      "Before remove operation = {'C', 'C++', 'Java', 'Python', 'R'}\n",
      "Enter a language to remove from a set.....r\n",
      "Item not present in a set\n",
      "After remove operation  = {'C', 'C++', 'Java', 'Python', 'R'}\n"
     ]
    }
   ],
   "source": [
    "lang_set = {'C++', 'Java', 'C', 'Python', 'R'}\n",
    "print(f\"Before remove operation = {lang_set}\")\n",
    "item = input(\"Enter a language to remove from a set.....\")\n",
    "if item in lang_set:\n",
    "    lang_set.remove(item)\n",
    "else:\n",
    "    print(\"Item not present in a set\")\n",
    "print(f\"After remove operation  = {lang_set}\")"
   ]
  },
  {
   "cell_type": "code",
   "execution_count": 6,
   "id": "a2bee791",
   "metadata": {},
   "outputs": [
    {
     "name": "stdout",
     "output_type": "stream",
     "text": [
      "Before remove operation = {'C', 'C++', 'Java', 'Python', 'R'}\n",
      "Enter a language to remove from a set.....Python\n",
      "After remove operation  = {'C', 'C++', 'Java', 'R'}\n"
     ]
    }
   ],
   "source": [
    "lang_set = {'C++', 'Java', 'C', 'Python', 'R'}\n",
    "print(f\"Before remove operation = {lang_set}\")\n",
    "item = input(\"Enter a language to remove from a set.....\")\n",
    "if item in lang_set:\n",
    "    lang_set.remove(item)\n",
    "else:\n",
    "    print(\"Item not present in a set\")\n",
    "print(f\"After remove operation  = {lang_set}\")"
   ]
  },
  {
   "cell_type": "markdown",
   "id": "4aa1a856",
   "metadata": {},
   "source": [
    "### 2. discard()"
   ]
  },
  {
   "cell_type": "code",
   "execution_count": 7,
   "id": "8b37ca9d",
   "metadata": {},
   "outputs": [
    {
     "name": "stdout",
     "output_type": "stream",
     "text": [
      "Before remove operation = {'C', 'C++', 'Java', 'Python', 'R'}\n",
      "Enter a language to remove from a set.....Python\n",
      "After remove operation  = {'C', 'C++', 'Java', 'R'}\n"
     ]
    }
   ],
   "source": [
    "lang_set = {'C++', 'Java', 'C', 'Python', 'R'}\n",
    "print(f\"Before remove operation = {lang_set}\")\n",
    "item = input(\"Enter a language to remove from a set.....\")\n",
    "lang_set.remove(item)\n",
    "print(f\"After remove operation  = {lang_set}\")"
   ]
  },
  {
   "cell_type": "code",
   "execution_count": 8,
   "id": "ae04f039",
   "metadata": {},
   "outputs": [
    {
     "name": "stdout",
     "output_type": "stream",
     "text": [
      "Before remove operation = {'C', 'C++', 'Java', 'Python', 'R'}\n",
      "Enter a language to remove from a set.....python\n"
     ]
    },
    {
     "ename": "KeyError",
     "evalue": "'python'",
     "output_type": "error",
     "traceback": [
      "\u001b[1;31m---------------------------------------------------------------------------\u001b[0m",
      "\u001b[1;31mKeyError\u001b[0m                                  Traceback (most recent call last)",
      "Input \u001b[1;32mIn [8]\u001b[0m, in \u001b[0;36m<cell line: 4>\u001b[1;34m()\u001b[0m\n\u001b[0;32m      2\u001b[0m \u001b[38;5;28mprint\u001b[39m(\u001b[38;5;124mf\u001b[39m\u001b[38;5;124m\"\u001b[39m\u001b[38;5;124mBefore remove operation = \u001b[39m\u001b[38;5;132;01m{\u001b[39;00mlang_set\u001b[38;5;132;01m}\u001b[39;00m\u001b[38;5;124m\"\u001b[39m)\n\u001b[0;32m      3\u001b[0m item \u001b[38;5;241m=\u001b[39m \u001b[38;5;28minput\u001b[39m(\u001b[38;5;124m\"\u001b[39m\u001b[38;5;124mEnter a language to remove from a set.....\u001b[39m\u001b[38;5;124m\"\u001b[39m)\n\u001b[1;32m----> 4\u001b[0m \u001b[43mlang_set\u001b[49m\u001b[38;5;241;43m.\u001b[39;49m\u001b[43mremove\u001b[49m\u001b[43m(\u001b[49m\u001b[43mitem\u001b[49m\u001b[43m)\u001b[49m\n\u001b[0;32m      5\u001b[0m \u001b[38;5;28mprint\u001b[39m(\u001b[38;5;124mf\u001b[39m\u001b[38;5;124m\"\u001b[39m\u001b[38;5;124mAfter remove operation  = \u001b[39m\u001b[38;5;132;01m{\u001b[39;00mlang_set\u001b[38;5;132;01m}\u001b[39;00m\u001b[38;5;124m\"\u001b[39m)\n",
      "\u001b[1;31mKeyError\u001b[0m: 'python'"
     ]
    }
   ],
   "source": [
    "lang_set = {'C++', 'Java', 'C', 'Python', 'R'}\n",
    "print(f\"Before remove operation = {lang_set}\")\n",
    "item = input(\"Enter a language to remove from a set.....\")\n",
    "lang_set.remove(item)\n",
    "print(f\"After remove operation  = {lang_set}\")"
   ]
  },
  {
   "cell_type": "code",
   "execution_count": 11,
   "id": "f39ce83d",
   "metadata": {},
   "outputs": [
    {
     "name": "stdout",
     "output_type": "stream",
     "text": [
      "Before discard operation = {'C', 'C++', 'Java', 'Python', 'R'}\n",
      "Enter a language to remove from a set.....Java\n",
      "After discard operation  = {'C', 'C++', 'Python', 'R'}\n"
     ]
    }
   ],
   "source": [
    "lang_set = {'C++', 'Java', 'C', 'Python', 'R'}\n",
    "print(f\"Before discard operation = {lang_set}\")\n",
    "item = input(\"Enter a language to remove from a set.....\")\n",
    "lang_set.discard(item)\n",
    "print(f\"After discard operation  = {lang_set}\")"
   ]
  },
  {
   "cell_type": "code",
   "execution_count": 12,
   "id": "77f06004",
   "metadata": {},
   "outputs": [
    {
     "name": "stdout",
     "output_type": "stream",
     "text": [
      "Before discard operation = {'C', 'C++', 'Java', 'Python', 'R'}\n",
      "Enter a language to remove from a set.....java\n",
      "After discard operation  = {'C', 'C++', 'Java', 'Python', 'R'}\n"
     ]
    }
   ],
   "source": [
    "lang_set = {'C++', 'Java', 'C', 'Python', 'R'}\n",
    "print(f\"Before discard operation = {lang_set}\")\n",
    "item = input(\"Enter a language to remove from a set.....\")\n",
    "lang_set.discard(item)\n",
    "print(f\"After discard operation  = {lang_set}\")"
   ]
  },
  {
   "cell_type": "markdown",
   "id": "0369438d",
   "metadata": {},
   "source": [
    "### 3. pop()\n",
    "- It will delete random elements from a set"
   ]
  },
  {
   "cell_type": "code",
   "execution_count": 15,
   "id": "23ac8366",
   "metadata": {},
   "outputs": [
    {
     "name": "stdout",
     "output_type": "stream",
     "text": [
      "Before pop operation = {'C', 'C++', 'Java', 'Python', 'R'}\n",
      "After  pop operation = {'C++', 'Java', 'Python', 'R'}\n"
     ]
    }
   ],
   "source": [
    "lang_set = {'C++', 'Java', 'C', 'Python', 'R'}\n",
    "print(f\"Before pop operation = {lang_set}\")\n",
    "lang_set.pop()\n",
    "print(f\"After  pop operation = {lang_set}\")"
   ]
  },
  {
   "cell_type": "code",
   "execution_count": 16,
   "id": "9a08bf88",
   "metadata": {},
   "outputs": [
    {
     "name": "stdout",
     "output_type": "stream",
     "text": [
      "Before pop operation = {'C', 'C++', 'Java', 'Python', 'R'}\n",
      "After  pop operation = {'C++', 'Java', 'Python', 'R'}\n"
     ]
    }
   ],
   "source": [
    "lang_set = {'C++', 'Java', 'C', 'Python', 'R'}\n",
    "print(f\"Before pop operation = {lang_set}\")\n",
    "lang_set.pop()\n",
    "print(f\"After  pop operation = {lang_set}\")"
   ]
  },
  {
   "cell_type": "code",
   "execution_count": 17,
   "id": "0f5df53d",
   "metadata": {},
   "outputs": [
    {
     "name": "stdout",
     "output_type": "stream",
     "text": [
      "Before pop operation = {1, 2, 3, 4, 5}\n",
      "After  pop operation = {2, 3, 4, 5}\n"
     ]
    }
   ],
   "source": [
    "lang_set = {1,2,3,4,5}\n",
    "print(f\"Before pop operation = {lang_set}\")\n",
    "lang_set.pop()\n",
    "print(f\"After  pop operation = {lang_set}\")"
   ]
  },
  {
   "cell_type": "code",
   "execution_count": 111,
   "id": "8a76d81a",
   "metadata": {},
   "outputs": [
    {
     "data": {
      "text/plain": [
       "{'bio', 'che', 'eng', 'phy'}"
      ]
     },
     "execution_count": 111,
     "metadata": {},
     "output_type": "execute_result"
    }
   ],
   "source": [
    "sub_name = {'phy','che','math','eng','bio'}\n",
    "sub_name.pop()\n",
    "sub_name"
   ]
  },
  {
   "cell_type": "markdown",
   "id": "d53677b4",
   "metadata": {},
   "source": [
    "### 4. clear()\n",
    "- Used to remove all elements from a set and it returns an empty set-->set()\n"
   ]
  },
  {
   "cell_type": "code",
   "execution_count": 112,
   "id": "c768d521",
   "metadata": {},
   "outputs": [
    {
     "data": {
      "text/plain": [
       "{1, 2, 3, 4, 5, 'C', 'Java', 'Python', 'bio', 'che', 'eng', 'math', 'phy'}"
      ]
     },
     "execution_count": 112,
     "metadata": {},
     "output_type": "execute_result"
    }
   ],
   "source": [
    "set1 = {'phy','che','math','eng','bio',1,2,3,4,5, 'Java', 'C', 'Python'}\n",
    "set1"
   ]
  },
  {
   "cell_type": "code",
   "execution_count": 113,
   "id": "4d362bbc",
   "metadata": {},
   "outputs": [],
   "source": [
    "set1.clear()"
   ]
  },
  {
   "cell_type": "code",
   "execution_count": 114,
   "id": "8dce11a9",
   "metadata": {},
   "outputs": [
    {
     "data": {
      "text/plain": [
       "set()"
      ]
     },
     "execution_count": 114,
     "metadata": {},
     "output_type": "execute_result"
    }
   ],
   "source": [
    "set1"
   ]
  },
  {
   "cell_type": "markdown",
   "id": "76380f5a",
   "metadata": {},
   "source": [
    "### 5. del"
   ]
  },
  {
   "cell_type": "code",
   "execution_count": 115,
   "id": "d2f1c52b",
   "metadata": {},
   "outputs": [
    {
     "data": {
      "text/plain": [
       "{1, 2, 3, 4, 5, 'C', 'Java', 'Python', 'bio', 'che', 'eng', 'math', 'phy'}"
      ]
     },
     "execution_count": 115,
     "metadata": {},
     "output_type": "execute_result"
    }
   ],
   "source": [
    "set1 = {'phy','che','math','eng','bio',1,2,3,4,5, 'Java', 'C', 'Python'}\n",
    "set1"
   ]
  },
  {
   "cell_type": "code",
   "execution_count": 116,
   "id": "cc60f2e5",
   "metadata": {},
   "outputs": [
    {
     "ename": "NameError",
     "evalue": "name 'set1' is not defined",
     "output_type": "error",
     "traceback": [
      "\u001b[1;31m---------------------------------------------------------------------------\u001b[0m",
      "\u001b[1;31mNameError\u001b[0m                                 Traceback (most recent call last)",
      "Input \u001b[1;32mIn [116]\u001b[0m, in \u001b[0;36m<cell line: 2>\u001b[1;34m()\u001b[0m\n\u001b[0;32m      1\u001b[0m \u001b[38;5;28;01mdel\u001b[39;00m set1\n\u001b[1;32m----> 2\u001b[0m \u001b[43mset1\u001b[49m\n",
      "\u001b[1;31mNameError\u001b[0m: name 'set1' is not defined"
     ]
    }
   ],
   "source": [
    "del set1\n",
    "set1"
   ]
  },
  {
   "cell_type": "markdown",
   "id": "f61425b4",
   "metadata": {},
   "source": [
    "# Other functions"
   ]
  },
  {
   "cell_type": "markdown",
   "id": "0e6ec9a4",
   "metadata": {},
   "source": [
    "## 1. intersection() "
   ]
  },
  {
   "cell_type": "code",
   "execution_count": 117,
   "id": "fe4dda5e",
   "metadata": {},
   "outputs": [
    {
     "data": {
      "text/plain": [
       "{'R'}"
      ]
     },
     "execution_count": 117,
     "metadata": {},
     "output_type": "execute_result"
    }
   ],
   "source": [
    "set1 = {\"Python\",\"R\"}\n",
    "set2 = {\"R\",\"Java\"}\n",
    "# set4 = [\"C\",\"R\",\"C++\"]\n",
    "\n",
    "set3 = set1.intersection(set2)\n",
    "set3"
   ]
  },
  {
   "cell_type": "code",
   "execution_count": 121,
   "id": "62acf31b",
   "metadata": {},
   "outputs": [
    {
     "data": {
      "text/plain": [
       "{'C', 'R'}"
      ]
     },
     "execution_count": 121,
     "metadata": {},
     "output_type": "execute_result"
    }
   ],
   "source": [
    "set1 = {\"Python\",\"R\",\"C\"}\n",
    "set2 = {\"R\",\"Java\",\"C\"}\n",
    "set3 = [\"C\",\"R\",\"C++\"]\n",
    "\n",
    "set4 = set1.intersection(set2,set3) # List, tuple, set\n",
    "set4"
   ]
  },
  {
   "cell_type": "code",
   "execution_count": 122,
   "id": "ef6900d0",
   "metadata": {},
   "outputs": [
    {
     "data": {
      "text/plain": [
       "{'C', 'R'}"
      ]
     },
     "execution_count": 122,
     "metadata": {},
     "output_type": "execute_result"
    }
   ],
   "source": [
    "set1 = {\"Python\",\"R\",\"C\"}\n",
    "set2 = (\"R\",\"Java\",\"C\")\n",
    "set3 = [\"C\",\"R\",\"C++\"]\n",
    "\n",
    "set4 = set1.intersection(set2,set3) # List, tuple, set\n",
    "set4"
   ]
  },
  {
   "cell_type": "code",
   "execution_count": 123,
   "id": "83320a8c",
   "metadata": {},
   "outputs": [
    {
     "ename": "AttributeError",
     "evalue": "'list' object has no attribute 'intersection'",
     "output_type": "error",
     "traceback": [
      "\u001b[1;31m---------------------------------------------------------------------------\u001b[0m",
      "\u001b[1;31mAttributeError\u001b[0m                            Traceback (most recent call last)",
      "Input \u001b[1;32mIn [123]\u001b[0m, in \u001b[0;36m<cell line: 1>\u001b[1;34m()\u001b[0m\n\u001b[1;32m----> 1\u001b[0m \u001b[43mset3\u001b[49m\u001b[38;5;241;43m.\u001b[39;49m\u001b[43mintersection\u001b[49m(set1)\n",
      "\u001b[1;31mAttributeError\u001b[0m: 'list' object has no attribute 'intersection'"
     ]
    }
   ],
   "source": [
    "set3.intersection(set1)"
   ]
  },
  {
   "cell_type": "markdown",
   "id": "d9fac300",
   "metadata": {},
   "source": [
    "## 2. intersection_update() "
   ]
  },
  {
   "cell_type": "code",
   "execution_count": 125,
   "id": "6ecbe6ab",
   "metadata": {},
   "outputs": [
    {
     "data": {
      "text/plain": [
       "NoneType"
      ]
     },
     "execution_count": 125,
     "metadata": {},
     "output_type": "execute_result"
    }
   ],
   "source": [
    "set1 = {\"Python\",\"R\"}\n",
    "set2 = {\"R\",\"Java\"}\n",
    "# set4 = [\"C\",\"R\",\"C++\"]\n",
    "\n",
    "set3 = set1.intersection_update(set2)\n",
    "type(set3)"
   ]
  },
  {
   "cell_type": "code",
   "execution_count": 126,
   "id": "fb757313",
   "metadata": {},
   "outputs": [
    {
     "data": {
      "text/plain": [
       "{'R'}"
      ]
     },
     "execution_count": 126,
     "metadata": {},
     "output_type": "execute_result"
    }
   ],
   "source": [
    "set1"
   ]
  },
  {
   "cell_type": "code",
   "execution_count": 128,
   "id": "7cd374f9",
   "metadata": {},
   "outputs": [
    {
     "data": {
      "text/plain": [
       "{'R'}"
      ]
     },
     "execution_count": 128,
     "metadata": {},
     "output_type": "execute_result"
    }
   ],
   "source": [
    "set1 = {\"Python\",\"R\"}\n",
    "set2 = {\"R\",\"Java\"}\n",
    "# set4 = [\"C\",\"R\",\"C++\"]\n",
    "\n",
    "set2.intersection_update(set1)\n",
    "set2"
   ]
  },
  {
   "cell_type": "code",
   "execution_count": 129,
   "id": "1a107f54",
   "metadata": {},
   "outputs": [
    {
     "data": {
      "text/plain": [
       "{'pune'}"
      ]
     },
     "execution_count": 129,
     "metadata": {},
     "output_type": "execute_result"
    }
   ],
   "source": [
    "city_name1 = {\"pune\",\"mumbai\",\"delhi\"}\n",
    "city_name2 = {'pune','banglore','chennai'}\n",
    "\n",
    "city_name1.intersection(city_name2)"
   ]
  },
  {
   "cell_type": "code",
   "execution_count": 130,
   "id": "94091c5b",
   "metadata": {},
   "outputs": [
    {
     "data": {
      "text/plain": [
       "{'delhi', 'mumbai', 'pune'}"
      ]
     },
     "execution_count": 130,
     "metadata": {},
     "output_type": "execute_result"
    }
   ],
   "source": [
    "city_name1"
   ]
  },
  {
   "cell_type": "code",
   "execution_count": 131,
   "id": "ff21f5dd",
   "metadata": {},
   "outputs": [],
   "source": [
    "city_name1 = {\"pune\",\"mumbai\",\"delhi\"}\n",
    "city_name2 = {'pune','banglore','chennai'}\n",
    "\n",
    "city_name1.intersection_update(city_name2)"
   ]
  },
  {
   "cell_type": "code",
   "execution_count": 132,
   "id": "e1bf848b",
   "metadata": {},
   "outputs": [
    {
     "data": {
      "text/plain": [
       "{'pune'}"
      ]
     },
     "execution_count": 132,
     "metadata": {},
     "output_type": "execute_result"
    }
   ],
   "source": [
    "city_name1"
   ]
  },
  {
   "cell_type": "markdown",
   "id": "4bbb2a57",
   "metadata": {},
   "source": []
  },
  {
   "cell_type": "code",
   "execution_count": 137,
   "id": "7bfeea40",
   "metadata": {},
   "outputs": [
    {
     "data": {
      "text/plain": [
       "102"
      ]
     },
     "execution_count": 137,
     "metadata": {},
     "output_type": "execute_result"
    }
   ],
   "source": [
    "li = [2]\n",
    "li3 = li[0] + 100 \n",
    "li3"
   ]
  },
  {
   "cell_type": "code",
   "execution_count": 136,
   "id": "dd109817",
   "metadata": {},
   "outputs": [
    {
     "data": {
      "text/plain": [
       "[2]"
      ]
     },
     "execution_count": 136,
     "metadata": {},
     "output_type": "execute_result"
    }
   ],
   "source": [
    "li"
   ]
  },
  {
   "cell_type": "raw",
   "id": "8b1ce8b3",
   "metadata": {},
   "source": [
    "10 - 6 = 4\n",
    "1,2,3,4,5,6,7,8,9,10\n",
    "1,2,3,4,5,6\n",
    "difference  7,8,9,10"
   ]
  },
  {
   "cell_type": "markdown",
   "id": "1ee1088a",
   "metadata": {},
   "source": [
    "### 3. difference"
   ]
  },
  {
   "cell_type": "code",
   "execution_count": 139,
   "id": "cd5ec5ad",
   "metadata": {},
   "outputs": [
    {
     "name": "stdout",
     "output_type": "stream",
     "text": [
      "Set1 before difference operation --> {1, 2, 3, 4, 5, 6, 7, 8, 9, 10}\n",
      "Set2 before difference operation --> {1, 2, 3, 4, 5, 6}\n",
      "Set3 before difference operation --> {8, 9, 10, 7}\n"
     ]
    }
   ],
   "source": [
    "set1 = {1,2,3,4,5,6,7,8,9,10}\n",
    "set2 = {1,2,3,4,5,6}\n",
    "\n",
    "print(f\"Set1 before difference operation --> {set1}\")\n",
    "print(f\"Set2 before difference operation --> {set2}\")\n",
    "\n",
    "\n",
    "set3 = set1.difference(set2)\n",
    "\n",
    "print(f\"Set3 before difference operation --> {set3}\")"
   ]
  },
  {
   "cell_type": "code",
   "execution_count": 142,
   "id": "44d72a5c",
   "metadata": {},
   "outputs": [
    {
     "name": "stdout",
     "output_type": "stream",
     "text": [
      "Set1 before difference operation --> {'Hyderabad', 'Delhi', 'Pune', 'Kolkata', 'Mumbai'}\n",
      "Set2 before difference operation --> {'Pune', 'Bangalore', 'Mumbai', 'Chennai'}\n",
      "Set3  After difference operation --> {'Hyderabad', 'Delhi', 'Kolkata'}\n"
     ]
    }
   ],
   "source": [
    " \n",
    "\n",
    "print(f\"Set1 before difference operation --> {set1}\")\n",
    "print(f\"Set2 before difference operation --> {set2}\")\n",
    "\n",
    "\n",
    "set3 = set1.difference(set2)\n",
    "\n",
    "print(f\"Set3  After difference operation --> {set3}\")"
   ]
  },
  {
   "cell_type": "code",
   "execution_count": 143,
   "id": "ea1e0ef7",
   "metadata": {},
   "outputs": [
    {
     "name": "stdout",
     "output_type": "stream",
     "text": [
      "Set1 before difference operation --> {'Hyderabad', 'Delhi', 'Pune', 'Kolkata', 'Mumbai'}\n",
      "Set2 before difference operation --> {'Pune', 'Bangalore', 'Mumbai', 'Chennai'}\n",
      "Set3  After difference operation --> {'Bangalore', 'Chennai'}\n"
     ]
    }
   ],
   "source": [
    "set1 = {'Pune','Mumbai','Delhi','Kolkata','Hyderabad'}\n",
    "set2 = {\"Pune\",'Bangalore','Chennai','Mumbai'}\n",
    "\n",
    "print(f\"Set1 before difference operation --> {set1}\")\n",
    "print(f\"Set2 before difference operation --> {set2}\")\n",
    "\n",
    "\n",
    "set3 = set2.difference(set1)\n",
    "\n",
    "print(f\"Set3  After difference operation --> {set3}\")"
   ]
  },
  {
   "cell_type": "code",
   "execution_count": 144,
   "id": "0eab1420",
   "metadata": {},
   "outputs": [
    {
     "name": "stdout",
     "output_type": "stream",
     "text": [
      "Set1 before difference operation --> {'Hyderabad', 'Delhi', 'Pune', 'Kolkata', 'Mumbai'}\n",
      "Set2 before difference operation --> {'Pune', 'Bangalore', 'Mumbai', 'Chennai'}\n",
      "Set3  After difference operation --> set()\n"
     ]
    }
   ],
   "source": [
    "set1 = {'Pune','Mumbai','Delhi','Kolkata','Hyderabad'}\n",
    "set2 = {\"Pune\",'Bangalore','Chennai','Mumbai'}\n",
    "\n",
    "print(f\"Set1 before difference operation --> {set1}\")\n",
    "print(f\"Set2 before difference operation --> {set2}\")\n",
    "\n",
    "\n",
    "set3 = set2.difference(set2)\n",
    "\n",
    "print(f\"Set3  After difference operation --> {set3}\")"
   ]
  },
  {
   "cell_type": "code",
   "execution_count": 145,
   "id": "acc9fc9b",
   "metadata": {},
   "outputs": [
    {
     "data": {
      "text/plain": [
       "[1, 2]"
      ]
     },
     "execution_count": 145,
     "metadata": {},
     "output_type": "execute_result"
    }
   ],
   "source": [
    "li1 = [1,2,3,4,5]\n",
    "li2 = [3,4,5,6,7]\n",
    "li3 = []\n",
    "for i in li1:\n",
    "    if i not in li2:\n",
    "        li3.append(i)\n",
    "        \n",
    "li3"
   ]
  },
  {
   "cell_type": "code",
   "execution_count": 147,
   "id": "20c9f6c2",
   "metadata": {},
   "outputs": [
    {
     "data": {
      "text/plain": [
       "[1, 2]"
      ]
     },
     "execution_count": 147,
     "metadata": {},
     "output_type": "execute_result"
    }
   ],
   "source": [
    "li1 = [1,2,3,4,5]\n",
    "li2 = [3,4,5,6,7]\n",
    "res = list(set(li1).difference(li2))\n",
    "res"
   ]
  },
  {
   "cell_type": "code",
   "execution_count": 148,
   "id": "243fdca5",
   "metadata": {},
   "outputs": [
    {
     "data": {
      "text/plain": [
       "[6, 7]"
      ]
     },
     "execution_count": 148,
     "metadata": {},
     "output_type": "execute_result"
    }
   ],
   "source": [
    "li1 = [1,2,3,4,5]\n",
    "li2 = [3,4,5,6,7]\n",
    "li3 = []\n",
    "for i in li2:\n",
    "    if i not in li1:\n",
    "        li3.append(i)\n",
    "        \n",
    "li3"
   ]
  },
  {
   "cell_type": "code",
   "execution_count": 149,
   "id": "5a41f302",
   "metadata": {},
   "outputs": [
    {
     "data": {
      "text/plain": [
       "[6, 7]"
      ]
     },
     "execution_count": 149,
     "metadata": {},
     "output_type": "execute_result"
    }
   ],
   "source": [
    "li1 = [1,2,3,4,5]\n",
    "li2 = [3,4,5,6,7]\n",
    "res = list(set(li2).difference(li1))\n",
    "res"
   ]
  },
  {
   "cell_type": "markdown",
   "id": "87805aa2",
   "metadata": {},
   "source": [
    "### 4. difference_update()"
   ]
  },
  {
   "cell_type": "code",
   "execution_count": 150,
   "id": "b4020b6d",
   "metadata": {},
   "outputs": [
    {
     "name": "stdout",
     "output_type": "stream",
     "text": [
      "Set1 before difference operation --> {1, 2, 3, 4, 5, 6, 7, 8, 9, 10}\n",
      "Set2 before difference operation --> {1, 2, 3, 4, 5, 6}\n",
      "Set1 After difference_update operation --> {7, 8, 9, 10}\n",
      "Set2 After difference_update operation --> {1, 2, 3, 4, 5, 6}\n"
     ]
    }
   ],
   "source": [
    "set1 = {1,2,3,4,5,6,7,8,9,10}\n",
    "set2 = {1,2,3,4,5,6}\n",
    "\n",
    "print(f\"Set1 before difference operation --> {set1}\")\n",
    "print(f\"Set2 before difference operation --> {set2}\")\n",
    "\n",
    "set1.difference_update(set2)\n",
    "\n",
    "\n",
    "print(f\"Set1 After difference_update operation --> {set1}\")\n",
    "print(f\"Set2 After difference_update operation --> {set2}\")\n"
   ]
  },
  {
   "cell_type": "code",
   "execution_count": 152,
   "id": "383e928c",
   "metadata": {},
   "outputs": [
    {
     "name": "stdout",
     "output_type": "stream",
     "text": [
      "Set1 before difference operation --> {'Hyderabad', 'Delhi', 'Pune', 'Kolkata', 'Mumbai'}\n",
      "Set2 before difference operation --> {'Pune', 'Bangalore', 'Mumbai', 'Chennai'}\n",
      "Set1 After difference_update operation --> {'Hyderabad', 'Delhi', 'Pune', 'Kolkata', 'Mumbai'}\n",
      "Set2 After difference_update operation --> {'Bangalore', 'Chennai'}\n"
     ]
    }
   ],
   "source": [
    "set1 = {'Pune','Mumbai','Delhi','Kolkata','Hyderabad'}\n",
    "set2 = {\"Pune\",'Bangalore','Chennai','Mumbai'}\n",
    "\n",
    "print(f\"Set1 before difference operation --> {set1}\")\n",
    "print(f\"Set2 before difference operation --> {set2}\")\n",
    "\n",
    "set2.difference_update(set1)\n",
    "\n",
    "\n",
    "print(f\"Set1 After difference_update operation --> {set1}\")\n",
    "print(f\"Set2 After difference_update operation --> {set2}\")\n"
   ]
  },
  {
   "cell_type": "code",
   "execution_count": 155,
   "id": "ca79aec9",
   "metadata": {},
   "outputs": [
    {
     "name": "stdout",
     "output_type": "stream",
     "text": [
      "Set1 before difference operation --> {'Hyderabad', 'Delhi', 'Pune', 'Kolkata', 'Mumbai'}\n",
      "Set2 before difference operation --> {'Pune', 'Bangalore', 'Mumbai', 'Chennai'}\n",
      "Set1 After difference_update operation --> {'Hyderabad', 'Delhi', 'Pune', 'Kolkata', 'Mumbai'}\n",
      "Set2 After difference_update operation --> {'Pune', 'Bangalore', 'Mumbai', 'Chennai'}\n",
      "Set3 After difference_update operation --> {'Gorgaon'}\n"
     ]
    }
   ],
   "source": [
    "set1 = {'Pune','Mumbai','Delhi','Kolkata','Hyderabad'}\n",
    "set2 = {\"Pune\",'Bangalore','Chennai','Mumbai'}\n",
    "set3 = {\"Pune\",'Bangalore','Gorgaon','Mumbai'}\n",
    "\n",
    "print(f\"Set1 before difference operation --> {set1}\")\n",
    "print(f\"Set2 before difference operation --> {set2}\")\n",
    "\n",
    "set3.difference_update(set1,set2)\n",
    "\n",
    "\n",
    "print(f\"Set1 After difference_update operation --> {set1}\")\n",
    "print(f\"Set2 After difference_update operation --> {set2}\")\n",
    "print(f\"Set3 After difference_update operation --> {set3}\")\n"
   ]
  },
  {
   "cell_type": "code",
   "execution_count": 156,
   "id": "1900470a",
   "metadata": {},
   "outputs": [
    {
     "name": "stdout",
     "output_type": "stream",
     "text": [
      "Set1 before difference operation --> {'Hyderabad', 'Delhi', 'Pune', 'Kolkata', 'Mumbai'}\n",
      "Set2 before difference operation --> {'Pune', 'Bangalore', 'Mumbai', 'Chennai'}\n",
      "Set1 After difference_update operation --> {'Hyderabad', 'Delhi', 'Pune', 'Kolkata', 'Mumbai'}\n",
      "Set2 After difference_update operation --> {'Pune', 'Bangalore', 'Mumbai', 'Chennai'}\n",
      "Set3 After difference_update operation --> set()\n"
     ]
    }
   ],
   "source": [
    "set1 = {'Pune','Mumbai','Delhi','Kolkata','Hyderabad'}\n",
    "set2 = {\"Pune\",'Bangalore','Chennai','Mumbai'}\n",
    "set3 = {\"Pune\",'Bangalore','Chennai','Mumbai'}\n",
    "\n",
    "print(f\"Set1 before difference operation --> {set1}\")\n",
    "print(f\"Set2 before difference operation --> {set2}\")\n",
    "\n",
    "set3.difference_update(set1,set2)\n",
    "\n",
    "\n",
    "print(f\"Set1 After difference_update operation --> {set1}\")\n",
    "print(f\"Set2 After difference_update operation --> {set2}\")\n",
    "print(f\"Set3 After difference_update operation --> {set3}\")\n"
   ]
  },
  {
   "cell_type": "markdown",
   "id": "f28c830e",
   "metadata": {},
   "source": [
    "### 5. symmetric_difference()"
   ]
  },
  {
   "cell_type": "code",
   "execution_count": 157,
   "id": "a62f93d0",
   "metadata": {},
   "outputs": [
    {
     "name": "stdout",
     "output_type": "stream",
     "text": [
      "Set1 before difference operation --> {'Python', 'R'}\n",
      "Set2 before difference operation --> {'Java', 'R'}\n",
      "Set1 After difference_update operation --> {'Python', 'R'}\n",
      "Set2 After difference_update operation --> {'Java', 'R'}\n",
      "Result =  {'Java', 'Python'}\n"
     ]
    }
   ],
   "source": [
    "set1 = {\"Python\",\"R\"}\n",
    "set2 = {\"R\",\"Java\"}\n",
    "# set4 = [\"C\",\"R\",\"C++\"]\n",
    "print(f\"Set1 before difference operation --> {set1}\")\n",
    "print(f\"Set2 before difference operation --> {set2}\")\n",
    "\n",
    "res = set2.symmetric_difference(set1)\n",
    "\n",
    "print(f\"Set1 After difference_update operation --> {set1}\")\n",
    "print(f\"Set2 After difference_update operation --> {set2}\")\n",
    "print(\"Result = \",res)"
   ]
  },
  {
   "cell_type": "markdown",
   "id": "17170fdd",
   "metadata": {},
   "source": [
    "### 6. symmetric_difference_update()"
   ]
  },
  {
   "cell_type": "code",
   "execution_count": 159,
   "id": "164c836d",
   "metadata": {},
   "outputs": [
    {
     "name": "stdout",
     "output_type": "stream",
     "text": [
      "Set1 before difference operation --> {'Python', 'R'}\n",
      "Set2 before difference operation --> {'Java', 'R'}\n",
      "Set1 After difference_update operation --> {'Python', 'R'}\n",
      "Set2 After difference_update operation --> {'Java', 'Python'}\n"
     ]
    }
   ],
   "source": [
    "set1 = {\"Python\",\"R\"}\n",
    "set2 = {\"R\",\"Java\"}\n",
    "\n",
    "print(f\"Set1 before difference operation --> {set1}\")\n",
    "print(f\"Set2 before difference operation --> {set2}\")\n",
    "\n",
    "set2.symmetric_difference_update(set1)\n",
    "\n",
    "print(f\"Set1 After difference_update operation --> {set1}\")\n",
    "print(f\"Set2 After difference_update operation --> {set2}\")\n"
   ]
  },
  {
   "cell_type": "code",
   "execution_count": 160,
   "id": "8fe26ba9",
   "metadata": {},
   "outputs": [
    {
     "name": "stdout",
     "output_type": "stream",
     "text": [
      "Set1 before difference operation --> {'Python', 'R'}\n",
      "Set2 before difference operation --> {'Java', 'R'}\n",
      "Set1 After difference_update operation --> {'Java', 'Python'}\n",
      "Set2 After difference_update operation --> {'Java', 'R'}\n"
     ]
    }
   ],
   "source": [
    "set1 = {\"Python\",\"R\"}\n",
    "set2 = {\"R\",\"Java\"}\n",
    "\n",
    "print(f\"Set1 before difference operation --> {set1}\")\n",
    "print(f\"Set2 before difference operation --> {set2}\")\n",
    "\n",
    "set1.symmetric_difference_update(set2)\n",
    "\n",
    "print(f\"Set1 After difference_update operation --> {set1}\")\n",
    "print(f\"Set2 After difference_update operation --> {set2}\")\n"
   ]
  },
  {
   "cell_type": "markdown",
   "id": "0c4d34b0",
   "metadata": {},
   "source": [
    "# 7. issubset()\n",
    "- True\n",
    "- False\n",
    "- we can check for issubset() using ( < or <= and > or >= ) this signs can only work on sets "
   ]
  },
  {
   "cell_type": "code",
   "execution_count": 161,
   "id": "a3e31ef0",
   "metadata": {},
   "outputs": [
    {
     "data": {
      "text/plain": [
       "True"
      ]
     },
     "execution_count": 161,
     "metadata": {},
     "output_type": "execute_result"
    }
   ],
   "source": [
    "set1 = {1,2,3,4,5} # Bag\n",
    "set2 = {1,2}       # Elements\n",
    "\n",
    "set2.issubset(set1)"
   ]
  },
  {
   "cell_type": "code",
   "execution_count": 162,
   "id": "ff016179",
   "metadata": {},
   "outputs": [
    {
     "data": {
      "text/plain": [
       "True"
      ]
     },
     "execution_count": 162,
     "metadata": {},
     "output_type": "execute_result"
    }
   ],
   "source": [
    "set1 = {1,2,3,4,5} # Bag\n",
    "set2 = {3,4}       # Elements\n",
    "\n",
    "set2.issubset(set1)"
   ]
  },
  {
   "cell_type": "code",
   "execution_count": 163,
   "id": "a21ae993",
   "metadata": {},
   "outputs": [
    {
     "data": {
      "text/plain": [
       "True"
      ]
     },
     "execution_count": 163,
     "metadata": {},
     "output_type": "execute_result"
    }
   ],
   "source": [
    "set1 = {1,2,3,4,5} # Bag\n",
    "set2 = {1,5}       # Elements\n",
    "\n",
    "set2.issubset(set1)"
   ]
  },
  {
   "cell_type": "code",
   "execution_count": 164,
   "id": "519bca84",
   "metadata": {},
   "outputs": [
    {
     "data": {
      "text/plain": [
       "False"
      ]
     },
     "execution_count": 164,
     "metadata": {},
     "output_type": "execute_result"
    }
   ],
   "source": [
    "set1 = {1,2,3,4,5} # Bag\n",
    "set2 = {8,9}       # Elements\n",
    "\n",
    "set2.issubset(set1)"
   ]
  },
  {
   "cell_type": "code",
   "execution_count": 165,
   "id": "2cc7cd2d",
   "metadata": {},
   "outputs": [
    {
     "data": {
      "text/plain": [
       "True"
      ]
     },
     "execution_count": 165,
     "metadata": {},
     "output_type": "execute_result"
    }
   ],
   "source": [
    "set1 = {\"Python\",\"R\"}\n",
    "set2 = {\"R\"}\n",
    "\n",
    "set2.issubset(set1)"
   ]
  },
  {
   "cell_type": "code",
   "execution_count": 166,
   "id": "e160ce0a",
   "metadata": {},
   "outputs": [
    {
     "data": {
      "text/plain": [
       "False"
      ]
     },
     "execution_count": 166,
     "metadata": {},
     "output_type": "execute_result"
    }
   ],
   "source": [
    "set1 = {\"Python\",\"R\"}\n",
    "set2 = {\"Java\"}\n",
    "\n",
    "set2.issubset(set1)"
   ]
  },
  {
   "cell_type": "code",
   "execution_count": 167,
   "id": "a3e38c55",
   "metadata": {},
   "outputs": [
    {
     "data": {
      "text/plain": [
       "False"
      ]
     },
     "execution_count": 167,
     "metadata": {},
     "output_type": "execute_result"
    }
   ],
   "source": [
    "set1 = {\"Python\",\"R\"}\n",
    "set2 = {\"R\"}\n",
    "\n",
    "set1.issubset(set2)"
   ]
  },
  {
   "cell_type": "markdown",
   "id": "b6332ea0",
   "metadata": {},
   "source": [
    "# 8. issuperset()\n",
    "- True\n",
    "- False"
   ]
  },
  {
   "cell_type": "code",
   "execution_count": 168,
   "id": "012716af",
   "metadata": {},
   "outputs": [
    {
     "data": {
      "text/plain": [
       "True"
      ]
     },
     "execution_count": 168,
     "metadata": {},
     "output_type": "execute_result"
    }
   ],
   "source": [
    "set1 = {1,2,3,4,5} # Bag\n",
    "set2 = {1,2}       # Elements\n",
    "\n",
    "set1.issuperset(set2) "
   ]
  },
  {
   "cell_type": "code",
   "execution_count": 169,
   "id": "3700b626",
   "metadata": {},
   "outputs": [
    {
     "data": {
      "text/plain": [
       "False"
      ]
     },
     "execution_count": 169,
     "metadata": {},
     "output_type": "execute_result"
    }
   ],
   "source": [
    "set1 = {1,2,3,4,5} # Bag\n",
    "set2 = {11,22}       # Elements\n",
    "\n",
    "set1.issuperset(set2) "
   ]
  },
  {
   "cell_type": "code",
   "execution_count": 170,
   "id": "dd682117",
   "metadata": {},
   "outputs": [
    {
     "data": {
      "text/plain": [
       "False"
      ]
     },
     "execution_count": 170,
     "metadata": {},
     "output_type": "execute_result"
    }
   ],
   "source": [
    "set1 = {\"Python\",\"R\"}\n",
    "set2 = {\"Java\"}\n",
    "\n",
    "set1.issuperset(set2)"
   ]
  },
  {
   "cell_type": "code",
   "execution_count": 171,
   "id": "f380eeb8",
   "metadata": {},
   "outputs": [
    {
     "data": {
      "text/plain": [
       "True"
      ]
     },
     "execution_count": 171,
     "metadata": {},
     "output_type": "execute_result"
    }
   ],
   "source": [
    "set1 = {\"Python\",\"R\"}\n",
    "set2 = {\"R\"}\n",
    "\n",
    "set1.issuperset(set2)"
   ]
  },
  {
   "cell_type": "code",
   "execution_count": 172,
   "id": "294bdbdb",
   "metadata": {},
   "outputs": [
    {
     "data": {
      "text/plain": [
       "False"
      ]
     },
     "execution_count": 172,
     "metadata": {},
     "output_type": "execute_result"
    }
   ],
   "source": [
    "set1 = {\"Python\",\"R\"}\n",
    "set2 = {\"R\"}\n",
    "\n",
    "set2.issuperset(set1)"
   ]
  },
  {
   "cell_type": "code",
   "execution_count": null,
   "id": "b72236bd",
   "metadata": {},
   "outputs": [],
   "source": []
  },
  {
   "cell_type": "code",
   "execution_count": null,
   "id": "52ad0cae",
   "metadata": {},
   "outputs": [],
   "source": []
  },
  {
   "cell_type": "code",
   "execution_count": null,
   "id": "1e12c1ba",
   "metadata": {},
   "outputs": [],
   "source": []
  },
  {
   "cell_type": "markdown",
   "id": "c312d1f7",
   "metadata": {},
   "source": [
    "# 7. isdisjoint()"
   ]
  },
  {
   "cell_type": "code",
   "execution_count": 175,
   "id": "8ee9ad2a",
   "metadata": {},
   "outputs": [
    {
     "data": {
      "text/plain": [
       "False"
      ]
     },
     "execution_count": 175,
     "metadata": {},
     "output_type": "execute_result"
    }
   ],
   "source": [
    "set1 = {\"Python\",\"R\"}\n",
    "set2 = {\"R\"}\n",
    "\n",
    "set2.isdisjoint(set1)"
   ]
  },
  {
   "cell_type": "code",
   "execution_count": 176,
   "id": "95d41b78",
   "metadata": {},
   "outputs": [
    {
     "data": {
      "text/plain": [
       "False"
      ]
     },
     "execution_count": 176,
     "metadata": {},
     "output_type": "execute_result"
    }
   ],
   "source": [
    "set1 = {\"Python\",\"R\"}\n",
    "set2 = {\"R\"}\n",
    "\n",
    "set1.isdisjoint(set2)"
   ]
  },
  {
   "cell_type": "code",
   "execution_count": 177,
   "id": "766149cf",
   "metadata": {},
   "outputs": [
    {
     "data": {
      "text/plain": [
       "True"
      ]
     },
     "execution_count": 177,
     "metadata": {},
     "output_type": "execute_result"
    }
   ],
   "source": [
    "set1 = {\"Python\",\"R\"}\n",
    "set2 = {\"Java\"}\n",
    "\n",
    "set1.isdisjoint(set2)"
   ]
  },
  {
   "cell_type": "code",
   "execution_count": null,
   "id": "f91127f0",
   "metadata": {},
   "outputs": [],
   "source": []
  },
  {
   "cell_type": "code",
   "execution_count": null,
   "id": "54c6032d",
   "metadata": {},
   "outputs": [],
   "source": []
  },
  {
   "cell_type": "code",
   "execution_count": null,
   "id": "f060239d",
   "metadata": {},
   "outputs": [],
   "source": []
  }
 ],
 "metadata": {
  "kernelspec": {
   "display_name": "Python 3 (ipykernel)",
   "language": "python",
   "name": "python3"
  },
  "language_info": {
   "codemirror_mode": {
    "name": "ipython",
    "version": 3
   },
   "file_extension": ".py",
   "mimetype": "text/x-python",
   "name": "python",
   "nbconvert_exporter": "python",
   "pygments_lexer": "ipython3",
   "version": "3.9.12"
  }
 },
 "nbformat": 4,
 "nbformat_minor": 5
}
