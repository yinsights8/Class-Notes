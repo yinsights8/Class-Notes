{
 "cells": [
  {
   "cell_type": "code",
   "execution_count": 1,
   "id": "91c13210",
   "metadata": {},
   "outputs": [
    {
     "data": {
      "text/plain": [
       "set"
      ]
     },
     "execution_count": 1,
     "metadata": {},
     "output_type": "execute_result"
    }
   ],
   "source": [
    "set1 = {1,2,3}\n",
    "\n",
    "type(set1)"
   ]
  },
  {
   "cell_type": "code",
   "execution_count": 3,
   "id": "f948e102",
   "metadata": {},
   "outputs": [
    {
     "data": {
      "text/plain": [
       "set"
      ]
     },
     "execution_count": 3,
     "metadata": {},
     "output_type": "execute_result"
    }
   ],
   "source": [
    "set2 = set([1,2,3])\n",
    "type(set2)"
   ]
  },
  {
   "cell_type": "code",
   "execution_count": 4,
   "id": "4f3522ef",
   "metadata": {},
   "outputs": [
    {
     "data": {
      "text/plain": [
       "set"
      ]
     },
     "execution_count": 4,
     "metadata": {},
     "output_type": "execute_result"
    }
   ],
   "source": [
    "set2 = set((1,2,3))\n",
    "type(set2)"
   ]
  },
  {
   "cell_type": "code",
   "execution_count": 5,
   "id": "d8556b9b",
   "metadata": {},
   "outputs": [
    {
     "data": {
      "text/plain": [
       "set"
      ]
     },
     "execution_count": 5,
     "metadata": {},
     "output_type": "execute_result"
    }
   ],
   "source": [
    "set2 = set(\"Python\") # Considerd as a sequence\n",
    "type(set2)"
   ]
  },
  {
   "cell_type": "code",
   "execution_count": 7,
   "id": "1792c766",
   "metadata": {},
   "outputs": [
    {
     "data": {
      "text/plain": [
       "{'Python'}"
      ]
     },
     "execution_count": 7,
     "metadata": {},
     "output_type": "execute_result"
    }
   ],
   "source": [
    "set3 = {\"Python\"} # Considerd as a single element\n",
    "set3"
   ]
  },
  {
   "cell_type": "code",
   "execution_count": 8,
   "id": "dda91dec",
   "metadata": {},
   "outputs": [
    {
     "data": {
      "text/plain": [
       "{'P', 'h', 'n', 'o', 't', 'y'}"
      ]
     },
     "execution_count": 8,
     "metadata": {},
     "output_type": "execute_result"
    }
   ],
   "source": [
    "set2 = set(\"Python\") # Considerd as a sequence\n",
    "set2"
   ]
  },
  {
   "cell_type": "code",
   "execution_count": 9,
   "id": "a72b9198",
   "metadata": {},
   "outputs": [
    {
     "data": {
      "text/plain": [
       "['y', 'o', 't', 'n', 'h', 'P']"
      ]
     },
     "execution_count": 9,
     "metadata": {},
     "output_type": "execute_result"
    }
   ],
   "source": [
    "list(set2)"
   ]
  },
  {
   "cell_type": "code",
   "execution_count": 10,
   "id": "2745b15d",
   "metadata": {},
   "outputs": [
    {
     "data": {
      "text/plain": [
       "('y', 'o', 't', 'n', 'h', 'P')"
      ]
     },
     "execution_count": 10,
     "metadata": {},
     "output_type": "execute_result"
    }
   ],
   "source": [
    "tuple(set2)"
   ]
  },
  {
   "cell_type": "code",
   "execution_count": 11,
   "id": "0051e353",
   "metadata": {},
   "outputs": [
    {
     "data": {
      "text/plain": [
       "\"{'y', 'o', 't', 'n', 'h', 'P'}\""
      ]
     },
     "execution_count": 11,
     "metadata": {},
     "output_type": "execute_result"
    }
   ],
   "source": [
    "str(set2)"
   ]
  },
  {
   "cell_type": "code",
   "execution_count": 12,
   "id": "a5746a7d",
   "metadata": {},
   "outputs": [
    {
     "data": {
      "text/plain": [
       "'yotnhP'"
      ]
     },
     "execution_count": 12,
     "metadata": {},
     "output_type": "execute_result"
    }
   ],
   "source": [
    "\"\".join(set2)"
   ]
  },
  {
   "cell_type": "code",
   "execution_count": 13,
   "id": "ca711913",
   "metadata": {},
   "outputs": [
    {
     "name": "stdout",
     "output_type": "stream",
     "text": [
      "y\n",
      "o\n",
      "t\n",
      "n\n",
      "h\n",
      "P\n"
     ]
    }
   ],
   "source": [
    "for i in set2:\n",
    "    print(i)"
   ]
  },
  {
   "cell_type": "code",
   "execution_count": 14,
   "id": "eec25981",
   "metadata": {},
   "outputs": [
    {
     "data": {
      "text/plain": [
       "{'P', 'h', 'n', 'o', 't', 'y'}"
      ]
     },
     "execution_count": 14,
     "metadata": {},
     "output_type": "execute_result"
    }
   ],
   "source": [
    "set2"
   ]
  },
  {
   "cell_type": "code",
   "execution_count": 18,
   "id": "eb74b238",
   "metadata": {},
   "outputs": [
    {
     "data": {
      "text/plain": [
       "{'Data Science', 'P', '[1,2,3]', 'h', 'n', 'o', 't', 'y'}"
      ]
     },
     "execution_count": 18,
     "metadata": {},
     "output_type": "execute_result"
    }
   ],
   "source": [
    "set2.add(\"Data Science\") # Add will be used to add only single item\n",
    "set2"
   ]
  },
  {
   "cell_type": "code",
   "execution_count": 19,
   "id": "e36961a8",
   "metadata": {},
   "outputs": [
    {
     "data": {
      "text/plain": [
       "{'Data Science', 'P', '[1,2,3]', 'h', 'n', 'o', 't', 'y'}"
      ]
     },
     "execution_count": 19,
     "metadata": {},
     "output_type": "execute_result"
    }
   ],
   "source": [
    "set2.add('[1,2,3]')\n",
    "set2"
   ]
  },
  {
   "cell_type": "code",
   "execution_count": 20,
   "id": "98b46761",
   "metadata": {},
   "outputs": [
    {
     "data": {
      "text/plain": [
       "{1, 2, 3}"
      ]
     },
     "execution_count": 20,
     "metadata": {},
     "output_type": "execute_result"
    }
   ],
   "source": [
    "set1"
   ]
  },
  {
   "cell_type": "code",
   "execution_count": 22,
   "id": "a8be8407",
   "metadata": {},
   "outputs": [],
   "source": [
    "set1.update(set('Python'))"
   ]
  },
  {
   "cell_type": "code",
   "execution_count": 23,
   "id": "f307b992",
   "metadata": {},
   "outputs": [
    {
     "data": {
      "text/plain": [
       "{1, 2, 3, 'P', 'h', 'n', 'o', 't', 'y'}"
      ]
     },
     "execution_count": 23,
     "metadata": {},
     "output_type": "execute_result"
    }
   ],
   "source": [
    "set1"
   ]
  },
  {
   "cell_type": "code",
   "execution_count": 28,
   "id": "1fc5e1c8",
   "metadata": {},
   "outputs": [],
   "source": [
    "set1.update(set2,set([100,200,300])) # We can update our set with single or multiple sets"
   ]
  },
  {
   "cell_type": "code",
   "execution_count": 27,
   "id": "aac92b32",
   "metadata": {},
   "outputs": [
    {
     "name": "stdout",
     "output_type": "stream",
     "text": [
      "{1, 2, 3, 'y', 100, 200, 300, 'o', 'n', 'P', '[1,2,3]', 'h', 't', 'Data Science'}\n"
     ]
    }
   ],
   "source": [
    "print(set1)"
   ]
  },
  {
   "cell_type": "code",
   "execution_count": 29,
   "id": "886bfc92",
   "metadata": {},
   "outputs": [
    {
     "data": {
      "text/plain": [
       "{1, 2, 3}"
      ]
     },
     "execution_count": 29,
     "metadata": {},
     "output_type": "execute_result"
    }
   ],
   "source": [
    "set3 = {1,2,3}\n",
    "set3"
   ]
  },
  {
   "cell_type": "code",
   "execution_count": 32,
   "id": "4dc1ae74",
   "metadata": {},
   "outputs": [],
   "source": [
    "set3.update([11,22,33])"
   ]
  },
  {
   "cell_type": "code",
   "execution_count": 33,
   "id": "a6522b2f",
   "metadata": {},
   "outputs": [
    {
     "data": {
      "text/plain": [
       "{1, 2, 3, 11, 22, 33}"
      ]
     },
     "execution_count": 33,
     "metadata": {},
     "output_type": "execute_result"
    }
   ],
   "source": [
    "set3"
   ]
  },
  {
   "cell_type": "code",
   "execution_count": 35,
   "id": "c5ff6982",
   "metadata": {},
   "outputs": [],
   "source": [
    "set3.update((111,222,333))"
   ]
  },
  {
   "cell_type": "code",
   "execution_count": 37,
   "id": "9c80f5f3",
   "metadata": {},
   "outputs": [],
   "source": [
    "set3.update(\"Python\")"
   ]
  },
  {
   "cell_type": "code",
   "execution_count": 38,
   "id": "db8411cc",
   "metadata": {},
   "outputs": [
    {
     "data": {
      "text/plain": [
       "{1, 11, 111, 2, 22, 222, 3, 33, 333, 'P', 'h', 'n', 'o', 't', 'y'}"
      ]
     },
     "execution_count": 38,
     "metadata": {},
     "output_type": "execute_result"
    }
   ],
   "source": [
    "set3"
   ]
  },
  {
   "cell_type": "code",
   "execution_count": 39,
   "id": "c0749612",
   "metadata": {},
   "outputs": [
    {
     "name": "stdout",
     "output_type": "stream",
     "text": [
      "Set1 = {1, 2, 3, 4, 5}\n",
      "Set2 = {3, 4, 5, 6, 7}\n",
      "The union of set1 and set2 = {1, 2, 3, 4, 5, 6, 7}\n"
     ]
    }
   ],
   "source": [
    "set1 = {1,2,3,4,5}\n",
    "set2 = {3,4,5,6,7}\n",
    "\n",
    "print(f\"Set1 = {set1}\")\n",
    "print(f\"Set2 = {set2}\")\n",
    "\n",
    "set3 = set1.union(set2)\n",
    "\n",
    "print(f\"The union of set1 and set2 = {set3}\")"
   ]
  },
  {
   "cell_type": "code",
   "execution_count": 40,
   "id": "5b3bb029",
   "metadata": {},
   "outputs": [
    {
     "name": "stdout",
     "output_type": "stream",
     "text": [
      "Set1 = {'Python', 'R'}\n",
      "Set2 = {'R', 'Java'}\n",
      "The union of set1 and set2 = {'Python', 'R', 'Java'}\n"
     ]
    }
   ],
   "source": [
    "set1 = {\"Python\",\"R\"}\n",
    "set2 = {\"R\",\"Java\"}\n",
    "\n",
    "print(f\"Set1 = {set1}\")\n",
    "print(f\"Set2 = {set2}\")\n",
    "\n",
    "set3 = set1.union(set2)\n",
    "\n",
    "print(f\"The union of set1 and set2 = {set3}\")"
   ]
  },
  {
   "cell_type": "code",
   "execution_count": 42,
   "id": "5d572d72",
   "metadata": {},
   "outputs": [
    {
     "name": "stdout",
     "output_type": "stream",
     "text": [
      "Set1 = {'Python', 'R'}\n",
      "Set2 = {'R', 'Java'}\n",
      "Set3 = ('C', 'R', 'C++')\n",
      "The union of set1 and set2 = {'C++', 'Java', 'C', 'Python', 'R'}\n"
     ]
    }
   ],
   "source": [
    "set1 = {\"Python\",\"R\"}\n",
    "set2 = {\"R\",\"Java\"}\n",
    "set4 = (\"C\",\"R\",\"C++\")\n",
    "\n",
    "print(f\"Set1 = {set1}\")\n",
    "print(f\"Set2 = {set2}\")\n",
    "print(f\"Set3 = {set4}\")\n",
    "\n",
    "set3 = set1.union(set2,set4)\n",
    "\n",
    "print(f\"The union of set1 and set2 = {set3}\")"
   ]
  },
  {
   "cell_type": "code",
   "execution_count": 43,
   "id": "2dfff3a9",
   "metadata": {},
   "outputs": [
    {
     "name": "stdout",
     "output_type": "stream",
     "text": [
      "Set1 = {'Python', 'R'}\n",
      "Set2 = {'R', 'Java'}\n",
      "Set3 = ['C', 'R', 'C++']\n",
      "The union of set1 and set2 = {'C++', 'Java', 'C', 'Python', 'R'}\n"
     ]
    }
   ],
   "source": [
    "set1 = {\"Python\",\"R\"}\n",
    "set2 = {\"R\",\"Java\"}\n",
    "set4 = [\"C\",\"R\",\"C++\"]\n",
    "\n",
    "print(f\"Set1 = {set1}\")\n",
    "print(f\"Set2 = {set2}\")\n",
    "print(f\"Set3 = {set4}\")\n",
    "\n",
    "set3 = set1.union(set2,set4)\n",
    "\n",
    "print(f\"The union of set1 and set2 = {set3}\")"
   ]
  },
  {
   "cell_type": "code",
   "execution_count": null,
   "id": "7c397b42",
   "metadata": {},
   "outputs": [],
   "source": []
  },
  {
   "cell_type": "code",
   "execution_count": null,
   "id": "d4e70c45",
   "metadata": {},
   "outputs": [],
   "source": []
  },
  {
   "cell_type": "code",
   "execution_count": null,
   "id": "6dc8bbd1",
   "metadata": {},
   "outputs": [],
   "source": []
  },
  {
   "cell_type": "code",
   "execution_count": null,
   "id": "eeabbd90",
   "metadata": {},
   "outputs": [],
   "source": []
  },
  {
   "cell_type": "code",
   "execution_count": null,
   "id": "cdacf840",
   "metadata": {},
   "outputs": [],
   "source": []
  }
 ],
 "metadata": {
  "kernelspec": {
   "display_name": "Python 3 (ipykernel)",
   "language": "python",
   "name": "python3"
  },
  "language_info": {
   "codemirror_mode": {
    "name": "ipython",
    "version": 3
   },
   "file_extension": ".py",
   "mimetype": "text/x-python",
   "name": "python",
   "nbconvert_exporter": "python",
   "pygments_lexer": "ipython3",
   "version": "3.9.12"
  }
 },
 "nbformat": 4,
 "nbformat_minor": 5
}
