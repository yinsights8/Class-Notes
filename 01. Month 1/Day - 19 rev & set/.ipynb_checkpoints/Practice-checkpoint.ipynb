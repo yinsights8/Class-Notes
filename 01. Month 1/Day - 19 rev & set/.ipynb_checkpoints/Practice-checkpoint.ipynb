{
 "cells": [
  {
   "cell_type": "code",
   "execution_count": 8,
   "id": "d05148c9",
   "metadata": {},
   "outputs": [
    {
     "name": "stdout",
     "output_type": "stream",
     "text": [
      "{'p', 'y', 'h', 't', 'n', 'o'}\n"
     ]
    },
    {
     "ename": "TypeError",
     "evalue": "set expected at most 1 argument, got 3",
     "output_type": "error",
     "traceback": [
      "\u001b[1;31m---------------------------------------------------------------------------\u001b[0m",
      "\u001b[1;31mTypeError\u001b[0m                                 Traceback (most recent call last)",
      "Input \u001b[1;32mIn [8]\u001b[0m, in \u001b[0;36m<cell line: 4>\u001b[1;34m()\u001b[0m\n\u001b[0;32m      1\u001b[0m n \u001b[38;5;241m=\u001b[39m \u001b[38;5;28mset\u001b[39m(\u001b[38;5;124m\"\u001b[39m\u001b[38;5;124mpython\u001b[39m\u001b[38;5;124m\"\u001b[39m)\n\u001b[0;32m      2\u001b[0m \u001b[38;5;28mprint\u001b[39m(n)\n\u001b[1;32m----> 4\u001b[0m y \u001b[38;5;241m=\u001b[39m \u001b[38;5;28;43mset\u001b[39;49m\u001b[43m(\u001b[49m\u001b[38;5;124;43m\"\u001b[39;49m\u001b[38;5;124;43mpython\u001b[39;49m\u001b[38;5;124;43m\"\u001b[39;49m\u001b[43m,\u001b[49m\u001b[43m \u001b[49m\u001b[38;5;124;43m\"\u001b[39;49m\u001b[38;5;124;43mand\u001b[39;49m\u001b[38;5;124;43m\"\u001b[39;49m\u001b[43m,\u001b[49m\u001b[43m \u001b[49m\u001b[38;5;124;43m\"\u001b[39;49m\u001b[38;5;124;43mdata\u001b[39;49m\u001b[38;5;124;43m\"\u001b[39;49m\u001b[43m)\u001b[49m\n\u001b[0;32m      5\u001b[0m \u001b[38;5;28mprint\u001b[39m(y)\n",
      "\u001b[1;31mTypeError\u001b[0m: set expected at most 1 argument, got 3"
     ]
    }
   ],
   "source": [
    "n = set(\"python\")\n",
    "print(n)\n",
    "\n",
    "y = set(\"python\", \"and\", \"data\")\n",
    "print(y)"
   ]
  },
  {
   "cell_type": "code",
   "execution_count": 11,
   "id": "952d3e6f",
   "metadata": {},
   "outputs": [
    {
     "ename": "TypeError",
     "evalue": "set.add() takes exactly one argument (2 given)",
     "output_type": "error",
     "traceback": [
      "\u001b[1;31m---------------------------------------------------------------------------\u001b[0m",
      "\u001b[1;31mTypeError\u001b[0m                                 Traceback (most recent call last)",
      "Input \u001b[1;32mIn [11]\u001b[0m, in \u001b[0;36m<cell line: 2>\u001b[1;34m()\u001b[0m\n\u001b[0;32m      1\u001b[0m y \u001b[38;5;241m=\u001b[39m {\u001b[38;5;241m1\u001b[39m,\u001b[38;5;241m2\u001b[39m,\u001b[38;5;241m3\u001b[39m}\n\u001b[1;32m----> 2\u001b[0m \u001b[43my\u001b[49m\u001b[38;5;241;43m.\u001b[39;49m\u001b[43madd\u001b[49m\u001b[43m(\u001b[49m\u001b[38;5;124;43m\"\u001b[39;49m\u001b[38;5;124;43mpython\u001b[39;49m\u001b[38;5;124;43m\"\u001b[39;49m\u001b[43m,\u001b[49m\u001b[38;5;124;43m\"\u001b[39;49m\u001b[38;5;124;43mdata\u001b[39;49m\u001b[38;5;124;43m\"\u001b[39;49m\u001b[43m)\u001b[49m\n\u001b[0;32m      3\u001b[0m \u001b[38;5;28mprint\u001b[39m(y)\n",
      "\u001b[1;31mTypeError\u001b[0m: set.add() takes exactly one argument (2 given)"
     ]
    }
   ],
   "source": [
    "y = {1,2,3}\n",
    "y.add(\"python\",\"data\")\n",
    "print(y)"
   ]
  },
  {
   "cell_type": "code",
   "execution_count": 14,
   "id": "a89b37be",
   "metadata": {},
   "outputs": [
    {
     "name": "stdout",
     "output_type": "stream",
     "text": [
      "{1, 2, 3, 4, 5, 6}\n"
     ]
    }
   ],
   "source": [
    "up1 = {1, 2, 3}\n",
    "# up2 = {4, 5, 6}\n",
    "\n",
    "up1.update(up2)\n",
    "print(up1)\n"
   ]
  },
  {
   "cell_type": "code",
   "execution_count": 15,
   "id": "564186a9",
   "metadata": {},
   "outputs": [
    {
     "data": {
      "text/plain": [
       "{1, 2, 3, 4, 5, 6}"
      ]
     },
     "execution_count": 15,
     "metadata": {},
     "output_type": "execute_result"
    }
   ],
   "source": [
    "up1.update(up1)\n",
    "up1"
   ]
  },
  {
   "cell_type": "code",
   "execution_count": 18,
   "id": "036265ce",
   "metadata": {},
   "outputs": [
    {
     "name": "stdout",
     "output_type": "stream",
     "text": [
      "{1, 2, 3, 4, 5, 6}\n"
     ]
    }
   ],
   "source": [
    "ran_num = {6,5,4}\n",
    "ran_num2 = {3, 2, 1}\n",
    "\n",
    "ran_num2.update(ran_num)\n",
    "\n",
    "print(ran_num2)"
   ]
  },
  {
   "cell_type": "code",
   "execution_count": 19,
   "id": "7673952e",
   "metadata": {},
   "outputs": [
    {
     "name": "stdout",
     "output_type": "stream",
     "text": [
      "{1, 66, 2, 3, 55, 44}\n"
     ]
    }
   ],
   "source": [
    "u = {3, 2, 1}\n",
    "h = {66,55,44}\n",
    "\n",
    "h.update(u)\n",
    "\n",
    "print(h)"
   ]
  },
  {
   "cell_type": "code",
   "execution_count": 20,
   "id": "f74d649f",
   "metadata": {},
   "outputs": [
    {
     "name": "stdout",
     "output_type": "stream",
     "text": [
      "{1, 2, 3, 4, 5, 6, 7, 8, 9}\n"
     ]
    }
   ],
   "source": [
    "titn = {7,8,9,4,5,6,1,2,3}\n",
    "titn.update(set(\"python\"))\n",
    "print(titn)"
   ]
  },
  {
   "cell_type": "code",
   "execution_count": 1,
   "id": "0c1e7e75",
   "metadata": {},
   "outputs": [
    {
     "name": "stdout",
     "output_type": "stream",
     "text": [
      "{1, 2, 3, 11, 12, 13, 14}\n"
     ]
    }
   ],
   "source": [
    "t = {11,12,13,14}\n",
    "b = {3,2,1}\n",
    "\n",
    "t.update(b)\n",
    "print(t)"
   ]
  },
  {
   "cell_type": "code",
   "execution_count": 5,
   "id": "4eda99ae",
   "metadata": {},
   "outputs": [
    {
     "name": "stdout",
     "output_type": "stream",
     "text": [
      "{1, 2, 3, 11, 12, 13, 14}\n"
     ]
    }
   ],
   "source": [
    "r = {11,12,13,14}\n",
    "d = {3,2,1}\n",
    "\n",
    "d.update(r)\n",
    "\n",
    "print(t)"
   ]
  },
  {
   "cell_type": "markdown",
   "id": "18645f3b",
   "metadata": {},
   "source": [
    "# union "
   ]
  },
  {
   "cell_type": "code",
   "execution_count": 8,
   "id": "5b2d5a83",
   "metadata": {},
   "outputs": [
    {
     "name": "stdout",
     "output_type": "stream",
     "text": [
      "{1, 2, 3, 11, 12, 13, 14}\n"
     ]
    }
   ],
   "source": [
    "r = {11,12,13,14}\n",
    "d = {3,2,1}\n",
    "\n",
    "g = d.union(r)\n",
    "print(g)"
   ]
  },
  {
   "cell_type": "code",
   "execution_count": 10,
   "id": "aad22d53",
   "metadata": {},
   "outputs": [
    {
     "name": "stdout",
     "output_type": "stream",
     "text": [
      "{1, 2, 3, 11, 12, 13, 14, 'science', 'data', 'python'}\n"
     ]
    }
   ],
   "source": [
    "lis = [\"python\",\"data\", \"science\"]\n",
    "set_r = {11,12,13,14}\n",
    "set_d = {3,2,1}\n",
    "\n",
    "new_set = set_r.union(lis,set_d) \n",
    "print(new_set)"
   ]
  },
  {
   "cell_type": "code",
   "execution_count": 11,
   "id": "fb05f3ac",
   "metadata": {},
   "outputs": [
    {
     "ename": "AttributeError",
     "evalue": "'list' object has no attribute 'union'",
     "output_type": "error",
     "traceback": [
      "\u001b[1;31m---------------------------------------------------------------------------\u001b[0m",
      "\u001b[1;31mAttributeError\u001b[0m                            Traceback (most recent call last)",
      "Input \u001b[1;32mIn [11]\u001b[0m, in \u001b[0;36m<cell line: 5>\u001b[1;34m()\u001b[0m\n\u001b[0;32m      2\u001b[0m set_r \u001b[38;5;241m=\u001b[39m {\u001b[38;5;241m11\u001b[39m,\u001b[38;5;241m12\u001b[39m,\u001b[38;5;241m13\u001b[39m,\u001b[38;5;241m14\u001b[39m}\n\u001b[0;32m      3\u001b[0m set_d \u001b[38;5;241m=\u001b[39m {\u001b[38;5;241m3\u001b[39m,\u001b[38;5;241m2\u001b[39m,\u001b[38;5;241m1\u001b[39m}\n\u001b[1;32m----> 5\u001b[0m new_set \u001b[38;5;241m=\u001b[39m \u001b[43mlis\u001b[49m\u001b[38;5;241;43m.\u001b[39;49m\u001b[43munion\u001b[49m(set_r,set_d) \n\u001b[0;32m      6\u001b[0m \u001b[38;5;28mprint\u001b[39m(new_set)\n",
      "\u001b[1;31mAttributeError\u001b[0m: 'list' object has no attribute 'union'"
     ]
    }
   ],
   "source": [
    "lis = [\"python\",\"data\", \"science\"]\n",
    "set_r = {11,12,13,14}\n",
    "set_d = {3,2,1}\n",
    "\n",
    "new_set = lis.union(set_r,set_d) \n",
    "print(new_set)"
   ]
  },
  {
   "cell_type": "markdown",
   "id": "38e39e66",
   "metadata": {},
   "source": [
    "# Delete"
   ]
  },
  {
   "cell_type": "markdown",
   "id": "2d8bf2b0",
   "metadata": {},
   "source": [
    "#### 1. remove()"
   ]
  },
  {
   "cell_type": "code",
   "execution_count": 17,
   "id": "15219607",
   "metadata": {
    "scrolled": true
   },
   "outputs": [
    {
     "data": {
      "text/plain": [
       "{'data', 'science'}"
      ]
     },
     "execution_count": 17,
     "metadata": {},
     "output_type": "execute_result"
    }
   ],
   "source": [
    "set_items = {\"python\",\"data\", \"science\"}\n",
    "set_items.remove(\"python\")\n",
    "\n",
    "set_items"
   ]
  },
  {
   "cell_type": "code",
   "execution_count": 18,
   "id": "6067ebb1",
   "metadata": {},
   "outputs": [
    {
     "ename": "KeyError",
     "evalue": "'kaka'",
     "output_type": "error",
     "traceback": [
      "\u001b[1;31m---------------------------------------------------------------------------\u001b[0m",
      "\u001b[1;31mKeyError\u001b[0m                                  Traceback (most recent call last)",
      "Input \u001b[1;32mIn [18]\u001b[0m, in \u001b[0;36m<cell line: 1>\u001b[1;34m()\u001b[0m\n\u001b[1;32m----> 1\u001b[0m \u001b[43mset_items\u001b[49m\u001b[38;5;241;43m.\u001b[39;49m\u001b[43mremove\u001b[49m\u001b[43m(\u001b[49m\u001b[38;5;124;43m\"\u001b[39;49m\u001b[38;5;124;43mkaka\u001b[39;49m\u001b[38;5;124;43m\"\u001b[39;49m\u001b[43m)\u001b[49m\n\u001b[0;32m      2\u001b[0m \u001b[38;5;28mprint\u001b[39m(set_items)\n",
      "\u001b[1;31mKeyError\u001b[0m: 'kaka'"
     ]
    }
   ],
   "source": [
    "set_items.remove(\"kaka\")\n",
    "print(set_items)"
   ]
  },
  {
   "cell_type": "markdown",
   "id": "17467bd6",
   "metadata": {},
   "source": [
    "#### 2. discard()"
   ]
  },
  {
   "cell_type": "code",
   "execution_count": 25,
   "id": "def0b259",
   "metadata": {},
   "outputs": [
    {
     "name": "stdout",
     "output_type": "stream",
     "text": [
      "{'data', 'science', 'python'}\n",
      "{'data', 'science'}\n"
     ]
    }
   ],
   "source": [
    "set_dis = {\"python\",\"data\", \"science\"}\n",
    "print(set_dis)\n",
    "\n",
    "set_dis.discard(\"python\")\n",
    "print(set_dis)"
   ]
  },
  {
   "cell_type": "code",
   "execution_count": 27,
   "id": "97c6044f",
   "metadata": {},
   "outputs": [
    {
     "name": "stdout",
     "output_type": "stream",
     "text": [
      "{'data', 'science', 'python'}\n",
      "{'data', 'science', 'python'}\n"
     ]
    }
   ],
   "source": [
    "set_dis1 = {\"python\",\"data\", \"science\"}\n",
    "print(set_dis1)\n",
    "\n",
    "set_dis1.discard(\"kaka\")\n",
    "print(set_dis1)"
   ]
  },
  {
   "cell_type": "markdown",
   "id": "12715ab9",
   "metadata": {},
   "source": [
    "#### pop()"
   ]
  },
  {
   "cell_type": "code",
   "execution_count": 39,
   "id": "d5728be7",
   "metadata": {},
   "outputs": [
    {
     "name": "stdout",
     "output_type": "stream",
     "text": [
      "{'aaku', 'yash', '123', 'kaku', 'kaka'}\n",
      "{'yash', '123', 'kaku', 'kaka'}\n"
     ]
    }
   ],
   "source": [
    "pop_item = {\"yash\", \"123\", \"kaka\", \"kaku\", \"aaku\"}\n",
    "print(pop_item)\n",
    "\n",
    "pop_item.pop()\n",
    "\n",
    "print(pop_item)"
   ]
  },
  {
   "cell_type": "code",
   "execution_count": 45,
   "id": "d4034323",
   "metadata": {},
   "outputs": [
    {
     "name": "stdout",
     "output_type": "stream",
     "text": [
      "{1, 2, 3, 4}\n",
      "{2, 3, 4}\n"
     ]
    }
   ],
   "source": [
    "pop_i = {1, 2, 3, 4}\n",
    "print(pop_i)\n",
    "\n",
    "pop_i.pop()\n",
    "\n",
    "print(pop_i)"
   ]
  },
  {
   "cell_type": "code",
   "execution_count": 48,
   "id": "ae700c0c",
   "metadata": {},
   "outputs": [
    {
     "name": "stdout",
     "output_type": "stream",
     "text": [
      "{3, 4, 5, 6, 7, 8, 9, 'yash', 'ankush'}\n",
      "{4, 5, 6, 7, 8, 9, 'yash', 'ankush'}\n"
     ]
    }
   ],
   "source": [
    "pop_1 = {6,5,7,8,9,\"yash\", \"ankush\", 3, 4}\n",
    "print(pop_1)\n",
    "\n",
    "pop_1.pop()\n",
    "\n",
    "print(pop_1)"
   ]
  },
  {
   "cell_type": "markdown",
   "id": "df5d4ca3",
   "metadata": {},
   "source": [
    "#### clear"
   ]
  },
  {
   "cell_type": "code",
   "execution_count": 49,
   "id": "065376fc",
   "metadata": {},
   "outputs": [
    {
     "name": "stdout",
     "output_type": "stream",
     "text": [
      "{3, 4, 5, 6, 7, 8, 9, 'yash', 'ankush'}\n",
      "set()\n"
     ]
    }
   ],
   "source": [
    "pop_1 = {6,5,7,8,9,\"yash\", \"ankush\", 3, 4}\n",
    "print(pop_c)\n",
    "pop_c.clear()\n",
    "print(pop_c)"
   ]
  },
  {
   "cell_type": "code",
   "execution_count": 51,
   "id": "f12e3c2c",
   "metadata": {},
   "outputs": [
    {
     "name": "stdout",
     "output_type": "stream",
     "text": [
      "[6, 5, 7, 8, 9, 'yash', 'ankush', 3, 4]\n",
      "[]\n"
     ]
    }
   ],
   "source": [
    "pop_l = [6,5,7,8,9,\"yash\", \"ankush\", 3, 4]\n",
    "\n",
    "print(pop_l)\n",
    "\n",
    "pop_l.clear()\n",
    "\n",
    "print(pop_l)"
   ]
  },
  {
   "cell_type": "code",
   "execution_count": 52,
   "id": "f70fa935",
   "metadata": {},
   "outputs": [
    {
     "data": {
      "text/plain": [
       "list"
      ]
     },
     "execution_count": 52,
     "metadata": {},
     "output_type": "execute_result"
    }
   ],
   "source": [
    "type([])"
   ]
  },
  {
   "cell_type": "code",
   "execution_count": 53,
   "id": "8700fb2c",
   "metadata": {},
   "outputs": [
    {
     "data": {
      "text/plain": [
       "dict"
      ]
     },
     "execution_count": 53,
     "metadata": {},
     "output_type": "execute_result"
    }
   ],
   "source": [
    "type({})"
   ]
  },
  {
   "cell_type": "code",
   "execution_count": 54,
   "id": "0f3c582d",
   "metadata": {},
   "outputs": [
    {
     "data": {
      "text/plain": [
       "set"
      ]
     },
     "execution_count": 54,
     "metadata": {},
     "output_type": "execute_result"
    }
   ],
   "source": [
    "type(set())"
   ]
  },
  {
   "cell_type": "markdown",
   "id": "8a7a2907",
   "metadata": {},
   "source": [
    "## intersection method"
   ]
  },
  {
   "cell_type": "code",
   "execution_count": 55,
   "id": "d6697bf5",
   "metadata": {},
   "outputs": [
    {
     "data": {
      "text/plain": [
       "{1, 2}"
      ]
     },
     "execution_count": 55,
     "metadata": {},
     "output_type": "execute_result"
    }
   ],
   "source": [
    "intersection_item = {1,2,3}\n",
    "inter = {1,2,4,5,6}\n",
    "intersection_item.intersection(inter)"
   ]
  },
  {
   "cell_type": "code",
   "execution_count": 58,
   "id": "44fa96eb",
   "metadata": {},
   "outputs": [
    {
     "name": "stdout",
     "output_type": "stream",
     "text": [
      "{'R'}\n"
     ]
    },
    {
     "data": {
      "text/plain": [
       "set"
      ]
     },
     "execution_count": 58,
     "metadata": {},
     "output_type": "execute_result"
    }
   ],
   "source": [
    "set1 = {\"Python\",\"R\"}\n",
    "set2 = {\"R\",\"Java\"}\n",
    "# set4 = [\"C\",\"R\",\"C++\"]\n",
    "\n",
    "set1.intersection_update(set2)\n",
    "print(set1)\n",
    "type(set1)"
   ]
  },
  {
   "cell_type": "code",
   "execution_count": 59,
   "id": "18c616c0",
   "metadata": {},
   "outputs": [
    {
     "name": "stdout",
     "output_type": "stream",
     "text": [
      "None\n"
     ]
    },
    {
     "data": {
      "text/plain": [
       "NoneType"
      ]
     },
     "execution_count": 59,
     "metadata": {},
     "output_type": "execute_result"
    }
   ],
   "source": [
    "set1 = {\"Python\",\"R\"}\n",
    "set2 = {\"R\",\"Java\"}\n",
    "# set4 = [\"C\",\"R\",\"C++\"]\n",
    "\n",
    "s = set1.intersection_update(set2)\n",
    "print(s)\n",
    "type(s)"
   ]
  },
  {
   "cell_type": "markdown",
   "id": "af8432a1",
   "metadata": {},
   "source": [
    "# intersection method\n",
    "- it returns a common point between two sets"
   ]
  },
  {
   "cell_type": "code",
   "execution_count": 3,
   "id": "a494f803",
   "metadata": {},
   "outputs": [
    {
     "name": "stdout",
     "output_type": "stream",
     "text": [
      "{1, 2, 3, 4}\n"
     ]
    }
   ],
   "source": [
    "ex_set = {1,2,3,4}\n",
    "ex_set1 = {2,4,5,6,7,8}\n",
    "\n",
    "ex_set.intersection(ex_set1)\n",
    "print(ex_set)"
   ]
  },
  {
   "cell_type": "code",
   "execution_count": 6,
   "id": "42be8c14",
   "metadata": {},
   "outputs": [
    {
     "name": "stdout",
     "output_type": "stream",
     "text": [
      "{1, 2, 3, 4}\n"
     ]
    }
   ],
   "source": [
    "set1 = {1,2,3,4}\n",
    "set2 = {2,4,5,6,7,8}\n",
    "\n",
    "set1.intersection(set1)\n",
    "print(ex_set)"
   ]
  },
  {
   "cell_type": "code",
   "execution_count": 7,
   "id": "6a752b7f",
   "metadata": {},
   "outputs": [
    {
     "name": "stdout",
     "output_type": "stream",
     "text": [
      "{'R'}\n",
      "<class 'set'>\n"
     ]
    }
   ],
   "source": [
    "new = {\"python\", \"R\", \"java\"}\n",
    "items = {\"R\", \"C\",\"C++\"}\n",
    "\n",
    "o = new.intersection(items)\n",
    "print(o)\n",
    "print(type(o))"
   ]
  },
  {
   "cell_type": "code",
   "execution_count": 73,
   "id": "80a13cfc",
   "metadata": {},
   "outputs": [
    {
     "name": "stdout",
     "output_type": "stream",
     "text": [
      "{3, 4}\n"
     ]
    }
   ],
   "source": [
    "intersec = {1,2,3,4}\n",
    "inter2 = {4,5,6,3}\n",
    "inter3 = {4,7,8,9,3}\n",
    "\n",
    "new_inter = intersec.intersection(inter2, inter3)\n",
    "print(new_inter)"
   ]
  },
  {
   "cell_type": "markdown",
   "id": "8388e6fe",
   "metadata": {},
   "source": [
    "# intersection _update()"
   ]
  },
  {
   "cell_type": "code",
   "execution_count": 77,
   "id": "3572c57f",
   "metadata": {},
   "outputs": [
    {
     "name": "stdout",
     "output_type": "stream",
     "text": [
      "{3, 4}\n"
     ]
    }
   ],
   "source": [
    "intersec = {1,2,3,4}\n",
    "inter2 = {4,5,6,3}\n",
    "inter3 = {4,7,8,9,3}\n",
    "\n",
    "intersec.intersection_update(inter2, inter3)\n",
    "\n",
    "print(intersec)"
   ]
  },
  {
   "cell_type": "code",
   "execution_count": 87,
   "id": "1d7e9dfc",
   "metadata": {},
   "outputs": [
    {
     "name": "stdout",
     "output_type": "stream",
     "text": [
      "{'game', 'PC'}\n"
     ]
    }
   ],
   "source": [
    "txt_up = {\"python\", \"data\", \"science\", \"PC\",\"game\"}\n",
    "villens = [\"vulture\", \"scorpoin\", \"PC\",\"mr negative\", \"game\"]\n",
    "heros = (\"spiderman\", \"PC\", \"game\",\"gween\",\"mj\")\n",
    "\n",
    "txt_up.intersection_update(villens , heros)\n",
    "\n",
    "print(txt_up)"
   ]
  },
  {
   "cell_type": "code",
   "execution_count": null,
   "id": "c398e27d",
   "metadata": {},
   "outputs": [],
   "source": []
  },
  {
   "cell_type": "code",
   "execution_count": null,
   "id": "24ebeea6",
   "metadata": {},
   "outputs": [],
   "source": []
  },
  {
   "cell_type": "markdown",
   "id": "ccadf808",
   "metadata": {},
   "source": [
    "# set1.disference(set2)\n",
    "- what is the difference between set1 elements with set2"
   ]
  },
  {
   "cell_type": "code",
   "execution_count": 62,
   "id": "6281179e",
   "metadata": {},
   "outputs": [
    {
     "name": "stdout",
     "output_type": "stream",
     "text": [
      "set()\n",
      "<class 'set'>\n"
     ]
    }
   ],
   "source": [
    "new = {\"python\", \"R\", \"java\"}\n",
    "items = {\"R\", \"C\",\"C++\"}\n",
    "items2 = {1,2,3,\"java\",\"python\",\"R\"}\n",
    "f = new.difference(items,items2)\n",
    "print(f) ## this returs empty set because the elements are already present in the items set\n",
    "print(type(f))"
   ]
  },
  {
   "cell_type": "code",
   "execution_count": 92,
   "id": "311d4480",
   "metadata": {},
   "outputs": [
    {
     "data": {
      "text/plain": [
       "{'C', 'C++'}"
      ]
     },
     "execution_count": 92,
     "metadata": {},
     "output_type": "execute_result"
    }
   ],
   "source": [
    "new = [\"python\", \"R\", \"java\"]\n",
    "items = {\"R\", \"C\",\"C++\"}\n",
    "items2 = (1,2,3,\"java\",\"python\",\"R\")\n",
    "items.difference(new, items2)"
   ]
  },
  {
   "cell_type": "code",
   "execution_count": null,
   "id": "4d6cdbbe",
   "metadata": {},
   "outputs": [],
   "source": []
  },
  {
   "cell_type": "code",
   "execution_count": 90,
   "id": "3f390302",
   "metadata": {},
   "outputs": [
    {
     "name": "stdout",
     "output_type": "stream",
     "text": [
      "set()\n"
     ]
    }
   ],
   "source": [
    "num = {1,2,3,4,5,6}\n",
    "num2 = {1,2,3,4,5,6,7,8,9}\n",
    "neww_set = num.difference(num2)\n",
    "print(neww_set)"
   ]
  },
  {
   "cell_type": "code",
   "execution_count": 89,
   "id": "0a31fc21",
   "metadata": {},
   "outputs": [
    {
     "name": "stdout",
     "output_type": "stream",
     "text": [
      "set()\n"
     ]
    }
   ],
   "source": [
    "num = {1,2,3,4,5,6}\n",
    "num2 = (1,2,3,4,5,6,7,8,9)\n",
    "neww_set = num.difference(num2)\n",
    "print(neww_set)"
   ]
  },
  {
   "cell_type": "code",
   "execution_count": 98,
   "id": "74aaf50d",
   "metadata": {},
   "outputs": [
    {
     "data": {
      "text/plain": [
       "set()"
      ]
     },
     "execution_count": 98,
     "metadata": {},
     "output_type": "execute_result"
    }
   ],
   "source": [
    "set1 = {'Pune','Mumbai','Delhi','Kolkata','Hyderabad'}\n",
    "set2 = (\"Pune\",'Bangalore','Chennai','Mumbai') # this set2 could be anything\n",
    "set3 = [\"Pune\",'Bangalore','Chennai','Mumbai','Delhi','Kolkata','Hyderabad']\n",
    "\n",
    "new_set = set1.difference(set2, set3)\n",
    "new_set"
   ]
  },
  {
   "cell_type": "code",
   "execution_count": 99,
   "id": "72a47787",
   "metadata": {},
   "outputs": [
    {
     "data": {
      "text/plain": [
       "{'Delhi', 'Hyderabad', 'Kolkata'}"
      ]
     },
     "execution_count": 99,
     "metadata": {},
     "output_type": "execute_result"
    }
   ],
   "source": [
    "set1 = {'Pune','Mumbai','Delhi','Kolkata','Hyderabad'}\n",
    "set2 = (\"Pune\",'Bangalore','Chennai','Mumbai') # this set2 could be anything\n",
    "set3 = [\"Pune\",'Bangalore']\n",
    "\n",
    "new_set = set1.difference(set2, set3)\n",
    "new_set"
   ]
  },
  {
   "cell_type": "code",
   "execution_count": null,
   "id": "600ff69c",
   "metadata": {},
   "outputs": [],
   "source": []
  },
  {
   "cell_type": "code",
   "execution_count": null,
   "id": "20dea72e",
   "metadata": {},
   "outputs": [],
   "source": []
  },
  {
   "cell_type": "markdown",
   "id": "f773ba19",
   "metadata": {},
   "source": [
    "# difference_update"
   ]
  },
  {
   "cell_type": "code",
   "execution_count": 67,
   "id": "1dc1403c",
   "metadata": {},
   "outputs": [
    {
     "name": "stdout",
     "output_type": "stream",
     "text": [
      "{7, 8, 9}\n"
     ]
    }
   ],
   "source": [
    "# this method is simply going to update the the existing set into new set \n",
    "\n",
    "diff_up = {1, 2, 3, 4, \"Python\", \"data\", \"science\"}  # in this list after \"python\" it will \n",
    "diff_set = {1,2,3,4,5,6}\n",
    "diff_2 = {7,8,9,1,2,3}\n",
    "\n",
    "diff_2.difference_update(diff_set, diff_up)\n",
    "print(diff_2)\n",
    "# print(new_diff_update)"
   ]
  },
  {
   "cell_type": "code",
   "execution_count": null,
   "id": "d63638a9",
   "metadata": {},
   "outputs": [],
   "source": []
  },
  {
   "cell_type": "code",
   "execution_count": 107,
   "id": "eef4aae0",
   "metadata": {},
   "outputs": [
    {
     "name": "stdout",
     "output_type": "stream",
     "text": [
      "{4, 5, 6, 7, 8, 9}\n"
     ]
    }
   ],
   "source": [
    "new_diff = {1,2,3,4,5,6}\n",
    "new_diff_2 = {7,8,9,1,2,3}\n",
    "\n",
    "result = new_diff.symmetric_difference(new_diff_2)\n",
    "print(result)"
   ]
  },
  {
   "cell_type": "code",
   "execution_count": null,
   "id": "318beb28",
   "metadata": {},
   "outputs": [],
   "source": []
  },
  {
   "cell_type": "markdown",
   "id": "6bc7fa3d",
   "metadata": {},
   "source": [
    "# symetric_difference_update()"
   ]
  },
  {
   "cell_type": "code",
   "execution_count": 7,
   "id": "7a49f4e1",
   "metadata": {},
   "outputs": [
    {
     "ename": "TypeError",
     "evalue": "set.symmetric_difference_update() takes exactly one argument (2 given)",
     "output_type": "error",
     "traceback": [
      "\u001b[1;31m---------------------------------------------------------------------------\u001b[0m",
      "\u001b[1;31mTypeError\u001b[0m                                 Traceback (most recent call last)",
      "Input \u001b[1;32mIn [7]\u001b[0m, in \u001b[0;36m<cell line: 6>\u001b[1;34m()\u001b[0m\n\u001b[0;32m      3\u001b[0m z \u001b[38;5;241m=\u001b[39m [\u001b[38;5;241m1\u001b[39m,\u001b[38;5;241m2\u001b[39m,\u001b[38;5;241m3\u001b[39m,\u001b[38;5;241m4\u001b[39m,\u001b[38;5;241m5\u001b[39m]\n\u001b[0;32m      4\u001b[0m \u001b[38;5;66;03m# z = range(10)\u001b[39;00m\n\u001b[1;32m----> 6\u001b[0m \u001b[43mx\u001b[49m\u001b[38;5;241;43m.\u001b[39;49m\u001b[43msymmetric_difference_update\u001b[49m\u001b[43m(\u001b[49m\u001b[43my\u001b[49m\u001b[43m,\u001b[49m\u001b[43mz\u001b[49m\u001b[43m)\u001b[49m\n\u001b[0;32m      7\u001b[0m \u001b[38;5;28mprint\u001b[39m(x)\n",
      "\u001b[1;31mTypeError\u001b[0m: set.symmetric_difference_update() takes exactly one argument (2 given)"
     ]
    }
   ],
   "source": [
    "x = {\"apple\", \"banana\", \"cherry\"}\n",
    "y = {\"google\", \"microsoft\", \"apple\"}\n",
    "z = [1,2,3,4,5]\n",
    "# z = range(10)\n",
    "\n",
    "x.symmetric_difference_update(y,z)\n",
    "print(x)"
   ]
  },
  {
   "cell_type": "code",
   "execution_count": 10,
   "id": "21b3e2a4",
   "metadata": {},
   "outputs": [
    {
     "name": "stdout",
     "output_type": "stream",
     "text": [
      "{0, 'banana', 1, 2, 3, 4, 5, 6, 7, 8, 9, 'apple', 'cherry'}\n"
     ]
    }
   ],
   "source": [
    "x = {\"apple\", \"banana\", \"cherry\"}\n",
    "y = (\"google\", \"microsoft\", \"apple\")\n",
    "# z = [1,2,3,4,5]\n",
    "z = range(10)\n",
    "\n",
    "x.symmetric_difference_update(z)\n",
    "print(x)"
   ]
  },
  {
   "cell_type": "code",
   "execution_count": 17,
   "id": "3dbbecce",
   "metadata": {},
   "outputs": [
    {
     "name": "stdout",
     "output_type": "stream",
     "text": [
      "{'cherry', 'two', 'three'}\n"
     ]
    }
   ],
   "source": [
    "x = {\"apple\", \"banana\", \"cherry\"}\n",
    "\n",
    "a = {\"banana\":\"cherry\", \"two\":\"banana\", \"three\":3, \"apple\":1}\n",
    "# y = {\"google\", \"microsoft\", \"apple\"}\n",
    "# z = [1,2,3,4,5]\n",
    "# z = range(10)\n",
    "\n",
    "\n",
    "x.symmetric_difference_update(a)\n",
    "print(x)"
   ]
  },
  {
   "cell_type": "code",
   "execution_count": null,
   "id": "79296faf",
   "metadata": {},
   "outputs": [],
   "source": []
  },
  {
   "cell_type": "markdown",
   "id": "dfe8bfb2",
   "metadata": {},
   "source": [
    "# remove()"
   ]
  },
  {
   "cell_type": "code",
   "execution_count": 19,
   "id": "e6065349",
   "metadata": {},
   "outputs": [
    {
     "name": "stdout",
     "output_type": "stream",
     "text": [
      "{'C', 'Python', 'Java', 'R'}\n"
     ]
    }
   ],
   "source": [
    "lang_set = {'C++', 'Java', 'C', 'Python', 'R'}\n",
    "\n",
    "lang_set.remove(\"C++\")\n",
    "print(lang_set)"
   ]
  },
  {
   "cell_type": "code",
   "execution_count": 21,
   "id": "7162b0d7",
   "metadata": {},
   "outputs": [
    {
     "ename": "KeyError",
     "evalue": "'lang_set'",
     "output_type": "error",
     "traceback": [
      "\u001b[1;31m---------------------------------------------------------------------------\u001b[0m",
      "\u001b[1;31mKeyError\u001b[0m                                  Traceback (most recent call last)",
      "Input \u001b[1;32mIn [21]\u001b[0m, in \u001b[0;36m<cell line: 3>\u001b[1;34m()\u001b[0m\n\u001b[0;32m      1\u001b[0m lang_set \u001b[38;5;241m=\u001b[39m {\u001b[38;5;124m'\u001b[39m\u001b[38;5;124mC++\u001b[39m\u001b[38;5;124m'\u001b[39m, \u001b[38;5;124m'\u001b[39m\u001b[38;5;124mJava\u001b[39m\u001b[38;5;124m'\u001b[39m, \u001b[38;5;124m'\u001b[39m\u001b[38;5;124mC\u001b[39m\u001b[38;5;124m'\u001b[39m, \u001b[38;5;124m'\u001b[39m\u001b[38;5;124mPython\u001b[39m\u001b[38;5;124m'\u001b[39m, \u001b[38;5;124m'\u001b[39m\u001b[38;5;124mR\u001b[39m\u001b[38;5;124m'\u001b[39m}\n\u001b[1;32m----> 3\u001b[0m \u001b[43mlang_set\u001b[49m\u001b[38;5;241;43m.\u001b[39;49m\u001b[43mremove\u001b[49m\u001b[43m(\u001b[49m\u001b[38;5;124;43m\"\u001b[39;49m\u001b[38;5;124;43mlang_set\u001b[39;49m\u001b[38;5;124;43m\"\u001b[39;49m\u001b[43m)\u001b[49m\n\u001b[0;32m      4\u001b[0m \u001b[38;5;28mprint\u001b[39m(lang_set)\n",
      "\u001b[1;31mKeyError\u001b[0m: 'lang_set'"
     ]
    }
   ],
   "source": [
    "lang_set = {'C++', 'Java', 'C', 'Python', 'R'}\n",
    "\n",
    "lang_set.remove(\"lang_set\")\n",
    "print(lang_set)"
   ]
  },
  {
   "cell_type": "code",
   "execution_count": 22,
   "id": "d870f8fc",
   "metadata": {},
   "outputs": [
    {
     "name": "stdout",
     "output_type": "stream",
     "text": [
      "{'C', 'Python', 'C++', 'R'}\n"
     ]
    }
   ],
   "source": [
    "lang_set = {'C++', 'Java', 'C', 'Python', 'R'}\n",
    "\n",
    "lang_set.discard(\"Java\")\n",
    "print(lang_set)"
   ]
  },
  {
   "cell_type": "code",
   "execution_count": 23,
   "id": "68c05c00",
   "metadata": {},
   "outputs": [
    {
     "name": "stdout",
     "output_type": "stream",
     "text": [
      "{'C', 'Python', 'C++', 'Java', 'R'}\n"
     ]
    }
   ],
   "source": [
    "lang_set = {'C++', 'Java', 'C', 'Python', 'R'}\n",
    "\n",
    "lang_set.discard(\"rr\")\n",
    "print(lang_set)"
   ]
  },
  {
   "cell_type": "code",
   "execution_count": 26,
   "id": "0677bfed",
   "metadata": {},
   "outputs": [
    {
     "name": "stdout",
     "output_type": "stream",
     "text": [
      "after remove an item :- {'Python', 'C++', 'Java', 'R'}\n",
      "removed item: C\n"
     ]
    }
   ],
   "source": [
    "lang_set = {'C++', 'Java', 'C', 'Python', 'R'}\n",
    "\n",
    "item = lang_set.pop()\n",
    "print(f\"after remove an item :- {lang_set}\")\n",
    "print(f\"removed item: {item}\")"
   ]
  },
  {
   "cell_type": "code",
   "execution_count": 27,
   "id": "6ce51531",
   "metadata": {},
   "outputs": [
    {
     "name": "stdout",
     "output_type": "stream",
     "text": [
      "set()\n"
     ]
    }
   ],
   "source": [
    "lang_set = {'C++', 'Java', 'C', 'Python', 'R'}\n",
    "lang_set.clear()\n",
    "print(lang_set)"
   ]
  },
  {
   "cell_type": "markdown",
   "id": "2551df97",
   "metadata": {},
   "source": [
    "# .issubset()"
   ]
  },
  {
   "cell_type": "code",
   "execution_count": 30,
   "id": "055df21e",
   "metadata": {},
   "outputs": [
    {
     "data": {
      "text/plain": [
       "True"
      ]
     },
     "execution_count": 30,
     "metadata": {},
     "output_type": "execute_result"
    }
   ],
   "source": [
    "lang_set = {'C++', 'Java', 'C', 'Python', 'R'} # Bag\n",
    "subset = {'C++', 'Java',} # items from the bag\n",
    "\n",
    "subset.issubset(lang_set)"
   ]
  },
  {
   "cell_type": "code",
   "execution_count": 74,
   "id": "b87c9d7c",
   "metadata": {},
   "outputs": [
    {
     "data": {
      "text/plain": [
       "True"
      ]
     },
     "execution_count": 74,
     "metadata": {},
     "output_type": "execute_result"
    }
   ],
   "source": [
    "lang_set = {'C++', 'Java', 'C', 'Python', 'R'} # Bag\n",
    "subset = {'C++', 'Java',} # items from the bag\n",
    "\n",
    "lang_set != subset # every element in lang_set is in subset"
   ]
  },
  {
   "cell_type": "code",
   "execution_count": 75,
   "id": "9942209b",
   "metadata": {},
   "outputs": [
    {
     "data": {
      "text/plain": [
       "True"
      ]
     },
     "execution_count": 75,
     "metadata": {},
     "output_type": "execute_result"
    }
   ],
   "source": [
    "lang_set = {'C++', 'Java', 'C', 'Python', 'R'} # Bag\n",
    "subset = {'C++', 'Java',} # items from the bag\n",
    "\n",
    "subset <=  lang_set # every element in lang_set is in subset"
   ]
  },
  {
   "cell_type": "code",
   "execution_count": 76,
   "id": "609f468c",
   "metadata": {},
   "outputs": [
    {
     "data": {
      "text/plain": [
       "False"
      ]
     },
     "execution_count": 76,
     "metadata": {},
     "output_type": "execute_result"
    }
   ],
   "source": [
    "lang_set = {'C++', 'Java', 'C', 'Python', 'R'} # Bag\n",
    "subset = {'C++', 'Java',} # items from the bag\n",
    "\n",
    "subset >=  lang_set # every element in lang_set is in subset"
   ]
  },
  {
   "cell_type": "code",
   "execution_count": 31,
   "id": "6d0a7ea1",
   "metadata": {},
   "outputs": [
    {
     "data": {
      "text/plain": [
       "True"
      ]
     },
     "execution_count": 31,
     "metadata": {},
     "output_type": "execute_result"
    }
   ],
   "source": [
    "lang_set = ('C++', 'Java', 'C', 'Python', 'R') # Bag\n",
    "subset = {'C++', 'Java',} # items from the bag\n",
    "\n",
    "subset.issubset(lang_set)"
   ]
  },
  {
   "cell_type": "code",
   "execution_count": 68,
   "id": "f1697911",
   "metadata": {},
   "outputs": [
    {
     "data": {
      "text/plain": [
       "True"
      ]
     },
     "execution_count": 68,
     "metadata": {},
     "output_type": "execute_result"
    }
   ],
   "source": [
    "lang_set = ['C++', 'Java', 'C', 'Python', 'R'] # Bag\n",
    "subset = {'C++', 'Java'} # items from the bag\n",
    "\n",
    "subset.issubset(lang_set)"
   ]
  },
  {
   "cell_type": "code",
   "execution_count": 37,
   "id": "327ff7a4",
   "metadata": {},
   "outputs": [
    {
     "data": {
      "text/plain": [
       "True"
      ]
     },
     "execution_count": 37,
     "metadata": {},
     "output_type": "execute_result"
    }
   ],
   "source": [
    "lang_set = range(1,5)\n",
    "sub_num = {1,2,3}\n",
    "\n",
    "sub_num.issubset(lang_set)"
   ]
  },
  {
   "cell_type": "code",
   "execution_count": 67,
   "id": "25f4a81d",
   "metadata": {},
   "outputs": [
    {
     "name": "stdout",
     "output_type": "stream",
     "text": [
      "True\n"
     ]
    }
   ],
   "source": [
    "lang_set = {\"one\":1, 1:\"one\", \"two\":2, 2: \"two\", \"three\":3, 3:\"three\"}\n",
    "\n",
    "sub_num = {1,2,3}\n",
    "\n",
    "result = sub_num.issubset(lang_set)\n",
    "print(result)"
   ]
  },
  {
   "cell_type": "code",
   "execution_count": 43,
   "id": "ce1837ac",
   "metadata": {},
   "outputs": [
    {
     "data": {
      "text/plain": [
       "False"
      ]
     },
     "execution_count": 43,
     "metadata": {},
     "output_type": "execute_result"
    }
   ],
   "source": [
    "lang_set = {\"one\":1, \"two\":2, \"three\":3, }\n",
    "\n",
    "sub_num = {1,2,3}\n",
    "\n",
    "# result = sub_num.issubset(lang_set)\n",
    "# print(result)\n",
    "sub_num.issubset(lang_set)"
   ]
  },
  {
   "cell_type": "code",
   "execution_count": 61,
   "id": "382f620f",
   "metadata": {},
   "outputs": [
    {
     "data": {
      "text/plain": [
       "False"
      ]
     },
     "execution_count": 61,
     "metadata": {},
     "output_type": "execute_result"
    }
   ],
   "source": [
    "lang_set = {'C++', 'Java', 'C', 'Python', 'R'} # Bag\n",
    "subset = {'C++', 'Java',} # elements from a  bag\n",
    "\n",
    "lang_set <= subset # bag <= element from a bag"
   ]
  },
  {
   "cell_type": "code",
   "execution_count": 62,
   "id": "79a5d6df",
   "metadata": {},
   "outputs": [
    {
     "data": {
      "text/plain": [
       "True"
      ]
     },
     "execution_count": 62,
     "metadata": {},
     "output_type": "execute_result"
    }
   ],
   "source": [
    "lang_set = {'C++', 'Java', 'C', 'Python', 'R'} # Bag\n",
    "subset = {'C++', 'Java',} # elements from a  bag\n",
    "\n",
    "lang_set >= subset # bag >= element from a bag"
   ]
  },
  {
   "cell_type": "code",
   "execution_count": null,
   "id": "5110e625",
   "metadata": {},
   "outputs": [],
   "source": []
  },
  {
   "cell_type": "code",
   "execution_count": 65,
   "id": "46faf1b2",
   "metadata": {},
   "outputs": [
    {
     "data": {
      "text/plain": [
       "True"
      ]
     },
     "execution_count": 65,
     "metadata": {},
     "output_type": "execute_result"
    }
   ],
   "source": [
    "lang_set = {'C++', 'Java', 'C', 'Python', 'R'} # Bag\n",
    "subset = {'C++', 'Java',} # elements from a  bag\n",
    "\n",
    "lang_set > subset"
   ]
  },
  {
   "cell_type": "code",
   "execution_count": null,
   "id": "2949bddb",
   "metadata": {},
   "outputs": [],
   "source": []
  },
  {
   "cell_type": "markdown",
   "id": "2be7d950",
   "metadata": {},
   "source": [
    "# issuperset()"
   ]
  },
  {
   "cell_type": "code",
   "execution_count": 46,
   "id": "6838d343",
   "metadata": {},
   "outputs": [
    {
     "name": "stdout",
     "output_type": "stream",
     "text": [
      "True\n"
     ]
    }
   ],
   "source": [
    "x = {\"f\", \"e\", \"d\", \"c\", \"b\", \"a\"}\n",
    "y = {\"a\", \"b\", \"c\"}\n",
    "\n",
    "z = x.issuperset(y)\n",
    "\n",
    "print(z)"
   ]
  },
  {
   "cell_type": "code",
   "execution_count": 49,
   "id": "6288cc5b",
   "metadata": {},
   "outputs": [
    {
     "name": "stdout",
     "output_type": "stream",
     "text": [
      "False\n"
     ]
    }
   ],
   "source": [
    "x = {\"f\", \"e\", \"d\", \"c\", \"b\", \"a\"}\n",
    "y = {\"a\", \"b\", \"c\"}\n",
    "z = y.issuperset(x)\n",
    "print(z)"
   ]
  },
  {
   "cell_type": "code",
   "execution_count": 52,
   "id": "d26d7d84",
   "metadata": {},
   "outputs": [
    {
     "name": "stdout",
     "output_type": "stream",
     "text": [
      "False\n"
     ]
    }
   ],
   "source": [
    "x = {\"f\", \"e\", \"d\", \"c\", \"b\"}\n",
    "y = {\"a\", \"b\", \"c\"}\n",
    "\n",
    "z = x.issuperset(y) \n",
    "\n",
    "print(z)"
   ]
  },
  {
   "cell_type": "code",
   "execution_count": 53,
   "id": "983b65bd",
   "metadata": {},
   "outputs": [
    {
     "name": "stdout",
     "output_type": "stream",
     "text": [
      "False\n"
     ]
    }
   ],
   "source": [
    "x = {\"f\", \"e\", \"d\", \"c\", \"b\"}\n",
    "y = {\"a\", \"b\", \"c\"}\n",
    "\n",
    "z = x.issubset(y) \n",
    "\n",
    "print(z)"
   ]
  },
  {
   "cell_type": "code",
   "execution_count": 55,
   "id": "93266bc4",
   "metadata": {},
   "outputs": [
    {
     "data": {
      "text/plain": [
       "False"
      ]
     },
     "execution_count": 55,
     "metadata": {},
     "output_type": "execute_result"
    }
   ],
   "source": [
    "set1 = {\"f\", \"e\", \"d\", \"c\", \"b\"}\n",
    "set2 = {\"a\", \"b\", \"c\"}\n",
    "set1 <= set2"
   ]
  },
  {
   "cell_type": "code",
   "execution_count": 56,
   "id": "0e01f14d",
   "metadata": {},
   "outputs": [
    {
     "data": {
      "text/plain": [
       "False"
      ]
     },
     "execution_count": 56,
     "metadata": {},
     "output_type": "execute_result"
    }
   ],
   "source": [
    "set1 = {\"f\", \"e\", \"d\", \"c\", \"b\"}\n",
    "set2 = {\"a\", \"b\", \"c\"}\n",
    "set1 >= set2"
   ]
  },
  {
   "cell_type": "code",
   "execution_count": 58,
   "id": "0fff5adb",
   "metadata": {},
   "outputs": [
    {
     "data": {
      "text/plain": [
       "True"
      ]
     },
     "execution_count": 58,
     "metadata": {},
     "output_type": "execute_result"
    }
   ],
   "source": [
    "x = {\"f\", \"e\", \"d\", \"c\", \"b\", \"a\"}\n",
    "y = {\"a\", \"b\", \"c\"}\n",
    "x >= y"
   ]
  },
  {
   "cell_type": "code",
   "execution_count": 79,
   "id": "430396a8",
   "metadata": {},
   "outputs": [
    {
     "data": {
      "text/plain": [
       "False"
      ]
     },
     "execution_count": 79,
     "metadata": {},
     "output_type": "execute_result"
    }
   ],
   "source": [
    "s1 = { 34 ,901 , 89 , 'king'}\n",
    "s2 = { 34 , 'text' , 'Heap' , 89 , 901 ,1000 , 'king'}\n",
    "\n",
    "s1 >= s2"
   ]
  },
  {
   "cell_type": "code",
   "execution_count": 83,
   "id": "ceb44e88",
   "metadata": {},
   "outputs": [
    {
     "data": {
      "text/plain": [
       "False"
      ]
     },
     "execution_count": 83,
     "metadata": {},
     "output_type": "execute_result"
    }
   ],
   "source": [
    "s1 = { 34 ,901 , 89 , 'king'}\n",
    "s2 = { 34 , 'text' , 'Heap' , 89 , 901 ,1000 , 'king'} \n",
    "s1.issuperset(s2)"
   ]
  },
  {
   "cell_type": "code",
   "execution_count": 84,
   "id": "e34dcd48",
   "metadata": {},
   "outputs": [
    {
     "data": {
      "text/plain": [
       "True"
      ]
     },
     "execution_count": 84,
     "metadata": {},
     "output_type": "execute_result"
    }
   ],
   "source": [
    "s1 = { 34 ,901 , 89 , 'king'}\n",
    "s2 = { 34 , 'text' , 'Heap' , 89 , 901 ,1000 , 'king'} \n",
    "s2.issuperset(s1)"
   ]
  },
  {
   "cell_type": "code",
   "execution_count": 85,
   "id": "8bdbc501",
   "metadata": {},
   "outputs": [
    {
     "data": {
      "text/plain": [
       "True"
      ]
     },
     "execution_count": 85,
     "metadata": {},
     "output_type": "execute_result"
    }
   ],
   "source": [
    "s1 = { 34 ,901 , 89 , 'king'}\n",
    "s2 = { 34 , 'text' , 'Heap' , 89 , 901 ,1000 , 'king'} \n",
    "s2 >= s1"
   ]
  },
  {
   "cell_type": "code",
   "execution_count": null,
   "id": "8b1df3d6",
   "metadata": {},
   "outputs": [],
   "source": []
  }
 ],
 "metadata": {
  "kernelspec": {
   "display_name": "Python 3 (ipykernel)",
   "language": "python",
   "name": "python3"
  },
  "language_info": {
   "codemirror_mode": {
    "name": "ipython",
    "version": 3
   },
   "file_extension": ".py",
   "mimetype": "text/x-python",
   "name": "python",
   "nbconvert_exporter": "python",
   "pygments_lexer": "ipython3",
   "version": "3.9.12"
  }
 },
 "nbformat": 4,
 "nbformat_minor": 5
}
