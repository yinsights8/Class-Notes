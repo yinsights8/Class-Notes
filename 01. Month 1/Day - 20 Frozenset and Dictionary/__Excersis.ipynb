{
 "cells": [
  {
   "cell_type": "markdown",
   "id": "7fbf8dee",
   "metadata": {},
   "source": [
    "### Exercise 1: Convert two lists into a dictionary"
   ]
  },
  {
   "cell_type": "code",
   "execution_count": 2,
   "id": "beeb47e6",
   "metadata": {},
   "outputs": [
    {
     "name": "stdout",
     "output_type": "stream",
     "text": [
      "{'Ten': 10, 'Twenty': 20, 'Thirty': 30}\n"
     ]
    }
   ],
   "source": [
    "keys = ['Ten', 'Twenty', 'Thirty']\n",
    "values = [10, 20, 30]\n",
    "\n",
    "dic = dict(zip(keys, values))\n",
    "print(dic)"
   ]
  },
  {
   "cell_type": "markdown",
   "id": "442122e3",
   "metadata": {},
   "source": [
    "### Exercise 2: Merge two Python dictionaries into one"
   ]
  },
  {
   "cell_type": "code",
   "execution_count": 4,
   "id": "34ec5c24",
   "metadata": {},
   "outputs": [
    {
     "name": "stdout",
     "output_type": "stream",
     "text": [
      "{'Ten': 10, 'Twenty': 20, 'Thirty': 30, 'Fourty': 40, 'Fifty': 50}\n"
     ]
    }
   ],
   "source": [
    "dict1 = {'Ten': 10, 'Twenty': 20, 'Thirty': 30}\n",
    "dict2 = {'Thirty': 30, 'Fourty': 40, 'Fifty': 50}\n",
    "\n",
    "method_1 = dict1 | dict2\n",
    "print(method_1)"
   ]
  },
  {
   "cell_type": "markdown",
   "id": "3e4de783",
   "metadata": {},
   "source": [
    "##### using **kwargs"
   ]
  },
  {
   "cell_type": "code",
   "execution_count": 12,
   "id": "c6f9fbce",
   "metadata": {},
   "outputs": [
    {
     "name": "stdout",
     "output_type": "stream",
     "text": [
      "{'Ten': 10, 'Twenty': 20, 'Thirty': 30, 'Fourty': 40, 'Fifty': 50}\n"
     ]
    }
   ],
   "source": [
    "method_2 = {**dict1, **dict2}\n",
    "print(method_2)"
   ]
  },
  {
   "cell_type": "markdown",
   "id": "89a355ab",
   "metadata": {},
   "source": [
    "##### update method"
   ]
  },
  {
   "cell_type": "code",
   "execution_count": 14,
   "id": "ca2d2b65",
   "metadata": {},
   "outputs": [
    {
     "name": "stdout",
     "output_type": "stream",
     "text": [
      "{'Ten': 10, 'Twenty': 20, 'Thirty': 30, 'Fourty': 40, 'Fifty': 50}\n"
     ]
    }
   ],
   "source": [
    "dict1 = {'Ten': 10, 'Twenty': 20, 'Thirty': 30}\n",
    "dict2 = {'Thirty': 30, 'Fourty': 40, 'Fifty': 50}\n",
    "\n",
    "dict3 = dict1.copy()\n",
    "dict3.update(dict2)\n",
    "print(dict3)"
   ]
  },
  {
   "cell_type": "markdown",
   "id": "12b3f6f9",
   "metadata": {},
   "source": [
    "#### Exercise 3: Print the value of key ‘history’ from the below dict"
   ]
  },
  {
   "cell_type": "code",
   "execution_count": 15,
   "id": "503a316a",
   "metadata": {},
   "outputs": [],
   "source": [
    "sampleDict = {\n",
    "    \"class\": {\n",
    "        \"student\": {\n",
    "            \"name\": \"Mike\",\n",
    "            \"marks\": {\n",
    "                \"physics\": 70,\n",
    "                \"history\": 80\n",
    "            }\n",
    "        }\n",
    "    }\n",
    "}"
   ]
  },
  {
   "cell_type": "code",
   "execution_count": 21,
   "id": "bcd1aeae",
   "metadata": {},
   "outputs": [
    {
     "data": {
      "text/plain": [
       "80"
      ]
     },
     "execution_count": 21,
     "metadata": {},
     "output_type": "execute_result"
    }
   ],
   "source": [
    "sampleDict[\"class\"][\"student\"][\"marks\"][\"history\"]"
   ]
  },
  {
   "cell_type": "markdown",
   "id": "6406530d",
   "metadata": {},
   "source": [
    "#### Exercise 4: Initialize dictionary with default values"
   ]
  },
  {
   "cell_type": "code",
   "execution_count": 22,
   "id": "bd7dae1b",
   "metadata": {},
   "outputs": [],
   "source": [
    "employees = ['Kelly', 'Emma']\n",
    "defaults = {\"designation\": 'Developer', \"salary\": 8000}"
   ]
  },
  {
   "cell_type": "markdown",
   "id": "7dfdb9ef",
   "metadata": {},
   "source": [
    "###### mehtod_1"
   ]
  },
  {
   "cell_type": "code",
   "execution_count": 23,
   "id": "87035f60",
   "metadata": {},
   "outputs": [
    {
     "name": "stdout",
     "output_type": "stream",
     "text": [
      "{'Kelly': {'designation': 'Developer', 'salary': 8000}, 'Emma': {'designation': 'Developer', 'salary': 8000}}\n"
     ]
    }
   ],
   "source": [
    "dict_1 = {}\n",
    "employees = ['Kelly', 'Emma']\n",
    "defaults = {\"designation\": 'Developer', \"salary\": 8000}\n",
    "\n",
    "for i in employees:\n",
    "    dict_1.update({i:defaults})\n",
    "print(dict_1)"
   ]
  },
  {
   "cell_type": "markdown",
   "id": "dca9463c",
   "metadata": {},
   "source": [
    "###### method_2"
   ]
  },
  {
   "cell_type": "code",
   "execution_count": 29,
   "id": "a670d822",
   "metadata": {},
   "outputs": [
    {
     "data": {
      "text/plain": [
       "{'Kelly': {'designation': 'Developer', 'salary': 8000},\n",
       " 'Emma': {'designation': 'Developer', 'salary': 8000}}"
      ]
     },
     "execution_count": 29,
     "metadata": {},
     "output_type": "execute_result"
    }
   ],
   "source": [
    "employees = ['Kelly', 'Emma']\n",
    "defaults = {\"designation\": 'Developer', \"salary\": 8000}\n",
    "dict_2 = dict.fromkeys(employees, defaults)\n",
    "\n",
    "dict_2\n"
   ]
  },
  {
   "cell_type": "markdown",
   "id": "8d922de4",
   "metadata": {},
   "source": [
    "### Q 5. Write a Python program to create a new dictionary by extracting the mentioned keys from the below dictionary."
   ]
  },
  {
   "cell_type": "code",
   "execution_count": 3,
   "id": "b0e94b25",
   "metadata": {},
   "outputs": [
    {
     "name": "stdout",
     "output_type": "stream",
     "text": [
      "{'name': 'Kelly', 'age': 25, 'salary': 8000, 'city': 'New york'}\n"
     ]
    },
    {
     "data": {
      "text/plain": [
       "{'name': 'Kelly', 'salary': 8000}"
      ]
     },
     "execution_count": 3,
     "metadata": {},
     "output_type": "execute_result"
    }
   ],
   "source": [
    "sample_dict = {\n",
    "    \"name\": \"Kelly\",\n",
    "    \"age\": 25,\n",
    "    \"salary\": 8000,\n",
    "    \"city\": \"New york\"\n",
    "}\n",
    "print(sample_dict)\n",
    "\n",
    "# Keys to extract\n",
    "keys = [\"name\", \"salary\"]\n",
    "\n",
    "# output\n",
    "{'name': 'Kelly', 'salary': 8000}"
   ]
  },
  {
   "cell_type": "code",
   "execution_count": 1,
   "id": "851ddda5",
   "metadata": {
    "scrolled": true
   },
   "outputs": [
    {
     "name": "stdout",
     "output_type": "stream",
     "text": [
      "{'name': 'Kelly', 'age': 25, 'salary': 8000, 'city': 'New york'}\n"
     ]
    }
   ],
   "source": [
    "sample_dict = {\n",
    "    \"name\": \"Kelly\",\n",
    "    \"age\": 25,\n",
    "    \"salary\": 8000,\n",
    "    \"city\": \"New york\"\n",
    "}\n",
    "\n",
    "sample_dict[\"name\"] \n",
    "sample_dict[\"salary\"]\n",
    "print(sample_dict)"
   ]
  },
  {
   "cell_type": "markdown",
   "id": "2e3448e7",
   "metadata": {},
   "source": [
    "###### Method 1"
   ]
  },
  {
   "cell_type": "code",
   "execution_count": 2,
   "id": "d705b3a7",
   "metadata": {},
   "outputs": [],
   "source": [
    "del sample_dict[\"age\"]\n",
    "del sample_dict[\"city\"]"
   ]
  },
  {
   "cell_type": "code",
   "execution_count": 3,
   "id": "33fb3af5",
   "metadata": {},
   "outputs": [
    {
     "name": "stdout",
     "output_type": "stream",
     "text": [
      "{'name': 'Kelly', 'salary': 8000}\n"
     ]
    }
   ],
   "source": [
    "print(sample_dict)"
   ]
  },
  {
   "cell_type": "markdown",
   "id": "f2b04fc4",
   "metadata": {},
   "source": [
    "###### Method 2"
   ]
  },
  {
   "cell_type": "code",
   "execution_count": 4,
   "id": "722d9720",
   "metadata": {},
   "outputs": [],
   "source": [
    "sample_dict = {\n",
    "    \"name\": \"Kelly\",\n",
    "    \"age\": 25,\n",
    "    \"salary\": 8000,\n",
    "    \"city\": \"New york\"\n",
    "}"
   ]
  },
  {
   "cell_type": "code",
   "execution_count": 8,
   "id": "b2f9a0d1",
   "metadata": {},
   "outputs": [
    {
     "name": "stdout",
     "output_type": "stream",
     "text": [
      "{'name': 'Kelly', 'salary': 8000}\n"
     ]
    }
   ],
   "source": [
    "new_dict = {}\n",
    "for i in sample_dict.keys():\n",
    "    if i == \"name\":\n",
    "        new_dict.update({i:sample_dict[i]})\n",
    "    elif i == \"salary\":\n",
    "        new_dict.update({i:sample_dict[i]})\n",
    "print(new_dict)"
   ]
  },
  {
   "cell_type": "markdown",
   "id": "9aaacfed",
   "metadata": {},
   "source": [
    "###### Method 3"
   ]
  },
  {
   "cell_type": "code",
   "execution_count": 11,
   "id": "cac4a519",
   "metadata": {},
   "outputs": [
    {
     "name": "stdout",
     "output_type": "stream",
     "text": [
      "{'name': 'Kelly', 'salary': 8000}\n"
     ]
    }
   ],
   "source": [
    "sample_dict = {\n",
    "    \"name\": \"Kelly\",\n",
    "    \"age\": 25,\n",
    "    \"salary\": 8000,\n",
    "    \"city\": \"New york\"\n",
    "}\n",
    "\n",
    "name_list = [\"name\", \"salary\"]\n",
    "\n",
    "new_dic = {key : sample_dict[key] for key in name_list}\n",
    "\n",
    "print(new_dic)"
   ]
  },
  {
   "cell_type": "code",
   "execution_count": 12,
   "id": "c65b88ba",
   "metadata": {},
   "outputs": [
    {
     "name": "stdout",
     "output_type": "stream",
     "text": [
      "name\n",
      "salary\n"
     ]
    }
   ],
   "source": [
    "for key in name_list:\n",
    "    print(key)"
   ]
  },
  {
   "cell_type": "markdown",
   "id": "1ffcb524",
   "metadata": {},
   "source": [
    "### Q 6: Delete a list of keys from a dictionary"
   ]
  },
  {
   "cell_type": "code",
   "execution_count": 15,
   "id": "ea12347e",
   "metadata": {},
   "outputs": [
    {
     "name": "stdout",
     "output_type": "stream",
     "text": [
      "Before deleting a keys: {'name': 'Kelly', 'age': 25, 'salary': 8000, 'city': 'New york'}\n",
      "\n",
      "After deleting a keys: {'age': 25, 'city': 'New york'}\n"
     ]
    }
   ],
   "source": [
    "sample_dict = {\n",
    "    \"name\": \"Kelly\",\n",
    "    \"age\": 25,\n",
    "    \"salary\": 8000,\n",
    "    \"city\": \"New york\"\n",
    "}\n",
    "\n",
    "print(f\"Before deleting a keys: {sample_dict}\")\n",
    "print()\n",
    "\n",
    "del_keys = [\"name\", \"salary\"]\n",
    "\n",
    "for k in del_keys:\n",
    "    del sample_dict[k]\n",
    "print(f\"After deleting a keys: {sample_dict}\")"
   ]
  },
  {
   "cell_type": "markdown",
   "id": "7a5d7d14",
   "metadata": {},
   "source": [
    "## Q.7 Write a Python program to check if value 200 exists in the following dictionary"
   ]
  },
  {
   "cell_type": "code",
   "execution_count": 1,
   "id": "1eabff8b",
   "metadata": {},
   "outputs": [
    {
     "name": "stdout",
     "output_type": "stream",
     "text": [
      "200 is present in a dictionary\n"
     ]
    }
   ],
   "source": [
    "sample_dict = {'a': 100, 'b': 200, 'c': 300}\n",
    "\n",
    "for val in sample_dict.values():\n",
    "    if val == 200:\n",
    "        print(f\"{val} is present in a dictionary\")\n",
    "\n",
    "# 200 present in a dict"
   ]
  },
  {
   "cell_type": "markdown",
   "id": "926beb7d",
   "metadata": {},
   "source": [
    "## Q 8. Write a program to rename a key city to a location in the following dictionary."
   ]
  },
  {
   "cell_type": "code",
   "execution_count": 13,
   "id": "237d2904",
   "metadata": {},
   "outputs": [
    {
     "name": "stdout",
     "output_type": "stream",
     "text": [
      "{'name': 'Kelly', 'age': 25, 'salary': 8000, 'Location': 'New york'}\n"
     ]
    }
   ],
   "source": [
    "sample_dict = {\n",
    "  \"name\": \"Kelly\",\n",
    "  \"age\":25,\n",
    "  \"salary\": 8000,\n",
    "  \"city\": \"New york\"\n",
    "}\n",
    "\n",
    "\n",
    "del sample_dict[\"city\"]\n",
    "\n",
    "sample_dict.update({\"Location\": \"New york\"})\n",
    "\n",
    "print(sample_dict)\n",
    "\n",
    "# output:- \n",
    "## {'name': 'Kelly', 'age': 25, 'salary': 8000, 'location': 'New york'}"
   ]
  },
  {
   "cell_type": "code",
   "execution_count": 14,
   "id": "3189e722",
   "metadata": {},
   "outputs": [
    {
     "name": "stdout",
     "output_type": "stream",
     "text": [
      "{'name': 'Kelly', 'age': 25, 'salary': 8000, 'location': 'New york'}\n"
     ]
    }
   ],
   "source": [
    "sample_dict = {\n",
    "  \"name\": \"Kelly\",\n",
    "  \"age\":25,\n",
    "  \"salary\": 8000,\n",
    "  \"city\": \"New york\"\n",
    "}\n",
    "\n",
    "sample_dict[\"location\"] = sample_dict.pop(\"city\")\n",
    "print(sample_dict)"
   ]
  },
  {
   "cell_type": "code",
   "execution_count": null,
   "id": "6202853c",
   "metadata": {},
   "outputs": [],
   "source": []
  },
  {
   "cell_type": "code",
   "execution_count": 22,
   "id": "d94919f5",
   "metadata": {},
   "outputs": [
    {
     "name": "stdout",
     "output_type": "stream",
     "text": [
      "{'name': 'Kelly', 'age': 25, 'salary': 8000, 'Location': 'New york'}\n"
     ]
    }
   ],
   "source": [
    "sample_dict = {\n",
    "  \"name\": \"Kelly\",\n",
    "  \"age\":25,\n",
    "  \"salary\": 8000,\n",
    "  \"city\": \"New york\"\n",
    "}\n",
    "\n",
    "dict1 = sample_dict.pop(\"city\")\n",
    "sample_dict['Location']=dict1\n",
    "print(sample_dict)"
   ]
  },
  {
   "cell_type": "markdown",
   "id": "c6749d20",
   "metadata": {},
   "source": [
    "### Q 9: Get the key of a minimum value from the following dictionary"
   ]
  },
  {
   "cell_type": "code",
   "execution_count": 25,
   "id": "72754f65",
   "metadata": {},
   "outputs": [
    {
     "name": "stdout",
     "output_type": "stream",
     "text": [
      "Math\n"
     ]
    }
   ],
   "source": [
    "sample_dict = {\n",
    "  'Physics': 82,\n",
    "  'Math': 65,\n",
    "  'history': 75\n",
    "}\n",
    "\n",
    "print(min(sample_dict))"
   ]
  },
  {
   "cell_type": "markdown",
   "id": "e9987a1e",
   "metadata": {},
   "source": [
    "## Q 10. Write a Python program to change Brad’s salary to 8500 in the following dictionary."
   ]
  },
  {
   "cell_type": "code",
   "execution_count": 31,
   "id": "8ed8aab0",
   "metadata": {},
   "outputs": [
    {
     "name": "stdout",
     "output_type": "stream",
     "text": [
      "{'emp1': {'name': 'Jhon', 'salary': 7500}, 'emp2': {'name': 'Emma', 'salary': 8000}, 'emp3': {'name': 'Brad', 'salary': 8500}}\n"
     ]
    }
   ],
   "source": [
    "sample_dict = {\n",
    "    'emp1': {'name': 'Jhon', 'salary': 7500},\n",
    "    'emp2': {'name': 'Emma', 'salary': 8000},\n",
    "    'emp3': {'name': 'Brad', 'salary': 500}\n",
    "}\n",
    "\n",
    "sample_dict[\"emp3\"][\"salary\"] = 8500\n",
    "\n",
    "print(sample_dict)"
   ]
  },
  {
   "cell_type": "code",
   "execution_count": null,
   "id": "565e0da7",
   "metadata": {},
   "outputs": [],
   "source": []
  },
  {
   "cell_type": "code",
   "execution_count": null,
   "id": "abf9bf5e",
   "metadata": {},
   "outputs": [],
   "source": []
  },
  {
   "cell_type": "code",
   "execution_count": null,
   "id": "1b75a250",
   "metadata": {},
   "outputs": [],
   "source": []
  },
  {
   "cell_type": "code",
   "execution_count": null,
   "id": "d3f92a48",
   "metadata": {},
   "outputs": [],
   "source": []
  }
 ],
 "metadata": {
  "kernelspec": {
   "display_name": "Python 3 (ipykernel)",
   "language": "python",
   "name": "python3"
  },
  "language_info": {
   "codemirror_mode": {
    "name": "ipython",
    "version": 3
   },
   "file_extension": ".py",
   "mimetype": "text/x-python",
   "name": "python",
   "nbconvert_exporter": "python",
   "pygments_lexer": "ipython3",
   "version": "3.9.12"
  }
 },
 "nbformat": 4,
 "nbformat_minor": 5
}
