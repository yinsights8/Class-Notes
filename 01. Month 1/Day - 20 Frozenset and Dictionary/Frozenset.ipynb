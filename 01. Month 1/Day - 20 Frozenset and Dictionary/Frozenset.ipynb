{
 "cells": [
  {
   "cell_type": "markdown",
   "id": "b6c6bf03",
   "metadata": {},
   "source": [
    "# Set DataType\n",
    "- 1. Unordered \n",
    "- 2. Mutable\n",
    "- 3. Duplicates are not allowed"
   ]
  },
  {
   "cell_type": "markdown",
   "id": "73883728",
   "metadata": {},
   "source": [
    "# Frozenset Datatype\n",
    "- 1. Unorderd \n",
    "- 2. Immutable\n",
    "- 3. Duplicates are not allowed"
   ]
  },
  {
   "cell_type": "markdown",
   "id": "f0c30294",
   "metadata": {},
   "source": [
    "# FrozenSet Functions\n",
    "- 1. union\n",
    "- 2. intersection\n",
    "- 3. difference\n",
    "- 4. symmetric_difference\n",
    "- 5. issubset\n",
    "- 6. issuperset\n",
    "- 7. isdisjoint"
   ]
  },
  {
   "cell_type": "code",
   "execution_count": 1,
   "id": "20504de3",
   "metadata": {},
   "outputs": [],
   "source": [
    "# Defining a set\n",
    "set1 = {1,2,3}\n",
    "set2 = set()"
   ]
  },
  {
   "cell_type": "code",
   "execution_count": 2,
   "id": "23984758",
   "metadata": {},
   "outputs": [
    {
     "data": {
      "text/plain": [
       "frozenset({1, 2, 3, 4, 5})"
      ]
     },
     "execution_count": 2,
     "metadata": {},
     "output_type": "execute_result"
    }
   ],
   "source": [
    "frozenset1 = frozenset({1,2,3,4,5})\n",
    "frozenset1"
   ]
  },
  {
   "cell_type": "code",
   "execution_count": 3,
   "id": "04b8e435",
   "metadata": {},
   "outputs": [
    {
     "data": {
      "text/plain": [
       "frozenset"
      ]
     },
     "execution_count": 3,
     "metadata": {},
     "output_type": "execute_result"
    }
   ],
   "source": [
    "type(frozenset1)"
   ]
  },
  {
   "cell_type": "code",
   "execution_count": 4,
   "id": "a31cc133",
   "metadata": {},
   "outputs": [
    {
     "data": {
      "text/plain": [
       "{1, 2, 3, 4, 5, 6, 7}"
      ]
     },
     "execution_count": 4,
     "metadata": {},
     "output_type": "execute_result"
    }
   ],
   "source": [
    "set1 = {1,2,3,4,5}\n",
    "set2 = {3,4,5,6,7}\n",
    "set1.update(set2)\n",
    "set1"
   ]
  },
  {
   "cell_type": "code",
   "execution_count": 24,
   "id": "0232feff",
   "metadata": {},
   "outputs": [
    {
     "data": {
      "text/plain": [
       "{1, 2, 3, 4, 5, 6, 7}"
      ]
     },
     "execution_count": 24,
     "metadata": {},
     "output_type": "execute_result"
    }
   ],
   "source": [
    "set1 = {1,2,3,4,5}\n",
    "set2 = {3,4,5,6,7}\n",
    "set1.union(set2)"
   ]
  },
  {
   "cell_type": "code",
   "execution_count": 10,
   "id": "7536be10",
   "metadata": {},
   "outputs": [
    {
     "data": {
      "text/plain": [
       "frozenset({1, 2, 3, 4, 5, 6, 7})"
      ]
     },
     "execution_count": 10,
     "metadata": {},
     "output_type": "execute_result"
    }
   ],
   "source": [
    "fset1 = frozenset({1,2,3,4,5})\n",
    "fset2 = frozenset({3,4,5,6,7})\n",
    "fset3 = fset1.union(fset2)\n",
    "fset3"
   ]
  },
  {
   "cell_type": "code",
   "execution_count": 9,
   "id": "22ad8b27",
   "metadata": {},
   "outputs": [
    {
     "name": "stdout",
     "output_type": "stream",
     "text": [
      "Set1 = frozenset({'Mumbai', 'Delhi', 'Pune'})\n",
      "Set2 = frozenset({'Mumbai', 'Chennai', 'Delhi'})\n",
      "Set3 = frozenset({'Mumbai', 'Chennai', 'Delhi', 'Pune'})\n"
     ]
    }
   ],
   "source": [
    "fset1 = frozenset({\"Pune\",\"Mumbai\",\"Delhi\"})\n",
    "fset2 = frozenset({\"Mumbai\",\"Delhi\",\"Chennai\"})\n",
    "print(f\"Set1 = {fset1}\")\n",
    "print(f\"Set2 = {fset2}\")\n",
    "fset3 = fset1.union(fset2)\n",
    "print(f\"Set3 = {fset3}\")\n"
   ]
  },
  {
   "cell_type": "code",
   "execution_count": 11,
   "id": "6c1d3832",
   "metadata": {},
   "outputs": [
    {
     "name": "stdout",
     "output_type": "stream",
     "text": [
      "Set1 = frozenset({'Mumbai', 'HBad', 'Delhi', 'Pune', 'Bangluru'})\n",
      "Set2 = frozenset({'Mumbai', 'Chennai', 'Delhi'})\n",
      "Set3 = frozenset({'Mumbai', 'Chennai', 'HBad', 'Delhi', 'Pune', 'Bangluru'})\n"
     ]
    }
   ],
   "source": [
    "fset1 = frozenset({\"Pune\",\"Mumbai\",\"Delhi\",\"HBad\",\"Bangluru\"})\n",
    "fset2 = frozenset({\"Mumbai\",\"Delhi\",\"Chennai\"})\n",
    "print(f\"Set1 = {fset1}\")\n",
    "print(f\"Set2 = {fset2}\")\n",
    "fset3 = fset1.union(fset2)\n",
    "print(f\"Set3 = {fset3}\")\n"
   ]
  },
  {
   "cell_type": "code",
   "execution_count": 12,
   "id": "177cda70",
   "metadata": {},
   "outputs": [
    {
     "name": "stdout",
     "output_type": "stream",
     "text": [
      "Set1 = frozenset({'Mumbai', 'HBad', 'Delhi', 'Pune', 'Bangluru'})\n",
      "Set2 = frozenset({'Mumbai', 'Chennai', 'Delhi'})\n",
      "Set3 = frozenset({'HBad', 'Pune', 'Bangluru'})\n"
     ]
    }
   ],
   "source": [
    "fset1 = frozenset({\"Pune\",\"Mumbai\",\"Delhi\",\"HBad\",\"Bangluru\"})\n",
    "fset2 = frozenset({\"Mumbai\",\"Delhi\",\"Chennai\"})\n",
    "print(f\"Set1 = {fset1}\")\n",
    "print(f\"Set2 = {fset2}\")\n",
    "fset3 = fset1.difference(fset2)\n",
    "print(f\"Set3 = {fset3}\")\n"
   ]
  },
  {
   "cell_type": "code",
   "execution_count": 13,
   "id": "bade11d4",
   "metadata": {},
   "outputs": [
    {
     "name": "stdout",
     "output_type": "stream",
     "text": [
      "Set1 = frozenset({'Mumbai', 'HBad', 'Delhi', 'Pune', 'Bangluru'})\n",
      "Set2 = frozenset({'Mumbai', 'Chennai', 'Delhi'})\n",
      "Set3 = frozenset({'Chennai', 'HBad', 'Pune', 'Bangluru'})\n"
     ]
    }
   ],
   "source": [
    "fset1 = frozenset({\"Pune\",\"Mumbai\",\"Delhi\",\"HBad\",\"Bangluru\"})\n",
    "fset2 = frozenset({\"Mumbai\",\"Delhi\",\"Chennai\"})\n",
    "print(f\"Set1 = {fset1}\")\n",
    "print(f\"Set2 = {fset2}\")\n",
    "fset3 = fset1.symmetric_difference(fset2)\n",
    "print(f\"Set3 = {fset3}\")\n"
   ]
  },
  {
   "cell_type": "code",
   "execution_count": 16,
   "id": "4be58a70",
   "metadata": {},
   "outputs": [
    {
     "name": "stdout",
     "output_type": "stream",
     "text": [
      "Set1 = frozenset({'Mumbai', 'HBad', 'Delhi', 'Pune', 'Bangluru'})\n",
      "Set2 = frozenset({'Mumbai', 'Delhi'})\n"
     ]
    },
    {
     "data": {
      "text/plain": [
       "True"
      ]
     },
     "execution_count": 16,
     "metadata": {},
     "output_type": "execute_result"
    }
   ],
   "source": [
    "fset1 = frozenset({\"Pune\",\"Mumbai\",\"Delhi\",\"HBad\",\"Bangluru\"})\n",
    "fset2 = frozenset({\"Mumbai\",\"Delhi\"})\n",
    "print(f\"Set1 = {fset1}\")\n",
    "print(f\"Set2 = {fset2}\")\n",
    "fset2.issubset(fset1) "
   ]
  },
  {
   "cell_type": "code",
   "execution_count": 17,
   "id": "3af1fb3e",
   "metadata": {},
   "outputs": [
    {
     "name": "stdout",
     "output_type": "stream",
     "text": [
      "Set1 = frozenset({'Mumbai', 'HBad', 'Delhi', 'Pune', 'Bangluru'})\n",
      "Set2 = frozenset({'Mumbai', 'Delhi'})\n"
     ]
    },
    {
     "data": {
      "text/plain": [
       "False"
      ]
     },
     "execution_count": 17,
     "metadata": {},
     "output_type": "execute_result"
    }
   ],
   "source": [
    "fset1 = frozenset({\"Pune\",\"Mumbai\",\"Delhi\",\"HBad\",\"Bangluru\"})\n",
    "fset2 = frozenset({\"Mumbai\",\"Delhi\"})\n",
    "print(f\"Set1 = {fset1}\")\n",
    "print(f\"Set2 = {fset2}\")\n",
    "fset1.issubset(fset2)"
   ]
  },
  {
   "cell_type": "code",
   "execution_count": 18,
   "id": "ae6bad21",
   "metadata": {},
   "outputs": [
    {
     "name": "stdout",
     "output_type": "stream",
     "text": [
      "Set1 = frozenset({'Mumbai', 'HBad', 'Delhi', 'Pune', 'Bangluru'})\n",
      "Set2 = frozenset({'Mumbai', 'Delhi'})\n"
     ]
    },
    {
     "data": {
      "text/plain": [
       "True"
      ]
     },
     "execution_count": 18,
     "metadata": {},
     "output_type": "execute_result"
    }
   ],
   "source": [
    "fset1 = frozenset({\"Pune\",\"Mumbai\",\"Delhi\",\"HBad\",\"Bangluru\"})\n",
    "fset2 = frozenset({\"Mumbai\",\"Delhi\"})\n",
    "print(f\"Set1 = {fset1}\")\n",
    "print(f\"Set2 = {fset2}\")\n",
    "fset1.issuperset(fset2)"
   ]
  },
  {
   "cell_type": "code",
   "execution_count": 19,
   "id": "1cf8a770",
   "metadata": {},
   "outputs": [
    {
     "name": "stdout",
     "output_type": "stream",
     "text": [
      "Set1 = frozenset({'Mumbai', 'HBad', 'Delhi', 'Pune', 'Bangluru'})\n",
      "Set2 = frozenset({'Mumbai', 'Delhi'})\n"
     ]
    },
    {
     "data": {
      "text/plain": [
       "False"
      ]
     },
     "execution_count": 19,
     "metadata": {},
     "output_type": "execute_result"
    }
   ],
   "source": [
    "fset1 = frozenset({\"Pune\",\"Mumbai\",\"Delhi\",\"HBad\",\"Bangluru\"})\n",
    "fset2 = frozenset({\"Mumbai\",\"Delhi\"})\n",
    "print(f\"Set1 = {fset1}\")\n",
    "print(f\"Set2 = {fset2}\")\n",
    "fset2.issuperset(fset1)"
   ]
  },
  {
   "cell_type": "code",
   "execution_count": 20,
   "id": "237ff2be",
   "metadata": {},
   "outputs": [
    {
     "name": "stdout",
     "output_type": "stream",
     "text": [
      "Set1 = frozenset({'Mumbai', 'HBad', 'Delhi', 'Pune', 'Bangluru'})\n",
      "Set2 = frozenset({'Mumbai', 'Delhi'})\n"
     ]
    },
    {
     "data": {
      "text/plain": [
       "False"
      ]
     },
     "execution_count": 20,
     "metadata": {},
     "output_type": "execute_result"
    }
   ],
   "source": [
    "fset1 = frozenset({\"Pune\",\"Mumbai\",\"Delhi\",\"HBad\",\"Bangluru\"})\n",
    "fset2 = frozenset({\"Mumbai\",\"Delhi\"})\n",
    "print(f\"Set1 = {fset1}\")\n",
    "print(f\"Set2 = {fset2}\")\n",
    "fset2.isdisjoint(fset1)"
   ]
  },
  {
   "cell_type": "code",
   "execution_count": 21,
   "id": "2d9e22ae",
   "metadata": {},
   "outputs": [
    {
     "name": "stdout",
     "output_type": "stream",
     "text": [
      "Set1 = frozenset({'Mumbai', 'HBad', 'Delhi', 'Pune', 'Bangluru'})\n",
      "Set2 = frozenset({'Mumbai', 'Chennai', 'Delhi'})\n"
     ]
    },
    {
     "data": {
      "text/plain": [
       "False"
      ]
     },
     "execution_count": 21,
     "metadata": {},
     "output_type": "execute_result"
    }
   ],
   "source": [
    "fset1 = frozenset({\"Pune\",\"Mumbai\",\"Delhi\",\"HBad\",\"Bangluru\"})\n",
    "fset2 = frozenset({\"Mumbai\",\"Delhi\",\"Chennai\"})\n",
    "print(f\"Set1 = {fset1}\")\n",
    "print(f\"Set2 = {fset2}\")\n",
    "fset2.isdisjoint(fset1)"
   ]
  },
  {
   "cell_type": "code",
   "execution_count": 22,
   "id": "97edef6e",
   "metadata": {},
   "outputs": [
    {
     "name": "stdout",
     "output_type": "stream",
     "text": [
      "Set1 = frozenset({'Mumbai', 'HBad', 'Delhi', 'Pune', 'Bangluru'})\n",
      "Set2 = frozenset({'Chennai'})\n"
     ]
    },
    {
     "data": {
      "text/plain": [
       "True"
      ]
     },
     "execution_count": 22,
     "metadata": {},
     "output_type": "execute_result"
    }
   ],
   "source": [
    "fset1 = frozenset({\"Pune\",\"Mumbai\",\"Delhi\",\"HBad\",\"Bangluru\"})\n",
    "fset2 = frozenset({\"Chennai\"})\n",
    "print(f\"Set1 = {fset1}\")\n",
    "print(f\"Set2 = {fset2}\")\n",
    "fset2.isdisjoint(fset1)"
   ]
  },
  {
   "cell_type": "code",
   "execution_count": 23,
   "id": "394f03c8",
   "metadata": {},
   "outputs": [
    {
     "name": "stdout",
     "output_type": "stream",
     "text": [
      "Set1 = frozenset({'Mumbai', 'HBad', 'Delhi', 'Pune', 'Bangluru'})\n",
      "Set2 = frozenset({'Chennai'})\n"
     ]
    },
    {
     "data": {
      "text/plain": [
       "True"
      ]
     },
     "execution_count": 23,
     "metadata": {},
     "output_type": "execute_result"
    }
   ],
   "source": [
    "fset1 = frozenset({\"Pune\",\"Mumbai\",\"Delhi\",\"HBad\",\"Bangluru\"})\n",
    "fset2 = frozenset({\"Chennai\"})\n",
    "print(f\"Set1 = {fset1}\")\n",
    "print(f\"Set2 = {fset2}\")\n",
    "fset1.isdisjoint(fset2)"
   ]
  },
  {
   "cell_type": "code",
   "execution_count": 25,
   "id": "3d9763a6",
   "metadata": {},
   "outputs": [
    {
     "data": {
      "text/plain": [
       "frozenset({1, 2, 3})"
      ]
     },
     "execution_count": 25,
     "metadata": {},
     "output_type": "execute_result"
    }
   ],
   "source": [
    "frozenset([1,2,3])"
   ]
  },
  {
   "cell_type": "code",
   "execution_count": 26,
   "id": "62ee15cb",
   "metadata": {},
   "outputs": [
    {
     "data": {
      "text/plain": [
       "frozenset({1, 2, 3})"
      ]
     },
     "execution_count": 26,
     "metadata": {},
     "output_type": "execute_result"
    }
   ],
   "source": [
    "frozenset({1,2,3})"
   ]
  },
  {
   "cell_type": "code",
   "execution_count": null,
   "id": "b3faff55",
   "metadata": {},
   "outputs": [],
   "source": []
  }
 ],
 "metadata": {
  "kernelspec": {
   "display_name": "Python 3 (ipykernel)",
   "language": "python",
   "name": "python3"
  },
  "language_info": {
   "codemirror_mode": {
    "name": "ipython",
    "version": 3
   },
   "file_extension": ".py",
   "mimetype": "text/x-python",
   "name": "python",
   "nbconvert_exporter": "python",
   "pygments_lexer": "ipython3",
   "version": "3.9.12"
  }
 },
 "nbformat": 4,
 "nbformat_minor": 5
}
