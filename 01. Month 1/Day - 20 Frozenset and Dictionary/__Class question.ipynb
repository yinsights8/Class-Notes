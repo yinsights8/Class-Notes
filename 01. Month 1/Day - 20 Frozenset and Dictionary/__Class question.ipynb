{
 "cells": [
  {
   "cell_type": "code",
   "execution_count": null,
   "id": "ebf4709a",
   "metadata": {},
   "outputs": [],
   "source": []
  },
  {
   "cell_type": "markdown",
   "id": "f71b760c",
   "metadata": {},
   "source": [
    "# ASCII Value for alphabates"
   ]
  },
  {
   "cell_type": "code",
   "execution_count": 2,
   "id": "13006960",
   "metadata": {},
   "outputs": [
    {
     "data": {
      "text/plain": [
       "{'A': 65, 'B': 66, 'Z': 90}"
      ]
     },
     "execution_count": 2,
     "metadata": {},
     "output_type": "execute_result"
    }
   ],
   "source": [
    "{'a': 97,'b':98,'z' :122}\n",
    "{'A': 65,'B':66,'Z' :90}"
   ]
  },
  {
   "cell_type": "code",
   "execution_count": 6,
   "id": "62ce18f3",
   "metadata": {},
   "outputs": [],
   "source": [
    "small_ alphabets = list(map(chr, range(97, 123)))"
   ]
  },
  {
   "cell_type": "code",
   "execution_count": 11,
   "id": "52f2c7bf",
   "metadata": {},
   "outputs": [],
   "source": [
    "capital_alphabets = list(map(chr, range(65, 91)))"
   ]
  },
  {
   "cell_type": "code",
   "execution_count": 10,
   "id": "e6c2d910",
   "metadata": {},
   "outputs": [
    {
     "name": "stdout",
     "output_type": "stream",
     "text": [
      "{'a': 97, 'b': 98, 'c': 99, 'd': 100, 'e': 101, 'f': 102, 'g': 103, 'h': 104, 'i': 105, 'j': 106, 'k': 107, 'l': 108, 'm': 109, 'n': 110, 'o': 111, 'p': 112, 'q': 113, 'r': 114, 's': 115, 't': 116, 'u': 117, 'v': 118, 'w': 119, 'x': 120, 'y': 121, 'z': 122}\n"
     ]
    }
   ],
   "source": [
    "small_alpha = {}\n",
    "n = 97\n",
    "for i in alphabets:\n",
    "    small_alpha.update({i:n})\n",
    "    n += 1\n",
    "\n",
    "print(small_alpha)"
   ]
  },
  {
   "cell_type": "code",
   "execution_count": 12,
   "id": "55a9b63f",
   "metadata": {},
   "outputs": [
    {
     "name": "stdout",
     "output_type": "stream",
     "text": [
      "{'a': 97, 'b': 98, 'c': 99, 'd': 100, 'e': 101, 'f': 102, 'g': 103, 'h': 104, 'i': 105, 'j': 106, 'k': 107, 'l': 108, 'm': 109, 'n': 110, 'o': 111, 'p': 112, 'q': 113, 'r': 114, 's': 115, 't': 116, 'u': 117, 'v': 118, 'w': 119, 'x': 120, 'y': 121, 'z': 122}\n"
     ]
    }
   ],
   "source": [
    "small_alphas = {}\n",
    "for i in range(97, 123):\n",
    "    small_alphas.update({chr(i):i})\n",
    "print(small_alphas)"
   ]
  },
  {
   "cell_type": "code",
   "execution_count": null,
   "id": "854e3494",
   "metadata": {},
   "outputs": [],
   "source": []
  },
  {
   "cell_type": "code",
   "execution_count": 15,
   "id": "8c8befa3",
   "metadata": {},
   "outputs": [
    {
     "name": "stdout",
     "output_type": "stream",
     "text": [
      "{'A': 65, 'B': 66, 'C': 67, 'D': 68, 'E': 69, 'F': 70, 'G': 71, 'H': 72, 'I': 73, 'J': 74, 'K': 75, 'L': 76, 'M': 77, 'N': 78, 'O': 79, 'P': 80, 'Q': 81, 'R': 82, 'S': 83, 'T': 84, 'U': 85, 'V': 86, 'W': 87, 'X': 88, 'Y': 89, 'Z': 90}\n"
     ]
    }
   ],
   "source": [
    "cap_letters = {}\n",
    "n = 65\n",
    "for i in capital_alphabets:\n",
    "    cap_letters.update({i:n})\n",
    "    n += 1\n",
    "print(cap_letters)"
   ]
  },
  {
   "cell_type": "code",
   "execution_count": 13,
   "id": "e0e248f2",
   "metadata": {},
   "outputs": [
    {
     "name": "stdout",
     "output_type": "stream",
     "text": [
      "{'A': 65, 'B': 66, 'C': 67, 'D': 68, 'E': 69, 'F': 70, 'G': 71, 'H': 72, 'I': 73, 'J': 74, 'K': 75, 'L': 76, 'M': 77, 'N': 78, 'O': 79, 'P': 80, 'Q': 81, 'R': 82, 'S': 83, 'T': 84, 'U': 85, 'V': 86, 'W': 87, 'X': 88, 'Y': 89, 'Z': 90}\n"
     ]
    }
   ],
   "source": [
    "capital_alphas = {}\n",
    "for i in range(65, 91):\n",
    "    capital_alphas.update({chr(i):i})\n",
    "print(capital_alphas)"
   ]
  },
  {
   "cell_type": "code",
   "execution_count": 2,
   "id": "a99cdabb",
   "metadata": {},
   "outputs": [
    {
     "name": "stdout",
     "output_type": "stream",
     "text": [
      "{'python': 95, 'c': 89, 'r': 75, 'golang': 79}\n"
     ]
    }
   ],
   "source": [
    "dict1 = {}\n",
    "lan_name = [\"python\", 'c', \"r\", \"golang\"]\n",
    "popurarity = [95, 89, 75, 79, 70]\n",
    "a = 0\n",
    "for i in lan_name:\n",
    "    dict1.update({i:popurarity[a]})\n",
    "    a += 1\n",
    "print(dict1)"
   ]
  },
  {
   "cell_type": "code",
   "execution_count": null,
   "id": "281fcb99",
   "metadata": {},
   "outputs": [],
   "source": []
  }
 ],
 "metadata": {
  "kernelspec": {
   "display_name": "Python 3 (ipykernel)",
   "language": "python",
   "name": "python3"
  },
  "language_info": {
   "codemirror_mode": {
    "name": "ipython",
    "version": 3
   },
   "file_extension": ".py",
   "mimetype": "text/x-python",
   "name": "python",
   "nbconvert_exporter": "python",
   "pygments_lexer": "ipython3",
   "version": "3.9.12"
  }
 },
 "nbformat": 4,
 "nbformat_minor": 5
}
