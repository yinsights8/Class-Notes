{
 "cells": [
  {
   "cell_type": "markdown",
   "id": "eda86c25",
   "metadata": {},
   "source": [
    "# Data Types"
   ]
  },
  {
   "cell_type": "raw",
   "id": "562da875",
   "metadata": {},
   "source": [
    "str   - Ordered,   Immutable,     Duplicates are allowed,      \"\"\n",
    "list  - Ordered,   Mutable  ,     Duplicates are allowed,      []\n",
    "tuple - Ordered,   Immutable,     Duplicates are allowed,      ()\n",
    "set   - Unordered, Mutablle,      Duplicates are not allowed,  set()\n",
    "dict  - Ordered(python version >= 3.7), Mutable , Duplicate keys are not allowed, {},dict()"
   ]
  },
  {
   "cell_type": "markdown",
   "id": "4b1a2e37",
   "metadata": {},
   "source": [
    "# Dictionary "
   ]
  },
  {
   "cell_type": "raw",
   "id": "d7eb8aa5",
   "metadata": {},
   "source": [
    "dict1 = {key1 : val1, key2 : val2}\n",
    "1. It is a collection of key & value pair\n",
    "2. We can not access items by using an index\n",
    "3. Duplicates keys are not allowed but values can be duplicate\n",
    "4. dictionaries are comma separated\n",
    "5. dict can be defined by {}\n",
    "\n",
    "Ordered    ===> Python version >= 3.7\n",
    "Unordered  ===> Python version < 3.7\n",
    "\n",
    "\n",
    "key        ===> Immutable datatypes (int, float, string, tuple, frozenset)\n",
    "value      ===> Any datatype (int, float, list, set, dict, string, tuple, frozenset, etc...)"
   ]
  },
  {
   "cell_type": "code",
   "execution_count": 1,
   "id": "452952e2",
   "metadata": {},
   "outputs": [],
   "source": [
    "# Defining a dictionary"
   ]
  },
  {
   "cell_type": "code",
   "execution_count": 2,
   "id": "d280a592",
   "metadata": {},
   "outputs": [
    {
     "data": {
      "text/plain": [
       "dict"
      ]
     },
     "execution_count": 2,
     "metadata": {},
     "output_type": "execute_result"
    }
   ],
   "source": [
    "di1 = {}\n",
    "type(di1)"
   ]
  },
  {
   "cell_type": "code",
   "execution_count": 4,
   "id": "a6bf4a9b",
   "metadata": {},
   "outputs": [
    {
     "data": {
      "text/plain": [
       "dict"
      ]
     },
     "execution_count": 4,
     "metadata": {},
     "output_type": "execute_result"
    }
   ],
   "source": [
    "di2 = dict()\n",
    "type(di2)"
   ]
  },
  {
   "cell_type": "code",
   "execution_count": 3,
   "id": "8b2f136a",
   "metadata": {},
   "outputs": [
    {
     "name": "stdout",
     "output_type": "stream",
     "text": [
      "{'Key1': 'Val1', 'Key2': 'Val2', 'Key3': 'Val3', 'Key4': 'Val4'}\n"
     ]
    }
   ],
   "source": [
    "di1 = {\"Key1\" : \"Val1\", \"Key2\" : \"Val2\", \"Key3\" : \"Val3\", \"Key4\" : \"Val4\"}\n",
    "print(di1)"
   ]
  },
  {
   "cell_type": "raw",
   "id": "95c20dec",
   "metadata": {},
   "source": [
    "int, float, string, tuple, frozenset ----> Keys"
   ]
  },
  {
   "cell_type": "code",
   "execution_count": 5,
   "id": "73b9e728",
   "metadata": {},
   "outputs": [
    {
     "name": "stdout",
     "output_type": "stream",
     "text": [
      "{1: 'One', 1.5: 'One Point Five'}\n"
     ]
    }
   ],
   "source": [
    "di1 = {1:\"One\",1.5:\"One Point Five\"}\n",
    "print(di1)"
   ]
  },
  {
   "cell_type": "code",
   "execution_count": 6,
   "id": "3e3b9ef3",
   "metadata": {},
   "outputs": [
    {
     "name": "stdout",
     "output_type": "stream",
     "text": [
      "{1: 'One', 1.5: 'One Point Five', 'Three': 3}\n"
     ]
    }
   ],
   "source": [
    "di1 = {1:\"One\",1.5:\"One Point Five\",\"Three\":3}\n",
    "print(di1)"
   ]
  },
  {
   "cell_type": "code",
   "execution_count": 7,
   "id": "0693db75",
   "metadata": {},
   "outputs": [
    {
     "name": "stdout",
     "output_type": "stream",
     "text": [
      "{1: 'One', 1.5: 'One Point Five', 'Three': 3, (1, 2, 3): 'Its a tuple'}\n"
     ]
    }
   ],
   "source": [
    "di1 = {1:\"One\",1.5:\"One Point Five\",\"Three\":3,(1,2,3):\"Its a tuple\"}\n",
    "print(di1)"
   ]
  },
  {
   "cell_type": "code",
   "execution_count": 8,
   "id": "856871d1",
   "metadata": {},
   "outputs": [
    {
     "name": "stdout",
     "output_type": "stream",
     "text": [
      "{1: 'One', 1.5: 'One Point Five', 'Three': 3, (1, 2, 3): 'Its a tuple', frozenset({1, 2, 3}): 'It is a frozen set'}\n"
     ]
    }
   ],
   "source": [
    "di1 = {\n",
    "    1:\"One\",\n",
    "    1.5:\"One Point Five\",\n",
    "    \"Three\":3,\n",
    "    (1,2,3):\"Its a tuple\",\n",
    "    frozenset({1,2,3}) : \"It is a frozen set\"\n",
    "}\n",
    "print(di1)"
   ]
  },
  {
   "cell_type": "code",
   "execution_count": 9,
   "id": "df67ef95",
   "metadata": {},
   "outputs": [
    {
     "ename": "TypeError",
     "evalue": "unhashable type: 'list'",
     "output_type": "error",
     "traceback": [
      "\u001b[1;31m---------------------------------------------------------------------------\u001b[0m",
      "\u001b[1;31mTypeError\u001b[0m                                 Traceback (most recent call last)",
      "Input \u001b[1;32mIn [9]\u001b[0m, in \u001b[0;36m<cell line: 2>\u001b[1;34m()\u001b[0m\n\u001b[1;32m----> 1\u001b[0m di1 \u001b[38;5;241m=\u001b[39m {\n\u001b[0;32m      2\u001b[0m     \u001b[38;5;241m1\u001b[39m:\u001b[38;5;124m\"\u001b[39m\u001b[38;5;124mOne\u001b[39m\u001b[38;5;124m\"\u001b[39m,\n\u001b[0;32m      3\u001b[0m     \u001b[38;5;241m1.5\u001b[39m:\u001b[38;5;124m\"\u001b[39m\u001b[38;5;124mOne Point Five\u001b[39m\u001b[38;5;124m\"\u001b[39m,\n\u001b[0;32m      4\u001b[0m     \u001b[38;5;124m\"\u001b[39m\u001b[38;5;124mThree\u001b[39m\u001b[38;5;124m\"\u001b[39m:\u001b[38;5;241m3\u001b[39m,\n\u001b[0;32m      5\u001b[0m     [\u001b[38;5;241m1\u001b[39m,\u001b[38;5;241m2\u001b[39m,\u001b[38;5;241m3\u001b[39m]:\u001b[38;5;124m\"\u001b[39m\u001b[38;5;124mIts a list\u001b[39m\u001b[38;5;124m\"\u001b[39m,\n\u001b[0;32m      6\u001b[0m     \u001b[38;5;28mfrozenset\u001b[39m({\u001b[38;5;241m1\u001b[39m,\u001b[38;5;241m2\u001b[39m,\u001b[38;5;241m3\u001b[39m}) : \u001b[38;5;124m\"\u001b[39m\u001b[38;5;124mIt is a frozen set\u001b[39m\u001b[38;5;124m\"\u001b[39m\n\u001b[0;32m      7\u001b[0m }\n\u001b[0;32m      8\u001b[0m \u001b[38;5;28mprint\u001b[39m(di1)\n",
      "\u001b[1;31mTypeError\u001b[0m: unhashable type: 'list'"
     ]
    }
   ],
   "source": [
    "di1 = {\n",
    "    1:\"One\",\n",
    "    1.5:\"One Point Five\",\n",
    "    \"Three\":3,\n",
    "    [1,2,3]:\"Its a list\",\n",
    "    frozenset({1,2,3}) : \"It is a frozen set\"\n",
    "}\n",
    "print(di1)"
   ]
  },
  {
   "cell_type": "code",
   "execution_count": 12,
   "id": "b416d387",
   "metadata": {},
   "outputs": [
    {
     "ename": "TypeError",
     "evalue": "unhashable type: 'set'",
     "output_type": "error",
     "traceback": [
      "\u001b[1;31m---------------------------------------------------------------------------\u001b[0m",
      "\u001b[1;31mTypeError\u001b[0m                                 Traceback (most recent call last)",
      "Input \u001b[1;32mIn [12]\u001b[0m, in \u001b[0;36m<cell line: 2>\u001b[1;34m()\u001b[0m\n\u001b[1;32m----> 1\u001b[0m di1 \u001b[38;5;241m=\u001b[39m {\n\u001b[0;32m      2\u001b[0m     \u001b[38;5;241m1\u001b[39m:\u001b[38;5;124m\"\u001b[39m\u001b[38;5;124mOne\u001b[39m\u001b[38;5;124m\"\u001b[39m,\n\u001b[0;32m      3\u001b[0m     \u001b[38;5;241m1.5\u001b[39m:\u001b[38;5;124m\"\u001b[39m\u001b[38;5;124mOne Point Five\u001b[39m\u001b[38;5;124m\"\u001b[39m,\n\u001b[0;32m      4\u001b[0m     \u001b[38;5;124m\"\u001b[39m\u001b[38;5;124mThree\u001b[39m\u001b[38;5;124m\"\u001b[39m:\u001b[38;5;241m3\u001b[39m,\n\u001b[0;32m      5\u001b[0m \u001b[38;5;66;03m#     [1,2,3]:\"Its a list\",\u001b[39;00m\n\u001b[0;32m      6\u001b[0m     \u001b[38;5;28mfrozenset\u001b[39m({\u001b[38;5;241m1\u001b[39m,\u001b[38;5;241m2\u001b[39m,\u001b[38;5;241m3\u001b[39m}) : \u001b[38;5;124m\"\u001b[39m\u001b[38;5;124mIt is a frozen set\u001b[39m\u001b[38;5;124m\"\u001b[39m,\n\u001b[0;32m      7\u001b[0m     {\u001b[38;5;241m1\u001b[39m,\u001b[38;5;241m2\u001b[39m,\u001b[38;5;241m3\u001b[39m} : \u001b[38;5;124m\"\u001b[39m\u001b[38;5;124mIt is a set\u001b[39m\u001b[38;5;124m\"\u001b[39m\n\u001b[0;32m      8\u001b[0m }\n\u001b[0;32m      9\u001b[0m \u001b[38;5;28mprint\u001b[39m(di1)\n",
      "\u001b[1;31mTypeError\u001b[0m: unhashable type: 'set'"
     ]
    }
   ],
   "source": [
    "di1 = {\n",
    "    1:\"One\",\n",
    "    1.5:\"One Point Five\",\n",
    "    \"Three\":3,\n",
    "#     [1,2,3]:\"Its a list\",\n",
    "    frozenset({1,2,3}) : \"It is a frozen set\",\n",
    "    {1,2,3} : \"It is a set\"\n",
    "}\n",
    "print(di1)"
   ]
  },
  {
   "cell_type": "code",
   "execution_count": 13,
   "id": "70d35c23",
   "metadata": {},
   "outputs": [
    {
     "ename": "TypeError",
     "evalue": "unhashable type: 'dict'",
     "output_type": "error",
     "traceback": [
      "\u001b[1;31m---------------------------------------------------------------------------\u001b[0m",
      "\u001b[1;31mTypeError\u001b[0m                                 Traceback (most recent call last)",
      "Input \u001b[1;32mIn [13]\u001b[0m, in \u001b[0;36m<cell line: 2>\u001b[1;34m()\u001b[0m\n\u001b[1;32m----> 1\u001b[0m di1 \u001b[38;5;241m=\u001b[39m {\n\u001b[0;32m      2\u001b[0m     \u001b[38;5;241m1\u001b[39m:\u001b[38;5;124m\"\u001b[39m\u001b[38;5;124mOne\u001b[39m\u001b[38;5;124m\"\u001b[39m,\n\u001b[0;32m      3\u001b[0m     \u001b[38;5;241m1.5\u001b[39m:\u001b[38;5;124m\"\u001b[39m\u001b[38;5;124mOne Point Five\u001b[39m\u001b[38;5;124m\"\u001b[39m,\n\u001b[0;32m      4\u001b[0m     \u001b[38;5;124m\"\u001b[39m\u001b[38;5;124mThree\u001b[39m\u001b[38;5;124m\"\u001b[39m:\u001b[38;5;241m3\u001b[39m,\n\u001b[0;32m      5\u001b[0m \u001b[38;5;66;03m#     [1,2,3]:\"Its a list\",\u001b[39;00m\n\u001b[0;32m      6\u001b[0m     \u001b[38;5;28mfrozenset\u001b[39m({\u001b[38;5;241m1\u001b[39m,\u001b[38;5;241m2\u001b[39m,\u001b[38;5;241m3\u001b[39m}) : \u001b[38;5;124m\"\u001b[39m\u001b[38;5;124mIt is a frozen set\u001b[39m\u001b[38;5;124m\"\u001b[39m,\n\u001b[0;32m      7\u001b[0m \u001b[38;5;66;03m#     {1,2,3} : \"It is a set\",\u001b[39;00m\n\u001b[0;32m      8\u001b[0m     {\u001b[38;5;241m1\u001b[39m:\u001b[38;5;241m10\u001b[39m,\u001b[38;5;241m2\u001b[39m:\u001b[38;5;241m20\u001b[39m,\u001b[38;5;241m3\u001b[39m:\u001b[38;5;241m30\u001b[39m} : \u001b[38;5;124m\"\u001b[39m\u001b[38;5;124mIt is a dictionary\u001b[39m\u001b[38;5;124m\"\u001b[39m\n\u001b[0;32m      9\u001b[0m }\n\u001b[0;32m     10\u001b[0m \u001b[38;5;28mprint\u001b[39m(di1)\n",
      "\u001b[1;31mTypeError\u001b[0m: unhashable type: 'dict'"
     ]
    }
   ],
   "source": [
    "di1 = {\n",
    "    1:\"One\",\n",
    "    1.5:\"One Point Five\",\n",
    "    \"Three\":3,\n",
    "#     [1,2,3]:\"Its a list\",\n",
    "    frozenset({1,2,3}) : \"It is a frozen set\",\n",
    "#     {1,2,3} : \"It is a set\",\n",
    "    {1:10,2:20,3:30} : \"It is a dictionary\"\n",
    "}\n",
    "print(di1)"
   ]
  },
  {
   "cell_type": "raw",
   "id": "567e5405",
   "metadata": {},
   "source": [
    "int, float, list, set, dict, string, tuple, frozenset ---> Values"
   ]
  },
  {
   "cell_type": "code",
   "execution_count": 14,
   "id": "0a06f7ca",
   "metadata": {},
   "outputs": [
    {
     "name": "stdout",
     "output_type": "stream",
     "text": [
      "{1: 1, 1.5: 1.5}\n"
     ]
    }
   ],
   "source": [
    "di1 = {1:1,1.5:1.5}\n",
    "print(di1)"
   ]
  },
  {
   "cell_type": "code",
   "execution_count": 15,
   "id": "57ea4071",
   "metadata": {},
   "outputs": [
    {
     "name": "stdout",
     "output_type": "stream",
     "text": [
      "{1: 1, 1.5: 1.5, 'List': [1, 2, 3, 4, 5]}\n"
     ]
    }
   ],
   "source": [
    "di1 = {\n",
    "    1:1,\n",
    "    1.5:1.5,\n",
    "    \"List\" : [1,2,3,4,5],\n",
    "}\n",
    "print(di1)"
   ]
  },
  {
   "cell_type": "code",
   "execution_count": 16,
   "id": "c08f15fe",
   "metadata": {},
   "outputs": [
    {
     "name": "stdout",
     "output_type": "stream",
     "text": [
      "{1: 1, 1.5: 1.5, 'List': [1, 2, 3, 4, 5], 'set': {1, 2, 3}}\n"
     ]
    }
   ],
   "source": [
    "di1 = {\n",
    "    1:1,\n",
    "    1.5:1.5,\n",
    "    \"List\" : [1,2,3,4,5],\n",
    "    \"set\" : set([1,2,3])\n",
    "}\n",
    "print(di1)"
   ]
  },
  {
   "cell_type": "code",
   "execution_count": 17,
   "id": "1529b7f8",
   "metadata": {},
   "outputs": [
    {
     "name": "stdout",
     "output_type": "stream",
     "text": [
      "{1: 1, 1.5: 1.5, 'List': [1, 2, 3, 4, 5], 'set': {1, 2, 3}, 'dict': {1: 1, 1.5: 1.5}}\n"
     ]
    }
   ],
   "source": [
    "di1 = {\n",
    "    1:1,\n",
    "    1.5:1.5,\n",
    "    \"List\" : [1,2,3,4,5],\n",
    "    \"set\" : set([1,2,3]),\n",
    "    \"dict\" : {1:1,1.5:1.5}\n",
    "}\n",
    "print(di1)"
   ]
  },
  {
   "cell_type": "code",
   "execution_count": 18,
   "id": "24f7ed36",
   "metadata": {},
   "outputs": [
    {
     "name": "stdout",
     "output_type": "stream",
     "text": [
      "{1: 1, 1.5: 1.5, 'List': [1, 2, 3, 4, 5], 'set': {1, 2, 3}, 'dict': {1: 1, 1.5: 1.5}, 'String': 'Python'}\n"
     ]
    }
   ],
   "source": [
    "di1 = {\n",
    "    1:1,\n",
    "    1.5:1.5,\n",
    "    \"List\" : [1,2,3,4,5],\n",
    "    \"set\" : set([1,2,3]),\n",
    "    \"dict\" : {1:1,1.5:1.5},\n",
    "    \"String\":\"Python\"\n",
    "}\n",
    "print(di1)"
   ]
  },
  {
   "cell_type": "code",
   "execution_count": 19,
   "id": "8662d021",
   "metadata": {},
   "outputs": [
    {
     "name": "stdout",
     "output_type": "stream",
     "text": [
      "{1: 1, 1.5: 1.5, 'List': [1, 2, 3, 4, 5], 'set': {1, 2, 3}, 'dict': {1: 1, 1.5: 1.5}, 'String': 'Python', 'Frozenset': frozenset({1, 2, 3})}\n"
     ]
    }
   ],
   "source": [
    "di1 = {\n",
    "    1:1,\n",
    "    1.5:1.5,\n",
    "    \"List\" : [1,2,3,4,5],\n",
    "    \"set\" : set([1,2,3]),\n",
    "    \"dict\" : {1:1,1.5:1.5},\n",
    "    \"String\":\"Python\",\n",
    "    \"Frozenset\":frozenset([1,2,3])\n",
    "}\n",
    "print(di1)"
   ]
  },
  {
   "cell_type": "code",
   "execution_count": 20,
   "id": "b5ac77aa",
   "metadata": {},
   "outputs": [
    {
     "data": {
      "text/plain": [
       "{'F_Name': 'Gaurav',\n",
       " 'L_Name': 'Sharma',\n",
       " 'Age': 24,\n",
       " 'Marks': 96,\n",
       " 'Place': 'Maharashtra'}"
      ]
     },
     "execution_count": 20,
     "metadata": {},
     "output_type": "execute_result"
    }
   ],
   "source": [
    "student_info = {\n",
    "    \"F_Name\" : \"Gaurav\",\n",
    "    \"L_Name\" : \"Sharma\",\n",
    "    \"Age\"    : 24,\n",
    "    \"Marks\"  : 96,\n",
    "    \"Place\"  : \"Maharashtra\",\n",
    "    \n",
    "}\n",
    "student_info"
   ]
  },
  {
   "cell_type": "code",
   "execution_count": 21,
   "id": "29227de1",
   "metadata": {},
   "outputs": [
    {
     "data": {
      "text/plain": [
       "{'F_Name': 'Saurav',\n",
       " 'L_Name': 'Sharma',\n",
       " 'Age': 24,\n",
       " 'Marks': 96,\n",
       " 'Place': 'Maharashtra'}"
      ]
     },
     "execution_count": 21,
     "metadata": {},
     "output_type": "execute_result"
    }
   ],
   "source": [
    "student_info = {\n",
    "    \"F_Name\" : \"Gaurav\", # Vanished\n",
    "    \"L_Name\" : \"Sharma\",\n",
    "    \"Age\"    : 24,\n",
    "    \"Marks\"  : 96,\n",
    "    \"Place\"  : \"Maharashtra\",\n",
    "    \"F_Name\" : \"Saurav\"\n",
    "    \n",
    "}\n",
    "student_info"
   ]
  },
  {
   "cell_type": "markdown",
   "id": "5ccf3be2",
   "metadata": {},
   "source": [
    "# Access Dictionary items\n",
    "- dict_name[Key_Name]"
   ]
  },
  {
   "cell_type": "code",
   "execution_count": 22,
   "id": "433d4bdb",
   "metadata": {},
   "outputs": [
    {
     "data": {
      "text/plain": [
       "{'F_Name': 'Saurav',\n",
       " 'L_Name': 'Sharma',\n",
       " 'Age': 24,\n",
       " 'Marks': 96,\n",
       " 'Place': 'Maharashtra'}"
      ]
     },
     "execution_count": 22,
     "metadata": {},
     "output_type": "execute_result"
    }
   ],
   "source": [
    "student_info"
   ]
  },
  {
   "cell_type": "code",
   "execution_count": 23,
   "id": "499c9f52",
   "metadata": {},
   "outputs": [
    {
     "data": {
      "text/plain": [
       "'Saurav'"
      ]
     },
     "execution_count": 23,
     "metadata": {},
     "output_type": "execute_result"
    }
   ],
   "source": [
    "student_info[\"F_Name\"]"
   ]
  },
  {
   "cell_type": "code",
   "execution_count": 24,
   "id": "d3916836",
   "metadata": {},
   "outputs": [
    {
     "data": {
      "text/plain": [
       "'Sharma'"
      ]
     },
     "execution_count": 24,
     "metadata": {},
     "output_type": "execute_result"
    }
   ],
   "source": [
    "student_info['L_Name']"
   ]
  },
  {
   "cell_type": "code",
   "execution_count": 25,
   "id": "dc63d329",
   "metadata": {},
   "outputs": [
    {
     "data": {
      "text/plain": [
       "24"
      ]
     },
     "execution_count": 25,
     "metadata": {},
     "output_type": "execute_result"
    }
   ],
   "source": [
    "student_info['Age']"
   ]
  },
  {
   "cell_type": "code",
   "execution_count": 26,
   "id": "6a35bb58",
   "metadata": {},
   "outputs": [
    {
     "data": {
      "text/plain": [
       "96"
      ]
     },
     "execution_count": 26,
     "metadata": {},
     "output_type": "execute_result"
    }
   ],
   "source": [
    "student_info[\"Marks\"]"
   ]
  },
  {
   "cell_type": "code",
   "execution_count": 27,
   "id": "4a556258",
   "metadata": {},
   "outputs": [
    {
     "data": {
      "text/plain": [
       "'Maharashtra'"
      ]
     },
     "execution_count": 27,
     "metadata": {},
     "output_type": "execute_result"
    }
   ],
   "source": [
    "student_info['Place']"
   ]
  },
  {
   "cell_type": "code",
   "execution_count": 31,
   "id": "8f8475fc",
   "metadata": {},
   "outputs": [
    {
     "ename": "KeyError",
     "evalue": "'Name'",
     "output_type": "error",
     "traceback": [
      "\u001b[1;31m---------------------------------------------------------------------------\u001b[0m",
      "\u001b[1;31mKeyError\u001b[0m                                  Traceback (most recent call last)",
      "Input \u001b[1;32mIn [31]\u001b[0m, in \u001b[0;36m<cell line: 1>\u001b[1;34m()\u001b[0m\n\u001b[1;32m----> 1\u001b[0m \u001b[43mstudent_info\u001b[49m\u001b[43m[\u001b[49m\u001b[38;5;124;43m\"\u001b[39;49m\u001b[38;5;124;43mName\u001b[39;49m\u001b[38;5;124;43m\"\u001b[39;49m\u001b[43m]\u001b[49m\n",
      "\u001b[1;31mKeyError\u001b[0m: 'Name'"
     ]
    }
   ],
   "source": [
    "student_info[\"Name\"]"
   ]
  },
  {
   "cell_type": "markdown",
   "id": "e83fe1d7",
   "metadata": {},
   "source": [
    "# 1. get() "
   ]
  },
  {
   "cell_type": "code",
   "execution_count": 28,
   "id": "c96329cd",
   "metadata": {},
   "outputs": [
    {
     "data": {
      "text/plain": [
       "{'F_Name': 'Saurav',\n",
       " 'L_Name': 'Sharma',\n",
       " 'Age': 24,\n",
       " 'Marks': 96,\n",
       " 'Place': 'Maharashtra'}"
      ]
     },
     "execution_count": 28,
     "metadata": {},
     "output_type": "execute_result"
    }
   ],
   "source": [
    "student_info"
   ]
  },
  {
   "cell_type": "code",
   "execution_count": 29,
   "id": "62eb1c97",
   "metadata": {},
   "outputs": [
    {
     "data": {
      "text/plain": [
       "'Saurav'"
      ]
     },
     "execution_count": 29,
     "metadata": {},
     "output_type": "execute_result"
    }
   ],
   "source": [
    "student_info.get('F_Name')"
   ]
  },
  {
   "cell_type": "code",
   "execution_count": 32,
   "id": "d4f75755",
   "metadata": {},
   "outputs": [],
   "source": [
    "student_info.get('L_name') # L_name is not present in a dict \n",
    "# No Error"
   ]
  },
  {
   "cell_type": "code",
   "execution_count": 33,
   "id": "be8b3c52",
   "metadata": {},
   "outputs": [
    {
     "data": {
      "text/plain": [
       "'Maharashtra'"
      ]
     },
     "execution_count": 33,
     "metadata": {},
     "output_type": "execute_result"
    }
   ],
   "source": [
    "student_info.get(\"Place\")"
   ]
  },
  {
   "cell_type": "markdown",
   "id": "132d992c",
   "metadata": {},
   "source": [
    "# Accessing items by using loop "
   ]
  },
  {
   "cell_type": "code",
   "execution_count": 34,
   "id": "b1342794",
   "metadata": {},
   "outputs": [
    {
     "data": {
      "text/plain": [
       "{'F_Name': 'Saurav',\n",
       " 'L_Name': 'Sharma',\n",
       " 'Age': 24,\n",
       " 'Marks': 96,\n",
       " 'Place': 'Maharashtra'}"
      ]
     },
     "execution_count": 34,
     "metadata": {},
     "output_type": "execute_result"
    }
   ],
   "source": [
    "student_info"
   ]
  },
  {
   "cell_type": "code",
   "execution_count": 35,
   "id": "ddd29bdc",
   "metadata": {},
   "outputs": [
    {
     "data": {
      "text/plain": [
       "dict_keys(['F_Name', 'L_Name', 'Age', 'Marks', 'Place'])"
      ]
     },
     "execution_count": 35,
     "metadata": {},
     "output_type": "execute_result"
    }
   ],
   "source": [
    "student_info.keys()"
   ]
  },
  {
   "cell_type": "code",
   "execution_count": 36,
   "id": "716c98bc",
   "metadata": {},
   "outputs": [
    {
     "data": {
      "text/plain": [
       "dict_values(['Saurav', 'Sharma', 24, 96, 'Maharashtra'])"
      ]
     },
     "execution_count": 36,
     "metadata": {},
     "output_type": "execute_result"
    }
   ],
   "source": [
    "student_info.values()"
   ]
  },
  {
   "cell_type": "code",
   "execution_count": 39,
   "id": "9c536be9",
   "metadata": {},
   "outputs": [
    {
     "data": {
      "text/plain": [
       "dict_values"
      ]
     },
     "execution_count": 39,
     "metadata": {},
     "output_type": "execute_result"
    }
   ],
   "source": [
    "type(student_info.values())"
   ]
  },
  {
   "cell_type": "code",
   "execution_count": 40,
   "id": "49168786",
   "metadata": {},
   "outputs": [
    {
     "data": {
      "text/plain": [
       "dict_items([('F_Name', 'Saurav'), ('L_Name', 'Sharma'), ('Age', 24), ('Marks', 96), ('Place', 'Maharashtra')])"
      ]
     },
     "execution_count": 40,
     "metadata": {},
     "output_type": "execute_result"
    }
   ],
   "source": [
    "student_info.items()\n"
   ]
  },
  {
   "cell_type": "code",
   "execution_count": 41,
   "id": "0da0bbea",
   "metadata": {},
   "outputs": [
    {
     "data": {
      "text/plain": [
       "dict_items"
      ]
     },
     "execution_count": 41,
     "metadata": {},
     "output_type": "execute_result"
    }
   ],
   "source": [
    "type(student_info.items())\n"
   ]
  },
  {
   "cell_type": "code",
   "execution_count": 42,
   "id": "bd950332",
   "metadata": {},
   "outputs": [
    {
     "data": {
      "text/plain": [
       "[(0, 'P'), (1, 'y'), (2, 't'), (3, 'h'), (4, 'o'), (5, 'n')]"
      ]
     },
     "execution_count": 42,
     "metadata": {},
     "output_type": "execute_result"
    }
   ],
   "source": [
    "list(enumerate(\"Python\"))"
   ]
  },
  {
   "cell_type": "code",
   "execution_count": 43,
   "id": "18b4e906",
   "metadata": {},
   "outputs": [],
   "source": [
    "stud_list = [('F_Name', 'Saurav'), ('L_Name', 'Sharma'), ('Age', 24), ('Marks', 96), ('Place', 'Maharashtra')]"
   ]
  },
  {
   "cell_type": "code",
   "execution_count": 45,
   "id": "abd2fe63",
   "metadata": {},
   "outputs": [
    {
     "data": {
      "text/plain": [
       "[('F_Name', 'Saurav'),\n",
       " ('L_Name', 'Sharma'),\n",
       " ('Age', 24),\n",
       " ('Marks', 96),\n",
       " ('Place', 'Maharashtra')]"
      ]
     },
     "execution_count": 45,
     "metadata": {},
     "output_type": "execute_result"
    }
   ],
   "source": [
    "stud_list"
   ]
  },
  {
   "cell_type": "code",
   "execution_count": 46,
   "id": "eb7177ad",
   "metadata": {},
   "outputs": [
    {
     "name": "stdout",
     "output_type": "stream",
     "text": [
      "('F_Name', 'Saurav') <class 'tuple'>\n",
      "('L_Name', 'Sharma') <class 'tuple'>\n",
      "('Age', 24) <class 'tuple'>\n",
      "('Marks', 96) <class 'tuple'>\n",
      "('Place', 'Maharashtra') <class 'tuple'>\n"
     ]
    }
   ],
   "source": [
    "for items in stud_list:\n",
    "    print(items,type(items))"
   ]
  },
  {
   "cell_type": "code",
   "execution_count": 53,
   "id": "fb5de91d",
   "metadata": {},
   "outputs": [
    {
     "data": {
      "text/plain": [
       "10"
      ]
     },
     "execution_count": 53,
     "metadata": {},
     "output_type": "execute_result"
    }
   ],
   "source": [
    "a,b = (10,20)\n",
    "a"
   ]
  },
  {
   "cell_type": "code",
   "execution_count": 54,
   "id": "49b3c067",
   "metadata": {},
   "outputs": [
    {
     "data": {
      "text/plain": [
       "20"
      ]
     },
     "execution_count": 54,
     "metadata": {},
     "output_type": "execute_result"
    }
   ],
   "source": [
    "b"
   ]
  },
  {
   "cell_type": "code",
   "execution_count": 55,
   "id": "be19d33d",
   "metadata": {},
   "outputs": [
    {
     "name": "stdout",
     "output_type": "stream",
     "text": [
      "F_Name Saurav\n",
      "L_Name Sharma\n",
      "Age 24\n",
      "Marks 96\n",
      "Place Maharashtra\n"
     ]
    }
   ],
   "source": [
    "for a,b in stud_list:\n",
    "    print(a,b)"
   ]
  },
  {
   "cell_type": "code",
   "execution_count": 57,
   "id": "49262a2d",
   "metadata": {},
   "outputs": [
    {
     "name": "stdout",
     "output_type": "stream",
     "text": [
      "Key ----> F_Name ::::::: value -----> Saurav\n",
      "Key ----> L_Name ::::::: value -----> Sharma\n",
      "Key ----> Age ::::::: value -----> 24\n",
      "Key ----> Marks ::::::: value -----> 96\n",
      "Key ----> Place ::::::: value -----> Maharashtra\n"
     ]
    }
   ],
   "source": [
    "for key,val in stud_list:\n",
    "    print(f\"Key ----> {key} ::::::: value -----> {val}\")"
   ]
  },
  {
   "cell_type": "markdown",
   "id": "474b9fde",
   "metadata": {},
   "source": [
    "# Access keys and values from a dict"
   ]
  },
  {
   "cell_type": "code",
   "execution_count": 59,
   "id": "1546f661",
   "metadata": {},
   "outputs": [
    {
     "name": "stdout",
     "output_type": "stream",
     "text": [
      "Key ----> F_Name ::::::: value -----> Saurav\n",
      "Key ----> L_Name ::::::: value -----> Sharma\n",
      "Key ----> Age ::::::: value -----> 24\n",
      "Key ----> Marks ::::::: value -----> 96\n",
      "Key ----> Place ::::::: value -----> Maharashtra\n"
     ]
    }
   ],
   "source": [
    "for key,val in student_info.items():\n",
    "    print(f\"Key ----> {key} ::::::: value -----> {val}\")"
   ]
  },
  {
   "cell_type": "markdown",
   "id": "a65f59c4",
   "metadata": {},
   "source": [
    "# Access keys from dictionary"
   ]
  },
  {
   "cell_type": "code",
   "execution_count": 63,
   "id": "35877197",
   "metadata": {},
   "outputs": [
    {
     "name": "stdout",
     "output_type": "stream",
     "text": [
      "Key ----> F_Name\n",
      "Key ----> L_Name\n",
      "Key ----> Age\n",
      "Key ----> Marks\n",
      "Key ----> Place\n"
     ]
    }
   ],
   "source": [
    "for key in student_info.keys():\n",
    "    print(f\"Key ----> {key}\")"
   ]
  },
  {
   "cell_type": "code",
   "execution_count": 64,
   "id": "345b381f",
   "metadata": {},
   "outputs": [
    {
     "name": "stdout",
     "output_type": "stream",
     "text": [
      "F_Name\n",
      "L_Name\n",
      "Age\n",
      "Marks\n",
      "Place\n"
     ]
    }
   ],
   "source": [
    "for i in student_info:\n",
    "    print(i)"
   ]
  },
  {
   "cell_type": "markdown",
   "id": "8fe4a970",
   "metadata": {},
   "source": [
    "# Access values from dictionary"
   ]
  },
  {
   "cell_type": "code",
   "execution_count": 65,
   "id": "e4e36ea7",
   "metadata": {},
   "outputs": [
    {
     "name": "stdout",
     "output_type": "stream",
     "text": [
      "Val ----> Saurav\n",
      "Val ----> Sharma\n",
      "Val ----> 24\n",
      "Val ----> 96\n",
      "Val ----> Maharashtra\n"
     ]
    }
   ],
   "source": [
    "for val in student_info.values():\n",
    "    print(f\"Val ----> {val}\")"
   ]
  },
  {
   "cell_type": "markdown",
   "id": "35071eff",
   "metadata": {},
   "source": [
    "# Adding items to a dictionary"
   ]
  },
  {
   "cell_type": "code",
   "execution_count": 66,
   "id": "f4f94356",
   "metadata": {},
   "outputs": [
    {
     "data": {
      "text/plain": [
       "{'F_Name': 'Saurav',\n",
       " 'L_Name': 'Sharma',\n",
       " 'Age': 24,\n",
       " 'Marks': 96,\n",
       " 'Place': 'Maharashtra'}"
      ]
     },
     "execution_count": 66,
     "metadata": {},
     "output_type": "execute_result"
    }
   ],
   "source": [
    "student_info"
   ]
  },
  {
   "cell_type": "code",
   "execution_count": 68,
   "id": "ad80e394",
   "metadata": {},
   "outputs": [],
   "source": [
    "student_info[\"Sub_List\"] = [\"Phy\",\"Chem\",\"Math\"]"
   ]
  },
  {
   "cell_type": "code",
   "execution_count": 69,
   "id": "0eeb7b8b",
   "metadata": {},
   "outputs": [
    {
     "data": {
      "text/plain": [
       "{'F_Name': 'Saurav',\n",
       " 'L_Name': 'Sharma',\n",
       " 'Age': 24,\n",
       " 'Marks': 96,\n",
       " 'Place': 'Maharashtra',\n",
       " 'Sub_List': ['Phy', 'Chem', 'Math']}"
      ]
     },
     "execution_count": 69,
     "metadata": {},
     "output_type": "execute_result"
    }
   ],
   "source": [
    "student_info"
   ]
  },
  {
   "cell_type": "code",
   "execution_count": 70,
   "id": "6e03e36e",
   "metadata": {},
   "outputs": [],
   "source": [
    "student_info['Placement_status'] = \"Not placed yet\"\n",
    "student_info[\"Status\"] = \"Not Married\"\n",
    "student_info[\"Siblings\"] = \"Yes\""
   ]
  },
  {
   "cell_type": "code",
   "execution_count": 71,
   "id": "f3da6841",
   "metadata": {},
   "outputs": [
    {
     "data": {
      "text/plain": [
       "{'F_Name': 'Saurav',\n",
       " 'L_Name': 'Sharma',\n",
       " 'Age': 24,\n",
       " 'Marks': 96,\n",
       " 'Place': 'Maharashtra',\n",
       " 'Sub_List': ['Phy', 'Chem', 'Math'],\n",
       " 'Placement_status': 'Not placed yet',\n",
       " 'Status': 'Not Married',\n",
       " 'Siblings': 'Yes'}"
      ]
     },
     "execution_count": 71,
     "metadata": {},
     "output_type": "execute_result"
    }
   ],
   "source": [
    "student_info"
   ]
  },
  {
   "cell_type": "code",
   "execution_count": 72,
   "id": "0b638df7",
   "metadata": {},
   "outputs": [],
   "source": [
    "student_info[\"F_Name\"] = \"Gaurav\""
   ]
  },
  {
   "cell_type": "code",
   "execution_count": 73,
   "id": "95dbaa29",
   "metadata": {},
   "outputs": [
    {
     "data": {
      "text/plain": [
       "{'F_Name': 'Gaurav',\n",
       " 'L_Name': 'Sharma',\n",
       " 'Age': 24,\n",
       " 'Marks': 96,\n",
       " 'Place': 'Maharashtra',\n",
       " 'Sub_List': ['Phy', 'Chem', 'Math'],\n",
       " 'Placement_status': 'Not placed yet',\n",
       " 'Status': 'Not Married',\n",
       " 'Siblings': 'Yes'}"
      ]
     },
     "execution_count": 73,
     "metadata": {},
     "output_type": "execute_result"
    }
   ],
   "source": [
    "student_info"
   ]
  },
  {
   "cell_type": "code",
   "execution_count": 75,
   "id": "0afeed3d",
   "metadata": {},
   "outputs": [
    {
     "data": {
      "text/plain": [
       "{'Nothing': [501, 502, 503, 504, 505]}"
      ]
     },
     "execution_count": 75,
     "metadata": {},
     "output_type": "execute_result"
    }
   ],
   "source": [
    "def demo(li):\n",
    "    new_li = [i + 500 for i in li]\n",
    "    return new_li\n",
    "\n",
    "li = [1,2,3,4,5]\n",
    "di = {\"Nothing\":demo(li)}\n",
    "di"
   ]
  },
  {
   "cell_type": "markdown",
   "id": "a951c53a",
   "metadata": {},
   "source": [
    "# update() "
   ]
  },
  {
   "cell_type": "code",
   "execution_count": 76,
   "id": "268887d9",
   "metadata": {},
   "outputs": [
    {
     "data": {
      "text/plain": [
       "{'F_Name': 'Gaurav',\n",
       " 'L_Name': 'Sharma',\n",
       " 'Age': 24,\n",
       " 'Marks': 96,\n",
       " 'Place': 'Maharashtra'}"
      ]
     },
     "execution_count": 76,
     "metadata": {},
     "output_type": "execute_result"
    }
   ],
   "source": [
    "student_info = {\n",
    "    \"F_Name\" : \"Gaurav\",\n",
    "    \"L_Name\" : \"Sharma\",\n",
    "    \"Age\"    : 24,\n",
    "    \"Marks\"  : 96,\n",
    "    \"Place\"  : \"Maharashtra\",\n",
    "    \n",
    "}\n",
    "student_info"
   ]
  },
  {
   "cell_type": "code",
   "execution_count": null,
   "id": "3ac85b61",
   "metadata": {},
   "outputs": [],
   "source": [
    "student_info['Placement_status'] = Placement_status\n",
    "student_info[\"Status\"] = \"Not Married\"\n",
    "student_info[\"Siblings\"] = \"Yes\""
   ]
  },
  {
   "cell_type": "code",
   "execution_count": 78,
   "id": "6b6b444a",
   "metadata": {},
   "outputs": [
    {
     "data": {
      "text/plain": [
       "{'Placement_status': 'Placement_status',\n",
       " 'Status': 'Not Married',\n",
       " 'Siblings': 'Yes',\n",
       " 'Ready to relocate ?': 'Pune'}"
      ]
     },
     "execution_count": 78,
     "metadata": {},
     "output_type": "execute_result"
    }
   ],
   "source": [
    "new_info = {\n",
    "    \"Placement_status\" : \"Placement_status\",\n",
    "    \"Status\" : \"Not Married\",\n",
    "    \"Siblings\" : \"Yes\",\n",
    "    \"Ready to relocate ?\" : \"Pune\"\n",
    "}\n",
    "new_info"
   ]
  },
  {
   "cell_type": "code",
   "execution_count": 79,
   "id": "8ae9e0f2",
   "metadata": {},
   "outputs": [],
   "source": [
    "student_info.update(new_info)"
   ]
  },
  {
   "cell_type": "code",
   "execution_count": 80,
   "id": "c6dc7325",
   "metadata": {},
   "outputs": [
    {
     "data": {
      "text/plain": [
       "{'F_Name': 'Gaurav',\n",
       " 'L_Name': 'Sharma',\n",
       " 'Age': 24,\n",
       " 'Marks': 96,\n",
       " 'Place': 'Maharashtra',\n",
       " 'Placement_status': 'Placement_status',\n",
       " 'Status': 'Not Married',\n",
       " 'Siblings': 'Yes',\n",
       " 'Ready to relocate ?': 'Pune'}"
      ]
     },
     "execution_count": 80,
     "metadata": {},
     "output_type": "execute_result"
    }
   ],
   "source": [
    "student_info"
   ]
  },
  {
   "cell_type": "code",
   "execution_count": 81,
   "id": "db275f24",
   "metadata": {},
   "outputs": [],
   "source": [
    "di1 = {}\n",
    "di1.update(new_info)"
   ]
  },
  {
   "cell_type": "code",
   "execution_count": 82,
   "id": "82bfa6f2",
   "metadata": {},
   "outputs": [
    {
     "data": {
      "text/plain": [
       "{'Placement_status': 'Placement_status',\n",
       " 'Status': 'Not Married',\n",
       " 'Siblings': 'Yes',\n",
       " 'Ready to relocate ?': 'Pune'}"
      ]
     },
     "execution_count": 82,
     "metadata": {},
     "output_type": "execute_result"
    }
   ],
   "source": [
    "di1"
   ]
  },
  {
   "cell_type": "code",
   "execution_count": 83,
   "id": "10adc060",
   "metadata": {},
   "outputs": [
    {
     "data": {
      "text/plain": [
       "{'Placement_status': 'Placement_status',\n",
       " 'Status': 'Not Married',\n",
       " 'Siblings': 'Yes',\n",
       " 'Ready to relocate ?': 'Pune',\n",
       " 'F_Name': 'Gaurav',\n",
       " 'L_Name': 'Sharma',\n",
       " 'Age': 24,\n",
       " 'Marks': 96,\n",
       " 'Place': 'Maharashtra'}"
      ]
     },
     "execution_count": 83,
     "metadata": {},
     "output_type": "execute_result"
    }
   ],
   "source": [
    "di1.update(student_info)\n",
    "di1"
   ]
  },
  {
   "cell_type": "markdown",
   "id": "cc91bacc",
   "metadata": {},
   "source": [
    "# Square of first 10 numbers "
   ]
  },
  {
   "cell_type": "code",
   "execution_count": 84,
   "id": "02a10e00",
   "metadata": {},
   "outputs": [],
   "source": [
    "# square  = {1:1,2:4,3:9....10:100}"
   ]
  },
  {
   "cell_type": "raw",
   "id": "5ace6fa9",
   "metadata": {},
   "source": [
    "di[new_key_name] = new_value"
   ]
  },
  {
   "cell_type": "code",
   "execution_count": 86,
   "id": "0bc2252c",
   "metadata": {},
   "outputs": [
    {
     "name": "stdout",
     "output_type": "stream",
     "text": [
      "{1: 1}\n",
      "{1: 1, 2: 4}\n",
      "{1: 1, 2: 4, 3: 9}\n",
      "{1: 1, 2: 4, 3: 9, 4: 16}\n",
      "{1: 1, 2: 4, 3: 9, 4: 16, 5: 25}\n",
      "{1: 1, 2: 4, 3: 9, 4: 16, 5: 25, 6: 36}\n",
      "{1: 1, 2: 4, 3: 9, 4: 16, 5: 25, 6: 36, 7: 49}\n",
      "{1: 1, 2: 4, 3: 9, 4: 16, 5: 25, 6: 36, 7: 49, 8: 64}\n",
      "{1: 1, 2: 4, 3: 9, 4: 16, 5: 25, 6: 36, 7: 49, 8: 64, 9: 81}\n",
      "{1: 1, 2: 4, 3: 9, 4: 16, 5: 25, 6: 36, 7: 49, 8: 64, 9: 81, 10: 100}\n"
     ]
    }
   ],
   "source": [
    "square_dict = {}\n",
    "for i in range(1,11):\n",
    "    square_dict[i] = i ** 2\n",
    "    print(square_dict)"
   ]
  },
  {
   "cell_type": "code",
   "execution_count": 87,
   "id": "ce30bc6b",
   "metadata": {},
   "outputs": [
    {
     "name": "stdout",
     "output_type": "stream",
     "text": [
      "{1: 1}\n",
      "{1: 1, 2: 4}\n",
      "{1: 1, 2: 4, 3: 9}\n",
      "{1: 1, 2: 4, 3: 9, 4: 16}\n",
      "{1: 1, 2: 4, 3: 9, 4: 16, 5: 25}\n",
      "{1: 1, 2: 4, 3: 9, 4: 16, 5: 25, 6: 36}\n",
      "{1: 1, 2: 4, 3: 9, 4: 16, 5: 25, 6: 36, 7: 49}\n",
      "{1: 1, 2: 4, 3: 9, 4: 16, 5: 25, 6: 36, 7: 49, 8: 64}\n",
      "{1: 1, 2: 4, 3: 9, 4: 16, 5: 25, 6: 36, 7: 49, 8: 64, 9: 81}\n",
      "{1: 1, 2: 4, 3: 9, 4: 16, 5: 25, 6: 36, 7: 49, 8: 64, 9: 81, 10: 100}\n"
     ]
    }
   ],
   "source": [
    "square_dict = {}\n",
    "for i in range(1,11):\n",
    "    square_dict.update({i:i**2})\n",
    "    print(square_dict)"
   ]
  },
  {
   "cell_type": "markdown",
   "id": "8668b6b5",
   "metadata": {},
   "source": [
    "# ASCII Value for alphabates "
   ]
  },
  {
   "cell_type": "code",
   "execution_count": null,
   "id": "e84fba76",
   "metadata": {},
   "outputs": [],
   "source": [
    "{'a': 97,'b':98,'z' :122}\n",
    "{'A': 65,'B':66,'Z' :90}"
   ]
  },
  {
   "cell_type": "code",
   "execution_count": 1,
   "id": "2d05f6ba",
   "metadata": {},
   "outputs": [
    {
     "data": {
      "text/plain": [
       "['a',\n",
       " 'b',\n",
       " 'c',\n",
       " 'd',\n",
       " 'e',\n",
       " 'f',\n",
       " 'g',\n",
       " 'h',\n",
       " 'i',\n",
       " 'j',\n",
       " 'k',\n",
       " 'l',\n",
       " 'm',\n",
       " 'n',\n",
       " 'o',\n",
       " 'p',\n",
       " 'q',\n",
       " 'r',\n",
       " 's',\n",
       " 't',\n",
       " 'u',\n",
       " 'v',\n",
       " 'w',\n",
       " 'x',\n",
       " 'y',\n",
       " 'z']"
      ]
     },
     "execution_count": 1,
     "metadata": {},
     "output_type": "execute_result"
    }
   ],
   "source": [
    "list(map(chr, range(97, 123)))"
   ]
  },
  {
   "cell_type": "markdown",
   "id": "53ee4a18",
   "metadata": {},
   "source": [
    "### Q .1. {'a': 97,'b':98,'z' :122}"
   ]
  },
  {
   "cell_type": "code",
   "execution_count": 5,
   "id": "985fb420",
   "metadata": {},
   "outputs": [
    {
     "name": "stdout",
     "output_type": "stream",
     "text": [
      "{'a': 97, 'b': 98, 'c': 99, 'd': 100, 'e': 101, 'f': 102, 'g': 103, 'h': 104, 'i': 105, 'j': 106, 'k': 107, 'l': 108, 'm': 109, 'n': 110, 'o': 111, 'p': 112, 'q': 113, 'r': 114, 's': 115, 't': 116, 'u': 117, 'v': 118, 'w': 119, 'x': 120, 'y': 121, 'z': 122}\n"
     ]
    }
   ],
   "source": [
    "small_letters = {}\n",
    "for i in range(97,123):\n",
    "    small_letters.update({chr(i) : i})\n",
    "print(small_letters)"
   ]
  },
  {
   "cell_type": "code",
   "execution_count": 4,
   "id": "8fdd5d2f",
   "metadata": {},
   "outputs": [
    {
     "data": {
      "text/plain": [
       "'a'"
      ]
     },
     "execution_count": 4,
     "metadata": {},
     "output_type": "execute_result"
    }
   ],
   "source": [
    "chr(97)"
   ]
  },
  {
   "cell_type": "markdown",
   "id": "d69f48d9",
   "metadata": {},
   "source": [
    "# Q 2. {'A': 65,'B':66,'Z' :90}"
   ]
  },
  {
   "cell_type": "code",
   "execution_count": 6,
   "id": "8a7c9508",
   "metadata": {},
   "outputs": [
    {
     "name": "stdout",
     "output_type": "stream",
     "text": [
      "{'A': 65, 'B': 66, 'C': 67, 'D': 68, 'E': 69, 'F': 70, 'G': 71, 'H': 72, 'I': 73, 'J': 74, 'K': 75, 'L': 76, 'M': 77, 'N': 78, 'O': 79, 'P': 80, 'Q': 81, 'R': 82, 'S': 83, 'T': 84, 'U': 85, 'V': 86, 'W': 87, 'X': 88, 'Y': 89, 'Z': 90}\n"
     ]
    }
   ],
   "source": [
    "capital_letter = {}\n",
    "for i in range(65,91):\n",
    "    capital_letter.update({chr(i):i})\n",
    "print(capital_letter)"
   ]
  },
  {
   "cell_type": "code",
   "execution_count": null,
   "id": "9bd8bde2",
   "metadata": {},
   "outputs": [],
   "source": []
  }
 ],
 "metadata": {
  "kernelspec": {
   "display_name": "Python 3 (ipykernel)",
   "language": "python",
   "name": "python3"
  },
  "language_info": {
   "codemirror_mode": {
    "name": "ipython",
    "version": 3
   },
   "file_extension": ".py",
   "mimetype": "text/x-python",
   "name": "python",
   "nbconvert_exporter": "python",
   "pygments_lexer": "ipython3",
   "version": "3.9.12"
  }
 },
 "nbformat": 4,
 "nbformat_minor": 5
}
