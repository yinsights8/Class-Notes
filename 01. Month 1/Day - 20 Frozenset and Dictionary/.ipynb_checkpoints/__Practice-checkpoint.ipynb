{
 "cells": [
  {
   "cell_type": "markdown",
   "id": "17806360",
   "metadata": {},
   "source": [
    "# Frozenset\n",
    "- The frozenset() function returns an unchangeable frozenset object (which is like a set object, only unchangeable).\n",
    "- unorderd data type\n",
    "- it is immutable data type\n",
    "- syntax \n",
    "   - frozenset(iterable_object_name)"
   ]
  },
  {
   "cell_type": "code",
   "execution_count": 9,
   "id": "9ae8f835",
   "metadata": {},
   "outputs": [
    {
     "name": "stdout",
     "output_type": "stream",
     "text": [
      "frozenset({1, 2, 3})\n"
     ]
    },
    {
     "ename": "NameError",
     "evalue": "name 'f_s2' is not defined",
     "output_type": "error",
     "traceback": [
      "\u001b[1;31m---------------------------------------------------------------------------\u001b[0m",
      "\u001b[1;31mNameError\u001b[0m                                 Traceback (most recent call last)",
      "Input \u001b[1;32mIn [9]\u001b[0m, in \u001b[0;36m<cell line: 4>\u001b[1;34m()\u001b[0m\n\u001b[0;32m      1\u001b[0m f_s1 \u001b[38;5;241m=\u001b[39m \u001b[38;5;28mfrozenset\u001b[39m([\u001b[38;5;241m1\u001b[39m,\u001b[38;5;241m2\u001b[39m,\u001b[38;5;241m3\u001b[39m])\n\u001b[0;32m      3\u001b[0m \u001b[38;5;28mprint\u001b[39m(f_s1)\n\u001b[1;32m----> 4\u001b[0m \u001b[38;5;28mtype\u001b[39m(\u001b[43mf_s2\u001b[49m)\n",
      "\u001b[1;31mNameError\u001b[0m: name 'f_s2' is not defined"
     ]
    }
   ],
   "source": [
    "f_s1 = frozenset([1,2,3])\n",
    "\n",
    "print(f_s1)\n",
    "type(f_s2)"
   ]
  },
  {
   "cell_type": "code",
   "execution_count": null,
   "id": "6e18f3c6",
   "metadata": {},
   "outputs": [],
   "source": [
    "f_s1 = frozenset({1,2,3,4,5,6})\n",
    "\n",
    "print(f_s1)"
   ]
  },
  {
   "cell_type": "code",
   "execution_count": null,
   "id": "9675fc8e",
   "metadata": {},
   "outputs": [],
   "source": [
    "f_s2 = frozenset()\n",
    "print(f_s2)\n",
    "type(f_s2)"
   ]
  },
  {
   "cell_type": "markdown",
   "id": "abbd0f50",
   "metadata": {},
   "source": [
    "# is frozenset is unorderd - yes"
   ]
  },
  {
   "cell_type": "code",
   "execution_count": null,
   "id": "41aa1092",
   "metadata": {
    "scrolled": true
   },
   "outputs": [],
   "source": [
    "f_s1 = frozenset({6,5,8,9,1,2,7,4,5,6,3,4})\n",
    "print(f_s1)"
   ]
  },
  {
   "cell_type": "markdown",
   "id": "075fd473",
   "metadata": {},
   "source": [
    "# frozenset on dictionary"
   ]
  },
  {
   "cell_type": "code",
   "execution_count": null,
   "id": "fd1c992f",
   "metadata": {},
   "outputs": [],
   "source": [
    "f_dict1 = {\"Name\": \"yash\", \"age\": 22, \"designation\": \"student\", \"sex\": \"male\" }\n",
    "\n",
    "new_f_set = frozenset(f_dict1.values())\n",
    "print(new_f_set)"
   ]
  },
  {
   "cell_type": "markdown",
   "id": "f155685d",
   "metadata": {},
   "source": [
    "### while applying frozenset on dictionary it will take only keys as a arguments"
   ]
  },
  {
   "cell_type": "code",
   "execution_count": null,
   "id": "5ae47eef",
   "metadata": {},
   "outputs": [],
   "source": [
    "\n",
    "f_dict1 = {\"Name\": \"yash\", \"age\": 22, \"designation\": \"student\", \"sex\": \"male\" }\n",
    "\n",
    "new_f_set = frozenset(f_dict1)\n",
    "print(new_f_set)"
   ]
  },
  {
   "cell_type": "code",
   "execution_count": null,
   "id": "be1b8217",
   "metadata": {},
   "outputs": [],
   "source": [
    "f_dict1 = {\"Name\": \"yash\", \"age\": 22, \"designation\": \"student\", \"sex\": \"male\" }\n",
    "\n",
    "new_f_set = frozenset(f_dict1.items())\n",
    "print(new_f_set)"
   ]
  },
  {
   "cell_type": "code",
   "execution_count": null,
   "id": "a9f6ca2f",
   "metadata": {},
   "outputs": [],
   "source": [
    "new_f_set = frozenset(f_dict1)\n",
    "\n",
    "for i, v in f_dict1.items():\n",
    "    print(i,v)"
   ]
  },
  {
   "cell_type": "code",
   "execution_count": null,
   "id": "1423a298",
   "metadata": {},
   "outputs": [],
   "source": [
    "frozen_1 = {1,2,3,4,5,6}\n",
    "\n",
    "res = frozenset(frozen_1)\n",
    "print(res)\n",
    "print(type(res))"
   ]
  },
  {
   "cell_type": "code",
   "execution_count": null,
   "id": "8beddb15",
   "metadata": {},
   "outputs": [],
   "source": [
    "# what if we try to pass intiger or float value into the frozenset ?\n",
    "set1 =[1.2,1, 5, 1.5, 6.5, 8.9]\n",
    "\n",
    "int_can_work = frozenset(set1)\n",
    "print(int_can_work)"
   ]
  },
  {
   "cell_type": "markdown",
   "id": "386ee9dc",
   "metadata": {},
   "source": [
    "# can we add element in frozenset"
   ]
  },
  {
   "cell_type": "code",
   "execution_count": null,
   "id": "7eb7b1e4",
   "metadata": {},
   "outputs": [],
   "source": [
    "frozen_ele = frozenset([1,2,3,5])\n",
    "\n",
    "frozen_ele.add(2)"
   ]
  },
  {
   "cell_type": "code",
   "execution_count": null,
   "id": "2ad55831",
   "metadata": {},
   "outputs": [],
   "source": [
    "frozen_ele = set([1,2,3,5])\n",
    "\n",
    "frozen_ele.add(6)\n",
    "print(frozen_ele)"
   ]
  },
  {
   "cell_type": "code",
   "execution_count": null,
   "id": "033d47a6",
   "metadata": {},
   "outputs": [],
   "source": [
    "frozen_ele = frozenset([1,2,3,5])\n",
    "set2 = {7,8,9}\n",
    "frozen_ele.update(set2)"
   ]
  },
  {
   "cell_type": "code",
   "execution_count": null,
   "id": "78df153f",
   "metadata": {},
   "outputs": [],
   "source": [
    "frozen_ele = frozenset([1,2,3,5])\n",
    "set2 = {7,8,9}\n",
    "print(f\"old frozenset: {frozen_ele}\")\n",
    "new_set = frozen_ele.union(set2)\n",
    "print(f\"new frozen set: {new_set}\")"
   ]
  },
  {
   "cell_type": "code",
   "execution_count": null,
   "id": "9e435598",
   "metadata": {},
   "outputs": [],
   "source": [
    "frozen_ele = frozenset([1,2,3,5, \"yash\",\"ab\"])\n",
    "set1 = [1,2,3,\"yash\", \"dhakade\", \"data\", \"science\", \"ab\"]\n",
    "set2 = {1,2,'a','ab','c','d',\"yash\"}\n",
    "\n",
    "set3 = frozen_ele.intersection(set1,set2)\n",
    "print(set3)"
   ]
  },
  {
   "cell_type": "code",
   "execution_count": null,
   "id": "5ce0eafd",
   "metadata": {},
   "outputs": [],
   "source": [
    "diff_set = frozenset((1,2,3,4,5))\n",
    "\n",
    "diff_set2 = {6,7,8,9}\n",
    "\n",
    "diff_set3 = (1,2,3,7,8,9)\n",
    "\n",
    "difference_set = diff_set.difference(diff_set2, diff_set3)\n",
    "print(difference_set)"
   ]
  },
  {
   "cell_type": "code",
   "execution_count": null,
   "id": "dffcdbdd",
   "metadata": {},
   "outputs": [],
   "source": [
    "diff_set = frozenset((1,2,3,4,5,6,7,8,9))\n",
    "\n",
    "diff_set2 = {10,20,6,7,8,9}\n",
    "\n",
    "symetric = diff_set.symmetric_difference(diff_set2)\n",
    "print(symetric)"
   ]
  },
  {
   "cell_type": "code",
   "execution_count": 10,
   "id": "1009f5c9",
   "metadata": {},
   "outputs": [
    {
     "name": "stdout",
     "output_type": "stream",
     "text": [
      "False\n"
     ]
    }
   ],
   "source": [
    "diff_set = frozenset((1,2,3,4,5,6,7,8,9))\n",
    "\n",
    "diff_set2 = {10,20,6,7,8,9}\n",
    "\n",
    "result = diff_set.issubset(diff_set2)\n",
    "print(result)"
   ]
  },
  {
   "cell_type": "code",
   "execution_count": 11,
   "id": "cd70fc40",
   "metadata": {},
   "outputs": [
    {
     "name": "stdout",
     "output_type": "stream",
     "text": [
      "True\n"
     ]
    }
   ],
   "source": [
    "diff_set = frozenset((1,2,3,4,5,6,7,8,9))\n",
    "\n",
    "diff_set2 = {6,7,8,9} # this set is a part of diff_set\n",
    "\n",
    "result = diff_set2.issubset(diff_set)\n",
    "print(result)"
   ]
  },
  {
   "cell_type": "code",
   "execution_count": 12,
   "id": "85cd37f7",
   "metadata": {},
   "outputs": [
    {
     "name": "stdout",
     "output_type": "stream",
     "text": [
      "True\n"
     ]
    }
   ],
   "source": [
    "diff_set = frozenset((1,2,3,4,5,6,7,8,9))\n",
    "\n",
    "diff_set2 = {6,7,8,9} # this set is a part of diff_set\n",
    "\n",
    "result = diff_set2 <= diff_set2\n",
    "print(result)"
   ]
  },
  {
   "cell_type": "markdown",
   "id": "417b19c1",
   "metadata": {},
   "source": [
    "##### proper subset\n",
    "- in proper subset the elements should precisely identical, it should be shuffled"
   ]
  },
  {
   "cell_type": "code",
   "execution_count": 13,
   "id": "1d465be6",
   "metadata": {},
   "outputs": [
    {
     "name": "stdout",
     "output_type": "stream",
     "text": [
      "True\n"
     ]
    }
   ],
   "source": [
    "diff_set = frozenset((1,2,3,4,5,6,7,8,9))\n",
    "\n",
    "diff_set2 = {9,8,7,6} # this set is a part of diff_set\n",
    "\n",
    "result = diff_set2 < diff_set # diff_set2 is a proper subset of diff_set\n",
    "print(result)"
   ]
  },
  {
   "cell_type": "code",
   "execution_count": 14,
   "id": "8b823a6f",
   "metadata": {},
   "outputs": [
    {
     "data": {
      "text/plain": [
       "True"
      ]
     },
     "execution_count": 14,
     "metadata": {},
     "output_type": "execute_result"
    }
   ],
   "source": [
    "diff_set = frozenset((1,2,3,4,5,6,7,8,9))\n",
    "\n",
    "diff_set2 = {9,8,7,6}\n",
    "\n",
    "diff_set > diff_set2"
   ]
  },
  {
   "cell_type": "code",
   "execution_count": 15,
   "id": "8693f52d",
   "metadata": {},
   "outputs": [
    {
     "data": {
      "text/plain": [
       "True"
      ]
     },
     "execution_count": 15,
     "metadata": {},
     "output_type": "execute_result"
    }
   ],
   "source": [
    "diff_set = frozenset((1,2,3,4,5,6,7,8,9))\n",
    "\n",
    "diff_set2 = {9,8,7,6}\n",
    "\n",
    "diff_set >= diff_set2"
   ]
  },
  {
   "cell_type": "code",
   "execution_count": 16,
   "id": "9dd84674",
   "metadata": {},
   "outputs": [
    {
     "name": "stdout",
     "output_type": "stream",
     "text": [
      "True\n"
     ]
    }
   ],
   "source": [
    "diff_set = frozenset((1,2,3,4,5,6,7,8,9))\n",
    "\n",
    "diff_set2 = {6,7,8,9}\n",
    "\n",
    "check = diff_set.issuperset(diff_set2) # diff_set is big brother of diff_set2\n",
    "print(check)"
   ]
  },
  {
   "cell_type": "code",
   "execution_count": 17,
   "id": "0b4173b4",
   "metadata": {},
   "outputs": [
    {
     "name": "stdout",
     "output_type": "stream",
     "text": [
      "False\n"
     ]
    }
   ],
   "source": [
    "diff_set = frozenset((1,2,3,4,5,6,7,8,9))\n",
    "\n",
    "diff_set2 = {6,7,8,9}\n",
    "\n",
    "check = diff_set2.issuperset(diff_set)\n",
    "print(check)"
   ]
  },
  {
   "cell_type": "code",
   "execution_count": 18,
   "id": "b673e97a",
   "metadata": {},
   "outputs": [
    {
     "data": {
      "text/plain": [
       "False"
      ]
     },
     "execution_count": 18,
     "metadata": {},
     "output_type": "execute_result"
    }
   ],
   "source": [
    "diff_set = frozenset((1,2,3,4,5,6,7,8,9))\n",
    "\n",
    "diff_set2 = {6,7,8,9}\n",
    "\n",
    "diff_set.isdisjoint(diff_set2)"
   ]
  },
  {
   "cell_type": "code",
   "execution_count": 19,
   "id": "68ef76ca",
   "metadata": {},
   "outputs": [
    {
     "data": {
      "text/plain": [
       "False"
      ]
     },
     "execution_count": 19,
     "metadata": {},
     "output_type": "execute_result"
    }
   ],
   "source": [
    "diff_set = frozenset((1,2,3,4,5,6,7,8,9))\n",
    "\n",
    "diff_set2 = {6,7,8,9}\n",
    "\n",
    "diff_set2.isdisjoint(diff_set)"
   ]
  },
  {
   "cell_type": "code",
   "execution_count": 20,
   "id": "8adc5b22",
   "metadata": {},
   "outputs": [
    {
     "data": {
      "text/plain": [
       "True"
      ]
     },
     "execution_count": 20,
     "metadata": {},
     "output_type": "execute_result"
    }
   ],
   "source": [
    "diff_set = frozenset((1,2,3,4,5,6,7,8,9))\n",
    "\n",
    "diff_set2 = {10,11,12,13}\n",
    "\n",
    "diff_set2.isdisjoint(diff_set)"
   ]
  },
  {
   "cell_type": "code",
   "execution_count": 21,
   "id": "ef65505a",
   "metadata": {},
   "outputs": [
    {
     "data": {
      "text/plain": [
       "True"
      ]
     },
     "execution_count": 21,
     "metadata": {},
     "output_type": "execute_result"
    }
   ],
   "source": [
    "diff_set = frozenset((1,2,3,4,5,6,7,8,9))\n",
    "\n",
    "diff_set2 = frozenset({10,11,12,13})\n",
    "\n",
    "diff_set.isdisjoint(diff_set2)"
   ]
  },
  {
   "cell_type": "markdown",
   "id": "9df9a7dc",
   "metadata": {},
   "source": [
    "# dictionary"
   ]
  },
  {
   "cell_type": "code",
   "execution_count": 22,
   "id": "dc19b76c",
   "metadata": {},
   "outputs": [
    {
     "name": "stdout",
     "output_type": "stream",
     "text": [
      "{1: 'one', 2: 'two', 2.5: 'two point five', (1, 2, 3): 'tuple', frozenset({8, 9, 7}): 'frozenset', 'python': 'data science'}\n"
     ]
    }
   ],
   "source": [
    "dic = {1:\"one\", \n",
    "       2:\"two\", \n",
    "       2.5:\"two point five\", \n",
    "       (1,2,3):\"tuple\", \n",
    "       frozenset((7,8,9)): \"frozenset\", \n",
    "       \"python\":\"data science\"\n",
    "      }\n",
    "\n",
    "print(dic)"
   ]
  },
  {
   "cell_type": "code",
   "execution_count": 23,
   "id": "6bdebe17",
   "metadata": {},
   "outputs": [
    {
     "ename": "TypeError",
     "evalue": "unhashable type: 'list'",
     "output_type": "error",
     "traceback": [
      "\u001b[1;31m---------------------------------------------------------------------------\u001b[0m",
      "\u001b[1;31mTypeError\u001b[0m                                 Traceback (most recent call last)",
      "Input \u001b[1;32mIn [23]\u001b[0m, in \u001b[0;36m<cell line: 1>\u001b[1;34m()\u001b[0m\n\u001b[1;32m----> 1\u001b[0m dic \u001b[38;5;241m=\u001b[39m {\u001b[38;5;241m1\u001b[39m:\u001b[38;5;124m\"\u001b[39m\u001b[38;5;124mone\u001b[39m\u001b[38;5;124m\"\u001b[39m, \n\u001b[0;32m      2\u001b[0m        \u001b[38;5;241m2\u001b[39m:\u001b[38;5;124m\"\u001b[39m\u001b[38;5;124mtwo\u001b[39m\u001b[38;5;124m\"\u001b[39m, \n\u001b[0;32m      3\u001b[0m        \u001b[38;5;241m2.5\u001b[39m:\u001b[38;5;124m\"\u001b[39m\u001b[38;5;124mtwo point five\u001b[39m\u001b[38;5;124m\"\u001b[39m, \n\u001b[0;32m      4\u001b[0m        [\u001b[38;5;241m1\u001b[39m,\u001b[38;5;241m2\u001b[39m,\u001b[38;5;241m3\u001b[39m]:\u001b[38;5;124m\"\u001b[39m\u001b[38;5;124mtuple\u001b[39m\u001b[38;5;124m\"\u001b[39m, \n\u001b[0;32m      5\u001b[0m        {\u001b[38;5;241m7\u001b[39m,\u001b[38;5;241m8\u001b[39m,\u001b[38;5;241m9\u001b[39m}: \u001b[38;5;124m\"\u001b[39m\u001b[38;5;124mfrozenset\u001b[39m\u001b[38;5;124m\"\u001b[39m, \n\u001b[0;32m      6\u001b[0m        \u001b[38;5;124m\"\u001b[39m\u001b[38;5;124mpython\u001b[39m\u001b[38;5;124m\"\u001b[39m:\u001b[38;5;124m\"\u001b[39m\u001b[38;5;124mdata science\u001b[39m\u001b[38;5;124m\"\u001b[39m\n\u001b[0;32m      7\u001b[0m       }\n\u001b[0;32m      9\u001b[0m \u001b[38;5;28mprint\u001b[39m(dic)\n",
      "\u001b[1;31mTypeError\u001b[0m: unhashable type: 'list'"
     ]
    }
   ],
   "source": [
    "dic = {1:\"one\", \n",
    "       2:\"two\", \n",
    "       2.5:\"two point five\", \n",
    "       [1,2,3]:\"tuple\", \n",
    "       {7,8,9}: \"frozenset\", \n",
    "       \"python\":\"data science\"\n",
    "      }\n",
    "\n",
    "print(dic)"
   ]
  },
  {
   "cell_type": "code",
   "execution_count": null,
   "id": "56250ba2",
   "metadata": {},
   "outputs": [],
   "source": [
    "student_info = {\n",
    "    \"F_Name\" : \"Yash\",\n",
    "    \"L_Name\" : \"Dhakade\",\n",
    "    \"Education\": \"Data scientist\",\n",
    "    \"Gender\": \"Male\",\n",
    "    \"Age\": 22,\n",
    "}\n",
    "\n",
    "print(student_info)"
   ]
  },
  {
   "cell_type": "code",
   "execution_count": null,
   "id": "dc081c36",
   "metadata": {},
   "outputs": [],
   "source": [
    "# "
   ]
  },
  {
   "cell_type": "code",
   "execution_count": null,
   "id": "7d18ac27",
   "metadata": {},
   "outputs": [],
   "source": [
    "student_info[\"Roll Number\"] = 18"
   ]
  },
  {
   "cell_type": "code",
   "execution_count": null,
   "id": "a2e23924",
   "metadata": {},
   "outputs": [],
   "source": [
    "student_info"
   ]
  },
  {
   "cell_type": "markdown",
   "id": "d5905d62",
   "metadata": {},
   "source": [
    "# Access element from dictionary\n",
    "- dict_name[key_name]"
   ]
  },
  {
   "cell_type": "code",
   "execution_count": null,
   "id": "6a2eb982",
   "metadata": {},
   "outputs": [],
   "source": [
    "student_info[\"F_Name\"]"
   ]
  },
  {
   "cell_type": "code",
   "execution_count": null,
   "id": "147c3689",
   "metadata": {},
   "outputs": [],
   "source": [
    "student_info[\"f_name\"]"
   ]
  },
  {
   "cell_type": "code",
   "execution_count": null,
   "id": "1c85e6c0",
   "metadata": {},
   "outputs": [],
   "source": [
    "student_info[\"Education\"]"
   ]
  },
  {
   "cell_type": "code",
   "execution_count": null,
   "id": "c98d8831",
   "metadata": {},
   "outputs": [],
   "source": [
    "student_info[\"Age\"] = 22"
   ]
  },
  {
   "cell_type": "code",
   "execution_count": null,
   "id": "31084df9",
   "metadata": {},
   "outputs": [],
   "source": [
    "student_info[\"Age\"]"
   ]
  },
  {
   "cell_type": "code",
   "execution_count": null,
   "id": "45fed17d",
   "metadata": {},
   "outputs": [],
   "source": [
    "student_info.get(\"F_Name\")"
   ]
  },
  {
   "cell_type": "code",
   "execution_count": null,
   "id": "e54b82d1",
   "metadata": {},
   "outputs": [],
   "source": [
    "student_info.get(\"F_name\")"
   ]
  },
  {
   "cell_type": "markdown",
   "id": "3b379fe5",
   "metadata": {},
   "source": [
    "# how to add elements in dictionary"
   ]
  },
  {
   "cell_type": "code",
   "execution_count": null,
   "id": "fe9a7d49",
   "metadata": {},
   "outputs": [],
   "source": [
    "student_info"
   ]
  },
  {
   "cell_type": "code",
   "execution_count": null,
   "id": "58047743",
   "metadata": {},
   "outputs": [],
   "source": [
    "# updating element\n",
    "student_info[\"F_Name\"] = \"monu\""
   ]
  },
  {
   "cell_type": "code",
   "execution_count": null,
   "id": "fc9f8c71",
   "metadata": {},
   "outputs": [],
   "source": [
    "student_info"
   ]
  },
  {
   "cell_type": "code",
   "execution_count": null,
   "id": "7d022494",
   "metadata": {},
   "outputs": [],
   "source": [
    "# adding element\n",
    "student_info[\"future\"] = \"persuing\"\n",
    "student_info[\"Roll Number\"] = 81"
   ]
  },
  {
   "cell_type": "code",
   "execution_count": null,
   "id": "54813ca5",
   "metadata": {},
   "outputs": [],
   "source": [
    "student_info"
   ]
  },
  {
   "cell_type": "markdown",
   "id": "04ef9768",
   "metadata": {},
   "source": [
    "# Accessing items by using loop"
   ]
  },
  {
   "cell_type": "code",
   "execution_count": null,
   "id": "a269bde3",
   "metadata": {},
   "outputs": [],
   "source": [
    "# by default it will return keys \n",
    "for i in student_info:\n",
    "    print(i)"
   ]
  },
  {
   "cell_type": "code",
   "execution_count": null,
   "id": "37436e60",
   "metadata": {},
   "outputs": [],
   "source": [
    "for key in student_info.keys():\n",
    "    print(key)"
   ]
  },
  {
   "cell_type": "code",
   "execution_count": null,
   "id": "78d870f6",
   "metadata": {},
   "outputs": [],
   "source": [
    "for val in student_info.values():\n",
    "    print(val)"
   ]
  },
  {
   "cell_type": "code",
   "execution_count": null,
   "id": "1823f5fe",
   "metadata": {},
   "outputs": [],
   "source": [
    "student_info = {\n",
    "    \"F_Name\" : \"Yash\",\n",
    "    \"L_Name\" : \"Dhakade\",\n",
    "    \"Education\": \"Data scientist\",\n",
    "    \"Gender\": \"Male\",\n",
    "    \"Age\": 22,\n",
    "}"
   ]
  },
  {
   "cell_type": "code",
   "execution_count": null,
   "id": "929573d1",
   "metadata": {},
   "outputs": [],
   "source": [
    "acces = dict(enumerate(student_info.items()))\n",
    "acces"
   ]
  },
  {
   "cell_type": "code",
   "execution_count": null,
   "id": "f19feabf",
   "metadata": {},
   "outputs": [],
   "source": [
    "in_list = list(enumerate(student_info.items()))\n",
    "in_list"
   ]
  },
  {
   "cell_type": "markdown",
   "id": "5386315f",
   "metadata": {},
   "source": [
    "# unpacking of tuple"
   ]
  },
  {
   "cell_type": "code",
   "execution_count": null,
   "id": "f5bf7c85",
   "metadata": {},
   "outputs": [],
   "source": [
    "for i in student_info.items():\n",
    "    print(i)"
   ]
  },
  {
   "cell_type": "code",
   "execution_count": null,
   "id": "073a28b7",
   "metadata": {},
   "outputs": [],
   "source": [
    "for key, value in student_info.items():\n",
    "    print(f\"keys:- {key}  :::::  values:- {value}\")"
   ]
  },
  {
   "cell_type": "code",
   "execution_count": null,
   "id": "fe9b16d5",
   "metadata": {},
   "outputs": [],
   "source": [
    "for  key, value in enumerate(student_info.items()):\n",
    "    print(f\" at keys:- {key}  :::::  values:- {value}\")"
   ]
  },
  {
   "cell_type": "code",
   "execution_count": null,
   "id": "a64c5b02",
   "metadata": {},
   "outputs": [],
   "source": [
    "list(student_info.items())"
   ]
  },
  {
   "cell_type": "code",
   "execution_count": null,
   "id": "baca44b9",
   "metadata": {},
   "outputs": [],
   "source": [
    "stud_list = [('F_Name', 'monu'), ('L_Name', 'Dhakade'), ('Education', 'Data scientist'), ('Gender', 'Male'), ('Age', 22), ('Roll Number', 81), ('future', 'persuing')]"
   ]
  },
  {
   "cell_type": "code",
   "execution_count": null,
   "id": "fd7d36f4",
   "metadata": {},
   "outputs": [],
   "source": [
    "print(stud_list)"
   ]
  },
  {
   "cell_type": "code",
   "execution_count": null,
   "id": "29783656",
   "metadata": {},
   "outputs": [],
   "source": [
    "for a, b in stud_list:\n",
    "    print(f\"key -> {a}     item -> {b}\")"
   ]
  },
  {
   "cell_type": "markdown",
   "id": "197a67da",
   "metadata": {},
   "source": [
    "# Accessing key and values from the dictionary\n"
   ]
  },
  {
   "cell_type": "code",
   "execution_count": null,
   "id": "7abd118b",
   "metadata": {},
   "outputs": [],
   "source": [
    "student_info.keys()\n"
   ]
  },
  {
   "cell_type": "code",
   "execution_count": null,
   "id": "be808649",
   "metadata": {},
   "outputs": [],
   "source": [
    "student_info.values()"
   ]
  },
  {
   "cell_type": "code",
   "execution_count": null,
   "id": "62d2c1ab",
   "metadata": {},
   "outputs": [],
   "source": [
    "student_info.items()"
   ]
  },
  {
   "cell_type": "markdown",
   "id": "23bad3e6",
   "metadata": {},
   "source": [
    "Question 1."
   ]
  },
  {
   "cell_type": "code",
   "execution_count": null,
   "id": "681d567a",
   "metadata": {},
   "outputs": [],
   "source": [
    "{'a': 97,'b':98,'z' :122}\n",
    "{'A': 65,'B':66,'Z' :90}"
   ]
  },
  {
   "cell_type": "code",
   "execution_count": null,
   "id": "a8809c0d",
   "metadata": {},
   "outputs": [],
   "source": [
    "alphabets = ['a',\n",
    "'b',\n",
    " 'c',\n",
    " 'd',\n",
    " 'e',\n",
    " 'f',\n",
    " 'g',\n",
    " 'h',\n",
    " 'i',\n",
    " 'j',\n",
    " 'k',\n",
    " 'l',\n",
    " 'm',\n",
    " 'n',\n",
    " 'o',\n",
    " 'p',\n",
    " 'q',\n",
    " 'r',\n",
    " 's',\n",
    " 't',\n",
    " 'u',\n",
    " 'v',\n",
    " 'w',\n",
    " 'x',\n",
    " 'y',\n",
    " 'z']"
   ]
  },
  {
   "cell_type": "code",
   "execution_count": null,
   "id": "f13ee01a",
   "metadata": {},
   "outputs": [],
   "source": [
    "alphabets"
   ]
  },
  {
   "cell_type": "markdown",
   "id": "7c448692",
   "metadata": {},
   "source": [
    "Q. square of values in Dictionary "
   ]
  },
  {
   "cell_type": "code",
   "execution_count": null,
   "id": "06b32df1",
   "metadata": {},
   "outputs": [],
   "source": [
    "square = {}\n",
    "\n",
    "for i in range(1,11):\n",
    "    square[i] = i**2\n",
    "print(square)"
   ]
  },
  {
   "cell_type": "code",
   "execution_count": null,
   "id": "13986a40",
   "metadata": {},
   "outputs": [],
   "source": [
    "dic_alpha = {}\n",
    "for i in alphabets:\n",
    "    alphabets[i] = chr(i)+1\n",
    "print(dic_alpha)"
   ]
  },
  {
   "cell_type": "code",
   "execution_count": null,
   "id": "634f712d",
   "metadata": {},
   "outputs": [],
   "source": [
    "list(map(chr, range(65, 91)))"
   ]
  },
  {
   "cell_type": "code",
   "execution_count": null,
   "id": "60a49659",
   "metadata": {},
   "outputs": [],
   "source": [
    "chr(97)"
   ]
  },
  {
   "cell_type": "code",
   "execution_count": null,
   "id": "f277c3e1",
   "metadata": {},
   "outputs": [],
   "source": [
    "small_alphas = {}\n",
    "for i in range(97, 123):\n",
    "    small_alphas.update({chr(i):i})\n",
    "print(small_alphas)"
   ]
  },
  {
   "cell_type": "code",
   "execution_count": null,
   "id": "b498cffa",
   "metadata": {},
   "outputs": [],
   "source": [
    "dic_alpha = {}\n",
    "n = 97\n",
    "for i in alphabets:\n",
    "    dic_alpha.update({i:n})\n",
    "    n += 1\n",
    "\n",
    "print(dic_alpha)"
   ]
  },
  {
   "cell_type": "code",
   "execution_count": null,
   "id": "5c7f5243",
   "metadata": {},
   "outputs": [],
   "source": [
    "small_alpha = {}\n",
    "n = 97\n",
    "for i in alphabets:\n",
    "    dic_alpha.update({i:n})\n",
    "    n += 1\n",
    "\n",
    "print(dic_alpha)"
   ]
  },
  {
   "cell_type": "code",
   "execution_count": null,
   "id": "832197cd",
   "metadata": {},
   "outputs": [],
   "source": [
    "chr(122)"
   ]
  },
  {
   "cell_type": "code",
   "execution_count": null,
   "id": "dd3420eb",
   "metadata": {},
   "outputs": [],
   "source": [
    "{'A': 65,'B':66,'Z' :90}"
   ]
  },
  {
   "cell_type": "code",
   "execution_count": null,
   "id": "4d92c352",
   "metadata": {},
   "outputs": [],
   "source": [
    "list(map(chr, range(65, 91)))"
   ]
  },
  {
   "cell_type": "code",
   "execution_count": null,
   "id": "1f7dc64f",
   "metadata": {},
   "outputs": [],
   "source": [
    "capital_alpha = ['A',\n",
    " 'B',\n",
    " 'C',\n",
    " 'D',\n",
    " 'E',\n",
    " 'F',\n",
    " 'G',\n",
    " 'H',\n",
    " 'I',\n",
    " 'J',\n",
    " 'K',\n",
    " 'L',\n",
    " 'M',\n",
    " 'N',\n",
    " 'O',\n",
    " 'P',\n",
    " 'Q',\n",
    " 'R',\n",
    " 'S',\n",
    " 'T',\n",
    " 'U',\n",
    " 'V',\n",
    " 'W',\n",
    " 'X',\n",
    " 'Y',\n",
    " 'Z']"
   ]
  },
  {
   "cell_type": "code",
   "execution_count": null,
   "id": "24733f50",
   "metadata": {},
   "outputs": [],
   "source": [
    "capital_alphas = {}\n",
    "for i in range(65, 91):\n",
    "    capital_alphas.update({chr(i):i})\n",
    "print(capital_alphas)"
   ]
  },
  {
   "cell_type": "code",
   "execution_count": null,
   "id": "d5a121da",
   "metadata": {},
   "outputs": [],
   "source": [
    "dict_cap = {}\n",
    "n = 65\n",
    "for i in capital_alpha:\n",
    "    dict_cap.update({i:n})\n",
    "    n += 1\n",
    "print(dict_cap)"
   ]
  },
  {
   "cell_type": "code",
   "execution_count": null,
   "id": "a96de9a4",
   "metadata": {},
   "outputs": [],
   "source": []
  },
  {
   "cell_type": "markdown",
   "id": "821e7fbb",
   "metadata": {},
   "source": [
    "## adding a new dictionary to current dictionary"
   ]
  },
  {
   "cell_type": "code",
   "execution_count": null,
   "id": "e4d3a880",
   "metadata": {},
   "outputs": [],
   "source": [
    "stud_info = {\n",
    "    \"F_Name\": \"Yash\",\n",
    "    \"L_Name\": \"Dhakade\",\n",
    "    \"Place\": \"Maharashtra\"\n",
    "}\n",
    "stud_info"
   ]
  },
  {
   "cell_type": "code",
   "execution_count": null,
   "id": "dfb401fc",
   "metadata": {},
   "outputs": [],
   "source": [
    "bio_data = {\n",
    "    \"Height\": 5.5,\n",
    "    \"Age\": 24,\n",
    "    \"Mobial Number\": 1234567891\n",
    "}\n",
    "bio_data"
   ]
  },
  {
   "cell_type": "code",
   "execution_count": null,
   "id": "07478481",
   "metadata": {},
   "outputs": [],
   "source": [
    "stud_info.update(bio_data)\n",
    "print(stud_info)"
   ]
  },
  {
   "cell_type": "code",
   "execution_count": null,
   "id": "ec4c70a5",
   "metadata": {},
   "outputs": [],
   "source": [
    "list1 = [1,2,3,4]\n",
    "list2 = [4,5,6,7]\n",
    "\n",
    "dict(zip(list1, list2))"
   ]
  },
  {
   "cell_type": "code",
   "execution_count": null,
   "id": "7be6ba90",
   "metadata": {},
   "outputs": [],
   "source": [
    "tup = (1,2,3,4,5,6)\n",
    "tup2 = (\"yash\", \"data\", \"science\")\n",
    "\n",
    "dict(zip(tup, tup2))"
   ]
  },
  {
   "cell_type": "code",
   "execution_count": null,
   "id": "3348732d",
   "metadata": {},
   "outputs": [],
   "source": [
    "tup = (1,2,3,4,5,6)\n",
    "tup2 = (\"yash\", \"data\", \"science\")\n",
    "\n",
    "dict(zip(tup2, tup))"
   ]
  },
  {
   "cell_type": "markdown",
   "id": "928cabda",
   "metadata": {},
   "source": [
    "### Dictionary comprehension"
   ]
  },
  {
   "cell_type": "raw",
   "id": "9e2f1084",
   "metadata": {},
   "source": [
    "- new_dict = {new_key: new_value for key, value in dictionary.items()}"
   ]
  },
  {
   "cell_type": "code",
   "execution_count": null,
   "id": "42429d6d",
   "metadata": {},
   "outputs": [],
   "source": [
    "bio_data = {\n",
    "    \"Height\": 5.5,\n",
    "    \"Age\": 24,\n",
    "    \"Mobial Number\": 1234567891\n",
    "}\n",
    "new_d = {key.upper(): value**2 for key, value in bio_data.items()}"
   ]
  },
  {
   "cell_type": "code",
   "execution_count": null,
   "id": "158fdf1b",
   "metadata": {},
   "outputs": [],
   "source": [
    "print(new_d)"
   ]
  },
  {
   "cell_type": "code",
   "execution_count": null,
   "id": "9a4268f2",
   "metadata": {},
   "outputs": [],
   "source": []
  },
  {
   "cell_type": "code",
   "execution_count": null,
   "id": "9f141b66",
   "metadata": {},
   "outputs": [],
   "source": [
    "dict1 = {\"one\": 1, \"two\":2, \"three\":3, \"four\":4, \"five\": 5, \"six\": 6, \"seven\": 7, \"eight\": 8, \"nine\": 9}\n",
    "\n",
    "squired_dict = {key.upper(): value**2 for (key, value) in dict1.items()}\n",
    "print(squired_dict)"
   ]
  },
  {
   "cell_type": "code",
   "execution_count": null,
   "id": "709b8079",
   "metadata": {},
   "outputs": [],
   "source": [
    "even_squired_dict = {key.upper(): value**2 for (key, value) in dict1.items() if value%2 == 0}\n",
    "print(even_squired_dict)"
   ]
  },
  {
   "cell_type": "code",
   "execution_count": null,
   "id": "2cf0ab88",
   "metadata": {},
   "outputs": [],
   "source": [
    "odd_squired_dict = { key.upper(): value**2 for (key, value) in dict1.items() if value%2 != 0 }\n",
    "print(odd_squired_dict)"
   ]
  },
  {
   "cell_type": "code",
   "execution_count": null,
   "id": "562ff5bc",
   "metadata": {},
   "outputs": [],
   "source": [
    "list1 = [\"yash\", \"dhakade\", \"python\", \"and\", \"data\", \"science\"]\n",
    "list2 = [11,22,33,44,55,66]\n",
    "\n",
    "new_pair = {key: value for key, value in zip(list1, list2)}  # zip(1_iter is key, 2_iter is value)\n",
    "print(new_pair)"
   ]
  },
  {
   "cell_type": "code",
   "execution_count": null,
   "id": "7fb8eb4e",
   "metadata": {},
   "outputs": [],
   "source": [
    "list1 = [\"yash\", \"dhakade\", \"python\", \"and\", \"data\", \"science\"]\n",
    "list2 = [11,22,33,44,55,66]\n",
    "\n",
    "new_pair = {key: value for key, value in zip(list1, list2)}  # zip(1_iter is key, 2_iter is value)\n",
    "print(new_pair)"
   ]
  },
  {
   "cell_type": "code",
   "execution_count": null,
   "id": "754b59a7",
   "metadata": {},
   "outputs": [],
   "source": [
    "new_pair\n",
    "for key, val in new_pair.items():\n",
    "    new_pair[key] = val**2\n",
    "print(new_pair)"
   ]
  },
  {
   "cell_type": "code",
   "execution_count": null,
   "id": "e3ac711e",
   "metadata": {},
   "outputs": [],
   "source": [
    "new_pair\n",
    "for key, val in new_pair.items():\n",
    "    if new_pair[key] %2 != 0:\n",
    "        new_pair[key] = val**2\n",
    "print(new_pair)"
   ]
  },
  {
   "cell_type": "markdown",
   "id": "c7fc0d2e",
   "metadata": {},
   "source": [
    "# how update function works in dectionary"
   ]
  },
  {
   "cell_type": "code",
   "execution_count": 27,
   "id": "61d481b5",
   "metadata": {},
   "outputs": [
    {
     "data": {
      "text/plain": [
       "{'one': 1, 'two': 2, 'three': 3, 'four': 4, 'five': 5}"
      ]
     },
     "execution_count": 27,
     "metadata": {},
     "output_type": "execute_result"
    }
   ],
   "source": [
    "new_dict = {\n",
    "    \"one\": 1, \n",
    "            \"two\": 2, \n",
    "            \"three\": 3, \n",
    "            \"four\": 4, \n",
    "            \"five\": 5\n",
    "}\n",
    "new_dict"
   ]
  },
  {
   "cell_type": "code",
   "execution_count": 29,
   "id": "528e7334",
   "metadata": {},
   "outputs": [
    {
     "name": "stdout",
     "output_type": "stream",
     "text": [
      "{'six': 6, 'seven': 7, 'eight': 8, 'nine': 9}\n"
     ]
    }
   ],
   "source": [
    "second_dict= {\n",
    "    \"six\": 6, \n",
    "            \"seven\": 7, \n",
    "            \"eight\": 8, \n",
    "            \"nine\": 9\n",
    "}\n",
    "print(second_dict)"
   ]
  },
  {
   "cell_type": "code",
   "execution_count": 31,
   "id": "c9ca89fc",
   "metadata": {},
   "outputs": [
    {
     "name": "stdout",
     "output_type": "stream",
     "text": [
      "{'one': 1, 'two': 2, 'three': 3, 'four': 4, 'five': 5, 'six': 6, 'seven': 7, 'eight': 8, 'nine': 9}\n"
     ]
    }
   ],
   "source": [
    "new_form = new_dict | second_dict # | is or operator\n",
    "print(new_form)"
   ]
  },
  {
   "cell_type": "code",
   "execution_count": 35,
   "id": "1daf33f2",
   "metadata": {},
   "outputs": [
    {
     "name": "stdout",
     "output_type": "stream",
     "text": [
      "{'one': 1, 'two': 2, 'three': 3, 'four': 4, 'five': 5, 'six': 6, 'seven': 7, 'eight': 8, 'nine': 9}\n"
     ]
    }
   ],
   "source": [
    "new_dict.update(second_dict)\n",
    "print(new_dict)"
   ]
  },
  {
   "cell_type": "code",
   "execution_count": 39,
   "id": "4943284a",
   "metadata": {},
   "outputs": [
    {
     "name": "stdout",
     "output_type": "stream",
     "text": [
      "{'one': 1, 'two': 2, 'three': 3, 'four': 4, 'five': 5}\n"
     ]
    }
   ],
   "source": [
    "first_dict = {\n",
    "    \"one\": 1, \n",
    "            \"two\": 2, \n",
    "            \"three\": 3, \n",
    "            \"four\": 4, \n",
    "            \"five\": 5\n",
    "}\n",
    "print(first_dict)"
   ]
  },
  {
   "cell_type": "code",
   "execution_count": 40,
   "id": "8761f9c6",
   "metadata": {},
   "outputs": [
    {
     "name": "stdout",
     "output_type": "stream",
     "text": [
      "{'six': 6, 'seven': 7, 'eight': 8, 'nine': 9}\n"
     ]
    }
   ],
   "source": [
    "second_dict= {\n",
    "    \"six\": 6, \n",
    "            \"seven\": 7, \n",
    "            \"eight\": 8, \n",
    "            \"nine\": 9\n",
    "}\n",
    "print(second_dict)"
   ]
  },
  {
   "cell_type": "code",
   "execution_count": 41,
   "id": "a009fb4d",
   "metadata": {},
   "outputs": [
    {
     "ename": "AttributeError",
     "evalue": "'dict' object has no attribute 'second_dict'",
     "output_type": "error",
     "traceback": [
      "\u001b[1;31m---------------------------------------------------------------------------\u001b[0m",
      "\u001b[1;31mAttributeError\u001b[0m                            Traceback (most recent call last)",
      "Input \u001b[1;32mIn [41]\u001b[0m, in \u001b[0;36m<cell line: 1>\u001b[1;34m()\u001b[0m\n\u001b[1;32m----> 1\u001b[0m \u001b[38;5;28mdict\u001b[39m(\u001b[38;5;28mzip\u001b[39m(\u001b[43mfirst_dict\u001b[49m\u001b[38;5;241;43m.\u001b[39;49m\u001b[43m \u001b[49m\u001b[43msecond_dict\u001b[49m))\n",
      "\u001b[1;31mAttributeError\u001b[0m: 'dict' object has no attribute 'second_dict'"
     ]
    }
   ],
   "source": [
    "dict(zip(first_dict. second_dict))"
   ]
  },
  {
   "cell_type": "markdown",
   "id": "9b8e646d",
   "metadata": {},
   "source": [
    "# merge or update the following dictionaries "
   ]
  },
  {
   "cell_type": "code",
   "execution_count": 74,
   "id": "587a0b31",
   "metadata": {},
   "outputs": [],
   "source": [
    "pair = {}\n",
    "first_list = [1, 2, 3, 4]   # key\n",
    "second_list = [\"Python\", \"Data\", \"Science\", \"ML\"]  # value\n"
   ]
  },
  {
   "cell_type": "code",
   "execution_count": 75,
   "id": "c685c447",
   "metadata": {},
   "outputs": [
    {
     "name": "stdout",
     "output_type": "stream",
     "text": [
      "{1: 'Python', 2: 'Data', 3: 'Science', 4: 'ML'}\n"
     ]
    }
   ],
   "source": [
    "NEW = dict(zip(first_list, second_list))\n",
    "print(NEW)"
   ]
  },
  {
   "cell_type": "code",
   "execution_count": 76,
   "id": "0823f1be",
   "metadata": {},
   "outputs": [
    {
     "data": {
      "text/plain": [
       "['Python', 'Data', 'Science', 'ML']"
      ]
     },
     "execution_count": 76,
     "metadata": {},
     "output_type": "execute_result"
    }
   ],
   "source": [
    "list(item for item in second_list)"
   ]
  },
  {
   "cell_type": "code",
   "execution_count": null,
   "id": "96d1495f",
   "metadata": {},
   "outputs": [],
   "source": []
  }
 ],
 "metadata": {
  "kernelspec": {
   "display_name": "Python 3 (ipykernel)",
   "language": "python",
   "name": "python3"
  },
  "language_info": {
   "codemirror_mode": {
    "name": "ipython",
    "version": 3
   },
   "file_extension": ".py",
   "mimetype": "text/x-python",
   "name": "python",
   "nbconvert_exporter": "python",
   "pygments_lexer": "ipython3",
   "version": "3.9.12"
  }
 },
 "nbformat": 4,
 "nbformat_minor": 5
}
