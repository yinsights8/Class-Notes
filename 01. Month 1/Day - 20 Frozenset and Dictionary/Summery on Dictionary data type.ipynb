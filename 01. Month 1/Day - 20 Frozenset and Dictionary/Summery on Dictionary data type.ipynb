{
 "cells": [
  {
   "cell_type": "code",
   "execution_count": null,
   "id": "cbdef39a",
   "metadata": {},
   "outputs": [],
   "source": []
  },
  {
   "cell_type": "markdown",
   "id": "fd67b054",
   "metadata": {},
   "source": [
    "# Dictionary \n",
    "1. it is a collection of key value pairs\n",
    "2. ordered data type \n",
    "3. it is mutable\n",
    "4. duplicate keys are not allowed, but values can be duplicate\n",
    "5. We can not access items by using an index\n",
    "6. dictionaries are comma separated\n",
    "7. syntax and dictionary constructor :- \n",
    "       - {\"key1\":\"value1\", \"key2\":\"value2\", \"key3\":\"value3\"}\n",
    "       - dict()\n",
    "8. orderd datatype in python version >=  3.7\n",
    "9. unorderd datatype in python version <=  3.7"
   ]
  },
  {
   "cell_type": "raw",
   "id": "537aaedb",
   "metadata": {},
   "source": [
    "key        ===> Immutable datatypes (int, float, string, tuple, frozenset)\n",
    "value      ===> Any datatype (int, float, list, set, dict, string, tuple, frozenset, etc...)"
   ]
  },
  {
   "cell_type": "code",
   "execution_count": null,
   "id": "c9788056",
   "metadata": {},
   "outputs": [],
   "source": []
  },
  {
   "cell_type": "markdown",
   "id": "9413298a",
   "metadata": {},
   "source": [
    "### 1. Access Dictionary items"
   ]
  },
  {
   "cell_type": "raw",
   "id": "cf595553",
   "metadata": {},
   "source": [
    "1. dict_name[Key_Name]\n",
    "\n",
    "    - if the key is not present in a dictionary then this get method will return any error\n",
    "\n",
    "2. dict_name.get(key_name)\n",
    "\n",
    "    - if the key is not present in a dictionary then this get method won't return any error"
   ]
  },
  {
   "cell_type": "markdown",
   "id": "d61c286b",
   "metadata": {},
   "source": [
    "### 2. Access dictionary keys"
   ]
  },
  {
   "cell_type": "raw",
   "id": "7b73197e",
   "metadata": {},
   "source": [
    "1. dict_name.keys()\n",
    "\n",
    "2. for key in dict_name.keys():\n",
    "        print(key)"
   ]
  },
  {
   "cell_type": "markdown",
   "id": "29dd6eba",
   "metadata": {},
   "source": [
    "### 3. Access dictionary values"
   ]
  },
  {
   "cell_type": "raw",
   "id": "17b90817",
   "metadata": {},
   "source": [
    "- dict_name.values()\n",
    "- for value in dict_name.values():\n",
    "    print(values)"
   ]
  },
  {
   "cell_type": "markdown",
   "id": "4cf5066e",
   "metadata": {},
   "source": [
    "### 4. Accessing items from a dictionary"
   ]
  },
  {
   "cell_type": "raw",
   "id": "edf0d366",
   "metadata": {},
   "source": [
    "- dict_name.items()\n",
    "- for i in dict_name.items():\n",
    "    print(i)"
   ]
  },
  {
   "cell_type": "code",
   "execution_count": null,
   "id": "d2796f63",
   "metadata": {},
   "outputs": [],
   "source": []
  },
  {
   "cell_type": "markdown",
   "id": "606fa137",
   "metadata": {},
   "source": [
    "### 5. Add values in dictionary or update dictionary"
   ]
  },
  {
   "cell_type": "raw",
   "id": "fb1d6445",
   "metadata": {},
   "source": [
    "1. dict_name[key_name] = value_name"
   ]
  },
  {
   "cell_type": "markdown",
   "id": "8ab5d372",
   "metadata": {},
   "source": [
    "#### tuple unpacking"
   ]
  },
  {
   "cell_type": "raw",
   "id": "f9184591",
   "metadata": {},
   "source": [
    "- (a, b) -- key = a, value = b\n",
    "\n",
    "- for key, value in (a,b):\n",
    "        print(key, value)\n"
   ]
  },
  {
   "cell_type": "markdown",
   "id": "c76e73d5",
   "metadata": {},
   "source": [
    "#### merge two dictionaries"
   ]
  },
  {
   "cell_type": "raw",
   "id": "bbc08da3",
   "metadata": {},
   "source": [
    "1. dict1.update(dict2)\n",
    "\n",
    "2. new_dict = dict1 | dict2\n",
    "\n",
    "3. zip(iterator1, iterator2, iterator3 ...)"
   ]
  },
  {
   "cell_type": "code",
   "execution_count": null,
   "id": "ea8093f2",
   "metadata": {},
   "outputs": [],
   "source": []
  },
  {
   "cell_type": "markdown",
   "id": "d737f155",
   "metadata": {},
   "source": [
    "### 6. Dictionary Comprehension"
   ]
  },
  {
   "cell_type": "raw",
   "id": "22f61b7d",
   "metadata": {},
   "source": [
    "1. new_dict  =  { new_key:new_value for (key, value) in dict_name.items() }\n",
    "\n",
    "2. new_dict  =  { new_key : new_value for (key, value) in dict_name.items() if condition }\n",
    "\n",
    "3. new_dict  =  { if condition else statement new_key : new_key for (key, value) in dict_name.item() } "
   ]
  },
  {
   "cell_type": "code",
   "execution_count": null,
   "id": "a7be8648",
   "metadata": {},
   "outputs": [],
   "source": []
  },
  {
   "cell_type": "markdown",
   "id": "a0a1110f",
   "metadata": {},
   "source": [
    "### 7.  Combining iterators to form new dictionary"
   ]
  },
  {
   "cell_type": "markdown",
   "id": "71519952",
   "metadata": {},
   "source": [
    "##### 1. Adding dictionary to dictionary"
   ]
  },
  {
   "cell_type": "raw",
   "id": "dc4ea16d",
   "metadata": {},
   "source": [
    "- dict1.update(dict2)"
   ]
  },
  {
   "cell_type": "markdown",
   "id": "69cb6d27",
   "metadata": {},
   "source": [
    "##### 2. Adding iterator to iterator"
   ]
  },
  {
   "cell_type": "raw",
   "id": "8f404f83",
   "metadata": {},
   "source": [
    "# first_iter = iterator1 is going to be a key\n",
    "# second_iter = iterator2 is going to be a value\n",
    "\n",
    "- dict(zip(iterator1, iterator2))\n",
    " "
   ]
  },
  {
   "cell_type": "code",
   "execution_count": null,
   "id": "1db6ef7b",
   "metadata": {},
   "outputs": [],
   "source": []
  },
  {
   "cell_type": "markdown",
   "id": "6d5c4b09",
   "metadata": {},
   "source": [
    "## 8. Delete methods in Dictionary"
   ]
  },
  {
   "cell_type": "raw",
   "id": "d11ab5f3",
   "metadata": {},
   "source": [
    "1. pop(key) :- This method will delete perticular key and there value from the dictionary.\n",
    "\n",
    "2. .popitem() :- This method will  delete last key value pair of the dictionary\n",
    "\n",
    "3. .clear()   :- This method will delete all the items from the dictionary and will return blank dictionary\n",
    "\n",
    "4. del dict_name[key] or del dict_name :- This method will completly delete a dictionary or it can delete a specified key value from the dictionary"
   ]
  },
  {
   "cell_type": "markdown",
   "id": "e74b3069",
   "metadata": {},
   "source": [
    "## 9. sort dictionary"
   ]
  },
  {
   "cell_type": "code",
   "execution_count": null,
   "id": "584c4554",
   "metadata": {},
   "outputs": [],
   "source": []
  }
 ],
 "metadata": {
  "kernelspec": {
   "display_name": "Python 3 (ipykernel)",
   "language": "python",
   "name": "python3"
  },
  "language_info": {
   "codemirror_mode": {
    "name": "ipython",
    "version": 3
   },
   "file_extension": ".py",
   "mimetype": "text/x-python",
   "name": "python",
   "nbconvert_exporter": "python",
   "pygments_lexer": "ipython3",
   "version": "3.9.12"
  }
 },
 "nbformat": 4,
 "nbformat_minor": 5
}
