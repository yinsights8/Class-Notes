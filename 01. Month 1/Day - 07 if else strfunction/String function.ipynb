{
 "cells": [
  {
   "cell_type": "markdown",
   "id": "d76f93f3",
   "metadata": {},
   "source": [
    "# .title()\n"
   ]
  },
  {
   "cell_type": "code",
   "execution_count": 5,
   "id": "d0a99bd9",
   "metadata": {},
   "outputs": [
    {
     "name": "stdout",
     "output_type": "stream",
     "text": [
      "Enter your full name: yash dhakade\n"
     ]
    },
    {
     "data": {
      "text/plain": [
       "'Yash Dhakade'"
      ]
     },
     "execution_count": 5,
     "metadata": {},
     "output_type": "execute_result"
    }
   ],
   "source": [
    "# this function will make a string in title format means it will convert all words first latter capital letter\n",
    "name = input(\"Enter your full name: \").title()\n",
    "name"
   ]
  },
  {
   "cell_type": "code",
   "execution_count": 18,
   "id": "10275281",
   "metadata": {},
   "outputs": [
    {
     "data": {
      "text/plain": [
       "'yash dhakade how are you'"
      ]
     },
     "execution_count": 18,
     "metadata": {},
     "output_type": "execute_result"
    }
   ],
   "source": [
    "\"Yash Dhakade How Are You\".title().lower().upper()"
   ]
  },
  {
   "cell_type": "markdown",
   "id": "69f0d710",
   "metadata": {},
   "source": [
    "# .swapcase()\n",
    " - This function will invert the string \n",
    " - means if the string is in caplital letter then new_string will be in small letter and vise vrsa"
   ]
  },
  {
   "cell_type": "code",
   "execution_count": 27,
   "id": "470cefa3",
   "metadata": {},
   "outputs": [
    {
     "data": {
      "text/plain": [
       "' \"YASH\": hOW aRE yOUR \"PRIYA\" hOW hAVE YOU bEEN dOING ?'"
      ]
     },
     "execution_count": 27,
     "metadata": {},
     "output_type": "execute_result"
    }
   ],
   "source": [
    "string = \" \\\"yash\\\": How Are Your \\\"priya\\\" How Have you Been Doing ?\"\n",
    "string.swapcase()"
   ]
  },
  {
   "cell_type": "code",
   "execution_count": 30,
   "id": "bfccfcb8",
   "metadata": {},
   "outputs": [
    {
     "data": {
      "text/plain": [
       "' \"yash\": how are your \"priya\" how have you been doing ?'"
      ]
     },
     "execution_count": 30,
     "metadata": {},
     "output_type": "execute_result"
    }
   ],
   "source": [
    "string.     lower()"
   ]
  },
  {
   "cell_type": "code",
   "execution_count": 31,
   "id": "121df8a3",
   "metadata": {},
   "outputs": [
    {
     "data": {
      "text/plain": [
       "' \"YASH\": HOW ARE YOUR \"PRIYA\" HOW HAVE YOU BEEN DOING ?'"
      ]
     },
     "execution_count": 31,
     "metadata": {},
     "output_type": "execute_result"
    }
   ],
   "source": [
    "string.upper()"
   ]
  },
  {
   "cell_type": "code",
   "execution_count": 37,
   "id": "eb1b24bb",
   "metadata": {},
   "outputs": [
    {
     "data": {
      "text/plain": [
       "' \"Yash\": How Are Your \"Priya\" How Have You Been Doing ?'"
      ]
     },
     "execution_count": 37,
     "metadata": {},
     "output_type": "execute_result"
    }
   ],
   "source": [
    "string.lower().upper().title()"
   ]
  },
  {
   "cell_type": "code",
   "execution_count": null,
   "id": "37491171",
   "metadata": {},
   "outputs": [],
   "source": []
  },
  {
   "cell_type": "markdown",
   "id": "2e4e2c54",
   "metadata": {},
   "source": [
    "# .lstrip()\n",
    "- Remove all leading spaces\n",
    "- meaning the the space before the string within a quote will be removed"
   ]
  },
  {
   "cell_type": "code",
   "execution_count": 42,
   "id": "a4eb1c1c",
   "metadata": {},
   "outputs": [
    {
     "data": {
      "text/plain": [
       "'        I am learning a python language'"
      ]
     },
     "execution_count": 42,
     "metadata": {},
     "output_type": "execute_result"
    }
   ],
   "source": [
    "# before l-strip\n",
    "\n",
    "new_string = \"        I am learning a python language\"\n",
    "new_string"
   ]
  },
  {
   "cell_type": "code",
   "execution_count": 41,
   "id": "6983b760",
   "metadata": {},
   "outputs": [
    {
     "data": {
      "text/plain": [
       "'I am learning a python language'"
      ]
     },
     "execution_count": 41,
     "metadata": {},
     "output_type": "execute_result"
    }
   ],
   "source": [
    "# after l-strip\n",
    "\n",
    "new_string.lstrip()"
   ]
  },
  {
   "cell_type": "code",
   "execution_count": 50,
   "id": "541212c6",
   "metadata": {},
   "outputs": [],
   "source": [
    "###### can it will remove the  space after the a string  or all spaces?\n",
    "# - No, this function will only ignor the leading space\n",
    "\n",
    "string = \"      I am learning a python language       \""
   ]
  },
  {
   "cell_type": "code",
   "execution_count": 51,
   "id": "351386fa",
   "metadata": {},
   "outputs": [
    {
     "data": {
      "text/plain": [
       "'I am learning a python language       '"
      ]
     },
     "execution_count": 51,
     "metadata": {},
     "output_type": "execute_result"
    }
   ],
   "source": [
    "string.lstrip()"
   ]
  },
  {
   "cell_type": "code",
   "execution_count": null,
   "id": "efe1297f",
   "metadata": {},
   "outputs": [],
   "source": []
  },
  {
   "cell_type": "markdown",
   "id": "540c4075",
   "metadata": {},
   "source": [
    "# .rstrip()\n",
    "- remove all the trailing whitespaces"
   ]
  },
  {
   "cell_type": "code",
   "execution_count": 55,
   "id": "aa0ae39a",
   "metadata": {},
   "outputs": [
    {
     "data": {
      "text/plain": [
       "'      I am learning a python language'"
      ]
     },
     "execution_count": 55,
     "metadata": {},
     "output_type": "execute_result"
    }
   ],
   "source": [
    "###### can it will remove the  space before the a string  or all spaces?\n",
    "# - No, this function will only ignor the trailing space\n",
    "# - means after the string not even a leading space\n",
    "\n",
    "string = \"      I am learning a python language       \"\n",
    "string.rstrip()"
   ]
  },
  {
   "cell_type": "code",
   "execution_count": null,
   "id": "35471f4d",
   "metadata": {},
   "outputs": [],
   "source": []
  },
  {
   "cell_type": "markdown",
   "id": "d97c10d2",
   "metadata": {},
   "source": [
    "# .strip()\n",
    "- this function will ignore all the spaces that may present in leading and trailling \n",
    " - Note. this will not change the spaces that are present between words"
   ]
  },
  {
   "cell_type": "code",
   "execution_count": 60,
   "id": "7021aa42",
   "metadata": {},
   "outputs": [
    {
     "data": {
      "text/plain": [
       "'I am learning a python language'"
      ]
     },
     "execution_count": 60,
     "metadata": {},
     "output_type": "execute_result"
    }
   ],
   "source": [
    "string = \"      I am learning a python language       \"\n",
    "string.strip()"
   ]
  },
  {
   "cell_type": "code",
   "execution_count": null,
   "id": "e233f8e5",
   "metadata": {},
   "outputs": [],
   "source": []
  },
  {
   "cell_type": "markdown",
   "id": "274f3dd0",
   "metadata": {},
   "source": [
    "# .replace() \n",
    "- this function is used for replace old string to new string\n",
    "- syntax = replace(\"old_string\", \"new_string\", count)\n",
    "- however count is optional,  and bydefault the value of count is all"
   ]
  },
  {
   "cell_type": "code",
   "execution_count": 62,
   "id": "fd469e6c",
   "metadata": {},
   "outputs": [
    {
     "name": "stdout",
     "output_type": "stream",
     "text": [
      "yash dhakade how are you ?\n"
     ]
    }
   ],
   "source": [
    "name = \"yash dhakade how are you ?\"\n",
    "print(name)    "
   ]
  },
  {
   "cell_type": "code",
   "execution_count": 63,
   "id": "b0d01131",
   "metadata": {},
   "outputs": [
    {
     "data": {
      "text/plain": [
       "'yAsh dhAkade how are you ?'"
      ]
     },
     "execution_count": 63,
     "metadata": {},
     "output_type": "execute_result"
    }
   ],
   "source": [
    "name.replace('a', 'A',2)"
   ]
  },
  {
   "cell_type": "code",
   "execution_count": 67,
   "id": "6734cc4e",
   "metadata": {},
   "outputs": [
    {
     "name": "stdout",
     "output_type": "stream",
     "text": [
      "yAsh dhAkAde how Are you ?\n",
      "yash dhakade hOw are yOu ?\n"
     ]
    }
   ],
   "source": [
    "print(name.replace('a','A'))\n",
    "print(name.replace('o',\"O\"))"
   ]
  },
  {
   "cell_type": "code",
   "execution_count": 84,
   "id": "a4f027df",
   "metadata": {},
   "outputs": [
    {
     "name": "stdout",
     "output_type": "stream",
     "text": [
      "5\n",
      "4\n",
      "aash  dhakade\n"
     ]
    }
   ],
   "source": [
    "repl = \"yash dhakade\"\n",
    "\n",
    "lenght1 = len(repl) - 7\n",
    "lenght2 = len(repl) - 8\n",
    "print(lenght1)\n",
    "print(lenght2)\n",
    "\n",
    "string12 = repl[:lenght1].replace(\"y\",\"a\") + repl[lenght2:]\n",
    "print(string12)"
   ]
  },
  {
   "cell_type": "code",
   "execution_count": null,
   "id": "8dd728f8",
   "metadata": {},
   "outputs": [],
   "source": []
  }
 ],
 "metadata": {
  "kernelspec": {
   "display_name": "Python 3 (ipykernel)",
   "language": "python",
   "name": "python3"
  },
  "language_info": {
   "codemirror_mode": {
    "name": "ipython",
    "version": 3
   },
   "file_extension": ".py",
   "mimetype": "text/x-python",
   "name": "python",
   "nbconvert_exporter": "python",
   "pygments_lexer": "ipython3",
   "version": "3.9.12"
  }
 },
 "nbformat": 4,
 "nbformat_minor": 5
}
