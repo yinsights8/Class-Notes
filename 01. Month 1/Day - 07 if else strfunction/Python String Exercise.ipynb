{
 "cells": [
  {
   "cell_type": "raw",
   "id": "99775751",
   "metadata": {},
   "source": [
    "Q. Given a string. the task is to check if the string is symmetrical and palindrome or not. A string is said to be symmetrical if both the halves of the string are the same and a string is said to be a palindrome string if one half of the string is the reverse of the other half or if a string appears same when read forward or backward.\n",
    "\n",
    "--->\n",
    "    # Input: khokho\n",
    "    Output: \n",
    "    The entered string is symmetrical\n",
    "    The entered string is not palindrome\n",
    "\n",
    "    Input:amaama\n",
    "    Output:\n",
    "    The entered string is symmetrical\n",
    "    The entered string is palindrome"
   ]
  },
  {
   "cell_type": "code",
   "execution_count": 1,
   "id": "a456caf5",
   "metadata": {},
   "outputs": [
    {
     "name": "stdout",
     "output_type": "stream",
     "text": [
      "The entered string is not palindrome\n"
     ]
    }
   ],
   "source": [
    "# if the string and the reverse string is equal is called  palindrome\n",
    "\n",
    "str1 = \"khokho\"\n",
    "\n",
    "#first = len(str1) - len(str1) +1\n",
    "first = 0\n",
    "\n",
    "last = -len(str1)\n",
    "# print(str1[first:])\n",
    "# print(str1[:last])\n",
    "\n",
    "if str1[first:] == str1[:last]:\n",
    "    print(\"The entered string is palindrome\")\n",
    "else:\n",
    "    print(\"The entered string is not palindrome\")"
   ]
  },
  {
   "cell_type": "code",
   "execution_count": 2,
   "id": "fcea00d3",
   "metadata": {},
   "outputs": [
    {
     "name": "stdout",
     "output_type": "stream",
     "text": [
      "the string is symetrrcal\n"
     ]
    }
   ],
   "source": [
    "# if the half of the string is equal to half of the string is called symmetrical\n",
    "\n",
    "str2 = \"khokho\"\n",
    "halve = len(str2) // 2\n",
    "if str2[:halve] == str2[halve:]:\n",
    "    print(\"the string is symetrrcal\")\n",
    "else:\n",
    "    print(\"the string is not symetrical\")"
   ]
  },
  {
   "cell_type": "code",
   "execution_count": 3,
   "id": "bac3a871",
   "metadata": {},
   "outputs": [
    {
     "name": "stdout",
     "output_type": "stream",
     "text": [
      "kho\n"
     ]
    }
   ],
   "source": [
    "print(str2[:halve])"
   ]
  },
  {
   "cell_type": "code",
   "execution_count": 4,
   "id": "da385bd4",
   "metadata": {},
   "outputs": [
    {
     "name": "stdout",
     "output_type": "stream",
     "text": [
      "kho\n"
     ]
    }
   ],
   "source": [
    "print(str2[halve:])"
   ]
  },
  {
   "cell_type": "code",
   "execution_count": 19,
   "id": "856658bb",
   "metadata": {},
   "outputs": [],
   "source": [
    "string = \"khokho\"\n",
    "\n",
    "first = 0\n",
    "last = -len(string)\n",
    "halve = len(string) // 2"
   ]
  },
  {
   "cell_type": "code",
   "execution_count": 20,
   "id": "bc0e15c6",
   "metadata": {},
   "outputs": [
    {
     "name": "stdout",
     "output_type": "stream",
     "text": [
      "the string is not palindrome\n"
     ]
    }
   ],
   "source": [
    "check_sym_pal(string)"
   ]
  },
  {
   "cell_type": "code",
   "execution_count": 23,
   "id": "c47c2fce",
   "metadata": {},
   "outputs": [],
   "source": [
    "def chaeck(string):\n",
    "    \n",
    "    if string[first:] == string[::last] and string[:halve] == string[halve:]:\n",
    "        \n",
    "        print(\"The entered string is palindrome\")\n",
    "        print(\"the string is symetrrcal\")\n",
    "        \n",
    "    elif string[first:] == string[::last]:\n",
    "        print(\"the string is symetrrcal\")\n",
    "        print(\"the string is not palindrome\")\n",
    "        \n",
    "    elif string[:halve] == string[halve:]:\n",
    "        print(\"the string is not symetrical\")\n",
    "        print(\"The entered string is palindrome\")\n",
    "        \n",
    "    else:\n",
    "        print(\"the string is not symetrical\")\n",
    "        print(\"the string is not palindrome\")"
   ]
  },
  {
   "cell_type": "code",
   "execution_count": 24,
   "id": "b64e960d",
   "metadata": {},
   "outputs": [
    {
     "name": "stdout",
     "output_type": "stream",
     "text": [
      "the string is not symetrical\n",
      "The entered string is palindrome\n"
     ]
    }
   ],
   "source": [
    "chaeck(\"amaama\")"
   ]
  },
  {
   "cell_type": "code",
   "execution_count": null,
   "id": "e394fe07",
   "metadata": {},
   "outputs": [],
   "source": []
  }
 ],
 "metadata": {
  "kernelspec": {
   "display_name": "Python 3 (ipykernel)",
   "language": "python",
   "name": "python3"
  },
  "language_info": {
   "codemirror_mode": {
    "name": "ipython",
    "version": 3
   },
   "file_extension": ".py",
   "mimetype": "text/x-python",
   "name": "python",
   "nbconvert_exporter": "python",
   "pygments_lexer": "ipython3",
   "version": "3.9.12"
  }
 },
 "nbformat": 4,
 "nbformat_minor": 5
}
