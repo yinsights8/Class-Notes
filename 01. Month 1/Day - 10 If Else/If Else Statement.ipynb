{
 "cells": [
  {
   "cell_type": "markdown",
   "id": "cc6e05d4",
   "metadata": {},
   "source": [
    "# If Else Statements\n",
    "- It is a Decision Making Statement"
   ]
  },
  {
   "cell_type": "raw",
   "id": "28d81b3b",
   "metadata": {},
   "source": [
    "if condition1: (True or False)\n",
    "    statement1\n",
    "    statement2\n",
    "        .\n",
    "        .\n",
    "    statementn\n",
    "    \n",
    "elif condition2: (True or False)\n",
    "    statement1\n",
    "    statement2\n",
    "        .\n",
    "        .\n",
    "    statementn\n",
    "    \n",
    "elif condition3: (True or False)\n",
    "    statement1\n",
    "    statement2\n",
    "        .\n",
    "        .\n",
    "    statementn\n",
    "    \n",
    "else:\n",
    "    statement1\n",
    "    statement2\n",
    "        .\n",
    "        .\n",
    "    statementn\n"
   ]
  },
  {
   "cell_type": "code",
   "execution_count": 2,
   "id": "99ef2646",
   "metadata": {},
   "outputs": [
    {
     "name": "stdout",
     "output_type": "stream",
     "text": [
      "Hello\n"
     ]
    }
   ],
   "source": [
    "if True:\n",
    "    print(\"Hello\")\n",
    "    \n",
    "    "
   ]
  },
  {
   "cell_type": "code",
   "execution_count": 9,
   "id": "27d86711",
   "metadata": {},
   "outputs": [
    {
     "name": "stdout",
     "output_type": "stream",
     "text": [
      "Bye\n"
     ]
    }
   ],
   "source": [
    "if False:\n",
    "    print(\"Hello1\")\n",
    "    \n",
    "elif False:\n",
    "    print(\"Hello2\")\n",
    "    \n",
    "elif False:\n",
    "    print(\"Hello3\")\n",
    "    \n",
    "else:\n",
    "    print(\"Bye\")"
   ]
  },
  {
   "cell_type": "markdown",
   "id": "d79919af",
   "metadata": {},
   "source": [
    "# Valid Syntax for if-else statements\n",
    "- if \n",
    "- if -> else\n",
    "- if -> elif\n",
    "- if -> elif -> elif\n",
    "- if -> elif -> else\n",
    "- if -> elif -> elif -> else"
   ]
  },
  {
   "cell_type": "code",
   "execution_count": 10,
   "id": "81e8c2ca",
   "metadata": {},
   "outputs": [
    {
     "name": "stdout",
     "output_type": "stream",
     "text": [
      "This is an upper string\n"
     ]
    }
   ],
   "source": [
    "string = \"PYTHON\"\n",
    "if string.isupper(): # True\n",
    "    print(\"This is an upper string\")"
   ]
  },
  {
   "cell_type": "code",
   "execution_count": 12,
   "id": "91314606",
   "metadata": {},
   "outputs": [],
   "source": [
    "string = \"PYTHOn\"\n",
    "if string.isupper(): # False\n",
    "    print(\"This is an upper string\")"
   ]
  },
  {
   "cell_type": "code",
   "execution_count": 13,
   "id": "7082df1f",
   "metadata": {},
   "outputs": [
    {
     "name": "stdout",
     "output_type": "stream",
     "text": [
      "This is not an upper string\n"
     ]
    }
   ],
   "source": [
    "string = \"PYTHOn\"\n",
    "if string.isupper(): # False\n",
    "    print(\"This is an upper string\")\n",
    "    \n",
    "else:\n",
    "    print(\"This is not an upper string\")"
   ]
  },
  {
   "cell_type": "code",
   "execution_count": 17,
   "id": "b3e44627",
   "metadata": {},
   "outputs": [
    {
     "name": "stdout",
     "output_type": "stream",
     "text": [
      "String is in title case\n"
     ]
    }
   ],
   "source": [
    "string = \"Python And Data Science\"\n",
    "if string.istitle(): # True\n",
    "    print(\"String is in title case\")\n",
    "    \n",
    "else:\n",
    "    print(\"String is not in title case\")"
   ]
  },
  {
   "cell_type": "code",
   "execution_count": 19,
   "id": "af7804e8",
   "metadata": {},
   "outputs": [
    {
     "name": "stdout",
     "output_type": "stream",
     "text": [
      "String is not in title case\n"
     ]
    }
   ],
   "source": [
    "string = \"Python And data Science\"\n",
    "if string.istitle(): # True\n",
    "    print(\"string is in title case\")\n",
    "    \n",
    "else:\n",
    "    print(\"String is not in title case\")"
   ]
  },
  {
   "cell_type": "code",
   "execution_count": 20,
   "id": "a84590c4",
   "metadata": {},
   "outputs": [
    {
     "data": {
      "text/plain": [
       "str"
      ]
     },
     "execution_count": 20,
     "metadata": {},
     "output_type": "execute_result"
    }
   ],
   "source": [
    "string = \"\"\n",
    "type(string)"
   ]
  },
  {
   "cell_type": "code",
   "execution_count": 27,
   "id": "08f1a66c",
   "metadata": {},
   "outputs": [
    {
     "name": "stdout",
     "output_type": "stream",
     "text": [
      "Hi\n"
     ]
    }
   ],
   "source": [
    "if \"1\":\n",
    "    print(\"Hi\")\n",
    "else:\n",
    "    print(\"Bye\")"
   ]
  },
  {
   "cell_type": "code",
   "execution_count": 28,
   "id": "b7810b1c",
   "metadata": {},
   "outputs": [
    {
     "name": "stdout",
     "output_type": "stream",
     "text": [
      "String is an empty string\n"
     ]
    }
   ],
   "source": [
    "if string:\n",
    "    print(\"String is not an empty string\")\n",
    "else:\n",
    "    print(\"String is an empty string\")"
   ]
  },
  {
   "cell_type": "code",
   "execution_count": 29,
   "id": "5a2c79bf",
   "metadata": {},
   "outputs": [
    {
     "name": "stdout",
     "output_type": "stream",
     "text": [
      "String is not an empty string\n"
     ]
    }
   ],
   "source": [
    "string = \"String\"\n",
    "if string:\n",
    "    print(\"String is not an empty string\")\n",
    "else:\n",
    "    print(\"String is an empty string\")"
   ]
  },
  {
   "cell_type": "code",
   "execution_count": 30,
   "id": "b371052c",
   "metadata": {},
   "outputs": [
    {
     "name": "stdout",
     "output_type": "stream",
     "text": [
      "Empty\n"
     ]
    }
   ],
   "source": [
    "list1 = []\n",
    "if list1:\n",
    "    print(\"Not empty\")\n",
    "else:\n",
    "    print(\"Empty\")"
   ]
  },
  {
   "cell_type": "code",
   "execution_count": 31,
   "id": "65c65170",
   "metadata": {},
   "outputs": [
    {
     "name": "stdout",
     "output_type": "stream",
     "text": [
      "Not empty\n"
     ]
    }
   ],
   "source": [
    "list1 = [1,2]\n",
    "if list1:\n",
    "    print(\"Not empty\")\n",
    "else:\n",
    "    print(\"Empty\")"
   ]
  },
  {
   "cell_type": "code",
   "execution_count": 32,
   "id": "7ec277f6",
   "metadata": {},
   "outputs": [
    {
     "name": "stdout",
     "output_type": "stream",
     "text": [
      "Empty\n"
     ]
    }
   ],
   "source": [
    "list1 = ()\n",
    "if list1:\n",
    "    print(\"Not empty\")\n",
    "else:\n",
    "    print(\"Empty\")"
   ]
  },
  {
   "cell_type": "code",
   "execution_count": 33,
   "id": "3b723b5e",
   "metadata": {},
   "outputs": [
    {
     "name": "stdout",
     "output_type": "stream",
     "text": [
      "Not empty\n"
     ]
    }
   ],
   "source": [
    "list1 = (1)\n",
    "if list1:\n",
    "    print(\"Not empty\")\n",
    "else:\n",
    "    print(\"Empty\")"
   ]
  },
  {
   "cell_type": "code",
   "execution_count": null,
   "id": "860dddc7",
   "metadata": {},
   "outputs": [],
   "source": []
  }
 ],
 "metadata": {
  "kernelspec": {
   "display_name": "Python 3 (ipykernel)",
   "language": "python",
   "name": "python3"
  },
  "language_info": {
   "codemirror_mode": {
    "name": "ipython",
    "version": 3
   },
   "file_extension": ".py",
   "mimetype": "text/x-python",
   "name": "python",
   "nbconvert_exporter": "python",
   "pygments_lexer": "ipython3",
   "version": "3.9.12"
  }
 },
 "nbformat": 4,
 "nbformat_minor": 5
}
