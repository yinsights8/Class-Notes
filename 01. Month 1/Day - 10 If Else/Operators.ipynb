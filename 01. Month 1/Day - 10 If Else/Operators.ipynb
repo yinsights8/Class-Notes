{
 "cells": [
  {
   "cell_type": "markdown",
   "id": "ff22526b",
   "metadata": {},
   "source": [
    "# Operators\n",
    "### 1. Comparision Operators\n",
    "- val1 == val2\n",
    "- val1 != val2\n",
    "- val1 >  val2\n",
    "- val1 <  val2\n",
    "- val1 >= val2\n",
    "- val1 <= val2"
   ]
  },
  {
   "cell_type": "code",
   "execution_count": 1,
   "id": "3bc1d611",
   "metadata": {},
   "outputs": [
    {
     "data": {
      "text/plain": [
       "True"
      ]
     },
     "execution_count": 1,
     "metadata": {},
     "output_type": "execute_result"
    }
   ],
   "source": [
    "val1 = 5\n",
    "val2 = 5\n",
    "val1 == val2"
   ]
  },
  {
   "cell_type": "code",
   "execution_count": 2,
   "id": "0f59e2ce",
   "metadata": {},
   "outputs": [
    {
     "data": {
      "text/plain": [
       "False"
      ]
     },
     "execution_count": 2,
     "metadata": {},
     "output_type": "execute_result"
    }
   ],
   "source": [
    "val1 = 5.5\n",
    "val2 = 5\n",
    "val1 == val2"
   ]
  },
  {
   "cell_type": "code",
   "execution_count": 3,
   "id": "70b3f906",
   "metadata": {},
   "outputs": [
    {
     "data": {
      "text/plain": [
       "True"
      ]
     },
     "execution_count": 3,
     "metadata": {},
     "output_type": "execute_result"
    }
   ],
   "source": [
    "val1 = 5.5\n",
    "val2 = 5\n",
    "val1 != val2"
   ]
  },
  {
   "cell_type": "code",
   "execution_count": 4,
   "id": "4aa27b44",
   "metadata": {},
   "outputs": [
    {
     "data": {
      "text/plain": [
       "False"
      ]
     },
     "execution_count": 4,
     "metadata": {},
     "output_type": "execute_result"
    }
   ],
   "source": [
    "val1 = 5\n",
    "val2 = 5\n",
    "val1 != val2"
   ]
  },
  {
   "cell_type": "code",
   "execution_count": 5,
   "id": "10423df7",
   "metadata": {},
   "outputs": [
    {
     "data": {
      "text/plain": [
       "True"
      ]
     },
     "execution_count": 5,
     "metadata": {},
     "output_type": "execute_result"
    }
   ],
   "source": [
    "val1 = \"Python\"\n",
    "val2 = \"Python\"\n",
    "val1 == val2 "
   ]
  },
  {
   "cell_type": "code",
   "execution_count": 6,
   "id": "8c3cac05",
   "metadata": {},
   "outputs": [
    {
     "data": {
      "text/plain": [
       "False"
      ]
     },
     "execution_count": 6,
     "metadata": {},
     "output_type": "execute_result"
    }
   ],
   "source": [
    "val1 = \"Python\"\n",
    "val2 = \"Python\".upper()\n",
    "val1 == val2 "
   ]
  },
  {
   "cell_type": "code",
   "execution_count": 7,
   "id": "37b5d010",
   "metadata": {},
   "outputs": [
    {
     "data": {
      "text/plain": [
       "True"
      ]
     },
     "execution_count": 7,
     "metadata": {},
     "output_type": "execute_result"
    }
   ],
   "source": [
    "val1 = \"Python\"\n",
    "val2 = \"Python\".upper()\n",
    "val1 != val2 "
   ]
  },
  {
   "cell_type": "code",
   "execution_count": 8,
   "id": "21ae1d6a",
   "metadata": {},
   "outputs": [
    {
     "data": {
      "text/plain": [
       "False"
      ]
     },
     "execution_count": 8,
     "metadata": {},
     "output_type": "execute_result"
    }
   ],
   "source": [
    "val1 = \"Python\"\n",
    "val2 = \"Python\"\n",
    "val1 != val2 "
   ]
  },
  {
   "cell_type": "code",
   "execution_count": 9,
   "id": "2d1758c4",
   "metadata": {},
   "outputs": [
    {
     "name": "stdout",
     "output_type": "stream",
     "text": [
      "100 is equal to 100\n"
     ]
    }
   ],
   "source": [
    "val1 = 100\n",
    "val2 = 100\n",
    "if val1 == val2:\n",
    "    print(f\"{val1} is equal to {val2}\")"
   ]
  },
  {
   "cell_type": "code",
   "execution_count": 10,
   "id": "3cb84e54",
   "metadata": {},
   "outputs": [
    {
     "name": "stdout",
     "output_type": "stream",
     "text": [
      "100 is equal to 100\n"
     ]
    }
   ],
   "source": [
    "val1 = 100\n",
    "val2 = 100\n",
    "if val1 == val2:\n",
    "    print(f\"{val1} is equal to {val2}\")\n",
    "elif val1 > val2:\n",
    "    print(f\"{val1} is greater than {val2}\")"
   ]
  },
  {
   "cell_type": "code",
   "execution_count": 12,
   "id": "82a4d4c0",
   "metadata": {},
   "outputs": [
    {
     "name": "stdout",
     "output_type": "stream",
     "text": [
      "1001 is greater than 100\n"
     ]
    }
   ],
   "source": [
    "val1 = 1001\n",
    "val2 = 100\n",
    "if val1 == val2: # False\n",
    "    print(f\"{val1} is equal to {val2}\")\n",
    "    \n",
    "elif val1 > val2:\n",
    "    print(f\"{val1} is greater than {val2}\")\n",
    "\n",
    "elif val1 < val2:\n",
    "    print(f\"{val1} is less than {val2}\")"
   ]
  },
  {
   "cell_type": "code",
   "execution_count": 13,
   "id": "afccb9c0",
   "metadata": {},
   "outputs": [
    {
     "name": "stdout",
     "output_type": "stream",
     "text": [
      "10 is less than 100\n"
     ]
    }
   ],
   "source": [
    "val1 = 10\n",
    "val2 = 100\n",
    "if val1 == val2: # False\n",
    "    print(f\"{val1} is equal to {val2}\")\n",
    "    \n",
    "elif val1 > val2:\n",
    "    print(f\"{val1} is greater than {val2}\")\n",
    "\n",
    "elif val1 < val2:\n",
    "    print(f\"{val1} is less than {val2}\")"
   ]
  },
  {
   "cell_type": "code",
   "execution_count": 14,
   "id": "98da89fe",
   "metadata": {},
   "outputs": [
    {
     "name": "stdout",
     "output_type": "stream",
     "text": [
      "10 is less than 100\n"
     ]
    }
   ],
   "source": [
    "val1 = 10\n",
    "val2 = 100\n",
    "if val1 == val2: # False\n",
    "    print(f\"{val1} is equal to {val2}\")\n",
    "    \n",
    "elif val1 > val2: # false\n",
    "    print(f\"{val1} is greater than {val2}\")\n",
    "\n",
    "else:\n",
    "    print(f\"{val1} is less than {val2}\")"
   ]
  },
  {
   "cell_type": "code",
   "execution_count": 19,
   "id": "dec16882",
   "metadata": {},
   "outputs": [
    {
     "ename": "SyntaxError",
     "evalue": "expected ':' (3950955462.py, line 9)",
     "output_type": "error",
     "traceback": [
      "\u001b[1;36m  Input \u001b[1;32mIn [19]\u001b[1;36m\u001b[0m\n\u001b[1;33m    else val1 < val2:\u001b[0m\n\u001b[1;37m         ^\u001b[0m\n\u001b[1;31mSyntaxError\u001b[0m\u001b[1;31m:\u001b[0m expected ':'\n"
     ]
    }
   ],
   "source": [
    "val1 = 10\n",
    "val2 = 100\n",
    "if val1 == val2: # False\n",
    "    print(f\"{val1} is equal to {val2}\")\n",
    "    \n",
    "elif val1 > val2: # false\n",
    "    print(f\"{val1} is greater than {val2}\")\n",
    "\n",
    "else val1 < val2:\n",
    "    print(f\"{val1} is less than {val2}\")"
   ]
  },
  {
   "cell_type": "code",
   "execution_count": 21,
   "id": "29097d8a",
   "metadata": {},
   "outputs": [
    {
     "name": "stdout",
     "output_type": "stream",
     "text": [
      "101 is greater than 100\n"
     ]
    }
   ],
   "source": [
    "val1 = 101\n",
    "val2 = 100\n",
    "val3 = 1000\n",
    "if val1 == val2: # False\n",
    "    print(f\"{val1} is equal to {val2}\")\n",
    "    \n",
    "elif val1 > val2:  \n",
    "    print(f\"{val1} is greater than {val2}\")\n",
    "\n",
    "elif val3 < val2:\n",
    "    print(f\"{val3} is less than {val2}\")\n",
    "    \n",
    "else:\n",
    "    print(f\"Tata\")"
   ]
  },
  {
   "cell_type": "code",
   "execution_count": 22,
   "id": "9768c73d",
   "metadata": {},
   "outputs": [
    {
     "name": "stdout",
     "output_type": "stream",
     "text": [
      "10 is less than 100\n"
     ]
    }
   ],
   "source": [
    "val1 = 10\n",
    "val2 = 100\n",
    "if val1 >= val2: \n",
    "    print(f\"{val1} is greater than or equal to {val2}\")\n",
    "    \n",
    "# elif val1 > val2:\n",
    "#     print(f\"{val1} is greater than {val2}\")\n",
    "\n",
    "elif val1 < val2:\n",
    "    print(f\"{val1} is less than {val2}\")"
   ]
  },
  {
   "cell_type": "code",
   "execution_count": 23,
   "id": "3ed1c8b5",
   "metadata": {},
   "outputs": [
    {
     "name": "stdout",
     "output_type": "stream",
     "text": [
      "100 is greater than or equal to 100\n"
     ]
    }
   ],
   "source": [
    "val1 = 100\n",
    "val2 = 100\n",
    "if val1 >= val2: \n",
    "    print(f\"{val1} is greater than or equal to {val2}\")\n",
    "\n",
    "elif val1 < val2:\n",
    "    print(f\"{val1} is less than {val2}\")"
   ]
  },
  {
   "cell_type": "code",
   "execution_count": 24,
   "id": "2ee5678b",
   "metadata": {},
   "outputs": [
    {
     "name": "stdout",
     "output_type": "stream",
     "text": [
      "1001 is greater than or equal to 100\n"
     ]
    }
   ],
   "source": [
    "val1 = 1001\n",
    "val2 = 100\n",
    "if val1 >= val2: \n",
    "    print(f\"{val1} is greater than or equal to {val2}\")\n",
    "\n",
    "elif val1 < val2:\n",
    "    print(f\"{val1} is less than {val2}\")"
   ]
  },
  {
   "cell_type": "code",
   "execution_count": 25,
   "id": "1e0daef3",
   "metadata": {},
   "outputs": [
    {
     "name": "stdout",
     "output_type": "stream",
     "text": [
      "10 is less than 100\n"
     ]
    }
   ],
   "source": [
    "val1 = 10\n",
    "val2 = 100\n",
    "if val1 >= val2:  # Either greater or equal to\n",
    "    print(f\"{val1} is greater than or equal to {val2}\")\n",
    "\n",
    "elif val1 < val2:\n",
    "    print(f\"{val1} is less than {val2}\")"
   ]
  },
  {
   "cell_type": "code",
   "execution_count": 30,
   "id": "f86d90de",
   "metadata": {},
   "outputs": [
    {
     "name": "stdout",
     "output_type": "stream",
     "text": [
      "10 is less than or equal to 100\n"
     ]
    }
   ],
   "source": [
    "val1 = 10\n",
    "val2 = 100\n",
    "if val1 <= val2:  # Either less or equal to\n",
    "    print(f\"{val1} is less than or equal to {val2}\")\n",
    "\n",
    "elif val1 > val2:\n",
    "    print(f\"{val1} is greater than {val2}\")"
   ]
  },
  {
   "cell_type": "code",
   "execution_count": 31,
   "id": "2e07bf14",
   "metadata": {},
   "outputs": [
    {
     "name": "stdout",
     "output_type": "stream",
     "text": [
      "100 is less than or equal to 100\n"
     ]
    }
   ],
   "source": [
    "val1 = 100\n",
    "val2 = 100\n",
    "if val1 <= val2:  # Either less or equal to\n",
    "    print(f\"{val1} is less than or equal to {val2}\")\n",
    "\n",
    "elif val1 > val2:\n",
    "    print(f\"{val1} is greater than {val2}\")"
   ]
  },
  {
   "cell_type": "code",
   "execution_count": 32,
   "id": "f4145595",
   "metadata": {},
   "outputs": [
    {
     "name": "stdout",
     "output_type": "stream",
     "text": [
      "1001 is greater than 100\n"
     ]
    }
   ],
   "source": [
    "val1 = 1001\n",
    "val2 = 100\n",
    "if val1 <= val2:  # Either less or equal to\n",
    "    print(f\"{val1} is less than or equal to {val2}\")\n",
    "\n",
    "elif val1 > val2:\n",
    "    print(f\"{val1} is greater than {val2}\")"
   ]
  },
  {
   "cell_type": "markdown",
   "id": "a77380d5",
   "metadata": {},
   "source": [
    "### 2. Logical Operators\n",
    "- 1. and operator\n",
    "- 2. or  operator\n",
    "- 1 = True\n",
    "- 0 = False "
   ]
  },
  {
   "cell_type": "code",
   "execution_count": 39,
   "id": "59180873",
   "metadata": {},
   "outputs": [
    {
     "data": {
      "text/plain": [
       "1"
      ]
     },
     "execution_count": 39,
     "metadata": {},
     "output_type": "execute_result"
    }
   ],
   "source": [
    "0 and 0 # False and false = false\n",
    "0 and 1 # False and true = false\n",
    "1 and 0 # True and false = false\n",
    "1 and 1 # True and true = true"
   ]
  },
  {
   "cell_type": "code",
   "execution_count": 43,
   "id": "04cf361a",
   "metadata": {},
   "outputs": [
    {
     "data": {
      "text/plain": [
       "1"
      ]
     },
     "execution_count": 43,
     "metadata": {},
     "output_type": "execute_result"
    }
   ],
   "source": [
    "1 or 1"
   ]
  },
  {
   "cell_type": "code",
   "execution_count": 44,
   "id": "3c6ca2a7",
   "metadata": {},
   "outputs": [
    {
     "data": {
      "text/plain": [
       "1"
      ]
     },
     "execution_count": 44,
     "metadata": {},
     "output_type": "execute_result"
    }
   ],
   "source": [
    "0 or 0 # False or false = False\n",
    "0 or 1 # False or true = True\n",
    "1 or 0 # True or false = True\n",
    "1 or 1 # True or true = True"
   ]
  },
  {
   "cell_type": "code",
   "execution_count": 47,
   "id": "729ebfcd",
   "metadata": {},
   "outputs": [
    {
     "data": {
      "text/plain": [
       "True"
      ]
     },
     "execution_count": 47,
     "metadata": {},
     "output_type": "execute_result"
    }
   ],
   "source": [
    "val1 = 50\n",
    "val2 = 100\n",
    "val1 < val2 or val1 > val2 # True or False"
   ]
  },
  {
   "cell_type": "code",
   "execution_count": 48,
   "id": "2e610377",
   "metadata": {},
   "outputs": [
    {
     "data": {
      "text/plain": [
       "False"
      ]
     },
     "execution_count": 48,
     "metadata": {},
     "output_type": "execute_result"
    }
   ],
   "source": [
    "val1 = 50\n",
    "val2 = 100\n",
    "val1 < val2 and val1 > val2 # True and False"
   ]
  },
  {
   "cell_type": "code",
   "execution_count": 54,
   "id": "dd3c04f5",
   "metadata": {},
   "outputs": [
    {
     "data": {
      "text/plain": [
       "True"
      ]
     },
     "execution_count": 54,
     "metadata": {},
     "output_type": "execute_result"
    }
   ],
   "source": [
    "val1 = 5\n",
    "val2 = 6\n",
    "val3 = 10\n",
    "val4 = 20\n",
    "val1 < val2 and val1 < val3 and val1 < val4  and val2 > val1 # True and True and True and True = True"
   ]
  },
  {
   "cell_type": "code",
   "execution_count": 56,
   "id": "2c509ce1",
   "metadata": {},
   "outputs": [
    {
     "data": {
      "text/plain": [
       "False"
      ]
     },
     "execution_count": 56,
     "metadata": {},
     "output_type": "execute_result"
    }
   ],
   "source": [
    "val1 = 50\n",
    "val2 = 6\n",
    "val3 = 10\n",
    "val4 = 20\n",
    "val1 < val2 and val1 < val3 and val1 < val4  and val2 > val1 # False and false and false and false"
   ]
  },
  {
   "cell_type": "code",
   "execution_count": 58,
   "id": "bde9d90c",
   "metadata": {},
   "outputs": [
    {
     "data": {
      "text/plain": [
       "False"
      ]
     },
     "execution_count": 58,
     "metadata": {},
     "output_type": "execute_result"
    }
   ],
   "source": [
    "val1 = 50\n",
    "val2 = 6\n",
    "val3 = 10\n",
    "val4 = 20\n",
    "val5 = 20\n",
    "val5 == val4 and val1 < val2 and val1 < val3 and val1 < val4  and val2 > val1 # true and False and false and false and false"
   ]
  },
  {
   "cell_type": "code",
   "execution_count": 61,
   "id": "a538dba2",
   "metadata": {},
   "outputs": [
    {
     "name": "stdout",
     "output_type": "stream",
     "text": [
      "50 is greater than 30 and 10\n"
     ]
    }
   ],
   "source": [
    "val1 = 50\n",
    "val2 = 30\n",
    "val3 = 10\n",
    "if val1 > val2 and val1 > val3: # True and True\n",
    "    print(f\"{val1} is greater than {val2} and {val3}\")"
   ]
  },
  {
   "cell_type": "code",
   "execution_count": 63,
   "id": "06af93bb",
   "metadata": {},
   "outputs": [
    {
     "name": "stdout",
     "output_type": "stream",
     "text": [
      "50 is greater than 30 and 10\n"
     ]
    }
   ],
   "source": [
    "val1 = 50\n",
    "val2 = 30\n",
    "val3 = 10\n",
    "if val1 > val2 and val1 > val3: # True and True\n",
    "    print(f\"{val1} is greater than {val2} and {val3}\")\n",
    "\n",
    "elif val2 > val1 and val2 > val3:\n",
    "    print(f\"{val2} is greater than {val1} and {val3}\")"
   ]
  },
  {
   "cell_type": "code",
   "execution_count": 64,
   "id": "a2373cfc",
   "metadata": {},
   "outputs": [
    {
     "name": "stdout",
     "output_type": "stream",
     "text": [
      "300 is greater than 50 and 10\n"
     ]
    }
   ],
   "source": [
    "val1 = 50\n",
    "val2 = 300\n",
    "val3 = 10\n",
    "if val1 > val2 and val1 > val3: # False and True\n",
    "    print(f\"{val1} is greater than {val2} and {val3}\")\n",
    "\n",
    "elif val2 > val1 and val2 > val3:\n",
    "    print(f\"{val2} is greater than {val1} and {val3}\")"
   ]
  },
  {
   "cell_type": "code",
   "execution_count": 66,
   "id": "29a4b185",
   "metadata": {},
   "outputs": [
    {
     "name": "stdout",
     "output_type": "stream",
     "text": [
      "1000 is greater than 50 and 300\n"
     ]
    }
   ],
   "source": [
    "val1 = 50\n",
    "val2 = 300\n",
    "val3 = 1000\n",
    "if val1 > val2 and val1 > val3: # False and True\n",
    "    print(f\"{val1} is greater than {val2} and {val3}\")\n",
    "\n",
    "elif val2 > val1 and val2 > val3:\n",
    "    print(f\"{val2} is greater than {val1} and {val3}\")\n",
    "    \n",
    "else:\n",
    "    print(f\"{val3} is greater than {val1} and {val2}\")"
   ]
  },
  {
   "cell_type": "code",
   "execution_count": 67,
   "id": "0cce4bdf",
   "metadata": {},
   "outputs": [
    {
     "name": "stdout",
     "output_type": "stream",
     "text": [
      "30 is greater than 10 and 10\n"
     ]
    }
   ],
   "source": [
    "val1 = 10\n",
    "val2 = 30\n",
    "val3 = 10\n",
    "if val1 > val2 and val1 > val3: # False and True\n",
    "    print(f\"{val1} is greater than {val2} and {val3}\")\n",
    "\n",
    "elif val2 > val1 and val2 > val3:\n",
    "    print(f\"{val2} is greater than {val1} and {val3}\")\n",
    "    \n",
    "else:\n",
    "    print(f\"{val3} is greater than {val1} and {val2}\")"
   ]
  },
  {
   "cell_type": "code",
   "execution_count": 68,
   "id": "7577dfd8",
   "metadata": {},
   "outputs": [
    {
     "name": "stdout",
     "output_type": "stream",
     "text": [
      "100 is greater than 30 and 10\n"
     ]
    }
   ],
   "source": [
    "val1 = 100\n",
    "val2 = 30\n",
    "val3 = 10\n",
    "if val1 > val2 and val1 > val3: # False and True\n",
    "    print(f\"{val1} is greater than {val2} and {val3}\")\n",
    "\n",
    "elif val2 > val1 and val2 > val3:\n",
    "    print(f\"{val2} is greater than {val1} and {val3}\")\n",
    "    \n",
    "else:\n",
    "    print(f\"{val3} is greater than {val1} and {val2}\")"
   ]
  },
  {
   "cell_type": "code",
   "execution_count": 69,
   "id": "8296f60d",
   "metadata": {},
   "outputs": [
    {
     "name": "stdout",
     "output_type": "stream",
     "text": [
      "Enter value for a:- 100\n"
     ]
    },
    {
     "data": {
      "text/plain": [
       "'100'"
      ]
     },
     "execution_count": 69,
     "metadata": {},
     "output_type": "execute_result"
    }
   ],
   "source": [
    "a = input(\"Enter value for a:- \")\n",
    "a"
   ]
  },
  {
   "cell_type": "code",
   "execution_count": 70,
   "id": "a3c31716",
   "metadata": {},
   "outputs": [
    {
     "data": {
      "text/plain": [
       "str"
      ]
     },
     "execution_count": 70,
     "metadata": {},
     "output_type": "execute_result"
    }
   ],
   "source": [
    "type(a)"
   ]
  },
  {
   "cell_type": "code",
   "execution_count": 73,
   "id": "a550bd3b",
   "metadata": {},
   "outputs": [
    {
     "name": "stdout",
     "output_type": "stream",
     "text": [
      "Enter value for a:- 50\n"
     ]
    }
   ],
   "source": [
    "a = input(\"Enter value for a:- \")\n",
    "b = int(a)"
   ]
  },
  {
   "cell_type": "code",
   "execution_count": 74,
   "id": "744a1bb6",
   "metadata": {},
   "outputs": [
    {
     "data": {
      "text/plain": [
       "int"
      ]
     },
     "execution_count": 74,
     "metadata": {},
     "output_type": "execute_result"
    }
   ],
   "source": [
    "type(b)"
   ]
  },
  {
   "cell_type": "code",
   "execution_count": 75,
   "id": "84668761",
   "metadata": {},
   "outputs": [
    {
     "name": "stdout",
     "output_type": "stream",
     "text": [
      "Enter value for a:- 5000\n"
     ]
    },
    {
     "data": {
      "text/plain": [
       "5000"
      ]
     },
     "execution_count": 75,
     "metadata": {},
     "output_type": "execute_result"
    }
   ],
   "source": [
    "a = int(input(\"Enter value for a:- \"))\n",
    "a "
   ]
  },
  {
   "cell_type": "code",
   "execution_count": 76,
   "id": "ac352694",
   "metadata": {},
   "outputs": [
    {
     "data": {
      "text/plain": [
       "int"
      ]
     },
     "execution_count": 76,
     "metadata": {},
     "output_type": "execute_result"
    }
   ],
   "source": [
    "type(a)"
   ]
  },
  {
   "cell_type": "code",
   "execution_count": 77,
   "id": "50410fdd",
   "metadata": {},
   "outputs": [
    {
     "name": "stdout",
     "output_type": "stream",
     "text": [
      "Enter the value of val1 :- 1\n",
      "Enter the value of val2 :- 2\n",
      "Enter the value of val3 :- 3\n",
      "3 is greater than 1 and 2\n"
     ]
    }
   ],
   "source": [
    "val1 = input(\"Enter the value of val1 :- \")\n",
    "val2 = input(\"Enter the value of val2 :- \")\n",
    "val3 = input(\"Enter the value of val3 :- \")\n",
    "\n",
    "val1 = int(val1)\n",
    "val2 = int(val2)\n",
    "val3 = int(val3)\n",
    "\n",
    "if val1 > val2 and val1 > val3:\n",
    "    print(f\"{val1} is greater than {val2} and {val3}\")\n",
    "\n",
    "elif val2 > val1 and val2 > val3:\n",
    "    print(f\"{val2} is greater than {val1} and {val3}\")\n",
    "    \n",
    "else:\n",
    "    print(f\"{val3} is greater than {val1} and {val2}\")"
   ]
  },
  {
   "cell_type": "code",
   "execution_count": 78,
   "id": "95b04fb8",
   "metadata": {},
   "outputs": [
    {
     "name": "stdout",
     "output_type": "stream",
     "text": [
      "Enter the value of val1 :- 100\n",
      "Enter the value of val2 :- 50\n",
      "Enter the value of val3 :- 0\n",
      "100 is greater than 50 and 0\n"
     ]
    }
   ],
   "source": [
    "val1 = input(\"Enter the value of val1 :- \")\n",
    "val2 = input(\"Enter the value of val2 :- \")\n",
    "val3 = input(\"Enter the value of val3 :- \")\n",
    "\n",
    "val1 = int(val1)\n",
    "val2 = int(val2)\n",
    "val3 = int(val3)\n",
    "\n",
    "if val1 > val2 and val1 > val3:\n",
    "    print(f\"{val1} is greater than {val2} and {val3}\")\n",
    "\n",
    "elif val2 > val1 and val2 > val3:\n",
    "    print(f\"{val2} is greater than {val1} and {val3}\")\n",
    "    \n",
    "else:\n",
    "    print(f\"{val3} is greater than {val1} and {val2}\")"
   ]
  },
  {
   "cell_type": "code",
   "execution_count": 83,
   "id": "56decc57",
   "metadata": {},
   "outputs": [
    {
     "name": "stdout",
     "output_type": "stream",
     "text": [
      "Enter the value of val1 :- 66\n",
      "Enter the value of val2 :- 33\n",
      "Enter the value of val3 :- 122\n",
      "--------------------------------------------------\n",
      "Value 1 = 66\n",
      "Value 2 = 33\n",
      "Value 3 = 122\n",
      "--------------------------------------------------\n",
      "122 is greater than 66 and 33\n"
     ]
    }
   ],
   "source": [
    "val1 = input(\"Enter the value of val1 :- \")\n",
    "val2 = input(\"Enter the value of val2 :- \")\n",
    "val3 = input(\"Enter the value of val3 :- \")\n",
    "\n",
    "val1 = int(val1)\n",
    "val2 = int(val2)\n",
    "val3 = int(val3)\n",
    "\n",
    "print(\"-\"*50)\n",
    "print(f\"Value 1 = {val1}\")\n",
    "print(f\"Value 2 = {val2}\")\n",
    "print(f\"Value 3 = {val3}\")\n",
    "print(\"-\"*50)\n",
    "\n",
    "if val1 > val2 and val1 > val3:\n",
    "    print(f\"{val1} is greater than {val2} and {val3}\")\n",
    "\n",
    "elif val2 > val1 and val2 > val3:\n",
    "    print(f\"{val2} is greater than {val1} and {val3}\")\n",
    "    \n",
    "else:\n",
    "    print(f\"{val3} is greater than {val1} and {val2}\")"
   ]
  },
  {
   "cell_type": "code",
   "execution_count": 84,
   "id": "a4306886",
   "metadata": {},
   "outputs": [
    {
     "name": "stdout",
     "output_type": "stream",
     "text": [
      "--------------------------------------------------\n",
      "Value 1 = 20\n",
      "Value 2 = 50\n",
      "Value 3 = 10\n",
      "--------------------------------------------------\n",
      "20 is greater than 50 and 10\n"
     ]
    }
   ],
   "source": [
    "val1 = 20\n",
    "val2 = 50\n",
    "val3 = 10\n",
    "\n",
    "print(\"-\"*50)\n",
    "print(f\"Value 1 = {val1}\")\n",
    "print(f\"Value 2 = {val2}\")\n",
    "print(f\"Value 3 = {val3}\")\n",
    "print(\"-\"*50)\n",
    "\n",
    "if (val1 > val2 and val1 > val3) or val1 == 20: # (false and true) or true = true\n",
    "    print(f\"{val1} is greater than {val2} and {val3}\")\n",
    "\n",
    "elif val2 > val1 and val2 > val3:\n",
    "    print(f\"{val2} is greater than {val1} and {val3}\")\n",
    "    \n",
    "else:\n",
    "    print(f\"{val3} is greater than {val1} and {val2}\")"
   ]
  },
  {
   "cell_type": "code",
   "execution_count": 85,
   "id": "1cffd29c",
   "metadata": {},
   "outputs": [
    {
     "data": {
      "text/plain": [
       "1"
      ]
     },
     "execution_count": 85,
     "metadata": {},
     "output_type": "execute_result"
    }
   ],
   "source": [
    "(1 and 1) or 1"
   ]
  },
  {
   "cell_type": "code",
   "execution_count": 86,
   "id": "b383121a",
   "metadata": {},
   "outputs": [
    {
     "data": {
      "text/plain": [
       "1"
      ]
     },
     "execution_count": 86,
     "metadata": {},
     "output_type": "execute_result"
    }
   ],
   "source": [
    "(1 and 0) or 1"
   ]
  },
  {
   "cell_type": "code",
   "execution_count": 87,
   "id": "c981273c",
   "metadata": {},
   "outputs": [
    {
     "data": {
      "text/plain": [
       "1"
      ]
     },
     "execution_count": 87,
     "metadata": {},
     "output_type": "execute_result"
    }
   ],
   "source": [
    "1 and 0 or 1"
   ]
  },
  {
   "cell_type": "code",
   "execution_count": 91,
   "id": "d0df2051",
   "metadata": {},
   "outputs": [
    {
     "name": "stdout",
     "output_type": "stream",
     "text": [
      "--------------------------------------------------\n",
      "Value 1 = 20\n",
      "Value 2 = 50\n",
      "Value 3 = 10\n",
      "--------------------------------------------------\n",
      "50 is greater than 20 and 10 2\n"
     ]
    }
   ],
   "source": [
    "val1 = 20\n",
    "val2 = 50\n",
    "val3 = 10\n",
    "\n",
    "print(\"-\"*50)\n",
    "print(f\"Value 1 = {val1}\")\n",
    "print(f\"Value 2 = {val2}\")\n",
    "print(f\"Value 3 = {val3}\")\n",
    "print(\"-\"*50)\n",
    "\n",
    "if val1 > val2 and (val1 > val3 or val1 == 20): # false and (true or true) = false\n",
    "    print(f\"{val1} is greater than {val2} and {val3} 1\")\n",
    "\n",
    "elif val2 > val1 and val2 > val3:\n",
    "    print(f\"{val2} is greater than {val1} and {val3} 2\")\n",
    "    \n",
    "else:\n",
    "    print(f\"{val3} is greater than {val1} and {val2} 3 \")"
   ]
  },
  {
   "cell_type": "markdown",
   "id": "3b0283c6",
   "metadata": {},
   "source": [
    "### Arithmetic operators"
   ]
  },
  {
   "cell_type": "raw",
   "id": "902d3e9c",
   "metadata": {},
   "source": [
    "- + -> Addition operator\n",
    "- - -> Substraction operator\n",
    "- * -> Multiplication operator\n",
    "- / -> Division operator\n",
    "- // -> Floor division operator\n",
    "- % -> Modulus operator\n",
    "- ** Exponent operator\n",
    "\n",
    "Preference of arithmetic operator\n",
    "() --> Parenthesis\n",
    "** --> Exponent\n",
    "*,/,//,+,-"
   ]
  },
  {
   "cell_type": "code",
   "execution_count": 92,
   "id": "81ca34c8",
   "metadata": {},
   "outputs": [
    {
     "data": {
      "text/plain": [
       "2.5"
      ]
     },
     "execution_count": 92,
     "metadata": {},
     "output_type": "execute_result"
    }
   ],
   "source": [
    "5 / 2"
   ]
  },
  {
   "cell_type": "code",
   "execution_count": 93,
   "id": "4a1d5dd0",
   "metadata": {},
   "outputs": [
    {
     "data": {
      "text/plain": [
       "2"
      ]
     },
     "execution_count": 93,
     "metadata": {},
     "output_type": "execute_result"
    }
   ],
   "source": [
    "int(5 / 2)"
   ]
  },
  {
   "cell_type": "code",
   "execution_count": 95,
   "id": "af667322",
   "metadata": {},
   "outputs": [
    {
     "data": {
      "text/plain": [
       "2"
      ]
     },
     "execution_count": 95,
     "metadata": {},
     "output_type": "execute_result"
    }
   ],
   "source": [
    "5 // 2 # Floor Division"
   ]
  },
  {
   "cell_type": "code",
   "execution_count": 96,
   "id": "b29d918e",
   "metadata": {},
   "outputs": [
    {
     "data": {
      "text/plain": [
       "2"
      ]
     },
     "execution_count": 96,
     "metadata": {},
     "output_type": "execute_result"
    }
   ],
   "source": [
    "27 % 5"
   ]
  },
  {
   "cell_type": "code",
   "execution_count": 97,
   "id": "29d9f3bb",
   "metadata": {},
   "outputs": [
    {
     "data": {
      "text/plain": [
       "0"
      ]
     },
     "execution_count": 97,
     "metadata": {},
     "output_type": "execute_result"
    }
   ],
   "source": [
    "25 % 5"
   ]
  },
  {
   "cell_type": "code",
   "execution_count": 98,
   "id": "3d3c459e",
   "metadata": {},
   "outputs": [
    {
     "data": {
      "text/plain": [
       "4"
      ]
     },
     "execution_count": 98,
     "metadata": {},
     "output_type": "execute_result"
    }
   ],
   "source": [
    "54 % 5"
   ]
  },
  {
   "cell_type": "code",
   "execution_count": 101,
   "id": "d6b56a10",
   "metadata": {},
   "outputs": [
    {
     "data": {
      "text/plain": [
       "0"
      ]
     },
     "execution_count": 101,
     "metadata": {},
     "output_type": "execute_result"
    }
   ],
   "source": [
    "10 % 2  # Even "
   ]
  },
  {
   "cell_type": "code",
   "execution_count": 102,
   "id": "705accd9",
   "metadata": {},
   "outputs": [
    {
     "data": {
      "text/plain": [
       "1"
      ]
     },
     "execution_count": 102,
     "metadata": {},
     "output_type": "execute_result"
    }
   ],
   "source": [
    "11 % 2  # Odd"
   ]
  },
  {
   "cell_type": "code",
   "execution_count": 103,
   "id": "a1437786",
   "metadata": {},
   "outputs": [
    {
     "data": {
      "text/plain": [
       "False"
      ]
     },
     "execution_count": 103,
     "metadata": {},
     "output_type": "execute_result"
    }
   ],
   "source": [
    "11 % 2 == 0 "
   ]
  },
  {
   "cell_type": "code",
   "execution_count": 104,
   "id": "8bff4d17",
   "metadata": {},
   "outputs": [
    {
     "data": {
      "text/plain": [
       "True"
      ]
     },
     "execution_count": 104,
     "metadata": {},
     "output_type": "execute_result"
    }
   ],
   "source": [
    "10 % 2 == 0"
   ]
  },
  {
   "cell_type": "code",
   "execution_count": 107,
   "id": "9aadf6ee",
   "metadata": {},
   "outputs": [
    {
     "name": "stdout",
     "output_type": "stream",
     "text": [
      "Enter the number --->  57\n",
      "\n",
      "The number (57) is odd\n"
     ]
    }
   ],
   "source": [
    "num = int(input(\"Enter the number --->  \"))\n",
    "print()\n",
    "if num % 2 == 0:\n",
    "    print(f\"The number ({num}) is even\")\n",
    "else:\n",
    "    print(f\"The number ({num}) is odd\")"
   ]
  },
  {
   "cell_type": "code",
   "execution_count": 110,
   "id": "13bfad25",
   "metadata": {},
   "outputs": [
    {
     "name": "stdout",
     "output_type": "stream",
     "text": [
      "The number (10) is even\n"
     ]
    }
   ],
   "source": [
    "num = 10 \n",
    "# if statement >> if condition >> else >> else statement\n",
    "print(f\"The number ({num}) is even\") if num % 2 == 0 else print(f\"The number ({num}) is odd\")"
   ]
  },
  {
   "cell_type": "code",
   "execution_count": 109,
   "id": "4e6ce67b",
   "metadata": {},
   "outputs": [
    {
     "name": "stdout",
     "output_type": "stream",
     "text": [
      "The number (11) is odd\n"
     ]
    }
   ],
   "source": [
    "num = 11\n",
    "print(f\"The number ({num}) is even\") if num % 2 == 0 else print(f\"The number ({num}) is odd\")"
   ]
  },
  {
   "cell_type": "code",
   "execution_count": 111,
   "id": "15c02075",
   "metadata": {},
   "outputs": [
    {
     "data": {
      "text/plain": [
       "125"
      ]
     },
     "execution_count": 111,
     "metadata": {},
     "output_type": "execute_result"
    }
   ],
   "source": [
    "5 * 5 * 5"
   ]
  },
  {
   "cell_type": "code",
   "execution_count": 112,
   "id": "259eae2b",
   "metadata": {},
   "outputs": [
    {
     "data": {
      "text/plain": [
       "125"
      ]
     },
     "execution_count": 112,
     "metadata": {},
     "output_type": "execute_result"
    }
   ],
   "source": [
    "5 ** 3"
   ]
  },
  {
   "cell_type": "code",
   "execution_count": 113,
   "id": "e5e9c65a",
   "metadata": {},
   "outputs": [
    {
     "data": {
      "text/plain": [
       "1000000"
      ]
     },
     "execution_count": 113,
     "metadata": {},
     "output_type": "execute_result"
    }
   ],
   "source": [
    "10 * 10 * 10 * 10 * 10 * 10"
   ]
  },
  {
   "cell_type": "code",
   "execution_count": 114,
   "id": "4ce27ca0",
   "metadata": {},
   "outputs": [
    {
     "data": {
      "text/plain": [
       "1000000"
      ]
     },
     "execution_count": 114,
     "metadata": {},
     "output_type": "execute_result"
    }
   ],
   "source": [
    "10 ** 6"
   ]
  },
  {
   "cell_type": "raw",
   "id": "8635934e",
   "metadata": {},
   "source": [
    "x = 4\n",
    "y = 5x^3 + 3x^2 - 8x +7"
   ]
  },
  {
   "cell_type": "code",
   "execution_count": 122,
   "id": "8e7640c8",
   "metadata": {},
   "outputs": [
    {
     "name": "stdout",
     "output_type": "stream",
     "text": [
      "y = 343 for x = 4\n"
     ]
    }
   ],
   "source": [
    "x = 4\n",
    "\n",
    "y = 5 * (x ** 3) + 3 * (x ** 2) - 8 * x + 7\n",
    "print(f\"y = {y} for x = {x}\")"
   ]
  },
  {
   "cell_type": "code",
   "execution_count": 123,
   "id": "3bd333db",
   "metadata": {},
   "outputs": [
    {
     "name": "stdout",
     "output_type": "stream",
     "text": [
      "y = 1813 for x = 7\n"
     ]
    }
   ],
   "source": [
    "x = 7\n",
    "\n",
    "y = 5 * (x ** 3) + 3 * (x ** 2) - 8 * x + 7\n",
    "print(f\"y = {y} for x = {x}\")"
   ]
  },
  {
   "cell_type": "code",
   "execution_count": 124,
   "id": "e856b715",
   "metadata": {},
   "outputs": [
    {
     "name": "stdout",
     "output_type": "stream",
     "text": [
      "y = 667 for x = 5\n"
     ]
    }
   ],
   "source": [
    "x = 5\n",
    "\n",
    "y = 5 * (x ** 3) + 3 * (x ** 2) - 8 * x + 7\n",
    "print(f\"y = {y} for x = {x}\")"
   ]
  },
  {
   "cell_type": "code",
   "execution_count": 127,
   "id": "504d1f46",
   "metadata": {},
   "outputs": [
    {
     "name": "stdout",
     "output_type": "stream",
     "text": [
      "y       = 7       for x = 0\n",
      "y       = 7       for x = 1\n",
      "y       = 43       for x = 2\n",
      "y       = 145       for x = 3\n",
      "y       = 343       for x = 4\n",
      "y       = 667       for x = 5\n",
      "y       = 1147       for x = 6\n",
      "y       = 1813       for x = 7\n",
      "y       = 2695       for x = 8\n",
      "y       = 3823       for x = 9\n"
     ]
    }
   ],
   "source": [
    "for x in range(10):\n",
    "    y = 5 * (x ** 3) + 3 * (x ** 2) - 8 * x + 7\n",
    "    print(f\"y       = {y}       for x = {x}\")"
   ]
  },
  {
   "cell_type": "code",
   "execution_count": 128,
   "id": "20a75e4f",
   "metadata": {},
   "outputs": [
    {
     "data": {
      "text/plain": [
       "60"
      ]
     },
     "execution_count": 128,
     "metadata": {},
     "output_type": "execute_result"
    }
   ],
   "source": [
    "10 * 6"
   ]
  },
  {
   "cell_type": "code",
   "execution_count": 129,
   "id": "d3a9f742",
   "metadata": {},
   "outputs": [
    {
     "data": {
      "text/plain": [
       "15.0"
      ]
     },
     "execution_count": 129,
     "metadata": {},
     "output_type": "execute_result"
    }
   ],
   "source": [
    "10 * 6 / 4"
   ]
  },
  {
   "cell_type": "code",
   "execution_count": 130,
   "id": "9486af40",
   "metadata": {},
   "outputs": [
    {
     "data": {
      "text/plain": [
       "60"
      ]
     },
     "execution_count": 130,
     "metadata": {},
     "output_type": "execute_result"
    }
   ],
   "source": [
    "(10 * 6) "
   ]
  },
  {
   "cell_type": "code",
   "execution_count": 132,
   "id": "545da4e8",
   "metadata": {},
   "outputs": [
    {
     "data": {
      "text/plain": [
       "240"
      ]
     },
     "execution_count": 132,
     "metadata": {},
     "output_type": "execute_result"
    }
   ],
   "source": [
    "(10 * 6) * 4"
   ]
  },
  {
   "cell_type": "code",
   "execution_count": 133,
   "id": "e4f5d0dd",
   "metadata": {},
   "outputs": [
    {
     "data": {
      "text/plain": [
       "240"
      ]
     },
     "execution_count": 133,
     "metadata": {},
     "output_type": "execute_result"
    }
   ],
   "source": [
    "10 * (6 * 4)"
   ]
  },
  {
   "cell_type": "code",
   "execution_count": 134,
   "id": "f5d4ab3d",
   "metadata": {},
   "outputs": [
    {
     "data": {
      "text/plain": [
       "6.666666666666667"
      ]
     },
     "execution_count": 134,
     "metadata": {},
     "output_type": "execute_result"
    }
   ],
   "source": [
    "10 / 6 * 4"
   ]
  },
  {
   "cell_type": "code",
   "execution_count": 135,
   "id": "494dbed2",
   "metadata": {},
   "outputs": [
    {
     "data": {
      "text/plain": [
       "15.0"
      ]
     },
     "execution_count": 135,
     "metadata": {},
     "output_type": "execute_result"
    }
   ],
   "source": [
    "10 * 6 / 4"
   ]
  },
  {
   "cell_type": "code",
   "execution_count": 136,
   "id": "0d61e984",
   "metadata": {},
   "outputs": [
    {
     "data": {
      "text/plain": [
       "0.4166666666666667"
      ]
     },
     "execution_count": 136,
     "metadata": {},
     "output_type": "execute_result"
    }
   ],
   "source": [
    "10 / (6 * 4)"
   ]
  },
  {
   "cell_type": "markdown",
   "id": "a3355e58",
   "metadata": {},
   "source": [
    "### Assignment Operator"
   ]
  },
  {
   "cell_type": "raw",
   "id": "9ea95d49",
   "metadata": {},
   "source": [
    "=      a = b\n",
    "a = 5\n",
    "+=     a += 1 >>     a = a + 1 >> a = 6\n",
    "-=     a -= 1 >>     a = a - 1 >> a = 4\n",
    "*=     a *= 2 >>     a = a * 2 >> a = 10\n",
    "/=     a /= 2 >>     a = a / 2 >> a = 2.5\n",
    "//=    a //= 2 >>     a = a // 2>> a = 2\n",
    "%=     a %= 2  >>     a = a % 2 >> a = 1\n",
    "**=    a **= 2 >>     a = a ** 2>> a = 25"
   ]
  },
  {
   "cell_type": "code",
   "execution_count": 137,
   "id": "4bb8fd5f",
   "metadata": {},
   "outputs": [
    {
     "name": "stdout",
     "output_type": "stream",
     "text": [
      "a = 50\n",
      "a = 55\n"
     ]
    }
   ],
   "source": [
    "a = 50\n",
    "print(f\"a = {a}\")\n",
    "a = a + 5\n",
    "print(f\"a = {a}\")"
   ]
  },
  {
   "cell_type": "code",
   "execution_count": 138,
   "id": "0d435bb9",
   "metadata": {},
   "outputs": [
    {
     "name": "stdout",
     "output_type": "stream",
     "text": [
      "a = 50\n",
      "a = 55\n"
     ]
    }
   ],
   "source": [
    "a = 50\n",
    "print(f\"a = {a}\")\n",
    "a += 5\n",
    "print(f\"a = {a}\")"
   ]
  },
  {
   "cell_type": "code",
   "execution_count": 143,
   "id": "13ba3f04",
   "metadata": {},
   "outputs": [
    {
     "name": "stdout",
     "output_type": "stream",
     "text": [
      "a = 0\n",
      "a = 1\n"
     ]
    }
   ],
   "source": [
    "a = 0\n",
    "print(f\"a = {a}\")\n",
    "a += 1\n",
    "print(f\"a = {a}\")\n"
   ]
  },
  {
   "cell_type": "code",
   "execution_count": 145,
   "id": "7d3e734a",
   "metadata": {},
   "outputs": [
    {
     "name": "stdout",
     "output_type": "stream",
     "text": [
      "M 0\n",
      "a 1\n",
      "c 2\n",
      "h 3\n",
      "i 4\n",
      "n 5\n",
      "e 6\n",
      "  7\n",
      "L 8\n",
      "e 9\n",
      "a 10\n",
      "r 11\n",
      "n 12\n",
      "i 13\n",
      "n 14\n",
      "g 15\n"
     ]
    }
   ],
   "source": [
    "count = 0\n",
    "string = \"Machine Learning\"\n",
    "for i in string:\n",
    "    print(f\"{i} {count}\")\n",
    "    count+=1"
   ]
  },
  {
   "cell_type": "code",
   "execution_count": 150,
   "id": "617de534",
   "metadata": {},
   "outputs": [
    {
     "name": "stdout",
     "output_type": "stream",
     "text": [
      "15\n",
      "14\n",
      "13\n",
      "12\n",
      "11\n",
      "10\n",
      "9\n",
      "8\n",
      "7\n",
      "6\n",
      "5\n",
      "4\n",
      "3\n",
      "2\n",
      "1\n"
     ]
    }
   ],
   "source": [
    "count = 15\n",
    "for i in \"Python and data science\":\n",
    "    if count > 0:\n",
    "        print(count)\n",
    "        count -= 1\n",
    "    else:\n",
    "        break"
   ]
  },
  {
   "cell_type": "code",
   "execution_count": 151,
   "id": "e775cc8d",
   "metadata": {},
   "outputs": [
    {
     "name": "stdout",
     "output_type": "stream",
     "text": [
      "15\n",
      "13\n",
      "11\n",
      "9\n",
      "7\n",
      "5\n",
      "3\n",
      "1\n"
     ]
    }
   ],
   "source": [
    "count = 15\n",
    "for i in \"Python and data science\":\n",
    "    if count > 0:\n",
    "        print(count)\n",
    "        count -= 2\n",
    "    else:\n",
    "        break"
   ]
  },
  {
   "cell_type": "code",
   "execution_count": 152,
   "id": "c3868d93",
   "metadata": {},
   "outputs": [
    {
     "name": "stdout",
     "output_type": "stream",
     "text": [
      "15\n",
      "12\n",
      "9\n",
      "6\n",
      "3\n"
     ]
    }
   ],
   "source": [
    "count = 15\n",
    "for i in \"Python and data science\":\n",
    "    if count > 0:\n",
    "        print(count)\n",
    "        count -= 3\n",
    "    else:\n",
    "        break"
   ]
  },
  {
   "cell_type": "code",
   "execution_count": 168,
   "id": "d39083e6",
   "metadata": {},
   "outputs": [
    {
     "name": "stdout",
     "output_type": "stream",
     "text": [
      "106\n"
     ]
    }
   ],
   "source": [
    "xyz = 100\n",
    "\n",
    "def fun1():\n",
    "    x3=2\n",
    "    y3=4\n",
    "    global res\n",
    "    res = x3 + y3\n",
    "    print(res + xyz)\n",
    "fun()"
   ]
  },
  {
   "cell_type": "code",
   "execution_count": 167,
   "id": "1162d877",
   "metadata": {},
   "outputs": [
    {
     "data": {
      "text/plain": [
       "6"
      ]
     },
     "execution_count": 167,
     "metadata": {},
     "output_type": "execute_result"
    }
   ],
   "source": [
    "res"
   ]
  },
  {
   "cell_type": "code",
   "execution_count": 169,
   "id": "285d7c54",
   "metadata": {},
   "outputs": [
    {
     "name": "stdout",
     "output_type": "stream",
     "text": [
      "6\n"
     ]
    }
   ],
   "source": [
    "def fun23():\n",
    "    print(res)\n",
    "fun23()"
   ]
  },
  {
   "cell_type": "code",
   "execution_count": null,
   "id": "e8db5aaa",
   "metadata": {},
   "outputs": [],
   "source": []
  },
  {
   "cell_type": "code",
   "execution_count": null,
   "id": "c2c9a3a3",
   "metadata": {},
   "outputs": [],
   "source": []
  }
 ],
 "metadata": {
  "kernelspec": {
   "display_name": "Python 3 (ipykernel)",
   "language": "python",
   "name": "python3"
  },
  "language_info": {
   "codemirror_mode": {
    "name": "ipython",
    "version": 3
   },
   "file_extension": ".py",
   "mimetype": "text/x-python",
   "name": "python",
   "nbconvert_exporter": "python",
   "pygments_lexer": "ipython3",
   "version": "3.9.12"
  }
 },
 "nbformat": 4,
 "nbformat_minor": 5
}
