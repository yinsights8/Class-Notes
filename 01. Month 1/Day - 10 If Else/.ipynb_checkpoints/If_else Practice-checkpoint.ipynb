{
 "cells": [
  {
   "cell_type": "markdown",
   "id": "b9b42eee",
   "metadata": {},
   "source": [
    "# if - else statements\n",
    "- it is a dicision making statement"
   ]
  },
  {
   "cell_type": "raw",
   "id": "0aebdfad",
   "metadata": {},
   "source": [
    "if condition:       (True or False)\n",
    "    statement1\n",
    "    statement2\n",
    "    statement3\n",
    "    .\n",
    "    .\n",
    "    .\n",
    "    statement n\n",
    "   \n",
    "elif condition:     (True or False)\n",
    "    statement1\n",
    "    statement2\n",
    "    statement3\n",
    "    .\n",
    "    .\n",
    "    .\n",
    "    statement n\n",
    "    \n",
    "elif condition:     (True or False)\n",
    "    statement1\n",
    "    statement2\n",
    "    statement3\n",
    "    .\n",
    "    .\n",
    "    .\n",
    "    statement n\n",
    "    \n",
    "else:\n",
    "    statement1\n",
    "    .\n",
    "    .\n",
    "    statement n"
   ]
  },
  {
   "cell_type": "markdown",
   "id": "20fab30f",
   "metadata": {},
   "source": [
    "### Note: only one condition will check \n",
    "- e.g  if IF condition is true then if block of statement will execute. however the program will not go forward if IF statemets gets executed"
   ]
  },
  {
   "cell_type": "code",
   "execution_count": 1,
   "id": "81ce48b8",
   "metadata": {},
   "outputs": [
    {
     "name": "stdout",
     "output_type": "stream",
     "text": [
      "The string is : yash dhakade\n"
     ]
    }
   ],
   "source": [
    "string = \"yash dhakade\"\n",
    "if string.islower():    # if the condition is true then this block of statement will execute\n",
    "    print(f\"The string is : {string}\")"
   ]
  },
  {
   "cell_type": "code",
   "execution_count": 5,
   "id": "b9b83606",
   "metadata": {},
   "outputs": [
    {
     "name": "stdout",
     "output_type": "stream",
     "text": [
      "string is not in upper case\n"
     ]
    }
   ],
   "source": [
    "string = \"YASH DHAKADE\"\n",
    "if string.islower():    # if the condition is true then this block of statement will execute\n",
    "    print(f\"The string is : {string}\")\n",
    "    \n",
    "else:                   # if the above condition is false then this block of statement will execute \n",
    "    print(\"string is not in upper case\")"
   ]
  },
  {
   "cell_type": "code",
   "execution_count": 9,
   "id": "f93b2e31",
   "metadata": {},
   "outputs": [
    {
     "name": "stdout",
     "output_type": "stream",
     "text": [
      "it is title case\n"
     ]
    }
   ],
   "source": [
    "st = \"Python And Data Science\"\n",
    "if st.istitle():\n",
    "    print(\"it is title case\")\n",
    "else:\n",
    "    print(\"Not a title case\")"
   ]
  },
  {
   "cell_type": "code",
   "execution_count": null,
   "id": "f58cb774",
   "metadata": {},
   "outputs": [],
   "source": []
  },
  {
   "cell_type": "markdown",
   "id": "35d411ec",
   "metadata": {},
   "source": [
    "# Operators \n",
    "### comparison operators\n",
    "- val1 == val2\n",
    "- val1 != val2\n",
    "- val1 >  val2\n",
    "- val1 <  val2\n",
    "- val1 >= val2\n",
    "- val1 <= val2"
   ]
  },
  {
   "cell_type": "code",
   "execution_count": 10,
   "id": "c0527252",
   "metadata": {},
   "outputs": [
    {
     "data": {
      "text/plain": [
       "True"
      ]
     },
     "execution_count": 10,
     "metadata": {},
     "output_type": "execute_result"
    }
   ],
   "source": [
    "1 == 1"
   ]
  },
  {
   "cell_type": "code",
   "execution_count": 20,
   "id": "d4a72169",
   "metadata": {},
   "outputs": [
    {
     "data": {
      "text/plain": [
       "False"
      ]
     },
     "execution_count": 20,
     "metadata": {},
     "output_type": "execute_result"
    }
   ],
   "source": [
    "\"python\" == \"Python\""
   ]
  },
  {
   "cell_type": "code",
   "execution_count": 21,
   "id": "0ed77305",
   "metadata": {},
   "outputs": [
    {
     "data": {
      "text/plain": [
       "True"
      ]
     },
     "execution_count": 21,
     "metadata": {},
     "output_type": "execute_result"
    }
   ],
   "source": [
    "\"python\" == \"python\""
   ]
  },
  {
   "cell_type": "code",
   "execution_count": 24,
   "id": "d996a31d",
   "metadata": {},
   "outputs": [
    {
     "data": {
      "text/plain": [
       "True"
      ]
     },
     "execution_count": 24,
     "metadata": {},
     "output_type": "execute_result"
    }
   ],
   "source": [
    "\"python\" == \"python\""
   ]
  },
  {
   "cell_type": "code",
   "execution_count": 25,
   "id": "d9362f00",
   "metadata": {},
   "outputs": [
    {
     "data": {
      "text/plain": [
       "True"
      ]
     },
     "execution_count": 25,
     "metadata": {},
     "output_type": "execute_result"
    }
   ],
   "source": [
    "a = [1,2,3]; b = [1,2,3]\n",
    "a == b"
   ]
  },
  {
   "cell_type": "code",
   "execution_count": 27,
   "id": "3c1b89ee",
   "metadata": {},
   "outputs": [
    {
     "data": {
      "text/plain": [
       "False"
      ]
     },
     "execution_count": 27,
     "metadata": {},
     "output_type": "execute_result"
    }
   ],
   "source": [
    "a = [1,2,4]; b = [1,2,3]\n",
    "\n",
    "a == b"
   ]
  },
  {
   "cell_type": "code",
   "execution_count": 11,
   "id": "ce4d86ad",
   "metadata": {
    "scrolled": true
   },
   "outputs": [
    {
     "data": {
      "text/plain": [
       "False"
      ]
     },
     "execution_count": 11,
     "metadata": {},
     "output_type": "execute_result"
    }
   ],
   "source": [
    "1 == 0"
   ]
  },
  {
   "cell_type": "code",
   "execution_count": 12,
   "id": "da93b0f2",
   "metadata": {},
   "outputs": [
    {
     "data": {
      "text/plain": [
       "False"
      ]
     },
     "execution_count": 12,
     "metadata": {},
     "output_type": "execute_result"
    }
   ],
   "source": [
    "1 != 1"
   ]
  },
  {
   "cell_type": "code",
   "execution_count": 13,
   "id": "bf8a8076",
   "metadata": {},
   "outputs": [
    {
     "data": {
      "text/plain": [
       "False"
      ]
     },
     "execution_count": 13,
     "metadata": {},
     "output_type": "execute_result"
    }
   ],
   "source": [
    "1 < 1"
   ]
  },
  {
   "cell_type": "code",
   "execution_count": 14,
   "id": "ad6f20d3",
   "metadata": {},
   "outputs": [
    {
     "data": {
      "text/plain": [
       "False"
      ]
     },
     "execution_count": 14,
     "metadata": {},
     "output_type": "execute_result"
    }
   ],
   "source": [
    "1 > 1"
   ]
  },
  {
   "cell_type": "code",
   "execution_count": 15,
   "id": "00edfedd",
   "metadata": {},
   "outputs": [
    {
     "data": {
      "text/plain": [
       "False"
      ]
     },
     "execution_count": 15,
     "metadata": {},
     "output_type": "execute_result"
    }
   ],
   "source": [
    "2 < 1"
   ]
  },
  {
   "cell_type": "code",
   "execution_count": 16,
   "id": "6b3ec9e9",
   "metadata": {},
   "outputs": [
    {
     "data": {
      "text/plain": [
       "True"
      ]
     },
     "execution_count": 16,
     "metadata": {},
     "output_type": "execute_result"
    }
   ],
   "source": [
    "2 > 1"
   ]
  },
  {
   "cell_type": "code",
   "execution_count": 17,
   "id": "65d84cef",
   "metadata": {},
   "outputs": [
    {
     "data": {
      "text/plain": [
       "True"
      ]
     },
     "execution_count": 17,
     "metadata": {},
     "output_type": "execute_result"
    }
   ],
   "source": [
    "2 >= 2"
   ]
  },
  {
   "cell_type": "code",
   "execution_count": 19,
   "id": "f85a4cef",
   "metadata": {},
   "outputs": [
    {
     "data": {
      "text/plain": [
       "True"
      ]
     },
     "execution_count": 19,
     "metadata": {},
     "output_type": "execute_result"
    }
   ],
   "source": [
    "2 <= 2"
   ]
  },
  {
   "cell_type": "code",
   "execution_count": 31,
   "id": "890c9c2e",
   "metadata": {},
   "outputs": [
    {
     "name": "stdout",
     "output_type": "stream",
     "text": [
      "200 is greater than 100\n"
     ]
    }
   ],
   "source": [
    "val1 = 100\n",
    "val2 = 200\n",
    "if val1 > val2:\n",
    "    print(f\"{val1} is greater than {val2}\") # val1 = 100\n",
    "else:\n",
    "    print(f\"{val2} is greater than {val1}\")"
   ]
  },
  {
   "cell_type": "code",
   "execution_count": 32,
   "id": "91506343",
   "metadata": {},
   "outputs": [
    {
     "name": "stdout",
     "output_type": "stream",
     "text": [
      "200 is greater than 100\n"
     ]
    }
   ],
   "source": [
    "val1 = 200\n",
    "val2 = 100\n",
    "if val1 > val2:\n",
    "    print(f\"{val1} is greater than {val2}\")  # val1 = 200\n",
    "else:\n",
    "    print(f\"{val2} is greater than {val1}\")"
   ]
  },
  {
   "cell_type": "code",
   "execution_count": null,
   "id": "458ffcc4",
   "metadata": {},
   "outputs": [],
   "source": []
  },
  {
   "cell_type": "markdown",
   "id": "a9ac435f",
   "metadata": {},
   "source": [
    "# 2. Logical Operators\n",
    "- and operator\n",
    "- or operator\n",
    "- 1 = True\n",
    "- 0 = False"
   ]
  },
  {
   "cell_type": "code",
   "execution_count": 33,
   "id": "0ae5ceb0",
   "metadata": {},
   "outputs": [
    {
     "data": {
      "text/plain": [
       "1"
      ]
     },
     "execution_count": 33,
     "metadata": {},
     "output_type": "execute_result"
    }
   ],
   "source": [
    "0 and 0 # False and false = false\n",
    "0 and 1 # False and true = false\n",
    "1 and 0 # True and false = false\n",
    "1 and 1 # True and true = true"
   ]
  },
  {
   "cell_type": "code",
   "execution_count": 34,
   "id": "8316ed86",
   "metadata": {},
   "outputs": [
    {
     "data": {
      "text/plain": [
       "1"
      ]
     },
     "execution_count": 34,
     "metadata": {},
     "output_type": "execute_result"
    }
   ],
   "source": [
    "0 or 0 # False or false = False\n",
    "0 or 1 # False or true = True\n",
    "1 or 0 # True or false = True\n",
    "1 or 1 # True or true = True"
   ]
  },
  {
   "cell_type": "raw",
   "id": "966dda6d",
   "metadata": {},
   "source": [
    "- + -> Addition operator\n",
    "- - -> Substraction operator\n",
    "- * -> Multiplication operator\n",
    "- / -> Division operator\n",
    "- // -> Floor division operator\n",
    "- % -> Modulus operator\n",
    "- ** Exponent operator\n",
    "\n",
    "Preference of arithmetic operator\n",
    "() - ** - * - / - // \"-\" - + \n",
    "\n",
    "Parenthesis --> Exponent --> multiplication --> division --> floor_division --> substraction --> Addition\n",
    "\n",
    "The operations will always be left to right"
   ]
  },
  {
   "cell_type": "code",
   "execution_count": null,
   "id": "83c54a9d",
   "metadata": {},
   "outputs": [],
   "source": []
  },
  {
   "cell_type": "code",
   "execution_count": null,
   "id": "dca78c0b",
   "metadata": {},
   "outputs": [],
   "source": []
  }
 ],
 "metadata": {
  "kernelspec": {
   "display_name": "Python 3 (ipykernel)",
   "language": "python",
   "name": "python3"
  },
  "language_info": {
   "codemirror_mode": {
    "name": "ipython",
    "version": 3
   },
   "file_extension": ".py",
   "mimetype": "text/x-python",
   "name": "python",
   "nbconvert_exporter": "python",
   "pygments_lexer": "ipython3",
   "version": "3.9.12"
  }
 },
 "nbformat": 4,
 "nbformat_minor": 5
}
