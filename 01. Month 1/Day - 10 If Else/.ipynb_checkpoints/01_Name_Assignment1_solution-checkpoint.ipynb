{
 "cells": [
  {
   "cell_type": "markdown",
   "id": "4cd3cc7a",
   "metadata": {},
   "source": [
    "# 3. What are local variables and global variables in Python?"
   ]
  },
  {
   "cell_type": "code",
   "execution_count": null,
   "id": "a926b992",
   "metadata": {},
   "outputs": [],
   "source": [
    "local_variable = \"Defination\"\n",
    "Example\n",
    "\n",
    "global_variable = \"Defiation\"\n",
    "examplse"
   ]
  }
 ],
 "metadata": {
  "kernelspec": {
   "display_name": "Python 3 (ipykernel)",
   "language": "python",
   "name": "python3"
  },
  "language_info": {
   "codemirror_mode": {
    "name": "ipython",
    "version": 3
   },
   "file_extension": ".py",
   "mimetype": "text/x-python",
   "name": "python",
   "nbconvert_exporter": "python",
   "pygments_lexer": "ipython3",
   "version": "3.10.5"
  }
 },
 "nbformat": 4,
 "nbformat_minor": 5
}
