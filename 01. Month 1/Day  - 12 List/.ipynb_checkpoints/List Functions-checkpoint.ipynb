{
 "cells": [
  {
   "cell_type": "markdown",
   "id": "1146753a",
   "metadata": {},
   "source": [
    "# List Functions"
   ]
  },
  {
   "cell_type": "markdown",
   "id": "e49d7eac",
   "metadata": {},
   "source": [
    "## 1. append()\n",
    "- Syntax :-\n",
    "    - list_name.append(value)\n",
    "    \n",
    "- We are allowed to add one value/item in a list and the new item will gets added at the last index"
   ]
  },
  {
   "cell_type": "code",
   "execution_count": 2,
   "id": "fe73c086",
   "metadata": {},
   "outputs": [
    {
     "name": "stdout",
     "output_type": "stream",
     "text": [
      "[]\n"
     ]
    }
   ],
   "source": [
    "li = []\n",
    "print(li)"
   ]
  },
  {
   "cell_type": "code",
   "execution_count": 3,
   "id": "8698a0a9",
   "metadata": {},
   "outputs": [
    {
     "name": "stdout",
     "output_type": "stream",
     "text": [
      "['Python']\n"
     ]
    }
   ],
   "source": [
    "li.append(\"Python\")\n"
   ]
  },
  {
   "cell_type": "code",
   "execution_count": 7,
   "id": "e61ccfd6",
   "metadata": {},
   "outputs": [
    {
     "data": {
      "text/plain": [
       "['Python', 'Data Scnence', 'Data Scnence', 'Data Scnence']"
      ]
     },
     "execution_count": 7,
     "metadata": {},
     "output_type": "execute_result"
    }
   ],
   "source": [
    "li.append(\"Data Scnence\") # Ran this cell for 3 times\n",
    "li"
   ]
  },
  {
   "cell_type": "code",
   "execution_count": 43,
   "id": "fe70e42f",
   "metadata": {},
   "outputs": [
    {
     "name": "stdout",
     "output_type": "stream",
     "text": [
      "[]\n",
      "[10]\n",
      "[10, 20]\n",
      "[10, 20, 30]\n"
     ]
    }
   ],
   "source": [
    "num_list = []\n",
    "print(num_list)\n",
    "\n",
    "# 1st iteration\n",
    "num_list.append(10)\n",
    "print(num_list)\n",
    "\n",
    "# 2nd iteration\n",
    "num_list.append(20)\n",
    "print(num_list)\n",
    "\n",
    "# 3rd iteration\n",
    "num_list.append(30)\n",
    "print(num_list)"
   ]
  },
  {
   "cell_type": "code",
   "execution_count": 44,
   "id": "af05094a",
   "metadata": {},
   "outputs": [
    {
     "name": "stdout",
     "output_type": "stream",
     "text": [
      "[10, 20, 30]\n",
      "[10, 20, 30, 100]\n",
      "[10, 20, 30, 100, 200]\n",
      "[10, 20, 30, 100, 200, 300]\n"
     ]
    }
   ],
   "source": [
    "num_list = [10, 20, 30]\n",
    "print(num_list)\n",
    "\n",
    "# 1st iteration\n",
    "num_list.append(100)\n",
    "print(num_list)\n",
    "\n",
    "# 2nd iteration\n",
    "num_list.append(200)\n",
    "print(num_list)\n",
    "\n",
    "# 3rd iteration\n",
    "num_list.append(300)\n",
    "print(num_list)"
   ]
  },
  {
   "cell_type": "code",
   "execution_count": 45,
   "id": "99e731a8",
   "metadata": {},
   "outputs": [
    {
     "name": "stdout",
     "output_type": "stream",
     "text": [
      "[10, 20, 30, 100, 200, 300]\n",
      "[10, 20, 30, 100, 200, 300, 'Python']\n",
      "[10, 20, 30, 100, 200, 300, 'Python', 'DS']\n",
      "[10, 20, 30, 100, 200, 300, 'Python', 'DS', 'ML']\n"
     ]
    }
   ],
   "source": [
    "num_list = [10, 20, 30, 100, 200, 300]\n",
    "print(num_list)\n",
    "\n",
    "# 1st iteration\n",
    "num_list.append(\"Python\")\n",
    "print(num_list)\n",
    "\n",
    "# 2nd iteration\n",
    "num_list.append('DS')\n",
    "print(num_list)\n",
    "\n",
    "# 3rd iteration\n",
    "num_list.append('ML')\n",
    "print(num_list)"
   ]
  },
  {
   "cell_type": "code",
   "execution_count": 46,
   "id": "26f995de",
   "metadata": {},
   "outputs": [
    {
     "data": {
      "text/plain": [
       "range(0, 10)"
      ]
     },
     "execution_count": 46,
     "metadata": {},
     "output_type": "execute_result"
    }
   ],
   "source": [
    "range(10)"
   ]
  },
  {
   "cell_type": "code",
   "execution_count": 48,
   "id": "8e68b177",
   "metadata": {},
   "outputs": [
    {
     "data": {
      "text/plain": [
       "[1, 2, 3, 4, 5, 6, 7, 8, 9, 10]"
      ]
     },
     "execution_count": 48,
     "metadata": {},
     "output_type": "execute_result"
    }
   ],
   "source": [
    "list(range(1,11))"
   ]
  },
  {
   "cell_type": "code",
   "execution_count": 49,
   "id": "d0bd984a",
   "metadata": {},
   "outputs": [
    {
     "name": "stdout",
     "output_type": "stream",
     "text": [
      "[1]\n",
      "[1, 2]\n",
      "[1, 2, 3]\n",
      "[1, 2, 3, 4]\n",
      "[1, 2, 3, 4, 5]\n",
      "[1, 2, 3, 4, 5, 6]\n",
      "[1, 2, 3, 4, 5, 6, 7]\n",
      "[1, 2, 3, 4, 5, 6, 7, 8]\n",
      "[1, 2, 3, 4, 5, 6, 7, 8, 9]\n",
      "[1, 2, 3, 4, 5, 6, 7, 8, 9, 10]\n"
     ]
    }
   ],
   "source": [
    "new_li  = []\n",
    "for i in range(1,11):\n",
    "    new_li.append(i)\n",
    "    print(new_li)"
   ]
  },
  {
   "cell_type": "code",
   "execution_count": 50,
   "id": "040b7968",
   "metadata": {},
   "outputs": [],
   "source": [
    "new_li  = []\n",
    "new_li.append([1,2,3])"
   ]
  },
  {
   "cell_type": "code",
   "execution_count": 55,
   "id": "e8ea2a37",
   "metadata": {},
   "outputs": [
    {
     "ename": "TypeError",
     "evalue": "list.append() takes exactly one argument (3 given)",
     "output_type": "error",
     "traceback": [
      "\u001b[1;31m---------------------------------------------------------------------------\u001b[0m",
      "\u001b[1;31mTypeError\u001b[0m                                 Traceback (most recent call last)",
      "Input \u001b[1;32mIn [55]\u001b[0m, in \u001b[0;36m<cell line: 1>\u001b[1;34m()\u001b[0m\n\u001b[1;32m----> 1\u001b[0m \u001b[43mnew_li\u001b[49m\u001b[38;5;241;43m.\u001b[39;49m\u001b[43mappend\u001b[49m\u001b[43m(\u001b[49m\u001b[38;5;241;43m4\u001b[39;49m\u001b[43m,\u001b[49m\u001b[38;5;241;43m5\u001b[39;49m\u001b[43m,\u001b[49m\u001b[38;5;241;43m6\u001b[39;49m\u001b[43m)\u001b[49m\n",
      "\u001b[1;31mTypeError\u001b[0m: list.append() takes exactly one argument (3 given)"
     ]
    }
   ],
   "source": [
    "new_li.append(4,5,6)"
   ]
  },
  {
   "cell_type": "code",
   "execution_count": 54,
   "id": "22677bb3",
   "metadata": {},
   "outputs": [
    {
     "data": {
      "text/plain": [
       "[[1, 2, 3], [4, 5, 6], 100]"
      ]
     },
     "execution_count": 54,
     "metadata": {},
     "output_type": "execute_result"
    }
   ],
   "source": [
    "new_li.append(100)\n",
    "new_li"
   ]
  },
  {
   "cell_type": "markdown",
   "id": "f28fff87",
   "metadata": {},
   "source": [
    "## 2. extend()\n",
    "- Syntax :- \n",
    "    - list_name.extend()"
   ]
  },
  {
   "cell_type": "code",
   "execution_count": 57,
   "id": "66c4feaa",
   "metadata": {},
   "outputs": [
    {
     "name": "stdout",
     "output_type": "stream",
     "text": [
      "List1 = [1, 2, 3, 4, 5]\n",
      "List2 = [10, 20, 30]\n",
      "\n",
      "\n",
      "List1 = [1, 2, 3, 4, 5, 10, 20, 30]\n",
      "List2 = [10, 20, 30]\n"
     ]
    }
   ],
   "source": [
    "li1 = [1,2,3,4,5]\n",
    "li2 = [10,20,30]\n",
    "print(f\"List1 = {li1}\")\n",
    "print(f\"List2 = {li2}\")\n",
    "print()\n",
    "li1.extend(li2)\n",
    "print()\n",
    "print(f\"List1 = {li1}\")\n",
    "print(f\"List2 = {li2}\")"
   ]
  },
  {
   "cell_type": "code",
   "execution_count": 58,
   "id": "824dffd7",
   "metadata": {},
   "outputs": [
    {
     "name": "stdout",
     "output_type": "stream",
     "text": [
      "List1 = [1, 2, 3, 4, 5]\n",
      "List2 = [10, 20, 30]\n",
      "\n",
      "\n",
      "List1 = [1, 2, 3, 4, 5]\n",
      "List2 = [10, 20, 30, 1, 2, 3, 4, 5]\n"
     ]
    }
   ],
   "source": [
    "li1 = [1,2,3,4,5]\n",
    "li2 = [10,20,30]\n",
    "print(f\"List1 = {li1}\")\n",
    "print(f\"List2 = {li2}\")\n",
    "print()\n",
    "li2.extend(li1)\n",
    "print()\n",
    "print(f\"List1 = {li1}\")\n",
    "print(f\"List2 = {li2}\")"
   ]
  },
  {
   "cell_type": "code",
   "execution_count": 59,
   "id": "3e402569",
   "metadata": {},
   "outputs": [
    {
     "name": "stdout",
     "output_type": "stream",
     "text": [
      "List1 len = 5\n",
      "List2 len = 3\n",
      "\n",
      "\n",
      "List1 len = 5\n",
      "List2 len = 8\n"
     ]
    }
   ],
   "source": [
    "li1 = [1,2,3,4,5]\n",
    "li2 = [10,20,30]\n",
    "print(f\"List1 len = {len(li1)}\")\n",
    "print(f\"List2 len = {len(li2)}\")\n",
    "print()\n",
    "li2.extend(li1)\n",
    "print()\n",
    "print(f\"List1 len = {len(li1)}\")\n",
    "print(f\"List2 len = {len(li2)}\")"
   ]
  },
  {
   "cell_type": "code",
   "execution_count": 60,
   "id": "deb8ecca",
   "metadata": {},
   "outputs": [
    {
     "name": "stdout",
     "output_type": "stream",
     "text": [
      "List1 len = 5\n",
      "List2 len = 3\n",
      "\n",
      "\n",
      "List1 len = 8\n",
      "List2 len = 3\n"
     ]
    }
   ],
   "source": [
    "li1 = [1,2,3,4,5]\n",
    "li2 = [10,20,30]\n",
    "print(f\"List1 len = {len(li1)}\")\n",
    "print(f\"List2 len = {len(li2)}\")\n",
    "print()\n",
    "li1.extend(li2)\n",
    "print()\n",
    "print(f\"List1 len = {len(li1)}\")\n",
    "print(f\"List2 len = {len(li2)}\")"
   ]
  },
  {
   "cell_type": "code",
   "execution_count": 62,
   "id": "bfee0f77",
   "metadata": {},
   "outputs": [
    {
     "name": "stdout",
     "output_type": "stream",
     "text": [
      "List1 = [1, 2, 3, 4, 5]\n",
      "List2 = ['Pytho', 'Data', 'Science']\n",
      "\n",
      "\n",
      "List1 = [1, 2, 3, 4, 5, 'Pytho', 'Data', 'Science']\n",
      "List2 = ['Pytho', 'Data', 'Science']\n"
     ]
    }
   ],
   "source": [
    "li1 = [1,2,3,4,5]\n",
    "li2 = [\"Pytho\",\"Data\",\"Science\"]\n",
    "print(f\"List1 = {li1}\")\n",
    "print(f\"List2 = {li2}\")\n",
    "print()\n",
    "li1.extend(li2)\n",
    "print()\n",
    "print(f\"List1 = {li1}\")\n",
    "print(f\"List2 = {li2}\")"
   ]
  },
  {
   "cell_type": "code",
   "execution_count": 63,
   "id": "71387229",
   "metadata": {},
   "outputs": [
    {
     "name": "stdout",
     "output_type": "stream",
     "text": [
      "List1 = [1, 2, 3, 4, 5]\n",
      "List2 = ['Pytho', 'Data', 'Science']\n",
      "\n",
      "\n",
      "List1 = [1, 2, 3, 4, 5, 1, 2, 3, 4, 5]\n",
      "List2 = ['Pytho', 'Data', 'Science']\n"
     ]
    }
   ],
   "source": [
    "li1 = [1,2,3,4,5]\n",
    "li2 = [\"Pytho\",\"Data\",\"Science\"]\n",
    "print(f\"List1 = {li1}\")\n",
    "print(f\"List2 = {li2}\")\n",
    "print()\n",
    "li1.extend(li1)\n",
    "print()\n",
    "print(f\"List1 = {li1}\")\n",
    "print(f\"List2 = {li2}\")"
   ]
  },
  {
   "cell_type": "code",
   "execution_count": 64,
   "id": "9348aa9f",
   "metadata": {},
   "outputs": [
    {
     "name": "stdout",
     "output_type": "stream",
     "text": [
      "List1 = [1, 2, 3, 4, 5]\n",
      "List2 = ['Pytho', 'Data', 'Science']\n",
      "\n",
      "\n",
      "List1 = [1, 2, 3, 4, 5]\n",
      "List2 = ['Pytho', 'Data', 'Science', 'Pytho', 'Data', 'Science']\n"
     ]
    }
   ],
   "source": [
    "li1 = [1,2,3,4,5]\n",
    "li2 = [\"Pytho\",\"Data\",\"Science\"]\n",
    "print(f\"List1 = {li1}\")\n",
    "print(f\"List2 = {li2}\")\n",
    "print()\n",
    "li2.extend(li2)\n",
    "print()\n",
    "print(f\"List1 = {li1}\")\n",
    "print(f\"List2 = {li2}\")"
   ]
  },
  {
   "cell_type": "code",
   "execution_count": 65,
   "id": "bac32f90",
   "metadata": {},
   "outputs": [
    {
     "data": {
      "text/plain": [
       "[1, 2, 3, 4, 5, 'Pytho', 'Data', 'Science']"
      ]
     },
     "execution_count": 65,
     "metadata": {},
     "output_type": "execute_result"
    }
   ],
   "source": [
    "li1 = [1,2,3,4,5]\n",
    "li2 = [\"Pytho\",\"Data\",\"Science\"]\n",
    "li1 + li2"
   ]
  },
  {
   "cell_type": "code",
   "execution_count": 66,
   "id": "8050a2f3",
   "metadata": {},
   "outputs": [
    {
     "data": {
      "text/plain": [
       "['Pytho', 'Data', 'Science', 1, 2, 3, 4, 5]"
      ]
     },
     "execution_count": 66,
     "metadata": {},
     "output_type": "execute_result"
    }
   ],
   "source": [
    "li1 = [1,2,3,4,5]\n",
    "li2 = [\"Pytho\",\"Data\",\"Science\"]\n",
    "li2 + li1"
   ]
  },
  {
   "cell_type": "code",
   "execution_count": 67,
   "id": "5fe981a0",
   "metadata": {},
   "outputs": [
    {
     "data": {
      "text/plain": [
       "['Pytho', 'Data', 'Science', 'Pytho', 'Data', 'Science']"
      ]
     },
     "execution_count": 67,
     "metadata": {},
     "output_type": "execute_result"
    }
   ],
   "source": [
    "li1 = [1,2,3,4,5]\n",
    "li2 = [\"Pytho\",\"Data\",\"Science\"]\n",
    "li2 + li2"
   ]
  },
  {
   "cell_type": "code",
   "execution_count": 68,
   "id": "37853534",
   "metadata": {},
   "outputs": [
    {
     "data": {
      "text/plain": [
       "[1, 2, 3, 4, 5, 1, 2, 3, 4, 5]"
      ]
     },
     "execution_count": 68,
     "metadata": {},
     "output_type": "execute_result"
    }
   ],
   "source": [
    "li1 = [1,2,3,4,5]\n",
    "li2 = [\"Pytho\",\"Data\",\"Science\"]\n",
    "li1 + li1"
   ]
  },
  {
   "cell_type": "markdown",
   "id": "6221d45b",
   "metadata": {},
   "source": [
    "## 3. insert()\n",
    "- Syntax:- \n",
    "    - list_name.insert(index,value)"
   ]
  },
  {
   "cell_type": "code",
   "execution_count": 70,
   "id": "93ab67d3",
   "metadata": {},
   "outputs": [
    {
     "name": "stdout",
     "output_type": "stream",
     "text": [
      "Updated list = [100, 1, 2, 3, 4, 5]\n"
     ]
    }
   ],
   "source": [
    "li1 = [1,2,3,4,5]\n",
    "li1.insert(0,100)\n",
    "print(f\"Updated list = {li1}\")"
   ]
  },
  {
   "cell_type": "code",
   "execution_count": 71,
   "id": "7381a6b0",
   "metadata": {},
   "outputs": [
    {
     "data": {
      "text/plain": [
       "100"
      ]
     },
     "execution_count": 71,
     "metadata": {},
     "output_type": "execute_result"
    }
   ],
   "source": [
    "li1[0]"
   ]
  },
  {
   "cell_type": "code",
   "execution_count": 72,
   "id": "2822458c",
   "metadata": {},
   "outputs": [
    {
     "name": "stdout",
     "output_type": "stream",
     "text": [
      "Updated list = [1, 2, 3, 100, 4, 5]\n"
     ]
    }
   ],
   "source": [
    "li1 = [1,2,3,4,5]\n",
    "li1.insert(3,100)\n",
    "print(f\"Updated list = {li1}\")"
   ]
  },
  {
   "cell_type": "code",
   "execution_count": 73,
   "id": "87009f26",
   "metadata": {},
   "outputs": [
    {
     "name": "stdout",
     "output_type": "stream",
     "text": [
      "Updated list = [1, 2, 3, [100, 200], 4, 5]\n"
     ]
    }
   ],
   "source": [
    "li1 = [1,2,3,4,5]\n",
    "li1.insert(3,[100,200])\n",
    "print(f\"Updated list = {li1}\")"
   ]
  },
  {
   "cell_type": "code",
   "execution_count": 75,
   "id": "49cab7ef",
   "metadata": {},
   "outputs": [
    {
     "name": "stdout",
     "output_type": "stream",
     "text": [
      "Updated list = [1, 2, 3, (100, 200), 4, 5]\n"
     ]
    }
   ],
   "source": [
    "li1 = [1,2,3,4,5]\n",
    "li1.insert(3,(100,200))\n",
    "print(f\"Updated list = {li1}\")"
   ]
  },
  {
   "cell_type": "code",
   "execution_count": 76,
   "id": "aff9c7dd",
   "metadata": {},
   "outputs": [
    {
     "name": "stdout",
     "output_type": "stream",
     "text": [
      "Updated list = [1, 2, 3, 4, 5, (100, 200)]\n"
     ]
    }
   ],
   "source": [
    "li1 = [1,2,3,4,5]\n",
    "li1.insert(10,(100,200))\n",
    "print(f\"Updated list = {li1}\")"
   ]
  },
  {
   "cell_type": "code",
   "execution_count": 78,
   "id": "750fab7e",
   "metadata": {},
   "outputs": [
    {
     "name": "stdout",
     "output_type": "stream",
     "text": [
      "[2, 4, 6, 8, 10, 12, 14, 16, 18, 20, 22, 24, 26, 28, 30, 32, 34, 36, 38, 40, 42, 44, 46, 48, 50]\n",
      "[1, 3, 5, 7, 9, 11, 13, 15, 17, 19, 21, 23, 25, 27, 29, 31, 33, 35, 37, 39, 41, 43, 45, 47, 49]\n"
     ]
    }
   ],
   "source": [
    "list(range(1,51))\n",
    "even_list = []\n",
    "odd_list = []\n",
    "for num in list(range(1,51)):\n",
    "    if num % 2 == 0:\n",
    "        even_list.append(num)\n",
    "    else:\n",
    "        odd_list.append(num)\n",
    "print(even_list)\n",
    "print(odd_list)"
   ]
  },
  {
   "cell_type": "code",
   "execution_count": 86,
   "id": "2ebd5f7b",
   "metadata": {},
   "outputs": [
    {
     "name": "stdout",
     "output_type": "stream",
     "text": [
      "[1, 3, 5, 7, 9, 11, 13, 15, 17, 19, 21, 23, 25, 27, 29, 31, 33, 35, 37, 39, 41, 43, 45, 47, 49] [2, 4, 6, 8, 10, 12, 14, 16, 18, 20, 22, 24, 26, 28, 30, 32, 34, 36, 38, 40, 42, 44, 46, 48, 50]\n"
     ]
    }
   ],
   "source": [
    "list(range(1,51))\n",
    "even_list=[]\n",
    "odd_list=[]\n",
    "\n",
    "for val in list(range(1,51)):\n",
    "    if val%2 == 0:\n",
    "#         print(f\"{val} is Even\")\n",
    "        even_list.append(val)\n",
    "    else:\n",
    "#         print(f\"{val} is Even\")\n",
    "        odd_list.append(val)\n",
    "    \n",
    "print(odd_list,even_list)"
   ]
  },
  {
   "cell_type": "code",
   "execution_count": 87,
   "id": "2d147c39",
   "metadata": {},
   "outputs": [
    {
     "name": "stdout",
     "output_type": "stream",
     "text": [
      "[1]\n",
      "[1, 4]\n",
      "[1, 4, 9]\n",
      "[1, 4, 9, 16]\n",
      "[1, 4, 9, 16, 25]\n",
      "[1, 4, 9, 16, 25, 36]\n",
      "[1, 4, 9, 16, 25, 36, 49]\n",
      "[1, 4, 9, 16, 25, 36, 49, 64]\n",
      "[1, 4, 9, 16, 25, 36, 49, 64, 81]\n",
      "[1, 4, 9, 16, 25, 36, 49, 64, 81, 100]\n"
     ]
    }
   ],
   "source": [
    "square_list = []\n",
    "for num in range(1,11):\n",
    "    square_list.append(num * num)\n",
    "    print(square_list)"
   ]
  },
  {
   "cell_type": "code",
   "execution_count": 88,
   "id": "b090f36d",
   "metadata": {},
   "outputs": [
    {
     "name": "stdout",
     "output_type": "stream",
     "text": [
      "[1]\n",
      "[1, 4]\n",
      "[1, 4, 9]\n",
      "[1, 4, 9, 16]\n",
      "[1, 4, 9, 16, 25]\n",
      "[1, 4, 9, 16, 25, 36]\n",
      "[1, 4, 9, 16, 25, 36, 49]\n",
      "[1, 4, 9, 16, 25, 36, 49, 64]\n",
      "[1, 4, 9, 16, 25, 36, 49, 64, 81]\n",
      "[1, 4, 9, 16, 25, 36, 49, 64, 81, 100]\n"
     ]
    }
   ],
   "source": [
    "square_list = []\n",
    "for num in range(1,11):\n",
    "    square_list.append(num ** 2)\n",
    "    print(square_list)"
   ]
  },
  {
   "cell_type": "code",
   "execution_count": 89,
   "id": "f073a14f",
   "metadata": {},
   "outputs": [
    {
     "name": "stdout",
     "output_type": "stream",
     "text": [
      "[1]\n",
      "[1, 25]\n",
      "[1, 25, 9]\n",
      "[1, 25, 9, 49]\n",
      "[1, 25, 9, 49, 81]\n",
      "[1, 25, 9, 49, 81, 36]\n",
      "[1, 25, 9, 49, 81, 36, 9]\n",
      "[1, 25, 9, 49, 81, 36, 9, 36]\n",
      "[1, 25, 9, 49, 81, 36, 9, 36, 64]\n",
      "[1, 25, 9, 49, 81, 36, 9, 36, 64, 8100]\n"
     ]
    }
   ],
   "source": [
    "li = [1,5,3,7,9,6,3,6,8,90]\n",
    "square_list = []\n",
    "for num in li:\n",
    "    square_list.append(num ** 2)\n",
    "    print(square_list)"
   ]
  },
  {
   "cell_type": "code",
   "execution_count": 90,
   "id": "36934b88",
   "metadata": {},
   "outputs": [
    {
     "name": "stdout",
     "output_type": "stream",
     "text": [
      "[1]\n",
      "[1, 125]\n",
      "[1, 125, 27]\n",
      "[1, 125, 27, 343]\n",
      "[1, 125, 27, 343, 729]\n",
      "[1, 125, 27, 343, 729, 216]\n",
      "[1, 125, 27, 343, 729, 216, 27]\n",
      "[1, 125, 27, 343, 729, 216, 27, 216]\n",
      "[1, 125, 27, 343, 729, 216, 27, 216, 512]\n",
      "[1, 125, 27, 343, 729, 216, 27, 216, 512, 729000]\n"
     ]
    }
   ],
   "source": [
    "li = [1,5,3,7,9,6,3,6,8,90]\n",
    "cube_list = []\n",
    "for num in li:\n",
    "    cube_list.append(num ** 3)\n",
    "    print(cube_list)"
   ]
  },
  {
   "cell_type": "markdown",
   "id": "3b0a0fb3",
   "metadata": {},
   "source": [
    "## Delete items from list\n",
    "- 1. remove \n",
    "- 2. pop\n",
    "- 3. clear\n",
    "- 4. del keyword"
   ]
  },
  {
   "cell_type": "markdown",
   "id": "1badf5cf",
   "metadata": {},
   "source": [
    "### 1. remove()\n",
    "- list_name.remove(item)"
   ]
  },
  {
   "cell_type": "code",
   "execution_count": 91,
   "id": "9560a027",
   "metadata": {},
   "outputs": [
    {
     "name": "stdout",
     "output_type": "stream",
     "text": [
      "List without modification --> [1, 2, 3, 4, 5]\n",
      "List after modification   --> [1, 2, 4, 5]\n"
     ]
    }
   ],
   "source": [
    "li = [1,2,3,4,5]\n",
    "print(f\"List without modification --> {li}\")\n",
    "\n",
    "li.remove(3)\n",
    "print(f\"List after modification   --> {li}\")"
   ]
  },
  {
   "cell_type": "code",
   "execution_count": 92,
   "id": "8639499d",
   "metadata": {},
   "outputs": [
    {
     "name": "stdout",
     "output_type": "stream",
     "text": [
      "List without modification --> [1, 2, 3, 4, 5]\n",
      "List after modification   --> [1, 3, 4, 5]\n",
      "List after modification   --> [1, 4, 5]\n",
      "List after modification   --> [1, 5]\n"
     ]
    }
   ],
   "source": [
    "li = [1,2,3,4,5]\n",
    "print(f\"List without modification --> {li}\")\n",
    "\n",
    "li.remove(2)\n",
    "print(f\"List after modification   --> {li}\")\n",
    "\n",
    "li.remove(3)\n",
    "print(f\"List after modification   --> {li}\")\n",
    "\n",
    "li.remove(4)\n",
    "print(f\"List after modification   --> {li}\")"
   ]
  },
  {
   "cell_type": "code",
   "execution_count": 94,
   "id": "4af6121d",
   "metadata": {},
   "outputs": [
    {
     "data": {
      "text/plain": [
       "['Pankaj', 'Saurabh', 'Sahil', 'Nikita']"
      ]
     },
     "execution_count": 94,
     "metadata": {},
     "output_type": "execute_result"
    }
   ],
   "source": [
    "student_names = [\"Pankaj\",\"Saurabh\",\"Sahil\",\"Nikita\",\"Sakshi\"]\n",
    "student_names.remove(\"Sakshi\")\n",
    "student_names"
   ]
  },
  {
   "cell_type": "code",
   "execution_count": 95,
   "id": "2156f58f",
   "metadata": {},
   "outputs": [
    {
     "ename": "ValueError",
     "evalue": "list.remove(x): x not in list",
     "output_type": "error",
     "traceback": [
      "\u001b[1;31m---------------------------------------------------------------------------\u001b[0m",
      "\u001b[1;31mValueError\u001b[0m                                Traceback (most recent call last)",
      "Input \u001b[1;32mIn [95]\u001b[0m, in \u001b[0;36m<cell line: 2>\u001b[1;34m()\u001b[0m\n\u001b[0;32m      1\u001b[0m student_names \u001b[38;5;241m=\u001b[39m [\u001b[38;5;124m\"\u001b[39m\u001b[38;5;124mPankaj\u001b[39m\u001b[38;5;124m\"\u001b[39m,\u001b[38;5;124m\"\u001b[39m\u001b[38;5;124mSaurabh\u001b[39m\u001b[38;5;124m\"\u001b[39m,\u001b[38;5;124m\"\u001b[39m\u001b[38;5;124mSahil\u001b[39m\u001b[38;5;124m\"\u001b[39m,\u001b[38;5;124m\"\u001b[39m\u001b[38;5;124mNikita\u001b[39m\u001b[38;5;124m\"\u001b[39m,\u001b[38;5;124m\"\u001b[39m\u001b[38;5;124mSakshi\u001b[39m\u001b[38;5;124m\"\u001b[39m]\n\u001b[1;32m----> 2\u001b[0m \u001b[43mstudent_names\u001b[49m\u001b[38;5;241;43m.\u001b[39;49m\u001b[43mremove\u001b[49m\u001b[43m(\u001b[49m\u001b[38;5;124;43m\"\u001b[39;49m\u001b[38;5;124;43mSaksdi\u001b[39;49m\u001b[38;5;124;43m\"\u001b[39;49m\u001b[43m)\u001b[49m\n\u001b[0;32m      3\u001b[0m student_names\n",
      "\u001b[1;31mValueError\u001b[0m: list.remove(x): x not in list"
     ]
    }
   ],
   "source": [
    "student_names = [\"Pankaj\",\"Saurabh\",\"Sahil\",\"Nikita\",\"Sakshi\"]\n",
    "student_names.remove(\"Saksdi\")\n",
    "student_names"
   ]
  },
  {
   "cell_type": "code",
   "execution_count": 96,
   "id": "0fb8764e",
   "metadata": {},
   "outputs": [
    {
     "data": {
      "text/plain": [
       "True"
      ]
     },
     "execution_count": 96,
     "metadata": {},
     "output_type": "execute_result"
    }
   ],
   "source": [
    "\"Pankaj\" in student_names"
   ]
  },
  {
   "cell_type": "code",
   "execution_count": 98,
   "id": "1991c4f2",
   "metadata": {},
   "outputs": [
    {
     "name": "stdout",
     "output_type": "stream",
     "text": [
      "['Saurabh', 'Sahil', 'Nikita', 'Sakshi']\n"
     ]
    },
    {
     "ename": "ValueError",
     "evalue": "list.remove(x): x not in list",
     "output_type": "error",
     "traceback": [
      "\u001b[1;31m---------------------------------------------------------------------------\u001b[0m",
      "\u001b[1;31mValueError\u001b[0m                                Traceback (most recent call last)",
      "Input \u001b[1;32mIn [98]\u001b[0m, in \u001b[0;36m<cell line: 3>\u001b[1;34m()\u001b[0m\n\u001b[0;32m      2\u001b[0m sub_list \u001b[38;5;241m=\u001b[39m [\u001b[38;5;124m\"\u001b[39m\u001b[38;5;124mPankaj\u001b[39m\u001b[38;5;124m\"\u001b[39m,\u001b[38;5;124m\"\u001b[39m\u001b[38;5;124mSauradh\u001b[39m\u001b[38;5;124m\"\u001b[39m]\n\u001b[0;32m      3\u001b[0m \u001b[38;5;28;01mfor\u001b[39;00m name \u001b[38;5;129;01min\u001b[39;00m sub_list:\n\u001b[1;32m----> 4\u001b[0m     \u001b[43mstudent_names\u001b[49m\u001b[38;5;241;43m.\u001b[39;49m\u001b[43mremove\u001b[49m\u001b[43m(\u001b[49m\u001b[43mname\u001b[49m\u001b[43m)\u001b[49m\n\u001b[0;32m      5\u001b[0m     \u001b[38;5;28mprint\u001b[39m(student_names)\n",
      "\u001b[1;31mValueError\u001b[0m: list.remove(x): x not in list"
     ]
    }
   ],
   "source": [
    "student_names = [\"Pankaj\",\"Saurabh\",\"Sahil\",\"Nikita\",\"Sakshi\"]\n",
    "sub_list = [\"Pankaj\",\"Sauradh\"]\n",
    "for name in sub_list:\n",
    "    student_names.remove(name)\n",
    "    print(student_names)\n"
   ]
  },
  {
   "cell_type": "code",
   "execution_count": 101,
   "id": "1898cff7",
   "metadata": {},
   "outputs": [
    {
     "name": "stdout",
     "output_type": "stream",
     "text": [
      "Pankaj Removed from origina list\n",
      "Sauradh Element not found\n",
      "['Saurabh', 'Sahil', 'Nikita', 'Sakshi']\n"
     ]
    }
   ],
   "source": [
    "student_names = [\"Pankaj\",\"Saurabh\",\"Sahil\",\"Nikita\",\"Sakshi\"]\n",
    "sub_list = [\"Pankaj\",\"Sauradh\"]\n",
    "for name in sub_list:\n",
    "    if name in student_names:\n",
    "        student_names.remove(name)\n",
    "        print(name, \"Removed from origina list\")\n",
    "    else: \n",
    "        print(name,\"Element not found\")\n",
    "\n",
    "print(student_names)"
   ]
  },
  {
   "cell_type": "markdown",
   "id": "1316f4c9",
   "metadata": {},
   "source": [
    "### 2. pop()\n",
    "- list_name.pop(index)\n",
    "- default index = -1"
   ]
  },
  {
   "cell_type": "code",
   "execution_count": 102,
   "id": "fc50d020",
   "metadata": {},
   "outputs": [
    {
     "name": "stdout",
     "output_type": "stream",
     "text": [
      "Original list = ['Pankaj', 'Saurabh', 'Sahil', 'Nikita', 'Sakshi']\n",
      "Modified list = ['Pankaj', 'Saurabh', 'Sahil', 'Nikita']\n"
     ]
    }
   ],
   "source": [
    "student_names = [\"Pankaj\",\"Saurabh\",\"Sahil\",\"Nikita\",\"Sakshi\"]\n",
    "print(f\"Original list = {student_names}\")\n",
    "student_names.pop()\n",
    "print(f\"Modified list = {student_names}\")"
   ]
  },
  {
   "cell_type": "code",
   "execution_count": 103,
   "id": "135c4773",
   "metadata": {},
   "outputs": [
    {
     "name": "stdout",
     "output_type": "stream",
     "text": [
      "Original list = ['Pankaj', 'Saurabh', 'Sahil', 'Nikita', 'Sakshi']\n",
      "Modified list = ['Pankaj', 'Sahil', 'Nikita', 'Sakshi']\n"
     ]
    }
   ],
   "source": [
    "student_names = [\"Pankaj\",\"Saurabh\",\"Sahil\",\"Nikita\",\"Sakshi\"]\n",
    "print(f\"Original list = {student_names}\")\n",
    "student_names.pop(1)\n",
    "print(f\"Modified list = {student_names}\")"
   ]
  },
  {
   "cell_type": "code",
   "execution_count": 104,
   "id": "ca91aa9e",
   "metadata": {},
   "outputs": [
    {
     "name": "stdout",
     "output_type": "stream",
     "text": [
      "Original list = ['Pankaj', 'Saurabh', 'Sahil', 'Nikita', 'Sakshi']\n",
      "Modified list = ['Pankaj', 'Saurabh', 'Nikita', 'Sakshi']\n"
     ]
    }
   ],
   "source": [
    "student_names = [\"Pankaj\",\"Saurabh\",\"Sahil\",\"Nikita\",\"Sakshi\"]\n",
    "print(f\"Original list = {student_names}\")\n",
    "student_names.pop(-3)\n",
    "print(f\"Modified list = {student_names}\")"
   ]
  },
  {
   "cell_type": "code",
   "execution_count": 107,
   "id": "444392c2",
   "metadata": {},
   "outputs": [
    {
     "name": "stdout",
     "output_type": "stream",
     "text": [
      "Original list = ['Pankaj', 'Saurabh', 'Sahil', 'Nikita', 'Sakshi']\n"
     ]
    },
    {
     "ename": "IndexError",
     "evalue": "pop index out of range",
     "output_type": "error",
     "traceback": [
      "\u001b[1;31m---------------------------------------------------------------------------\u001b[0m",
      "\u001b[1;31mIndexError\u001b[0m                                Traceback (most recent call last)",
      "Input \u001b[1;32mIn [107]\u001b[0m, in \u001b[0;36m<cell line: 3>\u001b[1;34m()\u001b[0m\n\u001b[0;32m      1\u001b[0m student_names \u001b[38;5;241m=\u001b[39m [\u001b[38;5;124m\"\u001b[39m\u001b[38;5;124mPankaj\u001b[39m\u001b[38;5;124m\"\u001b[39m,\u001b[38;5;124m\"\u001b[39m\u001b[38;5;124mSaurabh\u001b[39m\u001b[38;5;124m\"\u001b[39m,\u001b[38;5;124m\"\u001b[39m\u001b[38;5;124mSahil\u001b[39m\u001b[38;5;124m\"\u001b[39m,\u001b[38;5;124m\"\u001b[39m\u001b[38;5;124mNikita\u001b[39m\u001b[38;5;124m\"\u001b[39m,\u001b[38;5;124m\"\u001b[39m\u001b[38;5;124mSakshi\u001b[39m\u001b[38;5;124m\"\u001b[39m]\n\u001b[0;32m      2\u001b[0m \u001b[38;5;28mprint\u001b[39m(\u001b[38;5;124mf\u001b[39m\u001b[38;5;124m\"\u001b[39m\u001b[38;5;124mOriginal list = \u001b[39m\u001b[38;5;132;01m{\u001b[39;00mstudent_names\u001b[38;5;132;01m}\u001b[39;00m\u001b[38;5;124m\"\u001b[39m)\n\u001b[1;32m----> 3\u001b[0m \u001b[43mstudent_names\u001b[49m\u001b[38;5;241;43m.\u001b[39;49m\u001b[43mpop\u001b[49m\u001b[43m(\u001b[49m\u001b[38;5;241;43m10\u001b[39;49m\u001b[43m)\u001b[49m\n\u001b[0;32m      4\u001b[0m \u001b[38;5;28mprint\u001b[39m(\u001b[38;5;124mf\u001b[39m\u001b[38;5;124m\"\u001b[39m\u001b[38;5;124mModified list = \u001b[39m\u001b[38;5;132;01m{\u001b[39;00mstudent_names\u001b[38;5;132;01m}\u001b[39;00m\u001b[38;5;124m\"\u001b[39m)\n",
      "\u001b[1;31mIndexError\u001b[0m: pop index out of range"
     ]
    }
   ],
   "source": [
    "student_names = [\"Pankaj\",\"Saurabh\",\"Sahil\",\"Nikita\",\"Sakshi\"]\n",
    "print(f\"Original list = {student_names}\")\n",
    "student_names.pop(10)\n",
    "print(f\"Modified list = {student_names}\")"
   ]
  },
  {
   "cell_type": "code",
   "execution_count": 109,
   "id": "d257b4b9",
   "metadata": {},
   "outputs": [
    {
     "name": "stdout",
     "output_type": "stream",
     "text": [
      "Help on class ValueError in module builtins:\n",
      "\n",
      "class ValueError(Exception)\n",
      " |  Inappropriate argument value (of correct type).\n",
      " |  \n",
      " |  Method resolution order:\n",
      " |      ValueError\n",
      " |      Exception\n",
      " |      BaseException\n",
      " |      object\n",
      " |  \n",
      " |  Built-in subclasses:\n",
      " |      UnicodeError\n",
      " |  \n",
      " |  Methods defined here:\n",
      " |  \n",
      " |  __init__(self, /, *args, **kwargs)\n",
      " |      Initialize self.  See help(type(self)) for accurate signature.\n",
      " |  \n",
      " |  ----------------------------------------------------------------------\n",
      " |  Static methods defined here:\n",
      " |  \n",
      " |  __new__(*args, **kwargs) from builtins.type\n",
      " |      Create and return a new object.  See help(type) for accurate signature.\n",
      " |  \n",
      " |  ----------------------------------------------------------------------\n",
      " |  Methods inherited from BaseException:\n",
      " |  \n",
      " |  __delattr__(self, name, /)\n",
      " |      Implement delattr(self, name).\n",
      " |  \n",
      " |  __getattribute__(self, name, /)\n",
      " |      Return getattr(self, name).\n",
      " |  \n",
      " |  __reduce__(...)\n",
      " |      Helper for pickle.\n",
      " |  \n",
      " |  __repr__(self, /)\n",
      " |      Return repr(self).\n",
      " |  \n",
      " |  __setattr__(self, name, value, /)\n",
      " |      Implement setattr(self, name, value).\n",
      " |  \n",
      " |  __setstate__(...)\n",
      " |  \n",
      " |  __str__(self, /)\n",
      " |      Return str(self).\n",
      " |  \n",
      " |  with_traceback(...)\n",
      " |      Exception.with_traceback(tb) --\n",
      " |      set self.__traceback__ to tb and return self.\n",
      " |  \n",
      " |  ----------------------------------------------------------------------\n",
      " |  Data descriptors inherited from BaseException:\n",
      " |  \n",
      " |  __cause__\n",
      " |      exception cause\n",
      " |  \n",
      " |  __context__\n",
      " |      exception context\n",
      " |  \n",
      " |  __dict__\n",
      " |  \n",
      " |  __suppress_context__\n",
      " |  \n",
      " |  __traceback__\n",
      " |  \n",
      " |  args\n",
      "\n"
     ]
    }
   ],
   "source": [
    "help(\"ValueError\")"
   ]
  },
  {
   "cell_type": "markdown",
   "id": "0641371e",
   "metadata": {},
   "source": [
    "### 3. clear()"
   ]
  },
  {
   "cell_type": "code",
   "execution_count": 110,
   "id": "7c3d3540",
   "metadata": {},
   "outputs": [
    {
     "name": "stdout",
     "output_type": "stream",
     "text": [
      "Original list = ['Pankaj', 'Saurabh', 'Sahil', 'Nikita', 'Sakshi']\n",
      "Modified list = []\n"
     ]
    }
   ],
   "source": [
    "student_names = [\"Pankaj\",\"Saurabh\",\"Sahil\",\"Nikita\",\"Sakshi\"]\n",
    "print(f\"Original list = {student_names}\")\n",
    "student_names.clear()\n",
    "print(f\"Modified list = {student_names}\")"
   ]
  },
  {
   "cell_type": "markdown",
   "id": "69fec8ca",
   "metadata": {},
   "source": [
    "## 4. del keyword"
   ]
  },
  {
   "cell_type": "code",
   "execution_count": 111,
   "id": "2c3bc1bf",
   "metadata": {},
   "outputs": [
    {
     "name": "stdout",
     "output_type": "stream",
     "text": [
      "Original list = ['Pankaj', 'Saurabh', 'Sahil', 'Nikita', 'Sakshi']\n"
     ]
    },
    {
     "data": {
      "text/plain": [
       "'Sahil'"
      ]
     },
     "execution_count": 111,
     "metadata": {},
     "output_type": "execute_result"
    }
   ],
   "source": [
    "student_names = [\"Pankaj\",\"Saurabh\",\"Sahil\",\"Nikita\",\"Sakshi\"]\n",
    "print(f\"Original list = {student_names}\")\n",
    "student_names[2]\n",
    "# print(f\"Modified list = {student_names}\")"
   ]
  },
  {
   "cell_type": "code",
   "execution_count": 112,
   "id": "0c528e1d",
   "metadata": {},
   "outputs": [
    {
     "name": "stdout",
     "output_type": "stream",
     "text": [
      "Original list = ['Pankaj', 'Saurabh', 'Sahil', 'Nikita', 'Sakshi']\n",
      "Modified list = ['Pankaj', 'Saurabh', 'Nikita', 'Sakshi']\n"
     ]
    }
   ],
   "source": [
    "student_names = [\"Pankaj\",\"Saurabh\",\"Sahil\",\"Nikita\",\"Sakshi\"]\n",
    "print(f\"Original list = {student_names}\")\n",
    "del student_names[2]\n",
    "print(f\"Modified list = {student_names}\")"
   ]
  },
  {
   "cell_type": "code",
   "execution_count": 113,
   "id": "5ce00de0",
   "metadata": {},
   "outputs": [
    {
     "name": "stdout",
     "output_type": "stream",
     "text": [
      "Original list = ['Pankaj', 'Saurabh', 'Sahil', 'Nikita', 'Sakshi']\n",
      "Modified list = ['Pankaj', 'Saurabh', 'Sahil', 'Nikita']\n"
     ]
    }
   ],
   "source": [
    "student_names = [\"Pankaj\",\"Saurabh\",\"Sahil\",\"Nikita\",\"Sakshi\"]\n",
    "print(f\"Original list = {student_names}\")\n",
    "del student_names[-1]\n",
    "print(f\"Modified list = {student_names}\")"
   ]
  },
  {
   "cell_type": "code",
   "execution_count": 114,
   "id": "f1d341df",
   "metadata": {},
   "outputs": [
    {
     "name": "stdout",
     "output_type": "stream",
     "text": [
      "Original list = ['Pankaj', 'Saurabh', 'Sahil', 'Nikita', 'Sakshi']\n",
      "Modified list = ['Saurabh', 'Sahil', 'Nikita', 'Sakshi']\n"
     ]
    }
   ],
   "source": [
    "student_names = [\"Pankaj\",\"Saurabh\",\"Sahil\",\"Nikita\",\"Sakshi\"]\n",
    "print(f\"Original list = {student_names}\")\n",
    "del student_names[0]\n",
    "print(f\"Modified list = {student_names}\")"
   ]
  },
  {
   "cell_type": "code",
   "execution_count": 115,
   "id": "292b9990",
   "metadata": {},
   "outputs": [
    {
     "name": "stdout",
     "output_type": "stream",
     "text": [
      "Original list = ['Pankaj', 'Saurabh', 'Sahil', 'Nikita', 'Sakshi']\n"
     ]
    },
    {
     "ename": "IndexError",
     "evalue": "list assignment index out of range",
     "output_type": "error",
     "traceback": [
      "\u001b[1;31m---------------------------------------------------------------------------\u001b[0m",
      "\u001b[1;31mIndexError\u001b[0m                                Traceback (most recent call last)",
      "Input \u001b[1;32mIn [115]\u001b[0m, in \u001b[0;36m<cell line: 3>\u001b[1;34m()\u001b[0m\n\u001b[0;32m      1\u001b[0m student_names \u001b[38;5;241m=\u001b[39m [\u001b[38;5;124m\"\u001b[39m\u001b[38;5;124mPankaj\u001b[39m\u001b[38;5;124m\"\u001b[39m,\u001b[38;5;124m\"\u001b[39m\u001b[38;5;124mSaurabh\u001b[39m\u001b[38;5;124m\"\u001b[39m,\u001b[38;5;124m\"\u001b[39m\u001b[38;5;124mSahil\u001b[39m\u001b[38;5;124m\"\u001b[39m,\u001b[38;5;124m\"\u001b[39m\u001b[38;5;124mNikita\u001b[39m\u001b[38;5;124m\"\u001b[39m,\u001b[38;5;124m\"\u001b[39m\u001b[38;5;124mSakshi\u001b[39m\u001b[38;5;124m\"\u001b[39m]\n\u001b[0;32m      2\u001b[0m \u001b[38;5;28mprint\u001b[39m(\u001b[38;5;124mf\u001b[39m\u001b[38;5;124m\"\u001b[39m\u001b[38;5;124mOriginal list = \u001b[39m\u001b[38;5;132;01m{\u001b[39;00mstudent_names\u001b[38;5;132;01m}\u001b[39;00m\u001b[38;5;124m\"\u001b[39m)\n\u001b[1;32m----> 3\u001b[0m \u001b[38;5;28;01mdel\u001b[39;00m student_names[\u001b[38;5;241m10\u001b[39m]\n\u001b[0;32m      4\u001b[0m \u001b[38;5;28mprint\u001b[39m(\u001b[38;5;124mf\u001b[39m\u001b[38;5;124m\"\u001b[39m\u001b[38;5;124mModified list = \u001b[39m\u001b[38;5;132;01m{\u001b[39;00mstudent_names\u001b[38;5;132;01m}\u001b[39;00m\u001b[38;5;124m\"\u001b[39m)\n",
      "\u001b[1;31mIndexError\u001b[0m: list assignment index out of range"
     ]
    }
   ],
   "source": [
    "student_names = [\"Pankaj\",\"Saurabh\",\"Sahil\",\"Nikita\",\"Sakshi\"]\n",
    "print(f\"Original list = {student_names}\")\n",
    "del student_names[10]\n",
    "print(f\"Modified list = {student_names}\")"
   ]
  },
  {
   "cell_type": "code",
   "execution_count": 116,
   "id": "c6d55181",
   "metadata": {},
   "outputs": [
    {
     "ename": "NameError",
     "evalue": "name 'xyz' is not defined",
     "output_type": "error",
     "traceback": [
      "\u001b[1;31m---------------------------------------------------------------------------\u001b[0m",
      "\u001b[1;31mNameError\u001b[0m                                 Traceback (most recent call last)",
      "Input \u001b[1;32mIn [116]\u001b[0m, in \u001b[0;36m<cell line: 1>\u001b[1;34m()\u001b[0m\n\u001b[1;32m----> 1\u001b[0m \u001b[43mxyz\u001b[49m\n",
      "\u001b[1;31mNameError\u001b[0m: name 'xyz' is not defined"
     ]
    }
   ],
   "source": [
    "xyz "
   ]
  },
  {
   "cell_type": "code",
   "execution_count": 117,
   "id": "8f31280f",
   "metadata": {},
   "outputs": [
    {
     "name": "stdout",
     "output_type": "stream",
     "text": [
      "Original list = ['Pankaj', 'Saurabh', 'Sahil', 'Nikita', 'Sakshi']\n"
     ]
    },
    {
     "ename": "NameError",
     "evalue": "name 'student_names' is not defined",
     "output_type": "error",
     "traceback": [
      "\u001b[1;31m---------------------------------------------------------------------------\u001b[0m",
      "\u001b[1;31mNameError\u001b[0m                                 Traceback (most recent call last)",
      "Input \u001b[1;32mIn [117]\u001b[0m, in \u001b[0;36m<cell line: 4>\u001b[1;34m()\u001b[0m\n\u001b[0;32m      2\u001b[0m \u001b[38;5;28mprint\u001b[39m(\u001b[38;5;124mf\u001b[39m\u001b[38;5;124m\"\u001b[39m\u001b[38;5;124mOriginal list = \u001b[39m\u001b[38;5;132;01m{\u001b[39;00mstudent_names\u001b[38;5;132;01m}\u001b[39;00m\u001b[38;5;124m\"\u001b[39m)\n\u001b[0;32m      3\u001b[0m \u001b[38;5;28;01mdel\u001b[39;00m student_names\n\u001b[1;32m----> 4\u001b[0m \u001b[38;5;28mprint\u001b[39m(\u001b[38;5;124mf\u001b[39m\u001b[38;5;124m\"\u001b[39m\u001b[38;5;124mModified list = \u001b[39m\u001b[38;5;132;01m{\u001b[39;00mstudent_names\u001b[38;5;132;01m}\u001b[39;00m\u001b[38;5;124m\"\u001b[39m)\n",
      "\u001b[1;31mNameError\u001b[0m: name 'student_names' is not defined"
     ]
    }
   ],
   "source": [
    "student_names = [\"Pankaj\",\"Saurabh\",\"Sahil\",\"Nikita\",\"Sakshi\"]\n",
    "print(f\"Original list = {student_names}\")\n",
    "del student_names\n",
    "print(f\"Modified list = {student_names}\")"
   ]
  },
  {
   "cell_type": "code",
   "execution_count": 118,
   "id": "62345e6b",
   "metadata": {},
   "outputs": [
    {
     "name": "stdout",
     "output_type": "stream",
     "text": [
      "10\n"
     ]
    },
    {
     "ename": "NameError",
     "evalue": "name 'num' is not defined",
     "output_type": "error",
     "traceback": [
      "\u001b[1;31m---------------------------------------------------------------------------\u001b[0m",
      "\u001b[1;31mNameError\u001b[0m                                 Traceback (most recent call last)",
      "Input \u001b[1;32mIn [118]\u001b[0m, in \u001b[0;36m<cell line: 4>\u001b[1;34m()\u001b[0m\n\u001b[0;32m      2\u001b[0m \u001b[38;5;28mprint\u001b[39m(num)\n\u001b[0;32m      3\u001b[0m \u001b[38;5;28;01mdel\u001b[39;00m num\n\u001b[1;32m----> 4\u001b[0m \u001b[38;5;28mprint\u001b[39m(\u001b[43mnum\u001b[49m)\n",
      "\u001b[1;31mNameError\u001b[0m: name 'num' is not defined"
     ]
    }
   ],
   "source": [
    "num = 10\n",
    "print(num)\n",
    "del num\n",
    "print(num)"
   ]
  },
  {
   "cell_type": "code",
   "execution_count": 122,
   "id": "45d1819b",
   "metadata": {},
   "outputs": [
    {
     "ename": "TypeError",
     "evalue": "list indices must be integers or slices, not tuple",
     "output_type": "error",
     "traceback": [
      "\u001b[1;31m---------------------------------------------------------------------------\u001b[0m",
      "\u001b[1;31mTypeError\u001b[0m                                 Traceback (most recent call last)",
      "Input \u001b[1;32mIn [122]\u001b[0m, in \u001b[0;36m<cell line: 2>\u001b[1;34m()\u001b[0m\n\u001b[0;32m      1\u001b[0m lst\u001b[38;5;241m=\u001b[39m[\u001b[38;5;241m1\u001b[39m,\u001b[38;5;241m2\u001b[39m]\n\u001b[1;32m----> 2\u001b[0m \u001b[38;5;28;01mdel\u001b[39;00m lst[\u001b[38;5;241m1\u001b[39m,\u001b[38;5;241m2\u001b[39m]\n\u001b[0;32m      3\u001b[0m lst[\u001b[38;5;241m1\u001b[39m]\n",
      "\u001b[1;31mTypeError\u001b[0m: list indices must be integers or slices, not tuple"
     ]
    }
   ],
   "source": [
    "lst=[1,2]\n",
    "del lst[1,2]\n",
    "lst[1]"
   ]
  },
  {
   "cell_type": "code",
   "execution_count": null,
   "id": "e3934e5d",
   "metadata": {},
   "outputs": [],
   "source": []
  },
  {
   "cell_type": "code",
   "execution_count": null,
   "id": "fa8d7da7",
   "metadata": {},
   "outputs": [],
   "source": []
  }
 ],
 "metadata": {
  "kernelspec": {
   "display_name": "Python 3 (ipykernel)",
   "language": "python",
   "name": "python3"
  },
  "language_info": {
   "codemirror_mode": {
    "name": "ipython",
    "version": 3
   },
   "file_extension": ".py",
   "mimetype": "text/x-python",
   "name": "python",
   "nbconvert_exporter": "python",
   "pygments_lexer": "ipython3",
   "version": "3.10.5"
  }
 },
 "nbformat": 4,
 "nbformat_minor": 5
}
