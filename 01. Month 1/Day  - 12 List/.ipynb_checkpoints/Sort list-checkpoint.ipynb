{
 "cells": [
  {
   "cell_type": "markdown",
   "id": "5b184c9b",
   "metadata": {},
   "source": [
    "# Sorting"
   ]
  },
  {
   "cell_type": "markdown",
   "id": "e29c8fa9",
   "metadata": {},
   "source": [
    "## 1. Ascending Order"
   ]
  },
  {
   "cell_type": "code",
   "execution_count": 1,
   "id": "73c95e49",
   "metadata": {},
   "outputs": [
    {
     "name": "stdout",
     "output_type": "stream",
     "text": [
      "Original List       = [5, 4, 6, 7, 8, 9, 3, 2, 1]\n",
      "Sorted numberd list = [1, 2, 3, 4, 5, 6, 7, 8, 9]\n"
     ]
    }
   ],
   "source": [
    "number = [5,4,6,7,8,9,3,2,1]\n",
    "print(f\"Original List       = {number}\")\n",
    "number.sort()\n",
    "print(f\"Sorted numberd list = {number}\")"
   ]
  },
  {
   "cell_type": "code",
   "execution_count": 2,
   "id": "def3d834",
   "metadata": {},
   "outputs": [
    {
     "name": "stdout",
     "output_type": "stream",
     "text": [
      "Original List       = [5, 4, 6, 7, 8, 9, 3, 2, 1, 5.5, 9.9]\n",
      "Sorted numberd list = [1, 2, 3, 4, 5, 5.5, 6, 7, 8, 9, 9.9]\n"
     ]
    }
   ],
   "source": [
    "number = [5,4,6,7,8,9,3,2,1,5.5,9.9]\n",
    "print(f\"Original List       = {number}\")\n",
    "number.sort()\n",
    "print(f\"Sorted numberd list = {number}\")"
   ]
  },
  {
   "cell_type": "code",
   "execution_count": 3,
   "id": "8d18a8ed",
   "metadata": {},
   "outputs": [
    {
     "name": "stdout",
     "output_type": "stream",
     "text": [
      "Original List       = [5, 4, 6, 7, 8, 9, 3, 2, 1, 5.5, 9.9, 'Python']\n"
     ]
    },
    {
     "ename": "TypeError",
     "evalue": "'<' not supported between instances of 'str' and 'float'",
     "output_type": "error",
     "traceback": [
      "\u001b[1;31m---------------------------------------------------------------------------\u001b[0m",
      "\u001b[1;31mTypeError\u001b[0m                                 Traceback (most recent call last)",
      "Input \u001b[1;32mIn [3]\u001b[0m, in \u001b[0;36m<cell line: 3>\u001b[1;34m()\u001b[0m\n\u001b[0;32m      1\u001b[0m number \u001b[38;5;241m=\u001b[39m [\u001b[38;5;241m5\u001b[39m,\u001b[38;5;241m4\u001b[39m,\u001b[38;5;241m6\u001b[39m,\u001b[38;5;241m7\u001b[39m,\u001b[38;5;241m8\u001b[39m,\u001b[38;5;241m9\u001b[39m,\u001b[38;5;241m3\u001b[39m,\u001b[38;5;241m2\u001b[39m,\u001b[38;5;241m1\u001b[39m,\u001b[38;5;241m5.5\u001b[39m,\u001b[38;5;241m9.9\u001b[39m,\u001b[38;5;124m\"\u001b[39m\u001b[38;5;124mPython\u001b[39m\u001b[38;5;124m\"\u001b[39m]\n\u001b[0;32m      2\u001b[0m \u001b[38;5;28mprint\u001b[39m(\u001b[38;5;124mf\u001b[39m\u001b[38;5;124m\"\u001b[39m\u001b[38;5;124mOriginal List       = \u001b[39m\u001b[38;5;132;01m{\u001b[39;00mnumber\u001b[38;5;132;01m}\u001b[39;00m\u001b[38;5;124m\"\u001b[39m)\n\u001b[1;32m----> 3\u001b[0m \u001b[43mnumber\u001b[49m\u001b[38;5;241;43m.\u001b[39;49m\u001b[43msort\u001b[49m\u001b[43m(\u001b[49m\u001b[43m)\u001b[49m\n\u001b[0;32m      4\u001b[0m \u001b[38;5;28mprint\u001b[39m(\u001b[38;5;124mf\u001b[39m\u001b[38;5;124m\"\u001b[39m\u001b[38;5;124mSorted numberd list = \u001b[39m\u001b[38;5;132;01m{\u001b[39;00mnumber\u001b[38;5;132;01m}\u001b[39;00m\u001b[38;5;124m\"\u001b[39m)\n",
      "\u001b[1;31mTypeError\u001b[0m: '<' not supported between instances of 'str' and 'float'"
     ]
    }
   ],
   "source": [
    "number = [5,4,6,7,8,9,3,2,1,5.5,9.9,\"Python\"]\n",
    "print(f\"Original List       = {number}\")\n",
    "number.sort()\n",
    "print(f\"Sorted numberd list = {number}\")"
   ]
  },
  {
   "cell_type": "markdown",
   "id": "77bb4e10",
   "metadata": {},
   "source": [
    "#### comparision between string and float/int will not happen"
   ]
  },
  {
   "cell_type": "code",
   "execution_count": 4,
   "id": "09f58dee",
   "metadata": {},
   "outputs": [
    {
     "name": "stdout",
     "output_type": "stream",
     "text": [
      "Original List       = ['Pankaj', 'Saurabh', 'Sahil', 'Nikita', 'Sakshi']\n",
      "Sorted numberd list = ['Nikita', 'Pankaj', 'Sahil', 'Sakshi', 'Saurabh']\n"
     ]
    }
   ],
   "source": [
    "student_names = [\"Pankaj\",\"Saurabh\",\"Sahil\",\"Nikita\",\"Sakshi\"]\n",
    "print(f\"Original List       = {student_names}\")\n",
    "student_names.sort()\n",
    "print(f\"Sorted numberd list = {student_names}\")"
   ]
  },
  {
   "cell_type": "code",
   "execution_count": 5,
   "id": "a61a2f78",
   "metadata": {},
   "outputs": [
    {
     "name": "stdout",
     "output_type": "stream",
     "text": [
      "Original List       = ['Phy', 'Che', 'Math', 'Bio', 'Eng']\n",
      "Sorted numberd list = ['Bio', 'Che', 'Eng', 'Math', 'Phy']\n"
     ]
    }
   ],
   "source": [
    "sub_name = [\"Phy\",\"Che\",\"Math\",\"Bio\",\"Eng\"]\n",
    "print(f\"Original List       = {sub_name}\")\n",
    "sub_name.sort()\n",
    "print(f\"Sorted numberd list = {sub_name}\")"
   ]
  },
  {
   "cell_type": "markdown",
   "id": "08581738",
   "metadata": {},
   "source": [
    "## 2. Descending Order"
   ]
  },
  {
   "cell_type": "code",
   "execution_count": 6,
   "id": "2c221b43",
   "metadata": {},
   "outputs": [
    {
     "name": "stdout",
     "output_type": "stream",
     "text": [
      "Original List       = ['Phy', 'Che', 'Math', 'Bio', 'Eng']\n",
      "Sorted numberd list = ['Bio', 'Che', 'Eng', 'Math', 'Phy']\n"
     ]
    }
   ],
   "source": [
    "sub_name = [\"Phy\",\"Che\",\"Math\",\"Bio\",\"Eng\"]\n",
    "print(f\"Original List       = {sub_name}\")\n",
    "sub_name.sort()\n",
    "print(f\"Sorted numberd list = {sub_name}\")"
   ]
  },
  {
   "cell_type": "code",
   "execution_count": 8,
   "id": "d19af04e",
   "metadata": {},
   "outputs": [
    {
     "name": "stdout",
     "output_type": "stream",
     "text": [
      "Original List              = ['Phy', 'Che', 'Math', 'Bio', 'Eng']\n",
      "Sorted numberd list in Asc = ['Bio', 'Che', 'Eng', 'Math', 'Phy']\n",
      "Sorted numberd list in Dec = ['Phy', 'Math', 'Eng', 'Che', 'Bio']\n"
     ]
    }
   ],
   "source": [
    "sub_name = [\"Phy\",\"Che\",\"Math\",\"Bio\",\"Eng\"]\n",
    "print(f\"Original List              = {sub_name}\")\n",
    "sub_name.sort()\n",
    "print(f\"Sorted numberd list in Asc = {sub_name}\")\n",
    "print(f\"Sorted numberd list in Dec = {sub_name[::-1]}\")"
   ]
  },
  {
   "cell_type": "code",
   "execution_count": 10,
   "id": "ba027a73",
   "metadata": {},
   "outputs": [
    {
     "name": "stdout",
     "output_type": "stream",
     "text": [
      "Original List              = ['Phy', 'Che', 'Math', 'Bio', 'Eng']\n",
      "Sorted numberd list in Dec = ['Phy', 'Math', 'Eng', 'Che', 'Bio']\n"
     ]
    }
   ],
   "source": [
    "sub_name = [\"Phy\",\"Che\",\"Math\",\"Bio\",\"Eng\"]\n",
    "print(f\"Original List              = {sub_name}\")\n",
    "sub_name.sort(reverse=True)\n",
    "print(f\"Sorted numberd list in Dec = {sub_name}\")"
   ]
  },
  {
   "cell_type": "code",
   "execution_count": 26,
   "id": "1d2d8343",
   "metadata": {},
   "outputs": [
    {
     "data": {
      "text/plain": [
       "True"
      ]
     },
     "execution_count": 26,
     "metadata": {},
     "output_type": "execute_result"
    }
   ],
   "source": [
    "x = [\"Paa\",\"Pab\"]\n",
    "x[0]\n",
    "x[1]\n",
    "x[0] < x[1]"
   ]
  },
  {
   "cell_type": "code",
   "execution_count": 17,
   "id": "2a4a3334",
   "metadata": {},
   "outputs": [
    {
     "name": "stdout",
     "output_type": "stream",
     "text": [
      "1 2 3\n",
      "\n",
      "niranjan\n"
     ]
    }
   ],
   "source": [
    "strn = \"niranjan123\"\n",
    "#strn1 = int(strn)\n",
    "\n",
    "num = \"\"\n",
    "\n",
    "alpha = \"\"\n",
    "\n",
    "for char in strn:\n",
    "    \n",
    "    if char <= '0' or char >= '9':\n",
    "        alpha += char\n",
    "\n",
    "    else:\n",
    "        num += char\n",
    "        \n",
    "print(' '.join(num))\n",
    "print()\n",
    "print(\"\".join(alpha))"
   ]
  },
  {
   "cell_type": "code",
   "execution_count": 30,
   "id": "59d712d4",
   "metadata": {},
   "outputs": [
    {
     "data": {
      "text/plain": [
       "48"
      ]
     },
     "execution_count": 30,
     "metadata": {},
     "output_type": "execute_result"
    }
   ],
   "source": [
    "ord(\"0\") # < ord(\"1\")"
   ]
  },
  {
   "cell_type": "code",
   "execution_count": 18,
   "id": "853661b6",
   "metadata": {},
   "outputs": [
    {
     "data": {
      "text/plain": [
       "[range(1, 10), range(11, 20)]"
      ]
     },
     "execution_count": 18,
     "metadata": {},
     "output_type": "execute_result"
    }
   ],
   "source": [
    "[range(1,10),range(11,20)]"
   ]
  },
  {
   "cell_type": "code",
   "execution_count": 19,
   "id": "d1b4cf48",
   "metadata": {},
   "outputs": [
    {
     "name": "stdout",
     "output_type": "stream",
     "text": [
      "range(1, 10)\n",
      "range(11, 20)\n"
     ]
    }
   ],
   "source": [
    "for i in [range(1,10),range(11,20)]:\n",
    "    print(i)"
   ]
  },
  {
   "cell_type": "code",
   "execution_count": 20,
   "id": "5eaa95e2",
   "metadata": {},
   "outputs": [
    {
     "name": "stdout",
     "output_type": "stream",
     "text": [
      "1\n",
      "2\n",
      "3\n",
      "4\n",
      "5\n",
      "6\n",
      "7\n",
      "8\n",
      "9\n",
      "11\n",
      "12\n",
      "13\n",
      "14\n",
      "15\n",
      "16\n",
      "17\n",
      "18\n",
      "19\n"
     ]
    }
   ],
   "source": [
    "for i in [range(1,10),range(11,20)]:\n",
    "    for j in i:\n",
    "        print(j)"
   ]
  },
  {
   "cell_type": "code",
   "execution_count": null,
   "id": "90efe491",
   "metadata": {},
   "outputs": [],
   "source": []
  },
  {
   "cell_type": "code",
   "execution_count": null,
   "id": "90fa5f63",
   "metadata": {},
   "outputs": [],
   "source": []
  }
 ],
 "metadata": {
  "kernelspec": {
   "display_name": "Python 3 (ipykernel)",
   "language": "python",
   "name": "python3"
  },
  "language_info": {
   "codemirror_mode": {
    "name": "ipython",
    "version": 3
   },
   "file_extension": ".py",
   "mimetype": "text/x-python",
   "name": "python",
   "nbconvert_exporter": "python",
   "pygments_lexer": "ipython3",
   "version": "3.10.5"
  }
 },
 "nbformat": 4,
 "nbformat_minor": 5
}
