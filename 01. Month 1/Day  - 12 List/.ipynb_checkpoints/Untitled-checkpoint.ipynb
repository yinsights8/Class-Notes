{
 "cells": [
  {
   "cell_type": "code",
   "execution_count": 1,
   "id": "9b075dd7",
   "metadata": {},
   "outputs": [],
   "source": [
    "lis = [1,2,3]\n",
    "lis.insert(0, \" \")"
   ]
  },
  {
   "cell_type": "code",
   "execution_count": 2,
   "id": "cdfb56ee",
   "metadata": {},
   "outputs": [
    {
     "data": {
      "text/plain": [
       "[' ', 1, 2, 3]"
      ]
     },
     "execution_count": 2,
     "metadata": {},
     "output_type": "execute_result"
    }
   ],
   "source": [
    "lis"
   ]
  },
  {
   "cell_type": "code",
   "execution_count": 3,
   "id": "35c8da00",
   "metadata": {},
   "outputs": [],
   "source": [
    "list(range(1,51))\n",
    "even_list = []\n",
    "odd_list = []"
   ]
  },
  {
   "cell_type": "code",
   "execution_count": 1,
   "id": "22721d2a",
   "metadata": {},
   "outputs": [
    {
     "name": "stdout",
     "output_type": "stream",
     "text": [
      "even list is: [2, 4, 6, 8, 10, 12, 14, 16, 18, 20, 22, 24, 26, 28, 30, 32, 34, 36, 38, 40, 42, 44, 46, 48, 50]\n",
      "odd lis is: [1, 3, 5, 7, 9, 11, 13, 15, 17, 19, 21, 23, 25, 27, 29, 31, 33, 35, 37, 39, 41, 43, 45, 47, 49]\n"
     ]
    }
   ],
   "source": [
    "even_list = []\n",
    "odd_list = []\n",
    "\n",
    "for num in list(range(1,51)):\n",
    "    \n",
    "    if num % 2 == 0:\n",
    "        even_list.append(num)\n",
    "        \n",
    "    else:\n",
    "        odd_list.append(num)\n",
    "\n",
    "print(f\"even list is: {even_list}\")\n",
    "print(f\"odd lis is: {odd_list}\")"
   ]
  },
  {
   "cell_type": "code",
   "execution_count": 5,
   "id": "e42e440c",
   "metadata": {},
   "outputs": [
    {
     "data": {
      "text/plain": [
       "110"
      ]
     },
     "execution_count": 5,
     "metadata": {},
     "output_type": "execute_result"
    }
   ],
   "source": [
    "ord(\"n\")"
   ]
  },
  {
   "cell_type": "code",
   "execution_count": 6,
   "id": "6ffdd22c",
   "metadata": {},
   "outputs": [
    {
     "data": {
      "text/plain": [
       "57"
      ]
     },
     "execution_count": 6,
     "metadata": {},
     "output_type": "execute_result"
    }
   ],
   "source": [
    "ord(\"9\")"
   ]
  },
  {
   "cell_type": "code",
   "execution_count": 3,
   "id": "e8b20b81",
   "metadata": {},
   "outputs": [
    {
     "name": "stdout",
     "output_type": "stream",
     "text": [
      "0   :::   yash\n",
      "1   :::   rutik\n",
      "2   :::   kunal\n",
      "3   :::   anagha\n",
      "4   :::   samruddhi\n"
     ]
    }
   ],
   "source": [
    "li = [\"yash\", \"rutik\", \"kunal\", \"anagha\",\"samruddhi\"]\n",
    "\n",
    "for index, item in enumerate(li):\n",
    "    print(f\"{index}   :::   {item}\")"
   ]
  },
  {
   "cell_type": "code",
   "execution_count": 4,
   "id": "69ffebfe",
   "metadata": {},
   "outputs": [
    {
     "data": {
      "text/plain": [
       "[1, 2, 3, 4, 5, 6, 7, 8, 9, 10]"
      ]
     },
     "execution_count": 4,
     "metadata": {},
     "output_type": "execute_result"
    }
   ],
   "source": [
    "list(range(1,11))"
   ]
  },
  {
   "cell_type": "code",
   "execution_count": 10,
   "id": "c75e461a",
   "metadata": {},
   "outputs": [
    {
     "name": "stdout",
     "output_type": "stream",
     "text": [
      "even_numbers: [2, 4, 6, 8, 10]\n",
      "odd_numbers: [1, 3, 5, 7, 9]\n"
     ]
    }
   ],
   "source": [
    "odd_num = list(range(1,11,2))\n",
    "even_num  = list(range(2,11,2))\n",
    "print(f\"even_numbers: {even_num}\")\n",
    "print(f\"odd_numbers: {odd_num}\")"
   ]
  },
  {
   "cell_type": "code",
   "execution_count": 15,
   "id": "eb63a4c1",
   "metadata": {},
   "outputs": [
    {
     "name": "stdout",
     "output_type": "stream",
     "text": [
      "Name  :::  Pankaj\n",
      "Name  :::  Saurabh\n",
      "Name  :::  Sahil\n",
      "Name  :::  Nikita\n",
      "Name  :::  Sakshi\n"
     ]
    }
   ],
   "source": [
    "student_names = [\"Pankaj\",\"Saurabh\",\"Sahil\",\"Nikita\",\"Sakshi\"]\n",
    "for val in range(len(student_names)):\n",
    "    print(f\"Name  :::  {student_names[val]}\")"
   ]
  },
  {
   "cell_type": "code",
   "execution_count": 18,
   "id": "347d8a36",
   "metadata": {},
   "outputs": [
    {
     "name": "stdout",
     "output_type": "stream",
     "text": [
      "At 0  :::  Pankaj\n",
      "At 1  :::  Saurabh\n",
      "At 2  :::  Sahil\n",
      "At 3  :::  Nikita\n",
      "At 4  :::  Sakshi\n"
     ]
    }
   ],
   "source": [
    "for index, val in enumerate(range(len(student_names))):\n",
    "    print(f\"At {index}  :::  {student_names[val]}\")"
   ]
  },
  {
   "cell_type": "code",
   "execution_count": null,
   "id": "e360e94b",
   "metadata": {},
   "outputs": [],
   "source": []
  },
  {
   "cell_type": "code",
   "execution_count": 22,
   "id": "f2256412",
   "metadata": {},
   "outputs": [
    {
     "name": "stdout",
     "output_type": "stream",
     "text": [
      "0\n",
      "1\n",
      "8\n",
      "27\n",
      "64\n"
     ]
    }
   ],
   "source": [
    "# How to manupilate string\n",
    "for val in range(len(student_names)):\n",
    "    print(val ** 3)"
   ]
  },
  {
   "cell_type": "code",
   "execution_count": 27,
   "id": "94906d5d",
   "metadata": {},
   "outputs": [
    {
     "name": "stdout",
     "output_type": "stream",
     "text": [
      "1 is intiger\n",
      "2 is intiger\n",
      "3 is intiger\n",
      "4.4 is float\n",
      "5.5 is float\n",
      "6.6 is float\n",
      "Python is string\n",
      "And is string\n",
      "Data is string\n",
      "Science is string\n",
      "With is string\n",
      "Machine is string\n",
      "Learning is string\n",
      "(5+5j) The number is with another data type\n"
     ]
    }
   ],
   "source": [
    "# separate the intiger and characters different \n",
    "li = [1, 2, 3, 4.4, 5.5, 6.6, 'Python', 'And', 'Data', 'Science', 'With', 'Machine', 'Learning',5+5j]\n",
    "\n",
    "for item in li:\n",
    "    if type(item) == int:\n",
    "        print(f\"{item} is intiger\")\n",
    "        \n",
    "    elif type(item) == str:\n",
    "        print(f\"{item} is string\")\n",
    "    \n",
    "    elif type(item) == float:\n",
    "        print(f\"{item} is float\")\n",
    "    else:\n",
    "        print(f\"{item} The number is with another data type\")"
   ]
  },
  {
   "cell_type": "code",
   "execution_count": 34,
   "id": "aeffa09e",
   "metadata": {},
   "outputs": [
    {
     "name": "stdout",
     "output_type": "stream",
     "text": [
      "1 is intiger\n",
      "2 is intiger\n",
      "3 is intiger\n",
      "4.4 has another data type\n",
      "5.5 has another data type\n",
      "6.6 has another data type\n",
      "Python is alpha\n",
      "And is alpha\n",
      "Data is alpha\n",
      "Science is alpha\n",
      "With is alpha\n",
      "Machine is alpha\n",
      "Learning is alpha\n",
      "(5+5j) has another data type\n"
     ]
    }
   ],
   "source": [
    "check = [1, 2, 3, 4.4, 5.5, 6.6, 'Python', 'And', 'Data', 'Science', 'With', 'Machine', 'Learning',5+5j]\n",
    "\n",
    "for item in check:\n",
    "    \n",
    "    if str(item).isnumeric():\n",
    "        print(f\"{item} is intiger\")\n",
    "        \n",
    "    elif str(item).isalpha():\n",
    "        print(f\"{item} is alpha\")\n",
    "    \n",
    "    elif not str(item).isalpha() and not str(item).isnumeric() and not complex(item):\n",
    "        print(f\"{item} is float\")\n",
    "        \n",
    "    else:\n",
    "        print(f\"{item} has another data type\")"
   ]
  },
  {
   "cell_type": "code",
   "execution_count": null,
   "id": "65698ffd",
   "metadata": {},
   "outputs": [],
   "source": []
  },
  {
   "cell_type": "code",
   "execution_count": 39,
   "id": "a3fa2271",
   "metadata": {},
   "outputs": [],
   "source": [
    "li = []\n",
    "li.append(\"yash\")"
   ]
  },
  {
   "cell_type": "code",
   "execution_count": 41,
   "id": "a745a644",
   "metadata": {},
   "outputs": [],
   "source": [
    "li.append({\"yash\",1})"
   ]
  },
  {
   "cell_type": "code",
   "execution_count": 42,
   "id": "b68156cf",
   "metadata": {},
   "outputs": [
    {
     "data": {
      "text/plain": [
       "['yash', {1, 'yash'}]"
      ]
     },
     "execution_count": 42,
     "metadata": {},
     "output_type": "execute_result"
    }
   ],
   "source": [
    "li"
   ]
  },
  {
   "cell_type": "code",
   "execution_count": 47,
   "id": "002d95ec",
   "metadata": {},
   "outputs": [
    {
     "data": {
      "text/plain": [
       "{1, 'yash'}"
      ]
     },
     "execution_count": 47,
     "metadata": {},
     "output_type": "execute_result"
    }
   ],
   "source": [
    "s = {1, 'yash'}\n",
    "s"
   ]
  },
  {
   "cell_type": "code",
   "execution_count": 59,
   "id": "d354aac1",
   "metadata": {},
   "outputs": [
    {
     "name": "stdout",
     "output_type": "stream",
     "text": [
      "[1, 2, 3, 4, 5, 6, 7, 8, 9]\n"
     ]
    }
   ],
   "source": [
    "l1 = [1,2,3]\n",
    "l2 = [4,5,6]\n",
    "l3 = [7,8,9]\n",
    "\n",
    "\n",
    "l1.extend(l2)\n",
    "l1.extend(l3)\n",
    "\n",
    "print(l1)"
   ]
  },
  {
   "cell_type": "code",
   "execution_count": 60,
   "id": "c298ee98",
   "metadata": {},
   "outputs": [
    {
     "data": {
      "text/plain": [
       "[1, 2, 3, 4, 5, 6, 7, 8, 9]"
      ]
     },
     "execution_count": 60,
     "metadata": {},
     "output_type": "execute_result"
    }
   ],
   "source": [
    "l1"
   ]
  },
  {
   "cell_type": "code",
   "execution_count": 63,
   "id": "0362e944",
   "metadata": {},
   "outputs": [],
   "source": [
    "w = [1,2,3,4,4.5,6.5,2.5,\"yash\", \"dhakade\"]\n",
    "\n",
    "w.insert(4,\" \")"
   ]
  },
  {
   "cell_type": "code",
   "execution_count": 64,
   "id": "a30dadd8",
   "metadata": {},
   "outputs": [
    {
     "data": {
      "text/plain": [
       "[1, 2, 3, 4, ' ', 4.5, 6.5, 2.5, 'yash', 'dhakade']"
      ]
     },
     "execution_count": 64,
     "metadata": {},
     "output_type": "execute_result"
    }
   ],
   "source": [
    "w"
   ]
  },
  {
   "cell_type": "code",
   "execution_count": 66,
   "id": "f776ca43",
   "metadata": {},
   "outputs": [],
   "source": [
    "w.remove(3)"
   ]
  },
  {
   "cell_type": "code",
   "execution_count": 67,
   "id": "60b23ba9",
   "metadata": {},
   "outputs": [
    {
     "data": {
      "text/plain": [
       "[1, 2, 4, ' ', 4.5, 6.5, 2.5, 'yash', 'dhakade']"
      ]
     },
     "execution_count": 67,
     "metadata": {},
     "output_type": "execute_result"
    }
   ],
   "source": [
    "w"
   ]
  },
  {
   "cell_type": "code",
   "execution_count": 75,
   "id": "a720c01d",
   "metadata": {},
   "outputs": [
    {
     "name": "stdout",
     "output_type": "stream",
     "text": [
      "[1, 2, 2.5, 3, 4]\n"
     ]
    }
   ],
   "source": [
    "m = [1,2,3,4]\n",
    "m.insert(2,2.5)\n",
    "print(m)"
   ]
  },
  {
   "cell_type": "code",
   "execution_count": 80,
   "id": "5aaad7db",
   "metadata": {},
   "outputs": [
    {
     "name": "stdout",
     "output_type": "stream",
     "text": [
      "[1, 2, 4, 5, 6]\n",
      "3\n"
     ]
    }
   ],
   "source": [
    "lis = [1,2,3,4,5,6]\n",
    "\n",
    "lis1 = lis.pop(2)\n",
    "\n",
    "print(lis)\n",
    "\n",
    "print(lis1)"
   ]
  },
  {
   "cell_type": "code",
   "execution_count": 82,
   "id": "bf823440",
   "metadata": {},
   "outputs": [
    {
     "name": "stdout",
     "output_type": "stream",
     "text": [
      "Help on class ValueError in module builtins:\n",
      "\n",
      "class ValueError(Exception)\n",
      " |  Inappropriate argument value (of correct type).\n",
      " |  \n",
      " |  Method resolution order:\n",
      " |      ValueError\n",
      " |      Exception\n",
      " |      BaseException\n",
      " |      object\n",
      " |  \n",
      " |  Built-in subclasses:\n",
      " |      UnicodeError\n",
      " |  \n",
      " |  Methods defined here:\n",
      " |  \n",
      " |  __init__(self, /, *args, **kwargs)\n",
      " |      Initialize self.  See help(type(self)) for accurate signature.\n",
      " |  \n",
      " |  ----------------------------------------------------------------------\n",
      " |  Static methods defined here:\n",
      " |  \n",
      " |  __new__(*args, **kwargs) from builtins.type\n",
      " |      Create and return a new object.  See help(type) for accurate signature.\n",
      " |  \n",
      " |  ----------------------------------------------------------------------\n",
      " |  Methods inherited from BaseException:\n",
      " |  \n",
      " |  __delattr__(self, name, /)\n",
      " |      Implement delattr(self, name).\n",
      " |  \n",
      " |  __getattribute__(self, name, /)\n",
      " |      Return getattr(self, name).\n",
      " |  \n",
      " |  __reduce__(...)\n",
      " |      Helper for pickle.\n",
      " |  \n",
      " |  __repr__(self, /)\n",
      " |      Return repr(self).\n",
      " |  \n",
      " |  __setattr__(self, name, value, /)\n",
      " |      Implement setattr(self, name, value).\n",
      " |  \n",
      " |  __setstate__(...)\n",
      " |  \n",
      " |  __str__(self, /)\n",
      " |      Return str(self).\n",
      " |  \n",
      " |  with_traceback(...)\n",
      " |      Exception.with_traceback(tb) --\n",
      " |      set self.__traceback__ to tb and return self.\n",
      " |  \n",
      " |  ----------------------------------------------------------------------\n",
      " |  Data descriptors inherited from BaseException:\n",
      " |  \n",
      " |  __cause__\n",
      " |      exception cause\n",
      " |  \n",
      " |  __context__\n",
      " |      exception context\n",
      " |  \n",
      " |  __dict__\n",
      " |  \n",
      " |  __suppress_context__\n",
      " |  \n",
      " |  __traceback__\n",
      " |  \n",
      " |  args\n",
      "\n"
     ]
    }
   ],
   "source": [
    "help(\"ValueError\")"
   ]
  },
  {
   "cell_type": "code",
   "execution_count": 86,
   "id": "7cc53a5a",
   "metadata": {},
   "outputs": [
    {
     "data": {
      "text/plain": [
       "[]"
      ]
     },
     "execution_count": 86,
     "metadata": {},
     "output_type": "execute_result"
    }
   ],
   "source": [
    "w = [1,2,3,4,4.5,6.5,2.5,\"yash\", \"dhakade\"]\n",
    "w.clear()\n",
    "w"
   ]
  },
  {
   "cell_type": "code",
   "execution_count": 93,
   "id": "1ccd28eb",
   "metadata": {},
   "outputs": [
    {
     "data": {
      "text/plain": [
       "[1, 2, 3, 4.5, 6.5, 2.5, 'dhakade']"
      ]
     },
     "execution_count": 93,
     "metadata": {},
     "output_type": "execute_result"
    }
   ],
   "source": [
    "w = [1,2,3,4,4.5,6.5,2.5,\"yash\", \"dhakade\"]\n",
    "del w[7] \n",
    "del w[3]\n",
    "w"
   ]
  },
  {
   "cell_type": "code",
   "execution_count": 95,
   "id": "3cb3061c",
   "metadata": {},
   "outputs": [],
   "source": [
    "w1 = [1,2,3,4,4.5,6.5,2.5,\"yash\", \"dhakade\"]"
   ]
  },
  {
   "cell_type": "code",
   "execution_count": 102,
   "id": "7169014e",
   "metadata": {},
   "outputs": [
    {
     "name": "stdout",
     "output_type": "stream",
     "text": [
      "[1, 2, 3, 4, 4.5, 6.5, 2.5, 'yash', 'dhakade']\n",
      "None\n"
     ]
    }
   ],
   "source": [
    "print(w1)\n",
    "a = w1.reverse()\n",
    "print(a)"
   ]
  },
  {
   "cell_type": "code",
   "execution_count": null,
   "id": "98566cf8",
   "metadata": {},
   "outputs": [],
   "source": []
  },
  {
   "cell_type": "code",
   "execution_count": null,
   "id": "ea820e93",
   "metadata": {},
   "outputs": [],
   "source": []
  },
  {
   "cell_type": "code",
   "execution_count": 73,
   "id": "6198f737",
   "metadata": {},
   "outputs": [
    {
     "name": "stdout",
     "output_type": "stream",
     "text": [
      "[1, 2, 3, 6]\n"
     ]
    }
   ],
   "source": [
    "my_list = [3, 1, 6, 2]\n",
    "my_list.sort()\n",
    "print(my_list)"
   ]
  },
  {
   "cell_type": "code",
   "execution_count": 74,
   "id": "cd8f966b",
   "metadata": {},
   "outputs": [
    {
     "name": "stdout",
     "output_type": "stream",
     "text": [
      "None\n"
     ]
    }
   ],
   "source": [
    "my_list = [3, 1, 6, 2]\n",
    "my_list = my_list.sort()\n",
    "print(my_list)"
   ]
  },
  {
   "cell_type": "markdown",
   "id": "94d761fa",
   "metadata": {},
   "source": [
    "# Assending order"
   ]
  },
  {
   "cell_type": "code",
   "execution_count": 111,
   "id": "4058a399",
   "metadata": {},
   "outputs": [
    {
     "name": "stdout",
     "output_type": "stream",
     "text": [
      "None\n"
     ]
    },
    {
     "data": {
      "text/plain": [
       "[1, 2, 2, 4, 5, 7, 8, 8, 9]"
      ]
     },
     "execution_count": 111,
     "metadata": {},
     "output_type": "execute_result"
    }
   ],
   "source": [
    "string = [4,5,8,9,7,8,2,1,2]\n",
    "\n",
    "b = string.sort()\n",
    "print(b)\n",
    "string"
   ]
  },
  {
   "cell_type": "code",
   "execution_count": 105,
   "id": "93de3a04",
   "metadata": {},
   "outputs": [
    {
     "data": {
      "text/plain": [
       "{1, 2, 4, 5, 7, 8, 9}"
      ]
     },
     "execution_count": 105,
     "metadata": {},
     "output_type": "execute_result"
    }
   ],
   "source": [
    "string = [4,5,8,9,7,8,2,1,2]\n",
    "set(string)"
   ]
  },
  {
   "cell_type": "code",
   "execution_count": 112,
   "id": "450d6667",
   "metadata": {},
   "outputs": [
    {
     "name": "stdout",
     "output_type": "stream",
     "text": [
      "[1, 2, 2, 4, 5, 7, 8, 8, 9]\n"
     ]
    }
   ],
   "source": [
    "x = sorted(string)\n",
    "print(x)"
   ]
  },
  {
   "cell_type": "code",
   "execution_count": 118,
   "id": "810e30fd",
   "metadata": {},
   "outputs": [
    {
     "name": "stdout",
     "output_type": "stream",
     "text": [
      "['Lemone', 'Mango', 'pineapple', 'Apple']\n",
      "\n",
      "\n",
      "['Apple', 'Lemone', 'Mango', 'pineapple']\n"
     ]
    }
   ],
   "source": [
    "c = [\"Lemone\", \"Mango\", \"pineapple\", \"Apple\"]\n",
    "print(c)\n",
    "print()\n",
    "c.sort()\n",
    "print()\n",
    "print(c)"
   ]
  },
  {
   "cell_type": "code",
   "execution_count": 120,
   "id": "d6986d2e",
   "metadata": {},
   "outputs": [
    {
     "data": {
      "text/plain": [
       "['pineapple', 'Mango', 'Lemone', 'Apple']"
      ]
     },
     "execution_count": 120,
     "metadata": {},
     "output_type": "execute_result"
    }
   ],
   "source": [
    "c.sort(reverse=True)\n",
    "\n",
    "c"
   ]
  },
  {
   "cell_type": "code",
   "execution_count": 121,
   "id": "ccee4e18",
   "metadata": {},
   "outputs": [
    {
     "name": "stdout",
     "output_type": "stream",
     "text": [
      "Original List       = [5, 4, 6, 7, 8, 9, 3, 2, 1, 5.5, 9.9, 'Python']\n"
     ]
    },
    {
     "ename": "TypeError",
     "evalue": "'<' not supported between instances of 'str' and 'float'",
     "output_type": "error",
     "traceback": [
      "\u001b[1;31m---------------------------------------------------------------------------\u001b[0m",
      "\u001b[1;31mTypeError\u001b[0m                                 Traceback (most recent call last)",
      "Input \u001b[1;32mIn [121]\u001b[0m, in \u001b[0;36m<cell line: 3>\u001b[1;34m()\u001b[0m\n\u001b[0;32m      1\u001b[0m number \u001b[38;5;241m=\u001b[39m [\u001b[38;5;241m5\u001b[39m,\u001b[38;5;241m4\u001b[39m,\u001b[38;5;241m6\u001b[39m,\u001b[38;5;241m7\u001b[39m,\u001b[38;5;241m8\u001b[39m,\u001b[38;5;241m9\u001b[39m,\u001b[38;5;241m3\u001b[39m,\u001b[38;5;241m2\u001b[39m,\u001b[38;5;241m1\u001b[39m,\u001b[38;5;241m5.5\u001b[39m,\u001b[38;5;241m9.9\u001b[39m,\u001b[38;5;124m\"\u001b[39m\u001b[38;5;124mPython\u001b[39m\u001b[38;5;124m\"\u001b[39m]\n\u001b[0;32m      2\u001b[0m \u001b[38;5;28mprint\u001b[39m(\u001b[38;5;124mf\u001b[39m\u001b[38;5;124m\"\u001b[39m\u001b[38;5;124mOriginal List       = \u001b[39m\u001b[38;5;132;01m{\u001b[39;00mnumber\u001b[38;5;132;01m}\u001b[39;00m\u001b[38;5;124m\"\u001b[39m)\n\u001b[1;32m----> 3\u001b[0m \u001b[43mnumber\u001b[49m\u001b[38;5;241;43m.\u001b[39;49m\u001b[43msort\u001b[49m\u001b[43m(\u001b[49m\u001b[43m)\u001b[49m\n\u001b[0;32m      4\u001b[0m \u001b[38;5;28mprint\u001b[39m(\u001b[38;5;124mf\u001b[39m\u001b[38;5;124m\"\u001b[39m\u001b[38;5;124mSorted numberd list = \u001b[39m\u001b[38;5;132;01m{\u001b[39;00mnumber\u001b[38;5;132;01m}\u001b[39;00m\u001b[38;5;124m\"\u001b[39m)\n",
      "\u001b[1;31mTypeError\u001b[0m: '<' not supported between instances of 'str' and 'float'"
     ]
    }
   ],
   "source": [
    "number = [5,4,6,7,8,9,3,2,1,5.5,9.9,\"Python\"]\n",
    "print(f\"Original List       = {number}\")\n",
    "number.sort()\n",
    "print(f\"Sorted numberd list = {number}\")"
   ]
  },
  {
   "cell_type": "code",
   "execution_count": 1,
   "id": "a81d8add",
   "metadata": {},
   "outputs": [
    {
     "data": {
      "text/plain": [
       "False"
      ]
     },
     "execution_count": 1,
     "metadata": {},
     "output_type": "execute_result"
    }
   ],
   "source": [
    "w1 = [1,2,3,4,4.5,6.5,2.5,\"yash\", \"dhakade\"]\n",
    "\n",
    "\"yash\" not in w1"
   ]
  },
  {
   "cell_type": "code",
   "execution_count": 2,
   "id": "65819ca4",
   "metadata": {},
   "outputs": [
    {
     "data": {
      "text/plain": [
       "True"
      ]
     },
     "execution_count": 2,
     "metadata": {},
     "output_type": "execute_result"
    }
   ],
   "source": [
    "\"yash\" in w1"
   ]
  },
  {
   "cell_type": "code",
   "execution_count": 3,
   "id": "6e02066d",
   "metadata": {},
   "outputs": [
    {
     "data": {
      "text/plain": [
       "[1, 2, 3, 4, 4.5, 6.5, 2.5, 'yash', 'dhakade']"
      ]
     },
     "execution_count": 3,
     "metadata": {},
     "output_type": "execute_result"
    }
   ],
   "source": [
    "w1"
   ]
  },
  {
   "cell_type": "code",
   "execution_count": 13,
   "id": "687f40a0",
   "metadata": {},
   "outputs": [
    {
     "name": "stdout",
     "output_type": "stream",
     "text": [
      "0 p\n",
      "1 y\n",
      "2 t\n",
      "3 h\n",
      "4 o\n",
      "5 n\n",
      "6  \n",
      "7 a\n",
      "8 n\n",
      "9 d\n",
      "10  \n",
      "11 d\n",
      "12 a\n",
      "13 t\n",
      "14 a\n",
      "15  \n",
      "16 s\n",
      "17 c\n",
      "18 i\n",
      "19 e\n",
      "20 n\n",
      "21 c\n",
      "22 e\n"
     ]
    }
   ],
   "source": [
    "#l1  = [1,2,3,4,5]\n",
    "l1 = \"python and data science\"\n",
    "for index, i in enumerate(l1):\n",
    "    print(index, i)"
   ]
  },
  {
   "cell_type": "code",
   "execution_count": 14,
   "id": "35156b81",
   "metadata": {},
   "outputs": [
    {
     "name": "stdout",
     "output_type": "stream",
     "text": [
      "python\n",
      "and\n",
      "data\n",
      "science\n",
      "learning\n",
      "with\n",
      "data\n",
      "science\n"
     ]
    }
   ],
   "source": [
    "l1 = ['python', 'and', 'data', 'science',\"learning\", \"with\", \"data\", \"science\"]\n",
    "for char in l1:\n",
    "    print(char)"
   ]
  },
  {
   "cell_type": "code",
   "execution_count": 12,
   "id": "401bca39",
   "metadata": {},
   "outputs": [
    {
     "name": "stdout",
     "output_type": "stream",
     "text": [
      "0 python\n",
      "1 and\n",
      "2 data\n",
      "3 science\n"
     ]
    }
   ],
   "source": [
    "for index, char in enumerate(l1):\n",
    "    print(index ,char)"
   ]
  },
  {
   "cell_type": "code",
   "execution_count": 55,
   "id": "6a649f01",
   "metadata": {},
   "outputs": [
    {
     "name": "stdout",
     "output_type": "stream",
     "text": [
      "1 and\n",
      "3 science\n",
      "5 with\n",
      "7 science\n"
     ]
    }
   ],
   "source": [
    "l1 = ['python', 'and', 'data', 'science',\"learning\", \"with\", \"data\", \"science\"]\n",
    "\n",
    "for index, word in enumerate(l1):\n",
    "    if index % 2 != 0:\n",
    "        print(index, word)"
   ]
  },
  {
   "cell_type": "code",
   "execution_count": 61,
   "id": "12c4b253",
   "metadata": {},
   "outputs": [
    {
     "name": "stdout",
     "output_type": "stream",
     "text": [
      "and\n",
      "science\n",
      "science\n"
     ]
    }
   ],
   "source": [
    "l1 = ['python', 'and', 'data', 'science',\"learning\", \"with\", \"data\", \"science\"]\n",
    "for word in l1:\n",
    "    if len(word) % 2 != 0:\n",
    "        print(word)"
   ]
  },
  {
   "cell_type": "code",
   "execution_count": null,
   "id": "0965f8dd",
   "metadata": {},
   "outputs": [],
   "source": []
  },
  {
   "cell_type": "code",
   "execution_count": 68,
   "id": "e00b9f4a",
   "metadata": {},
   "outputs": [
    {
     "name": "stdout",
     "output_type": "stream",
     "text": [
      "and\n",
      "science\n",
      "with\n",
      "science\n"
     ]
    }
   ],
   "source": [
    "for i in range(0,len(l1)):\n",
    "    if i % 2 == 1:\n",
    "        print(l1[i])"
   ]
  },
  {
   "cell_type": "code",
   "execution_count": null,
   "id": "ede95509",
   "metadata": {},
   "outputs": [],
   "source": []
  },
  {
   "cell_type": "code",
   "execution_count": 34,
   "id": "1306d4ed",
   "metadata": {},
   "outputs": [
    {
     "data": {
      "text/plain": [
       "['and', 'science', 'with', 'science']"
      ]
     },
     "execution_count": 34,
     "metadata": {},
     "output_type": "execute_result"
    }
   ],
   "source": [
    "l1[1::2] "
   ]
  },
  {
   "cell_type": "code",
   "execution_count": null,
   "id": "7102a5ab",
   "metadata": {},
   "outputs": [],
   "source": [
    "li = []"
   ]
  },
  {
   "cell_type": "code",
   "execution_count": null,
   "id": "473552c5",
   "metadata": {},
   "outputs": [],
   "source": []
  },
  {
   "cell_type": "code",
   "execution_count": null,
   "id": "1a1b0adc",
   "metadata": {},
   "outputs": [],
   "source": []
  },
  {
   "cell_type": "code",
   "execution_count": 20,
   "id": "d1044024",
   "metadata": {},
   "outputs": [
    {
     "name": "stdout",
     "output_type": "stream",
     "text": [
      "odd position is 1\n",
      "odd position is 3\n",
      "odd position is 5\n",
      "odd position is 7\n"
     ]
    }
   ],
   "source": [
    "l1 =[1,2,3,4,5,6,7,8]\n",
    "for i in l1:\n",
    "    if i%2!=0:\n",
    "        print(f\"odd position is {i}\")"
   ]
  },
  {
   "cell_type": "code",
   "execution_count": 32,
   "id": "2e293f6a",
   "metadata": {},
   "outputs": [
    {
     "ename": "TypeError",
     "evalue": "not all arguments converted during string formatting",
     "output_type": "error",
     "traceback": [
      "\u001b[1;31m---------------------------------------------------------------------------\u001b[0m",
      "\u001b[1;31mTypeError\u001b[0m                                 Traceback (most recent call last)",
      "Input \u001b[1;32mIn [32]\u001b[0m, in \u001b[0;36m<cell line: 4>\u001b[1;34m()\u001b[0m\n\u001b[0;32m      3\u001b[0m count_odd \u001b[38;5;241m=\u001b[39m \u001b[38;5;241m0\u001b[39m\n\u001b[0;32m      4\u001b[0m \u001b[38;5;28;01mfor\u001b[39;00m i \u001b[38;5;129;01min\u001b[39;00m l1:\n\u001b[1;32m----> 6\u001b[0m     \u001b[38;5;28;01mif\u001b[39;00m \u001b[43mi\u001b[49m\u001b[43m \u001b[49m\u001b[38;5;241;43m%\u001b[39;49m\u001b[43m \u001b[49m\u001b[38;5;241;43m2\u001b[39;49m \u001b[38;5;241m==\u001b[39m \u001b[38;5;241m0\u001b[39m:\n\u001b[0;32m      7\u001b[0m         \u001b[38;5;28mprint\u001b[39m(\u001b[38;5;124m\"\u001b[39m\u001b[38;5;124mhii\u001b[39m\u001b[38;5;124m\"\u001b[39m)\n\u001b[0;32m      9\u001b[0m \u001b[38;5;66;03m#         count_even = count_even + 1\u001b[39;00m\n\u001b[0;32m     10\u001b[0m         \n\u001b[0;32m     11\u001b[0m     \u001b[38;5;28;01melse\u001b[39;00m:\n",
      "\u001b[1;31mTypeError\u001b[0m: not all arguments converted during string formatting"
     ]
    }
   ],
   "source": [
    "l1 = ['python', 'and', 'data', 'science',\"learning\", \"with\", \"data\", \"science\"]\n",
    "count_even = 0\n",
    "count_odd = 0\n",
    "for i in l1:\n",
    "\n",
    "    if i % 2 == 0:\n",
    "        \n",
    "        print(\"hii\")\n",
    "        \n",
    "#         count_even = count_even + 1\n",
    "        \n",
    "    else:\n",
    "        \n",
    "        print(\"bye\")\n",
    "#         count_odd = count_odd + 1\n",
    "        \n",
    "print(count_even)\n",
    "print(count_odd)"
   ]
  },
  {
   "cell_type": "code",
   "execution_count": 100,
   "id": "13e95b5e",
   "metadata": {},
   "outputs": [
    {
     "data": {
      "text/plain": [
       "[0, 1, 2, 5]"
      ]
     },
     "execution_count": 100,
     "metadata": {},
     "output_type": "execute_result"
    }
   ],
   "source": [
    "e = list(range(0,3))\n",
    "e.append(5)\n",
    "e"
   ]
  },
  {
   "cell_type": "code",
   "execution_count": 169,
   "id": "acf7e344",
   "metadata": {},
   "outputs": [
    {
     "data": {
      "text/plain": [
       "['python', 'and', 'data', 'science']"
      ]
     },
     "execution_count": 169,
     "metadata": {},
     "output_type": "execute_result"
    }
   ],
   "source": [
    "r = [\"python\", \"and\", \"data\"]\n",
    "r.append(\"science\")\n",
    "r"
   ]
  },
  {
   "cell_type": "code",
   "execution_count": null,
   "id": "fe0be2bf",
   "metadata": {},
   "outputs": [],
   "source": []
  },
  {
   "cell_type": "code",
   "execution_count": 168,
   "id": "0b96fc13",
   "metadata": {},
   "outputs": [
    {
     "data": {
      "text/plain": [
       "29"
      ]
     },
     "execution_count": 168,
     "metadata": {},
     "output_type": "execute_result"
    }
   ],
   "source": [
    "len(r)"
   ]
  },
  {
   "cell_type": "code",
   "execution_count": 174,
   "id": "c9b7f88c",
   "metadata": {},
   "outputs": [
    {
     "data": {
      "text/plain": [
       "'python and data s c i e n c e'"
      ]
     },
     "execution_count": 174,
     "metadata": {},
     "output_type": "execute_result"
    }
   ],
   "source": [
    "y = [\"python\", \"and\", \"data\"]\n"
   ]
  },
  {
   "cell_type": "code",
   "execution_count": 183,
   "id": "942913c2",
   "metadata": {},
   "outputs": [
    {
     "data": {
      "text/plain": [
       "'science python'"
      ]
     },
     "execution_count": 183,
     "metadata": {},
     "output_type": "execute_result"
    }
   ],
   "source": [
    "u = \"science \"\n",
    "\n",
    "u += \"python\"\n",
    "u"
   ]
  },
  {
   "cell_type": "code",
   "execution_count": 191,
   "id": "f8728835",
   "metadata": {},
   "outputs": [],
   "source": [
    "h = [1,2,3]\n",
    "l2 = [4,5,6]\n",
    "h.extend(l2)"
   ]
  },
  {
   "cell_type": "code",
   "execution_count": 185,
   "id": "46ee27e6",
   "metadata": {},
   "outputs": [
    {
     "data": {
      "text/plain": [
       "[1, 2, 3, 4, 5, 6]"
      ]
     },
     "execution_count": 185,
     "metadata": {},
     "output_type": "execute_result"
    }
   ],
   "source": [
    "h"
   ]
  },
  {
   "cell_type": "code",
   "execution_count": 186,
   "id": "82dda291",
   "metadata": {},
   "outputs": [],
   "source": [
    "l2.extend(h)"
   ]
  },
  {
   "cell_type": "code",
   "execution_count": 187,
   "id": "9c89de09",
   "metadata": {},
   "outputs": [
    {
     "data": {
      "text/plain": [
       "[4, 5, 6, 1, 2, 3, 4, 5, 6]"
      ]
     },
     "execution_count": 187,
     "metadata": {},
     "output_type": "execute_result"
    }
   ],
   "source": [
    "l2"
   ]
  },
  {
   "cell_type": "code",
   "execution_count": 272,
   "id": "5e707593",
   "metadata": {},
   "outputs": [
    {
     "data": {
      "text/plain": [
       "[]"
      ]
     },
     "execution_count": 272,
     "metadata": {},
     "output_type": "execute_result"
    }
   ],
   "source": [
    "g = [1,4,5,6]\n",
    "g.clear()\n",
    "g"
   ]
  },
  {
   "cell_type": "code",
   "execution_count": 200,
   "id": "ca4a7b1c",
   "metadata": {},
   "outputs": [
    {
     "data": {
      "text/plain": [
       "[1, 2, 200, 3, 4, 5]"
      ]
     },
     "execution_count": 200,
     "metadata": {},
     "output_type": "execute_result"
    }
   ],
   "source": [
    "l = [1,2,3,4,5]\n",
    "l.insert(2,200)\n",
    "l"
   ]
  },
  {
   "cell_type": "code",
   "execution_count": 207,
   "id": "c3a732cc",
   "metadata": {},
   "outputs": [],
   "source": [
    "o = [\"python\", \"science\"]\n",
    "o.insert(2,\"data\")"
   ]
  },
  {
   "cell_type": "code",
   "execution_count": 208,
   "id": "874844ed",
   "metadata": {},
   "outputs": [
    {
     "data": {
      "text/plain": [
       "['python', 'science', 'data']"
      ]
     },
     "execution_count": 208,
     "metadata": {},
     "output_type": "execute_result"
    }
   ],
   "source": [
    "o"
   ]
  },
  {
   "cell_type": "code",
   "execution_count": 210,
   "id": "f942e81d",
   "metadata": {},
   "outputs": [
    {
     "name": "stdout",
     "output_type": "stream",
     "text": [
      "[1, 2, 31, 1, 2, 31]\n"
     ]
    }
   ],
   "source": [
    "(x:= [1, 2, 31]).extend(x)\n",
    "print(x)"
   ]
  },
  {
   "cell_type": "code",
   "execution_count": 221,
   "id": "a0cab773",
   "metadata": {},
   "outputs": [
    {
     "data": {
      "text/plain": [
       "1"
      ]
     },
     "execution_count": 221,
     "metadata": {},
     "output_type": "execute_result"
    }
   ],
   "source": [
    "(x:= 1)"
   ]
  },
  {
   "cell_type": "code",
   "execution_count": 223,
   "id": "9d9884d2",
   "metadata": {},
   "outputs": [
    {
     "name": "stdout",
     "output_type": "stream",
     "text": [
      "Yes\n"
     ]
    }
   ],
   "source": [
    "if (a := 10) == 10:\n",
    "    print(\"Yes\")"
   ]
  },
  {
   "cell_type": "code",
   "execution_count": 233,
   "id": "e8ebbe77",
   "metadata": {},
   "outputs": [
    {
     "name": "stdout",
     "output_type": "stream",
     "text": [
      "yes\n"
     ]
    }
   ],
   "source": [
    "if a := 10:\n",
    "    print(\"yes\")"
   ]
  },
  {
   "cell_type": "code",
   "execution_count": null,
   "id": "bdcf34c0",
   "metadata": {},
   "outputs": [],
   "source": []
  },
  {
   "cell_type": "code",
   "execution_count": 257,
   "id": "b0f30865",
   "metadata": {},
   "outputs": [
    {
     "data": {
      "text/plain": [
       "[1, 2, 4, 5]"
      ]
     },
     "execution_count": 257,
     "metadata": {},
     "output_type": "execute_result"
    }
   ],
   "source": [
    "l = [1,2,3,3,4,5]\n",
    "\n",
    "l.remove(3)\n",
    "l.remove(3)\n",
    "l"
   ]
  },
  {
   "cell_type": "code",
   "execution_count": 265,
   "id": "4dd9e6fe",
   "metadata": {},
   "outputs": [
    {
     "name": "stdout",
     "output_type": "stream",
     "text": [
      "2\n"
     ]
    },
    {
     "data": {
      "text/plain": [
       "[1, 3, 4, 5]"
      ]
     },
     "execution_count": 265,
     "metadata": {},
     "output_type": "execute_result"
    }
   ],
   "source": [
    "l = [1,2,3,4,5]\n",
    "a = l.pop(1)\n",
    "print(a)\n",
    "l"
   ]
  },
  {
   "cell_type": "code",
   "execution_count": 254,
   "id": "cc1ce622",
   "metadata": {},
   "outputs": [
    {
     "data": {
      "text/plain": [
       "[1, 2, 4, 5]"
      ]
     },
     "execution_count": 254,
     "metadata": {},
     "output_type": "execute_result"
    }
   ],
   "source": [
    "l = [1,2,3,4,5]\n",
    "\n",
    "del l[2]\n",
    "\n",
    "l"
   ]
  },
  {
   "cell_type": "code",
   "execution_count": 270,
   "id": "23748642",
   "metadata": {},
   "outputs": [
    {
     "name": "stdout",
     "output_type": "stream",
     "text": [
      "No Python documentation found for 'list.popitem()'.\n",
      "Use help() to get the interactive help utility.\n",
      "Use help(str) for help on the str class.\n",
      "\n"
     ]
    }
   ],
   "source": [
    "help(\"list.popitem()\")"
   ]
  },
  {
   "cell_type": "code",
   "execution_count": 273,
   "id": "e6547265",
   "metadata": {},
   "outputs": [
    {
     "data": {
      "text/plain": [
       "[1, 2, 3, 4, 5, 6, 8, 9]"
      ]
     },
     "execution_count": 273,
     "metadata": {},
     "output_type": "execute_result"
    }
   ],
   "source": [
    "f = [4,5,8,9,6,3,2,1]\n",
    "f.sort()\n",
    "f"
   ]
  },
  {
   "cell_type": "code",
   "execution_count": 277,
   "id": "412a3c87",
   "metadata": {},
   "outputs": [],
   "source": [
    "d = [\"a\", \"c\", \"j\", \"h\"]\n",
    "w = d.sort()\n",
    "w\n"
   ]
  },
  {
   "cell_type": "code",
   "execution_count": 278,
   "id": "6c149aac",
   "metadata": {},
   "outputs": [
    {
     "data": {
      "text/plain": [
       "['a', 'c', 'h', 'j']"
      ]
     },
     "execution_count": 278,
     "metadata": {},
     "output_type": "execute_result"
    }
   ],
   "source": [
    "d = [\"a\", \"c\", \"j\", \"h\"]\n",
    "w = sorted(d)\n",
    "w"
   ]
  },
  {
   "cell_type": "code",
   "execution_count": 279,
   "id": "daa89dfa",
   "metadata": {},
   "outputs": [
    {
     "data": {
      "text/plain": [
       "[-9, -8, -5, -4, 4.5, 8.5]"
      ]
     },
     "execution_count": 279,
     "metadata": {},
     "output_type": "execute_result"
    }
   ],
   "source": [
    "f = [-4,-8,-9,-5,4.5,8.5]\n",
    "f.sort()\n",
    "f"
   ]
  },
  {
   "cell_type": "code",
   "execution_count": 282,
   "id": "ae5a8822",
   "metadata": {},
   "outputs": [
    {
     "data": {
      "text/plain": [
       "[8.5, 4.5, -4, -5, -8, -9]"
      ]
     },
     "execution_count": 282,
     "metadata": {},
     "output_type": "execute_result"
    }
   ],
   "source": [
    "f = [-4,-8,-9,-5,4.5,8.5]\n",
    "f.sort(reverse=True)\n",
    "f"
   ]
  },
  {
   "cell_type": "code",
   "execution_count": null,
   "id": "24b4ad50",
   "metadata": {},
   "outputs": [],
   "source": []
  }
 ],
 "metadata": {
  "kernelspec": {
   "display_name": "Python 3 (ipykernel)",
   "language": "python",
   "name": "python3"
  },
  "language_info": {
   "codemirror_mode": {
    "name": "ipython",
    "version": 3
   },
   "file_extension": ".py",
   "mimetype": "text/x-python",
   "name": "python",
   "nbconvert_exporter": "python",
   "pygments_lexer": "ipython3",
   "version": "3.9.12"
  }
 },
 "nbformat": 4,
 "nbformat_minor": 5
}
