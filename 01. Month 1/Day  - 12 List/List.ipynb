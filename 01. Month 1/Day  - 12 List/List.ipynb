{
 "cells": [
  {
   "cell_type": "markdown",
   "id": "57a144f0",
   "metadata": {},
   "source": [
    "# Check items in list"
   ]
  },
  {
   "cell_type": "code",
   "execution_count": 2,
   "id": "a2a4b8b5",
   "metadata": {},
   "outputs": [
    {
     "name": "stdout",
     "output_type": "stream",
     "text": [
      "[1, 2, 3, 4.4, 5.5, 6.6, 'Python', 'And', 'Data', 'Science', 'With', 'Machine', 'Learning']\n"
     ]
    }
   ],
   "source": [
    "li = [1,2,3,4.4,5.5,6.6,\"Python\",\"And\",\"Data\",\"Science\",\"With\",\"Machine\",\"Learning\"]\n",
    "print(li)"
   ]
  },
  {
   "cell_type": "code",
   "execution_count": 3,
   "id": "9a02cd22",
   "metadata": {},
   "outputs": [
    {
     "data": {
      "text/plain": [
       "True"
      ]
     },
     "execution_count": 3,
     "metadata": {},
     "output_type": "execute_result"
    }
   ],
   "source": [
    "\"Python\" in li"
   ]
  },
  {
   "cell_type": "code",
   "execution_count": 4,
   "id": "b66ba918",
   "metadata": {},
   "outputs": [
    {
     "data": {
      "text/plain": [
       "False"
      ]
     },
     "execution_count": 4,
     "metadata": {},
     "output_type": "execute_result"
    }
   ],
   "source": [
    "\"python\" in li"
   ]
  },
  {
   "cell_type": "code",
   "execution_count": 5,
   "id": "88953aff",
   "metadata": {},
   "outputs": [
    {
     "data": {
      "text/plain": [
       "False"
      ]
     },
     "execution_count": 5,
     "metadata": {},
     "output_type": "execute_result"
    }
   ],
   "source": [
    "100 in li"
   ]
  },
  {
   "cell_type": "code",
   "execution_count": 6,
   "id": "0b93026a",
   "metadata": {},
   "outputs": [
    {
     "data": {
      "text/plain": [
       "True"
      ]
     },
     "execution_count": 6,
     "metadata": {},
     "output_type": "execute_result"
    }
   ],
   "source": [
    "\"Machine\" in li"
   ]
  },
  {
   "cell_type": "code",
   "execution_count": 8,
   "id": "8a8d15ea",
   "metadata": {},
   "outputs": [
    {
     "name": "stdout",
     "output_type": "stream",
     "text": [
      "[1, 2, 3, 4.4, 5.5, 6.6, 'Python', 'And', 'Data', 'Science', 'With', 'Machine', 'Learning']\n"
     ]
    }
   ],
   "source": [
    "print(li)"
   ]
  },
  {
   "cell_type": "code",
   "execution_count": 2,
   "id": "f03e82a2",
   "metadata": {},
   "outputs": [
    {
     "name": "stdout",
     "output_type": "stream",
     "text": [
      "Machine is present in list\n"
     ]
    }
   ],
   "source": [
    "li = [1, 2, 3, 4.4, 5.5, 6.6, 'Python', 'And', 'Data', 'Science', 'With', 'Machine', 'Learning']\n",
    "\n",
    "if \"Machine\" in li:\n",
    "    print(f\"Machine is present in list\")\n",
    "else:\n",
    "    print(f\"Machine is not present in list\")"
   ]
  },
  {
   "cell_type": "code",
   "execution_count": 3,
   "id": "17710f90",
   "metadata": {},
   "outputs": [
    {
     "name": "stdout",
     "output_type": "stream",
     "text": [
      "Machine is not present in list\n"
     ]
    }
   ],
   "source": [
    "li = [1, 2, 3, 4.4, 5.5, 6.6, 'Python', 'And', 'Data', 'Science', 'With', 'Machine', 'Learning']\n",
    "\n",
    "if \"machine\" not in li:\n",
    "    print(f\"Machine is not present in list\")  \n",
    "else:\n",
    "    print(f\"Machine is present in list\")"
   ]
  },
  {
   "cell_type": "code",
   "execution_count": 11,
   "id": "8549a968",
   "metadata": {},
   "outputs": [
    {
     "name": "stdout",
     "output_type": "stream",
     "text": [
      "100 is not present in list\n"
     ]
    }
   ],
   "source": [
    "li = [1, 2, 3, 4.4, 5.5, 6.6, 'Python', 'And', 'Data', 'Science', 'With', 'Machine', 'Learning']\n",
    "element = 100\n",
    "\n",
    "if element in li:\n",
    "    print(f\"{element} is present in list\")\n",
    "else:\n",
    "    print(f\"{element} is not present in list\")"
   ]
  },
  {
   "cell_type": "code",
   "execution_count": 12,
   "id": "f6b5acda",
   "metadata": {},
   "outputs": [
    {
     "name": "stdout",
     "output_type": "stream",
     "text": [
      "5.5 is present in list\n"
     ]
    }
   ],
   "source": [
    "li = [1, 2, 3, 4.4, 5.5, 6.6, 'Python', 'And', 'Data', 'Science', 'With', 'Machine', 'Learning']\n",
    "element = 5.5\n",
    "\n",
    "if element in li:\n",
    "    print(f\"{element} is present in list\")\n",
    "else:\n",
    "    print(f\"{element} is not present in list\")"
   ]
  },
  {
   "cell_type": "code",
   "execution_count": 5,
   "id": "cab273d0",
   "metadata": {},
   "outputs": [
    {
     "name": "stdout",
     "output_type": "stream",
     "text": [
      "5.515 is not present in list\n"
     ]
    }
   ],
   "source": [
    "li = [1, 2, 3, 4.4, 5.5, 6.6, 'Python', 'And', 'Data', 'Science', 'With', 'Machine', 'Learning']\n",
    "element = 5.515\n",
    "\n",
    "if element not in li: # True\n",
    "    print(f\"{element} is not present in list\")\n",
    "else:\n",
    "    print(f\"{element} is present in list\")\n"
   ]
  },
  {
   "cell_type": "markdown",
   "id": "f80cab38",
   "metadata": {},
   "source": [
    "# Access list elements(items) by using for loop"
   ]
  },
  {
   "cell_type": "raw",
   "id": "b02d82bc",
   "metadata": {},
   "source": [
    "for variable_name in sequence:\n",
    "    statement-1\n",
    "    statement-2\n",
    "    statement-3\n",
    "        .\n",
    "        .\n",
    "    statement-n"
   ]
  },
  {
   "cell_type": "code",
   "execution_count": 15,
   "id": "e96fe369",
   "metadata": {},
   "outputs": [
    {
     "data": {
      "text/plain": [
       "5"
      ]
     },
     "execution_count": 15,
     "metadata": {},
     "output_type": "execute_result"
    }
   ],
   "source": [
    "li = [1,2,3,4,5]\n",
    "li[4]"
   ]
  },
  {
   "cell_type": "code",
   "execution_count": 16,
   "id": "9ed506ae",
   "metadata": {},
   "outputs": [
    {
     "name": "stdout",
     "output_type": "stream",
     "text": [
      "Accessing items from list\n",
      "Accessing items from list\n",
      "Accessing items from list\n",
      "Accessing items from list\n",
      "Accessing items from list\n"
     ]
    }
   ],
   "source": [
    "li = [1,2,3,4,5]# i=v\n",
    "for item in li: # 0=1,1=2,2=3,3=4,4=5 = we have 5 elements\n",
    "    print(\"Accessing items from list\")"
   ]
  },
  {
   "cell_type": "code",
   "execution_count": 19,
   "id": "8738189a",
   "metadata": {},
   "outputs": [
    {
     "name": "stdout",
     "output_type": "stream",
     "text": [
      "Element = 1\n",
      "Element is printed\n",
      "\n",
      "Element = 2\n",
      "Element is printed\n",
      "\n",
      "Element = 3\n",
      "Element is printed\n",
      "\n",
      "Element = 4\n",
      "Element is printed\n",
      "\n",
      "Element = 5\n",
      "Element is printed\n",
      "\n"
     ]
    }
   ],
   "source": [
    "li = [1,2,3,4,5]\n",
    "for item in li: \n",
    "    print(f\"Element = {item}\")\n",
    "    print(\"Element is printed\")\n",
    "    print()"
   ]
  },
  {
   "cell_type": "code",
   "execution_count": 20,
   "id": "87392e26",
   "metadata": {},
   "outputs": [
    {
     "name": "stdout",
     "output_type": "stream",
     "text": [
      "Name = Pankaj\n",
      "\n",
      "Name = Saurabh\n",
      "\n",
      "Name = Sahil\n",
      "\n",
      "Name = Nikita\n",
      "\n",
      "Name = Sakshi\n",
      "\n"
     ]
    }
   ],
   "source": [
    "student_names = [\"Pankaj\",\"Saurabh\",\"Sahil\",\"Nikita\",\"Sakshi\"]\n",
    "for name in student_names: \n",
    "    print(f\"Name = {name}\")\n",
    "    print()"
   ]
  },
  {
   "cell_type": "code",
   "execution_count": 21,
   "id": "b697711e",
   "metadata": {},
   "outputs": [
    {
     "name": "stdout",
     "output_type": "stream",
     "text": [
      "Name =  Pankaj\n",
      "\n",
      "Name =  Saurabh\n",
      "\n",
      "Name =  Sahil\n",
      "\n",
      "Name =  Nikita\n",
      "\n",
      "Name =  Sakshi\n",
      "\n"
     ]
    }
   ],
   "source": [
    "student_names = [\"Pankaj\",\"Saurabh\",\"Sahil\",\"Nikita\",\"Sakshi\"]\n",
    "for name in student_names: \n",
    "    print(\"Name = \",name)\n",
    "    print()"
   ]
  },
  {
   "cell_type": "code",
   "execution_count": 23,
   "id": "3e1f48bf",
   "metadata": {},
   "outputs": [
    {
     "name": "stdout",
     "output_type": "stream",
     "text": [
      "The element = Pankaj is on the index = 0\n",
      "\n",
      "The element = Saurabh is on the index = 1\n",
      "\n",
      "The element = Sahil is on the index = 2\n",
      "\n",
      "The element = Nikita is on the index = 3\n",
      "\n",
      "The element = Sakshi is on the index = 4\n",
      "\n"
     ]
    }
   ],
   "source": [
    "student_names = [\"Pankaj\",\"Saurabh\",\"Sahil\",\"Nikita\",\"Sakshi\"]\n",
    "for index,name in enumerate(student_names): \n",
    "    print(f\"The element = {name} is on the index = {index}\")\n",
    "    print()"
   ]
  },
  {
   "cell_type": "code",
   "execution_count": 26,
   "id": "1e1c1827",
   "metadata": {},
   "outputs": [
    {
     "name": "stdout",
     "output_type": "stream",
     "text": [
      "0  ::     Pankaj\n",
      "1  ::     Saurabh\n",
      "2  ::     Sahil\n",
      "3  ::     Nikita\n",
      "4  ::     Sakshi\n"
     ]
    }
   ],
   "source": [
    "student_names = [\"Pankaj\",\"Saurabh\",\"Sahil\",\"Nikita\",\"Sakshi\"]\n",
    "for index,name in enumerate(student_names): \n",
    "    print(f\"{index}  ::     {name}\")\n"
   ]
  },
  {
   "cell_type": "code",
   "execution_count": 39,
   "id": "391736b9",
   "metadata": {},
   "outputs": [
    {
     "data": {
      "text/plain": [
       "range"
      ]
     },
     "execution_count": 39,
     "metadata": {},
     "output_type": "execute_result"
    }
   ],
   "source": [
    "type(range(1,5))"
   ]
  },
  {
   "cell_type": "code",
   "execution_count": 28,
   "id": "b286a93b",
   "metadata": {},
   "outputs": [
    {
     "data": {
      "text/plain": [
       "[1, 2, 3, 4, 5]"
      ]
     },
     "execution_count": 28,
     "metadata": {},
     "output_type": "execute_result"
    }
   ],
   "source": [
    "list(range(1,6))"
   ]
  },
  {
   "cell_type": "code",
   "execution_count": 30,
   "id": "fc24a87d",
   "metadata": {},
   "outputs": [
    {
     "data": {
      "text/plain": [
       "[1, 2, 3, 4, 5, 6, 7]"
      ]
     },
     "execution_count": 30,
     "metadata": {},
     "output_type": "execute_result"
    }
   ],
   "source": [
    "li = [ 1,2,3,4,5,6,7]\n",
    "li"
   ]
  },
  {
   "cell_type": "code",
   "execution_count": 31,
   "id": "8694ee00",
   "metadata": {},
   "outputs": [
    {
     "data": {
      "text/plain": [
       "[1, 2, 3, 4, 5]"
      ]
     },
     "execution_count": 31,
     "metadata": {},
     "output_type": "execute_result"
    }
   ],
   "source": [
    "list(range(1,6))"
   ]
  },
  {
   "cell_type": "code",
   "execution_count": 32,
   "id": "08ca2d6e",
   "metadata": {},
   "outputs": [
    {
     "data": {
      "text/plain": [
       "(1, 2, 3, 4, 5)"
      ]
     },
     "execution_count": 32,
     "metadata": {},
     "output_type": "execute_result"
    }
   ],
   "source": [
    "tuple(range(1,6))"
   ]
  },
  {
   "cell_type": "code",
   "execution_count": 35,
   "id": "498b6a08",
   "metadata": {},
   "outputs": [
    {
     "name": "stdout",
     "output_type": "stream",
     "text": [
      "[1, 2, 3, 4, 5, 6, 7, 8, 9, 10]\n"
     ]
    }
   ],
   "source": [
    "print(list(range(1,11)))"
   ]
  },
  {
   "cell_type": "code",
   "execution_count": 36,
   "id": "6e75f247",
   "metadata": {},
   "outputs": [
    {
     "name": "stdout",
     "output_type": "stream",
     "text": [
      "1\n",
      "2\n",
      "3\n",
      "4\n",
      "5\n"
     ]
    }
   ],
   "source": [
    "for i in range(1,6):\n",
    "    print(i)"
   ]
  },
  {
   "cell_type": "code",
   "execution_count": 37,
   "id": "66953d38",
   "metadata": {},
   "outputs": [
    {
     "name": "stdout",
     "output_type": "stream",
     "text": [
      "0\n",
      "1\n",
      "2\n",
      "3\n",
      "4\n",
      "5\n"
     ]
    }
   ],
   "source": [
    "for i in range(6):\n",
    "    print(i)"
   ]
  },
  {
   "cell_type": "code",
   "execution_count": 38,
   "id": "8730ddf8",
   "metadata": {},
   "outputs": [
    {
     "name": "stdout",
     "output_type": "stream",
     "text": [
      "0\n",
      "1\n",
      "2\n",
      "3\n",
      "4\n",
      "5\n"
     ]
    }
   ],
   "source": [
    "for i in list(range(6)):\n",
    "    print(i)"
   ]
  },
  {
   "cell_type": "code",
   "execution_count": 40,
   "id": "48c8c42d",
   "metadata": {},
   "outputs": [
    {
     "data": {
      "text/plain": [
       "['Pankaj', 'Saurabh', 'Sahil', 'Nikita', 'Sakshi']"
      ]
     },
     "execution_count": 40,
     "metadata": {},
     "output_type": "execute_result"
    }
   ],
   "source": [
    "student_names"
   ]
  },
  {
   "cell_type": "code",
   "execution_count": 41,
   "id": "37abf898",
   "metadata": {},
   "outputs": [
    {
     "name": "stdout",
     "output_type": "stream",
     "text": [
      "0\n",
      "1\n",
      "2\n",
      "3\n",
      "4\n"
     ]
    }
   ],
   "source": [
    "for val in range(len(student_names)):\n",
    "    print(val)"
   ]
  },
  {
   "cell_type": "code",
   "execution_count": 42,
   "id": "867be538",
   "metadata": {},
   "outputs": [
    {
     "name": "stdout",
     "output_type": "stream",
     "text": [
      "0 ------> Pankaj\n",
      "1 ------> Saurabh\n",
      "2 ------> Sahil\n",
      "3 ------> Nikita\n",
      "4 ------> Sakshi\n"
     ]
    }
   ],
   "source": [
    "for val in range(len(student_names)):\n",
    "    print(f\"{val} ------> {student_names[val]}\")"
   ]
  },
  {
   "cell_type": "code",
   "execution_count": 44,
   "id": "d9ed223a",
   "metadata": {},
   "outputs": [
    {
     "name": "stdout",
     "output_type": "stream",
     "text": [
      "0 ------> PANKAJ\n",
      "1 ------> SAURABH\n",
      "2 ------> SAHIL\n",
      "3 ------> NIKITA\n",
      "4 ------> SAKSHI\n"
     ]
    }
   ],
   "source": [
    "for val in range(len(student_names)):\n",
    "    print(f\"{val} ------> {student_names[val].upper()}\")"
   ]
  },
  {
   "cell_type": "code",
   "execution_count": 45,
   "id": "0741e370",
   "metadata": {},
   "outputs": [
    {
     "name": "stdout",
     "output_type": "stream",
     "text": [
      "0 ------> pankaj\n",
      "1 ------> saurabh\n",
      "2 ------> sahil\n",
      "3 ------> nikita\n",
      "4 ------> sakshi\n"
     ]
    }
   ],
   "source": [
    "for val in range(len(student_names)):\n",
    "    print(f\"{val} ------> {student_names[val].upper()}\")"
   ]
  },
  {
   "cell_type": "code",
   "execution_count": 47,
   "id": "1a8a5e31",
   "metadata": {},
   "outputs": [
    {
     "name": "stdout",
     "output_type": "stream",
     "text": [
      "500 \n",
      "501 \n",
      "502 \n",
      "503 \n",
      "504 \n"
     ]
    }
   ],
   "source": [
    "for val in range(len(student_names)):\n",
    "    print(f\"{val + 500} \")"
   ]
  },
  {
   "cell_type": "code",
   "execution_count": 55,
   "id": "a30e020f",
   "metadata": {},
   "outputs": [
    {
     "name": "stdout",
     "output_type": "stream",
     "text": [
      "1 its int data type\n",
      "2 its int data type\n",
      "3 its int data type\n",
      "4.4 its float data type\n",
      "5.5 its float data type\n",
      "6.6 its float data type\n",
      "Python its string data type\n",
      "And its string data type\n",
      "Data its string data type\n",
      "Science its string data type\n",
      "With its string data type\n",
      "Machine its string data type\n",
      "Learning its string data type\n",
      "its a different data type not mentioned in conditions\n"
     ]
    }
   ],
   "source": [
    "li = [1, 2, 3, 4.4, 5.5, 6.6, 'Python', 'And', 'Data', 'Science', 'With', 'Machine', 'Learning',5+5j]\n",
    "for i in li:\n",
    "    if type(i)==int:\n",
    "        print(i,\"its int data type\" )\n",
    "    elif type(i)==float:\n",
    "        print (i,\"its float data type\")\n",
    "    elif type(i)==str:\n",
    "        print(i,\"its string data type\")\n",
    "    else:\n",
    "        print(\"its a different data type not mentioned in conditions\")"
   ]
  },
  {
   "cell_type": "code",
   "execution_count": null,
   "id": "3a64f9a2",
   "metadata": {},
   "outputs": [],
   "source": []
  },
  {
   "cell_type": "code",
   "execution_count": null,
   "id": "907863b5",
   "metadata": {},
   "outputs": [],
   "source": []
  },
  {
   "cell_type": "code",
   "execution_count": null,
   "id": "80b1c106",
   "metadata": {},
   "outputs": [],
   "source": []
  },
  {
   "cell_type": "code",
   "execution_count": null,
   "id": "0a9a6c7c",
   "metadata": {},
   "outputs": [],
   "source": []
  },
  {
   "cell_type": "code",
   "execution_count": null,
   "id": "949e3e40",
   "metadata": {},
   "outputs": [],
   "source": []
  },
  {
   "cell_type": "code",
   "execution_count": null,
   "id": "72db1186",
   "metadata": {},
   "outputs": [],
   "source": []
  }
 ],
 "metadata": {
  "kernelspec": {
   "display_name": "Python 3 (ipykernel)",
   "language": "python",
   "name": "python3"
  },
  "language_info": {
   "codemirror_mode": {
    "name": "ipython",
    "version": 3
   },
   "file_extension": ".py",
   "mimetype": "text/x-python",
   "name": "python",
   "nbconvert_exporter": "python",
   "pygments_lexer": "ipython3",
   "version": "3.9.12"
  }
 },
 "nbformat": 4,
 "nbformat_minor": 5
}
