{
 "cells": [
  {
   "cell_type": "markdown",
   "id": "238c4cdb",
   "metadata": {},
   "source": [
    "# String Indexing\n",
    "- Accessing the char from a string\n",
    "- Indexing will start from 0 index\n",
    "- To access an item from string we use []\n",
    "- length(len) function is used to know the length of the string"
   ]
  },
  {
   "cell_type": "raw",
   "id": "c1cd0bc5",
   "metadata": {},
   "source": [
    "\" P y t h o n \"\n",
    "  0 1 2 3 4 5"
   ]
  },
  {
   "cell_type": "code",
   "execution_count": 17,
   "id": "b4b5e88b",
   "metadata": {},
   "outputs": [
    {
     "data": {
      "text/plain": [
       "'e'"
      ]
     },
     "execution_count": 17,
     "metadata": {},
     "output_type": "execute_result"
    }
   ],
   "source": [
    "str1 = \"Data Science\"\n",
    "str1[0] # D\n",
    "str1[1] # a\n",
    "str1[2] # t\n",
    "str1[3] # a\n",
    "str1[4] # \" \"\n",
    "str1[5] # S\n",
    "str1[6] # c\n",
    "str1[7] # i\n",
    "str1[8] # e\n",
    "str1[9] # n\n",
    "str1[10] # c\n",
    "str1[11] # e"
   ]
  },
  {
   "cell_type": "raw",
   "id": "5265ab0e",
   "metadata": {},
   "source": [
    "\" P y t h o n \"\n",
    "  0 1 2 3 4 5"
   ]
  },
  {
   "cell_type": "code",
   "execution_count": 18,
   "id": "35c91a16",
   "metadata": {},
   "outputs": [
    {
     "data": {
      "text/plain": [
       "'t'"
      ]
     },
     "execution_count": 18,
     "metadata": {},
     "output_type": "execute_result"
    }
   ],
   "source": [
    "str1 = 'Python'\n",
    "str1[2]"
   ]
  },
  {
   "cell_type": "code",
   "execution_count": 19,
   "id": "071dc7e3",
   "metadata": {},
   "outputs": [
    {
     "data": {
      "text/plain": [
       "'o'"
      ]
     },
     "execution_count": 19,
     "metadata": {},
     "output_type": "execute_result"
    }
   ],
   "source": [
    "str1 = 'Python'\n",
    "str1[4]"
   ]
  },
  {
   "cell_type": "raw",
   "id": "b26ea2ec",
   "metadata": {},
   "source": [
    "\" P  y  t  h  o  n \"\n",
    "  0  1  2  3  4  5     --------> Positive Indexing\n",
    " -6 -5 -4 -3 -2 -1     --------> Negative Indexing\n",
    "            "
   ]
  },
  {
   "cell_type": "code",
   "execution_count": 26,
   "id": "fc829c37",
   "metadata": {},
   "outputs": [
    {
     "data": {
      "text/plain": [
       "'P'"
      ]
     },
     "execution_count": 26,
     "metadata": {},
     "output_type": "execute_result"
    }
   ],
   "source": [
    "str1 = 'Python'\n",
    "str1[-1] # n\n",
    "str1[-2] # o\n",
    "str1[-3] # h\n",
    "str1[-4] # t\n",
    "str1[-5] # y\n",
    "str1[-6] # P"
   ]
  },
  {
   "cell_type": "code",
   "execution_count": 27,
   "id": "7f0d1a9b",
   "metadata": {},
   "outputs": [
    {
     "data": {
      "text/plain": [
       "6"
      ]
     },
     "execution_count": 27,
     "metadata": {},
     "output_type": "execute_result"
    }
   ],
   "source": [
    "len(str1)"
   ]
  },
  {
   "cell_type": "code",
   "execution_count": 29,
   "id": "eb7d3779",
   "metadata": {},
   "outputs": [
    {
     "data": {
      "text/plain": [
       "'n'"
      ]
     },
     "execution_count": 29,
     "metadata": {},
     "output_type": "execute_result"
    }
   ],
   "source": [
    "str1[len(str1)-1]"
   ]
  },
  {
   "cell_type": "code",
   "execution_count": 30,
   "id": "d934d86e",
   "metadata": {},
   "outputs": [
    {
     "data": {
      "text/plain": [
       "'P'"
      ]
     },
     "execution_count": 30,
     "metadata": {},
     "output_type": "execute_result"
    }
   ],
   "source": [
    "str1[-len(str1)]"
   ]
  },
  {
   "cell_type": "code",
   "execution_count": 35,
   "id": "905aaf37",
   "metadata": {},
   "outputs": [
    {
     "name": "stdout",
     "output_type": "stream",
     "text": [
      "Used Positive indexing :- h\n",
      "Used Negative indexing :- h\n"
     ]
    }
   ],
   "source": [
    "str1 = 'Python'\n",
    "print(f\"Used Positive indexing :- {str1[3]}\")\n",
    "print(f\"Used Negative indexing :- {str1[-3]}\")"
   ]
  },
  {
   "cell_type": "code",
   "execution_count": 36,
   "id": "9ee32302",
   "metadata": {},
   "outputs": [
    {
     "name": "stdout",
     "output_type": "stream",
     "text": [
      "Used Positive indexing :- o\n",
      "Used Negative indexing :- o\n"
     ]
    }
   ],
   "source": [
    "str1 = 'Python'\n",
    "print(f\"Used Positive indexing :- {str1[4]}\")\n",
    "print(f\"Used Negative indexing :- {str1[-2]}\")"
   ]
  },
  {
   "cell_type": "code",
   "execution_count": 44,
   "id": "60293c4c",
   "metadata": {},
   "outputs": [
    {
     "name": "stdout",
     "output_type": "stream",
     "text": [
      "The length of a string :- 6\n",
      "Used Positive indexing :- y\n",
      "Used Negative indexing :- y\n"
     ]
    }
   ],
   "source": [
    "str1 = 'Python'\n",
    "length = len(str1)\n",
    "print(f\"The length of a string :- {length}\")\n",
    "print(f\"Used Positive indexing :- {str1[length - 5]}\")\n",
    "print(f\"Used Negative indexing :- {str1[1 - length]}\")"
   ]
  },
  {
   "cell_type": "code",
   "execution_count": 56,
   "id": "78e935d8",
   "metadata": {},
   "outputs": [
    {
     "data": {
      "text/plain": [
       "'o'"
      ]
     },
     "execution_count": 56,
     "metadata": {},
     "output_type": "execute_result"
    }
   ],
   "source": [
    "\"cooooooooool\"[-7]"
   ]
  },
  {
   "cell_type": "markdown",
   "id": "1e599a7e",
   "metadata": {},
   "source": [
    "# Slicing\n",
    "- Used for retriving a sub-string from a string\n",
    "- string[start_index : end_index]\n",
    "- start_index ====> default = 0 ====> is included\n",
    "- end_index ====> default = length ===> excluded\n"
   ]
  },
  {
   "cell_type": "code",
   "execution_count": 57,
   "id": "b4bed0f9",
   "metadata": {},
   "outputs": [
    {
     "data": {
      "text/plain": [
       "'Python And Data Science'"
      ]
     },
     "execution_count": 57,
     "metadata": {},
     "output_type": "execute_result"
    }
   ],
   "source": [
    "string = \"Python And Data Science\"\n",
    "string[:]"
   ]
  },
  {
   "cell_type": "code",
   "execution_count": 58,
   "id": "0b565745",
   "metadata": {},
   "outputs": [
    {
     "data": {
      "text/plain": [
       "'Python And Data Science'"
      ]
     },
     "execution_count": 58,
     "metadata": {},
     "output_type": "execute_result"
    }
   ],
   "source": [
    "string = \"Python And Data Science\"\n",
    "string[0:len(string)]"
   ]
  },
  {
   "cell_type": "code",
   "execution_count": 60,
   "id": "8f601eb8",
   "metadata": {},
   "outputs": [
    {
     "data": {
      "text/plain": [
       "'Pytho'"
      ]
     },
     "execution_count": 60,
     "metadata": {},
     "output_type": "execute_result"
    }
   ],
   "source": [
    "string = \"Python And Data Science\"\n",
    "string[0:5]"
   ]
  },
  {
   "cell_type": "code",
   "execution_count": 61,
   "id": "157bdba8",
   "metadata": {},
   "outputs": [
    {
     "data": {
      "text/plain": [
       "'Python'"
      ]
     },
     "execution_count": 61,
     "metadata": {},
     "output_type": "execute_result"
    }
   ],
   "source": [
    "string = \"Python And Data Science\"\n",
    "string[0:6]"
   ]
  },
  {
   "cell_type": "code",
   "execution_count": 62,
   "id": "5c1bcc93",
   "metadata": {},
   "outputs": [
    {
     "data": {
      "text/plain": [
       "'And'"
      ]
     },
     "execution_count": 62,
     "metadata": {},
     "output_type": "execute_result"
    }
   ],
   "source": [
    "string = \"Python And Data Science\"\n",
    "string[7:10]"
   ]
  },
  {
   "cell_type": "code",
   "execution_count": 66,
   "id": "68f91ba4",
   "metadata": {},
   "outputs": [
    {
     "data": {
      "text/plain": [
       "' Data Science Python And Data Science'"
      ]
     },
     "execution_count": 66,
     "metadata": {},
     "output_type": "execute_result"
    }
   ],
   "source": [
    "string = \"Python And Data Science Python And Data Science\"\n",
    "string[10:]"
   ]
  },
  {
   "cell_type": "code",
   "execution_count": 65,
   "id": "36977a35",
   "metadata": {},
   "outputs": [
    {
     "data": {
      "text/plain": [
       "'Python And'"
      ]
     },
     "execution_count": 65,
     "metadata": {},
     "output_type": "execute_result"
    }
   ],
   "source": [
    "string = \"Python And Data Science\"\n",
    "string[:10]"
   ]
  },
  {
   "cell_type": "code",
   "execution_count": 82,
   "id": "2d879420",
   "metadata": {},
   "outputs": [
    {
     "name": "stdout",
     "output_type": "stream",
     "text": [
      "23\n"
     ]
    },
    {
     "data": {
      "text/plain": [
       "' Data Science'"
      ]
     },
     "execution_count": 82,
     "metadata": {},
     "output_type": "execute_result"
    }
   ],
   "source": [
    "string = \"Python And Data Science\"\n",
    "length = len(string)\n",
    "print(length)\n",
    "string[10:]"
   ]
  },
  {
   "cell_type": "code",
   "execution_count": 84,
   "id": "00ceb25b",
   "metadata": {},
   "outputs": [
    {
     "data": {
      "text/plain": [
       "'n And Data Science'"
      ]
     },
     "execution_count": 84,
     "metadata": {},
     "output_type": "execute_result"
    }
   ],
   "source": [
    "string = \"Python And Data Science\"\n",
    "length = len(string)\n",
    "string[5:len(string)]"
   ]
  },
  {
   "cell_type": "raw",
   "id": "1f9e45c6",
   "metadata": {},
   "source": [
    "0 to len(str1)-1"
   ]
  },
  {
   "cell_type": "code",
   "execution_count": 85,
   "id": "df5cc0b8",
   "metadata": {},
   "outputs": [
    {
     "data": {
      "text/plain": [
       "5"
      ]
     },
     "execution_count": 85,
     "metadata": {},
     "output_type": "execute_result"
    }
   ],
   "source": [
    "s = \"Hello\"\n",
    "len(s)"
   ]
  },
  {
   "cell_type": "code",
   "execution_count": 97,
   "id": "51fdf55f",
   "metadata": {},
   "outputs": [
    {
     "data": {
      "text/plain": [
       "'Hell'"
      ]
     },
     "execution_count": 97,
     "metadata": {},
     "output_type": "execute_result"
    }
   ],
   "source": [
    "s[:4]"
   ]
  },
  {
   "cell_type": "code",
   "execution_count": 92,
   "id": "705859a5",
   "metadata": {},
   "outputs": [
    {
     "data": {
      "text/plain": [
       "5"
      ]
     },
     "execution_count": 92,
     "metadata": {},
     "output_type": "execute_result"
    }
   ],
   "source": [
    "len(s)"
   ]
  },
  {
   "cell_type": "code",
   "execution_count": 93,
   "id": "f8079500",
   "metadata": {},
   "outputs": [
    {
     "ename": "IndexError",
     "evalue": "string index out of range",
     "output_type": "error",
     "traceback": [
      "\u001b[1;31m---------------------------------------------------------------------------\u001b[0m",
      "\u001b[1;31mIndexError\u001b[0m                                Traceback (most recent call last)",
      "\u001b[1;32m<ipython-input-93-b5dece75d686>\u001b[0m in \u001b[0;36m<module>\u001b[1;34m\u001b[0m\n\u001b[1;32m----> 1\u001b[1;33m \u001b[0ms\u001b[0m\u001b[1;33m[\u001b[0m\u001b[1;36m5\u001b[0m\u001b[1;33m]\u001b[0m\u001b[1;33m\u001b[0m\u001b[1;33m\u001b[0m\u001b[0m\n\u001b[0m",
      "\u001b[1;31mIndexError\u001b[0m: string index out of range"
     ]
    }
   ],
   "source": [
    "s[5]"
   ]
  },
  {
   "cell_type": "code",
   "execution_count": 99,
   "id": "085979ae",
   "metadata": {},
   "outputs": [
    {
     "data": {
      "text/plain": [
       "'0123'"
      ]
     },
     "execution_count": 99,
     "metadata": {},
     "output_type": "execute_result"
    }
   ],
   "source": [
    "s = \"0123456\"\n",
    "s[:4]"
   ]
  },
  {
   "cell_type": "code",
   "execution_count": 104,
   "id": "c5c2edd0",
   "metadata": {},
   "outputs": [
    {
     "data": {
      "text/plain": [
       "'10'"
      ]
     },
     "execution_count": 104,
     "metadata": {},
     "output_type": "execute_result"
    }
   ],
   "source": [
    "num = 10\n",
    "num = str(num) # casting string type on int type\n",
    "num"
   ]
  },
  {
   "cell_type": "code",
   "execution_count": null,
   "id": "d984b8f2",
   "metadata": {},
   "outputs": [],
   "source": [
    "string"
   ]
  },
  {
   "cell_type": "code",
   "execution_count": 105,
   "id": "16e82fec",
   "metadata": {},
   "outputs": [],
   "source": [
    "num = 22/7"
   ]
  },
  {
   "cell_type": "code",
   "execution_count": 106,
   "id": "5f8d5e42",
   "metadata": {},
   "outputs": [
    {
     "data": {
      "text/plain": [
       "3.142857142857143"
      ]
     },
     "execution_count": 106,
     "metadata": {},
     "output_type": "execute_result"
    }
   ],
   "source": [
    "num"
   ]
  },
  {
   "cell_type": "code",
   "execution_count": 110,
   "id": "a4ffa839",
   "metadata": {},
   "outputs": [
    {
     "data": {
      "text/plain": [
       "3.143"
      ]
     },
     "execution_count": 110,
     "metadata": {},
     "output_type": "execute_result"
    }
   ],
   "source": [
    "num = round(num,3)\n",
    "num"
   ]
  },
  {
   "cell_type": "code",
   "execution_count": 111,
   "id": "5aa3aac4",
   "metadata": {},
   "outputs": [
    {
     "data": {
      "text/plain": [
       "3.143"
      ]
     },
     "execution_count": 111,
     "metadata": {},
     "output_type": "execute_result"
    }
   ],
   "source": [
    "num"
   ]
  },
  {
   "cell_type": "code",
   "execution_count": 112,
   "id": "6bb4d89c",
   "metadata": {},
   "outputs": [
    {
     "data": {
      "text/plain": [
       "3.143"
      ]
     },
     "execution_count": 112,
     "metadata": {},
     "output_type": "execute_result"
    }
   ],
   "source": [
    "num1 = round(num,5)\n",
    "num1"
   ]
  },
  {
   "cell_type": "code",
   "execution_count": null,
   "id": "93f479c6",
   "metadata": {},
   "outputs": [],
   "source": []
  }
 ],
 "metadata": {
  "kernelspec": {
   "display_name": "Python 3",
   "language": "python",
   "name": "python3"
  },
  "language_info": {
   "codemirror_mode": {
    "name": "ipython",
    "version": 3
   },
   "file_extension": ".py",
   "mimetype": "text/x-python",
   "name": "python",
   "nbconvert_exporter": "python",
   "pygments_lexer": "ipython3",
   "version": "3.8.8"
  }
 },
 "nbformat": 4,
 "nbformat_minor": 5
}
