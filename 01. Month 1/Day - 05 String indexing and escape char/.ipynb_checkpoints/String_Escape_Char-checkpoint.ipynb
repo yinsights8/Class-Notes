{
 "cells": [
  {
   "cell_type": "markdown",
   "id": "799bd0f0",
   "metadata": {},
   "source": [
    "# String_Escape_Char\n",
    "### 1. Backslash (\\)\n",
    "- Backslash(\\) = Used as escape char"
   ]
  },
  {
   "cell_type": "code",
   "execution_count": 3,
   "id": "4b9fa508",
   "metadata": {},
   "outputs": [
    {
     "name": "stdout",
     "output_type": "stream",
     "text": [
      "My String = Data Science\n",
      "The type  = <class 'str'>\n"
     ]
    }
   ],
   "source": [
    "str1 = \"Data Science\"\n",
    "print(f\"My String = {str1}\")\n",
    "print(f\"The type  = {type(str1)}\")"
   ]
  },
  {
   "cell_type": "code",
   "execution_count": 4,
   "id": "05d3db38",
   "metadata": {},
   "outputs": [
    {
     "name": "stdout",
     "output_type": "stream",
     "text": [
      "My String = Pythons\n"
     ]
    }
   ],
   "source": [
    "str1 = 'Pythons'\n",
    "print(f\"My String = {str1}\")"
   ]
  },
  {
   "cell_type": "code",
   "execution_count": 5,
   "id": "23e84921",
   "metadata": {},
   "outputs": [
    {
     "ename": "SyntaxError",
     "evalue": "invalid syntax (<ipython-input-5-6c269869cb03>, line 1)",
     "output_type": "error",
     "traceback": [
      "\u001b[1;36m  File \u001b[1;32m\"<ipython-input-5-6c269869cb03>\"\u001b[1;36m, line \u001b[1;32m1\u001b[0m\n\u001b[1;33m    str1 = 'Python's'\u001b[0m\n\u001b[1;37m                   ^\u001b[0m\n\u001b[1;31mSyntaxError\u001b[0m\u001b[1;31m:\u001b[0m invalid syntax\n"
     ]
    }
   ],
   "source": [
    "str1 = 'Python's'\n",
    "print(f\"My String = {str1}\")"
   ]
  },
  {
   "cell_type": "code",
   "execution_count": 6,
   "id": "7fcb0487",
   "metadata": {},
   "outputs": [
    {
     "name": "stdout",
     "output_type": "stream",
     "text": [
      "My String = Python's\n"
     ]
    }
   ],
   "source": [
    "str1 = 'Python\\'s'\n",
    "print(f\"My String = {str1}\")"
   ]
  },
  {
   "cell_type": "code",
   "execution_count": 7,
   "id": "cdca4429",
   "metadata": {},
   "outputs": [
    {
     "name": "stdout",
     "output_type": "stream",
     "text": [
      "My String = Python's\n"
     ]
    }
   ],
   "source": [
    "str1 = \"Python's\"\n",
    "print(f\"My String = {str1}\")"
   ]
  },
  {
   "cell_type": "code",
   "execution_count": 8,
   "id": "43b7a43d",
   "metadata": {},
   "outputs": [
    {
     "ename": "SyntaxError",
     "evalue": "invalid syntax (<ipython-input-8-2121a46527ae>, line 1)",
     "output_type": "error",
     "traceback": [
      "\u001b[1;36m  File \u001b[1;32m\"<ipython-input-8-2121a46527ae>\"\u001b[1;36m, line \u001b[1;32m1\u001b[0m\n\u001b[1;33m    str1 = \"Python\"s\"\u001b[0m\n\u001b[1;37m                   ^\u001b[0m\n\u001b[1;31mSyntaxError\u001b[0m\u001b[1;31m:\u001b[0m invalid syntax\n"
     ]
    }
   ],
   "source": [
    "str1 = \"Python\"s\"\n",
    "print(f\"My String = {str1}\")"
   ]
  },
  {
   "cell_type": "code",
   "execution_count": 9,
   "id": "fdaffc20",
   "metadata": {},
   "outputs": [
    {
     "name": "stdout",
     "output_type": "stream",
     "text": [
      "My String = Python\"s\n"
     ]
    }
   ],
   "source": [
    "str1 = \"Python\\\"s\"\n",
    "print(f\"My String = {str1}\")"
   ]
  },
  {
   "cell_type": "code",
   "execution_count": 10,
   "id": "552ba32d",
   "metadata": {},
   "outputs": [
    {
     "ename": "SyntaxError",
     "evalue": "invalid syntax (<ipython-input-10-83bfb212ed00>, line 1)",
     "output_type": "error",
     "traceback": [
      "\u001b[1;36m  File \u001b[1;32m\"<ipython-input-10-83bfb212ed00>\"\u001b[1;36m, line \u001b[1;32m1\u001b[0m\n\u001b[1;33m    str1 = \"Python and \"Data Science\"\"\u001b[0m\n\u001b[1;37m                        ^\u001b[0m\n\u001b[1;31mSyntaxError\u001b[0m\u001b[1;31m:\u001b[0m invalid syntax\n"
     ]
    }
   ],
   "source": [
    "str1 = \"Python and \"Data Science\"\"\n",
    "print(f\"My String = {str1}\")"
   ]
  },
  {
   "cell_type": "code",
   "execution_count": 11,
   "id": "a05f29e4",
   "metadata": {},
   "outputs": [
    {
     "name": "stdout",
     "output_type": "stream",
     "text": [
      "My String = Python and \"Data Science\"\n"
     ]
    }
   ],
   "source": [
    "str1 = \"Python and \\\"Data Science\\\"\"\n",
    "print(f\"My String = {str1}\")"
   ]
  },
  {
   "cell_type": "code",
   "execution_count": 12,
   "id": "170669e7",
   "metadata": {},
   "outputs": [
    {
     "ename": "SyntaxError",
     "evalue": "EOL while scanning string literal (<ipython-input-12-f5fceb6d9bed>, line 1)",
     "output_type": "error",
     "traceback": [
      "\u001b[1;36m  File \u001b[1;32m\"<ipython-input-12-f5fceb6d9bed>\"\u001b[1;36m, line \u001b[1;32m1\u001b[0m\n\u001b[1;33m    str1 = \"Python and \\\"Data Science\"\"\u001b[0m\n\u001b[1;37m                                       ^\u001b[0m\n\u001b[1;31mSyntaxError\u001b[0m\u001b[1;31m:\u001b[0m EOL while scanning string literal\n"
     ]
    }
   ],
   "source": [
    "str1 = \"Python and \\\"Data Science\"\"\n",
    "print(f\"My String = {str1}\")"
   ]
  },
  {
   "cell_type": "markdown",
   "id": "a26556e6",
   "metadata": {},
   "source": [
    "## 2. \\n = New Line\n",
    "- \\n is used for new line"
   ]
  },
  {
   "cell_type": "code",
   "execution_count": 13,
   "id": "17767147",
   "metadata": {},
   "outputs": [
    {
     "name": "stdout",
     "output_type": "stream",
     "text": [
      "My String = Machine learning (ML) is a field of inquiry devoted to understanding and building methods that 'learn', that is, methods that leverage data to improve performance on some set of tasks\n"
     ]
    }
   ],
   "source": [
    "Ml = \"Machine learning (ML) is a field of inquiry devoted to understanding and building methods that 'learn', that is, methods that leverage data to improve performance on some set of tasks\"\n",
    "print(f\"My String = {Ml}\")"
   ]
  },
  {
   "cell_type": "code",
   "execution_count": 15,
   "id": "5c03d86c",
   "metadata": {},
   "outputs": [
    {
     "name": "stdout",
     "output_type": "stream",
     "text": [
      "My String = Machine learning (ML) \n",
      "is a field of inquiry devoted to understanding\n"
     ]
    }
   ],
   "source": [
    "Ml = \"Machine learning (ML) \\nis a field of inquiry devoted to understanding\"\n",
    "print(f\"My String = {Ml}\")"
   ]
  },
  {
   "cell_type": "code",
   "execution_count": 16,
   "id": "a27928dd",
   "metadata": {},
   "outputs": [
    {
     "name": "stdout",
     "output_type": "stream",
     "text": [
      "My String = Machine learning (ML) \n",
      "is \n",
      "a field of inquiry devoted to understanding\n"
     ]
    }
   ],
   "source": [
    "Ml = \"Machine learning (ML) \\nis \\na field of inquiry devoted to understanding\"\n",
    "print(f\"My String = {Ml}\")"
   ]
  },
  {
   "cell_type": "code",
   "execution_count": 17,
   "id": "15f7657e",
   "metadata": {},
   "outputs": [
    {
     "name": "stdout",
     "output_type": "stream",
     "text": [
      "My String = Machine learning (ML) \n",
      "is \n",
      "a \n",
      "\n",
      "field of inquiry devoted to understanding\n"
     ]
    }
   ],
   "source": [
    "Ml = \"Machine learning (ML) \\nis \\na \\n\\nfield of inquiry devoted to understanding\"\n",
    "print(f\"My String = {Ml}\")"
   ]
  },
  {
   "cell_type": "code",
   "execution_count": 18,
   "id": "af5ad219",
   "metadata": {},
   "outputs": [
    {
     "name": "stdout",
     "output_type": "stream",
     "text": [
      "My String = Machine learning (ML) \n",
      "is \n",
      "a \n",
      "\n",
      "\n",
      "field of inquiry devoted to understanding\n"
     ]
    }
   ],
   "source": [
    "Ml = \"Machine learning (ML) \\nis \\na \\n\\n\\nfield of inquiry devoted to understanding\"\n",
    "print(f\"My String = {Ml}\")"
   ]
  },
  {
   "cell_type": "code",
   "execution_count": 31,
   "id": "bb3c4e68",
   "metadata": {},
   "outputs": [
    {
     "name": "stdout",
     "output_type": "stream",
     "text": [
      "My String = Machine learning \n",
      "(ML)\n"
     ]
    }
   ],
   "source": [
    "Ml = \"Machine learning \\n(ML)\"\n",
    "print(f\"My String = {Ml}\")"
   ]
  },
  {
   "cell_type": "code",
   "execution_count": 20,
   "id": "8c5be019",
   "metadata": {},
   "outputs": [
    {
     "name": "stdout",
     "output_type": "stream",
     "text": [
      "My String = Machine learning \n",
      "  (ML)\n"
     ]
    }
   ],
   "source": [
    "Ml = \"Machine learning \\n  (ML)\"\n",
    "print(f\"My String = {Ml}\")"
   ]
  },
  {
   "cell_type": "code",
   "execution_count": 21,
   "id": "602825c9",
   "metadata": {},
   "outputs": [
    {
     "name": "stdout",
     "output_type": "stream",
     "text": [
      "My String = Machine learning   ---------\n",
      "------(ML)\n"
     ]
    }
   ],
   "source": [
    "Ml = \"Machine learning   ---------\\n------(ML)\"\n",
    "print(f\"My String = {Ml}\")"
   ]
  },
  {
   "cell_type": "code",
   "execution_count": 23,
   "id": "cf94040a",
   "metadata": {},
   "outputs": [
    {
     "name": "stdout",
     "output_type": "stream",
     "text": [
      "\n",
      "Machine learning (ML)\n"
     ]
    }
   ],
   "source": [
    "Ml = \"\\nMachine learning (ML)\"\n",
    "print(f\"{Ml}\")"
   ]
  },
  {
   "cell_type": "code",
   "execution_count": 27,
   "id": "cafa5005",
   "metadata": {},
   "outputs": [
    {
     "name": "stdout",
     "output_type": "stream",
     "text": [
      "                         \n",
      "\n",
      "\n",
      "\n",
      "Machine learning (ML)\n"
     ]
    }
   ],
   "source": [
    "Ml = \"\\n\\n\\n\\nMachine learning (ML)\"\n",
    "print(f\"{Ml}\")"
   ]
  },
  {
   "cell_type": "code",
   "execution_count": 52,
   "id": "4b541414",
   "metadata": {},
   "outputs": [
    {
     "data": {
      "text/plain": [
       "'C:\\\\Users\\\\hp\\\\OneDrive\\\\Desktop\\\\30_July_PythonAndDataScience\\\\08_05_String\\\\String_Escape_Char.ipynb'"
      ]
     },
     "execution_count": 52,
     "metadata": {},
     "output_type": "execute_result"
    }
   ],
   "source": [
    "file_path = r'C:\\Users\\hp\\OneDrive\\Desktop\\30_July_PythonAndDataScience\\08_05_String\\String_Escape_Char.ipynb'\n",
    "file_path"
   ]
  },
  {
   "cell_type": "code",
   "execution_count": 41,
   "id": "bd972844",
   "metadata": {},
   "outputs": [
    {
     "data": {
      "text/plain": [
       "'C:\\\\Users\\\\hp\\\\OneDrive\\\\Desktop\\\\30_July_PythonAndDataScience'"
      ]
     },
     "execution_count": 41,
     "metadata": {},
     "output_type": "execute_result"
    }
   ],
   "source": [
    "file_path = \"C:\\\\Users\\\\hp\\\\OneDrive\\\\Desktop\\\\30_July_PythonAndDataScience\"\n",
    "file_path"
   ]
  },
  {
   "cell_type": "code",
   "execution_count": 44,
   "id": "551d0db5",
   "metadata": {},
   "outputs": [
    {
     "data": {
      "text/plain": [
       "'C:\\\\Users\\\\hp\\\\OneDrive\\\\Desktop'"
      ]
     },
     "execution_count": 44,
     "metadata": {},
     "output_type": "execute_result"
    }
   ],
   "source": [
    "\"C:\\\\Users\\\\hp\\\\OneDrive\\\\Desktop\""
   ]
  },
  {
   "cell_type": "code",
   "execution_count": 45,
   "id": "388c84c2",
   "metadata": {},
   "outputs": [
    {
     "data": {
      "text/plain": [
       "'C:/Users/hp/OneDrive/Desktop'"
      ]
     },
     "execution_count": 45,
     "metadata": {},
     "output_type": "execute_result"
    }
   ],
   "source": [
    "\"C:/Users/hp/OneDrive/Desktop\""
   ]
  },
  {
   "cell_type": "markdown",
   "id": "855c1768",
   "metadata": {},
   "source": [
    "## 3. \\t\n",
    "- \\t = used to Tab"
   ]
  },
  {
   "cell_type": "code",
   "execution_count": 46,
   "id": "d54266db",
   "metadata": {},
   "outputs": [
    {
     "name": "stdout",
     "output_type": "stream",
     "text": [
      "My String = Machine \tlearning \t(ML)\n"
     ]
    }
   ],
   "source": [
    "Ml = \"Machine \\tlearning \\t(ML)\"\n",
    "print(f\"My String = {Ml}\")"
   ]
  },
  {
   "cell_type": "code",
   "execution_count": 53,
   "id": "421ffa47",
   "metadata": {},
   "outputs": [
    {
     "name": "stdout",
     "output_type": "stream",
     "text": [
      "Machine \n",
      "   learning \n",
      "\t(ML)\n"
     ]
    }
   ],
   "source": [
    "Ml = \"Machine \\n   learning \\n\\t(ML)\"\n",
    "print(f\"{Ml}\")"
   ]
  },
  {
   "cell_type": "code",
   "execution_count": 50,
   "id": "fbf58f82",
   "metadata": {},
   "outputs": [
    {
     "name": "stdout",
     "output_type": "stream",
     "text": [
      "\tMachine \tlearning \t(ML)\n"
     ]
    }
   ],
   "source": [
    "Ml = \"\\tMachine \\tlearning \\t(ML)\"\n",
    "print(f\"{Ml}\")"
   ]
  },
  {
   "cell_type": "code",
   "execution_count": null,
   "id": "177a62f9",
   "metadata": {},
   "outputs": [],
   "source": []
  },
  {
   "cell_type": "code",
   "execution_count": null,
   "id": "09cc3f4c",
   "metadata": {},
   "outputs": [],
   "source": []
  }
 ],
 "metadata": {
  "kernelspec": {
   "display_name": "Python 3",
   "language": "python",
   "name": "python3"
  },
  "language_info": {
   "codemirror_mode": {
    "name": "ipython",
    "version": 3
   },
   "file_extension": ".py",
   "mimetype": "text/x-python",
   "name": "python",
   "nbconvert_exporter": "python",
   "pygments_lexer": "ipython3",
   "version": "3.8.8"
  }
 },
 "nbformat": 4,
 "nbformat_minor": 5
}
