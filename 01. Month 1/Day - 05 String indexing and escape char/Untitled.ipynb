{
 "cells": [
  {
   "cell_type": "code",
   "execution_count": 2,
   "id": "58c93af3",
   "metadata": {},
   "outputs": [
    {
     "data": {
      "text/plain": [
       "'enisaa '"
      ]
     },
     "execution_count": 2,
     "metadata": {},
     "output_type": "execute_result"
    }
   ],
   "source": [
    "name = \"python and data science\"\n",
    "\n",
    "name[-1: -14:-2]"
   ]
  },
  {
   "cell_type": "code",
   "execution_count": 3,
   "id": "b74a0abb",
   "metadata": {},
   "outputs": [
    {
     "data": {
      "text/plain": [
       "''"
      ]
     },
     "execution_count": 3,
     "metadata": {},
     "output_type": "execute_result"
    }
   ],
   "source": [
    "name[1:14:-1]"
   ]
  },
  {
   "cell_type": "code",
   "execution_count": 5,
   "id": "6373ea4d",
   "metadata": {},
   "outputs": [
    {
     "data": {
      "text/plain": [
       "''"
      ]
     },
     "execution_count": 5,
     "metadata": {},
     "output_type": "execute_result"
    }
   ],
   "source": [
    "name[-1:-14:1]"
   ]
  },
  {
   "cell_type": "code",
   "execution_count": null,
   "id": "6aca0538",
   "metadata": {},
   "outputs": [],
   "source": []
  }
 ],
 "metadata": {
  "kernelspec": {
   "display_name": "Python 3 (ipykernel)",
   "language": "python",
   "name": "python3"
  },
  "language_info": {
   "codemirror_mode": {
    "name": "ipython",
    "version": 3
   },
   "file_extension": ".py",
   "mimetype": "text/x-python",
   "name": "python",
   "nbconvert_exporter": "python",
   "pygments_lexer": "ipython3",
   "version": "3.9.12"
  }
 },
 "nbformat": 4,
 "nbformat_minor": 5
}
