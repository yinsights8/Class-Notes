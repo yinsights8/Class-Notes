{
 "cells": [
  {
   "cell_type": "markdown",
   "id": "3940692b",
   "metadata": {},
   "source": [
    "# Delete items from dictionary\n",
    "- 1. pop\n",
    "- 2. popitem\n",
    "- 3. clear\n",
    "- 4. del"
   ]
  },
  {
   "cell_type": "code",
   "execution_count": 1,
   "id": "0261521c",
   "metadata": {},
   "outputs": [
    {
     "data": {
      "text/plain": [
       "{'Employee Name': 'Komal',\n",
       " 'Company Name': 'eClerx',\n",
       " 'Salary': '1500000',\n",
       " 'Designation': 'Data Scientist'}"
      ]
     },
     "execution_count": 1,
     "metadata": {},
     "output_type": "execute_result"
    }
   ],
   "source": [
    "dict1 = {\n",
    "    \"Employee Name\" : \"Komal\",\n",
    "    \"Company Name\"  : \"eClerx\",\n",
    "    \"Salary\"        : \"1500000\",\n",
    "    \"Designation\"   : \"Data Scientist\"\n",
    "}\n",
    "dict1"
   ]
  },
  {
   "cell_type": "code",
   "execution_count": null,
   "id": "2ddd423d",
   "metadata": {},
   "outputs": [],
   "source": []
  },
  {
   "cell_type": "markdown",
   "id": "0d7f5f98",
   "metadata": {},
   "source": [
    "# 1. pop()\n",
    "- dictionary.pop(key)"
   ]
  },
  {
   "cell_type": "code",
   "execution_count": 3,
   "id": "f75f672b",
   "metadata": {},
   "outputs": [
    {
     "data": {
      "text/plain": [
       "{'Employee Name': 'Komal',\n",
       " 'Company Name': 'eClerx',\n",
       " 'Salary': '1500000',\n",
       " 'Designation': 'Data Scientist'}"
      ]
     },
     "execution_count": 3,
     "metadata": {},
     "output_type": "execute_result"
    }
   ],
   "source": [
    "dict1 = {\n",
    "    \"Employee Name\" : \"Komal\",\n",
    "    \"Company Name\"  : \"eClerx\",\n",
    "    \"Salary\"        : \"1500000\",\n",
    "    \"Designation\"   : \"Data Scientist\"\n",
    "}\n",
    "dict1"
   ]
  },
  {
   "cell_type": "code",
   "execution_count": 5,
   "id": "638adad7",
   "metadata": {},
   "outputs": [
    {
     "name": "stdout",
     "output_type": "stream",
     "text": [
      "{'Employee Name': 'Komal', 'Company Name': 'eClerx', 'Salary': '1500000'}\n"
     ]
    }
   ],
   "source": [
    "dict1.pop(\"Designation\")\n",
    "print(dict1)"
   ]
  },
  {
   "cell_type": "code",
   "execution_count": 7,
   "id": "63121d29",
   "metadata": {},
   "outputs": [
    {
     "name": "stdout",
     "output_type": "stream",
     "text": [
      "{'Employee Name': 'Komal', 'Company Name': 'eClerx', 'Salary': '1500000', 'Designation': 'Data Scientist'}\n",
      "\n",
      "{'Employee Name': 'Komal', 'Salary': '1500000', 'Designation': 'Data Scientist'}\n"
     ]
    }
   ],
   "source": [
    "dict1 = {\n",
    "    \"Employee Name\" : \"Komal\",\n",
    "    \"Company Name\"  : \"eClerx\",\n",
    "    \"Salary\"        : \"1500000\",\n",
    "    \"Designation\"   : \"Data Scientist\"\n",
    "}\n",
    "print(dict1)\n",
    "dict1.pop(\"Company Name\")\n",
    "print()\n",
    "print(dict1)\n"
   ]
  },
  {
   "cell_type": "markdown",
   "id": "546f2c05",
   "metadata": {},
   "source": [
    "# 2. popitem()\n",
    "- It will remove the last inserted item"
   ]
  },
  {
   "cell_type": "code",
   "execution_count": 8,
   "id": "eea54dbf",
   "metadata": {},
   "outputs": [
    {
     "name": "stdout",
     "output_type": "stream",
     "text": [
      "{'Employee Name': 'Komal', 'Company Name': 'eClerx', 'Salary': '1500000', 'Designation': 'Data Scientist'}\n",
      "\n",
      "{'Employee Name': 'Komal', 'Company Name': 'eClerx', 'Salary': '1500000'}\n"
     ]
    }
   ],
   "source": [
    "dict1 = {\n",
    "    \"Employee Name\" : \"Komal\",\n",
    "    \"Company Name\"  : \"eClerx\",\n",
    "    \"Salary\"        : \"1500000\",\n",
    "    \"Designation\"   : \"Data Scientist\"\n",
    "}\n",
    "print(dict1)\n",
    "dict1.popitem()\n",
    "print()\n",
    "print(dict1)"
   ]
  },
  {
   "cell_type": "code",
   "execution_count": 9,
   "id": "53b7d328",
   "metadata": {},
   "outputs": [
    {
     "name": "stdout",
     "output_type": "stream",
     "text": [
      "{'Employee Name': 'Komal', 'Company Name': 'eClerx', 'Salary': '1500000', 'Designation': 'Data Scientist'}\n",
      "\n",
      "{'Employee Name': 'Komal', 'Company Name': 'eClerx', 'Salary': '1500000'}\n",
      "\n",
      "{'Employee Name': 'Komal', 'Company Name': 'eClerx'}\n"
     ]
    }
   ],
   "source": [
    "dict1 = {\n",
    "    \"Employee Name\" : \"Komal\",\n",
    "    \"Company Name\"  : \"eClerx\",\n",
    "    \"Salary\"        : \"1500000\",\n",
    "    \"Designation\"   : \"Data Scientist\"\n",
    "}\n",
    "print(dict1)\n",
    "dict1.popitem()\n",
    "print()\n",
    "print(dict1)\n",
    "dict1.popitem()\n",
    "print()\n",
    "print(dict1)"
   ]
  },
  {
   "cell_type": "markdown",
   "id": "bfcc6291",
   "metadata": {},
   "source": [
    "# 3. clear() "
   ]
  },
  {
   "cell_type": "code",
   "execution_count": 10,
   "id": "edc69fe8",
   "metadata": {},
   "outputs": [
    {
     "name": "stdout",
     "output_type": "stream",
     "text": [
      "{'Employee Name': 'Komal', 'Company Name': 'eClerx', 'Salary': '1500000', 'Designation': 'Data Scientist'}\n",
      "\n",
      "{}\n"
     ]
    }
   ],
   "source": [
    "dict1 = {\n",
    "    \"Employee Name\" : \"Komal\",\n",
    "    \"Company Name\"  : \"eClerx\",\n",
    "    \"Salary\"        : \"1500000\",\n",
    "    \"Designation\"   : \"Data Scientist\"\n",
    "}\n",
    "print(dict1)\n",
    "dict1.clear()\n",
    "print()\n",
    "print(dict1)"
   ]
  },
  {
   "cell_type": "markdown",
   "id": "b002b7d5",
   "metadata": {},
   "source": [
    "# 4. del keyword"
   ]
  },
  {
   "cell_type": "code",
   "execution_count": 11,
   "id": "edd34eaf",
   "metadata": {},
   "outputs": [
    {
     "name": "stdout",
     "output_type": "stream",
     "text": [
      "{'Employee Name': 'Komal', 'Company Name': 'eClerx', 'Salary': '1500000', 'Designation': 'Data Scientist'}\n",
      "\n"
     ]
    },
    {
     "ename": "NameError",
     "evalue": "name 'dict1' is not defined",
     "output_type": "error",
     "traceback": [
      "\u001b[1;31m---------------------------------------------------------------------------\u001b[0m",
      "\u001b[1;31mNameError\u001b[0m                                 Traceback (most recent call last)",
      "Input \u001b[1;32mIn [11]\u001b[0m, in \u001b[0;36m<cell line: 10>\u001b[1;34m()\u001b[0m\n\u001b[0;32m      8\u001b[0m \u001b[38;5;28;01mdel\u001b[39;00m dict1\n\u001b[0;32m      9\u001b[0m \u001b[38;5;28mprint\u001b[39m()\n\u001b[1;32m---> 10\u001b[0m \u001b[38;5;28mprint\u001b[39m(\u001b[43mdict1\u001b[49m)\n",
      "\u001b[1;31mNameError\u001b[0m: name 'dict1' is not defined"
     ]
    }
   ],
   "source": [
    "dict1 = {\n",
    "    \"Employee Name\" : \"Komal\",\n",
    "    \"Company Name\"  : \"eClerx\",\n",
    "    \"Salary\"        : \"1500000\",\n",
    "    \"Designation\"   : \"Data Scientist\"\n",
    "}\n",
    "print(dict1)\n",
    "del dict1\n",
    "print()\n",
    "print(dict1)"
   ]
  },
  {
   "cell_type": "code",
   "execution_count": 12,
   "id": "299f42be",
   "metadata": {},
   "outputs": [
    {
     "name": "stdout",
     "output_type": "stream",
     "text": [
      "{'Employee Name': 'Komal', 'Company Name': 'eClerx', 'Salary': '1500000', 'Designation': 'Data Scientist'}\n",
      "\n",
      "{'Employee Name': 'Komal', 'Salary': '1500000', 'Designation': 'Data Scientist'}\n"
     ]
    }
   ],
   "source": [
    "dict1 = {\n",
    "    \"Employee Name\" : \"Komal\",\n",
    "    \"Company Name\"  : \"eClerx\",\n",
    "    \"Salary\"        : \"1500000\",\n",
    "    \"Designation\"   : \"Data Scientist\"\n",
    "}\n",
    "print(dict1)\n",
    "del dict1[\"Company Name\"]\n",
    "print()\n",
    "print(dict1)"
   ]
  },
  {
   "cell_type": "markdown",
   "id": "561aa932",
   "metadata": {},
   "source": [
    "# Nested Dictionary\n",
    "- Dictionary in dictionary"
   ]
  },
  {
   "cell_type": "code",
   "execution_count": 13,
   "id": "04df66bd",
   "metadata": {},
   "outputs": [],
   "source": [
    "dict1 = {\n",
    "    \"Employee Name\" : \"Komal\",\n",
    "    \"Company Name\"  : \"eClerx\",\n",
    "    \"Salary\"        : \"1500000\",\n",
    "    \"Designation\"   : \"Data Scientist\"\n",
    "}"
   ]
  },
  {
   "cell_type": "code",
   "execution_count": 14,
   "id": "d63e1fd8",
   "metadata": {},
   "outputs": [],
   "source": [
    "dict2 = {\n",
    "    \"Employee Name\" : \"Omkar\",\n",
    "    \"Company Name\"  : \"TCS\",\n",
    "    \"Salary\"        : \"2000000\",\n",
    "    \"Designation\"   : \"ML Engineer\"\n",
    "}"
   ]
  },
  {
   "cell_type": "code",
   "execution_count": 16,
   "id": "9f51fe48",
   "metadata": {},
   "outputs": [
    {
     "name": "stdout",
     "output_type": "stream",
     "text": [
      "{'ABC11': {'Employee Name': 'Komal', 'Company Name': 'eClerx', 'Salary': '1500000', 'Designation': 'Data Scientist'}, 'ABC12': {'Employee Name': 'Omkar', 'Company Name': 'TCS', 'Salary': '2000000', 'Designation': 'ML Engineer'}}\n"
     ]
    }
   ],
   "source": [
    "employee_info = {\n",
    "    \"ABC11\" : dict1,\n",
    "    \"ABC12\" : dict2\n",
    "}\n",
    "print(employee_info)"
   ]
  },
  {
   "cell_type": "code",
   "execution_count": 21,
   "id": "2dc2a1a1",
   "metadata": {},
   "outputs": [
    {
     "data": {
      "text/plain": [
       "22"
      ]
     },
     "execution_count": 21,
     "metadata": {},
     "output_type": "execute_result"
    }
   ],
   "source": [
    "li = [[1,2,3],[11,22,33],[111,222,333]]\n",
    "li[1][1]"
   ]
  },
  {
   "cell_type": "code",
   "execution_count": 17,
   "id": "d2b98713",
   "metadata": {},
   "outputs": [
    {
     "data": {
      "text/plain": [
       "{'Employee Name': 'Komal',\n",
       " 'Company Name': 'eClerx',\n",
       " 'Salary': '1500000',\n",
       " 'Designation': 'Data Scientist'}"
      ]
     },
     "execution_count": 17,
     "metadata": {},
     "output_type": "execute_result"
    }
   ],
   "source": [
    "dict1"
   ]
  },
  {
   "cell_type": "code",
   "execution_count": 18,
   "id": "7074df0f",
   "metadata": {},
   "outputs": [
    {
     "data": {
      "text/plain": [
       "'eClerx'"
      ]
     },
     "execution_count": 18,
     "metadata": {},
     "output_type": "execute_result"
    }
   ],
   "source": [
    "dict1[\"Company Name\"]"
   ]
  },
  {
   "cell_type": "code",
   "execution_count": 22,
   "id": "29740f98",
   "metadata": {},
   "outputs": [
    {
     "data": {
      "text/plain": [
       "{'Employee Name': 'Omkar',\n",
       " 'Company Name': 'TCS',\n",
       " 'Salary': '2000000',\n",
       " 'Designation': 'ML Engineer'}"
      ]
     },
     "execution_count": 22,
     "metadata": {},
     "output_type": "execute_result"
    }
   ],
   "source": [
    "employee_info[\"ABC12\"]"
   ]
  },
  {
   "cell_type": "code",
   "execution_count": 23,
   "id": "d4fa9f19",
   "metadata": {},
   "outputs": [
    {
     "data": {
      "text/plain": [
       "'TCS'"
      ]
     },
     "execution_count": 23,
     "metadata": {},
     "output_type": "execute_result"
    }
   ],
   "source": [
    "employee_info[\"ABC12\"][\"Company Name\"]"
   ]
  },
  {
   "cell_type": "code",
   "execution_count": 24,
   "id": "fbd01480",
   "metadata": {},
   "outputs": [
    {
     "data": {
      "text/plain": [
       "'2000000'"
      ]
     },
     "execution_count": 24,
     "metadata": {},
     "output_type": "execute_result"
    }
   ],
   "source": [
    "employee_info[\"ABC12\"][\"Salary\"]"
   ]
  },
  {
   "cell_type": "code",
   "execution_count": 26,
   "id": "204d6417",
   "metadata": {},
   "outputs": [
    {
     "name": "stdout",
     "output_type": "stream",
     "text": [
      "{'ABC11': {'Employee Name': 'Komal', 'Company Name': 'eClerx', 'Salary': '1500000', 'Designation': 'Data Scientist'}, 'ABC12': {'Employee Name': 'Omkar', 'Company Name': 'TCS', 'Salary': '2000000', 'Designation': 'ML Engineer'}, 'ABC13': {'Employee Name': 'Akshay', 'Company Name': 'MiraFra', 'Salary': [1500000, 1700000, 2000000], 'Designation': 'Data Analyst'}}\n"
     ]
    }
   ],
   "source": [
    "employee_info = {\n",
    "    \"ABC11\" : dict1,\n",
    "    \"ABC12\" : dict2,\n",
    "    \"ABC13\" : {\n",
    "        'Employee Name': \"Akshay\",\n",
    "        'Company Name' : \"MiraFra\",\n",
    "        \"Salary\"       : [1500000,1700000,2000000],\n",
    "        'Designation'  : \"Data Analyst\" \n",
    "    }\n",
    "}\n",
    "print(employee_info)"
   ]
  },
  {
   "cell_type": "code",
   "execution_count": 27,
   "id": "3fa7f3d3",
   "metadata": {},
   "outputs": [
    {
     "data": {
      "text/plain": [
       "{'Employee Name': 'Akshay',\n",
       " 'Company Name': 'MiraFra',\n",
       " 'Salary': [1500000, 1700000, 2000000],\n",
       " 'Designation': 'Data Analyst'}"
      ]
     },
     "execution_count": 27,
     "metadata": {},
     "output_type": "execute_result"
    }
   ],
   "source": [
    "employee_info[\"ABC13\"]"
   ]
  },
  {
   "cell_type": "code",
   "execution_count": 28,
   "id": "765c4511",
   "metadata": {},
   "outputs": [
    {
     "data": {
      "text/plain": [
       "[1500000, 1700000, 2000000]"
      ]
     },
     "execution_count": 28,
     "metadata": {},
     "output_type": "execute_result"
    }
   ],
   "source": [
    "employee_info[\"ABC13\"][\"Salary\"]"
   ]
  },
  {
   "cell_type": "code",
   "execution_count": 29,
   "id": "9d3721a8",
   "metadata": {},
   "outputs": [
    {
     "data": {
      "text/plain": [
       "1500000"
      ]
     },
     "execution_count": 29,
     "metadata": {},
     "output_type": "execute_result"
    }
   ],
   "source": [
    "employee_info[\"ABC13\"][\"Salary\"][0]"
   ]
  },
  {
   "cell_type": "code",
   "execution_count": 30,
   "id": "4b877f6a",
   "metadata": {},
   "outputs": [
    {
     "data": {
      "text/plain": [
       "1700000"
      ]
     },
     "execution_count": 30,
     "metadata": {},
     "output_type": "execute_result"
    }
   ],
   "source": [
    "employee_info[\"ABC13\"][\"Salary\"][1]"
   ]
  },
  {
   "cell_type": "code",
   "execution_count": 31,
   "id": "e6fbcbcd",
   "metadata": {},
   "outputs": [
    {
     "data": {
      "text/plain": [
       "2000000"
      ]
     },
     "execution_count": 31,
     "metadata": {},
     "output_type": "execute_result"
    }
   ],
   "source": [
    "employee_info[\"ABC13\"][\"Salary\"][2]"
   ]
  },
  {
   "cell_type": "code",
   "execution_count": 33,
   "id": "8152760d",
   "metadata": {},
   "outputs": [],
   "source": [
    "employee_info[\"ABC13\"][\"Salary\"][-1] = 2100000"
   ]
  },
  {
   "cell_type": "code",
   "execution_count": 34,
   "id": "512dd096",
   "metadata": {},
   "outputs": [
    {
     "data": {
      "text/plain": [
       "2100000"
      ]
     },
     "execution_count": 34,
     "metadata": {},
     "output_type": "execute_result"
    }
   ],
   "source": [
    "employee_info[\"ABC13\"][\"Salary\"][-1]"
   ]
  },
  {
   "cell_type": "code",
   "execution_count": 35,
   "id": "794fe956",
   "metadata": {},
   "outputs": [
    {
     "data": {
      "text/plain": [
       "{'ABC11': {'Employee Name': 'Komal',\n",
       "  'Company Name': 'eClerx',\n",
       "  'Salary': '1500000',\n",
       "  'Designation': 'Data Scientist'},\n",
       " 'ABC12': {'Employee Name': 'Omkar',\n",
       "  'Company Name': 'TCS',\n",
       "  'Salary': '2000000',\n",
       "  'Designation': 'ML Engineer'},\n",
       " 'ABC13': {'Employee Name': 'Akshay',\n",
       "  'Company Name': 'MiraFra',\n",
       "  'Salary': [1500000, 1700000, 2100000],\n",
       "  'Designation': 'Data Analyst'}}"
      ]
     },
     "execution_count": 35,
     "metadata": {},
     "output_type": "execute_result"
    }
   ],
   "source": [
    "employee_info"
   ]
  },
  {
   "cell_type": "code",
   "execution_count": 36,
   "id": "c8b92e51",
   "metadata": {},
   "outputs": [
    {
     "name": "stdout",
     "output_type": "stream",
     "text": [
      "{'ABC11': {'Employee Name': 'Komal', 'Company Name': 'eClerx', 'Salary': '1500000', 'Designation': 'Data Scientist'}, 'ABC12': {'Employee Name': 'Omkar', 'Company Name': 'TCS', 'Salary': '2000000', 'Designation': 'ML Engineer'}, 'ABC13': {'Employee Name': 'Akshay', 'Company Name': 'MiraFra', 'Salary': [1500000, 1700000, 2000000], 'Designation': 'Data Analyst', 'Location': {'City': 'Pune', 'State': 'Maharashtra', 'PinCode': '411001'}}}\n"
     ]
    }
   ],
   "source": [
    "employee_info = {\n",
    "    \"ABC11\" : dict1,\n",
    "    \"ABC12\" : dict2,\n",
    "    \"ABC13\" : {\n",
    "        'Employee Name': \"Akshay\",\n",
    "        'Company Name' : \"MiraFra\",\n",
    "        \"Salary\"       : [1500000,1700000,2000000],\n",
    "        'Designation'  : \"Data Analyst\",\n",
    "        \"Location\"     : {\n",
    "            \"City\"     : \"Pune\",\n",
    "            \"State\"    : \"Maharashtra\",\n",
    "            \"PinCode\"  : \"411001\"\n",
    "        }\n",
    "    }\n",
    "}\n",
    "print(employee_info)"
   ]
  },
  {
   "cell_type": "code",
   "execution_count": 37,
   "id": "57aaa55a",
   "metadata": {},
   "outputs": [
    {
     "data": {
      "text/plain": [
       "{'City': 'Pune', 'State': 'Maharashtra', 'PinCode': '411001'}"
      ]
     },
     "execution_count": 37,
     "metadata": {},
     "output_type": "execute_result"
    }
   ],
   "source": [
    "employee_info[\"ABC13\"][\"Location\"]"
   ]
  },
  {
   "cell_type": "code",
   "execution_count": 38,
   "id": "5cf2ce44",
   "metadata": {},
   "outputs": [
    {
     "data": {
      "text/plain": [
       "'Maharashtra'"
      ]
     },
     "execution_count": 38,
     "metadata": {},
     "output_type": "execute_result"
    }
   ],
   "source": [
    "employee_info[\"ABC13\"][\"Location\"][\"State\"]"
   ]
  },
  {
   "cell_type": "code",
   "execution_count": 39,
   "id": "6b8a7cc5",
   "metadata": {},
   "outputs": [],
   "source": [
    "employee_info[\"ABC13\"][\"Location\"][\"PinCode\"] = 411002"
   ]
  },
  {
   "cell_type": "code",
   "execution_count": 40,
   "id": "a321b05a",
   "metadata": {},
   "outputs": [
    {
     "data": {
      "text/plain": [
       "{'ABC11': {'Employee Name': 'Komal',\n",
       "  'Company Name': 'eClerx',\n",
       "  'Salary': '1500000',\n",
       "  'Designation': 'Data Scientist'},\n",
       " 'ABC12': {'Employee Name': 'Omkar',\n",
       "  'Company Name': 'TCS',\n",
       "  'Salary': '2000000',\n",
       "  'Designation': 'ML Engineer'},\n",
       " 'ABC13': {'Employee Name': 'Akshay',\n",
       "  'Company Name': 'MiraFra',\n",
       "  'Salary': [1500000, 1700000, 2000000],\n",
       "  'Designation': 'Data Analyst',\n",
       "  'Location': {'City': 'Pune', 'State': 'Maharashtra', 'PinCode': 411002}}}"
      ]
     },
     "execution_count": 40,
     "metadata": {},
     "output_type": "execute_result"
    }
   ],
   "source": [
    "employee_info"
   ]
  },
  {
   "cell_type": "code",
   "execution_count": 41,
   "id": "5c7de073",
   "metadata": {},
   "outputs": [
    {
     "data": {
      "text/plain": [
       "int"
      ]
     },
     "execution_count": 41,
     "metadata": {},
     "output_type": "execute_result"
    }
   ],
   "source": [
    "type(employee_info[\"ABC13\"][\"Location\"][\"PinCode\"])"
   ]
  },
  {
   "cell_type": "code",
   "execution_count": 42,
   "id": "c0465c9f",
   "metadata": {},
   "outputs": [
    {
     "name": "stdout",
     "output_type": "stream",
     "text": [
      "{'ABC11': {'Employee Name': 'Komal', 'Company Name': 'eClerx', 'Salary': '1500000', 'Designation': 'Data Scientist'}, 'ABC12': {'Employee Name': 'Omkar', 'Company Name': 'TCS', 'Salary': '2000000', 'Designation': 'ML Engineer'}, 'ABC13': {'Employee Name': 'Akshay', 'Company Name': 'MiraFra', 'Salary': (1500000, 1700000, 2000000), 'Designation': 'Data Analyst', 'Location': {'City': 'Pune', 'State': 'Maharashtra', 'PinCode': '411001'}}}\n"
     ]
    }
   ],
   "source": [
    "employee_info = {\n",
    "    \"ABC11\" : dict1,\n",
    "    \"ABC12\" : dict2,\n",
    "    \"ABC13\" : {\n",
    "        'Employee Name': \"Akshay\",\n",
    "        'Company Name' : \"MiraFra\",\n",
    "        \"Salary\"       : (1500000,1700000,2000000),\n",
    "        'Designation'  : \"Data Analyst\",\n",
    "        \"Location\"     : {\n",
    "            \"City\"     : \"Pune\",\n",
    "            \"State\"    : \"Maharashtra\",\n",
    "            \"PinCode\"  : \"411001\"\n",
    "        }\n",
    "    }\n",
    "}\n",
    "print(employee_info)"
   ]
  },
  {
   "cell_type": "code",
   "execution_count": 43,
   "id": "26ac421a",
   "metadata": {},
   "outputs": [
    {
     "data": {
      "text/plain": [
       "(1500000, 1700000, 2000000)"
      ]
     },
     "execution_count": 43,
     "metadata": {},
     "output_type": "execute_result"
    }
   ],
   "source": [
    "employee_info[\"ABC13\"][\"Salary\"]"
   ]
  },
  {
   "cell_type": "code",
   "execution_count": 44,
   "id": "0a14b053",
   "metadata": {},
   "outputs": [
    {
     "data": {
      "text/plain": [
       "tuple"
      ]
     },
     "execution_count": 44,
     "metadata": {},
     "output_type": "execute_result"
    }
   ],
   "source": [
    "type(employee_info[\"ABC13\"][\"Salary\"])"
   ]
  },
  {
   "cell_type": "code",
   "execution_count": 45,
   "id": "5fbb459e",
   "metadata": {},
   "outputs": [
    {
     "ename": "TypeError",
     "evalue": "'tuple' object does not support item assignment",
     "output_type": "error",
     "traceback": [
      "\u001b[1;31m---------------------------------------------------------------------------\u001b[0m",
      "\u001b[1;31mTypeError\u001b[0m                                 Traceback (most recent call last)",
      "Input \u001b[1;32mIn [45]\u001b[0m, in \u001b[0;36m<cell line: 1>\u001b[1;34m()\u001b[0m\n\u001b[1;32m----> 1\u001b[0m employee_info[\u001b[38;5;124m\"\u001b[39m\u001b[38;5;124mABC13\u001b[39m\u001b[38;5;124m\"\u001b[39m][\u001b[38;5;124m\"\u001b[39m\u001b[38;5;124mSalary\u001b[39m\u001b[38;5;124m\"\u001b[39m][\u001b[38;5;241m0\u001b[39m] \u001b[38;5;241m=\u001b[39m \u001b[38;5;241m1600000\u001b[39m\n",
      "\u001b[1;31mTypeError\u001b[0m: 'tuple' object does not support item assignment"
     ]
    }
   ],
   "source": [
    "employee_info[\"ABC13\"][\"Salary\"][0] = 1600000"
   ]
  },
  {
   "cell_type": "code",
   "execution_count": 47,
   "id": "8adcafbb",
   "metadata": {},
   "outputs": [
    {
     "name": "stdout",
     "output_type": "stream",
     "text": [
      "1500005\n",
      "1700005\n",
      "2000005\n"
     ]
    }
   ],
   "source": [
    "for i in employee_info[\"ABC13\"][\"Salary\"]:\n",
    "    print(i + 5)"
   ]
  },
  {
   "cell_type": "code",
   "execution_count": 49,
   "id": "65637a27",
   "metadata": {},
   "outputs": [],
   "source": [
    "lang_name = [\"Python\",\"Java\",\"C\",\"R\",\"GoLang\"]\n",
    "popularity = [95, 89, 75, 79, 70]"
   ]
  },
  {
   "cell_type": "code",
   "execution_count": 54,
   "id": "8466265c",
   "metadata": {},
   "outputs": [
    {
     "name": "stdout",
     "output_type": "stream",
     "text": [
      "95\n",
      "89\n",
      "75\n",
      "79\n",
      "70\n",
      "\n",
      "95\n",
      "89\n",
      "75\n",
      "79\n",
      "70\n",
      "\n",
      "95\n",
      "89\n",
      "75\n",
      "79\n",
      "70\n",
      "\n",
      "95\n",
      "89\n",
      "75\n",
      "79\n",
      "70\n",
      "\n",
      "95\n",
      "89\n",
      "75\n",
      "79\n",
      "70\n",
      "\n"
     ]
    }
   ],
   "source": [
    "for L in lang_name:\n",
    "    for P in popularity:\n",
    "        print(P)\n",
    "    print()"
   ]
  },
  {
   "cell_type": "code",
   "execution_count": 51,
   "id": "a5098106",
   "metadata": {},
   "outputs": [
    {
     "name": "stdout",
     "output_type": "stream",
     "text": [
      "{'Python': 70}\n",
      "{'Python': 70, 'Java': 70}\n",
      "{'Python': 70, 'Java': 70, 'C': 70}\n",
      "{'Python': 70, 'Java': 70, 'C': 70, 'R': 70}\n",
      "{'Python': 70, 'Java': 70, 'C': 70, 'R': 70, 'GoLang': 70}\n"
     ]
    }
   ],
   "source": [
    "lang_dict = {}\n",
    "for L in lang_name:\n",
    "    for P in popularity:\n",
    "        lang_dict[L] = P\n",
    "    print(lang_dict)"
   ]
  },
  {
   "cell_type": "code",
   "execution_count": 58,
   "id": "6cb823bd",
   "metadata": {},
   "outputs": [
    {
     "name": "stdout",
     "output_type": "stream",
     "text": [
      "{'Python': 95}\n",
      "{'Python': 95, 'Java': 89}\n",
      "{'Python': 95, 'Java': 89, 'C': 75}\n",
      "{'Python': 95, 'Java': 89, 'C': 75, 'R': 79}\n",
      "{'Python': 95, 'Java': 89, 'C': 75, 'R': 79, 'GoLang': 70}\n"
     ]
    }
   ],
   "source": [
    "lang_dict = {}\n",
    "for index,lang in enumerate(lang_name):\n",
    "    lang_dict[lang] = popularity[index]\n",
    "    print(lang_dict)"
   ]
  },
  {
   "cell_type": "code",
   "execution_count": 62,
   "id": "f913960b",
   "metadata": {},
   "outputs": [
    {
     "name": "stdout",
     "output_type": "stream",
     "text": [
      "Python 95\n",
      "Java 89\n",
      "C 75\n",
      "R 79\n",
      "GoLang 70\n"
     ]
    }
   ],
   "source": [
    "lang_dict = {}\n",
    "for i in range(0,len(lang_name)):\n",
    "    print(lang_name[i],popularity[i])"
   ]
  },
  {
   "cell_type": "code",
   "execution_count": 64,
   "id": "ef02b4d4",
   "metadata": {},
   "outputs": [
    {
     "name": "stdout",
     "output_type": "stream",
     "text": [
      "{'Python': 95}\n",
      "{'Python': 95, 'Java': 89}\n",
      "{'Python': 95, 'Java': 89, 'C': 75}\n",
      "{'Python': 95, 'Java': 89, 'C': 75, 'R': 79}\n",
      "{'Python': 95, 'Java': 89, 'C': 75, 'R': 79, 'GoLang': 70}\n"
     ]
    }
   ],
   "source": [
    "lang_dict = {}\n",
    "for i in range(0,len(lang_name)):\n",
    "    lang_dict.update({lang_name[i]:popularity[i]})\n",
    "    print(lang_dict)"
   ]
  },
  {
   "cell_type": "markdown",
   "id": "ec57435e",
   "metadata": {},
   "source": [
    "# Sort dictionary\n",
    "## 1. sort dictionary by using keys"
   ]
  },
  {
   "cell_type": "code",
   "execution_count": 65,
   "id": "550fc3a2",
   "metadata": {},
   "outputs": [
    {
     "data": {
      "text/plain": [
       "{'Python': 95, 'Java': 89, 'C': 75, 'R': 79, 'GoLang': 70}"
      ]
     },
     "execution_count": 65,
     "metadata": {},
     "output_type": "execute_result"
    }
   ],
   "source": [
    "lang_popularity = {'Python': 95, 'Java': 89, 'C': 75, 'R': 79, 'GoLang': 70}\n",
    "lang_popularity"
   ]
  },
  {
   "cell_type": "code",
   "execution_count": 66,
   "id": "144d8014",
   "metadata": {},
   "outputs": [
    {
     "data": {
      "text/plain": [
       "dict_keys(['Python', 'Java', 'C', 'R', 'GoLang'])"
      ]
     },
     "execution_count": 66,
     "metadata": {},
     "output_type": "execute_result"
    }
   ],
   "source": [
    "lang_popularity.keys()"
   ]
  },
  {
   "cell_type": "code",
   "execution_count": 68,
   "id": "6277bb5f",
   "metadata": {},
   "outputs": [
    {
     "data": {
      "text/plain": [
       "['C', 'GoLang', 'Java', 'Python', 'R']"
      ]
     },
     "execution_count": 68,
     "metadata": {},
     "output_type": "execute_result"
    }
   ],
   "source": [
    "sorted_keys = sorted(lang_popularity.keys())\n",
    "sorted_keys"
   ]
  },
  {
   "cell_type": "code",
   "execution_count": 69,
   "id": "51ffe713",
   "metadata": {},
   "outputs": [
    {
     "data": {
      "text/plain": [
       "['R', 'Python', 'Java', 'GoLang', 'C']"
      ]
     },
     "execution_count": 69,
     "metadata": {},
     "output_type": "execute_result"
    }
   ],
   "source": [
    "sorted_keys = sorted(lang_popularity.keys(),reverse=True)\n",
    "sorted_keys"
   ]
  },
  {
   "cell_type": "code",
   "execution_count": 71,
   "id": "6d342aa1",
   "metadata": {},
   "outputs": [
    {
     "name": "stdout",
     "output_type": "stream",
     "text": [
      "Language - R\n",
      "Language - Python\n",
      "Language - Java\n",
      "Language - GoLang\n",
      "Language - C\n"
     ]
    }
   ],
   "source": [
    "for i in sorted_keys:\n",
    "    print(\"Language -\",i)"
   ]
  },
  {
   "cell_type": "code",
   "execution_count": 74,
   "id": "92eaa8ed",
   "metadata": {},
   "outputs": [
    {
     "name": "stdout",
     "output_type": "stream",
     "text": [
      "{'R': 79}\n",
      "{'R': 79, 'Python': 95}\n",
      "{'R': 79, 'Python': 95, 'Java': 89}\n",
      "{'R': 79, 'Python': 95, 'Java': 89, 'GoLang': 70}\n",
      "{'R': 79, 'Python': 95, 'Java': 89, 'GoLang': 70, 'C': 75}\n"
     ]
    }
   ],
   "source": [
    "sorted_dict = {}\n",
    "for i in sorted_keys:\n",
    "    sorted_dict.update({i : lang_popularity[i]})\n",
    "    print(sorted_dict)\n",
    "    "
   ]
  },
  {
   "cell_type": "code",
   "execution_count": 72,
   "id": "1e9bb461",
   "metadata": {},
   "outputs": [
    {
     "data": {
      "text/plain": [
       "{'Python': 95, 'Java': 89, 'C': 75, 'R': 79, 'GoLang': 70}"
      ]
     },
     "execution_count": 72,
     "metadata": {},
     "output_type": "execute_result"
    }
   ],
   "source": [
    "lang_popularity"
   ]
  },
  {
   "cell_type": "code",
   "execution_count": 77,
   "id": "b85ca11e",
   "metadata": {},
   "outputs": [],
   "source": [
    "sorted_keys = sorted(lang_popularity.keys())"
   ]
  },
  {
   "cell_type": "code",
   "execution_count": 78,
   "id": "8cb28a2a",
   "metadata": {},
   "outputs": [
    {
     "name": "stdout",
     "output_type": "stream",
     "text": [
      "{'C': 75}\n",
      "{'C': 75, 'GoLang': 70}\n",
      "{'C': 75, 'GoLang': 70, 'Java': 89}\n",
      "{'C': 75, 'GoLang': 70, 'Java': 89, 'Python': 95}\n",
      "{'C': 75, 'GoLang': 70, 'Java': 89, 'Python': 95, 'R': 79}\n"
     ]
    }
   ],
   "source": [
    "sorted_dict = {}\n",
    "for i in sorted_keys:\n",
    "    sorted_dict.update({i : lang_popularity[i]})\n",
    "    print(sorted_dict)\n",
    "    "
   ]
  },
  {
   "cell_type": "code",
   "execution_count": null,
   "id": "7a2ed0dc",
   "metadata": {},
   "outputs": [],
   "source": []
  },
  {
   "cell_type": "code",
   "execution_count": null,
   "id": "50b6d28f",
   "metadata": {},
   "outputs": [],
   "source": []
  },
  {
   "cell_type": "code",
   "execution_count": null,
   "id": "5119c3d5",
   "metadata": {},
   "outputs": [],
   "source": []
  },
  {
   "cell_type": "code",
   "execution_count": null,
   "id": "5c2c0e89",
   "metadata": {},
   "outputs": [],
   "source": []
  },
  {
   "cell_type": "code",
   "execution_count": null,
   "id": "0dbe03a6",
   "metadata": {},
   "outputs": [],
   "source": []
  },
  {
   "cell_type": "code",
   "execution_count": null,
   "id": "03bb5737",
   "metadata": {},
   "outputs": [],
   "source": []
  },
  {
   "cell_type": "code",
   "execution_count": null,
   "id": "b949f0cc",
   "metadata": {},
   "outputs": [],
   "source": []
  },
  {
   "cell_type": "code",
   "execution_count": null,
   "id": "78bae41c",
   "metadata": {},
   "outputs": [],
   "source": []
  },
  {
   "cell_type": "code",
   "execution_count": null,
   "id": "c4968fe2",
   "metadata": {},
   "outputs": [],
   "source": []
  },
  {
   "cell_type": "code",
   "execution_count": null,
   "id": "0d4e5a03",
   "metadata": {},
   "outputs": [],
   "source": []
  },
  {
   "cell_type": "code",
   "execution_count": null,
   "id": "d95c836f",
   "metadata": {},
   "outputs": [],
   "source": []
  },
  {
   "cell_type": "code",
   "execution_count": null,
   "id": "8ba69ee3",
   "metadata": {},
   "outputs": [],
   "source": []
  },
  {
   "cell_type": "code",
   "execution_count": null,
   "id": "eeaa6e05",
   "metadata": {},
   "outputs": [],
   "source": []
  },
  {
   "cell_type": "code",
   "execution_count": null,
   "id": "e395bda9",
   "metadata": {},
   "outputs": [],
   "source": []
  }
 ],
 "metadata": {
  "kernelspec": {
   "display_name": "Python 3 (ipykernel)",
   "language": "python",
   "name": "python3"
  },
  "language_info": {
   "codemirror_mode": {
    "name": "ipython",
    "version": 3
   },
   "file_extension": ".py",
   "mimetype": "text/x-python",
   "name": "python",
   "nbconvert_exporter": "python",
   "pygments_lexer": "ipython3",
   "version": "3.9.12"
  }
 },
 "nbformat": 4,
 "nbformat_minor": 5
}
