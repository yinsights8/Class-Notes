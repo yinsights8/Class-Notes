{
 "cells": [
  {
   "cell_type": "markdown",
   "id": "c1ab9ec8",
   "metadata": {},
   "source": [
    "### create a dictionary with no function"
   ]
  },
  {
   "cell_type": "code",
   "execution_count": 1,
   "id": "aede6ba1",
   "metadata": {},
   "outputs": [
    {
     "name": "stdout",
     "output_type": "stream",
     "text": [
      "{'Python': 95, 'Java': 89, 'C': 75, 'R': 79, 'GoLang': 70}\n"
     ]
    }
   ],
   "source": [
    "new_dict = {}\n",
    "lang_name = [\"Python\",\"Java\",\"C\",\"R\",\"GoLang\"]\n",
    "popularity = [95, 89, 75, 79, 70]\n",
    "\n",
    "num = 0\n",
    "for i in lang_name:\n",
    "    new_dict.update({i: popularity[num]})\n",
    "    num += 1\n",
    "print(new_dict)"
   ]
  },
  {
   "cell_type": "code",
   "execution_count": 9,
   "id": "034bdb40",
   "metadata": {},
   "outputs": [
    {
     "name": "stdout",
     "output_type": "stream",
     "text": [
      "{'Python': 95, 'Java': 89, 'C': 75, 'R': 79, 'GoLang': 70}\n"
     ]
    }
   ],
   "source": [
    "new_dict1 = {}\n",
    "lang_name = [\"Python\",\"Java\",\"C\",\"R\",\"GoLang\"]\n",
    "popularity = [95, 89, 75, 79, 70]\n",
    "\n",
    "for i in range(0, len(lang_name)):\n",
    "    new_dict1.update({lang_name[i] : popularity[i]})\n",
    "print(new_dict1)"
   ]
  },
  {
   "cell_type": "code",
   "execution_count": 12,
   "id": "60e6212c",
   "metadata": {},
   "outputs": [
    {
     "name": "stdout",
     "output_type": "stream",
     "text": [
      "{'Python': 95, 'Java': 89, 'C': 75, 'R': 79, 'GoLang': 70}\n"
     ]
    }
   ],
   "source": [
    "new = {}\n",
    "lang_name = [\"Python\",\"Java\",\"C\",\"R\",\"GoLang\"]\n",
    "popularity = [95, 89, 75, 79, 70]\n",
    "\n",
    "for index, value in enumerate(lang_name):\n",
    "    new[value] = popularity[index]\n",
    "\n",
    "print(new)"
   ]
  },
  {
   "cell_type": "code",
   "execution_count": null,
   "id": "dfb303de",
   "metadata": {},
   "outputs": [],
   "source": []
  }
 ],
 "metadata": {
  "kernelspec": {
   "display_name": "Python 3 (ipykernel)",
   "language": "python",
   "name": "python3"
  },
  "language_info": {
   "codemirror_mode": {
    "name": "ipython",
    "version": 3
   },
   "file_extension": ".py",
   "mimetype": "text/x-python",
   "name": "python",
   "nbconvert_exporter": "python",
   "pygments_lexer": "ipython3",
   "version": "3.9.12"
  }
 },
 "nbformat": 4,
 "nbformat_minor": 5
}
