{
 "cells": [
  {
   "cell_type": "code",
   "execution_count": 1,
   "id": "17af987e",
   "metadata": {},
   "outputs": [
    {
     "data": {
      "text/plain": [
       "{'Employee Name': 'Komal',\n",
       " 'Company Name': 'eClerx',\n",
       " 'Salary': '1500000',\n",
       " 'Designation': 'Data Scientist'}"
      ]
     },
     "execution_count": 1,
     "metadata": {},
     "output_type": "execute_result"
    }
   ],
   "source": [
    "dict1 = {\n",
    "    \"Employee Name\" : \"Komal\",\n",
    "    \"Company Name\"  : \"eClerx\",\n",
    "    \"Salary\"        : \"1500000\",\n",
    "    \"Designation\"   : \"Data Scientist\"\n",
    "}\n",
    "dict1"
   ]
  },
  {
   "cell_type": "code",
   "execution_count": 2,
   "id": "4636466d",
   "metadata": {},
   "outputs": [
    {
     "data": {
      "text/plain": [
       "'1500000'"
      ]
     },
     "execution_count": 2,
     "metadata": {},
     "output_type": "execute_result"
    }
   ],
   "source": [
    "dict1.pop(\"Salary\")"
   ]
  },
  {
   "cell_type": "code",
   "execution_count": 3,
   "id": "e67126b2",
   "metadata": {},
   "outputs": [
    {
     "data": {
      "text/plain": [
       "{'Employee Name': 'Komal',\n",
       " 'Company Name': 'eClerx',\n",
       " 'Designation': 'Data Scientist'}"
      ]
     },
     "execution_count": 3,
     "metadata": {},
     "output_type": "execute_result"
    }
   ],
   "source": [
    "dict1"
   ]
  },
  {
   "cell_type": "code",
   "execution_count": 5,
   "id": "1f8d1bd3",
   "metadata": {},
   "outputs": [
    {
     "data": {
      "text/plain": [
       "('Designation', 'Data Scientist')"
      ]
     },
     "execution_count": 5,
     "metadata": {},
     "output_type": "execute_result"
    }
   ],
   "source": [
    "dict1 = {\n",
    "    \"Employee Name\" : \"Komal\",\n",
    "    \"Company Name\"  : \"eClerx\",\n",
    "    \"Salary\"        : \"1500000\",\n",
    "    \"Designation\"   : \"Data Scientist\"\n",
    "}\n",
    "dict1.popitem()"
   ]
  },
  {
   "cell_type": "code",
   "execution_count": 6,
   "id": "68470d95",
   "metadata": {},
   "outputs": [
    {
     "data": {
      "text/plain": [
       "{'Employee Name': 'Komal', 'Company Name': 'eClerx', 'Salary': '1500000'}"
      ]
     },
     "execution_count": 6,
     "metadata": {},
     "output_type": "execute_result"
    }
   ],
   "source": [
    "dict1"
   ]
  },
  {
   "cell_type": "code",
   "execution_count": 7,
   "id": "d403e8dd",
   "metadata": {},
   "outputs": [
    {
     "data": {
      "text/plain": [
       "{'Employee Name': 'Komal',\n",
       " 'Company Name': 'eClerx',\n",
       " 'Salary': '1500000',\n",
       " 'Designation': 'Data Scientist'}"
      ]
     },
     "execution_count": 7,
     "metadata": {},
     "output_type": "execute_result"
    }
   ],
   "source": [
    "dict1 = {\n",
    "    \"Employee Name\" : \"Komal\",\n",
    "    \"Company Name\"  : \"eClerx\",\n",
    "    \"Salary\"        : \"1500000\",\n",
    "    \"Designation\"   : \"Data Scientist\"\n",
    "}\n",
    "dict1"
   ]
  },
  {
   "cell_type": "code",
   "execution_count": 8,
   "id": "f0198eb3",
   "metadata": {},
   "outputs": [],
   "source": [
    "dict1.clear()"
   ]
  },
  {
   "cell_type": "code",
   "execution_count": 9,
   "id": "28d4d826",
   "metadata": {},
   "outputs": [
    {
     "data": {
      "text/plain": [
       "{}"
      ]
     },
     "execution_count": 9,
     "metadata": {},
     "output_type": "execute_result"
    }
   ],
   "source": [
    "dict1"
   ]
  },
  {
   "cell_type": "code",
   "execution_count": 14,
   "id": "3e773b7d",
   "metadata": {},
   "outputs": [
    {
     "data": {
      "text/plain": [
       "{'Employee_Name': 'Komal',\n",
       " 'Company_Name': 'eClerx',\n",
       " 'Salary': '1500000',\n",
       " 'Designation': 'Data Scientist'}"
      ]
     },
     "execution_count": 14,
     "metadata": {},
     "output_type": "execute_result"
    }
   ],
   "source": [
    "dict1 = {\n",
    "    \"Employee_Name\" : \"Komal\",\n",
    "    \"Company_Name\"  : \"eClerx\",\n",
    "    \"Salary\"        : \"1500000\",\n",
    "    \"Designation\"   : \"Data Scientist\"\n",
    "}\n",
    "dict1"
   ]
  },
  {
   "cell_type": "code",
   "execution_count": 16,
   "id": "c445755a",
   "metadata": {},
   "outputs": [],
   "source": [
    "del dict1[\"Employee_Name\"]"
   ]
  },
  {
   "cell_type": "code",
   "execution_count": 17,
   "id": "17bbb6c2",
   "metadata": {},
   "outputs": [
    {
     "data": {
      "text/plain": [
       "{'Company_Name': 'eClerx',\n",
       " 'Salary': '1500000',\n",
       " 'Designation': 'Data Scientist'}"
      ]
     },
     "execution_count": 17,
     "metadata": {},
     "output_type": "execute_result"
    }
   ],
   "source": [
    "dict1"
   ]
  },
  {
   "cell_type": "code",
   "execution_count": 18,
   "id": "79037e84",
   "metadata": {},
   "outputs": [
    {
     "data": {
      "text/plain": [
       "{'Employee_Name': 'Komal',\n",
       " 'Company_Name': 'eClerx',\n",
       " 'Salary': '1500000',\n",
       " 'Designation': 'Data Scientist'}"
      ]
     },
     "execution_count": 18,
     "metadata": {},
     "output_type": "execute_result"
    }
   ],
   "source": [
    "dict1 = {\n",
    "    \"Employee_Name\" : \"Komal\",\n",
    "    \"Company_Name\"  : \"eClerx\",\n",
    "    \"Salary\"        : \"1500000\",\n",
    "    \"Designation\"   : \"Data Scientist\"\n",
    "}\n",
    "dict1"
   ]
  },
  {
   "cell_type": "code",
   "execution_count": 19,
   "id": "8c3903c6",
   "metadata": {},
   "outputs": [],
   "source": [
    "del dict1"
   ]
  },
  {
   "cell_type": "code",
   "execution_count": 20,
   "id": "647be28b",
   "metadata": {},
   "outputs": [
    {
     "ename": "NameError",
     "evalue": "name 'dict1' is not defined",
     "output_type": "error",
     "traceback": [
      "\u001b[1;31m---------------------------------------------------------------------------\u001b[0m",
      "\u001b[1;31mNameError\u001b[0m                                 Traceback (most recent call last)",
      "Input \u001b[1;32mIn [20]\u001b[0m, in \u001b[0;36m<cell line: 1>\u001b[1;34m()\u001b[0m\n\u001b[1;32m----> 1\u001b[0m \u001b[43mdict1\u001b[49m\n",
      "\u001b[1;31mNameError\u001b[0m: name 'dict1' is not defined"
     ]
    }
   ],
   "source": [
    "dict1"
   ]
  },
  {
   "cell_type": "code",
   "execution_count": 23,
   "id": "d4de3668",
   "metadata": {},
   "outputs": [],
   "source": [
    "dict1 = {\n",
    "    \"Employee_Name\" : \"Komal\",\n",
    "    \"Company_Name\"  : \"eClerx\",\n",
    "    \"Salary\"        : \"1500000\",\n",
    "    \"Designation\"   : \"Data Scientist\"\n",
    "}"
   ]
  },
  {
   "cell_type": "code",
   "execution_count": 24,
   "id": "8a70c95d",
   "metadata": {},
   "outputs": [],
   "source": [
    "dict2 = {\n",
    "    \"Employee Name\" : \"Omkar\",\n",
    "    \"Company Name\"  : \"TCS\",\n",
    "    \"Salary\"        : \"2000000\",\n",
    "    \"Designation\"   : \"ML Engineer\"\n",
    "}"
   ]
  },
  {
   "cell_type": "code",
   "execution_count": 25,
   "id": "ec52cf74",
   "metadata": {},
   "outputs": [
    {
     "name": "stdout",
     "output_type": "stream",
     "text": [
      "{'ABC11': {'Employee_Name': 'Komal', 'Company_Name': 'eClerx', 'Salary': '1500000', 'Designation': 'Data Scientist'}, 'ABC12': {'Employee Name': 'Omkar', 'Company Name': 'TCS', 'Salary': '2000000', 'Designation': 'ML Engineer'}, 'ABC13': {'Employee Name': 'Akshay', 'Company Name': 'MiraFra', 'Salary': (1500000, 1700000, 2000000), 'Designation': 'Data Analyst', 'Location': {'City': 'Pune', 'State': 'Maharashtra', 'PinCode': '411001'}}}\n"
     ]
    }
   ],
   "source": [
    "employee_info = {\n",
    "    \"ABC11\" : dict1,\n",
    "    \"ABC12\" : dict2,\n",
    "    \"ABC13\" : {\n",
    "        'Employee Name': \"Akshay\",\n",
    "        'Company Name' : \"MiraFra\",\n",
    "        \"Salary\"       : (1500000,1700000,2000000),\n",
    "        'Designation'  : \"Data Analyst\",\n",
    "        \"Location\"     : {\n",
    "            \"City\"     : \"Pune\",\n",
    "            \"State\"    : \"Maharashtra\",\n",
    "            \"PinCode\"  : \"411001\"\n",
    "        }\n",
    "    }\n",
    "}\n",
    "print(employee_info)"
   ]
  },
  {
   "cell_type": "code",
   "execution_count": 31,
   "id": "900ccd1e",
   "metadata": {},
   "outputs": [
    {
     "name": "stdout",
     "output_type": "stream",
     "text": [
      "1500000 <class 'int'>\n",
      "1700000 <class 'int'>\n",
      "2000000 <class 'int'>\n"
     ]
    }
   ],
   "source": [
    "for i in employee_info[\"ABC13\"][\"Salary\"]:\n",
    "    print(i, type(i))"
   ]
  },
  {
   "cell_type": "code",
   "execution_count": 35,
   "id": "8fd61e04",
   "metadata": {},
   "outputs": [],
   "source": [
    "employee_info[\"ABC13\"][\"Salary\"] = 5000000"
   ]
  },
  {
   "cell_type": "code",
   "execution_count": 36,
   "id": "ade6cd1b",
   "metadata": {},
   "outputs": [
    {
     "data": {
      "text/plain": [
       "{'ABC11': {'Employee_Name': 'Komal',\n",
       "  'Company_Name': 'eClerx',\n",
       "  'Salary': '1500000',\n",
       "  'Designation': 'Data Scientist'},\n",
       " 'ABC12': {'Employee Name': 'Omkar',\n",
       "  'Company Name': 'TCS',\n",
       "  'Salary': '2000000',\n",
       "  'Designation': 'ML Engineer'},\n",
       " 'ABC13': {'Employee Name': 'Akshay',\n",
       "  'Company Name': 'MiraFra',\n",
       "  'Salary': 5000000,\n",
       "  'Designation': 'Data Analyst',\n",
       "  'Location': {'City': 'Pune', 'State': 'Maharashtra', 'PinCode': '411001'}},\n",
       " 'Salary': 5000000}"
      ]
     },
     "execution_count": 36,
     "metadata": {},
     "output_type": "execute_result"
    }
   ],
   "source": [
    "employee_info"
   ]
  },
  {
   "cell_type": "code",
   "execution_count": 37,
   "id": "2632688e",
   "metadata": {},
   "outputs": [
    {
     "data": {
      "text/plain": [
       "{'Employee_Name': 'Komal',\n",
       " 'Company_Name': 'eClerx',\n",
       " 'Salary': '1500000',\n",
       " 'Designation': 'Data Scientist'}"
      ]
     },
     "execution_count": 37,
     "metadata": {},
     "output_type": "execute_result"
    }
   ],
   "source": [
    "dict1"
   ]
  },
  {
   "cell_type": "code",
   "execution_count": 38,
   "id": "d42df51b",
   "metadata": {},
   "outputs": [
    {
     "data": {
      "text/plain": [
       "{'Employee Name': 'Omkar',\n",
       " 'Company Name': 'TCS',\n",
       " 'Salary': '2000000',\n",
       " 'Designation': 'ML Engineer'}"
      ]
     },
     "execution_count": 38,
     "metadata": {},
     "output_type": "execute_result"
    }
   ],
   "source": [
    "dict2"
   ]
  },
  {
   "cell_type": "markdown",
   "id": "0e450b2f",
   "metadata": {},
   "source": [
    "# sortign a dictionary by it's keys\n",
    "- just sorting\n",
    "- reverse sorting"
   ]
  },
  {
   "cell_type": "code",
   "execution_count": 43,
   "id": "88eeb81f",
   "metadata": {},
   "outputs": [
    {
     "name": "stdout",
     "output_type": "stream",
     "text": [
      "dict_keys(['Python', 'Java', 'C', 'R', 'GoLang'])\n",
      "['C', 'GoLang', 'Java', 'Python', 'R']\n"
     ]
    }
   ],
   "source": [
    "lang_popularity = {'Python': 95, 'Java': 89, 'C': 75, 'R': 79, 'GoLang': 70}\n",
    "\n",
    "new_values = lang_popularity.keys()\n",
    "print(new_values)\n",
    "sorted_dict = sorted(new_values)\n",
    "print(sorted_dict)"
   ]
  },
  {
   "cell_type": "code",
   "execution_count": 45,
   "id": "790121cb",
   "metadata": {},
   "outputs": [
    {
     "name": "stdout",
     "output_type": "stream",
     "text": [
      "dict_keys(['Python', 'Java', 'C', 'R', 'GoLang'])\n",
      "['R', 'Python', 'Java', 'GoLang', 'C']\n"
     ]
    }
   ],
   "source": [
    "lang_popularity = {'Python': 95, 'Java': 89, 'C': 75, 'R': 79, 'GoLang': 70}\n",
    "\n",
    "new_values = lang_popularity.keys()\n",
    "print(new_values)\n",
    "sorted_dict = sorted(new_values, reverse=True)\n",
    "print(sorted_dict)"
   ]
  },
  {
   "cell_type": "markdown",
   "id": "fa8fdbea",
   "metadata": {},
   "source": [
    "## sorting a dictionary by it's values"
   ]
  },
  {
   "cell_type": "raw",
   "id": "b7c47aa5",
   "metadata": {},
   "source": [
    "- just sorting\n",
    "- reverse sorting"
   ]
  },
  {
   "cell_type": "code",
   "execution_count": 49,
   "id": "1ace03d3",
   "metadata": {},
   "outputs": [
    {
     "name": "stdout",
     "output_type": "stream",
     "text": [
      "[70, 75, 79, 89, 95]\n",
      "\n",
      "[95, 89, 79, 75, 70]\n"
     ]
    }
   ],
   "source": [
    "lang_popularity = {'Python': 95, 'Java': 89, 'C': 75, 'R': 79, 'GoLang': 70}\n",
    "\n",
    "short = sorted(lang_popularity.values())\n",
    "print(short)\n",
    "print()\n",
    "reverse_sort = sorted(lang_popularity.values(), reverse=True)\n",
    "print(reverse_sort)"
   ]
  },
  {
   "cell_type": "code",
   "execution_count": null,
   "id": "3c52ba15",
   "metadata": {},
   "outputs": [],
   "source": []
  },
  {
   "cell_type": "code",
   "execution_count": 51,
   "id": "547e002b",
   "metadata": {},
   "outputs": [
    {
     "name": "stdout",
     "output_type": "stream",
     "text": [
      "[('C', 75), ('GoLang', 70), ('Java', 89), ('Python', 95), ('R', 79)]\n",
      "\n",
      "[('R', 79), ('Python', 95), ('Java', 89), ('GoLang', 70), ('C', 75)]\n"
     ]
    }
   ],
   "source": [
    "lang_popularity = {'Python': 95, 'Java': 89, 'C': 75, 'R': 79, 'GoLang': 70}\n",
    "\n",
    "sort_items = sorted(lang_popularity.items())\n",
    "print(sort_items)\n",
    "print()\n",
    "reverse_sort_items = sorted(lang_popularity.items(), reverse=True)\n",
    "print(reverse_sort_items)"
   ]
  },
  {
   "cell_type": "code",
   "execution_count": null,
   "id": "60e78bdc",
   "metadata": {},
   "outputs": [],
   "source": []
  }
 ],
 "metadata": {
  "kernelspec": {
   "display_name": "Python 3 (ipykernel)",
   "language": "python",
   "name": "python3"
  },
  "language_info": {
   "codemirror_mode": {
    "name": "ipython",
    "version": 3
   },
   "file_extension": ".py",
   "mimetype": "text/x-python",
   "name": "python",
   "nbconvert_exporter": "python",
   "pygments_lexer": "ipython3",
   "version": "3.9.12"
  }
 },
 "nbformat": 4,
 "nbformat_minor": 5
}
