{
 "cells": [
  {
   "cell_type": "markdown",
   "id": "e42bd237",
   "metadata": {},
   "source": [
    "# List\n",
    "- 1. Mutable (Values can be changed/changable) ---> add,delete, update\n",
    "- 2. Allow Duplicate items\n",
    "- 3. Orderd data type\n",
    "- 4. Enclosed by []\n",
    "- 5. Variable length (any change reflectsd on it's length)\n",
    "- 6. More memory required (due to insertion order)\n",
    "- 7. More functional\n",
    "- 8. Collection of any data types\n",
    "- 9. List is slower than tuple\n",
    "\n",
    "# Tuple\n",
    "- 1. Immutable Data Type (Unchangable)\n",
    "- 2. Allows Duplicate items\n",
    "- 3. Orderd\n",
    "- 4. Enclosed by ()\n",
    "- 5. fixed length\n",
    "- 6. Requires less memory\n",
    "- 7. Less functional\n",
    "- 8. Collection of any data types\n",
    "- 9. Tuple is faster than list"
   ]
  },
  {
   "cell_type": "code",
   "execution_count": 1,
   "id": "a5d3e43d",
   "metadata": {},
   "outputs": [],
   "source": [
    "# LIST :- it is slow because list require memory to remember items by insertion order \n",
    "# TUPLE :-  it is faster than list because it does not need to remember the insertion order "
   ]
  },
  {
   "cell_type": "markdown",
   "id": "099722f7",
   "metadata": {},
   "source": [
    "# How to create a Tuple "
   ]
  },
  {
   "cell_type": "code",
   "execution_count": 3,
   "id": "f5bdc2b8",
   "metadata": {},
   "outputs": [
    {
     "name": "stdout",
     "output_type": "stream",
     "text": [
      "(1, 2, 3, 4, 5) <class 'tuple'>\n"
     ]
    }
   ],
   "source": [
    "tup1 = 1,2,3,4,5\n",
    "print(tup1,type(tup1))"
   ]
  },
  {
   "cell_type": "code",
   "execution_count": 4,
   "id": "747f9448",
   "metadata": {},
   "outputs": [
    {
     "name": "stdout",
     "output_type": "stream",
     "text": [
      "1 <class 'int'>\n"
     ]
    }
   ],
   "source": [
    "tup1 = 1\n",
    "print(tup1,type(tup1))"
   ]
  },
  {
   "cell_type": "code",
   "execution_count": 5,
   "id": "189e5e48",
   "metadata": {},
   "outputs": [
    {
     "name": "stdout",
     "output_type": "stream",
     "text": [
      "(1,) <class 'tuple'>\n"
     ]
    }
   ],
   "source": [
    "tup1 = 1,\n",
    "print(tup1,type(tup1))"
   ]
  },
  {
   "cell_type": "code",
   "execution_count": 6,
   "id": "7bd2d75d",
   "metadata": {},
   "outputs": [
    {
     "name": "stdout",
     "output_type": "stream",
     "text": [
      "(1,) <class 'tuple'>\n"
     ]
    }
   ],
   "source": [
    "tup1 = (1,)\n",
    "print(tup1,type(tup1))"
   ]
  },
  {
   "cell_type": "code",
   "execution_count": 7,
   "id": "6440f83a",
   "metadata": {},
   "outputs": [
    {
     "name": "stdout",
     "output_type": "stream",
     "text": [
      "('Python',) <class 'tuple'>\n"
     ]
    }
   ],
   "source": [
    "tup1 = (\"Python\",)\n",
    "print(tup1,type(tup1))"
   ]
  },
  {
   "cell_type": "code",
   "execution_count": 8,
   "id": "cdd308c4",
   "metadata": {},
   "outputs": [
    {
     "name": "stdout",
     "output_type": "stream",
     "text": [
      "(1, 2, 3, 4, 5) <class 'tuple'>\n"
     ]
    }
   ],
   "source": [
    "tup1 = (1,2,3,4,5)\n",
    "print(tup1,type(tup1))"
   ]
  },
  {
   "cell_type": "raw",
   "id": "99f187e4",
   "metadata": {},
   "source": [
    "Ways\n",
    "1. enclosing all elements by ()       --->   tup1 = (1,2,3,4,5)\n",
    "2. by one element with comma          --->   tup1 = 1,  ,  tup1 = (1,)\n",
    "3. all elements with comma without () --->   tup1 = 1,2,3,4,5"
   ]
  },
  {
   "cell_type": "markdown",
   "id": "9af62233",
   "metadata": {},
   "source": [
    "# indexing and slicing"
   ]
  },
  {
   "cell_type": "code",
   "execution_count": 9,
   "id": "46d42b6a",
   "metadata": {},
   "outputs": [
    {
     "data": {
      "text/plain": [
       "(1, 2, 3, 4, 5)"
      ]
     },
     "execution_count": 9,
     "metadata": {},
     "output_type": "execute_result"
    }
   ],
   "source": [
    "tuple1 = (1,2,3,4,5)\n",
    "tuple1 "
   ]
  },
  {
   "cell_type": "code",
   "execution_count": 11,
   "id": "3e4961a8",
   "metadata": {},
   "outputs": [
    {
     "data": {
      "text/plain": [
       "5"
      ]
     },
     "execution_count": 11,
     "metadata": {},
     "output_type": "execute_result"
    }
   ],
   "source": [
    "tuple1[0]\n",
    "tuple1[1]\n",
    "tuple1[2]\n",
    "tuple1[3]\n",
    "tuple1[4]"
   ]
  },
  {
   "cell_type": "code",
   "execution_count": 13,
   "id": "d1461fd7",
   "metadata": {},
   "outputs": [
    {
     "data": {
      "text/plain": [
       "(1, 2, 3, 4, 5)"
      ]
     },
     "execution_count": 13,
     "metadata": {},
     "output_type": "execute_result"
    }
   ],
   "source": [
    "tuple1"
   ]
  },
  {
   "cell_type": "code",
   "execution_count": 18,
   "id": "eef64849",
   "metadata": {},
   "outputs": [
    {
     "data": {
      "text/plain": [
       "1"
      ]
     },
     "execution_count": 18,
     "metadata": {},
     "output_type": "execute_result"
    }
   ],
   "source": [
    "tuple1[-1]\n",
    "tuple1[-2]\n",
    "tuple1[-3]\n",
    "tuple1[-4]\n",
    "tuple1[-5]"
   ]
  },
  {
   "cell_type": "code",
   "execution_count": 19,
   "id": "0752ebec",
   "metadata": {},
   "outputs": [
    {
     "data": {
      "text/plain": [
       "(1, 2, 3, 4, 5)"
      ]
     },
     "execution_count": 19,
     "metadata": {},
     "output_type": "execute_result"
    }
   ],
   "source": [
    "tuple1[:]"
   ]
  },
  {
   "cell_type": "code",
   "execution_count": 20,
   "id": "9e01d453",
   "metadata": {},
   "outputs": [
    {
     "data": {
      "text/plain": [
       "(2, 3)"
      ]
     },
     "execution_count": 20,
     "metadata": {},
     "output_type": "execute_result"
    }
   ],
   "source": [
    "tuple1[1:3]"
   ]
  },
  {
   "cell_type": "code",
   "execution_count": 21,
   "id": "fbc7db98",
   "metadata": {},
   "outputs": [
    {
     "data": {
      "text/plain": [
       "()"
      ]
     },
     "execution_count": 21,
     "metadata": {},
     "output_type": "execute_result"
    }
   ],
   "source": [
    "tuple1[1:3:-1]"
   ]
  },
  {
   "cell_type": "code",
   "execution_count": 22,
   "id": "61f7ea3c",
   "metadata": {},
   "outputs": [
    {
     "data": {
      "text/plain": [
       "(2, 4)"
      ]
     },
     "execution_count": 22,
     "metadata": {},
     "output_type": "execute_result"
    }
   ],
   "source": [
    "tuple1[1:5:2]"
   ]
  },
  {
   "cell_type": "code",
   "execution_count": 23,
   "id": "d87fc449",
   "metadata": {},
   "outputs": [
    {
     "data": {
      "text/plain": [
       "(5, 4, 3, 2, 1)"
      ]
     },
     "execution_count": 23,
     "metadata": {},
     "output_type": "execute_result"
    }
   ],
   "source": [
    "tuple1[::-1]"
   ]
  },
  {
   "cell_type": "code",
   "execution_count": 24,
   "id": "54ce4c34",
   "metadata": {},
   "outputs": [
    {
     "data": {
      "text/plain": [
       "(5, 3, 1)"
      ]
     },
     "execution_count": 24,
     "metadata": {},
     "output_type": "execute_result"
    }
   ],
   "source": [
    "tuple1[::-2]"
   ]
  },
  {
   "cell_type": "code",
   "execution_count": 26,
   "id": "87e6300e",
   "metadata": {},
   "outputs": [
    {
     "data": {
      "text/plain": [
       "(5, 4, 3, 2)"
      ]
     },
     "execution_count": 26,
     "metadata": {},
     "output_type": "execute_result"
    }
   ],
   "source": [
    "tuple1[-1:-5:-1]"
   ]
  },
  {
   "cell_type": "markdown",
   "id": "03e57425",
   "metadata": {},
   "source": [
    "# Delete items"
   ]
  },
  {
   "cell_type": "code",
   "execution_count": 27,
   "id": "76a332f1",
   "metadata": {},
   "outputs": [],
   "source": [
    "# Can we change a single item ? "
   ]
  },
  {
   "cell_type": "code",
   "execution_count": 28,
   "id": "9e78505e",
   "metadata": {},
   "outputs": [
    {
     "data": {
      "text/plain": [
       "(1, 2, 3, 4, 5)"
      ]
     },
     "execution_count": 28,
     "metadata": {},
     "output_type": "execute_result"
    }
   ],
   "source": [
    "tuple1"
   ]
  },
  {
   "cell_type": "code",
   "execution_count": 29,
   "id": "9deca18f",
   "metadata": {},
   "outputs": [
    {
     "ename": "TypeError",
     "evalue": "'tuple' object does not support item assignment",
     "output_type": "error",
     "traceback": [
      "\u001b[1;31m---------------------------------------------------------------------------\u001b[0m",
      "\u001b[1;31mTypeError\u001b[0m                                 Traceback (most recent call last)",
      "Input \u001b[1;32mIn [29]\u001b[0m, in \u001b[0;36m<cell line: 1>\u001b[1;34m()\u001b[0m\n\u001b[1;32m----> 1\u001b[0m tuple1[\u001b[38;5;241m1\u001b[39m] \u001b[38;5;241m=\u001b[39m \u001b[38;5;241m100\u001b[39m\n",
      "\u001b[1;31mTypeError\u001b[0m: 'tuple' object does not support item assignment"
     ]
    }
   ],
   "source": [
    "tuple1[1] = 100"
   ]
  },
  {
   "cell_type": "code",
   "execution_count": 30,
   "id": "9d13e42d",
   "metadata": {},
   "outputs": [
    {
     "data": {
      "text/plain": [
       "[100, 2, 3]"
      ]
     },
     "execution_count": 30,
     "metadata": {},
     "output_type": "execute_result"
    }
   ],
   "source": [
    "li = [1,2,3]\n",
    "li[0] = 100\n",
    "li"
   ]
  },
  {
   "cell_type": "code",
   "execution_count": 31,
   "id": "015d16e3",
   "metadata": {},
   "outputs": [
    {
     "ename": "TypeError",
     "evalue": "'tuple' object doesn't support item deletion",
     "output_type": "error",
     "traceback": [
      "\u001b[1;31m---------------------------------------------------------------------------\u001b[0m",
      "\u001b[1;31mTypeError\u001b[0m                                 Traceback (most recent call last)",
      "Input \u001b[1;32mIn [31]\u001b[0m, in \u001b[0;36m<cell line: 2>\u001b[1;34m()\u001b[0m\n\u001b[0;32m      1\u001b[0m tuple1 \u001b[38;5;241m=\u001b[39m (\u001b[38;5;241m11\u001b[39m,\u001b[38;5;241m22\u001b[39m,\u001b[38;5;241m33\u001b[39m,\u001b[38;5;241m44\u001b[39m,\u001b[38;5;241m55\u001b[39m)\n\u001b[1;32m----> 2\u001b[0m \u001b[38;5;28;01mdel\u001b[39;00m tuple1[\u001b[38;5;241m0\u001b[39m]\n",
      "\u001b[1;31mTypeError\u001b[0m: 'tuple' object doesn't support item deletion"
     ]
    }
   ],
   "source": [
    "tuple1 = (11,22,33,44,55)\n",
    "del tuple1[0]"
   ]
  },
  {
   "cell_type": "code",
   "execution_count": 32,
   "id": "81ffa002",
   "metadata": {},
   "outputs": [
    {
     "data": {
      "text/plain": [
       "[2, 3]"
      ]
     },
     "execution_count": 32,
     "metadata": {},
     "output_type": "execute_result"
    }
   ],
   "source": [
    "li = [1,2,3]\n",
    "del li[0] \n",
    "li"
   ]
  },
  {
   "cell_type": "code",
   "execution_count": 33,
   "id": "7c3f68b0",
   "metadata": {},
   "outputs": [
    {
     "ename": "NameError",
     "evalue": "name 'tuple1' is not defined",
     "output_type": "error",
     "traceback": [
      "\u001b[1;31m---------------------------------------------------------------------------\u001b[0m",
      "\u001b[1;31mNameError\u001b[0m                                 Traceback (most recent call last)",
      "Input \u001b[1;32mIn [33]\u001b[0m, in \u001b[0;36m<cell line: 2>\u001b[1;34m()\u001b[0m\n\u001b[0;32m      1\u001b[0m \u001b[38;5;28;01mdel\u001b[39;00m tuple1\n\u001b[1;32m----> 2\u001b[0m \u001b[43mtuple1\u001b[49m\n",
      "\u001b[1;31mNameError\u001b[0m: name 'tuple1' is not defined"
     ]
    }
   ],
   "source": [
    "del tuple1\n",
    "tuple1"
   ]
  },
  {
   "cell_type": "code",
   "execution_count": 39,
   "id": "6b6c3adb",
   "metadata": {},
   "outputs": [
    {
     "name": "stdout",
     "output_type": "stream",
     "text": [
      "[22, 33, 44, 55]\n",
      "(22, 33, 44, 55)\n"
     ]
    }
   ],
   "source": [
    "tuple1 = (11,22,33,44,55)\n",
    "tu_li = list(tuple1)\n",
    "del tu_li[0]\n",
    "print(tu_li)\n",
    "tuple2 = tuple(tu_li) # Constructor\n",
    "print(tuple2)"
   ]
  },
  {
   "cell_type": "code",
   "execution_count": 41,
   "id": "b6b71f40",
   "metadata": {},
   "outputs": [
    {
     "data": {
      "text/plain": [
       "(11, 22, 33, 44, 55)"
      ]
     },
     "execution_count": 41,
     "metadata": {},
     "output_type": "execute_result"
    }
   ],
   "source": [
    "tuple1"
   ]
  },
  {
   "cell_type": "code",
   "execution_count": 43,
   "id": "be454d6e",
   "metadata": {},
   "outputs": [
    {
     "ename": "NameError",
     "evalue": "name 'tuple1' is not defined",
     "output_type": "error",
     "traceback": [
      "\u001b[1;31m---------------------------------------------------------------------------\u001b[0m",
      "\u001b[1;31mNameError\u001b[0m                                 Traceback (most recent call last)",
      "Input \u001b[1;32mIn [43]\u001b[0m, in \u001b[0;36m<cell line: 1>\u001b[1;34m()\u001b[0m\n\u001b[1;32m----> 1\u001b[0m \u001b[38;5;28;01mdel\u001b[39;00m tuple1\n\u001b[0;32m      2\u001b[0m tuple1\n",
      "\u001b[1;31mNameError\u001b[0m: name 'tuple1' is not defined"
     ]
    }
   ],
   "source": [
    "del tuple1\n",
    "tuple1"
   ]
  },
  {
   "cell_type": "code",
   "execution_count": 44,
   "id": "5d6e6fb8",
   "metadata": {},
   "outputs": [
    {
     "data": {
      "text/plain": [
       "(22, 33, 44, 55)"
      ]
     },
     "execution_count": 44,
     "metadata": {},
     "output_type": "execute_result"
    }
   ],
   "source": [
    "tuple2"
   ]
  },
  {
   "cell_type": "markdown",
   "id": "faf2fda1",
   "metadata": {},
   "source": [
    "# Tuple Operations"
   ]
  },
  {
   "cell_type": "code",
   "execution_count": 45,
   "id": "3da4a761",
   "metadata": {},
   "outputs": [
    {
     "data": {
      "text/plain": [
       "(1, 2, 3, 4, 5, 6)"
      ]
     },
     "execution_count": 45,
     "metadata": {},
     "output_type": "execute_result"
    }
   ],
   "source": [
    "tup1 = (1,2,3)\n",
    "tup2 = 4,5,6\n",
    "tup1 + tup2"
   ]
  },
  {
   "cell_type": "code",
   "execution_count": 46,
   "id": "7937690e",
   "metadata": {},
   "outputs": [
    {
     "data": {
      "text/plain": [
       "(1, 2, 3, 4, 5, 6, 'Python')"
      ]
     },
     "execution_count": 46,
     "metadata": {},
     "output_type": "execute_result"
    }
   ],
   "source": [
    "tup1 = (1,2,3)\n",
    "tup2 = 4,5,6,\"Python\"\n",
    "tup1 + tup2"
   ]
  },
  {
   "cell_type": "code",
   "execution_count": 47,
   "id": "d237c8d1",
   "metadata": {},
   "outputs": [
    {
     "data": {
      "text/plain": [
       "(4, 5, 6, 'Python', 1, 2, 3)"
      ]
     },
     "execution_count": 47,
     "metadata": {},
     "output_type": "execute_result"
    }
   ],
   "source": [
    "tup1 = (1,2,3)\n",
    "tup2 = 4,5,6,\"Python\"\n",
    "tup2 + tup1"
   ]
  },
  {
   "cell_type": "code",
   "execution_count": 48,
   "id": "441c1d8c",
   "metadata": {},
   "outputs": [
    {
     "data": {
      "text/plain": [
       "(4, 5, 6, 'Python', 4, 5, 6, 'Python', 4, 5, 6, 'Python')"
      ]
     },
     "execution_count": 48,
     "metadata": {},
     "output_type": "execute_result"
    }
   ],
   "source": [
    "tup1 = (1,2,3)\n",
    "tup2 = 4,5,6,\"Python\"\n",
    "tup2 + tup2 + tup2"
   ]
  },
  {
   "cell_type": "code",
   "execution_count": 49,
   "id": "98a30b3e",
   "metadata": {},
   "outputs": [
    {
     "data": {
      "text/plain": [
       "(4, 5, 6, 'Python', 4, 5, 6, 'Python', 4, 5, 6, 'Python')"
      ]
     },
     "execution_count": 49,
     "metadata": {},
     "output_type": "execute_result"
    }
   ],
   "source": [
    "tup1 = (1,2,3)\n",
    "tup2 = 4,5,6,\"Python\"\n",
    "tup2 * 3"
   ]
  },
  {
   "cell_type": "code",
   "execution_count": 51,
   "id": "ac1ad0d0",
   "metadata": {},
   "outputs": [
    {
     "name": "stdout",
     "output_type": "stream",
     "text": [
      "(4, 5, 6, 'Python', [1, 2], 4, 5, 6, 'Python', [1, 2], 4, 5, 6, 'Python', [1, 2])\n"
     ]
    }
   ],
   "source": [
    "tup1 = (1,2,3)\n",
    "tup2 = 4,5,6,\"Python\",[1,2]\n",
    "print(tup2 * 3)"
   ]
  },
  {
   "cell_type": "code",
   "execution_count": 52,
   "id": "be93b9fd",
   "metadata": {},
   "outputs": [
    {
     "data": {
      "text/plain": [
       "'HiBye'"
      ]
     },
     "execution_count": 52,
     "metadata": {},
     "output_type": "execute_result"
    }
   ],
   "source": [
    "\"Hi\" + \"Bye\""
   ]
  },
  {
   "cell_type": "code",
   "execution_count": 54,
   "id": "0dfb0168",
   "metadata": {},
   "outputs": [
    {
     "data": {
      "text/plain": [
       "'HiHiHi'"
      ]
     },
     "execution_count": 54,
     "metadata": {},
     "output_type": "execute_result"
    }
   ],
   "source": [
    "\"Hi\" * 3"
   ]
  },
  {
   "cell_type": "markdown",
   "id": "cb7e2fc3",
   "metadata": {},
   "source": [
    "# Access items using for loop"
   ]
  },
  {
   "cell_type": "code",
   "execution_count": 55,
   "id": "2a0e064e",
   "metadata": {},
   "outputs": [
    {
     "data": {
      "text/plain": [
       "('Pune', 'Mumbai', 'Hbad', 'Chennai', 'Gujrat', 'Maharashtra', 'Delhi')"
      ]
     },
     "execution_count": 55,
     "metadata": {},
     "output_type": "execute_result"
    }
   ],
   "source": [
    "tup1 = (\"Pune\",\"Mumbai\",\"Hbad\",\"Chennai\",\"Gujrat\",\"Maharashtra\",\"Delhi\")\n",
    "tup1"
   ]
  },
  {
   "cell_type": "code",
   "execution_count": 56,
   "id": "b13ed7a8",
   "metadata": {},
   "outputs": [
    {
     "name": "stdout",
     "output_type": "stream",
     "text": [
      "We are learning tuple\n",
      "We are learning tuple\n",
      "We are learning tuple\n",
      "We are learning tuple\n",
      "We are learning tuple\n",
      "We are learning tuple\n",
      "We are learning tuple\n"
     ]
    }
   ],
   "source": [
    "for item in tup1:\n",
    "    print(\"We are learning tuple\")"
   ]
  },
  {
   "cell_type": "code",
   "execution_count": 57,
   "id": "c40ca577",
   "metadata": {},
   "outputs": [
    {
     "name": "stdout",
     "output_type": "stream",
     "text": [
      "Item = Pune\n",
      "Item = Mumbai\n",
      "Item = Hbad\n",
      "Item = Chennai\n",
      "Item = Gujrat\n",
      "Item = Maharashtra\n",
      "Item = Delhi\n"
     ]
    }
   ],
   "source": [
    "for item in tup1:\n",
    "    print(f\"Item = {item}\")\n"
   ]
  },
  {
   "cell_type": "code",
   "execution_count": 58,
   "id": "a1a63392",
   "metadata": {},
   "outputs": [
    {
     "name": "stdout",
     "output_type": "stream",
     "text": [
      "Index = 0 , Item = Pune\n",
      "Index = 1 , Item = Mumbai\n",
      "Index = 2 , Item = Hbad\n",
      "Index = 3 , Item = Chennai\n",
      "Index = 4 , Item = Gujrat\n",
      "Index = 5 , Item = Maharashtra\n",
      "Index = 6 , Item = Delhi\n"
     ]
    }
   ],
   "source": [
    "index = 0\n",
    "for item in tup1:\n",
    "    print(f\"Index = {index} , Item = {item}\")\n",
    "    index += 1\n",
    "\n"
   ]
  },
  {
   "cell_type": "code",
   "execution_count": 81,
   "id": "ef198271",
   "metadata": {},
   "outputs": [
    {
     "name": "stdout",
     "output_type": "stream",
     "text": [
      "Index = 0 , Item = Pune\n",
      "Index = 1 , Item = Hbad\n",
      "Index = 2 , Item = Chennai\n",
      "Index = 3 , Item = Gujrat\n",
      "Index = 4 , Item = Mumbai\n",
      "Index = 5 , Item = Maharashtra\n",
      "Index = 6 , Item = Delhi\n",
      "Index = 7 , Item = Pune\n",
      "Index = 8 , Item = Pune\n"
     ]
    }
   ],
   "source": [
    "for index,item in enumerate(tup1): # 1st iteration->index,item = 0,Pune\n",
    "                                   # 2nd iteration->index,item = 1,Mumbai\n",
    "                                   # 3rd iteration->index,item = 2,Hbad\n",
    "    print(f\"Index = {index} , Item = {item}\")"
   ]
  },
  {
   "cell_type": "code",
   "execution_count": 61,
   "id": "7b044825",
   "metadata": {},
   "outputs": [
    {
     "data": {
      "text/plain": [
       "('Pune', 'Mumbai', 'Hbad', 'Chennai', 'Gujrat', 'Maharashtra', 'Delhi')"
      ]
     },
     "execution_count": 61,
     "metadata": {},
     "output_type": "execute_result"
    }
   ],
   "source": [
    "tup1"
   ]
  },
  {
   "cell_type": "code",
   "execution_count": 62,
   "id": "7d89827d",
   "metadata": {},
   "outputs": [
    {
     "data": {
      "text/plain": [
       "True"
      ]
     },
     "execution_count": 62,
     "metadata": {},
     "output_type": "execute_result"
    }
   ],
   "source": [
    "\"Pune\" in tup1"
   ]
  },
  {
   "cell_type": "code",
   "execution_count": 63,
   "id": "f0e06053",
   "metadata": {},
   "outputs": [
    {
     "data": {
      "text/plain": [
       "False"
      ]
     },
     "execution_count": 63,
     "metadata": {},
     "output_type": "execute_result"
    }
   ],
   "source": [
    "\"pune\" in tup1"
   ]
  },
  {
   "cell_type": "code",
   "execution_count": 65,
   "id": "a70e8553",
   "metadata": {},
   "outputs": [
    {
     "name": "stdout",
     "output_type": "stream",
     "text": [
      "Pune is present\n"
     ]
    }
   ],
   "source": [
    "if \"Pune\" in tup1: # True\n",
    "    print(\"Pune is present\")\n",
    "else:\n",
    "    print(\"Pune is not present\")"
   ]
  },
  {
   "cell_type": "code",
   "execution_count": 66,
   "id": "4e98da3a",
   "metadata": {},
   "outputs": [
    {
     "name": "stdout",
     "output_type": "stream",
     "text": [
      "pune is not present\n"
     ]
    }
   ],
   "source": [
    "if \"pune\" in tup1: # False\n",
    "    print(\"pune is present\")\n",
    "else:\n",
    "    print(\"pune is not present\")"
   ]
  },
  {
   "cell_type": "markdown",
   "id": "79585c88",
   "metadata": {},
   "source": [
    "# Functions of tuple\n",
    "- count\n",
    "- index"
   ]
  },
  {
   "cell_type": "code",
   "execution_count": 67,
   "id": "2daa36c7",
   "metadata": {},
   "outputs": [
    {
     "data": {
      "text/plain": [
       "1"
      ]
     },
     "execution_count": 67,
     "metadata": {},
     "output_type": "execute_result"
    }
   ],
   "source": [
    "tup1 = (\"Pune\",\"Mumbai\",\"Hbad\",\"Chennai\",\"Gujrat\",\"Maharashtra\",\"Delhi\")\n",
    "tup1.count(\"Pune\")"
   ]
  },
  {
   "cell_type": "code",
   "execution_count": 68,
   "id": "79375efc",
   "metadata": {},
   "outputs": [
    {
     "data": {
      "text/plain": [
       "3"
      ]
     },
     "execution_count": 68,
     "metadata": {},
     "output_type": "execute_result"
    }
   ],
   "source": [
    "tup1 = (\"Pune\",\"Mumbai\",\"Hbad\",\"Chennai\",\"Gujrat\",\"Maharashtra\",\"Delhi\",\"Pune\",\"Pune\")\n",
    "tup1.count(\"Pune\")"
   ]
  },
  {
   "cell_type": "code",
   "execution_count": 69,
   "id": "914499ef",
   "metadata": {},
   "outputs": [
    {
     "data": {
      "text/plain": [
       "0"
      ]
     },
     "execution_count": 69,
     "metadata": {},
     "output_type": "execute_result"
    }
   ],
   "source": [
    "tup1 = (\"Pune\",\"Mumbai\",\"Hbad\",\"Chennai\",\"Gujrat\",\"Maharashtra\",\"Delhi\",\"Pune\",\"Pune\")\n",
    "tup1.count(\"pune\")"
   ]
  },
  {
   "cell_type": "markdown",
   "id": "6568223b",
   "metadata": {},
   "source": [
    "# index"
   ]
  },
  {
   "cell_type": "code",
   "execution_count": 70,
   "id": "3c066fc4",
   "metadata": {},
   "outputs": [
    {
     "data": {
      "text/plain": [
       "0"
      ]
     },
     "execution_count": 70,
     "metadata": {},
     "output_type": "execute_result"
    }
   ],
   "source": [
    "tup1 = (\"Pune\",\"Mumbai\",\"Hbad\",\"Chennai\",\"Gujrat\",\"Maharashtra\",\"Delhi\",\"Pune\",\"Pune\")\n",
    "tup1.index(\"Pune\")"
   ]
  },
  {
   "cell_type": "code",
   "execution_count": 71,
   "id": "117a29d7",
   "metadata": {},
   "outputs": [
    {
     "data": {
      "text/plain": [
       "2"
      ]
     },
     "execution_count": 71,
     "metadata": {},
     "output_type": "execute_result"
    }
   ],
   "source": [
    "tup1 = (\"Pune\",\"Mumbai\",\"Hbad\",\"Chennai\",\"Gujrat\",\"Maharashtra\",\"Delhi\",\"Pune\",\"Pune\")\n",
    "tup1.index(\"Hbad\")"
   ]
  },
  {
   "cell_type": "code",
   "execution_count": 73,
   "id": "a7262d4c",
   "metadata": {},
   "outputs": [
    {
     "ename": "ValueError",
     "evalue": "tuple.index(x): x not in tuple",
     "output_type": "error",
     "traceback": [
      "\u001b[1;31m---------------------------------------------------------------------------\u001b[0m",
      "\u001b[1;31mValueError\u001b[0m                                Traceback (most recent call last)",
      "Input \u001b[1;32mIn [73]\u001b[0m, in \u001b[0;36m<cell line: 2>\u001b[1;34m()\u001b[0m\n\u001b[0;32m      1\u001b[0m tup1 \u001b[38;5;241m=\u001b[39m (\u001b[38;5;124m\"\u001b[39m\u001b[38;5;124mPune\u001b[39m\u001b[38;5;124m\"\u001b[39m,\u001b[38;5;124m\"\u001b[39m\u001b[38;5;124mMumbai\u001b[39m\u001b[38;5;124m\"\u001b[39m,\u001b[38;5;124m\"\u001b[39m\u001b[38;5;124mHbad\u001b[39m\u001b[38;5;124m\"\u001b[39m,\u001b[38;5;124m\"\u001b[39m\u001b[38;5;124mChennai\u001b[39m\u001b[38;5;124m\"\u001b[39m,\u001b[38;5;124m\"\u001b[39m\u001b[38;5;124mGujrat\u001b[39m\u001b[38;5;124m\"\u001b[39m,\u001b[38;5;124m\"\u001b[39m\u001b[38;5;124mMaharashtra\u001b[39m\u001b[38;5;124m\"\u001b[39m,\u001b[38;5;124m\"\u001b[39m\u001b[38;5;124mDelhi\u001b[39m\u001b[38;5;124m\"\u001b[39m,\u001b[38;5;124m\"\u001b[39m\u001b[38;5;124mPune\u001b[39m\u001b[38;5;124m\"\u001b[39m,\u001b[38;5;124m\"\u001b[39m\u001b[38;5;124mPune\u001b[39m\u001b[38;5;124m\"\u001b[39m)\n\u001b[1;32m----> 2\u001b[0m \u001b[43mtup1\u001b[49m\u001b[38;5;241;43m.\u001b[39;49m\u001b[43mindex\u001b[49m\u001b[43m(\u001b[49m\u001b[38;5;124;43m\"\u001b[39;49m\u001b[38;5;124;43mhbad\u001b[39;49m\u001b[38;5;124;43m\"\u001b[39;49m\u001b[43m)\u001b[49m\n",
      "\u001b[1;31mValueError\u001b[0m: tuple.index(x): x not in tuple"
     ]
    }
   ],
   "source": [
    "tup1 = (\"Pune\",\"Mumbai\",\"Hbad\",\"Chennai\",\"Gujrat\",\"Maharashtra\",\"Delhi\",\"Pune\",\"Pune\")\n",
    "tup1.index(\"hbad\")"
   ]
  },
  {
   "cell_type": "code",
   "execution_count": 79,
   "id": "6f92a9f4",
   "metadata": {},
   "outputs": [
    {
     "name": "stdout",
     "output_type": "stream",
     "text": [
      "Mumbai is present and its index = 4\n"
     ]
    }
   ],
   "source": [
    "tup1 = (\"Pune\",\"Hbad\",\"Chennai\",\"Gujrat\",\"Mumbai\",\"Maharashtra\",\"Delhi\",\"Pune\",\"Pune\")\n",
    "city_name = \"Mumbai\"\n",
    "if city_name in tup1: # True\n",
    "    print(f\"{city_name} is present and its index = {tup1.index(city_name)}\")\n",
    "else:\n",
    "    print(f\"{city_name} is not present in a given tuple\" )\n"
   ]
  },
  {
   "cell_type": "code",
   "execution_count": 80,
   "id": "536abae0",
   "metadata": {},
   "outputs": [
    {
     "name": "stdout",
     "output_type": "stream",
     "text": [
      "Bombay is not present in a given tuple\n"
     ]
    }
   ],
   "source": [
    "tup1 = (\"Pune\",\"Hbad\",\"Chennai\",\"Gujrat\",\"Mumbai\",\"Maharashtra\",\"Delhi\",\"Pune\",\"Pune\")\n",
    "city_name = \"Bombay\"\n",
    "if city_name in tup1: # False\n",
    "    print(f\"{city_name} is present and its index = {tup1.index(city_name)}\")\n",
    "else:\n",
    "    print(f\"{city_name} is not present in a given tuple\" )\n"
   ]
  },
  {
   "cell_type": "code",
   "execution_count": 91,
   "id": "ef56d5fc",
   "metadata": {},
   "outputs": [
    {
     "name": "stdout",
     "output_type": "stream",
     "text": [
      "0 --> 1\n",
      "1 --> 2\n"
     ]
    }
   ],
   "source": [
    "for a,b in enumerate([\"1\",\"2\"]):\n",
    "    print(f\"{a} --> {b}\")"
   ]
  },
  {
   "cell_type": "markdown",
   "id": "14204d74",
   "metadata": {},
   "source": [
    "# Tuple Constructor"
   ]
  },
  {
   "cell_type": "code",
   "execution_count": 92,
   "id": "a409bcb5",
   "metadata": {},
   "outputs": [
    {
     "data": {
      "text/plain": [
       "tuple"
      ]
     },
     "execution_count": 92,
     "metadata": {},
     "output_type": "execute_result"
    }
   ],
   "source": [
    "num_tup = (1,2,3,4,5)\n",
    "type(num_tup)"
   ]
  },
  {
   "cell_type": "code",
   "execution_count": 94,
   "id": "7775d906",
   "metadata": {},
   "outputs": [
    {
     "name": "stdout",
     "output_type": "stream",
     "text": [
      "[1, 2, 3, 4, 5, 6] <class 'list'>\n",
      "(1, 2, 3, 4, 5, 6) <class 'tuple'>\n"
     ]
    }
   ],
   "source": [
    "li1 = [1,2,3,4,5,6]\n",
    "print(li1,type(li1))\n",
    "tup1 = tuple(li1)\n",
    "print(tup1,type(tup1))"
   ]
  },
  {
   "cell_type": "code",
   "execution_count": 96,
   "id": "beaf583a",
   "metadata": {},
   "outputs": [
    {
     "data": {
      "text/plain": [
       "['H', 'e', 'l', 'l', 'o']"
      ]
     },
     "execution_count": 96,
     "metadata": {},
     "output_type": "execute_result"
    }
   ],
   "source": [
    "list(\"Hello\")"
   ]
  },
  {
   "cell_type": "code",
   "execution_count": 97,
   "id": "62a9a7f6",
   "metadata": {},
   "outputs": [
    {
     "data": {
      "text/plain": [
       "('H', 'e', 'l', 'l', 'o')"
      ]
     },
     "execution_count": 97,
     "metadata": {},
     "output_type": "execute_result"
    }
   ],
   "source": [
    "tuple(\"Hello\")"
   ]
  },
  {
   "cell_type": "code",
   "execution_count": 98,
   "id": "06830c89",
   "metadata": {},
   "outputs": [
    {
     "data": {
      "text/plain": [
       "(1, 3, 5, 6, 7)"
      ]
     },
     "execution_count": 98,
     "metadata": {},
     "output_type": "execute_result"
    }
   ],
   "source": [
    "tuple({1,7,6,3,5,7})"
   ]
  },
  {
   "cell_type": "code",
   "execution_count": 100,
   "id": "744075a1",
   "metadata": {},
   "outputs": [
    {
     "name": "stdout",
     "output_type": "stream",
     "text": [
      "(1, 2, 3, 4, 5)\n"
     ]
    },
    {
     "data": {
      "text/plain": [
       "('Python', 2, 3, 4, 5)"
      ]
     },
     "execution_count": 100,
     "metadata": {},
     "output_type": "execute_result"
    }
   ],
   "source": [
    "number = (1,2,3,4,5)\n",
    "print(number)\n",
    "list1 = list(number)\n",
    "list1[0] = \"Python\"\n",
    "number = tuple(list1)\n",
    "number"
   ]
  },
  {
   "cell_type": "code",
   "execution_count": 101,
   "id": "1fd109ba",
   "metadata": {},
   "outputs": [
    {
     "name": "stdout",
     "output_type": "stream",
     "text": [
      "(1, 2, 3, 4, 5)\n"
     ]
    },
    {
     "data": {
      "text/plain": [
       "(1, 2, 3, 4, 5, 1, 2, 3, 4, 5)"
      ]
     },
     "execution_count": 101,
     "metadata": {},
     "output_type": "execute_result"
    }
   ],
   "source": [
    "number = (1,2,3,4,5)\n",
    "print(number)\n",
    "list1 = list(number)\n",
    "list1.extend(list1)\n",
    "number = tuple(list1)\n",
    "number"
   ]
  },
  {
   "cell_type": "code",
   "execution_count": null,
   "id": "5b6cb6ac",
   "metadata": {},
   "outputs": [],
   "source": [
    "number = (1,2,3,4,5)\n",
    "print(number)\n",
    "list1 = list(number)\n",
    "list1.extend(list1)\n",
    "number = tuple(list1)\n",
    "number"
   ]
  },
  {
   "cell_type": "code",
   "execution_count": 102,
   "id": "6693d8d5",
   "metadata": {},
   "outputs": [
    {
     "name": "stdout",
     "output_type": "stream",
     "text": [
      "(1, 2, 3, 4, 5)\n"
     ]
    },
    {
     "data": {
      "text/plain": [
       "(1, 2, 3, 4, 5, ['Python', 'DS', 'ML'])"
      ]
     },
     "execution_count": 102,
     "metadata": {},
     "output_type": "execute_result"
    }
   ],
   "source": [
    "number = (1,2,3,4,5)\n",
    "print(number)\n",
    "list1 = list(number)\n",
    "list1.append([\"Python\",\"DS\",\"ML\"])\n",
    "number = tuple(list1)\n",
    "number"
   ]
  },
  {
   "cell_type": "markdown",
   "id": "f0f18133",
   "metadata": {},
   "source": [
    "# Copy"
   ]
  },
  {
   "cell_type": "code",
   "execution_count": 103,
   "id": "bb799ce2",
   "metadata": {},
   "outputs": [
    {
     "name": "stdout",
     "output_type": "stream",
     "text": [
      "(3, 4, 5, 6) 3127150379072\n",
      "(3, 4, 5, 6) 3127150379072\n"
     ]
    }
   ],
   "source": [
    "tup1 = (3,4,5,6)\n",
    "tup2 = tup1\n",
    "print(tup1,id(tup1))\n",
    "print(tup2,id(tup2))"
   ]
  },
  {
   "cell_type": "code",
   "execution_count": 104,
   "id": "20fe2a0b",
   "metadata": {},
   "outputs": [
    {
     "name": "stdout",
     "output_type": "stream",
     "text": [
      "(3, 4, 5, 6)\n",
      "(3, 4, 5, 6)\n",
      "(3, 4, 5, 6)\n",
      "(3, 4, 5, 6)\n",
      "(3, 4, 5, 6, 'Python')\n"
     ]
    }
   ],
   "source": [
    "tup1 = (3,4,5,6)\n",
    "tup2 = tup1\n",
    "print(tup1)\n",
    "print(tup2)\n",
    "\n",
    "li1 = list(tup2)\n",
    "li1.append(\"Python\")\n",
    "\n",
    "tup3 = tuple(li1)\n",
    "\n",
    "print(tup1)\n",
    "print(tup2)\n",
    "print(tup3)"
   ]
  },
  {
   "cell_type": "code",
   "execution_count": 105,
   "id": "94fe5630",
   "metadata": {},
   "outputs": [
    {
     "data": {
      "text/plain": [
       "3"
      ]
     },
     "execution_count": 105,
     "metadata": {},
     "output_type": "execute_result"
    }
   ],
   "source": [
    "tup1 = (4, 5, ['Python', 'DS', 'ML'])\n",
    "len(tup1)"
   ]
  },
  {
   "cell_type": "code",
   "execution_count": 106,
   "id": "364d7576",
   "metadata": {},
   "outputs": [
    {
     "data": {
      "text/plain": [
       "'ML'"
      ]
     },
     "execution_count": 106,
     "metadata": {},
     "output_type": "execute_result"
    }
   ],
   "source": [
    "tup1[2][2]"
   ]
  },
  {
   "cell_type": "code",
   "execution_count": 108,
   "id": "1cf5d536",
   "metadata": {},
   "outputs": [
    {
     "data": {
      "text/plain": [
       "(4, 5, ['Python', 'ds', 'ML'])"
      ]
     },
     "execution_count": 108,
     "metadata": {},
     "output_type": "execute_result"
    }
   ],
   "source": [
    "tup1[2][1] = tup1[2][1].lower()\n",
    "\n",
    "tup1"
   ]
  },
  {
   "cell_type": "markdown",
   "id": "e467fdb2",
   "metadata": {},
   "source": [
    "# Deep Copy"
   ]
  },
  {
   "cell_type": "code",
   "execution_count": 109,
   "id": "f27946dd",
   "metadata": {},
   "outputs": [],
   "source": [
    "import copy"
   ]
  },
  {
   "cell_type": "code",
   "execution_count": 110,
   "id": "98b0d915",
   "metadata": {},
   "outputs": [
    {
     "name": "stdout",
     "output_type": "stream",
     "text": [
      "(4, 5, ['PYTHON', 'DS', 'ML'])\n",
      "(4, 5, ['PYTHON', 'DS', 'ML'])\n"
     ]
    }
   ],
   "source": [
    "tup1 = (4, 5, ['Python', 'DS', 'ML'])\n",
    "tup2 = tup1\n",
    "\n",
    "tup1[2][0] = tup1[2][0].upper()\n",
    "\n",
    "print(tup1)\n",
    "print(tup2)"
   ]
  },
  {
   "cell_type": "code",
   "execution_count": 111,
   "id": "526cf59d",
   "metadata": {},
   "outputs": [
    {
     "name": "stdout",
     "output_type": "stream",
     "text": [
      "(4, 5, ['PYTHON', 'DS', 'ML'])\n",
      "(4, 5, ['Python', 'DS', 'ML'])\n"
     ]
    }
   ],
   "source": [
    "tup1 = (4, 5, ['Python', 'DS', 'ML'])\n",
    "tup2 = copy.deepcopy(tup1)\n",
    "\n",
    "tup1[2][0] = tup1[2][0].upper()\n",
    "\n",
    "print(tup1)\n",
    "print(tup2)"
   ]
  },
  {
   "cell_type": "code",
   "execution_count": 112,
   "id": "0454eaea",
   "metadata": {},
   "outputs": [
    {
     "data": {
      "text/plain": [
       "['python', 'ds', 'ml', 'nlp', 'dl']"
      ]
     },
     "execution_count": 112,
     "metadata": {},
     "output_type": "execute_result"
    }
   ],
   "source": [
    "domains = ['PYTHON', 'DS', 'ML',\"NLP\",\"DL\"]\n",
    "new_li = [i.lower() for i in domains]\n",
    "new_li"
   ]
  },
  {
   "cell_type": "code",
   "execution_count": 113,
   "id": "f2f51ec5",
   "metadata": {},
   "outputs": [
    {
     "data": {
      "text/plain": [
       "<generator object <genexpr> at 0x000002D818EBD070>"
      ]
     },
     "execution_count": 113,
     "metadata": {},
     "output_type": "execute_result"
    }
   ],
   "source": [
    "domains = ['PYTHON', 'DS', 'ML',\"NLP\",\"DL\"]\n",
    "new_tu = (i.lower() for i in domains)\n",
    "new_tu"
   ]
  },
  {
   "cell_type": "code",
   "execution_count": 114,
   "id": "05f0f1ee",
   "metadata": {},
   "outputs": [
    {
     "data": {
      "text/plain": [
       "['python', 'ds', 'ml', 'nlp', 'dl']"
      ]
     },
     "execution_count": 114,
     "metadata": {},
     "output_type": "execute_result"
    }
   ],
   "source": [
    "domains = ['PYTHON', 'DS', 'ML',\"NLP\",\"DL\"]\n",
    "new_tu = list(i.lower() for i in domains)\n",
    "new_tu"
   ]
  },
  {
   "cell_type": "code",
   "execution_count": 115,
   "id": "5cae6226",
   "metadata": {},
   "outputs": [
    {
     "data": {
      "text/plain": [
       "('python', 'ds', 'ml', 'nlp', 'dl')"
      ]
     },
     "execution_count": 115,
     "metadata": {},
     "output_type": "execute_result"
    }
   ],
   "source": [
    "domains = ['PYTHON', 'DS', 'ML',\"NLP\",\"DL\"]\n",
    "new_tu = tuple(i.lower() for i in domains)\n",
    "new_tu"
   ]
  },
  {
   "cell_type": "code",
   "execution_count": 116,
   "id": "ee79a55a",
   "metadata": {},
   "outputs": [
    {
     "data": {
      "text/plain": [
       "<generator object <genexpr> at 0x000002D818EBCAC0>"
      ]
     },
     "execution_count": 116,
     "metadata": {},
     "output_type": "execute_result"
    }
   ],
   "source": [
    "domains = ['PYTHON', 'DS', 'ML',\"NLP\",\"DL\"]\n",
    "new_tu = (i.lower() for i in domains)\n",
    "new_tu"
   ]
  },
  {
   "cell_type": "code",
   "execution_count": 120,
   "id": "43f8d449",
   "metadata": {},
   "outputs": [
    {
     "data": {
      "text/plain": [
       "[3, 6, 4]"
      ]
     },
     "execution_count": 120,
     "metadata": {},
     "output_type": "execute_result"
    }
   ],
   "source": [
    "list(reversed([4,6,3]))"
   ]
  },
  {
   "cell_type": "code",
   "execution_count": 121,
   "id": "d8a8a4c2",
   "metadata": {},
   "outputs": [
    {
     "data": {
      "text/plain": [
       "(3, 6, 4)"
      ]
     },
     "execution_count": 121,
     "metadata": {},
     "output_type": "execute_result"
    }
   ],
   "source": [
    "tuple(reversed([4,6,3]))"
   ]
  },
  {
   "cell_type": "code",
   "execution_count": 122,
   "id": "26d49016",
   "metadata": {},
   "outputs": [
    {
     "data": {
      "text/plain": [
       "[2, 4, 6, 8, 10]"
      ]
     },
     "execution_count": 122,
     "metadata": {},
     "output_type": "execute_result"
    }
   ],
   "source": [
    "[i for i in range(1,11) if i%2 == 0]"
   ]
  },
  {
   "cell_type": "code",
   "execution_count": 124,
   "id": "ec8f898c",
   "metadata": {},
   "outputs": [
    {
     "data": {
      "text/plain": [
       "(2, 4, 6, 8, 10)"
      ]
     },
     "execution_count": 124,
     "metadata": {},
     "output_type": "execute_result"
    }
   ],
   "source": [
    "tuple(i for i in range(1,11) if i%2 == 0)"
   ]
  },
  {
   "cell_type": "code",
   "execution_count": 125,
   "id": "f219b61e",
   "metadata": {},
   "outputs": [
    {
     "data": {
      "text/plain": [
       "(502, 504, 506, 508, 510)"
      ]
     },
     "execution_count": 125,
     "metadata": {},
     "output_type": "execute_result"
    }
   ],
   "source": [
    "tuple(i + 500 for i in range(1,11) if i%2 == 0)"
   ]
  },
  {
   "cell_type": "code",
   "execution_count": null,
   "id": "29cacda5",
   "metadata": {},
   "outputs": [],
   "source": []
  },
  {
   "cell_type": "code",
   "execution_count": null,
   "id": "de712699",
   "metadata": {},
   "outputs": [],
   "source": []
  },
  {
   "cell_type": "code",
   "execution_count": null,
   "id": "850cb518",
   "metadata": {},
   "outputs": [],
   "source": []
  },
  {
   "cell_type": "code",
   "execution_count": null,
   "id": "3649fdbf",
   "metadata": {},
   "outputs": [],
   "source": []
  }
 ],
 "metadata": {
  "kernelspec": {
   "display_name": "Python 3 (ipykernel)",
   "language": "python",
   "name": "python3"
  },
  "language_info": {
   "codemirror_mode": {
    "name": "ipython",
    "version": 3
   },
   "file_extension": ".py",
   "mimetype": "text/x-python",
   "name": "python",
   "nbconvert_exporter": "python",
   "pygments_lexer": "ipython3",
   "version": "3.9.12"
  }
 },
 "nbformat": 4,
 "nbformat_minor": 5
}
