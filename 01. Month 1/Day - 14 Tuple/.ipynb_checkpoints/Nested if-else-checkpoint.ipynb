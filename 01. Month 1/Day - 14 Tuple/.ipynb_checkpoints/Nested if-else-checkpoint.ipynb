{
 "cells": [
  {
   "cell_type": "markdown",
   "id": "03732c08",
   "metadata": {},
   "source": [
    "# Nested if-else\n",
    "- if statement inside if"
   ]
  },
  {
   "cell_type": "code",
   "execution_count": 4,
   "id": "7f3bb765",
   "metadata": {},
   "outputs": [
    {
     "name": "stdout",
     "output_type": "stream",
     "text": [
      "Title case\n"
     ]
    }
   ],
   "source": [
    "str1 = \"Python\"\n",
    "if str1.istitle(): # True\n",
    "    print(\"Title case\")\n",
    "else:\n",
    "    print(\"Not a title case\")"
   ]
  },
  {
   "cell_type": "code",
   "execution_count": 6,
   "id": "0c00e545",
   "metadata": {},
   "outputs": [
    {
     "name": "stdout",
     "output_type": "stream",
     "text": [
      "Not a title case\n"
     ]
    }
   ],
   "source": [
    "str1 = \"PYthon\"\n",
    "if str1.istitle(): # False\n",
    "    print(\"Title case\")\n",
    "else:\n",
    "    print(\"Not a title case\")"
   ]
  },
  {
   "cell_type": "code",
   "execution_count": 8,
   "id": "6874d695",
   "metadata": {},
   "outputs": [
    {
     "name": "stdout",
     "output_type": "stream",
     "text": [
      "Length is greater than 5\n",
      "Not a title case\n"
     ]
    }
   ],
   "source": [
    "str1 = \"PYthon\"\n",
    "if len(str1) > 5: # True\n",
    "    print(\"Length is greater than 5\")\n",
    "    \n",
    "    if str1.istitle(): # False\n",
    "        print(\"Title case\")\n",
    "        \n",
    "    else:\n",
    "        print(\"Not a title case\")\n",
    "        \n",
    "else:\n",
    "    print(\"Length is less than 5\")"
   ]
  },
  {
   "cell_type": "code",
   "execution_count": 9,
   "id": "61b3362a",
   "metadata": {},
   "outputs": [
    {
     "name": "stdout",
     "output_type": "stream",
     "text": [
      "Length is greater than 5\n",
      "Title case\n"
     ]
    }
   ],
   "source": [
    "str1 = \"Python\"\n",
    "if len(str1) > 5: # True\n",
    "    print(\"Length is greater than 5\")\n",
    "    \n",
    "    if str1.istitle(): # True\n",
    "        print(\"Title case\")\n",
    "        \n",
    "    else:\n",
    "        print(\"Not a title case\")\n",
    "        \n",
    "else:\n",
    "    print(\"Length is less than 5\")"
   ]
  },
  {
   "cell_type": "code",
   "execution_count": 10,
   "id": "f9da6dcc",
   "metadata": {},
   "outputs": [
    {
     "name": "stdout",
     "output_type": "stream",
     "text": [
      "Length is less than 5\n"
     ]
    }
   ],
   "source": [
    "str1 = \"Pyth\"\n",
    "if len(str1) > 5: # False\n",
    "    print(\"Length is greater than 5\")\n",
    "    \n",
    "    if str1.istitle():\n",
    "        print(\"Title case\")\n",
    "        \n",
    "    else:\n",
    "        print(\"Not a title case\")\n",
    "        \n",
    "else:\n",
    "    print(\"Length is less than 5\")"
   ]
  },
  {
   "cell_type": "code",
   "execution_count": 12,
   "id": "b86d41d5",
   "metadata": {},
   "outputs": [
    {
     "name": "stdout",
     "output_type": "stream",
     "text": [
      "Length is less than 5\n"
     ]
    }
   ],
   "source": [
    "str1 = \"Pyth\"\n",
    "if len(str1) > 5: # False\n",
    "    print(\"Length is greater than 5\")\n",
    "    \n",
    "    if str1.startswith(\"P\"):\n",
    "        print(\"startswith P\")\n",
    "        if str1.istitle():\n",
    "            print(\"Title case\")\n",
    "\n",
    "        else:\n",
    "            print(\"Not a title case\")\n",
    "    else:\n",
    "        print(\"Does not starts with P\")\n",
    "\n",
    "else:\n",
    "    print(\"Length is less than 5\")"
   ]
  },
  {
   "cell_type": "code",
   "execution_count": 13,
   "id": "049a80cd",
   "metadata": {},
   "outputs": [
    {
     "name": "stdout",
     "output_type": "stream",
     "text": [
      "Length is greater than 5\n",
      "startswith P\n",
      "Title case\n"
     ]
    }
   ],
   "source": [
    "str1 = \"Python\"\n",
    "if len(str1) > 5: # True\n",
    "    print(\"Length is greater than 5\")\n",
    "    \n",
    "    if str1.startswith(\"P\"): # True\n",
    "        print(\"startswith P\")\n",
    "        \n",
    "        if str1.istitle(): # True\n",
    "            print(\"Title case\")\n",
    "\n",
    "        else:\n",
    "            print(\"Not a title case\")\n",
    "    else:\n",
    "        print(\"Does not starts with P\")\n",
    "\n",
    "else:\n",
    "    print(\"Length is less than 5\")"
   ]
  },
  {
   "cell_type": "code",
   "execution_count": 14,
   "id": "2b4b17e2",
   "metadata": {},
   "outputs": [
    {
     "name": "stdout",
     "output_type": "stream",
     "text": [
      "Length is greater than 5\n",
      "startswith P\n",
      "Not a title case\n"
     ]
    }
   ],
   "source": [
    "str1 = \"PyThon\"\n",
    "if len(str1) > 5: # True\n",
    "    print(\"Length is greater than 5\")\n",
    "    \n",
    "    if str1.startswith(\"P\"): # True\n",
    "        print(\"startswith P\")\n",
    "        \n",
    "        if str1.istitle(): # False\n",
    "            print(\"Title case\")\n",
    "\n",
    "        else:\n",
    "            print(\"Not a title case\")\n",
    "    else:\n",
    "        print(\"Does not starts with P\")\n",
    "\n",
    "else:\n",
    "    print(\"Length is less than 5\")"
   ]
  },
  {
   "cell_type": "code",
   "execution_count": 15,
   "id": "ed98cf5b",
   "metadata": {},
   "outputs": [
    {
     "name": "stdout",
     "output_type": "stream",
     "text": [
      "Length is greater than 5\n",
      "Does not starts with P\n"
     ]
    }
   ],
   "source": [
    "str1 = \"CyThon\"\n",
    "if len(str1) > 5: # True\n",
    "    print(\"Length is greater than 5\")\n",
    "    \n",
    "    if str1.startswith(\"P\"): # False\n",
    "        print(\"startswith P\")\n",
    "        \n",
    "        if str1.istitle(): \n",
    "            print(\"Title case\")\n",
    "\n",
    "        else:\n",
    "            print(\"Not a title case\")\n",
    "    else:\n",
    "        print(\"Does not starts with P\")\n",
    "\n",
    "else:\n",
    "    print(\"Length is less than 5\")"
   ]
  },
  {
   "cell_type": "code",
   "execution_count": 16,
   "id": "0415f83e",
   "metadata": {},
   "outputs": [
    {
     "name": "stdout",
     "output_type": "stream",
     "text": [
      "num is greater than 100\n",
      "num is greater than 120\n"
     ]
    }
   ],
   "source": [
    "num = 130\n",
    "if num > 100: #True\n",
    "    print(\"num is greater than 100\")\n",
    "    if num > 150:\n",
    "        print(\"num is greater than 150\")\n",
    "    else:\n",
    "        if num > 120:\n",
    "            print(\"num is greater than 120\")\n",
    "        else:\n",
    "            print(\"num is less than 120\")\n",
    "else:\n",
    "    print(\"num is less than 100\")"
   ]
  },
  {
   "cell_type": "code",
   "execution_count": 17,
   "id": "12e44977",
   "metadata": {},
   "outputs": [
    {
     "name": "stdout",
     "output_type": "stream",
     "text": [
      "num is greater than 100\n",
      "num is less than 120\n"
     ]
    }
   ],
   "source": [
    "num = 115\n",
    "if num > 100: #True\n",
    "    print(\"num is greater than 100\")\n",
    "    if num > 150:\n",
    "        print(\"num is greater than 150\")\n",
    "    else:\n",
    "        if num > 120: # False\n",
    "            print(\"num is greater than 120\")\n",
    "        else:\n",
    "            print(\"num is less than 120\")\n",
    "else:\n",
    "    print(\"num is less than 100\")"
   ]
  },
  {
   "cell_type": "code",
   "execution_count": 18,
   "id": "27bf3faa",
   "metadata": {},
   "outputs": [],
   "source": [
    "# Loan status >> Approved / Declined ?\n",
    "# Cibil_SCore,age,salary"
   ]
  },
  {
   "cell_type": "code",
   "execution_count": 19,
   "id": "ffaedca4",
   "metadata": {},
   "outputs": [
    {
     "name": "stdout",
     "output_type": "stream",
     "text": [
      "Cibil score is greater than 750\n",
      "Age in a range\n",
      "Salary is greater than 45000\n",
      "---------------\n",
      "Loan Approved\n",
      "---------------\n"
     ]
    }
   ],
   "source": [
    "cibil_score = 800\n",
    "age = 35\n",
    "salary = 75000\n",
    "\n",
    "if cibil_score > 750: # True\n",
    "    print(f\"Cibil score is greater than 750\")\n",
    "    \n",
    "    if age > 24 and age < 60: # True and True >> True\n",
    "        print(\"Age in a range\")\n",
    "        \n",
    "        if salary > 45000: # True \n",
    "            print(\"Salary is greater than 45000\")\n",
    "            print(\"-\"*15)\n",
    "            print(\"Loan Approved\")\n",
    "            print(\"-\"*15)"
   ]
  },
  {
   "cell_type": "code",
   "execution_count": 22,
   "id": "4f80263c",
   "metadata": {},
   "outputs": [
    {
     "name": "stdout",
     "output_type": "stream",
     "text": [
      "Declined by Cibit Score\n"
     ]
    }
   ],
   "source": [
    "cibil_score = 500\n",
    "age = 23\n",
    "salary = 85000\n",
    "\n",
    "if cibil_score > 750: # True\n",
    "    print(f\"Cibil score is greater than 750\")\n",
    "    \n",
    "    if age > 24 and age < 60: # True and True >> True\n",
    "        print(\"Age in a range\")\n",
    "        \n",
    "        if salary > 45000: # True \n",
    "            print(\"Salary is greater than 45000\")\n",
    "            print(\"-\"*15)\n",
    "            print(\"Loan Approved\")\n",
    "            print(\"-\"*15)\n",
    "        else:\n",
    "            print(\"Declined by salary\")\n",
    "            \n",
    "    else:\n",
    "        print(\"Declined by Age\")\n",
    "else:\n",
    "    print(\"Declined by Cibit Score\")\n",
    "    "
   ]
  },
  {
   "cell_type": "code",
   "execution_count": 24,
   "id": "16e743c7",
   "metadata": {},
   "outputs": [
    {
     "name": "stdout",
     "output_type": "stream",
     "text": [
      "Cibil score is greater than 750\n",
      "Age in a range\n",
      "Salary is greater than 45000\n",
      "---------------\n",
      "Loan Approved\n",
      "---------------\n"
     ]
    }
   ],
   "source": [
    "cibil_score = 900\n",
    "age = 28\n",
    "salary = 85000\n",
    "\n",
    "if cibil_score > 750: \n",
    "    print(f\"Cibil score is greater than 750\")\n",
    "    \n",
    "    if age > 24 and age < 60:\n",
    "        print(\"Age in a range\")\n",
    "        \n",
    "        if salary > 45000: \n",
    "            print(\"Salary is greater than 45000\")\n",
    "            print(\"-\"*15)\n",
    "            print(\"Loan Approved\")\n",
    "            print(\"-\"*15)\n",
    "        else:\n",
    "            print(\"Declined by salary\")\n",
    "            \n",
    "    else:\n",
    "        print(\"Declined by Age\")\n",
    "else:\n",
    "    print(\"Declined by Cibit Score\")\n",
    "    "
   ]
  },
  {
   "cell_type": "markdown",
   "id": "2b88f36c",
   "metadata": {},
   "source": [
    "## Short hand if"
   ]
  },
  {
   "cell_type": "code",
   "execution_count": 25,
   "id": "85d5e8bf",
   "metadata": {},
   "outputs": [
    {
     "name": "stdout",
     "output_type": "stream",
     "text": [
      "100 is greater than 50\n"
     ]
    }
   ],
   "source": [
    "num1 = 100\n",
    "num2 = 50\n",
    "if num1 > num2:\n",
    "    print(f\"{num1} is greater than {num2}\")"
   ]
  },
  {
   "cell_type": "code",
   "execution_count": 26,
   "id": "43eb6fbc",
   "metadata": {},
   "outputs": [
    {
     "name": "stdout",
     "output_type": "stream",
     "text": [
      "100 is greater than 50\n"
     ]
    }
   ],
   "source": [
    "if num1 > num2:print(f\"{num1} is greater than {num2}\")"
   ]
  },
  {
   "cell_type": "code",
   "execution_count": 27,
   "id": "889a54fe",
   "metadata": {},
   "outputs": [
    {
     "name": "stdout",
     "output_type": "stream",
     "text": [
      "7\n",
      "56\n",
      "7\n",
      "7\n"
     ]
    }
   ],
   "source": [
    "for i in [7,3,56,3,1,5,7,3,3,5,7,4]:\n",
    "    if i > 5 : print(i)"
   ]
  },
  {
   "cell_type": "markdown",
   "id": "1562192b",
   "metadata": {},
   "source": [
    "## Short hand if else"
   ]
  },
  {
   "cell_type": "code",
   "execution_count": 28,
   "id": "ffd1edab",
   "metadata": {},
   "outputs": [
    {
     "name": "stdout",
     "output_type": "stream",
     "text": [
      "500 is greater than 100\n"
     ]
    }
   ],
   "source": [
    "num1 = 100\n",
    "num2 = 500\n",
    "if num1 > num2:\n",
    "    print(f\"{num1} is greater than {num2}\")\n",
    "else:\n",
    "    print(f\"{num2} is greater than {num1}\")"
   ]
  },
  {
   "cell_type": "code",
   "execution_count": 30,
   "id": "1e928e69",
   "metadata": {},
   "outputs": [
    {
     "name": "stdout",
     "output_type": "stream",
     "text": [
      "500 is greater than 100\n"
     ]
    }
   ],
   "source": [
    "num1 = 100\n",
    "num2 = 500\n",
    "print(f\"{num1} is greater than {num2}\") if num1 > num2 else print(f\"{num2} is greater than {num1}\")"
   ]
  },
  {
   "cell_type": "code",
   "execution_count": 31,
   "id": "44254ac7",
   "metadata": {},
   "outputs": [
    {
     "name": "stdout",
     "output_type": "stream",
     "text": [
      "100 is greater than 50\n"
     ]
    }
   ],
   "source": [
    "num1 = 100\n",
    "num2 = 50\n",
    "print(f\"{num1} is greater than {num2}\") if num1 > num2 else print(f\"{num2} is greater than {num1}\")"
   ]
  },
  {
   "cell_type": "code",
   "execution_count": 32,
   "id": "fff79af7",
   "metadata": {},
   "outputs": [
    {
     "name": "stdout",
     "output_type": "stream",
     "text": [
      "500 is greater than 100\n"
     ]
    }
   ],
   "source": [
    "num1 = 100\n",
    "num2 = 500\n",
    "print(f\"{num1} is greater than {num2}\") if num1 > num2 else print(f\"{num2} is greater than {num1}\")"
   ]
  },
  {
   "cell_type": "code",
   "execution_count": 33,
   "id": "b1799c59",
   "metadata": {},
   "outputs": [
    {
     "name": "stdout",
     "output_type": "stream",
     "text": [
      "num is small\n",
      "7\n",
      "num is small\n",
      "8\n",
      "num is small\n",
      "9\n"
     ]
    }
   ],
   "source": [
    "for i in [1,7,3,8,4,9]:\n",
    "    print(i) if i > 5 else print(\"num is small\")"
   ]
  },
  {
   "cell_type": "code",
   "execution_count": 35,
   "id": "e62b6718",
   "metadata": {},
   "outputs": [
    {
     "data": {
      "text/plain": [
       "['Small num', 7, 'Small num', 8, 'Small num', 9]"
      ]
     },
     "execution_count": 35,
     "metadata": {},
     "output_type": "execute_result"
    }
   ],
   "source": [
    "[i if i > 5 else \"Small num\" for i in [1,7,3,8,4,9]]"
   ]
  },
  {
   "cell_type": "code",
   "execution_count": 36,
   "id": "a8cffe34",
   "metadata": {},
   "outputs": [
    {
     "ename": "SyntaxError",
     "evalue": "expected 'else' after 'if' expression (831370425.py, line 1)",
     "output_type": "error",
     "traceback": [
      "\u001b[1;36m  Input \u001b[1;32mIn [36]\u001b[1;36m\u001b[0m\n\u001b[1;33m    [i if i > 5 for i in [1,7,3,8,4,9]]\u001b[0m\n\u001b[1;37m     ^\u001b[0m\n\u001b[1;31mSyntaxError\u001b[0m\u001b[1;31m:\u001b[0m expected 'else' after 'if' expression\n"
     ]
    }
   ],
   "source": [
    "[i if i > 5 for i in [1,7,3,8,4,9]]"
   ]
  },
  {
   "cell_type": "code",
   "execution_count": 37,
   "id": "9a68a919",
   "metadata": {},
   "outputs": [
    {
     "data": {
      "text/plain": [
       "[7, 8, 9]"
      ]
     },
     "execution_count": 37,
     "metadata": {},
     "output_type": "execute_result"
    }
   ],
   "source": [
    "[i for i in [1,7,3,8,4,9] if i > 5]"
   ]
  },
  {
   "cell_type": "code",
   "execution_count": null,
   "id": "ac70802d",
   "metadata": {},
   "outputs": [],
   "source": []
  },
  {
   "cell_type": "code",
   "execution_count": null,
   "id": "3ae8d1e7",
   "metadata": {},
   "outputs": [],
   "source": []
  },
  {
   "cell_type": "code",
   "execution_count": null,
   "id": "03dd9788",
   "metadata": {},
   "outputs": [],
   "source": []
  },
  {
   "cell_type": "code",
   "execution_count": null,
   "id": "b4b94c15",
   "metadata": {},
   "outputs": [],
   "source": []
  },
  {
   "cell_type": "code",
   "execution_count": null,
   "id": "2a35f890",
   "metadata": {},
   "outputs": [],
   "source": []
  },
  {
   "cell_type": "code",
   "execution_count": null,
   "id": "4b5a638c",
   "metadata": {},
   "outputs": [],
   "source": []
  }
 ],
 "metadata": {
  "kernelspec": {
   "display_name": "Python 3 (ipykernel)",
   "language": "python",
   "name": "python3"
  },
  "language_info": {
   "codemirror_mode": {
    "name": "ipython",
    "version": 3
   },
   "file_extension": ".py",
   "mimetype": "text/x-python",
   "name": "python",
   "nbconvert_exporter": "python",
   "pygments_lexer": "ipython3",
   "version": "3.10.5"
  }
 },
 "nbformat": 4,
 "nbformat_minor": 5
}
