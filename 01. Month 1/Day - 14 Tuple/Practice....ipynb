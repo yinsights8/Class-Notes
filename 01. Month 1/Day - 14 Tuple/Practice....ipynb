{
 "cells": [
  {
   "cell_type": "markdown",
   "id": "e43ba1c5",
   "metadata": {},
   "source": [
    "# List\n",
    "- Mutable (Values can be changed/changable) ---> add,delete, update\n",
    "- Allow Duplicate items\n",
    "- Orderd data type\n",
    "- Enclosed by []\n",
    "- Variable length (any change reflectsd on it's length)\n",
    "- More memory required (due to insertion order)\n",
    "- More functional\n",
    "- Collection of any data types\n",
    "- List is slower than tuple\n",
    "\n",
    "\n",
    "# Tuple\n",
    "- Immutable Data Type (Unchangable)\n",
    "- Allows Duplicate items\n",
    "- Orderd\n",
    "- Enclosed by ()\n",
    "- fixed length\n",
    "- Requires less memory\n",
    "- Less functional\n",
    "- Collection of any data types\n",
    "- Tuple is faster than list"
   ]
  },
  {
   "cell_type": "markdown",
   "id": "180e2964",
   "metadata": {},
   "source": [
    "# Tuple"
   ]
  },
  {
   "cell_type": "markdown",
   "id": "8ff2ff18",
   "metadata": {},
   "source": [
    "### we can define tuples by\n",
    "\n",
    " - 1. comma after a element                                     ---> 1,  , tup1 = (1,)\n",
    " - 2. assigining only characters or numbers to variables        ---> a = 1,2,3,4  = (1,2,3,4)\n",
    " - 3. enclosing elements by ()                                  ---> a = (1,2,3,4)"
   ]
  },
  {
   "cell_type": "code",
   "execution_count": 13,
   "id": "5e113e90",
   "metadata": {},
   "outputs": [
    {
     "name": "stdout",
     "output_type": "stream",
     "text": [
      "(1,) <class 'tuple'>\n"
     ]
    }
   ],
   "source": [
    " # way 1.  by comma after element\n",
    "tup1 = 1,\n",
    "print(tup1, type(tup1))"
   ]
  },
  {
   "cell_type": "code",
   "execution_count": 14,
   "id": "46f046ad",
   "metadata": {},
   "outputs": [
    {
     "name": "stdout",
     "output_type": "stream",
     "text": [
      "1 <class 'int'>\n"
     ]
    }
   ],
   "source": [
    "g = 1\n",
    "print(g, type(g))"
   ]
  },
  {
   "cell_type": "code",
   "execution_count": 15,
   "id": "4dabb90b",
   "metadata": {},
   "outputs": [
    {
     "name": "stdout",
     "output_type": "stream",
     "text": [
      "(1, 2, 3, 4) <class 'tuple'>\n"
     ]
    }
   ],
   "source": [
    "# way 2. without using ()\n",
    "a = 1,2,3,4\n",
    "print(a, type(a))"
   ]
  },
  {
   "cell_type": "code",
   "execution_count": 16,
   "id": "b411a165",
   "metadata": {},
   "outputs": [
    {
     "name": "stdout",
     "output_type": "stream",
     "text": [
      "(1, 2, 3, 4) <class 'tuple'>\n"
     ]
    }
   ],
   "source": [
    "# way 3. by using ()\n",
    "v = (1,2,3,4)\n",
    "print(v, type(v))"
   ]
  },
  {
   "cell_type": "code",
   "execution_count": 25,
   "id": "b75aa477",
   "metadata": {},
   "outputs": [
    {
     "data": {
      "text/plain": [
       "1"
      ]
     },
     "execution_count": 25,
     "metadata": {},
     "output_type": "execute_result"
    }
   ],
   "source": [
    "i =(1,2,3,4, \"Python\", \"science\")\n",
    "i[0]\n",
    "# i[1]"
   ]
  },
  {
   "cell_type": "code",
   "execution_count": 31,
   "id": "b9455803",
   "metadata": {},
   "outputs": [
    {
     "data": {
      "text/plain": [
       "('science', 'Python', 4)"
      ]
     },
     "execution_count": 31,
     "metadata": {},
     "output_type": "execute_result"
    }
   ],
   "source": [
    "i[-1:-4:-1]"
   ]
  },
  {
   "cell_type": "code",
   "execution_count": 29,
   "id": "4aada745",
   "metadata": {},
   "outputs": [
    {
     "data": {
      "text/plain": [
       "()"
      ]
     },
     "execution_count": 29,
     "metadata": {},
     "output_type": "execute_result"
    }
   ],
   "source": [
    "i[-4:-1:-1]"
   ]
  },
  {
   "cell_type": "code",
   "execution_count": 1,
   "id": "0f4d834b",
   "metadata": {},
   "outputs": [
    {
     "name": "stdout",
     "output_type": "stream",
     "text": [
      "(1, 2, 3, 1, 2, 3, 1, 2, 3)\n"
     ]
    }
   ],
   "source": [
    "tuple1 = (1,2,3,1,2,3,1,2,3)\n",
    "print(tuple1)"
   ]
  },
  {
   "cell_type": "code",
   "execution_count": 4,
   "id": "2b2173c0",
   "metadata": {},
   "outputs": [
    {
     "name": "stdout",
     "output_type": "stream",
     "text": [
      "(1, 6)\n"
     ]
    }
   ],
   "source": [
    "tuple1 = (2,1,4,6,1,2,3)\n",
    "print(tuple1[-3:-5:-1])"
   ]
  },
  {
   "cell_type": "markdown",
   "id": "d3424db6",
   "metadata": {},
   "source": [
    "# delete a items from the tuple"
   ]
  },
  {
   "cell_type": "code",
   "execution_count": 5,
   "id": "293f89f8",
   "metadata": {},
   "outputs": [
    {
     "data": {
      "text/plain": [
       "(2, 1, 4, 6, 1, 2, 3)"
      ]
     },
     "execution_count": 5,
     "metadata": {},
     "output_type": "execute_result"
    }
   ],
   "source": [
    "tuple1"
   ]
  },
  {
   "cell_type": "code",
   "execution_count": 6,
   "id": "30f0ec47",
   "metadata": {},
   "outputs": [
    {
     "ename": "TypeError",
     "evalue": "'tuple' object doesn't support item deletion",
     "output_type": "error",
     "traceback": [
      "\u001b[1;31m---------------------------------------------------------------------------\u001b[0m",
      "\u001b[1;31mTypeError\u001b[0m                                 Traceback (most recent call last)",
      "Input \u001b[1;32mIn [6]\u001b[0m, in \u001b[0;36m<cell line: 1>\u001b[1;34m()\u001b[0m\n\u001b[1;32m----> 1\u001b[0m \u001b[38;5;28;01mdel\u001b[39;00m tuple1[\u001b[38;5;241m0\u001b[39m]\n",
      "\u001b[1;31mTypeError\u001b[0m: 'tuple' object doesn't support item deletion"
     ]
    }
   ],
   "source": [
    "del tuple1[0]"
   ]
  },
  {
   "cell_type": "code",
   "execution_count": 19,
   "id": "df64c409",
   "metadata": {},
   "outputs": [
    {
     "name": "stdout",
     "output_type": "stream",
     "text": [
      "It was a tuple at first:  (1, 2, 3, 'python', 'ML', 'DL')\n",
      "************************************************************\n",
      "we convert tuple into list:  [1, 2, 3, 'python', 'ML', 'DL']\n",
      "********************************************************************************\n",
      "we changed the 0th item from the list['Yash', 2, 3, 'python', 'ML', 'DL']\n",
      "********************************************************************************\n",
      "we convert the list into tuple again: ('Yash', 2, 3, 'python', 'ML', 'DL')\n"
     ]
    }
   ],
   "source": [
    "tup = (1,2,3,\"python\", \"ML\", \"DL\")\n",
    "print(\"It was a tuple at first: \",tup)\n",
    "print(\"*\"*60)\n",
    "\n",
    "new_tuple = list(tup)\n",
    "print(\"we convert tuple into list: \",new_tuple)\n",
    "print(\"*\"*80)\n",
    "\n",
    "new_tuple[0] = \"Yash\"\n",
    "print(f\"we changed the 0th item from the list{new_tuple}\")\n",
    "\n",
    "print(\"*\"*80)\n",
    "\n",
    "tup1 = tuple(new_tuple)\n",
    "print(f\"we convert the list into tuple again: {tup1}\")"
   ]
  },
  {
   "cell_type": "code",
   "execution_count": 22,
   "id": "366efdc0",
   "metadata": {},
   "outputs": [
    {
     "data": {
      "text/plain": [
       "(1, 2, 3, 'python', 'ML', 'DL')"
      ]
     },
     "execution_count": 22,
     "metadata": {},
     "output_type": "execute_result"
    }
   ],
   "source": [
    "# operation on tuple \n",
    "tup"
   ]
  },
  {
   "cell_type": "code",
   "execution_count": 25,
   "id": "5134a9ea",
   "metadata": {},
   "outputs": [
    {
     "data": {
      "text/plain": [
       "(1, 2, 3, 'python', 'ML', 'DL', 1, 2, 3, 'python', 'ML', 'DL')"
      ]
     },
     "execution_count": 25,
     "metadata": {},
     "output_type": "execute_result"
    }
   ],
   "source": [
    "tup + tup"
   ]
  },
  {
   "cell_type": "code",
   "execution_count": 27,
   "id": "85edcee9",
   "metadata": {},
   "outputs": [
    {
     "name": "stdout",
     "output_type": "stream",
     "text": [
      "(1, 2, 3, 'python', 'ML', 'DL', 1, 2, 3, 'python', 'ML', 'DL', 1, 2, 3, 'python', 'ML', 'DL') "
     ]
    }
   ],
   "source": [
    "print(tup * 3, end=\" \")"
   ]
  },
  {
   "cell_type": "code",
   "execution_count": 31,
   "id": "701ea681",
   "metadata": {},
   "outputs": [
    {
     "data": {
      "text/plain": [
       "(2, 1, 4, 6, 1, 2, 3)"
      ]
     },
     "execution_count": 31,
     "metadata": {},
     "output_type": "execute_result"
    }
   ],
   "source": [
    "tuple1"
   ]
  },
  {
   "cell_type": "code",
   "execution_count": 34,
   "id": "0567648e",
   "metadata": {},
   "outputs": [
    {
     "ename": "TypeError",
     "evalue": "unsupported operand type(s) for -: 'tuple' and 'int'",
     "output_type": "error",
     "traceback": [
      "\u001b[1;31m---------------------------------------------------------------------------\u001b[0m",
      "\u001b[1;31mTypeError\u001b[0m                                 Traceback (most recent call last)",
      "Input \u001b[1;32mIn [34]\u001b[0m, in \u001b[0;36m<cell line: 1>\u001b[1;34m()\u001b[0m\n\u001b[1;32m----> 1\u001b[0m \u001b[43mtuple1\u001b[49m\u001b[43m \u001b[49m\u001b[38;5;241;43m-\u001b[39;49m\u001b[43m \u001b[49m\u001b[38;5;241;43m3\u001b[39;49m\n",
      "\u001b[1;31mTypeError\u001b[0m: unsupported operand type(s) for -: 'tuple' and 'int'"
     ]
    }
   ],
   "source": []
  },
  {
   "cell_type": "code",
   "execution_count": 36,
   "id": "4548744f",
   "metadata": {},
   "outputs": [
    {
     "name": "stdout",
     "output_type": "stream",
     "text": [
      "0 Pune\n",
      "1 Mumbai\n",
      "2 Hbad\n",
      "3 Chennai\n",
      "4 Gujrat\n",
      "5 Maharashtra\n",
      "6 Delhi\n",
      "7 Pune\n",
      "8 Pune\n"
     ]
    }
   ],
   "source": [
    "cities = (\"Pune\",\"Mumbai\",\"Hbad\",\"Chennai\",\"Gujrat\",\"Maharashtra\",\"Delhi\",\"Pune\",\"Pune\")\n",
    "for index, city in enumerate(cities):\n",
    "    print(index, city)"
   ]
  },
  {
   "cell_type": "code",
   "execution_count": 43,
   "id": "d85d2fad",
   "metadata": {},
   "outputs": [
    {
     "name": "stdout",
     "output_type": "stream",
     "text": [
      "0 Pune\n",
      "7 Pune\n",
      "8 Pune\n"
     ]
    }
   ],
   "source": [
    "for index, city in enumerate(cities):\n",
    "    if cities.count(city) > 1:\n",
    "        print(index, city)"
   ]
  },
  {
   "cell_type": "markdown",
   "id": "fd47cac8",
   "metadata": {},
   "source": [
    "# Function in tuple\n",
    "\n",
    "- index\n",
    "- count"
   ]
  },
  {
   "cell_type": "code",
   "execution_count": 49,
   "id": "fdabd82c",
   "metadata": {},
   "outputs": [
    {
     "name": "stdout",
     "output_type": "stream",
     "text": [
      "0\n",
      "3\n"
     ]
    }
   ],
   "source": [
    "cities = (\"Pune\",\"Mumbai\",\"Hbad\",\"Chennai\",\"Gujrat\",\"Maharashtra\",\"Delhi\",\"Pune\",\"Pune\")\n",
    "\n",
    "print(cities.index(\"Pune\"))\n",
    "\n",
    "print(cities.count(\"Pune\"))"
   ]
  },
  {
   "cell_type": "code",
   "execution_count": 53,
   "id": "eec69a81",
   "metadata": {},
   "outputs": [
    {
     "name": "stdout",
     "output_type": "stream",
     "text": [
      "city is not present in the tuple\n"
     ]
    }
   ],
   "source": [
    "# if the item not present in the tuple and to avoid error\n",
    "\n",
    "if \"florida\" in cities:\n",
    "    print(cities.index(\"florida\"))\n",
    "else:\n",
    "    print(\"city is not present in the tuple\")"
   ]
  },
  {
   "cell_type": "markdown",
   "id": "e1150c16",
   "metadata": {},
   "source": [
    "# tuple constructor\n",
    "\n",
    "- syntax \n",
    "  -  tuple = tuple(tuple_list)"
   ]
  },
  {
   "cell_type": "code",
   "execution_count": 56,
   "id": "27338c07",
   "metadata": {},
   "outputs": [
    {
     "name": "stdout",
     "output_type": "stream",
     "text": [
      "('Pune', 'Mumbai', 'Hbad', 'Chennai', 'Gujrat', 'Maharashtra', 'Delhi', 'Pune', 'Pune')\n"
     ]
    }
   ],
   "source": [
    "cities = [\"Pune\",\"Mumbai\",\"Hbad\",\"Chennai\",\"Gujrat\",\"Maharashtra\",\"Delhi\",\"Pune\",\"Pune\"]\n",
    "\n",
    "new_city = tuple(cities)\n",
    "print(new_city)"
   ]
  },
  {
   "cell_type": "code",
   "execution_count": null,
   "id": "ce84cddf",
   "metadata": {},
   "outputs": [],
   "source": []
  },
  {
   "cell_type": "code",
   "execution_count": 57,
   "id": "79c2345f",
   "metadata": {},
   "outputs": [
    {
     "name": "stdout",
     "output_type": "stream",
     "text": [
      "(4, 5, ['Python', 'DS', 'ML'])\n"
     ]
    }
   ],
   "source": [
    "# can we change the elements which is a list inside of tuple\n",
    "\n",
    "tp1 = (4, 5, ['Python', 'DS', 'ML'])\n",
    "\n",
    "print(tp1)"
   ]
  },
  {
   "cell_type": "code",
   "execution_count": 58,
   "id": "4e0fcae8",
   "metadata": {},
   "outputs": [
    {
     "ename": "TypeError",
     "evalue": "'tuple' object does not support item assignment",
     "output_type": "error",
     "traceback": [
      "\u001b[1;31m---------------------------------------------------------------------------\u001b[0m",
      "\u001b[1;31mTypeError\u001b[0m                                 Traceback (most recent call last)",
      "Input \u001b[1;32mIn [58]\u001b[0m, in \u001b[0;36m<cell line: 1>\u001b[1;34m()\u001b[0m\n\u001b[1;32m----> 1\u001b[0m tp1[\u001b[38;5;241m2\u001b[39m] \u001b[38;5;241m=\u001b[39m \u001b[38;5;124m\"\u001b[39m\u001b[38;5;124mPython\u001b[39m\u001b[38;5;124m\"\u001b[39m\n\u001b[0;32m      2\u001b[0m \u001b[38;5;28mprint\u001b[39m(tp1)\n",
      "\u001b[1;31mTypeError\u001b[0m: 'tuple' object does not support item assignment"
     ]
    }
   ],
   "source": [
    "tp1[2] = \"Python\"\n",
    "print(tp1)"
   ]
  },
  {
   "cell_type": "code",
   "execution_count": 59,
   "id": "c4306eaf",
   "metadata": {},
   "outputs": [
    {
     "name": "stdout",
     "output_type": "stream",
     "text": [
      "(4, 5, ['Python', 'Yash', 'ML'])\n"
     ]
    }
   ],
   "source": [
    "tp1[2][1] = \"Yash\"\n",
    "print(tp1)"
   ]
  },
  {
   "cell_type": "markdown",
   "id": "54791f60",
   "metadata": {},
   "source": [
    "# shallow copy"
   ]
  },
  {
   "cell_type": "code",
   "execution_count": 90,
   "id": "054102b3",
   "metadata": {},
   "outputs": [
    {
     "name": "stdout",
     "output_type": "stream",
     "text": [
      "(4, 5, ['Python', 'DS', 'ML'])\n",
      "**************************************************\n",
      "(4, 5, ['Python', 'DS', 'ML'])\n",
      "**************************************************\n",
      "Original object: ((4, 5, ['Batman', 'DS', 'ML']), 1804379323584)\n",
      "Copied Object:   ((4, 5, ['Batman', 'DS', 'ML']), 1804379323584)\n",
      "Changes reflected on both the objects\n"
     ]
    }
   ],
   "source": [
    "tp1 = (4, 5, ['Python', 'DS', 'ML'])\n",
    "print(tp1)\n",
    "tp = tp1\n",
    "print(\"*\"*50)\n",
    "print(tp)\n",
    "\n",
    "print(\"*\"*50)\n",
    "\n",
    "tp[2][0] = \"Batman\"\n",
    "\n",
    "print(f\"Original object: {tp, id(tp)}\")    # changes reflected both in copied as well as original objects\n",
    "print(f\"Copied Object:   {tp1, id(tp1)}\")  # changes reflected both in copied as well as original objects\n",
    "\n",
    "print(\"Changes reflected on both the objects\")"
   ]
  },
  {
   "cell_type": "code",
   "execution_count": null,
   "id": "658b6382",
   "metadata": {},
   "outputs": [],
   "source": []
  },
  {
   "cell_type": "markdown",
   "id": "188e60ed",
   "metadata": {},
   "source": [
    "# deepcopy"
   ]
  },
  {
   "cell_type": "code",
   "execution_count": 85,
   "id": "2f993aa5",
   "metadata": {},
   "outputs": [
    {
     "name": "stdout",
     "output_type": "stream",
     "text": [
      "(4, 5, ['Python', 'DS', 'ML'])\n",
      "**************************************************\n",
      "Original Object: (4, 5, ['Python', 'DS', 'ML']), 1804379323584\n",
      "Copied object : (4, 5, ['Batman', 'DS', 'ML']), 1804379320896\n"
     ]
    }
   ],
   "source": [
    "import copy\n",
    "\n",
    "tp1 = (4, 5, ['Python', 'DS', 'ML'])\n",
    "tp_nw = copy.deepcopy(tp1)\n",
    "print(tp_nw)\n",
    "print(\"*\"*50)\n",
    "\n",
    "tp_nw[2][0] = \"Batman\"\n",
    "\n",
    "print(f\"Original Object: {tp1}, {id(tp1)}\")     # there's nothing change in original object\n",
    "print(f\"Copied object : {tp_nw}, {id(tp_nw)}\") # changes reflected only in copied object"
   ]
  },
  {
   "cell_type": "code",
   "execution_count": null,
   "id": "a120b72a",
   "metadata": {},
   "outputs": [],
   "source": []
  },
  {
   "cell_type": "markdown",
   "id": "3bfec083",
   "metadata": {},
   "source": [
    "# Nested if-else statement"
   ]
  },
  {
   "cell_type": "code",
   "execution_count": 95,
   "id": "7031e688",
   "metadata": {},
   "outputs": [
    {
     "name": "stdout",
     "output_type": "stream",
     "text": [
      "Enter your age: 17\n",
      "You are under age, You can not vote\n"
     ]
    }
   ],
   "source": [
    "# write a program for voting\n",
    "\n",
    "age = int(input(\"Enter your age: \"))\n",
    "\n",
    "if age >= 18:\n",
    "    user_id = int(input(\"enter your id: \"))\n",
    "    if user_id == 123:\n",
    "        print(\"please make a vote!\")\n",
    "    else:\n",
    "        print(\"Id is incorrect\")\n",
    "else:\n",
    "    print(\"You are under age, You can not vote\")"
   ]
  },
  {
   "cell_type": "code",
   "execution_count": 110,
   "id": "e3b862b2",
   "metadata": {},
   "outputs": [
    {
     "name": "stdout",
     "output_type": "stream",
     "text": [
      "Enter a year: 2024\n",
      "leap year\n"
     ]
    }
   ],
   "source": [
    "# write a program for leap year\n",
    "\n",
    "year = int(input(\"Enter a year: \"))\n",
    "if year % 4 == 0:\n",
    "    \n",
    "    if year % 100 == 0:\n",
    "        \n",
    "        if year % 400 == 0:\n",
    "            print(\"leap year\")\n",
    "            \n",
    "        else:\n",
    "            print(\"not leap year\")\n",
    "    else:\n",
    "        print(\"leap year\")\n",
    "    \n",
    "else:\n",
    "    print(\"not a leap year\")"
   ]
  },
  {
   "cell_type": "code",
   "execution_count": 117,
   "id": "9a38f4bd",
   "metadata": {},
   "outputs": [
    {
     "name": "stdout",
     "output_type": "stream",
     "text": [
      "6 ok\n",
      "perfect starting\n",
      "string has passed all required conditions\n"
     ]
    }
   ],
   "source": [
    "string = \"python\"\n",
    "\n",
    "if len(string) > 5:\n",
    "    print(f\"{len(string)} ok\")\n",
    "    \n",
    "    if string.startswith(\"p\"):\n",
    "        print(\"perfect starting\")\n",
    "        print(\"string has passed all required conditions\")\n",
    "        \n",
    "    else:\n",
    "        print(\"starting is wrong \")\n",
    "        print(\"string has failed all required conditions\")\n",
    "else:\n",
    "    print(\"length is less than 5\")"
   ]
  },
  {
   "cell_type": "code",
   "execution_count": 120,
   "id": "387d6bdd",
   "metadata": {},
   "outputs": [
    {
     "name": "stdout",
     "output_type": "stream",
     "text": [
      "Enter your card: mastercard\n",
      "Enter your password: 123\n",
      "Wrong password!\n"
     ]
    }
   ],
   "source": [
    "# WAP for bank account\n",
    "\n",
    "card = input(\"Enter your card: \")\n",
    "\n",
    "if card == \"mastercard\":\n",
    "    password = int(input(\"Enter your password: \"))\n",
    "    \n",
    "    if password == 123456:\n",
    "        print(\"welcome to the bank\")\n",
    "        \n",
    "    else:\n",
    "        print(\"Wrong password!\")\n",
    "    \n",
    "else:\n",
    "    print(\"your card is wrong!\")\n",
    "    "
   ]
  },
  {
   "cell_type": "code",
   "execution_count": null,
   "id": "b42262af",
   "metadata": {},
   "outputs": [],
   "source": []
  },
  {
   "cell_type": "code",
   "execution_count": null,
   "id": "ee73ef2f",
   "metadata": {},
   "outputs": [],
   "source": []
  }
 ],
 "metadata": {
  "kernelspec": {
   "display_name": "Python 3 (ipykernel)",
   "language": "python",
   "name": "python3"
  },
  "language_info": {
   "codemirror_mode": {
    "name": "ipython",
    "version": 3
   },
   "file_extension": ".py",
   "mimetype": "text/x-python",
   "name": "python",
   "nbconvert_exporter": "python",
   "pygments_lexer": "ipython3",
   "version": "3.9.12"
  }
 },
 "nbformat": 4,
 "nbformat_minor": 5
}
