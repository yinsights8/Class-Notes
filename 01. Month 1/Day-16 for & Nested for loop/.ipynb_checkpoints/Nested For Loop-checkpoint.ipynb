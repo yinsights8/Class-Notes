{
 "cells": [
  {
   "cell_type": "markdown",
   "id": "28e2d459",
   "metadata": {},
   "source": [
    "# Nested For Loop \n",
    "- For loop inside a for loop"
   ]
  },
  {
   "cell_type": "raw",
   "id": "574cf65b",
   "metadata": {},
   "source": [
    "for var_name1 in sequence1:\n",
    "    statement-1\n",
    "    statement-2\n",
    "    statement-3\n",
    "        .\n",
    "        .\n",
    "    statement-n\n",
    "    \n",
    "    for var_name2 in sequence2:\n",
    "        statement-1\n",
    "        statement-2\n",
    "        statement-3\n",
    "            .\n",
    "            .\n",
    "        statement-n\n",
    "        \n",
    "     for var_name3 in sequence3:\n",
    "        statement-1\n",
    "        statement-2\n",
    "        statement-3\n",
    "            .\n",
    "            .\n",
    "        statement-n\n",
    "     "
   ]
  },
  {
   "cell_type": "code",
   "execution_count": 1,
   "id": "452e7f12",
   "metadata": {},
   "outputs": [
    {
     "name": "stdout",
     "output_type": "stream",
     "text": [
      "i --> 0\n",
      "i --> 1\n",
      "i --> 2\n",
      "i --> 3\n",
      "i --> 4\n"
     ]
    }
   ],
   "source": [
    "for i in range(5):\n",
    "    print(f\"i --> {i}\")"
   ]
  },
  {
   "cell_type": "code",
   "execution_count": 2,
   "id": "38383568",
   "metadata": {},
   "outputs": [
    {
     "name": "stdout",
     "output_type": "stream",
     "text": [
      "i --> 0\n",
      "DS\n",
      "DS\n",
      "DS\n",
      "DS\n",
      "DS\n",
      "i --> 1\n",
      "DS\n",
      "DS\n",
      "DS\n",
      "DS\n",
      "DS\n",
      "i --> 2\n",
      "DS\n",
      "DS\n",
      "DS\n",
      "DS\n",
      "DS\n",
      "i --> 3\n",
      "DS\n",
      "DS\n",
      "DS\n",
      "DS\n",
      "DS\n",
      "i --> 4\n",
      "DS\n",
      "DS\n",
      "DS\n",
      "DS\n",
      "DS\n"
     ]
    }
   ],
   "source": [
    "for i in range(5):\n",
    "    print(f\"i --> {i}\")\n",
    "    for j in range(5):\n",
    "        print(f\"DS\")"
   ]
  },
  {
   "cell_type": "code",
   "execution_count": 7,
   "id": "f114fffb",
   "metadata": {},
   "outputs": [
    {
     "name": "stdout",
     "output_type": "stream",
     "text": [
      "Outer Statement i --> 0\n",
      "\n",
      "Inner statement j --> 0\n",
      "Inner statement j --> 1\n",
      "Inner statement j --> 2\n",
      "Inner statement j --> 3\n",
      "Inner statement j --> 4\n",
      "\n",
      "\n",
      "Outer Statement i --> 1\n",
      "\n",
      "Inner statement j --> 0\n",
      "Inner statement j --> 1\n",
      "Inner statement j --> 2\n",
      "Inner statement j --> 3\n",
      "Inner statement j --> 4\n",
      "\n",
      "\n",
      "Outer Statement i --> 2\n",
      "\n",
      "Inner statement j --> 0\n",
      "Inner statement j --> 1\n",
      "Inner statement j --> 2\n",
      "Inner statement j --> 3\n",
      "Inner statement j --> 4\n",
      "\n",
      "\n",
      "Outer Statement i --> 3\n",
      "\n",
      "Inner statement j --> 0\n",
      "Inner statement j --> 1\n",
      "Inner statement j --> 2\n",
      "Inner statement j --> 3\n",
      "Inner statement j --> 4\n",
      "\n",
      "\n",
      "Outer Statement i --> 4\n",
      "\n",
      "Inner statement j --> 0\n",
      "Inner statement j --> 1\n",
      "Inner statement j --> 2\n",
      "Inner statement j --> 3\n",
      "Inner statement j --> 4\n",
      "\n",
      "\n"
     ]
    }
   ],
   "source": [
    "for i in range(5):\n",
    "    print(f\"Outer Statement i --> {i}\")\n",
    "    print()\n",
    "    for j in range(5): # 5 times\n",
    "        print(f\"Inner statement j --> {j}\")\n",
    "    print()\n",
    "    print()"
   ]
  },
  {
   "cell_type": "code",
   "execution_count": 8,
   "id": "4bcffc75",
   "metadata": {},
   "outputs": [
    {
     "name": "stdout",
     "output_type": "stream",
     "text": [
      "Outer Statement i --> 0\n",
      "\n",
      "Inner statement j --> 0\n",
      "Inner statement j --> 1\n",
      "Inner statement j --> 2\n",
      "Inner statement j --> 3\n",
      "Inner statement j --> 4\n",
      "\n",
      "\n",
      "Outer Statement i --> 1\n",
      "\n",
      "Inner statement j --> 0\n",
      "Inner statement j --> 1\n",
      "Inner statement j --> 2\n",
      "Inner statement j --> 3\n",
      "Inner statement j --> 4\n",
      "\n",
      "\n"
     ]
    }
   ],
   "source": [
    "for i in range(2): # 0 and 1\n",
    "    print(f\"Outer Statement i --> {i}\")\n",
    "    print()\n",
    "    for j in range(5): # 5 times\n",
    "        print(f\"Inner statement j --> {j}\")\n",
    "    print()\n",
    "    print()"
   ]
  },
  {
   "cell_type": "code",
   "execution_count": 9,
   "id": "cc92ba43",
   "metadata": {},
   "outputs": [
    {
     "name": "stdout",
     "output_type": "stream",
     "text": [
      "Outer Statement i --> 0\n",
      "\n",
      "Inner statement j --> 0\n",
      "Inner statement j --> 1\n",
      "\n",
      "\n",
      "Outer Statement i --> 1\n",
      "\n",
      "Inner statement j --> 0\n",
      "Inner statement j --> 1\n",
      "\n",
      "\n",
      "Outer Statement i --> 2\n",
      "\n",
      "Inner statement j --> 0\n",
      "Inner statement j --> 1\n",
      "\n",
      "\n",
      "Outer Statement i --> 3\n",
      "\n",
      "Inner statement j --> 0\n",
      "Inner statement j --> 1\n",
      "\n",
      "\n",
      "Outer Statement i --> 4\n",
      "\n",
      "Inner statement j --> 0\n",
      "Inner statement j --> 1\n",
      "\n",
      "\n"
     ]
    }
   ],
   "source": [
    "for i in range(5): # 0, 1, 2, 3, 4\n",
    "    print(f\"Outer Statement i --> {i}\")\n",
    "    print()\n",
    "    for j in range(2): # 2 times\n",
    "        print(f\"Inner statement j --> {j}\")\n",
    "    print()\n",
    "    print()"
   ]
  },
  {
   "cell_type": "code",
   "execution_count": 11,
   "id": "208f489c",
   "metadata": {},
   "outputs": [
    {
     "name": "stdout",
     "output_type": "stream",
     "text": [
      "Outer Statement i --> 0\n",
      "\n",
      "Inner statement 1 === j --> 0\n",
      "Inner statement 1 === j --> 1\n",
      "\n",
      "Inner statement 2 === k --> 0\n",
      "Inner statement 2 === k --> 1\n",
      "\n",
      "\n",
      "Outer Statement i --> 1\n",
      "\n",
      "Inner statement 1 === j --> 0\n",
      "Inner statement 1 === j --> 1\n",
      "\n",
      "Inner statement 2 === k --> 0\n",
      "Inner statement 2 === k --> 1\n",
      "\n",
      "\n",
      "Outer Statement i --> 2\n",
      "\n",
      "Inner statement 1 === j --> 0\n",
      "Inner statement 1 === j --> 1\n",
      "\n",
      "Inner statement 2 === k --> 0\n",
      "Inner statement 2 === k --> 1\n",
      "\n",
      "\n",
      "Outer Statement i --> 3\n",
      "\n",
      "Inner statement 1 === j --> 0\n",
      "Inner statement 1 === j --> 1\n",
      "\n",
      "Inner statement 2 === k --> 0\n",
      "Inner statement 2 === k --> 1\n",
      "\n",
      "\n",
      "Outer Statement i --> 4\n",
      "\n",
      "Inner statement 1 === j --> 0\n",
      "Inner statement 1 === j --> 1\n",
      "\n",
      "Inner statement 2 === k --> 0\n",
      "Inner statement 2 === k --> 1\n",
      "\n",
      "\n"
     ]
    }
   ],
   "source": [
    "for i in range(5): # 0, 1, 2, 3, 4\n",
    "    print(f\"Outer Statement i --> {i}\")\n",
    "    print()\n",
    "    for j in range(2): # 2 times\n",
    "        print(f\"Inner statement 1 === j --> {j}\")\n",
    "    print()\n",
    "    \n",
    "    for k in range(2): # 2 times\n",
    "        print(f\"Inner statement 2 === k --> {k}\")\n",
    "    print()\n",
    "    print()"
   ]
  },
  {
   "cell_type": "code",
   "execution_count": 14,
   "id": "d8c641b1",
   "metadata": {},
   "outputs": [
    {
     "name": "stdout",
     "output_type": "stream",
     "text": [
      "Outer Statement i --> 0\n",
      "Inner statement 1 === j --> 0\n",
      "Inner-Inner statement 1 === k --> 0\n",
      "Inner-Inner statement 1 === k --> 1\n",
      "Inner statement 1 === j --> 1\n",
      "Inner-Inner statement 1 === k --> 0\n",
      "Inner-Inner statement 1 === k --> 1\n",
      "\n",
      "Outer Statement i --> 1\n",
      "Inner statement 1 === j --> 0\n",
      "Inner-Inner statement 1 === k --> 0\n",
      "Inner-Inner statement 1 === k --> 1\n",
      "Inner statement 1 === j --> 1\n",
      "Inner-Inner statement 1 === k --> 0\n",
      "Inner-Inner statement 1 === k --> 1\n",
      "\n",
      "Outer Statement i --> 2\n",
      "Inner statement 1 === j --> 0\n",
      "Inner-Inner statement 1 === k --> 0\n",
      "Inner-Inner statement 1 === k --> 1\n",
      "Inner statement 1 === j --> 1\n",
      "Inner-Inner statement 1 === k --> 0\n",
      "Inner-Inner statement 1 === k --> 1\n",
      "\n",
      "Outer Statement i --> 3\n",
      "Inner statement 1 === j --> 0\n",
      "Inner-Inner statement 1 === k --> 0\n",
      "Inner-Inner statement 1 === k --> 1\n",
      "Inner statement 1 === j --> 1\n",
      "Inner-Inner statement 1 === k --> 0\n",
      "Inner-Inner statement 1 === k --> 1\n",
      "\n",
      "Outer Statement i --> 4\n",
      "Inner statement 1 === j --> 0\n",
      "Inner-Inner statement 1 === k --> 0\n",
      "Inner-Inner statement 1 === k --> 1\n",
      "Inner statement 1 === j --> 1\n",
      "Inner-Inner statement 1 === k --> 0\n",
      "Inner-Inner statement 1 === k --> 1\n",
      "\n"
     ]
    }
   ],
   "source": [
    "for i in range(5): # 0, 1, 2, 3, 4\n",
    "    print(f\"Outer Statement i --> {i}\")\n",
    "    for j in range(2): # 2 times\n",
    "        print(f\"Inner statement 1 === j --> {j}\")\n",
    "        for k in range(2): # 2 times\n",
    "            print(f\"Inner-Inner statement 1 === k --> {k}\")\n",
    "    print()"
   ]
  },
  {
   "cell_type": "code",
   "execution_count": 15,
   "id": "8468ef66",
   "metadata": {},
   "outputs": [
    {
     "name": "stdout",
     "output_type": "stream",
     "text": [
      "10\n",
      "20\n",
      "30\n",
      "40\n",
      "50\n",
      "\n",
      "10\n",
      "20\n",
      "30\n",
      "40\n",
      "50\n",
      "\n",
      "10\n",
      "20\n",
      "30\n",
      "40\n",
      "50\n",
      "\n",
      "10\n",
      "20\n",
      "30\n",
      "40\n",
      "50\n",
      "\n",
      "10\n",
      "20\n",
      "30\n",
      "40\n",
      "50\n",
      "\n"
     ]
    }
   ],
   "source": [
    "for i in range(5):\n",
    "    for j in [10,20,30,40,50]:\n",
    "        print(j)\n",
    "    print()"
   ]
  },
  {
   "cell_type": "code",
   "execution_count": 20,
   "id": "1677cdde",
   "metadata": {},
   "outputs": [
    {
     "name": "stdout",
     "output_type": "stream",
     "text": [
      "P y t h o n \n",
      "P y t h o n \n",
      "P y t h o n \n",
      "P y t h o n \n",
      "P y t h o n \n"
     ]
    }
   ],
   "source": [
    "str1 = \"Python\"\n",
    "for i in range(5):\n",
    "    for j in str1:\n",
    "        print(j,end=' ')\n",
    "    print()"
   ]
  },
  {
   "cell_type": "code",
   "execution_count": 23,
   "id": "6533b39b",
   "metadata": {},
   "outputs": [
    {
     "name": "stdout",
     "output_type": "stream",
     "text": [
      "i ----> 0\n",
      "*\n",
      "*\n",
      "*\n",
      "*\n",
      "*\n",
      "i ----> 1\n",
      "*\n",
      "*\n",
      "*\n",
      "*\n",
      "*\n",
      "i ----> 2\n",
      "*\n",
      "*\n",
      "*\n",
      "*\n",
      "*\n",
      "i ----> 3\n",
      "*\n",
      "*\n",
      "*\n",
      "*\n",
      "*\n",
      "i ----> 4\n",
      "*\n",
      "*\n",
      "*\n",
      "*\n",
      "*\n"
     ]
    }
   ],
   "source": [
    "for i in range(5):\n",
    "    print(\"i ---->\",i)\n",
    "    for j in range(5):\n",
    "        print(\"*\")"
   ]
  },
  {
   "cell_type": "raw",
   "id": "ffa082a3",
   "metadata": {},
   "source": [
    "*********\n",
    "*********\n",
    "*********\n",
    "*********"
   ]
  },
  {
   "cell_type": "code",
   "execution_count": 24,
   "id": "34269965",
   "metadata": {},
   "outputs": [
    {
     "name": "stdout",
     "output_type": "stream",
     "text": [
      "*********\n",
      "*********\n",
      "*********\n",
      "*********\n"
     ]
    }
   ],
   "source": [
    "print(\"*********\")\n",
    "print(\"*********\")\n",
    "print(\"*********\")\n",
    "print(\"*********\")"
   ]
  },
  {
   "cell_type": "code",
   "execution_count": 25,
   "id": "4f2ff842",
   "metadata": {},
   "outputs": [
    {
     "name": "stdout",
     "output_type": "stream",
     "text": [
      "*********\n",
      "*********\n",
      "*********\n",
      "*********\n",
      "*********\n"
     ]
    }
   ],
   "source": [
    "for i in range(5):\n",
    "    print(\"*********\")"
   ]
  },
  {
   "cell_type": "code",
   "execution_count": 26,
   "id": "7a69656b",
   "metadata": {},
   "outputs": [
    {
     "name": "stdout",
     "output_type": "stream",
     "text": [
      "j ---> 0\n",
      "*********\n",
      "*********\n",
      "*********\n",
      "*********\n",
      "*********\n",
      "j ---> 1\n",
      "*********\n",
      "*********\n",
      "*********\n",
      "*********\n",
      "*********\n",
      "j ---> 2\n",
      "*********\n",
      "*********\n",
      "*********\n",
      "*********\n",
      "*********\n",
      "j ---> 3\n",
      "*********\n",
      "*********\n",
      "*********\n",
      "*********\n",
      "*********\n",
      "j ---> 4\n",
      "*********\n",
      "*********\n",
      "*********\n",
      "*********\n",
      "*********\n"
     ]
    }
   ],
   "source": [
    "for j in range(5):\n",
    "    print(\"j --->\",j)\n",
    "    for i in range(5):\n",
    "        print(\"*********\")"
   ]
  },
  {
   "cell_type": "code",
   "execution_count": 27,
   "id": "77d273f9",
   "metadata": {
    "scrolled": false
   },
   "outputs": [
    {
     "name": "stdout",
     "output_type": "stream",
     "text": [
      "*\n",
      "*\n",
      "*\n",
      "*\n",
      "*\n",
      "\n",
      "*\n",
      "*\n",
      "*\n",
      "*\n",
      "*\n",
      "\n",
      "*\n",
      "*\n",
      "*\n",
      "*\n",
      "*\n",
      "\n",
      "*\n",
      "*\n",
      "*\n",
      "*\n",
      "*\n",
      "\n",
      "*\n",
      "*\n",
      "*\n",
      "*\n",
      "*\n",
      "\n"
     ]
    }
   ],
   "source": [
    "for i in range(5):\n",
    "    for j in range(5):\n",
    "        print(\"*\")\n",
    "    print()"
   ]
  },
  {
   "cell_type": "code",
   "execution_count": 30,
   "id": "ccf17af1",
   "metadata": {},
   "outputs": [
    {
     "name": "stdout",
     "output_type": "stream",
     "text": [
      "* * * * * \n",
      "* * * * * \n",
      "* * * * * \n",
      "* * * * * \n",
      "* * * * * \n"
     ]
    }
   ],
   "source": [
    "for i in range(5):\n",
    "    for j in range(5):\n",
    "        print(\"*\",end=' ')\n",
    "    print()"
   ]
  },
  {
   "cell_type": "code",
   "execution_count": 31,
   "id": "383c61cd",
   "metadata": {},
   "outputs": [
    {
     "name": "stdout",
     "output_type": "stream",
     "text": [
      "* * * \n",
      "* * * \n",
      "* * * \n"
     ]
    }
   ],
   "source": [
    "for i in range(3):\n",
    "    for j in range(3):\n",
    "        print(\"*\",end=' ')\n",
    "    print()"
   ]
  },
  {
   "cell_type": "code",
   "execution_count": 32,
   "id": "8b3b54f2",
   "metadata": {},
   "outputs": [
    {
     "name": "stdout",
     "output_type": "stream",
     "text": [
      "* * * * * \n",
      "* * * * * \n",
      "* * * * * \n"
     ]
    }
   ],
   "source": [
    "for i in range(3):\n",
    "    for j in range(5):\n",
    "        print(\"*\",end=' ')\n",
    "    print()"
   ]
  },
  {
   "cell_type": "code",
   "execution_count": 33,
   "id": "a5414ebb",
   "metadata": {},
   "outputs": [
    {
     "name": "stdout",
     "output_type": "stream",
     "text": [
      "* * * \n",
      "* * * \n",
      "* * * \n",
      "* * * \n",
      "* * * \n"
     ]
    }
   ],
   "source": [
    "for i in range(5):\n",
    "    for j in range(3):\n",
    "        print(\"*\",end=' ')\n",
    "    print()"
   ]
  },
  {
   "cell_type": "code",
   "execution_count": 34,
   "id": "0f630df6",
   "metadata": {},
   "outputs": [
    {
     "name": "stdout",
     "output_type": "stream",
     "text": [
      "\n",
      "* \n",
      "* * \n",
      "* * * \n",
      "* * * * \n"
     ]
    }
   ],
   "source": [
    "for i in range(5):\n",
    "    for j in range(i):\n",
    "        print(\"*\",end=' ')\n",
    "    print()"
   ]
  },
  {
   "cell_type": "code",
   "execution_count": 35,
   "id": "8f0b4dc7",
   "metadata": {},
   "outputs": [
    {
     "name": "stdout",
     "output_type": "stream",
     "text": [
      "* \n",
      "* * \n",
      "* * * \n",
      "* * * * \n",
      "* * * * * \n"
     ]
    }
   ],
   "source": [
    "for i in range(1, 6): # i = 3\n",
    "    for j in range(i): # j 0 1 2   \n",
    "        print(\"*\",end=' ')\n",
    "    print()"
   ]
  },
  {
   "cell_type": "code",
   "execution_count": 36,
   "id": "3ec0c586",
   "metadata": {},
   "outputs": [
    {
     "name": "stdout",
     "output_type": "stream",
     "text": [
      "* \n",
      "* * \n",
      "* * * \n",
      "* * * * \n",
      "* * * * * \n",
      "* * * * * * \n",
      "* * * * * * * \n",
      "* * * * * * * * \n",
      "* * * * * * * * * \n"
     ]
    }
   ],
   "source": [
    "for i in range(1, 10):\n",
    "    for j in range(i):\n",
    "        print(\"*\",end=' ')\n",
    "    print()"
   ]
  },
  {
   "cell_type": "code",
   "execution_count": 37,
   "id": "a0e775bc",
   "metadata": {},
   "outputs": [
    {
     "name": "stdout",
     "output_type": "stream",
     "text": [
      " *\n",
      " * *\n",
      " * * *\n",
      " * * * *\n",
      " * * * * *\n"
     ]
    }
   ],
   "source": [
    "for i in range(1, 6): \n",
    "    for j in range(i):\n",
    "        print(\" \",end='*')\n",
    "    print()"
   ]
  },
  {
   "cell_type": "code",
   "execution_count": 38,
   "id": "a12b06db",
   "metadata": {},
   "outputs": [
    {
     "name": "stdout",
     "output_type": "stream",
     "text": [
      "* * * * * * \n",
      "* * * * * \n",
      "* * * * \n",
      "* * * \n",
      "* * \n",
      "* \n"
     ]
    }
   ],
   "source": [
    "for i in range(6,0,-1): # i = 6\n",
    "    for j in range(i): # j = 0,1,2,3,4,5   \n",
    "        print(\"*\",end=' ')\n",
    "    print()"
   ]
  },
  {
   "cell_type": "raw",
   "id": "c6b48636",
   "metadata": {},
   "source": [
    "1 1 1 1 1 \n",
    "1 1 1 1 1 \n",
    "1 1 1 1 1 \n",
    "1 1 1 1 1 \n",
    "1 1 1 1 1 "
   ]
  },
  {
   "cell_type": "code",
   "execution_count": 39,
   "id": "2d3dc60e",
   "metadata": {},
   "outputs": [
    {
     "name": "stdout",
     "output_type": "stream",
     "text": [
      "1 1 1 1 1 \n",
      "1 1 1 1 1 \n",
      "1 1 1 1 1 \n",
      "1 1 1 1 1 \n",
      "1 1 1 1 1 \n"
     ]
    }
   ],
   "source": [
    "for i in range(5):\n",
    "    for j in range(5):\n",
    "        print(\"1\",end=' ')\n",
    "    print()"
   ]
  },
  {
   "cell_type": "code",
   "execution_count": 40,
   "id": "19f5a0f0",
   "metadata": {},
   "outputs": [
    {
     "name": "stdout",
     "output_type": "stream",
     "text": [
      "1 1 1 1 1 \n",
      "1 1 1 1 1 \n",
      "1 1 1 1 1 \n",
      "1 1 1 1 1 \n",
      "1 1 1 1 1 \n"
     ]
    }
   ],
   "source": [
    "num = 1\n",
    "for i in range(5):\n",
    "    for j in range(5):\n",
    "        print(num,end=' ')\n",
    "    print()"
   ]
  },
  {
   "cell_type": "code",
   "execution_count": 41,
   "id": "05b59e92",
   "metadata": {},
   "outputs": [
    {
     "name": "stdout",
     "output_type": "stream",
     "text": [
      "5 5 5 5 5 \n",
      "5 5 5 5 5 \n",
      "5 5 5 5 5 \n",
      "5 5 5 5 5 \n",
      "5 5 5 5 5 \n"
     ]
    }
   ],
   "source": [
    "num = 5\n",
    "for i in range(5):\n",
    "    for j in range(5):\n",
    "        print(num,end=' ')\n",
    "    print()"
   ]
  },
  {
   "cell_type": "code",
   "execution_count": 42,
   "id": "104f9430",
   "metadata": {},
   "outputs": [
    {
     "name": "stdout",
     "output_type": "stream",
     "text": [
      "1 1 1 1 1 \n",
      "2 2 2 2 2 \n",
      "3 3 3 3 3 \n",
      "4 4 4 4 4 \n",
      "5 5 5 5 5 \n"
     ]
    }
   ],
   "source": [
    "for i in range(1,6):\n",
    "    for j in range(1,6):\n",
    "        print(i,end=' ')\n",
    "    print()"
   ]
  },
  {
   "cell_type": "code",
   "execution_count": 43,
   "id": "a97e76ab",
   "metadata": {},
   "outputs": [
    {
     "name": "stdout",
     "output_type": "stream",
     "text": [
      "1 2 3 4 5 \n",
      "1 2 3 4 5 \n",
      "1 2 3 4 5 \n",
      "1 2 3 4 5 \n",
      "1 2 3 4 5 \n"
     ]
    }
   ],
   "source": [
    "for i in range(1,6):\n",
    "    for j in range(1,6):\n",
    "        print(j,end=' ')\n",
    "    print()"
   ]
  },
  {
   "cell_type": "code",
   "execution_count": 44,
   "id": "c2c875cd",
   "metadata": {},
   "outputs": [
    {
     "name": "stdout",
     "output_type": "stream",
     "text": [
      "0 1 2 3 4 5 \n",
      "0 1 2 3 4 5 \n",
      "0 1 2 3 4 5 \n",
      "0 1 2 3 4 5 \n",
      "0 1 2 3 4 5 \n",
      "0 1 2 3 4 5 \n"
     ]
    }
   ],
   "source": [
    "for i in range(6):\n",
    "    for j in range(6):\n",
    "        print(j,end=' ')\n",
    "    print()"
   ]
  },
  {
   "cell_type": "code",
   "execution_count": 45,
   "id": "8a4e5e08",
   "metadata": {},
   "outputs": [
    {
     "name": "stdout",
     "output_type": "stream",
     "text": [
      "0 0 0 0 0 0 \n",
      "1 1 1 1 1 1 \n",
      "2 2 2 2 2 2 \n",
      "3 3 3 3 3 3 \n",
      "4 4 4 4 4 4 \n",
      "5 5 5 5 5 5 \n"
     ]
    }
   ],
   "source": [
    "for i in range(6):\n",
    "    for j in range(6):\n",
    "        print(i,end=' ')\n",
    "    print()"
   ]
  },
  {
   "cell_type": "raw",
   "id": "79cc5609",
   "metadata": {},
   "source": [
    "1 \n",
    "2 2 \n",
    "3 3 3 \n",
    "4 4 4 4 \n",
    "5 5 5 5 5 "
   ]
  },
  {
   "cell_type": "code",
   "execution_count": 46,
   "id": "5b9f781e",
   "metadata": {},
   "outputs": [
    {
     "name": "stdout",
     "output_type": "stream",
     "text": [
      "1 \n",
      "2 2 \n",
      "3 3 3 \n",
      "4 4 4 4 \n",
      "5 5 5 5 5 \n"
     ]
    }
   ],
   "source": [
    "for i in range(1,6):\n",
    "    for j in range(i):\n",
    "        print(i,end=' ')\n",
    "    print()"
   ]
  },
  {
   "cell_type": "raw",
   "id": "34480e36",
   "metadata": {},
   "source": [
    "A A A A A \n",
    "A A A A A \n",
    "A A A A A \n",
    "A A A A A \n",
    "A A A A A"
   ]
  },
  {
   "cell_type": "code",
   "execution_count": 47,
   "id": "ac9d0e78",
   "metadata": {},
   "outputs": [
    {
     "name": "stdout",
     "output_type": "stream",
     "text": [
      "A A A A A \n",
      "A A A A A \n",
      "A A A A A \n",
      "A A A A A \n",
      "A A A A A \n"
     ]
    }
   ],
   "source": [
    "for i in range(1,6):\n",
    "    for j in range(1,6):\n",
    "        print(\"A\",end=' ')\n",
    "    print()"
   ]
  },
  {
   "cell_type": "code",
   "execution_count": 48,
   "id": "65f127d7",
   "metadata": {},
   "outputs": [
    {
     "data": {
      "text/plain": [
       "'A'"
      ]
     },
     "execution_count": 48,
     "metadata": {},
     "output_type": "execute_result"
    }
   ],
   "source": [
    "chr(65)"
   ]
  },
  {
   "cell_type": "code",
   "execution_count": 50,
   "id": "11b83512",
   "metadata": {},
   "outputs": [
    {
     "data": {
      "text/plain": [
       "'Z'"
      ]
     },
     "execution_count": 50,
     "metadata": {},
     "output_type": "execute_result"
    }
   ],
   "source": [
    "chr(66)\n",
    "chr(90)"
   ]
  },
  {
   "cell_type": "code",
   "execution_count": 51,
   "id": "e1d8b0fe",
   "metadata": {},
   "outputs": [
    {
     "data": {
      "text/plain": [
       "'a'"
      ]
     },
     "execution_count": 51,
     "metadata": {},
     "output_type": "execute_result"
    }
   ],
   "source": [
    "chr(97)"
   ]
  },
  {
   "cell_type": "code",
   "execution_count": 52,
   "id": "9a8d5d6e",
   "metadata": {},
   "outputs": [
    {
     "data": {
      "text/plain": [
       "'z'"
      ]
     },
     "execution_count": 52,
     "metadata": {},
     "output_type": "execute_result"
    }
   ],
   "source": [
    "chr(122)"
   ]
  },
  {
   "cell_type": "code",
   "execution_count": 53,
   "id": "b1ac36dd",
   "metadata": {},
   "outputs": [
    {
     "name": "stdout",
     "output_type": "stream",
     "text": [
      "A A A A A \n",
      "A A A A A \n",
      "A A A A A \n",
      "A A A A A \n",
      "A A A A A \n"
     ]
    }
   ],
   "source": [
    "for i in range(1,6):\n",
    "    for j in range(1,6):\n",
    "        print(chr(65),end=' ')\n",
    "    print()"
   ]
  },
  {
   "cell_type": "code",
   "execution_count": 54,
   "id": "d927aaad",
   "metadata": {},
   "outputs": [
    {
     "name": "stdout",
     "output_type": "stream",
     "text": [
      "A A A A A \n",
      "A A A A A \n",
      "A A A A A \n",
      "A A A A A \n",
      "A A A A A \n"
     ]
    }
   ],
   "source": [
    "num = 65\n",
    "for i in range(1,6):\n",
    "    for j in range(1,6):\n",
    "        print(chr(num),end=' ')\n",
    "    print()"
   ]
  },
  {
   "cell_type": "code",
   "execution_count": 55,
   "id": "49fc80f5",
   "metadata": {},
   "outputs": [
    {
     "name": "stdout",
     "output_type": "stream",
     "text": [
      "A A A A A \n",
      "B B B B B \n",
      "C C C C C \n",
      "D D D D D \n",
      "E E E E E \n"
     ]
    }
   ],
   "source": [
    "num = 65\n",
    "for i in range(1,6):\n",
    "    for j in range(1,6):\n",
    "        print(chr(num),end=' ')\n",
    "        \n",
    "    num += 1\n",
    "    print()"
   ]
  },
  {
   "cell_type": "code",
   "execution_count": 56,
   "id": "18491f48",
   "metadata": {},
   "outputs": [
    {
     "name": "stdout",
     "output_type": "stream",
     "text": [
      "A B C D E \n",
      "A B C D E \n",
      "A B C D E \n",
      "A B C D E \n",
      "A B C D E \n"
     ]
    }
   ],
   "source": [
    "num = 65\n",
    "for i in range(1,6):\n",
    "    num = 65\n",
    "    for j in range(1,6):\n",
    "        print(chr(num),end=' ')\n",
    "        \n",
    "        num += 1\n",
    "    print()"
   ]
  },
  {
   "cell_type": "code",
   "execution_count": 57,
   "id": "d64c036d",
   "metadata": {},
   "outputs": [
    {
     "name": "stdout",
     "output_type": "stream",
     "text": [
      "A B C D E \n",
      "F G H I J \n",
      "K L M N O \n",
      "P Q R S T \n",
      "U V W X Y \n"
     ]
    }
   ],
   "source": [
    "num = 65\n",
    "for i in range(1,6):\n",
    "    for j in range(1,6):\n",
    "        print(chr(num),end=' ')\n",
    "        \n",
    "        num += 1\n",
    "    print()"
   ]
  },
  {
   "cell_type": "raw",
   "id": "b1886807",
   "metadata": {},
   "source": [
    "A\n",
    "A B\n",
    "A B C\n",
    "A B C D\n",
    "A B C D E"
   ]
  },
  {
   "cell_type": "code",
   "execution_count": 59,
   "id": "9ea1bf8b",
   "metadata": {},
   "outputs": [
    {
     "name": "stdout",
     "output_type": "stream",
     "text": [
      "A \n",
      "A B \n",
      "A B C \n",
      "A B C D \n",
      "A B C D E \n"
     ]
    }
   ],
   "source": [
    "for i in range(1,6):\n",
    "    num = 65\n",
    "    for j in range(i):\n",
    "        print(chr(num),end=' ')\n",
    "        num += 1\n",
    "    print()"
   ]
  },
  {
   "cell_type": "code",
   "execution_count": 60,
   "id": "fe291701",
   "metadata": {},
   "outputs": [
    {
     "name": "stdout",
     "output_type": "stream",
     "text": [
      "a \n",
      "a b \n",
      "a b c \n",
      "a b c d \n",
      "a b c d e \n"
     ]
    }
   ],
   "source": [
    "for i in range(1,6):\n",
    "    num = 97\n",
    "    for j in range(i):\n",
    "        print(chr(num),end=' ')\n",
    "        num += 1\n",
    "    print()"
   ]
  },
  {
   "cell_type": "code",
   "execution_count": 62,
   "id": "b7185f83",
   "metadata": {},
   "outputs": [
    {
     "name": "stdout",
     "output_type": "stream",
     "text": [
      "a \n",
      "b b \n",
      "c c c \n",
      "d d d d \n",
      "e e e e e \n"
     ]
    }
   ],
   "source": [
    "num = 97\n",
    "for i in range(1,6):\n",
    "    for j in range(i):\n",
    "        print(chr(num),end=' ')\n",
    "    num += 1\n",
    "    print()"
   ]
  },
  {
   "cell_type": "code",
   "execution_count": 63,
   "id": "a8e9a0b9",
   "metadata": {},
   "outputs": [
    {
     "name": "stdout",
     "output_type": "stream",
     "text": [
      "a \n",
      "b c \n",
      "d e f \n",
      "g h i j \n",
      "k l m n o \n"
     ]
    }
   ],
   "source": [
    "num = 97\n",
    "for i in range(1,6):\n",
    "    for j in range(i):\n",
    "        print(chr(num),end=' ')\n",
    "        num += 1\n",
    "    print()"
   ]
  },
  {
   "cell_type": "code",
   "execution_count": 64,
   "id": "d335117b",
   "metadata": {},
   "outputs": [
    {
     "name": "stdout",
     "output_type": "stream",
     "text": [
      "*****   \n"
     ]
    }
   ],
   "source": [
    "print(\"*\"*5 + \" \"*3)"
   ]
  },
  {
   "cell_type": "raw",
   "id": "c72c8e14",
   "metadata": {},
   "source": [
    " * \n",
    " *  * \n",
    " *  *  * \n",
    " *  *  *  * \n",
    " *  *  *  *  *"
   ]
  },
  {
   "cell_type": "code",
   "execution_count": 66,
   "id": "4f43d002",
   "metadata": {},
   "outputs": [
    {
     "name": "stdout",
     "output_type": "stream",
     "text": [
      "*    \n",
      "**   \n",
      "***  \n",
      "**** \n",
      "*****\n"
     ]
    }
   ],
   "source": [
    "n = 5\n",
    "for i in range(1,n+1):\n",
    "    print(\"*\"*i + \" \"*(n-i))"
   ]
  },
  {
   "cell_type": "code",
   "execution_count": 67,
   "id": "4e21d6cf",
   "metadata": {},
   "outputs": [
    {
     "name": "stdout",
     "output_type": "stream",
     "text": [
      "    *\n",
      "   **\n",
      "  ***\n",
      " ****\n",
      "*****\n"
     ]
    }
   ],
   "source": [
    "n = 5\n",
    "for i in range(1,n+1):\n",
    "    print(\" \"*(n-i) + \"*\"*i)"
   ]
  },
  {
   "cell_type": "code",
   "execution_count": 70,
   "id": "59b6db3c",
   "metadata": {},
   "outputs": [
    {
     "name": "stdout",
     "output_type": "stream",
     "text": [
      "     *\n",
      "    * *\n",
      "   * * *\n",
      "  * * * *\n",
      " * * * * *\n"
     ]
    }
   ],
   "source": [
    "n = 5\n",
    "for i in range(1,n+1):\n",
    "    print(\" \"*(n-i) + \" *\"*i)"
   ]
  },
  {
   "cell_type": "code",
   "execution_count": 73,
   "id": "5ed60441",
   "metadata": {},
   "outputs": [
    {
     "name": "stdout",
     "output_type": "stream",
     "text": [
      "     *\n",
      "    * *\n",
      "   * * *\n",
      "  * * * *\n",
      " * * * * *\n",
      "  * * * *\n",
      "   * * *\n",
      "    * *\n",
      "     *\n"
     ]
    }
   ],
   "source": [
    "n = 5\n",
    "for i in range(1,n+1):\n",
    "    print(\" \"*(n-i) + \" *\"*i)\n",
    "\n",
    "for i in range(n-1,0,-1):\n",
    "    print(\" \"*(n-i) + \" *\"*i)"
   ]
  },
  {
   "cell_type": "code",
   "execution_count": 75,
   "id": "b9b2cae1",
   "metadata": {},
   "outputs": [
    {
     "name": "stdout",
     "output_type": "stream",
     "text": [
      "        *\n",
      "      **\n",
      "    ***\n",
      "  ****\n",
      "*****\n",
      "  ****\n",
      "    ***\n",
      "      **\n",
      "        *\n"
     ]
    }
   ],
   "source": [
    "n = 5\n",
    "for i in range(1,n+1):\n",
    "    print(\"  \"*(n-i) + \"*\"*i)\n",
    "\n",
    "for i in range(n-1,0,-1):\n",
    "    print(\"  \"*(n-i) + \"*\"*i)"
   ]
  },
  {
   "cell_type": "code",
   "execution_count": 83,
   "id": "8acb0093",
   "metadata": {},
   "outputs": [
    {
     "name": "stdout",
     "output_type": "stream",
     "text": [
      "    * \n",
      "   * * \n",
      "  * * * \n",
      " * * * * \n",
      "* * * * * \n",
      " * * * * \n",
      "  * * * \n",
      "   * * \n",
      "    * \n"
     ]
    }
   ],
   "source": [
    "n = 5\n",
    "for i in range(1,n+1):\n",
    "    print(\" \"*(n-i) + \"* \"*i)\n",
    "\n",
    "for i in range(n-1,0,-1):\n",
    "    print(\" \"*(n-i) + \"* \"*i)"
   ]
  },
  {
   "cell_type": "code",
   "execution_count": 77,
   "id": "48a3c474",
   "metadata": {},
   "outputs": [
    {
     "name": "stdout",
     "output_type": "stream",
     "text": [
      "* \n",
      "* * \n",
      "* * * \n",
      "* * * * \n",
      "* * * * * \n",
      "* * * * \n",
      "* * * \n",
      "* * \n",
      "* \n"
     ]
    }
   ],
   "source": [
    "n = 5\n",
    "for i in range(1,n+1):\n",
    "    print(\"\"*(n-i) + \"* \"*i)\n",
    "\n",
    "for i in range(n-1,0,-1):\n",
    "    print(\"\"*(n-i) + \"* \"*i)"
   ]
  },
  {
   "cell_type": "code",
   "execution_count": 78,
   "id": "8073a033",
   "metadata": {},
   "outputs": [
    {
     "name": "stdout",
     "output_type": "stream",
     "text": [
      "    * \n",
      "   * * \n",
      "  * * * \n",
      " * * * * \n",
      "* * * * * \n",
      " * * * * \n",
      "  * * * \n",
      "   * * \n",
      "    * \n"
     ]
    }
   ],
   "source": [
    "n = 5\n",
    "for i in range(1,n+1):\n",
    "    print(\" \"*(n-i) + \"* \"*i)\n",
    "\n",
    "for i in range(n-1,0,-1):\n",
    "    print(\" \"*(n-i) + \"* \"*i)"
   ]
  },
  {
   "cell_type": "code",
   "execution_count": 80,
   "id": "bde70354",
   "metadata": {},
   "outputs": [
    {
     "name": "stdout",
     "output_type": "stream",
     "text": [
      "        * \n",
      "      * * \n",
      "    * * * \n",
      "  * * * * \n",
      "* * * * * \n",
      "  * * * * \n",
      "    * * * \n",
      "      * * \n",
      "        * \n"
     ]
    }
   ],
   "source": [
    "n = 5\n",
    "for i in range(1,n+1):\n",
    "    print(\"  \"*(n-i) + \"* \"*i)\n",
    "\n",
    "for i in range(n-1,0,-1):\n",
    "    print(\"  \"*(n-i) + \"* \"*i)"
   ]
  },
  {
   "cell_type": "code",
   "execution_count": 84,
   "id": "9b48df39",
   "metadata": {},
   "outputs": [
    {
     "name": "stdout",
     "output_type": "stream",
     "text": [
      "* \n",
      "* * \n",
      "* * * \n",
      "* * * * \n",
      "* * * * * \n",
      "* * * * \n",
      "* * * \n",
      "* * \n",
      "* \n"
     ]
    }
   ],
   "source": [
    "n = 5\n",
    "for i in range(1,n+1): \n",
    "    for j in range(i):\n",
    "        print('*',end = ' ')\n",
    "    print()\n",
    "for i in range(n-1,0,-1): \n",
    "    for j in range(i):\n",
    "        print('*',end = ' ')\n",
    "    print()"
   ]
  },
  {
   "cell_type": "code",
   "execution_count": null,
   "id": "b91d87a4",
   "metadata": {},
   "outputs": [],
   "source": [
    "1 > 1\n",
    "2 > 3\n",
    "3 > 5\n",
    "4 > 7\n",
    "5 > 9\n",
    "\n",
    "\n",
    "(i*2 - 1)"
   ]
  },
  {
   "cell_type": "code",
   "execution_count": 94,
   "id": "ef4a19cd",
   "metadata": {},
   "outputs": [
    {
     "name": "stdout",
     "output_type": "stream",
     "text": [
      "    *\n",
      "   ***\n",
      "  *****\n",
      " *******\n",
      "*********\n"
     ]
    }
   ],
   "source": [
    "n = 5\n",
    "for i in range(1,n+1):  \n",
    "    print(' ' * (n-i) + \"*\" * (i * 2 - 1))"
   ]
  },
  {
   "cell_type": "code",
   "execution_count": 95,
   "id": "6b5d8bf8",
   "metadata": {},
   "outputs": [
    {
     "name": "stdout",
     "output_type": "stream",
     "text": [
      "        *\n",
      "      ***\n",
      "    *****\n",
      "  *******\n",
      "*********\n"
     ]
    }
   ],
   "source": [
    "n = 5\n",
    "for i in range(1,n+1):  \n",
    "    print('  ' * (n-i) + \"*\" * (i * 2 - 1))"
   ]
  },
  {
   "cell_type": "code",
   "execution_count": 93,
   "id": "699c1c0a",
   "metadata": {},
   "outputs": [
    {
     "name": "stdout",
     "output_type": "stream",
     "text": [
      "*\n",
      "***\n",
      "*****\n",
      "*******\n",
      "*********\n"
     ]
    }
   ],
   "source": [
    "n = 5\n",
    "for i in range(1,n+1):  \n",
    "    print('' * (n-i) + \"*\" * (i * 2 - 1))"
   ]
  },
  {
   "cell_type": "code",
   "execution_count": 96,
   "id": "680f1b5c",
   "metadata": {},
   "outputs": [
    {
     "data": {
      "text/plain": [
       "[1, 2, 3, [11, 22, 33], 5, 6, 7, [111, 222, 333], 232, [223, 323]]"
      ]
     },
     "execution_count": 96,
     "metadata": {},
     "output_type": "execute_result"
    }
   ],
   "source": [
    "li = [1,2,3,[11,22,33],5,6,7,[111,222,333],232,[223,323]]\n",
    "li"
   ]
  },
  {
   "cell_type": "code",
   "execution_count": 97,
   "id": "53d523fd",
   "metadata": {},
   "outputs": [
    {
     "ename": "TypeError",
     "evalue": "'int' object is not iterable",
     "output_type": "error",
     "traceback": [
      "\u001b[1;31m---------------------------------------------------------------------------\u001b[0m",
      "\u001b[1;31mTypeError\u001b[0m                                 Traceback (most recent call last)",
      "Input \u001b[1;32mIn [97]\u001b[0m, in \u001b[0;36m<cell line: 2>\u001b[1;34m()\u001b[0m\n\u001b[0;32m      1\u001b[0m flatten_list \u001b[38;5;241m=\u001b[39m []\n\u001b[0;32m      2\u001b[0m \u001b[38;5;28;01mfor\u001b[39;00m i \u001b[38;5;129;01min\u001b[39;00m li:\n\u001b[1;32m----> 4\u001b[0m     \u001b[38;5;28;01mfor\u001b[39;00m j \u001b[38;5;129;01min\u001b[39;00m i:\n\u001b[0;32m      5\u001b[0m         flatten_list\u001b[38;5;241m.\u001b[39mappend(j)\n",
      "\u001b[1;31mTypeError\u001b[0m: 'int' object is not iterable"
     ]
    }
   ],
   "source": [
    "flatten_list = []\n",
    "for i in li:\n",
    "    \n",
    "    for j in i:\n",
    "        flatten_list.append(j)"
   ]
  },
  {
   "cell_type": "code",
   "execution_count": 100,
   "id": "d5506f5b",
   "metadata": {},
   "outputs": [
    {
     "data": {
      "text/plain": [
       "[1, 2, 3, 11, [22, 33], 5, 6, 7, 111, 222, 333, 232, 223, 323]"
      ]
     },
     "execution_count": 100,
     "metadata": {},
     "output_type": "execute_result"
    }
   ],
   "source": [
    "flatten_list = []\n",
    "li = [1,2,3,[11,[22,33]],5,6,7,[111,222,333],232,[223,323]]\n",
    "for i in li:\n",
    "    if type(i) == int:\n",
    "        flatten_list.append(i)\n",
    "        \n",
    "    else:\n",
    "        for j in i:\n",
    "            flatten_list.append(j)\n",
    "flatten_list"
   ]
  },
  {
   "cell_type": "code",
   "execution_count": 99,
   "id": "d3526591",
   "metadata": {},
   "outputs": [
    {
     "data": {
      "text/plain": [
       "[1, 2, 3, [11, 22, 33], 5, 6, 7, [111, 222, 333], 232, [223, 323]]"
      ]
     },
     "execution_count": 99,
     "metadata": {},
     "output_type": "execute_result"
    }
   ],
   "source": [
    "li"
   ]
  },
  {
   "cell_type": "code",
   "execution_count": null,
   "id": "dd3843bc",
   "metadata": {},
   "outputs": [],
   "source": []
  },
  {
   "cell_type": "code",
   "execution_count": null,
   "id": "4e5f128c",
   "metadata": {},
   "outputs": [],
   "source": []
  }
 ],
 "metadata": {
  "kernelspec": {
   "display_name": "Python 3 (ipykernel)",
   "language": "python",
   "name": "python3"
  },
  "language_info": {
   "codemirror_mode": {
    "name": "ipython",
    "version": 3
   },
   "file_extension": ".py",
   "mimetype": "text/x-python",
   "name": "python",
   "nbconvert_exporter": "python",
   "pygments_lexer": "ipython3",
   "version": "3.10.5"
  }
 },
 "nbformat": 4,
 "nbformat_minor": 5
}
