{
 "cells": [
  {
   "cell_type": "markdown",
   "id": "df2037bf",
   "metadata": {},
   "source": [
    "# Examples\n",
    "### Factorial of Number"
   ]
  },
  {
   "cell_type": "raw",
   "id": "d8fa621b",
   "metadata": {},
   "source": [
    "3! ===> 3 * 2 * 1 = 6\n",
    "4! ===> 4 * 3 * 2 * 1 = 24\n",
    "5! ===> 5 * 4 * 3 * 2 * 1 = 120"
   ]
  },
  {
   "cell_type": "code",
   "execution_count": 6,
   "id": "9f979882",
   "metadata": {},
   "outputs": [
    {
     "name": "stdout",
     "output_type": "stream",
     "text": [
      "At interation number 1 factorial is = 1\n",
      "At interation number 2 factorial is = 2\n",
      "At interation number 3 factorial is = 6\n"
     ]
    },
    {
     "data": {
      "text/plain": [
       "6"
      ]
     },
     "execution_count": 6,
     "metadata": {},
     "output_type": "execute_result"
    }
   ],
   "source": [
    "n = 3\n",
    "factorial = 1\n",
    "for i in range(1, n + 1): # 1,2,3,4=excl\n",
    "    factorial = factorial * i\n",
    "    print(f\"At interation number {i} factorial is = {factorial}\")\n",
    "factorial"
   ]
  },
  {
   "cell_type": "code",
   "execution_count": 7,
   "id": "bd94ac6f",
   "metadata": {},
   "outputs": [
    {
     "name": "stdout",
     "output_type": "stream",
     "text": [
      "At interation number 1 factorial is = 1\n",
      "At interation number 2 factorial is = 2\n",
      "At interation number 3 factorial is = 6\n",
      "At interation number 4 factorial is = 24\n"
     ]
    },
    {
     "data": {
      "text/plain": [
       "24"
      ]
     },
     "execution_count": 7,
     "metadata": {},
     "output_type": "execute_result"
    }
   ],
   "source": [
    "n = 4\n",
    "factorial = 1\n",
    "for i in range(1, n + 1): # 1,2,3,4=excl\n",
    "    factorial = factorial * i\n",
    "    print(f\"At interation number {i} factorial is = {factorial}\")\n",
    "factorial"
   ]
  },
  {
   "cell_type": "code",
   "execution_count": 8,
   "id": "68df0afd",
   "metadata": {},
   "outputs": [
    {
     "name": "stdout",
     "output_type": "stream",
     "text": [
      "At interation number 1 factorial is = 1\n",
      "At interation number 2 factorial is = 2\n",
      "At interation number 3 factorial is = 6\n",
      "At interation number 4 factorial is = 24\n",
      "At interation number 5 factorial is = 120\n"
     ]
    },
    {
     "data": {
      "text/plain": [
       "120"
      ]
     },
     "execution_count": 8,
     "metadata": {},
     "output_type": "execute_result"
    }
   ],
   "source": [
    "n = 5\n",
    "factorial = 1\n",
    "for i in range(1, n + 1): # 1,2,3,4=excl\n",
    "    factorial = factorial * i\n",
    "    print(f\"At interation number {i} factorial is = {factorial}\")\n",
    "factorial"
   ]
  },
  {
   "cell_type": "code",
   "execution_count": 9,
   "id": "d1068f71",
   "metadata": {},
   "outputs": [
    {
     "name": "stdout",
     "output_type": "stream",
     "text": [
      "Factorial of ?7\n",
      "At interation number 1 factorial is = 1\n",
      "At interation number 2 factorial is = 2\n",
      "At interation number 3 factorial is = 6\n",
      "At interation number 4 factorial is = 24\n",
      "At interation number 5 factorial is = 120\n",
      "At interation number 6 factorial is = 720\n",
      "At interation number 7 factorial is = 5040\n"
     ]
    },
    {
     "data": {
      "text/plain": [
       "5040"
      ]
     },
     "execution_count": 9,
     "metadata": {},
     "output_type": "execute_result"
    }
   ],
   "source": [
    "n = int(input(\"Factorial of ?\"))\n",
    "factorial = 1\n",
    "for i in range(1, n + 1): # 1,2,3,4=excl\n",
    "    factorial = factorial * i\n",
    "    print(f\"At interation number {i} factorial is = {factorial}\")\n",
    "factorial"
   ]
  },
  {
   "cell_type": "code",
   "execution_count": 10,
   "id": "fa6dc322",
   "metadata": {},
   "outputs": [
    {
     "name": "stdout",
     "output_type": "stream",
     "text": [
      "Factorial of ?7\n",
      "At interation number 1 factorial is = 1\n",
      "At interation number 2 factorial is = 2\n",
      "At interation number 3 factorial is = 6\n",
      "At interation number 4 factorial is = 24\n",
      "At interation number 5 factorial is = 120\n",
      "At interation number 6 factorial is = 720\n",
      "At interation number 7 factorial is = 5040\n",
      "Tha factorial of 7 == 5040\n"
     ]
    }
   ],
   "source": [
    "n = int(input(\"Factorial of ?\"))\n",
    "factorial = 1\n",
    "for i in range(1, n + 1): # 1,2,3,4=excl\n",
    "    factorial = factorial * i\n",
    "    print(f\"At interation number {i} factorial is = {factorial}\")\n",
    "print(f\"Tha factorial of {n} == {factorial}\")"
   ]
  },
  {
   "cell_type": "code",
   "execution_count": 14,
   "id": "d98137ec",
   "metadata": {},
   "outputs": [
    {
     "name": "stdout",
     "output_type": "stream",
     "text": [
      "Factorial of ?0\n",
      "Tha factorial of 0 == 1\n"
     ]
    }
   ],
   "source": [
    "n = int(input(\"Factorial of ?\"))\n",
    "factorial = 1\n",
    "for i in range(1, n + 1): \n",
    "    factorial = factorial * i\n",
    "    print(f\"At interation number {i} factorial is = {factorial}\")\n",
    "print(f\"Tha factorial of {n} == {factorial}\")"
   ]
  },
  {
   "cell_type": "code",
   "execution_count": 21,
   "id": "9a06fe73",
   "metadata": {},
   "outputs": [
    {
     "name": "stdout",
     "output_type": "stream",
     "text": [
      "Factorial of ?-6\n",
      "Factorial does not exist\n"
     ]
    }
   ],
   "source": [
    "n = int(input(\"Factorial of ?\"))\n",
    "factorial = 1\n",
    " \n",
    "if n < 0:\n",
    "    print(f\"Factorial does not exist\")\n",
    "else:\n",
    "    for i in range(1, n + 1): \n",
    "        factorial = factorial * i\n",
    "    print(f\"Tha factorial of {n} ==> {factorial}\")"
   ]
  },
  {
   "cell_type": "code",
   "execution_count": 23,
   "id": "dd93ed86",
   "metadata": {},
   "outputs": [
    {
     "name": "stdout",
     "output_type": "stream",
     "text": [
      "Factorial of ?5\n",
      "Tha factorial of 5 ==> 120\n"
     ]
    }
   ],
   "source": [
    "n = int(input(\"Factorial of ?\"))\n",
    "factorial = 1\n",
    " \n",
    "if n < 0:\n",
    "    print(f\"Factorial does not exist\")\n",
    "else:\n",
    "    for i in range(1, n + 1): \n",
    "        factorial = factorial * i\n",
    "    print(f\"Tha factorial of {n} ==> {factorial}\")"
   ]
  },
  {
   "cell_type": "markdown",
   "id": "1392b03e",
   "metadata": {},
   "source": [
    "### Fibonacci Series"
   ]
  },
  {
   "cell_type": "raw",
   "id": "0b10fad9",
   "metadata": {},
   "source": [
    "n = 5\n",
    "0 1 1 2 3\n",
    "f s n\n",
    "s n\n",
    "n = 8\n",
    "0 1 1 2 3 5 8 13\n",
    "\n",
    "n = 10\n",
    "0 1 1 2 3 5 8 13 21 34"
   ]
  },
  {
   "cell_type": "code",
   "execution_count": 24,
   "id": "bc2202ce",
   "metadata": {},
   "outputs": [
    {
     "name": "stdout",
     "output_type": "stream",
     "text": [
      "0\n",
      "1\n",
      "1\n",
      "2\n",
      "3\n"
     ]
    }
   ],
   "source": [
    "n = 5\n",
    "first = 0\n",
    "second = 1\n",
    "print(first)\n",
    "print(second)\n",
    "for i in range(2,n):\n",
    "    new = first + second \n",
    "    first = second\n",
    "    second = new\n",
    "    print(new)"
   ]
  },
  {
   "cell_type": "code",
   "execution_count": 25,
   "id": "83364115",
   "metadata": {},
   "outputs": [
    {
     "name": "stdout",
     "output_type": "stream",
     "text": [
      "0\n",
      "1\n",
      "1\n",
      "2\n",
      "3\n",
      "5\n",
      "8\n",
      "13\n"
     ]
    }
   ],
   "source": [
    "n = 8\n",
    "first = 0\n",
    "second = 1\n",
    "print(first)\n",
    "print(second)\n",
    "for i in range(2,n):\n",
    "    new = first + second \n",
    "    first = second\n",
    "    second = new\n",
    "    print(new)"
   ]
  },
  {
   "cell_type": "code",
   "execution_count": 35,
   "id": "578c40ac",
   "metadata": {},
   "outputs": [
    {
     "name": "stdout",
     "output_type": "stream",
     "text": [
      "Python\n",
      "DS\n",
      "Python-DS\n",
      "Python+DS\n"
     ]
    }
   ],
   "source": [
    "print(\"Python\",end=\"\\n\")\n",
    "print(\"DS\")\n",
    "print(\"Python\",end=\"-\")\n",
    "print(\"DS\")\n",
    "print(\"Python\",end=\"+\")\n",
    "print(\"DS\")"
   ]
  },
  {
   "cell_type": "code",
   "execution_count": 27,
   "id": "995b789c",
   "metadata": {},
   "outputs": [
    {
     "name": "stdout",
     "output_type": "stream",
     "text": [
      "Python DS\n"
     ]
    }
   ],
   "source": [
    "print(\"Python\",end=\" \")\n",
    "print(\"DS\")"
   ]
  },
  {
   "cell_type": "code",
   "execution_count": 30,
   "id": "31cc215b",
   "metadata": {},
   "outputs": [
    {
     "name": "stdout",
     "output_type": "stream",
     "text": [
      "The fibonacci series for 8 =  0 1 1 2 3 5 8 13 "
     ]
    }
   ],
   "source": [
    "n = 8\n",
    "first = 0\n",
    "second = 1\n",
    "print(f\"The fibonacci series for {n} = \",end=' ')\n",
    "print(first,end=' ')\n",
    "print(second,end = \" \")\n",
    "for i in range(2,n):\n",
    "    new = first + second \n",
    "    first = second\n",
    "    second = new\n",
    "    print(new,end=' ')"
   ]
  },
  {
   "cell_type": "code",
   "execution_count": null,
   "id": "0a4c7e1c",
   "metadata": {},
   "outputs": [],
   "source": []
  }
 ],
 "metadata": {
  "kernelspec": {
   "display_name": "Python 3 (ipykernel)",
   "language": "python",
   "name": "python3"
  },
  "language_info": {
   "codemirror_mode": {
    "name": "ipython",
    "version": 3
   },
   "file_extension": ".py",
   "mimetype": "text/x-python",
   "name": "python",
   "nbconvert_exporter": "python",
   "pygments_lexer": "ipython3",
   "version": "3.10.5"
  }
 },
 "nbformat": 4,
 "nbformat_minor": 5
}
