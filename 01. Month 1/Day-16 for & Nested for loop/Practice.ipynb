{
 "cells": [
  {
   "cell_type": "markdown",
   "id": "21e0ffeb",
   "metadata": {},
   "source": [
    "# factorial of a number"
   ]
  },
  {
   "cell_type": "raw",
   "id": "ec433578",
   "metadata": {},
   "source": [
    "5! = ?"
   ]
  },
  {
   "cell_type": "code",
   "execution_count": 1,
   "id": "e2d35580",
   "metadata": {},
   "outputs": [
    {
     "data": {
      "text/plain": [
       "120"
      ]
     },
     "execution_count": 1,
     "metadata": {},
     "output_type": "execute_result"
    }
   ],
   "source": [
    "def factorial(num):\n",
    "    if num == 1:\n",
    "        return 1\n",
    "    else:\n",
    "        return (num * factorial(num - 1)) ## by calling function inside of a function is called recursion \n",
    "    \n",
    "factorial(5)"
   ]
  },
  {
   "cell_type": "code",
   "execution_count": 4,
   "id": "0a43fc0e",
   "metadata": {},
   "outputs": [
    {
     "data": {
      "text/plain": [
       "120"
      ]
     },
     "execution_count": 4,
     "metadata": {},
     "output_type": "execute_result"
    }
   ],
   "source": [
    "def factorial(x):\n",
    "    \"\"\"This is a recursive function\n",
    "    to find the factorial of an integer\"\"\"\n",
    "\n",
    "    if x == 1:\n",
    "        return 1\n",
    "    else:\n",
    "        # recursive call to the function\n",
    "        return (x * factorial(x-1))\n",
    "factorial(5)"
   ]
  },
  {
   "cell_type": "code",
   "execution_count": 14,
   "id": "0a52f003",
   "metadata": {},
   "outputs": [
    {
     "name": "stdout",
     "output_type": "stream",
     "text": [
      "720\n"
     ]
    }
   ],
   "source": [
    "item = 6\n",
    "\n",
    "factorial = 1\n",
    "for i in range(1, item + 1):\n",
    "    factorial *= i  # factorial = factorial + i\n",
    "    \n",
    "print(factorial)"
   ]
  },
  {
   "cell_type": "code",
   "execution_count": 12,
   "id": "86b018da",
   "metadata": {},
   "outputs": [
    {
     "name": "stdout",
     "output_type": "stream",
     "text": [
      "10.5\n"
     ]
    }
   ],
   "source": [
    "# item = 2.5\n",
    "\n",
    "factorial = 1\n",
    "for i in [1.2, 2.5, 3.5]:\n",
    "    factorial *= i\n",
    "    \n",
    "print(factorial)"
   ]
  },
  {
   "cell_type": "raw",
   "id": "cb52dca8",
   "metadata": {},
   "source": [
    "0        = 0\n",
    "1        = 1 \n",
    "0 + 1    = 1\n",
    "1 +1     = 2\n",
    "1+2      = 3\n",
    "2+3      = 5\n",
    "\n",
    "5 + 3    = 8"
   ]
  },
  {
   "cell_type": "markdown",
   "id": "45326136",
   "metadata": {},
   "source": [
    "# fibonachi series"
   ]
  },
  {
   "cell_type": "code",
   "execution_count": 32,
   "id": "8ba671fa",
   "metadata": {},
   "outputs": [
    {
     "name": "stdout",
     "output_type": "stream",
     "text": [
      "0 1 1 2 3 5 8 13 21 34 55 89 144 233 377 610 "
     ]
    }
   ],
   "source": [
    "n = 15\n",
    "\n",
    "first = 0\n",
    "second = 1\n",
    "print(first,end=\" \")\n",
    "print(second,end=\" \")\n",
    "\n",
    "for i in range(2, n + 1):\n",
    "    new = first + second\n",
    "    first = second\n",
    "    second = new\n",
    "    \n",
    "    print(new,end=\" \")"
   ]
  },
  {
   "cell_type": "code",
   "execution_count": 33,
   "id": "b0e3f71c",
   "metadata": {},
   "outputs": [
    {
     "name": "stdout",
     "output_type": "stream",
     "text": [
      "0\n",
      "1\n",
      "2\n",
      "3\n",
      "4\n"
     ]
    }
   ],
   "source": [
    "for i in range(5):\n",
    "    print(i)"
   ]
  },
  {
   "cell_type": "code",
   "execution_count": 41,
   "id": "9989b909",
   "metadata": {},
   "outputs": [
    {
     "name": "stdout",
     "output_type": "stream",
     "text": [
      "0 \n",
      "0 0 \n",
      "1 0 \n",
      "2 0 \n",
      "3 0 \n",
      "4 1 \n",
      "0 1 \n",
      "1 1 \n",
      "2 1 \n",
      "3 1 \n",
      "4 2 \n",
      "0 2 \n",
      "1 2 \n",
      "2 2 \n",
      "3 2 \n",
      "4 3 \n",
      "0 3 \n",
      "1 3 \n",
      "2 3 \n",
      "3 3 \n",
      "4 4 \n",
      "0 4 \n",
      "1 4 \n",
      "2 4 \n",
      "3 4 \n",
      "4 "
     ]
    }
   ],
   "source": [
    "for i in range(5): # 0,1,2,3,4\n",
    "    \n",
    "    for j in range(5): # 0,1,2,3,4\n",
    "        print(i,end=\" \")\n",
    "        print(j,end=\" \")"
   ]
  },
  {
   "cell_type": "code",
   "execution_count": 46,
   "id": "2f67343c",
   "metadata": {},
   "outputs": [
    {
     "name": "stdout",
     "output_type": "stream",
     "text": [
      "red apple\n",
      "red banana\n",
      "red cherry\n",
      "\n",
      "big apple\n",
      "big banana\n",
      "big cherry\n",
      "\n",
      "tasty apple\n",
      "tasty banana\n",
      "tasty cherry\n",
      "\n"
     ]
    }
   ],
   "source": [
    "adj = [\"red\", \"big\", \"tasty\"]\n",
    "fruits = [\"apple\", \"banana\", \"cherry\"]\n",
    "\n",
    "for x in adj:\n",
    "    for y in fruits: \n",
    "        print(x, y)\n",
    "    \n",
    "    print()"
   ]
  },
  {
   "cell_type": "code",
   "execution_count": 50,
   "id": "11adbfd7",
   "metadata": {},
   "outputs": [
    {
     "name": "stdout",
     "output_type": "stream",
     "text": [
      "0 0\n",
      "0 1\n",
      "1 0\n",
      "1 1\n",
      "2 0\n",
      "2 1\n",
      "3 0\n",
      "3 1\n",
      "4 0\n",
      "4 1\n"
     ]
    }
   ],
   "source": [
    "for i in range(5): # 0,1,2,3,4\n",
    "    for j in range(2): # 0,1\n",
    "        print(i,j)"
   ]
  },
  {
   "cell_type": "code",
   "execution_count": 52,
   "id": "6817898c",
   "metadata": {},
   "outputs": [
    {
     "name": "stdout",
     "output_type": "stream",
     "text": [
      "0 0\n",
      "0 1\n",
      "0 2\n",
      "0 3\n",
      "0 4\n",
      "1 0\n",
      "1 1\n",
      "1 2\n",
      "1 3\n",
      "1 4\n"
     ]
    }
   ],
   "source": [
    "for i in range(2): # 0,1\n",
    "    for j in range(5): # 0,1,2,3,4\n",
    "        print(i,j)"
   ]
  },
  {
   "cell_type": "code",
   "execution_count": 53,
   "id": "16c51d65",
   "metadata": {},
   "outputs": [
    {
     "name": "stdout",
     "output_type": "stream",
     "text": [
      "0 0 0\n",
      "0 0 1\n",
      "0 0 2\n",
      "0 1 0\n",
      "0 1 1\n",
      "0 1 2\n",
      "1 0 0\n",
      "1 0 1\n",
      "1 0 2\n",
      "1 1 0\n",
      "1 1 1\n",
      "1 1 2\n",
      "2 0 0\n",
      "2 0 1\n",
      "2 0 2\n",
      "2 1 0\n",
      "2 1 1\n",
      "2 1 2\n",
      "3 0 0\n",
      "3 0 1\n",
      "3 0 2\n",
      "3 1 0\n",
      "3 1 1\n",
      "3 1 2\n"
     ]
    }
   ],
   "source": [
    "for i in range(4):         # 0, 1, 2, 3\n",
    "    for j in range(2):     # 0, 1\n",
    "        for k in range(3): # 0, 1, 2\n",
    "            print(i,j,k)"
   ]
  },
  {
   "cell_type": "code",
   "execution_count": 2,
   "id": "4963cda7",
   "metadata": {},
   "outputs": [],
   "source": [
    "# i          i  j  k   i  j  k   i  j  k\n",
    "# i = 0 ==== 0, 0, 0 - 0, 0, 1 - 0, 0, 2 \n",
    "# j = 1 ==== 0, 1, 0 - 0, 1, 1 - 0, 1, 2       \n",
    "\n",
    "# i = 1 ==== 1, 0, 0 - 1, 0, 1 - 1, 0, 2 \n",
    "# j = 1      1, 1, 0 - 1, 1, 1 - 1, 1, 2\n",
    "\n",
    "# i = 2 ==== 2, 0, 0   2, 0, 1 - 2, 0, 2\n",
    "# j = 1 ==== 2, 1 ,0   2, 1, 1 - 2, 1, 2\n",
    "\n",
    "# i = 3 ==== 3, 0, 0   3, 0, 1   3, 0, 2\n",
    "# j = 1 ==== 3, 1, 0   3, 1, 1   3, 1, 2"
   ]
  },
  {
   "cell_type": "code",
   "execution_count": null,
   "id": "b1b1f91b",
   "metadata": {},
   "outputs": [],
   "source": []
  },
  {
   "cell_type": "code",
   "execution_count": 3,
   "id": "320c069e",
   "metadata": {},
   "outputs": [
    {
     "name": "stdout",
     "output_type": "stream",
     "text": [
      "0 0\n",
      "0 1\n",
      "0 2\n",
      "1 0\n",
      "1 1\n",
      "1 2\n",
      "2 0\n",
      "2 1\n",
      "2 2\n",
      "3 0\n",
      "3 1\n",
      "3 2\n"
     ]
    }
   ],
   "source": [
    "for i in range(4):       # 0, 1, 2, 3\n",
    "    for j in range(3):   # 0, 1, 2\n",
    "        print(i,j)"
   ]
  },
  {
   "cell_type": "code",
   "execution_count": null,
   "id": "8e93b50a",
   "metadata": {},
   "outputs": [],
   "source": [
    "#          i     j\n",
    "# i = 0,   0     0\n",
    "#          0,    1\n",
    "#          0,    2\n",
    "\n",
    "\n",
    "# i = 1    1     0\n",
    "#          1     1\n",
    "#          1     2\n",
    "\n",
    "\n",
    "# i = 2    2,    0\n",
    "#          2,    1\n",
    "#          2,    2\n",
    "\n",
    "# i = 3    3,    0\n",
    "#          3,    1\n",
    "#          3,    2"
   ]
  }
 ],
 "metadata": {
  "kernelspec": {
   "display_name": "Python 3 (ipykernel)",
   "language": "python",
   "name": "python3"
  },
  "language_info": {
   "codemirror_mode": {
    "name": "ipython",
    "version": 3
   },
   "file_extension": ".py",
   "mimetype": "text/x-python",
   "name": "python",
   "nbconvert_exporter": "python",
   "pygments_lexer": "ipython3",
   "version": "3.9.12"
  }
 },
 "nbformat": 4,
 "nbformat_minor": 5
}
