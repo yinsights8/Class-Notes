{
 "cells": [
  {
   "cell_type": "markdown",
   "id": "ae540ef6",
   "metadata": {
    "id": "ae540ef6"
   },
   "source": [
    "# VIF"
   ]
  },
  {
   "cell_type": "raw",
   "id": "d96d8fed",
   "metadata": {
    "id": "d96d8fed"
   },
   "source": [
    "Variance Inflation Factor : Variance inflation factor is used to detect the presence of Multicolinearityin the data."
   ]
  },
  {
   "cell_type": "markdown",
   "id": "b15f31a0",
   "metadata": {
    "id": "b15f31a0"
   },
   "source": [
    "# Advantages of Linear Regression"
   ]
  },
  {
   "cell_type": "raw",
   "id": "80ca1fd0",
   "metadata": {
    "id": "80ca1fd0"
   },
   "source": [
    "1. Linear Regression model perform well on linearly seperable data.\n",
    "2. Linear Regression model is Easy to implement and easy to interpret\n",
    "3. When LR model will get overfitted then we can reduce the overfitting by using L1 and L2 Regularization"
   ]
  },
  {
   "cell_type": "markdown",
   "id": "aa2ae206",
   "metadata": {
    "id": "aa2ae206"
   },
   "source": [
    "# Disadvantages of Linear Regression"
   ]
  },
  {
   "cell_type": "raw",
   "id": "a4ecfffd",
   "metadata": {
    "id": "a4ecfffd"
   },
   "source": [
    "1. We are having assumptions on the Data in Linear Regression.\n",
    "2. Linearity\n",
    "3. Independence\n",
    "4. Linear Regression is sensitive to the Outliers"
   ]
  }
 ],
 "metadata": {
  "colab": {
   "provenance": []
  },
  "kernelspec": {
   "display_name": "Python 3 (ipykernel)",
   "language": "python",
   "name": "python3"
  },
  "language_info": {
   "codemirror_mode": {
    "name": "ipython",
    "version": 3
   },
   "file_extension": ".py",
   "mimetype": "text/x-python",
   "name": "python",
   "nbconvert_exporter": "python",
   "pygments_lexer": "ipython3",
   "version": "3.9.12"
  }
 },
 "nbformat": 4,
 "nbformat_minor": 5
}
