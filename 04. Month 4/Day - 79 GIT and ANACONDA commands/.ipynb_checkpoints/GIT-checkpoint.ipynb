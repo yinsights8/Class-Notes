{
 "cells": [
  {
   "cell_type": "markdown",
   "id": "a81e73e1",
   "metadata": {},
   "source": [
    "# Git"
   ]
  },
  {
   "cell_type": "code",
   "execution_count": null,
   "id": "dd792059",
   "metadata": {},
   "outputs": [],
   "source": [
    "1. GitHub\n",
    "2. Gitlab\n",
    "3. BitBucket"
   ]
  },
  {
   "cell_type": "code",
   "execution_count": null,
   "id": "b889b4b4",
   "metadata": {},
   "outputs": [],
   "source": [
    "# We can enter in to the folder by using this command : cd folder_name"
   ]
  },
  {
   "cell_type": "markdown",
   "id": "852d5861",
   "metadata": {},
   "source": [
    "# 1. Clone"
   ]
  },
  {
   "cell_type": "code",
   "execution_count": null,
   "id": "7c6af429",
   "metadata": {},
   "outputs": [],
   "source": [
    "git clone url\n",
    "\n",
    "git clone https://github.com/akashnawle/price_prediction.git"
   ]
  },
  {
   "cell_type": "markdown",
   "id": "339d7ea6",
   "metadata": {},
   "source": [
    "# 2. Check Status of your project"
   ]
  },
  {
   "cell_type": "code",
   "execution_count": null,
   "id": "3cc6b4fd",
   "metadata": {},
   "outputs": [],
   "source": [
    "git status"
   ]
  },
  {
   "cell_type": "markdown",
   "id": "77f0e71b",
   "metadata": {},
   "source": [
    "# 3. Add Files "
   ]
  },
  {
   "cell_type": "code",
   "execution_count": null,
   "id": "850a83c3",
   "metadata": {},
   "outputs": [],
   "source": [
    "git add file_name\n",
    "git add .\n",
    "git add --all"
   ]
  },
  {
   "cell_type": "markdown",
   "id": "4fdd41ff",
   "metadata": {},
   "source": [
    "# 4. Commit your changes"
   ]
  },
  {
   "cell_type": "code",
   "execution_count": null,
   "id": "dfe77ce5",
   "metadata": {},
   "outputs": [],
   "source": [
    "git commit -m 'User Message'"
   ]
  },
  {
   "cell_type": "markdown",
   "id": "30c0ed4b",
   "metadata": {},
   "source": [
    "# 5. Push"
   ]
  },
  {
   "cell_type": "code",
   "execution_count": null,
   "id": "7de1d9f3",
   "metadata": {},
   "outputs": [],
   "source": [
    "git push"
   ]
  },
  {
   "cell_type": "markdown",
   "id": "5fac743a",
   "metadata": {},
   "source": [
    "# 6. Create New Branches"
   ]
  },
  {
   "cell_type": "code",
   "execution_count": null,
   "id": "7771a952",
   "metadata": {},
   "outputs": [],
   "source": [
    "git checkout -b branch_name\n",
    "\n",
    "git checkout -b testing\n",
    "git checkout -b management"
   ]
  },
  {
   "cell_type": "markdown",
   "id": "aab1351e",
   "metadata": {},
   "source": [
    "# 7. Switch Branch"
   ]
  },
  {
   "cell_type": "code",
   "execution_count": null,
   "id": "4b3fff17",
   "metadata": {},
   "outputs": [],
   "source": [
    "git checkout branch_name"
   ]
  },
  {
   "cell_type": "markdown",
   "id": "678e00d2",
   "metadata": {},
   "source": [
    "# 8. Check branch Name"
   ]
  },
  {
   "cell_type": "code",
   "execution_count": null,
   "id": "ff4615e3",
   "metadata": {},
   "outputs": [],
   "source": [
    "git branch"
   ]
  },
  {
   "cell_type": "markdown",
   "id": "1c916924",
   "metadata": {},
   "source": [
    "# 9. Pull Repo"
   ]
  },
  {
   "cell_type": "code",
   "execution_count": null,
   "id": "38495340",
   "metadata": {},
   "outputs": [],
   "source": [
    "git pull\n",
    "\n",
    "git pull origin branch_name"
   ]
  },
  {
   "cell_type": "markdown",
   "id": "8d7d3bcd",
   "metadata": {},
   "source": [
    "# 10. Git Merge"
   ]
  },
  {
   "cell_type": "code",
   "execution_count": null,
   "id": "c35eba84",
   "metadata": {},
   "outputs": [],
   "source": []
  },
  {
   "cell_type": "code",
   "execution_count": null,
   "id": "71492a83",
   "metadata": {},
   "outputs": [],
   "source": []
  },
  {
   "cell_type": "raw",
   "id": "fbe34ffd",
   "metadata": {},
   "source": [
    "add\n",
    "commit\n",
    "push"
   ]
  }
 ],
 "metadata": {
  "kernelspec": {
   "display_name": "Python 3 (ipykernel)",
   "language": "python",
   "name": "python3"
  },
  "language_info": {
   "codemirror_mode": {
    "name": "ipython",
    "version": 3
   },
   "file_extension": ".py",
   "mimetype": "text/x-python",
   "name": "python",
   "nbconvert_exporter": "python",
   "pygments_lexer": "ipython3",
   "version": "3.9.12"
  }
 },
 "nbformat": 4,
 "nbformat_minor": 5
}
