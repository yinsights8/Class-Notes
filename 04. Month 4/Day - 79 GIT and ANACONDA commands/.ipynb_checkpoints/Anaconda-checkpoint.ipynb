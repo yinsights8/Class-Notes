{
 "cells": [
  {
   "cell_type": "markdown",
   "id": "49ba475f",
   "metadata": {},
   "source": [
    "# Anaconda"
   ]
  },
  {
   "cell_type": "markdown",
   "id": "eb005581",
   "metadata": {},
   "source": [
    "# 1. Create New Conda env"
   ]
  },
  {
   "cell_type": "code",
   "execution_count": null,
   "id": "67ccfadc",
   "metadata": {},
   "outputs": [],
   "source": [
    "conda create -n price_prediction\n",
    "conda create -n price_prediction python = 3.8"
   ]
  },
  {
   "cell_type": "markdown",
   "id": "a53e34cc",
   "metadata": {},
   "source": [
    "# 2. Activate Conda Env"
   ]
  },
  {
   "cell_type": "code",
   "execution_count": null,
   "id": "ad14be8a",
   "metadata": {},
   "outputs": [],
   "source": [
    "conda activate env_name\n",
    "conda activate price_prediction"
   ]
  },
  {
   "cell_type": "markdown",
   "id": "8c994d97",
   "metadata": {},
   "source": [
    "# 3. Deactivate"
   ]
  },
  {
   "cell_type": "code",
   "execution_count": null,
   "id": "a13edb03",
   "metadata": {},
   "outputs": [],
   "source": [
    "conda deactivate"
   ]
  },
  {
   "cell_type": "markdown",
   "id": "cbb58bf9",
   "metadata": {},
   "source": [
    "# 4. Install Libraries in env for project"
   ]
  },
  {
   "cell_type": "code",
   "execution_count": null,
   "id": "2c647b80",
   "metadata": {},
   "outputs": [],
   "source": [
    "conda install library_name\n",
    "\n",
    "conda install -c anaconda pandas\n",
    "conda install -c anaconda flask\n",
    "\n",
    "conda install flask\n",
    "conda install pandas"
   ]
  },
  {
   "cell_type": "markdown",
   "id": "d6096c3c",
   "metadata": {},
   "source": [
    "# 5. Check env list"
   ]
  },
  {
   "cell_type": "code",
   "execution_count": null,
   "id": "80bed63c",
   "metadata": {},
   "outputs": [],
   "source": [
    "conda env list"
   ]
  },
  {
   "cell_type": "markdown",
   "id": "d4643c1d",
   "metadata": {},
   "source": [
    "# 6. Delete conda env"
   ]
  },
  {
   "cell_type": "code",
   "execution_count": null,
   "id": "05b9df1f",
   "metadata": {},
   "outputs": [],
   "source": [
    "conda env remove -n env_name"
   ]
  },
  {
   "cell_type": "markdown",
   "id": "abf190bb",
   "metadata": {},
   "source": [
    "# 7. Check installed pkg"
   ]
  },
  {
   "cell_type": "code",
   "execution_count": null,
   "id": "b0b11163",
   "metadata": {},
   "outputs": [],
   "source": [
    "conda list"
   ]
  }
 ],
 "metadata": {
  "kernelspec": {
   "display_name": "Python 3 (ipykernel)",
   "language": "python",
   "name": "python3"
  },
  "language_info": {
   "codemirror_mode": {
    "name": "ipython",
    "version": 3
   },
   "file_extension": ".py",
   "mimetype": "text/x-python",
   "name": "python",
   "nbconvert_exporter": "python",
   "pygments_lexer": "ipython3",
   "version": "3.9.12"
  }
 },
 "nbformat": 4,
 "nbformat_minor": 5
}
