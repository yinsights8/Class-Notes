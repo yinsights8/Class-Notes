{
 "cells": [
  {
   "cell_type": "markdown",
   "id": "816def94",
   "metadata": {},
   "source": [
    "# Logistic Regression"
   ]
  },
  {
   "cell_type": "code",
   "execution_count": 1,
   "id": "3363cc37",
   "metadata": {},
   "outputs": [],
   "source": [
    "import numpy as np"
   ]
  },
  {
   "cell_type": "markdown",
   "id": "f49c8279",
   "metadata": {},
   "source": [
    "# Case 1"
   ]
  },
  {
   "cell_type": "code",
   "execution_count": 2,
   "id": "b12e19c3",
   "metadata": {},
   "outputs": [
    {
     "data": {
      "text/plain": [
       "0.10536051565782628"
      ]
     },
     "execution_count": 2,
     "metadata": {},
     "output_type": "execute_result"
    }
   ],
   "source": [
    "Ya = 1\n",
    "P = 0.9\n",
    "\n",
    "-np.log(0.9)   # Correctly Classified Data Point"
   ]
  },
  {
   "cell_type": "markdown",
   "id": "c075a095",
   "metadata": {},
   "source": [
    "# Case 2"
   ]
  },
  {
   "cell_type": "code",
   "execution_count": 3,
   "id": "bc6142f9",
   "metadata": {},
   "outputs": [
    {
     "data": {
      "text/plain": [
       "1.6094379124341003"
      ]
     },
     "execution_count": 3,
     "metadata": {},
     "output_type": "execute_result"
    }
   ],
   "source": [
    "Ya = 1\n",
    "P = 0.2\n",
    "\n",
    "-np.log(0.2)  #MisClassified Data Point"
   ]
  },
  {
   "cell_type": "markdown",
   "id": "caeaa529",
   "metadata": {},
   "source": [
    "# Case 3"
   ]
  },
  {
   "cell_type": "code",
   "execution_count": 4,
   "id": "8e6bcabf",
   "metadata": {},
   "outputs": [
    {
     "data": {
      "text/plain": [
       "0.10536051565782628"
      ]
     },
     "execution_count": 4,
     "metadata": {},
     "output_type": "execute_result"
    }
   ],
   "source": [
    "Ya = 0\n",
    "P = 0.1\n",
    "\n",
    "-np.log(0.9)  #Correctly Classified Data Point"
   ]
  },
  {
   "cell_type": "markdown",
   "id": "204f8c0d",
   "metadata": {},
   "source": [
    "# Case 4"
   ]
  },
  {
   "cell_type": "code",
   "execution_count": 5,
   "id": "5f8819c6",
   "metadata": {},
   "outputs": [
    {
     "data": {
      "text/plain": [
       "1.6094379124341003"
      ]
     },
     "execution_count": 5,
     "metadata": {},
     "output_type": "execute_result"
    }
   ],
   "source": [
    "Ya = 0\n",
    "P = 0.8\n",
    "\n",
    "-np.log(0.2)  #MisClassified Data Point"
   ]
  },
  {
   "cell_type": "raw",
   "id": "f129a786",
   "metadata": {},
   "source": [
    "1. We always get the low value of LogLoss Function on COrrectly Classified Data Points\n",
    "2. We always get the High value of LOgLoass function on Misclassified data Points"
   ]
  },
  {
   "cell_type": "code",
   "execution_count": 6,
   "id": "7c412ede",
   "metadata": {},
   "outputs": [
    {
     "data": {
      "text/plain": [
       "0.857"
      ]
     },
     "execution_count": 6,
     "metadata": {},
     "output_type": "execute_result"
    }
   ],
   "source": [
    "LL = 0.105 + 1.609 + 0.105 + 1.609\n",
    "\n",
    "LL/4"
   ]
  },
  {
   "cell_type": "code",
   "execution_count": null,
   "id": "f7985326",
   "metadata": {},
   "outputs": [],
   "source": [
    "# 2 Data Points are correctly Classified and 2 Data Points are Misclassified\n",
    "# 2/4 >> Correctly Classified and 2/4 >> Misclassified "
   ]
  },
  {
   "cell_type": "code",
   "execution_count": 7,
   "id": "169fac7a",
   "metadata": {},
   "outputs": [
    {
     "data": {
      "text/plain": [
       "0.4058"
      ]
     },
     "execution_count": 7,
     "metadata": {},
     "output_type": "execute_result"
    }
   ],
   "source": [
    "LL = 0.105 + 1.609 + 0.105 + 1.609 + 6 * 0.105\n",
    "\n",
    "LL/10"
   ]
  },
  {
   "cell_type": "code",
   "execution_count": null,
   "id": "f989fab5",
   "metadata": {},
   "outputs": [],
   "source": []
  }
 ],
 "metadata": {
  "kernelspec": {
   "display_name": "Python 3",
   "language": "python",
   "name": "python3"
  },
  "language_info": {
   "codemirror_mode": {
    "name": "ipython",
    "version": 3
   },
   "file_extension": ".py",
   "mimetype": "text/x-python",
   "name": "python",
   "nbconvert_exporter": "python",
   "pygments_lexer": "ipython3",
   "version": "3.8.8"
  }
 },
 "nbformat": 4,
 "nbformat_minor": 5
}
