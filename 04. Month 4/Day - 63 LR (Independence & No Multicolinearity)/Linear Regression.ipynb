{
 "cells": [
  {
   "cell_type": "markdown",
   "id": "77bedbba",
   "metadata": {},
   "source": [
    "# Assumptions"
   ]
  },
  {
   "cell_type": "raw",
   "id": "426af75c",
   "metadata": {},
   "source": [
    "Independence :\n",
    "    Input variables should not be dependent to each others\n",
    "    \n",
    "    \n",
    "No Multicolinearity :\n",
    "    Input variables should not be highly correlated to each other"
   ]
  },
  {
   "cell_type": "markdown",
   "id": "04c37aeb",
   "metadata": {},
   "source": [
    "# Cost Function"
   ]
  },
  {
   "cell_type": "raw",
   "id": "9d83d43a",
   "metadata": {},
   "source": [
    "MSE = Mean Squared Error\n",
    "\n",
    "MSE = sum(Ya - Yp)^2/N\n",
    "\n",
    "N == Number of Samples"
   ]
  },
  {
   "cell_type": "code",
   "execution_count": null,
   "id": "737d2ccc",
   "metadata": {},
   "outputs": [],
   "source": [
    "Ya = 10\n",
    "Yp = 15\n",
    "\n",
    "Ya = 12\n",
    "Yp = 18\n",
    "\n",
    "\n",
    "MSE = sum(Ya - Yp)^2/N\n",
    "\n",
    "    = (25 + 36)/2\n",
    "    \n",
    "    = 30.5"
   ]
  },
  {
   "cell_type": "code",
   "execution_count": 1,
   "id": "279ae649",
   "metadata": {},
   "outputs": [
    {
     "data": {
      "text/plain": [
       "30.5"
      ]
     },
     "execution_count": 1,
     "metadata": {},
     "output_type": "execute_result"
    }
   ],
   "source": [
    "(25 + 36)/2"
   ]
  },
  {
   "cell_type": "code",
   "execution_count": null,
   "id": "827f6af6",
   "metadata": {},
   "outputs": [],
   "source": [
    "Ya = 14\n",
    "Yp = 10\n",
    "\n",
    "Ya = 18\n",
    "Yp = 12\n",
    "\n",
    "\n",
    "MSE = sum(Ya - Yp)^2/N\n",
    "\n",
    "    = (16 + 36)/2\n",
    "    \n",
    "    = 26.0"
   ]
  },
  {
   "cell_type": "code",
   "execution_count": 2,
   "id": "efdc431e",
   "metadata": {},
   "outputs": [
    {
     "data": {
      "text/plain": [
       "26.0"
      ]
     },
     "execution_count": 2,
     "metadata": {},
     "output_type": "execute_result"
    }
   ],
   "source": [
    "(16 + 36)/2"
   ]
  },
  {
   "cell_type": "markdown",
   "id": "53e23326",
   "metadata": {},
   "source": [
    "# Gradient Descent Algorithm"
   ]
  },
  {
   "cell_type": "code",
   "execution_count": null,
   "id": "44f1f03d",
   "metadata": {},
   "outputs": [],
   "source": [
    "1. It is used to reduce the cost function or mean squared error\n",
    "2. It will help us to get the best M and C value\n",
    "3. Gradient Descent algorithm do work on Partial Derivates.\n",
    "4. Whenever we will get the partial derivates with respect to M, In that case we can get the value \n",
    "   of M and along with that, we can get the value of C for doing the partial derivates with respect to\n",
    "   C.\n",
    "\n",
    "M  >> PD wrt to M\n",
    "C  >> PD wrt to C"
   ]
  }
 ],
 "metadata": {
  "kernelspec": {
   "display_name": "Python 3 (ipykernel)",
   "language": "python",
   "name": "python3"
  },
  "language_info": {
   "codemirror_mode": {
    "name": "ipython",
    "version": 3
   },
   "file_extension": ".py",
   "mimetype": "text/x-python",
   "name": "python",
   "nbconvert_exporter": "python",
   "pygments_lexer": "ipython3",
   "version": "3.9.12"
  }
 },
 "nbformat": 4,
 "nbformat_minor": 5
}
