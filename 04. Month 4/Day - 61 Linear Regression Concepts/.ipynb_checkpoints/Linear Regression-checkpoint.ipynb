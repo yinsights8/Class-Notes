{
 "cells": [
  {
   "cell_type": "markdown",
   "id": "d1a92e7d",
   "metadata": {},
   "source": [
    "# Assumptions in the Linear Regression"
   ]
  },
  {
   "cell_type": "raw",
   "id": "352cbad5",
   "metadata": {},
   "source": [
    "1. Linearity\n",
    "2. Independence\n",
    "3. No Multicolinearity\n",
    "4. Normality\n",
    "5. HomoScedasticity"
   ]
  },
  {
   "cell_type": "code",
   "execution_count": null,
   "id": "cb04fd36",
   "metadata": {},
   "outputs": [],
   "source": [
    "CGPA    GATE Score\n",
    "\n",
    "7.7        500\n",
    "7.9        530\n",
    "9.0        760\n",
    "9.6        810\n",
    "9.3        600\n",
    "8.7        650\n",
    "6.0        400  \n",
    "5.5        450\n",
    "8.5        550\n",
    "8.3        650\n",
    "9.0        770"
   ]
  }
 ],
 "metadata": {
  "kernelspec": {
   "display_name": "Python 3 (ipykernel)",
   "language": "python",
   "name": "python3"
  },
  "language_info": {
   "codemirror_mode": {
    "name": "ipython",
    "version": 3
   },
   "file_extension": ".py",
   "mimetype": "text/x-python",
   "name": "python",
   "nbconvert_exporter": "python",
   "pygments_lexer": "ipython3",
   "version": "3.9.12"
  }
 },
 "nbformat": 4,
 "nbformat_minor": 5
}
