{
 "cells": [
  {
   "cell_type": "markdown",
   "id": "81dc3f07",
   "metadata": {},
   "source": [
    "# Model Evaluation"
   ]
  },
  {
   "cell_type": "markdown",
   "id": "a3e25012",
   "metadata": {},
   "source": [
    "# 1. Confusion Matrix"
   ]
  },
  {
   "cell_type": "raw",
   "id": "ba691d16",
   "metadata": {},
   "source": [
    "TP >> True Positive\n",
    "FN >> False Negative -----> Type II error\n",
    "TN >> True Negative\n",
    "FP >> False Positive ------> Type I Error"
   ]
  },
  {
   "cell_type": "markdown",
   "id": "496008c6",
   "metadata": {},
   "source": [
    "# TPR "
   ]
  },
  {
   "cell_type": "raw",
   "id": "c501ce64",
   "metadata": {},
   "source": [
    "True Positive Rate\n",
    "\n",
    "TPR == Sensitivity == Recall\n",
    "\n",
    "TPR = TP / (TP + FN)\n",
    "\n",
    "Proportion of positive class got correctly classified by the classifier"
   ]
  },
  {
   "cell_type": "markdown",
   "id": "efb23584",
   "metadata": {},
   "source": [
    "# FNR"
   ]
  },
  {
   "cell_type": "raw",
   "id": "2017ca2a",
   "metadata": {},
   "source": [
    "False Negative Rate\n",
    "\n",
    "FNR = FN / (FN + TP)\n",
    "\n",
    "Proportion of positive class got incorrectly classified by the classifier"
   ]
  },
  {
   "cell_type": "markdown",
   "id": "20ac7c61",
   "metadata": {},
   "source": [
    "# TNR"
   ]
  },
  {
   "cell_type": "raw",
   "id": "2249aae5",
   "metadata": {},
   "source": [
    "True Negative Rate\n",
    "\n",
    "TNR = TN / (TN + FP)\n",
    "\n",
    "Proportion of negative class got correctly classified by the classifier"
   ]
  },
  {
   "cell_type": "markdown",
   "id": "e307d3c4",
   "metadata": {},
   "source": [
    "# FPR"
   ]
  },
  {
   "cell_type": "raw",
   "id": "855978d5",
   "metadata": {},
   "source": [
    "False Positive Rate\n",
    "\n",
    "FPR = FP / (FP + TN)\n",
    "\n",
    "Proportion of negative class got incorrectly classified by the classifier"
   ]
  },
  {
   "cell_type": "raw",
   "id": "b61c60c6",
   "metadata": {},
   "source": [
    "Higher TPR and Lower FNR\n",
    "Higher TNR and Lower FPR"
   ]
  },
  {
   "cell_type": "markdown",
   "id": "54142f66",
   "metadata": {},
   "source": [
    "# 2. Classification Report"
   ]
  },
  {
   "cell_type": "code",
   "execution_count": 1,
   "id": "32f60d6d",
   "metadata": {},
   "outputs": [],
   "source": [
    "# Precision\n",
    "# Recall\n",
    "# F1 Score"
   ]
  },
  {
   "cell_type": "markdown",
   "id": "7873fd94",
   "metadata": {},
   "source": [
    "### 2.1 Precision"
   ]
  },
  {
   "cell_type": "raw",
   "id": "02da7c84",
   "metadata": {},
   "source": [
    "Precision = TP / (TP + FP)\n",
    "\n",
    "Out of Total predicted positive (1) values or results, How many values are actual positive\n",
    "\n",
    "Precision == 1 >> Good Precision Value\n",
    "\n",
    "Spam Filter :\n",
    "    Email is spam or not spam:\n",
    "        If mail is important and somehow it is going to the spam folder istead of coming it into the\n",
    "        inbox. through which user might miss the important data or information. For avoiding this      kind of practices we need to work on the false positive rate. Through which we can reduce the chances\n",
    "of miss storage of email which we might recieve in the future."
   ]
  },
  {
   "cell_type": "markdown",
   "id": "1d43bf2c",
   "metadata": {},
   "source": [
    "### 2.2 Recall"
   ]
  },
  {
   "cell_type": "raw",
   "id": "7ba7a3c1",
   "metadata": {},
   "source": [
    "Recall = TP / (TP + FN)\n",
    "\n",
    "Out of total actual positive results, How many are positive predicted results\n",
    "\n",
    "Medical >> Cancer \n",
    "\n",
    "Yes or No  >> Here we can consider multiple parameters in this case\n",
    "\n",
    "Positive or Negative:\n",
    "    \n",
    "    if person is having cancer and model has predicted that, The person is not having cancer  >> High \n",
    "    risk.\n",
    "    In this case we need to focus on the False Negative. SO when we can reduce the FN then we are     able to get the right prediction from the model in terms of the Cancer."
   ]
  },
  {
   "cell_type": "code",
   "execution_count": 2,
   "id": "790782cc",
   "metadata": {},
   "outputs": [
    {
     "data": {
      "text/plain": [
       "0.8333333333333334"
      ]
     },
     "execution_count": 2,
     "metadata": {},
     "output_type": "execute_result"
    }
   ],
   "source": [
    "25 / (25 + 5)"
   ]
  },
  {
   "cell_type": "code",
   "execution_count": 3,
   "id": "0ec09dde",
   "metadata": {},
   "outputs": [
    {
     "data": {
      "text/plain": [
       "0.9333333333333333"
      ]
     },
     "execution_count": 3,
     "metadata": {},
     "output_type": "execute_result"
    }
   ],
   "source": [
    "28 / (28 + 2)"
   ]
  },
  {
   "cell_type": "raw",
   "id": "7cf67f2a",
   "metadata": {},
   "source": [
    "In Precision and Recall we always try to reduce the error rates that is False Positive and False Negative  (Precision >> FP, Recall >> FN)"
   ]
  },
  {
   "cell_type": "markdown",
   "id": "63830bc9",
   "metadata": {},
   "source": [
    "### 2.3 F1-Score"
   ]
  },
  {
   "cell_type": "raw",
   "id": "fd7ac9e3",
   "metadata": {},
   "source": [
    "When FP and FN both are important then in that case we do consider F1-Score\n",
    "\n",
    "FB-Score = (1 + B^2) * Precision * Recall/(B^2 * Precision + Recall)\n",
    "\n",
    "When Beta = 1:\n",
    "    \n",
    "    F1-Score = 2 * Precision * Recall / (Precision + Recall)\n",
    "    \n",
    "    \n",
    "When Beta = 1, Then we do focus on the FP and FN\n",
    "When Beta = 0.5, Then  we do focus on FP\n",
    "When Beta = 2 , Then we do focus on FN"
   ]
  }
 ],
 "metadata": {
  "kernelspec": {
   "display_name": "Python 3 (ipykernel)",
   "language": "python",
   "name": "python3"
  },
  "language_info": {
   "codemirror_mode": {
    "name": "ipython",
    "version": 3
   },
   "file_extension": ".py",
   "mimetype": "text/x-python",
   "name": "python",
   "nbconvert_exporter": "python",
   "pygments_lexer": "ipython3",
   "version": "3.9.12"
  }
 },
 "nbformat": 4,
 "nbformat_minor": 5
}
