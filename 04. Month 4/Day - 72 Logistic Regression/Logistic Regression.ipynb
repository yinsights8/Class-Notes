{
 "cells": [
  {
   "cell_type": "markdown",
   "id": "38ec0302",
   "metadata": {},
   "source": [
    "# Logistic Regression"
   ]
  },
  {
   "cell_type": "raw",
   "id": "e6dfc52b",
   "metadata": {},
   "source": [
    "1. Target Variable will be in  categorical or Discrete\n",
    "\n",
    "True / False\n",
    "Approved / Declined\n",
    "Yes / No\n",
    "0 / 1"
   ]
  },
  {
   "cell_type": "raw",
   "id": "bce6fc34",
   "metadata": {},
   "source": [
    "1. It is Supervised Machine Learning Algorithm, That is used to predict probabilities of target Variable\n",
    "2. Logistic Regression is a Probabilistic Algorithm\n",
    "3. Logistic Regression is a Linear Model \n",
    "4. Logistic Regression uses linear Model in the backend so named as Logistic Regression (Instead of\n",
    "       Classification)\n",
    "       \n",
    "5. In Logistic Regression we do use LogLOss Function as a Cost Function"
   ]
  },
  {
   "cell_type": "raw",
   "id": "7152bd9e",
   "metadata": {},
   "source": [
    "1. We are using linear Regression line in the Linear Regression Algorithm, Whereas we are using \n",
    "Sigmoid Function or Curve here in the Logistic Regression.\n",
    "\n",
    "Y = MX + C\n",
    "\n",
    "\n",
    "Types of Logistic Regression:\n",
    "    \n",
    "    1. Binary Classification (2 Values in Target Variable)\n",
    "    2. Multiclass CLassification (3 or More ) (We are having more than two values in the Target)"
   ]
  }
 ],
 "metadata": {
  "kernelspec": {
   "display_name": "Python 3 (ipykernel)",
   "language": "python",
   "name": "python3"
  },
  "language_info": {
   "codemirror_mode": {
    "name": "ipython",
    "version": 3
   },
   "file_extension": ".py",
   "mimetype": "text/x-python",
   "name": "python",
   "nbconvert_exporter": "python",
   "pygments_lexer": "ipython3",
   "version": "3.9.12"
  }
 },
 "nbformat": 4,
 "nbformat_minor": 5
}
