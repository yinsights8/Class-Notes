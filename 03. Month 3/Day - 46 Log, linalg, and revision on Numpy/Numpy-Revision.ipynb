{
 "cells": [
  {
   "cell_type": "markdown",
   "id": "a55a3d67",
   "metadata": {},
   "source": [
    "# Numpy-Revision\n",
    "- 1. np.array()\n",
    "- 2. array.ndim\n",
    "- 3. array.shape\n",
    "- 4. array.reshape()\n",
    "- 5. array.copy()\n",
    "- 6. np.nditer()\n",
    "- 7. np.ndenumerate()\n",
    "- 8. np.zeros()\n",
    "- 9. np.ones()\n",
    "- 10. np.arange()\n",
    "- 11. np.linspace()\n",
    "- 12. np.eye()\n",
    "- 13. np.identity()\n",
    "- 14. np.random\n",
    "    - 1. np.random.rand()\n",
    "    - 2. np.random.randint()\n",
    "    - 3. np.random.randn()\n",
    "    - 4. np.random.ranf()\n",
    "- 15. np.sort()\n",
    "- 16. np.where()\n",
    "- 17. np.full()"
   ]
  },
  {
   "cell_type": "markdown",
   "id": "73a7735a",
   "metadata": {},
   "source": [
    "# Join Arrays\n",
    "- 1. np.append()\n",
    "- 2. np.concatenate()\n"
   ]
  },
  {
   "cell_type": "markdown",
   "id": "fc266662",
   "metadata": {},
   "source": [
    "# Numerical Operations\n",
    "- 1. np.ceil()\n",
    "- 2. np.floor()\n",
    "- 3. np.around()\n",
    "- 4. np.add()\n",
    "- 5. np.multiply()\n",
    "- 6. np.dot()\n",
    "- 7. np.sqrt()\n",
    "- 8. np.cbrt()\n",
    "- 9. np.sum()"
   ]
  },
  {
   "cell_type": "markdown",
   "id": "ce9f59bd",
   "metadata": {},
   "source": [
    "# Statistics\n",
    "- 1. np.mean()\n",
    "- 2. np.median()\n",
    "- 3. from scipy import stats\n",
    "    - stats.mode(array)\n",
    "- 4. np.std()\n",
    "- 5. np.min()\n",
    "- 6. np.max()"
   ]
  },
  {
   "cell_type": "markdown",
   "id": "35db8bf9",
   "metadata": {},
   "source": [
    "# Trigonometry\n",
    "- 1. np.sin()\n",
    "- 2. np.cos()\n",
    "- 3. np.tan()\n",
    "- 4. np.deg2rad()\n",
    "- 5. np.rad2deg()\n",
    "- 6. np.pi"
   ]
  },
  {
   "cell_type": "markdown",
   "id": "17ae4bd4",
   "metadata": {},
   "source": [
    "# Log\n",
    "- 1. np.log()\n",
    "- 2. np.log2()\n",
    "- 3. np.log10()"
   ]
  },
  {
   "cell_type": "markdown",
   "id": "de7a24d7",
   "metadata": {},
   "source": [
    "# Linear Algebra\n",
    "- 1. np.linalg.solve()\n",
    "- 2. np.linalg.inv()"
   ]
  },
  {
   "cell_type": "code",
   "execution_count": null,
   "id": "219c864f",
   "metadata": {},
   "outputs": [],
   "source": []
  },
  {
   "cell_type": "code",
   "execution_count": 17,
   "id": "3d982747",
   "metadata": {},
   "outputs": [
    {
     "name": "stdout",
     "output_type": "stream",
     "text": [
      "[[ 6  8]\n",
      " [10 12]]\n",
      "10\n",
      "With axis 0:  [[1 2]\n",
      " [3 4]\n",
      " [5 6]\n",
      " [7 8]]\n",
      "\n",
      "With axis 1: [[1 2 5 6]\n",
      " [3 4 7 8]]\n"
     ]
    }
   ],
   "source": [
    "import numpy as np\n",
    "a = np.array([[1,2],[3,4]])\n",
    "b = np.array([[5,6],[7,8]])\n",
    "print(np.add(a,b))\n",
    "print(a.sum())\n",
    "\n",
    "A = np.concatenate((a,b),axis=0)\n",
    "print(\"With axis 0: \",A)\n",
    "print()\n",
    "B = np.concatenate((a,b),axis=1)\n",
    "print(\"With axis 1:\",B)"
   ]
  },
  {
   "cell_type": "code",
   "execution_count": null,
   "id": "11c89829",
   "metadata": {},
   "outputs": [],
   "source": []
  },
  {
   "cell_type": "code",
   "execution_count": null,
   "id": "b3074567",
   "metadata": {},
   "outputs": [],
   "source": []
  }
 ],
 "metadata": {
  "kernelspec": {
   "display_name": "Python 3 (ipykernel)",
   "language": "python",
   "name": "python3"
  },
  "language_info": {
   "codemirror_mode": {
    "name": "ipython",
    "version": 3
   },
   "file_extension": ".py",
   "mimetype": "text/x-python",
   "name": "python",
   "nbconvert_exporter": "python",
   "pygments_lexer": "ipython3",
   "version": "3.9.12"
  }
 },
 "nbformat": 4,
 "nbformat_minor": 5
}
