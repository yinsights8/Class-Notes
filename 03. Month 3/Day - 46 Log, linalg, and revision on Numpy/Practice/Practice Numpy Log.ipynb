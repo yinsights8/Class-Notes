{
 "cells": [
  {
   "cell_type": "code",
   "execution_count": 1,
   "id": "2e4cc999",
   "metadata": {},
   "outputs": [],
   "source": [
    "import numpy as np"
   ]
  },
  {
   "cell_type": "code",
   "execution_count": 4,
   "id": "370676bc",
   "metadata": {},
   "outputs": [],
   "source": [
    "# dir(np)"
   ]
  },
  {
   "cell_type": "code",
   "execution_count": 22,
   "id": "551bb80c",
   "metadata": {},
   "outputs": [
    {
     "data": {
      "text/plain": [
       "1.6094379124341003"
      ]
     },
     "execution_count": 22,
     "metadata": {},
     "output_type": "execute_result"
    }
   ],
   "source": [
    "log = np.log(5)\n",
    "log"
   ]
  },
  {
   "cell_type": "code",
   "execution_count": 21,
   "id": "2425879b",
   "metadata": {},
   "outputs": [
    {
     "data": {
      "text/plain": [
       "0.6989700043360189"
      ]
     },
     "execution_count": 21,
     "metadata": {},
     "output_type": "execute_result"
    }
   ],
   "source": [
    "np.log10(5)"
   ]
  },
  {
   "cell_type": "code",
   "execution_count": 20,
   "id": "f926628b",
   "metadata": {},
   "outputs": [
    {
     "data": {
      "text/plain": [
       "2.321928094887362"
      ]
     },
     "execution_count": 20,
     "metadata": {},
     "output_type": "execute_result"
    }
   ],
   "source": [
    "np.log2(5)"
   ]
  },
  {
   "cell_type": "code",
   "execution_count": 23,
   "id": "6e38302d",
   "metadata": {},
   "outputs": [
    {
     "data": {
      "text/plain": [
       "1.791759469228055"
      ]
     },
     "execution_count": 23,
     "metadata": {},
     "output_type": "execute_result"
    }
   ],
   "source": [
    "np.log1p(5)"
   ]
  },
  {
   "cell_type": "code",
   "execution_count": 24,
   "id": "bb236fad",
   "metadata": {},
   "outputs": [
    {
     "data": {
      "text/plain": [
       "array([0.        , 1.        , 1.5849625 , 2.        , 2.32192809,\n",
       "       2.5849625 ])"
      ]
     },
     "execution_count": 24,
     "metadata": {},
     "output_type": "execute_result"
    }
   ],
   "source": [
    "ar = np.array([1,2,3,4,5,6])\n",
    "np.log2(ar)"
   ]
  },
  {
   "cell_type": "code",
   "execution_count": 25,
   "id": "9e600fb8",
   "metadata": {},
   "outputs": [
    {
     "data": {
      "text/plain": [
       "array([0.        , 0.30103   , 0.47712125, 0.60205999, 0.69897   ,\n",
       "       0.77815125])"
      ]
     },
     "execution_count": 25,
     "metadata": {},
     "output_type": "execute_result"
    }
   ],
   "source": [
    "ar = np.array([1,2,3,4,5,6])\n",
    "np.log10(ar)"
   ]
  },
  {
   "cell_type": "code",
   "execution_count": 32,
   "id": "45236537",
   "metadata": {},
   "outputs": [
    {
     "data": {
      "text/plain": [
       "array([0.        , 0.69314718, 1.09861229, 1.38629436, 1.60943791,\n",
       "       1.79175947])"
      ]
     },
     "execution_count": 32,
     "metadata": {},
     "output_type": "execute_result"
    }
   ],
   "source": [
    "ar = np.array([1,2,3,4,5,6])\n",
    "np.log(ar)"
   ]
  },
  {
   "cell_type": "code",
   "execution_count": 33,
   "id": "b4e54ac6",
   "metadata": {},
   "outputs": [
    {
     "name": "stderr",
     "output_type": "stream",
     "text": [
      "C:\\Users\\yashd\\AppData\\Local\\Temp\\ipykernel_16592\\2933082444.py:1: RuntimeWarning: divide by zero encountered in log\n",
      "  np.log(0)\n"
     ]
    },
    {
     "data": {
      "text/plain": [
       "-inf"
      ]
     },
     "execution_count": 33,
     "metadata": {},
     "output_type": "execute_result"
    }
   ],
   "source": [
    "np.log(0)"
   ]
  },
  {
   "cell_type": "code",
   "execution_count": 36,
   "id": "92a382ed",
   "metadata": {},
   "outputs": [
    {
     "data": {
      "text/plain": [
       "-0.1469036647664041"
      ]
     },
     "execution_count": 36,
     "metadata": {},
     "output_type": "execute_result"
    }
   ],
   "source": [
    "np.tan(np.log(20))"
   ]
  },
  {
   "cell_type": "code",
   "execution_count": 40,
   "id": "1c5c255d",
   "metadata": {},
   "outputs": [
    {
     "data": {
      "text/plain": [
       "4.63305249133717"
      ]
     },
     "execution_count": 40,
     "metadata": {},
     "output_type": "execute_result"
    }
   ],
   "source": [
    "np.tan(np.log(90))"
   ]
  },
  {
   "cell_type": "code",
   "execution_count": 38,
   "id": "38328c49",
   "metadata": {},
   "outputs": [
    {
     "data": {
      "text/plain": [
       "-1.995200412208242"
      ]
     },
     "execution_count": 38,
     "metadata": {},
     "output_type": "execute_result"
    }
   ],
   "source": [
    "np.tan(90)"
   ]
  },
  {
   "cell_type": "code",
   "execution_count": null,
   "id": "061492ed",
   "metadata": {},
   "outputs": [],
   "source": [
    "3x + 2y = 15\n",
    "4x + 6y = 30"
   ]
  },
  {
   "cell_type": "code",
   "execution_count": 43,
   "id": "38dd6daa",
   "metadata": {},
   "outputs": [
    {
     "name": "stdout",
     "output_type": "stream",
     "text": [
      "[3. 3.]\n"
     ]
    }
   ],
   "source": [
    "arr1 = np.array([[3,2],[4,6]])\n",
    "arr2 = np.array([15,30])\n",
    "algeb = np.linalg.solve(arr1, arr2)\n",
    "print(algeb)"
   ]
  },
  {
   "cell_type": "code",
   "execution_count": 45,
   "id": "9839449b",
   "metadata": {},
   "outputs": [
    {
     "name": "stdout",
     "output_type": "stream",
     "text": [
      "15\n",
      "30\n"
     ]
    }
   ],
   "source": [
    "x = 3\n",
    "y = 3\n",
    "\n",
    "print(3*x + 2*y )\n",
    "print(4*x + 6*y )"
   ]
  },
  {
   "cell_type": "code",
   "execution_count": 47,
   "id": "05fc25de",
   "metadata": {},
   "outputs": [
    {
     "name": "stdout",
     "output_type": "stream",
     "text": [
      "[ 45.  -1. -11.]\n"
     ]
    }
   ],
   "source": [
    "# 3x + 5y + 10z = 20\n",
    "# 4x + 7y + 13z = 30\n",
    "# 2x + 17y + 3z = 40\n",
    "\n",
    "arr1 = np.array([[3,5,10],[4,7,13],[2,17,3]])\n",
    "arr2 = np.array([20,30,40])\n",
    "algeb = np.linalg.solve(arr1, arr2)\n",
    "print(algeb)"
   ]
  },
  {
   "cell_type": "code",
   "execution_count": 49,
   "id": "4c593f7a",
   "metadata": {},
   "outputs": [
    {
     "name": "stdout",
     "output_type": "stream",
     "text": [
      "20\n",
      "30\n",
      "40\n"
     ]
    }
   ],
   "source": [
    "x = 45\n",
    "y = -1\n",
    "z = -11\n",
    "\n",
    "print(3*x + 5*y + 10*z)\n",
    "print(4*x + 7*y + 13*z)\n",
    "print(2*x + 17*y + 3*z)"
   ]
  },
  {
   "cell_type": "code",
   "execution_count": 51,
   "id": "ea23085c",
   "metadata": {},
   "outputs": [
    {
     "name": "stdout",
     "output_type": "stream",
     "text": [
      "[[ 3  5 10]\n",
      " [ 4  7 13]\n",
      " [ 2 17  3]]\n"
     ]
    }
   ],
   "source": [
    "arr1 = np.array([[3,5,10],[4,7,13],[2,17,3]])\n",
    "print(arr1)"
   ]
  },
  {
   "cell_type": "code",
   "execution_count": 52,
   "id": "25c7b1d6",
   "metadata": {},
   "outputs": [
    {
     "data": {
      "text/plain": [
       "array([[-20. ,  15.5,  -0.5],\n",
       "       [  1.4,  -1.1,   0.1],\n",
       "       [  5.4,  -4.1,   0.1]])"
      ]
     },
     "execution_count": 52,
     "metadata": {},
     "output_type": "execute_result"
    }
   ],
   "source": [
    "np.linalg.inv(arr1)"
   ]
  },
  {
   "cell_type": "code",
   "execution_count": 53,
   "id": "a816da8f",
   "metadata": {},
   "outputs": [
    {
     "ename": "NameError",
     "evalue": "name 'arr3' is not defined",
     "output_type": "error",
     "traceback": [
      "\u001b[1;31m---------------------------------------------------------------------------\u001b[0m",
      "\u001b[1;31mNameError\u001b[0m                                 Traceback (most recent call last)",
      "Input \u001b[1;32mIn [53]\u001b[0m, in \u001b[0;36m<cell line: 1>\u001b[1;34m()\u001b[0m\n\u001b[1;32m----> 1\u001b[0m arr1 \u001b[38;5;241m=\u001b[39m \u001b[43marr3\u001b[49m\n",
      "\u001b[1;31mNameError\u001b[0m: name 'arr3' is not defined"
     ]
    }
   ],
   "source": [
    "arr1 = arr3"
   ]
  },
  {
   "cell_type": "code",
   "execution_count": 82,
   "id": "a681165f",
   "metadata": {},
   "outputs": [],
   "source": [
    "ar = np.array([[3,5],[4,7]])"
   ]
  },
  {
   "cell_type": "code",
   "execution_count": 83,
   "id": "b43e1886",
   "metadata": {},
   "outputs": [],
   "source": [
    "arr = ar"
   ]
  },
  {
   "cell_type": "code",
   "execution_count": 84,
   "id": "5460a676",
   "metadata": {},
   "outputs": [
    {
     "data": {
      "text/plain": [
       "array([[3, 5],\n",
       "       [4, 7]])"
      ]
     },
     "execution_count": 84,
     "metadata": {},
     "output_type": "execute_result"
    }
   ],
   "source": [
    "arr"
   ]
  },
  {
   "cell_type": "code",
   "execution_count": 85,
   "id": "90a2ae91",
   "metadata": {},
   "outputs": [],
   "source": [
    "arr[0][1] = 0"
   ]
  },
  {
   "cell_type": "code",
   "execution_count": 86,
   "id": "66cf695c",
   "metadata": {},
   "outputs": [
    {
     "data": {
      "text/plain": [
       "array([[3, 0],\n",
       "       [4, 7]])"
      ]
     },
     "execution_count": 86,
     "metadata": {},
     "output_type": "execute_result"
    }
   ],
   "source": [
    "arr"
   ]
  },
  {
   "cell_type": "code",
   "execution_count": 67,
   "id": "7e0032fa",
   "metadata": {},
   "outputs": [
    {
     "data": {
      "text/plain": [
       "array([[3, 0],\n",
       "       [4, 7]])"
      ]
     },
     "execution_count": 67,
     "metadata": {},
     "output_type": "execute_result"
    }
   ],
   "source": [
    "ar"
   ]
  },
  {
   "cell_type": "code",
   "execution_count": 68,
   "id": "1b7a1dc2",
   "metadata": {},
   "outputs": [
    {
     "data": {
      "text/plain": [
       "array([[3, 0],\n",
       "       [4, 7]])"
      ]
     },
     "execution_count": 68,
     "metadata": {},
     "output_type": "execute_result"
    }
   ],
   "source": [
    "ar"
   ]
  },
  {
   "cell_type": "code",
   "execution_count": 74,
   "id": "13762a31",
   "metadata": {},
   "outputs": [
    {
     "data": {
      "text/plain": [
       "array([[3, 0],\n",
       "       [4, 7]])"
      ]
     },
     "execution_count": 74,
     "metadata": {},
     "output_type": "execute_result"
    }
   ],
   "source": [
    "goa = ar.copy()\n",
    "goa"
   ]
  },
  {
   "cell_type": "code",
   "execution_count": 75,
   "id": "bf9f22a7",
   "metadata": {},
   "outputs": [],
   "source": [
    "goa[0][1] = 5"
   ]
  },
  {
   "cell_type": "code",
   "execution_count": 76,
   "id": "f73a4624",
   "metadata": {},
   "outputs": [
    {
     "data": {
      "text/plain": [
       "array([[3, 5],\n",
       "       [4, 7]])"
      ]
     },
     "execution_count": 76,
     "metadata": {},
     "output_type": "execute_result"
    }
   ],
   "source": [
    "goa"
   ]
  },
  {
   "cell_type": "code",
   "execution_count": 77,
   "id": "76eba0f4",
   "metadata": {},
   "outputs": [
    {
     "data": {
      "text/plain": [
       "array([[3, 0],\n",
       "       [4, 7]])"
      ]
     },
     "execution_count": 77,
     "metadata": {},
     "output_type": "execute_result"
    }
   ],
   "source": [
    "ar"
   ]
  },
  {
   "cell_type": "code",
   "execution_count": null,
   "id": "4cb0e1f6",
   "metadata": {},
   "outputs": [],
   "source": []
  },
  {
   "cell_type": "code",
   "execution_count": null,
   "id": "0945aee0",
   "metadata": {},
   "outputs": [],
   "source": []
  }
 ],
 "metadata": {
  "kernelspec": {
   "display_name": "Python 3 (ipykernel)",
   "language": "python",
   "name": "python3"
  },
  "language_info": {
   "codemirror_mode": {
    "name": "ipython",
    "version": 3
   },
   "file_extension": ".py",
   "mimetype": "text/x-python",
   "name": "python",
   "nbconvert_exporter": "python",
   "pygments_lexer": "ipython3",
   "version": "3.9.12"
  }
 },
 "nbformat": 4,
 "nbformat_minor": 5
}
