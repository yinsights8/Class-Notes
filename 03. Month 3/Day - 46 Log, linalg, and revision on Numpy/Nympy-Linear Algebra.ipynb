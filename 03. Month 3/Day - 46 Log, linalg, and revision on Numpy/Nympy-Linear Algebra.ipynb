{
 "cells": [
  {
   "cell_type": "markdown",
   "id": "914ca8a2",
   "metadata": {},
   "source": [
    "# Nympy-Linear Algebra"
   ]
  },
  {
   "cell_type": "raw",
   "id": "cd668d2b",
   "metadata": {},
   "source": [
    "2x + 3y = 25\n",
    "x + 2y = 30"
   ]
  },
  {
   "cell_type": "raw",
   "id": "a5ea0027",
   "metadata": {},
   "source": [
    "3x + 2y = 15\n",
    "4x + 6y = 30\n",
    "x = ? -- 3\n",
    "y = ? -- 3"
   ]
  },
  {
   "cell_type": "raw",
   "id": "34c70fcc",
   "metadata": {},
   "source": [
    "[3,2]\n",
    "[4,6] = [15,30]"
   ]
  },
  {
   "cell_type": "code",
   "execution_count": 1,
   "id": "418516ea",
   "metadata": {},
   "outputs": [],
   "source": [
    "import numpy as np"
   ]
  },
  {
   "cell_type": "code",
   "execution_count": 2,
   "id": "a8a1d65b",
   "metadata": {},
   "outputs": [
    {
     "name": "stdout",
     "output_type": "stream",
     "text": [
      "Array1 --> \n",
      "[[3 2]\n",
      " [4 6]]\n",
      "Array2 --> \n",
      "[15 30]\n"
     ]
    }
   ],
   "source": [
    "arr1 = np.array([[3,2],[4,6]])\n",
    "print(f\"Array1 --> \\n{arr1}\")\n",
    "arr2 = np.array([15,30])\n",
    "print(f\"Array2 --> \\n{arr2}\")"
   ]
  },
  {
   "cell_type": "code",
   "execution_count": 3,
   "id": "9e3df14d",
   "metadata": {},
   "outputs": [
    {
     "name": "stdout",
     "output_type": "stream",
     "text": [
      "Result --> [3. 3.]\n"
     ]
    }
   ],
   "source": [
    "res = np.linalg.solve(arr1,arr2)\n",
    "print(f\"Result --> {res}\")"
   ]
  },
  {
   "cell_type": "code",
   "execution_count": null,
   "id": "38315915",
   "metadata": {},
   "outputs": [],
   "source": [
    "3x + 5y + 10z = 20\n",
    "4x + 7y + 13z = 30\n",
    "2x + 17y + 3z = 40"
   ]
  },
  {
   "cell_type": "code",
   "execution_count": 4,
   "id": "ffcca1c9",
   "metadata": {},
   "outputs": [
    {
     "name": "stdout",
     "output_type": "stream",
     "text": [
      "Array1 --> \n",
      "[[ 3  5 10]\n",
      " [ 4  7 13]\n",
      " [ 2 17  3]]\n",
      "Array2 --> \n",
      "[20 30 40]\n"
     ]
    }
   ],
   "source": [
    "arr1 = np.array([[3,5,10],[4,7,13],[2,17,3]])\n",
    "print(f\"Array1 --> \\n{arr1}\")\n",
    "arr2 = np.array([20,30,40])\n",
    "print(f\"Array2 --> \\n{arr2}\")"
   ]
  },
  {
   "cell_type": "code",
   "execution_count": 5,
   "id": "5b1405df",
   "metadata": {},
   "outputs": [
    {
     "name": "stdout",
     "output_type": "stream",
     "text": [
      "Result --> [ 45.  -1. -11.]\n"
     ]
    }
   ],
   "source": [
    "res = np.linalg.solve(arr1,arr2)\n",
    "print(f\"Result --> {res}\")"
   ]
  },
  {
   "cell_type": "code",
   "execution_count": 6,
   "id": "ca9cff43",
   "metadata": {},
   "outputs": [],
   "source": [
    "x = 45\n",
    "y = -1\n",
    "z = -11"
   ]
  },
  {
   "cell_type": "code",
   "execution_count": 7,
   "id": "37a73875",
   "metadata": {},
   "outputs": [
    {
     "data": {
      "text/plain": [
       "20"
      ]
     },
     "execution_count": 7,
     "metadata": {},
     "output_type": "execute_result"
    }
   ],
   "source": [
    "3*x + 5*y + 10*z"
   ]
  },
  {
   "cell_type": "code",
   "execution_count": 8,
   "id": "8ebf967a",
   "metadata": {},
   "outputs": [
    {
     "data": {
      "text/plain": [
       "30"
      ]
     },
     "execution_count": 8,
     "metadata": {},
     "output_type": "execute_result"
    }
   ],
   "source": [
    "4*x + 7*y + 13*z"
   ]
  },
  {
   "cell_type": "code",
   "execution_count": 9,
   "id": "79500ab3",
   "metadata": {},
   "outputs": [
    {
     "data": {
      "text/plain": [
       "40"
      ]
     },
     "execution_count": 9,
     "metadata": {},
     "output_type": "execute_result"
    }
   ],
   "source": [
    "2*x + 17*y + 3*z"
   ]
  },
  {
   "cell_type": "markdown",
   "id": "257ec071",
   "metadata": {},
   "source": [
    "# Inverse of matrix"
   ]
  },
  {
   "cell_type": "code",
   "execution_count": 10,
   "id": "9d2b428e",
   "metadata": {},
   "outputs": [
    {
     "data": {
      "text/plain": [
       "[[1, 2], [3, 4]]"
      ]
     },
     "execution_count": 10,
     "metadata": {},
     "output_type": "execute_result"
    }
   ],
   "source": [
    "[\n",
    "    [1,2],\n",
    "    [3,4]\n",
    "]"
   ]
  },
  {
   "cell_type": "code",
   "execution_count": 12,
   "id": "1f3470f1",
   "metadata": {},
   "outputs": [
    {
     "data": {
      "text/plain": [
       "array([[1, 2],\n",
       "       [3, 4]])"
      ]
     },
     "execution_count": 12,
     "metadata": {},
     "output_type": "execute_result"
    }
   ],
   "source": [
    "array1 = np.array([\n",
    "    [1,2],\n",
    "    [3,4]\n",
    "])\n",
    "array1"
   ]
  },
  {
   "cell_type": "code",
   "execution_count": 14,
   "id": "9466dc95",
   "metadata": {},
   "outputs": [
    {
     "data": {
      "text/plain": [
       "array([[-2. ,  1. ],\n",
       "       [ 1.5, -0.5]])"
      ]
     },
     "execution_count": 14,
     "metadata": {},
     "output_type": "execute_result"
    }
   ],
   "source": [
    "np.linalg.inv(array1)"
   ]
  },
  {
   "cell_type": "markdown",
   "id": "d86bea0d",
   "metadata": {},
   "source": [
    "# Copy of an array"
   ]
  },
  {
   "cell_type": "code",
   "execution_count": 15,
   "id": "993bac07",
   "metadata": {},
   "outputs": [
    {
     "data": {
      "text/plain": [
       "array([[ 3,  5, 10],\n",
       "       [ 4,  7, 13],\n",
       "       [ 2, 17,  3]])"
      ]
     },
     "execution_count": 15,
     "metadata": {},
     "output_type": "execute_result"
    }
   ],
   "source": [
    "arr1 "
   ]
  },
  {
   "cell_type": "code",
   "execution_count": 16,
   "id": "924f9692",
   "metadata": {},
   "outputs": [],
   "source": [
    "arr2 = arr1"
   ]
  },
  {
   "cell_type": "code",
   "execution_count": 17,
   "id": "97c49342",
   "metadata": {},
   "outputs": [
    {
     "data": {
      "text/plain": [
       "array([[ 3,  5, 10],\n",
       "       [ 4,  7, 13],\n",
       "       [ 2, 17,  3]])"
      ]
     },
     "execution_count": 17,
     "metadata": {},
     "output_type": "execute_result"
    }
   ],
   "source": [
    "arr2"
   ]
  },
  {
   "cell_type": "code",
   "execution_count": 18,
   "id": "e57d2013",
   "metadata": {},
   "outputs": [],
   "source": [
    "arr2[0][1] = 500"
   ]
  },
  {
   "cell_type": "code",
   "execution_count": 19,
   "id": "a1e48cc0",
   "metadata": {},
   "outputs": [
    {
     "data": {
      "text/plain": [
       "array([[  3, 500,  10],\n",
       "       [  4,   7,  13],\n",
       "       [  2,  17,   3]])"
      ]
     },
     "execution_count": 19,
     "metadata": {},
     "output_type": "execute_result"
    }
   ],
   "source": [
    "arr1"
   ]
  },
  {
   "cell_type": "code",
   "execution_count": 20,
   "id": "2f1d5302",
   "metadata": {},
   "outputs": [],
   "source": [
    "arr2 = arr1.copy()"
   ]
  },
  {
   "cell_type": "code",
   "execution_count": 21,
   "id": "421342a9",
   "metadata": {},
   "outputs": [
    {
     "data": {
      "text/plain": [
       "array([[  3, 500,  10],\n",
       "       [  4,   7,  13],\n",
       "       [  2,  17,   3]])"
      ]
     },
     "execution_count": 21,
     "metadata": {},
     "output_type": "execute_result"
    }
   ],
   "source": [
    "arr2"
   ]
  },
  {
   "cell_type": "code",
   "execution_count": 22,
   "id": "509a5323",
   "metadata": {},
   "outputs": [],
   "source": [
    "arr2[0][1] = 5"
   ]
  },
  {
   "cell_type": "code",
   "execution_count": 23,
   "id": "42a58882",
   "metadata": {},
   "outputs": [
    {
     "data": {
      "text/plain": [
       "array([[  3, 500,  10],\n",
       "       [  4,   7,  13],\n",
       "       [  2,  17,   3]])"
      ]
     },
     "execution_count": 23,
     "metadata": {},
     "output_type": "execute_result"
    }
   ],
   "source": [
    "arr1"
   ]
  },
  {
   "cell_type": "code",
   "execution_count": 24,
   "id": "81c40f4f",
   "metadata": {},
   "outputs": [
    {
     "data": {
      "text/plain": [
       "array([[ 3,  5, 10],\n",
       "       [ 4,  7, 13],\n",
       "       [ 2, 17,  3]])"
      ]
     },
     "execution_count": 24,
     "metadata": {},
     "output_type": "execute_result"
    }
   ],
   "source": [
    "arr2"
   ]
  },
  {
   "cell_type": "code",
   "execution_count": null,
   "id": "968083f8",
   "metadata": {},
   "outputs": [],
   "source": []
  }
 ],
 "metadata": {
  "kernelspec": {
   "display_name": "Python 3 (ipykernel)",
   "language": "python",
   "name": "python3"
  },
  "language_info": {
   "codemirror_mode": {
    "name": "ipython",
    "version": 3
   },
   "file_extension": ".py",
   "mimetype": "text/x-python",
   "name": "python",
   "nbconvert_exporter": "python",
   "pygments_lexer": "ipython3",
   "version": "3.9.12"
  }
 },
 "nbformat": 4,
 "nbformat_minor": 5
}
