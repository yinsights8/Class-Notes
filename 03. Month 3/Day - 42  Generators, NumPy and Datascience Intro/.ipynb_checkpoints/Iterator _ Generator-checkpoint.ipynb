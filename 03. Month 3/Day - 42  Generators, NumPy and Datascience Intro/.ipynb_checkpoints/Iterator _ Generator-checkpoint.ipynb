{
 "cells": [
  {
   "cell_type": "markdown",
   "id": "2133bbd0",
   "metadata": {},
   "source": [
    "# Iterators"
   ]
  },
  {
   "cell_type": "code",
   "execution_count": 1,
   "id": "f411789c",
   "metadata": {},
   "outputs": [
    {
     "name": "stdout",
     "output_type": "stream",
     "text": [
      "P\n",
      "y\n",
      "t\n",
      "h\n",
      "o\n",
      "n\n"
     ]
    }
   ],
   "source": [
    "str1 = 'Python'\n",
    "for i in str1:\n",
    "    print(i)"
   ]
  },
  {
   "cell_type": "code",
   "execution_count": 2,
   "id": "9ac2a219",
   "metadata": {},
   "outputs": [
    {
     "data": {
      "text/plain": [
       "'t'"
      ]
     },
     "execution_count": 2,
     "metadata": {},
     "output_type": "execute_result"
    }
   ],
   "source": [
    "str1[2]"
   ]
  },
  {
   "cell_type": "code",
   "execution_count": 3,
   "id": "8e55527f",
   "metadata": {},
   "outputs": [
    {
     "name": "stdout",
     "output_type": "stream",
     "text": [
      "10\n",
      "20\n",
      "30\n",
      "40\n",
      "50\n"
     ]
    }
   ],
   "source": [
    "list1 = [10,20,30,40,50]\n",
    "for i in list1:\n",
    "    print(i)"
   ]
  },
  {
   "cell_type": "code",
   "execution_count": 4,
   "id": "ab8c0c85",
   "metadata": {},
   "outputs": [
    {
     "name": "stdout",
     "output_type": "stream",
     "text": [
      "['__add__', '__class__', '__class_getitem__', '__contains__', '__delattr__', '__delitem__', '__dir__', '__doc__', '__eq__', '__format__', '__ge__', '__getattribute__', '__getitem__', '__gt__', '__hash__', '__iadd__', '__imul__', '__init__', '__init_subclass__', '__iter__', '__le__', '__len__', '__lt__', '__mul__', '__ne__', '__new__', '__reduce__', '__reduce_ex__', '__repr__', '__reversed__', '__rmul__', '__setattr__', '__setitem__', '__sizeof__', '__str__', '__subclasshook__', 'append', 'clear', 'copy', 'count', 'extend', 'index', 'insert', 'pop', 'remove', 'reverse', 'sort']\n"
     ]
    }
   ],
   "source": [
    "print(dir(list1))"
   ]
  },
  {
   "cell_type": "code",
   "execution_count": 12,
   "id": "21e3d797",
   "metadata": {},
   "outputs": [
    {
     "data": {
      "text/plain": [
       "<list_iterator at 0x1a6f3090820>"
      ]
     },
     "execution_count": 12,
     "metadata": {},
     "output_type": "execute_result"
    }
   ],
   "source": [
    "li_iterator = iter(list1)\n",
    "li_iterator"
   ]
  },
  {
   "cell_type": "code",
   "execution_count": 13,
   "id": "11d5ac0d",
   "metadata": {},
   "outputs": [
    {
     "name": "stdout",
     "output_type": "stream",
     "text": [
      "10\n",
      "20\n",
      "30\n",
      "40\n",
      "50\n"
     ]
    }
   ],
   "source": [
    "print(next(li_iterator))\n",
    "print(next(li_iterator))\n",
    "print(next(li_iterator))\n",
    "print(next(li_iterator))\n",
    "print(next(li_iterator))"
   ]
  },
  {
   "cell_type": "code",
   "execution_count": 14,
   "id": "ba0a3cde",
   "metadata": {},
   "outputs": [
    {
     "ename": "StopIteration",
     "evalue": "",
     "output_type": "error",
     "traceback": [
      "\u001b[1;31m---------------------------------------------------------------------------\u001b[0m",
      "\u001b[1;31mStopIteration\u001b[0m                             Traceback (most recent call last)",
      "Input \u001b[1;32mIn [14]\u001b[0m, in \u001b[0;36m<cell line: 1>\u001b[1;34m()\u001b[0m\n\u001b[1;32m----> 1\u001b[0m \u001b[38;5;28mprint\u001b[39m(\u001b[38;5;28;43mnext\u001b[39;49m\u001b[43m(\u001b[49m\u001b[43mli_iterator\u001b[49m\u001b[43m)\u001b[49m)\n",
      "\u001b[1;31mStopIteration\u001b[0m: "
     ]
    }
   ],
   "source": [
    "print(next(li_iterator))"
   ]
  },
  {
   "cell_type": "code",
   "execution_count": 15,
   "id": "5c9eb5af",
   "metadata": {},
   "outputs": [
    {
     "ename": "StopIteration",
     "evalue": "",
     "output_type": "error",
     "traceback": [
      "\u001b[1;31m---------------------------------------------------------------------------\u001b[0m",
      "\u001b[1;31mStopIteration\u001b[0m                             Traceback (most recent call last)",
      "Input \u001b[1;32mIn [15]\u001b[0m, in \u001b[0;36m<cell line: 1>\u001b[1;34m()\u001b[0m\n\u001b[1;32m----> 1\u001b[0m \u001b[38;5;28mprint\u001b[39m(\u001b[38;5;28;43mnext\u001b[39;49m\u001b[43m(\u001b[49m\u001b[43mli_iterator\u001b[49m\u001b[43m)\u001b[49m)\n",
      "\u001b[1;31mStopIteration\u001b[0m: "
     ]
    }
   ],
   "source": [
    "print(next(li_iterator))"
   ]
  },
  {
   "cell_type": "code",
   "execution_count": 72,
   "id": "cb620cb5",
   "metadata": {},
   "outputs": [
    {
     "data": {
      "text/plain": [
       "<list_iterator at 0x1a6f3968370>"
      ]
     },
     "execution_count": 72,
     "metadata": {},
     "output_type": "execute_result"
    }
   ],
   "source": [
    "li_iterator = iter(list1)\n",
    "li_iterator"
   ]
  },
  {
   "cell_type": "code",
   "execution_count": 73,
   "id": "71ad2e34",
   "metadata": {},
   "outputs": [
    {
     "name": "stdout",
     "output_type": "stream",
     "text": [
      "---> 10\n",
      "---> 20\n",
      "---> 30\n",
      "---> 40\n",
      "---> 50\n"
     ]
    }
   ],
   "source": [
    "for i in li_iterator:\n",
    "    print(\"--->\",i)"
   ]
  },
  {
   "cell_type": "code",
   "execution_count": 18,
   "id": "96af4afe",
   "metadata": {},
   "outputs": [
    {
     "name": "stdout",
     "output_type": "stream",
     "text": [
      "P\n",
      "y\n",
      "t\n",
      "h\n",
      "o\n",
      "n\n"
     ]
    }
   ],
   "source": [
    "str1 = 'Python'\n",
    "for i in str1:\n",
    "    print(i)"
   ]
  },
  {
   "cell_type": "code",
   "execution_count": 19,
   "id": "93c6c756",
   "metadata": {},
   "outputs": [
    {
     "data": {
      "text/plain": [
       "<str_iterator at 0x1a6f39819c0>"
      ]
     },
     "execution_count": 19,
     "metadata": {},
     "output_type": "execute_result"
    }
   ],
   "source": [
    "str_itr = iter(str1)\n",
    "str_itr"
   ]
  },
  {
   "cell_type": "code",
   "execution_count": 22,
   "id": "0b222ed1",
   "metadata": {},
   "outputs": [
    {
     "name": "stdout",
     "output_type": "stream",
     "text": [
      "n\n"
     ]
    },
    {
     "ename": "StopIteration",
     "evalue": "",
     "output_type": "error",
     "traceback": [
      "\u001b[1;31m---------------------------------------------------------------------------\u001b[0m",
      "\u001b[1;31mStopIteration\u001b[0m                             Traceback (most recent call last)",
      "Input \u001b[1;32mIn [22]\u001b[0m, in \u001b[0;36m<cell line: 2>\u001b[1;34m()\u001b[0m\n\u001b[0;32m      1\u001b[0m \u001b[38;5;28mprint\u001b[39m(\u001b[38;5;28mnext\u001b[39m(str_itr))\n\u001b[1;32m----> 2\u001b[0m \u001b[38;5;28mprint\u001b[39m(\u001b[38;5;28;43mnext\u001b[39;49m\u001b[43m(\u001b[49m\u001b[43mstr_itr\u001b[49m\u001b[43m)\u001b[49m)\n\u001b[0;32m      3\u001b[0m \u001b[38;5;28mprint\u001b[39m(\u001b[38;5;28mnext\u001b[39m(str_itr))\n\u001b[0;32m      4\u001b[0m \u001b[38;5;28mprint\u001b[39m(\u001b[38;5;28mnext\u001b[39m(str_itr))\n",
      "\u001b[1;31mStopIteration\u001b[0m: "
     ]
    }
   ],
   "source": [
    "print(next(str_itr))\n",
    "print(next(str_itr))\n",
    "print(next(str_itr))\n",
    "print(next(str_itr))\n",
    "print(next(str_itr))\n",
    "print(next(str_itr))\n",
    "print(next(str_itr))"
   ]
  },
  {
   "cell_type": "code",
   "execution_count": 23,
   "id": "d345cdeb",
   "metadata": {},
   "outputs": [
    {
     "ename": "TypeError",
     "evalue": "'int' object is not iterable",
     "output_type": "error",
     "traceback": [
      "\u001b[1;31m---------------------------------------------------------------------------\u001b[0m",
      "\u001b[1;31mTypeError\u001b[0m                                 Traceback (most recent call last)",
      "Input \u001b[1;32mIn [23]\u001b[0m, in \u001b[0;36m<cell line: 2>\u001b[1;34m()\u001b[0m\n\u001b[0;32m      1\u001b[0m val \u001b[38;5;241m=\u001b[39m \u001b[38;5;241m50\u001b[39m\n\u001b[1;32m----> 2\u001b[0m int_iter \u001b[38;5;241m=\u001b[39m \u001b[38;5;28;43miter\u001b[39;49m\u001b[43m(\u001b[49m\u001b[43mval\u001b[49m\u001b[43m)\u001b[49m\n",
      "\u001b[1;31mTypeError\u001b[0m: 'int' object is not iterable"
     ]
    }
   ],
   "source": [
    "val = 50\n",
    "int_iter = iter(val)"
   ]
  },
  {
   "cell_type": "markdown",
   "id": "1152df96",
   "metadata": {},
   "source": [
    "# Generators\n",
    "- If we are using one or more yield statements, then it is called as generator."
   ]
  },
  {
   "cell_type": "code",
   "execution_count": 24,
   "id": "cf2c78bf",
   "metadata": {},
   "outputs": [],
   "source": [
    "def gen():\n",
    "    return \"First Statement\"\n",
    "    return \"Second Statement\"\n",
    "    return \"Third Statement\""
   ]
  },
  {
   "cell_type": "code",
   "execution_count": 31,
   "id": "ee4e24b4",
   "metadata": {},
   "outputs": [
    {
     "data": {
      "text/plain": [
       "'First Statement'"
      ]
     },
     "execution_count": 31,
     "metadata": {},
     "output_type": "execute_result"
    }
   ],
   "source": [
    "gen()"
   ]
  },
  {
   "cell_type": "code",
   "execution_count": 33,
   "id": "97d21ae9",
   "metadata": {},
   "outputs": [
    {
     "data": {
      "text/plain": [
       "'First Statement'"
      ]
     },
     "execution_count": 33,
     "metadata": {},
     "output_type": "execute_result"
    }
   ],
   "source": [
    "gen()"
   ]
  },
  {
   "cell_type": "code",
   "execution_count": 34,
   "id": "82dc77ae",
   "metadata": {},
   "outputs": [],
   "source": [
    "def sq_func(li):\n",
    "    for i in li:\n",
    "        sqr = i ** 2\n",
    "        print(f\"Square of {i} == {sqr}\")\n",
    "        return sqr"
   ]
  },
  {
   "cell_type": "code",
   "execution_count": 35,
   "id": "006bbf5a",
   "metadata": {},
   "outputs": [
    {
     "name": "stdout",
     "output_type": "stream",
     "text": [
      "Square of 1 == 1\n"
     ]
    },
    {
     "data": {
      "text/plain": [
       "1"
      ]
     },
     "execution_count": 35,
     "metadata": {},
     "output_type": "execute_result"
    }
   ],
   "source": [
    "sq_func([1,2,3,4,5])"
   ]
  },
  {
   "cell_type": "code",
   "execution_count": 36,
   "id": "22e51497",
   "metadata": {},
   "outputs": [],
   "source": [
    "def sq_func(li):\n",
    "    for i in li:\n",
    "        sqr = i ** 2\n",
    "        print(f\"Square of {i} == {sqr}\")\n",
    "#         return sqr"
   ]
  },
  {
   "cell_type": "code",
   "execution_count": 37,
   "id": "cc4757fb",
   "metadata": {},
   "outputs": [
    {
     "name": "stdout",
     "output_type": "stream",
     "text": [
      "Square of 1 == 1\n",
      "Square of 2 == 4\n",
      "Square of 3 == 9\n",
      "Square of 4 == 16\n",
      "Square of 5 == 25\n"
     ]
    }
   ],
   "source": [
    "sq_func([1,2,3,4,5])"
   ]
  },
  {
   "cell_type": "code",
   "execution_count": 38,
   "id": "c0096818",
   "metadata": {},
   "outputs": [],
   "source": [
    "def sq_func(li):\n",
    "    for i in li:\n",
    "        sqr = i ** 2\n",
    "        print(f\"Square of {i} == {sqr}\")\n",
    "        yield sqr\n",
    "\n",
    "squar_obj = sq_func([1,2,3,4,5])\n",
    "squar_obj"
   ]
  },
  {
   "cell_type": "code",
   "execution_count": 42,
   "id": "d9a16b68",
   "metadata": {},
   "outputs": [
    {
     "name": "stdout",
     "output_type": "stream",
     "text": [
      "Square of 1 == 1\n",
      "--------------------\n",
      "Square of 2 == 4\n",
      "--------------------\n",
      "Square of 3 == 9\n",
      "--------------------\n",
      "Square of 4 == 16\n",
      "--------------------\n",
      "Square of 5 == 25\n",
      "--------------------\n"
     ]
    }
   ],
   "source": [
    "for i in squar_obj:\n",
    "    print(\"-\"*20)"
   ]
  },
  {
   "cell_type": "code",
   "execution_count": 43,
   "id": "26b66bdb",
   "metadata": {},
   "outputs": [
    {
     "ename": "StopIteration",
     "evalue": "",
     "output_type": "error",
     "traceback": [
      "\u001b[1;31m---------------------------------------------------------------------------\u001b[0m",
      "\u001b[1;31mStopIteration\u001b[0m                             Traceback (most recent call last)",
      "Input \u001b[1;32mIn [43]\u001b[0m, in \u001b[0;36m<cell line: 1>\u001b[1;34m()\u001b[0m\n\u001b[1;32m----> 1\u001b[0m \u001b[38;5;28;43mnext\u001b[39;49m\u001b[43m(\u001b[49m\u001b[43msquar_obj\u001b[49m\u001b[43m)\u001b[49m\n",
      "\u001b[1;31mStopIteration\u001b[0m: "
     ]
    }
   ],
   "source": [
    "next(squar_obj)"
   ]
  },
  {
   "cell_type": "code",
   "execution_count": 47,
   "id": "09ff4d92",
   "metadata": {},
   "outputs": [
    {
     "data": {
      "text/plain": [
       "<generator object sq_func at 0x000001A6F533DD20>"
      ]
     },
     "execution_count": 47,
     "metadata": {},
     "output_type": "execute_result"
    }
   ],
   "source": [
    "def sq_func(li):\n",
    "    for i in li:\n",
    "        sqr = i ** 2\n",
    "        yield f\"Square of {i} == {sqr}\"\n",
    "\n",
    "squar_obj = sq_func([1,2,3,4,5])\n",
    "squar_obj"
   ]
  },
  {
   "cell_type": "code",
   "execution_count": 49,
   "id": "19ffb79e",
   "metadata": {},
   "outputs": [
    {
     "name": "stdout",
     "output_type": "stream",
     "text": [
      "Square of 1 == 1\n",
      "Square of 2 == 4\n",
      "Square of 3 == 9\n",
      "Square of 4 == 16\n",
      "Square of 5 == 25\n"
     ]
    },
    {
     "ename": "StopIteration",
     "evalue": "",
     "output_type": "error",
     "traceback": [
      "\u001b[1;31m---------------------------------------------------------------------------\u001b[0m",
      "\u001b[1;31mStopIteration\u001b[0m                             Traceback (most recent call last)",
      "Input \u001b[1;32mIn [49]\u001b[0m, in \u001b[0;36m<cell line: 6>\u001b[1;34m()\u001b[0m\n\u001b[0;32m      4\u001b[0m \u001b[38;5;28mprint\u001b[39m(\u001b[38;5;28mnext\u001b[39m(squar_obj))\n\u001b[0;32m      5\u001b[0m \u001b[38;5;28mprint\u001b[39m(\u001b[38;5;28mnext\u001b[39m(squar_obj))\n\u001b[1;32m----> 6\u001b[0m \u001b[38;5;28mprint\u001b[39m(\u001b[38;5;28;43mnext\u001b[39;49m\u001b[43m(\u001b[49m\u001b[43msquar_obj\u001b[49m\u001b[43m)\u001b[49m)\n\u001b[0;32m      7\u001b[0m \u001b[38;5;28mprint\u001b[39m(\u001b[38;5;28mnext\u001b[39m(squar_obj))\n",
      "\u001b[1;31mStopIteration\u001b[0m: "
     ]
    }
   ],
   "source": [
    "print(next(squar_obj))\n",
    "print(next(squar_obj))\n",
    "print(next(squar_obj))\n",
    "print(next(squar_obj))\n",
    "print(next(squar_obj))\n",
    "print(next(squar_obj))\n",
    "print(next(squar_obj))"
   ]
  },
  {
   "cell_type": "code",
   "execution_count": 51,
   "id": "bc1506d9",
   "metadata": {},
   "outputs": [
    {
     "name": "stdout",
     "output_type": "stream",
     "text": [
      "Square of 1 == 1\n",
      "Square of 2 == 4\n",
      "Square of 3 == 9\n",
      "Square of 4 == 16\n",
      "Square of 5 == 25\n"
     ]
    }
   ],
   "source": [
    "squar_obj = sq_func([1,2,3,4,5])\n",
    "for i in squar_obj:\n",
    "    print(i)"
   ]
  },
  {
   "cell_type": "code",
   "execution_count": 52,
   "id": "7b03b352",
   "metadata": {},
   "outputs": [
    {
     "data": {
      "text/plain": [
       "'First Statement'"
      ]
     },
     "execution_count": 52,
     "metadata": {},
     "output_type": "execute_result"
    }
   ],
   "source": [
    "def gen():\n",
    "    return \"First Statement\"\n",
    "    return \"Second Statement\"\n",
    "    return \"Third Statement\"\n",
    "gen()"
   ]
  },
  {
   "cell_type": "code",
   "execution_count": 53,
   "id": "b1234d77",
   "metadata": {},
   "outputs": [
    {
     "data": {
      "text/plain": [
       "<generator object gen at 0x000001A6F533F290>"
      ]
     },
     "execution_count": 53,
     "metadata": {},
     "output_type": "execute_result"
    }
   ],
   "source": [
    "def gen():\n",
    "    yield \"First Statement\"\n",
    "    yield \"Second Statement\"\n",
    "    yield \"Third Statement\"\n",
    "x = gen()\n",
    "x"
   ]
  },
  {
   "cell_type": "code",
   "execution_count": 54,
   "id": "7dc6d3cf",
   "metadata": {},
   "outputs": [
    {
     "data": {
      "text/plain": [
       "'First Statement'"
      ]
     },
     "execution_count": 54,
     "metadata": {},
     "output_type": "execute_result"
    }
   ],
   "source": [
    "next(x)"
   ]
  },
  {
   "cell_type": "code",
   "execution_count": 55,
   "id": "20ebf7c5",
   "metadata": {},
   "outputs": [
    {
     "data": {
      "text/plain": [
       "'Second Statement'"
      ]
     },
     "execution_count": 55,
     "metadata": {},
     "output_type": "execute_result"
    }
   ],
   "source": [
    "next(x)"
   ]
  },
  {
   "cell_type": "code",
   "execution_count": 56,
   "id": "8fe0aa90",
   "metadata": {},
   "outputs": [
    {
     "data": {
      "text/plain": [
       "'Third Statement'"
      ]
     },
     "execution_count": 56,
     "metadata": {},
     "output_type": "execute_result"
    }
   ],
   "source": [
    "next(x)"
   ]
  },
  {
   "cell_type": "code",
   "execution_count": 57,
   "id": "e5f68a15",
   "metadata": {},
   "outputs": [
    {
     "ename": "StopIteration",
     "evalue": "",
     "output_type": "error",
     "traceback": [
      "\u001b[1;31m---------------------------------------------------------------------------\u001b[0m",
      "\u001b[1;31mStopIteration\u001b[0m                             Traceback (most recent call last)",
      "Input \u001b[1;32mIn [57]\u001b[0m, in \u001b[0;36m<cell line: 1>\u001b[1;34m()\u001b[0m\n\u001b[1;32m----> 1\u001b[0m \u001b[38;5;28;43mnext\u001b[39;49m\u001b[43m(\u001b[49m\u001b[43mx\u001b[49m\u001b[43m)\u001b[49m\n",
      "\u001b[1;31mStopIteration\u001b[0m: "
     ]
    }
   ],
   "source": [
    "next(x)"
   ]
  },
  {
   "cell_type": "code",
   "execution_count": null,
   "id": "961d45ae",
   "metadata": {},
   "outputs": [],
   "source": []
  }
 ],
 "metadata": {
  "kernelspec": {
   "display_name": "Python 3 (ipykernel)",
   "language": "python",
   "name": "python3"
  },
  "language_info": {
   "codemirror_mode": {
    "name": "ipython",
    "version": 3
   },
   "file_extension": ".py",
   "mimetype": "text/x-python",
   "name": "python",
   "nbconvert_exporter": "python",
   "pygments_lexer": "ipython3",
   "version": "3.10.5"
  }
 },
 "nbformat": 4,
 "nbformat_minor": 5
}
