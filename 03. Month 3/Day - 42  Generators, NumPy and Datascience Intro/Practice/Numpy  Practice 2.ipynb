{
 "cells": [
  {
   "cell_type": "code",
   "execution_count": 1,
   "id": "ffa19dee",
   "metadata": {},
   "outputs": [],
   "source": [
    "import numpy as np"
   ]
  },
  {
   "cell_type": "code",
   "execution_count": 2,
   "id": "3c6b44e3",
   "metadata": {},
   "outputs": [
    {
     "data": {
      "text/plain": [
       "array([1., 2., 3., 8., 4.])"
      ]
     },
     "execution_count": 2,
     "metadata": {},
     "output_type": "execute_result"
    }
   ],
   "source": [
    "f_arr = np.floor([1.1, 2.5, 3.6, 8.5, 4.5])\n",
    "f_arr"
   ]
  },
  {
   "cell_type": "code",
   "execution_count": 3,
   "id": "707324f5",
   "metadata": {},
   "outputs": [
    {
     "data": {
      "text/plain": [
       "array([2., 3., 4., 9., 5.])"
      ]
     },
     "execution_count": 3,
     "metadata": {},
     "output_type": "execute_result"
    }
   ],
   "source": [
    "f_ceil = np.ceil([1.1, 2.5, 3.6, 8.5, 4.5])\n",
    "f_ceil"
   ]
  },
  {
   "cell_type": "markdown",
   "id": "828f284c",
   "metadata": {},
   "source": [
    "### changing datatypes of np.array"
   ]
  },
  {
   "cell_type": "code",
   "execution_count": 4,
   "id": "4dd89efc",
   "metadata": {},
   "outputs": [
    {
     "name": "stdout",
     "output_type": "stream",
     "text": [
      "[1.0, 2.0, 3.0, 4.0, 5.0]\n"
     ]
    }
   ],
   "source": [
    "li = [1,2,3,4,5]\n",
    "float_list = [float(x) for x in li ]\n",
    "print(float_list)"
   ]
  },
  {
   "cell_type": "code",
   "execution_count": 5,
   "id": "9bceb666",
   "metadata": {},
   "outputs": [
    {
     "ename": "TypeError",
     "evalue": "float() argument must be a string or a number, not 'list'",
     "output_type": "error",
     "traceback": [
      "\u001b[1;31m---------------------------------------------------------------------------\u001b[0m",
      "\u001b[1;31mTypeError\u001b[0m                                 Traceback (most recent call last)",
      "Input \u001b[1;32mIn [5]\u001b[0m, in \u001b[0;36m<cell line: 1>\u001b[1;34m()\u001b[0m\n\u001b[1;32m----> 1\u001b[0m \u001b[38;5;28;43mfloat\u001b[39;49m\u001b[43m(\u001b[49m\u001b[43mli\u001b[49m\u001b[43m)\u001b[49m\n",
      "\u001b[1;31mTypeError\u001b[0m: float() argument must be a string or a number, not 'list'"
     ]
    }
   ],
   "source": [
    "float(li)"
   ]
  },
  {
   "cell_type": "code",
   "execution_count": 12,
   "id": "f5485ef5",
   "metadata": {},
   "outputs": [
    {
     "name": "stdout",
     "output_type": "stream",
     "text": [
      "[1.  2.  3.  4.  5.  2.5]\n",
      "<class 'numpy.ndarray'>\n",
      "[1.  2.  3.  4.  5.  2.5]\n"
     ]
    }
   ],
   "source": [
    "import numpy as np\n",
    "\n",
    "f_ar = np.array([1,2,3,4,5,2.5])\n",
    "print(f_ar)\n",
    "print(type(f_ar))\n",
    "print(f_ar.astype(float))"
   ]
  },
  {
   "cell_type": "code",
   "execution_count": 7,
   "id": "159bf1ee",
   "metadata": {},
   "outputs": [
    {
     "data": {
      "text/plain": [
       "dtype('float64')"
      ]
     },
     "execution_count": 7,
     "metadata": {},
     "output_type": "execute_result"
    }
   ],
   "source": [
    "f_ar.dtype"
   ]
  },
  {
   "cell_type": "code",
   "execution_count": 8,
   "id": "1f48c872",
   "metadata": {},
   "outputs": [
    {
     "data": {
      "text/plain": [
       "array([1.5, 2.6, 3.7, 4.2, 5. ])"
      ]
     },
     "execution_count": 8,
     "metadata": {},
     "output_type": "execute_result"
    }
   ],
   "source": [
    "int_arr = np.array([1.5,2.6,3.7,4.2,5])\n",
    "\n",
    "int_arr"
   ]
  },
  {
   "cell_type": "code",
   "execution_count": 11,
   "id": "c6db753d",
   "metadata": {},
   "outputs": [
    {
     "data": {
      "text/plain": [
       "array([1, 2, 3, 4, 5])"
      ]
     },
     "execution_count": 11,
     "metadata": {},
     "output_type": "execute_result"
    }
   ],
   "source": [
    "int_arr.astype(int)"
   ]
  },
  {
   "cell_type": "code",
   "execution_count": 17,
   "id": "5ec45e3d",
   "metadata": {},
   "outputs": [
    {
     "ename": "IndexError",
     "evalue": "invalid index to scalar variable.",
     "output_type": "error",
     "traceback": [
      "\u001b[1;31m---------------------------------------------------------------------------\u001b[0m",
      "\u001b[1;31mIndexError\u001b[0m                                Traceback (most recent call last)",
      "Input \u001b[1;32mIn [17]\u001b[0m, in \u001b[0;36m<cell line: 2>\u001b[1;34m()\u001b[0m\n\u001b[0;32m      1\u001b[0m arr \u001b[38;5;241m=\u001b[39m np\u001b[38;5;241m.\u001b[39marray([\u001b[38;5;241m1\u001b[39m,\u001b[38;5;241m2\u001b[39m,\u001b[38;5;241m3\u001b[39m,\u001b[38;5;241m4\u001b[39m,\u001b[38;5;241m6\u001b[39m,\u001b[38;5;241m7\u001b[39m,\u001b[38;5;241m8\u001b[39m,\u001b[38;5;241m9\u001b[39m])\n\u001b[1;32m----> 2\u001b[0m \u001b[43marr\u001b[49m\u001b[43m[\u001b[49m\u001b[38;5;241;43m0\u001b[39;49m\u001b[43m]\u001b[49m\u001b[43m[\u001b[49m\u001b[38;5;241;43m2\u001b[39;49m\u001b[43m]\u001b[49m\n",
      "\u001b[1;31mIndexError\u001b[0m: invalid index to scalar variable."
     ]
    }
   ],
   "source": [
    "arr = np.array([1,2,3,4,6,7,8,9])\n",
    "arr[0][2]"
   ]
  },
  {
   "cell_type": "code",
   "execution_count": 27,
   "id": "1ccc4f8f",
   "metadata": {},
   "outputs": [
    {
     "data": {
      "text/plain": [
       "3"
      ]
     },
     "execution_count": 27,
     "metadata": {},
     "output_type": "execute_result"
    }
   ],
   "source": [
    "arr = np.array([[1,2,3,4,6,7,8,9]])\n",
    "arr[0,2]"
   ]
  },
  {
   "cell_type": "code",
   "execution_count": 30,
   "id": "1db7dab7",
   "metadata": {},
   "outputs": [
    {
     "data": {
      "text/plain": [
       "9"
      ]
     },
     "execution_count": 30,
     "metadata": {},
     "output_type": "execute_result"
    }
   ],
   "source": [
    "arr = np.array([1,2,3,4,6,7,8,9])\n",
    "# arr[0]\n",
    "arr[-1]"
   ]
  },
  {
   "cell_type": "code",
   "execution_count": 33,
   "id": "6800b701",
   "metadata": {},
   "outputs": [
    {
     "data": {
      "text/plain": [
       "7"
      ]
     },
     "execution_count": 33,
     "metadata": {},
     "output_type": "execute_result"
    }
   ],
   "source": [
    "add_ele = arr[2] + arr[3]\n",
    "add_ele"
   ]
  },
  {
   "cell_type": "code",
   "execution_count": 42,
   "id": "e7592bb2",
   "metadata": {},
   "outputs": [
    {
     "name": "stdout",
     "output_type": "stream",
     "text": [
      "63\n"
     ]
    }
   ],
   "source": [
    "multi_ele = arr[5] * arr[-1]\n",
    "print(multi_ele)"
   ]
  },
  {
   "cell_type": "markdown",
   "id": "8f3dfdf7",
   "metadata": {},
   "source": [
    "## Accecing array from 2-dimentional array"
   ]
  },
  {
   "cell_type": "code",
   "execution_count": 49,
   "id": "472f7b8a",
   "metadata": {},
   "outputs": [
    {
     "name": "stdout",
     "output_type": "stream",
     "text": [
      "2nd element on 1st row:  2\n",
      "1st element on 2st row:  6\n",
      "last element on 2st row:  10\n",
      "last array:  [ 6  7  8  9 10]\n",
      "1st array:  [1 2 3 4 5]\n"
     ]
    }
   ],
   "source": [
    "arr = np.array([[1,2,3,4,5], \n",
    "                [6,7,8,9,10]])\n",
    "\n",
    "print('2nd element on 1st row: ', arr[0, 1])\n",
    "print('1st element on 2st row: ', arr[1, 0])\n",
    "print('last element on 2st row: ', arr[1, -1])\n",
    "print('last array: ', arr[-1])\n",
    "print('1st array: ', arr[0])"
   ]
  },
  {
   "cell_type": "markdown",
   "id": "d1846fca",
   "metadata": {},
   "source": [
    "### Accesing Three Dimentional arrays "
   ]
  },
  {
   "cell_type": "code",
   "execution_count": 66,
   "id": "cd79d6bd",
   "metadata": {},
   "outputs": [
    {
     "data": {
      "text/plain": [
       "2"
      ]
     },
     "execution_count": 66,
     "metadata": {},
     "output_type": "execute_result"
    }
   ],
   "source": [
    "arr_list = np.array([[[1,2,3], [4,5,6]], [[7,8,9],[10,11,12]]])\n",
    "\n",
    "arr_list[0][0,1]"
   ]
  },
  {
   "cell_type": "code",
   "execution_count": 74,
   "id": "30dc4402",
   "metadata": {},
   "outputs": [
    {
     "name": "stdout",
     "output_type": "stream",
     "text": [
      "1\n",
      "4\n",
      "6\n"
     ]
    }
   ],
   "source": [
    "arr_list = np.array([[[1,2,3], [4,5,6]], [[7,8,9],[10,11,12]]])\n",
    "print(arr_list[0,0][0])\n",
    "print(arr_list[0,1][0])\n",
    "print(arr_list[0,1][2])"
   ]
  },
  {
   "cell_type": "code",
   "execution_count": null,
   "id": "9905b775",
   "metadata": {},
   "outputs": [],
   "source": []
  },
  {
   "cell_type": "markdown",
   "id": "9f9d7d0c",
   "metadata": {},
   "source": [
    "### proof of ho numpy is faster than python list"
   ]
  },
  {
   "cell_type": "code",
   "execution_count": 79,
   "id": "480989fe",
   "metadata": {},
   "outputs": [
    {
     "name": "stdout",
     "output_type": "stream",
     "text": [
      "time taken by python list: 0.3510873317718506\n",
      "--------------------------------------------------\n",
      "time taken by numpy array: 0.0\n"
     ]
    }
   ],
   "source": [
    "import numpy as np\n",
    "import time\n",
    "\n",
    "num = 1000000\n",
    "lis3 = []\n",
    "\n",
    "list1 = range(num)\n",
    "list2 = range(num)\n",
    "\n",
    "start_time  = time.time()\n",
    "for i in range(len(list1)):\n",
    "    lis3.append(list1[i] * list2[i])\n",
    "    \n",
    "end_time = time.time()\n",
    "print(f\"time taken by python list: {end_time - start_time}\")\n",
    "\n",
    "print(\"-\"*50)\n",
    "\n",
    "\n",
    "a1 = np.array(num)\n",
    "a2 = np.array(num)\n",
    "\n",
    "np_start_time = time.time()\n",
    "r = a1 * a2\n",
    "np_end_time = time.time()\n",
    "print(f\"time taken by numpy array: {np_end_time - np_start_time}\")"
   ]
  },
  {
   "cell_type": "code",
   "execution_count": 108,
   "id": "cc09dd42",
   "metadata": {},
   "outputs": [
    {
     "name": "stdout",
     "output_type": "stream",
     "text": [
      "[1 2 3 4 5]\n"
     ]
    }
   ],
   "source": [
    "int_arr = np.array([1.5,2.6,3.7,4.2,5],dtype =int)\n",
    "\n",
    "int_arr.dtype\n",
    "print(int_arr)"
   ]
  },
  {
   "cell_type": "code",
   "execution_count": 96,
   "id": "f8483855",
   "metadata": {},
   "outputs": [
    {
     "data": {
      "text/plain": [
       "array([1, 2, 3, 4, 5])"
      ]
     },
     "execution_count": 96,
     "metadata": {},
     "output_type": "execute_result"
    }
   ],
   "source": [
    "int_arr.astype(int)"
   ]
  },
  {
   "cell_type": "code",
   "execution_count": 109,
   "id": "e2437d76",
   "metadata": {},
   "outputs": [
    {
     "name": "stdout",
     "output_type": "stream",
     "text": [
      "[1 2 3 4 5]\n"
     ]
    }
   ],
   "source": [
    "int_arr = np.array((1.5,2.6,3.7,4.2,5),dtype =int)\n",
    "\n",
    "int_arr.dtype\n",
    "print(int_arr)"
   ]
  },
  {
   "cell_type": "code",
   "execution_count": 114,
   "id": "07b92a0d",
   "metadata": {},
   "outputs": [
    {
     "name": "stdout",
     "output_type": "stream",
     "text": [
      "object\n",
      "{1.5, 2.6, 3.7, 4.2, 5}\n"
     ]
    }
   ],
   "source": [
    "int_arr = np.array({1.5,2.6,3.7,4.2,5})\n",
    "print(int_arr.dtype)\n",
    "print(int_arr)"
   ]
  },
  {
   "cell_type": "code",
   "execution_count": null,
   "id": "50028e6a",
   "metadata": {},
   "outputs": [],
   "source": []
  }
 ],
 "metadata": {
  "kernelspec": {
   "display_name": "Python 3 (ipykernel)",
   "language": "python",
   "name": "python3"
  },
  "language_info": {
   "codemirror_mode": {
    "name": "ipython",
    "version": 3
   },
   "file_extension": ".py",
   "mimetype": "text/x-python",
   "name": "python",
   "nbconvert_exporter": "python",
   "pygments_lexer": "ipython3",
   "version": "3.9.12"
  }
 },
 "nbformat": 4,
 "nbformat_minor": 5
}
