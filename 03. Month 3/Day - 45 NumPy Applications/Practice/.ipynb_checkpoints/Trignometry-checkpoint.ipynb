{
 "cells": [
  {
   "cell_type": "code",
   "execution_count": 1,
   "id": "96d108bd",
   "metadata": {},
   "outputs": [],
   "source": [
    "import numpy as np"
   ]
  },
  {
   "cell_type": "code",
   "execution_count": 2,
   "id": "e05fa008",
   "metadata": {},
   "outputs": [
    {
     "name": "stdout",
     "output_type": "stream",
     "text": [
      "3.141592653589793\n"
     ]
    }
   ],
   "source": [
    "Pi = np.pi\n",
    "\n",
    "print(Pi)"
   ]
  },
  {
   "cell_type": "code",
   "execution_count": 3,
   "id": "a76eb055",
   "metadata": {},
   "outputs": [
    {
     "data": {
      "text/plain": [
       "0.49999999999999994"
      ]
     },
     "execution_count": 3,
     "metadata": {},
     "output_type": "execute_result"
    }
   ],
   "source": [
    "sin_30 = np.sin(Pi/6)\n",
    "sin_30"
   ]
  },
  {
   "cell_type": "code",
   "execution_count": 4,
   "id": "5485750c",
   "metadata": {},
   "outputs": [
    {
     "data": {
      "text/plain": [
       "0.7071067811865476"
      ]
     },
     "execution_count": 4,
     "metadata": {},
     "output_type": "execute_result"
    }
   ],
   "source": [
    "sin_45 = np.sin(Pi/4)\n",
    "sin_45"
   ]
  },
  {
   "cell_type": "code",
   "execution_count": 5,
   "id": "6bbc8885",
   "metadata": {},
   "outputs": [
    {
     "data": {
      "text/plain": [
       "0.7071067811865475"
      ]
     },
     "execution_count": 5,
     "metadata": {},
     "output_type": "execute_result"
    }
   ],
   "source": [
    "1/np.sqrt(2)"
   ]
  },
  {
   "cell_type": "code",
   "execution_count": 6,
   "id": "2bb3aee1",
   "metadata": {},
   "outputs": [
    {
     "data": {
      "text/plain": [
       "1.633123935319537e+16"
      ]
     },
     "execution_count": 6,
     "metadata": {},
     "output_type": "execute_result"
    }
   ],
   "source": [
    "tan_90 = np.tan(Pi/2)\n",
    "tan_90"
   ]
  },
  {
   "cell_type": "code",
   "execution_count": 7,
   "id": "402bc786",
   "metadata": {},
   "outputs": [
    {
     "name": "stdout",
     "output_type": "stream",
     "text": [
      "1.414213562373095\n"
     ]
    }
   ],
   "source": [
    "cosec_45 = 1 / np.sin(Pi/4)\n",
    "print(cosec_45)"
   ]
  },
  {
   "cell_type": "code",
   "execution_count": 8,
   "id": "04da6848",
   "metadata": {},
   "outputs": [
    {
     "data": {
      "text/plain": [
       "0.7071067811865475"
      ]
     },
     "execution_count": 8,
     "metadata": {},
     "output_type": "execute_result"
    }
   ],
   "source": [
    "1/np.sqrt(2)"
   ]
  },
  {
   "cell_type": "code",
   "execution_count": 10,
   "id": "3402b48e",
   "metadata": {},
   "outputs": [
    {
     "data": {
      "text/plain": [
       "0.5773502691896258"
      ]
     },
     "execution_count": 10,
     "metadata": {},
     "output_type": "execute_result"
    }
   ],
   "source": [
    "1/np.sqrt(3)"
   ]
  },
  {
   "cell_type": "code",
   "execution_count": 18,
   "id": "9b7cd66d",
   "metadata": {},
   "outputs": [
    {
     "name": "stdout",
     "output_type": "stream",
     "text": [
      "radian values are: \n",
      " [0.52359878 0.78539816 1.04719755 1.57079633 3.14159265 4.71238898\n",
      " 6.28318531]\n"
     ]
    }
   ],
   "source": [
    "degrees = np.array([30,45,60,90,180,270,360])\n",
    "\n",
    "radian_values = np.deg2rad(degrees)\n",
    "print(f\"radian values are: \\n {radian_values}\")"
   ]
  },
  {
   "cell_type": "code",
   "execution_count": null,
   "id": "38efc0a9",
   "metadata": {},
   "outputs": [],
   "source": []
  },
  {
   "cell_type": "code",
   "execution_count": 28,
   "id": "0407b7d7",
   "metadata": {},
   "outputs": [
    {
     "name": "stdout",
     "output_type": "stream",
     "text": [
      "degres are: [ 30.00000025  44.99999981  59.99999993  90.00000018 179.99999979\n",
      " 269.99999998 360.00000016]\n"
     ]
    }
   ],
   "source": [
    "radians = np.array([0.52359878, 0.78539816, 1.04719755, 1.57079633, 3.14159265, 4.71238898,\n",
    " 6.28318531])\n",
    "\n",
    "degree_value = np.rad2deg(radians)\n",
    "print(f\"degres are: {degree_value}\")"
   ]
  },
  {
   "cell_type": "code",
   "execution_count": null,
   "id": "3df0cf09",
   "metadata": {},
   "outputs": [],
   "source": []
  }
 ],
 "metadata": {
  "kernelspec": {
   "display_name": "Python 3 (ipykernel)",
   "language": "python",
   "name": "python3"
  },
  "language_info": {
   "codemirror_mode": {
    "name": "ipython",
    "version": 3
   },
   "file_extension": ".py",
   "mimetype": "text/x-python",
   "name": "python",
   "nbconvert_exporter": "python",
   "pygments_lexer": "ipython3",
   "version": "3.9.12"
  }
 },
 "nbformat": 4,
 "nbformat_minor": 5
}
