{
 "cells": [
  {
   "cell_type": "code",
   "execution_count": 1,
   "id": "e526a0cf",
   "metadata": {},
   "outputs": [],
   "source": [
    "import numpy as np"
   ]
  },
  {
   "cell_type": "code",
   "execution_count": 8,
   "id": "67ffad12",
   "metadata": {},
   "outputs": [
    {
     "data": {
      "text/plain": [
       "1.796"
      ]
     },
     "execution_count": 8,
     "metadata": {},
     "output_type": "execute_result"
    }
   ],
   "source": [
    "num = np.around(1.7955333,3)\n",
    "num"
   ]
  },
  {
   "cell_type": "code",
   "execution_count": 10,
   "id": "ac87f8c0",
   "metadata": {},
   "outputs": [
    {
     "data": {
      "text/plain": [
       "1.43"
      ]
     },
     "execution_count": 10,
     "metadata": {},
     "output_type": "execute_result"
    }
   ],
   "source": [
    "num = np.around(1.4333,2)\n",
    "num"
   ]
  },
  {
   "cell_type": "markdown",
   "id": "27292121",
   "metadata": {},
   "source": [
    "## np.where()"
   ]
  },
  {
   "cell_type": "code",
   "execution_count": 12,
   "id": "b14bb31a",
   "metadata": {},
   "outputs": [
    {
     "name": "stdout",
     "output_type": "stream",
     "text": [
      "[ 1  2  3  4  5  6  7  8  9 10]\n"
     ]
    },
    {
     "data": {
      "text/plain": [
       "(array([1, 3, 5, 7, 9], dtype=int64),)"
      ]
     },
     "execution_count": 12,
     "metadata": {},
     "output_type": "execute_result"
    }
   ],
   "source": [
    "arr = np.arange(1,11)\n",
    "print(arr)\n",
    "np.where(arr % 2 == 0)"
   ]
  },
  {
   "cell_type": "code",
   "execution_count": 16,
   "id": "fb269487",
   "metadata": {},
   "outputs": [
    {
     "name": "stdout",
     "output_type": "stream",
     "text": [
      "['m' 'a' 'c' 'h' 'i' 'n' 'e' ' ' 'l' 'e' 'a' 'r' 'n' 'i' 'n' 'g' ' ' 'a'\n",
      " 'n' 'd' ' ' 'd' 'a' 't' 'a' ' ' 's' 'c' 'i' 'e' 'n' 'c' 'e']\n",
      "[1, 10, 17, 22, 24]\n"
     ]
    }
   ],
   "source": [
    "str1 = \"Machine Learning and data science\"\n",
    "\n",
    "arr = np.array(list(str1.lower()))\n",
    "print(arr)\n",
    "arr1 = np.where(arr == \"a\")[0].tolist()\n",
    "print(arr1)"
   ]
  },
  {
   "cell_type": "code",
   "execution_count": 17,
   "id": "aabc4e6e",
   "metadata": {},
   "outputs": [
    {
     "ename": "TypeError",
     "evalue": "can only concatenate list (not \"int\") to list",
     "output_type": "error",
     "traceback": [
      "\u001b[1;31m---------------------------------------------------------------------------\u001b[0m",
      "\u001b[1;31mTypeError\u001b[0m                                 Traceback (most recent call last)",
      "Input \u001b[1;32mIn [17]\u001b[0m, in \u001b[0;36m<cell line: 3>\u001b[1;34m()\u001b[0m\n\u001b[0;32m      1\u001b[0m p_list \u001b[38;5;241m=\u001b[39m [\u001b[38;5;241m1\u001b[39m, \u001b[38;5;241m10\u001b[39m, \u001b[38;5;241m17\u001b[39m, \u001b[38;5;241m22\u001b[39m, \u001b[38;5;241m24\u001b[39m]\n\u001b[1;32m----> 3\u001b[0m \u001b[43mp_list\u001b[49m\u001b[43m \u001b[49m\u001b[38;5;241;43m+\u001b[39;49m\u001b[43m \u001b[49m\u001b[38;5;241;43m1\u001b[39;49m\n",
      "\u001b[1;31mTypeError\u001b[0m: can only concatenate list (not \"int\") to list"
     ]
    }
   ],
   "source": [
    "p_list = [1, 10, 17, 22, 24]\n",
    "\n",
    "p_list + 1"
   ]
  },
  {
   "cell_type": "markdown",
   "id": "620dd4b0",
   "metadata": {},
   "source": [
    "## np.add()"
   ]
  },
  {
   "cell_type": "code",
   "execution_count": 46,
   "id": "a13140ec",
   "metadata": {},
   "outputs": [
    {
     "name": "stdout",
     "output_type": "stream",
     "text": [
      "[[17 28]\n",
      " [39 46]]\n"
     ]
    }
   ],
   "source": [
    "arr1 = np.array([[7,8], [9,6]])\n",
    "\n",
    "arr2 = np.array([[10,20], [30,40]])\n",
    "\n",
    "add = arr1 + arr2\n",
    "print(add)"
   ]
  },
  {
   "cell_type": "code",
   "execution_count": 47,
   "id": "5e0399e4",
   "metadata": {},
   "outputs": [
    {
     "data": {
      "text/plain": [
       "array([[17, 28],\n",
       "       [39, 46]])"
      ]
     },
     "execution_count": 47,
     "metadata": {},
     "output_type": "execute_result"
    }
   ],
   "source": [
    "addition = np.add(arr1, arr2)\n",
    "addition"
   ]
  },
  {
   "cell_type": "code",
   "execution_count": null,
   "id": "165c4dc3",
   "metadata": {},
   "outputs": [],
   "source": []
  },
  {
   "cell_type": "code",
   "execution_count": 48,
   "id": "ec132516",
   "metadata": {},
   "outputs": [
    {
     "data": {
      "text/plain": [
       "array([[ -3, -12],\n",
       "       [-21, -34]])"
      ]
     },
     "execution_count": 48,
     "metadata": {},
     "output_type": "execute_result"
    }
   ],
   "source": [
    "sub = np.subtract(arr1, arr2)\n",
    "sub"
   ]
  },
  {
   "cell_type": "code",
   "execution_count": 49,
   "id": "65c8fc14",
   "metadata": {},
   "outputs": [
    {
     "name": "stdout",
     "output_type": "stream",
     "text": [
      "[[ 70 160]\n",
      " [270 240]]\n"
     ]
    }
   ],
   "source": [
    "multi = np.multiply(arr1, arr2)\n",
    "print(multi)"
   ]
  },
  {
   "cell_type": "code",
   "execution_count": 50,
   "id": "46519a44",
   "metadata": {},
   "outputs": [
    {
     "data": {
      "text/plain": [
       "array([[0.7 , 0.4 ],\n",
       "       [0.3 , 0.15]])"
      ]
     },
     "execution_count": 50,
     "metadata": {},
     "output_type": "execute_result"
    }
   ],
   "source": [
    "div = np.divide(arr1, arr2)\n",
    "div"
   ]
  },
  {
   "cell_type": "code",
   "execution_count": 51,
   "id": "df2707f2",
   "metadata": {},
   "outputs": [
    {
     "data": {
      "text/plain": [
       "array([[7, 8],\n",
       "       [9, 6]])"
      ]
     },
     "execution_count": 51,
     "metadata": {},
     "output_type": "execute_result"
    }
   ],
   "source": [
    "arr1"
   ]
  },
  {
   "cell_type": "code",
   "execution_count": 52,
   "id": "8060f274",
   "metadata": {},
   "outputs": [
    {
     "data": {
      "text/plain": [
       "array([[10, 20],\n",
       "       [30, 40]])"
      ]
     },
     "execution_count": 52,
     "metadata": {},
     "output_type": "execute_result"
    }
   ],
   "source": [
    "arr2"
   ]
  },
  {
   "cell_type": "code",
   "execution_count": 53,
   "id": "ec497723",
   "metadata": {},
   "outputs": [
    {
     "name": "stdout",
     "output_type": "stream",
     "text": [
      "[[310 460]\n",
      " [270 420]]\n"
     ]
    }
   ],
   "source": [
    "product_matrix = np.dot(arr1, arr2)\n",
    "print(product_matrix)"
   ]
  },
  {
   "cell_type": "code",
   "execution_count": 56,
   "id": "df50949c",
   "metadata": {},
   "outputs": [
    {
     "name": "stdout",
     "output_type": "stream",
     "text": [
      "[[1 2]\n",
      " [3 4]] \n",
      "\n",
      "[[5 6]\n",
      " [7 8]]\n"
     ]
    },
    {
     "data": {
      "text/plain": [
       "array([[19, 22],\n",
       "       [43, 50]])"
      ]
     },
     "execution_count": 56,
     "metadata": {},
     "output_type": "execute_result"
    }
   ],
   "source": [
    "a = np.array([[1,2],[3,4]])\n",
    "b = np.array([[5,6],[7,8]])\n",
    "print(a,\"\\n\")\n",
    "print(b)\n",
    "pro = np.dot(a,b)\n",
    "pro"
   ]
  },
  {
   "cell_type": "code",
   "execution_count": null,
   "id": "73a150ec",
   "metadata": {},
   "outputs": [],
   "source": []
  },
  {
   "cell_type": "code",
   "execution_count": 61,
   "id": "f4e34eaf",
   "metadata": {},
   "outputs": [
    {
     "data": {
      "text/plain": [
       "array([[310, 460],\n",
       "       [270, 420]])"
      ]
     },
     "execution_count": 61,
     "metadata": {},
     "output_type": "execute_result"
    }
   ],
   "source": [
    "def mydot(arr1, arr2):\n",
    "     return sum([x*y for x,y in zip(arr1, arr2)])\n",
    "\n",
    "def matmulvec(M, v):\n",
    "    pro_mat = [mydot(r,v) for r in M]\n",
    "    return np.reshape(pro_mat,[2,2])\n",
    "\n",
    "matmulvec(arr1,arr2)"
   ]
  },
  {
   "cell_type": "code",
   "execution_count": 62,
   "id": "2f7da32b",
   "metadata": {},
   "outputs": [
    {
     "data": {
      "text/plain": [
       "array([[19, 22],\n",
       "       [43, 50]])"
      ]
     },
     "execution_count": 62,
     "metadata": {},
     "output_type": "execute_result"
    }
   ],
   "source": [
    "matmulvec(a,b)"
   ]
  },
  {
   "cell_type": "code",
   "execution_count": 65,
   "id": "b5a95d5e",
   "metadata": {},
   "outputs": [
    {
     "name": "stdout",
     "output_type": "stream",
     "text": [
      "[[7 8]\n",
      " [9 6]]\n",
      "\n",
      "[[10 20]\n",
      " [30 40]]\n"
     ]
    }
   ],
   "source": [
    "print(arr1)\n",
    "print()\n",
    "print(arr2)"
   ]
  },
  {
   "cell_type": "code",
   "execution_count": 72,
   "id": "13402851",
   "metadata": {},
   "outputs": [
    {
     "name": "stdout",
     "output_type": "stream",
     "text": [
      "[(array([7, 8]), array([10, 20])), (array([9, 6]), array([30, 40]))]\n"
     ]
    }
   ],
   "source": [
    "l = list(zip(arr1, arr2))\n",
    "print(l)"
   ]
  },
  {
   "cell_type": "code",
   "execution_count": 71,
   "id": "472a38ac",
   "metadata": {},
   "outputs": [
    {
     "name": "stdout",
     "output_type": "stream",
     "text": [
      "230\n",
      "510\n"
     ]
    }
   ],
   "source": [
    "for x,y in l:\n",
    "    print(sum(x*y))"
   ]
  },
  {
   "cell_type": "markdown",
   "id": "c75572a2",
   "metadata": {},
   "source": [
    "## Trignometry"
   ]
  },
  {
   "cell_type": "code",
   "execution_count": 82,
   "id": "3f2d60d7",
   "metadata": {},
   "outputs": [
    {
     "name": "stdout",
     "output_type": "stream",
     "text": [
      "3.141592653589793\n"
     ]
    }
   ],
   "source": [
    "PI = np.pi\n",
    "print(PI)"
   ]
  },
  {
   "cell_type": "code",
   "execution_count": 77,
   "id": "b70f897f",
   "metadata": {},
   "outputs": [
    {
     "data": {
      "text/plain": [
       "3.0"
      ]
     },
     "execution_count": 77,
     "metadata": {},
     "output_type": "execute_result"
    }
   ],
   "source": [
    "# 30\n",
    "# Pi / 3\n",
    "180/60"
   ]
  },
  {
   "cell_type": "code",
   "execution_count": 80,
   "id": "0050ef31",
   "metadata": {},
   "outputs": [
    {
     "data": {
      "text/plain": [
       "6.0"
      ]
     },
     "execution_count": 80,
     "metadata": {},
     "output_type": "execute_result"
    }
   ],
   "source": [
    "# \n",
    "180/30"
   ]
  },
  {
   "cell_type": "code",
   "execution_count": 81,
   "id": "97d199db",
   "metadata": {},
   "outputs": [
    {
     "data": {
      "text/plain": [
       "4.0"
      ]
     },
     "execution_count": 81,
     "metadata": {},
     "output_type": "execute_result"
    }
   ],
   "source": [
    "180/45"
   ]
  },
  {
   "cell_type": "code",
   "execution_count": 88,
   "id": "2f62e06d",
   "metadata": {},
   "outputs": [
    {
     "data": {
      "text/plain": [
       "6.283185307179586"
      ]
     },
     "execution_count": 88,
     "metadata": {},
     "output_type": "execute_result"
    }
   ],
   "source": [
    "# 360\n",
    "PI * 2"
   ]
  },
  {
   "cell_type": "code",
   "execution_count": null,
   "id": "80d78787",
   "metadata": {},
   "outputs": [],
   "source": []
  },
  {
   "cell_type": "code",
   "execution_count": null,
   "id": "eaaaae9a",
   "metadata": {},
   "outputs": [],
   "source": []
  },
  {
   "cell_type": "code",
   "execution_count": 89,
   "id": "807f249d",
   "metadata": {},
   "outputs": [
    {
     "data": {
      "text/plain": [
       "1.0"
      ]
     },
     "execution_count": 89,
     "metadata": {},
     "output_type": "execute_result"
    }
   ],
   "source": [
    "np.sin(PI/2)"
   ]
  },
  {
   "cell_type": "code",
   "execution_count": 91,
   "id": "9d988beb",
   "metadata": {},
   "outputs": [
    {
     "data": {
      "text/plain": [
       "0.7071067811865475"
      ]
     },
     "execution_count": 91,
     "metadata": {},
     "output_type": "execute_result"
    }
   ],
   "source": [
    "1/np.sqrt(2)"
   ]
  },
  {
   "cell_type": "code",
   "execution_count": 93,
   "id": "757da37c",
   "metadata": {},
   "outputs": [
    {
     "data": {
      "text/plain": [
       "0.5773502691896258"
      ]
     },
     "execution_count": 93,
     "metadata": {},
     "output_type": "execute_result"
    }
   ],
   "source": [
    "1/np.sqrt(3)"
   ]
  },
  {
   "cell_type": "code",
   "execution_count": 94,
   "id": "ec15100a",
   "metadata": {},
   "outputs": [
    {
     "data": {
      "text/plain": [
       "1.7320508075688772"
      ]
     },
     "execution_count": 94,
     "metadata": {},
     "output_type": "execute_result"
    }
   ],
   "source": [
    "np.sqrt(3)"
   ]
  },
  {
   "cell_type": "code",
   "execution_count": 100,
   "id": "3b51421e",
   "metadata": {},
   "outputs": [
    {
     "name": "stdout",
     "output_type": "stream",
     "text": [
      "[ 8  9 10 11 12 13 14]\n"
     ]
    },
    {
     "data": {
      "text/plain": [
       "ModeResult(mode=array([8]), count=array([1]))"
      ]
     },
     "execution_count": 100,
     "metadata": {},
     "output_type": "execute_result"
    }
   ],
   "source": [
    "from scipy import stats\n",
    "v = np.arange(8,15)\n",
    "print(v)\n",
    "s = stats.mode(v)\n",
    "s"
   ]
  },
  {
   "cell_type": "code",
   "execution_count": 102,
   "id": "bd420cc3",
   "metadata": {},
   "outputs": [
    {
     "data": {
      "text/plain": [
       "8"
      ]
     },
     "execution_count": 102,
     "metadata": {},
     "output_type": "execute_result"
    }
   ],
   "source": [
    "s[0][0]"
   ]
  },
  {
   "cell_type": "code",
   "execution_count": 103,
   "id": "ae796f4a",
   "metadata": {},
   "outputs": [
    {
     "data": {
      "text/plain": [
       "array([1])"
      ]
     },
     "execution_count": 103,
     "metadata": {},
     "output_type": "execute_result"
    }
   ],
   "source": [
    "s[1]"
   ]
  },
  {
   "cell_type": "code",
   "execution_count": 104,
   "id": "46fcf547",
   "metadata": {},
   "outputs": [
    {
     "data": {
      "text/plain": [
       "1"
      ]
     },
     "execution_count": 104,
     "metadata": {},
     "output_type": "execute_result"
    }
   ],
   "source": [
    "s[1][0]"
   ]
  },
  {
   "cell_type": "code",
   "execution_count": 112,
   "id": "d68041b7",
   "metadata": {},
   "outputs": [
    {
     "data": {
      "text/plain": [
       "array([1, 1])"
      ]
     },
     "execution_count": 112,
     "metadata": {},
     "output_type": "execute_result"
    }
   ],
   "source": [
    "np.full(2,1)"
   ]
  },
  {
   "cell_type": "code",
   "execution_count": 113,
   "id": "c013f616",
   "metadata": {},
   "outputs": [
    {
     "name": "stdout",
     "output_type": "stream",
     "text": [
      "()\n"
     ]
    }
   ],
   "source": [
    "b = np.array(100)\n",
    "\n",
    "print(b.shape)"
   ]
  },
  {
   "cell_type": "code",
   "execution_count": 115,
   "id": "65fa3bfb",
   "metadata": {},
   "outputs": [
    {
     "name": "stdout",
     "output_type": "stream",
     "text": [
      "(2,)\n"
     ]
    }
   ],
   "source": [
    "b = np.array([100,200])\n",
    "\n",
    "print(b.shape)"
   ]
  },
  {
   "cell_type": "code",
   "execution_count": null,
   "id": "79bb785c",
   "metadata": {},
   "outputs": [],
   "source": []
  }
 ],
 "metadata": {
  "kernelspec": {
   "display_name": "Python 3 (ipykernel)",
   "language": "python",
   "name": "python3"
  },
  "language_info": {
   "codemirror_mode": {
    "name": "ipython",
    "version": 3
   },
   "file_extension": ".py",
   "mimetype": "text/x-python",
   "name": "python",
   "nbconvert_exporter": "python",
   "pygments_lexer": "ipython3",
   "version": "3.9.12"
  }
 },
 "nbformat": 4,
 "nbformat_minor": 5
}
