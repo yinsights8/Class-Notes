{
 "cells": [
  {
   "cell_type": "markdown",
   "id": "150d729a",
   "metadata": {},
   "source": [
    "## 1. numpy.ceil()\n",
    "- it will return a incremented value \n",
    "- 3.1 --> 4.0\n",
    "- 3.5 --> 4.0\n",
    "- 4.9 --> 5.0\n",
    "- 5.5 --> 6.0"
   ]
  },
  {
   "cell_type": "code",
   "execution_count": 2,
   "id": "486e6c59",
   "metadata": {},
   "outputs": [
    {
     "name": "stdout",
     "output_type": "stream",
     "text": [
      "[ 2.  3.  4. 10.  8.]\n"
     ]
    }
   ],
   "source": [
    "import numpy as np\n",
    "\n",
    "ceil_arr = np.ceil(np.array([1.1,2.5,3.6,9.4,7.5]))\n",
    "print(ceil_arr)"
   ]
  },
  {
   "cell_type": "code",
   "execution_count": 4,
   "id": "7cd8c76b",
   "metadata": {},
   "outputs": [
    {
     "name": "stdout",
     "output_type": "stream",
     "text": [
      "[ 2.  3.  4. 10.  8.]\n"
     ]
    }
   ],
   "source": [
    "ar1 = np.array([1.1,2.5,3.6,9.4,7.5])\n",
    "\n",
    "nw_ar = np.ceil(ar1)\n",
    "print(nw_ar)"
   ]
  },
  {
   "cell_type": "markdown",
   "id": "47947083",
   "metadata": {},
   "source": [
    "## np.floor()\n",
    "- it returns smaller value than current value \n",
    "- it's only ignores decimal point numbers and returns intiger number \n",
    "\n",
    "- 3.1 = 3\n",
    "- 5.9 = 5\n",
    "- 9.9 = 9"
   ]
  },
  {
   "cell_type": "code",
   "execution_count": 9,
   "id": "4dec8b59",
   "metadata": {},
   "outputs": [
    {
     "data": {
      "text/plain": [
       "2"
      ]
     },
     "execution_count": 9,
     "metadata": {},
     "output_type": "execute_result"
    }
   ],
   "source": [
    "5 // 2"
   ]
  },
  {
   "cell_type": "code",
   "execution_count": 10,
   "id": "b09625a3",
   "metadata": {},
   "outputs": [
    {
     "data": {
      "text/plain": [
       "2.5"
      ]
     },
     "execution_count": 10,
     "metadata": {},
     "output_type": "execute_result"
    }
   ],
   "source": [
    "5 / 2"
   ]
  },
  {
   "cell_type": "code",
   "execution_count": 11,
   "id": "0f5c2d15",
   "metadata": {},
   "outputs": [
    {
     "data": {
      "text/plain": [
       "3.5"
      ]
     },
     "execution_count": 11,
     "metadata": {},
     "output_type": "execute_result"
    }
   ],
   "source": [
    "7/2"
   ]
  },
  {
   "cell_type": "code",
   "execution_count": 12,
   "id": "5c7beb95",
   "metadata": {},
   "outputs": [
    {
     "data": {
      "text/plain": [
       "3"
      ]
     },
     "execution_count": 12,
     "metadata": {},
     "output_type": "execute_result"
    }
   ],
   "source": [
    "7//2"
   ]
  },
  {
   "cell_type": "code",
   "execution_count": 14,
   "id": "2c00789f",
   "metadata": {},
   "outputs": [
    {
     "data": {
      "text/plain": [
       "array([1., 3., 6., 4.])"
      ]
     },
     "execution_count": 14,
     "metadata": {},
     "output_type": "execute_result"
    }
   ],
   "source": [
    "np.floor([1.5, 3.9, 6.9, 4.6])"
   ]
  },
  {
   "cell_type": "code",
   "execution_count": 15,
   "id": "a645437e",
   "metadata": {},
   "outputs": [
    {
     "data": {
      "text/plain": [
       "array([5., 6., 8., 9., 7.])"
      ]
     },
     "execution_count": 15,
     "metadata": {},
     "output_type": "execute_result"
    }
   ],
   "source": [
    "np.floor([5.5,6.6,8.8,9.9,7.7])"
   ]
  },
  {
   "cell_type": "markdown",
   "id": "c07da10f",
   "metadata": {},
   "source": [
    "## np.around()\n",
    "- it returns the round of numbers\n",
    "- it is similar to python inbuild round funcion"
   ]
  },
  {
   "cell_type": "code",
   "execution_count": 18,
   "id": "7a3e215a",
   "metadata": {},
   "outputs": [
    {
     "data": {
      "text/plain": [
       "2"
      ]
     },
     "execution_count": 18,
     "metadata": {},
     "output_type": "execute_result"
    }
   ],
   "source": [
    "n = round(1.5698)\n",
    "n"
   ]
  },
  {
   "cell_type": "code",
   "execution_count": 19,
   "id": "297f542f",
   "metadata": {},
   "outputs": [
    {
     "data": {
      "text/plain": [
       "1.57"
      ]
     },
     "execution_count": 19,
     "metadata": {},
     "output_type": "execute_result"
    }
   ],
   "source": [
    "n = round(1.5698,2)\n",
    "n"
   ]
  },
  {
   "cell_type": "code",
   "execution_count": 25,
   "id": "08306428",
   "metadata": {},
   "outputs": [
    {
     "data": {
      "text/plain": [
       "1.7796"
      ]
     },
     "execution_count": 25,
     "metadata": {},
     "output_type": "execute_result"
    }
   ],
   "source": [
    "n2 = round(1.779635412,4)\n",
    "n2"
   ]
  },
  {
   "cell_type": "code",
   "execution_count": 27,
   "id": "f9bb44d2",
   "metadata": {},
   "outputs": [
    {
     "data": {
      "text/plain": [
       "array([1.46, 2.59, 7.9 , 9.57])"
      ]
     },
     "execution_count": 27,
     "metadata": {},
     "output_type": "execute_result"
    }
   ],
   "source": [
    "rounded_num = np.around([1.45693, 2.58963, 7.8963211, 9.56644823], 2)\n",
    "rounded_num"
   ]
  },
  {
   "cell_type": "code",
   "execution_count": 28,
   "id": "b42532d3",
   "metadata": {},
   "outputs": [
    {
     "data": {
      "text/plain": [
       "array([ 1.,  3.,  8., 10.])"
      ]
     },
     "execution_count": 28,
     "metadata": {},
     "output_type": "execute_result"
    }
   ],
   "source": [
    "rounded_num = np.around([1.45693, 2.58963, 7.8963211, 9.56644823])\n",
    "rounded_num"
   ]
  },
  {
   "cell_type": "code",
   "execution_count": null,
   "id": "137b20d5",
   "metadata": {},
   "outputs": [],
   "source": []
  },
  {
   "cell_type": "markdown",
   "id": "eb7bcdb6",
   "metadata": {},
   "source": [
    "## np.where(arr,condition)\n",
    "- it returns the indices of the satisfied conditions from within a array"
   ]
  },
  {
   "cell_type": "code",
   "execution_count": 36,
   "id": "41df8b1c",
   "metadata": {},
   "outputs": [
    {
     "name": "stdout",
     "output_type": "stream",
     "text": [
      "Even num Array indices: (array([1, 3, 5, 7, 9], dtype=int64),)\n",
      "odd num Array indices: (array([0, 2, 4, 6, 8], dtype=int64),)\n"
     ]
    }
   ],
   "source": [
    "arr = np.array([1,2,3,4,5,6,7,8,9,10])\n",
    "\n",
    "even_index = np.where(arr % 2 == 0)\n",
    "print(f\"Even num Array indices: {even_index}\")\n",
    "\n",
    "odd_index = np.where(arr % 2)\n",
    "print(f\"odd num Array indices: {odd_index}\")"
   ]
  },
  {
   "cell_type": "code",
   "execution_count": 42,
   "id": "57739d86",
   "metadata": {},
   "outputs": [
    {
     "name": "stdout",
     "output_type": "stream",
     "text": [
      "(array([ 1, 10, 20, 22], dtype=int64),)\n"
     ]
    }
   ],
   "source": [
    "strn  = \"Machine Learning Is Amazing\"\n",
    "\n",
    "stn_array = np.array(list(strn.lower()))\n",
    "arr_indices = np.where(stn_array == \"a\")\n",
    "print(arr_indices)"
   ]
  },
  {
   "cell_type": "code",
   "execution_count": 46,
   "id": "8940e9f5",
   "metadata": {},
   "outputs": [
    {
     "data": {
      "text/plain": [
       "[1, 10, 20, 22]"
      ]
     },
     "execution_count": 46,
     "metadata": {},
     "output_type": "execute_result"
    }
   ],
   "source": [
    "stn_array = np.array(list(strn.lower()))\n",
    "\n",
    "arr_indices = np.where(stn_array == \"a\")\n",
    "arr_indices[0].tolist()"
   ]
  },
  {
   "cell_type": "code",
   "execution_count": 57,
   "id": "3a65a736",
   "metadata": {},
   "outputs": [
    {
     "data": {
      "text/plain": [
       "22"
      ]
     },
     "execution_count": 57,
     "metadata": {},
     "output_type": "execute_result"
    }
   ],
   "source": [
    "arr_indices = np.where(stn_array == \"a\")\n",
    "arr_indices[0][1]\n",
    "arr_indices[0][3]"
   ]
  },
  {
   "cell_type": "code",
   "execution_count": 58,
   "id": "878fe8c3",
   "metadata": {},
   "outputs": [
    {
     "data": {
      "text/plain": [
       "[1, 10, 20, 22]"
      ]
     },
     "execution_count": 58,
     "metadata": {},
     "output_type": "execute_result"
    }
   ],
   "source": [
    "arr_indices[0].tolist()"
   ]
  },
  {
   "cell_type": "code",
   "execution_count": 59,
   "id": "74eb7d34",
   "metadata": {},
   "outputs": [
    {
     "name": "stdout",
     "output_type": "stream",
     "text": [
      "1\n",
      "10\n",
      "20\n",
      "22\n"
     ]
    }
   ],
   "source": [
    "for i in arr_indices[0]:\n",
    "    print(i)"
   ]
  },
  {
   "cell_type": "code",
   "execution_count": 64,
   "id": "5040c442",
   "metadata": {},
   "outputs": [
    {
     "name": "stdout",
     "output_type": "stream",
     "text": [
      "1\n",
      "10\n",
      "20\n",
      "22\n"
     ]
    }
   ],
   "source": [
    "chars = list(strn.lower())\n",
    "\n",
    "for i, j in enumerate(chars):\n",
    "    if j == 'a':\n",
    "        print(i)"
   ]
  },
  {
   "cell_type": "code",
   "execution_count": null,
   "id": "3f742038",
   "metadata": {},
   "outputs": [],
   "source": []
  }
 ],
 "metadata": {
  "kernelspec": {
   "display_name": "Python 3 (ipykernel)",
   "language": "python",
   "name": "python3"
  },
  "language_info": {
   "codemirror_mode": {
    "name": "ipython",
    "version": 3
   },
   "file_extension": ".py",
   "mimetype": "text/x-python",
   "name": "python",
   "nbconvert_exporter": "python",
   "pygments_lexer": "ipython3",
   "version": "3.9.12"
  }
 },
 "nbformat": 4,
 "nbformat_minor": 5
}
