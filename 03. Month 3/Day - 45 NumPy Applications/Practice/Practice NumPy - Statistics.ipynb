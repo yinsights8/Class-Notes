{
 "cells": [
  {
   "cell_type": "code",
   "execution_count": 10,
   "id": "25ebeb1d",
   "metadata": {},
   "outputs": [
    {
     "name": "stdout",
     "output_type": "stream",
     "text": [
      "5.25\n"
     ]
    }
   ],
   "source": [
    "lis = [1,2,5,6,9,8,7,4]\n",
    "# print(sum(lis))\n",
    "average = sum(lis)/len(lis)\n",
    "print(average)"
   ]
  },
  {
   "cell_type": "code",
   "execution_count": 1,
   "id": "085e9ed9",
   "metadata": {},
   "outputs": [
    {
     "name": "stdout",
     "output_type": "stream",
     "text": [
      "5.25\n"
     ]
    }
   ],
   "source": [
    "import numpy as np\n",
    "\n",
    "arr = np.array([1,2,5,6,9,8,7,4])\n",
    "average = np.mean(np.sort(arr))\n",
    "print(average)"
   ]
  },
  {
   "cell_type": "code",
   "execution_count": 2,
   "id": "e9190aec",
   "metadata": {},
   "outputs": [],
   "source": [
    "from scipy import stats"
   ]
  },
  {
   "cell_type": "code",
   "execution_count": 7,
   "id": "ad4e7c3e",
   "metadata": {},
   "outputs": [
    {
     "name": "stdout",
     "output_type": "stream",
     "text": [
      "ModeResult(mode=array([6]), count=array([4]))\n"
     ]
    }
   ],
   "source": [
    "ar = [1,1,2,3,5,6,6,6,6,8,9,4,4,4,8,5,5]\n",
    "repeat_val = stats.mode(ar)\n",
    "print(repeat_val)"
   ]
  },
  {
   "cell_type": "code",
   "execution_count": 8,
   "id": "9d3feeef",
   "metadata": {},
   "outputs": [
    {
     "name": "stdout",
     "output_type": "stream",
     "text": [
      "ModeResult(mode=array([1]), count=array([1]))\n"
     ]
    }
   ],
   "source": [
    "no_repeat_val = stats.mode(arr)\n",
    "print(no_repeat_val)"
   ]
  },
  {
   "cell_type": "code",
   "execution_count": 19,
   "id": "aa5cab0f",
   "metadata": {},
   "outputs": [
    {
     "name": "stdout",
     "output_type": "stream",
     "text": [
      "6 times a number 9 repeats itself \n"
     ]
    }
   ],
   "source": [
    "ar = [1,1,2,3,5,6,6,6,6,8,99,9,9,9,9,9,9,4,4,4,8,5,5]\n",
    "\n",
    "rep_mode = stats.mode(ar)\n",
    "print(f\"{rep_mode[1][0]} times a number {rep_mode[0][0]} repeats itself \")"
   ]
  },
  {
   "cell_type": "code",
   "execution_count": 13,
   "id": "23e0e346",
   "metadata": {},
   "outputs": [
    {
     "data": {
      "text/plain": [
       "array([9])"
      ]
     },
     "execution_count": 13,
     "metadata": {},
     "output_type": "execute_result"
    }
   ],
   "source": [
    "rep_mode[0]"
   ]
  },
  {
   "cell_type": "code",
   "execution_count": 14,
   "id": "0dcb74bf",
   "metadata": {},
   "outputs": [
    {
     "data": {
      "text/plain": [
       "array([6])"
      ]
     },
     "execution_count": 14,
     "metadata": {},
     "output_type": "execute_result"
    }
   ],
   "source": [
    "rep_mode[1]"
   ]
  },
  {
   "cell_type": "code",
   "execution_count": null,
   "id": "20ef0789",
   "metadata": {},
   "outputs": [],
   "source": []
  }
 ],
 "metadata": {
  "kernelspec": {
   "display_name": "Python 3 (ipykernel)",
   "language": "python",
   "name": "python3"
  },
  "language_info": {
   "codemirror_mode": {
    "name": "ipython",
    "version": 3
   },
   "file_extension": ".py",
   "mimetype": "text/x-python",
   "name": "python",
   "nbconvert_exporter": "python",
   "pygments_lexer": "ipython3",
   "version": "3.9.12"
  }
 },
 "nbformat": 4,
 "nbformat_minor": 5
}
