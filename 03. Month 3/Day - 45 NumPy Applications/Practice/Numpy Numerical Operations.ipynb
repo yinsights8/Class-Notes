{
 "cells": [
  {
   "cell_type": "markdown",
   "id": "c21c7ce7",
   "metadata": {},
   "source": [
    "## 1. Arethmatics "
   ]
  },
  {
   "cell_type": "code",
   "execution_count": 1,
   "id": "5cb0b6cc",
   "metadata": {},
   "outputs": [],
   "source": [
    "import numpy as np"
   ]
  },
  {
   "cell_type": "code",
   "execution_count": 2,
   "id": "b20ab930",
   "metadata": {},
   "outputs": [
    {
     "data": {
      "text/plain": [
       "array([45, 25, 23, 22, 42])"
      ]
     },
     "execution_count": 2,
     "metadata": {},
     "output_type": "execute_result"
    }
   ],
   "source": [
    "nums = np.random.randint(low=10,high=50,size=5)\n",
    "nums"
   ]
  },
  {
   "cell_type": "code",
   "execution_count": 16,
   "id": "ee153d9b",
   "metadata": {},
   "outputs": [
    {
     "data": {
      "text/plain": [
       "array([21, 34, 50, 35, 29])"
      ]
     },
     "execution_count": 16,
     "metadata": {},
     "output_type": "execute_result"
    }
   ],
   "source": [
    "nums + 10"
   ]
  },
  {
   "cell_type": "code",
   "execution_count": null,
   "id": "f197d79e",
   "metadata": {},
   "outputs": [],
   "source": []
  },
  {
   "cell_type": "code",
   "execution_count": 3,
   "id": "e6ee10c3",
   "metadata": {},
   "outputs": [
    {
     "data": {
      "text/plain": [
       "array([40, 20, 18, 17, 37])"
      ]
     },
     "execution_count": 3,
     "metadata": {},
     "output_type": "execute_result"
    }
   ],
   "source": [
    "nums - 5"
   ]
  },
  {
   "cell_type": "code",
   "execution_count": null,
   "id": "e5ae0f9d",
   "metadata": {},
   "outputs": [],
   "source": []
  },
  {
   "cell_type": "code",
   "execution_count": 5,
   "id": "46b65f64",
   "metadata": {},
   "outputs": [
    {
     "data": {
      "text/plain": [
       "array([225, 125, 115, 110, 210])"
      ]
     },
     "execution_count": 5,
     "metadata": {},
     "output_type": "execute_result"
    }
   ],
   "source": [
    "nums * 5"
   ]
  },
  {
   "cell_type": "code",
   "execution_count": 6,
   "id": "958785b0",
   "metadata": {},
   "outputs": [
    {
     "data": {
      "text/plain": [
       "array([9. , 5. , 4.6, 4.4, 8.4])"
      ]
     },
     "execution_count": 6,
     "metadata": {},
     "output_type": "execute_result"
    }
   ],
   "source": [
    "nums / 5"
   ]
  },
  {
   "cell_type": "code",
   "execution_count": 7,
   "id": "39af5c13",
   "metadata": {},
   "outputs": [
    {
     "data": {
      "text/plain": [
       "array([9, 5, 4, 4, 8], dtype=int32)"
      ]
     },
     "execution_count": 7,
     "metadata": {},
     "output_type": "execute_result"
    }
   ],
   "source": [
    "nums // 5"
   ]
  },
  {
   "cell_type": "code",
   "execution_count": 8,
   "id": "2b2b9b73",
   "metadata": {},
   "outputs": [
    {
     "data": {
      "text/plain": [
       "array([1, 1, 1, 0, 0], dtype=int32)"
      ]
     },
     "execution_count": 8,
     "metadata": {},
     "output_type": "execute_result"
    }
   ],
   "source": [
    "nums % 2"
   ]
  },
  {
   "cell_type": "code",
   "execution_count": 9,
   "id": "f6213579",
   "metadata": {},
   "outputs": [
    {
     "data": {
      "text/plain": [
       "array([2025,  625,  529,  484, 1764], dtype=int32)"
      ]
     },
     "execution_count": 9,
     "metadata": {},
     "output_type": "execute_result"
    }
   ],
   "source": [
    "nums ** 2"
   ]
  },
  {
   "cell_type": "code",
   "execution_count": 10,
   "id": "90f081e5",
   "metadata": {},
   "outputs": [
    {
     "data": {
      "text/plain": [
       "array([91125, 15625, 12167, 10648, 74088], dtype=int32)"
      ]
     },
     "execution_count": 10,
     "metadata": {},
     "output_type": "execute_result"
    }
   ],
   "source": [
    "nums ** 3"
   ]
  },
  {
   "cell_type": "code",
   "execution_count": 11,
   "id": "5cac1943",
   "metadata": {},
   "outputs": [
    {
     "data": {
      "text/plain": [
       "array([45., 25., 23., 22., 42.])"
      ]
     },
     "execution_count": 11,
     "metadata": {},
     "output_type": "execute_result"
    }
   ],
   "source": [
    "np.floor(nums)"
   ]
  },
  {
   "cell_type": "code",
   "execution_count": 12,
   "id": "8142dec8",
   "metadata": {},
   "outputs": [
    {
     "data": {
      "text/plain": [
       "array([45., 25., 23., 22., 42.])"
      ]
     },
     "execution_count": 12,
     "metadata": {},
     "output_type": "execute_result"
    }
   ],
   "source": [
    "np.ceil(nums)"
   ]
  },
  {
   "cell_type": "markdown",
   "id": "7f9b5a58",
   "metadata": {},
   "source": [
    "## np.add()"
   ]
  },
  {
   "cell_type": "code",
   "execution_count": 15,
   "id": "7f001689",
   "metadata": {},
   "outputs": [
    {
     "data": {
      "text/plain": [
       "array([90, 50, 46, 44, 84])"
      ]
     },
     "execution_count": 15,
     "metadata": {},
     "output_type": "execute_result"
    }
   ],
   "source": [
    "np.add(nums,nums)"
   ]
  },
  {
   "cell_type": "code",
   "execution_count": 22,
   "id": "0b414cca",
   "metadata": {},
   "outputs": [
    {
     "name": "stdout",
     "output_type": "stream",
     "text": [
      "[[9 8]\n",
      " [2 4]]\n",
      "\n",
      "[[10 20]\n",
      " [30 40]]\n"
     ]
    }
   ],
   "source": [
    "arr1 = np.array([[9,8],[2,4]])\n",
    "print(arr)\n",
    "print()\n",
    "arr2 = np.array([[10,20], [30,40]])\n",
    "print(arr2)"
   ]
  },
  {
   "cell_type": "code",
   "execution_count": 24,
   "id": "89e9fd2e",
   "metadata": {},
   "outputs": [
    {
     "name": "stdout",
     "output_type": "stream",
     "text": [
      "[[19 28]\n",
      " [32 44]]\n"
     ]
    }
   ],
   "source": [
    "add = np.add(arr1,arr2)\n",
    "print(add)"
   ]
  },
  {
   "cell_type": "code",
   "execution_count": 42,
   "id": "1b10905c",
   "metadata": {},
   "outputs": [
    {
     "data": {
      "text/plain": [
       "array([[9, 8],\n",
       "       [2, 4]])"
      ]
     },
     "execution_count": 42,
     "metadata": {},
     "output_type": "execute_result"
    }
   ],
   "source": [
    "arr1"
   ]
  },
  {
   "cell_type": "code",
   "execution_count": 28,
   "id": "69b98f5f",
   "metadata": {},
   "outputs": [
    {
     "data": {
      "text/plain": [
       "array([[10, 20],\n",
       "       [30, 40]])"
      ]
     },
     "execution_count": 28,
     "metadata": {},
     "output_type": "execute_result"
    }
   ],
   "source": [
    "arr2"
   ]
  },
  {
   "cell_type": "code",
   "execution_count": 105,
   "id": "b875ca5e",
   "metadata": {},
   "outputs": [
    {
     "data": {
      "text/plain": [
       "array([[9, 8],\n",
       "       [2, 4]])"
      ]
     },
     "execution_count": 105,
     "metadata": {},
     "output_type": "execute_result"
    }
   ],
   "source": [
    "arr1 "
   ]
  },
  {
   "cell_type": "code",
   "execution_count": 108,
   "id": "65d7fffe",
   "metadata": {},
   "outputs": [
    {
     "ename": "ValueError",
     "evalue": "operands could not be broadcast together with shapes (2,2) (3,2) ",
     "output_type": "error",
     "traceback": [
      "\u001b[1;31m---------------------------------------------------------------------------\u001b[0m",
      "\u001b[1;31mValueError\u001b[0m                                Traceback (most recent call last)",
      "Input \u001b[1;32mIn [108]\u001b[0m, in \u001b[0;36m<cell line: 3>\u001b[1;34m()\u001b[0m\n\u001b[0;32m      1\u001b[0m arr3 \u001b[38;5;241m=\u001b[39m np\u001b[38;5;241m.\u001b[39marray([[\u001b[38;5;241m10\u001b[39m,\u001b[38;5;241m20\u001b[39m], [\u001b[38;5;241m40\u001b[39m,\u001b[38;5;241m50\u001b[39m], [\u001b[38;5;241m60\u001b[39m,\u001b[38;5;241m70\u001b[39m]])\n\u001b[1;32m----> 3\u001b[0m \u001b[43mnp\u001b[49m\u001b[38;5;241;43m.\u001b[39;49m\u001b[43madd\u001b[49m\u001b[43m(\u001b[49m\u001b[43marr1\u001b[49m\u001b[43m,\u001b[49m\u001b[43marr3\u001b[49m\u001b[43m)\u001b[49m\n",
      "\u001b[1;31mValueError\u001b[0m: operands could not be broadcast together with shapes (2,2) (3,2) "
     ]
    }
   ],
   "source": [
    "arr3 = np.array([[10,20], [40,50], [60,70]])\n",
    "\n",
    "np.add(arr1,arr3)"
   ]
  },
  {
   "cell_type": "code",
   "execution_count": null,
   "id": "ac5f7d46",
   "metadata": {},
   "outputs": [],
   "source": []
  },
  {
   "cell_type": "code",
   "execution_count": null,
   "id": "c98a62de",
   "metadata": {},
   "outputs": [],
   "source": []
  },
  {
   "cell_type": "code",
   "execution_count": null,
   "id": "ad44f5c2",
   "metadata": {},
   "outputs": [],
   "source": []
  },
  {
   "cell_type": "code",
   "execution_count": null,
   "id": "f664aee5",
   "metadata": {},
   "outputs": [],
   "source": []
  },
  {
   "cell_type": "markdown",
   "id": "2024a0b6",
   "metadata": {},
   "source": [
    "### create a matrix additon without using np.add(arr1, arr2) function"
   ]
  },
  {
   "cell_type": "code",
   "execution_count": 84,
   "id": "1d2c3a7b",
   "metadata": {},
   "outputs": [
    {
     "name": "stdout",
     "output_type": "stream",
     "text": [
      "[19, 28, 32, 44]\n",
      "\n",
      "matrix:\n",
      "\n",
      "[[19 28]\n",
      " [32 44]]\n"
     ]
    }
   ],
   "source": [
    "a1 = [i.tolist() for i in np.nditer(arr1)]   ##  append values of arr1 to a1\n",
    "\n",
    "a2 = [j.tolist() for j in np.nditer(arr2)]   ##  append values of arr1 to a2\n",
    "\n",
    "add_a1_a2 = [a1[i] + a2[i] for i,j in enumerate(a1)]   ##  append additon of arr1 to arr2 to add_a1_a2\n",
    "\n",
    "print(add_a1_a2)\n",
    "print()\n",
    "\n",
    "matrix = np.reshape(np.array(add_a1_a2),[2,2])        ## reshape to 2,2 matrix\n",
    "print(f\"matrix:\\n\\n{matrix}\")\n"
   ]
  },
  {
   "cell_type": "markdown",
   "id": "344dd26f",
   "metadata": {},
   "source": [
    "### np.subtract"
   ]
  },
  {
   "cell_type": "code",
   "execution_count": 26,
   "id": "a9ccbc0e",
   "metadata": {},
   "outputs": [
    {
     "name": "stdout",
     "output_type": "stream",
     "text": [
      "[[ -1 -12]\n",
      " [-28 -36]]\n"
     ]
    }
   ],
   "source": [
    "sub = np.subtract(arr1,arr2)\n",
    "print(sub)"
   ]
  },
  {
   "cell_type": "code",
   "execution_count": 89,
   "id": "be933ce2",
   "metadata": {},
   "outputs": [
    {
     "name": "stdout",
     "output_type": "stream",
     "text": [
      "matrix:\n",
      "\n",
      "[[ -1 -12]\n",
      " [-28 -36]]\n"
     ]
    }
   ],
   "source": [
    "a1 = [i.tolist() for i in np.nditer(arr1)]   ##  append values of arr1 to a1\n",
    "\n",
    "a2 = [j.tolist() for j in np.nditer(arr2)]   ##  append values of arr1 to a2\n",
    "\n",
    "sub_a1_a2 = [a1[i] - a2[i] for i,j in enumerate(a1)]   ##  append suntraction of arr1 to arr2 to sub_a1_a2\n",
    "\n",
    "matrix = np.reshape(np.array(sub_a1_a2),[2,2])        ## reshape to 2,2 matrix\n",
    "print(f\"matrix:\\n\\n{matrix}\")"
   ]
  },
  {
   "cell_type": "markdown",
   "id": "772a6d8b",
   "metadata": {},
   "source": [
    "## matrix Multiplication"
   ]
  },
  {
   "cell_type": "code",
   "execution_count": 90,
   "id": "c219172d",
   "metadata": {},
   "outputs": [
    {
     "data": {
      "text/plain": [
       "array([[9, 8],\n",
       "       [2, 4]])"
      ]
     },
     "execution_count": 90,
     "metadata": {},
     "output_type": "execute_result"
    }
   ],
   "source": [
    "arr1"
   ]
  },
  {
   "cell_type": "code",
   "execution_count": 91,
   "id": "bdcfe38d",
   "metadata": {},
   "outputs": [
    {
     "data": {
      "text/plain": [
       "array([[10, 20],\n",
       "       [30, 40]])"
      ]
     },
     "execution_count": 91,
     "metadata": {},
     "output_type": "execute_result"
    }
   ],
   "source": [
    "arr2"
   ]
  },
  {
   "cell_type": "code",
   "execution_count": 93,
   "id": "da5c6e22",
   "metadata": {},
   "outputs": [
    {
     "name": "stdout",
     "output_type": "stream",
     "text": [
      "[[ 90 160]\n",
      " [ 60 160]]\n"
     ]
    }
   ],
   "source": [
    "multi = np.multiply(arr1, arr2)\n",
    "print(multi)"
   ]
  },
  {
   "cell_type": "code",
   "execution_count": 104,
   "id": "1305eb58",
   "metadata": {},
   "outputs": [
    {
     "name": "stdout",
     "output_type": "stream",
     "text": [
      "[90, 160, 60, 160]\n",
      "matrix is :\n",
      "\n",
      "[[ 90 160]\n",
      " [ 60 160]]\n"
     ]
    }
   ],
   "source": [
    "m1 = [int(i) for i in np.nditer(arr1)]\n",
    "m2 = [int(i) for i in np.nditer(arr2)]\n",
    "\n",
    "multiply = [m1[i] * m2[i] for i, j in enumerate(m1)]\n",
    "\n",
    "print(multiply)\n",
    "\n",
    "multi_shape = np.reshape(multiply,[2,2])\n",
    "print(f\"matrix is :\\n\\n{multi_shape}\")"
   ]
  },
  {
   "cell_type": "code",
   "execution_count": 110,
   "id": "08f69233",
   "metadata": {},
   "outputs": [
    {
     "data": {
      "text/plain": [
       "array([[9, 8],\n",
       "       [2, 4]])"
      ]
     },
     "execution_count": 110,
     "metadata": {},
     "output_type": "execute_result"
    }
   ],
   "source": [
    "arr1"
   ]
  },
  {
   "cell_type": "code",
   "execution_count": 111,
   "id": "fdb6e406",
   "metadata": {},
   "outputs": [
    {
     "data": {
      "text/plain": [
       "array([[10, 20],\n",
       "       [30, 40]])"
      ]
     },
     "execution_count": 111,
     "metadata": {},
     "output_type": "execute_result"
    }
   ],
   "source": [
    "arr2"
   ]
  },
  {
   "cell_type": "code",
   "execution_count": 109,
   "id": "d2bcbc65",
   "metadata": {},
   "outputs": [
    {
     "data": {
      "text/plain": [
       "array([[0.9       , 0.4       ],\n",
       "       [0.06666667, 0.1       ]])"
      ]
     },
     "execution_count": 109,
     "metadata": {},
     "output_type": "execute_result"
    }
   ],
   "source": [
    "np.divide(arr1,arr2)"
   ]
  },
  {
   "cell_type": "code",
   "execution_count": 112,
   "id": "a2484bef",
   "metadata": {},
   "outputs": [
    {
     "data": {
      "text/plain": [
       "0.9"
      ]
     },
     "execution_count": 112,
     "metadata": {},
     "output_type": "execute_result"
    }
   ],
   "source": [
    "9/10"
   ]
  },
  {
   "cell_type": "code",
   "execution_count": 114,
   "id": "a428bebf",
   "metadata": {},
   "outputs": [
    {
     "data": {
      "text/plain": [
       "0.4"
      ]
     },
     "execution_count": 114,
     "metadata": {},
     "output_type": "execute_result"
    }
   ],
   "source": [
    "8/20"
   ]
  },
  {
   "cell_type": "code",
   "execution_count": 115,
   "id": "89f85200",
   "metadata": {},
   "outputs": [
    {
     "data": {
      "text/plain": [
       "0.06666666666666667"
      ]
     },
     "execution_count": 115,
     "metadata": {},
     "output_type": "execute_result"
    }
   ],
   "source": [
    "2 / 30"
   ]
  },
  {
   "cell_type": "code",
   "execution_count": 116,
   "id": "57575f72",
   "metadata": {},
   "outputs": [
    {
     "data": {
      "text/plain": [
       "0.1"
      ]
     },
     "execution_count": 116,
     "metadata": {},
     "output_type": "execute_result"
    }
   ],
   "source": [
    "4/40"
   ]
  },
  {
   "cell_type": "code",
   "execution_count": 117,
   "id": "aee4f984",
   "metadata": {},
   "outputs": [
    {
     "data": {
      "text/plain": [
       "array([[9, 8],\n",
       "       [2, 4]])"
      ]
     },
     "execution_count": 117,
     "metadata": {},
     "output_type": "execute_result"
    }
   ],
   "source": [
    "arr1"
   ]
  },
  {
   "cell_type": "code",
   "execution_count": 118,
   "id": "a1b4a62d",
   "metadata": {},
   "outputs": [
    {
     "data": {
      "text/plain": [
       "array([[10, 20],\n",
       "       [30, 40]])"
      ]
     },
     "execution_count": 118,
     "metadata": {},
     "output_type": "execute_result"
    }
   ],
   "source": [
    "arr2"
   ]
  },
  {
   "cell_type": "code",
   "execution_count": 119,
   "id": "6fb09595",
   "metadata": {},
   "outputs": [
    {
     "name": "stdout",
     "output_type": "stream",
     "text": [
      "[[330 500]\n",
      " [140 200]]\n"
     ]
    }
   ],
   "source": [
    "product = np.dot(arr1,arr2)\n",
    "\n",
    "print(product)"
   ]
  },
  {
   "cell_type": "code",
   "execution_count": 120,
   "id": "ae810778",
   "metadata": {},
   "outputs": [
    {
     "data": {
      "text/plain": [
       "array([[330, 500],\n",
       "       [140, 200]])"
      ]
     },
     "execution_count": 120,
     "metadata": {},
     "output_type": "execute_result"
    }
   ],
   "source": [
    "product"
   ]
  },
  {
   "cell_type": "code",
   "execution_count": null,
   "id": "c10d79f2",
   "metadata": {},
   "outputs": [],
   "source": []
  },
  {
   "cell_type": "code",
   "execution_count": 127,
   "id": "f36c08ea",
   "metadata": {},
   "outputs": [
    {
     "name": "stdout",
     "output_type": "stream",
     "text": [
      "[[9 8]\n",
      " [2 4]]\n",
      "\n",
      "[[10 20]\n",
      " [30 40]]\n"
     ]
    }
   ],
   "source": [
    "arr1 = np.array([[9,8],[2,4]])\n",
    "print(arr1)\n",
    "print()\n",
    "arr2 = np.array([[10,20], [30,40]])\n",
    "print(arr2)"
   ]
  },
  {
   "cell_type": "code",
   "execution_count": 180,
   "id": "3845f705",
   "metadata": {},
   "outputs": [
    {
     "name": "stdout",
     "output_type": "stream",
     "text": [
      "[9, 8, 2, 4]\n"
     ]
    }
   ],
   "source": [
    "r1 = arr1[0].tolist()\n",
    "r2 = arr1[1].tolist()\n",
    "\n",
    "R = r1+r2\n",
    "\n",
    "print(R)"
   ]
  },
  {
   "cell_type": "code",
   "execution_count": 192,
   "id": "987fcace",
   "metadata": {},
   "outputs": [
    {
     "name": "stdout",
     "output_type": "stream",
     "text": [
      "[10, 30, 20, 40]\n",
      "[9, 8, 2, 4]\n"
     ]
    }
   ],
   "source": [
    "C = []\n",
    "c1 = arr2[0:,0]\n",
    "c2 = arr2[0:,1]\n",
    "\n",
    "C1 = [i for i in c1]\n",
    "C2 = [i for i in c2]\n",
    "\n",
    "C = C1 + C2\n",
    "\n",
    "print(C)\n",
    "print(R)"
   ]
  },
  {
   "cell_type": "code",
   "execution_count": 199,
   "id": "ef0402f1",
   "metadata": {},
   "outputs": [
    {
     "name": "stdout",
     "output_type": "stream",
     "text": [
      "[10, 30]\n",
      "[20, 40]\n",
      "\n",
      "[9, 8]\n",
      "[2, 4]\n"
     ]
    }
   ],
   "source": [
    "col1 = C[:2] \n",
    "col2 = C[2:]\n",
    "\n",
    "row1 = R[:2]\n",
    "row2 = R[2:]\n",
    "\n",
    "print(col1)\n",
    "print(col2)\n",
    "print()\n",
    "print(row1)\n",
    "print(row2)"
   ]
  },
  {
   "cell_type": "code",
   "execution_count": 210,
   "id": "e3c27408",
   "metadata": {},
   "outputs": [
    {
     "name": "stdout",
     "output_type": "stream",
     "text": [
      "90\n",
      "240\n"
     ]
    }
   ],
   "source": [
    "for i in range(len(row1)):\n",
    "    print(row1[i]*col1[i])"
   ]
  },
  {
   "cell_type": "code",
   "execution_count": null,
   "id": "7a7e61d2",
   "metadata": {},
   "outputs": [],
   "source": []
  }
 ],
 "metadata": {
  "kernelspec": {
   "display_name": "Python 3 (ipykernel)",
   "language": "python",
   "name": "python3"
  },
  "language_info": {
   "codemirror_mode": {
    "name": "ipython",
    "version": 3
   },
   "file_extension": ".py",
   "mimetype": "text/x-python",
   "name": "python",
   "nbconvert_exporter": "python",
   "pygments_lexer": "ipython3",
   "version": "3.9.12"
  }
 },
 "nbformat": 4,
 "nbformat_minor": 5
}
