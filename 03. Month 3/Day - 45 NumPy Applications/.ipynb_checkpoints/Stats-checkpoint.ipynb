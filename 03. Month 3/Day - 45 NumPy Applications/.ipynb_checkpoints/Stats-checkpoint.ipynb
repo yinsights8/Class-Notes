{
 "cells": [
  {
   "cell_type": "markdown",
   "id": "f50ebc82",
   "metadata": {},
   "source": [
    "# Numpy-Stats"
   ]
  },
  {
   "cell_type": "markdown",
   "id": "3a352fa6",
   "metadata": {},
   "source": [
    "- 1. mean()\n",
    "- 2. median()\n",
    "- 3. mode()\n",
    "- 4. var()\n",
    "- 5. std()\n",
    "- 6. min()\n",
    "- 7. max()"
   ]
  },
  {
   "cell_type": "code",
   "execution_count": 1,
   "id": "bfb47eb6",
   "metadata": {},
   "outputs": [
    {
     "data": {
      "text/plain": [
       "3.0"
      ]
     },
     "execution_count": 1,
     "metadata": {},
     "output_type": "execute_result"
    }
   ],
   "source": [
    "li = [1,2,3,4,5]\n",
    "sum(li) / len(li)"
   ]
  },
  {
   "cell_type": "code",
   "execution_count": 2,
   "id": "492a3708",
   "metadata": {},
   "outputs": [],
   "source": [
    "import numpy as np"
   ]
  },
  {
   "cell_type": "markdown",
   "id": "c5a8bd88",
   "metadata": {},
   "source": [
    "# mean()"
   ]
  },
  {
   "cell_type": "code",
   "execution_count": 3,
   "id": "c4a155d0",
   "metadata": {},
   "outputs": [
    {
     "data": {
      "text/plain": [
       "array([ 1,  2,  3,  4,  5,  6,  7,  8,  9, 10])"
      ]
     },
     "execution_count": 3,
     "metadata": {},
     "output_type": "execute_result"
    }
   ],
   "source": [
    "arr = np.array([1,2,3,4,5,6,7,8,9,10])\n",
    "arr"
   ]
  },
  {
   "cell_type": "code",
   "execution_count": 4,
   "id": "ed0221c3",
   "metadata": {},
   "outputs": [
    {
     "data": {
      "text/plain": [
       "10"
      ]
     },
     "execution_count": 4,
     "metadata": {},
     "output_type": "execute_result"
    }
   ],
   "source": [
    "len(arr)"
   ]
  },
  {
   "cell_type": "code",
   "execution_count": 5,
   "id": "05db1eb7",
   "metadata": {},
   "outputs": [
    {
     "data": {
      "text/plain": [
       "55"
      ]
     },
     "execution_count": 5,
     "metadata": {},
     "output_type": "execute_result"
    }
   ],
   "source": [
    "sum(arr)"
   ]
  },
  {
   "cell_type": "code",
   "execution_count": 6,
   "id": "3a2a7c35",
   "metadata": {},
   "outputs": [
    {
     "data": {
      "text/plain": [
       "5.5"
      ]
     },
     "execution_count": 6,
     "metadata": {},
     "output_type": "execute_result"
    }
   ],
   "source": [
    "55 / 10"
   ]
  },
  {
   "cell_type": "code",
   "execution_count": 7,
   "id": "ad8d969b",
   "metadata": {},
   "outputs": [
    {
     "data": {
      "text/plain": [
       "5.5"
      ]
     },
     "execution_count": 7,
     "metadata": {},
     "output_type": "execute_result"
    }
   ],
   "source": [
    "np.mean(arr)"
   ]
  },
  {
   "cell_type": "code",
   "execution_count": 8,
   "id": "d7f056a1",
   "metadata": {},
   "outputs": [
    {
     "data": {
      "text/plain": [
       "array([ 10,  20,  30,  40,  50,  60,  70,  80,  90, 100])"
      ]
     },
     "execution_count": 8,
     "metadata": {},
     "output_type": "execute_result"
    }
   ],
   "source": [
    "arr = np.array([10,20,30,40,50,60,70,80,90,100])\n",
    "arr"
   ]
  },
  {
   "cell_type": "code",
   "execution_count": 9,
   "id": "110bf858",
   "metadata": {},
   "outputs": [
    {
     "data": {
      "text/plain": [
       "55.0"
      ]
     },
     "execution_count": 9,
     "metadata": {},
     "output_type": "execute_result"
    }
   ],
   "source": [
    "np.mean(arr)"
   ]
  },
  {
   "cell_type": "markdown",
   "id": "6a7db9bd",
   "metadata": {},
   "source": [
    "# median()"
   ]
  },
  {
   "cell_type": "code",
   "execution_count": 10,
   "id": "4ad83560",
   "metadata": {},
   "outputs": [
    {
     "data": {
      "text/plain": [
       "array([ 10,  20,  30,  40,  50,  60,  70,  80,  90, 100])"
      ]
     },
     "execution_count": 10,
     "metadata": {},
     "output_type": "execute_result"
    }
   ],
   "source": [
    "arr"
   ]
  },
  {
   "cell_type": "code",
   "execution_count": 11,
   "id": "1badf733",
   "metadata": {},
   "outputs": [
    {
     "data": {
      "text/plain": [
       "55.0"
      ]
     },
     "execution_count": 11,
     "metadata": {},
     "output_type": "execute_result"
    }
   ],
   "source": [
    "(50 + 60) / 2"
   ]
  },
  {
   "cell_type": "code",
   "execution_count": 12,
   "id": "69e96e7d",
   "metadata": {},
   "outputs": [
    {
     "data": {
      "text/plain": [
       "55.0"
      ]
     },
     "execution_count": 12,
     "metadata": {},
     "output_type": "execute_result"
    }
   ],
   "source": [
    "np.median(arr)"
   ]
  },
  {
   "cell_type": "code",
   "execution_count": 13,
   "id": "590b629b",
   "metadata": {},
   "outputs": [
    {
     "data": {
      "text/plain": [
       "array([8, 2, 5, 8, 6, 3, 6, 8, 4, 2])"
      ]
     },
     "execution_count": 13,
     "metadata": {},
     "output_type": "execute_result"
    }
   ],
   "source": [
    "arr = np.random.randint(1,10,10)\n",
    "arr"
   ]
  },
  {
   "cell_type": "code",
   "execution_count": 14,
   "id": "b114670c",
   "metadata": {},
   "outputs": [
    {
     "data": {
      "text/plain": [
       "array([2, 2, 3, 4, 5, 6, 6, 8, 8, 8])"
      ]
     },
     "execution_count": 14,
     "metadata": {},
     "output_type": "execute_result"
    }
   ],
   "source": [
    "sorted_arr = np.sort(arr)\n",
    "sorted_arr"
   ]
  },
  {
   "cell_type": "code",
   "execution_count": 15,
   "id": "401f7374",
   "metadata": {},
   "outputs": [
    {
     "data": {
      "text/plain": [
       "5.5"
      ]
     },
     "execution_count": 15,
     "metadata": {},
     "output_type": "execute_result"
    }
   ],
   "source": [
    "(5 + 6) / 2"
   ]
  },
  {
   "cell_type": "code",
   "execution_count": 16,
   "id": "0c0501ab",
   "metadata": {},
   "outputs": [
    {
     "data": {
      "text/plain": [
       "5.5"
      ]
     },
     "execution_count": 16,
     "metadata": {},
     "output_type": "execute_result"
    }
   ],
   "source": [
    "np.median(sorted_arr)"
   ]
  },
  {
   "cell_type": "code",
   "execution_count": 17,
   "id": "9a259973",
   "metadata": {},
   "outputs": [
    {
     "data": {
      "text/plain": [
       "array([3, 4, 8, 8, 4, 2, 9, 6, 5, 4, 9])"
      ]
     },
     "execution_count": 17,
     "metadata": {},
     "output_type": "execute_result"
    }
   ],
   "source": [
    "arr = np.random.randint(1,10,11)\n",
    "arr"
   ]
  },
  {
   "cell_type": "code",
   "execution_count": 18,
   "id": "2090c57e",
   "metadata": {},
   "outputs": [
    {
     "data": {
      "text/plain": [
       "array([2, 3, 4, 4, 4, 5, 6, 8, 8, 9, 9])"
      ]
     },
     "execution_count": 18,
     "metadata": {},
     "output_type": "execute_result"
    }
   ],
   "source": [
    "sorted_arr = np.sort(arr)\n",
    "sorted_arr"
   ]
  },
  {
   "cell_type": "code",
   "execution_count": 19,
   "id": "10685290",
   "metadata": {},
   "outputs": [
    {
     "data": {
      "text/plain": [
       "5.0"
      ]
     },
     "execution_count": 19,
     "metadata": {},
     "output_type": "execute_result"
    }
   ],
   "source": [
    "np.median(sorted_arr)"
   ]
  },
  {
   "cell_type": "markdown",
   "id": "25d44155",
   "metadata": {},
   "source": [
    "# std()"
   ]
  },
  {
   "cell_type": "code",
   "execution_count": 20,
   "id": "0bcac48e",
   "metadata": {},
   "outputs": [
    {
     "data": {
      "text/plain": [
       "array([7, 8, 7, 2, 7, 9, 6, 3, 3, 9, 7])"
      ]
     },
     "execution_count": 20,
     "metadata": {},
     "output_type": "execute_result"
    }
   ],
   "source": [
    "arr = np.random.randint(1,10,11)\n",
    "arr"
   ]
  },
  {
   "cell_type": "code",
   "execution_count": 21,
   "id": "c88b53b5",
   "metadata": {},
   "outputs": [
    {
     "data": {
      "text/plain": [
       "2.328408813611945"
      ]
     },
     "execution_count": 21,
     "metadata": {},
     "output_type": "execute_result"
    }
   ],
   "source": [
    "np.std(arr)"
   ]
  },
  {
   "cell_type": "code",
   "execution_count": 22,
   "id": "508771c7",
   "metadata": {},
   "outputs": [
    {
     "name": "stdout",
     "output_type": "stream",
     "text": [
      "[7 8 7 2 7 9 6 3 3 9 7]\n",
      "Mean of an array --> 6.181818181818182\n",
      "Median of an array --> 7.0\n",
      "Standerd Deviation --> 2.328408813611945\n"
     ]
    }
   ],
   "source": [
    "print(arr)\n",
    "print(f\"Mean of an array --> {np.mean(arr)}\")\n",
    "print(f\"Median of an array --> {np.median(np.sort(arr))}\")\n",
    "print(f\"Standerd Deviation --> {np.std(arr)}\")"
   ]
  },
  {
   "cell_type": "code",
   "execution_count": 23,
   "id": "89cbe0f5",
   "metadata": {},
   "outputs": [
    {
     "data": {
      "text/plain": [
       "8.510226995430127"
      ]
     },
     "execution_count": 23,
     "metadata": {},
     "output_type": "execute_result"
    }
   ],
   "source": [
    "6.181818181818182 + 2.328408813611945"
   ]
  },
  {
   "cell_type": "code",
   "execution_count": 24,
   "id": "f4a09082",
   "metadata": {},
   "outputs": [
    {
     "data": {
      "text/plain": [
       "3.8534093682062367"
      ]
     },
     "execution_count": 24,
     "metadata": {},
     "output_type": "execute_result"
    }
   ],
   "source": [
    "6.181818181818182 - 2.328408813611945"
   ]
  },
  {
   "cell_type": "code",
   "execution_count": 25,
   "id": "c6fe3b2c",
   "metadata": {},
   "outputs": [
    {
     "data": {
      "text/plain": [
       "10.838635809042072"
      ]
     },
     "execution_count": 25,
     "metadata": {},
     "output_type": "execute_result"
    }
   ],
   "source": [
    "8.510226995430127 + 2.328408813611945"
   ]
  },
  {
   "cell_type": "code",
   "execution_count": 26,
   "id": "94749653",
   "metadata": {},
   "outputs": [
    {
     "data": {
      "text/plain": [
       "1.5250005545942917"
      ]
     },
     "execution_count": 26,
     "metadata": {},
     "output_type": "execute_result"
    }
   ],
   "source": [
    "3.8534093682062367 - 2.328408813611945"
   ]
  },
  {
   "cell_type": "markdown",
   "id": "9b951045",
   "metadata": {},
   "source": [
    "# Mode\n",
    "- Most frequent value of an array"
   ]
  },
  {
   "cell_type": "code",
   "execution_count": 36,
   "id": "0b6ce4d3",
   "metadata": {},
   "outputs": [],
   "source": [
    "import warnings\n",
    "warnings.filterwarnings(\"ignore\")"
   ]
  },
  {
   "cell_type": "code",
   "execution_count": 37,
   "id": "73e360eb",
   "metadata": {},
   "outputs": [
    {
     "name": "stdout",
     "output_type": "stream",
     "text": [
      "Requirement already satisfied: scipy in c:\\users\\hp\\appdata\\local\\programs\\python\\python310\\lib\\site-packages (1.9.1)\n",
      "Requirement already satisfied: numpy<1.25.0,>=1.18.5 in c:\\users\\hp\\appdata\\local\\programs\\python\\python310\\lib\\site-packages (from scipy) (1.23.1)\n"
     ]
    },
    {
     "name": "stderr",
     "output_type": "stream",
     "text": [
      "WARNING: You are using pip version 22.0.4; however, version 22.2.2 is available.\n",
      "You should consider upgrading via the 'C:\\Users\\hp\\AppData\\Local\\Programs\\Python\\Python310\\python.exe -m pip install --upgrade pip' command.\n"
     ]
    }
   ],
   "source": [
    "!pip install scipy"
   ]
  },
  {
   "cell_type": "code",
   "execution_count": 38,
   "id": "7d3ee63c",
   "metadata": {},
   "outputs": [],
   "source": [
    "from scipy import stats"
   ]
  },
  {
   "cell_type": "code",
   "execution_count": 39,
   "id": "6f3db7d9",
   "metadata": {},
   "outputs": [
    {
     "data": {
      "text/plain": [
       "ModeResult(mode=array([1]), count=array([5]))"
      ]
     },
     "execution_count": 39,
     "metadata": {},
     "output_type": "execute_result"
    }
   ],
   "source": [
    "arr = np.array([1,1,1,1,1,2,3,4,5,6,7,8,9,10])\n",
    "stats.mode(arr)"
   ]
  },
  {
   "cell_type": "code",
   "execution_count": 40,
   "id": "223d9edb",
   "metadata": {},
   "outputs": [
    {
     "data": {
      "text/plain": [
       "ModeResult(mode=array([9]), count=array([6]))"
      ]
     },
     "execution_count": 40,
     "metadata": {},
     "output_type": "execute_result"
    }
   ],
   "source": [
    "arr = np.array([1,2,3,4,5,6,7,8,9,9,9,9,9,9,10])\n",
    "stats.mode(arr)"
   ]
  },
  {
   "cell_type": "code",
   "execution_count": 42,
   "id": "5c8f7027",
   "metadata": {},
   "outputs": [
    {
     "data": {
      "text/plain": [
       "9"
      ]
     },
     "execution_count": 42,
     "metadata": {},
     "output_type": "execute_result"
    }
   ],
   "source": [
    "stats.mode(arr)[0][0]"
   ]
  },
  {
   "cell_type": "code",
   "execution_count": 44,
   "id": "ed3e0a22",
   "metadata": {},
   "outputs": [
    {
     "data": {
      "text/plain": [
       "6"
      ]
     },
     "execution_count": 44,
     "metadata": {},
     "output_type": "execute_result"
    }
   ],
   "source": [
    "stats.mode(arr)[1][0]"
   ]
  },
  {
   "cell_type": "code",
   "execution_count": 46,
   "id": "e45bd80a",
   "metadata": {},
   "outputs": [
    {
     "name": "stdout",
     "output_type": "stream",
     "text": [
      "Array --> [ 1  2  3  4  5  6  7  8  9  9  9  9  9  9 10]\n",
      "The mode of an array --> 9\n",
      "6 Times the 9 present in an array\n"
     ]
    }
   ],
   "source": [
    "arr = np.array([1,2,3,4,5,6,7,8,9,9,9,9,9,9,10])\n",
    "print(f\"Array --> {arr}\")\n",
    "Mode = stats.mode(arr)\n",
    "print(f\"The mode of an array --> {Mode[0][0]}\")\n",
    "print(f\"{Mode[1][0]} Times the {Mode[0][0]} present in an array\")"
   ]
  },
  {
   "cell_type": "code",
   "execution_count": 47,
   "id": "33697418",
   "metadata": {},
   "outputs": [
    {
     "data": {
      "text/plain": [
       "array([1.        , 1.41421356, 1.73205081, 2.        , 2.23606798,\n",
       "       2.44948974, 2.64575131, 2.82842712, 3.        , 3.        ,\n",
       "       3.        , 3.        , 3.        , 3.        , 3.16227766])"
      ]
     },
     "execution_count": 47,
     "metadata": {},
     "output_type": "execute_result"
    }
   ],
   "source": [
    "np.sqrt(arr)"
   ]
  },
  {
   "cell_type": "code",
   "execution_count": 48,
   "id": "05565dfe",
   "metadata": {},
   "outputs": [
    {
     "data": {
      "text/plain": [
       "array([1.        , 1.25992105, 1.44224957, 1.58740105, 1.70997595,\n",
       "       1.81712059, 1.91293118, 2.        , 2.08008382, 2.08008382,\n",
       "       2.08008382, 2.08008382, 2.08008382, 2.08008382, 2.15443469])"
      ]
     },
     "execution_count": 48,
     "metadata": {},
     "output_type": "execute_result"
    }
   ],
   "source": [
    "np.cbrt(arr)"
   ]
  },
  {
   "cell_type": "code",
   "execution_count": 49,
   "id": "a3e303cd",
   "metadata": {},
   "outputs": [
    {
     "data": {
      "text/plain": [
       "array([1, 1, 1, 1, 1, 1, 1, 1, 1, 1])"
      ]
     },
     "execution_count": 49,
     "metadata": {},
     "output_type": "execute_result"
    }
   ],
   "source": [
    "np.full(10,1)"
   ]
  },
  {
   "cell_type": "code",
   "execution_count": 50,
   "id": "d8ae5d45",
   "metadata": {},
   "outputs": [
    {
     "data": {
      "text/plain": [
       "array([23, 23, 23, 23, 23, 23, 23, 23, 23, 23])"
      ]
     },
     "execution_count": 50,
     "metadata": {},
     "output_type": "execute_result"
    }
   ],
   "source": [
    "np.full(10,23)"
   ]
  },
  {
   "cell_type": "code",
   "execution_count": null,
   "id": "4e206e51",
   "metadata": {},
   "outputs": [],
   "source": []
  }
 ],
 "metadata": {
  "kernelspec": {
   "display_name": "Python 3 (ipykernel)",
   "language": "python",
   "name": "python3"
  },
  "language_info": {
   "codemirror_mode": {
    "name": "ipython",
    "version": 3
   },
   "file_extension": ".py",
   "mimetype": "text/x-python",
   "name": "python",
   "nbconvert_exporter": "python",
   "pygments_lexer": "ipython3",
   "version": "3.10.5"
  }
 },
 "nbformat": 4,
 "nbformat_minor": 5
}
