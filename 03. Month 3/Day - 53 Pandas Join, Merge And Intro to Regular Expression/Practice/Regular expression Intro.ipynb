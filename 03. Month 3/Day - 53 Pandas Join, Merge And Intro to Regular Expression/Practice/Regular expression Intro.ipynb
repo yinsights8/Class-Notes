{
 "cells": [
  {
   "cell_type": "markdown",
   "id": "73565c29",
   "metadata": {},
   "source": [
    "## Regular Expression\n",
    "- A RegEx, or Regular Expression, is a sequence of characters that forms a search pattern.\n",
    "- RegEx can be used to check if a string contains the specified search pattern.\n",
    "\n",
    "- RegEx Module\n",
    "    - Python has a built-in package called re, which can be used to work with Regular Expressions\n",
    "        - import re\n"
   ]
  },
  {
   "cell_type": "markdown",
   "id": "d1d3985a",
   "metadata": {},
   "source": [
    "### Functions in regular Expression\n",
    "- findall\n",
    "- sub\n",
    "- match\n",
    "- search\n",
    "- compile\n",
    "- split"
   ]
  },
  {
   "cell_type": "code",
   "execution_count": 1,
   "id": "02bc1455",
   "metadata": {},
   "outputs": [],
   "source": [
    "import re"
   ]
  },
  {
   "cell_type": "markdown",
   "id": "ef6f30ee",
   "metadata": {},
   "source": [
    "### 1. findall()\n",
    "- Returns a list containig all matches"
   ]
  },
  {
   "cell_type": "markdown",
   "id": "9a0f8b22",
   "metadata": {},
   "source": [
    "##### Matches on literal search"
   ]
  },
  {
   "cell_type": "code",
   "execution_count": 2,
   "id": "928772e7",
   "metadata": {},
   "outputs": [
    {
     "data": {
      "text/plain": [
       "['1', '1', '1', '1', '1']"
      ]
     },
     "execution_count": 2,
     "metadata": {},
     "output_type": "execute_result"
    }
   ],
   "source": [
    "text = \"12345678902222222212123123412345\"\n",
    "num = re.findall(\"1\",text)\n",
    "num"
   ]
  },
  {
   "cell_type": "code",
   "execution_count": 3,
   "id": "4c791767",
   "metadata": {},
   "outputs": [
    {
     "data": {
      "text/plain": [
       "['12', '12', '12', '12', '12']"
      ]
     },
     "execution_count": 3,
     "metadata": {},
     "output_type": "execute_result"
    }
   ],
   "source": [
    "num2 = re.findall(\"12\",text) # literal search\n",
    "num2"
   ]
  },
  {
   "cell_type": "code",
   "execution_count": 4,
   "id": "f2a04b7f",
   "metadata": {},
   "outputs": [
    {
     "data": {
      "text/plain": [
       "[]"
      ]
     },
     "execution_count": 4,
     "metadata": {},
     "output_type": "execute_result"
    }
   ],
   "source": [
    "num2 = re.findall(\"126\",text) # literal search\n",
    "num2"
   ]
  },
  {
   "cell_type": "code",
   "execution_count": 5,
   "id": "f272ea62",
   "metadata": {},
   "outputs": [
    {
     "data": {
      "text/plain": [
       "['567']"
      ]
     },
     "execution_count": 5,
     "metadata": {},
     "output_type": "execute_result"
    }
   ],
   "source": [
    "num3 = re.findall(\"567\", text) # literal search\n",
    "num3"
   ]
  },
  {
   "cell_type": "code",
   "execution_count": 6,
   "id": "8852fa42",
   "metadata": {},
   "outputs": [
    {
     "data": {
      "text/plain": [
       "['22', '22', '22', '22']"
      ]
     },
     "execution_count": 6,
     "metadata": {},
     "output_type": "execute_result"
    }
   ],
   "source": [
    "num4 = re.findall(\"22\",text) # literal search\n",
    "num4"
   ]
  },
  {
   "cell_type": "code",
   "execution_count": 7,
   "id": "0e1220da",
   "metadata": {},
   "outputs": [
    {
     "data": {
      "text/plain": [
       "['1234', '1234', '1234']"
      ]
     },
     "execution_count": 7,
     "metadata": {},
     "output_type": "execute_result"
    }
   ],
   "source": [
    "n1 = re.findall(\"1234\", text)  # literal search\n",
    "n1"
   ]
  },
  {
   "cell_type": "code",
   "execution_count": 8,
   "id": "c1ef03a6",
   "metadata": {},
   "outputs": [
    {
     "data": {
      "text/plain": [
       "['Number']"
      ]
     },
     "execution_count": 8,
     "metadata": {},
     "output_type": "execute_result"
    }
   ],
   "source": [
    "text  = \"\"\" Number 12345678902222222212123123412345\"\"\"\n",
    "n1 = re.findall(\"Number\",text)    # literal search\n",
    "n1"
   ]
  },
  {
   "cell_type": "code",
   "execution_count": 9,
   "id": "0f574882",
   "metadata": {},
   "outputs": [
    {
     "data": {
      "text/plain": [
       "[]"
      ]
     },
     "execution_count": 9,
     "metadata": {},
     "output_type": "execute_result"
    }
   ],
   "source": [
    "text  = \"\"\" Number 12345678902222222212123123412345\"\"\"\n",
    "n2 = re.findall(\"Number 567\",text)    # literal search\n",
    "n2"
   ]
  },
  {
   "cell_type": "code",
   "execution_count": 10,
   "id": "716f34c3",
   "metadata": {},
   "outputs": [
    {
     "data": {
      "text/plain": [
       "[' ', 'N', 'u', 'm', 'b', 'e', 'r', ' ', '5', '6', '7', '5']"
      ]
     },
     "execution_count": 10,
     "metadata": {},
     "output_type": "execute_result"
    }
   ],
   "source": [
    "text  = \"\"\" Number 12345678902222222212123123412345\"\"\"\n",
    "n2 = re.findall(\"[Number 567]\",text)    \n",
    "n2"
   ]
  },
  {
   "cell_type": "code",
   "execution_count": 11,
   "id": "967fb4b2",
   "metadata": {},
   "outputs": [
    {
     "data": {
      "text/plain": [
       "['1', '5', '6', '7', '1', '1', '1', '1', '5']"
      ]
     },
     "execution_count": 11,
     "metadata": {},
     "output_type": "execute_result"
    }
   ],
   "source": [
    "text  = \"\"\" Number 12345678902222222212123123412345\"\"\"\n",
    "n2 = re.findall(\"[1567]\",text)   \n",
    "n2"
   ]
  },
  {
   "cell_type": "code",
   "execution_count": 12,
   "id": "7266e8be",
   "metadata": {},
   "outputs": [
    {
     "data": {
      "text/plain": [
       "['2', '2', '2', '2', '2', '2', '2', '2', '2']"
      ]
     },
     "execution_count": 12,
     "metadata": {},
     "output_type": "execute_result"
    }
   ],
   "source": [
    "text  = \"\"\" Number 1234567890222212123123412345\"\"\"\n",
    "n = re.findall(\"[2]\",text)\n",
    "n"
   ]
  },
  {
   "cell_type": "code",
   "execution_count": null,
   "id": "b377f143",
   "metadata": {},
   "outputs": [],
   "source": []
  },
  {
   "cell_type": "code",
   "execution_count": 13,
   "id": "14e4b75b",
   "metadata": {},
   "outputs": [
    {
     "data": {
      "text/plain": [
       "['22', '22']"
      ]
     },
     "execution_count": 13,
     "metadata": {},
     "output_type": "execute_result"
    }
   ],
   "source": [
    "text  = \"\"\" Number 1234567890222212123123412345\"\"\"\n",
    "n = re.findall(\"[2]{2}\",text)\n",
    "n"
   ]
  },
  {
   "cell_type": "code",
   "execution_count": 14,
   "id": "f024e7aa",
   "metadata": {},
   "outputs": [
    {
     "data": {
      "text/plain": [
       "['N', 'u', 'm']"
      ]
     },
     "execution_count": 14,
     "metadata": {},
     "output_type": "execute_result"
    }
   ],
   "source": [
    "text  = \"\"\" Number 1234567890222212123123412345\"\"\"\n",
    "n = re.findall(\"[Num]{1}\",text)\n",
    "n"
   ]
  },
  {
   "cell_type": "code",
   "execution_count": 15,
   "id": "a7e471ce",
   "metadata": {},
   "outputs": [
    {
     "data": {
      "text/plain": [
       "[]"
      ]
     },
     "execution_count": 15,
     "metadata": {},
     "output_type": "execute_result"
    }
   ],
   "source": [
    "text  = \"\"\" Number 1234567890222212123123412345\"\"\"\n",
    "n = re.findall(\"[Num]{4}\",text)\n",
    "n"
   ]
  },
  {
   "cell_type": "code",
   "execution_count": 16,
   "id": "d6f418a6",
   "metadata": {},
   "outputs": [
    {
     "data": {
      "text/plain": [
       "['Nu']"
      ]
     },
     "execution_count": 16,
     "metadata": {},
     "output_type": "execute_result"
    }
   ],
   "source": [
    "text  = \"\"\" Number 1234567890222212123123412345\"\"\"\n",
    "n = re.findall(\"[Num]{2}\",text)\n",
    "n"
   ]
  },
  {
   "cell_type": "code",
   "execution_count": 17,
   "id": "7601d02a",
   "metadata": {},
   "outputs": [
    {
     "data": {
      "text/plain": [
       "['Num']"
      ]
     },
     "execution_count": 17,
     "metadata": {},
     "output_type": "execute_result"
    }
   ],
   "source": [
    "text  = \"\"\" Number 1234567890222212123123412345\"\"\"\n",
    "n = re.findall(\"[Num]{3}\",text)\n",
    "n"
   ]
  },
  {
   "cell_type": "code",
   "execution_count": 18,
   "id": "be256401",
   "metadata": {},
   "outputs": [
    {
     "data": {
      "text/plain": [
       "['123', '222', '212', '123', '123', '123']"
      ]
     },
     "execution_count": 18,
     "metadata": {},
     "output_type": "execute_result"
    }
   ],
   "source": [
    "text  = \"\"\" Number 1234567890222212123123412345\"\"\"\n",
    "n = re.findall(\"[123]{3}\",text)\n",
    "n"
   ]
  },
  {
   "cell_type": "code",
   "execution_count": null,
   "id": "5f671883",
   "metadata": {},
   "outputs": [],
   "source": []
  },
  {
   "cell_type": "code",
   "execution_count": null,
   "id": "2ae36d18",
   "metadata": {},
   "outputs": [],
   "source": []
  },
  {
   "cell_type": "code",
   "execution_count": 19,
   "id": "c20ff761",
   "metadata": {},
   "outputs": [
    {
     "data": {
      "text/plain": [
       "['1',\n",
       " '2',\n",
       " '3',\n",
       " '4',\n",
       " '5',\n",
       " '6',\n",
       " '7',\n",
       " '8',\n",
       " '9',\n",
       " '0',\n",
       " '2',\n",
       " '2',\n",
       " '2',\n",
       " '2',\n",
       " '1',\n",
       " '2',\n",
       " '1',\n",
       " '2',\n",
       " '3',\n",
       " '1',\n",
       " '2',\n",
       " '3',\n",
       " '4',\n",
       " '1',\n",
       " '2',\n",
       " '3',\n",
       " '4',\n",
       " '5']"
      ]
     },
     "execution_count": 19,
     "metadata": {},
     "output_type": "execute_result"
    }
   ],
   "source": [
    "text  = \"\"\" Number 1234567890222212123123412345\"\"\"\n",
    "n = re.findall(\"[0-9]\",text)\n",
    "n"
   ]
  },
  {
   "cell_type": "code",
   "execution_count": 20,
   "id": "fa28627e",
   "metadata": {},
   "outputs": [
    {
     "data": {
      "text/plain": [
       "['123', '456', '789', '022', '221', '212', '312', '341', '234']"
      ]
     },
     "execution_count": 20,
     "metadata": {},
     "output_type": "execute_result"
    }
   ],
   "source": [
    "text  = \"\"\" Number 1234567890222212123123412345\"\"\"\n",
    "n = re.findall(\"[0-9]{3}\",text)\n",
    "n"
   ]
  },
  {
   "cell_type": "code",
   "execution_count": 36,
   "id": "e6b35eb1",
   "metadata": {},
   "outputs": [
    {
     "data": {
      "text/plain": [
       "['V', 'a', 'i', 'b', 'h', 'a', 'v', 'P', 'a', 'n', 'c', 'h', 'a', 'l', '/']"
      ]
     },
     "execution_count": 36,
     "metadata": {},
     "output_type": "execute_result"
    }
   ],
   "source": [
    "text = \"\"\"Vaibhav Panchal / 1\"\"\" \n",
    "num = re.findall(\"[A-Z/a-z]\",text)  \n",
    "num"
   ]
  },
  {
   "cell_type": "code",
   "execution_count": 23,
   "id": "ac449cbd",
   "metadata": {},
   "outputs": [
    {
     "data": {
      "text/plain": [
       "['V', 'a', 'i', 'b', 'h', 'a', 'v', 'P', 'a', 'n', 'c', 'h', 'a', 'l']"
      ]
     },
     "execution_count": 23,
     "metadata": {},
     "output_type": "execute_result"
    }
   ],
   "source": [
    "text = \"\"\"Vaibhav Panchal 1\"\"\" \n",
    "num = re.findall(\"[A-Za-z]\",text)  \n",
    "num"
   ]
  },
  {
   "cell_type": "code",
   "execution_count": 26,
   "id": "ad2f7c44",
   "metadata": {},
   "outputs": [
    {
     "data": {
      "text/plain": [
       "True"
      ]
     },
     "execution_count": 26,
     "metadata": {},
     "output_type": "execute_result"
    }
   ],
   "source": [
    "['V', 'a', 'i', 'b', 'h', 'a', 'v', 'P', 'a', 'n', 'c', 'h', 'a', 'l'] == ['V', 'a', 'i', 'b', 'h', 'a', 'v', 'P', 'a', 'n', 'c', 'h', 'a', 'l']"
   ]
  },
  {
   "cell_type": "code",
   "execution_count": 45,
   "id": "26b9abc1",
   "metadata": {},
   "outputs": [
    {
     "name": "stdout",
     "output_type": "stream",
     "text": [
      "['Example@gmail.com'] "
     ]
    }
   ],
   "source": [
    "email = \"Example@gmail.com\"\n",
    "\n",
    "match_email = re.findall(\"[A-Z @.a-z]{17}\",email)\n",
    "print(match_email,end=\" \")"
   ]
  },
  {
   "cell_type": "code",
   "execution_count": null,
   "id": "ae538f42",
   "metadata": {},
   "outputs": [],
   "source": []
  }
 ],
 "metadata": {
  "kernelspec": {
   "display_name": "Python 3 (ipykernel)",
   "language": "python",
   "name": "python3"
  },
  "language_info": {
   "codemirror_mode": {
    "name": "ipython",
    "version": 3
   },
   "file_extension": ".py",
   "mimetype": "text/x-python",
   "name": "python",
   "nbconvert_exporter": "python",
   "pygments_lexer": "ipython3",
   "version": "3.9.12"
  }
 },
 "nbformat": 4,
 "nbformat_minor": 5
}
