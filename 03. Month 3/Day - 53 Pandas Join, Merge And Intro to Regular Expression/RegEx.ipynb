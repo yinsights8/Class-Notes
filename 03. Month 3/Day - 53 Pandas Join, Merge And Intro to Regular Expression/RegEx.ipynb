{
 "cells": [
  {
   "cell_type": "markdown",
   "id": "6f0acad7",
   "metadata": {},
   "source": [
    "# Regular Expression\n",
    "- import re\n",
    "- Regex >> Sequence Of Characters"
   ]
  },
  {
   "cell_type": "raw",
   "id": "584a47d8",
   "metadata": {},
   "source": [
    "PAN_CARD Data\n",
    "\n",
    "image_name  PAN_Number      DOB        NAME    Father_Name\n",
    "Pan1.jpg    ASDDR1234R   07/01/1999    Ahsray    Sunil\n",
    "Pan2.jpg    ASDDR1234R   07/12/1899   Ahsray1    Sunil1\n",
    "Pan3.jpg    ASDDR1234R   08/01/1999   Ahsray2    Sunil2\n",
    "Pan4.jpg    ASDDR1234R   07/12/1989   Ahsray3    Sunil3\n",
    "Pan5.jpg    ASDDR1234R   07/01/1999   Ahsray4    Sunil4\n",
    "Pan6.jpg    ASDDR1234R   07/11/1999   Ahsray5    Sunil5\n",
    "Pan7.jpg    ASDDR1234R   08/03/1899   Ahsray6    Sunil6\n",
    "Pan8.jpg    ASDDR1234R   07/05/1998   Ahsray7    Sunil7"
   ]
  },
  {
   "cell_type": "markdown",
   "id": "861228de",
   "metadata": {},
   "source": [
    "# Regular Expression Function\n",
    "- 1. findall\n",
    "- 2. sub\n",
    "- 3. match\n",
    "- 4. search\n",
    "- 5. compile\n",
    "- 6. split"
   ]
  },
  {
   "cell_type": "raw",
   "id": "7f19d466",
   "metadata": {},
   "source": [
    "Image  ---->  Text\n",
    "OCR :\n",
    "    - 1. Pytesseract\n",
    "    - 2. Google Vision\n",
    "    - 3. Amazon Textract\n",
    "    \n",
    "Pytesseract:- \n",
    "    - Image Processing using openCV(import cv2)\n",
    "    - Skew Correction\n",
    "    - Noise Removal"
   ]
  },
  {
   "cell_type": "markdown",
   "id": "5788c2e2",
   "metadata": {},
   "source": [
    "# 1. findall()\n",
    "- list = re.findall(pattern, text)"
   ]
  },
  {
   "cell_type": "code",
   "execution_count": 2,
   "id": "9b1a8719",
   "metadata": {},
   "outputs": [],
   "source": [
    "import re"
   ]
  },
  {
   "cell_type": "code",
   "execution_count": 3,
   "id": "11b10e24",
   "metadata": {},
   "outputs": [
    {
     "data": {
      "text/plain": [
       "['1']"
      ]
     },
     "execution_count": 3,
     "metadata": {},
     "output_type": "execute_result"
    }
   ],
   "source": [
    "text = \"\"\"1234567890\"\"\"\n",
    "num = re.findall(\"1\",text)\n",
    "num"
   ]
  },
  {
   "cell_type": "code",
   "execution_count": 4,
   "id": "e57c5b7e",
   "metadata": {},
   "outputs": [
    {
     "data": {
      "text/plain": [
       "['2']"
      ]
     },
     "execution_count": 4,
     "metadata": {},
     "output_type": "execute_result"
    }
   ],
   "source": [
    "text = \"\"\"1234567890\"\"\"\n",
    "num = re.findall(\"2\",text)\n",
    "num"
   ]
  },
  {
   "cell_type": "code",
   "execution_count": 5,
   "id": "f1b0520b",
   "metadata": {},
   "outputs": [
    {
     "data": {
      "text/plain": [
       "['2', '2', '2', '2']"
      ]
     },
     "execution_count": 5,
     "metadata": {},
     "output_type": "execute_result"
    }
   ],
   "source": [
    "text = \"\"\"1234567890222\"\"\"\n",
    "num = re.findall(\"2\",text)\n",
    "num"
   ]
  },
  {
   "cell_type": "code",
   "execution_count": 6,
   "id": "6dc0117b",
   "metadata": {},
   "outputs": [
    {
     "data": {
      "text/plain": [
       "['22']"
      ]
     },
     "execution_count": 6,
     "metadata": {},
     "output_type": "execute_result"
    }
   ],
   "source": [
    "text = \"\"\"1234567890222\"\"\"\n",
    "num = re.findall(\"22\",text)\n",
    "num"
   ]
  },
  {
   "cell_type": "code",
   "execution_count": 7,
   "id": "25737c3a",
   "metadata": {},
   "outputs": [
    {
     "data": {
      "text/plain": [
       "['22', '22']"
      ]
     },
     "execution_count": 7,
     "metadata": {},
     "output_type": "execute_result"
    }
   ],
   "source": [
    "text = \"\"\"12345678902222\"\"\"\n",
    "num = re.findall(\"22\",text)\n",
    "num"
   ]
  },
  {
   "cell_type": "code",
   "execution_count": 8,
   "id": "d7d89dc5",
   "metadata": {},
   "outputs": [
    {
     "data": {
      "text/plain": [
       "['22', '22', '22']"
      ]
     },
     "execution_count": 8,
     "metadata": {},
     "output_type": "execute_result"
    }
   ],
   "source": [
    "text = \"\"\"122345678902222\"\"\"\n",
    "num = re.findall(\"22\",text)\n",
    "num"
   ]
  },
  {
   "cell_type": "code",
   "execution_count": 11,
   "id": "2dcfe7a0",
   "metadata": {},
   "outputs": [
    {
     "data": {
      "text/plain": [
       "['1234']"
      ]
     },
     "execution_count": 11,
     "metadata": {},
     "output_type": "execute_result"
    }
   ],
   "source": [
    "text = \"\"\"12345678902222\"\"\"\n",
    "num = re.findall(\"1234\",text) # litteral Search\n",
    "num"
   ]
  },
  {
   "cell_type": "code",
   "execution_count": 12,
   "id": "7043cfb7",
   "metadata": {},
   "outputs": [
    {
     "data": {
      "text/plain": [
       "['Number']"
      ]
     },
     "execution_count": 12,
     "metadata": {},
     "output_type": "execute_result"
    }
   ],
   "source": [
    "text = \"\"\"Number 12345678902222\"\"\"\n",
    "num = re.findall(\"Number\",text) # litteral Search\n",
    "num"
   ]
  },
  {
   "cell_type": "code",
   "execution_count": 13,
   "id": "c7e40ee4",
   "metadata": {},
   "outputs": [
    {
     "data": {
      "text/plain": [
       "['1', '2', '5', '8', '2', '2', '2', '2']"
      ]
     },
     "execution_count": 13,
     "metadata": {},
     "output_type": "execute_result"
    }
   ],
   "source": [
    "text = \"\"\"Number 12345678902222\"\"\"\n",
    "num = re.findall(\"[1258]\",text)\n",
    "num"
   ]
  },
  {
   "cell_type": "code",
   "execution_count": 14,
   "id": "333c2378",
   "metadata": {},
   "outputs": [
    {
     "data": {
      "text/plain": [
       "['2', '2', '2', '2', '2']"
      ]
     },
     "execution_count": 14,
     "metadata": {},
     "output_type": "execute_result"
    }
   ],
   "source": [
    "text = \"\"\"Number 12345678902222\"\"\"\n",
    "num = re.findall(\"[2]\",text)\n",
    "num"
   ]
  },
  {
   "cell_type": "code",
   "execution_count": 15,
   "id": "26c8362c",
   "metadata": {},
   "outputs": [
    {
     "data": {
      "text/plain": [
       "['22', '22']"
      ]
     },
     "execution_count": 15,
     "metadata": {},
     "output_type": "execute_result"
    }
   ],
   "source": [
    "text = \"\"\"Number 12345678902222\"\"\"\n",
    "num = re.findall(\"[2]{2}\",text)  # 22\n",
    "num"
   ]
  },
  {
   "cell_type": "code",
   "execution_count": 17,
   "id": "3c88696c",
   "metadata": {},
   "outputs": [
    {
     "data": {
      "text/plain": [
       "['222', '222', '222']"
      ]
     },
     "execution_count": 17,
     "metadata": {},
     "output_type": "execute_result"
    }
   ],
   "source": [
    "text = \"\"\"Number 12345678902222kiufhlgudhlkjghdfkjghnk2222222\"\"\"\n",
    "num = re.findall(\"[2]{3}\",text)  # 222\n",
    "num"
   ]
  },
  {
   "cell_type": "code",
   "execution_count": 18,
   "id": "08ceaaaf",
   "metadata": {},
   "outputs": [
    {
     "data": {
      "text/plain": [
       "['9', '0', '9', '8', '9', '7', '9', '8', '7', '8']"
      ]
     },
     "execution_count": 18,
     "metadata": {},
     "output_type": "execute_result"
    }
   ],
   "source": [
    "text = \"\"\"Mobile_Number 9098979878\"\"\"\n",
    "num = re.findall(\"[0-9]\",text)  \n",
    "num"
   ]
  },
  {
   "cell_type": "code",
   "execution_count": 19,
   "id": "23f4ad93",
   "metadata": {},
   "outputs": [
    {
     "data": {
      "text/plain": [
       "['90', '98', '97', '98', '78']"
      ]
     },
     "execution_count": 19,
     "metadata": {},
     "output_type": "execute_result"
    }
   ],
   "source": [
    "text = \"\"\"Mobile_Number 9098979878\"\"\"\n",
    "num = re.findall(\"[0-9]{2}\",text)  \n",
    "num"
   ]
  },
  {
   "cell_type": "code",
   "execution_count": 20,
   "id": "338d2446",
   "metadata": {},
   "outputs": [
    {
     "data": {
      "text/plain": [
       "['90', '98', '97', '98', '78']"
      ]
     },
     "execution_count": 20,
     "metadata": {},
     "output_type": "execute_result"
    }
   ],
   "source": [
    "text = \"\"\"Mobile_Number 90989798789\"\"\"\n",
    "num = re.findall(\"[0-9]{2}\",text)  \n",
    "num"
   ]
  },
  {
   "cell_type": "code",
   "execution_count": 21,
   "id": "98c5fbfe",
   "metadata": {},
   "outputs": [
    {
     "data": {
      "text/plain": [
       "['90', '98', '97', '98', '78', '90']"
      ]
     },
     "execution_count": 21,
     "metadata": {},
     "output_type": "execute_result"
    }
   ],
   "source": [
    "text = \"\"\"Mobile_Number 909897987890\"\"\"\n",
    "num = re.findall(\"[0-9]{2}\",text)  \n",
    "num"
   ]
  },
  {
   "cell_type": "code",
   "execution_count": 28,
   "id": "1ac22df3",
   "metadata": {},
   "outputs": [
    {
     "data": {
      "text/plain": [
       "['90989', '79878', '12345', '67890']"
      ]
     },
     "execution_count": 28,
     "metadata": {},
     "output_type": "execute_result"
    }
   ],
   "source": [
    "text = \"\"\"Mobile_Number 9098979878 1234567890\"\"\"\n",
    "num = re.findall(\"[0-9]{5}\",text)  \n",
    "num"
   ]
  },
  {
   "cell_type": "code",
   "execution_count": 29,
   "id": "ddadf3c5",
   "metadata": {},
   "outputs": [
    {
     "data": {
      "text/plain": [
       "['9098979878']"
      ]
     },
     "execution_count": 29,
     "metadata": {},
     "output_type": "execute_result"
    }
   ],
   "source": [
    "text = \"\"\"Mobile_Number 9098979878\"\"\"\n",
    "num = re.findall(\"[0-9]{10}\",text)  \n",
    "num"
   ]
  },
  {
   "cell_type": "code",
   "execution_count": 30,
   "id": "a29d1aac",
   "metadata": {},
   "outputs": [
    {
     "data": {
      "text/plain": [
       "[]"
      ]
     },
     "execution_count": 30,
     "metadata": {},
     "output_type": "execute_result"
    }
   ],
   "source": [
    "text = \"\"\"Mobile_Number 909897987\"\"\" # 9\n",
    "num = re.findall(\"[0-9]{10}\",text)  \n",
    "num"
   ]
  },
  {
   "cell_type": "code",
   "execution_count": 31,
   "id": "c19c76e3",
   "metadata": {},
   "outputs": [
    {
     "data": {
      "text/plain": [
       "['9098979878']"
      ]
     },
     "execution_count": 31,
     "metadata": {},
     "output_type": "execute_result"
    }
   ],
   "source": [
    "text = \"\"\"Mobile_Number 909897987890\"\"\" # 9\n",
    "num = re.findall(\"[0-9]{10}\",text)  \n",
    "num"
   ]
  },
  {
   "cell_type": "code",
   "execution_count": 32,
   "id": "6e2020d0",
   "metadata": {},
   "outputs": [
    {
     "data": {
      "text/plain": [
       "['9098979878',\n",
       " '9098979878',\n",
       " '9093456878',\n",
       " '9098976666',\n",
       " '9898979878',\n",
       " '8098777878',\n",
       " '9098979878',\n",
       " '9098979878']"
      ]
     },
     "execution_count": 32,
     "metadata": {},
     "output_type": "execute_result"
    }
   ],
   "source": [
    "text = \"\"\"Mobile_Number 9098979878,\n",
    "Mobile_Number 9098979878\n",
    "Mobile_Number 9093456878\n",
    "Mobile_Number 9098976666\n",
    "Mobile_Number 9898979878\n",
    "Mobile_Number 8098777878\n",
    "Mobile_Number 9098979878\n",
    "Mobile_Number 9098979878\n",
    "\n",
    "\"\"\" \n",
    "num = re.findall(\"[0-9]{10}\",text)  \n",
    "num"
   ]
  },
  {
   "cell_type": "code",
   "execution_count": 33,
   "id": "493eae67",
   "metadata": {},
   "outputs": [
    {
     "data": {
      "text/plain": [
       "['Vaibhav Panchal']"
      ]
     },
     "execution_count": 33,
     "metadata": {},
     "output_type": "execute_result"
    }
   ],
   "source": [
    "text = \"\"\"Vaibhav Panchal\"\"\" \n",
    "num = re.findall(\"Vaibhav Panchal\",text)  \n",
    "num"
   ]
  },
  {
   "cell_type": "code",
   "execution_count": 34,
   "id": "ed102fa9",
   "metadata": {},
   "outputs": [
    {
     "data": {
      "text/plain": [
       "['a', 'i', 'b', 'h', 'a', 'v', 'a', 'n', 'c', 'h', 'a', 'l']"
      ]
     },
     "execution_count": 34,
     "metadata": {},
     "output_type": "execute_result"
    }
   ],
   "source": [
    "text = \"\"\"Vaibhav Panchal\"\"\" \n",
    "num = re.findall(\"[a-z]\",text)  \n",
    "num"
   ]
  },
  {
   "cell_type": "code",
   "execution_count": 36,
   "id": "4e8fe2e6",
   "metadata": {},
   "outputs": [
    {
     "data": {
      "text/plain": [
       "['V', 'P']"
      ]
     },
     "execution_count": 36,
     "metadata": {},
     "output_type": "execute_result"
    }
   ],
   "source": [
    "text = \"\"\"Vaibhav Panchal\"\"\" \n",
    "num = re.findall(\"[A-Z]\",text)  \n",
    "num"
   ]
  },
  {
   "cell_type": "code",
   "execution_count": 37,
   "id": "0812a315",
   "metadata": {},
   "outputs": [
    {
     "data": {
      "text/plain": [
       "['V', 'a', 'i', 'b', 'h', 'a', 'v', 'P', 'a', 'n', 'c', 'h', 'a', 'l']"
      ]
     },
     "execution_count": 37,
     "metadata": {},
     "output_type": "execute_result"
    }
   ],
   "source": [
    "text = \"\"\"Vaibhav Panchal 1\"\"\" \n",
    "num = re.findall(\"[A-Za-z]\",text)  \n",
    "num"
   ]
  },
  {
   "cell_type": "code",
   "execution_count": 39,
   "id": "de3e7a58",
   "metadata": {},
   "outputs": [
    {
     "data": {
      "text/plain": [
       "['V', 'a', 'i', 'b', 'h', 'a', 'v', 'P', 'a', 'n', 'c', 'h', 'a', 'l', '1']"
      ]
     },
     "execution_count": 39,
     "metadata": {},
     "output_type": "execute_result"
    }
   ],
   "source": [
    "text = \"\"\"Vaibhav Panchal 1\"\"\" \n",
    "num = re.findall(\"[A-Za-z0-9]\",text)  \n",
    "num"
   ]
  },
  {
   "cell_type": "code",
   "execution_count": 40,
   "id": "e1e6cf24",
   "metadata": {},
   "outputs": [
    {
     "data": {
      "text/plain": [
       "['Va', 'ib', 'ha', 'Pa', 'nc', 'ha']"
      ]
     },
     "execution_count": 40,
     "metadata": {},
     "output_type": "execute_result"
    }
   ],
   "source": [
    "text = \"\"\"Vaibhav Panchal 1\"\"\" \n",
    "num = re.findall(\"[A-Za-z0-9]{2}\",text)  \n",
    "num"
   ]
  },
  {
   "cell_type": "code",
   "execution_count": null,
   "id": "c908a402",
   "metadata": {},
   "outputs": [],
   "source": []
  }
 ],
 "metadata": {
  "kernelspec": {
   "display_name": "Python 3 (ipykernel)",
   "language": "python",
   "name": "python3"
  },
  "language_info": {
   "codemirror_mode": {
    "name": "ipython",
    "version": 3
   },
   "file_extension": ".py",
   "mimetype": "text/x-python",
   "name": "python",
   "nbconvert_exporter": "python",
   "pygments_lexer": "ipython3",
   "version": "3.9.12"
  }
 },
 "nbformat": 4,
 "nbformat_minor": 5
}
