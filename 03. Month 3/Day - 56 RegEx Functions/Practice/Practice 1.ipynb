{
 "cells": [
  {
   "cell_type": "markdown",
   "id": "0703b725",
   "metadata": {},
   "source": [
    "### 1. | (or)"
   ]
  },
  {
   "cell_type": "code",
   "execution_count": 1,
   "id": "671540aa",
   "metadata": {},
   "outputs": [],
   "source": [
    "import re"
   ]
  },
  {
   "cell_type": "code",
   "execution_count": 2,
   "id": "3704bcbc",
   "metadata": {},
   "outputs": [
    {
     "data": {
      "text/plain": [
       "['python']"
      ]
     },
     "execution_count": 2,
     "metadata": {},
     "output_type": "execute_result"
    }
   ],
   "source": [
    "text = \"\"\"python and data science\"\"\"\n",
    "re.findall(\"python|java\",text)"
   ]
  },
  {
   "cell_type": "code",
   "execution_count": 3,
   "id": "22b24ff7",
   "metadata": {},
   "outputs": [
    {
     "data": {
      "text/plain": [
       "['java', 'python', 'java', 'python']"
      ]
     },
     "execution_count": 3,
     "metadata": {},
     "output_type": "execute_result"
    }
   ],
   "source": [
    "text = \"\"\"pyhton java data science pyton python java python\"\"\"\n",
    "re.findall(\"python|java\",text)"
   ]
  },
  {
   "cell_type": "code",
   "execution_count": 4,
   "id": "3e15c4ab",
   "metadata": {},
   "outputs": [
    {
     "data": {
      "text/plain": [
       "['L', 'I', 'L']"
      ]
     },
     "execution_count": 4,
     "metadata": {},
     "output_type": "execute_result"
    }
   ],
   "source": [
    "txt = \"\"\"LINLO\"\"\"\n",
    "re.findall(\"I|L\",txt)"
   ]
  },
  {
   "cell_type": "code",
   "execution_count": 5,
   "id": "a3d3f8e5",
   "metadata": {},
   "outputs": [
    {
     "data": {
      "text/plain": [
       "['04869-']"
      ]
     },
     "execution_count": 5,
     "metadata": {},
     "output_type": "execute_result"
    }
   ],
   "source": [
    "txt = \"\"\"04869-222051\"\"\"\n",
    "re.findall(\"^0.+\\-\",txt)"
   ]
  },
  {
   "cell_type": "code",
   "execution_count": 6,
   "id": "4ada72b1",
   "metadata": {},
   "outputs": [
    {
     "data": {
      "text/plain": [
       "['-222051']"
      ]
     },
     "execution_count": 6,
     "metadata": {},
     "output_type": "execute_result"
    }
   ],
   "source": [
    "txt = \"\"\"04869-222051\"\"\"\n",
    "re.findall(\"-.+\",txt)"
   ]
  },
  {
   "cell_type": "code",
   "execution_count": 7,
   "id": "e997d9a2",
   "metadata": {},
   "outputs": [
    {
     "data": {
      "text/plain": [
       "[]"
      ]
     },
     "execution_count": 7,
     "metadata": {},
     "output_type": "execute_result"
    }
   ],
   "source": [
    "txt = \"\"\"04869-222051\"\"\"\n",
    "re.findall(\"(^0.+\\-) | (-.+)\",txt)"
   ]
  },
  {
   "cell_type": "code",
   "execution_count": 8,
   "id": "f15f8305",
   "metadata": {},
   "outputs": [
    {
     "data": {
      "text/plain": [
       "['04869-222051']"
      ]
     },
     "execution_count": 8,
     "metadata": {},
     "output_type": "execute_result"
    }
   ],
   "source": [
    "txt = \"\"\"04869-222051\"\"\"\n",
    "re.findall(r\"\\b0.+\\b\",txt)"
   ]
  },
  {
   "cell_type": "code",
   "execution_count": 9,
   "id": "2407ed52",
   "metadata": {},
   "outputs": [
    {
     "data": {
      "text/plain": [
       "['0']"
      ]
     },
     "execution_count": 9,
     "metadata": {},
     "output_type": "execute_result"
    }
   ],
   "source": [
    "txt = \"\"\"04869-222051\"\"\"\n",
    "re.findall(r\"\\b0\",txt)"
   ]
  },
  {
   "cell_type": "code",
   "execution_count": 10,
   "id": "9f16e825",
   "metadata": {},
   "outputs": [
    {
     "data": {
      "text/plain": [
       "['20-05-2022']"
      ]
     },
     "execution_count": 10,
     "metadata": {},
     "output_type": "execute_result"
    }
   ],
   "source": [
    "dates = \"\"\"\n",
    "20-05-2022,\n",
    "30.06.2022,\n",
    "15,02,2021,\n",
    "23-jan-2023,\n",
    "05 05 2021\n",
    "06/02/2023,\n",
    "08//09//2024\n",
    "\"\"\"\n",
    "\n",
    "re.findall(\"\\d{2}[-]\\d{2}[-]\\d{4}\",dates)"
   ]
  },
  {
   "cell_type": "code",
   "execution_count": 11,
   "id": "9798a264",
   "metadata": {},
   "outputs": [
    {
     "data": {
      "text/plain": [
       "['20-05-2022', '30.06.2022', '15,02,2021', '05 05 2021', '06/02/2023']"
      ]
     },
     "execution_count": 11,
     "metadata": {},
     "output_type": "execute_result"
    }
   ],
   "source": [
    "dates = \"\"\"\n",
    "20-05-2022,\n",
    "30.06.2022,\n",
    "15,02,2021,\n",
    "23-jan-2023,\n",
    "05 05 2021\n",
    "06/02/2023,\n",
    "08//09//2024\n",
    "\"\"\"\n",
    "\n",
    "re.findall(\"\\d{2}[-.,/ ]\\d{2}[-.,/ ]\\d{4}\",dates)"
   ]
  },
  {
   "cell_type": "code",
   "execution_count": 12,
   "id": "e783ba86",
   "metadata": {},
   "outputs": [
    {
     "data": {
      "text/plain": [
       "[('20-05-2022', '', ''),\n",
       " ('30.06.2022', '', ''),\n",
       " ('15,02,2021', '', ''),\n",
       " ('05 05 2021', '', ''),\n",
       " ('06/02/2023', '', '')]"
      ]
     },
     "execution_count": 12,
     "metadata": {},
     "output_type": "execute_result"
    }
   ],
   "source": [
    "dates = \"\"\"\n",
    "20-05-2022,\n",
    "30.06.2022,\n",
    "15,02,2021,\n",
    "23-jan-2023,\n",
    "05 05 2021,\n",
    "06/02/2023,\n",
    "08//09//2024\n",
    "\"\"\"\n",
    "\n",
    "re.findall(\"(\\d{2}[-.,/ ]\\d{2}[-.,/ ]\\d{4})|(\\d{2}[-]\\w{3,10}[-]d{4})|(\\d{2}[//]d{2}[//]d{4})\",dates)"
   ]
  },
  {
   "cell_type": "code",
   "execution_count": 13,
   "id": "5a70415a",
   "metadata": {},
   "outputs": [
    {
     "data": {
      "text/plain": [
       "[('', '20-05-2022', ''),\n",
       " ('', '30.06.2022', ''),\n",
       " ('', '15,02,2021', ''),\n",
       " ('', '', '23-jan-2023'),\n",
       " ('', '05 05 2021', ''),\n",
       " ('', '06/02/2023', ''),\n",
       " ('08//09//2024', '', ''),\n",
       " ('08--09--2024', '', '')]"
      ]
     },
     "execution_count": 13,
     "metadata": {},
     "output_type": "execute_result"
    }
   ],
   "source": [
    "dates = \"\"\"\n",
    "20-05-2022,\n",
    "30.06.2022,\n",
    "15,02,2021,\n",
    "23-jan-2023,\n",
    "05 05 2021,\n",
    "06/02/2023,\n",
    "08//09//2024,\n",
    "08--09--2024\n",
    "\"\"\"\n",
    "re.findall(r\"(\\d{2}[/-]{2}\\d{2}[/-]{2}\\d{4})|(\\d{2}[-,./ ]\\d{2}[-,./ ]\\d{4})|(\\d{2}[-]\\w{3,10}[-]\\d{4})\",dates)"
   ]
  },
  {
   "cell_type": "code",
   "execution_count": 14,
   "id": "dfb56a16",
   "metadata": {},
   "outputs": [
    {
     "data": {
      "text/plain": [
       "['08//09//2024']"
      ]
     },
     "execution_count": 14,
     "metadata": {},
     "output_type": "execute_result"
    }
   ],
   "source": [
    "x = \"\"\"\n",
    "08//09//2024\n",
    "\"\"\"\n",
    "\n",
    "re.findall(\"\\d{2}[/]{2}\\d{2}[/]{2}\\d{4}\",x)"
   ]
  },
  {
   "cell_type": "code",
   "execution_count": 15,
   "id": "f8eb4e8e",
   "metadata": {},
   "outputs": [
    {
     "data": {
      "text/plain": [
       "[('20-05-2022', ''),\n",
       " ('30.06.2022', ''),\n",
       " ('15,02,2021', ''),\n",
       " ('', '23-jan-2023'),\n",
       " ('05 05 2021', ''),\n",
       " ('06/02/2023', ''),\n",
       " ('08//09//2024', ''),\n",
       " ('08--09--2024', '')]"
      ]
     },
     "execution_count": 15,
     "metadata": {},
     "output_type": "execute_result"
    }
   ],
   "source": [
    "dates = \"\"\"\n",
    "20-05-2022,\n",
    "30.06.2022,\n",
    "15,02,2021,\n",
    "23-jan-2023,\n",
    "05 05 2021,\n",
    "06/02/2023,\n",
    "08//09//2024\n",
    "08--09--2024\n",
    "\"\"\"\n",
    "re.findall(r\"(\\d{2}[-,./ ]{1,2}\\d{2}[-,./ ]{1,2}\\d{4})|(\\d{2}[-]\\w{3,10}[-]\\d{4})\",dates)"
   ]
  },
  {
   "cell_type": "markdown",
   "id": "be61698f",
   "metadata": {},
   "source": [
    "### 10 () \n",
    "- group of characters"
   ]
  },
  {
   "cell_type": "code",
   "execution_count": 16,
   "id": "2db8aec2",
   "metadata": {},
   "outputs": [],
   "source": [
    "text = \"superman and batman\"\n",
    "word = re.search(\"\\w.+\",text)"
   ]
  },
  {
   "cell_type": "code",
   "execution_count": 17,
   "id": "ca2c315b",
   "metadata": {},
   "outputs": [
    {
     "data": {
      "text/plain": [
       "'superman and batman'"
      ]
     },
     "execution_count": 17,
     "metadata": {},
     "output_type": "execute_result"
    }
   ],
   "source": [
    "word.group()"
   ]
  },
  {
   "cell_type": "code",
   "execution_count": 18,
   "id": "974aa2b7",
   "metadata": {},
   "outputs": [
    {
     "data": {
      "text/plain": [
       "'superman and batman'"
      ]
     },
     "execution_count": 18,
     "metadata": {},
     "output_type": "execute_result"
    }
   ],
   "source": [
    "word[0]"
   ]
  },
  {
   "cell_type": "code",
   "execution_count": 19,
   "id": "c1d22b51",
   "metadata": {},
   "outputs": [
    {
     "data": {
      "text/plain": [
       "<re.Match object; span=(0, 19), match='batman and superman'>"
      ]
     },
     "execution_count": 19,
     "metadata": {},
     "output_type": "execute_result"
    }
   ],
   "source": [
    "text = \"batman and superman\"\n",
    "word = re.search(\"\\w.+\",text)\n",
    "word"
   ]
  },
  {
   "cell_type": "code",
   "execution_count": 20,
   "id": "e946f322",
   "metadata": {},
   "outputs": [
    {
     "name": "stdout",
     "output_type": "stream",
     "text": [
      "batman and superman\n"
     ]
    }
   ],
   "source": [
    "if word: \n",
    "    print(word.group())\n",
    "else: \n",
    "    print(\"word not match\")"
   ]
  },
  {
   "cell_type": "code",
   "execution_count": 21,
   "id": "d18310d7",
   "metadata": {},
   "outputs": [
    {
     "data": {
      "text/plain": [
       "<re.Match object; span=(0, 8), match='superman'>"
      ]
     },
     "execution_count": 21,
     "metadata": {},
     "output_type": "execute_result"
    }
   ],
   "source": [
    "text = \"superman and superwoman\"\n",
    "word = re.search(\"super(wo)?man\",text)\n",
    "word"
   ]
  },
  {
   "cell_type": "code",
   "execution_count": 22,
   "id": "04bacf02",
   "metadata": {},
   "outputs": [
    {
     "data": {
      "text/plain": [
       "'superman'"
      ]
     },
     "execution_count": 22,
     "metadata": {},
     "output_type": "execute_result"
    }
   ],
   "source": [
    "word.group()"
   ]
  },
  {
   "cell_type": "code",
   "execution_count": 23,
   "id": "6b16c600",
   "metadata": {},
   "outputs": [
    {
     "ename": "IndexError",
     "evalue": "no such group",
     "output_type": "error",
     "traceback": [
      "\u001b[1;31m---------------------------------------------------------------------------\u001b[0m",
      "\u001b[1;31mIndexError\u001b[0m                                Traceback (most recent call last)",
      "Input \u001b[1;32mIn [23]\u001b[0m, in \u001b[0;36m<cell line: 1>\u001b[1;34m()\u001b[0m\n\u001b[1;32m----> 1\u001b[0m \u001b[43mword\u001b[49m\u001b[43m[\u001b[49m\u001b[38;5;241;43m0\u001b[39;49m\u001b[43m:\u001b[49m\u001b[38;5;241;43m8\u001b[39;49m\u001b[43m]\u001b[49m\n",
      "\u001b[1;31mIndexError\u001b[0m: no such group"
     ]
    }
   ],
   "source": [
    "word[0:8]"
   ]
  },
  {
   "cell_type": "code",
   "execution_count": 24,
   "id": "5276c3e3",
   "metadata": {},
   "outputs": [],
   "source": [
    "str1 = \"1234 5678 8998\"\n",
    "str2 = \"124 5678 8998\"\n",
    "str3 = \"1234 5678 898\"\n",
    "str4 = \"12345678 8998\"\n",
    "str5 = \"1234 5678 8998\"\n",
    "str6 = \"134 5678 8998\"\n",
    "str7 = \"1234 578 8998\"\n",
    "str8 = \"1234 5678 898\"\n",
    "str9 = \"14 5678 8998\"\n",
    "str10 = \"1445 5678 8998\""
   ]
  },
  {
   "cell_type": "code",
   "execution_count": 25,
   "id": "1ab67459",
   "metadata": {},
   "outputs": [
    {
     "data": {
      "text/plain": [
       "['1234 5678 8998']"
      ]
     },
     "execution_count": 25,
     "metadata": {},
     "output_type": "execute_result"
    }
   ],
   "source": [
    "re.findall(\"\\d{4}.+\\\\d{4}\",str1)"
   ]
  },
  {
   "cell_type": "code",
   "execution_count": 26,
   "id": "bd99500e",
   "metadata": {},
   "outputs": [
    {
     "data": {
      "text/plain": [
       "['1234 5678 8998']"
      ]
     },
     "execution_count": 26,
     "metadata": {},
     "output_type": "execute_result"
    }
   ],
   "source": [
    "re.findall(\"\\d{4}\\s\\d{4}\\s\\d{4}\",str1)"
   ]
  },
  {
   "cell_type": "code",
   "execution_count": 27,
   "id": "39093dee",
   "metadata": {},
   "outputs": [
    {
     "data": {
      "text/plain": [
       "['5678 8998']"
      ]
     },
     "execution_count": 27,
     "metadata": {},
     "output_type": "execute_result"
    }
   ],
   "source": [
    "re.findall(\"\\d{4}.+\\\\d{4}\",str2)"
   ]
  },
  {
   "cell_type": "code",
   "execution_count": 28,
   "id": "32496c6c",
   "metadata": {},
   "outputs": [
    {
     "data": {
      "text/plain": [
       "[]"
      ]
     },
     "execution_count": 28,
     "metadata": {},
     "output_type": "execute_result"
    }
   ],
   "source": [
    "re.findall(\"\\d{4}\\s\\d{4}\\s\\d{4}\",str2)"
   ]
  },
  {
   "cell_type": "code",
   "execution_count": 29,
   "id": "51a82a02",
   "metadata": {},
   "outputs": [
    {
     "data": {
      "text/plain": [
       "[]"
      ]
     },
     "execution_count": 29,
     "metadata": {},
     "output_type": "execute_result"
    }
   ],
   "source": [
    "re.findall(\"\\d{4}\\s\\d{4}\\s\\d{4}\",str3)"
   ]
  },
  {
   "cell_type": "code",
   "execution_count": 30,
   "id": "8971f6db",
   "metadata": {},
   "outputs": [
    {
     "data": {
      "text/plain": [
       "[]"
      ]
     },
     "execution_count": 30,
     "metadata": {},
     "output_type": "execute_result"
    }
   ],
   "source": [
    "re.findall(\"\\d{4}\\s\\d{4}\\s\\d{4}\",str4)"
   ]
  },
  {
   "cell_type": "code",
   "execution_count": 31,
   "id": "7e538668",
   "metadata": {},
   "outputs": [
    {
     "data": {
      "text/plain": [
       "['1234 5678 8998']"
      ]
     },
     "execution_count": 31,
     "metadata": {},
     "output_type": "execute_result"
    }
   ],
   "source": [
    "re.findall(\"\\d{4}\\s\\d{4}\\s\\d{4}\",str5)"
   ]
  },
  {
   "cell_type": "code",
   "execution_count": null,
   "id": "acb086bb",
   "metadata": {},
   "outputs": [],
   "source": []
  },
  {
   "cell_type": "code",
   "execution_count": 32,
   "id": "4f7fddb4",
   "metadata": {},
   "outputs": [
    {
     "data": {
      "text/plain": [
       "re.compile(r'\\d{4}\\s\\d{4}\\s\\d{4}', re.UNICODE)"
      ]
     },
     "execution_count": 32,
     "metadata": {},
     "output_type": "execute_result"
    }
   ],
   "source": [
    "obj = re.compile(\"\\d{4}\\s\\d{4}\\s\\d{4}\")\n",
    "obj"
   ]
  },
  {
   "cell_type": "code",
   "execution_count": 33,
   "id": "60872f65",
   "metadata": {},
   "outputs": [
    {
     "data": {
      "text/plain": [
       "'1234 5678 8998'"
      ]
     },
     "execution_count": 33,
     "metadata": {},
     "output_type": "execute_result"
    }
   ],
   "source": [
    "obj.search(str1).group()"
   ]
  },
  {
   "cell_type": "code",
   "execution_count": 34,
   "id": "33915723",
   "metadata": {},
   "outputs": [
    {
     "ename": "AttributeError",
     "evalue": "'NoneType' object has no attribute 'group'",
     "output_type": "error",
     "traceback": [
      "\u001b[1;31m---------------------------------------------------------------------------\u001b[0m",
      "\u001b[1;31mAttributeError\u001b[0m                            Traceback (most recent call last)",
      "Input \u001b[1;32mIn [34]\u001b[0m, in \u001b[0;36m<cell line: 1>\u001b[1;34m()\u001b[0m\n\u001b[1;32m----> 1\u001b[0m \u001b[43mobj\u001b[49m\u001b[38;5;241;43m.\u001b[39;49m\u001b[43msearch\u001b[49m\u001b[43m(\u001b[49m\u001b[43mstr2\u001b[49m\u001b[43m)\u001b[49m\u001b[38;5;241;43m.\u001b[39;49m\u001b[43mgroup\u001b[49m()\n",
      "\u001b[1;31mAttributeError\u001b[0m: 'NoneType' object has no attribute 'group'"
     ]
    }
   ],
   "source": [
    "obj.search(str2).group()"
   ]
  },
  {
   "cell_type": "code",
   "execution_count": 35,
   "id": "09bead72",
   "metadata": {},
   "outputs": [
    {
     "data": {
      "text/plain": [
       "<re.Match object; span=(0, 14), match='1234 5678 8998'>"
      ]
     },
     "execution_count": 35,
     "metadata": {},
     "output_type": "execute_result"
    }
   ],
   "source": [
    "res = obj.search(str1)\n",
    "res"
   ]
  },
  {
   "cell_type": "code",
   "execution_count": 36,
   "id": "b9bc507d",
   "metadata": {},
   "outputs": [
    {
     "name": "stdout",
     "output_type": "stream",
     "text": [
      "1234 5678 8998\n"
     ]
    }
   ],
   "source": [
    "if res:\n",
    "    print(res.group())\n",
    "else:\n",
    "    print(\"Match not found\")"
   ]
  },
  {
   "cell_type": "code",
   "execution_count": 37,
   "id": "35cb2258",
   "metadata": {},
   "outputs": [
    {
     "name": "stdout",
     "output_type": "stream",
     "text": [
      "Match not found\n"
     ]
    }
   ],
   "source": [
    "res = obj.search(str2)\n",
    "if res:\n",
    "    print(res.group())\n",
    "else:\n",
    "    print(\"Match not found\")"
   ]
  },
  {
   "cell_type": "code",
   "execution_count": null,
   "id": "bae416c3",
   "metadata": {},
   "outputs": [],
   "source": []
  },
  {
   "cell_type": "code",
   "execution_count": null,
   "id": "ddebb316",
   "metadata": {},
   "outputs": [],
   "source": []
  },
  {
   "cell_type": "code",
   "execution_count": null,
   "id": "a91211ee",
   "metadata": {},
   "outputs": [],
   "source": []
  },
  {
   "cell_type": "code",
   "execution_count": null,
   "id": "fed9ec37",
   "metadata": {},
   "outputs": [],
   "source": []
  },
  {
   "cell_type": "code",
   "execution_count": null,
   "id": "8a1e6839",
   "metadata": {},
   "outputs": [],
   "source": []
  },
  {
   "cell_type": "code",
   "execution_count": null,
   "id": "a4dcf4a4",
   "metadata": {},
   "outputs": [],
   "source": []
  },
  {
   "cell_type": "code",
   "execution_count": 38,
   "id": "8a329170",
   "metadata": {},
   "outputs": [
    {
     "name": "stdout",
     "output_type": "stream",
     "text": [
      "1234 5678 8998\n",
      "Match not found\n",
      "Match not found\n",
      "Match not found\n",
      "1234 5678 8998\n",
      "Match not found\n",
      "Match not found\n",
      "Match not found\n",
      "Match not found\n",
      "1445 5678 8998\n"
     ]
    }
   ],
   "source": [
    "li = [str1, str2, str3, str4, str5, str6,str7, str8, str9, str10]\n",
    "\n",
    "for i in li:\n",
    "    result = obj.search(i)\n",
    "    if result:\n",
    "        print(result.group())\n",
    "    else:\n",
    "        print(\"Match not found\")"
   ]
  },
  {
   "cell_type": "code",
   "execution_count": 39,
   "id": "d701d7ca",
   "metadata": {},
   "outputs": [],
   "source": [
    "import time"
   ]
  },
  {
   "cell_type": "code",
   "execution_count": 40,
   "id": "ad27eb15",
   "metadata": {},
   "outputs": [
    {
     "name": "stdout",
     "output_type": "stream",
     "text": [
      "1234 5678 8998 1666338659.753372\n",
      "Match not found 1666338659.753372\n",
      "Match not found 1666338659.753372\n",
      "Match not found 1666338659.753372\n",
      "1234 5678 8998 1666338659.7543766\n",
      "Match not found 1666338659.7543766\n",
      "Match not found 1666338659.7543766\n",
      "Match not found 1666338659.7543766\n",
      "Match not found 1666338659.7543766\n",
      "1445 5678 8998 1666338659.7543766\n"
     ]
    }
   ],
   "source": [
    "li = [str1, str2, str3, str4, str5, str6,str7, str8, str9, str10]\n",
    "\n",
    "start1 = time.time()\n",
    "\n",
    "for i in li:\n",
    "    result = obj.search(i)\n",
    "    if result:\n",
    "        ex1 = time.time()\n",
    "        print(result.group(),ex1)\n",
    "    else:\n",
    "        ex2 = time.time()\n",
    "        print(\"Match not found\",ex2)"
   ]
  },
  {
   "cell_type": "markdown",
   "id": "5c31da14",
   "metadata": {},
   "source": [
    "## split()"
   ]
  },
  {
   "cell_type": "code",
   "execution_count": 41,
   "id": "52e6714b",
   "metadata": {},
   "outputs": [
    {
     "data": {
      "text/plain": [
       "['Python', 'and', 'data', 'science']"
      ]
     },
     "execution_count": 41,
     "metadata": {},
     "output_type": "execute_result"
    }
   ],
   "source": [
    "\"Python and data science\".split(\" \")"
   ]
  },
  {
   "cell_type": "code",
   "execution_count": 42,
   "id": "e2112992",
   "metadata": {},
   "outputs": [
    {
     "data": {
      "text/plain": [
       "['Python ', 'nd d', 't', ' science']"
      ]
     },
     "execution_count": 42,
     "metadata": {},
     "output_type": "execute_result"
    }
   ],
   "source": [
    "\"Python and data science\".split(\"a\")"
   ]
  },
  {
   "cell_type": "code",
   "execution_count": 43,
   "id": "0404add2",
   "metadata": {},
   "outputs": [
    {
     "data": {
      "text/plain": [
       "['Python and data sci', 'nc', '']"
      ]
     },
     "execution_count": 43,
     "metadata": {},
     "output_type": "execute_result"
    }
   ],
   "source": [
    "\"Python and data science\".split(\"e\")"
   ]
  },
  {
   "cell_type": "code",
   "execution_count": 44,
   "id": "bcf49162",
   "metadata": {},
   "outputs": [
    {
     "data": {
      "text/plain": [
       "['Python an', ' ', 'data science']"
      ]
     },
     "execution_count": 44,
     "metadata": {},
     "output_type": "execute_result"
    }
   ],
   "source": [
    "\"Python and ddata science\".split(\"d\",2)"
   ]
  },
  {
   "cell_type": "code",
   "execution_count": 45,
   "id": "c40a050c",
   "metadata": {},
   "outputs": [
    {
     "data": {
      "text/plain": [
       "['Python an', ' ', '', '', 'data science']"
      ]
     },
     "execution_count": 45,
     "metadata": {},
     "output_type": "execute_result"
    }
   ],
   "source": [
    "\"Python and ddddata science\".split(\"d\",4)"
   ]
  },
  {
   "cell_type": "code",
   "execution_count": 46,
   "id": "fc285bc7",
   "metadata": {},
   "outputs": [
    {
     "data": {
      "text/plain": [
       "['Python ', 'nd d', 't', ' science']"
      ]
     },
     "execution_count": 46,
     "metadata": {},
     "output_type": "execute_result"
    }
   ],
   "source": [
    "str1 = \"Python and data science\"\n",
    "re.split(\"a\",str1)"
   ]
  },
  {
   "cell_type": "code",
   "execution_count": 47,
   "id": "97137578",
   "metadata": {},
   "outputs": [
    {
     "data": {
      "text/plain": [
       "['Python ', 'nd d', 't', ' science']"
      ]
     },
     "execution_count": 47,
     "metadata": {},
     "output_type": "execute_result"
    }
   ],
   "source": [
    "str1 = \"Python and data science\"\n",
    "re.split(\"a{1}\",str1)"
   ]
  },
  {
   "cell_type": "code",
   "execution_count": 48,
   "id": "634d9ba6",
   "metadata": {},
   "outputs": [
    {
     "data": {
      "text/plain": [
       "['Python and ', 'data science']"
      ]
     },
     "execution_count": 48,
     "metadata": {},
     "output_type": "execute_result"
    }
   ],
   "source": [
    "str1 = \"Python and dddata science\"\n",
    "re.split(\"d{2}\",str1)"
   ]
  },
  {
   "cell_type": "code",
   "execution_count": 49,
   "id": "4ea52015",
   "metadata": {},
   "outputs": [
    {
     "data": {
      "text/plain": [
       "['Python and ', 'data science']"
      ]
     },
     "execution_count": 49,
     "metadata": {},
     "output_type": "execute_result"
    }
   ],
   "source": [
    "str1 = \"Python and dddddata science\"\n",
    "re.split(\"d{4}\",str1)"
   ]
  },
  {
   "cell_type": "code",
   "execution_count": 50,
   "id": "ec13639e",
   "metadata": {},
   "outputs": [
    {
     "data": {
      "text/plain": [
       "['Python ', ' dddddata science']"
      ]
     },
     "execution_count": 50,
     "metadata": {},
     "output_type": "execute_result"
    }
   ],
   "source": [
    "str1 = \"Python and dddddata science\"\n",
    "re.split(\"and\",str1)"
   ]
  },
  {
   "cell_type": "code",
   "execution_count": 51,
   "id": "fbb6ee74",
   "metadata": {},
   "outputs": [
    {
     "data": {
      "text/plain": [
       "['', 'ython ', 'nd ', 'ata ', 'cience']"
      ]
     },
     "execution_count": 51,
     "metadata": {},
     "output_type": "execute_result"
    }
   ],
   "source": [
    "strn = \"\"\"Python And Data Science\"\"\"\n",
    "re.split('[A-Z]',strn)"
   ]
  },
  {
   "cell_type": "code",
   "execution_count": 52,
   "id": "88f7d121",
   "metadata": {},
   "outputs": [
    {
     "data": {
      "text/plain": [
       "['Python ', ' And ', ' Data ', ' Science']"
      ]
     },
     "execution_count": 52,
     "metadata": {},
     "output_type": "execute_result"
    }
   ],
   "source": [
    "strn = \"\"\"Python 1 And 2 Data 3 Science\"\"\"\n",
    "re.split('\\d',strn)"
   ]
  },
  {
   "cell_type": "code",
   "execution_count": 53,
   "id": "e9047138",
   "metadata": {},
   "outputs": [
    {
     "data": {
      "text/plain": [
       "['Python 1 And ', ' Data 3 Science']"
      ]
     },
     "execution_count": 53,
     "metadata": {},
     "output_type": "execute_result"
    }
   ],
   "source": [
    "strn = \"\"\"Python 1 And 2 Data 3 Science\"\"\"\n",
    "re.split('2',strn)"
   ]
  },
  {
   "cell_type": "code",
   "execution_count": 54,
   "id": "21dc4a71",
   "metadata": {},
   "outputs": [
    {
     "data": {
      "text/plain": [
       "['Python 1 And 2 Data ', ' Science']"
      ]
     },
     "execution_count": 54,
     "metadata": {},
     "output_type": "execute_result"
    }
   ],
   "source": [
    "strn = \"\"\"Python 1 And 2 Data 3 Science\"\"\"\n",
    "re.split('3',strn)"
   ]
  },
  {
   "cell_type": "code",
   "execution_count": 55,
   "id": "c9623812",
   "metadata": {},
   "outputs": [
    {
     "name": "stdout",
     "output_type": "stream",
     "text": [
      "['', '20', '05', '2022', '30', '06', '2022', '15', '02', '2021', '23', 'jan', '2023', '05', '05', '2021', '06', '02', '2023', '08', '09', '2024', '08', '09', '2024', '']\n",
      "\n",
      "20052022300620221502202123jan202305052021060220230809202408092024\n"
     ]
    }
   ],
   "source": [
    "dates = \"\"\"\n",
    "20-05-2022,\n",
    "30.06.2022,\n",
    "15,02,2021,\n",
    "23-jan-2023,\n",
    "05 05 2021,\n",
    "06/02/2023,\n",
    "08//09//2024\n",
    "08--09--2024\n",
    "\"\"\"\n",
    "\n",
    "res = re.split(\"[-., / \\n]{1,2}\",dates)\n",
    "print(res)\n",
    "print()\n",
    "print(\"\".join(res))"
   ]
  },
  {
   "cell_type": "code",
   "execution_count": 56,
   "id": "b94ed6d7",
   "metadata": {},
   "outputs": [
    {
     "name": "stdout",
     "output_type": "stream",
     "text": [
      "['\\n', '0-05-', '0', '', ',\\n30.06.', '0', '', ',\\n15,0', ',', '0', '1,\\n', '3-jan-', '0', '3,\\n05 05 ', '0', '1,\\n06/0', '/', '0', '3,\\n08//09//', '0', '4\\n08--09--', '0', '4\\n']\n",
      "\n",
      "0-05- 0  ,\n",
      "30.06. 0  ,\n",
      "15,0 , 0 1,\n",
      " 3-jan- 0 3,\n",
      "05 05  0 1,\n",
      "06/0 / 0 3,\n",
      "08//09// 0 4\n",
      "08--09-- 0 4\n",
      " "
     ]
    }
   ],
   "source": [
    "dates = \"\"\"\n",
    "20-05-2022,\n",
    "30.06.2022,\n",
    "15,02,2021,\n",
    "23-jan-2023,\n",
    "05 05 2021,\n",
    "06/02/2023,\n",
    "08//09//2024\n",
    "08--09--2024\n",
    "\"\"\"\n",
    "res = re.split(\"2\",dates)\n",
    "print(res)\n",
    "print()\n",
    "for i in res:\n",
    "    if i== \"\\n\":\n",
    "        i.replace(\"\\n\", \"\")\n",
    "    else:\n",
    "        print(i,end=\" \")"
   ]
  },
  {
   "cell_type": "code",
   "execution_count": 57,
   "id": "bd0703ae",
   "metadata": {},
   "outputs": [
    {
     "name": "stdout",
     "output_type": "stream",
     "text": [
      "['\\n2', '-', '5-2', '22,\\n3', '.', '6.2', '22,\\n15,', '2,2', '21,\\n23-jan-2', '23,\\n', '5 ', '5 2', '21,\\n', '6/', '2/2', '23,\\n', '8//', '9//2', '24\\n', '8--', '9--2', '24\\n']\n",
      "\n",
      "\n",
      "2 - 5-2 22,\n",
      "3 . 6.2 22,\n",
      "15, 2,2 21,\n",
      "23-jan-2 23,\n",
      " 5  5 2 21,\n",
      " 6/ 2/2 23,\n",
      " 8// 9//2 24\n",
      " 8-- 9--2 24\n",
      " "
     ]
    }
   ],
   "source": [
    "dates = \"\"\"\n",
    "20-05-2022,\n",
    "30.06.2022,\n",
    "15,02,2021,\n",
    "23-jan-2023,\n",
    "05 05 2021,\n",
    "06/02/2023,\n",
    "08//09//2024\n",
    "08--09--2024\n",
    "\"\"\"\n",
    "res = re.split(\"0\",dates)\n",
    "print(res)\n",
    "print()\n",
    "for i in res:\n",
    "    if i== \"\\n\":\n",
    "        re.sub(\"\\n\",\"\")\n",
    "    else:\n",
    "        print(i,end=\" \")"
   ]
  },
  {
   "cell_type": "code",
   "execution_count": null,
   "id": "9d0f491a",
   "metadata": {},
   "outputs": [],
   "source": []
  },
  {
   "cell_type": "code",
   "execution_count": 77,
   "id": "f8a421f4",
   "metadata": {},
   "outputs": [
    {
     "name": "stdout",
     "output_type": "stream",
     "text": [
      "['', '20', '05', '2022', '30', '06', '2022', '15', '02', '2021', '23', 'jan', '2023', '05', '05', '2021', '06', '02', '2023', '08', '09', '2024', '08', '09', '2024', '']\n",
      "\n",
      "['20', '2022', '30', '06', '2022', '02', '06', '02', '08', '2024', '08', '2024']\n"
     ]
    }
   ],
   "source": [
    "dates = \"\"\"\n",
    "20-05-2022,\n",
    "30.06.2022,\n",
    "15,02,2021,\n",
    "23-jan-2023,\n",
    "05 05 2021,\n",
    "06/02/2023,\n",
    "08//09//2024\n",
    "08--09--2024\n",
    "\"\"\"\n",
    "\n",
    "res = re.split(\"[-., / \\n]{1,2}\",dates)\n",
    "print(res)\n",
    "print()\n",
    "\n",
    "even_dates = []\n",
    "for i in res:\n",
    "    if i.isnumeric():\n",
    "        if int(i)%2==0:\n",
    "            even_dates.append(i)\n",
    "        else:\n",
    "            pass\n",
    "print(even_dates)"
   ]
  },
  {
   "cell_type": "code",
   "execution_count": null,
   "id": "cefa6387",
   "metadata": {},
   "outputs": [],
   "source": []
  }
 ],
 "metadata": {
  "kernelspec": {
   "display_name": "Python 3 (ipykernel)",
   "language": "python",
   "name": "python3"
  },
  "language_info": {
   "codemirror_mode": {
    "name": "ipython",
    "version": 3
   },
   "file_extension": ".py",
   "mimetype": "text/x-python",
   "name": "python",
   "nbconvert_exporter": "python",
   "pygments_lexer": "ipython3",
   "version": "3.9.12"
  }
 },
 "nbformat": 4,
 "nbformat_minor": 5
}
