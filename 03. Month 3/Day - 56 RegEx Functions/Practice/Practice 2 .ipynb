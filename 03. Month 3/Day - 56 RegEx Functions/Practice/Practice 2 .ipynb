{
 "cells": [
  {
   "cell_type": "code",
   "execution_count": 1,
   "id": "a0860feb",
   "metadata": {},
   "outputs": [],
   "source": [
    "import re"
   ]
  },
  {
   "cell_type": "markdown",
   "id": "2e0e95bf",
   "metadata": {},
   "source": [
    "## search()\n",
    "- this method matches the first occurence of a charactes and returns the index of the match\n",
    "- Syntax \n",
    "    - re.search(pattern, text)"
   ]
  },
  {
   "cell_type": "code",
   "execution_count": 4,
   "id": "bdec4704",
   "metadata": {},
   "outputs": [
    {
     "data": {
      "text/plain": [
       "<re.Match object; span=(2, 3), match='h'>"
      ]
     },
     "execution_count": 4,
     "metadata": {},
     "output_type": "execute_result"
    }
   ],
   "source": [
    "text = \"\"\"Pyhton and data science\"\"\"\n",
    "res = re.search(\"h\",text)\n",
    "res"
   ]
  },
  {
   "cell_type": "code",
   "execution_count": 9,
   "id": "bef0d916",
   "metadata": {},
   "outputs": [
    {
     "data": {
      "text/plain": [
       "'h'"
      ]
     },
     "execution_count": 9,
     "metadata": {},
     "output_type": "execute_result"
    }
   ],
   "source": [
    "res.group()"
   ]
  },
  {
   "cell_type": "code",
   "execution_count": 14,
   "id": "2294f611",
   "metadata": {},
   "outputs": [
    {
     "data": {
      "text/plain": [
       "'h'"
      ]
     },
     "execution_count": 14,
     "metadata": {},
     "output_type": "execute_result"
    }
   ],
   "source": [
    "text[2:3]"
   ]
  },
  {
   "cell_type": "code",
   "execution_count": 20,
   "id": "2d11fff5",
   "metadata": {},
   "outputs": [
    {
     "name": "stdout",
     "output_type": "stream",
     "text": [
      "<re.Match object; span=(0, 6), match='python'>\n"
     ]
    },
    {
     "data": {
      "text/plain": [
       "'python'"
      ]
     },
     "execution_count": 20,
     "metadata": {},
     "output_type": "execute_result"
    }
   ],
   "source": [
    "text = \"\"\"python and data science python, java python\"\"\"\n",
    "res = re.search(\"python\",text)\n",
    "print(res)\n",
    "res.group()"
   ]
  },
  {
   "cell_type": "code",
   "execution_count": 21,
   "id": "fc541cb6",
   "metadata": {},
   "outputs": [
    {
     "data": {
      "text/plain": [
       "'python'"
      ]
     },
     "execution_count": 21,
     "metadata": {},
     "output_type": "execute_result"
    }
   ],
   "source": [
    "text[0:6]"
   ]
  },
  {
   "cell_type": "code",
   "execution_count": 24,
   "id": "bba34709",
   "metadata": {},
   "outputs": [
    {
     "name": "stdout",
     "output_type": "stream",
     "text": [
      "<re.Match object; span=(72, 86), match='1234 5678 8998'>\n"
     ]
    },
    {
     "data": {
      "text/plain": [
       "'1234 5678 8998'"
      ]
     },
     "execution_count": 24,
     "metadata": {},
     "output_type": "execute_result"
    }
   ],
   "source": [
    "text = \"\"\"This is the collection of all the valid or invalid adhar numbers\n",
    "str1 = 1234 5678 8998\n",
    "str2 = 124 5678 8998\n",
    "str3 = 1234 5678 898\n",
    "str4 = 12345678 8998\n",
    "str5 = 1234 5678 8998\n",
    "str6 = 134 5678 8998\n",
    "str7 = 1234 578 8998\n",
    "str8 = 1234 5678 898\n",
    "str9 = 14 5678 8998\n",
    "str10 = 1445 5678 8998\n",
    "\"\"\"\n",
    "Adhar = re.search(\"\\d{4}\\s\\d{4}\\s\\d{4}\",text)\n",
    "print(Adhar)\n",
    "Adhar.group()"
   ]
  },
  {
   "cell_type": "code",
   "execution_count": 28,
   "id": "36bb6dfe",
   "metadata": {},
   "outputs": [
    {
     "data": {
      "text/plain": [
       "'1234 5678 8998'"
      ]
     },
     "execution_count": 28,
     "metadata": {},
     "output_type": "execute_result"
    }
   ],
   "source": [
    "text[72:86]"
   ]
  },
  {
   "cell_type": "code",
   "execution_count": 29,
   "id": "c5dd2efe",
   "metadata": {},
   "outputs": [
    {
     "data": {
      "text/plain": [
       "72"
      ]
     },
     "execution_count": 29,
     "metadata": {},
     "output_type": "execute_result"
    }
   ],
   "source": [
    "Adhar.start()"
   ]
  },
  {
   "cell_type": "code",
   "execution_count": 30,
   "id": "0df4b9a6",
   "metadata": {},
   "outputs": [
    {
     "data": {
      "text/plain": [
       "86"
      ]
     },
     "execution_count": 30,
     "metadata": {},
     "output_type": "execute_result"
    }
   ],
   "source": [
    "Adhar.end()"
   ]
  },
  {
   "cell_type": "code",
   "execution_count": 32,
   "id": "7d08fbfc",
   "metadata": {},
   "outputs": [
    {
     "data": {
      "text/plain": [
       "278"
      ]
     },
     "execution_count": 32,
     "metadata": {},
     "output_type": "execute_result"
    }
   ],
   "source": [
    "Adhar.endpos"
   ]
  },
  {
   "cell_type": "code",
   "execution_count": 66,
   "id": "1b6af0f4",
   "metadata": {},
   "outputs": [],
   "source": [
    "x = Adhar.expand(re.sub(\"3\", \"hii\",text))"
   ]
  },
  {
   "cell_type": "code",
   "execution_count": 67,
   "id": "9f161bd4",
   "metadata": {},
   "outputs": [
    {
     "name": "stdout",
     "output_type": "stream",
     "text": [
      "This is the collection of all the valid or invalid adhar numbers\n",
      "str1 = 12hii4 5678 8998\n",
      "str2 = 124 5678 8998\n",
      "strhii = 12hii4 5678 898\n",
      "str4 = 12hii45678 8998\n",
      "str5 = 12hii4 5678 8998\n",
      "str6 = 1hii4 5678 8998\n",
      "str7 = 12hii4 578 8998\n",
      "str8 = 12hii4 5678 898\n",
      "str9 = 14 5678 8998\n",
      "str10 = 1445 5678 8998\n",
      "\n"
     ]
    }
   ],
   "source": [
    "print(x)"
   ]
  },
  {
   "cell_type": "code",
   "execution_count": 68,
   "id": "8f669d2c",
   "metadata": {},
   "outputs": [
    {
     "name": "stdout",
     "output_type": "stream",
     "text": [
      "This is the collection of all the valid or invalid adhar numbers\n",
      "str1 = 12Hii4 5678 8998\n",
      "str2 = 124 5678 8998\n",
      "strHii = 12Hii4 5678 898\n",
      "str4 = 12Hii45678 8998\n",
      "str5 = 12Hii4 5678 8998\n",
      "str6 = 1Hii4 5678 8998\n",
      "str7 = 12Hii4 578 8998\n",
      "str8 = 12Hii4 5678 898\n",
      "str9 = 14 5678 8998\n",
      "str10 = 1445 5678 8998\n",
      "\n"
     ]
    }
   ],
   "source": [
    "res = re.sub(\"3\", \"Hii\",text)\n",
    "print(res)"
   ]
  },
  {
   "cell_type": "code",
   "execution_count": null,
   "id": "2d4a18c0",
   "metadata": {},
   "outputs": [],
   "source": []
  },
  {
   "cell_type": "code",
   "execution_count": 72,
   "id": "4ee07b00",
   "metadata": {},
   "outputs": [
    {
     "name": "stdout",
     "output_type": "stream",
     "text": [
      "<re.Match object; span=(286, 296), match='9860329851'>\n"
     ]
    },
    {
     "data": {
      "text/plain": [
       "'9860329851'"
      ]
     },
     "execution_count": 72,
     "metadata": {},
     "output_type": "execute_result"
    }
   ],
   "source": [
    "text = \"\"\"This is the collection of all the valid or invalid adhar numbers\n",
    "str1 = 1234 5678 8998\n",
    "str2 = 124 5678 8998\n",
    "str3 = 1234 5678 898\n",
    "str4 = 12345678 8998\n",
    "str5 = 1234 5678 8998\n",
    "str6 = 134 5678 8998\n",
    "str7 = 1234 578 8998\n",
    "str8 = 1234 5678 898\n",
    "str9 = 14 5678 8998\n",
    "str10 = 1445 5678 8998\n",
    "str11 = 9860329851\n",
    "str12 = 9511860272\n",
    "\"\"\"\n",
    "number = re.search(\"\\d{10}\",text)\n",
    "print(number)\n",
    "number.group()"
   ]
  },
  {
   "cell_type": "code",
   "execution_count": 73,
   "id": "295c47a1",
   "metadata": {},
   "outputs": [
    {
     "data": {
      "text/plain": [
       "'9860329851'"
      ]
     },
     "execution_count": 73,
     "metadata": {},
     "output_type": "execute_result"
    }
   ],
   "source": [
    "text[286:296]"
   ]
  },
  {
   "cell_type": "code",
   "execution_count": 76,
   "id": "9a1ea483",
   "metadata": {},
   "outputs": [
    {
     "name": "stdout",
     "output_type": "stream",
     "text": [
      "['9860329851', '9511860272']\n"
     ]
    }
   ],
   "source": [
    "number = re.findall(\"\\d{10}\",text)\n",
    "print(number)"
   ]
  },
  {
   "cell_type": "markdown",
   "id": "a44acecd",
   "metadata": {},
   "source": [
    "## match()\n",
    "- This method searches for a match in the biginning of the string only\n",
    "- Syntax\n",
    "    - re.match(pattern, text)"
   ]
  },
  {
   "cell_type": "code",
   "execution_count": 82,
   "id": "2114b793",
   "metadata": {},
   "outputs": [
    {
     "name": "stdout",
     "output_type": "stream",
     "text": [
      "<re.Match object; span=(0, 64), match='This is the collection of all the valid or invali>\n"
     ]
    },
    {
     "data": {
      "text/plain": [
       "'This is the collection of all the valid or invalid adhar numbers'"
      ]
     },
     "execution_count": 82,
     "metadata": {},
     "output_type": "execute_result"
    }
   ],
   "source": [
    "text = \"\"\"This is the collection of all the valid or invalid adhar numbers\n",
    "str1 = 1234 5678 8998\n",
    "str2 = 124 5678 8998\n",
    "str3 = 1234 5678 898\n",
    "str4 = 12345678 8998\n",
    "str5 = 1234 5678 8998\n",
    "str6 = 134 5678 8998\n",
    "str7 = 1234 578 8998\n",
    "str8 = 1234 5678 898\n",
    "str9 = 14 5678 8998\n",
    "str10 = 1445 5678 8998\n",
    "str11 = 9860329851\n",
    "str12 = 9511860272\n",
    "\"\"\"\n",
    "\n",
    "first = re.match(\"\\w{4}.+\\w{2}.+\",text)\n",
    "print(first)\n",
    "first.group()"
   ]
  },
  {
   "cell_type": "code",
   "execution_count": 98,
   "id": "4c81762f",
   "metadata": {},
   "outputs": [
    {
     "name": "stdout",
     "output_type": "stream",
     "text": [
      "<re.Match object; span=(0, 4), match='This'>\n"
     ]
    },
    {
     "data": {
      "text/plain": [
       "'This'"
      ]
     },
     "execution_count": 98,
     "metadata": {},
     "output_type": "execute_result"
    }
   ],
   "source": [
    "text = \"\"\"This is the collection of all the valid or invalid adhar numbers\n",
    "str1 = 1234 5678 8998\n",
    "str2 = 124 5678 8998\n",
    "str3 = 1234 5678 898\n",
    "str4 = 12345678 8998\n",
    "str5 = 1234 5678 8998\n",
    "str6 = 134 5678 8998\n",
    "str7 = 1234 578 8998\n",
    "str8 = 1234 5678 898\n",
    "str9 = 14 5678 8998\n",
    "str10 = 1445 5678 8998\n",
    "str11 = 9860329851\n",
    "str12 = 9511860272\n",
    "\"\"\"\n",
    "\n",
    "first = re.match(\"\\w{4}\",text)\n",
    "print(first)\n",
    "first.group()\n"
   ]
  },
  {
   "cell_type": "code",
   "execution_count": 101,
   "id": "36919566",
   "metadata": {},
   "outputs": [
    {
     "name": "stdout",
     "output_type": "stream",
     "text": [
      "None\n"
     ]
    }
   ],
   "source": [
    "text = \"\"\"This is the collection of all the valid or invalid adhar numbers\n",
    "str1 = 1234 5678 8998\n",
    "str2 = 124 5678 8998\n",
    "str3 = 1234 5678 898\n",
    "str4 = 12345678 8998\n",
    "str5 = 1234 5678 8998\n",
    "str6 = 134 5678 8998\n",
    "str7 = 1234 578 8998\n",
    "str8 = 1234 5678 898\n",
    "str9 = 14 5678 8998\n",
    "str10 = 1445 5678 8998\n",
    "str11 = 9860329851\n",
    "str12 = 9511860272\n",
    "\"\"\"\n",
    "\n",
    "number = re.match(r\"\\d{4}\",text)\n",
    "print(number)"
   ]
  },
  {
   "cell_type": "code",
   "execution_count": 102,
   "id": "69aeeb7c",
   "metadata": {},
   "outputs": [
    {
     "name": "stdout",
     "output_type": "stream",
     "text": [
      "['1234', '5678', '8998', '5678', '8998', '1234', '5678', '1234', '5678', '8998', '1234', '5678', '8998', '5678', '8998', '1234', '8998', '1234', '5678', '5678', '8998', '1445', '5678', '8998', '9860', '3298', '9511', '8602']\n"
     ]
    }
   ],
   "source": [
    "number = re.findall(r\"\\d{4}\",text)\n",
    "print(number)"
   ]
  },
  {
   "cell_type": "code",
   "execution_count": 105,
   "id": "667497bc",
   "metadata": {},
   "outputs": [
    {
     "name": "stdout",
     "output_type": "stream",
     "text": [
      "<re.Match object; span=(72, 76), match='1234'>\n"
     ]
    },
    {
     "data": {
      "text/plain": [
       "'1234'"
      ]
     },
     "execution_count": 105,
     "metadata": {},
     "output_type": "execute_result"
    }
   ],
   "source": [
    "number = re.search(r\"\\d{4}\",text)\n",
    "print(number)\n",
    "number.group()"
   ]
  },
  {
   "cell_type": "code",
   "execution_count": 112,
   "id": "7d76eb4d",
   "metadata": {},
   "outputs": [
    {
     "name": "stdout",
     "output_type": "stream",
     "text": [
      "No Match\n"
     ]
    }
   ],
   "source": [
    "text = \"\"\"This is the collection of all the valid or invalid adhar numbers\n",
    "ASDFG1234J\n",
    "str1 = 1234 5678 8998\n",
    "str2 = 124 5678 8998\n",
    "str3 = 1234 5678 898\n",
    "str4 = 12345678 8998\n",
    "str5 = 1234 5678 8998\n",
    "str6 = 134 5678 8998\n",
    "str7 = 1234 578 8998\n",
    "str8 = 1234 5678 898\n",
    "str9 = 14 5678 8998\n",
    "str10 = 1445 5678 8998\n",
    "str11 = 9860329851\n",
    "str12 = 9511860272\n",
    "\"\"\"\n",
    "\n",
    "number = re.match(r\"\\w{5}\\d{4}\\w\",text)\n",
    "if number:\n",
    "    print(number.group())\n",
    "else:\n",
    "    print(\"No Match\")"
   ]
  },
  {
   "cell_type": "code",
   "execution_count": 111,
   "id": "31e98493",
   "metadata": {},
   "outputs": [
    {
     "name": "stdout",
     "output_type": "stream",
     "text": [
      "No Match\n"
     ]
    }
   ],
   "source": [
    "text = \"\"\"\n",
    "ASDFG1234J\n",
    "str1 = 1234 5678 8998\n",
    "str2 = 124 5678 8998\n",
    "str3 = 1234 5678 898\n",
    "str4 = 12345678 8998\n",
    "str5 = 1234 5678 8998\n",
    "str6 = 134 5678 8998\n",
    "str7 = 1234 578 8998\n",
    "str8 = 1234 5678 898\n",
    "str9 = 14 5678 8998\n",
    "str10 = 1445 5678 8998\n",
    "str11 = 9860329851\n",
    "str12 = 9511860272\n",
    "\"\"\"\n",
    "\n",
    "number = re.match(r\"\\w{5}\\d{4}\\w\",text)\n",
    "if number:\n",
    "    print(number.group())\n",
    "else:\n",
    "    print(\"No Match\")"
   ]
  },
  {
   "cell_type": "code",
   "execution_count": 110,
   "id": "b6a61e2a",
   "metadata": {},
   "outputs": [
    {
     "name": "stdout",
     "output_type": "stream",
     "text": [
      "ASDFG1234J\n"
     ]
    }
   ],
   "source": [
    "text = \"\"\"ASDFG1234J\n",
    "str1 = 1234 5678 8998\n",
    "str2 = 124 5678 8998\n",
    "str3 = 1234 5678 898\n",
    "str4 = 12345678 8998\n",
    "str5 = 1234 5678 8998\n",
    "str6 = 134 5678 8998\n",
    "str7 = 1234 578 8998\n",
    "str8 = 1234 5678 898\n",
    "str9 = 14 5678 8998\n",
    "str10 = 1445 5678 8998\n",
    "str11 = 9860329851\n",
    "str12 = 9511860272\n",
    "\"\"\"\n",
    "\n",
    "number = re.match(r\"\\w{5}\\d{4}\\w\",text)\n",
    "if number:\n",
    "    print(number.group())\n",
    "else:\n",
    "    print(\"No Match\")"
   ]
  },
  {
   "cell_type": "markdown",
   "id": "65d7b79d",
   "metadata": {},
   "source": [
    "## sub()\n",
    "- this method substitues the value with another value\n",
    "- Syntax\n",
    "    - re.sub(pattern, replace_pattern, string)"
   ]
  },
  {
   "cell_type": "code",
   "execution_count": 117,
   "id": "1cafa65b",
   "metadata": {},
   "outputs": [
    {
     "data": {
      "text/plain": [
       "'2ython and data science'"
      ]
     },
     "execution_count": 117,
     "metadata": {},
     "output_type": "execute_result"
    }
   ],
   "source": [
    "text = \"Python and data science\"\n",
    "re.sub(r\"P\",\"2\",text)"
   ]
  },
  {
   "cell_type": "code",
   "execution_count": 118,
   "id": "ce52c9a3",
   "metadata": {},
   "outputs": [
    {
     "data": {
      "text/plain": [
       "'Python<>and<>data<>science'"
      ]
     },
     "execution_count": 118,
     "metadata": {},
     "output_type": "execute_result"
    }
   ],
   "source": [
    "text = \"Python and data science\"\n",
    "re.sub(r\"\\s\",\"<>\",text)"
   ]
  },
  {
   "cell_type": "code",
   "execution_count": 122,
   "id": "89f2d2f6",
   "metadata": {},
   "outputs": [
    {
     "name": "stdout",
     "output_type": "stream",
     "text": [
      "\n",
      "20_05_2022\n",
      "30_06_2022\n",
      "15_02_2021\n",
      "23_jan_2023\n",
      "05_05_2021\n",
      "06_02_2023\n",
      "08_09_2024\n",
      "08_09_2024\n",
      "\n"
     ]
    }
   ],
   "source": [
    "dates = \"\"\"\n",
    "20-05-2022\n",
    "30.06.2022\n",
    "15,02,2021\n",
    "23-jan-2023\n",
    "05 05 2021\n",
    "06/02/2023\n",
    "08//09//2024\n",
    "08--09--2024\n",
    "\"\"\"\n",
    "dt = re.sub(\"[-., /]{1,2}\",\"_\",dates)\n",
    "print(dt)"
   ]
  },
  {
   "cell_type": "code",
   "execution_count": 136,
   "id": "c41ff968",
   "metadata": {},
   "outputs": [
    {
     "data": {
      "text/plain": [
       "'Oct'"
      ]
     },
     "execution_count": 136,
     "metadata": {},
     "output_type": "execute_result"
    }
   ],
   "source": [
    "import datetime as dt\n",
    "today = dt.datetime.now().date()\n",
    "mon = today.month\n",
    "str_month = today.strftime(\"%b\")\n",
    "str_month"
   ]
  },
  {
   "cell_type": "code",
   "execution_count": 139,
   "id": "658f1d0b",
   "metadata": {},
   "outputs": [
    {
     "name": "stdout",
     "output_type": "stream",
     "text": [
      "\n",
      "20-05-2022\n",
      "30.06.2022\n",
      "15,02,2021\n",
      "23-Oct-2023\n",
      "05 05 2021\n",
      "06/02/2023\n",
      "08//09//2024\n",
      "08--09--2024\n",
      "\n"
     ]
    }
   ],
   "source": [
    "dates = \"\"\"\n",
    "20-05-2022\n",
    "30.06.2022\n",
    "15,02,2021\n",
    "23-jan-2023\n",
    "05 05 2021\n",
    "06/02/2023\n",
    "08//09//2024\n",
    "08--09--2024\n",
    "\"\"\"\n",
    "month = re.sub(\"[a-z]{3}\", f\"{str_month}\",dates)\n",
    "print(month)"
   ]
  },
  {
   "cell_type": "code",
   "execution_count": 174,
   "id": "77289f49",
   "metadata": {},
   "outputs": [
    {
     "name": "stdout",
     "output_type": "stream",
     "text": [
      "['-05', '-20', '.06', '.20', ',02', ',20', '-20', ' 05', ' 20', '/02', '/20', '//09', '//20', '--09', '--20']\n"
     ]
    }
   ],
   "source": [
    "dates = \"\"\"\n",
    "20-05-2022\n",
    "30.06.2022\n",
    "15,02,2021\n",
    "23-jan-2023\n",
    "05 05 2021\n",
    "06/02/2023\n",
    "08//09//2024\n",
    "08--09--2024\n",
    "\"\"\"\n",
    "pat = re.findall(\"[-.,/ ]{1,2}\\d{2}\",dates)\n",
    "print(pat)\n",
    "for i in pat:\n",
    "    if i[0] == \"//\":\n",
    "        print(i[0])"
   ]
  },
  {
   "cell_type": "code",
   "execution_count": null,
   "id": "647fcad7",
   "metadata": {},
   "outputs": [],
   "source": []
  },
  {
   "cell_type": "code",
   "execution_count": 162,
   "id": "1fd6b971",
   "metadata": {},
   "outputs": [
    {
     "data": {
      "text/plain": [
       "'-'"
      ]
     },
     "execution_count": 162,
     "metadata": {},
     "output_type": "execute_result"
    }
   ],
   "source": [
    "'-05'[0]"
   ]
  },
  {
   "cell_type": "code",
   "execution_count": null,
   "id": "cfa16aa4",
   "metadata": {},
   "outputs": [],
   "source": []
  }
 ],
 "metadata": {
  "kernelspec": {
   "display_name": "Python 3 (ipykernel)",
   "language": "python",
   "name": "python3"
  },
  "language_info": {
   "codemirror_mode": {
    "name": "ipython",
    "version": 3
   },
   "file_extension": ".py",
   "mimetype": "text/x-python",
   "name": "python",
   "nbconvert_exporter": "python",
   "pygments_lexer": "ipython3",
   "version": "3.9.12"
  }
 },
 "nbformat": 4,
 "nbformat_minor": 5
}
