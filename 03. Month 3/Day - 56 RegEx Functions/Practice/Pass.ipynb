{
 "cells": [
  {
   "cell_type": "code",
   "execution_count": 1,
   "id": "07d9113e",
   "metadata": {},
   "outputs": [],
   "source": [
    "import pytesseract"
   ]
  },
  {
   "cell_type": "code",
   "execution_count": 3,
   "id": "f175db5c",
   "metadata": {},
   "outputs": [],
   "source": [
    "pytesseract.pytesseract.tesseract_cmd = r\"C:\\Program Files (x86)\\Tesseract-OCR\\tesseract.exe\""
   ]
  },
  {
   "cell_type": "code",
   "execution_count": 4,
   "id": "017b3a7d",
   "metadata": {},
   "outputs": [
    {
     "name": "stdout",
     "output_type": "stream",
     "text": [
      "E] file Edit View Navigate Code Refactor Run Tools VCS Window Help Day - 29. Generating password - datajson\n",
      "\n",
      "Day - 29. Generating password ) £} datajson By @mainy| > =\n",
      "\n",
      "B Project\n",
      "\n",
      "[Project v @ = = & — Kmainpy x fH datajson <\n",
      "Y Bm Day - 29. Generating password F:\\100 5 { w2av 8\n",
      "i datajson 2 \"wifi\": { g\n",
      "& logopng 3 \"email\": \"pratikdhakade@gmail.com\", 2\n",
      "& mainpy 4 \"password\": \"pass! (#123:456@)\"\n",
      "> ill External Libraries . }\n",
      "0% Scratches and Consoles ‘\n",
      "\n",
      "\"instagram\": {\n",
      "\"email\": \"yashdhakade2250@gmail.com\",\n",
      "\n",
      "\"password\": \"Y45h@(dontyoudaretohack)\"\n",
      "\n",
      "},\n",
      "\n",
      "1 \"facebook\": {\n",
      "\n",
      "11 @ \"email\": \"yashdhakade2250@gmail.com\",\n",
      "\n",
      "12 \"password\": \"Y45h@(dontyoudaretohack)\"\n",
      "\n",
      "13 },\n",
      "\n",
      "4 \"amazon\": {\n",
      "\n",
      "15 \"email\": \"yashdhakade@gmail.com\",\n",
      "\n",
      "4 \"password\": \"K14$n4JyF)htQ4ZR\"\n",
      "\n",
      "17 P\n",
      "\n",
      "1 Pp\n",
      "\n",
      "facebook\n",
      "g Run: @ main x co ited\n",
      "5 > C:\\Users\\yashd\\anaconda3\\python.exe \"F:/100 DaysOfPython/WorkPlace/Day - 29. Generating password/main.py\"\n",
      "a cuiched with ext\n",
      "\n",
      "== Process finished with exit code 0\n",
      "\n",
      "2_€\n",
      "\n",
      "TODO @® Python Console = @ Problems BM Terminal © Services\n",
      "\n",
      "P Version Control % Run © Python Packages\n",
      "11:46 CRLF UTF-8 4spaces* No JSON schema Python 3.9\n",
      "\n",
      "o\n",
      "\n"
     ]
    }
   ],
   "source": [
    "pas = pytesseract.image_to_string(\"Screenshot (360).png\")\n",
    "print(pas)"
   ]
  },
  {
   "cell_type": "code",
   "execution_count": null,
   "id": "ab30aa9a",
   "metadata": {},
   "outputs": [],
   "source": []
  }
 ],
 "metadata": {
  "kernelspec": {
   "display_name": "Python 3 (ipykernel)",
   "language": "python",
   "name": "python3"
  },
  "language_info": {
   "codemirror_mode": {
    "name": "ipython",
    "version": 3
   },
   "file_extension": ".py",
   "mimetype": "text/x-python",
   "name": "python",
   "nbconvert_exporter": "python",
   "pygments_lexer": "ipython3",
   "version": "3.9.12"
  }
 },
 "nbformat": 4,
 "nbformat_minor": 5
}
