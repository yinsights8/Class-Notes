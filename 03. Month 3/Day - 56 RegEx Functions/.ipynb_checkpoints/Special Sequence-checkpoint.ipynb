{
 "cells": [
  {
   "cell_type": "markdown",
   "id": "f2461904",
   "metadata": {},
   "source": [
    "# Special Sequence"
   ]
  },
  {
   "cell_type": "markdown",
   "id": "6d8f1a5a",
   "metadata": {},
   "source": [
    "# 7. | (or)"
   ]
  },
  {
   "cell_type": "code",
   "execution_count": 1,
   "id": "9b071fa1",
   "metadata": {},
   "outputs": [],
   "source": [
    "import re"
   ]
  },
  {
   "cell_type": "code",
   "execution_count": 7,
   "id": "68fe6464",
   "metadata": {},
   "outputs": [
    {
     "data": {
      "text/plain": [
       "['Python']"
      ]
     },
     "execution_count": 7,
     "metadata": {},
     "output_type": "execute_result"
    }
   ],
   "source": [
    "text = \"\"\"Python and Data Science\n",
    "\"\"\"\n",
    "res = re.findall(r\"Python|Java\",text)\n",
    "res"
   ]
  },
  {
   "cell_type": "code",
   "execution_count": 8,
   "id": "23eee81e",
   "metadata": {},
   "outputs": [
    {
     "data": {
      "text/plain": [
       "['Java']"
      ]
     },
     "execution_count": 8,
     "metadata": {},
     "output_type": "execute_result"
    }
   ],
   "source": [
    "text = \"\"\"Java and Data Science\n",
    "\"\"\"\n",
    "res = re.findall(r\"Python|Java\",text)\n",
    "res"
   ]
  },
  {
   "cell_type": "code",
   "execution_count": 10,
   "id": "a2193c7d",
   "metadata": {},
   "outputs": [
    {
     "data": {
      "text/plain": [
       "['Java', 'Python', 'Python', 'Python', 'Java', 'Python']"
      ]
     },
     "execution_count": 10,
     "metadata": {},
     "output_type": "execute_result"
    }
   ],
   "source": [
    "text = \"\"\"Java,Python and Data Science Python Python Java Python\n",
    "\"\"\"\n",
    "res = re.findall(r\"Python|Java\",text)\n",
    "res"
   ]
  },
  {
   "cell_type": "code",
   "execution_count": 11,
   "id": "cf652775",
   "metadata": {},
   "outputs": [
    {
     "data": {
      "text/plain": [
       "['Java', 'Python', '30', 'Python', 'Python', 'Java', 'Python']"
      ]
     },
     "execution_count": 11,
     "metadata": {},
     "output_type": "execute_result"
    }
   ],
   "source": [
    "text = \"\"\"Java,Python and Data Science 30 July Batch Python Python Java Python\n",
    "\"\"\"\n",
    "res = re.findall(r\"Python|Java|\\d{2}\",text)\n",
    "res"
   ]
  },
  {
   "cell_type": "code",
   "execution_count": 12,
   "id": "8c55d950",
   "metadata": {},
   "outputs": [
    {
     "data": {
      "text/plain": [
       "['Python', 'Python', 'Python', 'Python']"
      ]
     },
     "execution_count": 12,
     "metadata": {},
     "output_type": "execute_result"
    }
   ],
   "source": [
    "text = \"\"\"Java,Python and Data Science 30 July Batch Python Python Java Python\n",
    "\"\"\"\n",
    "res = re.findall(r\"Python\",text)\n",
    "res"
   ]
  },
  {
   "cell_type": "code",
   "execution_count": 13,
   "id": "989943cc",
   "metadata": {},
   "outputs": [
    {
     "data": {
      "text/plain": [
       "['Java', 'Python', '30', 'Python', 'Python', 'Java', 'Python', ' &%', '^$^']"
      ]
     },
     "execution_count": 13,
     "metadata": {},
     "output_type": "execute_result"
    }
   ],
   "source": [
    "text = \"\"\"Java,Python and Data Science 30 July Batch Python Python Java Python &%^$^&\n",
    "\"\"\"\n",
    "res = re.findall(r\"Python|Java|\\d{2}|\\W{3}\",text)\n",
    "res"
   ]
  },
  {
   "cell_type": "code",
   "execution_count": 14,
   "id": "aa1d681c",
   "metadata": {},
   "outputs": [
    {
     "data": {
      "text/plain": [
       "['Java', 'Python', '30', 'Python', 'Python', 'Java', 'Python', ' &%', '^$^']"
      ]
     },
     "execution_count": 14,
     "metadata": {},
     "output_type": "execute_result"
    }
   ],
   "source": [
    "text = \"\"\"Java,Python and Data Science 30 July Batch Python Python Java Python &%^$^&\n",
    "\"\"\"\n",
    "res = re.findall(r\"Python|\\W{3}|Java|\\d{2}\",text)\n",
    "res"
   ]
  },
  {
   "cell_type": "code",
   "execution_count": 15,
   "id": "1d7b611e",
   "metadata": {},
   "outputs": [
    {
     "data": {
      "text/plain": [
       "['12-11-1998', '13-12-1997']"
      ]
     },
     "execution_count": 15,
     "metadata": {},
     "output_type": "execute_result"
    }
   ],
   "source": [
    "text = \"\"\"12-11-1998\n",
    "          13-12-1997\n",
    "          24/11/2022\n",
    "\"\"\"\n",
    "res = re.findall(r\"\\d{2}-\\d{2}-\\d{4}\",text)\n",
    "res"
   ]
  },
  {
   "cell_type": "code",
   "execution_count": 16,
   "id": "8b4e613a",
   "metadata": {},
   "outputs": [
    {
     "data": {
      "text/plain": [
       "['12-', '11-', '13-', '12-', '/2022']"
      ]
     },
     "execution_count": 16,
     "metadata": {},
     "output_type": "execute_result"
    }
   ],
   "source": [
    "text = \"\"\"12-11-1998\n",
    "          13-12-1997\n",
    "          24/11/2022\n",
    "\"\"\"\n",
    "res = re.findall(r\"\\d{2}-|/\\d{2}-|/\\d{4}\",text)\n",
    "res"
   ]
  },
  {
   "cell_type": "code",
   "execution_count": 17,
   "id": "ba27d19d",
   "metadata": {},
   "outputs": [
    {
     "data": {
      "text/plain": [
       "['12-11-1998', '13-12-1997', '24/11/2022']"
      ]
     },
     "execution_count": 17,
     "metadata": {},
     "output_type": "execute_result"
    }
   ],
   "source": [
    "text = \"\"\"12-11-1998\n",
    "          13-12-1997\n",
    "          24/11/2022\n",
    "          24//11//2022\n",
    "          24--11--2022\n",
    "\"\"\"\n",
    "res = re.findall(r\"\\d{2}[-/]\\d{2}[-/]\\d{4}\",text)\n",
    "res"
   ]
  },
  {
   "cell_type": "code",
   "execution_count": 20,
   "id": "35d68278",
   "metadata": {},
   "outputs": [
    {
     "data": {
      "text/plain": [
       "[('', '12-11-1998'),\n",
       " ('', '13-12-1997'),\n",
       " ('', '24/11/2022'),\n",
       " ('24//11//2022', ''),\n",
       " ('24--11--2022', '')]"
      ]
     },
     "execution_count": 20,
     "metadata": {},
     "output_type": "execute_result"
    }
   ],
   "source": [
    "text = \"\"\"12-11-1998\n",
    "          13-12-1997\n",
    "          24/11/2022\n",
    "          24//11//2022\n",
    "          24--11--2022\n",
    "\"\"\"\n",
    "res = re.findall(r\"(\\d{2}[-/]{2}\\d{2}[-/]{2}\\d{4})|(\\d{2}[-/]\\d{2}[-/]\\d{4})\",text)\n",
    "res"
   ]
  },
  {
   "cell_type": "code",
   "execution_count": 21,
   "id": "04232e6f",
   "metadata": {},
   "outputs": [
    {
     "data": {
      "text/plain": [
       "['12-11-1998', '13-12-1997', '24/11/2022', '24//11//2022', '24--11--2022']"
      ]
     },
     "execution_count": 21,
     "metadata": {},
     "output_type": "execute_result"
    }
   ],
   "source": [
    "text = \"\"\"12-11-1998\n",
    "          13-12-1997\n",
    "          24/11/2022\n",
    "          24//11//2022\n",
    "          24--11--2022\n",
    "\"\"\"\n",
    "res = re.findall(r\"\\d{2}[-/]{2}\\d{2}[-/]{2}\\d{4}|\\d{2}[-/]\\d{2}[-/]\\d{4}\",text)\n",
    "res"
   ]
  },
  {
   "cell_type": "code",
   "execution_count": 22,
   "id": "236980bc",
   "metadata": {},
   "outputs": [
    {
     "data": {
      "text/plain": [
       "['12-11-1998',\n",
       " '13-12-1997',\n",
       " '24/11/2022',\n",
       " '24//11//2022',\n",
       " '24--11--2022',\n",
       " '06 Jan 2020']"
      ]
     },
     "execution_count": 22,
     "metadata": {},
     "output_type": "execute_result"
    }
   ],
   "source": [
    "text = \"\"\"12-11-1998\n",
    "          13-12-1997\n",
    "          24/11/2022\n",
    "          24//11//2022\n",
    "          24--11--2022\n",
    "          06 Jan 2020\n",
    "\"\"\"\n",
    "res = re.findall(r\"\\d{2}[-/]{2}\\d{2}[-/]{2}\\d{4}|\\d{2}[-/]\\d{2}[-/]\\d{4}|\\d{2}\\s[A-Za-z]{3,10}\\s\\d{4}\",text)\n",
    "res"
   ]
  },
  {
   "cell_type": "code",
   "execution_count": 23,
   "id": "ad669121",
   "metadata": {},
   "outputs": [
    {
     "data": {
      "text/plain": [
       "['12-11-1998',\n",
       " '13-12-1997',\n",
       " '24/11/2022',\n",
       " '24//11//2022',\n",
       " '24--11--2022',\n",
       " '06 Jan 2020',\n",
       " '07 November 2022']"
      ]
     },
     "execution_count": 23,
     "metadata": {},
     "output_type": "execute_result"
    }
   ],
   "source": [
    "text = \"\"\"12-11-1998\n",
    "          13-12-1997\n",
    "          24/11/2022\n",
    "          24//11//2022\n",
    "          24--11--2022\n",
    "          06 Jan 2020\n",
    "          07 November 2022\n",
    "\"\"\"\n",
    "res = re.findall(r\"\\d{2}[-/]{2}\\d{2}[-/]{2}\\d{4}|\\d{2}[-/]\\d{2}[-/]\\d{4}|\\d{2}\\s[A-Za-z]{3,10}\\s\\d{4}\",text)\n",
    "res"
   ]
  },
  {
   "cell_type": "markdown",
   "id": "a8c18588",
   "metadata": {},
   "source": [
    "# 9. ()\n",
    "- Group of char"
   ]
  },
  {
   "cell_type": "code",
   "execution_count": 24,
   "id": "8cd518aa",
   "metadata": {},
   "outputs": [
    {
     "data": {
      "text/plain": [
       "<re.Match object; span=(0, 8), match='superman'>"
      ]
     },
     "execution_count": 24,
     "metadata": {},
     "output_type": "execute_result"
    }
   ],
   "source": [
    "text = \"\"\"superman and superwoman\"\"\"\n",
    "res = re.search(\"super(wo)?man\",text)\n",
    "res"
   ]
  },
  {
   "cell_type": "code",
   "execution_count": 25,
   "id": "963044eb",
   "metadata": {},
   "outputs": [
    {
     "data": {
      "text/plain": [
       "'superman'"
      ]
     },
     "execution_count": 25,
     "metadata": {},
     "output_type": "execute_result"
    }
   ],
   "source": [
    "res.group()"
   ]
  },
  {
   "cell_type": "code",
   "execution_count": 26,
   "id": "552991b0",
   "metadata": {},
   "outputs": [
    {
     "data": {
      "text/plain": [
       "<re.Match object; span=(0, 10), match='superwoman'>"
      ]
     },
     "execution_count": 26,
     "metadata": {},
     "output_type": "execute_result"
    }
   ],
   "source": [
    "text = \"\"\"superwoman and superman\"\"\"\n",
    "res = re.search(\"super(wo)?man\",text)\n",
    "res"
   ]
  },
  {
   "cell_type": "code",
   "execution_count": 27,
   "id": "16dfceb4",
   "metadata": {},
   "outputs": [
    {
     "data": {
      "text/plain": [
       "'superwoman'"
      ]
     },
     "execution_count": 27,
     "metadata": {},
     "output_type": "execute_result"
    }
   ],
   "source": [
    "res.group()"
   ]
  },
  {
   "cell_type": "markdown",
   "id": "7561b539",
   "metadata": {},
   "source": [
    "# Compile"
   ]
  },
  {
   "cell_type": "code",
   "execution_count": 29,
   "id": "82d538e2",
   "metadata": {},
   "outputs": [],
   "source": [
    "str1 = \"1234 5678 8998\"\n",
    "str2 = \"124 5678 8998\"\n",
    "str3 = \"1234 5678 898\"\n",
    "str4 = \"12345678 8998\"\n",
    "str5 = \"1234 5678 8998\"\n",
    "str6 = \"134 5678 8998\"\n",
    "str7 = \"1234 578 8998\"\n",
    "str8 = \"1234 5678 898\"\n",
    "str9 = \"14 5678 8998\"\n",
    "str10 = \"1445 5678 8998\""
   ]
  },
  {
   "cell_type": "code",
   "execution_count": 30,
   "id": "006208a0",
   "metadata": {},
   "outputs": [
    {
     "data": {
      "text/plain": [
       "['1234 5678 8998']"
      ]
     },
     "execution_count": 30,
     "metadata": {},
     "output_type": "execute_result"
    }
   ],
   "source": [
    "re.findall(r\"\\d{4}\\s\\d{4}\\s\\d{4}\",str1)"
   ]
  },
  {
   "cell_type": "code",
   "execution_count": 31,
   "id": "faf889bb",
   "metadata": {},
   "outputs": [
    {
     "data": {
      "text/plain": [
       "[]"
      ]
     },
     "execution_count": 31,
     "metadata": {},
     "output_type": "execute_result"
    }
   ],
   "source": [
    "re.findall(r\"\\d{4}\\s\\d{4}\\s\\d{4}\",str2)"
   ]
  },
  {
   "cell_type": "code",
   "execution_count": 32,
   "id": "8cd23eab",
   "metadata": {},
   "outputs": [
    {
     "data": {
      "text/plain": [
       "[]"
      ]
     },
     "execution_count": 32,
     "metadata": {},
     "output_type": "execute_result"
    }
   ],
   "source": [
    "re.findall(r\"\\d{4}\\s\\d{4}\\s\\d{4}\",str3)"
   ]
  },
  {
   "cell_type": "code",
   "execution_count": 33,
   "id": "571e311c",
   "metadata": {},
   "outputs": [
    {
     "data": {
      "text/plain": [
       "[]"
      ]
     },
     "execution_count": 33,
     "metadata": {},
     "output_type": "execute_result"
    }
   ],
   "source": [
    "re.findall(r\"\\d{4}\\s\\d{4}\\s\\d{4}\",str4)"
   ]
  },
  {
   "cell_type": "code",
   "execution_count": 34,
   "id": "d8407b2d",
   "metadata": {},
   "outputs": [
    {
     "data": {
      "text/plain": [
       "['1234 5678 8998']"
      ]
     },
     "execution_count": 34,
     "metadata": {},
     "output_type": "execute_result"
    }
   ],
   "source": [
    "re.findall(r\"\\d{4}\\s\\d{4}\\s\\d{4}\",str5)"
   ]
  },
  {
   "cell_type": "code",
   "execution_count": 35,
   "id": "1e566cd7",
   "metadata": {},
   "outputs": [
    {
     "data": {
      "text/plain": [
       "re.compile(r'\\d{4}\\s\\d{4}\\s\\d{4}', re.UNICODE)"
      ]
     },
     "execution_count": 35,
     "metadata": {},
     "output_type": "execute_result"
    }
   ],
   "source": [
    "PatObj = re.compile(r\"\\d{4}\\s\\d{4}\\s\\d{4}\")\n",
    "PatObj"
   ]
  },
  {
   "cell_type": "code",
   "execution_count": 37,
   "id": "9da660df",
   "metadata": {},
   "outputs": [
    {
     "data": {
      "text/plain": [
       "<re.Match object; span=(0, 14), match='1234 5678 8998'>"
      ]
     },
     "execution_count": 37,
     "metadata": {},
     "output_type": "execute_result"
    }
   ],
   "source": [
    "PatObj.search(str1)"
   ]
  },
  {
   "cell_type": "code",
   "execution_count": 38,
   "id": "422bc0a1",
   "metadata": {},
   "outputs": [
    {
     "data": {
      "text/plain": [
       "'1234 5678 8998'"
      ]
     },
     "execution_count": 38,
     "metadata": {},
     "output_type": "execute_result"
    }
   ],
   "source": [
    "PatObj.search(str1).group()"
   ]
  },
  {
   "cell_type": "code",
   "execution_count": 39,
   "id": "1ed053ef",
   "metadata": {},
   "outputs": [
    {
     "ename": "AttributeError",
     "evalue": "'NoneType' object has no attribute 'group'",
     "output_type": "error",
     "traceback": [
      "\u001b[1;31m---------------------------------------------------------------------------\u001b[0m",
      "\u001b[1;31mAttributeError\u001b[0m                            Traceback (most recent call last)",
      "Input \u001b[1;32mIn [39]\u001b[0m, in \u001b[0;36m<cell line: 1>\u001b[1;34m()\u001b[0m\n\u001b[1;32m----> 1\u001b[0m res \u001b[38;5;241m=\u001b[39m \u001b[43mPatObj\u001b[49m\u001b[38;5;241;43m.\u001b[39;49m\u001b[43msearch\u001b[49m\u001b[43m(\u001b[49m\u001b[43mstr2\u001b[49m\u001b[43m)\u001b[49m\u001b[38;5;241;43m.\u001b[39;49m\u001b[43mgroup\u001b[49m()\n\u001b[0;32m      2\u001b[0m \u001b[38;5;28;01mif\u001b[39;00m res:\n\u001b[0;32m      3\u001b[0m     \u001b[38;5;28mprint\u001b[39m(res)\n",
      "\u001b[1;31mAttributeError\u001b[0m: 'NoneType' object has no attribute 'group'"
     ]
    }
   ],
   "source": [
    "res = PatObj.search(str2).group()\n",
    "if res:\n",
    "    print(res)\n",
    "else:\n",
    "    print(\"No Match\")"
   ]
  },
  {
   "cell_type": "code",
   "execution_count": 40,
   "id": "6af63471",
   "metadata": {},
   "outputs": [
    {
     "name": "stdout",
     "output_type": "stream",
     "text": [
      "No Match\n"
     ]
    }
   ],
   "source": [
    "res = PatObj.search(str2)\n",
    "if res:\n",
    "    print(res.group())\n",
    "else:\n",
    "    print(\"No Match\")"
   ]
  },
  {
   "cell_type": "code",
   "execution_count": 41,
   "id": "32d02cfc",
   "metadata": {},
   "outputs": [
    {
     "name": "stdout",
     "output_type": "stream",
     "text": [
      "No Match\n"
     ]
    }
   ],
   "source": [
    "res = PatObj.search(str3)\n",
    "if res:\n",
    "    print(res.group())\n",
    "else:\n",
    "    print(\"No Match\")"
   ]
  },
  {
   "cell_type": "code",
   "execution_count": 42,
   "id": "d1571351",
   "metadata": {},
   "outputs": [
    {
     "name": "stdout",
     "output_type": "stream",
     "text": [
      "No Match\n"
     ]
    }
   ],
   "source": [
    "res = PatObj.search(str4)\n",
    "if res:\n",
    "    print(res.group())\n",
    "else:\n",
    "    print(\"No Match\")"
   ]
  },
  {
   "cell_type": "code",
   "execution_count": 43,
   "id": "91a461e1",
   "metadata": {},
   "outputs": [
    {
     "name": "stdout",
     "output_type": "stream",
     "text": [
      "1234 5678 8998\n"
     ]
    }
   ],
   "source": [
    "res = PatObj.search(str5)\n",
    "if res:\n",
    "    print(res.group())\n",
    "else:\n",
    "    print(\"No Match\")"
   ]
  },
  {
   "cell_type": "markdown",
   "id": "8e3c525d",
   "metadata": {},
   "source": [
    "# split()"
   ]
  },
  {
   "cell_type": "code",
   "execution_count": 44,
   "id": "9663dc50",
   "metadata": {},
   "outputs": [
    {
     "data": {
      "text/plain": [
       "['Python', 'and', 'data', 'science']"
      ]
     },
     "execution_count": 44,
     "metadata": {},
     "output_type": "execute_result"
    }
   ],
   "source": [
    "str1 = \"Python and data science\"\n",
    "str1.split()"
   ]
  },
  {
   "cell_type": "code",
   "execution_count": 45,
   "id": "57c6e8b5",
   "metadata": {},
   "outputs": [
    {
     "data": {
      "text/plain": [
       "['Python ', ' data science']"
      ]
     },
     "execution_count": 45,
     "metadata": {},
     "output_type": "execute_result"
    }
   ],
   "source": [
    "str1 = \"Python and data science\"\n",
    "str1.split(\"and\")"
   ]
  },
  {
   "cell_type": "code",
   "execution_count": 46,
   "id": "b5746b2a",
   "metadata": {},
   "outputs": [
    {
     "data": {
      "text/plain": [
       "['Python ', ' and 2 data 3 science']"
      ]
     },
     "execution_count": 46,
     "metadata": {},
     "output_type": "execute_result"
    }
   ],
   "source": [
    "str1 = \"Python 1 and 2 data 3 science\"\n",
    "str1.split(\"1\")"
   ]
  },
  {
   "cell_type": "code",
   "execution_count": 47,
   "id": "4b2f9c32",
   "metadata": {},
   "outputs": [
    {
     "data": {
      "text/plain": [
       "['Python 1 and ', ' data 3 science']"
      ]
     },
     "execution_count": 47,
     "metadata": {},
     "output_type": "execute_result"
    }
   ],
   "source": [
    "str1 = \"Python 1 and 2 data 3 science\"\n",
    "str1.split(\"2\")"
   ]
  },
  {
   "cell_type": "code",
   "execution_count": 50,
   "id": "fb9c4ba4",
   "metadata": {},
   "outputs": [
    {
     "data": {
      "text/plain": [
       "['Python 1 and 2 data 3 science']"
      ]
     },
     "execution_count": 50,
     "metadata": {},
     "output_type": "execute_result"
    }
   ],
   "source": [
    "str1 = \"Python 1 and 2 data 3 science\"\n",
    "str1.split(\"&\")"
   ]
  },
  {
   "cell_type": "code",
   "execution_count": 52,
   "id": "205e9f01",
   "metadata": {},
   "outputs": [
    {
     "data": {
      "text/plain": [
       "['Python 1 and 2 data 3 science']"
      ]
     },
     "execution_count": 52,
     "metadata": {},
     "output_type": "execute_result"
    }
   ],
   "source": [
    "str1 = \"Python 1 and 2 data 3 science\"\n",
    "str1.split(\"\\d\")"
   ]
  },
  {
   "cell_type": "code",
   "execution_count": 53,
   "id": "82e31f3d",
   "metadata": {},
   "outputs": [
    {
     "data": {
      "text/plain": [
       "['Python ', ' and ', ' data ', ' science']"
      ]
     },
     "execution_count": 53,
     "metadata": {},
     "output_type": "execute_result"
    }
   ],
   "source": [
    "li = re.split(\"\\d\",str1)\n",
    "li"
   ]
  },
  {
   "cell_type": "code",
   "execution_count": 54,
   "id": "ebc6ee30",
   "metadata": {},
   "outputs": [
    {
     "data": {
      "text/plain": [
       "['Python ', ' and ', ' data ', ' science']"
      ]
     },
     "execution_count": 54,
     "metadata": {},
     "output_type": "execute_result"
    }
   ],
   "source": [
    "li = re.split(\"[0-9]\",str1)\n",
    "li"
   ]
  },
  {
   "cell_type": "code",
   "execution_count": 55,
   "id": "f7c8a427",
   "metadata": {},
   "outputs": [
    {
     "data": {
      "text/plain": [
       "['Python ', '', '', ' and ', '', ' data ', ' science']"
      ]
     },
     "execution_count": 55,
     "metadata": {},
     "output_type": "execute_result"
    }
   ],
   "source": [
    "str1 = \"Python 123 and 23 data 3 science\"\n",
    "li = re.split(\"[0-9]\",str1)\n",
    "li"
   ]
  },
  {
   "cell_type": "code",
   "execution_count": 56,
   "id": "57b60520",
   "metadata": {},
   "outputs": [
    {
     "data": {
      "text/plain": [
       "['Python ', ' and ', ' data ', ' science']"
      ]
     },
     "execution_count": 56,
     "metadata": {},
     "output_type": "execute_result"
    }
   ],
   "source": [
    "str1 = \"Python 123 and 23 data 3 science\"\n",
    "li = re.split(\"[0-9]+\",str1)\n",
    "li"
   ]
  },
  {
   "cell_type": "code",
   "execution_count": 57,
   "id": "1fe702c7",
   "metadata": {},
   "outputs": [
    {
     "data": {
      "text/plain": [
       "['Python ', '3 and ', ' data 3 science']"
      ]
     },
     "execution_count": 57,
     "metadata": {},
     "output_type": "execute_result"
    }
   ],
   "source": [
    "str1 = \"Python 123 and 23 data 3 science\"\n",
    "li = re.split(\"[0-9]{2}\",str1)\n",
    "li"
   ]
  },
  {
   "cell_type": "code",
   "execution_count": 58,
   "id": "46b988be",
   "metadata": {},
   "outputs": [
    {
     "data": {
      "text/plain": [
       "['', 'ython ', 'nd ', 'ata ', 'cience']"
      ]
     },
     "execution_count": 58,
     "metadata": {},
     "output_type": "execute_result"
    }
   ],
   "source": [
    "str1 = \"Python And Data Science\"\n",
    "li = re.split(\"[A-Z]\",str1)\n",
    "li"
   ]
  },
  {
   "cell_type": "code",
   "execution_count": 63,
   "id": "1184f004",
   "metadata": {},
   "outputs": [
    {
     "data": {
      "text/plain": [
       "['Python ', 'nd Data 9 Science']"
      ]
     },
     "execution_count": 63,
     "metadata": {},
     "output_type": "execute_result"
    }
   ],
   "source": [
    "str1 = \"Python AAnd Data 9 Science\"\n",
    "li = re.split(\"[A-Z0-9]{2}\",str1)\n",
    "li"
   ]
  },
  {
   "cell_type": "code",
   "execution_count": 64,
   "id": "b7c39f20",
   "metadata": {},
   "outputs": [
    {
     "data": {
      "text/plain": [
       "['1', '2', '3', '4/5/6-7-8.9.10']"
      ]
     },
     "execution_count": 64,
     "metadata": {},
     "output_type": "execute_result"
    }
   ],
   "source": [
    "str1 = \"1,2,3,4/5/6-7-8.9.10\"\n",
    "li = re.split(\"[,]\",str1)\n",
    "li"
   ]
  },
  {
   "cell_type": "code",
   "execution_count": 65,
   "id": "fffe1816",
   "metadata": {},
   "outputs": [
    {
     "data": {
      "text/plain": [
       "['1,2,3,4', '5', '6-7-8.9.10']"
      ]
     },
     "execution_count": 65,
     "metadata": {},
     "output_type": "execute_result"
    }
   ],
   "source": [
    "str1 = \"1,2,3,4/5/6-7-8.9.10\"\n",
    "li = re.split(\"[/]\",str1)\n",
    "li"
   ]
  },
  {
   "cell_type": "code",
   "execution_count": 66,
   "id": "4290c696",
   "metadata": {},
   "outputs": [
    {
     "data": {
      "text/plain": [
       "['1', '2', '3', '4', '5', '6-7-8.9.10']"
      ]
     },
     "execution_count": 66,
     "metadata": {},
     "output_type": "execute_result"
    }
   ],
   "source": [
    "str1 = \"1,2,3,4/5/6-7-8.9.10\"\n",
    "li = re.split(\"[,/]\",str1)\n",
    "li"
   ]
  },
  {
   "cell_type": "code",
   "execution_count": 67,
   "id": "f1a975b6",
   "metadata": {},
   "outputs": [
    {
     "data": {
      "text/plain": [
       "['1', '2', '3', '4', '5', '6', '7', '8.9.10']"
      ]
     },
     "execution_count": 67,
     "metadata": {},
     "output_type": "execute_result"
    }
   ],
   "source": [
    "str1 = \"1,2,3,4/5/6-7-8.9.10\"\n",
    "li = re.split(\"[,/-]\",str1)\n",
    "li"
   ]
  },
  {
   "cell_type": "code",
   "execution_count": 69,
   "id": "fff23f86",
   "metadata": {},
   "outputs": [
    {
     "data": {
      "text/plain": [
       "['1', '2', '3', '4', '5', '6', '7', '8', '9', '10']"
      ]
     },
     "execution_count": 69,
     "metadata": {},
     "output_type": "execute_result"
    }
   ],
   "source": [
    "str1 = \"1,2,3,4/5/6-7-8.9.10\"\n",
    "li = re.split(\"[.,/-]\",str1)\n",
    "li"
   ]
  },
  {
   "cell_type": "code",
   "execution_count": 70,
   "id": "9e8e2f93",
   "metadata": {},
   "outputs": [
    {
     "data": {
      "text/plain": [
       "['1', '2', '3', '4', '5', '6', '7', '8', '9', '10']"
      ]
     },
     "execution_count": 70,
     "metadata": {},
     "output_type": "execute_result"
    }
   ],
   "source": [
    "str1 = \"1,2,3,4/5/6-7-8.9.10\"\n",
    "li = re.split(\"[.|,|/|-]\",str1)\n",
    "li"
   ]
  },
  {
   "cell_type": "code",
   "execution_count": null,
   "id": "4643ea8e",
   "metadata": {},
   "outputs": [],
   "source": []
  }
 ],
 "metadata": {
  "kernelspec": {
   "display_name": "Python 3 (ipykernel)",
   "language": "python",
   "name": "python3"
  },
  "language_info": {
   "codemirror_mode": {
    "name": "ipython",
    "version": 3
   },
   "file_extension": ".py",
   "mimetype": "text/x-python",
   "name": "python",
   "nbconvert_exporter": "python",
   "pygments_lexer": "ipython3",
   "version": "3.10.5"
  }
 },
 "nbformat": 4,
 "nbformat_minor": 5
}
