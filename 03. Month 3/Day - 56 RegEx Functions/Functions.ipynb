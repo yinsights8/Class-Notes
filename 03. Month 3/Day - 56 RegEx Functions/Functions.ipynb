{
 "cells": [
  {
   "cell_type": "markdown",
   "id": "96e03c19",
   "metadata": {},
   "source": [
    "# Functions"
   ]
  },
  {
   "cell_type": "markdown",
   "id": "26b8686a",
   "metadata": {},
   "source": [
    "# 2. search\n",
    "- It searches for a match and return an object of the first match/occurrence only\n",
    "- re.search(pattern,text)"
   ]
  },
  {
   "cell_type": "code",
   "execution_count": 1,
   "id": "0d9973fc",
   "metadata": {},
   "outputs": [],
   "source": [
    "import re"
   ]
  },
  {
   "cell_type": "code",
   "execution_count": 6,
   "id": "eff697fa",
   "metadata": {},
   "outputs": [
    {
     "data": {
      "text/plain": [
       "<re.Match object; span=(9, 22), match='234 5678 8998'>"
      ]
     },
     "execution_count": 6,
     "metadata": {},
     "output_type": "execute_result"
    }
   ],
   "source": [
    "text = \"\"\"\n",
    "str1 = 1234 5678 8998\n",
    "str2 = 124 5678 8998\n",
    "str3 = 1234 5678 898\n",
    "str4 = 12345678 8998\n",
    "str5 = 1234 5678 8998\n",
    "str6 = 134 5678 8998\n",
    "str7 = 1234 578 8998\n",
    "str8 = 1234 5678 898\n",
    "str9 = 14 5678 8998\n",
    "str10 = 1445 5678 8998\n",
    "\"\"\"\n",
    "Adhar = re.search(\"\\d{3}\\s\\d{4}\\s\\d{4}\",text)\n",
    "Adhar"
   ]
  },
  {
   "cell_type": "code",
   "execution_count": 7,
   "id": "268cc37e",
   "metadata": {},
   "outputs": [
    {
     "data": {
      "text/plain": [
       "<re.Match object; span=(73, 86), match='234 5678 8998'>"
      ]
     },
     "execution_count": 7,
     "metadata": {},
     "output_type": "execute_result"
    }
   ],
   "source": [
    "text = \"\"\"This is the collection of all the valid or invalid adhar numbers\n",
    "str1 = 1234 5678 8998\n",
    "str2 = 124 5678 8998\n",
    "str3 = 1234 5678 898\n",
    "str4 = 12345678 8998\n",
    "str5 = 1234 5678 8998\n",
    "str6 = 134 5678 8998\n",
    "str7 = 1234 578 8998\n",
    "str8 = 1234 5678 898\n",
    "str9 = 14 5678 8998\n",
    "str10 = 1445 5678 8998\n",
    "\"\"\"\n",
    "Adhar = re.search(\"\\d{3}\\s\\d{4}\\s\\d{4}\",text)\n",
    "Adhar"
   ]
  },
  {
   "cell_type": "code",
   "execution_count": 9,
   "id": "e7eb8aee",
   "metadata": {},
   "outputs": [
    {
     "data": {
      "text/plain": [
       "73"
      ]
     },
     "execution_count": 9,
     "metadata": {},
     "output_type": "execute_result"
    }
   ],
   "source": [
    "Adhar.start()"
   ]
  },
  {
   "cell_type": "code",
   "execution_count": 10,
   "id": "befb533e",
   "metadata": {},
   "outputs": [
    {
     "data": {
      "text/plain": [
       "86"
      ]
     },
     "execution_count": 10,
     "metadata": {},
     "output_type": "execute_result"
    }
   ],
   "source": [
    "Adhar.end()"
   ]
  },
  {
   "cell_type": "code",
   "execution_count": 11,
   "id": "d1e77e93",
   "metadata": {},
   "outputs": [
    {
     "data": {
      "text/plain": [
       "'234 5678 8998'"
      ]
     },
     "execution_count": 11,
     "metadata": {},
     "output_type": "execute_result"
    }
   ],
   "source": [
    "Adhar.group()"
   ]
  },
  {
   "cell_type": "code",
   "execution_count": 12,
   "id": "12ba2782",
   "metadata": {},
   "outputs": [
    {
     "data": {
      "text/plain": [
       "'234 5678 8998'"
      ]
     },
     "execution_count": 12,
     "metadata": {},
     "output_type": "execute_result"
    }
   ],
   "source": [
    "text[73:86]"
   ]
  },
  {
   "cell_type": "code",
   "execution_count": 13,
   "id": "777e628c",
   "metadata": {},
   "outputs": [],
   "source": [
    "text = \"\"\"This is the collection of all the valid or invalid adhar numbers\n",
    "str1 = 1234 5678 8998\n",
    "str2 = 124 5678 8998\n",
    "str3 = 1234 5678 898\n",
    "str4 = 12345678 8998\n",
    "str5 = 1234 5678 8998\n",
    "str6 = 134 5678 8998\n",
    "str7 = 1234 578 8998\n",
    "str8 = 1234 5678 898\n",
    "str9 = 14 5678 8998\n",
    "str10 = 1445 5678 8998\n",
    "\"\"\"\n",
    "Adhar = re.search(\"\\d{2}\\s\\d{3}\\s\\d{5}\",text)\n",
    "Adhar"
   ]
  },
  {
   "cell_type": "code",
   "execution_count": 14,
   "id": "632ab99c",
   "metadata": {},
   "outputs": [
    {
     "ename": "AttributeError",
     "evalue": "'NoneType' object has no attribute 'group'",
     "output_type": "error",
     "traceback": [
      "\u001b[1;31m---------------------------------------------------------------------------\u001b[0m",
      "\u001b[1;31mAttributeError\u001b[0m                            Traceback (most recent call last)",
      "Input \u001b[1;32mIn [14]\u001b[0m, in \u001b[0;36m<cell line: 1>\u001b[1;34m()\u001b[0m\n\u001b[1;32m----> 1\u001b[0m \u001b[43mAdhar\u001b[49m\u001b[38;5;241;43m.\u001b[39;49m\u001b[43mgroup\u001b[49m()\n",
      "\u001b[1;31mAttributeError\u001b[0m: 'NoneType' object has no attribute 'group'"
     ]
    }
   ],
   "source": [
    "Adhar.group()"
   ]
  },
  {
   "cell_type": "code",
   "execution_count": 16,
   "id": "a9d8cd15",
   "metadata": {},
   "outputs": [
    {
     "name": "stdout",
     "output_type": "stream",
     "text": [
      "No Match\n"
     ]
    }
   ],
   "source": [
    "if Adhar:\n",
    "    print(f\"Found Match --> {Adhar.group()}\")\n",
    "else:\n",
    "    print(\"No Match\")"
   ]
  },
  {
   "cell_type": "code",
   "execution_count": 17,
   "id": "112c4f41",
   "metadata": {},
   "outputs": [
    {
     "name": "stdout",
     "output_type": "stream",
     "text": [
      "Found Match --> 1234 5678 8998\n"
     ]
    }
   ],
   "source": [
    "text = \"\"\"This is the collection of all the valid or invalid adhar numbers\n",
    "str1 = 1234 5678 8998\n",
    "str2 = 124 5678 8998\n",
    "str3 = 1234 5678 898\n",
    "str4 = 12345678 8998\n",
    "str5 = 1234 5678 8998\n",
    "str6 = 134 5678 8998\n",
    "str7 = 1234 578 8998\n",
    "str8 = 1234 5678 898\n",
    "str9 = 14 5678 8998\n",
    "str10 = 1445 5678 8998\n",
    "\"\"\"\n",
    "Adhar = re.search(\"\\d{4}\\s\\d{4}\\s\\d{4}\",text)\n",
    "if Adhar:\n",
    "    print(f\"Found Match --> {Adhar.group()}\")\n",
    "else:\n",
    "    print(\"No Match\")"
   ]
  },
  {
   "cell_type": "markdown",
   "id": "780f40fd",
   "metadata": {},
   "source": [
    "# 3. match\n",
    "- It searches for a match at the begining of the string and returns an object\n",
    "- re.match(pattern, text)"
   ]
  },
  {
   "cell_type": "code",
   "execution_count": 19,
   "id": "5b9e20bc",
   "metadata": {},
   "outputs": [
    {
     "name": "stdout",
     "output_type": "stream",
     "text": [
      "No Match\n"
     ]
    }
   ],
   "source": [
    "text = \"\"\"This is the collection of all the valid or invalid adhar numbers\n",
    "Pan --> ASDFG1234J\n",
    "str1 = 1234 5678 8998\n",
    "str2 = 124 5678 8998\n",
    "str3 = 1234 5678 898\n",
    "str4 = 12345678 8998\n",
    "str5 = 1234 5678 8998\n",
    "str6 = 134 5678 8998\n",
    "str7 = 1234 578 8998\n",
    "str8 = 1234 5678 898\n",
    "str9 = 14 5678 8998\n",
    "str10 = 1445 5678 8998\n",
    "\"\"\"\n",
    "Adhar = re.match(\"\\d{4}\\s\\d{4}\\s\\d{4}\",text)\n",
    "if Adhar:\n",
    "    print(f\"Found Match --> {Adhar.group()}\")\n",
    "else:\n",
    "    print(\"No Match\")"
   ]
  },
  {
   "cell_type": "code",
   "execution_count": 20,
   "id": "4093b63d",
   "metadata": {},
   "outputs": [
    {
     "name": "stdout",
     "output_type": "stream",
     "text": [
      "No Match\n"
     ]
    }
   ],
   "source": [
    "text = \"\"\"This is the collection of all the valid or invalid adhar numbers\n",
    "Pan --> ASDFG1234J\n",
    "str1 = 1234 5678 8998\n",
    "str2 = 124 5678 8998\n",
    "str3 = 1234 5678 898\n",
    "str4 = 12345678 8998\n",
    "str5 = 1234 5678 8998\n",
    "str6 = 134 5678 8998\n",
    "str7 = 1234 578 8998\n",
    "str8 = 1234 5678 898\n",
    "str9 = 14 5678 8998\n",
    "str10 = 1445 5678 8998\n",
    "\"\"\"\n",
    "Adhar = re.match(\"[A-Z]{5}\\d{4}[A-Z]\",text)\n",
    "if Adhar:\n",
    "    print(f\"Found Match --> {Adhar.group()}\")\n",
    "else:\n",
    "    print(\"No Match\")"
   ]
  },
  {
   "cell_type": "code",
   "execution_count": 21,
   "id": "ad2091a4",
   "metadata": {},
   "outputs": [
    {
     "name": "stdout",
     "output_type": "stream",
     "text": [
      "No Match\n"
     ]
    }
   ],
   "source": [
    "text = \"\"\"\n",
    "ASDFG1234J\n",
    "str1 = 1234 5678 8998\n",
    "str2 = 124 5678 8998\n",
    "str3 = 1234 5678 898\n",
    "str4 = 12345678 8998\n",
    "str5 = 1234 5678 8998\n",
    "str6 = 134 5678 8998\n",
    "str7 = 1234 578 8998\n",
    "str8 = 1234 5678 898\n",
    "str9 = 14 5678 8998\n",
    "str10 = 1445 5678 8998\n",
    "\"\"\"\n",
    "Adhar = re.match(\"[A-Z]{5}\\d{4}[A-Z]\",text)\n",
    "if Adhar:\n",
    "    print(f\"Found Match --> {Adhar.group()}\")\n",
    "else:\n",
    "    print(\"No Match\")"
   ]
  },
  {
   "cell_type": "code",
   "execution_count": 22,
   "id": "b0583089",
   "metadata": {},
   "outputs": [
    {
     "name": "stdout",
     "output_type": "stream",
     "text": [
      "Found Match --> ASDFG1234J\n"
     ]
    }
   ],
   "source": [
    "text = \"\"\"ASDFG1234J\n",
    "str1 = 1234 5678 8998\n",
    "str2 = 124 5678 8998\n",
    "str3 = 1234 5678 898\n",
    "str4 = 12345678 8998\n",
    "str5 = 1234 5678 8998\n",
    "str6 = 134 5678 8998\n",
    "str7 = 1234 578 8998\n",
    "str8 = 1234 5678 898\n",
    "str9 = 14 5678 8998\n",
    "str10 = 1445 5678 8998\n",
    "\"\"\"\n",
    "Adhar = re.match(\"[A-Z]{5}\\d{4}[A-Z]\",text)\n",
    "if Adhar:\n",
    "    print(f\"Found Match --> {Adhar.group()}\")\n",
    "else:\n",
    "    print(\"No Match\")"
   ]
  },
  {
   "cell_type": "markdown",
   "id": "55b845be",
   "metadata": {},
   "source": [
    "# 4. sub\n",
    "- new_text = re.sub(pattern, new_string, text)"
   ]
  },
  {
   "cell_type": "code",
   "execution_count": 23,
   "id": "9dab5661",
   "metadata": {},
   "outputs": [
    {
     "data": {
      "text/plain": [
       "'Java and Data Science'"
      ]
     },
     "execution_count": 23,
     "metadata": {},
     "output_type": "execute_result"
    }
   ],
   "source": [
    "text = \"Python and Data Science\"\n",
    "res = text.replace(\"Python\",\"Java\")\n",
    "res"
   ]
  },
  {
   "cell_type": "code",
   "execution_count": 24,
   "id": "14387cd1",
   "metadata": {},
   "outputs": [
    {
     "data": {
      "text/plain": [
       "'PythonandDataScience'"
      ]
     },
     "execution_count": 24,
     "metadata": {},
     "output_type": "execute_result"
    }
   ],
   "source": [
    "text = \"Python and Data Science\"\n",
    "res = text.replace(\" \",\"\")\n",
    "res"
   ]
  },
  {
   "cell_type": "code",
   "execution_count": 25,
   "id": "aa9ab1e2",
   "metadata": {},
   "outputs": [
    {
     "data": {
      "text/plain": [
       "'Python and Data  Science'"
      ]
     },
     "execution_count": 25,
     "metadata": {},
     "output_type": "execute_result"
    }
   ],
   "source": [
    "text = \"Python and Data ********************** S************cience\"\n",
    "res = text.replace(\"*\",\"\")\n",
    "res"
   ]
  },
  {
   "cell_type": "code",
   "execution_count": 29,
   "id": "c28bf087",
   "metadata": {},
   "outputs": [
    {
     "data": {
      "text/plain": [
       "'PythonandDataScience'"
      ]
     },
     "execution_count": 29,
     "metadata": {},
     "output_type": "execute_result"
    }
   ],
   "source": [
    "re.sub(r\"\\W\",\"\",text)"
   ]
  },
  {
   "cell_type": "code",
   "execution_count": 30,
   "id": "eb0b629d",
   "metadata": {},
   "outputs": [
    {
     "data": {
      "text/plain": [
       "'PythonandDataScience'"
      ]
     },
     "execution_count": 30,
     "metadata": {},
     "output_type": "execute_result"
    }
   ],
   "source": [
    "text = \"Python                 and       Data                Science\"\n",
    "re.sub(r\"\\s\",\"\",text)"
   ]
  },
  {
   "cell_type": "code",
   "execution_count": 32,
   "id": "d15db496",
   "metadata": {},
   "outputs": [
    {
     "data": {
      "text/plain": [
       "'Python and Data Science'"
      ]
     },
     "execution_count": 32,
     "metadata": {},
     "output_type": "execute_result"
    }
   ],
   "source": [
    "text = \"Python^^^^^^^^^ and ###########Data S#cien$ce\"\n",
    "re.sub(r\"[#$^]\",\"\",text)"
   ]
  },
  {
   "cell_type": "code",
   "execution_count": null,
   "id": "9ecf82be",
   "metadata": {},
   "outputs": [],
   "source": []
  }
 ],
 "metadata": {
  "kernelspec": {
   "display_name": "Python 3 (ipykernel)",
   "language": "python",
   "name": "python3"
  },
  "language_info": {
   "codemirror_mode": {
    "name": "ipython",
    "version": 3
   },
   "file_extension": ".py",
   "mimetype": "text/x-python",
   "name": "python",
   "nbconvert_exporter": "python",
   "pygments_lexer": "ipython3",
   "version": "3.9.12"
  }
 },
 "nbformat": 4,
 "nbformat_minor": 5
}
