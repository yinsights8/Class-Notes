{
 "cells": [
  {
   "cell_type": "markdown",
   "id": "f489073a",
   "metadata": {},
   "source": [
    "# Data Science"
   ]
  },
  {
   "cell_type": "raw",
   "id": "12fe691b",
   "metadata": {},
   "source": [
    "1. It is a Process of Extracting Knowledge and insights from a data by using Scientific Methods "
   ]
  },
  {
   "cell_type": "markdown",
   "id": "51083511",
   "metadata": {},
   "source": [
    "# Scientific Methods"
   ]
  },
  {
   "cell_type": "raw",
   "id": "bb70c4ec",
   "metadata": {},
   "source": [
    "1. Machine Learning (CSV,Excel,DataBase)\n",
    "2. Deep Learning (image, Videos)\n",
    "3. Natural Language Processing (Text Data)\n",
    "4. Statistics\n",
    "5. Data Visualization (seaborn, Matplotlib, pandas)"
   ]
  },
  {
   "cell_type": "markdown",
   "id": "4d07b8e3",
   "metadata": {},
   "source": [
    "# Data "
   ]
  },
  {
   "cell_type": "raw",
   "id": "c376f842",
   "metadata": {},
   "source": [
    "1. Structured Format (CSV, Excel)\n",
    "2. Unstructured Format (Image, Videos, pdf)\n",
    "3. Semistructured Format (JSON, HTML)"
   ]
  },
  {
   "cell_type": "markdown",
   "id": "7e15b4ec",
   "metadata": {},
   "source": [
    "# Machine Learning"
   ]
  },
  {
   "cell_type": "raw",
   "id": "78ce3637",
   "metadata": {},
   "source": [
    "Ability of Machine to learn without explicitly programmed"
   ]
  },
  {
   "cell_type": "markdown",
   "id": "bac2c8d5",
   "metadata": {},
   "source": [
    "# Real World Application of Machine Learning"
   ]
  },
  {
   "cell_type": "raw",
   "id": "b75b6c33",
   "metadata": {},
   "source": [
    "1. Recommendation System (Netflix,Amazon,Flipkart)\n",
    "2. Medical Field (Cancer, Diabetes, Kidney)\n",
    "3. Email Filterning (Spam or Not Spam)\n",
    "4. Loan Prediction (Approved or Declined)\n",
    "5. ChatBot\n",
    "6. Voice Assistants (Alexa, Google ,Siri) >>(Voice >> Text >> ML Model(Will test the data)>> Voice)\n",
    "7. Self Driving Car\n",
    "8. OCR"
   ]
  },
  {
   "cell_type": "code",
   "execution_count": null,
   "id": "75e7f73b",
   "metadata": {},
   "outputs": [],
   "source": []
  }
 ],
 "metadata": {
  "kernelspec": {
   "display_name": "Python 3 (ipykernel)",
   "language": "python",
   "name": "python3"
  },
  "language_info": {
   "codemirror_mode": {
    "name": "ipython",
    "version": 3
   },
   "file_extension": ".py",
   "mimetype": "text/x-python",
   "name": "python",
   "nbconvert_exporter": "python",
   "pygments_lexer": "ipython3",
   "version": "3.9.12"
  }
 },
 "nbformat": 4,
 "nbformat_minor": 5
}
