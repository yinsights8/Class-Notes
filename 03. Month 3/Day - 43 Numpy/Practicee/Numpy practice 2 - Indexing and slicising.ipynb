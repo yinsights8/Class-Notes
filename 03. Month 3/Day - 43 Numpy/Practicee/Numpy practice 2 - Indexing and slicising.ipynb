{
 "cells": [
  {
   "cell_type": "markdown",
   "id": "4227da4f",
   "metadata": {},
   "source": [
    "### indexign and sliceing"
   ]
  },
  {
   "cell_type": "code",
   "execution_count": 1,
   "id": "39ec58f9",
   "metadata": {},
   "outputs": [
    {
     "name": "stdout",
     "output_type": "stream",
     "text": [
      "1\n",
      "4\n",
      "5\n",
      "3\n"
     ]
    }
   ],
   "source": [
    "lis = [1,2,3,4,5]\n",
    "print(lis[0])\n",
    "print(lis[3])\n",
    "print(lis[-1])\n",
    "print(lis[-3])"
   ]
  },
  {
   "cell_type": "code",
   "execution_count": 2,
   "id": "e3eefca9",
   "metadata": {},
   "outputs": [
    {
     "name": "stdout",
     "output_type": "stream",
     "text": [
      "[3, 4]\n"
     ]
    }
   ],
   "source": [
    "print(lis[2:4])"
   ]
  },
  {
   "cell_type": "code",
   "execution_count": 3,
   "id": "f0f51053",
   "metadata": {},
   "outputs": [
    {
     "name": "stdout",
     "output_type": "stream",
     "text": [
      "[]\n"
     ]
    }
   ],
   "source": [
    "print(lis[-2:-4])"
   ]
  },
  {
   "cell_type": "code",
   "execution_count": 4,
   "id": "f9d1df26",
   "metadata": {},
   "outputs": [
    {
     "name": "stdout",
     "output_type": "stream",
     "text": [
      "[4, 3]\n",
      "[2, 3]\n"
     ]
    }
   ],
   "source": [
    "print(lis[-2:-4:-1]) # OR\n",
    "print(lis[-4:-2])"
   ]
  },
  {
   "cell_type": "code",
   "execution_count": 5,
   "id": "25493a7e",
   "metadata": {},
   "outputs": [],
   "source": [
    "import numpy as np"
   ]
  },
  {
   "cell_type": "markdown",
   "id": "f0bc6a8b",
   "metadata": {},
   "source": [
    "### slicing on 0-d array\n",
    "- indices are not possible"
   ]
  },
  {
   "cell_type": "code",
   "execution_count": 6,
   "id": "ceb8cf93",
   "metadata": {},
   "outputs": [
    {
     "ename": "IndexError",
     "evalue": "too many indices for array: array is 0-dimensional, but 1 were indexed",
     "output_type": "error",
     "traceback": [
      "\u001b[1;31m---------------------------------------------------------------------------\u001b[0m",
      "\u001b[1;31mIndexError\u001b[0m                                Traceback (most recent call last)",
      "Input \u001b[1;32mIn [6]\u001b[0m, in \u001b[0;36m<cell line: 2>\u001b[1;34m()\u001b[0m\n\u001b[0;32m      1\u001b[0m a \u001b[38;5;241m=\u001b[39m np\u001b[38;5;241m.\u001b[39marray(\u001b[38;5;241m1000\u001b[39m)\n\u001b[1;32m----> 2\u001b[0m \u001b[38;5;28mprint\u001b[39m(\u001b[43ma\u001b[49m\u001b[43m[\u001b[49m\u001b[38;5;241;43m0\u001b[39;49m\u001b[43m]\u001b[49m)\n",
      "\u001b[1;31mIndexError\u001b[0m: too many indices for array: array is 0-dimensional, but 1 were indexed"
     ]
    }
   ],
   "source": [
    "a = np.array(1000)\n",
    "print(a[0])"
   ]
  },
  {
   "cell_type": "markdown",
   "id": "259338d3",
   "metadata": {},
   "source": [
    "### slicing on 1-d array"
   ]
  },
  {
   "cell_type": "code",
   "execution_count": 7,
   "id": "769ab642",
   "metadata": {},
   "outputs": [
    {
     "name": "stdout",
     "output_type": "stream",
     "text": [
      "dimension of an array: 1\n",
      "1\n",
      "2\n",
      "3\n",
      "3\n",
      "[3 2]\n",
      "[1 2]\n"
     ]
    }
   ],
   "source": [
    "ar = np.array([1,2,3])\n",
    "print(f\"dimension of an array: {ar.ndim}\")\n",
    "\n",
    "print(ar[0])\n",
    "print(ar[1])\n",
    "print(ar[2])\n",
    "print(ar[-1])\n",
    "print(ar[-1:-3:-1])\n",
    "print(ar[-3:-1])"
   ]
  },
  {
   "cell_type": "markdown",
   "id": "a037bc7f",
   "metadata": {},
   "source": [
    "### slicing on 2-d array"
   ]
  },
  {
   "cell_type": "code",
   "execution_count": 8,
   "id": "c5ae87e1",
   "metadata": {},
   "outputs": [
    {
     "name": "stdout",
     "output_type": "stream",
     "text": [
      "dimensions of an array:- 2\n",
      "array number 0> [1 2 3]\n",
      "2\n",
      "3\n",
      "[1 2 3]\n",
      "[2 3]\n",
      "<><><><><><><><><><><><><><><><><><><><>\n",
      "array number 1> [4 5 6]\n",
      "4\n",
      "6\n",
      "[6]\n",
      "[6 5]\n"
     ]
    }
   ],
   "source": [
    "arr = np.array([[1,2,3],[4,5,6]])\n",
    "print(f\"dimensions of an array:- {arr.ndim}\")\n",
    "\n",
    "print(\"array number 0>\",arr[0])\n",
    "print(arr[0, 1])\n",
    "print(arr[0, -1])\n",
    "print(arr[0, 0:])\n",
    "print(arr[0, 1:])\n",
    "\n",
    "print(\"<>\"*20)\n",
    "\n",
    "print(\"array number 1>\",arr[1])\n",
    "print(arr[1,0])\n",
    "print(arr[1,-1])\n",
    "print(arr[1,2:])\n",
    "print(arr[1,-1:-3:-1])"
   ]
  },
  {
   "cell_type": "code",
   "execution_count": 9,
   "id": "f642c566",
   "metadata": {},
   "outputs": [
    {
     "name": "stdout",
     "output_type": "stream",
     "text": [
      "dimension of an array:- 2\n",
      "[100 200 300 400 500 600]\n",
      "[300 400 500 600]\n",
      "[600 500 400 300 200]\n",
      "[1 2 3 4 5]\n",
      "60\n",
      "300\n",
      "<><><><><><><><><><><><><><><><><><><><>\n",
      "300\n",
      "[100 200 300 400 500 600]\n",
      "[300 400 500 600]\n",
      "[600 500 400 300 200]\n",
      "600\n",
      "6\n",
      "4\n",
      "[30 40 50 60]\n"
     ]
    }
   ],
   "source": [
    "arr = np.array([[1,2,3,4,5,6],[10,20,30,40,50,60],[100,200,300,400,500,600]])\n",
    "print(\"dimension of an array:-\",arr.ndim)\n",
    "\n",
    "print(arr[2])\n",
    "print(arr[2,2:])\n",
    "print(arr[2,-1:-6:-1])\n",
    "print(arr[0,-6:-1])\n",
    "print(arr[1,-1])\n",
    "print(arr[2,2])\n",
    "\n",
    "print(\"<>\"*20)\n",
    "\n",
    "print(arr[2][2])\n",
    "\n",
    "print(arr[2])\n",
    "print(arr[2][2:])\n",
    "\n",
    "print(arr[2][-1:-6:-1])\n",
    "print(arr[2][-1])\n",
    "print(arr[0][-1])\n",
    "print(arr[0][3])\n",
    "print(arr[1][2:])"
   ]
  },
  {
   "cell_type": "markdown",
   "id": "3819964d",
   "metadata": {},
   "source": [
    "### slicing in 3-d array"
   ]
  },
  {
   "cell_type": "code",
   "execution_count": 10,
   "id": "dde67604",
   "metadata": {},
   "outputs": [
    {
     "name": "stdout",
     "output_type": "stream",
     "text": [
      "Array: \n",
      " [[[  1   2   3]\n",
      "  [ 10  20  30]]\n",
      "\n",
      " [[100 200 300]\n",
      "  [ 10  40  70]]]\n",
      "\n",
      "dimension of an array:- 3\n",
      "\n",
      "[100 200 300]\n",
      "200\n",
      "40\n",
      "10\n",
      "[10 40 70]\n",
      "40\n",
      "10\n",
      "<><><><><><><><><><><><><><><><><><><><>\n",
      "40\n",
      "70\n",
      "[1 2 3]\n",
      "3\n",
      "30\n"
     ]
    }
   ],
   "source": [
    "arr = np.array([[[1,2,3], [10,20,30]],           ## 0\n",
    "                [[100,200,300], [10,40,70]]])    ## 1\n",
    "print(\"Array: \\n\",arr)\n",
    "print(\"\\ndimension of an array:-\",arr.ndim)\n",
    "print()\n",
    "print(arr[1][0])\n",
    "print(arr[1][0][1])\n",
    "print(arr[1][1][1])\n",
    "print(arr[1][1][0])\n",
    "print(arr[1][1])\n",
    "print(arr[1][1][1])\n",
    "print(arr[1][1][0])\n",
    "\n",
    "print(\"<>\"*20)\n",
    "\n",
    "print(arr[1,1,1])\n",
    "print(arr[1,1,2])\n",
    "print(arr[0,0])\n",
    "print(arr[0,0,2])\n",
    "print(arr[0,1,-1])"
   ]
  },
  {
   "cell_type": "code",
   "execution_count": 11,
   "id": "2e24a4e2",
   "metadata": {},
   "outputs": [
    {
     "name": "stdout",
     "output_type": "stream",
     "text": [
      "Array: \n",
      " [[[  1   2   3]\n",
      "  [ 10  20  30]]\n",
      "\n",
      " [[100 200 300]\n",
      "  [ 10  40  70]]]\n",
      "\n",
      "dimension of an array:- 3\n",
      "[2 3]\n",
      "[1 2]\n",
      "[2 3]\n"
     ]
    }
   ],
   "source": [
    "arr = np.array([[[1,2,3], [10,20,30]],           ## 0\n",
    "                [[100,200,300], [10,40,70]]])    ## 1\n",
    "print(\"Array: \\n\",arr)\n",
    "print(\"\\ndimension of an array:-\",arr.ndim)\n",
    "\n",
    "print(arr[0][0][1:])\n",
    "print(arr[0][0][:2])\n",
    "print(arr[0,0,1:])"
   ]
  },
  {
   "cell_type": "markdown",
   "id": "f5e7427e",
   "metadata": {},
   "source": [
    "## 2 - d array"
   ]
  },
  {
   "cell_type": "code",
   "execution_count": 12,
   "id": "5e3ec390",
   "metadata": {},
   "outputs": [
    {
     "name": "stdout",
     "output_type": "stream",
     "text": [
      "Array --> \n",
      "[[  1   2   3   4   5]\n",
      " [ 10  20  30  40  50]\n",
      " [100 200 300 400 500]]\n",
      "Number of dimensions = 2\n",
      "Length --> 3\n",
      "Shape of an array --> (3, 5)\n"
     ]
    }
   ],
   "source": [
    "arr = np.array([[1,2,3,4,5],[10,20,30,40,50],[100,200,300,400,500]],int)\n",
    "print(f\"Array --> \\n{arr}\")\n",
    "print(f\"Number of dimensions = {arr.ndim}\")\n",
    "print(f\"Length --> {len(arr)}\")\n",
    "print(f\"Shape of an array --> {arr.shape}\")"
   ]
  },
  {
   "cell_type": "code",
   "execution_count": 13,
   "id": "83cc59b2",
   "metadata": {},
   "outputs": [
    {
     "name": "stdout",
     "output_type": "stream",
     "text": [
      "[[  1   2]\n",
      " [ 10  20]\n",
      " [100 200]]\n"
     ]
    }
   ],
   "source": [
    "print(arr[0: , 0:2])"
   ]
  },
  {
   "cell_type": "code",
   "execution_count": 14,
   "id": "af1263fd",
   "metadata": {},
   "outputs": [
    {
     "name": "stdout",
     "output_type": "stream",
     "text": [
      "[[ 40  50]\n",
      " [400 500]]\n"
     ]
    }
   ],
   "source": [
    "print(arr[1:3, -2:])"
   ]
  },
  {
   "cell_type": "code",
   "execution_count": 15,
   "id": "6677b351",
   "metadata": {},
   "outputs": [
    {
     "name": "stdout",
     "output_type": "stream",
     "text": [
      "[[  1   2   3]\n",
      " [ 10  20  30]\n",
      " [100 200 300]]\n"
     ]
    }
   ],
   "source": [
    "print(arr[:, 0:3])"
   ]
  },
  {
   "cell_type": "code",
   "execution_count": 16,
   "id": "e5bd466b",
   "metadata": {},
   "outputs": [
    {
     "name": "stdout",
     "output_type": "stream",
     "text": [
      "[[  1   2   3   4   5]\n",
      " [ 10  20  30  40  50]\n",
      " [100 200 300 400 500]]\n"
     ]
    }
   ],
   "source": [
    "print(arr[:])"
   ]
  },
  {
   "cell_type": "code",
   "execution_count": null,
   "id": "2fd5d415",
   "metadata": {},
   "outputs": [],
   "source": []
  },
  {
   "cell_type": "code",
   "execution_count": null,
   "id": "7c486a22",
   "metadata": {},
   "outputs": [],
   "source": []
  },
  {
   "cell_type": "markdown",
   "id": "e994cfa3",
   "metadata": {},
   "source": [
    "### 3 - d Array"
   ]
  },
  {
   "cell_type": "code",
   "execution_count": 17,
   "id": "c268d5b3",
   "metadata": {},
   "outputs": [
    {
     "name": "stdout",
     "output_type": "stream",
     "text": [
      "dimension of arry: \n",
      " [[[ 1  2  3  4]\n",
      "  [ 5  6  7  8]]\n",
      "\n",
      " [[ 9 10 11 12]\n",
      "  [ 1  4  7  8]]\n",
      "\n",
      " [[ 5  2  0  9]\n",
      "  [ 6  3  9  1]]]\n"
     ]
    }
   ],
   "source": [
    "arr1 = np.array([[[1,2,3,4], [5,6,7,8]], [[9,10,11,12], [1,4,7,8]], [[5,2,0,9], [6,3,9,1]]]) ## 1\n",
    "print(\"dimension of arry: \\n\",arr1)"
   ]
  },
  {
   "cell_type": "code",
   "execution_count": 18,
   "id": "e5fa9a86",
   "metadata": {},
   "outputs": [
    {
     "name": "stdout",
     "output_type": "stream",
     "text": [
      "[[[ 1  2  3]\n",
      "  [ 5  6  7]]\n",
      "\n",
      " [[ 9 10 11]\n",
      "  [ 1  4  7]]\n",
      "\n",
      " [[ 5  2  0]\n",
      "  [ 6  3  9]]]\n"
     ]
    }
   ],
   "source": [
    "print(arr1[0:, 0:, 0:-1])"
   ]
  },
  {
   "cell_type": "code",
   "execution_count": 19,
   "id": "dec1d407",
   "metadata": {},
   "outputs": [
    {
     "name": "stdout",
     "output_type": "stream",
     "text": [
      "[[[ 2  3]\n",
      "  [ 6  7]]\n",
      "\n",
      " [[10 11]\n",
      "  [ 4  7]]\n",
      "\n",
      " [[ 2  0]\n",
      "  [ 3  9]]]\n"
     ]
    }
   ],
   "source": [
    "print(arr1[:, :, 1:-1])"
   ]
  },
  {
   "cell_type": "code",
   "execution_count": 20,
   "id": "208f63ab",
   "metadata": {},
   "outputs": [
    {
     "name": "stdout",
     "output_type": "stream",
     "text": [
      "[[[ 1  2]\n",
      "  [ 5  6]]\n",
      "\n",
      " [[ 9 10]\n",
      "  [ 1  4]]]\n"
     ]
    }
   ],
   "source": [
    "print(arr1[:-1, :, 0:2])"
   ]
  },
  {
   "cell_type": "code",
   "execution_count": 21,
   "id": "6716e63e",
   "metadata": {},
   "outputs": [
    {
     "data": {
      "text/plain": [
       "array([[[5, 6]],\n",
       "\n",
       "       [[1, 4]]])"
      ]
     },
     "execution_count": 21,
     "metadata": {},
     "output_type": "execute_result"
    }
   ],
   "source": [
    "arr1[:-1, 1:, 0:2]"
   ]
  },
  {
   "cell_type": "code",
   "execution_count": 22,
   "id": "14daba73",
   "metadata": {},
   "outputs": [
    {
     "data": {
      "text/plain": [
       "array([[[ 1,  2,  3,  4],\n",
       "        [ 5,  6,  7,  8]],\n",
       "\n",
       "       [[ 9, 10, 11, 12],\n",
       "        [ 1,  4,  7,  8]],\n",
       "\n",
       "       [[ 5,  2,  0,  9],\n",
       "        [ 6,  3,  9,  1]]])"
      ]
     },
     "execution_count": 22,
     "metadata": {},
     "output_type": "execute_result"
    }
   ],
   "source": [
    "arr1"
   ]
  },
  {
   "cell_type": "code",
   "execution_count": 23,
   "id": "5eed29f5",
   "metadata": {},
   "outputs": [
    {
     "data": {
      "text/plain": [
       "array([[[ 2,  3]],\n",
       "\n",
       "       [[10, 11]],\n",
       "\n",
       "       [[ 2,  0]]])"
      ]
     },
     "execution_count": 23,
     "metadata": {},
     "output_type": "execute_result"
    }
   ],
   "source": [
    "arr1[0:, 0:-1, 1:-1]"
   ]
  },
  {
   "cell_type": "code",
   "execution_count": 24,
   "id": "a5386a66",
   "metadata": {},
   "outputs": [
    {
     "data": {
      "text/plain": [
       "array([[[ 2,  3,  4]],\n",
       "\n",
       "       [[10, 11, 12]],\n",
       "\n",
       "       [[ 2,  0,  9]]])"
      ]
     },
     "execution_count": 24,
     "metadata": {},
     "output_type": "execute_result"
    }
   ],
   "source": [
    "arr1[0:, 0:-1, 1:4]   ## [dimension control, row control, column control]"
   ]
  },
  {
   "cell_type": "code",
   "execution_count": 25,
   "id": "b392fc81",
   "metadata": {},
   "outputs": [
    {
     "name": "stdout",
     "output_type": "stream",
     "text": [
      "dimension of arry: \n",
      " [[[ 1  2  3  4]\n",
      "  [ 5  6  7  8]]\n",
      "\n",
      " [[ 9 10 11 12]\n",
      "  [ 1  4  7  8]]\n",
      "\n",
      " [[ 5  2  0  9]\n",
      "  [ 6  3  9  1]]]\n"
     ]
    }
   ],
   "source": [
    "arr1 = np.array([[[1,2,3,4], [5,6,7,8]], [[9,10,11,12], [1,4,7,8]], [[5,2,0,9], [6,3,9,1]]]) ## 1\n",
    "print(\"dimension of arry: \\n\",arr1)"
   ]
  },
  {
   "cell_type": "code",
   "execution_count": 31,
   "id": "c4aee328",
   "metadata": {},
   "outputs": [
    {
     "data": {
      "text/plain": [
       "array([[[ 1,  2],\n",
       "        [ 5,  6]],\n",
       "\n",
       "       [[ 9, 10],\n",
       "        [ 1,  4]]])"
      ]
     },
     "execution_count": 31,
     "metadata": {},
     "output_type": "execute_result"
    }
   ],
   "source": [
    "arr1[0:2,:, 0:2]"
   ]
  },
  {
   "cell_type": "code",
   "execution_count": null,
   "id": "ddafe5ae",
   "metadata": {},
   "outputs": [],
   "source": []
  },
  {
   "cell_type": "code",
   "execution_count": null,
   "id": "d4ef19d7",
   "metadata": {},
   "outputs": [],
   "source": []
  },
  {
   "cell_type": "code",
   "execution_count": null,
   "id": "566d1a93",
   "metadata": {},
   "outputs": [],
   "source": []
  },
  {
   "cell_type": "code",
   "execution_count": null,
   "id": "d9c6812c",
   "metadata": {},
   "outputs": [],
   "source": []
  },
  {
   "cell_type": "code",
   "execution_count": null,
   "id": "2e123623",
   "metadata": {},
   "outputs": [],
   "source": []
  },
  {
   "cell_type": "code",
   "execution_count": null,
   "id": "c64694d0",
   "metadata": {},
   "outputs": [],
   "source": []
  }
 ],
 "metadata": {
  "kernelspec": {
   "display_name": "Python 3 (ipykernel)",
   "language": "python",
   "name": "python3"
  },
  "language_info": {
   "codemirror_mode": {
    "name": "ipython",
    "version": 3
   },
   "file_extension": ".py",
   "mimetype": "text/x-python",
   "name": "python",
   "nbconvert_exporter": "python",
   "pygments_lexer": "ipython3",
   "version": "3.9.12"
  }
 },
 "nbformat": 4,
 "nbformat_minor": 5
}
