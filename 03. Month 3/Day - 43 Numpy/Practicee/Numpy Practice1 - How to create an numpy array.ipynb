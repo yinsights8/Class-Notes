{
 "cells": [
  {
   "cell_type": "markdown",
   "id": "e429afeb",
   "metadata": {},
   "source": [
    "### 1. Creating n - Dimension array"
   ]
  },
  {
   "cell_type": "markdown",
   "id": "8364d0a0",
   "metadata": {},
   "source": [
    "##### 0 - Dimension Array"
   ]
  },
  {
   "cell_type": "code",
   "execution_count": 1,
   "id": "caad7653",
   "metadata": {},
   "outputs": [],
   "source": [
    "import numpy as np"
   ]
  },
  {
   "cell_type": "code",
   "execution_count": 2,
   "id": "2bd88f2d",
   "metadata": {},
   "outputs": [
    {
     "name": "stdout",
     "output_type": "stream",
     "text": [
      "Array:- 1000\n",
      "dimensions of an array:- 0\n"
     ]
    }
   ],
   "source": [
    "arr = np.array(1000)\n",
    "\n",
    "print(f\"Array:- {arr}\")\n",
    "print(f\"dimensions of an array:- {arr.ndim}\")"
   ]
  },
  {
   "cell_type": "code",
   "execution_count": 3,
   "id": "c95d946b",
   "metadata": {},
   "outputs": [
    {
     "ename": "TypeError",
     "evalue": "array() takes from 1 to 2 positional arguments but 3 were given",
     "output_type": "error",
     "traceback": [
      "\u001b[1;31m---------------------------------------------------------------------------\u001b[0m",
      "\u001b[1;31mTypeError\u001b[0m                                 Traceback (most recent call last)",
      "Input \u001b[1;32mIn [3]\u001b[0m, in \u001b[0;36m<cell line: 1>\u001b[1;34m()\u001b[0m\n\u001b[1;32m----> 1\u001b[0m arr \u001b[38;5;241m=\u001b[39m \u001b[43mnp\u001b[49m\u001b[38;5;241;43m.\u001b[39;49m\u001b[43marray\u001b[49m\u001b[43m(\u001b[49m\u001b[38;5;241;43m1\u001b[39;49m\u001b[43m,\u001b[49m\u001b[38;5;241;43m2\u001b[39;49m\u001b[43m,\u001b[49m\u001b[38;5;241;43m3\u001b[39;49m\u001b[43m)\u001b[49m\n\u001b[0;32m      2\u001b[0m \u001b[38;5;28mprint\u001b[39m(\u001b[38;5;124mf\u001b[39m\u001b[38;5;124m\"\u001b[39m\u001b[38;5;124mArray:- \u001b[39m\u001b[38;5;132;01m{\u001b[39;00marr\u001b[38;5;132;01m}\u001b[39;00m\u001b[38;5;124m\"\u001b[39m)\n\u001b[0;32m      3\u001b[0m \u001b[38;5;28mprint\u001b[39m(\u001b[38;5;124mf\u001b[39m\u001b[38;5;124m\"\u001b[39m\u001b[38;5;124mdimensions of an array:- \u001b[39m\u001b[38;5;132;01m{\u001b[39;00marr\u001b[38;5;241m.\u001b[39mndim\u001b[38;5;132;01m}\u001b[39;00m\u001b[38;5;124m\"\u001b[39m)\n",
      "\u001b[1;31mTypeError\u001b[0m: array() takes from 1 to 2 positional arguments but 3 were given"
     ]
    }
   ],
   "source": [
    "arr = np.array(1,2,3)\n",
    "print(f\"Array:- {arr}\")\n",
    "print(f\"dimensions of an array:- {arr.ndim}\")"
   ]
  },
  {
   "cell_type": "code",
   "execution_count": 5,
   "id": "e6316445",
   "metadata": {},
   "outputs": [
    {
     "name": "stdout",
     "output_type": "stream",
     "text": [
      "Array:- yash dhakade\n",
      "dimensions of string array:- 0\n"
     ]
    }
   ],
   "source": [
    "arr = np.array(\"yash dhakade\")\n",
    "print(f\"Array:- {arr}\")\n",
    "print(f\"dimensions of string array:- {arr.ndim}\")"
   ]
  },
  {
   "cell_type": "code",
   "execution_count": 8,
   "id": "d6522e4d",
   "metadata": {},
   "outputs": [
    {
     "name": "stdout",
     "output_type": "stream",
     "text": [
      "Array:- 123\n",
      "dimensions of float array:- 0\n"
     ]
    }
   ],
   "source": [
    "arr = np.array(123.45,int)\n",
    "print(f\"Array:- {arr}\")\n",
    "print(f\"dimensions of float array:- {arr.ndim}\")"
   ]
  },
  {
   "cell_type": "code",
   "execution_count": null,
   "id": "dd635fa4",
   "metadata": {},
   "outputs": [],
   "source": []
  },
  {
   "cell_type": "markdown",
   "id": "cdfb7757",
   "metadata": {},
   "source": [
    "##### 1 - Dimension Array"
   ]
  },
  {
   "cell_type": "code",
   "execution_count": 13,
   "id": "07f99936",
   "metadata": {},
   "outputs": [
    {
     "name": "stdout",
     "output_type": "stream",
     "text": [
      "Array:- [1 2 3]\n",
      "One Dimension array:- 1\n",
      "shape of the array is:- (3,)\n"
     ]
    }
   ],
   "source": [
    "ar = np.array([1,2,3])\n",
    "print(f\"Array:- {ar}\")\n",
    "print(f\"One Dimension array:- {ar.ndim}\")\n",
    "print(f\"shape of the array is:- {ar.shape}\")"
   ]
  },
  {
   "cell_type": "code",
   "execution_count": 14,
   "id": "8e48db19",
   "metadata": {},
   "outputs": [
    {
     "ename": "TypeError",
     "evalue": "Cannot interpret '5' as a data type",
     "output_type": "error",
     "traceback": [
      "\u001b[1;31m---------------------------------------------------------------------------\u001b[0m",
      "\u001b[1;31mTypeError\u001b[0m                                 Traceback (most recent call last)",
      "Input \u001b[1;32mIn [14]\u001b[0m, in \u001b[0;36m<cell line: 1>\u001b[1;34m()\u001b[0m\n\u001b[1;32m----> 1\u001b[0m ar \u001b[38;5;241m=\u001b[39m \u001b[43mnp\u001b[49m\u001b[38;5;241;43m.\u001b[39;49m\u001b[43marray\u001b[49m\u001b[43m(\u001b[49m\u001b[43m[\u001b[49m\u001b[38;5;241;43m1\u001b[39;49m\u001b[43m,\u001b[49m\u001b[38;5;241;43m2\u001b[39;49m\u001b[43m,\u001b[49m\u001b[38;5;241;43m3\u001b[39;49m\u001b[43m]\u001b[49m\u001b[43m,\u001b[49m\u001b[38;5;241;43m5\u001b[39;49m\u001b[43m)\u001b[49m\n\u001b[0;32m      2\u001b[0m \u001b[38;5;28mprint\u001b[39m(\u001b[38;5;124mf\u001b[39m\u001b[38;5;124m\"\u001b[39m\u001b[38;5;124mArray:- \u001b[39m\u001b[38;5;132;01m{\u001b[39;00mar\u001b[38;5;132;01m}\u001b[39;00m\u001b[38;5;124m\"\u001b[39m)\n\u001b[0;32m      3\u001b[0m \u001b[38;5;28mprint\u001b[39m(\u001b[38;5;124mf\u001b[39m\u001b[38;5;124m\"\u001b[39m\u001b[38;5;124mOne Dimension array:- \u001b[39m\u001b[38;5;132;01m{\u001b[39;00mar\u001b[38;5;241m.\u001b[39mndim\u001b[38;5;132;01m}\u001b[39;00m\u001b[38;5;124m\"\u001b[39m)\n",
      "\u001b[1;31mTypeError\u001b[0m: Cannot interpret '5' as a data type"
     ]
    }
   ],
   "source": [
    "ar = np.array([1,2,3],5)\n",
    "print(f\"Array:- {ar}\")\n",
    "print(f\"One Dimension array:- {ar.ndim}\")\n"
   ]
  },
  {
   "cell_type": "code",
   "execution_count": 15,
   "id": "4bee66f8",
   "metadata": {},
   "outputs": [
    {
     "name": "stdout",
     "output_type": "stream",
     "text": [
      "Arrar :- ['a' 'b' 'c' 'd']\n",
      "dimension of an array:- 1\n",
      "shape of the array is:- (4,)\n"
     ]
    }
   ],
   "source": [
    "ar = np.array([\"a\",\"b\",\"c\",\"d\"])\n",
    "\n",
    "print(f\"Arrar :- {ar}\")\n",
    "print(f\"dimension of an array:- {ar.ndim}\")\n",
    "print(f\"shape of the array is:- {ar.shape}\")"
   ]
  },
  {
   "cell_type": "code",
   "execution_count": 16,
   "id": "66d45290",
   "metadata": {},
   "outputs": [
    {
     "name": "stdout",
     "output_type": "stream",
     "text": [
      "Arrar :- [1 2 3 4]\n",
      "dimension of an array:- 1\n"
     ]
    }
   ],
   "source": [
    "ar = np.array([\"1\",\"2\",\"3\",\"4\"],int)\n",
    "\n",
    "print(f\"Arrar :- {ar}\")\n",
    "print(f\"dimension of an array:- {ar.ndim}\")"
   ]
  },
  {
   "cell_type": "markdown",
   "id": "12b1b159",
   "metadata": {},
   "source": [
    "#### 2 - d Array (Two - Dimension array)"
   ]
  },
  {
   "cell_type": "code",
   "execution_count": 17,
   "id": "5a7533f2",
   "metadata": {},
   "outputs": [
    {
     "name": "stdout",
     "output_type": "stream",
     "text": [
      "Array:- [[  1   2   3]\n",
      " [ 10  20  30]\n",
      " [100 200 300]]\n",
      "length of array:- 3\n",
      "One Dimension array:- 2\n",
      "shape of array:- (3, 3)\n"
     ]
    }
   ],
   "source": [
    "arr = np.array([[1,2,3], \n",
    "                [10,20,30], \n",
    "                [100,200,300]])\n",
    "print(f\"Array:- {arr}\")\n",
    "print(f\"length of array:- {len(arr)}\")\n",
    "print(f\"One Dimension array:- {arr.ndim}\")\n",
    "print(f\"shape of array:- {arr.shape}\")"
   ]
  },
  {
   "cell_type": "code",
   "execution_count": 18,
   "id": "1747b680",
   "metadata": {},
   "outputs": [
    {
     "name": "stdout",
     "output_type": "stream",
     "text": [
      "Array:- [list([1, 2, 3]) list([10, 20, 30]) list([100, 200])]\n",
      "length of array:- 3\n",
      "One Dimension array:- 1\n",
      "shape of array:- (3,)\n"
     ]
    },
    {
     "name": "stderr",
     "output_type": "stream",
     "text": [
      "C:\\Users\\yashd\\AppData\\Local\\Temp\\ipykernel_2072\\1812527281.py:1: VisibleDeprecationWarning: Creating an ndarray from ragged nested sequences (which is a list-or-tuple of lists-or-tuples-or ndarrays with different lengths or shapes) is deprecated. If you meant to do this, you must specify 'dtype=object' when creating the ndarray.\n",
      "  arr = np.array([[1,2,3],\n"
     ]
    }
   ],
   "source": [
    "arr = np.array([[1,2,3], \n",
    "                [10,20,30], \n",
    "                [100,200]])\n",
    "print(f\"Array:- {arr}\")\n",
    "print(f\"length of array:- {len(arr)}\")\n",
    "print(f\"One Dimension array:- {arr.ndim}\")\n",
    "print(f\"shape of array:- {arr.shape}\")"
   ]
  },
  {
   "cell_type": "code",
   "execution_count": 21,
   "id": "5ab62b35",
   "metadata": {},
   "outputs": [
    {
     "name": "stdout",
     "output_type": "stream",
     "text": [
      "Array:- [[  1.   2.   3.]\n",
      " [ 10.  20.  30.]\n",
      " [100. 200. 300.]]\n",
      "length of array:- 3\n",
      "One Dimension array:- 2\n",
      "shape of array:- (3, 3)\n"
     ]
    }
   ],
   "source": [
    "arr = np.array([[1,2,3], \n",
    "                [10,20,30], \n",
    "                [100,200,300]],float)\n",
    "\n",
    "print(f\"Array:- {arr}\")\n",
    "print(f\"length of array:- {len(arr)}\")\n",
    "print(f\"One Dimension array:- {arr.ndim}\")\n",
    "print(f\"shape of array:- {arr.shape}\")"
   ]
  },
  {
   "cell_type": "code",
   "execution_count": 23,
   "id": "e357f8b9",
   "metadata": {},
   "outputs": [
    {
     "name": "stdout",
     "output_type": "stream",
     "text": [
      "Array:- [[1 2 3]]\n",
      "Length of an Array:- 1\n",
      "Dimensions of an array are:- :- 2\n",
      "shape of an Array:- (1, 3)\n"
     ]
    }
   ],
   "source": [
    "arr = np.array([[1,2,3]])\n",
    "print(f\"Array:- {arr}\")\n",
    "print(f\"Length of an Array:- {len(arr)}\")\n",
    "print(f\"Dimensions of an array are:- :- {arr.ndim}\")\n",
    "print(f\"shape of an Array:- {arr.shape}\")"
   ]
  },
  {
   "cell_type": "markdown",
   "id": "6fe25f62",
   "metadata": {},
   "source": [
    "#### 3 - d (3 - dimension array)"
   ]
  },
  {
   "cell_type": "code",
   "execution_count": 24,
   "id": "dbdacfd8",
   "metadata": {},
   "outputs": [
    {
     "name": "stdout",
     "output_type": "stream",
     "text": [
      "Array:- [[[ 1  2  3]\n",
      "  [40 50 60]]\n",
      "\n",
      " [[70 80 90]\n",
      "  [ 1  2  3]]]\n",
      "Length of an Array:- 2\n",
      "Dimensions of an array are:- :- 3\n",
      "shape of an Array:- (2, 2, 3)\n"
     ]
    }
   ],
   "source": [
    "arrr = np.array([[[1,2,3],\n",
    "                  [40,50,60]],\n",
    "                 \n",
    "                 [[70,80,90],\n",
    "                  [1,2,3]]])\n",
    "print(f\"Array:- {arrr}\")\n",
    "print(f\"Length of an Array:- {len(arrr)}\")\n",
    "print(f\"Dimensions of an array are:- :- {arrr.ndim}\")\n",
    "print(f\"shape of an Array:- {arrr.shape}\")"
   ]
  },
  {
   "cell_type": "code",
   "execution_count": 33,
   "id": "6bdf190c",
   "metadata": {},
   "outputs": [
    {
     "name": "stdout",
     "output_type": "stream",
     "text": [
      "Array: \n",
      "[[[1. 4. 7.]\n",
      "  [2. 5. 8.]]\n",
      "\n",
      " [[3. 6. 9.]\n",
      "  [1. 2. 3.]]\n",
      "\n",
      " [[4. 5. 6.]\n",
      "  [7. 8. 9.]]]\n",
      "length of an array:- 3\n",
      "dimensions of an array: 3\n",
      "shape of an array: (3, 2, 3)\n",
      "size of an array;- 18\n"
     ]
    }
   ],
   "source": [
    "arrr = np.array([[[1,4,7], [2,5,8]], [[3,6,9], [1,2,3]], [[4,5,6], [7,8,9]]],float)\n",
    "\n",
    "print(f\"Array: \\n{arrr}\")\n",
    "print(f\"length of an array:- {len(arrr)}\")\n",
    "print(f\"dimensions of an array: {arrr.ndim}\")\n",
    "print(f\"shape of an array: {arrr.shape}\")\n",
    "print(f\"size of an array;- {arrr.size}\")"
   ]
  },
  {
   "cell_type": "code",
   "execution_count": 34,
   "id": "02babc79",
   "metadata": {},
   "outputs": [
    {
     "name": "stdout",
     "output_type": "stream",
     "text": [
      "Array: \n",
      "[[[4.]]\n",
      "\n",
      " [[9.]]\n",
      "\n",
      " [[8.]]]\n",
      "length of an array:- 3\n",
      "dimensions of an array: 3\n",
      "shape of an array: (3, 1, 1)\n",
      "size of an array;- 3\n"
     ]
    }
   ],
   "source": [
    "arrr = np.array([[[4]], [[9]], [[8]]],float)\n",
    "\n",
    "print(f\"Array: \\n{arrr}\")\n",
    "print(f\"length of an array:- {len(arrr)}\")\n",
    "print(f\"dimensions of an array: {arrr.ndim}\")\n",
    "print(f\"shape of an array: {arrr.shape}\")\n",
    "print(f\"size of an array;- {arrr.size}\")"
   ]
  },
  {
   "cell_type": "code",
   "execution_count": null,
   "id": "046eeb7e",
   "metadata": {},
   "outputs": [],
   "source": []
  }
 ],
 "metadata": {
  "kernelspec": {
   "display_name": "Python 3 (ipykernel)",
   "language": "python",
   "name": "python3"
  },
  "language_info": {
   "codemirror_mode": {
    "name": "ipython",
    "version": 3
   },
   "file_extension": ".py",
   "mimetype": "text/x-python",
   "name": "python",
   "nbconvert_exporter": "python",
   "pygments_lexer": "ipython3",
   "version": "3.9.12"
  }
 },
 "nbformat": 4,
 "nbformat_minor": 5
}
