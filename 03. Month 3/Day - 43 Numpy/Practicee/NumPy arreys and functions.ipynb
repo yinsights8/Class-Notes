{
 "cells": [
  {
   "cell_type": "markdown",
   "id": "0b40f8b9",
   "metadata": {},
   "source": [
    "## Convert to n - d Array"
   ]
  },
  {
   "cell_type": "code",
   "execution_count": 8,
   "id": "02f7c65b",
   "metadata": {},
   "outputs": [
    {
     "name": "stdout",
     "output_type": "stream",
     "text": [
      "Array:-\n",
      "1000.0\n",
      "Dimension of an array: 0\n",
      "shape of array: ()\n"
     ]
    },
    {
     "ename": "TypeError",
     "evalue": "len() of unsized object",
     "output_type": "error",
     "traceback": [
      "\u001b[1;31m---------------------------------------------------------------------------\u001b[0m",
      "\u001b[1;31mTypeError\u001b[0m                                 Traceback (most recent call last)",
      "Input \u001b[1;32mIn [8]\u001b[0m, in \u001b[0;36m<cell line: 8>\u001b[1;34m()\u001b[0m\n\u001b[0;32m      6\u001b[0m \u001b[38;5;28mprint\u001b[39m(\u001b[38;5;124mf\u001b[39m\u001b[38;5;124m\"\u001b[39m\u001b[38;5;124mDimension of an array: \u001b[39m\u001b[38;5;132;01m{\u001b[39;00mar\u001b[38;5;241m.\u001b[39mndim\u001b[38;5;132;01m}\u001b[39;00m\u001b[38;5;124m\"\u001b[39m)\n\u001b[0;32m      7\u001b[0m \u001b[38;5;28mprint\u001b[39m(\u001b[38;5;124mf\u001b[39m\u001b[38;5;124m\"\u001b[39m\u001b[38;5;124mshape of array: \u001b[39m\u001b[38;5;132;01m{\u001b[39;00mar\u001b[38;5;241m.\u001b[39mshape\u001b[38;5;132;01m}\u001b[39;00m\u001b[38;5;124m\"\u001b[39m)\n\u001b[1;32m----> 8\u001b[0m \u001b[38;5;28mprint\u001b[39m(\u001b[38;5;124mf\u001b[39m\u001b[38;5;124m\"\u001b[39m\u001b[38;5;124mlength of array: \u001b[39m\u001b[38;5;132;01m{\u001b[39;00m\u001b[38;5;28mlen\u001b[39m(ar)\u001b[38;5;132;01m}\u001b[39;00m\u001b[38;5;124m\"\u001b[39m)\n",
      "\u001b[1;31mTypeError\u001b[0m: len() of unsized object"
     ]
    }
   ],
   "source": [
    "import numpy as np\n",
    "\n",
    "ar = np.array(1000,float)\n",
    "\n",
    "print(f\"Array:-\\n{ar}\")\n",
    "print(f\"Dimension of an array: {ar.ndim}\")\n",
    "print(f\"shape of array: {ar.shape}\")\n",
    "print(f\"length of array: {len(ar)}\")"
   ]
  },
  {
   "cell_type": "code",
   "execution_count": 23,
   "id": "efb3ebc0",
   "metadata": {},
   "outputs": [
    {
     "name": "stdout",
     "output_type": "stream",
     "text": [
      "Array:-\n",
      "[100]\n",
      "Dimension of an array: 1\n"
     ]
    }
   ],
   "source": [
    "ar = np.array(100,ndmin=1)\n",
    "\n",
    "print(f\"Array:-\\n{ar}\")\n",
    "print(f\"Dimension of an array: {ar.ndim}\")"
   ]
  },
  {
   "cell_type": "code",
   "execution_count": 24,
   "id": "aa3276ad",
   "metadata": {},
   "outputs": [
    {
     "name": "stdout",
     "output_type": "stream",
     "text": [
      "[1 2 3]\n"
     ]
    }
   ],
   "source": [
    "import numpy as np\n",
    "ar = np.array([1,2,3],ndmin=1)\n",
    "print(ar)"
   ]
  },
  {
   "cell_type": "code",
   "execution_count": 35,
   "id": "9573465f",
   "metadata": {},
   "outputs": [
    {
     "name": "stdout",
     "output_type": "stream",
     "text": [
      "[1 2 3]\n",
      "dimension of the array: 1\n"
     ]
    }
   ],
   "source": [
    "ar = np.array([1,2,3],ndmin=1)\n",
    "print(ar)\n",
    "print(f\"dimension of the array: {ar.ndim}\")"
   ]
  },
  {
   "cell_type": "code",
   "execution_count": 33,
   "id": "7b901e62",
   "metadata": {},
   "outputs": [
    {
     "name": "stdout",
     "output_type": "stream",
     "text": [
      "Array:- [[1 2 3]]\n",
      "dimension of the array: 2\n"
     ]
    }
   ],
   "source": [
    "ar = np.array([1,2,3],ndmin=2)\n",
    "print(f'Array:- {ar}')\n",
    "print(f\"dimension of the array: {ar.ndim}\")"
   ]
  },
  {
   "cell_type": "code",
   "execution_count": 38,
   "id": "9551bdaa",
   "metadata": {},
   "outputs": [
    {
     "name": "stdout",
     "output_type": "stream",
     "text": [
      "Array: [[[[[[4 5 6]]]]]]\n",
      "Diminsion of array: 6\n"
     ]
    }
   ],
   "source": [
    "ar = np.array([4,5,6],ndmin=6)\n",
    "print(f\"Array: {ar}\")\n",
    "print(f\"Diminsion of array: {ar.ndim}\")"
   ]
  },
  {
   "cell_type": "code",
   "execution_count": 42,
   "id": "bbfc49aa",
   "metadata": {},
   "outputs": [
    {
     "name": "stdout",
     "output_type": "stream",
     "text": [
      "Array: [[[[[[[[[[[[[[[[[[[[[[[[[[[[[[[[4 5 6]]]]]]]]]]]]]]]]]]]]]]]]]]]]]]]]\n",
      "Diminsion of array: 32\n"
     ]
    }
   ],
   "source": [
    "ar = np.array([4,5,6],ndmin=32)\n",
    "print(f\"Array: {ar}\")\n",
    "print(f\"Diminsion of array: {ar.ndim}\")"
   ]
  },
  {
   "cell_type": "code",
   "execution_count": 43,
   "id": "1e789e26",
   "metadata": {},
   "outputs": [
    {
     "ename": "ValueError",
     "evalue": "ndmin bigger than allowable number of dimensions NPY_MAXDIMS (=32)",
     "output_type": "error",
     "traceback": [
      "\u001b[1;31m---------------------------------------------------------------------------\u001b[0m",
      "\u001b[1;31mValueError\u001b[0m                                Traceback (most recent call last)",
      "Input \u001b[1;32mIn [43]\u001b[0m, in \u001b[0;36m<cell line: 1>\u001b[1;34m()\u001b[0m\n\u001b[1;32m----> 1\u001b[0m ar \u001b[38;5;241m=\u001b[39m \u001b[43mnp\u001b[49m\u001b[38;5;241;43m.\u001b[39;49m\u001b[43marray\u001b[49m\u001b[43m(\u001b[49m\u001b[43m[\u001b[49m\u001b[38;5;241;43m4\u001b[39;49m\u001b[43m,\u001b[49m\u001b[38;5;241;43m5\u001b[39;49m\u001b[43m,\u001b[49m\u001b[38;5;241;43m6\u001b[39;49m\u001b[43m]\u001b[49m\u001b[43m,\u001b[49m\u001b[43mndmin\u001b[49m\u001b[38;5;241;43m=\u001b[39;49m\u001b[38;5;241;43m33\u001b[39;49m\u001b[43m)\u001b[49m\n\u001b[0;32m      2\u001b[0m \u001b[38;5;28mprint\u001b[39m(\u001b[38;5;124mf\u001b[39m\u001b[38;5;124m\"\u001b[39m\u001b[38;5;124mArray: \u001b[39m\u001b[38;5;132;01m{\u001b[39;00mar\u001b[38;5;132;01m}\u001b[39;00m\u001b[38;5;124m\"\u001b[39m)\n\u001b[0;32m      3\u001b[0m \u001b[38;5;28mprint\u001b[39m(\u001b[38;5;124mf\u001b[39m\u001b[38;5;124m\"\u001b[39m\u001b[38;5;124mDiminsion of array: \u001b[39m\u001b[38;5;132;01m{\u001b[39;00mar\u001b[38;5;241m.\u001b[39mndim\u001b[38;5;132;01m}\u001b[39;00m\u001b[38;5;124m\"\u001b[39m)\n",
      "\u001b[1;31mValueError\u001b[0m: ndmin bigger than allowable number of dimensions NPY_MAXDIMS (=32)"
     ]
    }
   ],
   "source": [
    "ar = np.array([4,5,6],ndmin=33)\n",
    "print(f\"Array: {ar}\")\n",
    "print(f\"Diminsion of array: {ar.ndim}\")"
   ]
  },
  {
   "cell_type": "code",
   "execution_count": null,
   "id": "fe1dcbbb",
   "metadata": {},
   "outputs": [],
   "source": []
  }
 ],
 "metadata": {
  "kernelspec": {
   "display_name": "Python 3 (ipykernel)",
   "language": "python",
   "name": "python3"
  },
  "language_info": {
   "codemirror_mode": {
    "name": "ipython",
    "version": 3
   },
   "file_extension": ".py",
   "mimetype": "text/x-python",
   "name": "python",
   "nbconvert_exporter": "python",
   "pygments_lexer": "ipython3",
   "version": "3.9.12"
  }
 },
 "nbformat": 4,
 "nbformat_minor": 5
}
