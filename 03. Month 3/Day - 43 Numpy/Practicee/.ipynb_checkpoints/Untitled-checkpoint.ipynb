{
 "cells": [
  {
   "cell_type": "code",
   "execution_count": 18,
   "id": "28867cb9",
   "metadata": {},
   "outputs": [
    {
     "name": "stdout",
     "output_type": "stream",
     "text": [
      "Available Themes: \n",
      "   chesterish\n",
      "   grade3\n",
      "   gruvboxd\n",
      "   gruvboxl\n",
      "   monokai\n",
      "   oceans16\n",
      "   onedork\n",
      "   solarizedd\n",
      "   solarizedl\n"
     ]
    }
   ],
   "source": [
    "!jt -l"
   ]
  },
  {
   "cell_type": "code",
   "execution_count": 35,
   "id": "d303f737",
   "metadata": {},
   "outputs": [],
   "source": [
    "!jt -t onedork"
   ]
  },
  {
   "cell_type": "code",
   "execution_count": 55,
   "id": "7cd35b0a",
   "metadata": {},
   "outputs": [],
   "source": [
    "!jt -t onedork -ofs 10 -T -N -kl"
   ]
  },
  {
   "cell_type": "code",
   "execution_count": 23,
   "id": "d226952a",
   "metadata": {},
   "outputs": [
    {
     "name": "stdout",
     "output_type": "stream",
     "text": [
      "yash\n"
     ]
    }
   ],
   "source": [
    "print(\"yash\")"
   ]
  },
  {
   "cell_type": "code",
   "execution_count": 25,
   "id": "5b73dc6d",
   "metadata": {},
   "outputs": [
    {
     "name": "stderr",
     "output_type": "stream",
     "text": [
      "usage: jt [-h] [-l] [-t THEME] [-f MONOFONT] [-fs MONOSIZE] [-nf NBFONT]\n",
      "          [-nfs NBFONTSIZE] [-tf TCFONT] [-tfs TCFONTSIZE] [-dfs DFFONTSIZE]\n",
      "          [-ofs OUTFONTSIZE] [-mathfs MATHFONTSIZE] [-m MARGINS]\n",
      "          [-cursw CURSORWIDTH] [-cursc CURSORCOLOR] [-cellw CELLWIDTH]\n",
      "          [-lineh LINEHEIGHT] [-altp] [-altmd] [-altout] [-P] [-T] [-N] [-kl]\n",
      "          [-vim] [-r] [-dfonts]\n",
      "jt: error: argument -nf/--nbfont: expected one argument\n"
     ]
    }
   ],
   "source": [
    "!jt -t onedork -nf"
   ]
  },
  {
   "cell_type": "code",
   "execution_count": 33,
   "id": "c695d838",
   "metadata": {},
   "outputs": [
    {
     "name": "stderr",
     "output_type": "stream",
     "text": [
      "Traceback (most recent call last):\n",
      "  File \"C:\\Users\\yashd\\anaconda3\\lib\\runpy.py\", line 197, in _run_module_as_main\n",
      "    return _run_code(code, main_globals, None,\n",
      "  File \"C:\\Users\\yashd\\anaconda3\\lib\\runpy.py\", line 87, in _run_code\n",
      "    exec(code, run_globals)\n",
      "  File \"C:\\Users\\yashd\\anaconda3\\Scripts\\jt.exe\\__main__.py\", line 7, in <module>\n",
      "  File \"C:\\Users\\yashd\\anaconda3\\lib\\site-packages\\jupyterthemes\\__init__.py\", line 290, in main\n",
      "    install_theme(\n",
      "  File \"C:\\Users\\yashd\\anaconda3\\lib\\site-packages\\jupyterthemes\\__init__.py\", line 84, in install_theme\n",
      "    cursorcolor = stylefx.get_colors(theme=theme, c=cursorcolor)\n",
      "  File \"C:\\Users\\yashd\\anaconda3\\lib\\site-packages\\jupyterthemes\\stylefx.py\", line 505, in get_colors\n",
      "    return cdict[c]\n",
      "KeyError: 'CURSORCOLOR'\n"
     ]
    }
   ],
   "source": [
    "!jt -t onedork -cursc CURSORCOLOR"
   ]
  },
  {
   "cell_type": "code",
   "execution_count": 36,
   "id": "edebadd5",
   "metadata": {},
   "outputs": [
    {
     "data": {
      "text/html": [
       "(style type='text/css')\n",
       ".CodeMirror{\n",
       "font-size: 17px;\n",
       "(/style)\n"
      ],
      "text/plain": [
       "<IPython.core.display.HTML object>"
      ]
     },
     "metadata": {},
     "output_type": "display_data"
    }
   ],
   "source": [
    "%%html\n",
    "(style type='text/css')\n",
    ".CodeMirror{\n",
    "font-size: 17px;\n",
    "(/style)"
   ]
  },
  {
   "cell_type": "code",
   "execution_count": 42,
   "id": "3b158ab8",
   "metadata": {},
   "outputs": [],
   "source": [
    "!jt -t onedork -T -N"
   ]
  },
  {
   "cell_type": "code",
   "execution_count": 40,
   "id": "a085e4b1",
   "metadata": {},
   "outputs": [],
   "source": [
    "!jt -t onedork -N"
   ]
  },
  {
   "cell_type": "code",
   "execution_count": 53,
   "id": "f6c11e73",
   "metadata": {},
   "outputs": [],
   "source": [
    "!jt -t onedork -T -N -kl"
   ]
  },
  {
   "cell_type": "code",
   "execution_count": 51,
   "id": "69b40683",
   "metadata": {},
   "outputs": [
    {
     "name": "stderr",
     "output_type": "stream",
     "text": [
      "usage: jt [-h] [-l] [-t THEME] [-f MONOFONT] [-fs MONOSIZE] [-nf NBFONT]\n",
      "          [-nfs NBFONTSIZE] [-tf TCFONT] [-tfs TCFONTSIZE] [-dfs DFFONTSIZE]\n",
      "          [-ofs OUTFONTSIZE] [-mathfs MATHFONTSIZE] [-m MARGINS]\n",
      "          [-cursw CURSORWIDTH] [-cursc CURSORCOLOR] [-cellw CELLWIDTH]\n",
      "          [-lineh LINEHEIGHT] [-altp] [-altmd] [-altout] [-P] [-T] [-N] [-kl]\n",
      "          [-vim] [-r] [-dfonts]\n",
      "jt: error: unrecognized arguments: onedork\n"
     ]
    }
   ],
   "source": [
    "!jt onedork -f "
   ]
  },
  {
   "cell_type": "code",
   "execution_count": 27,
   "id": "1fcc605c",
   "metadata": {},
   "outputs": [],
   "source": [
    "!jt -t onedork -ofs 10 -T -N -kl -nfs 11"
   ]
  },
  {
   "cell_type": "code",
   "execution_count": 26,
   "id": "0c845ec2",
   "metadata": {},
   "outputs": [],
   "source": []
  },
  {
   "cell_type": "code",
   "execution_count": 28,
   "id": "c10f2f80",
   "metadata": {
    "scrolled": true
   },
   "outputs": [
    {
     "data": {
      "text/plain": [
       "'yash'"
      ]
     },
     "execution_count": 28,
     "metadata": {},
     "output_type": "execute_result"
    }
   ],
   "source": [
    "\"yash\""
   ]
  },
  {
   "cell_type": "code",
   "execution_count": null,
   "id": "8e582fe9",
   "metadata": {},
   "outputs": [],
   "source": []
  }
 ],
 "metadata": {
  "kernelspec": {
   "display_name": "Python 3 (ipykernel)",
   "language": "python",
   "name": "python3"
  },
  "language_info": {
   "codemirror_mode": {
    "name": "ipython",
    "version": 3
   },
   "file_extension": ".py",
   "mimetype": "text/x-python",
   "name": "python",
   "nbconvert_exporter": "python",
   "pygments_lexer": "ipython3",
   "version": "3.9.12"
  }
 },
 "nbformat": 4,
 "nbformat_minor": 5
}
