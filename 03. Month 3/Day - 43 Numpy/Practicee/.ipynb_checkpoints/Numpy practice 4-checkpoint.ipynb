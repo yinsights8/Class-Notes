{
 "cells": [
  {
   "cell_type": "markdown",
   "id": "75453a8b",
   "metadata": {},
   "source": [
    "## numpy.reshape()"
   ]
  },
  {
   "cell_type": "code",
   "execution_count": 2,
   "id": "b76ba5b9",
   "metadata": {},
   "outputs": [
    {
     "data": {
      "text/plain": [
       "array([1, 2, 3, 4, 5, 6])"
      ]
     },
     "execution_count": 2,
     "metadata": {},
     "output_type": "execute_result"
    }
   ],
   "source": [
    "import numpy as np\n",
    "\n",
    "a = np.array([1,2,3,4,5,6])\n",
    "a"
   ]
  },
  {
   "cell_type": "code",
   "execution_count": 4,
   "id": "53936e1b",
   "metadata": {},
   "outputs": [
    {
     "data": {
      "text/plain": [
       "6"
      ]
     },
     "execution_count": 4,
     "metadata": {},
     "output_type": "execute_result"
    }
   ],
   "source": [
    "a.size"
   ]
  },
  {
   "cell_type": "code",
   "execution_count": 8,
   "id": "ddc357f0",
   "metadata": {},
   "outputs": [
    {
     "data": {
      "text/plain": [
       "array([[1, 2],\n",
       "       [3, 4],\n",
       "       [5, 6]])"
      ]
     },
     "execution_count": 8,
     "metadata": {},
     "output_type": "execute_result"
    }
   ],
   "source": [
    "a.reshape(3,2)"
   ]
  },
  {
   "cell_type": "code",
   "execution_count": 9,
   "id": "96dc5171",
   "metadata": {},
   "outputs": [
    {
     "data": {
      "text/plain": [
       "array([[1],\n",
       "       [2],\n",
       "       [3],\n",
       "       [4],\n",
       "       [5],\n",
       "       [6]])"
      ]
     },
     "execution_count": 9,
     "metadata": {},
     "output_type": "execute_result"
    }
   ],
   "source": [
    "a.reshape(6,1)"
   ]
  },
  {
   "cell_type": "code",
   "execution_count": 10,
   "id": "1f006451",
   "metadata": {},
   "outputs": [
    {
     "data": {
      "text/plain": [
       "array([[1, 2, 3, 4, 5, 6]])"
      ]
     },
     "execution_count": 10,
     "metadata": {},
     "output_type": "execute_result"
    }
   ],
   "source": [
    "a.reshape(1,6)"
   ]
  },
  {
   "cell_type": "code",
   "execution_count": 13,
   "id": "ad5947d0",
   "metadata": {},
   "outputs": [
    {
     "data": {
      "text/plain": [
       "array([[1, 2, 3],\n",
       "       [4, 5, 6]])"
      ]
     },
     "execution_count": 13,
     "metadata": {},
     "output_type": "execute_result"
    }
   ],
   "source": [
    "a.reshape(2,3)"
   ]
  },
  {
   "cell_type": "code",
   "execution_count": 15,
   "id": "0773891a",
   "metadata": {},
   "outputs": [
    {
     "name": "stdout",
     "output_type": "stream",
     "text": [
      "2\n",
      "12\n"
     ]
    }
   ],
   "source": [
    "a3 = np.array([[1,2,3,4,5,6], [1,2,3,4,5,6]])\n",
    "print(len(a3))\n",
    "print(a3.size)"
   ]
  },
  {
   "cell_type": "code",
   "execution_count": 26,
   "id": "264615ec",
   "metadata": {},
   "outputs": [
    {
     "data": {
      "text/plain": [
       "array([[[1, 2],\n",
       "        [3, 4],\n",
       "        [5, 6]],\n",
       "\n",
       "       [[1, 2],\n",
       "        [3, 4],\n",
       "        [5, 6]]])"
      ]
     },
     "execution_count": 26,
     "metadata": {},
     "output_type": "execute_result"
    }
   ],
   "source": [
    "a3.reshape(2,3,2)\n"
   ]
  },
  {
   "cell_type": "code",
   "execution_count": 18,
   "id": "36b207db",
   "metadata": {},
   "outputs": [
    {
     "data": {
      "text/plain": [
       "array([[1, 2, 3, 4, 5, 6],\n",
       "       [1, 2, 3, 4, 5, 6]])"
      ]
     },
     "execution_count": 18,
     "metadata": {},
     "output_type": "execute_result"
    }
   ],
   "source": [
    "a3.reshape(2,6)"
   ]
  },
  {
   "cell_type": "code",
   "execution_count": 20,
   "id": "68b40cfe",
   "metadata": {},
   "outputs": [
    {
     "data": {
      "text/plain": [
       "array([[1, 2, 3, 4],\n",
       "       [5, 6, 1, 2],\n",
       "       [3, 4, 5, 6]])"
      ]
     },
     "execution_count": 20,
     "metadata": {},
     "output_type": "execute_result"
    }
   ],
   "source": [
    "a3.reshape(3,4)"
   ]
  },
  {
   "cell_type": "code",
   "execution_count": null,
   "id": "6c658420",
   "metadata": {},
   "outputs": [],
   "source": []
  },
  {
   "cell_type": "code",
   "execution_count": 36,
   "id": "290d8a84",
   "metadata": {},
   "outputs": [
    {
     "name": "stdout",
     "output_type": "stream",
     "text": [
      "2\n",
      "16\n"
     ]
    }
   ],
   "source": [
    "a4 = np.array([[[1,2,3,4], [10,20,30,40]],[[11,22,33,44],[77,88,99,80]]])\n",
    "print(len(a4))\n",
    "print(a4.size)\n",
    "## 16 \n",
    "# 16,1 = 2,1,8\n",
    "# 4,4 = 2,2,8\n",
    "# 8,2 = 2,4,2"
   ]
  },
  {
   "cell_type": "code",
   "execution_count": 37,
   "id": "17225922",
   "metadata": {},
   "outputs": [
    {
     "name": "stdout",
     "output_type": "stream",
     "text": [
      "1 2 4 8 16 "
     ]
    }
   ],
   "source": [
    "n =  16\n",
    "for i in range(1,n+1):\n",
    "    if n%i == 0:\n",
    "        print(i,end=\" \")"
   ]
  },
  {
   "cell_type": "code",
   "execution_count": 33,
   "id": "408a7439",
   "metadata": {},
   "outputs": [
    {
     "data": {
      "text/plain": [
       "array([[[ 1,  2,  3,  4, 10, 20, 30, 40]],\n",
       "\n",
       "       [[11, 22, 33, 44, 77, 88, 99, 80]]])"
      ]
     },
     "execution_count": 33,
     "metadata": {},
     "output_type": "execute_result"
    }
   ],
   "source": [
    "a4.reshape(2,1,8)"
   ]
  },
  {
   "cell_type": "code",
   "execution_count": 45,
   "id": "4476344c",
   "metadata": {},
   "outputs": [
    {
     "data": {
      "text/plain": [
       "array([[[ 1,  2,  3,  4, 10, 20, 30, 40],\n",
       "        [11, 22, 33, 44, 77, 88, 99, 80]]])"
      ]
     },
     "execution_count": 45,
     "metadata": {},
     "output_type": "execute_result"
    }
   ],
   "source": [
    "a4.reshape(1,2,8)"
   ]
  },
  {
   "cell_type": "code",
   "execution_count": 46,
   "id": "77afea65",
   "metadata": {},
   "outputs": [
    {
     "data": {
      "text/plain": [
       "array([[[ 1,  2],\n",
       "        [ 3,  4],\n",
       "        [10, 20],\n",
       "        [30, 40]],\n",
       "\n",
       "       [[11, 22],\n",
       "        [33, 44],\n",
       "        [77, 88],\n",
       "        [99, 80]]])"
      ]
     },
     "execution_count": 46,
     "metadata": {},
     "output_type": "execute_result"
    }
   ],
   "source": [
    "a4.reshape(2,4,2)"
   ]
  },
  {
   "cell_type": "code",
   "execution_count": 48,
   "id": "c9733ef1",
   "metadata": {},
   "outputs": [
    {
     "data": {
      "text/plain": [
       "array([[[ 1,  2,  3,  4],\n",
       "        [10, 20, 30, 40]],\n",
       "\n",
       "       [[11, 22, 33, 44],\n",
       "        [77, 88, 99, 80]]])"
      ]
     },
     "execution_count": 48,
     "metadata": {},
     "output_type": "execute_result"
    }
   ],
   "source": [
    "a4.reshape(2,2,4)"
   ]
  },
  {
   "cell_type": "code",
   "execution_count": 49,
   "id": "f8d38b77",
   "metadata": {},
   "outputs": [
    {
     "data": {
      "text/plain": [
       "array([[[ 1,  2],\n",
       "        [ 3,  4]],\n",
       "\n",
       "       [[10, 20],\n",
       "        [30, 40]],\n",
       "\n",
       "       [[11, 22],\n",
       "        [33, 44]],\n",
       "\n",
       "       [[77, 88],\n",
       "        [99, 80]]])"
      ]
     },
     "execution_count": 49,
     "metadata": {},
     "output_type": "execute_result"
    }
   ],
   "source": [
    "a4.reshape(4,2,2)"
   ]
  },
  {
   "cell_type": "code",
   "execution_count": 50,
   "id": "5a7ca70f",
   "metadata": {},
   "outputs": [
    {
     "name": "stdout",
     "output_type": "stream",
     "text": [
      "1\n",
      "2\n",
      "3\n",
      "4\n",
      "5\n",
      "6\n"
     ]
    }
   ],
   "source": [
    "arr = np.array([1,2,3,4,5,6])\n",
    "\n",
    "for i in arr:\n",
    "    print(i)"
   ]
  },
  {
   "cell_type": "code",
   "execution_count": 55,
   "id": "470edbeb",
   "metadata": {},
   "outputs": [
    {
     "name": "stdout",
     "output_type": "stream",
     "text": [
      "1\n",
      "2\n",
      "3\n",
      "4\n",
      "10\n",
      "20\n",
      "30\n",
      "40\n",
      "11\n",
      "22\n",
      "33\n",
      "44\n",
      "77\n",
      "88\n",
      "99\n",
      "80\n"
     ]
    }
   ],
   "source": [
    "a4 = np.array([[[1,2,3,4], [10,20,30,40]],[[11,22,33,44],[77,88,99,80]]])\n",
    "for i in a4:\n",
    "    for j in i:\n",
    "        for k in j:\n",
    "            print(k)"
   ]
  },
  {
   "cell_type": "code",
   "execution_count": null,
   "id": "267319b1",
   "metadata": {},
   "outputs": [],
   "source": []
  }
 ],
 "metadata": {
  "kernelspec": {
   "display_name": "Python 3 (ipykernel)",
   "language": "python",
   "name": "python3"
  },
  "language_info": {
   "codemirror_mode": {
    "name": "ipython",
    "version": 3
   },
   "file_extension": ".py",
   "mimetype": "text/x-python",
   "name": "python",
   "nbconvert_exporter": "python",
   "pygments_lexer": "ipython3",
   "version": "3.9.12"
  }
 },
 "nbformat": 4,
 "nbformat_minor": 5
}
