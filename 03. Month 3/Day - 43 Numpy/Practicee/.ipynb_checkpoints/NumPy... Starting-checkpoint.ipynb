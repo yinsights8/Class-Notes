{
 "cells": [
  {
   "cell_type": "code",
   "execution_count": 1,
   "id": "59bab295",
   "metadata": {},
   "outputs": [],
   "source": [
    "import numpy as np"
   ]
  },
  {
   "cell_type": "code",
   "execution_count": null,
   "id": "36f8c694",
   "metadata": {},
   "outputs": [],
   "source": []
  },
  {
   "cell_type": "code",
   "execution_count": 2,
   "id": "87db7a99",
   "metadata": {},
   "outputs": [
    {
     "name": "stdout",
     "output_type": "stream",
     "text": [
      "Array: \n",
      " [[1 2 3]\n",
      " [4 5 6]]\n",
      "length of array: - 2\n",
      "dimensions of array: 2\n",
      "shape of a array: (2, 3)\n",
      "size of an array: 6\n"
     ]
    }
   ],
   "source": [
    "arr = np.array([[1,2,3], [4,5,6]])\n",
    "print(f\"Array: \\n {arr}\")\n",
    "print(f\"length of array: - {len(arr)}\")\n",
    "print(f\"dimensions of array: {np.ndim(arr)}\")\n",
    "print(f\"shape of a array: {arr.shape}\")\n",
    "print(f\"size of an array: {arr.size}\")"
   ]
  },
  {
   "cell_type": "code",
   "execution_count": 3,
   "id": "8aac6457",
   "metadata": {},
   "outputs": [
    {
     "name": "stdout",
     "output_type": "stream",
     "text": [
      "Array: \n",
      " [[[ 1.   2.   3.   2.5]\n",
      "  [ 4.   5.   6.   8.5]]\n",
      "\n",
      " [[ 7.   8.   9.   9.5]\n",
      "  [10.  11.  12.   4. ]]]\n",
      "\n",
      "shape of a array: (2, 2, 4)\n"
     ]
    }
   ],
   "source": [
    "arr3 = np.array([[[1,2,3,2.5], [4,5,6,8.5]], [[7,8,9,9.5], [10,11,12,4]]])\n",
    "print(f\"Array: \\n {arr3}\")\n",
    "# print(f\"length of array: - {len(arr3)}\")\n",
    "# print(f\"dimensions of array: {np.ndim(arr3)}\")\n",
    "print(f\"\\nshape of a array: {arr3.shape}\")\n",
    "# print(f\"size of an array: {arr3.size}\")"
   ]
  },
  {
   "cell_type": "code",
   "execution_count": 4,
   "id": "c8f77bfb",
   "metadata": {},
   "outputs": [],
   "source": [
    "arr = np.array([[1,2,3], [4,5,6]])"
   ]
  },
  {
   "cell_type": "code",
   "execution_count": 5,
   "id": "b2a2a73c",
   "metadata": {},
   "outputs": [
    {
     "data": {
      "text/plain": [
       "100"
      ]
     },
     "execution_count": 5,
     "metadata": {},
     "output_type": "execute_result"
    }
   ],
   "source": [
    "100"
   ]
  },
  {
   "cell_type": "code",
   "execution_count": 6,
   "id": "1e9f26f2",
   "metadata": {},
   "outputs": [
    {
     "data": {
      "text/plain": [
       "[100]"
      ]
     },
     "execution_count": 6,
     "metadata": {},
     "output_type": "execute_result"
    }
   ],
   "source": [
    "[100]   # 1-d"
   ]
  },
  {
   "cell_type": "code",
   "execution_count": 7,
   "id": "963a75f1",
   "metadata": {},
   "outputs": [
    {
     "data": {
      "text/plain": [
       "[[1, 2, 3], [4, 5, 6]]"
      ]
     },
     "execution_count": 7,
     "metadata": {},
     "output_type": "execute_result"
    }
   ],
   "source": [
    "[[1,2,3],[4,5,6]]  # 2-d     2x3"
   ]
  },
  {
   "cell_type": "code",
   "execution_count": 8,
   "id": "83fadf6a",
   "metadata": {},
   "outputs": [
    {
     "data": {
      "text/plain": [
       "[[[1, 2, 3], [4, 5, 6]], [[1, 2, 3], [4, 5, 6]]]"
      ]
     },
     "execution_count": 8,
     "metadata": {},
     "output_type": "execute_result"
    }
   ],
   "source": [
    "[[[1,2,3],[4,5,6]], [[1,2,3],[4,5,6]]] # 3-d     (2 x 2 x 3)"
   ]
  },
  {
   "cell_type": "code",
   "execution_count": 9,
   "id": "b99e8f38",
   "metadata": {},
   "outputs": [
    {
     "name": "stdout",
     "output_type": "stream",
     "text": [
      "1\n",
      "2\n",
      "3\n"
     ]
    }
   ],
   "source": [
    "arr = np.array([[1,2,3], [4,5,6]])\n",
    "print(arr[0][0])\n",
    "print(arr[0][1])\n",
    "print(arr[0][2])"
   ]
  },
  {
   "cell_type": "code",
   "execution_count": 10,
   "id": "849a7e5f",
   "metadata": {},
   "outputs": [
    {
     "name": "stdout",
     "output_type": "stream",
     "text": [
      "1\n",
      "2\n",
      "3\n"
     ]
    }
   ],
   "source": [
    "print(arr[0,0])\n",
    "print(arr[0,1])\n",
    "print(arr[0,2])"
   ]
  },
  {
   "cell_type": "code",
   "execution_count": 11,
   "id": "9979b690",
   "metadata": {},
   "outputs": [
    {
     "data": {
      "text/plain": [
       "array([4, 5, 6])"
      ]
     },
     "execution_count": 11,
     "metadata": {},
     "output_type": "execute_result"
    }
   ],
   "source": [
    "arr[1]"
   ]
  },
  {
   "cell_type": "code",
   "execution_count": 12,
   "id": "8c9eee5c",
   "metadata": {},
   "outputs": [
    {
     "name": "stdout",
     "output_type": "stream",
     "text": [
      "1\n",
      "12\n",
      "7\n",
      "10\n",
      "4\n"
     ]
    }
   ],
   "source": [
    "arr3 = np.array([[[1,2,3,12.5], [4,5,6,8.5]], [[7,8,9,9.5], [10,11,12,4]]],int)\n",
    "print(arr3[0][0][0])\n",
    "print(arr3[0][0][-1])\n",
    "print(arr3[1][0][0])\n",
    "print(arr3[1][1][0])\n",
    "print(arr3[1][1][-1])"
   ]
  },
  {
   "cell_type": "code",
   "execution_count": 13,
   "id": "889e068f",
   "metadata": {},
   "outputs": [
    {
     "name": "stdout",
     "output_type": "stream",
     "text": [
      "1\n",
      "12\n",
      "7\n",
      "10\n",
      "4\n"
     ]
    }
   ],
   "source": [
    "print(arr3[0,0,0])\n",
    "print(arr3[0,0,-1])\n",
    "print(arr3[1,0,0])\n",
    "print(arr3[1,1,0])\n",
    "print(arr3[1,1,-1])"
   ]
  },
  {
   "cell_type": "markdown",
   "id": "4ff073bb",
   "metadata": {},
   "source": [
    "### single to double"
   ]
  },
  {
   "cell_type": "code",
   "execution_count": 14,
   "id": "2c53ca03",
   "metadata": {},
   "outputs": [
    {
     "name": "stdout",
     "output_type": "stream",
     "text": [
      "Array: 100\n",
      "Dimension of arry: 0\n"
     ]
    }
   ],
   "source": [
    "ar = np.array(100)\n",
    "print(f\"Array: {ar}\")\n",
    "print(f\"Dimension of arry: {ar.ndim}\")"
   ]
  },
  {
   "cell_type": "code",
   "execution_count": 15,
   "id": "2b27b6b6",
   "metadata": {},
   "outputs": [
    {
     "name": "stdout",
     "output_type": "stream",
     "text": [
      "Array: [100]\n",
      "Dimension of arry: 1\n"
     ]
    }
   ],
   "source": [
    "ar = np.array(100,ndmin=1)\n",
    "print(f\"Array: {ar}\")\n",
    "print(f\"Dimension of arry: {ar.ndim}\")"
   ]
  },
  {
   "cell_type": "code",
   "execution_count": 16,
   "id": "92777eb0",
   "metadata": {},
   "outputs": [
    {
     "name": "stdout",
     "output_type": "stream",
     "text": [
      "Array: [[100]]\n",
      "Dimension of arry: 2\n"
     ]
    }
   ],
   "source": [
    "ar = np.array(100,ndmin=2)\n",
    "print(f\"Array: {ar}\")\n",
    "print(f\"Dimension of arry: {ar.ndim}\")"
   ]
  },
  {
   "cell_type": "code",
   "execution_count": 17,
   "id": "871709ad",
   "metadata": {},
   "outputs": [
    {
     "name": "stdout",
     "output_type": "stream",
     "text": [
      "Array: [[[100]]]\n",
      "Dimension of arry: 3\n"
     ]
    }
   ],
   "source": [
    "ar = np.array(100,ndmin=3)\n",
    "print(f\"Array: {ar}\")\n",
    "print(f\"Dimension of arry: {ar.ndim}\")"
   ]
  },
  {
   "cell_type": "code",
   "execution_count": 18,
   "id": "e34eb9d4",
   "metadata": {},
   "outputs": [
    {
     "name": "stdout",
     "output_type": "stream",
     "text": [
      "Array: [[[[[[[[[[[[[[[[[[[[[[[[[[[[[[[[100]]]]]]]]]]]]]]]]]]]]]]]]]]]]]]]]\n",
      "Dimension of arry: 32\n"
     ]
    }
   ],
   "source": [
    "ar = np.array(100,ndmin=32)\n",
    "print(f\"Array: {ar}\")\n",
    "print(f\"Dimension of arry: {ar.ndim}\")"
   ]
  },
  {
   "cell_type": "code",
   "execution_count": 19,
   "id": "3a82851d",
   "metadata": {},
   "outputs": [
    {
     "name": "stdout",
     "output_type": "stream",
     "text": [
      "Array: \n",
      " [[[ 1  2  3 12]\n",
      "  [ 4  5  6  8]]\n",
      "\n",
      " [[ 7  8  9  9]\n",
      "  [10 11 12  4]]]\n",
      "length of array: 2\n",
      "dimensions of array: 3\n",
      "shape of a array: (2, 2, 4)\n",
      "size of an array: 16\n"
     ]
    }
   ],
   "source": [
    "re_ar = np.array([[[1,2,3,12.5], [4,5,6,8.5]], [[7,8,9,9.5], [10,11,12,4]]],int)\n",
    "print(f\"Array: \\n {re_ar}\")\n",
    "print(f\"length of array: {len(re_ar)}\")\n",
    "print(f\"dimensions of array: {np.ndim(re_ar)}\")\n",
    "print(f\"shape of a array: {re_ar.shape}\")\n",
    "print(f\"size of an array: {re_ar.size}\")"
   ]
  },
  {
   "cell_type": "code",
   "execution_count": 20,
   "id": "8e38cd4c",
   "metadata": {},
   "outputs": [],
   "source": [
    "# 4,4  - (2,2,2)\n",
    "# 8,2  - (4,2,2), (2,4,2), (2,2,2,2)\n",
    "# "
   ]
  },
  {
   "cell_type": "code",
   "execution_count": 21,
   "id": "42937ea9",
   "metadata": {},
   "outputs": [
    {
     "data": {
      "text/plain": [
       "array([[ 1,  2,  3, 12],\n",
       "       [ 4,  5,  6,  8],\n",
       "       [ 7,  8,  9,  9],\n",
       "       [10, 11, 12,  4]])"
      ]
     },
     "execution_count": 21,
     "metadata": {},
     "output_type": "execute_result"
    }
   ],
   "source": [
    "r_shaped = np.reshape(re_ar,[4,4])\n",
    "r_shaped"
   ]
  },
  {
   "cell_type": "code",
   "execution_count": 22,
   "id": "dd190695",
   "metadata": {},
   "outputs": [
    {
     "data": {
      "text/plain": [
       "array([[ 1,  2],\n",
       "       [ 3, 12],\n",
       "       [ 4,  5],\n",
       "       [ 6,  8],\n",
       "       [ 7,  8],\n",
       "       [ 9,  9],\n",
       "       [10, 11],\n",
       "       [12,  4]])"
      ]
     },
     "execution_count": 22,
     "metadata": {},
     "output_type": "execute_result"
    }
   ],
   "source": [
    "r_shaped = np.reshape(re_ar,[8,2])\n",
    "r_shaped"
   ]
  },
  {
   "cell_type": "code",
   "execution_count": 23,
   "id": "afa9d255",
   "metadata": {},
   "outputs": [
    {
     "data": {
      "text/plain": [
       "array([[[ 1,  2],\n",
       "        [ 3, 12]],\n",
       "\n",
       "       [[ 4,  5],\n",
       "        [ 6,  8]],\n",
       "\n",
       "       [[ 7,  8],\n",
       "        [ 9,  9]],\n",
       "\n",
       "       [[10, 11],\n",
       "        [12,  4]]])"
      ]
     },
     "execution_count": 23,
     "metadata": {},
     "output_type": "execute_result"
    }
   ],
   "source": [
    "r_shaped = np.reshape(re_ar,[4,2,2])\n",
    "r_shaped"
   ]
  },
  {
   "cell_type": "code",
   "execution_count": 24,
   "id": "db2b5b66",
   "metadata": {},
   "outputs": [
    {
     "data": {
      "text/plain": [
       "array([[[[ 1,  2],\n",
       "         [ 3, 12]],\n",
       "\n",
       "        [[ 4,  5],\n",
       "         [ 6,  8]]],\n",
       "\n",
       "\n",
       "       [[[ 7,  8],\n",
       "         [ 9,  9]],\n",
       "\n",
       "        [[10, 11],\n",
       "         [12,  4]]]])"
      ]
     },
     "execution_count": 24,
     "metadata": {},
     "output_type": "execute_result"
    }
   ],
   "source": [
    "r_shaped = np.reshape(re_ar,[2,2,2,2])\n",
    "r_shaped"
   ]
  },
  {
   "cell_type": "code",
   "execution_count": 25,
   "id": "2d860315",
   "metadata": {},
   "outputs": [
    {
     "name": "stdout",
     "output_type": "stream",
     "text": [
      "1\n",
      "2\n",
      "3\n",
      "12\n",
      "4\n",
      "5\n",
      "6\n",
      "8\n",
      "7\n",
      "8\n",
      "9\n",
      "9\n",
      "10\n",
      "11\n",
      "12\n",
      "4\n"
     ]
    }
   ],
   "source": [
    "for i in re_ar:\n",
    "    for j in i:\n",
    "        for k in j:\n",
    "            print(k)"
   ]
  },
  {
   "cell_type": "code",
   "execution_count": 26,
   "id": "7a3b24fb",
   "metadata": {},
   "outputs": [
    {
     "name": "stdout",
     "output_type": "stream",
     "text": [
      "1\n",
      "2\n",
      "3\n",
      "12\n",
      "4\n",
      "5\n",
      "6\n",
      "8\n",
      "7\n",
      "8\n",
      "9\n",
      "9\n",
      "10\n",
      "11\n",
      "12\n",
      "4\n"
     ]
    }
   ],
   "source": [
    "for i in np.nditer(re_ar):\n",
    "    print(i)"
   ]
  },
  {
   "cell_type": "code",
   "execution_count": 27,
   "id": "c27294e9",
   "metadata": {},
   "outputs": [
    {
     "name": "stdout",
     "output_type": "stream",
     "text": [
      "1\n",
      "2\n",
      "3\n",
      "12\n",
      "4\n"
     ]
    }
   ],
   "source": [
    "x = np.nditer(re_ar)\n",
    "print(next(x))\n",
    "print(next(x))\n",
    "print(next(x))\n",
    "print(next(x))\n",
    "print(next(x))"
   ]
  },
  {
   "cell_type": "code",
   "execution_count": 28,
   "id": "c79c72d2",
   "metadata": {},
   "outputs": [
    {
     "name": "stdout",
     "output_type": "stream",
     "text": [
      "0 [[ 1  2  3 12]\n",
      " [ 4  5  6  8]]\n",
      "1 [[ 7  8  9  9]\n",
      " [10 11 12  4]]\n"
     ]
    }
   ],
   "source": [
    "re_ar = np.array([[[1,2,3,12.5], [4,5,6,8.5]], [[7,8,9,9.5], [10,11,12,4]]],int)\n",
    "\n",
    "for i,j in enumerate(re_ar):\n",
    "    print(i,j)"
   ]
  },
  {
   "cell_type": "code",
   "execution_count": 29,
   "id": "b542dfb1",
   "metadata": {},
   "outputs": [
    {
     "name": "stdout",
     "output_type": "stream",
     "text": [
      "(0, 0, 0) 1\n",
      "(0, 0, 1) 2\n",
      "(0, 0, 2) 3\n",
      "(0, 0, 3) 12\n",
      "(0, 1, 0) 4\n",
      "(0, 1, 1) 5\n",
      "(0, 1, 2) 6\n",
      "(0, 1, 3) 8\n",
      "(1, 0, 0) 7\n",
      "(1, 0, 1) 8\n",
      "(1, 0, 2) 9\n",
      "(1, 0, 3) 9\n",
      "(1, 1, 0) 10\n",
      "(1, 1, 1) 11\n",
      "(1, 1, 2) 12\n",
      "(1, 1, 3) 4\n"
     ]
    }
   ],
   "source": [
    "for i, j in np.ndenumerate(re_ar):\n",
    "    print(i,j)"
   ]
  },
  {
   "cell_type": "markdown",
   "id": "83cc7983",
   "metadata": {},
   "source": [
    "## zeros"
   ]
  },
  {
   "cell_type": "code",
   "execution_count": 30,
   "id": "bdd61c4a",
   "metadata": {},
   "outputs": [
    {
     "data": {
      "text/plain": [
       "array([[0, 0, 0],\n",
       "       [0, 0, 0],\n",
       "       [0, 0, 0]])"
      ]
     },
     "execution_count": 30,
     "metadata": {},
     "output_type": "execute_result"
    }
   ],
   "source": [
    "x = np.zeros([3,3],int)\n",
    "x"
   ]
  },
  {
   "cell_type": "markdown",
   "id": "f6f2855c",
   "metadata": {},
   "source": [
    "# ones"
   ]
  },
  {
   "cell_type": "code",
   "execution_count": 31,
   "id": "8642b58c",
   "metadata": {
    "scrolled": true
   },
   "outputs": [
    {
     "data": {
      "text/plain": [
       "array([[1, 1, 1],\n",
       "       [1, 1, 1],\n",
       "       [1, 1, 1]])"
      ]
     },
     "execution_count": 31,
     "metadata": {},
     "output_type": "execute_result"
    }
   ],
   "source": [
    "y = np.ones([3,3],int)\n",
    "y"
   ]
  },
  {
   "cell_type": "code",
   "execution_count": 32,
   "id": "2a862004",
   "metadata": {},
   "outputs": [
    {
     "data": {
      "text/plain": [
       "array([[1, 1, 1, 1, 1],\n",
       "       [1, 0, 0, 0, 1],\n",
       "       [1, 0, 0, 0, 1],\n",
       "       [1, 0, 0, 0, 1],\n",
       "       [1, 1, 1, 1, 1]])"
      ]
     },
     "execution_count": 32,
     "metadata": {},
     "output_type": "execute_result"
    }
   ],
   "source": [
    "h = np.pad(x,pad_width=1, mode=\"constant\", constant_values = 1)\n",
    "h"
   ]
  },
  {
   "cell_type": "code",
   "execution_count": 33,
   "id": "dab9ae50",
   "metadata": {},
   "outputs": [
    {
     "data": {
      "text/html": [
       "<div>\n",
       "<style scoped>\n",
       "    .dataframe tbody tr th:only-of-type {\n",
       "        vertical-align: middle;\n",
       "    }\n",
       "\n",
       "    .dataframe tbody tr th {\n",
       "        vertical-align: top;\n",
       "    }\n",
       "\n",
       "    .dataframe thead th {\n",
       "        text-align: right;\n",
       "    }\n",
       "</style>\n",
       "<table border=\"1\" class=\"dataframe\">\n",
       "  <thead>\n",
       "    <tr style=\"text-align: right;\">\n",
       "      <th></th>\n",
       "      <th>0</th>\n",
       "      <th>1</th>\n",
       "      <th>2</th>\n",
       "      <th>3</th>\n",
       "      <th>4</th>\n",
       "    </tr>\n",
       "  </thead>\n",
       "  <tbody>\n",
       "    <tr>\n",
       "      <th>0</th>\n",
       "      <td>1</td>\n",
       "      <td>1</td>\n",
       "      <td>1</td>\n",
       "      <td>1</td>\n",
       "      <td>1</td>\n",
       "    </tr>\n",
       "    <tr>\n",
       "      <th>1</th>\n",
       "      <td>1</td>\n",
       "      <td>0</td>\n",
       "      <td>0</td>\n",
       "      <td>0</td>\n",
       "      <td>1</td>\n",
       "    </tr>\n",
       "    <tr>\n",
       "      <th>2</th>\n",
       "      <td>1</td>\n",
       "      <td>0</td>\n",
       "      <td>0</td>\n",
       "      <td>0</td>\n",
       "      <td>1</td>\n",
       "    </tr>\n",
       "    <tr>\n",
       "      <th>3</th>\n",
       "      <td>1</td>\n",
       "      <td>0</td>\n",
       "      <td>0</td>\n",
       "      <td>0</td>\n",
       "      <td>1</td>\n",
       "    </tr>\n",
       "    <tr>\n",
       "      <th>4</th>\n",
       "      <td>1</td>\n",
       "      <td>1</td>\n",
       "      <td>1</td>\n",
       "      <td>1</td>\n",
       "      <td>1</td>\n",
       "    </tr>\n",
       "  </tbody>\n",
       "</table>\n",
       "</div>"
      ],
      "text/plain": [
       "   0  1  2  3  4\n",
       "0  1  1  1  1  1\n",
       "1  1  0  0  0  1\n",
       "2  1  0  0  0  1\n",
       "3  1  0  0  0  1\n",
       "4  1  1  1  1  1"
      ]
     },
     "execution_count": 33,
     "metadata": {},
     "output_type": "execute_result"
    }
   ],
   "source": [
    "import pandas as pd\n",
    "\n",
    "df = pd.DataFrame(h)\n",
    "df"
   ]
  },
  {
   "cell_type": "code",
   "execution_count": null,
   "id": "9e8f3277",
   "metadata": {},
   "outputs": [],
   "source": []
  },
  {
   "cell_type": "code",
   "execution_count": null,
   "id": "008dad81",
   "metadata": {},
   "outputs": [],
   "source": []
  }
 ],
 "metadata": {
  "kernelspec": {
   "display_name": "Python 3 (ipykernel)",
   "language": "python",
   "name": "python3"
  },
  "language_info": {
   "codemirror_mode": {
    "name": "ipython",
    "version": 3
   },
   "file_extension": ".py",
   "mimetype": "text/x-python",
   "name": "python",
   "nbconvert_exporter": "python",
   "pygments_lexer": "ipython3",
   "version": "3.9.12"
  }
 },
 "nbformat": 4,
 "nbformat_minor": 5
}
