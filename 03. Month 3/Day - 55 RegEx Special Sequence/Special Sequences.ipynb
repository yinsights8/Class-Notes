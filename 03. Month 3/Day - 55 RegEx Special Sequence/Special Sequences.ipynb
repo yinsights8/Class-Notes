{
 "cells": [
  {
   "cell_type": "markdown",
   "id": "76a044d6",
   "metadata": {},
   "source": [
    "# Special Sequences\n",
    "- 1. \\d\n",
    "- 2. \\D\n",
    "- 3. \\w\n",
    "- 4. \\W\n",
    "- 5. \\s\n",
    "- 6. \\S\n",
    "- 7. \\b"
   ]
  },
  {
   "cell_type": "code",
   "execution_count": 1,
   "id": "ea230d38",
   "metadata": {},
   "outputs": [],
   "source": [
    "import re"
   ]
  },
  {
   "cell_type": "markdown",
   "id": "57c7aa6c",
   "metadata": {},
   "source": [
    "## 7. \\b\n",
    "- It will help us to check for char at the start or end of the word"
   ]
  },
  {
   "cell_type": "code",
   "execution_count": 3,
   "id": "d9ddd6af",
   "metadata": {},
   "outputs": [
    {
     "name": "stdout",
     "output_type": "stream",
     "text": [
      "['HFGTR7656T']\n"
     ]
    }
   ],
   "source": [
    "text = \"\"\"\n",
    "HFGTR7656T\n",
    "ojgut7667T\n",
    "\"\"\"\n",
    "res = re.findall(r\"\\b[A-Z]{5}\\d{4}[A-Z]\",text)\n",
    "print(res)"
   ]
  },
  {
   "cell_type": "code",
   "execution_count": 5,
   "id": "a0248dfe",
   "metadata": {},
   "outputs": [
    {
     "name": "stdout",
     "output_type": "stream",
     "text": [
      "['HFGTR7656T', 'Ojgut7667T']\n"
     ]
    }
   ],
   "source": [
    "text = \"\"\"\n",
    "HFGTR7656T\n",
    "Ojgut7667T\n",
    "\"\"\"\n",
    "res = re.findall(r\"\\b[A-Z]\\w\\w\\w\\w\\d{4}[A-Z]\",text)\n",
    "print(res)"
   ]
  },
  {
   "cell_type": "code",
   "execution_count": 6,
   "id": "8c264b18",
   "metadata": {},
   "outputs": [
    {
     "name": "stdout",
     "output_type": "stream",
     "text": [
      "['HFGTR7656T']\n"
     ]
    }
   ],
   "source": [
    "text = \"\"\"\n",
    "HFGTR7656T\n",
    "Ojgut7667T\n",
    "\"\"\"\n",
    "res = re.findall(r\"\\b[A-Z]{5}\\d{4}[A-Z]\\b\",text)\n",
    "print(res)"
   ]
  },
  {
   "cell_type": "code",
   "execution_count": 8,
   "id": "85d748c0",
   "metadata": {},
   "outputs": [
    {
     "name": "stdout",
     "output_type": "stream",
     "text": [
      "['8768 6886 5995']\n"
     ]
    }
   ],
   "source": [
    "text = \"\"\"\n",
    "HFGTR7656T\n",
    "Ojgut7667T\n",
    "8768 6886 5995\n",
    "7685\n",
    "\"\"\"\n",
    "res = re.findall(r\"\\b\\d{4}\\s\\d{4}\\s\\d{4}\\b\",text)\n",
    "print(res)"
   ]
  },
  {
   "cell_type": "code",
   "execution_count": 10,
   "id": "5db98c85",
   "metadata": {},
   "outputs": [
    {
     "name": "stdout",
     "output_type": "stream",
     "text": [
      "['7685567483']\n"
     ]
    }
   ],
   "source": [
    "text = \"\"\"\n",
    "HFGTR7656T\n",
    "Ojgut7667T\n",
    "8768 6886 5995\n",
    "7685567483\n",
    "\"\"\"\n",
    "res = re.findall(r\"\\b\\d{10}\\b\",text)\n",
    "print(res)"
   ]
  },
  {
   "cell_type": "code",
   "execution_count": 11,
   "id": "4bac358d",
   "metadata": {},
   "outputs": [
    {
     "name": "stdout",
     "output_type": "stream",
     "text": [
      "['resume.pdf']\n"
     ]
    }
   ],
   "source": [
    "text = \"\"\"\n",
    "HFGTR7656T\n",
    "Ojgut7667T\n",
    "8768 6886 5995\n",
    "7685567483\n",
    "resume.pdf\n",
    "\"\"\"\n",
    "res = re.findall(r\"\\b\\w{4,10}.pdf\\b\",text)\n",
    "print(res)"
   ]
  },
  {
   "cell_type": "code",
   "execution_count": 12,
   "id": "3bb4e522",
   "metadata": {},
   "outputs": [
    {
     "name": "stdout",
     "output_type": "stream",
     "text": [
      "['resume.pdf']\n"
     ]
    }
   ],
   "source": [
    "text = \"\"\"\n",
    "HFGTR7656T\n",
    "Ojgut7667T\n",
    "8768 6886 5995\n",
    "7685567483\n",
    "resume.pdf\n",
    "Dataset.csv\n",
    "\"\"\"\n",
    "res = re.findall(r\"\\b\\w{4,10}.pdf\\b\",text)\n",
    "print(res)"
   ]
  },
  {
   "cell_type": "markdown",
   "id": "004899af",
   "metadata": {},
   "source": [
    "# Special Char with Special Meaning\n"
   ]
  },
  {
   "cell_type": "markdown",
   "id": "e7a009fe",
   "metadata": {},
   "source": [
    "# 1. +(Plus)"
   ]
  },
  {
   "cell_type": "raw",
   "id": "0d3722bc",
   "metadata": {},
   "source": [
    "+ = One or More Occurences"
   ]
  },
  {
   "cell_type": "code",
   "execution_count": 15,
   "id": "8caf7ab3",
   "metadata": {},
   "outputs": [
    {
     "name": "stdout",
     "output_type": "stream",
     "text": [
      "['resume.pdf', 'resume1.pdf', 'Resume12.pdf']\n"
     ]
    }
   ],
   "source": [
    "text = \"\"\"\n",
    "HFGTR7656T\n",
    "Ojgut7667T\n",
    "8768 6886 5995\n",
    "7685567483\n",
    "resume.pdf\n",
    "resume1.pdf\n",
    "Resume12.pdf\n",
    "Dataset.csv\n",
    "\"\"\"\n",
    "res = re.findall(r\"\\b\\w+.pdf\\b\",text)\n",
    "print(res)"
   ]
  },
  {
   "cell_type": "code",
   "execution_count": 16,
   "id": "2ec41661",
   "metadata": {},
   "outputs": [
    {
     "name": "stdout",
     "output_type": "stream",
     "text": [
      "['Data', 'Science']\n"
     ]
    }
   ],
   "source": [
    "text = \"\"\"Data Science\"\"\"\n",
    "res = re.findall(r\"\\w+\",text)\n",
    "print(res)"
   ]
  },
  {
   "cell_type": "code",
   "execution_count": 18,
   "id": "8a2109a1",
   "metadata": {},
   "outputs": [
    {
     "name": "stdout",
     "output_type": "stream",
     "text": [
      "['Data', 'Science', 'Data1', 'Science1', 'D']\n"
     ]
    }
   ],
   "source": [
    "text = \"\"\"Data Science Data1 Science1 D\"\"\"\n",
    "res = re.findall(r\"\\w+\",text)\n",
    "print(res)"
   ]
  },
  {
   "cell_type": "code",
   "execution_count": 19,
   "id": "b952ce24",
   "metadata": {},
   "outputs": [
    {
     "name": "stdout",
     "output_type": "stream",
     "text": [
      "[' ', ' ', ' ', ' ']\n"
     ]
    }
   ],
   "source": [
    "text = \"\"\"Data Science Data1 Science1 D\"\"\"\n",
    "res = re.findall(r\"\\s+\",text)\n",
    "print(res)"
   ]
  },
  {
   "cell_type": "code",
   "execution_count": 20,
   "id": "e478e470",
   "metadata": {},
   "outputs": [
    {
     "name": "stdout",
     "output_type": "stream",
     "text": [
      "[' ', ' ', ' ', '    ']\n"
     ]
    }
   ],
   "source": [
    "text = \"\"\"Data Science Data1 Science1    D\"\"\"\n",
    "res = re.findall(r\"\\s+\",text)\n",
    "print(res)"
   ]
  },
  {
   "cell_type": "code",
   "execution_count": 22,
   "id": "1a51e782",
   "metadata": {},
   "outputs": [
    {
     "name": "stdout",
     "output_type": "stream",
     "text": [
      "[' ', ' ', ' '] 3\n"
     ]
    }
   ],
   "source": [
    "text = \"\"\"Data Science Data1 Science1D\"\"\"\n",
    "res = re.findall(r\"\\s+\",text)\n",
    "print(res,len(res))"
   ]
  },
  {
   "cell_type": "code",
   "execution_count": 23,
   "id": "9ab647fd",
   "metadata": {},
   "outputs": [
    {
     "name": "stdout",
     "output_type": "stream",
     "text": [
      "[' '] 1\n"
     ]
    }
   ],
   "source": [
    "text = \"\"\" \"\"\"\n",
    "res = re.findall(r\"\\s+\",text)\n",
    "print(res,len(res))"
   ]
  },
  {
   "cell_type": "code",
   "execution_count": 24,
   "id": "c460a41f",
   "metadata": {},
   "outputs": [
    {
     "name": "stdout",
     "output_type": "stream",
     "text": [
      "['                                                               '] 1\n"
     ]
    }
   ],
   "source": [
    "text = \"\"\"                                                               \"\"\"\n",
    "res = re.findall(r\"\\s+\",text)\n",
    "print(res,len(res))"
   ]
  },
  {
   "cell_type": "code",
   "execution_count": 25,
   "id": "2504272c",
   "metadata": {},
   "outputs": [
    {
     "name": "stdout",
     "output_type": "stream",
     "text": [
      "[] 0\n"
     ]
    }
   ],
   "source": [
    "text = \"\"\"\"\"\"\n",
    "res = re.findall(r\"\\s+\",text)\n",
    "print(res,len(res))"
   ]
  },
  {
   "cell_type": "code",
   "execution_count": 26,
   "id": "e6707608",
   "metadata": {},
   "outputs": [
    {
     "data": {
      "text/plain": [
       "['Data Science']"
      ]
     },
     "execution_count": 26,
     "metadata": {},
     "output_type": "execute_result"
    }
   ],
   "source": [
    "text = \"\"\"Data Science\"\"\"\n",
    "res = re.findall(r\"Data Science\",text)\n",
    "res"
   ]
  },
  {
   "cell_type": "code",
   "execution_count": 27,
   "id": "f001c9f9",
   "metadata": {},
   "outputs": [
    {
     "data": {
      "text/plain": [
       "['Data Science']"
      ]
     },
     "execution_count": 27,
     "metadata": {},
     "output_type": "execute_result"
    }
   ],
   "source": [
    "text = \"\"\"Data Science\"\"\"\n",
    "res = re.findall(r\"Data Sci+ence\",text)\n",
    "res"
   ]
  },
  {
   "cell_type": "code",
   "execution_count": 28,
   "id": "93dd5e95",
   "metadata": {},
   "outputs": [
    {
     "data": {
      "text/plain": [
       "['Data Sciiiiiiiiiiiiiiiiiiiiiiiiiiiiiiiiiiiiiiience']"
      ]
     },
     "execution_count": 28,
     "metadata": {},
     "output_type": "execute_result"
    }
   ],
   "source": [
    "text = \"\"\"Data Sciiiiiiiiiiiiiiiiiiiiiiiiiiiiiiiiiiiiiiience\"\"\"\n",
    "res = re.findall(r\"Data Sci+ence\",text)\n",
    "res"
   ]
  },
  {
   "cell_type": "code",
   "execution_count": 30,
   "id": "b0f94722",
   "metadata": {},
   "outputs": [
    {
     "data": {
      "text/plain": [
       "['Data Science']"
      ]
     },
     "execution_count": 30,
     "metadata": {},
     "output_type": "execute_result"
    }
   ],
   "source": [
    "text = \"\"\"Data Scence Data Science\"\"\"\n",
    "res = re.findall(r\"Data Sci+ence\",text)\n",
    "res"
   ]
  },
  {
   "cell_type": "code",
   "execution_count": 31,
   "id": "ea69213a",
   "metadata": {},
   "outputs": [
    {
     "data": {
      "text/plain": [
       "['Data Science']"
      ]
     },
     "execution_count": 31,
     "metadata": {},
     "output_type": "execute_result"
    }
   ],
   "source": [
    "text = \"\"\"Data Science\"\"\"\n",
    "res = re.findall(r\"Da+ta Sci+ence\",text)\n",
    "res"
   ]
  },
  {
   "cell_type": "code",
   "execution_count": 32,
   "id": "9f41abcb",
   "metadata": {},
   "outputs": [
    {
     "data": {
      "text/plain": [
       "['Daaaaaaaaata Sciiiiiiiiiiiiience']"
      ]
     },
     "execution_count": 32,
     "metadata": {},
     "output_type": "execute_result"
    }
   ],
   "source": [
    "text = \"\"\"Daaaaaaaaata Sciiiiiiiiiiiiience\"\"\"\n",
    "res = re.findall(r\"Da+ta Sci+ence\",text)\n",
    "res"
   ]
  },
  {
   "cell_type": "code",
   "execution_count": 33,
   "id": "06f44858",
   "metadata": {},
   "outputs": [
    {
     "data": {
      "text/plain": [
       "[]"
      ]
     },
     "execution_count": 33,
     "metadata": {},
     "output_type": "execute_result"
    }
   ],
   "source": [
    "text = \"\"\"Dta Sciiiiiiiiiiiiience\"\"\"\n",
    "res = re.findall(r\"Da+ta Sci+ence\",text)\n",
    "res"
   ]
  },
  {
   "cell_type": "markdown",
   "id": "0902c10e",
   "metadata": {},
   "source": [
    "# 2. *(Star)"
   ]
  },
  {
   "cell_type": "raw",
   "id": "f8fc5648",
   "metadata": {},
   "source": [
    "* = Zero or More Occurences"
   ]
  },
  {
   "cell_type": "code",
   "execution_count": 34,
   "id": "4842dce0",
   "metadata": {},
   "outputs": [
    {
     "data": {
      "text/plain": [
       "['Data Science']"
      ]
     },
     "execution_count": 34,
     "metadata": {},
     "output_type": "execute_result"
    }
   ],
   "source": [
    "text = \"\"\"Data Science\"\"\"\n",
    "res = re.findall(r\"Da*ta Science\",text)\n",
    "res"
   ]
  },
  {
   "cell_type": "code",
   "execution_count": 35,
   "id": "d0772e1c",
   "metadata": {},
   "outputs": [
    {
     "data": {
      "text/plain": [
       "['Dta Science']"
      ]
     },
     "execution_count": 35,
     "metadata": {},
     "output_type": "execute_result"
    }
   ],
   "source": [
    "text = \"\"\"Dta Science\"\"\"\n",
    "res = re.findall(r\"Da*ta Science\",text)\n",
    "res"
   ]
  },
  {
   "cell_type": "code",
   "execution_count": 38,
   "id": "957618ef",
   "metadata": {},
   "outputs": [
    {
     "data": {
      "text/plain": [
       "['Dta Science', 'Daaaaaata Science', 'Dta Science']"
      ]
     },
     "execution_count": 38,
     "metadata": {},
     "output_type": "execute_result"
    }
   ],
   "source": [
    "text = \"\"\"Dta Science Daaaaaata Science   Dtaaaaa Science Dta Science\"\"\"\n",
    "res = re.findall(r\"Da*ta Science\",text)\n",
    "res"
   ]
  },
  {
   "cell_type": "code",
   "execution_count": 39,
   "id": "48ce3ab1",
   "metadata": {},
   "outputs": [
    {
     "data": {
      "text/plain": [
       "['Dta Science', 'Daaaaaata Science', 'Dtaaaaa Science', 'Dta Science']"
      ]
     },
     "execution_count": 39,
     "metadata": {},
     "output_type": "execute_result"
    }
   ],
   "source": [
    "text = \"\"\"Dta Science Daaaaaata Science   Dtaaaaa Science Dta Science\"\"\"\n",
    "res = re.findall(r\"Da*ta+ Science\",text)\n",
    "res"
   ]
  },
  {
   "cell_type": "code",
   "execution_count": 40,
   "id": "7ccb0632",
   "metadata": {},
   "outputs": [
    {
     "data": {
      "text/plain": [
       "['Python', 'Pythn']"
      ]
     },
     "execution_count": 40,
     "metadata": {},
     "output_type": "execute_result"
    }
   ],
   "source": [
    "text = \"\"\"Python Pythn Pyhn Pyhon\"\"\"\n",
    "res = re.findall(r\"Pyt+ho*n\",text)\n",
    "res"
   ]
  },
  {
   "cell_type": "code",
   "execution_count": 41,
   "id": "612a94be",
   "metadata": {},
   "outputs": [
    {
     "data": {
      "text/plain": [
       "['Python', 'Pythn', 'Pyhn', 'Pyhon']"
      ]
     },
     "execution_count": 41,
     "metadata": {},
     "output_type": "execute_result"
    }
   ],
   "source": [
    "text = \"\"\"Python Pythn Pyhn Pyhon\"\"\"\n",
    "res = re.findall(r\"Pyt*ho*n\",text)\n",
    "res"
   ]
  },
  {
   "cell_type": "code",
   "execution_count": 42,
   "id": "80563334",
   "metadata": {},
   "outputs": [
    {
     "data": {
      "text/plain": [
       "['Pn', 'Pyn', 'Ptn', 'Pon', 'Phn']"
      ]
     },
     "execution_count": 42,
     "metadata": {},
     "output_type": "execute_result"
    }
   ],
   "source": [
    "text = \"\"\"Pn Pyn Ptn Pon Phn\"\"\"\n",
    "res = re.findall(r\"Py*t*h*o*n\",text)\n",
    "res"
   ]
  },
  {
   "cell_type": "code",
   "execution_count": 43,
   "id": "178ef2a3",
   "metadata": {},
   "outputs": [
    {
     "data": {
      "text/plain": [
       "['P', '']"
      ]
     },
     "execution_count": 43,
     "metadata": {},
     "output_type": "execute_result"
    }
   ],
   "source": [
    "text = \"\"\"P\"\"\"\n",
    "res = re.findall(r\"P*\",text)\n",
    "res"
   ]
  },
  {
   "cell_type": "code",
   "execution_count": 44,
   "id": "84b855cc",
   "metadata": {},
   "outputs": [
    {
     "data": {
      "text/plain": [
       "['P']"
      ]
     },
     "execution_count": 44,
     "metadata": {},
     "output_type": "execute_result"
    }
   ],
   "source": [
    "text = \"\"\"P\"\"\"\n",
    "res = re.findall(r\"P+\",text)\n",
    "res"
   ]
  },
  {
   "cell_type": "code",
   "execution_count": 45,
   "id": "3f268f00",
   "metadata": {},
   "outputs": [
    {
     "data": {
      "text/plain": [
       "['']"
      ]
     },
     "execution_count": 45,
     "metadata": {},
     "output_type": "execute_result"
    }
   ],
   "source": [
    "text = \"\"\"\"\"\"\n",
    "res = re.findall(r\"P*\",text)\n",
    "res"
   ]
  },
  {
   "cell_type": "code",
   "execution_count": 46,
   "id": "c7da1bf7",
   "metadata": {},
   "outputs": [
    {
     "data": {
      "text/plain": [
       "[]"
      ]
     },
     "execution_count": 46,
     "metadata": {},
     "output_type": "execute_result"
    }
   ],
   "source": [
    "text = \"\"\"\"\"\"\n",
    "res = re.findall(r\"P+\",text)\n",
    "res"
   ]
  },
  {
   "cell_type": "code",
   "execution_count": 49,
   "id": "69d28788",
   "metadata": {},
   "outputs": [
    {
     "data": {
      "text/plain": [
       "'C:\\\\Users\\\\hp\\\\AppData\\\\Local'"
      ]
     },
     "execution_count": 49,
     "metadata": {},
     "output_type": "execute_result"
    }
   ],
   "source": [
    "Path = r\"C:\\Users\\hp\\AppData\\Local\"\n",
    "Path"
   ]
  },
  {
   "cell_type": "code",
   "execution_count": 56,
   "id": "c7459c5f",
   "metadata": {},
   "outputs": [
    {
     "data": {
      "text/plain": [
       "['C:\\\\Users\\\\hp\\\\AppData\\\\Local']"
      ]
     },
     "execution_count": 56,
     "metadata": {},
     "output_type": "execute_result"
    }
   ],
   "source": [
    "re.findall(r\"\\w:\\\\\\w+\\\\\\w+\\\\\\w+\\\\\\w+\",Path)"
   ]
  },
  {
   "cell_type": "code",
   "execution_count": 58,
   "id": "b446747b",
   "metadata": {},
   "outputs": [
    {
     "data": {
      "text/plain": [
       "'C:\\\\Users\\\\hp\\\\AppData\\\\Local\\\\$'"
      ]
     },
     "execution_count": 58,
     "metadata": {},
     "output_type": "execute_result"
    }
   ],
   "source": [
    "Path = r\"C:\\Users\\hp\\AppData\\Local\\$\"\n",
    "Path"
   ]
  },
  {
   "cell_type": "code",
   "execution_count": 60,
   "id": "ab5fa9a7",
   "metadata": {},
   "outputs": [
    {
     "data": {
      "text/plain": [
       "['C:\\\\Users\\\\hp\\\\AppData\\\\Local\\\\$']"
      ]
     },
     "execution_count": 60,
     "metadata": {},
     "output_type": "execute_result"
    }
   ],
   "source": [
    "re.findall(r\"\\w:\\\\\\w+\\\\\\w+\\\\\\w+\\\\\\w+\\\\\\W*\",Path)"
   ]
  },
  {
   "cell_type": "code",
   "execution_count": 61,
   "id": "abdc32c1",
   "metadata": {},
   "outputs": [
    {
     "data": {
      "text/plain": [
       "'C:\\\\Users\\\\hp\\\\AppData\\\\Local'"
      ]
     },
     "execution_count": 61,
     "metadata": {},
     "output_type": "execute_result"
    }
   ],
   "source": [
    "Path = r\"C:\\Users\\hp\\AppData\\Local\"\n",
    "Path"
   ]
  },
  {
   "cell_type": "code",
   "execution_count": 63,
   "id": "19ccaa26",
   "metadata": {},
   "outputs": [
    {
     "data": {
      "text/plain": [
       "['C:\\\\Users\\\\hp\\\\AppData\\\\Local']"
      ]
     },
     "execution_count": 63,
     "metadata": {},
     "output_type": "execute_result"
    }
   ],
   "source": [
    "re.findall(r\"\\w:\\\\\\w+\\\\\\w+\\\\\\w+\\\\\\w+\\\\*\\W*\",Path)"
   ]
  },
  {
   "cell_type": "markdown",
   "id": "f4f0d8b3",
   "metadata": {},
   "source": [
    "# 3. dot(.)"
   ]
  },
  {
   "cell_type": "raw",
   "id": "eaf23942",
   "metadata": {},
   "source": [
    ". = Any Charachter (Except New Line)"
   ]
  },
  {
   "cell_type": "code",
   "execution_count": 64,
   "id": "64e79439",
   "metadata": {},
   "outputs": [
    {
     "data": {
      "text/plain": [
       "['Python']"
      ]
     },
     "execution_count": 64,
     "metadata": {},
     "output_type": "execute_result"
    }
   ],
   "source": [
    "text = \"\"\"Python\"\"\"\n",
    "res = re.findall(r\"Pyt.on\",text)\n",
    "res"
   ]
  },
  {
   "cell_type": "code",
   "execution_count": 65,
   "id": "5dabe255",
   "metadata": {},
   "outputs": [
    {
     "data": {
      "text/plain": [
       "['Pyt!on']"
      ]
     },
     "execution_count": 65,
     "metadata": {},
     "output_type": "execute_result"
    }
   ],
   "source": [
    "text = \"\"\"Pyt!on\"\"\"\n",
    "res = re.findall(r\"Pyt.on\",text)\n",
    "res"
   ]
  },
  {
   "cell_type": "code",
   "execution_count": 66,
   "id": "fc7dccf6",
   "metadata": {},
   "outputs": [
    {
     "data": {
      "text/plain": [
       "['Pyt!on', 'Pyt5on', 'Pyt?on']"
      ]
     },
     "execution_count": 66,
     "metadata": {},
     "output_type": "execute_result"
    }
   ],
   "source": [
    "text = \"\"\"Pyt!on Pyt5on Pyt?on\"\"\"\n",
    "res = re.findall(r\"Pyt.on\",text)\n",
    "res"
   ]
  },
  {
   "cell_type": "code",
   "execution_count": 67,
   "id": "47530e69",
   "metadata": {},
   "outputs": [
    {
     "data": {
      "text/plain": [
       "['Pyt!on', 'Pyt5on']"
      ]
     },
     "execution_count": 67,
     "metadata": {},
     "output_type": "execute_result"
    }
   ],
   "source": [
    "text = \"\"\"Pyt!on Pyt5on Pyt?%on\"\"\"\n",
    "res = re.findall(r\"Pyt.on\",text)\n",
    "res"
   ]
  },
  {
   "cell_type": "code",
   "execution_count": 69,
   "id": "71e57077",
   "metadata": {},
   "outputs": [
    {
     "data": {
      "text/plain": [
       "['Pyt5on']"
      ]
     },
     "execution_count": 69,
     "metadata": {},
     "output_type": "execute_result"
    }
   ],
   "source": [
    "text = \"\"\"Pyt\\non Pyt5on Pyt?%on\"\"\"\n",
    "res = re.findall(r\"Pyt.on\",text)\n",
    "res"
   ]
  },
  {
   "cell_type": "code",
   "execution_count": 70,
   "id": "f1b5292a",
   "metadata": {},
   "outputs": [
    {
     "data": {
      "text/plain": [
       "['Pyt?%on']"
      ]
     },
     "execution_count": 70,
     "metadata": {},
     "output_type": "execute_result"
    }
   ],
   "source": [
    "text = \"\"\"Pyt\\non Pyt5on Pyt?%on\"\"\"\n",
    "res = re.findall(r\"Pyt..on\",text)\n",
    "res"
   ]
  },
  {
   "cell_type": "code",
   "execution_count": 71,
   "id": "a332ee72",
   "metadata": {},
   "outputs": [
    {
     "data": {
      "text/plain": [
       "[]"
      ]
     },
     "execution_count": 71,
     "metadata": {},
     "output_type": "execute_result"
    }
   ],
   "source": [
    "text = \"\"\"Pyt\\non Pyt5on Pyt?%on\"\"\"\n",
    "res = re.findall(r\"Pyt...on\",text)\n",
    "res"
   ]
  },
  {
   "cell_type": "code",
   "execution_count": 72,
   "id": "7bf6baeb",
   "metadata": {},
   "outputs": [
    {
     "data": {
      "text/plain": [
       "['Pyt?%1on']"
      ]
     },
     "execution_count": 72,
     "metadata": {},
     "output_type": "execute_result"
    }
   ],
   "source": [
    "text = \"\"\"Pyt\\non Pyt5on Pyt?%1on\"\"\"\n",
    "res = re.findall(r\"Pyt...on\",text)\n",
    "res"
   ]
  },
  {
   "cell_type": "code",
   "execution_count": 73,
   "id": "5d668dd5",
   "metadata": {},
   "outputs": [
    {
     "data": {
      "text/plain": [
       "[]"
      ]
     },
     "execution_count": 73,
     "metadata": {},
     "output_type": "execute_result"
    }
   ],
   "source": [
    "text = \"\"\"Pyt\\non Pyt5on Pyt?\\n1on\"\"\"\n",
    "res = re.findall(r\"Pyt...on\",text)\n",
    "res"
   ]
  },
  {
   "cell_type": "code",
   "execution_count": 75,
   "id": "e774d227",
   "metadata": {},
   "outputs": [
    {
     "data": {
      "text/plain": [
       "['8667 5774 3774']"
      ]
     },
     "execution_count": 75,
     "metadata": {},
     "output_type": "execute_result"
    }
   ],
   "source": [
    "text = \"\"\"8667 5774 3774\"\"\"\n",
    "res = re.findall(r\"\\d+\\s\\d+\\s....\",text)\n",
    "res"
   ]
  },
  {
   "cell_type": "code",
   "execution_count": 80,
   "id": "914e3792",
   "metadata": {},
   "outputs": [
    {
     "data": {
      "text/plain": [
       "['5774 3774 8667']"
      ]
     },
     "execution_count": 80,
     "metadata": {},
     "output_type": "execute_result"
    }
   ],
   "source": [
    "text = \"\"\"8660007 5774 3774 8667 5774 3774\"\"\"\n",
    "res = re.findall(r\"\\b\\d{4}\\s\\d{4}\\s....\\b\",text)\n",
    "res"
   ]
  },
  {
   "cell_type": "code",
   "execution_count": 85,
   "id": "9b4f44dc",
   "metadata": {},
   "outputs": [
    {
     "data": {
      "text/plain": [
       "['5774 3774 8667']"
      ]
     },
     "execution_count": 85,
     "metadata": {},
     "output_type": "execute_result"
    }
   ],
   "source": [
    "text = \"\"\"8660007 5774 3774 8667 5774 3774\"\"\"\n",
    "res = re.findall(r\"\\b\\d{4}\\s\\d{4}\\s\\d{4}\\b\",text)\n",
    "res"
   ]
  },
  {
   "cell_type": "code",
   "execution_count": 86,
   "id": "8b71b849",
   "metadata": {},
   "outputs": [
    {
     "data": {
      "text/plain": [
       "['8667 5774 3774']"
      ]
     },
     "execution_count": 86,
     "metadata": {},
     "output_type": "execute_result"
    }
   ],
   "source": [
    "text = \"\"\"8667 5774 3774\"\"\"\n",
    "res = re.findall(r\".+\",text)\n",
    "res"
   ]
  },
  {
   "cell_type": "code",
   "execution_count": 87,
   "id": "a51cb351",
   "metadata": {},
   "outputs": [
    {
     "data": {
      "text/plain": [
       "['Adhar :- 8667 5774 3774']"
      ]
     },
     "execution_count": 87,
     "metadata": {},
     "output_type": "execute_result"
    }
   ],
   "source": [
    "text = \"\"\"Adhar :- 8667 5774 3774\"\"\"\n",
    "res = re.findall(r\"\\w+[ ]:- .+\",text)\n",
    "res"
   ]
  },
  {
   "cell_type": "code",
   "execution_count": 88,
   "id": "a5bf98ee",
   "metadata": {},
   "outputs": [
    {
     "data": {
      "text/plain": [
       "['Adhar :- 8667 5774 3774']"
      ]
     },
     "execution_count": 88,
     "metadata": {},
     "output_type": "execute_result"
    }
   ],
   "source": [
    "text = \"\"\"Adhar :- 8667 5774 3774\"\"\"\n",
    "res = re.findall(r\"\\w+[ ]:- .*\",text)\n",
    "res"
   ]
  },
  {
   "cell_type": "code",
   "execution_count": 90,
   "id": "3259f479",
   "metadata": {},
   "outputs": [
    {
     "data": {
      "text/plain": [
       "[]"
      ]
     },
     "execution_count": 90,
     "metadata": {},
     "output_type": "execute_result"
    }
   ],
   "source": [
    "text = \"\"\"Adhar :- \"\"\"\n",
    "res = re.findall(r\"\\w+[ ]:- .+\",text)\n",
    "res"
   ]
  },
  {
   "cell_type": "code",
   "execution_count": 91,
   "id": "6b35d61e",
   "metadata": {},
   "outputs": [
    {
     "data": {
      "text/plain": [
       "['Adhar :- ']"
      ]
     },
     "execution_count": 91,
     "metadata": {},
     "output_type": "execute_result"
    }
   ],
   "source": [
    "text = \"\"\"Adhar :- \"\"\"\n",
    "res = re.findall(r\"\\w+[ ]:- .*\",text)\n",
    "res"
   ]
  },
  {
   "cell_type": "markdown",
   "id": "10a34fe3",
   "metadata": {},
   "source": [
    "# 4. ?"
   ]
  },
  {
   "cell_type": "raw",
   "id": "e0c20c83",
   "metadata": {},
   "source": [
    "? = It matches exactly Zero or One Char"
   ]
  },
  {
   "cell_type": "code",
   "execution_count": 94,
   "id": "90f00ff6",
   "metadata": {},
   "outputs": [
    {
     "data": {
      "text/plain": [
       "['Hi']"
      ]
     },
     "execution_count": 94,
     "metadata": {},
     "output_type": "execute_result"
    }
   ],
   "source": [
    "text = \"\"\"Hi\"\"\"\n",
    "res = re.findall(r\"Hi?\",text)\n",
    "res"
   ]
  },
  {
   "cell_type": "code",
   "execution_count": 95,
   "id": "5922c73e",
   "metadata": {},
   "outputs": [
    {
     "data": {
      "text/plain": [
       "['H']"
      ]
     },
     "execution_count": 95,
     "metadata": {},
     "output_type": "execute_result"
    }
   ],
   "source": [
    "text = \"\"\"H\"\"\"\n",
    "res = re.findall(r\"Hi?\",text)\n",
    "res"
   ]
  },
  {
   "cell_type": "code",
   "execution_count": 98,
   "id": "570fc983",
   "metadata": {},
   "outputs": [
    {
     "data": {
      "text/plain": [
       "['Hi']"
      ]
     },
     "execution_count": 98,
     "metadata": {},
     "output_type": "execute_result"
    }
   ],
   "source": [
    "text = \"\"\"Hiii\"\"\"\n",
    "res = re.findall(r\"Hi?\",text)\n",
    "res"
   ]
  },
  {
   "cell_type": "code",
   "execution_count": 99,
   "id": "ea6f2a84",
   "metadata": {},
   "outputs": [
    {
     "data": {
      "text/plain": [
       "['Python']"
      ]
     },
     "execution_count": 99,
     "metadata": {},
     "output_type": "execute_result"
    }
   ],
   "source": [
    "text = \"\"\"Python\"\"\"\n",
    "res = re.findall(r\"P?\\w+\",text)\n",
    "res"
   ]
  },
  {
   "cell_type": "code",
   "execution_count": 100,
   "id": "b1311429",
   "metadata": {},
   "outputs": [
    {
     "data": {
      "text/plain": [
       "['ython']"
      ]
     },
     "execution_count": 100,
     "metadata": {},
     "output_type": "execute_result"
    }
   ],
   "source": [
    "text = \"\"\"ython\"\"\"\n",
    "res = re.findall(r\"P?\\w+\",text)\n",
    "res"
   ]
  },
  {
   "cell_type": "code",
   "execution_count": 101,
   "id": "714b1666",
   "metadata": {},
   "outputs": [
    {
     "data": {
      "text/plain": [
       "['PPPPPPPython']"
      ]
     },
     "execution_count": 101,
     "metadata": {},
     "output_type": "execute_result"
    }
   ],
   "source": [
    "text = \"\"\"PPPPPPPython\"\"\"\n",
    "res = re.findall(r\"P?\\w+\",text)\n",
    "res"
   ]
  },
  {
   "cell_type": "code",
   "execution_count": 102,
   "id": "e966b634",
   "metadata": {},
   "outputs": [
    {
     "data": {
      "text/plain": [
       "['Python']"
      ]
     },
     "execution_count": 102,
     "metadata": {},
     "output_type": "execute_result"
    }
   ],
   "source": [
    "text = \"\"\"PPPPPPPython\"\"\"\n",
    "res = re.findall(r\"P?ython\",text)\n",
    "res"
   ]
  },
  {
   "cell_type": "code",
   "execution_count": 103,
   "id": "8a1fbf74",
   "metadata": {},
   "outputs": [
    {
     "data": {
      "text/plain": [
       "['ython']"
      ]
     },
     "execution_count": 103,
     "metadata": {},
     "output_type": "execute_result"
    }
   ],
   "source": [
    "text = \"\"\"PPPPPPPpython\"\"\"\n",
    "res = re.findall(r\"P?ython\",text)\n",
    "res"
   ]
  },
  {
   "cell_type": "code",
   "execution_count": 104,
   "id": "6bf28b62",
   "metadata": {},
   "outputs": [
    {
     "data": {
      "text/plain": [
       "['Result1']"
      ]
     },
     "execution_count": 104,
     "metadata": {},
     "output_type": "execute_result"
    }
   ],
   "source": [
    "text = \"\"\"Result1\"\"\"\n",
    "res = re.findall(r\"\\w+\\d?\",text)\n",
    "res"
   ]
  },
  {
   "cell_type": "code",
   "execution_count": 105,
   "id": "776ca666",
   "metadata": {},
   "outputs": [
    {
     "data": {
      "text/plain": [
       "['Result']"
      ]
     },
     "execution_count": 105,
     "metadata": {},
     "output_type": "execute_result"
    }
   ],
   "source": [
    "text = \"\"\"Result\"\"\"\n",
    "res = re.findall(r\"\\w+\\d?\",text)\n",
    "res"
   ]
  },
  {
   "cell_type": "code",
   "execution_count": 106,
   "id": "e2ea4932",
   "metadata": {},
   "outputs": [
    {
     "data": {
      "text/plain": [
       "['Result']"
      ]
     },
     "execution_count": 106,
     "metadata": {},
     "output_type": "execute_result"
    }
   ],
   "source": [
    "text = \"\"\"Result&\"\"\"\n",
    "res = re.findall(r\"\\w+\\d?\",text)\n",
    "res"
   ]
  },
  {
   "cell_type": "markdown",
   "id": "96117484",
   "metadata": {},
   "source": [
    "# 5. ^(Startswith)"
   ]
  },
  {
   "cell_type": "code",
   "execution_count": 111,
   "id": "ec3f3bc3",
   "metadata": {},
   "outputs": [
    {
     "data": {
      "text/plain": [
       "['R']"
      ]
     },
     "execution_count": 111,
     "metadata": {},
     "output_type": "execute_result"
    }
   ],
   "source": [
    "text = \"\"\"Result&\"\"\"\n",
    "res = re.findall(r\"^R\",text)\n",
    "res"
   ]
  },
  {
   "cell_type": "code",
   "execution_count": 112,
   "id": "3a405dc0",
   "metadata": {},
   "outputs": [
    {
     "data": {
      "text/plain": [
       "['Result&']"
      ]
     },
     "execution_count": 112,
     "metadata": {},
     "output_type": "execute_result"
    }
   ],
   "source": [
    "text = \"\"\"Result&\"\"\"\n",
    "res = re.findall(r\"^R.+\",text)\n",
    "res"
   ]
  },
  {
   "cell_type": "code",
   "execution_count": 113,
   "id": "5cc6d9e8",
   "metadata": {},
   "outputs": [
    {
     "data": {
      "text/plain": [
       "[]"
      ]
     },
     "execution_count": 113,
     "metadata": {},
     "output_type": "execute_result"
    }
   ],
   "source": [
    "text = \"\"\"result&\"\"\"\n",
    "res = re.findall(r\"^R.+\",text)\n",
    "res"
   ]
  },
  {
   "cell_type": "code",
   "execution_count": 114,
   "id": "8c77837d",
   "metadata": {},
   "outputs": [
    {
     "name": "stdout",
     "output_type": "stream",
     "text": [
      "No Match\n"
     ]
    }
   ],
   "source": [
    "text = \"\"\"result&\"\"\"\n",
    "res = re.findall(r\"^R.+\",text)\n",
    "if res:\n",
    "    print(f\"Match FOund\")\n",
    "else:\n",
    "    print(f\"No Match\")"
   ]
  },
  {
   "cell_type": "code",
   "execution_count": 115,
   "id": "9eaabc86",
   "metadata": {},
   "outputs": [
    {
     "name": "stdout",
     "output_type": "stream",
     "text": [
      "Match FOund\n"
     ]
    }
   ],
   "source": [
    "text = \"\"\"Result&\"\"\"\n",
    "res = re.findall(r\"^R.+\",text)\n",
    "if res:\n",
    "    print(f\"Match FOund\")\n",
    "else:\n",
    "    print(f\"No Match\")"
   ]
  },
  {
   "cell_type": "code",
   "execution_count": 120,
   "id": "19c556bc",
   "metadata": {},
   "outputs": [
    {
     "name": "stdout",
     "output_type": "stream",
     "text": [
      "Match FOund\n"
     ]
    }
   ],
   "source": [
    "text = \"\"\"98475684798 Python and machine learning and dl and nlp\"\"\"\n",
    "res = re.findall(r\"^\\d.+\\s\",text)\n",
    "if res:\n",
    "    print(f\"Match FOund\")\n",
    "else:\n",
    "    print(f\"No Match\")"
   ]
  },
  {
   "cell_type": "code",
   "execution_count": 121,
   "id": "f5c205e7",
   "metadata": {},
   "outputs": [
    {
     "data": {
      "text/plain": [
       "['98475684798 Python and machine learning and dl and ']"
      ]
     },
     "execution_count": 121,
     "metadata": {},
     "output_type": "execute_result"
    }
   ],
   "source": [
    "res"
   ]
  },
  {
   "cell_type": "code",
   "execution_count": 126,
   "id": "e28f5758",
   "metadata": {},
   "outputs": [
    {
     "name": "stdout",
     "output_type": "stream",
     "text": [
      "No Match\n"
     ]
    }
   ],
   "source": [
    "text = \"\"\"Mobile number:-984756678567884798 Python and machine learning and dl and nlp\"\"\"\n",
    "res = re.findall(r\"^\\d+\\s\",text)\n",
    "if res:\n",
    "    print(f\"Match FOund\")\n",
    "else:\n",
    "    print(f\"No Match\")"
   ]
  },
  {
   "cell_type": "code",
   "execution_count": 127,
   "id": "71dca2e3",
   "metadata": {},
   "outputs": [
    {
     "data": {
      "text/plain": [
       "[]"
      ]
     },
     "execution_count": 127,
     "metadata": {},
     "output_type": "execute_result"
    }
   ],
   "source": [
    "res"
   ]
  },
  {
   "cell_type": "code",
   "execution_count": 128,
   "id": "95e49317",
   "metadata": {},
   "outputs": [
    {
     "name": "stdout",
     "output_type": "stream",
     "text": [
      "No Match\n"
     ]
    },
    {
     "data": {
      "text/plain": [
       "[]"
      ]
     },
     "execution_count": 128,
     "metadata": {},
     "output_type": "execute_result"
    }
   ],
   "source": [
    "text = \"\"\"Mobile number :- 984756678567884798 Python and machine learning and dl and nlp\"\"\"\n",
    "res = re.findall(r\"^\\d+\\s\",text)\n",
    "if res:\n",
    "    print(f\"Match FOund\")\n",
    "else:\n",
    "    print(f\"No Match\")\n",
    "    \n",
    "res"
   ]
  },
  {
   "cell_type": "code",
   "execution_count": 129,
   "id": "d96a4a7b",
   "metadata": {},
   "outputs": [
    {
     "name": "stdout",
     "output_type": "stream",
     "text": [
      "No Match\n"
     ]
    },
    {
     "data": {
      "text/plain": [
       "[]"
      ]
     },
     "execution_count": 129,
     "metadata": {},
     "output_type": "execute_result"
    }
   ],
   "source": [
    "text = \"\"\" 984756678567884798 Python and machine learning and dl and nlp\"\"\"\n",
    "res = re.findall(r\"^\\d+\\s\",text)\n",
    "if res:\n",
    "    print(f\"Match FOund\")\n",
    "else:\n",
    "    print(f\"No Match\")\n",
    "    \n",
    "res"
   ]
  },
  {
   "cell_type": "code",
   "execution_count": 130,
   "id": "38387357",
   "metadata": {},
   "outputs": [
    {
     "name": "stdout",
     "output_type": "stream",
     "text": [
      "Match FOund\n"
     ]
    },
    {
     "data": {
      "text/plain": [
       "['984756678567884798 ']"
      ]
     },
     "execution_count": 130,
     "metadata": {},
     "output_type": "execute_result"
    }
   ],
   "source": [
    "text = \"\"\"984756678567884798 Python and machine learning and dl and nlp\"\"\"\n",
    "res = re.findall(r\"^\\d+\\s\",text)\n",
    "if res:\n",
    "    print(f\"Match FOund\")\n",
    "else:\n",
    "    print(f\"No Match\")\n",
    "    \n",
    "res"
   ]
  },
  {
   "cell_type": "markdown",
   "id": "de30e5a9",
   "metadata": {},
   "source": [
    "# 6. $ (endswith)"
   ]
  },
  {
   "cell_type": "code",
   "execution_count": 140,
   "id": "6ab20bb6",
   "metadata": {},
   "outputs": [
    {
     "name": "stdout",
     "output_type": "stream",
     "text": [
      "Match FOund\n"
     ]
    },
    {
     "data": {
      "text/plain": [
       "['n']"
      ]
     },
     "execution_count": 140,
     "metadata": {},
     "output_type": "execute_result"
    }
   ],
   "source": [
    "text = \"\"\"Python\"\"\"\n",
    "res = re.findall(r\"n$\",text)\n",
    "if res:\n",
    "    print(f\"Match FOund\")\n",
    "else:\n",
    "    print(f\"No Match\")\n",
    "    \n",
    "res"
   ]
  },
  {
   "cell_type": "code",
   "execution_count": 141,
   "id": "668139ec",
   "metadata": {},
   "outputs": [
    {
     "name": "stdout",
     "output_type": "stream",
     "text": [
      "No Match\n"
     ]
    },
    {
     "data": {
      "text/plain": [
       "[]"
      ]
     },
     "execution_count": 141,
     "metadata": {},
     "output_type": "execute_result"
    }
   ],
   "source": [
    "text = \"\"\"PythoN\"\"\"\n",
    "res = re.findall(r\"n$\",text)\n",
    "if res:\n",
    "    print(f\"Match FOund\")\n",
    "else:\n",
    "    print(f\"No Match\")\n",
    "    \n",
    "res"
   ]
  },
  {
   "cell_type": "code",
   "execution_count": 142,
   "id": "0790243f",
   "metadata": {},
   "outputs": [
    {
     "name": "stdout",
     "output_type": "stream",
     "text": [
      "Match FOund\n"
     ]
    },
    {
     "data": {
      "text/plain": [
       "[' ']"
      ]
     },
     "execution_count": 142,
     "metadata": {},
     "output_type": "execute_result"
    }
   ],
   "source": [
    "text = \"\"\"PythoN \"\"\"\n",
    "res = re.findall(r\"\\s$\",text)\n",
    "if res:\n",
    "    print(f\"Match FOund\")\n",
    "else:\n",
    "    print(f\"No Match\")\n",
    "    \n",
    "res"
   ]
  },
  {
   "cell_type": "code",
   "execution_count": 143,
   "id": "cc075001",
   "metadata": {},
   "outputs": [
    {
     "name": "stdout",
     "output_type": "stream",
     "text": [
      "Match FOund\n"
     ]
    },
    {
     "data": {
      "text/plain": [
       "['\\n']"
      ]
     },
     "execution_count": 143,
     "metadata": {},
     "output_type": "execute_result"
    }
   ],
   "source": [
    "text = \"\"\"PythoN\n",
    "\"\"\"\n",
    "res = re.findall(r\"\\n$\",text)\n",
    "if res:\n",
    "    print(f\"Match FOund\")\n",
    "else:\n",
    "    print(f\"No Match\")\n",
    "    \n",
    "res"
   ]
  },
  {
   "cell_type": "code",
   "execution_count": 145,
   "id": "6998bb03",
   "metadata": {},
   "outputs": [
    {
     "name": "stdout",
     "output_type": "stream",
     "text": [
      "Match FOund\n"
     ]
    },
    {
     "data": {
      "text/plain": [
       "['    ']"
      ]
     },
     "execution_count": 145,
     "metadata": {},
     "output_type": "execute_result"
    }
   ],
   "source": [
    "text = \"\"\"PythoN    \"\"\"\n",
    "res = re.findall(r\"\\s+$\",text)\n",
    "if res:\n",
    "    print(f\"Match FOund\")\n",
    "else:\n",
    "    print(f\"No Match\")\n",
    "    \n",
    "res"
   ]
  },
  {
   "cell_type": "code",
   "execution_count": 146,
   "id": "906ebd8e",
   "metadata": {},
   "outputs": [
    {
     "name": "stdout",
     "output_type": "stream",
     "text": [
      "Match FOund\n"
     ]
    },
    {
     "data": {
      "text/plain": [
       "['Python']"
      ]
     },
     "execution_count": 146,
     "metadata": {},
     "output_type": "execute_result"
    }
   ],
   "source": [
    "text = \"\"\"Python\"\"\"\n",
    "res = re.findall(r\"^P.+n$\",text)\n",
    "if res:\n",
    "    print(f\"Match FOund\")\n",
    "else:\n",
    "    print(f\"No Match\")\n",
    "    \n",
    "res"
   ]
  },
  {
   "cell_type": "code",
   "execution_count": 147,
   "id": "cb71eb95",
   "metadata": {},
   "outputs": [
    {
     "name": "stdout",
     "output_type": "stream",
     "text": [
      "No Match\n"
     ]
    },
    {
     "data": {
      "text/plain": [
       "[]"
      ]
     },
     "execution_count": 147,
     "metadata": {},
     "output_type": "execute_result"
    }
   ],
   "source": [
    "text = \"\"\"Pytho|\"\"\"\n",
    "res = re.findall(r\"^P.+n$\",text)\n",
    "if res:\n",
    "    print(f\"Match FOund\")\n",
    "else:\n",
    "    print(f\"No Match\")\n",
    "    \n",
    "res"
   ]
  },
  {
   "cell_type": "code",
   "execution_count": 148,
   "id": "e07d2ae1",
   "metadata": {},
   "outputs": [
    {
     "name": "stdout",
     "output_type": "stream",
     "text": [
      "No Match\n"
     ]
    },
    {
     "data": {
      "text/plain": [
       "[]"
      ]
     },
     "execution_count": 148,
     "metadata": {},
     "output_type": "execute_result"
    }
   ],
   "source": [
    "text = \"\"\"Pytho\"\"\"\n",
    "res = re.findall(r\"^P.+n$\",text)\n",
    "if res:\n",
    "    print(f\"Match FOund\")\n",
    "else:\n",
    "    print(f\"No Match\")\n",
    "    \n",
    "res"
   ]
  },
  {
   "cell_type": "code",
   "execution_count": 149,
   "id": "499b5abc",
   "metadata": {},
   "outputs": [
    {
     "name": "stdout",
     "output_type": "stream",
     "text": [
      "Match FOund\n"
     ]
    },
    {
     "data": {
      "text/plain": [
       "['Pydxfghfghfghfghfgjthon']"
      ]
     },
     "execution_count": 149,
     "metadata": {},
     "output_type": "execute_result"
    }
   ],
   "source": [
    "text = \"\"\"Pydxfghfghfghfghfgjthon\"\"\"\n",
    "res = re.findall(r\"^P.+n$\",text)\n",
    "if res:\n",
    "    print(f\"Match FOund\")\n",
    "else:\n",
    "    print(f\"No Match\")\n",
    "    \n",
    "res"
   ]
  },
  {
   "cell_type": "code",
   "execution_count": 150,
   "id": "2bc0e2e3",
   "metadata": {},
   "outputs": [
    {
     "name": "stdout",
     "output_type": "stream",
     "text": [
      "Match FOund\n"
     ]
    },
    {
     "data": {
      "text/plain": [
       "['2']"
      ]
     },
     "execution_count": 150,
     "metadata": {},
     "output_type": "execute_result"
    }
   ],
   "source": [
    "text = \"\"\"8976654532\"\"\"\n",
    "res = re.findall(r\"\\d$\",text)\n",
    "if res:\n",
    "    print(f\"Match FOund\")\n",
    "else:\n",
    "    print(f\"No Match\")\n",
    "    \n",
    "res"
   ]
  },
  {
   "cell_type": "code",
   "execution_count": 151,
   "id": "c86b392f",
   "metadata": {},
   "outputs": [
    {
     "name": "stdout",
     "output_type": "stream",
     "text": [
      "No Match\n"
     ]
    },
    {
     "data": {
      "text/plain": [
       "[]"
      ]
     },
     "execution_count": 151,
     "metadata": {},
     "output_type": "execute_result"
    }
   ],
   "source": [
    "text = \"\"\"8976654532 number\"\"\"\n",
    "res = re.findall(r\"\\d$\",text)\n",
    "if res:\n",
    "    print(f\"Match FOund\")\n",
    "else:\n",
    "    print(f\"No Match\")\n",
    "    \n",
    "res"
   ]
  },
  {
   "cell_type": "code",
   "execution_count": 153,
   "id": "a611debe",
   "metadata": {},
   "outputs": [
    {
     "name": "stdout",
     "output_type": "stream",
     "text": [
      "Match FOund\n"
     ]
    },
    {
     "data": {
      "text/plain": [
       "['8976654532']"
      ]
     },
     "execution_count": 153,
     "metadata": {},
     "output_type": "execute_result"
    }
   ],
   "source": [
    "text = \"\"\"8976654532\"\"\"\n",
    "res = re.findall(r\"\\d+\\d$\",text)\n",
    "if res:\n",
    "    print(f\"Match FOund\")\n",
    "else:\n",
    "    print(f\"No Match\")\n",
    "    \n",
    "res"
   ]
  },
  {
   "cell_type": "code",
   "execution_count": 154,
   "id": "02de6d92",
   "metadata": {},
   "outputs": [
    {
     "name": "stdout",
     "output_type": "stream",
     "text": [
      "Match FOund\n"
     ]
    },
    {
     "data": {
      "text/plain": [
       "['kjdfkjgbnk654532']"
      ]
     },
     "execution_count": 154,
     "metadata": {},
     "output_type": "execute_result"
    }
   ],
   "source": [
    "text = \"\"\"kjdfkjgbnk654532\"\"\"\n",
    "res = re.findall(r\".+\\d$\",text)\n",
    "if res:\n",
    "    print(f\"Match FOund\")\n",
    "else:\n",
    "    print(f\"No Match\")\n",
    "    \n",
    "res"
   ]
  },
  {
   "cell_type": "code",
   "execution_count": 155,
   "id": "076307e7",
   "metadata": {},
   "outputs": [
    {
     "name": "stdout",
     "output_type": "stream",
     "text": [
      "No Match\n"
     ]
    },
    {
     "data": {
      "text/plain": [
       "[]"
      ]
     },
     "execution_count": 155,
     "metadata": {},
     "output_type": "execute_result"
    }
   ],
   "source": [
    "text = \"\"\"8976654532k\"\"\"\n",
    "res = re.findall(r\"\\d+\\d$\",text)\n",
    "if res:\n",
    "    print(f\"Match FOund\")\n",
    "else:\n",
    "    print(f\"No Match\")\n",
    "    \n",
    "res"
   ]
  },
  {
   "cell_type": "code",
   "execution_count": 160,
   "id": "8bc4da57",
   "metadata": {},
   "outputs": [],
   "source": [
    "url = \"https://www.podio.com/Login\""
   ]
  },
  {
   "cell_type": "code",
   "execution_count": 161,
   "id": "f9fafda0",
   "metadata": {},
   "outputs": [
    {
     "data": {
      "text/plain": [
       "'https://www.podio.com/Login'"
      ]
     },
     "execution_count": 161,
     "metadata": {},
     "output_type": "execute_result"
    }
   ],
   "source": [
    "url"
   ]
  },
  {
   "cell_type": "code",
   "execution_count": 162,
   "id": "7e37dff4",
   "metadata": {},
   "outputs": [
    {
     "data": {
      "text/plain": [
       "['https://www.podio.com/Login']"
      ]
     },
     "execution_count": 162,
     "metadata": {},
     "output_type": "execute_result"
    }
   ],
   "source": [
    "re.findall(r\"\\w+://\\w+.\\w+.\\w+/\\w+\",url)"
   ]
  },
  {
   "cell_type": "code",
   "execution_count": 163,
   "id": "d1f6dfb4",
   "metadata": {},
   "outputs": [
    {
     "data": {
      "text/plain": [
       "['https://www.podio.com/Login']"
      ]
     },
     "execution_count": 163,
     "metadata": {},
     "output_type": "execute_result"
    }
   ],
   "source": [
    "url = \"https://www.podio.com/Login\"\n",
    "re.findall(r\"\\w+://\\w+.podio.com/\\w+\",url)"
   ]
  },
  {
   "cell_type": "code",
   "execution_count": 164,
   "id": "418c638a",
   "metadata": {},
   "outputs": [
    {
     "data": {
      "text/plain": [
       "['https://www.podio.com/Logout']"
      ]
     },
     "execution_count": 164,
     "metadata": {},
     "output_type": "execute_result"
    }
   ],
   "source": [
    "url = \"https://www.podio.com/Logout\"\n",
    "re.findall(r\"\\w+://\\w+.podio.com/\\w+\",url)"
   ]
  },
  {
   "cell_type": "code",
   "execution_count": 166,
   "id": "49815534",
   "metadata": {},
   "outputs": [
    {
     "data": {
      "text/plain": [
       "[]"
      ]
     },
     "execution_count": 166,
     "metadata": {},
     "output_type": "execute_result"
    }
   ],
   "source": [
    "url = \"https://www.Box.com/Download\"\n",
    "re.findall(r\"\\w+://\\w+.podio.com/\\w+\",url)"
   ]
  },
  {
   "cell_type": "code",
   "execution_count": null,
   "id": "92b936d5",
   "metadata": {},
   "outputs": [],
   "source": []
  }
 ],
 "metadata": {
  "kernelspec": {
   "display_name": "Python 3 (ipykernel)",
   "language": "python",
   "name": "python3"
  },
  "language_info": {
   "codemirror_mode": {
    "name": "ipython",
    "version": 3
   },
   "file_extension": ".py",
   "mimetype": "text/x-python",
   "name": "python",
   "nbconvert_exporter": "python",
   "pygments_lexer": "ipython3",
   "version": "3.9.12"
  }
 },
 "nbformat": 4,
 "nbformat_minor": 5
}
