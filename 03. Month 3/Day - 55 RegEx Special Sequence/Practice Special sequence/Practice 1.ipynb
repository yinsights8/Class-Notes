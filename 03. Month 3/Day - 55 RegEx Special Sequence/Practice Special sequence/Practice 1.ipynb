{
 "cells": [
  {
   "cell_type": "markdown",
   "id": "ccefb948",
   "metadata": {},
   "source": [
    "## Special Sequences\n",
    "- \\d = [0-9]\n",
    "- \\D - [^ 0-9]\n",
    "- \\s - [ ] Spaces only\n",
    "- \\S - [^   ] except space, include all char\n",
    "- \\w - [a-zA-Z0-9] \n",
    "- \\W - [^ a-zA-Z0-9] except \\w include all char"
   ]
  },
  {
   "cell_type": "markdown",
   "id": "840f6df0",
   "metadata": {},
   "source": [
    "## \\b \n",
    "- It will help us to check for char at the start or end of the word\n",
    "- Returns a match where the specified characters are at the beginning or at the end of a word"
   ]
  },
  {
   "cell_type": "code",
   "execution_count": 1,
   "id": "e877cd01",
   "metadata": {},
   "outputs": [],
   "source": [
    "import re"
   ]
  },
  {
   "cell_type": "code",
   "execution_count": 2,
   "id": "61b20e1a",
   "metadata": {},
   "outputs": [
    {
     "data": {
      "text/plain": [
       "['Hello']"
      ]
     },
     "execution_count": 2,
     "metadata": {},
     "output_type": "execute_result"
    }
   ],
   "source": [
    "text = \"\"\"Hello\"\"\"\n",
    "check = re.findall(r\"\\b\\w{1,5}\",text)\n",
    "check"
   ]
  },
  {
   "cell_type": "code",
   "execution_count": 3,
   "id": "b5abf5c5",
   "metadata": {},
   "outputs": [
    {
     "data": {
      "text/plain": [
       "['Hello']"
      ]
     },
     "execution_count": 3,
     "metadata": {},
     "output_type": "execute_result"
    }
   ],
   "source": [
    "text = \"\"\"Hello\"\"\"\n",
    "check = re.findall(r\"\\b\\w+\",text)\n",
    "check"
   ]
  },
  {
   "cell_type": "code",
   "execution_count": 4,
   "id": "f0ab995f",
   "metadata": {},
   "outputs": [
    {
     "data": {
      "text/plain": [
       "['HFGTR7656T', 'QWERT7856Y']"
      ]
     },
     "execution_count": 4,
     "metadata": {},
     "output_type": "execute_result"
    }
   ],
   "source": [
    "text = \"\"\"\n",
    "HFGTR7656T,\n",
    "Djklf4525o,\n",
    "safFD4152P,\n",
    "QWERT7856Y\n",
    "\n",
    "8768 6886 5995\n",
    "7685\n",
    "\"\"\"\n",
    "pan = re.findall(r\"\\b[A-Z]{5}\\d{4}[A-Z]\",text)\n",
    "pan"
   ]
  },
  {
   "cell_type": "code",
   "execution_count": 5,
   "id": "1ba6126a",
   "metadata": {},
   "outputs": [
    {
     "data": {
      "text/plain": [
       "['HFGTR7656T', 'Djklf4525o', 'safFD4152P', 'QWERT7856Y']"
      ]
     },
     "execution_count": 5,
     "metadata": {},
     "output_type": "execute_result"
    }
   ],
   "source": [
    "pan = re.findall(r\"\\b\\w{5}\\d{4}\\w\",text)\n",
    "pan"
   ]
  },
  {
   "cell_type": "code",
   "execution_count": 6,
   "id": "6dbe212a",
   "metadata": {},
   "outputs": [
    {
     "name": "stdout",
     "output_type": "stream",
     "text": [
      "['8768 6886 5995']\n"
     ]
    }
   ],
   "source": [
    "text = text = \"\"\"\n",
    "HFGTR7656T,\n",
    "Djklf4525o,\n",
    "safFD4152P,\n",
    "QWERT7856Y\n",
    "\n",
    "8768 6886 5995\n",
    "7685\n",
    "\"\"\"\n",
    "\n",
    "addhar = re.findall(r\"[0-9]{4}[ ][0-9]{4}[ ][0-9]{4}\",text)\n",
    "print(addhar)"
   ]
  },
  {
   "cell_type": "code",
   "execution_count": 7,
   "id": "f3d3270b",
   "metadata": {},
   "outputs": [
    {
     "name": "stdout",
     "output_type": "stream",
     "text": [
      "['8768 6886 5995']\n"
     ]
    }
   ],
   "source": [
    "addhar1 = re.findall(r\"\\b\\d{4}\\s\\d{4}\\s\\d{4}\\b\",text)\n",
    "print(addhar1)"
   ]
  },
  {
   "cell_type": "code",
   "execution_count": 8,
   "id": "f7c109cc",
   "metadata": {},
   "outputs": [
    {
     "data": {
      "text/plain": [
       "['7685688612']"
      ]
     },
     "execution_count": 8,
     "metadata": {},
     "output_type": "execute_result"
    }
   ],
   "source": [
    "text = text = \"\"\"\n",
    "HFGTR7656T,\n",
    "Djklf4525o,\n",
    "safFD4152P,\n",
    "QWERT7856Y\n",
    "\n",
    "8768 6886 5995\n",
    "7685688612\n",
    "\"\"\"\n",
    "\n",
    "phn = re.findall(r\"\\b\\d{10}\\b\",text)\n",
    "phn"
   ]
  },
  {
   "cell_type": "code",
   "execution_count": null,
   "id": "51231545",
   "metadata": {},
   "outputs": [],
   "source": []
  },
  {
   "cell_type": "code",
   "execution_count": 9,
   "id": "c5025c9c",
   "metadata": {},
   "outputs": [
    {
     "name": "stdout",
     "output_type": "stream",
     "text": [
      "['8768', '6886', '5995']\n"
     ]
    }
   ],
   "source": [
    "text = text = \"\"\"\n",
    "HFGTR7656T,\n",
    "Djklf4525o,\n",
    "safFD4152P,\n",
    "QWERT7856Y\n",
    "\n",
    "8768 6886 5995\n",
    "7685688612\n",
    "\"\"\"\n",
    "\n",
    "adh = re.findall(r\"\\b\\d{4}\\b\",text)\n",
    "print(adh)"
   ]
  },
  {
   "cell_type": "code",
   "execution_count": 10,
   "id": "3d5621fe",
   "metadata": {},
   "outputs": [
    {
     "name": "stdout",
     "output_type": "stream",
     "text": [
      "['resume.pdf', 'Resume12.pdf']\n"
     ]
    }
   ],
   "source": [
    "text = text = \"\"\"\n",
    "HFGTR7656T,\n",
    "Djklf4525o,\n",
    "safFD4152P,\n",
    "QWERT7856Y\n",
    "\n",
    "8768 6886 59956,\n",
    "7685688612\n",
    "\n",
    "resume.pdf\n",
    "Resume12.pdf\n",
    "resume555.csv\n",
    "\"\"\"\n",
    "\n",
    "extension = re.findall(r\"\\b\\w{1,10}.pdf\",text)\n",
    "print(extension)"
   ]
  },
  {
   "cell_type": "code",
   "execution_count": 11,
   "id": "6f867717",
   "metadata": {},
   "outputs": [
    {
     "name": "stdout",
     "output_type": "stream",
     "text": [
      "['resume555.csv']\n"
     ]
    }
   ],
   "source": [
    "exten = re.findall(r\"\\b\\w{1,15}.csv\",text)\n",
    "print(exten)"
   ]
  },
  {
   "cell_type": "code",
   "execution_count": 12,
   "id": "0b25ec90",
   "metadata": {},
   "outputs": [
    {
     "name": "stdout",
     "output_type": "stream",
     "text": [
      "['resume.pdf', 'Resume12.pdf']\n"
     ]
    }
   ],
   "source": [
    "exten1 = re.findall(r\"\\b\\w+.pdf\",text)\n",
    "print(exten1)"
   ]
  },
  {
   "cell_type": "code",
   "execution_count": 13,
   "id": "9cc6fad6",
   "metadata": {},
   "outputs": [
    {
     "name": "stdout",
     "output_type": "stream",
     "text": [
      "['resume555.csv']\n"
     ]
    }
   ],
   "source": [
    "exten1 = re.findall(r\"\\b\\w+.csv\",text)\n",
    "print(exten1)"
   ]
  },
  {
   "cell_type": "code",
   "execution_count": 14,
   "id": "d1971b37",
   "metadata": {},
   "outputs": [
    {
     "name": "stdout",
     "output_type": "stream",
     "text": [
      "['C:']\n"
     ]
    }
   ],
   "source": [
    "loc = \"C:\\\\Users\\\\yashd\\\\02. Velocity Class Notes\\\\Class\\\\3. Month 3\"\n",
    "find = re.findall(r\"\\b\\w:\",loc)\n",
    "print(find)"
   ]
  },
  {
   "cell_type": "code",
   "execution_count": 15,
   "id": "3bbbaeff",
   "metadata": {},
   "outputs": [
    {
     "name": "stdout",
     "output_type": "stream",
     "text": [
      "['C:\\\\Users\\\\yashd\\\\02. Velocity Class Notes\\\\Class\\\\3. Month 3']\n"
     ]
    }
   ],
   "source": [
    "loc = \"C:\\\\Users\\\\yashd\\\\02. Velocity Class Notes\\\\Class\\\\3. Month 3\"\n",
    "find = re.findall(r\"\\b\\w:\\\\\\w.+\",loc)\n",
    "print(find)"
   ]
  },
  {
   "cell_type": "code",
   "execution_count": 16,
   "id": "72a51020",
   "metadata": {},
   "outputs": [
    {
     "name": "stdout",
     "output_type": "stream",
     "text": [
      "[]\n"
     ]
    }
   ],
   "source": [
    "fin = re.findall(r\"\\b\\w:\\\\\\w+\",text)\n",
    "print(fin)"
   ]
  },
  {
   "cell_type": "markdown",
   "id": "19f63fb0",
   "metadata": {},
   "source": [
    "## Special characters and there meaning"
   ]
  },
  {
   "cell_type": "raw",
   "id": "03ba932d",
   "metadata": {},
   "source": [
    " + = one or more Occurences of char should be there"
   ]
  },
  {
   "cell_type": "code",
   "execution_count": 17,
   "id": "9b8a5f62",
   "metadata": {},
   "outputs": [
    {
     "data": {
      "text/plain": [
       "['H']"
      ]
     },
     "execution_count": 17,
     "metadata": {},
     "output_type": "execute_result"
    }
   ],
   "source": [
    "txt = \"Hello\"\n",
    "re.findall(\"H+\",txt)"
   ]
  },
  {
   "cell_type": "code",
   "execution_count": 18,
   "id": "2baf649f",
   "metadata": {},
   "outputs": [
    {
     "data": {
      "text/plain": [
       "['Hello']"
      ]
     },
     "execution_count": 18,
     "metadata": {},
     "output_type": "execute_result"
    }
   ],
   "source": [
    "re.findall(\"\\w+\",txt)"
   ]
  },
  {
   "cell_type": "code",
   "execution_count": 19,
   "id": "9e8a103b",
   "metadata": {},
   "outputs": [
    {
     "data": {
      "text/plain": [
       "['HHHHH']"
      ]
     },
     "execution_count": 19,
     "metadata": {},
     "output_type": "execute_result"
    }
   ],
   "source": [
    "txt = \"HHHHHello\"\n",
    "re.findall(\"H+\",txt)"
   ]
  },
  {
   "cell_type": "code",
   "execution_count": 20,
   "id": "7d852438",
   "metadata": {},
   "outputs": [
    {
     "data": {
      "text/plain": [
       "[]"
      ]
     },
     "execution_count": 20,
     "metadata": {},
     "output_type": "execute_result"
    }
   ],
   "source": [
    "txt = \"ello\"\n",
    "re.findall(\"H+\",txt)"
   ]
  },
  {
   "cell_type": "code",
   "execution_count": 21,
   "id": "e022cdc5",
   "metadata": {},
   "outputs": [
    {
     "name": "stdout",
     "output_type": "stream",
     "text": [
      "['resume.pdf', 'Resume12.pdf']\n"
     ]
    }
   ],
   "source": [
    "text = \"\"\"\n",
    "HFGTR7656T,\n",
    "Djklf4525o,\n",
    "safFD4152P,\n",
    "QWERT7856Y\n",
    "\n",
    "8768 6886 59956,\n",
    "8768 6886 5995,\n",
    "7685688612\n",
    "\n",
    "resume.pdf\n",
    "Resume12.pdf\n",
    "resume555.csv\n",
    "\"\"\"\n",
    "pdf = re.findall(r\"\\w+.pdf\",text)\n",
    "print(pdf)"
   ]
  },
  {
   "cell_type": "code",
   "execution_count": 22,
   "id": "9742a11b",
   "metadata": {},
   "outputs": [
    {
     "data": {
      "text/plain": [
       "['resume555.csv']"
      ]
     },
     "execution_count": 22,
     "metadata": {},
     "output_type": "execute_result"
    }
   ],
   "source": [
    "csv = re.findall(\"\\w+.csv\",text)\n",
    "csv"
   ]
  },
  {
   "cell_type": "code",
   "execution_count": 23,
   "id": "0ccdd9a9",
   "metadata": {},
   "outputs": [
    {
     "name": "stdout",
     "output_type": "stream",
     "text": [
      "['59956,', '5995,']\n"
     ]
    }
   ],
   "source": [
    "text = \"\"\"\n",
    "HFGTR7656T,\n",
    "Djklf4525o,\n",
    "safFD4152P,\n",
    "QWERT7856Y\n",
    "\n",
    "8768 6886 59956,\n",
    "8768 6886 5995,\n",
    "7685688612\n",
    "\n",
    "resume.pdf\n",
    "Resume12.pdf\n",
    "resume555.csv\n",
    "\"\"\"\n",
    "nums_ = re.findall(\"\\d+,\",text)\n",
    "print(nums_)"
   ]
  },
  {
   "cell_type": "code",
   "execution_count": 24,
   "id": "7b1fea94",
   "metadata": {},
   "outputs": [
    {
     "name": "stdout",
     "output_type": "stream",
     "text": [
      "['QWERT7856Y\\n', '8768 ', '6886 ', '8768 ', '6886 ', '7685688612\\n', 'pdf\\n', 'pdf\\n', 'csv\\n']\n"
     ]
    }
   ],
   "source": [
    "text = \"\"\"\n",
    "HFGTR7656T,\n",
    "Djklf4525o,\n",
    "safFD4152P,\n",
    "QWERT7856Y\n",
    "\n",
    "8768 6886 59956,\n",
    "8768 6886 5995,\n",
    "7685688612\n",
    "\n",
    "resume.pdf\n",
    "Resume12.pdf\n",
    "resume555.csv\n",
    "\"\"\"\n",
    "nums_ = re.findall(\"\\w+\\s\",text)\n",
    "print(nums_)"
   ]
  },
  {
   "cell_type": "code",
   "execution_count": 25,
   "id": "b9cc9299",
   "metadata": {},
   "outputs": [
    {
     "name": "stdout",
     "output_type": "stream",
     "text": [
      "['HFGTR', 'T', 'D', 'FD', 'P', 'QWERT', 'Y', 'R']\n"
     ]
    }
   ],
   "source": [
    "text = \"\"\"\n",
    "HFGTR7656T,\n",
    "Djklf4525o,\n",
    "safFD4152P,\n",
    "QWERT7856Y\n",
    "\n",
    "8768 6886 59956,\n",
    "8768 6886 5995,\n",
    "7685688612\n",
    "\n",
    "resume.pdf\n",
    "Resume12.pdf\n",
    "resume555.csv\n",
    "\"\"\"\n",
    "caps = re.findall(\"[A-Z]+\",text)\n",
    "print(caps)"
   ]
  },
  {
   "cell_type": "code",
   "execution_count": 26,
   "id": "47ad2eeb",
   "metadata": {},
   "outputs": [
    {
     "name": "stdout",
     "output_type": "stream",
     "text": [
      "['7656T', '4152P', '7856Y']\n"
     ]
    }
   ],
   "source": [
    "caps = re.findall(\"\\d+[A-Z]\",text)\n",
    "print(caps)"
   ]
  },
  {
   "cell_type": "code",
   "execution_count": 27,
   "id": "754a6859",
   "metadata": {},
   "outputs": [
    {
     "name": "stdout",
     "output_type": "stream",
     "text": [
      "['7656T', '4152P', '7856Y']\n"
     ]
    }
   ],
   "source": [
    "end_cap = re.findall(\"[A-Z]\\Z\",text)\n",
    "print(caps)"
   ]
  },
  {
   "cell_type": "code",
   "execution_count": 28,
   "id": "8347f8ae",
   "metadata": {},
   "outputs": [
    {
     "name": "stdout",
     "output_type": "stream",
     "text": [
      "['8768 6886 59956', '8768 6886 5995']\n"
     ]
    }
   ],
   "source": [
    "text = \"\"\"\n",
    "HFGTR7656T,\n",
    "Djklf4525o,\n",
    "safFD4152P,\n",
    "QWERT7856Y\n",
    "\n",
    "8768 6886 59956,\n",
    "8768 6886 5995,\n",
    "7685688612\n",
    "\n",
    "resume.pdf\n",
    "Resume12.pdf\n",
    "resume555.csv\n",
    "\"\"\"\n",
    "addhar = re.findall(\"\\d+\\s\\d+\\s\\d+\",text)\n",
    "print(addhar)"
   ]
  },
  {
   "cell_type": "code",
   "execution_count": 29,
   "id": "106fa7b7",
   "metadata": {},
   "outputs": [
    {
     "name": "stdout",
     "output_type": "stream",
     "text": [
      "['656T,', '6Y', '68 6886 59956,', '68 6886 5995,', '685688612']\n"
     ]
    }
   ],
   "source": [
    "text = \"\"\"\n",
    "HFGTR7656T,\n",
    "Djklf4525o,\n",
    "safFD4152P,\n",
    "QWERT7856Y\n",
    "\n",
    "8768 6886 59956,\n",
    "8768 6886 5995,\n",
    "7685688612\n",
    "\n",
    "resume.pdf\n",
    "Resume12.pdf\n",
    "resume555.csv\n",
    "\"\"\"\n",
    "phn_num = re.findall(\"6.+\",text)\n",
    "print(phn_num)"
   ]
  },
  {
   "cell_type": "code",
   "execution_count": 30,
   "id": "c1c3bdde",
   "metadata": {},
   "outputs": [
    {
     "name": "stdout",
     "output_type": "stream",
     "text": [
      "['Data', 'Science'] 2\n"
     ]
    }
   ],
   "source": [
    "text = \"\"\"Data Science\"\"\"\n",
    "\n",
    "ch = re.findall(r\"\\w+\",text)\n",
    "print(ch, len(ch))"
   ]
  },
  {
   "cell_type": "code",
   "execution_count": 31,
   "id": "24120831",
   "metadata": {},
   "outputs": [
    {
     "name": "stdout",
     "output_type": "stream",
     "text": [
      "[' '] 1\n"
     ]
    }
   ],
   "source": [
    "text = \"\"\"Data Science\"\"\"\n",
    "\n",
    "ch = re.findall(r\"\\s+\",text)\n",
    "print(ch, len(ch))"
   ]
  },
  {
   "cell_type": "code",
   "execution_count": 32,
   "id": "dcb1fd15",
   "metadata": {},
   "outputs": [
    {
     "name": "stdout",
     "output_type": "stream",
     "text": [
      "[' ', ' ', ' ', ' ', ' ', ' ', ' ', ' ', ' ', ' ', ' ', ' ', ' '] 13\n"
     ]
    }
   ],
   "source": [
    "text = \"\"\"Data Science           Data1 Science1\"\"\"\n",
    "ch = re.findall(\"\\s\",text)\n",
    "print(ch, len(ch))"
   ]
  },
  {
   "cell_type": "code",
   "execution_count": 33,
   "id": "64d066ac",
   "metadata": {},
   "outputs": [
    {
     "name": "stdout",
     "output_type": "stream",
     "text": [
      "[' ', '           ', ' '] 3\n"
     ]
    }
   ],
   "source": [
    "text = \"\"\"Data Science           Data1 Science1\"\"\"\n",
    "ch = re.findall(\"\\s+\",text)\n",
    "print(ch, len(ch))"
   ]
  },
  {
   "cell_type": "code",
   "execution_count": 34,
   "id": "63fc40b9",
   "metadata": {},
   "outputs": [
    {
     "name": "stdout",
     "output_type": "stream",
     "text": [
      "[' ', ' ', ' ', ' ', ' ', ' ', ' ', ' ', ' ', ' ', ' ', ' ', ' ', ' ', ' ', ' ', ' ', ' ', ' ', ' ', ' ', ' ', ' ', ' ', ' ', ' ', ' ', ' ', ' ', ' ', ' ', ' ', ' ', ' ', ' ', ' ', ' ', ' ', ' ', ' ', ' ', ' ', ' ', ' ', ' ', ' ', ' ', ' ', ' ', ' ', ' ', ' ', ' ', ' ', ' ', ' '] 56\n"
     ]
    }
   ],
   "source": [
    "text = \"\"\"                                                        \"\"\"\n",
    "ch = re.findall(\"\\s\",text)\n",
    "print(ch, len(ch))"
   ]
  },
  {
   "cell_type": "code",
   "execution_count": 35,
   "id": "6fba57b8",
   "metadata": {},
   "outputs": [
    {
     "name": "stdout",
     "output_type": "stream",
     "text": [
      "['                                                        '] 1\n"
     ]
    }
   ],
   "source": [
    "text = \"\"\"                                                        \"\"\"\n",
    "ch = re.findall(\"\\s+\",text)\n",
    "print(ch, len(ch))"
   ]
  },
  {
   "cell_type": "code",
   "execution_count": 36,
   "id": "4cd530d5",
   "metadata": {},
   "outputs": [
    {
     "data": {
      "text/plain": [
       "'Python'"
      ]
     },
     "execution_count": 36,
     "metadata": {},
     "output_type": "execute_result"
    }
   ],
   "source": [
    "tex = \"Python\"\n",
    "cnt = re.findall(\"pyth+on\",tex)\n",
    "tex"
   ]
  },
  {
   "cell_type": "code",
   "execution_count": 37,
   "id": "ef21c34b",
   "metadata": {},
   "outputs": [
    {
     "data": {
      "text/plain": [
       "'Pythhhhhhhhhhhhhhon'"
      ]
     },
     "execution_count": 37,
     "metadata": {},
     "output_type": "execute_result"
    }
   ],
   "source": [
    "tex = \"Pythhhhhhhhhhhhhhon\"\n",
    "cnt = re.findall(\"pyth+on\",tex)\n",
    "tex"
   ]
  },
  {
   "cell_type": "code",
   "execution_count": 38,
   "id": "b1ea8bd5",
   "metadata": {},
   "outputs": [
    {
     "name": "stdout",
     "output_type": "stream",
     "text": [
      "['Science']\n"
     ]
    }
   ],
   "source": [
    "tx = \"\"\"Data Science\"\"\"\n",
    "\n",
    "cnt = re.findall(\"Sci+ence\",tx)\n",
    "print(cnt)"
   ]
  },
  {
   "cell_type": "code",
   "execution_count": 39,
   "id": "2ac170ed",
   "metadata": {},
   "outputs": [
    {
     "name": "stdout",
     "output_type": "stream",
     "text": [
      "['Sciiiiiiiiiience']\n"
     ]
    }
   ],
   "source": [
    "tx = \"\"\"Data Sciiiiiiiiiience\"\"\"\n",
    "\n",
    "cnt = re.findall(\"Sci+ence\",tx)\n",
    "print(cnt)"
   ]
  },
  {
   "cell_type": "code",
   "execution_count": 40,
   "id": "09fe5564",
   "metadata": {},
   "outputs": [
    {
     "name": "stdout",
     "output_type": "stream",
     "text": [
      "[]\n"
     ]
    }
   ],
   "source": [
    "tx = \"\"\"Data Scence\"\"\"  ## i is missing\n",
    "\n",
    "cnt = re.findall(\"Data Sci+ence\",tx)\n",
    "print(cnt)"
   ]
  },
  {
   "cell_type": "markdown",
   "id": "5d10cbc4",
   "metadata": {},
   "source": [
    "## 2.  * (star)"
   ]
  },
  {
   "cell_type": "raw",
   "id": "3ee1a797",
   "metadata": {},
   "source": [
    "- * = zero or more occurences of a charecter should be there"
   ]
  },
  {
   "cell_type": "code",
   "execution_count": 41,
   "id": "e9a6ad41",
   "metadata": {},
   "outputs": [
    {
     "name": "stdout",
     "output_type": "stream",
     "text": [
      "['Data Scence']\n"
     ]
    }
   ],
   "source": [
    "txt1 = \"\"\"Data Scence\"\"\"\n",
    "star_match = re.findall(r\"Data Sci*ence\",txt1)\n",
    "print(star_match)"
   ]
  },
  {
   "cell_type": "code",
   "execution_count": 42,
   "id": "15e9aa5d",
   "metadata": {},
   "outputs": [
    {
     "name": "stdout",
     "output_type": "stream",
     "text": [
      "['Data Sciiience']\n"
     ]
    }
   ],
   "source": [
    "txt1 = \"\"\"Data Sciiience\"\"\"\n",
    "star_match = re.findall(r\"Data Sci*ence\",txt1)\n",
    "print(star_match)"
   ]
  },
  {
   "cell_type": "code",
   "execution_count": 43,
   "id": "aecb2b44",
   "metadata": {},
   "outputs": [
    {
     "data": {
      "text/plain": [
       "['Data Sience']"
      ]
     },
     "execution_count": 43,
     "metadata": {},
     "output_type": "execute_result"
    }
   ],
   "source": [
    "text = \"\"\"Data Sience\"\"\"\n",
    "\n",
    "start_ma = re.findall(r\"Data Sc*ience\",text)\n",
    "start_ma"
   ]
  },
  {
   "cell_type": "code",
   "execution_count": 44,
   "id": "5d656c3d",
   "metadata": {},
   "outputs": [
    {
     "data": {
      "text/plain": [
       "['Data Science', 'Dta Science', 'Daaaaaata Science']"
      ]
     },
     "execution_count": 44,
     "metadata": {},
     "output_type": "execute_result"
    }
   ],
   "source": [
    "text = \"\"\"Data Science Dta Science Daaaaaata Science Dtaaaaaa Science\"\"\"\n",
    "\n",
    "start_ma = re.findall(r\"Da*ta Science\",text)\n",
    "start_ma"
   ]
  },
  {
   "cell_type": "code",
   "execution_count": 45,
   "id": "d37f73c2",
   "metadata": {},
   "outputs": [
    {
     "data": {
      "text/plain": [
       "['Data Science', 'Dta Science', 'Daaaaaata Science', 'Dtaaaaaa Science']"
      ]
     },
     "execution_count": 45,
     "metadata": {},
     "output_type": "execute_result"
    }
   ],
   "source": [
    "text = \"\"\"Data Science Dta Science Daaaaaata Science Dtaaaaaa Science\"\"\"\n",
    "\n",
    "start_ma = re.findall(r\"Da*ta* Science\",text)\n",
    "start_ma"
   ]
  },
  {
   "cell_type": "code",
   "execution_count": 46,
   "id": "5820e9ba",
   "metadata": {},
   "outputs": [
    {
     "name": "stdout",
     "output_type": "stream",
     "text": [
      "['Data', 'Daaaaaata']\n"
     ]
    }
   ],
   "source": [
    "text = \"\"\"Data Science Dta Science Daaaaaata Science Dtaaaaaa Science\"\"\"\n",
    "sat = re.findall(\"Da+ta*\",text)\n",
    "print(sat)"
   ]
  },
  {
   "cell_type": "code",
   "execution_count": 47,
   "id": "8331e1ca",
   "metadata": {},
   "outputs": [
    {
     "data": {
      "text/plain": [
       "['resume.pdf', 'Resume12.pdf']"
      ]
     },
     "execution_count": 47,
     "metadata": {},
     "output_type": "execute_result"
    }
   ],
   "source": [
    "text = \"\"\"\n",
    "HFGTR7656T,\n",
    "Djklf4525o,\n",
    "safFD4152P,\n",
    "QWERT7856Y\n",
    "\n",
    "8768 6886 59956,\n",
    "8768 6886 5995,\n",
    "7685688612\n",
    "\n",
    "resume.pdf\n",
    "Resume12.pdf\n",
    "resume555.csv\n",
    "\"\"\"\n",
    "one_num = re.findall(\"\\w+.pdf\",text)\n",
    "one_num"
   ]
  },
  {
   "cell_type": "code",
   "execution_count": 48,
   "id": "29134acf",
   "metadata": {},
   "outputs": [
    {
     "data": {
      "text/plain": [
       "['Resume12.pdf']"
      ]
     },
     "execution_count": 48,
     "metadata": {},
     "output_type": "execute_result"
    }
   ],
   "source": [
    "text = \"\"\"\n",
    "HFGTR7656T,\n",
    "Djklf4525o,\n",
    "safFD4152P,\n",
    "QWERT7856Y\n",
    "\n",
    "8768 6886 59956,\n",
    "8768 6886 5995,\n",
    "7685688612\n",
    "\n",
    "resume.pdf\n",
    "Resume12.pdf\n",
    "resume555.csv\n",
    "cv.csv\n",
    "\"\"\"\n",
    "one_ = re.findall(\"[A-Za-z]*\\d+.pdf\",text)\n",
    "one_"
   ]
  },
  {
   "cell_type": "code",
   "execution_count": 49,
   "id": "c08bff35",
   "metadata": {},
   "outputs": [
    {
     "data": {
      "text/plain": [
       "['resume555.csv', '45612.csv']"
      ]
     },
     "execution_count": 49,
     "metadata": {},
     "output_type": "execute_result"
    }
   ],
   "source": [
    "text = \"\"\"\n",
    "HFGTR7656T,\n",
    "Djklf4525o,\n",
    "safFD4152P,\n",
    "QWERT7856Y\n",
    "\n",
    "8768 6886 59956,\n",
    "8768 6886 5995,\n",
    "7685688612\n",
    "\n",
    "resume.pdf\n",
    "Resume12.pdf\n",
    "resume555.csv\n",
    "45612.csv\n",
    "cv.csv\n",
    "\n",
    "\"\"\"\n",
    "one_csv = re.findall(\"[a-z]*\\d+.csv\",text)\n",
    "one_csv"
   ]
  },
  {
   "cell_type": "code",
   "execution_count": 57,
   "id": "599f48b2",
   "metadata": {},
   "outputs": [
    {
     "data": {
      "text/plain": [
       "['python', 'pyon']"
      ]
     },
     "execution_count": 57,
     "metadata": {},
     "output_type": "execute_result"
    }
   ],
   "source": [
    "py_text = \"\"\"python pytn pyn pyon\"\"\"\n",
    "re.findall(\"pyt*h*on\",py_text)"
   ]
  },
  {
   "cell_type": "code",
   "execution_count": 58,
   "id": "6c895ce9",
   "metadata": {},
   "outputs": [
    {
     "data": {
      "text/plain": [
       "['python', 'pytn', 'pyn', 'pyon']"
      ]
     },
     "execution_count": 58,
     "metadata": {},
     "output_type": "execute_result"
    }
   ],
   "source": [
    "py_text = \"\"\"python pytn pyn pyon\"\"\"\n",
    "re.findall(\"pyt*h*o*n\",py_text)"
   ]
  },
  {
   "cell_type": "code",
   "execution_count": 62,
   "id": "b9d94f67",
   "metadata": {},
   "outputs": [
    {
     "data": {
      "text/plain": [
       "['P', '']"
      ]
     },
     "execution_count": 62,
     "metadata": {},
     "output_type": "execute_result"
    }
   ],
   "source": [
    "tex = \"\"\"P\"\"\"\n",
    "re.findall(r\"P*\",tex)"
   ]
  },
  {
   "cell_type": "code",
   "execution_count": 64,
   "id": "62aeb631",
   "metadata": {},
   "outputs": [
    {
     "data": {
      "text/plain": [
       "['P']"
      ]
     },
     "execution_count": 64,
     "metadata": {},
     "output_type": "execute_result"
    }
   ],
   "source": [
    "tex = \"\"\"P\"\"\"\n",
    "re.findall(r\"P+\",tex)"
   ]
  },
  {
   "cell_type": "code",
   "execution_count": 65,
   "id": "9eac37b3",
   "metadata": {},
   "outputs": [
    {
     "data": {
      "text/plain": [
       "[]"
      ]
     },
     "execution_count": 65,
     "metadata": {},
     "output_type": "execute_result"
    }
   ],
   "source": [
    "tex = \"\"\"\"\"\"\n",
    "re.findall(r\"P+\",tex)"
   ]
  },
  {
   "cell_type": "code",
   "execution_count": 66,
   "id": "25ab53cc",
   "metadata": {},
   "outputs": [
    {
     "data": {
      "text/plain": [
       "['']"
      ]
     },
     "execution_count": 66,
     "metadata": {},
     "output_type": "execute_result"
    }
   ],
   "source": [
    "tex = \"\"\"\"\"\"\n",
    "re.findall(r\"P*\",tex)"
   ]
  },
  {
   "cell_type": "code",
   "execution_count": 67,
   "id": "99bc58cc",
   "metadata": {},
   "outputs": [
    {
     "data": {
      "text/plain": [
       "'C:\\\\Users\\\\hp\\\\AppData\\\\Local'"
      ]
     },
     "execution_count": 67,
     "metadata": {},
     "output_type": "execute_result"
    }
   ],
   "source": [
    "Path = r\"C:\\Users\\hp\\AppData\\Local\"\n",
    "Path"
   ]
  },
  {
   "cell_type": "code",
   "execution_count": 88,
   "id": "3b461fc7",
   "metadata": {},
   "outputs": [
    {
     "name": "stdout",
     "output_type": "stream",
     "text": [
      "['C:\\\\Users\\\\hp\\\\AppData\\\\Local']\n"
     ]
    }
   ],
   "source": [
    "ur = re.findall(r\"\\w:\\\\\\w+\\\\\\w+\\\\\\w+\\\\\\w+\",Path)\n",
    "print(ur)"
   ]
  },
  {
   "cell_type": "code",
   "execution_count": 99,
   "id": "259633fc",
   "metadata": {},
   "outputs": [
    {
     "name": "stdout",
     "output_type": "stream",
     "text": [
      "['C:\\\\Users\\\\hp\\\\AppData\\\\Local']\n"
     ]
    }
   ],
   "source": [
    "ur_ = re.findall(r\"\\w:\\\\\\w*\\\\\\w*\\\\\\w*\\\\\\w*\",Path)\n",
    "print(ur_)"
   ]
  },
  {
   "cell_type": "code",
   "execution_count": 101,
   "id": "5b4f37ad",
   "metadata": {},
   "outputs": [
    {
     "name": "stdout",
     "output_type": "stream",
     "text": [
      "['\\\\', '\\\\', '\\\\', '\\\\']\n"
     ]
    }
   ],
   "source": [
    "ur_ = re.findall(r\"\\\\\",Path)\n",
    "print(ur_)"
   ]
  },
  {
   "cell_type": "code",
   "execution_count": 143,
   "id": "deb0b722",
   "metadata": {},
   "outputs": [
    {
     "name": "stdout",
     "output_type": "stream",
     "text": [
      "['http://localhost:8888/notebooks/02.%20Velocity%20Class%20Notes/Class', '']\n"
     ]
    }
   ],
   "source": [
    "url = r\"http://localhost:8888/notebooks/02.%20Velocity%20Class%20Notes/Class\"\n",
    "urll = re.findall(\"\\S*\",url)\n",
    "print(urll)"
   ]
  },
  {
   "cell_type": "code",
   "execution_count": null,
   "id": "e640b128",
   "metadata": {},
   "outputs": [],
   "source": []
  },
  {
   "cell_type": "markdown",
   "id": "611246e6",
   "metadata": {},
   "source": [
    "## (.) dot"
   ]
  },
  {
   "cell_type": "markdown",
   "id": "4dabcca9",
   "metadata": {},
   "source": [
    "- . = Any Characters will be accepted (EXCEPT NEW LINE (\\n))"
   ]
  },
  {
   "cell_type": "code",
   "execution_count": 148,
   "id": "0c9c49a0",
   "metadata": {},
   "outputs": [
    {
     "name": "stdout",
     "output_type": "stream",
     "text": [
      "['Python']\n"
     ]
    }
   ],
   "source": [
    "text = \"\"\"Python\"\"\"\n",
    "char = re.findall(\"Py.hon\",text)\n",
    "print(char)"
   ]
  },
  {
   "cell_type": "code",
   "execution_count": 149,
   "id": "c41eecb5",
   "metadata": {},
   "outputs": [
    {
     "name": "stdout",
     "output_type": "stream",
     "text": [
      "['Python']\n"
     ]
    }
   ],
   "source": [
    "text = \"\"\"Python\"\"\"\n",
    "char = re.findall(\"Pyt.on\",text)\n",
    "print(char)"
   ]
  },
  {
   "cell_type": "code",
   "execution_count": 154,
   "id": "cb5e1e65",
   "metadata": {},
   "outputs": [
    {
     "name": "stdout",
     "output_type": "stream",
     "text": [
      "['Py', 'th', 'on', 'an', 'd ', 'da', 'ta', 'sc', 'ie', 'nc']\n"
     ]
    }
   ],
   "source": [
    "text = \"\"\"Python and data science\"\"\"\n",
    "char = re.findall(\"\\w.\",text)\n",
    "print(char)"
   ]
  },
  {
   "cell_type": "code",
   "execution_count": 156,
   "id": "0aa0c997",
   "metadata": {},
   "outputs": [
    {
     "name": "stdout",
     "output_type": "stream",
     "text": [
      "['Python and data science']\n",
      "['Python and data science']\n"
     ]
    }
   ],
   "source": [
    "text = \"\"\"Python and data science\"\"\"\n",
    "char = re.findall(\"\\w.*\",text)\n",
    "char1 = re.findall(\"\\w.+\",text)\n",
    "\n",
    "print(char)\n",
    "print(char1)"
   ]
  },
  {
   "cell_type": "code",
   "execution_count": 183,
   "id": "6a1c957c",
   "metadata": {},
   "outputs": [
    {
     "name": "stdout",
     "output_type": "stream",
     "text": [
      "['py', 'ho']\n",
      "['py!', 'hon']\n",
      "['py!h']\n",
      "['py!ho']\n",
      "['py!hon']\n"
     ]
    }
   ],
   "source": [
    "txt = \"\"\"py!hon\"\"\"\n",
    "ch = re.findall(\"\\w.\",txt)\n",
    "ch1 = re.findall(\"\\w..\",txt)\n",
    "ch2 = re.findall(\"\\w...\",txt)\n",
    "ch3 = re.findall(\"\\w....\",txt)\n",
    "ch4 = re.findall(\"\\w.....\",txt)\n",
    "\n",
    "print(ch)\n",
    "print(ch1)\n",
    "print(ch2)\n",
    "print(ch3)\n",
    "print(ch4)"
   ]
  },
  {
   "cell_type": "code",
   "execution_count": 187,
   "id": "405be82a",
   "metadata": {},
   "outputs": [
    {
     "name": "stdout",
     "output_type": "stream",
     "text": [
      "['python', 'pyt!on', 'pyt5on', 'pyt$on']\n"
     ]
    }
   ],
   "source": [
    "texc = \"\"\"python pyt!on pyt5on pyt$on\"\"\"\n",
    "te = re.findall(\"pyt.on\",texc)\n",
    "print(te)"
   ]
  },
  {
   "cell_type": "code",
   "execution_count": null,
   "id": "d6f854f0",
   "metadata": {},
   "outputs": [],
   "source": []
  },
  {
   "cell_type": "code",
   "execution_count": 188,
   "id": "44fe1089",
   "metadata": {},
   "outputs": [
    {
     "name": "stdout",
     "output_type": "stream",
     "text": [
      "['johnweak123@gmail.com']\n"
     ]
    }
   ],
   "source": [
    "mail = \"johnweak123@gmail.com\"\n",
    "\n",
    "e_mail = re.findall(\"\\w.+\",mail)\n",
    "print(e_mail)"
   ]
  },
  {
   "cell_type": "code",
   "execution_count": 217,
   "id": "d2309986",
   "metadata": {},
   "outputs": [
    {
     "name": "stdout",
     "output_type": "stream",
     "text": [
      "['resume.pdf', 'Resume12.pdf']\n"
     ]
    }
   ],
   "source": [
    "texts = \"\"\"\n",
    "HFGTR7656T,\n",
    "Djklf4525o,\n",
    "safFD4152P,\n",
    "QWERT7856Y\n",
    "\n",
    "8768 6886 59956,\n",
    "8768 6886 5995,\n",
    "7685688612\n",
    "\n",
    "resume.pdf\n",
    "Resume12.pdf\n",
    "resume555.csv\n",
    "\"\"\"\n",
    "pdf = re.findall(\"\\w.+.pdf\",texts)\n",
    "print(pdf)"
   ]
  },
  {
   "cell_type": "code",
   "execution_count": 220,
   "id": "ceb36674",
   "metadata": {},
   "outputs": [
    {
     "name": "stdout",
     "output_type": "stream",
     "text": [
      "['resume555.csv']\n"
     ]
    }
   ],
   "source": [
    "csv = re.findall(\"\\w.+.csv\",texts)\n",
    "print(csv)"
   ]
  },
  {
   "cell_type": "code",
   "execution_count": 227,
   "id": "882fb786",
   "metadata": {},
   "outputs": [
    {
     "data": {
      "text/plain": [
       "['192.168.0.101']"
      ]
     },
     "execution_count": 227,
     "metadata": {},
     "output_type": "execute_result"
    }
   ],
   "source": [
    "ip_add = \"\"\"192.168.0.101\"\"\"\n",
    "re.findall(\"\\d.+\",ip_add)"
   ]
  },
  {
   "cell_type": "code",
   "execution_count": 229,
   "id": "365a326d",
   "metadata": {},
   "outputs": [
    {
     "data": {
      "text/plain": [
       "['8667 5774 3774']"
      ]
     },
     "execution_count": 229,
     "metadata": {},
     "output_type": "execute_result"
    }
   ],
   "source": [
    "text = \"\"\"8667 5774 3774\"\"\"\n",
    "re.findall(\"\\d.+\",text)"
   ]
  },
  {
   "cell_type": "code",
   "execution_count": 239,
   "id": "a3665224",
   "metadata": {},
   "outputs": [
    {
     "data": {
      "text/plain": [
       "['yashdhakade@@@##$%%%^%']"
      ]
     },
     "execution_count": 239,
     "metadata": {},
     "output_type": "execute_result"
    }
   ],
   "source": [
    "name = \"\"\"yashdhakade@@@##$%%%^%\"\"\"\n",
    "re.findall(\"\\w.+\",name)"
   ]
  },
  {
   "cell_type": "code",
   "execution_count": 262,
   "id": "1efd45f2",
   "metadata": {
    "scrolled": true
   },
   "outputs": [
    {
     "data": {
      "text/plain": [
       "['Data', 'Science123']"
      ]
     },
     "execution_count": 262,
     "metadata": {},
     "output_type": "execute_result"
    }
   ],
   "source": [
    "text = \"\"\"Data Science123\"\"\"\n",
    "res = re.findall(r\"\\b\\w+\",text)\n",
    "res"
   ]
  },
  {
   "cell_type": "code",
   "execution_count": 264,
   "id": "e94dc245",
   "metadata": {},
   "outputs": [
    {
     "data": {
      "text/plain": [
       "[]"
      ]
     },
     "execution_count": 264,
     "metadata": {},
     "output_type": "execute_result"
    }
   ],
   "source": [
    "text = \"\"\"Data Scence\"\"\"\n",
    "res = re.findall(r\"Data Sci+ence\",text)\n",
    "res"
   ]
  },
  {
   "cell_type": "code",
   "execution_count": 267,
   "id": "d5d97cfc",
   "metadata": {},
   "outputs": [
    {
     "data": {
      "text/plain": [
       "['C:\\\\Users\\\\hp\\\\AppData\\\\Local']"
      ]
     },
     "execution_count": 267,
     "metadata": {},
     "output_type": "execute_result"
    }
   ],
   "source": [
    "urll = \"C:\\\\Users\\\\hp\\\\AppData\\\\Local\"\n",
    "re.findall(\"\\w:\\S+\",urll)"
   ]
  },
  {
   "cell_type": "code",
   "execution_count": 272,
   "id": "0c09200e",
   "metadata": {},
   "outputs": [
    {
     "data": {
      "text/plain": [
       "['C:\\\\Users\\\\hp\\\\AppData\\\\Local']"
      ]
     },
     "execution_count": 272,
     "metadata": {},
     "output_type": "execute_result"
    }
   ],
   "source": [
    "urll = \"C:\\\\Users\\\\hp\\\\AppData\\\\Local\"\n",
    "re.findall(r\"\\w:\\\\\\w+\\\\\\w+\\\\\\w+\\\\\\w+\",urll)"
   ]
  },
  {
   "cell_type": "code",
   "execution_count": 338,
   "id": "53adbd8d",
   "metadata": {},
   "outputs": [
    {
     "data": {
      "text/plain": [
       "['C:\\\\Users\\\\ \\nhp\\\\AppData\\\\Local']"
      ]
     },
     "execution_count": 338,
     "metadata": {},
     "output_type": "execute_result"
    }
   ],
   "source": [
    "urll = \"\"\"C:\\\\Users\\\\ \n",
    "hp\\\\AppData\\\\Local\"\"\"\n",
    "re.findall(\"\\w:+\\S.+\\s\\S+\",urll)"
   ]
  },
  {
   "cell_type": "code",
   "execution_count": 319,
   "id": "a64badea",
   "metadata": {},
   "outputs": [
    {
     "data": {
      "text/plain": [
       "['p://localhost:8888/notebooks/02.%20Velocity%20Class%20Notes']"
      ]
     },
     "execution_count": 319,
     "metadata": {},
     "output_type": "execute_result"
    }
   ],
   "source": [
    "link = \"http://localhost:8888/notebooks/02.%20Velocity%20Class%20Notes\"\n",
    "re.findall(\"\\w:.+\",link)"
   ]
  },
  {
   "cell_type": "code",
   "execution_count": 366,
   "id": "7862c6c6",
   "metadata": {},
   "outputs": [
    {
     "name": "stdout",
     "output_type": "stream",
     "text": [
      "['C:\\\\Users\\\\ ', 'hp\\\\AppData\\\\Local']\n"
     ]
    }
   ],
   "source": [
    "urll = \"\"\"C:\\\\Users\\\\ \n",
    "hp\\\\AppData\\\\Local\"\"\"\n",
    "\n",
    "a = re.findall(\"\\w:.+\",urll)\n",
    "b = re.findall(\"\\w.+Local$\",urll)\n",
    "print(a+b)"
   ]
  },
  {
   "cell_type": "code",
   "execution_count": 368,
   "id": "a9c14c93",
   "metadata": {},
   "outputs": [
    {
     "data": {
      "text/plain": [
       "['n']"
      ]
     },
     "execution_count": 368,
     "metadata": {},
     "output_type": "execute_result"
    }
   ],
   "source": [
    "text = \"\"\"Python\"\"\"\n",
    "res = re.findall(r\"n\\Z\",text)\n",
    "res"
   ]
  },
  {
   "cell_type": "code",
   "execution_count": 369,
   "id": "590c7fd2",
   "metadata": {},
   "outputs": [
    {
     "data": {
      "text/plain": [
       "['n']"
      ]
     },
     "execution_count": 369,
     "metadata": {},
     "output_type": "execute_result"
    }
   ],
   "source": [
    "text = \"\"\"Python\"\"\"\n",
    "res = re.findall(r\"n$\",text)\n",
    "res"
   ]
  },
  {
   "cell_type": "code",
   "execution_count": null,
   "id": "e83a4961",
   "metadata": {},
   "outputs": [],
   "source": []
  }
 ],
 "metadata": {
  "kernelspec": {
   "display_name": "Python 3 (ipykernel)",
   "language": "python",
   "name": "python3"
  },
  "language_info": {
   "codemirror_mode": {
    "name": "ipython",
    "version": 3
   },
   "file_extension": ".py",
   "mimetype": "text/x-python",
   "name": "python",
   "nbconvert_exporter": "python",
   "pygments_lexer": "ipython3",
   "version": "3.9.12"
  }
 },
 "nbformat": 4,
 "nbformat_minor": 5
}
