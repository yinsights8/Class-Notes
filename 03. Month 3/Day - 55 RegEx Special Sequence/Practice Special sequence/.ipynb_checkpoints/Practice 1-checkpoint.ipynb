{
 "cells": [
  {
   "cell_type": "markdown",
   "id": "0d76a112",
   "metadata": {},
   "source": [
    "## Special Sequences\n",
    "- \\d = [0-9]\n",
    "- \\D - [^ 0-9]\n",
    "- \\s - [ ] Spaces only\n",
    "- \\S - [^   ] except space, include all char\n",
    "- \\w - [a-zA-Z0-9] \n",
    "- \\W - [^ a-zA-Z0-9] except \\w include all char"
   ]
  },
  {
   "cell_type": "markdown",
   "id": "e34329bb",
   "metadata": {},
   "source": [
    "## \\b \n",
    "- It will help us to check for char at the start or end of the word\n",
    "- Returns a match where the specified characters are at the beginning or at the end of a word"
   ]
  },
  {
   "cell_type": "code",
   "execution_count": 1,
   "id": "addada72",
   "metadata": {},
   "outputs": [],
   "source": [
    "import re"
   ]
  },
  {
   "cell_type": "code",
   "execution_count": 2,
   "id": "8dcd9733",
   "metadata": {},
   "outputs": [
    {
     "data": {
      "text/plain": [
       "['Hello']"
      ]
     },
     "execution_count": 2,
     "metadata": {},
     "output_type": "execute_result"
    }
   ],
   "source": [
    "text = \"\"\"Hello\"\"\"\n",
    "check = re.findall(r\"\\b\\w{1,5}\",text)\n",
    "check"
   ]
  },
  {
   "cell_type": "code",
   "execution_count": 3,
   "id": "2a60c50c",
   "metadata": {},
   "outputs": [
    {
     "data": {
      "text/plain": [
       "['Hello']"
      ]
     },
     "execution_count": 3,
     "metadata": {},
     "output_type": "execute_result"
    }
   ],
   "source": [
    "text = \"\"\"Hello\"\"\"\n",
    "check = re.findall(r\"\\b\\w+\",text)\n",
    "check"
   ]
  },
  {
   "cell_type": "code",
   "execution_count": 4,
   "id": "b24acdc5",
   "metadata": {},
   "outputs": [
    {
     "data": {
      "text/plain": [
       "['HFGTR7656T', 'QWERT7856Y']"
      ]
     },
     "execution_count": 4,
     "metadata": {},
     "output_type": "execute_result"
    }
   ],
   "source": [
    "text = \"\"\"\n",
    "HFGTR7656T,\n",
    "Djklf4525o,\n",
    "safFD4152P,\n",
    "QWERT7856Y\n",
    "\n",
    "8768 6886 5995\n",
    "7685\n",
    "\"\"\"\n",
    "pan = re.findall(r\"\\b[A-Z]{5}\\d{4}[A-Z]\",text)\n",
    "pan"
   ]
  },
  {
   "cell_type": "code",
   "execution_count": 5,
   "id": "2f8f4268",
   "metadata": {},
   "outputs": [
    {
     "data": {
      "text/plain": [
       "['HFGTR7656T', 'Djklf4525o', 'safFD4152P', 'QWERT7856Y']"
      ]
     },
     "execution_count": 5,
     "metadata": {},
     "output_type": "execute_result"
    }
   ],
   "source": [
    "pan = re.findall(r\"\\b\\w{5}\\d{4}\\w\",text)\n",
    "pan"
   ]
  },
  {
   "cell_type": "code",
   "execution_count": 6,
   "id": "3c178391",
   "metadata": {},
   "outputs": [
    {
     "name": "stdout",
     "output_type": "stream",
     "text": [
      "['8768 6886 5995']\n"
     ]
    }
   ],
   "source": [
    "text = text = \"\"\"\n",
    "HFGTR7656T,\n",
    "Djklf4525o,\n",
    "safFD4152P,\n",
    "QWERT7856Y\n",
    "\n",
    "8768 6886 5995\n",
    "7685\n",
    "\"\"\"\n",
    "\n",
    "addhar = re.findall(r\"[0-9]{4}[ ][0-9]{4}[ ][0-9]{4}\",text)\n",
    "print(addhar)"
   ]
  },
  {
   "cell_type": "code",
   "execution_count": 7,
   "id": "902c5747",
   "metadata": {},
   "outputs": [
    {
     "name": "stdout",
     "output_type": "stream",
     "text": [
      "['8768 6886 5995']\n"
     ]
    }
   ],
   "source": [
    "addhar1 = re.findall(r\"\\b\\d{4}\\s\\d{4}\\s\\d{4}\\b\",text)\n",
    "print(addhar1)"
   ]
  },
  {
   "cell_type": "code",
   "execution_count": 21,
   "id": "3703968e",
   "metadata": {},
   "outputs": [
    {
     "data": {
      "text/plain": [
       "['7685688612']"
      ]
     },
     "execution_count": 21,
     "metadata": {},
     "output_type": "execute_result"
    }
   ],
   "source": [
    "text = text = \"\"\"\n",
    "HFGTR7656T,\n",
    "Djklf4525o,\n",
    "safFD4152P,\n",
    "QWERT7856Y\n",
    "\n",
    "8768 6886 5995\n",
    "7685688612\n",
    "\"\"\"\n",
    "\n",
    "phn = re.findall(r\"\\b\\d{10}\\b\",text)\n",
    "phn"
   ]
  },
  {
   "cell_type": "code",
   "execution_count": 24,
   "id": "5361620b",
   "metadata": {},
   "outputs": [
    {
     "name": "stdout",
     "output_type": "stream",
     "text": [
      "['8768', '6886', '5995', '7685']\n"
     ]
    }
   ],
   "source": [
    "adh = re.findall(r\"\\b\\d{4}\",text)\n",
    "print(adh)"
   ]
  },
  {
   "cell_type": "code",
   "execution_count": null,
   "id": "409076cf",
   "metadata": {},
   "outputs": [],
   "source": []
  }
 ],
 "metadata": {
  "kernelspec": {
   "display_name": "Python 3 (ipykernel)",
   "language": "python",
   "name": "python3"
  },
  "language_info": {
   "codemirror_mode": {
    "name": "ipython",
    "version": 3
   },
   "file_extension": ".py",
   "mimetype": "text/x-python",
   "name": "python",
   "nbconvert_exporter": "python",
   "pygments_lexer": "ipython3",
   "version": "3.9.12"
  }
 },
 "nbformat": 4,
 "nbformat_minor": 5
}
