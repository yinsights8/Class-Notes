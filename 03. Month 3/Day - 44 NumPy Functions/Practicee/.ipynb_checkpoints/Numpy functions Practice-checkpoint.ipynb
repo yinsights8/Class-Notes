{
 "cells": [
  {
   "cell_type": "code",
   "execution_count": 14,
   "id": "53d3bcb3",
   "metadata": {},
   "outputs": [
    {
     "name": "stdout",
     "output_type": "stream",
     "text": [
      "[[ 0  1  2  3  4]\n",
      " [ 5  6  7  8  9]\n",
      " [10 11 12 13 14]]\n",
      "3\n"
     ]
    }
   ],
   "source": [
    "import numpy as np\n",
    "\n",
    "a = np.arange(15)\n",
    "n = a.reshape(3,5)\n",
    "print(n)\n",
    "print(len(n))"
   ]
  },
  {
   "cell_type": "code",
   "execution_count": 5,
   "id": "6675ccac",
   "metadata": {},
   "outputs": [
    {
     "data": {
      "text/plain": [
       "([[1, 2, 3], [4, 5, 6]], [[7, 8, 9], [11, 12, 13]])"
      ]
     },
     "execution_count": 5,
     "metadata": {},
     "output_type": "execute_result"
    }
   ],
   "source": [
    "[[1,2,3], [4,5,6]], [[7,8,9], [11,12,13]]"
   ]
  },
  {
   "cell_type": "code",
   "execution_count": 11,
   "id": "7d80eb38",
   "metadata": {},
   "outputs": [
    {
     "name": "stdout",
     "output_type": "stream",
     "text": [
      "(2, 3)\n",
      "2\n"
     ]
    }
   ],
   "source": [
    "a1 = np.array([[7,8,9], [11,12,13]])\n",
    "print(a1.shape)\n",
    "print(len(a2))"
   ]
  },
  {
   "cell_type": "code",
   "execution_count": 10,
   "id": "67038fda",
   "metadata": {},
   "outputs": [
    {
     "name": "stdout",
     "output_type": "stream",
     "text": [
      "(2, 2, 3)\n",
      "2\n"
     ]
    }
   ],
   "source": [
    "a2 = np.array([[[1,2,3], [4,5,6]], [[7,8,9], [11,12,13]]])\n",
    "print(a2.shape)\n",
    "print(len(a2))"
   ]
  },
  {
   "cell_type": "code",
   "execution_count": null,
   "id": "88cc0e01",
   "metadata": {},
   "outputs": [],
   "source": []
  }
 ],
 "metadata": {
  "kernelspec": {
   "display_name": "Python 3 (ipykernel)",
   "language": "python",
   "name": "python3"
  },
  "language_info": {
   "codemirror_mode": {
    "name": "ipython",
    "version": 3
   },
   "file_extension": ".py",
   "mimetype": "text/x-python",
   "name": "python",
   "nbconvert_exporter": "python",
   "pygments_lexer": "ipython3",
   "version": "3.9.12"
  }
 },
 "nbformat": 4,
 "nbformat_minor": 5
}
