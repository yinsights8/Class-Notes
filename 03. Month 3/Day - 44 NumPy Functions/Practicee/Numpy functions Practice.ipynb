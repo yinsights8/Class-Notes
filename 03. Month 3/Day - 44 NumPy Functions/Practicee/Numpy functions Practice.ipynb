{
 "cells": [
  {
   "cell_type": "markdown",
   "id": "64b7ba7d",
   "metadata": {},
   "source": [
    "# axis = 0 --> column\n",
    "# axis = 1 --> row"
   ]
  },
  {
   "cell_type": "code",
   "execution_count": 26,
   "id": "ee7271e6",
   "metadata": {},
   "outputs": [
    {
     "data": {
      "text/plain": [
       "[1, 3, 5, 7, 9, 11, 13]"
      ]
     },
     "execution_count": 26,
     "metadata": {},
     "output_type": "execute_result"
    }
   ],
   "source": [
    "list(range(1,15,2))"
   ]
  },
  {
   "cell_type": "markdown",
   "id": "1c12af74",
   "metadata": {},
   "source": [
    "### np.arrange(start, stop, step)"
   ]
  },
  {
   "cell_type": "code",
   "execution_count": 1,
   "id": "e3e672dc",
   "metadata": {},
   "outputs": [
    {
     "data": {
      "text/plain": [
       "array([ 1,  3,  5,  7,  9, 11, 13])"
      ]
     },
     "execution_count": 1,
     "metadata": {},
     "output_type": "execute_result"
    }
   ],
   "source": [
    "import numpy as np\n",
    "\n",
    "a = np.arange(1,15,2,dtype=int)\n",
    "a"
   ]
  },
  {
   "cell_type": "code",
   "execution_count": 42,
   "id": "8520c2f5",
   "metadata": {},
   "outputs": [
    {
     "name": "stdout",
     "output_type": "stream",
     "text": [
      "[ 1.  2.  3.  4.  5.  6.  7.  8.  9. 10. 11. 12. 13. 14.]\n",
      "[14. 13. 12. 11. 10.  9.  8.  7.  6.  5.  4.  3.  2.  1.]\n",
      "\n",
      "list of an array:-  [14.0, 13.0, 12.0, 11.0, 10.0, 9.0, 8.0, 7.0, 6.0, 5.0, 4.0, 3.0, 2.0, 1.0]\n"
     ]
    }
   ],
   "source": [
    "a = np.arange(1,15,2/2)\n",
    "print(a)\n",
    "print(a[::-1])\n",
    "print()\n",
    "print(\"list of an array:- \",list(reversed(a)))"
   ]
  },
  {
   "cell_type": "code",
   "execution_count": 36,
   "id": "27fc868f",
   "metadata": {},
   "outputs": [
    {
     "data": {
      "text/plain": [
       "array([15, 14, 13, 12, 11, 10,  9,  8,  7,  6,  5,  4,  3,  2])"
      ]
     },
     "execution_count": 36,
     "metadata": {},
     "output_type": "execute_result"
    }
   ],
   "source": [
    "a1 = np.arange(15,1,-1)\n",
    "a1"
   ]
  },
  {
   "cell_type": "markdown",
   "id": "0af35c1e",
   "metadata": {},
   "source": [
    "### np.linspace()\n",
    "- np.linspace(start, stop, num=50, endpoint=True, retstep=False, dtype=None, axis=0)"
   ]
  },
  {
   "cell_type": "code",
   "execution_count": 51,
   "id": "ff4d7ab4",
   "metadata": {},
   "outputs": [
    {
     "name": "stdout",
     "output_type": "stream",
     "text": [
      "[ 1.          1.3877551   1.7755102   2.16326531  2.55102041  2.93877551\n",
      "  3.32653061  3.71428571  4.10204082  4.48979592  4.87755102  5.26530612\n",
      "  5.65306122  6.04081633  6.42857143  6.81632653  7.20408163  7.59183673\n",
      "  7.97959184  8.36734694  8.75510204  9.14285714  9.53061224  9.91836735\n",
      " 10.30612245 10.69387755 11.08163265 11.46938776 11.85714286 12.24489796\n",
      " 12.63265306 13.02040816 13.40816327 13.79591837 14.18367347 14.57142857\n",
      " 14.95918367 15.34693878 15.73469388 16.12244898 16.51020408 16.89795918\n",
      " 17.28571429 17.67346939 18.06122449 18.44897959 18.83673469 19.2244898\n",
      " 19.6122449  20.        ] \n",
      "\n",
      "total numbers of equally spaced are:  50\n"
     ]
    }
   ],
   "source": [
    "lin = np.linspace(1,20)\n",
    "print(lin,\"\\n\")\n",
    "print(\"total numbers of equally spaced are: \",len(lin))"
   ]
  },
  {
   "cell_type": "code",
   "execution_count": 55,
   "id": "e0820075",
   "metadata": {},
   "outputs": [
    {
     "name": "stdout",
     "output_type": "stream",
     "text": [
      "(array([ 0.,  2.,  4.,  6.,  8., 10., 12., 14., 16., 18.]), 2.0) \n",
      "\n",
      "total numbers of equally spaced are:  2\n"
     ]
    }
   ],
   "source": [
    "lin1 = np.linspace(0, 20, num=10, endpoint=False, retstep=True)\n",
    "print(lin1,\"\\n\")\n",
    "print(\"total numbers of equally spaced are: \",len(lin1))"
   ]
  },
  {
   "cell_type": "code",
   "execution_count": 60,
   "id": "bbb9eb09",
   "metadata": {},
   "outputs": [
    {
     "name": "stdout",
     "output_type": "stream",
     "text": [
      "(array([ 0.        ,  0.83333333,  1.66666667,  2.5       ,  3.33333333,\n",
      "        4.16666667,  5.        ,  5.83333333,  6.66666667,  7.5       ,\n",
      "        8.33333333,  9.16666667, 10.        , 10.83333333, 11.66666667,\n",
      "       12.5       , 13.33333333, 14.16666667, 15.        , 15.83333333,\n",
      "       16.66666667, 17.5       , 18.33333333, 19.16666667, 20.        ]), 0.8333333333333334)\n"
     ]
    }
   ],
   "source": [
    "evenly_spaced = np.linspace(0,20, num= 25, retstep=True)\n",
    "print(evenly_spaced)"
   ]
  },
  {
   "cell_type": "code",
   "execution_count": 3,
   "id": "e990f38c",
   "metadata": {},
   "outputs": [
    {
     "name": "stdout",
     "output_type": "stream",
     "text": [
      "(array([ 0.        ,  1.72413793,  3.44827586,  5.17241379,  6.89655172,\n",
      "        8.62068966, 10.34482759, 12.06896552, 13.79310345, 15.51724138,\n",
      "       17.24137931, 18.96551724, 20.68965517, 22.4137931 , 24.13793103,\n",
      "       25.86206897, 27.5862069 , 29.31034483, 31.03448276, 32.75862069,\n",
      "       34.48275862, 36.20689655, 37.93103448, 39.65517241, 41.37931034,\n",
      "       43.10344828, 44.82758621, 46.55172414, 48.27586207, 50.        ]), 1.7241379310344827)\n"
     ]
    }
   ],
   "source": [
    "lin = np.linspace(0,50,num=30,retstep=True)\n",
    "print(lin)"
   ]
  },
  {
   "cell_type": "code",
   "execution_count": 14,
   "id": "ce3cca35",
   "metadata": {},
   "outputs": [
    {
     "name": "stdout",
     "output_type": "stream",
     "text": [
      "(array([50.        , 47.36842105, 44.73684211, 42.10526316, 39.47368421,\n",
      "       36.84210526, 34.21052632, 31.57894737, 28.94736842, 26.31578947,\n",
      "       23.68421053, 21.05263158, 18.42105263, 15.78947368, 13.15789474,\n",
      "       10.52631579,  7.89473684,  5.26315789,  2.63157895,  0.        ]), -2.6315789473684212)\n"
     ]
    }
   ],
   "source": [
    "lin = np.linspace(50,0, num=20, retstep=True)\n",
    "print(lin)"
   ]
  },
  {
   "cell_type": "code",
   "execution_count": 10,
   "id": "10e43f27",
   "metadata": {},
   "outputs": [
    {
     "data": {
      "text/plain": [
       "2.5"
      ]
     },
     "execution_count": 10,
     "metadata": {},
     "output_type": "execute_result"
    }
   ],
   "source": [
    "50-47.5"
   ]
  },
  {
   "cell_type": "code",
   "execution_count": 11,
   "id": "cf5fa652",
   "metadata": {},
   "outputs": [
    {
     "data": {
      "text/plain": [
       "2.5"
      ]
     },
     "execution_count": 11,
     "metadata": {},
     "output_type": "execute_result"
    }
   ],
   "source": [
    "47.5-45"
   ]
  },
  {
   "cell_type": "code",
   "execution_count": 13,
   "id": "a9f3c4f5",
   "metadata": {},
   "outputs": [
    {
     "data": {
      "text/plain": [
       "2.5"
      ]
     },
     "execution_count": 13,
     "metadata": {},
     "output_type": "execute_result"
    }
   ],
   "source": [
    " 40. - 37.5"
   ]
  },
  {
   "cell_type": "markdown",
   "id": "136ae421",
   "metadata": {},
   "source": [
    "## eye(shape, dtype)"
   ]
  },
  {
   "cell_type": "code",
   "execution_count": 28,
   "id": "d22496f8",
   "metadata": {},
   "outputs": [
    {
     "data": {
      "text/plain": [
       "array([[1., 0., 0., 0., 0.],\n",
       "       [0., 1., 0., 0., 0.],\n",
       "       [0., 0., 1., 0., 0.],\n",
       "       [0., 0., 0., 1., 0.],\n",
       "       [0., 0., 0., 0., 1.]])"
      ]
     },
     "execution_count": 28,
     "metadata": {},
     "output_type": "execute_result"
    }
   ],
   "source": [
    "arr = np.eye(5)\n",
    "arr"
   ]
  },
  {
   "cell_type": "code",
   "execution_count": 32,
   "id": "18b4b2ae",
   "metadata": {},
   "outputs": [
    {
     "data": {
      "text/plain": [
       "array([[1., 0., 0., 0.],\n",
       "       [0., 1., 0., 0.],\n",
       "       [0., 0., 1., 0.],\n",
       "       [0., 0., 0., 1.],\n",
       "       [0., 0., 0., 0.]])"
      ]
     },
     "execution_count": 32,
     "metadata": {},
     "output_type": "execute_result"
    }
   ],
   "source": [
    "ar = np.eye(5,4)\n",
    "ar"
   ]
  },
  {
   "cell_type": "code",
   "execution_count": 34,
   "id": "51937228",
   "metadata": {},
   "outputs": [
    {
     "data": {
      "text/plain": [
       "array([[0., 0., 0.],\n",
       "       [1., 0., 0.],\n",
       "       [0., 1., 0.],\n",
       "       [0., 0., 1.]])"
      ]
     },
     "execution_count": 34,
     "metadata": {},
     "output_type": "execute_result"
    }
   ],
   "source": [
    "ar = np.eye(4,3, k=-1)\n",
    "ar"
   ]
  },
  {
   "cell_type": "code",
   "execution_count": 37,
   "id": "27bd0c30",
   "metadata": {},
   "outputs": [
    {
     "name": "stdout",
     "output_type": "stream",
     "text": [
      "[[1 0 0 0 0]\n",
      " [0 1 0 0 0]\n",
      " [0 0 1 0 0]]\n"
     ]
    }
   ],
   "source": [
    "ar = np.eye(3,5,dtype=int)\n",
    "print(ar)"
   ]
  },
  {
   "cell_type": "markdown",
   "id": "2bcb5553",
   "metadata": {},
   "source": [
    "## identity()"
   ]
  },
  {
   "cell_type": "code",
   "execution_count": 39,
   "id": "72898e0a",
   "metadata": {},
   "outputs": [
    {
     "name": "stdout",
     "output_type": "stream",
     "text": [
      "[[1. 0. 0.]\n",
      " [0. 1. 0.]\n",
      " [0. 0. 1.]]\n"
     ]
    }
   ],
   "source": [
    "ar = np.identity(3)\n",
    "print(ar)"
   ]
  },
  {
   "cell_type": "code",
   "execution_count": 40,
   "id": "87693140",
   "metadata": {},
   "outputs": [
    {
     "ename": "TypeError",
     "evalue": "Cannot interpret '2' as a data type",
     "output_type": "error",
     "traceback": [
      "\u001b[1;31m---------------------------------------------------------------------------\u001b[0m",
      "\u001b[1;31mTypeError\u001b[0m                                 Traceback (most recent call last)",
      "Input \u001b[1;32mIn [40]\u001b[0m, in \u001b[0;36m<cell line: 1>\u001b[1;34m()\u001b[0m\n\u001b[1;32m----> 1\u001b[0m ar \u001b[38;5;241m=\u001b[39m \u001b[43mnp\u001b[49m\u001b[38;5;241;43m.\u001b[39;49m\u001b[43midentity\u001b[49m\u001b[43m(\u001b[49m\u001b[38;5;241;43m3\u001b[39;49m\u001b[43m,\u001b[49m\u001b[38;5;241;43m2\u001b[39;49m\u001b[43m)\u001b[49m\n",
      "File \u001b[1;32m~\\anaconda3\\lib\\site-packages\\numpy\\core\\numeric.py:2167\u001b[0m, in \u001b[0;36midentity\u001b[1;34m(n, dtype, like)\u001b[0m\n\u001b[0;32m   2164\u001b[0m     \u001b[38;5;28;01mreturn\u001b[39;00m _identity_with_like(n, dtype\u001b[38;5;241m=\u001b[39mdtype, like\u001b[38;5;241m=\u001b[39mlike)\n\u001b[0;32m   2166\u001b[0m \u001b[38;5;28;01mfrom\u001b[39;00m \u001b[38;5;21;01mnumpy\u001b[39;00m \u001b[38;5;28;01mimport\u001b[39;00m eye\n\u001b[1;32m-> 2167\u001b[0m \u001b[38;5;28;01mreturn\u001b[39;00m \u001b[43meye\u001b[49m\u001b[43m(\u001b[49m\u001b[43mn\u001b[49m\u001b[43m,\u001b[49m\u001b[43m \u001b[49m\u001b[43mdtype\u001b[49m\u001b[38;5;241;43m=\u001b[39;49m\u001b[43mdtype\u001b[49m\u001b[43m,\u001b[49m\u001b[43m \u001b[49m\u001b[43mlike\u001b[49m\u001b[38;5;241;43m=\u001b[39;49m\u001b[43mlike\u001b[49m\u001b[43m)\u001b[49m\n",
      "File \u001b[1;32m~\\anaconda3\\lib\\site-packages\\numpy\\lib\\twodim_base.py:214\u001b[0m, in \u001b[0;36meye\u001b[1;34m(N, M, k, dtype, order, like)\u001b[0m\n\u001b[0;32m    212\u001b[0m \u001b[38;5;28;01mif\u001b[39;00m M \u001b[38;5;129;01mis\u001b[39;00m \u001b[38;5;28;01mNone\u001b[39;00m:\n\u001b[0;32m    213\u001b[0m     M \u001b[38;5;241m=\u001b[39m N\n\u001b[1;32m--> 214\u001b[0m m \u001b[38;5;241m=\u001b[39m \u001b[43mzeros\u001b[49m\u001b[43m(\u001b[49m\u001b[43m(\u001b[49m\u001b[43mN\u001b[49m\u001b[43m,\u001b[49m\u001b[43m \u001b[49m\u001b[43mM\u001b[49m\u001b[43m)\u001b[49m\u001b[43m,\u001b[49m\u001b[43m \u001b[49m\u001b[43mdtype\u001b[49m\u001b[38;5;241;43m=\u001b[39;49m\u001b[43mdtype\u001b[49m\u001b[43m,\u001b[49m\u001b[43m \u001b[49m\u001b[43morder\u001b[49m\u001b[38;5;241;43m=\u001b[39;49m\u001b[43morder\u001b[49m\u001b[43m)\u001b[49m\n\u001b[0;32m    215\u001b[0m \u001b[38;5;28;01mif\u001b[39;00m k \u001b[38;5;241m>\u001b[39m\u001b[38;5;241m=\u001b[39m M:\n\u001b[0;32m    216\u001b[0m     \u001b[38;5;28;01mreturn\u001b[39;00m m\n",
      "\u001b[1;31mTypeError\u001b[0m: Cannot interpret '2' as a data type"
     ]
    }
   ],
   "source": [
    "ar = np.identity(3,2)"
   ]
  },
  {
   "cell_type": "markdown",
   "id": "da6ebd75",
   "metadata": {},
   "source": [
    "# random"
   ]
  },
  {
   "cell_type": "markdown",
   "id": "d4c28a41",
   "metadata": {},
   "source": [
    "### 1. rand()"
   ]
  },
  {
   "cell_type": "code",
   "execution_count": 43,
   "id": "3b9cfb20",
   "metadata": {},
   "outputs": [
    {
     "name": "stdout",
     "output_type": "stream",
     "text": [
      "[0.27875525 0.02498534 0.01513156 0.13577076 0.45853758 0.11404124\n",
      " 0.31664796 0.16370474 0.50556405 0.27083689]\n"
     ]
    }
   ],
   "source": [
    "rn = np.random.rand(10)\n",
    "print(rn)"
   ]
  },
  {
   "cell_type": "code",
   "execution_count": 45,
   "id": "786ea535",
   "metadata": {},
   "outputs": [
    {
     "name": "stdout",
     "output_type": "stream",
     "text": [
      "[[[0.06845188 0.75313198 0.98267325 0.45902869 0.95676029 0.20102852\n",
      "   0.97092374 0.3155676  0.21980401 0.88398268 0.93526237 0.41070765\n",
      "   0.12167965 0.34731147 0.35784403 0.47617144 0.96192036 0.92217931\n",
      "   0.29866546 0.75644165]]\n",
      "\n",
      " [[0.49696854 0.7365291  0.493256   0.05899972 0.20917198 0.24474791\n",
      "   0.13361668 0.89956692 0.08307227 0.50456238 0.30894707 0.1986204\n",
      "   0.53278736 0.16632461 0.39452837 0.22588718 0.26523805 0.83401658\n",
      "   0.01736854 0.2617145 ]]]\n"
     ]
    }
   ],
   "source": [
    "r = np.random.rand(2,1,20)\n",
    "print(r)"
   ]
  },
  {
   "cell_type": "markdown",
   "id": "da639b36",
   "metadata": {},
   "source": [
    "### random.randint()"
   ]
  },
  {
   "cell_type": "code",
   "execution_count": 61,
   "id": "14b6b6b1",
   "metadata": {},
   "outputs": [
    {
     "data": {
      "text/plain": [
       "6"
      ]
     },
     "execution_count": 61,
     "metadata": {},
     "output_type": "execute_result"
    }
   ],
   "source": [
    "arr = np.random.randint(10)\n",
    "arr"
   ]
  },
  {
   "cell_type": "code",
   "execution_count": 79,
   "id": "6d61234e",
   "metadata": {},
   "outputs": [
    {
     "name": "stdout",
     "output_type": "stream",
     "text": [
      "9\n"
     ]
    }
   ],
   "source": [
    "ar = np.random.randint(1,10)\n",
    "print(ar)"
   ]
  },
  {
   "cell_type": "code",
   "execution_count": 84,
   "id": "32bc7aa9",
   "metadata": {},
   "outputs": [
    {
     "name": "stdout",
     "output_type": "stream",
     "text": [
      "[[[14  2 12 12]\n",
      "  [ 5 12 12  2]\n",
      "  [ 7 10  6 10]]\n",
      "\n",
      " [[ 4 12 10  2]\n",
      "  [12  2  6 11]\n",
      "  [13  3  8 14]]\n",
      "\n",
      " [[ 1  7 12  2]\n",
      "  [ 4  3  3 12]\n",
      "  [ 2 14 11  7]]]\n"
     ]
    }
   ],
   "source": [
    "ar = np.random.randint(1,15,size=[3,3,4])\n",
    "print(ar)"
   ]
  },
  {
   "cell_type": "code",
   "execution_count": 86,
   "id": "7de3436d",
   "metadata": {},
   "outputs": [
    {
     "name": "stdout",
     "output_type": "stream",
     "text": [
      "[[[ 9 16]\n",
      "  [ 3  7]]\n",
      "\n",
      " [[ 1  8]\n",
      "  [19  8]]]\n"
     ]
    }
   ],
   "source": [
    "a = np.random.randint(0,20,size= (2,2,2))\n",
    "print(a)"
   ]
  },
  {
   "cell_type": "code",
   "execution_count": null,
   "id": "ce4bcc69",
   "metadata": {},
   "outputs": [],
   "source": []
  },
  {
   "cell_type": "code",
   "execution_count": 90,
   "id": "df32ccae",
   "metadata": {},
   "outputs": [
    {
     "data": {
      "text/plain": [
       "array([[ 3, 14,  9, 14,  7],\n",
       "       [ 4, 10,  5, 16,  3],\n",
       "       [11, 10, 14, 13,  5],\n",
       "       [13, 13,  6, 13, 16],\n",
       "       [18,  1, 15,  5,  5]])"
      ]
     },
     "execution_count": 90,
     "metadata": {},
     "output_type": "execute_result"
    }
   ],
   "source": [
    "squre = np.random.randint(1,20,size=(5,5))\n",
    "squre"
   ]
  },
  {
   "cell_type": "markdown",
   "id": "f736ec20",
   "metadata": {},
   "source": [
    "### 3. randn()\n",
    "- it returns the values which are normally distributed\n",
    "- mean 0 and varience 1"
   ]
  },
  {
   "cell_type": "code",
   "execution_count": 91,
   "id": "f8927f01",
   "metadata": {},
   "outputs": [
    {
     "data": {
      "text/plain": [
       "array([ 0.6620394 , -1.07338461,  1.81828171,  1.98344363,  0.7813989 ])"
      ]
     },
     "execution_count": 91,
     "metadata": {},
     "output_type": "execute_result"
    }
   ],
   "source": [
    "r = np.random.randn(5)\n",
    "r"
   ]
  },
  {
   "cell_type": "code",
   "execution_count": 108,
   "id": "d8b0b50d",
   "metadata": {},
   "outputs": [
    {
     "data": {
      "text/plain": [
       "array([[-0.2425116 , -1.27910568, -0.50213403, -0.03310773,  0.46973076],\n",
       "       [ 1.78072086, -0.52302082,  1.65213093, -0.73326342, -0.4062294 ],\n",
       "       [ 0.00996246, -0.21918491, -0.19187204, -0.11479776,  0.5625433 ],\n",
       "       [ 2.2552123 , -0.20777915,  0.52786718,  1.03119209,  0.35967026],\n",
       "       [ 1.17644165, -1.07484714,  0.01255328, -0.15401733,  0.06457658]])"
      ]
     },
     "execution_count": 108,
     "metadata": {},
     "output_type": "execute_result"
    }
   ],
   "source": [
    "ar = np.random.randn(5,5)\n",
    "ar"
   ]
  },
  {
   "cell_type": "code",
   "execution_count": 109,
   "id": "b045a62c",
   "metadata": {},
   "outputs": [
    {
     "name": "stdout",
     "output_type": "stream",
     "text": [
      "5\n",
      "[-0.2425116  -1.27910568 -0.50213403 -0.03310773  0.46973076] The size is:  5\n",
      "[ 1.78072086 -0.52302082  1.65213093 -0.73326342 -0.4062294 ] The size is:  5\n",
      "[ 0.00996246 -0.21918491 -0.19187204 -0.11479776  0.5625433 ] The size is:  5\n",
      "[ 2.2552123  -0.20777915  0.52786718  1.03119209  0.35967026] The size is:  5\n",
      "[ 1.17644165 -1.07484714  0.01255328 -0.15401733  0.06457658] The size is:  5\n"
     ]
    }
   ],
   "source": [
    "print(len(ar))\n",
    "for i in ar:\n",
    "    print(i, \"The size is: \",np.size(i))"
   ]
  },
  {
   "cell_type": "code",
   "execution_count": 110,
   "id": "efba61cd",
   "metadata": {},
   "outputs": [
    {
     "name": "stdout",
     "output_type": "stream",
     "text": [
      "-0.24251160291630258\n",
      "-1.2791056759968695\n",
      "-0.5021340285529575\n",
      "-0.03310773313234392\n",
      "0.46973075816477333\n",
      "1.7807208628486189\n",
      "-0.5230208191692022\n",
      "1.6521309335503143\n",
      "-0.7332634243565961\n",
      "-0.40622939671740055\n",
      "0.009962459911710336\n",
      "-0.2191849107562699\n",
      "-0.19187203914783685\n",
      "-0.11479775820085701\n",
      "0.56254329543766\n",
      "2.2552123026495905\n",
      "-0.2077791543566665\n",
      "0.5278671816511352\n",
      "1.031192086437841\n",
      "0.3596702631081597\n",
      "1.176441654406872\n",
      "-1.0748471424204213\n",
      "0.01255328272220987\n",
      "-0.15401733276023324\n",
      "0.06457658168150657\n"
     ]
    }
   ],
   "source": [
    "for i in np.nditer(ar):\n",
    "    print(i)"
   ]
  },
  {
   "cell_type": "markdown",
   "id": "b5f9d97d",
   "metadata": {},
   "source": [
    "## Three Dimensions"
   ]
  },
  {
   "cell_type": "code",
   "execution_count": 4,
   "id": "7e7d3f1b",
   "metadata": {},
   "outputs": [
    {
     "name": "stdout",
     "output_type": "stream",
     "text": [
      "[[[-1.76598323  0.38275941 -0.14655545]\n",
      "  [ 0.2453827  -0.16935026 -2.21574124]\n",
      "  [ 0.06257239  0.36861356  0.06012074]]\n",
      "\n",
      " [[ 0.27993187 -0.02210268  0.07216881]\n",
      "  [-1.78401242 -0.89945555  1.84450408]\n",
      "  [-0.39505333  0.42145072 -0.60327606]]\n",
      "\n",
      " [[-0.64702221  1.140452   -0.40427182]\n",
      "  [-1.84972617 -0.55343918 -0.01634733]\n",
      "  [-1.08139102 -1.36732521  1.06329998]]]\n",
      "Dimensions of an array;- 3\n",
      "length of an array:- 3\n",
      "size of an array:- 27\n"
     ]
    }
   ],
   "source": [
    "arr = np.random.randn(3,3,3)\n",
    "print(arr)\n",
    "print(f\"Dimensions of an array;- {np.ndim(arr)}\")\n",
    "print(f\"length of an array:- {len(arr)}\")\n",
    "print(f\"size of an array:- {np.size(arr)}\")"
   ]
  },
  {
   "cell_type": "code",
   "execution_count": 3,
   "id": "dad8d94f",
   "metadata": {},
   "outputs": [
    {
     "name": "stdout",
     "output_type": "stream",
     "text": [
      "-1.722215104568594\n",
      "1.2088367483034559\n",
      "0.1454776062871773\n",
      "-1.9505922753626879\n",
      "0.8771581620423591\n",
      "-1.5421750585175111\n",
      "-0.5780928869604759\n",
      "0.3931032251410268\n",
      "0.418699809113353\n",
      "-0.425777949950692\n",
      "0.06961892999062294\n",
      "-1.4110208764605705\n",
      "0.3400778348541057\n",
      "0.3577900120961334\n",
      "-1.2973408847876955\n",
      "0.4407330945493358\n",
      "-1.01408699739082\n",
      "-0.44331357727859927\n",
      "0.4730287564299085\n",
      "-0.8017834640915259\n",
      "1.0591147325964145\n",
      "0.37123500328542275\n",
      "1.484106732178114\n",
      "0.4840564997709862\n",
      "1.632227343403569\n",
      "-0.5335310157957931\n",
      "1.279212123349484\n"
     ]
    }
   ],
   "source": [
    "for i in np.nditer(arr):\n",
    "    print(i)"
   ]
  },
  {
   "cell_type": "markdown",
   "id": "f54250d3",
   "metadata": {},
   "source": [
    "## np.random.ranf()"
   ]
  },
  {
   "cell_type": "code",
   "execution_count": 8,
   "id": "90838b02",
   "metadata": {},
   "outputs": [
    {
     "data": {
      "text/plain": [
       "array([0.84420086, 0.42116705, 0.82019084, 0.74070312, 0.30152039])"
      ]
     },
     "execution_count": 8,
     "metadata": {},
     "output_type": "execute_result"
    }
   ],
   "source": [
    "ran = np.random.ranf(5)\n",
    "ran"
   ]
  },
  {
   "cell_type": "code",
   "execution_count": 21,
   "id": "fd3a4465",
   "metadata": {},
   "outputs": [
    {
     "name": "stdout",
     "output_type": "stream",
     "text": [
      "[[0.60237974 0.88479749 0.6155852  0.32433495 0.59260378]\n",
      " [0.87811671 0.84124168 0.415975   0.36710595 0.8134948 ]\n",
      " [0.5066296  0.37310153 0.17275426 0.61789286 0.15239882]\n",
      " [0.8127833  0.04236134 0.97918911 0.63396914 0.04595546]\n",
      " [0.65889982 0.32011256 0.34415785 0.08847613 0.61471981]]\n"
     ]
    }
   ],
   "source": [
    "# [0,0, 1.0)\n",
    "ra = np.random.ranf((5,5))\n",
    "print(ra)"
   ]
  },
  {
   "cell_type": "code",
   "execution_count": 43,
   "id": "4179b873",
   "metadata": {},
   "outputs": [
    {
     "name": "stdout",
     "output_type": "stream",
     "text": [
      "[[0.97269469 0.89873603 0.52724855 0.45243788 0.06308878]\n",
      " [0.46052066 0.44974756 0.90059007 0.41395166 0.93135533]\n",
      " [0.02288397 0.93437722 0.90483602 0.20982028 0.77527096]\n",
      " [0.85194304 0.55476831 0.17329267 0.20600318 0.85178704]\n",
      " [0.8243856  0.52056094 0.97530056 0.67157714 0.15516211]]\n"
     ]
    }
   ],
   "source": [
    "t = np.random.rand(5,5)\n",
    "\n",
    "print(t)"
   ]
  },
  {
   "cell_type": "code",
   "execution_count": 23,
   "id": "6d018866",
   "metadata": {},
   "outputs": [
    {
     "name": "stdout",
     "output_type": "stream",
     "text": [
      "[0.17952005 0.09957706 0.34597658 0.89579376 0.47556704]\n"
     ]
    }
   ],
   "source": [
    "r = np.random.ranf(5)\n",
    "print(r)"
   ]
  },
  {
   "cell_type": "code",
   "execution_count": 40,
   "id": "501d6807",
   "metadata": {},
   "outputs": [
    {
     "name": "stdout",
     "output_type": "stream",
     "text": [
      "[[0.27415865 0.09211303]\n",
      " [0.07104729 0.16133728]\n",
      " [0.44335708 0.21838233]\n",
      " [0.93704378 0.96147037]\n",
      " [0.04892182 0.65966861]]\n"
     ]
    }
   ],
   "source": [
    "r2 = np.random.ranf([5,2])\n",
    "print(r2)"
   ]
  },
  {
   "cell_type": "code",
   "execution_count": 41,
   "id": "1f2486f8",
   "metadata": {},
   "outputs": [
    {
     "ename": "TypeError",
     "evalue": "'list' object cannot be interpreted as an integer",
     "output_type": "error",
     "traceback": [
      "\u001b[1;31m---------------------------------------------------------------------------\u001b[0m",
      "\u001b[1;31mTypeError\u001b[0m                                 Traceback (most recent call last)",
      "Input \u001b[1;32mIn [41]\u001b[0m, in \u001b[0;36m<cell line: 1>\u001b[1;34m()\u001b[0m\n\u001b[1;32m----> 1\u001b[0m r2 \u001b[38;5;241m=\u001b[39m \u001b[43mnp\u001b[49m\u001b[38;5;241;43m.\u001b[39;49m\u001b[43mrandom\u001b[49m\u001b[38;5;241;43m.\u001b[39;49m\u001b[43mranf\u001b[49m\u001b[43m(\u001b[49m\u001b[43m[\u001b[49m\u001b[43m[\u001b[49m\u001b[38;5;241;43m5\u001b[39;49m\u001b[43m,\u001b[49m\u001b[38;5;241;43m2\u001b[39;49m\u001b[43m]\u001b[49m\u001b[43m,\u001b[49m\u001b[43m[\u001b[49m\u001b[38;5;241;43m5\u001b[39;49m\u001b[43m,\u001b[49m\u001b[38;5;241;43m2\u001b[39;49m\u001b[43m]\u001b[49m\u001b[43m]\u001b[49m\u001b[43m)\u001b[49m\n\u001b[0;32m      2\u001b[0m \u001b[38;5;28mprint\u001b[39m(r2)\n",
      "File \u001b[1;32mmtrand.pyx:4674\u001b[0m, in \u001b[0;36mnumpy.random.mtrand.ranf\u001b[1;34m()\u001b[0m\n",
      "File \u001b[1;32mmtrand.pyx:425\u001b[0m, in \u001b[0;36mnumpy.random.mtrand.RandomState.random_sample\u001b[1;34m()\u001b[0m\n",
      "File \u001b[1;32m_common.pyx:291\u001b[0m, in \u001b[0;36mnumpy.random._common.double_fill\u001b[1;34m()\u001b[0m\n",
      "\u001b[1;31mTypeError\u001b[0m: 'list' object cannot be interpreted as an integer"
     ]
    }
   ],
   "source": [
    "r2 = np.random.ranf([[5,2],[5,2]])\n",
    "print(r2)"
   ]
  },
  {
   "cell_type": "code",
   "execution_count": 26,
   "id": "91028edf",
   "metadata": {},
   "outputs": [
    {
     "name": "stdout",
     "output_type": "stream",
     "text": [
      "[0.56790417 0.07164845 0.89291898 0.97344521 0.93043845]\n"
     ]
    }
   ],
   "source": [
    "rand1 = np.random.rand(5)\n",
    "print(rand1)"
   ]
  },
  {
   "cell_type": "code",
   "execution_count": 36,
   "id": "67e7f6d9",
   "metadata": {},
   "outputs": [
    {
     "name": "stdout",
     "output_type": "stream",
     "text": [
      "[[[0.83020502 0.88781277]\n",
      "  [0.10994947 0.27706936]\n",
      "  [0.77387155 0.44990212]\n",
      "  [0.22220121 0.89316032]\n",
      "  [0.21999093 0.02670416]]\n",
      "\n",
      " [[0.49939729 0.35958801]\n",
      "  [0.21665328 0.94797967]\n",
      "  [0.47732207 0.94445563]\n",
      "  [0.73439827 0.14385966]\n",
      "  [0.12948935 0.96232401]]\n",
      "\n",
      " [[0.4161989  0.74450942]\n",
      "  [0.69029843 0.44610066]\n",
      "  [0.84564705 0.87844061]\n",
      "  [0.40968481 0.53125899]\n",
      "  [0.82146303 0.12695388]]]\n"
     ]
    }
   ],
   "source": [
    "rand2 = np.random.rand(3,5,2)\n",
    "print(rand2)"
   ]
  },
  {
   "cell_type": "code",
   "execution_count": null,
   "id": "8e707afb",
   "metadata": {},
   "outputs": [],
   "source": []
  },
  {
   "cell_type": "markdown",
   "id": "947e1177",
   "metadata": {},
   "source": [
    "## np.append()"
   ]
  },
  {
   "cell_type": "code",
   "execution_count": 57,
   "id": "789bdfec",
   "metadata": {},
   "outputs": [
    {
     "ename": "ValueError",
     "evalue": "cannot reshape array of size 9 into shape (3,2)",
     "output_type": "error",
     "traceback": [
      "\u001b[1;31m---------------------------------------------------------------------------\u001b[0m",
      "\u001b[1;31mValueError\u001b[0m                                Traceback (most recent call last)",
      "Input \u001b[1;32mIn [57]\u001b[0m, in \u001b[0;36m<cell line: 3>\u001b[1;34m()\u001b[0m\n\u001b[0;32m      1\u001b[0m ar \u001b[38;5;241m=\u001b[39m np\u001b[38;5;241m.\u001b[39marange(\u001b[38;5;241m1\u001b[39m,\u001b[38;5;241m10\u001b[39m)\n\u001b[0;32m      2\u001b[0m n1 \u001b[38;5;241m=\u001b[39m ar\u001b[38;5;241m.\u001b[39mreshape(\u001b[38;5;241m3\u001b[39m,\u001b[38;5;241m3\u001b[39m)\n\u001b[1;32m----> 3\u001b[0m n2 \u001b[38;5;241m=\u001b[39m \u001b[43mar\u001b[49m\u001b[38;5;241;43m.\u001b[39;49m\u001b[43mreshape\u001b[49m\u001b[43m(\u001b[49m\u001b[38;5;241;43m3\u001b[39;49m\u001b[43m,\u001b[49m\u001b[38;5;241;43m2\u001b[39;49m\u001b[43m)\u001b[49m\n\u001b[0;32m      5\u001b[0m n3 \u001b[38;5;241m=\u001b[39m np\u001b[38;5;241m.\u001b[39mappend(n1,n2)\n\u001b[0;32m      6\u001b[0m \u001b[38;5;28mprint\u001b[39m(n3)\n",
      "\u001b[1;31mValueError\u001b[0m: cannot reshape array of size 9 into shape (3,2)"
     ]
    }
   ],
   "source": [
    "ar = np.arange(1,10)\n",
    "n1 = ar.reshape(3,3)\n",
    "n2 = ar.reshape(3,2)\n",
    "\n",
    "n3 = np.append(n1,n2)\n",
    "print(n3)"
   ]
  },
  {
   "cell_type": "code",
   "execution_count": 58,
   "id": "b4c62d38",
   "metadata": {},
   "outputs": [
    {
     "name": "stdout",
     "output_type": "stream",
     "text": [
      "[1 2 3 4 5 6 7 8 9 1 2 3 4 5 6 7 8 9]\n"
     ]
    }
   ],
   "source": [
    "ar = np.arange(1,10)\n",
    "n1 = ar.reshape(3,3)\n",
    "n2 = ar.reshape(3,3)\n",
    "\n",
    "n3 = np.append(n1,n2)\n",
    "print(n3)"
   ]
  },
  {
   "cell_type": "code",
   "execution_count": 1,
   "id": "32bd9c21",
   "metadata": {},
   "outputs": [],
   "source": [
    "import numpy as np"
   ]
  },
  {
   "cell_type": "code",
   "execution_count": 2,
   "id": "16bd3496",
   "metadata": {},
   "outputs": [
    {
     "name": "stdout",
     "output_type": "stream",
     "text": [
      "[ 1  2  3  4  5 11 22 33 44 55]\n"
     ]
    }
   ],
   "source": [
    "arr1 = np.array([1,2,3,4,5])\n",
    "arr2 = np.array([11,22,33,44,55])\n",
    "\n",
    "arr3 = np.append(arr1, arr2)\n",
    "\n",
    "print(arr3)"
   ]
  },
  {
   "cell_type": "code",
   "execution_count": 9,
   "id": "c27dcd01",
   "metadata": {},
   "outputs": [
    {
     "name": "stdout",
     "output_type": "stream",
     "text": [
      "[ 1  2  3  4  5 11 22 33 44 55]\n"
     ]
    }
   ],
   "source": [
    "arr1 = np.array([1,2,3,4,5])\n",
    "arr2 = np.array([[[11,22,33,44,55]]])\n",
    "\n",
    "arr3 = np.append(arr1, arr2,axis=None)\n",
    "\n",
    "print(arr3)"
   ]
  },
  {
   "cell_type": "markdown",
   "id": "cf67d447",
   "metadata": {},
   "source": [
    "## np.sort()"
   ]
  },
  {
   "cell_type": "code",
   "execution_count": 11,
   "id": "013c95df",
   "metadata": {},
   "outputs": [
    {
     "name": "stdout",
     "output_type": "stream",
     "text": [
      "[15  6  6  6  5 11  3 18 15  1]\n"
     ]
    }
   ],
   "source": [
    "s_nums = np.random.randint(1,20, size = 10)\n",
    "print(s_nums)"
   ]
  },
  {
   "cell_type": "code",
   "execution_count": 12,
   "id": "82922934",
   "metadata": {},
   "outputs": [
    {
     "name": "stdout",
     "output_type": "stream",
     "text": [
      "[ 1  3  5  6  6  6 11 15 15 18]\n"
     ]
    }
   ],
   "source": [
    "sorted_nums = np.sort(s_nums)\n",
    "print(sorted_nums)"
   ]
  },
  {
   "cell_type": "code",
   "execution_count": 14,
   "id": "44b38702",
   "metadata": {},
   "outputs": [
    {
     "name": "stdout",
     "output_type": "stream",
     "text": [
      "[[ 1  9 10]\n",
      " [11  3 18]\n",
      " [13 17 11]]\n"
     ]
    }
   ],
   "source": [
    "s_nums1 = np.random.randint(1,20, size = (3,3))\n",
    "print(s_nums1)"
   ]
  },
  {
   "cell_type": "code",
   "execution_count": 18,
   "id": "4db9b2f9",
   "metadata": {},
   "outputs": [
    {
     "name": "stdout",
     "output_type": "stream",
     "text": [
      "[[ 1  3 10]\n",
      " [11  9 11]\n",
      " [13 17 18]]\n"
     ]
    }
   ],
   "source": [
    "sorted_nums1 = np.sort(s_nums1,axis=0) # column\n",
    "print(sorted_nums1)"
   ]
  },
  {
   "cell_type": "code",
   "execution_count": 19,
   "id": "b840f793",
   "metadata": {},
   "outputs": [
    {
     "name": "stdout",
     "output_type": "stream",
     "text": [
      "[[ 1  9 10]\n",
      " [ 3 11 18]\n",
      " [11 13 17]]\n"
     ]
    }
   ],
   "source": [
    "sorted_nums2 = np.sort(s_nums1,axis=1) # row\n",
    "print(sorted_nums2)"
   ]
  },
  {
   "cell_type": "code",
   "execution_count": 20,
   "id": "d37affe9",
   "metadata": {},
   "outputs": [
    {
     "data": {
      "text/plain": [
       "array([[6, 3, 2, 6],\n",
       "       [6, 9, 2, 9],\n",
       "       [8, 3, 2, 9]])"
      ]
     },
     "execution_count": 20,
     "metadata": {},
     "output_type": "execute_result"
    }
   ],
   "source": [
    "s = np.random.randint(1,10, size = (3,4))\n",
    "s "
   ]
  },
  {
   "cell_type": "code",
   "execution_count": 21,
   "id": "4c8d8ede",
   "metadata": {},
   "outputs": [
    {
     "name": "stdout",
     "output_type": "stream",
     "text": [
      "[[6 3 2 6]\n",
      " [6 3 2 9]\n",
      " [8 9 2 9]]\n"
     ]
    }
   ],
   "source": [
    "sorte_s = np.sort(s,axis=0) # column\n",
    "print(sorte_s)"
   ]
  },
  {
   "cell_type": "code",
   "execution_count": 22,
   "id": "306bce33",
   "metadata": {},
   "outputs": [
    {
     "name": "stdout",
     "output_type": "stream",
     "text": [
      "[[2 3 6 6]\n",
      " [2 6 9 9]\n",
      " [2 3 8 9]]\n"
     ]
    }
   ],
   "source": [
    "sorte_s1 = np.sort(s,axis=1) # row\n",
    "print(sorte_s1)"
   ]
  },
  {
   "cell_type": "code",
   "execution_count": null,
   "id": "10ddcdcf",
   "metadata": {},
   "outputs": [],
   "source": []
  },
  {
   "cell_type": "markdown",
   "id": "f4c73414",
   "metadata": {},
   "source": [
    "## np.arange()"
   ]
  },
  {
   "cell_type": "code",
   "execution_count": 27,
   "id": "9a9265fd",
   "metadata": {},
   "outputs": [
    {
     "data": {
      "text/plain": [
       "array([ 1,  2,  3,  4,  5,  6,  7,  8,  9, 10, 11, 12, 13, 14])"
      ]
     },
     "execution_count": 27,
     "metadata": {},
     "output_type": "execute_result"
    }
   ],
   "source": [
    "a = np.arange(1,15)\n",
    "a"
   ]
  },
  {
   "cell_type": "code",
   "execution_count": null,
   "id": "1ffcff28",
   "metadata": {},
   "outputs": [],
   "source": []
  },
  {
   "cell_type": "markdown",
   "id": "23bcad1b",
   "metadata": {},
   "source": [
    "## np.linspace()"
   ]
  },
  {
   "cell_type": "code",
   "execution_count": 32,
   "id": "38d4a283",
   "metadata": {},
   "outputs": [
    {
     "data": {
      "text/plain": [
       "(array([ 1. ,  2.4,  3.8,  5.2,  6.6,  8. ,  9.4, 10.8, 12.2, 13.6]), 1.4)"
      ]
     },
     "execution_count": 32,
     "metadata": {},
     "output_type": "execute_result"
    }
   ],
   "source": [
    "a = np.linspace(1,15,endpoint=False,num=10,retstep=True)\n",
    "a"
   ]
  },
  {
   "cell_type": "code",
   "execution_count": 39,
   "id": "8cc52e73",
   "metadata": {},
   "outputs": [
    {
     "name": "stdout",
     "output_type": "stream",
     "text": [
      "[[0. 0. 0. 0. 0.]\n",
      " [0. 0. 0. 0. 0.]\n",
      " [1. 0. 0. 0. 0.]]\n"
     ]
    }
   ],
   "source": [
    "dig = np.eye(3,5,k=-2)\n",
    "print(dig)"
   ]
  },
  {
   "cell_type": "code",
   "execution_count": null,
   "id": "cb597d81",
   "metadata": {},
   "outputs": [],
   "source": []
  }
 ],
 "metadata": {
  "kernelspec": {
   "display_name": "Python 3 (ipykernel)",
   "language": "python",
   "name": "python3"
  },
  "language_info": {
   "codemirror_mode": {
    "name": "ipython",
    "version": 3
   },
   "file_extension": ".py",
   "mimetype": "text/x-python",
   "name": "python",
   "nbconvert_exporter": "python",
   "pygments_lexer": "ipython3",
   "version": "3.9.12"
  }
 },
 "nbformat": 4,
 "nbformat_minor": 5
}
