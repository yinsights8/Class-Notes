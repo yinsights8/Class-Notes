{
 "cells": [
  {
   "cell_type": "code",
   "execution_count": 1,
   "id": "9c6e9a5d",
   "metadata": {},
   "outputs": [],
   "source": [
    "import numpy as np"
   ]
  },
  {
   "cell_type": "code",
   "execution_count": 30,
   "id": "4fd025b4",
   "metadata": {},
   "outputs": [
    {
     "data": {
      "text/plain": [
       "array([ 1,  2,  3,  4,  5,  6,  7,  8,  9, 10, 11, 12, 13, 14, 15, 16, 17,\n",
       "       18, 19])"
      ]
     },
     "execution_count": 30,
     "metadata": {},
     "output_type": "execute_result"
    }
   ],
   "source": [
    "arr = np.arange(1, 20)\n",
    "arr"
   ]
  },
  {
   "cell_type": "code",
   "execution_count": null,
   "id": "3bff521c",
   "metadata": {},
   "outputs": [],
   "source": []
  },
  {
   "cell_type": "code",
   "execution_count": 29,
   "id": "64b68ecb",
   "metadata": {},
   "outputs": [
    {
     "data": {
      "text/plain": [
       "(array([ 1. ,  2.1,  3.2,  4.3,  5.4,  6.5,  7.6,  8.7,  9.8, 10.9]), 1.1)"
      ]
     },
     "execution_count": 29,
     "metadata": {},
     "output_type": "execute_result"
    }
   ],
   "source": [
    "x = np.linspace(1, 12,endpoint=False, num=10, retstep=True)\n",
    "x"
   ]
  },
  {
   "cell_type": "markdown",
   "id": "8bae3f2e",
   "metadata": {},
   "source": [
    "# eye()"
   ]
  },
  {
   "cell_type": "code",
   "execution_count": 49,
   "id": "d6ec92e9",
   "metadata": {},
   "outputs": [
    {
     "data": {
      "text/plain": [
       "array([[1, 0, 0, 0, 0],\n",
       "       [0, 1, 0, 0, 0],\n",
       "       [0, 0, 1, 0, 0],\n",
       "       [0, 0, 0, 1, 0]])"
      ]
     },
     "execution_count": 49,
     "metadata": {},
     "output_type": "execute_result"
    }
   ],
   "source": [
    "eye = np.eye(4,5,dtype=int)\n",
    "eye"
   ]
  },
  {
   "cell_type": "code",
   "execution_count": null,
   "id": "725d39de",
   "metadata": {},
   "outputs": [],
   "source": []
  },
  {
   "cell_type": "markdown",
   "id": "e94de73a",
   "metadata": {},
   "source": [
    "## identity"
   ]
  },
  {
   "cell_type": "code",
   "execution_count": 55,
   "id": "3320d7ab",
   "metadata": {},
   "outputs": [
    {
     "data": {
      "text/plain": [
       "array([[1, 0, 0],\n",
       "       [0, 1, 0],\n",
       "       [0, 0, 1]])"
      ]
     },
     "execution_count": 55,
     "metadata": {},
     "output_type": "execute_result"
    }
   ],
   "source": [
    "identity = np.identity(3,dtype=int)\n",
    "identity"
   ]
  },
  {
   "cell_type": "markdown",
   "id": "dce29b3b",
   "metadata": {},
   "source": [
    "## random()\n",
    "  - rand() - range(start, stop) - 0,1> 0 and 1 not include (takes only 0 and 1 values not including 0  and 1)\n",
    "  - randint()\n",
    "  - randn()\n",
    "  - ranf()"
   ]
  },
  {
   "cell_type": "markdown",
   "id": "b0813752",
   "metadata": {},
   "source": [
    "## rand()"
   ]
  },
  {
   "cell_type": "code",
   "execution_count": 168,
   "id": "266e9340",
   "metadata": {},
   "outputs": [
    {
     "name": "stdout",
     "output_type": "stream",
     "text": [
      "[[0.48369752 0.10236154 0.06053434 0.47288151 0.94042374 0.42915379\n",
      "  0.24212688 0.72156009 0.84622394 0.1566894  0.67668316 0.50568064\n",
      "  0.63446834 0.72746594 0.66011563 0.43412084 0.84573004 0.75040705\n",
      "  0.82132667 0.10315715]]\n"
     ]
    }
   ],
   "source": [
    "r_ar = np.random.rand(1,20)\n",
    "print(r_ar)"
   ]
  },
  {
   "cell_type": "code",
   "execution_count": 109,
   "id": "a5833fae",
   "metadata": {},
   "outputs": [
    {
     "data": {
      "text/plain": [
       "array([[4, 6, 1],\n",
       "       [6, 5, 3],\n",
       "       [4, 3, 9]])"
      ]
     },
     "execution_count": 109,
     "metadata": {},
     "output_type": "execute_result"
    }
   ],
   "source": [
    "r_int_arr = np.random.randint(1,11,size=[3,3])\n",
    "r_int_arr"
   ]
  },
  {
   "cell_type": "markdown",
   "id": "34c3febe",
   "metadata": {},
   "source": [
    "## randn()"
   ]
  },
  {
   "cell_type": "code",
   "execution_count": 128,
   "id": "dbdbfcf8",
   "metadata": {},
   "outputs": [
    {
     "data": {
      "text/plain": [
       "array([-0.4839913 ,  0.08155594, -0.61331529, -1.63307597, -2.39639861,\n",
       "       -0.9020291 ,  0.56704398, -0.74956558, -0.93034218,  0.21171515])"
      ]
     },
     "execution_count": 128,
     "metadata": {},
     "output_type": "execute_result"
    }
   ],
   "source": [
    "r_randf = np.random.randn(10)\n",
    "r_randf"
   ]
  },
  {
   "cell_type": "markdown",
   "id": "c8804396",
   "metadata": {},
   "source": [
    "## ranf()"
   ]
  },
  {
   "cell_type": "code",
   "execution_count": 172,
   "id": "52b4223c",
   "metadata": {},
   "outputs": [
    {
     "name": "stdout",
     "output_type": "stream",
     "text": [
      "[0.20320686 0.95764944 0.95820803 0.65654874 0.18702294 0.03153636\n",
      " 0.06035409 0.44459431 0.82149199 0.15699984]\n"
     ]
    }
   ],
   "source": [
    "rf = np.random.ranf(10)\n",
    "print(rf)"
   ]
  },
  {
   "cell_type": "code",
   "execution_count": 187,
   "id": "b2665f1b",
   "metadata": {},
   "outputs": [],
   "source": []
  },
  {
   "cell_type": "code",
   "execution_count": 188,
   "id": "39850de8",
   "metadata": {},
   "outputs": [],
   "source": [
    "import pandas as pd"
   ]
  },
  {
   "cell_type": "code",
   "execution_count": 202,
   "id": "90948621",
   "metadata": {},
   "outputs": [],
   "source": [
    "ar = {\n",
    "    \"randn\": np.random.rand(10),\n",
    "    \"randint\" : np.random.randint(1,10,size = 10)\n",
    "}"
   ]
  },
  {
   "cell_type": "code",
   "execution_count": 203,
   "id": "15579e9f",
   "metadata": {},
   "outputs": [
    {
     "data": {
      "text/html": [
       "<div>\n",
       "<style scoped>\n",
       "    .dataframe tbody tr th:only-of-type {\n",
       "        vertical-align: middle;\n",
       "    }\n",
       "\n",
       "    .dataframe tbody tr th {\n",
       "        vertical-align: top;\n",
       "    }\n",
       "\n",
       "    .dataframe thead th {\n",
       "        text-align: right;\n",
       "    }\n",
       "</style>\n",
       "<table border=\"1\" class=\"dataframe\">\n",
       "  <thead>\n",
       "    <tr style=\"text-align: right;\">\n",
       "      <th></th>\n",
       "      <th>randn</th>\n",
       "      <th>randint</th>\n",
       "    </tr>\n",
       "  </thead>\n",
       "  <tbody>\n",
       "    <tr>\n",
       "      <th>0</th>\n",
       "      <td>0.548979</td>\n",
       "      <td>9</td>\n",
       "    </tr>\n",
       "    <tr>\n",
       "      <th>1</th>\n",
       "      <td>0.966024</td>\n",
       "      <td>1</td>\n",
       "    </tr>\n",
       "    <tr>\n",
       "      <th>2</th>\n",
       "      <td>0.900598</td>\n",
       "      <td>9</td>\n",
       "    </tr>\n",
       "    <tr>\n",
       "      <th>3</th>\n",
       "      <td>0.608008</td>\n",
       "      <td>9</td>\n",
       "    </tr>\n",
       "    <tr>\n",
       "      <th>4</th>\n",
       "      <td>0.196778</td>\n",
       "      <td>7</td>\n",
       "    </tr>\n",
       "    <tr>\n",
       "      <th>5</th>\n",
       "      <td>0.565475</td>\n",
       "      <td>2</td>\n",
       "    </tr>\n",
       "    <tr>\n",
       "      <th>6</th>\n",
       "      <td>0.664626</td>\n",
       "      <td>6</td>\n",
       "    </tr>\n",
       "    <tr>\n",
       "      <th>7</th>\n",
       "      <td>0.548374</td>\n",
       "      <td>4</td>\n",
       "    </tr>\n",
       "    <tr>\n",
       "      <th>8</th>\n",
       "      <td>0.612117</td>\n",
       "      <td>6</td>\n",
       "    </tr>\n",
       "    <tr>\n",
       "      <th>9</th>\n",
       "      <td>0.548035</td>\n",
       "      <td>6</td>\n",
       "    </tr>\n",
       "  </tbody>\n",
       "</table>\n",
       "</div>"
      ],
      "text/plain": [
       "      randn  randint\n",
       "0  0.548979        9\n",
       "1  0.966024        1\n",
       "2  0.900598        9\n",
       "3  0.608008        9\n",
       "4  0.196778        7\n",
       "5  0.565475        2\n",
       "6  0.664626        6\n",
       "7  0.548374        4\n",
       "8  0.612117        6\n",
       "9  0.548035        6"
      ]
     },
     "execution_count": 203,
     "metadata": {},
     "output_type": "execute_result"
    }
   ],
   "source": [
    "data = pd.DataFrame(ar)\n",
    "data"
   ]
  },
  {
   "cell_type": "code",
   "execution_count": 207,
   "id": "49b24484",
   "metadata": {},
   "outputs": [
    {
     "data": {
      "text/plain": [
       "array([[ 3, 36, 18],\n",
       "       [ 8, 38,  6],\n",
       "       [12, 31, 10]])"
      ]
     },
     "execution_count": 207,
     "metadata": {},
     "output_type": "execute_result"
    }
   ],
   "source": [
    "arr = np.random.randint(1,50,size=(3,3))\n",
    "arr"
   ]
  },
  {
   "cell_type": "code",
   "execution_count": 209,
   "id": "f4f4429d",
   "metadata": {},
   "outputs": [
    {
     "data": {
      "text/plain": [
       "array([[ 3, 18, 36],\n",
       "       [ 6,  8, 38],\n",
       "       [10, 12, 31]])"
      ]
     },
     "execution_count": 209,
     "metadata": {},
     "output_type": "execute_result"
    }
   ],
   "source": [
    "x = np.sort(arr,axis=1) # sort row\n",
    "x"
   ]
  },
  {
   "cell_type": "code",
   "execution_count": 210,
   "id": "86f6867b",
   "metadata": {},
   "outputs": [
    {
     "data": {
      "text/plain": [
       "array([[ 3, 31,  6],\n",
       "       [ 8, 36, 10],\n",
       "       [12, 38, 18]])"
      ]
     },
     "execution_count": 210,
     "metadata": {},
     "output_type": "execute_result"
    }
   ],
   "source": [
    "x = np.sort(arr,axis=0) # sort column\n",
    "x"
   ]
  },
  {
   "cell_type": "code",
   "execution_count": 211,
   "id": "267830f0",
   "metadata": {},
   "outputs": [
    {
     "data": {
      "text/plain": [
       "array([ 1,  2,  3,  4,  5, 11, 22, 33, 44, 55])"
      ]
     },
     "execution_count": 211,
     "metadata": {},
     "output_type": "execute_result"
    }
   ],
   "source": [
    "arr1 = np.array([1,2,3,4,5])\n",
    "arr2 = np.array([11,22,33,44,55])\n",
    "new_arr = np.append(arr1,arr2)\n",
    "new_arr"
   ]
  },
  {
   "cell_type": "code",
   "execution_count": null,
   "id": "88946552",
   "metadata": {},
   "outputs": [],
   "source": []
  }
 ],
 "metadata": {
  "kernelspec": {
   "display_name": "Python 3 (ipykernel)",
   "language": "python",
   "name": "python3"
  },
  "language_info": {
   "codemirror_mode": {
    "name": "ipython",
    "version": 3
   },
   "file_extension": ".py",
   "mimetype": "text/x-python",
   "name": "python",
   "nbconvert_exporter": "python",
   "pygments_lexer": "ipython3",
   "version": "3.9.12"
  }
 },
 "nbformat": 4,
 "nbformat_minor": 5
}
