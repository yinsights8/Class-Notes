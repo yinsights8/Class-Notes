{
 "cells": [
  {
   "cell_type": "markdown",
   "id": "3d9c6f3d",
   "metadata": {},
   "source": [
    "# Numpy Functions"
   ]
  },
  {
   "cell_type": "code",
   "execution_count": 1,
   "id": "23c10672",
   "metadata": {},
   "outputs": [],
   "source": [
    "import numpy as np\n",
    "import pandas as pd"
   ]
  },
  {
   "cell_type": "markdown",
   "id": "d69ff80c",
   "metadata": {},
   "source": [
    "# 1. reshape"
   ]
  },
  {
   "cell_type": "code",
   "execution_count": 2,
   "id": "418a1b71",
   "metadata": {},
   "outputs": [
    {
     "data": {
      "text/plain": [
       "array([1, 2, 3, 4, 5, 6])"
      ]
     },
     "execution_count": 2,
     "metadata": {},
     "output_type": "execute_result"
    }
   ],
   "source": [
    "arr = np.array([1,2,3,4,5,6])\n",
    "arr"
   ]
  },
  {
   "cell_type": "code",
   "execution_count": 3,
   "id": "0e9c4ea7",
   "metadata": {},
   "outputs": [
    {
     "data": {
      "text/plain": [
       "array([[1, 2],\n",
       "       [3, 4],\n",
       "       [5, 6]])"
      ]
     },
     "execution_count": 3,
     "metadata": {},
     "output_type": "execute_result"
    }
   ],
   "source": [
    "arr.reshape(3,2)"
   ]
  },
  {
   "cell_type": "code",
   "execution_count": 4,
   "id": "86c5b57f",
   "metadata": {},
   "outputs": [
    {
     "data": {
      "text/plain": [
       "array([[1, 2, 3],\n",
       "       [4, 5, 6]])"
      ]
     },
     "execution_count": 4,
     "metadata": {},
     "output_type": "execute_result"
    }
   ],
   "source": [
    "arr.reshape(2,3)"
   ]
  },
  {
   "cell_type": "code",
   "execution_count": 5,
   "id": "6e6dc257",
   "metadata": {},
   "outputs": [
    {
     "data": {
      "text/plain": [
       "array([[1, 2, 3, 4, 5, 6]])"
      ]
     },
     "execution_count": 5,
     "metadata": {},
     "output_type": "execute_result"
    }
   ],
   "source": [
    "arr.reshape(1,6)"
   ]
  },
  {
   "cell_type": "code",
   "execution_count": 6,
   "id": "3897a869",
   "metadata": {},
   "outputs": [
    {
     "data": {
      "text/plain": [
       "array([[1],\n",
       "       [2],\n",
       "       [3],\n",
       "       [4],\n",
       "       [5],\n",
       "       [6]])"
      ]
     },
     "execution_count": 6,
     "metadata": {},
     "output_type": "execute_result"
    }
   ],
   "source": [
    "arr.reshape(6,1)"
   ]
  },
  {
   "cell_type": "markdown",
   "id": "4ef89e93",
   "metadata": {},
   "source": [
    "# 2. np.nditer()"
   ]
  },
  {
   "cell_type": "code",
   "execution_count": 8,
   "id": "68672751",
   "metadata": {},
   "outputs": [
    {
     "data": {
      "text/plain": [
       "array([[1, 2, 3],\n",
       "       [4, 5, 6]])"
      ]
     },
     "execution_count": 8,
     "metadata": {},
     "output_type": "execute_result"
    }
   ],
   "source": [
    "arr = np.array(\n",
    "    [[1, 2, 3],\n",
    "    [4, 5, 6]]\n",
    ")\n",
    "arr"
   ]
  },
  {
   "cell_type": "code",
   "execution_count": 9,
   "id": "139441a4",
   "metadata": {},
   "outputs": [
    {
     "name": "stdout",
     "output_type": "stream",
     "text": [
      "[1 2 3]\n",
      "[4 5 6]\n"
     ]
    }
   ],
   "source": [
    "for i in arr:\n",
    "    print(i)"
   ]
  },
  {
   "cell_type": "code",
   "execution_count": 11,
   "id": "4f05eaad",
   "metadata": {},
   "outputs": [
    {
     "name": "stdout",
     "output_type": "stream",
     "text": [
      "1\n",
      "2\n",
      "3\n",
      "4\n",
      "5\n",
      "6\n"
     ]
    }
   ],
   "source": [
    "for i in arr:\n",
    "    for j in i:\n",
    "        print(j)"
   ]
  },
  {
   "cell_type": "code",
   "execution_count": 12,
   "id": "653f509e",
   "metadata": {},
   "outputs": [
    {
     "data": {
      "text/plain": [
       "array([[1, 2, 3],\n",
       "       [4, 5, 6]])"
      ]
     },
     "execution_count": 12,
     "metadata": {},
     "output_type": "execute_result"
    }
   ],
   "source": [
    "arr"
   ]
  },
  {
   "cell_type": "code",
   "execution_count": 13,
   "id": "a80bddb1",
   "metadata": {},
   "outputs": [
    {
     "name": "stdout",
     "output_type": "stream",
     "text": [
      "1\n",
      "2\n",
      "3\n",
      "4\n",
      "5\n",
      "6\n"
     ]
    }
   ],
   "source": [
    "for i in np.nditer(arr):\n",
    "    print(i)"
   ]
  },
  {
   "cell_type": "code",
   "execution_count": 15,
   "id": "42170ab3",
   "metadata": {},
   "outputs": [
    {
     "data": {
      "text/plain": [
       "<numpy.nditer at 0x273d6cd3cd0>"
      ]
     },
     "execution_count": 15,
     "metadata": {},
     "output_type": "execute_result"
    }
   ],
   "source": [
    "xyz = np.nditer(arr)\n",
    "xyz"
   ]
  },
  {
   "cell_type": "code",
   "execution_count": 17,
   "id": "750faf70",
   "metadata": {},
   "outputs": [
    {
     "data": {
      "text/plain": [
       "array(1)"
      ]
     },
     "execution_count": 17,
     "metadata": {},
     "output_type": "execute_result"
    }
   ],
   "source": [
    "next(xyz)"
   ]
  },
  {
   "cell_type": "code",
   "execution_count": 23,
   "id": "e76de637",
   "metadata": {},
   "outputs": [
    {
     "ename": "StopIteration",
     "evalue": "",
     "output_type": "error",
     "traceback": [
      "\u001b[1;31m---------------------------------------------------------------------------\u001b[0m",
      "\u001b[1;31mStopIteration\u001b[0m                             Traceback (most recent call last)",
      "Input \u001b[1;32mIn [23]\u001b[0m, in \u001b[0;36m<cell line: 1>\u001b[1;34m()\u001b[0m\n\u001b[1;32m----> 1\u001b[0m \u001b[38;5;28;43mnext\u001b[39;49m\u001b[43m(\u001b[49m\u001b[43mxyz\u001b[49m\u001b[43m)\u001b[49m\n",
      "\u001b[1;31mStopIteration\u001b[0m: "
     ]
    }
   ],
   "source": [
    "next(xyz)"
   ]
  },
  {
   "cell_type": "markdown",
   "id": "dadaab0f",
   "metadata": {},
   "source": [
    "# 3. np.ndenumerate()"
   ]
  },
  {
   "cell_type": "code",
   "execution_count": 24,
   "id": "c49600f6",
   "metadata": {},
   "outputs": [
    {
     "data": {
      "text/plain": [
       "array([[1, 2, 3],\n",
       "       [4, 5, 6]])"
      ]
     },
     "execution_count": 24,
     "metadata": {},
     "output_type": "execute_result"
    }
   ],
   "source": [
    "arr"
   ]
  },
  {
   "cell_type": "code",
   "execution_count": 26,
   "id": "546524d3",
   "metadata": {},
   "outputs": [
    {
     "name": "stdout",
     "output_type": "stream",
     "text": [
      "0 [1 2 3]\n",
      "1 [4 5 6]\n"
     ]
    }
   ],
   "source": [
    "for i,j in enumerate(arr):\n",
    "    print(i,j)"
   ]
  },
  {
   "cell_type": "code",
   "execution_count": 27,
   "id": "97492ab6",
   "metadata": {},
   "outputs": [
    {
     "name": "stdout",
     "output_type": "stream",
     "text": [
      "(0, 0) 1\n",
      "(0, 1) 2\n",
      "(0, 2) 3\n",
      "(1, 0) 4\n",
      "(1, 1) 5\n",
      "(1, 2) 6\n"
     ]
    }
   ],
   "source": [
    "for i,j in np.ndenumerate(arr):\n",
    "    print(i,j)"
   ]
  },
  {
   "cell_type": "markdown",
   "id": "fd1817f0",
   "metadata": {},
   "source": [
    "# 4. zeros()"
   ]
  },
  {
   "cell_type": "code",
   "execution_count": 29,
   "id": "0c80053a",
   "metadata": {},
   "outputs": [
    {
     "data": {
      "text/plain": [
       "array([0., 0., 0., 0., 0.])"
      ]
     },
     "execution_count": 29,
     "metadata": {},
     "output_type": "execute_result"
    }
   ],
   "source": [
    "arr = np.zeros(5)\n",
    "arr"
   ]
  },
  {
   "cell_type": "code",
   "execution_count": 30,
   "id": "97fb2265",
   "metadata": {},
   "outputs": [
    {
     "data": {
      "text/plain": [
       "array([0, 0, 0, 0, 0])"
      ]
     },
     "execution_count": 30,
     "metadata": {},
     "output_type": "execute_result"
    }
   ],
   "source": [
    "arr = np.zeros(5,int)\n",
    "arr"
   ]
  },
  {
   "cell_type": "code",
   "execution_count": 31,
   "id": "a3355488",
   "metadata": {},
   "outputs": [],
   "source": [
    "arr = np.zeros((5,5),int)"
   ]
  },
  {
   "cell_type": "code",
   "execution_count": 32,
   "id": "a8cb5a53",
   "metadata": {},
   "outputs": [
    {
     "data": {
      "text/plain": [
       "array([[0, 0, 0, 0, 0],\n",
       "       [0, 0, 0, 0, 0],\n",
       "       [0, 0, 0, 0, 0],\n",
       "       [0, 0, 0, 0, 0],\n",
       "       [0, 0, 0, 0, 0]])"
      ]
     },
     "execution_count": 32,
     "metadata": {},
     "output_type": "execute_result"
    }
   ],
   "source": [
    "arr"
   ]
  },
  {
   "cell_type": "markdown",
   "id": "a7f1b47f",
   "metadata": {},
   "source": [
    "# 5. ones()"
   ]
  },
  {
   "cell_type": "code",
   "execution_count": 33,
   "id": "dcb38ba7",
   "metadata": {},
   "outputs": [
    {
     "data": {
      "text/plain": [
       "array([1., 1., 1., 1., 1.])"
      ]
     },
     "execution_count": 33,
     "metadata": {},
     "output_type": "execute_result"
    }
   ],
   "source": [
    "arr = np.ones(5)\n",
    "arr"
   ]
  },
  {
   "cell_type": "code",
   "execution_count": 34,
   "id": "300df702",
   "metadata": {},
   "outputs": [
    {
     "data": {
      "text/plain": [
       "array([1, 1, 1, 1, 1])"
      ]
     },
     "execution_count": 34,
     "metadata": {},
     "output_type": "execute_result"
    }
   ],
   "source": [
    "arr = np.ones(5,int)\n",
    "arr"
   ]
  },
  {
   "cell_type": "code",
   "execution_count": 35,
   "id": "1aebdf39",
   "metadata": {},
   "outputs": [
    {
     "data": {
      "text/plain": [
       "array([[1, 1, 1, 1, 1],\n",
       "       [1, 1, 1, 1, 1],\n",
       "       [1, 1, 1, 1, 1],\n",
       "       [1, 1, 1, 1, 1],\n",
       "       [1, 1, 1, 1, 1]])"
      ]
     },
     "execution_count": 35,
     "metadata": {},
     "output_type": "execute_result"
    }
   ],
   "source": [
    "arr = np.ones((5,5),int)\n",
    "arr"
   ]
  },
  {
   "cell_type": "markdown",
   "id": "b6903493",
   "metadata": {},
   "source": [
    "# 6. arange()"
   ]
  },
  {
   "cell_type": "code",
   "execution_count": 36,
   "id": "59247232",
   "metadata": {},
   "outputs": [
    {
     "data": {
      "text/plain": [
       "range(1, 11)"
      ]
     },
     "execution_count": 36,
     "metadata": {},
     "output_type": "execute_result"
    }
   ],
   "source": [
    "range(1,11)"
   ]
  },
  {
   "cell_type": "code",
   "execution_count": 37,
   "id": "85a31849",
   "metadata": {},
   "outputs": [
    {
     "data": {
      "text/plain": [
       "[1, 2, 3, 4, 5, 6, 7, 8, 9, 10]"
      ]
     },
     "execution_count": 37,
     "metadata": {},
     "output_type": "execute_result"
    }
   ],
   "source": [
    "list(range(1,11))"
   ]
  },
  {
   "cell_type": "code",
   "execution_count": 38,
   "id": "52e6ce57",
   "metadata": {},
   "outputs": [
    {
     "data": {
      "text/plain": [
       "array([ 1,  2,  3,  4,  5,  6,  7,  8,  9, 10])"
      ]
     },
     "execution_count": 38,
     "metadata": {},
     "output_type": "execute_result"
    }
   ],
   "source": [
    "arr = np.arange(1,11)\n",
    "arr"
   ]
  },
  {
   "cell_type": "code",
   "execution_count": 39,
   "id": "fb5bd383",
   "metadata": {},
   "outputs": [
    {
     "data": {
      "text/plain": [
       "[1, 3, 5, 7, 9]"
      ]
     },
     "execution_count": 39,
     "metadata": {},
     "output_type": "execute_result"
    }
   ],
   "source": [
    "list(range(1,11,2))"
   ]
  },
  {
   "cell_type": "code",
   "execution_count": 40,
   "id": "fa9767ef",
   "metadata": {},
   "outputs": [
    {
     "data": {
      "text/plain": [
       "array([1, 3, 5, 7, 9])"
      ]
     },
     "execution_count": 40,
     "metadata": {},
     "output_type": "execute_result"
    }
   ],
   "source": [
    "arr = np.arange(1,11,2)\n",
    "arr"
   ]
  },
  {
   "cell_type": "code",
   "execution_count": 41,
   "id": "0cee7831",
   "metadata": {},
   "outputs": [
    {
     "data": {
      "text/plain": [
       "array([10,  9,  8,  7,  6,  5,  4,  3,  2,  1])"
      ]
     },
     "execution_count": 41,
     "metadata": {},
     "output_type": "execute_result"
    }
   ],
   "source": [
    "arr = np.arange(10,0,-1)\n",
    "arr"
   ]
  },
  {
   "cell_type": "code",
   "execution_count": 43,
   "id": "4b4852f2",
   "metadata": {},
   "outputs": [
    {
     "data": {
      "text/plain": [
       "[]"
      ]
     },
     "execution_count": 43,
     "metadata": {},
     "output_type": "execute_result"
    }
   ],
   "source": [
    "list(range(5,-1))"
   ]
  },
  {
   "cell_type": "code",
   "execution_count": 44,
   "id": "1f94a8b5",
   "metadata": {},
   "outputs": [
    {
     "data": {
      "text/plain": [
       "array([], dtype=int32)"
      ]
     },
     "execution_count": 44,
     "metadata": {},
     "output_type": "execute_result"
    }
   ],
   "source": [
    "arr = np.arange(5,-1)\n",
    "arr"
   ]
  },
  {
   "cell_type": "markdown",
   "id": "7ab0805b",
   "metadata": {},
   "source": [
    "# 7. linspace()\n",
    "- Return evenly spaced values.\n",
    "- syntax - np.linspace(start, end, num = 50)"
   ]
  },
  {
   "cell_type": "code",
   "execution_count": 45,
   "id": "84db27e0",
   "metadata": {},
   "outputs": [
    {
     "data": {
      "text/plain": [
       "array([ 1.,  2.,  3.,  4.,  5.,  6.,  7.,  8.,  9., 10., 11., 12., 13.,\n",
       "       14., 15., 16., 17., 18., 19., 20., 21., 22., 23., 24., 25., 26.,\n",
       "       27., 28., 29., 30., 31., 32., 33., 34., 35., 36., 37., 38., 39.,\n",
       "       40., 41., 42., 43., 44., 45., 46., 47., 48., 49., 50.])"
      ]
     },
     "execution_count": 45,
     "metadata": {},
     "output_type": "execute_result"
    }
   ],
   "source": [
    "arr = np.linspace(1,50,num=50)\n",
    "arr"
   ]
  },
  {
   "cell_type": "code",
   "execution_count": 46,
   "id": "1d606e17",
   "metadata": {},
   "outputs": [
    {
     "data": {
      "text/plain": [
       "array([ 1.        ,  6.44444444, 11.88888889, 17.33333333, 22.77777778,\n",
       "       28.22222222, 33.66666667, 39.11111111, 44.55555556, 50.        ])"
      ]
     },
     "execution_count": 46,
     "metadata": {},
     "output_type": "execute_result"
    }
   ],
   "source": [
    "arr = np.linspace(1,50,num=10)\n",
    "arr"
   ]
  },
  {
   "cell_type": "code",
   "execution_count": 47,
   "id": "308d7a7e",
   "metadata": {},
   "outputs": [
    {
     "data": {
      "text/plain": [
       "5.44444444"
      ]
     },
     "execution_count": 47,
     "metadata": {},
     "output_type": "execute_result"
    }
   ],
   "source": [
    "6.44444444 - 1"
   ]
  },
  {
   "cell_type": "code",
   "execution_count": 48,
   "id": "38394fc5",
   "metadata": {},
   "outputs": [
    {
     "data": {
      "text/plain": [
       "5.444444450000001"
      ]
     },
     "execution_count": 48,
     "metadata": {},
     "output_type": "execute_result"
    }
   ],
   "source": [
    "11.88888889 - 6.44444444 "
   ]
  },
  {
   "cell_type": "code",
   "execution_count": 49,
   "id": "415ad3b2",
   "metadata": {},
   "outputs": [
    {
     "data": {
      "text/plain": [
       "(array([ 1.        ,  6.44444444, 11.88888889, 17.33333333, 22.77777778,\n",
       "        28.22222222, 33.66666667, 39.11111111, 44.55555556, 50.        ]),\n",
       " 5.444444444444445)"
      ]
     },
     "execution_count": 49,
     "metadata": {},
     "output_type": "execute_result"
    }
   ],
   "source": [
    "arr = np.linspace(1,50,num=10,retstep=True)\n",
    "arr"
   ]
  },
  {
   "cell_type": "code",
   "execution_count": 50,
   "id": "3fc4bf78",
   "metadata": {},
   "outputs": [
    {
     "data": {
      "text/plain": [
       "2"
      ]
     },
     "execution_count": 50,
     "metadata": {},
     "output_type": "execute_result"
    }
   ],
   "source": [
    "len(arr)"
   ]
  },
  {
   "cell_type": "code",
   "execution_count": 51,
   "id": "a7a2cf0a",
   "metadata": {},
   "outputs": [
    {
     "data": {
      "text/plain": [
       "array([ 1.        ,  6.44444444, 11.88888889, 17.33333333, 22.77777778,\n",
       "       28.22222222, 33.66666667, 39.11111111, 44.55555556, 50.        ])"
      ]
     },
     "execution_count": 51,
     "metadata": {},
     "output_type": "execute_result"
    }
   ],
   "source": [
    "arr[0]"
   ]
  },
  {
   "cell_type": "code",
   "execution_count": 52,
   "id": "f4370a72",
   "metadata": {},
   "outputs": [
    {
     "data": {
      "text/plain": [
       "5.444444444444445"
      ]
     },
     "execution_count": 52,
     "metadata": {},
     "output_type": "execute_result"
    }
   ],
   "source": [
    "arr[1]"
   ]
  },
  {
   "cell_type": "code",
   "execution_count": 54,
   "id": "40a82485",
   "metadata": {},
   "outputs": [
    {
     "name": "stdout",
     "output_type": "stream",
     "text": [
      "The evenly spaced array --> \n",
      "\n",
      "[ 1.          6.44444444 11.88888889 17.33333333 22.77777778 28.22222222\n",
      " 33.66666667 39.11111111 44.55555556 50.        ]\n",
      "\n",
      "The Step size --> \n",
      "\n",
      "5.444444444444445\n"
     ]
    }
   ],
   "source": [
    "print(f\"The evenly spaced array --> \\n\\n{arr[0]}\\n\\nThe Step size --> \\n\\n{arr[1]}\")"
   ]
  },
  {
   "cell_type": "code",
   "execution_count": 55,
   "id": "ac61945b",
   "metadata": {},
   "outputs": [
    {
     "data": {
      "text/plain": [
       "array([  1.,  12.,  23.,  34.,  45.,  56.,  67.,  78.,  89., 100.])"
      ]
     },
     "execution_count": 55,
     "metadata": {},
     "output_type": "execute_result"
    }
   ],
   "source": [
    "arr = np.linspace(1,100,num=10)\n",
    "arr"
   ]
  },
  {
   "cell_type": "code",
   "execution_count": 56,
   "id": "2d2f7c4d",
   "metadata": {},
   "outputs": [
    {
     "data": {
      "text/plain": [
       "11"
      ]
     },
     "execution_count": 56,
     "metadata": {},
     "output_type": "execute_result"
    }
   ],
   "source": [
    "23 - 12"
   ]
  },
  {
   "cell_type": "code",
   "execution_count": 57,
   "id": "934c927b",
   "metadata": {},
   "outputs": [
    {
     "data": {
      "text/plain": [
       "11"
      ]
     },
     "execution_count": 57,
     "metadata": {},
     "output_type": "execute_result"
    }
   ],
   "source": [
    "45 - 34"
   ]
  },
  {
   "cell_type": "code",
   "execution_count": 58,
   "id": "40a3d858",
   "metadata": {},
   "outputs": [
    {
     "data": {
      "text/plain": [
       "(array([  1.,  12.,  23.,  34.,  45.,  56.,  67.,  78.,  89., 100.]), 11.0)"
      ]
     },
     "execution_count": 58,
     "metadata": {},
     "output_type": "execute_result"
    }
   ],
   "source": [
    "arr = np.linspace(1,100,num=10,retstep=True)\n",
    "arr"
   ]
  },
  {
   "cell_type": "code",
   "execution_count": 59,
   "id": "5f0dbe0c",
   "metadata": {},
   "outputs": [
    {
     "data": {
      "text/plain": [
       "(array([  1.        ,  12.11111111,  23.22222222,  34.33333333,\n",
       "         45.44444444,  56.55555556,  67.66666667,  78.77777778,\n",
       "         89.88888889, 101.        ]),\n",
       " 11.11111111111111)"
      ]
     },
     "execution_count": 59,
     "metadata": {},
     "output_type": "execute_result"
    }
   ],
   "source": [
    "arr = np.linspace(1,101,num=10,retstep=True)\n",
    "arr"
   ]
  },
  {
   "cell_type": "code",
   "execution_count": 62,
   "id": "cc5f727b",
   "metadata": {},
   "outputs": [
    {
     "name": "stdout",
     "output_type": "stream",
     "text": [
      "The evenly spaced array --> \n",
      "\n",
      "[ 1.  2.  3.  4.  5.  6.  7.  8.  9. 10. 11. 12. 13. 14. 15. 16. 17. 18.\n",
      " 19. 20. 21. 22. 23. 24. 25. 26. 27. 28. 29. 30. 31. 32. 33. 34. 35. 36.\n",
      " 37. 38. 39. 40. 41. 42. 43. 44. 45. 46. 47. 48. 49. 50.]\n",
      "\n",
      "The Step size --> \n",
      "\n",
      "1.0\n"
     ]
    }
   ],
   "source": [
    "arr = np.linspace(1,50,num=50,retstep=True)\n",
    "print(f\"The evenly spaced array --> \\n\\n{arr[0]}\\n\\nThe Step size --> \\n\\n{arr[1]}\")"
   ]
  },
  {
   "cell_type": "code",
   "execution_count": 63,
   "id": "b646d569",
   "metadata": {},
   "outputs": [
    {
     "name": "stdout",
     "output_type": "stream",
     "text": [
      "The evenly spaced array --> \n",
      "\n",
      "[  1.           3.02040816   5.04081633   7.06122449   9.08163265\n",
      "  11.10204082  13.12244898  15.14285714  17.16326531  19.18367347\n",
      "  21.20408163  23.2244898   25.24489796  27.26530612  29.28571429\n",
      "  31.30612245  33.32653061  35.34693878  37.36734694  39.3877551\n",
      "  41.40816327  43.42857143  45.44897959  47.46938776  49.48979592\n",
      "  51.51020408  53.53061224  55.55102041  57.57142857  59.59183673\n",
      "  61.6122449   63.63265306  65.65306122  67.67346939  69.69387755\n",
      "  71.71428571  73.73469388  75.75510204  77.7755102   79.79591837\n",
      "  81.81632653  83.83673469  85.85714286  87.87755102  89.89795918\n",
      "  91.91836735  93.93877551  95.95918367  97.97959184 100.        ]\n",
      "\n",
      "The Step size --> \n",
      "\n",
      "2.020408163265306\n"
     ]
    }
   ],
   "source": [
    "arr = np.linspace(1,100,num=50,retstep=True)\n",
    "print(f\"The evenly spaced array --> \\n\\n{arr[0]}\\n\\nThe Step size --> \\n\\n{arr[1]}\")"
   ]
  },
  {
   "cell_type": "markdown",
   "id": "440de218",
   "metadata": {},
   "source": [
    "# 8. eye()\n",
    "- It will return an array with ones on diagonal and zeros elsewhere\n",
    "- np.eye(shape,dtype)"
   ]
  },
  {
   "cell_type": "code",
   "execution_count": 64,
   "id": "1a0b82ea",
   "metadata": {},
   "outputs": [
    {
     "data": {
      "text/plain": [
       "array([[1., 0., 0., 0., 0.],\n",
       "       [0., 1., 0., 0., 0.],\n",
       "       [0., 0., 1., 0., 0.],\n",
       "       [0., 0., 0., 1., 0.],\n",
       "       [0., 0., 0., 0., 1.]])"
      ]
     },
     "execution_count": 64,
     "metadata": {},
     "output_type": "execute_result"
    }
   ],
   "source": [
    "arr = np.eye(5)\n",
    "arr"
   ]
  },
  {
   "cell_type": "code",
   "execution_count": 65,
   "id": "d10c7618",
   "metadata": {},
   "outputs": [
    {
     "data": {
      "text/plain": [
       "array([[1., 0., 0.],\n",
       "       [0., 1., 0.],\n",
       "       [0., 0., 1.]])"
      ]
     },
     "execution_count": 65,
     "metadata": {},
     "output_type": "execute_result"
    }
   ],
   "source": [
    "arr = np.eye(3)\n",
    "arr"
   ]
  },
  {
   "cell_type": "code",
   "execution_count": 68,
   "id": "48ad19f8",
   "metadata": {},
   "outputs": [
    {
     "data": {
      "text/plain": [
       "array([[1, 0, 0, 0, 0],\n",
       "       [0, 1, 0, 0, 0],\n",
       "       [0, 0, 1, 0, 0]])"
      ]
     },
     "execution_count": 68,
     "metadata": {},
     "output_type": "execute_result"
    }
   ],
   "source": [
    "arr = np.eye(3,5,dtype=int)\n",
    "arr"
   ]
  },
  {
   "cell_type": "code",
   "execution_count": 69,
   "id": "5ab79f83",
   "metadata": {},
   "outputs": [
    {
     "data": {
      "text/plain": [
       "array([[1, 0, 0, 0, 0],\n",
       "       [0, 1, 0, 0, 0],\n",
       "       [0, 0, 1, 0, 0],\n",
       "       [0, 0, 0, 1, 0]])"
      ]
     },
     "execution_count": 69,
     "metadata": {},
     "output_type": "execute_result"
    }
   ],
   "source": [
    "arr = np.eye(4,5,dtype=int)\n",
    "arr"
   ]
  },
  {
   "cell_type": "code",
   "execution_count": 70,
   "id": "13a2c079",
   "metadata": {},
   "outputs": [
    {
     "data": {
      "text/plain": [
       "array([[1, 0, 0, 0, 0, 0, 0, 0, 0, 0, 0, 0, 0, 0, 0],\n",
       "       [0, 1, 0, 0, 0, 0, 0, 0, 0, 0, 0, 0, 0, 0, 0],\n",
       "       [0, 0, 1, 0, 0, 0, 0, 0, 0, 0, 0, 0, 0, 0, 0],\n",
       "       [0, 0, 0, 1, 0, 0, 0, 0, 0, 0, 0, 0, 0, 0, 0]])"
      ]
     },
     "execution_count": 70,
     "metadata": {},
     "output_type": "execute_result"
    }
   ],
   "source": [
    "arr = np.eye(4,15,dtype=int)\n",
    "arr"
   ]
  },
  {
   "cell_type": "code",
   "execution_count": 71,
   "id": "9de7eea4",
   "metadata": {},
   "outputs": [
    {
     "data": {
      "text/plain": [
       "array([[1, 0, 0, 0, 0, 0, 0, 0, 0, 0, 0, 0, 0, 0, 0],\n",
       "       [0, 1, 0, 0, 0, 0, 0, 0, 0, 0, 0, 0, 0, 0, 0],\n",
       "       [0, 0, 1, 0, 0, 0, 0, 0, 0, 0, 0, 0, 0, 0, 0],\n",
       "       [0, 0, 0, 1, 0, 0, 0, 0, 0, 0, 0, 0, 0, 0, 0],\n",
       "       [0, 0, 0, 0, 1, 0, 0, 0, 0, 0, 0, 0, 0, 0, 0],\n",
       "       [0, 0, 0, 0, 0, 1, 0, 0, 0, 0, 0, 0, 0, 0, 0],\n",
       "       [0, 0, 0, 0, 0, 0, 1, 0, 0, 0, 0, 0, 0, 0, 0],\n",
       "       [0, 0, 0, 0, 0, 0, 0, 1, 0, 0, 0, 0, 0, 0, 0],\n",
       "       [0, 0, 0, 0, 0, 0, 0, 0, 1, 0, 0, 0, 0, 0, 0],\n",
       "       [0, 0, 0, 0, 0, 0, 0, 0, 0, 1, 0, 0, 0, 0, 0]])"
      ]
     },
     "execution_count": 71,
     "metadata": {},
     "output_type": "execute_result"
    }
   ],
   "source": [
    "arr = np.eye(10,15,dtype=int)\n",
    "arr"
   ]
  },
  {
   "cell_type": "markdown",
   "id": "d34a1cb0",
   "metadata": {},
   "source": [
    "# 9. identity()\n",
    "- Identity matrix will be returned\n",
    "- num of rows = num of col\n",
    "- np.identity(value)"
   ]
  },
  {
   "cell_type": "code",
   "execution_count": 72,
   "id": "d50dd581",
   "metadata": {},
   "outputs": [
    {
     "data": {
      "text/plain": [
       "array([[1., 0., 0., 0., 0.],\n",
       "       [0., 1., 0., 0., 0.],\n",
       "       [0., 0., 1., 0., 0.],\n",
       "       [0., 0., 0., 1., 0.],\n",
       "       [0., 0., 0., 0., 1.]])"
      ]
     },
     "execution_count": 72,
     "metadata": {},
     "output_type": "execute_result"
    }
   ],
   "source": [
    "arr = np.identity(5)\n",
    "arr"
   ]
  },
  {
   "cell_type": "code",
   "execution_count": 73,
   "id": "a61f8e67",
   "metadata": {},
   "outputs": [
    {
     "data": {
      "text/plain": [
       "array([[1., 0., 0.],\n",
       "       [0., 1., 0.],\n",
       "       [0., 0., 1.]])"
      ]
     },
     "execution_count": 73,
     "metadata": {},
     "output_type": "execute_result"
    }
   ],
   "source": [
    "arr = np.identity(3)\n",
    "arr"
   ]
  },
  {
   "cell_type": "code",
   "execution_count": 75,
   "id": "e4192cf9",
   "metadata": {},
   "outputs": [
    {
     "data": {
      "text/plain": [
       "array([[1, 0, 0, 0, 0, 0, 0, 0, 0, 0],\n",
       "       [0, 1, 0, 0, 0, 0, 0, 0, 0, 0],\n",
       "       [0, 0, 1, 0, 0, 0, 0, 0, 0, 0],\n",
       "       [0, 0, 0, 1, 0, 0, 0, 0, 0, 0],\n",
       "       [0, 0, 0, 0, 1, 0, 0, 0, 0, 0],\n",
       "       [0, 0, 0, 0, 0, 1, 0, 0, 0, 0],\n",
       "       [0, 0, 0, 0, 0, 0, 1, 0, 0, 0],\n",
       "       [0, 0, 0, 0, 0, 0, 0, 1, 0, 0],\n",
       "       [0, 0, 0, 0, 0, 0, 0, 0, 1, 0],\n",
       "       [0, 0, 0, 0, 0, 0, 0, 0, 0, 1]])"
      ]
     },
     "execution_count": 75,
     "metadata": {},
     "output_type": "execute_result"
    }
   ],
   "source": [
    "arr = np.identity(10,dtype=int)\n",
    "arr"
   ]
  },
  {
   "cell_type": "code",
   "execution_count": 76,
   "id": "244afb6f",
   "metadata": {},
   "outputs": [
    {
     "ename": "TypeError",
     "evalue": "identity() got multiple values for argument 'dtype'",
     "output_type": "error",
     "traceback": [
      "\u001b[1;31m---------------------------------------------------------------------------\u001b[0m",
      "\u001b[1;31mTypeError\u001b[0m                                 Traceback (most recent call last)",
      "Input \u001b[1;32mIn [76]\u001b[0m, in \u001b[0;36m<cell line: 1>\u001b[1;34m()\u001b[0m\n\u001b[1;32m----> 1\u001b[0m arr \u001b[38;5;241m=\u001b[39m \u001b[43mnp\u001b[49m\u001b[38;5;241;43m.\u001b[39;49m\u001b[43midentity\u001b[49m\u001b[43m(\u001b[49m\u001b[38;5;241;43m10\u001b[39;49m\u001b[43m,\u001b[49m\u001b[38;5;241;43m15\u001b[39;49m\u001b[43m,\u001b[49m\u001b[43mdtype\u001b[49m\u001b[38;5;241;43m=\u001b[39;49m\u001b[38;5;28;43mint\u001b[39;49m\u001b[43m)\u001b[49m\n\u001b[0;32m      2\u001b[0m arr\n",
      "\u001b[1;31mTypeError\u001b[0m: identity() got multiple values for argument 'dtype'"
     ]
    }
   ],
   "source": [
    "arr = np.identity(10,15,dtype=int)\n",
    "arr"
   ]
  },
  {
   "cell_type": "markdown",
   "id": "0493a047",
   "metadata": {},
   "source": [
    "# 10. random()\n",
    "- Used to generate random valued array\n",
    "- 1. rand()\n",
    "- 2. randint()\n",
    "- 3. randn()\n",
    "- 4. ranf()"
   ]
  },
  {
   "cell_type": "markdown",
   "id": "3b3145d1",
   "metadata": {},
   "source": [
    "# 10.1 rand()\n",
    "- It will return values between 0 and 1"
   ]
  },
  {
   "cell_type": "raw",
   "id": "4e875326",
   "metadata": {},
   "source": [
    "syntax :- np.random.rand()"
   ]
  },
  {
   "cell_type": "code",
   "execution_count": 83,
   "id": "66fb0841",
   "metadata": {},
   "outputs": [
    {
     "data": {
      "text/plain": [
       "array([0.70662036, 0.29083391, 0.07911026, 0.2638923 , 0.62541975])"
      ]
     },
     "execution_count": 83,
     "metadata": {},
     "output_type": "execute_result"
    }
   ],
   "source": [
    "arr = np.random.rand(5)\n",
    "arr"
   ]
  },
  {
   "cell_type": "code",
   "execution_count": 84,
   "id": "ffeb4064",
   "metadata": {},
   "outputs": [
    {
     "data": {
      "text/plain": [
       "array([[0.91068714, 0.70638798, 0.33564853, 0.53712722, 0.87863657],\n",
       "       [0.50664077, 0.66763539, 0.36329893, 0.02851461, 0.69025181],\n",
       "       [0.60252103, 0.79689697, 0.44731368, 0.04963201, 0.74986037],\n",
       "       [0.85583063, 0.8964125 , 0.30415859, 0.52741802, 0.03877611],\n",
       "       [0.17304326, 0.97531104, 0.75938942, 0.46433589, 0.51663022]])"
      ]
     },
     "execution_count": 84,
     "metadata": {},
     "output_type": "execute_result"
    }
   ],
   "source": [
    "arr = np.random.rand(5,5)\n",
    "arr"
   ]
  },
  {
   "cell_type": "code",
   "execution_count": 85,
   "id": "dfe63a2a",
   "metadata": {},
   "outputs": [
    {
     "data": {
      "text/html": [
       "<div>\n",
       "<style scoped>\n",
       "    .dataframe tbody tr th:only-of-type {\n",
       "        vertical-align: middle;\n",
       "    }\n",
       "\n",
       "    .dataframe tbody tr th {\n",
       "        vertical-align: top;\n",
       "    }\n",
       "\n",
       "    .dataframe thead th {\n",
       "        text-align: right;\n",
       "    }\n",
       "</style>\n",
       "<table border=\"1\" class=\"dataframe\">\n",
       "  <thead>\n",
       "    <tr style=\"text-align: right;\">\n",
       "      <th></th>\n",
       "      <th>0</th>\n",
       "      <th>1</th>\n",
       "      <th>2</th>\n",
       "      <th>3</th>\n",
       "      <th>4</th>\n",
       "    </tr>\n",
       "  </thead>\n",
       "  <tbody>\n",
       "    <tr>\n",
       "      <th>0</th>\n",
       "      <td>0.910687</td>\n",
       "      <td>0.706388</td>\n",
       "      <td>0.335649</td>\n",
       "      <td>0.537127</td>\n",
       "      <td>0.878637</td>\n",
       "    </tr>\n",
       "    <tr>\n",
       "      <th>1</th>\n",
       "      <td>0.506641</td>\n",
       "      <td>0.667635</td>\n",
       "      <td>0.363299</td>\n",
       "      <td>0.028515</td>\n",
       "      <td>0.690252</td>\n",
       "    </tr>\n",
       "    <tr>\n",
       "      <th>2</th>\n",
       "      <td>0.602521</td>\n",
       "      <td>0.796897</td>\n",
       "      <td>0.447314</td>\n",
       "      <td>0.049632</td>\n",
       "      <td>0.749860</td>\n",
       "    </tr>\n",
       "    <tr>\n",
       "      <th>3</th>\n",
       "      <td>0.855831</td>\n",
       "      <td>0.896412</td>\n",
       "      <td>0.304159</td>\n",
       "      <td>0.527418</td>\n",
       "      <td>0.038776</td>\n",
       "    </tr>\n",
       "    <tr>\n",
       "      <th>4</th>\n",
       "      <td>0.173043</td>\n",
       "      <td>0.975311</td>\n",
       "      <td>0.759389</td>\n",
       "      <td>0.464336</td>\n",
       "      <td>0.516630</td>\n",
       "    </tr>\n",
       "  </tbody>\n",
       "</table>\n",
       "</div>"
      ],
      "text/plain": [
       "          0         1         2         3         4\n",
       "0  0.910687  0.706388  0.335649  0.537127  0.878637\n",
       "1  0.506641  0.667635  0.363299  0.028515  0.690252\n",
       "2  0.602521  0.796897  0.447314  0.049632  0.749860\n",
       "3  0.855831  0.896412  0.304159  0.527418  0.038776\n",
       "4  0.173043  0.975311  0.759389  0.464336  0.516630"
      ]
     },
     "execution_count": 85,
     "metadata": {},
     "output_type": "execute_result"
    }
   ],
   "source": [
    "pd.DataFrame(arr)"
   ]
  },
  {
   "cell_type": "markdown",
   "id": "a956b7c1",
   "metadata": {},
   "source": [
    "# 10.2 randint()"
   ]
  },
  {
   "cell_type": "code",
   "execution_count": 116,
   "id": "b91a4a71",
   "metadata": {},
   "outputs": [
    {
     "data": {
      "text/plain": [
       "1"
      ]
     },
     "execution_count": 116,
     "metadata": {},
     "output_type": "execute_result"
    }
   ],
   "source": [
    "arr = np.random.randint(1,5)\n",
    "arr"
   ]
  },
  {
   "cell_type": "code",
   "execution_count": 121,
   "id": "d80b13ee",
   "metadata": {},
   "outputs": [
    {
     "data": {
      "text/plain": [
       "16"
      ]
     },
     "execution_count": 121,
     "metadata": {},
     "output_type": "execute_result"
    }
   ],
   "source": [
    "arr = np.random.randint(1,50)\n",
    "arr"
   ]
  },
  {
   "cell_type": "code",
   "execution_count": 122,
   "id": "e4152636",
   "metadata": {},
   "outputs": [
    {
     "data": {
      "text/plain": [
       "array([ 1,  6, 32, 13, 41, 16, 16, 47,  1,  3])"
      ]
     },
     "execution_count": 122,
     "metadata": {},
     "output_type": "execute_result"
    }
   ],
   "source": [
    "arr = np.random.randint(1,50,size=10)\n",
    "arr"
   ]
  },
  {
   "cell_type": "code",
   "execution_count": 123,
   "id": "1aad34af",
   "metadata": {},
   "outputs": [
    {
     "data": {
      "text/plain": [
       "array([[32, 33, 38,  3, 45, 20, 38,  3, 37, 23],\n",
       "       [19, 41, 44, 34, 17, 14,  8, 35, 22, 28],\n",
       "       [ 4, 27, 32, 20, 25, 33, 46, 28,  4, 14],\n",
       "       [46, 31, 14, 29, 31, 14,  5,  8, 21, 12],\n",
       "       [ 1, 30,  5,  5, 44, 37, 25, 26, 47, 22],\n",
       "       [18, 20, 30, 20, 45, 28, 14, 21,  6, 21],\n",
       "       [ 6, 47, 38, 47, 25, 38, 45, 40,  2, 26],\n",
       "       [40, 30, 23, 46, 13, 32, 44, 21,  5, 43],\n",
       "       [12, 33,  2, 40, 26, 29, 27, 20, 19, 15],\n",
       "       [15, 34,  2, 10, 14, 29, 39, 12, 18, 39]])"
      ]
     },
     "execution_count": 123,
     "metadata": {},
     "output_type": "execute_result"
    }
   ],
   "source": [
    "arr = np.random.randint(1,50,size=(10,10))\n",
    "arr"
   ]
  },
  {
   "cell_type": "markdown",
   "id": "70c99043",
   "metadata": {},
   "source": [
    "# 10.3 randn()\n",
    "- It will return values which are normally distributed\n",
    "-  mean 0 and variance 1"
   ]
  },
  {
   "cell_type": "code",
   "execution_count": 124,
   "id": "de5ba4e1",
   "metadata": {},
   "outputs": [
    {
     "data": {
      "text/plain": [
       "array([ 1.7484523 , -1.25329241,  0.11526433, -0.77170597,  2.52643961,\n",
       "        0.41435622, -0.69987495,  0.80114777,  1.50696898,  0.1456718 ])"
      ]
     },
     "execution_count": 124,
     "metadata": {},
     "output_type": "execute_result"
    }
   ],
   "source": [
    "arr = np.random.randn(10)\n",
    "arr"
   ]
  },
  {
   "cell_type": "code",
   "execution_count": 127,
   "id": "949c557e",
   "metadata": {},
   "outputs": [
    {
     "data": {
      "text/plain": [
       "10"
      ]
     },
     "execution_count": 127,
     "metadata": {},
     "output_type": "execute_result"
    }
   ],
   "source": [
    "arr = np.random.randn(10,10)\n",
    "len(arr)"
   ]
  },
  {
   "cell_type": "code",
   "execution_count": 128,
   "id": "dbb7c479",
   "metadata": {},
   "outputs": [
    {
     "name": "stdout",
     "output_type": "stream",
     "text": [
      "[ 0.27337286  0.49846339 -0.5793975  -0.01437304  0.42609383  0.7383423\n",
      " -1.0137592  -0.38976288 -0.66097621  0.47037654]\n",
      "[-0.84290267 -0.02204209  0.10332183  0.9205181   0.58056186 -2.22772144\n",
      " -2.08665879  1.19398718 -0.92216189 -1.05130436]\n",
      "[-1.14577388  0.34027004  0.27228735 -1.91524332 -0.5887288  -0.88038854\n",
      "  4.27161285  1.62045762 -0.52961367  0.05957269]\n",
      "[ 1.28019736  1.18967575  0.7573765   0.91840409 -1.88685634 -1.37214491\n",
      "  1.14411555 -1.19438394  1.40239959 -2.12790431]\n",
      "[-1.02653273 -0.61601402  0.28298108 -0.09693379  0.63648018 -0.37913012\n",
      " -1.42195988 -1.10224869 -0.76450019 -1.78766972]\n",
      "[ 1.11247253  0.58098065  2.27615723 -0.29537005  0.96613558  1.8353684\n",
      "  1.04358909  0.23097024 -0.61762306 -0.2843022 ]\n",
      "[ 0.11054599  0.16616532 -1.25145252 -0.11057973 -0.30877749  0.90991142\n",
      "  0.25281952  0.18051106 -0.07263073 -0.01387216]\n",
      "[-0.52968447  0.10083257 -1.38390912  0.69504361 -0.87250756  2.23569871\n",
      " -0.13799378 -0.18551003 -0.99808865  0.86205463]\n",
      "[ 0.48558909 -0.98525477 -0.04111941 -0.58323816  2.49991166 -0.9580494\n",
      "  0.48780034 -1.08148355 -0.29507724 -0.73943537]\n",
      "[ 0.41903901 -1.37096344  0.849852   -1.11773514 -0.66734817 -1.5061564\n",
      "  0.58624525 -1.1103043  -1.73893582  0.42781021]\n"
     ]
    }
   ],
   "source": [
    "for i in arr:\n",
    "    print(i)"
   ]
  },
  {
   "cell_type": "code",
   "execution_count": 129,
   "id": "1278c71a",
   "metadata": {},
   "outputs": [
    {
     "data": {
      "text/plain": [
       "array([[ 0.27337286,  0.49846339, -0.5793975 , -0.01437304,  0.42609383,\n",
       "         0.7383423 , -1.0137592 , -0.38976288, -0.66097621,  0.47037654],\n",
       "       [-0.84290267, -0.02204209,  0.10332183,  0.9205181 ,  0.58056186,\n",
       "        -2.22772144, -2.08665879,  1.19398718, -0.92216189, -1.05130436],\n",
       "       [-1.14577388,  0.34027004,  0.27228735, -1.91524332, -0.5887288 ,\n",
       "        -0.88038854,  4.27161285,  1.62045762, -0.52961367,  0.05957269],\n",
       "       [ 1.28019736,  1.18967575,  0.7573765 ,  0.91840409, -1.88685634,\n",
       "        -1.37214491,  1.14411555, -1.19438394,  1.40239959, -2.12790431],\n",
       "       [-1.02653273, -0.61601402,  0.28298108, -0.09693379,  0.63648018,\n",
       "        -0.37913012, -1.42195988, -1.10224869, -0.76450019, -1.78766972],\n",
       "       [ 1.11247253,  0.58098065,  2.27615723, -0.29537005,  0.96613558,\n",
       "         1.8353684 ,  1.04358909,  0.23097024, -0.61762306, -0.2843022 ],\n",
       "       [ 0.11054599,  0.16616532, -1.25145252, -0.11057973, -0.30877749,\n",
       "         0.90991142,  0.25281952,  0.18051106, -0.07263073, -0.01387216],\n",
       "       [-0.52968447,  0.10083257, -1.38390912,  0.69504361, -0.87250756,\n",
       "         2.23569871, -0.13799378, -0.18551003, -0.99808865,  0.86205463],\n",
       "       [ 0.48558909, -0.98525477, -0.04111941, -0.58323816,  2.49991166,\n",
       "        -0.9580494 ,  0.48780034, -1.08148355, -0.29507724, -0.73943537],\n",
       "       [ 0.41903901, -1.37096344,  0.849852  , -1.11773514, -0.66734817,\n",
       "        -1.5061564 ,  0.58624525, -1.1103043 , -1.73893582,  0.42781021]])"
      ]
     },
     "execution_count": 129,
     "metadata": {},
     "output_type": "execute_result"
    }
   ],
   "source": [
    "arr"
   ]
  },
  {
   "cell_type": "markdown",
   "id": "b371f16b",
   "metadata": {},
   "source": [
    "# 10.4 ranf()\n",
    "- Return values between 0 and 1"
   ]
  },
  {
   "cell_type": "code",
   "execution_count": 130,
   "id": "c883678c",
   "metadata": {},
   "outputs": [
    {
     "data": {
      "text/plain": [
       "array([0.74337986, 0.40281506, 0.45528621, 0.07453758, 0.60450386])"
      ]
     },
     "execution_count": 130,
     "metadata": {},
     "output_type": "execute_result"
    }
   ],
   "source": [
    "arr = np.random.ranf(5)\n",
    "arr"
   ]
  },
  {
   "cell_type": "code",
   "execution_count": 132,
   "id": "b97bf55a",
   "metadata": {},
   "outputs": [
    {
     "data": {
      "text/plain": [
       "array([0.15115822, 0.83667414, 0.14499166, 0.94973017, 0.77651254,\n",
       "       0.5027672 , 0.3063766 , 0.69782234, 0.96189498, 0.48508073])"
      ]
     },
     "execution_count": 132,
     "metadata": {},
     "output_type": "execute_result"
    }
   ],
   "source": [
    "arr = np.random.ranf(10)\n",
    "arr"
   ]
  },
  {
   "cell_type": "raw",
   "id": "4153b68a",
   "metadata": {},
   "source": [
    "(0,1] --> 1 >= value > 0\n",
    "[0,1) --> 1 > value >= 0"
   ]
  },
  {
   "cell_type": "code",
   "execution_count": 139,
   "id": "b3400aa0",
   "metadata": {},
   "outputs": [
    {
     "data": {
      "text/plain": [
       "{'Zeros': array([0, 0, 0, 0, 0, 0, 0, 0, 0, 0]),\n",
       " 'Ones': array([1, 1, 1, 1, 1, 1, 1, 1, 1, 1]),\n",
       " 'Arange': array([101, 102, 103, 104, 105, 106, 107, 108, 109, 110]),\n",
       " 'Linspace': array([10.        , 14.44444444, 18.88888889, 23.33333333, 27.77777778,\n",
       "        32.22222222, 36.66666667, 41.11111111, 45.55555556, 50.        ]),\n",
       " 'Randint': array([30, 22, 39, 26, 30, 13, 10, 11, 16, 15]),\n",
       " 'Randn': array([ 1.05350842,  1.24168949,  1.1093096 ,  1.27915906,  1.36617623,\n",
       "        -0.0042346 , -1.77438726, -1.16951128, -0.22384205, -0.43985653])}"
      ]
     },
     "execution_count": 139,
     "metadata": {},
     "output_type": "execute_result"
    }
   ],
   "source": [
    "dict_np_functions = {\n",
    "    \"Zeros\" : np.zeros(10,int),\n",
    "    \"Ones\"  : np.ones(10,int),\n",
    "    \"Arange\": np.arange(101,111),\n",
    "    \"Linspace\": np.linspace(10,50,num=10),\n",
    "    \"Randint\": np.random.randint(10,50,size = 10),\n",
    "    \"Randn\" : np.random.randn(10)\n",
    "}\n",
    "dict_np_functions"
   ]
  },
  {
   "cell_type": "code",
   "execution_count": 140,
   "id": "037e840f",
   "metadata": {},
   "outputs": [
    {
     "data": {
      "text/html": [
       "<div>\n",
       "<style scoped>\n",
       "    .dataframe tbody tr th:only-of-type {\n",
       "        vertical-align: middle;\n",
       "    }\n",
       "\n",
       "    .dataframe tbody tr th {\n",
       "        vertical-align: top;\n",
       "    }\n",
       "\n",
       "    .dataframe thead th {\n",
       "        text-align: right;\n",
       "    }\n",
       "</style>\n",
       "<table border=\"1\" class=\"dataframe\">\n",
       "  <thead>\n",
       "    <tr style=\"text-align: right;\">\n",
       "      <th></th>\n",
       "      <th>Zeros</th>\n",
       "      <th>Ones</th>\n",
       "      <th>Arange</th>\n",
       "      <th>Linspace</th>\n",
       "      <th>Randint</th>\n",
       "      <th>Randn</th>\n",
       "    </tr>\n",
       "  </thead>\n",
       "  <tbody>\n",
       "    <tr>\n",
       "      <th>0</th>\n",
       "      <td>0</td>\n",
       "      <td>1</td>\n",
       "      <td>101</td>\n",
       "      <td>10.000000</td>\n",
       "      <td>30</td>\n",
       "      <td>1.053508</td>\n",
       "    </tr>\n",
       "    <tr>\n",
       "      <th>1</th>\n",
       "      <td>0</td>\n",
       "      <td>1</td>\n",
       "      <td>102</td>\n",
       "      <td>14.444444</td>\n",
       "      <td>22</td>\n",
       "      <td>1.241689</td>\n",
       "    </tr>\n",
       "    <tr>\n",
       "      <th>2</th>\n",
       "      <td>0</td>\n",
       "      <td>1</td>\n",
       "      <td>103</td>\n",
       "      <td>18.888889</td>\n",
       "      <td>39</td>\n",
       "      <td>1.109310</td>\n",
       "    </tr>\n",
       "    <tr>\n",
       "      <th>3</th>\n",
       "      <td>0</td>\n",
       "      <td>1</td>\n",
       "      <td>104</td>\n",
       "      <td>23.333333</td>\n",
       "      <td>26</td>\n",
       "      <td>1.279159</td>\n",
       "    </tr>\n",
       "    <tr>\n",
       "      <th>4</th>\n",
       "      <td>0</td>\n",
       "      <td>1</td>\n",
       "      <td>105</td>\n",
       "      <td>27.777778</td>\n",
       "      <td>30</td>\n",
       "      <td>1.366176</td>\n",
       "    </tr>\n",
       "    <tr>\n",
       "      <th>5</th>\n",
       "      <td>0</td>\n",
       "      <td>1</td>\n",
       "      <td>106</td>\n",
       "      <td>32.222222</td>\n",
       "      <td>13</td>\n",
       "      <td>-0.004235</td>\n",
       "    </tr>\n",
       "    <tr>\n",
       "      <th>6</th>\n",
       "      <td>0</td>\n",
       "      <td>1</td>\n",
       "      <td>107</td>\n",
       "      <td>36.666667</td>\n",
       "      <td>10</td>\n",
       "      <td>-1.774387</td>\n",
       "    </tr>\n",
       "    <tr>\n",
       "      <th>7</th>\n",
       "      <td>0</td>\n",
       "      <td>1</td>\n",
       "      <td>108</td>\n",
       "      <td>41.111111</td>\n",
       "      <td>11</td>\n",
       "      <td>-1.169511</td>\n",
       "    </tr>\n",
       "    <tr>\n",
       "      <th>8</th>\n",
       "      <td>0</td>\n",
       "      <td>1</td>\n",
       "      <td>109</td>\n",
       "      <td>45.555556</td>\n",
       "      <td>16</td>\n",
       "      <td>-0.223842</td>\n",
       "    </tr>\n",
       "    <tr>\n",
       "      <th>9</th>\n",
       "      <td>0</td>\n",
       "      <td>1</td>\n",
       "      <td>110</td>\n",
       "      <td>50.000000</td>\n",
       "      <td>15</td>\n",
       "      <td>-0.439857</td>\n",
       "    </tr>\n",
       "  </tbody>\n",
       "</table>\n",
       "</div>"
      ],
      "text/plain": [
       "   Zeros  Ones  Arange   Linspace  Randint     Randn\n",
       "0      0     1     101  10.000000       30  1.053508\n",
       "1      0     1     102  14.444444       22  1.241689\n",
       "2      0     1     103  18.888889       39  1.109310\n",
       "3      0     1     104  23.333333       26  1.279159\n",
       "4      0     1     105  27.777778       30  1.366176\n",
       "5      0     1     106  32.222222       13 -0.004235\n",
       "6      0     1     107  36.666667       10 -1.774387\n",
       "7      0     1     108  41.111111       11 -1.169511\n",
       "8      0     1     109  45.555556       16 -0.223842\n",
       "9      0     1     110  50.000000       15 -0.439857"
      ]
     },
     "execution_count": 140,
     "metadata": {},
     "output_type": "execute_result"
    }
   ],
   "source": [
    "pd.DataFrame(dict_np_functions)"
   ]
  },
  {
   "cell_type": "markdown",
   "id": "6dd8983a",
   "metadata": {},
   "source": [
    "# 11. sort()"
   ]
  },
  {
   "cell_type": "code",
   "execution_count": 141,
   "id": "a2cb60ca",
   "metadata": {},
   "outputs": [
    {
     "data": {
      "text/plain": [
       "array([9, 9, 4, 4, 3])"
      ]
     },
     "execution_count": 141,
     "metadata": {},
     "output_type": "execute_result"
    }
   ],
   "source": [
    "arr = np.random.randint(1,10,size=5)\n",
    "arr"
   ]
  },
  {
   "cell_type": "code",
   "execution_count": 142,
   "id": "3b37a6b8",
   "metadata": {},
   "outputs": [
    {
     "data": {
      "text/plain": [
       "array([3, 4, 4, 9, 9])"
      ]
     },
     "execution_count": 142,
     "metadata": {},
     "output_type": "execute_result"
    }
   ],
   "source": [
    "np.sort(arr)"
   ]
  },
  {
   "cell_type": "code",
   "execution_count": 143,
   "id": "4978edbd",
   "metadata": {},
   "outputs": [
    {
     "data": {
      "text/plain": [
       "array([5, 9, 2, 5, 5, 3, 4, 1, 7, 6, 6, 5, 4, 2, 9])"
      ]
     },
     "execution_count": 143,
     "metadata": {},
     "output_type": "execute_result"
    }
   ],
   "source": [
    "arr = np.random.randint(1,10,size=15)\n",
    "arr"
   ]
  },
  {
   "cell_type": "code",
   "execution_count": 144,
   "id": "6fbe5dee",
   "metadata": {},
   "outputs": [
    {
     "data": {
      "text/plain": [
       "array([1, 2, 2, 3, 4, 4, 5, 5, 5, 5, 6, 6, 7, 9, 9])"
      ]
     },
     "execution_count": 144,
     "metadata": {},
     "output_type": "execute_result"
    }
   ],
   "source": [
    "np.sort(arr)"
   ]
  },
  {
   "cell_type": "code",
   "execution_count": 149,
   "id": "1b2147eb",
   "metadata": {},
   "outputs": [
    {
     "data": {
      "text/plain": [
       "array([[31, 31,  4],\n",
       "       [33, 45, 25],\n",
       "       [ 1, 15, 39]])"
      ]
     },
     "execution_count": 149,
     "metadata": {},
     "output_type": "execute_result"
    }
   ],
   "source": [
    "arr = np.random.randint(1,50,size=(3,3))\n",
    "arr"
   ]
  },
  {
   "cell_type": "code",
   "execution_count": 150,
   "id": "fd6422d5",
   "metadata": {},
   "outputs": [
    {
     "data": {
      "text/plain": [
       "array([[ 4, 31, 31],\n",
       "       [25, 33, 45],\n",
       "       [ 1, 15, 39]])"
      ]
     },
     "execution_count": 150,
     "metadata": {},
     "output_type": "execute_result"
    }
   ],
   "source": [
    "np.sort(arr)"
   ]
  },
  {
   "cell_type": "code",
   "execution_count": 153,
   "id": "3feef1c9",
   "metadata": {},
   "outputs": [
    {
     "data": {
      "text/plain": [
       "array([[ 4, 31, 31],\n",
       "       [25, 33, 45],\n",
       "       [ 1, 15, 39]])"
      ]
     },
     "execution_count": 153,
     "metadata": {},
     "output_type": "execute_result"
    }
   ],
   "source": [
    "np.sort(arr,axis=1) # Sort rows"
   ]
  },
  {
   "cell_type": "code",
   "execution_count": 154,
   "id": "4938b55e",
   "metadata": {},
   "outputs": [
    {
     "data": {
      "text/plain": [
       "array([[ 1, 15,  4],\n",
       "       [31, 31, 25],\n",
       "       [33, 45, 39]])"
      ]
     },
     "execution_count": 154,
     "metadata": {},
     "output_type": "execute_result"
    }
   ],
   "source": [
    "np.sort(arr,axis=0) # Sort your col"
   ]
  },
  {
   "cell_type": "markdown",
   "id": "0da1e60d",
   "metadata": {},
   "source": [
    "# append()\n",
    "- syntax :- np.append(array1,array2,axis=None)\n",
    "- axis = 0 --> Rows\n",
    "- axis = 1 --> Col"
   ]
  },
  {
   "cell_type": "code",
   "execution_count": 155,
   "id": "895b6dc6",
   "metadata": {},
   "outputs": [],
   "source": [
    "li = [1,2,3]\n",
    "li.append(50)"
   ]
  },
  {
   "cell_type": "code",
   "execution_count": 156,
   "id": "24a0cca9",
   "metadata": {},
   "outputs": [
    {
     "data": {
      "text/plain": [
       "[1, 2, 3, 50]"
      ]
     },
     "execution_count": 156,
     "metadata": {},
     "output_type": "execute_result"
    }
   ],
   "source": [
    "li"
   ]
  },
  {
   "cell_type": "code",
   "execution_count": 157,
   "id": "0b6a33ba",
   "metadata": {},
   "outputs": [],
   "source": [
    "li.append([1,2,3])"
   ]
  },
  {
   "cell_type": "code",
   "execution_count": 158,
   "id": "705e78fc",
   "metadata": {},
   "outputs": [
    {
     "data": {
      "text/plain": [
       "[1, 2, 3, 50, [1, 2, 3]]"
      ]
     },
     "execution_count": 158,
     "metadata": {},
     "output_type": "execute_result"
    }
   ],
   "source": [
    "li"
   ]
  },
  {
   "cell_type": "code",
   "execution_count": 159,
   "id": "3952d4ff",
   "metadata": {},
   "outputs": [
    {
     "data": {
      "text/plain": [
       "[1, 2, 3, 50, [1, 2, 3], 11, 22, 33]"
      ]
     },
     "execution_count": 159,
     "metadata": {},
     "output_type": "execute_result"
    }
   ],
   "source": [
    "li.extend([11,22,33])\n",
    "li"
   ]
  },
  {
   "cell_type": "code",
   "execution_count": 160,
   "id": "69ee24f1",
   "metadata": {},
   "outputs": [
    {
     "data": {
      "text/plain": [
       "array([ 1,  2,  3,  4,  5, 11, 22, 33, 44, 55])"
      ]
     },
     "execution_count": 160,
     "metadata": {},
     "output_type": "execute_result"
    }
   ],
   "source": [
    "arr1 = np.array([1,2,3,4,5])\n",
    "arr2 = np.array([11,22,33,44,55])\n",
    "new_arr = np.append(arr1,arr2)\n",
    "new_arr"
   ]
  },
  {
   "cell_type": "code",
   "execution_count": 162,
   "id": "e866d27b",
   "metadata": {},
   "outputs": [
    {
     "data": {
      "text/plain": [
       "array([  1,   2,   3,   4,   5, 500])"
      ]
     },
     "execution_count": 162,
     "metadata": {},
     "output_type": "execute_result"
    }
   ],
   "source": [
    "arr1 = np.array([1,2,3,4,5])\n",
    "arr2 = np.array(500)\n",
    "new_arr = np.append(arr1,arr2)\n",
    "new_arr"
   ]
  },
  {
   "cell_type": "code",
   "execution_count": 163,
   "id": "16a9c218",
   "metadata": {},
   "outputs": [
    {
     "data": {
      "text/plain": [
       "array([   1,    2,    3,    4,    5, 5000])"
      ]
     },
     "execution_count": 163,
     "metadata": {},
     "output_type": "execute_result"
    }
   ],
   "source": [
    "arr1 = np.array([1,2,3,4,5])\n",
    "# arr2 = np.array(500)\n",
    "new_arr = np.append(arr1,5000)\n",
    "new_arr"
   ]
  },
  {
   "cell_type": "code",
   "execution_count": 166,
   "id": "4d22c237",
   "metadata": {},
   "outputs": [
    {
     "data": {
      "text/plain": [
       "array([[ 1,  2,  3,  4,  5],\n",
       "       [11, 22, 33, 44, 55]])"
      ]
     },
     "execution_count": 166,
     "metadata": {},
     "output_type": "execute_result"
    }
   ],
   "source": [
    "arr1 = np.array([[1,2,3,4,5]])\n",
    "arr2 = np.array([[11,22,33,44,55]])\n",
    "new_arr = np.append(arr1,arr2,axis=0)\n",
    "new_arr"
   ]
  },
  {
   "cell_type": "code",
   "execution_count": 168,
   "id": "66c411b0",
   "metadata": {},
   "outputs": [
    {
     "data": {
      "text/plain": [
       "array([[ 1,  2,  3,  4,  5, 11, 22, 33, 44, 55]])"
      ]
     },
     "execution_count": 168,
     "metadata": {},
     "output_type": "execute_result"
    }
   ],
   "source": [
    "arr1 = np.array([[1,2,3,4,5]])\n",
    "arr2 = np.array([[11,22,33,44,55]])\n",
    "new_arr = np.append(arr1,arr2,axis=1)\n",
    "new_arr"
   ]
  },
  {
   "cell_type": "code",
   "execution_count": 169,
   "id": "39dfaace",
   "metadata": {},
   "outputs": [
    {
     "data": {
      "text/plain": [
       "array([[ 1,  2,  3,  4,  5, 11, 22, 33, 44, 55],\n",
       "       [ 1,  2,  3,  4,  5, 11, 22, 33, 44, 55]])"
      ]
     },
     "execution_count": 169,
     "metadata": {},
     "output_type": "execute_result"
    }
   ],
   "source": [
    "arr1 = np.array([[1,2,3,4,5],[1,2,3,4,5]])\n",
    "arr2 = np.array([[11,22,33,44,55],[11,22,33,44,55]])\n",
    "new_arr = np.append(arr1,arr2,axis=1)\n",
    "new_arr"
   ]
  },
  {
   "cell_type": "code",
   "execution_count": 170,
   "id": "f490e68d",
   "metadata": {},
   "outputs": [
    {
     "data": {
      "text/plain": [
       "array([[ 1,  2,  3,  4,  5],\n",
       "       [ 1,  2,  3,  4,  5],\n",
       "       [11, 22, 33, 44, 55],\n",
       "       [11, 22, 33, 44, 55]])"
      ]
     },
     "execution_count": 170,
     "metadata": {},
     "output_type": "execute_result"
    }
   ],
   "source": [
    "arr1 = np.array([[1,2,3,4,5],[1,2,3,4,5]])\n",
    "arr2 = np.array([[11,22,33,44,55],[11,22,33,44,55]])\n",
    "new_arr = np.append(arr1,arr2,axis=0)\n",
    "new_arr"
   ]
  },
  {
   "cell_type": "code",
   "execution_count": 8,
   "id": "292fa660",
   "metadata": {},
   "outputs": [
    {
     "data": {
      "text/plain": [
       "array([[ 1,  2,  3,  4,  5],\n",
       "       [ 1,  2,  3,  4,  5],\n",
       "       [11, 22, 33, 44, 55],\n",
       "       [11, 22, 33, 44, 55]])"
      ]
     },
     "execution_count": 8,
     "metadata": {},
     "output_type": "execute_result"
    }
   ],
   "source": []
  },
  {
   "cell_type": "code",
   "execution_count": null,
   "id": "a7a21d38",
   "metadata": {},
   "outputs": [],
   "source": []
  },
  {
   "cell_type": "markdown",
   "id": "a17c57a7",
   "metadata": {},
   "source": [
    "# np.concatenate"
   ]
  },
  {
   "cell_type": "code",
   "execution_count": 9,
   "id": "d6cd74f5",
   "metadata": {},
   "outputs": [
    {
     "data": {
      "text/plain": [
       "array([[ 1,  2,  3,  4,  5],\n",
       "       [ 1,  2,  3,  4,  5],\n",
       "       [11, 22, 33, 44, 55],\n",
       "       [11, 22, 33, 44, 55]])"
      ]
     },
     "execution_count": 9,
     "metadata": {},
     "output_type": "execute_result"
    }
   ],
   "source": [
    "import numpy as np\n",
    "arr1 = np.array([[1,2,3,4,5],[1,2,3,4,5]])\n",
    "arr2 = np.array([[11,22,33,44,55],[11,22,33,44,55]])\n",
    "np.concatenate([arr1, arr2],axis=0)"
   ]
  },
  {
   "cell_type": "code",
   "execution_count": 10,
   "id": "f5a4c81a",
   "metadata": {},
   "outputs": [
    {
     "data": {
      "text/plain": [
       "array([[ 1,  2,  3,  4,  5, 11, 22, 33, 44, 55],\n",
       "       [ 1,  2,  3,  4,  5, 11, 22, 33, 44, 55]])"
      ]
     },
     "execution_count": 10,
     "metadata": {},
     "output_type": "execute_result"
    }
   ],
   "source": [
    "arr1 = np.array([[1,2,3,4,5],[1,2,3,4,5]])\n",
    "arr2 = np.array([[11,22,33,44,55],[11,22,33,44,55]])\n",
    "np.concatenate([arr1, arr2],axis=1)"
   ]
  },
  {
   "cell_type": "code",
   "execution_count": null,
   "id": "090af9c3",
   "metadata": {},
   "outputs": [],
   "source": []
  }
 ],
 "metadata": {
  "kernelspec": {
   "display_name": "Python 3 (ipykernel)",
   "language": "python",
   "name": "python3"
  },
  "language_info": {
   "codemirror_mode": {
    "name": "ipython",
    "version": 3
   },
   "file_extension": ".py",
   "mimetype": "text/x-python",
   "name": "python",
   "nbconvert_exporter": "python",
   "pygments_lexer": "ipython3",
   "version": "3.9.12"
  }
 },
 "nbformat": 4,
 "nbformat_minor": 5
}
