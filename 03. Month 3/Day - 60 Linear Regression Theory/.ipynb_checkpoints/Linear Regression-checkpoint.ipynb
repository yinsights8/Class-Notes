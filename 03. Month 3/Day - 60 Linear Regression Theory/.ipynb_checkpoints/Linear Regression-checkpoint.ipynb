{
 "cells": [
  {
   "cell_type": "raw",
   "id": "4ddf41e2",
   "metadata": {},
   "source": [
    "1. Linear Regression is Supervised machine Learning Algorithm\n",
    "2. It will help us to resolve the regression problems.\n",
    "\n",
    ">> It is a predictive model used for finding linear relationship between dependent and one more\n",
    "independent variables\n",
    "\n",
    "\n",
    "y = mx + c\n",
    "\n",
    "y = m1x1 + m2x2 + m3x3.............mnxn + c\n",
    "\n",
    "\n",
    "Dependent Variable >> Continuous Data\n",
    "Independent Variable >> Continuous / Discrete"
   ]
  },
  {
   "cell_type": "raw",
   "id": "2370b752",
   "metadata": {},
   "source": [
    "y = mx + c\n",
    "\n",
    "m >> Slope\n",
    "c >> Intercept\n",
    "\n",
    "y = Dependent Variable\n",
    "x = Independent variable"
   ]
  },
  {
   "cell_type": "raw",
   "id": "9d6e02e7",
   "metadata": {},
   "source": [
    "Two Types :\n",
    "    \n",
    "    1. Simple Linear Regression (Only one Independent Variable)\n",
    "    2. Multiple Linear Regression (Two or More Independent Variables)"
   ]
  },
  {
   "cell_type": "code",
   "execution_count": null,
   "id": "e42ccaed",
   "metadata": {},
   "outputs": [],
   "source": []
  }
 ],
 "metadata": {
  "kernelspec": {
   "display_name": "Python 3",
   "language": "python",
   "name": "python3"
  },
  "language_info": {
   "codemirror_mode": {
    "name": "ipython",
    "version": 3
   },
   "file_extension": ".py",
   "mimetype": "text/x-python",
   "name": "python",
   "nbconvert_exporter": "python",
   "pygments_lexer": "ipython3",
   "version": "3.8.8"
  }
 },
 "nbformat": 4,
 "nbformat_minor": 5
}
