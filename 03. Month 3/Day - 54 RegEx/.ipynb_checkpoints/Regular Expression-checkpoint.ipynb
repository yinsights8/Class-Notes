{
 "cells": [
  {
   "cell_type": "markdown",
   "id": "9bc20f3b",
   "metadata": {},
   "source": [
    "# Regular Expression"
   ]
  },
  {
   "cell_type": "markdown",
   "id": "d2eed326",
   "metadata": {},
   "source": [
    "## 1. re.findall()\n",
    "- list = re.findall(pattern,text)"
   ]
  },
  {
   "cell_type": "code",
   "execution_count": 1,
   "id": "0fff1bc3",
   "metadata": {},
   "outputs": [],
   "source": [
    "import re"
   ]
  },
  {
   "cell_type": "code",
   "execution_count": 3,
   "id": "5a82ea0e",
   "metadata": {},
   "outputs": [
    {
     "name": "stdout",
     "output_type": "stream",
     "text": [
      "['9', '8', '7', '6', '5', '4', '4', '5', '6', '5', '8', '7', '6', '7', '6', '5', '1', '2', '3', '2', '8', '7', '5', '6', '4', '7', '7', '5', '8', '6', '7', '5', '7', '7', '4', '6', '7', '4', '7']\n"
     ]
    }
   ],
   "source": [
    "text = \"\"\"9876544565,\n",
    "          8767651232,\n",
    "          87564775867,\n",
    "          57746747\"\"\"\n",
    "Mobile_number = re.findall(\"[0-9]\",text)\n",
    "print(Mobile_number)"
   ]
  },
  {
   "cell_type": "code",
   "execution_count": 4,
   "id": "498f56f2",
   "metadata": {},
   "outputs": [
    {
     "name": "stdout",
     "output_type": "stream",
     "text": [
      "['9', '8', '7', '6', '5', '4', '4', '5', '6', '5', '8', '7', '6', '7', '6', '5', '1', '2', '3', '2', '8', '7', '5', '6', '4', '7', '7', '5', '8', '6', '7', '5', '7', '7', '4', '6', '7', '4', '7']\n"
     ]
    }
   ],
   "source": [
    "text = \"\"\"9876544565,\n",
    "          8767651232,\n",
    "          87564775867,\n",
    "          57746747\"\"\"\n",
    "Mobile_number = re.findall(\"[0-9]{1}\",text)\n",
    "print(Mobile_number)"
   ]
  },
  {
   "cell_type": "code",
   "execution_count": 5,
   "id": "91719a02",
   "metadata": {},
   "outputs": [
    {
     "name": "stdout",
     "output_type": "stream",
     "text": [
      "['98765', '44565', '87676', '51232', '87564', '77586', '57746']\n"
     ]
    }
   ],
   "source": [
    "text = \"\"\"9876544565,\n",
    "          8767651232,\n",
    "          87564775867,\n",
    "          57746747\"\"\"\n",
    "Mobile_number = re.findall(\"[0-9]{5}\",text)\n",
    "print(Mobile_number)"
   ]
  },
  {
   "cell_type": "code",
   "execution_count": 8,
   "id": "adcf7bf2",
   "metadata": {},
   "outputs": [
    {
     "name": "stdout",
     "output_type": "stream",
     "text": [
      "['9876544565', '8767651232', '8756477586']\n"
     ]
    }
   ],
   "source": [
    "text = \"\"\"\n",
    "Mobile Numbers 9876544565,\n",
    "               8767651232,\n",
    "               8756477586,\n",
    "               57746747\n",
    "Mail Ids       prasadreure@gmail.com\"\"\"\n",
    "Mobile_number = re.findall(\"[0-9]{10}\",text)\n",
    "print(Mobile_number)"
   ]
  },
  {
   "cell_type": "code",
   "execution_count": 11,
   "id": "bbd77dc5",
   "metadata": {},
   "outputs": [
    {
     "name": "stdout",
     "output_type": "stream",
     "text": [
      "['obile', 'umber', 'prasa', 'dreur', 'gmail']\n"
     ]
    }
   ],
   "source": [
    "text = \"\"\"\n",
    "Mobile Numbers 9876544565,\n",
    "               8767651232,\n",
    "               8756477586,\n",
    "               57746747\n",
    "Mail Ids       prasadreure@gmail.com\"\"\"\n",
    "MailId = re.findall(\"[a-z]{5}\",text)\n",
    "print(MailId)"
   ]
  },
  {
   "cell_type": "code",
   "execution_count": 13,
   "id": "40b5970b",
   "metadata": {},
   "outputs": [
    {
     "name": "stdout",
     "output_type": "stream",
     "text": [
      "['@']\n"
     ]
    }
   ],
   "source": [
    "text = \"\"\"\n",
    "Mobile Numbers 9876544565,\n",
    "               8767651232,\n",
    "               8756477586,\n",
    "               57746747\n",
    "Mail Ids       prasadreure@gmail.com\"\"\"\n",
    "MailId = re.findall(\"[@]\",text)\n",
    "print(MailId)"
   ]
  },
  {
   "cell_type": "code",
   "execution_count": 14,
   "id": "01a59dcf",
   "metadata": {},
   "outputs": [
    {
     "name": "stdout",
     "output_type": "stream",
     "text": [
      "['.']\n"
     ]
    }
   ],
   "source": [
    "text = \"\"\"\n",
    "Mobile Numbers 9876544565,\n",
    "               8767651232,\n",
    "               8756477586,\n",
    "               57746747\n",
    "Mail Ids       prasadreure@gmail.com\n",
    "Date           21/11/1986\"\"\"\n",
    "MailId = re.findall(\"[.]\",text)\n",
    "print(MailId)"
   ]
  },
  {
   "cell_type": "code",
   "execution_count": 15,
   "id": "3922d71e",
   "metadata": {},
   "outputs": [
    {
     "name": "stdout",
     "output_type": "stream",
     "text": [
      "['/', '/']\n"
     ]
    }
   ],
   "source": [
    "text = \"\"\"\n",
    "Mobile Numbers 9876544565,\n",
    "               8767651232,\n",
    "               8756477586,\n",
    "               57746747\n",
    "Mail Ids       prasadreure@gmail.com\n",
    "Date           21/11/1986\"\"\"\n",
    "MailId = re.findall(\"[/]\",text)\n",
    "print(MailId)"
   ]
  },
  {
   "cell_type": "code",
   "execution_count": 16,
   "id": "30b232e1",
   "metadata": {},
   "outputs": [
    {
     "name": "stdout",
     "output_type": "stream",
     "text": [
      "['e@']\n"
     ]
    }
   ],
   "source": [
    "text = \"\"\"\n",
    "Mobile Numbers 9876544565,\n",
    "               8767651232,\n",
    "               8756477586,\n",
    "               57746747\n",
    "Mail Ids       prasadreure@gmail.com\n",
    "Date           21/11/1986\"\"\"\n",
    "MailId = re.findall(\"[a-z][@]\",text)\n",
    "print(MailId)"
   ]
  },
  {
   "cell_type": "code",
   "execution_count": 17,
   "id": "d42cd7a9",
   "metadata": {},
   "outputs": [
    {
     "name": "stdout",
     "output_type": "stream",
     "text": [
      "['e@g']\n"
     ]
    }
   ],
   "source": [
    "text = \"\"\"\n",
    "Mobile Numbers 9876544565,\n",
    "               8767651232,\n",
    "               8756477586,\n",
    "               57746747\n",
    "Mail Ids       prasadreure@gmail.com\n",
    "Date           21/11/1986\"\"\"\n",
    "MailId = re.findall(\"[a-z][@][a-z]\",text)\n",
    "print(MailId)"
   ]
  },
  {
   "cell_type": "code",
   "execution_count": 19,
   "id": "fd5c5375",
   "metadata": {},
   "outputs": [
    {
     "name": "stdout",
     "output_type": "stream",
     "text": [
      "['prasadreure@g']\n"
     ]
    }
   ],
   "source": [
    "text = \"\"\"\n",
    "Mobile Numbers 9876544565,\n",
    "               8767651232,\n",
    "               8756477586,\n",
    "               57746747\n",
    "Mail Ids       prasadreure@gmail.com\n",
    "Date           21/11/1986\"\"\"\n",
    "MailId = re.findall(\"[a-z]{10,15}[@][a-z]\",text)\n",
    "print(MailId)"
   ]
  },
  {
   "cell_type": "code",
   "execution_count": 20,
   "id": "308782ca",
   "metadata": {},
   "outputs": [
    {
     "name": "stdout",
     "output_type": "stream",
     "text": [
      "['prasadreure@gmail']\n"
     ]
    }
   ],
   "source": [
    "text = \"\"\"\n",
    "Mobile Numbers 9876544565,\n",
    "               8767651232,\n",
    "               8756477586,\n",
    "               57746747\n",
    "Mail Ids       prasadreure@gmail.com\n",
    "Date           21/11/1986\"\"\"\n",
    "MailId = re.findall(\"[a-z]{10,15}[@][a-z]{5}\",text)\n",
    "print(MailId)"
   ]
  },
  {
   "cell_type": "code",
   "execution_count": 21,
   "id": "38de812b",
   "metadata": {},
   "outputs": [
    {
     "name": "stdout",
     "output_type": "stream",
     "text": [
      "['prasadreure@gmail.']\n"
     ]
    }
   ],
   "source": [
    "text = \"\"\"\n",
    "Mobile Numbers 9876544565,\n",
    "               8767651232,\n",
    "               8756477586,\n",
    "               57746747\n",
    "Mail Ids       prasadreure@gmail.com\n",
    "Date           21/11/1986\"\"\"\n",
    "MailId = re.findall(\"[a-z]{10,15}[@][a-z]{5}[.]\",text)\n",
    "print(MailId)"
   ]
  },
  {
   "cell_type": "code",
   "execution_count": 26,
   "id": "4c68b94c",
   "metadata": {},
   "outputs": [
    {
     "name": "stdout",
     "output_type": "stream",
     "text": [
      "['prasadreure@gmail.com']\n"
     ]
    }
   ],
   "source": [
    "text = \"\"\"\n",
    "Mobile Numbers 9876544565,\n",
    "               8767651232,\n",
    "               8756477586,\n",
    "               57746747\n",
    "Mail Ids       prasadreure@gmail.com\n",
    "Date           21/11/1986\"\"\"\n",
    "MailId = re.findall(\"[a-z]{10,15}[@][a-z]{5}[.][a-z]{3,5}\",text)\n",
    "print(MailId)"
   ]
  },
  {
   "cell_type": "code",
   "execution_count": 27,
   "id": "0a6e7d73",
   "metadata": {},
   "outputs": [
    {
     "name": "stdout",
     "output_type": "stream",
     "text": [
      "['prasadreure@gmail.com']\n"
     ]
    }
   ],
   "source": [
    "text = \"\"\"\n",
    "Mobile Numbers 9876544565,\n",
    "               8767651232,\n",
    "               8756477586,\n",
    "               57746747\n",
    "Mail Ids       prasadreure@gmail.com\n",
    "Date           21/11/1986\"\"\"\n",
    "MailId = re.findall(\"[a-z]{5,15}[@][a-z.]{5,15}\",text)\n",
    "print(MailId)"
   ]
  },
  {
   "cell_type": "code",
   "execution_count": 28,
   "id": "a6d3d732",
   "metadata": {},
   "outputs": [
    {
     "name": "stdout",
     "output_type": "stream",
     "text": [
      "['prasadreure@gmail....com']\n"
     ]
    }
   ],
   "source": [
    "text = \"\"\"\n",
    "Mobile Numbers 9876544565,\n",
    "               8767651232,\n",
    "               8756477586,\n",
    "               57746747\n",
    "Mail Ids       prasadreure@gmail....com\n",
    "Date           21/11/1986\"\"\"\n",
    "MailId = re.findall(\"[a-z]{5,15}[@][a-z.]{5,15}\",text)\n",
    "print(MailId)"
   ]
  },
  {
   "cell_type": "code",
   "execution_count": 34,
   "id": "0152e122",
   "metadata": {},
   "outputs": [
    {
     "name": "stdout",
     "output_type": "stream",
     "text": [
      "['prasadreure@gmail.com', 'prasad_reure@gmail.com', 'prasad.reure@gmail.com', 'Prasad.Reure@gmail.com']\n"
     ]
    }
   ],
   "source": [
    "text = \"\"\"\n",
    "Mobile Numbers 9876544565,\n",
    "               8767651232,\n",
    "               8756477586,\n",
    "               57746747\n",
    "Mail Ids       prasadreure@gmail.com\n",
    "               prasad_reure@gmail.com\n",
    "               prasad.reure@gmail.com\n",
    "               Prasad.Reure@gmail.com\n",
    "Date           21/11/1986\"\"\"\n",
    "MailId = re.findall(\"[a-zA-Z_.]{5,15}[@][a-zA-Z.]{5,15}\",text)\n",
    "print(MailId)"
   ]
  },
  {
   "cell_type": "code",
   "execution_count": 36,
   "id": "9643f5d4",
   "metadata": {},
   "outputs": [
    {
     "name": "stdout",
     "output_type": "stream",
     "text": [
      "['prasadreure@gmail.com', 'prasad_reure@gmail.com', 'prasad.reure@gmail.com', 'Prasad.Reure@gmail.com', 'p.r@gmail.com']\n"
     ]
    }
   ],
   "source": [
    "text = \"\"\"\n",
    "Mobile Numbers 9876544565,\n",
    "               8767651232,\n",
    "               8756477586,\n",
    "               57746747\n",
    "Mail Ids       prasadreure@gmail.com\n",
    "               prasad_reure@gmail.com\n",
    "               prasad.reure@gmail.com\n",
    "               Prasad.Reure@gmail.com\n",
    "               p.r@gmail.com\n",
    "Date           21/11/1986\"\"\"\n",
    "MailId = re.findall(\"[a-zA-Z_.]{1,15}[@][a-zA-Z.]{1,15}\",text)\n",
    "print(MailId)"
   ]
  },
  {
   "cell_type": "code",
   "execution_count": 41,
   "id": "01683313",
   "metadata": {},
   "outputs": [
    {
     "name": "stdout",
     "output_type": "stream",
     "text": [
      "['prasadreure@gmail.com', 'prasad_reure@gmail.com', 'prasad.reure@gmail.com', 'Prasad.Reure@gmail.com', 'prasadreure07@gmail.com'] 5\n"
     ]
    }
   ],
   "source": [
    "text = \"\"\"\n",
    "Mobile Numbers 9876544565,\n",
    "               8767651232,\n",
    "               8756477586,\n",
    "               57746747\n",
    "Mail Ids       prasadreure@gmail.com\n",
    "               prasad_reure@gmail.com\n",
    "               prasad.reure@gmail.com\n",
    "               Prasad.Reure@gmail.com\n",
    "               prasadreure07@gmail.com\n",
    "Date           21/11/1986\"\"\"\n",
    "MailId = re.findall(\"[a-zA-Z0-9_.]{2,15}[@][a-z.]{2,15}\",text)\n",
    "print(MailId,len(MailId))"
   ]
  },
  {
   "cell_type": "code",
   "execution_count": 42,
   "id": "0ce522d9",
   "metadata": {},
   "outputs": [
    {
     "name": "stdout",
     "output_type": "stream",
     "text": [
      "['prasadreure@gmail.com', 'prasad_reure@gmail.com', 'prasad.reure@gmail.com', 'Prasad.Reure@gmail.com', 'prasadreure07@gmail.com', 'prasad_reure_07@gmail.com'] 6\n"
     ]
    }
   ],
   "source": [
    "text = \"\"\"\n",
    "Mobile Numbers 9876544565,\n",
    "               8767651232,\n",
    "               8756477586,\n",
    "               57746747\n",
    "Mail Ids       prasadreure@gmail.com\n",
    "               prasad_reure@gmail.com\n",
    "               prasad.reure@gmail.com\n",
    "               Prasad.Reure@gmail.com\n",
    "               prasadreure07@gmail.com\n",
    "               prasad_reure_07@gmail.com\n",
    "Date           21/11/1986\"\"\"\n",
    "MailId = re.findall(\"[a-zA-Z0-9_.]{2,15}[@][a-z.]{2,15}\",text)\n",
    "print(MailId,len(MailId))"
   ]
  },
  {
   "cell_type": "code",
   "execution_count": 43,
   "id": "3e749d82",
   "metadata": {},
   "outputs": [
    {
     "name": "stdout",
     "output_type": "stream",
     "text": [
      "['prasadreure@gmail.com', 'prasad_reure@gmail.com', 'prasad.reure@gmail.com', 'Prasad.Reure@gmail.com', 'prasadreure07@gmail.com', 'prasad_reure_07@gmail.com', 'prasad_reure_07@redifmail.com'] 7\n"
     ]
    }
   ],
   "source": [
    "text = \"\"\"\n",
    "Mobile Numbers 9876544565,\n",
    "               8767651232,\n",
    "               8756477586,\n",
    "               57746747\n",
    "Mail Ids       prasadreure@gmail.com\n",
    "               prasad_reure@gmail.com\n",
    "               prasad.reure@gmail.com\n",
    "               Prasad.Reure@gmail.com\n",
    "               prasadreure07@gmail.com\n",
    "               prasad_reure_07@gmail.com\n",
    "               prasad_reure_07@redifmail.com\n",
    "Date           21/11/1986\"\"\"\n",
    "MailId = re.findall(\"[a-zA-Z0-9_.]{2,15}[@][a-z.]{2,15}\",text)\n",
    "print(MailId,len(MailId))"
   ]
  },
  {
   "cell_type": "code",
   "execution_count": 44,
   "id": "8e780a1f",
   "metadata": {},
   "outputs": [
    {
     "name": "stdout",
     "output_type": "stream",
     "text": [
      "['prasadreure@gmail.com', 'prasad_reure@gmail.com', 'prasad.reure@gmail.com', 'Prasad.Reure@gmail.com', 'prasadreure07@gmail.com', 'prasad_reure_07@gmail.com', 'prasad_reure_07@redifmail.com', 'prasad_reure_07@vctcpune.co.in'] 8\n"
     ]
    }
   ],
   "source": [
    "text = \"\"\"\n",
    "Mobile Numbers 9876544565,\n",
    "               8767651232,\n",
    "               8756477586,\n",
    "               57746747\n",
    "Mail Ids       prasadreure@gmail.com\n",
    "               prasad_reure@gmail.com\n",
    "               prasad.reure@gmail.com\n",
    "               Prasad.Reure@gmail.com\n",
    "               prasadreure07@gmail.com\n",
    "               prasad_reure_07@gmail.com\n",
    "               prasad_reure_07@redifmail.com\n",
    "               prasad_reure_07@vctcpune.co.in\n",
    "Date           21/11/1986\"\"\"\n",
    "MailId = re.findall(\"[a-zA-Z0-9_.]{2,15}[@][a-z.]{2,15}\",text)\n",
    "print(MailId,len(MailId))"
   ]
  },
  {
   "cell_type": "code",
   "execution_count": 46,
   "id": "5b197ac4",
   "metadata": {},
   "outputs": [
    {
     "name": "stdout",
     "output_type": "stream",
     "text": [
      "['21/11/1986'] 1\n"
     ]
    }
   ],
   "source": [
    "text = \"\"\"\n",
    "Mobile Numbers 9876544565,\n",
    "               8767651232,\n",
    "               8756477586,\n",
    "               57746747\n",
    "Mail Ids       prasadreure@gmail.com\n",
    "               prasad_reure@gmail.com\n",
    "               prasad.reure@gmail.com\n",
    "               Prasad.Reure@gmail.com\n",
    "               prasadreure07@gmail.com\n",
    "               prasad_reure_07@gmail.com\n",
    "               prasad_reure_07@redifmail.com\n",
    "               prasad_reure_07@vctcpune.co.in\n",
    "Date           21/11/1986\"\"\"\n",
    "Date = re.findall(\"[0-9]{2}[/][0-9]{2}[/][0-9]{4}\",text)\n",
    "print(Date,len(Date))"
   ]
  },
  {
   "cell_type": "code",
   "execution_count": 47,
   "id": "db2937d4",
   "metadata": {},
   "outputs": [
    {
     "name": "stdout",
     "output_type": "stream",
     "text": [
      "['21/11/1986', '21-11-1986'] 2\n"
     ]
    }
   ],
   "source": [
    "text = \"\"\"\n",
    "Mobile Numbers 9876544565,\n",
    "               8767651232,\n",
    "               8756477586,\n",
    "               57746747\n",
    "Mail Ids       prasadreure@gmail.com\n",
    "               prasad_reure@gmail.com\n",
    "               prasad.reure@gmail.com\n",
    "               Prasad.Reure@gmail.com\n",
    "               prasadreure07@gmail.com\n",
    "               prasad_reure_07@gmail.com\n",
    "               prasad_reure_07@redifmail.com\n",
    "               prasad_reure_07@vctcpune.co.in\n",
    "Date           21/11/1986\n",
    "               21-11-1986\"\"\"\n",
    "Date = re.findall(\"[0-9]{2}[/-][0-9]{2}[/-][0-9]{4}\",text)\n",
    "print(Date,len(Date))"
   ]
  },
  {
   "cell_type": "code",
   "execution_count": 54,
   "id": "a055d752",
   "metadata": {},
   "outputs": [
    {
     "name": "stdout",
     "output_type": "stream",
     "text": [
      "['9876', '5445', '8767', '6512', '8756', '4775', '5774', '6747', '1986', '1986', '7645', '5793', '9797', '6577', '6754', '8767', '5743', '4563', '6574', '8574', '6785', '8786'] 22\n"
     ]
    }
   ],
   "source": [
    "text = \"\"\"\n",
    "Mobile Numbers 9876544565,\n",
    "               8767651232,\n",
    "               8756477586,\n",
    "               57746747\n",
    "               \n",
    "Mail Ids       prasadreure@gmail.com\n",
    "               prasad_reure@gmail.com\n",
    "               prasad.reure@gmail.com\n",
    "               Prasad.Reure@gmail.com\n",
    "               prasadreure07@gmail.com\n",
    "               prasad_reure_07@gmail.com\n",
    "               prasad_reure_07@redifmail.com\n",
    "               prasad_reure_07@vctcpune.co.in\n",
    "               \n",
    "Date           21/11/1986\n",
    "               21-11-1986\n",
    "               \n",
    "Adhar Numbers  7645 5793 9797 # Valid\n",
    "               345 6577 6754\n",
    "               8767 678 5743\n",
    "               4563 6574 663\n",
    "               8574 6785 8786 # Valid\"\"\" \n",
    "\n",
    "\n",
    "Adhar = re.findall(\"[0-9]{4}\",text)\n",
    "print(Adhar,len(Adhar))"
   ]
  },
  {
   "cell_type": "code",
   "execution_count": 55,
   "id": "c943378a",
   "metadata": {},
   "outputs": [
    {
     "name": "stdout",
     "output_type": "stream",
     "text": [
      "['7645 ', '5793 ', '9797 ', '6577 ', '8767 ', '4563 ', '6574 ', '8574 ', '6785 ', '8786 '] 10\n"
     ]
    }
   ],
   "source": [
    "text = \"\"\"\n",
    "Mobile Numbers 9876544565,\n",
    "               8767651232,\n",
    "               8756477586,\n",
    "               57746747\n",
    "               \n",
    "Mail Ids       prasadreure@gmail.com\n",
    "               prasad_reure@gmail.com\n",
    "               prasad.reure@gmail.com\n",
    "               Prasad.Reure@gmail.com\n",
    "               prasadreure07@gmail.com\n",
    "               prasad_reure_07@gmail.com\n",
    "               prasad_reure_07@redifmail.com\n",
    "               prasad_reure_07@vctcpune.co.in\n",
    "               \n",
    "Date           21/11/1986\n",
    "               21-11-1986\n",
    "               \n",
    "Adhar Numbers  7645 5793 9797 # Valid\n",
    "               345 6577 6754\n",
    "               8767 678 5743\n",
    "               4563 6574 663\n",
    "               8574 6785 8786 # Valid\"\"\" \n",
    "\n",
    "\n",
    "Adhar = re.findall(\"[0-9]{4}[ ]\",text)\n",
    "print(Adhar,len(Adhar))"
   ]
  },
  {
   "cell_type": "code",
   "execution_count": 56,
   "id": "f1370fe4",
   "metadata": {},
   "outputs": [
    {
     "name": "stdout",
     "output_type": "stream",
     "text": [
      "['7645 5793', '6577 6754', '4563 6574', '8574 6785'] 4\n"
     ]
    }
   ],
   "source": [
    "text = \"\"\"\n",
    "Mobile Numbers 9876544565,\n",
    "               8767651232,\n",
    "               8756477586,\n",
    "               57746747\n",
    "               \n",
    "Mail Ids       prasadreure@gmail.com\n",
    "               prasad_reure@gmail.com\n",
    "               prasad.reure@gmail.com\n",
    "               Prasad.Reure@gmail.com\n",
    "               prasadreure07@gmail.com\n",
    "               prasad_reure_07@gmail.com\n",
    "               prasad_reure_07@redifmail.com\n",
    "               prasad_reure_07@vctcpune.co.in\n",
    "               \n",
    "Date           21/11/1986\n",
    "               21-11-1986\n",
    "               \n",
    "Adhar Numbers  7645 5793 9797 # Valid\n",
    "               345 6577 6754\n",
    "               8767 678 5743\n",
    "               4563 6574 663\n",
    "               8574 6785 8786 # Valid\"\"\" \n",
    "\n",
    "\n",
    "Adhar = re.findall(\"[0-9]{4}[ ][0-9]{4}\",text)\n",
    "print(Adhar,len(Adhar))"
   ]
  },
  {
   "cell_type": "code",
   "execution_count": 57,
   "id": "5e609675",
   "metadata": {},
   "outputs": [
    {
     "name": "stdout",
     "output_type": "stream",
     "text": [
      "['7645 5793 9797', '8574 6785 8786'] 2\n"
     ]
    }
   ],
   "source": [
    "text = \"\"\"\n",
    "Mobile Numbers 9876544565,\n",
    "               8767651232,\n",
    "               8756477586,\n",
    "               57746747\n",
    "               \n",
    "Mail Ids       prasadreure@gmail.com\n",
    "               prasad_reure@gmail.com\n",
    "               prasad.reure@gmail.com\n",
    "               Prasad.Reure@gmail.com\n",
    "               prasadreure07@gmail.com\n",
    "               prasad_reure_07@gmail.com\n",
    "               prasad_reure_07@redifmail.com\n",
    "               prasad_reure_07@vctcpune.co.in\n",
    "               \n",
    "Date           21/11/1986\n",
    "               21-11-1986\n",
    "               \n",
    "Adhar Numbers  7645 5793 9797 # Valid\n",
    "               345 6577 6754\n",
    "               8767 678 5743\n",
    "               4563 6574 663\n",
    "               8574 6785 8786 # Valid\"\"\" \n",
    "\n",
    "\n",
    "Adhar = re.findall(\"[0-9]{4}[ ][0-9]{4}[ ][0-9]{4}\",text)\n",
    "print(Adhar,len(Adhar))"
   ]
  },
  {
   "cell_type": "code",
   "execution_count": 59,
   "id": "5cb14f2b",
   "metadata": {},
   "outputs": [
    {
     "name": "stdout",
     "output_type": "stream",
     "text": [
      "['HFRTG', 'QWERT'] 2\n"
     ]
    }
   ],
   "source": [
    "text = \"\"\"\n",
    "Mobile Numbers 9876544565,\n",
    "               8767651232,\n",
    "               8756477586,\n",
    "               57746747\n",
    "               HFRTG\n",
    "               \n",
    "Mail Ids       prasadreure@gmail.com\n",
    "               prasad_reure@gmail.com\n",
    "               prasad.reure@gmail.com\n",
    "               Prasad.Reure@gmail.com\n",
    "               prasadreure07@gmail.com\n",
    "               prasad_reure_07@gmail.com\n",
    "               prasad_reure_07@redifmail.com\n",
    "               prasad_reure_07@vctcpune.co.in\n",
    "               \n",
    "Date           21/11/1986\n",
    "               21-11-1986\n",
    "               \n",
    "Adhar Numbers  7645 5793 9797 # Valid\n",
    "               345 6577 6754\n",
    "               8767 678 5743\n",
    "               4563 6574 663\n",
    "               8574 6785 8786 # Valid\n",
    "               \n",
    "Pan Number     QWERT8779Q\"\"\" \n",
    "\n",
    "\n",
    "Pan = re.findall(\"[A-Z]{5}\",text)\n",
    "print(Pan,len(Pan))"
   ]
  },
  {
   "cell_type": "code",
   "execution_count": 61,
   "id": "fef7c5d1",
   "metadata": {},
   "outputs": [
    {
     "name": "stdout",
     "output_type": "stream",
     "text": [
      "['HFRTG4564', 'QWERT8779'] 2\n"
     ]
    }
   ],
   "source": [
    "text = \"\"\"\n",
    "Mobile Numbers 9876544565,\n",
    "               8767651232,\n",
    "               8756477586,\n",
    "               57746747\n",
    "               HFRTG4564\n",
    "               \n",
    "Mail Ids       prasadreure@gmail.com\n",
    "               prasad_reure@gmail.com\n",
    "               prasad.reure@gmail.com\n",
    "               Prasad.Reure@gmail.com\n",
    "               prasadreure07@gmail.com\n",
    "               prasad_reure_07@gmail.com\n",
    "               prasad_reure_07@redifmail.com\n",
    "               prasad_reure_07@vctcpune.co.in\n",
    "               \n",
    "Date           21/11/1986\n",
    "               21-11-1986\n",
    "               \n",
    "Adhar Numbers  7645 5793 9797 # Valid\n",
    "               345 6577 6754\n",
    "               8767 678 5743\n",
    "               4563 6574 663\n",
    "               8574 6785 8786 # Valid\n",
    "               \n",
    "Pan Number     QWERT8779Q\"\"\" \n",
    "\n",
    "\n",
    "Pan = re.findall(\"[A-Z]{5}[0-9]{4}\",text)\n",
    "print(Pan,len(Pan))"
   ]
  },
  {
   "cell_type": "code",
   "execution_count": 62,
   "id": "114a1763",
   "metadata": {},
   "outputs": [
    {
     "name": "stdout",
     "output_type": "stream",
     "text": [
      "['QWERT8779Q'] 1\n"
     ]
    }
   ],
   "source": [
    "text = \"\"\"\n",
    "Mobile Numbers 9876544565,\n",
    "               8767651232,\n",
    "               8756477586,\n",
    "               57746747\n",
    "               HFRTG4564\n",
    "               \n",
    "Mail Ids       prasadreure@gmail.com\n",
    "               prasad_reure@gmail.com\n",
    "               prasad.reure@gmail.com\n",
    "               Prasad.Reure@gmail.com\n",
    "               prasadreure07@gmail.com\n",
    "               prasad_reure_07@gmail.com\n",
    "               prasad_reure_07@redifmail.com\n",
    "               prasad_reure_07@vctcpune.co.in\n",
    "               \n",
    "Date           21/11/1986\n",
    "               21-11-1986\n",
    "               \n",
    "Adhar Numbers  7645 5793 9797 # Valid\n",
    "               345 6577 6754\n",
    "               8767 678 5743\n",
    "               4563 6574 663\n",
    "               8574 6785 8786 # Valid\n",
    "               \n",
    "Pan Number     QWERT8779Q\"\"\" \n",
    "\n",
    "\n",
    "Pan = re.findall(\"[A-Z]{5}[0-9]{4}[A-Z]\",text)\n",
    "print(Pan,len(Pan))"
   ]
  },
  {
   "cell_type": "code",
   "execution_count": 63,
   "id": "dab20641",
   "metadata": {},
   "outputs": [
    {
     "name": "stdout",
     "output_type": "stream",
     "text": [
      "['QWERT8779Q', 'ASDFG1234T', 'QAZXS6547Y'] 3\n"
     ]
    }
   ],
   "source": [
    "text = \"\"\"\n",
    "Mobile Numbers 9876544565,\n",
    "               8767651232,\n",
    "               8756477586,\n",
    "               57746747\n",
    "               HFRTG4564\n",
    "               \n",
    "Mail Ids       prasadreure@gmail.com\n",
    "               prasad_reure@gmail.com\n",
    "               prasad.reure@gmail.com\n",
    "               Prasad.Reure@gmail.com\n",
    "               prasadreure07@gmail.com\n",
    "               prasad_reure_07@gmail.com\n",
    "               prasad_reure_07@redifmail.com\n",
    "               prasad_reure_07@vctcpune.co.in\n",
    "               \n",
    "Date           21/11/1986\n",
    "               21-11-1986\n",
    "               \n",
    "Adhar Numbers  7645 5793 9797 # Valid\n",
    "               345 6577 6754\n",
    "               8767 678 5743\n",
    "               4563 6574 663\n",
    "               8574 6785 8786 # Valid\n",
    "               \n",
    "Pan Number     QWERT8779Q \n",
    "               ASDFG1234T\n",
    "               POJO7878P\n",
    "               NVJIP876P\n",
    "               NJPJF8667p\n",
    "               QAZXS6547Y\"\"\" \n",
    "\n",
    "\n",
    "Pan = re.findall(\"[A-Z]{5}[0-9]{4}[A-Z]\",text)\n",
    "print(Pan,len(Pan))"
   ]
  },
  {
   "cell_type": "markdown",
   "id": "dbb4ab1d",
   "metadata": {},
   "source": [
    "# Special Sequence"
   ]
  },
  {
   "cell_type": "markdown",
   "id": "0df18f79",
   "metadata": {},
   "source": [
    "## 1. \\d\n",
    "- \\d -- [0-9]"
   ]
  },
  {
   "cell_type": "code",
   "execution_count": 64,
   "id": "3e7101e5",
   "metadata": {},
   "outputs": [
    {
     "name": "stdout",
     "output_type": "stream",
     "text": [
      "['QWERT8779Q', 'ASDFG1234T', 'QAZXS6547Y'] 3\n"
     ]
    }
   ],
   "source": [
    "text = \"\"\"\n",
    "Mobile Numbers 9876544565,\n",
    "               8767651232,\n",
    "               8756477586,\n",
    "               57746747\n",
    "               HFRTG4564\n",
    "               \n",
    "Mail Ids       prasadreure@gmail.com\n",
    "               prasad_reure@gmail.com\n",
    "               prasad.reure@gmail.com\n",
    "               Prasad.Reure@gmail.com\n",
    "               prasadreure07@gmail.com\n",
    "               prasad_reure_07@gmail.com\n",
    "               prasad_reure_07@redifmail.com\n",
    "               prasad_reure_07@vctcpune.co.in\n",
    "               \n",
    "Date           21/11/1986\n",
    "               21-11-1986\n",
    "               \n",
    "Adhar Numbers  7645 5793 9797 # Valid\n",
    "               345 6577 6754\n",
    "               8767 678 5743\n",
    "               4563 6574 663\n",
    "               8574 6785 8786 # Valid\n",
    "               \n",
    "Pan Number     QWERT8779Q \n",
    "               ASDFG1234T\n",
    "               POJO7878P\n",
    "               NVJIP876P\n",
    "               NJPJF8667p\n",
    "               QAZXS6547Y\"\"\" \n",
    "\n",
    "\n",
    "Pan = re.findall(\"[A-Z]{5}\\d{4}[A-Z]\",text)\n",
    "print(Pan,len(Pan))"
   ]
  },
  {
   "cell_type": "code",
   "execution_count": 65,
   "id": "5ada15dc",
   "metadata": {},
   "outputs": [
    {
     "name": "stdout",
     "output_type": "stream",
     "text": [
      "['7645 5793 9797', '8574 6785 8786'] 2\n"
     ]
    }
   ],
   "source": [
    "text = \"\"\"\n",
    "Mobile Numbers 9876544565,\n",
    "               8767651232,\n",
    "               8756477586,\n",
    "               57746747\n",
    "               \n",
    "Mail Ids       prasadreure@gmail.com\n",
    "               prasad_reure@gmail.com\n",
    "               prasad.reure@gmail.com\n",
    "               Prasad.Reure@gmail.com\n",
    "               prasadreure07@gmail.com\n",
    "               prasad_reure_07@gmail.com\n",
    "               prasad_reure_07@redifmail.com\n",
    "               prasad_reure_07@vctcpune.co.in\n",
    "               \n",
    "Date           21/11/1986\n",
    "               21-11-1986\n",
    "               \n",
    "Adhar Numbers  7645 5793 9797 # Valid\n",
    "               345 6577 6754\n",
    "               8767 678 5743\n",
    "               4563 6574 663\n",
    "               8574 6785 8786 # Valid\"\"\" \n",
    "\n",
    "\n",
    "Adhar = re.findall(\"\\d{4}[ ]\\d{4}[ ]\\d{4}\",text)\n",
    "print(Adhar,len(Adhar))"
   ]
  },
  {
   "cell_type": "code",
   "execution_count": 66,
   "id": "f1800ef1",
   "metadata": {},
   "outputs": [
    {
     "name": "stdout",
     "output_type": "stream",
     "text": [
      "['21/11/1986', '21-11-1986'] 2\n"
     ]
    }
   ],
   "source": [
    "text = \"\"\"\n",
    "Mobile Numbers 9876544565,\n",
    "               8767651232,\n",
    "               8756477586,\n",
    "               57746747\n",
    "Mail Ids       prasadreure@gmail.com\n",
    "               prasad_reure@gmail.com\n",
    "               prasad.reure@gmail.com\n",
    "               Prasad.Reure@gmail.com\n",
    "               prasadreure07@gmail.com\n",
    "               prasad_reure_07@gmail.com\n",
    "               prasad_reure_07@redifmail.com\n",
    "               prasad_reure_07@vctcpune.co.in\n",
    "Date           21/11/1986\n",
    "               21-11-1986\"\"\"\n",
    "Date = re.findall(\"\\d{2}[/-]\\d{2}[/-]\\d{4}\",text)\n",
    "print(Date,len(Date))"
   ]
  },
  {
   "cell_type": "markdown",
   "id": "af7ec8b2",
   "metadata": {},
   "source": [
    "## 2. \\D\n",
    "- \\D -- Except[0-9] = [^0-9]"
   ]
  },
  {
   "cell_type": "code",
   "execution_count": 67,
   "id": "6e5a5e3c",
   "metadata": {},
   "outputs": [
    {
     "data": {
      "text/plain": [
       "['Q', 'W', 'E', 'R', 'T', 'Q']"
      ]
     },
     "execution_count": 67,
     "metadata": {},
     "output_type": "execute_result"
    }
   ],
   "source": [
    "re.findall(\"\\D\",\"QWERT8779Q\")"
   ]
  },
  {
   "cell_type": "code",
   "execution_count": 68,
   "id": "d3a93e71",
   "metadata": {},
   "outputs": [
    {
     "data": {
      "text/plain": [
       "['Q', 'W', 'E', 'R', 'T', 'Q']"
      ]
     },
     "execution_count": 68,
     "metadata": {},
     "output_type": "execute_result"
    }
   ],
   "source": [
    "re.findall(\"[^0-9]\",\"QWERT8779Q\")"
   ]
  },
  {
   "cell_type": "code",
   "execution_count": 70,
   "id": "fe2c9c9b",
   "metadata": {},
   "outputs": [
    {
     "data": {
      "text/plain": [
       "['Q',\n",
       " 'W',\n",
       " 'E',\n",
       " 'R',\n",
       " 'T',\n",
       " 'Q',\n",
       " 'f',\n",
       " 'g',\n",
       " 'h',\n",
       " 'f',\n",
       " 'g',\n",
       " 'h',\n",
       " '@',\n",
       " '#',\n",
       " '@',\n",
       " '$',\n",
       " '?',\n",
       " '/']"
      ]
     },
     "execution_count": 70,
     "metadata": {},
     "output_type": "execute_result"
    }
   ],
   "source": [
    "re.findall(\"[^0-9]\",\"QWERT8779Qfghfgh@#@45765467568$?/\")"
   ]
  },
  {
   "cell_type": "code",
   "execution_count": 71,
   "id": "bd3ca155",
   "metadata": {},
   "outputs": [
    {
     "data": {
      "text/plain": [
       "['QWERT', 'Qfghf', 'gh@#@']"
      ]
     },
     "execution_count": 71,
     "metadata": {},
     "output_type": "execute_result"
    }
   ],
   "source": [
    "re.findall(\"[^0-9]{5}\",\"QWERT8779Qfghfgh@#@45765467568$?/\")"
   ]
  },
  {
   "cell_type": "code",
   "execution_count": 72,
   "id": "57f39ec7",
   "metadata": {},
   "outputs": [
    {
     "data": {
      "text/plain": [
       "['QWERT', 'Qfghf', 'gh@#@', '$?/:|']"
      ]
     },
     "execution_count": 72,
     "metadata": {},
     "output_type": "execute_result"
    }
   ],
   "source": [
    "re.findall(\"[^0-9]{5}\",\"QWERT8779Qfghfgh@#@45765467568$?/:|\")"
   ]
  },
  {
   "cell_type": "code",
   "execution_count": 75,
   "id": "9c7e48e6",
   "metadata": {},
   "outputs": [
    {
     "name": "stdout",
     "output_type": "stream",
     "text": [
      "['Learn', 'ing a', 'lgori', 'thms ', 'work ', 'on th', 'e bas', 'is th', 'at st', 'rateg', 'ies, ', 'algor', 'ithms', ', and', ' infe', 'rence', 's tha', 't \\nwo', 'rked ', 'well ', 'in th', 'e pas', 't are', ' like', 'ly to', ' cont', 'inue ', 'worki', 'ng we', 'll in', ' the ', 'futur', 'e. Th', 'ese i', 'nfere', 'nces ', 'can \\n', 'be ob', 'vious', ', suc', 'h as ', '\"sinc', 'e the', ' sun ', 'rose ', 'every', ' morn', 'ing f', 'or th', 'e las', ' days', ', it ', 'will ', 'proba', 'bly \\n', 'rise ', 'tomor', 'row m', 'ornin', 'g as ', 'well\"', '. The', 'y can', ' be n', 'uance', 'd, su', 'ch as', ' \"X% ', 'of fa', 'milie', 's hav', 'e geo', 'graph', 'icall', 'y s\\ne', 'parat', 'e spe', 'cies ', 'with ', 'color', ' vari', 'ants,', ' so t', 'here ', 'is a ', 'Y% ch', 'ance ', 'that ', 'undis', 'cover', 'ed bl', 'ack s', 'wans ', 'exist']\n"
     ]
    }
   ],
   "source": [
    "text = \"\"\"Learning algorithms work on the basis that strategies, algorithms, and inferences that \n",
    "worked well in the past are likely to continue working well in the future. These inferences can \n",
    "be obvious, such as \"since the sun rose every morning for the last 10,000 days, it will probably \n",
    "rise tomorrow morning as well\". They can be nuanced, such as \"X% of families have geographically s\n",
    "eparate species with color variants, so there is a Y% chance that undiscovered black swans exist\".\n",
    "\"\"\"\n",
    "print(re.findall(\"\\D{5}\",text))"
   ]
  },
  {
   "cell_type": "code",
   "execution_count": 76,
   "id": "12cee8a0",
   "metadata": {},
   "outputs": [
    {
     "name": "stdout",
     "output_type": "stream",
     "text": [
      "['Learn', 'ing a', 'lgori', 'thms ', 'work ', 'on th', 'e bas', 'is th', 'at st', 'rateg', 'ies, ', 'algor', 'ithms', ', and', ' infe', 'rence', 's tha', 't \\nwo', 'rked ', 'well ', 'in th', 'e pas', 't are', ' like', 'ly to', ' cont', 'inue ', 'worki', 'ng we', 'll in', ' the ', 'futur', 'e. Th', 'ese i', 'nfere', 'nces ', 'can \\n', 'be ob', 'vious', ', suc', 'h as ', '\"sinc', 'e the', ' sun ', 'rose ', 'every', ' morn', 'ing f', 'or th', 'e las', ' days', ', it ', 'will ', 'proba', 'bly \\n', 'rise ', 'tomor', 'row m', 'ornin', 'g as ', 'well\"', '. The', 'y can', ' be n', 'uance', 'd, su', 'ch as', ' \"X% ', 'of fa', 'milie', 's hav', 'e geo', 'graph', 'icall', 'y s\\ne', 'parat', 'e spe', 'cies ', 'with ', 'color', ' vari', 'ants,', ' so t', 'here ', 'is a ', 'Y% ch', 'ance ', 'that ', 'undis', 'cover', 'ed bl', 'ack s', 'wans ', 'exist']\n"
     ]
    }
   ],
   "source": [
    "text = \"\"\"Learning algorithms work on the basis that strategies, algorithms, and inferences that \n",
    "worked well in the past are likely to 98886746636637758869609870967 continue working well in the future. These inferences can \n",
    "be obvious, such as \"since the sun rose every morning for the last 10,000 days, it will probably \n",
    "rise tomorrow morning as well\". They can be nuanced, such as \"X% of families have geographically s\n",
    "eparate species with color variants, so there is a Y% chance that undiscovered black swans exist\".\n",
    "98886746636637758869609870967\"\"\"\n",
    "print(re.findall(\"\\D{5}\",text))"
   ]
  },
  {
   "cell_type": "markdown",
   "id": "92f913b3",
   "metadata": {},
   "source": [
    "## 3. \\s\n",
    "- \\s = [ ]"
   ]
  },
  {
   "cell_type": "code",
   "execution_count": 77,
   "id": "0144bbeb",
   "metadata": {},
   "outputs": [
    {
     "name": "stdout",
     "output_type": "stream",
     "text": [
      "['7645 5793 9797', '8574 6785 8786'] 2\n"
     ]
    }
   ],
   "source": [
    "text = \"\"\"\n",
    "Mobile Numbers 9876544565,\n",
    "               8767651232,\n",
    "               8756477586,\n",
    "               57746747\n",
    "               \n",
    "Mail Ids       prasadreure@gmail.com\n",
    "               prasad_reure@gmail.com\n",
    "               prasad.reure@gmail.com\n",
    "               Prasad.Reure@gmail.com\n",
    "               prasadreure07@gmail.com\n",
    "               prasad_reure_07@gmail.com\n",
    "               prasad_reure_07@redifmail.com\n",
    "               prasad_reure_07@vctcpune.co.in\n",
    "               \n",
    "Date           21/11/1986\n",
    "               21-11-1986\n",
    "               \n",
    "Adhar Numbers  7645 5793 9797 # Valid\n",
    "               345 6577 6754\n",
    "               8767 678 5743\n",
    "               4563 6574 663\n",
    "               8574 6785 8786 # Valid\"\"\" \n",
    "\n",
    "\n",
    "Adhar = re.findall(\"\\d{4}\\s\\d{4}\\s\\d{4}\",text)\n",
    "print(Adhar,len(Adhar))"
   ]
  },
  {
   "cell_type": "code",
   "execution_count": 78,
   "id": "d9c9d0d1",
   "metadata": {},
   "outputs": [
    {
     "name": "stdout",
     "output_type": "stream",
     "text": [
      "['7645 5793 9797', '8574 6785 8786'] 2\n"
     ]
    }
   ],
   "source": [
    "text = \"\"\"\n",
    "Mobile Numbers 9876544565,\n",
    "               8767651232,\n",
    "               8756477586,\n",
    "               57746747\n",
    "               \n",
    "Mail Ids       prasadreure@gmail.com\n",
    "               prasad_reure@gmail.com\n",
    "               prasad.reure@gmail.com\n",
    "               Prasad.Reure@gmail.com\n",
    "               prasadreure07@gmail.com\n",
    "               prasad_reure_07@gmail.com\n",
    "               prasad_reure_07@redifmail.com\n",
    "               prasad_reure_07@vctcpune.co.in\n",
    "               \n",
    "Date           21/11/1986\n",
    "               21-11-1986\n",
    "               \n",
    "Adhar Numbers  7645 5793 9797 # Valid\n",
    "               345 6577 6754\n",
    "               8767 678 5743\n",
    "               4563 6574 663\n",
    "               8574 6785 8786 # Valid\"\"\" \n",
    "\n",
    "\n",
    "Adhar = re.findall(\"\\d{4}[ ]\\d{4}[ ]\\d{4}\",text)\n",
    "print(Adhar,len(Adhar))"
   ]
  },
  {
   "cell_type": "code",
   "execution_count": 79,
   "id": "023586fa",
   "metadata": {},
   "outputs": [
    {
     "data": {
      "text/plain": [
       "[]"
      ]
     },
     "execution_count": 79,
     "metadata": {},
     "output_type": "execute_result"
    }
   ],
   "source": [
    "re.findall(\"\\s[0-9]\\s\",\"QWERT8779Qfghfgh@#@45765467568$?/:|\")"
   ]
  },
  {
   "cell_type": "code",
   "execution_count": 80,
   "id": "148bc92d",
   "metadata": {},
   "outputs": [
    {
     "data": {
      "text/plain": [
       "[' 8779 ']"
      ]
     },
     "execution_count": 80,
     "metadata": {},
     "output_type": "execute_result"
    }
   ],
   "source": [
    "re.findall(\"\\s[0-9]{4}\\s\",\"QWERT 8779 Qfghfgh@#@45765467568$?/:|\")"
   ]
  },
  {
   "cell_type": "markdown",
   "id": "1d0e90fb",
   "metadata": {},
   "source": [
    "## 4. \\S\n",
    "- \\S = Except Space = [^ ]"
   ]
  },
  {
   "cell_type": "code",
   "execution_count": 82,
   "id": "abbaea74",
   "metadata": {},
   "outputs": [
    {
     "name": "stdout",
     "output_type": "stream",
     "text": [
      "['A', 'd', 'h', 'a', 'r', 'N', 'u', 'm', 'b', 'e', 'r', 's', '7', '6', '4', '5', '5', '7', '9', '3', '9', '7', '9', '7', '#', 'V', 'a', 'l', 'i', 'd', '3', '4', '5', '6', '5', '7', '7', '6', '7', '5', '4', '8', '7', '6', '7', '6', '7', '8', '5', '7', '4', '3', '4', '5', '6', '3', '6', '5', '7', '4', '6', '6', '3', '8', '5', '7', '4', '6', '7', '8', '5', '8', '7', '8', '6', '#', 'V', 'a', 'l', 'i', 'd']\n"
     ]
    }
   ],
   "source": [
    "text = \"\"\"Adhar Numbers  7645 5793 9797 # Valid\n",
    "               345 6577 6754\n",
    "               8767 678 5743\n",
    "               4563 6574 663\n",
    "               8574 6785 8786 # Valid\"\"\" \n",
    "print(re.findall(\"\\S\",text))"
   ]
  },
  {
   "cell_type": "code",
   "execution_count": 92,
   "id": "73711795",
   "metadata": {},
   "outputs": [
    {
     "name": "stdout",
     "output_type": "stream",
     "text": [
      "['Adhar', 'Numbe', 'Valid', '66399', 'Valid']\n"
     ]
    }
   ],
   "source": [
    "text = \"\"\"Adhar Numbers  7645 5793 9797 # Valid\n",
    "               345 6577 6754\n",
    "               8767 678 5743\n",
    "               4563 6574 66399\n",
    "               8574 6785 8786 # Valid\"\"\" \n",
    "print(re.findall(\"\\S{5}\",text))"
   ]
  },
  {
   "cell_type": "markdown",
   "id": "244c71be",
   "metadata": {},
   "source": [
    "## 5. \\w\n",
    "- \\w = [a-zA-Z0-9]"
   ]
  },
  {
   "cell_type": "code",
   "execution_count": 109,
   "id": "5bc2ed40",
   "metadata": {},
   "outputs": [
    {
     "data": {
      "text/plain": [
       "['a5', 'B5']"
      ]
     },
     "execution_count": 109,
     "metadata": {},
     "output_type": "execute_result"
    }
   ],
   "source": [
    "re.findall(\"[a-zA-Z0-9]{2}\",\"a5B5\")"
   ]
  },
  {
   "cell_type": "code",
   "execution_count": 118,
   "id": "7bda555f",
   "metadata": {},
   "outputs": [
    {
     "data": {
      "text/plain": [
       "['6W7']"
      ]
     },
     "execution_count": 118,
     "metadata": {},
     "output_type": "execute_result"
    }
   ],
   "source": [
    "re.findall(\"\\d[A-Z]\\d\",\"a6W7\")"
   ]
  },
  {
   "cell_type": "code",
   "execution_count": 110,
   "id": "49bbf0b9",
   "metadata": {},
   "outputs": [
    {
     "data": {
      "text/plain": [
       "['a5', 'B5']"
      ]
     },
     "execution_count": 110,
     "metadata": {},
     "output_type": "execute_result"
    }
   ],
   "source": [
    "re.findall(\"\\w{2}\",\"a5B5\")"
   ]
  },
  {
   "cell_type": "code",
   "execution_count": 111,
   "id": "c93afb81",
   "metadata": {},
   "outputs": [
    {
     "data": {
      "text/plain": [
       "['B']"
      ]
     },
     "execution_count": 111,
     "metadata": {},
     "output_type": "execute_result"
    }
   ],
   "source": [
    "re.findall(\"[A-Z]\",\"a5B5\")"
   ]
  },
  {
   "cell_type": "code",
   "execution_count": 113,
   "id": "5cf7aeb3",
   "metadata": {},
   "outputs": [
    {
     "data": {
      "text/plain": [
       "['ResumeNumber123.pdf']"
      ]
     },
     "execution_count": 113,
     "metadata": {},
     "output_type": "execute_result"
    }
   ],
   "source": [
    "re.findall(\"\\w{5,20}[.][a-z]{3}\",\"ResumeNumber123.pdf\")"
   ]
  },
  {
   "cell_type": "code",
   "execution_count": 120,
   "id": "e2d5634e",
   "metadata": {},
   "outputs": [
    {
     "data": {
      "text/plain": [
       "['ResumeNumber123.PDF']"
      ]
     },
     "execution_count": 120,
     "metadata": {},
     "output_type": "execute_result"
    }
   ],
   "source": [
    "re.findall(\"\\w{5,20}[.][A-Z]{3}\",\"ResumeNumber123.PDF\")"
   ]
  },
  {
   "cell_type": "code",
   "execution_count": 94,
   "id": "b4e68028",
   "metadata": {},
   "outputs": [
    {
     "name": "stdout",
     "output_type": "stream",
     "text": [
      "['L', 'e', 'a', 'r', 'n', 'i', 'n', 'g', 'a', 'l', 'g', 'o', 'r', 'i', 't', 'h', 'm', 's', 'w', 'o', 'r', 'k', 'o', 'n', 't', 'h', 'e', 'b', 'a', 's', 'i', 's', 't', 'h', 'a', 't', 's', 't', 'r', 'a', 't', 'e', 'g', 'i', 'e', 's', 'a', 'l', 'g', 'o', 'r', 'i', 't', 'h', 'm', 's', 'a', 'n', 'd', 'i', 'n', 'f', 'e', 'r', 'e', 'n', 'c', 'e', 's', 't', 'h', 'a', 't', 'w', 'o', 'r', 'k', 'e', 'd', 'w', 'e', 'l', 'l', 'i', 'n', 't', 'h', 'e', 'p', 'a', 's', 't', 'a', 'r', 'e', 'l', 'i', 'k', 'e', 'l', 'y', 't', 'o', '9', '8', '8', '8', '6', '7', '4', '6', '6', '3', '6', '6', '3', '7', '7', '5', '8', '8', '6', '9', '6', '0', '9', '8', '7', '0', '9', '6', '7', 'c', 'o', 'n', 't', 'i', 'n', 'u', 'e', 'w', 'o', 'r', 'k', 'i', 'n', 'g', 'w', 'e', 'l', 'l', 'i', 'n', 't', 'h', 'e', 'f', 'u', 't', 'u', 'r', 'e', 'T', 'h', 'e', 's', 'e', 'i', 'n', 'f', 'e', 'r', 'e', 'n', 'c', 'e', 's', 'c', 'a', 'n', 'b', 'e', 'o', 'b', 'v', 'i', 'o', 'u', 's']\n"
     ]
    }
   ],
   "source": [
    "text = \"\"\"Learning algorithms work on the basis that strategies, algorithms, and inferences that \n",
    "worked well in the past are likely to 98886746636637758869609870967 continue working well in the future. These inferences can \n",
    "be obvious!@#@$#%$#\"\"\"\n",
    "print(re.findall(\"[a-zA-Z0-9]\",text))"
   ]
  },
  {
   "cell_type": "code",
   "execution_count": 95,
   "id": "dfbc7866",
   "metadata": {},
   "outputs": [
    {
     "name": "stdout",
     "output_type": "stream",
     "text": [
      "['L', 'e', 'a', 'r', 'n', 'i', 'n', 'g', 'a', 'l', 'g', 'o', 'r', 'i', 't', 'h', 'm', 's', 'w', 'o', 'r', 'k', 'o', 'n', 't', 'h', 'e', 'b', 'a', 's', 'i', 's', 't', 'h', 'a', 't', 's', 't', 'r', 'a', 't', 'e', 'g', 'i', 'e', 's', 'a', 'l', 'g', 'o', 'r', 'i', 't', 'h', 'm', 's', 'a', 'n', 'd', 'i', 'n', 'f', 'e', 'r', 'e', 'n', 'c', 'e', 's', 't', 'h', 'a', 't', 'w', 'o', 'r', 'k', 'e', 'd', 'w', 'e', 'l', 'l', 'i', 'n', 't', 'h', 'e', 'p', 'a', 's', 't', 'a', 'r', 'e', 'l', 'i', 'k', 'e', 'l', 'y', 't', 'o', '9', '8', '8', '8', '6', '7', '4', '6', '6', '3', '6', '6', '3', '7', '7', '5', '8', '8', '6', '9', '6', '0', '9', '8', '7', '0', '9', '6', '7', 'c', 'o', 'n', 't', 'i', 'n', 'u', 'e', 'w', 'o', 'r', 'k', 'i', 'n', 'g', 'w', 'e', 'l', 'l', 'i', 'n', 't', 'h', 'e', 'f', 'u', 't', 'u', 'r', 'e', 'T', 'h', 'e', 's', 'e', 'i', 'n', 'f', 'e', 'r', 'e', 'n', 'c', 'e', 's', 'c', 'a', 'n', 'b', 'e', 'o', 'b', 'v', 'i', 'o', 'u', 's']\n"
     ]
    }
   ],
   "source": [
    "text = \"\"\"Learning algorithms work on the basis that strategies, algorithms, and inferences that \n",
    "worked well in the past are likely to 98886746636637758869609870967 continue working well in the future. These inferences can \n",
    "be obvious!@#@$#%$#\"\"\"\n",
    "print(re.findall(\"\\w\",text))"
   ]
  },
  {
   "cell_type": "code",
   "execution_count": 96,
   "id": "ed327bfc",
   "metadata": {},
   "outputs": [
    {
     "name": "stdout",
     "output_type": "stream",
     "text": [
      "['Learn', 'algor', 'ithms', 'basis', 'strat', 'egies', 'algor', 'ithms', 'infer', 'ences', 'worke', 'likel', '98886', '74663', '66377', '58869', '60987', 'conti', 'worki', 'futur', 'These', 'infer', 'ences', 'obvio']\n"
     ]
    }
   ],
   "source": [
    "text = \"\"\"Learning algorithms work on the basis that strategies, algorithms, and inferences that \n",
    "worked well in the past are likely to 98886746636637758869609870967 continue working well in the future. These inferences can \n",
    "be obvious!@#@$#%$#\"\"\"\n",
    "print(re.findall(\"\\w{5}\",text))"
   ]
  },
  {
   "cell_type": "code",
   "execution_count": 98,
   "id": "633df611",
   "metadata": {},
   "outputs": [
    {
     "name": "stdout",
     "output_type": "stream",
     "text": [
      "['988867466366377', 'qqqqqqqqqqqqqqq']\n"
     ]
    }
   ],
   "source": [
    "text = \"\"\"Learning algorithms work on the basis that strategies, algorithms, and inferences that \n",
    "worked well in the past are likely to 98886746636637758869609870967 continue working well in the future. These inferences can \n",
    "be obvious!@#@$#%$#qqqqqqqqqqqqqqq\"\"\"\n",
    "print(re.findall(\"\\w{15}\",text))"
   ]
  },
  {
   "cell_type": "code",
   "execution_count": 99,
   "id": "c791cb32",
   "metadata": {},
   "outputs": [
    {
     "name": "stdout",
     "output_type": "stream",
     "text": [
      "['algorithms', 'strategies', 'algorithms', 'inferences', '9888674663', '6637758869', 'inferences', 'qqqqqqqqqq']\n"
     ]
    }
   ],
   "source": [
    "text = \"\"\"Learning algorithms work on the basis that strategies, algorithms, and inferences that \n",
    "worked well in the past are likely to 98886746636637758869609870967 continue working well in the future. These inferences can \n",
    "be obvious!@#@$#%$#qqqqqqqqqqqqqqq\"\"\"\n",
    "print(re.findall(\"\\w{10}\",text))"
   ]
  },
  {
   "cell_type": "markdown",
   "id": "0e3eed49",
   "metadata": {},
   "source": [
    "## 5. \\W\n",
    "- \\W = Except[a-zA-Z0-9] = [^a-zA-Z0-9]"
   ]
  },
  {
   "cell_type": "code",
   "execution_count": 100,
   "id": "11710f1f",
   "metadata": {},
   "outputs": [
    {
     "name": "stdout",
     "output_type": "stream",
     "text": [
      "[' ', ' ', ' ', ' ', ' ', ' ', ' ', ',', ' ', ',', ' ', ' ', ' ', ' ', '\\n', ' ', ' ', ' ', ' ', ' ', ' ', ' ', ' ', ' ', ' ', ' ', ' ', ' ', ' ', '.', ' ', ' ', ' ', ' ', '\\n', ' ', '!', '@', '#', '@', '$', '#', '%', '$', '#']\n"
     ]
    }
   ],
   "source": [
    "text = \"\"\"Learning algorithms work on the basis that strategies, algorithms, and inferences that \n",
    "worked well in the past are likely to 98886746636637758869609870967 continue working well in the future. These inferences can \n",
    "be obvious!@#@$#%$#qqqqqqqqqqqqqqq\"\"\"\n",
    "print(re.findall(\"\\W\",text))"
   ]
  },
  {
   "cell_type": "code",
   "execution_count": 101,
   "id": "2dd83221",
   "metadata": {},
   "outputs": [
    {
     "name": "stdout",
     "output_type": "stream",
     "text": [
      "[' ', ' ', ' ', ' ', ' ', ' ', ' ', ',', ' ', ',', ' ', ' ', ' ', ' ', '\\n', ' ', ' ', ' ', ' ', ' ', ' ', ' ', ' ', ' ', ' ', ' ', ' ', ' ', ' ', '.', ' ', ' ', ' ', ' ', '\\n', ' ', '!', '@', '#', '@', '$', '#', '%', '$', '#']\n"
     ]
    }
   ],
   "source": [
    "text = \"\"\"Learning algorithms work on the basis that strategies, algorithms, and inferences that \n",
    "worked well in the past are likely to 98886746636637758869609870967 continue working well in the future. These inferences can \n",
    "be obvious!@#@$#%$#qqqqqqqqqqqqqqq\"\"\"\n",
    "print(re.findall(\"[^a-zA-Z0-9]\",text))"
   ]
  },
  {
   "cell_type": "code",
   "execution_count": 103,
   "id": "af45005b",
   "metadata": {},
   "outputs": [
    {
     "name": "stdout",
     "output_type": "stream",
     "text": [
      "[', ', ', ', ' \\n', '. ', ' \\n', '!@', '#@', '$#', '%$', '##', '##']\n"
     ]
    }
   ],
   "source": [
    "text = \"\"\"Learning algorithms work on the basis that strategies, algorithms, and inferences that \n",
    "worked well in the past are likely to 98886746636637758869609870967 continue working well in the future. These inferences can \n",
    "be obvious!@#@$#%$#qqqqqqqqqqqqqqq####\"\"\"\n",
    "print(re.findall(\"\\W{2}\",text))"
   ]
  },
  {
   "cell_type": "code",
   "execution_count": 116,
   "id": "d1692a4e",
   "metadata": {},
   "outputs": [
    {
     "name": "stdout",
     "output_type": "stream",
     "text": [
      "['!@#', '@$#', '%$#', '###']\n"
     ]
    }
   ],
   "source": [
    "text = \"\"\"Learning algorithms work on the basis that strategies, algorithms, and inferences that \n",
    "worked well in the past are likely to 98886746636637758869609870967 continue working well in the future. These inferences can \n",
    "be obvious!@#@$#%$#qqqqqqqqqqqqqqq####\"\"\"\n",
    "print(re.findall(\"\\W{3}\",text))"
   ]
  },
  {
   "cell_type": "code",
   "execution_count": null,
   "id": "722b853f",
   "metadata": {},
   "outputs": [],
   "source": []
  }
 ],
 "metadata": {
  "kernelspec": {
   "display_name": "Python 3 (ipykernel)",
   "language": "python",
   "name": "python3"
  },
  "language_info": {
   "codemirror_mode": {
    "name": "ipython",
    "version": 3
   },
   "file_extension": ".py",
   "mimetype": "text/x-python",
   "name": "python",
   "nbconvert_exporter": "python",
   "pygments_lexer": "ipython3",
   "version": "3.10.5"
  }
 },
 "nbformat": 4,
 "nbformat_minor": 5
}
