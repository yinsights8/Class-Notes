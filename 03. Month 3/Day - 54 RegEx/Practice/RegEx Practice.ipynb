{
 "cells": [
  {
   "cell_type": "code",
   "execution_count": 1,
   "id": "1f5d7b3a",
   "metadata": {},
   "outputs": [],
   "source": [
    "import re"
   ]
  },
  {
   "cell_type": "code",
   "execution_count": 2,
   "id": "af686cbf",
   "metadata": {},
   "outputs": [
    {
     "data": {
      "text/plain": [
       "['1', '1']"
      ]
     },
     "execution_count": 2,
     "metadata": {},
     "output_type": "execute_result"
    }
   ],
   "source": [
    "text = \"\"\"12341567897\"\"\"\n",
    "num = re.findall(\"1\",text)\n",
    "num"
   ]
  },
  {
   "cell_type": "code",
   "execution_count": 3,
   "id": "773e5288",
   "metadata": {},
   "outputs": [
    {
     "data": {
      "text/plain": [
       "['5']"
      ]
     },
     "execution_count": 3,
     "metadata": {},
     "output_type": "execute_result"
    }
   ],
   "source": [
    "text = \"\"\"12341567897\"\"\"\n",
    "num = re.findall(\"5\",text)\n",
    "num"
   ]
  },
  {
   "cell_type": "code",
   "execution_count": 4,
   "id": "52d6e615",
   "metadata": {},
   "outputs": [
    {
     "data": {
      "text/plain": [
       "['11']"
      ]
     },
     "execution_count": 4,
     "metadata": {},
     "output_type": "execute_result"
    }
   ],
   "source": [
    "text = \"\"\"11123415556789722\"\"\"\n",
    "num = re.findall(\"11\",text)\n",
    "num"
   ]
  },
  {
   "cell_type": "code",
   "execution_count": 5,
   "id": "9628cdad",
   "metadata": {},
   "outputs": [
    {
     "data": {
      "text/plain": [
       "['111']"
      ]
     },
     "execution_count": 5,
     "metadata": {},
     "output_type": "execute_result"
    }
   ],
   "source": [
    "text = \"\"\"11123415556789722\"\"\"\n",
    "num = re.findall(\"[11]{3}\",text)\n",
    "num"
   ]
  },
  {
   "cell_type": "code",
   "execution_count": 6,
   "id": "f960704c",
   "metadata": {},
   "outputs": [
    {
     "data": {
      "text/plain": [
       "[]"
      ]
     },
     "execution_count": 6,
     "metadata": {},
     "output_type": "execute_result"
    }
   ],
   "source": [
    "text = \"\"\"11123415556789722\"\"\"\n",
    "num = re.findall(\"[1]{4}\",text)\n",
    "num"
   ]
  },
  {
   "cell_type": "markdown",
   "id": "35af4a14",
   "metadata": {},
   "source": [
    "## re.findall()\n",
    "- list = re.findall(Pattern, string)"
   ]
  },
  {
   "cell_type": "code",
   "execution_count": 7,
   "id": "3f718be2",
   "metadata": {},
   "outputs": [
    {
     "name": "stdout",
     "output_type": "stream",
     "text": [
      "['9', '5', '1', '1', '8', '6', '0', '2', '7', '2', '9', '8', '5', '6', '2', '4', '6', '3', '2', '3', '7', '8', '9', '5', '1', '1', '0', '2', '3', '3', '5', '7', '8', '6', '3', '2', '5', '8', '4', '7', '8', '9', '5', '2', '2', '1', '4', '5', '6', '4']\n"
     ]
    }
   ],
   "source": [
    "num_text = \"\"\"\n",
    "Mobial NUmbers:- 9511860272\n",
    "                 9856246323\n",
    "                 78951102335\n",
    "                 78632584\n",
    "                 78952214564 these all are the numbers i've got\n",
    "\"\"\"\n",
    "\n",
    "li = re.findall(\"[0-9]\",num_text)   # bydefault {} = 1\n",
    "print(li)"
   ]
  },
  {
   "cell_type": "code",
   "execution_count": 8,
   "id": "2507ee3b",
   "metadata": {},
   "outputs": [
    {
     "name": "stdout",
     "output_type": "stream",
     "text": [
      "['95118', '60272', '98562', '46323', '78951', '10233', '78632', '78952', '21456']\n"
     ]
    }
   ],
   "source": [
    "num_text = \"\"\"\n",
    "Mobial NUmbers:- 9511860272,\n",
    "                 9856246323,\n",
    "                 78951102335,\n",
    "                 78632584,\n",
    "                 78952214564,\n",
    "                 \n",
    "Mail Id's :-     tornadomr@gmail.com\n",
    "                 yashdhakade@gmail.com\"\"\"\n",
    "\n",
    "li = re.findall(\"[0-9]{5}\",num_text)\n",
    "print(li)"
   ]
  },
  {
   "cell_type": "code",
   "execution_count": 9,
   "id": "08dbf556",
   "metadata": {},
   "outputs": [
    {
     "name": "stdout",
     "output_type": "stream",
     "text": [
      "['9511860272', '9856246323', '7895110233', '7895221456']\n"
     ]
    }
   ],
   "source": [
    "num_text = \"\"\"\n",
    "Mobial NUmbers:- 9511860272,\n",
    "                 9856246323,\n",
    "                 78951102335,\n",
    "                 78632584,\n",
    "                 78952214564,\n",
    "                 \n",
    "Mail Id's :-     tornadomr@gmail.com\n",
    "                 yashdhakade@gmail.com\"\"\"\n",
    "\n",
    "li = re.findall(\"[0-9]{10}\",num_text)\n",
    "print(li)"
   ]
  },
  {
   "cell_type": "code",
   "execution_count": 10,
   "id": "714728e5",
   "metadata": {},
   "outputs": [],
   "source": [
    "## get emailid"
   ]
  },
  {
   "cell_type": "code",
   "execution_count": 11,
   "id": "5206c642",
   "metadata": {},
   "outputs": [
    {
     "name": "stdout",
     "output_type": "stream",
     "text": [
      "['obial', 'mbers', 'torna', 'gmail', 'yashd', 'hakad', 'gmail']\n"
     ]
    }
   ],
   "source": [
    "num_text = \"\"\"\n",
    "Mobial NUmbers:- 9511860272,\n",
    "                 9856246323,\n",
    "                 78951102335,\n",
    "                 78632584,\n",
    "                 78952214564,\n",
    "                 \n",
    "Mail Id's :-     tornadomr@gmail.com\n",
    "                 yashdhakade@gmail.com\"\"\"\n",
    "\n",
    "email_id = re.findall(\"[a-z]{5}\",num_text)\n",
    "print(email_id)"
   ]
  },
  {
   "cell_type": "code",
   "execution_count": 12,
   "id": "79f55e99",
   "metadata": {},
   "outputs": [
    {
     "data": {
      "text/plain": [
       "['@']"
      ]
     },
     "execution_count": 12,
     "metadata": {},
     "output_type": "execute_result"
    }
   ],
   "source": [
    "text = \"\"\"\n",
    "Mobial NUmbers:- 9511860272,\n",
    "                 9856246323,\n",
    "                 78951102335,\n",
    "                 78632584,\n",
    "                 78952214564,\n",
    "                 \n",
    "Mail Id's :-     tornadomr@gmail.com\n",
    "\"\"\"\n",
    "\n",
    "email_id = re.findall(\"[@]\",text)\n",
    "email_id"
   ]
  },
  {
   "cell_type": "code",
   "execution_count": 17,
   "id": "63ce3fea",
   "metadata": {},
   "outputs": [
    {
     "data": {
      "text/plain": [
       "['r@g']"
      ]
     },
     "execution_count": 17,
     "metadata": {},
     "output_type": "execute_result"
    }
   ],
   "source": [
    "text = \"\"\"\n",
    "Mobial NUmbers:- 9511860272,\n",
    "                 9856246323,\n",
    "                 78951102335,\n",
    "                 78632584,\n",
    "                 78952214564,\n",
    "                 \n",
    "Mail Id's :-     tornadomr@gmail.com\n",
    "\"\"\"\n",
    "\n",
    "email_id = re.findall(\"[a-z][@][a-z]\",text)\n",
    "email_id"
   ]
  },
  {
   "cell_type": "code",
   "execution_count": 18,
   "id": "873e76dc",
   "metadata": {},
   "outputs": [
    {
     "data": {
      "text/plain": [
       "['l.c']"
      ]
     },
     "execution_count": 18,
     "metadata": {},
     "output_type": "execute_result"
    }
   ],
   "source": [
    "text = \"\"\"\n",
    "Mobial NUmbers:- 9511860272,\n",
    "                 9856246323,\n",
    "                 78951102335,\n",
    "                 78632584,\n",
    "                 78952214564,\n",
    "                 \n",
    "Mail Id's :-     tornadomr@gmail.com\n",
    "\"\"\"\n",
    "\n",
    "email_id = re.findall(\"[a-z][.][a-z]\",text)\n",
    "email_id"
   ]
  },
  {
   "cell_type": "code",
   "execution_count": 31,
   "id": "44c9a8d8",
   "metadata": {},
   "outputs": [
    {
     "data": {
      "text/plain": [
       "['tornadomr@gmail.com']"
      ]
     },
     "execution_count": 31,
     "metadata": {},
     "output_type": "execute_result"
    }
   ],
   "source": [
    "text = \"\"\"\n",
    "Mobial NUmbers:- 9511860272,\n",
    "                 9856246323,\n",
    "                 78951102335,\n",
    "                 78632584,\n",
    "                 78952214564,\n",
    "                 \n",
    "Mail Id's :-     tornadomr@gmail.com\n",
    "\"\"\"\n",
    "\n",
    "email_id = re.findall(\"[a-z]{1,10}[@][a-z]{1,5}[.][a-z]{1,3}\",text)\n",
    "email_id"
   ]
  },
  {
   "cell_type": "code",
   "execution_count": 36,
   "id": "ef3b8993",
   "metadata": {},
   "outputs": [
    {
     "data": {
      "text/plain": [
       "['tornadomr@gmail.com', 'yashdhakade@gmail.com']"
      ]
     },
     "execution_count": 36,
     "metadata": {},
     "output_type": "execute_result"
    }
   ],
   "source": [
    "text = \"\"\"\n",
    "Mobial NUmbers:- 9511860272,\n",
    "                 9856246323,\n",
    "                 78951102335,\n",
    "                 78632584,\n",
    "                 78952214564,\n",
    "                 \n",
    "Mail Id's :-     tornadomr@gmail.com\n",
    "                 yashdhakade@gmail.com\n",
    "                 johnweak123@gmail.com\"\"\"\n",
    "\n",
    "email_id = re.findall(\"[a-z]{1,15}[@][a-z]{1,5}[.][a-z]{1,3}\",text)\n",
    "email_id"
   ]
  },
  {
   "cell_type": "code",
   "execution_count": 60,
   "id": "bdbf8567",
   "metadata": {},
   "outputs": [
    {
     "name": "stdout",
     "output_type": "stream",
     "text": [
      "['tornadomr@gmail.com', 'Yash.Dhakade@gmail.com']\n"
     ]
    }
   ],
   "source": [
    "text = \"\"\"\n",
    "Mobial NUmbers:- 9511860272,\n",
    "                 9856246323,\n",
    "                 78951102335,\n",
    "                 78632584,\n",
    "                 78952214564,\n",
    "                 \n",
    "Mail Id's :-     tornadomr@gmail.com\n",
    "                 Yash.Dhakade@gmail.com\n",
    "\"\"\"\n",
    "\n",
    "email_id = re.findall(\"[a-zA-Z.]{1,15}[@][a-z]{1,10}[.][a-z]{1,10}\",text)\n",
    "print(email_id)"
   ]
  },
  {
   "cell_type": "code",
   "execution_count": 84,
   "id": "68c1bc8d",
   "metadata": {},
   "outputs": [
    {
     "name": "stdout",
     "output_type": "stream",
     "text": [
      "['tornadomr12345@gmail.com', 'Yash.Dhakade5550@gmail.com', 'Yash_Dhakade123@gmail.com']\n"
     ]
    }
   ],
   "source": [
    "text = \"\"\"\n",
    "Mobial NUmbers:- 9511860272,\n",
    "                 9856246323,\n",
    "                 78951102335,\n",
    "                 78632584,\n",
    "                 78952214564,\n",
    "                 \n",
    "Mail Id's :-     tornadomr12345@gmail.com\n",
    "                 Yash.Dhakade5550@gmail.com\n",
    "                 Yash_Dhakade123@gmail.com\n",
    "                 \n",
    "\"\"\"\n",
    "\n",
    "email_id = re.findall(\"[a-zA-Z._]{1,15}[0-9]{1,5}[@][a-z]{1,5}[.][a-z]{1,15}\",text)\n",
    "print(email_id)"
   ]
  },
  {
   "cell_type": "code",
   "execution_count": 94,
   "id": "792fa63f",
   "metadata": {},
   "outputs": [
    {
     "name": "stdout",
     "output_type": "stream",
     "text": [
      "['Yash_Dhakade123@gmail.com']\n"
     ]
    }
   ],
   "source": [
    "text = \"\"\"\n",
    "Mobial NUmbers:- 9511860272,\n",
    "                 9856246323,\n",
    "                 78951102335,\n",
    "                 78632584,\n",
    "                 78952214564,\n",
    "                 \n",
    "Mail Id's :-     tornadomr@gmail.com\n",
    "                 Yash.Dhakade@gmail.com\n",
    "                 Yash_Dhakade123@gmail.com\n",
    "                 \n",
    "\"\"\"\n",
    "\n",
    "email_id = re.findall(\"[a-zA-Z._]{1,15}[0-9]{1,5}[@][a-z]{1,5}[.][a-z]{1,5}\",text)\n",
    "print(email_id)"
   ]
  },
  {
   "cell_type": "code",
   "execution_count": 146,
   "id": "a48623c8",
   "metadata": {},
   "outputs": [
    {
     "name": "stdout",
     "output_type": "stream",
     "text": [
      "['tornadomr@gmail.com', 'Yash.Dhakade@gmail.com', 'Yash_Dhakade123@gmail.com', 'Yash_Dhakade5502@insight.co.in']\n"
     ]
    }
   ],
   "source": [
    "text = \"\"\"\n",
    "Mobial NUmbers:- 9511860272,\n",
    "                 9856246323,\n",
    "                 78951102335,\n",
    "                 78632584,\n",
    "                 78952214564,\n",
    "                 \n",
    "Mail Id's :-     tornadomr@gmail.com,\n",
    "                 Yash.Dhakade@gmail.com,\n",
    "                 Yash_Dhakade123@gmail.com,\n",
    "                 Yash_Dhakade5502@insight.co.in\n",
    "                 \n",
    "\"\"\"\n",
    "\n",
    "email_id = re.findall(\"[a-zA-Z0-9._]{1,20}[@][a-z.]{1,20}\",text)\n",
    "print(email_id)"
   ]
  },
  {
   "cell_type": "code",
   "execution_count": null,
   "id": "2bd7904c",
   "metadata": {},
   "outputs": [],
   "source": []
  },
  {
   "cell_type": "code",
   "execution_count": null,
   "id": "089f6bfb",
   "metadata": {},
   "outputs": [],
   "source": []
  },
  {
   "cell_type": "code",
   "execution_count": null,
   "id": "5f2444aa",
   "metadata": {},
   "outputs": [],
   "source": []
  },
  {
   "cell_type": "code",
   "execution_count": 129,
   "id": "e8d8f0b8",
   "metadata": {},
   "outputs": [
    {
     "data": {
      "text/plain": [
       "['12/12/2012', '25-11-2022', '08 11 2021']"
      ]
     },
     "execution_count": 129,
     "metadata": {},
     "output_type": "execute_result"
    }
   ],
   "source": [
    "text = \"\"\"\n",
    "Mobial NUmbers:- 9511860272,\n",
    "                 9856246323,\n",
    "                 78951102335,\n",
    "                 78632584,\n",
    "                 78952214564,\n",
    "                 \n",
    "Mail Id's :-     tornadomr@gmail.com,\n",
    "                 Yash.Dhakade@gmail.com,\n",
    "                 Yash_Dhakade123@gmail.com,\n",
    "                 \n",
    "                 \n",
    "date :-          12/12/2012,\n",
    "                 25-11-2022,\n",
    "                 08 11 2021\n",
    "                 \n",
    "\"\"\"\n",
    "\n",
    "dates = re.findall(\"[0-9]{2}[ /-][0-9]{2}[ /-][0-9]{4}\",text)\n",
    "dates"
   ]
  },
  {
   "cell_type": "code",
   "execution_count": 166,
   "id": "a371869d",
   "metadata": {},
   "outputs": [
    {
     "name": "stdout",
     "output_type": "stream",
     "text": [
      "['7878 8951 4125', '9585 6325 4512', '9511 8602 2702']\n"
     ]
    }
   ],
   "source": [
    "text = \"\"\"\n",
    "Mobial NUmbers:- 9511860272,\n",
    "                 9856246323,\n",
    "                 78951102335,\n",
    "                 78632584,\n",
    "                 78952214564,\n",
    "                 \n",
    "Mail Id's :-     tornadomr@gmail.com,\n",
    "                 Yash.Dhakade@gmail.com,\n",
    "                 Yash_Dhakade123@gmail.com,\n",
    "                 \n",
    "date :-          12/12/2012,\n",
    "                 25-11-2022,\n",
    "                 08 11 2021, \n",
    "                 2022/05/01,\n",
    "                 22/05/022,\n",
    "                 22 02 01,\n",
    "                 01-02-001,\n",
    "                 01,01,1999\n",
    "                 \n",
    "Addhar number :- 7878 8951 4125,\n",
    "                 9585 6325 4512,\n",
    "                 7556 2535 412,\n",
    "                 7789 453 1235,\n",
    "                 9511 8602 2702\n",
    "                 \n",
    "\"\"\"\n",
    "\n",
    "Addhar_num = re.findall(\"[0-9]{4}[ ][0-9]{4}[ ][0-9]{4}\",text)\n",
    "print(Addhar_num)"
   ]
  },
  {
   "cell_type": "code",
   "execution_count": null,
   "id": "912510f0",
   "metadata": {},
   "outputs": [],
   "source": []
  },
  {
   "cell_type": "code",
   "execution_count": 179,
   "id": "a2d9b787",
   "metadata": {},
   "outputs": [
    {
     "name": "stdout",
     "output_type": "stream",
     "text": [
      "['QWERT8779Q', 'ABCTY1234D', 'ASDFG4875H', 'QAZXS6547Y']\n"
     ]
    }
   ],
   "source": [
    "text = \"\"\"\n",
    "Mobial NUmbers:- 9511860272,\n",
    "                 9856246323,\n",
    "                 78951102335,\n",
    "                 78632584,\n",
    "                 78952214564,\n",
    "                 \n",
    "Mail Id's :-     tornadomr@gmail.com,\n",
    "                 Yash.Dhakade@gmail.com,\n",
    "                 Yash_Dhakade123@gmail.com,\n",
    "                 \n",
    "date :-          12/12/2012,\n",
    "                 25-11-2022,\n",
    "                 08 11 2021, \n",
    "                 2022/05/01,\n",
    "                 22/05/022,\n",
    "                 22 02 01,\n",
    "                 01-02-001,\n",
    "                 01,01,1999\n",
    "                 \n",
    "Addhar number :- 7878 8951 4125,\n",
    "                 9585 6325 4512,\n",
    "                 7556 2535 412,\n",
    "                 7789 453 1235,\n",
    "                 9511 8602 2702\n",
    "                 \n",
    "pan_number :-    QWERT8779Q,\n",
    "                 ABCTY1234D,\n",
    "                 ASDFG4875H,\n",
    "                 POJO7878P,\n",
    "                 NJPJF8667p,\n",
    "                 QAZXS6547Y,\n",
    "                 \n",
    "\"\"\"\n",
    "\n",
    "\n",
    "pan_number = re.findall(\"[A-Z]{5}[0-9]{4}[A-Z]\",text)\n",
    "print(pan_number)"
   ]
  },
  {
   "cell_type": "code",
   "execution_count": null,
   "id": "2e577a33",
   "metadata": {},
   "outputs": [],
   "source": []
  },
  {
   "cell_type": "markdown",
   "id": "b05d432a",
   "metadata": {},
   "source": [
    "## Special Sequence"
   ]
  },
  {
   "cell_type": "markdown",
   "id": "6c356113",
   "metadata": {},
   "source": [
    "- \\d --> 0-9 "
   ]
  },
  {
   "cell_type": "code",
   "execution_count": 184,
   "id": "ccfa791a",
   "metadata": {},
   "outputs": [
    {
     "name": "stdout",
     "output_type": "stream",
     "text": [
      "['9', '5', '1', '1', '8', '6', '0', '2', '7', '2', '9', '8', '5', '6', '2', '4', '6', '3', '2', '3', '7', '8', '9', '5', '1', '1', '0', '2', '3', '3', '5', '7', '8', '6', '3', '2', '5', '8', '4', '7', '8', '9', '5', '2', '2', '1', '4', '5', '6', '4', '1', '2', '3', '1', '2', '1', '2', '2', '0', '1', '2', '2', '5', '1', '1', '2', '0', '2', '2', '0', '8', '1', '1', '2', '0', '2', '1', '2', '0', '2', '2', '0', '5', '0', '1', '2', '2', '0', '5', '0', '2', '2', '2', '2', '0', '2', '0', '1', '0', '1', '0', '2', '0', '0', '1', '0', '1', '0', '1', '1', '9', '9', '9', '7', '8', '7', '8', '8', '9', '5', '1', '4', '1', '2', '5', '9', '5', '8', '5', '6', '3', '2', '5', '4', '5', '1', '2', '7', '5', '5', '6', '2', '5', '3', '5', '4', '1', '2', '7', '7', '8', '9', '4', '5', '3', '1', '2', '3', '5', '9', '5', '1', '1', '8', '6', '0', '2', '2', '7', '0', '2', '8', '7', '7', '9', '1', '2', '3', '4', '4', '8', '7', '5', '7', '8', '7', '8', '8', '6', '6', '7', '6', '5', '4', '7']\n"
     ]
    }
   ],
   "source": [
    "text = \"\"\"\n",
    "Mobial NUmbers:- 9511860272,\n",
    "                 9856246323,\n",
    "                 78951102335,\n",
    "                 78632584,\n",
    "                 78952214564,\n",
    "                 \n",
    "Mail Id's :-     tornadomr@gmail.com,\n",
    "                 Yash.Dhakade@gmail.com,\n",
    "                 Yash_Dhakade123@gmail.com,\n",
    "                 \n",
    "date :-          12/12/2012,\n",
    "                 25-11-2022,\n",
    "                 08 11 2021, \n",
    "                 2022/05/01,\n",
    "                 22/05/022,\n",
    "                 22 02 01,\n",
    "                 01-02-001,\n",
    "                 01,01,1999\n",
    "                 \n",
    "Addhar number :- 7878 8951 4125,\n",
    "                 9585 6325 4512,\n",
    "                 7556 2535 412,\n",
    "                 7789 453 1235,\n",
    "                 9511 8602 2702\n",
    "                 \n",
    "pan_number :-    QWERT8779Q,\n",
    "                 ABCTY1234D,\n",
    "                 ASDFG4875H,\n",
    "                 POJO7878P,\n",
    "                 NJPJF8667p,\n",
    "                 QAZXS6547Y,\n",
    "                 \n",
    "\"\"\"\n",
    "\n",
    "\n",
    "num_only = re.findall(\"\\d\",text)\n",
    "print(num_only)"
   ]
  },
  {
   "cell_type": "code",
   "execution_count": 193,
   "id": "b81ead88",
   "metadata": {},
   "outputs": [
    {
     "name": "stdout",
     "output_type": "stream",
     "text": [
      "['9511860272', '9856246323', '7895110233', '7895221456']\n"
     ]
    }
   ],
   "source": [
    "text = \"\"\"\n",
    "Mobial NUmbers:- 9511860272,\n",
    "                 9856246323,\n",
    "                 78951102335,\n",
    "                 78632584,\n",
    "                 78952214564,\n",
    "                 \n",
    "Mail Id's :-     tornadomr@gmail.com,\n",
    "                 Yash.Dhakade@gmail.com,\n",
    "                 Yash_Dhakade123@gmail.com,\n",
    "                 \n",
    "date :-          12/12/2012,\n",
    "                 25-11-2022,\n",
    "                 08 11 2021, \n",
    "                 2022/05/01,\n",
    "                 22/05/022,\n",
    "                 22 02 01,\n",
    "                 01-02-001,\n",
    "                 01,01,1999\n",
    "                 \n",
    "Addhar number :- 7878 8951 4125,\n",
    "                 9585 6325 4512,\n",
    "                 7556 2535 412,\n",
    "                 7789 453 1235,\n",
    "                 9511 8602 2702\n",
    "                 \n",
    "pan_number :-    QWERT8779Q,\n",
    "                 ABCTY1234D,\n",
    "                 ASDFG4875H,\n",
    "                 POJO7878P,\n",
    "                 NJPJF8667p,\n",
    "                 QAZXS6547Y,\n",
    "                 \n",
    "\"\"\"\n",
    "phn_num = re.findall(\"\\d{10}\",text)\n",
    "print(phn_num)"
   ]
  },
  {
   "cell_type": "code",
   "execution_count": null,
   "id": "5303b3ea",
   "metadata": {},
   "outputs": [],
   "source": []
  },
  {
   "cell_type": "code",
   "execution_count": 202,
   "id": "da067e99",
   "metadata": {},
   "outputs": [
    {
     "name": "stdout",
     "output_type": "stream",
     "text": [
      "['7878 8951 4125', '9585 6325 4512', '9511 8602 2702']\n"
     ]
    }
   ],
   "source": [
    "text = \"\"\"\n",
    "Mobial NUmbers:- 9511860272,\n",
    "                 9856246323,\n",
    "                 78951102335,\n",
    "                 78632584,\n",
    "                 78952214564,\n",
    "                 \n",
    "Mail Id's :-     tornadomr@gmail.com,\n",
    "                 Yash.Dhakade@gmail.com,\n",
    "                 Yash_Dhakade123@gmail.com,\n",
    "                 \n",
    "date :-          12/12/2012,\n",
    "                 25-11-2022,\n",
    "                 08 11 2021, \n",
    "                 2022/05/01,\n",
    "                 22/05/022,\n",
    "                 22 02 01,\n",
    "                 01-02-001,\n",
    "                 01,01,1999\n",
    "                 \n",
    "Addhar number :- 7878 8951 4125,\n",
    "                 9585 6325 4512,\n",
    "                 7556 2535 412,\n",
    "                 7789 453 1235,\n",
    "                 9511 8602 2702\n",
    "                 \n",
    "pan_number :-    QWERT8779Q,\n",
    "                 ABCTY1234D,\n",
    "                 ASDFG4875H,\n",
    "                 POJO7878P,\n",
    "                 NJPJF8667p,\n",
    "                 QAZXS6547Y,\n",
    "                 \n",
    "\"\"\"\n",
    "Addhar = re.findall(\"\\d{4}[ ]\\d{4}[ ]\\d{4}\",text)\n",
    "print(Addhar)"
   ]
  },
  {
   "cell_type": "code",
   "execution_count": null,
   "id": "bcd99f46",
   "metadata": {},
   "outputs": [],
   "source": []
  },
  {
   "cell_type": "code",
   "execution_count": 245,
   "id": "5978871e",
   "metadata": {},
   "outputs": [
    {
     "name": "stdout",
     "output_type": "stream",
     "text": [
      "['12/12/2012', '25-11-2022', '08 11 2021', '2022/05/01', '22/05/022', '22 02 01', '01-02-001', '01,01,1999']\n"
     ]
    }
   ],
   "source": [
    "text = \"\"\"\n",
    "Mobial NUmbers:- 9511860272,\n",
    "                 9856246323,\n",
    "                 78951102335,\n",
    "                 78632584,\n",
    "                 78952214564,\n",
    "                 \n",
    "Mail Id's :-     tornadomr@gmail.com,\n",
    "                 Yash.Dhakade@gmail.com,\n",
    "                 Yash_Dhakade123@gmail.com,\n",
    "                 \n",
    "date :-          12/12/2012,\n",
    "                 25-11-2022,\n",
    "                 08 11 2021, \n",
    "                 2022/05/01,\n",
    "                 22/05/022,\n",
    "                 22 02 01,\n",
    "                 01-02-001,\n",
    "                 01,01,1999\n",
    "                 \n",
    "Addhar number :- 7878 8951 4125,\n",
    "                 9585 6325 4512,\n",
    "                 7556 2535 412,\n",
    "                 7789 453 1235,\n",
    "                 9511 8602 2702\n",
    "                 \n",
    "pan_number :-    QWERT8779Q,\n",
    "                 ABCTY1234D,\n",
    "                 ASDFG4875H,\n",
    "                 POJO7878P,\n",
    "                 NJPJF8667p,\n",
    "                 QAZXS6547Y,\n",
    "                 \n",
    "\"\"\"\n",
    "date = re.findall(\"\\d{1,4}[, /-]\\d{2}[, /-]\\d{1,4}\",text)\n",
    "print(date)"
   ]
  },
  {
   "cell_type": "code",
   "execution_count": null,
   "id": "814e1539",
   "metadata": {},
   "outputs": [],
   "source": []
  },
  {
   "cell_type": "code",
   "execution_count": 254,
   "id": "62c461ee",
   "metadata": {},
   "outputs": [
    {
     "name": "stdout",
     "output_type": "stream",
     "text": [
      "['Q', 'W', 'E', 'R', 'T', 'Q', 'f', 'g', 'h', 'f', 'g', 'h', '@', '#', '@', '$', '?', '/']\n"
     ]
    }
   ],
   "source": [
    "All= re.findall(\"[^0-9]\",\"QWERT8779Qfghfgh@#@45765467568$?/\")\n",
    "print(All)"
   ]
  },
  {
   "cell_type": "code",
   "execution_count": 256,
   "id": "e2f039e8",
   "metadata": {},
   "outputs": [
    {
     "name": "stdout",
     "output_type": "stream",
     "text": [
      "['Q', 'W', 'E', 'R', 'T', 'Q', 'f', 'g', 'h', 'f', 'g', 'h', '@', '#', '@', '$', '?', '/']\n"
     ]
    }
   ],
   "source": [
    "All= re.findall(\"\\D\",\"QWERT8779Qfghfgh@#@45765467568$?/\")\n",
    "print(All)"
   ]
  },
  {
   "cell_type": "code",
   "execution_count": null,
   "id": "ad27b3fb",
   "metadata": {},
   "outputs": [],
   "source": []
  },
  {
   "cell_type": "code",
   "execution_count": 258,
   "id": "310aa1c8",
   "metadata": {},
   "outputs": [
    {
     "name": "stdout",
     "output_type": "stream",
     "text": [
      "['L', 'e', 'a', 'r', 'n', 'i', 'n', 'g', ' ', 'a', 'l', 'g', 'o', 'r', 'i', 't', 'h', 'm', 's', ' ', 'w', 'o', 'r', 'k', ' ', 'o', 'n', ' ', 't', 'h', 'e', ' ', 'b', 'a', 's', 'i', 's', ' ', 't', 'h', 'a', 't', ' ', 's', 't', 'r', 'a', 't', 'e', 'g', 'i', 'e', 's', ',', ' ', 'a', 'l', 'g', 'o', 'r', 'i', 't', 'h', 'm', 's', ',', ' ', '\\n', 'a', 'n', 'd', ' ', 'i', 'n', 'f', 'e', 'r', 'e', 'n', 'c', 'e', 's', ' ', 't', 'h', 'a', 't', ' ', 'w', 'o', 'r', 'k', 'e', 'd', ' ', 'w', 'e', 'l', 'l', ' ', 'i', 'n', ' ', 't', 'h', 'e', ' ', 'p', 'a', 's', 't', ' ', ' ', 'a', 'r', 'e', ' ', 'l', 'i', 'k', 'e', 'l', 'y', ' ', 't', 'o', ' ', 'c', 'o', 'n', 't', 'i', 'n', 'u', 'e', ' ', 'w', 'o', 'r', 'k', 'i', 'n', 'g', ' ', 'w', 'e', 'l', 'l', ' ', 'i', 'n', ' ', 't', 'h', 'e', ' ', 'f', 'u', 't', 'u', 'r', 'e', '.', ' ', '\\n', 'T', 'h', 'e', 's', 'e', ' ', 'i', 'n', 'f', 'e', 'r', 'e', 'n', 'c', 'e', 's', ' ', 'c', 'a', 'n', ' ', 'b', 'e', ' ', 'o', 'b', 'v', 'i', 'o', 'u', 's', ',', ' ', ' ', 's', 'u', 'c', 'h', ' ', 'a', 's', ' ', '\"', 's', 'i', 'n', 'c', 'e', ' ', 't', 'h', 'e', ' ', 's', 'u', 'n', ' ', 'r', 'o', 's', 'e', ' ', 'e', 'v', 'e', 'r', 'y', ' ', 'm', 'o', 'r', 'n', 'i', 'n', 'g', ' ', 'f', 'o', 'r', ' ', 't', 'h', 'e', ' ', 'l', 'a', 's', 't', ' ', ',', ' ', 'd', 'a', 'y', 's', ',', ' ', '\\n', 'i', 't', ' ', 'w', 'i', 'l', 'l', ' ', 'p', 'r', 'o', 'b', 'a', 'b', 'l', 'y', ' ', 'r', 'i', 's', 'e', ' ', 't', 'o', 'm', 'o', 'r', 'r', 'o', 'w', ' ', 'm', 'o', 'r', 'n', 'i', 'n', 'g', ' ', 'a', 's', ' ', 'w', 'e', 'l', 'l', '\"', '.']\n"
     ]
    }
   ],
   "source": [
    "text = \"\"\"Learning algorithms work on the basis that strategies, algorithms, \n",
    "and inferences that worked well in the past 1545 are likely to continue working well in the future. \n",
    "These inferences can be obvious, 45123154 such as \"since the sun rose every morning for the last 10,000 days, \n",
    "it will probably rise tomorrow morning as well\".\"\"\"\n",
    "\n",
    "all_char = re.findall(\"[\\D]\",text)\n",
    "print(all_char)"
   ]
  },
  {
   "cell_type": "code",
   "execution_count": null,
   "id": "bd67fdb1",
   "metadata": {},
   "outputs": [],
   "source": []
  },
  {
   "cell_type": "markdown",
   "id": "ad7b19fc",
   "metadata": {},
   "source": [
    "# \\s\n",
    "- \\s --> all spaces [ ]"
   ]
  },
  {
   "cell_type": "code",
   "execution_count": 259,
   "id": "67d2a8a9",
   "metadata": {},
   "outputs": [
    {
     "name": "stdout",
     "output_type": "stream",
     "text": [
      "[' ', ' ', ' ', ' ', ' ', ' ', ' ', ' ', ' ', '\\n', ' ', ' ', ' ', ' ', ' ', ' ', ' ', ' ', ' ', ' ', ' ', ' ', ' ', ' ', ' ', ' ', ' ', ' ', '\\n', ' ', ' ', ' ', ' ', ' ', ' ', ' ', ' ', ' ', ' ', ' ', ' ', ' ', ' ', ' ', ' ', ' ', ' ', ' ', '\\n', ' ', ' ', ' ', ' ', ' ', ' ', ' ']\n"
     ]
    }
   ],
   "source": [
    "text = \"\"\"Learning algorithms work on the basis that strategies, algorithms, \n",
    "and inferences that worked well in the past 1545 are likely to continue working well in the future. \n",
    "These inferences can be obvious, 45123154 such as \"since the sun rose every morning for the last 10,000 days, \n",
    "it will probably rise tomorrow morning as well\".\"\"\"\n",
    "\n",
    "all_char = re.findall(\"\\s\",text)\n",
    "print(all_char)"
   ]
  },
  {
   "cell_type": "code",
   "execution_count": null,
   "id": "5e480688",
   "metadata": {},
   "outputs": [],
   "source": []
  },
  {
   "cell_type": "code",
   "execution_count": 262,
   "id": "d52cd2b5",
   "metadata": {},
   "outputs": [
    {
     "name": "stdout",
     "output_type": "stream",
     "text": [
      "[' \\n', ' \\n', ' \\n']\n"
     ]
    }
   ],
   "source": [
    "text = \"\"\"Learning algorithms work on the basis that strategies, algorithms, \n",
    "and inferences that worked well in the past 1545 are likely to continue working well in the future. \n",
    "These inferences can be obvious, 45123154 such as \"since the sun rose every morning for the last 10,000 days, \n",
    "it will probably rise tomorrow morning as well\".\"\"\"\n",
    "\n",
    "all_char = re.findall(\"\\s{2}\",text)\n",
    "print(all_char)"
   ]
  },
  {
   "cell_type": "code",
   "execution_count": null,
   "id": "857e0265",
   "metadata": {},
   "outputs": [],
   "source": []
  },
  {
   "cell_type": "markdown",
   "id": "afefb6c1",
   "metadata": {},
   "source": [
    "### \\S\n",
    "- \\S --> [^ ] except spaces, include everythings"
   ]
  },
  {
   "cell_type": "code",
   "execution_count": 264,
   "id": "c28dd025",
   "metadata": {},
   "outputs": [
    {
     "name": "stdout",
     "output_type": "stream",
     "text": [
      "['L', 'e', 'a', 'r', 'n', 'i', 'n', 'g', 'a', 'l', 'g', 'o', 'r', 'i', 't', 'h', 'm', 's', 'w', 'o', 'r', 'k', 'o', 'n', 't', 'h', 'e', 'b', 'a', 's', 'i', 's', 't', 'h', 'a', 't', 's', 't', 'r', 'a', 't', 'e', 'g', 'i', 'e', 's', ',', 'a', 'l', 'g', 'o', 'r', 'i', 't', 'h', 'm', 's', ',', 'a', 'n', 'd', 'i', 'n', 'f', 'e', 'r', 'e', 'n', 'c', 'e', 's', 't', 'h', 'a', 't', 'w', 'o', 'r', 'k', 'e', 'd', 'w', 'e', 'l', 'l', 'i', 'n', 't', 'h', 'e', 'p', 'a', 's', 't', '1', '5', '4', '5', 'a', 'r', 'e', 'l', 'i', 'k', 'e', 'l', 'y', 't', 'o', 'c', 'o', 'n', 't', 'i', 'n', 'u', 'e', 'w', 'o', 'r', 'k', 'i', 'n', 'g', 'w', 'e', 'l', 'l', 'i', 'n', 't', 'h', 'e', 'f', 'u', 't', 'u', 'r', 'e', '.', 'T', 'h', 'e', 's', 'e', 'i', 'n', 'f', 'e', 'r', 'e', 'n', 'c', 'e', 's', 'c', 'a', 'n', 'b', 'e', 'o', 'b', 'v', 'i', 'o', 'u', 's', ',', '4', '5', '1', '2', '3', '1', '5', '4', 's', 'u', 'c', 'h', 'a', 's', '\"', 's', 'i', 'n', 'c', 'e', 't', 'h', 'e', 's', 'u', 'n', 'r', 'o', 's', 'e', 'e', 'v', 'e', 'r', 'y', 'm', 'o', 'r', 'n', 'i', 'n', 'g', 'f', 'o', 'r', 't', 'h', 'e', 'l', 'a', 's', 't', '1', '0', ',', '0', '0', '0', 'd', 'a', 'y', 's', ',', 'i', 't', 'w', 'i', 'l', 'l', 'p', 'r', 'o', 'b', 'a', 'b', 'l', 'y', 'r', 'i', 's', 'e', 't', 'o', 'm', 'o', 'r', 'r', 'o', 'w', 'm', 'o', 'r', 'n', 'i', 'n', 'g', 'a', 's', 'w', 'e', 'l', 'l', '\"', '.']\n"
     ]
    }
   ],
   "source": [
    "text = \"\"\"Learning algorithms work on the basis that strategies, algorithms, \n",
    "and inferences that worked well in the past 1545 are likely to continue working well in the future. \n",
    "These inferences can be obvious, 45123154 such as \"since the sun rose every morning for the last 10,000 days, \n",
    "it will probably rise tomorrow morning as well\".\"\"\"\n",
    "\n",
    "all_char = re.findall(\"\\S\",text)\n",
    "print(all_char)"
   ]
  },
  {
   "cell_type": "code",
   "execution_count": 268,
   "id": "80e03e74",
   "metadata": {},
   "outputs": [
    {
     "name": "stdout",
     "output_type": "stream",
     "text": [
      "['Learning', 'algorithms', 'work', 'on', 'the', 'basis', 'that', 'strategies,', 'algorithms,', 'and', 'inferences', 'that', 'worked', 'well', 'in', 'the', 'past', '1545', 'are', 'likely', 'to', 'continue', 'working', 'well', 'in', 'the', 'future.', 'These', 'inferences', 'can', 'be', 'obvious,', '45123154', 'such', 'as', '\"since', 'the', 'sun', 'rose', 'every', 'morning', 'for', 'the', 'last', '10,000', 'days,', 'it', 'will', 'probably', 'rise', 'tomorrow', 'morning', 'as', 'well\".']\n"
     ]
    }
   ],
   "source": [
    "text = \"\"\"Learning algorithms work on the basis that strategies, algorithms, \n",
    "and inferences that worked well in the past 1545 are likely to continue working well in the future. \n",
    "These inferences can be obvious, 45123154 such as \"since the sun rose every morning for the last 10,000 days, \n",
    "it will probably rise tomorrow morning as well\".\"\"\"\n",
    "\n",
    "all_char = re.findall(\"\\S{1,20}\",text)\n",
    "print(all_char)"
   ]
  },
  {
   "cell_type": "code",
   "execution_count": 270,
   "id": "4664b041",
   "metadata": {},
   "outputs": [
    {
     "name": "stdout",
     "output_type": "stream",
     "text": [
      "['Lear', 'ning', 'algo', 'rith', 'work', 'basi', 'that', 'stra', 'tegi', 'algo', 'rith', 'infe', 'renc', 'that', 'work', 'well', 'past', '1545', 'like', 'cont', 'inue', 'work', 'well', 'futu', 'Thes', 'infe', 'renc', 'obvi', 'ous,', '4512', '3154', 'such', '\"sin', 'rose', 'ever', 'morn', 'last', '10,0', 'days', 'will', 'prob', 'ably', 'rise', 'tomo', 'rrow', 'morn', 'well']\n"
     ]
    }
   ],
   "source": [
    "text = \"\"\"Learning algorithms work on the basis that strategies, algorithms, \n",
    "and inferences that worked well in the past 1545 are likely to continue working well in the future. \n",
    "These inferences can be obvious, 45123154 such as \"since the sun rose every morning for the last 10,000 days, \n",
    "it will probably rise tomorrow morning as well\".\"\"\"\n",
    "\n",
    "all_char = re.findall(\"\\S{4}\",text)\n",
    "print(all_char)"
   ]
  },
  {
   "cell_type": "markdown",
   "id": "e10bc3b5",
   "metadata": {},
   "source": [
    "### \\w\n",
    "- \\w --> [a-zA-Z0-9] No special characters are allowed"
   ]
  },
  {
   "cell_type": "code",
   "execution_count": 271,
   "id": "ed0cc44d",
   "metadata": {},
   "outputs": [
    {
     "name": "stdout",
     "output_type": "stream",
     "text": [
      "['L', 'e', 'a', 'r', 'n', 'i', 'n', 'g', 'a', 'l', 'g', 'o', 'r', 'i', 't', 'h', 'm', 's', 'w', 'o', 'r', 'k', 'o', 'n', 't', 'h', 'e', 'b', 'a', 's', 'i', 's', 't', 'h', 'a', 't', 's', 't', 'r', 'a', 't', 'e', 'g', 'i', 'e', 's', 'a', 'l', 'g', 'o', 'r', 'i', 't', 'h', 'm', 's', 'a', 'n', 'd', 'i', 'n', 'f', 'e', 'r', 'e', 'n', 'c', 'e', 's', 't', 'h', 'a', 't', 'w', 'o', 'r', 'k', 'e', 'd', 'w', 'e', 'l', 'l', 'i', 'n', 't', 'h', 'e', 'p', 'a', 's', 't', '1', '5', '4', '5', 'a', 'r', 'e', 'l', 'i', 'k', 'e', 'l', 'y', 't', 'o', 'c', 'o', 'n', 't', 'i', 'n', 'u', 'e', 'w', 'o', 'r', 'k', 'i', 'n', 'g', 'w', 'e', 'l', 'l', 'i', 'n', 't', 'h', 'e', 'f', 'u', 't', 'u', 'r', 'e', 'T', 'h', 'e', 's', 'e', 'i', 'n', 'f', 'e', 'r', 'e', 'n', 'c', 'e', 's', 'c', 'a', 'n', 'b', 'e', 'o', 'b', 'v', 'i', 'o', 'u', 's', '4', '5', '1', '2', '3', '1', '5', '4', 's', 'u', 'c', 'h', 'a', 's', 's', 'i', 'n', 'c', 'e', 't', 'h', 'e', 's', 'u', 'n', 'r', 'o', 's', 'e', 'e', 'v', 'e', 'r', 'y', 'm', 'o', 'r', 'n', 'i', 'n', 'g', 'f', 'o', 'r', 't', 'h', 'e', 'l', 'a', 's', 't', '1', '0', '0', '0', '0', 'd', 'a', 'y', 's', 'i', 't', 'w', 'i', 'l', 'l', 'p', 'r', 'o', 'b', 'a', 'b', 'l', 'y', 'r', 'i', 's', 'e', 't', 'o', 'm', 'o', 'r', 'r', 'o', 'w', 'm', 'o', 'r', 'n', 'i', 'n', 'g', 'a', 's', 'w', 'e', 'l', 'l']\n"
     ]
    }
   ],
   "source": [
    "text = \"\"\"Learning algorithms work on the basis that strategies, algorithms, \n",
    "and inferences that worked well in the past 1545 are likely to continue working well in the future. \n",
    "These inferences can be obvious, 45123154 such as \"since the sun rose every morning for the last 10,000 days, \n",
    "it will probably rise tomorrow morning as well\".\"\"\"\n",
    "\n",
    "No_special = re.findall(\"\\w\",text)\n",
    "print(No_special)"
   ]
  },
  {
   "cell_type": "code",
   "execution_count": 273,
   "id": "db7e0bc9",
   "metadata": {},
   "outputs": [
    {
     "name": "stdout",
     "output_type": "stream",
     "text": [
      "['Learning', 'algorithms', 'work', 'on', 'the', 'basis', 'that', 'strategies', 'algorithms', 'and', 'inferences', 'that', 'worked', 'well', 'in', 'the', 'past', '1545', 'are', 'likely', 'to', 'continue', 'working', 'well', 'in', 'the', 'future', 'These', 'inferences', 'can', 'be', 'obvious', '45123154', 'such', 'as', 'since', 'the', 'sun', 'rose', 'every', 'morning', 'for', 'the', 'last', '10', '000', 'days', 'it', 'will', 'probably', 'rise', 'tomorrow', 'morning', 'as', 'well']\n"
     ]
    }
   ],
   "source": [
    "No_special = re.findall(\"\\w{1,10}\",text)\n",
    "print(No_special)"
   ]
  },
  {
   "cell_type": "code",
   "execution_count": 274,
   "id": "718ea7ec",
   "metadata": {},
   "outputs": [
    {
     "name": "stdout",
     "output_type": "stream",
     "text": [
      "['Q', 'W', 'E', 'R', 'T', '8', '7', '7', '9', 'Q', 'f', 'g', 'h', 'f', 'g', 'h', '4', '5', '7', '6', '5', '4', '6', '7', '5', '6', '8']\n"
     ]
    }
   ],
   "source": [
    "All= re.findall(\"\\w\",\"QWERT8779Qfghfgh@#@45765467568$?/\")\n",
    "print(All)"
   ]
  },
  {
   "cell_type": "code",
   "execution_count": 282,
   "id": "28aa2d43",
   "metadata": {},
   "outputs": [
    {
     "name": "stdout",
     "output_type": "stream",
     "text": [
      "['M', 'o', 'b', 'i', 'a', 'l', 'N', 'U', 'm', 'b', 'e', 'r', 's', '9', '5', '1', '1', '8', '6', '0', '2', '7', '2', '9', '8', '5', '6', '2', '4', '6', '3', '2', '3', '7', '8', '9', '5', '1', '1', '0', '2', '3', '3', '5', '7', '8', '6', '3', '2', '5', '8', '4', '7', '8', '9', '5', '2', '2', '1', '4', '5', '6', '4', 'M', 'a', 'i', 'l', 'I', 'd', 's', 't', 'o', 'r', 'n', 'a', 'd', 'o', 'm', 'r', 'g', 'm', 'a', 'i', 'l', 'c', 'o', 'm', 'Y', 'a', 's', 'h', 'D', 'h', 'a', 'k', 'a', 'd', 'e', 'g', 'm', 'a', 'i', 'l', 'c', 'o', 'm', 'Y', 'a', 's', 'h', '_', 'D', 'h', 'a', 'k', 'a', 'd', 'e', '1', '2', '3', 'g', 'm', 'a', 'i', 'l', 'c', 'o', 'm', 'd', 'a', 't', 'e', '1', '2', '1', '2', '2', '0', '1', '2', '2', '5', '1', '1', '2', '0', '2', '2', '0', '8', '1', '1', '2', '0', '2', '1', '2', '0', '2', '2', '0', '5', '0', '1', '2', '2', '0', '5', '0', '2', '2', '2', '2', '0', '2', '0', '1', '0', '1', '0', '2', '0', '0', '1', '0', '1', '0', '1', '1', '9', '9', '9', 'A', 'd', 'd', 'h', 'a', 'r', 'n', 'u', 'm', 'b', 'e', 'r', '7', '8', '7', '8', '8', '9', '5', '1', '4', '1', '2', '5', '9', '5', '8', '5', '6', '3', '2', '5', '4', '5', '1', '2', '7', '5', '5', '6', '2', '5', '3', '5', '4', '1', '2', '7', '7', '8', '9', '4', '5', '3', '1', '2', '3', '5', '9', '5', '1', '1', '8', '6', '0', '2', '2', '7', '0', '2', 'p', 'a', 'n', '_', 'n', 'u', 'm', 'b', 'e', 'r', 'Q', 'W', 'E', 'R', 'T', '8', '7', '7', '9', 'Q', 'A', 'B', 'C', 'T', 'Y', '1', '2', '3', '4', 'D', 'A', 'S', 'D', 'F', 'G', '4', '8', '7', '5', 'H', 'P', 'O', 'J', 'O', '7', '8', '7', '8', 'P', 'N', 'J', 'P', 'J', 'F', '8', '6', '6', '7', 'p', 'Q', 'A', 'Z', 'X', 'S', '6', '5', '4', '7', 'Y']\n"
     ]
    }
   ],
   "source": [
    "text = \"\"\"\n",
    "Mobial NUmbers:- 9511860272,\n",
    "                 9856246323,\n",
    "                 78951102335,\n",
    "                 78632584,\n",
    "                 78952214564,\n",
    "                 \n",
    "Mail Id's :-     tornadomr@gmail.com,\n",
    "                 Yash.Dhakade@gmail.com,\n",
    "                 Yash_Dhakade123@gmail.com,\n",
    "                 \n",
    "date :-          12/12/2012,\n",
    "                 25-11-2022,\n",
    "                 08 11 2021, \n",
    "                 2022/05/01,\n",
    "                 22/05/022,\n",
    "                 22 02 01,\n",
    "                 01-02-001,\n",
    "                 01,01,1999\n",
    "                 \n",
    "Addhar number :- 7878 8951 4125,\n",
    "                 9585 6325 4512,\n",
    "                 7556 2535 412,\n",
    "                 7789 453 1235,\n",
    "                 9511 8602 2702\n",
    "                 \n",
    "pan_number :-    QWERT8779Q,\n",
    "                 ABCTY1234D,\n",
    "                 ASDFG4875H,\n",
    "                 POJO7878P,\n",
    "                 NJPJF8667p,\n",
    "                 QAZXS6547Y,\n",
    "                 \n",
    "\"\"\"\n",
    "get_pan = re.findall(\"\\w\",text)\n",
    "print(get_pan)"
   ]
  },
  {
   "cell_type": "code",
   "execution_count": 283,
   "id": "e179f025",
   "metadata": {},
   "outputs": [
    {
     "data": {
      "text/plain": [
       "['a5', 'B5']"
      ]
     },
     "execution_count": 283,
     "metadata": {},
     "output_type": "execute_result"
    }
   ],
   "source": [
    "re.findall(\"[a-zA-Z0-9]{2}\",\"a5B5\")"
   ]
  },
  {
   "cell_type": "code",
   "execution_count": 292,
   "id": "373b0928",
   "metadata": {},
   "outputs": [
    {
     "data": {
      "text/plain": [
       "['a5', 'B5']"
      ]
     },
     "execution_count": 292,
     "metadata": {},
     "output_type": "execute_result"
    }
   ],
   "source": [
    "re.findall(\"\\w{2}\",\"a5B5\")"
   ]
  },
  {
   "cell_type": "code",
   "execution_count": 295,
   "id": "a7f84af1",
   "metadata": {},
   "outputs": [
    {
     "data": {
      "text/plain": [
       "['5B5']"
      ]
     },
     "execution_count": 295,
     "metadata": {},
     "output_type": "execute_result"
    }
   ],
   "source": [
    "re.findall(\"[A-Z0-9]{3}\",\"a5B5\")"
   ]
  },
  {
   "cell_type": "code",
   "execution_count": 298,
   "id": "0996683d",
   "metadata": {},
   "outputs": [
    {
     "data": {
      "text/plain": [
       "['a', 'B']"
      ]
     },
     "execution_count": 298,
     "metadata": {},
     "output_type": "execute_result"
    }
   ],
   "source": [
    "re.findall(\"[A-Za-z]\",\"a5B5\")"
   ]
  },
  {
   "cell_type": "code",
   "execution_count": 299,
   "id": "6ff5bbb0",
   "metadata": {},
   "outputs": [
    {
     "data": {
      "text/plain": [
       "'aB'"
      ]
     },
     "execution_count": 299,
     "metadata": {},
     "output_type": "execute_result"
    }
   ],
   "source": [
    "\"\".join(['a', 'B'])"
   ]
  },
  {
   "cell_type": "markdown",
   "id": "9b087e5b",
   "metadata": {},
   "source": [
    "### \\W\n",
    "- \\W --> [^ A-Za-z0-9] no alphanumeric values, only special characters"
   ]
  },
  {
   "cell_type": "code",
   "execution_count": 302,
   "id": "a184b76d",
   "metadata": {},
   "outputs": [
    {
     "name": "stdout",
     "output_type": "stream",
     "text": [
      "['\\n', ' ', ':', '-', ' ', ',', '\\n', ' ', ' ', ' ', ' ', ' ', ' ', ' ', ' ', ' ', ' ', ' ', ' ', ' ', ' ', ' ', ' ', ' ', ',', '\\n', ' ', ' ', ' ', ' ', ' ', ' ', ' ', ' ', ' ', ' ', ' ', ' ', ' ', ' ', ' ', ' ', ' ', ',', '\\n', ' ', ' ', ' ', ' ', ' ', ' ', ' ', ' ', ' ', ' ', ' ', ' ', ' ', ' ', ' ', ' ', ' ', ',', '\\n', ' ', ' ', ' ', ' ', ' ', ' ', ' ', ' ', ' ', ' ', ' ', ' ', ' ', ' ', ' ', ' ', ' ', ',', '\\n', ' ', ' ', ' ', ' ', ' ', ' ', ' ', ' ', ' ', ' ', ' ', ' ', ' ', ' ', ' ', ' ', ' ', '\\n', ' ', \"'\", ' ', ':', '-', ' ', ' ', ' ', ' ', ' ', '@', '.', ',', '\\n', ' ', ' ', ' ', ' ', ' ', ' ', ' ', ' ', ' ', ' ', ' ', ' ', ' ', ' ', ' ', ' ', ' ', '.', '@', '.', ',', '\\n', ' ', ' ', ' ', ' ', ' ', ' ', ' ', ' ', ' ', ' ', ' ', ' ', ' ', ' ', ' ', ' ', ' ', '@', '.', ',', '\\n', ' ', ' ', ' ', ' ', ' ', ' ', ' ', ' ', ' ', ' ', ' ', ' ', ' ', ' ', ' ', ' ', ' ', '\\n', ' ', ':', '-', ' ', ' ', ' ', ' ', ' ', ' ', ' ', ' ', ' ', ' ', '/', '/', ',', '\\n', ' ', ' ', ' ', ' ', ' ', ' ', ' ', ' ', ' ', ' ', ' ', ' ', ' ', ' ', ' ', ' ', ' ', '-', '-', ',', '\\n', ' ', ' ', ' ', ' ', ' ', ' ', ' ', ' ', ' ', ' ', ' ', ' ', ' ', ' ', ' ', ' ', ' ', ' ', ' ', ',', ' ', '\\n', ' ', ' ', ' ', ' ', ' ', ' ', ' ', ' ', ' ', ' ', ' ', ' ', ' ', ' ', ' ', ' ', ' ', '/', '/', ',', '\\n', ' ', ' ', ' ', ' ', ' ', ' ', ' ', ' ', ' ', ' ', ' ', ' ', ' ', ' ', ' ', ' ', ' ', '/', '/', ',', '\\n', ' ', ' ', ' ', ' ', ' ', ' ', ' ', ' ', ' ', ' ', ' ', ' ', ' ', ' ', ' ', ' ', ' ', ' ', ' ', ',', '\\n', ' ', ' ', ' ', ' ', ' ', ' ', ' ', ' ', ' ', ' ', ' ', ' ', ' ', ' ', ' ', ' ', ' ', '-', '-', ',', '\\n', ' ', ' ', ' ', ' ', ' ', ' ', ' ', ' ', ' ', ' ', ' ', ' ', ' ', ' ', ' ', ' ', ' ', ',', ',', '\\n', ' ', ' ', ' ', ' ', ' ', ' ', ' ', ' ', ' ', ' ', ' ', ' ', ' ', ' ', ' ', ' ', ' ', '\\n', ' ', ' ', ':', '-', ' ', ' ', ' ', ',', '\\n', ' ', ' ', ' ', ' ', ' ', ' ', ' ', ' ', ' ', ' ', ' ', ' ', ' ', ' ', ' ', ' ', ' ', ' ', ' ', ',', '\\n', ' ', ' ', ' ', ' ', ' ', ' ', ' ', ' ', ' ', ' ', ' ', ' ', ' ', ' ', ' ', ' ', ' ', ' ', ' ', ',', '\\n', ' ', ' ', ' ', ' ', ' ', ' ', ' ', ' ', ' ', ' ', ' ', ' ', ' ', ' ', ' ', ' ', ' ', ' ', ' ', ',', '\\n', ' ', ' ', ' ', ' ', ' ', ' ', ' ', ' ', ' ', ' ', ' ', ' ', ' ', ' ', ' ', ' ', ' ', ' ', ' ', '\\n', ' ', ' ', ' ', ' ', ' ', ' ', ' ', ' ', ' ', ' ', ' ', ' ', ' ', ' ', ' ', ' ', ' ', '\\n', ' ', ':', '-', ' ', ' ', ' ', ' ', ',', '\\n', ' ', ' ', ' ', ' ', ' ', ' ', ' ', ' ', ' ', ' ', ' ', ' ', ' ', ' ', ' ', ' ', ' ', ',', '\\n', ' ', ' ', ' ', ' ', ' ', ' ', ' ', ' ', ' ', ' ', ' ', ' ', ' ', ' ', ' ', ' ', ' ', ',', '\\n', ' ', ' ', ' ', ' ', ' ', ' ', ' ', ' ', ' ', ' ', ' ', ' ', ' ', ' ', ' ', ' ', ' ', ',', '\\n', ' ', ' ', ' ', ' ', ' ', ' ', ' ', ' ', ' ', ' ', ' ', ' ', ' ', ' ', ' ', ' ', ' ', ',', '\\n', ' ', ' ', ' ', ' ', ' ', ' ', ' ', ' ', ' ', ' ', ' ', ' ', ' ', ' ', ' ', ' ', ' ', ',', '\\n', ' ', ' ', ' ', ' ', ' ', ' ', ' ', ' ', ' ', ' ', ' ', ' ', ' ', ' ', ' ', ' ', ' ', '\\n']\n"
     ]
    }
   ],
   "source": [
    "text = \"\"\"\n",
    "Mobial NUmbers:- 9511860272,\n",
    "                 9856246323,\n",
    "                 78951102335,\n",
    "                 78632584,\n",
    "                 78952214564,\n",
    "                 \n",
    "Mail Id's :-     tornadomr@gmail.com,\n",
    "                 Yash.Dhakade@gmail.com,\n",
    "                 Yash_Dhakade123@gmail.com,\n",
    "                 \n",
    "date :-          12/12/2012,\n",
    "                 25-11-2022,\n",
    "                 08 11 2021, \n",
    "                 2022/05/01,\n",
    "                 22/05/022,\n",
    "                 22 02 01,\n",
    "                 01-02-001,\n",
    "                 01,01,1999\n",
    "                 \n",
    "Addhar number :- 7878 8951 4125,\n",
    "                 9585 6325 4512,\n",
    "                 7556 2535 412,\n",
    "                 7789 453 1235,\n",
    "                 9511 8602 2702\n",
    "                 \n",
    "pan_number :-    QWERT8779Q,\n",
    "                 ABCTY1234D,\n",
    "                 ASDFG4875H,\n",
    "                 POJO7878P,\n",
    "                 NJPJF8667p,\n",
    "                 QAZXS6547Y,\n",
    "                 \n",
    "\"\"\"\n",
    "get_pan = re.findall(\"\\W\",text)\n",
    "print(get_pan)"
   ]
  },
  {
   "cell_type": "code",
   "execution_count": 304,
   "id": "bcf0c60a",
   "metadata": {},
   "outputs": [
    {
     "data": {
      "text/plain": [
       "['@', '#', '@', '$', '?', '/']"
      ]
     },
     "execution_count": 304,
     "metadata": {},
     "output_type": "execute_result"
    }
   ],
   "source": [
    "re.findall(\"\\W\",\"QWERT8779Qfghfgh@#@45765467568$?/\")"
   ]
  },
  {
   "cell_type": "code",
   "execution_count": 314,
   "id": "9aa635df",
   "metadata": {},
   "outputs": [
    {
     "data": {
      "text/plain": [
       "['00:00', '5e:00', '53:af']"
      ]
     },
     "execution_count": 314,
     "metadata": {},
     "output_type": "execute_result"
    }
   ],
   "source": [
    "re.findall(\"\\w{2}[:]\\w{2}\",\"00:00:5e:00:53:af\")"
   ]
  },
  {
   "cell_type": "code",
   "execution_count": null,
   "id": "e8c1218f",
   "metadata": {},
   "outputs": [],
   "source": []
  },
  {
   "cell_type": "code",
   "execution_count": 331,
   "id": "201736e9",
   "metadata": {},
   "outputs": [
    {
     "name": "stdout",
     "output_type": "stream",
     "text": [
      "['192.168.0.0', '192.168.0.101', '192.168.0.100', '192.168.0.72']\n"
     ]
    }
   ],
   "source": [
    "text = \"\"\"\n",
    "Mobial NUmbers:- 9511860272,\n",
    "                 9856246323,\n",
    "                 78951102335,\n",
    "                 78632584,\n",
    "                 78952214564,\n",
    "                 \n",
    "Mail Id's :-     tornadomr@gmail.com,\n",
    "                 Yash.Dhakade@gmail.com,\n",
    "                 Yash_Dhakade123@gmail.com,\n",
    "                 \n",
    "date :-          12/12/2012,\n",
    "                 25-11-2022,\n",
    "                 08 11 2021, \n",
    "                 2022/05/01,\n",
    "                 22/05/022,\n",
    "                 22 02 01,\n",
    "                 01-02-001,\n",
    "                 01,01,1999\n",
    "                 \n",
    "Addhar number :- 7878 8951 4125,\n",
    "                 9585 6325 4512,\n",
    "                 7556 2535 412,\n",
    "                 7789 453 1235,\n",
    "                 9511 8602 2702\n",
    "                 \n",
    "pan_number :-    QWERT8779Q,\n",
    "                 ABCTY1234D,\n",
    "                 ASDFG4875H,\n",
    "                 POJO7878P,\n",
    "                 NJPJF8667p,\n",
    "                 QAZXS6547Y,\n",
    "                 \n",
    "IP Address :-    192.168.0.0,\n",
    "                 192.168.0.101,\n",
    "                 192.168.0.100,\n",
    "                 192.168.0.72\n",
    "                 \n",
    "\"\"\"\n",
    "\n",
    "get_ip = re.findall(\"\\d{1,3}[.]\\d{1,3}[.]\\d[.]\\d{1,3}\",text)\n",
    "print(get_ip)"
   ]
  },
  {
   "cell_type": "code",
   "execution_count": null,
   "id": "63002efb",
   "metadata": {},
   "outputs": [],
   "source": []
  }
 ],
 "metadata": {
  "kernelspec": {
   "display_name": "Python 3 (ipykernel)",
   "language": "python",
   "name": "python3"
  },
  "language_info": {
   "codemirror_mode": {
    "name": "ipython",
    "version": 3
   },
   "file_extension": ".py",
   "mimetype": "text/x-python",
   "name": "python",
   "nbconvert_exporter": "python",
   "pygments_lexer": "ipython3",
   "version": "3.9.12"
  }
 },
 "nbformat": 4,
 "nbformat_minor": 5
}
