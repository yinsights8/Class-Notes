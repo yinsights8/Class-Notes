{
 "cells": [
  {
   "cell_type": "code",
   "execution_count": 1,
   "id": "d281bbfa",
   "metadata": {},
   "outputs": [],
   "source": [
    "import re"
   ]
  },
  {
   "cell_type": "code",
   "execution_count": 2,
   "id": "1453b76a",
   "metadata": {},
   "outputs": [
    {
     "data": {
      "text/plain": [
       "['1', '1']"
      ]
     },
     "execution_count": 2,
     "metadata": {},
     "output_type": "execute_result"
    }
   ],
   "source": [
    "text = \"\"\"12341567897\"\"\"\n",
    "num = re.findall(\"1\",text)\n",
    "num"
   ]
  },
  {
   "cell_type": "code",
   "execution_count": 3,
   "id": "4ffa9981",
   "metadata": {},
   "outputs": [
    {
     "data": {
      "text/plain": [
       "['5']"
      ]
     },
     "execution_count": 3,
     "metadata": {},
     "output_type": "execute_result"
    }
   ],
   "source": [
    "text = \"\"\"12341567897\"\"\"\n",
    "num = re.findall(\"5\",text)\n",
    "num"
   ]
  },
  {
   "cell_type": "code",
   "execution_count": 4,
   "id": "ce909d88",
   "metadata": {},
   "outputs": [
    {
     "data": {
      "text/plain": [
       "['11']"
      ]
     },
     "execution_count": 4,
     "metadata": {},
     "output_type": "execute_result"
    }
   ],
   "source": [
    "text = \"\"\"11123415556789722\"\"\"\n",
    "num = re.findall(\"11\",text)\n",
    "num"
   ]
  },
  {
   "cell_type": "code",
   "execution_count": 5,
   "id": "8d01ffb5",
   "metadata": {},
   "outputs": [
    {
     "data": {
      "text/plain": [
       "['111']"
      ]
     },
     "execution_count": 5,
     "metadata": {},
     "output_type": "execute_result"
    }
   ],
   "source": [
    "text = \"\"\"11123415556789722\"\"\"\n",
    "num = re.findall(\"[11]{3}\",text)\n",
    "num"
   ]
  },
  {
   "cell_type": "code",
   "execution_count": 6,
   "id": "e1bde3d7",
   "metadata": {},
   "outputs": [
    {
     "data": {
      "text/plain": [
       "[]"
      ]
     },
     "execution_count": 6,
     "metadata": {},
     "output_type": "execute_result"
    }
   ],
   "source": [
    "text = \"\"\"11123415556789722\"\"\"\n",
    "num = re.findall(\"[1]{4}\",text)\n",
    "num"
   ]
  },
  {
   "cell_type": "markdown",
   "id": "3e9781b0",
   "metadata": {},
   "source": [
    "## re.findall()\n",
    "- list = re.findall(Pattern, string)"
   ]
  },
  {
   "cell_type": "code",
   "execution_count": 7,
   "id": "f7e63c28",
   "metadata": {},
   "outputs": [
    {
     "name": "stdout",
     "output_type": "stream",
     "text": [
      "['9', '5', '1', '1', '8', '6', '0', '2', '7', '2', '9', '8', '5', '6', '2', '4', '6', '3', '2', '3', '7', '8', '9', '5', '1', '1', '0', '2', '3', '3', '5', '7', '8', '6', '3', '2', '5', '8', '4', '7', '8', '9', '5', '2', '2', '1', '4', '5', '6', '4']\n"
     ]
    }
   ],
   "source": [
    "num_text = \"\"\"\n",
    "Mobial NUmbers:- 9511860272\n",
    "                 9856246323\n",
    "                 78951102335\n",
    "                 78632584\n",
    "                 78952214564 these all are the numbers i've got\n",
    "\"\"\"\n",
    "\n",
    "li = re.findall(\"[0-9]\",num_text)   # bydefault {} = 1\n",
    "print(li)"
   ]
  },
  {
   "cell_type": "code",
   "execution_count": 8,
   "id": "4a0c6da8",
   "metadata": {},
   "outputs": [
    {
     "name": "stdout",
     "output_type": "stream",
     "text": [
      "['95118', '60272', '98562', '46323', '78951', '10233', '78632', '78952', '21456']\n"
     ]
    }
   ],
   "source": [
    "num_text = \"\"\"\n",
    "Mobial NUmbers:- 9511860272,\n",
    "                 9856246323,\n",
    "                 78951102335,\n",
    "                 78632584,\n",
    "                 78952214564,\n",
    "                 \n",
    "Mail Id's :-     tornadomr@gmail.com\n",
    "                 yashdhakade@gmail.com\"\"\"\n",
    "\n",
    "li = re.findall(\"[0-9]{5}\",num_text)\n",
    "print(li)"
   ]
  },
  {
   "cell_type": "code",
   "execution_count": 9,
   "id": "ce4d5c42",
   "metadata": {},
   "outputs": [
    {
     "name": "stdout",
     "output_type": "stream",
     "text": [
      "['9511860272', '9856246323', '7895110233', '7895221456']\n"
     ]
    }
   ],
   "source": [
    "num_text = \"\"\"\n",
    "Mobial NUmbers:- 9511860272,\n",
    "                 9856246323,\n",
    "                 78951102335,\n",
    "                 78632584,\n",
    "                 78952214564,\n",
    "                 \n",
    "Mail Id's :-     tornadomr@gmail.com\n",
    "                 yashdhakade@gmail.com\"\"\"\n",
    "\n",
    "li = re.findall(\"[0-9]{10}\",num_text)\n",
    "print(li)"
   ]
  },
  {
   "cell_type": "code",
   "execution_count": 10,
   "id": "eddaa00c",
   "metadata": {},
   "outputs": [],
   "source": [
    "## get emailid"
   ]
  },
  {
   "cell_type": "code",
   "execution_count": 11,
   "id": "3752702b",
   "metadata": {},
   "outputs": [
    {
     "name": "stdout",
     "output_type": "stream",
     "text": [
      "['obial', 'mbers', 'torna', 'gmail', 'yashd', 'hakad', 'gmail']\n"
     ]
    }
   ],
   "source": [
    "num_text = \"\"\"\n",
    "Mobial NUmbers:- 9511860272,\n",
    "                 9856246323,\n",
    "                 78951102335,\n",
    "                 78632584,\n",
    "                 78952214564,\n",
    "                 \n",
    "Mail Id's :-     tornadomr@gmail.com\n",
    "                 yashdhakade@gmail.com\"\"\"\n",
    "\n",
    "email_id = re.findall(\"[a-z]{5}\",num_text)\n",
    "print(email_id)"
   ]
  },
  {
   "cell_type": "code",
   "execution_count": 12,
   "id": "00a32d7c",
   "metadata": {},
   "outputs": [
    {
     "data": {
      "text/plain": [
       "['@']"
      ]
     },
     "execution_count": 12,
     "metadata": {},
     "output_type": "execute_result"
    }
   ],
   "source": [
    "text = \"\"\"\n",
    "Mobial NUmbers:- 9511860272,\n",
    "                 9856246323,\n",
    "                 78951102335,\n",
    "                 78632584,\n",
    "                 78952214564,\n",
    "                 \n",
    "Mail Id's :-     tornadomr@gmail.com\n",
    "\"\"\"\n",
    "\n",
    "email_id = re.findall(\"[@]\",text)\n",
    "email_id"
   ]
  },
  {
   "cell_type": "code",
   "execution_count": 17,
   "id": "11e744fa",
   "metadata": {},
   "outputs": [
    {
     "data": {
      "text/plain": [
       "['r@g']"
      ]
     },
     "execution_count": 17,
     "metadata": {},
     "output_type": "execute_result"
    }
   ],
   "source": [
    "text = \"\"\"\n",
    "Mobial NUmbers:- 9511860272,\n",
    "                 9856246323,\n",
    "                 78951102335,\n",
    "                 78632584,\n",
    "                 78952214564,\n",
    "                 \n",
    "Mail Id's :-     tornadomr@gmail.com\n",
    "\"\"\"\n",
    "\n",
    "email_id = re.findall(\"[a-z][@][a-z]\",text)\n",
    "email_id"
   ]
  },
  {
   "cell_type": "code",
   "execution_count": 18,
   "id": "5df1d1eb",
   "metadata": {},
   "outputs": [
    {
     "data": {
      "text/plain": [
       "['l.c']"
      ]
     },
     "execution_count": 18,
     "metadata": {},
     "output_type": "execute_result"
    }
   ],
   "source": [
    "text = \"\"\"\n",
    "Mobial NUmbers:- 9511860272,\n",
    "                 9856246323,\n",
    "                 78951102335,\n",
    "                 78632584,\n",
    "                 78952214564,\n",
    "                 \n",
    "Mail Id's :-     tornadomr@gmail.com\n",
    "\"\"\"\n",
    "\n",
    "email_id = re.findall(\"[a-z][.][a-z]\",text)\n",
    "email_id"
   ]
  },
  {
   "cell_type": "code",
   "execution_count": 31,
   "id": "678ed305",
   "metadata": {},
   "outputs": [
    {
     "data": {
      "text/plain": [
       "['tornadomr@gmail.com']"
      ]
     },
     "execution_count": 31,
     "metadata": {},
     "output_type": "execute_result"
    }
   ],
   "source": [
    "text = \"\"\"\n",
    "Mobial NUmbers:- 9511860272,\n",
    "                 9856246323,\n",
    "                 78951102335,\n",
    "                 78632584,\n",
    "                 78952214564,\n",
    "                 \n",
    "Mail Id's :-     tornadomr@gmail.com\n",
    "\"\"\"\n",
    "\n",
    "email_id = re.findall(\"[a-z]{1,10}[@][a-z]{1,5}[.][a-z]{1,3}\",text)\n",
    "email_id"
   ]
  },
  {
   "cell_type": "code",
   "execution_count": 36,
   "id": "375cabdf",
   "metadata": {},
   "outputs": [
    {
     "data": {
      "text/plain": [
       "['tornadomr@gmail.com', 'yashdhakade@gmail.com']"
      ]
     },
     "execution_count": 36,
     "metadata": {},
     "output_type": "execute_result"
    }
   ],
   "source": [
    "text = \"\"\"\n",
    "Mobial NUmbers:- 9511860272,\n",
    "                 9856246323,\n",
    "                 78951102335,\n",
    "                 78632584,\n",
    "                 78952214564,\n",
    "                 \n",
    "Mail Id's :-     tornadomr@gmail.com\n",
    "                 yashdhakade@gmail.com\n",
    "                 johnweak123@gmail.com\"\"\"\n",
    "\n",
    "email_id = re.findall(\"[a-z]{1,15}[@][a-z]{1,5}[.][a-z]{1,3}\",text)\n",
    "email_id"
   ]
  },
  {
   "cell_type": "code",
   "execution_count": 60,
   "id": "8d0961f4",
   "metadata": {},
   "outputs": [
    {
     "name": "stdout",
     "output_type": "stream",
     "text": [
      "['tornadomr@gmail.com', 'Yash.Dhakade@gmail.com']\n"
     ]
    }
   ],
   "source": [
    "text = \"\"\"\n",
    "Mobial NUmbers:- 9511860272,\n",
    "                 9856246323,\n",
    "                 78951102335,\n",
    "                 78632584,\n",
    "                 78952214564,\n",
    "                 \n",
    "Mail Id's :-     tornadomr@gmail.com\n",
    "                 Yash.Dhakade@gmail.com\n",
    "\"\"\"\n",
    "\n",
    "email_id = re.findall(\"[a-zA-Z.]{1,15}[@][a-z]{1,10}[.][a-z]{1,10}\",text)\n",
    "print(email_id)"
   ]
  },
  {
   "cell_type": "code",
   "execution_count": 84,
   "id": "4be5b153",
   "metadata": {},
   "outputs": [
    {
     "name": "stdout",
     "output_type": "stream",
     "text": [
      "['tornadomr12345@gmail.com', 'Yash.Dhakade5550@gmail.com', 'Yash_Dhakade123@gmail.com']\n"
     ]
    }
   ],
   "source": [
    "text = \"\"\"\n",
    "Mobial NUmbers:- 9511860272,\n",
    "                 9856246323,\n",
    "                 78951102335,\n",
    "                 78632584,\n",
    "                 78952214564,\n",
    "                 \n",
    "Mail Id's :-     tornadomr12345@gmail.com\n",
    "                 Yash.Dhakade5550@gmail.com\n",
    "                 Yash_Dhakade123@gmail.com\n",
    "                 \n",
    "\"\"\"\n",
    "\n",
    "email_id = re.findall(\"[a-zA-Z._]{1,15}[0-9]{1,5}[@][a-z]{1,5}[.][a-z]{1,15}\",text)\n",
    "print(email_id)"
   ]
  },
  {
   "cell_type": "code",
   "execution_count": 94,
   "id": "6a3f1157",
   "metadata": {},
   "outputs": [
    {
     "name": "stdout",
     "output_type": "stream",
     "text": [
      "['Yash_Dhakade123@gmail.com']\n"
     ]
    }
   ],
   "source": [
    "text = \"\"\"\n",
    "Mobial NUmbers:- 9511860272,\n",
    "                 9856246323,\n",
    "                 78951102335,\n",
    "                 78632584,\n",
    "                 78952214564,\n",
    "                 \n",
    "Mail Id's :-     tornadomr@gmail.com\n",
    "                 Yash.Dhakade@gmail.com\n",
    "                 Yash_Dhakade123@gmail.com\n",
    "                 \n",
    "\"\"\"\n",
    "\n",
    "email_id = re.findall(\"[a-zA-Z._]{1,15}[0-9]{1,5}[@][a-z]{1,5}[.][a-z]{1,5}\",text)\n",
    "print(email_id)"
   ]
  },
  {
   "cell_type": "code",
   "execution_count": 146,
   "id": "3522e77c",
   "metadata": {},
   "outputs": [
    {
     "name": "stdout",
     "output_type": "stream",
     "text": [
      "['tornadomr@gmail.com', 'Yash.Dhakade@gmail.com', 'Yash_Dhakade123@gmail.com', 'Yash_Dhakade5502@insight.co.in']\n"
     ]
    }
   ],
   "source": [
    "text = \"\"\"\n",
    "Mobial NUmbers:- 9511860272,\n",
    "                 9856246323,\n",
    "                 78951102335,\n",
    "                 78632584,\n",
    "                 78952214564,\n",
    "                 \n",
    "Mail Id's :-     tornadomr@gmail.com,\n",
    "                 Yash.Dhakade@gmail.com,\n",
    "                 Yash_Dhakade123@gmail.com,\n",
    "                 Yash_Dhakade5502@insight.co.in\n",
    "                 \n",
    "\"\"\"\n",
    "\n",
    "email_id = re.findall(\"[a-zA-Z0-9._]{1,20}[@][a-z.]{1,20}\",text)\n",
    "print(email_id)"
   ]
  },
  {
   "cell_type": "code",
   "execution_count": null,
   "id": "95e166f1",
   "metadata": {},
   "outputs": [],
   "source": []
  },
  {
   "cell_type": "code",
   "execution_count": null,
   "id": "cd03bc6f",
   "metadata": {},
   "outputs": [],
   "source": []
  },
  {
   "cell_type": "code",
   "execution_count": null,
   "id": "e5985721",
   "metadata": {},
   "outputs": [],
   "source": []
  },
  {
   "cell_type": "code",
   "execution_count": 129,
   "id": "d2c6bcfa",
   "metadata": {},
   "outputs": [
    {
     "data": {
      "text/plain": [
       "['12/12/2012', '25-11-2022', '08 11 2021']"
      ]
     },
     "execution_count": 129,
     "metadata": {},
     "output_type": "execute_result"
    }
   ],
   "source": [
    "text = \"\"\"\n",
    "Mobial NUmbers:- 9511860272,\n",
    "                 9856246323,\n",
    "                 78951102335,\n",
    "                 78632584,\n",
    "                 78952214564,\n",
    "                 \n",
    "Mail Id's :-     tornadomr@gmail.com,\n",
    "                 Yash.Dhakade@gmail.com,\n",
    "                 Yash_Dhakade123@gmail.com,\n",
    "                 \n",
    "                 \n",
    "date :-          12/12/2012,\n",
    "                 25-11-2022,\n",
    "                 08 11 2021\n",
    "                 \n",
    "\"\"\"\n",
    "\n",
    "dates = re.findall(\"[0-9]{2}[ /-][0-9]{2}[ /-][0-9]{4}\",text)\n",
    "dates"
   ]
  },
  {
   "cell_type": "code",
   "execution_count": 166,
   "id": "8bcdc460",
   "metadata": {},
   "outputs": [
    {
     "name": "stdout",
     "output_type": "stream",
     "text": [
      "['7878 8951 4125', '9585 6325 4512', '9511 8602 2702']\n"
     ]
    }
   ],
   "source": [
    "text = \"\"\"\n",
    "Mobial NUmbers:- 9511860272,\n",
    "                 9856246323,\n",
    "                 78951102335,\n",
    "                 78632584,\n",
    "                 78952214564,\n",
    "                 \n",
    "Mail Id's :-     tornadomr@gmail.com,\n",
    "                 Yash.Dhakade@gmail.com,\n",
    "                 Yash_Dhakade123@gmail.com,\n",
    "                 \n",
    "date :-          12/12/2012,\n",
    "                 25-11-2022,\n",
    "                 08 11 2021, \n",
    "                 2022/05/01,\n",
    "                 22/05/022,\n",
    "                 22 02 01,\n",
    "                 01-02-001,\n",
    "                 01,01,1999\n",
    "                 \n",
    "Addhar number :- 7878 8951 4125,\n",
    "                 9585 6325 4512,\n",
    "                 7556 2535 412,\n",
    "                 7789 453 1235,\n",
    "                 9511 8602 2702\n",
    "                 \n",
    "\"\"\"\n",
    "\n",
    "Addhar_num = re.findall(\"[0-9]{4}[ ][0-9]{4}[ ][0-9]{4}\",text)\n",
    "print(Addhar_num)"
   ]
  },
  {
   "cell_type": "code",
   "execution_count": null,
   "id": "a3b66eeb",
   "metadata": {},
   "outputs": [],
   "source": []
  },
  {
   "cell_type": "code",
   "execution_count": 179,
   "id": "1ccf0e72",
   "metadata": {},
   "outputs": [
    {
     "name": "stdout",
     "output_type": "stream",
     "text": [
      "['QWERT8779Q', 'ABCTY1234D', 'ASDFG4875H', 'QAZXS6547Y']\n"
     ]
    }
   ],
   "source": [
    "text = \"\"\"\n",
    "Mobial NUmbers:- 9511860272,\n",
    "                 9856246323,\n",
    "                 78951102335,\n",
    "                 78632584,\n",
    "                 78952214564,\n",
    "                 \n",
    "Mail Id's :-     tornadomr@gmail.com,\n",
    "                 Yash.Dhakade@gmail.com,\n",
    "                 Yash_Dhakade123@gmail.com,\n",
    "                 \n",
    "date :-          12/12/2012,\n",
    "                 25-11-2022,\n",
    "                 08 11 2021, \n",
    "                 2022/05/01,\n",
    "                 22/05/022,\n",
    "                 22 02 01,\n",
    "                 01-02-001,\n",
    "                 01,01,1999\n",
    "                 \n",
    "Addhar number :- 7878 8951 4125,\n",
    "                 9585 6325 4512,\n",
    "                 7556 2535 412,\n",
    "                 7789 453 1235,\n",
    "                 9511 8602 2702\n",
    "                 \n",
    "pan_number :-    QWERT8779Q,\n",
    "                 ABCTY1234D,\n",
    "                 ASDFG4875H,\n",
    "                 POJO7878P,\n",
    "                 NJPJF8667p,\n",
    "                 QAZXS6547Y,\n",
    "                 \n",
    "\"\"\"\n",
    "\n",
    "\n",
    "pan_number = re.findall(\"[A-Z]{5}[0-9]{4}[A-Z]\",text)\n",
    "print(pan_number)"
   ]
  },
  {
   "cell_type": "code",
   "execution_count": null,
   "id": "f8fd008c",
   "metadata": {},
   "outputs": [],
   "source": []
  },
  {
   "cell_type": "markdown",
   "id": "8718e13b",
   "metadata": {},
   "source": [
    "## Special Sequence"
   ]
  },
  {
   "cell_type": "markdown",
   "id": "81cb354f",
   "metadata": {},
   "source": [
    "- \\d --> 0-9 "
   ]
  },
  {
   "cell_type": "code",
   "execution_count": 184,
   "id": "bd97f7a7",
   "metadata": {},
   "outputs": [
    {
     "name": "stdout",
     "output_type": "stream",
     "text": [
      "['9', '5', '1', '1', '8', '6', '0', '2', '7', '2', '9', '8', '5', '6', '2', '4', '6', '3', '2', '3', '7', '8', '9', '5', '1', '1', '0', '2', '3', '3', '5', '7', '8', '6', '3', '2', '5', '8', '4', '7', '8', '9', '5', '2', '2', '1', '4', '5', '6', '4', '1', '2', '3', '1', '2', '1', '2', '2', '0', '1', '2', '2', '5', '1', '1', '2', '0', '2', '2', '0', '8', '1', '1', '2', '0', '2', '1', '2', '0', '2', '2', '0', '5', '0', '1', '2', '2', '0', '5', '0', '2', '2', '2', '2', '0', '2', '0', '1', '0', '1', '0', '2', '0', '0', '1', '0', '1', '0', '1', '1', '9', '9', '9', '7', '8', '7', '8', '8', '9', '5', '1', '4', '1', '2', '5', '9', '5', '8', '5', '6', '3', '2', '5', '4', '5', '1', '2', '7', '5', '5', '6', '2', '5', '3', '5', '4', '1', '2', '7', '7', '8', '9', '4', '5', '3', '1', '2', '3', '5', '9', '5', '1', '1', '8', '6', '0', '2', '2', '7', '0', '2', '8', '7', '7', '9', '1', '2', '3', '4', '4', '8', '7', '5', '7', '8', '7', '8', '8', '6', '6', '7', '6', '5', '4', '7']\n"
     ]
    }
   ],
   "source": [
    "text = \"\"\"\n",
    "Mobial NUmbers:- 9511860272,\n",
    "                 9856246323,\n",
    "                 78951102335,\n",
    "                 78632584,\n",
    "                 78952214564,\n",
    "                 \n",
    "Mail Id's :-     tornadomr@gmail.com,\n",
    "                 Yash.Dhakade@gmail.com,\n",
    "                 Yash_Dhakade123@gmail.com,\n",
    "                 \n",
    "date :-          12/12/2012,\n",
    "                 25-11-2022,\n",
    "                 08 11 2021, \n",
    "                 2022/05/01,\n",
    "                 22/05/022,\n",
    "                 22 02 01,\n",
    "                 01-02-001,\n",
    "                 01,01,1999\n",
    "                 \n",
    "Addhar number :- 7878 8951 4125,\n",
    "                 9585 6325 4512,\n",
    "                 7556 2535 412,\n",
    "                 7789 453 1235,\n",
    "                 9511 8602 2702\n",
    "                 \n",
    "pan_number :-    QWERT8779Q,\n",
    "                 ABCTY1234D,\n",
    "                 ASDFG4875H,\n",
    "                 POJO7878P,\n",
    "                 NJPJF8667p,\n",
    "                 QAZXS6547Y,\n",
    "                 \n",
    "\"\"\"\n",
    "\n",
    "\n",
    "num_only = re.findall(\"\\d\",text)\n",
    "print(num_only)"
   ]
  },
  {
   "cell_type": "code",
   "execution_count": 193,
   "id": "dcd8333c",
   "metadata": {},
   "outputs": [
    {
     "name": "stdout",
     "output_type": "stream",
     "text": [
      "['9511860272', '9856246323', '7895110233', '7895221456']\n"
     ]
    }
   ],
   "source": [
    "text = \"\"\"\n",
    "Mobial NUmbers:- 9511860272,\n",
    "                 9856246323,\n",
    "                 78951102335,\n",
    "                 78632584,\n",
    "                 78952214564,\n",
    "                 \n",
    "Mail Id's :-     tornadomr@gmail.com,\n",
    "                 Yash.Dhakade@gmail.com,\n",
    "                 Yash_Dhakade123@gmail.com,\n",
    "                 \n",
    "date :-          12/12/2012,\n",
    "                 25-11-2022,\n",
    "                 08 11 2021, \n",
    "                 2022/05/01,\n",
    "                 22/05/022,\n",
    "                 22 02 01,\n",
    "                 01-02-001,\n",
    "                 01,01,1999\n",
    "                 \n",
    "Addhar number :- 7878 8951 4125,\n",
    "                 9585 6325 4512,\n",
    "                 7556 2535 412,\n",
    "                 7789 453 1235,\n",
    "                 9511 8602 2702\n",
    "                 \n",
    "pan_number :-    QWERT8779Q,\n",
    "                 ABCTY1234D,\n",
    "                 ASDFG4875H,\n",
    "                 POJO7878P,\n",
    "                 NJPJF8667p,\n",
    "                 QAZXS6547Y,\n",
    "                 \n",
    "\"\"\"\n",
    "phn_num = re.findall(\"\\d{10}\",text)\n",
    "print(phn_num)"
   ]
  },
  {
   "cell_type": "code",
   "execution_count": null,
   "id": "7718f130",
   "metadata": {},
   "outputs": [],
   "source": []
  },
  {
   "cell_type": "code",
   "execution_count": 202,
   "id": "4de89c53",
   "metadata": {},
   "outputs": [
    {
     "name": "stdout",
     "output_type": "stream",
     "text": [
      "['7878 8951 4125', '9585 6325 4512', '9511 8602 2702']\n"
     ]
    }
   ],
   "source": [
    "text = \"\"\"\n",
    "Mobial NUmbers:- 9511860272,\n",
    "                 9856246323,\n",
    "                 78951102335,\n",
    "                 78632584,\n",
    "                 78952214564,\n",
    "                 \n",
    "Mail Id's :-     tornadomr@gmail.com,\n",
    "                 Yash.Dhakade@gmail.com,\n",
    "                 Yash_Dhakade123@gmail.com,\n",
    "                 \n",
    "date :-          12/12/2012,\n",
    "                 25-11-2022,\n",
    "                 08 11 2021, \n",
    "                 2022/05/01,\n",
    "                 22/05/022,\n",
    "                 22 02 01,\n",
    "                 01-02-001,\n",
    "                 01,01,1999\n",
    "                 \n",
    "Addhar number :- 7878 8951 4125,\n",
    "                 9585 6325 4512,\n",
    "                 7556 2535 412,\n",
    "                 7789 453 1235,\n",
    "                 9511 8602 2702\n",
    "                 \n",
    "pan_number :-    QWERT8779Q,\n",
    "                 ABCTY1234D,\n",
    "                 ASDFG4875H,\n",
    "                 POJO7878P,\n",
    "                 NJPJF8667p,\n",
    "                 QAZXS6547Y,\n",
    "                 \n",
    "\"\"\"\n",
    "Addhar = re.findall(\"\\d{4}[ ]\\d{4}[ ]\\d{4}\",text)\n",
    "print(Addhar)"
   ]
  },
  {
   "cell_type": "code",
   "execution_count": null,
   "id": "a77e8367",
   "metadata": {},
   "outputs": [],
   "source": []
  },
  {
   "cell_type": "code",
   "execution_count": 245,
   "id": "359ca487",
   "metadata": {},
   "outputs": [
    {
     "name": "stdout",
     "output_type": "stream",
     "text": [
      "['12/12/2012', '25-11-2022', '08 11 2021', '2022/05/01', '22/05/022', '22 02 01', '01-02-001', '01,01,1999']\n"
     ]
    }
   ],
   "source": [
    "text = \"\"\"\n",
    "Mobial NUmbers:- 9511860272,\n",
    "                 9856246323,\n",
    "                 78951102335,\n",
    "                 78632584,\n",
    "                 78952214564,\n",
    "                 \n",
    "Mail Id's :-     tornadomr@gmail.com,\n",
    "                 Yash.Dhakade@gmail.com,\n",
    "                 Yash_Dhakade123@gmail.com,\n",
    "                 \n",
    "date :-          12/12/2012,\n",
    "                 25-11-2022,\n",
    "                 08 11 2021, \n",
    "                 2022/05/01,\n",
    "                 22/05/022,\n",
    "                 22 02 01,\n",
    "                 01-02-001,\n",
    "                 01,01,1999\n",
    "                 \n",
    "Addhar number :- 7878 8951 4125,\n",
    "                 9585 6325 4512,\n",
    "                 7556 2535 412,\n",
    "                 7789 453 1235,\n",
    "                 9511 8602 2702\n",
    "                 \n",
    "pan_number :-    QWERT8779Q,\n",
    "                 ABCTY1234D,\n",
    "                 ASDFG4875H,\n",
    "                 POJO7878P,\n",
    "                 NJPJF8667p,\n",
    "                 QAZXS6547Y,\n",
    "                 \n",
    "\"\"\"\n",
    "date = re.findall(\"\\d{1,4}[, /-]\\d{2}[, /-]\\d{1,4}\",text)\n",
    "print(date)"
   ]
  },
  {
   "cell_type": "code",
   "execution_count": null,
   "id": "68b038c6",
   "metadata": {},
   "outputs": [],
   "source": []
  },
  {
   "cell_type": "code",
   "execution_count": 254,
   "id": "26747dda",
   "metadata": {},
   "outputs": [
    {
     "name": "stdout",
     "output_type": "stream",
     "text": [
      "['Q', 'W', 'E', 'R', 'T', 'Q', 'f', 'g', 'h', 'f', 'g', 'h', '@', '#', '@', '$', '?', '/']\n"
     ]
    }
   ],
   "source": [
    "All= re.findall(\"[^0-9]\",\"QWERT8779Qfghfgh@#@45765467568$?/\")\n",
    "print(All)"
   ]
  },
  {
   "cell_type": "code",
   "execution_count": 256,
   "id": "1198f1d9",
   "metadata": {},
   "outputs": [
    {
     "name": "stdout",
     "output_type": "stream",
     "text": [
      "['Q', 'W', 'E', 'R', 'T', 'Q', 'f', 'g', 'h', 'f', 'g', 'h', '@', '#', '@', '$', '?', '/']\n"
     ]
    }
   ],
   "source": [
    "All= re.findall(\"\\D\",\"QWERT8779Qfghfgh@#@45765467568$?/\")\n",
    "print(All)"
   ]
  },
  {
   "cell_type": "code",
   "execution_count": null,
   "id": "68588977",
   "metadata": {},
   "outputs": [],
   "source": []
  },
  {
   "cell_type": "code",
   "execution_count": 258,
   "id": "7a9f4b55",
   "metadata": {},
   "outputs": [
    {
     "name": "stdout",
     "output_type": "stream",
     "text": [
      "['L', 'e', 'a', 'r', 'n', 'i', 'n', 'g', ' ', 'a', 'l', 'g', 'o', 'r', 'i', 't', 'h', 'm', 's', ' ', 'w', 'o', 'r', 'k', ' ', 'o', 'n', ' ', 't', 'h', 'e', ' ', 'b', 'a', 's', 'i', 's', ' ', 't', 'h', 'a', 't', ' ', 's', 't', 'r', 'a', 't', 'e', 'g', 'i', 'e', 's', ',', ' ', 'a', 'l', 'g', 'o', 'r', 'i', 't', 'h', 'm', 's', ',', ' ', '\\n', 'a', 'n', 'd', ' ', 'i', 'n', 'f', 'e', 'r', 'e', 'n', 'c', 'e', 's', ' ', 't', 'h', 'a', 't', ' ', 'w', 'o', 'r', 'k', 'e', 'd', ' ', 'w', 'e', 'l', 'l', ' ', 'i', 'n', ' ', 't', 'h', 'e', ' ', 'p', 'a', 's', 't', ' ', ' ', 'a', 'r', 'e', ' ', 'l', 'i', 'k', 'e', 'l', 'y', ' ', 't', 'o', ' ', 'c', 'o', 'n', 't', 'i', 'n', 'u', 'e', ' ', 'w', 'o', 'r', 'k', 'i', 'n', 'g', ' ', 'w', 'e', 'l', 'l', ' ', 'i', 'n', ' ', 't', 'h', 'e', ' ', 'f', 'u', 't', 'u', 'r', 'e', '.', ' ', '\\n', 'T', 'h', 'e', 's', 'e', ' ', 'i', 'n', 'f', 'e', 'r', 'e', 'n', 'c', 'e', 's', ' ', 'c', 'a', 'n', ' ', 'b', 'e', ' ', 'o', 'b', 'v', 'i', 'o', 'u', 's', ',', ' ', ' ', 's', 'u', 'c', 'h', ' ', 'a', 's', ' ', '\"', 's', 'i', 'n', 'c', 'e', ' ', 't', 'h', 'e', ' ', 's', 'u', 'n', ' ', 'r', 'o', 's', 'e', ' ', 'e', 'v', 'e', 'r', 'y', ' ', 'm', 'o', 'r', 'n', 'i', 'n', 'g', ' ', 'f', 'o', 'r', ' ', 't', 'h', 'e', ' ', 'l', 'a', 's', 't', ' ', ',', ' ', 'd', 'a', 'y', 's', ',', ' ', '\\n', 'i', 't', ' ', 'w', 'i', 'l', 'l', ' ', 'p', 'r', 'o', 'b', 'a', 'b', 'l', 'y', ' ', 'r', 'i', 's', 'e', ' ', 't', 'o', 'm', 'o', 'r', 'r', 'o', 'w', ' ', 'm', 'o', 'r', 'n', 'i', 'n', 'g', ' ', 'a', 's', ' ', 'w', 'e', 'l', 'l', '\"', '.']\n"
     ]
    }
   ],
   "source": [
    "text = \"\"\"Learning algorithms work on the basis that strategies, algorithms, \n",
    "and inferences that worked well in the past 1545 are likely to continue working well in the future. \n",
    "These inferences can be obvious, 45123154 such as \"since the sun rose every morning for the last 10,000 days, \n",
    "it will probably rise tomorrow morning as well\".\"\"\"\n",
    "\n",
    "all_char = re.findall(\"[\\D]\",text)\n",
    "print(all_char)"
   ]
  },
  {
   "cell_type": "code",
   "execution_count": null,
   "id": "71da8e02",
   "metadata": {},
   "outputs": [],
   "source": []
  },
  {
   "cell_type": "markdown",
   "id": "958c9dee",
   "metadata": {},
   "source": [
    "# \\s\n",
    "- \\s --> all spaces [ ]"
   ]
  },
  {
   "cell_type": "code",
   "execution_count": 259,
   "id": "35d8cae6",
   "metadata": {},
   "outputs": [
    {
     "name": "stdout",
     "output_type": "stream",
     "text": [
      "[' ', ' ', ' ', ' ', ' ', ' ', ' ', ' ', ' ', '\\n', ' ', ' ', ' ', ' ', ' ', ' ', ' ', ' ', ' ', ' ', ' ', ' ', ' ', ' ', ' ', ' ', ' ', ' ', '\\n', ' ', ' ', ' ', ' ', ' ', ' ', ' ', ' ', ' ', ' ', ' ', ' ', ' ', ' ', ' ', ' ', ' ', ' ', ' ', '\\n', ' ', ' ', ' ', ' ', ' ', ' ', ' ']\n"
     ]
    }
   ],
   "source": [
    "text = \"\"\"Learning algorithms work on the basis that strategies, algorithms, \n",
    "and inferences that worked well in the past 1545 are likely to continue working well in the future. \n",
    "These inferences can be obvious, 45123154 such as \"since the sun rose every morning for the last 10,000 days, \n",
    "it will probably rise tomorrow morning as well\".\"\"\"\n",
    "\n",
    "all_char = re.findall(\"\\s\",text)\n",
    "print(all_char)"
   ]
  },
  {
   "cell_type": "code",
   "execution_count": null,
   "id": "f6fecdf0",
   "metadata": {},
   "outputs": [],
   "source": []
  },
  {
   "cell_type": "code",
   "execution_count": 262,
   "id": "a28d4b3b",
   "metadata": {},
   "outputs": [
    {
     "name": "stdout",
     "output_type": "stream",
     "text": [
      "[' \\n', ' \\n', ' \\n']\n"
     ]
    }
   ],
   "source": [
    "text = \"\"\"Learning algorithms work on the basis that strategies, algorithms, \n",
    "and inferences that worked well in the past 1545 are likely to continue working well in the future. \n",
    "These inferences can be obvious, 45123154 such as \"since the sun rose every morning for the last 10,000 days, \n",
    "it will probably rise tomorrow morning as well\".\"\"\"\n",
    "\n",
    "all_char = re.findall(\"\\s{2}\",text)\n",
    "print(all_char)"
   ]
  },
  {
   "cell_type": "code",
   "execution_count": null,
   "id": "356cb8fc",
   "metadata": {},
   "outputs": [],
   "source": []
  },
  {
   "cell_type": "markdown",
   "id": "ed9478f7",
   "metadata": {},
   "source": [
    "### \\S\n",
    "- \\S --> [^ ] except spaces, include everythings"
   ]
  },
  {
   "cell_type": "code",
   "execution_count": null,
   "id": "cf4e7705",
   "metadata": {},
   "outputs": [],
   "source": [
    "text = \"\"\"Learning algorithms work on the basis that strategies, algorithms, \n",
    "and inferences that worked well in the past 1545 are likely to continue working well in the future. \n",
    "These inferences can be obvious, 45123154 such as \"since the sun rose every morning for the last 10,000 days, \n",
    "it will probably rise tomorrow morning as well\".\"\"\"\n",
    "\n",
    "all_char = re.findall(\"\\{2}\",text)\n",
    "print(all_char)"
   ]
  }
 ],
 "metadata": {
  "kernelspec": {
   "display_name": "Python 3 (ipykernel)",
   "language": "python",
   "name": "python3"
  },
  "language_info": {
   "codemirror_mode": {
    "name": "ipython",
    "version": 3
   },
   "file_extension": ".py",
   "mimetype": "text/x-python",
   "name": "python",
   "nbconvert_exporter": "python",
   "pygments_lexer": "ipython3",
   "version": "3.9.12"
  }
 },
 "nbformat": 4,
 "nbformat_minor": 5
}
