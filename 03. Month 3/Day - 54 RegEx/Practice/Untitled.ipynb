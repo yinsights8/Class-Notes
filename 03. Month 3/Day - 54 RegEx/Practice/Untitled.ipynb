{
 "cells": [
  {
   "cell_type": "code",
   "execution_count": 4,
   "id": "0df6769e",
   "metadata": {},
   "outputs": [
    {
     "name": "stdout",
     "output_type": "stream",
     "text": [
      "<re.Match object; span=(3, 4), match=' '>\n",
      "The first white-space character is located in position: 3\n"
     ]
    }
   ],
   "source": [
    "import re\n",
    "\n",
    "txt = \"The rain in Spain\"\n",
    "x = re.search(\"\\s\", txt)\n",
    "print(x)\n",
    "print(\"The first white-space character is located in position:\", x.start()) "
   ]
  },
  {
   "cell_type": "code",
   "execution_count": 28,
   "id": "87db7d9c",
   "metadata": {},
   "outputs": [
    {
     "name": "stdout",
     "output_type": "stream",
     "text": [
      "<re.Match object; span=(0, 1), match='T'>\n",
      "0\n"
     ]
    }
   ],
   "source": [
    "txt = \"The rain in Spain\"\n",
    "\n",
    "y = re.search(\"\\w\",txt)\n",
    "print(y)\n",
    "print(y.start())"
   ]
  },
  {
   "cell_type": "code",
   "execution_count": 29,
   "id": "27c129bc",
   "metadata": {},
   "outputs": [
    {
     "name": "stdout",
     "output_type": "stream",
     "text": [
      "<re.Match object; span=(0, 1), match='T'>\n",
      "1\n"
     ]
    }
   ],
   "source": [
    "txt = \"The rain in Spain\"\n",
    "\n",
    "y = re.search(\"\\w\",txt)\n",
    "print(y)\n",
    "print(y.end())"
   ]
  },
  {
   "cell_type": "code",
   "execution_count": 26,
   "id": "86eba9f6",
   "metadata": {},
   "outputs": [
    {
     "name": "stdout",
     "output_type": "stream",
     "text": [
      "None\n"
     ]
    }
   ],
   "source": [
    "txt = \"   The rain in Spain\"\n",
    "\n",
    "y = re.search(\"\\d\",txt)\n",
    "print(y)\n",
    "# print(y.start())"
   ]
  },
  {
   "cell_type": "code",
   "execution_count": 15,
   "id": "23da1557",
   "metadata": {},
   "outputs": [
    {
     "name": "stdout",
     "output_type": "stream",
     "text": [
      "<re.Match object; span=(2, 3), match='3'>\n"
     ]
    }
   ],
   "source": [
    "text = \"\"\"12345645789\"\"\"\n",
    "h = re.search(\"3\",text)\n",
    "print(h)"
   ]
  },
  {
   "cell_type": "code",
   "execution_count": 17,
   "id": "0e7c9f8d",
   "metadata": {},
   "outputs": [
    {
     "name": "stdout",
     "output_type": "stream",
     "text": [
      "None\n"
     ]
    }
   ],
   "source": [
    "txt = \"   The rain in Spain\"\n",
    "\n",
    "y = re.search(\"USA\",txt)\n",
    "print(y)\n",
    "# print(y.start())"
   ]
  },
  {
   "cell_type": "code",
   "execution_count": 30,
   "id": "428db471",
   "metadata": {},
   "outputs": [
    {
     "name": "stdout",
     "output_type": "stream",
     "text": [
      "<re.Match object; span=(20, 20), match=''>\n"
     ]
    }
   ],
   "source": [
    "txt = \"   The rain in Spain\"\n",
    "y = re.search(\"\\Z\",txt)\n",
    "print(y)"
   ]
  },
  {
   "cell_type": "code",
   "execution_count": 31,
   "id": "633752df",
   "metadata": {},
   "outputs": [
    {
     "name": "stdout",
     "output_type": "stream",
     "text": [
      "['Spain']\n"
     ]
    }
   ],
   "source": [
    "txt = \"The rain in Spain\"\n",
    "\n",
    "y = re.findall(\"Spain\\Z\",txt)\n",
    "print(y)"
   ]
  },
  {
   "cell_type": "code",
   "execution_count": 32,
   "id": "e97b40e1",
   "metadata": {},
   "outputs": [
    {
     "name": "stdout",
     "output_type": "stream",
     "text": [
      "[]\n"
     ]
    }
   ],
   "source": [
    "txt = \"The rain in Spain\"\n",
    "\n",
    "y = re.findall(\"rain\\Z\",txt)\n",
    "print(y)"
   ]
  },
  {
   "cell_type": "code",
   "execution_count": 35,
   "id": "cb02f9cc",
   "metadata": {},
   "outputs": [
    {
     "name": "stdout",
     "output_type": "stream",
     "text": [
      "['n']\n"
     ]
    }
   ],
   "source": [
    "txt = \"The rain in Spain\"\n",
    "\n",
    "y = re.findall(\"n\\Z\",txt)\n",
    "print(y)"
   ]
  },
  {
   "cell_type": "code",
   "execution_count": null,
   "id": "f43f3e25",
   "metadata": {},
   "outputs": [],
   "source": []
  },
  {
   "cell_type": "markdown",
   "id": "ddf936f4",
   "metadata": {},
   "source": [
    "## split()"
   ]
  },
  {
   "cell_type": "code",
   "execution_count": 37,
   "id": "8f1facf0",
   "metadata": {},
   "outputs": [
    {
     "name": "stdout",
     "output_type": "stream",
     "text": [
      "['', 'he rain in Spain']\n"
     ]
    }
   ],
   "source": [
    "txt = \"The rain in Spain\"\n",
    "\n",
    "y = re.split(\"T\",txt)\n",
    "print(y)"
   ]
  },
  {
   "cell_type": "code",
   "execution_count": 38,
   "id": "676d2d7e",
   "metadata": {},
   "outputs": [
    {
     "data": {
      "text/plain": [
       "['The ra', 'n ', 'n Spa', 'n']"
      ]
     },
     "execution_count": 38,
     "metadata": {},
     "output_type": "execute_result"
    }
   ],
   "source": [
    "\"The rain in Spain\".split(\"i\")"
   ]
  },
  {
   "cell_type": "code",
   "execution_count": 39,
   "id": "30d110dd",
   "metadata": {},
   "outputs": [
    {
     "name": "stdout",
     "output_type": "stream",
     "text": [
      "['The ra', 'n ', 'n Spa', 'n']\n"
     ]
    }
   ],
   "source": [
    "txt = \"The rain in Spain\"\n",
    "\n",
    "y = re.split(\"i\",txt)\n",
    "print(y)"
   ]
  },
  {
   "cell_type": "code",
   "execution_count": 54,
   "id": "6077b973",
   "metadata": {},
   "outputs": [
    {
     "name": "stdout",
     "output_type": "stream",
     "text": [
      "['The', 'rain in Spain']\n"
     ]
    }
   ],
   "source": [
    "txt = \"The rain in Spain\"\n",
    "\n",
    "y = re.split(\"\\s\",txt, 1)\n",
    "print(y)"
   ]
  },
  {
   "cell_type": "code",
   "execution_count": 62,
   "id": "8684875d",
   "metadata": {},
   "outputs": [
    {
     "name": "stdout",
     "output_type": "stream",
     "text": [
      "['The', 'rain in Spain']\n"
     ]
    }
   ],
   "source": [
    "txt = \"The rain in Spain\"\n",
    "\n",
    "y = re.split(\"\\s\",txt, 1)\n",
    "print(y)"
   ]
  },
  {
   "cell_type": "code",
   "execution_count": 65,
   "id": "dba6b759",
   "metadata": {},
   "outputs": [
    {
     "name": "stdout",
     "output_type": "stream",
     "text": [
      "['Learning', 'algorithms', 'work', 'on', 'the', 'basis that strategies, algorithms, and inferences that \\nworked well in the past are likely to 98886746636637758869609870967 continue working well in the future. These inferences can \\nbe obvious!@#@$#%$#']\n"
     ]
    }
   ],
   "source": [
    "text = \"\"\"Learning algorithms work on the basis that strategies, algorithms, and inferences that \n",
    "worked well in the past are likely to 98886746636637758869609870967 continue working well in the future. These inferences can \n",
    "be obvious!@#@$#%$#\"\"\"\n",
    "\n",
    "y = re.split(\"\\s\",text, 5)\n",
    "print(y)"
   ]
  },
  {
   "cell_type": "code",
   "execution_count": 71,
   "id": "38a53fd0",
   "metadata": {},
   "outputs": [
    {
     "data": {
      "text/plain": [
       "'The%rain%in%Spain'"
      ]
     },
     "execution_count": 71,
     "metadata": {},
     "output_type": "execute_result"
    }
   ],
   "source": [
    "txt = \"The rain in Spain\"\n",
    "\n",
    "replace = re.sub(\"\\s\",\"%\",txt)\n",
    "replace"
   ]
  },
  {
   "cell_type": "code",
   "execution_count": 77,
   "id": "c396c176",
   "metadata": {},
   "outputs": [
    {
     "data": {
      "text/plain": [
       "'The ra%n %n Spa%n'"
      ]
     },
     "execution_count": 77,
     "metadata": {},
     "output_type": "execute_result"
    }
   ],
   "source": [
    "txt = \"The rain in Spain\"\n",
    "\n",
    "replace = re.sub(\"i\",\"%\",txt)\n",
    "replace"
   ]
  },
  {
   "cell_type": "code",
   "execution_count": 76,
   "id": "ddafd97b",
   "metadata": {},
   "outputs": [
    {
     "data": {
      "text/plain": [
       "'The ra%n in Spain'"
      ]
     },
     "execution_count": 76,
     "metadata": {},
     "output_type": "execute_result"
    }
   ],
   "source": [
    "txt = \"The rain in Spain\"\n",
    "\n",
    "replace = re.sub(\"i\",\"%\",txt,count=1)\n",
    "replace"
   ]
  },
  {
   "cell_type": "code",
   "execution_count": 78,
   "id": "d1834ecf",
   "metadata": {},
   "outputs": [
    {
     "data": {
      "text/plain": [
       "'The ra%n %n Spain'"
      ]
     },
     "execution_count": 78,
     "metadata": {},
     "output_type": "execute_result"
    }
   ],
   "source": [
    "txt = \"The rain in Spain\"\n",
    "\n",
    "replace = re.sub(\"i\",\"%\",txt,count=2)\n",
    "replace"
   ]
  },
  {
   "cell_type": "code",
   "execution_count": null,
   "id": "7baf780a",
   "metadata": {},
   "outputs": [],
   "source": []
  }
 ],
 "metadata": {
  "kernelspec": {
   "display_name": "Python 3 (ipykernel)",
   "language": "python",
   "name": "python3"
  },
  "language_info": {
   "codemirror_mode": {
    "name": "ipython",
    "version": 3
   },
   "file_extension": ".py",
   "mimetype": "text/x-python",
   "name": "python",
   "nbconvert_exporter": "python",
   "pygments_lexer": "ipython3",
   "version": "3.9.12"
  }
 },
 "nbformat": 4,
 "nbformat_minor": 5
}
