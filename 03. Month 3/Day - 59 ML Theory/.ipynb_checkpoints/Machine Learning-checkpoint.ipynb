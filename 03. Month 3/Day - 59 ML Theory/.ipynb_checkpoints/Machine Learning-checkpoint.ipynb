{
 "cells": [
  {
   "cell_type": "markdown",
   "id": "819d033d",
   "metadata": {},
   "source": [
    "# Types of Machine Learning"
   ]
  },
  {
   "cell_type": "raw",
   "id": "e31d7db5",
   "metadata": {},
   "source": [
    "1. Supervised Machine Learning\n",
    "2. Unsupervised Machine learning\n",
    "3. Reinforcement Machine Learning"
   ]
  },
  {
   "cell_type": "markdown",
   "id": "d4de6018",
   "metadata": {},
   "source": [
    "# Variables in Machine Learning"
   ]
  },
  {
   "cell_type": "raw",
   "id": "c841f942",
   "metadata": {},
   "source": [
    "1. Independent Variables / Input Variables / Predictors (X)\n",
    "2. Dependent Variables / Target Variable / Output Variable (Y)"
   ]
  },
  {
   "cell_type": "markdown",
   "id": "1c45500c",
   "metadata": {},
   "source": [
    "# Data Science Project Steps"
   ]
  },
  {
   "cell_type": "raw",
   "id": "c0920852",
   "metadata": {},
   "source": [
    "1. Problem Statement\n",
    "2. Data Gatherning (CSV,Excel,Images,Videos,PDF,Text,JSON etc)\n",
    "3. Exploratory Data Analysis (EDA) (Pandas,Numpy,Matplotlib,Seaborn) >> We mostly spend 70% time in EDA\n",
    "4. Feature Engineering (Scaling,We need to handle Outliers)\n",
    "5. Feature Selection (We can keep the Required Features to train the model, Correlation)\n",
    "6. Model Building / Training (Linear Regression,Logistic Regression,DT,RF,AdaBoost,KNN,SVM,Naive Bayes)\n",
    "7. Model Evaluation (MSE, MAE, R2Score, classification Report,Confusion Matrix, Accuracy)\n",
    "8. Project Deployment (AWS, Microsoft Azure, GCP, Herokku)"
   ]
  },
  {
   "cell_type": "markdown",
   "id": "cd119d40",
   "metadata": {},
   "source": [
    "# 1. Supervised Machine Learning"
   ]
  },
  {
   "cell_type": "raw",
   "id": "7d44df21",
   "metadata": {},
   "source": [
    "1. In Supervised Machine Learning, Our data will be labeled\n",
    "2. Independent and Dependent Variables will be present in Data\n",
    "\n",
    "\n",
    "1. Regression:\n",
    "    \n",
    "    1. Continuous Target column (Nature of Our data will be Continuous)\n",
    "    ex. Price, Score\n",
    "    \n",
    "2. Classification:\n",
    "    \n",
    "    1. Binary Classification (True or False, Yes or No, Spam or Not Spam, 0 or 1, Approved or Declined)\n",
    "    2. Multiclass Classification (High or Medium or Low)\n",
    "      "
   ]
  },
  {
   "cell_type": "markdown",
   "id": "39c1000f",
   "metadata": {},
   "source": [
    "# 2. Unsupervised Machine Learning"
   ]
  },
  {
   "cell_type": "raw",
   "id": "8f0abe57",
   "metadata": {},
   "source": [
    "1. Data is Unlabeled\n",
    "2. Only independent Variables\n",
    "3. No target Variable"
   ]
  },
  {
   "cell_type": "markdown",
   "id": "69a40771",
   "metadata": {},
   "source": [
    "# Algorithms"
   ]
  },
  {
   "cell_type": "markdown",
   "id": "2e26aa68",
   "metadata": {},
   "source": [
    "# Supervised Machine Learning Algorithms"
   ]
  },
  {
   "cell_type": "raw",
   "id": "3c9ee9d1",
   "metadata": {},
   "source": [
    "1. Linear Regression (Regression)\n",
    "2. Logistic Regression (Classification)\n",
    "3. Naive Bayes Classifier (Classification)\n",
    "4. Decision Tree (Regresssion as well as Classification)\n",
    "5. Random Forest (Regression and Classification)\n",
    "6. Adaboost (Regression as well as Classification)\n",
    "7. K-Nearest Neighbour (Regression and Classification)\n",
    "8. Support Vector Machine\n",
    "9. XGBoost\n",
    "10. Gradient Boost"
   ]
  },
  {
   "cell_type": "markdown",
   "id": "61d705ac",
   "metadata": {},
   "source": [
    "# Unsupervised Machine Learning Algorithm"
   ]
  },
  {
   "cell_type": "code",
   "execution_count": null,
   "id": "d265f61d",
   "metadata": {},
   "outputs": [],
   "source": [
    "1. K - Mean Clustering"
   ]
  }
 ],
 "metadata": {
  "kernelspec": {
   "display_name": "Python 3 (ipykernel)",
   "language": "python",
   "name": "python3"
  },
  "language_info": {
   "codemirror_mode": {
    "name": "ipython",
    "version": 3
   },
   "file_extension": ".py",
   "mimetype": "text/x-python",
   "name": "python",
   "nbconvert_exporter": "python",
   "pygments_lexer": "ipython3",
   "version": "3.9.12"
  }
 },
 "nbformat": 4,
 "nbformat_minor": 5
}
