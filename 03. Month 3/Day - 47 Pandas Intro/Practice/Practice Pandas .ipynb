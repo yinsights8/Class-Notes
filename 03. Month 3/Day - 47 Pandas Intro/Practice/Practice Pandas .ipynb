{
 "cells": [
  {
   "cell_type": "code",
   "execution_count": 1,
   "id": "2d3dbce4",
   "metadata": {},
   "outputs": [],
   "source": [
    "import pandas as pd\n",
    "import numpy as np"
   ]
  },
  {
   "cell_type": "markdown",
   "id": "6015be60",
   "metadata": {},
   "source": [
    "## creating dataframe work using list, dictionary, array and series "
   ]
  },
  {
   "cell_type": "code",
   "execution_count": 5,
   "id": "caf511c5",
   "metadata": {},
   "outputs": [],
   "source": [
    "data = {\n",
    "    \"StudentName\": [\"Yash\", \"Anagha\", \"Arpit\", \"Kunal\", \"Manish\"],\n",
    "    \"StudentAge\": [20,20,21,22,25]\n",
    "}"
   ]
  },
  {
   "cell_type": "code",
   "execution_count": 6,
   "id": "e32ae4c1",
   "metadata": {},
   "outputs": [
    {
     "data": {
      "text/plain": [
       "{'StudentName': ['Yash', 'Anagha', 'Arpit', 'Kunal', 'Manish'],\n",
       " 'StudentAge': [20, 20, 21, 22, 25]}"
      ]
     },
     "execution_count": 6,
     "metadata": {},
     "output_type": "execute_result"
    }
   ],
   "source": [
    "data"
   ]
  },
  {
   "cell_type": "code",
   "execution_count": 13,
   "id": "e951a4df",
   "metadata": {},
   "outputs": [
    {
     "data": {
      "text/plain": [
       "20"
      ]
     },
     "execution_count": 13,
     "metadata": {},
     "output_type": "execute_result"
    }
   ],
   "source": [
    "data[\"StudentName\"][1]\n",
    "data[\"StudentAge\"][1]"
   ]
  },
  {
   "cell_type": "code",
   "execution_count": 14,
   "id": "1321298c",
   "metadata": {},
   "outputs": [],
   "source": [
    "data[\"Marks\"] = [80,85,90,50,60]"
   ]
  },
  {
   "cell_type": "code",
   "execution_count": 16,
   "id": "075302b6",
   "metadata": {},
   "outputs": [
    {
     "name": "stdout",
     "output_type": "stream",
     "text": [
      "{'StudentName': ['Yash', 'Anagha', 'Arpit', 'Kunal', 'Manish'], 'StudentAge': [20, 20, 21, 22, 25], 'Marks': [80, 85, 90, 50, 60]}\n"
     ]
    }
   ],
   "source": [
    "print(data)"
   ]
  },
  {
   "cell_type": "code",
   "execution_count": 17,
   "id": "179c6806",
   "metadata": {},
   "outputs": [
    {
     "data": {
      "text/html": [
       "<div>\n",
       "<style scoped>\n",
       "    .dataframe tbody tr th:only-of-type {\n",
       "        vertical-align: middle;\n",
       "    }\n",
       "\n",
       "    .dataframe tbody tr th {\n",
       "        vertical-align: top;\n",
       "    }\n",
       "\n",
       "    .dataframe thead th {\n",
       "        text-align: right;\n",
       "    }\n",
       "</style>\n",
       "<table border=\"1\" class=\"dataframe\">\n",
       "  <thead>\n",
       "    <tr style=\"text-align: right;\">\n",
       "      <th></th>\n",
       "      <th>StudentName</th>\n",
       "      <th>StudentAge</th>\n",
       "      <th>Marks</th>\n",
       "    </tr>\n",
       "  </thead>\n",
       "  <tbody>\n",
       "    <tr>\n",
       "      <th>0</th>\n",
       "      <td>Yash</td>\n",
       "      <td>20</td>\n",
       "      <td>80</td>\n",
       "    </tr>\n",
       "    <tr>\n",
       "      <th>1</th>\n",
       "      <td>Anagha</td>\n",
       "      <td>20</td>\n",
       "      <td>85</td>\n",
       "    </tr>\n",
       "    <tr>\n",
       "      <th>2</th>\n",
       "      <td>Arpit</td>\n",
       "      <td>21</td>\n",
       "      <td>90</td>\n",
       "    </tr>\n",
       "    <tr>\n",
       "      <th>3</th>\n",
       "      <td>Kunal</td>\n",
       "      <td>22</td>\n",
       "      <td>50</td>\n",
       "    </tr>\n",
       "    <tr>\n",
       "      <th>4</th>\n",
       "      <td>Manish</td>\n",
       "      <td>25</td>\n",
       "      <td>60</td>\n",
       "    </tr>\n",
       "  </tbody>\n",
       "</table>\n",
       "</div>"
      ],
      "text/plain": [
       "  StudentName  StudentAge  Marks\n",
       "0        Yash          20     80\n",
       "1      Anagha          20     85\n",
       "2       Arpit          21     90\n",
       "3       Kunal          22     50\n",
       "4      Manish          25     60"
      ]
     },
     "execution_count": 17,
     "metadata": {},
     "output_type": "execute_result"
    }
   ],
   "source": [
    "student_info = pd.DataFrame(data)\n",
    "student_info"
   ]
  },
  {
   "cell_type": "code",
   "execution_count": 4,
   "id": "12f07110",
   "metadata": {},
   "outputs": [
    {
     "data": {
      "text/plain": [
       "pandas.core.frame.DataFrame"
      ]
     },
     "execution_count": 4,
     "metadata": {},
     "output_type": "execute_result"
    }
   ],
   "source": [
    "type(student_info)"
   ]
  },
  {
   "cell_type": "code",
   "execution_count": 37,
   "id": "826e2d35",
   "metadata": {},
   "outputs": [],
   "source": [
    "student_info[\"Remark\"] = np.random.choice([\"Good\",\"bad\"],5)"
   ]
  },
  {
   "cell_type": "code",
   "execution_count": 38,
   "id": "4b65a3d3",
   "metadata": {},
   "outputs": [
    {
     "data": {
      "text/html": [
       "<div>\n",
       "<style scoped>\n",
       "    .dataframe tbody tr th:only-of-type {\n",
       "        vertical-align: middle;\n",
       "    }\n",
       "\n",
       "    .dataframe tbody tr th {\n",
       "        vertical-align: top;\n",
       "    }\n",
       "\n",
       "    .dataframe thead th {\n",
       "        text-align: right;\n",
       "    }\n",
       "</style>\n",
       "<table border=\"1\" class=\"dataframe\">\n",
       "  <thead>\n",
       "    <tr style=\"text-align: right;\">\n",
       "      <th></th>\n",
       "      <th>StudentName</th>\n",
       "      <th>StudentAge</th>\n",
       "      <th>Marks</th>\n",
       "      <th>Remark</th>\n",
       "    </tr>\n",
       "  </thead>\n",
       "  <tbody>\n",
       "    <tr>\n",
       "      <th>0</th>\n",
       "      <td>Yash</td>\n",
       "      <td>20</td>\n",
       "      <td>80</td>\n",
       "      <td>bad</td>\n",
       "    </tr>\n",
       "    <tr>\n",
       "      <th>1</th>\n",
       "      <td>Anagha</td>\n",
       "      <td>20</td>\n",
       "      <td>85</td>\n",
       "      <td>Good</td>\n",
       "    </tr>\n",
       "    <tr>\n",
       "      <th>2</th>\n",
       "      <td>Arpit</td>\n",
       "      <td>21</td>\n",
       "      <td>90</td>\n",
       "      <td>bad</td>\n",
       "    </tr>\n",
       "    <tr>\n",
       "      <th>3</th>\n",
       "      <td>Kunal</td>\n",
       "      <td>22</td>\n",
       "      <td>50</td>\n",
       "      <td>Good</td>\n",
       "    </tr>\n",
       "    <tr>\n",
       "      <th>4</th>\n",
       "      <td>Manish</td>\n",
       "      <td>25</td>\n",
       "      <td>60</td>\n",
       "      <td>Good</td>\n",
       "    </tr>\n",
       "  </tbody>\n",
       "</table>\n",
       "</div>"
      ],
      "text/plain": [
       "  StudentName  StudentAge  Marks Remark\n",
       "0        Yash          20     80    bad\n",
       "1      Anagha          20     85   Good\n",
       "2       Arpit          21     90    bad\n",
       "3       Kunal          22     50   Good\n",
       "4      Manish          25     60   Good"
      ]
     },
     "execution_count": 38,
     "metadata": {},
     "output_type": "execute_result"
    }
   ],
   "source": [
    "student_info"
   ]
  },
  {
   "cell_type": "code",
   "execution_count": 42,
   "id": "ca8f17a4",
   "metadata": {},
   "outputs": [],
   "source": [
    "student_info[\"ZerosCol\"] = np.zeros(5,int)\n",
    "student_info[\"OnesCol\"] = np.ones(5,int)"
   ]
  },
  {
   "cell_type": "code",
   "execution_count": 43,
   "id": "a6a530af",
   "metadata": {},
   "outputs": [
    {
     "data": {
      "text/html": [
       "<div>\n",
       "<style scoped>\n",
       "    .dataframe tbody tr th:only-of-type {\n",
       "        vertical-align: middle;\n",
       "    }\n",
       "\n",
       "    .dataframe tbody tr th {\n",
       "        vertical-align: top;\n",
       "    }\n",
       "\n",
       "    .dataframe thead th {\n",
       "        text-align: right;\n",
       "    }\n",
       "</style>\n",
       "<table border=\"1\" class=\"dataframe\">\n",
       "  <thead>\n",
       "    <tr style=\"text-align: right;\">\n",
       "      <th></th>\n",
       "      <th>StudentName</th>\n",
       "      <th>StudentAge</th>\n",
       "      <th>Marks</th>\n",
       "      <th>Remark</th>\n",
       "      <th>ZerosCol</th>\n",
       "      <th>OnesCol</th>\n",
       "    </tr>\n",
       "  </thead>\n",
       "  <tbody>\n",
       "    <tr>\n",
       "      <th>0</th>\n",
       "      <td>Yash</td>\n",
       "      <td>20</td>\n",
       "      <td>80</td>\n",
       "      <td>bad</td>\n",
       "      <td>0</td>\n",
       "      <td>1</td>\n",
       "    </tr>\n",
       "    <tr>\n",
       "      <th>1</th>\n",
       "      <td>Anagha</td>\n",
       "      <td>20</td>\n",
       "      <td>85</td>\n",
       "      <td>Good</td>\n",
       "      <td>0</td>\n",
       "      <td>1</td>\n",
       "    </tr>\n",
       "    <tr>\n",
       "      <th>2</th>\n",
       "      <td>Arpit</td>\n",
       "      <td>21</td>\n",
       "      <td>90</td>\n",
       "      <td>bad</td>\n",
       "      <td>0</td>\n",
       "      <td>1</td>\n",
       "    </tr>\n",
       "    <tr>\n",
       "      <th>3</th>\n",
       "      <td>Kunal</td>\n",
       "      <td>22</td>\n",
       "      <td>50</td>\n",
       "      <td>Good</td>\n",
       "      <td>0</td>\n",
       "      <td>1</td>\n",
       "    </tr>\n",
       "    <tr>\n",
       "      <th>4</th>\n",
       "      <td>Manish</td>\n",
       "      <td>25</td>\n",
       "      <td>60</td>\n",
       "      <td>Good</td>\n",
       "      <td>0</td>\n",
       "      <td>1</td>\n",
       "    </tr>\n",
       "  </tbody>\n",
       "</table>\n",
       "</div>"
      ],
      "text/plain": [
       "  StudentName  StudentAge  Marks Remark  ZerosCol  OnesCol\n",
       "0        Yash          20     80    bad         0        1\n",
       "1      Anagha          20     85   Good         0        1\n",
       "2       Arpit          21     90    bad         0        1\n",
       "3       Kunal          22     50   Good         0        1\n",
       "4      Manish          25     60   Good         0        1"
      ]
     },
     "execution_count": 43,
     "metadata": {},
     "output_type": "execute_result"
    }
   ],
   "source": [
    "student_info"
   ]
  },
  {
   "cell_type": "code",
   "execution_count": null,
   "id": "7abdea02",
   "metadata": {},
   "outputs": [],
   "source": []
  }
 ],
 "metadata": {
  "kernelspec": {
   "display_name": "Python 3 (ipykernel)",
   "language": "python",
   "name": "python3"
  },
  "language_info": {
   "codemirror_mode": {
    "name": "ipython",
    "version": 3
   },
   "file_extension": ".py",
   "mimetype": "text/x-python",
   "name": "python",
   "nbconvert_exporter": "python",
   "pygments_lexer": "ipython3",
   "version": "3.9.12"
  }
 },
 "nbformat": 4,
 "nbformat_minor": 5
}
