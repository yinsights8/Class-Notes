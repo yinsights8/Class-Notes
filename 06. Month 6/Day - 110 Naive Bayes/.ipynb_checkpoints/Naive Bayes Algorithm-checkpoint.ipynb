{
 "cells": [
  {
   "cell_type": "markdown",
   "id": "840ab607",
   "metadata": {},
   "source": [
    "# Naive Bayes Algorithm"
   ]
  },
  {
   "cell_type": "raw",
   "id": "5c16f018",
   "metadata": {},
   "source": [
    "1. It is Supervised Machine Learning Algorithm\n",
    "2. We can use it to solve the classification Problems.\n",
    "3. It is totally Based on Bayes Theorem.\n",
    "4. Naive is the term in which we are having the Assumption.\n",
    "5. Naive  >> It assumes that, Features are mutually Independent. (Input)\n",
    "6. Naive Bayes is also called as Probabilistic Algorithm.\n",
    "7. We mostly prefer it for text classification. That means, We can consider NLP Data."
   ]
  },
  {
   "cell_type": "markdown",
   "id": "7ce1923c",
   "metadata": {},
   "source": [
    "# Natural Language Processing"
   ]
  },
  {
   "cell_type": "code",
   "execution_count": null,
   "id": "176f041c",
   "metadata": {},
   "outputs": [],
   "source": [
    "1. Text Classification\n",
    "2. Document Classification\n",
    "3. Sentiment Analysis\n",
    "\n",
    "PDF: 1. Readable PDF >> No Need to use OCR  >> pypdf, pdftotext\n",
    "PDF: 2. Non Readable PDF >> PDF to Image >> Image to Text (We need to use OCR)\n",
    "    \n",
    "OCR : 1. Google Vision (0.9$ for 1000)\n",
    "      2. Pytesseract\n",
    "      3. AWS TextTract  (Tabular Data)\n",
    "    \n",
    "    \n",
    "We will get the coordinates of the words by using OCR techniques. \n",
    "\n",
    "Google  >> Top,Left,Width,Height\n",
    "\n",
    "NLP :\n",
    "    \n",
    "    1. We always try to remove Stop Words in the NLP\n",
    "    2. Stemming\n",
    "    3. Lemmatization\n",
    "    4. Bag of Words (It will help to convert text data in to Numerical Data)\n",
    "    5. TF-IDF (USe to convert text data in to Numerical Data)\n",
    "    \n",
    "    \n",
    "go going gone\n",
    "\n",
    "Go\n",
    "\n",
    "play playing played\n",
    "\n",
    "play"
   ]
  },
  {
   "cell_type": "markdown",
   "id": "a8faca83",
   "metadata": {},
   "source": [
    "# Naive Bayes Classifier"
   ]
  },
  {
   "cell_type": "raw",
   "id": "92d4e870",
   "metadata": {},
   "source": [
    "1. Bayes Theorem\n",
    "2. Types Of Naive Bayes Algorithm:\n",
    "    \n",
    "    1. Multinomial NB >> TF-IDF\n",
    "    2. Guassian NB  >> Continuous\n",
    "    3. Bernoulis NB >> Bag of Words\n",
    "    \n",
    "Bayes Theorem:\n",
    "    \n",
    "    Posterior Probability = (Likelihood Probability * Prior) / (Marginal)"
   ]
  },
  {
   "cell_type": "markdown",
   "id": "14522302",
   "metadata": {},
   "source": [
    "# Naive Bayes Calculations"
   ]
  },
  {
   "cell_type": "code",
   "execution_count": null,
   "id": "dd0707a4",
   "metadata": {},
   "outputs": [],
   "source": [
    "Outlook == Overcast, Rainy, Sunny\n",
    "Temp  == Hot, Cool, Mild\n",
    "Humidity == Normal, High\n",
    "Windy  == True, False\n",
    "\n",
    "\n",
    "We need to predict: Play is happening or not ??\n",
    "\n",
    "Yes or No\n",
    "\n",
    "\n",
    "P(Y|{X1,X2,X3}) = (P(X1|Y) * P(X2|Y) * P(X3|Y) * P(Y) / P(X1) * P(X2) * P(X3))\n",
    "\n",
    "P(N|{X1,X2,X3}) = (P(X1|N) * P(X2|N) * P(X3|N) * P(N) / P(X1) * P(X2) * P(X3))\n",
    "\n",
    "\n",
    "\n",
    "P(Play == Yes | (Outlook == Sunny, Temperature == Mild, Humidity == Normal)) =\n",
    "\n",
    "                                P(Sunny|Yes) * P(Mild|Yes) * P(Normal|Yes) * P(Yes)\n",
    "    \n",
    "    \n",
    "P(Play == No | (Outlook == Sunny, Temperature == Mild, Humidity == Normal)) =\n",
    "      \n",
    "                                P(Sunny|No) * P(Mild|No) * P(Normal|No) * P(No)\n",
    "        \n",
    "        \n",
    "\n",
    "P(Yes) = 9/14\n",
    "P(No)  = 5/14\n",
    "\n",
    "Frequency Table:\n",
    "    \n",
    "1. Outlook Attribute:\n",
    "    \n",
    "          \n",
    "                           Yes       NO     P(X1|Yes)     P(X1|No)\n",
    "            \n",
    "         Overcast           4        0          4/9         0\n",
    "         Rainy              3        2          3/9         2/5\n",
    "         Sunny              2        3          2/9         3/5\n",
    "    \n",
    "    \n",
    "    \n",
    "2. Temperature Attribute:\n",
    "     \n",
    "         \n",
    "                          Yes       NO     P(X1|Yes)     P(X1|No)\n",
    "                \n",
    "            \n",
    "         \n",
    "          Hot              2         2         2/9        2/5\n",
    "          Cool             3         1         3/9        1/5\n",
    "          Mild             4         2         4/9        2/5\n",
    "    \n",
    "    \n",
    "        \n",
    "        \n",
    "\n",
    "P(Play == Yes|(Rainy,Cool))  = 3/9 * 3/9 * 9/14  = 0.07142\n",
    "P(Play == No|Rainy,Cool)  = 2/5 * 1/5 * 5/14 = 0.02857\n",
    "\n",
    "\n",
    "P(Yes) = 0.7142\n",
    "P(No)  = 0.2857\n",
    "\n",
    "Yes, Play is Happening"
   ]
  },
  {
   "cell_type": "code",
   "execution_count": 1,
   "id": "5b5aa890",
   "metadata": {},
   "outputs": [
    {
     "data": {
      "text/plain": [
       "0.07142857142857142"
      ]
     },
     "execution_count": 1,
     "metadata": {},
     "output_type": "execute_result"
    }
   ],
   "source": [
    "3/9 * 3/9 * 9/14"
   ]
  },
  {
   "cell_type": "code",
   "execution_count": 2,
   "id": "b48a725c",
   "metadata": {},
   "outputs": [
    {
     "data": {
      "text/plain": [
       "0.028571428571428574"
      ]
     },
     "execution_count": 2,
     "metadata": {},
     "output_type": "execute_result"
    }
   ],
   "source": [
    "2/5 * 1/5 * 5/14"
   ]
  },
  {
   "cell_type": "code",
   "execution_count": 3,
   "id": "958f63ee",
   "metadata": {},
   "outputs": [
    {
     "data": {
      "text/plain": [
       "0.7142714271427143"
      ]
     },
     "execution_count": 3,
     "metadata": {},
     "output_type": "execute_result"
    }
   ],
   "source": [
    "0.07142/(0.02857 + 0.07142)"
   ]
  },
  {
   "cell_type": "code",
   "execution_count": 4,
   "id": "0c0cfb06",
   "metadata": {},
   "outputs": [
    {
     "data": {
      "text/plain": [
       "0.28572857285728576"
      ]
     },
     "execution_count": 4,
     "metadata": {},
     "output_type": "execute_result"
    }
   ],
   "source": [
    "0.02857/(0.02857 + 0.07142)"
   ]
  },
  {
   "cell_type": "markdown",
   "id": "211da29d",
   "metadata": {},
   "source": [
    "# Advantages "
   ]
  },
  {
   "cell_type": "markdown",
   "id": "d182c1a8",
   "metadata": {},
   "source": [
    "1. Can handle high dimensional Data\n",
    "2. Perform well on the smaller datasets.\n",
    "3. Hyperparamerts are not required in Naive Bayes"
   ]
  },
  {
   "cell_type": "markdown",
   "id": "439a9e72",
   "metadata": {},
   "source": [
    "# Disadvantages"
   ]
  },
  {
   "cell_type": "raw",
   "id": "089861c8",
   "metadata": {},
   "source": [
    "1. We need to follow Independence Assumption"
   ]
  }
 ],
 "metadata": {
  "kernelspec": {
   "display_name": "Python 3",
   "language": "python",
   "name": "python3"
  },
  "language_info": {
   "codemirror_mode": {
    "name": "ipython",
    "version": 3
   },
   "file_extension": ".py",
   "mimetype": "text/x-python",
   "name": "python",
   "nbconvert_exporter": "python",
   "pygments_lexer": "ipython3",
   "version": "3.8.8"
  }
 },
 "nbformat": 4,
 "nbformat_minor": 5
}
