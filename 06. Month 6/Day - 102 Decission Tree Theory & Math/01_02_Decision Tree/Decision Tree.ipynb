{
 "cells": [
  {
   "cell_type": "markdown",
   "id": "4f144362",
   "metadata": {},
   "source": [
    "# Decision Tree Algorithm"
   ]
  },
  {
   "cell_type": "raw",
   "id": "18096709",
   "metadata": {},
   "source": [
    "1. It is Supervised machine Learning Algorithm\n",
    "2. it can be used for classification as well as Regression concerns\n",
    "3. Here, In Decision tree for finding the best root node or decision node we need to calculate the IG\n",
    "4. On the basis of Highest information Gain value, We can decide the best root node for the tree or    model\n",
    "5. For finding it out, We are having two measurements: 1. Entropy 2. Gini Index"
   ]
  },
  {
   "cell_type": "raw",
   "id": "8b53e7b6",
   "metadata": {},
   "source": [
    "Attribute Selection Measures:\n",
    "    \n",
    "    1. Entropy\n",
    "    2. Gini Index"
   ]
  },
  {
   "cell_type": "raw",
   "id": "d8394764",
   "metadata": {},
   "source": [
    "1. Entropy used to find out the impurity of the nodes\n",
    "\n",
    "H(S) or E(S) = -[P(Y) * Log2(Py) + P(N) * Log2(Pn)]\n",
    "\n",
    "\n",
    "Information Gain:\n",
    "    \n",
    "    1. Information Gain value will help us out to find out the best Decision or Root Node\n",
    "    2. It is based on the highest IG value which we can get after all the calculations\n",
    "    \n",
    "    \n",
    "    \n",
    "Information Gain (IG) = H(S) - [Weighted Avg * Entropy of each Features or Attributes]\n",
    "\n",
    "\n",
    "    Highest information Gain will be selected as a best Root or Decision Node"
   ]
  },
  {
   "cell_type": "code",
   "execution_count": 1,
   "id": "c4ef2e55",
   "metadata": {},
   "outputs": [],
   "source": [
    "import numpy as np"
   ]
  },
  {
   "cell_type": "code",
   "execution_count": null,
   "id": "2006c20b",
   "metadata": {},
   "outputs": [],
   "source": [
    "9Y and 5N"
   ]
  },
  {
   "cell_type": "code",
   "execution_count": 2,
   "id": "5d781c73",
   "metadata": {},
   "outputs": [
    {
     "data": {
      "text/plain": [
       "0.9402859586706311"
      ]
     },
     "execution_count": 2,
     "metadata": {},
     "output_type": "execute_result"
    }
   ],
   "source": [
    "entropy = -((9/14) * np.log2(9/14) + (5/14) * np.log2(5/14))\n",
    "entropy"
   ]
  },
  {
   "cell_type": "code",
   "execution_count": null,
   "id": "d507abf0",
   "metadata": {},
   "outputs": [],
   "source": [
    "5Y and 5N"
   ]
  },
  {
   "cell_type": "code",
   "execution_count": 3,
   "id": "f9aeb448",
   "metadata": {},
   "outputs": [
    {
     "data": {
      "text/plain": [
       "1.0"
      ]
     },
     "execution_count": 3,
     "metadata": {},
     "output_type": "execute_result"
    }
   ],
   "source": [
    "entropy = -((5/10) * np.log2(5/10) + (5/10) * np.log2(5/10))\n",
    "entropy"
   ]
  },
  {
   "cell_type": "code",
   "execution_count": null,
   "id": "c2727552",
   "metadata": {},
   "outputs": [],
   "source": [
    "14Y and 0N"
   ]
  },
  {
   "cell_type": "code",
   "execution_count": 8,
   "id": "c8fe5720",
   "metadata": {},
   "outputs": [
    {
     "data": {
      "text/plain": [
       "0.0"
      ]
     },
     "execution_count": 8,
     "metadata": {},
     "output_type": "execute_result"
    }
   ],
   "source": [
    "entropy = -(14/14) * np.log2(14/14) + 0\n",
    "entropy"
   ]
  },
  {
   "cell_type": "markdown",
   "id": "ea92e1a5",
   "metadata": {},
   "source": [
    "# 1. Outlook"
   ]
  },
  {
   "cell_type": "code",
   "execution_count": null,
   "id": "1840abbc",
   "metadata": {},
   "outputs": [],
   "source": [
    "E(S) = 0.94\n",
    "E(Outlook = Overcast) = 0\n",
    "E(Outlook = Rainy) = 0.970\n",
    "E(Outlook = Sunny) = 0.970"
   ]
  },
  {
   "cell_type": "code",
   "execution_count": null,
   "id": "a8581e3c",
   "metadata": {},
   "outputs": [],
   "source": [
    "3Y and 2N"
   ]
  },
  {
   "cell_type": "code",
   "execution_count": 9,
   "id": "4e8537eb",
   "metadata": {},
   "outputs": [
    {
     "data": {
      "text/plain": [
       "0.9709505944546686"
      ]
     },
     "execution_count": 9,
     "metadata": {},
     "output_type": "execute_result"
    }
   ],
   "source": [
    "entropy_rainy = -((3/5) * np.log2(3/5) + (2/5) * np.log2(2/5))\n",
    "entropy_rainy"
   ]
  },
  {
   "cell_type": "code",
   "execution_count": null,
   "id": "df1d66c4",
   "metadata": {},
   "outputs": [],
   "source": [
    "3N and 2Y"
   ]
  },
  {
   "cell_type": "code",
   "execution_count": 10,
   "id": "69ca8469",
   "metadata": {},
   "outputs": [
    {
     "data": {
      "text/plain": [
       "0.9709505944546686"
      ]
     },
     "execution_count": 10,
     "metadata": {},
     "output_type": "execute_result"
    }
   ],
   "source": [
    "entropy_sunny = -((2/5) * np.log2(2/5) + (3/5) * np.log2(3/5))\n",
    "entropy_sunny"
   ]
  },
  {
   "cell_type": "code",
   "execution_count": 12,
   "id": "2f5960e1",
   "metadata": {},
   "outputs": [
    {
     "data": {
      "text/plain": [
       "0.248"
      ]
     },
     "execution_count": 12,
     "metadata": {},
     "output_type": "execute_result"
    }
   ],
   "source": [
    "# Information Gain (IG) = H(S) - [Weighted Avg * Entropy of Each attributes]\n",
    "\n",
    "information_outlook = 4/14 * 0 + 5/14 * 0.970 + 5/14 * 0.970\n",
    "information_outlook\n",
    "\n",
    "\n",
    "IG_outlook = 0.94 - 0.692\n",
    "IG_outlook"
   ]
  },
  {
   "cell_type": "markdown",
   "id": "968717ab",
   "metadata": {},
   "source": [
    "# 2. Temperature"
   ]
  },
  {
   "cell_type": "raw",
   "id": "9c55e6f4",
   "metadata": {},
   "source": [
    "E(S) = 0.94\n",
    "E(Temp = hot) = 1\n",
    "E(Temp = mild) = 0.918\n",
    "E(Temp = cool) = 0.811"
   ]
  },
  {
   "cell_type": "code",
   "execution_count": 13,
   "id": "73f5497b",
   "metadata": {},
   "outputs": [
    {
     "data": {
      "text/plain": [
       "0.029999999999999916"
      ]
     },
     "execution_count": 13,
     "metadata": {},
     "output_type": "execute_result"
    }
   ],
   "source": [
    "IG_Temp = 0.94 - 0.910\n",
    "IG_Temp"
   ]
  },
  {
   "cell_type": "markdown",
   "id": "b218b0cf",
   "metadata": {},
   "source": [
    "# 3. Humidity"
   ]
  },
  {
   "cell_type": "code",
   "execution_count": null,
   "id": "55519611",
   "metadata": {},
   "outputs": [],
   "source": [
    "E(S) = 0.94\n",
    "E(Humidity = High) = 0.985\n",
    "E(Humidity = Normal) = 0.591"
   ]
  },
  {
   "cell_type": "code",
   "execution_count": null,
   "id": "39be434e",
   "metadata": {},
   "outputs": [],
   "source": [
    "3Y and 4N\n",
    "\n",
    "6Y and 1N"
   ]
  },
  {
   "cell_type": "code",
   "execution_count": 14,
   "id": "2e2b025a",
   "metadata": {},
   "outputs": [
    {
     "data": {
      "text/plain": [
       "0.9852281360342515"
      ]
     },
     "execution_count": 14,
     "metadata": {},
     "output_type": "execute_result"
    }
   ],
   "source": [
    "entropy_high = -((3/7) * np.log2(3/7) + (4/7) * np.log2(4/7))\n",
    "entropy_high"
   ]
  },
  {
   "cell_type": "code",
   "execution_count": 15,
   "id": "bd7720d3",
   "metadata": {},
   "outputs": [
    {
     "data": {
      "text/plain": [
       "0.5916727785823275"
      ]
     },
     "execution_count": 15,
     "metadata": {},
     "output_type": "execute_result"
    }
   ],
   "source": [
    "entropy_normal = -((6/7) * np.log2(6/7) + (1/7) * np.log2(1/7))\n",
    "entropy_normal"
   ]
  },
  {
   "cell_type": "code",
   "execution_count": 17,
   "id": "6d3e5db7",
   "metadata": {},
   "outputs": [
    {
     "data": {
      "text/plain": [
       "0.1519999999999999"
      ]
     },
     "execution_count": 17,
     "metadata": {},
     "output_type": "execute_result"
    }
   ],
   "source": [
    "information_humidity = 7/14 * 0.985 + 7/14 * 0.591\n",
    "information_humidity\n",
    "\n",
    "IG_humidity = 0.94 - 0.788\n",
    "IG_humidity"
   ]
  },
  {
   "cell_type": "markdown",
   "id": "d89e465e",
   "metadata": {},
   "source": [
    "# 4. Windy"
   ]
  },
  {
   "cell_type": "code",
   "execution_count": null,
   "id": "ab5df0d3",
   "metadata": {},
   "outputs": [],
   "source": [
    "E(S) = 0.94\n",
    "E(Windy = True) = 1\n",
    "E(Windy = False) = 0.811"
   ]
  },
  {
   "cell_type": "code",
   "execution_count": null,
   "id": "3070bade",
   "metadata": {},
   "outputs": [],
   "source": [
    "6Y and 2N"
   ]
  },
  {
   "cell_type": "code",
   "execution_count": 18,
   "id": "1af3c8bb",
   "metadata": {},
   "outputs": [
    {
     "data": {
      "text/plain": [
       "0.8112781244591328"
      ]
     },
     "execution_count": 18,
     "metadata": {},
     "output_type": "execute_result"
    }
   ],
   "source": [
    "entropy_false = -((6/8) * np.log2(6/8) + (2/8) * np.log2(2/8))\n",
    "entropy_false"
   ]
  },
  {
   "cell_type": "code",
   "execution_count": 20,
   "id": "cd02cb7a",
   "metadata": {},
   "outputs": [
    {
     "data": {
      "text/plain": [
       "0.04899999999999993"
      ]
     },
     "execution_count": 20,
     "metadata": {},
     "output_type": "execute_result"
    }
   ],
   "source": [
    "information_Windy = 6/14 * 1 + 8/14 * 0.811\n",
    "information_Windy\n",
    "\n",
    "\n",
    "IG_Windy = 0.94 - 0.891\n",
    "IG_Windy"
   ]
  },
  {
   "cell_type": "code",
   "execution_count": null,
   "id": "79a5e2db",
   "metadata": {},
   "outputs": [],
   "source": [
    "Information gain:\n",
    "    \n",
    "    1. Outlook = 0.248\n",
    "    2. Temp    = 0.029\n",
    "    3. Humidity= 0.151\n",
    "    4. Windy   = 0.048"
   ]
  }
 ],
 "metadata": {
  "kernelspec": {
   "display_name": "Python 3 (ipykernel)",
   "language": "python",
   "name": "python3"
  },
  "language_info": {
   "codemirror_mode": {
    "name": "ipython",
    "version": 3
   },
   "file_extension": ".py",
   "mimetype": "text/x-python",
   "name": "python",
   "nbconvert_exporter": "python",
   "pygments_lexer": "ipython3",
   "version": "3.10.8"
  }
 },
 "nbformat": 4,
 "nbformat_minor": 5
}
