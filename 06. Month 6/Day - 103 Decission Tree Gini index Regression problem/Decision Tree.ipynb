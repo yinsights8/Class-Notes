{
 "cells": [
  {
   "cell_type": "markdown",
   "id": "3811f867",
   "metadata": {},
   "source": [
    "# Decision Tree Algorithm"
   ]
  },
  {
   "cell_type": "raw",
   "id": "f96d793b",
   "metadata": {},
   "source": [
    "Splitting Criteria or Measurement Criteria:\n",
    "    \n",
    "    1. Entropy\n",
    "    2. Gini Index / Gini Impurity"
   ]
  },
  {
   "cell_type": "raw",
   "id": "da9697fb",
   "metadata": {},
   "source": [
    "Overcast = 4Y and 0N\n",
    "Rainy = 3Y and 2N\n",
    "Sunny = 2Y and 3N"
   ]
  },
  {
   "cell_type": "markdown",
   "id": "f188f840",
   "metadata": {},
   "source": [
    "# 1. Overcast"
   ]
  },
  {
   "cell_type": "code",
   "execution_count": null,
   "id": "3d53a882",
   "metadata": {},
   "outputs": [],
   "source": [
    "Gini(Outlook = Overcast) = 0\n",
    "Gini (Outlook = Rainy) = 0.48\n",
    "Gini (Outlook = Sunny) = 0.48"
   ]
  },
  {
   "cell_type": "code",
   "execution_count": 1,
   "id": "ebe87868",
   "metadata": {},
   "outputs": [
    {
     "data": {
      "text/plain": [
       "0.48"
      ]
     },
     "execution_count": 1,
     "metadata": {},
     "output_type": "execute_result"
    }
   ],
   "source": [
    "Gini_Rainy = 1 - (3/5)**2 - (2/5)**2\n",
    "Gini_Rainy"
   ]
  },
  {
   "cell_type": "code",
   "execution_count": 2,
   "id": "de49c961",
   "metadata": {},
   "outputs": [
    {
     "data": {
      "text/plain": [
       "0.48"
      ]
     },
     "execution_count": 2,
     "metadata": {},
     "output_type": "execute_result"
    }
   ],
   "source": [
    "Gini_Sunny = 1 - (2/5)**2 - (3/5)**2\n",
    "Gini_Sunny"
   ]
  },
  {
   "cell_type": "code",
   "execution_count": null,
   "id": "5634446f",
   "metadata": {},
   "outputs": [],
   "source": [
    "Gini_Value = [Weighted Avg * Gini_Index for each Attributes]"
   ]
  },
  {
   "cell_type": "code",
   "execution_count": 3,
   "id": "b010174a",
   "metadata": {},
   "outputs": [
    {
     "data": {
      "text/plain": [
       "0.34285714285714286"
      ]
     },
     "execution_count": 3,
     "metadata": {},
     "output_type": "execute_result"
    }
   ],
   "source": [
    "Gini_Outlook = 4/14 * 0 + 5/14 * 0.48 + 5/14 * 0.48\n",
    "Gini_Outlook"
   ]
  },
  {
   "cell_type": "raw",
   "id": "0b8b2890",
   "metadata": {},
   "source": [
    "Gini_Outlook = 0.342\n",
    "Gini_Temp   =  0.44\n",
    "Gini_Humidity =0.36\n",
    "Gini_Windy    =0.42\n",
    "\n",
    "We can select the best root or decision node on the basis of lowest or minimum value of Gini.\n",
    "SO we got the minimum value of Gini to the Outlook, Due to which best root will be Outlook."
   ]
  },
  {
   "cell_type": "raw",
   "id": "1d01ad10",
   "metadata": {},
   "source": [
    "Information Gain = We do select the best root or Decision node on the basis of Highest value of IG,\n",
    "                   If we are using Entropy as a measurement Criteria.\n",
    "    \n",
    "Gini Index or Gini Impurity =  We do select the best root or Decision node on the basis of Lowest value of Gini,If we are using Gini Index as a measurement Criteria.\n",
    "    \n",
    "    \n",
    "ID3 (Iterative Dechotomiser) = ID3 it uses the information gain to select the best root node\n",
    "CART Algorithm (Classification and Regression)  >> Card Algo do use the Gini Index to select the best root node"
   ]
  },
  {
   "cell_type": "markdown",
   "id": "84c1943f",
   "metadata": {},
   "source": [
    "# Advantages of DT"
   ]
  },
  {
   "cell_type": "raw",
   "id": "9d272a7d",
   "metadata": {},
   "source": [
    "1. It is useful for Classification as well as Regression\n",
    "2. It is Non Parametric Algorithm (We do not have assumptions on the data)\n",
    "3. Easy to Understand, Implement and Visualization\n",
    "4. Scaling is not required\n",
    "5. Not Sensitive to Outliers\n",
    "6. Best for non linear relationship or Non Linearly Seperable data"
   ]
  },
  {
   "cell_type": "markdown",
   "id": "b6755e6b",
   "metadata": {},
   "source": [
    "# Disadvantages of DT"
   ]
  },
  {
   "cell_type": "raw",
   "id": "a2816354",
   "metadata": {},
   "source": [
    "1. Overfitting : Low Bias and High Variance\n",
    "2. If we are not using Hyperparameters then it uses high computational power"
   ]
  },
  {
   "cell_type": "markdown",
   "id": "ca4b893b",
   "metadata": {},
   "source": [
    "# How to Avoid Overfitting in DT"
   ]
  },
  {
   "cell_type": "raw",
   "id": "4ed9fae1",
   "metadata": {},
   "source": [
    "1. Using Ensable Techniques:\n",
    "    \n",
    "    1. Random Forest\n",
    "    2. Adaboost\n",
    "    \n",
    "2. Pruning (CCP_Alpha)  >> Cost Complexity pruning\n",
    "    \n",
    "    Pruning will help to cut the tree\n",
    "    \n",
    "3. Hyperparameter Tuning:\n",
    "    \n",
    "    max_depth >> None\n",
    "    Min_Sample_Split >> 2 (Branch Node)\n",
    "    Min_Sample_Leaf  >> 1 (Leaf Node)\n",
    "    Criteria  >> 'gini' ('entropy')"
   ]
  }
 ],
 "metadata": {
  "kernelspec": {
   "display_name": "Python 3 (ipykernel)",
   "language": "python",
   "name": "python3"
  },
  "language_info": {
   "codemirror_mode": {
    "name": "ipython",
    "version": 3
   },
   "file_extension": ".py",
   "mimetype": "text/x-python",
   "name": "python",
   "nbconvert_exporter": "python",
   "pygments_lexer": "ipython3",
   "version": "3.10.8"
  }
 },
 "nbformat": 4,
 "nbformat_minor": 5
}
