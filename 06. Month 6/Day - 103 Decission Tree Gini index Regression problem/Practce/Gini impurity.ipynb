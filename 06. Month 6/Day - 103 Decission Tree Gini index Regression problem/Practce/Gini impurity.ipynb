{
 "cells": [
  {
   "cell_type": "code",
   "execution_count": 1,
   "id": "31f39325",
   "metadata": {},
   "outputs": [],
   "source": [
    "import pandas as pd\n",
    "import numpy as np"
   ]
  },
  {
   "cell_type": "code",
   "execution_count": null,
   "id": "e91109b8",
   "metadata": {},
   "outputs": [],
   "source": []
  },
  {
   "cell_type": "raw",
   "id": "80bc214d",
   "metadata": {},
   "source": [
    "Gini index / Gini impurity = 1 - (Py)^2 - (Pn)^2\n",
    "\n",
    "Gini Value = [Weighted Avg. * gini index for each attribute]"
   ]
  },
  {
   "cell_type": "raw",
   "id": "e6798444",
   "metadata": {},
   "source": [
    "Spliting Criteria or measurement Criteria\n",
    "\n",
    "    1. Entropy \n",
    "    2. Gini index / Gini impurity"
   ]
  },
  {
   "cell_type": "code",
   "execution_count": 5,
   "id": "27baee29",
   "metadata": {},
   "outputs": [
    {
     "data": {
      "text/html": [
       "<div>\n",
       "<style scoped>\n",
       "    .dataframe tbody tr th:only-of-type {\n",
       "        vertical-align: middle;\n",
       "    }\n",
       "\n",
       "    .dataframe tbody tr th {\n",
       "        vertical-align: top;\n",
       "    }\n",
       "\n",
       "    .dataframe thead th {\n",
       "        text-align: right;\n",
       "    }\n",
       "</style>\n",
       "<table border=\"1\" class=\"dataframe\">\n",
       "  <thead>\n",
       "    <tr style=\"text-align: right;\">\n",
       "      <th></th>\n",
       "      <th>outlook</th>\n",
       "      <th>temperature</th>\n",
       "      <th>humidity</th>\n",
       "      <th>windy</th>\n",
       "      <th>play</th>\n",
       "    </tr>\n",
       "  </thead>\n",
       "  <tbody>\n",
       "    <tr>\n",
       "      <th>0</th>\n",
       "      <td>overcast</td>\n",
       "      <td>hot</td>\n",
       "      <td>high</td>\n",
       "      <td>False</td>\n",
       "      <td>yes</td>\n",
       "    </tr>\n",
       "    <tr>\n",
       "      <th>1</th>\n",
       "      <td>overcast</td>\n",
       "      <td>cool</td>\n",
       "      <td>normal</td>\n",
       "      <td>True</td>\n",
       "      <td>yes</td>\n",
       "    </tr>\n",
       "    <tr>\n",
       "      <th>2</th>\n",
       "      <td>overcast</td>\n",
       "      <td>mild</td>\n",
       "      <td>high</td>\n",
       "      <td>True</td>\n",
       "      <td>yes</td>\n",
       "    </tr>\n",
       "    <tr>\n",
       "      <th>3</th>\n",
       "      <td>overcast</td>\n",
       "      <td>hot</td>\n",
       "      <td>normal</td>\n",
       "      <td>False</td>\n",
       "      <td>yes</td>\n",
       "    </tr>\n",
       "    <tr>\n",
       "      <th>4</th>\n",
       "      <td>rainy</td>\n",
       "      <td>mild</td>\n",
       "      <td>high</td>\n",
       "      <td>False</td>\n",
       "      <td>yes</td>\n",
       "    </tr>\n",
       "    <tr>\n",
       "      <th>5</th>\n",
       "      <td>rainy</td>\n",
       "      <td>cool</td>\n",
       "      <td>normal</td>\n",
       "      <td>False</td>\n",
       "      <td>yes</td>\n",
       "    </tr>\n",
       "    <tr>\n",
       "      <th>6</th>\n",
       "      <td>rainy</td>\n",
       "      <td>cool</td>\n",
       "      <td>normal</td>\n",
       "      <td>True</td>\n",
       "      <td>no</td>\n",
       "    </tr>\n",
       "    <tr>\n",
       "      <th>7</th>\n",
       "      <td>rainy</td>\n",
       "      <td>mild</td>\n",
       "      <td>normal</td>\n",
       "      <td>False</td>\n",
       "      <td>yes</td>\n",
       "    </tr>\n",
       "    <tr>\n",
       "      <th>8</th>\n",
       "      <td>rainy</td>\n",
       "      <td>mild</td>\n",
       "      <td>high</td>\n",
       "      <td>True</td>\n",
       "      <td>no</td>\n",
       "    </tr>\n",
       "    <tr>\n",
       "      <th>9</th>\n",
       "      <td>sunny</td>\n",
       "      <td>hot</td>\n",
       "      <td>high</td>\n",
       "      <td>False</td>\n",
       "      <td>no</td>\n",
       "    </tr>\n",
       "    <tr>\n",
       "      <th>10</th>\n",
       "      <td>sunny</td>\n",
       "      <td>hot</td>\n",
       "      <td>high</td>\n",
       "      <td>True</td>\n",
       "      <td>no</td>\n",
       "    </tr>\n",
       "    <tr>\n",
       "      <th>11</th>\n",
       "      <td>sunny</td>\n",
       "      <td>mild</td>\n",
       "      <td>high</td>\n",
       "      <td>False</td>\n",
       "      <td>no</td>\n",
       "    </tr>\n",
       "    <tr>\n",
       "      <th>12</th>\n",
       "      <td>sunny</td>\n",
       "      <td>cool</td>\n",
       "      <td>normal</td>\n",
       "      <td>False</td>\n",
       "      <td>yes</td>\n",
       "    </tr>\n",
       "    <tr>\n",
       "      <th>13</th>\n",
       "      <td>sunny</td>\n",
       "      <td>mild</td>\n",
       "      <td>normal</td>\n",
       "      <td>True</td>\n",
       "      <td>yes</td>\n",
       "    </tr>\n",
       "  </tbody>\n",
       "</table>\n",
       "</div>"
      ],
      "text/plain": [
       "     outlook temperature humidity  windy play\n",
       "0   overcast         hot     high  False  yes\n",
       "1   overcast        cool   normal   True  yes\n",
       "2   overcast        mild     high   True  yes\n",
       "3   overcast         hot   normal  False  yes\n",
       "4      rainy        mild     high  False  yes\n",
       "5      rainy        cool   normal  False  yes\n",
       "6      rainy        cool   normal   True   no\n",
       "7      rainy        mild   normal  False  yes\n",
       "8      rainy        mild     high   True   no\n",
       "9      sunny         hot     high  False   no\n",
       "10     sunny         hot     high   True   no\n",
       "11     sunny        mild     high  False   no\n",
       "12     sunny        cool   normal  False  yes\n",
       "13     sunny        mild   normal   True  yes"
      ]
     },
     "execution_count": 5,
     "metadata": {},
     "output_type": "execute_result"
    }
   ],
   "source": [
    "df = pd.read_csv(\"weather.csv\",usecols=[\"outlook\", \"temperature\", \"humidity\", 'windy', 'play'])\n",
    "df"
   ]
  },
  {
   "cell_type": "code",
   "execution_count": 10,
   "id": "67858f68",
   "metadata": {},
   "outputs": [
    {
     "data": {
      "text/plain": [
       "rainy       5\n",
       "sunny       5\n",
       "overcast    4\n",
       "Name: outlook, dtype: int64"
      ]
     },
     "execution_count": 10,
     "metadata": {},
     "output_type": "execute_result"
    }
   ],
   "source": [
    "df[\"outlook\"].value_counts()"
   ]
  },
  {
   "cell_type": "markdown",
   "id": "735f91bc",
   "metadata": {},
   "source": [
    "### Calculating Gini Index"
   ]
  },
  {
   "cell_type": "code",
   "execution_count": null,
   "id": "c25038ad",
   "metadata": {},
   "outputs": [],
   "source": [
    "Gini = 1 - (Py)^2 - (Pn)^2"
   ]
  },
  {
   "cell_type": "markdown",
   "id": "aa361818",
   "metadata": {},
   "source": [
    "## 1. OverCast"
   ]
  },
  {
   "cell_type": "raw",
   "id": "7f1b1ca7",
   "metadata": {},
   "source": [
    "Overcast >> yes = 4\n",
    "Overcast >> No = 0\n",
    "\n",
    "rainy >> yes = 3\n",
    "rainy >> No = 2\n",
    "\n",
    "sunny >> yes = 2\n",
    "sunny >> No = 3"
   ]
  },
  {
   "cell_type": "code",
   "execution_count": 19,
   "id": "be2ce8fa",
   "metadata": {},
   "outputs": [
    {
     "name": "stdout",
     "output_type": "stream",
     "text": [
      "OVERCAST Gini\n",
      "\n",
      "gini_overcast :- 0.0\n",
      "gini_rainy :- 0.48\n",
      "gini_sunny :- 0.48\n"
     ]
    }
   ],
   "source": [
    "gini_overcast = 1 - (4/4)**2 - (0/4)**2\n",
    "gini_rainy = 1 - (3/5)**2 - (2/5)**2\n",
    "gini_sunny = 1 - (2/5)**2 - (3/5)**2\n",
    "\n",
    "print(f\"OVERCAST Gini\\n\\ngini_overcast :- {gini_overcast}\")\n",
    "print(f\"gini_rainy :- {gini_rainy}\")\n",
    "print(f\"gini_sunny :- {gini_sunny}\")"
   ]
  },
  {
   "cell_type": "markdown",
   "id": "73a97ab1",
   "metadata": {},
   "source": [
    "#### Gini Value For Outlook"
   ]
  },
  {
   "cell_type": "code",
   "execution_count": 33,
   "id": "b1b39173",
   "metadata": {},
   "outputs": [
    {
     "name": "stdout",
     "output_type": "stream",
     "text": [
      "Gini Value for Outlook :- 0.34285714285714286\n"
     ]
    }
   ],
   "source": [
    "gini_outlook = 4/14 * 0 + 5/14 * 0.48 + 5/14 * 0.48\n",
    "print(f\"Gini Value for Outlook :- {gini_outlook}\")"
   ]
  },
  {
   "cell_type": "markdown",
   "id": "ec7e32af",
   "metadata": {},
   "source": [
    "## 2. temperature"
   ]
  },
  {
   "cell_type": "raw",
   "id": "4f12d120",
   "metadata": {},
   "source": [
    "hot >> yes = 2\n",
    "hot >> No = 2\n",
    "\n",
    "cool >> yes = 3\n",
    "cool >> No = 1\n",
    "\n",
    "mild >> yes = 4\n",
    "mild >> No = 2"
   ]
  },
  {
   "cell_type": "code",
   "execution_count": 21,
   "id": "361d4977",
   "metadata": {},
   "outputs": [
    {
     "data": {
      "text/plain": [
       "mild    6\n",
       "hot     4\n",
       "cool    4\n",
       "Name: temperature, dtype: int64"
      ]
     },
     "execution_count": 21,
     "metadata": {},
     "output_type": "execute_result"
    }
   ],
   "source": [
    "df[\"temperature\"].value_counts()"
   ]
  },
  {
   "cell_type": "code",
   "execution_count": 24,
   "id": "c31d90a1",
   "metadata": {},
   "outputs": [
    {
     "name": "stdout",
     "output_type": "stream",
     "text": [
      "TEMPRETURE Gini\n",
      "\n",
      "gini_mild :- 0.4444444444444445\n",
      "gini_hot :- 0.5\n",
      "gini_cool :- 0.375\n"
     ]
    }
   ],
   "source": [
    "gini_mild = 1 - (4/6)**2 - (2/6)**2\n",
    "gini_hot = 1 - (2/4)**2 - (2/4)**2\n",
    "gini_cool = 1 - (3/4)**2 - (1/4)**2\n",
    "\n",
    "print(f\"TEMPRETURE Gini\\n\\ngini_mild :- {gini_mild}\")\n",
    "print(f\"gini_hot :- {gini_hot}\")\n",
    "print(f\"gini_cool :- {gini_cool}\")"
   ]
  },
  {
   "cell_type": "markdown",
   "id": "e230c944",
   "metadata": {},
   "source": [
    "#### Gini value for Tempreture"
   ]
  },
  {
   "cell_type": "code",
   "execution_count": 34,
   "id": "9553f44c",
   "metadata": {},
   "outputs": [
    {
     "name": "stdout",
     "output_type": "stream",
     "text": [
      "Gini Value for Tempreture :- 0.43857142857142856\n"
     ]
    }
   ],
   "source": [
    "gini_Tempreture = 6/14 * 0.44 + 4/14 * 0.5 + 4/14 * 0.375\n",
    "print(f\"Gini Value for Tempreture :- {gini_Tempreture}\")"
   ]
  },
  {
   "cell_type": "markdown",
   "id": "fc71721d",
   "metadata": {},
   "source": [
    "##  3. humidity"
   ]
  },
  {
   "cell_type": "code",
   "execution_count": 26,
   "id": "294e7088",
   "metadata": {},
   "outputs": [
    {
     "data": {
      "text/plain": [
       "high      7\n",
       "normal    7\n",
       "Name: humidity, dtype: int64"
      ]
     },
     "execution_count": 26,
     "metadata": {},
     "output_type": "execute_result"
    }
   ],
   "source": [
    "df[\"humidity\"].value_counts()"
   ]
  },
  {
   "cell_type": "raw",
   "id": "24262c6a",
   "metadata": {},
   "source": [
    "High   >> yes >> 3\n",
    "High   >> No >> 4\n",
    "\n",
    "Normal >> yes >> 6 \n",
    "Normal >> No >>  1"
   ]
  },
  {
   "cell_type": "code",
   "execution_count": 32,
   "id": "b4cceac1",
   "metadata": {},
   "outputs": [
    {
     "name": "stdout",
     "output_type": "stream",
     "text": [
      "humidity Gini\n",
      "\n",
      "gini_High :- 0.489795918367347\n",
      "gini_Normal :- 0.24489795918367355\n"
     ]
    }
   ],
   "source": [
    "gini_High   = 1 - (3/7)**2 - (4/7)**2\n",
    "gini_Normal = 1 - (6/7)**2 - (1/7)**2\n",
    "\n",
    "print(f\"humidity Gini\\n\\ngini_High :- {gini_High}\")\n",
    "print(f\"gini_Normal :- {gini_Normal}\")"
   ]
  },
  {
   "cell_type": "markdown",
   "id": "d0ab8b10",
   "metadata": {},
   "source": [
    "#### Gini Value For Humidity"
   ]
  },
  {
   "cell_type": "code",
   "execution_count": 36,
   "id": "65d129c3",
   "metadata": {},
   "outputs": [
    {
     "name": "stdout",
     "output_type": "stream",
     "text": [
      "Gini Value for Humidity :- 0.36\n"
     ]
    }
   ],
   "source": [
    "gini_Humidity = 7/14 * 0.48 + 7/14 * 0.24 \n",
    "print(f\"Gini Value for Humidity :- {gini_Humidity}\")"
   ]
  },
  {
   "cell_type": "markdown",
   "id": "a24a0d65",
   "metadata": {},
   "source": [
    "##  4. windy"
   ]
  },
  {
   "cell_type": "code",
   "execution_count": 28,
   "id": "ebe451c8",
   "metadata": {},
   "outputs": [
    {
     "data": {
      "text/plain": [
       "False    8\n",
       "True     6\n",
       "Name: windy, dtype: int64"
      ]
     },
     "execution_count": 28,
     "metadata": {},
     "output_type": "execute_result"
    }
   ],
   "source": [
    "df[\"windy\"].value_counts()"
   ]
  },
  {
   "cell_type": "raw",
   "id": "8202e425",
   "metadata": {},
   "source": [
    "False   >> yes >> 6\n",
    "False   >> No >> 2\n",
    "\n",
    "True >> yes >> 3 \n",
    "True >> No >>  3"
   ]
  },
  {
   "cell_type": "code",
   "execution_count": 31,
   "id": "8287ecdf",
   "metadata": {},
   "outputs": [
    {
     "name": "stdout",
     "output_type": "stream",
     "text": [
      "windy Gini\n",
      "\n",
      "gini_False :- 0.375\n",
      "gini_True :- 0.5\n"
     ]
    }
   ],
   "source": [
    "gini_False  = 1 - (6/8)**2 - (2/8)**2\n",
    "gini_True   = 1 - (3/6)**2 - (3/6)**2\n",
    "\n",
    "print(f\"windy Gini\\n\\ngini_False :- {gini_False}\")\n",
    "print(f\"gini_True :- {gini_True}\")"
   ]
  },
  {
   "cell_type": "markdown",
   "id": "2e75f463",
   "metadata": {},
   "source": [
    "#### Gini Value for Wind"
   ]
  },
  {
   "cell_type": "code",
   "execution_count": 38,
   "id": "2c05c151",
   "metadata": {},
   "outputs": [
    {
     "name": "stdout",
     "output_type": "stream",
     "text": [
      "Gini Value for Wild :- 0.4257142857142857\n"
     ]
    }
   ],
   "source": [
    "gini_Wild = 8/14 * 0.37 + 6/14 * 0.5\n",
    "print(f\"Gini Value for Wild :- {gini_Wild}\")"
   ]
  },
  {
   "cell_type": "raw",
   "id": "72550b0c",
   "metadata": {},
   "source": [
    "- Gini Values \n",
    "    Outlook    :- 0.342 >> This would be our root or decision Node\n",
    "    Tempreture :- 0.438\n",
    "    Humidity   :- 0.36\n",
    "    Wild       :- 0.425"
   ]
  },
  {
   "cell_type": "raw",
   "id": "bd5c4aff",
   "metadata": {},
   "source": [
    "- 1. Information Gain \n",
    "        When we are using Entropy mesurement criteria and  to select the decision node by                   Information Gain (IG), we consider Highest Ig value as a Decision Node.\n",
    "\n",
    "- 1.  Gini Index or Gini Impurity\n",
    "        when we are Using the Gini index or Gini impurity, we connsider the lowest Gini Value as a           Root or Decision Node."
   ]
  },
  {
   "cell_type": "markdown",
   "id": "06a4dd0d",
   "metadata": {},
   "source": [
    "### CART & ID3\n",
    "- CART :- Classification and Regression Tree \n",
    "    - (It uses Gini Impurity to select the root or decision node)\n",
    "    \n",
    "- ID3  :- Iterative Dechotomiser \n",
    "    - (It uses Information gain Impurity to select the root or decision node)"
   ]
  },
  {
   "cell_type": "raw",
   "id": "c9b20bff",
   "metadata": {},
   "source": [
    "ID3 (Iterative Dechotomiser) = ID3 it uses the information gain to select the best root node\n",
    "\n",
    "CART Algorithm (Classification and Regression) = Card Algo do use the Gini Index to select the best root node"
   ]
  },
  {
   "cell_type": "raw",
   "id": "d6850fff",
   "metadata": {},
   "source": [
    "- ID3 :- \n",
    "    ID3 and C.4.5 use Shannon Entropy to pick features with the greatest information gain as nodes. As an example, let's say we would like to classify animals. You would probably ask more general questions (like \"Is it a mammal\") first and once confirmed continue with more specific questions (like \"is it a monkey\"). In terms of information gain the general questions of our toy example gives you more information in addition to what you already know (that it is an animal).\n",
    "\n",
    "\n",
    "\n",
    "- CART :- \n",
    "    CART uses Gini Impurity instead. Gini Impurity is a measure of the homogeneity (or \"purity\") of the nodes. If all datapoints at one node belong to the same class then this node is considered \"pure\". So by minimising the Gini Impurity the decision tree finds the features the separate the data best."
   ]
  },
  {
   "cell_type": "code",
   "execution_count": null,
   "id": "e7691d0e",
   "metadata": {},
   "outputs": [],
   "source": []
  },
  {
   "cell_type": "code",
   "execution_count": null,
   "id": "f9b12af3",
   "metadata": {},
   "outputs": [],
   "source": []
  }
 ],
 "metadata": {
  "kernelspec": {
   "display_name": "Python 3 (ipykernel)",
   "language": "python",
   "name": "python3"
  },
  "language_info": {
   "codemirror_mode": {
    "name": "ipython",
    "version": 3
   },
   "file_extension": ".py",
   "mimetype": "text/x-python",
   "name": "python",
   "nbconvert_exporter": "python",
   "pygments_lexer": "ipython3",
   "version": "3.10.8"
  }
 },
 "nbformat": 4,
 "nbformat_minor": 5
}
