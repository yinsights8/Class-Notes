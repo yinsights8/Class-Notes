{
 "cells": [
  {
   "cell_type": "code",
   "execution_count": 37,
   "id": "cb9b3eab",
   "metadata": {},
   "outputs": [],
   "source": [
    "import numpy as np\n",
    "import pandas as pd\n",
    "import matplotlib.pyplot as plt\n",
    "import seaborn as sns"
   ]
  },
  {
   "cell_type": "code",
   "execution_count": 3,
   "id": "0ab2ae55",
   "metadata": {},
   "outputs": [
    {
     "data": {
      "text/plain": [
       "array([ 20,  30,  40,  50,  60,  70,  80,  90, 100])"
      ]
     },
     "execution_count": 3,
     "metadata": {},
     "output_type": "execute_result"
    }
   ],
   "source": [
    "y = np.arange(20,101, 10)\n",
    "y"
   ]
  },
  {
   "cell_type": "code",
   "execution_count": 4,
   "id": "f8b3f75d",
   "metadata": {},
   "outputs": [],
   "source": [
    "new_ary = np.append(y, y[-2::-1])"
   ]
  },
  {
   "cell_type": "code",
   "execution_count": 9,
   "id": "28244599",
   "metadata": {},
   "outputs": [
    {
     "data": {
      "text/plain": [
       "60.0"
      ]
     },
     "execution_count": 9,
     "metadata": {},
     "output_type": "execute_result"
    }
   ],
   "source": [
    "new_ary[1:].mean()"
   ]
  },
  {
   "cell_type": "code",
   "execution_count": 12,
   "id": "f7127a0d",
   "metadata": {},
   "outputs": [
    {
     "data": {
      "text/plain": [
       "62.0"
      ]
     },
     "execution_count": 12,
     "metadata": {},
     "output_type": "execute_result"
    }
   ],
   "source": [
    "new_ary[2:].mean()"
   ]
  },
  {
   "cell_type": "code",
   "execution_count": 13,
   "id": "a024d3b4",
   "metadata": {},
   "outputs": [
    {
     "data": {
      "text/plain": [
       "63.57142857142857"
      ]
     },
     "execution_count": 13,
     "metadata": {},
     "output_type": "execute_result"
    }
   ],
   "source": [
    "new_ary[3:].mean()"
   ]
  },
  {
   "cell_type": "code",
   "execution_count": 19,
   "id": "65de124f",
   "metadata": {},
   "outputs": [
    {
     "data": {
      "text/plain": [
       "64.61538461538461"
      ]
     },
     "execution_count": 19,
     "metadata": {},
     "output_type": "execute_result"
    }
   ],
   "source": [
    "new_ary[4:].mean()"
   ]
  },
  {
   "cell_type": "code",
   "execution_count": null,
   "id": "d96f3643",
   "metadata": {},
   "outputs": [],
   "source": []
  },
  {
   "cell_type": "code",
   "execution_count": null,
   "id": "3326824f",
   "metadata": {},
   "outputs": [],
   "source": [
    "new_ary[5:].mean()"
   ]
  },
  {
   "cell_type": "code",
   "execution_count": 14,
   "id": "ee783f78",
   "metadata": {
    "scrolled": true
   },
   "outputs": [
    {
     "data": {
      "text/plain": [
       "64.61538461538461"
      ]
     },
     "execution_count": 14,
     "metadata": {},
     "output_type": "execute_result"
    }
   ],
   "source": []
  },
  {
   "cell_type": "code",
   "execution_count": 21,
   "id": "f67cb8f5",
   "metadata": {},
   "outputs": [
    {
     "name": "stdout",
     "output_type": "stream",
     "text": [
      "1600\n",
      "1369\n",
      "1122.25\n",
      "876.7520999999999\n"
     ]
    }
   ],
   "source": [
    "def ssr(x,y):\n",
    "    return (x-y)**2\n",
    "\n",
    "print(ssr(20,60))\n",
    "print(ssr(25,62))\n",
    "print(ssr(30,63.5))\n",
    "print(ssr(35,64.61))\n",
    "print(ssr(40,6))"
   ]
  },
  {
   "cell_type": "code",
   "execution_count": 22,
   "id": "3fcc7042",
   "metadata": {},
   "outputs": [
    {
     "data": {
      "text/plain": [
       "57.64705882352941"
      ]
     },
     "execution_count": 22,
     "metadata": {},
     "output_type": "execute_result"
    }
   ],
   "source": [
    "np.mean(new_ary)"
   ]
  },
  {
   "cell_type": "code",
   "execution_count": 35,
   "id": "23ccfcf6",
   "metadata": {},
   "outputs": [
    {
     "name": "stdout",
     "output_type": "stream",
     "text": [
      "[60.         62.         63.57142857 64.61538462 65.         64.54545455\n",
      " 63.         60.         55.         50.         45.         40.\n",
      " 35.         30.         25.         20.        ]\n"
     ]
    }
   ],
   "source": [
    "def r_mean(arr):\n",
    "    for i in range(1,len(arr)):\n",
    "        yield np.mean(arr[i:])\n",
    "    \n",
    "    \n",
    "r_arr = np.array([i for i in r_mean(new_ary)])\n",
    "print(r_arr)"
   ]
  },
  {
   "cell_type": "code",
   "execution_count": 31,
   "id": "47597370",
   "metadata": {},
   "outputs": [],
   "source": [
    "def l_mean(arr):\n",
    "    for i in range(1,len(arr)):\n",
    "        yield np.mean(arr[:i])\n",
    "\n",
    "        \n",
    "l_arr = np.array([i for i in l_mean(new_ary)])"
   ]
  },
  {
   "cell_type": "code",
   "execution_count": 33,
   "id": "e1f509ba",
   "metadata": {},
   "outputs": [
    {
     "name": "stdout",
     "output_type": "stream",
     "text": [
      "[20.         25.         30.         35.         40.         45.\n",
      " 50.         55.         60.         63.         64.54545455 65.\n",
      " 64.61538462 63.57142857 62.         60.        ]\n"
     ]
    }
   ],
   "source": [
    "print(l_arr)"
   ]
  },
  {
   "cell_type": "code",
   "execution_count": 46,
   "id": "6f217495",
   "metadata": {},
   "outputs": [
    {
     "name": "stdout",
     "output_type": "stream",
     "text": [
      "16\n"
     ]
    }
   ],
   "source": [
    "ssr = (l_arr - r_arr)**2\n",
    "print(ssr.size)"
   ]
  },
  {
   "cell_type": "code",
   "execution_count": 43,
   "id": "19022bc6",
   "metadata": {},
   "outputs": [
    {
     "data": {
      "text/plain": [
       "<matplotlib.collections.PathCollection at 0x1906a7a1210>"
      ]
     },
     "execution_count": 43,
     "metadata": {},
     "output_type": "execute_result"
    },
    {
     "data": {
      "image/png": "[encoded data removed]",
      "text/plain": [
       "<Figure size 600x400 with 1 Axes>"
      ]
     },
     "metadata": {},
     "output_type": "display_data"
    }
   ],
   "source": [
    "plt.figure(figsize=(6,4))\n",
    "plt.scatter(r_arr, l_arr)"
   ]
  },
  {
   "cell_type": "code",
   "execution_count": 54,
   "id": "24501e24",
   "metadata": {},
   "outputs": [
    {
     "data": {
      "text/plain": [
       "<matplotlib.collections.PathCollection at 0x1906ed86a10>"
      ]
     },
     "execution_count": 54,
     "metadata": {},
     "output_type": "execute_result"
    },
    {
     "data": {
      "image/png": "[encoded data removed]",
      "text/plain": [
       "<Figure size 640x480 with 1 Axes>"
      ]
     },
     "metadata": {},
     "output_type": "display_data"
    }
   ],
   "source": [
    "plt.scatter(x=np.arange(16) ,y=ssr)"
   ]
  },
  {
   "cell_type": "code",
   "execution_count": null,
   "id": "68618056",
   "metadata": {},
   "outputs": [],
   "source": []
  },
  {
   "cell_type": "code",
   "execution_count": null,
   "id": "1868831a",
   "metadata": {},
   "outputs": [],
   "source": []
  }
 ],
 "metadata": {
  "kernelspec": {
   "display_name": "Python 3 (ipykernel)",
   "language": "python",
   "name": "python3"
  },
  "language_info": {
   "codemirror_mode": {
    "name": "ipython",
    "version": 3
   },
   "file_extension": ".py",
   "mimetype": "text/x-python",
   "name": "python",
   "nbconvert_exporter": "python",
   "pygments_lexer": "ipython3",
   "version": "3.10.8"
  }
 },
 "nbformat": 4,
 "nbformat_minor": 5
}
