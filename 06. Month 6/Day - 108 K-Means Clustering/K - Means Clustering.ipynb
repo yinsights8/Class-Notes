{
 "cells": [
  {
   "cell_type": "markdown",
   "id": "f9a4247b",
   "metadata": {},
   "source": [
    "# KMeans Clustering"
   ]
  },
  {
   "cell_type": "raw",
   "id": "43744aa4",
   "metadata": {},
   "source": [
    "1. Kmeans Clustering is an Unsupervised machine Learning Algorithm\n",
    "2. It is Useful for creating a clusters of different classes.\n",
    "3. We need to find out the value of K here in this Algorithm\n",
    "4. FOr finding the best value of K. We can Use ELBOW Method.\n",
    "5. Kmeans Clustering is a centroid based algorithm\n",
    "6. We always try to find out the similar properties in each cluster.\n",
    "7. And Also, We can sayl. It is distance based algorithm. It follows the distance Metrics"
   ]
  },
  {
   "cell_type": "markdown",
   "id": "e10b46c7",
   "metadata": {},
   "source": [
    "# KMeans Clustering Steps"
   ]
  },
  {
   "cell_type": "raw",
   "id": "347ccdd1",
   "metadata": {},
   "source": [
    "1. Select the value of K (Number of Centroids)  k = 3\n",
    "2. Select the random 3 Centroids. \n",
    "3. Calculate the distance between all the data points and centroids (3)\n",
    "4. Assign each data point to it's nearest or closest  K-Centroid\n",
    "5. Update the value of Centroids (Mean of clusters data points)\n",
    "6. Keep Iterating the centroids values until there is no change in the value of our centroids."
   ]
  },
  {
   "cell_type": "markdown",
   "id": "e8502fa3",
   "metadata": {},
   "source": [
    "# Application"
   ]
  },
  {
   "cell_type": "raw",
   "id": "fd46a58c",
   "metadata": {},
   "source": [
    "1. Document Classification (clustering)\n",
    "2. Image classification (clustering)\n",
    "3. Target advertisements"
   ]
  }
 ],
 "metadata": {
  "kernelspec": {
   "display_name": "Python 3 (ipykernel)",
   "language": "python",
   "name": "python3"
  },
  "language_info": {
   "codemirror_mode": {
    "name": "ipython",
    "version": 3
   },
   "file_extension": ".py",
   "mimetype": "text/x-python",
   "name": "python",
   "nbconvert_exporter": "python",
   "pygments_lexer": "ipython3",
   "version": "3.10.8"
  }
 },
 "nbformat": 4,
 "nbformat_minor": 5
}
