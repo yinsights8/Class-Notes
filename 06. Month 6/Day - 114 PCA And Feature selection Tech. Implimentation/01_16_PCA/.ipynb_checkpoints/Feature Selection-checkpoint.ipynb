{
 "cells": [
  {
   "cell_type": "markdown",
   "id": "f797baf3",
   "metadata": {},
   "source": [
    "# Feature Selection Methods"
   ]
  },
  {
   "cell_type": "raw",
   "id": "712f143c",
   "metadata": {},
   "source": [
    "1. Filter Method\n",
    "2. Wrapper Method\n",
    "3. Embedded Method"
   ]
  },
  {
   "cell_type": "markdown",
   "id": "398882ee",
   "metadata": {},
   "source": [
    "# 1. Filter Method"
   ]
  },
  {
   "cell_type": "raw",
   "id": "b7e689ff",
   "metadata": {},
   "source": [
    "1. coefficient of Correlation\n",
    "2. information Gain\n",
    "3. Missing Value Ratio\n",
    "4. Annova Test\n",
    "5. Fishers Score \n",
    "6. Mean Absolute Difference\n",
    "7. Chi-Square Test"
   ]
  },
  {
   "cell_type": "markdown",
   "id": "a28b8f90",
   "metadata": {},
   "source": [
    "# 2. Wrapper Method"
   ]
  },
  {
   "cell_type": "raw",
   "id": "83b22230",
   "metadata": {},
   "source": [
    "1. Forward Selection Method\n",
    "2. Backward Selection Method\n",
    "3. Recursive Feature Selection\n",
    "4. Exhaustive Feature Selection"
   ]
  },
  {
   "cell_type": "markdown",
   "id": "97f735f2",
   "metadata": {},
   "source": [
    "# 3. Embedded Method"
   ]
  },
  {
   "cell_type": "raw",
   "id": "6a1362e0",
   "metadata": {},
   "source": [
    "1. Regularization\n",
    "2. Random Forest importance Method"
   ]
  },
  {
   "cell_type": "markdown",
   "id": "d3bf5d29",
   "metadata": {},
   "source": [
    "# 1. Chi-Square Test"
   ]
  },
  {
   "cell_type": "raw",
   "id": "3ceeaf46",
   "metadata": {},
   "source": [
    ">> Chi-Square Test will find out the relationship between two Categorical Attributes \n",
    "(Input and Output)\n",
    "\n",
    "Null Hypothesis >> Two Variables are independent\n",
    "Alternate Hypothesis >> Two Variables are dependent\n",
    "\n",
    "p_val > 0.05 >> Two Variables are independent\n",
    "p_val <= 0.05 >> Two variables are dependent"
   ]
  },
  {
   "cell_type": "code",
   "execution_count": 1,
   "id": "6c8f90fa",
   "metadata": {},
   "outputs": [],
   "source": [
    "from sklearn.feature_selection import chi2\n",
    "\n",
    "import pandas as pd\n",
    "import numpy as np"
   ]
  },
  {
   "cell_type": "code",
   "execution_count": 24,
   "id": "93826a63",
   "metadata": {},
   "outputs": [
    {
     "data": {
      "text/html": [
       "<div>\n",
       "<style scoped>\n",
       "    .dataframe tbody tr th:only-of-type {\n",
       "        vertical-align: middle;\n",
       "    }\n",
       "\n",
       "    .dataframe tbody tr th {\n",
       "        vertical-align: top;\n",
       "    }\n",
       "\n",
       "    .dataframe thead th {\n",
       "        text-align: right;\n",
       "    }\n",
       "</style>\n",
       "<table border=\"1\" class=\"dataframe\">\n",
       "  <thead>\n",
       "    <tr style=\"text-align: right;\">\n",
       "      <th></th>\n",
       "      <th>Features</th>\n",
       "      <th>chi_square</th>\n",
       "      <th>p_val</th>\n",
       "    </tr>\n",
       "  </thead>\n",
       "  <tbody>\n",
       "    <tr>\n",
       "      <th>0</th>\n",
       "      <td>Pclass</td>\n",
       "      <td>30.115212</td>\n",
       "      <td>0.0000</td>\n",
       "    </tr>\n",
       "    <tr>\n",
       "      <th>1</th>\n",
       "      <td>Gender</td>\n",
       "      <td>166.544831</td>\n",
       "      <td>0.0000</td>\n",
       "    </tr>\n",
       "    <tr>\n",
       "      <th>2</th>\n",
       "      <td>SibSp</td>\n",
       "      <td>1.752958</td>\n",
       "      <td>0.1855</td>\n",
       "    </tr>\n",
       "    <tr>\n",
       "      <th>3</th>\n",
       "      <td>Parch</td>\n",
       "      <td>10.243662</td>\n",
       "      <td>0.0014</td>\n",
       "    </tr>\n",
       "    <tr>\n",
       "      <th>4</th>\n",
       "      <td>Q</td>\n",
       "      <td>0.088598</td>\n",
       "      <td>0.7660</td>\n",
       "    </tr>\n",
       "    <tr>\n",
       "      <th>5</th>\n",
       "      <td>S</td>\n",
       "      <td>6.149361</td>\n",
       "      <td>0.0131</td>\n",
       "    </tr>\n",
       "  </tbody>\n",
       "</table>\n",
       "</div>"
      ],
      "text/plain": [
       "  Features  chi_square   p_val\n",
       "0   Pclass   30.115212  0.0000\n",
       "1   Gender  166.544831  0.0000\n",
       "2    SibSp    1.752958  0.1855\n",
       "3    Parch   10.243662  0.0014\n",
       "4        Q    0.088598  0.7660\n",
       "5        S    6.149361  0.0131"
      ]
     },
     "execution_count": 24,
     "metadata": {},
     "output_type": "execute_result"
    }
   ],
   "source": [
    "df = pd.read_csv('titanic.csv')\n",
    "df['Gender'].replace({'male':0, 'female':1}, inplace = True)\n",
    "Embarked_df = pd.get_dummies(df['Embarked'], drop_first=True)\n",
    "# Embarked_df\n",
    "df = pd.concat([df,Embarked_df], axis = 1)\n",
    "# df.isna().sum()\n",
    "df.fillna(0,inplace = True)\n",
    "df.drop(['PassengerId','Name','Age','Ticket','Cabin','Fare','Embarked'], axis=1, inplace = True)\n",
    "# df.info()\n",
    "\n",
    "x = df.drop('Survived', axis = 1)\n",
    "y = df['Survived']\n",
    "\n",
    "\n",
    "chi_square,p_val = chi2(x,y)\n",
    "p_val = np.around(p_val,4)\n",
    "df_chisqr = pd.DataFrame({'Features':x.columns, 'chi_square':chi_square, 'p_val':p_val})\n",
    "df_chisqr"
   ]
  },
  {
   "cell_type": "code",
   "execution_count": 25,
   "id": "3db32a07",
   "metadata": {},
   "outputs": [
    {
     "data": {
      "text/html": [
       "<div>\n",
       "<style scoped>\n",
       "    .dataframe tbody tr th:only-of-type {\n",
       "        vertical-align: middle;\n",
       "    }\n",
       "\n",
       "    .dataframe tbody tr th {\n",
       "        vertical-align: top;\n",
       "    }\n",
       "\n",
       "    .dataframe thead th {\n",
       "        text-align: right;\n",
       "    }\n",
       "</style>\n",
       "<table border=\"1\" class=\"dataframe\">\n",
       "  <thead>\n",
       "    <tr style=\"text-align: right;\">\n",
       "      <th></th>\n",
       "      <th>Features</th>\n",
       "      <th>chi_square</th>\n",
       "      <th>p_val</th>\n",
       "    </tr>\n",
       "  </thead>\n",
       "  <tbody>\n",
       "    <tr>\n",
       "      <th>1</th>\n",
       "      <td>Gender</td>\n",
       "      <td>166.544831</td>\n",
       "      <td>0.0000</td>\n",
       "    </tr>\n",
       "    <tr>\n",
       "      <th>0</th>\n",
       "      <td>Pclass</td>\n",
       "      <td>30.115212</td>\n",
       "      <td>0.0000</td>\n",
       "    </tr>\n",
       "    <tr>\n",
       "      <th>3</th>\n",
       "      <td>Parch</td>\n",
       "      <td>10.243662</td>\n",
       "      <td>0.0014</td>\n",
       "    </tr>\n",
       "    <tr>\n",
       "      <th>5</th>\n",
       "      <td>S</td>\n",
       "      <td>6.149361</td>\n",
       "      <td>0.0131</td>\n",
       "    </tr>\n",
       "    <tr>\n",
       "      <th>2</th>\n",
       "      <td>SibSp</td>\n",
       "      <td>1.752958</td>\n",
       "      <td>0.1855</td>\n",
       "    </tr>\n",
       "    <tr>\n",
       "      <th>4</th>\n",
       "      <td>Q</td>\n",
       "      <td>0.088598</td>\n",
       "      <td>0.7660</td>\n",
       "    </tr>\n",
       "  </tbody>\n",
       "</table>\n",
       "</div>"
      ],
      "text/plain": [
       "  Features  chi_square   p_val\n",
       "1   Gender  166.544831  0.0000\n",
       "0   Pclass   30.115212  0.0000\n",
       "3    Parch   10.243662  0.0014\n",
       "5        S    6.149361  0.0131\n",
       "2    SibSp    1.752958  0.1855\n",
       "4        Q    0.088598  0.7660"
      ]
     },
     "execution_count": 25,
     "metadata": {},
     "output_type": "execute_result"
    }
   ],
   "source": [
    "df_chisqr.sort_values('chi_square', ascending=False)"
   ]
  },
  {
   "cell_type": "markdown",
   "id": "7e519add",
   "metadata": {},
   "source": [
    "# 2. Information Gain"
   ]
  },
  {
   "cell_type": "raw",
   "id": "3fe1be76",
   "metadata": {},
   "source": [
    "Information Gain >> Mutual Information"
   ]
  },
  {
   "cell_type": "code",
   "execution_count": 26,
   "id": "7618e44a",
   "metadata": {},
   "outputs": [],
   "source": [
    "from sklearn.feature_selection import mutual_info_classif"
   ]
  },
  {
   "cell_type": "code",
   "execution_count": 27,
   "id": "f3c15b2f",
   "metadata": {},
   "outputs": [
    {
     "data": {
      "text/plain": [
       "array([0.04626202, 0.14715954, 0.02990475, 0.05617039, 0.03362603,\n",
       "       0.03152288])"
      ]
     },
     "execution_count": 27,
     "metadata": {},
     "output_type": "execute_result"
    }
   ],
   "source": [
    "df = pd.read_csv('titanic.csv')\n",
    "df['Gender'].replace({'male':0, 'female':1}, inplace = True)\n",
    "Embarked_df = pd.get_dummies(df['Embarked'], drop_first=True)\n",
    "# Embarked_df\n",
    "df = pd.concat([df,Embarked_df], axis = 1)\n",
    "# df.isna().sum()\n",
    "df.fillna(0,inplace = True)\n",
    "df.drop(['PassengerId','Name','Age','Ticket','Cabin','Fare','Embarked'], axis=1, inplace = True)\n",
    "# df.info()\n",
    "\n",
    "x = df.drop('Survived', axis = 1)\n",
    "y = df['Survived']\n",
    "\n",
    "\n",
    "info_gain = mutual_info_classif(x,y)\n",
    "info_gain"
   ]
  },
  {
   "cell_type": "code",
   "execution_count": 29,
   "id": "f1cd989e",
   "metadata": {},
   "outputs": [
    {
     "data": {
      "text/plain": [
       "<AxesSubplot:>"
      ]
     },
     "execution_count": 29,
     "metadata": {},
     "output_type": "execute_result"
    },
    {
     "data": {
      "image/png": "[encoded data removed]",
      "text/plain": [
       "<Figure size 432x288 with 1 Axes>"
      ]
     },
     "metadata": {
      "needs_background": "light"
     },
     "output_type": "display_data"
    }
   ],
   "source": [
    "A1 = pd.Series(info_gain)\n",
    "A1.index = x.columns\n",
    "A1.sort_values(ascending=False).plot(kind = 'barh')"
   ]
  },
  {
   "cell_type": "markdown",
   "id": "fa249afc",
   "metadata": {},
   "source": [
    "# 3. Correlation"
   ]
  },
  {
   "cell_type": "code",
   "execution_count": 30,
   "id": "df991870",
   "metadata": {},
   "outputs": [],
   "source": [
    "import seaborn as sns\n",
    "import matplotlib.pyplot as plt"
   ]
  },
  {
   "cell_type": "code",
   "execution_count": 32,
   "id": "20aa14ef",
   "metadata": {},
   "outputs": [
    {
     "data": {
      "text/plain": [
       "<AxesSubplot:>"
      ]
     },
     "execution_count": 32,
     "metadata": {},
     "output_type": "execute_result"
    },
    {
     "data": {
      "image/png": "[encoded data removed]",
      "text/plain": [
       "<Figure size 720x360 with 2 Axes>"
      ]
     },
     "metadata": {
      "needs_background": "light"
     },
     "output_type": "display_data"
    }
   ],
   "source": [
    "plt.figure(figsize=(10,5))\n",
    "sns.heatmap(df.corr(), annot = True)"
   ]
  },
  {
   "cell_type": "markdown",
   "id": "ba3dcc11",
   "metadata": {},
   "source": [
    "# 4. Missing Value Ratio"
   ]
  },
  {
   "cell_type": "code",
   "execution_count": 34,
   "id": "5f2dafc3",
   "metadata": {},
   "outputs": [
    {
     "data": {
      "text/plain": [
       "Cabin          77.104377\n",
       "Age            19.865320\n",
       "Gender          0.336700\n",
       "Embarked        0.224467\n",
       "PassengerId     0.000000\n",
       "Survived        0.000000\n",
       "Pclass          0.000000\n",
       "Name            0.000000\n",
       "SibSp           0.000000\n",
       "Parch           0.000000\n",
       "Ticket          0.000000\n",
       "Fare            0.000000\n",
       "dtype: float64"
      ]
     },
     "execution_count": 34,
     "metadata": {},
     "output_type": "execute_result"
    }
   ],
   "source": [
    "df = pd.read_csv('titanic.csv')\n",
    "A1 = (df.isna().sum()/df.shape[0] * 100)\n",
    "A1.sort_values(ascending = False)"
   ]
  },
  {
   "cell_type": "markdown",
   "id": "4046fb75",
   "metadata": {},
   "source": [
    "# 5. Fishers Score"
   ]
  },
  {
   "cell_type": "raw",
   "id": "51584e9f",
   "metadata": {},
   "source": [
    "pip install skfeature-chappers"
   ]
  },
  {
   "cell_type": "code",
   "execution_count": 35,
   "id": "efd0a607",
   "metadata": {},
   "outputs": [],
   "source": [
    "from skfeature.function.similarity_based import fisher_score"
   ]
  },
  {
   "cell_type": "code",
   "execution_count": 39,
   "id": "b3322e09",
   "metadata": {},
   "outputs": [
    {
     "name": "stderr",
     "output_type": "stream",
     "text": [
      "C:\\Users\\hp\\anaconda3\\lib\\site-packages\\skfeature\\utility\\construct_W.py:194: FutureWarning: Support for multi-dimensional indexing (e.g. `obj[:, None]`) is deprecated and will be removed in a future version.  Convert to a numpy array before indexing instead.\n",
      "  class_idx_all = class_idx[:, np.newaxis] & class_idx[np.newaxis, :]\n",
      "C:\\Users\\hp\\anaconda3\\lib\\site-packages\\skfeature\\utility\\construct_W.py:194: FutureWarning: Support for multi-dimensional indexing (e.g. `obj[:, None]`) is deprecated and will be removed in a future version.  Convert to a numpy array before indexing instead.\n",
      "  class_idx_all = class_idx[:, np.newaxis] & class_idx[np.newaxis, :]\n"
     ]
    },
    {
     "data": {
      "text/plain": [
       "<AxesSubplot:>"
      ]
     },
     "execution_count": 39,
     "metadata": {},
     "output_type": "execute_result"
    },
    {
     "data": {
      "image/png": "[encoded data removed]",
      "text/plain": [
       "<Figure size 432x288 with 1 Axes>"
      ]
     },
     "metadata": {
      "needs_background": "light"
     },
     "output_type": "display_data"
    }
   ],
   "source": [
    "f_array = fisher_score.fisher_score(x.values,y)\n",
    "f_array\n",
    "\n",
    "\n",
    "s1 = pd.Series(f_array)\n",
    "s1.index = x.columns\n",
    "\n",
    "s1.sort_values(ascending=False).plot(kind = 'barh')"
   ]
  },
  {
   "cell_type": "code",
   "execution_count": null,
   "id": "2508b22a",
   "metadata": {},
   "outputs": [],
   "source": []
  }
 ],
 "metadata": {
  "kernelspec": {
   "display_name": "Python 3 (ipykernel)",
   "language": "python",
   "name": "python3"
  },
  "language_info": {
   "codemirror_mode": {
    "name": "ipython",
    "version": 3
   },
   "file_extension": ".py",
   "mimetype": "text/x-python",
   "name": "python",
   "nbconvert_exporter": "python",
   "pygments_lexer": "ipython3",
   "version": "3.10.8"
  }
 },
 "nbformat": 4,
 "nbformat_minor": 5
}
