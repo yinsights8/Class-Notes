{
 "cells": [
  {
   "cell_type": "markdown",
   "id": "fc7f07c4",
   "metadata": {},
   "source": [
    "# 1. Outliers"
   ]
  },
  {
   "cell_type": "raw",
   "id": "46876ded",
   "metadata": {},
   "source": [
    "Data Points which is far away from the observation is called as Outliers"
   ]
  },
  {
   "cell_type": "markdown",
   "id": "1218662e",
   "metadata": {},
   "source": [
    "# 2. How Outliers will get introduced in the data or DataSets"
   ]
  },
  {
   "cell_type": "raw",
   "id": "c0c52721",
   "metadata": {},
   "source": [
    "1. Data Entry Errors  >> Human Errors (10000 - 15000 >> 100000)\n",
    "2. Measurement Errors >> Machine Errors / Instrument Errors\n",
    "3. Intentional Errors >> Dummy Datasets\n",
    "4. Sampling Errrors   >> Mixing data from the wrong resources\n",
    "5. Natural Errors     >> Most of the actual datasets are having natural errors"
   ]
  },
  {
   "cell_type": "markdown",
   "id": "5931d5d9",
   "metadata": {},
   "source": [
    "# 3. Impact of Outliers"
   ]
  },
  {
   "cell_type": "raw",
   "id": "b03a68ec",
   "metadata": {},
   "source": [
    "1. High impact on Mean and Std\n",
    "2. It will reduce the power of Statistical analysis\n",
    "3. Impact on Normality\n",
    "4. Algorithms do not perform well in presence of Outlieres (Accuracy)"
   ]
  },
  {
   "cell_type": "markdown",
   "id": "ef68e1a3",
   "metadata": {},
   "source": [
    "# 4. How to Detect Outliers "
   ]
  },
  {
   "cell_type": "raw",
   "id": "44d124cd",
   "metadata": {},
   "source": [
    "1. Z-Score Method\n",
    "2. IQR Method\n",
    "3. BoxPlot\n",
    "4. ScatterPlot"
   ]
  },
  {
   "cell_type": "markdown",
   "id": "7e66e811",
   "metadata": {},
   "source": [
    "# 5. Remove Outliers/How to reduce an impact of Outliers"
   ]
  },
  {
   "cell_type": "raw",
   "id": "a46cd649",
   "metadata": {},
   "source": [
    "1. Delete the Observations/Outliers from the Data\n",
    "2. Imputation (Mean, Median, Mode and Zero)\n",
    "3. Tranforming Values >> (Log, Squareroot, CubeRoot,Reciprocal,Standardization, Normalization)"
   ]
  },
  {
   "cell_type": "markdown",
   "id": "ca720547",
   "metadata": {},
   "source": [
    "# 6. Impact of Outliers on the ML Algorithms"
   ]
  },
  {
   "cell_type": "markdown",
   "id": "da7ee676",
   "metadata": {},
   "source": [
    "### 6.1 Sensitive to Outliers"
   ]
  },
  {
   "cell_type": "raw",
   "id": "8c821d4c",
   "metadata": {},
   "source": [
    "1. Linear Regression\n",
    "2. Logistic Regression\n",
    "3. KNN Algorithm\n",
    "4. Support Vector Machine\n",
    "5. KMeans Clustering\n",
    "6. Neural Network (Deep Learning)"
   ]
  },
  {
   "cell_type": "markdown",
   "id": "8b0b4e50",
   "metadata": {},
   "source": [
    "# 6.2 Not Sensitive to Outliers "
   ]
  },
  {
   "cell_type": "raw",
   "id": "fd1c0cb9",
   "metadata": {},
   "source": [
    "1. Decision Tree\n",
    "2. Random Forest\n",
    "3. AdaBoost\n",
    "4. Naive Bayes Classifier\n",
    "5. XGBoost\n",
    "6. GradientBoost"
   ]
  },
  {
   "cell_type": "markdown",
   "id": "743e9997",
   "metadata": {},
   "source": [
    "# 7. How to find out the Outliers from the Data"
   ]
  },
  {
   "cell_type": "code",
   "execution_count": 1,
   "id": "778c3de3",
   "metadata": {},
   "outputs": [],
   "source": [
    "import pandas as pd\n",
    "import numpy as np\n",
    "\n",
    "import seaborn as sns\n",
    "import matplotlib.pyplot as plt"
   ]
  },
  {
   "cell_type": "code",
   "execution_count": 2,
   "id": "72a6f32a",
   "metadata": {},
   "outputs": [
    {
     "data": {
      "text/plain": [
       "array([35, 32, 30, 36, 29, 20, 23, 26, 24, 35, 27, 29, 20, 25, 22, 34, 35,\n",
       "       33, 39, 34])"
      ]
     },
     "execution_count": 2,
     "metadata": {},
     "output_type": "execute_result"
    }
   ],
   "source": [
    "array1 = np.random.randint(20,40, size = 20)\n",
    "array1"
   ]
  },
  {
   "cell_type": "code",
   "execution_count": 3,
   "id": "8011a7db",
   "metadata": {},
   "outputs": [
    {
     "data": {
      "text/plain": [
       "array([ 26,  34, 211,  39,  31,  38,  35,  33,  36,  35,  28,  34,  24,\n",
       "        32, 220,  24,  35,  31, 260,  34])"
      ]
     },
     "execution_count": 3,
     "metadata": {},
     "output_type": "execute_result"
    }
   ],
   "source": [
    "array2 = np.array([26, 34, 211, 39, 31, 38, 35, 33, 36, 35, 28, 34, 24, 32, 220, 24, 35,\n",
    "       31, 260, 34])\n",
    "array2"
   ]
  },
  {
   "cell_type": "markdown",
   "id": "5ff80ba7",
   "metadata": {},
   "source": [
    "# Normality Assumption"
   ]
  },
  {
   "cell_type": "code",
   "execution_count": 4,
   "id": "841126a5",
   "metadata": {},
   "outputs": [
    {
     "data": {
      "text/plain": [
       "<AxesSubplot:ylabel='Density'>"
      ]
     },
     "execution_count": 4,
     "metadata": {},
     "output_type": "execute_result"
    },
    {
     "data": {
      "image/png": "[encoded data removed]",
      "text/plain": [
       "<Figure size 432x288 with 1 Axes>"
      ]
     },
     "metadata": {
      "needs_background": "light"
     },
     "output_type": "display_data"
    }
   ],
   "source": [
    "sns.kdeplot(array1, fill = True)"
   ]
  },
  {
   "cell_type": "code",
   "execution_count": 5,
   "id": "ef230525",
   "metadata": {},
   "outputs": [
    {
     "data": {
      "text/plain": [
       "<AxesSubplot:ylabel='Density'>"
      ]
     },
     "execution_count": 5,
     "metadata": {},
     "output_type": "execute_result"
    },
    {
     "data": {
      "image/png": "[encoded data removed]",
      "text/plain": [
       "<Figure size 432x288 with 1 Axes>"
      ]
     },
     "metadata": {
      "needs_background": "light"
     },
     "output_type": "display_data"
    }
   ],
   "source": [
    "sns.kdeplot(array2, fill = True)"
   ]
  },
  {
   "cell_type": "code",
   "execution_count": 6,
   "id": "ef216b8b",
   "metadata": {},
   "outputs": [],
   "source": [
    "from scipy.stats import normaltest,shapiro"
   ]
  },
  {
   "cell_type": "code",
   "execution_count": 7,
   "id": "86d57281",
   "metadata": {},
   "outputs": [
    {
     "name": "stdout",
     "output_type": "stream",
     "text": [
      "Data is normally distributed\n"
     ]
    }
   ],
   "source": [
    "status,p_val = normaltest(array1)\n",
    "p_val\n",
    "\n",
    "\n",
    "if p_val > 0.05:\n",
    "    print('Data is normally distributed')\n",
    "    \n",
    "else:\n",
    "    print('Data is not Normally DIstributed')"
   ]
  },
  {
   "cell_type": "code",
   "execution_count": 8,
   "id": "b60d3138",
   "metadata": {},
   "outputs": [
    {
     "name": "stdout",
     "output_type": "stream",
     "text": [
      "Data is not Normally DIstributed\n"
     ]
    }
   ],
   "source": [
    "status,p_val = normaltest(array2)\n",
    "p_val\n",
    "\n",
    "\n",
    "if p_val > 0.05:\n",
    "    print('Data is normally distributed')\n",
    "    \n",
    "else:\n",
    "    print('Data is not Normally DIstributed')"
   ]
  },
  {
   "cell_type": "code",
   "execution_count": 9,
   "id": "3d21f72b",
   "metadata": {},
   "outputs": [
    {
     "name": "stdout",
     "output_type": "stream",
     "text": [
      "Data is not Normally DIstributed\n"
     ]
    }
   ],
   "source": [
    "status,p_val = shapiro(array2)\n",
    "p_val\n",
    "\n",
    "\n",
    "if p_val > 0.05:\n",
    "    print('Data is normally distributed')\n",
    "    \n",
    "else:\n",
    "    print('Data is not Normally DIstributed')"
   ]
  },
  {
   "cell_type": "code",
   "execution_count": 10,
   "id": "e8287a0c",
   "metadata": {},
   "outputs": [
    {
     "name": "stdout",
     "output_type": "stream",
     "text": [
      "Data is normally distributed\n"
     ]
    }
   ],
   "source": [
    "status,p_val = shapiro(array1)\n",
    "p_val\n",
    "\n",
    "\n",
    "if p_val > 0.05:\n",
    "    print('Data is normally distributed')\n",
    "    \n",
    "else:\n",
    "    print('Data is not Normally DIstributed')"
   ]
  },
  {
   "cell_type": "markdown",
   "id": "3806acd9",
   "metadata": {},
   "source": [
    "# 1. Z-Score Method"
   ]
  },
  {
   "cell_type": "raw",
   "id": "614088e6",
   "metadata": {},
   "source": [
    "Z-Score assumes that the data is Normally Distributed (Data is Following Gaussian Distribuation)\n",
    "\n",
    "z-Score = (X - Xmean)/Std\n",
    "\n",
    "X >> Actual values"
   ]
  },
  {
   "cell_type": "code",
   "execution_count": 11,
   "id": "6e8cb78e",
   "metadata": {},
   "outputs": [
    {
     "data": {
      "text/plain": [
       "array([35, 32, 30, 36, 29, 20, 23, 26, 24, 35, 27, 29, 20, 25, 22, 34, 35,\n",
       "       33, 39, 34])"
      ]
     },
     "execution_count": 11,
     "metadata": {},
     "output_type": "execute_result"
    }
   ],
   "source": [
    "array1"
   ]
  },
  {
   "cell_type": "code",
   "execution_count": 12,
   "id": "4874070d",
   "metadata": {},
   "outputs": [
    {
     "data": {
      "text/plain": [
       "array([ 26,  34, 211,  39,  31,  38,  35,  33,  36,  35,  28,  34,  24,\n",
       "        32, 220,  24,  35,  31, 260,  34])"
      ]
     },
     "execution_count": 12,
     "metadata": {},
     "output_type": "execute_result"
    }
   ],
   "source": [
    "array2"
   ]
  },
  {
   "cell_type": "code",
   "execution_count": 13,
   "id": "a7cef644",
   "metadata": {},
   "outputs": [
    {
     "name": "stdout",
     "output_type": "stream",
     "text": [
      "[35 32 30 36 29 20 23 26 24 35 27 29 20 25 22 34 35 33 39 34]\n",
      "\n",
      "Mean of an array1 is : 29.4\n",
      "Std of an array1 is : 5.616048432839589\n",
      "Detected Outliers are : []\n"
     ]
    }
   ],
   "source": [
    "print(array1)\n",
    "mean = np.mean(array1)\n",
    "# mean = df['ColumnName'].mean()\n",
    "std = np.std(array1)\n",
    "print()\n",
    "print('Mean of an array1 is :', mean)\n",
    "print('Std of an array1 is :', std)\n",
    "\n",
    "threshold = 3\n",
    "outliers = []\n",
    "\n",
    "for x_val in array1:\n",
    "#     print(x_val)\n",
    "    z_score = (x_val - mean)/std\n",
    "#     print(x_val,z_score)\n",
    "    if np.abs(z_score) > threshold:\n",
    "        outliers.append(x_val)\n",
    "        \n",
    "print('Detected Outliers are :', outliers)"
   ]
  },
  {
   "cell_type": "code",
   "execution_count": 14,
   "id": "76df97ed",
   "metadata": {},
   "outputs": [
    {
     "name": "stdout",
     "output_type": "stream",
     "text": [
      "[ 26  34 211  39  31  38  35  33  36  35  28  34  24  32 220  24  35  31\n",
      " 260  34]\n",
      "\n",
      "Mean of an array2 is : 62.0\n",
      "Std of an array2 is : 71.30638120112393\n",
      "Detected Outliers are : [211, 220, 260]\n"
     ]
    }
   ],
   "source": [
    "print(array2)\n",
    "mean = np.mean(array2)\n",
    "# mean = df['ColumnName'].mean()\n",
    "std = np.std(array2)\n",
    "print()\n",
    "print('Mean of an array2 is :', mean)\n",
    "print('Std of an array2 is :', std)\n",
    "\n",
    "threshold = 1\n",
    "outliers = []\n",
    "\n",
    "for x_val in array2:\n",
    "#     print(x_val)\n",
    "    z_score = (x_val - mean)/std\n",
    "#     print(x_val,z_score)\n",
    "    if np.abs(z_score) > threshold:\n",
    "        outliers.append(x_val)\n",
    "        \n",
    "print('Detected Outliers are :', outliers)\n",
    "\n",
    "\n",
    "# Accuracy might be 80%\n",
    "# Accuracy might be 82%"
   ]
  },
  {
   "cell_type": "code",
   "execution_count": 15,
   "id": "486335dc",
   "metadata": {},
   "outputs": [
    {
     "data": {
      "text/plain": [
       "array([ 26,  34, 211,  39,  31,  38,  35,  33,  36,  35,  28,  34,  24,\n",
       "        32, 220,  24,  35,  31, 260,  34])"
      ]
     },
     "execution_count": 15,
     "metadata": {},
     "output_type": "execute_result"
    }
   ],
   "source": [
    "array2"
   ]
  },
  {
   "cell_type": "code",
   "execution_count": 16,
   "id": "7fcbbc6a",
   "metadata": {},
   "outputs": [
    {
     "name": "stdout",
     "output_type": "stream",
     "text": [
      "\n",
      "Mean of an array2 is : 4800.0\n",
      "Std of an array2 is : 21287.531083219765\n",
      "Detected Outliers are : [100000]\n"
     ]
    }
   ],
   "source": [
    "array2 = np.array([ 26,  34, 211,  39,  31,  38,  35,  33,  36,  35,  28,  34,  24,\n",
    "        32, -220,  24,  35,  31, 260,  34,100000])\n",
    "\n",
    "mean = np.mean(array2)\n",
    "# mean = df['ColumnName'].mean()\n",
    "std = np.std(array2)\n",
    "print()\n",
    "print('Mean of an array2 is :', mean)\n",
    "print('Std of an array2 is :', std)\n",
    "\n",
    "threshold = 3\n",
    "outliers = []\n",
    "\n",
    "for x_val in array2:\n",
    "#     print(x_val)\n",
    "    z_score = (x_val - mean)/std\n",
    "#     print(x_val,z_score)\n",
    "    if np.abs(z_score) > threshold:\n",
    "        outliers.append(x_val)\n",
    "        \n",
    "print('Detected Outliers are :', outliers)\n"
   ]
  },
  {
   "cell_type": "markdown",
   "id": "27c351be",
   "metadata": {},
   "source": [
    "# 2. IQR Method"
   ]
  },
  {
   "cell_type": "raw",
   "id": "19e49df2",
   "metadata": {},
   "source": [
    "IQR  >> Inter Quartile Range"
   ]
  },
  {
   "cell_type": "code",
   "execution_count": 19,
   "id": "7fcee657",
   "metadata": {},
   "outputs": [
    {
     "name": "stdout",
     "output_type": "stream",
     "text": [
      "[35 32 30 36 29 20 23 26 24 35 27 29 20 25 22 34 35 33 39 34]\n"
     ]
    },
    {
     "name": "stderr",
     "output_type": "stream",
     "text": [
      "C:\\Users\\hp\\anaconda3\\lib\\site-packages\\seaborn\\_decorators.py:36: FutureWarning: Pass the following variable as a keyword arg: x. From version 0.12, the only valid positional argument will be `data`, and passing other arguments without an explicit keyword will result in an error or misinterpretation.\n",
      "  warnings.warn(\n"
     ]
    },
    {
     "data": {
      "text/plain": [
       "<AxesSubplot:>"
      ]
     },
     "execution_count": 19,
     "metadata": {},
     "output_type": "execute_result"
    },
    {
     "data": {
      "image/png": "[encoded data removed]",
      "text/plain": [
       "<Figure size 432x288 with 1 Axes>"
      ]
     },
     "metadata": {
      "needs_background": "light"
     },
     "output_type": "display_data"
    }
   ],
   "source": [
    "print(array1)\n",
    "sns.boxplot(array1)"
   ]
  },
  {
   "cell_type": "code",
   "execution_count": 21,
   "id": "9ed37c0f",
   "metadata": {},
   "outputs": [
    {
     "name": "stdout",
     "output_type": "stream",
     "text": [
      "[    26     34    211     39     31     38     35     33     36     35\n",
      "     28     34     24     32   -220     24     35     31    260     34\n",
      " 100000]\n"
     ]
    }
   ],
   "source": [
    "print(array2)"
   ]
  },
  {
   "cell_type": "code",
   "execution_count": 22,
   "id": "784dd0db",
   "metadata": {},
   "outputs": [
    {
     "name": "stderr",
     "output_type": "stream",
     "text": [
      "C:\\Users\\hp\\anaconda3\\lib\\site-packages\\seaborn\\_decorators.py:36: FutureWarning: Pass the following variable as a keyword arg: x. From version 0.12, the only valid positional argument will be `data`, and passing other arguments without an explicit keyword will result in an error or misinterpretation.\n",
      "  warnings.warn(\n"
     ]
    },
    {
     "data": {
      "text/plain": [
       "<AxesSubplot:>"
      ]
     },
     "execution_count": 22,
     "metadata": {},
     "output_type": "execute_result"
    },
    {
     "data": {
      "image/png": "[encoded data removed]",
      "text/plain": [
       "<Figure size 432x288 with 1 Axes>"
      ]
     },
     "metadata": {
      "needs_background": "light"
     },
     "output_type": "display_data"
    }
   ],
   "source": [
    "array2 = np.array([26, 34, 211, 39, 31, 38, 35, 33, 36, 35, 28, 34, 24, 32, 220, 24, 35,\n",
    "       31, 260, 34])\n",
    "sns.boxplot(array2)"
   ]
  },
  {
   "cell_type": "code",
   "execution_count": 23,
   "id": "df946a31",
   "metadata": {},
   "outputs": [
    {
     "name": "stderr",
     "output_type": "stream",
     "text": [
      "C:\\Users\\hp\\anaconda3\\lib\\site-packages\\seaborn\\_decorators.py:36: FutureWarning: Pass the following variable as a keyword arg: x. From version 0.12, the only valid positional argument will be `data`, and passing other arguments without an explicit keyword will result in an error or misinterpretation.\n",
      "  warnings.warn(\n"
     ]
    },
    {
     "data": {
      "text/plain": [
       "<AxesSubplot:>"
      ]
     },
     "execution_count": 23,
     "metadata": {},
     "output_type": "execute_result"
    },
    {
     "data": {
      "image/png": "[encoded data removed]",
      "text/plain": [
       "<Figure size 432x288 with 1 Axes>"
      ]
     },
     "metadata": {
      "needs_background": "light"
     },
     "output_type": "display_data"
    }
   ],
   "source": [
    "array2 = np.array([26, 34, 211, 39, 31, 38, 35, 33, 36, 35, 28, 34, 24, 32,-300, 220, 24, 35,\n",
    "       31, 260, 34])\n",
    "sns.boxplot(array2)"
   ]
  },
  {
   "cell_type": "raw",
   "id": "fdd75bd8",
   "metadata": {},
   "source": [
    "Q1 = 1st Quartile  >> 25th Percentile data\n",
    "Q2 = 2nd Quartile  >> 50th Percentile data\n",
    "Q3 = 3rd Quartile  >> 75th Percentile data\n",
    "\n",
    "IQR = Q3 - Q1\n",
    "\n",
    "Q1 - 1.5 * IQR\n",
    "Q3 + 1.5 * IQR"
   ]
  },
  {
   "cell_type": "code",
   "execution_count": 28,
   "id": "8bea0fbb",
   "metadata": {},
   "outputs": [
    {
     "name": "stdout",
     "output_type": "stream",
     "text": [
      "q1 = 31.0, q3 = 36.5\n",
      "5.5\n",
      "Lower tail is : 22.75\n",
      "Upper tail is : 44.75\n"
     ]
    }
   ],
   "source": [
    "array2 = np.array([26, 34, 211, 39, 31, 38, 35, 33, 36, 35, 28, 34, 24, 32,220, 24, 35,\n",
    "       31, 260, 34])\n",
    "\n",
    "# sns.boxplot(array2)\n",
    "\n",
    "q1 = np.quantile(array2,0.25)\n",
    "q3 = np.quantile(array2,0.75)\n",
    "\n",
    "print(f'q1 = {q1}, q3 = {q3}')\n",
    "\n",
    "iqr = q3 - q1\n",
    "print(iqr)\n",
    "\n",
    "lower_tail = q1 - 1.5 * iqr \n",
    "upper_tail = q3 + 1.5 * iqr   # Normal Outliers\n",
    "\n",
    "print('Lower tail is :', lower_tail)\n",
    "print('Upper tail is :', upper_tail)"
   ]
  },
  {
   "cell_type": "code",
   "execution_count": 30,
   "id": "4e967570",
   "metadata": {},
   "outputs": [
    {
     "name": "stderr",
     "output_type": "stream",
     "text": [
      "C:\\Users\\hp\\anaconda3\\lib\\site-packages\\seaborn\\_decorators.py:36: FutureWarning: Pass the following variable as a keyword arg: x. From version 0.12, the only valid positional argument will be `data`, and passing other arguments without an explicit keyword will result in an error or misinterpretation.\n",
      "  warnings.warn(\n"
     ]
    },
    {
     "name": "stdout",
     "output_type": "stream",
     "text": [
      "q1 = 31.0, q3 = 36.5\n",
      "5.5\n",
      "Lower tail is : 14.5\n",
      "Upper tail is : 53.0\n"
     ]
    },
    {
     "data": {
      "image/png": "[encoded data removed]",
      "text/plain": [
       "<Figure size 432x288 with 1 Axes>"
      ]
     },
     "metadata": {
      "needs_background": "light"
     },
     "output_type": "display_data"
    }
   ],
   "source": [
    "array2 = np.array([26, 34, 211, 39, 31, 38, 35, 33, 36, 35, 28, 34, 24, 32,220, 24, 35,\n",
    "       31, 260, 34])\n",
    "\n",
    "sns.boxplot(array2)\n",
    "\n",
    "q1 = np.quantile(array2,0.25)\n",
    "q3 = np.quantile(array2,0.75)\n",
    "\n",
    "print(f'q1 = {q1}, q3 = {q3}')\n",
    "\n",
    "iqr = q3 - q1\n",
    "print(iqr)\n",
    "\n",
    "lower_tail = q1 - 3 * iqr\n",
    "upper_tail = q3 + 3 * iqr   # Extreme Outliers\n",
    "\n",
    "print('Lower tail is :', lower_tail)\n",
    "print('Upper tail is :', upper_tail)"
   ]
  },
  {
   "cell_type": "code",
   "execution_count": 32,
   "id": "80e84c46",
   "metadata": {},
   "outputs": [
    {
     "data": {
      "text/html": [
       "<div>\n",
       "<style scoped>\n",
       "    .dataframe tbody tr th:only-of-type {\n",
       "        vertical-align: middle;\n",
       "    }\n",
       "\n",
       "    .dataframe tbody tr th {\n",
       "        vertical-align: top;\n",
       "    }\n",
       "\n",
       "    .dataframe thead th {\n",
       "        text-align: right;\n",
       "    }\n",
       "</style>\n",
       "<table border=\"1\" class=\"dataframe\">\n",
       "  <thead>\n",
       "    <tr style=\"text-align: right;\">\n",
       "      <th></th>\n",
       "      <th>PassengerId</th>\n",
       "      <th>Survived</th>\n",
       "      <th>Pclass</th>\n",
       "      <th>Age</th>\n",
       "      <th>SibSp</th>\n",
       "      <th>Parch</th>\n",
       "      <th>Fare</th>\n",
       "    </tr>\n",
       "  </thead>\n",
       "  <tbody>\n",
       "    <tr>\n",
       "      <th>count</th>\n",
       "      <td>891.000000</td>\n",
       "      <td>891.000000</td>\n",
       "      <td>891.000000</td>\n",
       "      <td>714.000000</td>\n",
       "      <td>891.000000</td>\n",
       "      <td>891.000000</td>\n",
       "      <td>891.000000</td>\n",
       "    </tr>\n",
       "    <tr>\n",
       "      <th>mean</th>\n",
       "      <td>446.000000</td>\n",
       "      <td>0.386083</td>\n",
       "      <td>2.308642</td>\n",
       "      <td>29.699118</td>\n",
       "      <td>0.523008</td>\n",
       "      <td>0.381594</td>\n",
       "      <td>32.204208</td>\n",
       "    </tr>\n",
       "    <tr>\n",
       "      <th>std</th>\n",
       "      <td>257.353842</td>\n",
       "      <td>0.487123</td>\n",
       "      <td>0.836071</td>\n",
       "      <td>14.526497</td>\n",
       "      <td>1.102743</td>\n",
       "      <td>0.806057</td>\n",
       "      <td>49.693429</td>\n",
       "    </tr>\n",
       "    <tr>\n",
       "      <th>min</th>\n",
       "      <td>1.000000</td>\n",
       "      <td>0.000000</td>\n",
       "      <td>1.000000</td>\n",
       "      <td>0.420000</td>\n",
       "      <td>0.000000</td>\n",
       "      <td>0.000000</td>\n",
       "      <td>0.000000</td>\n",
       "    </tr>\n",
       "    <tr>\n",
       "      <th>25%</th>\n",
       "      <td>223.500000</td>\n",
       "      <td>0.000000</td>\n",
       "      <td>2.000000</td>\n",
       "      <td>20.125000</td>\n",
       "      <td>0.000000</td>\n",
       "      <td>0.000000</td>\n",
       "      <td>7.910400</td>\n",
       "    </tr>\n",
       "    <tr>\n",
       "      <th>50%</th>\n",
       "      <td>446.000000</td>\n",
       "      <td>0.000000</td>\n",
       "      <td>3.000000</td>\n",
       "      <td>28.000000</td>\n",
       "      <td>0.000000</td>\n",
       "      <td>0.000000</td>\n",
       "      <td>14.454200</td>\n",
       "    </tr>\n",
       "    <tr>\n",
       "      <th>75%</th>\n",
       "      <td>668.500000</td>\n",
       "      <td>1.000000</td>\n",
       "      <td>3.000000</td>\n",
       "      <td>38.000000</td>\n",
       "      <td>1.000000</td>\n",
       "      <td>0.000000</td>\n",
       "      <td>31.000000</td>\n",
       "    </tr>\n",
       "    <tr>\n",
       "      <th>max</th>\n",
       "      <td>891.000000</td>\n",
       "      <td>1.000000</td>\n",
       "      <td>3.000000</td>\n",
       "      <td>80.000000</td>\n",
       "      <td>8.000000</td>\n",
       "      <td>6.000000</td>\n",
       "      <td>512.329200</td>\n",
       "    </tr>\n",
       "  </tbody>\n",
       "</table>\n",
       "</div>"
      ],
      "text/plain": [
       "       PassengerId    Survived      Pclass         Age       SibSp  \\\n",
       "count   891.000000  891.000000  891.000000  714.000000  891.000000   \n",
       "mean    446.000000    0.386083    2.308642   29.699118    0.523008   \n",
       "std     257.353842    0.487123    0.836071   14.526497    1.102743   \n",
       "min       1.000000    0.000000    1.000000    0.420000    0.000000   \n",
       "25%     223.500000    0.000000    2.000000   20.125000    0.000000   \n",
       "50%     446.000000    0.000000    3.000000   28.000000    0.000000   \n",
       "75%     668.500000    1.000000    3.000000   38.000000    1.000000   \n",
       "max     891.000000    1.000000    3.000000   80.000000    8.000000   \n",
       "\n",
       "            Parch        Fare  \n",
       "count  891.000000  891.000000  \n",
       "mean     0.381594   32.204208  \n",
       "std      0.806057   49.693429  \n",
       "min      0.000000    0.000000  \n",
       "25%      0.000000    7.910400  \n",
       "50%      0.000000   14.454200  \n",
       "75%      0.000000   31.000000  \n",
       "max      6.000000  512.329200  "
      ]
     },
     "execution_count": 32,
     "metadata": {},
     "output_type": "execute_result"
    }
   ],
   "source": [
    "df = pd.read_csv('titanic.csv')\n",
    "df.describe()"
   ]
  },
  {
   "cell_type": "code",
   "execution_count": 34,
   "id": "8e42039c",
   "metadata": {},
   "outputs": [
    {
     "name": "stdout",
     "output_type": "stream",
     "text": [
      "20.125 28.0 38.0\n"
     ]
    }
   ],
   "source": [
    "q1 = df['Age'].quantile(0.25)\n",
    "q2 = df['Age'].quantile(0.50)\n",
    "q3 = df['Age'].quantile(0.75)\n",
    "\n",
    "print(q1,q2,q3)"
   ]
  },
  {
   "cell_type": "code",
   "execution_count": 35,
   "id": "b32e1075",
   "metadata": {},
   "outputs": [
    {
     "name": "stdout",
     "output_type": "stream",
     "text": [
      "Lower tail is : -6.6875\n",
      "Upper tail is : 64.8125\n"
     ]
    }
   ],
   "source": [
    "iqr = q3 - q1\n",
    "\n",
    "lower_tail = q1 - 1.5 * iqr\n",
    "upper_tail = q3 + 1.5 * iqr  # Normal Outliers\n",
    "\n",
    "print('Lower tail is :', lower_tail)\n",
    "print('Upper tail is :', upper_tail)"
   ]
  },
  {
   "cell_type": "code",
   "execution_count": 36,
   "id": "e75331af",
   "metadata": {},
   "outputs": [
    {
     "name": "stderr",
     "output_type": "stream",
     "text": [
      "C:\\Users\\hp\\anaconda3\\lib\\site-packages\\seaborn\\_decorators.py:36: FutureWarning: Pass the following variable as a keyword arg: x. From version 0.12, the only valid positional argument will be `data`, and passing other arguments without an explicit keyword will result in an error or misinterpretation.\n",
      "  warnings.warn(\n"
     ]
    },
    {
     "data": {
      "text/plain": [
       "<AxesSubplot:xlabel='Age'>"
      ]
     },
     "execution_count": 36,
     "metadata": {},
     "output_type": "execute_result"
    },
    {
     "data": {
      "image/png": "[encoded data removed]",
      "text/plain": [
       "<Figure size 432x288 with 1 Axes>"
      ]
     },
     "metadata": {
      "needs_background": "light"
     },
     "output_type": "display_data"
    }
   ],
   "source": [
    "sns.boxplot(df['Age'])"
   ]
  },
  {
   "cell_type": "code",
   "execution_count": 37,
   "id": "ed6c2613",
   "metadata": {},
   "outputs": [
    {
     "data": {
      "text/plain": [
       "<AxesSubplot:>"
      ]
     },
     "execution_count": 37,
     "metadata": {},
     "output_type": "execute_result"
    },
    {
     "data": {
      "image/png": "[encoded data removed]",
      "text/plain": [
       "<Figure size 432x288 with 1 Axes>"
      ]
     },
     "metadata": {
      "needs_background": "light"
     },
     "output_type": "display_data"
    }
   ],
   "source": [
    "df.boxplot('Age')"
   ]
  },
  {
   "cell_type": "code",
   "execution_count": null,
   "id": "89244215",
   "metadata": {},
   "outputs": [],
   "source": []
  }
 ],
 "metadata": {
  "kernelspec": {
   "display_name": "Python 3 (ipykernel)",
   "language": "python",
   "name": "python3"
  },
  "language_info": {
   "codemirror_mode": {
    "name": "ipython",
    "version": 3
   },
   "file_extension": ".py",
   "mimetype": "text/x-python",
   "name": "python",
   "nbconvert_exporter": "python",
   "pygments_lexer": "ipython3",
   "version": "3.10.8"
  }
 },
 "nbformat": 4,
 "nbformat_minor": 5
}
