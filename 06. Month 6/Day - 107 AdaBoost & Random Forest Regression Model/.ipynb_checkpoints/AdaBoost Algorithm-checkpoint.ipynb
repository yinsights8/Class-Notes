{
 "cells": [
  {
   "cell_type": "markdown",
   "id": "41e5dd66",
   "metadata": {},
   "source": [
    "# Ensemble Methods "
   ]
  },
  {
   "cell_type": "raw",
   "id": "e01d682d",
   "metadata": {},
   "source": [
    "1. Bagging  >> Parallel Approach\n",
    "2. Boosting >> Sequential Approach"
   ]
  },
  {
   "cell_type": "markdown",
   "id": "cb409632",
   "metadata": {},
   "source": [
    "# Boosting Algorithm"
   ]
  },
  {
   "cell_type": "raw",
   "id": "a4697791",
   "metadata": {},
   "source": [
    "1. AdaBoosting\n",
    "2. XGBoosting\n",
    "3. GradientBoosting"
   ]
  },
  {
   "cell_type": "code",
   "execution_count": null,
   "id": "5d9c9dbb",
   "metadata": {},
   "outputs": [],
   "source": [
    "Modical Domain:\n",
    "    \n",
    "    X1 >> Chest Pain\n",
    "    X2 >> Block Art.\n",
    "    X3 >> BP\n",
    "    Y  >> Target (Heart Disease)\n",
    "\n",
    "\n",
    "     X1      X2     X3     Y     SW      NSW      SW2       Bucket\n",
    "        \n",
    "1    Y       Y     180    Yes    1/8     0.05     0.07     0.00 to 0.07   \n",
    "2    N       Y     200    Yes    1/8     0.05     0.07     0.07 to 0.14  \n",
    "3    Y       N     120    Yes    1/8     0.05     0.07     0.14 to 0.21\n",
    "4    Y       Y     100    Yes    1/8     0.33     0.48     0.21 to 0.69\n",
    "5    N       Y     130    No     1/8     0.05     0.07     0.69 to 0.76\n",
    "6    N       Y     150    No     1/8     0.05     0.07     0.76 to 0.83\n",
    "7    Y       N     110    No     1/8     0.05     0.07     0.83 to 0.90\n",
    "8    Y       Y     105    No     1/8     0.05     0.07     0.90 to 1(0.97)  #Bucket range >> 0 to 1"
   ]
  },
  {
   "cell_type": "code",
   "execution_count": null,
   "id": "2e20c22a",
   "metadata": {},
   "outputs": [],
   "source": [
    "New Dataset for next WL:\n",
    "    \n",
    "\n",
    "RW          RN    X1      X2     X3     Y\n",
    "\n",
    "0.54         4    Y       Y     100    Yes\n",
    "0.15         3    Y       N     120    Yes \n",
    "0.92         8    Y       Y     105    No\n",
    "0.88         7    Y       N     110    No\n",
    "0.65         4    Y       Y     100    Yes\n",
    "0.45         4    Y       Y     100    Yes\n",
    "0.23         4    Y       Y     100    Yes\n",
    "0.05         1    Y       Y     180    Yes\n",
    "\n",
    "Total Number of unique rows >> 5\n",
    "4Th rows >> 4 \n",
    "Other Rows >> 1,3,7,8"
   ]
  },
  {
   "cell_type": "code",
   "execution_count": null,
   "id": "ab8945f5",
   "metadata": {},
   "outputs": [],
   "source": [
    "Sample Weight  = 1 / (Total Number of DataPoints)\n",
    "\n",
    "Model Performance = 1/2 * loge((1 - TE)/TE)\n",
    "\n",
    "Total Error (TE) = Number of Misclassified Data Points / Total Number of Data Points\n",
    "\n",
    "New_Sample_Weight(COrrectly Classified Data Points) = old weight * E^(-Model Performance)\n",
    "New_Sample_Weight(Misclassified Data Points) = old weight * E^(Model Performance)"
   ]
  },
  {
   "cell_type": "code",
   "execution_count": 1,
   "id": "2aad2c17",
   "metadata": {},
   "outputs": [],
   "source": [
    "import numpy as np"
   ]
  },
  {
   "cell_type": "code",
   "execution_count": 2,
   "id": "b0aa7cad",
   "metadata": {},
   "outputs": [
    {
     "data": {
      "text/plain": [
       "0.125"
      ]
     },
     "execution_count": 2,
     "metadata": {},
     "output_type": "execute_result"
    }
   ],
   "source": [
    "1/8"
   ]
  },
  {
   "cell_type": "code",
   "execution_count": 3,
   "id": "65f2710a",
   "metadata": {},
   "outputs": [
    {
     "data": {
      "text/plain": [
       "0.9729550745276566"
      ]
     },
     "execution_count": 3,
     "metadata": {},
     "output_type": "execute_result"
    }
   ],
   "source": [
    "model_per = 1/2 * np.log((1 - 0.125)/0.125)\n",
    "model_per"
   ]
  },
  {
   "cell_type": "code",
   "execution_count": 4,
   "id": "9e14e628",
   "metadata": {},
   "outputs": [
    {
     "data": {
      "text/plain": [
       "0.047385379762924854"
      ]
     },
     "execution_count": 4,
     "metadata": {},
     "output_type": "execute_result"
    }
   ],
   "source": [
    "np.exp(-0.97) * 1/8"
   ]
  },
  {
   "cell_type": "code",
   "execution_count": null,
   "id": "5c3ffbf8",
   "metadata": {},
   "outputs": [],
   "source": [
    "correctly classified data points >> 0.05"
   ]
  },
  {
   "cell_type": "code",
   "execution_count": 5,
   "id": "697fb4d2",
   "metadata": {},
   "outputs": [
    {
     "data": {
      "text/plain": [
       "0.32974305741926907"
      ]
     },
     "execution_count": 5,
     "metadata": {},
     "output_type": "execute_result"
    }
   ],
   "source": [
    "np.exp(0.97) * 1/8"
   ]
  },
  {
   "cell_type": "code",
   "execution_count": null,
   "id": "90bd9172",
   "metadata": {},
   "outputs": [],
   "source": [
    "misclassified data points >> 0.33"
   ]
  },
  {
   "cell_type": "code",
   "execution_count": 6,
   "id": "b7042c5d",
   "metadata": {},
   "outputs": [
    {
     "data": {
      "text/plain": [
       "0.68"
      ]
     },
     "execution_count": 6,
     "metadata": {},
     "output_type": "execute_result"
    }
   ],
   "source": [
    "0.05 * 7 + 0.33"
   ]
  },
  {
   "cell_type": "code",
   "execution_count": 7,
   "id": "14707249",
   "metadata": {},
   "outputs": [
    {
     "data": {
      "text/plain": [
       "0.07352941176470588"
      ]
     },
     "execution_count": 7,
     "metadata": {},
     "output_type": "execute_result"
    }
   ],
   "source": [
    "0.05/0.68"
   ]
  },
  {
   "cell_type": "code",
   "execution_count": 8,
   "id": "b3d787f5",
   "metadata": {},
   "outputs": [
    {
     "data": {
      "text/plain": [
       "0.4852941176470588"
      ]
     },
     "execution_count": 8,
     "metadata": {},
     "output_type": "execute_result"
    }
   ],
   "source": [
    "0.33/0.68"
   ]
  },
  {
   "cell_type": "code",
   "execution_count": null,
   "id": "ec7d15b6",
   "metadata": {},
   "outputs": [],
   "source": []
  }
 ],
 "metadata": {
  "kernelspec": {
   "display_name": "Python 3 (ipykernel)",
   "language": "python",
   "name": "python3"
  },
  "language_info": {
   "codemirror_mode": {
    "name": "ipython",
    "version": 3
   },
   "file_extension": ".py",
   "mimetype": "text/x-python",
   "name": "python",
   "nbconvert_exporter": "python",
   "pygments_lexer": "ipython3",
   "version": "3.10.8"
  }
 },
 "nbformat": 4,
 "nbformat_minor": 5
}
