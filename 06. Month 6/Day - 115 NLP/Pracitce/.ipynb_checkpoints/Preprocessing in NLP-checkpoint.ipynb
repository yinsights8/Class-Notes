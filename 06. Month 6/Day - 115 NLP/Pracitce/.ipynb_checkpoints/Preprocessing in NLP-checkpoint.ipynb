{
 "cells": [
  {
   "cell_type": "code",
   "execution_count": 1,
   "id": "bc28341a",
   "metadata": {},
   "outputs": [],
   "source": [
    "#!pip install nltk"
   ]
  },
  {
   "cell_type": "code",
   "execution_count": 2,
   "id": "8c89460b",
   "metadata": {},
   "outputs": [],
   "source": [
    "#!pip install contractions"
   ]
  },
  {
   "cell_type": "code",
   "execution_count": 38,
   "id": "54897149",
   "metadata": {},
   "outputs": [],
   "source": [
    "import nltk\n",
    "from nltk.tokenize import word_tokenize, sent_tokenize, WhitespaceTokenizer\n",
    "from nltk.corpus import stopwords\n",
    "from string import punctuation\n",
    "import contractions\n",
    "from unidecode import unidecode\n",
    "from nltk.stem import LancasterStemmer, WordNetLemmatizer ## it is a prunning technique\n",
    "# LancasterStemmer, WordNetLemmatizer :- \n",
    "   # it is use to limitse the words"
   ]
  },
  {
   "cell_type": "code",
   "execution_count": 4,
   "id": "eb189762",
   "metadata": {},
   "outputs": [],
   "source": [
    "text = \"\"\"The Moon is a barren, rocky world without air and water. \n",
    "It has dark lava plain on its surface. \n",
    "The Moon is filled wit craters. \n",
    "It has no light of its own. \n",
    "It gets its light from the Sun. The Moo keeps changing its shape as it moves round the Earth. \n",
    "It spins on its axis in 27.3 days stars were named after the Edwin Aldrin were the first ones \n",
    "to set their foot on the Moon on 21 July 1969 They reached the Moon in\n",
    "their space craft named Apollo II.\"\"\""
   ]
  },
  {
   "cell_type": "code",
   "execution_count": 5,
   "id": "e0da1a25",
   "metadata": {},
   "outputs": [
    {
     "name": "stderr",
     "output_type": "stream",
     "text": [
      "[nltk_data] Downloading package punkt to\n",
      "[nltk_data]     C:\\Users\\yashd\\AppData\\Roaming\\nltk_data...\n",
      "[nltk_data]   Package punkt is already up-to-date!\n"
     ]
    },
    {
     "data": {
      "text/plain": [
       "True"
      ]
     },
     "execution_count": 5,
     "metadata": {},
     "output_type": "execute_result"
    }
   ],
   "source": [
    "nltk.download(\"punkt\")"
   ]
  },
  {
   "cell_type": "code",
   "execution_count": 6,
   "id": "e3b45fd2",
   "metadata": {},
   "outputs": [
    {
     "data": {
      "text/plain": [
       "['The Moon is a barren, rocky world without air and water.',\n",
       " 'It has dark lava plain on its surface.',\n",
       " 'The Moon is filled wit craters.',\n",
       " 'It has no light of its own.',\n",
       " 'It gets its light from the Sun.',\n",
       " 'The Moo keeps changing its shape as it moves round the Earth.',\n",
       " 'It spins on its axis in 27.3 days stars were named after the Edwin Aldrin were the first ones \\nto set their foot on the Moon on 21 July 1969 They reached the Moon in\\ntheir space craft named Apollo II.']"
      ]
     },
     "execution_count": 6,
     "metadata": {},
     "output_type": "execute_result"
    }
   ],
   "source": [
    "# Tokenization\n",
    "## Sentance tokenization\n",
    "sent = sent_tokenize(text=text)\n",
    "sent"
   ]
  },
  {
   "cell_type": "code",
   "execution_count": 7,
   "id": "f5b64279",
   "metadata": {},
   "outputs": [
    {
     "data": {
      "text/plain": [
       "['The',\n",
       " 'Moon',\n",
       " 'is',\n",
       " 'a',\n",
       " 'barren',\n",
       " ',',\n",
       " 'rocky',\n",
       " 'world',\n",
       " 'without',\n",
       " 'air',\n",
       " 'and',\n",
       " 'water',\n",
       " '.',\n",
       " 'It',\n",
       " 'has',\n",
       " 'dark',\n",
       " 'lava',\n",
       " 'plain',\n",
       " 'on',\n",
       " 'its',\n",
       " 'surface',\n",
       " '.',\n",
       " 'The',\n",
       " 'Moon',\n",
       " 'is',\n",
       " 'filled',\n",
       " 'wit',\n",
       " 'craters',\n",
       " '.',\n",
       " 'It',\n",
       " 'has',\n",
       " 'no',\n",
       " 'light',\n",
       " 'of',\n",
       " 'its',\n",
       " 'own',\n",
       " '.',\n",
       " 'It',\n",
       " 'gets',\n",
       " 'its',\n",
       " 'light',\n",
       " 'from',\n",
       " 'the',\n",
       " 'Sun',\n",
       " '.',\n",
       " 'The',\n",
       " 'Moo',\n",
       " 'keeps',\n",
       " 'changing',\n",
       " 'its',\n",
       " 'shape',\n",
       " 'as',\n",
       " 'it',\n",
       " 'moves',\n",
       " 'round',\n",
       " 'the',\n",
       " 'Earth',\n",
       " '.',\n",
       " 'It',\n",
       " 'spins',\n",
       " 'on',\n",
       " 'its',\n",
       " 'axis',\n",
       " 'in',\n",
       " '27.3',\n",
       " 'days',\n",
       " 'stars',\n",
       " 'were',\n",
       " 'named',\n",
       " 'after',\n",
       " 'the',\n",
       " 'Edwin',\n",
       " 'Aldrin',\n",
       " 'were',\n",
       " 'the',\n",
       " 'first',\n",
       " 'ones',\n",
       " 'to',\n",
       " 'set',\n",
       " 'their',\n",
       " 'foot',\n",
       " 'on',\n",
       " 'the',\n",
       " 'Moon',\n",
       " 'on',\n",
       " '21',\n",
       " 'July',\n",
       " '1969',\n",
       " 'They',\n",
       " 'reached',\n",
       " 'the',\n",
       " 'Moon',\n",
       " 'in',\n",
       " 'their',\n",
       " 'space',\n",
       " 'craft',\n",
       " 'named',\n",
       " 'Apollo',\n",
       " 'II',\n",
       " '.']"
      ]
     },
     "execution_count": 7,
     "metadata": {},
     "output_type": "execute_result"
    }
   ],
   "source": [
    "## WOrd tokanization :- it split the sentence according to spaces\n",
    "\n",
    "token = word_tokenize(text)\n",
    "token"
   ]
  },
  {
   "cell_type": "code",
   "execution_count": 8,
   "id": "22b8f694",
   "metadata": {},
   "outputs": [
    {
     "data": {
      "text/plain": [
       "['The',\n",
       " 'Moon',\n",
       " 'is',\n",
       " 'a',\n",
       " 'barren,',\n",
       " 'rocky',\n",
       " 'world',\n",
       " 'without',\n",
       " 'air',\n",
       " 'and',\n",
       " 'water.',\n",
       " 'It',\n",
       " 'has',\n",
       " 'dark',\n",
       " 'lava',\n",
       " 'plain',\n",
       " 'on',\n",
       " 'its',\n",
       " 'surface.',\n",
       " 'The',\n",
       " 'Moon',\n",
       " 'is',\n",
       " 'filled',\n",
       " 'wit',\n",
       " 'craters.',\n",
       " 'It',\n",
       " 'has',\n",
       " 'no',\n",
       " 'light',\n",
       " 'of',\n",
       " 'its',\n",
       " 'own.',\n",
       " 'It',\n",
       " 'gets',\n",
       " 'its',\n",
       " 'light',\n",
       " 'from',\n",
       " 'the',\n",
       " 'Sun.',\n",
       " 'The',\n",
       " 'Moo',\n",
       " 'keeps',\n",
       " 'changing',\n",
       " 'its',\n",
       " 'shape',\n",
       " 'as',\n",
       " 'it',\n",
       " 'moves',\n",
       " 'round',\n",
       " 'the',\n",
       " 'Earth.',\n",
       " 'It',\n",
       " 'spins',\n",
       " 'on',\n",
       " 'its',\n",
       " 'axis',\n",
       " 'in',\n",
       " '27.3',\n",
       " 'days',\n",
       " 'stars',\n",
       " 'were',\n",
       " 'named',\n",
       " 'after',\n",
       " 'the',\n",
       " 'Edwin',\n",
       " 'Aldrin',\n",
       " 'were',\n",
       " 'the',\n",
       " 'first',\n",
       " 'ones',\n",
       " 'to',\n",
       " 'set',\n",
       " 'their',\n",
       " 'foot',\n",
       " 'on',\n",
       " 'the',\n",
       " 'Moon',\n",
       " 'on',\n",
       " '21',\n",
       " 'July',\n",
       " '1969',\n",
       " 'They',\n",
       " 'reached',\n",
       " 'the',\n",
       " 'Moon',\n",
       " 'in',\n",
       " 'their',\n",
       " 'space',\n",
       " 'craft',\n",
       " 'named',\n",
       " 'Apollo',\n",
       " 'II.']"
      ]
     },
     "execution_count": 8,
     "metadata": {},
     "output_type": "execute_result"
    }
   ],
   "source": [
    "## whitespace tokenization\n",
    "white = WhitespaceTokenizer().tokenize(text)\n",
    "white"
   ]
  },
  {
   "cell_type": "code",
   "execution_count": 9,
   "id": "68fab836",
   "metadata": {},
   "outputs": [
    {
     "data": {
      "text/plain": [
       "['the',\n",
       " 'moon',\n",
       " 'is',\n",
       " 'a',\n",
       " 'barren',\n",
       " ',',\n",
       " 'rocky',\n",
       " 'world',\n",
       " 'without',\n",
       " 'air',\n",
       " 'and',\n",
       " 'water',\n",
       " '.',\n",
       " 'it',\n",
       " 'has',\n",
       " 'dark',\n",
       " 'lava',\n",
       " 'plain',\n",
       " 'on',\n",
       " 'its',\n",
       " 'surface',\n",
       " '.',\n",
       " 'the',\n",
       " 'moon',\n",
       " 'is',\n",
       " 'filled',\n",
       " 'wit',\n",
       " 'craters',\n",
       " '.',\n",
       " 'it',\n",
       " 'has',\n",
       " 'no',\n",
       " 'light',\n",
       " 'of',\n",
       " 'its',\n",
       " 'own',\n",
       " '.',\n",
       " 'it',\n",
       " 'gets',\n",
       " 'its',\n",
       " 'light',\n",
       " 'from',\n",
       " 'the',\n",
       " 'sun',\n",
       " '.',\n",
       " 'the',\n",
       " 'moo',\n",
       " 'keeps',\n",
       " 'changing',\n",
       " 'its',\n",
       " 'shape',\n",
       " 'as',\n",
       " 'it',\n",
       " 'moves',\n",
       " 'round',\n",
       " 'the',\n",
       " 'earth',\n",
       " '.',\n",
       " 'it',\n",
       " 'spins',\n",
       " 'on',\n",
       " 'its',\n",
       " 'axis',\n",
       " 'in',\n",
       " '27.3',\n",
       " 'days',\n",
       " 'stars',\n",
       " 'were',\n",
       " 'named',\n",
       " 'after',\n",
       " 'the',\n",
       " 'edwin',\n",
       " 'aldrin',\n",
       " 'were',\n",
       " 'the',\n",
       " 'first',\n",
       " 'ones',\n",
       " 'to',\n",
       " 'set',\n",
       " 'their',\n",
       " 'foot',\n",
       " 'on',\n",
       " 'the',\n",
       " 'moon',\n",
       " 'on',\n",
       " '21',\n",
       " 'july',\n",
       " '1969',\n",
       " 'they',\n",
       " 'reached',\n",
       " 'the',\n",
       " 'moon',\n",
       " 'in',\n",
       " 'their',\n",
       " 'space',\n",
       " 'craft',\n",
       " 'named',\n",
       " 'apollo',\n",
       " 'ii',\n",
       " '.']"
      ]
     },
     "execution_count": 9,
     "metadata": {},
     "output_type": "execute_result"
    }
   ],
   "source": [
    "## Nornalization\n",
    "lower_words = [word.lower() for word in token]\n",
    "lower_words"
   ]
  },
  {
   "cell_type": "code",
   "execution_count": 10,
   "id": "f4ab86b4",
   "metadata": {},
   "outputs": [
    {
     "data": {
      "text/plain": [
       "'!\"#$%&\\'()*+,-./:;<=>?@[\\\\]^_`{|}~'"
      ]
     },
     "execution_count": 10,
     "metadata": {},
     "output_type": "execute_result"
    }
   ],
   "source": [
    "## puctuations\n",
    "punctuation"
   ]
  },
  {
   "cell_type": "code",
   "execution_count": 11,
   "id": "8e082749",
   "metadata": {},
   "outputs": [
    {
     "data": {
      "text/plain": [
       "['the',\n",
       " 'moon',\n",
       " 'is',\n",
       " 'a',\n",
       " 'barren',\n",
       " 'rocky',\n",
       " 'world',\n",
       " 'without',\n",
       " 'air',\n",
       " 'and',\n",
       " 'water',\n",
       " 'it',\n",
       " 'has',\n",
       " 'dark',\n",
       " 'lava',\n",
       " 'plain',\n",
       " 'on',\n",
       " 'its',\n",
       " 'surface',\n",
       " 'the',\n",
       " 'moon',\n",
       " 'is',\n",
       " 'filled',\n",
       " 'wit',\n",
       " 'craters',\n",
       " 'it',\n",
       " 'has',\n",
       " 'no',\n",
       " 'light',\n",
       " 'of',\n",
       " 'its',\n",
       " 'own',\n",
       " 'it',\n",
       " 'gets',\n",
       " 'its',\n",
       " 'light',\n",
       " 'from',\n",
       " 'the',\n",
       " 'sun',\n",
       " 'the',\n",
       " 'moo',\n",
       " 'keeps',\n",
       " 'changing',\n",
       " 'its',\n",
       " 'shape',\n",
       " 'as',\n",
       " 'it',\n",
       " 'moves',\n",
       " 'round',\n",
       " 'the',\n",
       " 'earth',\n",
       " 'it',\n",
       " 'spins',\n",
       " 'on',\n",
       " 'its',\n",
       " 'axis',\n",
       " 'in',\n",
       " '27.3',\n",
       " 'days',\n",
       " 'stars',\n",
       " 'were',\n",
       " 'named',\n",
       " 'after',\n",
       " 'the',\n",
       " 'edwin',\n",
       " 'aldrin',\n",
       " 'were',\n",
       " 'the',\n",
       " 'first',\n",
       " 'ones',\n",
       " 'to',\n",
       " 'set',\n",
       " 'their',\n",
       " 'foot',\n",
       " 'on',\n",
       " 'the',\n",
       " 'moon',\n",
       " 'on',\n",
       " '21',\n",
       " 'july',\n",
       " '1969',\n",
       " 'they',\n",
       " 'reached',\n",
       " 'the',\n",
       " 'moon',\n",
       " 'in',\n",
       " 'their',\n",
       " 'space',\n",
       " 'craft',\n",
       " 'named',\n",
       " 'apollo',\n",
       " 'ii']"
      ]
     },
     "execution_count": 11,
     "metadata": {},
     "output_type": "execute_result"
    }
   ],
   "source": [
    "# removing punctuations/ symboles\n",
    "word_without_punct = [word for word in lower_words if word not in punctuation]\n",
    "word_without_punct"
   ]
  },
  {
   "cell_type": "code",
   "execution_count": 12,
   "id": "3d8553a2",
   "metadata": {},
   "outputs": [
    {
     "name": "stderr",
     "output_type": "stream",
     "text": [
      "[nltk_data] Downloading package stopwords to\n",
      "[nltk_data]     C:\\Users\\yashd\\AppData\\Roaming\\nltk_data...\n",
      "[nltk_data]   Package stopwords is already up-to-date!\n"
     ]
    },
    {
     "data": {
      "text/plain": [
       "True"
      ]
     },
     "execution_count": 12,
     "metadata": {},
     "output_type": "execute_result"
    }
   ],
   "source": [
    "nltk.download(\"stopwords\")"
   ]
  },
  {
   "cell_type": "code",
   "execution_count": 13,
   "id": "731e41f2",
   "metadata": {},
   "outputs": [
    {
     "data": {
      "text/plain": [
       "['i',\n",
       " 'me',\n",
       " 'my',\n",
       " 'myself',\n",
       " 'we',\n",
       " 'our',\n",
       " 'ours',\n",
       " 'ourselves',\n",
       " 'you',\n",
       " \"you're\",\n",
       " \"you've\",\n",
       " \"you'll\",\n",
       " \"you'd\",\n",
       " 'your',\n",
       " 'yours',\n",
       " 'yourself',\n",
       " 'yourselves',\n",
       " 'he',\n",
       " 'him',\n",
       " 'his',\n",
       " 'himself',\n",
       " 'she',\n",
       " \"she's\",\n",
       " 'her',\n",
       " 'hers',\n",
       " 'herself',\n",
       " 'it',\n",
       " \"it's\",\n",
       " 'its',\n",
       " 'itself',\n",
       " 'they',\n",
       " 'them',\n",
       " 'their',\n",
       " 'theirs',\n",
       " 'themselves',\n",
       " 'what',\n",
       " 'which',\n",
       " 'who',\n",
       " 'whom',\n",
       " 'this',\n",
       " 'that',\n",
       " \"that'll\",\n",
       " 'these',\n",
       " 'those',\n",
       " 'am',\n",
       " 'is',\n",
       " 'are',\n",
       " 'was',\n",
       " 'were',\n",
       " 'be',\n",
       " 'been',\n",
       " 'being',\n",
       " 'have',\n",
       " 'has',\n",
       " 'had',\n",
       " 'having',\n",
       " 'do',\n",
       " 'does',\n",
       " 'did',\n",
       " 'doing',\n",
       " 'a',\n",
       " 'an',\n",
       " 'the',\n",
       " 'and',\n",
       " 'but',\n",
       " 'if',\n",
       " 'or',\n",
       " 'because',\n",
       " 'as',\n",
       " 'until',\n",
       " 'while',\n",
       " 'of',\n",
       " 'at',\n",
       " 'by',\n",
       " 'for',\n",
       " 'with',\n",
       " 'about',\n",
       " 'against',\n",
       " 'between',\n",
       " 'into',\n",
       " 'through',\n",
       " 'during',\n",
       " 'before',\n",
       " 'after',\n",
       " 'above',\n",
       " 'below',\n",
       " 'to',\n",
       " 'from',\n",
       " 'up',\n",
       " 'down',\n",
       " 'in',\n",
       " 'out',\n",
       " 'on',\n",
       " 'off',\n",
       " 'over',\n",
       " 'under',\n",
       " 'again',\n",
       " 'further',\n",
       " 'then',\n",
       " 'once',\n",
       " 'here',\n",
       " 'there',\n",
       " 'when',\n",
       " 'where',\n",
       " 'why',\n",
       " 'how',\n",
       " 'all',\n",
       " 'any',\n",
       " 'both',\n",
       " 'each',\n",
       " 'few',\n",
       " 'more',\n",
       " 'most',\n",
       " 'other',\n",
       " 'some',\n",
       " 'such',\n",
       " 'no',\n",
       " 'nor',\n",
       " 'not',\n",
       " 'only',\n",
       " 'own',\n",
       " 'same',\n",
       " 'so',\n",
       " 'than',\n",
       " 'too',\n",
       " 'very',\n",
       " 's',\n",
       " 't',\n",
       " 'can',\n",
       " 'will',\n",
       " 'just',\n",
       " 'don',\n",
       " \"don't\",\n",
       " 'should',\n",
       " \"should've\",\n",
       " 'now',\n",
       " 'd',\n",
       " 'll',\n",
       " 'm',\n",
       " 'o',\n",
       " 're',\n",
       " 've',\n",
       " 'y',\n",
       " 'ain',\n",
       " 'aren',\n",
       " \"aren't\",\n",
       " 'couldn',\n",
       " \"couldn't\",\n",
       " 'didn',\n",
       " \"didn't\",\n",
       " 'doesn',\n",
       " \"doesn't\",\n",
       " 'hadn',\n",
       " \"hadn't\",\n",
       " 'hasn',\n",
       " \"hasn't\",\n",
       " 'haven',\n",
       " \"haven't\",\n",
       " 'isn',\n",
       " \"isn't\",\n",
       " 'ma',\n",
       " 'mightn',\n",
       " \"mightn't\",\n",
       " 'mustn',\n",
       " \"mustn't\",\n",
       " 'needn',\n",
       " \"needn't\",\n",
       " 'shan',\n",
       " \"shan't\",\n",
       " 'shouldn',\n",
       " \"shouldn't\",\n",
       " 'wasn',\n",
       " \"wasn't\",\n",
       " 'weren',\n",
       " \"weren't\",\n",
       " 'won',\n",
       " \"won't\",\n",
       " 'wouldn',\n",
       " \"wouldn't\"]"
      ]
     },
     "execution_count": 13,
     "metadata": {},
     "output_type": "execute_result"
    }
   ],
   "source": [
    "stopword_list = stopwords.words(\"english\")\n",
    "stopword_list"
   ]
  },
  {
   "cell_type": "code",
   "execution_count": 14,
   "id": "b66872bb",
   "metadata": {},
   "outputs": [
    {
     "data": {
      "text/plain": [
       "['moon',\n",
       " 'barren',\n",
       " 'rocky',\n",
       " 'world',\n",
       " 'without',\n",
       " 'air',\n",
       " 'water',\n",
       " 'dark',\n",
       " 'lava',\n",
       " 'plain',\n",
       " 'surface',\n",
       " 'moon',\n",
       " 'filled',\n",
       " 'wit',\n",
       " 'craters',\n",
       " 'light',\n",
       " 'gets',\n",
       " 'light',\n",
       " 'sun',\n",
       " 'moo',\n",
       " 'keeps',\n",
       " 'changing',\n",
       " 'shape',\n",
       " 'moves',\n",
       " 'round',\n",
       " 'earth',\n",
       " 'spins',\n",
       " 'axis',\n",
       " '27.3',\n",
       " 'days',\n",
       " 'stars',\n",
       " 'named',\n",
       " 'edwin',\n",
       " 'aldrin',\n",
       " 'first',\n",
       " 'ones',\n",
       " 'set',\n",
       " 'foot',\n",
       " 'moon',\n",
       " '21',\n",
       " 'july',\n",
       " '1969',\n",
       " 'reached',\n",
       " 'moon',\n",
       " 'space',\n",
       " 'craft',\n",
       " 'named',\n",
       " 'apollo',\n",
       " 'ii']"
      ]
     },
     "execution_count": 14,
     "metadata": {},
     "output_type": "execute_result"
    }
   ],
   "source": [
    "## removing stop words\n",
    "word_without_stopwords = [word for word in word_without_punct if word not in stopword_list]\n",
    "word_without_stopwords"
   ]
  },
  {
   "cell_type": "code",
   "execution_count": 15,
   "id": "93de5793",
   "metadata": {},
   "outputs": [
    {
     "data": {
      "text/plain": [
       "'i did not like the movie'"
      ]
     },
     "execution_count": 15,
     "metadata": {},
     "output_type": "execute_result"
    }
   ],
   "source": [
    "## Contraction mapping :- it expand the word like didn't = did not, haven't = have not\n",
    "text1 = \"i didn't like the movie\"\n",
    "expanded_text = contractions.fix(text1)\n",
    "expanded_text"
   ]
  },
  {
   "cell_type": "code",
   "execution_count": 16,
   "id": "e863cc9b",
   "metadata": {},
   "outputs": [
    {
     "data": {
      "text/plain": [
       "'i have not done this'"
      ]
     },
     "execution_count": 16,
     "metadata": {},
     "output_type": "execute_result"
    }
   ],
   "source": [
    "text1 = \"i haven't done this\"\n",
    "expanded_text = contractions.fix(text1)\n",
    "expanded_text"
   ]
  },
  {
   "cell_type": "code",
   "execution_count": 17,
   "id": "328fbb28",
   "metadata": {},
   "outputs": [
    {
     "data": {
      "text/plain": [
       "'i cannot go to the movie'"
      ]
     },
     "execution_count": 17,
     "metadata": {},
     "output_type": "execute_result"
    }
   ],
   "source": [
    "text1 = \"i can't go to the movie\" # only for this word contraction mapping does not work\n",
    "expanded_text = contractions.fix(text1)\n",
    "expanded_text\n",
    "# in this case we manually mapping the contraction\n",
    "# {\"can't\": \"can not\"}"
   ]
  },
  {
   "cell_type": "code",
   "execution_count": 19,
   "id": "1fc05363",
   "metadata": {},
   "outputs": [
    {
     "data": {
      "text/plain": [
       "'you should not go to the movie'"
      ]
     },
     "execution_count": 19,
     "metadata": {},
     "output_type": "execute_result"
    }
   ],
   "source": [
    "text1 = \"you shouldn't go to the movie\"\n",
    "expanded_text = contractions.fix(text1)\n",
    "expanded_text"
   ]
  },
  {
   "cell_type": "code",
   "execution_count": null,
   "id": "81134905",
   "metadata": {},
   "outputs": [],
   "source": []
  },
  {
   "cell_type": "code",
   "execution_count": 29,
   "id": "44583e43",
   "metadata": {},
   "outputs": [
    {
     "name": "stderr",
     "output_type": "stream",
     "text": [
      "[nltk_data] Downloading package wordnet to\n",
      "[nltk_data]     C:\\Users\\yashd\\AppData\\Roaming\\nltk_data...\n",
      "[nltk_data]   Package wordnet is already up-to-date!\n",
      "[nltk_data] Downloading package omw-1.4 to\n",
      "[nltk_data]     C:\\Users\\yashd\\AppData\\Roaming\\nltk_data...\n"
     ]
    },
    {
     "data": {
      "text/plain": [
       "True"
      ]
     },
     "execution_count": 29,
     "metadata": {},
     "output_type": "execute_result"
    }
   ],
   "source": [
    "nltk.download(\"wordnet\")\n",
    "nltk.download(\"omw-1.4\")"
   ]
  },
  {
   "cell_type": "code",
   "execution_count": 32,
   "id": "366a415e",
   "metadata": {},
   "outputs": [
    {
     "name": "stdout",
     "output_type": "stream",
     "text": [
      "original word:- moon\n",
      "Stemmed_word:- moon\n",
      "lemmitised_word:- moon\n",
      "******************************\n",
      "original word:- barren\n",
      "Stemmed_word:- bar\n",
      "lemmitised_word:- barren\n",
      "******************************\n",
      "original word:- rocky\n",
      "Stemmed_word:- rocky\n",
      "lemmitised_word:- rocky\n",
      "******************************\n",
      "original word:- world\n",
      "Stemmed_word:- world\n",
      "lemmitised_word:- world\n",
      "******************************\n",
      "original word:- without\n",
      "Stemmed_word:- without\n",
      "lemmitised_word:- without\n",
      "******************************\n",
      "original word:- air\n",
      "Stemmed_word:- air\n",
      "lemmitised_word:- air\n",
      "******************************\n",
      "original word:- water\n",
      "Stemmed_word:- wat\n",
      "lemmitised_word:- water\n",
      "******************************\n",
      "original word:- dark\n",
      "Stemmed_word:- dark\n",
      "lemmitised_word:- dark\n",
      "******************************\n",
      "original word:- lava\n",
      "Stemmed_word:- lav\n",
      "lemmitised_word:- lava\n",
      "******************************\n",
      "original word:- plain\n",
      "Stemmed_word:- plain\n",
      "lemmitised_word:- plain\n",
      "******************************\n",
      "original word:- surface\n",
      "Stemmed_word:- surfac\n",
      "lemmitised_word:- surface\n",
      "******************************\n",
      "original word:- moon\n",
      "Stemmed_word:- moon\n",
      "lemmitised_word:- moon\n",
      "******************************\n",
      "original word:- filled\n",
      "Stemmed_word:- fil\n",
      "lemmitised_word:- filled\n",
      "******************************\n",
      "original word:- wit\n",
      "Stemmed_word:- wit\n",
      "lemmitised_word:- wit\n",
      "******************************\n",
      "original word:- craters\n",
      "Stemmed_word:- crat\n",
      "lemmitised_word:- crater\n",
      "******************************\n",
      "original word:- light\n",
      "Stemmed_word:- light\n",
      "lemmitised_word:- light\n",
      "******************************\n",
      "original word:- gets\n",
      "Stemmed_word:- get\n",
      "lemmitised_word:- get\n",
      "******************************\n",
      "original word:- light\n",
      "Stemmed_word:- light\n",
      "lemmitised_word:- light\n",
      "******************************\n",
      "original word:- sun\n",
      "Stemmed_word:- sun\n",
      "lemmitised_word:- sun\n",
      "******************************\n",
      "original word:- moo\n",
      "Stemmed_word:- moo\n",
      "lemmitised_word:- moo\n",
      "******************************\n",
      "original word:- keeps\n",
      "Stemmed_word:- keep\n",
      "lemmitised_word:- keep\n",
      "******************************\n",
      "original word:- changing\n",
      "Stemmed_word:- chang\n",
      "lemmitised_word:- changing\n",
      "******************************\n",
      "original word:- shape\n",
      "Stemmed_word:- shap\n",
      "lemmitised_word:- shape\n",
      "******************************\n",
      "original word:- moves\n",
      "Stemmed_word:- mov\n",
      "lemmitised_word:- move\n",
      "******************************\n",
      "original word:- round\n",
      "Stemmed_word:- round\n",
      "lemmitised_word:- round\n",
      "******************************\n",
      "original word:- earth\n",
      "Stemmed_word:- ear\n",
      "lemmitised_word:- earth\n",
      "******************************\n",
      "original word:- spins\n",
      "Stemmed_word:- spin\n",
      "lemmitised_word:- spin\n",
      "******************************\n",
      "original word:- axis\n",
      "Stemmed_word:- ax\n",
      "lemmitised_word:- axis\n",
      "******************************\n",
      "original word:- 27.3\n",
      "Stemmed_word:- 27.3\n",
      "lemmitised_word:- 27.3\n",
      "******************************\n",
      "original word:- days\n",
      "Stemmed_word:- day\n",
      "lemmitised_word:- day\n",
      "******************************\n",
      "original word:- stars\n",
      "Stemmed_word:- star\n",
      "lemmitised_word:- star\n",
      "******************************\n",
      "original word:- named\n",
      "Stemmed_word:- nam\n",
      "lemmitised_word:- named\n",
      "******************************\n",
      "original word:- edwin\n",
      "Stemmed_word:- edwin\n",
      "lemmitised_word:- edwin\n",
      "******************************\n",
      "original word:- aldrin\n",
      "Stemmed_word:- aldrin\n",
      "lemmitised_word:- aldrin\n",
      "******************************\n",
      "original word:- first\n",
      "Stemmed_word:- first\n",
      "lemmitised_word:- first\n",
      "******************************\n",
      "original word:- ones\n",
      "Stemmed_word:- on\n",
      "lemmitised_word:- one\n",
      "******************************\n",
      "original word:- set\n",
      "Stemmed_word:- set\n",
      "lemmitised_word:- set\n",
      "******************************\n",
      "original word:- foot\n",
      "Stemmed_word:- foot\n",
      "lemmitised_word:- foot\n",
      "******************************\n",
      "original word:- moon\n",
      "Stemmed_word:- moon\n",
      "lemmitised_word:- moon\n",
      "******************************\n",
      "original word:- 21\n",
      "Stemmed_word:- 21\n",
      "lemmitised_word:- 21\n",
      "******************************\n",
      "original word:- july\n",
      "Stemmed_word:- july\n",
      "lemmitised_word:- july\n",
      "******************************\n",
      "original word:- 1969\n",
      "Stemmed_word:- 1969\n",
      "lemmitised_word:- 1969\n",
      "******************************\n",
      "original word:- reached\n",
      "Stemmed_word:- reach\n",
      "lemmitised_word:- reached\n",
      "******************************\n",
      "original word:- moon\n",
      "Stemmed_word:- moon\n",
      "lemmitised_word:- moon\n",
      "******************************\n",
      "original word:- space\n",
      "Stemmed_word:- spac\n",
      "lemmitised_word:- space\n",
      "******************************\n",
      "original word:- craft\n",
      "Stemmed_word:- craft\n",
      "lemmitised_word:- craft\n",
      "******************************\n",
      "original word:- named\n",
      "Stemmed_word:- nam\n",
      "lemmitised_word:- named\n",
      "******************************\n",
      "original word:- apollo\n",
      "Stemmed_word:- apollo\n",
      "lemmitised_word:- apollo\n",
      "******************************\n",
      "original word:- ii\n",
      "Stemmed_word:- ii\n",
      "lemmitised_word:- ii\n",
      "******************************\n"
     ]
    }
   ],
   "source": [
    "# Lemitization, stemming\n",
    "\n",
    "stemming = LancasterStemmer()\n",
    "lemmatizer = WordNetLemmatizer()\n",
    "\n",
    "for word in word_without_stopwords:\n",
    "    stemmed_word = stemming.stem(word)\n",
    "    lemmetised_word = lemmatizer.lemmatize(word)\n",
    "    print(f\"original word:- {word}\")\n",
    "    print(f\"Stemmed_word:- {stemmed_word}\")    \n",
    "    print(f\"lemmitised_word:- {lemmetised_word}\")\n",
    "    print(\"*\"*30)"
   ]
  },
  {
   "cell_type": "code",
   "execution_count": 35,
   "id": "84fa50df",
   "metadata": {},
   "outputs": [
    {
     "data": {
      "text/plain": [
       "'get'"
      ]
     },
     "execution_count": 35,
     "metadata": {},
     "output_type": "execute_result"
    }
   ],
   "source": [
    "stemming.stem(\"gets\")"
   ]
  },
  {
   "cell_type": "code",
   "execution_count": 36,
   "id": "6963997f",
   "metadata": {},
   "outputs": [
    {
     "data": {
      "text/plain": [
       "'dying'"
      ]
     },
     "execution_count": 36,
     "metadata": {},
     "output_type": "execute_result"
    }
   ],
   "source": [
    "lemmatizer.lemmatize(\"dying\")"
   ]
  },
  {
   "cell_type": "code",
   "execution_count": 41,
   "id": "2cb1ab3c",
   "metadata": {},
   "outputs": [
    {
     "data": {
      "text/plain": [
       "'e, e, e, e, c, n, o, d, D'"
      ]
     },
     "execution_count": 41,
     "metadata": {},
     "output_type": "execute_result"
    }
   ],
   "source": [
    "## handling accented_characters\n",
    "accented_character = \"é, è, ê, ë, ç, ñ, ø, ð, Ð\"\n",
    "fixed_word = unidecode(accented_character)\n",
    "fixed_word"
   ]
  },
  {
   "cell_type": "code",
   "execution_count": 43,
   "id": "f54beb51",
   "metadata": {},
   "outputs": [
    {
     "name": "stdout",
     "output_type": "stream",
     "text": [
      "Collecting autocorrect\n",
      "  Downloading autocorrect-2.6.1.tar.gz (622 kB)\n",
      "     -------------------------------------- 622.8/622.8 kB 3.0 MB/s eta 0:00:00\n",
      "  Preparing metadata (setup.py): started\n",
      "  Preparing metadata (setup.py): finished with status 'done'\n",
      "Building wheels for collected packages: autocorrect\n",
      "  Building wheel for autocorrect (setup.py): started\n",
      "  Building wheel for autocorrect (setup.py): finished with status 'done'\n",
      "  Created wheel for autocorrect: filename=autocorrect-2.6.1-py3-none-any.whl size=622364 sha256=8e7fed9a413377e863b87a7ea85f2b32a26457a4ad4e3f05a127ef444d563d13\n",
      "  Stored in directory: c:\\users\\yashd\\appdata\\local\\pip\\cache\\wheels\\ab\\0f\\23\\3c010c3fd877b962146e7765f9e9b08026cac8b035094c5750\n",
      "Successfully built autocorrect\n",
      "Installing collected packages: autocorrect\n",
      "Successfully installed autocorrect-2.6.1\n"
     ]
    }
   ],
   "source": [
    "!pip install autocorrect"
   ]
  },
  {
   "cell_type": "code",
   "execution_count": 54,
   "id": "bdc1b4ae",
   "metadata": {},
   "outputs": [
    {
     "name": "stdout",
     "output_type": "stream",
     "text": [
      "message\n",
      "service\n"
     ]
    }
   ],
   "source": [
    "from autocorrect import Speller\n",
    "spell = Speller(lang='en')\n",
    "print(spell(\"mussage\"))\n",
    "print(spell(\"survice\"))"
   ]
  },
  {
   "cell_type": "code",
   "execution_count": 53,
   "id": "2119d8d2",
   "metadata": {},
   "outputs": [
    {
     "name": "stdout",
     "output_type": "stream",
     "text": [
      "missing\n"
     ]
    }
   ],
   "source": [
    "spell = Speller(lang='en')\n",
    "print(spell(\"mssing\"))"
   ]
  },
  {
   "cell_type": "code",
   "execution_count": 56,
   "id": "16042feb",
   "metadata": {},
   "outputs": [
    {
     "name": "stdout",
     "output_type": "stream",
     "text": [
      "Collecting textblob\n",
      "  Downloading textblob-0.17.1-py2.py3-none-any.whl (636 kB)\n",
      "     -------------------------------------- 636.8/636.8 kB 4.0 MB/s eta 0:00:00\n",
      "Requirement already satisfied: nltk>=3.1 in c:\\users\\yashd\\anaconda3\\lib\\site-packages (from textblob) (3.7)\n",
      "Requirement already satisfied: regex>=2021.8.3 in c:\\users\\yashd\\anaconda3\\lib\\site-packages (from nltk>=3.1->textblob) (2022.7.9)\n",
      "Requirement already satisfied: joblib in c:\\users\\yashd\\anaconda3\\lib\\site-packages (from nltk>=3.1->textblob) (1.2.0)\n",
      "Requirement already satisfied: click in c:\\users\\yashd\\anaconda3\\lib\\site-packages (from nltk>=3.1->textblob) (8.0.4)\n",
      "Requirement already satisfied: tqdm in c:\\users\\yashd\\anaconda3\\lib\\site-packages (from nltk>=3.1->textblob) (4.64.1)\n",
      "Requirement already satisfied: colorama in c:\\users\\yashd\\anaconda3\\lib\\site-packages (from click->nltk>=3.1->textblob) (0.3.9)\n",
      "Installing collected packages: textblob\n",
      "Successfully installed textblob-0.17.1\n"
     ]
    }
   ],
   "source": [
    "!pip install textblob"
   ]
  },
  {
   "cell_type": "code",
   "execution_count": 62,
   "id": "3afb403b",
   "metadata": {},
   "outputs": [
    {
     "name": "stdout",
     "output_type": "stream",
     "text": [
      "message\n"
     ]
    }
   ],
   "source": [
    "from textblob import TextBlob\n",
    "\n",
    "a = \"mussage\"\n",
    "b = TextBlob(a)\n",
    "\n",
    "print(b.correct())"
   ]
  },
  {
   "cell_type": "code",
   "execution_count": 63,
   "id": "bf6b597e",
   "metadata": {},
   "outputs": [
    {
     "name": "stdout",
     "output_type": "stream",
     "text": [
      "service\n"
     ]
    }
   ],
   "source": [
    "a = \"survice\"\n",
    "b = TextBlob(a)\n",
    "\n",
    "print(b.correct())"
   ]
  },
  {
   "cell_type": "code",
   "execution_count": null,
   "id": "3af92249",
   "metadata": {},
   "outputs": [],
   "source": []
  }
 ],
 "metadata": {
  "kernelspec": {
   "display_name": "Python 3 (ipykernel)",
   "language": "python",
   "name": "python3"
  },
  "language_info": {
   "codemirror_mode": {
    "name": "ipython",
    "version": 3
   },
   "file_extension": ".py",
   "mimetype": "text/x-python",
   "name": "python",
   "nbconvert_exporter": "python",
   "pygments_lexer": "ipython3",
   "version": "3.9.13"
  }
 },
 "nbformat": 4,
 "nbformat_minor": 5
}
