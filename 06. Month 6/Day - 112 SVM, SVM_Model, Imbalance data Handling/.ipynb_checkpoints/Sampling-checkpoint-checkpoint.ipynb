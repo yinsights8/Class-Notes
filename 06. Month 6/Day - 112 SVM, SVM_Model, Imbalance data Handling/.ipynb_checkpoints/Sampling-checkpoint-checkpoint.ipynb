{
 "cells": [
  {
   "cell_type": "code",
   "execution_count": 1,
   "id": "7a3bc81b",
   "metadata": {},
   "outputs": [],
   "source": [
    "import pandas as pd\n",
    "import numpy as np"
   ]
  },
  {
   "cell_type": "code",
   "execution_count": 2,
   "id": "d7a7df83",
   "metadata": {},
   "outputs": [
    {
     "data": {
      "text/html": [
       "<div>\n",
       "<style scoped>\n",
       "    .dataframe tbody tr th:only-of-type {\n",
       "        vertical-align: middle;\n",
       "    }\n",
       "\n",
       "    .dataframe tbody tr th {\n",
       "        vertical-align: top;\n",
       "    }\n",
       "\n",
       "    .dataframe thead th {\n",
       "        text-align: right;\n",
       "    }\n",
       "</style>\n",
       "<table border=\"1\" class=\"dataframe\">\n",
       "  <thead>\n",
       "    <tr style=\"text-align: right;\">\n",
       "      <th></th>\n",
       "      <th>APPLICATION.ID</th>\n",
       "      <th>DSA.ID</th>\n",
       "      <th>DEALER.ID</th>\n",
       "      <th>APP.DATE</th>\n",
       "      <th>TIME.STAMP</th>\n",
       "      <th>APPLICATION.STATUS</th>\n",
       "      <th>QUEUE.ID</th>\n",
       "      <th>CURRENT.STAGE</th>\n",
       "      <th>MARITAL.STATUS</th>\n",
       "      <th>GENDER</th>\n",
       "      <th>...</th>\n",
       "      <th>CREDIT.CARD.NUMBER</th>\n",
       "      <th>CREDIT.CARDS.CATEGORY</th>\n",
       "      <th>PRIMARY.ASSET.CTG</th>\n",
       "      <th>PRIMARY.ASSET.MAKE</th>\n",
       "      <th>PRIMARY.ASSET.MODELNO</th>\n",
       "      <th>VOTER_ID</th>\n",
       "      <th>DRIVING_LICENSE</th>\n",
       "      <th>AADHAAR</th>\n",
       "      <th>PAN</th>\n",
       "      <th>BANK_PASSBOOK</th>\n",
       "    </tr>\n",
       "  </thead>\n",
       "  <tbody>\n",
       "    <tr>\n",
       "      <th>0</th>\n",
       "      <td>27497000024</td>\n",
       "      <td>JB02005</td>\n",
       "      <td>27497</td>\n",
       "      <td>2017-02-28</td>\n",
       "      <td>22:11:01</td>\n",
       "      <td>Declined</td>\n",
       "      <td>Straight  Through Process</td>\n",
       "      <td>PD_DE</td>\n",
       "      <td>Single</td>\n",
       "      <td>Male</td>\n",
       "      <td>...</td>\n",
       "      <td>NaN</td>\n",
       "      <td>NaN</td>\n",
       "      <td>REF-FF HOME</td>\n",
       "      <td>SAMSUNG</td>\n",
       "      <td>RT30K3723S8/HL</td>\n",
       "      <td>F</td>\n",
       "      <td>F</td>\n",
       "      <td>T</td>\n",
       "      <td>F</td>\n",
       "      <td>F</td>\n",
       "    </tr>\n",
       "    <tr>\n",
       "      <th>1</th>\n",
       "      <td>25556001005</td>\n",
       "      <td>RD02622</td>\n",
       "      <td>25556</td>\n",
       "      <td>2017-02-28</td>\n",
       "      <td>22:05:51</td>\n",
       "      <td>Approved</td>\n",
       "      <td>Straight  Through Process</td>\n",
       "      <td>PD_DE</td>\n",
       "      <td>Married</td>\n",
       "      <td>Male</td>\n",
       "      <td>...</td>\n",
       "      <td>NaN</td>\n",
       "      <td>NaN</td>\n",
       "      <td>TELEVISION</td>\n",
       "      <td>SONY</td>\n",
       "      <td>KLV-29P423D</td>\n",
       "      <td>F</td>\n",
       "      <td>T</td>\n",
       "      <td>F</td>\n",
       "      <td>F</td>\n",
       "      <td>F</td>\n",
       "    </tr>\n",
       "    <tr>\n",
       "      <th>2</th>\n",
       "      <td>27220000249</td>\n",
       "      <td>SK02345</td>\n",
       "      <td>27220</td>\n",
       "      <td>2017-02-28</td>\n",
       "      <td>21:58:34</td>\n",
       "      <td>Approved</td>\n",
       "      <td>Straight  Through Process</td>\n",
       "      <td>PD_DE</td>\n",
       "      <td>Married</td>\n",
       "      <td>Male</td>\n",
       "      <td>...</td>\n",
       "      <td>NaN</td>\n",
       "      <td>NaN</td>\n",
       "      <td>AIR CONDITIONER</td>\n",
       "      <td>ELECTROLUX</td>\n",
       "      <td>AIR CONDITIONER VANILLA</td>\n",
       "      <td>F</td>\n",
       "      <td>T</td>\n",
       "      <td>F</td>\n",
       "      <td>F</td>\n",
       "      <td>F</td>\n",
       "    </tr>\n",
       "    <tr>\n",
       "      <th>3</th>\n",
       "      <td>27067000029</td>\n",
       "      <td>DN30900</td>\n",
       "      <td>27067</td>\n",
       "      <td>2017-02-28</td>\n",
       "      <td>21:52:46</td>\n",
       "      <td>Declined</td>\n",
       "      <td>Under.Writer</td>\n",
       "      <td>DCLN</td>\n",
       "      <td>Married</td>\n",
       "      <td>Male</td>\n",
       "      <td>...</td>\n",
       "      <td>NaN</td>\n",
       "      <td>NaN</td>\n",
       "      <td>HOME THEATRE</td>\n",
       "      <td>TARGET</td>\n",
       "      <td>K1110 FM</td>\n",
       "      <td>F</td>\n",
       "      <td>F</td>\n",
       "      <td>T</td>\n",
       "      <td>F</td>\n",
       "      <td>F</td>\n",
       "    </tr>\n",
       "    <tr>\n",
       "      <th>4</th>\n",
       "      <td>26189000138</td>\n",
       "      <td>JB02005</td>\n",
       "      <td>26189</td>\n",
       "      <td>2017-02-28</td>\n",
       "      <td>21:52:33</td>\n",
       "      <td>Approved</td>\n",
       "      <td>Straight  Through Process</td>\n",
       "      <td>APRV</td>\n",
       "      <td>Married</td>\n",
       "      <td>Male</td>\n",
       "      <td>...</td>\n",
       "      <td>NaN</td>\n",
       "      <td>NaN</td>\n",
       "      <td>SPLIT AC</td>\n",
       "      <td>ELECTROLUX</td>\n",
       "      <td>ES18T5C</td>\n",
       "      <td>F</td>\n",
       "      <td>F</td>\n",
       "      <td>F</td>\n",
       "      <td>T</td>\n",
       "      <td>F</td>\n",
       "    </tr>\n",
       "    <tr>\n",
       "      <th>...</th>\n",
       "      <td>...</td>\n",
       "      <td>...</td>\n",
       "      <td>...</td>\n",
       "      <td>...</td>\n",
       "      <td>...</td>\n",
       "      <td>...</td>\n",
       "      <td>...</td>\n",
       "      <td>...</td>\n",
       "      <td>...</td>\n",
       "      <td>...</td>\n",
       "      <td>...</td>\n",
       "      <td>...</td>\n",
       "      <td>...</td>\n",
       "      <td>...</td>\n",
       "      <td>...</td>\n",
       "      <td>...</td>\n",
       "      <td>...</td>\n",
       "      <td>...</td>\n",
       "      <td>...</td>\n",
       "      <td>...</td>\n",
       "      <td>...</td>\n",
       "    </tr>\n",
       "    <tr>\n",
       "      <th>7754</th>\n",
       "      <td>25150001203</td>\n",
       "      <td>RP05168</td>\n",
       "      <td>25150</td>\n",
       "      <td>2017-02-22</td>\n",
       "      <td>10:43:08</td>\n",
       "      <td>Approved</td>\n",
       "      <td>Straight  Through Process</td>\n",
       "      <td>APRV</td>\n",
       "      <td>Married</td>\n",
       "      <td>Male</td>\n",
       "      <td>...</td>\n",
       "      <td>NaN</td>\n",
       "      <td>NaN</td>\n",
       "      <td>PANEL - LED</td>\n",
       "      <td>SAMSUNG</td>\n",
       "      <td>UA32K5300ARLXL</td>\n",
       "      <td>F</td>\n",
       "      <td>F</td>\n",
       "      <td>F</td>\n",
       "      <td>T</td>\n",
       "      <td>F</td>\n",
       "    </tr>\n",
       "    <tr>\n",
       "      <th>7755</th>\n",
       "      <td>27199000069</td>\n",
       "      <td>RS24113</td>\n",
       "      <td>27199</td>\n",
       "      <td>2017-02-22</td>\n",
       "      <td>10:41:45</td>\n",
       "      <td>Declined</td>\n",
       "      <td>Straight  Through Process</td>\n",
       "      <td>PD_DE</td>\n",
       "      <td>Married</td>\n",
       "      <td>Male</td>\n",
       "      <td>...</td>\n",
       "      <td>NaN</td>\n",
       "      <td>NaN</td>\n",
       "      <td>SAWM</td>\n",
       "      <td>LG</td>\n",
       "      <td>P8072R3F</td>\n",
       "      <td>F</td>\n",
       "      <td>F</td>\n",
       "      <td>T</td>\n",
       "      <td>T</td>\n",
       "      <td>F</td>\n",
       "    </tr>\n",
       "    <tr>\n",
       "      <th>7756</th>\n",
       "      <td>26805000032</td>\n",
       "      <td>SB44646</td>\n",
       "      <td>26805</td>\n",
       "      <td>2017-02-22</td>\n",
       "      <td>10:34:56</td>\n",
       "      <td>Declined</td>\n",
       "      <td>Under.Writer</td>\n",
       "      <td>DCLN</td>\n",
       "      <td>Single</td>\n",
       "      <td>Male</td>\n",
       "      <td>...</td>\n",
       "      <td>NaN</td>\n",
       "      <td>NaN</td>\n",
       "      <td>TELEVISION</td>\n",
       "      <td>SONY</td>\n",
       "      <td>KLV-32R302D</td>\n",
       "      <td>T</td>\n",
       "      <td>F</td>\n",
       "      <td>T</td>\n",
       "      <td>F</td>\n",
       "      <td>F</td>\n",
       "    </tr>\n",
       "    <tr>\n",
       "      <th>7757</th>\n",
       "      <td>28188000004</td>\n",
       "      <td>JD25733</td>\n",
       "      <td>28188</td>\n",
       "      <td>2017-02-22</td>\n",
       "      <td>10:24:20</td>\n",
       "      <td>Approved</td>\n",
       "      <td>Straight  Through Process</td>\n",
       "      <td>LOS_DISB</td>\n",
       "      <td>Married</td>\n",
       "      <td>Male</td>\n",
       "      <td>...</td>\n",
       "      <td>NaN</td>\n",
       "      <td>NaN</td>\n",
       "      <td>AIR CONDITIONER</td>\n",
       "      <td>WHIRLPOOL</td>\n",
       "      <td>1.5T MAGICOOL PRM COPR 2S -WHITE-S</td>\n",
       "      <td>F</td>\n",
       "      <td>F</td>\n",
       "      <td>T</td>\n",
       "      <td>F</td>\n",
       "      <td>F</td>\n",
       "    </tr>\n",
       "    <tr>\n",
       "      <th>7758</th>\n",
       "      <td>27059000043</td>\n",
       "      <td>PJ58585</td>\n",
       "      <td>27059</td>\n",
       "      <td>2017-02-22</td>\n",
       "      <td>09:50:43</td>\n",
       "      <td>Approved</td>\n",
       "      <td>Straight  Through Process</td>\n",
       "      <td>INV_GNR</td>\n",
       "      <td>Married</td>\n",
       "      <td>Male</td>\n",
       "      <td>...</td>\n",
       "      <td>NaN</td>\n",
       "      <td>NaN</td>\n",
       "      <td>PANEL - SMARTLED</td>\n",
       "      <td>LG</td>\n",
       "      <td>43LH576T</td>\n",
       "      <td>F</td>\n",
       "      <td>F</td>\n",
       "      <td>T</td>\n",
       "      <td>F</td>\n",
       "      <td>F</td>\n",
       "    </tr>\n",
       "  </tbody>\n",
       "</table>\n",
       "<p>7759 rows × 46 columns</p>\n",
       "</div>"
      ],
      "text/plain": [
       "      APPLICATION.ID   DSA.ID  DEALER.ID    APP.DATE TIME.STAMP  \\\n",
       "0        27497000024  JB02005      27497  2017-02-28   22:11:01   \n",
       "1        25556001005  RD02622      25556  2017-02-28   22:05:51   \n",
       "2        27220000249  SK02345      27220  2017-02-28   21:58:34   \n",
       "3        27067000029  DN30900      27067  2017-02-28   21:52:46   \n",
       "4        26189000138  JB02005      26189  2017-02-28   21:52:33   \n",
       "...              ...      ...        ...         ...        ...   \n",
       "7754     25150001203  RP05168      25150  2017-02-22   10:43:08   \n",
       "7755     27199000069  RS24113      27199  2017-02-22   10:41:45   \n",
       "7756     26805000032  SB44646      26805  2017-02-22   10:34:56   \n",
       "7757     28188000004  JD25733      28188  2017-02-22   10:24:20   \n",
       "7758     27059000043  PJ58585      27059  2017-02-22   09:50:43   \n",
       "\n",
       "     APPLICATION.STATUS                   QUEUE.ID CURRENT.STAGE  \\\n",
       "0              Declined  Straight  Through Process         PD_DE   \n",
       "1              Approved  Straight  Through Process         PD_DE   \n",
       "2              Approved  Straight  Through Process         PD_DE   \n",
       "3              Declined               Under.Writer          DCLN   \n",
       "4              Approved  Straight  Through Process          APRV   \n",
       "...                 ...                        ...           ...   \n",
       "7754           Approved  Straight  Through Process          APRV   \n",
       "7755           Declined  Straight  Through Process         PD_DE   \n",
       "7756           Declined               Under.Writer          DCLN   \n",
       "7757           Approved  Straight  Through Process      LOS_DISB   \n",
       "7758           Approved  Straight  Through Process       INV_GNR   \n",
       "\n",
       "     MARITAL.STATUS GENDER  ...  CREDIT.CARD.NUMBER CREDIT.CARDS.CATEGORY  \\\n",
       "0            Single   Male  ...                 NaN                   NaN   \n",
       "1           Married   Male  ...                 NaN                   NaN   \n",
       "2           Married   Male  ...                 NaN                   NaN   \n",
       "3           Married   Male  ...                 NaN                   NaN   \n",
       "4           Married   Male  ...                 NaN                   NaN   \n",
       "...             ...    ...  ...                 ...                   ...   \n",
       "7754        Married   Male  ...                 NaN                   NaN   \n",
       "7755        Married   Male  ...                 NaN                   NaN   \n",
       "7756         Single   Male  ...                 NaN                   NaN   \n",
       "7757        Married   Male  ...                 NaN                   NaN   \n",
       "7758        Married   Male  ...                 NaN                   NaN   \n",
       "\n",
       "     PRIMARY.ASSET.CTG PRIMARY.ASSET.MAKE               PRIMARY.ASSET.MODELNO  \\\n",
       "0          REF-FF HOME            SAMSUNG                      RT30K3723S8/HL   \n",
       "1           TELEVISION               SONY                         KLV-29P423D   \n",
       "2      AIR CONDITIONER         ELECTROLUX             AIR CONDITIONER VANILLA   \n",
       "3         HOME THEATRE             TARGET                            K1110 FM   \n",
       "4             SPLIT AC         ELECTROLUX                             ES18T5C   \n",
       "...                ...                ...                                 ...   \n",
       "7754       PANEL - LED            SAMSUNG                      UA32K5300ARLXL   \n",
       "7755              SAWM                 LG                            P8072R3F   \n",
       "7756        TELEVISION               SONY                         KLV-32R302D   \n",
       "7757   AIR CONDITIONER          WHIRLPOOL  1.5T MAGICOOL PRM COPR 2S -WHITE-S   \n",
       "7758  PANEL - SMARTLED                 LG                            43LH576T   \n",
       "\n",
       "      VOTER_ID DRIVING_LICENSE  AADHAAR PAN BANK_PASSBOOK  \n",
       "0            F               F        T   F             F  \n",
       "1            F               T        F   F             F  \n",
       "2            F               T        F   F             F  \n",
       "3            F               F        T   F             F  \n",
       "4            F               F        F   T             F  \n",
       "...        ...             ...      ...  ..           ...  \n",
       "7754         F               F        F   T             F  \n",
       "7755         F               F        T   T             F  \n",
       "7756         T               F        T   F             F  \n",
       "7757         F               F        T   F             F  \n",
       "7758         F               F        T   F             F  \n",
       "\n",
       "[7759 rows x 46 columns]"
      ]
     },
     "execution_count": 2,
     "metadata": {},
     "output_type": "execute_result"
    }
   ],
   "source": [
    "df = pd.read_csv('Lending_Training_Data.csv')\n",
    "df"
   ]
  },
  {
   "cell_type": "code",
   "execution_count": 3,
   "id": "8bc3aab0",
   "metadata": {},
   "outputs": [],
   "source": [
    "# df.info()"
   ]
  },
  {
   "cell_type": "code",
   "execution_count": 4,
   "id": "39fe3670",
   "metadata": {},
   "outputs": [],
   "source": [
    "# df.isna().sum()"
   ]
  },
  {
   "cell_type": "code",
   "execution_count": 5,
   "id": "a86ed0a8",
   "metadata": {},
   "outputs": [
    {
     "data": {
      "text/plain": [
       "Approved    4437\n",
       "Declined    3322\n",
       "Name: APPLICATION.STATUS, dtype: int64"
      ]
     },
     "execution_count": 5,
     "metadata": {},
     "output_type": "execute_result"
    }
   ],
   "source": [
    "df['APPLICATION.STATUS'].value_counts()"
   ]
  },
  {
   "cell_type": "code",
   "execution_count": 6,
   "id": "44ca37a3",
   "metadata": {},
   "outputs": [
    {
     "data": {
      "text/plain": [
       "1115"
      ]
     },
     "execution_count": 6,
     "metadata": {},
     "output_type": "execute_result"
    }
   ],
   "source": [
    "4437 - 3322"
   ]
  },
  {
   "cell_type": "code",
   "execution_count": 7,
   "id": "a68462c0",
   "metadata": {},
   "outputs": [
    {
     "data": {
      "text/plain": [
       "0.5718520427890192"
      ]
     },
     "execution_count": 7,
     "metadata": {},
     "output_type": "execute_result"
    }
   ],
   "source": [
    "4437 / (4437 + 3322)"
   ]
  },
  {
   "cell_type": "code",
   "execution_count": 8,
   "id": "e41ffc2f",
   "metadata": {},
   "outputs": [
    {
     "data": {
      "text/plain": [
       "0.4281479572109808"
      ]
     },
     "execution_count": 8,
     "metadata": {},
     "output_type": "execute_result"
    }
   ],
   "source": [
    "3322 / (4437 + 3322)"
   ]
  },
  {
   "cell_type": "code",
   "execution_count": 9,
   "id": "5bd6baff",
   "metadata": {},
   "outputs": [
    {
     "data": {
      "text/plain": [
       "1.0"
      ]
     },
     "execution_count": 9,
     "metadata": {},
     "output_type": "execute_result"
    }
   ],
   "source": [
    "0.5718520427890192 + 0.4281479572109808"
   ]
  },
  {
   "cell_type": "code",
   "execution_count": 10,
   "id": "5f29957c",
   "metadata": {},
   "outputs": [],
   "source": [
    "df['APPLICATION.STATUS'].replace({'Approved':1,'Declined':0}, inplace = True)"
   ]
  },
  {
   "cell_type": "code",
   "execution_count": 11,
   "id": "0fafde00",
   "metadata": {},
   "outputs": [],
   "source": [
    "x = df[['APPLICATION.ID','DEALER.ID']]\n",
    "y = df['APPLICATION.STATUS']"
   ]
  },
  {
   "cell_type": "code",
   "execution_count": 12,
   "id": "14bd1ca0",
   "metadata": {},
   "outputs": [
    {
     "data": {
      "text/html": [
       "<div>\n",
       "<style scoped>\n",
       "    .dataframe tbody tr th:only-of-type {\n",
       "        vertical-align: middle;\n",
       "    }\n",
       "\n",
       "    .dataframe tbody tr th {\n",
       "        vertical-align: top;\n",
       "    }\n",
       "\n",
       "    .dataframe thead th {\n",
       "        text-align: right;\n",
       "    }\n",
       "</style>\n",
       "<table border=\"1\" class=\"dataframe\">\n",
       "  <thead>\n",
       "    <tr style=\"text-align: right;\">\n",
       "      <th></th>\n",
       "      <th>APPLICATION.ID</th>\n",
       "      <th>DEALER.ID</th>\n",
       "    </tr>\n",
       "  </thead>\n",
       "  <tbody>\n",
       "    <tr>\n",
       "      <th>0</th>\n",
       "      <td>27497000024</td>\n",
       "      <td>27497</td>\n",
       "    </tr>\n",
       "    <tr>\n",
       "      <th>1</th>\n",
       "      <td>25556001005</td>\n",
       "      <td>25556</td>\n",
       "    </tr>\n",
       "    <tr>\n",
       "      <th>2</th>\n",
       "      <td>27220000249</td>\n",
       "      <td>27220</td>\n",
       "    </tr>\n",
       "    <tr>\n",
       "      <th>3</th>\n",
       "      <td>27067000029</td>\n",
       "      <td>27067</td>\n",
       "    </tr>\n",
       "    <tr>\n",
       "      <th>4</th>\n",
       "      <td>26189000138</td>\n",
       "      <td>26189</td>\n",
       "    </tr>\n",
       "    <tr>\n",
       "      <th>...</th>\n",
       "      <td>...</td>\n",
       "      <td>...</td>\n",
       "    </tr>\n",
       "    <tr>\n",
       "      <th>7754</th>\n",
       "      <td>25150001203</td>\n",
       "      <td>25150</td>\n",
       "    </tr>\n",
       "    <tr>\n",
       "      <th>7755</th>\n",
       "      <td>27199000069</td>\n",
       "      <td>27199</td>\n",
       "    </tr>\n",
       "    <tr>\n",
       "      <th>7756</th>\n",
       "      <td>26805000032</td>\n",
       "      <td>26805</td>\n",
       "    </tr>\n",
       "    <tr>\n",
       "      <th>7757</th>\n",
       "      <td>28188000004</td>\n",
       "      <td>28188</td>\n",
       "    </tr>\n",
       "    <tr>\n",
       "      <th>7758</th>\n",
       "      <td>27059000043</td>\n",
       "      <td>27059</td>\n",
       "    </tr>\n",
       "  </tbody>\n",
       "</table>\n",
       "<p>7759 rows × 2 columns</p>\n",
       "</div>"
      ],
      "text/plain": [
       "      APPLICATION.ID  DEALER.ID\n",
       "0        27497000024      27497\n",
       "1        25556001005      25556\n",
       "2        27220000249      27220\n",
       "3        27067000029      27067\n",
       "4        26189000138      26189\n",
       "...              ...        ...\n",
       "7754     25150001203      25150\n",
       "7755     27199000069      27199\n",
       "7756     26805000032      26805\n",
       "7757     28188000004      28188\n",
       "7758     27059000043      27059\n",
       "\n",
       "[7759 rows x 2 columns]"
      ]
     },
     "execution_count": 12,
     "metadata": {},
     "output_type": "execute_result"
    }
   ],
   "source": [
    "x"
   ]
  },
  {
   "cell_type": "code",
   "execution_count": 13,
   "id": "a068e046",
   "metadata": {},
   "outputs": [
    {
     "data": {
      "text/plain": [
       "0       0\n",
       "1       1\n",
       "2       1\n",
       "3       0\n",
       "4       1\n",
       "       ..\n",
       "7754    1\n",
       "7755    0\n",
       "7756    0\n",
       "7757    1\n",
       "7758    1\n",
       "Name: APPLICATION.STATUS, Length: 7759, dtype: int64"
      ]
     },
     "execution_count": 13,
     "metadata": {},
     "output_type": "execute_result"
    }
   ],
   "source": [
    "y"
   ]
  },
  {
   "cell_type": "code",
   "execution_count": 14,
   "id": "1bfc1bcc",
   "metadata": {},
   "outputs": [],
   "source": [
    "from imblearn.over_sampling import SMOTE"
   ]
  },
  {
   "cell_type": "raw",
   "id": "b4e2c3cf",
   "metadata": {},
   "source": [
    "SMOTE >> Synthetic Minority Oversampling Technique"
   ]
  },
  {
   "cell_type": "code",
   "execution_count": 15,
   "id": "17b0d451",
   "metadata": {},
   "outputs": [],
   "source": [
    "sme = SMOTE()\n",
    "X,Y = sme.fit_resample(x,y)"
   ]
  },
  {
   "cell_type": "code",
   "execution_count": 16,
   "id": "e992128c",
   "metadata": {},
   "outputs": [
    {
     "data": {
      "text/plain": [
       "1    4437\n",
       "0    3322\n",
       "Name: APPLICATION.STATUS, dtype: int64"
      ]
     },
     "execution_count": 16,
     "metadata": {},
     "output_type": "execute_result"
    }
   ],
   "source": [
    "y.value_counts()"
   ]
  },
  {
   "cell_type": "code",
   "execution_count": 17,
   "id": "51fb1d78",
   "metadata": {},
   "outputs": [
    {
     "data": {
      "text/plain": [
       "(7759, 46)"
      ]
     },
     "execution_count": 17,
     "metadata": {},
     "output_type": "execute_result"
    }
   ],
   "source": [
    "df.shape"
   ]
  },
  {
   "cell_type": "code",
   "execution_count": 18,
   "id": "66dc7960",
   "metadata": {},
   "outputs": [
    {
     "data": {
      "text/plain": [
       "8874"
      ]
     },
     "execution_count": 18,
     "metadata": {},
     "output_type": "execute_result"
    }
   ],
   "source": [
    "4437 + 4437"
   ]
  },
  {
   "cell_type": "code",
   "execution_count": 19,
   "id": "de719ffe",
   "metadata": {},
   "outputs": [
    {
     "data": {
      "text/plain": [
       "1115"
      ]
     },
     "execution_count": 19,
     "metadata": {},
     "output_type": "execute_result"
    }
   ],
   "source": [
    "8874 - 7759"
   ]
  },
  {
   "cell_type": "code",
   "execution_count": 28,
   "id": "34a6176e",
   "metadata": {},
   "outputs": [
    {
     "name": "stderr",
     "output_type": "stream",
     "text": [
      "C:\\Users\\hp\\anaconda3\\lib\\site-packages\\imblearn\\utils\\_validation.py:586: FutureWarning: Pass sampling_strategy=0.8 as keyword args. From version 0.9 passing these as positional arguments will result in an error\n",
      "  warnings.warn(\n"
     ]
    }
   ],
   "source": [
    "smt = SMOTE(0.8, random_state=1)\n",
    "X,Y = smt.fit_resample(x,y)\n"
   ]
  },
  {
   "cell_type": "code",
   "execution_count": 29,
   "id": "6212613f",
   "metadata": {},
   "outputs": [
    {
     "data": {
      "text/plain": [
       "1    4437\n",
       "0    3549\n",
       "Name: APPLICATION.STATUS, dtype: int64"
      ]
     },
     "execution_count": 29,
     "metadata": {},
     "output_type": "execute_result"
    }
   ],
   "source": [
    "Y.value_counts()"
   ]
  },
  {
   "cell_type": "code",
   "execution_count": 30,
   "id": "735c355d",
   "metadata": {},
   "outputs": [
    {
     "data": {
      "text/plain": [
       "888"
      ]
     },
     "execution_count": 30,
     "metadata": {},
     "output_type": "execute_result"
    }
   ],
   "source": [
    "4437 - 3549"
   ]
  },
  {
   "cell_type": "markdown",
   "id": "70a9abbe",
   "metadata": {},
   "source": [
    "# Random Oversampler"
   ]
  },
  {
   "cell_type": "code",
   "execution_count": 31,
   "id": "d66c40d1",
   "metadata": {},
   "outputs": [],
   "source": [
    "from imblearn.over_sampling import RandomOverSampler"
   ]
  },
  {
   "cell_type": "code",
   "execution_count": 41,
   "id": "c7300fa5",
   "metadata": {},
   "outputs": [
    {
     "name": "stderr",
     "output_type": "stream",
     "text": [
      "C:\\Users\\hp\\anaconda3\\lib\\site-packages\\imblearn\\utils\\_validation.py:586: FutureWarning: Pass sampling_strategy=1 as keyword args. From version 0.9 passing these as positional arguments will result in an error\n",
      "  warnings.warn(\n"
     ]
    }
   ],
   "source": [
    "random_sampling = RandomOverSampler(1)\n",
    "X,Y = random_sampling.fit_resample(x,y)"
   ]
  },
  {
   "cell_type": "code",
   "execution_count": 42,
   "id": "a76d6bef",
   "metadata": {},
   "outputs": [
    {
     "data": {
      "text/plain": [
       "0    4437\n",
       "1    4437\n",
       "Name: APPLICATION.STATUS, dtype: int64"
      ]
     },
     "execution_count": 42,
     "metadata": {},
     "output_type": "execute_result"
    }
   ],
   "source": [
    "Y.value_counts()"
   ]
  },
  {
   "cell_type": "code",
   "execution_count": null,
   "id": "ce92557e",
   "metadata": {},
   "outputs": [],
   "source": []
  }
 ],
 "metadata": {
  "kernelspec": {
   "display_name": "Python 3",
   "language": "python",
   "name": "python3"
  },
  "language_info": {
   "codemirror_mode": {
    "name": "ipython",
    "version": 3
   },
   "file_extension": ".py",
   "mimetype": "text/x-python",
   "name": "python",
   "nbconvert_exporter": "python",
   "pygments_lexer": "ipython3",
   "version": "3.8.8"
  }
 },
 "nbformat": 4,
 "nbformat_minor": 5
}
