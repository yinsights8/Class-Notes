{
 "cells": [
  {
   "cell_type": "code",
   "execution_count": 1,
   "id": "22308105",
   "metadata": {},
   "outputs": [],
   "source": [
    "import numpy as np"
   ]
  },
  {
   "cell_type": "code",
   "execution_count": 8,
   "id": "0ec7bd8b",
   "metadata": {},
   "outputs": [],
   "source": [
    "nums = np.array([1,2,3,4,5,5.5],dtype=\"int64\")"
   ]
  },
  {
   "cell_type": "code",
   "execution_count": 10,
   "id": "6f067dd8",
   "metadata": {},
   "outputs": [
    {
     "data": {
      "text/plain": [
       "array([1, 2, 3, 4, 5, 5], dtype=int64)"
      ]
     },
     "execution_count": 10,
     "metadata": {},
     "output_type": "execute_result"
    }
   ],
   "source": [
    "nums"
   ]
  },
  {
   "cell_type": "code",
   "execution_count": 9,
   "id": "b82ca6c6",
   "metadata": {},
   "outputs": [
    {
     "data": {
      "text/plain": [
       "dtype('int64')"
      ]
     },
     "execution_count": 9,
     "metadata": {},
     "output_type": "execute_result"
    }
   ],
   "source": [
    "nums.dtype"
   ]
  },
  {
   "cell_type": "code",
   "execution_count": 12,
   "id": "adaba82a",
   "metadata": {},
   "outputs": [],
   "source": [
    "alph = np.array(list(\"ABCDEF\"))"
   ]
  },
  {
   "cell_type": "code",
   "execution_count": 13,
   "id": "765ce6d9",
   "metadata": {},
   "outputs": [
    {
     "data": {
      "text/plain": [
       "array(['A', 'B', 'C', 'D', 'E', 'F'], dtype='<U1')"
      ]
     },
     "execution_count": 13,
     "metadata": {},
     "output_type": "execute_result"
    }
   ],
   "source": [
    "alph"
   ]
  },
  {
   "cell_type": "code",
   "execution_count": 28,
   "id": "80f17395",
   "metadata": {},
   "outputs": [
    {
     "data": {
      "text/plain": [
       "['F', 'E', 'D', 'C', 'B', 'A']"
      ]
     },
     "execution_count": 28,
     "metadata": {},
     "output_type": "execute_result"
    }
   ],
   "source": [
    "alph.tolist()[::-1]"
   ]
  },
  {
   "cell_type": "code",
   "execution_count": 32,
   "id": "ce1f329c",
   "metadata": {},
   "outputs": [
    {
     "data": {
      "text/plain": [
       "['A', 'B', 'C', 'D', 'E']"
      ]
     },
     "execution_count": 32,
     "metadata": {},
     "output_type": "execute_result"
    }
   ],
   "source": [
    "alph.tolist()[0:-1]"
   ]
  },
  {
   "cell_type": "code",
   "execution_count": 52,
   "id": "4df7cac8",
   "metadata": {},
   "outputs": [],
   "source": [
    "## 0-d Array"
   ]
  },
  {
   "cell_type": "code",
   "execution_count": 53,
   "id": "8e438f28",
   "metadata": {},
   "outputs": [
    {
     "name": "stdout",
     "output_type": "stream",
     "text": [
      "shape of an array: ()\n",
      "size of an array: 1\n",
      "data type of an array: int32\n",
      "dimension of an array: 0-dimensions\n"
     ]
    }
   ],
   "source": [
    "arr1 = np.array(100)\n",
    "print(f\"shape of an array: {arr1.shape}\")\n",
    "print(f\"size of an array: {arr1.size}\")\n",
    "print(f\"data type of an array: {arr1.dtype}\")\n",
    "print(f\"dimension of an array: {arr1.ndim}-dimensions\")\n",
    "# print(f\"length of an array: {len(arr1)}\")"
   ]
  },
  {
   "cell_type": "code",
   "execution_count": 54,
   "id": "bc793fc1",
   "metadata": {},
   "outputs": [],
   "source": [
    "## 1-d Array"
   ]
  },
  {
   "cell_type": "code",
   "execution_count": 62,
   "id": "c759bc5e",
   "metadata": {},
   "outputs": [
    {
     "name": "stdout",
     "output_type": "stream",
     "text": [
      "shape of an array: (3,)\n",
      "size of an array: 3\n",
      "data type of an array: int32\n",
      "dimension of an array: 1-dimensions\n",
      "length of an array: 3\n"
     ]
    }
   ],
   "source": [
    "arr2 = np.array([1,2,3])\n",
    "print(f\"shape of an array: {arr2.shape}\")\n",
    "print(f\"size of an array: {arr2.size}\")\n",
    "print(f\"data type of an array: {arr2.dtype}\")\n",
    "print(f\"dimension of an array: {arr2.ndim}-dimensions\")\n",
    "print(f\"length of an array: {len(arr2)}\")"
   ]
  },
  {
   "cell_type": "code",
   "execution_count": 63,
   "id": "5330addc",
   "metadata": {},
   "outputs": [
    {
     "name": "stdout",
     "output_type": "stream",
     "text": [
      "Array:- \n",
      "[[1 2 3]\n",
      " [4 5 6]\n",
      " [7 8 9]]\n",
      "shape of an array: (3, 3)\n",
      "size of an array: 9\n",
      "data type of an array: int32\n",
      "dimension of an array: 2-dimensions\n",
      "length of an array: 3\n"
     ]
    }
   ],
   "source": [
    "arr3 = np.array([[1,2,3],\n",
    "                 [4,5,6],\n",
    "                 [7,8,9]])\n",
    "\n",
    "print(f\"Array:- \\n{arr3}\")\n",
    "print(f\"shape of an array: {arr3.shape}\")\n",
    "print(f\"size of an array: {arr3.size}\")\n",
    "print(f\"data type of an array: {arr3.dtype}\")\n",
    "print(f\"dimension of an array: {arr3.ndim}-dimensions\")\n",
    "print(f\"length of an array: {len(arr3)}\")"
   ]
  },
  {
   "cell_type": "code",
   "execution_count": 65,
   "id": "54a7c13a",
   "metadata": {},
   "outputs": [
    {
     "name": "stdout",
     "output_type": "stream",
     "text": [
      "Array:- \n",
      "[[[ 1  2  3]\n",
      "  [ 4  5  6]]\n",
      "\n",
      " [[ 7  8  9]\n",
      "  [11 12 13]]]\n",
      "shape of an array: (2, 2, 3)\n",
      "size of an array: 12\n",
      "data type of an array: int32\n",
      "dimension of an array: 3-dimensions\n",
      "length of an array: 2\n"
     ]
    }
   ],
   "source": [
    "arr4 = np.array([[[1,2,3], [4,5,6]], [[7,8,9], [11,12,13]]])\n",
    "print(f\"Array:- \\n{arr4}\")\n",
    "print(f\"shape of an array: {arr4.shape}\")\n",
    "print(f\"size of an array: {arr4.size}\")\n",
    "print(f\"data type of an array: {arr4.dtype}\")\n",
    "print(f\"dimension of an array: {arr4.ndim}-dimensions\")\n",
    "print(f\"length of an array: {len(arr4)}\")"
   ]
  },
  {
   "cell_type": "code",
   "execution_count": 81,
   "id": "5ef7c83e",
   "metadata": {},
   "outputs": [
    {
     "data": {
      "text/plain": [
       "array([[[100]]])"
      ]
     },
     "execution_count": 81,
     "metadata": {},
     "output_type": "execute_result"
    }
   ],
   "source": [
    "arr = np.array(100, ndmin=3)\n",
    "arr"
   ]
  },
  {
   "cell_type": "code",
   "execution_count": 82,
   "id": "f2c83306",
   "metadata": {},
   "outputs": [
    {
     "data": {
      "text/plain": [
       "array([[[ 1,  2,  3],\n",
       "        [ 4,  5,  6]],\n",
       "\n",
       "       [[ 7,  8,  9],\n",
       "        [11, 12, 13]]])"
      ]
     },
     "execution_count": 82,
     "metadata": {},
     "output_type": "execute_result"
    }
   ],
   "source": [
    "arr4"
   ]
  },
  {
   "cell_type": "code",
   "execution_count": 90,
   "id": "943470a9",
   "metadata": {},
   "outputs": [
    {
     "data": {
      "text/plain": [
       "2"
      ]
     },
     "execution_count": 90,
     "metadata": {},
     "output_type": "execute_result"
    }
   ],
   "source": [
    "arr4[0][0][1]"
   ]
  },
  {
   "cell_type": "code",
   "execution_count": 91,
   "id": "8376bfdf",
   "metadata": {},
   "outputs": [
    {
     "data": {
      "text/plain": [
       "6"
      ]
     },
     "execution_count": 91,
     "metadata": {},
     "output_type": "execute_result"
    }
   ],
   "source": [
    "arr4[0,1,-1]"
   ]
  },
  {
   "cell_type": "code",
   "execution_count": 92,
   "id": "1fc6191b",
   "metadata": {},
   "outputs": [
    {
     "data": {
      "text/plain": [
       "13"
      ]
     },
     "execution_count": 92,
     "metadata": {},
     "output_type": "execute_result"
    }
   ],
   "source": [
    "arr4[1,1,-1]"
   ]
  },
  {
   "cell_type": "code",
   "execution_count": 93,
   "id": "fc61711d",
   "metadata": {},
   "outputs": [
    {
     "data": {
      "text/plain": [
       "8"
      ]
     },
     "execution_count": 93,
     "metadata": {},
     "output_type": "execute_result"
    }
   ],
   "source": [
    "arr4[1,0,1]"
   ]
  },
  {
   "cell_type": "code",
   "execution_count": 94,
   "id": "7f79e7d0",
   "metadata": {},
   "outputs": [
    {
     "data": {
      "text/plain": [
       "array([[  1,   2,   3,   4,   5],\n",
       "       [ 10,  20,  30,  40,  50],\n",
       "       [100, 200, 300, 400, 500]])"
      ]
     },
     "execution_count": 94,
     "metadata": {},
     "output_type": "execute_result"
    }
   ],
   "source": [
    "arr5 = np.array([[1,2,3,4,5],[10,20,30,40,50],[100,200,300,400,500]],int)\n",
    "arr5"
   ]
  },
  {
   "cell_type": "code",
   "execution_count": 98,
   "id": "8d51e47e",
   "metadata": {},
   "outputs": [
    {
     "data": {
      "text/plain": [
       "200"
      ]
     },
     "execution_count": 98,
     "metadata": {},
     "output_type": "execute_result"
    }
   ],
   "source": [
    "arr5[-1,1]"
   ]
  },
  {
   "cell_type": "code",
   "execution_count": 99,
   "id": "fd6e07e7",
   "metadata": {},
   "outputs": [
    {
     "data": {
      "text/plain": [
       "4"
      ]
     },
     "execution_count": 99,
     "metadata": {},
     "output_type": "execute_result"
    }
   ],
   "source": [
    "arr5[0,3]"
   ]
  },
  {
   "cell_type": "code",
   "execution_count": 100,
   "id": "3fc29c1d",
   "metadata": {},
   "outputs": [
    {
     "data": {
      "text/plain": [
       "500"
      ]
     },
     "execution_count": 100,
     "metadata": {},
     "output_type": "execute_result"
    }
   ],
   "source": [
    "arr5[2,-1]"
   ]
  },
  {
   "cell_type": "code",
   "execution_count": 101,
   "id": "70fc69e9",
   "metadata": {},
   "outputs": [
    {
     "data": {
      "text/plain": [
       "array([[[ 1,  2,  3],\n",
       "        [ 4,  5,  6]],\n",
       "\n",
       "       [[ 7,  8,  9],\n",
       "        [11, 12, 13]]])"
      ]
     },
     "execution_count": 101,
     "metadata": {},
     "output_type": "execute_result"
    }
   ],
   "source": [
    "arr4"
   ]
  },
  {
   "cell_type": "code",
   "execution_count": 111,
   "id": "79aaea07",
   "metadata": {},
   "outputs": [
    {
     "data": {
      "text/plain": [
       "array([[ 3,  6],\n",
       "       [ 9, 13]])"
      ]
     },
     "execution_count": 111,
     "metadata": {},
     "output_type": "execute_result"
    }
   ],
   "source": [
    "arr4[0:,0:,-1]"
   ]
  },
  {
   "cell_type": "code",
   "execution_count": 116,
   "id": "b9196f7b",
   "metadata": {},
   "outputs": [
    {
     "data": {
      "text/plain": [
       "array([[ 2,  5],\n",
       "       [ 8, 12]])"
      ]
     },
     "execution_count": 116,
     "metadata": {},
     "output_type": "execute_result"
    }
   ],
   "source": [
    "arr4[0:,0:,1 ]"
   ]
  },
  {
   "cell_type": "code",
   "execution_count": 119,
   "id": "cbde600a",
   "metadata": {},
   "outputs": [
    {
     "data": {
      "text/plain": [
       "array([[ 8, 12]])"
      ]
     },
     "execution_count": 119,
     "metadata": {},
     "output_type": "execute_result"
    }
   ],
   "source": [
    "arr4[1:, 0:, 1]"
   ]
  },
  {
   "cell_type": "code",
   "execution_count": 120,
   "id": "55a1623a",
   "metadata": {},
   "outputs": [
    {
     "data": {
      "text/plain": [
       "array([[  1,   2,   3,   4,   5],\n",
       "       [ 10,  20,  30,  40,  50],\n",
       "       [100, 200, 300, 400, 500]])"
      ]
     },
     "execution_count": 120,
     "metadata": {},
     "output_type": "execute_result"
    }
   ],
   "source": [
    "arr5"
   ]
  },
  {
   "cell_type": "code",
   "execution_count": 121,
   "id": "bf29a388",
   "metadata": {},
   "outputs": [
    {
     "data": {
      "text/plain": [
       "array([  1,  10, 100])"
      ]
     },
     "execution_count": 121,
     "metadata": {},
     "output_type": "execute_result"
    }
   ],
   "source": [
    "arr5[0:,0]"
   ]
  },
  {
   "cell_type": "code",
   "execution_count": 126,
   "id": "b98fcc47",
   "metadata": {},
   "outputs": [
    {
     "data": {
      "text/plain": [
       "array([  5,  50, 500])"
      ]
     },
     "execution_count": 126,
     "metadata": {},
     "output_type": "execute_result"
    }
   ],
   "source": [
    "arr5[0:,-1]"
   ]
  },
  {
   "cell_type": "code",
   "execution_count": 127,
   "id": "74445624",
   "metadata": {},
   "outputs": [
    {
     "data": {
      "text/plain": [
       "array([  3,  30, 300])"
      ]
     },
     "execution_count": 127,
     "metadata": {},
     "output_type": "execute_result"
    }
   ],
   "source": [
    "arr5[0:,2]"
   ]
  },
  {
   "cell_type": "code",
   "execution_count": 129,
   "id": "5aced7ea",
   "metadata": {},
   "outputs": [
    {
     "data": {
      "text/plain": [
       "30"
      ]
     },
     "execution_count": 129,
     "metadata": {},
     "output_type": "execute_result"
    }
   ],
   "source": [
    "arr5[1,2]"
   ]
  },
  {
   "cell_type": "code",
   "execution_count": 132,
   "id": "8d4fbd2d",
   "metadata": {},
   "outputs": [
    {
     "data": {
      "text/plain": [
       "300"
      ]
     },
     "execution_count": 132,
     "metadata": {},
     "output_type": "execute_result"
    }
   ],
   "source": [
    "arr5[2,2]"
   ]
  },
  {
   "cell_type": "code",
   "execution_count": 134,
   "id": "f7d46ccc",
   "metadata": {},
   "outputs": [
    {
     "data": {
      "text/plain": [
       "array([[[ 1,  2,  3],\n",
       "        [ 4,  5,  6]],\n",
       "\n",
       "       [[ 7,  8,  9],\n",
       "        [11, 12, 13]]])"
      ]
     },
     "execution_count": 134,
     "metadata": {},
     "output_type": "execute_result"
    }
   ],
   "source": [
    "arr4"
   ]
  },
  {
   "cell_type": "code",
   "execution_count": 135,
   "id": "0cbacaf6",
   "metadata": {},
   "outputs": [
    {
     "data": {
      "text/plain": [
       "12"
      ]
     },
     "execution_count": 135,
     "metadata": {},
     "output_type": "execute_result"
    }
   ],
   "source": [
    "arr4.size\n",
    "# 6,2\n",
    "# 3,2,2 or 2,2,3\n",
    "# 3,4 or 3,2,2"
   ]
  },
  {
   "cell_type": "code",
   "execution_count": 136,
   "id": "fa64b388",
   "metadata": {},
   "outputs": [
    {
     "data": {
      "text/plain": [
       "(2, 2, 3)"
      ]
     },
     "execution_count": 136,
     "metadata": {},
     "output_type": "execute_result"
    }
   ],
   "source": [
    "arr4.shape"
   ]
  },
  {
   "cell_type": "code",
   "execution_count": 137,
   "id": "519d6e6f",
   "metadata": {},
   "outputs": [
    {
     "data": {
      "text/plain": [
       "array([[[ 1,  2],\n",
       "        [ 3,  4]],\n",
       "\n",
       "       [[ 5,  6],\n",
       "        [ 7,  8]],\n",
       "\n",
       "       [[ 9, 11],\n",
       "        [12, 13]]])"
      ]
     },
     "execution_count": 137,
     "metadata": {},
     "output_type": "execute_result"
    }
   ],
   "source": [
    "arr4.reshape(3,2,2)"
   ]
  },
  {
   "cell_type": "code",
   "execution_count": 138,
   "id": "69c8e692",
   "metadata": {},
   "outputs": [
    {
     "data": {
      "text/plain": [
       "array([[  1,   2,   3,   4,   5],\n",
       "       [ 10,  20,  30,  40,  50],\n",
       "       [100, 200, 300, 400, 500]])"
      ]
     },
     "execution_count": 138,
     "metadata": {},
     "output_type": "execute_result"
    }
   ],
   "source": [
    "arr5"
   ]
  },
  {
   "cell_type": "code",
   "execution_count": 139,
   "id": "4b25ba37",
   "metadata": {},
   "outputs": [
    {
     "data": {
      "text/plain": [
       "15"
      ]
     },
     "execution_count": 139,
     "metadata": {},
     "output_type": "execute_result"
    }
   ],
   "source": [
    "arr5.size"
   ]
  },
  {
   "cell_type": "code",
   "execution_count": 140,
   "id": "7642353c",
   "metadata": {},
   "outputs": [
    {
     "data": {
      "text/plain": [
       "array([[  1],\n",
       "       [  2],\n",
       "       [  3],\n",
       "       [  4],\n",
       "       [  5],\n",
       "       [ 10],\n",
       "       [ 20],\n",
       "       [ 30],\n",
       "       [ 40],\n",
       "       [ 50],\n",
       "       [100],\n",
       "       [200],\n",
       "       [300],\n",
       "       [400],\n",
       "       [500]])"
      ]
     },
     "execution_count": 140,
     "metadata": {},
     "output_type": "execute_result"
    }
   ],
   "source": [
    "arr5.reshape(15,1)"
   ]
  },
  {
   "cell_type": "code",
   "execution_count": 141,
   "id": "0e0b5403",
   "metadata": {},
   "outputs": [
    {
     "data": {
      "text/plain": [
       "array([[  1,   2,   3,   4,   5,  10,  20,  30,  40,  50, 100, 200, 300,\n",
       "        400, 500]])"
      ]
     },
     "execution_count": 141,
     "metadata": {},
     "output_type": "execute_result"
    }
   ],
   "source": [
    "arr5.reshape(1,15)"
   ]
  },
  {
   "cell_type": "code",
   "execution_count": 142,
   "id": "ee24ec78",
   "metadata": {},
   "outputs": [
    {
     "data": {
      "text/plain": [
       "array([[[ 1,  2,  3],\n",
       "        [ 4,  5,  6]],\n",
       "\n",
       "       [[ 7,  8,  9],\n",
       "        [11, 12, 13]]])"
      ]
     },
     "execution_count": 142,
     "metadata": {},
     "output_type": "execute_result"
    }
   ],
   "source": [
    "arr4"
   ]
  },
  {
   "cell_type": "code",
   "execution_count": 147,
   "id": "6d8da14e",
   "metadata": {},
   "outputs": [
    {
     "data": {
      "text/plain": [
       "array([[[ 3],\n",
       "        [ 6]],\n",
       "\n",
       "       [[ 9],\n",
       "        [13]]])"
      ]
     },
     "execution_count": 147,
     "metadata": {},
     "output_type": "execute_result"
    }
   ],
   "source": [
    "arr4[:,:,2:3]"
   ]
  },
  {
   "cell_type": "code",
   "execution_count": 148,
   "id": "0803bc9a",
   "metadata": {},
   "outputs": [
    {
     "data": {
      "text/plain": [
       "array([[[ 1,  2,  3],\n",
       "        [ 4,  5,  6]],\n",
       "\n",
       "       [[ 7,  8,  9],\n",
       "        [11, 12, 13]]])"
      ]
     },
     "execution_count": 148,
     "metadata": {},
     "output_type": "execute_result"
    }
   ],
   "source": [
    "arr4"
   ]
  },
  {
   "cell_type": "code",
   "execution_count": 149,
   "id": "7884011c",
   "metadata": {},
   "outputs": [],
   "source": [
    "nw_arr = np.append(np.array([1,2,3]),arr4)"
   ]
  },
  {
   "cell_type": "code",
   "execution_count": 150,
   "id": "774157f2",
   "metadata": {},
   "outputs": [
    {
     "data": {
      "text/plain": [
       "array([ 1,  2,  3,  1,  2,  3,  4,  5,  6,  7,  8,  9, 11, 12, 13])"
      ]
     },
     "execution_count": 150,
     "metadata": {},
     "output_type": "execute_result"
    }
   ],
   "source": [
    "nw_arr"
   ]
  },
  {
   "cell_type": "code",
   "execution_count": 153,
   "id": "d3489ee6",
   "metadata": {},
   "outputs": [],
   "source": [
    "nw_arr1 = np.append(arr4, np.array(100))"
   ]
  },
  {
   "cell_type": "code",
   "execution_count": 154,
   "id": "aabd8e63",
   "metadata": {},
   "outputs": [
    {
     "data": {
      "text/plain": [
       "array([  1,   2,   3,   4,   5,   6,   7,   8,   9,  11,  12,  13, 100])"
      ]
     },
     "execution_count": 154,
     "metadata": {},
     "output_type": "execute_result"
    }
   ],
   "source": [
    "nw_arr1"
   ]
  },
  {
   "cell_type": "code",
   "execution_count": 162,
   "id": "7379bce6",
   "metadata": {},
   "outputs": [],
   "source": [
    "\n",
    "nw_arr1 = np.append(arr4, np.array(100,ndmin=4))"
   ]
  },
  {
   "cell_type": "code",
   "execution_count": 163,
   "id": "d1d57131",
   "metadata": {},
   "outputs": [
    {
     "data": {
      "text/plain": [
       "array([  1,   2,   3,   4,   5,   6,   7,   8,   9,  11,  12,  13, 100])"
      ]
     },
     "execution_count": 163,
     "metadata": {},
     "output_type": "execute_result"
    }
   ],
   "source": [
    "nw_arr1"
   ]
  },
  {
   "cell_type": "code",
   "execution_count": 171,
   "id": "664a4965",
   "metadata": {},
   "outputs": [],
   "source": [
    "\n",
    "nw_arr1 = np.append(arr4,np.array(5000,ndmin=4))"
   ]
  },
  {
   "cell_type": "code",
   "execution_count": 172,
   "id": "169394df",
   "metadata": {},
   "outputs": [
    {
     "data": {
      "text/plain": [
       "array([   1,    2,    3,    4,    5,    6,    7,    8,    9,   11,   12,\n",
       "         13, 5000])"
      ]
     },
     "execution_count": 172,
     "metadata": {},
     "output_type": "execute_result"
    }
   ],
   "source": [
    "nw_arr1"
   ]
  },
  {
   "cell_type": "code",
   "execution_count": 185,
   "id": "30ffab82",
   "metadata": {},
   "outputs": [],
   "source": [
    "f_value = np.array([1.5,5.5,3.6,12.2,3.2,6.2])"
   ]
  },
  {
   "cell_type": "code",
   "execution_count": 188,
   "id": "6b3d9d28",
   "metadata": {},
   "outputs": [
    {
     "data": {
      "text/plain": [
       "array([ 1.,  5.,  3., 12.,  3.,  6.])"
      ]
     },
     "execution_count": 188,
     "metadata": {},
     "output_type": "execute_result"
    }
   ],
   "source": [
    "np.floor(f_value)"
   ]
  },
  {
   "cell_type": "code",
   "execution_count": 189,
   "id": "4df5dd54",
   "metadata": {},
   "outputs": [
    {
     "data": {
      "text/plain": [
       "array([ 2.,  6.,  4., 13.,  4.,  7.])"
      ]
     },
     "execution_count": 189,
     "metadata": {},
     "output_type": "execute_result"
    }
   ],
   "source": [
    "np.ceil(f_value)"
   ]
  },
  {
   "cell_type": "code",
   "execution_count": 193,
   "id": "400242d3",
   "metadata": {},
   "outputs": [
    {
     "data": {
      "text/plain": [
       "array([ 2.,  6.,  4., 12.,  3.,  6.])"
      ]
     },
     "execution_count": 193,
     "metadata": {},
     "output_type": "execute_result"
    }
   ],
   "source": [
    "around_val = np.around(f_value)\n",
    "around_val"
   ]
  },
  {
   "cell_type": "code",
   "execution_count": 194,
   "id": "ed01de01",
   "metadata": {},
   "outputs": [
    {
     "data": {
      "text/plain": [
       "(array([1, 3, 5], dtype=int64),)"
      ]
     },
     "execution_count": 194,
     "metadata": {},
     "output_type": "execute_result"
    }
   ],
   "source": [
    "np.where(around_val > 5)"
   ]
  },
  {
   "cell_type": "code",
   "execution_count": 199,
   "id": "3418890b",
   "metadata": {},
   "outputs": [
    {
     "data": {
      "text/plain": [
       "[0, 1, 2, 3, 5]"
      ]
     },
     "execution_count": 199,
     "metadata": {},
     "output_type": "execute_result"
    }
   ],
   "source": [
    "np.where(around_val % 2 == 0)[0].tolist()"
   ]
  },
  {
   "cell_type": "code",
   "execution_count": 200,
   "id": "93288256",
   "metadata": {},
   "outputs": [
    {
     "data": {
      "text/plain": [
       "array([[[ 1,  2,  3],\n",
       "        [ 4,  5,  6]],\n",
       "\n",
       "       [[ 7,  8,  9],\n",
       "        [11, 12, 13]]])"
      ]
     },
     "execution_count": 200,
     "metadata": {},
     "output_type": "execute_result"
    }
   ],
   "source": [
    "arr4"
   ]
  },
  {
   "cell_type": "code",
   "execution_count": 201,
   "id": "4c87672a",
   "metadata": {},
   "outputs": [
    {
     "name": "stdout",
     "output_type": "stream",
     "text": [
      "1\n",
      "2\n",
      "3\n",
      "4\n",
      "5\n",
      "6\n",
      "7\n",
      "8\n",
      "9\n",
      "11\n",
      "12\n",
      "13\n"
     ]
    }
   ],
   "source": [
    "for i in arr4:\n",
    "    for j in i:\n",
    "        for k in j:\n",
    "            print(k)"
   ]
  },
  {
   "cell_type": "code",
   "execution_count": 202,
   "id": "2004d2a0",
   "metadata": {},
   "outputs": [
    {
     "name": "stdout",
     "output_type": "stream",
     "text": [
      "1\n",
      "2\n",
      "3\n",
      "4\n",
      "5\n",
      "6\n",
      "7\n",
      "8\n",
      "9\n",
      "11\n",
      "12\n",
      "13\n"
     ]
    }
   ],
   "source": [
    "for i in np.nditer(arr4):\n",
    "    print(i)"
   ]
  },
  {
   "cell_type": "code",
   "execution_count": 204,
   "id": "4511c3a6",
   "metadata": {},
   "outputs": [
    {
     "name": "stdout",
     "output_type": "stream",
     "text": [
      "(0, 0, 0) 1\n",
      "(0, 0, 1) 2\n",
      "(0, 0, 2) 3\n",
      "(0, 1, 0) 4\n",
      "(0, 1, 1) 5\n",
      "(0, 1, 2) 6\n",
      "(1, 0, 0) 7\n",
      "(1, 0, 1) 8\n",
      "(1, 0, 2) 9\n",
      "(1, 1, 0) 11\n",
      "(1, 1, 1) 12\n",
      "(1, 1, 2) 13\n"
     ]
    }
   ],
   "source": [
    "for i,j in np.ndenumerate(arr4):\n",
    "    print(i,j)"
   ]
  },
  {
   "cell_type": "code",
   "execution_count": 209,
   "id": "4f5bcdd1",
   "metadata": {},
   "outputs": [
    {
     "data": {
      "text/plain": [
       "array([0, 0, 0, 0, 0, 0, 0, 0, 0, 0])"
      ]
     },
     "execution_count": 209,
     "metadata": {},
     "output_type": "execute_result"
    }
   ],
   "source": [
    "z_ar = np.zeros(10,dtype=int)\n",
    "z_ar"
   ]
  },
  {
   "cell_type": "code",
   "execution_count": 210,
   "id": "052f78e9",
   "metadata": {},
   "outputs": [
    {
     "data": {
      "text/plain": [
       "array([[0, 0, 0],\n",
       "       [0, 0, 0],\n",
       "       [0, 0, 0]])"
      ]
     },
     "execution_count": 210,
     "metadata": {},
     "output_type": "execute_result"
    }
   ],
   "source": [
    "z_mt = np.zeros([3,3],dtype=int)\n",
    "z_mt"
   ]
  },
  {
   "cell_type": "code",
   "execution_count": 212,
   "id": "9e3d7119",
   "metadata": {},
   "outputs": [
    {
     "data": {
      "text/plain": [
       "array([[1., 1., 1.],\n",
       "       [1., 1., 1.],\n",
       "       [1., 1., 1.]])"
      ]
     },
     "execution_count": 212,
     "metadata": {},
     "output_type": "execute_result"
    }
   ],
   "source": [
    "one_ar = np.ones([3,3])\n",
    "one_ar"
   ]
  },
  {
   "cell_type": "code",
   "execution_count": 214,
   "id": "56fae327",
   "metadata": {},
   "outputs": [
    {
     "data": {
      "text/plain": [
       "array([1, 1, 1, 1, 1, 1, 1, 1, 1, 1])"
      ]
     },
     "execution_count": 214,
     "metadata": {},
     "output_type": "execute_result"
    }
   ],
   "source": [
    "one_mt = np.ones(10,int)\n",
    "one_mt"
   ]
  },
  {
   "cell_type": "code",
   "execution_count": 219,
   "id": "704463c1",
   "metadata": {},
   "outputs": [
    {
     "data": {
      "text/plain": [
       "(array([ 1. ,  2.4,  3.8,  5.2,  6.6,  8. ,  9.4, 10.8, 12.2, 13.6]), 1.4)"
      ]
     },
     "execution_count": 219,
     "metadata": {},
     "output_type": "execute_result"
    }
   ],
   "source": [
    "spaced_val = np.linspace(1, 15, num=10,endpoint=False, retstep=True)\n",
    "spaced_val"
   ]
  },
  {
   "cell_type": "code",
   "execution_count": 231,
   "id": "ab0e3e64",
   "metadata": {},
   "outputs": [
    {
     "data": {
      "text/plain": [
       "array([[0, 0, 1, 0, 0],\n",
       "       [0, 0, 0, 1, 0],\n",
       "       [0, 0, 0, 0, 1]])"
      ]
     },
     "execution_count": 231,
     "metadata": {},
     "output_type": "execute_result"
    }
   ],
   "source": [
    "eye = np.eye(3,5,k=2,dtype=int)\n",
    "eye"
   ]
  },
  {
   "cell_type": "code",
   "execution_count": 234,
   "id": "587ac289",
   "metadata": {},
   "outputs": [
    {
     "data": {
      "text/plain": [
       "array([[1, 0, 0],\n",
       "       [0, 1, 0],\n",
       "       [0, 0, 1]])"
      ]
     },
     "execution_count": 234,
     "metadata": {},
     "output_type": "execute_result"
    }
   ],
   "source": [
    "identy= np.identity(3,dtype=int)\n",
    "identy"
   ]
  },
  {
   "cell_type": "code",
   "execution_count": 251,
   "id": "54e7d1e4",
   "metadata": {},
   "outputs": [
    {
     "data": {
      "text/plain": [
       "0.05585214941455219"
      ]
     },
     "execution_count": 251,
     "metadata": {},
     "output_type": "execute_result"
    }
   ],
   "source": [
    "rand = np.random.rand()  \n",
    "rand"
   ]
  },
  {
   "cell_type": "code",
   "execution_count": 262,
   "id": "826cef59",
   "metadata": {},
   "outputs": [
    {
     "data": {
      "text/plain": [
       "array([[13,  9,  5],\n",
       "       [ 3,  5,  3],\n",
       "       [10, 10,  5]])"
      ]
     },
     "execution_count": 262,
     "metadata": {},
     "output_type": "execute_result"
    }
   ],
   "source": [
    "randint = np.random.randint(1,15,size=[3,3])\n",
    "randint"
   ]
  },
  {
   "cell_type": "code",
   "execution_count": 266,
   "id": "bc5b2238",
   "metadata": {},
   "outputs": [
    {
     "data": {
      "text/plain": [
       "array([ 0.59884324, -0.22026296, -0.07083474,  0.23591099, -0.22485722])"
      ]
     },
     "execution_count": 266,
     "metadata": {},
     "output_type": "execute_result"
    }
   ],
   "source": [
    "randn = np.random.randn(5) # mean 0 and variance 1\n",
    "randn"
   ]
  },
  {
   "cell_type": "code",
   "execution_count": 290,
   "id": "2aa9734f",
   "metadata": {},
   "outputs": [
    {
     "data": {
      "text/plain": [
       "array([0.46145467, 0.84314843, 0.73814889, 0.62905192, 0.35659695])"
      ]
     },
     "execution_count": 290,
     "metadata": {},
     "output_type": "execute_result"
    }
   ],
   "source": [
    "ranf = np.random.ranf(5)\n",
    "ranf"
   ]
  },
  {
   "cell_type": "code",
   "execution_count": 291,
   "id": "f60240ed",
   "metadata": {},
   "outputs": [
    {
     "data": {
      "text/plain": [
       "array([[[ 1,  2,  3],\n",
       "        [ 4,  5,  6]],\n",
       "\n",
       "       [[ 7,  8,  9],\n",
       "        [11, 12, 13]]])"
      ]
     },
     "execution_count": 291,
     "metadata": {},
     "output_type": "execute_result"
    }
   ],
   "source": [
    "arr4"
   ]
  },
  {
   "cell_type": "code",
   "execution_count": 298,
   "id": "6e354a97",
   "metadata": {},
   "outputs": [],
   "source": [
    "ar1 = np.array([[[ 1,  2,  3], [ 4,  5,  6]], [[ 7,  8,  9], [11, 12, 13]]])\n",
    "ar2 = np.array([[[11, 22, 33], [44, 55, 66]], [[77, 88, 99], [100, 200,300]]])\n",
    "\n",
    "ar3 = np.append(ar1,ar2)"
   ]
  },
  {
   "cell_type": "code",
   "execution_count": 299,
   "id": "b8688884",
   "metadata": {},
   "outputs": [
    {
     "data": {
      "text/plain": [
       "array([  1,   2,   3,   4,   5,   6,   7,   8,   9,  11,  12,  13,  11,\n",
       "        22,  33,  44,  55,  66,  77,  88,  99, 100, 200, 300])"
      ]
     },
     "execution_count": 299,
     "metadata": {},
     "output_type": "execute_result"
    }
   ],
   "source": [
    "ar3"
   ]
  },
  {
   "cell_type": "code",
   "execution_count": 302,
   "id": "0cb9b1e9",
   "metadata": {},
   "outputs": [
    {
     "data": {
      "text/plain": [
       "array([[[  1,   2,   3],\n",
       "        [  4,   5,   6],\n",
       "        [ 11,  22,  33],\n",
       "        [ 44,  55,  66]],\n",
       "\n",
       "       [[  7,   8,   9],\n",
       "        [ 11,  12,  13],\n",
       "        [ 77,  88,  99],\n",
       "        [100, 200, 300]]])"
      ]
     },
     "execution_count": 302,
     "metadata": {},
     "output_type": "execute_result"
    }
   ],
   "source": [
    "ar4 = np.append(ar1, ar2,axis=1)\n",
    "ar4"
   ]
  },
  {
   "cell_type": "code",
   "execution_count": 303,
   "id": "9cd41fbe",
   "metadata": {},
   "outputs": [
    {
     "data": {
      "text/plain": [
       "array([[[  1,   2,   3],\n",
       "        [  4,   5,   6]],\n",
       "\n",
       "       [[  7,   8,   9],\n",
       "        [ 11,  12,  13]],\n",
       "\n",
       "       [[ 11,  22,  33],\n",
       "        [ 44,  55,  66]],\n",
       "\n",
       "       [[ 77,  88,  99],\n",
       "        [100, 200, 300]]])"
      ]
     },
     "execution_count": 303,
     "metadata": {},
     "output_type": "execute_result"
    }
   ],
   "source": [
    "ar4 = np.append(ar1, ar2,axis=0)\n",
    "ar4"
   ]
  },
  {
   "cell_type": "code",
   "execution_count": 307,
   "id": "57e8789a",
   "metadata": {},
   "outputs": [
    {
     "data": {
      "text/plain": [
       "array([[[ 11,  22,  33],\n",
       "        [ 44,  55,  66]],\n",
       "\n",
       "       [[ 77,  88,  99],\n",
       "        [100, 200, 300]]])"
      ]
     },
     "execution_count": 307,
     "metadata": {},
     "output_type": "execute_result"
    }
   ],
   "source": [
    "ar2.sort()\n",
    "ar2"
   ]
  },
  {
   "cell_type": "code",
   "execution_count": 308,
   "id": "c77887bc",
   "metadata": {},
   "outputs": [],
   "source": [
    "radom_ar = np.random.randint(1,15,size=5)"
   ]
  },
  {
   "cell_type": "code",
   "execution_count": 310,
   "id": "16a765ed",
   "metadata": {},
   "outputs": [],
   "source": [
    "radom_ar.sort()"
   ]
  },
  {
   "cell_type": "code",
   "execution_count": 311,
   "id": "ef62be0d",
   "metadata": {},
   "outputs": [
    {
     "data": {
      "text/plain": [
       "array([ 2,  3,  7,  7, 11])"
      ]
     },
     "execution_count": 311,
     "metadata": {},
     "output_type": "execute_result"
    }
   ],
   "source": [
    "radom_ar"
   ]
  },
  {
   "cell_type": "code",
   "execution_count": 312,
   "id": "7a8225f0",
   "metadata": {},
   "outputs": [],
   "source": [
    "radom_ar = np.random.randint(1,15,size=[3,3])"
   ]
  },
  {
   "cell_type": "code",
   "execution_count": 313,
   "id": "340df466",
   "metadata": {},
   "outputs": [
    {
     "data": {
      "text/plain": [
       "array([[ 3, 14,  7],\n",
       "       [ 9, 12,  2],\n",
       "       [ 3,  5,  9]])"
      ]
     },
     "execution_count": 313,
     "metadata": {},
     "output_type": "execute_result"
    }
   ],
   "source": [
    "radom_ar"
   ]
  },
  {
   "cell_type": "code",
   "execution_count": 314,
   "id": "cb0b92e4",
   "metadata": {},
   "outputs": [],
   "source": [
    "radom_ar.sort(axis=1)"
   ]
  },
  {
   "cell_type": "code",
   "execution_count": 315,
   "id": "26f4ca7f",
   "metadata": {},
   "outputs": [
    {
     "data": {
      "text/plain": [
       "array([[ 3,  7, 14],\n",
       "       [ 2,  9, 12],\n",
       "       [ 3,  5,  9]])"
      ]
     },
     "execution_count": 315,
     "metadata": {},
     "output_type": "execute_result"
    }
   ],
   "source": [
    "radom_ar"
   ]
  },
  {
   "cell_type": "code",
   "execution_count": 316,
   "id": "4ef4d0d5",
   "metadata": {},
   "outputs": [
    {
     "data": {
      "text/plain": [
       "array([[ 2,  5,  9],\n",
       "       [ 3,  7, 12],\n",
       "       [ 3,  9, 14]])"
      ]
     },
     "execution_count": 316,
     "metadata": {},
     "output_type": "execute_result"
    }
   ],
   "source": [
    "radom_ar.sort(axis=0)\n",
    "radom_ar"
   ]
  },
  {
   "cell_type": "code",
   "execution_count": 317,
   "id": "a73dfbce",
   "metadata": {},
   "outputs": [
    {
     "data": {
      "text/plain": [
       "array([[5, 5, 5],\n",
       "       [5, 5, 5],\n",
       "       [5, 5, 5]])"
      ]
     },
     "execution_count": 317,
     "metadata": {},
     "output_type": "execute_result"
    }
   ],
   "source": [
    "np.full(shape=[3,3], fill_value=5)"
   ]
  },
  {
   "cell_type": "code",
   "execution_count": 325,
   "id": "6154abc9",
   "metadata": {},
   "outputs": [
    {
     "data": {
      "text/plain": [
       "4"
      ]
     },
     "execution_count": 325,
     "metadata": {},
     "output_type": "execute_result"
    }
   ],
   "source": [
    "ar2.itemsize"
   ]
  },
  {
   "cell_type": "code",
   "execution_count": 327,
   "id": "37e52a79",
   "metadata": {},
   "outputs": [
    {
     "data": {
      "text/plain": [
       "4"
      ]
     },
     "execution_count": 327,
     "metadata": {},
     "output_type": "execute_result"
    }
   ],
   "source": [
    "radom_ar.itemsize"
   ]
  },
  {
   "cell_type": "code",
   "execution_count": null,
   "id": "8f57974b",
   "metadata": {},
   "outputs": [],
   "source": []
  }
 ],
 "metadata": {
  "kernelspec": {
   "display_name": "Python 3 (ipykernel)",
   "language": "python",
   "name": "python3"
  },
  "language_info": {
   "codemirror_mode": {
    "name": "ipython",
    "version": 3
   },
   "file_extension": ".py",
   "mimetype": "text/x-python",
   "name": "python",
   "nbconvert_exporter": "python",
   "pygments_lexer": "ipython3",
   "version": "3.9.12"
  }
 },
 "nbformat": 4,
 "nbformat_minor": 5
}
