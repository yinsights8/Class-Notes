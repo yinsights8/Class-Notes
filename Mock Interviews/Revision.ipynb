{
 "cells": [
  {
   "cell_type": "code",
   "execution_count": 1,
   "id": "10a1a1ad",
   "metadata": {},
   "outputs": [],
   "source": [
    "def HelloFunc(func):\n",
    "    print(\"Hello 1\")\n",
    "    \n",
    "    def Inner_func():\n",
    "        print(\"Inner function 2\")\n",
    "        func()\n",
    "        return \"Inner func\"\n",
    "    return Inner_func"
   ]
  },
  {
   "cell_type": "code",
   "execution_count": 2,
   "id": "8a117b96",
   "metadata": {},
   "outputs": [
    {
     "name": "stdout",
     "output_type": "stream",
     "text": [
      "Hello 1\n",
      "Inner function 2\n",
      "THis is end\n"
     ]
    },
    {
     "data": {
      "text/plain": [
       "'Inner func'"
      ]
     },
     "execution_count": 2,
     "metadata": {},
     "output_type": "execute_result"
    }
   ],
   "source": [
    "@HelloFunc\n",
    "def print_data():\n",
    "    print(\"THis is end\")\n",
    "print_data()"
   ]
  },
  {
   "cell_type": "code",
   "execution_count": 3,
   "id": "9941f7e2",
   "metadata": {},
   "outputs": [],
   "source": [
    "# obj = HelloFunc(print_data)\n",
    "# obj()"
   ]
  },
  {
   "cell_type": "code",
   "execution_count": 4,
   "id": "a5c438c8",
   "metadata": {},
   "outputs": [],
   "source": [
    "def Division(func):\n",
    "    print(\"in Divsion Func\")\n",
    "    \n",
    "    def Inner_Division(a,b):\n",
    "        if a < b:\n",
    "            a,b = b,a\n",
    "        else:\n",
    "            func(a,b)\n",
    "        return func(a,b)\n",
    "    \n",
    "    return Inner_Division"
   ]
  },
  {
   "cell_type": "code",
   "execution_count": null,
   "id": "27df7ecd",
   "metadata": {},
   "outputs": [],
   "source": []
  },
  {
   "cell_type": "code",
   "execution_count": 5,
   "id": "8f53f914",
   "metadata": {},
   "outputs": [
    {
     "name": "stdout",
     "output_type": "stream",
     "text": [
      "in Divsion Func\n"
     ]
    },
    {
     "data": {
      "text/plain": [
       "5.0"
      ]
     },
     "execution_count": 5,
     "metadata": {},
     "output_type": "execute_result"
    }
   ],
   "source": [
    "@Division\n",
    "def Div(a,b):\n",
    "    return a/b\n",
    "\n",
    "Div(2,10)"
   ]
  },
  {
   "cell_type": "code",
   "execution_count": 6,
   "id": "fe8c993a",
   "metadata": {},
   "outputs": [
    {
     "data": {
      "text/plain": [
       "5.0"
      ]
     },
     "execution_count": 6,
     "metadata": {},
     "output_type": "execute_result"
    }
   ],
   "source": [
    "Div(10,2)"
   ]
  },
  {
   "cell_type": "code",
   "execution_count": 7,
   "id": "a264fff4",
   "metadata": {},
   "outputs": [
    {
     "data": {
      "text/plain": [
       "2.0"
      ]
     },
     "execution_count": 7,
     "metadata": {},
     "output_type": "execute_result"
    }
   ],
   "source": [
    "Div(5,10)"
   ]
  },
  {
   "cell_type": "code",
   "execution_count": 8,
   "id": "ab928990",
   "metadata": {},
   "outputs": [
    {
     "data": {
      "text/plain": [
       "2.0"
      ]
     },
     "execution_count": 8,
     "metadata": {},
     "output_type": "execute_result"
    }
   ],
   "source": [
    "Div(10,5)"
   ]
  },
  {
   "cell_type": "code",
   "execution_count": 9,
   "id": "28ea8403",
   "metadata": {},
   "outputs": [
    {
     "data": {
      "text/plain": [
       "5.0"
      ]
     },
     "execution_count": 9,
     "metadata": {},
     "output_type": "execute_result"
    }
   ],
   "source": [
    "Div(2,10)"
   ]
  },
  {
   "cell_type": "code",
   "execution_count": 10,
   "id": "812154b9",
   "metadata": {},
   "outputs": [
    {
     "data": {
      "text/plain": [
       "5.0"
      ]
     },
     "execution_count": 10,
     "metadata": {},
     "output_type": "execute_result"
    }
   ],
   "source": [
    "Div(10,2)"
   ]
  },
  {
   "cell_type": "markdown",
   "id": "7b25590c",
   "metadata": {},
   "source": [
    "## iterators"
   ]
  },
  {
   "cell_type": "code",
   "execution_count": 2,
   "id": "f352c30f",
   "metadata": {},
   "outputs": [
    {
     "name": "stdout",
     "output_type": "stream",
     "text": [
      "2\n",
      "3\n",
      "4\n",
      "5\n"
     ]
    },
    {
     "ename": "StopIteration",
     "evalue": "",
     "output_type": "error",
     "traceback": [
      "\u001b[1;31m---------------------------------------------------------------------------\u001b[0m",
      "\u001b[1;31mStopIteration\u001b[0m                             Traceback (most recent call last)",
      "Input \u001b[1;32mIn [2]\u001b[0m, in \u001b[0;36m<cell line: 23>\u001b[1;34m()\u001b[0m\n\u001b[0;32m     21\u001b[0m \u001b[38;5;28mprint\u001b[39m(Range\u001b[38;5;241m.\u001b[39m\u001b[38;5;21m__next__\u001b[39m())\n\u001b[0;32m     22\u001b[0m \u001b[38;5;28mprint\u001b[39m(Range\u001b[38;5;241m.\u001b[39m\u001b[38;5;21m__next__\u001b[39m())\n\u001b[1;32m---> 23\u001b[0m \u001b[38;5;28mprint\u001b[39m(\u001b[43mRange\u001b[49m\u001b[38;5;241;43m.\u001b[39;49m\u001b[38;5;21;43m__next__\u001b[39;49m\u001b[43m(\u001b[49m\u001b[43m)\u001b[49m)\n",
      "Input \u001b[1;32mIn [2]\u001b[0m, in \u001b[0;36mRange.__next__\u001b[1;34m(self)\u001b[0m\n\u001b[0;32m     13\u001b[0m     \u001b[38;5;28;01mreturn\u001b[39;00m var\n\u001b[0;32m     14\u001b[0m \u001b[38;5;28;01melse\u001b[39;00m:\n\u001b[1;32m---> 15\u001b[0m     \u001b[38;5;28;01mraise\u001b[39;00m \u001b[38;5;167;01mStopIteration\u001b[39;00m\n",
      "\u001b[1;31mStopIteration\u001b[0m: "
     ]
    }
   ],
   "source": [
    "class Range():\n",
    "    def __init__(self,start,last):\n",
    "        self.start = start\n",
    "        self.last = last\n",
    "        \n",
    "    def __iter__(self):\n",
    "        self.start\n",
    "    \n",
    "    def __next__(self):\n",
    "        if self.start < self.last:\n",
    "            self.start += 1\n",
    "            var = self.start\n",
    "            return var\n",
    "        else:\n",
    "            raise StopIteration\n",
    "    \n",
    "    \n",
    "Range = Range(1,5)\n",
    "print(Range.__next__())\n",
    "print(Range.__next__())\n",
    "print(Range.__next__())\n",
    "print(Range.__next__())\n",
    "print(Range.__next__())"
   ]
  },
  {
   "cell_type": "code",
   "execution_count": 14,
   "id": "1d4755d7",
   "metadata": {},
   "outputs": [
    {
     "ename": "StopIteration",
     "evalue": "",
     "output_type": "error",
     "traceback": [
      "\u001b[1;31m---------------------------------------------------------------------------\u001b[0m",
      "\u001b[1;31mStopIteration\u001b[0m                             Traceback (most recent call last)",
      "Input \u001b[1;32mIn [14]\u001b[0m, in \u001b[0;36m<cell line: 1>\u001b[1;34m()\u001b[0m\n\u001b[1;32m----> 1\u001b[0m \u001b[38;5;28mprint\u001b[39m(\u001b[38;5;28;43mnext\u001b[39;49m\u001b[43m(\u001b[49m\u001b[43mRange\u001b[49m\u001b[43m)\u001b[49m)\n\u001b[0;32m      2\u001b[0m \u001b[38;5;28mprint\u001b[39m(\u001b[38;5;28mnext\u001b[39m(Range))\n",
      "Input \u001b[1;32mIn [13]\u001b[0m, in \u001b[0;36mRange.__next__\u001b[1;34m(self)\u001b[0m\n\u001b[0;32m     13\u001b[0m     \u001b[38;5;28;01mreturn\u001b[39;00m var\n\u001b[0;32m     14\u001b[0m \u001b[38;5;28;01melse\u001b[39;00m:\n\u001b[1;32m---> 15\u001b[0m     \u001b[38;5;28;01mraise\u001b[39;00m \u001b[38;5;167;01mStopIteration\u001b[39;00m\n",
      "\u001b[1;31mStopIteration\u001b[0m: "
     ]
    }
   ],
   "source": [
    "print(next(Range))\n",
    "print(next(Range))"
   ]
  },
  {
   "cell_type": "code",
   "execution_count": 15,
   "id": "a034cd5b",
   "metadata": {},
   "outputs": [
    {
     "name": "stdout",
     "output_type": "stream",
     "text": [
      "1\n",
      "4\n",
      "9\n",
      "16\n",
      "25\n",
      "36\n"
     ]
    }
   ],
   "source": [
    "def sqr(nums):\n",
    "    for i in nums:\n",
    "        sq = i ** 2\n",
    "        yield sq\n",
    "        \n",
    "x = sqr([1,2,3,4,5,6])\n",
    "\n",
    "for i in x:\n",
    "    print(i)"
   ]
  },
  {
   "cell_type": "code",
   "execution_count": 16,
   "id": "456988a9",
   "metadata": {},
   "outputs": [],
   "source": [
    "import numpy as np"
   ]
  },
  {
   "cell_type": "code",
   "execution_count": null,
   "id": "1d64b94c",
   "metadata": {},
   "outputs": [],
   "source": [
    "3x + 5y + 10z = 20\n",
    "4x + 7y + 13z = 30\n",
    "2x + 17y + 3z = 40"
   ]
  },
  {
   "cell_type": "code",
   "execution_count": 19,
   "id": "03b36700",
   "metadata": {},
   "outputs": [
    {
     "name": "stdout",
     "output_type": "stream",
     "text": [
      "Array1 --> \n",
      "[[[ 3  5 10]\n",
      "  [ 4  7 13]\n",
      "  [ 2 17  3]]]\n",
      "Array2 --> \n",
      "[20 30 40]\n"
     ]
    }
   ],
   "source": [
    "arr1 = np.array([[[3,5,10],[4,7,13],[2,17,3]]])\n",
    "print(f\"Array1 --> \\n{arr1}\")\n",
    "arr2 = np.array([20,30,40])\n",
    "print(f\"Array2 --> \\n{arr2}\")"
   ]
  },
  {
   "cell_type": "code",
   "execution_count": null,
   "id": "bca7e0ae",
   "metadata": {},
   "outputs": [],
   "source": []
  }
 ],
 "metadata": {
  "kernelspec": {
   "display_name": "Python 3 (ipykernel)",
   "language": "python",
   "name": "python3"
  },
  "language_info": {
   "codemirror_mode": {
    "name": "ipython",
    "version": 3
   },
   "file_extension": ".py",
   "mimetype": "text/x-python",
   "name": "python",
   "nbconvert_exporter": "python",
   "pygments_lexer": "ipython3",
   "version": "3.9.12"
  }
 },
 "nbformat": 4,
 "nbformat_minor": 5
}
