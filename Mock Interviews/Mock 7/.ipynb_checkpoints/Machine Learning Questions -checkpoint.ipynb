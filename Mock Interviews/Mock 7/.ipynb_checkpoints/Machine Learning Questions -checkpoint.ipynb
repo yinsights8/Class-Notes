{
 "cells": [
  {
   "cell_type": "markdown",
   "id": "abe3d05f",
   "metadata": {},
   "source": [
    "###  Linear Regression Questions"
   ]
  },
  {
   "cell_type": "raw",
   "id": "4f425fa9",
   "metadata": {},
   "source": [
    "Q.1 Real time example of linearity\n",
    "\n",
    "Q.2 Normal distribution example in real life\n",
    "\n",
    "Q.3 Live example of multicolinearity\n",
    "\n",
    "Q.4 2 Python programs\n",
    "\n",
    "Q.5 difference between variance,  covariance, colinearity \n",
    "\n",
    "Q.6 How to check normality\n",
    "\n",
    "Q.7 Assumption"
   ]
  },
  {
   "cell_type": "markdown",
   "id": "7c3fb685",
   "metadata": {},
   "source": [
    "### Q.1 Real time example of linearity"
   ]
  },
  {
   "cell_type": "raw",
   "id": "61c546b6",
   "metadata": {},
   "source": [
    "--> cricket score \n",
    "        - As Overs Increses, Runs increses\n",
    "as X increses Y increses  ( X ↑, & Y ↑ )\n",
    "        OR\n",
    "- as X increase Y decrease  ( X ↑, & Y ↓ )"
   ]
  },
  {
   "cell_type": "markdown",
   "id": "d8a547a9",
   "metadata": {},
   "source": [
    "### Q.2 Normal distribution example in real life."
   ]
  },
  {
   "cell_type": "raw",
   "id": "e67d3738",
   "metadata": {},
   "source": [
    "--> it has fixed start and end values. such as I have a job (data science) where i paid 100000 rs per day but the wages vary on the basis of work, but my final income is fix that is 50000000.\n",
    "so we can say that it is normally distributed."
   ]
  },
  {
   "cell_type": "markdown",
   "id": "a3445629",
   "metadata": {},
   "source": [
    "### Q.3 Live example of multicolinearity."
   ]
  },
  {
   "cell_type": "raw",
   "id": "fd0b4b1f",
   "metadata": {},
   "source": [
    "---> X1 And X2 are both the features of the dataset.\n",
    "    X1       X2\n",
    "    10       100\n",
    "    20       200\n",
    "    30       300\n",
    "    40       400\n",
    "    \n",
    "it appears that the X1 and X2 are having Multicolinearity. because as X1 increses X2 is also increses."
   ]
  },
  {
   "cell_type": "code",
   "execution_count": null,
   "id": "0ec50dd3",
   "metadata": {},
   "outputs": [],
   "source": []
  },
  {
   "cell_type": "markdown",
   "id": "a1dc160a",
   "metadata": {},
   "source": [
    "## Q. difference between variance,  covariance, colinearity"
   ]
  },
  {
   "cell_type": "raw",
   "id": "51fb890a",
   "metadata": {},
   "source": [
    "Variance :- It is a Error rate of test data points."
   ]
  },
  {
   "cell_type": "raw",
   "id": "a62efca6",
   "metadata": {},
   "source": [
    "Covariance :- Covariance shows you how the two variables differ. \n",
    "\n",
    "Covariance indicates the relationship of two variables whenever one variable changes. If an increase in one variable results in an increase in the other variable, both variables are said to have a positive covariance. Decreases in one variable also cause a decrease in the other.\n",
    "\n",
    "(X ↑, & Y ↑ = +ve covariance)\n",
    "\n",
    "(X ↑, & Y ↓ = -ve covariance)\n",
    "\n",
    "NOTE :- It tells you that what is the direction of the variables is, But is dosen't show how much it is +vely correlated and how much it is -ve correlated."
   ]
  },
  {
   "cell_type": "code",
   "execution_count": null,
   "id": "8eb948b7",
   "metadata": {},
   "outputs": [],
   "source": []
  },
  {
   "cell_type": "raw",
   "id": "7a758b14",
   "metadata": {},
   "source": [
    "Corelations:- \n",
    "- Correlation (Pearson cofficient of correlations or cofficient of corelation)\n",
    "- correlation shows you how the two variables are related.\n",
    "- it shows how strongly variables is corelated (X and Y)\n",
    "\n",
    "- Correlation shows the strength as well as direction of the variables (+ve direction, -ve direction) and how much strongly colrelated feature is (X and Y)."
   ]
  },
  {
   "cell_type": "code",
   "execution_count": null,
   "id": "9c01f02b",
   "metadata": {},
   "outputs": [],
   "source": []
  },
  {
   "cell_type": "code",
   "execution_count": null,
   "id": "6bf1fcba",
   "metadata": {},
   "outputs": [],
   "source": []
  },
  {
   "cell_type": "markdown",
   "id": "d921c025",
   "metadata": {},
   "source": [
    "### Questions on Linear Regression"
   ]
  },
  {
   "cell_type": "raw",
   "id": "fa21fc5c",
   "metadata": {},
   "source": [
    "\n",
    "- Gradient descent algo explanation,\n",
    "- Linear Regression Assumption\n",
    "- type of gradient descent algo\n",
    "- what is batch gradient descent algo\n",
    "- Coss function\n",
    "- correlarion types \n",
    "- what is effect of scalling on Gd algo\n",
    "- what is regularisation \n",
    "Explain lasso and ridge on white bord (working )"
   ]
  },
  {
   "cell_type": "code",
   "execution_count": null,
   "id": "b87143c2",
   "metadata": {},
   "outputs": [],
   "source": []
  }
 ],
 "metadata": {
  "kernelspec": {
   "display_name": "Python 3 (ipykernel)",
   "language": "python",
   "name": "python3"
  },
  "language_info": {
   "codemirror_mode": {
    "name": "ipython",
    "version": 3
   },
   "file_extension": ".py",
   "mimetype": "text/x-python",
   "name": "python",
   "nbconvert_exporter": "python",
   "pygments_lexer": "ipython3",
   "version": "3.9.12"
  }
 },
 "nbformat": 4,
 "nbformat_minor": 5
}
