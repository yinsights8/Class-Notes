{
 "cells": [
  {
   "cell_type": "code",
   "execution_count": 8,
   "id": "0a2d6661",
   "metadata": {},
   "outputs": [],
   "source": [
    "import numpy as np"
   ]
  },
  {
   "cell_type": "code",
   "execution_count": 9,
   "id": "3396cbe8",
   "metadata": {},
   "outputs": [],
   "source": [
    "li1 = np.random.randint(10,100,100)\n",
    "li2 = np.random.randint(10,100,100)"
   ]
  },
  {
   "cell_type": "code",
   "execution_count": 10,
   "id": "6f90ac5c",
   "metadata": {},
   "outputs": [
    {
     "name": "stdout",
     "output_type": "stream",
     "text": [
      "[40 35 31 79 45 97 71 45 56 65 56 50 71 94 74 61 96 76 41 11 47 12 66 28\n",
      " 79 86 27 45 15 97 30 25 51 40 15 51 13 37 96 50 72 69 94 21 12 47 64 39\n",
      " 83 88 25 85 10 57 72 42 87 44 91 78 31 45 65 10 79 38 10 16 99 89 72 20\n",
      " 53 54 78 42 61 53 57 83 82 46 61 72 88 43 16 61 89 94 16 43 62 23 48 70\n",
      " 81 36 95 92]\n",
      "[36 16 50 75 13 61 13 16 60 13 72 88 35 35 11 77 27 39 85 49 94 56 64 98\n",
      " 40 62 14 72 52 68 83 40 69 87 65 89 23 10 39 49 49 30 29 88 39 21 46 76\n",
      " 13 51 74 35 24 89 99 62 58 59 48 15 95 59 93 88 44 18 20 78 28 93 88 19\n",
      " 78 29 11 17 13 74 58 11 31 22 36 18 97 31 37 46 28 53 80 22 17 66 50 60\n",
      " 66 86 65 13]\n"
     ]
    }
   ],
   "source": [
    "print(li1)\n",
    "print(li2)"
   ]
  },
  {
   "cell_type": "code",
   "execution_count": 11,
   "id": "ed8ad8f5",
   "metadata": {},
   "outputs": [
    {
     "data": {
      "text/plain": [
       "[40,\n",
       " 35,\n",
       " 31,\n",
       " 97,\n",
       " 56,\n",
       " 65,\n",
       " 56,\n",
       " 50,\n",
       " 94,\n",
       " 74,\n",
       " 61,\n",
       " 76,\n",
       " 11,\n",
       " 66,\n",
       " 28,\n",
       " 86,\n",
       " 27,\n",
       " 15,\n",
       " 97,\n",
       " 30,\n",
       " 51,\n",
       " 40,\n",
       " 15,\n",
       " 51,\n",
       " 13,\n",
       " 37,\n",
       " 50,\n",
       " 72,\n",
       " 69,\n",
       " 94,\n",
       " 21,\n",
       " 64,\n",
       " 39,\n",
       " 83,\n",
       " 88,\n",
       " 85,\n",
       " 10,\n",
       " 72,\n",
       " 87,\n",
       " 44,\n",
       " 78,\n",
       " 31,\n",
       " 65,\n",
       " 10,\n",
       " 10,\n",
       " 16,\n",
       " 99,\n",
       " 89,\n",
       " 72,\n",
       " 20,\n",
       " 53,\n",
       " 78,\n",
       " 61,\n",
       " 53,\n",
       " 83,\n",
       " 46,\n",
       " 61,\n",
       " 72,\n",
       " 88,\n",
       " 16,\n",
       " 61,\n",
       " 89,\n",
       " 94,\n",
       " 16,\n",
       " 62,\n",
       " 23,\n",
       " 48,\n",
       " 36,\n",
       " 95]"
      ]
     },
     "execution_count": 11,
     "metadata": {},
     "output_type": "execute_result"
    }
   ],
   "source": [
    "common = [i for i in li1 if i in li2]\n",
    "common"
   ]
  },
  {
   "cell_type": "code",
   "execution_count": null,
   "id": "ac7f9fb2",
   "metadata": {},
   "outputs": [],
   "source": []
  }
 ],
 "metadata": {
  "kernelspec": {
   "display_name": "Python 3 (ipykernel)",
   "language": "python",
   "name": "python3"
  },
  "language_info": {
   "codemirror_mode": {
    "name": "ipython",
    "version": 3
   },
   "file_extension": ".py",
   "mimetype": "text/x-python",
   "name": "python",
   "nbconvert_exporter": "python",
   "pygments_lexer": "ipython3",
   "version": "3.10.8"
  }
 },
 "nbformat": 4,
 "nbformat_minor": 5
}
