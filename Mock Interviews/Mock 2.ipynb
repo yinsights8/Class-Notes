{
 "cells": [
  {
   "cell_type": "markdown",
   "id": "15b428fb",
   "metadata": {},
   "source": [
    "### Sylabus for mock 2"
   ]
  },
  {
   "cell_type": "raw",
   "id": "d0f1f47e",
   "metadata": {},
   "source": [
    "- 1. List\n",
    "- 2. Tuple\n",
    "- 3. For loop\n",
    "- 4. While loop\n",
    "- 5. Set & FrozenSet\n",
    "- 6. Dictionary\n",
    "- 7. Function Basics"
   ]
  },
  {
   "cell_type": "code",
   "execution_count": null,
   "id": "243b13b0",
   "metadata": {},
   "outputs": [],
   "source": []
  }
 ],
 "metadata": {
  "kernelspec": {
   "display_name": "Python 3 (ipykernel)",
   "language": "python",
   "name": "python3"
  },
  "language_info": {
   "codemirror_mode": {
    "name": "ipython",
    "version": 3
   },
   "file_extension": ".py",
   "mimetype": "text/x-python",
   "name": "python",
   "nbconvert_exporter": "python",
   "pygments_lexer": "ipython3",
   "version": "3.9.12"
  }
 },
 "nbformat": 4,
 "nbformat_minor": 5
}
