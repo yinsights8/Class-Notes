{
 "cells": [
  {
   "cell_type": "raw",
   "id": "eb8caf5b",
   "metadata": {},
   "source": [
    "1, 3,4, 6,7"
   ]
  },
  {
   "cell_type": "code",
   "execution_count": 9,
   "id": "2b7798bf",
   "metadata": {},
   "outputs": [
    {
     "name": "stdout",
     "output_type": "stream",
     "text": [
      "2022-11-15\n"
     ]
    }
   ],
   "source": [
    "import datetime as dt\n",
    "\n",
    "cunt_date = dt.datetime.now().date()\n",
    "\n",
    "\n",
    "try:\n",
    "    for day in range(1,10):\n",
    "        cunt_date += dt.timedelta(days=day)\n",
    "    print(cunt_date)\n",
    "        \n",
    "except:\n",
    "    print()"
   ]
  },
  {
   "cell_type": "code",
   "execution_count": 10,
   "id": "92544e7a",
   "metadata": {},
   "outputs": [
    {
     "name": "stdout",
     "output_type": "stream",
     "text": [
      "9\n"
     ]
    }
   ],
   "source": [
    "for day in range(1,10):\n",
    "    cunt_date += dt.timedelta(days=day)\n",
    "print(day)"
   ]
  },
  {
   "cell_type": "code",
   "execution_count": 11,
   "id": "4cf81529",
   "metadata": {},
   "outputs": [],
   "source": [
    "from abc import ABC, abstractmethod\n",
    "class calculation(ABC):\n",
    "    def __int__(self, a,b):\n",
    "        self.a = a\n",
    "        self.b = b\n",
    "        \n",
    "    @abstractmethod\n",
    "    def addition(self):\n",
    "        return self.a + self.b\n",
    "    \n",
    "    @abstractmethod\n",
    "    def subraction(self):\n",
    "        return self.a - self.b\n",
    "\n",
    "    \n",
    "class multi(calculation):\n",
    "    def __init__(self, a,b):\n",
    "        calculation.__init__(self,a,b)\n",
    "        \n",
    "    def multiplication(self):\n",
    "        return self.a * self.b\n",
    "    \n",
    "    \n",
    "class division(calculation):\n",
    "    def __init__(self, a,b):\n",
    "        calculation.__init__(self,a,b)\n",
    "        \n",
    "    def div(self):\n",
    "        return self.a /self.b"
   ]
  },
  {
   "cell_type": "code",
   "execution_count": null,
   "id": "20f0fe65",
   "metadata": {},
   "outputs": [],
   "source": []
  }
 ],
 "metadata": {
  "kernelspec": {
   "display_name": "Python 3 (ipykernel)",
   "language": "python",
   "name": "python3"
  },
  "language_info": {
   "codemirror_mode": {
    "name": "ipython",
    "version": 3
   },
   "file_extension": ".py",
   "mimetype": "text/x-python",
   "name": "python",
   "nbconvert_exporter": "python",
   "pygments_lexer": "ipython3",
   "version": "3.9.12"
  }
 },
 "nbformat": 4,
 "nbformat_minor": 5
}
