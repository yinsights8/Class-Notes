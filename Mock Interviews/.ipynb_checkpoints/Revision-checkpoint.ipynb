{
 "cells": [
  {
   "cell_type": "code",
   "execution_count": 35,
   "id": "b0ec1844",
   "metadata": {},
   "outputs": [],
   "source": [
    "def HelloFunc(func):\n",
    "    print(\"Hello 1\")\n",
    "    \n",
    "    def Inner_func():\n",
    "        print(\"Inner function 2\")\n",
    "        func()\n",
    "        return \"Inner func\"\n",
    "    return Inner_func"
   ]
  },
  {
   "cell_type": "code",
   "execution_count": 47,
   "id": "239c89b3",
   "metadata": {},
   "outputs": [
    {
     "name": "stdout",
     "output_type": "stream",
     "text": [
      "Hello 1\n",
      "Inner function 2\n",
      "THis is end\n"
     ]
    },
    {
     "data": {
      "text/plain": [
       "'Inner func'"
      ]
     },
     "execution_count": 47,
     "metadata": {},
     "output_type": "execute_result"
    }
   ],
   "source": [
    "@HelloFunc\n",
    "def print_data():\n",
    "    print(\"THis is end\")\n",
    "print_data()"
   ]
  },
  {
   "cell_type": "code",
   "execution_count": 48,
   "id": "26470383",
   "metadata": {},
   "outputs": [],
   "source": [
    "# obj = HelloFunc(print_data)\n",
    "# obj()"
   ]
  },
  {
   "cell_type": "code",
   "execution_count": 16,
   "id": "286f18ae",
   "metadata": {},
   "outputs": [],
   "source": [
    "def Division(func):\n",
    "    print(\"in Divsion Func\")\n",
    "    \n",
    "    def Inner_Division(a,b):\n",
    "        if a < b:\n",
    "            a,b = b,a\n",
    "        else:\n",
    "            func(a,b)\n",
    "        return func(a,b)\n",
    "    \n",
    "    return Inner_Division"
   ]
  },
  {
   "cell_type": "code",
   "execution_count": null,
   "id": "feb1c42e",
   "metadata": {},
   "outputs": [],
   "source": []
  },
  {
   "cell_type": "code",
   "execution_count": 17,
   "id": "10afba9f",
   "metadata": {},
   "outputs": [
    {
     "name": "stdout",
     "output_type": "stream",
     "text": [
      "in Divsion Func\n"
     ]
    },
    {
     "data": {
      "text/plain": [
       "5.0"
      ]
     },
     "execution_count": 17,
     "metadata": {},
     "output_type": "execute_result"
    }
   ],
   "source": [
    "@Division\n",
    "def Div(a,b):\n",
    "    return a/b\n",
    "\n",
    "Div(2,10)"
   ]
  },
  {
   "cell_type": "code",
   "execution_count": 18,
   "id": "7ecae033",
   "metadata": {},
   "outputs": [
    {
     "data": {
      "text/plain": [
       "5.0"
      ]
     },
     "execution_count": 18,
     "metadata": {},
     "output_type": "execute_result"
    }
   ],
   "source": [
    "Div(10,2)"
   ]
  },
  {
   "cell_type": "code",
   "execution_count": 19,
   "id": "f0ec2ca7",
   "metadata": {},
   "outputs": [
    {
     "data": {
      "text/plain": [
       "2.0"
      ]
     },
     "execution_count": 19,
     "metadata": {},
     "output_type": "execute_result"
    }
   ],
   "source": [
    "Div(5,10)"
   ]
  },
  {
   "cell_type": "code",
   "execution_count": 20,
   "id": "f2e6e70f",
   "metadata": {},
   "outputs": [
    {
     "data": {
      "text/plain": [
       "2.0"
      ]
     },
     "execution_count": 20,
     "metadata": {},
     "output_type": "execute_result"
    }
   ],
   "source": [
    "Div(10,5)"
   ]
  },
  {
   "cell_type": "code",
   "execution_count": 11,
   "id": "4f08da2e",
   "metadata": {},
   "outputs": [
    {
     "data": {
      "text/plain": [
       "5.0"
      ]
     },
     "execution_count": 11,
     "metadata": {},
     "output_type": "execute_result"
    }
   ],
   "source": [
    "Div(2,10)"
   ]
  },
  {
   "cell_type": "code",
   "execution_count": 51,
   "id": "cce3adde",
   "metadata": {},
   "outputs": [
    {
     "data": {
      "text/plain": [
       "5.0"
      ]
     },
     "execution_count": 51,
     "metadata": {},
     "output_type": "execute_result"
    }
   ],
   "source": [
    "Div(10,2)"
   ]
  },
  {
   "cell_type": "markdown",
   "id": "bc018b1a",
   "metadata": {},
   "source": [
    "## iterators"
   ]
  },
  {
   "cell_type": "code",
   "execution_count": null,
   "id": "96551b7b",
   "metadata": {},
   "outputs": [],
   "source": []
  },
  {
   "cell_type": "code",
   "execution_count": null,
   "id": "cea742dd",
   "metadata": {},
   "outputs": [],
   "source": []
  }
 ],
 "metadata": {
  "kernelspec": {
   "display_name": "Python 3 (ipykernel)",
   "language": "python",
   "name": "python3"
  },
  "language_info": {
   "codemirror_mode": {
    "name": "ipython",
    "version": 3
   },
   "file_extension": ".py",
   "mimetype": "text/x-python",
   "name": "python",
   "nbconvert_exporter": "python",
   "pygments_lexer": "ipython3",
   "version": "3.9.12"
  }
 },
 "nbformat": 4,
 "nbformat_minor": 5
}
