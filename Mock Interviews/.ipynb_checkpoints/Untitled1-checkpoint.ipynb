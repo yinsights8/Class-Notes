{
 "cells": [
  {
   "cell_type": "code",
   "execution_count": 2,
   "id": "7f6069a5",
   "metadata": {},
   "outputs": [
    {
     "name": "stdout",
     "output_type": "stream",
     "text": [
      "[(1, 3), (2, 4), (3, 5), (4, 6), (5, 7)]\n",
      "[4, 6, 8, 10, 12]\n"
     ]
    }
   ],
   "source": [
    "tup1 = (1,2,3,4,5)\n",
    "tup2 = (3,4,5,6,7)\n",
    "tuple_list = list(zip(tup1,tup2))\n",
    "print(tuple_list)\n",
    "\n",
    "new_set = [sum(tup) for tup in tuple_list]\n",
    "\n",
    "print(new_set)\n",
    "\n",
    "# output = (4,6,8,10,12)"
   ]
  },
  {
   "cell_type": "code",
   "execution_count": 4,
   "id": "03d64045",
   "metadata": {},
   "outputs": [
    {
     "data": {
      "text/plain": [
       "[(1, 3, 7), (2, 4, 8), (3, 5, 9), (4, 6, 4)]"
      ]
     },
     "execution_count": 4,
     "metadata": {},
     "output_type": "execute_result"
    }
   ],
   "source": [
    "tup1 = (1,2,3,4,5)\n",
    "tup2 = (3,4,5,6)\n",
    "tup3 = (7,8,9,4,5)\n",
    "\n",
    "list(zip(tup1, tup2, tup3))"
   ]
  },
  {
   "cell_type": "code",
   "execution_count": 7,
   "id": "9a54a26c",
   "metadata": {},
   "outputs": [
    {
     "name": "stdout",
     "output_type": "stream",
     "text": [
      "[4, 6, 8, 10, 12]\n"
     ]
    }
   ],
   "source": [
    "tup1 = (1,2,3,4,5)\n",
    "tup2 = (3,4,5,6,7)\n",
    "\n",
    "new_list = []\n",
    "\n",
    "for i in range(len(tup1)):\n",
    "    new_list.append(tup1[i] + tup2[i])\n",
    "print(new_list)"
   ]
  },
  {
   "cell_type": "code",
   "execution_count": 3,
   "id": "dc28cb8c",
   "metadata": {},
   "outputs": [
    {
     "data": {
      "text/plain": [
       "3"
      ]
     },
     "execution_count": 3,
     "metadata": {},
     "output_type": "execute_result"
    }
   ],
   "source": [
    "tup2 = (3,4,5,6,7)\n",
    "tup2[0]"
   ]
  },
  {
   "cell_type": "code",
   "execution_count": 9,
   "id": "ff54867e",
   "metadata": {},
   "outputs": [
    {
     "name": "stdout",
     "output_type": "stream",
     "text": [
      "[4, 6, 8, 10, 12]\n"
     ]
    }
   ],
   "source": [
    "tup1 = (1,2,3,4,5)\n",
    "tup2 = (3,4,5,6,7)\n",
    "\n",
    "new_list = [tup1[i]+tup2[i] for i in range(len(tup1))]\n",
    "\n",
    "print(new_list)"
   ]
  },
  {
   "cell_type": "code",
   "execution_count": null,
   "id": "9756d678",
   "metadata": {},
   "outputs": [],
   "source": []
  }
 ],
 "metadata": {
  "kernelspec": {
   "display_name": "Python 3 (ipykernel)",
   "language": "python",
   "name": "python3"
  },
  "language_info": {
   "codemirror_mode": {
    "name": "ipython",
    "version": 3
   },
   "file_extension": ".py",
   "mimetype": "text/x-python",
   "name": "python",
   "nbconvert_exporter": "python",
   "pygments_lexer": "ipython3",
   "version": "3.9.12"
  }
 },
 "nbformat": 4,
 "nbformat_minor": 5
}
