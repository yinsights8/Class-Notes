{
 "cells": [
  {
   "cell_type": "code",
   "execution_count": 1,
   "id": "952c52a3",
   "metadata": {},
   "outputs": [],
   "source": [
    "import numpy as np"
   ]
  },
  {
   "cell_type": "code",
   "execution_count": 8,
   "id": "f75390b8",
   "metadata": {},
   "outputs": [],
   "source": [
    "nums = np.array([1,2,3,4,5,5.5],dtype=\"int64\")"
   ]
  },
  {
   "cell_type": "code",
   "execution_count": 10,
   "id": "e21722b2",
   "metadata": {},
   "outputs": [
    {
     "data": {
      "text/plain": [
       "array([1, 2, 3, 4, 5, 5], dtype=int64)"
      ]
     },
     "execution_count": 10,
     "metadata": {},
     "output_type": "execute_result"
    }
   ],
   "source": [
    "nums"
   ]
  },
  {
   "cell_type": "code",
   "execution_count": 9,
   "id": "a1e015cf",
   "metadata": {},
   "outputs": [
    {
     "data": {
      "text/plain": [
       "dtype('int64')"
      ]
     },
     "execution_count": 9,
     "metadata": {},
     "output_type": "execute_result"
    }
   ],
   "source": [
    "nums.dtype"
   ]
  },
  {
   "cell_type": "code",
   "execution_count": 12,
   "id": "a0e16de6",
   "metadata": {},
   "outputs": [],
   "source": [
    "alph = np.array(list(\"ABCDEF\"))"
   ]
  },
  {
   "cell_type": "code",
   "execution_count": 13,
   "id": "6335feed",
   "metadata": {},
   "outputs": [
    {
     "data": {
      "text/plain": [
       "array(['A', 'B', 'C', 'D', 'E', 'F'], dtype='<U1')"
      ]
     },
     "execution_count": 13,
     "metadata": {},
     "output_type": "execute_result"
    }
   ],
   "source": [
    "alph"
   ]
  },
  {
   "cell_type": "code",
   "execution_count": 28,
   "id": "7de639c3",
   "metadata": {},
   "outputs": [
    {
     "data": {
      "text/plain": [
       "['F', 'E', 'D', 'C', 'B', 'A']"
      ]
     },
     "execution_count": 28,
     "metadata": {},
     "output_type": "execute_result"
    }
   ],
   "source": [
    "alph.tolist()[::-1]"
   ]
  },
  {
   "cell_type": "code",
   "execution_count": 32,
   "id": "39b5e121",
   "metadata": {},
   "outputs": [
    {
     "data": {
      "text/plain": [
       "['A', 'B', 'C', 'D', 'E']"
      ]
     },
     "execution_count": 32,
     "metadata": {},
     "output_type": "execute_result"
    }
   ],
   "source": [
    "alph.tolist()[0:-1]"
   ]
  },
  {
   "cell_type": "code",
   "execution_count": 52,
   "id": "81afc4d0",
   "metadata": {},
   "outputs": [],
   "source": [
    "## 0-d Array"
   ]
  },
  {
   "cell_type": "code",
   "execution_count": 53,
   "id": "6dac319a",
   "metadata": {},
   "outputs": [
    {
     "name": "stdout",
     "output_type": "stream",
     "text": [
      "shape of an array: ()\n",
      "size of an array: 1\n",
      "data type of an array: int32\n",
      "dimension of an array: 0-dimensions\n"
     ]
    }
   ],
   "source": [
    "arr1 = np.array(100)\n",
    "print(f\"shape of an array: {arr1.shape}\")\n",
    "print(f\"size of an array: {arr1.size}\")\n",
    "print(f\"data type of an array: {arr1.dtype}\")\n",
    "print(f\"dimension of an array: {arr1.ndim}-dimensions\")\n",
    "# print(f\"length of an array: {len(arr1)}\")"
   ]
  },
  {
   "cell_type": "code",
   "execution_count": 54,
   "id": "9c556690",
   "metadata": {},
   "outputs": [],
   "source": [
    "## 1-d Array"
   ]
  },
  {
   "cell_type": "code",
   "execution_count": 62,
   "id": "a6a0327e",
   "metadata": {},
   "outputs": [
    {
     "name": "stdout",
     "output_type": "stream",
     "text": [
      "shape of an array: (3,)\n",
      "size of an array: 3\n",
      "data type of an array: int32\n",
      "dimension of an array: 1-dimensions\n",
      "length of an array: 3\n"
     ]
    }
   ],
   "source": [
    "arr2 = np.array([1,2,3])\n",
    "print(f\"shape of an array: {arr2.shape}\")\n",
    "print(f\"size of an array: {arr2.size}\")\n",
    "print(f\"data type of an array: {arr2.dtype}\")\n",
    "print(f\"dimension of an array: {arr2.ndim}-dimensions\")\n",
    "print(f\"length of an array: {len(arr2)}\")"
   ]
  },
  {
   "cell_type": "code",
   "execution_count": 63,
   "id": "8fd6a955",
   "metadata": {},
   "outputs": [
    {
     "name": "stdout",
     "output_type": "stream",
     "text": [
      "Array:- \n",
      "[[1 2 3]\n",
      " [4 5 6]\n",
      " [7 8 9]]\n",
      "shape of an array: (3, 3)\n",
      "size of an array: 9\n",
      "data type of an array: int32\n",
      "dimension of an array: 2-dimensions\n",
      "length of an array: 3\n"
     ]
    }
   ],
   "source": [
    "arr3 = np.array([[1,2,3],\n",
    "                 [4,5,6],\n",
    "                 [7,8,9]])\n",
    "\n",
    "print(f\"Array:- \\n{arr3}\")\n",
    "print(f\"shape of an array: {arr3.shape}\")\n",
    "print(f\"size of an array: {arr3.size}\")\n",
    "print(f\"data type of an array: {arr3.dtype}\")\n",
    "print(f\"dimension of an array: {arr3.ndim}-dimensions\")\n",
    "print(f\"length of an array: {len(arr3)}\")"
   ]
  },
  {
   "cell_type": "code",
   "execution_count": 65,
   "id": "eedce2bb",
   "metadata": {},
   "outputs": [
    {
     "name": "stdout",
     "output_type": "stream",
     "text": [
      "Array:- \n",
      "[[[ 1  2  3]\n",
      "  [ 4  5  6]]\n",
      "\n",
      " [[ 7  8  9]\n",
      "  [11 12 13]]]\n",
      "shape of an array: (2, 2, 3)\n",
      "size of an array: 12\n",
      "data type of an array: int32\n",
      "dimension of an array: 3-dimensions\n",
      "length of an array: 2\n"
     ]
    }
   ],
   "source": [
    "arr4 = np.array([[[1,2,3], [4,5,6]], [[7,8,9], [11,12,13]]])\n",
    "print(f\"Array:- \\n{arr4}\")\n",
    "print(f\"shape of an array: {arr4.shape}\")\n",
    "print(f\"size of an array: {arr4.size}\")\n",
    "print(f\"data type of an array: {arr4.dtype}\")\n",
    "print(f\"dimension of an array: {arr4.ndim}-dimensions\")\n",
    "print(f\"length of an array: {len(arr4)}\")"
   ]
  },
  {
   "cell_type": "code",
   "execution_count": 81,
   "id": "fca7804a",
   "metadata": {},
   "outputs": [
    {
     "data": {
      "text/plain": [
       "array([[[100]]])"
      ]
     },
     "execution_count": 81,
     "metadata": {},
     "output_type": "execute_result"
    }
   ],
   "source": [
    "arr = np.array(100, ndmin=3)\n",
    "arr"
   ]
  },
  {
   "cell_type": "code",
   "execution_count": null,
   "id": "3b1533bc",
   "metadata": {},
   "outputs": [],
   "source": []
  },
  {
   "cell_type": "code",
   "execution_count": null,
   "id": "3de1371e",
   "metadata": {},
   "outputs": [],
   "source": []
  }
 ],
 "metadata": {
  "kernelspec": {
   "display_name": "Python 3 (ipykernel)",
   "language": "python",
   "name": "python3"
  },
  "language_info": {
   "codemirror_mode": {
    "name": "ipython",
    "version": 3
   },
   "file_extension": ".py",
   "mimetype": "text/x-python",
   "name": "python",
   "nbconvert_exporter": "python",
   "pygments_lexer": "ipython3",
   "version": "3.9.12"
  }
 },
 "nbformat": 4,
 "nbformat_minor": 5
}
