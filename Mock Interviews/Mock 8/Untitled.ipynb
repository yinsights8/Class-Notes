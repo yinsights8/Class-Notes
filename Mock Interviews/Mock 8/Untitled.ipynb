{
 "cells": [
  {
   "cell_type": "code",
   "execution_count": 1,
   "id": "a71f9754",
   "metadata": {},
   "outputs": [],
   "source": [
    "text = \"\"\"Machine learning (ML) is a field of inquiry devoted to understanding and building methods \n",
    "that 'learn', that is, methods that leverage data to improve performance on some set of tasks.\n",
    "It is seen as a part of artificial intelligence.\"\"\"\n"
   ]
  },
  {
   "cell_type": "code",
   "execution_count": 2,
   "id": "0cc7967b",
   "metadata": {},
   "outputs": [],
   "source": [
    "with open(\"text.txt\", 'w') as file:\n",
    "    file.write(text)"
   ]
  },
  {
   "cell_type": "code",
   "execution_count": 3,
   "id": "3851e1a8",
   "metadata": {},
   "outputs": [],
   "source": [
    "with open(\"text.txt\", \"r\") as original:\n",
    "    with open(\"text_2.txt\", \"w\") as copi:\n",
    "        for text in original:\n",
    "            copi.write(text)"
   ]
  },
  {
   "cell_type": "code",
   "execution_count": 4,
   "id": "6108f771",
   "metadata": {},
   "outputs": [
    {
     "name": "stdout",
     "output_type": "stream",
     "text": [
      "No Error in try block !\n",
      "yeahh!!!\n"
     ]
    }
   ],
   "source": [
    "try :\n",
    "    with open(\"test.txt\", \"r\") as file:\n",
    "        cnt = file.read()\n",
    "except FileNotFoundError:\n",
    "    print(\"file is not present\\nCreating a new file....\")\n",
    "    with open(\"test.txt\", \"w\") as file_1:\n",
    "        file_1.write(\"hello guy's, How are you doing...\")\n",
    "        \n",
    "else:\n",
    "    print(\"No Error in try block !\")\n",
    "    \n",
    "finally :\n",
    "    print(\"yeahh!!!\")"
   ]
  },
  {
   "cell_type": "code",
   "execution_count": 5,
   "id": "0d3c90bf",
   "metadata": {},
   "outputs": [
    {
     "name": "stdout",
     "output_type": "stream",
     "text": [
      "hello guy's, How are you doing...\n",
      "line from try block file\n",
      "No Error in try block !\n",
      "yeahh!!!\n"
     ]
    }
   ],
   "source": [
    "try :\n",
    "    with open(\"test.txt\", \"r\") as file:\n",
    "        cnt = file.read()\n",
    "        print(cnt)\n",
    "except :\n",
    "    print(\"file is not present\\nCreating a new file....\")\n",
    "    with open(\"test.txt\", \"w\") as file_1:\n",
    "        file_1.write(\"hello guy's, How are you doing...\")\n",
    "        \n",
    "else:\n",
    "    print(\"line from try block file\\nNo Error in try block !\")\n",
    "finally :\n",
    "    print(\"yeahh!!!\")"
   ]
  },
  {
   "cell_type": "code",
   "execution_count": 6,
   "id": "e44e652e",
   "metadata": {},
   "outputs": [
    {
     "name": "stdout",
     "output_type": "stream",
     "text": [
      "None\n"
     ]
    },
    {
     "name": "stderr",
     "output_type": "stream",
     "text": [
      "Traceback (most recent call last):\n",
      "  File \"C:\\Users\\yashd\\AppData\\Local\\Temp\\ipykernel_8020\\94952617.py\", line 4, in <module>\n",
      "    print(var)\n",
      "NameError: name 'var' is not defined\n"
     ]
    }
   ],
   "source": [
    "import traceback\n",
    "\n",
    "try:\n",
    "    print(var)\n",
    "except:\n",
    "    print(traceback.print_exc())"
   ]
  },
  {
   "cell_type": "code",
   "execution_count": 7,
   "id": "19612f52",
   "metadata": {},
   "outputs": [
    {
     "name": "stdout",
     "output_type": "stream",
     "text": [
      "No Error in try block !\n",
      "yeahh!!!\n"
     ]
    }
   ],
   "source": [
    "try :\n",
    "    with open(\"test.txt\", \"r\") as file:\n",
    "        cnt = file.read()\n",
    "except SyntaxError as SE:\n",
    "    print(\"file is not present\\nCreating a new file....\")\n",
    "    with open(\"test.txt\", \"w\") as file_1:\n",
    "        file_1.write(\"hello guy's, How are you doing...\")\n",
    "        \n",
    "else:\n",
    "    print(\"No Error in try block !\")\n",
    "    \n",
    "finally :\n",
    "    print(\"yeahh!!!\")"
   ]
  },
  {
   "cell_type": "code",
   "execution_count": 8,
   "id": "90aab85f",
   "metadata": {},
   "outputs": [
    {
     "name": "stdout",
     "output_type": "stream",
     "text": [
      "No Error in try block !\n",
      "yeahh!!!\n"
     ]
    }
   ],
   "source": [
    "try :\n",
    "    with open(\"test.txt\", \"r\") as file:\n",
    "        cnt = file.read()\n",
    "except FileNotFoundError as FNE:\n",
    "    print(\"file is not present\\nCreating a new file....\")\n",
    "    with open(\"test.txt\", \"w\") as file_1:\n",
    "        file_1.write(\"hello guy's, How are you doing...\")\n",
    "        \n",
    "else:\n",
    "    print(\"No Error in try block !\")\n",
    "    \n",
    "finally :\n",
    "    print(\"yeahh!!!\")"
   ]
  },
  {
   "cell_type": "code",
   "execution_count": 9,
   "id": "714cb955",
   "metadata": {},
   "outputs": [
    {
     "data": {
      "text/plain": [
       "datetime.datetime(2022, 12, 16, 20, 38, 53, 630239)"
      ]
     },
     "execution_count": 9,
     "metadata": {},
     "output_type": "execute_result"
    }
   ],
   "source": [
    "import datetime as dt\n",
    "\n",
    "dt.datetime.now()"
   ]
  },
  {
   "cell_type": "code",
   "execution_count": 10,
   "id": "7c6201ca",
   "metadata": {},
   "outputs": [
    {
     "data": {
      "text/plain": [
       "datetime.date(2014, 1, 1)"
      ]
     },
     "execution_count": 10,
     "metadata": {},
     "output_type": "execute_result"
    }
   ],
   "source": [
    "date = \"Jan 1 2014 2:43PM\"\n",
    "formt = \"%b %d %Y %I:%M%p\"\n",
    "dt.datetime.strptime(date, formt).date()"
   ]
  },
  {
   "cell_type": "code",
   "execution_count": 12,
   "id": "88efbc3f",
   "metadata": {},
   "outputs": [],
   "source": [
    "# date = \"2014, 1, 1,\"\n",
    "\n",
    "# dt.datetime.date().strftime(\"%d %b %Y\")"
   ]
  },
  {
   "cell_type": "code",
   "execution_count": 13,
   "id": "868cd97e",
   "metadata": {},
   "outputs": [
    {
     "data": {
      "text/plain": [
       "'February 01 2014'"
      ]
     },
     "execution_count": 13,
     "metadata": {},
     "output_type": "execute_result"
    }
   ],
   "source": [
    "dt.date(2014, 2, 1).strftime(\"%B %d %Y\")"
   ]
  },
  {
   "cell_type": "code",
   "execution_count": 14,
   "id": "048f8f3b",
   "metadata": {},
   "outputs": [
    {
     "data": {
      "text/plain": [
       "'Saturday'"
      ]
     },
     "execution_count": 14,
     "metadata": {},
     "output_type": "execute_result"
    }
   ],
   "source": [
    "dt.date(2014, 2, 1).strftime(\"%A\")"
   ]
  },
  {
   "cell_type": "code",
   "execution_count": 15,
   "id": "731dba31",
   "metadata": {},
   "outputs": [
    {
     "data": {
      "text/plain": [
       "datetime.date(2014, 1, 27)"
      ]
     },
     "execution_count": 15,
     "metadata": {},
     "output_type": "execute_result"
    }
   ],
   "source": [
    "dt.date(2014, 2, 1) - dt.timedelta(5)"
   ]
  },
  {
   "cell_type": "code",
   "execution_count": 16,
   "id": "edbf8fa1",
   "metadata": {},
   "outputs": [
    {
     "data": {
      "text/plain": [
       "datetime.date(2022, 12, 16)"
      ]
     },
     "execution_count": 16,
     "metadata": {},
     "output_type": "execute_result"
    }
   ],
   "source": [
    "dt.datetime.now().date()"
   ]
  },
  {
   "cell_type": "code",
   "execution_count": 17,
   "id": "019e5b59",
   "metadata": {},
   "outputs": [
    {
     "data": {
      "text/plain": [
       "'Monday'"
      ]
     },
     "execution_count": 17,
     "metadata": {},
     "output_type": "execute_result"
    }
   ],
   "source": [
    "res = dt.date(2022, 12, 3) - dt.timedelta(5)\n",
    "res.strftime(\"%A\")"
   ]
  },
  {
   "cell_type": "code",
   "execution_count": 18,
   "id": "b2e98cc0",
   "metadata": {},
   "outputs": [],
   "source": [
    "import pandas as pd\n"
   ]
  },
  {
   "cell_type": "code",
   "execution_count": 19,
   "id": "3e5d96bf",
   "metadata": {},
   "outputs": [
    {
     "data": {
      "text/html": [
       "<div>\n",
       "<style scoped>\n",
       "    .dataframe tbody tr th:only-of-type {\n",
       "        vertical-align: middle;\n",
       "    }\n",
       "\n",
       "    .dataframe tbody tr th {\n",
       "        vertical-align: top;\n",
       "    }\n",
       "\n",
       "    .dataframe thead th {\n",
       "        text-align: right;\n",
       "    }\n",
       "</style>\n",
       "<table border=\"1\" class=\"dataframe\">\n",
       "  <thead>\n",
       "    <tr style=\"text-align: right;\">\n",
       "      <th></th>\n",
       "      <th>Time</th>\n",
       "    </tr>\n",
       "  </thead>\n",
       "  <tbody>\n",
       "    <tr>\n",
       "      <th>0</th>\n",
       "      <td>2022-12-16</td>\n",
       "    </tr>\n",
       "    <tr>\n",
       "      <th>1</th>\n",
       "      <td>2022-12-17</td>\n",
       "    </tr>\n",
       "    <tr>\n",
       "      <th>2</th>\n",
       "      <td>2022-12-18</td>\n",
       "    </tr>\n",
       "    <tr>\n",
       "      <th>3</th>\n",
       "      <td>2022-12-19</td>\n",
       "    </tr>\n",
       "    <tr>\n",
       "      <th>4</th>\n",
       "      <td>2022-12-20</td>\n",
       "    </tr>\n",
       "    <tr>\n",
       "      <th>5</th>\n",
       "      <td>2022-12-21</td>\n",
       "    </tr>\n",
       "    <tr>\n",
       "      <th>6</th>\n",
       "      <td>2022-12-22</td>\n",
       "    </tr>\n",
       "    <tr>\n",
       "      <th>7</th>\n",
       "      <td>2022-12-23</td>\n",
       "    </tr>\n",
       "    <tr>\n",
       "      <th>8</th>\n",
       "      <td>2022-12-24</td>\n",
       "    </tr>\n",
       "    <tr>\n",
       "      <th>9</th>\n",
       "      <td>2022-12-25</td>\n",
       "    </tr>\n",
       "  </tbody>\n",
       "</table>\n",
       "</div>"
      ],
      "text/plain": [
       "         Time\n",
       "0  2022-12-16\n",
       "1  2022-12-17\n",
       "2  2022-12-18\n",
       "3  2022-12-19\n",
       "4  2022-12-20\n",
       "5  2022-12-21\n",
       "6  2022-12-22\n",
       "7  2022-12-23\n",
       "8  2022-12-24\n",
       "9  2022-12-25"
      ]
     },
     "execution_count": 19,
     "metadata": {},
     "output_type": "execute_result"
    }
   ],
   "source": [
    "times = []\n",
    "for i in range(10):\n",
    "    time = dt.datetime.now().date() + dt.timedelta(days=i)\n",
    "    times.append(time)\n",
    "pd.DataFrame(data=times, columns=[\"Time\"])"
   ]
  },
  {
   "cell_type": "code",
   "execution_count": 20,
   "id": "c2f655f0",
   "metadata": {},
   "outputs": [],
   "source": [
    "import pandas as pd"
   ]
  },
  {
   "cell_type": "code",
   "execution_count": 21,
   "id": "f08dcc45",
   "metadata": {},
   "outputs": [
    {
     "data": {
      "text/plain": [
       "['Sheet1', 'Sheet2']"
      ]
     },
     "execution_count": 21,
     "metadata": {},
     "output_type": "execute_result"
    }
   ],
   "source": [
    "file = pd.ExcelFile(\"Book1.xlsx\")\n",
    "file.sheet_names"
   ]
  },
  {
   "cell_type": "code",
   "execution_count": 22,
   "id": "a5bd6e60",
   "metadata": {},
   "outputs": [
    {
     "data": {
      "text/html": [
       "<div>\n",
       "<style scoped>\n",
       "    .dataframe tbody tr th:only-of-type {\n",
       "        vertical-align: middle;\n",
       "    }\n",
       "\n",
       "    .dataframe tbody tr th {\n",
       "        vertical-align: top;\n",
       "    }\n",
       "\n",
       "    .dataframe thead th {\n",
       "        text-align: right;\n",
       "    }\n",
       "</style>\n",
       "<table border=\"1\" class=\"dataframe\">\n",
       "  <thead>\n",
       "    <tr style=\"text-align: right;\">\n",
       "      <th></th>\n",
       "      <th>dates</th>\n",
       "    </tr>\n",
       "  </thead>\n",
       "  <tbody>\n",
       "    <tr>\n",
       "      <th>0</th>\n",
       "      <td>2022-12-01</td>\n",
       "    </tr>\n",
       "    <tr>\n",
       "      <th>1</th>\n",
       "      <td>2022-12-02</td>\n",
       "    </tr>\n",
       "  </tbody>\n",
       "</table>\n",
       "</div>"
      ],
      "text/plain": [
       "       dates\n",
       "0 2022-12-01\n",
       "1 2022-12-02"
      ]
     },
     "execution_count": 22,
     "metadata": {},
     "output_type": "execute_result"
    }
   ],
   "source": [
    "file.parse(\"Sheet1\")"
   ]
  },
  {
   "cell_type": "code",
   "execution_count": 23,
   "id": "d1fc3f9e",
   "metadata": {},
   "outputs": [
    {
     "data": {
      "text/html": [
       "<div>\n",
       "<style scoped>\n",
       "    .dataframe tbody tr th:only-of-type {\n",
       "        vertical-align: middle;\n",
       "    }\n",
       "\n",
       "    .dataframe tbody tr th {\n",
       "        vertical-align: top;\n",
       "    }\n",
       "\n",
       "    .dataframe thead th {\n",
       "        text-align: right;\n",
       "    }\n",
       "</style>\n",
       "<table border=\"1\" class=\"dataframe\">\n",
       "  <thead>\n",
       "    <tr style=\"text-align: right;\">\n",
       "      <th></th>\n",
       "      <th>Names</th>\n",
       "    </tr>\n",
       "  </thead>\n",
       "  <tbody>\n",
       "    <tr>\n",
       "      <th>0</th>\n",
       "      <td>Akash</td>\n",
       "    </tr>\n",
       "    <tr>\n",
       "      <th>1</th>\n",
       "      <td>Yash</td>\n",
       "    </tr>\n",
       "  </tbody>\n",
       "</table>\n",
       "</div>"
      ],
      "text/plain": [
       "   Names\n",
       "0  Akash\n",
       "1   Yash"
      ]
     },
     "execution_count": 23,
     "metadata": {},
     "output_type": "execute_result"
    }
   ],
   "source": [
    "file.parse(\"Sheet2\")"
   ]
  },
  {
   "cell_type": "code",
   "execution_count": 24,
   "id": "877a57b6",
   "metadata": {},
   "outputs": [
    {
     "data": {
      "text/html": [
       "<div>\n",
       "<style scoped>\n",
       "    .dataframe tbody tr th:only-of-type {\n",
       "        vertical-align: middle;\n",
       "    }\n",
       "\n",
       "    .dataframe tbody tr th {\n",
       "        vertical-align: top;\n",
       "    }\n",
       "\n",
       "    .dataframe thead th {\n",
       "        text-align: right;\n",
       "    }\n",
       "</style>\n",
       "<table border=\"1\" class=\"dataframe\">\n",
       "  <thead>\n",
       "    <tr style=\"text-align: right;\">\n",
       "      <th></th>\n",
       "      <th>dates</th>\n",
       "    </tr>\n",
       "  </thead>\n",
       "  <tbody>\n",
       "    <tr>\n",
       "      <th>1</th>\n",
       "      <td>2023-03-28</td>\n",
       "    </tr>\n",
       "  </tbody>\n",
       "</table>\n",
       "</div>"
      ],
      "text/plain": [
       "       dates\n",
       "1 2023-03-28"
      ]
     },
     "execution_count": 24,
     "metadata": {},
     "output_type": "execute_result"
    }
   ],
   "source": [
    "file.parse(\"Sheet1\").tail(1).replace({\"2022-12-02\": \"2023-03-28\"})"
   ]
  },
  {
   "cell_type": "code",
   "execution_count": 25,
   "id": "038a756a",
   "metadata": {},
   "outputs": [],
   "source": [
    "# import re\n",
    "# ls=[\"S_patil@gmail.com\",\"Srk@.yahoo.in.com  gdf.03@ybl.com\"]\n",
    "# list1=re.split(\" \", str(ls))\n",
    "\n",
    "# text = \" \".join(list1)\n",
    "# # print(text)\n",
    "# re.findall(r\"\\w.+@gmail.\\w+\", text)"
   ]
  },
  {
   "cell_type": "code",
   "execution_count": 39,
   "id": "f4e7126e",
   "metadata": {},
   "outputs": [
    {
     "name": "stdout",
     "output_type": "stream",
     "text": [
      "['S_patil@gmail.com', 'gdf.03@ybl.com']\n"
     ]
    }
   ],
   "source": [
    "import re \n",
    "ls=[\"S_patil@gmail.com\",\"Srk@.yahoo.in.com  gdf.03@ybl.com\"]\n",
    "try :\n",
    "    re.findall(\"\\w+.\\w+@\\w+.\\w+\", ls)\n",
    "except:\n",
    "    list1=re.split(\" \", str(ls))\n",
    "    text = \" \".join(list1)\n",
    "finally:\n",
    "    result = re.findall(r\"\\w+.\\w+@\\w+.\\w+\", text)\n",
    "    print(result)"
   ]
  },
  {
   "cell_type": "code",
   "execution_count": null,
   "id": "934ab438",
   "metadata": {},
   "outputs": [],
   "source": []
  },
  {
   "cell_type": "code",
   "execution_count": null,
   "id": "adc80d17",
   "metadata": {},
   "outputs": [],
   "source": []
  }
 ],
 "metadata": {
  "kernelspec": {
   "display_name": "Python 3 (ipykernel)",
   "language": "python",
   "name": "python3"
  },
  "language_info": {
   "codemirror_mode": {
    "name": "ipython",
    "version": 3
   },
   "file_extension": ".py",
   "mimetype": "text/x-python",
   "name": "python",
   "nbconvert_exporter": "python",
   "pygments_lexer": "ipython3",
   "version": "3.9.13"
  }
 },
 "nbformat": 4,
 "nbformat_minor": 5
}
