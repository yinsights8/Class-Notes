{
 "cells": [
  {
   "cell_type": "markdown",
   "id": "82f6de77",
   "metadata": {},
   "source": [
    "# writing a file"
   ]
  },
  {
   "cell_type": "code",
   "execution_count": 2,
   "id": "09feb7af",
   "metadata": {},
   "outputs": [],
   "source": [
    "# First time the file contend this bellow text\n",
    "text = \"This is line 1\""
   ]
  },
  {
   "cell_type": "code",
   "execution_count": 56,
   "id": "f6f239e1",
   "metadata": {},
   "outputs": [
    {
     "name": "stdout",
     "output_type": "stream",
     "text": [
      "<_io.TextIOWrapper name='test.txt' mode='w' encoding='cp1252'>\n"
     ]
    }
   ],
   "source": [
    "file1 = open(\"test.txt\",\"w\") \n",
    "file1.writelines(text)\n",
    "file1.close()\n",
    "\n",
    "print(file1)"
   ]
  },
  {
   "cell_type": "code",
   "execution_count": 57,
   "id": "d75f1ef1",
   "metadata": {},
   "outputs": [
    {
     "name": "stdout",
     "output_type": "stream",
     "text": [
      "Machine learning (ML) is a type of artificial intelligence (AI) that allows software \n",
      "applications to become more accurate at predicting outcomes without being explicitly programmed \n",
      "to do so. Machine learning algorithms use historical data as input to predict new output values.\n",
      "\n"
     ]
    }
   ],
   "source": [
    "file1 = open(\"test.txt\", \"r\")\n",
    "x = file1.read()\n",
    "print(x)\n",
    "file1.close()\n",
    "\n"
   ]
  },
  {
   "cell_type": "code",
   "execution_count": 17,
   "id": "b76ecf4f",
   "metadata": {},
   "outputs": [],
   "source": [
    "# after applying write text 2 it contens \"hello yash\"\n",
    "# because it is overwriting\n",
    "file1 = open(\"test.txt\",\"w\")\n",
    "file1.write(\"Hello yash\")\n",
    "file1.close()"
   ]
  },
  {
   "cell_type": "code",
   "execution_count": 18,
   "id": "bc78b806",
   "metadata": {},
   "outputs": [
    {
     "name": "stdout",
     "output_type": "stream",
     "text": [
      "Hello yash\n"
     ]
    }
   ],
   "source": [
    "file1 = open(\"test.txt\")\n",
    "print(file1.read())\n",
    "file1.close()"
   ]
  },
  {
   "cell_type": "code",
   "execution_count": 2,
   "id": "2c0fd994",
   "metadata": {},
   "outputs": [],
   "source": [
    "text = \"\"\"Machine learning (ML) is a type of artificial intelligence (AI) that allows software \n",
    "applications to become more accurate at predicting outcomes without being explicitly programmed \n",
    "to do so. Machine learning algorithms use historical data as input to predict new output values.\n",
    "\"\"\""
   ]
  },
  {
   "cell_type": "code",
   "execution_count": 4,
   "id": "2ebc8ec4",
   "metadata": {},
   "outputs": [
    {
     "ename": "FileExistsError",
     "evalue": "[Errno 17] File exists: 'test2.txt'",
     "output_type": "error",
     "traceback": [
      "\u001b[1;31m---------------------------------------------------------------------------\u001b[0m",
      "\u001b[1;31mFileExistsError\u001b[0m                           Traceback (most recent call last)",
      "Input \u001b[1;32mIn [4]\u001b[0m, in \u001b[0;36m<cell line: 2>\u001b[1;34m()\u001b[0m\n\u001b[0;32m      1\u001b[0m \u001b[38;5;66;03m# This file is not overwriting because 'x' mode can only created or write the text for once only\u001b[39;00m\n\u001b[1;32m----> 2\u001b[0m file2 \u001b[38;5;241m=\u001b[39m \u001b[38;5;28;43mopen\u001b[39;49m\u001b[43m(\u001b[49m\u001b[38;5;124;43m\"\u001b[39;49m\u001b[38;5;124;43mtest2.txt\u001b[39;49m\u001b[38;5;124;43m\"\u001b[39;49m\u001b[43m,\u001b[49m\u001b[38;5;124;43m\"\u001b[39;49m\u001b[38;5;124;43mx\u001b[39;49m\u001b[38;5;124;43m\"\u001b[39;49m\u001b[43m)\u001b[49m\n\u001b[0;32m      3\u001b[0m file2\u001b[38;5;241m.\u001b[39mwrite(text)\n\u001b[0;32m      4\u001b[0m file2\u001b[38;5;241m.\u001b[39mclose()\n",
      "\u001b[1;31mFileExistsError\u001b[0m: [Errno 17] File exists: 'test2.txt'"
     ]
    }
   ],
   "source": [
    "# This file is not overwriting because 'x' mode can only created or write the text for once only\n",
    "file2 = open(\"test2.txt\",\"x\")\n",
    "file2.write(text)\n",
    "file2.close()"
   ]
  },
  {
   "cell_type": "code",
   "execution_count": 5,
   "id": "4d542d23",
   "metadata": {},
   "outputs": [
    {
     "name": "stdout",
     "output_type": "stream",
     "text": [
      "This is line 1\n"
     ]
    }
   ],
   "source": [
    "file2 = open(\"test2.txt\",\"r\")\n",
    "print(file2.read())\n",
    "file2.close()"
   ]
  },
  {
   "cell_type": "code",
   "execution_count": null,
   "id": "7eda2e1d",
   "metadata": {},
   "outputs": [],
   "source": []
  },
  {
   "cell_type": "code",
   "execution_count": 12,
   "id": "dc1505b7",
   "metadata": {},
   "outputs": [
    {
     "name": "stdout",
     "output_type": "stream",
     "text": [
      "hekko\n"
     ]
    }
   ],
   "source": [
    "f3 = open(\"test4.txt\",\"x\")\n",
    "f3.write(\"hekko\")\n",
    "f3.close()\n",
    "\n",
    "\n",
    "f3 = open(\"test4.txt\",\"r\")\n",
    "print(f3.read())\n",
    "f3.close()"
   ]
  },
  {
   "cell_type": "code",
   "execution_count": 13,
   "id": "c43beb1f",
   "metadata": {},
   "outputs": [
    {
     "ename": "FileExistsError",
     "evalue": "[Errno 17] File exists: 'test4.txt'",
     "output_type": "error",
     "traceback": [
      "\u001b[1;31m---------------------------------------------------------------------------\u001b[0m",
      "\u001b[1;31mFileExistsError\u001b[0m                           Traceback (most recent call last)",
      "Input \u001b[1;32mIn [13]\u001b[0m, in \u001b[0;36m<cell line: 1>\u001b[1;34m()\u001b[0m\n\u001b[1;32m----> 1\u001b[0m f3 \u001b[38;5;241m=\u001b[39m \u001b[38;5;28;43mopen\u001b[39;49m\u001b[43m(\u001b[49m\u001b[38;5;124;43m\"\u001b[39;49m\u001b[38;5;124;43mtest4.txt\u001b[39;49m\u001b[38;5;124;43m\"\u001b[39;49m\u001b[43m,\u001b[49m\u001b[38;5;124;43m\"\u001b[39;49m\u001b[38;5;124;43mx\u001b[39;49m\u001b[38;5;124;43m\"\u001b[39;49m\u001b[43m)\u001b[49m\n\u001b[0;32m      2\u001b[0m f3\u001b[38;5;241m.\u001b[39mwrite(\u001b[38;5;124m\"\u001b[39m\u001b[38;5;124mhekllo kya halchal\u001b[39m\u001b[38;5;124m\"\u001b[39m)\n\u001b[0;32m      3\u001b[0m f3\u001b[38;5;241m.\u001b[39mclose()\n",
      "\u001b[1;31mFileExistsError\u001b[0m: [Errno 17] File exists: 'test4.txt'"
     ]
    }
   ],
   "source": [
    "f3 = open(\"test4.txt\",\"x\")\n",
    "f3.write(\"hekllo kya halchal\")\n",
    "f3.close()\n",
    "\n",
    "\n",
    "f3 = open(\"test4.txt\",\"r\")\n",
    "print(f3.read())\n",
    "f3.close()"
   ]
  },
  {
   "cell_type": "code",
   "execution_count": 17,
   "id": "871526d0",
   "metadata": {},
   "outputs": [
    {
     "name": "stdout",
     "output_type": "stream",
     "text": [
      "hekkoi am iron mani am iron mani am iron mani am iron man\n"
     ]
    }
   ],
   "source": [
    "f3 = open(\"test4.txt\",\"a\")\n",
    "f3.write(\"i am iron man\")\n",
    "f3.close()\n",
    "\n",
    "\n",
    "f3 = open(\"test4.txt\")\n",
    "print(f3.read())\n",
    "\n",
    "f3.close()"
   ]
  },
  {
   "cell_type": "markdown",
   "id": "766ac888",
   "metadata": {},
   "source": [
    "# append method"
   ]
  },
  {
   "cell_type": "code",
   "execution_count": 48,
   "id": "3b0703f6",
   "metadata": {},
   "outputs": [
    {
     "name": "stdout",
     "output_type": "stream",
     "text": [
      "<_io.TextIOWrapper name='text1.txt' mode='a' encoding='cp1252'>\n"
     ]
    }
   ],
   "source": [
    "with open(\"text1.txt\",'a') as file_a:\n",
    "    file_a.writelines(\"python and data science\\n\")\n",
    "    \n",
    "print(file_a)"
   ]
  },
  {
   "cell_type": "code",
   "execution_count": 49,
   "id": "401fb537",
   "metadata": {},
   "outputs": [
    {
     "name": "stdout",
     "output_type": "stream",
     "text": [
      "python and data sciencepython and data sciencepython and data science\n",
      "python and data science\n",
      "python and data science\n",
      "python and data science\n",
      "python and data sciencepython and data sciencepython and data sciencepython and data sciencepython and data science\n",
      "python and data science\n",
      "python and data science\n",
      "python and data science\n",
      "python and data science\n",
      "\n"
     ]
    }
   ],
   "source": [
    "with open(\"text1.txt\",'r') as file_a:\n",
    "    read = file_a.read()\n",
    "    \n",
    "print(read)"
   ]
  },
  {
   "cell_type": "code",
   "execution_count": null,
   "id": "1c50573f",
   "metadata": {},
   "outputs": [],
   "source": []
  },
  {
   "cell_type": "code",
   "execution_count": 64,
   "id": "b104e264",
   "metadata": {},
   "outputs": [
    {
     "name": "stdout",
     "output_type": "stream",
     "text": [
      "_____________Machine Learning_____________\n",
      "\n"
     ]
    }
   ],
   "source": [
    "text = \"\"\"Machine learning (ML) is a type of artificial intelligence (AI) that allows software \n",
    "applications to become more accurate at predicting outcomes without being explicitly programmed \n",
    "to do so. Machine learning algorithms use historical data as input to predict new output values.\n",
    "\"\"\"\n",
    "\n",
    "with open(\"ML.txt\",\"w\") as ML_file:\n",
    "    ML_file.write(\"_____________Machine Learning_____________\\n\")\n",
    "    \n",
    "    \n",
    "with open(\"ML.txt\",\"r\") as ML_file:\n",
    "    read = ML_file.read()\n",
    "    \n",
    "print(read)"
   ]
  },
  {
   "cell_type": "code",
   "execution_count": 65,
   "id": "0c9b057b",
   "metadata": {},
   "outputs": [
    {
     "name": "stdout",
     "output_type": "stream",
     "text": [
      "_____________Machine Learning_____________\n",
      "Machine learning (ML) is a type of artificial intelligence (AI) that allows software \n",
      "applications to become more accurate at predicting outcomes without being explicitly programmed \n",
      "to do so. Machine learning algorithms use historical data as input to predict new output values.\n",
      "\n"
     ]
    }
   ],
   "source": [
    "with open(\"ML.txt\",\"a\") as ML_file:\n",
    "    ML_file.write(text)\n",
    "    \n",
    "with open(\"ML.txt\",\"r\") as ML_file:\n",
    "    data = ML_file.read()\n",
    "    \n",
    "print(data)"
   ]
  },
  {
   "cell_type": "code",
   "execution_count": 68,
   "id": "b650f535",
   "metadata": {},
   "outputs": [
    {
     "name": "stdout",
     "output_type": "stream",
     "text": [
      "This is 1 number line\n",
      "This is 2 number line\n",
      "This is 3 number line\n",
      "This is 4 number line\n",
      "This is 5 number line\n",
      "This is 6 number line\n",
      "This is 7 number line\n",
      "This is 8 number line\n",
      "This is 9 number line\n",
      "This is 10 number line\n",
      "\n"
     ]
    }
   ],
   "source": [
    "with open(\"text2.txt\", 'w') as file_w:\n",
    "    for i in range(1,10+1):\n",
    "        file_w.write(f\"This is {i} number line\\n\")\n",
    "        \n",
    "with open(\"text2.txt\", 'r') as file_w:\n",
    "    f_read = file_w.read()\n",
    "    \n",
    "print(f_read)"
   ]
  },
  {
   "cell_type": "code",
   "execution_count": null,
   "id": "f9d3a925",
   "metadata": {},
   "outputs": [],
   "source": []
  },
  {
   "cell_type": "code",
   "execution_count": null,
   "id": "86180c43",
   "metadata": {},
   "outputs": [],
   "source": []
  },
  {
   "cell_type": "code",
   "execution_count": 69,
   "id": "71c60ff2",
   "metadata": {},
   "outputs": [],
   "source": [
    "text = \"\"\"Machine learning (ML) is a type of artificial intelligence (AI) that allows software \n",
    "applications to become more accurate at predicting outcomes without being explicitly programmed \n",
    "to do so. Machine learning algorithms use historical data as input to predict new output values.\n",
    "\"\"\""
   ]
  },
  {
   "cell_type": "markdown",
   "id": "abea8a13",
   "metadata": {},
   "source": [
    "# how to create multiple file in 2 lines of code"
   ]
  },
  {
   "cell_type": "code",
   "execution_count": 71,
   "id": "bbfea21c",
   "metadata": {},
   "outputs": [],
   "source": [
    "for i in range(5):\n",
    "    with open(f\"ML_file_{i}.txt\",'w') as multi_file:\n",
    "        multi_file.write(text)"
   ]
  },
  {
   "cell_type": "code",
   "execution_count": null,
   "id": "85369df1",
   "metadata": {},
   "outputs": [],
   "source": []
  },
  {
   "cell_type": "code",
   "execution_count": 111,
   "id": "2c5f4631",
   "metadata": {},
   "outputs": [],
   "source": [
    "import random\n",
    "\n",
    "word_list = \"\"\"When you have a dream, you've got to grab it and never let go. — Carol Burnett\",\n",
    "            \"Nothing is impossible. The word itself says 'I'm possible!' — Audrey Hepburn\",\n",
    "            \"There is nothing impossible to they who will try. — Alexander the Great\",\n",
    "             \"The bad news is time flies. The good news is you're the pilot. — Michael Altshuler\",\n",
    "             \"Life has got all those twists and turns. You've got to hold on tight and off you go.\"\"\""
   ]
  },
  {
   "cell_type": "code",
   "execution_count": 112,
   "id": "afab17a5",
   "metadata": {},
   "outputs": [],
   "source": [
    "for i in range(5-1):\n",
    "    with open(f\"quote{i}.txt\",'w') as quotes:\n",
    "        quotes.write(random.choice(word_list))"
   ]
  },
  {
   "cell_type": "code",
   "execution_count": null,
   "id": "15562577",
   "metadata": {},
   "outputs": [],
   "source": []
  },
  {
   "cell_type": "code",
   "execution_count": null,
   "id": "947e95da",
   "metadata": {},
   "outputs": [],
   "source": []
  },
  {
   "cell_type": "code",
   "execution_count": null,
   "id": "ad3efdab",
   "metadata": {},
   "outputs": [],
   "source": []
  },
  {
   "cell_type": "code",
   "execution_count": 27,
   "id": "448ebeee",
   "metadata": {},
   "outputs": [],
   "source": [
    "word_list = [\"When you have a dream, you've got to grab it and never let go. — Carol Burnett\",\n",
    "            \"Nothing is impossible. The word itself says 'I'm possible!' — Audrey Hepburn\",\n",
    "            \"There is nothing impossible to they who will try. — Alexander the Great\",\n",
    "             \"The bad news is time flies. The good news is you're the pilot. — Michael Altshuler\",\n",
    "             \"Life has got all those twists and turns. You've got to hold on tight and off you go.\"]"
   ]
  },
  {
   "cell_type": "code",
   "execution_count": 17,
   "id": "1beccff7",
   "metadata": {},
   "outputs": [],
   "source": [
    "import random\n",
    "a = random.choice(word_list)"
   ]
  },
  {
   "cell_type": "code",
   "execution_count": 41,
   "id": "e31c5aac",
   "metadata": {},
   "outputs": [
    {
     "name": "stdout",
     "output_type": "stream",
     "text": [
      "Life has got all those twists and turns. You've got to hold on tight and off you go.\n"
     ]
    }
   ],
   "source": [
    "for i in range(5):\n",
    "    with open(f\"Motivation{i}.txt\",\"w\") as motiv:\n",
    "        motiv.write(word_list[i])\n",
    "    \n",
    "    with open(f\"Motivation{i}.txt\",\"r\") as motiv:\n",
    "        content = motiv.read()\n",
    "print(content)"
   ]
  },
  {
   "cell_type": "code",
   "execution_count": 47,
   "id": "8ac5975b",
   "metadata": {},
   "outputs": [],
   "source": [
    "with open(\"Hi.txt\", \"w\") as data:\n",
    "    data.write(\"Hi\")"
   ]
  },
  {
   "cell_type": "code",
   "execution_count": 57,
   "id": "4a758061",
   "metadata": {},
   "outputs": [
    {
     "name": "stdout",
     "output_type": "stream",
     "text": [
      "HiHiHiHiHiHiHiHi\n"
     ]
    }
   ],
   "source": [
    "with open(\"Hi.txt\", \"a\") as data:\n",
    "    data.write(\"Hi\")\n",
    "    \n",
    "with open(\"Hi.txt\", \"r\") as data:\n",
    "    print(data.read())"
   ]
  },
  {
   "cell_type": "code",
   "execution_count": 58,
   "id": "0ffb9afc",
   "metadata": {},
   "outputs": [
    {
     "name": "stdout",
     "output_type": "stream",
     "text": [
      "['HiHiHiHiHiHiHiHi']\n"
     ]
    }
   ],
   "source": [
    "with open(\"Hi.txt\", \"r\") as data:\n",
    "    print(data.readlines())"
   ]
  },
  {
   "cell_type": "code",
   "execution_count": 69,
   "id": "380455d8",
   "metadata": {},
   "outputs": [
    {
     "name": "stdout",
     "output_type": "stream",
     "text": [
      "Hi\n"
     ]
    }
   ],
   "source": [
    "with open(\"Hi.txt\", \"r\") as data:\n",
    "    print(data.readline(2))"
   ]
  },
  {
   "cell_type": "code",
   "execution_count": 71,
   "id": "60bd5b22",
   "metadata": {},
   "outputs": [
    {
     "name": "stdout",
     "output_type": "stream",
     "text": [
      "['HiHiHiHiHiHiHiHi']\n"
     ]
    }
   ],
   "source": [
    "with open(\"Hi.txt\", \"r\") as data:\n",
    "    print(data.readlines())"
   ]
  },
  {
   "cell_type": "code",
   "execution_count": 73,
   "id": "96b812b4",
   "metadata": {
    "scrolled": false
   },
   "outputs": [
    {
     "name": "stdout",
     "output_type": "stream",
     "text": [
      "HiHiHiHiHiHiHiHi\n"
     ]
    }
   ],
   "source": [
    "with open(\"Hi.txt\", \"r\") as data:\n",
    "    print(data.read())"
   ]
  },
  {
   "cell_type": "code",
   "execution_count": 95,
   "id": "ca30900a",
   "metadata": {},
   "outputs": [
    {
     "name": "stdout",
     "output_type": "stream",
     "text": [
      "\n"
     ]
    }
   ],
   "source": [
    "with open(\"HII.txt\", \"a\") as Hi_file:\n",
    "    for i in range(10):\n",
    "        Hi_file.write(\"Hii\\n\")\n",
    "    print()\n",
    "        \n"
   ]
  },
  {
   "cell_type": "code",
   "execution_count": 98,
   "id": "4ae1f9fb",
   "metadata": {},
   "outputs": [
    {
     "name": "stdout",
     "output_type": "stream",
     "text": [
      "['Hii\\n', 'Hii\\n', 'Hii\\n', 'Hii\\n', 'Hii\\n', 'Hii\\n', 'Hii\\n', 'Hii\\n', 'Hii\\n', 'Hii\\n', 'Hii\\n', 'Hii\\n', 'Hii\\n', 'Hii\\n', 'Hii\\n', 'Hii\\n', 'Hii\\n', 'Hii\\n', 'Hii\\n', 'Hii\\n', 'Hii\\n', 'Hii\\n', 'Hii\\n', 'Hii\\n', 'Hii\\n', 'Hii\\n', 'Hii\\n', 'Hii\\n', 'Hii\\n', 'Hii\\n']\n"
     ]
    }
   ],
   "source": [
    "with open(\"HII.txt\", \"r\") as Hi_file:\n",
    "    print(Hi_file.readlines())"
   ]
  },
  {
   "cell_type": "code",
   "execution_count": null,
   "id": "21b0a6e7",
   "metadata": {},
   "outputs": [],
   "source": []
  },
  {
   "cell_type": "code",
   "execution_count": null,
   "id": "4fa457eb",
   "metadata": {},
   "outputs": [],
   "source": []
  }
 ],
 "metadata": {
  "kernelspec": {
   "display_name": "Python 3 (ipykernel)",
   "language": "python",
   "name": "python3"
  },
  "language_info": {
   "codemirror_mode": {
    "name": "ipython",
    "version": 3
   },
   "file_extension": ".py",
   "mimetype": "text/x-python",
   "name": "python",
   "nbconvert_exporter": "python",
   "pygments_lexer": "ipython3",
   "version": "3.9.12"
  }
 },
 "nbformat": 4,
 "nbformat_minor": 5
}
