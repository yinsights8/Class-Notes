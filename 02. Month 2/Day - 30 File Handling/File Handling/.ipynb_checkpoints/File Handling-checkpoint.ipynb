{
 "cells": [
  {
   "cell_type": "markdown",
   "id": "8af69d30",
   "metadata": {},
   "source": [
    "# File Handling\n",
    "- Use \n",
    "    - We can read file\n",
    "    - We can write file\n",
    "    - We can append the new data in the existing file\n",
    "    - We can create file"
   ]
  },
  {
   "cell_type": "markdown",
   "id": "7f88384b",
   "metadata": {},
   "source": [
    "# Syntax:-\n",
    "- open(File_name, mode) # Default Mode = \"r\"\n",
    "- Modes :-\n",
    "    - read = \"r\"\n",
    "    - write = \"w\"\n",
    "    - write = \"x\"\n",
    "    - append = \"a\"\n",
    "    - readbyte = \"rb\"\n",
    "    - writebyte = \"wb"
   ]
  },
  {
   "cell_type": "markdown",
   "id": "d7ccd4d4",
   "metadata": {},
   "source": [
    "#  1. Write Mode\n",
    "- write = \"w\"\n",
    "    - Write mode will create a file, if that file is not exist\n",
    "    - if the file is already exist, then the existing file will gets overwrite"
   ]
  },
  {
   "cell_type": "code",
   "execution_count": 1,
   "id": "f319c6b9",
   "metadata": {},
   "outputs": [
    {
     "data": {
      "text/plain": [
       "<_io.TextIOWrapper name='Sample.txt' mode='w' encoding='cp1252'>"
      ]
     },
     "execution_count": 1,
     "metadata": {},
     "output_type": "execute_result"
    }
   ],
   "source": [
    "open(\"Sample.txt\",\"w\")"
   ]
  },
  {
   "cell_type": "code",
   "execution_count": 2,
   "id": "34750318",
   "metadata": {},
   "outputs": [],
   "source": [
    "file = open(\"Sample.txt\",\"w\")\n",
    "file.write(\"We are learning File Handling\")\n",
    "file.close()"
   ]
  },
  {
   "cell_type": "code",
   "execution_count": 3,
   "id": "ac5b1a37",
   "metadata": {},
   "outputs": [],
   "source": [
    "file = open(\"Sample1.txt\",\"x\")\n",
    "file.write(\"This is sample1 file\")\n",
    "file.close()"
   ]
  },
  {
   "cell_type": "code",
   "execution_count": 4,
   "id": "975f799a",
   "metadata": {},
   "outputs": [
    {
     "ename": "FileExistsError",
     "evalue": "[Errno 17] File exists: 'Sample1.txt'",
     "output_type": "error",
     "traceback": [
      "\u001b[1;31m---------------------------------------------------------------------------\u001b[0m",
      "\u001b[1;31mFileExistsError\u001b[0m                           Traceback (most recent call last)",
      "Input \u001b[1;32mIn [4]\u001b[0m, in \u001b[0;36m<cell line: 1>\u001b[1;34m()\u001b[0m\n\u001b[1;32m----> 1\u001b[0m file \u001b[38;5;241m=\u001b[39m \u001b[38;5;28;43mopen\u001b[39;49m\u001b[43m(\u001b[49m\u001b[38;5;124;43m\"\u001b[39;49m\u001b[38;5;124;43mSample1.txt\u001b[39;49m\u001b[38;5;124;43m\"\u001b[39;49m\u001b[43m,\u001b[49m\u001b[38;5;124;43m\"\u001b[39;49m\u001b[38;5;124;43mx\u001b[39;49m\u001b[38;5;124;43m\"\u001b[39;49m\u001b[43m)\u001b[49m\n\u001b[0;32m      2\u001b[0m file\u001b[38;5;241m.\u001b[39mwrite(\u001b[38;5;124m\"\u001b[39m\u001b[38;5;124mThis is sample1 file\u001b[39m\u001b[38;5;130;01m\\n\u001b[39;00m\u001b[38;5;124mOpening the same file again\u001b[39m\u001b[38;5;124m\"\u001b[39m)\n\u001b[0;32m      3\u001b[0m file\u001b[38;5;241m.\u001b[39mclose()\n",
      "\u001b[1;31mFileExistsError\u001b[0m: [Errno 17] File exists: 'Sample1.txt'"
     ]
    }
   ],
   "source": [
    "file = open(\"Sample1.txt\",\"x\")\n",
    "file.write(\"This is sample1 file\\nOpening the same file again\")\n",
    "file.close()"
   ]
  },
  {
   "cell_type": "code",
   "execution_count": 5,
   "id": "bf300994",
   "metadata": {},
   "outputs": [],
   "source": [
    "file = open(\"Sample.txt\",\"w\")\n",
    "file.write(\"We are learning File Handling\\nThis is the first file\")\n",
    "file.close()"
   ]
  },
  {
   "cell_type": "code",
   "execution_count": 6,
   "id": "4bae8904",
   "metadata": {},
   "outputs": [],
   "source": [
    "text = \"\"\"Machine learning (ML) is a type of artificial intelligence (AI) that allows software \n",
    "applications to become more accurate at predicting outcomes without being explicitly programmed \n",
    "to do so. Machine learning algorithms use historical data as input to predict new output values.\n",
    "\"\"\"\n",
    "file = open(\"Sample.txt\",\"w\")\n",
    "file.write(text)\n",
    "file.close()"
   ]
  },
  {
   "cell_type": "code",
   "execution_count": 7,
   "id": "6c7279a7",
   "metadata": {},
   "outputs": [
    {
     "ename": "FileExistsError",
     "evalue": "[Errno 17] File exists: 'Sample1.txt'",
     "output_type": "error",
     "traceback": [
      "\u001b[1;31m---------------------------------------------------------------------------\u001b[0m",
      "\u001b[1;31mFileExistsError\u001b[0m                           Traceback (most recent call last)",
      "Input \u001b[1;32mIn [7]\u001b[0m, in \u001b[0;36m<cell line: 5>\u001b[1;34m()\u001b[0m\n\u001b[0;32m      1\u001b[0m text \u001b[38;5;241m=\u001b[39m \u001b[38;5;124m\"\"\"\u001b[39m\u001b[38;5;124mMachine learning (ML) is a type of artificial intelligence (AI) that allows software \u001b[39m\n\u001b[0;32m      2\u001b[0m \u001b[38;5;124mapplications to become more accurate at predicting outcomes without being explicitly programmed \u001b[39m\n\u001b[0;32m      3\u001b[0m \u001b[38;5;124mto do so. Machine learning algorithms use historical data as input to predict new output values.\u001b[39m\n\u001b[0;32m      4\u001b[0m \u001b[38;5;124m\"\"\"\u001b[39m\n\u001b[1;32m----> 5\u001b[0m file \u001b[38;5;241m=\u001b[39m \u001b[38;5;28;43mopen\u001b[39;49m\u001b[43m(\u001b[49m\u001b[38;5;124;43m\"\u001b[39;49m\u001b[38;5;124;43mSample1.txt\u001b[39;49m\u001b[38;5;124;43m\"\u001b[39;49m\u001b[43m,\u001b[49m\u001b[38;5;124;43m\"\u001b[39;49m\u001b[38;5;124;43mx\u001b[39;49m\u001b[38;5;124;43m\"\u001b[39;49m\u001b[43m)\u001b[49m\n\u001b[0;32m      6\u001b[0m file\u001b[38;5;241m.\u001b[39mwrite(text)\n\u001b[0;32m      7\u001b[0m file\u001b[38;5;241m.\u001b[39mclose()\n",
      "\u001b[1;31mFileExistsError\u001b[0m: [Errno 17] File exists: 'Sample1.txt'"
     ]
    }
   ],
   "source": [
    "text = \"\"\"Machine learning (ML) is a type of artificial intelligence (AI) that allows software \n",
    "applications to become more accurate at predicting outcomes without being explicitly programmed \n",
    "to do so. Machine learning algorithms use historical data as input to predict new output values.\n",
    "\"\"\"\n",
    "file = open(\"Sample1.txt\",\"x\")\n",
    "file.write(text)\n",
    "file.close()"
   ]
  },
  {
   "cell_type": "code",
   "execution_count": 8,
   "id": "f038f65c",
   "metadata": {},
   "outputs": [],
   "source": [
    "file = open(\"Sample.txt\",\"w\")\n",
    "file.write(\"Python & Data Science Batch(30 July)\")\n",
    "file.close()"
   ]
  },
  {
   "cell_type": "markdown",
   "id": "fbc9b2c8",
   "metadata": {},
   "source": [
    "# 2. append mode\n",
    "- append = \"a\"\n",
    "    - It will create a new file, if file is not exist\n",
    "    - It will add the new data in the existing file, if the file is already exist"
   ]
  },
  {
   "cell_type": "code",
   "execution_count": 9,
   "id": "dc3fa179",
   "metadata": {},
   "outputs": [],
   "source": [
    "text = \"\"\"Machine learning (ML) is a type of artificial intelligence (AI) that allows software \n",
    "applications to become more accurate at predicting outcomes without being explicitly programmed \n",
    "to do so. Machine learning algorithms use historical data as input to predict new output values.\n",
    "\"\"\"\n",
    "file = open(\"ML_Intro.txt\",\"w\")\n",
    "file.write(text)\n",
    "file.close()"
   ]
  },
  {
   "cell_type": "code",
   "execution_count": 10,
   "id": "5a53ff33",
   "metadata": {},
   "outputs": [],
   "source": [
    "file = open(\"ML_Intro1.txt\",\"a\")\n",
    "file.write(\"__________________Machine Learning Introduction______________________\")\n",
    "file.close()"
   ]
  },
  {
   "cell_type": "code",
   "execution_count": 11,
   "id": "aae2fd2b",
   "metadata": {},
   "outputs": [],
   "source": [
    "file = open(\"ML_Intro1.txt\",\"a\")\n",
    "file.write(text)\n",
    "file.close()"
   ]
  },
  {
   "cell_type": "code",
   "execution_count": 12,
   "id": "f333fd7d",
   "metadata": {},
   "outputs": [],
   "source": [
    "file = open(\"ML_Intro1.txt\",\"a\")\n",
    "file.write(\"\\n\\n_____________________________This is ML Intro________________________\")\n",
    "file.close()"
   ]
  },
  {
   "cell_type": "code",
   "execution_count": 13,
   "id": "4943f3a1",
   "metadata": {},
   "outputs": [],
   "source": [
    "file = open(\"Hi.txt\",\"a\")\n",
    "file.write(\"Hi\")\n",
    "file.close()"
   ]
  },
  {
   "cell_type": "code",
   "execution_count": 14,
   "id": "c5ad0822",
   "metadata": {},
   "outputs": [],
   "source": [
    "file = open(\"Hi.txt\",\"a\")\n",
    "file.write(\"Hi\")\n",
    "file.write(\"Hi\")\n",
    "file.write(\"Hi\")\n",
    "file.write(\"Hi\")\n",
    "file.write(\"Hi\")\n",
    "file.write(\"Hi\")\n",
    "file.write(\"Hi\")\n",
    "file.write(\"Hi\")\n",
    "file.write(\"Hi\")\n",
    "file.write(\"Hi\")\n",
    "file.close()"
   ]
  },
  {
   "cell_type": "code",
   "execution_count": 15,
   "id": "742632f3",
   "metadata": {},
   "outputs": [],
   "source": [
    "file = open(\"Hi.txt\",\"a\")\n",
    "file.write(\"\\nHi\")\n",
    "file.write(\"\\nHi\")\n",
    "file.write(\"\\nHi\")\n",
    "file.write(\"\\nHi\")\n",
    "file.write(\"\\nHi\")\n",
    "file.write(\"\\nHi\")\n",
    "file.write(\"\\nHi\")\n",
    "file.write(\"\\nHi\")\n",
    "file.write(\"\\nHi\")\n",
    "file.write(\"\\nHi\")\n",
    "file.close()"
   ]
  },
  {
   "cell_type": "markdown",
   "id": "7e3ae855",
   "metadata": {},
   "source": [
    "# 3. read Mode\n",
    "## 3.1 read()\n",
    "- read = \"r\" # Default Mode\n",
    "    - it will read the content of the specified file"
   ]
  },
  {
   "cell_type": "code",
   "execution_count": 16,
   "id": "20dc7d6b",
   "metadata": {},
   "outputs": [
    {
     "name": "stdout",
     "output_type": "stream",
     "text": [
      "Python & Data Science Batch(30 July)\n"
     ]
    }
   ],
   "source": [
    "read_file = open(\"Sample.txt\")\n",
    "print(read_file.read())\n",
    "read_file.close()"
   ]
  },
  {
   "cell_type": "code",
   "execution_count": 17,
   "id": "df51bf14",
   "metadata": {},
   "outputs": [
    {
     "name": "stdout",
     "output_type": "stream",
     "text": [
      "This is sample1 file\n"
     ]
    }
   ],
   "source": [
    "read_file = open(\"Sample1.txt\",\"r\")\n",
    "print(read_file.read())\n",
    "read_file.close()"
   ]
  },
  {
   "cell_type": "code",
   "execution_count": 18,
   "id": "0f57de95",
   "metadata": {},
   "outputs": [
    {
     "name": "stdout",
     "output_type": "stream",
     "text": [
      "Machine learning (ML) is a type of artificial intelligence (AI) that allows software \n",
      "applications to become more accurate at predicting outcomes without being explicitly programmed \n",
      "to do so. Machine learning algorithms use historical data as input to predict new output values.\n",
      "\n"
     ]
    }
   ],
   "source": [
    "read_file = open(\"ML_Intro.txt\",\"r\")\n",
    "print(read_file.read())\n",
    "read_file.close()"
   ]
  },
  {
   "cell_type": "code",
   "execution_count": 20,
   "id": "be45d89b",
   "metadata": {},
   "outputs": [
    {
     "ename": "FileNotFoundError",
     "evalue": "[Errno 2] No such file or directory: 'ML_Introduction.txt'",
     "output_type": "error",
     "traceback": [
      "\u001b[1;31m---------------------------------------------------------------------------\u001b[0m",
      "\u001b[1;31mFileNotFoundError\u001b[0m                         Traceback (most recent call last)",
      "Input \u001b[1;32mIn [20]\u001b[0m, in \u001b[0;36m<cell line: 1>\u001b[1;34m()\u001b[0m\n\u001b[1;32m----> 1\u001b[0m read_file \u001b[38;5;241m=\u001b[39m \u001b[38;5;28;43mopen\u001b[39;49m\u001b[43m(\u001b[49m\u001b[38;5;124;43m\"\u001b[39;49m\u001b[38;5;124;43mML_Introduction.txt\u001b[39;49m\u001b[38;5;124;43m\"\u001b[39;49m\u001b[43m,\u001b[49m\u001b[38;5;124;43m\"\u001b[39;49m\u001b[38;5;124;43mr\u001b[39;49m\u001b[38;5;124;43m\"\u001b[39;49m\u001b[43m)\u001b[49m\n\u001b[0;32m      2\u001b[0m \u001b[38;5;28mprint\u001b[39m(read_file\u001b[38;5;241m.\u001b[39mread())\n\u001b[0;32m      3\u001b[0m read_file\u001b[38;5;241m.\u001b[39mclose()\n",
      "\u001b[1;31mFileNotFoundError\u001b[0m: [Errno 2] No such file or directory: 'ML_Introduction.txt'"
     ]
    }
   ],
   "source": [
    "read_file = open(\"ML_Introduction.txt\",\"r\")\n",
    "print(read_file.read())\n",
    "read_file.close()"
   ]
  },
  {
   "cell_type": "code",
   "execution_count": 21,
   "id": "6088200a",
   "metadata": {},
   "outputs": [
    {
     "name": "stdout",
     "output_type": "stream",
     "text": [
      "HiHiHiHiHiHiHiHiHiHiHi\n",
      "Hi\n",
      "Hi\n",
      "Hi\n",
      "Hi\n",
      "Hi\n",
      "Hi\n",
      "Hi\n",
      "Hi\n",
      "Hi\n",
      "Hi\n"
     ]
    }
   ],
   "source": [
    "read_file = open(\"Hi.txt\",\"r\")\n",
    "print(read_file.read())\n",
    "read_file.close()"
   ]
  },
  {
   "cell_type": "code",
   "execution_count": 22,
   "id": "1979b391",
   "metadata": {},
   "outputs": [
    {
     "name": "stdout",
     "output_type": "stream",
     "text": [
      "HiHiHiHiHi\n"
     ]
    }
   ],
   "source": [
    "read_file = open(\"Hi.txt\",\"r\")\n",
    "print(read_file.read(10))\n",
    "read_file.close()"
   ]
  },
  {
   "cell_type": "code",
   "execution_count": 24,
   "id": "ee5f3854",
   "metadata": {},
   "outputs": [
    {
     "name": "stdout",
     "output_type": "stream",
     "text": [
      "Machine learning (ML) is a type of artificial inte\n"
     ]
    }
   ],
   "source": [
    "read_file = open(\"ML_Intro.txt\",\"r\")\n",
    "print(read_file.read(50))\n",
    "read_file.close()"
   ]
  },
  {
   "cell_type": "code",
   "execution_count": 25,
   "id": "f10781a4",
   "metadata": {},
   "outputs": [
    {
     "name": "stdout",
     "output_type": "stream",
     "text": [
      "Machine learning (ML) is a type of artificial intelligence (AI) that allows software \n",
      "applications t\n"
     ]
    }
   ],
   "source": [
    "read_file = open(\"ML_Intro.txt\",\"r\")\n",
    "print(read_file.read(100))\n",
    "read_file.close()"
   ]
  },
  {
   "cell_type": "code",
   "execution_count": 27,
   "id": "c81561b9",
   "metadata": {},
   "outputs": [],
   "source": [
    "file = open(\"new_file.txt\",'a')\n",
    "for i in range(10):\n",
    "    file.write(f\"This is the {i} line\\n\")\n",
    "file.close()"
   ]
  },
  {
   "cell_type": "markdown",
   "id": "88e32da0",
   "metadata": {},
   "source": [
    "# 3.2 readline()"
   ]
  },
  {
   "cell_type": "code",
   "execution_count": 28,
   "id": "596756fa",
   "metadata": {},
   "outputs": [],
   "source": [
    "file = open(\"new_file.txt\")\n",
    "l1 = file.readline()\n",
    "file.close()"
   ]
  },
  {
   "cell_type": "code",
   "execution_count": 29,
   "id": "f5fd036c",
   "metadata": {},
   "outputs": [
    {
     "name": "stdout",
     "output_type": "stream",
     "text": [
      "This is the 0 line\n",
      "\n"
     ]
    }
   ],
   "source": [
    "print(l1)"
   ]
  },
  {
   "cell_type": "code",
   "execution_count": 30,
   "id": "7eeb6ed5",
   "metadata": {},
   "outputs": [],
   "source": [
    "file = open(\"new_file.txt\")\n",
    "l1 = file.readline()\n",
    "l2 = file.readline()\n",
    "l3 = file.readline()\n",
    "l4 = file.readline()\n",
    "file.close()"
   ]
  },
  {
   "cell_type": "code",
   "execution_count": 31,
   "id": "26faa782",
   "metadata": {},
   "outputs": [
    {
     "name": "stdout",
     "output_type": "stream",
     "text": [
      "This is the 0 line\n",
      "\n",
      "This is the 1 line\n",
      "\n",
      "This is the 2 line\n",
      "\n",
      "This is the 3 line\n",
      "\n"
     ]
    }
   ],
   "source": [
    "print(l1)\n",
    "print(l2)\n",
    "print(l3)\n",
    "print(l4)"
   ]
  },
  {
   "cell_type": "code",
   "execution_count": 32,
   "id": "eb0744d5",
   "metadata": {},
   "outputs": [
    {
     "name": "stdout",
     "output_type": "stream",
     "text": [
      "This is the 0 line\n",
      "\n",
      "This is the 1 line\n",
      "\n",
      "This is the 2 line\n",
      "\n",
      "This is the 3 line\n",
      "\n",
      "This is the 4 line\n",
      "\n",
      "This is the 5 line\n",
      "\n",
      "This is the 6 line\n",
      "\n",
      "This is the 7 line\n",
      "\n",
      "This is the 8 line\n",
      "\n",
      "This is the 9 line\n",
      "\n"
     ]
    }
   ],
   "source": [
    "file = open(\"new_file.txt\")\n",
    "for i in file:\n",
    "    print(i)\n",
    "file.close()"
   ]
  },
  {
   "cell_type": "code",
   "execution_count": 33,
   "id": "2d4bee3a",
   "metadata": {},
   "outputs": [],
   "source": [
    "file = open(\"new_file.txt\")\n",
    "l1 = file.readline(10)\n",
    "file.close()"
   ]
  },
  {
   "cell_type": "code",
   "execution_count": 34,
   "id": "76e8813d",
   "metadata": {},
   "outputs": [
    {
     "data": {
      "text/plain": [
       "'This is th'"
      ]
     },
     "execution_count": 34,
     "metadata": {},
     "output_type": "execute_result"
    }
   ],
   "source": [
    "l1"
   ]
  },
  {
   "cell_type": "code",
   "execution_count": 39,
   "id": "d87ad728",
   "metadata": {},
   "outputs": [
    {
     "name": "stdout",
     "output_type": "stream",
     "text": [
      "This is the 0 line\n",
      "\n",
      "This is the 1 li\n"
     ]
    }
   ],
   "source": [
    "file = open(\"new_file.txt\")\n",
    "l1 = file.readline(50)\n",
    "l2 = file.readline(16)\n",
    "print(l1)\n",
    "print(l2)\n",
    "file.close()"
   ]
  },
  {
   "cell_type": "markdown",
   "id": "4810dfd2",
   "metadata": {},
   "source": [
    "# readlines()\n",
    "- return a list of all the lines"
   ]
  },
  {
   "cell_type": "code",
   "execution_count": 40,
   "id": "a71f1e68",
   "metadata": {},
   "outputs": [
    {
     "name": "stdout",
     "output_type": "stream",
     "text": [
      "['Python & Data Science Batch(30 July)']\n"
     ]
    }
   ],
   "source": [
    "file = open(\"Sample.txt\")\n",
    "lines_li = file.readlines()\n",
    "print(lines_li)\n",
    "file.close()"
   ]
  },
  {
   "cell_type": "code",
   "execution_count": 41,
   "id": "ad03af56",
   "metadata": {},
   "outputs": [
    {
     "data": {
      "text/plain": [
       "list"
      ]
     },
     "execution_count": 41,
     "metadata": {},
     "output_type": "execute_result"
    }
   ],
   "source": [
    "type(lines_li)"
   ]
  },
  {
   "cell_type": "code",
   "execution_count": 42,
   "id": "43f84c2f",
   "metadata": {},
   "outputs": [
    {
     "data": {
      "text/plain": [
       "1"
      ]
     },
     "execution_count": 42,
     "metadata": {},
     "output_type": "execute_result"
    }
   ],
   "source": [
    "len(lines_li)"
   ]
  },
  {
   "cell_type": "code",
   "execution_count": 43,
   "id": "c27cbbef",
   "metadata": {},
   "outputs": [
    {
     "name": "stdout",
     "output_type": "stream",
     "text": [
      "['HiHiHiHiHiHiHiHiHiHiHi\\n', 'Hi\\n', 'Hi\\n', 'Hi\\n', 'Hi\\n', 'Hi\\n', 'Hi\\n', 'Hi\\n', 'Hi\\n', 'Hi\\n', 'Hi']\n"
     ]
    }
   ],
   "source": [
    "file = open(\"Hi.txt\")\n",
    "lines_li = file.readlines()\n",
    "print(lines_li)\n",
    "file.close()"
   ]
  },
  {
   "cell_type": "code",
   "execution_count": 44,
   "id": "b1ddaaee",
   "metadata": {},
   "outputs": [
    {
     "name": "stdout",
     "output_type": "stream",
     "text": [
      "['This is the 0 line\\n', 'This is the 1 line\\n', 'This is the 2 line\\n', 'This is the 3 line\\n', 'This is the 4 line\\n', 'This is the 5 line\\n', 'This is the 6 line\\n', 'This is the 7 line\\n', 'This is the 8 line\\n', 'This is the 9 line\\n']\n"
     ]
    }
   ],
   "source": [
    "file = open(\"new_file.txt\")\n",
    "lines_li = file.readlines()\n",
    "print(lines_li)\n",
    "file.close()"
   ]
  },
  {
   "cell_type": "code",
   "execution_count": 45,
   "id": "2de56d39",
   "metadata": {},
   "outputs": [
    {
     "name": "stdout",
     "output_type": "stream",
     "text": [
      "This is the 0 line\n",
      "\n",
      "This is the 1 line\n",
      "\n",
      "This is the 2 line\n",
      "\n",
      "This is the 3 line\n",
      "\n",
      "This is the 4 line\n",
      "\n",
      "This is the 5 line\n",
      "\n",
      "This is the 6 line\n",
      "\n",
      "This is the 7 line\n",
      "\n",
      "This is the 8 line\n",
      "\n",
      "This is the 9 line\n",
      "\n"
     ]
    }
   ],
   "source": [
    "for i in lines_li:\n",
    "    print(i)"
   ]
  },
  {
   "cell_type": "code",
   "execution_count": 46,
   "id": "1b9ad9d1",
   "metadata": {},
   "outputs": [
    {
     "name": "stdout",
     "output_type": "stream",
     "text": [
      "THIS IS THE 0 LINE\n",
      "\n",
      "THIS IS THE 1 LINE\n",
      "\n",
      "THIS IS THE 2 LINE\n",
      "\n",
      "THIS IS THE 3 LINE\n",
      "\n",
      "THIS IS THE 4 LINE\n",
      "\n",
      "This is the 5 line\n",
      "\n",
      "This is the 6 line\n",
      "\n",
      "This is the 7 line\n",
      "\n",
      "This is the 8 line\n",
      "\n",
      "This is the 9 line\n",
      "\n"
     ]
    }
   ],
   "source": [
    "for i,j in enumerate(lines_li):\n",
    "    if i < 5 :\n",
    "        print(j.upper())\n",
    "    else:\n",
    "        print(j)"
   ]
  },
  {
   "cell_type": "markdown",
   "id": "850d6d46",
   "metadata": {},
   "source": [
    "# With Statement"
   ]
  },
  {
   "cell_type": "markdown",
   "id": "7883beac",
   "metadata": {},
   "source": [
    "- Syntax \n",
    "    - with open(file_name,mode) as f/file/text_file/file1 :\n",
    "- With statement is used to avoid close function\n",
    "- It will automatically close all the files "
   ]
  },
  {
   "cell_type": "code",
   "execution_count": 47,
   "id": "25a3c619",
   "metadata": {},
   "outputs": [],
   "source": [
    "text = \"\"\"This is the 1 line\n",
    "This is the 2 line\n",
    "This is the 3 line\n",
    "This is the 4 line\n",
    "This is the 5 line\n",
    "\"\"\"\n",
    "\n",
    "with open(\"sampleFileWith.txt\",\"w\") as f:\n",
    "    f.write(text)"
   ]
  },
  {
   "cell_type": "code",
   "execution_count": 48,
   "id": "ddac30ac",
   "metadata": {},
   "outputs": [],
   "source": [
    "text = \"\"\"Machine learning (ML) is a type of artificial intelligence (AI) that allows software \n",
    "applications to become more accurate at predicting outcomes without being explicitly programmed \n",
    "to do so. Machine learning algorithms use historical data as input to predict new output values.\n",
    "\"\"\"\n",
    "with open(\"ML_IntroWith.txt\",\"a\") as file:\n",
    "    file.write(text)"
   ]
  },
  {
   "cell_type": "code",
   "execution_count": 49,
   "id": "55c4242d",
   "metadata": {},
   "outputs": [
    {
     "name": "stdout",
     "output_type": "stream",
     "text": [
      "Machine learning (ML) is a type of artificial intelligence (AI) that allows software \n",
      "applications to become more accurate at predicting outcomes without being explicitly programmed \n",
      "to do so. Machine learning algorithms use historical data as input to predict new output values.\n",
      "\n"
     ]
    }
   ],
   "source": [
    "with open(\"ML_IntroWith.txt\",\"r\") as f_r:\n",
    "    print(f_r.read())"
   ]
  },
  {
   "cell_type": "code",
   "execution_count": 50,
   "id": "b9091959",
   "metadata": {},
   "outputs": [
    {
     "data": {
      "text/plain": [
       "'sample1.txt'"
      ]
     },
     "execution_count": 50,
     "metadata": {},
     "output_type": "execute_result"
    }
   ],
   "source": [
    "f\"sample{1}.txt\""
   ]
  },
  {
   "cell_type": "code",
   "execution_count": 51,
   "id": "21dc3d2e",
   "metadata": {},
   "outputs": [],
   "source": [
    "for i in range(1,11):\n",
    "    with open(f\"WithSample{i}.txt\",\"w\") as f:\n",
    "        f.write(f\"This is file number {i}\")"
   ]
  },
  {
   "cell_type": "code",
   "execution_count": null,
   "id": "b8760411",
   "metadata": {},
   "outputs": [],
   "source": []
  }
 ],
 "metadata": {
  "kernelspec": {
   "display_name": "Python 3 (ipykernel)",
   "language": "python",
   "name": "python3"
  },
  "language_info": {
   "codemirror_mode": {
    "name": "ipython",
    "version": 3
   },
   "file_extension": ".py",
   "mimetype": "text/x-python",
   "name": "python",
   "nbconvert_exporter": "python",
   "pygments_lexer": "ipython3",
   "version": "3.10.5"
  }
 },
 "nbformat": 4,
 "nbformat_minor": 5
}
