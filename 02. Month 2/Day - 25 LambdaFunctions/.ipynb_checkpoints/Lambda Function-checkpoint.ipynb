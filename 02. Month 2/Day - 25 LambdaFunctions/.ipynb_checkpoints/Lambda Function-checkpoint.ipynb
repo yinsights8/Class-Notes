{
 "cells": [
  {
   "cell_type": "raw",
   "id": "e033e721",
   "metadata": {},
   "source": [
    "# Lambda Function\n",
    "- An annonymous function(a function without name)\n",
    "- lambda keyword will be used to define lambda function.\n",
    "- No need of return statement in lambda function\n",
    "- Work:-\n",
    "    - The expression is evaluated and result will be returned\n",
    "- Lambda function can be defined whenever u require to execute a short period function.\n",
    "- Higher-order function :- if a function is taking another function as an argument"
   ]
  },
  {
   "cell_type": "markdown",
   "id": "a2e9c803",
   "metadata": {},
   "source": [
    "# Syntax"
   ]
  },
  {
   "cell_type": "raw",
   "id": "933cc43e",
   "metadata": {},
   "source": [
    "lambda arguments : expression\n",
    "        Multiple      One"
   ]
  },
  {
   "cell_type": "code",
   "execution_count": 1,
   "id": "27d49c32",
   "metadata": {
    "scrolled": true
   },
   "outputs": [
    {
     "data": {
      "text/plain": [
       "10"
      ]
     },
     "execution_count": 1,
     "metadata": {},
     "output_type": "execute_result"
    }
   ],
   "source": [
    "def addition(a,b,c,d):\n",
    "    return a + b + c + d\n",
    "\n",
    "addition(1,2,3,4)"
   ]
  },
  {
   "cell_type": "code",
   "execution_count": 2,
   "id": "0502bdcf",
   "metadata": {
    "scrolled": false
   },
   "outputs": [
    {
     "data": {
      "text/plain": [
       "26"
      ]
     },
     "execution_count": 2,
     "metadata": {},
     "output_type": "execute_result"
    }
   ],
   "source": [
    "addition(5,6,7,8)"
   ]
  },
  {
   "cell_type": "code",
   "execution_count": 3,
   "id": "ad670087",
   "metadata": {
    "scrolled": false
   },
   "outputs": [
    {
     "data": {
      "text/plain": [
       "<function __main__.<lambda>(a, b, c, d)>"
      ]
     },
     "execution_count": 3,
     "metadata": {},
     "output_type": "execute_result"
    }
   ],
   "source": [
    "add1 = lambda a,b,c,d : a + b + c + d\n",
    "add1"
   ]
  },
  {
   "cell_type": "code",
   "execution_count": 4,
   "id": "1d771195",
   "metadata": {
    "scrolled": false
   },
   "outputs": [
    {
     "data": {
      "text/plain": [
       "10"
      ]
     },
     "execution_count": 4,
     "metadata": {},
     "output_type": "execute_result"
    }
   ],
   "source": [
    "add1(1,2,3,4)"
   ]
  },
  {
   "cell_type": "code",
   "execution_count": 5,
   "id": "f9cf345c",
   "metadata": {
    "scrolled": false
   },
   "outputs": [
    {
     "data": {
      "text/plain": [
       "26"
      ]
     },
     "execution_count": 5,
     "metadata": {},
     "output_type": "execute_result"
    }
   ],
   "source": [
    "add1(5,6,7,8)"
   ]
  },
  {
   "cell_type": "code",
   "execution_count": 6,
   "id": "31072088",
   "metadata": {
    "scrolled": false
   },
   "outputs": [
    {
     "data": {
      "text/plain": [
       "10"
      ]
     },
     "execution_count": 6,
     "metadata": {},
     "output_type": "execute_result"
    }
   ],
   "source": [
    "mul1 = lambda x,y : x * y\n",
    "mul1(2,5)"
   ]
  },
  {
   "cell_type": "code",
   "execution_count": 7,
   "id": "6a6a2776",
   "metadata": {
    "scrolled": false
   },
   "outputs": [
    {
     "data": {
      "text/plain": [
       "5"
      ]
     },
     "execution_count": 7,
     "metadata": {},
     "output_type": "execute_result"
    }
   ],
   "source": [
    "sub = lambda x,y : x - y\n",
    "sub(10,5)"
   ]
  },
  {
   "cell_type": "code",
   "execution_count": 8,
   "id": "3263dab5",
   "metadata": {
    "scrolled": false
   },
   "outputs": [
    {
     "data": {
      "text/plain": [
       "'amol.indore@gamil.com'"
      ]
     },
     "execution_count": 8,
     "metadata": {},
     "output_type": "execute_result"
    }
   ],
   "source": [
    "def get_mailID(fname,lname):\n",
    "    return fname.lower() + \".\" + lname.lower() + \"@gamil.com\"\n",
    "\n",
    "get_mailID(\"Amol\",\"Indore\")"
   ]
  },
  {
   "cell_type": "code",
   "execution_count": 9,
   "id": "d653d254",
   "metadata": {
    "scrolled": true
   },
   "outputs": [
    {
     "data": {
      "text/plain": [
       "'leenata.vedpathak@gamil.com'"
      ]
     },
     "execution_count": 9,
     "metadata": {},
     "output_type": "execute_result"
    }
   ],
   "source": [
    "get_mailID1 = lambda fname,lname : fname.lower() + \".\" + lname.lower() + \"@gamil.com\"\n",
    "get_mailID1(\"Leenata\",\"Vedpathak\")"
   ]
  },
  {
   "cell_type": "code",
   "execution_count": 10,
   "id": "fdc483e9",
   "metadata": {},
   "outputs": [
    {
     "data": {
      "text/plain": [
       "'LEENATA'"
      ]
     },
     "execution_count": 10,
     "metadata": {},
     "output_type": "execute_result"
    }
   ],
   "source": [
    "get_upper = lambda str1 : str1.upper()\n",
    "get_upper(\"leenata\")"
   ]
  },
  {
   "cell_type": "code",
   "execution_count": 11,
   "id": "fc95c95e",
   "metadata": {},
   "outputs": [
    {
     "data": {
      "text/plain": [
       "False"
      ]
     },
     "execution_count": 11,
     "metadata": {},
     "output_type": "execute_result"
    }
   ],
   "source": [
    "x = 5\n",
    "x % 2 == 0"
   ]
  },
  {
   "cell_type": "code",
   "execution_count": 12,
   "id": "db45495c",
   "metadata": {},
   "outputs": [
    {
     "data": {
      "text/plain": [
       "False"
      ]
     },
     "execution_count": 12,
     "metadata": {},
     "output_type": "execute_result"
    }
   ],
   "source": [
    "check_even = lambda x : x % 2 == 0\n",
    "check_even(5)"
   ]
  },
  {
   "cell_type": "code",
   "execution_count": 13,
   "id": "3702cb58",
   "metadata": {},
   "outputs": [
    {
     "data": {
      "text/plain": [
       "True"
      ]
     },
     "execution_count": 13,
     "metadata": {},
     "output_type": "execute_result"
    }
   ],
   "source": [
    "check_even(10)"
   ]
  },
  {
   "cell_type": "code",
   "execution_count": 14,
   "id": "b1050983",
   "metadata": {},
   "outputs": [
    {
     "data": {
      "text/plain": [
       "False"
      ]
     },
     "execution_count": 14,
     "metadata": {},
     "output_type": "execute_result"
    }
   ],
   "source": [
    "(lambda x : x % 2 == 0)(15)"
   ]
  },
  {
   "cell_type": "code",
   "execution_count": 15,
   "id": "930fee7e",
   "metadata": {},
   "outputs": [
    {
     "data": {
      "text/plain": [
       "True"
      ]
     },
     "execution_count": 15,
     "metadata": {},
     "output_type": "execute_result"
    }
   ],
   "source": [
    "(lambda x : x % 2 == 0)(16)"
   ]
  },
  {
   "cell_type": "code",
   "execution_count": 16,
   "id": "ca9a45d1",
   "metadata": {},
   "outputs": [
    {
     "name": "stdout",
     "output_type": "stream",
     "text": [
      "8\n",
      "27\n"
     ]
    }
   ],
   "source": [
    "cube = lambda x : x ** 3\n",
    "print(cube(2))\n",
    "print(cube(3))"
   ]
  },
  {
   "cell_type": "code",
   "execution_count": 17,
   "id": "44a7f480",
   "metadata": {},
   "outputs": [
    {
     "name": "stdout",
     "output_type": "stream",
     "text": [
      "2.0\n",
      "20.0\n"
     ]
    }
   ],
   "source": [
    "avg = lambda x,y,z : (x+y+z)/3\n",
    "print(avg(1,2,3))\n",
    "print(avg(10,20,30))"
   ]
  },
  {
   "cell_type": "code",
   "execution_count": 18,
   "id": "4490217a",
   "metadata": {},
   "outputs": [
    {
     "ename": "TypeError",
     "evalue": "<lambda>() missing 1 required positional argument: 'z'",
     "output_type": "error",
     "traceback": [
      "\u001b[1;31m---------------------------------------------------------------------------\u001b[0m",
      "\u001b[1;31mTypeError\u001b[0m                                 Traceback (most recent call last)",
      "Input \u001b[1;32mIn [18]\u001b[0m, in \u001b[0;36m<cell line: 2>\u001b[1;34m()\u001b[0m\n\u001b[0;32m      1\u001b[0m avg \u001b[38;5;241m=\u001b[39m \u001b[38;5;28;01mlambda\u001b[39;00m x,y,z : (x\u001b[38;5;241m+\u001b[39my\u001b[38;5;241m+\u001b[39mz)\u001b[38;5;241m/\u001b[39m\u001b[38;5;241m3\u001b[39m\n\u001b[1;32m----> 2\u001b[0m \u001b[38;5;28mprint\u001b[39m(\u001b[43mavg\u001b[49m\u001b[43m(\u001b[49m\u001b[38;5;241;43m1\u001b[39;49m\u001b[43m,\u001b[49m\u001b[38;5;241;43m2\u001b[39;49m\u001b[43m)\u001b[49m)\n",
      "\u001b[1;31mTypeError\u001b[0m: <lambda>() missing 1 required positional argument: 'z'"
     ]
    }
   ],
   "source": [
    "avg = lambda x,y,z : (x+y+z)/3\n",
    "print(avg(1,2))"
   ]
  },
  {
   "cell_type": "code",
   "execution_count": 19,
   "id": "ff4d7272",
   "metadata": {},
   "outputs": [
    {
     "ename": "TypeError",
     "evalue": "<lambda>() takes 2 positional arguments but 3 were given",
     "output_type": "error",
     "traceback": [
      "\u001b[1;31m---------------------------------------------------------------------------\u001b[0m",
      "\u001b[1;31mTypeError\u001b[0m                                 Traceback (most recent call last)",
      "Input \u001b[1;32mIn [19]\u001b[0m, in \u001b[0;36m<cell line: 2>\u001b[1;34m()\u001b[0m\n\u001b[0;32m      1\u001b[0m avg \u001b[38;5;241m=\u001b[39m \u001b[38;5;28;01mlambda\u001b[39;00m x,y : (x\u001b[38;5;241m+\u001b[39my)\u001b[38;5;241m/\u001b[39m\u001b[38;5;241m2\u001b[39m\n\u001b[1;32m----> 2\u001b[0m \u001b[38;5;28mprint\u001b[39m(\u001b[43mavg\u001b[49m\u001b[43m(\u001b[49m\u001b[38;5;241;43m1\u001b[39;49m\u001b[43m,\u001b[49m\u001b[38;5;241;43m2\u001b[39;49m\u001b[43m,\u001b[49m\u001b[38;5;241;43m3\u001b[39;49m\u001b[43m)\u001b[49m)\n",
      "\u001b[1;31mTypeError\u001b[0m: <lambda>() takes 2 positional arguments but 3 were given"
     ]
    }
   ],
   "source": [
    "avg = lambda x,y : (x+y)/2\n",
    "print(avg(1,2,3))"
   ]
  },
  {
   "cell_type": "code",
   "execution_count": 24,
   "id": "6af0ad21",
   "metadata": {},
   "outputs": [
    {
     "data": {
      "text/plain": [
       "6"
      ]
     },
     "execution_count": 24,
     "metadata": {},
     "output_type": "execute_result"
    }
   ],
   "source": [
    "1 * 2\n",
    "2 * 2\n",
    "3 * 2"
   ]
  },
  {
   "cell_type": "code",
   "execution_count": 27,
   "id": "ecc342f4",
   "metadata": {},
   "outputs": [
    {
     "name": "stdout",
     "output_type": "stream",
     "text": [
      "2\n",
      "4\n",
      "6\n",
      "8\n",
      "10\n",
      "12\n",
      "14\n",
      "16\n",
      "18\n",
      "20\n"
     ]
    }
   ],
   "source": [
    "for i in range(1,11):\n",
    "    table = lambda x , y = 2: x * y\n",
    "    print(table(i))"
   ]
  },
  {
   "cell_type": "code",
   "execution_count": 28,
   "id": "2ba0ed88",
   "metadata": {},
   "outputs": [
    {
     "name": "stdout",
     "output_type": "stream",
     "text": [
      "3\n",
      "6\n",
      "9\n",
      "12\n",
      "15\n",
      "18\n",
      "21\n",
      "24\n",
      "27\n",
      "30\n"
     ]
    }
   ],
   "source": [
    "for i in range(1,11):\n",
    "    table = lambda x , y = 2: x * y\n",
    "    print(table(i,3))"
   ]
  },
  {
   "cell_type": "code",
   "execution_count": 30,
   "id": "c6bc9ee5",
   "metadata": {},
   "outputs": [
    {
     "name": "stdout",
     "output_type": "stream",
     "text": [
      "5\n",
      "10\n",
      "15\n",
      "20\n",
      "25\n",
      "30\n",
      "35\n",
      "40\n",
      "45\n",
      "50\n"
     ]
    }
   ],
   "source": [
    "for i in range(1,11):\n",
    "    table = lambda x , y = 2: x * y # Default parameter\n",
    "    print(table(i,5))"
   ]
  },
  {
   "cell_type": "code",
   "execution_count": 31,
   "id": "ef7fb93d",
   "metadata": {},
   "outputs": [
    {
     "data": {
      "text/plain": [
       "130"
      ]
     },
     "execution_count": 31,
     "metadata": {},
     "output_type": "execute_result"
    }
   ],
   "source": [
    "add1 = lambda x,y,z = 100 : x + y + z\n",
    "add1(x=10,y = 20)"
   ]
  },
  {
   "cell_type": "code",
   "execution_count": 32,
   "id": "8e699bec",
   "metadata": {},
   "outputs": [
    {
     "ename": "SyntaxError",
     "evalue": "positional argument follows keyword argument (3626904534.py, line 2)",
     "output_type": "error",
     "traceback": [
      "\u001b[1;36m  Input \u001b[1;32mIn [32]\u001b[1;36m\u001b[0m\n\u001b[1;33m    add1(x=10,y = 20,500)\u001b[0m\n\u001b[1;37m                        ^\u001b[0m\n\u001b[1;31mSyntaxError\u001b[0m\u001b[1;31m:\u001b[0m positional argument follows keyword argument\n"
     ]
    }
   ],
   "source": [
    "add1 = lambda x,y,z = 100 : x + y + z\n",
    "add1(x=10,y = 20,500)"
   ]
  },
  {
   "cell_type": "code",
   "execution_count": 33,
   "id": "18ac8fed",
   "metadata": {},
   "outputs": [
    {
     "data": {
      "text/plain": [
       "530"
      ]
     },
     "execution_count": 33,
     "metadata": {},
     "output_type": "execute_result"
    }
   ],
   "source": [
    "add1 = lambda x,y,z = 100 : x + y + z\n",
    "add1(x=10,y = 20, z = 500)"
   ]
  },
  {
   "cell_type": "code",
   "execution_count": 34,
   "id": "077451c4",
   "metadata": {},
   "outputs": [
    {
     "data": {
      "text/plain": [
       "16"
      ]
     },
     "execution_count": 34,
     "metadata": {},
     "output_type": "execute_result"
    }
   ],
   "source": [
    "add1 = lambda x,y = 5,z = 10 : x + y + z\n",
    "add1(1)"
   ]
  },
  {
   "cell_type": "code",
   "execution_count": 35,
   "id": "8efbd87c",
   "metadata": {},
   "outputs": [
    {
     "data": {
      "text/plain": [
       "65"
      ]
     },
     "execution_count": 35,
     "metadata": {},
     "output_type": "execute_result"
    }
   ],
   "source": [
    "add1 = lambda x,y = 5,z = 10 : x + y + z # y = 50\n",
    "add1(5,50)"
   ]
  },
  {
   "cell_type": "code",
   "execution_count": 36,
   "id": "37058825",
   "metadata": {},
   "outputs": [
    {
     "ename": "SyntaxError",
     "evalue": "non-default argument follows default argument (2493079641.py, line 1)",
     "output_type": "error",
     "traceback": [
      "\u001b[1;36m  Input \u001b[1;32mIn [36]\u001b[1;36m\u001b[0m\n\u001b[1;33m    add1 = lambda y = 5,x,z = 10 : x + y + z\u001b[0m\n\u001b[1;37m                        ^\u001b[0m\n\u001b[1;31mSyntaxError\u001b[0m\u001b[1;31m:\u001b[0m non-default argument follows default argument\n"
     ]
    }
   ],
   "source": [
    "add1 = lambda y = 5,x,z = 10 : x + y + z\n",
    "add1(1)"
   ]
  },
  {
   "cell_type": "code",
   "execution_count": 40,
   "id": "d78f60d1",
   "metadata": {},
   "outputs": [
    {
     "data": {
      "text/plain": [
       "15"
      ]
     },
     "execution_count": 40,
     "metadata": {},
     "output_type": "execute_result"
    }
   ],
   "source": [
    "dummy = lambda x,y,*args : x + y + sum(args) # x = 1, y = 2, args = (3,4,5)\n",
    "dummy(1,2,3,4,5)"
   ]
  },
  {
   "cell_type": "code",
   "execution_count": 41,
   "id": "c9963797",
   "metadata": {},
   "outputs": [
    {
     "data": {
      "text/plain": [
       "6"
      ]
     },
     "execution_count": 41,
     "metadata": {},
     "output_type": "execute_result"
    }
   ],
   "source": [
    "sum((1,2,3))"
   ]
  },
  {
   "cell_type": "code",
   "execution_count": 42,
   "id": "8f496803",
   "metadata": {},
   "outputs": [
    {
     "data": {
      "text/plain": [
       "9"
      ]
     },
     "execution_count": 42,
     "metadata": {},
     "output_type": "execute_result"
    }
   ],
   "source": [
    "max1 = lambda x : max(x)\n",
    "max1((6,5,8,9,7,5))"
   ]
  },
  {
   "cell_type": "code",
   "execution_count": 43,
   "id": "93a7163b",
   "metadata": {},
   "outputs": [
    {
     "data": {
      "text/plain": [
       "765"
      ]
     },
     "execution_count": 43,
     "metadata": {},
     "output_type": "execute_result"
    }
   ],
   "source": [
    "max1([88,765,4,3,6])"
   ]
  },
  {
   "cell_type": "code",
   "execution_count": 44,
   "id": "1f017e0c",
   "metadata": {},
   "outputs": [
    {
     "data": {
      "text/plain": [
       "5"
      ]
     },
     "execution_count": 44,
     "metadata": {},
     "output_type": "execute_result"
    }
   ],
   "source": [
    "min1 = lambda x : min(x)\n",
    "min1((6,5,8,9,7,5))"
   ]
  },
  {
   "cell_type": "code",
   "execution_count": 45,
   "id": "b7ace108",
   "metadata": {},
   "outputs": [
    {
     "data": {
      "text/plain": [
       "3"
      ]
     },
     "execution_count": 45,
     "metadata": {},
     "output_type": "execute_result"
    }
   ],
   "source": [
    "min1([88,765,4,3,6])"
   ]
  },
  {
   "cell_type": "code",
   "execution_count": 46,
   "id": "b58880f2",
   "metadata": {},
   "outputs": [
    {
     "data": {
      "text/plain": [
       "dict_keys(['x1', 'x2', 'x3', 'x4', 'x5'])"
      ]
     },
     "execution_count": 46,
     "metadata": {},
     "output_type": "execute_result"
    }
   ],
   "source": [
    "x = lambda **kwargs : kwargs.keys()\n",
    "x(x1 = 1, x2 = 2, x3 = 3, x4 = 4, x5 = 5)"
   ]
  },
  {
   "cell_type": "code",
   "execution_count": 47,
   "id": "3c48d72e",
   "metadata": {},
   "outputs": [
    {
     "data": {
      "text/plain": [
       "dict_values([1, 2, 3, 4, 5])"
      ]
     },
     "execution_count": 47,
     "metadata": {},
     "output_type": "execute_result"
    }
   ],
   "source": [
    "x = lambda **kwargs : kwargs.values()\n",
    "x(x1 = 1, x2 = 2, x3 = 3, x4 = 4, x5 = 5)"
   ]
  },
  {
   "cell_type": "code",
   "execution_count": 49,
   "id": "6665ff33",
   "metadata": {},
   "outputs": [
    {
     "data": {
      "text/plain": [
       "dict_items([('x1', 1), ('x2', 2), ('x3', 3), ('x4', 4), ('x5', 5)])"
      ]
     },
     "execution_count": 49,
     "metadata": {},
     "output_type": "execute_result"
    }
   ],
   "source": [
    "x = lambda **kwargs : kwargs.items()\n",
    "x(x1 = 1, x2 = 2, x3 = 3, x4 = 4, x5 = 5)"
   ]
  },
  {
   "cell_type": "code",
   "execution_count": 50,
   "id": "b895344f",
   "metadata": {},
   "outputs": [
    {
     "data": {
      "text/plain": [
       "15"
      ]
     },
     "execution_count": 50,
     "metadata": {},
     "output_type": "execute_result"
    }
   ],
   "source": [
    "x = lambda **kwargs : sum(kwargs.values())\n",
    "x(x1 = 1, x2 = 2, x3 = 3, x4 = 4, x5 = 5)"
   ]
  },
  {
   "cell_type": "code",
   "execution_count": 51,
   "id": "4b8bb9c3",
   "metadata": {},
   "outputs": [
    {
     "data": {
      "text/plain": [
       "[9, 16, 25, 36, 49]"
      ]
     },
     "execution_count": 51,
     "metadata": {},
     "output_type": "execute_result"
    }
   ],
   "source": [
    "li1 = [3,4,5,6,7]\n",
    "def get_sq_li(li):\n",
    "    sqr_li = [i ** 2 for i in li]\n",
    "    return sqr_li\n",
    "\n",
    "get_sq_li(li1)"
   ]
  },
  {
   "cell_type": "code",
   "execution_count": 52,
   "id": "c4e804e0",
   "metadata": {},
   "outputs": [
    {
     "data": {
      "text/plain": [
       "[9, 16, 25, 36, 49]"
      ]
     },
     "execution_count": 52,
     "metadata": {},
     "output_type": "execute_result"
    }
   ],
   "source": [
    "sqr = lambda li : [i ** 2 for i in li]\n",
    "sqr(li1)"
   ]
  },
  {
   "cell_type": "code",
   "execution_count": 53,
   "id": "a47377a4",
   "metadata": {},
   "outputs": [
    {
     "data": {
      "text/plain": [
       "[100, 400, 900]"
      ]
     },
     "execution_count": 53,
     "metadata": {},
     "output_type": "execute_result"
    }
   ],
   "source": [
    "sqr([10,20,30])"
   ]
  },
  {
   "cell_type": "code",
   "execution_count": 54,
   "id": "adeeedae",
   "metadata": {},
   "outputs": [
    {
     "data": {
      "text/plain": [
       "[100, 400, 900, 1600]"
      ]
     },
     "execution_count": 54,
     "metadata": {},
     "output_type": "execute_result"
    }
   ],
   "source": [
    "get_sq_li([10,20,30,40])"
   ]
  },
  {
   "cell_type": "code",
   "execution_count": 55,
   "id": "183d267b",
   "metadata": {},
   "outputs": [
    {
     "name": "stdout",
     "output_type": "stream",
     "text": [
      "(100) is smaller than (200) \n"
     ]
    }
   ],
   "source": [
    "a = 100\n",
    "b = 200\n",
    "if a < b :\n",
    "    print(f\"({a}) is smaller than ({b}) \")\n",
    "else:\n",
    "    print(f\"({a}) is greater than ({b}) \")"
   ]
  },
  {
   "cell_type": "code",
   "execution_count": 57,
   "id": "b5246ab2",
   "metadata": {},
   "outputs": [
    {
     "name": "stdout",
     "output_type": "stream",
     "text": [
      "(1000) is greater than or equal to (200) \n"
     ]
    }
   ],
   "source": [
    "a = 1000\n",
    "b = 200\n",
    "if a < b :\n",
    "    print(f\"({a}) is smaller than ({b}) \")\n",
    "else:\n",
    "    print(f\"({a}) is greater than or equal to ({b}) \")"
   ]
  },
  {
   "cell_type": "code",
   "execution_count": 58,
   "id": "8f6af320",
   "metadata": {},
   "outputs": [
    {
     "name": "stdout",
     "output_type": "stream",
     "text": [
      "(200) is greater than or equal to (200) \n"
     ]
    }
   ],
   "source": [
    "a = 200\n",
    "b = 200\n",
    "if a < b :\n",
    "    print(f\"({a}) is smaller than ({b}) \")\n",
    "else:\n",
    "    print(f\"({a}) is greater than or equal to ({b}) \")"
   ]
  },
  {
   "cell_type": "code",
   "execution_count": 65,
   "id": "c751e1ef",
   "metadata": {},
   "outputs": [
    {
     "data": {
      "text/plain": [
       "'(200) is greater than or equal to (200) '"
      ]
     },
     "execution_count": 65,
     "metadata": {},
     "output_type": "execute_result"
    }
   ],
   "source": [
    "a = 200\n",
    "b = 200\n",
    "def compare(a,b):\n",
    "    if a < b :\n",
    "        return f\"({a}) is smaller than ({b}) \"\n",
    "    else:\n",
    "        return f\"({a}) is greater than or equal to ({b}) \"\n",
    "    \n",
    "compare(a,b)"
   ]
  },
  {
   "cell_type": "code",
   "execution_count": 66,
   "id": "42fbb816",
   "metadata": {},
   "outputs": [
    {
     "data": {
      "text/plain": [
       "'(20) is smaller than (200) '"
      ]
     },
     "execution_count": 66,
     "metadata": {},
     "output_type": "execute_result"
    }
   ],
   "source": [
    "a = 20\n",
    "b = 200\n",
    "def compare(a,b):\n",
    "    if a < b :\n",
    "        return f\"({a}) is smaller than ({b}) \"\n",
    "    else:\n",
    "        return f\"({a}) is greater than or equal to ({b}) \"\n",
    "    \n",
    "compare(a,b)"
   ]
  },
  {
   "cell_type": "code",
   "execution_count": null,
   "id": "1268e4ed",
   "metadata": {},
   "outputs": [],
   "source": []
  },
  {
   "cell_type": "code",
   "execution_count": 62,
   "id": "26aceb75",
   "metadata": {},
   "outputs": [
    {
     "name": "stdout",
     "output_type": "stream",
     "text": [
      "(20) is smaller than (200)\n"
     ]
    }
   ],
   "source": [
    "a = 20\n",
    "b = 200\n",
    "print(f\"({a}) is smaller than ({b})\") if a < b else print(f\"({a}) is greater than or equal to ({b}) \")"
   ]
  },
  {
   "cell_type": "code",
   "execution_count": 63,
   "id": "06d303d8",
   "metadata": {},
   "outputs": [
    {
     "name": "stdout",
     "output_type": "stream",
     "text": [
      "(2000) is greater than or equal to (200) \n"
     ]
    }
   ],
   "source": [
    "a = 2000\n",
    "b = 200\n",
    "print(f\"({a}) is smaller than ({b})\") if a < b else print(f\"({a}) is greater than or equal to ({b}) \")"
   ]
  },
  {
   "cell_type": "code",
   "execution_count": 67,
   "id": "c36b21b3",
   "metadata": {},
   "outputs": [],
   "source": [
    "compare1 = lambda a , b : f\"({a}) is smaller than ({b})\" if a < b else f\"({a}) is greater than or equal to ({b}) \""
   ]
  },
  {
   "cell_type": "code",
   "execution_count": 68,
   "id": "53573b7b",
   "metadata": {},
   "outputs": [
    {
     "data": {
      "text/plain": [
       "'(2000) is greater than or equal to (200) '"
      ]
     },
     "execution_count": 68,
     "metadata": {},
     "output_type": "execute_result"
    }
   ],
   "source": [
    "compare1(2000,200)"
   ]
  },
  {
   "cell_type": "code",
   "execution_count": 69,
   "id": "52eb66e9",
   "metadata": {},
   "outputs": [
    {
     "data": {
      "text/plain": [
       "'(200) is smaller than (2000)'"
      ]
     },
     "execution_count": 69,
     "metadata": {},
     "output_type": "execute_result"
    }
   ],
   "source": [
    "compare1(200,2000)"
   ]
  },
  {
   "cell_type": "code",
   "execution_count": null,
   "id": "7e194ebc",
   "metadata": {},
   "outputs": [],
   "source": []
  },
  {
   "cell_type": "code",
   "execution_count": null,
   "id": "f94937e6",
   "metadata": {},
   "outputs": [],
   "source": []
  },
  {
   "cell_type": "code",
   "execution_count": null,
   "id": "68b44921",
   "metadata": {},
   "outputs": [],
   "source": []
  },
  {
   "cell_type": "code",
   "execution_count": null,
   "id": "23170896",
   "metadata": {},
   "outputs": [],
   "source": []
  },
  {
   "cell_type": "code",
   "execution_count": null,
   "id": "b2156019",
   "metadata": {},
   "outputs": [],
   "source": []
  },
  {
   "cell_type": "code",
   "execution_count": null,
   "id": "461a5682",
   "metadata": {},
   "outputs": [],
   "source": []
  },
  {
   "cell_type": "code",
   "execution_count": null,
   "id": "6263aaec",
   "metadata": {},
   "outputs": [],
   "source": []
  },
  {
   "cell_type": "code",
   "execution_count": null,
   "id": "1d48c1f3",
   "metadata": {},
   "outputs": [],
   "source": []
  },
  {
   "cell_type": "code",
   "execution_count": null,
   "id": "8ea4eaea",
   "metadata": {},
   "outputs": [],
   "source": []
  },
  {
   "cell_type": "code",
   "execution_count": null,
   "id": "6588cbdc",
   "metadata": {},
   "outputs": [],
   "source": []
  },
  {
   "cell_type": "code",
   "execution_count": null,
   "id": "3706eedc",
   "metadata": {},
   "outputs": [],
   "source": []
  },
  {
   "cell_type": "code",
   "execution_count": null,
   "id": "7731361c",
   "metadata": {},
   "outputs": [],
   "source": []
  },
  {
   "cell_type": "code",
   "execution_count": null,
   "id": "35027e44",
   "metadata": {},
   "outputs": [],
   "source": []
  },
  {
   "cell_type": "code",
   "execution_count": null,
   "id": "77cd2a33",
   "metadata": {},
   "outputs": [],
   "source": []
  },
  {
   "cell_type": "code",
   "execution_count": null,
   "id": "14623e0b",
   "metadata": {},
   "outputs": [],
   "source": []
  },
  {
   "cell_type": "code",
   "execution_count": null,
   "id": "17bb68bb",
   "metadata": {},
   "outputs": [],
   "source": []
  },
  {
   "cell_type": "code",
   "execution_count": null,
   "id": "b63d3525",
   "metadata": {},
   "outputs": [],
   "source": []
  },
  {
   "cell_type": "code",
   "execution_count": null,
   "id": "5c494908",
   "metadata": {},
   "outputs": [],
   "source": []
  },
  {
   "cell_type": "code",
   "execution_count": null,
   "id": "bff502dd",
   "metadata": {},
   "outputs": [],
   "source": []
  },
  {
   "cell_type": "code",
   "execution_count": null,
   "id": "c969b334",
   "metadata": {},
   "outputs": [],
   "source": []
  },
  {
   "cell_type": "code",
   "execution_count": null,
   "id": "fe1c442d",
   "metadata": {},
   "outputs": [],
   "source": []
  },
  {
   "cell_type": "code",
   "execution_count": null,
   "id": "08d4f4c5",
   "metadata": {},
   "outputs": [],
   "source": []
  },
  {
   "cell_type": "code",
   "execution_count": null,
   "id": "6f4324dc",
   "metadata": {},
   "outputs": [],
   "source": []
  },
  {
   "cell_type": "code",
   "execution_count": null,
   "id": "91403012",
   "metadata": {},
   "outputs": [],
   "source": []
  },
  {
   "cell_type": "code",
   "execution_count": null,
   "id": "a098e8c6",
   "metadata": {},
   "outputs": [],
   "source": []
  },
  {
   "cell_type": "code",
   "execution_count": null,
   "id": "31aa2295",
   "metadata": {},
   "outputs": [],
   "source": []
  },
  {
   "cell_type": "code",
   "execution_count": null,
   "id": "72bc2647",
   "metadata": {},
   "outputs": [],
   "source": []
  },
  {
   "cell_type": "code",
   "execution_count": null,
   "id": "4b5f20cf",
   "metadata": {},
   "outputs": [],
   "source": []
  },
  {
   "cell_type": "code",
   "execution_count": null,
   "id": "185c24f5",
   "metadata": {},
   "outputs": [],
   "source": []
  },
  {
   "cell_type": "code",
   "execution_count": null,
   "id": "504c3d35",
   "metadata": {},
   "outputs": [],
   "source": []
  },
  {
   "cell_type": "code",
   "execution_count": null,
   "id": "6e291d8e",
   "metadata": {},
   "outputs": [],
   "source": []
  },
  {
   "cell_type": "code",
   "execution_count": null,
   "id": "c9a42c71",
   "metadata": {},
   "outputs": [],
   "source": []
  },
  {
   "cell_type": "code",
   "execution_count": null,
   "id": "d1b6374f",
   "metadata": {},
   "outputs": [],
   "source": []
  },
  {
   "cell_type": "code",
   "execution_count": null,
   "id": "c4ccfaa6",
   "metadata": {},
   "outputs": [],
   "source": []
  },
  {
   "cell_type": "code",
   "execution_count": null,
   "id": "70a14879",
   "metadata": {},
   "outputs": [],
   "source": []
  },
  {
   "cell_type": "code",
   "execution_count": null,
   "id": "57483e20",
   "metadata": {},
   "outputs": [],
   "source": []
  },
  {
   "cell_type": "code",
   "execution_count": null,
   "id": "e5595bb7",
   "metadata": {},
   "outputs": [],
   "source": []
  },
  {
   "cell_type": "code",
   "execution_count": null,
   "id": "cd97da93",
   "metadata": {},
   "outputs": [],
   "source": []
  }
 ],
 "metadata": {
  "kernelspec": {
   "display_name": "Python 3 (ipykernel)",
   "language": "python",
   "name": "python3"
  },
  "language_info": {
   "codemirror_mode": {
    "name": "ipython",
    "version": 3
   },
   "file_extension": ".py",
   "mimetype": "text/x-python",
   "name": "python",
   "nbconvert_exporter": "python",
   "pygments_lexer": "ipython3",
   "version": "3.9.12"
  }
 },
 "nbformat": 4,
 "nbformat_minor": 5
}
