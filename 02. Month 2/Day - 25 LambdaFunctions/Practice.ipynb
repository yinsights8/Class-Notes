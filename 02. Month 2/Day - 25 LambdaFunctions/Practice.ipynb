{
 "cells": [
  {
   "cell_type": "markdown",
   "id": "ebc44488",
   "metadata": {},
   "source": [
    "## Lambda functions"
   ]
  },
  {
   "cell_type": "code",
   "execution_count": 2,
   "id": "8300e668",
   "metadata": {},
   "outputs": [
    {
     "data": {
      "text/plain": [
       "<function __main__.<lambda>(x, y)>"
      ]
     },
     "execution_count": 2,
     "metadata": {},
     "output_type": "execute_result"
    }
   ],
   "source": [
    "x = lambda x,y : x + y\n",
    "\n",
    "x"
   ]
  },
  {
   "cell_type": "code",
   "execution_count": 3,
   "id": "847509c3",
   "metadata": {},
   "outputs": [
    {
     "data": {
      "text/plain": [
       "70"
      ]
     },
     "execution_count": 3,
     "metadata": {},
     "output_type": "execute_result"
    }
   ],
   "source": [
    "x = lambda x,y : x + y\n",
    "x(20,50)"
   ]
  },
  {
   "cell_type": "code",
   "execution_count": 4,
   "id": "83cefcc3",
   "metadata": {},
   "outputs": [
    {
     "data": {
      "text/plain": [
       "100"
      ]
     },
     "execution_count": 4,
     "metadata": {},
     "output_type": "execute_result"
    }
   ],
   "source": [
    "# there is no need to assign a variable name to lambda function because it is a anoynomus function\n",
    "(lambda x,y : x * y)(20,5)"
   ]
  },
  {
   "cell_type": "code",
   "execution_count": 8,
   "id": "6d781396",
   "metadata": {},
   "outputs": [
    {
     "data": {
      "text/plain": [
       "280"
      ]
     },
     "execution_count": 8,
     "metadata": {},
     "output_type": "execute_result"
    }
   ],
   "source": [
    "y = lambda x,y=2 : x*y\n",
    "\n",
    "y(140)"
   ]
  },
  {
   "cell_type": "code",
   "execution_count": 20,
   "id": "e65f25f8",
   "metadata": {},
   "outputs": [
    {
     "data": {
      "text/plain": [
       "'Yash.Dhakade@gmail.com'"
      ]
     },
     "execution_count": 20,
     "metadata": {},
     "output_type": "execute_result"
    }
   ],
   "source": [
    "def user_ID(fname=\"user_fname\", lname=\"user_lname\"):\n",
    "    return fname + \".\" + lname + \"@gmail.com\"\n",
    "\n",
    "user_ID( lname=\"Dhakade\", fname=\"Yash\")"
   ]
  },
  {
   "cell_type": "code",
   "execution_count": 23,
   "id": "50722bed",
   "metadata": {},
   "outputs": [
    {
     "data": {
      "text/plain": [
       "'yash.dhakade@gmail.com'"
      ]
     },
     "execution_count": 23,
     "metadata": {},
     "output_type": "execute_result"
    }
   ],
   "source": [
    "user = lambda fname, lname : fname + \".\" + lname + \"@gmail.com\"\n",
    "\n",
    "user(\"yash\",\"dhakade\")"
   ]
  },
  {
   "cell_type": "code",
   "execution_count": null,
   "id": "3ca6212f",
   "metadata": {},
   "outputs": [],
   "source": []
  },
  {
   "cell_type": "code",
   "execution_count": 25,
   "id": "20e0ccbd",
   "metadata": {},
   "outputs": [
    {
     "data": {
      "text/plain": [
       "'user_fname.user_lname@gmail.com'"
      ]
     },
     "execution_count": 25,
     "metadata": {},
     "output_type": "execute_result"
    }
   ],
   "source": [
    "user = lambda fname=\"user_fname\", lname=\"user_lname\" : fname + \".\" + lname + \"@gmail.com\"\n",
    "\n",
    "user()"
   ]
  },
  {
   "cell_type": "markdown",
   "id": "3cc64b27",
   "metadata": {},
   "source": [
    "## lambda function by using List comprehension"
   ]
  },
  {
   "cell_type": "code",
   "execution_count": 26,
   "id": "ac76169f",
   "metadata": {},
   "outputs": [
    {
     "name": "stdout",
     "output_type": "stream",
     "text": [
      "[1, 4, 9, 16, 25, 36, 49, 64, 81]\n"
     ]
    }
   ],
   "source": [
    "lis = [1,2,3,4,5,6,7,8,9]\n",
    "new_list = []\n",
    "for i in lis:\n",
    "    new_list.append(i**2)\n",
    "print(new_list)"
   ]
  },
  {
   "cell_type": "code",
   "execution_count": 28,
   "id": "19a1af0d",
   "metadata": {},
   "outputs": [
    {
     "data": {
      "text/plain": [
       "[1, 4, 9, 16, 25, 36, 49, 64, 81]"
      ]
     },
     "execution_count": 28,
     "metadata": {},
     "output_type": "execute_result"
    }
   ],
   "source": [
    "def square(lis):\n",
    "    new_list = [i**2 for i in lis]\n",
    "    return new_list\n",
    "\n",
    "square(lis)"
   ]
  },
  {
   "cell_type": "code",
   "execution_count": null,
   "id": "aa175e97",
   "metadata": {},
   "outputs": [],
   "source": []
  },
  {
   "cell_type": "code",
   "execution_count": 31,
   "id": "79d3c10e",
   "metadata": {},
   "outputs": [
    {
     "data": {
      "text/plain": [
       "[1, 4, 9, 16, 25, 36, 49, 64, 81]"
      ]
     },
     "execution_count": 31,
     "metadata": {},
     "output_type": "execute_result"
    }
   ],
   "source": [
    "lis = [1,2,3,4,5,6,7,8,9]\n",
    "table = lambda lis : [i**2 for i in lis]\n",
    "\n",
    "square(lis)"
   ]
  },
  {
   "cell_type": "code",
   "execution_count": 32,
   "id": "e3cfd92b",
   "metadata": {},
   "outputs": [
    {
     "data": {
      "text/plain": [
       "[16, 25, 36]"
      ]
     },
     "execution_count": 32,
     "metadata": {},
     "output_type": "execute_result"
    }
   ],
   "source": [
    "square([4,5,6])"
   ]
  },
  {
   "cell_type": "code",
   "execution_count": 36,
   "id": "39699cf5",
   "metadata": {},
   "outputs": [
    {
     "name": "stdout",
     "output_type": "stream",
     "text": [
      "2\n",
      "4\n",
      "6\n",
      "8\n",
      "10\n",
      "12\n",
      "14\n",
      "16\n",
      "18\n",
      "40\n"
     ]
    }
   ],
   "source": [
    "for i in range(2,3):\n",
    "    for j in [1,2,3,4,5,6,7,8,9,20]:\n",
    "        print(i*j)"
   ]
  },
  {
   "cell_type": "code",
   "execution_count": 51,
   "id": "92012fe4",
   "metadata": {},
   "outputs": [
    {
     "data": {
      "text/plain": [
       "[49, 81, 25, 9]"
      ]
     },
     "execution_count": 51,
     "metadata": {},
     "output_type": "execute_result"
    }
   ],
   "source": [
    "square_odd = lambda lis : [x**2 for x in lis if x%2 != 0]\n",
    "\n",
    "square_odd([7,8,9,4,5,6,2,3])"
   ]
  },
  {
   "cell_type": "code",
   "execution_count": 53,
   "id": "e533e099",
   "metadata": {},
   "outputs": [
    {
     "data": {
      "text/plain": [
       "[49, 81, 25, 1, 9]"
      ]
     },
     "execution_count": 53,
     "metadata": {},
     "output_type": "execute_result"
    }
   ],
   "source": [
    "square_odd([7,8,9,4,5,6,1,2,3])"
   ]
  },
  {
   "cell_type": "markdown",
   "id": "5eae2464",
   "metadata": {},
   "source": [
    "## Short hand if-else statement"
   ]
  },
  {
   "cell_type": "code",
   "execution_count": 54,
   "id": "e60ca024",
   "metadata": {},
   "outputs": [
    {
     "name": "stdout",
     "output_type": "stream",
     "text": [
      "20 is greater than 15\n"
     ]
    }
   ],
   "source": [
    "a = 20\n",
    "b = 15\n",
    "\n",
    "print(f\"{a} is smaller than {b}\" if a < b else f\"{a} is greater than {b}\")"
   ]
  },
  {
   "cell_type": "code",
   "execution_count": 55,
   "id": "89d0935a",
   "metadata": {},
   "outputs": [
    {
     "data": {
      "text/plain": [
       "'202 is smaller than 1551'"
      ]
     },
     "execution_count": 55,
     "metadata": {},
     "output_type": "execute_result"
    }
   ],
   "source": [
    "def short_if(a,b):\n",
    "    return f\"{a} is smaller than {b}\" if a < b else f\"{a} is greater than {b}\" \n",
    "\n",
    "a = 202\n",
    "b = 1551\n",
    "short_if(a,b)"
   ]
  },
  {
   "cell_type": "code",
   "execution_count": 62,
   "id": "094a8101",
   "metadata": {},
   "outputs": [],
   "source": [
    "compair = lambda a, b : f\" if s- {a} is greater than {b}\" if a > b else f\"else s- {b} is gretter than {a}\""
   ]
  },
  {
   "cell_type": "code",
   "execution_count": 63,
   "id": "6f653d90",
   "metadata": {},
   "outputs": [
    {
     "data": {
      "text/plain": [
       "' if s- 200 is greater than 100'"
      ]
     },
     "execution_count": 63,
     "metadata": {},
     "output_type": "execute_result"
    }
   ],
   "source": [
    "compair(200, 100)"
   ]
  },
  {
   "cell_type": "code",
   "execution_count": 64,
   "id": "b61dc1e8",
   "metadata": {},
   "outputs": [
    {
     "data": {
      "text/plain": [
       "'else s- 1000 is gretter than 200'"
      ]
     },
     "execution_count": 64,
     "metadata": {},
     "output_type": "execute_result"
    }
   ],
   "source": [
    "compair(200,1000)"
   ]
  },
  {
   "cell_type": "code",
   "execution_count": null,
   "id": "2554516c",
   "metadata": {},
   "outputs": [],
   "source": []
  }
 ],
 "metadata": {
  "kernelspec": {
   "display_name": "Python 3 (ipykernel)",
   "language": "python",
   "name": "python3"
  },
  "language_info": {
   "codemirror_mode": {
    "name": "ipython",
    "version": 3
   },
   "file_extension": ".py",
   "mimetype": "text/x-python",
   "name": "python",
   "nbconvert_exporter": "python",
   "pygments_lexer": "ipython3",
   "version": "3.9.12"
  }
 },
 "nbformat": 4,
 "nbformat_minor": 5
}
