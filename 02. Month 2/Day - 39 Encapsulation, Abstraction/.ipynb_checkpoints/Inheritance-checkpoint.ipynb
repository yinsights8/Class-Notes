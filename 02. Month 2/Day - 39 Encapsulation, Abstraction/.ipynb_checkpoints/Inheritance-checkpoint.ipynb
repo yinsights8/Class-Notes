{
 "cells": [
  {
   "cell_type": "markdown",
   "id": "462cdccb",
   "metadata": {},
   "source": [
    "# Inheritance"
   ]
  },
  {
   "cell_type": "markdown",
   "id": "6874b82d",
   "metadata": {},
   "source": [
    "###  Hir_Inh"
   ]
  },
  {
   "cell_type": "code",
   "execution_count": 1,
   "id": "6910b29d",
   "metadata": {},
   "outputs": [],
   "source": [
    "class parent:\n",
    "    pass\n",
    "\n",
    "class child1(parent):\n",
    "    pass\n",
    "\n",
    "class child2(parent):\n",
    "    pass"
   ]
  },
  {
   "cell_type": "markdown",
   "id": "63255cd2",
   "metadata": {},
   "source": [
    "### Hyb_inh"
   ]
  },
  {
   "cell_type": "code",
   "execution_count": 2,
   "id": "32f66c1f",
   "metadata": {},
   "outputs": [],
   "source": [
    "# There is no order follwed"
   ]
  },
  {
   "cell_type": "code",
   "execution_count": null,
   "id": "af5a89dc",
   "metadata": {},
   "outputs": [],
   "source": []
  }
 ],
 "metadata": {
  "kernelspec": {
   "display_name": "Python 3 (ipykernel)",
   "language": "python",
   "name": "python3"
  },
  "language_info": {
   "codemirror_mode": {
    "name": "ipython",
    "version": 3
   },
   "file_extension": ".py",
   "mimetype": "text/x-python",
   "name": "python",
   "nbconvert_exporter": "python",
   "pygments_lexer": "ipython3",
   "version": "3.10.5"
  }
 },
 "nbformat": 4,
 "nbformat_minor": 5
}
