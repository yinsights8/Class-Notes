{
 "cells": [
  {
   "cell_type": "markdown",
   "id": "141bc0cf",
   "metadata": {},
   "source": [
    "# Encapsulation\n",
    "- Encapsulation used to restrict the access of methods and variables from outside the class.\n",
    "- Protecting accidental change of data (Variables and Methods)"
   ]
  },
  {
   "cell_type": "code",
   "execution_count": 2,
   "id": "146e7942",
   "metadata": {},
   "outputs": [
    {
     "name": "stdout",
     "output_type": "stream",
     "text": [
      "DummyClass __init__ Method\n",
      "500\n"
     ]
    },
    {
     "data": {
      "text/plain": [
       "'Data Science'"
      ]
     },
     "execution_count": 2,
     "metadata": {},
     "output_type": "execute_result"
    }
   ],
   "source": [
    "class DummyClass1:\n",
    "    dummy_var = 500                          # Public class variable\n",
    "    def __init__(self):\n",
    "        print(\"DummyClass __init__ Method\")\n",
    "        var2 = \"Python\"                      # Local Variable\n",
    "        self.var3 = \"Data Science\"           # Public Instance variable\n",
    "        \n",
    "obj = DummyClass1()\n",
    "print(obj.dummy_var)\n",
    "obj.var3"
   ]
  },
  {
   "cell_type": "code",
   "execution_count": 3,
   "id": "a7a72da9",
   "metadata": {},
   "outputs": [
    {
     "name": "stdout",
     "output_type": "stream",
     "text": [
      "DummyClass __init__ Method\n",
      "500\n"
     ]
    },
    {
     "data": {
      "text/plain": [
       "'DATA SCIENCE'"
      ]
     },
     "execution_count": 3,
     "metadata": {},
     "output_type": "execute_result"
    }
   ],
   "source": [
    "class DummyClass1:\n",
    "    dummy_var = 500                          # Public class variable\n",
    "    def __init__(self):\n",
    "        print(\"DummyClass __init__ Method\")\n",
    "        var2 = \"Python\"                      # Local Variable\n",
    "        self.var3 = \"Data Science\"           # Public Instance variable\n",
    "        \n",
    "obj = DummyClass1()\n",
    "print(obj.dummy_var)\n",
    "obj.var3 = \"DATA SCIENCE\"                   # Updating the public instance variable\n",
    "obj.var3"
   ]
  },
  {
   "cell_type": "code",
   "execution_count": 5,
   "id": "2f76c7aa",
   "metadata": {},
   "outputs": [
    {
     "name": "stdout",
     "output_type": "stream",
     "text": [
      "DummyClass __init__ Method\n",
      "500\n",
      "30000\n"
     ]
    }
   ],
   "source": [
    "class DummyClass1:\n",
    "    dummy_var = 500                          # Public class variable\n",
    "    def __init__(self):\n",
    "        print(\"DummyClass __init__ Method\")\n",
    "        var2 = \"Python\"                      # Local Variable\n",
    "        self.var3 = \"Data Science\"           # Public Instance variable\n",
    "        \n",
    "obj = DummyClass1()\n",
    "print(obj.dummy_var)\n",
    "obj.dummy_var = 30000                        # Updating public class variable\n",
    "print(obj.dummy_var)"
   ]
  },
  {
   "cell_type": "code",
   "execution_count": 14,
   "id": "eecf9a40",
   "metadata": {},
   "outputs": [
    {
     "name": "stdout",
     "output_type": "stream",
     "text": [
      "DummyClass __init__ Method\n"
     ]
    },
    {
     "ename": "AttributeError",
     "evalue": "'DummyClass1' object has no attribute '__dummy_var'",
     "output_type": "error",
     "traceback": [
      "\u001b[1;31m---------------------------------------------------------------------------\u001b[0m",
      "\u001b[1;31mAttributeError\u001b[0m                            Traceback (most recent call last)",
      "Input \u001b[1;32mIn [14]\u001b[0m, in \u001b[0;36m<cell line: 9>\u001b[1;34m()\u001b[0m\n\u001b[0;32m      6\u001b[0m         \u001b[38;5;28mself\u001b[39m\u001b[38;5;241m.\u001b[39mvar3 \u001b[38;5;241m=\u001b[39m \u001b[38;5;124m\"\u001b[39m\u001b[38;5;124mData Science\u001b[39m\u001b[38;5;124m\"\u001b[39m            \u001b[38;5;66;03m# Public Instance variable\u001b[39;00m\n\u001b[0;32m      8\u001b[0m obj \u001b[38;5;241m=\u001b[39m DummyClass1()\n\u001b[1;32m----> 9\u001b[0m \u001b[38;5;28mprint\u001b[39m(\u001b[43mobj\u001b[49m\u001b[38;5;241;43m.\u001b[39;49m\u001b[43m__dummy_var\u001b[49m)\n\u001b[0;32m     10\u001b[0m obj\u001b[38;5;241m.\u001b[39m__dummy_var \u001b[38;5;241m=\u001b[39m \u001b[38;5;241m30000\u001b[39m                         \u001b[38;5;66;03m# Private public class variable\u001b[39;00m\n\u001b[0;32m     11\u001b[0m \u001b[38;5;28mprint\u001b[39m(obj\u001b[38;5;241m.\u001b[39m__dummy_var)\n",
      "\u001b[1;31mAttributeError\u001b[0m: 'DummyClass1' object has no attribute '__dummy_var'"
     ]
    }
   ],
   "source": [
    "class DummyClass1:\n",
    "    __dummy_var = 500                          # Private class variable\n",
    "    def __init__(self):\n",
    "        print(\"DummyClass __init__ Method\")\n",
    "        var2 = \"Python\"                       # Local Variable\n",
    "        self.var3 = \"Data Science\"            # Public Instance variable\n",
    "        \n",
    "obj = DummyClass1()\n",
    "print(obj.__dummy_var)\n",
    "obj.__dummy_var = 30000                         # Private public class variable\n",
    "print(obj.__dummy_var)"
   ]
  },
  {
   "cell_type": "code",
   "execution_count": 12,
   "id": "4d26bb87",
   "metadata": {},
   "outputs": [
    {
     "name": "stdout",
     "output_type": "stream",
     "text": [
      "DummyClass __init__ Method\n",
      "Class variable = 500\n"
     ]
    },
    {
     "ename": "AttributeError",
     "evalue": "'DummyClass1' object has no attribute '__dummy_var'",
     "output_type": "error",
     "traceback": [
      "\u001b[1;31m---------------------------------------------------------------------------\u001b[0m",
      "\u001b[1;31mAttributeError\u001b[0m                            Traceback (most recent call last)",
      "Input \u001b[1;32mIn [12]\u001b[0m, in \u001b[0;36m<cell line: 10>\u001b[1;34m()\u001b[0m\n\u001b[0;32m      7\u001b[0m         \u001b[38;5;28mprint\u001b[39m(\u001b[38;5;124mf\u001b[39m\u001b[38;5;124m\"\u001b[39m\u001b[38;5;124mClass variable = \u001b[39m\u001b[38;5;132;01m{\u001b[39;00m\u001b[38;5;28mself\u001b[39m\u001b[38;5;241m.\u001b[39m__dummy_var\u001b[38;5;132;01m}\u001b[39;00m\u001b[38;5;124m\"\u001b[39m)\n\u001b[0;32m      9\u001b[0m obj \u001b[38;5;241m=\u001b[39m DummyClass1()\n\u001b[1;32m---> 10\u001b[0m \u001b[38;5;28mprint\u001b[39m(\u001b[43mobj\u001b[49m\u001b[38;5;241;43m.\u001b[39;49m\u001b[43m__dummy_var\u001b[49m)\n",
      "\u001b[1;31mAttributeError\u001b[0m: 'DummyClass1' object has no attribute '__dummy_var'"
     ]
    }
   ],
   "source": [
    "class DummyClass1:\n",
    "    __dummy_var = 500                          # Private class variable\n",
    "    def __init__(self):\n",
    "        print(\"DummyClass __init__ Method\")\n",
    "        var2 = \"Python\"                       # Local Variable\n",
    "        self.var3 = \"Data Science\"            # Public Instance variable\n",
    "        print(f\"Class variable = {self.__dummy_var}\")\n",
    "        \n",
    "obj = DummyClass1()\n",
    "print(obj.__dummy_var)"
   ]
  },
  {
   "cell_type": "code",
   "execution_count": 9,
   "id": "f4658108",
   "metadata": {},
   "outputs": [
    {
     "name": "stdout",
     "output_type": "stream",
     "text": [
      "DummyClass __init__ Method\n",
      "Class variable = 500\n"
     ]
    },
    {
     "ename": "AttributeError",
     "evalue": "'DummyClass1' object has no attribute '__var3'",
     "output_type": "error",
     "traceback": [
      "\u001b[1;31m---------------------------------------------------------------------------\u001b[0m",
      "\u001b[1;31mAttributeError\u001b[0m                            Traceback (most recent call last)",
      "Input \u001b[1;32mIn [9]\u001b[0m, in \u001b[0;36m<cell line: 10>\u001b[1;34m()\u001b[0m\n\u001b[0;32m      7\u001b[0m         \u001b[38;5;28mprint\u001b[39m(\u001b[38;5;124mf\u001b[39m\u001b[38;5;124m\"\u001b[39m\u001b[38;5;124mClass variable = \u001b[39m\u001b[38;5;132;01m{\u001b[39;00m\u001b[38;5;28mself\u001b[39m\u001b[38;5;241m.\u001b[39m__dummy_var\u001b[38;5;132;01m}\u001b[39;00m\u001b[38;5;124m\"\u001b[39m)\n\u001b[0;32m      9\u001b[0m obj \u001b[38;5;241m=\u001b[39m DummyClass1()\n\u001b[1;32m---> 10\u001b[0m \u001b[38;5;28mprint\u001b[39m(\u001b[43mobj\u001b[49m\u001b[38;5;241;43m.\u001b[39;49m\u001b[43m__var3\u001b[49m)\n",
      "\u001b[1;31mAttributeError\u001b[0m: 'DummyClass1' object has no attribute '__var3'"
     ]
    }
   ],
   "source": [
    "class DummyClass1:\n",
    "    __dummy_var = 500                           # Private class variable\n",
    "    def __init__(self):\n",
    "        print(\"DummyClass __init__ Method\")\n",
    "        var2 = \"Python\"                         # Local Variable\n",
    "        self.__var3 = \"Data Science\"            # Private Instance variable\n",
    "        print(f\"Class variable = {self.__dummy_var}\")\n",
    "        \n",
    "obj = DummyClass1()\n",
    "print(obj.__var3)"
   ]
  },
  {
   "cell_type": "code",
   "execution_count": 11,
   "id": "0332e6a3",
   "metadata": {},
   "outputs": [
    {
     "name": "stdout",
     "output_type": "stream",
     "text": [
      "DummyClass __init__ Method\n"
     ]
    },
    {
     "ename": "AttributeError",
     "evalue": "'DummyClass1' object has no attribute '__var3'",
     "output_type": "error",
     "traceback": [
      "\u001b[1;31m---------------------------------------------------------------------------\u001b[0m",
      "\u001b[1;31mAttributeError\u001b[0m                            Traceback (most recent call last)",
      "Input \u001b[1;32mIn [11]\u001b[0m, in \u001b[0;36m<cell line: 11>\u001b[1;34m()\u001b[0m\n\u001b[0;32m      7\u001b[0m \u001b[38;5;66;03m#         print(f\"Class variable = {self.__dummy_var}\")\u001b[39;00m\n\u001b[0;32m      8\u001b[0m \u001b[38;5;66;03m#         print(f\"Instance varable = {self.__var3}\")\u001b[39;00m\n\u001b[0;32m     10\u001b[0m obj \u001b[38;5;241m=\u001b[39m DummyClass1()\n\u001b[1;32m---> 11\u001b[0m \u001b[38;5;28mprint\u001b[39m(\u001b[43mobj\u001b[49m\u001b[38;5;241;43m.\u001b[39;49m\u001b[43m__var3\u001b[49m)\n",
      "\u001b[1;31mAttributeError\u001b[0m: 'DummyClass1' object has no attribute '__var3'"
     ]
    }
   ],
   "source": [
    "class DummyClass1:\n",
    "    __dummy_var = 500                           # Private class variable\n",
    "    def __init__(self):\n",
    "        print(\"DummyClass __init__ Method\")\n",
    "        var2 = \"Python\"                         # Local Variable\n",
    "        self.__var3 = \"Data Science\"            # Private Instance variable\n",
    "#         print(f\"Class variable = {self.__dummy_var}\")\n",
    "#         print(f\"Instance varable = {self.__var3}\")\n",
    "        \n",
    "obj = DummyClass1()\n",
    "print(obj.__var3)"
   ]
  },
  {
   "cell_type": "code",
   "execution_count": 18,
   "id": "06c94ff7",
   "metadata": {},
   "outputs": [
    {
     "name": "stdout",
     "output_type": "stream",
     "text": [
      "DummyClass __init__ Method\n",
      "Class variable = 500\n",
      "Instance varable = Data Science\n"
     ]
    },
    {
     "ename": "AttributeError",
     "evalue": "'DummyClass1' object has no attribute '__var3'",
     "output_type": "error",
     "traceback": [
      "\u001b[1;31m---------------------------------------------------------------------------\u001b[0m",
      "\u001b[1;31mAttributeError\u001b[0m                            Traceback (most recent call last)",
      "Input \u001b[1;32mIn [18]\u001b[0m, in \u001b[0;36m<cell line: 14>\u001b[1;34m()\u001b[0m\n\u001b[0;32m     12\u001b[0m obj \u001b[38;5;241m=\u001b[39m DummyClass1()\n\u001b[0;32m     13\u001b[0m obj\u001b[38;5;241m.\u001b[39mdisplay_var()\n\u001b[1;32m---> 14\u001b[0m \u001b[43mobj\u001b[49m\u001b[38;5;241;43m.\u001b[39;49m\u001b[43m__var3\u001b[49m\n",
      "\u001b[1;31mAttributeError\u001b[0m: 'DummyClass1' object has no attribute '__var3'"
     ]
    }
   ],
   "source": [
    "class DummyClass1:\n",
    "    __dummy_var = 500                           # Private class variable\n",
    "    def __init__(self):\n",
    "        print(\"DummyClass __init__ Method\")\n",
    "        var2 = \"Python\"                         # Local Variable\n",
    "        self.__var3 = \"Data Science\"            # Private Instance variable\n",
    "        \n",
    "    def display_var(self):                      # Public Method\n",
    "        print(f\"Class variable = {self.__dummy_var}\")\n",
    "        print(f\"Instance varable = {self.__var3}\")\n",
    "        \n",
    "obj = DummyClass1()\n",
    "obj.display_var()\n",
    "obj.__var3"
   ]
  },
  {
   "cell_type": "code",
   "execution_count": 20,
   "id": "8728c2f2",
   "metadata": {},
   "outputs": [
    {
     "name": "stdout",
     "output_type": "stream",
     "text": [
      "DummyClass __init__ Method\n"
     ]
    },
    {
     "ename": "AttributeError",
     "evalue": "'DummyClass1' object has no attribute '__display_var'",
     "output_type": "error",
     "traceback": [
      "\u001b[1;31m---------------------------------------------------------------------------\u001b[0m",
      "\u001b[1;31mAttributeError\u001b[0m                            Traceback (most recent call last)",
      "Input \u001b[1;32mIn [20]\u001b[0m, in \u001b[0;36m<cell line: 13>\u001b[1;34m()\u001b[0m\n\u001b[0;32m     10\u001b[0m         \u001b[38;5;28mprint\u001b[39m(\u001b[38;5;124mf\u001b[39m\u001b[38;5;124m\"\u001b[39m\u001b[38;5;124mInstance varable = \u001b[39m\u001b[38;5;132;01m{\u001b[39;00m\u001b[38;5;28mself\u001b[39m\u001b[38;5;241m.\u001b[39m__var3\u001b[38;5;132;01m}\u001b[39;00m\u001b[38;5;124m\"\u001b[39m)\n\u001b[0;32m     12\u001b[0m obj \u001b[38;5;241m=\u001b[39m DummyClass1()\n\u001b[1;32m---> 13\u001b[0m \u001b[43mobj\u001b[49m\u001b[38;5;241;43m.\u001b[39;49m\u001b[43m__display_var\u001b[49m()\n",
      "\u001b[1;31mAttributeError\u001b[0m: 'DummyClass1' object has no attribute '__display_var'"
     ]
    }
   ],
   "source": [
    "class DummyClass1:\n",
    "    __dummy_var = 500                           # Private class variable\n",
    "    def __init__(self):\n",
    "        print(\"DummyClass __init__ Method\")\n",
    "        var2 = \"Python\"                         # Local Variable\n",
    "        self.__var3 = \"Data Science\"            # Private Instance variable\n",
    "        \n",
    "    def __display_var(self):                      # Private Method\n",
    "        print(f\"Class variable = {self.__dummy_var}\")\n",
    "        print(f\"Instance varable = {self.__var3}\")\n",
    "        \n",
    "obj = DummyClass1()\n",
    "obj.__display_var()"
   ]
  },
  {
   "cell_type": "code",
   "execution_count": 22,
   "id": "66a3fe5c",
   "metadata": {},
   "outputs": [
    {
     "name": "stdout",
     "output_type": "stream",
     "text": [
      "DummyClass __init__ Method\n",
      "Adding 100,200 = 300\n"
     ]
    }
   ],
   "source": [
    "class DummyClass1:\n",
    "    __dummy_var = 500                           # Private class variable\n",
    "    def __init__(self,a,b):\n",
    "        print(\"DummyClass __init__ Method\")\n",
    "        var2 = \"Python\"                         # Local Variable\n",
    "        self.__var3 = \"Data Science\"            # Private Instance variable\n",
    "        self.__a = a\n",
    "        self.__b = b\n",
    "        \n",
    "    def __display_var(self):                      # Private Method\n",
    "        print(f\"Class variable = {self.__dummy_var}\")\n",
    "        print(f\"Instance varable = {self.__var3}\")\n",
    "        \n",
    "        \n",
    "    def add(self):\n",
    "        print(f\"Adding {self.__a},{self.__b} = {self.__a + self.__b}\")\n",
    "        \n",
    "obj = DummyClass1(100,200)\n",
    "obj.add()"
   ]
  },
  {
   "cell_type": "code",
   "execution_count": 26,
   "id": "8c0610b2",
   "metadata": {},
   "outputs": [
    {
     "name": "stdout",
     "output_type": "stream",
     "text": [
      "DummyClass __init__ Method\n",
      "Adding 100,200 = 300\n"
     ]
    }
   ],
   "source": [
    "class DummyClass1:\n",
    "    __dummy_var = 500                           # Private class variable\n",
    "    def __init__(self,a,b):\n",
    "        print(\"DummyClass __init__ Method\")\n",
    "        var2 = \"Python\"                         # Local Variable\n",
    "        self.__var3 = \"Data Science\"            # Private Instance variable\n",
    "        self.__a = a\n",
    "        self.__b = b\n",
    "        \n",
    "    def __display_var(self):                      # Private Method\n",
    "        print(f\"Class variable = {self.__dummy_var}\")\n",
    "        print(f\"Instance varable = {self.__var3}\")\n",
    "        \n",
    "        \n",
    "    def add(self):\n",
    "        self.add1 = self.__a + self.__b\n",
    "        print(f\"Adding {self.__a},{self.__b} = {self.add1}\")\n",
    "        \n",
    "obj = DummyClass1(100,200)\n",
    "obj.add()"
   ]
  },
  {
   "cell_type": "code",
   "execution_count": 27,
   "id": "a8d9e1d8",
   "metadata": {},
   "outputs": [
    {
     "name": "stdout",
     "output_type": "stream",
     "text": [
      "DummyClass __init__ Method\n",
      "This is Method 1\n"
     ]
    }
   ],
   "source": [
    "class DummyClass1:\n",
    "    __dummy_var = 500                           # Private class variable\n",
    "    def __init__(self,a,b):\n",
    "        print(\"DummyClass __init__ Method\")\n",
    "        var2 = \"Python\"                         # Local Variable\n",
    "        self.__var3 = \"Data Science\"            # Private Instance variable\n",
    "        self.__a = a\n",
    "        self.__b = b\n",
    "        \n",
    "    def __display_var(self):                      # Private Method\n",
    "        print(f\"Class variable = {self.__dummy_var}\")\n",
    "        print(f\"Instance varable = {self.__var3}\")\n",
    "        \n",
    "        \n",
    "    def add(self):\n",
    "        self.add1 = self.__a + self.__b\n",
    "        print(f\"Adding {self.__a},{self.__b} = {self.add1}\")\n",
    "        \n",
    "        \n",
    "    def method1(self):\n",
    "        print(\"This is Method 1\")\n",
    "    \n",
    "    def method2(self):\n",
    "        print(\"This is Method 2\")\n",
    "        \n",
    "obj = DummyClass1(100,200)\n",
    "obj.method1()"
   ]
  },
  {
   "cell_type": "code",
   "execution_count": 28,
   "id": "0df1a472",
   "metadata": {},
   "outputs": [
    {
     "name": "stdout",
     "output_type": "stream",
     "text": [
      "DummyClass __init__ Method\n",
      "This is Method 1\n",
      "This is Method 2\n"
     ]
    }
   ],
   "source": [
    "class DummyClass1:\n",
    "    __dummy_var = 500                           # Private class variable\n",
    "    def __init__(self,a,b):\n",
    "        print(\"DummyClass __init__ Method\")\n",
    "        var2 = \"Python\"                         # Local Variable\n",
    "        self.__var3 = \"Data Science\"            # Private Instance variable\n",
    "        self.__a = a\n",
    "        self.__b = b\n",
    "        \n",
    "    def __display_var(self):                      # Private Method\n",
    "        print(f\"Class variable = {self.__dummy_var}\")\n",
    "        print(f\"Instance varable = {self.__var3}\")\n",
    "        \n",
    "        \n",
    "    def add(self):\n",
    "        self.add1 = self.__a + self.__b\n",
    "        print(f\"Adding {self.__a},{self.__b} = {self.add1}\")\n",
    "        \n",
    "        \n",
    "    def method1(self):\n",
    "        print(\"This is Method 1\")\n",
    "    \n",
    "    def method2(self):\n",
    "        print(\"This is Method 2\")\n",
    "        \n",
    "obj = DummyClass1(100,200)\n",
    "obj.method1()\n",
    "obj.method2()"
   ]
  },
  {
   "cell_type": "code",
   "execution_count": 33,
   "id": "cc9ab212",
   "metadata": {},
   "outputs": [
    {
     "ename": "NameError",
     "evalue": "name 'v2' is not defined",
     "output_type": "error",
     "traceback": [
      "\u001b[1;31m---------------------------------------------------------------------------\u001b[0m",
      "\u001b[1;31mNameError\u001b[0m                                 Traceback (most recent call last)",
      "Input \u001b[1;32mIn [33]\u001b[0m, in \u001b[0;36m<cell line: 1>\u001b[1;34m()\u001b[0m\n\u001b[1;32m----> 1\u001b[0m v1 \u001b[38;5;241m=\u001b[39m \u001b[43mv2\u001b[49m \u001b[38;5;241m+\u001b[39m \u001b[38;5;241m10\u001b[39m\n\u001b[0;32m      2\u001b[0m v2 \u001b[38;5;241m=\u001b[39m \u001b[38;5;241m20\u001b[39m\n\u001b[0;32m      3\u001b[0m \u001b[38;5;28mprint\u001b[39m(v1)\n",
      "\u001b[1;31mNameError\u001b[0m: name 'v2' is not defined"
     ]
    }
   ],
   "source": [
    "v1 = v2 + 10\n",
    "v2 = 20\n",
    "print(v1)"
   ]
  },
  {
   "cell_type": "code",
   "execution_count": 32,
   "id": "4c0758f3",
   "metadata": {},
   "outputs": [
    {
     "name": "stdout",
     "output_type": "stream",
     "text": [
      "One\n",
      "Two\n"
     ]
    }
   ],
   "source": [
    "def one():\n",
    "    print(\"One\")\n",
    "    Two()\n",
    "    \n",
    "def Two():\n",
    "    print('Two')\n",
    "    \n",
    "one()"
   ]
  },
  {
   "cell_type": "code",
   "execution_count": 37,
   "id": "a05e587b",
   "metadata": {},
   "outputs": [
    {
     "name": "stdout",
     "output_type": "stream",
     "text": [
      "DummyClass __init__ Method\n",
      "This is Method 1\n",
      "This is Method 2\n"
     ]
    }
   ],
   "source": [
    "class DummyClass1:\n",
    "    __dummy_var = 500                           # Private class variable\n",
    "    def __init__(self,a,b):\n",
    "        print(\"DummyClass __init__ Method\")\n",
    "        var2 = \"Python\"                         # Local Variable\n",
    "        self.__var3 = \"Data Science\"            # Private Instance variable\n",
    "        self.__a = a\n",
    "        self.__b = b\n",
    "        \n",
    "    def __display_var(self):                      # Private Method\n",
    "        print(f\"Class variable = {self.__dummy_var}\")\n",
    "        print(f\"Instance varable = {self.__var3}\")\n",
    "        \n",
    "        \n",
    "    def add(self):\n",
    "        self.add1 = self.__a + self.__b\n",
    "        print(f\"Adding {self.__a},{self.__b} = {self.add1}\")\n",
    "        \n",
    "        \n",
    "    def method1(self):\n",
    "        print(\"This is Method 1\")\n",
    "        self.method2()\n",
    "    \n",
    "    def method2(self):\n",
    "        print(\"This is Method 2\")\n",
    "        \n",
    "obj = DummyClass1(100,200)\n",
    "obj.method1()"
   ]
  },
  {
   "cell_type": "code",
   "execution_count": 39,
   "id": "581ff2a5",
   "metadata": {},
   "outputs": [
    {
     "name": "stdout",
     "output_type": "stream",
     "text": [
      "DummyClass __init__ Method\n",
      "This is Method 1\n",
      "This is Method 2\n"
     ]
    },
    {
     "ename": "AttributeError",
     "evalue": "'DummyClass1' object has no attribute '__method2'",
     "output_type": "error",
     "traceback": [
      "\u001b[1;31m---------------------------------------------------------------------------\u001b[0m",
      "\u001b[1;31mAttributeError\u001b[0m                            Traceback (most recent call last)",
      "Input \u001b[1;32mIn [39]\u001b[0m, in \u001b[0;36m<cell line: 29>\u001b[1;34m()\u001b[0m\n\u001b[0;32m     27\u001b[0m obj \u001b[38;5;241m=\u001b[39m DummyClass1(\u001b[38;5;241m100\u001b[39m,\u001b[38;5;241m200\u001b[39m)\n\u001b[0;32m     28\u001b[0m obj\u001b[38;5;241m.\u001b[39mmethod1()\n\u001b[1;32m---> 29\u001b[0m \u001b[43mobj\u001b[49m\u001b[38;5;241;43m.\u001b[39;49m\u001b[43m__method2\u001b[49m()\n",
      "\u001b[1;31mAttributeError\u001b[0m: 'DummyClass1' object has no attribute '__method2'"
     ]
    }
   ],
   "source": [
    "class DummyClass1:\n",
    "    __dummy_var = 500                           # Private class variable\n",
    "    def __init__(self,a,b):\n",
    "        print(\"DummyClass __init__ Method\")\n",
    "        var2 = \"Python\"                         # Local Variable\n",
    "        self.__var3 = \"Data Science\"            # Private Instance variable\n",
    "        self.__a = a\n",
    "        self.__b = b\n",
    "        \n",
    "    def __display_var(self):                      # Private Method\n",
    "        print(f\"Class variable = {self.__dummy_var}\")\n",
    "        print(f\"Instance varable = {self.__var3}\")\n",
    "        \n",
    "        \n",
    "    def add(self):\n",
    "        self.add1 = self.__a + self.__b\n",
    "        print(f\"Adding {self.__a},{self.__b} = {self.add1}\")\n",
    "        \n",
    "        \n",
    "    def method1(self):\n",
    "        print(\"This is Method 1\")\n",
    "        self.__method2()\n",
    "    \n",
    "    def __method2(self):\n",
    "        print(\"This is Method 2\")\n",
    "        \n",
    "obj = DummyClass1(100,200)\n",
    "obj.method1()\n",
    "obj.__method2()"
   ]
  },
  {
   "cell_type": "markdown",
   "id": "f0145b34",
   "metadata": {},
   "source": [
    "# Name Mangling\n",
    "- To access or modify the private variables and methods from outside the class\n",
    "- Syntax :- \n",
    "    - Obj._ClassName__VariableName"
   ]
  },
  {
   "cell_type": "code",
   "execution_count": 41,
   "id": "bdd8e684",
   "metadata": {},
   "outputs": [
    {
     "name": "stdout",
     "output_type": "stream",
     "text": [
      "DummyClass __init__ Method\n"
     ]
    },
    {
     "ename": "AttributeError",
     "evalue": "'DummyClass1' object has no attribute '__dummy_var'",
     "output_type": "error",
     "traceback": [
      "\u001b[1;31m---------------------------------------------------------------------------\u001b[0m",
      "\u001b[1;31mAttributeError\u001b[0m                            Traceback (most recent call last)",
      "Input \u001b[1;32mIn [41]\u001b[0m, in \u001b[0;36m<cell line: 28>\u001b[1;34m()\u001b[0m\n\u001b[0;32m     25\u001b[0m         \u001b[38;5;28mprint\u001b[39m(\u001b[38;5;124m\"\u001b[39m\u001b[38;5;124mThis is Method 2\u001b[39m\u001b[38;5;124m\"\u001b[39m)\n\u001b[0;32m     27\u001b[0m obj \u001b[38;5;241m=\u001b[39m DummyClass1(\u001b[38;5;241m100\u001b[39m,\u001b[38;5;241m200\u001b[39m)\n\u001b[1;32m---> 28\u001b[0m \u001b[43mobj\u001b[49m\u001b[38;5;241;43m.\u001b[39;49m\u001b[43m__dummy_var\u001b[49m\n",
      "\u001b[1;31mAttributeError\u001b[0m: 'DummyClass1' object has no attribute '__dummy_var'"
     ]
    }
   ],
   "source": [
    "class DummyClass1:\n",
    "    __dummy_var = 500                           # Private class variable\n",
    "    def __init__(self,a,b):\n",
    "        print(\"DummyClass __init__ Method\")\n",
    "        var2 = \"Python\"                         # Local Variable\n",
    "        self.__var3 = \"Data Science\"            # Private Instance variable\n",
    "        self.__a = a\n",
    "        self.__b = b\n",
    "        \n",
    "    def __display_var(self):                      # Private Method\n",
    "        print(f\"Class variable = {self.__dummy_var}\")\n",
    "        print(f\"Instance varable = {self.__var3}\")\n",
    "        \n",
    "        \n",
    "    def add(self):\n",
    "        self.add1 = self.__a + self.__b\n",
    "        print(f\"Adding {self.__a},{self.__b} = {self.add1}\")\n",
    "        \n",
    "        \n",
    "    def method1(self):\n",
    "        print(\"This is Method 1\")\n",
    "        self.__method2()\n",
    "    \n",
    "    def __method2(self):\n",
    "        print(\"This is Method 2\")\n",
    "        \n",
    "obj = DummyClass1(100,200)\n",
    "obj.__dummy_var"
   ]
  },
  {
   "cell_type": "code",
   "execution_count": 42,
   "id": "d26cf3c0",
   "metadata": {},
   "outputs": [
    {
     "name": "stdout",
     "output_type": "stream",
     "text": [
      "DummyClass __init__ Method\n"
     ]
    },
    {
     "data": {
      "text/plain": [
       "500"
      ]
     },
     "execution_count": 42,
     "metadata": {},
     "output_type": "execute_result"
    }
   ],
   "source": [
    "class DummyClass1:\n",
    "    __dummy_var = 500                           # Private class variable\n",
    "    def __init__(self,a,b):\n",
    "        print(\"DummyClass __init__ Method\")\n",
    "        var2 = \"Python\"                         # Local Variable\n",
    "        self.__var3 = \"Data Science\"            # Private Instance variable\n",
    "        self.__a = a\n",
    "        self.__b = b\n",
    "        \n",
    "    def __display_var(self):                      # Private Method\n",
    "        print(f\"Class variable = {self.__dummy_var}\")\n",
    "        print(f\"Instance varable = {self.__var3}\")\n",
    "        \n",
    "        \n",
    "    def add(self):\n",
    "        self.add1 = self.__a + self.__b\n",
    "        print(f\"Adding {self.__a},{self.__b} = {self.add1}\")\n",
    "        \n",
    "        \n",
    "    def method1(self):\n",
    "        print(\"This is Method 1\")\n",
    "        self.__method2()\n",
    "    \n",
    "    def __method2(self):\n",
    "        print(\"This is Method 2\")\n",
    "        \n",
    "obj = DummyClass1(100,200)\n",
    "obj._DummyClass1__dummy_var"
   ]
  },
  {
   "cell_type": "code",
   "execution_count": 44,
   "id": "3907202f",
   "metadata": {},
   "outputs": [
    {
     "name": "stdout",
     "output_type": "stream",
     "text": [
      "DummyClass __init__ Method\n",
      "500\n",
      "5000000\n"
     ]
    }
   ],
   "source": [
    "class DummyClass1:\n",
    "    __dummy_var = 500                           # Private class variable\n",
    "    def __init__(self,a,b):\n",
    "        print(\"DummyClass __init__ Method\")\n",
    "        var2 = \"Python\"                         # Local Variable\n",
    "        self.__var3 = \"Data Science\"            # Private Instance variable\n",
    "        self.__a = a\n",
    "        self.__b = b\n",
    "        \n",
    "    def __display_var(self):                      # Private Method\n",
    "        print(f\"Class variable = {self.__dummy_var}\")\n",
    "        print(f\"Instance varable = {self.__var3}\")\n",
    "        \n",
    "        \n",
    "    def add(self):\n",
    "        self.add1 = self.__a + self.__b\n",
    "        print(f\"Adding {self.__a},{self.__b} = {self.add1}\")\n",
    "        \n",
    "        \n",
    "    def method1(self):\n",
    "        print(\"This is Method 1\")\n",
    "        self.__method2()\n",
    "    \n",
    "    def __method2(self):\n",
    "        print(\"This is Method 2\")\n",
    "        \n",
    "obj = DummyClass1(100,200)\n",
    "print(obj._DummyClass1__dummy_var)\n",
    "obj._DummyClass1__dummy_var = 5000000\n",
    "print(obj._DummyClass1__dummy_var)"
   ]
  },
  {
   "cell_type": "code",
   "execution_count": 46,
   "id": "3871de62",
   "metadata": {},
   "outputs": [
    {
     "name": "stdout",
     "output_type": "stream",
     "text": [
      "DummyClass __init__ Method\n",
      "500\n",
      "5000000\n",
      "Data Science\n",
      "DATA SCIENCE\n"
     ]
    }
   ],
   "source": [
    "class DummyClass1:\n",
    "    __dummy_var = 500                           # Private class variable\n",
    "    def __init__(self,a,b):\n",
    "        print(\"DummyClass __init__ Method\")\n",
    "        var2 = \"Python\"                         # Local Variable\n",
    "        self.__var3 = \"Data Science\"            # Private Instance variable\n",
    "        self.__a = a\n",
    "        self.__b = b\n",
    "        \n",
    "    def __display_var(self):                      # Private Method\n",
    "        print(f\"Class variable = {self.__dummy_var}\")\n",
    "        print(f\"Instance varable = {self.__var3}\")\n",
    "        \n",
    "        \n",
    "    def add(self):\n",
    "        self.add1 = self.__a + self.__b\n",
    "        print(f\"Adding {self.__a},{self.__b} = {self.add1}\")\n",
    "        \n",
    "        \n",
    "    def method1(self):\n",
    "        print(\"This is Method 1\")\n",
    "        self.__method2()\n",
    "    \n",
    "    def __method2(self):\n",
    "        print(\"This is Method 2\")\n",
    "        \n",
    "obj = DummyClass1(100,200)\n",
    "print(obj._DummyClass1__dummy_var)\n",
    "obj._DummyClass1__dummy_var = 5000000\n",
    "print(obj._DummyClass1__dummy_var)\n",
    "print(obj._DummyClass1__var3)\n",
    "obj._DummyClass1__var3 = obj._DummyClass1__var3.upper()\n",
    "print(obj._DummyClass1__var3)\n"
   ]
  },
  {
   "cell_type": "code",
   "execution_count": 47,
   "id": "0c1d7103",
   "metadata": {},
   "outputs": [
    {
     "name": "stdout",
     "output_type": "stream",
     "text": [
      "DummyClass __init__ Method\n",
      "500\n",
      "5000000\n",
      "Data Science\n",
      "DATA SCIENCE\n",
      "This is Method 2\n"
     ]
    }
   ],
   "source": [
    "class DummyClass1:\n",
    "    __dummy_var = 500                           # Private class variable\n",
    "    def __init__(self,a,b):\n",
    "        print(\"DummyClass __init__ Method\")\n",
    "        var2 = \"Python\"                         # Local Variable\n",
    "        self.__var3 = \"Data Science\"            # Private Instance variable\n",
    "        self.__a = a\n",
    "        self.__b = b\n",
    "        \n",
    "    def __display_var(self):                      # Private Method\n",
    "        print(f\"Class variable = {self.__dummy_var}\")\n",
    "        print(f\"Instance varable = {self.__var3}\")\n",
    "        \n",
    "        \n",
    "    def add(self):\n",
    "        self.add1 = self.__a + self.__b\n",
    "        print(f\"Adding {self.__a},{self.__b} = {self.add1}\")\n",
    "        \n",
    "        \n",
    "    def method1(self):\n",
    "        print(\"This is Method 1\")\n",
    "        self.__method2()\n",
    "    \n",
    "    def __method2(self):\n",
    "        print(\"This is Method 2\")\n",
    "        \n",
    "obj = DummyClass1(100,200)\n",
    "print(obj._DummyClass1__dummy_var)\n",
    "obj._DummyClass1__dummy_var = 5000000\n",
    "print(obj._DummyClass1__dummy_var)\n",
    "print(obj._DummyClass1__var3)\n",
    "obj._DummyClass1__var3 = obj._DummyClass1__var3.upper()\n",
    "print(obj._DummyClass1__var3)\n",
    "obj._DummyClass1__method2()"
   ]
  },
  {
   "cell_type": "code",
   "execution_count": 50,
   "id": "a0a47032",
   "metadata": {},
   "outputs": [
    {
     "name": "stdout",
     "output_type": "stream",
     "text": [
      "DummyClass __init__ Method\n",
      "Adding 100,200 = 300\n",
      "300\n"
     ]
    }
   ],
   "source": [
    "class DummyClass1:\n",
    "    __dummy_var = 500                           # Private class variable\n",
    "    def __init__(self,a,b):\n",
    "        print(\"DummyClass __init__ Method\")\n",
    "        var2 = \"Python\"                         # Local Variable\n",
    "        self.__var3 = \"Data Science\"            # Private Instance variable\n",
    "        self.__a = a\n",
    "        self.__b = b\n",
    "        \n",
    "    def __display_var(self):                      # Private Method\n",
    "        print(f\"Class variable = {self.__dummy_var}\")\n",
    "        print(f\"Instance varable = {self.__var3}\")\n",
    "        \n",
    "        \n",
    "    def add(self):\n",
    "        print(f\"Adding {self.__a},{self.__b} = {self.__a + self.__b}\")\n",
    "        self.addition = self.__a + self.__b\n",
    "        print(self.addition)\n",
    "        \n",
    "        \n",
    "    def method1(self):\n",
    "        print(\"This is Method 1\")\n",
    "        self.__method2()\n",
    "    \n",
    "    def __method2(self):\n",
    "        print(\"This is Method 2\")\n",
    "        \n",
    "obj = DummyClass1(100,200)\n",
    "obj.add()"
   ]
  },
  {
   "cell_type": "code",
   "execution_count": null,
   "id": "41465355",
   "metadata": {},
   "outputs": [],
   "source": []
  }
 ],
 "metadata": {
  "kernelspec": {
   "display_name": "Python 3 (ipykernel)",
   "language": "python",
   "name": "python3"
  },
  "language_info": {
   "codemirror_mode": {
    "name": "ipython",
    "version": 3
   },
   "file_extension": ".py",
   "mimetype": "text/x-python",
   "name": "python",
   "nbconvert_exporter": "python",
   "pygments_lexer": "ipython3",
   "version": "3.9.12"
  }
 },
 "nbformat": 4,
 "nbformat_minor": 5
}
