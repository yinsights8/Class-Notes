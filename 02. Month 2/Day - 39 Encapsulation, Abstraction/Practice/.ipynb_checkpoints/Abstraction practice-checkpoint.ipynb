{
 "cells": [
  {
   "cell_type": "code",
   "execution_count": null,
   "id": "e6f92787",
   "metadata": {},
   "outputs": [],
   "source": []
  },
  {
   "cell_type": "markdown",
   "id": "a48f8fd5",
   "metadata": {},
   "source": [
    "## Abstract Class"
   ]
  },
  {
   "cell_type": "markdown",
   "id": "c503051f",
   "metadata": {
    "slideshow": {
     "slide_type": "notes"
    }
   },
   "source": [
    "- An abstract class can be considered as a blueprint for other classes. It allows you to create a set of methods that must be created within any child classes built from the abstract class. \n",
    "- A class which contains one or more abstract methods is called an abstract class. \n",
    "- An abstract method is a method that has a declaration but does not have an implementation. \n",
    "- While we are designing large functional units we use an abstract class. \n",
    "- When we want to provide a common interface for different implementations of a component, we use an abstract class. "
   ]
  },
  {
   "cell_type": "code",
   "execution_count": null,
   "id": "3ea1b85f",
   "metadata": {},
   "outputs": [],
   "source": []
  },
  {
   "cell_type": "code",
   "execution_count": 5,
   "id": "ae9731be",
   "metadata": {},
   "outputs": [],
   "source": [
    "class BaseClass():\n",
    "    pass \n",
    "\n",
    "class DerivedClass(BaseClass):\n",
    "    pass\n",
    "\n",
    "p1 = DerivedClass()"
   ]
  },
  {
   "cell_type": "code",
   "execution_count": null,
   "id": "bf8ef9a8",
   "metadata": {},
   "outputs": [],
   "source": []
  },
  {
   "cell_type": "code",
   "execution_count": 7,
   "id": "a75614cc",
   "metadata": {},
   "outputs": [],
   "source": [
    "from abc import ABC, abstractmethod"
   ]
  },
  {
   "cell_type": "code",
   "execution_count": 11,
   "id": "8d87fba8",
   "metadata": {},
   "outputs": [],
   "source": [
    "class Product(ABC):\n",
    "    @abstractmethod\n",
    "    def registration(self):\n",
    "        pass\n",
    "    @abstractmethod\n",
    "    def login(self):\n",
    "        pass\n",
    "    @abstractmethod\n",
    "    def logout(self):\n",
    "        pass\n",
    "    @abstractmethod\n",
    "    def forget_password(self):\n",
    "        pass\n",
    "    \n",
    "    def method_1():\n",
    "        pass\n",
    "    def method_2():\n",
    "        pass"
   ]
  },
  {
   "cell_type": "code",
   "execution_count": 12,
   "id": "93bb89f3",
   "metadata": {},
   "outputs": [
    {
     "ename": "TypeError",
     "evalue": "Can't instantiate abstract class Product with abstract methods forget_password, login, logout, registration",
     "output_type": "error",
     "traceback": [
      "\u001b[1;31m---------------------------------------------------------------------------\u001b[0m",
      "\u001b[1;31mTypeError\u001b[0m                                 Traceback (most recent call last)",
      "Input \u001b[1;32mIn [12]\u001b[0m, in \u001b[0;36m<cell line: 1>\u001b[1;34m()\u001b[0m\n\u001b[1;32m----> 1\u001b[0m P \u001b[38;5;241m=\u001b[39m \u001b[43mProduct\u001b[49m\u001b[43m(\u001b[49m\u001b[43m)\u001b[49m\n",
      "\u001b[1;31mTypeError\u001b[0m: Can't instantiate abstract class Product with abstract methods forget_password, login, logout, registration"
     ]
    }
   ],
   "source": [
    "P = Product()"
   ]
  },
  {
   "cell_type": "code",
   "execution_count": null,
   "id": "a35a9588",
   "metadata": {},
   "outputs": [],
   "source": [
    "# "
   ]
  },
  {
   "cell_type": "code",
   "execution_count": 13,
   "id": "def0a53a",
   "metadata": {},
   "outputs": [],
   "source": [
    "class DerivedClass(Product):\n",
    "    \n",
    "    def method_1(self):\n",
    "        pass\n",
    "    \n",
    "    def method_2(self):\n",
    "        pass\n",
    "    \n",
    "    def method_3(self):\n",
    "        pass"
   ]
  },
  {
   "cell_type": "code",
   "execution_count": 14,
   "id": "29815266",
   "metadata": {},
   "outputs": [
    {
     "ename": "TypeError",
     "evalue": "Can't instantiate abstract class DerivedClass with abstract methods forget_password, login, logout, registration",
     "output_type": "error",
     "traceback": [
      "\u001b[1;31m---------------------------------------------------------------------------\u001b[0m",
      "\u001b[1;31mTypeError\u001b[0m                                 Traceback (most recent call last)",
      "Input \u001b[1;32mIn [14]\u001b[0m, in \u001b[0;36m<cell line: 1>\u001b[1;34m()\u001b[0m\n\u001b[1;32m----> 1\u001b[0m P2 \u001b[38;5;241m=\u001b[39m \u001b[43mDerivedClass\u001b[49m\u001b[43m(\u001b[49m\u001b[43m)\u001b[49m\n",
      "\u001b[1;31mTypeError\u001b[0m: Can't instantiate abstract class DerivedClass with abstract methods forget_password, login, logout, registration"
     ]
    }
   ],
   "source": [
    "## This would not create an instance because we are not creating methods which are mandetory to \n",
    "## include in our project \n",
    "P2 = DerivedClass()"
   ]
  },
  {
   "cell_type": "code",
   "execution_count": 18,
   "id": "9384d209",
   "metadata": {},
   "outputs": [],
   "source": [
    "class ProductBluePrint(ABC):   # abstract class\n",
    "    @abstractmethod            # Decorator\n",
    "    def registration(self):    # abstract method (because of abstract decorators)\n",
    "        pass\n",
    "    \n",
    "    @abstractmethod\n",
    "    def login(self):\n",
    "        pass\n",
    "    \n",
    "    @abstractmethod\n",
    "    def logout(self):\n",
    "        pass\n",
    "    \n",
    "    @abstractmethod\n",
    "    def forgot_password(self):\n",
    "        pass\n",
    "    \n",
    "\n",
    "    def methodA(self):\n",
    "        pass\n",
    "    \n",
    "\n",
    "    def methodB(self):\n",
    "        pass"
   ]
  },
  {
   "cell_type": "code",
   "execution_count": null,
   "id": "3ec7e5b3",
   "metadata": {},
   "outputs": [],
   "source": []
  },
  {
   "cell_type": "code",
   "execution_count": 23,
   "id": "041558d4",
   "metadata": {},
   "outputs": [],
   "source": [
    "class Model(ProductBluePrint):\n",
    "    \n",
    "    def registration(self):\n",
    "        print(\"registration API\")\n",
    "    \n",
    "    \n",
    "    def login(self):\n",
    "        print(\"login page API\")\n",
    "    \n",
    "    \n",
    "    def logout(self):\n",
    "        print(\"LogOut page API\")\n",
    "    \n",
    "    \n",
    "    def forgot_password(self):\n",
    "        print(\"forgot_password page API\")\n",
    "    \n",
    "    def Method_1(self):\n",
    "        print(\"Method_1 page API\")\n",
    "    \n",
    "    def Method_2(self):\n",
    "        print(\"Method_2 page API\")"
   ]
  },
  {
   "cell_type": "code",
   "execution_count": 24,
   "id": "b7542a2f",
   "metadata": {},
   "outputs": [
    {
     "name": "stdout",
     "output_type": "stream",
     "text": [
      "registration API\n",
      "login page API\n",
      "LogOut page API\n",
      "Method_1 page API\n",
      "Method_2 page API\n"
     ]
    }
   ],
   "source": [
    "Prodct = Model()\n",
    "Prodct.registration()\n",
    "Prodct.login()\n",
    "Prodct.logout()\n",
    "Prodct.Method_1()\n",
    "Prodct.Method_2()"
   ]
  },
  {
   "cell_type": "code",
   "execution_count": null,
   "id": "5ecbc50d",
   "metadata": {},
   "outputs": [],
   "source": []
  }
 ],
 "metadata": {
  "kernelspec": {
   "display_name": "Python 3 (ipykernel)",
   "language": "python",
   "name": "python3"
  },
  "language_info": {
   "codemirror_mode": {
    "name": "ipython",
    "version": 3
   },
   "file_extension": ".py",
   "mimetype": "text/x-python",
   "name": "python",
   "nbconvert_exporter": "python",
   "pygments_lexer": "ipython3",
   "version": "3.9.12"
  }
 },
 "nbformat": 4,
 "nbformat_minor": 5
}
