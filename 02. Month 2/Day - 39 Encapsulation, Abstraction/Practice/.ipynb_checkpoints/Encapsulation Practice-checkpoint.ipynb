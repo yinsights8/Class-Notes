{
 "cells": [
  {
   "cell_type": "markdown",
   "id": "79f94b72",
   "metadata": {},
   "source": [
    "## Encapsulation"
   ]
  },
  {
   "cell_type": "markdown",
   "id": "28b20367",
   "metadata": {},
   "source": [
    "- Encapsulation used to restrict the access of methods and variables from outside the class.\n",
    "- Protecting accidental change of data (Variables and Methods)"
   ]
  },
  {
   "cell_type": "markdown",
   "id": "32e27628",
   "metadata": {},
   "source": [
    "###### withoud using Encapsulation"
   ]
  },
  {
   "cell_type": "code",
   "execution_count": 50,
   "id": "f2e15939",
   "metadata": {},
   "outputs": [],
   "source": [
    "class Base1():\n",
    "    \n",
    "    def __init__(self, a, b):\n",
    "        self.a = a\n",
    "        self.b = b\n",
    "        \n",
    "    def addition(self):\n",
    "        add = self.a + self.b\n",
    "        print(f\"Addition of {self.a} and {self.b} is {add}\")\n",
    "        \n",
    "    def Multiplication(self):\n",
    "        multi = self.a * self.b\n",
    "        print(f\"Multiplication of {self.a} and {self.b} is {multi}\")"
   ]
  },
  {
   "cell_type": "code",
   "execution_count": 51,
   "id": "1fb5b88b",
   "metadata": {},
   "outputs": [
    {
     "name": "stdout",
     "output_type": "stream",
     "text": [
      "20\n",
      "50\n",
      "Addition of 20 and 50 is 70\n",
      "Multiplication of 20 and 50 is 1000\n"
     ]
    }
   ],
   "source": [
    "calcuu = Base1(20,50)\n",
    "print(calcuu.a)\n",
    "print(calcuu.b)\n",
    "calcuu.addition()\n",
    "calcuu.Multiplication()"
   ]
  },
  {
   "cell_type": "code",
   "execution_count": 52,
   "id": "79465389",
   "metadata": {},
   "outputs": [
    {
     "ename": "AttributeError",
     "evalue": "'Base1' object has no attribute 'add'",
     "output_type": "error",
     "traceback": [
      "\u001b[1;31m---------------------------------------------------------------------------\u001b[0m",
      "\u001b[1;31mAttributeError\u001b[0m                            Traceback (most recent call last)",
      "Input \u001b[1;32mIn [52]\u001b[0m, in \u001b[0;36m<cell line: 1>\u001b[1;34m()\u001b[0m\n\u001b[1;32m----> 1\u001b[0m \u001b[43mcalcuu\u001b[49m\u001b[38;5;241;43m.\u001b[39;49m\u001b[43madd\u001b[49m\n",
      "\u001b[1;31mAttributeError\u001b[0m: 'Base1' object has no attribute 'add'"
     ]
    }
   ],
   "source": [
    "calcuu.add"
   ]
  },
  {
   "cell_type": "code",
   "execution_count": 53,
   "id": "6e1350bd",
   "metadata": {},
   "outputs": [
    {
     "ename": "AttributeError",
     "evalue": "'Base1' object has no attribute 'multi'",
     "output_type": "error",
     "traceback": [
      "\u001b[1;31m---------------------------------------------------------------------------\u001b[0m",
      "\u001b[1;31mAttributeError\u001b[0m                            Traceback (most recent call last)",
      "Input \u001b[1;32mIn [53]\u001b[0m, in \u001b[0;36m<cell line: 1>\u001b[1;34m()\u001b[0m\n\u001b[1;32m----> 1\u001b[0m \u001b[43mcalcuu\u001b[49m\u001b[38;5;241;43m.\u001b[39;49m\u001b[43mmulti\u001b[49m\n",
      "\u001b[1;31mAttributeError\u001b[0m: 'Base1' object has no attribute 'multi'"
     ]
    }
   ],
   "source": [
    "calcuu.multi"
   ]
  },
  {
   "cell_type": "code",
   "execution_count": 47,
   "id": "06b0d633",
   "metadata": {},
   "outputs": [],
   "source": [
    "class Base1():\n",
    "    \n",
    "    def __init__(self, a, b):\n",
    "        self.a = a\n",
    "        self.b = b\n",
    "        \n",
    "    def addition(self):\n",
    "        self.add = self.a + self.b\n",
    "        print(f\"Addition of {self.a} and {self.b} is {self.add}\")\n",
    "        \n",
    "    def Multiplication(self):\n",
    "        self.multi = self.a * self.b\n",
    "        print(f\"Multiplication of {self.a} and {self.b} is {self.multi}\")"
   ]
  },
  {
   "cell_type": "code",
   "execution_count": 48,
   "id": "9edc4f7f",
   "metadata": {},
   "outputs": [
    {
     "name": "stdout",
     "output_type": "stream",
     "text": [
      "20\n",
      "50\n",
      "Addition of 20 and 50 is 70\n",
      "Multiplication of 20 and 50 is 1000\n"
     ]
    }
   ],
   "source": [
    "calcu = Base1(20,50)\n",
    "print(calcu.a)\n",
    "print(calcu.b)\n",
    "calcu.addition()\n",
    "calcu.Multiplication()"
   ]
  },
  {
   "cell_type": "code",
   "execution_count": 54,
   "id": "298c6232",
   "metadata": {},
   "outputs": [
    {
     "data": {
      "text/plain": [
       "70"
      ]
     },
     "execution_count": 54,
     "metadata": {},
     "output_type": "execute_result"
    }
   ],
   "source": [
    "calcu.add"
   ]
  },
  {
   "cell_type": "code",
   "execution_count": 55,
   "id": "3d0c5268",
   "metadata": {},
   "outputs": [
    {
     "data": {
      "text/plain": [
       "1000"
      ]
     },
     "execution_count": 55,
     "metadata": {},
     "output_type": "execute_result"
    }
   ],
   "source": [
    "calcu.multi"
   ]
  },
  {
   "cell_type": "code",
   "execution_count": null,
   "id": "913d0bde",
   "metadata": {},
   "outputs": [],
   "source": []
  },
  {
   "cell_type": "markdown",
   "id": "8651b22a",
   "metadata": {},
   "source": [
    "###### With using Encapsulation"
   ]
  },
  {
   "cell_type": "code",
   "execution_count": 23,
   "id": "aaec668f",
   "metadata": {},
   "outputs": [],
   "source": [
    "class Base1():\n",
    "    \n",
    "    def __init__(self, a, b):\n",
    "        self.a = a\n",
    "        self.b = b\n",
    "        \n",
    "    def addition(self):\n",
    "        add = self.__a + self.__b\n",
    "        print(f\"Addition of {self.__a} and {self.__b} is {add}\")\n",
    "        \n",
    "    def Multiplication(self):\n",
    "        multi = self.__a * self.__b\n",
    "        print(f\"Multiplication of {self.a} and {self.b} is {multi}\")"
   ]
  },
  {
   "cell_type": "code",
   "execution_count": 24,
   "id": "e6c4412a",
   "metadata": {},
   "outputs": [
    {
     "name": "stdout",
     "output_type": "stream",
     "text": [
      "20\n",
      "50\n"
     ]
    },
    {
     "ename": "AttributeError",
     "evalue": "'Base1' object has no attribute '_Base1__a'",
     "output_type": "error",
     "traceback": [
      "\u001b[1;31m---------------------------------------------------------------------------\u001b[0m",
      "\u001b[1;31mAttributeError\u001b[0m                            Traceback (most recent call last)",
      "Input \u001b[1;32mIn [24]\u001b[0m, in \u001b[0;36m<cell line: 4>\u001b[1;34m()\u001b[0m\n\u001b[0;32m      2\u001b[0m \u001b[38;5;28mprint\u001b[39m(calcu1\u001b[38;5;241m.\u001b[39ma)\n\u001b[0;32m      3\u001b[0m \u001b[38;5;28mprint\u001b[39m(calcu1\u001b[38;5;241m.\u001b[39mb)\n\u001b[1;32m----> 4\u001b[0m \u001b[43mcalcu1\u001b[49m\u001b[38;5;241;43m.\u001b[39;49m\u001b[43maddition\u001b[49m\u001b[43m(\u001b[49m\u001b[43m)\u001b[49m\n\u001b[0;32m      5\u001b[0m calcu1\u001b[38;5;241m.\u001b[39mMultiplication()\n",
      "Input \u001b[1;32mIn [23]\u001b[0m, in \u001b[0;36mBase1.addition\u001b[1;34m(self)\u001b[0m\n\u001b[0;32m      7\u001b[0m \u001b[38;5;28;01mdef\u001b[39;00m \u001b[38;5;21maddition\u001b[39m(\u001b[38;5;28mself\u001b[39m):\n\u001b[1;32m----> 8\u001b[0m     add \u001b[38;5;241m=\u001b[39m \u001b[38;5;28;43mself\u001b[39;49m\u001b[38;5;241;43m.\u001b[39;49m\u001b[43m__a\u001b[49m \u001b[38;5;241m+\u001b[39m \u001b[38;5;28mself\u001b[39m\u001b[38;5;241m.\u001b[39m__b\n\u001b[0;32m      9\u001b[0m     \u001b[38;5;28mprint\u001b[39m(\u001b[38;5;124mf\u001b[39m\u001b[38;5;124m\"\u001b[39m\u001b[38;5;124mAddition of \u001b[39m\u001b[38;5;132;01m{\u001b[39;00m\u001b[38;5;28mself\u001b[39m\u001b[38;5;241m.\u001b[39m__a\u001b[38;5;132;01m}\u001b[39;00m\u001b[38;5;124m and \u001b[39m\u001b[38;5;132;01m{\u001b[39;00m\u001b[38;5;28mself\u001b[39m\u001b[38;5;241m.\u001b[39m__b\u001b[38;5;132;01m}\u001b[39;00m\u001b[38;5;124m is \u001b[39m\u001b[38;5;132;01m{\u001b[39;00madd\u001b[38;5;132;01m}\u001b[39;00m\u001b[38;5;124m\"\u001b[39m)\n",
      "\u001b[1;31mAttributeError\u001b[0m: 'Base1' object has no attribute '_Base1__a'"
     ]
    }
   ],
   "source": [
    "calcu1 = Base1(20,50)\n",
    "print(calcu1.a)\n",
    "print(calcu1.b)\n",
    "calcu1.addition()\n",
    "calcu1.Multiplication()"
   ]
  },
  {
   "cell_type": "code",
   "execution_count": 32,
   "id": "77c8c651",
   "metadata": {},
   "outputs": [],
   "source": [
    "class Base1():\n",
    "    \n",
    "    def __init__(self, a, b):\n",
    "        self.__a = a\n",
    "        self.__b = b\n",
    "        \n",
    "    def addition(self):\n",
    "        add = self.__a + self.__b\n",
    "        print(f\"Addition of {self.__a} and {self.__b} is {add}\")\n",
    "        \n",
    "    def Multiplication(self):\n",
    "        multi = self.__a * self.__b\n",
    "        print(f\"Multiplication of {self.__a} and {self.__b} is {multi}\")"
   ]
  },
  {
   "cell_type": "code",
   "execution_count": 33,
   "id": "4229226b",
   "metadata": {},
   "outputs": [
    {
     "ename": "AttributeError",
     "evalue": "'Base1' object has no attribute 'a'",
     "output_type": "error",
     "traceback": [
      "\u001b[1;31m---------------------------------------------------------------------------\u001b[0m",
      "\u001b[1;31mAttributeError\u001b[0m                            Traceback (most recent call last)",
      "Input \u001b[1;32mIn [33]\u001b[0m, in \u001b[0;36m<cell line: 2>\u001b[1;34m()\u001b[0m\n\u001b[0;32m      1\u001b[0m calcu2 \u001b[38;5;241m=\u001b[39m Base1(\u001b[38;5;241m20\u001b[39m,\u001b[38;5;241m50\u001b[39m)\n\u001b[1;32m----> 2\u001b[0m \u001b[38;5;28mprint\u001b[39m(\u001b[43mcalcu2\u001b[49m\u001b[38;5;241;43m.\u001b[39;49m\u001b[43ma\u001b[49m)\n\u001b[0;32m      3\u001b[0m \u001b[38;5;28mprint\u001b[39m(calcu2\u001b[38;5;241m.\u001b[39mb)\n\u001b[0;32m      4\u001b[0m calcu2\u001b[38;5;241m.\u001b[39maddition()\n",
      "\u001b[1;31mAttributeError\u001b[0m: 'Base1' object has no attribute 'a'"
     ]
    }
   ],
   "source": [
    "calcu2 = Base1(20,50)\n",
    "print(calcu2.a)\n",
    "print(calcu2.b)\n",
    "calcu2.addition()\n",
    "calcu2.Multiplication()"
   ]
  },
  {
   "cell_type": "code",
   "execution_count": 34,
   "id": "358d0c40",
   "metadata": {},
   "outputs": [
    {
     "name": "stdout",
     "output_type": "stream",
     "text": [
      "Addition of 20 and 50 is 70\n"
     ]
    }
   ],
   "source": [
    "calcu2.addition()"
   ]
  },
  {
   "cell_type": "code",
   "execution_count": 35,
   "id": "ec14d66a",
   "metadata": {},
   "outputs": [
    {
     "name": "stdout",
     "output_type": "stream",
     "text": [
      "Multiplication of 20 and 50 is 1000\n"
     ]
    }
   ],
   "source": [
    "calcu2.Multiplication()"
   ]
  },
  {
   "cell_type": "code",
   "execution_count": 40,
   "id": "79c642de",
   "metadata": {},
   "outputs": [],
   "source": [
    "class Base1():\n",
    "    \n",
    "    def __init__(self, a, b):\n",
    "        self.__a = a\n",
    "        self.__b = b\n",
    "        \n",
    "    def __addition(self):\n",
    "        self.add = self.__a + self.__b\n",
    "        print(f\"Addition of {self.__a} and {self.__b} is {self.add}\")\n",
    "        \n",
    "    def __Multiplication(self):\n",
    "        self.multi = self.__a * self.__b\n",
    "        print(f\"Multiplication of {self.__a} and {self.__b} is {self.multi}\")"
   ]
  },
  {
   "cell_type": "code",
   "execution_count": 41,
   "id": "6bf4fc8e",
   "metadata": {},
   "outputs": [],
   "source": [
    "calcu3 = Base1(60,70)"
   ]
  },
  {
   "cell_type": "code",
   "execution_count": 42,
   "id": "a9c06b30",
   "metadata": {},
   "outputs": [
    {
     "ename": "AttributeError",
     "evalue": "'Base1' object has no attribute 'a'",
     "output_type": "error",
     "traceback": [
      "\u001b[1;31m---------------------------------------------------------------------------\u001b[0m",
      "\u001b[1;31mAttributeError\u001b[0m                            Traceback (most recent call last)",
      "Input \u001b[1;32mIn [42]\u001b[0m, in \u001b[0;36m<cell line: 2>\u001b[1;34m()\u001b[0m\n\u001b[0;32m      1\u001b[0m calcu3 \u001b[38;5;241m=\u001b[39m Base1(\u001b[38;5;241m20\u001b[39m,\u001b[38;5;241m50\u001b[39m)\n\u001b[1;32m----> 2\u001b[0m \u001b[38;5;28mprint\u001b[39m(\u001b[43mcalcu3\u001b[49m\u001b[38;5;241;43m.\u001b[39;49m\u001b[43ma\u001b[49m)\n\u001b[0;32m      3\u001b[0m \u001b[38;5;28mprint\u001b[39m(calcu3\u001b[38;5;241m.\u001b[39mb)\n\u001b[0;32m      4\u001b[0m calcu3\u001b[38;5;241m.\u001b[39maddition()\n",
      "\u001b[1;31mAttributeError\u001b[0m: 'Base1' object has no attribute 'a'"
     ]
    }
   ],
   "source": [
    "calcu3 = Base1(20,50)\n",
    "print(calcu3.a)\n",
    "print(calcu3.b)\n",
    "calcu3.addition()\n",
    "calcu3.Multiplication()"
   ]
  },
  {
   "cell_type": "code",
   "execution_count": 43,
   "id": "3a1fc9de",
   "metadata": {},
   "outputs": [
    {
     "ename": "AttributeError",
     "evalue": "'Base1' object has no attribute 'addition'",
     "output_type": "error",
     "traceback": [
      "\u001b[1;31m---------------------------------------------------------------------------\u001b[0m",
      "\u001b[1;31mAttributeError\u001b[0m                            Traceback (most recent call last)",
      "Input \u001b[1;32mIn [43]\u001b[0m, in \u001b[0;36m<cell line: 1>\u001b[1;34m()\u001b[0m\n\u001b[1;32m----> 1\u001b[0m \u001b[43mcalcu3\u001b[49m\u001b[38;5;241;43m.\u001b[39;49m\u001b[43maddition\u001b[49m()\n\u001b[0;32m      2\u001b[0m calcu3\u001b[38;5;241m.\u001b[39mMultiplication()\n",
      "\u001b[1;31mAttributeError\u001b[0m: 'Base1' object has no attribute 'addition'"
     ]
    }
   ],
   "source": [
    "calcu3.addition()\n",
    "calcu3.Multiplication()"
   ]
  },
  {
   "cell_type": "code",
   "execution_count": 46,
   "id": "9df0cbae",
   "metadata": {},
   "outputs": [
    {
     "ename": "AttributeError",
     "evalue": "'Base1' object has no attribute 'add'",
     "output_type": "error",
     "traceback": [
      "\u001b[1;31m---------------------------------------------------------------------------\u001b[0m",
      "\u001b[1;31mAttributeError\u001b[0m                            Traceback (most recent call last)",
      "Input \u001b[1;32mIn [46]\u001b[0m, in \u001b[0;36m<cell line: 1>\u001b[1;34m()\u001b[0m\n\u001b[1;32m----> 1\u001b[0m \u001b[43mcalcu3\u001b[49m\u001b[38;5;241;43m.\u001b[39;49m\u001b[43madd\u001b[49m\n",
      "\u001b[1;31mAttributeError\u001b[0m: 'Base1' object has no attribute 'add'"
     ]
    }
   ],
   "source": [
    "calcu3.add"
   ]
  },
  {
   "cell_type": "markdown",
   "id": "074dce13",
   "metadata": {},
   "source": [
    "### Name Mingling"
   ]
  },
  {
   "cell_type": "code",
   "execution_count": 60,
   "id": "effa4121",
   "metadata": {},
   "outputs": [],
   "source": [
    "class BaseClass():\n",
    "    \n",
    "    def __init__(self, a, b):\n",
    "        self.__a = a\n",
    "        self.__b = b\n",
    "        \n",
    "    def __addition(self):\n",
    "        self.add = self.__a + self.__b\n",
    "        print(f\"Addition of {self.__a} and {self.__b} is {self.add}\")\n",
    "        \n",
    "    def __Multiplication(self):\n",
    "        self.multi = self.__a * self.__b\n",
    "        print(f\"Multiplication of {self.__a} and {self.__b} is {self.multi}\")"
   ]
  },
  {
   "cell_type": "code",
   "execution_count": 61,
   "id": "48e97ddf",
   "metadata": {},
   "outputs": [],
   "source": [
    "obj1 = BaseClass(50,60)"
   ]
  },
  {
   "cell_type": "code",
   "execution_count": 67,
   "id": "724f80c7",
   "metadata": {},
   "outputs": [
    {
     "name": "stdout",
     "output_type": "stream",
     "text": [
      "50\n",
      "60\n"
     ]
    }
   ],
   "source": [
    "print(obj1._BaseClass__a)\n",
    "print(obj1._BaseClass__b)"
   ]
  },
  {
   "cell_type": "code",
   "execution_count": 68,
   "id": "d0728b4f",
   "metadata": {},
   "outputs": [
    {
     "name": "stdout",
     "output_type": "stream",
     "text": [
      "Addition of 50 and 60 is 110\n"
     ]
    },
    {
     "data": {
      "text/plain": [
       "110"
      ]
     },
     "execution_count": 68,
     "metadata": {},
     "output_type": "execute_result"
    }
   ],
   "source": [
    "obj1._BaseClass__addition()\n",
    "obj1.add"
   ]
  },
  {
   "cell_type": "code",
   "execution_count": 70,
   "id": "ac6304fd",
   "metadata": {},
   "outputs": [
    {
     "name": "stdout",
     "output_type": "stream",
     "text": [
      "Multiplication of 50 and 60 is 3000\n"
     ]
    },
    {
     "data": {
      "text/plain": [
       "3000"
      ]
     },
     "execution_count": 70,
     "metadata": {},
     "output_type": "execute_result"
    }
   ],
   "source": [
    "obj1._BaseClass__Multiplication()\n",
    "obj1.multi"
   ]
  },
  {
   "cell_type": "code",
   "execution_count": 5,
   "id": "2088259c",
   "metadata": {},
   "outputs": [
    {
     "name": "stdout",
     "output_type": "stream",
     "text": [
      "Dummy __init__method()\n",
      "30\n"
     ]
    },
    {
     "data": {
      "text/plain": [
       "'Data Science'"
      ]
     },
     "execution_count": 5,
     "metadata": {},
     "output_type": "execute_result"
    }
   ],
   "source": [
    "class Dummy():\n",
    "    \n",
    "    Class_var = 30\n",
    "    \n",
    "    def __init__(self):\n",
    "        print(\"Dummy __init__method()\")\n",
    "        var = \"Python\"\n",
    "        self.var2 = \"Data Science\"\n",
    "        \n",
    "obj1 = Dummy()\n",
    "\n",
    "print(obj1.Class_var)\n",
    "obj1.var2"
   ]
  },
  {
   "cell_type": "code",
   "execution_count": null,
   "id": "fee4dbf0",
   "metadata": {},
   "outputs": [],
   "source": []
  },
  {
   "cell_type": "code",
   "execution_count": 8,
   "id": "fb8fae18",
   "metadata": {},
   "outputs": [
    {
     "name": "stdout",
     "output_type": "stream",
     "text": [
      "Dummy __init__method()\n",
      "30\n"
     ]
    },
    {
     "data": {
      "text/plain": [
       "'Data Science'"
      ]
     },
     "execution_count": 8,
     "metadata": {},
     "output_type": "execute_result"
    }
   ],
   "source": [
    "class Dummy():\n",
    "    \n",
    "    Class_var = 30                          ## public class variable\n",
    "    \n",
    "    def __init__(self):\n",
    "        print(\"Dummy __init__method()\")\n",
    "        var = \"Python\"                      ## Local calss variable \n",
    "        \n",
    "        self.var2 = \"Data Science\"          ## instance class variable\n",
    "        \n",
    "obj = Dummy()\n",
    "\n",
    "print(obj.Class_var)\n",
    "obj.var2"
   ]
  },
  {
   "cell_type": "code",
   "execution_count": 17,
   "id": "6f4d2072",
   "metadata": {},
   "outputs": [],
   "source": [
    "obj.Class_var = 200\n",
    "obj.var2 = \"Machine Learning\""
   ]
  },
  {
   "cell_type": "code",
   "execution_count": null,
   "id": "c21e5a4c",
   "metadata": {},
   "outputs": [],
   "source": []
  },
  {
   "cell_type": "code",
   "execution_count": 18,
   "id": "6f4cac5e",
   "metadata": {},
   "outputs": [
    {
     "name": "stdout",
     "output_type": "stream",
     "text": [
      "200\n",
      "Machine Learning\n"
     ]
    }
   ],
   "source": [
    "print(obj.Class_var)\n",
    "print(obj.var2)"
   ]
  },
  {
   "cell_type": "code",
   "execution_count": null,
   "id": "5cf7dcf8",
   "metadata": {},
   "outputs": [],
   "source": []
  },
  {
   "cell_type": "code",
   "execution_count": 20,
   "id": "4d06dc67",
   "metadata": {},
   "outputs": [],
   "source": [
    "class DummyClass():\n",
    "    __class_var = 100\n",
    "    def __init__(self):\n",
    "        print(\"DummyClass __init__() Method\")\n",
    "        \n",
    "        __var = \"Pyhton\"\n",
    "        self.__var3 = \"Deep Learning\"\n",
    "        \n",
    "    def __Method1(self):\n",
    "        print(\"In Method 1\")\n",
    "    \n",
    "    def Method2(self):\n",
    "        print(\"In Method 2\")"
   ]
  },
  {
   "cell_type": "code",
   "execution_count": 21,
   "id": "fc5da76f",
   "metadata": {},
   "outputs": [
    {
     "name": "stdout",
     "output_type": "stream",
     "text": [
      "DummyClass __init__() Method\n"
     ]
    }
   ],
   "source": [
    "ob1 = DummyClass()"
   ]
  },
  {
   "cell_type": "code",
   "execution_count": 23,
   "id": "b22cb86f",
   "metadata": {},
   "outputs": [
    {
     "name": "stdout",
     "output_type": "stream",
     "text": [
      "In Method 2\n"
     ]
    }
   ],
   "source": [
    "ob1.Method2()          # because didn't make it a privet method"
   ]
  },
  {
   "cell_type": "code",
   "execution_count": 24,
   "id": "dcd9eae1",
   "metadata": {},
   "outputs": [
    {
     "ename": "AttributeError",
     "evalue": "'DummyClass' object has no attribute 'class_var'",
     "output_type": "error",
     "traceback": [
      "\u001b[1;31m---------------------------------------------------------------------------\u001b[0m",
      "\u001b[1;31mAttributeError\u001b[0m                            Traceback (most recent call last)",
      "Input \u001b[1;32mIn [24]\u001b[0m, in \u001b[0;36m<cell line: 1>\u001b[1;34m()\u001b[0m\n\u001b[1;32m----> 1\u001b[0m \u001b[43mob1\u001b[49m\u001b[38;5;241;43m.\u001b[39;49m\u001b[43mclass_var\u001b[49m\n",
      "\u001b[1;31mAttributeError\u001b[0m: 'DummyClass' object has no attribute 'class_var'"
     ]
    }
   ],
   "source": [
    "ob1.class_var"
   ]
  },
  {
   "cell_type": "code",
   "execution_count": 25,
   "id": "716f59b9",
   "metadata": {},
   "outputs": [
    {
     "ename": "AttributeError",
     "evalue": "'DummyClass' object has no attribute 'var3'",
     "output_type": "error",
     "traceback": [
      "\u001b[1;31m---------------------------------------------------------------------------\u001b[0m",
      "\u001b[1;31mAttributeError\u001b[0m                            Traceback (most recent call last)",
      "Input \u001b[1;32mIn [25]\u001b[0m, in \u001b[0;36m<cell line: 1>\u001b[1;34m()\u001b[0m\n\u001b[1;32m----> 1\u001b[0m \u001b[43mob1\u001b[49m\u001b[38;5;241;43m.\u001b[39;49m\u001b[43mvar3\u001b[49m\n",
      "\u001b[1;31mAttributeError\u001b[0m: 'DummyClass' object has no attribute 'var3'"
     ]
    }
   ],
   "source": [
    "ob1.var3"
   ]
  },
  {
   "cell_type": "code",
   "execution_count": 26,
   "id": "87f3adc2",
   "metadata": {},
   "outputs": [],
   "source": [
    "class DummyClass():\n",
    "    __class_var = 100\n",
    "    def __init__(self):\n",
    "        print(\"DummyClass __init__() Method\")\n",
    "        \n",
    "        __var = \"Pyhton\"\n",
    "        self.__var3 = \"Deep Learning\"\n",
    "        \n",
    "    def __Method1(self):\n",
    "        print(\"In Method 1\")\n",
    "    \n",
    "    def Method2(self):\n",
    "        print(\"In Method 2\")"
   ]
  },
  {
   "cell_type": "code",
   "execution_count": 32,
   "id": "3c5404c5",
   "metadata": {},
   "outputs": [
    {
     "name": "stdout",
     "output_type": "stream",
     "text": [
      "DummyClass __init__() Method\n",
      "Deep Learning\n",
      "In Method 1\n"
     ]
    }
   ],
   "source": [
    "objec = DummyClass()\n",
    "\n",
    "objec._DummyClass__class_var\n",
    "print(objec._DummyClass__var3)\n",
    "\n",
    "objec._DummyClass__Method1()"
   ]
  },
  {
   "cell_type": "code",
   "execution_count": 37,
   "id": "c4e6de2a",
   "metadata": {},
   "outputs": [],
   "source": [
    "objec._DummyClass__var3 = \"AI\""
   ]
  },
  {
   "cell_type": "code",
   "execution_count": 34,
   "id": "c06119e7",
   "metadata": {},
   "outputs": [
    {
     "data": {
      "text/plain": [
       "'AI'"
      ]
     },
     "execution_count": 34,
     "metadata": {},
     "output_type": "execute_result"
    }
   ],
   "source": [
    "objec._DummyClass__var3"
   ]
  },
  {
   "cell_type": "code",
   "execution_count": 41,
   "id": "66a8286b",
   "metadata": {},
   "outputs": [],
   "source": [
    "class dummy1():\n",
    "    def __init__(self, *args):\n",
    "        print(\"dummy1 __init__() method\")\n",
    "        self.args = args\n",
    "        \n",
    "    def addition(self):\n",
    "        self.add = sum(self.args)\n",
    "        print(f\"Addition of a numbers are = {self.add}\")"
   ]
  },
  {
   "cell_type": "code",
   "execution_count": 44,
   "id": "c46ac378",
   "metadata": {},
   "outputs": [
    {
     "name": "stdout",
     "output_type": "stream",
     "text": [
      "dummy1 __init__() method\n"
     ]
    }
   ],
   "source": [
    "ob = dummy1(1,2,3,7,5)"
   ]
  },
  {
   "cell_type": "code",
   "execution_count": 49,
   "id": "067e691b",
   "metadata": {},
   "outputs": [
    {
     "name": "stdout",
     "output_type": "stream",
     "text": [
      "Addition of a numbers are = 18\n",
      "18\n"
     ]
    },
    {
     "data": {
      "text/plain": [
       "(1, 2, 3, 7, 5)"
      ]
     },
     "execution_count": 49,
     "metadata": {},
     "output_type": "execute_result"
    }
   ],
   "source": [
    "ob.addition()\n",
    "print(ob.add)\n",
    "\n",
    "ob.args"
   ]
  },
  {
   "cell_type": "code",
   "execution_count": 59,
   "id": "fd17c60b",
   "metadata": {},
   "outputs": [],
   "source": [
    "class dummy1():\n",
    "    def __init__(self, *args):\n",
    "        print(\"dummy1 __init__() method\")\n",
    "        self.__args = args\n",
    "        \n",
    "    def __addition(self):\n",
    "        self.add = sum(self.__args)\n",
    "        print(f\"Addition of a numbers are = {self.add}\")"
   ]
  },
  {
   "cell_type": "code",
   "execution_count": 60,
   "id": "178eeb09",
   "metadata": {},
   "outputs": [
    {
     "name": "stdout",
     "output_type": "stream",
     "text": [
      "dummy1 __init__() method\n"
     ]
    }
   ],
   "source": [
    "ob11 = dummy1(5,6,9,8)"
   ]
  },
  {
   "cell_type": "code",
   "execution_count": 61,
   "id": "93870675",
   "metadata": {},
   "outputs": [
    {
     "ename": "AttributeError",
     "evalue": "'dummy1' object has no attribute 'addition'",
     "output_type": "error",
     "traceback": [
      "\u001b[1;31m---------------------------------------------------------------------------\u001b[0m",
      "\u001b[1;31mAttributeError\u001b[0m                            Traceback (most recent call last)",
      "Input \u001b[1;32mIn [61]\u001b[0m, in \u001b[0;36m<cell line: 1>\u001b[1;34m()\u001b[0m\n\u001b[1;32m----> 1\u001b[0m \u001b[43mob11\u001b[49m\u001b[38;5;241;43m.\u001b[39;49m\u001b[43maddition\u001b[49m()\n",
      "\u001b[1;31mAttributeError\u001b[0m: 'dummy1' object has no attribute 'addition'"
     ]
    }
   ],
   "source": [
    "ob11.addition()"
   ]
  },
  {
   "cell_type": "code",
   "execution_count": 64,
   "id": "6ed2ca53",
   "metadata": {},
   "outputs": [
    {
     "name": "stdout",
     "output_type": "stream",
     "text": [
      "Addition of a numbers are = 28\n"
     ]
    },
    {
     "data": {
      "text/plain": [
       "(5, 6, 9, 8)"
      ]
     },
     "execution_count": 64,
     "metadata": {},
     "output_type": "execute_result"
    }
   ],
   "source": [
    "ob11._dummy1__addition()\n",
    "ob11._dummy1__args"
   ]
  },
  {
   "cell_type": "code",
   "execution_count": null,
   "id": "55447010",
   "metadata": {},
   "outputs": [],
   "source": []
  },
  {
   "cell_type": "code",
   "execution_count": null,
   "id": "cd88f193",
   "metadata": {},
   "outputs": [],
   "source": []
  },
  {
   "cell_type": "code",
   "execution_count": null,
   "id": "9b62190c",
   "metadata": {},
   "outputs": [],
   "source": []
  }
 ],
 "metadata": {
  "kernelspec": {
   "display_name": "Python 3 (ipykernel)",
   "language": "python",
   "name": "python3"
  },
  "language_info": {
   "codemirror_mode": {
    "name": "ipython",
    "version": 3
   },
   "file_extension": ".py",
   "mimetype": "text/x-python",
   "name": "python",
   "nbconvert_exporter": "python",
   "pygments_lexer": "ipython3",
   "version": "3.9.12"
  }
 },
 "nbformat": 4,
 "nbformat_minor": 5
}
