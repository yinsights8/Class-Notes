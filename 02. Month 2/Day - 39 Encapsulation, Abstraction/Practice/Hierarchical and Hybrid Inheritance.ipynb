{
 "cells": [
  {
   "cell_type": "markdown",
   "id": "32ace443",
   "metadata": {},
   "source": [
    "## 1. Hierarchical Inheritance"
   ]
  },
  {
   "cell_type": "code",
   "execution_count": 2,
   "id": "14f20d17",
   "metadata": {},
   "outputs": [],
   "source": [
    "class BaseClass():                #Father (parent)\n",
    "    def F_Method_1(self):\n",
    "        pass\n",
    "    \n",
    "    \n",
    "class DerivedClass_1(BaseClass):   # child1\n",
    "    def D_Method_1(self):\n",
    "        pass\n",
    "    \n",
    "    \n",
    "class DerivedClass_2(BaseClass):    # child2\n",
    "    def D_Method_1(self):\n",
    "        pass\n",
    "    \n",
    "    \n",
    "Hierachi_1 = DerivedClass_1()\n",
    "Hierachi_1.D_Method_1()\n",
    "Hierachi_1.F_Method_1()\n",
    "\n",
    "Hierachi_2 = DerivedClass_2()\n",
    "Hierachi_2.D_Method_1()\n",
    "Hierachi_2.F_Method_1()\n"
   ]
  },
  {
   "cell_type": "code",
   "execution_count": 4,
   "id": "5eaea1b0",
   "metadata": {},
   "outputs": [
    {
     "name": "stdout",
     "output_type": "stream",
     "text": [
      "I Am a Child_1\n"
     ]
    }
   ],
   "source": [
    "class Father():\n",
    "    def F_Method_1(self):\n",
    "        print(\"I Am there parent\")\n",
    "        \n",
    "        \n",
    "class Child_1(Father):   # child1\n",
    "    def C1_Method_1(self):\n",
    "        print(\"I Am a Child_1\")\n",
    "    \n",
    "    \n",
    "class Child_2(Father):    # child2\n",
    "    def C2_Method_1(self):\n",
    "        print(\"I Am a Child_2\")"
   ]
  },
  {
   "cell_type": "code",
   "execution_count": 7,
   "id": "c21f437b",
   "metadata": {},
   "outputs": [
    {
     "name": "stdout",
     "output_type": "stream",
     "text": [
      "I Am a Child_1\n",
      "I Am there parent\n"
     ]
    }
   ],
   "source": [
    "H1 = Child_1()\n",
    "H1.C1_Method_1()\n",
    "H1.F_Method_1()"
   ]
  },
  {
   "cell_type": "code",
   "execution_count": 9,
   "id": "ad75e66b",
   "metadata": {},
   "outputs": [
    {
     "name": "stdout",
     "output_type": "stream",
     "text": [
      "I Am a Child_2\n",
      "I Am there parent\n"
     ]
    }
   ],
   "source": [
    "H2 = Child_2()\n",
    "H2.C2_Method_1()\n",
    "H2.F_Method_1()"
   ]
  },
  {
   "cell_type": "code",
   "execution_count": 24,
   "id": "749fcf9f",
   "metadata": {},
   "outputs": [],
   "source": [
    "class Geometry():\n",
    "    Pi = 3.14\n",
    "    def __init__(self, radius, length, breath):\n",
    "        print(\"Mathematics __init__ Method\")\n",
    "        self.radius = radius\n",
    "        self.length = length\n",
    "        self.breath = breath\n",
    "    \n",
    "class Circle(Geometry):\n",
    "    def __init__(self, radius, length, breath):\n",
    "        print(\"Circle __init__ Method\")\n",
    "        Geometry.__init__(self, radius, length, breath)\n",
    "        \n",
    "    def Area_circle(self):\n",
    "        self.area = self.Pi * self.radius**2\n",
    "        print(f\"Area of a circle is {self.area}\")\n",
    "        \n",
    "    def C_Circumfer(self):\n",
    "        self.area = 2 * self.Pi * self.radius\n",
    "        print(f\"circumference of a circle is {self.area}\")\n",
    "        \n",
    "class Rectangle(Geometry):\n",
    "    def __init__(self):\n",
    "        print(\"reactangle __init__ Method\")\n",
    "        \n",
    "        Geometry.__init__(self, length, breath)\n",
    "\n",
    "    def Area_Reatangle(self):\n",
    "        self.area = self.length * self.breath\n",
    "        print(f\"Area of a Reatangle is {self.area}\")\n",
    "        \n",
    "    def R_perimeter(self):\n",
    "        self.perimeter = 2 *(self.length + self.breath)\n",
    "        print(f\"perimeter of a Reatangle is {self.perimeter}\")\n",
    "        "
   ]
  },
  {
   "cell_type": "code",
   "execution_count": 30,
   "id": "e9d5760d",
   "metadata": {},
   "outputs": [
    {
     "name": "stdout",
     "output_type": "stream",
     "text": [
      "Circle __init__ Method\n"
     ]
    },
    {
     "ename": "TypeError",
     "evalue": "__init__() missing 2 required positional arguments: 'length' and 'breath'",
     "output_type": "error",
     "traceback": [
      "\u001b[1;31m---------------------------------------------------------------------------\u001b[0m",
      "\u001b[1;31mTypeError\u001b[0m                                 Traceback (most recent call last)",
      "Input \u001b[1;32mIn [30]\u001b[0m, in \u001b[0;36m<cell line: 1>\u001b[1;34m()\u001b[0m\n\u001b[1;32m----> 1\u001b[0m circle \u001b[38;5;241m=\u001b[39m \u001b[43mCircle\u001b[49m\u001b[43m(\u001b[49m\u001b[38;5;241;43m20\u001b[39;49m\u001b[43m)\u001b[49m\n\u001b[0;32m      2\u001b[0m circle\u001b[38;5;241m.\u001b[39mArea_circle()\n",
      "Input \u001b[1;32mIn [24]\u001b[0m, in \u001b[0;36mCircle.__init__\u001b[1;34m(self, radius)\u001b[0m\n\u001b[0;32m     10\u001b[0m \u001b[38;5;28;01mdef\u001b[39;00m \u001b[38;5;21m__init__\u001b[39m(\u001b[38;5;28mself\u001b[39m, radius):\n\u001b[0;32m     11\u001b[0m     \u001b[38;5;28mprint\u001b[39m(\u001b[38;5;124m\"\u001b[39m\u001b[38;5;124mCircle __init__ Method\u001b[39m\u001b[38;5;124m\"\u001b[39m)\n\u001b[1;32m---> 12\u001b[0m     \u001b[43mGeometry\u001b[49m\u001b[38;5;241;43m.\u001b[39;49m\u001b[38;5;21;43m__init__\u001b[39;49m\u001b[43m(\u001b[49m\u001b[38;5;28;43mself\u001b[39;49m\u001b[43m,\u001b[49m\u001b[43m \u001b[49m\u001b[43mradius\u001b[49m\u001b[43m)\u001b[49m\n",
      "\u001b[1;31mTypeError\u001b[0m: __init__() missing 2 required positional arguments: 'length' and 'breath'"
     ]
    }
   ],
   "source": [
    "circle = Circle(20)\n",
    "circle.Area_circle()"
   ]
  },
  {
   "cell_type": "code",
   "execution_count": 31,
   "id": "bc4560f8",
   "metadata": {},
   "outputs": [
    {
     "name": "stdout",
     "output_type": "stream",
     "text": [
      "reactangle __init__ Method\n"
     ]
    },
    {
     "ename": "NameError",
     "evalue": "name 'length' is not defined",
     "output_type": "error",
     "traceback": [
      "\u001b[1;31m---------------------------------------------------------------------------\u001b[0m",
      "\u001b[1;31mNameError\u001b[0m                                 Traceback (most recent call last)",
      "Input \u001b[1;32mIn [31]\u001b[0m, in \u001b[0;36m<cell line: 1>\u001b[1;34m()\u001b[0m\n\u001b[1;32m----> 1\u001b[0m reactangle \u001b[38;5;241m=\u001b[39m \u001b[43mRectangle\u001b[49m\u001b[43m(\u001b[49m\u001b[43m)\u001b[49m\n",
      "Input \u001b[1;32mIn [24]\u001b[0m, in \u001b[0;36mRectangle.__init__\u001b[1;34m(self)\u001b[0m\n\u001b[0;32m     23\u001b[0m \u001b[38;5;28;01mdef\u001b[39;00m \u001b[38;5;21m__init__\u001b[39m(\u001b[38;5;28mself\u001b[39m):\n\u001b[0;32m     24\u001b[0m     \u001b[38;5;28mprint\u001b[39m(\u001b[38;5;124m\"\u001b[39m\u001b[38;5;124mreactangle __init__ Method\u001b[39m\u001b[38;5;124m\"\u001b[39m)\n\u001b[1;32m---> 26\u001b[0m     Geometry\u001b[38;5;241m.\u001b[39m\u001b[38;5;21m__init__\u001b[39m(\u001b[38;5;28mself\u001b[39m, \u001b[43mlength\u001b[49m, breath)\n",
      "\u001b[1;31mNameError\u001b[0m: name 'length' is not defined"
     ]
    }
   ],
   "source": [
    "reactangle = Rectangle()"
   ]
  },
  {
   "cell_type": "code",
   "execution_count": null,
   "id": "4539f1ad",
   "metadata": {},
   "outputs": [],
   "source": []
  },
  {
   "cell_type": "code",
   "execution_count": null,
   "id": "b8fd3fbf",
   "metadata": {},
   "outputs": [],
   "source": []
  },
  {
   "cell_type": "code",
   "execution_count": null,
   "id": "761ceb60",
   "metadata": {},
   "outputs": [],
   "source": []
  },
  {
   "cell_type": "code",
   "execution_count": null,
   "id": "7cd01a79",
   "metadata": {},
   "outputs": [],
   "source": []
  },
  {
   "cell_type": "code",
   "execution_count": null,
   "id": "1882d56b",
   "metadata": {},
   "outputs": [],
   "source": []
  },
  {
   "cell_type": "code",
   "execution_count": 50,
   "id": "5371c5fe",
   "metadata": {},
   "outputs": [],
   "source": [
    "class Geometry():\n",
    "    Pi = 3.14\n",
    "    def __init__(self, radius):\n",
    "        print(\"Mathematics __init__ Method\")\n",
    "        self.radius = radius\n",
    "        \n",
    "    def types(self):\n",
    "        print(\"I have Two Son's\")\n",
    "        print(\"1 :- Circle\\n2 :- Sphere\")\n",
    "    \n",
    "    def F_Circle(self):\n",
    "        print(\"I am a circle\")\n",
    "        \n",
    "    def F_Sphere(self):\n",
    "        print(\"I am a sphere\")\n",
    "    \n",
    "# Circle..................................................................................................\n",
    "class Circle(Geometry):\n",
    "    def __init__(self, radius):\n",
    "        print(\"Circle __init__ Method\")\n",
    "        Geometry.__init__(self, radius)\n",
    "        \n",
    "    def Area_circle(self):\n",
    "        self.area = self.Pi * self.radius**2\n",
    "        print(f\"Area of a circle is {self.area}\")\n",
    "        \n",
    "    def C_Circumfer(self):\n",
    "        self.area = 2 * self.Pi * self.radius\n",
    "        print(f\"circumference of a circle is {self.area}\")\n",
    "        \n",
    "## Sphere...............................................................................................\n",
    "        \n",
    "class sphere(Geometry):\n",
    "    def __init__(self, radius):\n",
    "        print(\"Sphere __init__ Method\")\n",
    "        Geometry.__init__(self, radius)\n",
    "        \n",
    "    def Area_sphere(self):\n",
    "        self.area = 4 * self.Pi * self.radius**2\n",
    "        print(f\"Area of a sphere is {self.area}\")\n",
    "        \n",
    "    def S_Circumfer(self):\n",
    "        self.area = 2 * self.Pi * self.radius\n",
    "        print(f\"circumference of a sphere is {self.area}\")"
   ]
  },
  {
   "cell_type": "code",
   "execution_count": 57,
   "id": "caf119a1",
   "metadata": {},
   "outputs": [
    {
     "name": "stdout",
     "output_type": "stream",
     "text": [
      "Sphere __init__ Method\n",
      "Mathematics __init__ Method\n",
      "Circle __init__ Method\n",
      "Mathematics __init__ Method\n"
     ]
    }
   ],
   "source": [
    "sphere1 = sphere(10)\n",
    "cir1 = Circle(15)"
   ]
  },
  {
   "cell_type": "code",
   "execution_count": 66,
   "id": "31394c91",
   "metadata": {},
   "outputs": [
    {
     "name": "stdout",
     "output_type": "stream",
     "text": [
      "Area of a sphere is 1256.0\n",
      "circumference of a sphere is 62.800000000000004\n",
      "I am a sphere\n",
      "\n",
      "I have Two Son's\n",
      "1 :- Circle\n",
      "2 :- Sphere\n"
     ]
    }
   ],
   "source": [
    "sphere1.Area_sphere()\n",
    "sphere1.S_Circumfer()\n",
    "sphere1.Pi\n",
    "sphere1.F_Sphere()\n",
    "print()\n",
    "sphere1.types()\n"
   ]
  },
  {
   "cell_type": "code",
   "execution_count": 64,
   "id": "976a1459",
   "metadata": {},
   "outputs": [
    {
     "name": "stdout",
     "output_type": "stream",
     "text": [
      "Area of a circle is 706.5\n",
      "circumference of a circle is 94.2\n",
      "I am a circle\n",
      "\n",
      "I have Two Son's\n",
      "1 :- Circle\n",
      "2 :- Sphere\n"
     ]
    }
   ],
   "source": [
    "cir1.Area_circle()\n",
    "cir1.C_Circumfer()\n",
    "cir1.Pi\n",
    "cir1.F_Circle()\n",
    "print()\n",
    "cir1.types()\n"
   ]
  },
  {
   "cell_type": "code",
   "execution_count": 67,
   "id": "911a8e3e",
   "metadata": {},
   "outputs": [],
   "source": [
    "import os"
   ]
  },
  {
   "cell_type": "code",
   "execution_count": 70,
   "id": "98a3aac1",
   "metadata": {},
   "outputs": [
    {
     "data": {
      "text/plain": [
       "'C:\\\\Users\\\\yashd\\\\02. Velocity Class Notes\\\\Class\\\\2. Month 2\\\\Day - 39 Encapsulation, Abstraction\\\\Practice'"
      ]
     },
     "execution_count": 70,
     "metadata": {},
     "output_type": "execute_result"
    }
   ],
   "source": [
    "os.getcwd()"
   ]
  },
  {
   "cell_type": "code",
   "execution_count": null,
   "id": "99b4bcf2",
   "metadata": {},
   "outputs": [],
   "source": []
  }
 ],
 "metadata": {
  "kernelspec": {
   "display_name": "Python 3 (ipykernel)",
   "language": "python",
   "name": "python3"
  },
  "language_info": {
   "codemirror_mode": {
    "name": "ipython",
    "version": 3
   },
   "file_extension": ".py",
   "mimetype": "text/x-python",
   "name": "python",
   "nbconvert_exporter": "python",
   "pygments_lexer": "ipython3",
   "version": "3.9.12"
  }
 },
 "nbformat": 4,
 "nbformat_minor": 5
}
