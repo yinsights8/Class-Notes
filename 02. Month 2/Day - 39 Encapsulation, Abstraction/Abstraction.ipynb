{
 "cells": [
  {
   "cell_type": "markdown",
   "id": "cc31f9e7",
   "metadata": {},
   "source": [
    "# Abstraction \n",
    "- Blueprint of other class/project\n",
    "    - We can not create an object of the abstract class\n",
    "    - Abstract class is only used for the declaration of the methods\n",
    "    - In the abtract class we are not supposed to implement these methods\n",
    "    - @abstractmethod decorator --> used to define abstract method\n",
    "    - The abstract method is a child class of the ABC\n",
    "    - It is used to hide the internal functionality of the method"
   ]
  },
  {
   "cell_type": "code",
   "execution_count": 1,
   "id": "934fd130",
   "metadata": {},
   "outputs": [],
   "source": [
    "class BaseClass:\n",
    "    pass\n",
    "\n",
    "class DerivedClass(BaseClass):\n",
    "    pass\n",
    "\n",
    "obj1 = BaseClass()\n",
    "obj2 = DerivedClass()"
   ]
  },
  {
   "cell_type": "code",
   "execution_count": 5,
   "id": "f12bfe5b",
   "metadata": {},
   "outputs": [],
   "source": [
    "import abc"
   ]
  },
  {
   "cell_type": "code",
   "execution_count": 6,
   "id": "c136e272",
   "metadata": {},
   "outputs": [],
   "source": [
    "from abc import ABC,abstractmethod"
   ]
  },
  {
   "cell_type": "code",
   "execution_count": 8,
   "id": "f491ee58",
   "metadata": {},
   "outputs": [],
   "source": [
    "class Product():\n",
    "    \n",
    "    def login(self):\n",
    "        pass\n",
    "    \n",
    "    def logout(self):\n",
    "        pass\n",
    "    \n",
    "    def signup(self):\n",
    "        pass\n",
    "    \n",
    "    def for_Pass(self):\n",
    "        pass\n",
    "    \n",
    "p1 = Product()\n",
    "p1.for_Pass()"
   ]
  },
  {
   "cell_type": "code",
   "execution_count": 13,
   "id": "50593814",
   "metadata": {},
   "outputs": [
    {
     "ename": "TypeError",
     "evalue": "Can't instantiate abstract class Product1 with abstract methods for_Pass, login, logout, signup",
     "output_type": "error",
     "traceback": [
      "\u001b[1;31m---------------------------------------------------------------------------\u001b[0m",
      "\u001b[1;31mTypeError\u001b[0m                                 Traceback (most recent call last)",
      "Input \u001b[1;32mIn [13]\u001b[0m, in \u001b[0;36m<cell line: 22>\u001b[1;34m()\u001b[0m\n\u001b[0;32m     18\u001b[0m     \u001b[38;5;28;01mdef\u001b[39;00m \u001b[38;5;21mmethod2\u001b[39m(\u001b[38;5;28mself\u001b[39m):\n\u001b[0;32m     19\u001b[0m         \u001b[38;5;28;01mpass\u001b[39;00m\n\u001b[1;32m---> 22\u001b[0m p1 \u001b[38;5;241m=\u001b[39m \u001b[43mProduct1\u001b[49m\u001b[43m(\u001b[49m\u001b[43m)\u001b[49m\n\u001b[0;32m     23\u001b[0m p1\u001b[38;5;241m.\u001b[39mfor_Pass()\n",
      "\u001b[1;31mTypeError\u001b[0m: Can't instantiate abstract class Product1 with abstract methods for_Pass, login, logout, signup"
     ]
    }
   ],
   "source": [
    "class Product1(ABC):\n",
    "    \n",
    "    @abstractmethod\n",
    "    def login(self):\n",
    "        pass\n",
    "    \n",
    "    @abstractmethod\n",
    "    def logout(self):\n",
    "        pass\n",
    "    \n",
    "    @abstractmethod\n",
    "    def signup(self):\n",
    "        pass\n",
    "    \n",
    "    @abstractmethod\n",
    "    def for_Pass(self):\n",
    "        pass\n",
    "    \n",
    "    def method1(self):\n",
    "        pass\n",
    "    \n",
    "    def method2(self):\n",
    "        pass\n",
    "    \n",
    "    \n",
    "p1 = Product1()\n",
    "p1.for_Pass()"
   ]
  },
  {
   "cell_type": "code",
   "execution_count": 15,
   "id": "57784309",
   "metadata": {},
   "outputs": [],
   "source": [
    "class dev1(Product1):\n",
    "    def method11(self):\n",
    "        print(\"This is method 11\")\n",
    "        \n",
    "    def method12(self):\n",
    "        print(\"This is method 12\")\n",
    "        \n",
    "    def method13(self):\n",
    "        print(\"This is method 13\")"
   ]
  },
  {
   "cell_type": "code",
   "execution_count": 17,
   "id": "4f006831",
   "metadata": {},
   "outputs": [
    {
     "ename": "TypeError",
     "evalue": "Can't instantiate abstract class dev1 with abstract methods for_Pass, login, logout, signup",
     "output_type": "error",
     "traceback": [
      "\u001b[1;31m---------------------------------------------------------------------------\u001b[0m",
      "\u001b[1;31mTypeError\u001b[0m                                 Traceback (most recent call last)",
      "Input \u001b[1;32mIn [17]\u001b[0m, in \u001b[0;36m<cell line: 2>\u001b[1;34m()\u001b[0m\n\u001b[0;32m      1\u001b[0m \u001b[38;5;66;03m# p1 = Product()\u001b[39;00m\n\u001b[1;32m----> 2\u001b[0m d1 \u001b[38;5;241m=\u001b[39m \u001b[43mdev1\u001b[49m\u001b[43m(\u001b[49m\u001b[43m)\u001b[49m\n",
      "\u001b[1;31mTypeError\u001b[0m: Can't instantiate abstract class dev1 with abstract methods for_Pass, login, logout, signup"
     ]
    }
   ],
   "source": [
    "# p1 = Product()\n",
    "d1 = dev1()"
   ]
  },
  {
   "cell_type": "code",
   "execution_count": 24,
   "id": "d35c67ae",
   "metadata": {},
   "outputs": [
    {
     "name": "stdout",
     "output_type": "stream",
     "text": [
      "This is forget password API\n",
      "Process document API\n",
      "Result API\n"
     ]
    }
   ],
   "source": [
    "class ProjectBlueprint(ABC): # Abstract Class\n",
    "    @abstractmethod          # Decorator\n",
    "    def registration(self):  # Abstract Method\n",
    "        pass\n",
    "    \n",
    "    @abstractmethod\n",
    "    def login(self):\n",
    "        pass\n",
    "    \n",
    "    @abstractmethod\n",
    "    def forget_pass(self):\n",
    "        pass\n",
    "    \n",
    "    def process_documents(self): # Normal method\n",
    "        pass\n",
    "    \n",
    "class ProjectAPI(ProjectBlueprint):\n",
    "    def registration(self):\n",
    "        print(\"This is registration API \")\n",
    "        \n",
    "    def login(self):\n",
    "        print(\"This is login API\")\n",
    "        \n",
    "    def forget_pass(self):\n",
    "        print(\"This is forget password API\")\n",
    "        \n",
    "    def process_documents(self):\n",
    "        print(\"Process document API\")\n",
    "        \n",
    "    def result(self):\n",
    "        print(\"Result API\")\n",
    "\n",
    "# Obj1 = ProjectBlueprint()\n",
    "Obj1 = ProjectAPI()\n",
    "Obj1.forget_pass()\n",
    "Obj1.process_documents()\n",
    "Obj1.result()\n",
    "Obj1."
   ]
  },
  {
   "cell_type": "code",
   "execution_count": 27,
   "id": "6492253e",
   "metadata": {},
   "outputs": [
    {
     "name": "stdout",
     "output_type": "stream",
     "text": [
      "This is login API\n"
     ]
    }
   ],
   "source": [
    "class ProjectBlueprint(ABC): # Abstract Class\n",
    "    @abstractmethod          # Decorator\n",
    "    def registration(self):  # Abstract Method\n",
    "        pass\n",
    "    \n",
    "    @abstractmethod\n",
    "    def login(self):\n",
    "        pass\n",
    "    \n",
    "    @abstractmethod\n",
    "    def forget_pass(self):\n",
    "        pass\n",
    "    \n",
    "    def process_documents(self): # Normal method\n",
    "        pass\n",
    "    \n",
    "class ProjectAPI(ProjectBlueprint):\n",
    "    def registration(self):\n",
    "        print(\"This is registration API \")\n",
    "        \n",
    "    def login(self):\n",
    "        print(\"This is login API\")\n",
    "        \n",
    "    def forget_pass(self):\n",
    "        print(\"This is forget password API\")\n",
    "        \n",
    "#     def process_documents(self):\n",
    "#         print(\"Process document API\")\n",
    "        \n",
    "#     def result(self):\n",
    "#         print(\"Result API\")\n",
    "\n",
    "# Obj1 = ProjectBlueprint()\n",
    "Obj1 = ProjectAPI()\n",
    "Obj1.login()"
   ]
  },
  {
   "cell_type": "code",
   "execution_count": 28,
   "id": "b24b7135",
   "metadata": {},
   "outputs": [
    {
     "ename": "TypeError",
     "evalue": "Can't instantiate abstract class ProjectAPI with abstract method forget_pass",
     "output_type": "error",
     "traceback": [
      "\u001b[1;31m---------------------------------------------------------------------------\u001b[0m",
      "\u001b[1;31mTypeError\u001b[0m                                 Traceback (most recent call last)",
      "Input \u001b[1;32mIn [28]\u001b[0m, in \u001b[0;36m<cell line: 34>\u001b[1;34m()\u001b[0m\n\u001b[0;32m     22\u001b[0m         \u001b[38;5;28mprint\u001b[39m(\u001b[38;5;124m\"\u001b[39m\u001b[38;5;124mThis is login API\u001b[39m\u001b[38;5;124m\"\u001b[39m)\n\u001b[0;32m     24\u001b[0m \u001b[38;5;66;03m#     def forget_pass(self):\u001b[39;00m\n\u001b[0;32m     25\u001b[0m \u001b[38;5;66;03m#         print(\"This is forget password API\")\u001b[39;00m\n\u001b[0;32m     26\u001b[0m         \n\u001b[1;32m   (...)\u001b[0m\n\u001b[0;32m     32\u001b[0m \n\u001b[0;32m     33\u001b[0m \u001b[38;5;66;03m# Obj1 = ProjectBlueprint()\u001b[39;00m\n\u001b[1;32m---> 34\u001b[0m Obj1 \u001b[38;5;241m=\u001b[39m \u001b[43mProjectAPI\u001b[49m\u001b[43m(\u001b[49m\u001b[43m)\u001b[49m\n\u001b[0;32m     35\u001b[0m Obj1\u001b[38;5;241m.\u001b[39mlogin()\n",
      "\u001b[1;31mTypeError\u001b[0m: Can't instantiate abstract class ProjectAPI with abstract method forget_pass"
     ]
    }
   ],
   "source": [
    "class ProjectBlueprint(ABC): # Abstract Class\n",
    "    @abstractmethod          # Decorator\n",
    "    def registration(self):  # Abstract Method\n",
    "        pass\n",
    "    \n",
    "    @abstractmethod\n",
    "    def login(self):\n",
    "        pass\n",
    "    \n",
    "    @abstractmethod\n",
    "    def forget_pass(self):\n",
    "        pass\n",
    "    \n",
    "    def process_documents(self): # Normal method\n",
    "        pass\n",
    "    \n",
    "class ProjectAPI(ProjectBlueprint):\n",
    "    def registration(self):\n",
    "        print(\"This is registration API \")\n",
    "        \n",
    "    def login(self):\n",
    "        print(\"This is login API\")\n",
    "        \n",
    "#     def forget_pass(self):\n",
    "#         print(\"This is forget password API\")\n",
    "        \n",
    "#     def process_documents(self):\n",
    "#         print(\"Process document API\")\n",
    "        \n",
    "#     def result(self):\n",
    "#         print(\"Result API\")\n",
    "\n",
    "# Obj1 = ProjectBlueprint()\n",
    "Obj1 = ProjectAPI()\n",
    "Obj1.login()"
   ]
  },
  {
   "cell_type": "code",
   "execution_count": 29,
   "id": "88d7561a",
   "metadata": {},
   "outputs": [
    {
     "ename": "TypeError",
     "evalue": "Can't instantiate abstract class ProjectAPI with abstract method login",
     "output_type": "error",
     "traceback": [
      "\u001b[1;31m---------------------------------------------------------------------------\u001b[0m",
      "\u001b[1;31mTypeError\u001b[0m                                 Traceback (most recent call last)",
      "Input \u001b[1;32mIn [29]\u001b[0m, in \u001b[0;36m<cell line: 34>\u001b[1;34m()\u001b[0m\n\u001b[0;32m     25\u001b[0m         \u001b[38;5;28mprint\u001b[39m(\u001b[38;5;124m\"\u001b[39m\u001b[38;5;124mThis is forget password API\u001b[39m\u001b[38;5;124m\"\u001b[39m)\n\u001b[0;32m     27\u001b[0m \u001b[38;5;66;03m#     def process_documents(self):\u001b[39;00m\n\u001b[0;32m     28\u001b[0m \u001b[38;5;66;03m#         print(\"Process document API\")\u001b[39;00m\n\u001b[0;32m     29\u001b[0m         \n\u001b[1;32m   (...)\u001b[0m\n\u001b[0;32m     32\u001b[0m \n\u001b[0;32m     33\u001b[0m \u001b[38;5;66;03m# Obj1 = ProjectBlueprint()\u001b[39;00m\n\u001b[1;32m---> 34\u001b[0m Obj1 \u001b[38;5;241m=\u001b[39m \u001b[43mProjectAPI\u001b[49m\u001b[43m(\u001b[49m\u001b[43m)\u001b[49m\n\u001b[0;32m     35\u001b[0m Obj1\u001b[38;5;241m.\u001b[39mforget_pass()\n",
      "\u001b[1;31mTypeError\u001b[0m: Can't instantiate abstract class ProjectAPI with abstract method login"
     ]
    }
   ],
   "source": [
    "class ProjectBlueprint(ABC): # Abstract Class\n",
    "    @abstractmethod          # Decorator\n",
    "    def registration(self):  # Abstract Method\n",
    "        pass\n",
    "    \n",
    "    @abstractmethod\n",
    "    def login(self):\n",
    "        pass\n",
    "    \n",
    "    @abstractmethod\n",
    "    def forget_pass(self):\n",
    "        pass\n",
    "    \n",
    "    def process_documents(self): # Normal method\n",
    "        pass\n",
    "    \n",
    "class ProjectAPI(ProjectBlueprint):\n",
    "    def registration(self):\n",
    "        print(\"This is registration API \")\n",
    "        \n",
    "#     def login(self):\n",
    "#         print(\"This is login API\")\n",
    "        \n",
    "    def forget_pass(self):\n",
    "        print(\"This is forget password API\")\n",
    "        \n",
    "#     def process_documents(self):\n",
    "#         print(\"Process document API\")\n",
    "        \n",
    "#     def result(self):\n",
    "#         print(\"Result API\")\n",
    "\n",
    "# Obj1 = ProjectBlueprint()\n",
    "Obj1 = ProjectAPI()\n",
    "Obj1.forget_pass()"
   ]
  },
  {
   "cell_type": "code",
   "execution_count": 30,
   "id": "a558ca82",
   "metadata": {},
   "outputs": [
    {
     "name": "stdout",
     "output_type": "stream",
     "text": [
      "This is forget password API\n"
     ]
    }
   ],
   "source": [
    "class ProjectBlueprint(ABC): # Abstract Class\n",
    "    @abstractmethod          # Decorator\n",
    "    def registration(self):  # Abstract Method\n",
    "        pass\n",
    "    \n",
    "    @abstractmethod\n",
    "    def login(self):\n",
    "        pass\n",
    "    \n",
    "    @abstractmethod\n",
    "    def forget_pass(self):\n",
    "        pass\n",
    "    \n",
    "    def process_documents(self): # Normal method\n",
    "        pass\n",
    "    \n",
    "class ProjectAPI(ProjectBlueprint):\n",
    "    def registration(self):\n",
    "        print(\"This is registration API \")\n",
    "        \n",
    "    def login(self):\n",
    "        print(\"This is login API\")\n",
    "        \n",
    "    def forget_pass(self):\n",
    "        print(\"This is forget password API\")\n",
    "        \n",
    "#     def process_documents(self):\n",
    "#         print(\"Process document API\")\n",
    "        \n",
    "#     def result(self):\n",
    "#         print(\"Result API\")\n",
    "\n",
    "# Obj1 = ProjectBlueprint()\n",
    "Obj1 = ProjectAPI()\n",
    "Obj1.forget_pass()"
   ]
  },
  {
   "cell_type": "code",
   "execution_count": 33,
   "id": "e78cf379",
   "metadata": {},
   "outputs": [
    {
     "name": "stdout",
     "output_type": "stream",
     "text": [
      "Cube __init__ Method\n",
      "The volume of a Cube = 125\n"
     ]
    }
   ],
   "source": [
    "class Shape(ABC):\n",
    "    @abstractmethod\n",
    "    def volume(self):\n",
    "        pass\n",
    "    \n",
    "    def area(self):\n",
    "        pass\n",
    "    \n",
    "class Cube(Shape):\n",
    "    def __init__(self,side):\n",
    "        print(\"Cube __init__ Method\")\n",
    "        self.side = side\n",
    "        \n",
    "    def volume(self):\n",
    "        val = self.side ** 3\n",
    "        print(f\"The volume of a Cube = {val}\")\n",
    "        \n",
    "c1 = Cube(5)\n",
    "c1.volume()"
   ]
  },
  {
   "cell_type": "code",
   "execution_count": 34,
   "id": "68bf5c70",
   "metadata": {},
   "outputs": [
    {
     "ename": "TypeError",
     "evalue": "Can't instantiate abstract class Cube with abstract method area",
     "output_type": "error",
     "traceback": [
      "\u001b[1;31m---------------------------------------------------------------------------\u001b[0m",
      "\u001b[1;31mTypeError\u001b[0m                                 Traceback (most recent call last)",
      "Input \u001b[1;32mIn [34]\u001b[0m, in \u001b[0;36m<cell line: 18>\u001b[1;34m()\u001b[0m\n\u001b[0;32m     15\u001b[0m         val \u001b[38;5;241m=\u001b[39m \u001b[38;5;28mself\u001b[39m\u001b[38;5;241m.\u001b[39mside \u001b[38;5;241m*\u001b[39m\u001b[38;5;241m*\u001b[39m \u001b[38;5;241m3\u001b[39m\n\u001b[0;32m     16\u001b[0m         \u001b[38;5;28mprint\u001b[39m(\u001b[38;5;124mf\u001b[39m\u001b[38;5;124m\"\u001b[39m\u001b[38;5;124mThe volume of a Cube = \u001b[39m\u001b[38;5;132;01m{\u001b[39;00mval\u001b[38;5;132;01m}\u001b[39;00m\u001b[38;5;124m\"\u001b[39m)\n\u001b[1;32m---> 18\u001b[0m c1 \u001b[38;5;241m=\u001b[39m \u001b[43mCube\u001b[49m\u001b[43m(\u001b[49m\u001b[38;5;241;43m5\u001b[39;49m\u001b[43m)\u001b[49m\n\u001b[0;32m     19\u001b[0m c1\u001b[38;5;241m.\u001b[39mvolume()\n",
      "\u001b[1;31mTypeError\u001b[0m: Can't instantiate abstract class Cube with abstract method area"
     ]
    }
   ],
   "source": [
    "class Shape(ABC):\n",
    "    @abstractmethod\n",
    "    def volume(self):\n",
    "        pass\n",
    "    @abstractmethod\n",
    "    def area(self):\n",
    "        pass\n",
    "    \n",
    "class Cube(Shape):\n",
    "    def __init__(self,side):\n",
    "        print(\"Cube __init__ Method\")\n",
    "        self.side = side\n",
    "        \n",
    "    def volume(self):\n",
    "        val = self.side ** 3\n",
    "        print(f\"The volume of a Cube = {val}\")\n",
    "        \n",
    "c1 = Cube(5)\n",
    "c1.volume()"
   ]
  },
  {
   "cell_type": "code",
   "execution_count": 36,
   "id": "b2f8e573",
   "metadata": {},
   "outputs": [
    {
     "name": "stdout",
     "output_type": "stream",
     "text": [
      "Cube __init__ Method\n",
      "The volume of a Cube = 125\n",
      "The area of a Cube = 150\n"
     ]
    }
   ],
   "source": [
    "class Shape(ABC):\n",
    "    @abstractmethod\n",
    "    def volume(self):\n",
    "        pass\n",
    "    @abstractmethod\n",
    "    def area(self):\n",
    "        pass\n",
    "    \n",
    "class Cube(Shape):\n",
    "    def __init__(self,side):\n",
    "        print(\"Cube __init__ Method\")\n",
    "        self.side = side\n",
    "        \n",
    "    def volume(self):\n",
    "        val = self.side ** 3\n",
    "        print(f\"The volume of a Cube = {val}\")\n",
    "        \n",
    "    def area(self):\n",
    "        area_cube = self.side * self.side * 6\n",
    "        print(f\"The area of a Cube = {area_cube}\")\n",
    "        \n",
    "c1 = Cube(5)\n",
    "c1.volume()\n",
    "c1.area()"
   ]
  },
  {
   "cell_type": "code",
   "execution_count": 39,
   "id": "32065f3d",
   "metadata": {},
   "outputs": [
    {
     "ename": "TypeError",
     "evalue": "Can't instantiate abstract class Cube with abstract method area",
     "output_type": "error",
     "traceback": [
      "\u001b[1;31m---------------------------------------------------------------------------\u001b[0m",
      "\u001b[1;31mTypeError\u001b[0m                                 Traceback (most recent call last)",
      "Input \u001b[1;32mIn [39]\u001b[0m, in \u001b[0;36m<cell line: 26>\u001b[1;34m()\u001b[0m\n\u001b[0;32m     23\u001b[0m     \u001b[38;5;28;01mdef\u001b[39;00m \u001b[38;5;21mprint_side\u001b[39m(\u001b[38;5;28mself\u001b[39m):\n\u001b[0;32m     24\u001b[0m         \u001b[38;5;28mprint\u001b[39m(\u001b[38;5;124mf\u001b[39m\u001b[38;5;124m\"\u001b[39m\u001b[38;5;124mThe side of a cube = \u001b[39m\u001b[38;5;132;01m{\u001b[39;00m\u001b[38;5;28mself\u001b[39m\u001b[38;5;241m.\u001b[39mside\u001b[38;5;132;01m}\u001b[39;00m\u001b[38;5;124m\"\u001b[39m)\n\u001b[1;32m---> 26\u001b[0m c1 \u001b[38;5;241m=\u001b[39m \u001b[43mCube\u001b[49m\u001b[43m(\u001b[49m\u001b[38;5;241;43m5\u001b[39;49m\u001b[43m)\u001b[49m\n\u001b[0;32m     27\u001b[0m c1\u001b[38;5;241m.\u001b[39mprint_side()\n\u001b[0;32m     28\u001b[0m c1\u001b[38;5;241m.\u001b[39mvolume()\n",
      "\u001b[1;31mTypeError\u001b[0m: Can't instantiate abstract class Cube with abstract method area"
     ]
    }
   ],
   "source": [
    "class Shape(ABC):\n",
    "    @abstractmethod\n",
    "    def volume(self):\n",
    "        pass\n",
    "    @abstractmethod\n",
    "    def area(self):\n",
    "        pass\n",
    "    \n",
    "class Cube(Shape):\n",
    "    def __init__(self,side):\n",
    "        print(\"Cube __init__ Method\")\n",
    "        self.side = side\n",
    "        \n",
    "    def volume(self):\n",
    "        val = self.side ** 3\n",
    "        print(f\"The volume of a Cube = {val}\")\n",
    "        \n",
    "#     def area(self):\n",
    "#         area_cube = self.side * self.side * 6\n",
    "#         print(f\"The area of a Cube = {area_cube}\")\n",
    "        \n",
    "        \n",
    "    def print_side(self):\n",
    "        print(f\"The side of a cube = {self.side}\")\n",
    "        \n",
    "c1 = Cube(5)\n",
    "c1.print_side()\n",
    "c1.volume()\n",
    "c1.area()"
   ]
  },
  {
   "cell_type": "code",
   "execution_count": 40,
   "id": "d2e91151",
   "metadata": {},
   "outputs": [
    {
     "name": "stdout",
     "output_type": "stream",
     "text": [
      "Cube __init__ Method\n",
      "The side of a cube = 5\n",
      "The volume of a Cube = 125\n",
      "The area of a Cube = 150\n"
     ]
    }
   ],
   "source": [
    "class Shape(ABC):\n",
    "    @abstractmethod\n",
    "    def volume(self):\n",
    "        pass\n",
    "    @abstractmethod\n",
    "    def area(self):\n",
    "        pass\n",
    "    \n",
    "class Cube(Shape):\n",
    "    def __init__(self,side):\n",
    "        print(\"Cube __init__ Method\")\n",
    "        self.side = side\n",
    "        \n",
    "    def volume(self):\n",
    "        val = self.side ** 3\n",
    "        print(f\"The volume of a Cube = {val}\")\n",
    "        \n",
    "    def area(self):\n",
    "        area_cube = self.side * self.side * 6\n",
    "        print(f\"The area of a Cube = {area_cube}\")\n",
    "        \n",
    "        \n",
    "    def print_side(self):\n",
    "        print(f\"The side of a cube = {self.side}\")\n",
    "        \n",
    "c1 = Cube(5)\n",
    "c1.print_side()\n",
    "c1.volume()\n",
    "c1.area()"
   ]
  },
  {
   "cell_type": "code",
   "execution_count": null,
   "id": "d2a0996f",
   "metadata": {},
   "outputs": [],
   "source": []
  },
  {
   "cell_type": "code",
   "execution_count": null,
   "id": "553a009e",
   "metadata": {},
   "outputs": [],
   "source": []
  }
 ],
 "metadata": {
  "kernelspec": {
   "display_name": "Python 3 (ipykernel)",
   "language": "python",
   "name": "python3"
  },
  "language_info": {
   "codemirror_mode": {
    "name": "ipython",
    "version": 3
   },
   "file_extension": ".py",
   "mimetype": "text/x-python",
   "name": "python",
   "nbconvert_exporter": "python",
   "pygments_lexer": "ipython3",
   "version": "3.10.8"
  }
 },
 "nbformat": 4,
 "nbformat_minor": 5
}
