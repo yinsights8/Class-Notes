{
 "cells": [
  {
   "cell_type": "code",
   "execution_count": 3,
   "id": "44d55dba",
   "metadata": {},
   "outputs": [
    {
     "name": "stdout",
     "output_type": "stream",
     "text": [
      "Please enter a number :- \n"
     ]
    },
    {
     "ename": "TypeError",
     "evalue": "unsupported operand type(s) for +: 'int' and 'str'",
     "output_type": "error",
     "traceback": [
      "\u001b[1;31m---------------------------------------------------------------------------\u001b[0m",
      "\u001b[1;31mTypeError\u001b[0m                                 Traceback (most recent call last)",
      "Input \u001b[1;32mIn [3]\u001b[0m, in \u001b[0;36m<cell line: 7>\u001b[1;34m()\u001b[0m\n\u001b[0;32m      4\u001b[0m num1 \u001b[38;5;241m=\u001b[39m \u001b[38;5;241m20\u001b[39m\n\u001b[0;32m      5\u001b[0m num2 \u001b[38;5;241m=\u001b[39m \u001b[38;5;28minput\u001b[39m(\u001b[38;5;124m\"\u001b[39m\u001b[38;5;124mPlease enter a number :- \u001b[39m\u001b[38;5;124m\"\u001b[39m)\n\u001b[1;32m----> 7\u001b[0m \u001b[43madd\u001b[49m\u001b[43m(\u001b[49m\u001b[43mnum1\u001b[49m\u001b[43m,\u001b[49m\u001b[43mnum2\u001b[49m\u001b[43m)\u001b[49m\n",
      "Input \u001b[1;32mIn [3]\u001b[0m, in \u001b[0;36madd\u001b[1;34m(num1, num2)\u001b[0m\n\u001b[0;32m      1\u001b[0m \u001b[38;5;28;01mdef\u001b[39;00m \u001b[38;5;21madd\u001b[39m(num1,num2):\n\u001b[1;32m----> 2\u001b[0m     \u001b[38;5;28;01mreturn\u001b[39;00m \u001b[43mnum1\u001b[49m\u001b[43m \u001b[49m\u001b[38;5;241;43m+\u001b[39;49m\u001b[43m \u001b[49m\u001b[43mnum2\u001b[49m\n",
      "\u001b[1;31mTypeError\u001b[0m: unsupported operand type(s) for +: 'int' and 'str'"
     ]
    }
   ],
   "source": [
    "def add(num1,num2):\n",
    "    return num1 + num2\n",
    "\n",
    "num1 = 20\n",
    "num2 = input(\"Please enter a number :- \")\n",
    "\n",
    "add(num1,num2)\n"
   ]
  },
  {
   "cell_type": "markdown",
   "id": "d00d69cd",
   "metadata": {},
   "source": [
    "### try - except block"
   ]
  },
  {
   "cell_type": "code",
   "execution_count": 4,
   "id": "495d35bd",
   "metadata": {},
   "outputs": [
    {
     "name": "stdout",
     "output_type": "stream",
     "text": [
      "Please enter a number :- 1\n",
      "string and intiger can not be cancatenate\n"
     ]
    }
   ],
   "source": [
    "try : \n",
    "    num1 = 20\n",
    "    num2 = input(\"Please enter a number :- \")\n",
    "\n",
    "    add(num1,num2)\n",
    "    \n",
    "except:\n",
    "    print(\"string and intiger can not be cancatenate\")"
   ]
  },
  {
   "cell_type": "code",
   "execution_count": 5,
   "id": "b1cc6610",
   "metadata": {},
   "outputs": [
    {
     "name": "stdout",
     "output_type": "stream",
     "text": [
      "Please enter a number : \n",
      "unsupported operand type(s) for +: 'int' and 'str'\n",
      "\n",
      "string and intiger can not be cancatenate\n"
     ]
    }
   ],
   "source": [
    "try : \n",
    "    num1 = 20\n",
    "    num2 = input(\"Please enter a number : \")\n",
    "\n",
    "    add(num1,num2)\n",
    "    \n",
    "except TypeError as error1:\n",
    "    print(error1)\n",
    "    print()\n",
    "    print(\"string and intiger can not be cancatenate\")"
   ]
  },
  {
   "cell_type": "code",
   "execution_count": null,
   "id": "9ac83a57",
   "metadata": {},
   "outputs": [],
   "source": []
  },
  {
   "cell_type": "code",
   "execution_count": 6,
   "id": "31fd7501",
   "metadata": {},
   "outputs": [
    {
     "name": "stdout",
     "output_type": "stream",
     "text": [
      "unsupported operand type(s) for +: 'int' and 'str'\n",
      "string and intiger can not be cancatenate\n"
     ]
    }
   ],
   "source": [
    "try : \n",
    "    add(num1,num2)   ## at 1st try block found an error\n",
    "    num1 = 20\n",
    "    num2 = input(\"Please enter a number : \")\n",
    "    \n",
    "except TypeError as error1:\n",
    "    print(error1)\n",
    "    \n",
    "    print(\"string and intiger can not be cancatenate\")"
   ]
  },
  {
   "cell_type": "code",
   "execution_count": null,
   "id": "1db9e4bd",
   "metadata": {},
   "outputs": [],
   "source": []
  },
  {
   "cell_type": "code",
   "execution_count": 7,
   "id": "78c22f57",
   "metadata": {},
   "outputs": [
    {
     "name": "stdout",
     "output_type": "stream",
     "text": [
      "value is not found\n"
     ]
    }
   ],
   "source": [
    "try :\n",
    "    print(n)\n",
    "    print(\"hello\")\n",
    "    print(\"guy's\")\n",
    "    \n",
    "except:\n",
    "    print(\"value is not found\")"
   ]
  },
  {
   "cell_type": "code",
   "execution_count": 8,
   "id": "5148ce07",
   "metadata": {},
   "outputs": [
    {
     "name": "stdout",
     "output_type": "stream",
     "text": [
      "hello\n",
      "value is not found\n"
     ]
    }
   ],
   "source": [
    "try :\n",
    "    print(\"hello\")\n",
    "    print(n)   # after this line an error has occcured and the line of code had jumped to the except block\n",
    "    print(\"guy's\")\n",
    "    \n",
    "except:\n",
    "    print(\"value is not found\")"
   ]
  },
  {
   "cell_type": "code",
   "execution_count": 9,
   "id": "2fefb6cb",
   "metadata": {},
   "outputs": [
    {
     "name": "stdout",
     "output_type": "stream",
     "text": [
      "hello\n",
      "guy's\n",
      "value is not found\n"
     ]
    }
   ],
   "source": [
    "try :\n",
    "#     n = 9\n",
    "    print(\"hello\")\n",
    "    print(\"guy's\")\n",
    "    print(n)   # after this line an error has occcured and the line of code had jumped to the except block\n",
    "except:\n",
    "    print(\"value is not found\")"
   ]
  },
  {
   "cell_type": "code",
   "execution_count": 10,
   "id": "8d51082e",
   "metadata": {},
   "outputs": [
    {
     "name": "stdout",
     "output_type": "stream",
     "text": [
      "Please enter a number : 4\n",
      "unsupported operand type(s) for +: 'int' and 'str'\n",
      "\n",
      "string and intiger can not be cancatenate\n"
     ]
    }
   ],
   "source": [
    "try : \n",
    "    num1 = 20\n",
    "    num2 = input(\"Please enter a number : \")\n",
    "\n",
    "    add(num1,num2)\n",
    "    \n",
    "except TypeError as error1:\n",
    "    print(error1)\n",
    "    print()\n",
    "    print(\"string and intiger can not be cancatenate\")"
   ]
  },
  {
   "cell_type": "markdown",
   "id": "3179670f",
   "metadata": {},
   "source": [
    "## - try-except-else statement"
   ]
  },
  {
   "cell_type": "code",
   "execution_count": 12,
   "id": "4de0d41d",
   "metadata": {},
   "outputs": [
    {
     "name": "stdout",
     "output_type": "stream",
     "text": [
      "Please enter a number : 4\n",
      "unsupported operand type(s) for +: 'int' and 'str'\n",
      "\n",
      "string and intiger can not be cancatenate\n"
     ]
    }
   ],
   "source": [
    "try : \n",
    "    num1 = 20\n",
    "    num2 = input(\"Please enter a number : \")\n",
    "\n",
    "    add(num1,num2)\n",
    "    \n",
    "except TypeError as error1:\n",
    "    print(error1)\n",
    "    print()\n",
    "    print(\"string and intiger can not be cancatenate\")\n",
    "    \n",
    "    \n",
    "else:      \n",
    "    print(\"calculation went well\")    \n",
    "# yet this else statement has not occured because there was an exception triggered"
   ]
  },
  {
   "cell_type": "code",
   "execution_count": 15,
   "id": "1c12467c",
   "metadata": {},
   "outputs": [
    {
     "name": "stdout",
     "output_type": "stream",
     "text": [
      "Please enter a number : 4\n",
      "24\n",
      "calculation went well\n"
     ]
    }
   ],
   "source": [
    "try : \n",
    "    num1 = 20\n",
    "    num2 = int(input(\"Please enter a number : \"))\n",
    "\n",
    "    result = add(num1,num2)\n",
    "    print(result)\n",
    "    \n",
    "except TypeError as error1:\n",
    "    print(error1)\n",
    "    print()\n",
    "    print(\"string and intiger can not be cancatenate\")\n",
    "    \n",
    "    \n",
    "else:      \n",
    "    print(\"calculation went well\")    \n",
    "# now there was not error in try block so an else statement has occured "
   ]
  },
  {
   "cell_type": "code",
   "execution_count": null,
   "id": "eebacad9",
   "metadata": {},
   "outputs": [],
   "source": []
  },
  {
   "cell_type": "code",
   "execution_count": 29,
   "id": "ea43d06b",
   "metadata": {},
   "outputs": [
    {
     "name": "stdout",
     "output_type": "stream",
     "text": [
      "___________I am in try block___________\n",
      "Please enter a number : 41\n",
      "\n",
      "_____________i am in else block_____________\n",
      "result of the 20 & 41 is: 61\n",
      "calculation went well\n",
      "\n",
      "_____________i am in Finally block_____________\n",
      "I dont care about you i'll run anyway, mind your bussiness....\n"
     ]
    }
   ],
   "source": [
    "try : \n",
    "    print(\"___________I am in try block___________\")\n",
    "    num1 = 20\n",
    "    num2 = int(input(\"Please enter a number : \"))\n",
    "\n",
    "    result = add(num1,num2)\n",
    "#     print(result)\n",
    "    print()\n",
    "    \n",
    "except TypeError as error1:\n",
    "    print(\"___________I am in except block___________\")\n",
    "    print(error1)\n",
    "    print()\n",
    "    print(\"string and intiger can not be cancatenate\")\n",
    "    \n",
    "    \n",
    "else:      \n",
    "    print(\"_____________i am in else block_____________\")\n",
    "    print(f\"result of the {num1} & {num2} is: {result}\")\n",
    "    print(\"calculation went well\\n\")    \n",
    "\n",
    "finally:\n",
    "    print(\"_____________i am in Finally block_____________\")\n",
    "    print(\"I dont care about you i'll run anyway, mind your bussiness....\")"
   ]
  },
  {
   "cell_type": "code",
   "execution_count": 33,
   "id": "d6e53648",
   "metadata": {},
   "outputs": [
    {
     "name": "stdout",
     "output_type": "stream",
     "text": [
      "___________I am in try block___________\n",
      "Please enter a number : 52\n",
      "\n",
      "___________I am in except block___________\n",
      "unsupported operand type(s) for +: 'int' and 'str'\n",
      "\n",
      "string and intiger can not be cancatenate\n",
      "\n",
      "_____________i am in Finally block_____________\n",
      "I dont care about you i'll run anyway, mind your bussiness....\n"
     ]
    }
   ],
   "source": [
    "try : \n",
    "    print(\"___________I am in try block___________\")\n",
    "    num1 = 20\n",
    "    num2 = input(\"Please enter a number : \")\n",
    "\n",
    "    result = add(num1,num2)\n",
    "#     print(result)\n",
    "    print()\n",
    "    \n",
    "except TypeError as error1:\n",
    "    print(\"\\n___________I am in except block___________\")\n",
    "    print(error1)\n",
    "    print()\n",
    "    print(\"string and intiger can not be cancatenate\\n\")\n",
    "    \n",
    "    \n",
    "else:      \n",
    "    print(\"\\n_____________i am in else block_____________\")\n",
    "    print(f\"result of the {num1} & {num2} is: {result}\")\n",
    "    print(\"calculation went well\\n\")    \n",
    "\n",
    "finally:\n",
    "    print(\"_____________i am in Finally block_____________\")\n",
    "    print(\"I dont care about you i'll run anyway, mind your bussiness....\")"
   ]
  },
  {
   "cell_type": "code",
   "execution_count": null,
   "id": "d337a5f3",
   "metadata": {},
   "outputs": [],
   "source": []
  },
  {
   "cell_type": "code",
   "execution_count": null,
   "id": "1e2d423c",
   "metadata": {},
   "outputs": [],
   "source": []
  },
  {
   "cell_type": "markdown",
   "id": "96e6da44",
   "metadata": {},
   "source": [
    "# opening a file "
   ]
  },
  {
   "cell_type": "code",
   "execution_count": 9,
   "id": "b07669a6",
   "metadata": {},
   "outputs": [
    {
     "name": "stdout",
     "output_type": "stream",
     "text": [
      "1st trying...\n",
      "\n",
      "i am in else block\n",
      "hello beta...\n",
      "\n",
      "file the file has been created\n"
     ]
    }
   ],
   "source": [
    "try :\n",
    "    print(\"1st trying...\\n\")\n",
    "    \n",
    "    with open(\"next.txt\",'r') as file:\n",
    "        content = file.read()\n",
    "        \n",
    "        \n",
    "except FileNotFoundError as error:\n",
    "    print(error)\n",
    "    with open(\"next.txt\",\"w\") as file :\n",
    "        file.write(\"hello beta...\")\n",
    "    print(\"\\n\")\n",
    "        \n",
    "else:\n",
    "    print(\"i am in else block\")\n",
    "    print(content)\n",
    "    \n",
    "finally:\n",
    "    print(\"\\nfile the file has been created\")"
   ]
  },
  {
   "cell_type": "code",
   "execution_count": 10,
   "id": "363f6b87",
   "metadata": {},
   "outputs": [
    {
     "ename": "FileNotFoundError",
     "evalue": "[Errno 2] No such file or directory: 'next2.txt'",
     "output_type": "error",
     "traceback": [
      "\u001b[1;31m---------------------------------------------------------------------------\u001b[0m",
      "\u001b[1;31mFileNotFoundError\u001b[0m                         Traceback (most recent call last)",
      "Input \u001b[1;32mIn [10]\u001b[0m, in \u001b[0;36m<cell line: 1>\u001b[1;34m()\u001b[0m\n\u001b[1;32m----> 1\u001b[0m \u001b[38;5;28;01mwith\u001b[39;00m \u001b[38;5;28;43mopen\u001b[39;49m\u001b[43m(\u001b[49m\u001b[38;5;124;43m\"\u001b[39;49m\u001b[38;5;124;43mnext2.txt\u001b[39;49m\u001b[38;5;124;43m\"\u001b[39;49m\u001b[43m,\u001b[49m\u001b[38;5;124;43m'\u001b[39;49m\u001b[38;5;124;43mr\u001b[39;49m\u001b[38;5;124;43m'\u001b[39;49m\u001b[43m)\u001b[49m \u001b[38;5;28;01mas\u001b[39;00m file:\n\u001b[0;32m      2\u001b[0m       content \u001b[38;5;241m=\u001b[39m file\u001b[38;5;241m.\u001b[39mread()\n",
      "\u001b[1;31mFileNotFoundError\u001b[0m: [Errno 2] No such file or directory: 'next2.txt'"
     ]
    }
   ],
   "source": [
    "  with open(\"next2.txt\",'r') as file:\n",
    "        content = file.read()"
   ]
  },
  {
   "cell_type": "code",
   "execution_count": 13,
   "id": "46a0b004",
   "metadata": {},
   "outputs": [
    {
     "name": "stdout",
     "output_type": "stream",
     "text": [
      "1st trying...\n",
      "\n",
      "i am in else block\n",
      "hello beta...\n",
      "\n",
      "file the file has been created\n"
     ]
    }
   ],
   "source": [
    "## Second iteration:- \n",
    "try :\n",
    "    print(\"1st trying...\\n\")\n",
    "    \n",
    "    with open(\"next2.txt\",'r') as file:\n",
    "        content = file.read()\n",
    "        \n",
    "        \n",
    "except FileNotFoundError as error:\n",
    "    print(error)\n",
    "    with open(\"next2.txt\",\"w\") as file :\n",
    "        file.write(\"hello beta...\")\n",
    "    print(\"\\n\")\n",
    "        \n",
    "else:\n",
    "    print(\"i am in else block\")\n",
    "    print(content)\n",
    "    \n",
    "finally:\n",
    "    print(\"\\nfile the file has been created\")"
   ]
  },
  {
   "cell_type": "code",
   "execution_count": 14,
   "id": "c2dcfe03",
   "metadata": {},
   "outputs": [
    {
     "name": "stdout",
     "output_type": "stream",
     "text": [
      "1st trying...\n",
      "\n",
      "i am in else block\n",
      "hello beta...\n",
      "\n",
      "file the file has been created\n"
     ]
    }
   ],
   "source": [
    "## first iteration:- \n",
    "try :\n",
    "    print(\"1st trying...\\n\")\n",
    "    \n",
    "    with open(\"next2.txt\",'r') as file:\n",
    "        content = file.read()\n",
    "        \n",
    "        \n",
    "except FileNotFoundError as error:\n",
    "    print(error)\n",
    "    with open(\"next2.txt\",\"w\") as file :\n",
    "        file.write(\"hello beta...\")\n",
    "    print(\"\\n\")\n",
    "        \n",
    "else:\n",
    "    print(\"i am in else block\")\n",
    "    print(content)\n",
    "    \n",
    "finally:\n",
    "    print(\"\\nfile the file has been created\")"
   ]
  },
  {
   "cell_type": "code",
   "execution_count": null,
   "id": "651031da",
   "metadata": {},
   "outputs": [],
   "source": []
  },
  {
   "cell_type": "code",
   "execution_count": 18,
   "id": "40c87e03",
   "metadata": {},
   "outputs": [
    {
     "name": "stdout",
     "output_type": "stream",
     "text": [
      "1st trying...\n",
      "\n",
      "[Errno 2] No such file or directory: 'file2.txt'\n",
      "\n",
      "\n",
      "\n",
      "file the file has been created\n",
      "\n",
      "1st trying...\n",
      "\n",
      "i am in else block\n",
      "hello beta...\n",
      "\n",
      "file the file has been created\n",
      "\n"
     ]
    }
   ],
   "source": [
    "for i in range(2): \n",
    "    try :\n",
    "        print(\"1st trying...\\n\")\n",
    "\n",
    "        with open(\"file2.txt\",'r') as file:\n",
    "            content = file.read()\n",
    "\n",
    "    except FileNotFoundError as error:\n",
    "        print(error)\n",
    "        with open(\"file2.txt\",\"w\") as file :\n",
    "            file.write(\"hello beta...\")\n",
    "            \n",
    "    else:\n",
    "        print(\"i am in else block\")\n",
    "        print(content)\n",
    "\n",
    "    finally:\n",
    "        print(\"\\nfile the file has been created\")\n",
    "        \n",
    "    print()"
   ]
  },
  {
   "cell_type": "code",
   "execution_count": 1,
   "id": "a0c0ecab",
   "metadata": {},
   "outputs": [],
   "source": [
    "import traceback"
   ]
  },
  {
   "cell_type": "code",
   "execution_count": 6,
   "id": "e2122b70",
   "metadata": {},
   "outputs": [
    {
     "name": "stdout",
     "output_type": "stream",
     "text": [
      "currently i am in try Block\n",
      "\n",
      "Error found in try block \n",
      "now i m in except block\n"
     ]
    },
    {
     "name": "stderr",
     "output_type": "stream",
     "text": [
      "Traceback (most recent call last):\n",
      "  File \"C:\\Users\\yashd\\AppData\\Local\\Temp\\ipykernel_3136\\2089224365.py\", line 3, in <cell line: 1>\n",
      "    print(var)                           # at second teh error will be there\n",
      "NameError: name 'var' is not defined\n"
     ]
    }
   ],
   "source": [
    "try :\n",
    "    print(\"currently i am in try Block\\n\") # at first this code will execute \n",
    "    print(var)                             # at second teh error will be there\n",
    "    print(\"hello\")                        \n",
    "except:\n",
    "    print(\"Error found in try block \\nnow i m in except block\")\n",
    "    traceback.print_exc()                # if there is error in try block then traceback error will execute"
   ]
  },
  {
   "cell_type": "code",
   "execution_count": 9,
   "id": "1f9ee4cf",
   "metadata": {},
   "outputs": [
    {
     "name": "stdout",
     "output_type": "stream",
     "text": [
      "currently i am in try Block\n",
      "\n",
      "Error found in try block \n",
      "now i m in except block\n"
     ]
    },
    {
     "name": "stderr",
     "output_type": "stream",
     "text": [
      "Traceback (most recent call last):\n",
      "  File \"C:\\Users\\yashd\\AppData\\Local\\Temp\\ipykernel_3136\\3604054277.py\", line 3, in <cell line: 1>\n",
      "    print(var)                             # at second teh error will be there\n",
      "NameError: name 'var' is not defined\n"
     ]
    }
   ],
   "source": [
    "try :\n",
    "    print(\"currently i am in try Block\\n\") # at first this code will execute \n",
    "    print(var)                             # at second teh error will be there\n",
    "    print(\"hello\")                        \n",
    "except:\n",
    "    print(\"Error found in try block \\nnow i m in except block\")\n",
    "    traceback.print_exc()               # if there is error in try block then traceback error will execute"
   ]
  },
  {
   "cell_type": "code",
   "execution_count": 14,
   "id": "fc4adc43",
   "metadata": {},
   "outputs": [
    {
     "name": "stdout",
     "output_type": "stream",
     "text": [
      "except block\n",
      "file already exits\n"
     ]
    },
    {
     "name": "stderr",
     "output_type": "stream",
     "text": [
      "Traceback (most recent call last):\n",
      "  File \"C:\\Users\\yashd\\AppData\\Local\\Temp\\ipykernel_3136\\2375005724.py\", line 4, in <cell line: 3>\n",
      "    with open(\"quote.txt\", \"x\") as quote_file:\n",
      "FileExistsError: [Errno 17] File exists: 'quote.txt'\n"
     ]
    }
   ],
   "source": [
    "text = \"work hard like you never did before\"\n",
    "\n",
    "try :\n",
    "    with open(\"quote.txt\", \"x\") as quote_file:\n",
    "        quote_file.write(text)\n",
    "    print(\"at first file created !\")\n",
    "except FileExistsError as error :\n",
    "    print(\"except block\")\n",
    "    print(\"file already exits\")\n",
    "    traceback.print_exc()"
   ]
  },
  {
   "cell_type": "code",
   "execution_count": 17,
   "id": "f141d30a",
   "metadata": {},
   "outputs": [
    {
     "ename": "ZeroDivisionError",
     "evalue": "Numarator of denaminator should not be zero",
     "output_type": "error",
     "traceback": [
      "\u001b[1;31m---------------------------------------------------------------------------\u001b[0m",
      "\u001b[1;31mZeroDivisionError\u001b[0m                         Traceback (most recent call last)",
      "Input \u001b[1;32mIn [17]\u001b[0m, in \u001b[0;36m<cell line: 3>\u001b[1;34m()\u001b[0m\n\u001b[0;32m      3\u001b[0m \u001b[38;5;28;01mtry\u001b[39;00m :\n\u001b[1;32m----> 4\u001b[0m     c \u001b[38;5;241m=\u001b[39m \u001b[43ma\u001b[49m\u001b[38;5;241;43m/\u001b[39;49m\u001b[43mb\u001b[49m\n\u001b[0;32m      5\u001b[0m     \u001b[38;5;28mprint\u001b[39m(c)\n",
      "\u001b[1;31mZeroDivisionError\u001b[0m: division by zero",
      "\nDuring handling of the above exception, another exception occurred:\n",
      "\u001b[1;31mZeroDivisionError\u001b[0m                         Traceback (most recent call last)",
      "Input \u001b[1;32mIn [17]\u001b[0m, in \u001b[0;36m<cell line: 3>\u001b[1;34m()\u001b[0m\n\u001b[0;32m      5\u001b[0m     \u001b[38;5;28mprint\u001b[39m(c)\n\u001b[0;32m      6\u001b[0m \u001b[38;5;28;01mexcept\u001b[39;00m \u001b[38;5;167;01mZeroDivisionError\u001b[39;00m \u001b[38;5;28;01mas\u001b[39;00m error1:\n\u001b[1;32m----> 7\u001b[0m     \u001b[38;5;28;01mraise\u001b[39;00m \u001b[38;5;167;01mZeroDivisionError\u001b[39;00m(\u001b[38;5;124m\"\u001b[39m\u001b[38;5;124mNumarator of denaminator should not be zero\u001b[39m\u001b[38;5;124m\"\u001b[39m)\n",
      "\u001b[1;31mZeroDivisionError\u001b[0m: Numarator of denaminator should not be zero"
     ]
    }
   ],
   "source": [
    "a = 20\n",
    "b = 0\n",
    "try :\n",
    "    c = a/b\n",
    "    print(c)\n",
    "except ZeroDivisionError as error1:\n",
    "    raise ZeroDivisionError(\"Numarator of denaminator should not be zero\")\n",
    "    "
   ]
  },
  {
   "cell_type": "code",
   "execution_count": 23,
   "id": "dd5fe043",
   "metadata": {},
   "outputs": [
    {
     "name": "stdout",
     "output_type": "stream",
     "text": [
      "division by zero\n"
     ]
    }
   ],
   "source": [
    "a = 20\n",
    "b = 0\n",
    "try :\n",
    "    c = a/b\n",
    "    print(c)\n",
    "except ZeroDivisionError as error0:\n",
    "    print(error0)"
   ]
  },
  {
   "cell_type": "code",
   "execution_count": 29,
   "id": "44714f6e",
   "metadata": {},
   "outputs": [
    {
     "name": "stdout",
     "output_type": "stream",
     "text": [
      "denominator should not be zero\n"
     ]
    },
    {
     "ename": "ZeroDivisionError",
     "evalue": "division by zero",
     "output_type": "error",
     "traceback": [
      "\u001b[1;31m---------------------------------------------------------------------------\u001b[0m",
      "\u001b[1;31mZeroDivisionError\u001b[0m                         Traceback (most recent call last)",
      "Input \u001b[1;32mIn [29]\u001b[0m, in \u001b[0;36m<cell line: 3>\u001b[1;34m()\u001b[0m\n\u001b[0;32m      6\u001b[0m \u001b[38;5;28;01mexcept\u001b[39;00m \u001b[38;5;167;01mZeroDivisionError\u001b[39;00m \u001b[38;5;28;01mas\u001b[39;00m error0:\n\u001b[0;32m      7\u001b[0m     \u001b[38;5;28mprint\u001b[39m(\u001b[38;5;124m\"\u001b[39m\u001b[38;5;124mdenominator should not be zero\u001b[39m\u001b[38;5;124m\"\u001b[39m) \u001b[38;5;66;03m# at first this line will print \u001b[39;00m\n\u001b[1;32m----> 8\u001b[0m     \u001b[38;5;28;01mraise\u001b[39;00m error0\n",
      "Input \u001b[1;32mIn [29]\u001b[0m, in \u001b[0;36m<cell line: 3>\u001b[1;34m()\u001b[0m\n\u001b[0;32m      2\u001b[0m b \u001b[38;5;241m=\u001b[39m \u001b[38;5;241m0\u001b[39m\n\u001b[0;32m      3\u001b[0m \u001b[38;5;28;01mtry\u001b[39;00m :\n\u001b[1;32m----> 4\u001b[0m     c \u001b[38;5;241m=\u001b[39m \u001b[43ma\u001b[49m\u001b[38;5;241;43m/\u001b[39;49m\u001b[43mb\u001b[49m\n\u001b[0;32m      5\u001b[0m     \u001b[38;5;28mprint\u001b[39m(c)\n\u001b[0;32m      6\u001b[0m \u001b[38;5;28;01mexcept\u001b[39;00m \u001b[38;5;167;01mZeroDivisionError\u001b[39;00m \u001b[38;5;28;01mas\u001b[39;00m error0:\n",
      "\u001b[1;31mZeroDivisionError\u001b[0m: division by zero"
     ]
    }
   ],
   "source": [
    "a = 20\n",
    "b = 0\n",
    "try :\n",
    "    c = a/b\n",
    "    print(c)\n",
    "except ZeroDivisionError as error0:\n",
    "    print(\"denominator should not be zero\") # at first this line will print \n",
    "    raise error0                             # Then the eror will be raised  \n",
    "   "
   ]
  },
  {
   "cell_type": "code",
   "execution_count": null,
   "id": "6165347d",
   "metadata": {},
   "outputs": [],
   "source": []
  },
  {
   "cell_type": "code",
   "execution_count": 32,
   "id": "85672468",
   "metadata": {},
   "outputs": [
    {
     "name": "stdout",
     "output_type": "stream",
     "text": [
      "denominator should not be zero\n"
     ]
    },
    {
     "name": "stderr",
     "output_type": "stream",
     "text": [
      "Traceback (most recent call last):\n",
      "  File \"C:\\Users\\yashd\\AppData\\Local\\Temp\\ipykernel_3136\\481440991.py\", line 4, in <cell line: 3>\n",
      "    c = a/b\n",
      "ZeroDivisionError: division by zero\n"
     ]
    }
   ],
   "source": [
    "a = 20\n",
    "b = 0\n",
    "try :\n",
    "    c = a/b\n",
    "    print(c)\n",
    "except ZeroDivisionError as error0:\n",
    "    print(\"denominator should not be zero\") # at first this line will print \n",
    "    traceback.print_exc()                   # Then the eror will be raised  \n",
    "   "
   ]
  },
  {
   "cell_type": "code",
   "execution_count": null,
   "id": "c0d19223",
   "metadata": {},
   "outputs": [],
   "source": []
  }
 ],
 "metadata": {
  "kernelspec": {
   "display_name": "Python 3 (ipykernel)",
   "language": "python",
   "name": "python3"
  },
  "language_info": {
   "codemirror_mode": {
    "name": "ipython",
    "version": 3
   },
   "file_extension": ".py",
   "mimetype": "text/x-python",
   "name": "python",
   "nbconvert_exporter": "python",
   "pygments_lexer": "ipython3",
   "version": "3.9.12"
  }
 },
 "nbformat": 4,
 "nbformat_minor": 5
}
