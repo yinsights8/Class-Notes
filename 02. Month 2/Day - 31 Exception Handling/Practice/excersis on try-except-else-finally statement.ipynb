{
 "cells": [
  {
   "cell_type": "markdown",
   "id": "6f9db6b0",
   "metadata": {},
   "source": [
    "### Problem 1\n",
    "### Handle the exception thrown by the code below by using try and except blocks."
   ]
  },
  {
   "cell_type": "code",
   "execution_count": 1,
   "id": "bc96c8e9",
   "metadata": {},
   "outputs": [
    {
     "ename": "TypeError",
     "evalue": "unsupported operand type(s) for ** or pow(): 'str' and 'int'",
     "output_type": "error",
     "traceback": [
      "\u001b[1;31m---------------------------------------------------------------------------\u001b[0m",
      "\u001b[1;31mTypeError\u001b[0m                                 Traceback (most recent call last)",
      "Input \u001b[1;32mIn [1]\u001b[0m, in \u001b[0;36m<cell line: 1>\u001b[1;34m()\u001b[0m\n\u001b[0;32m      1\u001b[0m \u001b[38;5;28;01mfor\u001b[39;00m i \u001b[38;5;129;01min\u001b[39;00m [\u001b[38;5;124m'\u001b[39m\u001b[38;5;124ma\u001b[39m\u001b[38;5;124m'\u001b[39m,\u001b[38;5;124m'\u001b[39m\u001b[38;5;124mb\u001b[39m\u001b[38;5;124m'\u001b[39m,\u001b[38;5;124m'\u001b[39m\u001b[38;5;124mc\u001b[39m\u001b[38;5;124m'\u001b[39m]:\n\u001b[1;32m----> 2\u001b[0m     \u001b[38;5;28mprint\u001b[39m(\u001b[43mi\u001b[49m\u001b[38;5;241;43m*\u001b[39;49m\u001b[38;5;241;43m*\u001b[39;49m\u001b[38;5;241;43m2\u001b[39;49m)\n",
      "\u001b[1;31mTypeError\u001b[0m: unsupported operand type(s) for ** or pow(): 'str' and 'int'"
     ]
    }
   ],
   "source": [
    "for i in ['a','b','c']:\n",
    "    print(i**2)"
   ]
  },
  {
   "cell_type": "code",
   "execution_count": 3,
   "id": "7bf3f4d8",
   "metadata": {},
   "outputs": [
    {
     "name": "stdout",
     "output_type": "stream",
     "text": [
      "exponent operator no supported\n",
      "exponent operator no supported\n",
      "exponent operator no supported\n"
     ]
    }
   ],
   "source": [
    "for i in ['a','b','c']:\n",
    "    try:\n",
    "        print(i**2)\n",
    "    except:\n",
    "        print(\"exponent operator no supported\")"
   ]
  },
  {
   "cell_type": "code",
   "execution_count": 5,
   "id": "52d15e71",
   "metadata": {},
   "outputs": [
    {
     "name": "stdout",
     "output_type": "stream",
     "text": [
      "exponenet sign not support!!\n"
     ]
    }
   ],
   "source": [
    "try :\n",
    "    for i in ['a','b','c']:\n",
    "        print(i**2)\n",
    "except:\n",
    "    print(\"exponenet sign not support!!\")\n",
    "    \n",
    "    \n",
    "else:\n",
    "    print(\"calculation went well\")"
   ]
  },
  {
   "cell_type": "code",
   "execution_count": 6,
   "id": "9f30089b",
   "metadata": {},
   "outputs": [
    {
     "name": "stdout",
     "output_type": "stream",
     "text": [
      "aa\n",
      "bb\n",
      "cc\n",
      "calculation went well\n"
     ]
    }
   ],
   "source": [
    "try :\n",
    "    for i in ['a','b','c']:\n",
    "        print(i*2)\n",
    "except:\n",
    "    print(\"exponenet sign not support!!\")\n",
    "    \n",
    "    \n",
    "else:\n",
    "    print(\"calculation went well\")"
   ]
  },
  {
   "cell_type": "markdown",
   "id": "c59c7300",
   "metadata": {},
   "source": [
    "## Problem 2\n",
    "## Handle the exception thrown by the code below by using try and except blocks. Then use a finally block to print 'All Done.'\n"
   ]
  },
  {
   "cell_type": "code",
   "execution_count": 7,
   "id": "d3399cd7",
   "metadata": {},
   "outputs": [
    {
     "ename": "ZeroDivisionError",
     "evalue": "division by zero",
     "output_type": "error",
     "traceback": [
      "\u001b[1;31m---------------------------------------------------------------------------\u001b[0m",
      "\u001b[1;31mZeroDivisionError\u001b[0m                         Traceback (most recent call last)",
      "Input \u001b[1;32mIn [7]\u001b[0m, in \u001b[0;36m<cell line: 4>\u001b[1;34m()\u001b[0m\n\u001b[0;32m      1\u001b[0m x \u001b[38;5;241m=\u001b[39m \u001b[38;5;241m5\u001b[39m\n\u001b[0;32m      2\u001b[0m y \u001b[38;5;241m=\u001b[39m \u001b[38;5;241m0\u001b[39m\n\u001b[1;32m----> 4\u001b[0m z \u001b[38;5;241m=\u001b[39m \u001b[43mx\u001b[49m\u001b[38;5;241;43m/\u001b[39;49m\u001b[43my\u001b[49m\n",
      "\u001b[1;31mZeroDivisionError\u001b[0m: division by zero"
     ]
    }
   ],
   "source": [
    "\n",
    "x = 5\n",
    "y = 0\n",
    "\n",
    "z = x/y"
   ]
  },
  {
   "cell_type": "code",
   "execution_count": 8,
   "id": "ae3c4eee",
   "metadata": {},
   "outputs": [
    {
     "name": "stdout",
     "output_type": "stream",
     "text": [
      "can not devide zero\n",
      "i always run \n"
     ]
    }
   ],
   "source": [
    "x = 5\n",
    "y = 0\n",
    "try :\n",
    "    z = x/y\n",
    "    print(z)\n",
    "    \n",
    "except:\n",
    "    print(\"can not devide zero\")\n",
    "    \n",
    "finally:\n",
    "    print(\"i always run \")"
   ]
  },
  {
   "cell_type": "markdown",
   "id": "769da828",
   "metadata": {},
   "source": [
    "## Problem 3\n",
    "## Write a function that asks for an integer and prints the square of it. Use a while loop with a try, except, else block to account for incorrect inputs."
   ]
  },
  {
   "cell_type": "code",
   "execution_count": 7,
   "id": "06d967f2",
   "metadata": {},
   "outputs": [
    {
     "name": "stdout",
     "output_type": "stream",
     "text": [
      "Please enter a number: k\n",
      "enter correct number.\n",
      "\n",
      "Please enter a number: q\n",
      "enter correct number.\n",
      "\n",
      "Please enter a number: a\n",
      "enter correct number.\n",
      "\n",
      "Please enter a number: d\n",
      "enter correct number.\n",
      "\n",
      "Please enter a number: 2\n",
      "\n",
      "I am in else block\n",
      "squaring a number is successfull\n",
      "the square of a 2 is:  4\n"
     ]
    }
   ],
   "source": [
    "while True:\n",
    "    try:\n",
    "        num = int(input(\"Please enter a number: \"))\n",
    "        print()\n",
    "    except:\n",
    "        print(\"enter correct number.\\n\")\n",
    "        continue\n",
    "    else:\n",
    "        print(\"I am in else block\")\n",
    "        print(\"squaring a number is successfull\")\n",
    "        print(f\"the square of a {num} is: \",num**2)\n",
    "        break"
   ]
  },
  {
   "cell_type": "code",
   "execution_count": null,
   "id": "e21fc58c",
   "metadata": {},
   "outputs": [],
   "source": []
  },
  {
   "cell_type": "code",
   "execution_count": null,
   "id": "f08f3adb",
   "metadata": {},
   "outputs": [],
   "source": []
  }
 ],
 "metadata": {
  "kernelspec": {
   "display_name": "Python 3 (ipykernel)",
   "language": "python",
   "name": "python3"
  },
  "language_info": {
   "codemirror_mode": {
    "name": "ipython",
    "version": 3
   },
   "file_extension": ".py",
   "mimetype": "text/x-python",
   "name": "python",
   "nbconvert_exporter": "python",
   "pygments_lexer": "ipython3",
   "version": "3.9.12"
  }
 },
 "nbformat": 4,
 "nbformat_minor": 5
}
