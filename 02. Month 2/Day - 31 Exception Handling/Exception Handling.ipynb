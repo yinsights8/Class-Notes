{
 "cells": [
  {
   "cell_type": "markdown",
   "id": "3fc46c40",
   "metadata": {},
   "source": [
    "# Exception Handling"
   ]
  },
  {
   "cell_type": "markdown",
   "id": "9a55b55a",
   "metadata": {},
   "source": [
    "### Errors\n",
    "- Attribute Error\n",
    "- NameError\n",
    "- KeyError\n",
    "- ValueError\n",
    "- IndentationError\n",
    "- FileExistError\n",
    "- FileNotFoundError\n",
    "- ZeroDivisionError\n",
    "- TypeError\n",
    "- SyntaxError"
   ]
  },
  {
   "cell_type": "code",
   "execution_count": 1,
   "id": "fad32b2b",
   "metadata": {},
   "outputs": [
    {
     "ename": "IndexError",
     "evalue": "list index out of range",
     "output_type": "error",
     "traceback": [
      "\u001b[1;31m---------------------------------------------------------------------------\u001b[0m",
      "\u001b[1;31mIndexError\u001b[0m                                Traceback (most recent call last)",
      "Input \u001b[1;32mIn [1]\u001b[0m, in \u001b[0;36m<cell line: 2>\u001b[1;34m()\u001b[0m\n\u001b[0;32m      1\u001b[0m li \u001b[38;5;241m=\u001b[39m [\u001b[38;5;241m1\u001b[39m,\u001b[38;5;241m2\u001b[39m,\u001b[38;5;241m3\u001b[39m]\n\u001b[1;32m----> 2\u001b[0m \u001b[43mli\u001b[49m\u001b[43m[\u001b[49m\u001b[38;5;241;43m5\u001b[39;49m\u001b[43m]\u001b[49m\n",
      "\u001b[1;31mIndexError\u001b[0m: list index out of range"
     ]
    }
   ],
   "source": [
    "li = [1,2,3]\n",
    "li[5]"
   ]
  },
  {
   "cell_type": "code",
   "execution_count": 2,
   "id": "83c8bc9f",
   "metadata": {},
   "outputs": [
    {
     "ename": "AttributeError",
     "evalue": "'tuple' object has no attribute 'append'",
     "output_type": "error",
     "traceback": [
      "\u001b[1;31m---------------------------------------------------------------------------\u001b[0m",
      "\u001b[1;31mAttributeError\u001b[0m                            Traceback (most recent call last)",
      "Input \u001b[1;32mIn [2]\u001b[0m, in \u001b[0;36m<cell line: 2>\u001b[1;34m()\u001b[0m\n\u001b[0;32m      1\u001b[0m tu \u001b[38;5;241m=\u001b[39m ()\n\u001b[1;32m----> 2\u001b[0m \u001b[43mtu\u001b[49m\u001b[38;5;241;43m.\u001b[39;49m\u001b[43mappend\u001b[49m(\u001b[38;5;241m100\u001b[39m)\n",
      "\u001b[1;31mAttributeError\u001b[0m: 'tuple' object has no attribute 'append'"
     ]
    }
   ],
   "source": [
    "tu = ()\n",
    "tu.append(100)"
   ]
  },
  {
   "cell_type": "code",
   "execution_count": 3,
   "id": "432b144e",
   "metadata": {},
   "outputs": [
    {
     "ename": "IndentationError",
     "evalue": "expected an indented block after 'for' statement on line 1 (3695896917.py, line 2)",
     "output_type": "error",
     "traceback": [
      "\u001b[1;36m  Input \u001b[1;32mIn [3]\u001b[1;36m\u001b[0m\n\u001b[1;33m    print(i)\u001b[0m\n\u001b[1;37m    ^\u001b[0m\n\u001b[1;31mIndentationError\u001b[0m\u001b[1;31m:\u001b[0m expected an indented block after 'for' statement on line 1\n"
     ]
    }
   ],
   "source": [
    "for i in range(5):\n",
    "print(i) "
   ]
  },
  {
   "cell_type": "code",
   "execution_count": 4,
   "id": "4feb8486",
   "metadata": {},
   "outputs": [
    {
     "ename": "ZeroDivisionError",
     "evalue": "division by zero",
     "output_type": "error",
     "traceback": [
      "\u001b[1;31m---------------------------------------------------------------------------\u001b[0m",
      "\u001b[1;31mZeroDivisionError\u001b[0m                         Traceback (most recent call last)",
      "Input \u001b[1;32mIn [4]\u001b[0m, in \u001b[0;36m<cell line: 1>\u001b[1;34m()\u001b[0m\n\u001b[1;32m----> 1\u001b[0m \u001b[38;5;241;43m10\u001b[39;49m\u001b[38;5;241;43m/\u001b[39;49m\u001b[38;5;241;43m0\u001b[39;49m\n",
      "\u001b[1;31mZeroDivisionError\u001b[0m: division by zero"
     ]
    }
   ],
   "source": [
    "10/0"
   ]
  },
  {
   "cell_type": "code",
   "execution_count": 5,
   "id": "33d827da",
   "metadata": {},
   "outputs": [
    {
     "ename": "FileNotFoundError",
     "evalue": "[Errno 2] No such file or directory: 'New_File.txt'",
     "output_type": "error",
     "traceback": [
      "\u001b[1;31m---------------------------------------------------------------------------\u001b[0m",
      "\u001b[1;31mFileNotFoundError\u001b[0m                         Traceback (most recent call last)",
      "Input \u001b[1;32mIn [5]\u001b[0m, in \u001b[0;36m<cell line: 1>\u001b[1;34m()\u001b[0m\n\u001b[1;32m----> 1\u001b[0m \u001b[38;5;28;01mwith\u001b[39;00m \u001b[38;5;28;43mopen\u001b[39;49m\u001b[43m(\u001b[49m\u001b[38;5;124;43m\"\u001b[39;49m\u001b[38;5;124;43mNew_File.txt\u001b[39;49m\u001b[38;5;124;43m\"\u001b[39;49m\u001b[43m,\u001b[49m\u001b[38;5;124;43m\"\u001b[39;49m\u001b[38;5;124;43mr\u001b[39;49m\u001b[38;5;124;43m\"\u001b[39;49m\u001b[43m)\u001b[49m \u001b[38;5;28;01mas\u001b[39;00m f:\n\u001b[0;32m      2\u001b[0m     \u001b[38;5;28mprint\u001b[39m(f\u001b[38;5;241m.\u001b[39mread())\n",
      "\u001b[1;31mFileNotFoundError\u001b[0m: [Errno 2] No such file or directory: 'New_File.txt'"
     ]
    }
   ],
   "source": [
    "with open(\"New_File.txt\",\"r\") as f:\n",
    "    print(f.read())"
   ]
  },
  {
   "cell_type": "markdown",
   "id": "57837b99",
   "metadata": {},
   "source": [
    "# try-except"
   ]
  },
  {
   "cell_type": "raw",
   "id": "28fc4c6e",
   "metadata": {},
   "source": [
    "try:\n",
    "    statement-1\n",
    "    statement-2\n",
    "        .\n",
    "        .\n",
    "        .\n",
    "    statement-n\n",
    "except:\n",
    "    statement-1\n",
    "    statement-2\n",
    "        .\n",
    "        .\n",
    "    statement-n\n",
    "    "
   ]
  },
  {
   "cell_type": "code",
   "execution_count": 6,
   "id": "925cda5a",
   "metadata": {},
   "outputs": [
    {
     "name": "stdout",
     "output_type": "stream",
     "text": [
      "We are in the try block\n"
     ]
    }
   ],
   "source": [
    "try:\n",
    "    print(\"We are in the try block\")\n",
    "except:\n",
    "    print(\"We are in the except block\")"
   ]
  },
  {
   "cell_type": "code",
   "execution_count": 7,
   "id": "7a9a3881",
   "metadata": {},
   "outputs": [
    {
     "name": "stdout",
     "output_type": "stream",
     "text": [
      "We are in the except block\n"
     ]
    }
   ],
   "source": [
    "try:\n",
    "    print(a)\n",
    "    print(\"We are in the try block\")\n",
    "except:\n",
    "    print(\"We are in the except block\")"
   ]
  },
  {
   "cell_type": "code",
   "execution_count": 10,
   "id": "5fb68d03",
   "metadata": {},
   "outputs": [
    {
     "name": "stdout",
     "output_type": "stream",
     "text": [
      "We are in the try block\n",
      "We are in the try block\n",
      "We are in the try block\n",
      "We are in the try block\n",
      "We are in the try block___________\n",
      "We are in the except block\n"
     ]
    }
   ],
   "source": [
    "try:\n",
    "    print(\"We are in the try block\")\n",
    "    print(\"We are in the try block\")\n",
    "    print(\"We are in the try block\")\n",
    "    print(\"We are in the try block\")\n",
    "    print(\"We are in the try block___________\")\n",
    "    print(a)\n",
    "except:\n",
    "    print(\"We are in the except block\")"
   ]
  },
  {
   "cell_type": "code",
   "execution_count": 11,
   "id": "67ca9a33",
   "metadata": {},
   "outputs": [
    {
     "name": "stdout",
     "output_type": "stream",
     "text": [
      "We are in try block\n",
      "Try block looks good\n",
      "There is no error\n"
     ]
    }
   ],
   "source": [
    "try:\n",
    "    print(\"We are in try block\")\n",
    "    print(\"Try block looks good\")\n",
    "    print(\"There is no error\")\n",
    "except:\n",
    "    print(\"We got some error\")"
   ]
  },
  {
   "cell_type": "code",
   "execution_count": 13,
   "id": "edd4f5ab",
   "metadata": {},
   "outputs": [
    {
     "name": "stdout",
     "output_type": "stream",
     "text": [
      "We got some error\n"
     ]
    }
   ],
   "source": [
    "try:\n",
    "    print(f\"We are in try block {var}\") \n",
    "    print(\"Try block looks good\")\n",
    "    print(\"There is no error\")\n",
    "except:\n",
    "    print(\"We got some error\")"
   ]
  },
  {
   "cell_type": "code",
   "execution_count": 14,
   "id": "fe32e181",
   "metadata": {},
   "outputs": [
    {
     "name": "stdout",
     "output_type": "stream",
     "text": [
      "Try block looks good\n",
      "We got some error\n"
     ]
    }
   ],
   "source": [
    "try:\n",
    "#     print(f\"We are in try block {var}\") \n",
    "    print(\"Try block looks good\")\n",
    "    print(f\"We are in try block {var}\")\n",
    "    print(\"There is no error\")\n",
    "except:\n",
    "    print(\"We got some error\")"
   ]
  },
  {
   "cell_type": "code",
   "execution_count": 15,
   "id": "ca45788c",
   "metadata": {},
   "outputs": [
    {
     "name": "stdout",
     "output_type": "stream",
     "text": [
      "Try block looks good\n",
      "There is no error\n",
      "We got some error\n"
     ]
    }
   ],
   "source": [
    "try:\n",
    "#     print(f\"We are in try block {var}\") \n",
    "    print(\"Try block looks good\")\n",
    "#     print(f\"We are in try block {var}\")\n",
    "    print(\"There is no error\")\n",
    "    print(f\"We are in try block {var}\")\n",
    "except:\n",
    "    print(\"We got some error\")"
   ]
  },
  {
   "cell_type": "code",
   "execution_count": 16,
   "id": "ebe1ea3c",
   "metadata": {},
   "outputs": [
    {
     "name": "stdout",
     "output_type": "stream",
     "text": [
      "4\n"
     ]
    }
   ],
   "source": [
    "try:\n",
    "    val = 5\n",
    "    list1 = [1,2,3,4,5]\n",
    "    print(list1.index(val))\n",
    "except:\n",
    "    print(\"The given value is not present in the list\")"
   ]
  },
  {
   "cell_type": "code",
   "execution_count": 18,
   "id": "afdefbfe",
   "metadata": {},
   "outputs": [
    {
     "name": "stdout",
     "output_type": "stream",
     "text": [
      "The given value is not present in the list\n",
      "Enter appropriate value\n"
     ]
    }
   ],
   "source": [
    "try:\n",
    "    val = 500\n",
    "    list1 = [1,2,3,4,5]\n",
    "    print(list1.index(val))\n",
    "except:\n",
    "    print(\"The given value is not present in the list\")\n",
    "    print(\"Enter appropriate value\")"
   ]
  },
  {
   "cell_type": "code",
   "execution_count": 19,
   "id": "3637c7ca",
   "metadata": {},
   "outputs": [
    {
     "ename": "ValueError",
     "evalue": "500 is not in list",
     "output_type": "error",
     "traceback": [
      "\u001b[1;31m---------------------------------------------------------------------------\u001b[0m",
      "\u001b[1;31mValueError\u001b[0m                                Traceback (most recent call last)",
      "Input \u001b[1;32mIn [19]\u001b[0m, in \u001b[0;36m<cell line: 3>\u001b[1;34m()\u001b[0m\n\u001b[0;32m      1\u001b[0m val \u001b[38;5;241m=\u001b[39m \u001b[38;5;241m500\u001b[39m\n\u001b[0;32m      2\u001b[0m list1 \u001b[38;5;241m=\u001b[39m [\u001b[38;5;241m1\u001b[39m,\u001b[38;5;241m2\u001b[39m,\u001b[38;5;241m3\u001b[39m,\u001b[38;5;241m4\u001b[39m,\u001b[38;5;241m5\u001b[39m]\n\u001b[1;32m----> 3\u001b[0m \u001b[38;5;28mprint\u001b[39m(\u001b[43mlist1\u001b[49m\u001b[38;5;241;43m.\u001b[39;49m\u001b[43mindex\u001b[49m\u001b[43m(\u001b[49m\u001b[43mval\u001b[49m\u001b[43m)\u001b[49m)\n",
      "\u001b[1;31mValueError\u001b[0m: 500 is not in list"
     ]
    }
   ],
   "source": [
    "val = 500\n",
    "list1 = [1,2,3,4,5]\n",
    "print(list1.index(val))"
   ]
  },
  {
   "cell_type": "code",
   "execution_count": 20,
   "id": "3ab04ed1",
   "metadata": {},
   "outputs": [
    {
     "name": "stdout",
     "output_type": "stream",
     "text": [
      "Enter Your Mo No :- 1234567890\n",
      "Valid\n"
     ]
    }
   ],
   "source": [
    "try:\n",
    "    mob_no = input(\"Enter Your Mo No :- \")\n",
    "    if len(mob_no) == 10:\n",
    "        print(\"Valid\")\n",
    "    else:\n",
    "        print(\"Invalid\")\n",
    "except:\n",
    "    print(\"Length is not equal to 10\")"
   ]
  },
  {
   "cell_type": "code",
   "execution_count": 21,
   "id": "fb9d058a",
   "metadata": {},
   "outputs": [
    {
     "name": "stdout",
     "output_type": "stream",
     "text": [
      "Enter Your Mo No :- 123456789098765\n",
      "Invalid\n"
     ]
    }
   ],
   "source": [
    "try:\n",
    "    mob_no = input(\"Enter Your Mo No :- \")\n",
    "    if len(mob_no) == 10:\n",
    "        print(\"Valid\")\n",
    "    else:\n",
    "        print(\"Invalid\")\n",
    "except:\n",
    "    print(\"Length is not equal to 10\")"
   ]
  },
  {
   "cell_type": "code",
   "execution_count": 23,
   "id": "c02b620a",
   "metadata": {},
   "outputs": [
    {
     "name": "stdout",
     "output_type": "stream",
     "text": [
      "Enter Your Mo No :- 2u8983y4\n",
      "Invalid\n",
      "Length is not equal to 10\n"
     ]
    }
   ],
   "source": [
    "try:\n",
    "    mob_no = input(\"Enter Your Mo No :- \")\n",
    "    if len(mob_no) == 10:\n",
    "        print(\"Valid\")\n",
    "    else:\n",
    "        print(\"Invalid\")\n",
    "        print(var)\n",
    "except:\n",
    "    print(\"Length is not equal to 10\")"
   ]
  },
  {
   "cell_type": "code",
   "execution_count": 24,
   "id": "5287dedd",
   "metadata": {},
   "outputs": [
    {
     "ename": "SyntaxError",
     "evalue": "unterminated string literal (detected at line 1) (15321224.py, line 1)",
     "output_type": "error",
     "traceback": [
      "\u001b[1;36m  Input \u001b[1;32mIn [24]\u001b[1;36m\u001b[0m\n\u001b[1;33m    print(f\"hi)\u001b[0m\n\u001b[1;37m          ^\u001b[0m\n\u001b[1;31mSyntaxError\u001b[0m\u001b[1;31m:\u001b[0m unterminated string literal (detected at line 1)\n"
     ]
    }
   ],
   "source": [
    "print(f\"hi)"
   ]
  },
  {
   "cell_type": "code",
   "execution_count": 25,
   "id": "a0f8a6bb",
   "metadata": {},
   "outputs": [],
   "source": [
    "with open(\"New_file.txt\",\"w\") as f:\n",
    "    f.write(\"This is new file in the directory\")\n"
   ]
  },
  {
   "cell_type": "code",
   "execution_count": 26,
   "id": "2cf186d9",
   "metadata": {},
   "outputs": [],
   "source": [
    "with open(\"New_file1.txt\",\"x\") as f:\n",
    "    f.write(\"This is new file 1 in the directory\")\n"
   ]
  },
  {
   "cell_type": "code",
   "execution_count": 27,
   "id": "70d45422",
   "metadata": {},
   "outputs": [
    {
     "ename": "FileExistsError",
     "evalue": "[Errno 17] File exists: 'New_file1.txt'",
     "output_type": "error",
     "traceback": [
      "\u001b[1;31m---------------------------------------------------------------------------\u001b[0m",
      "\u001b[1;31mFileExistsError\u001b[0m                           Traceback (most recent call last)",
      "Input \u001b[1;32mIn [27]\u001b[0m, in \u001b[0;36m<cell line: 1>\u001b[1;34m()\u001b[0m\n\u001b[1;32m----> 1\u001b[0m \u001b[38;5;28;01mwith\u001b[39;00m \u001b[38;5;28;43mopen\u001b[39;49m\u001b[43m(\u001b[49m\u001b[38;5;124;43m\"\u001b[39;49m\u001b[38;5;124;43mNew_file1.txt\u001b[39;49m\u001b[38;5;124;43m\"\u001b[39;49m\u001b[43m,\u001b[49m\u001b[38;5;124;43m\"\u001b[39;49m\u001b[38;5;124;43mx\u001b[39;49m\u001b[38;5;124;43m\"\u001b[39;49m\u001b[43m)\u001b[49m \u001b[38;5;28;01mas\u001b[39;00m f:\n\u001b[0;32m      2\u001b[0m     f\u001b[38;5;241m.\u001b[39mwrite(\u001b[38;5;124m\"\u001b[39m\u001b[38;5;124mThis is new file 1 in the directory but 2nd time\u001b[39m\u001b[38;5;124m\"\u001b[39m)\n",
      "\u001b[1;31mFileExistsError\u001b[0m: [Errno 17] File exists: 'New_file1.txt'"
     ]
    }
   ],
   "source": [
    "with open(\"New_file1.txt\",\"x\") as f:\n",
    "    f.write(\"This is new file 1 in the directory but 2nd time\")\n"
   ]
  },
  {
   "cell_type": "code",
   "execution_count": 28,
   "id": "f7e802a7",
   "metadata": {},
   "outputs": [],
   "source": [
    "try:\n",
    "    with open(\"New_file1.txt\",\"x\") as f:\n",
    "        f.write(\"New Msg\")\n",
    "except:\n",
    "    with open(\"New_file1.txt\",\"a\") as f:\n",
    "        f.write(\"New Msg\")"
   ]
  },
  {
   "cell_type": "code",
   "execution_count": 29,
   "id": "6922f977",
   "metadata": {},
   "outputs": [],
   "source": [
    "import traceback"
   ]
  },
  {
   "cell_type": "code",
   "execution_count": 30,
   "id": "5e1183b0",
   "metadata": {},
   "outputs": [
    {
     "name": "stdout",
     "output_type": "stream",
     "text": [
      "None\n"
     ]
    },
    {
     "name": "stderr",
     "output_type": "stream",
     "text": [
      "Traceback (most recent call last):\n",
      "  File \"C:\\Users\\hp\\AppData\\Local\\Temp\\ipykernel_19452\\3777646046.py\", line 2, in <cell line: 1>\n",
      "    print(var)\n",
      "NameError: name 'var' is not defined\n"
     ]
    }
   ],
   "source": [
    "try:\n",
    "    print(var)\n",
    "except:\n",
    "    print(traceback.print_exc())"
   ]
  },
  {
   "cell_type": "code",
   "execution_count": 31,
   "id": "e069f0aa",
   "metadata": {},
   "outputs": [
    {
     "ename": "NameError",
     "evalue": "name 'var' is not defined",
     "output_type": "error",
     "traceback": [
      "\u001b[1;31m---------------------------------------------------------------------------\u001b[0m",
      "\u001b[1;31mNameError\u001b[0m                                 Traceback (most recent call last)",
      "Input \u001b[1;32mIn [31]\u001b[0m, in \u001b[0;36m<cell line: 1>\u001b[1;34m()\u001b[0m\n\u001b[1;32m----> 1\u001b[0m \u001b[38;5;28mprint\u001b[39m(\u001b[43mvar\u001b[49m)\n",
      "\u001b[1;31mNameError\u001b[0m: name 'var' is not defined"
     ]
    }
   ],
   "source": [
    "\n",
    "    print(var)\n"
   ]
  },
  {
   "cell_type": "code",
   "execution_count": 3,
   "id": "bc27b365",
   "metadata": {},
   "outputs": [
    {
     "name": "stdout",
     "output_type": "stream",
     "text": [
      "Except Block\n"
     ]
    },
    {
     "ename": "NameError",
     "evalue": "name 'traceback' is not defined",
     "output_type": "error",
     "traceback": [
      "\u001b[1;31m---------------------------------------------------------------------------\u001b[0m",
      "\u001b[1;31mZeroDivisionError\u001b[0m                         Traceback (most recent call last)",
      "Input \u001b[1;32mIn [3]\u001b[0m, in \u001b[0;36m<cell line: 1>\u001b[1;34m()\u001b[0m\n\u001b[0;32m      3\u001b[0m     b \u001b[38;5;241m=\u001b[39m \u001b[38;5;241m0\u001b[39m\n\u001b[1;32m----> 4\u001b[0m     \u001b[43ma\u001b[49m\u001b[38;5;241;43m/\u001b[39;49m\u001b[43mb\u001b[49m\n\u001b[0;32m      5\u001b[0m \u001b[38;5;28;01mexcept\u001b[39;00m:\n",
      "\u001b[1;31mZeroDivisionError\u001b[0m: division by zero",
      "\nDuring handling of the above exception, another exception occurred:\n",
      "\u001b[1;31mNameError\u001b[0m                                 Traceback (most recent call last)",
      "Input \u001b[1;32mIn [3]\u001b[0m, in \u001b[0;36m<cell line: 1>\u001b[1;34m()\u001b[0m\n\u001b[0;32m      5\u001b[0m \u001b[38;5;28;01mexcept\u001b[39;00m:\n\u001b[0;32m      6\u001b[0m     \u001b[38;5;28mprint\u001b[39m(\u001b[38;5;124m\"\u001b[39m\u001b[38;5;124mExcept Block\u001b[39m\u001b[38;5;124m\"\u001b[39m)\n\u001b[1;32m----> 7\u001b[0m     \u001b[38;5;28mprint\u001b[39m(\u001b[43mtraceback\u001b[49m\u001b[38;5;241m.\u001b[39mprint_exc())\n",
      "\u001b[1;31mNameError\u001b[0m: name 'traceback' is not defined"
     ]
    }
   ],
   "source": [
    "try:\n",
    "    a = 10\n",
    "    b = 0\n",
    "    a/b\n",
    "except:\n",
    "    print(\"Except Block\")\n",
    "    print(traceback.print_exc())"
   ]
  },
  {
   "cell_type": "code",
   "execution_count": null,
   "id": "7b985dd3",
   "metadata": {},
   "outputs": [],
   "source": [
    "text = \"\"\"Machine learning (ML) is the study of computer algorithms that can improve automatically \n",
    "through experience and by the use of data.[1] It is seen as a part of artificial intelligence.\"\"\"\n"
   ]
  },
  {
   "cell_type": "code",
   "execution_count": 35,
   "id": "1e22a4ab",
   "metadata": {},
   "outputs": [
    {
     "name": "stdout",
     "output_type": "stream",
     "text": [
      "Except Block\n"
     ]
    },
    {
     "name": "stderr",
     "output_type": "stream",
     "text": [
      "Traceback (most recent call last):\n",
      "  File \"C:\\Users\\hp\\AppData\\Local\\Temp\\ipykernel_19452\\3904220703.py\", line 3, in <cell line: 1>\n",
      "    f.write(text)\n",
      "NameError: name 'text' is not defined\n"
     ]
    }
   ],
   "source": [
    "try:\n",
    "    f = open(\"ML_Intro.txt\",\"x\")\n",
    "    f.write(text) # \n",
    "    f.close()\n",
    "except:\n",
    "    print(\"Except Block\")\n",
    "    traceback.print_exc()"
   ]
  },
  {
   "cell_type": "code",
   "execution_count": 36,
   "id": "e232d3c1",
   "metadata": {},
   "outputs": [
    {
     "name": "stdout",
     "output_type": "stream",
     "text": [
      "Except Block\n"
     ]
    },
    {
     "name": "stderr",
     "output_type": "stream",
     "text": [
      "Traceback (most recent call last):\n",
      "  File \"C:\\Users\\hp\\AppData\\Local\\Temp\\ipykernel_19452\\4014068509.py\", line 4, in <cell line: 3>\n",
      "    f = open(\"ML_Intro.txt\",\"x\")\n",
      "FileExistsError: [Errno 17] File exists: 'ML_Intro.txt'\n"
     ]
    }
   ],
   "source": [
    "text = \"\"\"Machine learning (ML) is the study of computer algorithms that can improve automatically \n",
    "through experience and by the use of data.[1] It is seen as a part of artificial intelligence.\"\"\"\n",
    "try:\n",
    "    f = open(\"ML_Intro.txt\",\"x\")\n",
    "    f.write(text)\n",
    "    f.close()\n",
    "except:\n",
    "    print(\"Except Block\")\n",
    "    traceback.print_exc()"
   ]
  },
  {
   "cell_type": "code",
   "execution_count": 37,
   "id": "2e86caba",
   "metadata": {},
   "outputs": [
    {
     "name": "stderr",
     "output_type": "stream",
     "text": [
      "Traceback (most recent call last):\n",
      "  File \"C:\\Users\\hp\\AppData\\Local\\Temp\\ipykernel_19452\\491831843.py\", line 4, in <cell line: 1>\n",
      "    print(a/b)\n",
      "ZeroDivisionError: division by zero\n"
     ]
    }
   ],
   "source": [
    "try:\n",
    "    a = 1000\n",
    "    b = 0\n",
    "    print(a/b)\n",
    "except:\n",
    "    traceback.print_exc()"
   ]
  },
  {
   "cell_type": "code",
   "execution_count": 38,
   "id": "d2880a7b",
   "metadata": {},
   "outputs": [
    {
     "name": "stdout",
     "output_type": "stream",
     "text": [
      "division by zero\n"
     ]
    }
   ],
   "source": [
    "try:\n",
    "    a = 1000\n",
    "    b = 0\n",
    "    print(a/b)\n",
    "except ZeroDivisionError as error:\n",
    "    print(error)"
   ]
  },
  {
   "cell_type": "code",
   "execution_count": 40,
   "id": "130ae5d9",
   "metadata": {},
   "outputs": [
    {
     "name": "stdout",
     "output_type": "stream",
     "text": [
      "200.0\n"
     ]
    },
    {
     "ename": "NameError",
     "evalue": "name 'Lname' is not defined",
     "output_type": "error",
     "traceback": [
      "\u001b[1;31m---------------------------------------------------------------------------\u001b[0m",
      "\u001b[1;31mNameError\u001b[0m                                 Traceback (most recent call last)",
      "Input \u001b[1;32mIn [40]\u001b[0m, in \u001b[0;36m<cell line: 1>\u001b[1;34m()\u001b[0m\n\u001b[0;32m      3\u001b[0m     b \u001b[38;5;241m=\u001b[39m \u001b[38;5;241m5\u001b[39m\n\u001b[0;32m      4\u001b[0m     \u001b[38;5;28mprint\u001b[39m(a\u001b[38;5;241m/\u001b[39mb)\n\u001b[1;32m----> 6\u001b[0m     \u001b[38;5;28mprint\u001b[39m(\u001b[43mLname\u001b[49m)\n\u001b[0;32m      7\u001b[0m \u001b[38;5;28;01mexcept\u001b[39;00m \u001b[38;5;167;01mZeroDivisionError\u001b[39;00m \u001b[38;5;28;01mas\u001b[39;00m error:\n\u001b[0;32m      8\u001b[0m     \u001b[38;5;28mprint\u001b[39m(error)\n",
      "\u001b[1;31mNameError\u001b[0m: name 'Lname' is not defined"
     ]
    }
   ],
   "source": [
    "try:\n",
    "    a = 1000\n",
    "    b = 5\n",
    "    print(a/b)\n",
    "    \n",
    "    print(Lname)\n",
    "    \n",
    "except ZeroDivisionError as error:\n",
    "    print(error)"
   ]
  },
  {
   "cell_type": "code",
   "execution_count": 43,
   "id": "28b50be3",
   "metadata": {},
   "outputs": [
    {
     "name": "stdout",
     "output_type": "stream",
     "text": [
      "111.11111111111111\n",
      "name 'Lname' is not defined\n"
     ]
    }
   ],
   "source": [
    "try:\n",
    "    a = 1000\n",
    "    b = 9\n",
    "    print(a/b)\n",
    "    \n",
    "    print(Lname)\n",
    "    \n",
    "except ZeroDivisionError as error:\n",
    "    print(error)\n",
    "    \n",
    "except NameError as error1:\n",
    "    print(error1)"
   ]
  },
  {
   "cell_type": "code",
   "execution_count": 44,
   "id": "45de2ab2",
   "metadata": {},
   "outputs": [
    {
     "name": "stdout",
     "output_type": "stream",
     "text": [
      "division by zero\n"
     ]
    }
   ],
   "source": [
    "try:\n",
    "    a = 1000\n",
    "    b = 0\n",
    "    print(a/b)\n",
    "    \n",
    "    print(Lname)\n",
    "    \n",
    "except ZeroDivisionError as error:\n",
    "    print(error)\n",
    "    \n",
    "except NameError as error1:\n",
    "    print(error1)"
   ]
  },
  {
   "cell_type": "code",
   "execution_count": 47,
   "id": "cef7ec4b",
   "metadata": {},
   "outputs": [
    {
     "name": "stdout",
     "output_type": "stream",
     "text": [
      "111.11111111111111\n",
      "name 'Lname' is not defined\n"
     ]
    }
   ],
   "source": [
    "text = \"\"\"Machine learning (ML) is the study of computer algorithms that can improve automatically \n",
    "through experience and by the use of data.[1] It is seen as a part of artificial intelligence.\"\"\"\n",
    "try:\n",
    "    a = 1000\n",
    "    b = 9\n",
    "    print(a/b)\n",
    "    \n",
    "    print(Lname)\n",
    "    f = open(\"ML_Intro.txt\",\"x\")\n",
    "    f.write(text)\n",
    "    f.close()\n",
    "except ZeroDivisionError as error:\n",
    "    print(error)\n",
    "    \n",
    "except NameError as error1:\n",
    "    print(error1)\n",
    "    \n",
    "except:\n",
    "    traceback.print_exc()"
   ]
  },
  {
   "cell_type": "code",
   "execution_count": 48,
   "id": "7233a727",
   "metadata": {},
   "outputs": [
    {
     "name": "stdout",
     "output_type": "stream",
     "text": [
      "111.11111111111111\n",
      "Lname\n"
     ]
    },
    {
     "name": "stderr",
     "output_type": "stream",
     "text": [
      "Traceback (most recent call last):\n",
      "  File \"C:\\Users\\hp\\AppData\\Local\\Temp\\ipykernel_19452\\3886709325.py\", line 9, in <cell line: 3>\n",
      "    f = open(\"ML_Intro.txt\",\"x\")\n",
      "FileExistsError: [Errno 17] File exists: 'ML_Intro.txt'\n"
     ]
    }
   ],
   "source": [
    "text = \"\"\"Machine learning (ML) is the study of computer algorithms that can improve automatically \n",
    "through experience and by the use of data.[1] It is seen as a part of artificial intelligence.\"\"\"\n",
    "try:\n",
    "    a = 1000\n",
    "    b = 9\n",
    "    print(a/b)\n",
    "    \n",
    "    print(\"Lname\")\n",
    "    f = open(\"ML_Intro.txt\",\"x\")\n",
    "    f.write(text)\n",
    "    f.close()\n",
    "except ZeroDivisionError as error:\n",
    "    print(error)\n",
    "    \n",
    "except NameError as error1:\n",
    "    print(error1)\n",
    "    \n",
    "except:\n",
    "    traceback.print_exc()"
   ]
  },
  {
   "cell_type": "code",
   "execution_count": 49,
   "id": "5722ee83",
   "metadata": {},
   "outputs": [
    {
     "name": "stdout",
     "output_type": "stream",
     "text": [
      "111.11111111111111\n",
      "Lname\n",
      "[Errno 17] File exists: 'ML_Intro.txt'\n"
     ]
    }
   ],
   "source": [
    "text = \"\"\"Machine learning (ML) is the study of computer algorithms that can improve automatically \n",
    "through experience and by the use of data.[1] It is seen as a part of artificial intelligence.\"\"\"\n",
    "try:\n",
    "    a = 1000\n",
    "    b = 9\n",
    "    print(a/b)\n",
    "    \n",
    "    print(\"Lname\")\n",
    "    f = open(\"ML_Intro.txt\",\"x\")\n",
    "    f.write(text)\n",
    "    f.close()\n",
    "except ZeroDivisionError as error:\n",
    "    print(error)\n",
    "    \n",
    "except NameError as error1:\n",
    "    print(error1)\n",
    "    \n",
    "except FileExistsError as error2:\n",
    "    print(error2)"
   ]
  },
  {
   "cell_type": "code",
   "execution_count": 50,
   "id": "4ada4325",
   "metadata": {},
   "outputs": [
    {
     "name": "stdout",
     "output_type": "stream",
     "text": [
      "111.11111111111111\n",
      "Lname\n"
     ]
    },
    {
     "name": "stderr",
     "output_type": "stream",
     "text": [
      "Traceback (most recent call last):\n",
      "  File \"C:\\Users\\hp\\AppData\\Local\\Temp\\ipykernel_19452\\255331150.py\", line 14, in <cell line: 3>\n",
      "    f = open(\"Machine_Learning.txt\")\n",
      "FileNotFoundError: [Errno 2] No such file or directory: 'Machine_Learning.txt'\n"
     ]
    }
   ],
   "source": [
    "text = \"\"\"Machine learning (ML) is the study of computer algorithms that can improve automatically \n",
    "through experience and by the use of data.[1] It is seen as a part of artificial intelligence.\"\"\"\n",
    "try:\n",
    "    a = 1000\n",
    "    b = 9\n",
    "    print(a/b)\n",
    "    \n",
    "    print(\"Lname\")\n",
    "    \n",
    "    f = open(\"ML_Intro.txt\",\"w\")\n",
    "    f.write(text)\n",
    "    f.close()\n",
    "    \n",
    "    f = open(\"Machine_Learning.txt\")\n",
    "    print(f.read())\n",
    "    f.close()\n",
    "    \n",
    "except ZeroDivisionError as error:\n",
    "    print(error)\n",
    "    \n",
    "except NameError as error1:\n",
    "    print(error1)\n",
    "    \n",
    "except FileExistsError as error2:\n",
    "    print(error2)\n",
    "except:\n",
    "    traceback.print_exc()"
   ]
  },
  {
   "cell_type": "code",
   "execution_count": 53,
   "id": "ae9275f8",
   "metadata": {},
   "outputs": [
    {
     "name": "stdout",
     "output_type": "stream",
     "text": [
      "111.11111111111111\n",
      "Lname\n",
      "[Errno 17] File exists: 'ML_Intro.txt'\n"
     ]
    }
   ],
   "source": [
    "text = \"\"\"Machine learning (ML) is the study of computer algorithms that can improve automatically \n",
    "through experience and by the use of data.[1] It is seen as a part of artificial intelligence.\"\"\"\n",
    "try:\n",
    "    a = 1000\n",
    "    b = 9\n",
    "    print(a/b)\n",
    "    \n",
    "    print(\"Lname\")\n",
    "    \n",
    "    f = open(\"ML_Intro.txt\",\"x\")\n",
    "    f.write(text)\n",
    "    f.close()\n",
    "    \n",
    "    f = open(\"Machine_Learning.txt\")\n",
    "    print(f.read())\n",
    "    f.close()\n",
    "    \n",
    "except ZeroDivisionError as error:\n",
    "    print(error)\n",
    "    \n",
    "except NameError as error1:\n",
    "    print(error1)\n",
    "except FileExistsError as error2:\n",
    "    print(error2)\n",
    "except FileNotFoundError as error3:\n",
    "    print(\"File not present\")"
   ]
  },
  {
   "cell_type": "code",
   "execution_count": 54,
   "id": "864e69a2",
   "metadata": {},
   "outputs": [
    {
     "name": "stdout",
     "output_type": "stream",
     "text": [
      "111.11111111111111\n",
      "Lname\n",
      "File not present\n"
     ]
    }
   ],
   "source": [
    "text = \"\"\"Machine learning (ML) is the study of computer algorithms that can improve automatically \n",
    "through experience and by the use of data.[1] It is seen as a part of artificial intelligence.\"\"\"\n",
    "try:\n",
    "    a = 1000\n",
    "    b = 9\n",
    "    print(a/b)\n",
    "    \n",
    "    print(\"Lname\")\n",
    "    \n",
    "    f = open(\"ML_Intro.txt\",\"w\")\n",
    "    f.write(text)\n",
    "    f.close()\n",
    "    \n",
    "    f = open(\"Machine_Learning.txt\")\n",
    "    print(f.read())\n",
    "    f.close()\n",
    "    \n",
    "except ZeroDivisionError as error:\n",
    "    print(error)\n",
    "    \n",
    "except NameError as error1:\n",
    "    print(error1)\n",
    "except FileExistsError as error2:\n",
    "    print(error2)\n",
    "except FileNotFoundError as error3:\n",
    "    print(\"File not present\")"
   ]
  },
  {
   "cell_type": "markdown",
   "id": "c656f142",
   "metadata": {},
   "source": [
    "# try-except-else"
   ]
  },
  {
   "cell_type": "code",
   "execution_count": 55,
   "id": "a4c49219",
   "metadata": {},
   "outputs": [
    {
     "name": "stdout",
     "output_type": "stream",
     "text": [
      "In the try block\n",
      "In the else block\n"
     ]
    }
   ],
   "source": [
    "try:\n",
    "    print(\"In the try block\")\n",
    "    \n",
    "except:\n",
    "    print(\"In the except block\")\n",
    "    \n",
    "else:\n",
    "    print(\"In the else block\")"
   ]
  },
  {
   "cell_type": "code",
   "execution_count": 57,
   "id": "360ebf20",
   "metadata": {},
   "outputs": [
    {
     "name": "stdout",
     "output_type": "stream",
     "text": [
      "0\n",
      "1\n",
      "2\n",
      "3\n",
      "4\n",
      "Loop Executed\n"
     ]
    }
   ],
   "source": [
    "for i in range(5):\n",
    "    print(i)\n",
    "else:\n",
    "    print(\"Loop Executed\")"
   ]
  },
  {
   "cell_type": "code",
   "execution_count": 58,
   "id": "d7649cd2",
   "metadata": {},
   "outputs": [
    {
     "name": "stdout",
     "output_type": "stream",
     "text": [
      "0\n",
      "1\n",
      "2\n"
     ]
    }
   ],
   "source": [
    "for i in range(5):\n",
    "    if i == 3:\n",
    "        break\n",
    "    print(i)\n",
    "else:\n",
    "    print(\"Loop Executed\")"
   ]
  },
  {
   "cell_type": "code",
   "execution_count": 62,
   "id": "81460e4b",
   "metadata": {},
   "outputs": [],
   "source": [
    "# help(\"for\")"
   ]
  },
  {
   "cell_type": "code",
   "execution_count": 63,
   "id": "1491a4ef",
   "metadata": {},
   "outputs": [
    {
     "name": "stdout",
     "output_type": "stream",
     "text": [
      "In the try block\n",
      "In the except block\n"
     ]
    }
   ],
   "source": [
    "try:\n",
    "    print(\"In the try block\")\n",
    "    print(hi)\n",
    "except:\n",
    "    print(\"In the except block\")\n",
    "    \n",
    "else:\n",
    "    print(\"In the else block\")"
   ]
  },
  {
   "cell_type": "code",
   "execution_count": 67,
   "id": "87e49e9a",
   "metadata": {},
   "outputs": [
    {
     "name": "stdout",
     "output_type": "stream",
     "text": [
      "In the try block\n",
      "can only concatenate str (not \"int\") to str\n",
      "In the except block\n"
     ]
    }
   ],
   "source": [
    "try:\n",
    "    print(\"In the try block\")\n",
    "    \"Python\" + 123\n",
    "except TypeError as e:\n",
    "    print(e)\n",
    "    print(\"In the except block\")\n",
    "    \n",
    "else:\n",
    "    print(\"In the else block\")"
   ]
  },
  {
   "cell_type": "code",
   "execution_count": 65,
   "id": "22928c56",
   "metadata": {},
   "outputs": [
    {
     "name": "stdout",
     "output_type": "stream",
     "text": [
      "In the try block\n",
      "In the else block\n"
     ]
    }
   ],
   "source": [
    "try:\n",
    "    print(\"In the try block\")\n",
    "    \"Python\" + \"123\"\n",
    "except:\n",
    "    print(\"In the except block\")\n",
    "    \n",
    "else:\n",
    "    print(\"In the else block\")"
   ]
  },
  {
   "cell_type": "markdown",
   "id": "2872a847",
   "metadata": {},
   "source": [
    "# try-except-finally"
   ]
  },
  {
   "cell_type": "code",
   "execution_count": 68,
   "id": "9bd04899",
   "metadata": {},
   "outputs": [
    {
     "name": "stdout",
     "output_type": "stream",
     "text": [
      "In the try block\n",
      "In the finally block\n"
     ]
    }
   ],
   "source": [
    "try:\n",
    "    print(\"In the try block\")\n",
    "    \n",
    "except:\n",
    "    print(\"In the except block\")\n",
    "    \n",
    "finally:\n",
    "    print(\"In the finally block\")"
   ]
  },
  {
   "cell_type": "code",
   "execution_count": 69,
   "id": "031ce463",
   "metadata": {},
   "outputs": [
    {
     "name": "stdout",
     "output_type": "stream",
     "text": [
      "In the try block\n",
      "In the except block\n",
      "In the finally block\n"
     ]
    }
   ],
   "source": [
    "try:\n",
    "    print(\"In the try block\")\n",
    "    print(lname)\n",
    "except:\n",
    "    print(\"In the except block\")\n",
    "    \n",
    "finally:\n",
    "    print(\"In the finally block\")"
   ]
  },
  {
   "cell_type": "code",
   "execution_count": 74,
   "id": "fb433e76",
   "metadata": {},
   "outputs": [
    {
     "name": "stdout",
     "output_type": "stream",
     "text": [
      "In the try block\n",
      "can only concatenate str (not \"int\") to str\n",
      "In the except block\n",
      "Both values should be of same data type\n"
     ]
    }
   ],
   "source": [
    "try:\n",
    "    print(\"In the try block\")\n",
    "    \"Python\" + 123\n",
    "except TypeError as e:\n",
    "    print(e)\n",
    "    print(\"In the except block\")    \n",
    "finally:\n",
    "    print(\"Both values should be of same data type\")"
   ]
  },
  {
   "cell_type": "code",
   "execution_count": 73,
   "id": "46f1ab6d",
   "metadata": {},
   "outputs": [
    {
     "name": "stdout",
     "output_type": "stream",
     "text": [
      "In the try block\n",
      "Both values should be of same data type\n"
     ]
    }
   ],
   "source": [
    "try:\n",
    "    print(\"In the try block\")\n",
    "    \"Python\" + \"123\"\n",
    "except TypeError as e:\n",
    "    print(e)\n",
    "    print(\"In the except block\")    \n",
    "finally:\n",
    "    print(\"Both values should be of same data type\")"
   ]
  },
  {
   "cell_type": "code",
   "execution_count": 75,
   "id": "7fadc185",
   "metadata": {},
   "outputs": [
    {
     "name": "stdout",
     "output_type": "stream",
     "text": [
      "In the try\n",
      "In the except\n",
      "I'm running irrespective of try and except\n"
     ]
    },
    {
     "name": "stderr",
     "output_type": "stream",
     "text": [
      "Traceback (most recent call last):\n",
      "  File \"C:\\Users\\hp\\AppData\\Local\\Temp\\ipykernel_19452\\2408813273.py\", line 4, in <cell line: 1>\n",
      "    print(num[10])\n",
      "IndexError: list index out of range\n"
     ]
    }
   ],
   "source": [
    "try:\n",
    "    print(\"In the try\")\n",
    "    num = [1,2,3,4,5]\n",
    "    print(num[10])\n",
    "except:\n",
    "    traceback.print_exc()\n",
    "    print(\"In the except\")\n",
    "finally:\n",
    "    print(\"I'm running irrespective of try and except\")"
   ]
  },
  {
   "cell_type": "code",
   "execution_count": 76,
   "id": "6eaa931f",
   "metadata": {},
   "outputs": [
    {
     "name": "stdout",
     "output_type": "stream",
     "text": [
      "In the try\n",
      "2\n",
      "I'm running irrespective of try and except\n"
     ]
    }
   ],
   "source": [
    "try:\n",
    "    print(\"In the try\")\n",
    "    num = [1,2,3,4,5]\n",
    "    print(num[1])\n",
    "except:\n",
    "    traceback.print_exc()\n",
    "    print(\"In the except\")\n",
    "finally:\n",
    "    print(\"I'm running irrespective of try and except\")"
   ]
  },
  {
   "cell_type": "markdown",
   "id": "4228470e",
   "metadata": {},
   "source": [
    "# try-except-else-finally"
   ]
  },
  {
   "cell_type": "code",
   "execution_count": 77,
   "id": "a1caafff",
   "metadata": {},
   "outputs": [
    {
     "name": "stdout",
     "output_type": "stream",
     "text": [
      "In the try block\n",
      "In the else block\n",
      "In the finally block\n"
     ]
    }
   ],
   "source": [
    "try:\n",
    "    print(\"In the try block\")\n",
    "    \n",
    "except:\n",
    "    print(\"In the except block\")\n",
    "    \n",
    "else:\n",
    "    print(\"In the else block\")\n",
    "    \n",
    "finally:\n",
    "    print(\"In the finally block\")"
   ]
  },
  {
   "cell_type": "code",
   "execution_count": 78,
   "id": "e2fa1e72",
   "metadata": {},
   "outputs": [
    {
     "name": "stdout",
     "output_type": "stream",
     "text": [
      "In the try block\n",
      "In the except block\n",
      "In the finally block\n"
     ]
    }
   ],
   "source": [
    "try:\n",
    "    print(\"In the try block\")\n",
    "    print(lname)\n",
    "except:\n",
    "    print(\"In the except block\")\n",
    "    \n",
    "else:\n",
    "    print(\"In the else block\")\n",
    "    \n",
    "finally:\n",
    "    print(\"In the finally block\")"
   ]
  },
  {
   "cell_type": "code",
   "execution_count": null,
   "id": "442cc6a0",
   "metadata": {},
   "outputs": [],
   "source": []
  }
 ],
 "metadata": {
  "kernelspec": {
   "display_name": "Python 3 (ipykernel)",
   "language": "python",
   "name": "python3"
  },
  "language_info": {
   "codemirror_mode": {
    "name": "ipython",
    "version": 3
   },
   "file_extension": ".py",
   "mimetype": "text/x-python",
   "name": "python",
   "nbconvert_exporter": "python",
   "pygments_lexer": "ipython3",
   "version": "3.9.12"
  }
 },
 "nbformat": 4,
 "nbformat_minor": 5
}
