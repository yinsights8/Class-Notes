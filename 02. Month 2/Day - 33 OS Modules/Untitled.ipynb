{
 "cells": [
  {
   "cell_type": "code",
   "execution_count": 1,
   "id": "f471d0e0",
   "metadata": {},
   "outputs": [],
   "source": [
    "import os"
   ]
  },
  {
   "cell_type": "code",
   "execution_count": 13,
   "id": "6c9c47c9",
   "metadata": {},
   "outputs": [],
   "source": [
    "os.mkdir(\"Practice\")"
   ]
  },
  {
   "cell_type": "code",
   "execution_count": 14,
   "id": "947a6802",
   "metadata": {},
   "outputs": [
    {
     "data": {
      "text/plain": [
       "'C:\\\\Users\\\\yashd\\\\02. Velocity Class Notes\\\\Class\\\\2. Month 2\\\\Day - 33 OS Modules\\\\Practice'"
      ]
     },
     "execution_count": 14,
     "metadata": {},
     "output_type": "execute_result"
    }
   ],
   "source": [
    "r\"C:\\Users\\yashd\\02. Velocity Class Notes\\Class\\2. Month 2\\Day - 33 OS Modules\\Practice\""
   ]
  },
  {
   "cell_type": "code",
   "execution_count": 15,
   "id": "8934738b",
   "metadata": {},
   "outputs": [],
   "source": [
    "with open(\"text.txt\",\"w\") as practice:\n",
    "    practice.write(\"________Python and data science________\")"
   ]
  },
  {
   "cell_type": "code",
   "execution_count": 10,
   "id": "50b8584f",
   "metadata": {},
   "outputs": [
    {
     "data": {
      "text/plain": [
       "['.ipynb_checkpoints',\n",
       " 'data1.csv',\n",
       " 'data2.csv',\n",
       " 'data3.csv',\n",
       " 'data4.csv',\n",
       " 'data5.csv',\n",
       " 'JSON_FILE1.json',\n",
       " 'JSON_FILE2.json',\n",
       " 'JSON_FILE3.json',\n",
       " 'JSON_FILE4.json',\n",
       " 'JSON_FILE5.json',\n",
       " 'Model1.txt',\n",
       " 'Model2.txt',\n",
       " 'Model3.txt',\n",
       " 'Model4.txt',\n",
       " 'Model5.txt',\n",
       " 'OS Module.ipynb',\n",
       " 'Practice',\n",
       " 'practice.ipynb',\n",
       " 'Sample.txt',\n",
       " 'text.txt',\n",
       " 'Time Module.ipynb',\n",
       " 'Untitled.ipynb']"
      ]
     },
     "execution_count": 10,
     "metadata": {},
     "output_type": "execute_result"
    }
   ],
   "source": [
    "os.listdir()"
   ]
  },
  {
   "cell_type": "code",
   "execution_count": 17,
   "id": "8d17be04",
   "metadata": {},
   "outputs": [
    {
     "ename": "AttributeError",
     "evalue": "module 'os' has no attribute 'move'",
     "output_type": "error",
     "traceback": [
      "\u001b[1;31m---------------------------------------------------------------------------\u001b[0m",
      "\u001b[1;31mAttributeError\u001b[0m                            Traceback (most recent call last)",
      "Input \u001b[1;32mIn [17]\u001b[0m, in \u001b[0;36m<cell line: 1>\u001b[1;34m()\u001b[0m\n\u001b[1;32m----> 1\u001b[0m \u001b[43mos\u001b[49m\u001b[38;5;241;43m.\u001b[39;49m\u001b[43mmove\u001b[49m(\u001b[38;5;124mr\u001b[39m\u001b[38;5;124m\"\u001b[39m\u001b[38;5;124mC:\u001b[39m\u001b[38;5;124m\\\u001b[39m\u001b[38;5;124mUsers\u001b[39m\u001b[38;5;124m\\\u001b[39m\u001b[38;5;124myashd\u001b[39m\u001b[38;5;124m\\\u001b[39m\u001b[38;5;124m02. Velocity Class Notes\u001b[39m\u001b[38;5;124m\\\u001b[39m\u001b[38;5;124mClass\u001b[39m\u001b[38;5;124m\\\u001b[39m\u001b[38;5;124m2. Month 2\u001b[39m\u001b[38;5;124m\\\u001b[39m\u001b[38;5;124mDay - 33 OS Modules\u001b[39m\u001b[38;5;124m\\\u001b[39m\u001b[38;5;124mPractice\u001b[39m\u001b[38;5;124m\\\u001b[39m\u001b[38;5;124mtext.txt\u001b[39m\u001b[38;5;124m\"\u001b[39m)\n",
      "\u001b[1;31mAttributeError\u001b[0m: module 'os' has no attribute 'move'"
     ]
    }
   ],
   "source": [
    "os.move(r\"C:\\Users\\yashd\\02. Velocity Class Notes\\Class\\2. Month 2\\Day - 33 OS Modules\\Practice\\text.txt\")"
   ]
  },
  {
   "cell_type": "code",
   "execution_count": null,
   "id": "066ad2c7",
   "metadata": {},
   "outputs": [],
   "source": []
  },
  {
   "cell_type": "code",
   "execution_count": null,
   "id": "7a4d64a7",
   "metadata": {},
   "outputs": [],
   "source": []
  }
 ],
 "metadata": {
  "kernelspec": {
   "display_name": "Python 3 (ipykernel)",
   "language": "python",
   "name": "python3"
  },
  "language_info": {
   "codemirror_mode": {
    "name": "ipython",
    "version": 3
   },
   "file_extension": ".py",
   "mimetype": "text/x-python",
   "name": "python",
   "nbconvert_exporter": "python",
   "pygments_lexer": "ipython3",
   "version": "3.9.12"
  }
 },
 "nbformat": 4,
 "nbformat_minor": 5
}
