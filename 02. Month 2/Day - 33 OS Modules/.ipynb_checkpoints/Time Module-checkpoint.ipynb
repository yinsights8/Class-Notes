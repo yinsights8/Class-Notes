{
 "cells": [
  {
   "cell_type": "code",
   "execution_count": 1,
   "id": "d3b19a78",
   "metadata": {},
   "outputs": [],
   "source": [
    "import time"
   ]
  },
  {
   "cell_type": "code",
   "execution_count": 4,
   "id": "a3557c74",
   "metadata": {},
   "outputs": [
    {
     "name": "stdout",
     "output_type": "stream",
     "text": [
      "CPU times: total: 0 ns\n",
      "Wall time: 6 ms\n"
     ]
    }
   ],
   "source": [
    "%%time\n",
    "for i in range(100000):\n",
    "    pass"
   ]
  },
  {
   "cell_type": "code",
   "execution_count": 5,
   "id": "06f5a23c",
   "metadata": {},
   "outputs": [
    {
     "data": {
      "text/plain": [
       "1663554597.96655"
      ]
     },
     "execution_count": 5,
     "metadata": {},
     "output_type": "execute_result"
    }
   ],
   "source": [
    "time.time()"
   ]
  },
  {
   "cell_type": "code",
   "execution_count": 6,
   "id": "a66e4b34",
   "metadata": {},
   "outputs": [
    {
     "data": {
      "text/plain": [
       "1663554628.6010275"
      ]
     },
     "execution_count": 6,
     "metadata": {},
     "output_type": "execute_result"
    }
   ],
   "source": [
    "time.time()"
   ]
  },
  {
   "cell_type": "code",
   "execution_count": 7,
   "id": "5999d195",
   "metadata": {},
   "outputs": [
    {
     "data": {
      "text/plain": [
       "time.struct_time(tm_year=2022, tm_mon=9, tm_mday=19, tm_hour=2, tm_min=31, tm_sec=38, tm_wday=0, tm_yday=262, tm_isdst=0)"
      ]
     },
     "execution_count": 7,
     "metadata": {},
     "output_type": "execute_result"
    }
   ],
   "source": [
    "time.gmtime()"
   ]
  },
  {
   "cell_type": "code",
   "execution_count": 8,
   "id": "63ba0610",
   "metadata": {},
   "outputs": [
    {
     "data": {
      "text/plain": [
       "'Mon Sep 19 08:00:28 2022'"
      ]
     },
     "execution_count": 8,
     "metadata": {},
     "output_type": "execute_result"
    }
   ],
   "source": [
    "time.ctime(1663554628.6010275)"
   ]
  },
  {
   "cell_type": "code",
   "execution_count": 9,
   "id": "c416f02e",
   "metadata": {},
   "outputs": [
    {
     "data": {
      "text/plain": [
       "'Mon Sep 19 07:59:57 2022'"
      ]
     },
     "execution_count": 9,
     "metadata": {},
     "output_type": "execute_result"
    }
   ],
   "source": [
    "time.ctime(1663554597.96655)"
   ]
  },
  {
   "cell_type": "code",
   "execution_count": 11,
   "id": "8842d1ab",
   "metadata": {},
   "outputs": [
    {
     "data": {
      "text/plain": [
       "'Sat Apr  6 23:04:48 2497'"
      ]
     },
     "execution_count": 11,
     "metadata": {},
     "output_type": "execute_result"
    }
   ],
   "source": [
    "time.ctime(16638888888)"
   ]
  },
  {
   "cell_type": "code",
   "execution_count": 12,
   "id": "72edae3e",
   "metadata": {},
   "outputs": [
    {
     "name": "stdout",
     "output_type": "stream",
     "text": [
      "1663554989.5834427\n",
      "1663554989.58444\n"
     ]
    }
   ],
   "source": [
    "start_time = time.time()\n",
    "print(start_time)\n",
    "end_time = time.time()\n",
    "print(end_time)"
   ]
  },
  {
   "cell_type": "code",
   "execution_count": 13,
   "id": "0553414d",
   "metadata": {},
   "outputs": [
    {
     "name": "stdout",
     "output_type": "stream",
     "text": [
      "Start time = 1663555124.4185674\n",
      "End time   = 1663555124.4185674\n",
      "Total Time taken = 0.0\n"
     ]
    }
   ],
   "source": [
    "start_time = time.time()\n",
    "print(f\"Start time = {start_time}\")\n",
    "\n",
    "for i in range(10):\n",
    "    pass\n",
    "\n",
    "\n",
    "end_time = time.time()\n",
    "print(F\"End time   = {end_time}\")\n",
    "print(f\"Total Time taken = {end_time - start_time}\")"
   ]
  },
  {
   "cell_type": "code",
   "execution_count": 14,
   "id": "969fce40",
   "metadata": {},
   "outputs": [
    {
     "name": "stdout",
     "output_type": "stream",
     "text": [
      "Start time = 1663555137.9122322\n",
      "End time   = 1663555137.9572325\n",
      "Total Time taken = 0.045000314712524414\n"
     ]
    }
   ],
   "source": [
    "start_time = time.time()\n",
    "print(f\"Start time = {start_time}\")\n",
    "\n",
    "for i in range(1000000):\n",
    "    pass\n",
    "\n",
    "\n",
    "end_time = time.time()\n",
    "print(F\"End time   = {end_time}\")\n",
    "print(f\"Total Time taken = {end_time - start_time}\")"
   ]
  },
  {
   "cell_type": "code",
   "execution_count": 18,
   "id": "c72c914b",
   "metadata": {},
   "outputs": [
    {
     "name": "stdout",
     "output_type": "stream",
     "text": [
      "Start time = 1663555194.088078\n",
      "End time   = 1663555197.6552532\n",
      "Total Time taken = 3.5671751499176025\n"
     ]
    }
   ],
   "source": [
    "start_time = time.time()\n",
    "print(f\"Start time = {start_time}\")\n",
    "\n",
    "for i in range(100000000):\n",
    "    pass\n",
    "\n",
    "\n",
    "end_time = time.time()\n",
    "print(F\"End time   = {end_time}\")\n",
    "print(f\"Total Time taken = {end_time - start_time}\")"
   ]
  },
  {
   "cell_type": "code",
   "execution_count": 19,
   "id": "3d8901f0",
   "metadata": {},
   "outputs": [
    {
     "name": "stdout",
     "output_type": "stream",
     "text": [
      "CPU times: total: 3.22 s\n",
      "Wall time: 3.24 s\n"
     ]
    }
   ],
   "source": [
    "%%time\n",
    "for i in range(100000000):\n",
    "    pass"
   ]
  },
  {
   "cell_type": "code",
   "execution_count": 21,
   "id": "5e13cabf",
   "metadata": {},
   "outputs": [
    {
     "data": {
      "text/plain": [
       "'Thu Jan  1 05:30:01 1970'"
      ]
     },
     "execution_count": 21,
     "metadata": {},
     "output_type": "execute_result"
    }
   ],
   "source": [
    "time.ctime(1)"
   ]
  },
  {
   "cell_type": "code",
   "execution_count": null,
   "id": "83ddeb22",
   "metadata": {},
   "outputs": [],
   "source": []
  }
 ],
 "metadata": {
  "kernelspec": {
   "display_name": "Python 3 (ipykernel)",
   "language": "python",
   "name": "python3"
  },
  "language_info": {
   "codemirror_mode": {
    "name": "ipython",
    "version": 3
   },
   "file_extension": ".py",
   "mimetype": "text/x-python",
   "name": "python",
   "nbconvert_exporter": "python",
   "pygments_lexer": "ipython3",
   "version": "3.9.12"
  }
 },
 "nbformat": 4,
 "nbformat_minor": 5
}
