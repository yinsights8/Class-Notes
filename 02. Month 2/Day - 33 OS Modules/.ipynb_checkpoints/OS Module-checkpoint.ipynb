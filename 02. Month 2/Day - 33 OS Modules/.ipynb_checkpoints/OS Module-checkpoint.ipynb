{
 "cells": [
  {
   "cell_type": "markdown",
   "id": "7d1270b9",
   "metadata": {},
   "source": [
    "# OS Module"
   ]
  },
  {
   "cell_type": "code",
   "execution_count": 2,
   "id": "fd44628e",
   "metadata": {},
   "outputs": [],
   "source": [
    "with open(\"Sample.txt\",\"w\") as f:\n",
    "    f.write(\"Sample file\")"
   ]
  },
  {
   "cell_type": "code",
   "execution_count": 3,
   "id": "013588a2",
   "metadata": {},
   "outputs": [],
   "source": [
    "import os"
   ]
  },
  {
   "cell_type": "code",
   "execution_count": 4,
   "id": "dcd01496",
   "metadata": {},
   "outputs": [
    {
     "data": {
      "text/plain": [
       "True"
      ]
     },
     "execution_count": 4,
     "metadata": {},
     "output_type": "execute_result"
    }
   ],
   "source": [
    "os.path.exists(\"Sample.txt\")"
   ]
  },
  {
   "cell_type": "code",
   "execution_count": 5,
   "id": "94b4085f",
   "metadata": {},
   "outputs": [
    {
     "name": "stdout",
     "output_type": "stream",
     "text": [
      "Sample file\n"
     ]
    }
   ],
   "source": [
    "if os.path.exists(\"Sample.txt\"):\n",
    "    with open(\"Sample.txt\") as f:\n",
    "        print(f.read())"
   ]
  },
  {
   "cell_type": "code",
   "execution_count": 6,
   "id": "51bf4b0e",
   "metadata": {},
   "outputs": [],
   "source": [
    "if os.path.exists(\"Sample1.txt\"):\n",
    "    with open(\"Sample.txt\") as f:\n",
    "        print(f.read())"
   ]
  },
  {
   "cell_type": "code",
   "execution_count": 7,
   "id": "241ebadd",
   "metadata": {},
   "outputs": [
    {
     "name": "stdout",
     "output_type": "stream",
     "text": [
      "Sample file\n"
     ]
    }
   ],
   "source": [
    "if os.path.exists(\"Sample.txt\"):\n",
    "    with open(\"Sample.txt\") as f:\n",
    "        print(f.read())\n",
    "else:\n",
    "    print(\"File not found\")"
   ]
  },
  {
   "cell_type": "code",
   "execution_count": 8,
   "id": "eda19204",
   "metadata": {},
   "outputs": [
    {
     "name": "stdout",
     "output_type": "stream",
     "text": [
      "File not found\n"
     ]
    }
   ],
   "source": [
    "if os.path.exists(\"Sample1.txt\"):\n",
    "    with open(\"Sample.txt\") as f:\n",
    "        print(f.read())\n",
    "else:\n",
    "    print(\"File not found\")"
   ]
  },
  {
   "cell_type": "code",
   "execution_count": 11,
   "id": "f5178267",
   "metadata": {},
   "outputs": [],
   "source": [
    "for i in range(1,6):\n",
    "    with open(f\"Model{i}.txt\",\"w\") as file:\n",
    "        file.write(f\"*****************Model file {i}*********************\")"
   ]
  },
  {
   "cell_type": "code",
   "execution_count": 12,
   "id": "cffe6a31",
   "metadata": {},
   "outputs": [],
   "source": [
    "if os.path.exists(\"Model1.txt\"):\n",
    "    os.remove(\"Model1.txt\")\n",
    "else:\n",
    "    print(\"File not found\")"
   ]
  },
  {
   "cell_type": "code",
   "execution_count": 13,
   "id": "82f874a0",
   "metadata": {},
   "outputs": [
    {
     "name": "stdout",
     "output_type": "stream",
     "text": [
      "File not found\n"
     ]
    }
   ],
   "source": [
    "if os.path.exists(\"Model1.txt\"):\n",
    "    os.remove(\"Model1.txt\")\n",
    "    print(\"File removed\")\n",
    "else:\n",
    "    print(\"File not found\")"
   ]
  },
  {
   "cell_type": "code",
   "execution_count": 14,
   "id": "fb77babb",
   "metadata": {},
   "outputs": [
    {
     "name": "stdout",
     "output_type": "stream",
     "text": [
      "File Created\n"
     ]
    }
   ],
   "source": [
    "if os.path.exists(\"Model1.txt\"):\n",
    "    with open(\"Model1.txt\",'a') as f:\n",
    "        f.write(\"\\nThis is the model file for linear regression\")\n",
    "        print(\"New msg appended\")\n",
    "else:\n",
    "    with open(\"Model1.txt\",'w') as f:\n",
    "        f.write(f\"*****************Model file {1}*********************\")\n",
    "        print(\"File Created\")"
   ]
  },
  {
   "cell_type": "code",
   "execution_count": 15,
   "id": "a1792fd2",
   "metadata": {},
   "outputs": [
    {
     "name": "stdout",
     "output_type": "stream",
     "text": [
      "New msg appended\n"
     ]
    }
   ],
   "source": [
    "if os.path.exists(\"Model1.txt\"):\n",
    "    with open(\"Model1.txt\",'a') as f:\n",
    "        f.write(\"\\nThis is the model file for linear regression\")\n",
    "        print(\"New msg appended\")\n",
    "else:\n",
    "    with open(\"Model1.txt\",'w') as f:\n",
    "        f.write(f\"*****************Model file {1}*********************\")\n",
    "        print(\"File Created\")"
   ]
  },
  {
   "cell_type": "markdown",
   "id": "8759508c",
   "metadata": {},
   "source": [
    "# Create Directory\n",
    "- os.mkdir(folder_path)"
   ]
  },
  {
   "cell_type": "code",
   "execution_count": 16,
   "id": "778fd7ce",
   "metadata": {},
   "outputs": [],
   "source": [
    "os.mkdir(\"Data_Science_batch\")"
   ]
  },
  {
   "cell_type": "code",
   "execution_count": 17,
   "id": "93196457",
   "metadata": {},
   "outputs": [
    {
     "ename": "FileExistsError",
     "evalue": "[WinError 183] Cannot create a file when that file already exists: 'Data_Science_batch'",
     "output_type": "error",
     "traceback": [
      "\u001b[1;31m---------------------------------------------------------------------------\u001b[0m",
      "\u001b[1;31mFileExistsError\u001b[0m                           Traceback (most recent call last)",
      "Input \u001b[1;32mIn [17]\u001b[0m, in \u001b[0;36m<cell line: 1>\u001b[1;34m()\u001b[0m\n\u001b[1;32m----> 1\u001b[0m \u001b[43mos\u001b[49m\u001b[38;5;241;43m.\u001b[39;49m\u001b[43mmkdir\u001b[49m\u001b[43m(\u001b[49m\u001b[38;5;124;43m\"\u001b[39;49m\u001b[38;5;124;43mData_Science_batch\u001b[39;49m\u001b[38;5;124;43m\"\u001b[39;49m\u001b[43m)\u001b[49m\n",
      "\u001b[1;31mFileExistsError\u001b[0m: [WinError 183] Cannot create a file when that file already exists: 'Data_Science_batch'"
     ]
    }
   ],
   "source": [
    "os.mkdir(\"Data_Science_batch\")"
   ]
  },
  {
   "cell_type": "code",
   "execution_count": 18,
   "id": "f72e628c",
   "metadata": {},
   "outputs": [],
   "source": [
    "os.mkdir(\"Data\")"
   ]
  },
  {
   "cell_type": "code",
   "execution_count": 19,
   "id": "97feadc9",
   "metadata": {},
   "outputs": [
    {
     "ename": "FileExistsError",
     "evalue": "[WinError 183] Cannot create a file when that file already exists: 'Data'",
     "output_type": "error",
     "traceback": [
      "\u001b[1;31m---------------------------------------------------------------------------\u001b[0m",
      "\u001b[1;31mFileExistsError\u001b[0m                           Traceback (most recent call last)",
      "Input \u001b[1;32mIn [19]\u001b[0m, in \u001b[0;36m<cell line: 1>\u001b[1;34m()\u001b[0m\n\u001b[1;32m----> 1\u001b[0m \u001b[43mos\u001b[49m\u001b[38;5;241;43m.\u001b[39;49m\u001b[43mmkdir\u001b[49m\u001b[43m(\u001b[49m\u001b[38;5;124;43m\"\u001b[39;49m\u001b[38;5;124;43mData\u001b[39;49m\u001b[38;5;124;43m\"\u001b[39;49m\u001b[43m)\u001b[49m\n",
      "\u001b[1;31mFileExistsError\u001b[0m: [WinError 183] Cannot create a file when that file already exists: 'Data'"
     ]
    }
   ],
   "source": [
    "os.mkdir(\"Data\")"
   ]
  },
  {
   "cell_type": "code",
   "execution_count": 20,
   "id": "455f154e",
   "metadata": {},
   "outputs": [
    {
     "data": {
      "text/plain": [
       "True"
      ]
     },
     "execution_count": 20,
     "metadata": {},
     "output_type": "execute_result"
    }
   ],
   "source": [
    "folder_path = \"Data\"\n",
    "os.path.exists(folder_path)"
   ]
  },
  {
   "cell_type": "code",
   "execution_count": 21,
   "id": "b299f20c",
   "metadata": {},
   "outputs": [
    {
     "name": "stdout",
     "output_type": "stream",
     "text": [
      "Data :- This folder is already present\n"
     ]
    }
   ],
   "source": [
    "if os.path.exists(folder_path):\n",
    "    print(f\"{folder_path} :- This folder is already present\")\n",
    "else:\n",
    "    print(f\"{folder_path} :- This folder is not present\")\n",
    "    os.mkdir(folder_path)\n",
    "    print(\"Folder Created\")"
   ]
  },
  {
   "cell_type": "code",
   "execution_count": 22,
   "id": "91f155dd",
   "metadata": {},
   "outputs": [
    {
     "name": "stdout",
     "output_type": "stream",
     "text": [
      "Python :- This folder is not present\n",
      "Folder Created\n"
     ]
    }
   ],
   "source": [
    "folder_path = \"Python\"\n",
    "if os.path.exists(folder_path):\n",
    "    print(f\"{folder_path} :- This folder is already present\")\n",
    "else:\n",
    "    print(f\"{folder_path} :- This folder is not present\")\n",
    "    os.mkdir(folder_path)\n",
    "    print(\"Folder Created\")"
   ]
  },
  {
   "cell_type": "code",
   "execution_count": 24,
   "id": "950f0799",
   "metadata": {},
   "outputs": [
    {
     "data": {
      "text/plain": [
       "'D:\\\\Python & Data Science\\\\13_Aug_Python&DataScience'"
      ]
     },
     "execution_count": 24,
     "metadata": {},
     "output_type": "execute_result"
    }
   ],
   "source": [
    "path = r\"D:\\Python & Data Science\\13_Aug_Python&DataScience\"\n",
    "path"
   ]
  },
  {
   "cell_type": "code",
   "execution_count": 25,
   "id": "5a3832ce",
   "metadata": {},
   "outputs": [
    {
     "data": {
      "text/plain": [
       "'D:\\\\Python & Data Science\\\\13_Aug_Python&DataScience\\\\SQL'"
      ]
     },
     "execution_count": 25,
     "metadata": {},
     "output_type": "execute_result"
    }
   ],
   "source": [
    "folder_path = path + \"\\SQL\"\n",
    "folder_path"
   ]
  },
  {
   "cell_type": "code",
   "execution_count": 26,
   "id": "a945c0da",
   "metadata": {},
   "outputs": [
    {
     "name": "stdout",
     "output_type": "stream",
     "text": [
      "D:\\Python & Data Science\\13_Aug_Python&DataScience\\SQL :- This folder is not present\n",
      "Folder Created\n"
     ]
    }
   ],
   "source": [
    "\n",
    "if os.path.exists(folder_path):\n",
    "    print(f\"{folder_path} :- This folder is already present\")\n",
    "else:\n",
    "    print(f\"{folder_path} :- This folder is not present\")\n",
    "    os.mkdir(folder_path)\n",
    "    print(\"Folder Created\")"
   ]
  },
  {
   "cell_type": "code",
   "execution_count": 27,
   "id": "c997d8f0",
   "metadata": {},
   "outputs": [
    {
     "name": "stdout",
     "output_type": "stream",
     "text": [
      "D:\\Python & Data Science\\13_Aug_Python&DataScience\\SQL :- This folder is already present\n"
     ]
    }
   ],
   "source": [
    "\n",
    "if os.path.exists(folder_path):\n",
    "    print(f\"{folder_path} :- This folder is already present\")\n",
    "else:\n",
    "    print(f\"{folder_path} :- This folder is not present\")\n",
    "    os.mkdir(folder_path)\n",
    "    print(\"Folder Created\")"
   ]
  },
  {
   "cell_type": "code",
   "execution_count": 30,
   "id": "9253adb1",
   "metadata": {},
   "outputs": [
    {
     "name": "stdout",
     "output_type": "stream",
     "text": [
      "D:\\Python & Data Science\\13_Aug_Python&DataScience\\SQL :- This folder is already present\n",
      "Folder is removed\n"
     ]
    }
   ],
   "source": [
    "\n",
    "if os.path.exists(folder_path):\n",
    "    print(f\"{folder_path} :- This folder is already present\")\n",
    "    os.rmdir(folder_path)\n",
    "    print(\"Folder is removed\")\n",
    "else:\n",
    "    print(f\"{folder_path} :- This folder is not present\")\n",
    "    os.mkdir(folder_path)\n",
    "    print(\"Folder Created\")"
   ]
  },
  {
   "cell_type": "code",
   "execution_count": 31,
   "id": "f874feef",
   "metadata": {},
   "outputs": [
    {
     "data": {
      "text/plain": [
       "'D:\\\\Python & Data Science\\\\30_July_PythonAndDataScience\\\\09_19_Os_module'"
      ]
     },
     "execution_count": 31,
     "metadata": {},
     "output_type": "execute_result"
    }
   ],
   "source": [
    "path = r\"D:\\Python & Data Science\\30_July_PythonAndDataScience\\09_19_Os_module\"\n",
    "path"
   ]
  },
  {
   "cell_type": "code",
   "execution_count": 32,
   "id": "307b9485",
   "metadata": {},
   "outputs": [
    {
     "data": {
      "text/plain": [
       "'Folder1\\\\sample.txt'"
      ]
     },
     "execution_count": 32,
     "metadata": {},
     "output_type": "execute_result"
    }
   ],
   "source": [
    "\"Folder1\\sample.txt\""
   ]
  },
  {
   "cell_type": "code",
   "execution_count": 36,
   "id": "1923ea45",
   "metadata": {},
   "outputs": [
    {
     "data": {
      "text/plain": [
       "'folder\\\\new_file.txt'"
      ]
     },
     "execution_count": 36,
     "metadata": {},
     "output_type": "execute_result"
    }
   ],
   "source": [
    "r\"folder\\new_file.txt\""
   ]
  },
  {
   "cell_type": "code",
   "execution_count": 38,
   "id": "be43d900",
   "metadata": {},
   "outputs": [
    {
     "data": {
      "text/plain": [
       "'D:\\\\Python & Data Science\\\\30_July_PythonAndDataScience\\\\09_19_Os_module\\\\Datalake\\\\databricks'"
      ]
     },
     "execution_count": 38,
     "metadata": {},
     "output_type": "execute_result"
    }
   ],
   "source": [
    "path = r\"D:\\Python & Data Science\\30_July_PythonAndDataScience\\09_19_Os_module\"\n",
    "folders = path + \"\\Datalake\\databricks\"\n",
    "folders"
   ]
  },
  {
   "cell_type": "code",
   "execution_count": 39,
   "id": "2d84d789",
   "metadata": {},
   "outputs": [
    {
     "ename": "FileNotFoundError",
     "evalue": "[WinError 3] The system cannot find the path specified: 'D:\\\\Python & Data Science\\\\30_July_PythonAndDataScience\\\\09_19_Os_module\\\\Datalake\\\\databricks'",
     "output_type": "error",
     "traceback": [
      "\u001b[1;31m---------------------------------------------------------------------------\u001b[0m",
      "\u001b[1;31mFileNotFoundError\u001b[0m                         Traceback (most recent call last)",
      "Input \u001b[1;32mIn [39]\u001b[0m, in \u001b[0;36m<cell line: 1>\u001b[1;34m()\u001b[0m\n\u001b[1;32m----> 1\u001b[0m \u001b[43mos\u001b[49m\u001b[38;5;241;43m.\u001b[39;49m\u001b[43mmkdir\u001b[49m\u001b[43m(\u001b[49m\u001b[43mfolders\u001b[49m\u001b[43m)\u001b[49m\n",
      "\u001b[1;31mFileNotFoundError\u001b[0m: [WinError 3] The system cannot find the path specified: 'D:\\\\Python & Data Science\\\\30_July_PythonAndDataScience\\\\09_19_Os_module\\\\Datalake\\\\databricks'"
     ]
    }
   ],
   "source": [
    "os.mkdir(folders)"
   ]
  },
  {
   "cell_type": "code",
   "execution_count": 40,
   "id": "67aacefe",
   "metadata": {},
   "outputs": [],
   "source": [
    "os.makedirs(folders)"
   ]
  },
  {
   "cell_type": "code",
   "execution_count": 41,
   "id": "7dd9bbc5",
   "metadata": {},
   "outputs": [],
   "source": [
    "os.makedirs(folders + \"\\databricks1\")"
   ]
  },
  {
   "cell_type": "code",
   "execution_count": 42,
   "id": "a7b3c77d",
   "metadata": {},
   "outputs": [
    {
     "data": {
      "text/plain": [
       "'D:\\\\Python & Data Science\\\\30_July_PythonAndDataScience\\\\09_19_Os_module\\\\Datalake\\\\databricks\\\\databricks1'"
      ]
     },
     "execution_count": 42,
     "metadata": {},
     "output_type": "execute_result"
    }
   ],
   "source": [
    "folders + \"\\databricks1\""
   ]
  },
  {
   "cell_type": "code",
   "execution_count": 43,
   "id": "9018060d",
   "metadata": {},
   "outputs": [
    {
     "data": {
      "text/plain": [
       "'D:\\\\Python & Data Science\\\\30_July_PythonAndDataScience\\\\09_19_Os_module'"
      ]
     },
     "execution_count": 43,
     "metadata": {},
     "output_type": "execute_result"
    }
   ],
   "source": [
    "path"
   ]
  },
  {
   "cell_type": "code",
   "execution_count": 46,
   "id": "70325e80",
   "metadata": {},
   "outputs": [],
   "source": [
    "path = path + \"\\AWS\\Cred\\S3_Cred\""
   ]
  },
  {
   "cell_type": "code",
   "execution_count": 47,
   "id": "1484564f",
   "metadata": {},
   "outputs": [],
   "source": [
    "os.makedirs(path)"
   ]
  },
  {
   "cell_type": "markdown",
   "id": "b7350d07",
   "metadata": {},
   "source": [
    "# Delete Directory\n",
    "- os.rmdir(folder_path)\n",
    "    - Works only for empty directory"
   ]
  },
  {
   "cell_type": "code",
   "execution_count": 50,
   "id": "d6adce73",
   "metadata": {},
   "outputs": [
    {
     "data": {
      "text/plain": [
       "True"
      ]
     },
     "execution_count": 50,
     "metadata": {},
     "output_type": "execute_result"
    }
   ],
   "source": [
    "folder_path = \"Python\"\n",
    "os.path.exists(folder_path)"
   ]
  },
  {
   "cell_type": "code",
   "execution_count": 51,
   "id": "e05947de",
   "metadata": {},
   "outputs": [],
   "source": [
    "os.rmdir(folder_path)"
   ]
  },
  {
   "cell_type": "code",
   "execution_count": 52,
   "id": "22c2bd85",
   "metadata": {},
   "outputs": [
    {
     "ename": "OSError",
     "evalue": "[WinError 145] The directory is not empty: 'Datalake'",
     "output_type": "error",
     "traceback": [
      "\u001b[1;31m---------------------------------------------------------------------------\u001b[0m",
      "\u001b[1;31mOSError\u001b[0m                                   Traceback (most recent call last)",
      "Input \u001b[1;32mIn [52]\u001b[0m, in \u001b[0;36m<cell line: 1>\u001b[1;34m()\u001b[0m\n\u001b[1;32m----> 1\u001b[0m \u001b[43mos\u001b[49m\u001b[38;5;241;43m.\u001b[39;49m\u001b[43mrmdir\u001b[49m\u001b[43m(\u001b[49m\u001b[38;5;124;43m\"\u001b[39;49m\u001b[38;5;124;43mDatalake\u001b[39;49m\u001b[38;5;124;43m\"\u001b[39;49m\u001b[43m)\u001b[49m\n",
      "\u001b[1;31mOSError\u001b[0m: [WinError 145] The directory is not empty: 'Datalake'"
     ]
    }
   ],
   "source": [
    "os.rmdir(\"Datalake\")"
   ]
  },
  {
   "cell_type": "code",
   "execution_count": 53,
   "id": "abf5e884",
   "metadata": {},
   "outputs": [],
   "source": [
    "os.rmdir(\"Data\")"
   ]
  },
  {
   "cell_type": "markdown",
   "id": "3a925d87",
   "metadata": {},
   "source": [
    "# Check files in folder "
   ]
  },
  {
   "cell_type": "code",
   "execution_count": 54,
   "id": "9cd03e56",
   "metadata": {},
   "outputs": [
    {
     "data": {
      "text/plain": [
       "['.ipynb_checkpoints',\n",
       " 'AWS',\n",
       " 'Datalake',\n",
       " 'Data_Science_batch',\n",
       " 'Model1.txt',\n",
       " 'Model2.txt',\n",
       " 'Model3.txt',\n",
       " 'Model4.txt',\n",
       " 'Model5.txt',\n",
       " 'OS Module.ipynb',\n",
       " 'Sample.txt']"
      ]
     },
     "execution_count": 54,
     "metadata": {},
     "output_type": "execute_result"
    }
   ],
   "source": [
    "os.listdir()"
   ]
  },
  {
   "cell_type": "code",
   "execution_count": 56,
   "id": "9cdefc1c",
   "metadata": {},
   "outputs": [
    {
     "data": {
      "text/plain": [
       "'D:\\\\Python & Data Science\\\\30_July_PythonAndDataScience\\\\09_19_Os_module'"
      ]
     },
     "execution_count": 56,
     "metadata": {},
     "output_type": "execute_result"
    }
   ],
   "source": [
    "cwd = os.getcwd()\n",
    "cwd"
   ]
  },
  {
   "cell_type": "code",
   "execution_count": 57,
   "id": "c5d73067",
   "metadata": {},
   "outputs": [
    {
     "data": {
      "text/plain": [
       "['.ipynb_checkpoints',\n",
       " 'AWS',\n",
       " 'Datalake',\n",
       " 'Data_Science_batch',\n",
       " 'Model1.txt',\n",
       " 'Model2.txt',\n",
       " 'Model3.txt',\n",
       " 'Model4.txt',\n",
       " 'Model5.txt',\n",
       " 'OS Module.ipynb',\n",
       " 'Sample.txt']"
      ]
     },
     "execution_count": 57,
     "metadata": {},
     "output_type": "execute_result"
    }
   ],
   "source": [
    "os.listdir(path = cwd)"
   ]
  },
  {
   "cell_type": "code",
   "execution_count": 58,
   "id": "491cccfe",
   "metadata": {},
   "outputs": [
    {
     "data": {
      "text/plain": [
       "['databricks']"
      ]
     },
     "execution_count": 58,
     "metadata": {},
     "output_type": "execute_result"
    }
   ],
   "source": [
    "os.listdir(\"Datalake\")"
   ]
  },
  {
   "cell_type": "code",
   "execution_count": 60,
   "id": "11430eac",
   "metadata": {},
   "outputs": [
    {
     "ename": "FileNotFoundError",
     "evalue": "[WinError 3] The system cannot find the path specified: 'databricks'",
     "output_type": "error",
     "traceback": [
      "\u001b[1;31m---------------------------------------------------------------------------\u001b[0m",
      "\u001b[1;31mFileNotFoundError\u001b[0m                         Traceback (most recent call last)",
      "Input \u001b[1;32mIn [60]\u001b[0m, in \u001b[0;36m<cell line: 1>\u001b[1;34m()\u001b[0m\n\u001b[1;32m----> 1\u001b[0m \u001b[43mos\u001b[49m\u001b[38;5;241;43m.\u001b[39;49m\u001b[43mlistdir\u001b[49m\u001b[43m(\u001b[49m\u001b[38;5;124;43m\"\u001b[39;49m\u001b[38;5;124;43mdatabricks\u001b[39;49m\u001b[38;5;124;43m\"\u001b[39;49m\u001b[43m)\u001b[49m\n",
      "\u001b[1;31mFileNotFoundError\u001b[0m: [WinError 3] The system cannot find the path specified: 'databricks'"
     ]
    }
   ],
   "source": [
    "os.listdir(\"databricks\")"
   ]
  },
  {
   "cell_type": "code",
   "execution_count": 61,
   "id": "ce8bc747",
   "metadata": {},
   "outputs": [
    {
     "data": {
      "text/plain": [
       "['databricks1']"
      ]
     },
     "execution_count": 61,
     "metadata": {},
     "output_type": "execute_result"
    }
   ],
   "source": [
    "os.listdir(\"Datalake\\databricks\")"
   ]
  },
  {
   "cell_type": "code",
   "execution_count": 62,
   "id": "a2ac6bf9",
   "metadata": {},
   "outputs": [
    {
     "name": "stdout",
     "output_type": "stream",
     "text": [
      "Files created\n",
      "Files created\n",
      "Files created\n",
      "Files created\n",
      "Files created\n"
     ]
    }
   ],
   "source": [
    "for i in range(1,6):\n",
    "    with open(f\"JSON_FILE{i}.json\",'w') as f:\n",
    "        pass\n",
    "    print(\"Files created\")"
   ]
  },
  {
   "cell_type": "code",
   "execution_count": 63,
   "id": "8d3129c1",
   "metadata": {},
   "outputs": [
    {
     "name": "stdout",
     "output_type": "stream",
     "text": [
      "Files created\n",
      "Files created\n",
      "Files created\n",
      "Files created\n",
      "Files created\n"
     ]
    }
   ],
   "source": [
    "for i in range(1,6):\n",
    "    with open(f\"data{i}.csv\",'w') as f:\n",
    "        pass\n",
    "    print(\"Files created\")"
   ]
  },
  {
   "cell_type": "code",
   "execution_count": 64,
   "id": "8b3629eb",
   "metadata": {},
   "outputs": [
    {
     "data": {
      "text/plain": [
       "['.ipynb_checkpoints',\n",
       " 'AWS',\n",
       " 'data1.csv',\n",
       " 'data2.csv',\n",
       " 'data3.csv',\n",
       " 'data4.csv',\n",
       " 'data5.csv',\n",
       " 'Datalake',\n",
       " 'Data_Science_batch',\n",
       " 'JSON_FILE1.json',\n",
       " 'JSON_FILE2.json',\n",
       " 'JSON_FILE3.json',\n",
       " 'JSON_FILE4.json',\n",
       " 'JSON_FILE5.json',\n",
       " 'Model1.txt',\n",
       " 'Model2.txt',\n",
       " 'Model3.txt',\n",
       " 'Model4.txt',\n",
       " 'Model5.txt',\n",
       " 'OS Module.ipynb',\n",
       " 'Sample.txt']"
      ]
     },
     "execution_count": 64,
     "metadata": {},
     "output_type": "execute_result"
    }
   ],
   "source": [
    "os.listdir()"
   ]
  },
  {
   "cell_type": "code",
   "execution_count": 66,
   "id": "ab91c0f6",
   "metadata": {},
   "outputs": [
    {
     "name": "stdout",
     "output_type": "stream",
     "text": [
      ".ipynb_checkpoints <class 'str'>\n",
      "AWS <class 'str'>\n",
      "data1.csv <class 'str'>\n",
      "data2.csv <class 'str'>\n",
      "data3.csv <class 'str'>\n",
      "data4.csv <class 'str'>\n",
      "data5.csv <class 'str'>\n",
      "Datalake <class 'str'>\n",
      "Data_Science_batch <class 'str'>\n",
      "JSON_FILE1.json <class 'str'>\n",
      "JSON_FILE2.json <class 'str'>\n",
      "JSON_FILE3.json <class 'str'>\n",
      "JSON_FILE4.json <class 'str'>\n",
      "JSON_FILE5.json <class 'str'>\n",
      "Model1.txt <class 'str'>\n",
      "Model2.txt <class 'str'>\n",
      "Model3.txt <class 'str'>\n",
      "Model4.txt <class 'str'>\n",
      "Model5.txt <class 'str'>\n",
      "OS Module.ipynb <class 'str'>\n",
      "Sample.txt <class 'str'>\n"
     ]
    }
   ],
   "source": [
    "txt_files = []\n",
    "for i in os.listdir():\n",
    "    print(i,type(i))"
   ]
  },
  {
   "cell_type": "code",
   "execution_count": 67,
   "id": "8a56f85b",
   "metadata": {},
   "outputs": [
    {
     "name": "stdout",
     "output_type": "stream",
     "text": [
      "['Model1.txt', 'Model2.txt', 'Model3.txt', 'Model4.txt', 'Model5.txt', 'Sample.txt']\n"
     ]
    }
   ],
   "source": [
    "txt_files = []\n",
    "for i in os.listdir():\n",
    "    if i.endswith(\".txt\") :\n",
    "        txt_files.append(i)\n",
    "print(txt_files)"
   ]
  },
  {
   "cell_type": "code",
   "execution_count": 69,
   "id": "150346f8",
   "metadata": {},
   "outputs": [
    {
     "name": "stdout",
     "output_type": "stream",
     "text": [
      "['data1.csv', 'data2.csv', 'data3.csv', 'data4.csv', 'data5.csv']\n"
     ]
    }
   ],
   "source": [
    "csv_files = []\n",
    "for i in os.listdir():\n",
    "    if i.endswith(\".csv\") :\n",
    "        csv_files.append(i)\n",
    "print(csv_files)"
   ]
  },
  {
   "cell_type": "code",
   "execution_count": 70,
   "id": "46edcd17",
   "metadata": {},
   "outputs": [
    {
     "name": "stdout",
     "output_type": "stream",
     "text": [
      "['JSON_FILE1.json', 'JSON_FILE2.json', 'JSON_FILE3.json', 'JSON_FILE4.json', 'JSON_FILE5.json']\n"
     ]
    }
   ],
   "source": [
    "csv_files = []\n",
    "for i in os.listdir():\n",
    "    if i.endswith(\".json\") :\n",
    "        csv_files.append(i)\n",
    "print(csv_files)"
   ]
  },
  {
   "cell_type": "code",
   "execution_count": 71,
   "id": "ff70ec39",
   "metadata": {},
   "outputs": [
    {
     "name": "stdout",
     "output_type": "stream",
     "text": [
      "['.ipynb_checkpoints', 'AWS', 'data1.csv', 'data2.csv', 'data3.csv', 'data4.csv', 'data5.csv', 'Datalake', 'Data_Science_batch', 'Model1.txt', 'Model2.txt', 'Model3.txt', 'Model4.txt', 'Model5.txt', 'OS Module.ipynb', 'Sample.txt']\n"
     ]
    }
   ],
   "source": [
    "csv_files = []\n",
    "for i in os.listdir():\n",
    "    if not i.endswith(\".json\") :\n",
    "        csv_files.append(i)\n",
    "print(csv_files)"
   ]
  },
  {
   "cell_type": "code",
   "execution_count": 73,
   "id": "387fa537",
   "metadata": {},
   "outputs": [
    {
     "name": "stdout",
     "output_type": "stream",
     "text": [
      "['.ipynb_checkpoints', 'AWS', 'data1.csv', 'data2.csv', 'data3.csv', 'data4.csv', 'data5.csv', 'Datalake', 'Data_Science_batch', 'JSON_FILE1.json', 'JSON_FILE2.json', 'JSON_FILE3.json', 'JSON_FILE4.json', 'JSON_FILE5.json', 'OS Module.ipynb']\n"
     ]
    }
   ],
   "source": [
    "csv_files = []\n",
    "for i in os.listdir():\n",
    "    if not i.endswith(\".txt\") :\n",
    "        csv_files.append(i)\n",
    "print(csv_files)"
   ]
  },
  {
   "cell_type": "markdown",
   "id": "61a12931",
   "metadata": {},
   "source": [
    "# Current Working Dir\n",
    "- os.getcwd()\n",
    "- Return Current Working Directory"
   ]
  },
  {
   "cell_type": "code",
   "execution_count": 74,
   "id": "e32de01b",
   "metadata": {},
   "outputs": [
    {
     "data": {
      "text/plain": [
       "'D:\\\\Python & Data Science\\\\30_July_PythonAndDataScience\\\\09_19_Os_module'"
      ]
     },
     "execution_count": 74,
     "metadata": {},
     "output_type": "execute_result"
    }
   ],
   "source": [
    "os.getcwd()"
   ]
  },
  {
   "cell_type": "markdown",
   "id": "73495933",
   "metadata": {},
   "source": [
    "# Change directory \n",
    "- os.chdir(path)"
   ]
  },
  {
   "cell_type": "code",
   "execution_count": 75,
   "id": "f8b2aeec",
   "metadata": {},
   "outputs": [
    {
     "data": {
      "text/plain": [
       "'D:\\\\Python & Data Science\\\\30_July_PythonAndDataScience\\\\09_19_Os_module'"
      ]
     },
     "execution_count": 75,
     "metadata": {},
     "output_type": "execute_result"
    }
   ],
   "source": [
    "os.getcwd()"
   ]
  },
  {
   "cell_type": "code",
   "execution_count": 76,
   "id": "df4ad8c7",
   "metadata": {},
   "outputs": [
    {
     "data": {
      "text/plain": [
       "'D:\\\\Python & Data Science\\\\30_July_PythonAndDataScience\\\\09_19_Os_module'"
      ]
     },
     "execution_count": 76,
     "metadata": {},
     "output_type": "execute_result"
    }
   ],
   "source": [
    "path = os.getcwd()\n",
    "path"
   ]
  },
  {
   "cell_type": "code",
   "execution_count": 79,
   "id": "042e7bf7",
   "metadata": {},
   "outputs": [],
   "source": [
    "folder = \"Datalake\""
   ]
  },
  {
   "cell_type": "code",
   "execution_count": 80,
   "id": "ad8b9d6c",
   "metadata": {},
   "outputs": [
    {
     "ename": "SyntaxError",
     "evalue": "unterminated string literal (detected at line 1) (3997330877.py, line 1)",
     "output_type": "error",
     "traceback": [
      "\u001b[1;36m  Input \u001b[1;32mIn [80]\u001b[1;36m\u001b[0m\n\u001b[1;33m    path + \"\\\" + folder\u001b[0m\n\u001b[1;37m           ^\u001b[0m\n\u001b[1;31mSyntaxError\u001b[0m\u001b[1;31m:\u001b[0m unterminated string literal (detected at line 1)\n"
     ]
    }
   ],
   "source": [
    "path + \"\\\" + folder"
   ]
  },
  {
   "cell_type": "code",
   "execution_count": 81,
   "id": "acbcb80c",
   "metadata": {},
   "outputs": [
    {
     "data": {
      "text/plain": [
       "'D:\\\\Python & Data Science\\\\30_July_PythonAndDataScience\\\\09_19_Os_module\\\\Datalake'"
      ]
     },
     "execution_count": 81,
     "metadata": {},
     "output_type": "execute_result"
    }
   ],
   "source": [
    "os.path.join(path,folder)"
   ]
  },
  {
   "cell_type": "code",
   "execution_count": 82,
   "id": "1b3c433f",
   "metadata": {},
   "outputs": [
    {
     "data": {
      "text/plain": [
       "'D:\\\\Python & Data Science\\\\30_July_PythonAndDataScience\\\\09_19_Os_module'"
      ]
     },
     "execution_count": 82,
     "metadata": {},
     "output_type": "execute_result"
    }
   ],
   "source": [
    "os.path.join(folder,path)"
   ]
  },
  {
   "cell_type": "code",
   "execution_count": 83,
   "id": "4a817248",
   "metadata": {},
   "outputs": [],
   "source": [
    "os.chdir(os.path.join(path,folder))"
   ]
  },
  {
   "cell_type": "code",
   "execution_count": 84,
   "id": "e28414f3",
   "metadata": {},
   "outputs": [
    {
     "data": {
      "text/plain": [
       "['databricks']"
      ]
     },
     "execution_count": 84,
     "metadata": {},
     "output_type": "execute_result"
    }
   ],
   "source": [
    "os.listdir()"
   ]
  },
  {
   "cell_type": "code",
   "execution_count": 87,
   "id": "79fd1c4e",
   "metadata": {},
   "outputs": [],
   "source": [
    "for i in range(1,6):\n",
    "    with open(f\"file{i}.txt\",\"w\") as f:\n",
    "        pass"
   ]
  },
  {
   "cell_type": "code",
   "execution_count": 88,
   "id": "29f27d80",
   "metadata": {},
   "outputs": [
    {
     "data": {
      "text/plain": [
       "['databricks',\n",
       " 'file1.txt',\n",
       " 'file2.txt',\n",
       " 'file3.txt',\n",
       " 'file4.txt',\n",
       " 'file5.txt',\n",
       " 'file{i}.txt']"
      ]
     },
     "execution_count": 88,
     "metadata": {},
     "output_type": "execute_result"
    }
   ],
   "source": [
    "os.listdir()"
   ]
  },
  {
   "cell_type": "code",
   "execution_count": 89,
   "id": "b9f614b2",
   "metadata": {},
   "outputs": [
    {
     "data": {
      "text/plain": [
       "'D:\\\\Python & Data Science\\\\30_July_PythonAndDataScience\\\\09_19_Os_module\\\\Datalake'"
      ]
     },
     "execution_count": 89,
     "metadata": {},
     "output_type": "execute_result"
    }
   ],
   "source": [
    "os.getcwd()"
   ]
  },
  {
   "cell_type": "code",
   "execution_count": 90,
   "id": "644faadb",
   "metadata": {},
   "outputs": [],
   "source": [
    "os.chdir(r\"D:\\\\Python & Data Science\\\\30_July_PythonAndDataScience\\\\09_19_Os_module\")\n"
   ]
  },
  {
   "cell_type": "code",
   "execution_count": 91,
   "id": "7a836d9a",
   "metadata": {},
   "outputs": [
    {
     "data": {
      "text/plain": [
       "['.ipynb_checkpoints',\n",
       " 'AWS',\n",
       " 'data1.csv',\n",
       " 'data2.csv',\n",
       " 'data3.csv',\n",
       " 'data4.csv',\n",
       " 'data5.csv',\n",
       " 'Datalake',\n",
       " 'Data_Science_batch',\n",
       " 'JSON_FILE1.json',\n",
       " 'JSON_FILE2.json',\n",
       " 'JSON_FILE3.json',\n",
       " 'JSON_FILE4.json',\n",
       " 'JSON_FILE5.json',\n",
       " 'Model1.txt',\n",
       " 'Model2.txt',\n",
       " 'Model3.txt',\n",
       " 'Model4.txt',\n",
       " 'Model5.txt',\n",
       " 'OS Module.ipynb',\n",
       " 'Sample.txt']"
      ]
     },
     "execution_count": 91,
     "metadata": {},
     "output_type": "execute_result"
    }
   ],
   "source": [
    "os.listdir()"
   ]
  },
  {
   "cell_type": "code",
   "execution_count": 92,
   "id": "26baf006",
   "metadata": {},
   "outputs": [
    {
     "data": {
      "text/plain": [
       "'D:\\\\Python & Data Science\\\\30_July_PythonAndDataScience\\\\09_19_Os_module'"
      ]
     },
     "execution_count": 92,
     "metadata": {},
     "output_type": "execute_result"
    }
   ],
   "source": [
    "os.getcwd()"
   ]
  },
  {
   "cell_type": "markdown",
   "id": "0c2672df",
   "metadata": {},
   "source": [
    "# Shutil"
   ]
  },
  {
   "cell_type": "code",
   "execution_count": 93,
   "id": "12dd1a06",
   "metadata": {},
   "outputs": [],
   "source": [
    "import shutil"
   ]
  },
  {
   "cell_type": "code",
   "execution_count": 94,
   "id": "28b804ec",
   "metadata": {},
   "outputs": [
    {
     "ename": "OSError",
     "evalue": "[WinError 145] The directory is not empty: 'Datalake'",
     "output_type": "error",
     "traceback": [
      "\u001b[1;31m---------------------------------------------------------------------------\u001b[0m",
      "\u001b[1;31mOSError\u001b[0m                                   Traceback (most recent call last)",
      "Input \u001b[1;32mIn [94]\u001b[0m, in \u001b[0;36m<cell line: 1>\u001b[1;34m()\u001b[0m\n\u001b[1;32m----> 1\u001b[0m \u001b[43mos\u001b[49m\u001b[38;5;241;43m.\u001b[39;49m\u001b[43mrmdir\u001b[49m\u001b[43m(\u001b[49m\u001b[38;5;124;43m\"\u001b[39;49m\u001b[38;5;124;43mDatalake\u001b[39;49m\u001b[38;5;124;43m\"\u001b[39;49m\u001b[43m)\u001b[49m\n",
      "\u001b[1;31mOSError\u001b[0m: [WinError 145] The directory is not empty: 'Datalake'"
     ]
    }
   ],
   "source": [
    "os.rmdir(\"Datalake\")"
   ]
  },
  {
   "cell_type": "code",
   "execution_count": 95,
   "id": "ba34f60b",
   "metadata": {},
   "outputs": [
    {
     "data": {
      "text/plain": [
       "'Datalake'"
      ]
     },
     "execution_count": 95,
     "metadata": {},
     "output_type": "execute_result"
    }
   ],
   "source": [
    "folder_path = \"Datalake\"\n",
    "folder_path"
   ]
  },
  {
   "cell_type": "code",
   "execution_count": 96,
   "id": "df7ed3a9",
   "metadata": {},
   "outputs": [],
   "source": [
    "shutil.rmtree(folder_path)"
   ]
  },
  {
   "cell_type": "code",
   "execution_count": null,
   "id": "112460f4",
   "metadata": {},
   "outputs": [],
   "source": []
  }
 ],
 "metadata": {
  "kernelspec": {
   "display_name": "Python 3 (ipykernel)",
   "language": "python",
   "name": "python3"
  },
  "language_info": {
   "codemirror_mode": {
    "name": "ipython",
    "version": 3
   },
   "file_extension": ".py",
   "mimetype": "text/x-python",
   "name": "python",
   "nbconvert_exporter": "python",
   "pygments_lexer": "ipython3",
   "version": "3.10.5"
  }
 },
 "nbformat": 4,
 "nbformat_minor": 5
}
