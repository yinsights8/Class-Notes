{
 "cells": [
  {
   "cell_type": "code",
   "execution_count": 2,
   "id": "cc93847c",
   "metadata": {},
   "outputs": [],
   "source": [
    "import os\n",
    "# import time"
   ]
  },
  {
   "cell_type": "code",
   "execution_count": null,
   "id": "01f96710",
   "metadata": {},
   "outputs": [],
   "source": []
  },
  {
   "cell_type": "code",
   "execution_count": 10,
   "id": "d45f3948",
   "metadata": {},
   "outputs": [
    {
     "name": "stdout",
     "output_type": "stream",
     "text": [
      "file created\n"
     ]
    }
   ],
   "source": [
    "for i in range(1,6):\n",
    "    with open(f\"Model{i}.txt\",\"w\") as file:\n",
    "        file.write(f\"This is model{i}\")\n",
    "print(\"file created\")\n"
   ]
  },
  {
   "cell_type": "code",
   "execution_count": 6,
   "id": "53f90148",
   "metadata": {},
   "outputs": [],
   "source": [
    "os.remove(\"Model{i}.txt\")"
   ]
  },
  {
   "cell_type": "code",
   "execution_count": 7,
   "id": "2baa1d8a",
   "metadata": {},
   "outputs": [],
   "source": [
    "for i in range(1,6):\n",
    "    os.remove(f\"Model{i}.txt\")"
   ]
  },
  {
   "cell_type": "code",
   "execution_count": 11,
   "id": "27b36c58",
   "metadata": {},
   "outputs": [
    {
     "data": {
      "text/plain": [
       "True"
      ]
     },
     "execution_count": 11,
     "metadata": {},
     "output_type": "execute_result"
    }
   ],
   "source": [
    "os.path.exists(\"Model1.txt\")"
   ]
  },
  {
   "cell_type": "code",
   "execution_count": 12,
   "id": "791674cc",
   "metadata": {},
   "outputs": [
    {
     "name": "stdout",
     "output_type": "stream",
     "text": [
      "File is present\n"
     ]
    }
   ],
   "source": [
    "if os.path.exists(\"Model1.txt\"):\n",
    "    print(\"File is present\")\n",
    "else:\n",
    "    print(f\"File is not present\")\n",
    "    with open(\"Model.txt\",'w') as file:\n",
    "        file.write(\"new file created\")\n",
    "    print(\"File has been created\")"
   ]
  },
  {
   "cell_type": "code",
   "execution_count": 18,
   "id": "d7d91b45",
   "metadata": {},
   "outputs": [],
   "source": [
    "os.remove(\"Model1.txt\")"
   ]
  },
  {
   "cell_type": "code",
   "execution_count": 3,
   "id": "21d89047",
   "metadata": {},
   "outputs": [
    {
     "name": "stdout",
     "output_type": "stream",
     "text": [
      "File is present\n"
     ]
    }
   ],
   "source": [
    "if os.path.exists(\"Model1.txt\"):\n",
    "    print(\"File is present\")\n",
    "else:\n",
    "    print(f\"File is not present\")\n",
    "    with open(\"Model1.txt\",'w') as file:\n",
    "        file.write(\"new file created\")\n",
    "    print(\"File has been created\")"
   ]
  },
  {
   "cell_type": "code",
   "execution_count": 26,
   "id": "75f76fe8",
   "metadata": {},
   "outputs": [
    {
     "name": "stdout",
     "output_type": "stream",
     "text": [
      "I am Model2\n"
     ]
    }
   ],
   "source": [
    "if os.path.exists(\"Model2.txt\"):\n",
    "    with open(\"Model2.txt\", \"r\") as file:\n",
    "        content = file.read()\n",
    "        print(content)\n",
    "else:\n",
    "    print(\"File is not present\")\n",
    "    print(\"Loading\\ncreating a file....\")\n",
    "    with open(\"Model2.txt\", \"r\") as file:\n",
    "        file.write(\"I am Model2\")"
   ]
  },
  {
   "cell_type": "code",
   "execution_count": 27,
   "id": "d92a2adb",
   "metadata": {},
   "outputs": [],
   "source": [
    "os.remove(\"Model2.txt\")"
   ]
  },
  {
   "cell_type": "code",
   "execution_count": 28,
   "id": "39af0ece",
   "metadata": {},
   "outputs": [
    {
     "name": "stdout",
     "output_type": "stream",
     "text": [
      "File is not present\n",
      "Loading...\n",
      "creating a file....\n",
      "Operation Succesfull.\n",
      "\n",
      "content:- I am Model2\n"
     ]
    }
   ],
   "source": [
    "if os.path.exists(\"Model2.txt\"):\n",
    "    with open(\"Model2.txt\", \"r\") as file:\n",
    "        content = file.read()\n",
    "        print(content)\n",
    "else:\n",
    "    print(\"File is not present\")\n",
    "    print(\"Loading...\\ncreating a file....\")\n",
    "    with open(\"Model2.txt\", \"w\") as file:\n",
    "        file.write(\"I am Model2\")\n",
    "    print(\"Operation Succesfull.\\n\")\n",
    "    with open(\"Model2.txt\", \"r\") as file:\n",
    "        content = file.read()\n",
    "        print(f\"content:- {content}\")"
   ]
  },
  {
   "cell_type": "markdown",
   "id": "2275bdd1",
   "metadata": {},
   "source": [
    "## Creating a directory"
   ]
  },
  {
   "cell_type": "code",
   "execution_count": 30,
   "id": "3182fd2f",
   "metadata": {},
   "outputs": [],
   "source": [
    "os.mkdir(\"Python practice\")"
   ]
  },
  {
   "cell_type": "code",
   "execution_count": 31,
   "id": "7cc649ab",
   "metadata": {},
   "outputs": [],
   "source": [
    "os.mkdir(\"empty\")"
   ]
  },
  {
   "cell_type": "code",
   "execution_count": 39,
   "id": "b04b9674",
   "metadata": {},
   "outputs": [],
   "source": [
    "for i in range(1,5):\n",
    "    os.mkdir(f\"sample_{i}\")"
   ]
  },
  {
   "cell_type": "code",
   "execution_count": 37,
   "id": "926a9aa5",
   "metadata": {},
   "outputs": [
    {
     "ename": "FileNotFoundError",
     "evalue": "[WinError 2] The system cannot find the file specified: 'sample_1.txt'",
     "output_type": "error",
     "traceback": [
      "\u001b[1;31m---------------------------------------------------------------------------\u001b[0m",
      "\u001b[1;31mFileNotFoundError\u001b[0m                         Traceback (most recent call last)",
      "Input \u001b[1;32mIn [37]\u001b[0m, in \u001b[0;36m<cell line: 1>\u001b[1;34m()\u001b[0m\n\u001b[0;32m      1\u001b[0m \u001b[38;5;28;01mfor\u001b[39;00m i \u001b[38;5;129;01min\u001b[39;00m \u001b[38;5;28mrange\u001b[39m(\u001b[38;5;241m1\u001b[39m,\u001b[38;5;241m5\u001b[39m):\n\u001b[1;32m----> 2\u001b[0m     \u001b[43mos\u001b[49m\u001b[38;5;241;43m.\u001b[39;49m\u001b[43mrmdir\u001b[49m\u001b[43m(\u001b[49m\u001b[38;5;124;43mf\u001b[39;49m\u001b[38;5;124;43m\"\u001b[39;49m\u001b[38;5;124;43msample_\u001b[39;49m\u001b[38;5;132;43;01m{\u001b[39;49;00m\u001b[43mi\u001b[49m\u001b[38;5;132;43;01m}\u001b[39;49;00m\u001b[38;5;124;43m.txt\u001b[39;49m\u001b[38;5;124;43m\"\u001b[39;49m\u001b[43m)\u001b[49m\n",
      "\u001b[1;31mFileNotFoundError\u001b[0m: [WinError 2] The system cannot find the file specified: 'sample_1.txt'"
     ]
    }
   ],
   "source": [
    "for i in range(1,5):\n",
    "    os.rmdir(f\"sample_{i}.txt\")"
   ]
  },
  {
   "cell_type": "code",
   "execution_count": 8,
   "id": "b64c7715",
   "metadata": {},
   "outputs": [],
   "source": [
    "folder = \"sample_1\""
   ]
  },
  {
   "cell_type": "code",
   "execution_count": 10,
   "id": "b82997e2",
   "metadata": {},
   "outputs": [],
   "source": [
    "os.rmdir(folder)"
   ]
  },
  {
   "cell_type": "code",
   "execution_count": 11,
   "id": "27929cae",
   "metadata": {},
   "outputs": [
    {
     "name": "stdout",
     "output_type": "stream",
     "text": [
      "folder is not present\n",
      "Do you want to make a folder(y/n): y\n",
      "folder created...\n"
     ]
    }
   ],
   "source": [
    "if os.path.exists(r\"C:\\Users\\\\yashd\\02. Velocity Class Notes\\Class\\2. Month 2\\Day - 33 OS Modules\\Practice\\sample_1\"):\n",
    "    print(f\"{folder} folder is present\")\n",
    "else:\n",
    "    print(\"folder is not present\")\n",
    "    choice = input(\"Do you want to make a folder(y/n): \").lower()\n",
    "    if choice == \"y\":\n",
    "        os.mkdir(r\"C:\\\\Users\\\\yashd\\\\02. Velocity Class Notes\\\\Class\\\\2. Month 2\\\\Day - 33 OS Modules\\\\Practice\\\\sample_1\")\n",
    "        print(\"folder created...\")\n",
    "    else:\n",
    "        print(\"....Thak you....\")"
   ]
  },
  {
   "cell_type": "code",
   "execution_count": 46,
   "id": "b8f5ec5d",
   "metadata": {},
   "outputs": [
    {
     "data": {
      "text/plain": [
       "'C:\\\\Users\\\\yashd\\\\02. Velocity Class Notes\\\\Class\\\\2. Month 2\\\\Day - 33 OS Modules\\\\Practice'"
      ]
     },
     "execution_count": 46,
     "metadata": {},
     "output_type": "execute_result"
    }
   ],
   "source": [
    "%pwd"
   ]
  },
  {
   "cell_type": "code",
   "execution_count": 12,
   "id": "13928177",
   "metadata": {},
   "outputs": [
    {
     "data": {
      "text/plain": [
       "'C:\\\\Users\\\\yashd\\\\02. Velocity Class Notes\\\\Class\\\\2. Month 2\\\\Day - 33 OS Modules\\\\Practice'"
      ]
     },
     "execution_count": 12,
     "metadata": {},
     "output_type": "execute_result"
    }
   ],
   "source": [
    "os.getcwd()"
   ]
  },
  {
   "cell_type": "markdown",
   "id": "6ef7aa3b",
   "metadata": {},
   "source": [
    "## creating a folder inside a folder"
   ]
  },
  {
   "cell_type": "code",
   "execution_count": 13,
   "id": "e9d7d4a0",
   "metadata": {},
   "outputs": [
    {
     "name": "stdout",
     "output_type": "stream",
     "text": [
      "C:\\Users\\yashd\\02. Velocity Class Notes\\Class\\2. Month 2\\Day - 33 OS Modules\\Practice\\SQL\n"
     ]
    }
   ],
   "source": [
    "path = \"C:\\\\Users\\\\yashd\\\\02. Velocity Class Notes\\\\Class\\\\2. Month 2\\\\Day - 33 OS Modules\\\\Practice\"\n",
    "folder_path = path + \"\\SQL\"\n",
    "\n",
    "print(folder_path)"
   ]
  },
  {
   "cell_type": "code",
   "execution_count": 14,
   "id": "6be7dba7",
   "metadata": {},
   "outputs": [
    {
     "data": {
      "text/plain": [
       "False"
      ]
     },
     "execution_count": 14,
     "metadata": {},
     "output_type": "execute_result"
    }
   ],
   "source": [
    "os.path.exists(folder_path)"
   ]
  },
  {
   "cell_type": "code",
   "execution_count": 21,
   "id": "69b897f4",
   "metadata": {},
   "outputs": [
    {
     "ename": "FileExistsError",
     "evalue": "[WinError 183] Cannot create a file when that file already exists: 'C:\\\\Users\\\\yashd\\\\02. Velocity Class Notes\\\\Class\\\\2. Month 2\\\\Day - 33 OS Modules\\\\Practice\\\\SQL'",
     "output_type": "error",
     "traceback": [
      "\u001b[1;31m---------------------------------------------------------------------------\u001b[0m",
      "\u001b[1;31mFileExistsError\u001b[0m                           Traceback (most recent call last)",
      "Input \u001b[1;32mIn [21]\u001b[0m, in \u001b[0;36m<cell line: 1>\u001b[1;34m()\u001b[0m\n\u001b[1;32m----> 1\u001b[0m \u001b[43mos\u001b[49m\u001b[38;5;241;43m.\u001b[39;49m\u001b[43mmkdir\u001b[49m\u001b[43m(\u001b[49m\u001b[43mfolder_path\u001b[49m\u001b[43m)\u001b[49m\n",
      "\u001b[1;31mFileExistsError\u001b[0m: [WinError 183] Cannot create a file when that file already exists: 'C:\\\\Users\\\\yashd\\\\02. Velocity Class Notes\\\\Class\\\\2. Month 2\\\\Day - 33 OS Modules\\\\Practice\\\\SQL'"
     ]
    }
   ],
   "source": [
    "os.mkdir(folder_path)"
   ]
  },
  {
   "cell_type": "code",
   "execution_count": 22,
   "id": "7b7a7487",
   "metadata": {},
   "outputs": [
    {
     "data": {
      "text/plain": [
       "['.ipynb_checkpoints',\n",
       " 'empty',\n",
       " 'Model1.txt',\n",
       " 'Model2.txt',\n",
       " 'Model3.txt',\n",
       " 'Model4.txt',\n",
       " 'Model5.txt',\n",
       " 'practice.ipynb',\n",
       " 'Python',\n",
       " 'Python practice',\n",
       " 'sample_1',\n",
       " 'sample_2',\n",
       " 'sample_3',\n",
       " 'sample_4',\n",
       " 'SQL',\n",
       " 'text.txt']"
      ]
     },
     "execution_count": 22,
     "metadata": {},
     "output_type": "execute_result"
    }
   ],
   "source": [
    "os.listdir(path= r\"C:\\Users\\yashd\\02. Velocity Class Notes\\Class\\2. Month 2\\Day - 33 OS Modules\\Practice\")"
   ]
  },
  {
   "cell_type": "code",
   "execution_count": 49,
   "id": "a01174b1",
   "metadata": {},
   "outputs": [
    {
     "name": "stdout",
     "output_type": "stream",
     "text": [
      "C:\\Users\\yashd\\02. Velocity Class Notes\\Class\\2. Month 2\\Day - 33 OS Modules\\Practice\\P\\Y\\T\\H\n"
     ]
    }
   ],
   "source": [
    "path = \"C:\\\\Users\\\\yashd\\\\02. Velocity Class Notes\\\\Class\\\\2. Month 2\\\\Day - 33 OS Modules\\\\Practice\"\n",
    "path = path + \"\\P\\Y\\T\\H\"\n",
    "print(path)"
   ]
  },
  {
   "cell_type": "code",
   "execution_count": 51,
   "id": "792ce46d",
   "metadata": {},
   "outputs": [
    {
     "name": "stdout",
     "output_type": "stream",
     "text": [
      "Folder is not present\n",
      "New folders ar now created\n"
     ]
    }
   ],
   "source": [
    "if os.path.exists(path):\n",
    "    print(\"Folder is present..\")\n",
    "else:\n",
    "    print(\"Folder is not present\")\n",
    "    os.makedirs(path)\n",
    "    print(\"New folders ar now created\")"
   ]
  },
  {
   "cell_type": "code",
   "execution_count": 56,
   "id": "4ac2f1b9",
   "metadata": {},
   "outputs": [
    {
     "data": {
      "text/plain": [
       "['.ipynb_checkpoints',\n",
       " 'empty',\n",
       " 'Model1.txt',\n",
       " 'Model2.txt',\n",
       " 'Model3.txt',\n",
       " 'Model4.txt',\n",
       " 'Model5.txt',\n",
       " 'new_path',\n",
       " 'P',\n",
       " 'practice.ipynb',\n",
       " 'Python',\n",
       " 'Python practice',\n",
       " 'sample_1',\n",
       " 'sample_2',\n",
       " 'sample_3',\n",
       " 'sample_4',\n",
       " 'SQL',\n",
       " 'text.txt']"
      ]
     },
     "execution_count": 56,
     "metadata": {},
     "output_type": "execute_result"
    }
   ],
   "source": [
    "n_path = \"C:\\\\Users\\\\yashd\\\\02. Velocity Class Notes\\\\Class\\\\2. Month 2\\\\Day - 33 OS Modules\"\n",
    "os.listdir()"
   ]
  },
  {
   "cell_type": "code",
   "execution_count": 74,
   "id": "cb61b219",
   "metadata": {},
   "outputs": [
    {
     "name": "stdout",
     "output_type": "stream",
     "text": [
      "C:\\Users\\yashd\\02. Velocity Class Notes\\Class\\2. Month 2\\Day - 33 OS Modules\\Python practice\\Python\\ML\\DS\n"
     ]
    }
   ],
   "source": [
    "path = r\"C:\\Users\\yashd\\02. Velocity Class Notes\\Class\\2. Month 2\\Day - 33 OS Modules\\Python practice\"\n",
    "path = path + \"\\Python\\ML\\DS\"\n",
    "print(path)"
   ]
  },
  {
   "cell_type": "code",
   "execution_count": 77,
   "id": "6c831d48",
   "metadata": {},
   "outputs": [
    {
     "ename": "FileExistsError",
     "evalue": "[WinError 183] Cannot create a file when that file already exists: 'C:\\\\Users\\\\yashd\\\\02. Velocity Class Notes\\\\Class\\\\2. Month 2\\\\Day - 33 OS Modules\\\\Python practice\\\\Python\\\\ML\\\\DS'",
     "output_type": "error",
     "traceback": [
      "\u001b[1;31m---------------------------------------------------------------------------\u001b[0m",
      "\u001b[1;31mFileExistsError\u001b[0m                           Traceback (most recent call last)",
      "Input \u001b[1;32mIn [77]\u001b[0m, in \u001b[0;36m<cell line: 1>\u001b[1;34m()\u001b[0m\n\u001b[1;32m----> 1\u001b[0m \u001b[43mos\u001b[49m\u001b[38;5;241;43m.\u001b[39;49m\u001b[43mmakedirs\u001b[49m\u001b[43m(\u001b[49m\u001b[43mpath\u001b[49m\u001b[43m)\u001b[49m\n",
      "File \u001b[1;32m~\\anaconda3\\lib\\os.py:225\u001b[0m, in \u001b[0;36mmakedirs\u001b[1;34m(name, mode, exist_ok)\u001b[0m\n\u001b[0;32m    223\u001b[0m         \u001b[38;5;28;01mreturn\u001b[39;00m\n\u001b[0;32m    224\u001b[0m \u001b[38;5;28;01mtry\u001b[39;00m:\n\u001b[1;32m--> 225\u001b[0m     \u001b[43mmkdir\u001b[49m\u001b[43m(\u001b[49m\u001b[43mname\u001b[49m\u001b[43m,\u001b[49m\u001b[43m \u001b[49m\u001b[43mmode\u001b[49m\u001b[43m)\u001b[49m\n\u001b[0;32m    226\u001b[0m \u001b[38;5;28;01mexcept\u001b[39;00m \u001b[38;5;167;01mOSError\u001b[39;00m:\n\u001b[0;32m    227\u001b[0m     \u001b[38;5;66;03m# Cannot rely on checking for EEXIST, since the operating system\u001b[39;00m\n\u001b[0;32m    228\u001b[0m     \u001b[38;5;66;03m# could give priority to other errors like EACCES or EROFS\u001b[39;00m\n\u001b[0;32m    229\u001b[0m     \u001b[38;5;28;01mif\u001b[39;00m \u001b[38;5;129;01mnot\u001b[39;00m exist_ok \u001b[38;5;129;01mor\u001b[39;00m \u001b[38;5;129;01mnot\u001b[39;00m path\u001b[38;5;241m.\u001b[39misdir(name):\n",
      "\u001b[1;31mFileExistsError\u001b[0m: [WinError 183] Cannot create a file when that file already exists: 'C:\\\\Users\\\\yashd\\\\02. Velocity Class Notes\\\\Class\\\\2. Month 2\\\\Day - 33 OS Modules\\\\Python practice\\\\Python\\\\ML\\\\DS'"
     ]
    }
   ],
   "source": [
    "os.makedirs(path)"
   ]
  },
  {
   "cell_type": "code",
   "execution_count": 76,
   "id": "fd99865a",
   "metadata": {},
   "outputs": [
    {
     "data": {
      "text/plain": [
       "['.ipynb_checkpoints',\n",
       " 'empty',\n",
       " 'Model1.txt',\n",
       " 'Model2.txt',\n",
       " 'Model3.txt',\n",
       " 'Model4.txt',\n",
       " 'Model5.txt',\n",
       " 'P',\n",
       " 'practice.ipynb',\n",
       " 'Python',\n",
       " 'Python practice',\n",
       " 'sample_1',\n",
       " 'sample_2',\n",
       " 'sample_3',\n",
       " 'sample_4',\n",
       " 'SQL',\n",
       " 'text.txt']"
      ]
     },
     "execution_count": 76,
     "metadata": {},
     "output_type": "execute_result"
    }
   ],
   "source": [
    "os.listdir()"
   ]
  },
  {
   "cell_type": "code",
   "execution_count": 62,
   "id": "0591ef5c",
   "metadata": {},
   "outputs": [
    {
     "data": {
      "text/plain": [
       "'C:\\\\Users\\\\yashd\\\\02. Velocity Class Notes\\\\Class\\\\2. Month 2\\\\Day - 33 OS Modules\\\\Practice'"
      ]
     },
     "execution_count": 62,
     "metadata": {},
     "output_type": "execute_result"
    }
   ],
   "source": [
    "os.getcwd()"
   ]
  },
  {
   "cell_type": "code",
   "execution_count": 66,
   "id": "0a62ac5f",
   "metadata": {},
   "outputs": [],
   "source": [
    "os.rmdir(\"new_path\")"
   ]
  },
  {
   "cell_type": "code",
   "execution_count": 81,
   "id": "a92e7588",
   "metadata": {},
   "outputs": [
    {
     "name": "stdout",
     "output_type": "stream",
     "text": [
      "C:\\Users\\yashd\\02. Velocity Class Notes\\Class\\2. Month 2\\Day - 33 OS Modules\\Practice\\ML\\DL\\AI\n"
     ]
    }
   ],
   "source": [
    "c_path = 'C:\\\\Users\\\\yashd\\\\02. Velocity Class Notes\\\\Class\\\\2. Month 2\\\\Day - 33 OS Modules\\\\Practice'\n",
    "c_path = c_path + \"\\ML\\DL\\AI\"\n",
    "print(c_path)"
   ]
  },
  {
   "cell_type": "code",
   "execution_count": 82,
   "id": "9efd2249",
   "metadata": {},
   "outputs": [],
   "source": [
    "os.makedirs(c_path)"
   ]
  },
  {
   "cell_type": "code",
   "execution_count": 86,
   "id": "14d7148b",
   "metadata": {},
   "outputs": [
    {
     "name": "stdout",
     "output_type": "stream",
     "text": [
      "folder is present\n"
     ]
    }
   ],
   "source": [
    "if os.path.exists(c_path):\n",
    "    print(\"folder is present\")\n",
    "    with open(r\"C:\\Users\\yashd\\02. Velocity Class Notes\\Class\\2. Month 2\\Day - 33 OS Modules\\Practice\\ML\\DL\\AI\\file.txt\",'w') as file:\n",
    "        file.write(f\"Hello i am inside of {c_path}\")\n"
   ]
  },
  {
   "cell_type": "code",
   "execution_count": 93,
   "id": "985a6367",
   "metadata": {},
   "outputs": [
    {
     "name": "stdout",
     "output_type": "stream",
     "text": [
      "Hello i am inside of C:\\Users\\yashd\\02. Velocity Class Notes\\Class\\2. Month 2\\Day - 33 OS Modules\\Practice\\ML\\DL\\AI location\n"
     ]
    }
   ],
   "source": [
    "with open(r\"C:\\Users\\yashd\\02. Velocity Class Notes\\Class\\2. Month 2\\Day - 33 OS Modules\\Practice\\ML\\DL\\AI\\file.txt\",'r') as file:\n",
    "        content = file.read()\n",
    "        print(content)"
   ]
  },
  {
   "cell_type": "code",
   "execution_count": 94,
   "id": "fec3f333",
   "metadata": {},
   "outputs": [
    {
     "data": {
      "text/plain": [
       "'C:\\\\Users\\\\yashd\\\\02. Velocity Class Notes\\\\Class\\\\2. Month 2\\\\Day - 33 OS Modules\\\\Practice'"
      ]
     },
     "execution_count": 94,
     "metadata": {},
     "output_type": "execute_result"
    }
   ],
   "source": [
    "os.getcwd()"
   ]
  },
  {
   "cell_type": "code",
   "execution_count": 105,
   "id": "3f10e51b",
   "metadata": {},
   "outputs": [],
   "source": [
    "folder = \"cwd\"\n",
    "path = r\"C:\\\\Users\\\\yashd\\\\02. Velocity Class Notes\\\\Class\\\\2. Month 2\\\\Day - 33 OS Modules\\\\Practice\""
   ]
  },
  {
   "cell_type": "code",
   "execution_count": 108,
   "id": "63c1fdb3",
   "metadata": {},
   "outputs": [],
   "source": [
    "os.mkdir(folder)"
   ]
  },
  {
   "cell_type": "code",
   "execution_count": 109,
   "id": "a49b76fe",
   "metadata": {},
   "outputs": [
    {
     "data": {
      "text/plain": [
       "'C:\\\\\\\\Users\\\\\\\\yashd\\\\\\\\02. Velocity Class Notes\\\\\\\\Class\\\\\\\\2. Month 2\\\\\\\\Day - 33 OS Modules\\\\\\\\Practice\\\\cwd'"
      ]
     },
     "execution_count": 109,
     "metadata": {},
     "output_type": "execute_result"
    }
   ],
   "source": [
    "os.path.join(path, folder)"
   ]
  },
  {
   "cell_type": "code",
   "execution_count": 110,
   "id": "9f71bbd9",
   "metadata": {},
   "outputs": [],
   "source": [
    "os.chdir(os.path.join(path,folder))"
   ]
  },
  {
   "cell_type": "code",
   "execution_count": 113,
   "id": "d1608ae3",
   "metadata": {},
   "outputs": [
    {
     "data": {
      "text/plain": [
       "[]"
      ]
     },
     "execution_count": 113,
     "metadata": {},
     "output_type": "execute_result"
    }
   ],
   "source": [
    "os.listdir()"
   ]
  },
  {
   "cell_type": "code",
   "execution_count": 115,
   "id": "152aa1f8",
   "metadata": {},
   "outputs": [],
   "source": [
    "os.mkdir(\"folder\")"
   ]
  },
  {
   "cell_type": "code",
   "execution_count": 117,
   "id": "f1f03423",
   "metadata": {},
   "outputs": [],
   "source": [
    "os.chdir(os.path.join(path,folder))"
   ]
  },
  {
   "cell_type": "code",
   "execution_count": 118,
   "id": "a949a60e",
   "metadata": {},
   "outputs": [
    {
     "data": {
      "text/plain": [
       "['folder']"
      ]
     },
     "execution_count": 118,
     "metadata": {},
     "output_type": "execute_result"
    }
   ],
   "source": [
    "os.listdir()"
   ]
  },
  {
   "cell_type": "code",
   "execution_count": 120,
   "id": "da1a4a87",
   "metadata": {},
   "outputs": [],
   "source": [
    "os.chdir(r\"C:\\\\\\\\Users\\\\\\\\yashd\\\\\\\\02. Velocity Class Notes\\\\\\\\Class\\\\\\\\2. Month 2\\\\\\\\Day - 33 OS Modules\\\\\\\\Practice\")"
   ]
  },
  {
   "cell_type": "code",
   "execution_count": 121,
   "id": "6e631ce7",
   "metadata": {},
   "outputs": [
    {
     "data": {
      "text/plain": [
       "'C:\\\\\\\\Users\\\\\\\\yashd\\\\\\\\02. Velocity Class Notes\\\\\\\\Class\\\\\\\\2. Month 2\\\\\\\\Day - 33 OS Modules\\\\\\\\Practice'"
      ]
     },
     "execution_count": 121,
     "metadata": {},
     "output_type": "execute_result"
    }
   ],
   "source": [
    "path"
   ]
  },
  {
   "cell_type": "code",
   "execution_count": 124,
   "id": "24aa5020",
   "metadata": {},
   "outputs": [],
   "source": [
    "os.chdir(\"C:\\\\\\\\Users\\\\\\\\yashd\\\\\\\\02. Velocity Class Notes\\\\\\\\Class\\\\\\\\2. Month 2\\\\\\\\Day - 33 OS Modules\")"
   ]
  },
  {
   "cell_type": "code",
   "execution_count": 125,
   "id": "19c7f08d",
   "metadata": {},
   "outputs": [
    {
     "data": {
      "text/plain": [
       "['.ipynb_checkpoints',\n",
       " 'data1.csv',\n",
       " 'data2.csv',\n",
       " 'data3.csv',\n",
       " 'data4.csv',\n",
       " 'data5.csv',\n",
       " 'JSON_FILE1.json',\n",
       " 'JSON_FILE2.json',\n",
       " 'JSON_FILE3.json',\n",
       " 'JSON_FILE4.json',\n",
       " 'JSON_FILE5.json',\n",
       " 'Model1.txt',\n",
       " 'Model2.txt',\n",
       " 'Model3.txt',\n",
       " 'Model4.txt',\n",
       " 'Model5.txt',\n",
       " 'OS Module.ipynb',\n",
       " 'Practice',\n",
       " 'Python practice',\n",
       " 'Sample.txt',\n",
       " 'Time Module.ipynb',\n",
       " 'Untitled.ipynb']"
      ]
     },
     "execution_count": 125,
     "metadata": {},
     "output_type": "execute_result"
    }
   ],
   "source": [
    "os.listdir()"
   ]
  },
  {
   "cell_type": "code",
   "execution_count": 126,
   "id": "07497ba2",
   "metadata": {},
   "outputs": [],
   "source": [
    "os.chdir(path=\"C:\\\\\\\\Users\\\\\\\\yashd\\\\\\\\02. Velocity Class Notes\\\\\\\\Class\\\\\\\\2. Month 2\\\\\\\\Day - 33 OS Modules\\\\\\\\Practice\\\\cwd\")"
   ]
  },
  {
   "cell_type": "code",
   "execution_count": 127,
   "id": "56501b5e",
   "metadata": {},
   "outputs": [
    {
     "data": {
      "text/plain": [
       "['folder']"
      ]
     },
     "execution_count": 127,
     "metadata": {},
     "output_type": "execute_result"
    }
   ],
   "source": [
    "os.listdir()"
   ]
  },
  {
   "cell_type": "code",
   "execution_count": 140,
   "id": "3c7d5d2c",
   "metadata": {},
   "outputs": [],
   "source": [
    "import random\n",
    "text = ['a', 'b', 'c', 'd', 'f']\n",
    "\n",
    "for i in range(1,6):\n",
    "    with open(f\"text_{i}.txt\",'w') as file:\n",
    "        file.write(random.choice(text))"
   ]
  },
  {
   "cell_type": "code",
   "execution_count": 141,
   "id": "0dc323a7",
   "metadata": {},
   "outputs": [
    {
     "data": {
      "text/plain": [
       "['folder',\n",
       " 'text.txt',\n",
       " 'text_1.txt',\n",
       " 'text_2.txt',\n",
       " 'text_3.txt',\n",
       " 'text_4.txt',\n",
       " 'text_5.txt']"
      ]
     },
     "execution_count": 141,
     "metadata": {},
     "output_type": "execute_result"
    }
   ],
   "source": [
    "os.listdir()"
   ]
  },
  {
   "cell_type": "code",
   "execution_count": 143,
   "id": "b3b7cecc",
   "metadata": {},
   "outputs": [
    {
     "data": {
      "text/plain": [
       "['folder',\n",
       " 'text.txt',\n",
       " 'text_1.txt',\n",
       " 'text_2.txt',\n",
       " 'text_3.txt',\n",
       " 'text_4.txt',\n",
       " 'text_5.txt']"
      ]
     },
     "execution_count": 143,
     "metadata": {},
     "output_type": "execute_result"
    }
   ],
   "source": [
    "os.listdir()"
   ]
  },
  {
   "cell_type": "code",
   "execution_count": 148,
   "id": "82cdb73e",
   "metadata": {},
   "outputs": [],
   "source": [
    "os.chdir(path=\"C:\\\\Users\\\\yashd\\\\02. Velocity Class Notes\\\\Class\\\\2. Month 2\\\\Day - 33 OS Modules\\\\Practice\")"
   ]
  },
  {
   "cell_type": "code",
   "execution_count": 149,
   "id": "5ae5597c",
   "metadata": {},
   "outputs": [
    {
     "data": {
      "text/plain": [
       "'C:\\\\Users\\\\yashd\\\\02. Velocity Class Notes\\\\Class\\\\2. Month 2\\\\Day - 33 OS Modules\\\\Practice'"
      ]
     },
     "execution_count": 149,
     "metadata": {},
     "output_type": "execute_result"
    }
   ],
   "source": [
    "os.getcwd()"
   ]
  },
  {
   "cell_type": "code",
   "execution_count": 150,
   "id": "a4dcf577",
   "metadata": {},
   "outputs": [
    {
     "data": {
      "text/plain": [
       "['.ipynb_checkpoints',\n",
       " 'cwd',\n",
       " 'empty',\n",
       " 'file.txt',\n",
       " 'ML',\n",
       " 'Model1.txt',\n",
       " 'Model2.txt',\n",
       " 'Model3.txt',\n",
       " 'Model4.txt',\n",
       " 'Model5.txt',\n",
       " 'P',\n",
       " 'practice.ipynb',\n",
       " 'Python',\n",
       " 'Python practice',\n",
       " 'sample_1',\n",
       " 'sample_2',\n",
       " 'sample_3',\n",
       " 'sample_4',\n",
       " 'SQL',\n",
       " 'text.txt']"
      ]
     },
     "execution_count": 150,
     "metadata": {},
     "output_type": "execute_result"
    }
   ],
   "source": [
    "os.listdir()"
   ]
  },
  {
   "cell_type": "code",
   "execution_count": 154,
   "id": "06d4cdcd",
   "metadata": {},
   "outputs": [],
   "source": [
    "import shutil"
   ]
  },
  {
   "cell_type": "code",
   "execution_count": 156,
   "id": "381dbc3b",
   "metadata": {},
   "outputs": [],
   "source": [
    "shutil.rmtree(\"P\")"
   ]
  },
  {
   "cell_type": "code",
   "execution_count": 157,
   "id": "7f41a1d7",
   "metadata": {},
   "outputs": [
    {
     "data": {
      "text/plain": [
       "['.ipynb_checkpoints',\n",
       " 'cwd',\n",
       " 'empty',\n",
       " 'file.txt',\n",
       " 'ML',\n",
       " 'Model1.txt',\n",
       " 'Model2.txt',\n",
       " 'Model3.txt',\n",
       " 'Model4.txt',\n",
       " 'Model5.txt',\n",
       " 'practice.ipynb',\n",
       " 'Python',\n",
       " 'Python practice',\n",
       " 'sample_1',\n",
       " 'sample_2',\n",
       " 'sample_3',\n",
       " 'sample_4',\n",
       " 'SQL',\n",
       " 'text.txt']"
      ]
     },
     "execution_count": 157,
     "metadata": {},
     "output_type": "execute_result"
    }
   ],
   "source": [
    "os.listdir()"
   ]
  },
  {
   "cell_type": "code",
   "execution_count": 163,
   "id": "c6bf7f1d",
   "metadata": {},
   "outputs": [
    {
     "ename": "FileNotFoundError",
     "evalue": "[WinError 3] The system cannot find the path specified: 'ML'",
     "output_type": "error",
     "traceback": [
      "\u001b[1;31m---------------------------------------------------------------------------\u001b[0m",
      "\u001b[1;31mFileNotFoundError\u001b[0m                         Traceback (most recent call last)",
      "Input \u001b[1;32mIn [163]\u001b[0m, in \u001b[0;36m<cell line: 1>\u001b[1;34m()\u001b[0m\n\u001b[1;32m----> 1\u001b[0m \u001b[43mshutil\u001b[49m\u001b[38;5;241;43m.\u001b[39;49m\u001b[43mrmtree\u001b[49m\u001b[43m(\u001b[49m\u001b[38;5;124;43m\"\u001b[39;49m\u001b[38;5;124;43mML\u001b[39;49m\u001b[38;5;124;43m\"\u001b[39;49m\u001b[43m)\u001b[49m\n",
      "File \u001b[1;32m~\\anaconda3\\lib\\shutil.py:757\u001b[0m, in \u001b[0;36mrmtree\u001b[1;34m(path, ignore_errors, onerror)\u001b[0m\n\u001b[0;32m    755\u001b[0m     \u001b[38;5;66;03m# can't continue even if onerror hook returns\u001b[39;00m\n\u001b[0;32m    756\u001b[0m     \u001b[38;5;28;01mreturn\u001b[39;00m\n\u001b[1;32m--> 757\u001b[0m \u001b[38;5;28;01mreturn\u001b[39;00m \u001b[43m_rmtree_unsafe\u001b[49m\u001b[43m(\u001b[49m\u001b[43mpath\u001b[49m\u001b[43m,\u001b[49m\u001b[43m \u001b[49m\u001b[43monerror\u001b[49m\u001b[43m)\u001b[49m\n",
      "File \u001b[1;32m~\\anaconda3\\lib\\shutil.py:608\u001b[0m, in \u001b[0;36m_rmtree_unsafe\u001b[1;34m(path, onerror)\u001b[0m\n\u001b[0;32m    606\u001b[0m         entries \u001b[38;5;241m=\u001b[39m \u001b[38;5;28mlist\u001b[39m(scandir_it)\n\u001b[0;32m    607\u001b[0m \u001b[38;5;28;01mexcept\u001b[39;00m \u001b[38;5;167;01mOSError\u001b[39;00m:\n\u001b[1;32m--> 608\u001b[0m     \u001b[43monerror\u001b[49m\u001b[43m(\u001b[49m\u001b[43mos\u001b[49m\u001b[38;5;241;43m.\u001b[39;49m\u001b[43mscandir\u001b[49m\u001b[43m,\u001b[49m\u001b[43m \u001b[49m\u001b[43mpath\u001b[49m\u001b[43m,\u001b[49m\u001b[43m \u001b[49m\u001b[43msys\u001b[49m\u001b[38;5;241;43m.\u001b[39;49m\u001b[43mexc_info\u001b[49m\u001b[43m(\u001b[49m\u001b[43m)\u001b[49m\u001b[43m)\u001b[49m\n\u001b[0;32m    609\u001b[0m     entries \u001b[38;5;241m=\u001b[39m []\n\u001b[0;32m    610\u001b[0m \u001b[38;5;28;01mfor\u001b[39;00m entry \u001b[38;5;129;01min\u001b[39;00m entries:\n",
      "File \u001b[1;32m~\\anaconda3\\lib\\shutil.py:605\u001b[0m, in \u001b[0;36m_rmtree_unsafe\u001b[1;34m(path, onerror)\u001b[0m\n\u001b[0;32m    603\u001b[0m \u001b[38;5;28;01mdef\u001b[39;00m \u001b[38;5;21m_rmtree_unsafe\u001b[39m(path, onerror):\n\u001b[0;32m    604\u001b[0m     \u001b[38;5;28;01mtry\u001b[39;00m:\n\u001b[1;32m--> 605\u001b[0m         \u001b[38;5;28;01mwith\u001b[39;00m \u001b[43mos\u001b[49m\u001b[38;5;241;43m.\u001b[39;49m\u001b[43mscandir\u001b[49m\u001b[43m(\u001b[49m\u001b[43mpath\u001b[49m\u001b[43m)\u001b[49m \u001b[38;5;28;01mas\u001b[39;00m scandir_it:\n\u001b[0;32m    606\u001b[0m             entries \u001b[38;5;241m=\u001b[39m \u001b[38;5;28mlist\u001b[39m(scandir_it)\n\u001b[0;32m    607\u001b[0m     \u001b[38;5;28;01mexcept\u001b[39;00m \u001b[38;5;167;01mOSError\u001b[39;00m:\n",
      "\u001b[1;31mFileNotFoundError\u001b[0m: [WinError 3] The system cannot find the path specified: 'ML'"
     ]
    }
   ],
   "source": [
    "shutil.rmtree(\"ML\")"
   ]
  },
  {
   "cell_type": "code",
   "execution_count": 164,
   "id": "4a4f1199",
   "metadata": {},
   "outputs": [
    {
     "data": {
      "text/plain": [
       "['.ipynb_checkpoints',\n",
       " 'cwd',\n",
       " 'file.txt',\n",
       " 'Model1.txt',\n",
       " 'Model2.txt',\n",
       " 'Model3.txt',\n",
       " 'Model4.txt',\n",
       " 'Model5.txt',\n",
       " 'practice.ipynb',\n",
       " 'Python',\n",
       " 'Python practice',\n",
       " 'sample_1',\n",
       " 'sample_2',\n",
       " 'sample_3',\n",
       " 'sample_4',\n",
       " 'text.txt']"
      ]
     },
     "execution_count": 164,
     "metadata": {},
     "output_type": "execute_result"
    }
   ],
   "source": [
    "os.listdir()"
   ]
  },
  {
   "cell_type": "code",
   "execution_count": 162,
   "id": "92c6424a",
   "metadata": {},
   "outputs": [],
   "source": [
    "shutil.rmtree(\"SQL\")"
   ]
  },
  {
   "cell_type": "code",
   "execution_count": null,
   "id": "bda29e2a",
   "metadata": {},
   "outputs": [],
   "source": []
  }
 ],
 "metadata": {
  "kernelspec": {
   "display_name": "Python 3 (ipykernel)",
   "language": "python",
   "name": "python3"
  },
  "language_info": {
   "codemirror_mode": {
    "name": "ipython",
    "version": 3
   },
   "file_extension": ".py",
   "mimetype": "text/x-python",
   "name": "python",
   "nbconvert_exporter": "python",
   "pygments_lexer": "ipython3",
   "version": "3.9.12"
  }
 },
 "nbformat": 4,
 "nbformat_minor": 5
}
