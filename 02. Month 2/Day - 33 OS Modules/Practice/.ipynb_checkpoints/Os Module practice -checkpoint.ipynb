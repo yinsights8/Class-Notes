{
 "cells": [
  {
   "cell_type": "code",
   "execution_count": 2,
   "id": "525c10ec",
   "metadata": {},
   "outputs": [],
   "source": [
    "import os\n",
    "# import time"
   ]
  },
  {
   "cell_type": "code",
   "execution_count": null,
   "id": "c6d457ad",
   "metadata": {},
   "outputs": [],
   "source": []
  },
  {
   "cell_type": "code",
   "execution_count": 10,
   "id": "8372726f",
   "metadata": {},
   "outputs": [
    {
     "name": "stdout",
     "output_type": "stream",
     "text": [
      "file created\n"
     ]
    }
   ],
   "source": [
    "for i in range(1,6):\n",
    "    with open(f\"Model{i}.txt\",\"w\") as file:\n",
    "        file.write(f\"This is model{i}\")\n",
    "print(\"file created\")\n"
   ]
  },
  {
   "cell_type": "code",
   "execution_count": 6,
   "id": "7c50d502",
   "metadata": {},
   "outputs": [],
   "source": [
    "os.remove(\"Model{i}.txt\")"
   ]
  },
  {
   "cell_type": "code",
   "execution_count": 7,
   "id": "3be770a7",
   "metadata": {},
   "outputs": [],
   "source": [
    "for i in range(1,6):\n",
    "    os.remove(f\"Model{i}.txt\")"
   ]
  },
  {
   "cell_type": "code",
   "execution_count": 11,
   "id": "9a58f5af",
   "metadata": {},
   "outputs": [
    {
     "data": {
      "text/plain": [
       "True"
      ]
     },
     "execution_count": 11,
     "metadata": {},
     "output_type": "execute_result"
    }
   ],
   "source": [
    "os.path.exists(\"Model1.txt\")"
   ]
  },
  {
   "cell_type": "code",
   "execution_count": 12,
   "id": "4c37f6e2",
   "metadata": {},
   "outputs": [
    {
     "name": "stdout",
     "output_type": "stream",
     "text": [
      "File is present\n"
     ]
    }
   ],
   "source": [
    "if os.path.exists(\"Model1.txt\"):\n",
    "    print(\"File is present\")\n",
    "else:\n",
    "    print(f\"File is not present\")\n",
    "    with open(\"Model.txt\",'w') as file:\n",
    "        file.write(\"new file created\")\n",
    "    print(\"File has been created\")"
   ]
  },
  {
   "cell_type": "code",
   "execution_count": 18,
   "id": "d3fa7a5a",
   "metadata": {},
   "outputs": [],
   "source": [
    "os.remove(\"Model1.txt\")"
   ]
  },
  {
   "cell_type": "code",
   "execution_count": 3,
   "id": "91ce7c00",
   "metadata": {},
   "outputs": [
    {
     "name": "stdout",
     "output_type": "stream",
     "text": [
      "File is present\n"
     ]
    }
   ],
   "source": [
    "if os.path.exists(\"Model1.txt\"):\n",
    "    print(\"File is present\")\n",
    "else:\n",
    "    print(f\"File is not present\")\n",
    "    with open(\"Model1.txt\",'w') as file:\n",
    "        file.write(\"new file created\")\n",
    "    print(\"File has been created\")"
   ]
  },
  {
   "cell_type": "code",
   "execution_count": 26,
   "id": "d4b8c06d",
   "metadata": {},
   "outputs": [
    {
     "name": "stdout",
     "output_type": "stream",
     "text": [
      "I am Model2\n"
     ]
    }
   ],
   "source": [
    "if os.path.exists(\"Model2.txt\"):\n",
    "    with open(\"Model2.txt\", \"r\") as file:\n",
    "        content = file.read()\n",
    "        print(content)\n",
    "else:\n",
    "    print(\"File is not present\")\n",
    "    print(\"Loading\\ncreating a file....\")\n",
    "    with open(\"Model2.txt\", \"r\") as file:\n",
    "        file.write(\"I am Model2\")"
   ]
  },
  {
   "cell_type": "code",
   "execution_count": 27,
   "id": "bf9816aa",
   "metadata": {},
   "outputs": [],
   "source": [
    "os.remove(\"Model2.txt\")"
   ]
  },
  {
   "cell_type": "code",
   "execution_count": 28,
   "id": "504806f3",
   "metadata": {},
   "outputs": [
    {
     "name": "stdout",
     "output_type": "stream",
     "text": [
      "File is not present\n",
      "Loading...\n",
      "creating a file....\n",
      "Operation Succesfull.\n",
      "\n",
      "content:- I am Model2\n"
     ]
    }
   ],
   "source": [
    "if os.path.exists(\"Model2.txt\"):\n",
    "    with open(\"Model2.txt\", \"r\") as file:\n",
    "        content = file.read()\n",
    "        print(content)\n",
    "else:\n",
    "    print(\"File is not present\")\n",
    "    print(\"Loading...\\ncreating a file....\")\n",
    "    with open(\"Model2.txt\", \"w\") as file:\n",
    "        file.write(\"I am Model2\")\n",
    "    print(\"Operation Succesfull.\\n\")\n",
    "    with open(\"Model2.txt\", \"r\") as file:\n",
    "        content = file.read()\n",
    "        print(f\"content:- {content}\")"
   ]
  },
  {
   "cell_type": "markdown",
   "id": "53aac934",
   "metadata": {},
   "source": [
    "## Creating a directory"
   ]
  },
  {
   "cell_type": "code",
   "execution_count": 30,
   "id": "fdf23893",
   "metadata": {},
   "outputs": [],
   "source": [
    "os.mkdir(\"Python practice\")"
   ]
  },
  {
   "cell_type": "code",
   "execution_count": 31,
   "id": "4704c2fc",
   "metadata": {},
   "outputs": [],
   "source": [
    "os.mkdir(\"empty\")"
   ]
  },
  {
   "cell_type": "code",
   "execution_count": 39,
   "id": "9ab622ef",
   "metadata": {},
   "outputs": [],
   "source": [
    "for i in range(1,5):\n",
    "    os.mkdir(f\"sample_{i}\")"
   ]
  },
  {
   "cell_type": "code",
   "execution_count": 37,
   "id": "45b26f0a",
   "metadata": {},
   "outputs": [
    {
     "ename": "FileNotFoundError",
     "evalue": "[WinError 2] The system cannot find the file specified: 'sample_1.txt'",
     "output_type": "error",
     "traceback": [
      "\u001b[1;31m---------------------------------------------------------------------------\u001b[0m",
      "\u001b[1;31mFileNotFoundError\u001b[0m                         Traceback (most recent call last)",
      "Input \u001b[1;32mIn [37]\u001b[0m, in \u001b[0;36m<cell line: 1>\u001b[1;34m()\u001b[0m\n\u001b[0;32m      1\u001b[0m \u001b[38;5;28;01mfor\u001b[39;00m i \u001b[38;5;129;01min\u001b[39;00m \u001b[38;5;28mrange\u001b[39m(\u001b[38;5;241m1\u001b[39m,\u001b[38;5;241m5\u001b[39m):\n\u001b[1;32m----> 2\u001b[0m     \u001b[43mos\u001b[49m\u001b[38;5;241;43m.\u001b[39;49m\u001b[43mrmdir\u001b[49m\u001b[43m(\u001b[49m\u001b[38;5;124;43mf\u001b[39;49m\u001b[38;5;124;43m\"\u001b[39;49m\u001b[38;5;124;43msample_\u001b[39;49m\u001b[38;5;132;43;01m{\u001b[39;49;00m\u001b[43mi\u001b[49m\u001b[38;5;132;43;01m}\u001b[39;49;00m\u001b[38;5;124;43m.txt\u001b[39;49m\u001b[38;5;124;43m\"\u001b[39;49m\u001b[43m)\u001b[49m\n",
      "\u001b[1;31mFileNotFoundError\u001b[0m: [WinError 2] The system cannot find the file specified: 'sample_1.txt'"
     ]
    }
   ],
   "source": [
    "for i in range(1,5):\n",
    "    os.rmdir(f\"sample_{i}.txt\")"
   ]
  },
  {
   "cell_type": "code",
   "execution_count": 8,
   "id": "7cdd12ff",
   "metadata": {},
   "outputs": [],
   "source": [
    "folder = \"sample_1\""
   ]
  },
  {
   "cell_type": "code",
   "execution_count": 10,
   "id": "2632f0a0",
   "metadata": {},
   "outputs": [],
   "source": [
    "os.rmdir(folder)"
   ]
  },
  {
   "cell_type": "code",
   "execution_count": 11,
   "id": "ca947363",
   "metadata": {},
   "outputs": [
    {
     "name": "stdout",
     "output_type": "stream",
     "text": [
      "folder is not present\n",
      "Do you want to make a folder(y/n): y\n",
      "folder created...\n"
     ]
    }
   ],
   "source": [
    "if os.path.exists(r\"C:\\Users\\\\yashd\\02. Velocity Class Notes\\Class\\2. Month 2\\Day - 33 OS Modules\\Practice\\sample_1\"):\n",
    "    print(f\"{folder} folder is present\")\n",
    "else:\n",
    "    print(\"folder is not present\")\n",
    "    choice = input(\"Do you want to make a folder(y/n): \").lower()\n",
    "    if choice == \"y\":\n",
    "        os.mkdir(r\"C:\\\\Users\\\\yashd\\\\02. Velocity Class Notes\\\\Class\\\\2. Month 2\\\\Day - 33 OS Modules\\\\Practice\\\\sample_1\")\n",
    "        print(\"folder created...\")\n",
    "    else:\n",
    "        print(\"....Thak you....\")"
   ]
  },
  {
   "cell_type": "code",
   "execution_count": 46,
   "id": "290756e7",
   "metadata": {},
   "outputs": [
    {
     "data": {
      "text/plain": [
       "'C:\\\\Users\\\\yashd\\\\02. Velocity Class Notes\\\\Class\\\\2. Month 2\\\\Day - 33 OS Modules\\\\Practice'"
      ]
     },
     "execution_count": 46,
     "metadata": {},
     "output_type": "execute_result"
    }
   ],
   "source": [
    "%pwd"
   ]
  },
  {
   "cell_type": "code",
   "execution_count": 12,
   "id": "33f1e6e7",
   "metadata": {},
   "outputs": [
    {
     "data": {
      "text/plain": [
       "'C:\\\\Users\\\\yashd\\\\02. Velocity Class Notes\\\\Class\\\\2. Month 2\\\\Day - 33 OS Modules\\\\Practice'"
      ]
     },
     "execution_count": 12,
     "metadata": {},
     "output_type": "execute_result"
    }
   ],
   "source": [
    "os.getcwd()"
   ]
  },
  {
   "cell_type": "markdown",
   "id": "94b4a98e",
   "metadata": {},
   "source": [
    "## creating a folder inside a folder"
   ]
  },
  {
   "cell_type": "code",
   "execution_count": 13,
   "id": "a6c13708",
   "metadata": {},
   "outputs": [
    {
     "name": "stdout",
     "output_type": "stream",
     "text": [
      "C:\\Users\\yashd\\02. Velocity Class Notes\\Class\\2. Month 2\\Day - 33 OS Modules\\Practice\\SQL\n"
     ]
    }
   ],
   "source": [
    "path = \"C:\\\\Users\\\\yashd\\\\02. Velocity Class Notes\\\\Class\\\\2. Month 2\\\\Day - 33 OS Modules\\\\Practice\"\n",
    "folder_path = path + \"\\SQL\"\n",
    "\n",
    "print(folder_path)"
   ]
  },
  {
   "cell_type": "code",
   "execution_count": 14,
   "id": "c28bfd13",
   "metadata": {},
   "outputs": [
    {
     "data": {
      "text/plain": [
       "False"
      ]
     },
     "execution_count": 14,
     "metadata": {},
     "output_type": "execute_result"
    }
   ],
   "source": [
    "os.path.exists(folder_path)"
   ]
  },
  {
   "cell_type": "code",
   "execution_count": 21,
   "id": "07cd2ff9",
   "metadata": {},
   "outputs": [
    {
     "ename": "FileExistsError",
     "evalue": "[WinError 183] Cannot create a file when that file already exists: 'C:\\\\Users\\\\yashd\\\\02. Velocity Class Notes\\\\Class\\\\2. Month 2\\\\Day - 33 OS Modules\\\\Practice\\\\SQL'",
     "output_type": "error",
     "traceback": [
      "\u001b[1;31m---------------------------------------------------------------------------\u001b[0m",
      "\u001b[1;31mFileExistsError\u001b[0m                           Traceback (most recent call last)",
      "Input \u001b[1;32mIn [21]\u001b[0m, in \u001b[0;36m<cell line: 1>\u001b[1;34m()\u001b[0m\n\u001b[1;32m----> 1\u001b[0m \u001b[43mos\u001b[49m\u001b[38;5;241;43m.\u001b[39;49m\u001b[43mmkdir\u001b[49m\u001b[43m(\u001b[49m\u001b[43mfolder_path\u001b[49m\u001b[43m)\u001b[49m\n",
      "\u001b[1;31mFileExistsError\u001b[0m: [WinError 183] Cannot create a file when that file already exists: 'C:\\\\Users\\\\yashd\\\\02. Velocity Class Notes\\\\Class\\\\2. Month 2\\\\Day - 33 OS Modules\\\\Practice\\\\SQL'"
     ]
    }
   ],
   "source": [
    "os.mkdir(folder_path)"
   ]
  },
  {
   "cell_type": "code",
   "execution_count": 22,
   "id": "d13e722e",
   "metadata": {},
   "outputs": [
    {
     "data": {
      "text/plain": [
       "['.ipynb_checkpoints',\n",
       " 'empty',\n",
       " 'Model1.txt',\n",
       " 'Model2.txt',\n",
       " 'Model3.txt',\n",
       " 'Model4.txt',\n",
       " 'Model5.txt',\n",
       " 'practice.ipynb',\n",
       " 'Python',\n",
       " 'Python practice',\n",
       " 'sample_1',\n",
       " 'sample_2',\n",
       " 'sample_3',\n",
       " 'sample_4',\n",
       " 'SQL',\n",
       " 'text.txt']"
      ]
     },
     "execution_count": 22,
     "metadata": {},
     "output_type": "execute_result"
    }
   ],
   "source": [
    "os.listdir(path= r\"C:\\Users\\yashd\\02. Velocity Class Notes\\Class\\2. Month 2\\Day - 33 OS Modules\\Practice\")"
   ]
  },
  {
   "cell_type": "code",
   "execution_count": 49,
   "id": "feec7a5a",
   "metadata": {},
   "outputs": [
    {
     "name": "stdout",
     "output_type": "stream",
     "text": [
      "C:\\Users\\yashd\\02. Velocity Class Notes\\Class\\2. Month 2\\Day - 33 OS Modules\\Practice\\P\\Y\\T\\H\n"
     ]
    }
   ],
   "source": [
    "path = \"C:\\\\Users\\\\yashd\\\\02. Velocity Class Notes\\\\Class\\\\2. Month 2\\\\Day - 33 OS Modules\\\\Practice\"\n",
    "path = path + \"\\P\\Y\\T\\H\"\n",
    "print(path)"
   ]
  },
  {
   "cell_type": "code",
   "execution_count": 51,
   "id": "583962f6",
   "metadata": {},
   "outputs": [
    {
     "name": "stdout",
     "output_type": "stream",
     "text": [
      "Folder is not present\n",
      "New folders ar now created\n"
     ]
    }
   ],
   "source": [
    "if os.path.exists(path):\n",
    "    print(\"Folder is present..\")\n",
    "else:\n",
    "    print(\"Folder is not present\")\n",
    "    os.makedirs(path)\n",
    "    print(\"New folders ar now created\")"
   ]
  },
  {
   "cell_type": "code",
   "execution_count": 56,
   "id": "596a6642",
   "metadata": {},
   "outputs": [
    {
     "data": {
      "text/plain": [
       "['.ipynb_checkpoints',\n",
       " 'empty',\n",
       " 'Model1.txt',\n",
       " 'Model2.txt',\n",
       " 'Model3.txt',\n",
       " 'Model4.txt',\n",
       " 'Model5.txt',\n",
       " 'new_path',\n",
       " 'P',\n",
       " 'practice.ipynb',\n",
       " 'Python',\n",
       " 'Python practice',\n",
       " 'sample_1',\n",
       " 'sample_2',\n",
       " 'sample_3',\n",
       " 'sample_4',\n",
       " 'SQL',\n",
       " 'text.txt']"
      ]
     },
     "execution_count": 56,
     "metadata": {},
     "output_type": "execute_result"
    }
   ],
   "source": [
    "n_path = \"C:\\\\Users\\\\yashd\\\\02. Velocity Class Notes\\\\Class\\\\2. Month 2\\\\Day - 33 OS Modules\"\n",
    "os.listdir()"
   ]
  },
  {
   "cell_type": "code",
   "execution_count": 74,
   "id": "b2b61af3",
   "metadata": {},
   "outputs": [
    {
     "name": "stdout",
     "output_type": "stream",
     "text": [
      "C:\\Users\\yashd\\02. Velocity Class Notes\\Class\\2. Month 2\\Day - 33 OS Modules\\Python practice\\Python\\ML\\DS\n"
     ]
    }
   ],
   "source": [
    "path = r\"C:\\Users\\yashd\\02. Velocity Class Notes\\Class\\2. Month 2\\Day - 33 OS Modules\\Python practice\"\n",
    "path = path + \"\\Python\\ML\\DS\"\n",
    "print(path)"
   ]
  },
  {
   "cell_type": "code",
   "execution_count": 77,
   "id": "5f5f1f9d",
   "metadata": {},
   "outputs": [
    {
     "ename": "FileExistsError",
     "evalue": "[WinError 183] Cannot create a file when that file already exists: 'C:\\\\Users\\\\yashd\\\\02. Velocity Class Notes\\\\Class\\\\2. Month 2\\\\Day - 33 OS Modules\\\\Python practice\\\\Python\\\\ML\\\\DS'",
     "output_type": "error",
     "traceback": [
      "\u001b[1;31m---------------------------------------------------------------------------\u001b[0m",
      "\u001b[1;31mFileExistsError\u001b[0m                           Traceback (most recent call last)",
      "Input \u001b[1;32mIn [77]\u001b[0m, in \u001b[0;36m<cell line: 1>\u001b[1;34m()\u001b[0m\n\u001b[1;32m----> 1\u001b[0m \u001b[43mos\u001b[49m\u001b[38;5;241;43m.\u001b[39;49m\u001b[43mmakedirs\u001b[49m\u001b[43m(\u001b[49m\u001b[43mpath\u001b[49m\u001b[43m)\u001b[49m\n",
      "File \u001b[1;32m~\\anaconda3\\lib\\os.py:225\u001b[0m, in \u001b[0;36mmakedirs\u001b[1;34m(name, mode, exist_ok)\u001b[0m\n\u001b[0;32m    223\u001b[0m         \u001b[38;5;28;01mreturn\u001b[39;00m\n\u001b[0;32m    224\u001b[0m \u001b[38;5;28;01mtry\u001b[39;00m:\n\u001b[1;32m--> 225\u001b[0m     \u001b[43mmkdir\u001b[49m\u001b[43m(\u001b[49m\u001b[43mname\u001b[49m\u001b[43m,\u001b[49m\u001b[43m \u001b[49m\u001b[43mmode\u001b[49m\u001b[43m)\u001b[49m\n\u001b[0;32m    226\u001b[0m \u001b[38;5;28;01mexcept\u001b[39;00m \u001b[38;5;167;01mOSError\u001b[39;00m:\n\u001b[0;32m    227\u001b[0m     \u001b[38;5;66;03m# Cannot rely on checking for EEXIST, since the operating system\u001b[39;00m\n\u001b[0;32m    228\u001b[0m     \u001b[38;5;66;03m# could give priority to other errors like EACCES or EROFS\u001b[39;00m\n\u001b[0;32m    229\u001b[0m     \u001b[38;5;28;01mif\u001b[39;00m \u001b[38;5;129;01mnot\u001b[39;00m exist_ok \u001b[38;5;129;01mor\u001b[39;00m \u001b[38;5;129;01mnot\u001b[39;00m path\u001b[38;5;241m.\u001b[39misdir(name):\n",
      "\u001b[1;31mFileExistsError\u001b[0m: [WinError 183] Cannot create a file when that file already exists: 'C:\\\\Users\\\\yashd\\\\02. Velocity Class Notes\\\\Class\\\\2. Month 2\\\\Day - 33 OS Modules\\\\Python practice\\\\Python\\\\ML\\\\DS'"
     ]
    }
   ],
   "source": [
    "os.makedirs(path)"
   ]
  },
  {
   "cell_type": "code",
   "execution_count": 76,
   "id": "6fa1e795",
   "metadata": {},
   "outputs": [
    {
     "data": {
      "text/plain": [
       "['.ipynb_checkpoints',\n",
       " 'empty',\n",
       " 'Model1.txt',\n",
       " 'Model2.txt',\n",
       " 'Model3.txt',\n",
       " 'Model4.txt',\n",
       " 'Model5.txt',\n",
       " 'P',\n",
       " 'practice.ipynb',\n",
       " 'Python',\n",
       " 'Python practice',\n",
       " 'sample_1',\n",
       " 'sample_2',\n",
       " 'sample_3',\n",
       " 'sample_4',\n",
       " 'SQL',\n",
       " 'text.txt']"
      ]
     },
     "execution_count": 76,
     "metadata": {},
     "output_type": "execute_result"
    }
   ],
   "source": [
    "os.listdir()"
   ]
  },
  {
   "cell_type": "code",
   "execution_count": 62,
   "id": "225f0201",
   "metadata": {},
   "outputs": [
    {
     "data": {
      "text/plain": [
       "'C:\\\\Users\\\\yashd\\\\02. Velocity Class Notes\\\\Class\\\\2. Month 2\\\\Day - 33 OS Modules\\\\Practice'"
      ]
     },
     "execution_count": 62,
     "metadata": {},
     "output_type": "execute_result"
    }
   ],
   "source": [
    "os.getcwd()"
   ]
  },
  {
   "cell_type": "code",
   "execution_count": 66,
   "id": "dd788842",
   "metadata": {},
   "outputs": [],
   "source": [
    "os.rmdir(\"new_path\")"
   ]
  },
  {
   "cell_type": "code",
   "execution_count": 81,
   "id": "ceb5917d",
   "metadata": {},
   "outputs": [
    {
     "name": "stdout",
     "output_type": "stream",
     "text": [
      "C:\\Users\\yashd\\02. Velocity Class Notes\\Class\\2. Month 2\\Day - 33 OS Modules\\Practice\\ML\\DL\\AI\n"
     ]
    }
   ],
   "source": [
    "c_path = 'C:\\\\Users\\\\yashd\\\\02. Velocity Class Notes\\\\Class\\\\2. Month 2\\\\Day - 33 OS Modules\\\\Practice'\n",
    "c_path = c_path + \"\\ML\\DL\\AI\"\n",
    "print(c_path)"
   ]
  },
  {
   "cell_type": "code",
   "execution_count": 82,
   "id": "b99a2b46",
   "metadata": {},
   "outputs": [],
   "source": [
    "os.makedirs(c_path)"
   ]
  },
  {
   "cell_type": "code",
   "execution_count": 86,
   "id": "70ab0c0c",
   "metadata": {},
   "outputs": [
    {
     "name": "stdout",
     "output_type": "stream",
     "text": [
      "folder is present\n"
     ]
    }
   ],
   "source": [
    "if os.path.exists(c_path):\n",
    "    print(\"folder is present\")\n",
    "    with open(r\"C:\\Users\\yashd\\02. Velocity Class Notes\\Class\\2. Month 2\\Day - 33 OS Modules\\Practice\\ML\\DL\\AI\\file.txt\",'w') as file:\n",
    "        file.write(f\"Hello i am inside of {c_path}\")\n"
   ]
  },
  {
   "cell_type": "code",
   "execution_count": 93,
   "id": "869aed50",
   "metadata": {},
   "outputs": [
    {
     "name": "stdout",
     "output_type": "stream",
     "text": [
      "Hello i am inside of C:\\Users\\yashd\\02. Velocity Class Notes\\Class\\2. Month 2\\Day - 33 OS Modules\\Practice\\ML\\DL\\AI location\n"
     ]
    }
   ],
   "source": [
    "with open(r\"C:\\Users\\yashd\\02. Velocity Class Notes\\Class\\2. Month 2\\Day - 33 OS Modules\\Practice\\ML\\DL\\AI\\file.txt\",'r') as file:\n",
    "        content = file.read()\n",
    "        print(content)"
   ]
  },
  {
   "cell_type": "code",
   "execution_count": 94,
   "id": "74aa20fa",
   "metadata": {},
   "outputs": [
    {
     "data": {
      "text/plain": [
       "'C:\\\\Users\\\\yashd\\\\02. Velocity Class Notes\\\\Class\\\\2. Month 2\\\\Day - 33 OS Modules\\\\Practice'"
      ]
     },
     "execution_count": 94,
     "metadata": {},
     "output_type": "execute_result"
    }
   ],
   "source": [
    "os.getcwd()"
   ]
  },
  {
   "cell_type": "code",
   "execution_count": 105,
   "id": "77b70fc0",
   "metadata": {},
   "outputs": [],
   "source": [
    "folder = \"cwd\"\n",
    "path = r\"C:\\\\Users\\\\yashd\\\\02. Velocity Class Notes\\\\Class\\\\2. Month 2\\\\Day - 33 OS Modules\\\\Practice\""
   ]
  },
  {
   "cell_type": "code",
   "execution_count": 108,
   "id": "80d45cf2",
   "metadata": {},
   "outputs": [],
   "source": [
    "os.mkdir(folder)"
   ]
  },
  {
   "cell_type": "code",
   "execution_count": 109,
   "id": "ad7c33a6",
   "metadata": {},
   "outputs": [
    {
     "data": {
      "text/plain": [
       "'C:\\\\\\\\Users\\\\\\\\yashd\\\\\\\\02. Velocity Class Notes\\\\\\\\Class\\\\\\\\2. Month 2\\\\\\\\Day - 33 OS Modules\\\\\\\\Practice\\\\cwd'"
      ]
     },
     "execution_count": 109,
     "metadata": {},
     "output_type": "execute_result"
    }
   ],
   "source": [
    "os.path.join(path, folder)"
   ]
  },
  {
   "cell_type": "code",
   "execution_count": 110,
   "id": "a153e4f5",
   "metadata": {},
   "outputs": [],
   "source": [
    "os.chdir(os.path.join(path,folder))"
   ]
  },
  {
   "cell_type": "code",
   "execution_count": 113,
   "id": "b397fb6e",
   "metadata": {},
   "outputs": [
    {
     "data": {
      "text/plain": [
       "[]"
      ]
     },
     "execution_count": 113,
     "metadata": {},
     "output_type": "execute_result"
    }
   ],
   "source": [
    "os.listdir()"
   ]
  },
  {
   "cell_type": "code",
   "execution_count": 115,
   "id": "14ddd851",
   "metadata": {},
   "outputs": [],
   "source": [
    "os.mkdir(\"folder\")"
   ]
  },
  {
   "cell_type": "code",
   "execution_count": 117,
   "id": "123fce32",
   "metadata": {},
   "outputs": [],
   "source": [
    "os.chdir(os.path.join(path,folder))"
   ]
  },
  {
   "cell_type": "code",
   "execution_count": 118,
   "id": "49cbe7f7",
   "metadata": {},
   "outputs": [
    {
     "data": {
      "text/plain": [
       "['folder']"
      ]
     },
     "execution_count": 118,
     "metadata": {},
     "output_type": "execute_result"
    }
   ],
   "source": [
    "os.listdir()"
   ]
  },
  {
   "cell_type": "code",
   "execution_count": null,
   "id": "2f11f288",
   "metadata": {
    "collapsed": true
   },
   "outputs": [],
   "source": []
  }
 ],
 "metadata": {
  "kernelspec": {
   "display_name": "Python 3 (ipykernel)",
   "language": "python",
   "name": "python3"
  },
  "language_info": {
   "codemirror_mode": {
    "name": "ipython",
    "version": 3
   },
   "file_extension": ".py",
   "mimetype": "text/x-python",
   "name": "python",
   "nbconvert_exporter": "python",
   "pygments_lexer": "ipython3",
   "version": "3.9.12"
  }
 },
 "nbformat": 4,
 "nbformat_minor": 5
}
