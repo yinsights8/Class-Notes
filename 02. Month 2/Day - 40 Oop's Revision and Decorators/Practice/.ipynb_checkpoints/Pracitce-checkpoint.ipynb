{
 "cells": [
  {
   "cell_type": "markdown",
   "id": "3b43f5d2",
   "metadata": {},
   "source": [
    "### Decorators"
   ]
  },
  {
   "cell_type": "markdown",
   "id": "74e21b1b",
   "metadata": {},
   "source": [
    "- It allows programmer to modify its behaviour of a functions or a class\n",
    "- decorators allows us to wrapped another function into a function in order to enxtend the behaivour of a wrapped function without any permanently modifying it.\n",
    "- we can pass the function into another function "
   ]
  },
  {
   "cell_type": "code",
   "execution_count": 1,
   "id": "d8a8477e",
   "metadata": {},
   "outputs": [
    {
     "data": {
      "text/plain": [
       "'function_1'"
      ]
     },
     "execution_count": 1,
     "metadata": {},
     "output_type": "execute_result"
    }
   ],
   "source": [
    "def func1():\n",
    "    return \"function_1\"\n",
    "    \n",
    "    print(\"In function 1\")\n",
    "func1()"
   ]
  },
  {
   "cell_type": "code",
   "execution_count": 2,
   "id": "fddbdaaa",
   "metadata": {},
   "outputs": [
    {
     "name": "stdout",
     "output_type": "stream",
     "text": [
      "In function 1\n"
     ]
    },
    {
     "data": {
      "text/plain": [
       "'function_1'"
      ]
     },
     "execution_count": 2,
     "metadata": {},
     "output_type": "execute_result"
    }
   ],
   "source": [
    "def func1():\n",
    "    print(\"In function 1\")\n",
    "    return \"function_1\"\n",
    "    \n",
    "func1()"
   ]
  },
  {
   "cell_type": "code",
   "execution_count": 3,
   "id": "0dc1e6ca",
   "metadata": {},
   "outputs": [],
   "source": [
    "def outer_func():\n",
    "    print(\"Outer function\")\n",
    "    \n",
    "    def inner_func():\n",
    "        print(\"inner funtion\")\n",
    "        \n",
    "    print(\"Outer funtion_1\")\n",
    "    return \"outer funtion_2\""
   ]
  },
  {
   "cell_type": "code",
   "execution_count": 4,
   "id": "765be2d7",
   "metadata": {},
   "outputs": [
    {
     "name": "stdout",
     "output_type": "stream",
     "text": [
      "Outer function\n",
      "Outer funtion_1\n"
     ]
    },
    {
     "data": {
      "text/plain": [
       "'outer funtion_2'"
      ]
     },
     "execution_count": 4,
     "metadata": {},
     "output_type": "execute_result"
    }
   ],
   "source": [
    "outer_func()"
   ]
  },
  {
   "cell_type": "code",
   "execution_count": 5,
   "id": "c47f6a8c",
   "metadata": {},
   "outputs": [],
   "source": [
    "def outer_func():\n",
    "    print(\"Outer function\")\n",
    "    \n",
    "    def inner_func():\n",
    "        print(\"inner funtion\")\n",
    "        \n",
    "    inner_func()\n",
    "    return \"outer funtion_2\""
   ]
  },
  {
   "cell_type": "code",
   "execution_count": 6,
   "id": "1f29f8ed",
   "metadata": {},
   "outputs": [
    {
     "name": "stdout",
     "output_type": "stream",
     "text": [
      "Outer function\n",
      "inner funtion\n"
     ]
    },
    {
     "data": {
      "text/plain": [
       "'outer funtion_2'"
      ]
     },
     "execution_count": 6,
     "metadata": {},
     "output_type": "execute_result"
    }
   ],
   "source": [
    "outer_func()"
   ]
  },
  {
   "cell_type": "code",
   "execution_count": 7,
   "id": "446c915a",
   "metadata": {},
   "outputs": [],
   "source": [
    "def outer_func():\n",
    "    print(\"Outer function\")\n",
    "    \n",
    "    def inner_func():\n",
    "        print(\"inner funtion\")\n",
    "        \n",
    "    print(\"outer funtion_2\")\n",
    "    return inner_func()"
   ]
  },
  {
   "cell_type": "code",
   "execution_count": 8,
   "id": "3f7020dc",
   "metadata": {},
   "outputs": [
    {
     "name": "stdout",
     "output_type": "stream",
     "text": [
      "Outer function\n",
      "outer funtion_2\n",
      "inner funtion\n"
     ]
    }
   ],
   "source": [
    "outer_func()"
   ]
  },
  {
   "cell_type": "code",
   "execution_count": 9,
   "id": "cccf8057",
   "metadata": {},
   "outputs": [],
   "source": [
    "def outer_func():\n",
    "    print(\"Outer function\")\n",
    "    \n",
    "    def inner_func():\n",
    "        print(\"inner funtion\")\n",
    "        \n",
    "    return inner_func()"
   ]
  },
  {
   "cell_type": "code",
   "execution_count": 10,
   "id": "b93fba05",
   "metadata": {},
   "outputs": [
    {
     "name": "stdout",
     "output_type": "stream",
     "text": [
      "Outer function\n",
      "inner funtion\n"
     ]
    }
   ],
   "source": [
    "outer_func()"
   ]
  },
  {
   "cell_type": "code",
   "execution_count": 11,
   "id": "7bab61af",
   "metadata": {},
   "outputs": [],
   "source": [
    "def outer_func():\n",
    "    print(\"Outer function\")\n",
    "    \n",
    "    def inner_func():                    ## This is a local funtion\n",
    "        print(\"inner funtion\")\n",
    "        \n",
    "    return inner_func"
   ]
  },
  {
   "cell_type": "code",
   "execution_count": 12,
   "id": "d8d6e318",
   "metadata": {},
   "outputs": [
    {
     "name": "stdout",
     "output_type": "stream",
     "text": [
      "Outer function\n"
     ]
    },
    {
     "data": {
      "text/plain": [
       "<function __main__.outer_func.<locals>.inner_func()>"
      ]
     },
     "execution_count": 12,
     "metadata": {},
     "output_type": "execute_result"
    }
   ],
   "source": [
    "outer_func()"
   ]
  },
  {
   "cell_type": "code",
   "execution_count": 13,
   "id": "67f88af6",
   "metadata": {},
   "outputs": [
    {
     "ename": "NameError",
     "evalue": "name 'inner_func' is not defined",
     "output_type": "error",
     "traceback": [
      "\u001b[1;31m---------------------------------------------------------------------------\u001b[0m",
      "\u001b[1;31mNameError\u001b[0m                                 Traceback (most recent call last)",
      "Input \u001b[1;32mIn [13]\u001b[0m, in \u001b[0;36m<cell line: 1>\u001b[1;34m()\u001b[0m\n\u001b[1;32m----> 1\u001b[0m \u001b[43minner_func\u001b[49m()\n",
      "\u001b[1;31mNameError\u001b[0m: name 'inner_func' is not defined"
     ]
    }
   ],
   "source": [
    "inner_func()"
   ]
  },
  {
   "cell_type": "code",
   "execution_count": 14,
   "id": "5ea94999",
   "metadata": {},
   "outputs": [],
   "source": [
    "def m():\n",
    "    print(\"m\")\n",
    "    \n",
    "    def n():\n",
    "        print(\"n\")\n",
    "        \n",
    "    return n()"
   ]
  },
  {
   "cell_type": "code",
   "execution_count": 15,
   "id": "17f72a3c",
   "metadata": {},
   "outputs": [
    {
     "name": "stdout",
     "output_type": "stream",
     "text": [
      "m\n",
      "n\n"
     ]
    }
   ],
   "source": [
    "m()"
   ]
  },
  {
   "cell_type": "code",
   "execution_count": 16,
   "id": "28d78458",
   "metadata": {},
   "outputs": [],
   "source": [
    "def m():\n",
    "    print(\"m\")\n",
    "    \n",
    "    def n():\n",
    "        print(\"n\")\n",
    "        \n",
    "    return n"
   ]
  },
  {
   "cell_type": "code",
   "execution_count": 17,
   "id": "a884a04c",
   "metadata": {},
   "outputs": [
    {
     "name": "stdout",
     "output_type": "stream",
     "text": [
      "m\n"
     ]
    },
    {
     "data": {
      "text/plain": [
       "<function __main__.m.<locals>.n()>"
      ]
     },
     "execution_count": 17,
     "metadata": {},
     "output_type": "execute_result"
    }
   ],
   "source": [
    "m()"
   ]
  },
  {
   "cell_type": "code",
   "execution_count": 18,
   "id": "92caa9ee",
   "metadata": {},
   "outputs": [],
   "source": [
    "def j():\n",
    "    print(\"j\")\n",
    "    \n",
    "    def k():\n",
    "        print(\"k\")\n",
    "        \n",
    "    return k()"
   ]
  },
  {
   "cell_type": "code",
   "execution_count": 19,
   "id": "62dcc0ec",
   "metadata": {},
   "outputs": [
    {
     "name": "stdout",
     "output_type": "stream",
     "text": [
      "j\n",
      "k\n"
     ]
    }
   ],
   "source": [
    "N = j()\n",
    "N"
   ]
  },
  {
   "cell_type": "code",
   "execution_count": 20,
   "id": "c0bdee04",
   "metadata": {},
   "outputs": [],
   "source": [
    "def j():\n",
    "    print(\"j\")\n",
    "    \n",
    "    def k():\n",
    "        print(\"k\")\n",
    "        \n",
    "    return k"
   ]
  },
  {
   "cell_type": "code",
   "execution_count": 21,
   "id": "67f23ff5",
   "metadata": {},
   "outputs": [
    {
     "name": "stdout",
     "output_type": "stream",
     "text": [
      "j\n"
     ]
    },
    {
     "data": {
      "text/plain": [
       "<function __main__.j.<locals>.k()>"
      ]
     },
     "execution_count": 21,
     "metadata": {},
     "output_type": "execute_result"
    }
   ],
   "source": [
    "M = j()\n",
    "M"
   ]
  },
  {
   "cell_type": "code",
   "execution_count": 35,
   "id": "dda75794",
   "metadata": {},
   "outputs": [],
   "source": [
    "def j():\n",
    "    print(\"j\")\n",
    "    \n",
    "    def k():\n",
    "        print(\"k\")\n",
    "        \n",
    "    return k"
   ]
  },
  {
   "cell_type": "code",
   "execution_count": 36,
   "id": "c7c9c239",
   "metadata": {},
   "outputs": [
    {
     "name": "stdout",
     "output_type": "stream",
     "text": [
      "j\n"
     ]
    },
    {
     "data": {
      "text/plain": [
       "<function __main__.j.<locals>.k()>"
      ]
     },
     "execution_count": 36,
     "metadata": {},
     "output_type": "execute_result"
    }
   ],
   "source": [
    "X1 = j()\n",
    "X1"
   ]
  },
  {
   "cell_type": "code",
   "execution_count": 48,
   "id": "75351988",
   "metadata": {},
   "outputs": [],
   "source": [
    "def j():\n",
    "    print(\"j\")\n",
    "    \n",
    "    def k():\n",
    "        print(\"k\")\n",
    "        \n",
    "    return k"
   ]
  },
  {
   "cell_type": "code",
   "execution_count": 49,
   "id": "e1fdd79e",
   "metadata": {},
   "outputs": [
    {
     "name": "stdout",
     "output_type": "stream",
     "text": [
      "j\n",
      "k\n"
     ]
    }
   ],
   "source": [
    "X = j()\n",
    "X()"
   ]
  },
  {
   "cell_type": "code",
   "execution_count": 45,
   "id": "7c16d0c9",
   "metadata": {},
   "outputs": [],
   "source": [
    "def j():\n",
    "    print(\"j\")\n",
    "    \n",
    "    def k():\n",
    "        print(\"k\")\n",
    "        \n",
    "    return k()"
   ]
  },
  {
   "cell_type": "code",
   "execution_count": 47,
   "id": "e6a05189",
   "metadata": {},
   "outputs": [
    {
     "name": "stdout",
     "output_type": "stream",
     "text": [
      "j\n",
      "k\n"
     ]
    },
    {
     "ename": "TypeError",
     "evalue": "'NoneType' object is not callable",
     "output_type": "error",
     "traceback": [
      "\u001b[1;31m---------------------------------------------------------------------------\u001b[0m",
      "\u001b[1;31mTypeError\u001b[0m                                 Traceback (most recent call last)",
      "Input \u001b[1;32mIn [47]\u001b[0m, in \u001b[0;36m<cell line: 2>\u001b[1;34m()\u001b[0m\n\u001b[0;32m      1\u001b[0m Y \u001b[38;5;241m=\u001b[39m j()\n\u001b[1;32m----> 2\u001b[0m \u001b[43mY\u001b[49m\u001b[43m(\u001b[49m\u001b[43m)\u001b[49m\n",
      "\u001b[1;31mTypeError\u001b[0m: 'NoneType' object is not callable"
     ]
    }
   ],
   "source": [
    "Y = j()\n",
    "Y()"
   ]
  },
  {
   "cell_type": "code",
   "execution_count": null,
   "id": "ae5925b6",
   "metadata": {},
   "outputs": [],
   "source": []
  },
  {
   "cell_type": "code",
   "execution_count": 3,
   "id": "ecfc68d1",
   "metadata": {},
   "outputs": [],
   "source": [
    "def j():\n",
    "    print(\"j\")\n",
    "    \n",
    "    def k():\n",
    "        print(\"k\")\n",
    "        \n",
    "    return k"
   ]
  },
  {
   "cell_type": "code",
   "execution_count": 7,
   "id": "ab9e4471",
   "metadata": {},
   "outputs": [
    {
     "name": "stdout",
     "output_type": "stream",
     "text": [
      "j\n",
      "<function j.<locals>.k at 0x000002070194E790>\n",
      "k\n"
     ]
    }
   ],
   "source": [
    "H = j()\n",
    "print(H)\n",
    "H()"
   ]
  },
  {
   "cell_type": "code",
   "execution_count": 22,
   "id": "5d275c8a",
   "metadata": {},
   "outputs": [],
   "source": [
    "def Outer_function():\n",
    "    print(\"This is first line of Outer_function\")\n",
    "    \n",
    "    def Inner_function():\n",
    "        print(\"This is inner funtion\")\n",
    "        \n",
    "    return Inner_function"
   ]
  },
  {
   "cell_type": "code",
   "execution_count": 23,
   "id": "e0406581",
   "metadata": {},
   "outputs": [
    {
     "name": "stdout",
     "output_type": "stream",
     "text": [
      "This is first line of Outer_function\n"
     ]
    }
   ],
   "source": [
    "call =  Outer_function()"
   ]
  },
  {
   "cell_type": "code",
   "execution_count": 24,
   "id": "ffa3ccc6",
   "metadata": {},
   "outputs": [
    {
     "data": {
      "text/plain": [
       "<function __main__.Outer_function.<locals>.Inner_function()>"
      ]
     },
     "execution_count": 24,
     "metadata": {},
     "output_type": "execute_result"
    }
   ],
   "source": [
    "call"
   ]
  },
  {
   "cell_type": "code",
   "execution_count": 25,
   "id": "cc46e992",
   "metadata": {},
   "outputs": [
    {
     "name": "stdout",
     "output_type": "stream",
     "text": [
      "This is inner funtion\n"
     ]
    }
   ],
   "source": [
    "call()"
   ]
  },
  {
   "cell_type": "code",
   "execution_count": 38,
   "id": "59f25e2b",
   "metadata": {},
   "outputs": [],
   "source": [
    "def outer_funtion():\n",
    "    print(\"outer Function 1\")\n",
    "    \n",
    "    def inner_function(var = \"python\"):\n",
    "        print(f\"The default value of var is:- {var}\")\n",
    "        print(\"In Inner function\")\n",
    "        \n",
    "    return inner_function"
   ]
  },
  {
   "cell_type": "code",
   "execution_count": 43,
   "id": "13535f3d",
   "metadata": {},
   "outputs": [
    {
     "name": "stdout",
     "output_type": "stream",
     "text": [
      "outer Function 1\n",
      "The default value of var is:- python\n",
      "In Inner function\n"
     ]
    }
   ],
   "source": [
    "call = outer_funtion()\n",
    "call()"
   ]
  },
  {
   "cell_type": "code",
   "execution_count": 40,
   "id": "04ff26c6",
   "metadata": {},
   "outputs": [
    {
     "data": {
      "text/plain": [
       "<function __main__.outer_funtion.<locals>.inner_function(var='python')>"
      ]
     },
     "execution_count": 40,
     "metadata": {},
     "output_type": "execute_result"
    }
   ],
   "source": [
    "call"
   ]
  },
  {
   "cell_type": "code",
   "execution_count": 41,
   "id": "c636d5ce",
   "metadata": {},
   "outputs": [
    {
     "name": "stdout",
     "output_type": "stream",
     "text": [
      "The default value of var is:- python\n",
      "In Inner function\n"
     ]
    }
   ],
   "source": [
    "call()"
   ]
  },
  {
   "cell_type": "code",
   "execution_count": 44,
   "id": "f401d7f7",
   "metadata": {},
   "outputs": [],
   "source": [
    "def outer_funtion():\n",
    "    print(\"outer Function 1\")\n",
    "    \n",
    "    def inner_function(var = \"python\"):\n",
    "        print(f\"The default value of var is:- {var}\")\n",
    "        print(\"In Inner function\")\n",
    "        \n",
    "    return inner_function"
   ]
  },
  {
   "cell_type": "code",
   "execution_count": 48,
   "id": "b80da95f",
   "metadata": {},
   "outputs": [
    {
     "name": "stdout",
     "output_type": "stream",
     "text": [
      "outer Function 1\n",
      "The default value of var is:- Java\n",
      "In Inner function\n"
     ]
    }
   ],
   "source": [
    "call2 = outer_funtion()\n",
    "call2\n",
    "call2(\"Java\")"
   ]
  },
  {
   "cell_type": "markdown",
   "id": "c65a1f97",
   "metadata": {},
   "source": [
    "## Example for Decoreters"
   ]
  },
  {
   "cell_type": "code",
   "execution_count": 10,
   "id": "0a35c57f",
   "metadata": {},
   "outputs": [
    {
     "name": "stdout",
     "output_type": "stream",
     "text": [
      "In 1st new_div function\n"
     ]
    },
    {
     "data": {
      "text/plain": [
       "2.0"
      ]
     },
     "execution_count": 10,
     "metadata": {},
     "output_type": "execute_result"
    }
   ],
   "source": [
    "def div(a,b):\n",
    "    return a/b\n",
    "\n",
    "def new_div(func):\n",
    "    print(\"In 1st new_div function\")\n",
    "\n",
    "    def inner(a,b):\n",
    "        if a<b:\n",
    "            a,b = b,a\n",
    "        return func(a,b)\n",
    "\n",
    "    return inner\n",
    "\n",
    "n = new_div(div)\n",
    "n(2,4)"
   ]
  },
  {
   "cell_type": "code",
   "execution_count": null,
   "id": "98914c2c",
   "metadata": {},
   "outputs": [],
   "source": []
  },
  {
   "cell_type": "code",
   "execution_count": null,
   "id": "27c66f50",
   "metadata": {},
   "outputs": [],
   "source": []
  },
  {
   "cell_type": "code",
   "execution_count": null,
   "id": "8ff1df97",
   "metadata": {},
   "outputs": [],
   "source": []
  },
  {
   "cell_type": "code",
   "execution_count": null,
   "id": "f973dd8d",
   "metadata": {},
   "outputs": [],
   "source": []
  }
 ],
 "metadata": {
  "kernelspec": {
   "display_name": "Python 3 (ipykernel)",
   "language": "python",
   "name": "python3"
  },
  "language_info": {
   "codemirror_mode": {
    "name": "ipython",
    "version": 3
   },
   "file_extension": ".py",
   "mimetype": "text/x-python",
   "name": "python",
   "nbconvert_exporter": "python",
   "pygments_lexer": "ipython3",
   "version": "3.9.12"
  }
 },
 "nbformat": 4,
 "nbformat_minor": 5
}
