{
 "cells": [
  {
   "cell_type": "markdown",
   "id": "55d78246",
   "metadata": {},
   "source": [
    "# Decorators\n",
    "- A decorator in Python is a function that takes another function as it's parameter (Higher Order Function) and returns yet another function (returning an object)\n",
    "- Decorators can be extrremely useful as they allow the extension of an existing function, without any modification to the original source code"
   ]
  },
  {
   "cell_type": "code",
   "execution_count": 1,
   "id": "0c63b145",
   "metadata": {},
   "outputs": [
    {
     "name": "stdout",
     "output_type": "stream",
     "text": [
      "The first function\n"
     ]
    },
    {
     "data": {
      "text/plain": [
       "'This is the first return statement'"
      ]
     },
     "execution_count": 1,
     "metadata": {},
     "output_type": "execute_result"
    }
   ],
   "source": [
    "def func():\n",
    "    print(\"The first function\")\n",
    "    return \"This is the first return statement\"\n",
    "func()"
   ]
  },
  {
   "cell_type": "code",
   "execution_count": 2,
   "id": "7a159b76",
   "metadata": {},
   "outputs": [
    {
     "name": "stdout",
     "output_type": "stream",
     "text": [
      "Outer Function\n",
      "Outer function completed\n"
     ]
    },
    {
     "data": {
      "text/plain": [
       "'Outer return'"
      ]
     },
     "execution_count": 2,
     "metadata": {},
     "output_type": "execute_result"
    }
   ],
   "source": [
    "def outer_function():\n",
    "    print(\"Outer Function\")\n",
    "    \n",
    "    \n",
    "    def inner_funciton():\n",
    "        print(\"Inner Function\")\n",
    "        \n",
    "        return \"Inner return\"\n",
    "    \n",
    "    \n",
    "    print(\"Outer function completed\")\n",
    "    return \"Outer return\"\n",
    "\n",
    "outer_function()"
   ]
  },
  {
   "cell_type": "code",
   "execution_count": 3,
   "id": "921eccbd",
   "metadata": {},
   "outputs": [
    {
     "name": "stdout",
     "output_type": "stream",
     "text": [
      "Outer Function\n",
      "Inner Function\n"
     ]
    },
    {
     "data": {
      "text/plain": [
       "'Outer return'"
      ]
     },
     "execution_count": 3,
     "metadata": {},
     "output_type": "execute_result"
    }
   ],
   "source": [
    "def outer_function():\n",
    "    print(\"Outer Function\")\n",
    "    \n",
    "    \n",
    "    def inner_funciton():\n",
    "        print(\"Inner Function\")\n",
    "           \n",
    "    \n",
    "    inner_funciton()\n",
    "    return \"Outer return\"\n",
    "\n",
    "outer_function()"
   ]
  },
  {
   "cell_type": "code",
   "execution_count": 4,
   "id": "2a23eecc",
   "metadata": {},
   "outputs": [
    {
     "name": "stdout",
     "output_type": "stream",
     "text": [
      "Outer Function\n",
      "Inner Function\n"
     ]
    }
   ],
   "source": [
    "def outer_function():\n",
    "    print(\"Outer Function\")\n",
    "    \n",
    "    \n",
    "    def inner_funciton():\n",
    "        print(\"Inner Function\")\n",
    "           \n",
    "    \n",
    "    return inner_funciton()\n",
    "\n",
    "outer_function()"
   ]
  },
  {
   "cell_type": "code",
   "execution_count": 5,
   "id": "eadc91cc",
   "metadata": {},
   "outputs": [
    {
     "name": "stdout",
     "output_type": "stream",
     "text": [
      "Outer Function\n"
     ]
    },
    {
     "data": {
      "text/plain": [
       "<function __main__.outer_function.<locals>.inner_funciton()>"
      ]
     },
     "execution_count": 5,
     "metadata": {},
     "output_type": "execute_result"
    }
   ],
   "source": [
    "def outer_function():\n",
    "    print(\"Outer Function\")\n",
    "    \n",
    "    \n",
    "    def inner_funciton():\n",
    "        print(\"Inner Function\")\n",
    "           \n",
    "    \n",
    "    return inner_funciton\n",
    "\n",
    "outer_function()"
   ]
  },
  {
   "cell_type": "code",
   "execution_count": 18,
   "id": "f9c5b7e1",
   "metadata": {},
   "outputs": [
    {
     "data": {
      "text/plain": [
       "<function __main__.dummy()>"
      ]
     },
     "execution_count": 18,
     "metadata": {},
     "output_type": "execute_result"
    }
   ],
   "source": [
    "def dummy():\n",
    "    return \"Hi\"\n",
    "dummy"
   ]
  },
  {
   "cell_type": "code",
   "execution_count": 11,
   "id": "86303876",
   "metadata": {},
   "outputs": [],
   "source": [
    "def m():\n",
    "    def n():\n",
    "        pass\n",
    "    return n()\n",
    "\n",
    "m()"
   ]
  },
  {
   "cell_type": "code",
   "execution_count": 17,
   "id": "45edef8d",
   "metadata": {},
   "outputs": [
    {
     "name": "stdout",
     "output_type": "stream",
     "text": [
      "m\n",
      "n\n"
     ]
    }
   ],
   "source": [
    "def m():\n",
    "    print(\"m\")\n",
    "    def n():\n",
    "        print(\"n\")\n",
    "    return n() # n\n",
    "\n",
    "m()"
   ]
  },
  {
   "cell_type": "code",
   "execution_count": 19,
   "id": "8287cc8c",
   "metadata": {},
   "outputs": [
    {
     "name": "stdout",
     "output_type": "stream",
     "text": [
      "m\n"
     ]
    },
    {
     "data": {
      "text/plain": [
       "<function __main__.m.<locals>.n()>"
      ]
     },
     "execution_count": 19,
     "metadata": {},
     "output_type": "execute_result"
    }
   ],
   "source": [
    "def m():\n",
    "    print(\"m\")\n",
    "    def n():\n",
    "        print(\"n\")\n",
    "    return n\n",
    "\n",
    "m()"
   ]
  },
  {
   "cell_type": "code",
   "execution_count": 22,
   "id": "7ed0f545",
   "metadata": {},
   "outputs": [
    {
     "name": "stdout",
     "output_type": "stream",
     "text": [
      "m\n"
     ]
    },
    {
     "data": {
      "text/plain": [
       "<function __main__.m.<locals>.n()>"
      ]
     },
     "execution_count": 22,
     "metadata": {},
     "output_type": "execute_result"
    }
   ],
   "source": [
    "def m():\n",
    "    print(\"m\")\n",
    "    def n():\n",
    "        print(\"n\")\n",
    "    return n\n",
    "\n",
    "N = m()\n",
    "N"
   ]
  },
  {
   "cell_type": "code",
   "execution_count": 23,
   "id": "ee03f624",
   "metadata": {},
   "outputs": [
    {
     "name": "stdout",
     "output_type": "stream",
     "text": [
      "n\n"
     ]
    }
   ],
   "source": [
    "N()"
   ]
  },
  {
   "cell_type": "code",
   "execution_count": 24,
   "id": "02c2f628",
   "metadata": {},
   "outputs": [
    {
     "data": {
      "text/plain": [
       "<function __main__.<lambda>(n, m)>"
      ]
     },
     "execution_count": 24,
     "metadata": {},
     "output_type": "execute_result"
    }
   ],
   "source": [
    "x = lambda n,m : n + m\n",
    "x"
   ]
  },
  {
   "cell_type": "code",
   "execution_count": 25,
   "id": "38a42beb",
   "metadata": {},
   "outputs": [
    {
     "data": {
      "text/plain": [
       "11"
      ]
     },
     "execution_count": 25,
     "metadata": {},
     "output_type": "execute_result"
    }
   ],
   "source": [
    "x(5,6)"
   ]
  },
  {
   "cell_type": "code",
   "execution_count": 26,
   "id": "c0375206",
   "metadata": {},
   "outputs": [
    {
     "name": "stdout",
     "output_type": "stream",
     "text": [
      "Outer Function\n"
     ]
    },
    {
     "data": {
      "text/plain": [
       "<function __main__.outer_function.<locals>.inner_funciton()>"
      ]
     },
     "execution_count": 26,
     "metadata": {},
     "output_type": "execute_result"
    }
   ],
   "source": [
    "def outer_function():\n",
    "    print(\"Outer Function\")\n",
    "    \n",
    "    \n",
    "    def inner_funciton():\n",
    "        print(\"Inner Function\")\n",
    "           \n",
    "    \n",
    "    return inner_funciton\n",
    "\n",
    "outer_function()"
   ]
  },
  {
   "cell_type": "code",
   "execution_count": 27,
   "id": "0a501498",
   "metadata": {},
   "outputs": [
    {
     "name": "stdout",
     "output_type": "stream",
     "text": [
      "Outer Function\n"
     ]
    },
    {
     "data": {
      "text/plain": [
       "<function __main__.outer_function.<locals>.inner_funciton()>"
      ]
     },
     "execution_count": 27,
     "metadata": {},
     "output_type": "execute_result"
    }
   ],
   "source": [
    "def outer_function():\n",
    "    print(\"Outer Function\")\n",
    "    \n",
    "    \n",
    "    def inner_funciton():\n",
    "        print(\"Inner Function\")\n",
    "           \n",
    "    \n",
    "    return inner_funciton\n",
    "\n",
    "fun_obj = outer_function()\n",
    "fun_obj"
   ]
  },
  {
   "cell_type": "code",
   "execution_count": 28,
   "id": "c8dd7afd",
   "metadata": {},
   "outputs": [
    {
     "name": "stdout",
     "output_type": "stream",
     "text": [
      "Inner Function\n"
     ]
    }
   ],
   "source": [
    "fun_obj()"
   ]
  },
  {
   "cell_type": "code",
   "execution_count": 29,
   "id": "049691cf",
   "metadata": {},
   "outputs": [
    {
     "name": "stdout",
     "output_type": "stream",
     "text": [
      "Outer Function\n"
     ]
    },
    {
     "data": {
      "text/plain": [
       "<function __main__.outer_function.<locals>.inner_funciton(default_Val='Python')>"
      ]
     },
     "execution_count": 29,
     "metadata": {},
     "output_type": "execute_result"
    }
   ],
   "source": [
    "def outer_function():\n",
    "    print(\"Outer Function\")\n",
    "    \n",
    "    \n",
    "    def inner_funciton(default_Val = \"Python\"):\n",
    "        print(f\"The default value is --> {default_Val}\")\n",
    "        print(\"Inner Function\")\n",
    "           \n",
    "    \n",
    "    return inner_funciton\n",
    "\n",
    "fun_obj = outer_function()\n",
    "fun_obj"
   ]
  },
  {
   "cell_type": "code",
   "execution_count": 30,
   "id": "760903c6",
   "metadata": {},
   "outputs": [
    {
     "name": "stdout",
     "output_type": "stream",
     "text": [
      "The default value is --> Python\n",
      "Inner Function\n"
     ]
    }
   ],
   "source": [
    "fun_obj()"
   ]
  },
  {
   "cell_type": "code",
   "execution_count": 32,
   "id": "d5bb5108",
   "metadata": {},
   "outputs": [
    {
     "name": "stdout",
     "output_type": "stream",
     "text": [
      "The default value is --> R\n",
      "Inner Function\n"
     ]
    }
   ],
   "source": [
    "def inner_funciton(default_Val = \"Python\"):\n",
    "        print(f\"The default value is --> {default_Val}\")\n",
    "        print(\"Inner Function\")\n",
    "inner_funciton('R')"
   ]
  },
  {
   "cell_type": "code",
   "execution_count": 33,
   "id": "f044ff78",
   "metadata": {},
   "outputs": [
    {
     "name": "stdout",
     "output_type": "stream",
     "text": [
      "Outer Function\n",
      "Outer Function executed\n"
     ]
    },
    {
     "data": {
      "text/plain": [
       "<function __main__.outer_function.<locals>.inner_funciton(default_Val='Python')>"
      ]
     },
     "execution_count": 33,
     "metadata": {},
     "output_type": "execute_result"
    }
   ],
   "source": [
    "def outer_function():\n",
    "    print(\"Outer Function\")\n",
    "    \n",
    "    \n",
    "    def inner_funciton(default_Val = \"Python\"):\n",
    "        print(f\"The default value is --> {default_Val}\")\n",
    "        print(\"Inner Function\")\n",
    "           \n",
    "    print(\"Outer Function executed\")\n",
    "    return inner_funciton\n",
    "\n",
    "fun_obj = outer_function()\n",
    "fun_obj"
   ]
  },
  {
   "cell_type": "code",
   "execution_count": 34,
   "id": "d8931fa3",
   "metadata": {},
   "outputs": [
    {
     "name": "stdout",
     "output_type": "stream",
     "text": [
      "The default value is --> C++\n",
      "Inner Function\n"
     ]
    }
   ],
   "source": [
    "fun_obj(\"C++\")"
   ]
  },
  {
   "cell_type": "code",
   "execution_count": null,
   "id": "cdf23ef0",
   "metadata": {},
   "outputs": [],
   "source": []
  }
 ],
 "metadata": {
  "kernelspec": {
   "display_name": "Python 3 (ipykernel)",
   "language": "python",
   "name": "python3"
  },
  "language_info": {
   "codemirror_mode": {
    "name": "ipython",
    "version": 3
   },
   "file_extension": ".py",
   "mimetype": "text/x-python",
   "name": "python",
   "nbconvert_exporter": "python",
   "pygments_lexer": "ipython3",
   "version": "3.10.5"
  }
 },
 "nbformat": 4,
 "nbformat_minor": 5
}
