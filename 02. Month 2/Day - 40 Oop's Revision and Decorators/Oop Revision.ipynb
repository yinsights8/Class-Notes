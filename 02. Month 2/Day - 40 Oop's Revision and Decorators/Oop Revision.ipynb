{
 "cells": [
  {
   "cell_type": "markdown",
   "id": "045cab57",
   "metadata": {},
   "source": [
    "# Intro\n",
    "- class --> Blueprint of an object\n",
    "- Object ---> Real world entity/Instance of a class\n",
    "- self :- \n",
    "    - It represents the instance of a class\n",
    "    - By using self keyword we can access variables and methods of class\n",
    "    - Used to create an instance variable\n",
    "    - self holds reference to the instance itself\n",
    "    - helps to distinguish between local and instance variables\n",
    "    - self is just a keyword, we can use any name\n",
    "- init :-\n",
    "    - Automatically get called/executed when we are creating a new object of a class"
   ]
  },
  {
   "cell_type": "code",
   "execution_count": 1,
   "id": "41ec9408",
   "metadata": {},
   "outputs": [
    {
     "name": "stdout",
     "output_type": "stream",
     "text": [
      "Class __init__ Method\n"
     ]
    }
   ],
   "source": [
    "class ClassName:                  # Class Name\n",
    "    class_var = \"Class Variable\"  # Class Variable\n",
    "    def __init__(self,a,b):\n",
    "        print(\"Class __init__ Method\")\n",
    "        self.a = a\n",
    "        self.b = b                # Instance variable\n",
    "        self.company_name = \"TCS\"\n",
    "        area = \"Pune\"             # Local\n",
    "        \n",
    "    def method1(self):            # Class Method \n",
    "        print(\"This is Method 1\")\n",
    "        \n",
    "Object = ClassName(1,5) # Creating an object of a class"
   ]
  },
  {
   "cell_type": "code",
   "execution_count": 2,
   "id": "5e8533c3",
   "metadata": {},
   "outputs": [
    {
     "data": {
      "text/plain": [
       "'Class Variable'"
      ]
     },
     "execution_count": 2,
     "metadata": {},
     "output_type": "execute_result"
    }
   ],
   "source": [
    "Object.class_var"
   ]
  },
  {
   "cell_type": "code",
   "execution_count": 3,
   "id": "ab328d09",
   "metadata": {},
   "outputs": [
    {
     "name": "stdout",
     "output_type": "stream",
     "text": [
      "1\n",
      "5\n",
      "TCS\n"
     ]
    }
   ],
   "source": [
    "print(Object.a)\n",
    "print(Object.b)\n",
    "print(Object.company_name)"
   ]
  },
  {
   "cell_type": "code",
   "execution_count": 4,
   "id": "a465e707",
   "metadata": {},
   "outputs": [
    {
     "name": "stdout",
     "output_type": "stream",
     "text": [
      "This is Method 1\n"
     ]
    }
   ],
   "source": [
    "Object.method1()"
   ]
  },
  {
   "cell_type": "markdown",
   "id": "2ff4deee",
   "metadata": {},
   "source": [
    "# Inheritance\n",
    "- It allowes a class to inherit the properties (variables and methods) of other class(parent/base class)\n",
    "- Resuable and Readable\n",
    "- Types of Inheritance :- \n",
    "    - 1. Single Inh - (Parent > Child)\n",
    "    - 2. Multiple Inh - (Father & Mother > Child)\n",
    "    - 3. Multilevel - (GrandParent > Parent > Child)\n",
    "    - 4. Hirarchical Inh - (Parent > Child1,Child2,..ChildN)\n",
    "    - 5. Hybrid Inh -(More than one Inh/Combinational Inh)\n",
    "    "
   ]
  },
  {
   "cell_type": "markdown",
   "id": "a6439f43",
   "metadata": {},
   "source": [
    "# Encapsulation :- \n",
    "- Used to restrict the aceess of the variable and methods from outside the class\n",
    "- Help us to prevent an accidental change of data from outside the class\n",
    "- Public Variable and Public Method :-\n",
    "    - Can be accessed / Modeified from outside the class\n",
    "- Private Variable & Method :- \n",
    "    - Can no be accessed / Modeified from outside the class\n",
    "    - __VarName\n",
    "    - __MethodName\n",
    "- Name Mangling :- \n",
    "    - Used to access / modify private variable and method from outside the class\n",
    "    - ObjectName._ClassName__VarName/__MethodName"
   ]
  },
  {
   "cell_type": "markdown",
   "id": "40fc3477",
   "metadata": {},
   "source": [
    "# Polymorphism :-\n",
    "- Having Many Forms\n",
    "- Same method names with different functionalities in the different classes\n",
    "- len(),min(),max(),sorted(),sum().......\n",
    "- Overloading Method :- \n",
    "    - Same Method in Parent and Child class\n",
    "    - Child class Method Overrried Parent class Method"
   ]
  },
  {
   "cell_type": "markdown",
   "id": "58f13ab3",
   "metadata": {},
   "source": [
    "# Abstraction\n",
    "- Blueprint of your project/Other class\n",
    "    - We can not creare an object of the abstract class\n",
    "    - Abstract class is only used for declaration of the methods\n",
    "    - In the abstract class we are not supposed to implement those methods\n",
    "    - @abstractmethod decorator is used to define an abstract method\n",
    "    - The abstract class is a child class of ABC(Import abc)\n",
    "    - Help us to hide internal frunctionality of the function"
   ]
  },
  {
   "cell_type": "code",
   "execution_count": null,
   "id": "841056de",
   "metadata": {},
   "outputs": [],
   "source": []
  }
 ],
 "metadata": {
  "kernelspec": {
   "display_name": "Python 3 (ipykernel)",
   "language": "python",
   "name": "python3"
  },
  "language_info": {
   "codemirror_mode": {
    "name": "ipython",
    "version": 3
   },
   "file_extension": ".py",
   "mimetype": "text/x-python",
   "name": "python",
   "nbconvert_exporter": "python",
   "pygments_lexer": "ipython3",
   "version": "3.9.12"
  }
 },
 "nbformat": 4,
 "nbformat_minor": 5
}
