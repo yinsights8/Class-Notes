{
 "cells": [
  {
   "cell_type": "markdown",
   "id": "c4c151fc",
   "metadata": {},
   "source": [
    "# Polymorphism\n",
    "- Poly --> Many\n",
    "- Morphism --> Forms\n",
    "- Polymorphism ---> Many Forms"
   ]
  },
  {
   "cell_type": "code",
   "execution_count": 1,
   "id": "10fc72b2",
   "metadata": {},
   "outputs": [
    {
     "name": "stdout",
     "output_type": "stream",
     "text": [
      "Dum2\n"
     ]
    }
   ],
   "source": [
    "def dumb():\n",
    "    print(\"Dum1\")\n",
    "def dumb():\n",
    "    print(\"Dum2\")\n",
    "dumb()"
   ]
  },
  {
   "cell_type": "code",
   "execution_count": 2,
   "id": "51af3f50",
   "metadata": {},
   "outputs": [
    {
     "name": "stdout",
     "output_type": "stream",
     "text": [
      "3\n",
      "5\n",
      "6\n",
      "4\n"
     ]
    }
   ],
   "source": [
    "li = [1,2,3]\n",
    "tu = (1,2,3,4,5)\n",
    "str1 = \"Python\"\n",
    "dict1 = {1:1,2:2,3:3,4:4}\n",
    "print(len(li))\n",
    "print(len(tu))\n",
    "print(len(str1))\n",
    "print(len(dict1))"
   ]
  },
  {
   "cell_type": "code",
   "execution_count": 3,
   "id": "7c2acbc2",
   "metadata": {},
   "outputs": [
    {
     "name": "stdout",
     "output_type": "stream",
     "text": [
      "1\n",
      "1\n",
      "P\n",
      "1\n"
     ]
    }
   ],
   "source": [
    "print(min(li))\n",
    "print(min(tu))\n",
    "print(min(str1))\n",
    "print(min(dict1))"
   ]
  },
  {
   "cell_type": "code",
   "execution_count": 4,
   "id": "24cc7ae0",
   "metadata": {},
   "outputs": [],
   "source": [
    "class Circle():\n",
    "    def area(self):\n",
    "        print(\"Area of a Circle\")\n",
    "        \n",
    "class Square():\n",
    "    def area(self):\n",
    "        print(\"Area of a Square\")\n",
    "        \n",
    "class Rectangle():\n",
    "    def area(self):\n",
    "        print(\"Area of a Rectangle\")"
   ]
  },
  {
   "cell_type": "code",
   "execution_count": 5,
   "id": "8e153826",
   "metadata": {},
   "outputs": [],
   "source": [
    "c1 = Circle()\n",
    "s1 = Square()\n",
    "r1 = Rectangle()"
   ]
  },
  {
   "cell_type": "code",
   "execution_count": 6,
   "id": "67700bae",
   "metadata": {},
   "outputs": [
    {
     "name": "stdout",
     "output_type": "stream",
     "text": [
      "Area of a Circle\n",
      "Area of a Square\n",
      "Area of a Rectangle\n"
     ]
    }
   ],
   "source": [
    "c1.area()\n",
    "s1.area()\n",
    "r1.area()"
   ]
  },
  {
   "cell_type": "code",
   "execution_count": 7,
   "id": "899fc1d9",
   "metadata": {},
   "outputs": [
    {
     "name": "stdout",
     "output_type": "stream",
     "text": [
      "Area of a Circle\n",
      "Area of a Square\n",
      "Area of a Rectangle\n"
     ]
    }
   ],
   "source": [
    "for obj in [c1,s1,r1]:\n",
    "    obj.area()"
   ]
  },
  {
   "cell_type": "code",
   "execution_count": 12,
   "id": "7e110cc4",
   "metadata": {},
   "outputs": [
    {
     "name": "stdout",
     "output_type": "stream",
     "text": [
      "Area of a Circle with radius 5 = 78.53981633974483\n"
     ]
    }
   ],
   "source": [
    "import math\n",
    "class Circle():\n",
    "    def __init__(self,radius):\n",
    "        self.radius = radius\n",
    "    \n",
    "    def area(self):\n",
    "        c_area = math.pi * self.radius ** 2\n",
    "        print(f\"Area of a Circle with radius {self.radius} = {c_area}\")\n",
    "        \n",
    "        \n",
    "class Square():\n",
    "    def __init__(self,side):\n",
    "        self.side = side   \n",
    "    \n",
    "    def area(self):\n",
    "        print(f\"Area of a Square with side {self.side} = {self.side ** 2}\")\n",
    "        \n",
    "\n",
    "        \n",
    "class Rectangle():\n",
    "    def __init__(self,l,b):\n",
    "        self.len = l\n",
    "        self.bre = b\n",
    "    \n",
    "    def area(self):\n",
    "        print(f\"Area of a Rectangle with length {self.len} and bredth {self.bre} = {self.len * self.bre}\")\n",
    "        \n",
    "c1 = Circle(5)\n",
    "c1.area()"
   ]
  },
  {
   "cell_type": "code",
   "execution_count": 11,
   "id": "82484783",
   "metadata": {},
   "outputs": [
    {
     "name": "stdout",
     "output_type": "stream",
     "text": [
      "Area of a Square with side 5 = 25\n"
     ]
    }
   ],
   "source": [
    "s1 = Square(5)\n",
    "s1.area()"
   ]
  },
  {
   "cell_type": "code",
   "execution_count": 13,
   "id": "02f0160f",
   "metadata": {},
   "outputs": [
    {
     "name": "stdout",
     "output_type": "stream",
     "text": [
      "Area of a Rectangle with length 5 and bredth 6 = 30\n"
     ]
    }
   ],
   "source": [
    "r1 = Rectangle(5,6)\n",
    "r1.area()"
   ]
  },
  {
   "cell_type": "code",
   "execution_count": 14,
   "id": "b46a236d",
   "metadata": {},
   "outputs": [],
   "source": [
    "def exe_func():\n",
    "    c1 = Circle(6)\n",
    "    s1 = Square(6)\n",
    "    r1 = Rectangle(5,6)\n",
    "    for obj in [c1,s1,r1]:\n",
    "        obj.area()"
   ]
  },
  {
   "cell_type": "code",
   "execution_count": 15,
   "id": "6bcb0080",
   "metadata": {},
   "outputs": [
    {
     "name": "stdout",
     "output_type": "stream",
     "text": [
      "Area of a Circle with radius 6 = 113.09733552923255\n",
      "Area of a Square with side 6 = 36\n",
      "Area of a Rectangle with length 5 and bredth 6 = 30\n"
     ]
    }
   ],
   "source": [
    "exe_func()"
   ]
  },
  {
   "cell_type": "code",
   "execution_count": null,
   "id": "3e71d4b3",
   "metadata": {},
   "outputs": [],
   "source": []
  }
 ],
 "metadata": {
  "kernelspec": {
   "display_name": "Python 3 (ipykernel)",
   "language": "python",
   "name": "python3"
  },
  "language_info": {
   "codemirror_mode": {
    "name": "ipython",
    "version": 3
   },
   "file_extension": ".py",
   "mimetype": "text/x-python",
   "name": "python",
   "nbconvert_exporter": "python",
   "pygments_lexer": "ipython3",
   "version": "3.10.5"
  }
 },
 "nbformat": 4,
 "nbformat_minor": 5
}
