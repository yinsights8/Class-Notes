{
 "cells": [
  {
   "cell_type": "markdown",
   "id": "460962ba",
   "metadata": {},
   "source": [
    "# 1. Single Inheritance "
   ]
  },
  {
   "cell_type": "code",
   "execution_count": 14,
   "id": "24625129",
   "metadata": {},
   "outputs": [
    {
     "name": "stdout",
     "output_type": "stream",
     "text": [
      "Child class __init__ Method\n"
     ]
    }
   ],
   "source": [
    "class P():\n",
    "    def __init__(self):\n",
    "        print(\"Parent class __init__ Method\")\n",
    "\n",
    "        \n",
    "class C(P):\n",
    "    def __init__(self):\n",
    "        print(\"Child class __init__ Method\")\n",
    "        \n",
    "        \n",
    "c1 = C()"
   ]
  },
  {
   "cell_type": "code",
   "execution_count": 15,
   "id": "5d4ca7c6",
   "metadata": {},
   "outputs": [
    {
     "name": "stdout",
     "output_type": "stream",
     "text": [
      "Child class __init__ Method\n",
      "Parent class __init__ Method\n"
     ]
    }
   ],
   "source": [
    "class P():\n",
    "    def __init__(self):\n",
    "        print(\"Parent class __init__ Method\")\n",
    "        \n",
    "class C(P):\n",
    "    def __init__(self):\n",
    "        print(\"Child class __init__ Method\")\n",
    "        P.__init__(self)\n",
    "        \n",
    "        \n",
    "c1 = C()"
   ]
  },
  {
   "cell_type": "code",
   "execution_count": 16,
   "id": "6458fa1c",
   "metadata": {},
   "outputs": [
    {
     "name": "stdout",
     "output_type": "stream",
     "text": [
      "Child class __init__ Method\n",
      "Parent class __init__ Method\n"
     ]
    }
   ],
   "source": [
    "class P():\n",
    "    def __init__(self):\n",
    "        print(\"Parent class __init__ Method\")\n",
    "        \n",
    "class C(P):\n",
    "    def __init__(self):\n",
    "        print(\"Child class __init__ Method\")\n",
    "        super().__init__()\n",
    "        \n",
    "        \n",
    "c1 = C()"
   ]
  },
  {
   "cell_type": "code",
   "execution_count": 17,
   "id": "5e7a2ead",
   "metadata": {},
   "outputs": [
    {
     "name": "stdout",
     "output_type": "stream",
     "text": [
      "Child class __init__ Method\n",
      "Parent class __init__ Method\n"
     ]
    }
   ],
   "source": [
    "class P():\n",
    "    def __init__(self,a,b):\n",
    "        print(\"Parent class __init__ Method\")\n",
    "        self.a = a\n",
    "        self.b = b\n",
    "        \n",
    "class C(P):\n",
    "    def __init__(self,a,b,c,d):\n",
    "        print(\"Child class __init__ Method\")\n",
    "        self.c = c\n",
    "        self.d = d\n",
    "        super().__init__(a,b)\n",
    "        \n",
    "        \n",
    "c1 = C(1,2,3,4)"
   ]
  },
  {
   "cell_type": "code",
   "execution_count": 18,
   "id": "bf8696dd",
   "metadata": {},
   "outputs": [
    {
     "data": {
      "text/plain": [
       "1"
      ]
     },
     "execution_count": 18,
     "metadata": {},
     "output_type": "execute_result"
    }
   ],
   "source": [
    "c1.a"
   ]
  },
  {
   "cell_type": "code",
   "execution_count": 19,
   "id": "15021985",
   "metadata": {},
   "outputs": [
    {
     "data": {
      "text/plain": [
       "2"
      ]
     },
     "execution_count": 19,
     "metadata": {},
     "output_type": "execute_result"
    }
   ],
   "source": [
    "c1.b"
   ]
  },
  {
   "cell_type": "code",
   "execution_count": 20,
   "id": "7e1ebef7",
   "metadata": {},
   "outputs": [
    {
     "data": {
      "text/plain": [
       "3"
      ]
     },
     "execution_count": 20,
     "metadata": {},
     "output_type": "execute_result"
    }
   ],
   "source": [
    "c1.c"
   ]
  },
  {
   "cell_type": "code",
   "execution_count": 21,
   "id": "5b53d1d6",
   "metadata": {},
   "outputs": [
    {
     "data": {
      "text/plain": [
       "4"
      ]
     },
     "execution_count": 21,
     "metadata": {},
     "output_type": "execute_result"
    }
   ],
   "source": [
    "c1.d"
   ]
  },
  {
   "cell_type": "code",
   "execution_count": 22,
   "id": "5092d1ad",
   "metadata": {},
   "outputs": [
    {
     "name": "stdout",
     "output_type": "stream",
     "text": [
      "Child class __init__ Method\n",
      "Parent class __init__ Method\n",
      "1\n",
      "4\n"
     ]
    }
   ],
   "source": [
    "class P():\n",
    "    def __init__(self,a,b):\n",
    "        print(\"Parent class __init__ Method\")\n",
    "        self.a = a\n",
    "        self.b = b\n",
    "        \n",
    "class C(P):\n",
    "    def __init__(self,a,b,c,d):\n",
    "        print(\"Child class __init__ Method\")\n",
    "        self.c = c\n",
    "        self.d = d\n",
    "        P.__init__(self,a,b)\n",
    "        \n",
    "        \n",
    "c1 = C(1,2,3,4)\n",
    "print(c1.a)\n",
    "print(c1.d)"
   ]
  },
  {
   "cell_type": "code",
   "execution_count": 23,
   "id": "f78937ee",
   "metadata": {},
   "outputs": [
    {
     "name": "stdout",
     "output_type": "stream",
     "text": [
      "method2\n"
     ]
    }
   ],
   "source": [
    "def method():\n",
    "    print(\"method1\")\n",
    "    \n",
    "def method():\n",
    "    print(\"method2\")\n",
    "    \n",
    "method()"
   ]
  },
  {
   "cell_type": "markdown",
   "id": "aba5f154",
   "metadata": {},
   "source": [
    "# 2. Multilevel Inheritance"
   ]
  },
  {
   "cell_type": "code",
   "execution_count": 24,
   "id": "ee2ebc13",
   "metadata": {},
   "outputs": [],
   "source": [
    "class GrandFather():\n",
    "    pass\n",
    "\n",
    "class Father():\n",
    "    pass\n",
    "\n",
    "class Child():\n",
    "    pass"
   ]
  },
  {
   "cell_type": "code",
   "execution_count": 26,
   "id": "6eb93e90",
   "metadata": {},
   "outputs": [],
   "source": [
    "class GrandFather():\n",
    "    pass\n",
    "\n",
    "class Father(GrandFather): # Single inheritance\n",
    "    pass\n",
    "\n",
    "class Child():\n",
    "    pass"
   ]
  },
  {
   "cell_type": "code",
   "execution_count": null,
   "id": "ee538dd1",
   "metadata": {},
   "outputs": [],
   "source": [
    "class GrandFather():\n",
    "    pass\n",
    "\n",
    "class Father(GrandFather): \n",
    "    pass\n",
    "\n",
    "class Child(Father): # Multilevel Inheritance\n",
    "    pass"
   ]
  },
  {
   "cell_type": "code",
   "execution_count": 27,
   "id": "00f74520",
   "metadata": {},
   "outputs": [],
   "source": [
    "class BaseClass1():\n",
    "    pass\n",
    "\n",
    "class BaseClass2(BaseClass1):\n",
    "    pass\n",
    "\n",
    "class Baseclass3(BaseClass2):\n",
    "    pass\n",
    "\n",
    "class BaseClass4(Baseclass3):\n",
    "    pass\n",
    "\n",
    "class BaseClass5(BaseClass4):\n",
    "    pass\n",
    "\n",
    "class DerivedClass(BaseClass5):\n",
    "    pass\n",
    "\n",
    "\n",
    "obj1 = DerivedClass()"
   ]
  },
  {
   "cell_type": "code",
   "execution_count": 28,
   "id": "913d5b37",
   "metadata": {},
   "outputs": [],
   "source": [
    "objn = BaseClass4()"
   ]
  },
  {
   "cell_type": "code",
   "execution_count": 29,
   "id": "dd22c4ea",
   "metadata": {},
   "outputs": [],
   "source": [
    "class BaseClass1():\n",
    "    def addition(self):\n",
    "        print(\"Addition Method\")\n",
    "\n",
    "class BaseClass2(BaseClass1):\n",
    "    def multiplication(self):\n",
    "        print(\"Multiplication Method\")\n",
    "\n",
    "class DerivedClass(BaseClass2):\n",
    "    def calc(self):\n",
    "        print(\"Calculation Method\")"
   ]
  },
  {
   "cell_type": "code",
   "execution_count": 33,
   "id": "b51bb079",
   "metadata": {},
   "outputs": [
    {
     "name": "stdout",
     "output_type": "stream",
     "text": [
      "Addition Method\n",
      "Multiplication Method\n",
      "Calculation Method\n"
     ]
    }
   ],
   "source": [
    "d1 = DerivedClass()\n",
    "d1.addition()\n",
    "d1.multiplication()\n",
    "d1.calc()"
   ]
  },
  {
   "cell_type": "code",
   "execution_count": 34,
   "id": "d1e774f1",
   "metadata": {},
   "outputs": [],
   "source": [
    "class BaseClass1():\n",
    "    def addition(self):\n",
    "        print(f\"Addition of {self.a} and {self.b} = {self.a + self.b}\")\n",
    "\n",
    "class BaseClass2(BaseClass1):\n",
    "    def multiplication(self,a,b):\n",
    "        self.a = a\n",
    "        self.b = b\n",
    "        print(f\"Multiplication of {self.a} and {self.b} = {self.a * self.b}\")\n",
    "\n",
    "class DerivedClass(BaseClass2):\n",
    "    def calc(self):\n",
    "        print(\"Calculation Method\")\n",
    "        \n",
    "    def division(self):\n",
    "        print(f\"Division of {self.a} and {self.b} = {self.a / self.b}\")\n",
    "        \n",
    "        \n",
    "calc1 = DerivedClass()"
   ]
  },
  {
   "cell_type": "code",
   "execution_count": 36,
   "id": "47f70e4b",
   "metadata": {},
   "outputs": [
    {
     "name": "stdout",
     "output_type": "stream",
     "text": [
      "Calculation Method\n"
     ]
    },
    {
     "ename": "AttributeError",
     "evalue": "'DerivedClass' object has no attribute 'a'",
     "output_type": "error",
     "traceback": [
      "\u001b[1;31m---------------------------------------------------------------------------\u001b[0m",
      "\u001b[1;31mAttributeError\u001b[0m                            Traceback (most recent call last)",
      "Input \u001b[1;32mIn [36]\u001b[0m, in \u001b[0;36m<cell line: 2>\u001b[1;34m()\u001b[0m\n\u001b[0;32m      1\u001b[0m calc1\u001b[38;5;241m.\u001b[39mcalc()\n\u001b[1;32m----> 2\u001b[0m \u001b[43mcalc1\u001b[49m\u001b[38;5;241;43m.\u001b[39;49m\u001b[43mdivision\u001b[49m\u001b[43m(\u001b[49m\u001b[43m)\u001b[49m\n",
      "Input \u001b[1;32mIn [34]\u001b[0m, in \u001b[0;36mDerivedClass.division\u001b[1;34m(self)\u001b[0m\n\u001b[0;32m     15\u001b[0m \u001b[38;5;28;01mdef\u001b[39;00m \u001b[38;5;21mdivision\u001b[39m(\u001b[38;5;28mself\u001b[39m):\n\u001b[1;32m---> 16\u001b[0m     \u001b[38;5;28mprint\u001b[39m(\u001b[38;5;124mf\u001b[39m\u001b[38;5;124m\"\u001b[39m\u001b[38;5;124mDivision of \u001b[39m\u001b[38;5;132;01m{\u001b[39;00m\u001b[38;5;28mself\u001b[39m\u001b[38;5;241m.\u001b[39ma\u001b[38;5;132;01m}\u001b[39;00m\u001b[38;5;124m and \u001b[39m\u001b[38;5;132;01m{\u001b[39;00m\u001b[38;5;28mself\u001b[39m\u001b[38;5;241m.\u001b[39mb\u001b[38;5;132;01m}\u001b[39;00m\u001b[38;5;124m = \u001b[39m\u001b[38;5;132;01m{\u001b[39;00m\u001b[38;5;28mself\u001b[39m\u001b[38;5;241m.\u001b[39ma \u001b[38;5;241m/\u001b[39m \u001b[38;5;28mself\u001b[39m\u001b[38;5;241m.\u001b[39mb\u001b[38;5;132;01m}\u001b[39;00m\u001b[38;5;124m\"\u001b[39m)\n",
      "\u001b[1;31mAttributeError\u001b[0m: 'DerivedClass' object has no attribute 'a'"
     ]
    }
   ],
   "source": [
    "calc1.calc()\n",
    "calc1.division()"
   ]
  },
  {
   "cell_type": "code",
   "execution_count": 37,
   "id": "d23b325b",
   "metadata": {},
   "outputs": [
    {
     "name": "stdout",
     "output_type": "stream",
     "text": [
      "Multiplication of 10 and 5 = 50\n"
     ]
    }
   ],
   "source": [
    "calc1.multiplication(10,5)"
   ]
  },
  {
   "cell_type": "code",
   "execution_count": 38,
   "id": "5e09a973",
   "metadata": {},
   "outputs": [
    {
     "name": "stdout",
     "output_type": "stream",
     "text": [
      "Division of 10 and 5 = 2.0\n"
     ]
    }
   ],
   "source": [
    "calc1.division()"
   ]
  },
  {
   "cell_type": "code",
   "execution_count": 39,
   "id": "0ae77dbc",
   "metadata": {},
   "outputs": [
    {
     "name": "stdout",
     "output_type": "stream",
     "text": [
      "Addition of 10 and 5 = 15\n"
     ]
    }
   ],
   "source": [
    "calc1.addition()"
   ]
  },
  {
   "cell_type": "code",
   "execution_count": 43,
   "id": "ed482615",
   "metadata": {},
   "outputs": [
    {
     "name": "stdout",
     "output_type": "stream",
     "text": [
      "Derived Class __init__ Method\n",
      "Calculation Methods\n",
      "Addition of 20 and 10 = 30\n",
      "Multiplication of 20 and 10 = 200\n",
      "Division of 20 and 10 = 2.0\n"
     ]
    }
   ],
   "source": [
    "class BaseClass1():\n",
    "    def addition(self):\n",
    "        print(f\"Addition of {self.a} and {self.b} = {self.a + self.b}\")\n",
    "\n",
    "class BaseClass2(BaseClass1):\n",
    "    def multiplication(self):\n",
    "        print(f\"Multiplication of {self.a} and {self.b} = {self.a * self.b}\")\n",
    "\n",
    "class DerivedClass(BaseClass2):\n",
    "    def __init__(self,a,b):\n",
    "        print(f\"Derived Class __init__ Method\")\n",
    "        self.a = a\n",
    "        self.b = b\n",
    "    \n",
    "    def calc(self):\n",
    "        print(\"Calculation Methods\")\n",
    "        \n",
    "    def division(self):\n",
    "        print(f\"Division of {self.a} and {self.b} = {self.a / self.b}\")\n",
    "        \n",
    "        \n",
    "calc1 = DerivedClass(20,10)\n",
    "calc1.calc()\n",
    "calc1.addition()\n",
    "calc1.multiplication()\n",
    "calc1.division()"
   ]
  },
  {
   "cell_type": "code",
   "execution_count": 1,
   "id": "073f66e8",
   "metadata": {},
   "outputs": [
    {
     "name": "stdout",
     "output_type": "stream",
     "text": [
      "BaseClass1 __init__ Method\n",
      "BaseClass2 __init__ Method\n",
      "Derived Class __init__ Method\n",
      "Calculation Methods\n",
      "Addition of 20 and 10 = 30\n",
      "Multiplication of 20 and 10 = 200\n",
      "Division of 20 and 10 = 2.0\n"
     ]
    }
   ],
   "source": [
    "class BaseClass1():\n",
    "    def __init__(self):\n",
    "        print(\"BaseClass1 __init__ Method\")\n",
    "    \n",
    "    \n",
    "    def addition(self):\n",
    "        self.add = self.a + self.b\n",
    "        print(f\"Addition of {self.a} and {self.b} = {self.add}\")\n",
    "\n",
    "class BaseClass2(BaseClass1):\n",
    "    def __init__(self):\n",
    "        super().__init__()\n",
    "        print(f\"BaseClass2 __init__ Method\")\n",
    "    \n",
    "    \n",
    "    def multiplication(self):\n",
    "        print(f\"Multiplication of {self.a} and {self.b} = {self.a * self.b}\")\n",
    "\n",
    "class DerivedClass(BaseClass2):\n",
    "    def __init__(self,a,b):\n",
    "        super().__init__()\n",
    "        print(f\"Derived Class __init__ Method\")\n",
    "        self.a = a\n",
    "        self.b = b\n",
    "    \n",
    "    def calc(self):\n",
    "        print(\"Calculation Methods\")\n",
    "        \n",
    "    def division(self):\n",
    "        print(f\"Division of {self.a} and {self.b} = {self.a / self.b}\")\n",
    "        \n",
    "        \n",
    "calc1 = DerivedClass(20,10)\n",
    "calc1.calc()\n",
    "calc1.addition()\n",
    "calc1.multiplication()\n",
    "calc1.division()"
   ]
  },
  {
   "cell_type": "code",
   "execution_count": 3,
   "id": "a3431faa",
   "metadata": {},
   "outputs": [
    {
     "name": "stdout",
     "output_type": "stream",
     "text": [
      "BaseClass1 __init__ Method\n",
      "BaseClass2 __init__ Method\n",
      "Derived Class __init__ Method\n",
      "Calculation Methods\n",
      "Addition of 20 and 10 = 30\n",
      "Multiplication of 20 and 10 = 200\n",
      "Division of 20 and 10 = 2.0\n"
     ]
    }
   ],
   "source": [
    "class BaseClass1():\n",
    "    def __init__(self):\n",
    "        print(\"BaseClass1 __init__ Method\")\n",
    "    \n",
    "    \n",
    "    def addition(self):\n",
    "        self.add = self.a + self.b\n",
    "        print(f\"Addition of {self.a} and {self.b} = {self.add}\")\n",
    "\n",
    "class BaseClass2(BaseClass1):\n",
    "    def __init__(self):\n",
    "        BaseClass1.__init__(self)\n",
    "        print(f\"BaseClass2 __init__ Method\")\n",
    "    \n",
    "    \n",
    "    def multiplication(self):\n",
    "        print(f\"Multiplication of {self.a} and {self.b} = {self.a * self.b}\")\n",
    "\n",
    "class DerivedClass(BaseClass2):\n",
    "    def __init__(self,a,b):\n",
    "        BaseClass2.__init__(self)\n",
    "        print(f\"Derived Class __init__ Method\")\n",
    "        self.a = a\n",
    "        self.b = b\n",
    "    \n",
    "    def calc(self):\n",
    "        print(\"Calculation Methods\")\n",
    "        \n",
    "    def division(self):\n",
    "        print(f\"Division of {self.a} and {self.b} = {self.a / self.b}\")\n",
    "        \n",
    "        \n",
    "calc1 = DerivedClass(20,10)\n",
    "calc1.calc()\n",
    "calc1.addition()\n",
    "calc1.multiplication()\n",
    "calc1.division()"
   ]
  },
  {
   "cell_type": "markdown",
   "id": "1f0356b3",
   "metadata": {},
   "source": [
    "# 3. Multiple Inheritance "
   ]
  },
  {
   "cell_type": "code",
   "execution_count": 48,
   "id": "7361d2bc",
   "metadata": {},
   "outputs": [],
   "source": [
    "class Father():\n",
    "    pass\n",
    "\n",
    "class Mother():\n",
    "    pass\n",
    "\n",
    "class Child(Mother):\n",
    "    pass\n",
    "\n",
    "obj1 = Child()"
   ]
  },
  {
   "cell_type": "code",
   "execution_count": 49,
   "id": "f3be897b",
   "metadata": {},
   "outputs": [],
   "source": [
    "class Father():\n",
    "    pass\n",
    "\n",
    "class Mother(Father):\n",
    "    pass\n",
    "\n",
    "class Child(Mother):\n",
    "    pass\n",
    "\n",
    "obj1 = Child()"
   ]
  },
  {
   "cell_type": "code",
   "execution_count": 50,
   "id": "fada6f03",
   "metadata": {},
   "outputs": [],
   "source": [
    "class Father():\n",
    "    pass\n",
    "\n",
    "class Mother():\n",
    "    pass\n",
    "\n",
    "class Child(Mother,Father):\n",
    "    pass\n",
    "\n",
    "obj1 = Child()"
   ]
  },
  {
   "cell_type": "markdown",
   "id": "3025cc22",
   "metadata": {},
   "source": [
    "### Docstring "
   ]
  },
  {
   "cell_type": "code",
   "execution_count": 59,
   "id": "792faa00",
   "metadata": {},
   "outputs": [
    {
     "name": "stdout",
     "output_type": "stream",
     "text": [
      "Derived Class __init__ Method\n"
     ]
    }
   ],
   "source": [
    "class BaseClass1():\n",
    "    def addition(self,a,b):\n",
    "        \"\"\"Addition\"\"\"\n",
    "        print(\"Addition Method\")\n",
    "        add = a + b\n",
    "        print(f\"Addition of {a} and {b} ==> {add}\")\n",
    "class BaseClass2():\n",
    "    def multiplication(self,a,b):\n",
    "        print(\"Multiplication Method\")\n",
    "        mul = a * b\n",
    "        print(f\"Multiplication of {a} and {b} ==> {mul}\")\n",
    "\n",
    "class DerivedClass(BaseClass1,BaseClass2):\n",
    "    \"\"\"\n",
    "    Derived Class Inheriting Properties from BaseClass1 and BaseClass2\n",
    "    \"\"\"\n",
    "    def __init__(self):\n",
    "        print(\"Derived Class __init__ Method\")\n",
    "        \n",
    "        \n",
    "    def calc(self):\n",
    "        print(\"Calculation Method\")\n",
    "        \n",
    "        \n",
    "obj1 = DerivedClass()"
   ]
  },
  {
   "cell_type": "code",
   "execution_count": 60,
   "id": "b64148d4",
   "metadata": {},
   "outputs": [
    {
     "ename": "TypeError",
     "evalue": "BaseClass1.addition() missing 2 required positional arguments: 'a' and 'b'",
     "output_type": "error",
     "traceback": [
      "\u001b[1;31m---------------------------------------------------------------------------\u001b[0m",
      "\u001b[1;31mTypeError\u001b[0m                                 Traceback (most recent call last)",
      "Input \u001b[1;32mIn [60]\u001b[0m, in \u001b[0;36m<cell line: 1>\u001b[1;34m()\u001b[0m\n\u001b[1;32m----> 1\u001b[0m \u001b[43mobj1\u001b[49m\u001b[38;5;241;43m.\u001b[39;49m\u001b[43maddition\u001b[49m\u001b[43m(\u001b[49m\u001b[43m)\u001b[49m\n",
      "\u001b[1;31mTypeError\u001b[0m: BaseClass1.addition() missing 2 required positional arguments: 'a' and 'b'"
     ]
    }
   ],
   "source": [
    "obj1.addition()"
   ]
  },
  {
   "cell_type": "code",
   "execution_count": 61,
   "id": "89251185",
   "metadata": {},
   "outputs": [
    {
     "name": "stdout",
     "output_type": "stream",
     "text": [
      "Help on class DerivedClass in module __main__:\n",
      "\n",
      "class DerivedClass(BaseClass1, BaseClass2)\n",
      " |  Derived Class Inheriting Properties from BaseClass1 and BaseClass2\n",
      " |  \n",
      " |  Method resolution order:\n",
      " |      DerivedClass\n",
      " |      BaseClass1\n",
      " |      BaseClass2\n",
      " |      builtins.object\n",
      " |  \n",
      " |  Methods defined here:\n",
      " |  \n",
      " |  __init__(self)\n",
      " |      Initialize self.  See help(type(self)) for accurate signature.\n",
      " |  \n",
      " |  calc(self)\n",
      " |  \n",
      " |  ----------------------------------------------------------------------\n",
      " |  Methods inherited from BaseClass1:\n",
      " |  \n",
      " |  addition(self, a, b)\n",
      " |      Addition\n",
      " |  \n",
      " |  ----------------------------------------------------------------------\n",
      " |  Data descriptors inherited from BaseClass1:\n",
      " |  \n",
      " |  __dict__\n",
      " |      dictionary for instance variables (if defined)\n",
      " |  \n",
      " |  __weakref__\n",
      " |      list of weak references to the object (if defined)\n",
      " |  \n",
      " |  ----------------------------------------------------------------------\n",
      " |  Methods inherited from BaseClass2:\n",
      " |  \n",
      " |  multiplication(self, a, b)\n",
      "\n"
     ]
    }
   ],
   "source": [
    "help(DerivedClass)"
   ]
  },
  {
   "cell_type": "code",
   "execution_count": 62,
   "id": "4d76beb0",
   "metadata": {},
   "outputs": [
    {
     "name": "stdout",
     "output_type": "stream",
     "text": [
      "Addition Method\n",
      "Addition of 10 and 20 ==> 30\n"
     ]
    }
   ],
   "source": [
    "obj1.addition(10,20)"
   ]
  },
  {
   "cell_type": "code",
   "execution_count": 63,
   "id": "5603c036",
   "metadata": {},
   "outputs": [
    {
     "name": "stdout",
     "output_type": "stream",
     "text": [
      "Multiplication Method\n",
      "Multiplication of 10 and 30 ==> 300\n"
     ]
    }
   ],
   "source": [
    "obj1.multiplication(10,30)"
   ]
  },
  {
   "cell_type": "code",
   "execution_count": 64,
   "id": "7e135605",
   "metadata": {},
   "outputs": [
    {
     "name": "stdout",
     "output_type": "stream",
     "text": [
      "Derived Class __init__ Method\n"
     ]
    }
   ],
   "source": [
    "class BaseClass1():\n",
    "    def __init__(self,a,b):\n",
    "        \"\"\"This is the __init__ method of baseclass which \n",
    "        will pass its properties to derived class\"\"\"\n",
    "        self.a = a\n",
    "        self.b = b\n",
    "    \n",
    "    \n",
    "    def addition(self):\n",
    "        \"\"\"Addition\"\"\"\n",
    "        print(\"Addition Method\")\n",
    "        self.add = self.a + self.b\n",
    "        print(f\"Addition of {self.a} and {self.b} ==> {self.add}\")\n",
    "\n",
    "        \n",
    "        \n",
    "class BaseClass2():\n",
    "    def __init__(self,a1,b1):\n",
    "        print(\"Base Class 2 __init__ Method\")\n",
    "        self.a1 = a1\n",
    "        self.b1 = b1\n",
    "    \n",
    "    def multiplication(self):\n",
    "        print(\"Multiplication Method\")\n",
    "        self.mul = self.a1 * self.b1\n",
    "        print(f\"Multiplication of {self.a1} and {self.b1} ==> {self.mul}\")\n",
    "        \n",
    "        \n",
    "        \n",
    "\n",
    "class DerivedClass(BaseClass1,BaseClass2):\n",
    "    \"\"\"\n",
    "    Derived Class Inheriting Properties from BaseClass1 and BaseClass2\n",
    "    \"\"\"\n",
    "    def __init__(self):\n",
    "        print(\"Derived Class __init__ Method\")\n",
    "        \n",
    "        \n",
    "    def calc(self):\n",
    "        print(\"Calculation Method\")\n",
    "        \n",
    "        \n",
    "obj1 = DerivedClass()"
   ]
  },
  {
   "cell_type": "code",
   "execution_count": 65,
   "id": "59e29de1",
   "metadata": {},
   "outputs": [
    {
     "name": "stdout",
     "output_type": "stream",
     "text": [
      "Multiplication Method\n"
     ]
    },
    {
     "ename": "AttributeError",
     "evalue": "'DerivedClass' object has no attribute 'a1'",
     "output_type": "error",
     "traceback": [
      "\u001b[1;31m---------------------------------------------------------------------------\u001b[0m",
      "\u001b[1;31mAttributeError\u001b[0m                            Traceback (most recent call last)",
      "Input \u001b[1;32mIn [65]\u001b[0m, in \u001b[0;36m<cell line: 1>\u001b[1;34m()\u001b[0m\n\u001b[1;32m----> 1\u001b[0m \u001b[43mobj1\u001b[49m\u001b[38;5;241;43m.\u001b[39;49m\u001b[43mmultiplication\u001b[49m\u001b[43m(\u001b[49m\u001b[43m)\u001b[49m\n",
      "Input \u001b[1;32mIn [64]\u001b[0m, in \u001b[0;36mBaseClass2.multiplication\u001b[1;34m(self)\u001b[0m\n\u001b[0;32m     23\u001b[0m \u001b[38;5;28;01mdef\u001b[39;00m \u001b[38;5;21mmultiplication\u001b[39m(\u001b[38;5;28mself\u001b[39m):\n\u001b[0;32m     24\u001b[0m     \u001b[38;5;28mprint\u001b[39m(\u001b[38;5;124m\"\u001b[39m\u001b[38;5;124mMultiplication Method\u001b[39m\u001b[38;5;124m\"\u001b[39m)\n\u001b[1;32m---> 25\u001b[0m     \u001b[38;5;28mself\u001b[39m\u001b[38;5;241m.\u001b[39mmul \u001b[38;5;241m=\u001b[39m \u001b[38;5;28;43mself\u001b[39;49m\u001b[38;5;241;43m.\u001b[39;49m\u001b[43ma1\u001b[49m \u001b[38;5;241m*\u001b[39m \u001b[38;5;28mself\u001b[39m\u001b[38;5;241m.\u001b[39mb1\n\u001b[0;32m     26\u001b[0m     \u001b[38;5;28mprint\u001b[39m(\u001b[38;5;124mf\u001b[39m\u001b[38;5;124m\"\u001b[39m\u001b[38;5;124mMultiplication of \u001b[39m\u001b[38;5;132;01m{\u001b[39;00m\u001b[38;5;28mself\u001b[39m\u001b[38;5;241m.\u001b[39ma1\u001b[38;5;132;01m}\u001b[39;00m\u001b[38;5;124m and \u001b[39m\u001b[38;5;132;01m{\u001b[39;00m\u001b[38;5;28mself\u001b[39m\u001b[38;5;241m.\u001b[39mb1\u001b[38;5;132;01m}\u001b[39;00m\u001b[38;5;124m ==> \u001b[39m\u001b[38;5;132;01m{\u001b[39;00m\u001b[38;5;28mself\u001b[39m\u001b[38;5;241m.\u001b[39mmul\u001b[38;5;132;01m}\u001b[39;00m\u001b[38;5;124m\"\u001b[39m)\n",
      "\u001b[1;31mAttributeError\u001b[0m: 'DerivedClass' object has no attribute 'a1'"
     ]
    }
   ],
   "source": [
    "obj1.multiplication()"
   ]
  },
  {
   "cell_type": "code",
   "execution_count": 66,
   "id": "a6eecc76",
   "metadata": {},
   "outputs": [
    {
     "ename": "TypeError",
     "evalue": "BaseClass2.multiplication() takes 1 positional argument but 3 were given",
     "output_type": "error",
     "traceback": [
      "\u001b[1;31m---------------------------------------------------------------------------\u001b[0m",
      "\u001b[1;31mTypeError\u001b[0m                                 Traceback (most recent call last)",
      "Input \u001b[1;32mIn [66]\u001b[0m, in \u001b[0;36m<cell line: 1>\u001b[1;34m()\u001b[0m\n\u001b[1;32m----> 1\u001b[0m \u001b[43mobj1\u001b[49m\u001b[38;5;241;43m.\u001b[39;49m\u001b[43mmultiplication\u001b[49m\u001b[43m(\u001b[49m\u001b[38;5;241;43m10\u001b[39;49m\u001b[43m,\u001b[49m\u001b[38;5;241;43m20\u001b[39;49m\u001b[43m)\u001b[49m\n",
      "\u001b[1;31mTypeError\u001b[0m: BaseClass2.multiplication() takes 1 positional argument but 3 were given"
     ]
    }
   ],
   "source": [
    "obj1.multiplication(10,20)"
   ]
  },
  {
   "cell_type": "code",
   "execution_count": 68,
   "id": "24cc25fd",
   "metadata": {},
   "outputs": [
    {
     "name": "stdout",
     "output_type": "stream",
     "text": [
      "Derived Class __init__ Method\n",
      "Base Class 1 __init__ Method\n",
      "Base Class 2 __init__ Method\n"
     ]
    }
   ],
   "source": [
    "class BaseClass1():\n",
    "    def __init__(self,a,b):\n",
    "        \"\"\"This is the __init__ method of baseclass which \n",
    "        will pass its properties to derived class\"\"\"\n",
    "        print(\"Base Class 1 __init__ Method\")\n",
    "        self.a = a\n",
    "        self.b = b\n",
    "    \n",
    "    \n",
    "    def addition(self):\n",
    "        \"\"\"Addition\"\"\"\n",
    "        print(\"Addition Method\")\n",
    "        self.add = self.a + self.b\n",
    "        print(f\"Addition of {self.a} and {self.b} ==> {self.add}\")\n",
    "\n",
    "        \n",
    "        \n",
    "class BaseClass2():\n",
    "    def __init__(self,a1,b1):\n",
    "        print(\"Base Class 2 __init__ Method\")\n",
    "        self.a1 = a1\n",
    "        self.b1 = b1\n",
    "    \n",
    "    def multiplication(self):\n",
    "        print(\"Multiplication Method\")\n",
    "        self.mul = self.a1 * self.b1\n",
    "        print(f\"Multiplication of {self.a1} and {self.b1} ==> {self.mul}\")\n",
    "        \n",
    "        \n",
    "        \n",
    "\n",
    "class DerivedClass(BaseClass1,BaseClass2):\n",
    "    \"\"\"\n",
    "    Derived Class Inheriting Properties from BaseClass1 and BaseClass2\n",
    "    \"\"\"\n",
    "    def __init__(self,a,b,a1,b1,c):\n",
    "        print(\"Derived Class __init__ Method\")\n",
    "        BaseClass1.__init__(self,a,b)\n",
    "        BaseClass2.__init__(self,a1,b1)\n",
    "        self.c = c\n",
    "        \n",
    "        \n",
    "    def calc(self):\n",
    "        print(\"Calculation Method\")\n",
    "        print(f\"self.c ----> {self.c}\")\n",
    "        \n",
    "obj1 = DerivedClass(10,20,10,30,\"Python\")"
   ]
  },
  {
   "cell_type": "code",
   "execution_count": 69,
   "id": "284b9114",
   "metadata": {},
   "outputs": [
    {
     "name": "stdout",
     "output_type": "stream",
     "text": [
      "Addition Method\n",
      "Addition of 10 and 20 ==> 30\n"
     ]
    }
   ],
   "source": [
    "obj1.addition()\n"
   ]
  },
  {
   "cell_type": "code",
   "execution_count": 70,
   "id": "dc3218e8",
   "metadata": {},
   "outputs": [
    {
     "name": "stdout",
     "output_type": "stream",
     "text": [
      "Multiplication Method\n",
      "Multiplication of 10 and 30 ==> 300\n"
     ]
    }
   ],
   "source": [
    "obj1.multiplication()"
   ]
  },
  {
   "cell_type": "code",
   "execution_count": null,
   "id": "95391110",
   "metadata": {},
   "outputs": [],
   "source": [
    "class BaseClass1():\n",
    "#     def __init__(self,a,b):\n",
    "#         \"\"\"This is the __init__ method of baseclass which \n",
    "#         will pass its properties to derived class\"\"\"\n",
    "#         print(\"Base Class 1 __init__ Method\")\n",
    "#         self.a = a\n",
    "#         self.b = b\n",
    "    \n",
    "    \n",
    "    def addition(self):\n",
    "        \"\"\"Addition\"\"\"\n",
    "        print(\"Addition Method\")\n",
    "        self.add = self.a + self.b\n",
    "        print(f\"Addition of {self.a} and {self.b} ==> {self.add}\")\n",
    "\n",
    "        \n",
    "        \n",
    "class BaseClass2():\n",
    "    def __init__(self,a1,b1):\n",
    "        print(\"Base Class 2 __init__ Method\")\n",
    "        self.a1 = a1\n",
    "        self.b1 = b1\n",
    "    \n",
    "    def multiplication(self):\n",
    "        print(\"Multiplication Method\")\n",
    "        self.mul = self.a1 * self.b1\n",
    "        print(f\"Multiplication of {self.a1} and {self.b1} ==> {self.mul}\")\n",
    "        \n",
    "        \n",
    "        \n",
    "\n",
    "class DerivedClass(BaseClass1,BaseClass2):\n",
    "    \"\"\"\n",
    "    Derived Class Inheriting Properties from BaseClass1 and BaseClass2\n",
    "    \"\"\"\n",
    "    def __init__(self,a,b,a1,b1,c):\n",
    "        print(\"Derived Class __init__ Method\")\n",
    "#         BaseClass1.__init__(self,a,b)\n",
    "#         BaseClass2.__init__(self,a1,b1)\n",
    "        self.a = a\n",
    "        self.b = b\n",
    "        self.a1 = a1\n",
    "        self.b1 = b1\n",
    "        self.c = c\n",
    "        \n",
    "        \n",
    "    def calc(self):\n",
    "        print(\"Calculation Method\")\n",
    "        print(f\"self.c ----> {self.c}\")\n",
    "        \n",
    "obj1 = DerivedClass(10,20,10,30,\"Python\")"
   ]
  }
 ],
 "metadata": {
  "kernelspec": {
   "display_name": "Python 3 (ipykernel)",
   "language": "python",
   "name": "python3"
  },
  "language_info": {
   "codemirror_mode": {
    "name": "ipython",
    "version": 3
   },
   "file_extension": ".py",
   "mimetype": "text/x-python",
   "name": "python",
   "nbconvert_exporter": "python",
   "pygments_lexer": "ipython3",
   "version": "3.9.12"
  }
 },
 "nbformat": 4,
 "nbformat_minor": 5
}
