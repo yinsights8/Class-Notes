{
 "cells": [
  {
   "cell_type": "code",
   "execution_count": 117,
   "id": "e89238db",
   "metadata": {},
   "outputs": [],
   "source": [
    "class BaseClass1():\n",
    "        pass\n",
    "    \n",
    "    \n",
    "class BaseClass2(BaseClass1):\n",
    "    pass\n",
    "\n",
    "\n",
    "class BaseClass(BaseClass2):\n",
    "    pass"
   ]
  },
  {
   "cell_type": "code",
   "execution_count": 118,
   "id": "55e141f0",
   "metadata": {},
   "outputs": [],
   "source": [
    "class GrandFather():\n",
    "    def __init__(self, land, properti):\n",
    "        self.land = land\n",
    "        self.properti = properti\n",
    "        \n",
    "    def G_land(self):\n",
    "        print(f\"Grandfather had {self.land} lands\")\n",
    "        \n",
    "    def G_property(self):\n",
    "        print(f\"Grandfather had {self.properti} properties\")\n",
    "\n",
    "        \n",
    "class Father(GrandFather):\n",
    "    def __init__(self, land1, properti1):\n",
    "        self.land1 = land1\n",
    "        self.properti1 = properti1\n",
    "        \n",
    "    def F_land(self):\n",
    "        print(f\"father had {self.land1} lands\")\n",
    "        \n",
    "    def F_property(self):\n",
    "        print(f\"father had {self.properti1} properties\")\n",
    "\n",
    "        \n",
    "class Child(Father):\n",
    "    def __init__(self, land, properti, land1, properti1, land2, properti2):\n",
    "        GrandFather.__init__(self,land, properti)\n",
    "        Father.__init__(self, land1, properti1)\n",
    "        self.land2 = land2\n",
    "        self.properti2 = properti2\n",
    "        \n",
    "        \n",
    "    def S_land(self):\n",
    "        print(f\"father had {self.land2} land\")\n",
    "        \n",
    "    def S_property(self):\n",
    "        print(f\"father had {self.properti2} properties\")\n",
    "        "
   ]
  },
  {
   "cell_type": "code",
   "execution_count": 119,
   "id": "4b0f944f",
   "metadata": {},
   "outputs": [],
   "source": [
    "kuku = Child(1, 2, 3, 4, 5, 6)"
   ]
  },
  {
   "cell_type": "code",
   "execution_count": 120,
   "id": "90965022",
   "metadata": {},
   "outputs": [
    {
     "name": "stdout",
     "output_type": "stream",
     "text": [
      "Grandfather had 1 lands\n",
      "Grandfather had 2 properties\n",
      "father had 5 land\n",
      "father had 6 properties\n",
      "father had 3 lands\n",
      "father had 4 properties\n"
     ]
    }
   ],
   "source": [
    "kuku.G_land()\n",
    "kuku.G_property()\n",
    "kuku.S_land()\n",
    "kuku.S_property()\n",
    "kuku.F_land()\n",
    "kuku.F_property()"
   ]
  },
  {
   "cell_type": "code",
   "execution_count": null,
   "id": "81cda409",
   "metadata": {},
   "outputs": [],
   "source": []
  },
  {
   "cell_type": "code",
   "execution_count": 1,
   "id": "0698bbf2",
   "metadata": {},
   "outputs": [],
   "source": [
    "class GrandFather():\n",
    "    def __init__(self, land, properti):\n",
    "        self.land = land\n",
    "        self.properti = properti\n",
    "    \n",
    "    \n",
    "    def G_land(self):\n",
    "        print(f\"Grandfather had {self.land} lands\")\n",
    "        \n",
    "        \n",
    "    def G_property(self):\n",
    "        print(f\"Grandfather had {self.properti} properties\")\n",
    "\n",
    "        \n",
    "class Father(GrandFather):\n",
    "    def __init__(self, land1, properti1):\n",
    "        self.land1 = land1\n",
    "        self.properti1 = properti1\n",
    "        \n",
    "        \n",
    "    def F_land(self):\n",
    "        print(f\"father had {self.land1} lands\")\n",
    "        \n",
    "        \n",
    "    def F_property(self):\n",
    "        print(f\"father had {self.properti1} properties\")\n",
    "\n",
    "        \n",
    "class Child(Father):\n",
    "    def __init__(self, land, properti, land1, properti1, land2, properti2):\n",
    "        \n",
    "        GrandFather.__init__(self, land, properti)\n",
    "        Father.__init__(self, land1, properti1)\n",
    "        \n",
    "        \n",
    "        self.land2 = land2\n",
    "        self.properti2 = properti2\n",
    "        \n",
    "        \n",
    "    def S_land(self):\n",
    "        print(f\"father had {self.land2} land\")\n",
    "        \n",
    "\n",
    "    def S_property(self):\n",
    "        print(f\"father had {self.properti2} properties\")\n",
    "        "
   ]
  },
  {
   "cell_type": "code",
   "execution_count": 2,
   "id": "f9818dbf",
   "metadata": {},
   "outputs": [],
   "source": [
    "joker = Child(4,5,6,7,8,9)"
   ]
  },
  {
   "cell_type": "code",
   "execution_count": 3,
   "id": "96405d25",
   "metadata": {},
   "outputs": [
    {
     "name": "stdout",
     "output_type": "stream",
     "text": [
      "Grandfather had 4 lands\n",
      "Grandfather had 5 properties\n",
      "father had 8 land\n",
      "father had 9 properties\n",
      "father had 6 lands\n",
      "father had 7 properties\n"
     ]
    }
   ],
   "source": [
    "joker.G_land()\n",
    "joker.G_property()\n",
    "joker.S_land()\n",
    "joker.S_property()\n",
    "joker.F_land()\n",
    "joker.F_property()"
   ]
  },
  {
   "cell_type": "code",
   "execution_count": 124,
   "id": "467d858f",
   "metadata": {},
   "outputs": [
    {
     "name": "stdout",
     "output_type": "stream",
     "text": [
      "father had 7 properties\n"
     ]
    }
   ],
   "source": [
    "joker.F_property()"
   ]
  },
  {
   "cell_type": "code",
   "execution_count": 125,
   "id": "bba2d790",
   "metadata": {},
   "outputs": [
    {
     "name": "stdout",
     "output_type": "stream",
     "text": [
      "Grandfather had 4 lands\n"
     ]
    }
   ],
   "source": [
    "joker.G_land()"
   ]
  },
  {
   "cell_type": "code",
   "execution_count": 126,
   "id": "882b1a10",
   "metadata": {},
   "outputs": [
    {
     "name": "stdout",
     "output_type": "stream",
     "text": [
      "Grandfather had 5 properties\n"
     ]
    }
   ],
   "source": [
    "joker.G_property()"
   ]
  },
  {
   "cell_type": "code",
   "execution_count": 127,
   "id": "057d13d9",
   "metadata": {},
   "outputs": [
    {
     "name": "stdout",
     "output_type": "stream",
     "text": [
      "father had 8 land\n"
     ]
    }
   ],
   "source": [
    "joker.S_land()"
   ]
  },
  {
   "cell_type": "code",
   "execution_count": 128,
   "id": "1fa715b3",
   "metadata": {},
   "outputs": [
    {
     "name": "stdout",
     "output_type": "stream",
     "text": [
      "father had 9 properties\n"
     ]
    }
   ],
   "source": [
    "joker.S_property()"
   ]
  },
  {
   "cell_type": "code",
   "execution_count": 129,
   "id": "1a21c108",
   "metadata": {},
   "outputs": [
    {
     "data": {
      "text/plain": [
       "4"
      ]
     },
     "execution_count": 129,
     "metadata": {},
     "output_type": "execute_result"
    }
   ],
   "source": [
    "joker.land"
   ]
  },
  {
   "cell_type": "code",
   "execution_count": null,
   "id": "14215cac",
   "metadata": {},
   "outputs": [],
   "source": []
  },
  {
   "cell_type": "markdown",
   "id": "9cb77c4c",
   "metadata": {},
   "source": [
    "### multiple inheritance"
   ]
  },
  {
   "cell_type": "code",
   "execution_count": 130,
   "id": "2644c3d6",
   "metadata": {},
   "outputs": [],
   "source": [
    "class baseclass1():\n",
    "    pass\n",
    "\n",
    "class baseclass2():\n",
    "    pass\n",
    "\n",
    "class DerivedClass(baseclass1, baseclass2):\n",
    "    pass"
   ]
  },
  {
   "cell_type": "code",
   "execution_count": null,
   "id": "e9eef932",
   "metadata": {},
   "outputs": [],
   "source": []
  },
  {
   "cell_type": "code",
   "execution_count": 139,
   "id": "addfa417",
   "metadata": {},
   "outputs": [],
   "source": [
    "class Base1():\n",
    "    def __init__(self, a, b):\n",
    "        self.a = a\n",
    "        self.b = b\n",
    "        \n",
    "    def addition(self):\n",
    "        self.add = self.a + self.b\n",
    "        print(f\"Addition of {self.a} and {self.b} is {self.add}\")\n",
    "        \n",
    "        \n",
    "        \n",
    "class Base2():\n",
    "    def __init__(self, a1, b1):\n",
    "        self.a1 = a1\n",
    "        self.b1 = b1\n",
    "\n",
    "    def multiplication(self):\n",
    "        self.multi = self.a1* self.b1\n",
    "        print(f\"multiplication of {self.a1} and {self.b1} is {self.multi}\")\n"
   ]
  },
  {
   "cell_type": "code",
   "execution_count": 140,
   "id": "981ea216",
   "metadata": {},
   "outputs": [],
   "source": [
    "class Base1_Base2(Base1, Base2):\n",
    "    def __init__(self, a, b, a1, b1):\n",
    "        print(\"Me print Honarrrrrrrrr mahnje Honarrrrch\")\n",
    "        Base1.__init__(self, a, b)\n",
    "        Base2.__init__(self, a1, b1)\n",
    "        \n",
    "    def calculation(self):\n",
    "        self.addition()\n",
    "        self.multiplication()"
   ]
  },
  {
   "cell_type": "code",
   "execution_count": 141,
   "id": "d4667586",
   "metadata": {},
   "outputs": [
    {
     "name": "stdout",
     "output_type": "stream",
     "text": [
      "Me print Honarrrrrrrrr mahnje Honarrrrch\n",
      "Addition of 5 and 6 is 11\n",
      "multiplication of 7 and 8 is 56\n"
     ]
    }
   ],
   "source": [
    "calci = Base1_Base2(5, 6, 7, 8)\n",
    "calci.calculation()"
   ]
  },
  {
   "cell_type": "code",
   "execution_count": null,
   "id": "efb89611",
   "metadata": {},
   "outputs": [],
   "source": []
  },
  {
   "cell_type": "markdown",
   "id": "7b6d4dd2",
   "metadata": {},
   "source": [
    "### OOP Exercise 3: Create a child class Bus that will inherit all of the variables and methods of the Vehicle class"
   ]
  },
  {
   "cell_type": "code",
   "execution_count": 173,
   "id": "50f749f2",
   "metadata": {},
   "outputs": [],
   "source": [
    "class Vehical:\n",
    "    def __init__(self, name, speed, milage):\n",
    "        self.name = name\n",
    "        self.speed = speed\n",
    "        self.milage = milage\n",
    "        \n",
    "    def Vehi_name(self):\n",
    "        print(f\"vehical name is {self.name}\")\n",
    "        \n",
    "    def Vehi_speed(self):\n",
    "        print(f\"Vehical speed is {self.speed}\")\n",
    "        \n",
    "    def Vehi_milage(self):\n",
    "        print(f\"Vehical milage is {self.milage}\")\n",
    "        \n",
    "        \n",
    "class Bus(Vehical):\n",
    "    def __init__(self, name, speed, milage):\n",
    "        print(\"it worked successfully\")\n",
    "        super().__init__(name, speed, milage)\n",
    "        \n",
    "    def __str__(self):\n",
    "        return f\"Vehical: {self.name}\\nspeed: {self.speed}\\nmilage: {self.milage}\"\n",
    "\n",
    "#     def Call_all(self):\n",
    "#         self.Vehi_name()\n",
    "#         self.Vehi_speed()\n",
    "#         self.Vehi_milage()\n"
   ]
  },
  {
   "cell_type": "code",
   "execution_count": 174,
   "id": "323b43f1",
   "metadata": {},
   "outputs": [
    {
     "name": "stdout",
     "output_type": "stream",
     "text": [
      "it worked successfully\n"
     ]
    }
   ],
   "source": [
    "vehical = Bus(\"Shakuntala\", 10, 1000)"
   ]
  },
  {
   "cell_type": "code",
   "execution_count": 175,
   "id": "4e80536b",
   "metadata": {},
   "outputs": [],
   "source": [
    "# vehical.Call_all()"
   ]
  },
  {
   "cell_type": "code",
   "execution_count": 176,
   "id": "4f98b1cb",
   "metadata": {},
   "outputs": [
    {
     "name": "stdout",
     "output_type": "stream",
     "text": [
      "Vehical: Shakuntala\n",
      "speed: 10\n",
      "milage: 1000\n"
     ]
    }
   ],
   "source": [
    "print(vehical)"
   ]
  },
  {
   "cell_type": "code",
   "execution_count": null,
   "id": "32e9a4f2",
   "metadata": {},
   "outputs": [],
   "source": []
  },
  {
   "cell_type": "markdown",
   "id": "3facd598",
   "metadata": {},
   "source": [
    "### OOP Exercise 4: Class Inheritance\n",
    "Given:\n",
    "\n",
    "Create a Bus class that inherits from the Vehicle class. Give the capacity argument of Bus.seating_capacity() a default value of 50."
   ]
  },
  {
   "cell_type": "code",
   "execution_count": 4,
   "id": "eb7c2e79",
   "metadata": {},
   "outputs": [],
   "source": [
    "class Vehical:\n",
    "    def __init__(self, name, speed, milage):\n",
    "        self.name = name\n",
    "        self.speed = speed\n",
    "        self.milage = milage\n",
    "        \n",
    "    def Vehi_name(self):\n",
    "        print(f\"vehical name is {self.name}\")\n",
    "        \n",
    "    def Vehi_speed(self):\n",
    "        print(f\"Vehical speed is {self.speed}\")\n",
    "        \n",
    "    def Vehi_milage(self):\n",
    "        print(f\"Vehical milage is {self.milage}\")\n",
    "        \n",
    "    def seating_capacity(self, capacity):\n",
    "        self.capacity = capacity\n",
    "        return f\"seating capacity of bus is {self.capacity}\"\n",
    "        \n",
    "        \n",
    "        \n",
    "class Bus(Vehical):\n",
    "#     def __init__(self, name, speed, milage):\n",
    "#         print(\"it worked successfully\")\n",
    "#         super().__init__(name, speed, milage)\n",
    "    \n",
    "    def seating_capacity(self, capacity=50):\n",
    "        self.capacity = capacity\n",
    "        return f\"seating capacity of {self.name} is {self.capacity}\"\n",
    "        \n",
    "    def __str__(self):\n",
    "        return f\"Vehical: {self.name}\\nspeed: {self.speed}\\nmilage: {self.milage}\""
   ]
  },
  {
   "cell_type": "code",
   "execution_count": 7,
   "id": "c4f8ece2",
   "metadata": {},
   "outputs": [
    {
     "name": "stdout",
     "output_type": "stream",
     "text": [
      "Vehical: shakuntala\n",
      "speed: 10\n",
      "milage: 100\n"
     ]
    }
   ],
   "source": [
    "S_Bus = Bus(\"shakuntala\", 10, 100)\n",
    "print(S_Bus)"
   ]
  },
  {
   "cell_type": "code",
   "execution_count": 6,
   "id": "5a448771",
   "metadata": {},
   "outputs": [
    {
     "data": {
      "text/plain": [
       "'seating capacity of shakuntala is 50'"
      ]
     },
     "execution_count": 6,
     "metadata": {},
     "output_type": "execute_result"
    }
   ],
   "source": [
    "S_Bus.seating_capacity()"
   ]
  },
  {
   "cell_type": "code",
   "execution_count": 14,
   "id": "31eb67b3",
   "metadata": {},
   "outputs": [],
   "source": []
  },
  {
   "cell_type": "code",
   "execution_count": 22,
   "id": "0fdd415f",
   "metadata": {},
   "outputs": [
    {
     "name": "stdout",
     "output_type": "stream",
     "text": [
      "False\n",
      "True\n",
      "False\n",
      "True\n",
      "False\n",
      "True\n",
      "False\n",
      "True\n",
      "False\n",
      "True\n",
      "False\n",
      "True\n",
      "False\n",
      "True\n",
      "False\n",
      "True\n",
      "False\n",
      "True\n",
      "False\n",
      "True\n"
     ]
    }
   ],
   "source": [
    "\n",
    "def Eve_Odd(lis):\n",
    "    for i in lis:\n",
    "        if i%2 == 0 :\n",
    "            print(\"True\")\n",
    "        else:\n",
    "            print(\"False\")\n",
    "lis = [1, 2, 3, 4, 5, 6, 7, 8, 9, 10, 11, 12, 13, 14, 15, 16, 17, 18, 19, 20 ]\n",
    "Eve_Odd(lis)"
   ]
  },
  {
   "cell_type": "code",
   "execution_count": 28,
   "id": "400c0433",
   "metadata": {},
   "outputs": [
    {
     "data": {
      "text/plain": [
       "[False,\n",
       " True,\n",
       " False,\n",
       " True,\n",
       " False,\n",
       " True,\n",
       " False,\n",
       " True,\n",
       " False,\n",
       " True,\n",
       " False,\n",
       " True,\n",
       " False,\n",
       " True,\n",
       " False,\n",
       " True,\n",
       " False,\n",
       " True,\n",
       " False,\n",
       " True]"
      ]
     },
     "execution_count": 28,
     "metadata": {},
     "output_type": "execute_result"
    }
   ],
   "source": [
    "lis = [1, 2, 3, 4, 5, 6, 7, 8, 9, 10, 11, 12, 13, 14, 15, 16, 17, 18, 19, 20 ]\n",
    "lis1 = list(map(lambda x : True if x % 2 == 0 else False, lis))\n",
    "lis1"
   ]
  },
  {
   "cell_type": "code",
   "execution_count": 27,
   "id": "95034e23",
   "metadata": {},
   "outputs": [
    {
     "data": {
      "text/plain": [
       "[False,\n",
       " True,\n",
       " False,\n",
       " True,\n",
       " False,\n",
       " True,\n",
       " False,\n",
       " True,\n",
       " False,\n",
       " True,\n",
       " False,\n",
       " True,\n",
       " False,\n",
       " True,\n",
       " False,\n",
       " True,\n",
       " False,\n",
       " True,\n",
       " False,\n",
       " True]"
      ]
     },
     "execution_count": 27,
     "metadata": {},
     "output_type": "execute_result"
    }
   ],
   "source": [
    "lis1"
   ]
  },
  {
   "cell_type": "code",
   "execution_count": null,
   "id": "79262e44",
   "metadata": {},
   "outputs": [],
   "source": []
  },
  {
   "cell_type": "code",
   "execution_count": null,
   "id": "5060cc8a",
   "metadata": {},
   "outputs": [],
   "source": []
  },
  {
   "cell_type": "code",
   "execution_count": null,
   "id": "c2cb6b8b",
   "metadata": {},
   "outputs": [],
   "source": []
  },
  {
   "cell_type": "code",
   "execution_count": null,
   "id": "f2fb8628",
   "metadata": {},
   "outputs": [],
   "source": []
  },
  {
   "cell_type": "code",
   "execution_count": null,
   "id": "9492fd17",
   "metadata": {},
   "outputs": [],
   "source": []
  },
  {
   "cell_type": "code",
   "execution_count": null,
   "id": "48751e40",
   "metadata": {},
   "outputs": [],
   "source": []
  },
  {
   "cell_type": "code",
   "execution_count": null,
   "id": "8cccb707",
   "metadata": {},
   "outputs": [],
   "source": []
  },
  {
   "cell_type": "code",
   "execution_count": null,
   "id": "fd301207",
   "metadata": {},
   "outputs": [],
   "source": []
  },
  {
   "cell_type": "code",
   "execution_count": 6,
   "id": "da2c4545",
   "metadata": {},
   "outputs": [],
   "source": [
    "class GrandFather():\n",
    "    def __init__(self, land, properti):\n",
    "        self.land = land\n",
    "        self.properti = properti\n",
    "    \n",
    "    \n",
    "    def G_land(self):\n",
    "        print(f\"Grandfather had {self.land} lands\")\n",
    "        \n",
    "        \n",
    "    def G_property(self):\n",
    "        print(f\"Grandfather had {self.properti} properties\")\n",
    "\n",
    "        \n",
    "class Father(GrandFather):\n",
    "    def __init__(self, land1, properti1):\n",
    "        self.land1 = land1\n",
    "        self.properti1 = properti1\n",
    "        \n",
    "        \n",
    "    def F_land(self):\n",
    "        print(f\"father had {self.land1} lands\")\n",
    "        \n",
    "        \n",
    "    def F_property(self):\n",
    "        print(f\"father had {self.properti1} properties\")\n",
    "\n",
    "        \n",
    "class Child(Father):\n",
    "    def __init__(self, land, properti, land1, properti1, land2, properti2):\n",
    "        \n",
    "        GrandFather.__init__(self, land, properti)\n",
    "        Father.__init__(self, land1, properti1)\n",
    "        \n",
    "        \n",
    "        self.land2 = land2\n",
    "        self.properti2 = properti2\n",
    "        \n",
    "        \n",
    "    def S_land(self):\n",
    "        print(f\"father had {self.land2} land\")\n",
    "        \n",
    "\n",
    "    def S_property(self):\n",
    "        print(f\"father had {self.properti2} properties\")\n",
    "        "
   ]
  },
  {
   "cell_type": "code",
   "execution_count": 12,
   "id": "0e3f82fd",
   "metadata": {},
   "outputs": [
    {
     "name": "stdout",
     "output_type": "stream",
     "text": [
      "father had 4 lands\n",
      "father had 5 properties\n",
      "Grandfather had 1 lands\n",
      "Grandfather had 3 properties\n",
      "father had 6 land\n",
      "father had 8 properties\n"
     ]
    }
   ],
   "source": [
    "pro = Child(1,3,4,5,6,8)\n",
    "pro.F_land()\n",
    "pro.F_property()\n",
    "pro.G_land()\n",
    "pro.G_property()\n",
    "pro.S_land()\n",
    "pro.S_property()"
   ]
  },
  {
   "cell_type": "code",
   "execution_count": 32,
   "id": "afa7cbda",
   "metadata": {},
   "outputs": [],
   "source": [
    "class GrandFather():\n",
    "    def __init__(self, land, properti):\n",
    "        self.land = land\n",
    "        self.properti = properti\n",
    "    \n",
    "    \n",
    "    def G_land(self):\n",
    "        print(f\"Grandfather had {self.land} lands\")\n",
    "        \n",
    "        \n",
    "    def G_property(self):\n",
    "        print(f\"Grandfather had {self.properti} properties\")\n",
    "\n",
    "        \n",
    "class Father(GrandFather):\n",
    "    def __init__(self, land1, properti1):\n",
    "        self.land1 = land1\n",
    "        self.properti1 = properti1\n",
    "        \n",
    "        \n",
    "    def F_land(self):\n",
    "        print(f\"father had {self.land1} lands\")\n",
    "        \n",
    "        \n",
    "    def F_property(self):\n",
    "        print(f\"father had {self.properti1} properties\")\n",
    "\n",
    "        \n",
    "class Child(Father):\n",
    "    def __init__(self, land, properti, land1, properti1, land2, properti2):\n",
    "        \n",
    "        GrandFather.__init__(self, land, properti)\n",
    "        super().__init__(land1, properti1)\n",
    "        \n",
    "        \n",
    "        self.land2 = land2\n",
    "        self.properti2 = properti2\n",
    "        \n",
    "        \n",
    "    def S_land(self):\n",
    "        print(f\"father had {self.land2} land\")\n",
    "        \n",
    "\n",
    "    def S_property(self):\n",
    "        print(f\"father had {self.properti2} properties\")\n",
    "        "
   ]
  },
  {
   "cell_type": "code",
   "execution_count": 31,
   "id": "ae08f390",
   "metadata": {},
   "outputs": [
    {
     "name": "stdout",
     "output_type": "stream",
     "text": [
      "father had 4 lands\n",
      "father had 5 properties\n",
      "Grandfather had 1 lands\n",
      "Grandfather had 3 properties\n"
     ]
    }
   ],
   "source": [
    "pro2 = Child(1,3,4,5,6,8)\n",
    "pro2.F_land()\n",
    "pro2.F_property()\n",
    "pro2.G_land()\n",
    "pro2.G_property()"
   ]
  },
  {
   "cell_type": "code",
   "execution_count": null,
   "id": "f987d23a",
   "metadata": {},
   "outputs": [],
   "source": []
  },
  {
   "cell_type": "code",
   "execution_count": null,
   "id": "0cf1f2bc",
   "metadata": {},
   "outputs": [],
   "source": []
  }
 ],
 "metadata": {
  "kernelspec": {
   "display_name": "Python 3 (ipykernel)",
   "language": "python",
   "name": "python3"
  },
  "language_info": {
   "codemirror_mode": {
    "name": "ipython",
    "version": 3
   },
   "file_extension": ".py",
   "mimetype": "text/x-python",
   "name": "python",
   "nbconvert_exporter": "python",
   "pygments_lexer": "ipython3",
   "version": "3.9.12"
  }
 },
 "nbformat": 4,
 "nbformat_minor": 5
}
