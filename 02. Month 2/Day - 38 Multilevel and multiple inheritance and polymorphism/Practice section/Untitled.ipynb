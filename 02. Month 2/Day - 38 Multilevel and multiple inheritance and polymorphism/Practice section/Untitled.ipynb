{
 "cells": [
  {
   "cell_type": "code",
   "execution_count": 1,
   "id": "1d0653b7",
   "metadata": {},
   "outputs": [
    {
     "name": "stdout",
     "output_type": "stream",
     "text": [
      "hello guy's\n",
      "Hii\n"
     ]
    }
   ],
   "source": [
    "class P():\n",
    "    def __init__(self):\n",
    "        print(\"hello guy's\")\n",
    "        \n",
    "class Q(P):\n",
    "    def __init__(self):\n",
    "        super().__init__()\n",
    "        print(\"Hii\")\n",
    "        \n",
    "        \n",
    "ob = Q()"
   ]
  },
  {
   "cell_type": "code",
   "execution_count": null,
   "id": "37f2adc7",
   "metadata": {},
   "outputs": [],
   "source": []
  },
  {
   "cell_type": "code",
   "execution_count": 2,
   "id": "de17cb27",
   "metadata": {},
   "outputs": [],
   "source": [
    "# Multileve class"
   ]
  },
  {
   "cell_type": "code",
   "execution_count": 37,
   "id": "4bce8147",
   "metadata": {},
   "outputs": [],
   "source": [
    "class Grandfather():\n",
    "    def __init__(self):\n",
    "        print(\"I am your grandfather\")\n",
    "        \n",
    "class Father(Grandfather):\n",
    "    def __init__(self):\n",
    "        super().__init__()\n",
    "        print(f\"I am your grandfater's son\")\n",
    "        \n",
    "        \n",
    "class Child(Father):\n",
    "    def __init__(self):\n",
    "        Father.__init__(self)\n",
    "        Grandfather.__init__(self)\n",
    "        print(\"and i am your child\")"
   ]
  },
  {
   "cell_type": "code",
   "execution_count": 38,
   "id": "0ad0737c",
   "metadata": {},
   "outputs": [
    {
     "name": "stdout",
     "output_type": "stream",
     "text": [
      "I am your grandfather\n",
      "I am your grandfater's son\n",
      "I am your grandfather\n",
      "and i am your child\n"
     ]
    }
   ],
   "source": [
    "c1 = Child()"
   ]
  },
  {
   "cell_type": "code",
   "execution_count": 39,
   "id": "b80fcac8",
   "metadata": {},
   "outputs": [],
   "source": [
    "class Grandfather():\n",
    "    def __init__(self):\n",
    "        print(\"I am your grandfather\")\n",
    "        \n",
    "class Father(Grandfather):\n",
    "    def __init__(self):\n",
    "        super().__init__()\n",
    "        print(f\"I am your grandfater's son\")\n",
    "        \n",
    "        \n",
    "class Child(Father):\n",
    "    def __init__(self):\n",
    "        Father.__init__(self)\n",
    "        print(\"and i am your child\")"
   ]
  },
  {
   "cell_type": "code",
   "execution_count": 40,
   "id": "1290c50f",
   "metadata": {},
   "outputs": [
    {
     "name": "stdout",
     "output_type": "stream",
     "text": [
      "I am your grandfather\n",
      "I am your grandfater's son\n",
      "and i am your child\n"
     ]
    }
   ],
   "source": [
    "c2 = Child()"
   ]
  },
  {
   "cell_type": "code",
   "execution_count": 36,
   "id": "3239e02c",
   "metadata": {},
   "outputs": [
    {
     "name": "stdout",
     "output_type": "stream",
     "text": [
      "I am your grandfather\n",
      "I am your grandfater's son\n"
     ]
    },
    {
     "data": {
      "text/plain": [
       "<__main__.Father at 0x1a3e5952770>"
      ]
     },
     "execution_count": 36,
     "metadata": {},
     "output_type": "execute_result"
    }
   ],
   "source": [
    "f = Father()\n",
    "f"
   ]
  },
  {
   "cell_type": "code",
   "execution_count": null,
   "id": "d6cd04e4",
   "metadata": {},
   "outputs": [],
   "source": []
  },
  {
   "cell_type": "code",
   "execution_count": null,
   "id": "bb61d332",
   "metadata": {},
   "outputs": [],
   "source": []
  }
 ],
 "metadata": {
  "kernelspec": {
   "display_name": "Python 3 (ipykernel)",
   "language": "python",
   "name": "python3"
  },
  "language_info": {
   "codemirror_mode": {
    "name": "ipython",
    "version": 3
   },
   "file_extension": ".py",
   "mimetype": "text/x-python",
   "name": "python",
   "nbconvert_exporter": "python",
   "pygments_lexer": "ipython3",
   "version": "3.10.8"
  }
 },
 "nbformat": 4,
 "nbformat_minor": 5
}
