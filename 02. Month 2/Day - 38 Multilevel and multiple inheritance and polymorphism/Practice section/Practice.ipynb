{
 "cells": [
  {
   "cell_type": "code",
   "execution_count": 2,
   "id": "f36815a2",
   "metadata": {},
   "outputs": [
    {
     "name": "stdout",
     "output_type": "stream",
     "text": [
      "I AM Child\n"
     ]
    }
   ],
   "source": [
    "class P():\n",
    "    def __init__(self):\n",
    "        print(\"I am Parent\")\n",
    "\n",
    "class Q(P):\n",
    "    def __init__(self):\n",
    "        print(\"I AM Child\")\n",
    "        \n",
    "c1 = Q()"
   ]
  },
  {
   "cell_type": "code",
   "execution_count": 4,
   "id": "da654b94",
   "metadata": {},
   "outputs": [
    {
     "name": "stdout",
     "output_type": "stream",
     "text": [
      "I AM Child\n",
      "I am Parent\n"
     ]
    }
   ],
   "source": [
    "class P():\n",
    "    def __init__(self):\n",
    "        print(\"I am Parent\")\n",
    "\n",
    "class Q(P):\n",
    "    def __init__(self):\n",
    "        print(\"I AM Child\")\n",
    "        P.__init__(self)\n",
    "        \n",
    "c2 = Q()"
   ]
  },
  {
   "cell_type": "code",
   "execution_count": 6,
   "id": "c85ee933",
   "metadata": {},
   "outputs": [
    {
     "name": "stdout",
     "output_type": "stream",
     "text": [
      "I am a child\n",
      "I am parent\n"
     ]
    }
   ],
   "source": [
    "class parent():\n",
    "    def __init__(self):\n",
    "        print(\"I am parent\")\n",
    "        \n",
    "class child(parent):\n",
    "    def __init__(self):\n",
    "        print(\"I am a child\")\n",
    "        super().__init__()\n",
    "    \n",
    "ins = child() "
   ]
  },
  {
   "cell_type": "markdown",
   "id": "dfb9f5ef",
   "metadata": {},
   "source": [
    "## Multilevel inheritace"
   ]
  },
  {
   "cell_type": "code",
   "execution_count": 9,
   "id": "7d171419",
   "metadata": {},
   "outputs": [],
   "source": [
    "# For now we are not passingany attributes"
   ]
  },
  {
   "cell_type": "code",
   "execution_count": 12,
   "id": "afea866b",
   "metadata": {},
   "outputs": [],
   "source": [
    "class BaseClass1():\n",
    "    def Addition(self):\n",
    "        print(\"This is addition\")\n",
    "\n",
    "class BaseClass2(BaseClass1):\n",
    "    def Multiplication(self):\n",
    "        print(\"This is multiplication\")\n",
    "\n",
    "class BaseClass3(BaseClass2):\n",
    "    def division(self):\n",
    "        print(\"This is division\")\n",
    "\n",
    "class DerivedClass(BaseClass3):\n",
    "    def calculation(self):\n",
    "        print(\"This is calculation\")"
   ]
  },
  {
   "cell_type": "code",
   "execution_count": 13,
   "id": "2f572039",
   "metadata": {},
   "outputs": [],
   "source": [
    "obj1 = DerivedClass()"
   ]
  },
  {
   "cell_type": "code",
   "execution_count": 15,
   "id": "316d53b8",
   "metadata": {},
   "outputs": [
    {
     "name": "stdout",
     "output_type": "stream",
     "text": [
      "This is addition\n",
      "This is multiplication\n",
      "This is division\n",
      "This is calculation\n"
     ]
    }
   ],
   "source": [
    "obj1.Addition()\n",
    "obj1.Multiplication()\n",
    "obj1.division()\n",
    "obj1.calculation()"
   ]
  },
  {
   "cell_type": "code",
   "execution_count": 16,
   "id": "30ed9f8d",
   "metadata": {},
   "outputs": [],
   "source": [
    "obj2 = BaseClass2()  # if we take childcalss as baseclass2 then only above methods can be call and bellow method cannot be call"
   ]
  },
  {
   "cell_type": "code",
   "execution_count": 18,
   "id": "1e0dd27d",
   "metadata": {},
   "outputs": [
    {
     "name": "stdout",
     "output_type": "stream",
     "text": [
      "This is addition\n",
      "This is multiplication\n"
     ]
    }
   ],
   "source": [
    "obj2.Addition()\n",
    "obj2.Multiplication()"
   ]
  },
  {
   "cell_type": "code",
   "execution_count": 109,
   "id": "0c814462",
   "metadata": {},
   "outputs": [],
   "source": [
    "class GrandFather():\n",
    "    \n",
    "    def __init__(self, land, properties):\n",
    "        print(\"Initialising __init__() in Grandfather\")\n",
    "        self.land = land\n",
    "        self.properties = properties\n",
    "        \n",
    "    def G_land(self):\n",
    "        \"\"\"GrandFather Land \"\"\"\n",
    "        print(f\"GrandFather had {self.land} hector land\")\n",
    "        \n",
    "    def G_property(self):\n",
    "        \"\"\"GrandFather Property \"\"\"\n",
    "        print(f\"GrandFather had {self.properties} property lands\")\n",
    "        \n",
    "        \n",
    "        \n",
    "        \n",
    "        \n",
    "class Father(GrandFather):\n",
    "    \n",
    "    def __init__(self, land1, properties1):\n",
    "        print(\"Initialising __init__() in Father\")\n",
    "        self.land1 = land1\n",
    "        self.properties1 = properties1\n",
    "    \n",
    "    def F_land(self):\n",
    "        \"\"\"Father F_land\"\"\"\n",
    "        \n",
    "        self.L_total = self.land + self.land1\n",
    "        print(f\"Father had {self.L_total} hector land\")\n",
    "        \n",
    "    def F_property(self):\n",
    "        \"\"\"Father F_Property\"\"\"\n",
    "        self.P_total = self.properties + self.properties1\n",
    "        print(f\"Father had {self.P_total} property lands\")\n",
    "        \n",
    "        \n",
    "        \n",
    "\n",
    "class Child(Father):\n",
    "    def __init__(self, land, properties, land1, properties1, land2, property2):\n",
    "        \n",
    "        print(\"Initialising __init__() in Child\")\n",
    "        GrandFather.__init__(self, land, properties)\n",
    "        Father.__init__(self, land1, properties1)\n",
    "        self.land2 = land2\n",
    "        self.property2 = property2\n",
    "        \n",
    "    def son_land(self):\n",
    "        \"\"\"Son Land\"\"\"\n",
    "        \n",
    "        self.SL_total = self.L_total + self.land2\n",
    "        print(f\"Son has total land = {self.SL_total}\")\n",
    "        \n",
    "    def son_property(self):\n",
    "        \"\"\"Son property\"\"\"\n",
    "        \n",
    "        self.SP_total = self.P_total  + self.property2\n",
    "        print(f\"Son has total Property = {self.SP_total}\")        "
   ]
  },
  {
   "cell_type": "code",
   "execution_count": null,
   "id": "5b628ade",
   "metadata": {},
   "outputs": [],
   "source": []
  },
  {
   "cell_type": "code",
   "execution_count": 110,
   "id": "cbfc298f",
   "metadata": {},
   "outputs": [
    {
     "name": "stdout",
     "output_type": "stream",
     "text": [
      "Initialising __init__() in Child\n",
      "Initialising __init__() in Grandfather\n",
      "Initialising __init__() in Father\n"
     ]
    }
   ],
   "source": [
    "object1 = Child(200, 2, 400, 4, 500, 6)"
   ]
  },
  {
   "cell_type": "code",
   "execution_count": 111,
   "id": "8c4b8871",
   "metadata": {},
   "outputs": [
    {
     "name": "stdout",
     "output_type": "stream",
     "text": [
      "GrandFather had 200 hector land\n",
      "GrandFather had 2 property lands\n"
     ]
    }
   ],
   "source": [
    "object1.G_land()\n",
    "object1.G_property()"
   ]
  },
  {
   "cell_type": "code",
   "execution_count": 112,
   "id": "b9d9709f",
   "metadata": {},
   "outputs": [
    {
     "name": "stdout",
     "output_type": "stream",
     "text": [
      "Father had 600 hector land\n",
      "Father had 6 property lands\n"
     ]
    }
   ],
   "source": [
    "object1.F_land()\n",
    "object1.F_property()"
   ]
  },
  {
   "cell_type": "code",
   "execution_count": 113,
   "id": "264d4bdc",
   "metadata": {},
   "outputs": [
    {
     "name": "stdout",
     "output_type": "stream",
     "text": [
      "Son has total land = 1100\n"
     ]
    }
   ],
   "source": [
    "object1.son_land()"
   ]
  },
  {
   "cell_type": "code",
   "execution_count": 114,
   "id": "426e5224",
   "metadata": {},
   "outputs": [
    {
     "name": "stdout",
     "output_type": "stream",
     "text": [
      "Son has total Property = 12\n"
     ]
    }
   ],
   "source": [
    "object1.son_property()"
   ]
  },
  {
   "cell_type": "code",
   "execution_count": 116,
   "id": "684e77b2",
   "metadata": {},
   "outputs": [
    {
     "name": "stdout",
     "output_type": "stream",
     "text": [
      "Father had 6 property lands\n"
     ]
    }
   ],
   "source": [
    "object1.F_property()"
   ]
  },
  {
   "cell_type": "code",
   "execution_count": null,
   "id": "0cec09c5",
   "metadata": {},
   "outputs": [],
   "source": []
  },
  {
   "cell_type": "code",
   "execution_count": 117,
   "id": "83708269",
   "metadata": {},
   "outputs": [],
   "source": [
    "class Baseclass():\n",
    "    def Addition(self):\n",
    "        print(f\"addition of {self.a} and {self.b} is {self.a + self.b}\")\n",
    "        \n",
    "class Baseclass1(Baseclass):\n",
    "    def Multiplication(self,a,b):\n",
    "        self.a = a\n",
    "        self.b = b\n",
    "        print(f\"multiplication of {self.a} and {self.b} is {self.a * self.b}\")\n",
    "        \n",
    "        \n",
    "class Baseclass2(Baseclass1):\n",
    "    def subtraction(self):\n",
    "        print(f\"subtraction of a {self.a} and {self.b} is {self.a - self.b}\")\n",
    "        \n",
    "        \n",
    "class DerivedClass(Baseclass2):\n",
    "    def calculation(self):\n",
    "        print(\"Calculations of a numbers\")\n",
    "        \n",
    "    def division(self):\n",
    "        print(f\"Division of a {self.a} and {self.b} is {self.a / self.b}\")\n",
    "        "
   ]
  },
  {
   "cell_type": "code",
   "execution_count": 118,
   "id": "68775c9d",
   "metadata": {},
   "outputs": [],
   "source": [
    "Calcu = DerivedClass()"
   ]
  },
  {
   "cell_type": "code",
   "execution_count": 122,
   "id": "541f3949",
   "metadata": {},
   "outputs": [
    {
     "ename": "AttributeError",
     "evalue": "'DerivedClass' object has no attribute 'a'",
     "output_type": "error",
     "traceback": [
      "\u001b[1;31m---------------------------------------------------------------------------\u001b[0m",
      "\u001b[1;31mAttributeError\u001b[0m                            Traceback (most recent call last)",
      "Input \u001b[1;32mIn [122]\u001b[0m, in \u001b[0;36m<cell line: 1>\u001b[1;34m()\u001b[0m\n\u001b[1;32m----> 1\u001b[0m \u001b[43mCalcu\u001b[49m\u001b[38;5;241;43m.\u001b[39;49m\u001b[43mAddition\u001b[49m\u001b[43m(\u001b[49m\u001b[43m)\u001b[49m\n",
      "Input \u001b[1;32mIn [117]\u001b[0m, in \u001b[0;36mBaseclass.Addition\u001b[1;34m(self)\u001b[0m\n\u001b[0;32m      2\u001b[0m \u001b[38;5;28;01mdef\u001b[39;00m \u001b[38;5;21mAddition\u001b[39m(\u001b[38;5;28mself\u001b[39m):\n\u001b[1;32m----> 3\u001b[0m     \u001b[38;5;28mprint\u001b[39m(\u001b[38;5;124mf\u001b[39m\u001b[38;5;124m\"\u001b[39m\u001b[38;5;124maddition of \u001b[39m\u001b[38;5;132;01m{\u001b[39;00m\u001b[38;5;28mself\u001b[39m\u001b[38;5;241m.\u001b[39ma\u001b[38;5;132;01m}\u001b[39;00m\u001b[38;5;124m and \u001b[39m\u001b[38;5;132;01m{\u001b[39;00m\u001b[38;5;28mself\u001b[39m\u001b[38;5;241m.\u001b[39mb\u001b[38;5;132;01m}\u001b[39;00m\u001b[38;5;124m is \u001b[39m\u001b[38;5;132;01m{\u001b[39;00m\u001b[38;5;28mself\u001b[39m\u001b[38;5;241m.\u001b[39ma \u001b[38;5;241m+\u001b[39m \u001b[38;5;28mself\u001b[39m\u001b[38;5;241m.\u001b[39mb\u001b[38;5;132;01m}\u001b[39;00m\u001b[38;5;124m\"\u001b[39m)\n",
      "\u001b[1;31mAttributeError\u001b[0m: 'DerivedClass' object has no attribute 'a'"
     ]
    }
   ],
   "source": [
    "Calcu.Addition()"
   ]
  },
  {
   "cell_type": "code",
   "execution_count": 128,
   "id": "82603872",
   "metadata": {},
   "outputs": [
    {
     "name": "stdout",
     "output_type": "stream",
     "text": [
      "multiplication of 10 and 50 is 500\n"
     ]
    }
   ],
   "source": [
    "Calcu.Multiplication(10,50) ## until and unless we call this function, other method won't run, because they will have no attributes a,b        "
   ]
  },
  {
   "cell_type": "code",
   "execution_count": 129,
   "id": "04a9218b",
   "metadata": {},
   "outputs": [
    {
     "name": "stdout",
     "output_type": "stream",
     "text": [
      "addition of 10 and 50 is 60\n"
     ]
    }
   ],
   "source": [
    "Calcu.Addition()"
   ]
  },
  {
   "cell_type": "code",
   "execution_count": 130,
   "id": "8a6118a0",
   "metadata": {},
   "outputs": [
    {
     "name": "stdout",
     "output_type": "stream",
     "text": [
      "Calculations of a numbers\n"
     ]
    }
   ],
   "source": [
    "Calcu.calculation()"
   ]
  },
  {
   "cell_type": "code",
   "execution_count": 131,
   "id": "b986adc9",
   "metadata": {},
   "outputs": [
    {
     "name": "stdout",
     "output_type": "stream",
     "text": [
      "subtraction of a 10 and 50 is -40\n"
     ]
    }
   ],
   "source": [
    "Calcu.subtraction()"
   ]
  },
  {
   "cell_type": "code",
   "execution_count": 132,
   "id": "add31716",
   "metadata": {},
   "outputs": [
    {
     "name": "stdout",
     "output_type": "stream",
     "text": [
      "Division of a 10 and 50 is 0.2\n"
     ]
    }
   ],
   "source": [
    "Calcu.division()"
   ]
  },
  {
   "cell_type": "code",
   "execution_count": null,
   "id": "bea92ba9",
   "metadata": {},
   "outputs": [],
   "source": []
  },
  {
   "cell_type": "code",
   "execution_count": 138,
   "id": "3c59bb33",
   "metadata": {},
   "outputs": [],
   "source": [
    "class Baseclass():\n",
    "    \n",
    "    def Addition(self):\n",
    "        print(f\"addition of {self.a} and {self.b} is {self.a + self.b}\")\n",
    "        \n",
    "class Baseclass1(Baseclass):\n",
    "    \n",
    "    def Multiplication(self):\n",
    "        print(f\"multiplication of {self.a} and {self.b} is {self.a * self.b}\")\n",
    "        \n",
    "        \n",
    "class Baseclass2(Baseclass1):\n",
    "    \n",
    "    def subtraction(self):\n",
    "        print(f\"subtraction of a {self.a} and {self.b} is {self.a - self.b}\")\n",
    "        \n",
    "        \n",
    "class DerivedClass(Baseclass2):\n",
    "    \n",
    "    def __init__(self, a, b):\n",
    "        self.a = a\n",
    "        self.b = b\n",
    "        \n",
    "    def calculation(self):\n",
    "        print(\"Calculations of a numbers\")\n",
    "        \n",
    "    def division(self):\n",
    "        print(f\"Division of a {self.a} and {self.b} is {self.a / self.b}\")\n",
    "        "
   ]
  },
  {
   "cell_type": "code",
   "execution_count": 139,
   "id": "69925d8d",
   "metadata": {},
   "outputs": [
    {
     "name": "stdout",
     "output_type": "stream",
     "text": [
      "Calculations of a numbers\n",
      "addition of 50 and 100 is 150\n",
      "multiplication of 50 and 100 is 5000\n",
      "subtraction of a 50 and 100 is -50\n",
      "Division of a 50 and 100 is 0.5\n"
     ]
    }
   ],
   "source": [
    "ob1 = DerivedClass(50,100)\n",
    "ob1.calculation()\n",
    "ob1.Addition()\n",
    "ob1.Multiplication()\n",
    "ob1.subtraction()\n",
    "ob1.division()"
   ]
  },
  {
   "cell_type": "code",
   "execution_count": null,
   "id": "9e73bf79",
   "metadata": {},
   "outputs": [],
   "source": []
  },
  {
   "cell_type": "code",
   "execution_count": 1,
   "id": "6a24504b",
   "metadata": {},
   "outputs": [],
   "source": [
    "class GrandFather():\n",
    "    \n",
    "    def __init__(self, land, properties):\n",
    "        print(\"Initialising __init__() in Grandfather\")\n",
    "        self.land = land\n",
    "        self.properties = properties\n",
    "        \n",
    "    def G_land(self):\n",
    "        \"\"\"GrandFather Land \"\"\"\n",
    "        print(f\"GrandFather had {self.land} hector land\")\n",
    "        \n",
    "    def G_property(self):\n",
    "        \"\"\"GrandFather Property \"\"\"\n",
    "        print(f\"GrandFather had {self.properties} property lands\")\n",
    "        \n",
    "        \n",
    "        \n",
    "        \n",
    "        \n",
    "class Father(GrandFather):\n",
    "    \n",
    "    def __init__(self, land1, properties1):\n",
    "        print(\"Initialising __init__() in Father\")\n",
    "        self.land1 = land1\n",
    "        self.properties1 = properties1\n",
    "    \n",
    "    def F_land(self):\n",
    "        \"\"\"Father F_land\"\"\"\n",
    "        \n",
    "        self.L_total = self.land + self.land1\n",
    "        print(f\"Father had {self.L_total} hector land\")\n",
    "        \n",
    "    def F_property(self):\n",
    "        \"\"\"Father F_Property\"\"\"\n",
    "        self.P_total = self.properties + self.properties1\n",
    "        print(f\"Father had {self.P_total} property lands\")\n",
    "        \n",
    "        \n",
    "        \n",
    "\n",
    "class Child(Father):\n",
    "    def __init__(self, land, properties, land1, properties1, land2, property2):\n",
    "        \n",
    "        \n",
    "        print(\"Initialising __init__() in Child\")\n",
    "        super().__init__(land, properties)\n",
    "        super().__init__(land1, properties1)\n",
    "        self.land2 = land2\n",
    "        self.property2 = property2\n",
    "        \n",
    "    def son_land(self):\n",
    "        \"\"\"Son Land\"\"\"\n",
    "        \n",
    "        self.SL_total = self.L_total + self.land2\n",
    "        print(f\"Son has total land = {self.SL_total}\")\n",
    "        \n",
    "    def son_property(self):\n",
    "        \"\"\"Son property\"\"\"\n",
    "        \n",
    "        self.SP_total = self.P_total  + self.property2\n",
    "        print(f\"Son has total Property = {self.SP_total}\")        "
   ]
  },
  {
   "cell_type": "code",
   "execution_count": 2,
   "id": "bbd4b1c8",
   "metadata": {},
   "outputs": [
    {
     "name": "stdout",
     "output_type": "stream",
     "text": [
      "Initialising __init__() in Child\n",
      "Initialising __init__() in Father\n",
      "Initialising __init__() in Father\n"
     ]
    }
   ],
   "source": [
    "a1 = Child(land = 20, properties = 2, land1 = 30, properties1 = 4, land2 = 60, property2 = 6)"
   ]
  },
  {
   "cell_type": "code",
   "execution_count": 6,
   "id": "d140e649",
   "metadata": {},
   "outputs": [
    {
     "ename": "AttributeError",
     "evalue": "'Child' object has no attribute 'land'",
     "output_type": "error",
     "traceback": [
      "\u001b[1;31m---------------------------------------------------------------------------\u001b[0m",
      "\u001b[1;31mAttributeError\u001b[0m                            Traceback (most recent call last)",
      "Input \u001b[1;32mIn [6]\u001b[0m, in \u001b[0;36m<cell line: 1>\u001b[1;34m()\u001b[0m\n\u001b[1;32m----> 1\u001b[0m \u001b[43ma1\u001b[49m\u001b[38;5;241;43m.\u001b[39;49m\u001b[43mF_land\u001b[49m\u001b[43m(\u001b[49m\u001b[43m)\u001b[49m\n\u001b[0;32m      2\u001b[0m a1\u001b[38;5;241m.\u001b[39mG_land()\n",
      "Input \u001b[1;32mIn [1]\u001b[0m, in \u001b[0;36mFather.F_land\u001b[1;34m(self)\u001b[0m\n\u001b[0;32m     27\u001b[0m \u001b[38;5;28;01mdef\u001b[39;00m \u001b[38;5;21mF_land\u001b[39m(\u001b[38;5;28mself\u001b[39m):\n\u001b[0;32m     28\u001b[0m     \u001b[38;5;124;03m\"\"\"Father F_land\"\"\"\u001b[39;00m\n\u001b[1;32m---> 30\u001b[0m     \u001b[38;5;28mself\u001b[39m\u001b[38;5;241m.\u001b[39mL_total \u001b[38;5;241m=\u001b[39m \u001b[38;5;28;43mself\u001b[39;49m\u001b[38;5;241;43m.\u001b[39;49m\u001b[43mland\u001b[49m \u001b[38;5;241m+\u001b[39m \u001b[38;5;28mself\u001b[39m\u001b[38;5;241m.\u001b[39mland1\n\u001b[0;32m     31\u001b[0m     \u001b[38;5;28mprint\u001b[39m(\u001b[38;5;124mf\u001b[39m\u001b[38;5;124m\"\u001b[39m\u001b[38;5;124mFather had \u001b[39m\u001b[38;5;132;01m{\u001b[39;00m\u001b[38;5;28mself\u001b[39m\u001b[38;5;241m.\u001b[39mL_total\u001b[38;5;132;01m}\u001b[39;00m\u001b[38;5;124m hector land\u001b[39m\u001b[38;5;124m\"\u001b[39m)\n",
      "\u001b[1;31mAttributeError\u001b[0m: 'Child' object has no attribute 'land'"
     ]
    }
   ],
   "source": [
    "a1.F_land()\n"
   ]
  },
  {
   "cell_type": "code",
   "execution_count": 7,
   "id": "d779a0ee",
   "metadata": {},
   "outputs": [
    {
     "ename": "AttributeError",
     "evalue": "'Child' object has no attribute 'land'",
     "output_type": "error",
     "traceback": [
      "\u001b[1;31m---------------------------------------------------------------------------\u001b[0m",
      "\u001b[1;31mAttributeError\u001b[0m                            Traceback (most recent call last)",
      "Input \u001b[1;32mIn [7]\u001b[0m, in \u001b[0;36m<cell line: 1>\u001b[1;34m()\u001b[0m\n\u001b[1;32m----> 1\u001b[0m \u001b[43ma1\u001b[49m\u001b[38;5;241;43m.\u001b[39;49m\u001b[43mG_land\u001b[49m\u001b[43m(\u001b[49m\u001b[43m)\u001b[49m\n",
      "Input \u001b[1;32mIn [1]\u001b[0m, in \u001b[0;36mGrandFather.G_land\u001b[1;34m(self)\u001b[0m\n\u001b[0;32m      8\u001b[0m \u001b[38;5;28;01mdef\u001b[39;00m \u001b[38;5;21mG_land\u001b[39m(\u001b[38;5;28mself\u001b[39m):\n\u001b[0;32m      9\u001b[0m     \u001b[38;5;124;03m\"\"\"GrandFather Land \"\"\"\u001b[39;00m\n\u001b[1;32m---> 10\u001b[0m     \u001b[38;5;28mprint\u001b[39m(\u001b[38;5;124mf\u001b[39m\u001b[38;5;124m\"\u001b[39m\u001b[38;5;124mGrandFather had \u001b[39m\u001b[38;5;132;01m{\u001b[39;00m\u001b[38;5;28mself\u001b[39m\u001b[38;5;241m.\u001b[39mland\u001b[38;5;132;01m}\u001b[39;00m\u001b[38;5;124m hector land\u001b[39m\u001b[38;5;124m\"\u001b[39m)\n",
      "\u001b[1;31mAttributeError\u001b[0m: 'Child' object has no attribute 'land'"
     ]
    }
   ],
   "source": [
    "a1.G_land()"
   ]
  },
  {
   "cell_type": "code",
   "execution_count": null,
   "id": "5337fb6a",
   "metadata": {},
   "outputs": [],
   "source": []
  },
  {
   "cell_type": "code",
   "execution_count": null,
   "id": "33f0f8eb",
   "metadata": {},
   "outputs": [],
   "source": []
  },
  {
   "cell_type": "code",
   "execution_count": 3,
   "id": "9216ea55",
   "metadata": {},
   "outputs": [],
   "source": [
    "class GrandFather():\n",
    "    \n",
    "    def __init__(self, land, properties):\n",
    "        print(\"Initialising __init__() in Grandfather\")\n",
    "        self.land = land\n",
    "        self.properties = properties\n",
    "        \n",
    "    def G_land(self):\n",
    "        \"\"\"GrandFather Land \"\"\"\n",
    "        print(f\"GrandFather had {self.land} hector land\")\n",
    "        \n",
    "    def G_property(self):\n",
    "        \"\"\"GrandFather Property \"\"\"\n",
    "        print(f\"GrandFather had {self.properties} property lands\")\n",
    "        \n",
    "        \n",
    "        \n",
    "class Father(GrandFather):\n",
    "    \n",
    "    def __init__(self, land1, properties1):\n",
    "        GrandFather.__init__(land, properties)\n",
    "        \n",
    "        print(\"Initialising __init__() in Father\")\n",
    "        self.land1 = land1\n",
    "        self.properties1 = properties1\n",
    "    \n",
    "    def F_land(self):\n",
    "        \"\"\"Father F_land\"\"\"\n",
    "        \n",
    "        self.L_total = self.land + self.land1\n",
    "        print(f\"Father had {self.L_total} hector land\")\n",
    "        \n",
    "    def F_property(self):\n",
    "        \"\"\"Father F_Property\"\"\"\n",
    "        self.P_total = self.properties + self.properties1\n",
    "        print(f\"Father had {self.P_total} property lands\")\n",
    "        \n",
    "        \n",
    "        \n",
    "\n",
    "class Child(Father):\n",
    "    def __init__(self, land1, properties1,  land2, property2):\n",
    "        \n",
    "        \n",
    "        print(\"Initialising __init__() in Child\")\n",
    "        super().__init__(land1, properties1)\n",
    "        self.land2 = land2\n",
    "        self.property2 = property2\n",
    "        \n",
    "    def son_land(self):\n",
    "        \"\"\"Son Land\"\"\"\n",
    "        \n",
    "        self.SL_total = self.L_total + self.land2\n",
    "        print(f\"Son has total land = {self.SL_total}\")\n",
    "        \n",
    "    def son_property(self):\n",
    "        \"\"\"Son property\"\"\"\n",
    "        \n",
    "        self.SP_total = self.P_total  + self.property2\n",
    "        print(f\"Son has total Property = {self.SP_total}\")        "
   ]
  },
  {
   "cell_type": "code",
   "execution_count": 4,
   "id": "0f9325b8",
   "metadata": {},
   "outputs": [
    {
     "name": "stdout",
     "output_type": "stream",
     "text": [
      "Initialising __init__() in Child\n"
     ]
    },
    {
     "ename": "NameError",
     "evalue": "name 'land' is not defined",
     "output_type": "error",
     "traceback": [
      "\u001b[1;31m---------------------------------------------------------------------------\u001b[0m",
      "\u001b[1;31mNameError\u001b[0m                                 Traceback (most recent call last)",
      "Input \u001b[1;32mIn [4]\u001b[0m, in \u001b[0;36m<cell line: 1>\u001b[1;34m()\u001b[0m\n\u001b[1;32m----> 1\u001b[0m second_method \u001b[38;5;241m=\u001b[39m \u001b[43mChild\u001b[49m\u001b[43m(\u001b[49m\u001b[43mland1\u001b[49m\u001b[43m \u001b[49m\u001b[38;5;241;43m=\u001b[39;49m\u001b[43m \u001b[49m\u001b[38;5;241;43m10\u001b[39;49m\u001b[43m,\u001b[49m\u001b[43m \u001b[49m\u001b[43mproperties1\u001b[49m\u001b[43m \u001b[49m\u001b[38;5;241;43m=\u001b[39;49m\u001b[43m \u001b[49m\u001b[38;5;241;43m20\u001b[39;49m\u001b[43m \u001b[49m\u001b[43m,\u001b[49m\u001b[43mland2\u001b[49m\u001b[43m \u001b[49m\u001b[38;5;241;43m=\u001b[39;49m\u001b[43m \u001b[49m\u001b[38;5;241;43m60\u001b[39;49m\u001b[43m,\u001b[49m\u001b[43m \u001b[49m\u001b[43mproperty2\u001b[49m\u001b[43m \u001b[49m\u001b[38;5;241;43m=\u001b[39;49m\u001b[43m \u001b[49m\u001b[38;5;241;43m60\u001b[39;49m\u001b[43m)\u001b[49m\n",
      "Input \u001b[1;32mIn [3]\u001b[0m, in \u001b[0;36mChild.__init__\u001b[1;34m(self, land1, properties1, land2, property2)\u001b[0m\n\u001b[0;32m     42\u001b[0m \u001b[38;5;28;01mdef\u001b[39;00m \u001b[38;5;21m__init__\u001b[39m(\u001b[38;5;28mself\u001b[39m, land1, properties1,  land2, property2):\n\u001b[0;32m     45\u001b[0m     \u001b[38;5;28mprint\u001b[39m(\u001b[38;5;124m\"\u001b[39m\u001b[38;5;124mInitialising __init__() in Child\u001b[39m\u001b[38;5;124m\"\u001b[39m)\n\u001b[1;32m---> 46\u001b[0m     \u001b[38;5;28;43msuper\u001b[39;49m\u001b[43m(\u001b[49m\u001b[43m)\u001b[49m\u001b[38;5;241;43m.\u001b[39;49m\u001b[38;5;21;43m__init__\u001b[39;49m\u001b[43m(\u001b[49m\u001b[43mland1\u001b[49m\u001b[43m,\u001b[49m\u001b[43m \u001b[49m\u001b[43mproperties1\u001b[49m\u001b[43m)\u001b[49m\n\u001b[0;32m     47\u001b[0m     \u001b[38;5;28mself\u001b[39m\u001b[38;5;241m.\u001b[39mland2 \u001b[38;5;241m=\u001b[39m land2\n\u001b[0;32m     48\u001b[0m     \u001b[38;5;28mself\u001b[39m\u001b[38;5;241m.\u001b[39mproperty2 \u001b[38;5;241m=\u001b[39m property2\n",
      "Input \u001b[1;32mIn [3]\u001b[0m, in \u001b[0;36mFather.__init__\u001b[1;34m(self, land1, properties1)\u001b[0m\n\u001b[0;32m     20\u001b[0m \u001b[38;5;28;01mdef\u001b[39;00m \u001b[38;5;21m__init__\u001b[39m(\u001b[38;5;28mself\u001b[39m, land1, properties1):\n\u001b[1;32m---> 21\u001b[0m     GrandFather\u001b[38;5;241m.\u001b[39m\u001b[38;5;21m__init__\u001b[39m(\u001b[43mland\u001b[49m, properties)\n\u001b[0;32m     23\u001b[0m     \u001b[38;5;28mprint\u001b[39m(\u001b[38;5;124m\"\u001b[39m\u001b[38;5;124mInitialising __init__() in Father\u001b[39m\u001b[38;5;124m\"\u001b[39m)\n\u001b[0;32m     24\u001b[0m     \u001b[38;5;28mself\u001b[39m\u001b[38;5;241m.\u001b[39mland1 \u001b[38;5;241m=\u001b[39m land1\n",
      "\u001b[1;31mNameError\u001b[0m: name 'land' is not defined"
     ]
    }
   ],
   "source": [
    "second_method = Child(land1 = 10, properties1 = 20 ,land2 = 60, property2 = 60)"
   ]
  },
  {
   "cell_type": "code",
   "execution_count": null,
   "id": "773f1ebb",
   "metadata": {},
   "outputs": [],
   "source": []
  },
  {
   "cell_type": "code",
   "execution_count": null,
   "id": "9ad67323",
   "metadata": {},
   "outputs": [],
   "source": []
  },
  {
   "cell_type": "code",
   "execution_count": 163,
   "id": "22f1d52b",
   "metadata": {},
   "outputs": [],
   "source": [
    "class GrandFather():\n",
    "    \n",
    "    def __init__(self, land, properties):\n",
    "        print(\"Initialising __init__() in Grandfather\")\n",
    "        self.land = land\n",
    "        self.properties = properties\n",
    "        \n",
    "    def G_land(self):\n",
    "        \"\"\"GrandFather Land \"\"\"\n",
    "        print(f\"GrandFather had {self.land} hector land\")\n",
    "        \n",
    "    def G_property(self):\n",
    "        \"\"\"GrandFather Property \"\"\"\n",
    "        print(f\"GrandFather had {self.properties} property lands\")\n",
    "        \n",
    "        \n",
    "        \n",
    "        \n",
    "        \n",
    "class Father(GrandFather):\n",
    "    \n",
    "    def __init__(self, land1, properties1):\n",
    "        print(\"Initialising __init__() in Father\")\n",
    "        self.land1 = land1\n",
    "        self.properties1 = properties1\n",
    "    \n",
    "    def F_land(self):\n",
    "        \"\"\"Father F_land\"\"\"\n",
    "        \n",
    "        self.L_total = self.land + self.land1\n",
    "        print(f\"Father had {self.L_total} hector land\")\n",
    "        \n",
    "    def F_property(self):\n",
    "        \"\"\"Father F_Property\"\"\"\n",
    "        self.P_total = self.properties + self.properties1\n",
    "        print(f\"Father had {self.P_total} property lands\")\n",
    "        \n",
    "        \n",
    "        \n",
    "\n",
    "class Child(Father):\n",
    "    def __init__(self, land, properties, land1, properties1, land2, property2):\n",
    "        \n",
    "        \n",
    "        print(\"Initialising __init__() in Child\")\n",
    "        super().__init__(land, properties)     ####################\n",
    "        self.land2 = land2\n",
    "        self.property2 = property2\n",
    "        \n",
    "    def son_land(self):\n",
    "        \"\"\"Son Land\"\"\"\n",
    "        \n",
    "        self.SL_total = self.L_total + self.land2\n",
    "        print(f\"Son has total land = {self.SL_total}\")\n",
    "        \n",
    "    def son_property(self):\n",
    "        \"\"\"Son property\"\"\"\n",
    "        \n",
    "        self.SP_total = self.P_total  + self.property2\n",
    "        print(f\"Son has total Property = {self.SP_total}\")        "
   ]
  },
  {
   "cell_type": "code",
   "execution_count": 164,
   "id": "e427e3a3",
   "metadata": {},
   "outputs": [
    {
     "name": "stdout",
     "output_type": "stream",
     "text": [
      "Initialising __init__() in Child\n",
      "Initialising __init__() in Father\n"
     ]
    }
   ],
   "source": [
    "A2 = Child(land = 20, properties = 2, land1 = 30, properties1 = 4, land2 = 60, property2 = 6)"
   ]
  },
  {
   "cell_type": "code",
   "execution_count": 165,
   "id": "a5bc7b3d",
   "metadata": {},
   "outputs": [
    {
     "ename": "AttributeError",
     "evalue": "'Child' object has no attribute 'land'",
     "output_type": "error",
     "traceback": [
      "\u001b[1;31m---------------------------------------------------------------------------\u001b[0m",
      "\u001b[1;31mAttributeError\u001b[0m                            Traceback (most recent call last)",
      "Input \u001b[1;32mIn [165]\u001b[0m, in \u001b[0;36m<cell line: 1>\u001b[1;34m()\u001b[0m\n\u001b[1;32m----> 1\u001b[0m \u001b[43mA2\u001b[49m\u001b[38;5;241;43m.\u001b[39;49m\u001b[43mG_land\u001b[49m\u001b[43m(\u001b[49m\u001b[43m)\u001b[49m\n",
      "Input \u001b[1;32mIn [163]\u001b[0m, in \u001b[0;36mGrandFather.G_land\u001b[1;34m(self)\u001b[0m\n\u001b[0;32m      8\u001b[0m \u001b[38;5;28;01mdef\u001b[39;00m \u001b[38;5;21mG_land\u001b[39m(\u001b[38;5;28mself\u001b[39m):\n\u001b[0;32m      9\u001b[0m     \u001b[38;5;124;03m\"\"\"GrandFather Land \"\"\"\u001b[39;00m\n\u001b[1;32m---> 10\u001b[0m     \u001b[38;5;28mprint\u001b[39m(\u001b[38;5;124mf\u001b[39m\u001b[38;5;124m\"\u001b[39m\u001b[38;5;124mGrandFather had \u001b[39m\u001b[38;5;132;01m{\u001b[39;00m\u001b[38;5;28mself\u001b[39m\u001b[38;5;241m.\u001b[39mland\u001b[38;5;132;01m}\u001b[39;00m\u001b[38;5;124m hector land\u001b[39m\u001b[38;5;124m\"\u001b[39m)\n",
      "\u001b[1;31mAttributeError\u001b[0m: 'Child' object has no attribute 'land'"
     ]
    }
   ],
   "source": [
    "A2.G_land()"
   ]
  },
  {
   "cell_type": "code",
   "execution_count": null,
   "id": "7e50a6c3",
   "metadata": {},
   "outputs": [],
   "source": []
  },
  {
   "cell_type": "code",
   "execution_count": null,
   "id": "623c6b6e",
   "metadata": {},
   "outputs": [],
   "source": []
  },
  {
   "cell_type": "markdown",
   "id": "a0ad32d1",
   "metadata": {},
   "source": [
    "### Multiple inheritance"
   ]
  },
  {
   "cell_type": "code",
   "execution_count": 176,
   "id": "f753a528",
   "metadata": {},
   "outputs": [],
   "source": [
    "class BaseClass1():\n",
    "    pass\n",
    "\n",
    "class BaseClass2():\n",
    "    pass\n",
    "\n",
    "class DerivedClass(BaseClass1, BaseClass2):\n",
    "    pass"
   ]
  },
  {
   "cell_type": "code",
   "execution_count": null,
   "id": "c7eaa202",
   "metadata": {},
   "outputs": [],
   "source": []
  },
  {
   "cell_type": "code",
   "execution_count": 189,
   "id": "1ae2e24a",
   "metadata": {},
   "outputs": [],
   "source": [
    "class mother():\n",
    "    def nature(self):\n",
    "        print(\"strong nature\")\n",
    "        \n",
    "        \n",
    "class father():\n",
    "    def resposibility(self):\n",
    "        print(\"hardworker\")\n",
    "        \n",
    "        \n",
    "class son(mother, father):\n",
    "    \"\"\"In Multiple inheritance there will be more than one classes will be inherited \"\"\"\n",
    "    \n",
    "    def combo1(self):\n",
    "        print(\"son is hardworker and smart\")\n",
    "        \n",
    "    def combo2(self):\n",
    "        print(\"Son has strong nature\")"
   ]
  },
  {
   "cell_type": "code",
   "execution_count": 190,
   "id": "373fb38d",
   "metadata": {},
   "outputs": [],
   "source": [
    "Multi_inh = son()"
   ]
  },
  {
   "cell_type": "code",
   "execution_count": 191,
   "id": "b27b79d6",
   "metadata": {},
   "outputs": [
    {
     "name": "stdout",
     "output_type": "stream",
     "text": [
      "strong nature\n"
     ]
    }
   ],
   "source": [
    "Multi_inh.nature()"
   ]
  },
  {
   "cell_type": "code",
   "execution_count": 192,
   "id": "fa598af1",
   "metadata": {},
   "outputs": [
    {
     "name": "stdout",
     "output_type": "stream",
     "text": [
      "son is hardworker and smart\n"
     ]
    }
   ],
   "source": [
    "Multi_inh.combo1()"
   ]
  },
  {
   "cell_type": "code",
   "execution_count": 193,
   "id": "81470a6f",
   "metadata": {},
   "outputs": [
    {
     "name": "stdout",
     "output_type": "stream",
     "text": [
      "Son has strong nature\n"
     ]
    }
   ],
   "source": [
    "Multi_inh.combo2()"
   ]
  },
  {
   "cell_type": "code",
   "execution_count": 194,
   "id": "9a00ab8f",
   "metadata": {},
   "outputs": [
    {
     "name": "stdout",
     "output_type": "stream",
     "text": [
      "hardworker\n"
     ]
    }
   ],
   "source": [
    "Multi_inh.resposibility()"
   ]
  },
  {
   "cell_type": "code",
   "execution_count": null,
   "id": "ce05e69f",
   "metadata": {},
   "outputs": [],
   "source": []
  },
  {
   "cell_type": "code",
   "execution_count": 208,
   "id": "f8a7f7e4",
   "metadata": {},
   "outputs": [],
   "source": [
    "class Baseclass1():\n",
    "    def addition(self):\n",
    "        print(f\"addition of {self.a} and {self.b} is {self.a + self.b}\")\n",
    "        \n",
    "        \n",
    "class Baseclass2():\n",
    "    def Division(self):\n",
    "        print(f\"division of {self.a} and {self.b} is  {self.a / self.b}\")\n",
    "        \n",
    "        \n",
    "class DerivedClass(Baseclass1, Baseclass2):\n",
    "    def __init__(self, a, b):\n",
    "        print(\"Initialising __init__() Method\")\n",
    "        self.a = a\n",
    "        self.b = b\n",
    "        \n",
    "    def calculation(self):\n",
    "        self.Division()\n",
    "        self.addition()"
   ]
  },
  {
   "cell_type": "code",
   "execution_count": 213,
   "id": "49dbe5fd",
   "metadata": {},
   "outputs": [
    {
     "name": "stdout",
     "output_type": "stream",
     "text": [
      "Initialising __init__() Method\n",
      "division of 50 and 40 is  1.25\n",
      "addition of 50 and 40 is 90\n",
      "%%%%%%%%%%%%%%%%%%%%%%%%%%%%%%%%%%%%%%%%%%%%%\n",
      "addition of 50 and 40 is 90\n",
      "division of 50 and 40 is  1.25\n"
     ]
    }
   ],
   "source": [
    "m1 = DerivedClass(50,40)\n",
    "m1.calculation()\n",
    "print(\"%\"*45)\n",
    "m1.addition()\n",
    "m1.Division()"
   ]
  },
  {
   "cell_type": "code",
   "execution_count": null,
   "id": "f868d2e2",
   "metadata": {},
   "outputs": [],
   "source": []
  },
  {
   "cell_type": "code",
   "execution_count": null,
   "id": "1293c1c4",
   "metadata": {},
   "outputs": [],
   "source": []
  },
  {
   "cell_type": "code",
   "execution_count": 236,
   "id": "14632a86",
   "metadata": {},
   "outputs": [],
   "source": [
    "class BaseClass11():\n",
    "    \"\"\"Multiple inheritance This will perform addition\"\"\"\n",
    "    def __init__(self, a, b):\n",
    "        self.a = a\n",
    "        self.b = b\n",
    "        \n",
    "    def Addition(self):\n",
    "        self.add = self.a + self.b\n",
    "        print(f\"Addition of {self.a} and {self.b} is {self.add}\")\n",
    "        \n",
    "        \n",
    "class BaseClass12():\n",
    "    \"\"\"This class will perform multiplication\"\"\"\n",
    "    def __init__(self, a1, b1):\n",
    "        self.a1 = a1\n",
    "        self.b1 = b1\n",
    "        \n",
    "    def Multiplication(self):\n",
    "        self.multi = self.a1 * self.b1\n",
    "        print(f\"Multiplication of a number is:- {self.multi}\")\n",
    "        \n",
    "\n",
    "class DerivedClass(BaseClass11, BaseClass12):\n",
    "    \n",
    "    def __init__(self, a, b, a1, b1, a3, b3):\n",
    "        \n",
    "        self.a3 = a3\n",
    "        self.b3 = b3\n",
    "        BaseClass11.__init__(self, a, b)\n",
    "        BaseClass12.__init__(self, a1, b1)\n",
    "        \n",
    "\n",
    "    def division(self):\n",
    "        \"\"\"This class will perform  division\"\"\"\n",
    "        self.div = self.a3 / self.b3\n",
    "        print(f\"division of {self.a3} and {self.b3} is:- {self.div}\")"
   ]
  },
  {
   "cell_type": "code",
   "execution_count": null,
   "id": "e79d072d",
   "metadata": {},
   "outputs": [],
   "source": []
  },
  {
   "cell_type": "code",
   "execution_count": 235,
   "id": "83990f43",
   "metadata": {},
   "outputs": [
    {
     "name": "stdout",
     "output_type": "stream",
     "text": [
      "Addition of 10 and 20 is 30\n",
      "Multiplication of a number is:- 1200\n",
      "division of 50 and 60 is:- 0.8333333333333334\n"
     ]
    }
   ],
   "source": [
    "M3 = DerivedClass(10,20,30,40,50,60)\n",
    "M3.Addition()\n",
    "M3.Multiplication()\n",
    "M3.division()"
   ]
  },
  {
   "cell_type": "code",
   "execution_count": null,
   "id": "7b8535af",
   "metadata": {},
   "outputs": [],
   "source": []
  },
  {
   "cell_type": "code",
   "execution_count": null,
   "id": "2b4c4f55",
   "metadata": {},
   "outputs": [],
   "source": []
  },
  {
   "cell_type": "code",
   "execution_count": null,
   "id": "bc7c1fd7",
   "metadata": {},
   "outputs": [],
   "source": []
  },
  {
   "cell_type": "code",
   "execution_count": null,
   "id": "91436bb3",
   "metadata": {},
   "outputs": [],
   "source": []
  },
  {
   "cell_type": "code",
   "execution_count": null,
   "id": "2e118290",
   "metadata": {},
   "outputs": [],
   "source": []
  },
  {
   "cell_type": "code",
   "execution_count": null,
   "id": "3916dc8b",
   "metadata": {},
   "outputs": [],
   "source": []
  },
  {
   "cell_type": "code",
   "execution_count": 294,
   "id": "4c172527",
   "metadata": {},
   "outputs": [],
   "source": [
    "class A:\n",
    "    def __init__(self,a, b):\n",
    "        self.a = a\n",
    "        self.b = b \n",
    "        \n",
    "class B(A):\n",
    "    def __init__(self, a, b, a1, b1):\n",
    "        self.a1 = a1\n",
    "        self.b1 = b1\n",
    "        super().__init__(a,b)\n",
    "        \n",
    "    def additon(self):\n",
    "        self.add = self.a + self.b\n",
    "        print(f\"additono of {self.a} and {self.b} is {self.add}\")"
   ]
  },
  {
   "cell_type": "code",
   "execution_count": 295,
   "id": "cd96702e",
   "metadata": {},
   "outputs": [],
   "source": [
    "c1 = B(10,50,20,30)"
   ]
  },
  {
   "cell_type": "code",
   "execution_count": 296,
   "id": "fc44b2c6",
   "metadata": {},
   "outputs": [
    {
     "name": "stdout",
     "output_type": "stream",
     "text": [
      "additono of 10 and 50 is 60\n"
     ]
    }
   ],
   "source": [
    "c1.additon()"
   ]
  },
  {
   "cell_type": "code",
   "execution_count": 297,
   "id": "392b5a86",
   "metadata": {},
   "outputs": [],
   "source": [
    "class A():\n",
    "    def __init__(self,a, b):\n",
    "        self.a = a\n",
    "        self.b = b \n",
    "        \n",
    "    def additon(self):\n",
    "        self.add = self.a + self.b\n",
    "        print(f\"additono of {self.a} and {self.b} is {self.add}\")\n",
    "        \n",
    "class B(A):\n",
    "    def __init__(self, a, b):\n",
    "        A.__init__(self, a, b)\n"
   ]
  },
  {
   "cell_type": "code",
   "execution_count": 277,
   "id": "e422dde1",
   "metadata": {},
   "outputs": [],
   "source": [
    "c2 = B(6,40)"
   ]
  },
  {
   "cell_type": "code",
   "execution_count": 278,
   "id": "5667ccf3",
   "metadata": {},
   "outputs": [
    {
     "name": "stdout",
     "output_type": "stream",
     "text": [
      "additono of 6 and 40 is 46\n"
     ]
    }
   ],
   "source": [
    "c2.additon()"
   ]
  },
  {
   "cell_type": "code",
   "execution_count": null,
   "id": "9dd5efac",
   "metadata": {},
   "outputs": [],
   "source": []
  },
  {
   "cell_type": "code",
   "execution_count": null,
   "id": "7b129adf",
   "metadata": {},
   "outputs": [],
   "source": []
  },
  {
   "cell_type": "code",
   "execution_count": null,
   "id": "02668632",
   "metadata": {},
   "outputs": [],
   "source": []
  },
  {
   "cell_type": "markdown",
   "id": "55f4c29c",
   "metadata": {},
   "source": [
    "### Polymorphism"
   ]
  },
  {
   "cell_type": "code",
   "execution_count": 298,
   "id": "877429e0",
   "metadata": {},
   "outputs": [],
   "source": [
    "def say_hello():\n",
    "    print(\"Hello\")\n",
    "    \n",
    "def say_hello():\n",
    "    print(\"Hello2\")"
   ]
  },
  {
   "cell_type": "code",
   "execution_count": 299,
   "id": "5789845a",
   "metadata": {},
   "outputs": [
    {
     "name": "stdout",
     "output_type": "stream",
     "text": [
      "Hello2\n"
     ]
    }
   ],
   "source": [
    "say_hello()"
   ]
  },
  {
   "cell_type": "code",
   "execution_count": 311,
   "id": "d8fe8933",
   "metadata": {},
   "outputs": [],
   "source": [
    "class Base1():\n",
    "    def say_hello(self):\n",
    "        print(\"Hello\")\n",
    "        \n",
    "class Base2():\n",
    "    def say_hello(self):\n",
    "        print(\"Hello2\")"
   ]
  },
  {
   "cell_type": "code",
   "execution_count": 312,
   "id": "982fd256",
   "metadata": {},
   "outputs": [],
   "source": [
    "c1 = Base1()\n",
    "c2 = Base2()"
   ]
  },
  {
   "cell_type": "code",
   "execution_count": 313,
   "id": "26a28b55",
   "metadata": {},
   "outputs": [
    {
     "name": "stdout",
     "output_type": "stream",
     "text": [
      "Hello\n"
     ]
    }
   ],
   "source": [
    "c1.say_hello()"
   ]
  },
  {
   "cell_type": "code",
   "execution_count": 314,
   "id": "337cfe82",
   "metadata": {},
   "outputs": [
    {
     "name": "stdout",
     "output_type": "stream",
     "text": [
      "Hello2\n"
     ]
    }
   ],
   "source": [
    "c2.say_hello()"
   ]
  },
  {
   "cell_type": "code",
   "execution_count": 315,
   "id": "91edae40",
   "metadata": {},
   "outputs": [
    {
     "name": "stdout",
     "output_type": "stream",
     "text": [
      "Hello\n"
     ]
    }
   ],
   "source": [
    "c1.say_hello()"
   ]
  },
  {
   "cell_type": "code",
   "execution_count": null,
   "id": "1cebab52",
   "metadata": {},
   "outputs": [],
   "source": []
  },
  {
   "cell_type": "code",
   "execution_count": 317,
   "id": "b0881f91",
   "metadata": {},
   "outputs": [
    {
     "name": "stdout",
     "output_type": "stream",
     "text": [
      "Help on built-in module math:\n",
      "\n",
      "NAME\n",
      "    math\n",
      "\n",
      "DESCRIPTION\n",
      "    This module provides access to the mathematical functions\n",
      "    defined by the C standard.\n",
      "\n",
      "FUNCTIONS\n",
      "    acos(x, /)\n",
      "        Return the arc cosine (measured in radians) of x.\n",
      "        \n",
      "        The result is between 0 and pi.\n",
      "    \n",
      "    acosh(x, /)\n",
      "        Return the inverse hyperbolic cosine of x.\n",
      "    \n",
      "    asin(x, /)\n",
      "        Return the arc sine (measured in radians) of x.\n",
      "        \n",
      "        The result is between -pi/2 and pi/2.\n",
      "    \n",
      "    asinh(x, /)\n",
      "        Return the inverse hyperbolic sine of x.\n",
      "    \n",
      "    atan(x, /)\n",
      "        Return the arc tangent (measured in radians) of x.\n",
      "        \n",
      "        The result is between -pi/2 and pi/2.\n",
      "    \n",
      "    atan2(y, x, /)\n",
      "        Return the arc tangent (measured in radians) of y/x.\n",
      "        \n",
      "        Unlike atan(y/x), the signs of both x and y are considered.\n",
      "    \n",
      "    atanh(x, /)\n",
      "        Return the inverse hyperbolic tangent of x.\n",
      "    \n",
      "    ceil(x, /)\n",
      "        Return the ceiling of x as an Integral.\n",
      "        \n",
      "        This is the smallest integer >= x.\n",
      "    \n",
      "    comb(n, k, /)\n",
      "        Number of ways to choose k items from n items without repetition and without order.\n",
      "        \n",
      "        Evaluates to n! / (k! * (n - k)!) when k <= n and evaluates\n",
      "        to zero when k > n.\n",
      "        \n",
      "        Also called the binomial coefficient because it is equivalent\n",
      "        to the coefficient of k-th term in polynomial expansion of the\n",
      "        expression (1 + x)**n.\n",
      "        \n",
      "        Raises TypeError if either of the arguments are not integers.\n",
      "        Raises ValueError if either of the arguments are negative.\n",
      "    \n",
      "    copysign(x, y, /)\n",
      "        Return a float with the magnitude (absolute value) of x but the sign of y.\n",
      "        \n",
      "        On platforms that support signed zeros, copysign(1.0, -0.0)\n",
      "        returns -1.0.\n",
      "    \n",
      "    cos(x, /)\n",
      "        Return the cosine of x (measured in radians).\n",
      "    \n",
      "    cosh(x, /)\n",
      "        Return the hyperbolic cosine of x.\n",
      "    \n",
      "    degrees(x, /)\n",
      "        Convert angle x from radians to degrees.\n",
      "    \n",
      "    dist(p, q, /)\n",
      "        Return the Euclidean distance between two points p and q.\n",
      "        \n",
      "        The points should be specified as sequences (or iterables) of\n",
      "        coordinates.  Both inputs must have the same dimension.\n",
      "        \n",
      "        Roughly equivalent to:\n",
      "            sqrt(sum((px - qx) ** 2.0 for px, qx in zip(p, q)))\n",
      "    \n",
      "    erf(x, /)\n",
      "        Error function at x.\n",
      "    \n",
      "    erfc(x, /)\n",
      "        Complementary error function at x.\n",
      "    \n",
      "    exp(x, /)\n",
      "        Return e raised to the power of x.\n",
      "    \n",
      "    expm1(x, /)\n",
      "        Return exp(x)-1.\n",
      "        \n",
      "        This function avoids the loss of precision involved in the direct evaluation of exp(x)-1 for small x.\n",
      "    \n",
      "    fabs(x, /)\n",
      "        Return the absolute value of the float x.\n",
      "    \n",
      "    factorial(x, /)\n",
      "        Find x!.\n",
      "        \n",
      "        Raise a ValueError if x is negative or non-integral.\n",
      "    \n",
      "    floor(x, /)\n",
      "        Return the floor of x as an Integral.\n",
      "        \n",
      "        This is the largest integer <= x.\n",
      "    \n",
      "    fmod(x, y, /)\n",
      "        Return fmod(x, y), according to platform C.\n",
      "        \n",
      "        x % y may differ.\n",
      "    \n",
      "    frexp(x, /)\n",
      "        Return the mantissa and exponent of x, as pair (m, e).\n",
      "        \n",
      "        m is a float and e is an int, such that x = m * 2.**e.\n",
      "        If x is 0, m and e are both 0.  Else 0.5 <= abs(m) < 1.0.\n",
      "    \n",
      "    fsum(seq, /)\n",
      "        Return an accurate floating point sum of values in the iterable seq.\n",
      "        \n",
      "        Assumes IEEE-754 floating point arithmetic.\n",
      "    \n",
      "    gamma(x, /)\n",
      "        Gamma function at x.\n",
      "    \n",
      "    gcd(*integers)\n",
      "        Greatest Common Divisor.\n",
      "    \n",
      "    hypot(...)\n",
      "        hypot(*coordinates) -> value\n",
      "        \n",
      "        Multidimensional Euclidean distance from the origin to a point.\n",
      "        \n",
      "        Roughly equivalent to:\n",
      "            sqrt(sum(x**2 for x in coordinates))\n",
      "        \n",
      "        For a two dimensional point (x, y), gives the hypotenuse\n",
      "        using the Pythagorean theorem:  sqrt(x*x + y*y).\n",
      "        \n",
      "        For example, the hypotenuse of a 3/4/5 right triangle is:\n",
      "        \n",
      "            >>> hypot(3.0, 4.0)\n",
      "            5.0\n",
      "    \n",
      "    isclose(a, b, *, rel_tol=1e-09, abs_tol=0.0)\n",
      "        Determine whether two floating point numbers are close in value.\n",
      "        \n",
      "          rel_tol\n",
      "            maximum difference for being considered \"close\", relative to the\n",
      "            magnitude of the input values\n",
      "          abs_tol\n",
      "            maximum difference for being considered \"close\", regardless of the\n",
      "            magnitude of the input values\n",
      "        \n",
      "        Return True if a is close in value to b, and False otherwise.\n",
      "        \n",
      "        For the values to be considered close, the difference between them\n",
      "        must be smaller than at least one of the tolerances.\n",
      "        \n",
      "        -inf, inf and NaN behave similarly to the IEEE 754 Standard.  That\n",
      "        is, NaN is not close to anything, even itself.  inf and -inf are\n",
      "        only close to themselves.\n",
      "    \n",
      "    isfinite(x, /)\n",
      "        Return True if x is neither an infinity nor a NaN, and False otherwise.\n",
      "    \n",
      "    isinf(x, /)\n",
      "        Return True if x is a positive or negative infinity, and False otherwise.\n",
      "    \n",
      "    isnan(x, /)\n",
      "        Return True if x is a NaN (not a number), and False otherwise.\n",
      "    \n",
      "    isqrt(n, /)\n",
      "        Return the integer part of the square root of the input.\n",
      "    \n",
      "    lcm(*integers)\n",
      "        Least Common Multiple.\n",
      "    \n",
      "    ldexp(x, i, /)\n",
      "        Return x * (2**i).\n",
      "        \n",
      "        This is essentially the inverse of frexp().\n",
      "    \n",
      "    lgamma(x, /)\n",
      "        Natural logarithm of absolute value of Gamma function at x.\n",
      "    \n",
      "    log(...)\n",
      "        log(x, [base=math.e])\n",
      "        Return the logarithm of x to the given base.\n",
      "        \n",
      "        If the base not specified, returns the natural logarithm (base e) of x.\n",
      "    \n",
      "    log10(x, /)\n",
      "        Return the base 10 logarithm of x.\n",
      "    \n",
      "    log1p(x, /)\n",
      "        Return the natural logarithm of 1+x (base e).\n",
      "        \n",
      "        The result is computed in a way which is accurate for x near zero.\n",
      "    \n",
      "    log2(x, /)\n",
      "        Return the base 2 logarithm of x.\n",
      "    \n",
      "    modf(x, /)\n",
      "        Return the fractional and integer parts of x.\n",
      "        \n",
      "        Both results carry the sign of x and are floats.\n",
      "    \n",
      "    nextafter(x, y, /)\n",
      "        Return the next floating-point value after x towards y.\n",
      "    \n",
      "    perm(n, k=None, /)\n",
      "        Number of ways to choose k items from n items without repetition and with order.\n",
      "        \n",
      "        Evaluates to n! / (n - k)! when k <= n and evaluates\n",
      "        to zero when k > n.\n",
      "        \n",
      "        If k is not specified or is None, then k defaults to n\n",
      "        and the function returns n!.\n",
      "        \n",
      "        Raises TypeError if either of the arguments are not integers.\n",
      "        Raises ValueError if either of the arguments are negative.\n",
      "    \n",
      "    pow(x, y, /)\n",
      "        Return x**y (x to the power of y).\n",
      "    \n",
      "    prod(iterable, /, *, start=1)\n",
      "        Calculate the product of all the elements in the input iterable.\n",
      "        \n",
      "        The default start value for the product is 1.\n",
      "        \n",
      "        When the iterable is empty, return the start value.  This function is\n",
      "        intended specifically for use with numeric values and may reject\n",
      "        non-numeric types.\n",
      "    \n",
      "    radians(x, /)\n",
      "        Convert angle x from degrees to radians.\n",
      "    \n",
      "    remainder(x, y, /)\n",
      "        Difference between x and the closest integer multiple of y.\n",
      "        \n",
      "        Return x - n*y where n*y is the closest integer multiple of y.\n",
      "        In the case where x is exactly halfway between two multiples of\n",
      "        y, the nearest even value of n is used. The result is always exact.\n",
      "    \n",
      "    sin(x, /)\n",
      "        Return the sine of x (measured in radians).\n",
      "    \n",
      "    sinh(x, /)\n",
      "        Return the hyperbolic sine of x.\n",
      "    \n",
      "    sqrt(x, /)\n",
      "        Return the square root of x.\n",
      "    \n",
      "    tan(x, /)\n",
      "        Return the tangent of x (measured in radians).\n",
      "    \n",
      "    tanh(x, /)\n",
      "        Return the hyperbolic tangent of x.\n",
      "    \n",
      "    trunc(x, /)\n",
      "        Truncates the Real x to the nearest Integral toward 0.\n",
      "        \n",
      "        Uses the __trunc__ magic method.\n",
      "    \n",
      "    ulp(x, /)\n",
      "        Return the value of the least significant bit of the float x.\n",
      "\n",
      "DATA\n",
      "    e = 2.718281828459045\n",
      "    inf = inf\n",
      "    nan = nan\n",
      "    pi = 3.141592653589793\n",
      "    tau = 6.283185307179586\n",
      "\n",
      "FILE\n",
      "    (built-in)\n",
      "\n",
      "\n"
     ]
    }
   ],
   "source": [
    "help(\"math\")"
   ]
  },
  {
   "cell_type": "code",
   "execution_count": null,
   "id": "286fcf2e",
   "metadata": {},
   "outputs": [],
   "source": []
  }
 ],
 "metadata": {
  "kernelspec": {
   "display_name": "Python 3 (ipykernel)",
   "language": "python",
   "name": "python3"
  },
  "language_info": {
   "codemirror_mode": {
    "name": "ipython",
    "version": 3
   },
   "file_extension": ".py",
   "mimetype": "text/x-python",
   "name": "python",
   "nbconvert_exporter": "python",
   "pygments_lexer": "ipython3",
   "version": "3.9.12"
  }
 },
 "nbformat": 4,
 "nbformat_minor": 5
}
