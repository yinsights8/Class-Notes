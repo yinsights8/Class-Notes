{
 "cells": [
  {
   "cell_type": "code",
   "execution_count": 9,
   "id": "6cac1244",
   "metadata": {},
   "outputs": [],
   "source": [
    "def startconv():\n",
    "    return \"hello \""
   ]
  },
  {
   "cell_type": "code",
   "execution_count": 10,
   "id": "dc966f8e",
   "metadata": {},
   "outputs": [],
   "source": [
    "def naam(name):\n",
    "    return startconv() + name"
   ]
  },
  {
   "cell_type": "code",
   "execution_count": 13,
   "id": "19acd5bd",
   "metadata": {},
   "outputs": [
    {
     "data": {
      "text/plain": [
       "'hello yash'"
      ]
     },
     "execution_count": 13,
     "metadata": {},
     "output_type": "execute_result"
    }
   ],
   "source": [
    "def welcome(Name):\n",
    "    return naam(Name)\n",
    "\n",
    "welcome(\"yash\")"
   ]
  },
  {
   "cell_type": "code",
   "execution_count": null,
   "id": "d236a275",
   "metadata": {},
   "outputs": [],
   "source": []
  },
  {
   "cell_type": "markdown",
   "id": "b33c9f90",
   "metadata": {},
   "source": [
    "### find the factorial of a number 5 using recursion functions"
   ]
  },
  {
   "cell_type": "code",
   "execution_count": 20,
   "id": "c5c21f2f",
   "metadata": {},
   "outputs": [
    {
     "name": "stdout",
     "output_type": "stream",
     "text": [
      "120\n"
     ]
    }
   ],
   "source": [
    "# Normally\n",
    "num = 5\n",
    "fact = 1\n",
    "for  i in range(1,num+1):\n",
    "    fact *= i\n",
    "print(fact)    "
   ]
  },
  {
   "cell_type": "code",
   "execution_count": 21,
   "id": "03fa3e57",
   "metadata": {},
   "outputs": [
    {
     "data": {
      "text/plain": [
       "120"
      ]
     },
     "execution_count": 21,
     "metadata": {},
     "output_type": "execute_result"
    }
   ],
   "source": [
    "# recursion function\n",
    "def factor(num):\n",
    "    if num == 1:\n",
    "        return num\n",
    "    else:\n",
    "        return num * factor(num-1)\n",
    "    \n",
    "factor(5)"
   ]
  },
  {
   "cell_type": "markdown",
   "id": "c5e260a9",
   "metadata": {},
   "source": [
    "### fibonacci series"
   ]
  },
  {
   "cell_type": "code",
   "execution_count": 32,
   "id": "b9e493f4",
   "metadata": {},
   "outputs": [
    {
     "name": "stdout",
     "output_type": "stream",
     "text": [
      "0 1 1 2 3 5 8 13 21 34 55 "
     ]
    }
   ],
   "source": [
    "n = 10\n",
    "first = 0\n",
    "second = 1\n",
    "print(first, second,end=\" \")\n",
    "for i in range(2,n+1):\n",
    "    new =  first + second\n",
    "    first = second\n",
    "    second = new\n",
    "    print(new,end=\" \")"
   ]
  },
  {
   "cell_type": "code",
   "execution_count": null,
   "id": "d86ca5b3",
   "metadata": {},
   "outputs": [],
   "source": []
  }
 ],
 "metadata": {
  "kernelspec": {
   "display_name": "Python 3 (ipykernel)",
   "language": "python",
   "name": "python3"
  },
  "language_info": {
   "codemirror_mode": {
    "name": "ipython",
    "version": 3
   },
   "file_extension": ".py",
   "mimetype": "text/x-python",
   "name": "python",
   "nbconvert_exporter": "python",
   "pygments_lexer": "ipython3",
   "version": "3.9.12"
  }
 },
 "nbformat": 4,
 "nbformat_minor": 5
}
