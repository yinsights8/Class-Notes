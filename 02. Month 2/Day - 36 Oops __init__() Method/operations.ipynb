{
 "cells": [
  {
   "cell_type": "code",
   "execution_count": 2,
   "id": "e378cfc0",
   "metadata": {},
   "outputs": [],
   "source": [
    "import os\n",
    "\n",
    "os.mkdir(\"Pracitce\")"
   ]
  },
  {
   "cell_type": "code",
   "execution_count": null,
   "id": "d9bf1d5b",
   "metadata": {},
   "outputs": [],
   "source": []
  },
  {
   "cell_type": "markdown",
   "id": "41e96ea3",
   "metadata": {},
   "source": [
    "# Create a calculator using class"
   ]
  },
  {
   "cell_type": "code",
   "execution_count": 1,
   "id": "b1becfb3",
   "metadata": {},
   "outputs": [],
   "source": [
    "class Calculator():\n",
    "    def __init__(self,a,b):\n",
    "        self.a = a\n",
    "        self.b = b\n",
    "        \n",
    "    def addition(self):\n",
    "        self.add = self.a + self.b\n",
    "        return f\"addition of {self.a} + {self.b} = {self.add}\"\n",
    "    \n",
    "    def subtraction(self):\n",
    "        self.sub = self.a - self.b\n",
    "        return f\"subtraction of {self.a} - {self.b} = {self.sub}\"\n",
    "    \n",
    "    def multiplication(self):\n",
    "        self.multi = self.a * self.b\n",
    "        return f\"multiplication of {self.a} * {self.b} = {self.multi}\""
   ]
  },
  {
   "cell_type": "code",
   "execution_count": 2,
   "id": "e4125c2d",
   "metadata": {},
   "outputs": [],
   "source": [
    "calci = Calculator(2,3)"
   ]
  },
  {
   "cell_type": "code",
   "execution_count": 3,
   "id": "d330e06c",
   "metadata": {},
   "outputs": [
    {
     "data": {
      "text/plain": [
       "'addition of 2 + 3 = 5'"
      ]
     },
     "execution_count": 3,
     "metadata": {},
     "output_type": "execute_result"
    }
   ],
   "source": [
    "calci.addition()"
   ]
  },
  {
   "cell_type": "code",
   "execution_count": 4,
   "id": "a49bdee1",
   "metadata": {},
   "outputs": [
    {
     "data": {
      "text/plain": [
       "'subtraction of 2 - 3 = -1'"
      ]
     },
     "execution_count": 4,
     "metadata": {},
     "output_type": "execute_result"
    }
   ],
   "source": [
    "calci.subtraction()"
   ]
  },
  {
   "cell_type": "code",
   "execution_count": 5,
   "id": "5f5692bc",
   "metadata": {},
   "outputs": [
    {
     "data": {
      "text/plain": [
       "'multiplication of 2 * 3 = 6'"
      ]
     },
     "execution_count": 5,
     "metadata": {},
     "output_type": "execute_result"
    }
   ],
   "source": [
    "calci.multiplication()"
   ]
  },
  {
   "cell_type": "code",
   "execution_count": null,
   "id": "acc6eee9",
   "metadata": {},
   "outputs": [],
   "source": []
  },
  {
   "cell_type": "code",
   "execution_count": null,
   "id": "57f774b2",
   "metadata": {},
   "outputs": [],
   "source": []
  },
  {
   "cell_type": "code",
   "execution_count": 61,
   "id": "bb54a0e6",
   "metadata": {},
   "outputs": [],
   "source": [
    "class Calculator1():\n",
    "    def __init__(self, *args):\n",
    "        self.args = args\n",
    "        \n",
    "    def addition(self):\n",
    "        self.add = sum(self.args)\n",
    "        return f\"addition of  = {self.add}\"\n",
    "    \n",
    "    def subtraction(self):\n",
    "        self.sub = 1\n",
    "        for i in self.args:\n",
    "            self.sub -= i\n",
    "        return f\"subtraction of  = {self.sub}\"\n",
    "    \n",
    "    def multiplication(self):\n",
    "        self.multi = 1\n",
    "        for i in self.args:\n",
    "            self.multi *= i\n",
    "        return f\"multiplication of  = {self.multi}\""
   ]
  },
  {
   "cell_type": "code",
   "execution_count": 62,
   "id": "56f77aba",
   "metadata": {},
   "outputs": [],
   "source": [
    "calcu = Calculator1(1,2,4,6,7)"
   ]
  },
  {
   "cell_type": "code",
   "execution_count": 63,
   "id": "4be6d253",
   "metadata": {},
   "outputs": [
    {
     "data": {
      "text/plain": [
       "'addition of  = 20'"
      ]
     },
     "execution_count": 63,
     "metadata": {},
     "output_type": "execute_result"
    }
   ],
   "source": [
    "calcu.addition()"
   ]
  },
  {
   "cell_type": "code",
   "execution_count": 64,
   "id": "9347834f",
   "metadata": {},
   "outputs": [
    {
     "data": {
      "text/plain": [
       "'subtraction of  = -19'"
      ]
     },
     "execution_count": 64,
     "metadata": {},
     "output_type": "execute_result"
    }
   ],
   "source": [
    "calcu.subtraction()"
   ]
  },
  {
   "cell_type": "code",
   "execution_count": 60,
   "id": "4c72a842",
   "metadata": {},
   "outputs": [
    {
     "data": {
      "text/plain": [
       "'multiplication of  = 336'"
      ]
     },
     "execution_count": 60,
     "metadata": {},
     "output_type": "execute_result"
    }
   ],
   "source": [
    "calcu.multiplication()"
   ]
  },
  {
   "cell_type": "code",
   "execution_count": null,
   "id": "013b3008",
   "metadata": {},
   "outputs": [],
   "source": []
  },
  {
   "cell_type": "code",
   "execution_count": null,
   "id": "34ffc27a",
   "metadata": {},
   "outputs": [],
   "source": []
  },
  {
   "cell_type": "code",
   "execution_count": null,
   "id": "1f82e3c7",
   "metadata": {},
   "outputs": [],
   "source": []
  },
  {
   "cell_type": "code",
   "execution_count": 1,
   "id": "d117ef08",
   "metadata": {},
   "outputs": [],
   "source": [
    "class EmpDetails():\n",
    "    \n",
    "    def emp_fname(self,name):\n",
    "        print(f\"First name = {name}\")\n",
    "    \n",
    "    \n",
    "    def emp_lname(self,lname):\n",
    "        print(f\"Last name = {lname}\")\n",
    "        \n",
    "        \n",
    "    def emp_fullname(self):\n",
    "        pass\n",
    "    \n",
    "    def emp_salary(self,salary):\n",
    "        print(f\"salary = {salary}\")\n",
    "    \n",
    "    \n",
    "    def company_name(self,c_name):\n",
    "        print(f\"c_name name = {c_name}\")\n",
    "        \n",
    "        \n",
    "    def emp_designation(self,Designation):\n",
    "        print(f\"Designation = {Designation}\")"
   ]
  },
  {
   "cell_type": "code",
   "execution_count": 2,
   "id": "cb867851",
   "metadata": {},
   "outputs": [],
   "source": [
    "emp1 = EmpDetails()"
   ]
  },
  {
   "cell_type": "code",
   "execution_count": 3,
   "id": "74dc6b1c",
   "metadata": {},
   "outputs": [
    {
     "name": "stdout",
     "output_type": "stream",
     "text": [
      "First name = Komal\n"
     ]
    }
   ],
   "source": [
    "emp1.emp_fname(\"Komal\")"
   ]
  },
  {
   "cell_type": "code",
   "execution_count": 5,
   "id": "dce4e772",
   "metadata": {},
   "outputs": [
    {
     "data": {
      "text/plain": [
       "[1, 2, 3, 4, 5, 88, 'Komal']"
      ]
     },
     "execution_count": 5,
     "metadata": {},
     "output_type": "execute_result"
    }
   ],
   "source": [
    "lis1 = [1,2,3,4,5]\n",
    "\n",
    "lis1.append(88)\n",
    "lis1.append(\"Komal\")\n",
    "lis1"
   ]
  },
  {
   "cell_type": "code",
   "execution_count": null,
   "id": "c7ae8717",
   "metadata": {},
   "outputs": [],
   "source": []
  }
 ],
 "metadata": {
  "kernelspec": {
   "display_name": "Python 3 (ipykernel)",
   "language": "python",
   "name": "python3"
  },
  "language_info": {
   "codemirror_mode": {
    "name": "ipython",
    "version": 3
   },
   "file_extension": ".py",
   "mimetype": "text/x-python",
   "name": "python",
   "nbconvert_exporter": "python",
   "pygments_lexer": "ipython3",
   "version": "3.9.12"
  }
 },
 "nbformat": 4,
 "nbformat_minor": 5
}
