{
 "cells": [
  {
   "cell_type": "code",
   "execution_count": 14,
   "id": "c43dc466",
   "metadata": {},
   "outputs": [],
   "source": [
    "class Vehical():\n",
    "    def __init__(self, max_speed, mileage):\n",
    "        print(\"i am in __init__ I  am executing\")\n",
    "        self.maxspeed = max_speed\n",
    "        self.mileage = mileage\n",
    "#         print(self.maxspeed)\n",
    "#         print(self.mileage)"
   ]
  },
  {
   "cell_type": "code",
   "execution_count": 20,
   "id": "05d02536",
   "metadata": {},
   "outputs": [
    {
     "name": "stdout",
     "output_type": "stream",
     "text": [
      "i am in __init__ I  am executing\n",
      "80\n",
      "500\n"
     ]
    }
   ],
   "source": [
    "veh = Vehical(80, 500)\n",
    "print(veh.maxspeed)\n",
    "print(veh.mileage)"
   ]
  },
  {
   "cell_type": "code",
   "execution_count": null,
   "id": "5a6a02f3",
   "metadata": {},
   "outputs": [],
   "source": []
  },
  {
   "cell_type": "code",
   "execution_count": 21,
   "id": "aefa7705",
   "metadata": {},
   "outputs": [],
   "source": [
    "## Create a class return result even numbers, odd numbers, factors, prime factors and"
   ]
  },
  {
   "cell_type": "code",
   "execution_count": 21,
   "id": "a3ed742a",
   "metadata": {},
   "outputs": [],
   "source": [
    "class Numbers():\n",
    "    def __init__(self):\n",
    "        self.num = int(input(\"Enter a number:- \"))\n",
    "        self.even_num = []\n",
    "        self.odd_num = []\n",
    "        self.factors = []\n",
    "        self.prime_factors = []\n",
    "        self.prime_numbers = []\n",
    "    \n",
    "    def even(self):         ## Even numbers\n",
    "        for i in range(1,self.num+1):\n",
    "            if i % 2 == 0:\n",
    "                self.even_num.append(i)\n",
    "        return f\"Even numbers of {self.num} are:- {self.even_num}\"\n",
    "    \n",
    "    def odd(self):            ## Odd numbers\n",
    "        for i in range(1,self.num+1):\n",
    "            if i % 2 != 0:\n",
    "                self.odd_num.append(i)\n",
    "        return f\"odd numbrs of {self.num} are:- {self.odd_num}\"\n",
    "    \n",
    "    def fact(self):            ## factors\n",
    "        for i in range(1,self.num):\n",
    "            if self.num%i == 0:\n",
    "                self.factors.append(i)\n",
    "        return f\"The prime factors of a {self.num} are:- {self.factors}\"\n",
    "    \n",
    "    def pnum(self):          ## prime numbers\n",
    "        cnt = 0\n",
    "        for i in range(1,self.num+1):\n",
    "            if self.num%i == 0:\n",
    "                cnt += 1\n",
    "            if cnt == 1:\n",
    "                self.prime_numbers.append(i)\n",
    "        return f\"Prime numbers of {self.num} are:- {self.prime_numbers}\"\n",
    "    \n",
    "    def pfact(self):           ## Prime factors\n",
    "        for i in self.factors:\n",
    "            cnt = 0\n",
    "            for j in range(2,i+1):\n",
    "                if i%j == 0:\n",
    "                    cnt += 1\n",
    "            if cnt == 1:\n",
    "                self.prime_factors.append(j)\n",
    "                \n",
    "        return f\"prime factors of {self.num} are:- {self.prime_factors}\""
   ]
  },
  {
   "cell_type": "code",
   "execution_count": 22,
   "id": "59d89afe",
   "metadata": {},
   "outputs": [
    {
     "name": "stdout",
     "output_type": "stream",
     "text": [
      "Enter a number:- 19\n"
     ]
    }
   ],
   "source": [
    "eve = Numbers()"
   ]
  },
  {
   "cell_type": "code",
   "execution_count": 23,
   "id": "60d2ea2c",
   "metadata": {},
   "outputs": [
    {
     "data": {
      "text/plain": [
       "'Even numbers of 19 are:- [2, 4, 6, 8, 10, 12, 14, 16, 18]'"
      ]
     },
     "execution_count": 23,
     "metadata": {},
     "output_type": "execute_result"
    }
   ],
   "source": [
    "eve.even()"
   ]
  },
  {
   "cell_type": "code",
   "execution_count": 24,
   "id": "c7ba757a",
   "metadata": {},
   "outputs": [
    {
     "data": {
      "text/plain": [
       "'odd numbrs of 19 are:- [1, 3, 5, 7, 9, 11, 13, 15, 17, 19]'"
      ]
     },
     "execution_count": 24,
     "metadata": {},
     "output_type": "execute_result"
    }
   ],
   "source": [
    "eve.odd()"
   ]
  },
  {
   "cell_type": "code",
   "execution_count": 25,
   "id": "0eb46223",
   "metadata": {},
   "outputs": [
    {
     "data": {
      "text/plain": [
       "'The prime factors of a 19 are:- [1]'"
      ]
     },
     "execution_count": 25,
     "metadata": {},
     "output_type": "execute_result"
    }
   ],
   "source": [
    "eve.fact()"
   ]
  },
  {
   "cell_type": "code",
   "execution_count": 26,
   "id": "8ab892de",
   "metadata": {},
   "outputs": [
    {
     "data": {
      "text/plain": [
       "'prime factors of 19 are:- []'"
      ]
     },
     "execution_count": 26,
     "metadata": {},
     "output_type": "execute_result"
    }
   ],
   "source": [
    "eve.pfact()"
   ]
  },
  {
   "cell_type": "code",
   "execution_count": null,
   "id": "1630afde",
   "metadata": {},
   "outputs": [],
   "source": []
  },
  {
   "cell_type": "code",
   "execution_count": 39,
   "id": "84a425c5",
   "metadata": {},
   "outputs": [
    {
     "name": "stdout",
     "output_type": "stream",
     "text": [
      "Enter a number:- 18\n"
     ]
    }
   ],
   "source": [
    "class Numbers():\n",
    "    from functools import reduce\n",
    "    num = int(input(\"Enter a number:- \"))\n",
    "    even_num = []\n",
    "    odd_num = []\n",
    "    factors = []\n",
    "    prime_factors = []\n",
    "    prime_numbers = []\n",
    "    \n",
    "    def even(self):         ## Even numbers\n",
    "        for i in range(1,self.num+1):\n",
    "            if i % 2 == 0:\n",
    "                self.even_num.append(i)\n",
    "        return f\"Even numbers of {self.num} are:- {self.even_num}\"\n",
    "    \n",
    "    def odd(self):            ## Odd numbers\n",
    "        for i in range(1,self.num+1):\n",
    "            if i % 2 != 0:\n",
    "                self.odd_num.append(i)\n",
    "        return f\"odd numbrs of {self.num} are:- {self.odd_num}\"\n",
    "    \n",
    "    def p_fact(self):            ## factors\n",
    "        for i in range(1,self.num):\n",
    "            if self.num%i == 0:\n",
    "                self.factors.append(i)\n",
    "                \n",
    "        for i in self.factors:\n",
    "            cnt = 0\n",
    "            for j in range(2,i+1):\n",
    "                if i%j == 0:\n",
    "                    cnt += 1\n",
    "            if cnt == 1:\n",
    "                self.prime_factors.append(j)      \n",
    "        \n",
    "        return f\"The factors of a {self.num} are:- {self.factors}\"\n",
    "        return f\"prime factors of {self.num} are:- {self.prime_factors}\"\n",
    "    \n",
    "    def pnum(self):          ## prime numbers\n",
    "        for i in range(1,self.num+1):\n",
    "            cnt = 0\n",
    "            for j in range(2,i+1):\n",
    "                if i%j == 0:\n",
    "                    cnt += 1\n",
    "            if cnt == 1:\n",
    "                self.prime_numbers.append(j)\n",
    "        return f\"Prime numbers of {self.num} are:- {self.prime_numbers}\"\n",
    "    \n",
    "    def fibo(self):      # Fibonachii serires\n",
    "        self.fib = lambda num : Numbers.reduce(lambda x,_: x+[x[-1]+x[-2]], range(num-2),[0,1])\n",
    "        \n",
    "        return self.fib(self.num)\n",
    "\n",
    "#     def pfact(self):           ## Prime factors\n",
    "        \n",
    "f_num = Numbers()"
   ]
  },
  {
   "cell_type": "code",
   "execution_count": null,
   "id": "b0a8e1b5",
   "metadata": {},
   "outputs": [],
   "source": []
  },
  {
   "cell_type": "code",
   "execution_count": 40,
   "id": "75b1d08f",
   "metadata": {},
   "outputs": [
    {
     "data": {
      "text/plain": [
       "'Even numbers of 18 are:- [2, 4, 6, 8, 10, 12, 14, 16, 18]'"
      ]
     },
     "execution_count": 40,
     "metadata": {},
     "output_type": "execute_result"
    }
   ],
   "source": [
    "f_num.even()"
   ]
  },
  {
   "cell_type": "code",
   "execution_count": 41,
   "id": "92c5a2e2",
   "metadata": {},
   "outputs": [
    {
     "data": {
      "text/plain": [
       "'odd numbrs of 18 are:- [1, 3, 5, 7, 9, 11, 13, 15, 17]'"
      ]
     },
     "execution_count": 41,
     "metadata": {},
     "output_type": "execute_result"
    }
   ],
   "source": [
    "f_num.odd()"
   ]
  },
  {
   "cell_type": "code",
   "execution_count": 42,
   "id": "a83cd503",
   "metadata": {},
   "outputs": [
    {
     "data": {
      "text/plain": [
       "'Prime numbers of 18 are:- [2, 3, 5, 7, 11, 13, 17]'"
      ]
     },
     "execution_count": 42,
     "metadata": {},
     "output_type": "execute_result"
    }
   ],
   "source": [
    "f_num.pnum()"
   ]
  },
  {
   "cell_type": "code",
   "execution_count": 43,
   "id": "032b274b",
   "metadata": {},
   "outputs": [
    {
     "data": {
      "text/plain": [
       "'The factors of a 18 are:- [1, 2, 3, 6, 9]'"
      ]
     },
     "execution_count": 43,
     "metadata": {},
     "output_type": "execute_result"
    }
   ],
   "source": [
    "f_num.p_fact()"
   ]
  },
  {
   "cell_type": "code",
   "execution_count": 45,
   "id": "64fba8c8",
   "metadata": {},
   "outputs": [
    {
     "data": {
      "text/plain": [
       "[2, 3]"
      ]
     },
     "execution_count": 45,
     "metadata": {},
     "output_type": "execute_result"
    }
   ],
   "source": [
    "f_num.prime_factors"
   ]
  },
  {
   "cell_type": "code",
   "execution_count": 46,
   "id": "f10fa186",
   "metadata": {},
   "outputs": [
    {
     "data": {
      "text/plain": [
       "[0, 1, 1, 2, 3, 5, 8, 13, 21, 34, 55, 89, 144, 233, 377, 610, 987, 1597]"
      ]
     },
     "execution_count": 46,
     "metadata": {},
     "output_type": "execute_result"
    }
   ],
   "source": [
    "f_num.fibo()"
   ]
  },
  {
   "cell_type": "code",
   "execution_count": null,
   "id": "8de49698",
   "metadata": {},
   "outputs": [],
   "source": []
  },
  {
   "cell_type": "code",
   "execution_count": 72,
   "id": "e1a2446a",
   "metadata": {},
   "outputs": [
    {
     "name": "stdout",
     "output_type": "stream",
     "text": [
      "__name__\n",
      "__doc__\n",
      "__package__\n",
      "__loader__\n",
      "__spec__\n",
      "_array_reconstructor\n",
      "ArrayType\n",
      "array\n",
      "typecodes\n"
     ]
    }
   ],
   "source": [
    "import array\n",
    "\n",
    "for name in array.__dict__:\n",
    "    print(name)"
   ]
  },
  {
   "cell_type": "code",
   "execution_count": 70,
   "id": "1cff787a",
   "metadata": {},
   "outputs": [
    {
     "data": {
      "text/plain": [
       "['ArrayType',\n",
       " '__doc__',\n",
       " '__loader__',\n",
       " '__name__',\n",
       " '__package__',\n",
       " '__spec__',\n",
       " '_array_reconstructor',\n",
       " 'array',\n",
       " 'typecodes']"
      ]
     },
     "execution_count": 70,
     "metadata": {},
     "output_type": "execute_result"
    }
   ],
   "source": [
    "dir(array)"
   ]
  },
  {
   "cell_type": "code",
   "execution_count": null,
   "id": "62dee8ba",
   "metadata": {},
   "outputs": [],
   "source": []
  },
  {
   "cell_type": "code",
   "execution_count": 55,
   "id": "631e6a5a",
   "metadata": {},
   "outputs": [],
   "source": [
    "class cube():\n",
    "    def __init__(self, fname, lname):\n",
    "        print(\"I am executing\")\n",
    "        self.fname = fname\n",
    "        print(self.fname)\n",
    "        self.lname = lname\n",
    "        print(self.lname)\n",
    "        print(\"i am executed\")"
   ]
  },
  {
   "cell_type": "code",
   "execution_count": 56,
   "id": "b086c7c1",
   "metadata": {},
   "outputs": [
    {
     "name": "stdout",
     "output_type": "stream",
     "text": [
      "I am executing\n",
      "yash\n",
      "Dhakade\n",
      "i am executed\n"
     ]
    }
   ],
   "source": [
    "cu = cube(\"yash\",\"Dhakade\")"
   ]
  },
  {
   "cell_type": "code",
   "execution_count": null,
   "id": "f397fc25",
   "metadata": {},
   "outputs": [],
   "source": []
  }
 ],
 "metadata": {
  "kernelspec": {
   "display_name": "Python 3 (ipykernel)",
   "language": "python",
   "name": "python3"
  },
  "language_info": {
   "codemirror_mode": {
    "name": "ipython",
    "version": 3
   },
   "file_extension": ".py",
   "mimetype": "text/x-python",
   "name": "python",
   "nbconvert_exporter": "python",
   "pygments_lexer": "ipython3",
   "version": "3.9.12"
  }
 },
 "nbformat": 4,
 "nbformat_minor": 5
}
