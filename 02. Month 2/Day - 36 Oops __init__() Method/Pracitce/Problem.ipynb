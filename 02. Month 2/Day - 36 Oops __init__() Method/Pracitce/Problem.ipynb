{
 "cells": [
  {
   "cell_type": "code",
   "execution_count": 2,
   "id": "7f8396e1",
   "metadata": {},
   "outputs": [],
   "source": [
    "class Employee:\n",
    "    raise_ammount = 3\n",
    "    def __init__(self,fname,lname,pay):\n",
    "        self.fname = fname\n",
    "        self.lname = lname\n",
    "        self.pay = pay\n",
    "        self.email = fname.lower() + \".\" + lname.lower() + \"@gmail.com\"\n",
    "        \n",
    "    def get_fullname(self):\n",
    "        print(f\"Full Name = {self.fname} {self.lname}\")\n",
    "        print(f\"Mail id = {self.email}\")\n",
    "        \n",
    "    def apply_raise(self):\n",
    "        self.pay = self.pay * Employee.raise_ammount"
   ]
  },
  {
   "cell_type": "code",
   "execution_count": 3,
   "id": "4cbc7da4",
   "metadata": {},
   "outputs": [],
   "source": [
    "emp1 = Employee(\"Niranjan\", \"kalke\", 1500000)\n",
    "emp2 = Employee(\"Priti\", \"jadhav\", 200000)"
   ]
  },
  {
   "cell_type": "code",
   "execution_count": null,
   "id": "c07dd8ee",
   "metadata": {},
   "outputs": [],
   "source": []
  },
  {
   "cell_type": "code",
   "execution_count": 3,
   "id": "c662c54f",
   "metadata": {},
   "outputs": [
    {
     "name": "stdout",
     "output_type": "stream",
     "text": [
      "3\n",
      "1500000\n",
      "4500000\n"
     ]
    }
   ],
   "source": [
    "print(emp1.raise_ammount)\n",
    "print(emp1.pay)\n",
    "emp1.apply_raise()\n",
    "print(emp1.pay)"
   ]
  },
  {
   "cell_type": "code",
   "execution_count": 4,
   "id": "18c320f1",
   "metadata": {},
   "outputs": [
    {
     "name": "stdout",
     "output_type": "stream",
     "text": [
      "3\n",
      "200000\n",
      "600000\n"
     ]
    }
   ],
   "source": [
    "print(emp2.raise_ammount)\n",
    "print(emp2.pay)\n",
    "emp2.apply_raise()\n",
    "print(emp2.pay)"
   ]
  },
  {
   "cell_type": "code",
   "execution_count": null,
   "id": "e17194eb",
   "metadata": {},
   "outputs": [],
   "source": []
  },
  {
   "cell_type": "code",
   "execution_count": null,
   "id": "0a608f2d",
   "metadata": {},
   "outputs": [],
   "source": []
  },
  {
   "cell_type": "code",
   "execution_count": 4,
   "id": "232a9979",
   "metadata": {},
   "outputs": [],
   "source": [
    "Employee.raise_ammount = 5"
   ]
  },
  {
   "cell_type": "code",
   "execution_count": 5,
   "id": "3617a66f",
   "metadata": {},
   "outputs": [
    {
     "name": "stdout",
     "output_type": "stream",
     "text": [
      "5\n",
      "1500000\n",
      "7500000\n"
     ]
    }
   ],
   "source": [
    "print(emp1.raise_ammount)\n",
    "print(emp1.pay)\n",
    "emp1.apply_raise()\n",
    "print(emp1.pay)"
   ]
  },
  {
   "cell_type": "code",
   "execution_count": 6,
   "id": "b2796983",
   "metadata": {},
   "outputs": [
    {
     "name": "stdout",
     "output_type": "stream",
     "text": [
      "5\n",
      "200000\n",
      "1000000\n"
     ]
    }
   ],
   "source": [
    "print(emp2.raise_ammount)\n",
    "print(emp2.pay)\n",
    "emp2.apply_raise()\n",
    "print(emp2.pay)"
   ]
  },
  {
   "cell_type": "code",
   "execution_count": null,
   "id": "e8f24298",
   "metadata": {},
   "outputs": [],
   "source": []
  },
  {
   "cell_type": "code",
   "execution_count": null,
   "id": "22bbfb27",
   "metadata": {},
   "outputs": [],
   "source": []
  },
  {
   "cell_type": "code",
   "execution_count": 16,
   "id": "dcb6179d",
   "metadata": {},
   "outputs": [],
   "source": [
    "class Employee:\n",
    "    raise_ammount = 3\n",
    "    def __init__(self,fname,lname,pay):\n",
    "        self.fname = fname\n",
    "        self.lname = lname\n",
    "        self.pay = pay\n",
    "        self.email = fname.lower() + \".\" + lname.lower() + \"@gmail.com\"\n",
    "        \n",
    "    def get_fullname(self):\n",
    "        print(f\"Full Name = {self.fname} {self.lname}\")\n",
    "        print(f\"Mail id = {self.email}\")\n",
    "        \n",
    "    def apply_raise(self):\n",
    "        self.pay = self.pay * self.raise_ammount"
   ]
  },
  {
   "cell_type": "code",
   "execution_count": 17,
   "id": "2777191f",
   "metadata": {},
   "outputs": [],
   "source": [
    "emp1 = Employee(\"Niranjan\", \"kalke\", 1500000)\n",
    "emp2 = Employee(\"Priti\", \"jadhav\", 200000)"
   ]
  },
  {
   "cell_type": "code",
   "execution_count": 19,
   "id": "a2ad80d5",
   "metadata": {},
   "outputs": [
    {
     "name": "stdout",
     "output_type": "stream",
     "text": [
      "5\n",
      "4500000\n",
      "22500000\n"
     ]
    }
   ],
   "source": [
    "Employee.raise_ammount = 5\n",
    "print(emp1.raise_ammount)\n",
    "print(emp1.pay)\n",
    "emp1.apply_raise()\n",
    "print(emp1.pay)"
   ]
  },
  {
   "cell_type": "code",
   "execution_count": 20,
   "id": "bbcf1f6c",
   "metadata": {},
   "outputs": [
    {
     "name": "stdout",
     "output_type": "stream",
     "text": [
      "3\n",
      "200000\n",
      "600000\n"
     ]
    }
   ],
   "source": [
    "Employee.raise_ammount = 3\n",
    "print(emp2.raise_ammount)\n",
    "print(emp2.pay)\n",
    "emp2.apply_raise()\n",
    "print(emp2.pay)"
   ]
  },
  {
   "cell_type": "code",
   "execution_count": null,
   "id": "66e9712a",
   "metadata": {},
   "outputs": [],
   "source": []
  }
 ],
 "metadata": {
  "kernelspec": {
   "display_name": "Python 3 (ipykernel)",
   "language": "python",
   "name": "python3"
  },
  "language_info": {
   "codemirror_mode": {
    "name": "ipython",
    "version": 3
   },
   "file_extension": ".py",
   "mimetype": "text/x-python",
   "name": "python",
   "nbconvert_exporter": "python",
   "pygments_lexer": "ipython3",
   "version": "3.9.12"
  }
 },
 "nbformat": 4,
 "nbformat_minor": 5
}
