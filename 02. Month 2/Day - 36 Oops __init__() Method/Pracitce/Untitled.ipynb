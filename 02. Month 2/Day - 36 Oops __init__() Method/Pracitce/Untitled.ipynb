{
 "cells": [
  {
   "cell_type": "code",
   "execution_count": 15,
   "id": "4d1e056d",
   "metadata": {},
   "outputs": [
    {
     "name": "stdout",
     "output_type": "stream",
     "text": [
      "Yash\n",
      "Dhakade\n",
      "Amazon\n",
      "myself Yash\n",
      "My last name is Dhakade\n",
      "I work at Amazon\n",
      "I am a Data Scientist\n"
     ]
    }
   ],
   "source": [
    "class Information:\n",
    "    def __init__(self, fname, lname, cname, designation):\n",
    "        self.f_name = fname\n",
    "        self.l_name = lname\n",
    "        self.c_name = cname\n",
    "        self.designation = designation\n",
    "        print(self.f_name)\n",
    "        print(self.l_name)\n",
    "        print(self.c_name)\n",
    "        self.info = \"Employe information\"\n",
    "        \n",
    "    def fname(self):\n",
    "        return f\"myself {self.f_name}\"\n",
    "    def lname(self):\n",
    "        return f\"My last name is {self.l_name}\"\n",
    "    def cname(self):\n",
    "        return f\"I work at {self.c_name}\"\n",
    "    \n",
    "    def roll(self):\n",
    "        return f\"I am a {self.designation}\"\n",
    "    \n",
    "    \n",
    "    \n",
    "emp = Information(\"Yash\", \"Dhakade\", \"Amazon\", \"Data Scientist\")\n",
    "emp.info\n",
    "\n",
    "print(emp.fname())\n",
    "print(emp.lname())\n",
    "print(emp.cname())\n",
    "print(emp.roll())"
   ]
  },
  {
   "cell_type": "code",
   "execution_count": 16,
   "id": "321246da",
   "metadata": {},
   "outputs": [
    {
     "data": {
      "text/plain": [
       "['__class__',\n",
       " '__delattr__',\n",
       " '__dict__',\n",
       " '__dir__',\n",
       " '__doc__',\n",
       " '__eq__',\n",
       " '__format__',\n",
       " '__ge__',\n",
       " '__getattribute__',\n",
       " '__gt__',\n",
       " '__hash__',\n",
       " '__init__',\n",
       " '__init_subclass__',\n",
       " '__le__',\n",
       " '__lt__',\n",
       " '__module__',\n",
       " '__ne__',\n",
       " '__new__',\n",
       " '__reduce__',\n",
       " '__reduce_ex__',\n",
       " '__repr__',\n",
       " '__setattr__',\n",
       " '__sizeof__',\n",
       " '__str__',\n",
       " '__subclasshook__',\n",
       " '__weakref__',\n",
       " 'c_name',\n",
       " 'cname',\n",
       " 'designation',\n",
       " 'f_name',\n",
       " 'fname',\n",
       " 'info',\n",
       " 'l_name',\n",
       " 'lname',\n",
       " 'roll']"
      ]
     },
     "execution_count": 16,
     "metadata": {},
     "output_type": "execute_result"
    }
   ],
   "source": [
    "dir(emp)"
   ]
  },
  {
   "cell_type": "code",
   "execution_count": 21,
   "id": "4ebcdf60",
   "metadata": {},
   "outputs": [
    {
     "data": {
      "text/plain": [
       "{'f_name': 'Yash',\n",
       " 'l_name': 'Dhakade',\n",
       " 'c_name': 'Amazon',\n",
       " 'designation': 'Data Scientist',\n",
       " 'info': 'Employe information'}"
      ]
     },
     "execution_count": 21,
     "metadata": {},
     "output_type": "execute_result"
    }
   ],
   "source": [
    "emp.__dict__"
   ]
  },
  {
   "cell_type": "code",
   "execution_count": null,
   "id": "97cf432e",
   "metadata": {},
   "outputs": [],
   "source": []
  },
  {
   "cell_type": "code",
   "execution_count": 27,
   "id": "84141cb1",
   "metadata": {},
   "outputs": [
    {
     "data": {
      "text/plain": [
       "'yashdhakade123@gmail.com'"
      ]
     },
     "execution_count": 27,
     "metadata": {},
     "output_type": "execute_result"
    }
   ],
   "source": [
    "class EmpMail():\n",
    "    def __init__(self, fname, lname,nums):\n",
    "        self.f_name = fname\n",
    "        self.l_name = lname\n",
    "        self.num = str(nums)\n",
    "        self.email = self.f_name + self.l_name + self.num +'@gmail.com'\n",
    "        \n",
    "    def Email(self):\n",
    "        return self.email\n",
    "    \n",
    "    \n",
    "e = EmpMail(\"yash\",\"dhakade\",123)\n",
    "e.email\n",
    "e.Email()"
   ]
  },
  {
   "cell_type": "code",
   "execution_count": 28,
   "id": "a24b1ac0",
   "metadata": {},
   "outputs": [
    {
     "data": {
      "text/plain": [
       "'yashdhakade2250@gmail.com'"
      ]
     },
     "execution_count": 28,
     "metadata": {},
     "output_type": "execute_result"
    }
   ],
   "source": [
    "e2 = EmpMail(\"yash\",\"dhakade\",2250)\n",
    "e2.Email()"
   ]
  },
  {
   "cell_type": "code",
   "execution_count": 37,
   "id": "c9a87a6e",
   "metadata": {},
   "outputs": [],
   "source": [
    "class EmployeeDetails():\n",
    "    def __init__(self, fname, lname, pay):\n",
    "        self.fname=fname\n",
    "        self.lname=lname\n",
    "        self.pay=pay\n",
    "        self.mail = self.fname.lower() + self.lname.lower() + \"@gmail.com\"\n",
    "        \n",
    "    def get_fullName(self):\n",
    "        return f\"Empoye name is {self.fname.upper()} {self.lname.upper()}\"\n",
    "    def email(self):\n",
    "        return f\"Employe mail is {self.mail}\"\n",
    "        \n",
    "    def salary_raise(self):\n",
    "        self.pay = self.pay*5              ## instance variable"
   ]
  },
  {
   "cell_type": "code",
   "execution_count": 38,
   "id": "b5acc49d",
   "metadata": {},
   "outputs": [
    {
     "data": {
      "text/plain": [
       "'yashdhakade@gmail.com'"
      ]
     },
     "execution_count": 38,
     "metadata": {},
     "output_type": "execute_result"
    }
   ],
   "source": [
    "Emp = EmployeeDetails(\"yash\", \"DhakaDE\", 50000000)\n",
    "Emp.fname\n",
    "Emp.lname\n",
    "Emp.mail"
   ]
  },
  {
   "cell_type": "code",
   "execution_count": 39,
   "id": "93e52cbc",
   "metadata": {},
   "outputs": [
    {
     "data": {
      "text/plain": [
       "'Empoye name is YASH DHAKADE'"
      ]
     },
     "execution_count": 39,
     "metadata": {},
     "output_type": "execute_result"
    }
   ],
   "source": [
    "Emp.get_fullName()"
   ]
  },
  {
   "cell_type": "code",
   "execution_count": 40,
   "id": "5c781884",
   "metadata": {},
   "outputs": [
    {
     "data": {
      "text/plain": [
       "'Employe mail is yashdhakade@gmail.com'"
      ]
     },
     "execution_count": 40,
     "metadata": {},
     "output_type": "execute_result"
    }
   ],
   "source": [
    "Emp.email()"
   ]
  },
  {
   "cell_type": "code",
   "execution_count": 41,
   "id": "6e311c28",
   "metadata": {},
   "outputs": [
    {
     "data": {
      "text/plain": [
       "50000000"
      ]
     },
     "execution_count": 41,
     "metadata": {},
     "output_type": "execute_result"
    }
   ],
   "source": [
    "Emp.pay"
   ]
  },
  {
   "cell_type": "code",
   "execution_count": 42,
   "id": "a1e3faa3",
   "metadata": {},
   "outputs": [],
   "source": [
    "Emp.salary_raise()"
   ]
  },
  {
   "cell_type": "code",
   "execution_count": 43,
   "id": "d3f86286",
   "metadata": {},
   "outputs": [
    {
     "data": {
      "text/plain": [
       "250000000"
      ]
     },
     "execution_count": 43,
     "metadata": {},
     "output_type": "execute_result"
    }
   ],
   "source": [
    "Emp.pay"
   ]
  },
  {
   "cell_type": "code",
   "execution_count": 45,
   "id": "b12294cd",
   "metadata": {},
   "outputs": [
    {
     "data": {
      "text/plain": [
       "'Employe mail is neharastogi@gmail.com'"
      ]
     },
     "execution_count": 45,
     "metadata": {},
     "output_type": "execute_result"
    }
   ],
   "source": [
    "e2 = EmployeeDetails(\"neha\", \"rastogi\", 100000)\n",
    "e2.email()"
   ]
  },
  {
   "cell_type": "code",
   "execution_count": 46,
   "id": "c2348f07",
   "metadata": {},
   "outputs": [
    {
     "data": {
      "text/plain": [
       "100000"
      ]
     },
     "execution_count": 46,
     "metadata": {},
     "output_type": "execute_result"
    }
   ],
   "source": [
    "e2.pay"
   ]
  },
  {
   "cell_type": "code",
   "execution_count": 47,
   "id": "7f90cece",
   "metadata": {},
   "outputs": [],
   "source": [
    "e2.salary_raise()"
   ]
  },
  {
   "cell_type": "code",
   "execution_count": 48,
   "id": "7451648a",
   "metadata": {},
   "outputs": [
    {
     "data": {
      "text/plain": [
       "500000"
      ]
     },
     "execution_count": 48,
     "metadata": {},
     "output_type": "execute_result"
    }
   ],
   "source": [
    "e2.pay"
   ]
  },
  {
   "cell_type": "code",
   "execution_count": 62,
   "id": "4c851ca4",
   "metadata": {},
   "outputs": [],
   "source": [
    "class EmployeeDetails:\n",
    "    raise_amount = 3\n",
    "    def __init__(self, fname, lname, pay):\n",
    "        self.fname=fname\n",
    "        self.lname=lname\n",
    "        self.pay=pay\n",
    "        self.mail = self.fname.lower() + self.lname.lower() + \"@gmail.com\"\n",
    "        \n",
    "    def get_fullName(self):\n",
    "        return f\"Empoye name is {self.fname.upper()} {self.lname.upper()}\"\n",
    "    def email(self):\n",
    "        return f\"Employe mail is {self.mail}\"\n",
    "        \n",
    "    def salary_raise(self):\n",
    "        self.pay = self.pay * EmployeeDetails.raise_amount              ## instance variable"
   ]
  },
  {
   "cell_type": "code",
   "execution_count": 63,
   "id": "43e98d75",
   "metadata": {},
   "outputs": [
    {
     "data": {
      "text/plain": [
       "'yashdhakade@gmail.com'"
      ]
     },
     "execution_count": 63,
     "metadata": {},
     "output_type": "execute_result"
    }
   ],
   "source": [
    "Emp1 = EmployeeDetails(\"yash\", \"DhakaDE\", 50000000)\n",
    "Emp1.fname\n",
    "Emp1.lname\n",
    "Emp1.mail"
   ]
  },
  {
   "cell_type": "code",
   "execution_count": 64,
   "id": "7091ea39",
   "metadata": {},
   "outputs": [
    {
     "data": {
      "text/plain": [
       "'Empoye name is YASH DHAKADE'"
      ]
     },
     "execution_count": 64,
     "metadata": {},
     "output_type": "execute_result"
    }
   ],
   "source": [
    "Emp1.get_fullName()"
   ]
  },
  {
   "cell_type": "code",
   "execution_count": 65,
   "id": "8d246905",
   "metadata": {},
   "outputs": [
    {
     "data": {
      "text/plain": [
       "50000000"
      ]
     },
     "execution_count": 65,
     "metadata": {},
     "output_type": "execute_result"
    }
   ],
   "source": [
    "Emp1.pay"
   ]
  },
  {
   "cell_type": "code",
   "execution_count": 66,
   "id": "4923f138",
   "metadata": {},
   "outputs": [],
   "source": [
    "Emp1.salary_raise()"
   ]
  },
  {
   "cell_type": "code",
   "execution_count": 67,
   "id": "1963a5c7",
   "metadata": {},
   "outputs": [
    {
     "data": {
      "text/plain": [
       "150000000"
      ]
     },
     "execution_count": 67,
     "metadata": {},
     "output_type": "execute_result"
    }
   ],
   "source": [
    "Emp1.pay"
   ]
  },
  {
   "cell_type": "code",
   "execution_count": 68,
   "id": "0318c424",
   "metadata": {},
   "outputs": [],
   "source": [
    "Emp2 = EmployeeDetails(\"kunal\", \"mohod\", 10000)"
   ]
  },
  {
   "cell_type": "code",
   "execution_count": 69,
   "id": "14d5864c",
   "metadata": {},
   "outputs": [
    {
     "data": {
      "text/plain": [
       "10000"
      ]
     },
     "execution_count": 69,
     "metadata": {},
     "output_type": "execute_result"
    }
   ],
   "source": [
    "Emp2.pay"
   ]
  },
  {
   "cell_type": "code",
   "execution_count": 70,
   "id": "25da0fc7",
   "metadata": {},
   "outputs": [],
   "source": [
    "Emp2.salary_raise()"
   ]
  },
  {
   "cell_type": "code",
   "execution_count": 71,
   "id": "9d7abcab",
   "metadata": {},
   "outputs": [
    {
     "data": {
      "text/plain": [
       "30000"
      ]
     },
     "execution_count": 71,
     "metadata": {},
     "output_type": "execute_result"
    }
   ],
   "source": [
    "Emp2.pay"
   ]
  },
  {
   "cell_type": "code",
   "execution_count": 74,
   "id": "e2fdea27",
   "metadata": {},
   "outputs": [],
   "source": [
    "Emp3 = EmployeeDetails(\"kunal\", \"mohod\", 6000)"
   ]
  },
  {
   "cell_type": "code",
   "execution_count": 75,
   "id": "4678dafd",
   "metadata": {},
   "outputs": [
    {
     "data": {
      "text/plain": [
       "6000"
      ]
     },
     "execution_count": 75,
     "metadata": {},
     "output_type": "execute_result"
    }
   ],
   "source": [
    "Emp3.pay"
   ]
  },
  {
   "cell_type": "code",
   "execution_count": null,
   "id": "dfa8cc5e",
   "metadata": {},
   "outputs": [],
   "source": []
  }
 ],
 "metadata": {
  "kernelspec": {
   "display_name": "Python 3 (ipykernel)",
   "language": "python",
   "name": "python3"
  },
  "language_info": {
   "codemirror_mode": {
    "name": "ipython",
    "version": 3
   },
   "file_extension": ".py",
   "mimetype": "text/x-python",
   "name": "python",
   "nbconvert_exporter": "python",
   "pygments_lexer": "ipython3",
   "version": "3.10.8"
  }
 },
 "nbformat": 4,
 "nbformat_minor": 5
}
