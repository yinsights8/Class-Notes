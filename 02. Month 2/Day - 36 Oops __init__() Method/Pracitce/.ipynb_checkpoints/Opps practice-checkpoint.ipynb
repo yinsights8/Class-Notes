{
 "cells": [
  {
   "cell_type": "code",
   "execution_count": null,
   "id": "5d1fd85b",
   "metadata": {},
   "outputs": [],
   "source": [
    "# in bellow method we are adding individual parameters to the method \n",
    "# we can relate this to if we don't have __int__ method, what would we do that time "
   ]
  },
  {
   "cell_type": "code",
   "execution_count": 27,
   "id": "d59c9feb",
   "metadata": {},
   "outputs": [],
   "source": [
    "class empDetails():\n",
    "    \n",
    "    def fname(self,fname):\n",
    "        print(f\"employe fname is {fname}\")\n",
    "        \n",
    "        \n",
    "    def lname(self,lname):\n",
    "#         self.lname = lname\n",
    "        print(f\"employe lname is {lname}\")\n",
    "        \n",
    "        \n",
    "    def fullname(self,fname,lname):\n",
    "        full_name = self.fname() + self.lname()\n",
    "        print(f\"employe fullname is {full_name}\")\n",
    "        \n",
    "        \n",
    "    def emp_salary(self,salary):\n",
    "        print(f\"employe salary is {salary}\")\n",
    "        \n",
    "        \n",
    "    def emp_company(self,company):\n",
    "        print(f\"employe company is {company}\")\n",
    "        \n",
    "        \n",
    "    def emp_designation(self,designation):\n",
    "        print(f\"employe designation is {designation}\")"
   ]
  },
  {
   "cell_type": "code",
   "execution_count": 28,
   "id": "0090c5ef",
   "metadata": {},
   "outputs": [],
   "source": [
    "emp1 = empDetails()"
   ]
  },
  {
   "cell_type": "code",
   "execution_count": 29,
   "id": "509db06e",
   "metadata": {},
   "outputs": [
    {
     "name": "stdout",
     "output_type": "stream",
     "text": [
      "employe fname is Yash\n"
     ]
    }
   ],
   "source": [
    "e1 = emp1.fname(\"Yash\")"
   ]
  },
  {
   "cell_type": "code",
   "execution_count": 30,
   "id": "1ffd2e3d",
   "metadata": {},
   "outputs": [
    {
     "name": "stdout",
     "output_type": "stream",
     "text": [
      "employe lname is Dhakade\n"
     ]
    }
   ],
   "source": [
    "e2 = emp1.lname(\"Dhakade\")"
   ]
  },
  {
   "cell_type": "code",
   "execution_count": 31,
   "id": "b940483b",
   "metadata": {},
   "outputs": [
    {
     "ename": "TypeError",
     "evalue": "fname() missing 1 required positional argument: 'fname'",
     "output_type": "error",
     "traceback": [
      "\u001b[1;31m---------------------------------------------------------------------------\u001b[0m",
      "\u001b[1;31mTypeError\u001b[0m                                 Traceback (most recent call last)",
      "Input \u001b[1;32mIn [31]\u001b[0m, in \u001b[0;36m<cell line: 1>\u001b[1;34m()\u001b[0m\n\u001b[1;32m----> 1\u001b[0m \u001b[43memp1\u001b[49m\u001b[38;5;241;43m.\u001b[39;49m\u001b[43mfullname\u001b[49m\u001b[43m(\u001b[49m\u001b[38;5;124;43m\"\u001b[39;49m\u001b[38;5;124;43myash\u001b[39;49m\u001b[38;5;124;43m\"\u001b[39;49m\u001b[43m,\u001b[49m\u001b[38;5;124;43m\"\u001b[39;49m\u001b[38;5;124;43mdhakade\u001b[39;49m\u001b[38;5;124;43m\"\u001b[39;49m\u001b[43m)\u001b[49m\n",
      "Input \u001b[1;32mIn [27]\u001b[0m, in \u001b[0;36mempDetails.fullname\u001b[1;34m(self, fname, lname)\u001b[0m\n\u001b[0;32m     12\u001b[0m \u001b[38;5;28;01mdef\u001b[39;00m \u001b[38;5;21mfullname\u001b[39m(\u001b[38;5;28mself\u001b[39m,fname,lname):\n\u001b[1;32m---> 13\u001b[0m     full_name \u001b[38;5;241m=\u001b[39m \u001b[38;5;28;43mself\u001b[39;49m\u001b[38;5;241;43m.\u001b[39;49m\u001b[43mfname\u001b[49m\u001b[43m(\u001b[49m\u001b[43m)\u001b[49m \u001b[38;5;241m+\u001b[39m \u001b[38;5;28mself\u001b[39m\u001b[38;5;241m.\u001b[39mlname()\n\u001b[0;32m     14\u001b[0m     \u001b[38;5;28mprint\u001b[39m(\u001b[38;5;124mf\u001b[39m\u001b[38;5;124m\"\u001b[39m\u001b[38;5;124memploye fullname is \u001b[39m\u001b[38;5;132;01m{\u001b[39;00mfull_name\u001b[38;5;132;01m}\u001b[39;00m\u001b[38;5;124m\"\u001b[39m)\n",
      "\u001b[1;31mTypeError\u001b[0m: fname() missing 1 required positional argument: 'fname'"
     ]
    }
   ],
   "source": [
    "emp1.fullname(\"yash\",\"dhakade\")"
   ]
  },
  {
   "cell_type": "code",
   "execution_count": null,
   "id": "155743e5",
   "metadata": {},
   "outputs": [],
   "source": []
  }
 ],
 "metadata": {
  "kernelspec": {
   "display_name": "Python 3 (ipykernel)",
   "language": "python",
   "name": "python3"
  },
  "language_info": {
   "codemirror_mode": {
    "name": "ipython",
    "version": 3
   },
   "file_extension": ".py",
   "mimetype": "text/x-python",
   "name": "python",
   "nbconvert_exporter": "python",
   "pygments_lexer": "ipython3",
   "version": "3.9.12"
  }
 },
 "nbformat": 4,
 "nbformat_minor": 5
}
