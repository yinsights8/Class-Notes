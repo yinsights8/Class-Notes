{
 "cells": [
  {
   "cell_type": "code",
   "execution_count": 14,
   "id": "c43dc466",
   "metadata": {},
   "outputs": [],
   "source": [
    "class Vehical():\n",
    "    def __init__(self, max_speed, mileage):\n",
    "        print(\"i am in __init__ I  am executing\")\n",
    "        self.maxspeed = max_speed\n",
    "        self.mileage = mileage\n",
    "#         print(self.maxspeed)\n",
    "#         print(self.mileage)"
   ]
  },
  {
   "cell_type": "code",
   "execution_count": 20,
   "id": "05d02536",
   "metadata": {},
   "outputs": [
    {
     "name": "stdout",
     "output_type": "stream",
     "text": [
      "i am in __init__ I  am executing\n",
      "80\n",
      "500\n"
     ]
    }
   ],
   "source": [
    "veh = Vehical(80, 500)\n",
    "print(veh.maxspeed)\n",
    "print(veh.mileage)"
   ]
  },
  {
   "cell_type": "code",
   "execution_count": null,
   "id": "5a6a02f3",
   "metadata": {},
   "outputs": [],
   "source": []
  },
  {
   "cell_type": "code",
   "execution_count": 21,
   "id": "aefa7705",
   "metadata": {},
   "outputs": [],
   "source": [
    "## Create a class return result even numbers, odd numbers, factors, prime factors and"
   ]
  },
  {
   "cell_type": "code",
   "execution_count": 54,
   "id": "a3ed742a",
   "metadata": {},
   "outputs": [],
   "source": [
    "class Numbers():\n",
    "    def __init__(self):\n",
    "        self.num = int(input(\"Enter a number:- \"))\n",
    "        self.even_num = []\n",
    "        self.odd_num = []\n",
    "        self.factors = []\n",
    "        self.prime_factors = []\n",
    "        self.prime_numbers = []\n",
    "    \n",
    "    def even(self):         ## Even numbers\n",
    "        for i in range(1,self.num+1):\n",
    "            if i % 2 == 0:\n",
    "                self.even_num.append(i)\n",
    "        return f\"Even numbers of {self.num} are:- {self.even_num}\"\n",
    "    \n",
    "    def odd(self):            ## Odd numbers\n",
    "        for i in range(1,self.num+1):\n",
    "            if i % 2 != 0:\n",
    "                self.odd_num.append(i)\n",
    "        return f\"odd numbrs of {self.num} are:- {self.odd_num}\"\n",
    "    \n",
    "    def fact(self):            ## factors\n",
    "        for i in range(1,self.num):\n",
    "            if self.num%i == 0:\n",
    "                self.factors.append(i)\n",
    "        return f\"The prime factors of a {self.num} are:- {self.factors}\"\n",
    "    \n",
    "    def pnum(self):          ## prime numbers\n",
    "        cnt = 0\n",
    "        for i in range(1,self.num+1):\n",
    "            if self.num%i == 0:\n",
    "                cnt += 1\n",
    "            if cnt == 1:\n",
    "                self.prime_numbers.append(i)\n",
    "        return f\"Prime numbers of {self.num} are:- {self.prime_numbers}\"\n",
    "    \n",
    "    def pfact(self):           ## Prime factors\n",
    "        for i in self.factors:\n",
    "            cnt = 0\n",
    "            for j in range(2,i+1):\n",
    "                if i%j == 0:\n",
    "                    cnt += 1\n",
    "            if cnt == 1:\n",
    "                self.prime_factors.append(j)\n",
    "                \n",
    "        return f\"prime factors of {self.num} are:- {self.prime_factors}\""
   ]
  },
  {
   "cell_type": "code",
   "execution_count": 55,
   "id": "59d89afe",
   "metadata": {},
   "outputs": [
    {
     "name": "stdout",
     "output_type": "stream",
     "text": [
      "Enter a number:- 16\n"
     ]
    }
   ],
   "source": [
    "eve = Numbers()"
   ]
  },
  {
   "cell_type": "code",
   "execution_count": 56,
   "id": "60d2ea2c",
   "metadata": {},
   "outputs": [
    {
     "data": {
      "text/plain": [
       "'Even numbers of 16 are:- [2, 4, 6, 8, 10, 12, 14, 16]'"
      ]
     },
     "execution_count": 56,
     "metadata": {},
     "output_type": "execute_result"
    }
   ],
   "source": [
    "eve.even()"
   ]
  },
  {
   "cell_type": "code",
   "execution_count": 57,
   "id": "c7ba757a",
   "metadata": {},
   "outputs": [
    {
     "data": {
      "text/plain": [
       "'odd numbrs of 16 are:- [1, 3, 5, 7, 9, 11, 13, 15]'"
      ]
     },
     "execution_count": 57,
     "metadata": {},
     "output_type": "execute_result"
    }
   ],
   "source": [
    "eve.odd()"
   ]
  },
  {
   "cell_type": "code",
   "execution_count": 58,
   "id": "0eb46223",
   "metadata": {},
   "outputs": [
    {
     "data": {
      "text/plain": [
       "'The prime factors of a 16 are:- [1, 2, 4, 8]'"
      ]
     },
     "execution_count": 58,
     "metadata": {},
     "output_type": "execute_result"
    }
   ],
   "source": [
    "eve.fact()"
   ]
  },
  {
   "cell_type": "code",
   "execution_count": 59,
   "id": "8ab892de",
   "metadata": {},
   "outputs": [
    {
     "data": {
      "text/plain": [
       "'prime factors of 16 are:- [2]'"
      ]
     },
     "execution_count": 59,
     "metadata": {},
     "output_type": "execute_result"
    }
   ],
   "source": [
    "eve.pfact()"
   ]
  },
  {
   "cell_type": "code",
   "execution_count": null,
   "id": "1630afde",
   "metadata": {},
   "outputs": [],
   "source": []
  },
  {
   "cell_type": "code",
   "execution_count": 60,
   "id": "84a425c5",
   "metadata": {},
   "outputs": [
    {
     "name": "stdout",
     "output_type": "stream",
     "text": [
      "Enter a number:- 16\n"
     ]
    }
   ],
   "source": [
    "class Numbers():\n",
    "    from functools import reduce\n",
    "    num = int(input(\"Enter a number:- \"))\n",
    "    even_num = []\n",
    "    odd_num = []\n",
    "    factors = []\n",
    "    prime_factors = []\n",
    "    prime_numbers = []\n",
    "    \n",
    "    def even(self):         ## Even numbers\n",
    "        for i in range(1,self.num+1):\n",
    "            if i % 2 == 0:\n",
    "                self.even_num.append(i)\n",
    "        return f\"Even numbers of {self.num} are:- {self.even_num}\"\n",
    "    \n",
    "    def odd(self):            ## Odd numbers\n",
    "        for i in range(1,self.num+1):\n",
    "            if i % 2 != 0:\n",
    "                self.odd_num.append(i)\n",
    "        return f\"odd numbrs of {self.num} are:- {self.odd_num}\"\n",
    "    \n",
    "    def p_fact(self):            ## factors\n",
    "        for i in range(1,self.num):\n",
    "            if self.num%i == 0:\n",
    "                self.factors.append(i)\n",
    "                \n",
    "        for i in self.factors:\n",
    "            cnt = 0\n",
    "            for j in range(2,i+1):\n",
    "                if i%j == 0:\n",
    "                    cnt += 1\n",
    "            if cnt == 1:\n",
    "                self.prime_factors.append(j)      \n",
    "        \n",
    "        return f\"The factors of a {self.num} are:- {self.factors}\"\n",
    "        return f\"prime factors of {self.num} are:- {self.prime_factors}\"\n",
    "    \n",
    "    def pnum(self):          ## prime numbers\n",
    "        for i in range(1,self.num+1):\n",
    "            cnt = 0\n",
    "            for j in range(2,i+1):\n",
    "                if i%j == 0:\n",
    "                    cnt += 1\n",
    "            if cnt == 1:\n",
    "                self.prime_numbers.append(j)\n",
    "        return f\"Prime numbers of {self.num} are:- {self.prime_numbers}\"\n",
    "    \n",
    "    def fibo(self):      # Fibonachii serires\n",
    "        self.fib = lambda num : reduce(lambda x,_: x+[x[-1]+x[-2]], range(num-2),[0,1])\n",
    "        \n",
    "        return self.fib(self.num)\n",
    "\n",
    "#     def pfact(self):           ## Prime factors\n",
    "        \n",
    "f_num = Numbers()"
   ]
  },
  {
   "cell_type": "code",
   "execution_count": null,
   "id": "b0a8e1b5",
   "metadata": {},
   "outputs": [],
   "source": []
  },
  {
   "cell_type": "code",
   "execution_count": 61,
   "id": "75b1d08f",
   "metadata": {},
   "outputs": [
    {
     "data": {
      "text/plain": [
       "'Even numbers of 16 are:- [2, 4, 6, 8, 10, 12, 14, 16]'"
      ]
     },
     "execution_count": 61,
     "metadata": {},
     "output_type": "execute_result"
    }
   ],
   "source": [
    "f_num.even()"
   ]
  },
  {
   "cell_type": "code",
   "execution_count": 62,
   "id": "92c5a2e2",
   "metadata": {},
   "outputs": [
    {
     "data": {
      "text/plain": [
       "'odd numbrs of 16 are:- [1, 3, 5, 7, 9, 11, 13, 15]'"
      ]
     },
     "execution_count": 62,
     "metadata": {},
     "output_type": "execute_result"
    }
   ],
   "source": [
    "f_num.odd()"
   ]
  },
  {
   "cell_type": "code",
   "execution_count": 63,
   "id": "a83cd503",
   "metadata": {},
   "outputs": [
    {
     "data": {
      "text/plain": [
       "'Prime numbers of 16 are:- [2, 3, 5, 7, 11, 13]'"
      ]
     },
     "execution_count": 63,
     "metadata": {},
     "output_type": "execute_result"
    }
   ],
   "source": [
    "f_num.pnum()"
   ]
  },
  {
   "cell_type": "code",
   "execution_count": 64,
   "id": "032b274b",
   "metadata": {},
   "outputs": [
    {
     "data": {
      "text/plain": [
       "'The factors of a 16 are:- [1, 2, 4, 8]'"
      ]
     },
     "execution_count": 64,
     "metadata": {},
     "output_type": "execute_result"
    }
   ],
   "source": [
    "f_num.p_fact()"
   ]
  },
  {
   "cell_type": "code",
   "execution_count": 65,
   "id": "64fba8c8",
   "metadata": {},
   "outputs": [
    {
     "data": {
      "text/plain": [
       "[2]"
      ]
     },
     "execution_count": 65,
     "metadata": {},
     "output_type": "execute_result"
    }
   ],
   "source": [
    "f_num.prime_factors"
   ]
  },
  {
   "cell_type": "code",
   "execution_count": 66,
   "id": "f10fa186",
   "metadata": {},
   "outputs": [
    {
     "data": {
      "text/plain": [
       "[0, 1, 1, 2, 3, 5, 8, 13, 21, 34, 55, 89, 144, 233, 377, 610]"
      ]
     },
     "execution_count": 66,
     "metadata": {},
     "output_type": "execute_result"
    }
   ],
   "source": [
    "f_num.fibo()"
   ]
  },
  {
   "cell_type": "code",
   "execution_count": null,
   "id": "8de49698",
   "metadata": {},
   "outputs": [],
   "source": []
  },
  {
   "cell_type": "code",
   "execution_count": null,
   "id": "e1a2446a",
   "metadata": {},
   "outputs": [],
   "source": []
  },
  {
   "cell_type": "code",
   "execution_count": null,
   "id": "1cff787a",
   "metadata": {},
   "outputs": [],
   "source": []
  },
  {
   "cell_type": "code",
   "execution_count": null,
   "id": "af3969a3",
   "metadata": {},
   "outputs": [],
   "source": []
  },
  {
   "cell_type": "code",
   "execution_count": null,
   "id": "840d955b",
   "metadata": {},
   "outputs": [],
   "source": []
  }
 ],
 "metadata": {
  "kernelspec": {
   "display_name": "Python 3 (ipykernel)",
   "language": "python",
   "name": "python3"
  },
  "language_info": {
   "codemirror_mode": {
    "name": "ipython",
    "version": 3
   },
   "file_extension": ".py",
   "mimetype": "text/x-python",
   "name": "python",
   "nbconvert_exporter": "python",
   "pygments_lexer": "ipython3",
   "version": "3.9.12"
  }
 },
 "nbformat": 4,
 "nbformat_minor": 5
}
