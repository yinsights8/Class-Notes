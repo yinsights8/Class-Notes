{
 "cells": [
  {
   "cell_type": "code",
   "execution_count": null,
   "id": "96879db3",
   "metadata": {},
   "outputs": [],
   "source": [
    "# in bellow method we are adding individual parameters to the method \n",
    "# we can relate this to if we don't have __int__ method, what would we do that time "
   ]
  },
  {
   "cell_type": "code",
   "execution_count": 60,
   "id": "083b1713",
   "metadata": {},
   "outputs": [],
   "source": [
    "class empDetails():\n",
    "    \n",
    "    def fname(self,fname):\n",
    "#         self.fname = fname\n",
    "        print(f\"employe fname is {fname}\")  # for now it local variable and it is only accesable for lname\n",
    "        \n",
    "        \n",
    "    def lname(self,lname):\n",
    "#         self.lname = lname\n",
    "        print(f\"employe lname is {lname}\")  # for now it local variable and it is only accesable for lname\n",
    "        \n",
    "        \n",
    "        \n",
    "    def fullname(self):\n",
    "#         self.fname() + self.lname()\n",
    "        print(f\"employe fullname is {fname} {lname}\") # in order to use it inside of fullname we have to specify self.name\n",
    "        \n",
    "        \n",
    "    def emp_salary(self,salary):\n",
    "        print(f\"employe salary is {salary}\")\n",
    "        \n",
    "        \n",
    "    def emp_company(self,company):\n",
    "        print(f\"employe company is {company}\")\n",
    "        \n",
    "        \n",
    "    def emp_designation(self,designation):\n",
    "        print(f\"employe designation is {designation}\")"
   ]
  },
  {
   "cell_type": "code",
   "execution_count": 61,
   "id": "1b8de556",
   "metadata": {},
   "outputs": [],
   "source": [
    "emp1 = empDetails()"
   ]
  },
  {
   "cell_type": "code",
   "execution_count": 62,
   "id": "18e2855f",
   "metadata": {},
   "outputs": [
    {
     "name": "stdout",
     "output_type": "stream",
     "text": [
      "employe fname is Yash\n"
     ]
    }
   ],
   "source": [
    "e1 = emp1.fname(\"Yash\")"
   ]
  },
  {
   "cell_type": "code",
   "execution_count": 63,
   "id": "9a6ff763",
   "metadata": {},
   "outputs": [
    {
     "name": "stdout",
     "output_type": "stream",
     "text": [
      "employe lname is Dhakade\n"
     ]
    }
   ],
   "source": [
    "e2 = emp1.lname(\"Dhakade\")"
   ]
  },
  {
   "cell_type": "code",
   "execution_count": 64,
   "id": "165b925b",
   "metadata": {},
   "outputs": [
    {
     "ename": "NameError",
     "evalue": "name 'fname' is not defined",
     "output_type": "error",
     "traceback": [
      "\u001b[1;31m---------------------------------------------------------------------------\u001b[0m",
      "\u001b[1;31mNameError\u001b[0m                                 Traceback (most recent call last)",
      "Input \u001b[1;32mIn [64]\u001b[0m, in \u001b[0;36m<cell line: 1>\u001b[1;34m()\u001b[0m\n\u001b[1;32m----> 1\u001b[0m \u001b[43memp1\u001b[49m\u001b[38;5;241;43m.\u001b[39;49m\u001b[43mfullname\u001b[49m\u001b[43m(\u001b[49m\u001b[43m)\u001b[49m\n",
      "Input \u001b[1;32mIn [60]\u001b[0m, in \u001b[0;36mempDetails.fullname\u001b[1;34m(self)\u001b[0m\n\u001b[0;32m     13\u001b[0m     \u001b[38;5;28;01mdef\u001b[39;00m \u001b[38;5;21mfullname\u001b[39m(\u001b[38;5;28mself\u001b[39m):\n\u001b[0;32m     14\u001b[0m \u001b[38;5;66;03m#         self.fname() + self.lname()\u001b[39;00m\n\u001b[1;32m---> 15\u001b[0m         \u001b[38;5;28mprint\u001b[39m(\u001b[38;5;124mf\u001b[39m\u001b[38;5;124m\"\u001b[39m\u001b[38;5;124memploye fullname is \u001b[39m\u001b[38;5;132;01m{\u001b[39;00mfname\u001b[38;5;132;01m}\u001b[39;00m\u001b[38;5;124m \u001b[39m\u001b[38;5;132;01m{\u001b[39;00mlname\u001b[38;5;132;01m}\u001b[39;00m\u001b[38;5;124m\"\u001b[39m)\n",
      "\u001b[1;31mNameError\u001b[0m: name 'fname' is not defined"
     ]
    }
   ],
   "source": [
    "emp1.fullname()"
   ]
  },
  {
   "cell_type": "code",
   "execution_count": null,
   "id": "d547fe62",
   "metadata": {},
   "outputs": [],
   "source": []
  },
  {
   "cell_type": "code",
   "execution_count": 77,
   "id": "f671aac9",
   "metadata": {},
   "outputs": [],
   "source": [
    "class empDetails():\n",
    "    \n",
    "    def fname(self,fname):\n",
    "        self.fname = fname\n",
    "        print(f\"employe fname is {fname}\")\n",
    "        \n",
    "        \n",
    "    def lname(self,lname):\n",
    "        self.lname = lname\n",
    "        print(f\"employe lname is {lname}\")\n",
    "        \n",
    "        \n",
    "    def fullname(self):\n",
    "#         self.fname() + self.lname()\n",
    "        print(f\"employe fullname is {self.fname} {self.lname}\")\n",
    "        \n",
    "        \n",
    "    def emp_salary(self,salary):\n",
    "        print(f\"employe salary is {salary}\")\n",
    "        \n",
    "        \n",
    "    def emp_company(self,company):\n",
    "        print(f\"employe company is {company}\")\n",
    "        \n",
    "        \n",
    "    def emp_designation(self,designation):\n",
    "        print(f\"employe designation is {designation}\")"
   ]
  },
  {
   "cell_type": "code",
   "execution_count": 78,
   "id": "2a44d5ed",
   "metadata": {},
   "outputs": [],
   "source": [
    "emp1 = empDetails()"
   ]
  },
  {
   "cell_type": "code",
   "execution_count": 79,
   "id": "99192369",
   "metadata": {},
   "outputs": [
    {
     "name": "stdout",
     "output_type": "stream",
     "text": [
      "employe fname is yash\n"
     ]
    }
   ],
   "source": [
    "emp1.fname(\"yash\")"
   ]
  },
  {
   "cell_type": "code",
   "execution_count": 80,
   "id": "e88c52d6",
   "metadata": {},
   "outputs": [
    {
     "name": "stdout",
     "output_type": "stream",
     "text": [
      "employe lname is Dhakade\n"
     ]
    }
   ],
   "source": [
    "emp1.lname(\"Dhakade\")"
   ]
  },
  {
   "cell_type": "code",
   "execution_count": 81,
   "id": "539906ab",
   "metadata": {},
   "outputs": [
    {
     "name": "stdout",
     "output_type": "stream",
     "text": [
      "employe fullname is yash Dhakade\n"
     ]
    }
   ],
   "source": [
    "emp1.fullname()"
   ]
  },
  {
   "cell_type": "code",
   "execution_count": 82,
   "id": "18ef4f3a",
   "metadata": {},
   "outputs": [
    {
     "name": "stdout",
     "output_type": "stream",
     "text": [
      "employe salary is 1500000\n"
     ]
    }
   ],
   "source": [
    "emp1.emp_salary(1500000)"
   ]
  },
  {
   "cell_type": "code",
   "execution_count": 83,
   "id": "4bdc8c66",
   "metadata": {},
   "outputs": [
    {
     "name": "stdout",
     "output_type": "stream",
     "text": [
      "employe company is Microsoft\n"
     ]
    }
   ],
   "source": [
    "emp1.emp_company(\"Microsoft\")"
   ]
  },
  {
   "cell_type": "code",
   "execution_count": 84,
   "id": "bacd2091",
   "metadata": {},
   "outputs": [
    {
     "name": "stdout",
     "output_type": "stream",
     "text": [
      "employe designation is Data Scientist\n"
     ]
    }
   ],
   "source": [
    "emp1.emp_designation(\"Data Scientist\")"
   ]
  },
  {
   "cell_type": "markdown",
   "id": "df6865bc",
   "metadata": {},
   "source": [
    "### __init__ Method"
   ]
  },
  {
   "cell_type": "markdown",
   "id": "1f0b390a",
   "metadata": {},
   "source": [
    "this init method will automatically excecute whenever we create an object"
   ]
  },
  {
   "cell_type": "code",
   "execution_count": 93,
   "id": "1167b10c",
   "metadata": {},
   "outputs": [],
   "source": [
    "class Example:\n",
    "    def __init__(self):\n",
    "        print(\"I am __init__\\nI will be automatically execute. once i define\")"
   ]
  },
  {
   "cell_type": "code",
   "execution_count": 94,
   "id": "9d6f0d28",
   "metadata": {},
   "outputs": [
    {
     "name": "stdout",
     "output_type": "stream",
     "text": [
      "I am __init__\n",
      "I will be automatically execute. once i define\n"
     ]
    }
   ],
   "source": [
    "obj = Example()"
   ]
  },
  {
   "cell_type": "code",
   "execution_count": 108,
   "id": "6c206e27",
   "metadata": {},
   "outputs": [],
   "source": [
    "class Exam():\n",
    "    def __init__(self,name,locaiton,work):\n",
    "        print(\"Executing __init__ method\")\n",
    "        self.name = name\n",
    "        self.locaiton = locaiton\n",
    "        self.work = work\n",
    "        print(f\"__init__ method name:- {self.name}\")\n",
    "        print(f\"__init__ method locaiton:- {self.locaiton}\")\n",
    "        print(f\"__init__ method work:- {self.work}\")"
   ]
  },
  {
   "cell_type": "code",
   "execution_count": 110,
   "id": "f95b8060",
   "metadata": {},
   "outputs": [
    {
     "name": "stdout",
     "output_type": "stream",
     "text": [
      "Executing __init__ method\n",
      "__init__ method name:- Yash\n",
      "__init__ method locaiton:- America\n",
      "__init__ method work:- data scientist\n"
     ]
    }
   ],
   "source": [
    "ex = Exam(\"Yash\",\"America\",\"data scientist\")"
   ]
  },
  {
   "cell_type": "code",
   "execution_count": null,
   "id": "af41ad4f",
   "metadata": {},
   "outputs": [],
   "source": []
  },
  {
   "cell_type": "code",
   "execution_count": 149,
   "id": "09f1840e",
   "metadata": {},
   "outputs": [],
   "source": [
    "class empDetails():\n",
    "    def __init__(self, fname, lname, salary, company, designation):\n",
    "        print(\"In __init__ Method\")\n",
    "        self.fname = fname\n",
    "        self.lname = lname\n",
    "        self.salary = salary\n",
    "        self. company = company\n",
    "        self.designation = designation\n",
    "        print(\"I am executed\")\n",
    "        \n",
    "    def emp_fname(self):\n",
    "        print(f\"employe fname is {self.fname}\")\n",
    "        \n",
    "        \n",
    "    def emp_lname(self):\n",
    "        print(f\"employe lname is {self.lname}\")\n",
    "        \n",
    "        \n",
    "    def emp_salary(self):\n",
    "        print(f\"employe salary is {self.salary}\")\n",
    "        \n",
    "        \n",
    "    def emp_company(self):\n",
    "        print(f\"employe company is {self.company}\")\n",
    "        \n",
    "        \n",
    "    def emp_designation(self):\n",
    "        print(f\"employe designation is {self.designation}\")"
   ]
  },
  {
   "cell_type": "code",
   "execution_count": 158,
   "id": "c3502cc2",
   "metadata": {},
   "outputs": [
    {
     "name": "stdout",
     "output_type": "stream",
     "text": [
      "In __init__ Method\n",
      "I am executed\n"
     ]
    }
   ],
   "source": [
    "e1 = empDetails(fname=\"Yash\", lname=\"Dhakade\", salary=500000, designation=\"Data Scientist\", company=\"Microsoft\")"
   ]
  },
  {
   "cell_type": "code",
   "execution_count": 159,
   "id": "6832dc51",
   "metadata": {},
   "outputs": [
    {
     "name": "stdout",
     "output_type": "stream",
     "text": [
      "employe fname is Yash\n"
     ]
    }
   ],
   "source": [
    "e1.emp_fname()"
   ]
  },
  {
   "cell_type": "code",
   "execution_count": 160,
   "id": "bf37e695",
   "metadata": {},
   "outputs": [
    {
     "name": "stdout",
     "output_type": "stream",
     "text": [
      "employe lname is Dhakade\n"
     ]
    }
   ],
   "source": [
    "e1.emp_lname()"
   ]
  },
  {
   "cell_type": "code",
   "execution_count": 161,
   "id": "80ed4645",
   "metadata": {},
   "outputs": [
    {
     "name": "stdout",
     "output_type": "stream",
     "text": [
      "employe salary is 500000\n"
     ]
    }
   ],
   "source": [
    "e1.emp_salary()"
   ]
  },
  {
   "cell_type": "code",
   "execution_count": 162,
   "id": "15a40872",
   "metadata": {},
   "outputs": [
    {
     "name": "stdout",
     "output_type": "stream",
     "text": [
      "employe company is Microsoft\n"
     ]
    }
   ],
   "source": [
    "e1.emp_company()"
   ]
  },
  {
   "cell_type": "code",
   "execution_count": 163,
   "id": "e93df4f0",
   "metadata": {},
   "outputs": [
    {
     "name": "stdout",
     "output_type": "stream",
     "text": [
      "employe designation is Data Scientist\n"
     ]
    }
   ],
   "source": [
    "e1.emp_designation()"
   ]
  },
  {
   "cell_type": "code",
   "execution_count": 164,
   "id": "8bd53f4e",
   "metadata": {},
   "outputs": [
    {
     "name": "stdout",
     "output_type": "stream",
     "text": [
      "In __init__ Method\n",
      "I am executed\n"
     ]
    }
   ],
   "source": [
    "e2 = empDetails(fname=\"shreya\", lname=\"Dhakade\", salary=500000, designation=\"Data Scientist\", company=\"Google\")"
   ]
  },
  {
   "cell_type": "code",
   "execution_count": 168,
   "id": "a241447f",
   "metadata": {},
   "outputs": [
    {
     "name": "stdout",
     "output_type": "stream",
     "text": [
      "employe designation is Data Scientist\n"
     ]
    }
   ],
   "source": [
    "e2.emp_designation()"
   ]
  },
  {
   "cell_type": "code",
   "execution_count": 169,
   "id": "1265e323",
   "metadata": {},
   "outputs": [
    {
     "name": "stdout",
     "output_type": "stream",
     "text": [
      "employe company is Google\n"
     ]
    }
   ],
   "source": [
    "e2.emp_company()"
   ]
  },
  {
   "cell_type": "code",
   "execution_count": 170,
   "id": "425637e3",
   "metadata": {},
   "outputs": [
    {
     "name": "stdout",
     "output_type": "stream",
     "text": [
      "employe fname is shreya\n"
     ]
    }
   ],
   "source": [
    "e2.emp_fname()"
   ]
  },
  {
   "cell_type": "code",
   "execution_count": 171,
   "id": "cd8e4db9",
   "metadata": {},
   "outputs": [
    {
     "name": "stdout",
     "output_type": "stream",
     "text": [
      "employe lname is Dhakade\n"
     ]
    }
   ],
   "source": [
    "e2.emp_lname()"
   ]
  },
  {
   "cell_type": "code",
   "execution_count": 172,
   "id": "a273ffde",
   "metadata": {},
   "outputs": [
    {
     "name": "stdout",
     "output_type": "stream",
     "text": [
      "employe salary is 500000\n"
     ]
    }
   ],
   "source": [
    "e2.emp_salary()"
   ]
  },
  {
   "cell_type": "code",
   "execution_count": 174,
   "id": "478eece1",
   "metadata": {},
   "outputs": [
    {
     "name": "stdout",
     "output_type": "stream",
     "text": [
      "{'fname': 'shreya', 'lname': 'Dhakade', 'salary': 500000, 'company': 'Google', 'designation': 'Data Scientist'}\n"
     ]
    }
   ],
   "source": [
    "print(e2.__dict__)"
   ]
  },
  {
   "cell_type": "code",
   "execution_count": 175,
   "id": "6bb5d0ea",
   "metadata": {},
   "outputs": [
    {
     "name": "stdout",
     "output_type": "stream",
     "text": [
      "{'fname': 'Yash', 'lname': 'Dhakade', 'salary': 500000, 'company': 'Microsoft', 'designation': 'Data Scientist'}\n"
     ]
    }
   ],
   "source": [
    "print(e1.__dict__)"
   ]
  },
  {
   "cell_type": "code",
   "execution_count": 176,
   "id": "9279030b",
   "metadata": {},
   "outputs": [
    {
     "data": {
      "text/plain": [
       "['__class__',\n",
       " '__delattr__',\n",
       " '__dict__',\n",
       " '__dir__',\n",
       " '__doc__',\n",
       " '__eq__',\n",
       " '__format__',\n",
       " '__ge__',\n",
       " '__getattribute__',\n",
       " '__gt__',\n",
       " '__hash__',\n",
       " '__init__',\n",
       " '__init_subclass__',\n",
       " '__le__',\n",
       " '__lt__',\n",
       " '__module__',\n",
       " '__ne__',\n",
       " '__new__',\n",
       " '__reduce__',\n",
       " '__reduce_ex__',\n",
       " '__repr__',\n",
       " '__setattr__',\n",
       " '__sizeof__',\n",
       " '__str__',\n",
       " '__subclasshook__',\n",
       " '__weakref__',\n",
       " 'company',\n",
       " 'designation',\n",
       " 'emp_company',\n",
       " 'emp_designation',\n",
       " 'emp_fname',\n",
       " 'emp_lname',\n",
       " 'emp_salary',\n",
       " 'fname',\n",
       " 'lname',\n",
       " 'salary']"
      ]
     },
     "execution_count": 176,
     "metadata": {},
     "output_type": "execute_result"
    }
   ],
   "source": [
    "dir(e1)"
   ]
  },
  {
   "cell_type": "code",
   "execution_count": 177,
   "id": "081ea890",
   "metadata": {},
   "outputs": [
    {
     "data": {
      "text/plain": [
       "['__class__',\n",
       " '__delattr__',\n",
       " '__dict__',\n",
       " '__dir__',\n",
       " '__doc__',\n",
       " '__eq__',\n",
       " '__format__',\n",
       " '__ge__',\n",
       " '__getattribute__',\n",
       " '__gt__',\n",
       " '__hash__',\n",
       " '__init__',\n",
       " '__init_subclass__',\n",
       " '__le__',\n",
       " '__lt__',\n",
       " '__module__',\n",
       " '__ne__',\n",
       " '__new__',\n",
       " '__reduce__',\n",
       " '__reduce_ex__',\n",
       " '__repr__',\n",
       " '__setattr__',\n",
       " '__sizeof__',\n",
       " '__str__',\n",
       " '__subclasshook__',\n",
       " '__weakref__',\n",
       " 'company',\n",
       " 'designation',\n",
       " 'emp_company',\n",
       " 'emp_designation',\n",
       " 'emp_fname',\n",
       " 'emp_lname',\n",
       " 'emp_salary',\n",
       " 'fname',\n",
       " 'lname',\n",
       " 'salary']"
      ]
     },
     "execution_count": 177,
     "metadata": {},
     "output_type": "execute_result"
    }
   ],
   "source": [
    "dir(e2)"
   ]
  },
  {
   "cell_type": "code",
   "execution_count": 178,
   "id": "3b0b2149",
   "metadata": {},
   "outputs": [
    {
     "data": {
      "text/plain": [
       "['__add__',\n",
       " '__class__',\n",
       " '__class_getitem__',\n",
       " '__contains__',\n",
       " '__delattr__',\n",
       " '__delitem__',\n",
       " '__dir__',\n",
       " '__doc__',\n",
       " '__eq__',\n",
       " '__format__',\n",
       " '__ge__',\n",
       " '__getattribute__',\n",
       " '__getitem__',\n",
       " '__gt__',\n",
       " '__hash__',\n",
       " '__iadd__',\n",
       " '__imul__',\n",
       " '__init__',\n",
       " '__init_subclass__',\n",
       " '__iter__',\n",
       " '__le__',\n",
       " '__len__',\n",
       " '__lt__',\n",
       " '__mul__',\n",
       " '__ne__',\n",
       " '__new__',\n",
       " '__reduce__',\n",
       " '__reduce_ex__',\n",
       " '__repr__',\n",
       " '__reversed__',\n",
       " '__rmul__',\n",
       " '__setattr__',\n",
       " '__setitem__',\n",
       " '__sizeof__',\n",
       " '__str__',\n",
       " '__subclasshook__',\n",
       " 'append',\n",
       " 'clear',\n",
       " 'copy',\n",
       " 'count',\n",
       " 'extend',\n",
       " 'index',\n",
       " 'insert',\n",
       " 'pop',\n",
       " 'remove',\n",
       " 'reverse',\n",
       " 'sort']"
      ]
     },
     "execution_count": 178,
     "metadata": {},
     "output_type": "execute_result"
    }
   ],
   "source": [
    "dir(list)"
   ]
  },
  {
   "cell_type": "code",
   "execution_count": 179,
   "id": "79eb53da",
   "metadata": {},
   "outputs": [
    {
     "data": {
      "text/plain": [
       "['__add__',\n",
       " '__class__',\n",
       " '__class_getitem__',\n",
       " '__contains__',\n",
       " '__delattr__',\n",
       " '__dir__',\n",
       " '__doc__',\n",
       " '__eq__',\n",
       " '__format__',\n",
       " '__ge__',\n",
       " '__getattribute__',\n",
       " '__getitem__',\n",
       " '__getnewargs__',\n",
       " '__gt__',\n",
       " '__hash__',\n",
       " '__init__',\n",
       " '__init_subclass__',\n",
       " '__iter__',\n",
       " '__le__',\n",
       " '__len__',\n",
       " '__lt__',\n",
       " '__mul__',\n",
       " '__ne__',\n",
       " '__new__',\n",
       " '__reduce__',\n",
       " '__reduce_ex__',\n",
       " '__repr__',\n",
       " '__rmul__',\n",
       " '__setattr__',\n",
       " '__sizeof__',\n",
       " '__str__',\n",
       " '__subclasshook__',\n",
       " 'count',\n",
       " 'index']"
      ]
     },
     "execution_count": 179,
     "metadata": {},
     "output_type": "execute_result"
    }
   ],
   "source": [
    "dir(tuple)"
   ]
  },
  {
   "cell_type": "code",
   "execution_count": 180,
   "id": "773f4d61",
   "metadata": {},
   "outputs": [
    {
     "data": {
      "text/plain": [
       "['__and__',\n",
       " '__class__',\n",
       " '__class_getitem__',\n",
       " '__contains__',\n",
       " '__delattr__',\n",
       " '__dir__',\n",
       " '__doc__',\n",
       " '__eq__',\n",
       " '__format__',\n",
       " '__ge__',\n",
       " '__getattribute__',\n",
       " '__gt__',\n",
       " '__hash__',\n",
       " '__iand__',\n",
       " '__init__',\n",
       " '__init_subclass__',\n",
       " '__ior__',\n",
       " '__isub__',\n",
       " '__iter__',\n",
       " '__ixor__',\n",
       " '__le__',\n",
       " '__len__',\n",
       " '__lt__',\n",
       " '__ne__',\n",
       " '__new__',\n",
       " '__or__',\n",
       " '__rand__',\n",
       " '__reduce__',\n",
       " '__reduce_ex__',\n",
       " '__repr__',\n",
       " '__ror__',\n",
       " '__rsub__',\n",
       " '__rxor__',\n",
       " '__setattr__',\n",
       " '__sizeof__',\n",
       " '__str__',\n",
       " '__sub__',\n",
       " '__subclasshook__',\n",
       " '__xor__',\n",
       " 'add',\n",
       " 'clear',\n",
       " 'copy',\n",
       " 'difference',\n",
       " 'difference_update',\n",
       " 'discard',\n",
       " 'intersection',\n",
       " 'intersection_update',\n",
       " 'isdisjoint',\n",
       " 'issubset',\n",
       " 'issuperset',\n",
       " 'pop',\n",
       " 'remove',\n",
       " 'symmetric_difference',\n",
       " 'symmetric_difference_update',\n",
       " 'union',\n",
       " 'update']"
      ]
     },
     "execution_count": 180,
     "metadata": {},
     "output_type": "execute_result"
    }
   ],
   "source": [
    "dir(set)"
   ]
  },
  {
   "cell_type": "code",
   "execution_count": 181,
   "id": "c10e348a",
   "metadata": {},
   "outputs": [
    {
     "data": {
      "text/plain": [
       "['__and__',\n",
       " '__class__',\n",
       " '__class_getitem__',\n",
       " '__contains__',\n",
       " '__delattr__',\n",
       " '__dir__',\n",
       " '__doc__',\n",
       " '__eq__',\n",
       " '__format__',\n",
       " '__ge__',\n",
       " '__getattribute__',\n",
       " '__gt__',\n",
       " '__hash__',\n",
       " '__init__',\n",
       " '__init_subclass__',\n",
       " '__iter__',\n",
       " '__le__',\n",
       " '__len__',\n",
       " '__lt__',\n",
       " '__ne__',\n",
       " '__new__',\n",
       " '__or__',\n",
       " '__rand__',\n",
       " '__reduce__',\n",
       " '__reduce_ex__',\n",
       " '__repr__',\n",
       " '__ror__',\n",
       " '__rsub__',\n",
       " '__rxor__',\n",
       " '__setattr__',\n",
       " '__sizeof__',\n",
       " '__str__',\n",
       " '__sub__',\n",
       " '__subclasshook__',\n",
       " '__xor__',\n",
       " 'copy',\n",
       " 'difference',\n",
       " 'intersection',\n",
       " 'isdisjoint',\n",
       " 'issubset',\n",
       " 'issuperset',\n",
       " 'symmetric_difference',\n",
       " 'union']"
      ]
     },
     "execution_count": 181,
     "metadata": {},
     "output_type": "execute_result"
    }
   ],
   "source": [
    "dir(frozenset)"
   ]
  },
  {
   "cell_type": "code",
   "execution_count": 182,
   "id": "c43a7e82",
   "metadata": {},
   "outputs": [
    {
     "data": {
      "text/plain": [
       "['__class__',\n",
       " '__class_getitem__',\n",
       " '__contains__',\n",
       " '__delattr__',\n",
       " '__delitem__',\n",
       " '__dir__',\n",
       " '__doc__',\n",
       " '__eq__',\n",
       " '__format__',\n",
       " '__ge__',\n",
       " '__getattribute__',\n",
       " '__getitem__',\n",
       " '__gt__',\n",
       " '__hash__',\n",
       " '__init__',\n",
       " '__init_subclass__',\n",
       " '__ior__',\n",
       " '__iter__',\n",
       " '__le__',\n",
       " '__len__',\n",
       " '__lt__',\n",
       " '__ne__',\n",
       " '__new__',\n",
       " '__or__',\n",
       " '__reduce__',\n",
       " '__reduce_ex__',\n",
       " '__repr__',\n",
       " '__reversed__',\n",
       " '__ror__',\n",
       " '__setattr__',\n",
       " '__setitem__',\n",
       " '__sizeof__',\n",
       " '__str__',\n",
       " '__subclasshook__',\n",
       " 'clear',\n",
       " 'copy',\n",
       " 'fromkeys',\n",
       " 'get',\n",
       " 'items',\n",
       " 'keys',\n",
       " 'pop',\n",
       " 'popitem',\n",
       " 'setdefault',\n",
       " 'update',\n",
       " 'values']"
      ]
     },
     "execution_count": 182,
     "metadata": {},
     "output_type": "execute_result"
    }
   ],
   "source": [
    "dir(dict)"
   ]
  },
  {
   "cell_type": "code",
   "execution_count": 196,
   "id": "177927d0",
   "metadata": {},
   "outputs": [],
   "source": [
    "class GetFullDetails():\n",
    "    def __init__(self, fname, lname):\n",
    "        print(\"Execution successfull\")\n",
    "        self.fname = fname\n",
    "        self.lname = lname\n",
    "        self. email = fname.lower() + \".\" + lname.lower() + \"@gmail.com\"\n",
    "        \n",
    "    def getdetails(self):\n",
    "        print(f\"employe fname:- {self.fname}\")\n",
    "        print(f\"employe lname:- {self.lname}\")\n",
    "        print(f\"employe Mail ID:- {self.email}\")"
   ]
  },
  {
   "cell_type": "code",
   "execution_count": 197,
   "id": "bcb55483",
   "metadata": {},
   "outputs": [
    {
     "name": "stdout",
     "output_type": "stream",
     "text": [
      "Execution successfull\n"
     ]
    }
   ],
   "source": [
    "f_details = GetFullDetails(\"Yash\",\"Dhakade\")"
   ]
  },
  {
   "cell_type": "code",
   "execution_count": 198,
   "id": "5fc13206",
   "metadata": {},
   "outputs": [
    {
     "name": "stdout",
     "output_type": "stream",
     "text": [
      "yash.dhakade@gmail.com\n",
      "Yash\n",
      "Dhakade\n"
     ]
    }
   ],
   "source": [
    "print(f_details.email)\n",
    "print(f_details.fname)\n",
    "print(f_details.lname)"
   ]
  },
  {
   "cell_type": "code",
   "execution_count": 199,
   "id": "5c1c4727",
   "metadata": {},
   "outputs": [
    {
     "name": "stdout",
     "output_type": "stream",
     "text": [
      "employe fname:- Yash\n",
      "employe lname:- Dhakade\n",
      "employe Mail ID:- yash.dhakade@gmail.com\n"
     ]
    }
   ],
   "source": [
    "f_details.getdetails()"
   ]
  },
  {
   "cell_type": "code",
   "execution_count": 200,
   "id": "defad9ba",
   "metadata": {},
   "outputs": [
    {
     "name": "stdout",
     "output_type": "stream",
     "text": [
      "employe fname:- Yash\n",
      "employe lname:- Dhakade\n",
      "employe Mail ID:- yash.dhakade@gmail.com\n"
     ]
    }
   ],
   "source": [
    "GetFullDetails.getdetails(f_details)"
   ]
  },
  {
   "cell_type": "markdown",
   "id": "52a88f12",
   "metadata": {},
   "source": [
    "## Class Variable"
   ]
  },
  {
   "cell_type": "code",
   "execution_count": 1,
   "id": "200463f7",
   "metadata": {},
   "outputs": [],
   "source": [
    "class Employe():\n",
    "    raise_pay = 5\n",
    "    def __init__(self, fname, lname, pay):\n",
    "        self.fname = fname\n",
    "        self.lname = lname\n",
    "        self.pay = pay\n",
    "        self.email = fname.lower() + \".\" + lname.lower() + \"@gmail.com\"  \n",
    "    \n",
    "    def emp_details(self):\n",
    "        print(f\"employe fname:- {self.fname}\")\n",
    "        print(f\"employe lname:- {self.lname}\")\n",
    "        print(f\"employe Mail ID:- {self.email}\")\n",
    "        \n",
    "    def emp_pay(self):\n",
    "#         print(self.pay)\n",
    "#         print(f\"employe salary:- {self.pay}\\n\")\n",
    "        \n",
    "        self.pay = self.pay * Employe.raise_pay\n",
    "        \n",
    "#         print(f\"increased pay:- \\n{raise_salary}\")"
   ]
  },
  {
   "cell_type": "code",
   "execution_count": 2,
   "id": "62d75ed0",
   "metadata": {},
   "outputs": [],
   "source": [
    "emp_1 = Employe(\"Yash\", \"Dhakade\", 5000000)"
   ]
  },
  {
   "cell_type": "code",
   "execution_count": 3,
   "id": "26229a51",
   "metadata": {},
   "outputs": [
    {
     "name": "stdout",
     "output_type": "stream",
     "text": [
      "employe fname:- Yash\n",
      "employe lname:- Dhakade\n",
      "employe Mail ID:- yash.dhakade@gmail.com\n"
     ]
    }
   ],
   "source": [
    "emp_1.emp_details()"
   ]
  },
  {
   "cell_type": "code",
   "execution_count": 4,
   "id": "202aaecf",
   "metadata": {},
   "outputs": [],
   "source": [
    "emp_1.emp_pay()"
   ]
  },
  {
   "cell_type": "code",
   "execution_count": null,
   "id": "2eade950",
   "metadata": {},
   "outputs": [],
   "source": []
  },
  {
   "cell_type": "markdown",
   "id": "0ba95116",
   "metadata": {},
   "source": [
    "## want to print two pay's for two employes"
   ]
  },
  {
   "cell_type": "code",
   "execution_count": 5,
   "id": "a5ab0e1e",
   "metadata": {},
   "outputs": [],
   "source": [
    "emp_1 = Employe(\"Yash\", \"Dhakade\", 50000)\n",
    "emp_2 = Employe(\"Ak\", \"khan\", 1000)"
   ]
  },
  {
   "cell_type": "code",
   "execution_count": 6,
   "id": "fd1b90cf",
   "metadata": {},
   "outputs": [
    {
     "name": "stdout",
     "output_type": "stream",
     "text": [
      "5\n",
      "50000\n",
      "250000\n"
     ]
    }
   ],
   "source": [
    "print(emp_1.raise_pay)\n",
    "print(emp_1.pay)\n",
    "emp_1.emp_pay()\n",
    "print(emp_1.pay)"
   ]
  },
  {
   "cell_type": "code",
   "execution_count": 7,
   "id": "a9770390",
   "metadata": {},
   "outputs": [
    {
     "name": "stdout",
     "output_type": "stream",
     "text": [
      "5\n",
      "1000\n",
      "5000\n"
     ]
    }
   ],
   "source": [
    "print(emp_2.raise_pay)\n",
    "print(emp_2.pay)\n",
    "emp_2.emp_pay()\n",
    "print(emp_2.pay)"
   ]
  },
  {
   "cell_type": "code",
   "execution_count": null,
   "id": "7b836f62",
   "metadata": {},
   "outputs": [],
   "source": []
  },
  {
   "cell_type": "markdown",
   "id": "1ac37bde",
   "metadata": {},
   "source": [
    "## want to increase their salary individually"
   ]
  },
  {
   "cell_type": "markdown",
   "id": "8ac29573",
   "metadata": {},
   "source": [
    "- expected output\n",
    "- emp_1 = 300000\n",
    "- emp_2 = 25000"
   ]
  },
  {
   "cell_type": "code",
   "execution_count": 3,
   "id": "95703f7c",
   "metadata": {},
   "outputs": [],
   "source": [
    "class Employe():\n",
    "    raise_pay = 5\n",
    "    NoOfEmp = 0\n",
    "    def __init__(self, fname, lname, pay):\n",
    "        self.fname = fname\n",
    "        self.lname = lname\n",
    "        self.pay = pay\n",
    "        self.email = fname.lower() + \".\" + lname.lower() + \"@gmail.com\"\n",
    "        Employe.NoOfEmp += 1\n",
    "    \n",
    "    def emp_details(self):\n",
    "        print(f\"employe fname:- {self.fname}\")\n",
    "        print(f\"employe lname:- {self.lname}\")\n",
    "        print(f\"employe Mail ID:- {self.email}\")\n",
    "        \n",
    "    def empo_pay(self):\n",
    "#         print(self.pay)\n",
    "#         print(f\"employe salary:- {self.pay}\\n\")\n",
    "        \n",
    "        self.pay = self.pay * self.raise_pay\n",
    "        \n",
    "#         print(f\"increased pay:- \\n{raise_salary}\")"
   ]
  },
  {
   "cell_type": "code",
   "execution_count": 4,
   "id": "72ad3745",
   "metadata": {},
   "outputs": [],
   "source": [
    "emp1 = Employe(\"Yash\", \"Dhakade\", 100000)\n",
    "emp2 = Employe(\"Ak\", \"Khan\", 5000)\n",
    "emp3 = Employe(\"Yash\", \"Dhakade\", 100000)\n",
    "emp4 = Employe(\"Ak\", \"Khan\", 5000)\n",
    "emp5 = Employe(\"Yash\", \"Dhakade\", 100000)\n",
    "emp6 = Employe(\"Ak\", \"Khan\", 5000)\n",
    "emp7 = Employe(\"Yash\", \"Dhakade\", 100000)\n",
    "emp8 = Employe(\"Ak\", \"Khan\", 5000)"
   ]
  },
  {
   "cell_type": "code",
   "execution_count": 5,
   "id": "7f7d2f8b",
   "metadata": {},
   "outputs": [
    {
     "data": {
      "text/plain": [
       "8"
      ]
     },
     "execution_count": 5,
     "metadata": {},
     "output_type": "execute_result"
    }
   ],
   "source": [
    "Employe.NoOfEmp"
   ]
  },
  {
   "cell_type": "code",
   "execution_count": null,
   "id": "cfecf6a2",
   "metadata": {},
   "outputs": [],
   "source": []
  },
  {
   "cell_type": "code",
   "execution_count": null,
   "id": "2e0980fc",
   "metadata": {},
   "outputs": [],
   "source": []
  },
  {
   "cell_type": "code",
   "execution_count": 18,
   "id": "1300e42a",
   "metadata": {},
   "outputs": [],
   "source": [
    "diff_emp1.raise_pay = 3"
   ]
  },
  {
   "cell_type": "code",
   "execution_count": 19,
   "id": "9752aef7",
   "metadata": {},
   "outputs": [
    {
     "name": "stdout",
     "output_type": "stream",
     "text": [
      "3\n",
      "100000\n",
      "300000\n"
     ]
    }
   ],
   "source": [
    "print(diff_emp1.raise_pay)\n",
    "print(diff_emp1.pay)\n",
    "diff_emp1.empo_pay()\n",
    "print(diff_emp1.pay)"
   ]
  },
  {
   "cell_type": "code",
   "execution_count": null,
   "id": "db816a75",
   "metadata": {},
   "outputs": [],
   "source": []
  },
  {
   "cell_type": "code",
   "execution_count": 20,
   "id": "2b8eaa48",
   "metadata": {},
   "outputs": [],
   "source": [
    "diff_emp2.raise_pay = 5"
   ]
  },
  {
   "cell_type": "code",
   "execution_count": 21,
   "id": "6f6f65c3",
   "metadata": {},
   "outputs": [
    {
     "name": "stdout",
     "output_type": "stream",
     "text": [
      "5\n",
      "5000\n",
      "25000\n"
     ]
    }
   ],
   "source": [
    "print(diff_emp2.raise_pay)\n",
    "print(diff_emp2.pay)\n",
    "diff_emp2.empo_pay()\n",
    "print(diff_emp2.pay)"
   ]
  },
  {
   "cell_type": "code",
   "execution_count": 22,
   "id": "a1ebc272",
   "metadata": {},
   "outputs": [
    {
     "name": "stdout",
     "output_type": "stream",
     "text": [
      "raise pay for diff_emp1:- 3\n",
      "raise pay for diff_emp2:- 5\n"
     ]
    }
   ],
   "source": [
    "print(f\"raise pay for diff_emp1:- {diff_emp1.raise_pay}\")\n",
    "print(f\"raise pay for diff_emp2:- {diff_emp2.raise_pay}\")\n"
   ]
  },
  {
   "cell_type": "code",
   "execution_count": null,
   "id": "85609041",
   "metadata": {},
   "outputs": [],
   "source": []
  },
  {
   "cell_type": "code",
   "execution_count": null,
   "id": "ff489451",
   "metadata": {},
   "outputs": [],
   "source": []
  }
 ],
 "metadata": {
  "kernelspec": {
   "display_name": "Python 3 (ipykernel)",
   "language": "python",
   "name": "python3"
  },
  "language_info": {
   "codemirror_mode": {
    "name": "ipython",
    "version": 3
   },
   "file_extension": ".py",
   "mimetype": "text/x-python",
   "name": "python",
   "nbconvert_exporter": "python",
   "pygments_lexer": "ipython3",
   "version": "3.9.12"
  }
 },
 "nbformat": 4,
 "nbformat_minor": 5
}
