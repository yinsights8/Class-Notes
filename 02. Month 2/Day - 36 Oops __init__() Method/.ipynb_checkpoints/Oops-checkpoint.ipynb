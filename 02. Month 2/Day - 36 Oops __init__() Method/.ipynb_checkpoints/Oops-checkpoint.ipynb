{
 "cells": [
  {
   "cell_type": "markdown",
   "id": "fff83ddb",
   "metadata": {},
   "source": [
    "# Oops "
   ]
  },
  {
   "cell_type": "code",
   "execution_count": 2,
   "id": "5dc05cbc",
   "metadata": {},
   "outputs": [],
   "source": [
    "class EmpDetails():\n",
    "    \n",
    "    def emp_fname(self):\n",
    "        pass\n",
    "    \n",
    "    def emp_lname(self):\n",
    "        pass\n",
    "    \n",
    "    def emp_fullname(self):\n",
    "        pass\n",
    "    \n",
    "    \n",
    "    def emp_salary(self):\n",
    "        pass\n",
    "    \n",
    "    \n",
    "    def company_name(self):\n",
    "        pass\n",
    "        \n",
    "    def emp_designation(self):\n",
    "        pass\n",
    "    \n",
    "    \n",
    "emp1 = EmpDetails()"
   ]
  },
  {
   "cell_type": "code",
   "execution_count": 3,
   "id": "8faf0477",
   "metadata": {},
   "outputs": [],
   "source": [
    "class EmpDetails():\n",
    "    \n",
    "    def emp_fname(self,name):\n",
    "        print(f\"First name = {name}\")\n",
    "    \n",
    "    def emp_lname(self,lname):\n",
    "        print(f\"Last name = {lname}\")\n",
    "    \n",
    "    def emp_fullname(self):\n",
    "        pass\n",
    "    \n",
    "    def emp_salary(self,salary):\n",
    "        print(f\"salary = {salary}\")\n",
    "    \n",
    "    \n",
    "    def company_name(self,c_name):\n",
    "        print(f\"c_name name = {c_name}\")\n",
    "        \n",
    "        \n",
    "    def emp_designation(self,Designation):\n",
    "        print(f\"Designation = {Designation}\")"
   ]
  },
  {
   "cell_type": "code",
   "execution_count": 4,
   "id": "4390350f",
   "metadata": {},
   "outputs": [],
   "source": [
    "emp1 = EmpDetails()"
   ]
  },
  {
   "cell_type": "code",
   "execution_count": 6,
   "id": "5e4f13e1",
   "metadata": {},
   "outputs": [
    {
     "name": "stdout",
     "output_type": "stream",
     "text": [
      "First name = Akshata\n"
     ]
    }
   ],
   "source": [
    "emp1.emp_fname(\"Akshata\")"
   ]
  },
  {
   "cell_type": "code",
   "execution_count": 7,
   "id": "4572f9a0",
   "metadata": {},
   "outputs": [
    {
     "name": "stdout",
     "output_type": "stream",
     "text": [
      "Designation = Data Scientist\n"
     ]
    }
   ],
   "source": [
    "emp2 = EmpDetails()\n",
    "emp2.emp_designation(\"Data Scientist\")"
   ]
  },
  {
   "cell_type": "code",
   "execution_count": 8,
   "id": "ed6ea0a3",
   "metadata": {},
   "outputs": [
    {
     "name": "stdout",
     "output_type": "stream",
     "text": [
      "salary = 1500000\n"
     ]
    }
   ],
   "source": [
    "emp2.emp_salary(1500000)"
   ]
  },
  {
   "cell_type": "code",
   "execution_count": 25,
   "id": "6c4ef6b9",
   "metadata": {},
   "outputs": [],
   "source": [
    "class EmpDetails():\n",
    "    var = \"Python\"\n",
    "    def emp_fname(self,name):\n",
    "        self.name = name\n",
    "#         var = \"Python\"\n",
    "        print(f\"First name = {name}\")\n",
    "    \n",
    "    def emp_lname(self,lname):\n",
    "        self.lname = lname\n",
    "        print(f\"Last name = {lname}\")\n",
    "    \n",
    "    def emp_fullname(self):\n",
    "        print(f\"The Employee Full Name = {self.name} {self.lname}\")\n",
    "    \n",
    "    def emp_salary(self,salary):\n",
    "        print(f\"salary = {salary}\")\n",
    "    \n",
    "    \n",
    "    def company_name(self,c_name):\n",
    "        print(f\"c_name name of {self.name} {self.lname} = {c_name}\")\n",
    "        \n",
    "        \n",
    "    def emp_designation(self,Designation):\n",
    "        print(f\"Designation = {Designation}\")"
   ]
  },
  {
   "cell_type": "code",
   "execution_count": 26,
   "id": "d34a0c39",
   "metadata": {},
   "outputs": [
    {
     "name": "stdout",
     "output_type": "stream",
     "text": [
      "First name = Yash\n",
      "Last name = Dhakde\n",
      "The Employee Full Name = Yash Dhakde\n"
     ]
    }
   ],
   "source": [
    "emp1 = EmpDetails()\n",
    "emp1.emp_fname(\"Yash\")\n",
    "emp1.emp_lname(\"Dhakde\")\n",
    "emp1.emp_fullname()"
   ]
  },
  {
   "cell_type": "code",
   "execution_count": 27,
   "id": "b78e571c",
   "metadata": {},
   "outputs": [
    {
     "name": "stdout",
     "output_type": "stream",
     "text": [
      "c_name name of Yash Dhakde = TCS\n"
     ]
    }
   ],
   "source": [
    "emp1.company_name(\"TCS\")"
   ]
  },
  {
   "cell_type": "code",
   "execution_count": 28,
   "id": "aeced2e1",
   "metadata": {},
   "outputs": [
    {
     "name": "stdout",
     "output_type": "stream",
     "text": [
      "First name = XYZ\n"
     ]
    }
   ],
   "source": [
    "emp1.emp_fname(\"XYZ\")"
   ]
  },
  {
   "cell_type": "code",
   "execution_count": 29,
   "id": "e7254f26",
   "metadata": {},
   "outputs": [
    {
     "data": {
      "text/plain": [
       "'Python'"
      ]
     },
     "execution_count": 29,
     "metadata": {},
     "output_type": "execute_result"
    }
   ],
   "source": [
    "emp1.var"
   ]
  },
  {
   "cell_type": "markdown",
   "id": "79da6a28",
   "metadata": {},
   "source": [
    "# __init__ :- It will execute automatically when we create an new object"
   ]
  },
  {
   "cell_type": "code",
   "execution_count": 30,
   "id": "9f049c38",
   "metadata": {},
   "outputs": [],
   "source": [
    "class Test_init():\n",
    "    def __init__(self):\n",
    "        print(\"Executing __init__ Method\")\n",
    "    "
   ]
  },
  {
   "cell_type": "code",
   "execution_count": 32,
   "id": "1ca326a3",
   "metadata": {},
   "outputs": [
    {
     "name": "stdout",
     "output_type": "stream",
     "text": [
      "Executing __init__ Method\n",
      "Executing __init__ Method\n",
      "Executing __init__ Method\n"
     ]
    }
   ],
   "source": [
    "t1 = Test_init()\n",
    "t2 = Test_init()\n",
    "t3 = Test_init()"
   ]
  },
  {
   "cell_type": "code",
   "execution_count": 39,
   "id": "3979101e",
   "metadata": {},
   "outputs": [],
   "source": [
    "class Test_init():\n",
    "    def __init__(self,f_var,s_var):\n",
    "        print(\"Executing __init__ Method\")\n",
    "        self.fvar = f_var\n",
    "        self.svar = s_var\n",
    "        print(f\"Init method fvar = {self.fvar}\")\n",
    "        print(f\"Init method svar = {self.svar}\")\n",
    "    def first_method(self,first_val):\n",
    "        print(f\"In the first method and printing the first variable {self.fvar}\")\n",
    "        print(first_val)\n",
    "    \n",
    "    def second_method(self):\n",
    "        print(f\"In the second method and printing the second variable {self.svar}\")"
   ]
  },
  {
   "cell_type": "code",
   "execution_count": 40,
   "id": "b8198691",
   "metadata": {},
   "outputs": [
    {
     "name": "stdout",
     "output_type": "stream",
     "text": [
      "Executing __init__ Method\n",
      "Init method fvar = Python\n",
      "Init method svar = Data Science\n"
     ]
    }
   ],
   "source": [
    "t1 = Test_init(\"Python\",\"Data Science\")"
   ]
  },
  {
   "cell_type": "code",
   "execution_count": 43,
   "id": "28bdbb04",
   "metadata": {},
   "outputs": [
    {
     "name": "stdout",
     "output_type": "stream",
     "text": [
      "Executing __init__ Method\n",
      "Init method fvar = DS\n",
      "Init method svar = NLP\n"
     ]
    }
   ],
   "source": [
    "t2 = Test_init(\"DS\",\"NLP\")"
   ]
  },
  {
   "cell_type": "code",
   "execution_count": 44,
   "id": "2e61588a",
   "metadata": {},
   "outputs": [
    {
     "name": "stdout",
     "output_type": "stream",
     "text": [
      "In the second method and printing the second variable NLP\n"
     ]
    }
   ],
   "source": [
    "t2.second_method()"
   ]
  },
  {
   "cell_type": "code",
   "execution_count": 45,
   "id": "1737689e",
   "metadata": {},
   "outputs": [
    {
     "name": "stdout",
     "output_type": "stream",
     "text": [
      "In the first method and printing the first variable DS\n",
      "Deep Learning\n"
     ]
    }
   ],
   "source": [
    "t2.first_method(\"Deep Learning\")"
   ]
  },
  {
   "cell_type": "code",
   "execution_count": 46,
   "id": "c09759a1",
   "metadata": {},
   "outputs": [
    {
     "data": {
      "text/plain": [
       "'DS'"
      ]
     },
     "execution_count": 46,
     "metadata": {},
     "output_type": "execute_result"
    }
   ],
   "source": [
    "t2.fvar"
   ]
  },
  {
   "cell_type": "code",
   "execution_count": 47,
   "id": "6175c5e7",
   "metadata": {},
   "outputs": [
    {
     "data": {
      "text/plain": [
       "'NLP'"
      ]
     },
     "execution_count": 47,
     "metadata": {},
     "output_type": "execute_result"
    }
   ],
   "source": [
    "t2.svar"
   ]
  },
  {
   "cell_type": "code",
   "execution_count": 67,
   "id": "a2ce38a7",
   "metadata": {},
   "outputs": [],
   "source": [
    "class EmpDetails():\n",
    "    var = \"Python\"\n",
    "    def __init__(self,name,salary,c_name,designation):\n",
    "        print(\"Initializing all variables\")\n",
    "        self.name = name\n",
    "        self.salary = salary\n",
    "        self.c_name = c_name\n",
    "        self.designation = designation\n",
    "        print(self.name)\n",
    "        print(self.salary)\n",
    "        print(self.c_name)\n",
    "        print(self.designation)\n",
    "\n",
    "    def emp_fname(self):\n",
    "        print(f\"First name = {self.name}\")\n",
    "        print(f\"Class Variable = {self.var}\")\n",
    "\n",
    "    def emp_salary(self):\n",
    "        print(f\"salary = {self.salary}\")\n",
    "    \n",
    "    \n",
    "    def company_name(self):\n",
    "        print(f\"c_name name of {self.name}  = {self.c_name}\")\n",
    "        \n",
    "        \n",
    "    def emp_designation(self):\n",
    "        print(f\"Designation = {self.designation}\")"
   ]
  },
  {
   "cell_type": "code",
   "execution_count": 68,
   "id": "454bfec1",
   "metadata": {},
   "outputs": [
    {
     "name": "stdout",
     "output_type": "stream",
     "text": [
      "Initializing all variables\n",
      "Sandeep\n",
      "1500000\n",
      "Wipro\n",
      "ML Engineer\n"
     ]
    }
   ],
   "source": [
    "e1 = EmpDetails(\"Sandeep\",1500000,\"Wipro\",\"ML Engineer\")"
   ]
  },
  {
   "cell_type": "code",
   "execution_count": 69,
   "id": "187371e4",
   "metadata": {},
   "outputs": [
    {
     "name": "stdout",
     "output_type": "stream",
     "text": [
      "First name = Sandeep\n",
      "Class Variable = Python\n"
     ]
    }
   ],
   "source": [
    "e1.emp_fname()"
   ]
  },
  {
   "cell_type": "code",
   "execution_count": 70,
   "id": "050b9269",
   "metadata": {},
   "outputs": [
    {
     "name": "stdout",
     "output_type": "stream",
     "text": [
      "salary = 1500000\n"
     ]
    }
   ],
   "source": [
    "e1.emp_salary()"
   ]
  },
  {
   "cell_type": "code",
   "execution_count": 71,
   "id": "5e07a6dc",
   "metadata": {},
   "outputs": [
    {
     "name": "stdout",
     "output_type": "stream",
     "text": [
      "c_name name of Sandeep  = Wipro\n"
     ]
    }
   ],
   "source": [
    "e1.company_name()"
   ]
  },
  {
   "cell_type": "code",
   "execution_count": 72,
   "id": "5b2960d4",
   "metadata": {},
   "outputs": [
    {
     "name": "stdout",
     "output_type": "stream",
     "text": [
      "Designation = ML Engineer\n"
     ]
    }
   ],
   "source": [
    "e1.emp_designation()"
   ]
  },
  {
   "cell_type": "code",
   "execution_count": 73,
   "id": "e34b092a",
   "metadata": {},
   "outputs": [
    {
     "name": "stdout",
     "output_type": "stream",
     "text": [
      "Initializing all variables\n",
      "Rahim\n",
      "1500000\n",
      "TCS\n",
      "Data Analyst\n"
     ]
    }
   ],
   "source": [
    "e2 = EmpDetails(\"Rahim\",1500000,\"TCS\",\"Data Analyst\")"
   ]
  },
  {
   "cell_type": "code",
   "execution_count": 74,
   "id": "7e7f00c6",
   "metadata": {},
   "outputs": [
    {
     "name": "stdout",
     "output_type": "stream",
     "text": [
      "Designation = Data Analyst\n"
     ]
    }
   ],
   "source": [
    "e2.emp_designation()"
   ]
  },
  {
   "cell_type": "code",
   "execution_count": 75,
   "id": "b9727c13",
   "metadata": {},
   "outputs": [
    {
     "name": "stdout",
     "output_type": "stream",
     "text": [
      "salary = 1500000\n"
     ]
    }
   ],
   "source": [
    "e2.emp_salary()"
   ]
  },
  {
   "cell_type": "code",
   "execution_count": 76,
   "id": "a342d4a4",
   "metadata": {},
   "outputs": [
    {
     "name": "stdout",
     "output_type": "stream",
     "text": [
      "First name = Rahim\n",
      "Class Variable = Python\n"
     ]
    }
   ],
   "source": [
    "e2.emp_fname()"
   ]
  },
  {
   "cell_type": "code",
   "execution_count": 77,
   "id": "9113bba3",
   "metadata": {},
   "outputs": [],
   "source": [
    "class Employee:\n",
    "    pass\n"
   ]
  },
  {
   "cell_type": "code",
   "execution_count": 78,
   "id": "eed6a5e2",
   "metadata": {},
   "outputs": [],
   "source": [
    "emp1 = Employee()"
   ]
  },
  {
   "cell_type": "code",
   "execution_count": 79,
   "id": "360afe41",
   "metadata": {},
   "outputs": [],
   "source": [
    "emp1.fname = \"Nitin\"\n",
    "emp1.lname = \"Chityal\"\n"
   ]
  },
  {
   "cell_type": "code",
   "execution_count": 80,
   "id": "d2d52954",
   "metadata": {},
   "outputs": [
    {
     "data": {
      "text/plain": [
       "'Nitin'"
      ]
     },
     "execution_count": 80,
     "metadata": {},
     "output_type": "execute_result"
    }
   ],
   "source": [
    "emp1.fname"
   ]
  },
  {
   "cell_type": "code",
   "execution_count": 81,
   "id": "e7174a6b",
   "metadata": {},
   "outputs": [
    {
     "data": {
      "text/plain": [
       "'Chityal'"
      ]
     },
     "execution_count": 81,
     "metadata": {},
     "output_type": "execute_result"
    }
   ],
   "source": [
    "emp1.lname"
   ]
  },
  {
   "cell_type": "code",
   "execution_count": 82,
   "id": "3ca14727",
   "metadata": {},
   "outputs": [
    {
     "name": "stdout",
     "output_type": "stream",
     "text": [
      "{'fname': 'Nitin', 'lname': 'Chityal'}\n"
     ]
    }
   ],
   "source": [
    "print(emp1.__dict__)"
   ]
  },
  {
   "cell_type": "code",
   "execution_count": 83,
   "id": "e12d17cc",
   "metadata": {},
   "outputs": [
    {
     "name": "stdout",
     "output_type": "stream",
     "text": [
      "{'name': 'Sandeep', 'salary': 1500000, 'c_name': 'Wipro', 'designation': 'ML Engineer'}\n"
     ]
    }
   ],
   "source": [
    "print(e1.__dict__)"
   ]
  },
  {
   "cell_type": "code",
   "execution_count": 85,
   "id": "f232ca8a",
   "metadata": {},
   "outputs": [
    {
     "data": {
      "text/plain": [
       "['__class__',\n",
       " '__delattr__',\n",
       " '__dict__',\n",
       " '__dir__',\n",
       " '__doc__',\n",
       " '__eq__',\n",
       " '__format__',\n",
       " '__ge__',\n",
       " '__getattribute__',\n",
       " '__gt__',\n",
       " '__hash__',\n",
       " '__init__',\n",
       " '__init_subclass__',\n",
       " '__le__',\n",
       " '__lt__',\n",
       " '__module__',\n",
       " '__ne__',\n",
       " '__new__',\n",
       " '__reduce__',\n",
       " '__reduce_ex__',\n",
       " '__repr__',\n",
       " '__setattr__',\n",
       " '__sizeof__',\n",
       " '__str__',\n",
       " '__subclasshook__',\n",
       " '__weakref__',\n",
       " 'company_name',\n",
       " 'emp_designation',\n",
       " 'emp_fname',\n",
       " 'emp_salary',\n",
       " 'var']"
      ]
     },
     "execution_count": 85,
     "metadata": {},
     "output_type": "execute_result"
    }
   ],
   "source": [
    "dir(EmpDetails)"
   ]
  },
  {
   "cell_type": "code",
   "execution_count": 86,
   "id": "6e7f6686",
   "metadata": {},
   "outputs": [
    {
     "data": {
      "text/plain": [
       "['__class__',\n",
       " '__delattr__',\n",
       " '__dict__',\n",
       " '__dir__',\n",
       " '__doc__',\n",
       " '__eq__',\n",
       " '__format__',\n",
       " '__ge__',\n",
       " '__getattribute__',\n",
       " '__gt__',\n",
       " '__hash__',\n",
       " '__init__',\n",
       " '__init_subclass__',\n",
       " '__le__',\n",
       " '__lt__',\n",
       " '__module__',\n",
       " '__ne__',\n",
       " '__new__',\n",
       " '__reduce__',\n",
       " '__reduce_ex__',\n",
       " '__repr__',\n",
       " '__setattr__',\n",
       " '__sizeof__',\n",
       " '__str__',\n",
       " '__subclasshook__',\n",
       " '__weakref__']"
      ]
     },
     "execution_count": 86,
     "metadata": {},
     "output_type": "execute_result"
    }
   ],
   "source": [
    "dir(Employee)"
   ]
  },
  {
   "cell_type": "code",
   "execution_count": 87,
   "id": "071f8ca2",
   "metadata": {},
   "outputs": [
    {
     "data": {
      "text/plain": [
       "['__class__',\n",
       " '__delattr__',\n",
       " '__dict__',\n",
       " '__dir__',\n",
       " '__doc__',\n",
       " '__eq__',\n",
       " '__format__',\n",
       " '__ge__',\n",
       " '__getattribute__',\n",
       " '__gt__',\n",
       " '__hash__',\n",
       " '__init__',\n",
       " '__init_subclass__',\n",
       " '__le__',\n",
       " '__lt__',\n",
       " '__module__',\n",
       " '__ne__',\n",
       " '__new__',\n",
       " '__reduce__',\n",
       " '__reduce_ex__',\n",
       " '__repr__',\n",
       " '__setattr__',\n",
       " '__sizeof__',\n",
       " '__str__',\n",
       " '__subclasshook__',\n",
       " '__weakref__',\n",
       " 'fname',\n",
       " 'lname']"
      ]
     },
     "execution_count": 87,
     "metadata": {},
     "output_type": "execute_result"
    }
   ],
   "source": [
    "dir(emp1)"
   ]
  },
  {
   "cell_type": "code",
   "execution_count": 88,
   "id": "025830dc",
   "metadata": {},
   "outputs": [
    {
     "data": {
      "text/plain": [
       "['__add__',\n",
       " '__class__',\n",
       " '__class_getitem__',\n",
       " '__contains__',\n",
       " '__delattr__',\n",
       " '__delitem__',\n",
       " '__dir__',\n",
       " '__doc__',\n",
       " '__eq__',\n",
       " '__format__',\n",
       " '__ge__',\n",
       " '__getattribute__',\n",
       " '__getitem__',\n",
       " '__gt__',\n",
       " '__hash__',\n",
       " '__iadd__',\n",
       " '__imul__',\n",
       " '__init__',\n",
       " '__init_subclass__',\n",
       " '__iter__',\n",
       " '__le__',\n",
       " '__len__',\n",
       " '__lt__',\n",
       " '__mul__',\n",
       " '__ne__',\n",
       " '__new__',\n",
       " '__reduce__',\n",
       " '__reduce_ex__',\n",
       " '__repr__',\n",
       " '__reversed__',\n",
       " '__rmul__',\n",
       " '__setattr__',\n",
       " '__setitem__',\n",
       " '__sizeof__',\n",
       " '__str__',\n",
       " '__subclasshook__',\n",
       " 'append',\n",
       " 'clear',\n",
       " 'copy',\n",
       " 'count',\n",
       " 'extend',\n",
       " 'index',\n",
       " 'insert',\n",
       " 'pop',\n",
       " 'remove',\n",
       " 'reverse',\n",
       " 'sort']"
      ]
     },
     "execution_count": 88,
     "metadata": {},
     "output_type": "execute_result"
    }
   ],
   "source": [
    "dir(list)"
   ]
  },
  {
   "cell_type": "code",
   "execution_count": 90,
   "id": "69d45933",
   "metadata": {},
   "outputs": [],
   "source": [
    "class Employee:\n",
    "    def __init__(self,fname,lname):\n",
    "        self.fname = fname\n",
    "        self.lname = lname\n",
    "        self.email = fname.lower() + \".\" + lname.lower() + \"@gmail.com\"\n",
    "        \n",
    "    def get_fullname(self):\n",
    "        print(f\"Full Name = {self.fname} {self.lname}\")\n",
    "        print(f\"Mail id = {self.email}\")"
   ]
  },
  {
   "cell_type": "code",
   "execution_count": 91,
   "id": "ba3c1ad9",
   "metadata": {},
   "outputs": [],
   "source": [
    "emp1 = Employee(\"Rahim\",\"Shaikh\")"
   ]
  },
  {
   "cell_type": "code",
   "execution_count": 92,
   "id": "3d3c70be",
   "metadata": {},
   "outputs": [
    {
     "name": "stdout",
     "output_type": "stream",
     "text": [
      "Full Name = Rahim Shaikh\n",
      "Mail id = rahim.shaikh@gmail.com\n"
     ]
    }
   ],
   "source": [
    "emp1.get_fullname()"
   ]
  },
  {
   "cell_type": "code",
   "execution_count": 93,
   "id": "bd5dff4a",
   "metadata": {},
   "outputs": [],
   "source": [
    "emp2 = Employee(\"Ankur\",\"Patait\")"
   ]
  },
  {
   "cell_type": "code",
   "execution_count": 94,
   "id": "2919dd0c",
   "metadata": {},
   "outputs": [
    {
     "name": "stdout",
     "output_type": "stream",
     "text": [
      "Full Name = Ankur Patait\n",
      "Mail id = ankur.patait@gmail.com\n"
     ]
    }
   ],
   "source": [
    "Employee.get_fullname(emp2)"
   ]
  },
  {
   "cell_type": "code",
   "execution_count": 95,
   "id": "3788e8eb",
   "metadata": {},
   "outputs": [
    {
     "name": "stdout",
     "output_type": "stream",
     "text": [
      "Full Name = Rahim Shaikh\n",
      "Mail id = rahim.shaikh@gmail.com\n"
     ]
    }
   ],
   "source": [
    "Employee.get_fullname(emp1)"
   ]
  },
  {
   "cell_type": "markdown",
   "id": "f9724cb8",
   "metadata": {},
   "source": [
    "# Class Variable"
   ]
  },
  {
   "cell_type": "code",
   "execution_count": 98,
   "id": "7ad35069",
   "metadata": {},
   "outputs": [],
   "source": [
    "class Employee:\n",
    "    def __init__(self,fname,lname,pay):\n",
    "        self.fname = fname\n",
    "        self.lname = lname\n",
    "        self.pay = pay\n",
    "        self.email = fname.lower() + \".\" + lname.lower() + \"@gmail.com\"\n",
    "        \n",
    "    def get_fullname(self):\n",
    "        print(f\"Full Name = {self.fname} {self.lname}\")\n",
    "        print(f\"Mail id = {self.email}\")\n",
    "        \n",
    "    def apply_raise(self):\n",
    "        self.pay = self.pay * 5"
   ]
  },
  {
   "cell_type": "code",
   "execution_count": 99,
   "id": "7ba49e1e",
   "metadata": {},
   "outputs": [],
   "source": [
    "emp1 = Employee(\"Rahim\",\"Shaikh\",1500000)\n",
    "emp2 = Employee(\"Ankur\",\"Patait\",1500000)"
   ]
  },
  {
   "cell_type": "code",
   "execution_count": 100,
   "id": "21181f03",
   "metadata": {},
   "outputs": [
    {
     "name": "stdout",
     "output_type": "stream",
     "text": [
      "1500000\n"
     ]
    }
   ],
   "source": [
    "print(emp1.pay)"
   ]
  },
  {
   "cell_type": "code",
   "execution_count": 101,
   "id": "786d8159",
   "metadata": {},
   "outputs": [],
   "source": [
    "emp1.apply_raise()"
   ]
  },
  {
   "cell_type": "code",
   "execution_count": 102,
   "id": "a0fb9957",
   "metadata": {},
   "outputs": [
    {
     "name": "stdout",
     "output_type": "stream",
     "text": [
      "7500000\n"
     ]
    }
   ],
   "source": [
    "print(emp1.pay)"
   ]
  },
  {
   "cell_type": "code",
   "execution_count": 104,
   "id": "c6825848",
   "metadata": {},
   "outputs": [
    {
     "data": {
      "text/plain": [
       "1500000"
      ]
     },
     "execution_count": 104,
     "metadata": {},
     "output_type": "execute_result"
    }
   ],
   "source": [
    "emp2.pay"
   ]
  },
  {
   "cell_type": "code",
   "execution_count": 105,
   "id": "80810db7",
   "metadata": {},
   "outputs": [],
   "source": [
    "emp2.apply_raise()"
   ]
  },
  {
   "cell_type": "code",
   "execution_count": 106,
   "id": "89f825d7",
   "metadata": {},
   "outputs": [
    {
     "data": {
      "text/plain": [
       "7500000"
      ]
     },
     "execution_count": 106,
     "metadata": {},
     "output_type": "execute_result"
    }
   ],
   "source": [
    "emp2.pay"
   ]
  },
  {
   "cell_type": "code",
   "execution_count": 107,
   "id": "867e9c0e",
   "metadata": {},
   "outputs": [],
   "source": [
    "emp2.pay = 7"
   ]
  },
  {
   "cell_type": "code",
   "execution_count": 108,
   "id": "2d9092e6",
   "metadata": {},
   "outputs": [],
   "source": [
    "emp2.apply_raise()"
   ]
  },
  {
   "cell_type": "code",
   "execution_count": 109,
   "id": "4db7332c",
   "metadata": {},
   "outputs": [
    {
     "data": {
      "text/plain": [
       "35"
      ]
     },
     "execution_count": 109,
     "metadata": {},
     "output_type": "execute_result"
    }
   ],
   "source": [
    "emp2.pay"
   ]
  },
  {
   "cell_type": "code",
   "execution_count": 115,
   "id": "5d026a64",
   "metadata": {},
   "outputs": [],
   "source": [
    "class Employee:\n",
    "    raise_ammount = 3\n",
    "    def __init__(self,fname,lname,pay):\n",
    "        self.fname = fname\n",
    "        self.lname = lname\n",
    "        self.pay = pay\n",
    "        self.email = fname.lower() + \".\" + lname.lower() + \"@gmail.com\"\n",
    "        \n",
    "    def get_fullname(self):\n",
    "        print(f\"Full Name = {self.fname} {self.lname}\")\n",
    "        print(f\"Mail id = {self.email}\")\n",
    "        \n",
    "    def apply_raise(self):\n",
    "        self.pay = self.pay * Employee.raise_ammount"
   ]
  },
  {
   "cell_type": "code",
   "execution_count": 116,
   "id": "2e0aaa90",
   "metadata": {},
   "outputs": [],
   "source": [
    "emp1 = Employee(\"Rahim\",\"Shaikh\",1500000)\n",
    "emp2 = Employee(\"Ankur\",\"Patait\",1500000)"
   ]
  },
  {
   "cell_type": "code",
   "execution_count": 117,
   "id": "fb087171",
   "metadata": {},
   "outputs": [
    {
     "name": "stdout",
     "output_type": "stream",
     "text": [
      "1500000\n",
      "4500000\n"
     ]
    }
   ],
   "source": [
    "print(emp1.pay)\n",
    "emp1.apply_raise()\n",
    "print(emp1.pay)"
   ]
  },
  {
   "cell_type": "code",
   "execution_count": 118,
   "id": "a4fa8f98",
   "metadata": {},
   "outputs": [
    {
     "name": "stdout",
     "output_type": "stream",
     "text": [
      "1500000\n",
      "7500000\n"
     ]
    }
   ],
   "source": [
    "Employee.raise_ammount = 5\n",
    "print(emp2.pay)\n",
    "emp2.apply_raise()\n",
    "print(emp2.pay)"
   ]
  },
  {
   "cell_type": "code",
   "execution_count": 119,
   "id": "1a60d116",
   "metadata": {},
   "outputs": [
    {
     "name": "stdout",
     "output_type": "stream",
     "text": [
      "4500000\n",
      "22500000\n"
     ]
    }
   ],
   "source": [
    "print(emp1.pay)\n",
    "emp1.apply_raise()\n",
    "print(emp1.pay)"
   ]
  },
  {
   "cell_type": "code",
   "execution_count": 120,
   "id": "3c7feb43",
   "metadata": {},
   "outputs": [
    {
     "data": {
      "text/plain": [
       "5"
      ]
     },
     "execution_count": 120,
     "metadata": {},
     "output_type": "execute_result"
    }
   ],
   "source": [
    "Employee.raise_ammount"
   ]
  },
  {
   "cell_type": "code",
   "execution_count": 137,
   "id": "769e39a2",
   "metadata": {},
   "outputs": [],
   "source": [
    "class Employee:\n",
    "    raise_ammount = 3\n",
    "    def __init__(self,fname,lname,pay):\n",
    "        self.fname = fname\n",
    "        self.lname = lname\n",
    "        self.pay = pay\n",
    "        self.email = fname.lower() + \".\" + lname.lower() + \"@gmail.com\"\n",
    "        \n",
    "    def get_fullname(self):\n",
    "        print(f\"Full Name = {self.fname} {self.lname}\")\n",
    "        print(f\"Mail id = {self.email}\")\n",
    "        \n",
    "    def apply_raise(self):\n",
    "        self.pay = self.pay * self.raise_ammount"
   ]
  },
  {
   "cell_type": "code",
   "execution_count": 138,
   "id": "810d1b5c",
   "metadata": {},
   "outputs": [],
   "source": [
    "emp1 = Employee(\"Rahim\",\"Shaikh\",5)\n",
    "emp2 = Employee(\"Ankur\",\"Patait\",6)"
   ]
  },
  {
   "cell_type": "code",
   "execution_count": 139,
   "id": "52068db5",
   "metadata": {},
   "outputs": [
    {
     "name": "stdout",
     "output_type": "stream",
     "text": [
      "5\n",
      "15\n"
     ]
    }
   ],
   "source": [
    "print(emp1.pay)\n",
    "emp1.apply_raise()\n",
    "print(emp1.pay)"
   ]
  },
  {
   "cell_type": "code",
   "execution_count": 140,
   "id": "1482afb1",
   "metadata": {},
   "outputs": [
    {
     "name": "stdout",
     "output_type": "stream",
     "text": [
      "3\n",
      "6\n",
      "18\n"
     ]
    }
   ],
   "source": [
    "print(emp2.raise_ammount)\n",
    "print(emp2.pay)\n",
    "emp2.apply_raise()\n",
    "print(emp2.pay)"
   ]
  },
  {
   "cell_type": "code",
   "execution_count": 141,
   "id": "70630ac9",
   "metadata": {},
   "outputs": [
    {
     "name": "stdout",
     "output_type": "stream",
     "text": [
      "5\n",
      "18\n",
      "90\n"
     ]
    }
   ],
   "source": [
    "emp2.raise_ammount = 5\n",
    "print(emp2.raise_ammount)\n",
    "print(emp2.pay)\n",
    "emp2.apply_raise()\n",
    "print(emp2.pay)"
   ]
  },
  {
   "cell_type": "code",
   "execution_count": 142,
   "id": "5a572937",
   "metadata": {},
   "outputs": [
    {
     "name": "stdout",
     "output_type": "stream",
     "text": [
      "15\n",
      "45\n"
     ]
    }
   ],
   "source": [
    "print(emp1.pay)\n",
    "emp1.apply_raise()\n",
    "print(emp1.pay)"
   ]
  },
  {
   "cell_type": "code",
   "execution_count": 143,
   "id": "5e51da08",
   "metadata": {},
   "outputs": [],
   "source": [
    "class Employee:\n",
    "    raise_ammount = 3\n",
    "    NoOfEmp = 0\n",
    "    def __init__(self,fname,lname,pay):\n",
    "        self.fname = fname\n",
    "        self.lname = lname\n",
    "        self.pay = pay\n",
    "        self.email = fname.lower() + \".\" + lname.lower() + \"@gmail.com\"\n",
    "        Employee.NoOfEmp += 1\n",
    "        \n",
    "    def get_fullname(self):\n",
    "        print(f\"Full Name = {self.fname} {self.lname}\")\n",
    "        print(f\"Mail id = {self.email}\")\n",
    "        \n",
    "    def apply_raise(self):\n",
    "        self.pay = self.pay * self.raise_ammount"
   ]
  },
  {
   "cell_type": "code",
   "execution_count": 144,
   "id": "28004365",
   "metadata": {},
   "outputs": [],
   "source": [
    "emp1 = Employee(\"Rahim\",\"Shaikh\",5)\n",
    "emp2 = Employee(\"Ankur\",\"Patait\",6)\n",
    "emp3 = Employee(\"Rahim\",\"Shaikh\",5)\n",
    "emp4 = Employee(\"Ankur\",\"Patait\",6)\n",
    "emp5 = Employee(\"Rahim\",\"Shaikh\",5)\n",
    "emp6 = Employee(\"Ankur\",\"Patait\",6)"
   ]
  },
  {
   "cell_type": "code",
   "execution_count": 145,
   "id": "db7c9ed4",
   "metadata": {},
   "outputs": [
    {
     "data": {
      "text/plain": [
       "6"
      ]
     },
     "execution_count": 145,
     "metadata": {},
     "output_type": "execute_result"
    }
   ],
   "source": [
    "Employee.NoOfEmp"
   ]
  },
  {
   "cell_type": "code",
   "execution_count": 146,
   "id": "cd149231",
   "metadata": {},
   "outputs": [],
   "source": [
    "class Employee:\n",
    "    raise_ammount = 3\n",
    "    NoOfEmp = 0\n",
    "    def __init__(self,fname,lname,pay):\n",
    "        self.fname = fname\n",
    "        self.lname = lname\n",
    "        self.pay = pay\n",
    "        self.email = fname.lower() + \".\" + lname.lower() + \"@gmail.com\"\n",
    "        self.NoOfEmp += 1\n",
    "        \n",
    "    def get_fullname(self):\n",
    "        print(f\"Full Name = {self.fname} {self.lname}\")\n",
    "        print(f\"Mail id = {self.email}\")\n",
    "        \n",
    "    def apply_raise(self):\n",
    "        self.pay = self.pay * self.raise_ammount\n",
    "        \n",
    "emp1 = Employee(\"Rahim\",\"Shaikh\",5)\n",
    "emp2 = Employee(\"Ankur\",\"Patait\",6)\n",
    "emp3 = Employee(\"Rahim\",\"Shaikh\",5)\n",
    "emp4 = Employee(\"Ankur\",\"Patait\",6)\n",
    "emp5 = Employee(\"Rahim\",\"Shaikh\",5)\n",
    "emp6 = Employee(\"Ankur\",\"Patait\",6)"
   ]
  },
  {
   "cell_type": "code",
   "execution_count": 147,
   "id": "9becbdaa",
   "metadata": {},
   "outputs": [
    {
     "data": {
      "text/plain": [
       "0"
      ]
     },
     "execution_count": 147,
     "metadata": {},
     "output_type": "execute_result"
    }
   ],
   "source": [
    "Employee.NoOfEmp"
   ]
  },
  {
   "cell_type": "code",
   "execution_count": 148,
   "id": "1da8b2d8",
   "metadata": {},
   "outputs": [
    {
     "name": "stdout",
     "output_type": "stream",
     "text": [
      "0\n",
      "0\n"
     ]
    }
   ],
   "source": [
    "class A:\n",
    "    n = 0\n",
    "    def __init__(self):\n",
    "        self.n += 1\n",
    "        \n",
    "print(A.n)\n",
    "a1 = A()\n",
    "a1 = A()\n",
    "a1 = A()\n",
    "a1 = A()\n",
    "a1 = A()\n",
    "a1 = A()\n",
    "a1 = A()\n",
    "a1 = A()\n",
    "a1 = A()\n",
    "a1 = A()\n",
    "print(A.n)"
   ]
  },
  {
   "cell_type": "code",
   "execution_count": 149,
   "id": "199cbee8",
   "metadata": {},
   "outputs": [
    {
     "name": "stdout",
     "output_type": "stream",
     "text": [
      "0\n",
      "10\n"
     ]
    }
   ],
   "source": [
    "class A:\n",
    "    n = 0\n",
    "    def __init__(self):\n",
    "        A.n += 1\n",
    "        \n",
    "print(A.n)\n",
    "a1 = A()\n",
    "a1 = A()\n",
    "a1 = A()\n",
    "a1 = A()\n",
    "a1 = A()\n",
    "a1 = A()\n",
    "a1 = A()\n",
    "a1 = A()\n",
    "a1 = A()\n",
    "a1 = A()\n",
    "print(A.n)"
   ]
  },
  {
   "cell_type": "code",
   "execution_count": 150,
   "id": "0a896d67",
   "metadata": {},
   "outputs": [],
   "source": [
    "class Calc():\n",
    "    def __init__(self,a,b):\n",
    "        self.a = a\n",
    "        self.b = b\n",
    "        \n",
    "    def addition(self):\n",
    "        print(\"Addition ----> \",self.a + self.b)"
   ]
  },
  {
   "cell_type": "code",
   "execution_count": 151,
   "id": "31ee8d80",
   "metadata": {},
   "outputs": [],
   "source": [
    "Operation1 = Calc(10,50)"
   ]
  },
  {
   "cell_type": "code",
   "execution_count": 153,
   "id": "643ba3d1",
   "metadata": {},
   "outputs": [
    {
     "name": "stdout",
     "output_type": "stream",
     "text": [
      "Addition ---->  60\n"
     ]
    }
   ],
   "source": [
    "Operation1.addition()"
   ]
  },
  {
   "cell_type": "code",
   "execution_count": 154,
   "id": "da077383",
   "metadata": {},
   "outputs": [],
   "source": [
    "class List1():\n",
    "    pass"
   ]
  },
  {
   "cell_type": "code",
   "execution_count": 155,
   "id": "9827e22c",
   "metadata": {},
   "outputs": [],
   "source": [
    "li = List1()"
   ]
  },
  {
   "cell_type": "code",
   "execution_count": 156,
   "id": "ece6ad48",
   "metadata": {},
   "outputs": [
    {
     "data": {
      "text/plain": [
       "<__main__.List1 at 0x2153776af20>"
      ]
     },
     "execution_count": 156,
     "metadata": {},
     "output_type": "execute_result"
    }
   ],
   "source": [
    "li"
   ]
  },
  {
   "cell_type": "code",
   "execution_count": null,
   "id": "87974dee",
   "metadata": {},
   "outputs": [],
   "source": []
  }
 ],
 "metadata": {
  "kernelspec": {
   "display_name": "Python 3 (ipykernel)",
   "language": "python",
   "name": "python3"
  },
  "language_info": {
   "codemirror_mode": {
    "name": "ipython",
    "version": 3
   },
   "file_extension": ".py",
   "mimetype": "text/x-python",
   "name": "python",
   "nbconvert_exporter": "python",
   "pygments_lexer": "ipython3",
   "version": "3.10.5"
  }
 },
 "nbformat": 4,
 "nbformat_minor": 5
}
