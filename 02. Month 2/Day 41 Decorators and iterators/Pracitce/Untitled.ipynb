{
 "cells": [
  {
   "cell_type": "code",
   "execution_count": 11,
   "id": "2b17f99b",
   "metadata": {},
   "outputs": [],
   "source": [
    "def CalDiv(func):\n",
    "    print(\"Division\")\n",
    "    def inner_func(a,b):\n",
    "        if a < b:\n",
    "            a,b = b,a\n",
    "        return func(a,b)\n",
    "    return inner_func"
   ]
  },
  {
   "cell_type": "code",
   "execution_count": 12,
   "id": "4799d65c",
   "metadata": {},
   "outputs": [
    {
     "name": "stdout",
     "output_type": "stream",
     "text": [
      "Division\n"
     ]
    },
    {
     "data": {
      "text/plain": [
       "'division of 100 and 50 = 2.0'"
      ]
     },
     "execution_count": 12,
     "metadata": {},
     "output_type": "execute_result"
    }
   ],
   "source": [
    "@CalDiv\n",
    "def divison(a,b):\n",
    "    return f\"division of {a} and {b} = {a/b}\"\n",
    "\n",
    "divison(100,50)"
   ]
  },
  {
   "cell_type": "code",
   "execution_count": 14,
   "id": "4a173368",
   "metadata": {},
   "outputs": [
    {
     "data": {
      "text/plain": [
       "'division of 100 and 50 = 2.0'"
      ]
     },
     "execution_count": 14,
     "metadata": {},
     "output_type": "execute_result"
    }
   ],
   "source": [
    "divison(50,100)"
   ]
  },
  {
   "cell_type": "code",
   "execution_count": 16,
   "id": "60c35fa0",
   "metadata": {},
   "outputs": [
    {
     "name": "stdout",
     "output_type": "stream",
     "text": [
      "Division\n"
     ]
    },
    {
     "data": {
      "text/plain": [
       "'division of 200 and 100 = 2.0'"
      ]
     },
     "execution_count": 16,
     "metadata": {},
     "output_type": "execute_result"
    }
   ],
   "source": [
    "OBJ = CalDiv(divison)\n",
    "OBJ(100,200)"
   ]
  },
  {
   "cell_type": "code",
   "execution_count": 17,
   "id": "0259763c",
   "metadata": {},
   "outputs": [
    {
     "data": {
      "text/plain": [
       "'division of 200 and 100 = 2.0'"
      ]
     },
     "execution_count": 17,
     "metadata": {},
     "output_type": "execute_result"
    }
   ],
   "source": [
    "OBJ(200,100)"
   ]
  },
  {
   "cell_type": "code",
   "execution_count": null,
   "id": "ec844087",
   "metadata": {},
   "outputs": [],
   "source": []
  }
 ],
 "metadata": {
  "kernelspec": {
   "display_name": "Python 3 (ipykernel)",
   "language": "python",
   "name": "python3"
  },
  "language_info": {
   "codemirror_mode": {
    "name": "ipython",
    "version": 3
   },
   "file_extension": ".py",
   "mimetype": "text/x-python",
   "name": "python",
   "nbconvert_exporter": "python",
   "pygments_lexer": "ipython3",
   "version": "3.9.12"
  }
 },
 "nbformat": 4,
 "nbformat_minor": 5
}
