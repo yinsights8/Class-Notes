{
 "cells": [
  {
   "cell_type": "code",
   "execution_count": 1,
   "id": "20a02e3e",
   "metadata": {},
   "outputs": [],
   "source": [
    "def outer_function():\n",
    "    print(\"This is outer function\")\n",
    "    \n",
    "    def inner_function():\n",
    "        print(\"This is inner function\")\n",
    "        return \"Inner function\"\n",
    "    \n",
    "    return inner_function"
   ]
  },
  {
   "cell_type": "code",
   "execution_count": 3,
   "id": "6954b762",
   "metadata": {},
   "outputs": [
    {
     "name": "stdout",
     "output_type": "stream",
     "text": [
      "This is outer function\n"
     ]
    },
    {
     "data": {
      "text/plain": [
       "<function __main__.outer_function.<locals>.inner_function()>"
      ]
     },
     "execution_count": 3,
     "metadata": {},
     "output_type": "execute_result"
    }
   ],
   "source": [
    "ob1 = outer_function()\n",
    "ob1"
   ]
  },
  {
   "cell_type": "code",
   "execution_count": 4,
   "id": "5567b562",
   "metadata": {},
   "outputs": [],
   "source": [
    "def outer_function():\n",
    "    print(\"This is outer function\")\n",
    "    \n",
    "    def inner_function():\n",
    "        print(\"This is inner function\")\n",
    "        return \"Inner function\"\n",
    "    \n",
    "    return inner_function"
   ]
  },
  {
   "cell_type": "code",
   "execution_count": 6,
   "id": "46984d0a",
   "metadata": {},
   "outputs": [
    {
     "name": "stdout",
     "output_type": "stream",
     "text": [
      "This is outer function\n",
      "This is inner function\n"
     ]
    },
    {
     "data": {
      "text/plain": [
       "'Inner function'"
      ]
     },
     "execution_count": 6,
     "metadata": {},
     "output_type": "execute_result"
    }
   ],
   "source": [
    "obj2 = outer_function()\n",
    "obj2()"
   ]
  },
  {
   "cell_type": "code",
   "execution_count": 21,
   "id": "12e14c20",
   "metadata": {},
   "outputs": [
    {
     "name": "stdout",
     "output_type": "stream",
     "text": [
      "This is outer function\n",
      "This is inner function\n",
      "Learning Decorators\n",
      "<><><><><><><><><><><><><><><><><><><><>\n"
     ]
    },
    {
     "data": {
      "text/plain": [
       "'Innter function'"
      ]
     },
     "execution_count": 21,
     "metadata": {},
     "output_type": "execute_result"
    }
   ],
   "source": [
    "def OuterFunc(func):\n",
    "    print(\"This is outer function\")\n",
    "    def innerFunc():\n",
    "        print(\"This is inner function\")\n",
    "        func()\n",
    "        print(\"<>\"*20)\n",
    "        return \"Innter function\"\n",
    "    \n",
    "    return innerFunc\n",
    "\n",
    "\n",
    "def OriginalFunc():\n",
    "    print(\"Learning Decorators\")\n",
    "    \n",
    "    \n",
    "final = OuterFunc(OriginalFunc)\n",
    "final()"
   ]
  },
  {
   "cell_type": "code",
   "execution_count": 15,
   "id": "93d4574e",
   "metadata": {},
   "outputs": [
    {
     "name": "stdout",
     "output_type": "stream",
     "text": [
      "This is outer function\n",
      "This is inner function\n",
      "Learning Decorators\n"
     ]
    }
   ],
   "source": [
    "def OuterFunc(func):\n",
    "    print(\"This is outer function\")\n",
    "    def innerFunc():\n",
    "        print(\"This is inner function\")\n",
    "        return func()\n",
    "    \n",
    "    return innerFunc\n",
    "\n",
    "\n",
    "def OriginalFunc():\n",
    "    print(\"Learning Decorators\")\n",
    "    \n",
    "    \n",
    "final = OuterFunc(OriginalFunc)\n",
    "final()"
   ]
  },
  {
   "cell_type": "code",
   "execution_count": 23,
   "id": "47ca682b",
   "metadata": {},
   "outputs": [
    {
     "name": "stdout",
     "output_type": "stream",
     "text": [
      "This is HelloDecorators\n",
      "This is inner function\n",
      "Executing using Decorators\n"
     ]
    }
   ],
   "source": [
    "def HelloDecorators(func):\n",
    "    print(\"This is HelloDecorators\")\n",
    "    \n",
    "    def Innerfunc():\n",
    "        print(\"This is inner function\")\n",
    "        return func()\n",
    "    \n",
    "    return Innerfunc\n",
    "    \n",
    "def Original():\n",
    "    print(\"Executing using Decorators\")\n",
    "    \n",
    "function = HelloDecorators(Original)\n",
    "function()"
   ]
  },
  {
   "cell_type": "code",
   "execution_count": 29,
   "id": "e9705029",
   "metadata": {},
   "outputs": [
    {
     "name": "stdout",
     "output_type": "stream",
     "text": [
      "This is HelloDecorators\n",
      "This is inner function\n",
      "Executing using Decorators\n"
     ]
    }
   ],
   "source": [
    "def HelloDecorators(func):\n",
    "    print(\"This is HelloDecorators\")\n",
    "    \n",
    "    def Innerfunc():\n",
    "        print(\"This is inner function\")\n",
    "        return func()\n",
    "    \n",
    "    return Innerfunc\n",
    "    \n",
    "    \n",
    "@HelloDecorators\n",
    "def Original():\n",
    "    print(\"Executing using Decorators\")\n",
    "    \n",
    "Original()\n"
   ]
  },
  {
   "cell_type": "code",
   "execution_count": null,
   "id": "42eb0983",
   "metadata": {},
   "outputs": [],
   "source": []
  },
  {
   "cell_type": "code",
   "execution_count": null,
   "id": "23b2db1d",
   "metadata": {},
   "outputs": [],
   "source": []
  },
  {
   "cell_type": "code",
   "execution_count": 34,
   "id": "7f39cb1b",
   "metadata": {},
   "outputs": [
    {
     "data": {
      "text/plain": [
       "'Division of 30 and 15 is 2.0'"
      ]
     },
     "execution_count": 34,
     "metadata": {},
     "output_type": "execute_result"
    }
   ],
   "source": [
    "from Demo import Div\n",
    "Div(30,15)"
   ]
  },
  {
   "cell_type": "code",
   "execution_count": 35,
   "id": "ccfce831",
   "metadata": {},
   "outputs": [
    {
     "data": {
      "text/plain": [
       "'Division of 15 and 30 is 0.5'"
      ]
     },
     "execution_count": 35,
     "metadata": {},
     "output_type": "execute_result"
    }
   ],
   "source": [
    "Div(15,30)"
   ]
  },
  {
   "cell_type": "code",
   "execution_count": 36,
   "id": "5e3266f9",
   "metadata": {},
   "outputs": [],
   "source": [
    "# Change is swap the values if a is smaller than b"
   ]
  },
  {
   "cell_type": "code",
   "execution_count": 43,
   "id": "d0063723",
   "metadata": {},
   "outputs": [],
   "source": [
    "def Change_beheive(func):\n",
    "    def division(a,b):\n",
    "        if a < b :\n",
    "            a,b = b,a\n",
    "        return func(a,b)\n",
    "    return division"
   ]
  },
  {
   "cell_type": "code",
   "execution_count": 45,
   "id": "9e123af3",
   "metadata": {},
   "outputs": [
    {
     "data": {
      "text/plain": [
       "'Division of 30 and 15 is 2.0'"
      ]
     },
     "execution_count": 45,
     "metadata": {},
     "output_type": "execute_result"
    }
   ],
   "source": [
    "division = Change_beheive(Div)\n",
    "division(30,15)"
   ]
  },
  {
   "cell_type": "code",
   "execution_count": 46,
   "id": "52d26b51",
   "metadata": {},
   "outputs": [],
   "source": [
    "@Change_beheive\n",
    "def Div(a,b):\n",
    "    return f\"Division of {a} and {b} is {a/b}\""
   ]
  },
  {
   "cell_type": "code",
   "execution_count": 47,
   "id": "ca79477b",
   "metadata": {},
   "outputs": [
    {
     "data": {
      "text/plain": [
       "'Division of 30 and 15 is 2.0'"
      ]
     },
     "execution_count": 47,
     "metadata": {},
     "output_type": "execute_result"
    }
   ],
   "source": [
    "Div(30,15)"
   ]
  },
  {
   "cell_type": "code",
   "execution_count": 48,
   "id": "fd4352d1",
   "metadata": {},
   "outputs": [
    {
     "data": {
      "text/plain": [
       "'Division of 100 and 50 is 2.0'"
      ]
     },
     "execution_count": 48,
     "metadata": {},
     "output_type": "execute_result"
    }
   ],
   "source": [
    "Div(50,100)"
   ]
  },
  {
   "cell_type": "code",
   "execution_count": 49,
   "id": "0dee4041",
   "metadata": {},
   "outputs": [],
   "source": [
    "## Calculate the total time to execute function"
   ]
  },
  {
   "cell_type": "code",
   "execution_count": 52,
   "id": "0a8232b4",
   "metadata": {},
   "outputs": [],
   "source": [
    "def Fact(num):\n",
    "    fact = 1\n",
    "    for i in range(1,num+1):\n",
    "        fact *= i\n",
    "    return fact"
   ]
  },
  {
   "cell_type": "code",
   "execution_count": 54,
   "id": "2d64a5c0",
   "metadata": {},
   "outputs": [
    {
     "data": {
      "text/plain": [
       "120"
      ]
     },
     "execution_count": 54,
     "metadata": {},
     "output_type": "execute_result"
    }
   ],
   "source": [
    "Fact(5)"
   ]
  },
  {
   "cell_type": "code",
   "execution_count": 60,
   "id": "7a4bfd75",
   "metadata": {},
   "outputs": [],
   "source": [
    "import time"
   ]
  },
  {
   "cell_type": "code",
   "execution_count": 72,
   "id": "a017854d",
   "metadata": {},
   "outputs": [],
   "source": [
    "start_time = time.time()\n",
    "end_time = time.time()\n",
    "\n",
    "total_time = end_time - start_time"
   ]
  },
  {
   "cell_type": "code",
   "execution_count": 73,
   "id": "4f9df1dd",
   "metadata": {},
   "outputs": [
    {
     "data": {
      "text/plain": [
       "0.0"
      ]
     },
     "execution_count": 73,
     "metadata": {},
     "output_type": "execute_result"
    }
   ],
   "source": [
    "total_time"
   ]
  },
  {
   "cell_type": "code",
   "execution_count": 85,
   "id": "68bcfa77",
   "metadata": {},
   "outputs": [],
   "source": [
    "def calculateTime(func):\n",
    "    \n",
    "    def factorial(num):\n",
    "        start_time = time.time()\n",
    "        func(num)\n",
    "        end_time = time.time()\n",
    "        total_time = end_time - start_time\n",
    "        \n",
    "        return f\"The total time is {total_time}\"\n",
    "    \n",
    "    return factorial"
   ]
  },
  {
   "cell_type": "code",
   "execution_count": 87,
   "id": "4908f28e",
   "metadata": {},
   "outputs": [
    {
     "name": "stdout",
     "output_type": "stream",
     "text": [
      "the factorial of 5 is 120\n"
     ]
    },
    {
     "data": {
      "text/plain": [
       "'The total time is 0.0'"
      ]
     },
     "execution_count": 87,
     "metadata": {},
     "output_type": "execute_result"
    }
   ],
   "source": [
    "@calculateTime\n",
    "def Fact(num):\n",
    "    fact = 1\n",
    "    for i in range(1,num+1):\n",
    "        fact *= i\n",
    "    print(f\"the factorial of {num} is {fact}\")\n",
    "\n",
    "facto = Fact(5)\n",
    "facto"
   ]
  },
  {
   "cell_type": "code",
   "execution_count": 91,
   "id": "4da1e83e",
   "metadata": {},
   "outputs": [
    {
     "name": "stdout",
     "output_type": "stream",
     "text": [
      "the factorial of 10 is 3628800\n"
     ]
    },
    {
     "data": {
      "text/plain": [
       "'The total time is 0.0009179115295410156'"
      ]
     },
     "execution_count": 91,
     "metadata": {},
     "output_type": "execute_result"
    }
   ],
   "source": [
    "Fact(10)"
   ]
  },
  {
   "cell_type": "code",
   "execution_count": null,
   "id": "c9d63ffd",
   "metadata": {},
   "outputs": [],
   "source": []
  },
  {
   "cell_type": "markdown",
   "id": "b9ac31f0",
   "metadata": {},
   "source": [
    "## Chaining Decorators"
   ]
  },
  {
   "cell_type": "code",
   "execution_count": 118,
   "id": "c83c9eb7",
   "metadata": {},
   "outputs": [],
   "source": [
    "def dec1(func):\n",
    "    print(\"This is Dec 1\")\n",
    "    def inner():\n",
    "        print(\"<>\"*50)\n",
    "        func()\n",
    "        print(\"<>\"*50)        \n",
    "    return inner\n",
    "\n",
    "# >>>>>>>>>>>>>>>>>>>>>>>>>>>>>>>>>>>>>>>>>>>>>>>>>>>>>>>>>>>>>>>>>>>>>>>>>>>>>>>>>>>>>>>>>>>>>>>>>>>>>>>>\n",
    "\n",
    "def dec2(func):\n",
    "    print(\"This is Dec 2\")\n",
    "    def inner():\n",
    "        print(\"<>\"*50)\n",
    "        func()\n",
    "        print(\"<>\"*50)  \n",
    "    return inner"
   ]
  },
  {
   "cell_type": "code",
   "execution_count": 119,
   "id": "a212bf91",
   "metadata": {},
   "outputs": [
    {
     "name": "stdout",
     "output_type": "stream",
     "text": [
      "This is Dec 1\n",
      "<><><><><><><><><><><><><><><><><><><><><><><><><><><><><><><><><><><><><><><><><><><><><><><><><><>\n",
      "Chainig Decorators\n",
      "<><><><><><><><><><><><><><><><><><><><><><><><><><><><><><><><><><><><><><><><><><><><><><><><><><>\n"
     ]
    }
   ],
   "source": [
    "@dec1\n",
    "def fun():\n",
    "    print(\"Chainig Decorators\")\n",
    "    \n",
    "fun()"
   ]
  },
  {
   "cell_type": "code",
   "execution_count": 120,
   "id": "72e5c3c5",
   "metadata": {},
   "outputs": [
    {
     "name": "stdout",
     "output_type": "stream",
     "text": [
      "This is Dec 1\n",
      "<><><><><><><><><><><><><><><><><><><><><><><><><><><><><><><><><><><><><><><><><><><><><><><><><><>\n",
      "Chainig Decorators\n",
      "<><><><><><><><><><><><><><><><><><><><><><><><><><><><><><><><><><><><><><><><><><><><><><><><><><>\n"
     ]
    }
   ],
   "source": [
    "Ojct = dec1(Fun)\n",
    "Ojct()"
   ]
  },
  {
   "cell_type": "code",
   "execution_count": null,
   "id": "b40a3a28",
   "metadata": {},
   "outputs": [],
   "source": []
  },
  {
   "cell_type": "code",
   "execution_count": null,
   "id": "39245ca3",
   "metadata": {},
   "outputs": [],
   "source": []
  },
  {
   "cell_type": "code",
   "execution_count": 116,
   "id": "899cdce2",
   "metadata": {},
   "outputs": [
    {
     "name": "stdout",
     "output_type": "stream",
     "text": [
      "This is Dec 2\n",
      "<><><><><><><><><><><><><><><><><><><><><><><><><><><><><><><><><><><><><><><><><><><><><><><><><><>\n",
      "Chainig Decorators\n",
      "<><><><><><><><><><><><><><><><><><><><><><><><><><><><><><><><><><><><><><><><><><><><><><><><><><>\n"
     ]
    }
   ],
   "source": [
    "@dec2\n",
    "def fun():\n",
    "    print(\"Chainig Decorators\")\n",
    "    \n",
    "fun()"
   ]
  },
  {
   "cell_type": "code",
   "execution_count": null,
   "id": "479e8b39",
   "metadata": {},
   "outputs": [],
   "source": []
  },
  {
   "cell_type": "code",
   "execution_count": 107,
   "id": "7ab1d8e2",
   "metadata": {},
   "outputs": [
    {
     "name": "stdout",
     "output_type": "stream",
     "text": [
      "This is Dec 1\n",
      "This is Dec 2\n",
      "<><><><><><><><><><><><><><><><><><><><><><><><><><><><><><><><><><><><><><><><><><><><><><><><><><>\n",
      "<><><><><><><><><><><><><><><><><><><><><><><><><><><><><><><><><><><><><><><><><><><><><><><><><><>\n",
      "Chainig Decorators\n",
      "<><><><><><><><><><><><><><><><><><><><><><><><><><><><><><><><><><><><><><><><><><><><><><><><><><>\n",
      "<><><><><><><><><><><><><><><><><><><><><><><><><><><><><><><><><><><><><><><><><><><><><><><><><><>\n"
     ]
    }
   ],
   "source": [
    "@dec2\n",
    "@dec1\n",
    "def fun():\n",
    "    print(\"Chainig Decorators\")\n",
    "    \n",
    "fun()"
   ]
  },
  {
   "cell_type": "code",
   "execution_count": null,
   "id": "8d24eab7",
   "metadata": {},
   "outputs": [],
   "source": []
  }
 ],
 "metadata": {
  "kernelspec": {
   "display_name": "Python 3 (ipykernel)",
   "language": "python",
   "name": "python3"
  },
  "language_info": {
   "codemirror_mode": {
    "name": "ipython",
    "version": 3
   },
   "file_extension": ".py",
   "mimetype": "text/x-python",
   "name": "python",
   "nbconvert_exporter": "python",
   "pygments_lexer": "ipython3",
   "version": "3.9.12"
  }
 },
 "nbformat": 4,
 "nbformat_minor": 5
}
