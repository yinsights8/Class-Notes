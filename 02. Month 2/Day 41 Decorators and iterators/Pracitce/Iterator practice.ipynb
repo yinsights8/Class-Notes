{
 "cells": [
  {
   "cell_type": "markdown",
   "id": "5c8457dc",
   "metadata": {},
   "source": [
    "## iterator"
   ]
  },
  {
   "cell_type": "code",
   "execution_count": 2,
   "id": "3d7a1390",
   "metadata": {},
   "outputs": [
    {
     "name": "stdout",
     "output_type": "stream",
     "text": [
      "1\n",
      "2\n",
      "3\n",
      "4\n",
      "5\n"
     ]
    }
   ],
   "source": [
    "nums = [1,2,3,4,5]\n",
    "for i in nums:\n",
    "    print(i)"
   ]
  },
  {
   "cell_type": "code",
   "execution_count": 10,
   "id": "1fcf8646",
   "metadata": {},
   "outputs": [],
   "source": [
    "num = iter(nums)"
   ]
  },
  {
   "cell_type": "code",
   "execution_count": 11,
   "id": "f3758c85",
   "metadata": {},
   "outputs": [
    {
     "data": {
      "text/plain": [
       "1"
      ]
     },
     "execution_count": 11,
     "metadata": {},
     "output_type": "execute_result"
    }
   ],
   "source": [
    "next(num)"
   ]
  },
  {
   "cell_type": "code",
   "execution_count": 12,
   "id": "eb938391",
   "metadata": {},
   "outputs": [
    {
     "data": {
      "text/plain": [
       "2"
      ]
     },
     "execution_count": 12,
     "metadata": {},
     "output_type": "execute_result"
    }
   ],
   "source": [
    "next(num)"
   ]
  },
  {
   "cell_type": "code",
   "execution_count": 13,
   "id": "2640be0e",
   "metadata": {},
   "outputs": [
    {
     "data": {
      "text/plain": [
       "3"
      ]
     },
     "execution_count": 13,
     "metadata": {},
     "output_type": "execute_result"
    }
   ],
   "source": [
    "next(num)"
   ]
  },
  {
   "cell_type": "code",
   "execution_count": 15,
   "id": "a3d84afc",
   "metadata": {},
   "outputs": [
    {
     "name": "stdout",
     "output_type": "stream",
     "text": [
      "['__add__', '__class__', '__class_getitem__', '__contains__', '__delattr__', '__delitem__', '__dir__', '__doc__', '__eq__', '__format__', '__ge__', '__getattribute__', '__getitem__', '__gt__', '__hash__', '__iadd__', '__imul__', '__init__', '__init_subclass__', '__iter__', '__le__', '__len__', '__lt__', '__mul__', '__ne__', '__new__', '__reduce__', '__reduce_ex__', '__repr__', '__reversed__', '__rmul__', '__setattr__', '__setitem__', '__sizeof__', '__str__', '__subclasshook__', 'append', 'clear', 'copy', 'count', 'extend', 'index', 'insert', 'pop', 'remove', 'reverse', 'sort']\n"
     ]
    }
   ],
   "source": [
    "print(dir(list()))"
   ]
  },
  {
   "cell_type": "code",
   "execution_count": 77,
   "id": "75c81e7c",
   "metadata": {},
   "outputs": [
    {
     "data": {
      "text/plain": [
       "1"
      ]
     },
     "execution_count": 77,
     "metadata": {},
     "output_type": "execute_result"
    }
   ],
   "source": [
    "class TopTen():\n",
    "    def __init__(self,start,last):\n",
    "        self.last = last\n",
    "        self.start = start\n",
    "        \n",
    "    def __iter__(self):\n",
    "        return self.start\n",
    "        \n",
    "    def __next__(self):\n",
    "        if self.start <= self.last:\n",
    "            var = self.start\n",
    "            self.start += 1\n",
    "            return var\n",
    "    def __expo__(self):\n",
    "        if self.start <= self.last:\n",
    "            var2 = self.start\n",
    "            self\n",
    "            self.start**2\n",
    "            return var2\n",
    "    \n",
    "n = TopTen(1,10)\n",
    "n.__iter__()\n"
   ]
  },
  {
   "cell_type": "code",
   "execution_count": 71,
   "id": "c352ef1b",
   "metadata": {},
   "outputs": [
    {
     "data": {
      "text/plain": [
       "1"
      ]
     },
     "execution_count": 71,
     "metadata": {},
     "output_type": "execute_result"
    }
   ],
   "source": [
    "n.__iter__()"
   ]
  },
  {
   "cell_type": "code",
   "execution_count": 72,
   "id": "09afce95",
   "metadata": {},
   "outputs": [
    {
     "data": {
      "text/plain": [
       "1"
      ]
     },
     "execution_count": 72,
     "metadata": {},
     "output_type": "execute_result"
    }
   ],
   "source": [
    "n.__next__()"
   ]
  },
  {
   "cell_type": "code",
   "execution_count": 73,
   "id": "09c3685c",
   "metadata": {},
   "outputs": [
    {
     "data": {
      "text/plain": [
       "2"
      ]
     },
     "execution_count": 73,
     "metadata": {},
     "output_type": "execute_result"
    }
   ],
   "source": [
    "n.__next__()"
   ]
  },
  {
   "cell_type": "code",
   "execution_count": 74,
   "id": "b3e18be8",
   "metadata": {},
   "outputs": [
    {
     "data": {
      "text/plain": [
       "3"
      ]
     },
     "execution_count": 74,
     "metadata": {},
     "output_type": "execute_result"
    }
   ],
   "source": [
    "n.__next__()"
   ]
  },
  {
   "cell_type": "code",
   "execution_count": 75,
   "id": "464d4f41",
   "metadata": {},
   "outputs": [
    {
     "data": {
      "text/plain": [
       "4"
      ]
     },
     "execution_count": 75,
     "metadata": {},
     "output_type": "execute_result"
    }
   ],
   "source": [
    "n.__next__()"
   ]
  },
  {
   "cell_type": "code",
   "execution_count": null,
   "id": "b620907d",
   "metadata": {},
   "outputs": [],
   "source": []
  },
  {
   "cell_type": "code",
   "execution_count": 76,
   "id": "1727bd43",
   "metadata": {},
   "outputs": [
    {
     "data": {
      "text/plain": [
       "5"
      ]
     },
     "execution_count": 76,
     "metadata": {},
     "output_type": "execute_result"
    }
   ],
   "source": [
    "n.__next__()"
   ]
  },
  {
   "cell_type": "code",
   "execution_count": 78,
   "id": "8deb8400",
   "metadata": {},
   "outputs": [
    {
     "data": {
      "text/plain": [
       "1"
      ]
     },
     "execution_count": 78,
     "metadata": {},
     "output_type": "execute_result"
    }
   ],
   "source": [
    "n.__expo__()"
   ]
  },
  {
   "cell_type": "code",
   "execution_count": 79,
   "id": "573bee43",
   "metadata": {},
   "outputs": [
    {
     "data": {
      "text/plain": [
       "1"
      ]
     },
     "execution_count": 79,
     "metadata": {},
     "output_type": "execute_result"
    }
   ],
   "source": [
    "n.__expo__()"
   ]
  },
  {
   "cell_type": "code",
   "execution_count": null,
   "id": "d04cea01",
   "metadata": {},
   "outputs": [],
   "source": []
  }
 ],
 "metadata": {
  "kernelspec": {
   "display_name": "Python 3 (ipykernel)",
   "language": "python",
   "name": "python3"
  },
  "language_info": {
   "codemirror_mode": {
    "name": "ipython",
    "version": 3
   },
   "file_extension": ".py",
   "mimetype": "text/x-python",
   "name": "python",
   "nbconvert_exporter": "python",
   "pygments_lexer": "ipython3",
   "version": "3.9.12"
  }
 },
 "nbformat": 4,
 "nbformat_minor": 5
}
