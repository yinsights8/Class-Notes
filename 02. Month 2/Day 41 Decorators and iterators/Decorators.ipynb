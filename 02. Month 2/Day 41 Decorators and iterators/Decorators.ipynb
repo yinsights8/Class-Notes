{
 "cells": [
  {
   "cell_type": "markdown",
   "id": "215b34c7",
   "metadata": {},
   "source": [
    "# Decorators"
   ]
  },
  {
   "cell_type": "code",
   "execution_count": 1,
   "id": "9579e1ad",
   "metadata": {},
   "outputs": [
    {
     "name": "stdout",
     "output_type": "stream",
     "text": [
      "This is Hello Decorator Function\n",
      "This is Inner Decorator Function\n"
     ]
    },
    {
     "data": {
      "text/plain": [
       "'Inner Decorator'"
      ]
     },
     "execution_count": 1,
     "metadata": {},
     "output_type": "execute_result"
    }
   ],
   "source": [
    "def HelloDecorator():\n",
    "    print(\"This is Hello Decorator Function\")\n",
    "    \n",
    "    def InnerDecoratorFunc():\n",
    "        print(\"This is Inner Decorator Function\")\n",
    "        return \"Inner Decorator\"\n",
    "    \n",
    "    \n",
    "    return InnerDecoratorFunc()\n",
    "\n",
    "HelloDecorator()"
   ]
  },
  {
   "cell_type": "code",
   "execution_count": 2,
   "id": "1f9243ec",
   "metadata": {},
   "outputs": [
    {
     "name": "stdout",
     "output_type": "stream",
     "text": [
      "This is Hello Decorator Function\n"
     ]
    },
    {
     "data": {
      "text/plain": [
       "<function __main__.HelloDecorator.<locals>.InnerDecoratorFunc()>"
      ]
     },
     "execution_count": 2,
     "metadata": {},
     "output_type": "execute_result"
    }
   ],
   "source": [
    "def HelloDecorator():\n",
    "    print(\"This is Hello Decorator Function\")\n",
    "    \n",
    "    def InnerDecoratorFunc():\n",
    "        print(\"This is Inner Decorator Function\")\n",
    "        return \"Inner Decorator\"\n",
    "    \n",
    "    \n",
    "    return InnerDecoratorFunc\n",
    "\n",
    "Res = HelloDecorator()\n",
    "Res"
   ]
  },
  {
   "cell_type": "code",
   "execution_count": 3,
   "id": "a277bb59",
   "metadata": {},
   "outputs": [
    {
     "name": "stdout",
     "output_type": "stream",
     "text": [
      "This is Hello Decorator Function\n",
      "This is Inner Decorator Function\n"
     ]
    },
    {
     "data": {
      "text/plain": [
       "'Inner Decorator'"
      ]
     },
     "execution_count": 3,
     "metadata": {},
     "output_type": "execute_result"
    }
   ],
   "source": [
    "def HelloDecorator():\n",
    "    print(\"This is Hello Decorator Function\")\n",
    "    \n",
    "    def InnerDecoratorFunc():\n",
    "        print(\"This is Inner Decorator Function\")\n",
    "        return \"Inner Decorator\"\n",
    "    \n",
    "    \n",
    "    return InnerDecoratorFunc\n",
    "\n",
    "Res = HelloDecorator()\n",
    "Res()"
   ]
  },
  {
   "cell_type": "code",
   "execution_count": 4,
   "id": "611843b2",
   "metadata": {},
   "outputs": [
    {
     "name": "stdout",
     "output_type": "stream",
     "text": [
      "This is Inner Decorator Function\n"
     ]
    },
    {
     "data": {
      "text/plain": [
       "'Inner Decorator'"
      ]
     },
     "execution_count": 4,
     "metadata": {},
     "output_type": "execute_result"
    }
   ],
   "source": [
    "Res()"
   ]
  },
  {
   "cell_type": "code",
   "execution_count": 10,
   "id": "241eecaf",
   "metadata": {},
   "outputs": [
    {
     "name": "stdout",
     "output_type": "stream",
     "text": [
      "This is Hello Decorator Function\n",
      "This is Inner Decorator Function\n",
      "Learnin Decorators\n",
      "**********\n"
     ]
    },
    {
     "data": {
      "text/plain": [
       "'Inner Decorator'"
      ]
     },
     "execution_count": 10,
     "metadata": {},
     "output_type": "execute_result"
    }
   ],
   "source": [
    "def HelloDecorator(func):\n",
    "    print(\"This is Hello Decorator Function\")\n",
    "    \n",
    "    def InnerDecoratorFunc():\n",
    "        print(\"This is Inner Decorator Function\")\n",
    "        func()\n",
    "        print(\"*\"*10)\n",
    "        return \"Inner Decorator\"\n",
    "    \n",
    "    \n",
    "    return InnerDecoratorFunc\n",
    "\n",
    "\n",
    "def my_func():\n",
    "    print(\"Learnin Decorators\")\n",
    "\n",
    "Res = HelloDecorator(my_func)\n",
    "Res()"
   ]
  },
  {
   "cell_type": "code",
   "execution_count": 9,
   "id": "e2d5c69e",
   "metadata": {},
   "outputs": [
    {
     "name": "stdout",
     "output_type": "stream",
     "text": [
      "This is Hello Decorator Function\n",
      "This is Inner Decorator Function\n",
      "Learnin Decorators\n",
      "**********\n"
     ]
    },
    {
     "data": {
      "text/plain": [
       "'Inner Decorator'"
      ]
     },
     "execution_count": 9,
     "metadata": {},
     "output_type": "execute_result"
    }
   ],
   "source": [
    "def HelloDecorator(func):\n",
    "    print(\"This is Hello Decorator Function\")\n",
    "    \n",
    "    def InnerDecoratorFunc():\n",
    "        print(\"This is Inner Decorator Function\")\n",
    "        func()\n",
    "        print(\"*\"*10)\n",
    "        return \"Inner Decorator\"\n",
    "    \n",
    "    \n",
    "    return InnerDecoratorFunc\n",
    "\n",
    "\n",
    "\n",
    "@HelloDecorator\n",
    "def my_func():\n",
    "    print(\"Learnin Decorators\")\n",
    "    \n",
    "    \n",
    "my_func()"
   ]
  },
  {
   "cell_type": "code",
   "execution_count": 22,
   "id": "98d00b96",
   "metadata": {},
   "outputs": [],
   "source": [
    "from Demo1 import Division"
   ]
  },
  {
   "cell_type": "code",
   "execution_count": 23,
   "id": "c8e3900d",
   "metadata": {},
   "outputs": [
    {
     "data": {
      "text/plain": [
       "'Division of 10 and 5 ---> 2.0'"
      ]
     },
     "execution_count": 23,
     "metadata": {},
     "output_type": "execute_result"
    }
   ],
   "source": [
    "Division(10,5)"
   ]
  },
  {
   "cell_type": "code",
   "execution_count": 24,
   "id": "43f5330e",
   "metadata": {},
   "outputs": [
    {
     "data": {
      "text/plain": [
       "'Division of 5 and 5 ---> 1.0'"
      ]
     },
     "execution_count": 24,
     "metadata": {},
     "output_type": "execute_result"
    }
   ],
   "source": [
    "Division(5,5)"
   ]
  },
  {
   "cell_type": "code",
   "execution_count": 25,
   "id": "a86b7824",
   "metadata": {},
   "outputs": [
    {
     "data": {
      "text/plain": [
       "'Division of 5 and 10 ---> 0.5'"
      ]
     },
     "execution_count": 25,
     "metadata": {},
     "output_type": "execute_result"
    }
   ],
   "source": [
    "Division(5,10)"
   ]
  },
  {
   "cell_type": "code",
   "execution_count": 28,
   "id": "bb4edbde",
   "metadata": {},
   "outputs": [],
   "source": [
    "def Division1(func):\n",
    "    def InnerFun(a,b):\n",
    "        if a < b:\n",
    "            a,b = b,a\n",
    "        return func(a,b)\n",
    "    return InnerFun"
   ]
  },
  {
   "cell_type": "code",
   "execution_count": 29,
   "id": "6f7e2c41",
   "metadata": {},
   "outputs": [
    {
     "data": {
      "text/plain": [
       "'Division of 10 and 5 ---> 2.0'"
      ]
     },
     "execution_count": 29,
     "metadata": {},
     "output_type": "execute_result"
    }
   ],
   "source": [
    "Division(10,5)"
   ]
  },
  {
   "cell_type": "code",
   "execution_count": 30,
   "id": "0a86fa70",
   "metadata": {},
   "outputs": [
    {
     "data": {
      "text/plain": [
       "'Division of 5 and 10 ---> 0.5'"
      ]
     },
     "execution_count": 30,
     "metadata": {},
     "output_type": "execute_result"
    }
   ],
   "source": [
    "Division(5,10)"
   ]
  },
  {
   "cell_type": "code",
   "execution_count": 31,
   "id": "4fb4279a",
   "metadata": {},
   "outputs": [
    {
     "ename": "TypeError",
     "evalue": "Division1() missing 1 required positional argument: 'func'",
     "output_type": "error",
     "traceback": [
      "\u001b[1;31m---------------------------------------------------------------------------\u001b[0m",
      "\u001b[1;31mTypeError\u001b[0m                                 Traceback (most recent call last)",
      "Input \u001b[1;32mIn [31]\u001b[0m, in \u001b[0;36m<cell line: 1>\u001b[1;34m()\u001b[0m\n\u001b[1;32m----> 1\u001b[0m \u001b[43mDivision1\u001b[49m\u001b[43m(\u001b[49m\u001b[43m)\u001b[49m\n",
      "\u001b[1;31mTypeError\u001b[0m: Division1() missing 1 required positional argument: 'func'"
     ]
    }
   ],
   "source": [
    "Division1()"
   ]
  },
  {
   "cell_type": "code",
   "execution_count": 33,
   "id": "d582fac8",
   "metadata": {},
   "outputs": [
    {
     "data": {
      "text/plain": [
       "<function __main__.Division1.<locals>.InnerFun(a, b)>"
      ]
     },
     "execution_count": 33,
     "metadata": {},
     "output_type": "execute_result"
    }
   ],
   "source": [
    "div1 = Division1(Division)\n",
    "div1"
   ]
  },
  {
   "cell_type": "code",
   "execution_count": 34,
   "id": "d0499c97",
   "metadata": {},
   "outputs": [
    {
     "data": {
      "text/plain": [
       "'Division of 10 and 5 ---> 2.0'"
      ]
     },
     "execution_count": 34,
     "metadata": {},
     "output_type": "execute_result"
    }
   ],
   "source": [
    "div1(10,5)"
   ]
  },
  {
   "cell_type": "code",
   "execution_count": 35,
   "id": "9afae96e",
   "metadata": {},
   "outputs": [
    {
     "data": {
      "text/plain": [
       "'Division of 10 and 5 ---> 2.0'"
      ]
     },
     "execution_count": 35,
     "metadata": {},
     "output_type": "execute_result"
    }
   ],
   "source": [
    "div1(5,10)"
   ]
  },
  {
   "cell_type": "code",
   "execution_count": 38,
   "id": "d478ac0f",
   "metadata": {},
   "outputs": [
    {
     "data": {
      "text/plain": [
       "'Division of 100 and 5 ---> 20.0'"
      ]
     },
     "execution_count": 38,
     "metadata": {},
     "output_type": "execute_result"
    }
   ],
   "source": [
    "@Division1\n",
    "def Division(a,b):\n",
    "    return f\"Division of {a} and {b} ---> {a/b}\"\n",
    "\n",
    "Division(100,5)"
   ]
  },
  {
   "cell_type": "code",
   "execution_count": 39,
   "id": "84c8605a",
   "metadata": {},
   "outputs": [
    {
     "data": {
      "text/plain": [
       "'Division of 100 and 5 ---> 20.0'"
      ]
     },
     "execution_count": 39,
     "metadata": {},
     "output_type": "execute_result"
    }
   ],
   "source": [
    "Division(5,100)"
   ]
  },
  {
   "cell_type": "code",
   "execution_count": 42,
   "id": "9d31a53e",
   "metadata": {},
   "outputs": [],
   "source": [
    "import time"
   ]
  },
  {
   "cell_type": "code",
   "execution_count": 40,
   "id": "5c2d9704",
   "metadata": {},
   "outputs": [
    {
     "name": "stdout",
     "output_type": "stream",
     "text": [
      "Factorial of 5 --> 120\n"
     ]
    }
   ],
   "source": [
    "def fact(num):\n",
    "    factorial = 1\n",
    "    for i in range(1,num+1):\n",
    "        factorial *= i\n",
    "    print(f\"Factorial of {num} --> {factorial}\")\n",
    "    \n",
    "fact(5)"
   ]
  },
  {
   "cell_type": "code",
   "execution_count": 41,
   "id": "9ccbf210",
   "metadata": {},
   "outputs": [
    {
     "name": "stdout",
     "output_type": "stream",
     "text": [
      "Factorial of 10 --> 3628800\n"
     ]
    }
   ],
   "source": [
    "fact(10)"
   ]
  },
  {
   "cell_type": "code",
   "execution_count": null,
   "id": "eabfdd93",
   "metadata": {},
   "outputs": [],
   "source": []
  },
  {
   "cell_type": "code",
   "execution_count": 53,
   "id": "4c7509a9",
   "metadata": {},
   "outputs": [],
   "source": [
    "def CalcTime(fact):\n",
    "    \n",
    "    def InnerFunc(num):\n",
    "        start_time = time.time()\n",
    "        fact(num)\n",
    "        end_time = time.time()\n",
    "\n",
    "        total_time = end_time - start_time\n",
    "        print(f\"The total time required --> {total_time}\")\n",
    "        \n",
    "    return InnerFunc"
   ]
  },
  {
   "cell_type": "code",
   "execution_count": 54,
   "id": "a431eb62",
   "metadata": {},
   "outputs": [
    {
     "name": "stdout",
     "output_type": "stream",
     "text": [
      "Factorial of 5 --> 120\n",
      "The total time required --> 0.0\n"
     ]
    }
   ],
   "source": [
    "@CalcTime\n",
    "def fact(num):\n",
    "    factorial = 1\n",
    "    for i in range(1,num+1):\n",
    "        factorial *= i\n",
    "    print(f\"Factorial of {num} --> {factorial}\")\n",
    "    \n",
    "fact(5)"
   ]
  },
  {
   "cell_type": "code",
   "execution_count": 55,
   "id": "eae352aa",
   "metadata": {},
   "outputs": [
    {
     "name": "stdout",
     "output_type": "stream",
     "text": [
      "Factorial of 100 --> 93326215443944152681699238856266700490715968264381621468592963895217599993229915608941463976156518286253697920827223758251185210916864000000000000000000000000\n",
      "The total time required --> 0.000997781753540039\n"
     ]
    }
   ],
   "source": [
    "fact(100)"
   ]
  },
  {
   "cell_type": "code",
   "execution_count": 56,
   "id": "aefd7f59",
   "metadata": {},
   "outputs": [
    {
     "name": "stdout",
     "output_type": "stream",
     "text": [
      "Factorial of 1000 --> 402387260077093773543702433923003985719374864210714632543799910429938512398629020592044208486969404800479988610197196058631666872994808558901323829669944590997424504087073759918823627727188732519779505950995276120874975462497043601418278094646496291056393887437886487337119181045825783647849977012476632889835955735432513185323958463075557409114262417474349347553428646576611667797396668820291207379143853719588249808126867838374559731746136085379534524221586593201928090878297308431392844403281231558611036976801357304216168747609675871348312025478589320767169132448426236131412508780208000261683151027341827977704784635868170164365024153691398281264810213092761244896359928705114964975419909342221566832572080821333186116811553615836546984046708975602900950537616475847728421889679646244945160765353408198901385442487984959953319101723355556602139450399736280750137837615307127761926849034352625200015888535147331611702103968175921510907788019393178114194545257223865541461062892187960223838971476088506276862967146674697562911234082439208160153780889893964518263243671616762179168909779911903754031274622289988005195444414282012187361745992642956581746628302955570299024324153181617210465832036786906117260158783520751516284225540265170483304226143974286933061690897968482590125458327168226458066526769958652682272807075781391858178889652208164348344825993266043367660176999612831860788386150279465955131156552036093988180612138558600301435694527224206344631797460594682573103790084024432438465657245014402821885252470935190620929023136493273497565513958720559654228749774011413346962715422845862377387538230483865688976461927383814900140767310446640259899490222221765904339901886018566526485061799702356193897017860040811889729918311021171229845901641921068884387121855646124960798722908519296819372388642614839657382291123125024186649353143970137428531926649875337218940694281434118520158014123344828015051399694290153483077644569099073152433278288269864602789864321139083506217095002597389863554277196742822248757586765752344220207573630569498825087968928162753848863396909959826280956121450994871701244516461260379029309120889086942028510640182154399457156805941872748998094254742173582401063677404595741785160829230135358081840096996372524230560855903700624271243416909004153690105933983835777939410970027753472000000000000000000000000000000000000000000000000000000000000000000000000000000000000000000000000000000000000000000000000000000000000000000000000000000000000000000000000000000000000000000000000000000000000000000000000000000000000000000000000000000000\n",
      "The total time required --> 0.0009913444519042969\n"
     ]
    }
   ],
   "source": [
    "fact(1000)"
   ]
  },
  {
   "cell_type": "markdown",
   "id": "4ee7ced8",
   "metadata": {},
   "source": [
    "# Chaining Decorators"
   ]
  },
  {
   "cell_type": "code",
   "execution_count": 63,
   "id": "d8adab04",
   "metadata": {},
   "outputs": [],
   "source": [
    "def dec1(fun):\n",
    "    print(\"This is dec 1\")\n",
    "    def inner1():\n",
    "        print(\"-\"*65)\n",
    "        fun()\n",
    "        print(\"-\"*65)\n",
    "    return inner1\n",
    "\n",
    "def dec2(fun):\n",
    "    print(\"This is dec 2\")\n",
    "    def inner2():\n",
    "        print(\"-\"*65)\n",
    "        fun()\n",
    "        print(\"-\"*65)\n",
    "    return inner2"
   ]
  },
  {
   "cell_type": "code",
   "execution_count": 64,
   "id": "c4b216e0",
   "metadata": {},
   "outputs": [
    {
     "name": "stdout",
     "output_type": "stream",
     "text": [
      "This is dec 1\n",
      "-----------------------------------------------------------------\n",
      "Chaining Decorators\n",
      "-----------------------------------------------------------------\n"
     ]
    }
   ],
   "source": [
    "@dec1\n",
    "def Display():\n",
    "    print(\"Chaining Decorators\")\n",
    "    \n",
    "    \n",
    "Display()"
   ]
  },
  {
   "cell_type": "code",
   "execution_count": 65,
   "id": "33f63f67",
   "metadata": {},
   "outputs": [
    {
     "name": "stdout",
     "output_type": "stream",
     "text": [
      "This is dec 2\n",
      "-----------------------------------------------------------------\n",
      "Chaining Decorators\n",
      "-----------------------------------------------------------------\n"
     ]
    }
   ],
   "source": [
    "@dec2\n",
    "def Display():\n",
    "    print(\"Chaining Decorators\")\n",
    "    \n",
    "    \n",
    "Display()"
   ]
  },
  {
   "cell_type": "code",
   "execution_count": 67,
   "id": "4e244e34",
   "metadata": {},
   "outputs": [
    {
     "name": "stdout",
     "output_type": "stream",
     "text": [
      "This is dec 1\n",
      "-----------------------------------------------------------------\n",
      "-----------------------------------------------------------------\n",
      "Chaining Decorators\n",
      "-----------------------------------------------------------------\n",
      "-----------------------------------------------------------------\n"
     ]
    }
   ],
   "source": [
    "obj1 = dec1(Display)\n",
    "obj1()"
   ]
  },
  {
   "cell_type": "code",
   "execution_count": 69,
   "id": "37e23be3",
   "metadata": {},
   "outputs": [
    {
     "name": "stdout",
     "output_type": "stream",
     "text": [
      "This is dec 2\n",
      "-----------------------------------------------------------------\n",
      "-----------------------------------------------------------------\n",
      "-----------------------------------------------------------------\n",
      "Chaining Decorators\n",
      "-----------------------------------------------------------------\n",
      "-----------------------------------------------------------------\n",
      "-----------------------------------------------------------------\n"
     ]
    }
   ],
   "source": [
    "obj2 = dec2(obj1)\n",
    "obj2()"
   ]
  },
  {
   "cell_type": "code",
   "execution_count": 70,
   "id": "f040c6e0",
   "metadata": {},
   "outputs": [
    {
     "name": "stdout",
     "output_type": "stream",
     "text": [
      "This is dec 2\n",
      "This is dec 1\n",
      "-----------------------------------------------------------------\n",
      "-----------------------------------------------------------------\n",
      "Chaining Decorators\n",
      "-----------------------------------------------------------------\n",
      "-----------------------------------------------------------------\n"
     ]
    }
   ],
   "source": [
    "@dec1\n",
    "@dec2\n",
    "def Display():\n",
    "    print(\"Chaining Decorators\")\n",
    "    \n",
    "    \n",
    "Display()"
   ]
  },
  {
   "cell_type": "code",
   "execution_count": null,
   "id": "6551a0a8",
   "metadata": {},
   "outputs": [],
   "source": []
  }
 ],
 "metadata": {
  "kernelspec": {
   "display_name": "Python 3 (ipykernel)",
   "language": "python",
   "name": "python3"
  },
  "language_info": {
   "codemirror_mode": {
    "name": "ipython",
    "version": 3
   },
   "file_extension": ".py",
   "mimetype": "text/x-python",
   "name": "python",
   "nbconvert_exporter": "python",
   "pygments_lexer": "ipython3",
   "version": "3.9.12"
  }
 },
 "nbformat": 4,
 "nbformat_minor": 5
}
