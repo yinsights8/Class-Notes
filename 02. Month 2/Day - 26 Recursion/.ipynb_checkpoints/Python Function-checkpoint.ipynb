{
 "cells": [
  {
   "cell_type": "markdown",
   "id": "3912c0e0",
   "metadata": {},
   "source": [
    "# * Calling a function  inside other function"
   ]
  },
  {
   "cell_type": "code",
   "execution_count": 1,
   "id": "7e905eee",
   "metadata": {},
   "outputs": [
    {
     "name": "stdout",
     "output_type": "stream",
     "text": [
      "150\n"
     ]
    }
   ],
   "source": [
    "def add(x,y):\n",
    "    print(x + y)\n",
    "    \n",
    "    \n",
    "def calc(x,y):\n",
    "    add(x,y)\n",
    "    \n",
    "x = 100\n",
    "y = 50\n",
    "calc(x,y)"
   ]
  },
  {
   "cell_type": "code",
   "execution_count": 2,
   "id": "c8865531",
   "metadata": {},
   "outputs": [
    {
     "name": "stdout",
     "output_type": "stream",
     "text": [
      "505\n"
     ]
    }
   ],
   "source": [
    "add(500,5)"
   ]
  },
  {
   "cell_type": "code",
   "execution_count": 6,
   "id": "e90c02e9",
   "metadata": {},
   "outputs": [
    {
     "name": "stdout",
     "output_type": "stream",
     "text": [
      "x and y in calulator function x = 100,y = 50\n",
      "Calling Add Function\n",
      "x and y in add function x = 100,y = 50\n",
      "The result of add function =  150\n"
     ]
    }
   ],
   "source": [
    "def add(x,y):\n",
    "    print(f\"x and y in add function x = {x},y = {y}\")\n",
    "    return x + y\n",
    "    \n",
    "    \n",
    "def calc(x,y):\n",
    "    print(f\"x and y in calulator function x = {x},y = {y}\")\n",
    "    print(\"Calling Add Function\")\n",
    "    res = add(x,y)\n",
    "    print(\"The result of add function = \",res)\n",
    "    \n",
    "x = 100\n",
    "y = 50\n",
    "calc(x,y)"
   ]
  },
  {
   "cell_type": "code",
   "execution_count": 7,
   "id": "89620f25",
   "metadata": {},
   "outputs": [
    {
     "name": "stdout",
     "output_type": "stream",
     "text": [
      "x and y in calulator function x = 100,y = 50\n",
      "Calling Add Function\n",
      "x and y in add function x = 100,y = 50\n",
      "The result of add function =  150\n",
      "\n",
      "Calling Add Function\n",
      "x and y in mul function x = 100,y = 50\n",
      "The result of mul function using return statement =  5000\n"
     ]
    },
    {
     "ename": "NameError",
     "evalue": "name 'multiplication' is not defined",
     "output_type": "error",
     "traceback": [
      "\u001b[1;31m---------------------------------------------------------------------------\u001b[0m",
      "\u001b[1;31mNameError\u001b[0m                                 Traceback (most recent call last)",
      "Input \u001b[1;32mIn [7]\u001b[0m, in \u001b[0;36m<cell line: 23>\u001b[1;34m()\u001b[0m\n\u001b[0;32m     21\u001b[0m x \u001b[38;5;241m=\u001b[39m \u001b[38;5;241m100\u001b[39m\n\u001b[0;32m     22\u001b[0m y \u001b[38;5;241m=\u001b[39m \u001b[38;5;241m50\u001b[39m\n\u001b[1;32m---> 23\u001b[0m \u001b[43mcalc\u001b[49m\u001b[43m(\u001b[49m\u001b[43mx\u001b[49m\u001b[43m,\u001b[49m\u001b[43my\u001b[49m\u001b[43m)\u001b[49m\n",
      "Input \u001b[1;32mIn [7]\u001b[0m, in \u001b[0;36mcalc\u001b[1;34m(x, y)\u001b[0m\n\u001b[0;32m     18\u001b[0m res \u001b[38;5;241m=\u001b[39m mul(x,y)\n\u001b[0;32m     19\u001b[0m \u001b[38;5;28mprint\u001b[39m(\u001b[38;5;124m\"\u001b[39m\u001b[38;5;124mThe result of mul function using return statement = \u001b[39m\u001b[38;5;124m\"\u001b[39m,res)\n\u001b[1;32m---> 20\u001b[0m \u001b[38;5;28mprint\u001b[39m(\u001b[38;5;124m\"\u001b[39m\u001b[38;5;124mThe result of mul function using local variable = \u001b[39m\u001b[38;5;124m\"\u001b[39m,\u001b[43mmultiplication\u001b[49m)\n",
      "\u001b[1;31mNameError\u001b[0m: name 'multiplication' is not defined"
     ]
    }
   ],
   "source": [
    "def add(x,y):\n",
    "    print(f\"x and y in add function x = {x},y = {y}\")\n",
    "    return x + y\n",
    "\n",
    "def mul(x,y):\n",
    "    multiplication = x * y\n",
    "    print(f\"x and y in mul function x = {x},y = {y}\")\n",
    "    return x * y    \n",
    "    \n",
    "    \n",
    "def calc(x,y):\n",
    "    print(f\"x and y in calulator function x = {x},y = {y}\")\n",
    "    print(\"Calling Add Function\")\n",
    "    res = add(x,y)\n",
    "    print(\"The result of add function = \",res)\n",
    "    print()\n",
    "    print(\"Calling Add Function\")\n",
    "    res = mul(x,y)\n",
    "    print(\"The result of mul function using return statement = \",res)\n",
    "x = 100\n",
    "y = 50\n",
    "calc(x,y)"
   ]
  },
  {
   "cell_type": "code",
   "execution_count": 10,
   "id": "9b764773",
   "metadata": {},
   "outputs": [
    {
     "name": "stdout",
     "output_type": "stream",
     "text": [
      "x and y in calulator function x = 100,y = 50\n",
      "Calling Add Function\n",
      "x and y in add function x = 100,y = 50\n",
      "The result of add function =  150\n",
      "\n",
      "Calling Mul Function\n",
      "x and y in mul function x = 100,y = 50\n",
      "The result of mul function using return statement =  5000\n",
      "The result of mul function using local variable =  5000\n"
     ]
    }
   ],
   "source": [
    "def add(x,y):\n",
    "    print(f\"x and y in add function x = {x},y = {y}\")\n",
    "    return x + y\n",
    "\n",
    "def mul(x,y):\n",
    "    global multiplication \n",
    "    multiplication = x * y\n",
    "    print(f\"x and y in mul function x = {x},y = {y}\")\n",
    "    return x * y    \n",
    "    \n",
    "    \n",
    "def calc(x,y):\n",
    "    print(f\"x and y in calulator function x = {x},y = {y}\")\n",
    "    print(\"Calling Add Function\")\n",
    "    res = add(x,y)\n",
    "    print(\"The result of add function = \",res)\n",
    "    print()\n",
    "    print(\"Calling Mul Function\")\n",
    "    res = mul(x,y)\n",
    "    print(\"The result of mul function using return statement = \",res)\n",
    "    print(\"The result of mul function using local variable = \",multiplication)\n",
    "x = 100\n",
    "y = 50\n",
    "calc(x,y)"
   ]
  },
  {
   "cell_type": "code",
   "execution_count": 11,
   "id": "26646f01",
   "metadata": {},
   "outputs": [
    {
     "name": "stdout",
     "output_type": "stream",
     "text": [
      "x and y in calulator function x = 100,y = 50\n",
      "Calling Add Function\n",
      "x and y in add function x = 100,y = 50\n",
      "The result of add function =  150\n",
      "\n",
      "Calling Mul Function\n",
      "x and y in mul function x = 100,y = 50\n",
      "The result of mul function =  5000\n",
      "\n",
      "Calling Sub Function\n",
      "a and b in sub function x = 100,y = 50\n",
      "The result of sub function =  50\n"
     ]
    }
   ],
   "source": [
    "def add(x,y):\n",
    "    print(f\"x and y in add function x = {x},y = {y}\")\n",
    "    return x + y\n",
    "\n",
    "def mul(x,y):\n",
    "    multiplication = x * y\n",
    "    print(f\"x and y in mul function x = {x},y = {y}\")\n",
    "    return x * y    \n",
    "\n",
    "def sub(a,b):\n",
    "    print(f\"a and b in sub function x = {a},y = {b}\")\n",
    "    return a - b\n",
    "    \n",
    "    \n",
    "def calc(x,y):\n",
    "    print(f\"x and y in calulator function x = {x},y = {y}\")\n",
    "    print(\"Calling Add Function\")\n",
    "    res = add(x,y)\n",
    "    print(\"The result of add function = \",res)\n",
    "    print()\n",
    "    print(\"Calling Mul Function\")\n",
    "    res = mul(x,y)\n",
    "    print(\"The result of mul function = \",res)\n",
    "    print()\n",
    "    print(\"Calling Sub Function\")\n",
    "    res = sub(x,y)\n",
    "    print(\"The result of sub function = \",res)\n",
    "x = 100\n",
    "y = 50\n",
    "calc(x,y)"
   ]
  },
  {
   "cell_type": "code",
   "execution_count": 18,
   "id": "38d2eacc",
   "metadata": {},
   "outputs": [
    {
     "name": "stdout",
     "output_type": "stream",
     "text": [
      "Add =  150\n",
      "Mul =  5000\n",
      "Sub =  50\n",
      "Div =  2.0\n",
      "All Functions are executed.....\n"
     ]
    }
   ],
   "source": [
    "def add(x,y):\n",
    "    print(\"Add = \",x + y)\n",
    "\n",
    "def mul(x,y):\n",
    "    print(\"Mul = \",x * y )   \n",
    "\n",
    "def sub(a,b):\n",
    "    print(\"Sub = \",a - b)\n",
    "    \n",
    "def div(a,b):\n",
    "    print(\"Div = \",a/b)\n",
    "    \n",
    "    \n",
    "def calc(x,y):\n",
    "    add(x,y)\n",
    "    mul(x,y)\n",
    "    sub(x,y)\n",
    "    div(x,y)\n",
    "    print(\"All Functions are executed.....\")\n",
    "    \n",
    "    \n",
    "    \n",
    "x = 100\n",
    "y = 50\n",
    "calc(x,y)"
   ]
  },
  {
   "cell_type": "code",
   "execution_count": 26,
   "id": "f2e3541f",
   "metadata": {},
   "outputs": [
    {
     "name": "stdout",
     "output_type": "stream",
     "text": [
      "Enter \n",
      "1 for addition\n",
      "2 for mul \n",
      "3 for sub \n",
      "4 for div2\n",
      "Mul =  50\n"
     ]
    }
   ],
   "source": [
    "def add(x,y):\n",
    "    print(\"Add = \",x + y)\n",
    "\n",
    "def mul(x,y):\n",
    "    print(\"Mul = \",x * y )   \n",
    "\n",
    "def sub(a,b):\n",
    "    print(\"Sub = \",a - b)\n",
    "    \n",
    "def div(a,b):\n",
    "    print(\"Div = \",a/b)\n",
    "    \n",
    "    \n",
    "def calc(x,y):\n",
    "    which_operation = int(input(f\"Enter \\n1 for addition\\n2 for mul \\n3 for sub \\n4 for div\"))\n",
    "    if which_operation == 1:\n",
    "            add(x,y)\n",
    "    elif which_operation == 2:\n",
    "        mul(x,y)\n",
    "    elif which_operation == 3:\n",
    "        sub(x,y)\n",
    "    else:\n",
    "        div(x,y)\n",
    "    \n",
    "    \n",
    "x = 10\n",
    "y = 5\n",
    "calc(x,y)"
   ]
  },
  {
   "cell_type": "code",
   "execution_count": 22,
   "id": "5ae5a496",
   "metadata": {},
   "outputs": [
    {
     "name": "stdout",
     "output_type": "stream",
     "text": [
      "Vaibhav\n"
     ]
    }
   ],
   "source": [
    "def my_name(name):\n",
    "    print(name)\n",
    "    \n",
    "    \n",
    "my_first_name = \"Vaibhav\"\n",
    "my_name(my_first_name)"
   ]
  },
  {
   "cell_type": "code",
   "execution_count": null,
   "id": "0b638680",
   "metadata": {},
   "outputs": [],
   "source": []
  },
  {
   "cell_type": "code",
   "execution_count": null,
   "id": "c886e161",
   "metadata": {},
   "outputs": [],
   "source": []
  },
  {
   "cell_type": "code",
   "execution_count": null,
   "id": "9d403e0e",
   "metadata": {},
   "outputs": [],
   "source": []
  },
  {
   "cell_type": "code",
   "execution_count": null,
   "id": "edf3f319",
   "metadata": {},
   "outputs": [],
   "source": []
  },
  {
   "cell_type": "code",
   "execution_count": null,
   "id": "68f6ae61",
   "metadata": {},
   "outputs": [],
   "source": []
  },
  {
   "cell_type": "code",
   "execution_count": null,
   "id": "66c45550",
   "metadata": {},
   "outputs": [],
   "source": []
  },
  {
   "cell_type": "code",
   "execution_count": null,
   "id": "8785eb1a",
   "metadata": {},
   "outputs": [],
   "source": []
  },
  {
   "cell_type": "code",
   "execution_count": null,
   "id": "981c4ff8",
   "metadata": {},
   "outputs": [],
   "source": []
  },
  {
   "cell_type": "code",
   "execution_count": null,
   "id": "4fcd3b75",
   "metadata": {},
   "outputs": [],
   "source": []
  },
  {
   "cell_type": "code",
   "execution_count": null,
   "id": "557d7256",
   "metadata": {},
   "outputs": [],
   "source": []
  },
  {
   "cell_type": "code",
   "execution_count": null,
   "id": "d16161ab",
   "metadata": {},
   "outputs": [],
   "source": []
  },
  {
   "cell_type": "code",
   "execution_count": null,
   "id": "667c931b",
   "metadata": {},
   "outputs": [],
   "source": []
  },
  {
   "cell_type": "code",
   "execution_count": null,
   "id": "3e494276",
   "metadata": {},
   "outputs": [],
   "source": []
  },
  {
   "cell_type": "code",
   "execution_count": null,
   "id": "edb6ef55",
   "metadata": {},
   "outputs": [],
   "source": []
  },
  {
   "cell_type": "code",
   "execution_count": null,
   "id": "c0befe4f",
   "metadata": {},
   "outputs": [],
   "source": []
  },
  {
   "cell_type": "code",
   "execution_count": null,
   "id": "495a5e40",
   "metadata": {},
   "outputs": [],
   "source": []
  },
  {
   "cell_type": "code",
   "execution_count": null,
   "id": "1bb5acf0",
   "metadata": {},
   "outputs": [],
   "source": []
  },
  {
   "cell_type": "code",
   "execution_count": null,
   "id": "9a6a7022",
   "metadata": {},
   "outputs": [],
   "source": []
  },
  {
   "cell_type": "code",
   "execution_count": null,
   "id": "335ccca7",
   "metadata": {},
   "outputs": [],
   "source": []
  },
  {
   "cell_type": "code",
   "execution_count": null,
   "id": "5d21f5fb",
   "metadata": {},
   "outputs": [],
   "source": []
  },
  {
   "cell_type": "code",
   "execution_count": null,
   "id": "e451cf94",
   "metadata": {},
   "outputs": [],
   "source": []
  },
  {
   "cell_type": "code",
   "execution_count": null,
   "id": "f4cacb44",
   "metadata": {},
   "outputs": [],
   "source": []
  },
  {
   "cell_type": "code",
   "execution_count": null,
   "id": "31328857",
   "metadata": {},
   "outputs": [],
   "source": []
  },
  {
   "cell_type": "code",
   "execution_count": null,
   "id": "624e8706",
   "metadata": {},
   "outputs": [],
   "source": []
  },
  {
   "cell_type": "code",
   "execution_count": null,
   "id": "af46f26a",
   "metadata": {},
   "outputs": [],
   "source": []
  },
  {
   "cell_type": "code",
   "execution_count": null,
   "id": "eaad6b16",
   "metadata": {},
   "outputs": [],
   "source": []
  },
  {
   "cell_type": "code",
   "execution_count": null,
   "id": "355a29fc",
   "metadata": {},
   "outputs": [],
   "source": []
  },
  {
   "cell_type": "code",
   "execution_count": null,
   "id": "8a23e5e0",
   "metadata": {},
   "outputs": [],
   "source": []
  },
  {
   "cell_type": "code",
   "execution_count": null,
   "id": "6eda9aa9",
   "metadata": {},
   "outputs": [],
   "source": []
  },
  {
   "cell_type": "code",
   "execution_count": null,
   "id": "611bf65e",
   "metadata": {},
   "outputs": [],
   "source": []
  },
  {
   "cell_type": "code",
   "execution_count": null,
   "id": "cc35b2ed",
   "metadata": {},
   "outputs": [],
   "source": []
  },
  {
   "cell_type": "code",
   "execution_count": null,
   "id": "75eaf48a",
   "metadata": {},
   "outputs": [],
   "source": []
  },
  {
   "cell_type": "code",
   "execution_count": null,
   "id": "2a396a99",
   "metadata": {},
   "outputs": [],
   "source": []
  },
  {
   "cell_type": "code",
   "execution_count": null,
   "id": "f31d7997",
   "metadata": {},
   "outputs": [],
   "source": []
  },
  {
   "cell_type": "code",
   "execution_count": null,
   "id": "7ae8ad2b",
   "metadata": {},
   "outputs": [],
   "source": []
  },
  {
   "cell_type": "code",
   "execution_count": null,
   "id": "a0e53cf0",
   "metadata": {},
   "outputs": [],
   "source": []
  },
  {
   "cell_type": "code",
   "execution_count": null,
   "id": "de3d2bcc",
   "metadata": {},
   "outputs": [],
   "source": []
  },
  {
   "cell_type": "code",
   "execution_count": null,
   "id": "d7c20ad5",
   "metadata": {},
   "outputs": [],
   "source": []
  },
  {
   "cell_type": "code",
   "execution_count": null,
   "id": "503c2eed",
   "metadata": {},
   "outputs": [],
   "source": []
  },
  {
   "cell_type": "code",
   "execution_count": null,
   "id": "532f9044",
   "metadata": {},
   "outputs": [],
   "source": []
  },
  {
   "cell_type": "code",
   "execution_count": null,
   "id": "0d04e954",
   "metadata": {},
   "outputs": [],
   "source": []
  },
  {
   "cell_type": "code",
   "execution_count": null,
   "id": "7b62f846",
   "metadata": {},
   "outputs": [],
   "source": []
  },
  {
   "cell_type": "code",
   "execution_count": null,
   "id": "77c8c782",
   "metadata": {},
   "outputs": [],
   "source": []
  },
  {
   "cell_type": "code",
   "execution_count": null,
   "id": "bd1dbe7a",
   "metadata": {},
   "outputs": [],
   "source": []
  },
  {
   "cell_type": "code",
   "execution_count": null,
   "id": "3e38968e",
   "metadata": {},
   "outputs": [],
   "source": []
  },
  {
   "cell_type": "code",
   "execution_count": null,
   "id": "a09debed",
   "metadata": {},
   "outputs": [],
   "source": []
  },
  {
   "cell_type": "code",
   "execution_count": null,
   "id": "694f0ad2",
   "metadata": {},
   "outputs": [],
   "source": []
  },
  {
   "cell_type": "code",
   "execution_count": null,
   "id": "97982e96",
   "metadata": {},
   "outputs": [],
   "source": []
  },
  {
   "cell_type": "code",
   "execution_count": null,
   "id": "238a2037",
   "metadata": {},
   "outputs": [],
   "source": []
  },
  {
   "cell_type": "code",
   "execution_count": null,
   "id": "0ec53bb3",
   "metadata": {},
   "outputs": [],
   "source": []
  },
  {
   "cell_type": "code",
   "execution_count": null,
   "id": "91e21b52",
   "metadata": {},
   "outputs": [],
   "source": []
  },
  {
   "cell_type": "markdown",
   "id": "2a013301",
   "metadata": {},
   "source": [
    "# Python Recursion"
   ]
  },
  {
   "cell_type": "code",
   "execution_count": null,
   "id": "cd00c51e",
   "metadata": {},
   "outputs": [],
   "source": []
  }
 ],
 "metadata": {
  "kernelspec": {
   "display_name": "Python 3 (ipykernel)",
   "language": "python",
   "name": "python3"
  },
  "language_info": {
   "codemirror_mode": {
    "name": "ipython",
    "version": 3
   },
   "file_extension": ".py",
   "mimetype": "text/x-python",
   "name": "python",
   "nbconvert_exporter": "python",
   "pygments_lexer": "ipython3",
   "version": "3.10.5"
  }
 },
 "nbformat": 4,
 "nbformat_minor": 5
}
