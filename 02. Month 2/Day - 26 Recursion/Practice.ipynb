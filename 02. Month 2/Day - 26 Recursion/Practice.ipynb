{
 "cells": [
  {
   "cell_type": "markdown",
   "id": "69684e90",
   "metadata": {},
   "source": [
    "## Zip functions"
   ]
  },
  {
   "cell_type": "code",
   "execution_count": 3,
   "id": "0b1992f6",
   "metadata": {},
   "outputs": [
    {
     "name": "stdout",
     "output_type": "stream",
     "text": [
      "list1 =  [('Ajit', 78), ('Saurabh', 67), ('Sahil', 88), ('Sakshi', 98), ('Gaurav', 90)]\n",
      "\n",
      "tupel =  (('Ajit', 78), ('Saurabh', 67), ('Sahil', 88), ('Sakshi', 98), ('Gaurav', 90))\n",
      "\n",
      "dict1 =  {'Ajit': 78, 'Saurabh': 67, 'Sahil': 88, 'Sakshi': 98, 'Gaurav': 90}\n",
      "\n",
      "set1 =  {('Gaurav', 90), ('Sakshi', 98), ('Saurabh', 67), ('Sahil', 88), ('Ajit', 78)}\n",
      "\n",
      "f_set =  frozenset({('Gaurav', 90), ('Sakshi', 98), ('Saurabh', 67), ('Sahil', 88), ('Ajit', 78)})\n"
     ]
    }
   ],
   "source": [
    "names = [\"Ajit\",\"Saurabh\",\"Sahil\",\"Sakshi\",\"Gaurav\"]\n",
    "marks = [78,67,88,98,90]\n",
    "\n",
    "list1 = list(zip(names,marks))\n",
    "set1 = set(zip(names, marks))\n",
    "f_set = frozenset(zip(names, marks))\n",
    "dict1 = dict(zip(names, marks))\n",
    "tupel = tuple(zip(names, marks))\n",
    "\n",
    "\n",
    "print(\"list1 = \", list1)\n",
    "print()\n",
    "print(\"tupel = \", tupel)\n",
    "print()\n",
    "\n",
    "print(\"dict1 = \", dict1)\n",
    "print()\n",
    "\n",
    "print(\"set1 = \", set1)\n",
    "print()\n",
    "\n",
    "print(\"f_set = \", f_set)"
   ]
  },
  {
   "cell_type": "markdown",
   "id": "bc9ad2ec",
   "metadata": {},
   "source": [
    "###  it can take multiple iterators as arguments"
   ]
  },
  {
   "cell_type": "code",
   "execution_count": 12,
   "id": "5f01d00b",
   "metadata": {},
   "outputs": [
    {
     "name": "stdout",
     "output_type": "stream",
     "text": [
      "list1 =  [('Ajit', 78, 10, 80), ('Saurabh', 67, 20, 10), ('Sahil', 88, 50, 20), ('Sakshi', 98, 80, 50)]\n",
      "\n",
      "tupel =  (('Ajit', 78, 10, 80), ('Saurabh', 67, 20, 10), ('Sahil', 88, 50, 20), ('Sakshi', 98, 80, 50))\n",
      "\n",
      "set1 =  {('Sakshi', 98, 80, 50), ('Ajit', 78, 10, 80), ('Saurabh', 67, 20, 10), ('Sahil', 88, 50, 20)}\n",
      "\n",
      "f_set =  frozenset({('Sakshi', 98, 80, 50), ('Ajit', 78, 10, 80), ('Saurabh', 67, 20, 10), ('Sahil', 88, 50, 20)})\n",
      "\n",
      "str1 =  <zip object at 0x0000017D8553B980>\n"
     ]
    }
   ],
   "source": [
    "names = [\"Ajit\",\"Saurabh\",\"Sahil\",\"Sakshi\",\"Gaurav\"]\n",
    "marks = [78,67,88,98,90]\n",
    "age =   [10,20,50,80,40]\n",
    "years =   frozenset({10,20,50,80})\n",
    "\n",
    "list1 = list(zip(names,marks,age,years))\n",
    "set1 = set(zip(names, marks,age,years))\n",
    "f_set = frozenset(zip(names, marks,age,years))\n",
    "# dict1 = dict(zip(names, marks,age))\n",
    "tupel = tuple(zip(names, marks,age,years))\n",
    "str1 = str(zip(names, marks,age,years))\n",
    "\n",
    "print(\"list1 = \", list1)\n",
    "print()\n",
    "print(\"tupel = \", tupel)\n",
    "print()\n",
    "\n",
    "# print(\"dict1 = \", dict1)\n",
    "# print()\n",
    "\n",
    "print(\"set1 = \", set1)\n",
    "print()\n",
    "\n",
    "print(\"f_set = \", f_set)\n",
    "print()\n",
    "\n",
    "print(\"str1 = \", str1)"
   ]
  },
  {
   "cell_type": "code",
   "execution_count": 14,
   "id": "23175224",
   "metadata": {},
   "outputs": [
    {
     "name": "stdout",
     "output_type": "stream",
     "text": [
      "[('Ajit', [78, 87]), ('Saurabh', [67, 76]), ('Sahil', [88, 88]), ('Sakshi', [98, 89]), ('Gaurav', [90, 9])]\n"
     ]
    }
   ],
   "source": [
    "names = [\"Ajit\",\"Saurabh\",\"Sahil\",\"Sakshi\",\"Gaurav\"]\n",
    "marks = [[78,87],[67,76],[88,88],[98,89],[90,9]]\n",
    "\n",
    "list1 = list(zip(names,marks))\n",
    "print(list1)"
   ]
  },
  {
   "cell_type": "code",
   "execution_count": 17,
   "id": "453fa93e",
   "metadata": {},
   "outputs": [
    {
     "name": "stdout",
     "output_type": "stream",
     "text": [
      "[(1, 'Ajit'), (2, 'Saurabh'), (3, 'Sahil'), (4, 'Sakshi'), (5, 'Gaurav')]\n"
     ]
    }
   ],
   "source": [
    "names = [\"Ajit\",\"Saurabh\",\"Sahil\",\"Sakshi\",\"Gaurav\"]\n",
    "marks = [1,2,3,4,5,6,7,8,9,10]\n",
    "\n",
    "list1 = list(zip(marks,names))\n",
    "print(list1)"
   ]
  },
  {
   "cell_type": "markdown",
   "id": "ef142820",
   "metadata": {},
   "source": [
    "## 2. Filter()"
   ]
  },
  {
   "cell_type": "code",
   "execution_count": 40,
   "id": "6c6a45e8",
   "metadata": {},
   "outputs": [
    {
     "name": "stdout",
     "output_type": "stream",
     "text": [
      "2\n",
      "None\n",
      "4\n"
     ]
    }
   ],
   "source": [
    "def even_check(num):\n",
    "    if num % 2 == 0:\n",
    "        return num\n",
    "    \n",
    "    \n",
    "print(even_check(2))\n",
    "print(even_check(3))\n",
    "print(even_check(4))"
   ]
  },
  {
   "cell_type": "code",
   "execution_count": 41,
   "id": "75dce933",
   "metadata": {},
   "outputs": [
    {
     "data": {
      "text/plain": [
       "[2, 4, 6, 8]"
      ]
     },
     "execution_count": 41,
     "metadata": {},
     "output_type": "execute_result"
    }
   ],
   "source": [
    "nums = [1,2,3,4,5,6,7,8,9]\n",
    "list(filter(even_check, nums))"
   ]
  },
  {
   "cell_type": "code",
   "execution_count": 42,
   "id": "4f78f4a7",
   "metadata": {},
   "outputs": [
    {
     "data": {
      "text/plain": [
       "[2, 4, 6, 8, 10, 12, 14, 16, 18]"
      ]
     },
     "execution_count": 42,
     "metadata": {},
     "output_type": "execute_result"
    }
   ],
   "source": [
    "list(filter(even_check, list(range(1,20))))"
   ]
  },
  {
   "cell_type": "code",
   "execution_count": 44,
   "id": "ad908019",
   "metadata": {},
   "outputs": [
    {
     "data": {
      "text/plain": [
       "[22, 24, 26, 28]"
      ]
     },
     "execution_count": 44,
     "metadata": {},
     "output_type": "execute_result"
    }
   ],
   "source": [
    "list(filter(lambda x : x % 2 == 0 , list(range(21,30))))"
   ]
  },
  {
   "cell_type": "code",
   "execution_count": 48,
   "id": "39ca97e5",
   "metadata": {},
   "outputs": [
    {
     "name": "stdout",
     "output_type": "stream",
     "text": [
      "Ajit\n",
      "None\n",
      "None\n",
      "Sakshi\n"
     ]
    }
   ],
   "source": [
    "names = [\"Ajit\",\"Saurabh\",\"Sahil\",\"Sakshi\",\"Gaurav\"]\n",
    "def even_name(word):\n",
    "    if len(word) % 2 == 0:\n",
    "        return word\n",
    "    \n",
    "print(even_name(names[0]))\n",
    "print(even_name(names[1]))\n",
    "print(even_name(names[2]))\n",
    "print(even_name(names[3]))"
   ]
  },
  {
   "cell_type": "code",
   "execution_count": 50,
   "id": "43658ac3",
   "metadata": {},
   "outputs": [
    {
     "data": {
      "text/plain": [
       "{'Ajit', 'Gaurav', 'Sakshi'}"
      ]
     },
     "execution_count": 50,
     "metadata": {},
     "output_type": "execute_result"
    }
   ],
   "source": [
    "set(filter(even_name, names))"
   ]
  },
  {
   "cell_type": "code",
   "execution_count": 53,
   "id": "eeb87155",
   "metadata": {},
   "outputs": [
    {
     "data": {
      "text/plain": [
       "['Ajit', 'Sakshi', 'Gaurav']"
      ]
     },
     "execution_count": 53,
     "metadata": {},
     "output_type": "execute_result"
    }
   ],
   "source": [
    "names = [\"Ajit\",\"Saurabh\",\"Sahil\",\"Sakshi\",\"Gaurav\"]\n",
    "\n",
    "list(filter(lambda name : len(name) % 2 == 0, names ))"
   ]
  },
  {
   "cell_type": "code",
   "execution_count": 54,
   "id": "a6e3d37e",
   "metadata": {},
   "outputs": [
    {
     "data": {
      "text/plain": [
       "{'Sahil', 'Sakshi', 'Saurabh'}"
      ]
     },
     "execution_count": 54,
     "metadata": {},
     "output_type": "execute_result"
    }
   ],
   "source": [
    "set(filter(lambda name: name.startswith(\"S\"), names))"
   ]
  },
  {
   "cell_type": "code",
   "execution_count": 55,
   "id": "305b088f",
   "metadata": {},
   "outputs": [
    {
     "data": {
      "text/plain": [
       "['Ajit', 'Sahil', 'Sakshi']"
      ]
     },
     "execution_count": 55,
     "metadata": {},
     "output_type": "execute_result"
    }
   ],
   "source": [
    "list(filter(lambda name : \"i\" in name, names))"
   ]
  },
  {
   "cell_type": "code",
   "execution_count": 67,
   "id": "34508aa0",
   "metadata": {},
   "outputs": [
    {
     "name": "stdout",
     "output_type": "stream",
     "text": [
      "['Saurabh', 'Gaurav']\n",
      "\n",
      "['Saurabh', 'Gaurav']\n"
     ]
    }
   ],
   "source": [
    "names = [\"Ajit\",\"Saurabh\",\"Sahil\",\"Sakshi\",\"Gaurav\"]\n",
    "\n",
    "print(list(filter(lambda name : name.count(\"a\",2), names)))\n",
    "print()\n",
    "print(list(filter(lambda name : name.count(\"a\",4), names)))"
   ]
  },
  {
   "cell_type": "markdown",
   "id": "c83cafdf",
   "metadata": {},
   "source": [
    "## 4. map()"
   ]
  },
  {
   "cell_type": "code",
   "execution_count": 68,
   "id": "3d60e81f",
   "metadata": {},
   "outputs": [
    {
     "data": {
      "text/plain": [
       "4"
      ]
     },
     "execution_count": 68,
     "metadata": {},
     "output_type": "execute_result"
    }
   ],
   "source": [
    "def sqr(num):\n",
    "    return num ** 2\n",
    "\n",
    "sqr(2)"
   ]
  },
  {
   "cell_type": "code",
   "execution_count": 69,
   "id": "e6e0d368",
   "metadata": {},
   "outputs": [
    {
     "data": {
      "text/plain": [
       "[1, 4, 9, 16, 25]"
      ]
     },
     "execution_count": 69,
     "metadata": {},
     "output_type": "execute_result"
    }
   ],
   "source": [
    "list(map(sqr, list(range(1,6))))"
   ]
  },
  {
   "cell_type": "code",
   "execution_count": 72,
   "id": "31106534",
   "metadata": {},
   "outputs": [
    {
     "ename": "TypeError",
     "evalue": "cannot convert dictionary update sequence element #0 to a sequence",
     "output_type": "error",
     "traceback": [
      "\u001b[1;31m---------------------------------------------------------------------------\u001b[0m",
      "\u001b[1;31mTypeError\u001b[0m                                 Traceback (most recent call last)",
      "Input \u001b[1;32mIn [72]\u001b[0m, in \u001b[0;36m<cell line: 1>\u001b[1;34m()\u001b[0m\n\u001b[1;32m----> 1\u001b[0m \u001b[38;5;28;43mdict\u001b[39;49m\u001b[43m(\u001b[49m\u001b[38;5;28;43mmap\u001b[39;49m\u001b[43m(\u001b[49m\u001b[38;5;28;43;01mlambda\u001b[39;49;00m\u001b[43m \u001b[49m\u001b[43mnum\u001b[49m\u001b[43m \u001b[49m\u001b[43m:\u001b[49m\u001b[43m \u001b[49m\u001b[43mnum\u001b[49m\u001b[38;5;241;43m*\u001b[39;49m\u001b[38;5;241;43m*\u001b[39;49m\u001b[38;5;241;43m2\u001b[39;49m\u001b[43m,\u001b[49m\u001b[43m \u001b[49m\u001b[38;5;28;43mlist\u001b[39;49m\u001b[43m(\u001b[49m\u001b[38;5;28;43mrange\u001b[39;49m\u001b[43m(\u001b[49m\u001b[38;5;241;43m5\u001b[39;49m\u001b[43m,\u001b[49m\u001b[38;5;241;43m11\u001b[39;49m\u001b[43m)\u001b[49m\u001b[43m)\u001b[49m\u001b[43m)\u001b[49m\u001b[43m)\u001b[49m\n",
      "\u001b[1;31mTypeError\u001b[0m: cannot convert dictionary update sequence element #0 to a sequence"
     ]
    }
   ],
   "source": [
    "dict(map(lambda num : num**2, list(range(5,11))))"
   ]
  },
  {
   "cell_type": "code",
   "execution_count": 73,
   "id": "72a4c156",
   "metadata": {},
   "outputs": [
    {
     "data": {
      "text/plain": [
       "[25, 36, 49, 64, 81, 100]"
      ]
     },
     "execution_count": 73,
     "metadata": {},
     "output_type": "execute_result"
    }
   ],
   "source": [
    "list(map(lambda num : num**2, list(range(5,11))))"
   ]
  },
  {
   "cell_type": "code",
   "execution_count": 74,
   "id": "19f9127d",
   "metadata": {},
   "outputs": [
    {
     "data": {
      "text/plain": [
       "[125, 216, 343, 512, 729, 1000]"
      ]
     },
     "execution_count": 74,
     "metadata": {},
     "output_type": "execute_result"
    }
   ],
   "source": [
    "list(map(lambda num : num**3, list(range(5,11))))"
   ]
  },
  {
   "cell_type": "code",
   "execution_count": 78,
   "id": "9ce745c4",
   "metadata": {},
   "outputs": [
    {
     "name": "stdout",
     "output_type": "stream",
     "text": [
      "[2, 4, 6, 8, 10, 12, 14, 16, 18]\n",
      "\n",
      "[1, 4, 27, 256, 3125, 46656, 823543, 16777216, 387420489]\n",
      "\n"
     ]
    }
   ],
   "source": [
    "numbers = [1,2,3,4,5,6,7,8,9]\n",
    "res = list(map(lambda num : num + num, numbers))\n",
    "print(res)\n",
    "print()\n",
    "res1 = list(map(lambda num : num ** num, numbers))\n",
    "print(res1)\n",
    "print()"
   ]
  },
  {
   "cell_type": "code",
   "execution_count": 85,
   "id": "6bd6f04d",
   "metadata": {},
   "outputs": [
    {
     "data": {
      "text/plain": [
       "['ajit', 'saurabh', 'sahil', 'sakshi', 'gaurav']"
      ]
     },
     "execution_count": 85,
     "metadata": {},
     "output_type": "execute_result"
    }
   ],
   "source": [
    "names = [\"Ajit\",\"Saurabh\",\"Sahil\",\"Sakshi\",\"Gaurav\"]\n",
    "age =   [14,15,16,17,18]\n",
    "list(map(lambda x : x.lower(), names))"
   ]
  },
  {
   "cell_type": "code",
   "execution_count": null,
   "id": "c4d1e11a",
   "metadata": {},
   "outputs": [],
   "source": []
  },
  {
   "cell_type": "code",
   "execution_count": null,
   "id": "5904a99c",
   "metadata": {},
   "outputs": [],
   "source": []
  },
  {
   "cell_type": "markdown",
   "id": "bc1656c4",
   "metadata": {},
   "source": [
    "## reduce()"
   ]
  },
  {
   "cell_type": "code",
   "execution_count": 86,
   "id": "5e38d20f",
   "metadata": {},
   "outputs": [],
   "source": [
    "from functools import reduce"
   ]
  },
  {
   "cell_type": "code",
   "execution_count": 93,
   "id": "f9f91971",
   "metadata": {},
   "outputs": [
    {
     "name": "stdout",
     "output_type": "stream",
     "text": [
      "4\n"
     ]
    }
   ],
   "source": [
    "def mul(num):\n",
    "    return num*2\n",
    "\n",
    "print(mul(2))"
   ]
  },
  {
   "cell_type": "code",
   "execution_count": 104,
   "id": "985f20df",
   "metadata": {},
   "outputs": [
    {
     "data": {
      "text/plain": [
       "45"
      ]
     },
     "execution_count": 104,
     "metadata": {},
     "output_type": "execute_result"
    }
   ],
   "source": [
    "num_list = [1,2,3,4,5,6,7,8,9]\n",
    "\n",
    "\n",
    "reduce(lambda a,b : a + b, num_list) # 1+2 , 3+3, 6+4, 10+5, 15+6, 21+7, 28+8, 36+9 = 45"
   ]
  },
  {
   "cell_type": "code",
   "execution_count": 105,
   "id": "c1f4f9a2",
   "metadata": {},
   "outputs": [
    {
     "data": {
      "text/plain": [
       "15"
      ]
     },
     "execution_count": 105,
     "metadata": {},
     "output_type": "execute_result"
    }
   ],
   "source": [
    "num_list = [1,2,3,4,5]\n",
    "\n",
    "\n",
    "reduce(lambda a,b : a + b, num_list) # 1+2 , 3+3, 6+4, 10+5 = 15"
   ]
  },
  {
   "cell_type": "code",
   "execution_count": null,
   "id": "482d0098",
   "metadata": {},
   "outputs": [],
   "source": []
  },
  {
   "cell_type": "code",
   "execution_count": 107,
   "id": "f7862495",
   "metadata": {},
   "outputs": [
    {
     "data": {
      "text/plain": [
       "120"
      ]
     },
     "execution_count": 107,
     "metadata": {},
     "output_type": "execute_result"
    }
   ],
   "source": [
    "num_l = [1,2,3,4,5]\n",
    "reduce(lambda x, y: x*y, num_l) # 1*2, 2*3, 6*4, 24*5"
   ]
  },
  {
   "cell_type": "markdown",
   "id": "c2426d70",
   "metadata": {},
   "source": [
    "## Calling a fucntion inside another fucntions"
   ]
  },
  {
   "cell_type": "code",
   "execution_count": 119,
   "id": "2b27064e",
   "metadata": {},
   "outputs": [
    {
     "name": "stdout",
     "output_type": "stream",
     "text": [
      "addition:- 60\n",
      "multiplication:- 800\n",
      "division:- 0.5\n"
     ]
    }
   ],
   "source": [
    "def add(a,b):\n",
    "    return a + b\n",
    "\n",
    "def multi(a,b):\n",
    "    return a * b\n",
    "\n",
    "def div(a,b):\n",
    "    return a/b\n",
    "\n",
    "def cal(x,y):\n",
    "    print(f\"addition:- {add(x,y)}\")\n",
    "    print(f\"multiplication:- {multi(x,y)}\")\n",
    "    print(f\"division:- {div(x,y)}\")\n",
    "\n",
    "    \n",
    "x = 20\n",
    "y = 40\n",
    "cal(x,y)\n",
    "\n"
   ]
  },
  {
   "cell_type": "code",
   "execution_count": 125,
   "id": "025fd02d",
   "metadata": {},
   "outputs": [
    {
     "name": "stdout",
     "output_type": "stream",
     "text": [
      "Enter a intiger number: 4\n",
      "Enter b intiger number: 5\n",
      "chosse operator (+,-,*,/): l\n",
      "Choose correct operator from (+,-,*,/)\n",
      "chosse operator (+,-,*,/): -\n",
      "Choose correct operator from (+,-,*,/)\n"
     ]
    },
    {
     "data": {
      "text/plain": [
       "'subtraction of the numbers are: -1'"
      ]
     },
     "execution_count": 125,
     "metadata": {},
     "output_type": "execute_result"
    }
   ],
   "source": [
    "def add(a,b):\n",
    "    return a + b\n",
    "\n",
    "def multi(a,b):\n",
    "    return a * b\n",
    "\n",
    "def sub(a,b):\n",
    "    return a - b\n",
    "\n",
    "def div(a,b):\n",
    "    return a/b\n",
    "\n",
    "\n",
    "\n",
    "\n",
    "def calculator(a,b):\n",
    "    operator = \"\"\n",
    "    while operator not in [\"+\",\"-\",\"*\",\"/\"]:\n",
    "        operator = input(\"chosse operator (+,-,*,/): \")\n",
    "        \n",
    "        print(\"Choose correct operator from (+,-,*,/)\")\n",
    "    if operator == \"+\":\n",
    "        return f\"addition of the numbers are: {add(a,b)}\"\n",
    "    \n",
    "    elif operator == \"-\":\n",
    "        return f\"subtraction of the numbers are: {sub(a,b)}\"\n",
    "    \n",
    "    elif operator == \"*\":\n",
    "        return f\"multiplication of the numbers are: {multi(a,b)}\"\n",
    "        \n",
    "    elif operator == \"/\":\n",
    "        return f\"division of the numbers are: {div(a,b)}\"\n",
    "    \n",
    "a = int(input(\"Enter a intiger number: \"))\n",
    "b = int(input(\"Enter b intiger number: \"))\n",
    "calculator(a,b)"
   ]
  },
  {
   "cell_type": "code",
   "execution_count": null,
   "id": "d7bc5eb6",
   "metadata": {},
   "outputs": [],
   "source": []
  }
 ],
 "metadata": {
  "kernelspec": {
   "display_name": "Python 3 (ipykernel)",
   "language": "python",
   "name": "python3"
  },
  "language_info": {
   "codemirror_mode": {
    "name": "ipython",
    "version": 3
   },
   "file_extension": ".py",
   "mimetype": "text/x-python",
   "name": "python",
   "nbconvert_exporter": "python",
   "pygments_lexer": "ipython3",
   "version": "3.9.12"
  }
 },
 "nbformat": 4,
 "nbformat_minor": 5
}
