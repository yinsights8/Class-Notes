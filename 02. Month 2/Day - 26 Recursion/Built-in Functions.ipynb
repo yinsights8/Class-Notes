{
 "cells": [
  {
   "cell_type": "markdown",
   "id": "0c88dbb9",
   "metadata": {},
   "source": [
    "# Built-in Functions"
   ]
  },
  {
   "cell_type": "markdown",
   "id": "ad67bff5",
   "metadata": {},
   "source": [
    "- 1. max() \n",
    "- 2. min()\n",
    "- 3. sum()\n",
    "- 4. print()\n",
    "- 5. int()\n",
    "- 6. float()\n",
    "- 7. str()\n",
    "- 8. list()\n",
    "- 9. set()\n",
    "- 10. tuple()\n",
    "- 11. dict()\n",
    "- 12. frozenset()\n",
    "- 13. len()\n",
    "- 14. type()\n",
    "- 15. id()\n",
    "- 16. sorted()\n",
    "- 17. reversed()\n",
    "- 18. bool()\n",
    "- 19. range()\n",
    "- 20. enumerate()\n",
    "- 21. complex()\n",
    "- 22. chr()\n",
    "- 23. ord()\n",
    "- 24. zip()\n",
    "- 25. map()\n",
    "- 24. filter()\n",
    "- 25. reduce()"
   ]
  },
  {
   "cell_type": "markdown",
   "id": "9786f638",
   "metadata": {},
   "source": [
    "# 1. zip()"
   ]
  },
  {
   "cell_type": "code",
   "execution_count": 4,
   "id": "5b219018",
   "metadata": {},
   "outputs": [
    {
     "name": "stdout",
     "output_type": "stream",
     "text": [
      "0 Ajit 78\n",
      "1 Saurabh 67\n",
      "2 Sahil 88\n",
      "3 Sakshi 98\n",
      "4 Gaurav 90\n"
     ]
    }
   ],
   "source": [
    "names = [\"Ajit\",\"Saurabh\",\"Sahil\",\"Sakshi\",\"Gaurav\"]\n",
    "marks = [78,67,88,98,90]\n",
    "di = {}\n",
    "for index,name in enumerate(names):\n",
    "    print(index,name,marks[index])"
   ]
  },
  {
   "cell_type": "code",
   "execution_count": 5,
   "id": "fd8228c8",
   "metadata": {},
   "outputs": [
    {
     "name": "stdout",
     "output_type": "stream",
     "text": [
      "{'Ajit': 78, 'Saurabh': 67, 'Sahil': 88, 'Sakshi': 98, 'Gaurav': 90}\n"
     ]
    }
   ],
   "source": [
    "names = [\"Ajit\",\"Saurabh\",\"Sahil\",\"Sakshi\",\"Gaurav\"]\n",
    "marks = [78,67,88,98,90]\n",
    "di = {}\n",
    "for index,name in enumerate(names):\n",
    "    di.update({name:marks[index]})\n",
    "    \n",
    "print(di)"
   ]
  },
  {
   "cell_type": "code",
   "execution_count": 6,
   "id": "269f4a57",
   "metadata": {},
   "outputs": [
    {
     "data": {
      "text/plain": [
       "<zip at 0x2511db52fc0>"
      ]
     },
     "execution_count": 6,
     "metadata": {},
     "output_type": "execute_result"
    }
   ],
   "source": [
    "names = [\"Ajit\",\"Saurabh\",\"Sahil\",\"Sakshi\",\"Gaurav\"]\n",
    "marks = [78,67,88,98,90]\n",
    "zip(names,marks)"
   ]
  },
  {
   "cell_type": "code",
   "execution_count": 7,
   "id": "fbe585a2",
   "metadata": {},
   "outputs": [
    {
     "data": {
      "text/plain": [
       "{'Ajit': 78, 'Saurabh': 67, 'Sahil': 88, 'Sakshi': 98, 'Gaurav': 90}"
      ]
     },
     "execution_count": 7,
     "metadata": {},
     "output_type": "execute_result"
    }
   ],
   "source": [
    "dict(zip(names,marks))"
   ]
  },
  {
   "cell_type": "code",
   "execution_count": 8,
   "id": "4f696b6e",
   "metadata": {},
   "outputs": [
    {
     "data": {
      "text/plain": [
       "[('Ajit', 78), ('Saurabh', 67), ('Sahil', 88), ('Sakshi', 98), ('Gaurav', 90)]"
      ]
     },
     "execution_count": 8,
     "metadata": {},
     "output_type": "execute_result"
    }
   ],
   "source": [
    "list(zip(names,marks))"
   ]
  },
  {
   "cell_type": "code",
   "execution_count": 9,
   "id": "53eaa556",
   "metadata": {},
   "outputs": [
    {
     "data": {
      "text/plain": [
       "(('Ajit', 78), ('Saurabh', 67), ('Sahil', 88), ('Sakshi', 98), ('Gaurav', 90))"
      ]
     },
     "execution_count": 9,
     "metadata": {},
     "output_type": "execute_result"
    }
   ],
   "source": [
    "tuple(zip(names,marks))"
   ]
  },
  {
   "cell_type": "code",
   "execution_count": 11,
   "id": "a735d42c",
   "metadata": {},
   "outputs": [
    {
     "data": {
      "text/plain": [
       "{'Ajit': [78, 87],\n",
       " 'Saurabh': [67, 76],\n",
       " 'Sahil': [88, 88],\n",
       " 'Sakshi': [98, 89],\n",
       " 'Gaurav': [90, 9]}"
      ]
     },
     "execution_count": 11,
     "metadata": {},
     "output_type": "execute_result"
    }
   ],
   "source": [
    "names = [\"Ajit\",\"Saurabh\",\"Sahil\",\"Sakshi\",\"Gaurav\"]\n",
    "marks = [[78,87],[67,76],[88,88],[98,89],[90,9]]\n",
    "dict(zip(names,marks))"
   ]
  },
  {
   "cell_type": "code",
   "execution_count": 12,
   "id": "df69dba9",
   "metadata": {},
   "outputs": [
    {
     "data": {
      "text/plain": [
       "{'Ajit': [78, 87],\n",
       " 'Saurabh': [67, 76, 999],\n",
       " 'Sahil': [88, 88],\n",
       " 'Sakshi': [98, 89],\n",
       " 'Gaurav': [90, 9]}"
      ]
     },
     "execution_count": 12,
     "metadata": {},
     "output_type": "execute_result"
    }
   ],
   "source": [
    "names = [\"Ajit\",\"Saurabh\",\"Sahil\",\"Sakshi\",\"Gaurav\"]\n",
    "marks = [[78,87],[67,76,999],[88,88],[98,89],[90,9]]\n",
    "dict(zip(names,marks))"
   ]
  },
  {
   "cell_type": "code",
   "execution_count": 13,
   "id": "bd6dee6a",
   "metadata": {},
   "outputs": [
    {
     "data": {
      "text/plain": [
       "{'Ajit': [78, 87],\n",
       " 'Saurabh': [67, 76, 999],\n",
       " 'Sahil': [88, 88],\n",
       " 'Sakshi': [98, 89, 99, 90],\n",
       " 'Gaurav': [90, 9]}"
      ]
     },
     "execution_count": 13,
     "metadata": {},
     "output_type": "execute_result"
    }
   ],
   "source": [
    "names = [\"Ajit\",\"Saurabh\",\"Sahil\",\"Sakshi\",\"Gaurav\"]\n",
    "marks = [[78,87],[67,76,999],[88,88],[98,89,99,90],[90,9]]\n",
    "dict(zip(names,marks))"
   ]
  },
  {
   "cell_type": "code",
   "execution_count": 15,
   "id": "88bb6392",
   "metadata": {},
   "outputs": [
    {
     "data": {
      "text/plain": [
       "{'Ajit': [78, 87],\n",
       " 'Saurabh': [67, 76, 999],\n",
       " 'Sahil': [88, 88],\n",
       " 'Sakshi': [98, 89, 99, 90],\n",
       " 'Gaurav': [90, 9]}"
      ]
     },
     "execution_count": 15,
     "metadata": {},
     "output_type": "execute_result"
    }
   ],
   "source": [
    "names = [\"Ajit\",\"Saurabh\",\"Sahil\",\"Sakshi\",\"Gaurav\"]\n",
    "marks = [[78,87],[67,76,999],[88,88],[98,89,99,90],[90,9],[99,990]]\n",
    "dict(zip(names,marks))"
   ]
  },
  {
   "cell_type": "code",
   "execution_count": null,
   "id": "77f17161",
   "metadata": {},
   "outputs": [],
   "source": [
    "names = [\"Ajit\",\"Saurabh\",\"Sahil\",\"Sakshi\",\"Gaurav\"]\n",
    "marks = [[78,87],[67,76,999],[88,88],[98,89,99,90],[90,9],[99,990]]\n",
    "dict(zip(names,marks))"
   ]
  },
  {
   "cell_type": "code",
   "execution_count": 16,
   "id": "6d0a8332",
   "metadata": {},
   "outputs": [
    {
     "data": {
      "text/plain": [
       "{'Ajit': 1, 'Saurabh': 2, 'Sahil': 3, 'Sakshi': 4, 'Gaurav': 5}"
      ]
     },
     "execution_count": 16,
     "metadata": {},
     "output_type": "execute_result"
    }
   ],
   "source": [
    "names = [\"Ajit\",\"Saurabh\",\"Sahil\",\"Sakshi\",\"Gaurav\"]\n",
    "marks = [1,2,3,4,5,6,7,8,9,10]\n",
    "dict(zip(names,marks))"
   ]
  },
  {
   "cell_type": "code",
   "execution_count": 17,
   "id": "5540bc12",
   "metadata": {},
   "outputs": [
    {
     "data": {
      "text/plain": [
       "{'Ajit': 1, 'Saurabh': 2, 'Sahil': 3, 'Sakshi': 4, 'Gaurav': 5, 'Om': 6}"
      ]
     },
     "execution_count": 17,
     "metadata": {},
     "output_type": "execute_result"
    }
   ],
   "source": [
    "names = [\"Ajit\",\"Saurabh\",\"Sahil\",\"Sakshi\",\"Gaurav\",\"Om\"]\n",
    "marks = [1,2,3,4,5,6,7,8,9,10]\n",
    "dict(zip(names,marks))"
   ]
  },
  {
   "cell_type": "markdown",
   "id": "87939697",
   "metadata": {},
   "source": [
    "# 2. filter()\n",
    "- It returns only True values\n",
    "- syntax ---> filter(function_name, iterable) # High Order function\n",
    "- list(filter(function_name, iterable))"
   ]
  },
  {
   "cell_type": "code",
   "execution_count": 19,
   "id": "fc77e526",
   "metadata": {},
   "outputs": [
    {
     "name": "stdout",
     "output_type": "stream",
     "text": [
      "None\n",
      "10\n"
     ]
    }
   ],
   "source": [
    "def even_check(num):\n",
    "    if num % 2 == 0:\n",
    "        return num\n",
    "    \n",
    "print(even_check(1)) # Odd value\n",
    "print(even_check(10))# Even Value"
   ]
  },
  {
   "cell_type": "code",
   "execution_count": 20,
   "id": "55b5e2a9",
   "metadata": {},
   "outputs": [
    {
     "data": {
      "text/plain": [
       "<filter at 0x2511c343eb0>"
      ]
     },
     "execution_count": 20,
     "metadata": {},
     "output_type": "execute_result"
    }
   ],
   "source": [
    "filter(even_check,list(range(1,11)))"
   ]
  },
  {
   "cell_type": "code",
   "execution_count": 21,
   "id": "531e4820",
   "metadata": {},
   "outputs": [
    {
     "data": {
      "text/plain": [
       "[2, 4, 6, 8, 10]"
      ]
     },
     "execution_count": 21,
     "metadata": {},
     "output_type": "execute_result"
    }
   ],
   "source": [
    "list(filter(even_check,list(range(1,11))))"
   ]
  },
  {
   "cell_type": "code",
   "execution_count": 22,
   "id": "2c350dc2",
   "metadata": {},
   "outputs": [
    {
     "data": {
      "text/plain": [
       "[22, 24, 26, 28, 30]"
      ]
     },
     "execution_count": 22,
     "metadata": {},
     "output_type": "execute_result"
    }
   ],
   "source": [
    "list(filter(even_check,list(range(21,31))))"
   ]
  },
  {
   "cell_type": "code",
   "execution_count": 23,
   "id": "31db0e7d",
   "metadata": {},
   "outputs": [],
   "source": [
    "names = [\"Ajit\",\"Saurabh\",\"Sahil\",\"Sakshi\",\"Gaurav\"]\n",
    "def get_wordsWithS(word):\n",
    "    if word.startswith(\"S\"):\n",
    "        return word"
   ]
  },
  {
   "cell_type": "code",
   "execution_count": 24,
   "id": "0022e63c",
   "metadata": {},
   "outputs": [
    {
     "data": {
      "text/plain": [
       "['Saurabh', 'Sahil', 'Sakshi']"
      ]
     },
     "execution_count": 24,
     "metadata": {},
     "output_type": "execute_result"
    }
   ],
   "source": [
    "list(filter(get_wordsWithS, names))"
   ]
  },
  {
   "cell_type": "code",
   "execution_count": 25,
   "id": "1d867109",
   "metadata": {},
   "outputs": [
    {
     "data": {
      "text/plain": [
       "['Saurabh', 'Sahil', 'Sakshi']"
      ]
     },
     "execution_count": 25,
     "metadata": {},
     "output_type": "execute_result"
    }
   ],
   "source": [
    "list(filter(lambda word : word.startswith(\"S\"),names))"
   ]
  },
  {
   "cell_type": "code",
   "execution_count": 26,
   "id": "eeec8313",
   "metadata": {},
   "outputs": [
    {
     "data": {
      "text/plain": [
       "[2, 4, 6, 8, 10]"
      ]
     },
     "execution_count": 26,
     "metadata": {},
     "output_type": "execute_result"
    }
   ],
   "source": [
    "list(filter(lambda num: num % 2 == 0, [1,2,3,4,5,6,7,8,9,10]))"
   ]
  },
  {
   "cell_type": "code",
   "execution_count": 27,
   "id": "ccd4fdb4",
   "metadata": {},
   "outputs": [
    {
     "data": {
      "text/plain": [
       "[1, 3, 5, 7, 9]"
      ]
     },
     "execution_count": 27,
     "metadata": {},
     "output_type": "execute_result"
    }
   ],
   "source": [
    "list(filter(lambda num: num % 2 != 0, [1,2,3,4,5,6,7,8,9,10]))"
   ]
  },
  {
   "cell_type": "code",
   "execution_count": 28,
   "id": "37a9b46f",
   "metadata": {},
   "outputs": [],
   "source": [
    "Alpha = [\"QA\",\"q\",\"E\",\"e\",\"H\",\"h\",\"O\",\"o\"]"
   ]
  },
  {
   "cell_type": "code",
   "execution_count": 29,
   "id": "a05bf4d4",
   "metadata": {},
   "outputs": [
    {
     "data": {
      "text/plain": [
       "['QA', 'E', 'H', 'O']"
      ]
     },
     "execution_count": 29,
     "metadata": {},
     "output_type": "execute_result"
    }
   ],
   "source": [
    "list(filter(lambda alp : alp.isupper(), Alpha))"
   ]
  },
  {
   "cell_type": "code",
   "execution_count": 30,
   "id": "fa90a89e",
   "metadata": {},
   "outputs": [
    {
     "data": {
      "text/plain": [
       "['q', 'e', 'h', 'o']"
      ]
     },
     "execution_count": 30,
     "metadata": {},
     "output_type": "execute_result"
    }
   ],
   "source": [
    "list(filter(lambda alp : alp.islower(), Alpha))"
   ]
  },
  {
   "cell_type": "code",
   "execution_count": 32,
   "id": "b603b743",
   "metadata": {},
   "outputs": [
    {
     "name": "stdout",
     "output_type": "stream",
     "text": [
      "QA\n",
      "None\n",
      "E\n",
      "None\n",
      "H\n",
      "None\n",
      "O\n",
      "None\n"
     ]
    }
   ],
   "source": [
    "def get_upper(alp):\n",
    "    if alp.isupper():\n",
    "        return alp\n",
    "    \n",
    "for i in Alpha:\n",
    "    print(get_upper(i))"
   ]
  },
  {
   "cell_type": "code",
   "execution_count": 34,
   "id": "b86a7e26",
   "metadata": {},
   "outputs": [
    {
     "name": "stdout",
     "output_type": "stream",
     "text": [
      "QA True\n",
      "q False\n",
      "E True\n",
      "e False\n",
      "H True\n",
      "h False\n",
      "O True\n",
      "o False\n"
     ]
    }
   ],
   "source": [
    "def get_upper(alp):\n",
    "    return alp == alp.upper()\n",
    "    \n",
    "for i in Alpha:\n",
    "    print(i,get_upper(i))"
   ]
  },
  {
   "cell_type": "code",
   "execution_count": 35,
   "id": "74c31539",
   "metadata": {},
   "outputs": [
    {
     "data": {
      "text/plain": [
       "['QA', 'E', 'H', 'O']"
      ]
     },
     "execution_count": 35,
     "metadata": {},
     "output_type": "execute_result"
    }
   ],
   "source": [
    "list(filter(lambda alp : alp == alp.upper(),Alpha))"
   ]
  },
  {
   "cell_type": "code",
   "execution_count": 36,
   "id": "6ebcadef",
   "metadata": {},
   "outputs": [
    {
     "data": {
      "text/plain": [
       "['q', 'e', 'h', 'o']"
      ]
     },
     "execution_count": 36,
     "metadata": {},
     "output_type": "execute_result"
    }
   ],
   "source": [
    "list(filter(lambda alp : alp != alp.upper(),Alpha))"
   ]
  },
  {
   "cell_type": "code",
   "execution_count": 37,
   "id": "8d48edd2",
   "metadata": {},
   "outputs": [
    {
     "data": {
      "text/plain": [
       "['D', 'S']"
      ]
     },
     "execution_count": 37,
     "metadata": {},
     "output_type": "execute_result"
    }
   ],
   "source": [
    "str1 = \"Data Science\"\n",
    "res = list(filter(lambda x : x.isupper(),str1))\n",
    "res"
   ]
  },
  {
   "cell_type": "code",
   "execution_count": 38,
   "id": "94614865",
   "metadata": {},
   "outputs": [
    {
     "data": {
      "text/plain": [
       "'DS'"
      ]
     },
     "execution_count": 38,
     "metadata": {},
     "output_type": "execute_result"
    }
   ],
   "source": [
    "\"\".join(res)"
   ]
  },
  {
   "cell_type": "code",
   "execution_count": 41,
   "id": "52da6da8",
   "metadata": {},
   "outputs": [
    {
     "data": {
      "text/plain": [
       "'a t a c i e n c e'"
      ]
     },
     "execution_count": 41,
     "metadata": {},
     "output_type": "execute_result"
    }
   ],
   "source": [
    "str1 = \"Data Science\"\n",
    "res = list(filter(lambda x : x.islower(),str1))\n",
    "\" \".join(res)"
   ]
  },
  {
   "cell_type": "markdown",
   "id": "2e0b1e43",
   "metadata": {},
   "source": [
    "# map()\n",
    "- The map() is also the higher order function\n",
    "- syntax ---> map(function_name,iterable)\n",
    "- list(map(function_name, iterable))"
   ]
  },
  {
   "cell_type": "code",
   "execution_count": 42,
   "id": "79767d9f",
   "metadata": {},
   "outputs": [
    {
     "name": "stdout",
     "output_type": "stream",
     "text": [
      "1\n",
      "4\n",
      "9\n",
      "16\n",
      "25\n"
     ]
    }
   ],
   "source": [
    "def square(num_li):\n",
    "    for num in num_li:\n",
    "        print(num ** 2)\n",
    "        \n",
    "square([1,2,3,4,5])"
   ]
  },
  {
   "cell_type": "code",
   "execution_count": 47,
   "id": "7ef5f263",
   "metadata": {},
   "outputs": [],
   "source": [
    "def square(num):\n",
    "    return num ** 2"
   ]
  },
  {
   "cell_type": "code",
   "execution_count": 44,
   "id": "7276d9f2",
   "metadata": {},
   "outputs": [
    {
     "data": {
      "text/plain": [
       "<map at 0x2511bed3df0>"
      ]
     },
     "execution_count": 44,
     "metadata": {},
     "output_type": "execute_result"
    }
   ],
   "source": [
    "map(square,[1,2,3,4,5])"
   ]
  },
  {
   "cell_type": "code",
   "execution_count": 46,
   "id": "4098778d",
   "metadata": {},
   "outputs": [
    {
     "data": {
      "text/plain": [
       "[1, 4, 9, 16, 25]"
      ]
     },
     "execution_count": 46,
     "metadata": {},
     "output_type": "execute_result"
    }
   ],
   "source": [
    "list(map(lambda x : x ** 2,[1,2,3,4,5]))"
   ]
  },
  {
   "cell_type": "code",
   "execution_count": 48,
   "id": "0e9a02a7",
   "metadata": {},
   "outputs": [
    {
     "data": {
      "text/plain": [
       "[1, 4, 9, 16, 25]"
      ]
     },
     "execution_count": 48,
     "metadata": {},
     "output_type": "execute_result"
    }
   ],
   "source": [
    "list(map(square,[1,2,3,4,5]))"
   ]
  },
  {
   "cell_type": "code",
   "execution_count": 49,
   "id": "b9f1aa61",
   "metadata": {},
   "outputs": [
    {
     "data": {
      "text/plain": [
       "['D', 'A', 'T', 'A', ' ', 'S', 'C', 'I', 'E', 'N', 'C', 'E']"
      ]
     },
     "execution_count": 49,
     "metadata": {},
     "output_type": "execute_result"
    }
   ],
   "source": [
    "str1 = \"Data Science\"\n",
    "res = list(map(lambda x : x.upper(),str1))\n",
    "res"
   ]
  },
  {
   "cell_type": "code",
   "execution_count": 50,
   "id": "789e7e33",
   "metadata": {},
   "outputs": [
    {
     "data": {
      "text/plain": [
       "'DATA SCIENCE'"
      ]
     },
     "execution_count": 50,
     "metadata": {},
     "output_type": "execute_result"
    }
   ],
   "source": [
    "\"\".join(res)"
   ]
  },
  {
   "cell_type": "code",
   "execution_count": 51,
   "id": "478f823f",
   "metadata": {},
   "outputs": [
    {
     "data": {
      "text/plain": [
       "[12, 14, 16, 18, 20]"
      ]
     },
     "execution_count": 51,
     "metadata": {},
     "output_type": "execute_result"
    }
   ],
   "source": [
    "li1 = [1,2,3,4,5]\n",
    "li2 = [11,12,13,14,15]\n",
    "list(map(lambda x,y:x+y, li1,li2))"
   ]
  },
  {
   "cell_type": "code",
   "execution_count": 52,
   "id": "3fe194df",
   "metadata": {},
   "outputs": [
    {
     "data": {
      "text/plain": [
       "[12, 14, 16, 18, 20]"
      ]
     },
     "execution_count": 52,
     "metadata": {},
     "output_type": "execute_result"
    }
   ],
   "source": [
    "li1 = [1,2,3,4,5]\n",
    "li2 = (11,12,13,14,15)\n",
    "list(map(lambda x,y:x+y, li1,li2))"
   ]
  },
  {
   "cell_type": "code",
   "execution_count": 53,
   "id": "d937b780",
   "metadata": {},
   "outputs": [
    {
     "data": {
      "text/plain": [
       "['PJ', 'ya', 'tv', 'ha']"
      ]
     },
     "execution_count": 53,
     "metadata": {},
     "output_type": "execute_result"
    }
   ],
   "source": [
    "str1 = \"Python\"\n",
    "str2 = \"Java\"\n",
    "list(map(lambda x,y : x + y,str1,str2))"
   ]
  },
  {
   "cell_type": "code",
   "execution_count": 54,
   "id": "96d49409",
   "metadata": {},
   "outputs": [
    {
     "data": {
      "text/plain": [
       "[True, True, False, False, False, True, False]"
      ]
     },
     "execution_count": 54,
     "metadata": {},
     "output_type": "execute_result"
    }
   ],
   "source": [
    "list1 = [\"Sunday\",\"Monday\",\"Tuesday\",\"Wednesday\",\"Thursday\",\"Friday\",\"Saturday\"]\n",
    "list(map(lambda day : len(day) == 6,list1))"
   ]
  },
  {
   "cell_type": "code",
   "execution_count": 55,
   "id": "e8f3b191",
   "metadata": {},
   "outputs": [
    {
     "data": {
      "text/plain": [
       "['Sunday', 'Monday', 'Friday']"
      ]
     },
     "execution_count": 55,
     "metadata": {},
     "output_type": "execute_result"
    }
   ],
   "source": [
    "list(filter(lambda day : len(day) == 6,list1))"
   ]
  },
  {
   "cell_type": "code",
   "execution_count": 56,
   "id": "e996c91c",
   "metadata": {},
   "outputs": [
    {
     "data": {
      "text/plain": [
       "['Sunday_Aug',\n",
       " 'Monday_Aug',\n",
       " 'Tuesday_Aug',\n",
       " 'Wednesday_Aug',\n",
       " 'Thursday_Aug',\n",
       " 'Friday_Aug',\n",
       " 'Saturday_Aug']"
      ]
     },
     "execution_count": 56,
     "metadata": {},
     "output_type": "execute_result"
    }
   ],
   "source": [
    "list1 = [\"Sunday\",\"Monday\",\"Tuesday\",\"Wednesday\",\"Thursday\",\"Friday\",\"Saturday\"]\n",
    "list(map(lambda day : day + \"_Aug\",list1))"
   ]
  },
  {
   "cell_type": "markdown",
   "id": "69ceb67c",
   "metadata": {},
   "source": [
    "# reduce()"
   ]
  },
  {
   "cell_type": "code",
   "execution_count": 57,
   "id": "df6194b4",
   "metadata": {},
   "outputs": [],
   "source": [
    "from functools import reduce"
   ]
  },
  {
   "cell_type": "code",
   "execution_count": 58,
   "id": "3e744da3",
   "metadata": {},
   "outputs": [
    {
     "name": "stdout",
     "output_type": "stream",
     "text": [
      "[2, 4]\n"
     ]
    }
   ],
   "source": [
    "def sqr(num):\n",
    "    return num ** 2\n",
    "\n",
    "num_list = [1,2,3,4,5]\n",
    "even = list(filter(lambda num : num % 2 == 0,num_list))\n",
    "print(even)"
   ]
  },
  {
   "cell_type": "code",
   "execution_count": 59,
   "id": "c5256d31",
   "metadata": {},
   "outputs": [
    {
     "name": "stdout",
     "output_type": "stream",
     "text": [
      "[1, 4, 9, 16, 25]\n"
     ]
    }
   ],
   "source": [
    "square = list(map(sqr,num_list))\n",
    "print(square)"
   ]
  },
  {
   "cell_type": "code",
   "execution_count": 67,
   "id": "22e4411a",
   "metadata": {},
   "outputs": [
    {
     "data": {
      "text/plain": [
       "15"
      ]
     },
     "execution_count": 67,
     "metadata": {},
     "output_type": "execute_result"
    }
   ],
   "source": [
    "reduce(lambda x , y : x + y,[1,2,3,4,5])"
   ]
  },
  {
   "cell_type": "code",
   "execution_count": 68,
   "id": "42c3bdfe",
   "metadata": {},
   "outputs": [
    {
     "data": {
      "text/plain": [
       "'Data Science'"
      ]
     },
     "execution_count": 68,
     "metadata": {},
     "output_type": "execute_result"
    }
   ],
   "source": [
    "reduce(lambda x,y : x + y,\"Data Science\")"
   ]
  },
  {
   "cell_type": "code",
   "execution_count": 69,
   "id": "72eaa1d1",
   "metadata": {},
   "outputs": [
    {
     "ename": "TypeError",
     "evalue": "can only concatenate list (not \"int\") to list",
     "output_type": "error",
     "traceback": [
      "\u001b[1;31m---------------------------------------------------------------------------\u001b[0m",
      "\u001b[1;31mTypeError\u001b[0m                                 Traceback (most recent call last)",
      "Input \u001b[1;32mIn [69]\u001b[0m, in \u001b[0;36m<cell line: 1>\u001b[1;34m()\u001b[0m\n\u001b[1;32m----> 1\u001b[0m \u001b[43mreduce\u001b[49m\u001b[43m(\u001b[49m\u001b[38;5;28;43;01mlambda\u001b[39;49;00m\u001b[43m \u001b[49m\u001b[43mx\u001b[49m\u001b[43m \u001b[49m\u001b[43m,\u001b[49m\u001b[43m \u001b[49m\u001b[43my\u001b[49m\u001b[43m \u001b[49m\u001b[43m:\u001b[49m\u001b[43m \u001b[49m\u001b[43mx\u001b[49m\u001b[43m \u001b[49m\u001b[38;5;241;43m+\u001b[39;49m\u001b[43m \u001b[49m\u001b[43my\u001b[49m\u001b[43m,\u001b[49m\u001b[43m[\u001b[49m\u001b[38;5;241;43m1\u001b[39;49m\u001b[43m,\u001b[49m\u001b[38;5;241;43m2\u001b[39;49m\u001b[43m,\u001b[49m\u001b[38;5;241;43m3\u001b[39;49m\u001b[43m,\u001b[49m\u001b[38;5;241;43m4\u001b[39;49m\u001b[43m,\u001b[49m\u001b[38;5;241;43m5\u001b[39;49m\u001b[43m]\u001b[49m\u001b[43m,\u001b[49m\u001b[43m[\u001b[49m\u001b[38;5;241;43m1\u001b[39;49m\u001b[43m,\u001b[49m\u001b[38;5;241;43m2\u001b[39;49m\u001b[43m,\u001b[49m\u001b[38;5;241;43m3\u001b[39;49m\u001b[43m,\u001b[49m\u001b[38;5;241;43m4\u001b[39;49m\u001b[43m,\u001b[49m\u001b[38;5;241;43m5\u001b[39;49m\u001b[43m]\u001b[49m\u001b[43m)\u001b[49m\n",
      "Input \u001b[1;32mIn [69]\u001b[0m, in \u001b[0;36m<lambda>\u001b[1;34m(x, y)\u001b[0m\n\u001b[1;32m----> 1\u001b[0m reduce(\u001b[38;5;28;01mlambda\u001b[39;00m x , y : \u001b[43mx\u001b[49m\u001b[43m \u001b[49m\u001b[38;5;241;43m+\u001b[39;49m\u001b[43m \u001b[49m\u001b[43my\u001b[49m,[\u001b[38;5;241m1\u001b[39m,\u001b[38;5;241m2\u001b[39m,\u001b[38;5;241m3\u001b[39m,\u001b[38;5;241m4\u001b[39m,\u001b[38;5;241m5\u001b[39m],[\u001b[38;5;241m1\u001b[39m,\u001b[38;5;241m2\u001b[39m,\u001b[38;5;241m3\u001b[39m,\u001b[38;5;241m4\u001b[39m,\u001b[38;5;241m5\u001b[39m])\n",
      "\u001b[1;31mTypeError\u001b[0m: can only concatenate list (not \"int\") to list"
     ]
    }
   ],
   "source": [
    "reduce(lambda x , y : x + y,[1,2,3,4,5],[1,2,3,4,5])"
   ]
  },
  {
   "cell_type": "code",
   "execution_count": 70,
   "id": "ece832f6",
   "metadata": {},
   "outputs": [
    {
     "data": {
      "text/plain": [
       "[1, 2, 3, 4, 5, 1, 2, 3, 4, 5]"
      ]
     },
     "execution_count": 70,
     "metadata": {},
     "output_type": "execute_result"
    }
   ],
   "source": [
    "[1,2,3,4,5] + [1,2,3,4,5]"
   ]
  },
  {
   "cell_type": "code",
   "execution_count": 73,
   "id": "599e2655",
   "metadata": {},
   "outputs": [
    {
     "data": {
      "text/plain": [
       "120"
      ]
     },
     "execution_count": 73,
     "metadata": {},
     "output_type": "execute_result"
    }
   ],
   "source": [
    "reduce(lambda x , y : x * y,[1,2,3,4,5])"
   ]
  },
  {
   "cell_type": "code",
   "execution_count": null,
   "id": "e93011f6",
   "metadata": {},
   "outputs": [],
   "source": []
  },
  {
   "cell_type": "code",
   "execution_count": null,
   "id": "76766352",
   "metadata": {},
   "outputs": [],
   "source": []
  },
  {
   "cell_type": "code",
   "execution_count": null,
   "id": "66e77a75",
   "metadata": {},
   "outputs": [],
   "source": []
  },
  {
   "cell_type": "code",
   "execution_count": null,
   "id": "e354ca52",
   "metadata": {},
   "outputs": [],
   "source": []
  },
  {
   "cell_type": "code",
   "execution_count": null,
   "id": "bbeb5bd6",
   "metadata": {},
   "outputs": [],
   "source": []
  },
  {
   "cell_type": "code",
   "execution_count": null,
   "id": "b83ec827",
   "metadata": {},
   "outputs": [],
   "source": []
  },
  {
   "cell_type": "code",
   "execution_count": null,
   "id": "5c04740d",
   "metadata": {},
   "outputs": [],
   "source": []
  },
  {
   "cell_type": "code",
   "execution_count": null,
   "id": "12a63795",
   "metadata": {},
   "outputs": [],
   "source": []
  },
  {
   "cell_type": "code",
   "execution_count": null,
   "id": "47fa9a78",
   "metadata": {},
   "outputs": [],
   "source": []
  },
  {
   "cell_type": "code",
   "execution_count": null,
   "id": "ac242d73",
   "metadata": {},
   "outputs": [],
   "source": []
  },
  {
   "cell_type": "code",
   "execution_count": null,
   "id": "c8eb8f5d",
   "metadata": {},
   "outputs": [],
   "source": []
  },
  {
   "cell_type": "code",
   "execution_count": null,
   "id": "dad0bbea",
   "metadata": {},
   "outputs": [],
   "source": []
  }
 ],
 "metadata": {
  "kernelspec": {
   "display_name": "Python 3 (ipykernel)",
   "language": "python",
   "name": "python3"
  },
  "language_info": {
   "codemirror_mode": {
    "name": "ipython",
    "version": 3
   },
   "file_extension": ".py",
   "mimetype": "text/x-python",
   "name": "python",
   "nbconvert_exporter": "python",
   "pygments_lexer": "ipython3",
   "version": "3.9.12"
  }
 },
 "nbformat": 4,
 "nbformat_minor": 5
}
