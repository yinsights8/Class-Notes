{
 "cells": [
  {
   "cell_type": "code",
   "execution_count": 7,
   "id": "c1ee13cc",
   "metadata": {},
   "outputs": [],
   "source": [
    "class parent1(): \n",
    "    pass\n",
    "\n",
    "\n",
    "class child1():\n",
    "    pass"
   ]
  },
  {
   "cell_type": "code",
   "execution_count": 8,
   "id": "9729efa7",
   "metadata": {},
   "outputs": [],
   "source": [
    "class D1(): # parent class (base class)\n",
    "    pass\n",
    "\n",
    "\n",
    "class D2(D1): # Child class (derived class)\n",
    "    pass"
   ]
  },
  {
   "cell_type": "code",
   "execution_count": null,
   "id": "21ad09fe",
   "metadata": {},
   "outputs": [],
   "source": []
  },
  {
   "cell_type": "code",
   "execution_count": 55,
   "id": "411fc286",
   "metadata": {},
   "outputs": [
    {
     "name": "stdout",
     "output_type": "stream",
     "text": [
      "I am his parent\n"
     ]
    }
   ],
   "source": [
    "class parent():\n",
    "    print(\"I am his parent\")"
   ]
  },
  {
   "cell_type": "code",
   "execution_count": 56,
   "id": "1444cf93",
   "metadata": {},
   "outputs": [
    {
     "name": "stdout",
     "output_type": "stream",
     "text": [
      "i am his child\n"
     ]
    }
   ],
   "source": [
    "class child():\n",
    "    print(\"i am his child\")"
   ]
  },
  {
   "cell_type": "code",
   "execution_count": 4,
   "id": "9588b15a",
   "metadata": {},
   "outputs": [],
   "source": [
    "class Parent():\n",
    "    def said(self):\n",
    "        print(\"He is my son\")\n",
    "\n",
    "class Child():\n",
    "    def call(self):\n",
    "        print(\"he is my dad\")"
   ]
  },
  {
   "cell_type": "code",
   "execution_count": 14,
   "id": "ded56bd3",
   "metadata": {},
   "outputs": [
    {
     "name": "stdout",
     "output_type": "stream",
     "text": [
      "He is my son\n",
      "*********************************************\n",
      "he is my dad\n"
     ]
    }
   ],
   "source": [
    "### Here we are creating a seperate class for perticular instance, \n",
    "## Not inheritace\n",
    "\n",
    "o1 = Parent()\n",
    "o1.said()\n",
    "print(\"*\"*45)\n",
    "o2 = Child()\n",
    "o2.call()"
   ]
  },
  {
   "cell_type": "code",
   "execution_count": null,
   "id": "bd90afe1",
   "metadata": {},
   "outputs": [],
   "source": []
  },
  {
   "cell_type": "code",
   "execution_count": 15,
   "id": "183db720",
   "metadata": {},
   "outputs": [],
   "source": [
    "class Parent():\n",
    "    def said(self):\n",
    "        print(\"He is my son\")\n",
    "        \n",
    "class Child(Parent):\n",
    "    def call(self):\n",
    "        print(\"he is my dad\")"
   ]
  },
  {
   "cell_type": "code",
   "execution_count": 18,
   "id": "3c86e995",
   "metadata": {},
   "outputs": [
    {
     "name": "stdout",
     "output_type": "stream",
     "text": [
      "He is my son\n",
      "he is my dad\n"
     ]
    }
   ],
   "source": [
    "## This is called inheritace\n",
    "obj = Child()\n",
    "obj.said()\n",
    "obj.call()"
   ]
  },
  {
   "cell_type": "code",
   "execution_count": null,
   "id": "51a7ffdc",
   "metadata": {},
   "outputs": [],
   "source": []
  },
  {
   "cell_type": "code",
   "execution_count": null,
   "id": "eef0b009",
   "metadata": {},
   "outputs": [],
   "source": []
  },
  {
   "cell_type": "code",
   "execution_count": 1,
   "id": "2961e8f7",
   "metadata": {},
   "outputs": [],
   "source": [
    "class CompanyInfo():\n",
    "    def __init__(self, c_name, c_location):\n",
    "        print(\"Initialising a __init__() in CompanInfo\")\n",
    "        self.c_name = c_name\n",
    "        self.c_location = c_location\n",
    "        \n",
    "    def get_company(self):\n",
    "        print(f\"Company name :- {self.c_name}\")\n",
    "        \n",
    "    def get_location(self):\n",
    "        print(f\"Company location :- {self.c_location}\")"
   ]
  },
  {
   "cell_type": "code",
   "execution_count": 2,
   "id": "a803bcc1",
   "metadata": {},
   "outputs": [],
   "source": [
    "class EmployeeInfo():\n",
    "    def __init__(self, E_name, E_salary):\n",
    "        print(\"Initialising a __init__() in EmployeeInfo\")\n",
    "        self.E_name = E_name\n",
    "        self.E_salary = E_salary\n",
    "        \n",
    "    def get_e_name(self):\n",
    "        print(f\"Name of employe is :- {self.E_name}\")\n",
    "    \n",
    "    def get_e_salary(self):\n",
    "        print(f\"salary of employe is :- {self.E_salary}\")"
   ]
  },
  {
   "cell_type": "code",
   "execution_count": 3,
   "id": "18bb8ebb",
   "metadata": {},
   "outputs": [
    {
     "name": "stdout",
     "output_type": "stream",
     "text": [
      "Initialising a __init__() in CompanInfo\n",
      "Company name :- microsoft\n",
      "Company location :- USA\n"
     ]
    }
   ],
   "source": [
    "c1 = CompanyInfo(\"microsoft\",\"USA\")\n",
    "c1.get_company()\n",
    "c1.get_location()"
   ]
  },
  {
   "cell_type": "code",
   "execution_count": 4,
   "id": "aae51ac2",
   "metadata": {},
   "outputs": [
    {
     "name": "stdout",
     "output_type": "stream",
     "text": [
      "Initialising a __init__() in EmployeeInfo\n",
      "Name of employe is :- yash\n",
      "salary of employe is :- 3000000\n"
     ]
    }
   ],
   "source": [
    "e1 = EmployeeInfo(\"yash\", 3000000)\n",
    "e1.get_e_name()\n",
    "e1.get_e_salary()"
   ]
  },
  {
   "cell_type": "markdown",
   "id": "3bd47fca",
   "metadata": {},
   "source": [
    "###### in above cells we are managed to access both the objects by creating two new objects and calling them separatly"
   ]
  },
  {
   "cell_type": "code",
   "execution_count": null,
   "id": "9fb36a3e",
   "metadata": {},
   "outputs": [],
   "source": []
  },
  {
   "cell_type": "code",
   "execution_count": 6,
   "id": "a28175f6",
   "metadata": {},
   "outputs": [],
   "source": [
    "class CompanyInfo():\n",
    "    def __init__(self, c_name, c_location):\n",
    "        print(\"Initialising a __init__() in CompanInfo\")\n",
    "        self.c_name = c_name\n",
    "        self.c_location = c_location\n",
    "        \n",
    "    def get_company(self):\n",
    "        print(f\"Company name :- {self.c_name}\")\n",
    "        \n",
    "    def get_location(self):\n",
    "        print(f\"Company location :- {self.c_location}\")"
   ]
  },
  {
   "cell_type": "code",
   "execution_count": 14,
   "id": "a0faddb1",
   "metadata": {},
   "outputs": [],
   "source": [
    "class EmployeeInfo(CompanyInfo):\n",
    "    def __init__(self, E_name, E_salary):\n",
    "        print(\"Initialising a __init__() in EmployeeInfo\")\n",
    "        self.E_name = E_name\n",
    "        self.E_salary = E_salary\n",
    "        \n",
    "    def get_e_name(self):\n",
    "        print(f\"Name of employe is :- {self.E_name}\")\n",
    "    \n",
    "    def get_e_salary(self):\n",
    "        print(f\"salary of employe is :- {self.E_salary}\")"
   ]
  },
  {
   "cell_type": "code",
   "execution_count": 15,
   "id": "f45f059d",
   "metadata": {},
   "outputs": [
    {
     "name": "stdout",
     "output_type": "stream",
     "text": [
      "Initialising a __init__() in EmployeeInfo\n",
      "Name of employe is :- Yash\n",
      "salary of employe is :- 3000000\n"
     ]
    }
   ],
   "source": [
    "obj = EmployeeInfo(\"Yash\", 3000000)\n",
    "obj.get_e_name()\n",
    "obj.get_e_salary()"
   ]
  },
  {
   "cell_type": "markdown",
   "id": "64fa5308",
   "metadata": {},
   "source": [
    "###### but when we call CompanyInfo mehtods form its class into EmployeeInfo class it will  give us an error"
   ]
  },
  {
   "cell_type": "code",
   "execution_count": 16,
   "id": "233fda09",
   "metadata": {},
   "outputs": [
    {
     "ename": "AttributeError",
     "evalue": "'EmployeeInfo' object has no attribute 'c_name'",
     "output_type": "error",
     "traceback": [
      "\u001b[1;31m---------------------------------------------------------------------------\u001b[0m",
      "\u001b[1;31mAttributeError\u001b[0m                            Traceback (most recent call last)",
      "Input \u001b[1;32mIn [16]\u001b[0m, in \u001b[0;36m<cell line: 1>\u001b[1;34m()\u001b[0m\n\u001b[1;32m----> 1\u001b[0m \u001b[43mobj\u001b[49m\u001b[38;5;241;43m.\u001b[39;49m\u001b[43mget_company\u001b[49m\u001b[43m(\u001b[49m\u001b[43m)\u001b[49m\n",
      "Input \u001b[1;32mIn [6]\u001b[0m, in \u001b[0;36mCompanyInfo.get_company\u001b[1;34m(self)\u001b[0m\n\u001b[0;32m      7\u001b[0m \u001b[38;5;28;01mdef\u001b[39;00m \u001b[38;5;21mget_company\u001b[39m(\u001b[38;5;28mself\u001b[39m):\n\u001b[1;32m----> 8\u001b[0m     \u001b[38;5;28mprint\u001b[39m(\u001b[38;5;124mf\u001b[39m\u001b[38;5;124m\"\u001b[39m\u001b[38;5;124mCompany name :- \u001b[39m\u001b[38;5;132;01m{\u001b[39;00m\u001b[38;5;28mself\u001b[39m\u001b[38;5;241m.\u001b[39mc_name\u001b[38;5;132;01m}\u001b[39;00m\u001b[38;5;124m\"\u001b[39m)\n",
      "\u001b[1;31mAttributeError\u001b[0m: 'EmployeeInfo' object has no attribute 'c_name'"
     ]
    }
   ],
   "source": [
    "obj.get_company()"
   ]
  },
  {
   "cell_type": "code",
   "execution_count": 17,
   "id": "b57e2537",
   "metadata": {},
   "outputs": [
    {
     "ename": "AttributeError",
     "evalue": "'EmployeeInfo' object has no attribute 'c_location'",
     "output_type": "error",
     "traceback": [
      "\u001b[1;31m---------------------------------------------------------------------------\u001b[0m",
      "\u001b[1;31mAttributeError\u001b[0m                            Traceback (most recent call last)",
      "Input \u001b[1;32mIn [17]\u001b[0m, in \u001b[0;36m<cell line: 1>\u001b[1;34m()\u001b[0m\n\u001b[1;32m----> 1\u001b[0m \u001b[43mobj\u001b[49m\u001b[38;5;241;43m.\u001b[39;49m\u001b[43mget_location\u001b[49m\u001b[43m(\u001b[49m\u001b[43m)\u001b[49m\n",
      "Input \u001b[1;32mIn [6]\u001b[0m, in \u001b[0;36mCompanyInfo.get_location\u001b[1;34m(self)\u001b[0m\n\u001b[0;32m     10\u001b[0m \u001b[38;5;28;01mdef\u001b[39;00m \u001b[38;5;21mget_location\u001b[39m(\u001b[38;5;28mself\u001b[39m):\n\u001b[1;32m---> 11\u001b[0m     \u001b[38;5;28mprint\u001b[39m(\u001b[38;5;124mf\u001b[39m\u001b[38;5;124m\"\u001b[39m\u001b[38;5;124mCompany location :- \u001b[39m\u001b[38;5;132;01m{\u001b[39;00m\u001b[38;5;28mself\u001b[39m\u001b[38;5;241m.\u001b[39mc_location\u001b[38;5;132;01m}\u001b[39;00m\u001b[38;5;124m\"\u001b[39m)\n",
      "\u001b[1;31mAttributeError\u001b[0m: 'EmployeeInfo' object has no attribute 'c_location'"
     ]
    }
   ],
   "source": [
    "obj.get_location()"
   ]
  },
  {
   "cell_type": "code",
   "execution_count": null,
   "id": "fec1df03",
   "metadata": {},
   "outputs": [],
   "source": [
    "##### in this situation we have to initialise parent attributs inside of child class"
   ]
  },
  {
   "cell_type": "code",
   "execution_count": 18,
   "id": "244f47ea",
   "metadata": {},
   "outputs": [],
   "source": [
    "class CompanyInfo():\n",
    "    def __init__(self, c_name, c_location):\n",
    "        print(\"Initialising a __init__() in CompanInfo\")\n",
    "        self.c_name = c_name\n",
    "        self.c_location = c_location\n",
    "        \n",
    "    def get_company(self):\n",
    "        print(f\"Company name :- {self.c_name}\")\n",
    "        \n",
    "    def get_location(self):\n",
    "        print(f\"Company location :- {self.c_location}\")"
   ]
  },
  {
   "cell_type": "code",
   "execution_count": 31,
   "id": "363056b8",
   "metadata": {},
   "outputs": [],
   "source": [
    "class EmployeeInfo(CompanyInfo):\n",
    "    def __init__(self, E_name, E_salary):\n",
    "        print(\"Initialising a __init__() in EmployeeInfo\")\n",
    "        CompanyInfo.__init__(self, \"Google\", \"USA\")  #-------->>>>> this is the change <<<<<---------\n",
    "        self.E_name = E_name\n",
    "        self.E_salary = E_salary\n",
    "        \n",
    "    def get_e_name(self):\n",
    "        print(f\"Name of employe is :- {self.E_name}\")\n",
    "    \n",
    "    def get_e_salary(self):\n",
    "        print(f\"salary of employe is :- {self.E_salary}\")"
   ]
  },
  {
   "cell_type": "code",
   "execution_count": 32,
   "id": "e4744890",
   "metadata": {},
   "outputs": [
    {
     "name": "stdout",
     "output_type": "stream",
     "text": [
      "Initialising a __init__() in EmployeeInfo\n",
      "Initialising a __init__() in CompanInfo\n",
      "Company name :- Google\n",
      "Company location :- USA\n",
      "Name of employe is :- Kunal\n",
      "salary of employe is :- 2000000\n"
     ]
    }
   ],
   "source": [
    "ce1 = EmployeeInfo(\"Kunal\", 2000000)\n",
    "ce1.get_company()\n",
    "ce1.get_location()\n",
    "\n",
    "ce1.get_e_name()\n",
    "ce1.get_e_salary()"
   ]
  },
  {
   "cell_type": "code",
   "execution_count": 57,
   "id": "62a78327",
   "metadata": {},
   "outputs": [],
   "source": [
    "class CompanyInfo():\n",
    "    \n",
    "    company_area = \"Magarpatta\"\n",
    "    \n",
    "    def __init__(self, c_name, c_location):\n",
    "        print(\"Initialising a __init__() in CompanInfo\")\n",
    "        self.c_name = c_name\n",
    "        self.c_location = c_location\n",
    "        \n",
    "    def get_company(self):\n",
    "        print(f\"Company name :- {self.c_name}\")\n",
    "        \n",
    "    def get_location(self):\n",
    "        print(f\"Company location :- {self.c_location}\")\n",
    "\n",
    "#------------------------------------>>>>>>>>>      <<<<<<<<<------------------------------------------#\n",
    "        \n",
    "class EmployeeInfo(CompanyInfo):\n",
    "    def __init__(self, E_name, E_salary, c_name, c_location):\n",
    "        print(\"Initialising a __init__() in EmployeeInfo\")\n",
    "        CompanyInfo.__init__(self, c_name, c_location)  #-------->>>>> this is the change <<<<<---------\n",
    "        self.E_name = E_name\n",
    "        self.E_salary = E_salary\n",
    "        \n",
    "    def get_e_name(self):\n",
    "        print(f\"Name of employe is :- {self.E_name}\")\n",
    "    \n",
    "    def get_e_salary(self):\n",
    "        print(f\"salary of employe is :- {self.E_salary}\")"
   ]
  },
  {
   "cell_type": "code",
   "execution_count": 60,
   "id": "d461beed",
   "metadata": {},
   "outputs": [
    {
     "name": "stdout",
     "output_type": "stream",
     "text": [
      "Initialising a __init__() in EmployeeInfo\n",
      "Initialising a __init__() in CompanInfo\n",
      "salary of employe is :- 5000000\n",
      "Name of employe is :- yash\n",
      "Company name :- Microsoft\n",
      "Company location :- UK\n"
     ]
    },
    {
     "data": {
      "text/plain": [
       "'Magarpatta'"
      ]
     },
     "execution_count": 60,
     "metadata": {},
     "output_type": "execute_result"
    }
   ],
   "source": [
    "emp1 = EmployeeInfo(\"yash\", 5000000, \"Microsoft\", \"UK\")\n",
    "emp1.get_e_salary()\n",
    "emp1.get_e_name()\n",
    "\n",
    "emp1.get_company()\n",
    "emp1.get_location()\n",
    "emp1.company_area     # This is a class variable, so there is not need to use ()"
   ]
  },
  {
   "cell_type": "markdown",
   "id": "e51e7042",
   "metadata": {},
   "source": [
    "###  Hotels"
   ]
  },
  {
   "cell_type": "code",
   "execution_count": 15,
   "id": "4e31f4f7",
   "metadata": {},
   "outputs": [],
   "source": [
    "class FiveStar():\n",
    "    def __init__(self, H_Name, H_location, H_Owner):\n",
    "        print(\"FiveStar __init__() Method\")\n",
    "        self.H_Name = H_Name\n",
    "        self.H_location = H_location\n",
    "        self.H_Owner = H_Owner\n",
    "    \n",
    "    def Get_Hotel_Name(self):\n",
    "        print(f\"Hotel Name :- {self.H_Name}\")\n",
    "        \n",
    "    def Get_Location(self):\n",
    "        print(f\"Location of Hotel is:- {self.H_location}\")\n",
    "        \n",
    "    def Get_Owner(self):\n",
    "        print(f\"Owmer name :- {self.H_Owner}\")\n",
    "        \n",
    "\n",
    "        \n",
    "\n",
    "        \n",
    "class HotelStaff(FiveStar):\n",
    "    raise_pay = 5\n",
    "    def __init__(self, position, salary, H_Name, H_location, H_Owner):\n",
    "#         print(\"HotelSatff __init__() Method\")\n",
    "        FiveStar.__init__(self, H_Name, H_location, H_Owner)\n",
    "        \n",
    "        self.position = position\n",
    "        self.salary = salary\n",
    "    \n",
    "    def get_position(self):\n",
    "        print(f\"Positon is :- {self.position}\")\n",
    "        \n",
    "    def get_salary(self):\n",
    "        print(f\"salary :- {self.salary}\")"
   ]
  },
  {
   "cell_type": "code",
   "execution_count": 16,
   "id": "ea6e9f76",
   "metadata": {},
   "outputs": [
    {
     "name": "stdout",
     "output_type": "stream",
     "text": [
      "FiveStar __init__() Method\n"
     ]
    }
   ],
   "source": [
    "H1 = HotelStaff(\"manager\", 2000000, \"Taj Hotel\", \"Mumbai\", \"Ratan TATA\")"
   ]
  },
  {
   "cell_type": "code",
   "execution_count": 17,
   "id": "ff2c6eaa",
   "metadata": {},
   "outputs": [
    {
     "name": "stdout",
     "output_type": "stream",
     "text": [
      "Positon is :- manager\n"
     ]
    }
   ],
   "source": [
    "H1.get_position()"
   ]
  },
  {
   "cell_type": "code",
   "execution_count": 18,
   "id": "dcf2bd63",
   "metadata": {},
   "outputs": [
    {
     "name": "stdout",
     "output_type": "stream",
     "text": [
      "salary :- 2000000\n"
     ]
    }
   ],
   "source": [
    "H1.get_salary()"
   ]
  },
  {
   "cell_type": "code",
   "execution_count": 19,
   "id": "0a4c1233",
   "metadata": {},
   "outputs": [
    {
     "name": "stdout",
     "output_type": "stream",
     "text": [
      "Hotel Name :- Taj Hotel\n"
     ]
    }
   ],
   "source": [
    "H1.Get_Hotel_Name()"
   ]
  },
  {
   "cell_type": "code",
   "execution_count": 20,
   "id": "79ed0b7d",
   "metadata": {},
   "outputs": [
    {
     "name": "stdout",
     "output_type": "stream",
     "text": [
      "Location of Hotel is:- Mumbai\n"
     ]
    }
   ],
   "source": [
    "H1.Get_Location()"
   ]
  },
  {
   "cell_type": "code",
   "execution_count": 21,
   "id": "a0d54e4a",
   "metadata": {},
   "outputs": [
    {
     "name": "stdout",
     "output_type": "stream",
     "text": [
      "Owmer name :- Ratan TATA\n"
     ]
    }
   ],
   "source": [
    "H1.Get_Owner()"
   ]
  },
  {
   "cell_type": "code",
   "execution_count": null,
   "id": "24e0fee9",
   "metadata": {},
   "outputs": [],
   "source": []
  },
  {
   "cell_type": "code",
   "execution_count": null,
   "id": "7d8d9883",
   "metadata": {},
   "outputs": [],
   "source": []
  },
  {
   "cell_type": "code",
   "execution_count": null,
   "id": "14f6bf8e",
   "metadata": {},
   "outputs": [],
   "source": []
  },
  {
   "cell_type": "code",
   "execution_count": 2,
   "id": "fa44e1ad",
   "metadata": {},
   "outputs": [],
   "source": [
    "class FiveStar():\n",
    "    def __init__(self, H_Name, H_location, H_Owner):\n",
    "        print(\"FiveStar __init__() Method\")\n",
    "        self.H_Name = H_Name\n",
    "        self.H_location = H_location\n",
    "        self.H_Owner = H_Owner\n",
    "    \n",
    "    def Get_Hotel_Name(self):\n",
    "        print(f\"Hotel Name :- {self.H_Name}\")\n",
    "        \n",
    "    def Get_Location(self):\n",
    "        print(f\"Location of Hotel is:- {self.H_location}\")\n",
    "        \n",
    "    def Get_Owner(self):\n",
    "        print(f\"Owmer name :- {self.H_Owner}\")\n",
    "        \n",
    "\n",
    "        \n",
    "\n",
    "        \n",
    "class HotelStaff(FiveStar):\n",
    "    raise_pay = 5\n",
    "    def __init__(self, position, salary, H_Name, H_location, H_Owner):\n",
    "        print(\"HotelSatff __init__() Method\")\n",
    "        FiveStar.__init__(self, H_Name, H_location, H_Owner)\n",
    "        \n",
    "        self.position = position\n",
    "        self.salary = salary\n",
    "    \n",
    "    def get_position(self):\n",
    "        print(f\"Positon employee is :- {self.position}\")\n",
    "        \n",
    "    def get_salary(self):\n",
    "        print(f\"salary :- {self.salary}\")\n",
    "        \n",
    "    def raise_salary(self):\n",
    "        self.salary = self.salary * HotelStaff.raise_pay"
   ]
  },
  {
   "cell_type": "code",
   "execution_count": 3,
   "id": "58ae822d",
   "metadata": {},
   "outputs": [
    {
     "name": "stdout",
     "output_type": "stream",
     "text": [
      "For h1\n",
      "HotelSatff __init__() Method\n",
      "FiveStar __init__() Method\n",
      "%%%%%%%%%%%%%%%%%%%%%%%%%%%%%%%%%%%%%%%%%%%%%%%%%%\n",
      "For h2\n",
      "HotelSatff __init__() Method\n",
      "FiveStar __init__() Method\n"
     ]
    }
   ],
   "source": [
    "print(\"For h1\")\n",
    "h1 = HotelStaff(\"waiter\", 500000, \"Taj Hotel\", \"Banglore\", \"Ratan Tata\")\n",
    "\n",
    "print(\"%\"*50)\n",
    "\n",
    "print(\"For h2\")\n",
    "h2 = HotelStaff(\"Manager\", 100000, \"Taj Hotel\", \"Banglore\", \"Ratan Tata\")"
   ]
  },
  {
   "cell_type": "code",
   "execution_count": 4,
   "id": "024cd4e1",
   "metadata": {},
   "outputs": [
    {
     "name": "stdout",
     "output_type": "stream",
     "text": [
      "Hotel Name :- Taj Hotel\n",
      "Location of Hotel is:- Banglore\n",
      "Owmer name :- Ratan Tata\n",
      "Positon employee is :- waiter\n",
      "salary :- 500000\n"
     ]
    }
   ],
   "source": [
    "h1.Get_Hotel_Name()\n",
    "h1.Get_Location()\n",
    "h1.Get_Owner()\n",
    "h1.get_position()\n",
    "h1.get_salary()"
   ]
  },
  {
   "cell_type": "code",
   "execution_count": null,
   "id": "c9451482",
   "metadata": {},
   "outputs": [],
   "source": []
  },
  {
   "cell_type": "code",
   "execution_count": 5,
   "id": "a7f4f0e4",
   "metadata": {},
   "outputs": [
    {
     "name": "stdout",
     "output_type": "stream",
     "text": [
      "FOR h1\n",
      "5\n",
      "salary :- 500000\n",
      "%%%%%%%%%%%%%%%%%%%%%%%%%%%%%%\n",
      "salary :- 2500000\n"
     ]
    }
   ],
   "source": [
    "print(\"FOR h1\")\n",
    "raie = HotelStaff.raise_pay\n",
    "print(raie)\n",
    "h1.get_salary()\n",
    "print(\"%\"*30)\n",
    "h1.raise_salary()\n",
    "h1.get_salary()"
   ]
  },
  {
   "cell_type": "code",
   "execution_count": 9,
   "id": "76d491c7",
   "metadata": {},
   "outputs": [
    {
     "name": "stdout",
     "output_type": "stream",
     "text": [
      "FOR h1\n",
      "3\n",
      "salary :- 7500000\n",
      "salary :- 22500000\n",
      "%%%%%%%%%%%%%%%%%%%%%%%%%%%%%%\n",
      "FOR h2\n",
      "raised salary by 3\n",
      "3\n",
      "salary :- 2700000\n",
      "salary :- 8100000\n"
     ]
    }
   ],
   "source": [
    "print(\"FOR h1\")\n",
    "raie = HotelStaff.raise_pay\n",
    "print(raie)\n",
    "h1.get_salary()\n",
    "h1.raise_salary()\n",
    "h1.get_salary()\n",
    "\n",
    "print(\"%\"*30)\n",
    "\n",
    "print(\"FOR h2\")\n",
    "print(\"raised salary by 3\")\n",
    "HotelStaff.raise_pay = 3    # \n",
    "raie = HotelStaff.raise_pay\n",
    "print(raie)\n",
    "h2.get_salary()\n",
    "\n",
    "h2.raise_salary()\n",
    "h2.get_salary()"
   ]
  },
  {
   "cell_type": "code",
   "execution_count": null,
   "id": "712ae0a5",
   "metadata": {},
   "outputs": [],
   "source": []
  },
  {
   "cell_type": "code",
   "execution_count": null,
   "id": "00412f03",
   "metadata": {},
   "outputs": [],
   "source": []
  },
  {
   "cell_type": "code",
   "execution_count": 20,
   "id": "717fe0ef",
   "metadata": {},
   "outputs": [],
   "source": [
    "class FiveStar():\n",
    "    def __init__(self, H_Name, H_location, H_Owner):\n",
    "        print(\"FiveStar __init__() Method\")\n",
    "        self.H_Name = H_Name\n",
    "        self.H_location = H_location\n",
    "        self.H_Owner = H_Owner\n",
    "    \n",
    "    def Get_Hotel_Name(self):\n",
    "        print(f\"Hotel Name :- {self.H_Name}\")\n",
    "        \n",
    "    def Get_Location(self):\n",
    "        print(f\"Location of Hotel is:- {self.H_location}\")\n",
    "        \n",
    "    def Get_Owner(self):\n",
    "        print(f\"Owmer name :- {self.H_Owner}\")\n",
    "        \n",
    "\n",
    "        \n",
    "\n",
    "        \n",
    "class HotelStaff(FiveStar):\n",
    "    raise_pay = 5\n",
    "    def __init__(self, position, salary, H_Name, H_location, H_Owner):\n",
    "        print(\"HotelSatff __init__() Method\")\n",
    "        \n",
    "        FiveStar.__init__(self, H_Name, H_location, H_Owner)\n",
    "        \n",
    "        self.position = position\n",
    "        self.salary = salary\n",
    "    \n",
    "    def get_position(self):\n",
    "        print(f\"Positon employee is :- {self.position}\")\n",
    "        \n",
    "    def get_salary(self):\n",
    "        print(f\"salary :- {self.salary}\")\n",
    "        \n",
    "    def raise_salary(self):\n",
    "        self.salary = self.salary * self.raise_pay"
   ]
  },
  {
   "cell_type": "code",
   "execution_count": 21,
   "id": "c71435b3",
   "metadata": {},
   "outputs": [
    {
     "name": "stdout",
     "output_type": "stream",
     "text": [
      "For Emp1\n",
      "HotelSatff __init__() Method\n",
      "FiveStar __init__() Method\n",
      "%%%%%%%%%%%%%%%%%%%%%%%%%%%%%%%%%%%%%%%%%%%%%%%%%%\n",
      "For Emp2\n",
      "HotelSatff __init__() Method\n",
      "FiveStar __init__() Method\n"
     ]
    }
   ],
   "source": [
    "print(\"For Emp1\")\n",
    "Emp1 = HotelStaff(\"waiter\", 500000, \"Taj Hotel\", \"Banglore\", \"Ratan Tata\")\n",
    "\n",
    "print(\"%\"*50)\n",
    "\n",
    "print(\"For Emp2\")\n",
    "Emp2 = HotelStaff(\"Manager\", 100000, \"Taj Hotel\", \"Banglore\", \"Ratan Tata\")"
   ]
  },
  {
   "cell_type": "code",
   "execution_count": null,
   "id": "34e2f359",
   "metadata": {},
   "outputs": [],
   "source": []
  },
  {
   "cell_type": "code",
   "execution_count": 24,
   "id": "3f1fb7de",
   "metadata": {},
   "outputs": [
    {
     "name": "stdout",
     "output_type": "stream",
     "text": [
      "FOR Emp1\n",
      "Positon employee is :- waiter\n",
      "No Change in Emp1 salary\n",
      "3\n",
      "salary :- 7500000\n",
      "salary :- 22500000\n",
      "%%%%%%%%%%%%%%%%%%%%%%%%%%%%%%\n",
      "FOR Emp2\n",
      "Positon employee is :- Manager\n",
      "raised salary by 3\n",
      "3\n",
      "salary :- 900000\n",
      "salary :- 2700000\n"
     ]
    }
   ],
   "source": [
    "print(\"FOR Emp1\")\n",
    "Emp1.get_position()\n",
    "print(\"No Change in Emp1 salary\")\n",
    "raie = HotelStaff.raise_pay\n",
    "print(raie)\n",
    "Emp1.get_salary()\n",
    "Emp1.raise_salary()\n",
    "Emp1.get_salary()\n",
    "\n",
    "print(\"%\"*30)\n",
    "\n",
    "print(\"FOR Emp2\")\n",
    "Emp2.get_position()\n",
    "print(\"raised salary by 3\")\n",
    "HotelStaff.raise_pay = 3    # \n",
    "raie = HotelStaff.raise_pay\n",
    "print(raie)\n",
    "Emp2.get_salary()\n",
    "Emp2.raise_salary()\n",
    "Emp2.get_salary()"
   ]
  },
  {
   "cell_type": "code",
   "execution_count": null,
   "id": "5774808b",
   "metadata": {},
   "outputs": [],
   "source": []
  },
  {
   "cell_type": "markdown",
   "id": "9c411725",
   "metadata": {},
   "source": [
    "## Single inheritence"
   ]
  },
  {
   "cell_type": "code",
   "execution_count": 63,
   "id": "3d16c56f",
   "metadata": {},
   "outputs": [],
   "source": [
    "class Parent():\n",
    "    def __int__(self):\n",
    "        print(\"I Am a Parent\")\n",
    "        \n",
    "        \n",
    "class Child(Parent):\n",
    "    def __init__(self):\n",
    "        print(\"I Am a Child\")\n",
    "        Parent.__init__(self)  # This need exactly one augument, where the instace is going to be\n",
    "        "
   ]
  },
  {
   "cell_type": "code",
   "execution_count": 67,
   "id": "6ddbb0b2",
   "metadata": {},
   "outputs": [
    {
     "name": "stdout",
     "output_type": "stream",
     "text": [
      "I Am a Child\n"
     ]
    }
   ],
   "source": [
    "ob1 = Child()"
   ]
  },
  {
   "cell_type": "code",
   "execution_count": null,
   "id": "df19efa7",
   "metadata": {},
   "outputs": [],
   "source": []
  },
  {
   "cell_type": "code",
   "execution_count": 1,
   "id": "44b6f830",
   "metadata": {},
   "outputs": [
    {
     "name": "stdout",
     "output_type": "stream",
     "text": [
      "In the Child Class __init__ Method\n",
      "In the Parent Class __init__ Method\n"
     ]
    }
   ],
   "source": [
    "class Parent():\n",
    "    def __init__(self):\n",
    "        print(\"In the Parent Class __init__ Method\")\n",
    "        \n",
    "class Child(Parent):\n",
    "    def __init__(self):\n",
    "        print(\"In the Child Class __init__ Method\")\n",
    "        super().__init__()\n",
    "c1 = Child()"
   ]
  },
  {
   "cell_type": "code",
   "execution_count": null,
   "id": "037d9edf",
   "metadata": {},
   "outputs": [],
   "source": []
  },
  {
   "cell_type": "code",
   "execution_count": null,
   "id": "04ac3d77",
   "metadata": {},
   "outputs": [],
   "source": []
  },
  {
   "cell_type": "code",
   "execution_count": null,
   "id": "c9a12218",
   "metadata": {},
   "outputs": [],
   "source": []
  },
  {
   "cell_type": "code",
   "execution_count": null,
   "id": "58af0f39",
   "metadata": {},
   "outputs": [],
   "source": []
  },
  {
   "cell_type": "code",
   "execution_count": null,
   "id": "769512b3",
   "metadata": {},
   "outputs": [],
   "source": []
  },
  {
   "cell_type": "code",
   "execution_count": null,
   "id": "4ea53f63",
   "metadata": {},
   "outputs": [],
   "source": []
  },
  {
   "cell_type": "code",
   "execution_count": 2,
   "id": "058bda24",
   "metadata": {},
   "outputs": [
    {
     "name": "stdout",
     "output_type": "stream",
     "text": [
      "I Am a Child\n"
     ]
    }
   ],
   "source": [
    "class ParenT():\n",
    "    def __int__(self):\n",
    "        print(\"I Am a Parent\")\n",
    "        \n",
    "        \n",
    "class ChilD(ParenT):\n",
    "    def __init__(self):         \n",
    "        print(\"I Am a Child\")\n",
    "        super().__init__()            # while using super, it dosent need an argument\n",
    "b1= ChilD()"
   ]
  },
  {
   "cell_type": "code",
   "execution_count": null,
   "id": "62883058",
   "metadata": {},
   "outputs": [],
   "source": []
  },
  {
   "cell_type": "code",
   "execution_count": null,
   "id": "e7754b10",
   "metadata": {},
   "outputs": [],
   "source": []
  },
  {
   "cell_type": "code",
   "execution_count": null,
   "id": "b094ac05",
   "metadata": {},
   "outputs": [],
   "source": []
  },
  {
   "cell_type": "code",
   "execution_count": null,
   "id": "e47348dd",
   "metadata": {},
   "outputs": [],
   "source": []
  },
  {
   "cell_type": "code",
   "execution_count": null,
   "id": "8eb917ef",
   "metadata": {},
   "outputs": [],
   "source": []
  },
  {
   "cell_type": "code",
   "execution_count": 36,
   "id": "587ab680",
   "metadata": {},
   "outputs": [],
   "source": [
    "class CompanyInfo():\n",
    "    \n",
    "    company_area = \"Magarpatta\"\n",
    "    \n",
    "    def __init__(self, c_name, c_location):\n",
    "        print(\"Initialising a __init__() in CompanInfo\")\n",
    "        self.c_name = c_name\n",
    "        self.c_location = c_location\n",
    "        \n",
    "    def get_company(self):\n",
    "        print(f\"Company name :- {self.c_name}\")\n",
    "        \n",
    "    def get_location(self):\n",
    "        print(f\"Company location :- {self.c_location}\")\n",
    "\n",
    "#------------------------------------>>>>>>>>>      <<<<<<<<<------------------------------------------#\n",
    "        \n",
    "class EmployeeInfo(CompanyInfo):\n",
    "    def __init__(self, E_name, E_salary, c_name, c_location):\n",
    "        print(\"Initialising a __init__() in EmployeeInfo\")\n",
    "        super().__init__(c_name, c_location)  #-------->>>>> this is the change <<<<<---------\n",
    "        self.E_name = E_name\n",
    "        self.E_salary = E_salary\n",
    "        \n",
    "    def get_e_name(self):\n",
    "        print(f\"Name of employe is :- {self.E_name}\")\n",
    "    \n",
    "    def get_e_salary(self):\n",
    "        print(f\"salary of employe is :- {self.E_salary}\")"
   ]
  },
  {
   "cell_type": "code",
   "execution_count": 37,
   "id": "a0ade238",
   "metadata": {},
   "outputs": [
    {
     "name": "stdout",
     "output_type": "stream",
     "text": [
      "Initialising a __init__() in EmployeeInfo\n",
      "Initialising a __init__() in CompanInfo\n"
     ]
    }
   ],
   "source": [
    "d1 = EmployeeInfo(\"Yash\", 5000000, \"Google\", \"USA\")"
   ]
  },
  {
   "cell_type": "code",
   "execution_count": 38,
   "id": "4ae09703",
   "metadata": {},
   "outputs": [
    {
     "name": "stdout",
     "output_type": "stream",
     "text": [
      "Company name :- Google\n"
     ]
    }
   ],
   "source": [
    "d1.get_company()"
   ]
  },
  {
   "cell_type": "code",
   "execution_count": 39,
   "id": "94a83e75",
   "metadata": {},
   "outputs": [
    {
     "name": "stdout",
     "output_type": "stream",
     "text": [
      "Company location :- USA\n"
     ]
    }
   ],
   "source": [
    "d1.get_location()"
   ]
  },
  {
   "cell_type": "code",
   "execution_count": 40,
   "id": "e9e5d95e",
   "metadata": {},
   "outputs": [
    {
     "name": "stdout",
     "output_type": "stream",
     "text": [
      "Name of employe is :- Yash\n"
     ]
    }
   ],
   "source": [
    "d1.get_e_name()"
   ]
  },
  {
   "cell_type": "code",
   "execution_count": 41,
   "id": "cfc5d3c9",
   "metadata": {},
   "outputs": [
    {
     "name": "stdout",
     "output_type": "stream",
     "text": [
      "salary of employe is :- 5000000\n"
     ]
    }
   ],
   "source": [
    "d1.get_e_salary()"
   ]
  },
  {
   "cell_type": "code",
   "execution_count": 44,
   "id": "d6602483",
   "metadata": {},
   "outputs": [],
   "source": [
    "class CompanyInfo():\n",
    "    \n",
    "    company_area = \"Magarpatta\"\n",
    "    \n",
    "    def __init__(self, c_name, c_location):\n",
    "        print(\"Initialising a __init__() in CompanInfo\")\n",
    "        self.c_name = c_name\n",
    "        self.c_location = c_location\n",
    "        \n",
    "    def get_company(self):\n",
    "        print(f\"Company name :- {self.c_name}\")\n",
    "        \n",
    "    def get_location(self):\n",
    "        print(f\"Company location :- {self.c_location}\")\n",
    "\n",
    "#------------------------------------>>>>>>>>>      <<<<<<<<<------------------------------------------#\n",
    "\n",
    "class EmployeeInfo(CompanyInfo):\n",
    "    def __init__(self, E_name, E_salary, c_name, c_location):\n",
    "        print(\"Initialising a __init__() in EmployeeInfo\")\n",
    "        super().__init__()  \n",
    "        \n",
    "        self.E_name = E_name\n",
    "        self.E_salary = E_salary\n",
    "        \n",
    "    def get_e_name(self):\n",
    "        print(f\"Name of employe is :- {self.E_name}\")\n",
    "    \n",
    "    def get_e_salary(self):\n",
    "        print(f\"salary of employe is :- {self.E_salary}\")"
   ]
  },
  {
   "cell_type": "code",
   "execution_count": 45,
   "id": "5b077561",
   "metadata": {},
   "outputs": [
    {
     "ename": "TypeError",
     "evalue": "__init__() missing 2 required positional arguments: 'c_name' and 'c_location'",
     "output_type": "error",
     "traceback": [
      "\u001b[1;31m---------------------------------------------------------------------------\u001b[0m",
      "\u001b[1;31mTypeError\u001b[0m                                 Traceback (most recent call last)",
      "Input \u001b[1;32mIn [45]\u001b[0m, in \u001b[0;36m<cell line: 1>\u001b[1;34m()\u001b[0m\n\u001b[1;32m----> 1\u001b[0m d2 \u001b[38;5;241m=\u001b[39m \u001b[43mEmployeeInfo\u001b[49m\u001b[43m(\u001b[49m\u001b[38;5;124;43m\"\u001b[39;49m\u001b[38;5;124;43myash\u001b[39;49m\u001b[38;5;124;43m\"\u001b[39;49m\u001b[43m,\u001b[49m\u001b[43m \u001b[49m\u001b[38;5;241;43m5000000\u001b[39;49m\u001b[43m)\u001b[49m\n",
      "\u001b[1;31mTypeError\u001b[0m: __init__() missing 2 required positional arguments: 'c_name' and 'c_location'"
     ]
    }
   ],
   "source": [
    "d2 = EmployeeInfo(\"yash\", 5000000)"
   ]
  },
  {
   "cell_type": "code",
   "execution_count": 35,
   "id": "b6f92ad7",
   "metadata": {},
   "outputs": [
    {
     "ename": "TypeError",
     "evalue": "'str' object is not callable",
     "output_type": "error",
     "traceback": [
      "\u001b[1;31m---------------------------------------------------------------------------\u001b[0m",
      "\u001b[1;31mTypeError\u001b[0m                                 Traceback (most recent call last)",
      "Input \u001b[1;32mIn [35]\u001b[0m, in \u001b[0;36m<cell line: 1>\u001b[1;34m()\u001b[0m\n\u001b[1;32m----> 1\u001b[0m \u001b[43md2\u001b[49m\u001b[38;5;241;43m.\u001b[39;49m\u001b[43mc_location\u001b[49m\u001b[43m(\u001b[49m\u001b[43m)\u001b[49m\n",
      "\u001b[1;31mTypeError\u001b[0m: 'str' object is not callable"
     ]
    }
   ],
   "source": [
    "d2.c_location()"
   ]
  },
  {
   "cell_type": "code",
   "execution_count": null,
   "id": "a16a5fc2",
   "metadata": {},
   "outputs": [],
   "source": []
  },
  {
   "cell_type": "code",
   "execution_count": 49,
   "id": "37c5f983",
   "metadata": {},
   "outputs": [
    {
     "name": "stdout",
     "output_type": "stream",
     "text": [
      "I Am a Child\n"
     ]
    }
   ],
   "source": [
    "class ParenT():\n",
    "    def __int__(self):\n",
    "        print(\"I Am a Parent\")\n",
    "        \n",
    "        \n",
    "class ChilD(ParenT):\n",
    "    def __init__(self):         \n",
    "        print(\"I Am a Child\")\n",
    "        ParenT.__init__(self)            # while using super, it dosent need an argument\n",
    "\n",
    "b1= ChilD()"
   ]
  },
  {
   "cell_type": "code",
   "execution_count": null,
   "id": "8dde853f",
   "metadata": {},
   "outputs": [],
   "source": []
  },
  {
   "cell_type": "code",
   "execution_count": null,
   "id": "516c26dc",
   "metadata": {},
   "outputs": [],
   "source": []
  },
  {
   "cell_type": "code",
   "execution_count": null,
   "id": "0d571383",
   "metadata": {},
   "outputs": [],
   "source": []
  },
  {
   "cell_type": "code",
   "execution_count": null,
   "id": "6596eb57",
   "metadata": {},
   "outputs": [],
   "source": []
  },
  {
   "cell_type": "code",
   "execution_count": null,
   "id": "f8fe3d15",
   "metadata": {},
   "outputs": [],
   "source": []
  },
  {
   "cell_type": "code",
   "execution_count": null,
   "id": "0564b933",
   "metadata": {},
   "outputs": [],
   "source": []
  },
  {
   "cell_type": "code",
   "execution_count": null,
   "id": "d5ca4d50",
   "metadata": {},
   "outputs": [],
   "source": []
  },
  {
   "cell_type": "code",
   "execution_count": null,
   "id": "86087915",
   "metadata": {},
   "outputs": [],
   "source": []
  },
  {
   "cell_type": "code",
   "execution_count": null,
   "id": "585d0fb4",
   "metadata": {},
   "outputs": [],
   "source": []
  },
  {
   "cell_type": "code",
   "execution_count": null,
   "id": "25c2eced",
   "metadata": {},
   "outputs": [],
   "source": []
  },
  {
   "cell_type": "code",
   "execution_count": null,
   "id": "0cfd03e7",
   "metadata": {},
   "outputs": [],
   "source": []
  },
  {
   "cell_type": "code",
   "execution_count": null,
   "id": "6763ff1e",
   "metadata": {},
   "outputs": [],
   "source": []
  },
  {
   "cell_type": "code",
   "execution_count": null,
   "id": "7ef46408",
   "metadata": {},
   "outputs": [],
   "source": []
  },
  {
   "cell_type": "code",
   "execution_count": null,
   "id": "ac1c9b3c",
   "metadata": {},
   "outputs": [],
   "source": []
  },
  {
   "cell_type": "code",
   "execution_count": null,
   "id": "a4aa2310",
   "metadata": {},
   "outputs": [],
   "source": [
    "\n"
   ]
  },
  {
   "cell_type": "code",
   "execution_count": null,
   "id": "15990000",
   "metadata": {},
   "outputs": [],
   "source": []
  },
  {
   "cell_type": "code",
   "execution_count": null,
   "id": "f49d7018",
   "metadata": {},
   "outputs": [],
   "source": []
  },
  {
   "cell_type": "code",
   "execution_count": null,
   "id": "8f1d0264",
   "metadata": {},
   "outputs": [],
   "source": []
  },
  {
   "cell_type": "code",
   "execution_count": null,
   "id": "e1a34f24",
   "metadata": {},
   "outputs": [],
   "source": []
  },
  {
   "cell_type": "code",
   "execution_count": null,
   "id": "b71eb81c",
   "metadata": {},
   "outputs": [],
   "source": []
  },
  {
   "cell_type": "code",
   "execution_count": 9,
   "id": "11dfb5b7",
   "metadata": {},
   "outputs": [],
   "source": [
    "class CompanyInfo(): # Parent Class\n",
    "    company_area = \"Magarpatta\"\n",
    "    def __init__(self,company_name, location):\n",
    "        print(\"Company Information __init__ method\")\n",
    "        self.company_name = company_name\n",
    "        self.location = location\n",
    "        \n",
    "    def get_companyName(self):\n",
    "        print(\"Company Name = \",self.company_name)\n",
    "        \n",
    "    def get_companyLocation(self):\n",
    "        print(\"Company Location = \",self.location)\n",
    "    \n",
    "class EmployeeInfo(CompanyInfo): # Child Class\n",
    "    def __init__(self,emp_name, salary, company_name, location):\n",
    "        print(\"Employee Information __init__ method\")\n",
    "        super().__init__(company_name, location)\n",
    "        self.emp_name = emp_name\n",
    "        self.salary = salary\n",
    "    \n",
    "    def get_empName(self):\n",
    "        print(f\"Employee Name = {self.emp_name}\")\n",
    "        \n",
    "    def get_salary(self):\n",
    "        print(f\"Employee Salary = {self.salary}\")"
   ]
  },
  {
   "cell_type": "code",
   "execution_count": 2,
   "id": "3d20e7f6",
   "metadata": {},
   "outputs": [
    {
     "name": "stdout",
     "output_type": "stream",
     "text": [
      "Employee Information __init__ method\n",
      "Company Information __init__ method\n"
     ]
    }
   ],
   "source": [
    "em1 = EmployeeInfo(\"somnath_sir\", \"latur\", \"TCS\", \"Banglore\")"
   ]
  },
  {
   "cell_type": "code",
   "execution_count": 8,
   "id": "60a0e495",
   "metadata": {},
   "outputs": [
    {
     "name": "stdout",
     "output_type": "stream",
     "text": [
      "Company Location =  Banglore\n"
     ]
    }
   ],
   "source": [
    "em1.get_companyLocation()"
   ]
  },
  {
   "cell_type": "code",
   "execution_count": 4,
   "id": "26d0fd44",
   "metadata": {},
   "outputs": [
    {
     "name": "stdout",
     "output_type": "stream",
     "text": [
      "Company Location =  Banglore\n"
     ]
    }
   ],
   "source": [
    "em1.get_companyLocation()"
   ]
  },
  {
   "cell_type": "code",
   "execution_count": 5,
   "id": "61c119c5",
   "metadata": {},
   "outputs": [
    {
     "data": {
      "text/plain": [
       "'Magarpatta'"
      ]
     },
     "execution_count": 5,
     "metadata": {},
     "output_type": "execute_result"
    }
   ],
   "source": [
    "em1.company_area"
   ]
  },
  {
   "cell_type": "code",
   "execution_count": 10,
   "id": "d7e2095a",
   "metadata": {},
   "outputs": [
    {
     "name": "stdout",
     "output_type": "stream",
     "text": [
      "Employee Name = somnath_sir\n"
     ]
    }
   ],
   "source": [
    "em1.get_empName()"
   ]
  },
  {
   "cell_type": "code",
   "execution_count": 7,
   "id": "9e7c42e7",
   "metadata": {},
   "outputs": [
    {
     "name": "stdout",
     "output_type": "stream",
     "text": [
      "Employee Salary = latur\n"
     ]
    }
   ],
   "source": [
    "em1.get_salary()"
   ]
  },
  {
   "cell_type": "code",
   "execution_count": null,
   "id": "6a505753",
   "metadata": {},
   "outputs": [],
   "source": [
    "super"
   ]
  }
 ],
 "metadata": {
  "kernelspec": {
   "display_name": "Python 3 (ipykernel)",
   "language": "python",
   "name": "python3"
  },
  "language_info": {
   "codemirror_mode": {
    "name": "ipython",
    "version": 3
   },
   "file_extension": ".py",
   "mimetype": "text/x-python",
   "name": "python",
   "nbconvert_exporter": "python",
   "pygments_lexer": "ipython3",
   "version": "3.9.12"
  }
 },
 "nbformat": 4,
 "nbformat_minor": 5
}
