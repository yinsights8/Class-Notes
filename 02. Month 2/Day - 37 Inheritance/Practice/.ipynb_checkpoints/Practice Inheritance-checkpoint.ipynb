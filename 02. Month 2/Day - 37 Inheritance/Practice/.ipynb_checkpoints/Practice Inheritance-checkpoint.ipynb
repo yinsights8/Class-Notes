{
 "cells": [
  {
   "cell_type": "code",
   "execution_count": 7,
   "id": "527401e8",
   "metadata": {},
   "outputs": [],
   "source": [
    "class parent1(): \n",
    "    pass\n",
    "\n",
    "\n",
    "class child1():\n",
    "    pass"
   ]
  },
  {
   "cell_type": "code",
   "execution_count": 8,
   "id": "3b3e1e77",
   "metadata": {},
   "outputs": [],
   "source": [
    "class D1(): # parent class (base class)\n",
    "    pass\n",
    "\n",
    "\n",
    "class D2(D1): # Child class (derived class)\n",
    "    pass"
   ]
  },
  {
   "cell_type": "code",
   "execution_count": null,
   "id": "b8716105",
   "metadata": {},
   "outputs": [],
   "source": []
  },
  {
   "cell_type": "code",
   "execution_count": 55,
   "id": "8df4e0e7",
   "metadata": {},
   "outputs": [
    {
     "name": "stdout",
     "output_type": "stream",
     "text": [
      "I am his parent\n"
     ]
    }
   ],
   "source": [
    "class parent():\n",
    "    print(\"I am his parent\")"
   ]
  },
  {
   "cell_type": "code",
   "execution_count": 56,
   "id": "eac94433",
   "metadata": {},
   "outputs": [
    {
     "name": "stdout",
     "output_type": "stream",
     "text": [
      "i am his child\n"
     ]
    }
   ],
   "source": [
    "class child():\n",
    "    print(\"i am his child\")"
   ]
  },
  {
   "cell_type": "code",
   "execution_count": 4,
   "id": "728542b0",
   "metadata": {},
   "outputs": [],
   "source": [
    "class Parent():\n",
    "    def said(self):\n",
    "        print(\"He is my son\")\n",
    "        \n",
    "class Child():\n",
    "    def call(self):\n",
    "        print(\"he is my dad\")"
   ]
  },
  {
   "cell_type": "code",
   "execution_count": 14,
   "id": "d5d0656f",
   "metadata": {},
   "outputs": [
    {
     "name": "stdout",
     "output_type": "stream",
     "text": [
      "He is my son\n",
      "*********************************************\n",
      "he is my dad\n"
     ]
    }
   ],
   "source": [
    "### Here we are creating a seperate class for perticular instance, \n",
    "## Not inheritace\n",
    "\n",
    "o1 = Parent()\n",
    "o1.said()\n",
    "print(\"*\"*45)\n",
    "o2 = Child()\n",
    "o2.call()"
   ]
  },
  {
   "cell_type": "code",
   "execution_count": null,
   "id": "01aa2f21",
   "metadata": {},
   "outputs": [],
   "source": []
  },
  {
   "cell_type": "code",
   "execution_count": 15,
   "id": "bacb906d",
   "metadata": {},
   "outputs": [],
   "source": [
    "class Parent():\n",
    "    def said(self):\n",
    "        print(\"He is my son\")\n",
    "        \n",
    "class Child(Parent):\n",
    "    def call(self):\n",
    "        print(\"he is my dad\")"
   ]
  },
  {
   "cell_type": "code",
   "execution_count": 18,
   "id": "2fc0c1c7",
   "metadata": {},
   "outputs": [
    {
     "name": "stdout",
     "output_type": "stream",
     "text": [
      "He is my son\n",
      "he is my dad\n"
     ]
    }
   ],
   "source": [
    "## This is called inheritace\n",
    "obj = Child()\n",
    "obj.said()\n",
    "obj.call()"
   ]
  },
  {
   "cell_type": "code",
   "execution_count": null,
   "id": "0c76742a",
   "metadata": {},
   "outputs": [],
   "source": []
  },
  {
   "cell_type": "code",
   "execution_count": null,
   "id": "9a80df93",
   "metadata": {},
   "outputs": [],
   "source": []
  },
  {
   "cell_type": "code",
   "execution_count": 1,
   "id": "680bb06c",
   "metadata": {},
   "outputs": [],
   "source": [
    "class CompanyInfo():\n",
    "    def __init__(self, c_name, c_location):\n",
    "        print(\"Initialising a __init__() in CompanInfo\")\n",
    "        self.c_name = c_name\n",
    "        self.c_location = c_location\n",
    "        \n",
    "    def get_company(self):\n",
    "        print(f\"Company name :- {self.c_name}\")\n",
    "        \n",
    "    def get_location(self):\n",
    "        print(f\"Company location :- {self.c_location}\")"
   ]
  },
  {
   "cell_type": "code",
   "execution_count": 2,
   "id": "b6f31fb4",
   "metadata": {},
   "outputs": [],
   "source": [
    "class EmployeeInfo():\n",
    "    def __init__(self, E_name, E_salary):\n",
    "        print(\"Initialising a __init__() in EmployeeInfo\")\n",
    "        self.E_name = E_name\n",
    "        self.E_salary = E_salary\n",
    "        \n",
    "    def get_e_name(self):\n",
    "        print(f\"Name of employe is :- {self.E_name}\")\n",
    "    \n",
    "    def get_e_salary(self):\n",
    "        print(f\"salary of employe is :- {self.E_salary}\")"
   ]
  },
  {
   "cell_type": "code",
   "execution_count": 3,
   "id": "da583c43",
   "metadata": {},
   "outputs": [
    {
     "name": "stdout",
     "output_type": "stream",
     "text": [
      "Initialising a __init__() in CompanInfo\n",
      "Company name :- microsoft\n",
      "Company location :- USA\n"
     ]
    }
   ],
   "source": [
    "c1 = CompanyInfo(\"microsoft\",\"USA\")\n",
    "c1.get_company()\n",
    "c1.get_location()"
   ]
  },
  {
   "cell_type": "code",
   "execution_count": 4,
   "id": "29840b7a",
   "metadata": {},
   "outputs": [
    {
     "name": "stdout",
     "output_type": "stream",
     "text": [
      "Initialising a __init__() in EmployeeInfo\n",
      "Name of employe is :- yash\n",
      "salary of employe is :- 3000000\n"
     ]
    }
   ],
   "source": [
    "e1 = EmployeeInfo(\"yash\", 3000000)\n",
    "e1.get_e_name()\n",
    "e1.get_e_salary()"
   ]
  },
  {
   "cell_type": "markdown",
   "id": "ee22e257",
   "metadata": {},
   "source": [
    "###### in above cells we are managed to access both the objects by creating two new objects and calling them separatly"
   ]
  },
  {
   "cell_type": "code",
   "execution_count": null,
   "id": "6e61e2f5",
   "metadata": {},
   "outputs": [],
   "source": []
  },
  {
   "cell_type": "code",
   "execution_count": 6,
   "id": "70e1b29b",
   "metadata": {},
   "outputs": [],
   "source": [
    "class CompanyInfo():\n",
    "    def __init__(self, c_name, c_location):\n",
    "        print(\"Initialising a __init__() in CompanInfo\")\n",
    "        self.c_name = c_name\n",
    "        self.c_location = c_location\n",
    "        \n",
    "    def get_company(self):\n",
    "        print(f\"Company name :- {self.c_name}\")\n",
    "        \n",
    "    def get_location(self):\n",
    "        print(f\"Company location :- {self.c_location}\")"
   ]
  },
  {
   "cell_type": "code",
   "execution_count": 14,
   "id": "a181f7fc",
   "metadata": {},
   "outputs": [],
   "source": [
    "class EmployeeInfo(CompanyInfo):\n",
    "    def __init__(self, E_name, E_salary):\n",
    "        print(\"Initialising a __init__() in EmployeeInfo\")\n",
    "        self.E_name = E_name\n",
    "        self.E_salary = E_salary\n",
    "        \n",
    "    def get_e_name(self):\n",
    "        print(f\"Name of employe is :- {self.E_name}\")\n",
    "    \n",
    "    def get_e_salary(self):\n",
    "        print(f\"salary of employe is :- {self.E_salary}\")"
   ]
  },
  {
   "cell_type": "code",
   "execution_count": 15,
   "id": "b68a757e",
   "metadata": {},
   "outputs": [
    {
     "name": "stdout",
     "output_type": "stream",
     "text": [
      "Initialising a __init__() in EmployeeInfo\n",
      "Name of employe is :- Yash\n",
      "salary of employe is :- 3000000\n"
     ]
    }
   ],
   "source": [
    "obj = EmployeeInfo(\"Yash\", 3000000)\n",
    "obj.get_e_name()\n",
    "obj.get_e_salary()"
   ]
  },
  {
   "cell_type": "markdown",
   "id": "55b4c1e5",
   "metadata": {},
   "source": [
    "###### but when we call CompanyInfo mehtods form its class into EmployeeInfo class it will  give us an error"
   ]
  },
  {
   "cell_type": "code",
   "execution_count": 16,
   "id": "06282dfd",
   "metadata": {},
   "outputs": [
    {
     "ename": "AttributeError",
     "evalue": "'EmployeeInfo' object has no attribute 'c_name'",
     "output_type": "error",
     "traceback": [
      "\u001b[1;31m---------------------------------------------------------------------------\u001b[0m",
      "\u001b[1;31mAttributeError\u001b[0m                            Traceback (most recent call last)",
      "Input \u001b[1;32mIn [16]\u001b[0m, in \u001b[0;36m<cell line: 1>\u001b[1;34m()\u001b[0m\n\u001b[1;32m----> 1\u001b[0m \u001b[43mobj\u001b[49m\u001b[38;5;241;43m.\u001b[39;49m\u001b[43mget_company\u001b[49m\u001b[43m(\u001b[49m\u001b[43m)\u001b[49m\n",
      "Input \u001b[1;32mIn [6]\u001b[0m, in \u001b[0;36mCompanyInfo.get_company\u001b[1;34m(self)\u001b[0m\n\u001b[0;32m      7\u001b[0m \u001b[38;5;28;01mdef\u001b[39;00m \u001b[38;5;21mget_company\u001b[39m(\u001b[38;5;28mself\u001b[39m):\n\u001b[1;32m----> 8\u001b[0m     \u001b[38;5;28mprint\u001b[39m(\u001b[38;5;124mf\u001b[39m\u001b[38;5;124m\"\u001b[39m\u001b[38;5;124mCompany name :- \u001b[39m\u001b[38;5;132;01m{\u001b[39;00m\u001b[38;5;28mself\u001b[39m\u001b[38;5;241m.\u001b[39mc_name\u001b[38;5;132;01m}\u001b[39;00m\u001b[38;5;124m\"\u001b[39m)\n",
      "\u001b[1;31mAttributeError\u001b[0m: 'EmployeeInfo' object has no attribute 'c_name'"
     ]
    }
   ],
   "source": [
    "obj.get_company()"
   ]
  },
  {
   "cell_type": "code",
   "execution_count": 17,
   "id": "b4f7e2e7",
   "metadata": {},
   "outputs": [
    {
     "ename": "AttributeError",
     "evalue": "'EmployeeInfo' object has no attribute 'c_location'",
     "output_type": "error",
     "traceback": [
      "\u001b[1;31m---------------------------------------------------------------------------\u001b[0m",
      "\u001b[1;31mAttributeError\u001b[0m                            Traceback (most recent call last)",
      "Input \u001b[1;32mIn [17]\u001b[0m, in \u001b[0;36m<cell line: 1>\u001b[1;34m()\u001b[0m\n\u001b[1;32m----> 1\u001b[0m \u001b[43mobj\u001b[49m\u001b[38;5;241;43m.\u001b[39;49m\u001b[43mget_location\u001b[49m\u001b[43m(\u001b[49m\u001b[43m)\u001b[49m\n",
      "Input \u001b[1;32mIn [6]\u001b[0m, in \u001b[0;36mCompanyInfo.get_location\u001b[1;34m(self)\u001b[0m\n\u001b[0;32m     10\u001b[0m \u001b[38;5;28;01mdef\u001b[39;00m \u001b[38;5;21mget_location\u001b[39m(\u001b[38;5;28mself\u001b[39m):\n\u001b[1;32m---> 11\u001b[0m     \u001b[38;5;28mprint\u001b[39m(\u001b[38;5;124mf\u001b[39m\u001b[38;5;124m\"\u001b[39m\u001b[38;5;124mCompany location :- \u001b[39m\u001b[38;5;132;01m{\u001b[39;00m\u001b[38;5;28mself\u001b[39m\u001b[38;5;241m.\u001b[39mc_location\u001b[38;5;132;01m}\u001b[39;00m\u001b[38;5;124m\"\u001b[39m)\n",
      "\u001b[1;31mAttributeError\u001b[0m: 'EmployeeInfo' object has no attribute 'c_location'"
     ]
    }
   ],
   "source": [
    "obj.get_location()"
   ]
  },
  {
   "cell_type": "code",
   "execution_count": null,
   "id": "70762a13",
   "metadata": {},
   "outputs": [],
   "source": [
    "##### in this situation we have to initialise parent attributs inside of child class"
   ]
  },
  {
   "cell_type": "code",
   "execution_count": 18,
   "id": "2ee92924",
   "metadata": {},
   "outputs": [],
   "source": [
    "class CompanyInfo():\n",
    "    def __init__(self, c_name, c_location):\n",
    "        print(\"Initialising a __init__() in CompanInfo\")\n",
    "        self.c_name = c_name\n",
    "        self.c_location = c_location\n",
    "        \n",
    "    def get_company(self):\n",
    "        print(f\"Company name :- {self.c_name}\")\n",
    "        \n",
    "    def get_location(self):\n",
    "        print(f\"Company location :- {self.c_location}\")"
   ]
  },
  {
   "cell_type": "code",
   "execution_count": 31,
   "id": "6d59ca7b",
   "metadata": {},
   "outputs": [],
   "source": [
    "class EmployeeInfo(CompanyInfo):\n",
    "    def __init__(self, E_name, E_salary):\n",
    "        print(\"Initialising a __init__() in EmployeeInfo\")\n",
    "        CompanyInfo.__init__(self, \"Google\", \"USA\")  #-------->>>>> this is the change <<<<<---------\n",
    "        self.E_name = E_name\n",
    "        self.E_salary = E_salary\n",
    "        \n",
    "    def get_e_name(self):\n",
    "        print(f\"Name of employe is :- {self.E_name}\")\n",
    "    \n",
    "    def get_e_salary(self):\n",
    "        print(f\"salary of employe is :- {self.E_salary}\")"
   ]
  },
  {
   "cell_type": "code",
   "execution_count": 32,
   "id": "19cbfa73",
   "metadata": {},
   "outputs": [
    {
     "name": "stdout",
     "output_type": "stream",
     "text": [
      "Initialising a __init__() in EmployeeInfo\n",
      "Initialising a __init__() in CompanInfo\n",
      "Company name :- Google\n",
      "Company location :- USA\n",
      "Name of employe is :- Kunal\n",
      "salary of employe is :- 2000000\n"
     ]
    }
   ],
   "source": [
    "ce1 = EmployeeInfo(\"Kunal\", 2000000)\n",
    "ce1.get_company()\n",
    "ce1.get_location()\n",
    "\n",
    "ce1.get_e_name()\n",
    "ce1.get_e_salary()"
   ]
  },
  {
   "cell_type": "code",
   "execution_count": 57,
   "id": "c50bcf58",
   "metadata": {},
   "outputs": [],
   "source": [
    "class CompanyInfo():\n",
    "    \n",
    "    company_area = \"Magarpatta\"\n",
    "    \n",
    "    def __init__(self, c_name, c_location):\n",
    "        print(\"Initialising a __init__() in CompanInfo\")\n",
    "        self.c_name = c_name\n",
    "        self.c_location = c_location\n",
    "        \n",
    "    def get_company(self):\n",
    "        print(f\"Company name :- {self.c_name}\")\n",
    "        \n",
    "    def get_location(self):\n",
    "        print(f\"Company location :- {self.c_location}\")\n",
    "\n",
    "#------------------------------------>>>>>>>>>      <<<<<<<<<------------------------------------------#\n",
    "        \n",
    "class EmployeeInfo(CompanyInfo):\n",
    "    def __init__(self, E_name, E_salary, c_name, c_location):\n",
    "        print(\"Initialising a __init__() in EmployeeInfo\")\n",
    "        CompanyInfo.__init__(self, c_name, c_location)  #-------->>>>> this is the change <<<<<---------\n",
    "        self.E_name = E_name\n",
    "        self.E_salary = E_salary\n",
    "        \n",
    "    def get_e_name(self):\n",
    "        print(f\"Name of employe is :- {self.E_name}\")\n",
    "    \n",
    "    def get_e_salary(self):\n",
    "        print(f\"salary of employe is :- {self.E_salary}\")"
   ]
  },
  {
   "cell_type": "code",
   "execution_count": 60,
   "id": "bca274db",
   "metadata": {},
   "outputs": [
    {
     "name": "stdout",
     "output_type": "stream",
     "text": [
      "Initialising a __init__() in EmployeeInfo\n",
      "Initialising a __init__() in CompanInfo\n",
      "salary of employe is :- 5000000\n",
      "Name of employe is :- yash\n",
      "Company name :- Microsoft\n",
      "Company location :- UK\n"
     ]
    },
    {
     "data": {
      "text/plain": [
       "'Magarpatta'"
      ]
     },
     "execution_count": 60,
     "metadata": {},
     "output_type": "execute_result"
    }
   ],
   "source": [
    "emp1 = EmployeeInfo(\"yash\", 5000000, \"Microsoft\", \"UK\")\n",
    "emp1.get_e_salary()\n",
    "emp1.get_e_name()\n",
    "\n",
    "emp1.get_company()\n",
    "emp1.get_location()\n",
    "emp1.company_area     # This is a class variable, so there is not need to use ()"
   ]
  },
  {
   "cell_type": "markdown",
   "id": "6be92ae6",
   "metadata": {},
   "source": [
    "###  Hotels"
   ]
  },
  {
   "cell_type": "code",
   "execution_count": 8,
   "id": "eaa8094e",
   "metadata": {},
   "outputs": [],
   "source": [
    "class FiveStar():\n",
    "    def __init__(self, H_Name, H_location, H_Owner):\n",
    "        print(\"FiveStar __init__() Method\")\n",
    "        self.H_Name = H_Name\n",
    "        self.H_location = H_location\n",
    "        self.H_Owner = H_Owner\n",
    "    \n",
    "    def Get_Hotel_Name(self):\n",
    "        print(f\"Hotel Name :- {self.H_Name}\")\n",
    "        \n",
    "    def Get_Location(self):\n",
    "        print(f\"Location of Hotel is:- {self.H_location}\")\n",
    "        \n",
    "    def Get_Owner(self):\n",
    "        print(f\"Owmer name :- {self.H_Owner}\")\n",
    "        \n",
    "\n",
    "        \n",
    "\n",
    "        \n",
    "class HotelStaff(FiveStar):\n",
    "    raise_pay = 5\n",
    "    def __init__(self, position, salary, H_Name, H_location, H_Owner):\n",
    "#         print(\"HotelSatff __init__() Method\")\n",
    "        FiveStar.__init__(self, H_Name, H_location, H_Owner)\n",
    "        \n",
    "        self.position = position\n",
    "        self.salary = salary\n",
    "    \n",
    "    def get_position(self):\n",
    "        print(f\"Positon is :- {self.position}\")\n",
    "        \n",
    "    def get_salary(self):\n",
    "        print(f\"salary :- {self.salary}\")\n",
    "        \n",
    "    def raise_salary(self):\n",
    "        self.salary = self.salary * HotelStaff.salary"
   ]
  },
  {
   "cell_type": "code",
   "execution_count": 9,
   "id": "a82f5bea",
   "metadata": {},
   "outputs": [
    {
     "name": "stdout",
     "output_type": "stream",
     "text": [
      "FiveStar __init__() Method\n"
     ]
    }
   ],
   "source": [
    "H1 = HotelStaff(\"manager\", 2000000, \"Taj Hotel\", \"Mumbai\", \"Ratan TATA\")"
   ]
  },
  {
   "cell_type": "code",
   "execution_count": 10,
   "id": "06a0de01",
   "metadata": {},
   "outputs": [
    {
     "name": "stdout",
     "output_type": "stream",
     "text": [
      "Positon is :- manager\n"
     ]
    }
   ],
   "source": [
    "H1.get_position()"
   ]
  },
  {
   "cell_type": "code",
   "execution_count": 11,
   "id": "1391f46c",
   "metadata": {},
   "outputs": [
    {
     "name": "stdout",
     "output_type": "stream",
     "text": [
      "salary :- 2000000\n"
     ]
    }
   ],
   "source": [
    "H1.get_salary()"
   ]
  },
  {
   "cell_type": "code",
   "execution_count": 12,
   "id": "a9424280",
   "metadata": {},
   "outputs": [
    {
     "name": "stdout",
     "output_type": "stream",
     "text": [
      "Hotel Name :- Taj Hotel\n"
     ]
    }
   ],
   "source": [
    "H1.Get_Hotel_Name()"
   ]
  },
  {
   "cell_type": "code",
   "execution_count": 13,
   "id": "92cb6674",
   "metadata": {},
   "outputs": [
    {
     "name": "stdout",
     "output_type": "stream",
     "text": [
      "Location of Hotel is:- Mumbai\n"
     ]
    }
   ],
   "source": [
    "H1.Get_Location()"
   ]
  },
  {
   "cell_type": "code",
   "execution_count": 14,
   "id": "f72f1bba",
   "metadata": {},
   "outputs": [
    {
     "name": "stdout",
     "output_type": "stream",
     "text": [
      "Owmer name :- Ratan TATA\n"
     ]
    }
   ],
   "source": [
    "H1.Get_Owner()"
   ]
  },
  {
   "cell_type": "code",
   "execution_count": null,
   "id": "f5a82586",
   "metadata": {},
   "outputs": [],
   "source": []
  },
  {
   "cell_type": "code",
   "execution_count": null,
   "id": "ae1b63b2",
   "metadata": {},
   "outputs": [],
   "source": []
  },
  {
   "cell_type": "code",
   "execution_count": null,
   "id": "2220d376",
   "metadata": {},
   "outputs": [],
   "source": []
  },
  {
   "cell_type": "code",
   "execution_count": null,
   "id": "60df6255",
   "metadata": {},
   "outputs": [],
   "source": []
  }
 ],
 "metadata": {
  "kernelspec": {
   "display_name": "Python 3 (ipykernel)",
   "language": "python",
   "name": "python3"
  },
  "language_info": {
   "codemirror_mode": {
    "name": "ipython",
    "version": 3
   },
   "file_extension": ".py",
   "mimetype": "text/x-python",
   "name": "python",
   "nbconvert_exporter": "python",
   "pygments_lexer": "ipython3",
   "version": "3.9.12"
  }
 },
 "nbformat": 4,
 "nbformat_minor": 5
}
