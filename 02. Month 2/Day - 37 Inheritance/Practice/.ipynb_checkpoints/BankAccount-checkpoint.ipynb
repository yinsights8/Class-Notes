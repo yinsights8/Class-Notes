{
 "cells": [
  {
   "cell_type": "code",
   "execution_count": 31,
   "id": "f47896de",
   "metadata": {},
   "outputs": [],
   "source": [
    "class Account():\n",
    "    \n",
    "    def __init__(self, owner, balance):\n",
    "        self.owner = owner\n",
    "        self.balance = balance\n",
    "    \n",
    "    def __str__(self):\n",
    "        return f\"Account Owner: {self.owner} \\nAccount Balance: {self.balance}\"\n",
    "\n",
    "    def deposit(self,mony_dep):\n",
    "        self.balance += mony_dep\n",
    "        print(\"Deposit accepted\")\n",
    "        \n",
    "        \n",
    "    def withdraw(self,mony_wid):\n",
    "        if self.balance >= mony_wid:\n",
    "            self.balance -= mony_wid\n",
    "        else:\n",
    "            print(\"funds not avilable\")"
   ]
  },
  {
   "cell_type": "code",
   "execution_count": 32,
   "id": "97fe270f",
   "metadata": {},
   "outputs": [
    {
     "name": "stdout",
     "output_type": "stream",
     "text": [
      "Account Owner: yash \n",
      "Account Balance: 100\n"
     ]
    }
   ],
   "source": [
    "acc1 = Account(\"yash\", 100)\n",
    "print(acc1)"
   ]
  },
  {
   "cell_type": "code",
   "execution_count": 33,
   "id": "803ac7d4",
   "metadata": {},
   "outputs": [
    {
     "data": {
      "text/plain": [
       "'yash'"
      ]
     },
     "execution_count": 33,
     "metadata": {},
     "output_type": "execute_result"
    }
   ],
   "source": [
    "acc1.owner"
   ]
  },
  {
   "cell_type": "code",
   "execution_count": 34,
   "id": "47df1b78",
   "metadata": {},
   "outputs": [
    {
     "data": {
      "text/plain": [
       "100"
      ]
     },
     "execution_count": 34,
     "metadata": {},
     "output_type": "execute_result"
    }
   ],
   "source": [
    "acc1.balance"
   ]
  },
  {
   "cell_type": "code",
   "execution_count": 35,
   "id": "5c4a39a6",
   "metadata": {},
   "outputs": [
    {
     "name": "stdout",
     "output_type": "stream",
     "text": [
      "Deposit accepted\n"
     ]
    }
   ],
   "source": [
    "acc1.deposit(50)"
   ]
  },
  {
   "cell_type": "code",
   "execution_count": 36,
   "id": "d2cb62de",
   "metadata": {},
   "outputs": [
    {
     "data": {
      "text/plain": [
       "150"
      ]
     },
     "execution_count": 36,
     "metadata": {},
     "output_type": "execute_result"
    }
   ],
   "source": [
    "acc1.balance"
   ]
  },
  {
   "cell_type": "code",
   "execution_count": 37,
   "id": "68a9ed43",
   "metadata": {},
   "outputs": [],
   "source": [
    "acc1.withdraw(20)"
   ]
  },
  {
   "cell_type": "code",
   "execution_count": 38,
   "id": "5a62e058",
   "metadata": {},
   "outputs": [
    {
     "name": "stdout",
     "output_type": "stream",
     "text": [
      "Account Owner: yash \n",
      "Account Balance: 130\n"
     ]
    }
   ],
   "source": [
    "print(acc1)"
   ]
  },
  {
   "cell_type": "code",
   "execution_count": 39,
   "id": "aaea234b",
   "metadata": {},
   "outputs": [
    {
     "name": "stdout",
     "output_type": "stream",
     "text": [
      "funds not avilable\n"
     ]
    }
   ],
   "source": [
    "acc1.withdraw(200)"
   ]
  },
  {
   "cell_type": "code",
   "execution_count": null,
   "id": "11a41155",
   "metadata": {},
   "outputs": [],
   "source": []
  }
 ],
 "metadata": {
  "kernelspec": {
   "display_name": "Python 3 (ipykernel)",
   "language": "python",
   "name": "python3"
  },
  "language_info": {
   "codemirror_mode": {
    "name": "ipython",
    "version": 3
   },
   "file_extension": ".py",
   "mimetype": "text/x-python",
   "name": "python",
   "nbconvert_exporter": "python",
   "pygments_lexer": "ipython3",
   "version": "3.10.8"
  }
 },
 "nbformat": 4,
 "nbformat_minor": 5
}
