{
 "cells": [
  {
   "cell_type": "markdown",
   "id": "bb6956a7",
   "metadata": {},
   "source": [
    "### Problem 1\n",
    "Fill in the Line class methods to accept coordinates as a pair of tuples and return the slope and distance of the line."
   ]
  },
  {
   "cell_type": "code",
   "execution_count": 2,
   "id": "630e3071",
   "metadata": {},
   "outputs": [],
   "source": [
    "class Line:\n",
    "    def __init__(self,coor1,coor2):\n",
    "        self.coor1 = coor1\n",
    "        self.coor2 = coor2\n",
    "    \n",
    "    def distance(self):\n",
    "        x1,y1 = self.coor1\n",
    "        x2,y2 = self.coor2\n",
    "        return ((x2-x1)**2 + (y2-y1)**2)**0.5\n",
    "    \n",
    "    def slope(self):\n",
    "        x1,y1 = self.coor1\n",
    "        x2,y2 = self.coor2\n",
    "        return (x2-x1)/(y2-y1)"
   ]
  },
  {
   "cell_type": "code",
   "execution_count": 8,
   "id": "220ad096",
   "metadata": {},
   "outputs": [
    {
     "data": {
      "text/plain": [
       "4.242640687119285"
      ]
     },
     "execution_count": 8,
     "metadata": {},
     "output_type": "execute_result"
    }
   ],
   "source": [
    "s_line = Line((4,5), (7,8))\n",
    "s_line.distance()"
   ]
  },
  {
   "cell_type": "code",
   "execution_count": 7,
   "id": "954aa7f2",
   "metadata": {},
   "outputs": [
    {
     "data": {
      "text/plain": [
       "1.0"
      ]
     },
     "execution_count": 7,
     "metadata": {},
     "output_type": "execute_result"
    }
   ],
   "source": [
    "s_line.slope()"
   ]
  },
  {
   "cell_type": "markdown",
   "id": "e91ad710",
   "metadata": {},
   "source": [
    "### Problem 2\n",
    "Fill in the class"
   ]
  },
  {
   "cell_type": "code",
   "execution_count": 12,
   "id": "517036a4",
   "metadata": {},
   "outputs": [],
   "source": [
    "class Cylinder:\n",
    "    Pi = 3.14\n",
    "    def __init__(self,height=1,radius=1):\n",
    "        self.height = height\n",
    "        self.radius = radius\n",
    "        \n",
    "    def volume(self):\n",
    "        return Cylinder.Pi * self.radius**2 * self.height\n",
    "    \n",
    "    def surface_area(self):\n",
    "        return 2 * Cylinder.Pi * self.radius * self.height + 2 * Cylinder.Pi * self.radius **2"
   ]
  },
  {
   "cell_type": "code",
   "execution_count": 28,
   "id": "93afd77c",
   "metadata": {},
   "outputs": [],
   "source": [
    "Cylinder.Pi = 1.34"
   ]
  },
  {
   "cell_type": "code",
   "execution_count": 29,
   "id": "7428dc43",
   "metadata": {},
   "outputs": [],
   "source": [
    "result = Cylinder()"
   ]
  },
  {
   "cell_type": "code",
   "execution_count": 30,
   "id": "52a9ba6c",
   "metadata": {},
   "outputs": [
    {
     "data": {
      "text/plain": [
       "1.34"
      ]
     },
     "execution_count": 30,
     "metadata": {},
     "output_type": "execute_result"
    }
   ],
   "source": [
    "result.volume()"
   ]
  },
  {
   "cell_type": "code",
   "execution_count": 31,
   "id": "00ecb72d",
   "metadata": {},
   "outputs": [
    {
     "data": {
      "text/plain": [
       "1.34"
      ]
     },
     "execution_count": 31,
     "metadata": {},
     "output_type": "execute_result"
    }
   ],
   "source": [
    "result.volume()"
   ]
  },
  {
   "cell_type": "code",
   "execution_count": 32,
   "id": "01e9ccc5",
   "metadata": {},
   "outputs": [
    {
     "name": "stdout",
     "output_type": "stream",
     "text": [
      "1.34\n"
     ]
    },
    {
     "data": {
      "text/plain": [
       "201.0"
      ]
     },
     "execution_count": 32,
     "metadata": {},
     "output_type": "execute_result"
    }
   ],
   "source": [
    "print(result2.Pi)\n",
    "\n",
    "result2 = Cylinder(6,5)\n",
    "result2.surface_area()\n",
    "result2.volume()"
   ]
  },
  {
   "cell_type": "code",
   "execution_count": null,
   "id": "b0292b68",
   "metadata": {},
   "outputs": [],
   "source": []
  },
  {
   "cell_type": "code",
   "execution_count": 18,
   "id": "1117df6a",
   "metadata": {},
   "outputs": [],
   "source": [
    "class Cylinder:\n",
    "    Pi = 3.14\n",
    "    def __init__(self,height=1,radius=1):\n",
    "        self.height = height\n",
    "        self.radius = radius\n",
    "        \n",
    "    def volume(self):\n",
    "        return self.Pi * self.radius**2 * self.height\n",
    "    \n",
    "    def surface_area(self):\n",
    "        return 2 * self.Pi * self.radius * self.height + 2 * self.Pi * self.radius **2"
   ]
  },
  {
   "cell_type": "code",
   "execution_count": 19,
   "id": "08c600bb",
   "metadata": {},
   "outputs": [],
   "source": [
    "Cylinder.pi = 2.14"
   ]
  },
  {
   "cell_type": "code",
   "execution_count": 20,
   "id": "d9bd6d1d",
   "metadata": {},
   "outputs": [
    {
     "name": "stdout",
     "output_type": "stream",
     "text": [
      "3.14\n"
     ]
    },
    {
     "data": {
      "text/plain": [
       "345.4"
      ]
     },
     "execution_count": 20,
     "metadata": {},
     "output_type": "execute_result"
    }
   ],
   "source": [
    "r1 = Cylinder(height=6, radius=5)\n",
    "\n",
    "print(Cylinder.Pi)\n",
    "r1.surface_area()"
   ]
  },
  {
   "cell_type": "code",
   "execution_count": 21,
   "id": "1e5e4e0d",
   "metadata": {},
   "outputs": [
    {
     "data": {
      "text/plain": [
       "471.0"
      ]
     },
     "execution_count": 21,
     "metadata": {},
     "output_type": "execute_result"
    }
   ],
   "source": [
    "r1.volume()"
   ]
  },
  {
   "cell_type": "code",
   "execution_count": 22,
   "id": "63d744b8",
   "metadata": {},
   "outputs": [
    {
     "name": "stdout",
     "output_type": "stream",
     "text": [
      "3.14\n"
     ]
    },
    {
     "data": {
      "text/plain": [
       "94.2"
      ]
     },
     "execution_count": 22,
     "metadata": {},
     "output_type": "execute_result"
    }
   ],
   "source": [
    "r2 = Cylinder(height=2, radius=3)\n",
    "print(Cylinder.Pi)\n",
    "\n",
    "r2.surface_area()\n"
   ]
  },
  {
   "cell_type": "code",
   "execution_count": 23,
   "id": "a25001d6",
   "metadata": {},
   "outputs": [
    {
     "data": {
      "text/plain": [
       "56.52"
      ]
     },
     "execution_count": 23,
     "metadata": {},
     "output_type": "execute_result"
    }
   ],
   "source": [
    "r2.volume()"
   ]
  },
  {
   "cell_type": "code",
   "execution_count": null,
   "id": "fbb75441",
   "metadata": {},
   "outputs": [],
   "source": []
  },
  {
   "cell_type": "code",
   "execution_count": null,
   "id": "b6cbc694",
   "metadata": {},
   "outputs": [],
   "source": []
  }
 ],
 "metadata": {
  "kernelspec": {
   "display_name": "Python 3 (ipykernel)",
   "language": "python",
   "name": "python3"
  },
  "language_info": {
   "codemirror_mode": {
    "name": "ipython",
    "version": 3
   },
   "file_extension": ".py",
   "mimetype": "text/x-python",
   "name": "python",
   "nbconvert_exporter": "python",
   "pygments_lexer": "ipython3",
   "version": "3.9.12"
  }
 },
 "nbformat": 4,
 "nbformat_minor": 5
}
