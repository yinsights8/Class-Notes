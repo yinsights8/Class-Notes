{
 "cells": [
  {
   "cell_type": "code",
   "execution_count": 16,
   "id": "83183f95",
   "metadata": {},
   "outputs": [
    {
     "name": "stdout",
     "output_type": "stream",
     "text": [
      "I am a child\n"
     ]
    }
   ],
   "source": [
    "class parent():\n",
    "    def name(self):\n",
    "        print(\"I am a parent\")\n",
    "\n",
    "class child():\n",
    "    print(\"I am a child\")"
   ]
  },
  {
   "cell_type": "code",
   "execution_count": 19,
   "id": "157c84e0",
   "metadata": {},
   "outputs": [
    {
     "name": "stdout",
     "output_type": "stream",
     "text": [
      "I am a parent\n"
     ]
    }
   ],
   "source": [
    "p = parent()\n",
    "p.name()\n",
    "\n",
    "p2 = child()"
   ]
  },
  {
   "cell_type": "code",
   "execution_count": null,
   "id": "08685222",
   "metadata": {},
   "outputs": [],
   "source": []
  },
  {
   "cell_type": "code",
   "execution_count": null,
   "id": "efcb1934",
   "metadata": {},
   "outputs": [],
   "source": []
  },
  {
   "cell_type": "code",
   "execution_count": 14,
   "id": "6f88b808",
   "metadata": {},
   "outputs": [],
   "source": [
    "class parent():\n",
    "    def __init__(self):\n",
    "        print(\"from parent __init()__\")\n",
    "        \n",
    "class child():\n",
    "    def __init__(self):\n",
    "        print(\"from parent __init()__\")"
   ]
  },
  {
   "cell_type": "code",
   "execution_count": null,
   "id": "4c75489a",
   "metadata": {},
   "outputs": [],
   "source": []
  }
 ],
 "metadata": {
  "kernelspec": {
   "display_name": "Python 3 (ipykernel)",
   "language": "python",
   "name": "python3"
  },
  "language_info": {
   "codemirror_mode": {
    "name": "ipython",
    "version": 3
   },
   "file_extension": ".py",
   "mimetype": "text/x-python",
   "name": "python",
   "nbconvert_exporter": "python",
   "pygments_lexer": "ipython3",
   "version": "3.9.12"
  }
 },
 "nbformat": 4,
 "nbformat_minor": 5
}
