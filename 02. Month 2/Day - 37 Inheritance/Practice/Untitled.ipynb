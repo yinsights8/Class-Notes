{
 "cells": [
  {
   "cell_type": "code",
   "execution_count": 14,
   "id": "62e91c17",
   "metadata": {},
   "outputs": [],
   "source": [
    "class CompanyInfo:\n",
    "    def __init__(self, cname, location):\n",
    "        self.cname = cname\n",
    "        self.location = location\n",
    "        \n",
    "    def get_company(self):\n",
    "        return f\"I work in {self.cname} company\"\n",
    "    def get_location(self):\n",
    "        return f\"it is situated in {self.location}\"\n",
    "    \n",
    "class Employee(CompanyInfo):\n",
    "    def __init__(self, fname, lname,cname, location):\n",
    "        CompanyInfo.__init__(self, cname, location)\n",
    "        self.fname = fname\n",
    "        self.lname = lname\n",
    "        \n",
    "    def empname(self):\n",
    "        return f\"myself {self.fname} {self.lname} \""
   ]
  },
  {
   "cell_type": "code",
   "execution_count": 18,
   "id": "1f2bba73",
   "metadata": {},
   "outputs": [
    {
     "data": {
      "text/plain": [
       "'myself yash dhakade '"
      ]
     },
     "execution_count": 18,
     "metadata": {},
     "output_type": "execute_result"
    }
   ],
   "source": [
    "emp = Employee(\"yash\", \"dhakade\", \"Google\", \"mumbai\")\n",
    "emp.empname()"
   ]
  },
  {
   "cell_type": "code",
   "execution_count": 19,
   "id": "96b3f9d2",
   "metadata": {},
   "outputs": [
    {
     "data": {
      "text/plain": [
       "'I work in Google company'"
      ]
     },
     "execution_count": 19,
     "metadata": {},
     "output_type": "execute_result"
    }
   ],
   "source": [
    "emp.get_company()"
   ]
  },
  {
   "cell_type": "code",
   "execution_count": null,
   "id": "686214c4",
   "metadata": {},
   "outputs": [],
   "source": []
  },
  {
   "cell_type": "code",
   "execution_count": null,
   "id": "7287164a",
   "metadata": {},
   "outputs": [],
   "source": []
  }
 ],
 "metadata": {
  "kernelspec": {
   "display_name": "Python 3 (ipykernel)",
   "language": "python",
   "name": "python3"
  },
  "language_info": {
   "codemirror_mode": {
    "name": "ipython",
    "version": 3
   },
   "file_extension": ".py",
   "mimetype": "text/x-python",
   "name": "python",
   "nbconvert_exporter": "python",
   "pygments_lexer": "ipython3",
   "version": "3.10.8"
  }
 },
 "nbformat": 4,
 "nbformat_minor": 5
}
