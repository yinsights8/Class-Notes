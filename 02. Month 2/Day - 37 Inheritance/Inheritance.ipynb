{
 "cells": [
  {
   "cell_type": "markdown",
   "id": "0819118b",
   "metadata": {},
   "source": [
    "# Four fundamental concepts in Oops\n",
    "- 1. Inheritance\n",
    "- 2. Encapsulation\n",
    "- 3. Polymorphism\n",
    "- 4. Abstraction"
   ]
  },
  {
   "cell_type": "markdown",
   "id": "86eb4e5d",
   "metadata": {},
   "source": [
    "# 1. Inheritance\n",
    "- It Allows a class to inherit the properties from other class\n",
    "- Properties - Variables and Methods\n",
    "    - Parent Class(Base Class)-Superclass\n",
    "    - Child Class(Derived Class)-Subclass\n",
    "- Parent Class - Is the class being inherited from \n",
    "- Child Class - is the class that inherits from the other class"
   ]
  },
  {
   "cell_type": "markdown",
   "id": "4025660c",
   "metadata": {},
   "source": [
    "# Types of Inheritance\n",
    "- 1. Single Inheritance\n",
    "- 2. Multiple Inheritance\n",
    "- 3. Multilevel Inheritance\n",
    "- 4. Hirarchical Inheritance\n",
    "- 5. Hybrid Inheritance"
   ]
  },
  {
   "cell_type": "code",
   "execution_count": 3,
   "id": "ad3ba4ae",
   "metadata": {},
   "outputs": [],
   "source": [
    "class Dclass1():\n",
    "    pass\n",
    "\n",
    "class Dclass2():\n",
    "    pass\n",
    "\n",
    "obj1 = Dclass1()\n",
    "obj2 = Dclass2()"
   ]
  },
  {
   "cell_type": "code",
   "execution_count": 5,
   "id": "7340a0d0",
   "metadata": {},
   "outputs": [],
   "source": [
    "class Dclass1():\n",
    "    pass\n",
    "\n",
    "class Dclass2(Dclass1):\n",
    "    pass\n",
    "\n",
    "obj1 = Dclass1() # Only Dummy Class 1\n",
    "obj2 = Dclass2() # Both Classes"
   ]
  },
  {
   "cell_type": "code",
   "execution_count": 4,
   "id": "d1dd2839",
   "metadata": {},
   "outputs": [
    {
     "name": "stdout",
     "output_type": "stream",
     "text": [
      "In the parent class\n",
      "In the child class\n"
     ]
    }
   ],
   "source": [
    "class Parent():\n",
    "    print(\"In the parent class\")\n",
    "    \n",
    "class Child():\n",
    "    print(\"In the child class\")\n",
    "    \n",
    "o1 = Parent()\n",
    "o2 = Child()"
   ]
  },
  {
   "cell_type": "code",
   "execution_count": 8,
   "id": "383a6cf2",
   "metadata": {},
   "outputs": [],
   "source": [
    "o3 = Parent()"
   ]
  },
  {
   "cell_type": "code",
   "execution_count": 9,
   "id": "f34726f6",
   "metadata": {},
   "outputs": [],
   "source": [
    "o4 = Child()"
   ]
  },
  {
   "cell_type": "code",
   "execution_count": 6,
   "id": "0460709e",
   "metadata": {},
   "outputs": [
    {
     "name": "stdout",
     "output_type": "stream",
     "text": [
      "In the parent class\n",
      "In the child class\n"
     ]
    }
   ],
   "source": [
    "class Parent():\n",
    "    print(\"In the parent class\")\n",
    "    \n",
    "class Child(Parent):\n",
    "    print(\"In the child class\")\n",
    "    \n",
    "obj1 = Child()"
   ]
  },
  {
   "cell_type": "code",
   "execution_count": 1,
   "id": "013f6eb9",
   "metadata": {},
   "outputs": [
    {
     "name": "stdout",
     "output_type": "stream",
     "text": [
      "In the parent class\n",
      "In the child class\n"
     ]
    }
   ],
   "source": [
    "class Base():\n",
    "    print(\"In the parent class\")\n",
    "    \n",
    "class Derived(Base):\n",
    "    print(\"In the child class\")\n",
    "    \n",
    "obj1 = Derived()"
   ]
  },
  {
   "cell_type": "code",
   "execution_count": 2,
   "id": "dee38d78",
   "metadata": {},
   "outputs": [],
   "source": [
    "class CompanyInfo():\n",
    "    def __init__(self,company_name, location):\n",
    "        print(\"Company Information __init__ method\")\n",
    "        self.company_name = company_name\n",
    "        self.location = location\n",
    "        \n",
    "    def get_companyName(self):\n",
    "        print(\"Company Name = \",self.company_name)\n",
    "        \n",
    "    def get_companyLocation(self):\n",
    "        print(\"Company Location = \",self.location)"
   ]
  },
  {
   "cell_type": "code",
   "execution_count": 3,
   "id": "97700f31",
   "metadata": {},
   "outputs": [],
   "source": [
    "class EmployeeInfo():\n",
    "    def __init__(self,emp_name, salary):\n",
    "        print(\"Employee Information __init__ method\")\n",
    "        self.emp_name = emp_name\n",
    "        self.salary = salary\n",
    "        \n",
    "    def get_empName(self):\n",
    "        print(f\"Employee Name = {self.emp_name}\")\n",
    "        \n",
    "    def get_salary(self):\n",
    "        print(f\"Employee Salary = {self.salary}\")"
   ]
  },
  {
   "cell_type": "code",
   "execution_count": 4,
   "id": "0bd987dc",
   "metadata": {},
   "outputs": [
    {
     "name": "stdout",
     "output_type": "stream",
     "text": [
      "Company Information __init__ method\n"
     ]
    }
   ],
   "source": [
    "c1 = CompanyInfo(\"TCS\",\"Pune\")"
   ]
  },
  {
   "cell_type": "code",
   "execution_count": 5,
   "id": "8e0decb0",
   "metadata": {},
   "outputs": [
    {
     "data": {
      "text/plain": [
       "'TCS'"
      ]
     },
     "execution_count": 5,
     "metadata": {},
     "output_type": "execute_result"
    }
   ],
   "source": [
    "c1.company_name"
   ]
  },
  {
   "cell_type": "code",
   "execution_count": 6,
   "id": "8ff09437",
   "metadata": {},
   "outputs": [
    {
     "data": {
      "text/plain": [
       "'Pune'"
      ]
     },
     "execution_count": 6,
     "metadata": {},
     "output_type": "execute_result"
    }
   ],
   "source": [
    "c1.location"
   ]
  },
  {
   "cell_type": "code",
   "execution_count": 7,
   "id": "3b2672e3",
   "metadata": {},
   "outputs": [
    {
     "name": "stdout",
     "output_type": "stream",
     "text": [
      "Company Information __init__ method\n",
      "Company Name =  Infosys\n",
      "Company Location =  Mumbai\n",
      "*********************************************\n",
      "Company Information __init__ method\n",
      "Company Name =  Wipro\n",
      "Company Location =  Pune\n"
     ]
    }
   ],
   "source": [
    "c1 = CompanyInfo(\"Infosys\",\"Mumbai\")\n",
    "c1.get_companyName()\n",
    "c1.get_companyLocation()\n",
    "\n",
    "print(\"*\"*45)\n",
    "\n",
    "c2 = CompanyInfo(\"Wipro\",\"Pune\")\n",
    "c2.get_companyName()\n",
    "c2.get_companyLocation()\n"
   ]
  },
  {
   "cell_type": "code",
   "execution_count": 9,
   "id": "4926a976",
   "metadata": {},
   "outputs": [
    {
     "name": "stdout",
     "output_type": "stream",
     "text": [
      "Employee Information __init__ method\n",
      "Employee Name = Yash\n",
      "Employee Salary = 1500000\n",
      "*********************************************\n",
      "Employee Information __init__ method\n",
      "Employee Name = Amar\n",
      "Employee Salary = 2000000\n"
     ]
    }
   ],
   "source": [
    "e1 = EmployeeInfo(\"Yash\",1500000)\n",
    "e1.get_empName()\n",
    "e1.get_salary()\n",
    "\n",
    "print(\"*\"*45)\n",
    "\n",
    "e2 = EmployeeInfo(\"Amar\",2000000)\n",
    "e2.get_empName()\n",
    "e2.get_salary()\n"
   ]
  },
  {
   "cell_type": "code",
   "execution_count": 10,
   "id": "27da55f6",
   "metadata": {},
   "outputs": [],
   "source": [
    "class CompanyInfo(): # Parent Class\n",
    "    def __init__(self,company_name, location):\n",
    "        print(\"Company Information __init__ method\")\n",
    "        self.company_name = company_name\n",
    "        self.location = location\n",
    "        \n",
    "    def get_companyName(self):\n",
    "        print(\"Company Name = \",self.company_name)\n",
    "        \n",
    "    def get_companyLocation(self):\n",
    "        print(\"Company Location = \",self.location)\n",
    "        \n",
    "class EmployeeInfo(CompanyInfo): # Child Class\n",
    "    def __init__(self,emp_name, salary):\n",
    "        print(\"Employee Information __init__ method\")\n",
    "        self.emp_name = emp_name\n",
    "        self.salary = salary\n",
    "        \n",
    "    def get_empName(self):\n",
    "        print(f\"Employee Name = {self.emp_name}\")\n",
    "        \n",
    "    def get_salary(self):\n",
    "        print(f\"Employee Salary = {self.salary}\")"
   ]
  },
  {
   "cell_type": "code",
   "execution_count": 11,
   "id": "239b2e3c",
   "metadata": {},
   "outputs": [
    {
     "name": "stdout",
     "output_type": "stream",
     "text": [
      "Employee Information __init__ method\n"
     ]
    }
   ],
   "source": [
    "obj1 = EmployeeInfo(\"Akash\",\"7999999\")"
   ]
  },
  {
   "cell_type": "code",
   "execution_count": 12,
   "id": "e0d26555",
   "metadata": {},
   "outputs": [
    {
     "data": {
      "text/plain": [
       "'Akash'"
      ]
     },
     "execution_count": 12,
     "metadata": {},
     "output_type": "execute_result"
    }
   ],
   "source": [
    "obj1.emp_name"
   ]
  },
  {
   "cell_type": "code",
   "execution_count": 13,
   "id": "4ec92c49",
   "metadata": {},
   "outputs": [
    {
     "data": {
      "text/plain": [
       "'7999999'"
      ]
     },
     "execution_count": 13,
     "metadata": {},
     "output_type": "execute_result"
    }
   ],
   "source": [
    "obj1.salary"
   ]
  },
  {
   "cell_type": "code",
   "execution_count": 14,
   "id": "8e71c7b9",
   "metadata": {},
   "outputs": [
    {
     "name": "stdout",
     "output_type": "stream",
     "text": [
      "Employee Name = Akash\n"
     ]
    }
   ],
   "source": [
    "obj1.get_empName()"
   ]
  },
  {
   "cell_type": "code",
   "execution_count": 15,
   "id": "6de10db2",
   "metadata": {},
   "outputs": [
    {
     "name": "stdout",
     "output_type": "stream",
     "text": [
      "Employee Salary = 7999999\n"
     ]
    }
   ],
   "source": [
    "obj1.get_salary()"
   ]
  },
  {
   "cell_type": "code",
   "execution_count": 16,
   "id": "ebc7afcf",
   "metadata": {},
   "outputs": [
    {
     "ename": "AttributeError",
     "evalue": "'EmployeeInfo' object has no attribute 'location'",
     "output_type": "error",
     "traceback": [
      "\u001b[1;31m---------------------------------------------------------------------------\u001b[0m",
      "\u001b[1;31mAttributeError\u001b[0m                            Traceback (most recent call last)",
      "Input \u001b[1;32mIn [16]\u001b[0m, in \u001b[0;36m<cell line: 1>\u001b[1;34m()\u001b[0m\n\u001b[1;32m----> 1\u001b[0m \u001b[43mobj1\u001b[49m\u001b[38;5;241;43m.\u001b[39;49m\u001b[43mget_companyLocation\u001b[49m\u001b[43m(\u001b[49m\u001b[43m)\u001b[49m\n",
      "Input \u001b[1;32mIn [10]\u001b[0m, in \u001b[0;36mCompanyInfo.get_companyLocation\u001b[1;34m(self)\u001b[0m\n\u001b[0;32m     10\u001b[0m \u001b[38;5;28;01mdef\u001b[39;00m \u001b[38;5;21mget_companyLocation\u001b[39m(\u001b[38;5;28mself\u001b[39m):\n\u001b[1;32m---> 11\u001b[0m     \u001b[38;5;28mprint\u001b[39m(\u001b[38;5;124m\"\u001b[39m\u001b[38;5;124mCompany Location = \u001b[39m\u001b[38;5;124m\"\u001b[39m,\u001b[38;5;28;43mself\u001b[39;49m\u001b[38;5;241;43m.\u001b[39;49m\u001b[43mlocation\u001b[49m)\n",
      "\u001b[1;31mAttributeError\u001b[0m: 'EmployeeInfo' object has no attribute 'location'"
     ]
    }
   ],
   "source": [
    "obj1.get_companyLocation()"
   ]
  },
  {
   "cell_type": "code",
   "execution_count": 26,
   "id": "8d932ede",
   "metadata": {},
   "outputs": [],
   "source": [
    "class CompanyInfo(): # Parent Class\n",
    "    company_area = \"Magarpatta\"\n",
    "    def __init__(self,company_name, location):\n",
    "        print(\"Company Information __init__ method\")\n",
    "        self.company_name = company_name\n",
    "        self.location = location\n",
    "        \n",
    "    def get_companyName(self):\n",
    "        print(\"Company Name = \",self.company_name)\n",
    "        \n",
    "    def get_companyLocation(self):\n",
    "        print(\"Company Location = \",self.location)\n",
    "        \n",
    "class EmployeeInfo(CompanyInfo): # Child Class\n",
    "    def __init__(self,emp_name, salary):\n",
    "        print(\"Employee Information __init__ method\")\n",
    "        CompanyInfo.__init__(self,\"Colcom\",\"Banglore\")\n",
    "        self.emp_name = emp_name\n",
    "        self.salary = salary\n",
    "        \n",
    "    def get_empName(self):\n",
    "        print(f\"Employee Name = {self.emp_name}\")\n",
    "        \n",
    "    def get_salary(self):\n",
    "        print(f\"Employee Salary = {self.salary}\")"
   ]
  },
  {
   "cell_type": "code",
   "execution_count": 27,
   "id": "21943047",
   "metadata": {},
   "outputs": [
    {
     "name": "stdout",
     "output_type": "stream",
     "text": [
      "Employee Information __init__ method\n",
      "Company Information __init__ method\n"
     ]
    }
   ],
   "source": [
    "obj1 = EmployeeInfo(\"Shubham\",1200000)"
   ]
  },
  {
   "cell_type": "code",
   "execution_count": 28,
   "id": "d8a9c529",
   "metadata": {},
   "outputs": [
    {
     "data": {
      "text/plain": [
       "'Colcom'"
      ]
     },
     "execution_count": 28,
     "metadata": {},
     "output_type": "execute_result"
    }
   ],
   "source": [
    "obj1.company_name"
   ]
  },
  {
   "cell_type": "code",
   "execution_count": 29,
   "id": "7cd491a0",
   "metadata": {},
   "outputs": [
    {
     "data": {
      "text/plain": [
       "'Banglore'"
      ]
     },
     "execution_count": 29,
     "metadata": {},
     "output_type": "execute_result"
    }
   ],
   "source": [
    "obj1.location"
   ]
  },
  {
   "cell_type": "code",
   "execution_count": 30,
   "id": "66917f05",
   "metadata": {},
   "outputs": [
    {
     "name": "stdout",
     "output_type": "stream",
     "text": [
      "Employee Information __init__ method\n",
      "Company Information __init__ method\n",
      "Employee Name = Saurabh\n",
      "Employee Salary = 2100000\n",
      "****************************************\n",
      "Company Name =  Colcom\n",
      "Company Location =  Banglore\n"
     ]
    }
   ],
   "source": [
    "obj2 = EmployeeInfo(\"Saurabh\",2100000)\n",
    "obj2.get_empName()\n",
    "obj2.get_salary()\n",
    "print(\"*\"*40)\n",
    "obj2.get_companyName()\n",
    "obj2.get_companyLocation()"
   ]
  },
  {
   "cell_type": "code",
   "execution_count": 31,
   "id": "4927c3c5",
   "metadata": {},
   "outputs": [
    {
     "data": {
      "text/plain": [
       "'Magarpatta'"
      ]
     },
     "execution_count": 31,
     "metadata": {},
     "output_type": "execute_result"
    }
   ],
   "source": [
    "obj2.company_area"
   ]
  },
  {
   "cell_type": "code",
   "execution_count": 33,
   "id": "eee9a91b",
   "metadata": {},
   "outputs": [],
   "source": [
    "class T1():\n",
    "    def Say_Hi(self):\n",
    "        print(\"Hi\")\n",
    "        \n",
    "class T2():\n",
    "    def Say_Hi(self):\n",
    "        print(\"Hello\")\n"
   ]
  },
  {
   "cell_type": "code",
   "execution_count": 35,
   "id": "7baf5d25",
   "metadata": {},
   "outputs": [
    {
     "name": "stdout",
     "output_type": "stream",
     "text": [
      "Hi\n",
      "----------\n",
      "Hello\n"
     ]
    }
   ],
   "source": [
    "o1 = T1()\n",
    "o1.Say_Hi()\n",
    "print(\"-\"*10)\n",
    "o2 = T2()\n",
    "o2.Say_Hi()"
   ]
  },
  {
   "cell_type": "code",
   "execution_count": 36,
   "id": "534aba3c",
   "metadata": {},
   "outputs": [
    {
     "name": "stdout",
     "output_type": "stream",
     "text": [
      "Hello\n"
     ]
    }
   ],
   "source": [
    "class T1():\n",
    "    def Say_Hi(self):\n",
    "        print(\"Hi\")\n",
    "        \n",
    "class T2(T1):\n",
    "    def Say_Hi(self):\n",
    "        print(\"Hello\")\n",
    "o1 = T2()\n",
    "o1.Say_Hi()"
   ]
  },
  {
   "cell_type": "code",
   "execution_count": 38,
   "id": "28c027ec",
   "metadata": {},
   "outputs": [
    {
     "name": "stdout",
     "output_type": "stream",
     "text": [
      "Hello\n"
     ]
    }
   ],
   "source": [
    "def Say_Hi():\n",
    "    print(\"Hi\")\n",
    "    \n",
    "def Say_Hi():\n",
    "    print(\"Hello\")\n",
    "\n",
    "Say_Hi()"
   ]
  },
  {
   "cell_type": "code",
   "execution_count": 40,
   "id": "417942c4",
   "metadata": {},
   "outputs": [],
   "source": [
    "class CompanyInfo(): # Parent Class\n",
    "    company_area = \"Magarpatta\"\n",
    "    def __init__(self,company_name):\n",
    "        print(\"Company Information __init__ method\")\n",
    "        self.company_name = company_name\n",
    "        \n",
    "    def get_companyName(self):\n",
    "        print(\"Company Name = \",self.company_name)\n",
    "        \n",
    "    def get_companyLocation(self,location):\n",
    "        print(\"Company Location = \",location)\n",
    "        \n",
    "class EmployeeInfo(CompanyInfo): # Child Class\n",
    "    def __init__(self,emp_name, salary,company_name):\n",
    "        print(\"Employee Information __init__ method\")\n",
    "        CompanyInfo.__init__(self,company_name)\n",
    "        self.emp_name = emp_name\n",
    "        self.salary = salary\n",
    "        \n",
    "    def get_empName(self):\n",
    "        print(f\"Employee Name = {self.emp_name}\")\n",
    "        \n",
    "    def get_salary(self):\n",
    "        print(f\"Employee Salary = {self.salary}\")"
   ]
  },
  {
   "cell_type": "code",
   "execution_count": 43,
   "id": "c5488268",
   "metadata": {},
   "outputs": [
    {
     "name": "stdout",
     "output_type": "stream",
     "text": [
      "Employee Information __init__ method\n",
      "Company Information __init__ method\n",
      "Employee Name = Saurabh\n",
      "Employee Salary = 2100000\n",
      "---------------------------------------------\n",
      "Magarpatta\n",
      "Company Name =  TCS\n",
      "Company Location =  Bangulore\n"
     ]
    }
   ],
   "source": [
    "obj1 = EmployeeInfo(\"Saurabh\",2100000,\"TCS\")\n",
    "obj1.get_empName()\n",
    "obj1.get_salary()\n",
    "print(\"-\"*45)\n",
    "print(obj1.company_area)\n",
    "obj1.get_companyName()\n",
    "obj1.get_companyLocation(\"Bangulore\")"
   ]
  },
  {
   "cell_type": "markdown",
   "id": "11a1fab4",
   "metadata": {},
   "source": [
    "# Single Inheritance "
   ]
  },
  {
   "cell_type": "code",
   "execution_count": 56,
   "id": "aec79059",
   "metadata": {},
   "outputs": [
    {
     "name": "stdout",
     "output_type": "stream",
     "text": [
      "In the Child Class __init__ Method\n",
      "In the Parent Class __init__ Method\n"
     ]
    }
   ],
   "source": [
    "class Parent():\n",
    "    def __init__(self):\n",
    "        print(\"In the Parent Class __init__ Method\")\n",
    "        \n",
    "class Child(Parent):\n",
    "    def __init__(self):\n",
    "        print(\"In the Child Class __init__ Method\")\n",
    "        super().__init__()\n",
    "c1 = Child()"
   ]
  },
  {
   "cell_type": "code",
   "execution_count": 49,
   "id": "643e6fd7",
   "metadata": {},
   "outputs": [
    {
     "name": "stdout",
     "output_type": "stream",
     "text": [
      "Employee Information __init__ method\n",
      "Company Information __init__ method\n",
      "Employee Name = Saurabh\n",
      "Employee Salary = 2100000\n",
      "---------------------------------------------\n",
      "Magarpatta\n",
      "Company Name =  TCS\n",
      "Company Location =  Pune\n"
     ]
    }
   ],
   "source": [
    "class CompanyInfo(): # Parent Class\n",
    "    company_area = \"Magarpatta\"\n",
    "    def __init__(self,company_name,location):\n",
    "        print(\"Company Information __init__ method\")\n",
    "        self.company_name = company_name\n",
    "        self.location = location\n",
    "        \n",
    "    def get_companyName(self):\n",
    "        print(\"Company Name = \",self.company_name)\n",
    "        \n",
    "    def get_companyLocation(self):\n",
    "        print(\"Company Location = \",self.location)\n",
    "        \n",
    "class EmployeeInfo(CompanyInfo): # Child Class\n",
    "    def __init__(self,emp_name, salary):\n",
    "        print(\"Employee Information __init__ method\")\n",
    "        CompanyInfo.__init__(self,\"TCS\",\"Pune\")\n",
    "        self.emp_name = emp_name\n",
    "        self.salary = salary\n",
    "        \n",
    "    def get_empName(self):\n",
    "        print(f\"Employee Name = {self.emp_name}\")\n",
    "        \n",
    "    def get_salary(self):\n",
    "        print(f\"Employee Salary = {self.salary}\")\n",
    "\n",
    "obj1 = EmployeeInfo(\"Saurabh\",2100000)\n",
    "obj1.get_empName()\n",
    "obj1.get_salary()\n",
    "print(\"-\"*45)\n",
    "print(obj1.company_area)\n",
    "obj1.get_companyName()\n",
    "obj1.get_companyLocation()"
   ]
  },
  {
   "cell_type": "code",
   "execution_count": 50,
   "id": "6197adb1",
   "metadata": {},
   "outputs": [
    {
     "name": "stdout",
     "output_type": "stream",
     "text": [
      "Employee Information __init__ method\n"
     ]
    },
    {
     "ename": "TypeError",
     "evalue": "CompanyInfo.__init__() takes 3 positional arguments but 4 were given",
     "output_type": "error",
     "traceback": [
      "\u001b[1;31m---------------------------------------------------------------------------\u001b[0m",
      "\u001b[1;31mTypeError\u001b[0m                                 Traceback (most recent call last)",
      "Input \u001b[1;32mIn [50]\u001b[0m, in \u001b[0;36m<cell line: 27>\u001b[1;34m()\u001b[0m\n\u001b[0;32m     24\u001b[0m     \u001b[38;5;28;01mdef\u001b[39;00m \u001b[38;5;21mget_salary\u001b[39m(\u001b[38;5;28mself\u001b[39m):\n\u001b[0;32m     25\u001b[0m         \u001b[38;5;28mprint\u001b[39m(\u001b[38;5;124mf\u001b[39m\u001b[38;5;124m\"\u001b[39m\u001b[38;5;124mEmployee Salary = \u001b[39m\u001b[38;5;132;01m{\u001b[39;00m\u001b[38;5;28mself\u001b[39m\u001b[38;5;241m.\u001b[39msalary\u001b[38;5;132;01m}\u001b[39;00m\u001b[38;5;124m\"\u001b[39m)\n\u001b[1;32m---> 27\u001b[0m obj1 \u001b[38;5;241m=\u001b[39m \u001b[43mEmployeeInfo\u001b[49m\u001b[43m(\u001b[49m\u001b[38;5;124;43m\"\u001b[39;49m\u001b[38;5;124;43mSaurabh\u001b[39;49m\u001b[38;5;124;43m\"\u001b[39;49m\u001b[43m,\u001b[49m\u001b[38;5;241;43m2100000\u001b[39;49m\u001b[43m)\u001b[49m\n\u001b[0;32m     28\u001b[0m obj1\u001b[38;5;241m.\u001b[39mget_empName()\n\u001b[0;32m     29\u001b[0m obj1\u001b[38;5;241m.\u001b[39mget_salary()\n",
      "Input \u001b[1;32mIn [50]\u001b[0m, in \u001b[0;36mEmployeeInfo.__init__\u001b[1;34m(self, emp_name, salary)\u001b[0m\n\u001b[0;32m     15\u001b[0m \u001b[38;5;28;01mdef\u001b[39;00m \u001b[38;5;21m__init__\u001b[39m(\u001b[38;5;28mself\u001b[39m,emp_name, salary):\n\u001b[0;32m     16\u001b[0m     \u001b[38;5;28mprint\u001b[39m(\u001b[38;5;124m\"\u001b[39m\u001b[38;5;124mEmployee Information __init__ method\u001b[39m\u001b[38;5;124m\"\u001b[39m)\n\u001b[1;32m---> 17\u001b[0m     \u001b[38;5;28;43msuper\u001b[39;49m\u001b[43m(\u001b[49m\u001b[43m)\u001b[49m\u001b[38;5;241;43m.\u001b[39;49m\u001b[38;5;21;43m__init__\u001b[39;49m\u001b[43m(\u001b[49m\u001b[38;5;28;43mself\u001b[39;49m\u001b[43m,\u001b[49m\u001b[38;5;124;43m\"\u001b[39;49m\u001b[38;5;124;43mTCS\u001b[39;49m\u001b[38;5;124;43m\"\u001b[39;49m\u001b[43m,\u001b[49m\u001b[38;5;124;43m\"\u001b[39;49m\u001b[38;5;124;43mPune\u001b[39;49m\u001b[38;5;124;43m\"\u001b[39;49m\u001b[43m)\u001b[49m\n\u001b[0;32m     18\u001b[0m     \u001b[38;5;28mself\u001b[39m\u001b[38;5;241m.\u001b[39memp_name \u001b[38;5;241m=\u001b[39m emp_name\n\u001b[0;32m     19\u001b[0m     \u001b[38;5;28mself\u001b[39m\u001b[38;5;241m.\u001b[39msalary \u001b[38;5;241m=\u001b[39m salary\n",
      "\u001b[1;31mTypeError\u001b[0m: CompanyInfo.__init__() takes 3 positional arguments but 4 were given"
     ]
    }
   ],
   "source": [
    "class CompanyInfo(): # Parent Class\n",
    "    company_area = \"Magarpatta\"\n",
    "    def __init__(self,company_name,location):\n",
    "        print(\"Company Information __init__ method\")\n",
    "        self.company_name = company_name\n",
    "        self.location = location\n",
    "        \n",
    "    def get_companyName(self):\n",
    "        print(\"Company Name = \",self.company_name)\n",
    "        \n",
    "    def get_companyLocation(self):\n",
    "        print(\"Company Location = \",self.location)\n",
    "        \n",
    "class EmployeeInfo(CompanyInfo): # Child Class\n",
    "    def __init__(self,emp_name, salary):\n",
    "        print(\"Employee Information __init__ method\")\n",
    "        super().__init__(self,\"TCS\",\"Pune\")\n",
    "        self.emp_name = emp_name\n",
    "        self.salary = salary\n",
    "        \n",
    "    def get_empName(self):\n",
    "        print(f\"Employee Name = {self.emp_name}\")\n",
    "        \n",
    "    def get_salary(self):\n",
    "        print(f\"Employee Salary = {self.salary}\")\n",
    "\n",
    "obj1 = EmployeeInfo(\"Saurabh\",2100000)\n",
    "obj1.get_empName()\n",
    "obj1.get_salary()\n",
    "print(\"-\"*45)\n",
    "print(obj1.company_area)\n",
    "obj1.get_companyName()\n",
    "obj1.get_companyLocation()"
   ]
  },
  {
   "cell_type": "code",
   "execution_count": null,
   "id": "12197a53",
   "metadata": {},
   "outputs": [],
   "source": []
  },
  {
   "cell_type": "code",
   "execution_count": null,
   "id": "7012b5e3",
   "metadata": {},
   "outputs": [],
   "source": []
  },
  {
   "cell_type": "code",
   "execution_count": null,
   "id": "f3d63dde",
   "metadata": {},
   "outputs": [],
   "source": []
  },
  {
   "cell_type": "code",
   "execution_count": null,
   "id": "4875b830",
   "metadata": {},
   "outputs": [],
   "source": []
  },
  {
   "cell_type": "code",
   "execution_count": null,
   "id": "86138771",
   "metadata": {},
   "outputs": [],
   "source": []
  },
  {
   "cell_type": "code",
   "execution_count": null,
   "id": "d1703804",
   "metadata": {},
   "outputs": [],
   "source": []
  },
  {
   "cell_type": "code",
   "execution_count": null,
   "id": "f147a97c",
   "metadata": {},
   "outputs": [],
   "source": []
  }
 ],
 "metadata": {
  "kernelspec": {
   "display_name": "Python 3 (ipykernel)",
   "language": "python",
   "name": "python3"
  },
  "language_info": {
   "codemirror_mode": {
    "name": "ipython",
    "version": 3
   },
   "file_extension": ".py",
   "mimetype": "text/x-python",
   "name": "python",
   "nbconvert_exporter": "python",
   "pygments_lexer": "ipython3",
   "version": "3.10.8"
  }
 },
 "nbformat": 4,
 "nbformat_minor": 5
}
