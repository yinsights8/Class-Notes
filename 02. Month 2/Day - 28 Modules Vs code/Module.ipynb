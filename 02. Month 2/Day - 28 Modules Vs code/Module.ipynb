{
 "cells": [
  {
   "cell_type": "markdown",
   "metadata": {},
   "source": [
    "# Module"
   ]
  },
  {
   "cell_type": "markdown",
   "metadata": {},
   "source": [
    "A file containing python functions, variables and classes.\n",
    "Extension of module file will be ---> .py\n",
    "\n",
    "Ex. main.py\n",
    "    calculation.py\n",
    "    Model_Training.py\n",
    "    app.py\n",
    "    test.py\n",
    "\n",
    "To download vs codes:---\n",
    "https://code.visualstudio.com/download"
   ]
  },
  {
   "cell_type": "markdown",
   "metadata": {},
   "source": [
    "# Run a module file\n"
   ]
  },
  {
   "cell_type": "markdown",
   "metadata": {},
   "source": [
    "python module_file_name.py"
   ]
  },
  {
   "cell_type": "code",
   "execution_count": null,
   "metadata": {},
   "outputs": [],
   "source": []
  }
 ],
 "metadata": {
  "kernelspec": {
   "display_name": "Python 3 (ipykernel)",
   "language": "python",
   "name": "python3"
  },
  "language_info": {
   "codemirror_mode": {
    "name": "ipython",
    "version": 3
   },
   "file_extension": ".py",
   "mimetype": "text/x-python",
   "name": "python",
   "nbconvert_exporter": "python",
   "pygments_lexer": "ipython3",
   "version": "3.9.12"
  },
  "vscode": {
   "interpreter": {
    "hash": "2cd1a951032f7352ae3168ddd8bf9e6a804496d0e856e8ba8d93099e51bff633"
   }
  }
 },
 "nbformat": 4,
 "nbformat_minor": 2
}
