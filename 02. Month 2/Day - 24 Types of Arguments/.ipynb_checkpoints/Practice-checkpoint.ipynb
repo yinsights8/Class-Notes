{
 "cells": [
  {
   "cell_type": "markdown",
   "id": "15ff2794",
   "metadata": {},
   "source": [
    "## Position Arguments"
   ]
  },
  {
   "cell_type": "code",
   "execution_count": 4,
   "id": "057c7d34",
   "metadata": {},
   "outputs": [
    {
     "data": {
      "text/plain": [
       "'YashDhakade@gmail.com'"
      ]
     },
     "execution_count": 4,
     "metadata": {},
     "output_type": "execute_result"
    }
   ],
   "source": [
    "def user_name(Fname, Lname):  # Positional Parameters\n",
    "    return Fname + Lname + \"@gmail.com\"\n",
    "\n",
    "user_name(\"Yash\", \"Dhakade\")  # Positional Arguments"
   ]
  },
  {
   "cell_type": "code",
   "execution_count": 3,
   "id": "2f545549",
   "metadata": {},
   "outputs": [
    {
     "data": {
      "text/plain": [
       "'DhakadeYash@gmail.com'"
      ]
     },
     "execution_count": 3,
     "metadata": {},
     "output_type": "execute_result"
    }
   ],
   "source": [
    "def user_name(Fname, Lname):\n",
    "    return Fname + Lname + \"@gmail.com\"\n",
    "\n",
    "user_name(\"Dhakade\", \"Yash\") # if this sequence is change then the value will also change their places"
   ]
  },
  {
   "cell_type": "code",
   "execution_count": 5,
   "id": "8367403e",
   "metadata": {},
   "outputs": [
    {
     "data": {
      "text/plain": [
       "'YashDhakade@gmail.com'"
      ]
     },
     "execution_count": 5,
     "metadata": {},
     "output_type": "execute_result"
    }
   ],
   "source": [
    "## in the above case if we are changing the arguments places then we also need to change \n",
    "## the positoin of the parametes\n",
    "\n",
    "def user_name(Lname, Fname):\n",
    "    return Fname + Lname + \"@gmail.com\"\n",
    "\n",
    "user_name(\"Dhakade\", \"Yash\")"
   ]
  },
  {
   "cell_type": "code",
   "execution_count": 6,
   "id": "ad2d21ef",
   "metadata": {},
   "outputs": [
    {
     "data": {
      "text/plain": [
       "'a = 4, b = 5'"
      ]
     },
     "execution_count": 6,
     "metadata": {},
     "output_type": "execute_result"
    }
   ],
   "source": [
    "def nums(a,b):\n",
    "    return f\"a = {a}, b = {b}\"\n",
    "\n",
    "nums(4,5) ## here it is a = 4, b = 5"
   ]
  },
  {
   "cell_type": "code",
   "execution_count": 8,
   "id": "2b1ac77f",
   "metadata": {},
   "outputs": [
    {
     "data": {
      "text/plain": [
       "'a = 5, b = 4'"
      ]
     },
     "execution_count": 8,
     "metadata": {},
     "output_type": "execute_result"
    }
   ],
   "source": [
    "def nums(a,b):\n",
    "    return f\"a = {a}, b = {b}\"\n",
    "\n",
    "nums(5,4) # it will become a = 5, b = 4"
   ]
  },
  {
   "cell_type": "code",
   "execution_count": 9,
   "id": "08c63814",
   "metadata": {},
   "outputs": [
    {
     "ename": "TypeError",
     "evalue": "nums() missing 3 required positional arguments: 'c', 'd', and 'e'",
     "output_type": "error",
     "traceback": [
      "\u001b[1;31m---------------------------------------------------------------------------\u001b[0m",
      "\u001b[1;31mTypeError\u001b[0m                                 Traceback (most recent call last)",
      "Input \u001b[1;32mIn [9]\u001b[0m, in \u001b[0;36m<cell line: 4>\u001b[1;34m()\u001b[0m\n\u001b[0;32m      1\u001b[0m \u001b[38;5;28;01mdef\u001b[39;00m \u001b[38;5;21mnums\u001b[39m(a,b,c,d,e):\n\u001b[0;32m      2\u001b[0m     \u001b[38;5;28;01mreturn\u001b[39;00m \u001b[38;5;124mf\u001b[39m\u001b[38;5;124m\"\u001b[39m\u001b[38;5;124ma = \u001b[39m\u001b[38;5;132;01m{\u001b[39;00ma\u001b[38;5;132;01m}\u001b[39;00m\u001b[38;5;124m, b = \u001b[39m\u001b[38;5;132;01m{\u001b[39;00mb\u001b[38;5;132;01m}\u001b[39;00m\u001b[38;5;124m, c = \u001b[39m\u001b[38;5;132;01m{\u001b[39;00mc\u001b[38;5;132;01m}\u001b[39;00m\u001b[38;5;124m, d = \u001b[39m\u001b[38;5;132;01m{\u001b[39;00md\u001b[38;5;132;01m}\u001b[39;00m\u001b[38;5;124m, e = \u001b[39m\u001b[38;5;132;01m{\u001b[39;00me\u001b[38;5;132;01m}\u001b[39;00m\u001b[38;5;124m\"\u001b[39m\n\u001b[1;32m----> 4\u001b[0m \u001b[43mnums\u001b[49m\u001b[43m(\u001b[49m\u001b[38;5;241;43m5\u001b[39;49m\u001b[43m,\u001b[49m\u001b[38;5;241;43m4\u001b[39;49m\u001b[43m)\u001b[49m\n",
      "\u001b[1;31mTypeError\u001b[0m: nums() missing 3 required positional arguments: 'c', 'd', and 'e'"
     ]
    }
   ],
   "source": [
    "def nums(a,b,c,d,e):\n",
    "    return f\"a = {a}, b = {b}, c = {c}, d = {d}, e = {e}\"\n",
    "\n",
    "nums(5,4)"
   ]
  },
  {
   "cell_type": "code",
   "execution_count": 10,
   "id": "1fb88e54",
   "metadata": {},
   "outputs": [
    {
     "ename": "TypeError",
     "evalue": "nums() takes 5 positional arguments but 6 were given",
     "output_type": "error",
     "traceback": [
      "\u001b[1;31m---------------------------------------------------------------------------\u001b[0m",
      "\u001b[1;31mTypeError\u001b[0m                                 Traceback (most recent call last)",
      "Input \u001b[1;32mIn [10]\u001b[0m, in \u001b[0;36m<cell line: 4>\u001b[1;34m()\u001b[0m\n\u001b[0;32m      1\u001b[0m \u001b[38;5;28;01mdef\u001b[39;00m \u001b[38;5;21mnums\u001b[39m(a,b,c,d,e):\n\u001b[0;32m      2\u001b[0m     \u001b[38;5;28;01mreturn\u001b[39;00m \u001b[38;5;124mf\u001b[39m\u001b[38;5;124m\"\u001b[39m\u001b[38;5;124ma = \u001b[39m\u001b[38;5;132;01m{\u001b[39;00ma\u001b[38;5;132;01m}\u001b[39;00m\u001b[38;5;124m, b = \u001b[39m\u001b[38;5;132;01m{\u001b[39;00mb\u001b[38;5;132;01m}\u001b[39;00m\u001b[38;5;124m, c = \u001b[39m\u001b[38;5;132;01m{\u001b[39;00mc\u001b[38;5;132;01m}\u001b[39;00m\u001b[38;5;124m, d = \u001b[39m\u001b[38;5;132;01m{\u001b[39;00md\u001b[38;5;132;01m}\u001b[39;00m\u001b[38;5;124m, e = \u001b[39m\u001b[38;5;132;01m{\u001b[39;00me\u001b[38;5;132;01m}\u001b[39;00m\u001b[38;5;124m\"\u001b[39m\n\u001b[1;32m----> 4\u001b[0m \u001b[43mnums\u001b[49m\u001b[43m(\u001b[49m\u001b[38;5;241;43m5\u001b[39;49m\u001b[43m,\u001b[49m\u001b[38;5;241;43m4\u001b[39;49m\u001b[43m,\u001b[49m\u001b[38;5;241;43m6\u001b[39;49m\u001b[43m,\u001b[49m\u001b[38;5;241;43m7\u001b[39;49m\u001b[43m,\u001b[49m\u001b[38;5;241;43m8\u001b[39;49m\u001b[43m,\u001b[49m\u001b[38;5;241;43m9\u001b[39;49m\u001b[43m)\u001b[49m\n",
      "\u001b[1;31mTypeError\u001b[0m: nums() takes 5 positional arguments but 6 were given"
     ]
    }
   ],
   "source": [
    "def nums(a,b,c,d,e):\n",
    "    return f\"a = {a}, b = {b}, c = {c}, d = {d}, e = {e}\"\n",
    "\n",
    "nums(5,4,6,7,8,9)"
   ]
  },
  {
   "cell_type": "code",
   "execution_count": 11,
   "id": "571a70f1",
   "metadata": {},
   "outputs": [
    {
     "data": {
      "text/plain": [
       "'a = 5, b = 4, c = 6, d = 7, e = 8'"
      ]
     },
     "execution_count": 11,
     "metadata": {},
     "output_type": "execute_result"
    }
   ],
   "source": [
    "def nums(a,b,c,d,e):\n",
    "    return f\"a = {a}, b = {b}, c = {c}, d = {d}, e = {e}\"\n",
    "\n",
    "nums(5,4,6,7,8)"
   ]
  },
  {
   "cell_type": "code",
   "execution_count": 14,
   "id": "e76abbb2",
   "metadata": {},
   "outputs": [
    {
     "ename": "TypeError",
     "evalue": "nums() missing 1 required positional argument: 'a'",
     "output_type": "error",
     "traceback": [
      "\u001b[1;31m---------------------------------------------------------------------------\u001b[0m",
      "\u001b[1;31mTypeError\u001b[0m                                 Traceback (most recent call last)",
      "Input \u001b[1;32mIn [14]\u001b[0m, in \u001b[0;36m<cell line: 4>\u001b[1;34m()\u001b[0m\n\u001b[0;32m      1\u001b[0m \u001b[38;5;28;01mdef\u001b[39;00m \u001b[38;5;21mnums\u001b[39m(a):\n\u001b[0;32m      2\u001b[0m     \u001b[38;5;28;01mreturn\u001b[39;00m \u001b[38;5;124mf\u001b[39m\u001b[38;5;124m\"\u001b[39m\u001b[38;5;124ma = \u001b[39m\u001b[38;5;132;01m{\u001b[39;00ma\u001b[38;5;132;01m}\u001b[39;00m\u001b[38;5;124m, b = \u001b[39m\u001b[38;5;132;01m{\u001b[39;00mb\u001b[38;5;132;01m}\u001b[39;00m\u001b[38;5;124m, c = \u001b[39m\u001b[38;5;132;01m{\u001b[39;00mc\u001b[38;5;132;01m}\u001b[39;00m\u001b[38;5;124m, d = \u001b[39m\u001b[38;5;132;01m{\u001b[39;00md\u001b[38;5;132;01m}\u001b[39;00m\u001b[38;5;124m, e = \u001b[39m\u001b[38;5;132;01m{\u001b[39;00me\u001b[38;5;132;01m}\u001b[39;00m\u001b[38;5;124m\"\u001b[39m\n\u001b[1;32m----> 4\u001b[0m \u001b[43mnums\u001b[49m\u001b[43m(\u001b[49m\u001b[43m)\u001b[49m\n",
      "\u001b[1;31mTypeError\u001b[0m: nums() missing 1 required positional argument: 'a'"
     ]
    }
   ],
   "source": [
    "def nums(a):\n",
    "    return f\"a = {a}, b = {b}, c = {c}, d = {d}, e = {e}\"\n",
    "\n",
    "nums()"
   ]
  },
  {
   "cell_type": "code",
   "execution_count": 16,
   "id": "0eef5af1",
   "metadata": {},
   "outputs": [
    {
     "data": {
      "text/plain": [
       "'a = 9, b = [1, 2, 3]'"
      ]
     },
     "execution_count": 16,
     "metadata": {},
     "output_type": "execute_result"
    }
   ],
   "source": [
    "def nums(a,b):\n",
    "    return f\"a = {a}, b = {b}\"\n",
    "\n",
    "nums(9, [1,2,3])"
   ]
  },
  {
   "cell_type": "code",
   "execution_count": 17,
   "id": "3b95b3bb",
   "metadata": {},
   "outputs": [
    {
     "data": {
      "text/plain": [
       "'a = 9, b = {1, 2, 3}'"
      ]
     },
     "execution_count": 17,
     "metadata": {},
     "output_type": "execute_result"
    }
   ],
   "source": [
    "def nums(a,b):\n",
    "    return f\"a = {a}, b = {b}\"\n",
    "\n",
    "nums(9, {1,2,3})"
   ]
  },
  {
   "cell_type": "code",
   "execution_count": 18,
   "id": "56fb2481",
   "metadata": {},
   "outputs": [
    {
     "data": {
      "text/plain": [
       "'a = 9, b = {1: 2, 2: 5, 3: 6}'"
      ]
     },
     "execution_count": 18,
     "metadata": {},
     "output_type": "execute_result"
    }
   ],
   "source": [
    "def nums(a,b):\n",
    "    return f\"a = {a}, b = {b}\"\n",
    "\n",
    "nums(9, {1: 2, 2: 5, 3: 6})"
   ]
  },
  {
   "cell_type": "code",
   "execution_count": 20,
   "id": "246ff210",
   "metadata": {},
   "outputs": [
    {
     "data": {
      "text/plain": [
       "'a = 9, b = frozenset({1, 2, 3})'"
      ]
     },
     "execution_count": 20,
     "metadata": {},
     "output_type": "execute_result"
    }
   ],
   "source": [
    "def nums(a,b):\n",
    "    return f\"a = {a}, b = {b}\"\n",
    "\n",
    "nums(9, frozenset({1,2,3}))"
   ]
  },
  {
   "cell_type": "code",
   "execution_count": 21,
   "id": "701ecf2d",
   "metadata": {},
   "outputs": [
    {
     "data": {
      "text/plain": [
       "'a = 9, b = 4.56'"
      ]
     },
     "execution_count": 21,
     "metadata": {},
     "output_type": "execute_result"
    }
   ],
   "source": [
    "def nums(a,b):\n",
    "    return f\"a = {a}, b = {b}\"\n",
    "\n",
    "nums(9, 4.56)"
   ]
  },
  {
   "cell_type": "code",
   "execution_count": 22,
   "id": "99a00407",
   "metadata": {},
   "outputs": [
    {
     "data": {
      "text/plain": [
       "'a = 9, b = Python and data science'"
      ]
     },
     "execution_count": 22,
     "metadata": {},
     "output_type": "execute_result"
    }
   ],
   "source": [
    "def nums(a,b):\n",
    "    return f\"a = {a}, b = {b}\"\n",
    "\n",
    "nums(9, \"Python and data science\")"
   ]
  },
  {
   "cell_type": "code",
   "execution_count": null,
   "id": "721d88ab",
   "metadata": {},
   "outputs": [],
   "source": []
  }
 ],
 "metadata": {
  "kernelspec": {
   "display_name": "Python 3 (ipykernel)",
   "language": "python",
   "name": "python3"
  },
  "language_info": {
   "codemirror_mode": {
    "name": "ipython",
    "version": 3
   },
   "file_extension": ".py",
   "mimetype": "text/x-python",
   "name": "python",
   "nbconvert_exporter": "python",
   "pygments_lexer": "ipython3",
   "version": "3.9.12"
  }
 },
 "nbformat": 4,
 "nbformat_minor": 5
}
