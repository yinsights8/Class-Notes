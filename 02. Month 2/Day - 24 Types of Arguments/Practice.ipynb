{
 "cells": [
  {
   "cell_type": "markdown",
   "id": "cc6b15b2",
   "metadata": {},
   "source": [
    "## Position Arguments"
   ]
  },
  {
   "cell_type": "code",
   "execution_count": 4,
   "id": "cd320c17",
   "metadata": {},
   "outputs": [
    {
     "data": {
      "text/plain": [
       "'YashDhakade@gmail.com'"
      ]
     },
     "execution_count": 4,
     "metadata": {},
     "output_type": "execute_result"
    }
   ],
   "source": [
    "def user_name(Fname, Lname):  # Positional Parameters\n",
    "    return Fname + Lname + \"@gmail.com\"\n",
    "\n",
    "user_name(\"Yash\", \"Dhakade\")  # Positional Arguments"
   ]
  },
  {
   "cell_type": "code",
   "execution_count": 3,
   "id": "c7499319",
   "metadata": {},
   "outputs": [
    {
     "data": {
      "text/plain": [
       "'DhakadeYash@gmail.com'"
      ]
     },
     "execution_count": 3,
     "metadata": {},
     "output_type": "execute_result"
    }
   ],
   "source": [
    "def user_name(Fname, Lname):\n",
    "    return Fname + Lname + \"@gmail.com\"\n",
    "\n",
    "user_name(\"Dhakade\", \"Yash\") # if this sequence is change then the value will also change their places"
   ]
  },
  {
   "cell_type": "code",
   "execution_count": 5,
   "id": "2f2cca45",
   "metadata": {},
   "outputs": [
    {
     "data": {
      "text/plain": [
       "'YashDhakade@gmail.com'"
      ]
     },
     "execution_count": 5,
     "metadata": {},
     "output_type": "execute_result"
    }
   ],
   "source": [
    "## in the above case if we are changing the arguments places then we also need to change \n",
    "## the positoin of the parametes\n",
    "\n",
    "def user_name(Lname, Fname):\n",
    "    return Fname + Lname + \"@gmail.com\"\n",
    "\n",
    "user_name(\"Dhakade\", \"Yash\")"
   ]
  },
  {
   "cell_type": "code",
   "execution_count": 6,
   "id": "2e94b799",
   "metadata": {},
   "outputs": [
    {
     "data": {
      "text/plain": [
       "'a = 4, b = 5'"
      ]
     },
     "execution_count": 6,
     "metadata": {},
     "output_type": "execute_result"
    }
   ],
   "source": [
    "def nums(a,b):\n",
    "    return f\"a = {a}, b = {b}\"\n",
    "\n",
    "nums(4,5) ## here it is a = 4, b = 5"
   ]
  },
  {
   "cell_type": "code",
   "execution_count": 8,
   "id": "cd96fb05",
   "metadata": {},
   "outputs": [
    {
     "data": {
      "text/plain": [
       "'a = 5, b = 4'"
      ]
     },
     "execution_count": 8,
     "metadata": {},
     "output_type": "execute_result"
    }
   ],
   "source": [
    "def nums(a,b):\n",
    "    return f\"a = {a}, b = {b}\"\n",
    "\n",
    "nums(5,4) # it will become a = 5, b = 4"
   ]
  },
  {
   "cell_type": "code",
   "execution_count": 9,
   "id": "466db9b4",
   "metadata": {},
   "outputs": [
    {
     "ename": "TypeError",
     "evalue": "nums() missing 3 required positional arguments: 'c', 'd', and 'e'",
     "output_type": "error",
     "traceback": [
      "\u001b[1;31m---------------------------------------------------------------------------\u001b[0m",
      "\u001b[1;31mTypeError\u001b[0m                                 Traceback (most recent call last)",
      "Input \u001b[1;32mIn [9]\u001b[0m, in \u001b[0;36m<cell line: 4>\u001b[1;34m()\u001b[0m\n\u001b[0;32m      1\u001b[0m \u001b[38;5;28;01mdef\u001b[39;00m \u001b[38;5;21mnums\u001b[39m(a,b,c,d,e):\n\u001b[0;32m      2\u001b[0m     \u001b[38;5;28;01mreturn\u001b[39;00m \u001b[38;5;124mf\u001b[39m\u001b[38;5;124m\"\u001b[39m\u001b[38;5;124ma = \u001b[39m\u001b[38;5;132;01m{\u001b[39;00ma\u001b[38;5;132;01m}\u001b[39;00m\u001b[38;5;124m, b = \u001b[39m\u001b[38;5;132;01m{\u001b[39;00mb\u001b[38;5;132;01m}\u001b[39;00m\u001b[38;5;124m, c = \u001b[39m\u001b[38;5;132;01m{\u001b[39;00mc\u001b[38;5;132;01m}\u001b[39;00m\u001b[38;5;124m, d = \u001b[39m\u001b[38;5;132;01m{\u001b[39;00md\u001b[38;5;132;01m}\u001b[39;00m\u001b[38;5;124m, e = \u001b[39m\u001b[38;5;132;01m{\u001b[39;00me\u001b[38;5;132;01m}\u001b[39;00m\u001b[38;5;124m\"\u001b[39m\n\u001b[1;32m----> 4\u001b[0m \u001b[43mnums\u001b[49m\u001b[43m(\u001b[49m\u001b[38;5;241;43m5\u001b[39;49m\u001b[43m,\u001b[49m\u001b[38;5;241;43m4\u001b[39;49m\u001b[43m)\u001b[49m\n",
      "\u001b[1;31mTypeError\u001b[0m: nums() missing 3 required positional arguments: 'c', 'd', and 'e'"
     ]
    }
   ],
   "source": [
    "def nums(a,b,c,d,e):\n",
    "    return f\"a = {a}, b = {b}, c = {c}, d = {d}, e = {e}\"\n",
    "\n",
    "nums(5,4)"
   ]
  },
  {
   "cell_type": "code",
   "execution_count": 10,
   "id": "26173984",
   "metadata": {},
   "outputs": [
    {
     "ename": "TypeError",
     "evalue": "nums() takes 5 positional arguments but 6 were given",
     "output_type": "error",
     "traceback": [
      "\u001b[1;31m---------------------------------------------------------------------------\u001b[0m",
      "\u001b[1;31mTypeError\u001b[0m                                 Traceback (most recent call last)",
      "Input \u001b[1;32mIn [10]\u001b[0m, in \u001b[0;36m<cell line: 4>\u001b[1;34m()\u001b[0m\n\u001b[0;32m      1\u001b[0m \u001b[38;5;28;01mdef\u001b[39;00m \u001b[38;5;21mnums\u001b[39m(a,b,c,d,e):\n\u001b[0;32m      2\u001b[0m     \u001b[38;5;28;01mreturn\u001b[39;00m \u001b[38;5;124mf\u001b[39m\u001b[38;5;124m\"\u001b[39m\u001b[38;5;124ma = \u001b[39m\u001b[38;5;132;01m{\u001b[39;00ma\u001b[38;5;132;01m}\u001b[39;00m\u001b[38;5;124m, b = \u001b[39m\u001b[38;5;132;01m{\u001b[39;00mb\u001b[38;5;132;01m}\u001b[39;00m\u001b[38;5;124m, c = \u001b[39m\u001b[38;5;132;01m{\u001b[39;00mc\u001b[38;5;132;01m}\u001b[39;00m\u001b[38;5;124m, d = \u001b[39m\u001b[38;5;132;01m{\u001b[39;00md\u001b[38;5;132;01m}\u001b[39;00m\u001b[38;5;124m, e = \u001b[39m\u001b[38;5;132;01m{\u001b[39;00me\u001b[38;5;132;01m}\u001b[39;00m\u001b[38;5;124m\"\u001b[39m\n\u001b[1;32m----> 4\u001b[0m \u001b[43mnums\u001b[49m\u001b[43m(\u001b[49m\u001b[38;5;241;43m5\u001b[39;49m\u001b[43m,\u001b[49m\u001b[38;5;241;43m4\u001b[39;49m\u001b[43m,\u001b[49m\u001b[38;5;241;43m6\u001b[39;49m\u001b[43m,\u001b[49m\u001b[38;5;241;43m7\u001b[39;49m\u001b[43m,\u001b[49m\u001b[38;5;241;43m8\u001b[39;49m\u001b[43m,\u001b[49m\u001b[38;5;241;43m9\u001b[39;49m\u001b[43m)\u001b[49m\n",
      "\u001b[1;31mTypeError\u001b[0m: nums() takes 5 positional arguments but 6 were given"
     ]
    }
   ],
   "source": [
    "def nums(a,b,c,d,e):\n",
    "    return f\"a = {a}, b = {b}, c = {c}, d = {d}, e = {e}\"\n",
    "\n",
    "nums(5,4,6,7,8,9)"
   ]
  },
  {
   "cell_type": "code",
   "execution_count": 11,
   "id": "bd3ca917",
   "metadata": {},
   "outputs": [
    {
     "data": {
      "text/plain": [
       "'a = 5, b = 4, c = 6, d = 7, e = 8'"
      ]
     },
     "execution_count": 11,
     "metadata": {},
     "output_type": "execute_result"
    }
   ],
   "source": [
    "def nums(a,b,c,d,e):\n",
    "    return f\"a = {a}, b = {b}, c = {c}, d = {d}, e = {e}\"\n",
    "\n",
    "nums(5,4,6,7,8)"
   ]
  },
  {
   "cell_type": "code",
   "execution_count": 14,
   "id": "da372211",
   "metadata": {},
   "outputs": [
    {
     "ename": "TypeError",
     "evalue": "nums() missing 1 required positional argument: 'a'",
     "output_type": "error",
     "traceback": [
      "\u001b[1;31m---------------------------------------------------------------------------\u001b[0m",
      "\u001b[1;31mTypeError\u001b[0m                                 Traceback (most recent call last)",
      "Input \u001b[1;32mIn [14]\u001b[0m, in \u001b[0;36m<cell line: 4>\u001b[1;34m()\u001b[0m\n\u001b[0;32m      1\u001b[0m \u001b[38;5;28;01mdef\u001b[39;00m \u001b[38;5;21mnums\u001b[39m(a):\n\u001b[0;32m      2\u001b[0m     \u001b[38;5;28;01mreturn\u001b[39;00m \u001b[38;5;124mf\u001b[39m\u001b[38;5;124m\"\u001b[39m\u001b[38;5;124ma = \u001b[39m\u001b[38;5;132;01m{\u001b[39;00ma\u001b[38;5;132;01m}\u001b[39;00m\u001b[38;5;124m, b = \u001b[39m\u001b[38;5;132;01m{\u001b[39;00mb\u001b[38;5;132;01m}\u001b[39;00m\u001b[38;5;124m, c = \u001b[39m\u001b[38;5;132;01m{\u001b[39;00mc\u001b[38;5;132;01m}\u001b[39;00m\u001b[38;5;124m, d = \u001b[39m\u001b[38;5;132;01m{\u001b[39;00md\u001b[38;5;132;01m}\u001b[39;00m\u001b[38;5;124m, e = \u001b[39m\u001b[38;5;132;01m{\u001b[39;00me\u001b[38;5;132;01m}\u001b[39;00m\u001b[38;5;124m\"\u001b[39m\n\u001b[1;32m----> 4\u001b[0m \u001b[43mnums\u001b[49m\u001b[43m(\u001b[49m\u001b[43m)\u001b[49m\n",
      "\u001b[1;31mTypeError\u001b[0m: nums() missing 1 required positional argument: 'a'"
     ]
    }
   ],
   "source": [
    "def nums(a):\n",
    "    return f\"a = {a}, b = {b}, c = {c}, d = {d}, e = {e}\"\n",
    "\n",
    "nums()"
   ]
  },
  {
   "cell_type": "code",
   "execution_count": 16,
   "id": "f582b124",
   "metadata": {},
   "outputs": [
    {
     "data": {
      "text/plain": [
       "'a = 9, b = [1, 2, 3]'"
      ]
     },
     "execution_count": 16,
     "metadata": {},
     "output_type": "execute_result"
    }
   ],
   "source": [
    "def nums(a,b):\n",
    "    return f\"a = {a}, b = {b}\"\n",
    "\n",
    "nums(9, [1,2,3])"
   ]
  },
  {
   "cell_type": "code",
   "execution_count": 17,
   "id": "04d239ba",
   "metadata": {},
   "outputs": [
    {
     "data": {
      "text/plain": [
       "'a = 9, b = {1, 2, 3}'"
      ]
     },
     "execution_count": 17,
     "metadata": {},
     "output_type": "execute_result"
    }
   ],
   "source": [
    "def nums(a,b):\n",
    "    return f\"a = {a}, b = {b}\"\n",
    "\n",
    "nums(9, {1,2,3})"
   ]
  },
  {
   "cell_type": "code",
   "execution_count": 18,
   "id": "ab241606",
   "metadata": {},
   "outputs": [
    {
     "data": {
      "text/plain": [
       "'a = 9, b = {1: 2, 2: 5, 3: 6}'"
      ]
     },
     "execution_count": 18,
     "metadata": {},
     "output_type": "execute_result"
    }
   ],
   "source": [
    "def nums(a,b):\n",
    "    return f\"a = {a}, b = {b}\"\n",
    "\n",
    "nums(9, {1: 2, 2: 5, 3: 6})"
   ]
  },
  {
   "cell_type": "code",
   "execution_count": 20,
   "id": "10cafc1c",
   "metadata": {},
   "outputs": [
    {
     "data": {
      "text/plain": [
       "'a = 9, b = frozenset({1, 2, 3})'"
      ]
     },
     "execution_count": 20,
     "metadata": {},
     "output_type": "execute_result"
    }
   ],
   "source": [
    "def nums(a,b):\n",
    "    return f\"a = {a}, b = {b}\"\n",
    "\n",
    "nums(9, frozenset({1,2,3}))"
   ]
  },
  {
   "cell_type": "code",
   "execution_count": 21,
   "id": "fcb1489e",
   "metadata": {},
   "outputs": [
    {
     "data": {
      "text/plain": [
       "'a = 9, b = 4.56'"
      ]
     },
     "execution_count": 21,
     "metadata": {},
     "output_type": "execute_result"
    }
   ],
   "source": [
    "def nums(a,b):\n",
    "    return f\"a = {a}, b = {b}\"\n",
    "\n",
    "nums(9, 4.56)"
   ]
  },
  {
   "cell_type": "code",
   "execution_count": 22,
   "id": "7c815bff",
   "metadata": {},
   "outputs": [
    {
     "data": {
      "text/plain": [
       "'a = 9, b = Python and data science'"
      ]
     },
     "execution_count": 22,
     "metadata": {},
     "output_type": "execute_result"
    }
   ],
   "source": [
    "def nums(a,b):\n",
    "    return f\"a = {a}, b = {b}\"\n",
    "\n",
    "nums(9, \"Python and data science\")"
   ]
  },
  {
   "cell_type": "code",
   "execution_count": 24,
   "id": "6c43cb72",
   "metadata": {},
   "outputs": [
    {
     "name": "stdout",
     "output_type": "stream",
     "text": [
      "a = 20, b = 50\n"
     ]
    },
    {
     "data": {
      "text/plain": [
       "70"
      ]
     },
     "execution_count": 24,
     "metadata": {},
     "output_type": "execute_result"
    }
   ],
   "source": [
    "def add(a,b):\n",
    "    print(f\"a = {a}, b = {b}\")\n",
    "    return a + b\n",
    "\n",
    "add(20,50)"
   ]
  },
  {
   "cell_type": "code",
   "execution_count": 25,
   "id": "ab03df42",
   "metadata": {},
   "outputs": [
    {
     "name": "stdout",
     "output_type": "stream",
     "text": [
      "a = 50, b = 20\n"
     ]
    },
    {
     "data": {
      "text/plain": [
       "70"
      ]
     },
     "execution_count": 25,
     "metadata": {},
     "output_type": "execute_result"
    }
   ],
   "source": [
    "def add(a,b):\n",
    "    print(f\"a = {a}, b = {b}\")\n",
    "    return a + b\n",
    "\n",
    "add(50,20)"
   ]
  },
  {
   "cell_type": "markdown",
   "id": "a040373a",
   "metadata": {},
   "source": [
    "## Keyword Arguments / Default Arguments"
   ]
  },
  {
   "cell_type": "raw",
   "id": "ed5fd390",
   "metadata": {},
   "source": [
    "- key word arguments are define by = to sign\n",
    "- e.g - parameter = argument"
   ]
  },
  {
   "cell_type": "code",
   "execution_count": 27,
   "id": "1e75f4b6",
   "metadata": {},
   "outputs": [
    {
     "data": {
      "text/plain": [
       "'yashdhakade@gmail.com'"
      ]
     },
     "execution_count": 27,
     "metadata": {},
     "output_type": "execute_result"
    }
   ],
   "source": [
    "def usename(fname, lname):\n",
    "    \n",
    "    return fname + lname + \"@gmail.com\"\n",
    "\n",
    "usename(\"yash\", \"dhakade\")"
   ]
  },
  {
   "cell_type": "code",
   "execution_count": 28,
   "id": "b43e4549",
   "metadata": {},
   "outputs": [
    {
     "data": {
      "text/plain": [
       "'dhakadeyash@gmail.com'"
      ]
     },
     "execution_count": 28,
     "metadata": {},
     "output_type": "execute_result"
    }
   ],
   "source": [
    "def usename(fname, lname):\n",
    "    \n",
    "    return fname + lname + \"@gmail.com\"\n",
    "\n",
    "usename(\"dhakade\", \"yash\")"
   ]
  },
  {
   "cell_type": "code",
   "execution_count": 30,
   "id": "ebda4314",
   "metadata": {},
   "outputs": [
    {
     "data": {
      "text/plain": [
       "'yashdhakade@gmail.com'"
      ]
     },
     "execution_count": 30,
     "metadata": {},
     "output_type": "execute_result"
    }
   ],
   "source": [
    "def usename(fname, lname):\n",
    "    \n",
    "    return fname + lname + \"@gmail.com\"\n",
    "\n",
    "usename(lname=\"dhakade\", fname=\"yash\") # this is called keyword arguments"
   ]
  },
  {
   "cell_type": "code",
   "execution_count": 34,
   "id": "3da04dbf",
   "metadata": {},
   "outputs": [
    {
     "name": "stdout",
     "output_type": "stream",
     "text": [
      "a = 50, b = 20\n",
      "a = 20, b = 50\n"
     ]
    },
    {
     "data": {
      "text/plain": [
       "70"
      ]
     },
     "execution_count": 34,
     "metadata": {},
     "output_type": "execute_result"
    }
   ],
   "source": [
    "def add(a,b):\n",
    "    print(f\"a = {a}, b = {b}\")\n",
    "    return a + b\n",
    "\n",
    "add(b=20,a=50)\n",
    "\n",
    "add(20,50) # by not usiing keyword arguments"
   ]
  },
  {
   "cell_type": "code",
   "execution_count": 39,
   "id": "12deabce",
   "metadata": {},
   "outputs": [
    {
     "data": {
      "text/plain": [
       "'usermicro@Microsoft.outlook.com'"
      ]
     },
     "execution_count": 39,
     "metadata": {},
     "output_type": "execute_result"
    }
   ],
   "source": [
    "def new_name(fname=\"user\", lname=\"micro\", company_name = \"Microsoft\"):\n",
    "    \n",
    "    return fname + lname + f\"@{company_name}.outlook.com\"\n",
    "\n",
    "new_name()"
   ]
  },
  {
   "cell_type": "code",
   "execution_count": 40,
   "id": "3d636ce7",
   "metadata": {},
   "outputs": [
    {
     "data": {
      "text/plain": [
       "'yashdhakade@Microsoft.outlook.com'"
      ]
     },
     "execution_count": 40,
     "metadata": {},
     "output_type": "execute_result"
    }
   ],
   "source": [
    "## we can also modify the default value of parameters\n",
    "def new_name(fname=\"user\", lname=\"micro\", company_name = \"Microsoft\"):\n",
    "    \n",
    "    return fname + lname + f\"@{company_name}.outlook.com\"\n",
    "\n",
    "new_name(fname=\"yash\",lname=\"dhakade\")"
   ]
  },
  {
   "cell_type": "code",
   "execution_count": 43,
   "id": "9b7c8781",
   "metadata": {},
   "outputs": [
    {
     "data": {
      "text/plain": [
       "'yashdhakade@Google.outlook.com'"
      ]
     },
     "execution_count": 43,
     "metadata": {},
     "output_type": "execute_result"
    }
   ],
   "source": [
    "## we can also modify the default value of parameters\n",
    "def new_name(fname=\"user\", lname=\"micro\", company_name = \"Microsoft\"): # Keywords parameters\n",
    "    \n",
    "    return fname + lname + f\"@{company_name}.outlook.com\"\n",
    "\n",
    "new_name(fname=\"yash\",lname=\"dhakade\",company_name=\"Google\") # Default keyword argumetns"
   ]
  },
  {
   "cell_type": "code",
   "execution_count": 52,
   "id": "130c5f1b",
   "metadata": {},
   "outputs": [
    {
     "ename": "SyntaxError",
     "evalue": "non-default argument follows default argument (534928487.py, line 2)",
     "output_type": "error",
     "traceback": [
      "\u001b[1;36m  Input \u001b[1;32mIn [52]\u001b[1;36m\u001b[0m\n\u001b[1;33m    def new_name(fname=\"user\", lname=\"micro\", company_name = \"Microsoft\", location): # Keywords parameters\u001b[0m\n\u001b[1;37m                                                                                  ^\u001b[0m\n\u001b[1;31mSyntaxError\u001b[0m\u001b[1;31m:\u001b[0m non-default argument follows default argument\n"
     ]
    }
   ],
   "source": [
    "## we can also modify the default value of parameters\n",
    "def new_name(fname=\"user\", lname=\"micro\", company_name = \"Microsoft\", location): # Keywords parameters\n",
    "    \n",
    "    print(location)\n",
    "    return fname + lname + f\"@{company_name}.outlook.com\"\n",
    "\n",
    "new_name( fname=\"yash\", lname=\"dhakade\", company_name=\"Google\", \"pune\" ) # Default keyword argumetns"
   ]
  },
  {
   "cell_type": "code",
   "execution_count": 54,
   "id": "efcad6d3",
   "metadata": {},
   "outputs": [
    {
     "name": "stdout",
     "output_type": "stream",
     "text": [
      "pune monu\n"
     ]
    },
    {
     "data": {
      "text/plain": [
       "'yashdhakade@Google.outlook.com'"
      ]
     },
     "execution_count": 54,
     "metadata": {},
     "output_type": "execute_result"
    }
   ],
   "source": [
    "## we can also modify the default value of parameters\n",
    "def new_name(location, name, fname=\"user\", lname=\"micro\", company_name = \"Microsoft\"): # Keywords parameters\n",
    "    print(location, name)\n",
    "    \n",
    "    return fname + lname + f\"@{company_name}.outlook.com\"\n",
    "\n",
    "new_name(  \"pune\", \"monu\", fname=\"yash\", lname=\"dhakade\", company_name=\"Google\" ) # Default keyword argumetns"
   ]
  },
  {
   "cell_type": "code",
   "execution_count": 55,
   "id": "864e648d",
   "metadata": {},
   "outputs": [
    {
     "name": "stdout",
     "output_type": "stream",
     "text": [
      "pune monu\n"
     ]
    },
    {
     "data": {
      "text/plain": [
       "'yashdhakade@Google.outlook.com'"
      ]
     },
     "execution_count": 55,
     "metadata": {},
     "output_type": "execute_result"
    }
   ],
   "source": [
    "## we can also modify the default value of parameters\n",
    "def new_name(location, name, fname=\"user\", lname=\"micro\", company_name = \"Microsoft\"): # Keywords parameters\n",
    "    print(location, name)\n",
    "    \n",
    "    return fname + lname + f\"@{company_name}.outlook.com\"\n",
    "\n",
    "new_name(  \"pune\", \"monu\", fname=\"yash\", lname=\"dhakade\", company_name=\"Google\" ) # Default keyword argumetns"
   ]
  },
  {
   "cell_type": "markdown",
   "id": "7244c2e1",
   "metadata": {},
   "source": [
    "## Arbitary keyword argument"
   ]
  },
  {
   "cell_type": "code",
   "execution_count": 59,
   "id": "8bdc2e98",
   "metadata": {},
   "outputs": [
    {
     "data": {
      "text/plain": [
       "(10, (9, 10, 11, 20, 30))"
      ]
     },
     "execution_count": 59,
     "metadata": {},
     "output_type": "execute_result"
    }
   ],
   "source": [
    "def args_value(a,*args):\n",
    "    \n",
    "    return a, args\n",
    "\n",
    "args_value(10, 9,10,11,20,30)"
   ]
  },
  {
   "cell_type": "code",
   "execution_count": 62,
   "id": "ce28ebcf",
   "metadata": {},
   "outputs": [
    {
     "data": {
      "text/plain": [
       "15.5"
      ]
     },
     "execution_count": 62,
     "metadata": {},
     "output_type": "execute_result"
    }
   ],
   "source": [
    "def args_value(*args):\n",
    "    \n",
    "    return sum(args)\n",
    "\n",
    "args_value(1.5,2,3,4,5)"
   ]
  },
  {
   "cell_type": "code",
   "execution_count": 69,
   "id": "877deac7",
   "metadata": {},
   "outputs": [
    {
     "data": {
      "text/plain": [
       "15.5"
      ]
     },
     "execution_count": 69,
     "metadata": {},
     "output_type": "execute_result"
    }
   ],
   "source": [
    "def args_value(*args):\n",
    "    \n",
    "    total = 0\n",
    "    for i in args:\n",
    "        \n",
    "        total += i\n",
    "    return total\n",
    "\n",
    "args_value(1.5,2,3,4,5)"
   ]
  },
  {
   "cell_type": "code",
   "execution_count": 64,
   "id": "6a71079d",
   "metadata": {},
   "outputs": [
    {
     "data": {
      "text/plain": [
       "(1.5, 2, 3, 4, 5, 1.5, 2, 3, 4, 5)"
      ]
     },
     "execution_count": 64,
     "metadata": {},
     "output_type": "execute_result"
    }
   ],
   "source": [
    "(1.5,2,3,4,5) + (1.5,2,3,4,5)"
   ]
  },
  {
   "cell_type": "code",
   "execution_count": 73,
   "id": "b9a7d559",
   "metadata": {},
   "outputs": [
    {
     "data": {
      "text/plain": [
       "120"
      ]
     },
     "execution_count": 73,
     "metadata": {},
     "output_type": "execute_result"
    }
   ],
   "source": [
    "def args_value(*args):\n",
    "    \n",
    "    fact = 1\n",
    "    for i in args:\n",
    "        \n",
    "        fact *= i\n",
    "    return fact\n",
    "\n",
    "args_value(1,2,3,4,5)"
   ]
  },
  {
   "cell_type": "code",
   "execution_count": 74,
   "id": "f72182d5",
   "metadata": {},
   "outputs": [
    {
     "data": {
      "text/plain": [
       "3628800"
      ]
     },
     "execution_count": 74,
     "metadata": {},
     "output_type": "execute_result"
    }
   ],
   "source": [
    "def args_value(*args):\n",
    "    \n",
    "    fact = 1\n",
    "    for i in args:\n",
    "        \n",
    "        fact *= i\n",
    "    return fact\n",
    "\n",
    "args_value(1,2,3,4,5,6,7,8,9,10)"
   ]
  },
  {
   "cell_type": "code",
   "execution_count": 81,
   "id": "c3e7c518",
   "metadata": {},
   "outputs": [
    {
     "name": "stdout",
     "output_type": "stream",
     "text": [
      "{<class 'tuple'>}\n"
     ]
    },
    {
     "data": {
      "text/plain": [
       "'a = 10, nb = 20, args = (20, 3, 5)'"
      ]
     },
     "execution_count": 81,
     "metadata": {},
     "output_type": "execute_result"
    }
   ],
   "source": [
    "def sequence(a,b,*variable):\n",
    "    print({type(variable)})\n",
    "    return f\"a = {a}, nb = {b}, args = {variable}\"\n",
    "\n",
    "sequence(10,20,20,3,5)"
   ]
  },
  {
   "cell_type": "code",
   "execution_count": 83,
   "id": "526f8069",
   "metadata": {},
   "outputs": [
    {
     "ename": "TypeError",
     "evalue": "sequence() missing 2 required keyword-only arguments: 'a' and 'b'",
     "output_type": "error",
     "traceback": [
      "\u001b[1;31m---------------------------------------------------------------------------\u001b[0m",
      "\u001b[1;31mTypeError\u001b[0m                                 Traceback (most recent call last)",
      "Input \u001b[1;32mIn [83]\u001b[0m, in \u001b[0;36m<cell line: 5>\u001b[1;34m()\u001b[0m\n\u001b[0;32m      2\u001b[0m     \u001b[38;5;28mprint\u001b[39m({\u001b[38;5;28mtype\u001b[39m(variable)})\n\u001b[0;32m      3\u001b[0m     \u001b[38;5;28;01mreturn\u001b[39;00m \u001b[38;5;124mf\u001b[39m\u001b[38;5;124m\"\u001b[39m\u001b[38;5;124ma = \u001b[39m\u001b[38;5;132;01m{\u001b[39;00ma\u001b[38;5;132;01m}\u001b[39;00m\u001b[38;5;124m, nb = \u001b[39m\u001b[38;5;132;01m{\u001b[39;00mb\u001b[38;5;132;01m}\u001b[39;00m\u001b[38;5;124m, args = \u001b[39m\u001b[38;5;132;01m{\u001b[39;00mvariable\u001b[38;5;132;01m}\u001b[39;00m\u001b[38;5;124m\"\u001b[39m\n\u001b[1;32m----> 5\u001b[0m \u001b[43msequence\u001b[49m\u001b[43m(\u001b[49m\u001b[38;5;241;43m10\u001b[39;49m\u001b[43m,\u001b[49m\u001b[38;5;241;43m20\u001b[39;49m\u001b[43m,\u001b[49m\u001b[38;5;241;43m20\u001b[39;49m\u001b[43m,\u001b[49m\u001b[38;5;241;43m3\u001b[39;49m\u001b[43m,\u001b[49m\u001b[38;5;241;43m5\u001b[39;49m\u001b[43m)\u001b[49m\n",
      "\u001b[1;31mTypeError\u001b[0m: sequence() missing 2 required keyword-only arguments: 'a' and 'b'"
     ]
    }
   ],
   "source": [
    "def sequence(*variable, a, b):\n",
    "    print({type(variable)})\n",
    "    return f\"a = {a}, nb = {b}, args = {variable}\"\n",
    "\n",
    "sequence(10,20,20,3,5)"
   ]
  },
  {
   "cell_type": "code",
   "execution_count": 93,
   "id": "0a86286a",
   "metadata": {},
   "outputs": [
    {
     "name": "stdout",
     "output_type": "stream",
     "text": [
      "{<class 'tuple'>}\n"
     ]
    },
    {
     "data": {
      "text/plain": [
       "'a = 10, b = 20, args = (5, 55, 88, 100), 20, 3 '"
      ]
     },
     "execution_count": 93,
     "metadata": {},
     "output_type": "execute_result"
    }
   ],
   "source": [
    "def sequence(a, b, name = \"user_name\", location = \"Job_location\", *variable):\n",
    "    print({type(variable)})\n",
    "    \n",
    "#     print(name, location)\n",
    "    \n",
    "    return f\"a = {a}, b = {b}, args = {variable}, {name}, {location} \" \n",
    "\n",
    "sequence(10,20,20,3,5,55,88,100)"
   ]
  },
  {
   "cell_type": "code",
   "execution_count": 92,
   "id": "f18d0b05",
   "metadata": {},
   "outputs": [
    {
     "name": "stdout",
     "output_type": "stream",
     "text": [
      "{<class 'tuple'>}\n"
     ]
    },
    {
     "data": {
      "text/plain": [
       "'a = 10, nb = 20, args = (20, 3, 5), user_name, Job_location '"
      ]
     },
     "execution_count": 92,
     "metadata": {},
     "output_type": "execute_result"
    }
   ],
   "source": [
    "def sequence(a, b, *variable, name = \"user_name\", location = \"Job_location\"):\n",
    "    print({type(variable)})\n",
    "    \n",
    "#     print(name, location)\n",
    "    \n",
    "    return f\"a = {a}, nb = {b}, args = {variable}, {name}, {location} \" \n",
    "\n",
    "sequence(10,20,20,3,5)"
   ]
  },
  {
   "cell_type": "code",
   "execution_count": null,
   "id": "db43c1c0",
   "metadata": {},
   "outputs": [],
   "source": []
  },
  {
   "cell_type": "code",
   "execution_count": 95,
   "id": "81abab8c",
   "metadata": {},
   "outputs": [
    {
     "ename": "TypeError",
     "evalue": "sequence() got multiple values for argument 'name'",
     "output_type": "error",
     "traceback": [
      "\u001b[1;31m---------------------------------------------------------------------------\u001b[0m",
      "\u001b[1;31mTypeError\u001b[0m                                 Traceback (most recent call last)",
      "Input \u001b[1;32mIn [95]\u001b[0m, in \u001b[0;36m<cell line: 8>\u001b[1;34m()\u001b[0m\n\u001b[0;32m      4\u001b[0m \u001b[38;5;66;03m#     print(name, location)\u001b[39;00m\n\u001b[0;32m      6\u001b[0m     \u001b[38;5;28;01mreturn\u001b[39;00m \u001b[38;5;124mf\u001b[39m\u001b[38;5;124m\"\u001b[39m\u001b[38;5;124ma = \u001b[39m\u001b[38;5;132;01m{\u001b[39;00ma\u001b[38;5;132;01m}\u001b[39;00m\u001b[38;5;124m, b = \u001b[39m\u001b[38;5;132;01m{\u001b[39;00mb\u001b[38;5;132;01m}\u001b[39;00m\u001b[38;5;124m, args = \u001b[39m\u001b[38;5;132;01m{\u001b[39;00mvariable\u001b[38;5;132;01m}\u001b[39;00m\u001b[38;5;124m, \u001b[39m\u001b[38;5;132;01m{\u001b[39;00mname\u001b[38;5;132;01m}\u001b[39;00m\u001b[38;5;124m, \u001b[39m\u001b[38;5;132;01m{\u001b[39;00mlocation\u001b[38;5;132;01m}\u001b[39;00m\u001b[38;5;124m \u001b[39m\u001b[38;5;124m\"\u001b[39m \n\u001b[1;32m----> 8\u001b[0m \u001b[43msequence\u001b[49m\u001b[43m(\u001b[49m\u001b[38;5;241;43m10\u001b[39;49m\u001b[43m,\u001b[49m\u001b[38;5;241;43m20\u001b[39;49m\u001b[43m,\u001b[49m\u001b[38;5;241;43m20\u001b[39;49m\u001b[43m,\u001b[49m\u001b[38;5;241;43m3\u001b[39;49m\u001b[43m,\u001b[49m\u001b[38;5;241;43m5\u001b[39;49m\u001b[43m,\u001b[49m\u001b[38;5;241;43m55\u001b[39;49m\u001b[43m,\u001b[49m\u001b[38;5;241;43m88\u001b[39;49m\u001b[43m,\u001b[49m\u001b[38;5;241;43m100\u001b[39;49m\u001b[43m,\u001b[49m\u001b[43m \u001b[49m\u001b[43mname\u001b[49m\u001b[38;5;241;43m=\u001b[39;49m\u001b[38;5;124;43m\"\u001b[39;49m\u001b[38;5;124;43mpython\u001b[39;49m\u001b[38;5;124;43m\"\u001b[39;49m\u001b[43m,\u001b[49m\u001b[43m \u001b[49m\u001b[43mlocation\u001b[49m\u001b[38;5;241;43m=\u001b[39;49m\u001b[38;5;124;43m\"\u001b[39;49m\u001b[38;5;124;43mUSA\u001b[39;49m\u001b[38;5;124;43m\"\u001b[39;49m\u001b[43m)\u001b[49m\n",
      "\u001b[1;31mTypeError\u001b[0m: sequence() got multiple values for argument 'name'"
     ]
    }
   ],
   "source": [
    "def sequence(a, b, name=\"user_name\", location=\"Job_location\", *variable):\n",
    "    print({type(variable)})\n",
    "    \n",
    "#     print(name, location)\n",
    "    \n",
    "    return f\"a = {a}, b = {b}, args = {variable}, {name}, {location} \" \n",
    "\n",
    "sequence(10,20,20,3,5,55,88,100, name=\"python\", location=\"USA\")"
   ]
  },
  {
   "cell_type": "markdown",
   "id": "583d157b",
   "metadata": {},
   "source": [
    "## Arbitary keyword arguments (**kwargs)"
   ]
  },
  {
   "cell_type": "code",
   "execution_count": 98,
   "id": "071936ad",
   "metadata": {},
   "outputs": [
    {
     "data": {
      "text/plain": [
       "{'a': 2, 'b': 6, 'c': 1}"
      ]
     },
     "execution_count": 98,
     "metadata": {},
     "output_type": "execute_result"
    }
   ],
   "source": [
    "def kwargs(**kwargs):\n",
    "    return kwargs\n",
    "\n",
    "kwargs(a=2, b=6, c=1)"
   ]
  },
  {
   "cell_type": "code",
   "execution_count": 102,
   "id": "10512c64",
   "metadata": {},
   "outputs": [
    {
     "data": {
      "text/plain": [
       "\"a = 10, b = 20, args = (45, 60, 2, 30, 'AI', 'USA'), subject = data science, location = USA, kwargs = {'g': 8, 'w': 9, 'h': 52}\""
      ]
     },
     "execution_count": 102,
     "metadata": {},
     "output_type": "execute_result"
    }
   ],
   "source": [
    "def proof(a, b, *args, sub = \"data science\", location = \"USA\", **kwargs):\n",
    "    \n",
    "    return f\"a = {a}, b = {b}, args = {args}, subject = {sub}, location = {location}, kwargs = {kwargs}\"\n",
    "\n",
    "proof(10, 20, 45, 60, 2, 30, \"AI\", \"USA\", g = 8, w = 9, h = 52 )"
   ]
  },
  {
   "cell_type": "code",
   "execution_count": 106,
   "id": "c1c96633",
   "metadata": {},
   "outputs": [
    {
     "ename": "SyntaxError",
     "evalue": "invalid syntax (1349256278.py, line 1)",
     "output_type": "error",
     "traceback": [
      "\u001b[1;36m  Input \u001b[1;32mIn [106]\u001b[1;36m\u001b[0m\n\u001b[1;33m    def proof(**kwargs,a, b,  *args,  sub = \"data science\", location = \"USA\" ):\u001b[0m\n\u001b[1;37m                       ^\u001b[0m\n\u001b[1;31mSyntaxError\u001b[0m\u001b[1;31m:\u001b[0m invalid syntax\n"
     ]
    }
   ],
   "source": [
    "def proof(**kwargs,a, b,  *args,  sub = \"data science\", location = \"USA\" ):\n",
    "    \n",
    "    return f\"a = {a}, b = {b}, args = {args}, subject = {sub}, location = {location}, kwargs = {kwargs}\"\n",
    "\n",
    "proof(10, 20, 45, 60, 2, 30, \"AI\", \"USA\", g = 8, w = 9, h = 52 )"
   ]
  },
  {
   "cell_type": "code",
   "execution_count": 107,
   "id": "993ed97a",
   "metadata": {},
   "outputs": [
    {
     "ename": "SyntaxError",
     "evalue": "invalid syntax (3115852556.py, line 1)",
     "output_type": "error",
     "traceback": [
      "\u001b[1;36m  Input \u001b[1;32mIn [107]\u001b[1;36m\u001b[0m\n\u001b[1;33m    def proof(a, b,  *args, **kwargs,  sub = \"data science\", location = \"USA\" ):\u001b[0m\n\u001b[1;37m                                       ^\u001b[0m\n\u001b[1;31mSyntaxError\u001b[0m\u001b[1;31m:\u001b[0m invalid syntax\n"
     ]
    }
   ],
   "source": [
    "def proof(a, b,  *args, **kwargs,  sub = \"data science\", location = \"USA\" ):\n",
    "    \n",
    "    return f\"a = {a}, b = {b}, args = {args}, subject = {sub}, location = {location}, kwargs = {kwargs}\"\n",
    "\n",
    "proof(10, 20, 45, 60, 2, 30, \"AI\", \"USA\", g = 8, w = 9, h = 52 )"
   ]
  },
  {
   "cell_type": "code",
   "execution_count": null,
   "id": "3781487b",
   "metadata": {},
   "outputs": [],
   "source": []
  }
 ],
 "metadata": {
  "kernelspec": {
   "display_name": "Python 3 (ipykernel)",
   "language": "python",
   "name": "python3"
  },
  "language_info": {
   "codemirror_mode": {
    "name": "ipython",
    "version": 3
   },
   "file_extension": ".py",
   "mimetype": "text/x-python",
   "name": "python",
   "nbconvert_exporter": "python",
   "pygments_lexer": "ipython3",
   "version": "3.9.12"
  }
 },
 "nbformat": 4,
 "nbformat_minor": 5
}
