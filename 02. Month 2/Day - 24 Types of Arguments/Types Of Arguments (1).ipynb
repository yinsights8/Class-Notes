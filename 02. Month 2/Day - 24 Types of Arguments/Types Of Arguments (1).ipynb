{
 "cells": [
  {
   "cell_type": "markdown",
   "id": "ac17a6fb",
   "metadata": {},
   "source": [
    "# Types of Arguments\n",
    "- 1. Positional \n",
    "- 2. Default\n",
    "- 3. Arbitrary Positional Args(*)\n",
    "- 4. Arbitrary Keyword KArgs (**)"
   ]
  },
  {
   "cell_type": "markdown",
   "id": "d115f8e0",
   "metadata": {},
   "source": [
    "# 1. Positional Arguments\n",
    "- Number of positional Args = Number of Parameters"
   ]
  },
  {
   "cell_type": "code",
   "execution_count": 1,
   "id": "ae1e1a86",
   "metadata": {},
   "outputs": [
    {
     "data": {
      "text/plain": [
       "'AkashShetty@gmail.com'"
      ]
     },
     "execution_count": 1,
     "metadata": {},
     "output_type": "execute_result"
    }
   ],
   "source": [
    "def get_mailID(fname,lname):\n",
    "    return fname + lname + \"@gmail.com\"\n",
    "\n",
    "get_mailID(\"Akash\",\"Shetty\")"
   ]
  },
  {
   "cell_type": "code",
   "execution_count": 2,
   "id": "10c71dc5",
   "metadata": {},
   "outputs": [
    {
     "data": {
      "text/plain": [
       "'ShettyAkash@gmail.com'"
      ]
     },
     "execution_count": 2,
     "metadata": {},
     "output_type": "execute_result"
    }
   ],
   "source": [
    "def get_mailID(fname,lname):\n",
    "    return fname + lname + \"@gmail.com\"\n",
    "\n",
    "get_mailID(\"Shetty\",\"Akash\")"
   ]
  },
  {
   "cell_type": "code",
   "execution_count": 4,
   "id": "4cef5b2a",
   "metadata": {},
   "outputs": [
    {
     "data": {
      "text/plain": [
       "'shetty.akash@gmail.com'"
      ]
     },
     "execution_count": 4,
     "metadata": {},
     "output_type": "execute_result"
    }
   ],
   "source": [
    "def get_mailID(fname,lname):\n",
    "    return fname.lower() + \".\" + lname.lower() + \"@gmail.com\"\n",
    "\n",
    "get_mailID(\"Shetty\",\"Akash\")"
   ]
  },
  {
   "cell_type": "code",
   "execution_count": 5,
   "id": "45b14008",
   "metadata": {},
   "outputs": [
    {
     "data": {
      "text/plain": [
       "'akash.shetty@gmail.com'"
      ]
     },
     "execution_count": 5,
     "metadata": {},
     "output_type": "execute_result"
    }
   ],
   "source": [
    "def get_mailID(lname,fname):\n",
    "    return fname.lower() + \".\" + lname.lower() + \"@gmail.com\"\n",
    "\n",
    "get_mailID(\"Shetty\",\"Akash\")"
   ]
  },
  {
   "cell_type": "code",
   "execution_count": 6,
   "id": "fe6f96d6",
   "metadata": {},
   "outputs": [
    {
     "name": "stdout",
     "output_type": "stream",
     "text": [
      "a = 10 & b = 20\n"
     ]
    }
   ],
   "source": [
    "def func(a,b):\n",
    "    print(f\"a = {a} & b = {b}\")\n",
    "    \n",
    "func(10,20)"
   ]
  },
  {
   "cell_type": "code",
   "execution_count": 7,
   "id": "100b908e",
   "metadata": {},
   "outputs": [
    {
     "name": "stdout",
     "output_type": "stream",
     "text": [
      "a = 20 & b = 10\n"
     ]
    }
   ],
   "source": [
    "def func(a,b):\n",
    "    print(f\"a = {a} & b = {b}\")\n",
    "    \n",
    "func(20,10)"
   ]
  },
  {
   "cell_type": "code",
   "execution_count": 8,
   "id": "1dc6e9f3",
   "metadata": {},
   "outputs": [
    {
     "name": "stdout",
     "output_type": "stream",
     "text": [
      "a = 50 & b = 100\n"
     ]
    }
   ],
   "source": [
    "def func(a,b): # Positional Parameters\n",
    "    print(f\"a = {a} & b = {b}\")\n",
    " \n",
    "\n",
    "a = 50   # Positional Arguments\n",
    "b = 100 \n",
    "func(a,b)"
   ]
  },
  {
   "cell_type": "code",
   "execution_count": 9,
   "id": "62d36cb8",
   "metadata": {},
   "outputs": [
    {
     "name": "stdout",
     "output_type": "stream",
     "text": [
      "a = 50 & b = [100, 200, 300, 400]\n"
     ]
    }
   ],
   "source": [
    "def func(a,b): # Positional Parameters\n",
    "    print(f\"a = {a} & b = {b}\")\n",
    " \n",
    "\n",
    "a = 50   # Positional Arguments\n",
    "b = [100,200,300,400]\n",
    "func(a,b)"
   ]
  },
  {
   "cell_type": "code",
   "execution_count": 10,
   "id": "d8fa115e",
   "metadata": {},
   "outputs": [
    {
     "name": "stdout",
     "output_type": "stream",
     "text": [
      "a = 50 & b = [100, 200, 300, 400]\n",
      "Type of a = <class 'int'>\n",
      "Type of b = <class 'list'>\n"
     ]
    }
   ],
   "source": [
    "def func(a,b): # Positional Parameters\n",
    "    print(f\"a = {a} & b = {b}\")\n",
    "    print(f\"Type of a = {type(a)}\")\n",
    "    print(f\"Type of b = {type(b)}\")\n",
    " \n",
    "\n",
    "a = 50   # Positional Arguments\n",
    "b = [100,200,300,400]\n",
    "func(a,b)"
   ]
  },
  {
   "cell_type": "code",
   "execution_count": 11,
   "id": "a080babb",
   "metadata": {},
   "outputs": [
    {
     "ename": "TypeError",
     "evalue": "func() missing 1 required positional argument: 'b'",
     "output_type": "error",
     "traceback": [
      "\u001b[1;31m---------------------------------------------------------------------------\u001b[0m",
      "\u001b[1;31mTypeError\u001b[0m                                 Traceback (most recent call last)",
      "Input \u001b[1;32mIn [11]\u001b[0m, in \u001b[0;36m<cell line: 9>\u001b[1;34m()\u001b[0m\n\u001b[0;32m      7\u001b[0m a \u001b[38;5;241m=\u001b[39m \u001b[38;5;241m50\u001b[39m   \u001b[38;5;66;03m# Positional Arguments\u001b[39;00m\n\u001b[0;32m      8\u001b[0m b \u001b[38;5;241m=\u001b[39m [\u001b[38;5;241m100\u001b[39m,\u001b[38;5;241m200\u001b[39m,\u001b[38;5;241m300\u001b[39m,\u001b[38;5;241m400\u001b[39m]\n\u001b[1;32m----> 9\u001b[0m \u001b[43mfunc\u001b[49m\u001b[43m(\u001b[49m\u001b[43ma\u001b[49m\u001b[43m)\u001b[49m\n",
      "\u001b[1;31mTypeError\u001b[0m: func() missing 1 required positional argument: 'b'"
     ]
    }
   ],
   "source": [
    "def func(a,b): # Positional Parameters\n",
    "    print(f\"a = {a} & b = {b}\")\n",
    "    print(f\"Type of a = {type(a)}\")\n",
    "    print(f\"Type of b = {type(b)}\")\n",
    " \n",
    "\n",
    "a = 50   # Positional Arguments\n",
    "b = [100,200,300,400]\n",
    "func(a)"
   ]
  },
  {
   "cell_type": "code",
   "execution_count": 13,
   "id": "7ef6b887",
   "metadata": {},
   "outputs": [
    {
     "ename": "TypeError",
     "evalue": "func() takes 2 positional arguments but 3 were given",
     "output_type": "error",
     "traceback": [
      "\u001b[1;31m---------------------------------------------------------------------------\u001b[0m",
      "\u001b[1;31mTypeError\u001b[0m                                 Traceback (most recent call last)",
      "Input \u001b[1;32mIn [13]\u001b[0m, in \u001b[0;36m<cell line: 10>\u001b[1;34m()\u001b[0m\n\u001b[0;32m      8\u001b[0m b \u001b[38;5;241m=\u001b[39m [\u001b[38;5;241m100\u001b[39m,\u001b[38;5;241m200\u001b[39m,\u001b[38;5;241m300\u001b[39m,\u001b[38;5;241m400\u001b[39m]\n\u001b[0;32m      9\u001b[0m c \u001b[38;5;241m=\u001b[39m \u001b[38;5;241m500\u001b[39m\n\u001b[1;32m---> 10\u001b[0m \u001b[43mfunc\u001b[49m\u001b[43m(\u001b[49m\u001b[43ma\u001b[49m\u001b[43m,\u001b[49m\u001b[43mb\u001b[49m\u001b[43m,\u001b[49m\u001b[43mc\u001b[49m\u001b[43m)\u001b[49m\n",
      "\u001b[1;31mTypeError\u001b[0m: func() takes 2 positional arguments but 3 were given"
     ]
    }
   ],
   "source": [
    "def func(a,b): # Positional Parameters\n",
    "    print(f\"a = {a} & b = {b}\")\n",
    "    print(f\"Type of a = {type(a)}\")\n",
    "    print(f\"Type of b = {type(b)}\")\n",
    " \n",
    "\n",
    "a = 50   # Positional Arguments\n",
    "b = [100,200,300,400]\n",
    "c = 500\n",
    "func(a,b,c)"
   ]
  },
  {
   "cell_type": "code",
   "execution_count": 14,
   "id": "bdc046b2",
   "metadata": {},
   "outputs": [
    {
     "ename": "TypeError",
     "evalue": "func() takes 1 positional argument but 2 were given",
     "output_type": "error",
     "traceback": [
      "\u001b[1;31m---------------------------------------------------------------------------\u001b[0m",
      "\u001b[1;31mTypeError\u001b[0m                                 Traceback (most recent call last)",
      "Input \u001b[1;32mIn [14]\u001b[0m, in \u001b[0;36m<cell line: 10>\u001b[1;34m()\u001b[0m\n\u001b[0;32m      8\u001b[0m b \u001b[38;5;241m=\u001b[39m [\u001b[38;5;241m100\u001b[39m,\u001b[38;5;241m200\u001b[39m,\u001b[38;5;241m300\u001b[39m,\u001b[38;5;241m400\u001b[39m]\n\u001b[0;32m      9\u001b[0m c \u001b[38;5;241m=\u001b[39m \u001b[38;5;241m500\u001b[39m\n\u001b[1;32m---> 10\u001b[0m \u001b[43mfunc\u001b[49m\u001b[43m(\u001b[49m\u001b[43ma\u001b[49m\u001b[43m,\u001b[49m\u001b[43mb\u001b[49m\u001b[43m)\u001b[49m\n",
      "\u001b[1;31mTypeError\u001b[0m: func() takes 1 positional argument but 2 were given"
     ]
    }
   ],
   "source": [
    "def func(a): # Positional Parameters\n",
    "    print(f\"a = {a} & b = {b}\")\n",
    "    print(f\"Type of a = {type(a)}\")\n",
    "    print(f\"Type of b = {type(b)}\")\n",
    " \n",
    "\n",
    "a = 50   # Positional Arguments\n",
    "b = [100,200,300,400]\n",
    "c = 500\n",
    "func(a,b)"
   ]
  },
  {
   "cell_type": "code",
   "execution_count": 15,
   "id": "1bc129cd",
   "metadata": {},
   "outputs": [
    {
     "ename": "TypeError",
     "evalue": "func() missing 1 required positional argument: 'c'",
     "output_type": "error",
     "traceback": [
      "\u001b[1;31m---------------------------------------------------------------------------\u001b[0m",
      "\u001b[1;31mTypeError\u001b[0m                                 Traceback (most recent call last)",
      "Input \u001b[1;32mIn [15]\u001b[0m, in \u001b[0;36m<cell line: 10>\u001b[1;34m()\u001b[0m\n\u001b[0;32m      8\u001b[0m b \u001b[38;5;241m=\u001b[39m [\u001b[38;5;241m100\u001b[39m,\u001b[38;5;241m200\u001b[39m,\u001b[38;5;241m300\u001b[39m,\u001b[38;5;241m400\u001b[39m]\n\u001b[0;32m      9\u001b[0m c \u001b[38;5;241m=\u001b[39m \u001b[38;5;241m500\u001b[39m\n\u001b[1;32m---> 10\u001b[0m \u001b[43mfunc\u001b[49m\u001b[43m(\u001b[49m\u001b[43ma\u001b[49m\u001b[43m,\u001b[49m\u001b[43mb\u001b[49m\u001b[43m)\u001b[49m\n",
      "\u001b[1;31mTypeError\u001b[0m: func() missing 1 required positional argument: 'c'"
     ]
    }
   ],
   "source": [
    "def func(a,b,c): # Positional Parameters\n",
    "    print(f\"a = {a} & b = {b}\")\n",
    "    print(f\"Type of a = {type(a)}\")\n",
    "    print(f\"Type of b = {type(b)}\")\n",
    " \n",
    "\n",
    "a = 50   # Positional Arguments\n",
    "b = [100,200,300,400]\n",
    "c = 500\n",
    "func(a,b)"
   ]
  },
  {
   "cell_type": "code",
   "execution_count": 16,
   "id": "9fe0dde1",
   "metadata": {},
   "outputs": [],
   "source": [
    "def addition(a,b):\n",
    "    return a + b"
   ]
  },
  {
   "cell_type": "code",
   "execution_count": 17,
   "id": "1f2c23a6",
   "metadata": {},
   "outputs": [
    {
     "data": {
      "text/plain": [
       "30"
      ]
     },
     "execution_count": 17,
     "metadata": {},
     "output_type": "execute_result"
    }
   ],
   "source": [
    "addition(10,20)"
   ]
  },
  {
   "cell_type": "code",
   "execution_count": 18,
   "id": "b1304385",
   "metadata": {},
   "outputs": [
    {
     "data": {
      "text/plain": [
       "200"
      ]
     },
     "execution_count": 18,
     "metadata": {},
     "output_type": "execute_result"
    }
   ],
   "source": [
    "addition(50,150)"
   ]
  },
  {
   "cell_type": "markdown",
   "id": "62a4f7ae",
   "metadata": {},
   "source": [
    "# 2. Default Argument/Parameter\n",
    "- AKS Keyword Argument\n",
    "- Keyword arguments must have to follow the positional arguments"
   ]
  },
  {
   "cell_type": "code",
   "execution_count": 23,
   "id": "130d03e0",
   "metadata": {},
   "outputs": [
    {
     "data": {
      "text/plain": [
       "'akash.shetty@gmail.com'"
      ]
     },
     "execution_count": 23,
     "metadata": {},
     "output_type": "execute_result"
    }
   ],
   "source": [
    "def get_mailID(lname,fname):\n",
    "    return fname.lower() + \".\" + lname.lower() + \"@gmail.com\"\n",
    "\n",
    "get_mailID(\"Shetty\",\"Akash\")"
   ]
  },
  {
   "cell_type": "code",
   "execution_count": 21,
   "id": "888bffae",
   "metadata": {},
   "outputs": [
    {
     "data": {
      "text/plain": [
       "'akash.shetty@tcs.com'"
      ]
     },
     "execution_count": 21,
     "metadata": {},
     "output_type": "execute_result"
    }
   ],
   "source": [
    "def get_mailID(lname,fname,company_name):\n",
    "    return fname.lower() + \".\" + lname.lower() + \"@\"+ company_name +\".com\"\n",
    "\n",
    "get_mailID(\"Shetty\",\"Akash\",\"tcs\")"
   ]
  },
  {
   "cell_type": "code",
   "execution_count": 32,
   "id": "b1461c41",
   "metadata": {},
   "outputs": [
    {
     "data": {
      "text/plain": [
       "'akash.shetty@tcs.com'"
      ]
     },
     "execution_count": 32,
     "metadata": {},
     "output_type": "execute_result"
    }
   ],
   "source": [
    "def get_mailID(lname,fname,company_name=\"tcs\"): # Default Parameter\n",
    "    return fname.lower() + \".\" + lname.lower() + \"@\"+ company_name +\".com\"\n",
    "\n",
    "get_mailID(\"Shetty\",\"Akash\")"
   ]
  },
  {
   "cell_type": "code",
   "execution_count": 26,
   "id": "909438cd",
   "metadata": {},
   "outputs": [
    {
     "data": {
      "text/plain": [
       "'seema.gawande@tcs.com'"
      ]
     },
     "execution_count": 26,
     "metadata": {},
     "output_type": "execute_result"
    }
   ],
   "source": [
    "def get_mailID(fname,lname,company_name=\"tcs\"):\n",
    "    return fname.lower() + \".\" + lname.lower() + \"@\"+ company_name +\".com\"\n",
    "\n",
    "get_mailID(\"Seema\",\"Gawande\")"
   ]
  },
  {
   "cell_type": "code",
   "execution_count": 27,
   "id": "d70863a7",
   "metadata": {},
   "outputs": [
    {
     "name": "stdout",
     "output_type": "stream",
     "text": [
      "Seema\n",
      "Gawande\n"
     ]
    }
   ],
   "source": [
    "print(\"Seema\")\n",
    "print(\"Gawande\")"
   ]
  },
  {
   "cell_type": "code",
   "execution_count": 28,
   "id": "4f443abf",
   "metadata": {},
   "outputs": [
    {
     "name": "stdout",
     "output_type": "stream",
     "text": [
      "Seema Gawande\n"
     ]
    }
   ],
   "source": [
    "print(\"Seema\",end=\" \")\n",
    "print(\"Gawande\")"
   ]
  },
  {
   "cell_type": "code",
   "execution_count": 29,
   "id": "d91712c8",
   "metadata": {},
   "outputs": [
    {
     "data": {
      "text/plain": [
       "'seema.gawande@infosys.com'"
      ]
     },
     "execution_count": 29,
     "metadata": {},
     "output_type": "execute_result"
    }
   ],
   "source": [
    "def get_mailID(fname,lname,company_name=\"tcs\"):\n",
    "    return fname.lower() + \".\" + lname.lower() + \"@\"+ company_name +\".com\"\n",
    "\n",
    "get_mailID(\"Seema\",\"Gawande\",\"infosys\")"
   ]
  },
  {
   "cell_type": "code",
   "execution_count": 31,
   "id": "ec337656",
   "metadata": {},
   "outputs": [
    {
     "data": {
      "text/plain": [
       "'seema.gawande@tata.com'"
      ]
     },
     "execution_count": 31,
     "metadata": {},
     "output_type": "execute_result"
    }
   ],
   "source": [
    "def get_mailID(fname,lname,company_name=\"tcs\"):\n",
    "    return fname.lower() + \".\" + lname.lower() + \"@\"+ company_name.lower() +\".com\"\n",
    "\n",
    "get_mailID(\"Seema\",\"Gawande\",\"Tata\")"
   ]
  },
  {
   "cell_type": "code",
   "execution_count": 33,
   "id": "6ebd9cf8",
   "metadata": {},
   "outputs": [
    {
     "data": {
      "text/plain": [
       "'seema.gawande@tata.com'"
      ]
     },
     "execution_count": 33,
     "metadata": {},
     "output_type": "execute_result"
    }
   ],
   "source": [
    "def get_mailID(fname=\"Employee_fname\",lname=\"Employee_lname\",company_name=\"tcs\"):\n",
    "    return fname.lower() + \".\" + lname.lower() + \"@\"+ company_name.lower() +\".com\"\n",
    "\n",
    "get_mailID(\"Seema\",\"Gawande\",\"Tata\")"
   ]
  },
  {
   "cell_type": "code",
   "execution_count": 35,
   "id": "9afa7f02",
   "metadata": {},
   "outputs": [
    {
     "data": {
      "text/plain": [
       "'employee_fname.employee_lname@tcs.com'"
      ]
     },
     "execution_count": 35,
     "metadata": {},
     "output_type": "execute_result"
    }
   ],
   "source": [
    "def get_mailID(fname=\"Employee_fname\",lname=\"Employee_lname\",company_name=\"tcs\"): # # Default Parameter\n",
    "    return fname.lower() + \".\" + lname.lower() + \"@\"+ company_name.lower() +\".com\"\n",
    "\n",
    "get_mailID()"
   ]
  },
  {
   "cell_type": "code",
   "execution_count": 36,
   "id": "d7c92922",
   "metadata": {},
   "outputs": [
    {
     "data": {
      "text/plain": [
       "'jagadish.employee_lname@tcs.com'"
      ]
     },
     "execution_count": 36,
     "metadata": {},
     "output_type": "execute_result"
    }
   ],
   "source": [
    "def get_mailID(fname=\"Employee_fname\",lname=\"Employee_lname\",company_name=\"tcs\"): # # Default Parameter\n",
    "    return fname.lower() + \".\" + lname.lower() + \"@\"+ company_name.lower() +\".com\"\n",
    "\n",
    "get_mailID(\"Jagadish\")"
   ]
  },
  {
   "cell_type": "code",
   "execution_count": 37,
   "id": "5d55504c",
   "metadata": {},
   "outputs": [
    {
     "ename": "SyntaxError",
     "evalue": "non-default argument follows default argument (118795493.py, line 1)",
     "output_type": "error",
     "traceback": [
      "\u001b[1;36m  Input \u001b[1;32mIn [37]\u001b[1;36m\u001b[0m\n\u001b[1;33m    def get_mailID(fname=\"Employee_fname\",lname=\"Employee_lname\",company_name=\"tcs\",location): # # Default Parameter\u001b[0m\n\u001b[1;37m                                                                                    ^\u001b[0m\n\u001b[1;31mSyntaxError\u001b[0m\u001b[1;31m:\u001b[0m non-default argument follows default argument\n"
     ]
    }
   ],
   "source": [
    "def get_mailID(fname=\"Employee_fname\",lname=\"Employee_lname\",company_name=\"tcs\",location): # # Default Parameter\n",
    "    return fname.lower() + \".\" + lname.lower() + \"@\"+ company_name.lower() +\".com\"\n",
    "\n",
    "get_mailID(\"Jagadish\",\"Pune\")"
   ]
  },
  {
   "cell_type": "code",
   "execution_count": 39,
   "id": "a583b57d",
   "metadata": {},
   "outputs": [
    {
     "name": "stdout",
     "output_type": "stream",
     "text": [
      "The job location is Pune\n"
     ]
    },
    {
     "data": {
      "text/plain": [
       "'jagadish.employee_lname@tcs.com'"
      ]
     },
     "execution_count": 39,
     "metadata": {},
     "output_type": "execute_result"
    }
   ],
   "source": [
    "def get_mailID(location,fname=\"Employee_fname\",lname=\"Employee_lname\",company_name=\"tcs\"): # # Default Parameter\n",
    "    print(f\"The job location is {location}\")\n",
    "    return fname.lower() + \".\" + lname.lower() + \"@\"+ company_name.lower() +\".com\"\n",
    "\n",
    "get_mailID(\"Pune\",\"Jagadish\")"
   ]
  },
  {
   "cell_type": "code",
   "execution_count": 40,
   "id": "22f7e2bb",
   "metadata": {},
   "outputs": [
    {
     "name": "stdout",
     "output_type": "stream",
     "text": [
      "The job location is Mumbai\n"
     ]
    },
    {
     "data": {
      "text/plain": [
       "'jagadish.employee_lname@tcs.com'"
      ]
     },
     "execution_count": 40,
     "metadata": {},
     "output_type": "execute_result"
    }
   ],
   "source": [
    "def get_mailID(location,fname=\"Employee_fname\",lname=\"Employee_lname\",company_name=\"tcs\"): # # Default Parameter\n",
    "    print(f\"The job location is {location}\")\n",
    "    return fname.lower() + \".\" + lname.lower() + \"@\"+ company_name.lower() +\".com\"\n",
    "\n",
    "get_mailID(\"Mumbai\",\"Jagadish\")"
   ]
  },
  {
   "cell_type": "code",
   "execution_count": 42,
   "id": "8f38aa6f",
   "metadata": {},
   "outputs": [
    {
     "name": "stdout",
     "output_type": "stream",
     "text": [
      "The job location is Mumbai\n"
     ]
    },
    {
     "data": {
      "text/plain": [
       "'1400000.jagadish@tcs.com'"
      ]
     },
     "execution_count": 42,
     "metadata": {},
     "output_type": "execute_result"
    }
   ],
   "source": [
    "def get_mailID(location,fname=\"Employee_fname\",lname=\"Employee_lname\",company_name=\"tcs\"): # # Default Parameter\n",
    "    print(f\"The job location is {location}\")\n",
    "    return fname.lower() + \".\" + lname.lower() + \"@\"+ company_name.lower() +\".com\"\n",
    "\n",
    "get_mailID(\"Mumbai\",\"1400000\",\"Jagadish\") # This is incorrect"
   ]
  },
  {
   "cell_type": "code",
   "execution_count": 44,
   "id": "596b028f",
   "metadata": {},
   "outputs": [
    {
     "name": "stdout",
     "output_type": "stream",
     "text": [
      "The job location is Mumbai\n",
      "The Salary = 1400000\n"
     ]
    },
    {
     "data": {
      "text/plain": [
       "'jagadish.kavalekar@tcs.com'"
      ]
     },
     "execution_count": 44,
     "metadata": {},
     "output_type": "execute_result"
    }
   ],
   "source": [
    "def get_mailID(location,salary,fname=\"Employee_fname\",lname=\"Employee_lname\",company_name=\"tcs\"): # # Default Parameter\n",
    "    print(f\"The job location is {location}\")\n",
    "    print(f\"The Salary = {salary}\")\n",
    "    return fname.lower() + \".\" + lname.lower() + \"@\"+ company_name.lower() +\".com\"\n",
    "\n",
    "get_mailID(\"Mumbai\",\"1400000\",\"Jagadish\",\"Kavalekar\") "
   ]
  },
  {
   "cell_type": "code",
   "execution_count": 45,
   "id": "254e5ad7",
   "metadata": {},
   "outputs": [
    {
     "name": "stdout",
     "output_type": "stream",
     "text": [
      "The job location is Mumbai\n",
      "The Salary = 1400000\n"
     ]
    },
    {
     "data": {
      "text/plain": [
       "'kavalekar.jagadish@tcs.com'"
      ]
     },
     "execution_count": 45,
     "metadata": {},
     "output_type": "execute_result"
    }
   ],
   "source": [
    "def get_mailID(location,salary,fname=\"Employee_fname\",lname=\"Employee_lname\",company_name=\"tcs\"): # # Default Parameter\n",
    "    print(f\"The job location is {location}\")\n",
    "    print(f\"The Salary = {salary}\")\n",
    "    return fname.lower() + \".\" + lname.lower() + \"@\"+ company_name.lower() +\".com\"\n",
    "\n",
    "get_mailID(\"Mumbai\",\"1400000\",\"Kavalekar\",\"Jagadish\") "
   ]
  },
  {
   "cell_type": "code",
   "execution_count": 46,
   "id": "ce295ee8",
   "metadata": {},
   "outputs": [
    {
     "name": "stdout",
     "output_type": "stream",
     "text": [
      "The job location is Mumbai\n",
      "The Salary = 1400000\n"
     ]
    },
    {
     "data": {
      "text/plain": [
       "'jagadish.kavalekar@tcs.com'"
      ]
     },
     "execution_count": 46,
     "metadata": {},
     "output_type": "execute_result"
    }
   ],
   "source": [
    "def get_mailID(location,salary,fname=\"Employee_fname\",lname=\"Employee_lname\",company_name=\"tcs\"): # # Default Parameter\n",
    "    print(f\"The job location is {location}\")\n",
    "    print(f\"The Salary = {salary}\")\n",
    "    return fname.lower() + \".\" + lname.lower() + \"@\"+ company_name.lower() +\".com\"\n",
    "\n",
    "get_mailID(location = \"Mumbai\",salary=\"1400000\",lname=\"Kavalekar\",fname=\"Jagadish\") "
   ]
  },
  {
   "cell_type": "code",
   "execution_count": 47,
   "id": "51af0a9a",
   "metadata": {},
   "outputs": [
    {
     "name": "stdout",
     "output_type": "stream",
     "text": [
      "The job location is Mumbai\n",
      "The Salary = 1400000\n"
     ]
    },
    {
     "data": {
      "text/plain": [
       "'kavalekar.jagadish@tcs.com'"
      ]
     },
     "execution_count": 47,
     "metadata": {},
     "output_type": "execute_result"
    }
   ],
   "source": [
    "def get_mailID(location,salary,fname=\"Employee_fname\",lname=\"Employee_lname\",company_name=\"tcs\"): # # Default Parameter\n",
    "    print(f\"The job location is {location}\")\n",
    "    print(f\"The Salary = {salary}\")\n",
    "    return fname.lower() + \".\" + lname.lower() + \"@\"+ company_name.lower() +\".com\"\n",
    "\n",
    "location = \"Mumbai\"\n",
    "salary=\"1400000\"\n",
    "lname=\"Kavalekar\"\n",
    "fname=\"Jagadish\"\n",
    "\n",
    "get_mailID(location,salary,lname,fname)"
   ]
  },
  {
   "cell_type": "code",
   "execution_count": 49,
   "id": "68bb31ec",
   "metadata": {},
   "outputs": [
    {
     "name": "stdout",
     "output_type": "stream",
     "text": [
      "The job location is Mumbai\n",
      "The Salary = 1400000\n"
     ]
    },
    {
     "data": {
      "text/plain": [
       "'jagadish.kavalekar@tcs.com'"
      ]
     },
     "execution_count": 49,
     "metadata": {},
     "output_type": "execute_result"
    }
   ],
   "source": [
    "def get_mailID(location,salary,fname=\"Employee_fname\",lname=\"Employee_lname\",company_name=\"tcs\"): # # Default Parameter\n",
    "    print(f\"The job location is {location}\")\n",
    "    print(f\"The Salary = {salary}\")\n",
    "    return fname.lower() + \".\" + lname.lower() + \"@\"+ company_name.lower() +\".com\"\n",
    "\n",
    "location = \"Mumbai\"\n",
    "salary=\"1400000\"\n",
    "lname=\"Kavalekar\"\n",
    "fname=\"Jagadish\"\n",
    "\n",
    "get_mailID(location,salary,lname=\"Kavalekar\",fname=\"Jagadish\") # Fefault Arguments"
   ]
  },
  {
   "cell_type": "code",
   "execution_count": 55,
   "id": "22688056",
   "metadata": {},
   "outputs": [],
   "source": [
    "def func(a,b=100):\n",
    "    print(f\"a = {a} & b = {b}\")"
   ]
  },
  {
   "cell_type": "code",
   "execution_count": 56,
   "id": "738b2717",
   "metadata": {},
   "outputs": [
    {
     "name": "stdout",
     "output_type": "stream",
     "text": [
      "a = 1 & b = 2\n"
     ]
    }
   ],
   "source": [
    "func(1,2)"
   ]
  },
  {
   "cell_type": "code",
   "execution_count": 57,
   "id": "9dcd9a1d",
   "metadata": {},
   "outputs": [
    {
     "name": "stdout",
     "output_type": "stream",
     "text": [
      "a = 2 & b = 1\n"
     ]
    }
   ],
   "source": [
    "func(2,1)"
   ]
  },
  {
   "cell_type": "code",
   "execution_count": 58,
   "id": "dafcd9fa",
   "metadata": {},
   "outputs": [
    {
     "name": "stdout",
     "output_type": "stream",
     "text": [
      "a = 1 & b = 2\n"
     ]
    }
   ],
   "source": [
    "func(a=1,b=2)"
   ]
  },
  {
   "cell_type": "code",
   "execution_count": 59,
   "id": "ab37fbe5",
   "metadata": {},
   "outputs": [
    {
     "name": "stdout",
     "output_type": "stream",
     "text": [
      "a = 1 & b = 2\n"
     ]
    }
   ],
   "source": [
    "func(b=2,a=1)"
   ]
  },
  {
   "cell_type": "code",
   "execution_count": 60,
   "id": "04ff007c",
   "metadata": {},
   "outputs": [
    {
     "name": "stdout",
     "output_type": "stream",
     "text": [
      "a = 1 & b = 100\n"
     ]
    }
   ],
   "source": [
    "func(1)"
   ]
  },
  {
   "cell_type": "code",
   "execution_count": 63,
   "id": "49a3e549",
   "metadata": {},
   "outputs": [
    {
     "name": "stdout",
     "output_type": "stream",
     "text": [
      "This is a dummy function\n"
     ]
    }
   ],
   "source": [
    "def dummy():\n",
    "    print(\"This is a dummy function\")\n",
    "\n",
    "dummy()"
   ]
  },
  {
   "cell_type": "markdown",
   "id": "bba0f746",
   "metadata": {},
   "source": [
    "# 3. Arbitrary Argument\n",
    "- Variable length Argumens \n",
    "- *args = *arguments (args & arguments are nothing but variable names)\n",
    "- When we dont know the number of arguments to be passed\n",
    "- type(*args)  = tuple"
   ]
  },
  {
   "cell_type": "code",
   "execution_count": 64,
   "id": "0137424d",
   "metadata": {},
   "outputs": [
    {
     "name": "stdout",
     "output_type": "stream",
     "text": [
      "a = 1, b = 2, c = 3\n"
     ]
    },
    {
     "data": {
      "text/plain": [
       "6"
      ]
     },
     "execution_count": 64,
     "metadata": {},
     "output_type": "execute_result"
    }
   ],
   "source": [
    "def multiplication(a,b,c):\n",
    "    print(f\"a = {a}, b = {b}, c = {c}\")\n",
    "    return a * b * c\n",
    "\n",
    "multiplication(1,2,3)"
   ]
  },
  {
   "cell_type": "code",
   "execution_count": 65,
   "id": "0d55bbc5",
   "metadata": {},
   "outputs": [
    {
     "name": "stdout",
     "output_type": "stream",
     "text": [
      "a = 1, b = (2, 3)\n"
     ]
    },
    {
     "data": {
      "text/plain": [
       "(2, 3)"
      ]
     },
     "execution_count": 65,
     "metadata": {},
     "output_type": "execute_result"
    }
   ],
   "source": [
    "def multiplication(a,*b):\n",
    "    print(f\"a = {a}, b = {b}\")\n",
    "    return a * b \n",
    "\n",
    "multiplication(1,2,3)"
   ]
  },
  {
   "cell_type": "code",
   "execution_count": 67,
   "id": "7683e4c3",
   "metadata": {},
   "outputs": [
    {
     "data": {
      "text/plain": [
       "(2, 2, 2, 2, 2, 2)"
      ]
     },
     "execution_count": 67,
     "metadata": {},
     "output_type": "execute_result"
    }
   ],
   "source": [
    "(2,2)*3"
   ]
  },
  {
   "cell_type": "code",
   "execution_count": 68,
   "id": "8ffa92d9",
   "metadata": {},
   "outputs": [
    {
     "name": "stdout",
     "output_type": "stream",
     "text": [
      "a = 1, b = (2, 3, 4, 5, 6, 7, 8, 9, 10)\n"
     ]
    },
    {
     "data": {
      "text/plain": [
       "(2, 3, 4, 5, 6, 7, 8, 9, 10)"
      ]
     },
     "execution_count": 68,
     "metadata": {},
     "output_type": "execute_result"
    }
   ],
   "source": [
    "def multiplication(a,*b):\n",
    "    print(f\"a = {a}, b = {b}\")\n",
    "    return a * b \n",
    "\n",
    "multiplication(1,2,3,4,5,6,7,8,9,10)"
   ]
  },
  {
   "cell_type": "code",
   "execution_count": 70,
   "id": "a890a6da",
   "metadata": {},
   "outputs": [
    {
     "name": "stdout",
     "output_type": "stream",
     "text": [
      "b = (1, 2, 3, 4, 5)\n"
     ]
    },
    {
     "data": {
      "text/plain": [
       "120"
      ]
     },
     "execution_count": 70,
     "metadata": {},
     "output_type": "execute_result"
    }
   ],
   "source": [
    "def multiplication(*b):\n",
    "    print(f\"b = {b}\")\n",
    "    mul = 1\n",
    "    for i in b:\n",
    "        mul *= i\n",
    "    return mul\n",
    "\n",
    "multiplication(1,2,3,4,5)"
   ]
  },
  {
   "cell_type": "code",
   "execution_count": 71,
   "id": "c67a1bf6",
   "metadata": {},
   "outputs": [
    {
     "name": "stdout",
     "output_type": "stream",
     "text": [
      "b = (1, 2, 3, 4, 5) & type of b = <class 'tuple'>\n"
     ]
    },
    {
     "data": {
      "text/plain": [
       "120"
      ]
     },
     "execution_count": 71,
     "metadata": {},
     "output_type": "execute_result"
    }
   ],
   "source": [
    "def multiplication(*b):\n",
    "    \n",
    "    print(f\"b = {b} & type of b = {type(b)}\")\n",
    "    mul = 1\n",
    "    for i in b:\n",
    "        mul *= i\n",
    "    return mul\n",
    "\n",
    "multiplication(1,2,3,4,5)"
   ]
  },
  {
   "cell_type": "code",
   "execution_count": 72,
   "id": "901bbf35",
   "metadata": {},
   "outputs": [
    {
     "name": "stdout",
     "output_type": "stream",
     "text": [
      "args = (1, 2, 3, 4, 5) & type of args = <class 'tuple'>\n"
     ]
    },
    {
     "data": {
      "text/plain": [
       "120"
      ]
     },
     "execution_count": 72,
     "metadata": {},
     "output_type": "execute_result"
    }
   ],
   "source": [
    "def multiplication(*args):\n",
    "    \n",
    "    print(f\"args = {args} & type of args = {type(args)}\")\n",
    "    mul = 1\n",
    "    for i in args:\n",
    "        mul *= i\n",
    "    return mul\n",
    "\n",
    "multiplication(1,2,3,4,5)"
   ]
  },
  {
   "cell_type": "code",
   "execution_count": 73,
   "id": "0fa0287b",
   "metadata": {},
   "outputs": [
    {
     "name": "stdout",
     "output_type": "stream",
     "text": [
      "args = (5,) & type of args = <class 'tuple'>\n"
     ]
    },
    {
     "data": {
      "text/plain": [
       "5"
      ]
     },
     "execution_count": 73,
     "metadata": {},
     "output_type": "execute_result"
    }
   ],
   "source": [
    "def multiplication(*args):\n",
    "    \n",
    "    print(f\"args = {args} & type of args = {type(args)}\")\n",
    "    mul = 1\n",
    "    for i in args:\n",
    "        mul *= i\n",
    "    return mul\n",
    "\n",
    "multiplication(5)"
   ]
  },
  {
   "cell_type": "code",
   "execution_count": 74,
   "id": "edab38e8",
   "metadata": {},
   "outputs": [
    {
     "name": "stdout",
     "output_type": "stream",
     "text": [
      "args = (6,) & type of args = <class 'tuple'>\n"
     ]
    },
    {
     "data": {
      "text/plain": [
       "6"
      ]
     },
     "execution_count": 74,
     "metadata": {},
     "output_type": "execute_result"
    }
   ],
   "source": [
    "def multiplication(a,*args):\n",
    "    \n",
    "    print(f\"args = {args} & type of args = {type(args)}\")\n",
    "    mul = 1\n",
    "    for i in args:\n",
    "        mul *= i\n",
    "    return mul\n",
    "\n",
    "multiplication(5,6)"
   ]
  },
  {
   "cell_type": "code",
   "execution_count": 75,
   "id": "846ca677",
   "metadata": {},
   "outputs": [
    {
     "data": {
      "text/plain": [
       "(5,)"
      ]
     },
     "execution_count": 75,
     "metadata": {},
     "output_type": "execute_result"
    }
   ],
   "source": [
    "a = 5,\n",
    "a"
   ]
  },
  {
   "cell_type": "code",
   "execution_count": 77,
   "id": "831565fa",
   "metadata": {},
   "outputs": [],
   "source": [
    "def check_args_type(a,b,*c):\n",
    "    print(f\"a = {a} & Type = {type(a)}\")\n",
    "    print(f\"b = {b} & Type = {type(b)}\")\n",
    "    print(f\"c = {c} & Type = {type(c)}\")"
   ]
  },
  {
   "cell_type": "code",
   "execution_count": 78,
   "id": "d1721c05",
   "metadata": {},
   "outputs": [
    {
     "name": "stdout",
     "output_type": "stream",
     "text": [
      "a = 1 & Type = <class 'int'>\n",
      "b = 2 & Type = <class 'int'>\n",
      "c = (3, 4, 5, 6) & Type = <class 'tuple'>\n"
     ]
    }
   ],
   "source": [
    "check_args_type(1,2,3,4,5,6)"
   ]
  },
  {
   "cell_type": "code",
   "execution_count": 79,
   "id": "17ea5c5a",
   "metadata": {},
   "outputs": [],
   "source": [
    "def check_args_type(a,b,z=[1,2,3,4,5],*c):\n",
    "    print(f\"a = {a} & Type = {type(a)}\")\n",
    "    print(f\"b = {b} & Type = {type(b)}\")\n",
    "    print(f\"c = {c} & Type = {type(c)}\")\n",
    "    print(f\"z = {z} & Type = {type(z)}\")"
   ]
  },
  {
   "cell_type": "code",
   "execution_count": 80,
   "id": "49f5dfd9",
   "metadata": {},
   "outputs": [
    {
     "name": "stdout",
     "output_type": "stream",
     "text": [
      "a = 1 & Type = <class 'int'>\n",
      "b = 2 & Type = <class 'int'>\n",
      "c = (4, 5, 6) & Type = <class 'tuple'>\n",
      "z = 3 & Type = <class 'int'>\n"
     ]
    }
   ],
   "source": [
    "check_args_type(1,2,3,4,5,6)"
   ]
  },
  {
   "cell_type": "code",
   "execution_count": 81,
   "id": "709a492e",
   "metadata": {},
   "outputs": [
    {
     "name": "stdout",
     "output_type": "stream",
     "text": [
      "a = 1 & Type = <class 'int'>\n",
      "b = 2 & Type = <class 'int'>\n",
      "c = (3, 4, 5, 6) & Type = <class 'tuple'>\n",
      "z = [1, 2, 3, 4, 5] & Type = <class 'list'>\n"
     ]
    }
   ],
   "source": [
    "def check_args_type(a,b,*c,z=[1,2,3,4,5]):\n",
    "    print(f\"a = {a} & Type = {type(a)}\")\n",
    "    print(f\"b = {b} & Type = {type(b)}\")\n",
    "    print(f\"c = {c} & Type = {type(c)}\")\n",
    "    print(f\"z = {z} & Type = {type(z)}\")\n",
    "    \n",
    "check_args_type(1,2,3,4,5,6)"
   ]
  },
  {
   "cell_type": "code",
   "execution_count": 82,
   "id": "7729e118",
   "metadata": {},
   "outputs": [
    {
     "ename": "SyntaxError",
     "evalue": "non-default argument follows default argument (3066895408.py, line 1)",
     "output_type": "error",
     "traceback": [
      "\u001b[1;36m  Input \u001b[1;32mIn [82]\u001b[1;36m\u001b[0m\n\u001b[1;33m    def check_args_type(a,z=[1,2,3,4,5],b,*c):\u001b[0m\n\u001b[1;37m                                        ^\u001b[0m\n\u001b[1;31mSyntaxError\u001b[0m\u001b[1;31m:\u001b[0m non-default argument follows default argument\n"
     ]
    }
   ],
   "source": [
    "def check_args_type(a,z=[1,2,3,4,5],b,*c):\n",
    "    print(f\"a = {a} & Type = {type(a)}\")\n",
    "    print(f\"b = {b} & Type = {type(b)}\")\n",
    "    print(f\"c = {c} & Type = {type(c)}\")\n",
    "    print(f\"z = {z} & Type = {type(z)}\")\n",
    "    \n",
    "check_args_type(1,2,3,4,5,6)"
   ]
  },
  {
   "cell_type": "code",
   "execution_count": 83,
   "id": "8cd851d7",
   "metadata": {},
   "outputs": [
    {
     "name": "stdout",
     "output_type": "stream",
     "text": [
      "a = 1 & Type = <class 'int'>\n",
      "b = 2 & Type = <class 'int'>\n",
      "x = Python & Type = <class 'str'>\n",
      "y = Ds & Type = <class 'str'>\n",
      "args = (3, 4, 5, 6) & type of args = <class 'tuple'>\n"
     ]
    },
    {
     "data": {
      "text/plain": [
       "360"
      ]
     },
     "execution_count": 83,
     "metadata": {},
     "output_type": "execute_result"
    }
   ],
   "source": [
    "def multiplication(a,b,*args,x = \"Python\",y = \"Ds\"):\n",
    "    print(f\"a = {a} & Type = {type(a)}\")\n",
    "    print(f\"b = {b} & Type = {type(b)}\")\n",
    "    print(f\"x = {x} & Type = {type(x)}\")\n",
    "    print(f\"y = {y} & Type = {type(y)}\")\n",
    "    print(f\"args = {args} & type of args = {type(args)}\")\n",
    "    mul = 1\n",
    "    for i in args:\n",
    "        mul *= i\n",
    "    return mul\n",
    "\n",
    "multiplication(1,2,3,4,5,6)"
   ]
  },
  {
   "cell_type": "code",
   "execution_count": 85,
   "id": "a0be6826",
   "metadata": {},
   "outputs": [
    {
     "name": "stdout",
     "output_type": "stream",
     "text": [
      "a = 1 & Type = <class 'int'>\n",
      "b = 2 & Type = <class 'int'>\n",
      "x = R & Type = <class 'str'>\n",
      "y = Ml & Type = <class 'str'>\n",
      "args = (3, 4, 5, 6) & type of args = <class 'tuple'>\n"
     ]
    },
    {
     "data": {
      "text/plain": [
       "360"
      ]
     },
     "execution_count": 85,
     "metadata": {},
     "output_type": "execute_result"
    }
   ],
   "source": [
    "def multiplication(a,b,*args,x = \"Python\",y = \"Ds\"):\n",
    "    print(f\"a = {a} & Type = {type(a)}\")\n",
    "    print(f\"b = {b} & Type = {type(b)}\")\n",
    "    print(f\"x = {x} & Type = {type(x)}\")\n",
    "    print(f\"y = {y} & Type = {type(y)}\")\n",
    "    print(f\"args = {args} & type of args = {type(args)}\")\n",
    "    mul = 1\n",
    "    for i in args:\n",
    "        mul *= i\n",
    "    return mul\n",
    "\n",
    "multiplication(1,2,3,4,5,6,x=\"R\",y=\"Ml\")"
   ]
  },
  {
   "cell_type": "code",
   "execution_count": 86,
   "id": "08a257a8",
   "metadata": {},
   "outputs": [
    {
     "ename": "SyntaxError",
     "evalue": "positional argument follows keyword argument (2269598406.py, line 12)",
     "output_type": "error",
     "traceback": [
      "\u001b[1;36m  Input \u001b[1;32mIn [86]\u001b[1;36m\u001b[0m\n\u001b[1;33m    multiplication(1,2,x=\"R\",y=\"Ml\",3,4,5,6)\u001b[0m\n\u001b[1;37m                                           ^\u001b[0m\n\u001b[1;31mSyntaxError\u001b[0m\u001b[1;31m:\u001b[0m positional argument follows keyword argument\n"
     ]
    }
   ],
   "source": [
    "def multiplication(a,b,*args,x = \"Python\",y = \"Ds\"):\n",
    "    print(f\"a = {a} & Type = {type(a)}\")\n",
    "    print(f\"b = {b} & Type = {type(b)}\")\n",
    "    print(f\"x = {x} & Type = {type(x)}\")\n",
    "    print(f\"y = {y} & Type = {type(y)}\")\n",
    "    print(f\"args = {args} & type of args = {type(args)}\")\n",
    "    mul = 1\n",
    "    for i in args:\n",
    "        mul *= i\n",
    "    return mul\n",
    "\n",
    "multiplication(1,2,x=\"R\",y=\"Ml\",3,4,5,6)"
   ]
  },
  {
   "cell_type": "markdown",
   "id": "1b4f46a6",
   "metadata": {},
   "source": [
    "# 4. Arbitrary Keyword Arguments\n",
    "- **kwargs = **keyword arguments (kwargs is nothing but a variable name)\n",
    "- When we dont know the number of default arguments to be passed \n",
    "- type(kwargs) = Dict"
   ]
  },
  {
   "cell_type": "code",
   "execution_count": 87,
   "id": "6e30d14f",
   "metadata": {},
   "outputs": [
    {
     "name": "stdout",
     "output_type": "stream",
     "text": [
      "a=1,b=2,c=3\n"
     ]
    }
   ],
   "source": [
    "def dummy(a,b,c):\n",
    "    print(f\"a={a},b={b},c={c}\")\n",
    "    \n",
    "dummy(a = 1, b = 2 , c = 3)"
   ]
  },
  {
   "cell_type": "code",
   "execution_count": 88,
   "id": "c0d6e71a",
   "metadata": {},
   "outputs": [
    {
     "name": "stdout",
     "output_type": "stream",
     "text": [
      "a=1,b=2,c=3\n"
     ]
    }
   ],
   "source": [
    "def dummy(a,b,c):\n",
    "    print(f\"a={a},b={b},c={c}\")\n",
    "    \n",
    "dummy( b = 2 , c = 3,a = 1)"
   ]
  },
  {
   "cell_type": "code",
   "execution_count": 89,
   "id": "86cdef8a",
   "metadata": {},
   "outputs": [
    {
     "ename": "TypeError",
     "evalue": "dummy() got an unexpected keyword argument 'd'",
     "output_type": "error",
     "traceback": [
      "\u001b[1;31m---------------------------------------------------------------------------\u001b[0m",
      "\u001b[1;31mTypeError\u001b[0m                                 Traceback (most recent call last)",
      "Input \u001b[1;32mIn [89]\u001b[0m, in \u001b[0;36m<cell line: 4>\u001b[1;34m()\u001b[0m\n\u001b[0;32m      1\u001b[0m \u001b[38;5;28;01mdef\u001b[39;00m \u001b[38;5;21mdummy\u001b[39m(a,b,c):\n\u001b[0;32m      2\u001b[0m     \u001b[38;5;28mprint\u001b[39m(\u001b[38;5;124mf\u001b[39m\u001b[38;5;124m\"\u001b[39m\u001b[38;5;124ma=\u001b[39m\u001b[38;5;132;01m{\u001b[39;00ma\u001b[38;5;132;01m}\u001b[39;00m\u001b[38;5;124m,b=\u001b[39m\u001b[38;5;132;01m{\u001b[39;00mb\u001b[38;5;132;01m}\u001b[39;00m\u001b[38;5;124m,c=\u001b[39m\u001b[38;5;132;01m{\u001b[39;00mc\u001b[38;5;132;01m}\u001b[39;00m\u001b[38;5;124m\"\u001b[39m)\n\u001b[1;32m----> 4\u001b[0m \u001b[43mdummy\u001b[49m\u001b[43m(\u001b[49m\u001b[43m \u001b[49m\u001b[43mb\u001b[49m\u001b[43m \u001b[49m\u001b[38;5;241;43m=\u001b[39;49m\u001b[43m \u001b[49m\u001b[38;5;241;43m2\u001b[39;49m\u001b[43m \u001b[49m\u001b[43m,\u001b[49m\u001b[43m \u001b[49m\u001b[43mc\u001b[49m\u001b[43m \u001b[49m\u001b[38;5;241;43m=\u001b[39;49m\u001b[43m \u001b[49m\u001b[38;5;241;43m3\u001b[39;49m\u001b[43m,\u001b[49m\u001b[43ma\u001b[49m\u001b[43m \u001b[49m\u001b[38;5;241;43m=\u001b[39;49m\u001b[43m \u001b[49m\u001b[38;5;241;43m1\u001b[39;49m\u001b[43m,\u001b[49m\u001b[43md\u001b[49m\u001b[38;5;241;43m=\u001b[39;49m\u001b[38;5;241;43m4\u001b[39;49m\u001b[43m,\u001b[49m\u001b[43me\u001b[49m\u001b[38;5;241;43m=\u001b[39;49m\u001b[38;5;241;43m5\u001b[39;49m\u001b[43m)\u001b[49m\n",
      "\u001b[1;31mTypeError\u001b[0m: dummy() got an unexpected keyword argument 'd'"
     ]
    }
   ],
   "source": [
    "def dummy(a,b,c):\n",
    "    print(f\"a={a},b={b},c={c}\")\n",
    "    \n",
    "dummy( b = 2 , c = 3,a = 1,d=4,e=5)"
   ]
  },
  {
   "cell_type": "code",
   "execution_count": 90,
   "id": "5b5c0ba4",
   "metadata": {},
   "outputs": [
    {
     "name": "stdout",
     "output_type": "stream",
     "text": [
      "a=1,b=2,c=3\n",
      "kwargs = {'d': 4, 'e': 5}\n"
     ]
    }
   ],
   "source": [
    "def dummy(a,b,c,**kwargs):\n",
    "    print(f\"a={a},b={b},c={c}\")\n",
    "    print(f\"kwargs = {kwargs}\")\n",
    "    \n",
    "dummy( b = 2 , c = 3,a = 1 , d = 4 , e = 5)"
   ]
  },
  {
   "cell_type": "code",
   "execution_count": 91,
   "id": "7635ba57",
   "metadata": {},
   "outputs": [
    {
     "name": "stdout",
     "output_type": "stream",
     "text": [
      "a=1,b=2\n",
      "kwargs = {'c': 3, 'd': 4, 'e': 5}\n"
     ]
    }
   ],
   "source": [
    "def dummy(a,b,**kwargs):\n",
    "    print(f\"a={a},b={b}\")\n",
    "    print(f\"kwargs = {kwargs}\")\n",
    "    \n",
    "dummy( b = 2 , c = 3,a = 1 , d = 4 , e = 5)"
   ]
  },
  {
   "cell_type": "code",
   "execution_count": 92,
   "id": "b3910aef",
   "metadata": {},
   "outputs": [
    {
     "name": "stdout",
     "output_type": "stream",
     "text": [
      "a=1\n",
      "kwargs = {'b': 2, 'c': 3, 'd': 4, 'e': 5}\n"
     ]
    }
   ],
   "source": [
    "def dummy(a,**kwargs):\n",
    "    print(f\"a={a}\")\n",
    "    print(f\"kwargs = {kwargs}\")\n",
    "    \n",
    "dummy( b = 2 , c = 3,a = 1 , d = 4 , e = 5)"
   ]
  },
  {
   "cell_type": "code",
   "execution_count": 95,
   "id": "f880de00",
   "metadata": {},
   "outputs": [
    {
     "name": "stdout",
     "output_type": "stream",
     "text": [
      "kwargs = {'b': 2, 'c': 3, 'a': 1, 'd': 4, 'e': 5}\n"
     ]
    },
    {
     "data": {
      "text/plain": [
       "{'b': 2, 'c': 3, 'a': 1, 'd': 4, 'e': 5}"
      ]
     },
     "execution_count": 95,
     "metadata": {},
     "output_type": "execute_result"
    }
   ],
   "source": [
    "def dummy(**kwargs):\n",
    "    print(f\"kwargs = {kwargs}\")\n",
    "    return kwargs\n",
    "    \n",
    "dict1 = dummy( b = 2 , c = 3, a = 1 , d = 4 , e = 5)\n",
    "dict1"
   ]
  },
  {
   "cell_type": "code",
   "execution_count": 96,
   "id": "14d181d1",
   "metadata": {},
   "outputs": [
    {
     "data": {
      "text/plain": [
       "2"
      ]
     },
     "execution_count": 96,
     "metadata": {},
     "output_type": "execute_result"
    }
   ],
   "source": [
    "dict1[\"b\"]"
   ]
  },
  {
   "cell_type": "code",
   "execution_count": 97,
   "id": "92ab607e",
   "metadata": {},
   "outputs": [
    {
     "data": {
      "text/plain": [
       "dict_keys(['b', 'c', 'a', 'd', 'e'])"
      ]
     },
     "execution_count": 97,
     "metadata": {},
     "output_type": "execute_result"
    }
   ],
   "source": [
    "dict1.keys()"
   ]
  },
  {
   "cell_type": "code",
   "execution_count": 98,
   "id": "5d9b671c",
   "metadata": {},
   "outputs": [
    {
     "data": {
      "text/plain": [
       "dict_values([2, 3, 1, 4, 5])"
      ]
     },
     "execution_count": 98,
     "metadata": {},
     "output_type": "execute_result"
    }
   ],
   "source": [
    "dict1.values()"
   ]
  },
  {
   "cell_type": "code",
   "execution_count": 99,
   "id": "e491ef56",
   "metadata": {},
   "outputs": [
    {
     "ename": "TypeError",
     "evalue": "dummy() takes 0 positional arguments but 5 were given",
     "output_type": "error",
     "traceback": [
      "\u001b[1;31m---------------------------------------------------------------------------\u001b[0m",
      "\u001b[1;31mTypeError\u001b[0m                                 Traceback (most recent call last)",
      "Input \u001b[1;32mIn [99]\u001b[0m, in \u001b[0;36m<cell line: 5>\u001b[1;34m()\u001b[0m\n\u001b[0;32m      2\u001b[0m     \u001b[38;5;28mprint\u001b[39m(\u001b[38;5;124mf\u001b[39m\u001b[38;5;124m\"\u001b[39m\u001b[38;5;124ma=\u001b[39m\u001b[38;5;132;01m{\u001b[39;00ma\u001b[38;5;132;01m}\u001b[39;00m\u001b[38;5;124m\"\u001b[39m)\n\u001b[0;32m      3\u001b[0m     \u001b[38;5;28mprint\u001b[39m(\u001b[38;5;124mf\u001b[39m\u001b[38;5;124m\"\u001b[39m\u001b[38;5;124mkwargs = \u001b[39m\u001b[38;5;132;01m{\u001b[39;00mkwargs\u001b[38;5;132;01m}\u001b[39;00m\u001b[38;5;124m\"\u001b[39m)\n\u001b[1;32m----> 5\u001b[0m \u001b[43mdummy\u001b[49m\u001b[43m(\u001b[49m\u001b[38;5;241;43m1\u001b[39;49m\u001b[43m,\u001b[49m\u001b[38;5;241;43m2\u001b[39;49m\u001b[43m,\u001b[49m\u001b[38;5;241;43m3\u001b[39;49m\u001b[43m,\u001b[49m\u001b[38;5;241;43m4\u001b[39;49m\u001b[43m,\u001b[49m\u001b[38;5;241;43m5\u001b[39;49m\u001b[43m)\u001b[49m\n",
      "\u001b[1;31mTypeError\u001b[0m: dummy() takes 0 positional arguments but 5 were given"
     ]
    }
   ],
   "source": [
    "def dummy(**kwargs):\n",
    "    print(f\"a={a}\")\n",
    "    print(f\"kwargs = {kwargs}\")\n",
    "    \n",
    "dummy(1,2,3,4,5)"
   ]
  },
  {
   "cell_type": "code",
   "execution_count": 100,
   "id": "84d7b428",
   "metadata": {},
   "outputs": [
    {
     "ename": "TypeError",
     "evalue": "dummy() takes 0 positional arguments but 1 was given",
     "output_type": "error",
     "traceback": [
      "\u001b[1;31m---------------------------------------------------------------------------\u001b[0m",
      "\u001b[1;31mTypeError\u001b[0m                                 Traceback (most recent call last)",
      "Input \u001b[1;32mIn [100]\u001b[0m, in \u001b[0;36m<cell line: 5>\u001b[1;34m()\u001b[0m\n\u001b[0;32m      2\u001b[0m     \u001b[38;5;28mprint\u001b[39m(\u001b[38;5;124mf\u001b[39m\u001b[38;5;124m\"\u001b[39m\u001b[38;5;124ma=\u001b[39m\u001b[38;5;132;01m{\u001b[39;00ma\u001b[38;5;132;01m}\u001b[39;00m\u001b[38;5;124m\"\u001b[39m)\n\u001b[0;32m      3\u001b[0m     \u001b[38;5;28mprint\u001b[39m(\u001b[38;5;124mf\u001b[39m\u001b[38;5;124m\"\u001b[39m\u001b[38;5;124mkwargs = \u001b[39m\u001b[38;5;132;01m{\u001b[39;00mkwargs\u001b[38;5;132;01m}\u001b[39;00m\u001b[38;5;124m\"\u001b[39m)\n\u001b[1;32m----> 5\u001b[0m \u001b[43mdummy\u001b[49m\u001b[43m(\u001b[49m\u001b[43m(\u001b[49m\u001b[38;5;241;43m1\u001b[39;49m\u001b[43m,\u001b[49m\u001b[38;5;241;43m2\u001b[39;49m\u001b[43m,\u001b[49m\u001b[38;5;241;43m3\u001b[39;49m\u001b[43m,\u001b[49m\u001b[38;5;241;43m4\u001b[39;49m\u001b[43m,\u001b[49m\u001b[38;5;241;43m5\u001b[39;49m\u001b[43m)\u001b[49m\u001b[43m)\u001b[49m\n",
      "\u001b[1;31mTypeError\u001b[0m: dummy() takes 0 positional arguments but 1 was given"
     ]
    }
   ],
   "source": [
    "def dummy(**kwargs):\n",
    "    print(f\"a={a}\")\n",
    "    print(f\"kwargs = {kwargs}\")\n",
    "    \n",
    "dummy((1,2,3,4,5))"
   ]
  },
  {
   "cell_type": "code",
   "execution_count": 104,
   "id": "be2d729b",
   "metadata": {},
   "outputs": [
    {
     "name": "stdout",
     "output_type": "stream",
     "text": [
      "kwargs = ((1, 2, 3, 4, 5),)\n"
     ]
    }
   ],
   "source": [
    "def dummy(*kwargs):\n",
    "    print(f\"kwargs = {kwargs}\")\n",
    "    \n",
    "dummy((1,2,3,4,5))"
   ]
  },
  {
   "cell_type": "code",
   "execution_count": 105,
   "id": "fa4122be",
   "metadata": {},
   "outputs": [
    {
     "name": "stdout",
     "output_type": "stream",
     "text": [
      "a = 1, b = 2, c = 3\n",
      "args = ()\n",
      "x = 50 & y = 100\n",
      "kwargs = {}\n"
     ]
    }
   ],
   "source": [
    "def test_params(a,b,c,*args,x = 50,y = 100, **kwargs):\n",
    "    print(f\"a = {a}, b = {b}, c = {c}\")\n",
    "    print(f\"args = {args}\")\n",
    "    print(f\"x = {x} & y = {y}\")\n",
    "    print(f\"kwargs = {kwargs}\")\n",
    "    \n",
    "test_params(1,2,3)"
   ]
  },
  {
   "cell_type": "code",
   "execution_count": 106,
   "id": "554b7ab9",
   "metadata": {},
   "outputs": [
    {
     "name": "stdout",
     "output_type": "stream",
     "text": [
      "a = 1, b = 2, c = 3\n",
      "args = (4, 5, 6, 7)\n",
      "x = 50 & y = 100\n",
      "kwargs = {}\n"
     ]
    }
   ],
   "source": [
    "def test_params(a,b,c,*args,x = 50,y = 100, **kwargs):\n",
    "    print(f\"a = {a}, b = {b}, c = {c}\")\n",
    "    print(f\"args = {args}\")\n",
    "    print(f\"x = {x} & y = {y}\")\n",
    "    print(f\"kwargs = {kwargs}\")\n",
    "    \n",
    "test_params(1,2,3,4,5,6,7)"
   ]
  },
  {
   "cell_type": "code",
   "execution_count": 107,
   "id": "00880fa3",
   "metadata": {},
   "outputs": [
    {
     "name": "stdout",
     "output_type": "stream",
     "text": [
      "a = 1, b = 2, c = 3\n",
      "args = (4, 5, 6, 7)\n",
      "x = Python & y = Data Science\n",
      "kwargs = {}\n"
     ]
    }
   ],
   "source": [
    "def test_params(a,b,c,*args,x = 50,y = 100, **kwargs):\n",
    "    print(f\"a = {a}, b = {b}, c = {c}\")\n",
    "    print(f\"args = {args}\")\n",
    "    print(f\"x = {x} & y = {y}\")\n",
    "    print(f\"kwargs = {kwargs}\")\n",
    "    \n",
    "test_params(1,2,3,4,5,6,7,x=\"Python\",y = \"Data Science\")"
   ]
  },
  {
   "cell_type": "code",
   "execution_count": 108,
   "id": "8e8d573b",
   "metadata": {},
   "outputs": [
    {
     "name": "stdout",
     "output_type": "stream",
     "text": [
      "a = 1, b = 2, c = 3\n",
      "args = (4, 5, 6, 7)\n",
      "x = Python & y = 100\n",
      "kwargs = {}\n"
     ]
    }
   ],
   "source": [
    "def test_params(a,b,c,*args,x = 50,y = 100, **kwargs):\n",
    "    print(f\"a = {a}, b = {b}, c = {c}\")\n",
    "    print(f\"args = {args}\")\n",
    "    print(f\"x = {x} & y = {y}\")\n",
    "    print(f\"kwargs = {kwargs}\")\n",
    "    \n",
    "test_params(1,2,3,4,5,6,7,x=\"Python\")"
   ]
  },
  {
   "cell_type": "code",
   "execution_count": 114,
   "id": "fb0a3a9f",
   "metadata": {},
   "outputs": [
    {
     "name": "stdout",
     "output_type": "stream",
     "text": [
      "a = 1, b = 2, c = 3\n",
      "args = (4, 5, 6, 7)\n",
      "x = Python & y = 100 & z = False\n",
      "kwargs = {}\n"
     ]
    }
   ],
   "source": [
    "def test_params(a,b,c,*args,x = 50,y = 100, z = True , x1 = None, **kwargs):\n",
    "    print(f\"a = {a}, b = {b}, c = {c}\")\n",
    "    print(f\"args = {args}\")\n",
    "    print(f\"x = {x} & y = {y} & z = {z}\")\n",
    "    print(f\"kwargs = {kwargs}\")\n",
    "    \n",
    "test_params(1,2,3,4,5,6,7,x=\"Python\",z=False)"
   ]
  },
  {
   "cell_type": "code",
   "execution_count": 115,
   "id": "8767a2cc",
   "metadata": {},
   "outputs": [
    {
     "name": "stdout",
     "output_type": "stream",
     "text": [
      "a = 1, b = 2, c = 3\n",
      "args = (4, 5, 6, 7)\n",
      "x = Python & y = 100 & z = False\n",
      "kwargs = {'n1': 10, 'n2': 20, 'n3': 30, 'n4': 40, 'n5': 50}\n"
     ]
    }
   ],
   "source": [
    "def test_params(a,b,c,*args,x = 50,y = 100, z = True , x1 = None, **kwargs):\n",
    "    print(f\"a = {a}, b = {b}, c = {c}\")\n",
    "    print(f\"args = {args}\")\n",
    "    print(f\"x = {x} & y = {y} & z = {z}\")\n",
    "    print(f\"kwargs = {kwargs}\")\n",
    "    \n",
    "test_params(1,2,3,4,5,6,7,x=\"Python\",z=False,n1= 10, n2  = 20, n3 = 30, n4 = 40, n5 = 50)"
   ]
  },
  {
   "cell_type": "code",
   "execution_count": 117,
   "id": "ee4653c8",
   "metadata": {},
   "outputs": [
    {
     "name": "stdout",
     "output_type": "stream",
     "text": [
      "a = 1, b = 2, c = 3\n",
      "args = (4, 5, 6, 7)\n",
      "x = Python & y = 100 & z = False\n",
      "kwargs = {'n1': 10, 'n2': 20, 'n3': 30, 'n4': 40, 'n5': 50}\n"
     ]
    }
   ],
   "source": [
    "def test_params(a,b,c,*args,x = 50,y = 100, z = True , x1 = None, **kwargs):\n",
    "    print(f\"a = {a}, b = {b}, c = {c}\")\n",
    "    print(f\"args = {args}\")\n",
    "    print(f\"x = {x} & y = {y} & z = {z}\")\n",
    "    print(f\"kwargs = {kwargs}\")\n",
    "    \n",
    "test_params(1,2,3,4,5,6,7,x=\"Python\",z=False,n1= 10, n2  = 20, n3 = 30, n4 = 40, n5 = 50)"
   ]
  },
  {
   "cell_type": "code",
   "execution_count": 118,
   "id": "2aa57d3a",
   "metadata": {},
   "outputs": [
    {
     "ename": "SyntaxError",
     "evalue": "invalid syntax (3569724258.py, line 1)",
     "output_type": "error",
     "traceback": [
      "\u001b[1;36m  Input \u001b[1;32mIn [118]\u001b[1;36m\u001b[0m\n\u001b[1;33m    def test_params(a,b,c,**args,x = 50,y = 100, z = True , x1 = None, *kwargs):\u001b[0m\n\u001b[1;37m                                 ^\u001b[0m\n\u001b[1;31mSyntaxError\u001b[0m\u001b[1;31m:\u001b[0m invalid syntax\n"
     ]
    }
   ],
   "source": [
    "def test_params(a,b,c,**args,x = 50,y = 100, z = True , x1 = None, *kwargs):\n",
    "    print(f\"a = {a}, b = {b}, c = {c}\")\n",
    "    print(f\"args = {args}\")\n",
    "    print(f\"x = {x} & y = {y} & z = {z}\")\n",
    "    print(f\"kwargs = {kwargs}\")\n",
    "    \n",
    "test_params(1,2,3,4,5,6,7,x=\"Python\",z=False,n1= 10, n2  = 20, n3 = 30, n4 = 40, n5 = 50)"
   ]
  },
  {
   "cell_type": "code",
   "execution_count": null,
   "id": "b8569998",
   "metadata": {},
   "outputs": [],
   "source": []
  },
  {
   "cell_type": "code",
   "execution_count": null,
   "id": "f0a7658b",
   "metadata": {},
   "outputs": [],
   "source": []
  },
  {
   "cell_type": "code",
   "execution_count": null,
   "id": "77259b7f",
   "metadata": {},
   "outputs": [],
   "source": []
  },
  {
   "cell_type": "code",
   "execution_count": null,
   "id": "eec15231",
   "metadata": {},
   "outputs": [],
   "source": []
  },
  {
   "cell_type": "code",
   "execution_count": null,
   "id": "17e01536",
   "metadata": {},
   "outputs": [],
   "source": []
  },
  {
   "cell_type": "code",
   "execution_count": null,
   "id": "b751e24c",
   "metadata": {},
   "outputs": [],
   "source": []
  },
  {
   "cell_type": "code",
   "execution_count": null,
   "id": "547c4725",
   "metadata": {},
   "outputs": [],
   "source": []
  },
  {
   "cell_type": "code",
   "execution_count": null,
   "id": "704a7c8f",
   "metadata": {},
   "outputs": [],
   "source": []
  },
  {
   "cell_type": "code",
   "execution_count": null,
   "id": "6084bf88",
   "metadata": {},
   "outputs": [],
   "source": []
  },
  {
   "cell_type": "code",
   "execution_count": null,
   "id": "7a883033",
   "metadata": {},
   "outputs": [],
   "source": []
  },
  {
   "cell_type": "code",
   "execution_count": null,
   "id": "5d6409fd",
   "metadata": {},
   "outputs": [],
   "source": []
  },
  {
   "cell_type": "code",
   "execution_count": null,
   "id": "8906e8cc",
   "metadata": {},
   "outputs": [],
   "source": []
  },
  {
   "cell_type": "code",
   "execution_count": null,
   "id": "f5a11b56",
   "metadata": {},
   "outputs": [],
   "source": []
  },
  {
   "cell_type": "code",
   "execution_count": null,
   "id": "969993bc",
   "metadata": {},
   "outputs": [],
   "source": []
  },
  {
   "cell_type": "code",
   "execution_count": null,
   "id": "70bdb7fa",
   "metadata": {},
   "outputs": [],
   "source": []
  },
  {
   "cell_type": "code",
   "execution_count": null,
   "id": "a6a35ae2",
   "metadata": {},
   "outputs": [],
   "source": []
  },
  {
   "cell_type": "code",
   "execution_count": null,
   "id": "a2787045",
   "metadata": {},
   "outputs": [],
   "source": []
  },
  {
   "cell_type": "code",
   "execution_count": null,
   "id": "876b5df0",
   "metadata": {},
   "outputs": [],
   "source": []
  }
 ],
 "metadata": {
  "kernelspec": {
   "display_name": "Python 3 (ipykernel)",
   "language": "python",
   "name": "python3"
  },
  "language_info": {
   "codemirror_mode": {
    "name": "ipython",
    "version": 3
   },
   "file_extension": ".py",
   "mimetype": "text/x-python",
   "name": "python",
   "nbconvert_exporter": "python",
   "pygments_lexer": "ipython3",
   "version": "3.9.12"
  }
 },
 "nbformat": 4,
 "nbformat_minor": 5
}
