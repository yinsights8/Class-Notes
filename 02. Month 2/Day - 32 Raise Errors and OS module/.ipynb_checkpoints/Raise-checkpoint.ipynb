{
 "cells": [
  {
   "cell_type": "markdown",
   "id": "bcf6dcb2",
   "metadata": {},
   "source": [
    "# Raise"
   ]
  },
  {
   "cell_type": "code",
   "execution_count": 1,
   "id": "f9dc7f66",
   "metadata": {},
   "outputs": [
    {
     "name": "stdout",
     "output_type": "stream",
     "text": [
      "Addition of 10 and 20 == 30\n"
     ]
    }
   ],
   "source": [
    "a = 10\n",
    "b = 20\n",
    "if type(a) == int and type(b) == int:\n",
    "    add = a + b\n",
    "    print(f\"Addition of {a} and {b} == {add}\")\n"
   ]
  },
  {
   "cell_type": "code",
   "execution_count": 2,
   "id": "987724cb",
   "metadata": {},
   "outputs": [
    {
     "name": "stdout",
     "output_type": "stream",
     "text": [
      "50\n",
      "60\n",
      "Addition of 50 and 60 == 110\n"
     ]
    }
   ],
   "source": [
    "a = int(input())\n",
    "b = int(input())\n",
    "if type(a) == int and type(b) == int:\n",
    "    add = a + b\n",
    "    print(f\"Addition of {a} and {b} == {add}\")\n"
   ]
  },
  {
   "cell_type": "code",
   "execution_count": 3,
   "id": "04e7754a",
   "metadata": {},
   "outputs": [
    {
     "name": "stdout",
     "output_type": "stream",
     "text": [
      "50\n",
      "60\n"
     ]
    }
   ],
   "source": [
    "a = input()\n",
    "b = int(input())\n",
    "if type(a) == int and type(b) == int: # False\n",
    "    add = a + b\n",
    "    print(f\"Addition of {a} and {b} == {add}\")"
   ]
  },
  {
   "cell_type": "code",
   "execution_count": 4,
   "id": "4a14090e",
   "metadata": {},
   "outputs": [
    {
     "ename": "TypeError",
     "evalue": "can only concatenate str (not \"int\") to str",
     "output_type": "error",
     "traceback": [
      "\u001b[1;31m---------------------------------------------------------------------------\u001b[0m",
      "\u001b[1;31mTypeError\u001b[0m                                 Traceback (most recent call last)",
      "Input \u001b[1;32mIn [4]\u001b[0m, in \u001b[0;36m<cell line: 1>\u001b[1;34m()\u001b[0m\n\u001b[1;32m----> 1\u001b[0m \u001b[38;5;124;43m\"\u001b[39;49m\u001b[38;5;124;43m50\u001b[39;49m\u001b[38;5;124;43m\"\u001b[39;49m\u001b[43m \u001b[49m\u001b[38;5;241;43m+\u001b[39;49m\u001b[43m \u001b[49m\u001b[38;5;241;43m60\u001b[39;49m\n",
      "\u001b[1;31mTypeError\u001b[0m: can only concatenate str (not \"int\") to str"
     ]
    }
   ],
   "source": [
    "\"50\" + 60"
   ]
  },
  {
   "cell_type": "code",
   "execution_count": 5,
   "id": "8b77e059",
   "metadata": {},
   "outputs": [
    {
     "name": "stdout",
     "output_type": "stream",
     "text": [
      "30\n",
      "40\n"
     ]
    },
    {
     "ename": "TypeError",
     "evalue": "",
     "output_type": "error",
     "traceback": [
      "\u001b[1;31m---------------------------------------------------------------------------\u001b[0m",
      "\u001b[1;31mTypeError\u001b[0m                                 Traceback (most recent call last)",
      "Input \u001b[1;32mIn [5]\u001b[0m, in \u001b[0;36m<cell line: 3>\u001b[1;34m()\u001b[0m\n\u001b[0;32m      5\u001b[0m     \u001b[38;5;28mprint\u001b[39m(\u001b[38;5;124mf\u001b[39m\u001b[38;5;124m\"\u001b[39m\u001b[38;5;124mAddition of \u001b[39m\u001b[38;5;132;01m{\u001b[39;00ma\u001b[38;5;132;01m}\u001b[39;00m\u001b[38;5;124m and \u001b[39m\u001b[38;5;132;01m{\u001b[39;00mb\u001b[38;5;132;01m}\u001b[39;00m\u001b[38;5;124m == \u001b[39m\u001b[38;5;132;01m{\u001b[39;00madd\u001b[38;5;132;01m}\u001b[39;00m\u001b[38;5;124m\"\u001b[39m)\n\u001b[0;32m      6\u001b[0m \u001b[38;5;28;01melse\u001b[39;00m:\n\u001b[1;32m----> 7\u001b[0m     \u001b[38;5;28;01mraise\u001b[39;00m \u001b[38;5;167;01mTypeError\u001b[39;00m\n",
      "\u001b[1;31mTypeError\u001b[0m: "
     ]
    }
   ],
   "source": [
    "a = input()\n",
    "b = int(input())\n",
    "if type(a) == int and type(b) == int: # False\n",
    "    add = a + b\n",
    "    print(f\"Addition of {a} and {b} == {add}\")\n",
    "else:\n",
    "    raise TypeError"
   ]
  },
  {
   "cell_type": "code",
   "execution_count": 6,
   "id": "74c8fe66",
   "metadata": {},
   "outputs": [
    {
     "name": "stdout",
     "output_type": "stream",
     "text": [
      "5\n",
      "5\n"
     ]
    },
    {
     "ename": "TypeError",
     "evalue": "Both numbers needs to be an integer",
     "output_type": "error",
     "traceback": [
      "\u001b[1;31m---------------------------------------------------------------------------\u001b[0m",
      "\u001b[1;31mTypeError\u001b[0m                                 Traceback (most recent call last)",
      "Input \u001b[1;32mIn [6]\u001b[0m, in \u001b[0;36m<cell line: 3>\u001b[1;34m()\u001b[0m\n\u001b[0;32m      5\u001b[0m     \u001b[38;5;28mprint\u001b[39m(\u001b[38;5;124mf\u001b[39m\u001b[38;5;124m\"\u001b[39m\u001b[38;5;124mAddition of \u001b[39m\u001b[38;5;132;01m{\u001b[39;00ma\u001b[38;5;132;01m}\u001b[39;00m\u001b[38;5;124m and \u001b[39m\u001b[38;5;132;01m{\u001b[39;00mb\u001b[38;5;132;01m}\u001b[39;00m\u001b[38;5;124m == \u001b[39m\u001b[38;5;132;01m{\u001b[39;00madd\u001b[38;5;132;01m}\u001b[39;00m\u001b[38;5;124m\"\u001b[39m)\n\u001b[0;32m      6\u001b[0m \u001b[38;5;28;01melse\u001b[39;00m:\n\u001b[1;32m----> 7\u001b[0m     \u001b[38;5;28;01mraise\u001b[39;00m \u001b[38;5;167;01mTypeError\u001b[39;00m(\u001b[38;5;124m\"\u001b[39m\u001b[38;5;124mBoth numbers needs to be an integer\u001b[39m\u001b[38;5;124m\"\u001b[39m)\n",
      "\u001b[1;31mTypeError\u001b[0m: Both numbers needs to be an integer"
     ]
    }
   ],
   "source": [
    "a = input()\n",
    "b = int(input())\n",
    "if type(a) == int and type(b) == int: # False\n",
    "    add = a + b\n",
    "    print(f\"Addition of {a} and {b} == {add}\")\n",
    "else:\n",
    "    raise TypeError(\"Both numbers needs to be an integer\")"
   ]
  },
  {
   "cell_type": "code",
   "execution_count": 7,
   "id": "0e3a09e9",
   "metadata": {},
   "outputs": [],
   "source": [
    "import traceback"
   ]
  },
  {
   "cell_type": "code",
   "execution_count": 8,
   "id": "15b973c1",
   "metadata": {},
   "outputs": [
    {
     "name": "stdout",
     "output_type": "stream",
     "text": [
      "4\n",
      "4\n"
     ]
    },
    {
     "name": "stderr",
     "output_type": "stream",
     "text": [
      "NoneType: None\n"
     ]
    },
    {
     "ename": "TypeError",
     "evalue": "exceptions must derive from BaseException",
     "output_type": "error",
     "traceback": [
      "\u001b[1;31m---------------------------------------------------------------------------\u001b[0m",
      "\u001b[1;31mTypeError\u001b[0m                                 Traceback (most recent call last)",
      "Input \u001b[1;32mIn [8]\u001b[0m, in \u001b[0;36m<cell line: 3>\u001b[1;34m()\u001b[0m\n\u001b[0;32m      5\u001b[0m     \u001b[38;5;28mprint\u001b[39m(\u001b[38;5;124mf\u001b[39m\u001b[38;5;124m\"\u001b[39m\u001b[38;5;124mAddition of \u001b[39m\u001b[38;5;132;01m{\u001b[39;00ma\u001b[38;5;132;01m}\u001b[39;00m\u001b[38;5;124m and \u001b[39m\u001b[38;5;132;01m{\u001b[39;00mb\u001b[38;5;132;01m}\u001b[39;00m\u001b[38;5;124m == \u001b[39m\u001b[38;5;132;01m{\u001b[39;00madd\u001b[38;5;132;01m}\u001b[39;00m\u001b[38;5;124m\"\u001b[39m)\n\u001b[0;32m      6\u001b[0m \u001b[38;5;28;01melse\u001b[39;00m:\n\u001b[1;32m----> 7\u001b[0m     \u001b[38;5;28;01mraise\u001b[39;00m traceback\u001b[38;5;241m.\u001b[39mprint_exc()\n",
      "\u001b[1;31mTypeError\u001b[0m: exceptions must derive from BaseException"
     ]
    }
   ],
   "source": [
    "a = input()\n",
    "b = int(input())\n",
    "if type(a) == int and type(b) == int: # False\n",
    "    add = a + b\n",
    "    print(f\"Addition of {a} and {b} == {add}\")\n",
    "else:\n",
    "    raise traceback.print_exc()"
   ]
  },
  {
   "cell_type": "code",
   "execution_count": 9,
   "id": "a6ea138b",
   "metadata": {},
   "outputs": [
    {
     "name": "stdout",
     "output_type": "stream",
     "text": [
      "4\n",
      "4\n"
     ]
    },
    {
     "name": "stderr",
     "output_type": "stream",
     "text": [
      "Traceback (most recent call last):\n",
      "  File \"C:\\Users\\hp\\AppData\\Local\\Temp\\ipykernel_15560\\2441079692.py\", line 4, in <cell line: 3>\n",
      "    add = a + b\n",
      "TypeError: can only concatenate str (not \"int\") to str\n"
     ]
    }
   ],
   "source": [
    "a = input()\n",
    "b = int(input())\n",
    "try:\n",
    "    add = a + b\n",
    "except:\n",
    "    traceback.print_exc()"
   ]
  },
  {
   "cell_type": "code",
   "execution_count": 12,
   "id": "75514884",
   "metadata": {},
   "outputs": [
    {
     "name": "stdout",
     "output_type": "stream",
     "text": [
      "Models are present\n"
     ]
    }
   ],
   "source": [
    "li = [\"LR.pkl\",\"LOR.pkl\"]\n",
    "if li:\n",
    "    print(\"Models are present\")\n"
   ]
  },
  {
   "cell_type": "code",
   "execution_count": 14,
   "id": "40cb49f3",
   "metadata": {},
   "outputs": [
    {
     "ename": "FileNotFoundError",
     "evalue": "Models not found",
     "output_type": "error",
     "traceback": [
      "\u001b[1;31m---------------------------------------------------------------------------\u001b[0m",
      "\u001b[1;31mFileNotFoundError\u001b[0m                         Traceback (most recent call last)",
      "Input \u001b[1;32mIn [14]\u001b[0m, in \u001b[0;36m<cell line: 2>\u001b[1;34m()\u001b[0m\n\u001b[0;32m      1\u001b[0m li \u001b[38;5;241m=\u001b[39m []\n\u001b[0;32m      2\u001b[0m \u001b[38;5;28;01mif\u001b[39;00m \u001b[38;5;129;01mnot\u001b[39;00m li:\n\u001b[1;32m----> 3\u001b[0m     \u001b[38;5;28;01mraise\u001b[39;00m \u001b[38;5;167;01mFileNotFoundError\u001b[39;00m(\u001b[38;5;124m\"\u001b[39m\u001b[38;5;124mModels not found\u001b[39m\u001b[38;5;124m\"\u001b[39m)\n",
      "\u001b[1;31mFileNotFoundError\u001b[0m: Models not found"
     ]
    }
   ],
   "source": [
    "li = []\n",
    "if not li:\n",
    "    raise FileNotFoundError(\"Models not found\")"
   ]
  },
  {
   "cell_type": "code",
   "execution_count": 15,
   "id": "cc922d2f",
   "metadata": {},
   "outputs": [
    {
     "ename": "ZeroDivisionError",
     "evalue": "division by zero",
     "output_type": "error",
     "traceback": [
      "\u001b[1;31m---------------------------------------------------------------------------\u001b[0m",
      "\u001b[1;31mZeroDivisionError\u001b[0m                         Traceback (most recent call last)",
      "Input \u001b[1;32mIn [15]\u001b[0m, in \u001b[0;36m<cell line: 1>\u001b[1;34m()\u001b[0m\n\u001b[1;32m----> 1\u001b[0m \u001b[38;5;241;43m5\u001b[39;49m\u001b[43m \u001b[49m\u001b[38;5;241;43m/\u001b[39;49m\u001b[43m \u001b[49m\u001b[38;5;241;43m0\u001b[39;49m\n",
      "\u001b[1;31mZeroDivisionError\u001b[0m: division by zero"
     ]
    }
   ],
   "source": [
    "5 / 0"
   ]
  },
  {
   "cell_type": "code",
   "execution_count": 17,
   "id": "fba51843",
   "metadata": {},
   "outputs": [
    {
     "ename": "ZeroDivisionError",
     "evalue": "Denominator should not equal to zero",
     "output_type": "error",
     "traceback": [
      "\u001b[1;31m---------------------------------------------------------------------------\u001b[0m",
      "\u001b[1;31mZeroDivisionError\u001b[0m                         Traceback (most recent call last)",
      "Input \u001b[1;32mIn [17]\u001b[0m, in \u001b[0;36m<cell line: 3>\u001b[1;34m()\u001b[0m\n\u001b[0;32m      2\u001b[0m b \u001b[38;5;241m=\u001b[39m \u001b[38;5;241m0\u001b[39m\n\u001b[0;32m      3\u001b[0m \u001b[38;5;28;01mif\u001b[39;00m b \u001b[38;5;241m==\u001b[39m \u001b[38;5;241m0\u001b[39m:\n\u001b[1;32m----> 4\u001b[0m     \u001b[38;5;28;01mraise\u001b[39;00m \u001b[38;5;167;01mZeroDivisionError\u001b[39;00m(\u001b[38;5;124m\"\u001b[39m\u001b[38;5;124mDenominator should not equal to zero\u001b[39m\u001b[38;5;124m\"\u001b[39m)\n",
      "\u001b[1;31mZeroDivisionError\u001b[0m: Denominator should not equal to zero"
     ]
    }
   ],
   "source": [
    "a = 10\n",
    "b = 0\n",
    "if b == 0:\n",
    "    raise ZeroDivisionError(\"Denominator should not equal to zero\")"
   ]
  },
  {
   "cell_type": "markdown",
   "id": "a35fc519",
   "metadata": {},
   "source": [
    "# Nested try-except"
   ]
  },
  {
   "cell_type": "code",
   "execution_count": 18,
   "id": "efdbe599",
   "metadata": {},
   "outputs": [
    {
     "name": "stdout",
     "output_type": "stream",
     "text": [
      "Nested 3 try block\n"
     ]
    }
   ],
   "source": [
    "try:\n",
    "    try:\n",
    "        try:\n",
    "            print(\"Nested 3 try block\")\n",
    "            \n",
    "        except:\n",
    "            print(\"Except 3 block\")       \n",
    "        \n",
    "    except:  \n",
    "        print(\"Except 2 blpck\")   \n",
    "    \n",
    "except:\n",
    "    print(\"Except 1 block\")"
   ]
  },
  {
   "cell_type": "code",
   "execution_count": 20,
   "id": "e68aa0fc",
   "metadata": {},
   "outputs": [
    {
     "name": "stdout",
     "output_type": "stream",
     "text": [
      "Nested 3 try block\n",
      "Except 3 block\n"
     ]
    }
   ],
   "source": [
    "try:\n",
    "    try:\n",
    "        try:\n",
    "            print(\"Nested 3 try block\")\n",
    "            print(f\"Your batch is {30}-{Month}\")\n",
    "            \n",
    "        except:\n",
    "            print(\"Except 3 block\")       \n",
    "        \n",
    "    except:  \n",
    "        print(\"Except 2 block\")   \n",
    "    \n",
    "except:\n",
    "    print(\"Except 1 block\")"
   ]
  },
  {
   "cell_type": "code",
   "execution_count": 28,
   "id": "ca375727",
   "metadata": {},
   "outputs": [
    {
     "name": "stdout",
     "output_type": "stream",
     "text": [
      "Try block 1\n",
      "try 2 block\n",
      "try 3 block\n",
      "Except 1 block\n"
     ]
    }
   ],
   "source": [
    "try:\n",
    "    print(\"Try block 1\")\n",
    "    try:\n",
    "        print(\"try 2 block\")\n",
    "        try:\n",
    "            print(\"try 3 block\")\n",
    "#             print(f\"Your batch is {30}-{Month}\")\n",
    "            \n",
    "        except:\n",
    "            print(\"Except 3 block\") \n",
    "#         print(a1 + b1)\n",
    "        \n",
    "    except:  \n",
    "        print(\"Except 2 block\")  \n",
    "    print(a1 + b1)\n",
    "    \n",
    "except:\n",
    "    print(\"Except 1 block\")"
   ]
  },
  {
   "cell_type": "code",
   "execution_count": 31,
   "id": "fcf8d89c",
   "metadata": {},
   "outputs": [
    {
     "name": "stdout",
     "output_type": "stream",
     "text": [
      "Try 1\n",
      "Try 2\n",
      "except 1\n"
     ]
    }
   ],
   "source": [
    "try:\n",
    "    print(\"Try 1\")\n",
    "    try:\n",
    "        print(\"Try 2\")\n",
    "    except:\n",
    "        print(\"Except 2\")\n",
    "    a1 + b1\n",
    "except:\n",
    "    print(\"except 1\")"
   ]
  },
  {
   "cell_type": "code",
   "execution_count": 32,
   "id": "cde503c6",
   "metadata": {},
   "outputs": [
    {
     "name": "stdout",
     "output_type": "stream",
     "text": [
      "Try 1\n",
      "Try 2\n",
      "Except 2\n",
      "except 1\n"
     ]
    }
   ],
   "source": [
    "try:\n",
    "    print(\"Try 1\")\n",
    "    try:\n",
    "        print(\"Try 2\")\n",
    "        a2 + b2\n",
    "    except:\n",
    "        print(\"Except 2\")\n",
    "    a1 + b1\n",
    "except:\n",
    "    print(\"except 1\")"
   ]
  },
  {
   "cell_type": "code",
   "execution_count": 34,
   "id": "54767d52",
   "metadata": {},
   "outputs": [
    {
     "name": "stdout",
     "output_type": "stream",
     "text": [
      "Allowed for loan\n"
     ]
    }
   ],
   "source": [
    "age = 67\n",
    "try:\n",
    "    if age > 18:\n",
    "        print(\"Allowed for loan\")\n",
    "except:\n",
    "    print(\"Not allowed due to age limit\")"
   ]
  },
  {
   "cell_type": "code",
   "execution_count": 39,
   "id": "c069ac0f",
   "metadata": {},
   "outputs": [],
   "source": [
    "age = 89\n",
    "try:\n",
    "    if age < 18: # False\n",
    "        print(\"Allowed for loan\")\n",
    "    try:\n",
    "        if age < 60: # False\n",
    "            print(\"Allowed\")\n",
    "    except:\n",
    "        print(\"Not allowed due to age limit2\")\n",
    "except:\n",
    "    print(\"Not allowed due to age limit1\")"
   ]
  },
  {
   "cell_type": "code",
   "execution_count": null,
   "id": "86baf756",
   "metadata": {},
   "outputs": [],
   "source": []
  }
 ],
 "metadata": {
  "kernelspec": {
   "display_name": "Python 3 (ipykernel)",
   "language": "python",
   "name": "python3"
  },
  "language_info": {
   "codemirror_mode": {
    "name": "ipython",
    "version": 3
   },
   "file_extension": ".py",
   "mimetype": "text/x-python",
   "name": "python",
   "nbconvert_exporter": "python",
   "pygments_lexer": "ipython3",
   "version": "3.10.5"
  }
 },
 "nbformat": 4,
 "nbformat_minor": 5
}
