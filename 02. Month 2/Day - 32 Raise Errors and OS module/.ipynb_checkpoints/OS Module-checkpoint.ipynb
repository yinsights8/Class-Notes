{
 "cells": [
  {
   "cell_type": "markdown",
   "id": "6e7aa738",
   "metadata": {},
   "source": [
    "# OS Module\n",
    "- Operating System = It will provide the ability to deal with operating system(Task)"
   ]
  },
  {
   "cell_type": "raw",
   "id": "03b9a88e",
   "metadata": {},
   "source": [
    "- Create File\n",
    "- Create a folder\n",
    "- Delete a folder\n",
    "- Delete file\n",
    "- Move folder\n",
    "- Copy\n",
    "- Check the path/work on path"
   ]
  },
  {
   "cell_type": "markdown",
   "id": "c7fe170a",
   "metadata": {},
   "source": [
    "# Importing OS Module"
   ]
  },
  {
   "cell_type": "code",
   "execution_count": 1,
   "id": "b9f0fb27",
   "metadata": {},
   "outputs": [],
   "source": [
    "import os"
   ]
  },
  {
   "cell_type": "markdown",
   "id": "e1927f78",
   "metadata": {},
   "source": [
    "# 1. rename()\n",
    "- os.rename(old_file_name,new_file_name)"
   ]
  },
  {
   "cell_type": "code",
   "execution_count": 2,
   "id": "0a525c50",
   "metadata": {},
   "outputs": [],
   "source": [
    "with open(\"Sample.txt\",\"w\") as f:\n",
    "    f.write(\"Creating this file for os module operations\")"
   ]
  },
  {
   "cell_type": "code",
   "execution_count": 3,
   "id": "1b336b46",
   "metadata": {},
   "outputs": [],
   "source": [
    "old_file_name = \"Sample.txt\"\n",
    "new_file_name = \"SAMPLE.txt\"\n",
    "os.rename(old_file_name,new_file_name)"
   ]
  },
  {
   "cell_type": "code",
   "execution_count": 4,
   "id": "b061f09a",
   "metadata": {},
   "outputs": [],
   "source": [
    "with open(\"Sample0001.txt\",\"w\") as f:\n",
    "    f.write(\"Creating this file for os module operations\")"
   ]
  },
  {
   "cell_type": "code",
   "execution_count": 5,
   "id": "2f41edaa",
   "metadata": {},
   "outputs": [],
   "source": [
    "old_file_name = \"Sample0001.txt\"\n",
    "new_file_name = \"Sample01.txt\"\n",
    "os.rename(old_file_name,new_file_name)"
   ]
  },
  {
   "cell_type": "code",
   "execution_count": 6,
   "id": "99b4f478",
   "metadata": {},
   "outputs": [
    {
     "ename": "FileNotFoundError",
     "evalue": "[WinError 2] The system cannot find the file specified: 'Sample000001.txt' -> 'Sample01.txt'",
     "output_type": "error",
     "traceback": [
      "\u001b[1;31m---------------------------------------------------------------------------\u001b[0m",
      "\u001b[1;31mFileNotFoundError\u001b[0m                         Traceback (most recent call last)",
      "Input \u001b[1;32mIn [6]\u001b[0m, in \u001b[0;36m<cell line: 3>\u001b[1;34m()\u001b[0m\n\u001b[0;32m      1\u001b[0m old_file_name \u001b[38;5;241m=\u001b[39m \u001b[38;5;124m\"\u001b[39m\u001b[38;5;124mSample000001.txt\u001b[39m\u001b[38;5;124m\"\u001b[39m\n\u001b[0;32m      2\u001b[0m new_file_name \u001b[38;5;241m=\u001b[39m \u001b[38;5;124m\"\u001b[39m\u001b[38;5;124mSample01.txt\u001b[39m\u001b[38;5;124m\"\u001b[39m\n\u001b[1;32m----> 3\u001b[0m \u001b[43mos\u001b[49m\u001b[38;5;241;43m.\u001b[39;49m\u001b[43mrename\u001b[49m\u001b[43m(\u001b[49m\u001b[43mold_file_name\u001b[49m\u001b[43m,\u001b[49m\u001b[43mnew_file_name\u001b[49m\u001b[43m)\u001b[49m\n",
      "\u001b[1;31mFileNotFoundError\u001b[0m: [WinError 2] The system cannot find the file specified: 'Sample000001.txt' -> 'Sample01.txt'"
     ]
    }
   ],
   "source": [
    "old_file_name = \"Sample000001.txt\"\n",
    "new_file_name = \"Sample01.txt\"\n",
    "os.rename(old_file_name,new_file_name)"
   ]
  },
  {
   "cell_type": "code",
   "execution_count": 7,
   "id": "9ec1b753",
   "metadata": {},
   "outputs": [],
   "source": [
    "os.rename(r\"D:\\Python & Data Science\\30_July_PythonAndDataScience\\09_16_RaiseOSModule\\Sample01.txt\",\"SAMPLE01.txt\")"
   ]
  },
  {
   "cell_type": "code",
   "execution_count": 8,
   "id": "ec69082a",
   "metadata": {},
   "outputs": [],
   "source": [
    "with open(\"Linear_model.pkl\",\"wb\") as f:\n",
    "    pass"
   ]
  },
  {
   "cell_type": "code",
   "execution_count": 9,
   "id": "2ea8beaa",
   "metadata": {},
   "outputs": [],
   "source": [
    "os.rename(r\"D:\\Python & Data Science\\30_July_PythonAndDataScience\\09_16_RaiseOSModule\\Linear_model.pkl\",\"Linear_retrained_model.pkl\")\n"
   ]
  },
  {
   "cell_type": "code",
   "execution_count": 10,
   "id": "f0319746",
   "metadata": {},
   "outputs": [],
   "source": [
    "for i in range(5):\n",
    "    with open(f\"model{i}.pkl\",\"wb\") as f:\n",
    "        pass"
   ]
  },
  {
   "cell_type": "markdown",
   "id": "394a5d5a",
   "metadata": {},
   "source": [
    "# 2. os.remove()\n",
    "- os.remove(file_name)"
   ]
  },
  {
   "cell_type": "code",
   "execution_count": 11,
   "id": "df5fff39",
   "metadata": {},
   "outputs": [],
   "source": [
    "os.remove(\"SAMPLE01.txt\")"
   ]
  },
  {
   "cell_type": "code",
   "execution_count": 13,
   "id": "f5cf363e",
   "metadata": {},
   "outputs": [
    {
     "data": {
      "text/plain": [
       "'C:\\\\Users\\\\hp\\\\OneDrive\\\\Desktop\\\\pqr.txt'"
      ]
     },
     "execution_count": 13,
     "metadata": {},
     "output_type": "execute_result"
    }
   ],
   "source": [
    "file_path = r\"C:\\Users\\hp\\OneDrive\\Desktop\\pqr.txt\"\n",
    "file_path"
   ]
  },
  {
   "cell_type": "code",
   "execution_count": 14,
   "id": "515e4665",
   "metadata": {},
   "outputs": [],
   "source": [
    "os.remove(file_path)"
   ]
  },
  {
   "cell_type": "code",
   "execution_count": 15,
   "id": "b2c041da",
   "metadata": {},
   "outputs": [
    {
     "ename": "FileNotFoundError",
     "evalue": "[WinError 2] The system cannot find the file specified: 'KNN.pkl'",
     "output_type": "error",
     "traceback": [
      "\u001b[1;31m---------------------------------------------------------------------------\u001b[0m",
      "\u001b[1;31mFileNotFoundError\u001b[0m                         Traceback (most recent call last)",
      "Input \u001b[1;32mIn [15]\u001b[0m, in \u001b[0;36m<cell line: 1>\u001b[1;34m()\u001b[0m\n\u001b[1;32m----> 1\u001b[0m \u001b[43mos\u001b[49m\u001b[38;5;241;43m.\u001b[39;49m\u001b[43mremove\u001b[49m\u001b[43m(\u001b[49m\u001b[38;5;124;43m\"\u001b[39;49m\u001b[38;5;124;43mKNN.pkl\u001b[39;49m\u001b[38;5;124;43m\"\u001b[39;49m\u001b[43m)\u001b[49m\n",
      "\u001b[1;31mFileNotFoundError\u001b[0m: [WinError 2] The system cannot find the file specified: 'KNN.pkl'"
     ]
    }
   ],
   "source": [
    "os.remove(\"KNN.pkl\")"
   ]
  },
  {
   "cell_type": "markdown",
   "id": "8d73b7eb",
   "metadata": {},
   "source": [
    "# Check File exists or not\n",
    "- os.path.exists(file_name)\n",
    "    - True = if file exist\n",
    "    - false = if file not exist"
   ]
  },
  {
   "cell_type": "code",
   "execution_count": 17,
   "id": "d5bb2fcb",
   "metadata": {},
   "outputs": [
    {
     "data": {
      "text/plain": [
       "True"
      ]
     },
     "execution_count": 17,
     "metadata": {},
     "output_type": "execute_result"
    }
   ],
   "source": [
    "os.path.exists(\"model0.pkl\")"
   ]
  },
  {
   "cell_type": "code",
   "execution_count": 19,
   "id": "72889b32",
   "metadata": {},
   "outputs": [
    {
     "data": {
      "text/plain": [
       "False"
      ]
     },
     "execution_count": 19,
     "metadata": {},
     "output_type": "execute_result"
    }
   ],
   "source": [
    "os.path.exists(\"Model0file.pkl\")"
   ]
  },
  {
   "cell_type": "code",
   "execution_count": 20,
   "id": "b91c7d67",
   "metadata": {},
   "outputs": [],
   "source": [
    "if os.path.exists(\"model0.pkl\"): # True\n",
    "    os.remove(\"model0.pkl\")\n",
    "else:\n",
    "    print(\"File not present in your mentioned directory\")"
   ]
  },
  {
   "cell_type": "code",
   "execution_count": 21,
   "id": "d857242e",
   "metadata": {},
   "outputs": [
    {
     "name": "stdout",
     "output_type": "stream",
     "text": [
      "File not present in your mentioned directory\n"
     ]
    }
   ],
   "source": [
    "if os.path.exists(\"model0.pkl\"): # False\n",
    "    os.remove(\"model0.pkl\")\n",
    "else:\n",
    "    print(\"File not present in your mentioned directory\")"
   ]
  },
  {
   "cell_type": "code",
   "execution_count": 22,
   "id": "881a7546",
   "metadata": {},
   "outputs": [
    {
     "name": "stdout",
     "output_type": "stream",
     "text": [
      "Renamed file\n"
     ]
    }
   ],
   "source": [
    "if os.path.exists(\"model1.pkl\"): # True\n",
    "    os.rename(\"model1.pkl\",\"modelfile1.pkl\")\n",
    "    print(\"Renamed file\")\n",
    "else:\n",
    "    print(\"File not present in your mentioned directory\")"
   ]
  },
  {
   "cell_type": "code",
   "execution_count": null,
   "id": "fbb3e696",
   "metadata": {},
   "outputs": [],
   "source": []
  }
 ],
 "metadata": {
  "kernelspec": {
   "display_name": "Python 3 (ipykernel)",
   "language": "python",
   "name": "python3"
  },
  "language_info": {
   "codemirror_mode": {
    "name": "ipython",
    "version": 3
   },
   "file_extension": ".py",
   "mimetype": "text/x-python",
   "name": "python",
   "nbconvert_exporter": "python",
   "pygments_lexer": "ipython3",
   "version": "3.10.5"
  }
 },
 "nbformat": 4,
 "nbformat_minor": 5
}
