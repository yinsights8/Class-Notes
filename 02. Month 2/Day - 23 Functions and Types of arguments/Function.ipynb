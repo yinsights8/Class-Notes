{
 "cells": [
  {
   "cell_type": "markdown",
   "id": "e84490ac",
   "metadata": {},
   "source": [
    "# Return Statement\n"
   ]
  },
  {
   "cell_type": "code",
   "execution_count": 1,
   "id": "7eecf147",
   "metadata": {},
   "outputs": [
    {
     "data": {
      "text/plain": [
       "(150, 50, 5000, 2.0)"
      ]
     },
     "execution_count": 1,
     "metadata": {},
     "output_type": "execute_result"
    }
   ],
   "source": [
    "def cal(a,b):\n",
    "    add = a + b\n",
    "    sub = a - b\n",
    "    mul = a * b\n",
    "    div = a / b\n",
    "    return add,sub,mul,div\n",
    "\n",
    "cal(100,50)"
   ]
  },
  {
   "cell_type": "code",
   "execution_count": 4,
   "id": "8258a13f",
   "metadata": {},
   "outputs": [
    {
     "name": "stdout",
     "output_type": "stream",
     "text": [
      "10\n",
      "Python\n"
     ]
    }
   ],
   "source": [
    "a,b = (10,\"Python\")\n",
    "print(a)\n",
    "print(b)"
   ]
  },
  {
   "cell_type": "code",
   "execution_count": 5,
   "id": "f1ae40cc",
   "metadata": {},
   "outputs": [
    {
     "ename": "ValueError",
     "evalue": "not enough values to unpack (expected 3, got 2)",
     "output_type": "error",
     "traceback": [
      "\u001b[1;31m---------------------------------------------------------------------------\u001b[0m",
      "\u001b[1;31mValueError\u001b[0m                                Traceback (most recent call last)",
      "Input \u001b[1;32mIn [5]\u001b[0m, in \u001b[0;36m<cell line: 1>\u001b[1;34m()\u001b[0m\n\u001b[1;32m----> 1\u001b[0m a,b,c \u001b[38;5;241m=\u001b[39m (\u001b[38;5;241m10\u001b[39m,\u001b[38;5;124m\"\u001b[39m\u001b[38;5;124mPython\u001b[39m\u001b[38;5;124m\"\u001b[39m)\n",
      "\u001b[1;31mValueError\u001b[0m: not enough values to unpack (expected 3, got 2)"
     ]
    }
   ],
   "source": [
    "a,b,c = (10,\"Python\")"
   ]
  },
  {
   "cell_type": "code",
   "execution_count": 2,
   "id": "f56f26c6",
   "metadata": {},
   "outputs": [
    {
     "ename": "ValueError",
     "evalue": "too many values to unpack (expected 2)",
     "output_type": "error",
     "traceback": [
      "\u001b[1;31m---------------------------------------------------------------------------\u001b[0m",
      "\u001b[1;31mValueError\u001b[0m                                Traceback (most recent call last)",
      "Input \u001b[1;32mIn [2]\u001b[0m, in \u001b[0;36m<cell line: 8>\u001b[1;34m()\u001b[0m\n\u001b[0;32m      5\u001b[0m     div \u001b[38;5;241m=\u001b[39m a \u001b[38;5;241m/\u001b[39m b\n\u001b[0;32m      6\u001b[0m     \u001b[38;5;28;01mreturn\u001b[39;00m add,sub,mul,div\n\u001b[1;32m----> 8\u001b[0m a,b \u001b[38;5;241m=\u001b[39m cal(\u001b[38;5;241m100\u001b[39m,\u001b[38;5;241m50\u001b[39m)\n\u001b[0;32m      9\u001b[0m \u001b[38;5;28mprint\u001b[39m(a)\n\u001b[0;32m     10\u001b[0m \u001b[38;5;28mprint\u001b[39m(b)\n",
      "\u001b[1;31mValueError\u001b[0m: too many values to unpack (expected 2)"
     ]
    }
   ],
   "source": [
    "def cal(a,b):\n",
    "    add = a + b\n",
    "    sub = a - b\n",
    "    mul = a * b\n",
    "    div = a / b\n",
    "    return add,sub,mul,div\n",
    "\n",
    "a,b = cal(100,50)\n",
    "print(a)\n",
    "print(b)"
   ]
  },
  {
   "cell_type": "code",
   "execution_count": 6,
   "id": "c0480697",
   "metadata": {},
   "outputs": [
    {
     "name": "stdout",
     "output_type": "stream",
     "text": [
      "150\n",
      "50\n",
      "5000\n",
      "2.0\n"
     ]
    }
   ],
   "source": [
    "def cal(a,b):\n",
    "    add = a + b\n",
    "    sub = a - b\n",
    "    mul = a * b\n",
    "    div = a / b\n",
    "    return add,sub,mul,div\n",
    "\n",
    "add,sub,mul,div = cal(100,50)\n",
    "print(add)\n",
    "print(sub)\n",
    "print(mul)\n",
    "print(div)"
   ]
  },
  {
   "cell_type": "code",
   "execution_count": 7,
   "id": "184668c7",
   "metadata": {},
   "outputs": [
    {
     "data": {
      "text/plain": [
       "15"
      ]
     },
     "execution_count": 7,
     "metadata": {},
     "output_type": "execute_result"
    }
   ],
   "source": [
    "def get_sum(iterable):\n",
    "    summation = 0\n",
    "    for i in iterable:\n",
    "        summation += i\n",
    "    return summation\n",
    "\n",
    "get_sum([1,2,3,4,5])"
   ]
  },
  {
   "cell_type": "code",
   "execution_count": 8,
   "id": "7f12a116",
   "metadata": {},
   "outputs": [
    {
     "name": "stdout",
     "output_type": "stream",
     "text": [
      "Summation = 15\n"
     ]
    }
   ],
   "source": [
    "def get_sum(iterable):\n",
    "    summation = 0\n",
    "    for i in iterable:\n",
    "        summation += i\n",
    "    return summation\n",
    "\n",
    "sum1 = get_sum([1,2,3,4,5])\n",
    "print(f\"Summation = {sum1}\")"
   ]
  },
  {
   "cell_type": "code",
   "execution_count": 10,
   "id": "9f923c5a",
   "metadata": {},
   "outputs": [
    {
     "name": "stdout",
     "output_type": "stream",
     "text": [
      "Summation = 150\n"
     ]
    }
   ],
   "source": [
    "def get_sum(iterable):\n",
    "    summation = 0\n",
    "    for i in iterable:\n",
    "        summation += i\n",
    "    return summation\n",
    "\n",
    "sum1 = get_sum((10,20,30,40,50))\n",
    "print(f\"Summation = {sum1}\")"
   ]
  },
  {
   "cell_type": "code",
   "execution_count": 12,
   "id": "89950d17",
   "metadata": {},
   "outputs": [
    {
     "ename": "TypeError",
     "evalue": "cannot unpack non-iterable int object",
     "output_type": "error",
     "traceback": [
      "\u001b[1;31m---------------------------------------------------------------------------\u001b[0m",
      "\u001b[1;31mTypeError\u001b[0m                                 Traceback (most recent call last)",
      "Input \u001b[1;32mIn [12]\u001b[0m, in \u001b[0;36m<cell line: 7>\u001b[1;34m()\u001b[0m\n\u001b[0;32m      4\u001b[0m         summation \u001b[38;5;241m+\u001b[39m\u001b[38;5;241m=\u001b[39m i\n\u001b[0;32m      5\u001b[0m     \u001b[38;5;28;01mreturn\u001b[39;00m summation\n\u001b[1;32m----> 7\u001b[0m sum1,sum1 \u001b[38;5;241m=\u001b[39m get_sum((\u001b[38;5;241m10\u001b[39m,\u001b[38;5;241m20\u001b[39m,\u001b[38;5;241m30\u001b[39m,\u001b[38;5;241m40\u001b[39m,\u001b[38;5;241m50\u001b[39m))\n\u001b[0;32m      8\u001b[0m \u001b[38;5;28mprint\u001b[39m(\u001b[38;5;124mf\u001b[39m\u001b[38;5;124m\"\u001b[39m\u001b[38;5;124mSummation = \u001b[39m\u001b[38;5;132;01m{\u001b[39;00msum1\u001b[38;5;132;01m}\u001b[39;00m\u001b[38;5;124m\"\u001b[39m)\n",
      "\u001b[1;31mTypeError\u001b[0m: cannot unpack non-iterable int object"
     ]
    }
   ],
   "source": [
    "def get_sum(iterable):\n",
    "    summation = 0\n",
    "    for i in iterable:\n",
    "        summation += i\n",
    "    return summation\n",
    "\n",
    "sum1,sum1 = get_sum((10,20,30,40,50))\n",
    "print(f\"Summation = {sum1}\")"
   ]
  },
  {
   "cell_type": "code",
   "execution_count": 13,
   "id": "1794ef92",
   "metadata": {},
   "outputs": [
    {
     "name": "stdout",
     "output_type": "stream",
     "text": [
      "Summation = 150\n",
      "Summation = 150\n"
     ]
    }
   ],
   "source": [
    "def get_sum(iterable):\n",
    "    summation = 0\n",
    "    for i in iterable:\n",
    "        summation += i\n",
    "    return summation\n",
    "\n",
    "sum1 = sum2 = get_sum((10,20,30,40,50))\n",
    "print(f\"Summation = {sum1}\")\n",
    "print(f\"Summation = {sum2}\")"
   ]
  },
  {
   "cell_type": "code",
   "execution_count": 15,
   "id": "c83eef97",
   "metadata": {},
   "outputs": [
    {
     "name": "stdout",
     "output_type": "stream",
     "text": [
      "addition = 150\n",
      "sub = 50\n",
      "mul = 5000\n",
      "div = 2.0\n"
     ]
    }
   ],
   "source": [
    "def cal(a,b):\n",
    "    add = a + b\n",
    "    sub = a - b\n",
    "    mul = a * b\n",
    "    div = a / b\n",
    "    return add,sub,mul,div\n",
    "\n",
    "add,sub,mul,div = cal(100,50) \n",
    "print(f\"addition = {add}\")\n",
    "print(f\"sub = {sub}\")\n",
    "print(f\"mul = {mul}\")\n",
    "print(f\"div = {div}\")"
   ]
  },
  {
   "cell_type": "code",
   "execution_count": 17,
   "id": "35c0db9f",
   "metadata": {},
   "outputs": [
    {
     "name": "stdout",
     "output_type": "stream",
     "text": [
      "addition = 50\n",
      "sub = 150\n",
      "mul = 5000\n",
      "div = 2.0\n"
     ]
    }
   ],
   "source": [
    "def cal(a,b):\n",
    "    add = a + b\n",
    "    sub = a - b\n",
    "    mul = a * b\n",
    "    div = a / b\n",
    "    return add,sub,mul,div\n",
    "\n",
    "sub,add,mul,div = cal(100,50) # Have to take care of the order (150, 50, 5000, 2.0)\n",
    "print(f\"addition = {add}\")\n",
    "print(f\"sub = {sub}\")\n",
    "print(f\"mul = {mul}\")\n",
    "print(f\"div = {div}\") "
   ]
  },
  {
   "cell_type": "code",
   "execution_count": 18,
   "id": "8933745d",
   "metadata": {},
   "outputs": [
    {
     "name": "stdout",
     "output_type": "stream",
     "text": [
      "Python <class 'str'>\n",
      "100 <class 'int'>\n"
     ]
    }
   ],
   "source": [
    "def dummy():\n",
    "    return \"Python\",100\n",
    "\n",
    "str1,int1 = dummy()\n",
    "print(str1,type(str1))\n",
    "print(int1,type(int1))"
   ]
  },
  {
   "cell_type": "code",
   "execution_count": 19,
   "id": "61e448b8",
   "metadata": {},
   "outputs": [
    {
     "name": "stdout",
     "output_type": "stream",
     "text": [
      "100 <class 'int'>\n",
      "Python <class 'str'>\n"
     ]
    }
   ],
   "source": [
    "def dummy():\n",
    "    return \"Python\",100\n",
    "\n",
    "int1,str1 = dummy()\n",
    "print(str1,type(str1))\n",
    "print(int1,type(int1))"
   ]
  },
  {
   "cell_type": "markdown",
   "id": "dcaa1792",
   "metadata": {},
   "source": [
    "# pass statement"
   ]
  },
  {
   "cell_type": "raw",
   "id": "b044330f",
   "metadata": {},
   "source": [
    "Used to avoid errors"
   ]
  },
  {
   "cell_type": "code",
   "execution_count": 21,
   "id": "b456b0ac",
   "metadata": {},
   "outputs": [],
   "source": [
    "def get_val(di):\n",
    "    pass\n",
    "\n",
    "get_val({1:1,2:3})"
   ]
  },
  {
   "cell_type": "code",
   "execution_count": 22,
   "id": "247da305",
   "metadata": {},
   "outputs": [
    {
     "ename": "IndentationError",
     "evalue": "expected an indented block after function definition on line 1 (2051624946.py, line 4)",
     "output_type": "error",
     "traceback": [
      "\u001b[1;36m  Input \u001b[1;32mIn [22]\u001b[1;36m\u001b[0m\n\u001b[1;33m    get_val({1:1,2:3})\u001b[0m\n\u001b[1;37m    ^\u001b[0m\n\u001b[1;31mIndentationError\u001b[0m\u001b[1;31m:\u001b[0m expected an indented block after function definition on line 1\n"
     ]
    }
   ],
   "source": [
    "def get_val(di):\n",
    "    \n",
    "\n",
    "get_val({1:1,2:3})"
   ]
  },
  {
   "cell_type": "code",
   "execution_count": 23,
   "id": "3813c697",
   "metadata": {},
   "outputs": [
    {
     "name": "stdout",
     "output_type": "stream",
     "text": [
      "Dictionary = {1: 1, 2: 3}\n"
     ]
    }
   ],
   "source": [
    "def get_val(di):\n",
    "    print(f\"Dictionary = {di}\")\n",
    "\n",
    "get_val({1:1,2:3})"
   ]
  },
  {
   "cell_type": "code",
   "execution_count": 24,
   "id": "e4be17ca",
   "metadata": {},
   "outputs": [
    {
     "name": "stdout",
     "output_type": "stream",
     "text": [
      "Dictionary = {1: 1, 2: 3}\n"
     ]
    }
   ],
   "source": [
    "def get_val(di):\n",
    "    print(f\"Dictionary = {di}\")\n",
    "    pass\n",
    "\n",
    "get_val({1:1,2:3})"
   ]
  },
  {
   "cell_type": "code",
   "execution_count": 25,
   "id": "9fecaeb3",
   "metadata": {},
   "outputs": [
    {
     "name": "stdout",
     "output_type": "stream",
     "text": [
      "Dictionary = {1: 1, 2: 3}\n"
     ]
    }
   ],
   "source": [
    "def get_val(di):\n",
    "    pass\n",
    "    print(f\"Dictionary = {di}\")\n",
    "#     pass\n",
    "\n",
    "get_val({1:1,2:3})"
   ]
  },
  {
   "cell_type": "code",
   "execution_count": 27,
   "id": "5cc2e34d",
   "metadata": {},
   "outputs": [
    {
     "ename": "IndentationError",
     "evalue": "expected an indented block after function definition on line 1 (3126478405.py, line 6)",
     "output_type": "error",
     "traceback": [
      "\u001b[1;36m  Input \u001b[1;32mIn [27]\u001b[1;36m\u001b[0m\n\u001b[1;33m    get_val({1:1,2:3})\u001b[0m\n\u001b[1;37m    ^\u001b[0m\n\u001b[1;31mIndentationError\u001b[0m\u001b[1;31m:\u001b[0m expected an indented block after function definition on line 1\n"
     ]
    }
   ],
   "source": [
    "def get_val(di):\n",
    "#     pass\n",
    "#     print(f\"Dictionary = {di}\")\n",
    "#     pass\n",
    "\n",
    "get_val({1:1,2:3})"
   ]
  },
  {
   "cell_type": "markdown",
   "id": "d21d03fe",
   "metadata": {},
   "source": [
    "# Factorial"
   ]
  },
  {
   "cell_type": "code",
   "execution_count": 30,
   "id": "84c5f9b8",
   "metadata": {},
   "outputs": [
    {
     "data": {
      "text/plain": [
       "120"
      ]
     },
     "execution_count": 30,
     "metadata": {},
     "output_type": "execute_result"
    }
   ],
   "source": [
    "n = 5\n",
    "fact = 1\n",
    "for i in range(1,n + 1):\n",
    "    fact *= i\n",
    "fact"
   ]
  },
  {
   "cell_type": "code",
   "execution_count": 3,
   "id": "539fa764",
   "metadata": {},
   "outputs": [
    {
     "name": "stdout",
     "output_type": "stream",
     "text": [
      "factorial of 5 = 120\n",
      "factorial of 10 = 3628800\n",
      "factorial of 15 = 1307674368000\n"
     ]
    }
   ],
   "source": [
    "def get_factorial(n):\n",
    "    fact = 1\n",
    "    for i in range(1,n + 1):\n",
    "        fact *= i\n",
    "    return fact\n",
    "\n",
    "n = 5\n",
    "factorial = get_factorial(n)\n",
    "print(f\"factorial of {n} = {factorial}\")\n",
    "n = 10\n",
    "factorial = get_factorial(n)\n",
    "print(f\"factorial of {n} = {factorial}\")\n",
    "n = 15\n",
    "factorial = get_factorial(n)\n",
    "print(f\"factorial of {n} = {factorial}\")"
   ]
  },
  {
   "cell_type": "code",
   "execution_count": 4,
   "id": "a0c4cddf",
   "metadata": {},
   "outputs": [
    {
     "name": "stdout",
     "output_type": "stream",
     "text": [
      "factorial of 5 = 120\n",
      "\n",
      "factorial of 10 = 3628800\n",
      "\n",
      "factorial of 15 = 1307674368000\n",
      "\n"
     ]
    }
   ],
   "source": [
    "n_list = [5,10,15]\n",
    "for n in n_list:\n",
    "    factorial = get_factorial(n)\n",
    "    print(f\"factorial of {n} = {factorial}\")\n",
    "    print()"
   ]
  },
  {
   "cell_type": "markdown",
   "id": "d6fdd0a8",
   "metadata": {},
   "source": [
    "# Fibonacci series"
   ]
  },
  {
   "cell_type": "code",
   "execution_count": 33,
   "id": "29e938f8",
   "metadata": {},
   "outputs": [
    {
     "name": "stdout",
     "output_type": "stream",
     "text": [
      "0 1 1 2 3 5 8 13 21 34 "
     ]
    }
   ],
   "source": [
    "first = 0\n",
    "second = 1\n",
    "print(first,second,end=\" \")\n",
    "for i in range(2,10):\n",
    "    new = first + second\n",
    "    first = second\n",
    "    second = new\n",
    "    print(new,end=\" \")\n",
    "    "
   ]
  },
  {
   "cell_type": "code",
   "execution_count": 36,
   "id": "78287ae2",
   "metadata": {},
   "outputs": [
    {
     "name": "stdout",
     "output_type": "stream",
     "text": [
      "Fibonacci series of 10 number =  0 1 1 2 3 5 8 13 21 34 "
     ]
    }
   ],
   "source": [
    "def get_fibo(num):\n",
    "    first = 0\n",
    "    second = 1\n",
    "    print(first,second,end=\" \")\n",
    "    for i in range(2,num):\n",
    "        new = first + second\n",
    "        first = second\n",
    "        second = new\n",
    "        print(new,end=\" \")\n",
    "        \n",
    "n = 10    \n",
    "print(f\"Fibonacci series of {n} number = \",end=\" \")\n",
    "get_fibo(n)\n"
   ]
  },
  {
   "cell_type": "code",
   "execution_count": 37,
   "id": "ae719758",
   "metadata": {},
   "outputs": [
    {
     "name": "stdout",
     "output_type": "stream",
     "text": [
      "Fibonacci series of 7 number =  0 1 1 2 3 5 8 "
     ]
    }
   ],
   "source": [
    "def get_fibo(num):\n",
    "    first = 0\n",
    "    second = 1\n",
    "    print(first,second,end=\" \")\n",
    "    for i in range(2,num):\n",
    "        new = first + second\n",
    "        first = second\n",
    "        second = new\n",
    "        print(new,end=\" \")\n",
    "        \n",
    "n = 7  \n",
    "print(f\"Fibonacci series of {n} number = \",end=\" \")\n",
    "get_fibo(n)"
   ]
  },
  {
   "cell_type": "code",
   "execution_count": 40,
   "id": "33c66adc",
   "metadata": {},
   "outputs": [
    {
     "ename": "TypeError",
     "evalue": "list.append() takes exactly one argument (2 given)",
     "output_type": "error",
     "traceback": [
      "\u001b[1;31m---------------------------------------------------------------------------\u001b[0m",
      "\u001b[1;31mTypeError\u001b[0m                                 Traceback (most recent call last)",
      "Input \u001b[1;32mIn [40]\u001b[0m, in \u001b[0;36m<cell line: 1>\u001b[1;34m()\u001b[0m\n\u001b[1;32m----> 1\u001b[0m \u001b[43m[\u001b[49m\u001b[43m]\u001b[49m\u001b[38;5;241;43m.\u001b[39;49m\u001b[43mappend\u001b[49m\u001b[43m(\u001b[49m\u001b[38;5;241;43m0\u001b[39;49m\u001b[43m,\u001b[49m\u001b[38;5;241;43m1\u001b[39;49m\u001b[43m)\u001b[49m\n",
      "\u001b[1;31mTypeError\u001b[0m: list.append() takes exactly one argument (2 given)"
     ]
    }
   ],
   "source": [
    "[].append(0,1)"
   ]
  },
  {
   "cell_type": "code",
   "execution_count": 56,
   "id": "9f7d4586",
   "metadata": {},
   "outputs": [
    {
     "name": "stdout",
     "output_type": "stream",
     "text": [
      "Fibonacci series of 7 number = [0, 1, 1, 2, 3, 5, 8]\n",
      "Fibonacci series of 10 number = [0, 1, 1, 2, 3, 5, 8, 13, 21, 34]\n"
     ]
    }
   ],
   "source": [
    "def get_fibo(num):\n",
    "    fibo_li = []\n",
    "    fibo_li.append(0)\n",
    "    fibo_li.append(1)\n",
    "    for i in range(2,num):\n",
    "        fibo_li.append(fibo_li[-2] + fibo_li[-1])\n",
    "    return fibo_li\n",
    "        \n",
    "n = 7  \n",
    "fibonacci = get_fibo(n)\n",
    "print(f\"Fibonacci series of {n} number = {fibonacci}\") # 0 1 1 2 3 5 8\n",
    "\n",
    "n = 10\n",
    "fibonacci = get_fibo(n)\n",
    "print(f\"Fibonacci series of {n} number = {fibonacci}\") # 0 1 1 2 3 5 8 13 21 34"
   ]
  },
  {
   "cell_type": "code",
   "execution_count": 53,
   "id": "4a5e6590",
   "metadata": {},
   "outputs": [],
   "source": [
    "li = [0,1,1,2,3,5,8,13]"
   ]
  },
  {
   "cell_type": "code",
   "execution_count": 54,
   "id": "2af2ff87",
   "metadata": {},
   "outputs": [
    {
     "data": {
      "text/plain": [
       "21"
      ]
     },
     "execution_count": 54,
     "metadata": {},
     "output_type": "execute_result"
    }
   ],
   "source": [
    "li[-2] + li[-1]"
   ]
  },
  {
   "cell_type": "code",
   "execution_count": 57,
   "id": "4bc655cd",
   "metadata": {},
   "outputs": [
    {
     "name": "stdout",
     "output_type": "stream",
     "text": [
      "Fibonacci series of 7 number = [0, 1, 1, 2, 3, 5, 8]\n",
      "Fibonacci series of 10 number = [0, 1, 1, 2, 3, 5, 8, 13, 21, 34]\n"
     ]
    }
   ],
   "source": [
    "def get_fibo(num):\n",
    "    fibo_li = [0,1]\n",
    "    for i in range(2,num):\n",
    "        fibo_li.append(fibo_li[-2] + fibo_li[-1])\n",
    "    return fibo_li\n",
    "        \n",
    "n = 7  \n",
    "fibonacci = get_fibo(n)\n",
    "print(f\"Fibonacci series of {n} number = {fibonacci}\") # 0 1 1 2 3 5 8\n",
    "\n",
    "n = 10\n",
    "fibonacci = get_fibo(n)\n",
    "print(f\"Fibonacci series of {n} number = {fibonacci}\") # 0 1 1 2 3 5 8 13 21 34"
   ]
  },
  {
   "cell_type": "markdown",
   "id": "0988bdc6",
   "metadata": {},
   "source": [
    "# min "
   ]
  },
  {
   "cell_type": "code",
   "execution_count": 58,
   "id": "6cea34ff",
   "metadata": {},
   "outputs": [
    {
     "data": {
      "text/plain": [
       "4"
      ]
     },
     "execution_count": 58,
     "metadata": {},
     "output_type": "execute_result"
    }
   ],
   "source": [
    "li = [5,4,7,4,23]\n",
    "min1 = li[0]\n",
    "for i in li:\n",
    "    if i < min1:\n",
    "        min1 = i\n",
    "min1"
   ]
  },
  {
   "cell_type": "code",
   "execution_count": 62,
   "id": "c6fd5a75",
   "metadata": {},
   "outputs": [
    {
     "data": {
      "text/plain": [
       "-1.6"
      ]
     },
     "execution_count": 62,
     "metadata": {},
     "output_type": "execute_result"
    }
   ],
   "source": [
    "li = [5,4,7,4,23,-1.6]\n",
    "min1 = li[0]\n",
    "for i in li:\n",
    "    if i < min1:\n",
    "        min1 = i\n",
    "min1"
   ]
  },
  {
   "cell_type": "code",
   "execution_count": 63,
   "id": "8389d828",
   "metadata": {},
   "outputs": [
    {
     "name": "stdout",
     "output_type": "stream",
     "text": [
      "The list of number =  [6, 8, 9, 5, 9, 8, 9, 6, -2.5, -5.6, -7, 9]\n",
      "Minimum of the list=  -7\n"
     ]
    }
   ],
   "source": [
    "def get_min(li):\n",
    "    min1 = li[0]\n",
    "    for i in li:\n",
    "        if i < min1:\n",
    "            min1 = i\n",
    "    return min1\n",
    "\n",
    "li_num = [6,8,9,5,9,8,9,6,-2.5,-5.6,-7,9]\n",
    "minimum = get_min(li_num)\n",
    "print(\"The list of number = \",li_num)\n",
    "print(\"Minimum of the list= \",minimum)"
   ]
  },
  {
   "cell_type": "code",
   "execution_count": 64,
   "id": "bd09c526",
   "metadata": {},
   "outputs": [
    {
     "name": "stdout",
     "output_type": "stream",
     "text": [
      "Minimum of the list=  1\n",
      "Minimum of the list=  -3\n"
     ]
    }
   ],
   "source": [
    "minimum = get_min([1,2,3])\n",
    "print(\"Minimum of the list= \",minimum)\n",
    "minimum = get_min([-1,-2,-3])\n",
    "print(\"Minimum of the list= \",minimum)\n"
   ]
  },
  {
   "cell_type": "code",
   "execution_count": 74,
   "id": "27d84f9b",
   "metadata": {},
   "outputs": [
    {
     "name": "stdout",
     "output_type": "stream",
     "text": [
      "The list of number =  [6, 80, 9, 5, 9, 800, 9000, 6, -2.5, -5.6, -7, 9]\n",
      "Maximum of the list=  9000\n"
     ]
    }
   ],
   "source": [
    "def get_max(li):\n",
    "    max1 = li[0]\n",
    "    for i in li:\n",
    "        if i > max1:\n",
    "            max1 = i\n",
    "    return max1\n",
    "\n",
    "li_num = [6,80,9,5,9,800,9000,6,-2.5,-5.6,-7,9]\n",
    "maximum = get_max(li_num)\n",
    "print(\"The list of number = \",li_num)\n",
    "print(\"Maximum of the list= \",maximum)"
   ]
  },
  {
   "cell_type": "code",
   "execution_count": 75,
   "id": "91825d20",
   "metadata": {},
   "outputs": [],
   "source": [
    "max1 = get_max(li_num)"
   ]
  },
  {
   "cell_type": "code",
   "execution_count": 76,
   "id": "4d3c64eb",
   "metadata": {},
   "outputs": [
    {
     "name": "stdout",
     "output_type": "stream",
     "text": [
      "The maximum value = 9000\n",
      "The maximum value = 9000\n",
      "The maximum value = 9000\n",
      "The maximum value = 9000\n",
      "The maximum value = 9000\n",
      "The maximum value = 9000\n",
      "The maximum value = 9000\n",
      "The maximum value = 9000\n",
      "The maximum value = 9000\n",
      "The maximum value = 9000\n",
      "The maximum value = 9000\n",
      "The maximum value = 9000\n",
      "The maximum value = 9000\n",
      "The maximum value = 9000\n",
      "The maximum value = 9000\n",
      "The maximum value = 9000\n",
      "The maximum value = 9000\n",
      "The maximum value = 9000\n",
      "The maximum value = 9000\n",
      "The maximum value = 9000\n",
      "The maximum value = 9000\n",
      "The maximum value = 9000\n",
      "The maximum value = 9000\n",
      "The maximum value = 9000\n",
      "The maximum value = 9000\n",
      "The maximum value = 9000\n",
      "The maximum value = 9000\n",
      "The maximum value = 9000\n",
      "The maximum value = 9000\n",
      "The maximum value = 9000\n",
      "The maximum value = 9000\n",
      "The maximum value = 9000\n",
      "The maximum value = 9000\n",
      "The maximum value = 9000\n",
      "The maximum value = 9000\n",
      "The maximum value = 9000\n",
      "The maximum value = 9000\n",
      "The maximum value = 9000\n",
      "The maximum value = 9000\n",
      "The maximum value = 9000\n",
      "The maximum value = 9000\n",
      "The maximum value = 9000\n",
      "The maximum value = 9000\n",
      "The maximum value = 9000\n",
      "The maximum value = 9000\n",
      "The maximum value = 9000\n",
      "The maximum value = 9000\n",
      "The maximum value = 9000\n",
      "The maximum value = 9000\n",
      "The maximum value = 9000\n",
      "The maximum value = 9000\n",
      "The maximum value = 9000\n",
      "The maximum value = 9000\n",
      "The maximum value = 9000\n",
      "The maximum value = 9000\n",
      "The maximum value = 9000\n",
      "The maximum value = 9000\n",
      "The maximum value = 9000\n",
      "The maximum value = 9000\n",
      "The maximum value = 9000\n",
      "The maximum value = 9000\n",
      "The maximum value = 9000\n",
      "The maximum value = 9000\n",
      "The maximum value = 9000\n",
      "The maximum value = 9000\n",
      "The maximum value = 9000\n",
      "The maximum value = 9000\n",
      "The maximum value = 9000\n",
      "The maximum value = 9000\n",
      "The maximum value = 9000\n",
      "The maximum value = 9000\n",
      "The maximum value = 9000\n",
      "The maximum value = 9000\n",
      "The maximum value = 9000\n",
      "The maximum value = 9000\n",
      "The maximum value = 9000\n",
      "The maximum value = 9000\n",
      "The maximum value = 9000\n",
      "The maximum value = 9000\n",
      "The maximum value = 9000\n",
      "The maximum value = 9000\n",
      "The maximum value = 9000\n",
      "The maximum value = 9000\n",
      "The maximum value = 9000\n",
      "The maximum value = 9000\n",
      "The maximum value = 9000\n",
      "The maximum value = 9000\n",
      "The maximum value = 9000\n",
      "The maximum value = 9000\n",
      "The maximum value = 9000\n",
      "The maximum value = 9000\n",
      "The maximum value = 9000\n",
      "The maximum value = 9000\n",
      "The maximum value = 9000\n",
      "The maximum value = 9000\n",
      "The maximum value = 9000\n",
      "The maximum value = 9000\n",
      "The maximum value = 9000\n",
      "The maximum value = 9000\n",
      "The maximum value = 9000\n",
      "The maximum value = 9000\n",
      "The maximum value = 9000\n",
      "The maximum value = 9000\n",
      "The maximum value = 9000\n",
      "The maximum value = 9000\n",
      "The maximum value = 9000\n",
      "The maximum value = 9000\n",
      "The maximum value = 9000\n",
      "The maximum value = 9000\n",
      "The maximum value = 9000\n",
      "The maximum value = 9000\n",
      "The maximum value = 9000\n",
      "The maximum value = 9000\n",
      "The maximum value = 9000\n",
      "The maximum value = 9000\n",
      "The maximum value = 9000\n",
      "The maximum value = 9000\n",
      "The maximum value = 9000\n",
      "The maximum value = 9000\n",
      "The maximum value = 9000\n",
      "The maximum value = 9000\n",
      "The maximum value = 9000\n",
      "The maximum value = 9000\n",
      "The maximum value = 9000\n",
      "The maximum value = 9000\n",
      "The maximum value = 9000\n",
      "The maximum value = 9000\n",
      "The maximum value = 9000\n",
      "The maximum value = 9000\n",
      "The maximum value = 9000\n",
      "The maximum value = 9000\n",
      "The maximum value = 9000\n",
      "The maximum value = 9000\n",
      "The maximum value = 9000\n",
      "The maximum value = 9000\n",
      "The maximum value = 9000\n",
      "The maximum value = 9000\n",
      "The maximum value = 9000\n",
      "The maximum value = 9000\n",
      "The maximum value = 9000\n",
      "The maximum value = 9000\n",
      "The maximum value = 9000\n",
      "The maximum value = 9000\n",
      "The maximum value = 9000\n",
      "The maximum value = 9000\n",
      "The maximum value = 9000\n",
      "The maximum value = 9000\n",
      "The maximum value = 9000\n",
      "The maximum value = 9000\n",
      "The maximum value = 9000\n",
      "The maximum value = 9000\n",
      "The maximum value = 9000\n",
      "The maximum value = 9000\n",
      "The maximum value = 9000\n",
      "The maximum value = 9000\n",
      "The maximum value = 9000\n",
      "The maximum value = 9000\n",
      "The maximum value = 9000\n",
      "The maximum value = 9000\n",
      "The maximum value = 9000\n",
      "The maximum value = 9000\n",
      "The maximum value = 9000\n",
      "The maximum value = 9000\n",
      "The maximum value = 9000\n",
      "The maximum value = 9000\n",
      "The maximum value = 9000\n",
      "The maximum value = 9000\n",
      "The maximum value = 9000\n",
      "The maximum value = 9000\n",
      "The maximum value = 9000\n",
      "The maximum value = 9000\n",
      "The maximum value = 9000\n",
      "The maximum value = 9000\n",
      "The maximum value = 9000\n",
      "The maximum value = 9000\n",
      "The maximum value = 9000\n",
      "The maximum value = 9000\n",
      "The maximum value = 9000\n",
      "The maximum value = 9000\n",
      "The maximum value = 9000\n",
      "The maximum value = 9000\n",
      "The maximum value = 9000\n",
      "The maximum value = 9000\n",
      "The maximum value = 9000\n",
      "The maximum value = 9000\n",
      "The maximum value = 9000\n",
      "The maximum value = 9000\n",
      "The maximum value = 9000\n",
      "The maximum value = 9000\n",
      "The maximum value = 9000\n",
      "The maximum value = 9000\n",
      "The maximum value = 9000\n",
      "The maximum value = 9000\n",
      "The maximum value = 9000\n",
      "The maximum value = 9000\n",
      "The maximum value = 9000\n",
      "The maximum value = 9000\n",
      "The maximum value = 9000\n",
      "The maximum value = 9000\n",
      "The maximum value = 9000\n",
      "The maximum value = 9000\n",
      "The maximum value = 9000\n",
      "The maximum value = 9000\n",
      "The maximum value = 9000\n",
      "The maximum value = 9000\n",
      "The maximum value = 9000\n",
      "The maximum value = 9000\n",
      "The maximum value = 9000\n",
      "The maximum value = 9000\n",
      "The maximum value = 9000\n",
      "The maximum value = 9000\n",
      "The maximum value = 9000\n",
      "The maximum value = 9000\n",
      "The maximum value = 9000\n",
      "The maximum value = 9000\n",
      "The maximum value = 9000\n",
      "The maximum value = 9000\n",
      "The maximum value = 9000\n",
      "The maximum value = 9000\n",
      "The maximum value = 9000\n",
      "The maximum value = 9000\n",
      "The maximum value = 9000\n",
      "The maximum value = 9000\n",
      "The maximum value = 9000\n",
      "The maximum value = 9000\n",
      "The maximum value = 9000\n",
      "The maximum value = 9000\n",
      "The maximum value = 9000\n",
      "The maximum value = 9000\n",
      "The maximum value = 9000\n",
      "The maximum value = 9000\n",
      "The maximum value = 9000\n",
      "The maximum value = 9000\n",
      "The maximum value = 9000\n",
      "The maximum value = 9000\n",
      "The maximum value = 9000\n",
      "The maximum value = 9000\n",
      "The maximum value = 9000\n",
      "The maximum value = 9000\n",
      "The maximum value = 9000\n",
      "The maximum value = 9000\n",
      "The maximum value = 9000\n",
      "The maximum value = 9000\n",
      "The maximum value = 9000\n",
      "The maximum value = 9000\n",
      "The maximum value = 9000\n",
      "The maximum value = 9000\n",
      "The maximum value = 9000\n",
      "The maximum value = 9000\n",
      "The maximum value = 9000\n",
      "The maximum value = 9000\n",
      "The maximum value = 9000\n",
      "The maximum value = 9000\n",
      "The maximum value = 9000\n",
      "The maximum value = 9000\n",
      "The maximum value = 9000\n",
      "The maximum value = 9000\n",
      "The maximum value = 9000\n",
      "The maximum value = 9000\n",
      "The maximum value = 9000\n",
      "The maximum value = 9000\n",
      "The maximum value = 9000\n",
      "The maximum value = 9000\n",
      "The maximum value = 9000\n",
      "The maximum value = 9000\n",
      "The maximum value = 9000\n",
      "The maximum value = 9000\n",
      "The maximum value = 9000\n",
      "The maximum value = 9000\n",
      "The maximum value = 9000\n",
      "The maximum value = 9000\n",
      "The maximum value = 9000\n",
      "The maximum value = 9000\n",
      "The maximum value = 9000\n",
      "The maximum value = 9000\n",
      "The maximum value = 9000\n",
      "The maximum value = 9000\n",
      "The maximum value = 9000\n",
      "The maximum value = 9000\n",
      "The maximum value = 9000\n",
      "The maximum value = 9000\n",
      "The maximum value = 9000\n",
      "The maximum value = 9000\n",
      "The maximum value = 9000\n",
      "The maximum value = 9000\n",
      "The maximum value = 9000\n",
      "The maximum value = 9000\n",
      "The maximum value = 9000\n",
      "The maximum value = 9000\n",
      "The maximum value = 9000\n",
      "The maximum value = 9000\n",
      "The maximum value = 9000\n",
      "The maximum value = 9000\n",
      "The maximum value = 9000\n",
      "The maximum value = 9000\n",
      "The maximum value = 9000\n",
      "The maximum value = 9000\n",
      "The maximum value = 9000\n",
      "The maximum value = 9000\n",
      "The maximum value = 9000\n",
      "The maximum value = 9000\n",
      "The maximum value = 9000\n",
      "The maximum value = 9000\n",
      "The maximum value = 9000\n",
      "The maximum value = 9000\n",
      "The maximum value = 9000\n",
      "The maximum value = 9000\n",
      "The maximum value = 9000\n",
      "The maximum value = 9000\n",
      "The maximum value = 9000\n",
      "The maximum value = 9000\n",
      "The maximum value = 9000\n",
      "The maximum value = 9000\n",
      "The maximum value = 9000\n",
      "The maximum value = 9000\n",
      "The maximum value = 9000\n",
      "The maximum value = 9000\n",
      "The maximum value = 9000\n",
      "The maximum value = 9000\n",
      "The maximum value = 9000\n",
      "The maximum value = 9000\n",
      "The maximum value = 9000\n",
      "The maximum value = 9000\n",
      "The maximum value = 9000\n",
      "The maximum value = 9000\n",
      "The maximum value = 9000\n",
      "The maximum value = 9000\n",
      "The maximum value = 9000\n",
      "The maximum value = 9000\n",
      "The maximum value = 9000\n",
      "The maximum value = 9000\n",
      "The maximum value = 9000\n",
      "The maximum value = 9000\n",
      "The maximum value = 9000\n",
      "The maximum value = 9000\n",
      "The maximum value = 9000\n",
      "The maximum value = 9000\n",
      "The maximum value = 9000\n",
      "The maximum value = 9000\n",
      "The maximum value = 9000\n",
      "The maximum value = 9000\n",
      "The maximum value = 9000\n",
      "The maximum value = 9000\n",
      "The maximum value = 9000\n",
      "The maximum value = 9000\n",
      "The maximum value = 9000\n",
      "The maximum value = 9000\n",
      "The maximum value = 9000\n",
      "The maximum value = 9000\n",
      "The maximum value = 9000\n",
      "The maximum value = 9000\n",
      "The maximum value = 9000\n",
      "The maximum value = 9000\n",
      "The maximum value = 9000\n",
      "The maximum value = 9000\n",
      "The maximum value = 9000\n",
      "The maximum value = 9000\n",
      "The maximum value = 9000\n",
      "The maximum value = 9000\n",
      "The maximum value = 9000\n",
      "The maximum value = 9000\n",
      "The maximum value = 9000\n",
      "The maximum value = 9000\n",
      "The maximum value = 9000\n",
      "The maximum value = 9000\n",
      "The maximum value = 9000\n",
      "The maximum value = 9000\n",
      "The maximum value = 9000\n",
      "The maximum value = 9000\n",
      "The maximum value = 9000\n",
      "The maximum value = 9000\n",
      "The maximum value = 9000\n",
      "The maximum value = 9000\n",
      "The maximum value = 9000\n",
      "The maximum value = 9000\n",
      "The maximum value = 9000\n",
      "The maximum value = 9000\n",
      "The maximum value = 9000\n",
      "The maximum value = 9000\n",
      "The maximum value = 9000\n",
      "The maximum value = 9000\n",
      "The maximum value = 9000\n",
      "The maximum value = 9000\n",
      "The maximum value = 9000\n",
      "The maximum value = 9000\n",
      "The maximum value = 9000\n",
      "The maximum value = 9000\n",
      "The maximum value = 9000\n",
      "The maximum value = 9000\n",
      "The maximum value = 9000\n",
      "The maximum value = 9000\n",
      "The maximum value = 9000\n",
      "The maximum value = 9000\n",
      "The maximum value = 9000\n",
      "The maximum value = 9000\n",
      "The maximum value = 9000\n",
      "The maximum value = 9000\n",
      "The maximum value = 9000\n",
      "The maximum value = 9000\n",
      "The maximum value = 9000\n",
      "The maximum value = 9000\n",
      "The maximum value = 9000\n",
      "The maximum value = 9000\n",
      "The maximum value = 9000\n",
      "The maximum value = 9000\n",
      "The maximum value = 9000\n",
      "The maximum value = 9000\n",
      "The maximum value = 9000\n",
      "The maximum value = 9000\n",
      "The maximum value = 9000\n",
      "The maximum value = 9000\n",
      "The maximum value = 9000\n",
      "The maximum value = 9000\n",
      "The maximum value = 9000\n",
      "The maximum value = 9000\n",
      "The maximum value = 9000\n",
      "The maximum value = 9000\n",
      "The maximum value = 9000\n",
      "The maximum value = 9000\n",
      "The maximum value = 9000\n",
      "The maximum value = 9000\n",
      "The maximum value = 9000\n",
      "The maximum value = 9000\n",
      "The maximum value = 9000\n",
      "The maximum value = 9000\n",
      "The maximum value = 9000\n",
      "The maximum value = 9000\n",
      "The maximum value = 9000\n",
      "The maximum value = 9000\n",
      "The maximum value = 9000\n",
      "The maximum value = 9000\n",
      "The maximum value = 9000\n",
      "The maximum value = 9000\n",
      "The maximum value = 9000\n",
      "The maximum value = 9000\n",
      "The maximum value = 9000\n",
      "The maximum value = 9000\n",
      "The maximum value = 9000\n",
      "The maximum value = 9000\n",
      "The maximum value = 9000\n",
      "The maximum value = 9000\n",
      "The maximum value = 9000\n",
      "The maximum value = 9000\n",
      "The maximum value = 9000\n",
      "The maximum value = 9000\n",
      "The maximum value = 9000\n",
      "The maximum value = 9000\n",
      "The maximum value = 9000\n",
      "The maximum value = 9000\n",
      "The maximum value = 9000\n",
      "The maximum value = 9000\n",
      "The maximum value = 9000\n",
      "The maximum value = 9000\n",
      "The maximum value = 9000\n",
      "The maximum value = 9000\n",
      "The maximum value = 9000\n",
      "The maximum value = 9000\n",
      "The maximum value = 9000\n",
      "The maximum value = 9000\n",
      "The maximum value = 9000\n",
      "The maximum value = 9000\n",
      "The maximum value = 9000\n",
      "The maximum value = 9000\n",
      "The maximum value = 9000\n",
      "The maximum value = 9000\n",
      "The maximum value = 9000\n",
      "The maximum value = 9000\n",
      "The maximum value = 9000\n",
      "The maximum value = 9000\n",
      "The maximum value = 9000\n",
      "The maximum value = 9000\n",
      "The maximum value = 9000\n",
      "The maximum value = 9000\n",
      "The maximum value = 9000\n",
      "The maximum value = 9000\n",
      "The maximum value = 9000\n",
      "The maximum value = 9000\n",
      "The maximum value = 9000\n",
      "The maximum value = 9000\n",
      "The maximum value = 9000\n",
      "The maximum value = 9000\n",
      "The maximum value = 9000\n",
      "The maximum value = 9000\n",
      "The maximum value = 9000\n",
      "The maximum value = 9000\n",
      "The maximum value = 9000\n",
      "The maximum value = 9000\n",
      "The maximum value = 9000\n",
      "The maximum value = 9000\n",
      "The maximum value = 9000\n",
      "The maximum value = 9000\n",
      "The maximum value = 9000\n",
      "The maximum value = 9000\n",
      "The maximum value = 9000\n",
      "The maximum value = 9000\n",
      "The maximum value = 9000\n",
      "The maximum value = 9000\n",
      "The maximum value = 9000\n",
      "The maximum value = 9000\n",
      "The maximum value = 9000\n",
      "The maximum value = 9000\n",
      "The maximum value = 9000\n",
      "The maximum value = 9000\n",
      "The maximum value = 9000\n",
      "The maximum value = 9000\n",
      "The maximum value = 9000\n",
      "The maximum value = 9000\n",
      "The maximum value = 9000\n",
      "The maximum value = 9000\n",
      "The maximum value = 9000\n",
      "The maximum value = 9000\n",
      "The maximum value = 9000\n",
      "The maximum value = 9000\n",
      "The maximum value = 9000\n",
      "The maximum value = 9000\n",
      "The maximum value = 9000\n",
      "The maximum value = 9000\n",
      "The maximum value = 9000\n",
      "The maximum value = 9000\n",
      "The maximum value = 9000\n",
      "The maximum value = 9000\n",
      "The maximum value = 9000\n",
      "The maximum value = 9000\n",
      "The maximum value = 9000\n",
      "The maximum value = 9000\n",
      "The maximum value = 9000\n",
      "The maximum value = 9000\n",
      "The maximum value = 9000\n",
      "The maximum value = 9000\n",
      "The maximum value = 9000\n",
      "The maximum value = 9000\n",
      "The maximum value = 9000\n",
      "The maximum value = 9000\n",
      "The maximum value = 9000\n",
      "The maximum value = 9000\n",
      "The maximum value = 9000\n",
      "The maximum value = 9000\n",
      "The maximum value = 9000\n",
      "The maximum value = 9000\n",
      "The maximum value = 9000\n",
      "The maximum value = 9000\n",
      "The maximum value = 9000\n",
      "The maximum value = 9000\n",
      "The maximum value = 9000\n",
      "The maximum value = 9000\n",
      "The maximum value = 9000\n",
      "The maximum value = 9000\n",
      "The maximum value = 9000\n",
      "The maximum value = 9000\n",
      "The maximum value = 9000\n",
      "The maximum value = 9000\n",
      "The maximum value = 9000\n",
      "The maximum value = 9000\n",
      "The maximum value = 9000\n",
      "The maximum value = 9000\n",
      "The maximum value = 9000\n",
      "The maximum value = 9000\n",
      "The maximum value = 9000\n",
      "The maximum value = 9000\n",
      "The maximum value = 9000\n",
      "The maximum value = 9000\n",
      "The maximum value = 9000\n",
      "The maximum value = 9000\n",
      "The maximum value = 9000\n",
      "The maximum value = 9000\n",
      "The maximum value = 9000\n",
      "The maximum value = 9000\n",
      "The maximum value = 9000\n",
      "The maximum value = 9000\n",
      "The maximum value = 9000\n",
      "The maximum value = 9000\n",
      "The maximum value = 9000\n",
      "The maximum value = 9000\n",
      "The maximum value = 9000\n",
      "The maximum value = 9000\n",
      "The maximum value = 9000\n",
      "The maximum value = 9000\n",
      "The maximum value = 9000\n",
      "The maximum value = 9000\n",
      "The maximum value = 9000\n",
      "The maximum value = 9000\n",
      "The maximum value = 9000\n",
      "The maximum value = 9000\n",
      "The maximum value = 9000\n",
      "The maximum value = 9000\n",
      "The maximum value = 9000\n",
      "The maximum value = 9000\n",
      "The maximum value = 9000\n",
      "The maximum value = 9000\n",
      "The maximum value = 9000\n",
      "The maximum value = 9000\n",
      "The maximum value = 9000\n",
      "The maximum value = 9000\n",
      "The maximum value = 9000\n",
      "The maximum value = 9000\n",
      "The maximum value = 9000\n",
      "The maximum value = 9000\n",
      "The maximum value = 9000\n",
      "The maximum value = 9000\n",
      "The maximum value = 9000\n",
      "The maximum value = 9000\n",
      "The maximum value = 9000\n",
      "The maximum value = 9000\n",
      "The maximum value = 9000\n",
      "The maximum value = 9000\n",
      "The maximum value = 9000\n",
      "The maximum value = 9000\n",
      "The maximum value = 9000\n",
      "The maximum value = 9000\n",
      "The maximum value = 9000\n",
      "The maximum value = 9000\n",
      "The maximum value = 9000\n",
      "The maximum value = 9000\n",
      "The maximum value = 9000\n",
      "The maximum value = 9000\n",
      "The maximum value = 9000\n",
      "The maximum value = 9000\n",
      "The maximum value = 9000\n",
      "The maximum value = 9000\n",
      "The maximum value = 9000\n",
      "The maximum value = 9000\n",
      "The maximum value = 9000\n",
      "The maximum value = 9000\n",
      "The maximum value = 9000\n",
      "The maximum value = 9000\n",
      "The maximum value = 9000\n",
      "The maximum value = 9000\n",
      "The maximum value = 9000\n",
      "The maximum value = 9000\n",
      "The maximum value = 9000\n",
      "The maximum value = 9000\n",
      "The maximum value = 9000\n",
      "The maximum value = 9000\n",
      "The maximum value = 9000\n",
      "The maximum value = 9000\n",
      "The maximum value = 9000\n",
      "The maximum value = 9000\n",
      "The maximum value = 9000\n",
      "The maximum value = 9000\n",
      "The maximum value = 9000\n",
      "The maximum value = 9000\n",
      "The maximum value = 9000\n",
      "The maximum value = 9000\n",
      "The maximum value = 9000\n",
      "The maximum value = 9000\n",
      "The maximum value = 9000\n",
      "The maximum value = 9000\n",
      "The maximum value = 9000\n",
      "The maximum value = 9000\n",
      "The maximum value = 9000\n",
      "The maximum value = 9000\n",
      "The maximum value = 9000\n",
      "The maximum value = 9000\n",
      "The maximum value = 9000\n",
      "The maximum value = 9000\n",
      "The maximum value = 9000\n",
      "The maximum value = 9000\n",
      "The maximum value = 9000\n",
      "The maximum value = 9000\n",
      "The maximum value = 9000\n",
      "The maximum value = 9000\n",
      "The maximum value = 9000\n",
      "The maximum value = 9000\n",
      "The maximum value = 9000\n",
      "The maximum value = 9000\n",
      "The maximum value = 9000\n",
      "The maximum value = 9000\n",
      "The maximum value = 9000\n",
      "The maximum value = 9000\n",
      "The maximum value = 9000\n",
      "The maximum value = 9000\n",
      "The maximum value = 9000\n",
      "The maximum value = 9000\n",
      "The maximum value = 9000\n",
      "The maximum value = 9000\n",
      "The maximum value = 9000\n",
      "The maximum value = 9000\n",
      "The maximum value = 9000\n",
      "The maximum value = 9000\n",
      "The maximum value = 9000\n",
      "The maximum value = 9000\n",
      "The maximum value = 9000\n",
      "The maximum value = 9000\n",
      "The maximum value = 9000\n",
      "The maximum value = 9000\n",
      "The maximum value = 9000\n",
      "The maximum value = 9000\n",
      "The maximum value = 9000\n",
      "The maximum value = 9000\n",
      "The maximum value = 9000\n",
      "The maximum value = 9000\n",
      "The maximum value = 9000\n",
      "The maximum value = 9000\n",
      "The maximum value = 9000\n",
      "The maximum value = 9000\n",
      "The maximum value = 9000\n",
      "The maximum value = 9000\n",
      "The maximum value = 9000\n",
      "The maximum value = 9000\n",
      "The maximum value = 9000\n",
      "The maximum value = 9000\n",
      "The maximum value = 9000\n",
      "The maximum value = 9000\n",
      "The maximum value = 9000\n",
      "The maximum value = 9000\n",
      "The maximum value = 9000\n",
      "The maximum value = 9000\n",
      "The maximum value = 9000\n",
      "The maximum value = 9000\n",
      "The maximum value = 9000\n",
      "The maximum value = 9000\n",
      "The maximum value = 9000\n",
      "The maximum value = 9000\n",
      "The maximum value = 9000\n",
      "The maximum value = 9000\n",
      "The maximum value = 9000\n",
      "The maximum value = 9000\n",
      "The maximum value = 9000\n",
      "The maximum value = 9000\n",
      "The maximum value = 9000\n",
      "The maximum value = 9000\n",
      "The maximum value = 9000\n",
      "The maximum value = 9000\n",
      "The maximum value = 9000\n",
      "The maximum value = 9000\n",
      "The maximum value = 9000\n",
      "The maximum value = 9000\n",
      "The maximum value = 9000\n",
      "The maximum value = 9000\n",
      "The maximum value = 9000\n",
      "The maximum value = 9000\n",
      "The maximum value = 9000\n",
      "The maximum value = 9000\n",
      "The maximum value = 9000\n",
      "The maximum value = 9000\n",
      "The maximum value = 9000\n",
      "The maximum value = 9000\n",
      "The maximum value = 9000\n",
      "The maximum value = 9000\n",
      "The maximum value = 9000\n",
      "The maximum value = 9000\n",
      "The maximum value = 9000\n",
      "The maximum value = 9000\n",
      "The maximum value = 9000\n",
      "The maximum value = 9000\n",
      "The maximum value = 9000\n",
      "The maximum value = 9000\n",
      "The maximum value = 9000\n",
      "The maximum value = 9000\n",
      "The maximum value = 9000\n",
      "The maximum value = 9000\n",
      "The maximum value = 9000\n",
      "The maximum value = 9000\n",
      "The maximum value = 9000\n",
      "The maximum value = 9000\n",
      "The maximum value = 9000\n",
      "The maximum value = 9000\n",
      "The maximum value = 9000\n",
      "The maximum value = 9000\n",
      "The maximum value = 9000\n",
      "The maximum value = 9000\n",
      "The maximum value = 9000\n",
      "The maximum value = 9000\n",
      "The maximum value = 9000\n",
      "The maximum value = 9000\n",
      "The maximum value = 9000\n",
      "The maximum value = 9000\n",
      "The maximum value = 9000\n",
      "The maximum value = 9000\n",
      "The maximum value = 9000\n",
      "The maximum value = 9000\n",
      "The maximum value = 9000\n",
      "The maximum value = 9000\n",
      "The maximum value = 9000\n",
      "The maximum value = 9000\n",
      "The maximum value = 9000\n",
      "The maximum value = 9000\n",
      "The maximum value = 9000\n",
      "The maximum value = 9000\n",
      "The maximum value = 9000\n",
      "The maximum value = 9000\n",
      "The maximum value = 9000\n",
      "The maximum value = 9000\n",
      "The maximum value = 9000\n",
      "The maximum value = 9000\n",
      "The maximum value = 9000\n",
      "The maximum value = 9000\n",
      "The maximum value = 9000\n",
      "The maximum value = 9000\n",
      "The maximum value = 9000\n",
      "The maximum value = 9000\n",
      "The maximum value = 9000\n",
      "The maximum value = 9000\n",
      "The maximum value = 9000\n",
      "The maximum value = 9000\n",
      "The maximum value = 9000\n",
      "The maximum value = 9000\n",
      "The maximum value = 9000\n",
      "The maximum value = 9000\n",
      "The maximum value = 9000\n",
      "The maximum value = 9000\n",
      "The maximum value = 9000\n",
      "The maximum value = 9000\n",
      "The maximum value = 9000\n",
      "The maximum value = 9000\n",
      "The maximum value = 9000\n",
      "The maximum value = 9000\n",
      "The maximum value = 9000\n",
      "The maximum value = 9000\n",
      "The maximum value = 9000\n",
      "The maximum value = 9000\n",
      "The maximum value = 9000\n",
      "The maximum value = 9000\n",
      "The maximum value = 9000\n",
      "The maximum value = 9000\n",
      "The maximum value = 9000\n",
      "The maximum value = 9000\n",
      "The maximum value = 9000\n",
      "The maximum value = 9000\n",
      "The maximum value = 9000\n",
      "The maximum value = 9000\n",
      "The maximum value = 9000\n",
      "The maximum value = 9000\n",
      "The maximum value = 9000\n",
      "The maximum value = 9000\n",
      "The maximum value = 9000\n",
      "The maximum value = 9000\n",
      "The maximum value = 9000\n",
      "The maximum value = 9000\n",
      "The maximum value = 9000\n",
      "The maximum value = 9000\n",
      "The maximum value = 9000\n",
      "The maximum value = 9000\n",
      "The maximum value = 9000\n",
      "The maximum value = 9000\n",
      "The maximum value = 9000\n",
      "The maximum value = 9000\n",
      "The maximum value = 9000\n",
      "The maximum value = 9000\n",
      "The maximum value = 9000\n",
      "The maximum value = 9000\n",
      "The maximum value = 9000\n",
      "The maximum value = 9000\n",
      "The maximum value = 9000\n",
      "The maximum value = 9000\n",
      "The maximum value = 9000\n",
      "The maximum value = 9000\n",
      "The maximum value = 9000\n",
      "The maximum value = 9000\n",
      "The maximum value = 9000\n",
      "The maximum value = 9000\n",
      "The maximum value = 9000\n",
      "The maximum value = 9000\n",
      "The maximum value = 9000\n",
      "The maximum value = 9000\n",
      "The maximum value = 9000\n",
      "The maximum value = 9000\n",
      "The maximum value = 9000\n",
      "The maximum value = 9000\n",
      "The maximum value = 9000\n",
      "The maximum value = 9000\n",
      "The maximum value = 9000\n",
      "The maximum value = 9000\n",
      "The maximum value = 9000\n",
      "The maximum value = 9000\n",
      "The maximum value = 9000\n",
      "The maximum value = 9000\n",
      "The maximum value = 9000\n",
      "The maximum value = 9000\n",
      "The maximum value = 9000\n",
      "The maximum value = 9000\n",
      "The maximum value = 9000\n",
      "The maximum value = 9000\n",
      "The maximum value = 9000\n",
      "The maximum value = 9000\n",
      "The maximum value = 9000\n",
      "The maximum value = 9000\n",
      "The maximum value = 9000\n",
      "The maximum value = 9000\n",
      "The maximum value = 9000\n",
      "The maximum value = 9000\n",
      "The maximum value = 9000\n",
      "The maximum value = 9000\n",
      "The maximum value = 9000\n",
      "The maximum value = 9000\n",
      "The maximum value = 9000\n",
      "The maximum value = 9000\n",
      "The maximum value = 9000\n",
      "The maximum value = 9000\n",
      "The maximum value = 9000\n",
      "The maximum value = 9000\n",
      "The maximum value = 9000\n",
      "The maximum value = 9000\n",
      "The maximum value = 9000\n",
      "The maximum value = 9000\n",
      "The maximum value = 9000\n",
      "The maximum value = 9000\n",
      "The maximum value = 9000\n",
      "The maximum value = 9000\n",
      "The maximum value = 9000\n",
      "The maximum value = 9000\n",
      "The maximum value = 9000\n",
      "The maximum value = 9000\n",
      "The maximum value = 9000\n",
      "The maximum value = 9000\n",
      "The maximum value = 9000\n",
      "The maximum value = 9000\n",
      "The maximum value = 9000\n",
      "The maximum value = 9000\n",
      "The maximum value = 9000\n",
      "The maximum value = 9000\n",
      "The maximum value = 9000\n",
      "The maximum value = 9000\n",
      "The maximum value = 9000\n",
      "The maximum value = 9000\n",
      "The maximum value = 9000\n",
      "The maximum value = 9000\n",
      "The maximum value = 9000\n",
      "The maximum value = 9000\n",
      "The maximum value = 9000\n",
      "The maximum value = 9000\n",
      "The maximum value = 9000\n",
      "The maximum value = 9000\n",
      "The maximum value = 9000\n",
      "The maximum value = 9000\n",
      "The maximum value = 9000\n",
      "The maximum value = 9000\n",
      "The maximum value = 9000\n",
      "The maximum value = 9000\n",
      "The maximum value = 9000\n",
      "The maximum value = 9000\n",
      "The maximum value = 9000\n",
      "The maximum value = 9000\n",
      "The maximum value = 9000\n",
      "The maximum value = 9000\n",
      "The maximum value = 9000\n",
      "The maximum value = 9000\n",
      "The maximum value = 9000\n",
      "The maximum value = 9000\n",
      "The maximum value = 9000\n",
      "The maximum value = 9000\n",
      "The maximum value = 9000\n",
      "The maximum value = 9000\n",
      "The maximum value = 9000\n",
      "The maximum value = 9000\n",
      "The maximum value = 9000\n",
      "The maximum value = 9000\n",
      "The maximum value = 9000\n",
      "The maximum value = 9000\n",
      "The maximum value = 9000\n",
      "The maximum value = 9000\n",
      "The maximum value = 9000\n",
      "The maximum value = 9000\n",
      "The maximum value = 9000\n",
      "The maximum value = 9000\n",
      "The maximum value = 9000\n",
      "The maximum value = 9000\n",
      "The maximum value = 9000\n",
      "The maximum value = 9000\n",
      "The maximum value = 9000\n",
      "The maximum value = 9000\n",
      "The maximum value = 9000\n",
      "The maximum value = 9000\n",
      "The maximum value = 9000\n",
      "The maximum value = 9000\n",
      "The maximum value = 9000\n",
      "The maximum value = 9000\n",
      "The maximum value = 9000\n",
      "The maximum value = 9000\n",
      "The maximum value = 9000\n",
      "The maximum value = 9000\n",
      "The maximum value = 9000\n",
      "The maximum value = 9000\n",
      "The maximum value = 9000\n",
      "The maximum value = 9000\n",
      "The maximum value = 9000\n",
      "The maximum value = 9000\n",
      "The maximum value = 9000\n",
      "The maximum value = 9000\n",
      "The maximum value = 9000\n",
      "The maximum value = 9000\n",
      "The maximum value = 9000\n",
      "The maximum value = 9000\n",
      "The maximum value = 9000\n",
      "The maximum value = 9000\n",
      "The maximum value = 9000\n",
      "The maximum value = 9000\n",
      "The maximum value = 9000\n",
      "The maximum value = 9000\n",
      "The maximum value = 9000\n",
      "The maximum value = 9000\n",
      "The maximum value = 9000\n",
      "The maximum value = 9000\n",
      "The maximum value = 9000\n",
      "The maximum value = 9000\n",
      "The maximum value = 9000\n",
      "The maximum value = 9000\n",
      "The maximum value = 9000\n",
      "The maximum value = 9000\n",
      "The maximum value = 9000\n"
     ]
    }
   ],
   "source": [
    "for i in range(1000):\n",
    "    print(f\"The maximum value = {max1}\")"
   ]
  },
  {
   "cell_type": "code",
   "execution_count": null,
   "id": "705b2db5",
   "metadata": {},
   "outputs": [],
   "source": []
  }
 ],
 "metadata": {
  "kernelspec": {
   "display_name": "Python 3 (ipykernel)",
   "language": "python",
   "name": "python3"
  },
  "language_info": {
   "codemirror_mode": {
    "name": "ipython",
    "version": 3
   },
   "file_extension": ".py",
   "mimetype": "text/x-python",
   "name": "python",
   "nbconvert_exporter": "python",
   "pygments_lexer": "ipython3",
   "version": "3.9.12"
  }
 },
 "nbformat": 4,
 "nbformat_minor": 5
}
