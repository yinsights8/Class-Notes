{
 "cells": [
  {
   "cell_type": "markdown",
   "id": "f5b93bd4",
   "metadata": {},
   "source": [
    "# Return Statement"
   ]
  },
  {
   "cell_type": "code",
   "execution_count": 4,
   "id": "5735859d",
   "metadata": {},
   "outputs": [
    {
     "name": "stdout",
     "output_type": "stream",
     "text": [
      "(70, 30, 1000, 2.5)\n"
     ]
    }
   ],
   "source": [
    "def get_re(a,b):\n",
    "    add  = a+b\n",
    "    sub = a - b\n",
    "    mult = a * b\n",
    "    div = a / b\n",
    "    return add, sub, mult, div\n",
    "\n",
    "addi = get_re(50,20) # we are able to save this output because we are saving this as a tulple\n",
    "print(addi)"
   ]
  },
  {
   "cell_type": "code",
   "execution_count": 5,
   "id": "8b580178",
   "metadata": {},
   "outputs": [
    {
     "ename": "ValueError",
     "evalue": "too many values to unpack (expected 2)",
     "output_type": "error",
     "traceback": [
      "\u001b[1;31m---------------------------------------------------------------------------\u001b[0m",
      "\u001b[1;31mValueError\u001b[0m                                Traceback (most recent call last)",
      "Input \u001b[1;32mIn [5]\u001b[0m, in \u001b[0;36m<cell line: 1>\u001b[1;34m()\u001b[0m\n\u001b[1;32m----> 1\u001b[0m addi,subt \u001b[38;5;241m=\u001b[39m get_re(\u001b[38;5;241m50\u001b[39m,\u001b[38;5;241m20\u001b[39m)\n\u001b[0;32m      2\u001b[0m \u001b[38;5;28mprint\u001b[39m(addi)\n",
      "\u001b[1;31mValueError\u001b[0m: too many values to unpack (expected 2)"
     ]
    }
   ],
   "source": [
    "addi,subt = get_re(50,20) # we are NOT able to save this output because we are using tuple unpackaing\n",
    "print(addi)               # in this case we need initialise variable names == return result"
   ]
  },
  {
   "cell_type": "code",
   "execution_count": 6,
   "id": "2b1d0326",
   "metadata": {},
   "outputs": [
    {
     "name": "stdout",
     "output_type": "stream",
     "text": [
      "70\n",
      "30\n",
      "1000\n",
      "2.5\n"
     ]
    }
   ],
   "source": [
    "addi,subt,multi,divi = get_re(50,20)\n",
    "print(addi)\n",
    "print(subt)\n",
    "print(multi)\n",
    "print(divi)"
   ]
  },
  {
   "cell_type": "code",
   "execution_count": 7,
   "id": "dd378c6e",
   "metadata": {},
   "outputs": [
    {
     "ename": "ValueError",
     "evalue": "not enough values to unpack (expected 3, got 2)",
     "output_type": "error",
     "traceback": [
      "\u001b[1;31m---------------------------------------------------------------------------\u001b[0m",
      "\u001b[1;31mValueError\u001b[0m                                Traceback (most recent call last)",
      "Input \u001b[1;32mIn [7]\u001b[0m, in \u001b[0;36m<cell line: 1>\u001b[1;34m()\u001b[0m\n\u001b[1;32m----> 1\u001b[0m a,b,v \u001b[38;5;241m=\u001b[39m [\u001b[38;5;241m1\u001b[39m,\u001b[38;5;124m\"\u001b[39m\u001b[38;5;124myash\u001b[39m\u001b[38;5;124m\"\u001b[39m]\n",
      "\u001b[1;31mValueError\u001b[0m: not enough values to unpack (expected 3, got 2)"
     ]
    }
   ],
   "source": [
    "a,b,v = [1,\"yash\"]"
   ]
  },
  {
   "cell_type": "code",
   "execution_count": 11,
   "id": "cf96842c",
   "metadata": {},
   "outputs": [
    {
     "name": "stdout",
     "output_type": "stream",
     "text": [
      "1\n",
      "yash\n",
      "kelly\n"
     ]
    }
   ],
   "source": [
    "a,b,v = [1,\"yash\",\"kelly\"]\n",
    "print(a)\n",
    "print(b)\n",
    "print(v)"
   ]
  },
  {
   "cell_type": "code",
   "execution_count": 12,
   "id": "d8994227",
   "metadata": {},
   "outputs": [
    {
     "name": "stdout",
     "output_type": "stream",
     "text": [
      "1\n",
      "kelly\n",
      "yash\n"
     ]
    }
   ],
   "source": [
    "a,b,v = {1,\"yash\",\"kelly\"}\n",
    "print(a)\n",
    "print(b)\n",
    "print(v)"
   ]
  },
  {
   "cell_type": "code",
   "execution_count": 13,
   "id": "c51005c0",
   "metadata": {},
   "outputs": [
    {
     "ename": "ValueError",
     "evalue": "not enough values to unpack (expected 3, got 2)",
     "output_type": "error",
     "traceback": [
      "\u001b[1;31m---------------------------------------------------------------------------\u001b[0m",
      "\u001b[1;31mValueError\u001b[0m                                Traceback (most recent call last)",
      "Input \u001b[1;32mIn [13]\u001b[0m, in \u001b[0;36m<cell line: 1>\u001b[1;34m()\u001b[0m\n\u001b[1;32m----> 1\u001b[0m a,b,v \u001b[38;5;241m=\u001b[39m {\u001b[38;5;124m\"\u001b[39m\u001b[38;5;124mone\u001b[39m\u001b[38;5;124m\"\u001b[39m:\u001b[38;5;241m1\u001b[39m,\u001b[38;5;124m\"\u001b[39m\u001b[38;5;124mname\u001b[39m\u001b[38;5;124m\"\u001b[39m:\u001b[38;5;124m\"\u001b[39m\u001b[38;5;124myash\u001b[39m\u001b[38;5;124m\"\u001b[39m,\u001b[38;5;124m\"\u001b[39m\u001b[38;5;124mname\u001b[39m\u001b[38;5;124m\"\u001b[39m:\u001b[38;5;124m\"\u001b[39m\u001b[38;5;124mkelly\u001b[39m\u001b[38;5;124m\"\u001b[39m}\n\u001b[0;32m      2\u001b[0m \u001b[38;5;28mprint\u001b[39m(a)\n\u001b[0;32m      3\u001b[0m \u001b[38;5;28mprint\u001b[39m(b)\n",
      "\u001b[1;31mValueError\u001b[0m: not enough values to unpack (expected 3, got 2)"
     ]
    }
   ],
   "source": [
    "a,b,v = {\"one\":1,\"name\":\"yash\",\"name\":\"kelly\"}\n",
    "print(a)\n",
    "print(b)\n",
    "print(v)\n",
    "# we are getting this error because duplicate keys are not allowed in dictionary"
   ]
  },
  {
   "cell_type": "code",
   "execution_count": 14,
   "id": "141390d7",
   "metadata": {},
   "outputs": [
    {
     "name": "stdout",
     "output_type": "stream",
     "text": [
      "one\n",
      "name\n",
      "kelly\n"
     ]
    }
   ],
   "source": [
    "a,b,v = {\"one\":1,\"name\":\"yash\",\"kelly\":\"name\"}\n",
    "print(a)\n",
    "print(b)\n",
    "print(v)"
   ]
  },
  {
   "cell_type": "code",
   "execution_count": 2,
   "id": "e331cd83",
   "metadata": {},
   "outputs": [
    {
     "name": "stdout",
     "output_type": "stream",
     "text": [
      "1\n",
      "2\n",
      "3\n"
     ]
    }
   ],
   "source": [
    "a,b,c = frozenset([1,2,3])\n",
    "print(a)\n",
    "print(b)\n",
    "print(c)"
   ]
  },
  {
   "cell_type": "code",
   "execution_count": 15,
   "id": "b2af0144",
   "metadata": {},
   "outputs": [
    {
     "ename": "TypeError",
     "evalue": "string indices must be integers",
     "output_type": "error",
     "traceback": [
      "\u001b[1;31m---------------------------------------------------------------------------\u001b[0m",
      "\u001b[1;31mTypeError\u001b[0m                                 Traceback (most recent call last)",
      "Input \u001b[1;32mIn [15]\u001b[0m, in \u001b[0;36m<cell line: 2>\u001b[1;34m()\u001b[0m\n\u001b[0;32m      1\u001b[0m a,b,v \u001b[38;5;241m=\u001b[39m {\u001b[38;5;124m\"\u001b[39m\u001b[38;5;124mone\u001b[39m\u001b[38;5;124m\"\u001b[39m:\u001b[38;5;241m1\u001b[39m,\u001b[38;5;124m\"\u001b[39m\u001b[38;5;124mname\u001b[39m\u001b[38;5;124m\"\u001b[39m:\u001b[38;5;124m\"\u001b[39m\u001b[38;5;124myash\u001b[39m\u001b[38;5;124m\"\u001b[39m,\u001b[38;5;124m\"\u001b[39m\u001b[38;5;124mkelly\u001b[39m\u001b[38;5;124m\"\u001b[39m:\u001b[38;5;124m\"\u001b[39m\u001b[38;5;124mname\u001b[39m\u001b[38;5;124m\"\u001b[39m}\n\u001b[1;32m----> 2\u001b[0m \u001b[38;5;28mprint\u001b[39m(\u001b[43ma\u001b[49m\u001b[43m[\u001b[49m\u001b[38;5;124;43m\"\u001b[39;49m\u001b[38;5;124;43mone\u001b[39;49m\u001b[38;5;124;43m\"\u001b[39;49m\u001b[43m]\u001b[49m)\n\u001b[0;32m      3\u001b[0m \u001b[38;5;28mprint\u001b[39m(b[\u001b[38;5;124m\"\u001b[39m\u001b[38;5;124mname\u001b[39m\u001b[38;5;124m\"\u001b[39m])\n\u001b[0;32m      4\u001b[0m \u001b[38;5;28mprint\u001b[39m(v[\u001b[38;5;124m\"\u001b[39m\u001b[38;5;124mkelly\u001b[39m\u001b[38;5;124m\"\u001b[39m])\n",
      "\u001b[1;31mTypeError\u001b[0m: string indices must be integers"
     ]
    }
   ],
   "source": [
    "a,b,v = {\"one\":1, \"name\":\"yash\", \"kelly\":\"name\"}\n",
    "print(a[\"one\"])\n",
    "print(b[\"name\"])\n",
    "print(v[\"kelly\"])"
   ]
  },
  {
   "cell_type": "code",
   "execution_count": 30,
   "id": "093725fb",
   "metadata": {},
   "outputs": [
    {
     "ename": "AttributeError",
     "evalue": "'str' object has no attribute 'values'",
     "output_type": "error",
     "traceback": [
      "\u001b[1;31m---------------------------------------------------------------------------\u001b[0m",
      "\u001b[1;31mAttributeError\u001b[0m                            Traceback (most recent call last)",
      "Input \u001b[1;32mIn [30]\u001b[0m, in \u001b[0;36m<cell line: 2>\u001b[1;34m()\u001b[0m\n\u001b[0;32m      1\u001b[0m a,b,c \u001b[38;5;241m=\u001b[39m {\u001b[38;5;124m\"\u001b[39m\u001b[38;5;124mone\u001b[39m\u001b[38;5;124m\"\u001b[39m:\u001b[38;5;241m1\u001b[39m, \u001b[38;5;124m\"\u001b[39m\u001b[38;5;124mname\u001b[39m\u001b[38;5;124m\"\u001b[39m:\u001b[38;5;124m\"\u001b[39m\u001b[38;5;124myash\u001b[39m\u001b[38;5;124m\"\u001b[39m, \u001b[38;5;124m\"\u001b[39m\u001b[38;5;124mkelly\u001b[39m\u001b[38;5;124m\"\u001b[39m:\u001b[38;5;124m\"\u001b[39m\u001b[38;5;124mname\u001b[39m\u001b[38;5;124m\"\u001b[39m}\n\u001b[1;32m----> 2\u001b[0m \u001b[38;5;28mprint\u001b[39m(\u001b[43ma\u001b[49m\u001b[38;5;241;43m.\u001b[39;49m\u001b[43mvalues\u001b[49m())\n\u001b[0;32m      3\u001b[0m \u001b[38;5;28mprint\u001b[39m(b)\n\u001b[0;32m      4\u001b[0m \u001b[38;5;28mprint\u001b[39m(c)\n",
      "\u001b[1;31mAttributeError\u001b[0m: 'str' object has no attribute 'values'"
     ]
    }
   ],
   "source": [
    "a,b,c = {\"one\":1, \"name\":\"yash\", \"kelly\":\"name\"}\n",
    "print(a)\n",
    "print(b)\n",
    "print(c)\n",
    "# We can not unpack dictionary"
   ]
  },
  {
   "cell_type": "markdown",
   "id": "f5db267e",
   "metadata": {},
   "source": [
    "# In python every iterable can be unpack \n",
    "## but when it comes to dictionary we can only unpack dictionaries keys() but we can not access its values"
   ]
  },
  {
   "cell_type": "code",
   "execution_count": null,
   "id": "7353b1b7",
   "metadata": {},
   "outputs": [],
   "source": []
  },
  {
   "cell_type": "markdown",
   "id": "35341bdb",
   "metadata": {},
   "source": [
    "#### sum of list by not using functions"
   ]
  },
  {
   "cell_type": "code",
   "execution_count": 7,
   "id": "27e40f9f",
   "metadata": {},
   "outputs": [
    {
     "name": "stdout",
     "output_type": "stream",
     "text": [
      "The sum of the list is: 85\n"
     ]
    }
   ],
   "source": [
    "def sum_list(nums):\n",
    "    sumations = 0\n",
    "    \n",
    "    for i in nums:\n",
    "        sumations += i\n",
    "    return sumations\n",
    "    \n",
    "nums = [11,2,3,55,4,10]\n",
    "\n",
    "result = sum_list(nums)\n",
    "\n",
    "print(f\"The sum of the list is: {result}\")"
   ]
  },
  {
   "cell_type": "code",
   "execution_count": 4,
   "id": "7e2d2a83",
   "metadata": {},
   "outputs": [
    {
     "data": {
      "text/plain": [
       "85"
      ]
     },
     "execution_count": 4,
     "metadata": {},
     "output_type": "execute_result"
    }
   ],
   "source": [
    "nums = [11,2,3,55,4,10]\n",
    "sum(nums)"
   ]
  },
  {
   "cell_type": "code",
   "execution_count": 8,
   "id": "37365964",
   "metadata": {},
   "outputs": [
    {
     "name": "stdout",
     "output_type": "stream",
     "text": [
      "Summation = 150\n"
     ]
    }
   ],
   "source": [
    "def get_sum(iterable):\n",
    "    summation = 0\n",
    "    for i in iterable:\n",
    "        summation += i\n",
    "    return summation\n",
    "\n",
    "sum1 = get_sum((10,20,30,40,50))\n",
    "print(f\"Summation = {sum1}\")"
   ]
  },
  {
   "cell_type": "code",
   "execution_count": 9,
   "id": "bf478b93",
   "metadata": {},
   "outputs": [
    {
     "ename": "TypeError",
     "evalue": "cannot unpack non-iterable int object",
     "output_type": "error",
     "traceback": [
      "\u001b[1;31m---------------------------------------------------------------------------\u001b[0m",
      "\u001b[1;31mTypeError\u001b[0m                                 Traceback (most recent call last)",
      "Input \u001b[1;32mIn [9]\u001b[0m, in \u001b[0;36m<cell line: 7>\u001b[1;34m()\u001b[0m\n\u001b[0;32m      4\u001b[0m         summation \u001b[38;5;241m+\u001b[39m\u001b[38;5;241m=\u001b[39m i\n\u001b[0;32m      5\u001b[0m     \u001b[38;5;28;01mreturn\u001b[39;00m summation\n\u001b[1;32m----> 7\u001b[0m sum1,sum2 \u001b[38;5;241m=\u001b[39m get_sum((\u001b[38;5;241m10\u001b[39m,\u001b[38;5;241m20\u001b[39m,\u001b[38;5;241m30\u001b[39m,\u001b[38;5;241m40\u001b[39m,\u001b[38;5;241m50\u001b[39m))\n\u001b[0;32m      8\u001b[0m \u001b[38;5;28mprint\u001b[39m(\u001b[38;5;124mf\u001b[39m\u001b[38;5;124m\"\u001b[39m\u001b[38;5;124mSummation = \u001b[39m\u001b[38;5;132;01m{\u001b[39;00msum1\u001b[38;5;132;01m}\u001b[39;00m\u001b[38;5;124m\"\u001b[39m)\n",
      "\u001b[1;31mTypeError\u001b[0m: cannot unpack non-iterable int object"
     ]
    }
   ],
   "source": [
    "def get_sum(iterable):\n",
    "    summation = 0\n",
    "    for i in iterable:\n",
    "        summation += i\n",
    "    return summation\n",
    "\n",
    "sum1,sum2 = get_sum((10,20,30,40,50))\n",
    "print(f\"Summation = {sum1}\")"
   ]
  },
  {
   "cell_type": "code",
   "execution_count": 13,
   "id": "5a450860",
   "metadata": {},
   "outputs": [
    {
     "name": "stdout",
     "output_type": "stream",
     "text": [
      "Summation 1 = 150\n",
      "Summation 2 = 150\n",
      "Summation 3 = 150\n"
     ]
    }
   ],
   "source": [
    "def get_sum(iterable):\n",
    "    summation = 0\n",
    "    for i in iterable:\n",
    "        summation += i\n",
    "    return summation\n",
    "\n",
    "sum1 = sum2 = sum3= get_sum((10,20,30,40,50))\n",
    "print(f\"Summation 1 = {sum1}\")\n",
    "print(f\"Summation 2 = {sum2}\")\n",
    "print(f\"Summation 3 = {sum3}\")"
   ]
  },
  {
   "cell_type": "markdown",
   "id": "52050915",
   "metadata": {},
   "source": [
    "## positional arguments"
   ]
  },
  {
   "cell_type": "code",
   "execution_count": 27,
   "id": "6c7eac0a",
   "metadata": {},
   "outputs": [
    {
     "name": "stdout",
     "output_type": "stream",
     "text": [
      "Addition: 275\n",
      "Subtraction: 125\n",
      "multiplication: 15000\n",
      "division: 2\n"
     ]
    }
   ],
   "source": [
    "def position_arguments(a,b):\n",
    "    add = a+b\n",
    "    sub = a-b\n",
    "    mul = a*b\n",
    "    div = a//b\n",
    "    return add, sub, mul, div\n",
    "\n",
    "addi, subt, mult, divi = position_arguments(200,75)\n",
    "\n",
    "print(f\"Addition: {addi}\")\n",
    "print(f\"Subtraction: {subt}\")\n",
    "print(f\"multiplication: {mult}\")\n",
    "print(f\"division: {divi}\")"
   ]
  },
  {
   "cell_type": "code",
   "execution_count": 28,
   "id": "84f8483c",
   "metadata": {},
   "outputs": [
    {
     "name": "stdout",
     "output_type": "stream",
     "text": [
      "Addition: 125\n",
      "Subtraction: 275\n",
      "multiplication: 15000\n",
      "division: 2\n"
     ]
    }
   ],
   "source": [
    "def position_arguments(a,b):\n",
    "    add = a+b\n",
    "    sub = a-b\n",
    "    mul = a*b\n",
    "    div = a//b\n",
    "    return add, sub, mul, div\n",
    "\n",
    "subt, addi, mult, divi = position_arguments(200,75) ## Have to take care of the order of the position of the arguments\n",
    "\n",
    "print(f\"Addition: {addi}\")\n",
    "print(f\"Subtraction: {subt}\")\n",
    "print(f\"multiplication: {mult}\")\n",
    "print(f\"division: {divi}\")"
   ]
  },
  {
   "cell_type": "code",
   "execution_count": 36,
   "id": "13c77232",
   "metadata": {},
   "outputs": [
    {
     "data": {
      "text/plain": [
       "120"
      ]
     },
     "execution_count": 36,
     "metadata": {},
     "output_type": "execute_result"
    }
   ],
   "source": [
    "def factorial(n):\n",
    "    fact = 1\n",
    "    for i in range(1,n+1):\n",
    "        fact *= i\n",
    "    return fact\n",
    "  \n",
    "factorial(5)"
   ]
  },
  {
   "cell_type": "markdown",
   "id": "250ef96f",
   "metadata": {},
   "source": [
    "## finding factorral by recurssive method\n"
   ]
  },
  {
   "cell_type": "code",
   "execution_count": 3,
   "id": "4b6564ff",
   "metadata": {},
   "outputs": [
    {
     "name": "stdout",
     "output_type": "stream",
     "text": [
      "120\n"
     ]
    }
   ],
   "source": [
    "def factor_of(x):\n",
    "    if x == 0:\n",
    "        return 1\n",
    "    else:\n",
    "        return x * factor_of(x-1)   # this fucntion will call till x == 0 # after x == 0 the operation will be 5*4*3*2*1\n",
    "\n",
    "fact = factor_of(5)\n",
    "print(fact)"
   ]
  },
  {
   "cell_type": "code",
   "execution_count": 7,
   "id": "b530be52",
   "metadata": {},
   "outputs": [
    {
     "name": "stdout",
     "output_type": "stream",
     "text": [
      "Factor of 10: 3628800\n",
      "Factore of 15: 1307674368000\n",
      "Factor of 20: 2432902008176640000\n"
     ]
    }
   ],
   "source": [
    "fact_1 = factor_of(10)\n",
    "fact_2 = factor_of(15)\n",
    "fact_3 = factor_of(20)\n",
    "\n",
    "print(f\"Factor of 10: {fact_1}\")\n",
    "print(f\"Factore of 15: {fact_2}\")\n",
    "print(f\"Factor of 20: {fact_3}\")"
   ]
  },
  {
   "cell_type": "code",
   "execution_count": 17,
   "id": "80c709da",
   "metadata": {},
   "outputs": [
    {
     "name": "stdout",
     "output_type": "stream",
     "text": [
      "Factor of a 5 is: 120\n",
      "Factor of a 7 is: 5040\n",
      "Factor of a 9 is: 362880\n"
     ]
    }
   ],
   "source": [
    "f_list = [5, 7, 9]\n",
    "\n",
    "for x in f_list:\n",
    "    fact = factor_of(x)\n",
    "    print(f\"Factor of a {x} is: {fact}\")"
   ]
  },
  {
   "cell_type": "markdown",
   "id": "891b914c",
   "metadata": {},
   "source": [
    "## Fibonacci series"
   ]
  },
  {
   "cell_type": "code",
   "execution_count": 29,
   "id": "ae5956ad",
   "metadata": {},
   "outputs": [
    {
     "name": "stdout",
     "output_type": "stream",
     "text": [
      "1\n",
      "2\n",
      "3\n",
      "5\n",
      "8\n",
      "13\n",
      "21\n",
      "34\n",
      "55\n",
      "89\n"
     ]
    }
   ],
   "source": [
    "def fib_of(m):\n",
    "    first = 0\n",
    "    second = 1\n",
    "    for i in range(m):           # a  b  c\n",
    "        last = first + second   ## 1  2  3  4  5  6\n",
    "        first = second           #    a  b  c --> This will shift until x comes\n",
    "        second = last           # last will become the addition of the previous numbers\n",
    "        print(last)\n",
    "        \n",
    "fib_of(10)"
   ]
  },
  {
   "cell_type": "code",
   "execution_count": 36,
   "id": "050fce22",
   "metadata": {},
   "outputs": [
    {
     "name": "stdout",
     "output_type": "stream",
     "text": [
      "[1, 1, 2, 4, 8, 16, 32, 64, 128, 256, 512, 512]\n"
     ]
    }
   ],
   "source": [
    "def fib_of(m):\n",
    "    fib_lis = [0,1]\n",
    "    for i in range(m):           # a  b  c\n",
    "        last = fib_lis[-2] + fib_lis[-1]  ## 1  2  3  4  5  6\n",
    "        fib_lis[-2] = fib_lis[-1]            #    a  b  c --> This will shift until x comes\n",
    "        fib_lis[-1] = last           # last will become the addition of the previous numbers\n",
    "#         print(last) \n",
    "        fib_lis.append(last)\n",
    "    print(fib_lis)\n",
    "        \n",
    "fib_of(10)"
   ]
  },
  {
   "cell_type": "code",
   "execution_count": 39,
   "id": "96929cd2",
   "metadata": {},
   "outputs": [
    {
     "name": "stdout",
     "output_type": "stream",
     "text": [
      "[0, 1, 1, 2, 3, 5, 8, 13, 21, 34, 55, 89]\n"
     ]
    }
   ],
   "source": [
    "def get_fib(b):\n",
    "    fib = []\n",
    "    fib.append(0)\n",
    "    fib.append(1)\n",
    "    for i in range(b):\n",
    "        fib.append(fib[-2] + fib[-1])\n",
    "    return fib\n",
    "\n",
    "fib_series = get_fib(10)\n",
    "print(fib_series)"
   ]
  },
  {
   "cell_type": "code",
   "execution_count": 42,
   "id": "43bdc20e",
   "metadata": {},
   "outputs": [
    {
     "data": {
      "text/plain": [
       "[0, 1, 1, 2, 3, 5, 8, 13, 21, 34, 55, 89]"
      ]
     },
     "execution_count": 42,
     "metadata": {},
     "output_type": "execute_result"
    }
   ],
   "source": [
    "fib = []\n",
    "fib.append(0)\n",
    "fib.append(1)\n",
    "for i in range(10):\n",
    "    fib.append(fib[-2] + fib[-1])\n",
    "    \n",
    "    \n",
    "fib"
   ]
  },
  {
   "cell_type": "code",
   "execution_count": 46,
   "id": "7de992f3",
   "metadata": {},
   "outputs": [
    {
     "name": "stdout",
     "output_type": "stream",
     "text": [
      "3\n"
     ]
    }
   ],
   "source": [
    "lis = [1,2]\n",
    "\n",
    "additon = lis[-2] + lis[-1]\n",
    "print(additon)"
   ]
  },
  {
   "cell_type": "code",
   "execution_count": 49,
   "id": "69257586",
   "metadata": {},
   "outputs": [
    {
     "name": "stdout",
     "output_type": "stream",
     "text": [
      "2\n",
      "1\n"
     ]
    }
   ],
   "source": [
    "lis = [1,2]\n",
    "first = lis[-1]  # 2\n",
    "second = lis[-2] # 1\n",
    "\n",
    "print(first)\n",
    "print(second)"
   ]
  },
  {
   "cell_type": "markdown",
   "id": "25252922",
   "metadata": {},
   "source": [
    "## minimum of the list"
   ]
  },
  {
   "cell_type": "markdown",
   "id": "653b9c26",
   "metadata": {},
   "source": [
    "###### Method 1"
   ]
  },
  {
   "cell_type": "code",
   "execution_count": 56,
   "id": "ba8f3971",
   "metadata": {},
   "outputs": [
    {
     "name": "stdout",
     "output_type": "stream",
     "text": [
      "-50\n"
     ]
    }
   ],
   "source": [
    "def find_min(list_num):\n",
    "    mini = list_num[0]\n",
    "\n",
    "    for i in list_num:\n",
    "        if i <= mini:\n",
    "            mini = i\n",
    "\n",
    "    print(mini)\n",
    "\n",
    "lis1 = [10,20,30,500, -1, -50, 50]\n",
    "find_min(lis1)"
   ]
  },
  {
   "cell_type": "markdown",
   "id": "209b862c",
   "metadata": {},
   "source": [
    "###### Method 2"
   ]
  },
  {
   "cell_type": "code",
   "execution_count": 53,
   "id": "c15c5f75",
   "metadata": {},
   "outputs": [
    {
     "name": "stdout",
     "output_type": "stream",
     "text": [
      "-50\n"
     ]
    }
   ],
   "source": [
    "lis1 = [10,20,30,500, -1, -50, 50]\n",
    "\n",
    "num = 1000\n",
    "for i in lis1:\n",
    "    if  i <= num:\n",
    "        num = i\n",
    "print(num)"
   ]
  },
  {
   "cell_type": "markdown",
   "id": "3757ad22",
   "metadata": {},
   "source": [
    "### Find maximum value"
   ]
  },
  {
   "cell_type": "markdown",
   "id": "a123e22f",
   "metadata": {},
   "source": [
    "###### method 1"
   ]
  },
  {
   "cell_type": "code",
   "execution_count": 57,
   "id": "c644a340",
   "metadata": {},
   "outputs": [
    {
     "name": "stdout",
     "output_type": "stream",
     "text": [
      "10000\n"
     ]
    }
   ],
   "source": [
    "def find_max(lis2):\n",
    "    maxi = lis2[0]\n",
    "\n",
    "    for i in lis2:\n",
    "        if  i >= maxi:\n",
    "            maxi = i\n",
    "    print(maxi)\n",
    "    \n",
    "n = [10,20,30,500, -1, -50, 50, 10000]\n",
    "find_max(n)"
   ]
  },
  {
   "cell_type": "markdown",
   "id": "1311ff75",
   "metadata": {},
   "source": [
    "###### Method 2"
   ]
  },
  {
   "cell_type": "code",
   "execution_count": 61,
   "id": "66e1000d",
   "metadata": {},
   "outputs": [
    {
     "name": "stdout",
     "output_type": "stream",
     "text": [
      "10000\n"
     ]
    }
   ],
   "source": [
    "nu = [10,20,30,500, -1, -50, 50, 10000]\n",
    "\n",
    "maxim = 0\n",
    "\n",
    "for i in nu:\n",
    "    if i > maxim:\n",
    "        maxim = i\n",
    "print(maxim)"
   ]
  },
  {
   "cell_type": "code",
   "execution_count": null,
   "id": "c28b0cd7",
   "metadata": {},
   "outputs": [],
   "source": []
  }
 ],
 "metadata": {
  "kernelspec": {
   "display_name": "Python 3 (ipykernel)",
   "language": "python",
   "name": "python3"
  },
  "language_info": {
   "codemirror_mode": {
    "name": "ipython",
    "version": 3
   },
   "file_extension": ".py",
   "mimetype": "text/x-python",
   "name": "python",
   "nbconvert_exporter": "python",
   "pygments_lexer": "ipython3",
   "version": "3.9.12"
  }
 },
 "nbformat": 4,
 "nbformat_minor": 5
}
