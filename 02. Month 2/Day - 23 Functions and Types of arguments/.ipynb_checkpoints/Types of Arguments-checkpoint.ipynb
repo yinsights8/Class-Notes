{
 "cells": [
  {
   "cell_type": "markdown",
   "id": "09c31a08",
   "metadata": {},
   "source": [
    "# Types of Arguments\n",
    "- 1. Positional Arguments\n",
    "- 2. Default Arguments/Keyword Argument\n",
    "- 3. Arbitrary Positional Arguments(*)\n",
    "- 4. Arbitrary Keyword Arguments(**)"
   ]
  },
  {
   "cell_type": "markdown",
   "id": "ef534cfb",
   "metadata": {},
   "source": [
    "# 1. Positional Arguments\n",
    "- Number of positional arguments equals to number of parameters"
   ]
  },
  {
   "cell_type": "code",
   "execution_count": 1,
   "id": "fb3a624b",
   "metadata": {},
   "outputs": [
    {
     "name": "stdout",
     "output_type": "stream",
     "text": [
      "Num1 = 100 & Num2 = 200\n"
     ]
    }
   ],
   "source": [
    "def get_position(num1, num2):\n",
    "    print(f\"Num1 = {num1} & Num2 = {num2}\")\n",
    "    \n",
    "    \n",
    "get_position(100,200)"
   ]
  },
  {
   "cell_type": "code",
   "execution_count": 2,
   "id": "f25d4fd8",
   "metadata": {},
   "outputs": [
    {
     "name": "stdout",
     "output_type": "stream",
     "text": [
      "Num1 = 200 & Num2 = 100\n"
     ]
    }
   ],
   "source": [
    "def get_position(num1, num2):\n",
    "    print(f\"Num1 = {num1} & Num2 = {num2}\")\n",
    "    \n",
    "    \n",
    "get_position(200,100)"
   ]
  },
  {
   "cell_type": "code",
   "execution_count": 3,
   "id": "b4bcfb9b",
   "metadata": {},
   "outputs": [
    {
     "name": "stdout",
     "output_type": "stream",
     "text": [
      "Num1 = 200 & Num2 = [1, 2, 3]\n"
     ]
    }
   ],
   "source": [
    "def get_position(num1, num2):\n",
    "    print(f\"Num1 = {num1} & Num2 = {num2}\")\n",
    "    \n",
    "    \n",
    "get_position(200,[1,2,3])"
   ]
  },
  {
   "cell_type": "code",
   "execution_count": 4,
   "id": "600ebbc0",
   "metadata": {},
   "outputs": [
    {
     "name": "stdout",
     "output_type": "stream",
     "text": [
      "Num1 = 200 & Num2 = [1, 2, 3]\n"
     ]
    }
   ],
   "source": [
    "def get_position(num1, num2):\n",
    "    print(f\"Num1 = {num1} & Num2 = {num2}\")\n",
    "    \n",
    "    \n",
    "get_position(\"200\",[1,2,3])"
   ]
  },
  {
   "cell_type": "code",
   "execution_count": 5,
   "id": "989e8576",
   "metadata": {},
   "outputs": [
    {
     "ename": "TypeError",
     "evalue": "get_position() missing 1 required positional argument: 'num2'",
     "output_type": "error",
     "traceback": [
      "\u001b[1;31m---------------------------------------------------------------------------\u001b[0m",
      "\u001b[1;31mTypeError\u001b[0m                                 Traceback (most recent call last)",
      "Input \u001b[1;32mIn [5]\u001b[0m, in \u001b[0;36m<cell line: 5>\u001b[1;34m()\u001b[0m\n\u001b[0;32m      1\u001b[0m \u001b[38;5;28;01mdef\u001b[39;00m \u001b[38;5;21mget_position\u001b[39m(num1, num2):\n\u001b[0;32m      2\u001b[0m     \u001b[38;5;28mprint\u001b[39m(\u001b[38;5;124mf\u001b[39m\u001b[38;5;124m\"\u001b[39m\u001b[38;5;124mNum1 = \u001b[39m\u001b[38;5;132;01m{\u001b[39;00mnum1\u001b[38;5;132;01m}\u001b[39;00m\u001b[38;5;124m & Num2 = \u001b[39m\u001b[38;5;132;01m{\u001b[39;00mnum2\u001b[38;5;132;01m}\u001b[39;00m\u001b[38;5;124m\"\u001b[39m)\n\u001b[1;32m----> 5\u001b[0m \u001b[43mget_position\u001b[49m\u001b[43m(\u001b[49m\u001b[38;5;124;43m\"\u001b[39;49m\u001b[38;5;124;43m200\u001b[39;49m\u001b[38;5;124;43m\"\u001b[39;49m\u001b[43m)\u001b[49m\n",
      "\u001b[1;31mTypeError\u001b[0m: get_position() missing 1 required positional argument: 'num2'"
     ]
    }
   ],
   "source": [
    "def get_position(num1, num2):\n",
    "    print(f\"Num1 = {num1} & Num2 = {num2}\")\n",
    "    \n",
    "    \n",
    "get_position(\"200\")"
   ]
  },
  {
   "cell_type": "code",
   "execution_count": null,
   "id": "533540d2",
   "metadata": {},
   "outputs": [],
   "source": []
  }
 ],
 "metadata": {
  "kernelspec": {
   "display_name": "Python 3 (ipykernel)",
   "language": "python",
   "name": "python3"
  },
  "language_info": {
   "codemirror_mode": {
    "name": "ipython",
    "version": 3
   },
   "file_extension": ".py",
   "mimetype": "text/x-python",
   "name": "python",
   "nbconvert_exporter": "python",
   "pygments_lexer": "ipython3",
   "version": "3.9.12"
  }
 },
 "nbformat": 4,
 "nbformat_minor": 5
}
