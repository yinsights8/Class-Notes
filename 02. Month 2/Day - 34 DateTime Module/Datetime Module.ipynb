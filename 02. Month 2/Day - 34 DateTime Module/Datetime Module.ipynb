{
 "cells": [
  {
   "cell_type": "markdown",
   "id": "f077838b",
   "metadata": {},
   "source": [
    "# Datetime Module\n",
    "- 10-01-2020\n",
    "- 10 Jan 2020\n",
    "- 2020-01-10\n",
    "- 10/02/2020"
   ]
  },
  {
   "cell_type": "markdown",
   "id": "1677d6aa",
   "metadata": {},
   "source": [
    "# Current Datetime"
   ]
  },
  {
   "cell_type": "code",
   "execution_count": 2,
   "id": "0e788d2c",
   "metadata": {},
   "outputs": [],
   "source": [
    "import datetime"
   ]
  },
  {
   "cell_type": "code",
   "execution_count": 3,
   "id": "fd2e8d18",
   "metadata": {},
   "outputs": [
    {
     "name": "stdout",
     "output_type": "stream",
     "text": [
      "2022-09-20 15:41:17.020017\n"
     ]
    }
   ],
   "source": [
    "current_datetime = datetime.datetime.now()\n",
    "print(current_datetime)"
   ]
  },
  {
   "cell_type": "code",
   "execution_count": 4,
   "id": "64d7fb35",
   "metadata": {},
   "outputs": [
    {
     "name": "stdout",
     "output_type": "stream",
     "text": [
      "2022-09-20 15:41:18.203341\n"
     ]
    }
   ],
   "source": [
    "current_datetime_today = datetime.datetime.today()\n",
    "print(current_datetime_today)"
   ]
  },
  {
   "cell_type": "code",
   "execution_count": 5,
   "id": "cf726168",
   "metadata": {},
   "outputs": [
    {
     "data": {
      "text/plain": [
       "2022"
      ]
     },
     "execution_count": 5,
     "metadata": {},
     "output_type": "execute_result"
    }
   ],
   "source": [
    "current_datetime_today.year"
   ]
  },
  {
   "cell_type": "code",
   "execution_count": 6,
   "id": "92183a02",
   "metadata": {},
   "outputs": [
    {
     "data": {
      "text/plain": [
       "datetime.datetime"
      ]
     },
     "execution_count": 6,
     "metadata": {},
     "output_type": "execute_result"
    }
   ],
   "source": [
    "type(current_datetime_today)"
   ]
  },
  {
   "cell_type": "code",
   "execution_count": 7,
   "id": "6ce679fa",
   "metadata": {},
   "outputs": [
    {
     "data": {
      "text/plain": [
       "datetime.datetime"
      ]
     },
     "execution_count": 7,
     "metadata": {},
     "output_type": "execute_result"
    }
   ],
   "source": [
    "type(current_datetime)"
   ]
  },
  {
   "cell_type": "code",
   "execution_count": 8,
   "id": "a691ed7d",
   "metadata": {},
   "outputs": [
    {
     "data": {
      "text/plain": [
       "9"
      ]
     },
     "execution_count": 8,
     "metadata": {},
     "output_type": "execute_result"
    }
   ],
   "source": [
    "current_datetime_today.month"
   ]
  },
  {
   "cell_type": "code",
   "execution_count": 9,
   "id": "1b4d047b",
   "metadata": {},
   "outputs": [
    {
     "data": {
      "text/plain": [
       "20"
      ]
     },
     "execution_count": 9,
     "metadata": {},
     "output_type": "execute_result"
    }
   ],
   "source": [
    "current_datetime_today.day"
   ]
  },
  {
   "cell_type": "code",
   "execution_count": 11,
   "id": "cd33a421",
   "metadata": {},
   "outputs": [
    {
     "data": {
      "text/plain": [
       "datetime.date(2022, 9, 20)"
      ]
     },
     "execution_count": 11,
     "metadata": {},
     "output_type": "execute_result"
    }
   ],
   "source": [
    "current_datetime_today.date()"
   ]
  },
  {
   "cell_type": "code",
   "execution_count": 12,
   "id": "04e65a37",
   "metadata": {},
   "outputs": [
    {
     "data": {
      "text/plain": [
       "6"
      ]
     },
     "execution_count": 12,
     "metadata": {},
     "output_type": "execute_result"
    }
   ],
   "source": [
    "current_datetime_today.hour"
   ]
  },
  {
   "cell_type": "code",
   "execution_count": 13,
   "id": "52140fee",
   "metadata": {},
   "outputs": [
    {
     "data": {
      "text/plain": [
       "41"
      ]
     },
     "execution_count": 13,
     "metadata": {},
     "output_type": "execute_result"
    }
   ],
   "source": [
    "current_datetime_today.minute"
   ]
  },
  {
   "cell_type": "code",
   "execution_count": 15,
   "id": "7fbdcdf1",
   "metadata": {},
   "outputs": [
    {
     "data": {
      "text/plain": [
       "datetime.date(2022, 9, 20)"
      ]
     },
     "execution_count": 15,
     "metadata": {},
     "output_type": "execute_result"
    }
   ],
   "source": [
    "current_datetime.today().date()"
   ]
  },
  {
   "cell_type": "code",
   "execution_count": 16,
   "id": "7cb41746",
   "metadata": {},
   "outputs": [
    {
     "data": {
      "text/plain": [
       "datetime.time(6, 44, 56, 598099)"
      ]
     },
     "execution_count": 16,
     "metadata": {},
     "output_type": "execute_result"
    }
   ],
   "source": [
    "current_datetime.today().time()"
   ]
  },
  {
   "cell_type": "markdown",
   "id": "d244fa88",
   "metadata": {},
   "source": [
    "# Timedelta"
   ]
  },
  {
   "cell_type": "code",
   "execution_count": 22,
   "id": "f9dbb0d6",
   "metadata": {},
   "outputs": [
    {
     "data": {
      "text/plain": [
       "datetime.date(2022, 9, 20)"
      ]
     },
     "execution_count": 22,
     "metadata": {},
     "output_type": "execute_result"
    }
   ],
   "source": [
    "current_date = datetime.datetime.today().date()\n",
    "current_date"
   ]
  },
  {
   "cell_type": "code",
   "execution_count": 24,
   "id": "4dfd3290",
   "metadata": {},
   "outputs": [
    {
     "data": {
      "text/plain": [
       "datetime.date(2022, 9, 21)"
      ]
     },
     "execution_count": 24,
     "metadata": {},
     "output_type": "execute_result"
    }
   ],
   "source": [
    "new_date = current_date + datetime.timedelta(days=1)\n",
    "new_date"
   ]
  },
  {
   "cell_type": "code",
   "execution_count": 25,
   "id": "f10e505c",
   "metadata": {},
   "outputs": [
    {
     "data": {
      "text/plain": [
       "datetime.date(2022, 9, 23)"
      ]
     },
     "execution_count": 25,
     "metadata": {},
     "output_type": "execute_result"
    }
   ],
   "source": [
    "new_date = current_date + datetime.timedelta(days=3)\n",
    "new_date"
   ]
  },
  {
   "cell_type": "code",
   "execution_count": 26,
   "id": "f2422415",
   "metadata": {},
   "outputs": [
    {
     "data": {
      "text/plain": [
       "datetime.date(2022, 9, 27)"
      ]
     },
     "execution_count": 26,
     "metadata": {},
     "output_type": "execute_result"
    }
   ],
   "source": [
    "new_date = current_date + datetime.timedelta(days=7)\n",
    "new_date"
   ]
  },
  {
   "cell_type": "code",
   "execution_count": 27,
   "id": "5800a16a",
   "metadata": {},
   "outputs": [
    {
     "data": {
      "text/plain": [
       "datetime.date(2022, 10, 20)"
      ]
     },
     "execution_count": 27,
     "metadata": {},
     "output_type": "execute_result"
    }
   ],
   "source": [
    "new_date = current_date + datetime.timedelta(days=30)\n",
    "new_date"
   ]
  },
  {
   "cell_type": "code",
   "execution_count": 28,
   "id": "d062cbac",
   "metadata": {},
   "outputs": [
    {
     "data": {
      "text/plain": [
       "datetime.date(2023, 9, 20)"
      ]
     },
     "execution_count": 28,
     "metadata": {},
     "output_type": "execute_result"
    }
   ],
   "source": [
    "new_date = current_date + datetime.timedelta(days=365)\n",
    "new_date"
   ]
  },
  {
   "cell_type": "markdown",
   "id": "92bb9571",
   "metadata": {},
   "source": [
    "# Next 10 days"
   ]
  },
  {
   "cell_type": "code",
   "execution_count": 29,
   "id": "3253f59f",
   "metadata": {},
   "outputs": [
    {
     "name": "stdout",
     "output_type": "stream",
     "text": [
      "New_date =  2022-09-21\n",
      "New_date =  2022-09-22\n",
      "New_date =  2022-09-23\n",
      "New_date =  2022-09-24\n",
      "New_date =  2022-09-25\n",
      "New_date =  2022-09-26\n",
      "New_date =  2022-09-27\n",
      "New_date =  2022-09-28\n",
      "New_date =  2022-09-29\n",
      "New_date =  2022-09-30\n"
     ]
    }
   ],
   "source": [
    "for i in range(1,11):\n",
    "    new_date = current_date + datetime.timedelta(days=i)\n",
    "    print(\"New_date = \",new_date)"
   ]
  },
  {
   "cell_type": "markdown",
   "id": "103d1927",
   "metadata": {},
   "source": [
    "# Last 10 days "
   ]
  },
  {
   "cell_type": "code",
   "execution_count": 30,
   "id": "2bdab3d0",
   "metadata": {},
   "outputs": [
    {
     "name": "stdout",
     "output_type": "stream",
     "text": [
      "New_date =  2022-09-19\n",
      "New_date =  2022-09-18\n",
      "New_date =  2022-09-17\n",
      "New_date =  2022-09-16\n",
      "New_date =  2022-09-15\n",
      "New_date =  2022-09-14\n",
      "New_date =  2022-09-13\n",
      "New_date =  2022-09-12\n",
      "New_date =  2022-09-11\n",
      "New_date =  2022-09-10\n"
     ]
    }
   ],
   "source": [
    "for i in range(1,11):\n",
    "    new_date = current_date - datetime.timedelta(days=i)\n",
    "    print(\"New_date = \",new_date)"
   ]
  },
  {
   "cell_type": "markdown",
   "id": "0ffb6c7e",
   "metadata": {},
   "source": [
    "# Last & Next 10 days"
   ]
  },
  {
   "cell_type": "code",
   "execution_count": 66,
   "id": "082c2677",
   "metadata": {},
   "outputs": [
    {
     "name": "stdout",
     "output_type": "stream",
     "text": [
      "New_date =  2022-09-10\n",
      "New_date =  2022-09-11\n",
      "New_date =  2022-09-12\n",
      "New_date =  2022-09-13\n",
      "New_date =  2022-09-14\n",
      "New_date =  2022-09-15\n",
      "New_date =  2022-09-16\n",
      "New_date =  2022-09-17\n",
      "New_date =  2022-09-18\n",
      "New_date =  2022-09-19\n",
      "New_date =  2022-09-20\n",
      "New_date =  2022-09-21\n",
      "New_date =  2022-09-22\n",
      "New_date =  2022-09-23\n",
      "New_date =  2022-09-24\n",
      "New_date =  2022-09-25\n",
      "New_date =  2022-09-26\n",
      "New_date =  2022-09-27\n",
      "New_date =  2022-09-28\n",
      "New_date =  2022-09-29\n"
     ]
    }
   ],
   "source": [
    "for i in range(-10,10):\n",
    "    new_date = current_date + datetime.timedelta(days=i)\n",
    "    print(\"New_date = \",new_date)"
   ]
  },
  {
   "cell_type": "code",
   "execution_count": 32,
   "id": "01251aca",
   "metadata": {},
   "outputs": [
    {
     "name": "stdout",
     "output_type": "stream",
     "text": [
      "New_date =  2022-09-27\n"
     ]
    }
   ],
   "source": [
    "new_date = current_date + datetime.timedelta(weeks=1)\n",
    "print(\"New_date = \",new_date)"
   ]
  },
  {
   "cell_type": "code",
   "execution_count": 33,
   "id": "b5f0f935",
   "metadata": {},
   "outputs": [
    {
     "name": "stdout",
     "output_type": "stream",
     "text": [
      "New_date =  2022-09-13\n"
     ]
    }
   ],
   "source": [
    "new_date = current_date + datetime.timedelta(weeks=-1)\n",
    "print(\"New_date = \",new_date)"
   ]
  },
  {
   "cell_type": "raw",
   "id": "90e8daf7",
   "metadata": {},
   "source": [
    "days = 0\n",
    "seconds = 0\n",
    "microseconds = 0\n",
    "milliseconds = 0\n",
    "minutes = 0\n",
    "hours = 0\n",
    "weeks = 0"
   ]
  },
  {
   "cell_type": "code",
   "execution_count": 34,
   "id": "20c41d93",
   "metadata": {},
   "outputs": [
    {
     "data": {
      "text/plain": [
       "datetime.datetime(2022, 9, 20, 6, 59, 30, 550022)"
      ]
     },
     "execution_count": 34,
     "metadata": {},
     "output_type": "execute_result"
    }
   ],
   "source": [
    "curr_time = datetime.datetime.today()\n",
    "curr_time"
   ]
  },
  {
   "cell_type": "code",
   "execution_count": 35,
   "id": "0b61ff61",
   "metadata": {},
   "outputs": [
    {
     "data": {
      "text/plain": [
       "datetime.datetime(2022, 9, 20, 11, 59, 30, 550022)"
      ]
     },
     "execution_count": 35,
     "metadata": {},
     "output_type": "execute_result"
    }
   ],
   "source": [
    "curr_time + datetime.timedelta(hours = 5)"
   ]
  },
  {
   "cell_type": "code",
   "execution_count": 36,
   "id": "18cfa425",
   "metadata": {},
   "outputs": [
    {
     "data": {
      "text/plain": [
       "datetime.datetime(2022, 9, 20, 7, 59, 30, 550022)"
      ]
     },
     "execution_count": 36,
     "metadata": {},
     "output_type": "execute_result"
    }
   ],
   "source": [
    "curr_time + datetime.timedelta(hours = 1)"
   ]
  },
  {
   "cell_type": "markdown",
   "id": "02543ad6",
   "metadata": {},
   "source": [
    "# strftime()\n",
    "- string from time object(time to string)"
   ]
  },
  {
   "cell_type": "code",
   "execution_count": 37,
   "id": "2f32b702",
   "metadata": {},
   "outputs": [
    {
     "data": {
      "text/plain": [
       "datetime.datetime(2022, 9, 20, 7, 3, 20, 264954)"
      ]
     },
     "execution_count": 37,
     "metadata": {},
     "output_type": "execute_result"
    }
   ],
   "source": [
    "curr_time = datetime.datetime.today()\n",
    "curr_time"
   ]
  },
  {
   "cell_type": "code",
   "execution_count": 38,
   "id": "96074641",
   "metadata": {},
   "outputs": [
    {
     "data": {
      "text/plain": [
       "datetime.datetime"
      ]
     },
     "execution_count": 38,
     "metadata": {},
     "output_type": "execute_result"
    }
   ],
   "source": [
    "type(curr_time)"
   ]
  },
  {
   "cell_type": "code",
   "execution_count": 39,
   "id": "cc50d2fa",
   "metadata": {},
   "outputs": [
    {
     "data": {
      "text/plain": [
       "'2022'"
      ]
     },
     "execution_count": 39,
     "metadata": {},
     "output_type": "execute_result"
    }
   ],
   "source": [
    "curr_time.strftime('%Y')"
   ]
  },
  {
   "cell_type": "code",
   "execution_count": 41,
   "id": "5e508e8f",
   "metadata": {},
   "outputs": [
    {
     "data": {
      "text/plain": [
       "int"
      ]
     },
     "execution_count": 41,
     "metadata": {},
     "output_type": "execute_result"
    }
   ],
   "source": [
    "type(curr_time.year)"
   ]
  },
  {
   "cell_type": "code",
   "execution_count": 45,
   "id": "d44c9640",
   "metadata": {},
   "outputs": [
    {
     "data": {
      "text/plain": [
       "2022"
      ]
     },
     "execution_count": 45,
     "metadata": {},
     "output_type": "execute_result"
    }
   ],
   "source": [
    "curr_time.year"
   ]
  },
  {
   "cell_type": "code",
   "execution_count": 46,
   "id": "301379e2",
   "metadata": {},
   "outputs": [
    {
     "data": {
      "text/plain": [
       "'2022'"
      ]
     },
     "execution_count": 46,
     "metadata": {},
     "output_type": "execute_result"
    }
   ],
   "source": [
    "curr_time.strftime('%Y')"
   ]
  },
  {
   "cell_type": "code",
   "execution_count": 64,
   "id": "fad77138",
   "metadata": {},
   "outputs": [
    {
     "name": "stdout",
     "output_type": "stream",
     "text": [
      "2022\n",
      "22\n",
      "September\n",
      "Sep\n",
      "09\n",
      "20\n",
      "Tuesday\n",
      "Tue\n",
      "2\n",
      "263\n",
      "38\n",
      "AM\n"
     ]
    }
   ],
   "source": [
    "# Year\n",
    "print(curr_time.strftime('%Y')) # Year = '2022'\n",
    "print(curr_time.strftime('%y')) # Year = 22\n",
    "\n",
    "# Month\n",
    "print(curr_time.strftime('%B')) # Month = September\n",
    "print(curr_time.strftime('%b')) # Month = Sep\n",
    "print(curr_time.strftime('%m')) # Month = 09\n",
    "\n",
    "# Date \n",
    "print(curr_time.strftime('%d')) # Date = 20\n",
    "\n",
    "# Weekdays \n",
    "print(curr_time.strftime('%A')) # Weekdays = Tuesday\n",
    "print(curr_time.strftime('%a')) # Weekdays = Tue\n",
    "print(curr_time.strftime('%w')) # Weekdays = 2 sun = 0, monday = 1\n",
    "\n",
    "# Day Number \n",
    "print(curr_time.strftime('%j')) # Day Number (nth day of the current year) = 263\n",
    "\n",
    "# Week Number \n",
    "print(curr_time.strftime('%U')) # Day Number (nth week of the current year) = 38\n",
    "\n",
    "# AM/PM\n",
    "print(curr_time.strftime('%p'))\n"
   ]
  },
  {
   "cell_type": "code",
   "execution_count": 77,
   "id": "e6b11e8e",
   "metadata": {},
   "outputs": [
    {
     "data": {
      "text/plain": [
       "datetime.datetime(1896, 5, 7, 10, 0)"
      ]
     },
     "execution_count": 77,
     "metadata": {},
     "output_type": "execute_result"
    }
   ],
   "source": [
    "any_day = datetime.datetime(1896,5,7,10,0)\n",
    "any_day"
   ]
  },
  {
   "cell_type": "code",
   "execution_count": 78,
   "id": "8b301e1b",
   "metadata": {},
   "outputs": [
    {
     "data": {
      "text/plain": [
       "'Thursday'"
      ]
     },
     "execution_count": 78,
     "metadata": {},
     "output_type": "execute_result"
    }
   ],
   "source": [
    "any_day.strftime('%A')"
   ]
  },
  {
   "cell_type": "code",
   "execution_count": 79,
   "id": "415f67ad",
   "metadata": {},
   "outputs": [
    {
     "data": {
      "text/plain": [
       "'128'"
      ]
     },
     "execution_count": 79,
     "metadata": {},
     "output_type": "execute_result"
    }
   ],
   "source": [
    "any_day.strftime('%j')"
   ]
  },
  {
   "cell_type": "code",
   "execution_count": 80,
   "id": "ce271246",
   "metadata": {},
   "outputs": [
    {
     "data": {
      "text/plain": [
       "'May'"
      ]
     },
     "execution_count": 80,
     "metadata": {},
     "output_type": "execute_result"
    }
   ],
   "source": [
    "any_day.strftime('%B')"
   ]
  },
  {
   "cell_type": "code",
   "execution_count": 88,
   "id": "d30651bc",
   "metadata": {},
   "outputs": [
    {
     "data": {
      "text/plain": [
       "datetime.datetime(1896, 8, 7, 0, 0)"
      ]
     },
     "execution_count": 88,
     "metadata": {},
     "output_type": "execute_result"
    }
   ],
   "source": [
    "any_day = datetime.datetime(1896,8,7)\n",
    "any_day"
   ]
  },
  {
   "cell_type": "code",
   "execution_count": 89,
   "id": "973617aa",
   "metadata": {},
   "outputs": [
    {
     "data": {
      "text/plain": [
       "'1896-Aug-07'"
      ]
     },
     "execution_count": 89,
     "metadata": {},
     "output_type": "execute_result"
    }
   ],
   "source": [
    "any_day.strftime(\"%Y-%b-%d\")"
   ]
  },
  {
   "cell_type": "code",
   "execution_count": 90,
   "id": "9a199ff8",
   "metadata": {},
   "outputs": [
    {
     "data": {
      "text/plain": [
       "'Aug-1896-07'"
      ]
     },
     "execution_count": 90,
     "metadata": {},
     "output_type": "execute_result"
    }
   ],
   "source": [
    "any_day.strftime(\"%b-%Y-%d\")"
   ]
  },
  {
   "cell_type": "code",
   "execution_count": 92,
   "id": "61c801a0",
   "metadata": {},
   "outputs": [
    {
     "data": {
      "text/plain": [
       "'1896-Aug-07'"
      ]
     },
     "execution_count": 92,
     "metadata": {},
     "output_type": "execute_result"
    }
   ],
   "source": [
    "any_day.strftime(\"%Y-%b-%d\")"
   ]
  },
  {
   "cell_type": "code",
   "execution_count": 93,
   "id": "85927b9c",
   "metadata": {},
   "outputs": [
    {
     "data": {
      "text/plain": [
       "'1896/Aug/07'"
      ]
     },
     "execution_count": 93,
     "metadata": {},
     "output_type": "execute_result"
    }
   ],
   "source": [
    "any_day.strftime(\"%Y/%b/%d\")"
   ]
  },
  {
   "cell_type": "code",
   "execution_count": 94,
   "id": "4bf7d559",
   "metadata": {},
   "outputs": [
    {
     "data": {
      "text/plain": [
       "'1896 Aug 07'"
      ]
     },
     "execution_count": 94,
     "metadata": {},
     "output_type": "execute_result"
    }
   ],
   "source": [
    "any_day.strftime(\"%Y %b %d\")"
   ]
  },
  {
   "cell_type": "code",
   "execution_count": 100,
   "id": "4971f27c",
   "metadata": {},
   "outputs": [
    {
     "data": {
      "text/plain": [
       "'07-08-1896'"
      ]
     },
     "execution_count": 100,
     "metadata": {},
     "output_type": "execute_result"
    }
   ],
   "source": [
    "date_str = any_day.strftime(\"%d-%m-%Y\")\n",
    "date_str"
   ]
  },
  {
   "cell_type": "code",
   "execution_count": 102,
   "id": "33615322",
   "metadata": {},
   "outputs": [
    {
     "data": {
      "text/plain": [
       "'1896'"
      ]
     },
     "execution_count": 102,
     "metadata": {},
     "output_type": "execute_result"
    }
   ],
   "source": [
    "date_str[-4:]"
   ]
  },
  {
   "cell_type": "markdown",
   "id": "0501a7fc",
   "metadata": {},
   "source": [
    "# strptime()\n",
    "- String points to time(string to time object)"
   ]
  },
  {
   "cell_type": "code",
   "execution_count": 103,
   "id": "b0195028",
   "metadata": {},
   "outputs": [],
   "source": [
    "d1 = \"25-11-2020\"\n",
    "d2 = \"25/11/2020\"\n",
    "d3 = \"25 11 2020\"\n",
    "d4 = \"25 Nov 2020\"\n",
    "d5 = \"25/November/2020\""
   ]
  },
  {
   "cell_type": "code",
   "execution_count": 108,
   "id": "a98d0007",
   "metadata": {},
   "outputs": [
    {
     "data": {
      "text/plain": [
       "datetime.datetime(2020, 11, 25, 0, 0)"
      ]
     },
     "execution_count": 108,
     "metadata": {},
     "output_type": "execute_result"
    }
   ],
   "source": [
    "d1 = \"25-11-2020\"\n",
    "date_format = \"%d-%m-%Y\"\n",
    "new_date = datetime.datetime.strptime(d1,date_format)\n",
    "new_date"
   ]
  },
  {
   "cell_type": "code",
   "execution_count": 105,
   "id": "e3b6cac6",
   "metadata": {},
   "outputs": [
    {
     "data": {
      "text/plain": [
       "datetime.datetime"
      ]
     },
     "execution_count": 105,
     "metadata": {},
     "output_type": "execute_result"
    }
   ],
   "source": [
    "type(new_date)"
   ]
  },
  {
   "cell_type": "code",
   "execution_count": 109,
   "id": "62c9ba51",
   "metadata": {},
   "outputs": [
    {
     "ename": "ValueError",
     "evalue": "time data '25/11/2020' does not match format '%d-%m-%Y'",
     "output_type": "error",
     "traceback": [
      "\u001b[1;31m---------------------------------------------------------------------------\u001b[0m",
      "\u001b[1;31mValueError\u001b[0m                                Traceback (most recent call last)",
      "Input \u001b[1;32mIn [109]\u001b[0m, in \u001b[0;36m<cell line: 3>\u001b[1;34m()\u001b[0m\n\u001b[0;32m      1\u001b[0m d1 \u001b[38;5;241m=\u001b[39m \u001b[38;5;124m\"\u001b[39m\u001b[38;5;124m25/11/2020\u001b[39m\u001b[38;5;124m\"\u001b[39m\n\u001b[0;32m      2\u001b[0m date_format \u001b[38;5;241m=\u001b[39m \u001b[38;5;124m\"\u001b[39m\u001b[38;5;132;01m%d\u001b[39;00m\u001b[38;5;124m-\u001b[39m\u001b[38;5;124m%\u001b[39m\u001b[38;5;124mm-\u001b[39m\u001b[38;5;124m%\u001b[39m\u001b[38;5;124mY\u001b[39m\u001b[38;5;124m\"\u001b[39m\n\u001b[1;32m----> 3\u001b[0m new_date \u001b[38;5;241m=\u001b[39m \u001b[43mdatetime\u001b[49m\u001b[38;5;241;43m.\u001b[39;49m\u001b[43mdatetime\u001b[49m\u001b[38;5;241;43m.\u001b[39;49m\u001b[43mstrptime\u001b[49m\u001b[43m(\u001b[49m\u001b[43md1\u001b[49m\u001b[43m,\u001b[49m\u001b[43mdate_format\u001b[49m\u001b[43m)\u001b[49m\n\u001b[0;32m      4\u001b[0m new_date\n",
      "File \u001b[1;32m~\\AppData\\Local\\Programs\\Python\\Python310\\lib\\_strptime.py:568\u001b[0m, in \u001b[0;36m_strptime_datetime\u001b[1;34m(cls, data_string, format)\u001b[0m\n\u001b[0;32m    565\u001b[0m \u001b[38;5;28;01mdef\u001b[39;00m \u001b[38;5;21m_strptime_datetime\u001b[39m(\u001b[38;5;28mcls\u001b[39m, data_string, \u001b[38;5;28mformat\u001b[39m\u001b[38;5;241m=\u001b[39m\u001b[38;5;124m\"\u001b[39m\u001b[38;5;132;01m%a\u001b[39;00m\u001b[38;5;124m \u001b[39m\u001b[38;5;124m%\u001b[39m\u001b[38;5;124mb \u001b[39m\u001b[38;5;132;01m%d\u001b[39;00m\u001b[38;5;124m \u001b[39m\u001b[38;5;124m%\u001b[39m\u001b[38;5;124mH:\u001b[39m\u001b[38;5;124m%\u001b[39m\u001b[38;5;124mM:\u001b[39m\u001b[38;5;124m%\u001b[39m\u001b[38;5;124mS \u001b[39m\u001b[38;5;124m%\u001b[39m\u001b[38;5;124mY\u001b[39m\u001b[38;5;124m\"\u001b[39m):\n\u001b[0;32m    566\u001b[0m     \u001b[38;5;124;03m\"\"\"Return a class cls instance based on the input string and the\u001b[39;00m\n\u001b[0;32m    567\u001b[0m \u001b[38;5;124;03m    format string.\"\"\"\u001b[39;00m\n\u001b[1;32m--> 568\u001b[0m     tt, fraction, gmtoff_fraction \u001b[38;5;241m=\u001b[39m \u001b[43m_strptime\u001b[49m\u001b[43m(\u001b[49m\u001b[43mdata_string\u001b[49m\u001b[43m,\u001b[49m\u001b[43m \u001b[49m\u001b[38;5;28;43mformat\u001b[39;49m\u001b[43m)\u001b[49m\n\u001b[0;32m    569\u001b[0m     tzname, gmtoff \u001b[38;5;241m=\u001b[39m tt[\u001b[38;5;241m-\u001b[39m\u001b[38;5;241m2\u001b[39m:]\n\u001b[0;32m    570\u001b[0m     args \u001b[38;5;241m=\u001b[39m tt[:\u001b[38;5;241m6\u001b[39m] \u001b[38;5;241m+\u001b[39m (fraction,)\n",
      "File \u001b[1;32m~\\AppData\\Local\\Programs\\Python\\Python310\\lib\\_strptime.py:349\u001b[0m, in \u001b[0;36m_strptime\u001b[1;34m(data_string, format)\u001b[0m\n\u001b[0;32m    347\u001b[0m found \u001b[38;5;241m=\u001b[39m format_regex\u001b[38;5;241m.\u001b[39mmatch(data_string)\n\u001b[0;32m    348\u001b[0m \u001b[38;5;28;01mif\u001b[39;00m \u001b[38;5;129;01mnot\u001b[39;00m found:\n\u001b[1;32m--> 349\u001b[0m     \u001b[38;5;28;01mraise\u001b[39;00m \u001b[38;5;167;01mValueError\u001b[39;00m(\u001b[38;5;124m\"\u001b[39m\u001b[38;5;124mtime data \u001b[39m\u001b[38;5;132;01m%r\u001b[39;00m\u001b[38;5;124m does not match format \u001b[39m\u001b[38;5;132;01m%r\u001b[39;00m\u001b[38;5;124m\"\u001b[39m \u001b[38;5;241m%\u001b[39m\n\u001b[0;32m    350\u001b[0m                      (data_string, \u001b[38;5;28mformat\u001b[39m))\n\u001b[0;32m    351\u001b[0m \u001b[38;5;28;01mif\u001b[39;00m \u001b[38;5;28mlen\u001b[39m(data_string) \u001b[38;5;241m!=\u001b[39m found\u001b[38;5;241m.\u001b[39mend():\n\u001b[0;32m    352\u001b[0m     \u001b[38;5;28;01mraise\u001b[39;00m \u001b[38;5;167;01mValueError\u001b[39;00m(\u001b[38;5;124m\"\u001b[39m\u001b[38;5;124munconverted data remains: \u001b[39m\u001b[38;5;132;01m%s\u001b[39;00m\u001b[38;5;124m\"\u001b[39m \u001b[38;5;241m%\u001b[39m\n\u001b[0;32m    353\u001b[0m                       data_string[found\u001b[38;5;241m.\u001b[39mend():])\n",
      "\u001b[1;31mValueError\u001b[0m: time data '25/11/2020' does not match format '%d-%m-%Y'"
     ]
    }
   ],
   "source": [
    "d1 = \"25/11/2020\"\n",
    "date_format = \"%d-%m-%Y\"\n",
    "new_date = datetime.datetime.strptime(d1,date_format)\n",
    "new_date"
   ]
  },
  {
   "cell_type": "code",
   "execution_count": 111,
   "id": "9fe17add",
   "metadata": {},
   "outputs": [
    {
     "data": {
      "text/plain": [
       "datetime.date(2020, 11, 25)"
      ]
     },
     "execution_count": 111,
     "metadata": {},
     "output_type": "execute_result"
    }
   ],
   "source": [
    "d1 = \"25/11/2020\"\n",
    "date_format = \"%d/%m/%Y\"\n",
    "new_date = datetime.datetime.strptime(d1,date_format).date()\n",
    "new_date"
   ]
  },
  {
   "cell_type": "code",
   "execution_count": 112,
   "id": "aeddb158",
   "metadata": {},
   "outputs": [
    {
     "data": {
      "text/plain": [
       "datetime.date(2020, 11, 25)"
      ]
     },
     "execution_count": 112,
     "metadata": {},
     "output_type": "execute_result"
    }
   ],
   "source": [
    "d3 = \"25 11 2020\"\n",
    "date_format = \"%d %m %Y\"\n",
    "new_date = datetime.datetime.strptime(d3,date_format).date()\n",
    "new_date"
   ]
  },
  {
   "cell_type": "code",
   "execution_count": 113,
   "id": "879795e6",
   "metadata": {},
   "outputs": [
    {
     "data": {
      "text/plain": [
       "datetime.date(2020, 11, 25)"
      ]
     },
     "execution_count": 113,
     "metadata": {},
     "output_type": "execute_result"
    }
   ],
   "source": [
    "d4 = \"25 Nov 20\"\n",
    "date_format = \"%d %b %y\"\n",
    "new_date = datetime.datetime.strptime(d4,date_format).date()\n",
    "new_date"
   ]
  },
  {
   "cell_type": "code",
   "execution_count": 115,
   "id": "e5892260",
   "metadata": {},
   "outputs": [
    {
     "data": {
      "text/plain": [
       "datetime.date(2020, 11, 25)"
      ]
     },
     "execution_count": 115,
     "metadata": {},
     "output_type": "execute_result"
    }
   ],
   "source": [
    "d5 = \"25/November/2020\"\n",
    "date_format = \"%d/%B/%Y\"\n",
    "new_date = datetime.datetime.strptime(d5,date_format).date()\n",
    "new_date"
   ]
  },
  {
   "cell_type": "code",
   "execution_count": null,
   "id": "848698a3",
   "metadata": {},
   "outputs": [],
   "source": []
  },
  {
   "cell_type": "code",
   "execution_count": 1,
   "id": "35a1829e",
   "metadata": {},
   "outputs": [
    {
     "data": {
      "text/plain": [
       "['17-02-2022',\n",
       " '28/03/2022',\n",
       " '17-02-22',\n",
       " '2022-02-17',\n",
       " '2022 Feb 17',\n",
       " '2022 February 17',\n",
       " '2022 Aug 17',\n",
       " '17 Feb 22',\n",
       " '17 Feb 2022',\n",
       " '17/02/2022',\n",
       " '17/02/22',\n",
       " '17-05-2020']"
      ]
     },
     "execution_count": 1,
     "metadata": {},
     "output_type": "execute_result"
    }
   ],
   "source": [
    "date_list = [\"17-02-2022\",\"28/03/2022\",\"17-02-22\",\"2022-02-17\",\"2022 Feb 17\", \"2022 February 17\", \n",
    "            \"2022 Aug 17\", \"17 Feb 22\", \"17 Feb 2022\", \"17/02/2022\", \"17/02/22\", \"17-05-2020\"]\n",
    "date_list"
   ]
  },
  {
   "cell_type": "code",
   "execution_count": 2,
   "id": "84f9dff4",
   "metadata": {},
   "outputs": [
    {
     "data": {
      "text/plain": [
       "['17-02-2022',\n",
       " '28/03/2022',\n",
       " '17-02-22',\n",
       " '2022-02-17',\n",
       " '2022 Feb 17',\n",
       " '2022 February 17',\n",
       " '2022 Aug 17',\n",
       " '17 Feb 22',\n",
       " '17 Feb 2022',\n",
       " '17/02/2022',\n",
       " '17/02/22',\n",
       " '17-05-2020']"
      ]
     },
     "execution_count": 2,
     "metadata": {},
     "output_type": "execute_result"
    }
   ],
   "source": [
    "date_list = [\"17-02-2022\",\"28/03/2022\",\"17-02-22\",\"2022-02-17\",\"2022 Feb 17\", \"2022 February 17\", \n",
    "            \"2022 Aug 17\", \"17 Feb 22\", \"17 Feb 2022\", \"17/02/2022\", \"17/02/22\", \"17-05-2020\"]\n",
    "date_list"
   ]
  },
  {
   "cell_type": "code",
   "execution_count": 135,
   "id": "4fccf2af",
   "metadata": {},
   "outputs": [
    {
     "data": {
      "text/plain": [
       "['%d/%m/%Y',\n",
       " '%d-%m-%Y',\n",
       " '%d-%m-%y',\n",
       " '%Y-%m-%d',\n",
       " '%Y %b %d',\n",
       " '%Y %B %d',\n",
       " '%d %b %y',\n",
       " '%d %b %y',\n",
       " '%d %b %Y',\n",
       " '%d/%m/%y']"
      ]
     },
     "execution_count": 135,
     "metadata": {},
     "output_type": "execute_result"
    }
   ],
   "source": [
    "date_format_list = [\"%d/%m/%Y\",\"%d-%m-%Y\",\"%d-%m-%y\",\"%Y-%m-%d\", \"%Y %b %d\", \"%Y %B %d\", \"%d %b %y\", \n",
    "                   \"%d %b %y\", \"%d %b %Y\", \"%d/%m/%y\"]\n",
    "date_format_list"
   ]
  },
  {
   "cell_type": "code",
   "execution_count": 137,
   "id": "a88c6be6",
   "metadata": {},
   "outputs": [
    {
     "name": "stdout",
     "output_type": "stream",
     "text": [
      "Date     ---> 17-02-2022\n",
      "Format   ---> %d-%m-%Y\n",
      "New Date ---> 2022-02-17\n",
      "-------------------------\n",
      "Date     ---> 28/03/2022\n",
      "Format   ---> %d/%m/%Y\n",
      "New Date ---> 2022-03-28\n",
      "-------------------------\n",
      "Date     ---> 17-02-22\n",
      "Format   ---> %d-%m-%y\n",
      "New Date ---> 2022-02-17\n",
      "-------------------------\n",
      "Date     ---> 2022-02-17\n",
      "Format   ---> %Y-%m-%d\n",
      "New Date ---> 2022-02-17\n",
      "-------------------------\n",
      "Date     ---> 2022 Feb 17\n",
      "Format   ---> %Y %b %d\n",
      "New Date ---> 2022-02-17\n",
      "-------------------------\n",
      "Date     ---> 2022 February 17\n",
      "Format   ---> %Y %B %d\n",
      "New Date ---> 2022-02-17\n",
      "-------------------------\n",
      "Date     ---> 2022 Aug 17\n",
      "Format   ---> %Y %b %d\n",
      "New Date ---> 2022-08-17\n",
      "-------------------------\n",
      "Date     ---> 17 Feb 22\n",
      "Format   ---> %d %b %y\n",
      "New Date ---> 2022-02-17\n",
      "-------------------------\n",
      "Date     ---> 17 Feb 2022\n",
      "Format   ---> %d %b %Y\n",
      "New Date ---> 2022-02-17\n",
      "-------------------------\n",
      "Date     ---> 17/02/2022\n",
      "Format   ---> %d/%m/%Y\n",
      "New Date ---> 2022-02-17\n",
      "-------------------------\n",
      "Date     ---> 17/02/22\n",
      "Format   ---> %d/%m/%y\n",
      "New Date ---> 2022-02-17\n",
      "-------------------------\n",
      "Date     ---> 17-05-2020\n",
      "Format   ---> %d-%m-%Y\n",
      "New Date ---> 2020-05-17\n",
      "-------------------------\n"
     ]
    }
   ],
   "source": [
    "for date in date_list:\n",
    "    for date_format in date_format_list:\n",
    "        try:\n",
    "            new_date = datetime.datetime.strptime(date,date_format).date()\n",
    "            print(f\"Date     ---> {date}\")\n",
    "            print(f\"Format   ---> {date_format}\")\n",
    "            print(f\"New Date ---> {new_date}\")\n",
    "            print(\"-------------------------\")\n",
    "            break\n",
    "        except:\n",
    "            continue\n",
    "        "
   ]
  },
  {
   "cell_type": "code",
   "execution_count": 125,
   "id": "71c0b70a",
   "metadata": {},
   "outputs": [
    {
     "name": "stdout",
     "output_type": "stream",
     "text": [
      "0\n",
      "1\n",
      "2\n"
     ]
    }
   ],
   "source": [
    "for i in range(100):\n",
    "    if i == 3:\n",
    "        break\n",
    "    print(i)"
   ]
  },
  {
   "cell_type": "code",
   "execution_count": null,
   "id": "a5d31ca1",
   "metadata": {},
   "outputs": [],
   "source": []
  }
 ],
 "metadata": {
  "kernelspec": {
   "display_name": "Python 3 (ipykernel)",
   "language": "python",
   "name": "python3"
  },
  "language_info": {
   "codemirror_mode": {
    "name": "ipython",
    "version": 3
   },
   "file_extension": ".py",
   "mimetype": "text/x-python",
   "name": "python",
   "nbconvert_exporter": "python",
   "pygments_lexer": "ipython3",
   "version": "3.9.12"
  }
 },
 "nbformat": 4,
 "nbformat_minor": 5
}
