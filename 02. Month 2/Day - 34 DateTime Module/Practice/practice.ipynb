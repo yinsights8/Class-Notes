{
 "cells": [
  {
   "cell_type": "markdown",
   "id": "3010ad73",
   "metadata": {},
   "source": [
    "# Datetime format\n",
    "\n",
    "- 10-01-2020\n",
    "- 10 Jan 2020\n",
    "- 2020-01-10\n",
    "- 10/01/2020"
   ]
  },
  {
   "cell_type": "code",
   "execution_count": 245,
   "id": "c74baeba",
   "metadata": {},
   "outputs": [
    {
     "name": "stdout",
     "output_type": "stream",
     "text": [
      "2022-09-20 14:22:20.603024\n"
     ]
    }
   ],
   "source": [
    "import datetime as dt \n",
    "\n",
    "current_date = dt.datetime.now()\n",
    "print(current_date)"
   ]
  },
  {
   "cell_type": "code",
   "execution_count": 246,
   "id": "8df56423",
   "metadata": {},
   "outputs": [
    {
     "name": "stdout",
     "output_type": "stream",
     "text": [
      "2022-09-20 14:22:20.761122\n"
     ]
    }
   ],
   "source": [
    "current_date = dt.datetime.today()\n",
    "print(current_date)"
   ]
  },
  {
   "cell_type": "code",
   "execution_count": 230,
   "id": "a75c0e4f",
   "metadata": {},
   "outputs": [
    {
     "data": {
      "text/plain": [
       "datetime.date(2022, 9, 20)"
      ]
     },
     "execution_count": 230,
     "metadata": {},
     "output_type": "execute_result"
    }
   ],
   "source": [
    "current_date.date()"
   ]
  },
  {
   "cell_type": "code",
   "execution_count": 231,
   "id": "fc38edfc",
   "metadata": {},
   "outputs": [
    {
     "data": {
      "text/plain": [
       "20"
      ]
     },
     "execution_count": 231,
     "metadata": {},
     "output_type": "execute_result"
    }
   ],
   "source": [
    "current_date.day"
   ]
  },
  {
   "cell_type": "code",
   "execution_count": 232,
   "id": "9fc0edc8",
   "metadata": {},
   "outputs": [
    {
     "data": {
      "text/plain": [
       "9"
      ]
     },
     "execution_count": 232,
     "metadata": {},
     "output_type": "execute_result"
    }
   ],
   "source": [
    "current_date.month"
   ]
  },
  {
   "cell_type": "code",
   "execution_count": 233,
   "id": "22e4c440",
   "metadata": {},
   "outputs": [
    {
     "data": {
      "text/plain": [
       "2022"
      ]
     },
     "execution_count": 233,
     "metadata": {},
     "output_type": "execute_result"
    }
   ],
   "source": [
    "current_date.year"
   ]
  },
  {
   "cell_type": "code",
   "execution_count": 13,
   "id": "60ea6a98",
   "metadata": {},
   "outputs": [
    {
     "data": {
      "text/plain": [
       "1"
      ]
     },
     "execution_count": 13,
     "metadata": {},
     "output_type": "execute_result"
    }
   ],
   "source": [
    "current_date.weekday()"
   ]
  },
  {
   "cell_type": "markdown",
   "id": "871491c8",
   "metadata": {},
   "source": [
    "### Timedelta"
   ]
  },
  {
   "cell_type": "code",
   "execution_count": 25,
   "id": "fa7fd5df",
   "metadata": {},
   "outputs": [
    {
     "name": "stdout",
     "output_type": "stream",
     "text": [
      "2022-09-20 12:03:34.416726\n"
     ]
    }
   ],
   "source": [
    "current_date = dt.datetime.now()\n",
    "print(current_date)"
   ]
  },
  {
   "cell_type": "code",
   "execution_count": 32,
   "id": "865cc912",
   "metadata": {},
   "outputs": [
    {
     "name": "stdout",
     "output_type": "stream",
     "text": [
      "2022-10-22 12:03:34.416726\n"
     ]
    }
   ],
   "source": [
    "new_date = current_date + dt.timedelta(days=32)  # current day = 09 days = 32  = 09 + 32\n",
    "print(new_date)"
   ]
  },
  {
   "cell_type": "code",
   "execution_count": 36,
   "id": "209511a6",
   "metadata": {},
   "outputs": [
    {
     "name": "stdout",
     "output_type": "stream",
     "text": [
      "2023-05-28 12:03:34.416726\n"
     ]
    }
   ],
   "source": [
    "new_year = current_date + dt.timedelta(days=250)\n",
    "print(new_year)"
   ]
  },
  {
   "cell_type": "code",
   "execution_count": 37,
   "id": "c58e61e3",
   "metadata": {},
   "outputs": [
    {
     "name": "stdout",
     "output_type": "stream",
     "text": [
      "2023-09-20 12:03:34.416726\n"
     ]
    }
   ],
   "source": [
    "new_year = current_date + dt.timedelta(days=365)\n",
    "print(new_year)"
   ]
  },
  {
   "cell_type": "code",
   "execution_count": null,
   "id": "ac67a7d9",
   "metadata": {},
   "outputs": [],
   "source": []
  },
  {
   "cell_type": "markdown",
   "id": "f8f2dc6d",
   "metadata": {},
   "source": [
    "## Next 10 days"
   ]
  },
  {
   "cell_type": "code",
   "execution_count": 44,
   "id": "5bd816e1",
   "metadata": {},
   "outputs": [
    {
     "name": "stdout",
     "output_type": "stream",
     "text": [
      "2022-09-20\n"
     ]
    }
   ],
   "source": [
    "current_date = dt.datetime.today()\n",
    "dates = current_date.date()\n",
    "print(dates)"
   ]
  },
  {
   "cell_type": "code",
   "execution_count": null,
   "id": "6c7778f1",
   "metadata": {},
   "outputs": [],
   "source": []
  },
  {
   "cell_type": "code",
   "execution_count": 48,
   "id": "63fd5b99",
   "metadata": {},
   "outputs": [
    {
     "name": "stdout",
     "output_type": "stream",
     "text": [
      "Date:-    2022-09-21\n",
      "Date:-    2022-09-22\n",
      "Date:-    2022-09-23\n",
      "Date:-    2022-09-24\n",
      "Date:-    2022-09-25\n",
      "Date:-    2022-09-26\n",
      "Date:-    2022-09-27\n",
      "Date:-    2022-09-28\n",
      "Date:-    2022-09-29\n",
      "Date:-    2022-09-30\n"
     ]
    }
   ],
   "source": [
    "for i in range(1,11):\n",
    "    new_date = dates + dt.timedelta(days=i)\n",
    "    print(f\"Date:-    {new_date}\")"
   ]
  },
  {
   "cell_type": "markdown",
   "id": "6551e97a",
   "metadata": {},
   "source": [
    "### Last X days"
   ]
  },
  {
   "cell_type": "code",
   "execution_count": 68,
   "id": "7049a02e",
   "metadata": {},
   "outputs": [
    {
     "name": "stdout",
     "output_type": "stream",
     "text": [
      "Last 9 day =     2022-09-19\n",
      "Last 8 day =     2022-09-18\n",
      "Last 7 day =     2022-09-17\n",
      "Last 6 day =     2022-09-16\n",
      "Last 5 day =     2022-09-15\n",
      "Last 4 day =     2022-09-14\n",
      "Last 3 day =     2022-09-13\n",
      "Last 2 day =     2022-09-12\n",
      "Last 1 day =     2022-09-11\n",
      "Last 0 day =     2022-09-10\n"
     ]
    }
   ],
   "source": [
    "for i in range(1,11):\n",
    "    new_date = dates - dt.timedelta(days=i)\n",
    "    print(f\"Last {new_date.day-10} day =     {new_date}\")"
   ]
  },
  {
   "cell_type": "markdown",
   "id": "84c8f9cc",
   "metadata": {},
   "source": [
    "### Last & Next Ten days"
   ]
  },
  {
   "cell_type": "code",
   "execution_count": 320,
   "id": "e56e86d8",
   "metadata": {},
   "outputs": [
    {
     "name": "stdout",
     "output_type": "stream",
     "text": [
      "Last and next 10 days:         2022-09-10\n",
      "Last and next 10 days:         2022-09-11\n",
      "Last and next 10 days:         2022-09-12\n",
      "Last and next 10 days:         2022-09-13\n",
      "Last and next 10 days:         2022-09-14\n",
      "Last and next 10 days:         2022-09-15\n",
      "Last and next 10 days:         2022-09-16\n",
      "Last and next 10 days:         2022-09-17\n",
      "Last and next 10 days:         2022-09-18\n",
      "Last and next 10 days:         2022-09-19\n",
      "Last and next 10 days:         2022-09-20\n",
      "Last and next 10 days:         2022-09-21\n",
      "Last and next 10 days:         2022-09-22\n",
      "Last and next 10 days:         2022-09-23\n",
      "Last and next 10 days:         2022-09-24\n",
      "Last and next 10 days:         2022-09-25\n",
      "Last and next 10 days:         2022-09-26\n",
      "Last and next 10 days:         2022-09-27\n",
      "Last and next 10 days:         2022-09-28\n",
      "Last and next 10 days:         2022-09-29\n"
     ]
    }
   ],
   "source": [
    "for i in range(-10,10):\n",
    "    new_date = dates + dt.timedelta(days=i)\n",
    "    print(f\"Last and next 10 days:         {new_date}\")\n"
   ]
  },
  {
   "cell_type": "code",
   "execution_count": 91,
   "id": "79a381b1",
   "metadata": {},
   "outputs": [
    {
     "name": "stdout",
     "output_type": "stream",
     "text": [
      "2022-10-13\n"
     ]
    }
   ],
   "source": [
    "next_weeks = new_date + dt.timedelta(weeks=2)\n",
    "print(next_weeks)"
   ]
  },
  {
   "cell_type": "code",
   "execution_count": 92,
   "id": "92bd3ac5",
   "metadata": {},
   "outputs": [
    {
     "name": "stdout",
     "output_type": "stream",
     "text": [
      "2022-11-03\n"
     ]
    }
   ],
   "source": [
    "next_weeks = new_date + dt.timedelta(weeks=5)\n",
    "print(next_weeks)"
   ]
  },
  {
   "cell_type": "code",
   "execution_count": 102,
   "id": "0c0e8335",
   "metadata": {},
   "outputs": [
    {
     "ename": "TypeError",
     "evalue": "function missing required argument 'year' (pos 1)",
     "output_type": "error",
     "traceback": [
      "\u001b[1;31m---------------------------------------------------------------------------\u001b[0m",
      "\u001b[1;31mTypeError\u001b[0m                                 Traceback (most recent call last)",
      "Input \u001b[1;32mIn [102]\u001b[0m, in \u001b[0;36m<cell line: 1>\u001b[1;34m()\u001b[0m\n\u001b[1;32m----> 1\u001b[0m next_hour \u001b[38;5;241m=\u001b[39m new_date \u001b[38;5;241m+\u001b[39m \u001b[43mdt\u001b[49m\u001b[38;5;241;43m.\u001b[39;49m\u001b[43mdatetime\u001b[49m\u001b[43m(\u001b[49m\u001b[43mhours\u001b[49m\u001b[38;5;241;43m=\u001b[39;49m\u001b[38;5;241;43m1\u001b[39;49m\u001b[43m)\u001b[49m\n\u001b[0;32m      2\u001b[0m \u001b[38;5;28mprint\u001b[39m(next_hour)\n",
      "\u001b[1;31mTypeError\u001b[0m: function missing required argument 'year' (pos 1)"
     ]
    }
   ],
   "source": [
    "next_hour = new_date + dt.datetime(hours=1)\n",
    "print(next_hour)"
   ]
  },
  {
   "cell_type": "code",
   "execution_count": 110,
   "id": "7f864b72",
   "metadata": {},
   "outputs": [
    {
     "name": "stdout",
     "output_type": "stream",
     "text": [
      "2022-09-20 12:34:04.710381\n"
     ]
    }
   ],
   "source": [
    "new_time = dt.datetime.now()\n",
    "print(new_time)"
   ]
  },
  {
   "cell_type": "code",
   "execution_count": 112,
   "id": "a6a40eae",
   "metadata": {},
   "outputs": [
    {
     "name": "stdout",
     "output_type": "stream",
     "text": [
      "2022-09-20 14:34:04.710381\n"
     ]
    }
   ],
   "source": [
    "new_time = new_time + dt.timedelta(hours = 1)\n",
    "print(new_time)"
   ]
  },
  {
   "cell_type": "code",
   "execution_count": 113,
   "id": "88d6a81e",
   "metadata": {},
   "outputs": [
    {
     "name": "stdout",
     "output_type": "stream",
     "text": [
      "2022-09-23 02:34:04.710381\n"
     ]
    }
   ],
   "source": [
    "new_time = new_time + dt.timedelta(hours = 60)\n",
    "print(new_time)"
   ]
  },
  {
   "cell_type": "code",
   "execution_count": 114,
   "id": "669b5464",
   "metadata": {},
   "outputs": [
    {
     "name": "stdout",
     "output_type": "stream",
     "text": [
      "2022-10-08 07:34:04.710381\n"
     ]
    }
   ],
   "source": [
    "new_time = new_time + dt.timedelta(hours = 365)\n",
    "print(new_time)"
   ]
  },
  {
   "cell_type": "markdown",
   "id": "8619dbcb",
   "metadata": {},
   "source": [
    "## strftime()"
   ]
  },
  {
   "cell_type": "code",
   "execution_count": 117,
   "id": "e327ade3",
   "metadata": {},
   "outputs": [
    {
     "name": "stdout",
     "output_type": "stream",
     "text": [
      "2022-09-20 12:41:15.157993\n"
     ]
    }
   ],
   "source": [
    "cur_tm = dt.datetime.now()\n",
    "print(cur_tm)"
   ]
  },
  {
   "cell_type": "code",
   "execution_count": 118,
   "id": "cc09ea4c",
   "metadata": {},
   "outputs": [
    {
     "data": {
      "text/plain": [
       "'09'"
      ]
     },
     "execution_count": 118,
     "metadata": {},
     "output_type": "execute_result"
    }
   ],
   "source": [
    "cur_tm.strftime(\"%m\")"
   ]
  },
  {
   "cell_type": "code",
   "execution_count": 123,
   "id": "f22e2805",
   "metadata": {},
   "outputs": [
    {
     "data": {
      "text/plain": [
       "'Sep'"
      ]
     },
     "execution_count": 123,
     "metadata": {},
     "output_type": "execute_result"
    }
   ],
   "source": [
    "cur_tm.strftime(\"%b\")"
   ]
  },
  {
   "cell_type": "code",
   "execution_count": 124,
   "id": "2274a96d",
   "metadata": {},
   "outputs": [
    {
     "data": {
      "text/plain": [
       "'2022'"
      ]
     },
     "execution_count": 124,
     "metadata": {},
     "output_type": "execute_result"
    }
   ],
   "source": [
    "cur_tm.strftime(\"%Y\")"
   ]
  },
  {
   "cell_type": "code",
   "execution_count": 125,
   "id": "58f33dcb",
   "metadata": {},
   "outputs": [
    {
     "data": {
      "text/plain": [
       "'22'"
      ]
     },
     "execution_count": 125,
     "metadata": {},
     "output_type": "execute_result"
    }
   ],
   "source": [
    "cur_tm.strftime(\"%y\")"
   ]
  },
  {
   "cell_type": "code",
   "execution_count": 126,
   "id": "16e4381a",
   "metadata": {},
   "outputs": [
    {
     "data": {
      "text/plain": [
       "'Tue'"
      ]
     },
     "execution_count": 126,
     "metadata": {},
     "output_type": "execute_result"
    }
   ],
   "source": [
    "cur_tm.strftime(\"%a\")"
   ]
  },
  {
   "cell_type": "code",
   "execution_count": 127,
   "id": "db0c14d8",
   "metadata": {},
   "outputs": [
    {
     "data": {
      "text/plain": [
       "'Tuesday'"
      ]
     },
     "execution_count": 127,
     "metadata": {},
     "output_type": "execute_result"
    }
   ],
   "source": [
    "cur_tm.strftime(\"%A\")"
   ]
  },
  {
   "cell_type": "code",
   "execution_count": 128,
   "id": "54e1f8d5",
   "metadata": {},
   "outputs": [
    {
     "data": {
      "text/plain": [
       "'09/20/22'"
      ]
     },
     "execution_count": 128,
     "metadata": {},
     "output_type": "execute_result"
    }
   ],
   "source": [
    "cur_tm.strftime(\"%D\")"
   ]
  },
  {
   "cell_type": "code",
   "execution_count": 129,
   "id": "ff39c0fc",
   "metadata": {},
   "outputs": [
    {
     "data": {
      "text/plain": [
       "'20'"
      ]
     },
     "execution_count": 129,
     "metadata": {},
     "output_type": "execute_result"
    }
   ],
   "source": [
    "cur_tm.strftime(\"%d\")"
   ]
  },
  {
   "cell_type": "code",
   "execution_count": 132,
   "id": "25b201e7",
   "metadata": {},
   "outputs": [
    {
     "data": {
      "text/plain": [
       "'263'"
      ]
     },
     "execution_count": 132,
     "metadata": {},
     "output_type": "execute_result"
    }
   ],
   "source": [
    "cur_tm.strftime('%j')"
   ]
  },
  {
   "cell_type": "code",
   "execution_count": 134,
   "id": "a3ba55ec",
   "metadata": {},
   "outputs": [
    {
     "data": {
      "text/plain": [
       "'12'"
      ]
     },
     "execution_count": 134,
     "metadata": {},
     "output_type": "execute_result"
    }
   ],
   "source": [
    "cur_tm.strftime('%I')"
   ]
  },
  {
   "cell_type": "code",
   "execution_count": 140,
   "id": "cddb41e8",
   "metadata": {},
   "outputs": [
    {
     "data": {
      "text/plain": [
       "'12:41:15 PM'"
      ]
     },
     "execution_count": 140,
     "metadata": {},
     "output_type": "execute_result"
    }
   ],
   "source": [
    "cur_tm.strftime('%H:%M:%S %p')"
   ]
  },
  {
   "cell_type": "code",
   "execution_count": 144,
   "id": "623e2a38",
   "metadata": {},
   "outputs": [
    {
     "data": {
      "text/plain": [
       "''"
      ]
     },
     "execution_count": 144,
     "metadata": {},
     "output_type": "execute_result"
    }
   ],
   "source": [
    "cur_tm.strftime('%z')"
   ]
  },
  {
   "cell_type": "code",
   "execution_count": 153,
   "id": "3e5894aa",
   "metadata": {},
   "outputs": [
    {
     "data": {
      "text/plain": [
       "'Tue Sep 20 12:41:15 2022'"
      ]
     },
     "execution_count": 153,
     "metadata": {},
     "output_type": "execute_result"
    }
   ],
   "source": [
    "cur_tm.strftime('%c')"
   ]
  },
  {
   "cell_type": "code",
   "execution_count": 146,
   "id": "1dcfa116",
   "metadata": {},
   "outputs": [
    {
     "data": {
      "text/plain": [
       "'20'"
      ]
     },
     "execution_count": 146,
     "metadata": {},
     "output_type": "execute_result"
    }
   ],
   "source": [
    "cur_tm.strftime('%C')"
   ]
  },
  {
   "cell_type": "code",
   "execution_count": 158,
   "id": "0bec1204",
   "metadata": {},
   "outputs": [
    {
     "data": {
      "text/plain": [
       "'%hello'"
      ]
     },
     "execution_count": 158,
     "metadata": {},
     "output_type": "execute_result"
    }
   ],
   "source": [
    "cur_tm.strftime('%%hello')"
   ]
  },
  {
   "cell_type": "code",
   "execution_count": 163,
   "id": "78f5cf45",
   "metadata": {},
   "outputs": [
    {
     "data": {
      "text/plain": [
       "'Sepello'"
      ]
     },
     "execution_count": 163,
     "metadata": {},
     "output_type": "execute_result"
    }
   ],
   "source": [
    "cur_tm.strftime('%hello')"
   ]
  },
  {
   "cell_type": "code",
   "execution_count": 176,
   "id": "9d16012f",
   "metadata": {},
   "outputs": [
    {
     "name": "stdout",
     "output_type": "stream",
     "text": [
      "2022-09-20 13:09:47.001784\n"
     ]
    }
   ],
   "source": [
    "d1 = \"25-11-2020\"\n",
    "d2 = \"25/11/2020\"\n",
    "d3 = \"25 11 2020\"\n",
    "d4 = \"25 Nov 2020\"\n",
    "d5 = \"25/November/2020\"\n",
    "\n",
    "time = dt.datetime.now()\n",
    "print(time)"
   ]
  },
  {
   "cell_type": "code",
   "execution_count": 179,
   "id": "b06a629e",
   "metadata": {},
   "outputs": [
    {
     "name": "stdout",
     "output_type": "stream",
     "text": [
      "2022-09-20\n"
     ]
    }
   ],
   "source": [
    "print(time.date())"
   ]
  },
  {
   "cell_type": "code",
   "execution_count": 196,
   "id": "2a3e7359",
   "metadata": {},
   "outputs": [
    {
     "name": "stdout",
     "output_type": "stream",
     "text": [
      "2020-11-25 00:00:00\n",
      "<class 'datetime.datetime'>\n"
     ]
    }
   ],
   "source": [
    "d1 = \"25-11-2020\"\n",
    "date_format = \"%d-%m-%Y\"\n",
    "\n",
    "new = time.strptime(d1,date_format)\n",
    "print(new)\n",
    "print(type(new))"
   ]
  },
  {
   "cell_type": "code",
   "execution_count": 202,
   "id": "5668f80d",
   "metadata": {},
   "outputs": [
    {
     "name": "stdout",
     "output_type": "stream",
     "text": [
      "2022-11-01 00:00:00\n"
     ]
    }
   ],
   "source": [
    "d2 = \"Nov-01-2022\"\n",
    "d_format = \"%b-%d-%Y\"\n",
    "\n",
    "new = time.strptime(d2,d_format)\n",
    "print(new)"
   ]
  },
  {
   "cell_type": "code",
   "execution_count": null,
   "id": "12e8b90c",
   "metadata": {},
   "outputs": [],
   "source": []
  },
  {
   "cell_type": "code",
   "execution_count": null,
   "id": "eb3d7a24",
   "metadata": {},
   "outputs": [],
   "source": []
  },
  {
   "cell_type": "code",
   "execution_count": 205,
   "id": "bf21b3e6",
   "metadata": {},
   "outputs": [
    {
     "data": {
      "text/plain": [
       "['17-02-2022',\n",
       " '28/03/2022',\n",
       " '17-02-22',\n",
       " '2022-02-17',\n",
       " '2022 Feb 17',\n",
       " '2022 February 17',\n",
       " '2022 Aug 17',\n",
       " '17 Feb 22',\n",
       " '17 Feb 2022',\n",
       " '17/02/2022',\n",
       " '17/02/22',\n",
       " '17-05-2020']"
      ]
     },
     "execution_count": 205,
     "metadata": {},
     "output_type": "execute_result"
    }
   ],
   "source": [
    "date_list = [\"17-02-2022\",\"28/03/2022\",\"17-02-22\",\"2022-02-17\",\"2022 Feb 17\", \"2022 February 17\", \n",
    "            \"2022 Aug 17\", \"17 Feb 22\", \"17 Feb 2022\", \"17/02/2022\", \"17/02/22\", \"17-05-2020\"]\n",
    "date_list"
   ]
  },
  {
   "cell_type": "code",
   "execution_count": 206,
   "id": "1babfe07",
   "metadata": {},
   "outputs": [
    {
     "data": {
      "text/plain": [
       "['%d/%m/%Y',\n",
       " '%d-%m-%Y',\n",
       " '%d-%m-%y',\n",
       " '%Y-%m-%d',\n",
       " '%Y %b %d',\n",
       " '%Y %B %d',\n",
       " '%d %b %y',\n",
       " '%d %b %y',\n",
       " '%d %b %Y',\n",
       " '%d/%m/%y']"
      ]
     },
     "execution_count": 206,
     "metadata": {},
     "output_type": "execute_result"
    }
   ],
   "source": [
    "date_format_list = [\"%d/%m/%Y\",\"%d-%m-%Y\",\"%d-%m-%y\",\"%Y-%m-%d\", \"%Y %b %d\", \"%Y %B %d\", \"%d %b %y\", \n",
    "                   \"%d %b %y\", \"%d %b %Y\", \"%d/%m/%y\"]\n",
    "date_format_list"
   ]
  },
  {
   "cell_type": "code",
   "execution_count": 227,
   "id": "a36634ef",
   "metadata": {},
   "outputs": [
    {
     "name": "stdout",
     "output_type": "stream",
     "text": [
      "date        :-  17-02-2022\n",
      "format      :-  %d-%m-%Y\n",
      "new date   :- 2022-02-17 \n",
      "\n",
      "-------------------------\n",
      "date        :-  28/03/2022\n",
      "format      :-  %d-%m-%Y\n",
      "new date   :- 2022-03-28 \n",
      "\n",
      "-------------------------\n",
      "date        :-  17-02-22\n",
      "format      :-  %d-%m-%Y\n",
      "new date   :- 2022-02-17 \n",
      "\n",
      "-------------------------\n",
      "date        :-  2022-02-17\n",
      "format      :-  %d-%m-%Y\n",
      "new date   :- 2022-02-17 \n",
      "\n",
      "-------------------------\n",
      "date        :-  2022 Feb 17\n",
      "format      :-  %d-%m-%Y\n",
      "new date   :- 2022-02-17 \n",
      "\n",
      "-------------------------\n",
      "date        :-  2022 February 17\n",
      "format      :-  %d-%m-%Y\n",
      "new date   :- 2022-02-17 \n",
      "\n",
      "-------------------------\n",
      "date        :-  2022 Aug 17\n",
      "format      :-  %d-%m-%Y\n",
      "new date   :- 2022-08-17 \n",
      "\n",
      "-------------------------\n",
      "date        :-  17 Feb 22\n",
      "format      :-  %d-%m-%Y\n",
      "new date   :- 2022-02-17 \n",
      "\n",
      "-------------------------\n",
      "date        :-  17 Feb 2022\n",
      "format      :-  %d-%m-%Y\n",
      "new date   :- 2022-02-17 \n",
      "\n",
      "-------------------------\n",
      "date        :-  17/02/2022\n",
      "format      :-  %d-%m-%Y\n",
      "new date   :- 2022-02-17 \n",
      "\n",
      "-------------------------\n",
      "date        :-  17/02/22\n",
      "format      :-  %d-%m-%Y\n",
      "new date   :- 2022-02-17 \n",
      "\n",
      "-------------------------\n",
      "date        :-  17-05-2020\n",
      "format      :-  %d-%m-%Y\n",
      "new date   :- 2020-05-17 \n",
      "\n",
      "-------------------------\n"
     ]
    }
   ],
   "source": [
    "for date in date_list:\n",
    "    for d_format in date_format_list:\n",
    "        try:\n",
    "            n_date = time.strptime(date,d_format).date()\n",
    "            print(\"date        :- \",date)\n",
    "            print(\"format      :- \",date_format)\n",
    "            print(f\"new date   :- {n_date}\",\"\\n\")\n",
    "            print(\"-------------------------\")\n",
    "            break\n",
    "        except:\n",
    "            continue\n",
    "            "
   ]
  },
  {
   "cell_type": "code",
   "execution_count": 264,
   "id": "08046015",
   "metadata": {},
   "outputs": [
    {
     "name": "stdout",
     "output_type": "stream",
     "text": [
      "3 days, 0:00:00\n"
     ]
    }
   ],
   "source": [
    "c_time = dt.timedelta(days=3)\n",
    "print(c_time)"
   ]
  },
  {
   "cell_type": "code",
   "execution_count": 271,
   "id": "883ccf35",
   "metadata": {},
   "outputs": [
    {
     "name": "stdout",
     "output_type": "stream",
     "text": [
      "2022-09-20 14:29:14.514913\n"
     ]
    }
   ],
   "source": [
    "c_time = dt.datetime.now()\n",
    "print(c_time)"
   ]
  },
  {
   "cell_type": "code",
   "execution_count": 309,
   "id": "f40c647e",
   "metadata": {},
   "outputs": [
    {
     "name": "stdout",
     "output_type": "stream",
     "text": [
      "2022-10-13 02:29:14.514913\n"
     ]
    }
   ],
   "source": [
    "c_time = c_time + dt.timedelta(days=5)\n",
    "print(c_time)"
   ]
  },
  {
   "cell_type": "code",
   "execution_count": 310,
   "id": "22604788",
   "metadata": {},
   "outputs": [
    {
     "data": {
      "text/plain": [
       "'13'"
      ]
     },
     "execution_count": 310,
     "metadata": {},
     "output_type": "execute_result"
    }
   ],
   "source": [
    "c_time.strftime(\"%d\")"
   ]
  },
  {
   "cell_type": "code",
   "execution_count": 311,
   "id": "723aebbb",
   "metadata": {},
   "outputs": [
    {
     "data": {
      "text/plain": [
       "'2022'"
      ]
     },
     "execution_count": 311,
     "metadata": {},
     "output_type": "execute_result"
    }
   ],
   "source": [
    "c_time.strftime(\"%Y\")"
   ]
  },
  {
   "cell_type": "code",
   "execution_count": 312,
   "id": "e65307df",
   "metadata": {},
   "outputs": [
    {
     "data": {
      "text/plain": [
       "'22'"
      ]
     },
     "execution_count": 312,
     "metadata": {},
     "output_type": "execute_result"
    }
   ],
   "source": [
    "c_time.strftime(\"%y\")"
   ]
  },
  {
   "cell_type": "code",
   "execution_count": 318,
   "id": "5a2c4ffd",
   "metadata": {},
   "outputs": [
    {
     "name": "stdout",
     "output_type": "stream",
     "text": [
      "2022-02-20 00:00:00\n"
     ]
    }
   ],
   "source": [
    "date = \"20/02/2022\"\n",
    "dateformat = \"%d/%m/%Y\"\n",
    "n_format = c_time.strptime(date,dateformat)\n",
    "print(n_format)"
   ]
  },
  {
   "cell_type": "code",
   "execution_count": null,
   "id": "e1fdc3a7",
   "metadata": {},
   "outputs": [],
   "source": []
  }
 ],
 "metadata": {
  "kernelspec": {
   "display_name": "Python 3 (ipykernel)",
   "language": "python",
   "name": "python3"
  },
  "language_info": {
   "codemirror_mode": {
    "name": "ipython",
    "version": 3
   },
   "file_extension": ".py",
   "mimetype": "text/x-python",
   "name": "python",
   "nbconvert_exporter": "python",
   "pygments_lexer": "ipython3",
   "version": "3.9.12"
  }
 },
 "nbformat": 4,
 "nbformat_minor": 5
}
