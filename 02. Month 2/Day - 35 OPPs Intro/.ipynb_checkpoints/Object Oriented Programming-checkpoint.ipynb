{
 "cells": [
  {
   "cell_type": "markdown",
   "id": "bddf586a",
   "metadata": {},
   "source": [
    "# Object Oriented Programming\n",
    "- class\n",
    "- object \n",
    "    - Our code is more readable\n",
    "    - The code is reusable\n",
    "    - Provides a more stured way"
   ]
  },
  {
   "cell_type": "markdown",
   "id": "bf2a7804",
   "metadata": {},
   "source": [
    "- 1. Object :- Real World Entity(Phone, Laptop, chair, Fan, House......)\n",
    "- 2. Class  :- Blueprient of an object that holds the variables and methods."
   ]
  },
  {
   "cell_type": "raw",
   "id": "cfbe61c1",
   "metadata": {},
   "source": [
    "- Phone_Design:\n",
    "    Phone-1\n",
    "    Phone-2\n",
    "    Phone-3\n",
    "    Phone-4\n",
    "        .\n",
    "        .\n",
    "        .\n",
    "        .\n",
    "    Phone-n\n",
    "    \n",
    "    \n",
    "- Building_Design:\n",
    "    House-1\n",
    "    House-2\n",
    "    House-3\n",
    "    House-4\n",
    "        .\n",
    "        .\n",
    "        .\n",
    "        .\n",
    "    House-n"
   ]
  },
  {
   "cell_type": "markdown",
   "id": "7ad9a5c4",
   "metadata": {},
   "source": [
    "# Syntax"
   ]
  },
  {
   "cell_type": "code",
   "execution_count": 33,
   "id": "a37f3081",
   "metadata": {},
   "outputs": [
    {
     "data": {
      "text/plain": [
       "<__main__.ClassName at 0x1c5fddd7430>"
      ]
     },
     "execution_count": 33,
     "metadata": {},
     "output_type": "execute_result"
    }
   ],
   "source": [
    "class ClassName():\n",
    "    Variables = \"Python\"\n",
    "    def Method1(self):\n",
    "        print(self)\n",
    "        print(\"First Method\")\n",
    "obj1 = ClassName()\n",
    "obj1"
   ]
  },
  {
   "cell_type": "code",
   "execution_count": 34,
   "id": "dfc4130f",
   "metadata": {},
   "outputs": [
    {
     "data": {
      "text/plain": [
       "'Python'"
      ]
     },
     "execution_count": 34,
     "metadata": {},
     "output_type": "execute_result"
    }
   ],
   "source": [
    "obj1.Variables"
   ]
  },
  {
   "cell_type": "code",
   "execution_count": 35,
   "id": "58396ca1",
   "metadata": {},
   "outputs": [
    {
     "name": "stdout",
     "output_type": "stream",
     "text": [
      "<__main__.ClassName object at 0x000001C5FDDD7430>\n",
      "First Method\n"
     ]
    }
   ],
   "source": [
    "obj1.Method1()"
   ]
  },
  {
   "cell_type": "code",
   "execution_count": 8,
   "id": "97ec4d90",
   "metadata": {},
   "outputs": [],
   "source": [
    "obj2 = ClassName()\n",
    "obj3 = ClassName()\n",
    "obj4 = ClassName()"
   ]
  },
  {
   "cell_type": "code",
   "execution_count": 13,
   "id": "44f2ee55",
   "metadata": {},
   "outputs": [],
   "source": [
    "class TestClass():\n",
    "    pass\n",
    "\n",
    "test1 = TestClass() # Creating an instance of a class\n",
    "test2 = TestClass() # Creating an object of a class\n",
    "test3 = TestClass()\n",
    "test4 = TestClass()"
   ]
  },
  {
   "cell_type": "code",
   "execution_count": 15,
   "id": "45d9fd61",
   "metadata": {},
   "outputs": [],
   "source": [
    "class DataGathering():\n",
    "    def get_data_from_database(self):\n",
    "        pass\n",
    "    \n",
    "    def get_data_from_client_server(self):\n",
    "        pass\n",
    "\n",
    "class DataPreprocessing():\n",
    "    def handle_ouliers(self):\n",
    "        pass\n",
    "    \n",
    "    def get_normalization(self):\n",
    "        pass\n",
    "    \n",
    "    def get_standerdization(self):\n",
    "        pass\n",
    "\n",
    "class ModelTraining():\n",
    "    def logistic_regression(self):\n",
    "        pass\n",
    "    \n",
    "    def knn(self):\n",
    "        pass\n",
    "    \n",
    "    def decision_tree(self):\n",
    "        pass\n",
    "    \n",
    "    def random_forest(self):\n",
    "        pass\n",
    "\n",
    "class ModelEveluation():\n",
    "    def confusion_matrix(self):\n",
    "        pass\n",
    "    \n",
    "    def classification_report(self):\n",
    "        pass\n",
    "    \n",
    "    def accuraccy_scre(self):\n",
    "        pass"
   ]
  },
  {
   "cell_type": "code",
   "execution_count": 16,
   "id": "47564937",
   "metadata": {},
   "outputs": [],
   "source": [
    "data_gather1 = DataGathering()\n",
    "data_gather2 = DataGathering()\n",
    "data_preprocess1 = DataPreprocessing()\n",
    "data_preprocess2 = DataPreprocessing()\n",
    "model_training1 = ModelTraining()\n",
    "model_evaluation = ModelEveluation()"
   ]
  },
  {
   "cell_type": "markdown",
   "id": "3c86464c",
   "metadata": {},
   "source": [
    "# Class Structure"
   ]
  },
  {
   "cell_type": "code",
   "execution_count": 17,
   "id": "5bd5f663",
   "metadata": {},
   "outputs": [],
   "source": [
    "var1 = 5000                            # Global Variable\n",
    "\n",
    "class ClassName():                     # Class Name\n",
    "    x = 1                              # Class Variables\n",
    "    y = 5.5                            # Class Variables\n",
    "    z = \"First Class\"                  # Class Variables\n",
    "    \n",
    "    def method1(self):                 # First Method of a class\n",
    "        print(\"This is method1\")\n",
    "        var2 = \"Data Science\"          # Local Variable \n",
    "        self.city_name = \"Mumbai\"      # Instance Variable1\n",
    "        self.state     = \"Maharashtra\" # Instance Variable2\n",
    "        \n",
    "    def method2(self):                 # Method 2\n",
    "        print(\"This is method2\")\n",
    "        var3 = \"Machine Learning\"      # Local Vartiable\n",
    "        self.var4 = \"NLP\"              # Instance variable \n",
    "        self.method1()\n",
    "        print(\"Variable 1 from method1\",self.city_name)\n",
    "        print(\"Variable 2 from method2\",self.x)"
   ]
  },
  {
   "cell_type": "code",
   "execution_count": 18,
   "id": "4a2d0e6b",
   "metadata": {},
   "outputs": [],
   "source": [
    "Obj1 = ClassName() # Creating an instance or an object of a class"
   ]
  },
  {
   "cell_type": "code",
   "execution_count": 22,
   "id": "cdf05954",
   "metadata": {},
   "outputs": [
    {
     "name": "stdout",
     "output_type": "stream",
     "text": [
      "This is method1\n"
     ]
    }
   ],
   "source": [
    "Obj1.method1()"
   ]
  },
  {
   "cell_type": "code",
   "execution_count": 23,
   "id": "dc3f4e02",
   "metadata": {},
   "outputs": [
    {
     "ename": "AttributeError",
     "evalue": "'ClassName' object has no attribute 'city_name1'",
     "output_type": "error",
     "traceback": [
      "\u001b[1;31m---------------------------------------------------------------------------\u001b[0m",
      "\u001b[1;31mAttributeError\u001b[0m                            Traceback (most recent call last)",
      "Input \u001b[1;32mIn [23]\u001b[0m, in \u001b[0;36m<cell line: 1>\u001b[1;34m()\u001b[0m\n\u001b[1;32m----> 1\u001b[0m \u001b[43mObj1\u001b[49m\u001b[38;5;241;43m.\u001b[39;49m\u001b[43mcity_name1\u001b[49m\n",
      "\u001b[1;31mAttributeError\u001b[0m: 'ClassName' object has no attribute 'city_name1'"
     ]
    }
   ],
   "source": [
    "Obj1.city_name1"
   ]
  },
  {
   "cell_type": "code",
   "execution_count": 24,
   "id": "2a52d7d4",
   "metadata": {},
   "outputs": [
    {
     "ename": "AttributeError",
     "evalue": "'list' object has no attribute 'append1'",
     "output_type": "error",
     "traceback": [
      "\u001b[1;31m---------------------------------------------------------------------------\u001b[0m",
      "\u001b[1;31mAttributeError\u001b[0m                            Traceback (most recent call last)",
      "Input \u001b[1;32mIn [24]\u001b[0m, in \u001b[0;36m<cell line: 1>\u001b[1;34m()\u001b[0m\n\u001b[1;32m----> 1\u001b[0m \u001b[43mli\u001b[49m\u001b[38;5;241;43m.\u001b[39;49m\u001b[43mappend1\u001b[49m()\n",
      "\u001b[1;31mAttributeError\u001b[0m: 'list' object has no attribute 'append1'"
     ]
    }
   ],
   "source": [
    "li.append1()"
   ]
  },
  {
   "cell_type": "code",
   "execution_count": 25,
   "id": "a9b01d90",
   "metadata": {},
   "outputs": [
    {
     "data": {
      "text/plain": [
       "'Mumbai'"
      ]
     },
     "execution_count": 25,
     "metadata": {},
     "output_type": "execute_result"
    }
   ],
   "source": [
    "Obj1.city_name"
   ]
  },
  {
   "cell_type": "code",
   "execution_count": 26,
   "id": "eac6c9ef",
   "metadata": {},
   "outputs": [
    {
     "data": {
      "text/plain": [
       "'Maharashtra'"
      ]
     },
     "execution_count": 26,
     "metadata": {},
     "output_type": "execute_result"
    }
   ],
   "source": [
    "Obj1.state"
   ]
  },
  {
   "cell_type": "code",
   "execution_count": 27,
   "id": "6c60c6df",
   "metadata": {},
   "outputs": [
    {
     "data": {
      "text/plain": [
       "5.5"
      ]
     },
     "execution_count": 27,
     "metadata": {},
     "output_type": "execute_result"
    }
   ],
   "source": [
    "Obj1.y"
   ]
  },
  {
   "cell_type": "code",
   "execution_count": 28,
   "id": "5e43cf47",
   "metadata": {},
   "outputs": [
    {
     "data": {
      "text/plain": [
       "'First Class'"
      ]
     },
     "execution_count": 28,
     "metadata": {},
     "output_type": "execute_result"
    }
   ],
   "source": [
    "Obj1.z"
   ]
  },
  {
   "cell_type": "code",
   "execution_count": 19,
   "id": "5fc09cf5",
   "metadata": {},
   "outputs": [
    {
     "name": "stdout",
     "output_type": "stream",
     "text": [
      "5000\n"
     ]
    }
   ],
   "source": [
    "print(var1)"
   ]
  },
  {
   "cell_type": "code",
   "execution_count": 29,
   "id": "315f5a8a",
   "metadata": {},
   "outputs": [
    {
     "name": "stdout",
     "output_type": "stream",
     "text": [
      "This is method2\n",
      "This is method1\n",
      "Variable 1 from method1 Mumbai\n",
      "Variable 2 from method2 1\n"
     ]
    }
   ],
   "source": [
    "Obj1.method2()"
   ]
  },
  {
   "cell_type": "code",
   "execution_count": 21,
   "id": "4c7289d5",
   "metadata": {},
   "outputs": [
    {
     "data": {
      "text/plain": [
       "[100]"
      ]
     },
     "execution_count": 21,
     "metadata": {},
     "output_type": "execute_result"
    }
   ],
   "source": [
    "li = []\n",
    "li.append(100)\n",
    "li"
   ]
  },
  {
   "cell_type": "markdown",
   "id": "9af04c0d",
   "metadata": {},
   "source": [
    "### Self\n",
    "- Self is nothing but a keyword, We can use any keword name, but you have to follow the same keyword name entire the class\n",
    "- It allows to access the variables and methods of each object\n",
    "- Self keyword is used to represent an instance of a class\n",
    "- It helps to distinguish between local variables and instance variables"
   ]
  },
  {
   "cell_type": "markdown",
   "id": "1d6d23e0",
   "metadata": {},
   "source": [
    "# Employee Details"
   ]
  },
  {
   "cell_type": "code",
   "execution_count": 38,
   "id": "d4fe4d31",
   "metadata": {},
   "outputs": [],
   "source": [
    "class EmpDetails():\n",
    "    location = \"Pune\"\n",
    "    \n",
    "    def emp_name():\n",
    "        pass\n",
    "    \n",
    "    def emp_salary():\n",
    "        pass\n",
    "    \n",
    "    def emp_company():\n",
    "        pass\n",
    "    \n",
    "    def emp_designation():\n",
    "        pass\n",
    "    \n",
    "    \n",
    "emp1 = EmpDetails()\n",
    "emp2 = EmpDetails()"
   ]
  },
  {
   "cell_type": "code",
   "execution_count": 39,
   "id": "bd9e45af",
   "metadata": {},
   "outputs": [
    {
     "data": {
      "text/plain": [
       "'Pune'"
      ]
     },
     "execution_count": 39,
     "metadata": {},
     "output_type": "execute_result"
    }
   ],
   "source": [
    "emp1.location"
   ]
  },
  {
   "cell_type": "code",
   "execution_count": 41,
   "id": "01a114e0",
   "metadata": {},
   "outputs": [
    {
     "data": {
      "text/plain": [
       "'Pune'"
      ]
     },
     "execution_count": 41,
     "metadata": {},
     "output_type": "execute_result"
    }
   ],
   "source": [
    "emp2.location"
   ]
  },
  {
   "cell_type": "code",
   "execution_count": 42,
   "id": "84b3285e",
   "metadata": {},
   "outputs": [],
   "source": [
    "li1 = []\n",
    "li2 = []\n",
    "li1.append(100)\n",
    "li2.append(10000)"
   ]
  },
  {
   "cell_type": "code",
   "execution_count": 44,
   "id": "43aed862",
   "metadata": {},
   "outputs": [
    {
     "data": {
      "text/plain": [
       "'Pune'"
      ]
     },
     "execution_count": 44,
     "metadata": {},
     "output_type": "execute_result"
    }
   ],
   "source": [
    "EmpDetails.location"
   ]
  },
  {
   "cell_type": "code",
   "execution_count": 49,
   "id": "ecfeae65",
   "metadata": {},
   "outputs": [],
   "source": [
    "class EmpDetails():\n",
    "    location = \"Pune\"\n",
    "    \n",
    "    def emp_name(self):\n",
    "        print(\"We are in the class method and trying to ptint the object\")\n",
    "        print(self)\n",
    "    \n",
    "    def emp_salary():\n",
    "        pass\n",
    "    \n",
    "    def emp_company():\n",
    "        pass\n",
    "    \n",
    "    def emp_designation():\n",
    "        pass\n",
    "    \n",
    "    \n",
    "emp1 = EmpDetails()\n",
    "emp2 = EmpDetails()"
   ]
  },
  {
   "cell_type": "code",
   "execution_count": 50,
   "id": "e355747b",
   "metadata": {},
   "outputs": [
    {
     "name": "stdout",
     "output_type": "stream",
     "text": [
      "<__main__.EmpDetails object at 0x000001C5FFB88580>\n"
     ]
    }
   ],
   "source": [
    "print(emp1)"
   ]
  },
  {
   "cell_type": "code",
   "execution_count": 51,
   "id": "279f1f1d",
   "metadata": {},
   "outputs": [
    {
     "name": "stdout",
     "output_type": "stream",
     "text": [
      "We are in the class method and trying to ptint the object\n",
      "<__main__.EmpDetails object at 0x000001C5FFB88580>\n"
     ]
    }
   ],
   "source": [
    "emp1.emp_name()"
   ]
  },
  {
   "cell_type": "code",
   "execution_count": 52,
   "id": "42852f32",
   "metadata": {},
   "outputs": [
    {
     "data": {
      "text/plain": [
       "True"
      ]
     },
     "execution_count": 52,
     "metadata": {},
     "output_type": "execute_result"
    }
   ],
   "source": [
    "\"0x000001C5FFB88580\" == \"0x000001C5FFB88580\""
   ]
  },
  {
   "cell_type": "code",
   "execution_count": 53,
   "id": "7322c575",
   "metadata": {},
   "outputs": [
    {
     "name": "stdout",
     "output_type": "stream",
     "text": [
      "<__main__.EmpDetails object at 0x000001C5FFB8AAD0>\n"
     ]
    }
   ],
   "source": [
    "print(emp2)"
   ]
  },
  {
   "cell_type": "code",
   "execution_count": 54,
   "id": "ff7bc183",
   "metadata": {},
   "outputs": [
    {
     "data": {
      "text/plain": [
       "False"
      ]
     },
     "execution_count": 54,
     "metadata": {},
     "output_type": "execute_result"
    }
   ],
   "source": [
    "\"0x000001C5FFB88580\" == \"0x000001C5FFB8AAD0\""
   ]
  },
  {
   "cell_type": "code",
   "execution_count": 55,
   "id": "49326158",
   "metadata": {},
   "outputs": [
    {
     "name": "stdout",
     "output_type": "stream",
     "text": [
      "<__main__.EmpDetails object at 0x000001C5FFB8AAD0>\n",
      "We are in the class method and trying to ptint the object\n",
      "<__main__.EmpDetails object at 0x000001C5FFB8AAD0>\n"
     ]
    }
   ],
   "source": [
    "print(emp2)\n",
    "emp2.emp_name()"
   ]
  },
  {
   "cell_type": "code",
   "execution_count": 57,
   "id": "16aed950",
   "metadata": {},
   "outputs": [
    {
     "data": {
      "text/plain": [
       "True"
      ]
     },
     "execution_count": 57,
     "metadata": {},
     "output_type": "execute_result"
    }
   ],
   "source": [
    "\"0x000001C5FFB8AAD0\" == \"0x000001C5FFB8AAD0\" # Self"
   ]
  },
  {
   "cell_type": "code",
   "execution_count": 72,
   "id": "4fd279d1",
   "metadata": {},
   "outputs": [],
   "source": [
    "class EmpDetails():\n",
    "    location = \"Pune\"\n",
    "    \n",
    "    def emp_name(self,name):\n",
    "        print(self)\n",
    "        print(f\"Employee Name = {name}\")\n",
    "    def emp_salary(self,salary):\n",
    "        print(f\"The salary of {name} is {salary}\")\n",
    "    \n",
    "    def emp_company():\n",
    "        pass\n",
    "    \n",
    "    def emp_designation():\n",
    "        pass\n",
    "    \n",
    "    \n",
    "emp1 = EmpDetails()\n",
    "emp2 = EmpDetails()"
   ]
  },
  {
   "cell_type": "code",
   "execution_count": 73,
   "id": "d979f19d",
   "metadata": {},
   "outputs": [
    {
     "name": "stdout",
     "output_type": "stream",
     "text": [
      "<__main__.EmpDetails object at 0x000001C5FE24A4D0>\n",
      "<__main__.EmpDetails object at 0x000001C5FE24A4D0>\n",
      "Employee Name = Shrikar\n"
     ]
    }
   ],
   "source": [
    "print(emp1)\n",
    "\n",
    "emp1.emp_name(\"Shrikar\")"
   ]
  },
  {
   "cell_type": "code",
   "execution_count": 74,
   "id": "2e895be8",
   "metadata": {},
   "outputs": [
    {
     "name": "stdout",
     "output_type": "stream",
     "text": [
      "<__main__.EmpDetails object at 0x000001C5FE24ACB0>\n",
      "Employee Name = Chetan\n"
     ]
    }
   ],
   "source": [
    "emp2.emp_name(\"Chetan\")"
   ]
  },
  {
   "cell_type": "code",
   "execution_count": 75,
   "id": "c32a8c97",
   "metadata": {},
   "outputs": [
    {
     "name": "stdout",
     "output_type": "stream",
     "text": [
      "<__main__.EmpDetails object at 0x000001C5FE24ACB0>\n"
     ]
    }
   ],
   "source": [
    "print(emp2)"
   ]
  },
  {
   "cell_type": "code",
   "execution_count": 76,
   "id": "2c12022a",
   "metadata": {},
   "outputs": [
    {
     "ename": "NameError",
     "evalue": "name 'name' is not defined",
     "output_type": "error",
     "traceback": [
      "\u001b[1;31m---------------------------------------------------------------------------\u001b[0m",
      "\u001b[1;31mNameError\u001b[0m                                 Traceback (most recent call last)",
      "Input \u001b[1;32mIn [76]\u001b[0m, in \u001b[0;36m<cell line: 1>\u001b[1;34m()\u001b[0m\n\u001b[1;32m----> 1\u001b[0m \u001b[43memp1\u001b[49m\u001b[38;5;241;43m.\u001b[39;49m\u001b[43memp_salary\u001b[49m\u001b[43m(\u001b[49m\u001b[38;5;241;43m1500000\u001b[39;49m\u001b[43m)\u001b[49m\n",
      "Input \u001b[1;32mIn [72]\u001b[0m, in \u001b[0;36mEmpDetails.emp_salary\u001b[1;34m(self, salary)\u001b[0m\n\u001b[0;32m      7\u001b[0m \u001b[38;5;28;01mdef\u001b[39;00m \u001b[38;5;21memp_salary\u001b[39m(\u001b[38;5;28mself\u001b[39m,salary):\n\u001b[1;32m----> 8\u001b[0m     \u001b[38;5;28mprint\u001b[39m(\u001b[38;5;124mf\u001b[39m\u001b[38;5;124m\"\u001b[39m\u001b[38;5;124mThe salary of \u001b[39m\u001b[38;5;132;01m{\u001b[39;00mname\u001b[38;5;132;01m}\u001b[39;00m\u001b[38;5;124m is \u001b[39m\u001b[38;5;132;01m{\u001b[39;00msalary\u001b[38;5;132;01m}\u001b[39;00m\u001b[38;5;124m\"\u001b[39m)\n",
      "\u001b[1;31mNameError\u001b[0m: name 'name' is not defined"
     ]
    }
   ],
   "source": [
    "emp1.emp_salary(1500000)"
   ]
  },
  {
   "cell_type": "code",
   "execution_count": 77,
   "id": "03ad4bd9",
   "metadata": {},
   "outputs": [],
   "source": [
    "class EmpDetails():\n",
    "    location = \"Pune\"\n",
    "    \n",
    "    def emp_name(self,name):\n",
    "        self.name = name\n",
    "        print(f\"Employee Name = {name}\")\n",
    "    def emp_salary(self,salary):\n",
    "        print(f\"The salary of {self.name} is {salary}\")\n",
    "    \n",
    "    def emp_company():\n",
    "        pass\n",
    "    \n",
    "    def emp_designation():\n",
    "        pass\n",
    "    \n",
    "    \n",
    "emp1 = EmpDetails()\n",
    "emp2 = EmpDetails()"
   ]
  },
  {
   "cell_type": "code",
   "execution_count": 78,
   "id": "b208caf5",
   "metadata": {},
   "outputs": [
    {
     "name": "stdout",
     "output_type": "stream",
     "text": [
      "Employee Name = Shrikar\n"
     ]
    }
   ],
   "source": [
    "emp1.emp_name(\"Shrikar\")"
   ]
  },
  {
   "cell_type": "code",
   "execution_count": 79,
   "id": "d361c0c2",
   "metadata": {},
   "outputs": [
    {
     "name": "stdout",
     "output_type": "stream",
     "text": [
      "The salary of Shrikar is 15000000\n"
     ]
    }
   ],
   "source": [
    "emp1.emp_salary(15000000)"
   ]
  },
  {
   "cell_type": "code",
   "execution_count": 80,
   "id": "165aafaa",
   "metadata": {},
   "outputs": [
    {
     "ename": "AttributeError",
     "evalue": "'EmpDetails' object has no attribute 'name'",
     "output_type": "error",
     "traceback": [
      "\u001b[1;31m---------------------------------------------------------------------------\u001b[0m",
      "\u001b[1;31mAttributeError\u001b[0m                            Traceback (most recent call last)",
      "Input \u001b[1;32mIn [80]\u001b[0m, in \u001b[0;36m<cell line: 1>\u001b[1;34m()\u001b[0m\n\u001b[1;32m----> 1\u001b[0m \u001b[43memp2\u001b[49m\u001b[38;5;241;43m.\u001b[39;49m\u001b[43memp_salary\u001b[49m\u001b[43m(\u001b[49m\u001b[38;5;241;43m100000\u001b[39;49m\u001b[43m)\u001b[49m\n",
      "Input \u001b[1;32mIn [77]\u001b[0m, in \u001b[0;36mEmpDetails.emp_salary\u001b[1;34m(self, salary)\u001b[0m\n\u001b[0;32m      7\u001b[0m \u001b[38;5;28;01mdef\u001b[39;00m \u001b[38;5;21memp_salary\u001b[39m(\u001b[38;5;28mself\u001b[39m,salary):\n\u001b[1;32m----> 8\u001b[0m     \u001b[38;5;28mprint\u001b[39m(\u001b[38;5;124mf\u001b[39m\u001b[38;5;124m\"\u001b[39m\u001b[38;5;124mThe salary of \u001b[39m\u001b[38;5;132;01m{\u001b[39;00m\u001b[38;5;28mself\u001b[39m\u001b[38;5;241m.\u001b[39mname\u001b[38;5;132;01m}\u001b[39;00m\u001b[38;5;124m is \u001b[39m\u001b[38;5;132;01m{\u001b[39;00msalary\u001b[38;5;132;01m}\u001b[39;00m\u001b[38;5;124m\"\u001b[39m)\n",
      "\u001b[1;31mAttributeError\u001b[0m: 'EmpDetails' object has no attribute 'name'"
     ]
    }
   ],
   "source": [
    "emp2.emp_salary(100000)"
   ]
  },
  {
   "cell_type": "code",
   "execution_count": 81,
   "id": "57a51b4c",
   "metadata": {},
   "outputs": [],
   "source": [
    "emp3 = EmpDetails()"
   ]
  },
  {
   "cell_type": "code",
   "execution_count": 82,
   "id": "32da34ae",
   "metadata": {},
   "outputs": [
    {
     "name": "stdout",
     "output_type": "stream",
     "text": [
      "Employee Name = Rishabh\n"
     ]
    }
   ],
   "source": [
    "emp3.emp_name(\"Rishabh\")"
   ]
  },
  {
   "cell_type": "code",
   "execution_count": 83,
   "id": "ad529588",
   "metadata": {},
   "outputs": [
    {
     "name": "stdout",
     "output_type": "stream",
     "text": [
      "The salary of Rishabh is 1700000\n"
     ]
    }
   ],
   "source": [
    "emp3.emp_salary(1700000)"
   ]
  },
  {
   "cell_type": "code",
   "execution_count": 85,
   "id": "fb381194",
   "metadata": {},
   "outputs": [
    {
     "name": "stdout",
     "output_type": "stream",
     "text": [
      "The salary of Rishabh is 1500000\n"
     ]
    }
   ],
   "source": [
    "emp3.emp_salary(1500000)"
   ]
  },
  {
   "cell_type": "code",
   "execution_count": null,
   "id": "edd16270",
   "metadata": {},
   "outputs": [],
   "source": []
  }
 ],
 "metadata": {
  "kernelspec": {
   "display_name": "Python 3 (ipykernel)",
   "language": "python",
   "name": "python3"
  },
  "language_info": {
   "codemirror_mode": {
    "name": "ipython",
    "version": 3
   },
   "file_extension": ".py",
   "mimetype": "text/x-python",
   "name": "python",
   "nbconvert_exporter": "python",
   "pygments_lexer": "ipython3",
   "version": "3.10.5"
  }
 },
 "nbformat": 4,
 "nbformat_minor": 5
}
