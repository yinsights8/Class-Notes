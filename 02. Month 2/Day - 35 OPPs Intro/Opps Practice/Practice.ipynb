{
 "cells": [
  {
   "cell_type": "code",
   "execution_count": 6,
   "id": "bd5572cc",
   "metadata": {},
   "outputs": [],
   "source": [
    "class ClassName():\n",
    "    \n",
    "    var = 120     # -----> Class variable name it can be accesible only within a class not outside of a class\n",
    "    \n",
    "    def Method_1():\n",
    "        print(\"I am Method 1\")\n",
    "    def Method_2():\n",
    "        print(\"I am Method 2\")"
   ]
  },
  {
   "cell_type": "code",
   "execution_count": 7,
   "id": "a9fcdcc0",
   "metadata": {},
   "outputs": [
    {
     "name": "stdout",
     "output_type": "stream",
     "text": [
      "<__main__.ClassName object at 0x000002B669A50370>\n"
     ]
    }
   ],
   "source": [
    "print(ClassName())"
   ]
  },
  {
   "cell_type": "code",
   "execution_count": 8,
   "id": "1d58606e",
   "metadata": {},
   "outputs": [
    {
     "name": "stdout",
     "output_type": "stream",
     "text": [
      "<__main__.ClassName object at 0x000002B669B35940>\n"
     ]
    }
   ],
   "source": [
    "obj_1 = ClassName() # we are creating a instance from a bluprint\n",
    "print(obj_1)"
   ]
  },
  {
   "cell_type": "code",
   "execution_count": 9,
   "id": "20d26369",
   "metadata": {},
   "outputs": [
    {
     "name": "stdout",
     "output_type": "stream",
     "text": [
      "<__main__.ClassName object at 0x000002B6698E3A90>\n"
     ]
    }
   ],
   "source": [
    "obj_2 = ClassName()\n",
    "print(obj_2)"
   ]
  },
  {
   "cell_type": "code",
   "execution_count": 10,
   "id": "9212036a",
   "metadata": {},
   "outputs": [
    {
     "ename": "TypeError",
     "evalue": "Method_1() takes 0 positional arguments but 1 was given",
     "output_type": "error",
     "traceback": [
      "\u001b[1;31m---------------------------------------------------------------------------\u001b[0m",
      "\u001b[1;31mTypeError\u001b[0m                                 Traceback (most recent call last)",
      "Input \u001b[1;32mIn [10]\u001b[0m, in \u001b[0;36m<cell line: 1>\u001b[1;34m()\u001b[0m\n\u001b[1;32m----> 1\u001b[0m \u001b[43mobj_1\u001b[49m\u001b[38;5;241;43m.\u001b[39;49m\u001b[43mMethod_1\u001b[49m\u001b[43m(\u001b[49m\u001b[43m)\u001b[49m\n",
      "\u001b[1;31mTypeError\u001b[0m: Method_1() takes 0 positional arguments but 1 was given"
     ]
    }
   ],
   "source": [
    "obj_1.Method_1()  ### obj_1 == self"
   ]
  },
  {
   "cell_type": "code",
   "execution_count": 12,
   "id": "ac2c815e",
   "metadata": {},
   "outputs": [
    {
     "ename": "TypeError",
     "evalue": "Method_2() takes 0 positional arguments but 1 was given",
     "output_type": "error",
     "traceback": [
      "\u001b[1;31m---------------------------------------------------------------------------\u001b[0m",
      "\u001b[1;31mTypeError\u001b[0m                                 Traceback (most recent call last)",
      "Input \u001b[1;32mIn [12]\u001b[0m, in \u001b[0;36m<cell line: 1>\u001b[1;34m()\u001b[0m\n\u001b[1;32m----> 1\u001b[0m \u001b[43mobj_2\u001b[49m\u001b[38;5;241;43m.\u001b[39;49m\u001b[43mMethod_2\u001b[49m\u001b[43m(\u001b[49m\u001b[43m)\u001b[49m\n",
      "\u001b[1;31mTypeError\u001b[0m: Method_2() takes 0 positional arguments but 1 was given"
     ]
    }
   ],
   "source": [
    "obj_2.Method_2()"
   ]
  },
  {
   "cell_type": "code",
   "execution_count": 14,
   "id": "b72d6bbb",
   "metadata": {},
   "outputs": [
    {
     "data": {
      "text/plain": [
       "120"
      ]
     },
     "execution_count": 14,
     "metadata": {},
     "output_type": "execute_result"
    }
   ],
   "source": [
    "obj_1.var # This is a class variable Not Global variable"
   ]
  },
  {
   "cell_type": "code",
   "execution_count": 3,
   "id": "8b25eada",
   "metadata": {},
   "outputs": [],
   "source": [
    "# var = 0\n",
    "class ClassName():\n",
    "#     global var\n",
    "    var = 120     # -----> Class variable name it can be accesible only within a class not outside of a class\n",
    "    \n",
    "    def Method_1(abc):\n",
    "        print(\"method 1\")\n",
    "        print(abc)# It does not have to be self only it can be any thing\n",
    "        print(\"I am Method 1\")\n",
    "    def Method_2(abc):\n",
    "        print(\"I am Method 2\")"
   ]
  },
  {
   "cell_type": "code",
   "execution_count": 4,
   "id": "b94b5cec",
   "metadata": {},
   "outputs": [
    {
     "name": "stdout",
     "output_type": "stream",
     "text": [
      "original object:-  <__main__.ClassName object at 0x000001E720E2A790>\n",
      "instance created:-  <__main__.ClassName object at 0x000001E71F9EFCA0>\n",
      "method 1\n",
      "<__main__.ClassName object at 0x000001E71F9EFCA0>\n",
      "I am Method 1\n",
      "I am Method 2\n"
     ]
    },
    {
     "data": {
      "text/plain": [
       "120"
      ]
     },
     "execution_count": 4,
     "metadata": {},
     "output_type": "execute_result"
    }
   ],
   "source": [
    "ob = ClassName()\n",
    "print(\"original object:- \",ClassName())\n",
    "print(\"instance created:- \",ob)\n",
    "ob.Method_1()\n",
    "ob.Method_2()\n",
    "ob.var"
   ]
  },
  {
   "cell_type": "code",
   "execution_count": null,
   "id": "64fba89b",
   "metadata": {},
   "outputs": [],
   "source": []
  },
  {
   "cell_type": "code",
   "execution_count": 17,
   "id": "dc828473",
   "metadata": {},
   "outputs": [],
   "source": [
    "class Structure():\n",
    "    def Method_1(self):\n",
    "        pass\n",
    "    \n",
    "    def Method_2(self):\n",
    "        pass\n",
    "    \n",
    "    def Method_3(self):\n",
    "        pass\n",
    "    \n",
    "    def Method_4(self):\n",
    "        pass\n",
    "    \n",
    "class Blueprint():\n",
    "    def Method_1(self):\n",
    "        pass\n",
    "    \n",
    "    def Method_2(self):\n",
    "        pass\n",
    "    \n",
    "    def Method_3(self):\n",
    "        pass\n",
    "    \n",
    "    def Method_4(self):\n",
    "        pass\n",
    "    \n",
    "class Working():\n",
    "    def Method_1(self):\n",
    "        pass\n",
    "    \n",
    "    def Method_2(self):\n",
    "        pass\n",
    "    \n",
    "    def Method_3(self):\n",
    "        pass\n",
    "    \n",
    "    def Method_4(self):\n",
    "        pass"
   ]
  },
  {
   "cell_type": "code",
   "execution_count": 18,
   "id": "c1056142",
   "metadata": {},
   "outputs": [],
   "source": [
    "struct = Structure()\n",
    "\n",
    "b_print = Blueprint()\n",
    "\n",
    "Work = Working()"
   ]
  },
  {
   "cell_type": "code",
   "execution_count": 19,
   "id": "8f89e77c",
   "metadata": {},
   "outputs": [],
   "source": [
    "class Class():\n",
    "    vari = 666                # class variable \n",
    "    def method_1(self):\n",
    "        print(\"I am inside Method 1\")\n",
    "        var1 = 123                          # local variable can't be accces. need to specify self.var1\n",
    "        self.city_name = \"NYC\"\n",
    "        self.country = \"America\"\n",
    "        \n",
    "    def method_2(self):\n",
    "        print(\"I am inside Method 2\")\n",
    "        var2 = 456\n",
    "        print(\"calling method 2\")\n",
    "        self.method_1()\n",
    "        \n",
    "        print(\"variable 1 from method_1\",self.city_name)\n",
    "        print(\"variable 2 from method_1\",self.country)\n",
    "        \n",
    "        \n",
    "n_obj = Class()"
   ]
  },
  {
   "cell_type": "code",
   "execution_count": 20,
   "id": "cdf8a57c",
   "metadata": {},
   "outputs": [
    {
     "name": "stdout",
     "output_type": "stream",
     "text": [
      "I am inside Method 1\n"
     ]
    }
   ],
   "source": [
    "n_obj.method_1()"
   ]
  },
  {
   "cell_type": "code",
   "execution_count": 21,
   "id": "45d2a826",
   "metadata": {},
   "outputs": [
    {
     "data": {
      "text/plain": [
       "666"
      ]
     },
     "execution_count": 21,
     "metadata": {},
     "output_type": "execute_result"
    }
   ],
   "source": [
    "n_obj.vari  # it can assecible because it is class variable"
   ]
  },
  {
   "cell_type": "code",
   "execution_count": 22,
   "id": "4f66c346",
   "metadata": {},
   "outputs": [
    {
     "ename": "AttributeError",
     "evalue": "'Class' object has no attribute 'var1'",
     "output_type": "error",
     "traceback": [
      "\u001b[1;31m---------------------------------------------------------------------------\u001b[0m",
      "\u001b[1;31mAttributeError\u001b[0m                            Traceback (most recent call last)",
      "Input \u001b[1;32mIn [22]\u001b[0m, in \u001b[0;36m<cell line: 1>\u001b[1;34m()\u001b[0m\n\u001b[1;32m----> 1\u001b[0m \u001b[43mn_obj\u001b[49m\u001b[38;5;241;43m.\u001b[39;49m\u001b[43mvar1\u001b[49m\n",
      "\u001b[1;31mAttributeError\u001b[0m: 'Class' object has no attribute 'var1'"
     ]
    }
   ],
   "source": [
    "n_obj.var1"
   ]
  },
  {
   "cell_type": "code",
   "execution_count": 23,
   "id": "3a4fb405",
   "metadata": {},
   "outputs": [
    {
     "name": "stdout",
     "output_type": "stream",
     "text": [
      "I am inside Method 2\n",
      "calling method 2\n",
      "I am inside Method 1\n",
      "variable 1 from method_1 NYC\n",
      "variable 2 from method_1 America\n"
     ]
    }
   ],
   "source": [
    "n_obj.method_2()"
   ]
  },
  {
   "cell_type": "code",
   "execution_count": 24,
   "id": "34196635",
   "metadata": {},
   "outputs": [
    {
     "ename": "AttributeError",
     "evalue": "'Class' object has no attribute 'var2'",
     "output_type": "error",
     "traceback": [
      "\u001b[1;31m---------------------------------------------------------------------------\u001b[0m",
      "\u001b[1;31mAttributeError\u001b[0m                            Traceback (most recent call last)",
      "Input \u001b[1;32mIn [24]\u001b[0m, in \u001b[0;36m<cell line: 1>\u001b[1;34m()\u001b[0m\n\u001b[1;32m----> 1\u001b[0m \u001b[43mn_obj\u001b[49m\u001b[38;5;241;43m.\u001b[39;49m\u001b[43mvar2\u001b[49m\n",
      "\u001b[1;31mAttributeError\u001b[0m: 'Class' object has no attribute 'var2'"
     ]
    }
   ],
   "source": [
    "n_obj.var2  # we can not access local variable because it is inside a class.\n",
    "            # in order ot access it we need specify self.variable_name"
   ]
  },
  {
   "cell_type": "markdown",
   "id": "b8b85f6c",
   "metadata": {},
   "source": [
    "## Employee Details"
   ]
  },
  {
   "cell_type": "code",
   "execution_count": 37,
   "id": "db7f8fd7",
   "metadata": {},
   "outputs": [],
   "source": [
    "class EmpDetails():\n",
    "    location = \"Pune\"\n",
    "    \n",
    "    def emp_name(self):\n",
    "        self.name = \"Yash\"\n",
    "        print(f\"employe name is: {self.name}\")\n",
    "    \n",
    "    def emp_salary(self):\n",
    "        self.salary = 1500000\n",
    "        print(f\"Employe salary is: {self.salary}\")\n",
    "\n",
    "    def emp_company(self):\n",
    "        self.company = \"Google\"\n",
    "        print(f\"Employe company is: {self.company}\")\n",
    "    \n",
    "    def emp_designation(self):\n",
    "        self.designation  = \"Data scientist\"\n",
    "        print(f\"Employe designation is:- {self.designation }\")"
   ]
  },
  {
   "cell_type": "code",
   "execution_count": 32,
   "id": "b2a2f734",
   "metadata": {},
   "outputs": [],
   "source": [
    "mydata = EmpDetails()"
   ]
  },
  {
   "cell_type": "code",
   "execution_count": 33,
   "id": "14436a9b",
   "metadata": {},
   "outputs": [
    {
     "name": "stdout",
     "output_type": "stream",
     "text": [
      "employe name is: Yash\n"
     ]
    }
   ],
   "source": [
    "mydata.emp_name()"
   ]
  },
  {
   "cell_type": "code",
   "execution_count": 34,
   "id": "17ba28b0",
   "metadata": {},
   "outputs": [
    {
     "name": "stdout",
     "output_type": "stream",
     "text": [
      "Employe company is: Google\n"
     ]
    }
   ],
   "source": [
    "mydata.emp_company()"
   ]
  },
  {
   "cell_type": "code",
   "execution_count": 35,
   "id": "8dd68091",
   "metadata": {},
   "outputs": [
    {
     "name": "stdout",
     "output_type": "stream",
     "text": [
      "Employe designation is:- Data scientist\n"
     ]
    }
   ],
   "source": [
    "mydata.emp_designation()"
   ]
  },
  {
   "cell_type": "code",
   "execution_count": 36,
   "id": "30b2aa4a",
   "metadata": {},
   "outputs": [
    {
     "data": {
      "text/plain": [
       "'Pune'"
      ]
     },
     "execution_count": 36,
     "metadata": {},
     "output_type": "execute_result"
    }
   ],
   "source": [
    "mydata.location"
   ]
  },
  {
   "cell_type": "code",
   "execution_count": null,
   "id": "b96a257d",
   "metadata": {},
   "outputs": [],
   "source": []
  }
 ],
 "metadata": {
  "kernelspec": {
   "display_name": "Python 3 (ipykernel)",
   "language": "python",
   "name": "python3"
  },
  "language_info": {
   "codemirror_mode": {
    "name": "ipython",
    "version": 3
   },
   "file_extension": ".py",
   "mimetype": "text/x-python",
   "name": "python",
   "nbconvert_exporter": "python",
   "pygments_lexer": "ipython3",
   "version": "3.9.12"
  }
 },
 "nbformat": 4,
 "nbformat_minor": 5
}
