{
 "cells": [
  {
   "cell_type": "code",
   "execution_count": 103,
   "id": "ea6803cb",
   "metadata": {},
   "outputs": [
    {
     "name": "stdout",
     "output_type": "stream",
     "text": [
      "Owner name 'yash' \n",
      "Owner balance '100'\n"
     ]
    }
   ],
   "source": [
    "class Bank:\n",
    "    def __init__(self, name, balance):\n",
    "        self.name = name\n",
    "        self.balance = balance\n",
    "    def __str__(self):\n",
    "        return f\"Owner name '{self.name}' \\nOwner balance '{self.balance}'\"\n",
    "        \n",
    "    def deposit(self, add_money):\n",
    "        self.balance += add_money\n",
    "        return f\"Money deposited {self.balance}\"\n",
    "    \n",
    "    def windrawl(self, windrawl_money):\n",
    "        if self.balance >= windrawl_money:\n",
    "            self.balance -= windrawl_money\n",
    "            return self.balance\n",
    "        else:\n",
    "            return f\"Insufficient Balance\"\n",
    "        \n",
    "        \n",
    "class atm(Bank):\n",
    "    def __init__(self, card_name, money, name, balance):\n",
    "        super().__init__(name, balance)\n",
    "        self.name = str(card_name)\n",
    "        self.money = money\n",
    "        \n",
    "    def __str__(self):\n",
    "        return f\"ATM owner name '{self.name}' \\nATM Owner balance '{self.balance}'\"\n",
    "    \n",
    "    def name_of_card(self):\n",
    "        return f\"Name of a Card is {self.card_name}\"\n",
    "    \n",
    "    def credit(self, cred_money):\n",
    "        self.balance += cred_money\n",
    "    def debit(self, dep_money):\n",
    "        if self.balance >= dep_money:\n",
    "            self.balance -= dep_money\n",
    "            return self.balance\n",
    "        else:\n",
    "            return f\"No Money\"\n",
    "    \n",
    "owner = Bank(\"yash\", 100)\n",
    "print(owner)"
   ]
  },
  {
   "cell_type": "code",
   "execution_count": 104,
   "id": "419dd212",
   "metadata": {},
   "outputs": [
    {
     "data": {
      "text/plain": [
       "100"
      ]
     },
     "execution_count": 104,
     "metadata": {},
     "output_type": "execute_result"
    }
   ],
   "source": [
    "owner.balance"
   ]
  },
  {
   "cell_type": "code",
   "execution_count": 105,
   "id": "e23e50e2",
   "metadata": {},
   "outputs": [
    {
     "data": {
      "text/plain": [
       "'yash'"
      ]
     },
     "execution_count": 105,
     "metadata": {},
     "output_type": "execute_result"
    }
   ],
   "source": [
    "owner.name"
   ]
  },
  {
   "cell_type": "code",
   "execution_count": 106,
   "id": "8ad82f9e",
   "metadata": {},
   "outputs": [
    {
     "data": {
      "text/plain": [
       "'Money deposited 200'"
      ]
     },
     "execution_count": 106,
     "metadata": {},
     "output_type": "execute_result"
    }
   ],
   "source": [
    "owner.deposit(100)"
   ]
  },
  {
   "cell_type": "code",
   "execution_count": 107,
   "id": "f49c01cf",
   "metadata": {},
   "outputs": [
    {
     "data": {
      "text/plain": [
       "200"
      ]
     },
     "execution_count": 107,
     "metadata": {},
     "output_type": "execute_result"
    }
   ],
   "source": [
    "owner.balance"
   ]
  },
  {
   "cell_type": "code",
   "execution_count": 108,
   "id": "f9332486",
   "metadata": {},
   "outputs": [
    {
     "data": {
      "text/plain": [
       "110"
      ]
     },
     "execution_count": 108,
     "metadata": {},
     "output_type": "execute_result"
    }
   ],
   "source": [
    "owner.windrawl(90)"
   ]
  },
  {
   "cell_type": "code",
   "execution_count": 109,
   "id": "db245669",
   "metadata": {},
   "outputs": [
    {
     "data": {
      "text/plain": [
       "'Insufficient Balance'"
      ]
     },
     "execution_count": 109,
     "metadata": {},
     "output_type": "execute_result"
    }
   ],
   "source": [
    "owner.windrawl(200)"
   ]
  },
  {
   "cell_type": "code",
   "execution_count": null,
   "id": "fcc5e7cd",
   "metadata": {},
   "outputs": [],
   "source": []
  },
  {
   "cell_type": "code",
   "execution_count": 110,
   "id": "d7f0fbb6",
   "metadata": {},
   "outputs": [],
   "source": [
    "son = atm(card_name=\"visa\", money=1000, name=\"yash\", balance=1000)"
   ]
  },
  {
   "cell_type": "code",
   "execution_count": 111,
   "id": "440fa693",
   "metadata": {},
   "outputs": [],
   "source": [
    "son.credit(100)"
   ]
  },
  {
   "cell_type": "code",
   "execution_count": 112,
   "id": "15db4ddf",
   "metadata": {},
   "outputs": [
    {
     "data": {
      "text/plain": [
       "1100"
      ]
     },
     "execution_count": 112,
     "metadata": {},
     "output_type": "execute_result"
    }
   ],
   "source": [
    "son.balance"
   ]
  },
  {
   "cell_type": "code",
   "execution_count": 113,
   "id": "3f1f8a39",
   "metadata": {
    "scrolled": true
   },
   "outputs": [
    {
     "data": {
      "text/plain": [
       "600"
      ]
     },
     "execution_count": 113,
     "metadata": {},
     "output_type": "execute_result"
    }
   ],
   "source": [
    "son.debit(500)"
   ]
  },
  {
   "cell_type": "code",
   "execution_count": 114,
   "id": "cef83b25",
   "metadata": {},
   "outputs": [
    {
     "name": "stdout",
     "output_type": "stream",
     "text": [
      "ATM owner name 'visa' \n",
      "ATM Owner balance '600'\n"
     ]
    }
   ],
   "source": [
    "print(son)"
   ]
  },
  {
   "cell_type": "code",
   "execution_count": null,
   "id": "8dac4445",
   "metadata": {},
   "outputs": [],
   "source": []
  },
  {
   "cell_type": "code",
   "execution_count": null,
   "id": "43128573",
   "metadata": {},
   "outputs": [],
   "source": []
  }
 ],
 "metadata": {
  "kernelspec": {
   "display_name": "Python 3 (ipykernel)",
   "language": "python",
   "name": "python3"
  },
  "language_info": {
   "codemirror_mode": {
    "name": "ipython",
    "version": 3
   },
   "file_extension": ".py",
   "mimetype": "text/x-python",
   "name": "python",
   "nbconvert_exporter": "python",
   "pygments_lexer": "ipython3",
   "version": "3.9.13"
  }
 },
 "nbformat": 4,
 "nbformat_minor": 5
}
