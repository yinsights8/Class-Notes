{
 "cells": [
  {
   "cell_type": "code",
   "execution_count": 6,
   "id": "1ec15069",
   "metadata": {},
   "outputs": [
    {
     "data": {
      "text/plain": [
       "-1"
      ]
     },
     "execution_count": 6,
     "metadata": {},
     "output_type": "execute_result"
    }
   ],
   "source": [
    "class Calculations:\n",
    "    \n",
    "    def __init__(self, a,b):\n",
    "        self.a = a\n",
    "        self.b = b\n",
    "        \n",
    "    def addition(self):\n",
    "        return self.a + self.b\n",
    "    \n",
    "    def Subtraction(self):\n",
    "        return self.a - self.b\n",
    "    \n",
    "    def division(self):\n",
    "        return self.a // self.b\n",
    "    \n",
    "    \n",
    "cal = Calculations(2,3)\n",
    "\n",
    "cal.addition()\n",
    "cal.division()\n",
    "cal.Subtraction()"
   ]
  },
  {
   "cell_type": "code",
   "execution_count": null,
   "id": "4bed700d",
   "metadata": {},
   "outputs": [],
   "source": []
  }
 ],
 "metadata": {
  "kernelspec": {
   "display_name": "Python 3 (ipykernel)",
   "language": "python",
   "name": "python3"
  },
  "language_info": {
   "codemirror_mode": {
    "name": "ipython",
    "version": 3
   },
   "file_extension": ".py",
   "mimetype": "text/x-python",
   "name": "python",
   "nbconvert_exporter": "python",
   "pygments_lexer": "ipython3",
   "version": "3.10.8"
  }
 },
 "nbformat": 4,
 "nbformat_minor": 5
}
