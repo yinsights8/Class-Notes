{
 "cells": [
  {
   "cell_type": "code",
   "execution_count": 1,
   "id": "017c1e1a",
   "metadata": {},
   "outputs": [],
   "source": [
    "import os\n",
    "\n",
    "os.mkdir(\"Opps Practice\")"
   ]
  },
  {
   "cell_type": "code",
   "execution_count": 2,
   "id": "65293676",
   "metadata": {},
   "outputs": [
    {
     "data": {
      "text/plain": [
       "['.ipynb_checkpoints',\n",
       " 'Object Oriented Programming.ipynb',\n",
       " 'Opps Practice',\n",
       " 'Untitled.ipynb']"
      ]
     },
     "execution_count": 2,
     "metadata": {},
     "output_type": "execute_result"
    }
   ],
   "source": [
    "os.listdir()"
   ]
  },
  {
   "cell_type": "code",
   "execution_count": 1,
   "id": "84eba7a6",
   "metadata": {},
   "outputs": [],
   "source": [
    "class Blueprint():\n",
    "    def __init__(self):\n",
    "        pass\n",
    "    def method(self):\n",
    "        pass\n",
    "    def method(self):\n",
    "        pass\n",
    "    def method(self):\n",
    "        pass"
   ]
  },
  {
   "cell_type": "code",
   "execution_count": null,
   "id": "004d8056",
   "metadata": {},
   "outputs": [],
   "source": []
  },
  {
   "cell_type": "code",
   "execution_count": 2,
   "id": "ea572c9d",
   "metadata": {},
   "outputs": [],
   "source": [
    "var1 = 5000                            # Global Variable\n",
    "\n",
    "class ClassName():                     # Class Name\n",
    "    x = 1                              # Class Variables\n",
    "    y = 5.5                            # Class Variables\n",
    "    z = \"First Class\"                  # Class Variables\n",
    "    \n",
    "    def method1(self):                 # First Method of a class\n",
    "        print(\"This is method1\")\n",
    "        var2 = \"Data Science\"          # Local Variable \n",
    "        self.city_name = \"Mumbai\"      # Instance Variable1\n",
    "        self.state     = \"Maharashtra\" # Instance Variable2\n",
    "        \n",
    "    def method2(self):                 # Method 2\n",
    "        print(\"This is method2\")\n",
    "        var3 = \"Machine Learning\"      # Local Vartiable\n",
    "        self.var4 = \"NLP\"              # Instance variable \n",
    "        self.method1()\n",
    "        print(\"Variable 1 from method1\",self.city_name)\n",
    "        print(\"Variable 2 from method2\",self.x)"
   ]
  },
  {
   "cell_type": "code",
   "execution_count": 3,
   "id": "7ff5aa6c",
   "metadata": {},
   "outputs": [],
   "source": [
    "obj = ClassName()\n"
   ]
  },
  {
   "cell_type": "code",
   "execution_count": 4,
   "id": "9dcfae65",
   "metadata": {},
   "outputs": [
    {
     "data": {
      "text/plain": [
       "1"
      ]
     },
     "execution_count": 4,
     "metadata": {},
     "output_type": "execute_result"
    }
   ],
   "source": [
    "obj.x"
   ]
  },
  {
   "cell_type": "code",
   "execution_count": null,
   "id": "d95810ef",
   "metadata": {},
   "outputs": [],
   "source": []
  }
 ],
 "metadata": {
  "kernelspec": {
   "display_name": "Python 3 (ipykernel)",
   "language": "python",
   "name": "python3"
  },
  "language_info": {
   "codemirror_mode": {
    "name": "ipython",
    "version": 3
   },
   "file_extension": ".py",
   "mimetype": "text/x-python",
   "name": "python",
   "nbconvert_exporter": "python",
   "pygments_lexer": "ipython3",
   "version": "3.9.12"
  }
 },
 "nbformat": 4,
 "nbformat_minor": 5
}
