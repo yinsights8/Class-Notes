{
 "cells": [
  {
   "cell_type": "markdown",
   "id": "232cd62f",
   "metadata": {},
   "source": [
    "# Errors"
   ]
  },
  {
   "cell_type": "markdown",
   "id": "abb5a98b",
   "metadata": {},
   "source": [
    "- AttributeError\n",
    "- NameError\n",
    "- KeyError\n",
    "- ValueError\n",
    "- IndentationError\n",
    "- IndexError\n",
    "- FileExistsError\n",
    "- FileNotFoundError\n",
    "- ZeroDivisionError\n",
    "- TypeError\n",
    "- SyntaxError"
   ]
  },
  {
   "cell_type": "markdown",
   "id": "6d2441be",
   "metadata": {},
   "source": [
    "## 1. try - except Block"
   ]
  },
  {
   "cell_type": "raw",
   "id": "2bc19f2f",
   "metadata": {},
   "source": [
    "try :\n",
    "    statement 1\n",
    "    statement 2\n",
    "        .\n",
    "        .\n",
    "    statement-n\n",
    "    \n",
    "except :\n",
    "    statement 1\n",
    "    statement 2\n",
    "        .\n",
    "        .\n",
    "    statement-n"
   ]
  },
  {
   "cell_type": "markdown",
   "id": "16df6c59",
   "metadata": {},
   "source": [
    "- try :- we use try keyword when there is chaces that error might occure, for that programmner should think about the error that might occure during the execution of a file\n",
    "    \n",
    "    \n",
    "    \n",
    "    \n",
    "    \n",
    "    \n",
    "    \n",
    "    \n",
    "- except :- we use except block to handle the error that might occure in try block"
   ]
  },
  {
   "cell_type": "markdown",
   "id": "e9c20edf",
   "metadata": {},
   "source": [
    "## 2. try - except - else block"
   ]
  },
  {
   "cell_type": "raw",
   "id": "8c7a5507",
   "metadata": {},
   "source": [
    "try :\n",
    "    satements-1\n",
    "    satements-1\n",
    "        .\n",
    "        .\n",
    "    satements-n\n",
    "    \n",
    "except :\n",
    "    satements-1\n",
    "    satements-1\n",
    "        .\n",
    "        .\n",
    "    satements-n\n",
    "    \n",
    "else :\n",
    "    satements-1\n",
    "    satements-1\n",
    "        .\n",
    "        .\n",
    "    satements-n"
   ]
  },
  {
   "cell_type": "markdown",
   "id": "cfc857fb",
   "metadata": {},
   "source": [
    "- else: - this block of statement will occure when there is no error. \n",
    "if the try block excecutes successefully then else statement will triger \n",
    "and  when an exception occure then else statement will not trigger\n"
   ]
  },
  {
   "cell_type": "markdown",
   "id": "65a40fa2",
   "metadata": {},
   "source": [
    "### 3. try - except - finally"
   ]
  },
  {
   "cell_type": "raw",
   "id": "9bb94efb",
   "metadata": {},
   "source": [
    "try :\n",
    "    satements-1\n",
    "    satements-1\n",
    "        .\n",
    "        .\n",
    "    satements-n\n",
    "    \n",
    "except :\n",
    "    satements-1\n",
    "    satements-1\n",
    "        .\n",
    "        .\n",
    "    satements-n\n",
    "    \n",
    "else :\n",
    "    satements-1\n",
    "    satements-1\n",
    "        .\n",
    "        .\n",
    "    satements-n\n",
    "    \n",
    "finally :\n",
    "    satements-1\n",
    "    satements-1\n",
    "        .\n",
    "        .\n",
    "    satements-n"
   ]
  },
  {
   "cell_type": "markdown",
   "id": "75c46a1e",
   "metadata": {},
   "source": [
    "- finally - No matter what this finally statement will trigger anyway"
   ]
  },
  {
   "cell_type": "markdown",
   "id": "c8ada6e9",
   "metadata": {},
   "source": [
    "## 4. Traceback error"
   ]
  },
  {
   "cell_type": "markdown",
   "id": "5e86897a",
   "metadata": {},
   "source": [
    "###### In Python, A traceback is a report containing the function calls made in your code at a specific point i.e when you get an error it is recommended that you should trace it backward(traceback). Whenever the code gets an exception, the traceback will give the information about what went wrong in the code.The Python traceback contains great information that can help you find what is going wrong in the code. These tracebacks can look a little wearisome, but once you break it down to see what it’s trying to show you, they can be very helpful."
   ]
  },
  {
   "cell_type": "markdown",
   "id": "c65e4181",
   "metadata": {},
   "source": [
    "- Some of the most common traceback errors are\n",
    "    - NameError\n",
    "    - IndexError\n",
    "    - SyntaxError\n",
    "    - ValueError\n",
    "    - KeyError\n",
    "    - ImportError / ModuleNotFoundError"
   ]
  },
  {
   "cell_type": "code",
   "execution_count": null,
   "id": "7419339c",
   "metadata": {},
   "outputs": [],
   "source": []
  },
  {
   "cell_type": "code",
   "execution_count": null,
   "id": "c0011d1b",
   "metadata": {},
   "outputs": [],
   "source": []
  },
  {
   "cell_type": "markdown",
   "id": "ba6a10d3",
   "metadata": {},
   "source": [
    "## 5. Raise"
   ]
  },
  {
   "cell_type": "markdown",
   "id": "ad860215",
   "metadata": {},
   "source": [
    "- As a Python developer you can choose to throw an exception if a condition occurs. \n",
    "- To throw (or raise) an exception, use the raise keyword.\n",
    "- The raise keyword is used to raise an exception.\n",
    "\n",
    "- You can define what kind of error to raise, and the text to print to the user."
   ]
  },
  {
   "cell_type": "code",
   "execution_count": 3,
   "id": "e794accd",
   "metadata": {},
   "outputs": [
    {
     "ename": "TypeError",
     "evalue": "Only integers are allowed",
     "output_type": "error",
     "traceback": [
      "\u001b[1;31m---------------------------------------------------------------------------\u001b[0m",
      "\u001b[1;31mTypeError\u001b[0m                                 Traceback (most recent call last)",
      "Input \u001b[1;32mIn [3]\u001b[0m, in \u001b[0;36m<cell line: 2>\u001b[1;34m()\u001b[0m\n\u001b[0;32m      1\u001b[0m x \u001b[38;5;241m=\u001b[39m \u001b[38;5;124m\"\u001b[39m\u001b[38;5;124mhello\u001b[39m\u001b[38;5;124m\"\u001b[39m\n\u001b[0;32m      2\u001b[0m \u001b[38;5;28;01mif\u001b[39;00m \u001b[38;5;129;01mnot\u001b[39;00m \u001b[38;5;28mtype\u001b[39m(x) \u001b[38;5;129;01mis\u001b[39;00m \u001b[38;5;28mint\u001b[39m:\n\u001b[1;32m----> 3\u001b[0m     \u001b[38;5;28;01mraise\u001b[39;00m \u001b[38;5;167;01mTypeError\u001b[39;00m(\u001b[38;5;124m\"\u001b[39m\u001b[38;5;124mOnly integers are allowed\u001b[39m\u001b[38;5;124m\"\u001b[39m)\n",
      "\u001b[1;31mTypeError\u001b[0m: Only integers are allowed"
     ]
    }
   ],
   "source": [
    "x = \"hello\"\n",
    "if not type(x) is int:\n",
    "    raise TypeError(\"Only integers are allowed\")"
   ]
  },
  {
   "cell_type": "code",
   "execution_count": null,
   "id": "f720ceff",
   "metadata": {},
   "outputs": [],
   "source": []
  }
 ],
 "metadata": {
  "kernelspec": {
   "display_name": "Python 3 (ipykernel)",
   "language": "python",
   "name": "python3"
  },
  "language_info": {
   "codemirror_mode": {
    "name": "ipython",
    "version": 3
   },
   "file_extension": ".py",
   "mimetype": "text/x-python",
   "name": "python",
   "nbconvert_exporter": "python",
   "pygments_lexer": "ipython3",
   "version": "3.10.8"
  }
 },
 "nbformat": 4,
 "nbformat_minor": 5
}
