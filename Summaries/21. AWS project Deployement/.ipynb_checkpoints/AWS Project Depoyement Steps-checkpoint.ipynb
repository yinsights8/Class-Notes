{
 "cells": [
  {
   "cell_type": "markdown",
   "id": "754148fd",
   "metadata": {},
   "source": [
    "# To Generate requirement.txt in project"
   ]
  },
  {
   "cell_type": "raw",
   "id": "05a743f6",
   "metadata": {},
   "source": [
    "- 1. first method\n",
    "    >> pip freeze >requirements.txt\n",
    "    \n",
    "- 2. second method\n",
    "    >> pip install pipreqs\n",
    "    >> pipreqs\n",
    "- go to the folder location in cmd then type pipreqs"
   ]
  },
  {
   "cell_type": "markdown",
   "id": "ec4de30f",
   "metadata": {},
   "source": [
    "# Initiate empty git folder"
   ]
  },
  {
   "cell_type": "raw",
   "id": "8ed509e2",
   "metadata": {},
   "source": [
    "Open the project folder : \n",
    "    Open in terminal/GitBash here\n",
    "    git init\n",
    "    git status\n",
    "    git add .  (You can add individual files with commit)\n",
    "    git commit -m \"Added all files\"Open the github account : \n",
    "    Create new repository\n",
    "    Copy the link createdOpen the terminal : \n",
    "    git remote add origin (paste your link)\n",
    "    git branch -M main\n",
    "    git push origin main\n",
    "    Type your github username\n",
    "    Type your Personal Access Token (PAT)\n",
    "    Refresh your git repository (All the files will be pushed on your github repo)"
   ]
  },
  {
   "cell_type": "markdown",
   "id": "443789ea",
   "metadata": {},
   "source": [
    "# # Personal Access Token\n"
   ]
  },
  {
   "cell_type": "raw",
   "id": "322539a2",
   "metadata": {},
   "source": [
    "Steps to create PAT:\n",
    "    Login to your Github account\n",
    "    Click on your profile\n",
    "    Setings\n",
    "    Developer Settings\n",
    "    Personal Access Token\n",
    "    Generate new token\n",
    "    Select expiration date (Copy your PAT and save fr future reference)"
   ]
  },
  {
   "cell_type": "markdown",
   "id": "dc3b1927",
   "metadata": {},
   "source": [
    "# # AWS Account Creation"
   ]
  },
  {
   "cell_type": "raw",
   "id": "ae45296c",
   "metadata": {},
   "source": [
    "AWS Account Creation:\n",
    "    Search AWS\n",
    "    Click on the first link\n",
    "    Create new account\n",
    "    Enter your email id\n",
    "    Create username\n",
    "    Click on next\n",
    "    Enter the verification code sent on your email id and verufy your account\n",
    "    Next\n",
    "    Choose password\n",
    "    Fill the details\n",
    "    Enter your mobile number and address\n",
    "    Next\n",
    "    Enter the credit card number\n",
    "    Expiration month and year\n",
    "    CVV\n",
    "    Cardholder name\n",
    "    Billing address\n",
    "    PAN number\n",
    "    Next\n",
    "    Enter the otp sent on creadit card cardholder number\n",
    "    Once it is verified you will be able to login in the AWS account\n"
   ]
  },
  {
   "cell_type": "markdown",
   "id": "b0c62583",
   "metadata": {},
   "source": [
    "# # AWS Instance Creation"
   ]
  },
  {
   "cell_type": "raw",
   "id": "8e97925e",
   "metadata": {},
   "source": [
    "AWS Instance:\n",
    "    Login on AWS account through signin to the console\n",
    "    Search for ec2 in search bar\n",
    "    Launch Instance\n",
    "    Name of the instance\n",
    "    Select the OS (Ubuntu 22.04 with free tier eligible)\n",
    "    Select instance type (t2.micro with free tier eligible)\n",
    "    Create new key pair (Name the key pair and download it. Save the key pair in project folder)\n",
    "    Network Security Group (Edit-- Add new security group rule-- type-All Traffic-- Source Type-Anywhere)\n",
    "    Storage (1*8 -- Free tier has 30 GiB memory)\n",
    "    Launch Instance"
   ]
  },
  {
   "cell_type": "markdown",
   "id": "d75b17ba",
   "metadata": {},
   "source": [
    "# # Connect Instance and Deployment"
   ]
  },
  {
   "cell_type": "raw",
   "id": "36ff6b81",
   "metadata": {},
   "source": [
    "\n",
    "Select instance:\n",
    "    Connect\n",
    "    Connect with SSH Client\n",
    "    Open terminal\n",
    "    cd key (the folder or directory where you have stored the key)\n",
    "    ls\n",
    "    Copy the step 3 and paste\n",
    "    Copy the step 4 and paste\n",
    "    yes\n",
    "You will switch on private ip address:\n",
    "    python3  -- exit()\n",
    "    sudo apt-get update  (To get updates)\n",
    "    sudo apt-get install python3-pip (to install pip) ---> Y\n",
    "    pip --version\n",
    "    git --version\n",
    "Open the github repo --- Click on code --- Copy the https link\n",
    "\n",
    "Open the terminal:\n",
    "    git clone (Paste the https link)\n",
    "    cd (Github repo name)\n",
    "    ls\n",
    "    pip3 install -r requirements.txt\n",
    "    python3 app.py\n",
    "    Copy the public IPv4 DNS and paste in the browser:Port number \n",
    "            -- port number = 8080\n",
    "    nohup python3 app.py"
   ]
  },
  {
   "cell_type": "code",
   "execution_count": null,
   "id": "f6bb9767",
   "metadata": {},
   "outputs": [],
   "source": []
  }
 ],
 "metadata": {
  "kernelspec": {
   "display_name": "Python 3 (ipykernel)",
   "language": "python",
   "name": "python3"
  },
  "language_info": {
   "codemirror_mode": {
    "name": "ipython",
    "version": 3
   },
   "file_extension": ".py",
   "mimetype": "text/x-python",
   "name": "python",
   "nbconvert_exporter": "python",
   "pygments_lexer": "ipython3",
   "version": "3.9.13"
  }
 },
 "nbformat": 4,
 "nbformat_minor": 5
}
