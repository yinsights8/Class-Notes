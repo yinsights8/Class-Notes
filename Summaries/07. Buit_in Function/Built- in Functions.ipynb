{
 "cells": [
  {
   "cell_type": "markdown",
   "id": "1fb4694a",
   "metadata": {},
   "source": [
    "## 1. Built- in Functions"
   ]
  },
  {
   "cell_type": "markdown",
   "id": "5c56b29e",
   "metadata": {},
   "source": [
    "- 1. max() \n",
    "- 2. min()\n",
    "- 3. sum()\n",
    "- 4. print()\n",
    "- 5. int()\n",
    "- 6. float()\n",
    "- 7. str()\n",
    "- 8. list()\n",
    "- 9. set()\n",
    "- 10. tuple()\n",
    "- 11. dict()\n",
    "- 12. frozenset()\n",
    "- 13. len()\n",
    "- 14. type()\n",
    "- 15. id()\n",
    "- 16. sorted()\n",
    "- 17. reversed()\n",
    "- 18. bool()\n",
    "- 19. range()\n",
    "- 20. enumerate()\n",
    "- 21. complex()\n",
    "- 22. chr()\n",
    "- 23. ord()\n",
    "- 24. zip()\n",
    "- 25. map()\n",
    "- 24. filter()\n",
    "- 25. reduce()"
   ]
  },
  {
   "cell_type": "code",
   "execution_count": null,
   "id": "348dd52a",
   "metadata": {},
   "outputs": [],
   "source": []
  },
  {
   "cell_type": "markdown",
   "id": "b0763811",
   "metadata": {},
   "source": [
    "## 24. Zip() Function"
   ]
  },
  {
   "cell_type": "markdown",
   "id": "fec38bc9",
   "metadata": {},
   "source": [
    "- This is a built-in Funtions\n",
    "- it return the list of tuple\n",
    "- it takes can take as a arguments more than two any type of iterators, e.g = list, tuple, frosenset, set \n",
    "- syntax :- \n",
    "    - terator_constructor(zip(iterator, iterator, iterator ...etc))\n",
    "    \n",
    "    \n",
    "    - e.g = list(zip(iterator, iterator))\n",
    "    \n",
    "###### Note:- if one of the iterator is shorter than the other. then zip fucntion will only iterate till the the length of the shorter iterator. and remaining elements from the larger length iterator will be ignored \n",
    "\n",
    "###### Note:-  passing multiple iterators in a zip fucntion and converting it into dictionary will throw an error , because dictionary can have only one key and only one value."
   ]
  },
  {
   "cell_type": "code",
   "execution_count": null,
   "id": "ce96d488",
   "metadata": {},
   "outputs": [],
   "source": []
  },
  {
   "cell_type": "markdown",
   "id": "43c2651d",
   "metadata": {},
   "source": [
    "## 25. filter() Function:- use for filter the values"
   ]
  },
  {
   "cell_type": "markdown",
   "id": "4e236cc0",
   "metadata": {},
   "source": [
    "- This is an Built-in function\n",
    "- this function filter's the items or values\n",
    "- it takes function and a iterator as an arguments\n",
    "- syntax :\n",
    "    - iterator_constructor(filter(function , iterator))\n",
    "    \n",
    "    \n",
    "- function should not take a parameter as iterator, it should take  only one parameter number. this funtion will take one number  from the iterator then it goes into the function and then it will check that number can filterd or not \n",
    "\n",
    "\n",
    "\n",
    "###### Note:-  This fucntion dosen,t modify anything . just returns the  filtered the values "
   ]
  },
  {
   "cell_type": "code",
   "execution_count": null,
   "id": "a0169bc4",
   "metadata": {},
   "outputs": [],
   "source": []
  },
  {
   "cell_type": "markdown",
   "id": "19e37add",
   "metadata": {},
   "source": [
    "## 26. map() Functions :- Use to  modify the values of iterators"
   ]
  },
  {
   "cell_type": "markdown",
   "id": "51dab373",
   "metadata": {},
   "source": [
    "- It is a built in function \n",
    "- this fuction will modify or reflects the changes on the item's that are present in a iterable list\n",
    "- syntax:\n",
    "    - iterator_constructor(map(function, iterator))\n",
    "    \n",
    "###### Note:- It can take only one iterators and one function\n",
    "    \n",
    "   "
   ]
  },
  {
   "cell_type": "code",
   "execution_count": null,
   "id": "55f2a715",
   "metadata": {},
   "outputs": [],
   "source": []
  },
  {
   "cell_type": "markdown",
   "id": "f728c09c",
   "metadata": {},
   "source": [
    "## 27. reduce() Funtion :- use to "
   ]
  },
  {
   "cell_type": "raw",
   "id": "c1c3dd68",
   "metadata": {},
   "source": [
    "- The reduce() function accepts a function and a sequence and returns a single value calculated as follows:\n",
    "\n",
    "- Initially, the function is called with the first two items from the sequence and the result is returned.\n",
    "\n",
    "- The function is then called again with the result obtained in step 1 and the next value in the sequence. This process keeps repeating until there are items in the sequence."
   ]
  },
  {
   "cell_type": "markdown",
   "id": "462906d1",
   "metadata": {},
   "source": [
    "- syntax:- \n",
    "- first we need to import it from the module called functools\n",
    "    - from functools import reduce\n",
    "    \n",
    "    \n",
    "    - reduce(function, sequence[, initial]) -> value"
   ]
  },
  {
   "cell_type": "code",
   "execution_count": null,
   "id": "f06d1505",
   "metadata": {},
   "outputs": [],
   "source": []
  }
 ],
 "metadata": {
  "kernelspec": {
   "display_name": "Python 3 (ipykernel)",
   "language": "python",
   "name": "python3"
  },
  "language_info": {
   "codemirror_mode": {
    "name": "ipython",
    "version": 3
   },
   "file_extension": ".py",
   "mimetype": "text/x-python",
   "name": "python",
   "nbconvert_exporter": "python",
   "pygments_lexer": "ipython3",
   "version": "3.9.12"
  }
 },
 "nbformat": 4,
 "nbformat_minor": 5
}
