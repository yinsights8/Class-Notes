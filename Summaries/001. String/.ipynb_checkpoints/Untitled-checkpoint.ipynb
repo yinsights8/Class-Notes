{
 "cells": [
  {
   "cell_type": "markdown",
   "id": "3c6c7ad9",
   "metadata": {},
   "source": [
    "## 1. Capitalize()\n",
    "- It will Capitalize only first char of the string(Zero indexed char)\n",
    "- Syntax :\n",
    "    - String_name.capitalize()"
   ]
  },
  {
   "cell_type": "code",
   "execution_count": 1,
   "id": "e91e93a8",
   "metadata": {},
   "outputs": [
    {
     "data": {
      "text/plain": [
       "'Python and data science'"
      ]
     },
     "execution_count": 1,
     "metadata": {},
     "output_type": "execute_result"
    }
   ],
   "source": [
    "Str1 = \"python and data science\"\n",
    "Str1.capitalize()"
   ]
  },
  {
   "cell_type": "markdown",
   "id": "22c69b1e",
   "metadata": {},
   "source": [
    "## 2. Upper()\n",
    "- It will change all lower case char to upper case char\n",
    "- Syntax :\n",
    "    - String_name.upper()"
   ]
  },
  {
   "cell_type": "markdown",
   "id": "32b5bde0",
   "metadata": {},
   "source": [
    "## 3. lower()\n",
    "- It will convert string into lower case\n",
    "\n",
    "- Syntax :\n",
    "\n",
    "    - String_name.lower()"
   ]
  },
  {
   "cell_type": "markdown",
   "id": "b90dadaf",
   "metadata": {},
   "source": [
    "## 4. title()\n",
    "- It will capitalize the first char of each word in the upper case\n",
    "- Syntax :\n",
    "    - String_name.title()"
   ]
  },
  {
   "cell_type": "markdown",
   "id": "2956a41e",
   "metadata": {},
   "source": [
    "##  5 .swapcase()\n",
    "- This function will invert the string\n",
    "- means if the string is in caplital letter then new_string will be in small letter and vise vrsa"
   ]
  },
  {
   "cell_type": "code",
   "execution_count": 2,
   "id": "6de9432d",
   "metadata": {},
   "outputs": [
    {
     "data": {
      "text/plain": [
       "' \"YASH\": hOW aRE yOUR \"PRIYA\" hOW hAVE YOU bEEN dOING ?'"
      ]
     },
     "execution_count": 2,
     "metadata": {},
     "output_type": "execute_result"
    }
   ],
   "source": [
    "string = \" \\\"yash\\\": How Are Your \\\"priya\\\" How Have you Been Doing ?\"\n",
    "string.swapcase()"
   ]
  },
  {
   "cell_type": "markdown",
   "id": "5c902370",
   "metadata": {},
   "source": [
    "## 6. .lstrip()\n",
    "- Remove all leading spaces\n",
    "- meaning the the space before the string within a quote will be removed"
   ]
  },
  {
   "cell_type": "markdown",
   "id": "812e5763",
   "metadata": {},
   "source": [
    "## 7. .rstrip()\n",
    "- remove all the trailing whitespaces"
   ]
  },
  {
   "cell_type": "markdown",
   "id": "02287c57",
   "metadata": {},
   "source": [
    "## 8. .strip()\n",
    "- this function will ignore all the spaces that may present in leading and trailling\n",
    "- Note. this will not change the spaces that are present between words"
   ]
  },
  {
   "cell_type": "markdown",
   "id": "e57be8d2",
   "metadata": {},
   "source": [
    "## 9. .replace()\n",
    "- this function is used for replace old string to new string\n",
    "- syntax =\n",
    "    - string.replace(\"old_string\", \"new_string\", count)\n",
    "- however count is optional, and bydefault the value of count is 'all'"
   ]
  },
  {
   "cell_type": "code",
   "execution_count": 3,
   "id": "e42ce52b",
   "metadata": {},
   "outputs": [
    {
     "name": "stdout",
     "output_type": "stream",
     "text": [
      "yash dhakade how are you ?\n"
     ]
    },
    {
     "data": {
      "text/plain": [
       "'yAsh dhAkade how are you ?'"
      ]
     },
     "execution_count": 3,
     "metadata": {},
     "output_type": "execute_result"
    }
   ],
   "source": [
    "name = \"yash dhakade how are you ?\"\n",
    "print(name)\n",
    "name.replace(\"a\", \"A\", 2)"
   ]
  },
  {
   "cell_type": "code",
   "execution_count": null,
   "id": "28085ab0",
   "metadata": {},
   "outputs": [],
   "source": []
  },
  {
   "cell_type": "markdown",
   "id": "fbac312b",
   "metadata": {},
   "source": [
    "## 10. Count\n",
    "- It will return's a count of a specified characters or a substring from the string\n",
    "-syntax:\n",
    "    - string.count(substring,[start_index],[end_index])"
   ]
  },
  {
   "cell_type": "markdown",
   "id": "10e0fc81",
   "metadata": {},
   "source": [
    "## 11. index()\n",
    "- It will return the index position of the substring or a character from the string.\n",
    "- Syntax\n",
    "    - string.index(substring,[start_index],[end_index])"
   ]
  },
  {
   "cell_type": "markdown",
   "id": "572fb783",
   "metadata": {},
   "source": [
    "## 12. find()\n",
    "- Syntax\n",
    "    - string.find(substring,start_index,end_index)\n",
    "- If substring present = Return index of a substring\n",
    "- If substring absent = Return -1"
   ]
  },
  {
   "cell_type": "markdown",
   "id": "6114fcd3",
   "metadata": {},
   "source": [
    "## 13. split()\n",
    "- It will convert string to list\n",
    "- List = Its a collection of different data types or colection of heterogenious data types"
   ]
  },
  {
   "cell_type": "markdown",
   "id": "b466679c",
   "metadata": {},
   "source": [
    "## 14. join¶\n",
    "- list to string\n",
    "    - syntax = \"\".join(list)"
   ]
  },
  {
   "cell_type": "markdown",
   "id": "3dda69fd",
   "metadata": {},
   "source": [
    "## 15. endswith\n",
    "- It returns True/False values and used to check file extension.\n",
    "    - Variable_name.endswith(\"char\")"
   ]
  },
  {
   "cell_type": "markdown",
   "id": "933d4348",
   "metadata": {},
   "source": [
    "## 16. startswith\n",
    "- It returns True/False values and used to check file extension.\n",
    "    - Variable_name.startswith(\"char\")"
   ]
  },
  {
   "cell_type": "markdown",
   "id": "db03a136",
   "metadata": {},
   "source": [
    "## 17. isalpha()¶\n",
    "- Return True or False\n",
    "- Return True >> If string contains only alphabates\n",
    "- Alphabates >> a-z,A-Z(The`se are allowed char only)\n",
    "- Special char, dot and spaces (Not allowed char)"
   ]
  },
  {
   "cell_type": "markdown",
   "id": "010edb75",
   "metadata": {},
   "source": [
    "## 18. isdecimal()\n",
    "- Return True or False\n",
    "- Return True >> If string contains only digits(0-9)\n",
    "- Special char, dot and spaces (Not allowed char)"
   ]
  },
  {
   "cell_type": "markdown",
   "id": "96094426",
   "metadata": {},
   "source": [
    "## 19. isnumeric()\n",
    "- Return True or False\n",
    "- Return True >> If string contains digits, subscripts, superscripts and vulgar fraction(1/2,2/3)"
   ]
  },
  {
   "cell_type": "code",
   "execution_count": 9,
   "id": "c697dd0c",
   "metadata": {},
   "outputs": [
    {
     "data": {
      "text/plain": [
       "'½'"
      ]
     },
     "execution_count": 9,
     "metadata": {},
     "output_type": "execute_result"
    }
   ],
   "source": [
    "\"\\u00BD\""
   ]
  },
  {
   "cell_type": "code",
   "execution_count": 10,
   "id": "74a97299",
   "metadata": {},
   "outputs": [
    {
     "data": {
      "text/plain": [
       "'₂'"
      ]
     },
     "execution_count": 10,
     "metadata": {},
     "output_type": "execute_result"
    }
   ],
   "source": [
    "\"\\u2082\""
   ]
  },
  {
   "cell_type": "code",
   "execution_count": 7,
   "id": "9d944b94",
   "metadata": {},
   "outputs": [
    {
     "data": {
      "text/plain": [
       "True"
      ]
     },
     "execution_count": 7,
     "metadata": {},
     "output_type": "execute_result"
    }
   ],
   "source": [
    "str1 = \"\\u00BD\"\n",
    "str1.isnumeric()"
   ]
  },
  {
   "cell_type": "code",
   "execution_count": 8,
   "id": "31503155",
   "metadata": {},
   "outputs": [
    {
     "data": {
      "text/plain": [
       "True"
      ]
     },
     "execution_count": 8,
     "metadata": {},
     "output_type": "execute_result"
    }
   ],
   "source": [
    "\"\\u2082\".isnumeric()"
   ]
  },
  {
   "cell_type": "markdown",
   "id": "81f2652a",
   "metadata": {},
   "source": [
    "## 20. islower()\n",
    "- Return True or False\n",
    "- Return True >> If string contains all plphabates in lower case.\n",
    "- space and special char are allowed"
   ]
  },
  {
   "cell_type": "markdown",
   "id": "14534b4c",
   "metadata": {},
   "source": [
    "## 21. isupper()\n",
    "- Return True or False\n",
    "- Return True >> If string contains all alphabates in upper case.\n",
    "- space and special char are allowed"
   ]
  },
  {
   "cell_type": "markdown",
   "id": "7e0f462b",
   "metadata": {},
   "source": [
    "## 21. istitle()\n",
    "- Return True or False\n",
    "- Return True >> If string in title case.\n",
    "- space and special char are allowed"
   ]
  },
  {
   "cell_type": "markdown",
   "id": "8cfeadf4",
   "metadata": {},
   "source": [
    "## 24. isspace()\n",
    "- True >> If all char are space\n"
   ]
  },
  {
   "cell_type": "markdown",
   "id": "f0b6c4bf",
   "metadata": {},
   "source": [
    "## 25. zfill()\n",
    "zero filling"
   ]
  },
  {
   "cell_type": "code",
   "execution_count": 11,
   "id": "2ce6c205",
   "metadata": {},
   "outputs": [
    {
     "data": {
      "text/plain": [
       "6"
      ]
     },
     "execution_count": 11,
     "metadata": {},
     "output_type": "execute_result"
    }
   ],
   "source": [
    "string = \"Python\"\n",
    "len(string)"
   ]
  },
  {
   "cell_type": "code",
   "execution_count": 12,
   "id": "b56d90e5",
   "metadata": {},
   "outputs": [
    {
     "data": {
      "text/plain": [
       "'0000Python'"
      ]
     },
     "execution_count": 12,
     "metadata": {},
     "output_type": "execute_result"
    }
   ],
   "source": [
    "string.zfill(10)"
   ]
  },
  {
   "cell_type": "markdown",
   "id": "d1f45bc0",
   "metadata": {},
   "source": [
    "## 26. center()"
   ]
  },
  {
   "cell_type": "code",
   "execution_count": 16,
   "id": "a1b35f4d",
   "metadata": {},
   "outputs": [
    {
     "data": {
      "text/plain": [
       "4"
      ]
     },
     "execution_count": 16,
     "metadata": {},
     "output_type": "execute_result"
    }
   ],
   "source": [
    "string = \"Data\"\n",
    "len(string)"
   ]
  },
  {
   "cell_type": "code",
   "execution_count": 15,
   "id": "5200a4de",
   "metadata": {},
   "outputs": [
    {
     "name": "stdout",
     "output_type": "stream",
     "text": [
      " Data \n"
     ]
    }
   ],
   "source": [
    "print(string.center(6))"
   ]
  },
  {
   "cell_type": "code",
   "execution_count": null,
   "id": "32e0c9e8",
   "metadata": {},
   "outputs": [],
   "source": []
  }
 ],
 "metadata": {
  "kernelspec": {
   "display_name": "Python 3 (ipykernel)",
   "language": "python",
   "name": "python3"
  },
  "language_info": {
   "codemirror_mode": {
    "name": "ipython",
    "version": 3
   },
   "file_extension": ".py",
   "mimetype": "text/x-python",
   "name": "python",
   "nbconvert_exporter": "python",
   "pygments_lexer": "ipython3",
   "version": "3.9.12"
  }
 },
 "nbformat": 4,
 "nbformat_minor": 5
}
