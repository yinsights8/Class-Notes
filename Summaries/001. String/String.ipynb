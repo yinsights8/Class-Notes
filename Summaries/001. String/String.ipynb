{
 "cells": [
  {
   "cell_type": "markdown",
   "id": "ed11f754",
   "metadata": {},
   "source": [
    "# String\n",
    "- It is immutable data type\n",
    "- String is a collection of characters surrounded by single, double or tripple quote\n",
    "    - it is enclosed by '' or \"\" or \"\"\"\"\"\" qoute\n"
   ]
  },
  {
   "cell_type": "markdown",
   "id": "b9cd9f31",
   "metadata": {},
   "source": [
    "## 1. Capitalize()\n",
    "- It will Capitalize only first char of the string(Zero indexed char)\n",
    "- Syntax :\n",
    "    - String_name.capitalize()"
   ]
  },
  {
   "cell_type": "code",
   "execution_count": 1,
   "id": "3c3e3f93",
   "metadata": {},
   "outputs": [
    {
     "data": {
      "text/plain": [
       "'Python and data science'"
      ]
     },
     "execution_count": 1,
     "metadata": {},
     "output_type": "execute_result"
    }
   ],
   "source": [
    "Str1 = \"python and data science\"\n",
    "Str1.capitalize()"
   ]
  },
  {
   "cell_type": "markdown",
   "id": "50862d93",
   "metadata": {},
   "source": [
    "## 2. Upper()\n",
    "- It will change all lower case char to upper case char\n",
    "- Syntax :\n",
    "    - String_name.upper()"
   ]
  },
  {
   "cell_type": "markdown",
   "id": "860121b5",
   "metadata": {},
   "source": [
    "## 3. lower()\n",
    "- It will convert string into lower case\n",
    "\n",
    "- Syntax :\n",
    "\n",
    "    - String_name.lower()"
   ]
  },
  {
   "cell_type": "markdown",
   "id": "8c47e34a",
   "metadata": {},
   "source": [
    "## 4. title()\n",
    "- It will capitalize the first char of each word in the upper case\n",
    "- Syntax :\n",
    "    - String_name.title()"
   ]
  },
  {
   "cell_type": "markdown",
   "id": "bea70ba2",
   "metadata": {},
   "source": [
    "##  5 .swapcase()\n",
    "- This function will invert the string\n",
    "- means if the string is in caplital letter then new_string will be in small letter and vise vrsa"
   ]
  },
  {
   "cell_type": "code",
   "execution_count": 2,
   "id": "f2668282",
   "metadata": {},
   "outputs": [
    {
     "data": {
      "text/plain": [
       "' \"YASH\": hOW aRE yOUR \"PRIYA\" hOW hAVE YOU bEEN dOING ?'"
      ]
     },
     "execution_count": 2,
     "metadata": {},
     "output_type": "execute_result"
    }
   ],
   "source": [
    "string = \" \\\"yash\\\": How Are Your \\\"priya\\\" How Have you Been Doing ?\"\n",
    "string.swapcase()"
   ]
  },
  {
   "cell_type": "markdown",
   "id": "28ce7c14",
   "metadata": {},
   "source": [
    "## 6. .lstrip()\n",
    "- Remove all leading spaces\n",
    "- meaning the the space before the string within a quote will be removed"
   ]
  },
  {
   "cell_type": "markdown",
   "id": "433c5a1c",
   "metadata": {},
   "source": [
    "## 7. .rstrip()\n",
    "- remove all the trailing whitespaces"
   ]
  },
  {
   "cell_type": "markdown",
   "id": "1527ce0f",
   "metadata": {},
   "source": [
    "## 8. .strip()\n",
    "- this function will ignore all the spaces that may present in leading and trailling\n",
    "- Note. this will not change the spaces that are present between words"
   ]
  },
  {
   "cell_type": "markdown",
   "id": "e92391eb",
   "metadata": {},
   "source": [
    "## 9. .replace()\n",
    "- this function is used for replace old string to new string\n",
    "- syntax =\n",
    "    - string.replace(\"old_string\", \"new_string\", count)\n",
    "- however count is optional, and bydefault the value of count is 'all'"
   ]
  },
  {
   "cell_type": "code",
   "execution_count": 3,
   "id": "ea911c75",
   "metadata": {},
   "outputs": [
    {
     "name": "stdout",
     "output_type": "stream",
     "text": [
      "yash dhakade how are you ?\n"
     ]
    },
    {
     "data": {
      "text/plain": [
       "'yAsh dhAkade how are you ?'"
      ]
     },
     "execution_count": 3,
     "metadata": {},
     "output_type": "execute_result"
    }
   ],
   "source": [
    "name = \"yash dhakade how are you ?\"\n",
    "print(name)\n",
    "name.replace(\"a\", \"A\", 2)"
   ]
  },
  {
   "cell_type": "code",
   "execution_count": null,
   "id": "23e0fc9a",
   "metadata": {},
   "outputs": [],
   "source": []
  },
  {
   "cell_type": "markdown",
   "id": "489c83cf",
   "metadata": {},
   "source": [
    "## 10. Count\n",
    "- It will return's a count of a specified characters or a substring from the string\n",
    "-syntax:\n",
    "    - string.count(substring,[start_index],[end_index])"
   ]
  },
  {
   "cell_type": "markdown",
   "id": "90671589",
   "metadata": {},
   "source": [
    "## 11. index()\n",
    "- It will return the index position of the substring or a character from the string.\n",
    "- Syntax\n",
    "    - string.index(substring,[start_index],[end_index])"
   ]
  },
  {
   "cell_type": "markdown",
   "id": "7b8cd8e7",
   "metadata": {},
   "source": [
    "## 12. find()\n",
    "- Syntax\n",
    "    - string.find(substring,start_index,end_index)\n",
    "- If substring present = Return index of a substring\n",
    "- If substring absent = Return -1"
   ]
  },
  {
   "cell_type": "markdown",
   "id": "f7ded011",
   "metadata": {},
   "source": [
    "## 13. split()\n",
    "- It will convert string to list\n",
    "- List = Its a collection of different data types or colection of heterogenious data types"
   ]
  },
  {
   "cell_type": "markdown",
   "id": "4fa2099b",
   "metadata": {},
   "source": [
    "## 14. join¶\n",
    "- list to string\n",
    "    - syntax = \"\".join(list)"
   ]
  },
  {
   "cell_type": "markdown",
   "id": "6d5b7ae6",
   "metadata": {},
   "source": [
    "## 15. endswith\n",
    "- It returns True/False values and used to check file extension.\n",
    "    - Variable_name.endswith(\"char\")"
   ]
  },
  {
   "cell_type": "markdown",
   "id": "a9e71644",
   "metadata": {},
   "source": [
    "## 16. startswith\n",
    "- It returns True/False values and used to check file extension.\n",
    "    - Variable_name.startswith(\"char\")"
   ]
  },
  {
   "cell_type": "markdown",
   "id": "b9615032",
   "metadata": {},
   "source": [
    "## 17. isalpha()¶\n",
    "- Return True or False\n",
    "- Return True >> If string contains only alphabates\n",
    "- Alphabates >> a-z,A-Z(The`se are allowed char only)\n",
    "- Special char, dot and spaces (Not allowed char)"
   ]
  },
  {
   "cell_type": "markdown",
   "id": "9978e9fa",
   "metadata": {},
   "source": [
    "## 18. isdecimal()\n",
    "- Return True or False\n",
    "- Return True >> If string contains only digits(0-9)\n",
    "- Special char, dot and spaces (Not allowed char)"
   ]
  },
  {
   "cell_type": "markdown",
   "id": "c155a1b0",
   "metadata": {},
   "source": [
    "## 19. isnumeric()\n",
    "- Return True or False\n",
    "- Return True >> If string contains digits, subscripts, superscripts and vulgar fraction(1/2,2/3)"
   ]
  },
  {
   "cell_type": "code",
   "execution_count": 9,
   "id": "451b22b6",
   "metadata": {},
   "outputs": [
    {
     "data": {
      "text/plain": [
       "'½'"
      ]
     },
     "execution_count": 9,
     "metadata": {},
     "output_type": "execute_result"
    }
   ],
   "source": [
    "\"\\u00BD\""
   ]
  },
  {
   "cell_type": "code",
   "execution_count": 10,
   "id": "3912a8d7",
   "metadata": {},
   "outputs": [
    {
     "data": {
      "text/plain": [
       "'₂'"
      ]
     },
     "execution_count": 10,
     "metadata": {},
     "output_type": "execute_result"
    }
   ],
   "source": [
    "\"\\u2082\""
   ]
  },
  {
   "cell_type": "code",
   "execution_count": 7,
   "id": "2e45327d",
   "metadata": {},
   "outputs": [
    {
     "data": {
      "text/plain": [
       "True"
      ]
     },
     "execution_count": 7,
     "metadata": {},
     "output_type": "execute_result"
    }
   ],
   "source": [
    "str1 = \"\\u00BD\"\n",
    "str1.isnumeric()"
   ]
  },
  {
   "cell_type": "code",
   "execution_count": 8,
   "id": "5dbd3647",
   "metadata": {},
   "outputs": [
    {
     "data": {
      "text/plain": [
       "True"
      ]
     },
     "execution_count": 8,
     "metadata": {},
     "output_type": "execute_result"
    }
   ],
   "source": [
    "\"\\u2082\".isnumeric()"
   ]
  },
  {
   "cell_type": "markdown",
   "id": "03d2d034",
   "metadata": {},
   "source": [
    "## 20. islower()\n",
    "- Return True or False\n",
    "- Return True >> If string contains all plphabates in lower case.\n",
    "- space and special char are allowed"
   ]
  },
  {
   "cell_type": "markdown",
   "id": "12242012",
   "metadata": {},
   "source": [
    "## 21. isupper()\n",
    "- Return True or False\n",
    "- Return True >> If string contains all alphabates in upper case.\n",
    "- space and special char are allowed"
   ]
  },
  {
   "cell_type": "markdown",
   "id": "80589355",
   "metadata": {},
   "source": [
    "## 21. istitle()\n",
    "- Return True or False\n",
    "- Return True >> If string in title case.\n",
    "- space and special char are allowed"
   ]
  },
  {
   "cell_type": "markdown",
   "id": "7921d7cf",
   "metadata": {},
   "source": [
    "## 24. isspace()\n",
    "- True >> If all char are space\n"
   ]
  },
  {
   "cell_type": "markdown",
   "id": "612bf004",
   "metadata": {},
   "source": [
    "## 25. zfill()\n",
    "zero filling"
   ]
  },
  {
   "cell_type": "code",
   "execution_count": 11,
   "id": "632e5e24",
   "metadata": {},
   "outputs": [
    {
     "data": {
      "text/plain": [
       "6"
      ]
     },
     "execution_count": 11,
     "metadata": {},
     "output_type": "execute_result"
    }
   ],
   "source": [
    "string = \"Python\"\n",
    "len(string)"
   ]
  },
  {
   "cell_type": "code",
   "execution_count": 12,
   "id": "0999a24a",
   "metadata": {},
   "outputs": [
    {
     "data": {
      "text/plain": [
       "'0000Python'"
      ]
     },
     "execution_count": 12,
     "metadata": {},
     "output_type": "execute_result"
    }
   ],
   "source": [
    "string.zfill(10)"
   ]
  },
  {
   "cell_type": "markdown",
   "id": "b6a631e9",
   "metadata": {},
   "source": [
    "## 26. center()"
   ]
  },
  {
   "cell_type": "code",
   "execution_count": 16,
   "id": "a4f91e6f",
   "metadata": {},
   "outputs": [
    {
     "data": {
      "text/plain": [
       "4"
      ]
     },
     "execution_count": 16,
     "metadata": {},
     "output_type": "execute_result"
    }
   ],
   "source": [
    "string = \"Data\"\n",
    "len(string)"
   ]
  },
  {
   "cell_type": "code",
   "execution_count": 15,
   "id": "4b940f4f",
   "metadata": {},
   "outputs": [
    {
     "name": "stdout",
     "output_type": "stream",
     "text": [
      " Data \n"
     ]
    }
   ],
   "source": [
    "print(string.center(6))"
   ]
  },
  {
   "cell_type": "code",
   "execution_count": null,
   "id": "d4d0b2d7",
   "metadata": {},
   "outputs": [],
   "source": []
  }
 ],
 "metadata": {
  "kernelspec": {
   "display_name": "Python 3 (ipykernel)",
   "language": "python",
   "name": "python3"
  },
  "language_info": {
   "codemirror_mode": {
    "name": "ipython",
    "version": 3
   },
   "file_extension": ".py",
   "mimetype": "text/x-python",
   "name": "python",
   "nbconvert_exporter": "python",
   "pygments_lexer": "ipython3",
   "version": "3.10.8"
  }
 },
 "nbformat": 4,
 "nbformat_minor": 5
}
