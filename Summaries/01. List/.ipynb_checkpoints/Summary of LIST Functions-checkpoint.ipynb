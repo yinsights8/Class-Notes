{
 "cells": [
  {
   "cell_type": "markdown",
   "id": "fa3bec71",
   "metadata": {},
   "source": [
    "# 1. Function in list\n",
    "\n",
    "#### 1. new_list.append(value)\n",
    "- adds the element at the end of the list \n",
    "- only one item can be add\n",
    "- if list passed, it returns the nested list  e,g list = [1,2,3,[4,5,6,[7,8,9]]]\n",
    "- inplace command\n",
    "\n",
    "#### 2. new_list.extend((list))\n",
    "- mearge or extend the list size\n",
    "- can accept only one iterable item\n",
    "- when list passed in extend, it returns normal list e,g list = [1,2,3,4,5,6,7]\n",
    "\n",
    "###### Note  : -  if extend list with dictionary then  bydefault it will only extend keys() not values, in this case we have to extend it by dict_name.values()\n"
   ]
  },
  {
   "cell_type": "markdown",
   "id": "9bae5096",
   "metadata": {},
   "source": [
    "\n",
    "\n",
    "#### 3. list_name.insert(index, value)\n",
    "- values can be add or update in a spacified index position in the list\n",
    "- inplace command"
   ]
  },
  {
   "cell_type": "markdown",
   "id": "6b8e2697",
   "metadata": {},
   "source": [
    "## 2. Delete or Remove items from the list\n",
    "\n",
    "#### 1. list_name.remove(item)\n",
    "- inplace command\n",
    "- this method will remove that perticular item from the list\n",
    "\n",
    "#### 2. list_name.pop(index_num)\n",
    "- this method is not inplace command \n",
    "- we can store this modified list into the different variable\n",
    "- by default the value is -1\n",
    "- it is use for remove the item from the list\n",
    "#### 3. del  list_name[index_num]\n",
    "- this keyword works on the index values of items\n",
    "- inplace command\n",
    "\n",
    "#### 4. list_name.clear()\n",
    "- inplace command\n",
    "- delete the all the items from the list and returns the blank list"
   ]
  },
  {
   "cell_type": "code",
   "execution_count": null,
   "id": "d469449d",
   "metadata": {},
   "outputs": [],
   "source": []
  },
  {
   "cell_type": "markdown",
   "id": "17b19229",
   "metadata": {},
   "source": [
    "# 3. sorting a list in Assending and Dessending Order\n",
    "\n",
    "#### 1. list_name.sort()\n",
    "- this method use for arrenge the items or values  in alphabetical or accending order \n",
    "- inplace command (means scope is limited)\n",
    "- if the list is holdeing a int and str type values then there will be a an error called TypeError\n",
    "\n",
    "\n",
    "#### 2. list_name. sort( (reverse = True) )\n",
    "- this method use for arreng the list of item in deccending order\n",
    "- inplace command (means scope is limited)\n",
    "- if the list is holdeing a int and str type values then there will be a an error called TypeError\n",
    "\n",
    "#### 3.  sorted(list_name)\n",
    "- not a inplace command (scope is no limited/ can save the items into different variable)\n",
    "- if the list is holdeing a int and str type values then there will be a an error called TypeError\n",
    "- sorted method tuple can also sort but it will automatically change the type of the tuple i.e it will convert tupel into list"
   ]
  },
  {
   "cell_type": "code",
   "execution_count": 17,
   "id": "eb7ba402",
   "metadata": {},
   "outputs": [],
   "source": []
  },
  {
   "cell_type": "markdown",
   "id": "f2726358",
   "metadata": {},
   "source": [
    "# 4. Reversing a list \n",
    "\n",
    "#### 1. list_name[ :: -1]\n",
    "\n",
    "\n",
    "- this will reverse the list\n",
    "\n",
    "#### 2. list_name.reverse()\n",
    "- this will reverse the string\n",
    "- inplace command\n",
    "\n",
    "#### 3. reversed(list_name)\n",
    "- this will reverse the string\n",
    "- NOT inplace command"
   ]
  },
  {
   "cell_type": "markdown",
   "id": "eb398f3b",
   "metadata": {},
   "source": [
    "# 5.  countig and index\n",
    "\n",
    "#### 1. list_name.index(char/item)\n",
    "- The index() method returns the position at the first occurrence of the specified value.\n",
    "- this will return the INDEX NUMBER of that specified value\n",
    "- inplace command\n",
    "\n",
    "#### 2. list_name.count(chr/item)\n",
    "- returns the number of occurences of a item\n",
    "- this function will return 0 if the item is not present in the list"
   ]
  },
  {
   "cell_type": "code",
   "execution_count": null,
   "id": "7548fd61",
   "metadata": {},
   "outputs": [],
   "source": []
  },
  {
   "cell_type": "markdown",
   "id": "436926c8",
   "metadata": {},
   "source": [
    "# 6.  Built in functions\n",
    "\n",
    "### iterator : - it is nothing but a set of values or set of data types e.g list, tuple, set etc...\n",
    "\n",
    "#### 1. max(iterator)\n",
    "- This function will return the maximum value which are present within a string\n",
    "- Not inplace function\n",
    "\n",
    "#### 2. min(iterator)\n",
    "- This funciton will return the minumum value of the of the iterator\n",
    "- Not inplace function\n",
    "\n",
    "#### 3. sum(iterator)\n",
    "\n",
    "- this function will returns the addition of the iterator\n",
    "- not inplace command"
   ]
  },
  {
   "cell_type": "markdown",
   "id": "b2595e20",
   "metadata": {},
   "source": [
    "# 7.  nested list \n",
    "- it is a list within a list\n",
    "- e.g = [1,2,3, [4,5,6], [7,8,9,[10,11,12]]]"
   ]
  },
  {
   "cell_type": "markdown",
   "id": "1210c8a9",
   "metadata": {},
   "source": [
    "# 8. copy"
   ]
  },
  {
   "cell_type": "markdown",
   "id": "43651820",
   "metadata": {},
   "source": [
    "### list_name.copy()\n",
    "\n",
    "- The copy() method returns a copy of the specified list.\n",
    "\n",
    "### Shallow copy\n",
    "- syntax \n",
    "  - list_name.copy()\n",
    "- Shallow Copy stores the references of objects to the original memory address.\n",
    "- Shallow Copy reflects changes made to the new/copied object in the original object. if there is a nested list and its  element.\n",
    "- shallow copy dosen't reflects changes made to the new/copied objects in the original object. if it is not a nested element or list\n",
    "\n",
    "### DeepCopy\n",
    "- syntax\n",
    "  - var = copy.deepcopy(list1)\n",
    "- Deep copy stores copies of the object's value.\n",
    "- Deep copy doesn't reflect changes made to the new/copied object in the original object."
   ]
  },
  {
   "cell_type": "code",
   "execution_count": null,
   "id": "a169da70",
   "metadata": {},
   "outputs": [],
   "source": []
  },
  {
   "cell_type": "markdown",
   "id": "91170a81",
   "metadata": {},
   "source": [
    "# List comprehension \n",
    "\n",
    "- syntax:- \n",
    "   - new_list = [ new_item for item in list ]\n",
    "   \n",
    "   - new_list = [new_item for item in list if condition]\n",
    "   - new_list = [new_ item  if  condition  else  item  for  item  in  list]"
   ]
  },
  {
   "cell_type": "code",
   "execution_count": 1,
   "id": "8debb232",
   "metadata": {},
   "outputs": [
    {
     "data": {
      "text/plain": [
       "44"
      ]
     },
     "execution_count": 1,
     "metadata": {},
     "output_type": "execute_result"
    }
   ],
   "source": [
    "lis = [1,2,44,5,6,8]\n",
    "a= max(lis)\n",
    "a"
   ]
  },
  {
   "cell_type": "code",
   "execution_count": null,
   "id": "8dc17afa",
   "metadata": {},
   "outputs": [],
   "source": []
  }
 ],
 "metadata": {
  "kernelspec": {
   "display_name": "Python 3 (ipykernel)",
   "language": "python",
   "name": "python3"
  },
  "language_info": {
   "codemirror_mode": {
    "name": "ipython",
    "version": 3
   },
   "file_extension": ".py",
   "mimetype": "text/x-python",
   "name": "python",
   "nbconvert_exporter": "python",
   "pygments_lexer": "ipython3",
   "version": "3.9.12"
  }
 },
 "nbformat": 4,
 "nbformat_minor": 5
}
