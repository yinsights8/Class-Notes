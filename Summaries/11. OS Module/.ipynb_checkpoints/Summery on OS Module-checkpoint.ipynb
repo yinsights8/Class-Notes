{
 "cells": [
  {
   "cell_type": "markdown",
   "id": "c9526068",
   "metadata": {},
   "source": [
    "## Os Module"
   ]
  },
  {
   "cell_type": "markdown",
   "id": "0e5495c8",
   "metadata": {},
   "source": [
    "- it will provide the ability to work with operating system(Task)\n",
    "\n",
    "    - create a file \n",
    "    - create a folder\n",
    "    - delete folder \n",
    "    - delete file\n",
    "    - move a folder\n",
    "    - copy \n",
    "    - check path/ working path\n",
    "    \n",
    "- we import os module \n",
    "        - import os"
   ]
  },
  {
   "cell_type": "markdown",
   "id": "17d07647",
   "metadata": {},
   "source": [
    "### 1. .rename()\n",
    "- This method will rename the name of existing file\n",
    "- syntax:- \n",
    "      os.rename(old_file_name, new_file_name)\n",
    "      \n",
    "###### Note :- if the file is not present in the directory then this will through an FileNotFoundError"
   ]
  },
  {
   "cell_type": "markdown",
   "id": "71edb5dc",
   "metadata": {},
   "source": [
    "### 2. .remove()\n",
    "\n",
    "- This method will delete or remove the file from the location \n",
    "- syntax :- \n",
    "        os.remove(file_name)"
   ]
  },
  {
   "cell_type": "markdown",
   "id": "75095648",
   "metadata": {},
   "source": [
    "### 3. .exists()\n",
    "- This method will check the specified file is present in the directory or not \n",
    "- This function of os module is also use for check the condition which is weather the file is presesnt in the given location or not\n",
    "- Syntax:-\n",
    "     - os.path.exists(file_name)\n",
    "     \n",
    "     \n",
    "     \n",
    "- This will return boolean values\n",
    "    - if file exists()\n",
    "        - True\n",
    "    - if file not exists()\n",
    "        - False"
   ]
  },
  {
   "cell_type": "code",
   "execution_count": null,
   "id": "271d8037",
   "metadata": {},
   "outputs": [],
   "source": []
  }
 ],
 "metadata": {
  "kernelspec": {
   "display_name": "Python 3 (ipykernel)",
   "language": "python",
   "name": "python3"
  },
  "language_info": {
   "codemirror_mode": {
    "name": "ipython",
    "version": 3
   },
   "file_extension": ".py",
   "mimetype": "text/x-python",
   "name": "python",
   "nbconvert_exporter": "python",
   "pygments_lexer": "ipython3",
   "version": "3.9.12"
  }
 },
 "nbformat": 4,
 "nbformat_minor": 5
}
