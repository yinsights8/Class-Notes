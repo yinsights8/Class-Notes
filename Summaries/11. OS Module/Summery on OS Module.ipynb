{
 "cells": [
  {
   "cell_type": "markdown",
   "id": "c9526068",
   "metadata": {},
   "source": [
    "## Os Module"
   ]
  },
  {
   "cell_type": "markdown",
   "id": "0e5495c8",
   "metadata": {},
   "source": [
    "- it will provide the ability to work with operating system(Task)\n",
    "\n",
    "    - create a file \n",
    "    - create a folder\n",
    "    - delete folder \n",
    "    - delete file\n",
    "    - move a folder\n",
    "    - copy \n",
    "    - check path/ working path\n",
    "    \n",
    "- we import os module \n",
    "        - import os"
   ]
  },
  {
   "cell_type": "markdown",
   "id": "17d07647",
   "metadata": {},
   "source": [
    "### 1. .rename()\n",
    "- This method will rename the name of existing file\n",
    "- syntax:- \n",
    "      os.rename(old_file_name, new_file_name)\n",
    "      \n",
    "###### Note :- if the file is not present in the directory then this will through an FileNotFoundError"
   ]
  },
  {
   "cell_type": "markdown",
   "id": "71edb5dc",
   "metadata": {},
   "source": [
    "### 2. .remove()\n",
    "\n",
    "- This method will delete or remove the file from the location \n",
    "- syntax :- \n",
    "        os.remove(file_name)"
   ]
  },
  {
   "cell_type": "markdown",
   "id": "75095648",
   "metadata": {},
   "source": [
    "### 3. .exists()\n",
    "- This method will check the specified file is present in the directory or not \n",
    "- This function of os module is also use for check the condition which is weather the file is presesnt in the given location or not\n",
    "- Syntax:-\n",
    "     - os.path.exists(file_name)\n",
    "     \n",
    "     \n",
    "     \n",
    "- This will return boolean values\n",
    "    - if file exists()\n",
    "        - True\n",
    "    - if file not exists()\n",
    "        - False"
   ]
  },
  {
   "cell_type": "markdown",
   "id": "c5bb6d9e",
   "metadata": {},
   "source": [
    "### 3. mkdir()\n",
    "\n",
    "- syntax :- \n",
    "      - os.mkdir(\"folder_name\")\n",
    "      - os.mkdir(\"folder_path\")\n",
    "- this method is use to create a folder\n",
    "- folder_path - location where you want to make a dirctory\n",
    "- folder_name = spefify the folder name"
   ]
  },
  {
   "cell_type": "markdown",
   "id": "579cc533",
   "metadata": {},
   "source": [
    "### 4. .getcwd()\n",
    "- syntax - \n",
    "        - os.getcwd()\n",
    "- it returns the current working location of the directory"
   ]
  },
  {
   "cell_type": "markdown",
   "id": "605cc312",
   "metadata": {},
   "source": [
    "### 5. .rmdir()\n",
    "\n",
    "- syntax :- \n",
    "        - os.rmdir(\"folder_name\")\n",
    "        \n",
    "- this method is use to delete empty folder\n",
    "\n",
    "###### NOTE:- If the folder is not empty then it will through an error"
   ]
  },
  {
   "cell_type": "markdown",
   "id": "bef30eab",
   "metadata": {},
   "source": [
    "### 9. .listdir()\n",
    "- syntax - \n",
    "       - os.listdir(path=\"path_location\")\n",
    "- This method is use for to list the files and directories"
   ]
  },
  {
   "cell_type": "markdown",
   "id": "37056c88",
   "metadata": {},
   "source": [
    "### 10. .makedirs()\n",
    "- sytax - \n",
    "        - os.makedirs(folder_path)\n",
    "- this method will create folders inside a folders"
   ]
  },
  {
   "cell_type": "markdown",
   "id": "4956b0a9",
   "metadata": {},
   "source": [
    "### 11. os.chdir()\n",
    "- syntax - \n",
    "        - os.chdir(\"path\")\n",
    "- This method will change the location of the path"
   ]
  },
  {
   "cell_type": "markdown",
   "id": "066203d1",
   "metadata": {},
   "source": [
    "### 12. . path.join()\n",
    "- syntax - \n",
    "        - os.path.join(path, folder)\n",
    "- this method will join the folder to its path\n",
    "- this is similarlly to concatenation"
   ]
  },
  {
   "cell_type": "markdown",
   "id": "d195d10a",
   "metadata": {},
   "source": [
    "### 13. shutil\n",
    "\n",
    "- This is a different module\n",
    "- syntax -\n",
    "        - shutil.rmtree(folder_path)\n",
    "- this method will delete the folder which contains the files\n",
    "\n",
    "###### NOTE:- This method will delete a folder which contain data or without data "
   ]
  },
  {
   "cell_type": "code",
   "execution_count": null,
   "id": "adf5d14e",
   "metadata": {},
   "outputs": [],
   "source": []
  }
 ],
 "metadata": {
  "kernelspec": {
   "display_name": "Python 3 (ipykernel)",
   "language": "python",
   "name": "python3"
  },
  "language_info": {
   "codemirror_mode": {
    "name": "ipython",
    "version": 3
   },
   "file_extension": ".py",
   "mimetype": "text/x-python",
   "name": "python",
   "nbconvert_exporter": "python",
   "pygments_lexer": "ipython3",
   "version": "3.10.8"
  }
 },
 "nbformat": 4,
 "nbformat_minor": 5
}
