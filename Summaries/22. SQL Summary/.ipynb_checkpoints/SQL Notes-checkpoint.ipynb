{
 "cells": [
  {
   "cell_type": "markdown",
   "id": "1c44a65e",
   "metadata": {},
   "source": [
    "https://www.javatpoint.com/dbms-sql-command"
   ]
  },
  {
   "cell_type": "markdown",
   "id": "c423c0d8",
   "metadata": {},
   "source": [
    "### SQL | DDL, DQL, DML, DCL and TCL Commands"
   ]
  },
  {
   "cell_type": "raw",
   "id": "3d233672",
   "metadata": {},
   "source": [
    "Structured Query Language(SQL) as we all know is the database language by the use of which we can perform certain operations on the existing database and also we can use this language to create a database. SQL uses certain commands like Create, Drop, Insert, etc. to carry out the required tasks. \n",
    "\n",
    "These SQL commands are mainly categorized into five categories as: "
   ]
  },
  {
   "cell_type": "raw",
   "id": "30858cb4",
   "metadata": {},
   "source": [
    "DDL – Data Definition Language\n",
    "DQL – Data Query Language\n",
    "DML – Data Manipulation Language\n",
    "DCL – Data Control Language\n",
    " TCL – Transaction Control Language"
   ]
  },
  {
   "attachments": {
    "image.png": {
     "image/png": "[encoded data removed]"
    }
   },
   "cell_type": "markdown",
   "id": "a7db591b",
   "metadata": {},
   "source": [
    "![image.png](attachment:image.png)"
   ]
  },
  {
   "cell_type": "raw",
   "id": "55dc335c",
   "metadata": {},
   "source": []
  },
  {
   "cell_type": "code",
   "execution_count": null,
   "id": "62dbc19d",
   "metadata": {},
   "outputs": [],
   "source": [
    "-- SQL : structured query language\n",
    "-- non procedural programming language\n",
    "-- domain specific\n",
    "-- non case sensitive\n",
    "-- syntax, each query should end with ;\n",
    "\n",
    "-- Types of commands:\n",
    "-- DDL: create, alter,truncate,drop -- structure\n",
    "-- DML: insert,update,delete   -- data\n",
    "-- DCL: grant,revoke\n",
    "-- TCL: commit,rollback,savepoint\n",
    "-- DQL: SELECT\n",
    "\n",
    "-- goal of DBMS:\n",
    "-- to store and manage the data\n",
    "-- to read data\n",
    "-- to get the data in dataframes\n",
    "\n",
    "-- DDL :\n",
    "-- CREATE :\n",
    "-- databases: database : tables\n",
    "-- create database\n",
    "-- create database db_name;\n",
    "example\n",
    "    - create database db_aug;\n",
    "    - show databases;\n",
    "\n",
    "-- use db_name;\n",
    "use db_aug;\n",
    "show tables;\n",
    "\n",
    "-- create table\n",
    "/*\n",
    "emp : table \n",
    "emp_id,emp_name,salary,loc \n",
    "*/\n",
    "-- create table table_name(column_name1 datatypes,column_name2 datatypes);\n",
    "create table emp(emp_id int,emp_name varchar(10),salary int,loc varchar(20)); -- table definition\n",
    "\n",
    "-- varchar(size): alphanumeric values,variable length,neha\n",
    "-- char(size)   : alphanumeric values,fixed length, \n",
    "\n",
    "show tables;\n",
    "\n",
    "-- ALTER\n",
    "/*\n",
    "emp : table \n",
    "emp_id,emp_name,salary,loc,contact\n",
    "*/\n",
    "-- add column\n",
    "-- rename column\n",
    "-- dataype and size change\n",
    "-- remove column\n",
    "\n",
    "-- 1. add column\n",
    "-- alter table table_name ADD COLUMN column_definition;\n",
    "alter table emp ADD COLUMN contact int;\n",
    "\n",
    "-- row_id at first\n",
    "alter table emp ADD COLUMN row_id int FIRST; \n",
    "\n",
    "-- gender after emp_name\n",
    "alter table emp ADD COLUMN gender char(1) AFTER emp_name;\n",
    "\n",
    "-- describe table\n",
    "-- desc table_name;\n",
    "DESC emp;\n",
    "show create table emp;\n",
    "\n",
    "-- 2.modify column\n",
    "alter table emp MODIFY COLUMN contact varchar(10);\n",
    "alter table emp MODIFY COLUMN emp_name varchar(15);\n",
    "\n",
    "-- 3. rename column\n",
    "alter table emp RENAME COLUMN contact to contact_info;\n",
    "alter table emp rename to emp_data;\n",
    "desc emp_data;\n",
    "\n",
    "-- 4. remove column\n",
    "alter table emp_data DROP COLUMN contact_info;\n",
    "alter table emp_data DROP COLUMN row_id,DROP COLUMN gender;\n",
    "\n",
    "alter table emp_data add column contact int, add column gender char(1);\n",
    "\n",
    "-- TRUNCATE : delete entire data from a table\n",
    "select * from db_emp.tbl1;\n",
    "-- truncate table table_name;\n",
    "truncate table db_emp.tbl1;\n",
    "\n",
    "desc db_emp.tbl1;\n",
    "\n",
    "-- DROP : delete data as well as structure of the table\n",
    "DROP TABLE emp_data;\n",
    "DROP TABLE db_emp.tbl1;\n",
    "DROP DATABASE db_aug;\n",
    "\n",
    "-- DML: insert,update,delete\n",
    "-- DQL: select\n",
    "\n",
    "-- CRUD : create data(insert),read (select),update(update),delete (delete)\n",
    "create database stud_info;\n",
    "use stud_info;\n",
    "create table stud_info.student(rollno int,stud_name varchar(10),gender char(1),\n",
    "cgpa int, branch varchar(20));\n",
    "desc student;\n",
    "\n",
    "-- INSERT DATA: insert data into a table\n",
    "-- insert into table_name (column names) values (set of values);\n",
    "INSERT INTO student (rollno,stud_name,gender,cgpa,branch) values (101,'rahul','M',8,'entc');\n",
    "INSERT INTO student values (102,'rohit','M',null,'mech');\n",
    "INSERT INTO student (rollno,stud_name,gender,cgpa) values (103,'snehal','F',7);\n",
    "\n",
    "INSERT INTO student values(104,'dhiraj','M',6,'comp'),\n",
    "\t\t\t\t\t\t  (105,'akash','M',9,'comp');\n",
    "\n",
    "-- READ DATA :\n",
    "-- select : the no of columns \n",
    "-- * : represents all columns \n",
    "-- from : specify a data source\n",
    "\n",
    "select * from student; -- all columns ,all rows\n",
    "select rollno,branch from student; -- specific columns, all rows\n",
    "\n",
    "-- all columns of specific rows\n",
    "-- where clause : to read,update or delete particular rows of a table\n",
    "\n",
    "select * from student where rollno=104; \n",
    "\n",
    "-- specific columns of this row above\n",
    "select stud_name,cgpa from student where rollno=104;\n",
    "-- a=b,c \n",
    "\n",
    "/*\n",
    "= : equal to\n",
    "> : greater than\n",
    ">=: greater than equal to\n",
    "< : less than\n",
    "<= : less than equal to\n",
    "!= : not euqal to\n",
    "IN : specifiy multiple possible values\n",
    "BETWEEN : specify a range of value\n",
    "IS NULL : to check for null values in a column\n",
    "*/"
   ]
  },
  {
   "cell_type": "markdown",
   "id": "e98495ba",
   "metadata": {},
   "source": [
    "# Features of Sql Language\n",
    "- SQl :- Structured Query Language\n",
    "- Non procedural language\n",
    "- Domain Specific\n",
    "- non case sensitive\n",
    "- each querry should end with semicolen (;)"
   ]
  },
  {
   "cell_type": "markdown",
   "id": "6ed3e11f",
   "metadata": {},
   "source": [
    "## Goal of the SQL \n",
    "- goal of DBMS:\n",
    "- to store and manage the data\n",
    "- to read data\n",
    "- to get the data in dataframes"
   ]
  },
  {
   "cell_type": "markdown",
   "id": "45e7aaf2",
   "metadata": {},
   "source": [
    "###  sizes\n",
    "- int\n",
    "- varchar(size): alphanumeric values,variable length,neha\n",
    "- char(size)   : alphanumeric values,fixed length"
   ]
  },
  {
   "cell_type": "markdown",
   "id": "5040ffa4",
   "metadata": {},
   "source": [
    "# Types of commands\n",
    "- DDL - (structure)\n",
    "    - CREATE \n",
    "    - ALTER\n",
    "    - TRUNCATE \n",
    "    - DROP "
   ]
  },
  {
   "cell_type": "markdown",
   "id": "b6c2d3ea",
   "metadata": {},
   "source": [
    "# 1. DDL - (Data Defination Language)\n",
    "1. Data Definition Language (DDL)\n",
    "- DDL changes the structure of the table like creating a table, deleting a table, altering a table, etc.\n",
    "\n",
    "\n",
    "- All the command of DDL are auto-committed that means it permanently save all the changes in the database."
   ]
  },
  {
   "cell_type": "raw",
   "id": "ec484c8e",
   "metadata": {},
   "source": [
    "- CREATE: \n",
    "    This command is used to create the database or its objects (like table, index, function, views, store procedure, and triggers).\n",
    "- DROP: \n",
    "    This command is used to delete objects from the database.\n",
    "- ALTER: \n",
    "    This is used to alter or modify,add,remove, the structure of the database.\n",
    "- TRUNCATE: \n",
    "    This is used to remove all records from a table, including all spaces allocated for the records are removed.\n",
    "- COMMENT: \n",
    "    This is used to add comments to the data dictionary.\n",
    "- RENAME: \n",
    "    This is used to rename an object existing in the database."
   ]
  },
  {
   "cell_type": "markdown",
   "id": "9386ea67",
   "metadata": {},
   "source": [
    "### 1. Create\n",
    "- 1. CREATE :\n",
    "    - databases: database : tables\n",
    "    - create database\n",
    "- 1. create database db_name; \n",
    "    - create database db_aug;\n",
    "- show databases;\n",
    "- show tables ;\n",
    "- create table table_name(columns(size))\n",
    "    - create table emp(emp_id int,emp_name varchar(10),salary int,loc varchar(20)); -- table definition\n"
   ]
  },
  {
   "cell_type": "markdown",
   "id": "2c9eb3ef",
   "metadata": {},
   "source": [
    "## 2. alter \n",
    "- alter :- it is use to modify the structure of the table\n",
    "- 1. alter\n",
    "    - add column\n",
    "    - rename column\n",
    "    - dataype and size change\n",
    "    - remove column\n",
    "   \n",
    "- 1. add column one column\n",
    "    - alter table table_name ADD COLUMN column_defination ;\n",
    "- 1.1 add multiple columns in a table\n",
    "    - alter table table_name ADD COLUMN column_defination, ADD COLUMN column_defination;\n",
    "    \n",
    "    \n",
    "    \n",
    "- 2. rename column in the table\n",
    "    - alter table table_name RENAME COLUMN column_name to new_column_name;\n",
    "- 2.1 rename multiple columns in a table\n",
    "    - alter table table_name RENAME COLUMN column_name to new_column_name, RENAME COLUMN column_name to new_column_name;\n",
    "    \n",
    "    \n",
    "    \n",
    "    \n",
    "- 3. remove column from the table\n",
    "    - alter table table_name DROP COLUMN column_name;\n",
    "- 3.1 remove multiple columns from a table\n",
    "    - alter table table_name DROP COLUMN column_name, DROP COLUMN column_name ;\n",
    "\n",
    "\n",
    "\n",
    "\n",
    "- 4. modify the column (we can change the datatype of the column)\n",
    "    - alter table table_name MODIFY COLUMN column_defination ;\n",
    "- 4.1 MODIFY multiple columns from a table\n",
    "    - alter table table_name MODIFY COLUMN column_defination, MODIFY COLUMN column_defination ;\n",
    "    \n",
    "    \n",
    "\n",
    "###### NOTE :-  column_defination means column_name along with the data type and size. i.e \n",
    "    - alter table emp ADD COLUMN contact int;\n",
    "    - alter table emp ADD COLUMN name varchar(10), ADD COLUMN Gender char(1);"
   ]
  },
  {
   "cell_type": "markdown",
   "id": "76ff53ce",
   "metadata": {},
   "source": [
    "## TRUNCATE"
   ]
  },
  {
   "cell_type": "markdown",
   "id": "5b73ee53",
   "metadata": {},
   "source": [
    "- TRUNCATE : delete entire data from a table, this will delete the data from the table not the complete table.\n",
    "    - select * from db_emp.tbl1;\n",
    "    - truncate table table_name;\n",
    "    - truncate table db_emp.tbl1;\n",
    "\n",
    "    - desc db_emp.tbl1;"
   ]
  },
  {
   "cell_type": "markdown",
   "id": "16ba48fa",
   "metadata": {},
   "source": [
    "# DROP\n",
    "- DROP : delete data as well as structure from the database\n",
    "    - DROP TABLE table_name;\n",
    "    - DROP TABLE database_name.table_name;\n",
    "    - DROP DATABASE database_name;"
   ]
  },
  {
   "cell_type": "markdown",
   "id": "acc622cc",
   "metadata": {},
   "source": [
    "# 2. DML \n",
    "- 1. inset :- it is use to add data into the table\n",
    "- 2. update :- it is use to update the information about the specific column or row\n",
    "- 3. delete :- "
   ]
  },
  {
   "cell_type": "raw",
   "id": "a920af41",
   "metadata": {},
   "source": [
    "-- CRUD : create data(insert),read (select),update(update),delete (delete)\n",
    "create database stud_info;\n",
    "use stud_info;\n",
    "create table stud_info.student(rollno int,stud_name varchar(10),gender char(1),\n",
    "cgpa int, branch varchar(20));\n",
    "desc student;"
   ]
  },
  {
   "cell_type": "markdown",
   "id": "beae3b03",
   "metadata": {},
   "source": [
    "## 1. insert"
   ]
  },
  {
   "cell_type": "markdown",
   "id": "939588bb",
   "metadata": {},
   "source": [
    "- INSERT DATA: insert data into a table\n",
    "- insert into table_name (column names) values (set of values);\n",
    "    - INSERT INTO student (rollno,stud_name,gender,cgpa,branch) values (101,'rahul','M',8,'entc');\n",
    "    - INSERT INTO student values (102,'rohit','M',null,'mech');\n",
    "    - INSERT INTO student (rollno,stud_name,gender,cgpa) values (103,'snehal','F',7);\n",
    "\n",
    "    - INSERT INTO student values(104,'dhiraj','M',6,'comp'), (105,'akash','M',9,'comp');"
   ]
  },
  {
   "cell_type": "markdown",
   "id": "f67be838",
   "metadata": {},
   "source": [
    "## read data "
   ]
  },
  {
   "cell_type": "raw",
   "id": "eb8fae04",
   "metadata": {},
   "source": [
    "- READ DATA :\n",
    "- select : the no of columns \n",
    "  * : represents all columns \n",
    "- from : specify a data source\n",
    "\n",
    "    - select * from student; -- all columns ,all rows\n",
    "    - select rollno,branch from student; -- specific columns, all rows\n",
    "\n",
    "- all columns of specific rows\n",
    "- where clause : to read,update or delete particular rows of a table\n",
    "\n",
    "    - select * from student where rollno=104; \n",
    "\n",
    "- specific columns of this row above\n",
    "    - select stud_name,cgpa from student where rollno=104;\n",
    "- a=b,c "
   ]
  },
  {
   "cell_type": "markdown",
   "id": "6146f50e",
   "metadata": {},
   "source": [
    "# update \n",
    "- modify the data"
   ]
  },
  {
   "cell_type": "markdown",
   "id": "1cc796b3",
   "metadata": {},
   "source": [
    "- update \n",
    "    - update table_name set column_name=new_value;\n",
    "    \n",
    "- update using clauses\n",
    "    - update table_name set column = value where column = value;\n",
    "    - update table_name set column_name = value where column_name is null;"
   ]
  },
  {
   "cell_type": "markdown",
   "id": "0b6bf464",
   "metadata": {},
   "source": [
    "## update using case statement"
   ]
  },
  {
   "cell_type": "raw",
   "id": "20d3b54b",
   "metadata": {},
   "source": [
    "- 1. case statement\n",
    " 101=2,102=3,104=1 \n",
    " update table_name set colum_to_change =\n",
    " case column\n",
    " when value_from_column then value\n",
    " when value_from_column then value\n",
    " when value_from_column then value\n",
    " end ;\n",
    "\n",
    "\n",
    "- 2. case statement\n",
    " update table_name set colum_to_change =\n",
    " case column\n",
    " when value_from_column then value\n",
    " when value_from_column then value\n",
    " when value_from_column then value\n",
    " else 0\n",
    " end ;\n",
    " \n",
    " \n",
    " - 2. case statement\n",
    " update table_name set colum_to_change =\n",
    " case column\n",
    " when value_from_column then value\n",
    " when value_from_column then value\n",
    " when value_from_column then value\n",
    " else colum_to_change\n",
    " end ;\n",
    "\n",
    "\n",
    "\n",
    "- Example\n",
    "\n",
    "update unique_val set class = \n",
    "case class\n",
    "when 10 then 100\n",
    "when null then 200\n",
    "else class\n",
    "end;"
   ]
  },
  {
   "cell_type": "code",
   "execution_count": null,
   "id": "284b60e6",
   "metadata": {},
   "outputs": [],
   "source": []
  },
  {
   "cell_type": "markdown",
   "id": "b74d8410",
   "metadata": {},
   "source": [
    "## Where clause"
   ]
  },
  {
   "cell_type": "raw",
   "id": "82f6a270",
   "metadata": {},
   "source": [
    "- where clause : access specific rows from a table\n",
    "    - select * from table_name where column_name=column_value;\n",
    "        - select * from emp_data where loc='chicago';\n"
   ]
  },
  {
   "cell_type": "markdown",
   "id": "47564ef3",
   "metadata": {},
   "source": [
    "## logical operations"
   ]
  },
  {
   "cell_type": "raw",
   "id": "60f1d462",
   "metadata": {},
   "source": [
    "- >,<,!=,between,not between,in,not in ,is null,is not null\n",
    "- AND : all the conditions mentioned should be satisfied by a row\n",
    "- OR  : either of the conditions should be satisfied bya row"
   ]
  },
  {
   "cell_type": "markdown",
   "id": "3ed0e0a3",
   "metadata": {},
   "source": [
    "####  between, not between,\n",
    "- between \n",
    "    - select * from table_name where column between num1 and num2;\n",
    "- not between\n",
    "    - select * from table_name where column not between num1 and num2;"
   ]
  },
  {
   "cell_type": "markdown",
   "id": "7e8f995c",
   "metadata": {},
   "source": [
    "#### in, not in\n",
    "- 1. in\n",
    "    - select *  from table_name where column in (set of values);\n",
    "- 2. not in\n",
    "    - select * from table_name where column not in (set of values);"
   ]
  },
  {
   "cell_type": "markdown",
   "id": "99ca5477",
   "metadata": {},
   "source": [
    "#### is null, is not null\n",
    "\n",
    "- 1. is null \n",
    "    - select *  from table_name where column is null;\n",
    "- 2. is not null  \n",
    "    - select *  from table_name where column is null;"
   ]
  },
  {
   "cell_type": "markdown",
   "id": "86f578be",
   "metadata": {},
   "source": [
    "### CRUD (Create, Read, Update, Delete)\n",
    "https://www.javatpoint.com/crud-operations-in-sql"
   ]
  },
  {
   "cell_type": "code",
   "execution_count": null,
   "id": "12ed4736",
   "metadata": {},
   "outputs": [],
   "source": []
  },
  {
   "attachments": {
    "image.png": {
     "image/png": "[encoded data removed]"
    }
   },
   "cell_type": "markdown",
   "id": "cda8b87d",
   "metadata": {},
   "source": [
    "![image.png](attachment:image.png)"
   ]
  },
  {
   "cell_type": "markdown",
   "id": "33757adc",
   "metadata": {},
   "source": [
    "## Constrains\n",
    "- Constrains :- imposing limitation on the table columns\n",
    "- unique, not null, default, primary key, foreign key, auto_increment, check"
   ]
  },
  {
   "cell_type": "markdown",
   "id": "6331fce2",
   "metadata": {},
   "source": [
    "### display contrains imposed on columns\n",
    "- to display which column has constrans, following command will help us to get the names of the name of those columns\n",
    "\n",
    "    - Syntax :-\n",
    "        - show create table table_name;"
   ]
  },
  {
   "cell_type": "markdown",
   "id": "8a25de63",
   "metadata": {},
   "source": [
    "##### 1. unique :- \n",
    "- we can this constrains on a specific column where we want ot retrict to insert duplicate values. for example we can impose unique on ID columns present into the table.\n",
    "           - create table table_name(column_name datatype unique, column_name datatype, column_name datatype);\n",
    "            - alter table table_name modify column column_name data type UNIQUE;\n",
    "            - To drop the unique from the table \n",
    "\t\t\t- alter table table_name DROP INDEX column name;'"
   ]
  },
  {
   "cell_type": "markdown",
   "id": "5d84ee89",
   "metadata": {},
   "source": [
    "#### 2. NOT NULL :- \n",
    "- this constrain is use to retrict inserting a null value into the columns present in a table\n",
    "\t\t\t\t- alter table table_name modify column column_name datatype NOT NULL;\n",
    "                - to drop the not null\n",
    "                - alter table table_name modify column column_name datatype;"
   ]
  },
  {
   "cell_type": "markdown",
   "id": "28dd724a",
   "metadata": {},
   "source": [
    "#### 3. DEFAULT :- \n",
    "- this constrain is use to set a default values in a column, whenever user dosen't put any value into the column in that case default value is set, - this will avoid to use null value into the column or ta table\n",
    "           - create table table_name (col1 datatype, col2 datatype, col3 datatype default 'value');\n",
    "           - to drop default column\n",
    "           - alter table table_name modify column column_name datatype;"
   ]
  },
  {
   "cell_type": "markdown",
   "id": "2a95a0c1",
   "metadata": {},
   "source": [
    "#### 4. PRIMARY KEY :- it is a combination of unique and not null constrains\n",
    "- this allows us to restrict inseting the  duplicates as well as null values into the columns;\n",
    "- NOTE :- only one primary key in a table meaning we cannot perform the given command \n",
    "        - insert into table_name (emp_id int PRIMARY KEY, name varchar(10) PRIMARY KEY, department varchar(15) PRIMARY KEY);\n",
    " - BUT, we can perform this command\n",
    "        - insert into PRIMARY KEY(emp_id, name, department);\n",
    "                                    or\n",
    "        - alter table table_name Primary key(emp_id, name, department);"
   ]
  },
  {
   "cell_type": "markdown",
   "id": "ccaa5985",
   "metadata": {},
   "source": [
    "#### 5. FOREIGN KEY :-  \n",
    "- it defines the relation between database tables"
   ]
  },
  {
   "cell_type": "raw",
   "id": "673c68e1",
   "metadata": {},
   "source": [
    "- FOREIGN KEY : define a relation between db tables\n",
    "- it is a primary key column of another table\n",
    "\n",
    "student   \t\t\t\t\t\t\tcourse.                            faculty\n",
    "rollno, stud_name, cgpa \t\t\tcourse_id,  course_name.  ,rollno.   id,name,course_id\n",
    "101.     rahul.      8 \t\t\t\t10.        data science,   101\n",
    "\t\t\t\t\t\t\t\t\t20         java.       ,   101\n",
    "                                    \n",
    "rollno : pk\t\t\t\t\t\t    rollno : fk\n",
    "parent table.                       child table\n",
    "referenced table\t\t\t\t\treferencing table"
   ]
  },
  {
   "cell_type": "markdown",
   "id": "cfc1da63",
   "metadata": {},
   "source": [
    "###### NOTE :-1. we can not delete any row or data from the parent table (primary key table or referenced table) until and unless that row or value is present in a foreign key table or referenced table. \n",
    "###### NOTE :- 2. we cannot insert a row or a values inside a foreign key table unitl and unless that values is not present in a parent of primary key table."
   ]
  },
  {
   "cell_type": "markdown",
   "id": "e56ee197",
   "metadata": {},
   "source": [
    "#### 6. CHECK\n",
    "- it checks for condition before inserting a value"
   ]
  },
  {
   "cell_type": "code",
   "execution_count": null,
   "id": "3ec11071",
   "metadata": {},
   "outputs": [],
   "source": [
    "- syntax\n",
    "    - "
   ]
  },
  {
   "cell_type": "markdown",
   "id": "5a3ed82e",
   "metadata": {},
   "source": [
    "### CLAUSES"
   ]
  },
  {
   "cell_type": "raw",
   "id": "08399769",
   "metadata": {},
   "source": [
    "- WHERE condition \n",
    "- ORDER BY column_name\n",
    "- ORDER BY column_name DESC\n",
    "- LIMIT offset\n",
    "- select DISTINCT column_name"
   ]
  },
  {
   "cell_type": "raw",
   "id": "4abf06db",
   "metadata": {},
   "source": [
    "- group by\n",
    "- having\n",
    "- min(column_name)\n",
    "- max(column_name)\n",
    "- avg(column_name)\n",
    "- count(column_name) \n",
    "- count(*) == count(1) == count(any_num)"
   ]
  },
  {
   "cell_type": "markdown",
   "id": "5d3e497b",
   "metadata": {},
   "source": [
    "#### -- where  : applied on a row level data,added before group by\n",
    "#### -- having : applied on a group,added after group by"
   ]
  },
  {
   "cell_type": "raw",
   "id": "074b9151",
   "metadata": {},
   "source": [
    "1. WHERE condition :- this clause is use to get the recored acording to condition.\n",
    "    - syntax\n",
    "        - select * from table_name WHERE condition;\n",
    "        or \n",
    "        - select column_name from table_name WHERE condition;"
   ]
  },
  {
   "cell_type": "raw",
   "id": "115c4a96",
   "metadata": {},
   "source": [
    "2. ORDER BY :- this clause is use to sort the column in asscending order.\n",
    "       - syntax \n",
    "           - select * from table_name order_by column;"
   ]
  },
  {
   "cell_type": "raw",
   "id": "6235a098",
   "metadata": {},
   "source": [
    "3. ORDER BY column_name DESC :- this clause is use to sort the column in deccending order.\n",
    "       - syntax \n",
    "           - select * from table_name ORDER BY column DESC;\n",
    "           \n",
    "NOTE :- if we are not using ORDER BY then DESC will describe the table\n",
    "        if we are using ORDER BY then DESC will return column in descending order."
   ]
  },
  {
   "cell_type": "raw",
   "id": "b621266e",
   "metadata": {},
   "source": [
    "4. LIMIT offset :- This clause will return the records in a specific limit.\n",
    "        - syntax\n",
    "            - select * from table_name limit offset;\n",
    "         for example :-\n",
    "             - select * from emp_data limit 1,5;\n",
    "             -- select * from emp LIMIT n-1,1;\n",
    "             \n",
    "-- LIMIT : limits the no of rows in the result\n",
    "-- OFFSET : no of rows to skip,default value of offset is 0\n",
    "-- no of rows to read \n",
    "-- limit offset,no of rows to read"
   ]
  },
  {
   "cell_type": "raw",
   "id": "54cf42f2",
   "metadata": {},
   "source": [
    "5. DISTINCT :- it will return all the distict or unique values from a column of given table.\n",
    "        - Syntax\n",
    "            - select distict column_name from table_name;"
   ]
  },
  {
   "cell_type": "raw",
   "id": "cb569ef8",
   "metadata": {},
   "source": [
    "6. GROUP BY :- it will return the group of disticnt values from the column\n",
    "    - Syntax :-\n",
    "         - select column_name from table_name GROUP BY column_name;\n",
    "         or\n",
    "    - select AGGREGATED_FUNCTION(column_name) from table_name GROUP BY column_name;"
   ]
  },
  {
   "cell_type": "code",
   "execution_count": null,
   "id": "222d2421",
   "metadata": {},
   "outputs": [],
   "source": []
  },
  {
   "cell_type": "markdown",
   "id": "8c67d259",
   "metadata": {},
   "source": [
    "### aggregate functions :"
   ]
  },
  {
   "cell_type": "raw",
   "id": "81eb472a",
   "metadata": {},
   "source": [
    "- Syntax :-\n",
    "    - select AGGREGATED_FUNCTION(column_name) from table_name;\n",
    "\n",
    "- max :- it will return the max from the column\n",
    "- min :- it will return the min from the column\n",
    "- sum :- :- it will return the sum of the column\n",
    "- avg :- :- it will return the average of the column\n",
    "\n",
    "- count :- total count of the column enrtirs\n",
    "        - select count(1) from table_name; -- this will return the same count of the table\n",
    "\n",
    "NOTE :- count(*) will return the total count of the table,\n",
    "     :- if the null value are present in the column then it won't return the count of null values.\n",
    "     "
   ]
  },
  {
   "cell_type": "markdown",
   "id": "7a6becdc",
   "metadata": {},
   "source": [
    "## having\n",
    "- whenever we use group by clause ther we cannot use WHERE clause, insted of WHERE we can use HAVING after GROUP BY."
   ]
  },
  {
   "cell_type": "raw",
   "id": "aaecb258",
   "metadata": {},
   "source": [
    "- SYNTAX :-\n",
    "select column_name, column_name, count(column_name) from placement group by column_name, column_name HAVING column_name=\"value\";  "
   ]
  },
  {
   "cell_type": "code",
   "execution_count": null,
   "id": "393f32b4",
   "metadata": {},
   "outputs": [],
   "source": []
  },
  {
   "cell_type": "markdown",
   "id": "cc8e7430",
   "metadata": {},
   "source": [
    "### scaler sub queries\n",
    "inner queries returns single value/row in a sub query"
   ]
  },
  {
   "cell_type": "raw",
   "id": "ecb548cd",
   "metadata": {},
   "source": [
    "- Syntax :-\n",
    "    select * from table_name where salary = ((select AGGREGATED_FUNCTION(column_name) from table name))\n",
    "\n",
    "select * from table_name where salary = ((select max(column_name) from table name)); \n",
    "select * from table_name where salary = ((select min(column_name) from table name)); "
   ]
  },
  {
   "cell_type": "code",
   "execution_count": null,
   "id": "80ec0452",
   "metadata": {},
   "outputs": [],
   "source": []
  },
  {
   "cell_type": "markdown",
   "id": "98b1fb98",
   "metadata": {},
   "source": [
    "### multirow subquery\n",
    "inner query will return multiple values/row"
   ]
  },
  {
   "cell_type": "raw",
   "id": "480b3ce8",
   "metadata": {},
   "source": [
    "syntax :- \n",
    "    select column_name from table_name1 where column_name NOT IN (select column_name from table_name2);\n"
   ]
  },
  {
   "cell_type": "markdown",
   "id": "28693eb0",
   "metadata": {},
   "source": [
    "## JOINS"
   ]
  },
  {
   "cell_type": "markdown",
   "id": "eae2206d",
   "metadata": {},
   "source": [
    "#### 1. INNER JOIN / JOIN"
   ]
  },
  {
   "cell_type": "raw",
   "id": "b46c1b48",
   "metadata": {},
   "source": [
    "- inner join will joins the intersection or common records from left as well as right tables\n",
    "- Syntax :-\n",
    "    select * from table1 INNER JOIN table2 ON table1.column = table2.column;"
   ]
  },
  {
   "cell_type": "markdown",
   "id": "c6cc0c2f",
   "metadata": {},
   "source": [
    "#### 2. LEFT JOIN / LEFT OUTER JOIN"
   ]
  },
  {
   "cell_type": "raw",
   "id": "1fd0edea",
   "metadata": {},
   "source": [
    "- left join will join all the recoreds from the LEFT table and common recoreds from left and right table.\n",
    "- Syntax :-\n",
    "    select * from table1 INNER JOIN table2 ON table1.column = table2.column;"
   ]
  },
  {
   "cell_type": "markdown",
   "id": "b8d7acd3",
   "metadata": {},
   "source": [
    "#### RIGHT JOIN / RIGHT OUTER JOIN"
   ]
  },
  {
   "cell_type": "raw",
   "id": "ec75e050",
   "metadata": {},
   "source": [
    "- left join will join all the recoreds from the RIGHT table and common recoreds from left and right table.\n",
    "- Syntax :-\n",
    "    select * from table1 INNER JOIN table2 ON table1.column = table2.column;"
   ]
  },
  {
   "cell_type": "markdown",
   "id": "08eaceb6",
   "metadata": {},
   "source": [
    "#### FULL JOIN "
   ]
  },
  {
   "cell_type": "raw",
   "id": "046bf305",
   "metadata": {},
   "source": [
    "- RIGHT JOIN + LEFT JOIN"
   ]
  },
  {
   "cell_type": "markdown",
   "id": "3658f192",
   "metadata": {},
   "source": [
    "### union and union all"
   ]
  },
  {
   "cell_type": "raw",
   "id": "2faccd69",
   "metadata": {},
   "source": [
    "-- union and union all caluse: used to append the data from multiple result sets\n",
    "-- no. of columns in all select statements should be same\n",
    "-- datatypes of them should be same\n",
    "-- sequence of columns in select should be same"
   ]
  },
  {
   "cell_type": "raw",
   "id": "d7e1f422",
   "metadata": {},
   "source": [
    " - Union all :- this will append all the records from both the tables\n",
    "- Union :- This will append on only unique records from both the tables, it removes duplicate entries"
   ]
  },
  {
   "cell_type": "markdown",
   "id": "6df1cb31",
   "metadata": {},
   "source": [
    "#### multiple table joinining"
   ]
  },
  {
   "cell_type": "raw",
   "id": "443e8a54",
   "metadata": {},
   "source": [
    "- Syntax :-\n",
    "        select column_name1, column_name2, column_name3, column_name4, column_name5 from table1 type_of_join table2 on table.col1=table2.col2 type_of_join table3 on table1.col1=table3.col3\n",
    "type_of_join table4 on table1.col1=table4.col4;"
   ]
  },
  {
   "cell_type": "markdown",
   "id": "095454a3",
   "metadata": {},
   "source": [
    "### Window Fucntions / Analytical function"
   ]
  },
  {
   "cell_type": "markdown",
   "id": "e4967706",
   "metadata": {},
   "source": [
    "##### 1. OVER ()  / OVER (partition by column_name)"
   ]
  },
  {
   "cell_type": "raw",
   "id": "425f4a07",
   "metadata": {},
   "source": [
    "- Window Fucntions / Analytical function :-\n",
    "        That is, the OVER clause defines a window or user-specified set of rows within a query result set. A window function then computes a value for each row in the window. You can use the OVER clause with functions to compute aggregated values such as moving averages, cumulative aggregates, running totals, or a top N per group results."
   ]
  },
  {
   "cell_type": "raw",
   "id": "78908b2b",
   "metadata": {},
   "source": [
    "- Syntax :-\n",
    "    select column_names, agregated_function(column_name) OVER () from table_name \n",
    "    \n",
    "    select column_names, agregated_function(column_name) OVER (partition by column_name) from table_name "
   ]
  },
  {
   "cell_type": "markdown",
   "id": "398dfaf2",
   "metadata": {},
   "source": [
    "#### 2. row_number () OVER () / row_number () OVER (partition by column_name/ order by)"
   ]
  },
  {
   "cell_type": "raw",
   "id": "4e99a994",
   "metadata": {},
   "source": [
    "-- row_number() :- it assignes the sequence number to each row of the partition"
   ]
  },
  {
   "cell_type": "markdown",
   "id": "b740a8ba",
   "metadata": {},
   "source": [
    "#### 3. rank () and dense_rank()"
   ]
  },
  {
   "cell_type": "raw",
   "id": "acceae65",
   "metadata": {},
   "source": [
    "-- rank() and dense_rank() : to assign ranks to each row of the partition\n",
    "-- rank() : assign rank to each row with gaps\n",
    "-- dense_rank() : assign rank to each row without gaps\n",
    "-- order by clause is mandatory to use with these rank functions"
   ]
  },
  {
   "cell_type": "raw",
   "id": "4b8c0f3b",
   "metadata": {},
   "source": [
    "select *,\n",
    "rank() over (order by salary) as rnk,\n",
    "dense_rank() over (order by salary) dense_rnk \n",
    "from table_name;"
   ]
  },
  {
   "cell_type": "markdown",
   "id": "f9094c8e",
   "metadata": {},
   "source": [
    "#### 4. lead() and lag()"
   ]
  },
  {
   "cell_type": "raw",
   "id": "b35b2548",
   "metadata": {},
   "source": [
    "--> lead () and lag() allows us to compair two values (next values and previous values) from the same column\n",
    "\n",
    "-- lead() and lag():\n",
    "-- lead(column_name,offset,default): fetch the next value\n",
    "-- lag(column_name,offset,default) : fetch the previous value\n",
    "\n",
    "- Syntax :-\n",
    "    select *, lead(column_name) over () as `Next value`,\n",
    "lag (column_name) over () as `previous value` from table_name;"
   ]
  },
  {
   "cell_type": "code",
   "execution_count": null,
   "id": "db969c3c",
   "metadata": {},
   "outputs": [],
   "source": []
  },
  {
   "cell_type": "markdown",
   "id": "960f50bd",
   "metadata": {},
   "source": [
    "### Python_mysql "
   ]
  },
  {
   "cell_type": "markdown",
   "id": "8d85fa45",
   "metadata": {},
   "source": [
    "#### step 1: connecting mysql to jupyternotebook"
   ]
  },
  {
   "cell_type": "raw",
   "id": "650cec6d",
   "metadata": {},
   "source": [
    "-- import pandas as pd\n",
    "-- import sqlalchemy as sa"
   ]
  },
  {
   "cell_type": "code",
   "execution_count": null,
   "id": "41f3fdc6",
   "metadata": {},
   "outputs": [],
   "source": [
    "engine = sa.create_engine(\"mysql+pymysql://<username>:<password>@<host:port>/<dbname>[?<options>]\")"
   ]
  },
  {
   "cell_type": "markdown",
   "id": "82b225a2",
   "metadata": {},
   "source": [
    "#### step 2:   read sql table"
   ]
  },
  {
   "cell_type": "raw",
   "id": "ebb79316",
   "metadata": {},
   "source": [
    "- syntax :- \n",
    "    df = pd.read_sql_table(TABLE_NAME, engine)"
   ]
  },
  {
   "cell_type": "markdown",
   "id": "fe7ba0d9",
   "metadata": {},
   "source": [
    "#### read sql query"
   ]
  },
  {
   "cell_type": "raw",
   "id": "5c36aec5",
   "metadata": {},
   "source": [
    "- Syntax :-\n",
    "    df = pd.read_sql_query(\"sql_query\", engine)"
   ]
  },
  {
   "cell_type": "markdown",
   "id": "b4a489ab",
   "metadata": {},
   "source": [
    "#### read sql :-\n",
    "- it is the combination of both read_sql_query and read_sql_table"
   ]
  },
  {
   "cell_type": "raw",
   "id": "daf47559",
   "metadata": {},
   "source": [
    "- Syntax :-\n",
    "    df_name = pd.read_sql(\"sql_query\", engine)\n",
    "    or \n",
    "    df_name = pd.read_sql(\"table_name\", engine)"
   ]
  },
  {
   "cell_type": "markdown",
   "id": "67896940",
   "metadata": {},
   "source": [
    "#### step 3 : saving a table to sql "
   ]
  },
  {
   "cell_type": "raw",
   "id": "39bfdd2d",
   "metadata": {},
   "source": [
    "- Syntax :-\n",
    "    df_name.to_sql(name=\"table_name\", con=engine, index=False)\n",
    "    or\n",
    "    df_name.to_sql(name=\"table_name\", con=engine, index=False, if_exists=\"append\")\n",
    "    or\n",
    "    df_name.to_sql(name=\"table_name\", con=engine, index=False, if_exists=\"replace\") \n",
    "                    --> this will replace existing table\n",
    "    \n",
    "NOTE :- cannot run the command again because, ohterwise we will get an error as FileAlreadyExit."
   ]
  },
  {
   "cell_type": "code",
   "execution_count": null,
   "id": "8c336751",
   "metadata": {},
   "outputs": [],
   "source": []
  }
 ],
 "metadata": {
  "kernelspec": {
   "display_name": "Python 3 (ipykernel)",
   "language": "python",
   "name": "python3"
  },
  "language_info": {
   "codemirror_mode": {
    "name": "ipython",
    "version": 3
   },
   "file_extension": ".py",
   "mimetype": "text/x-python",
   "name": "python",
   "nbconvert_exporter": "python",
   "pygments_lexer": "ipython3",
   "version": "3.10.8"
  }
 },
 "nbformat": 4,
 "nbformat_minor": 5
}
