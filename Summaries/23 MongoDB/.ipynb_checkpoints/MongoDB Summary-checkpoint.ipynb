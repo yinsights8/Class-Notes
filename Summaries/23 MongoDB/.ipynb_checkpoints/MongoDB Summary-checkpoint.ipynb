{
 "cells": [
  {
   "cell_type": "markdown",
   "id": "e723f7f3",
   "metadata": {},
   "source": [
    "### MySQL"
   ]
  },
  {
   "cell_type": "raw",
   "id": "45ffe549",
   "metadata": {},
   "source": [
    "- we wirte query on workbench / jupyter notebook \n",
    "- we we have relational database  (RDBMS)\n",
    "- we have structured table (structure of the table is fixed)"
   ]
  },
  {
   "cell_type": "markdown",
   "id": "efe14543",
   "metadata": {},
   "source": [
    "### MongoDB"
   ]
  },
  {
   "cell_type": "raw",
   "id": "b69d7114",
   "metadata": {},
   "source": [
    "- we wirte pytnon code in compass/ jupyter notebook\n",
    "- we have Non Relational databse\n",
    "- we have unstructured table "
   ]
  },
  {
   "cell_type": "raw",
   "id": "c36e170d",
   "metadata": {},
   "source": [
    "mysql            ==     mongodb\n",
    "database         ==     database\n",
    "tables           ==     collection\n",
    "rows / records   ==     document\n",
    "columns.         ==     keys"
   ]
  },
  {
   "cell_type": "markdown",
   "id": "1bf16e08",
   "metadata": {},
   "source": [
    "### import libraries to work on mongodb"
   ]
  },
  {
   "cell_type": "raw",
   "id": "3f4d22e0",
   "metadata": {},
   "source": [
    "- import pymongo\n",
    "- import pandas as pd"
   ]
  },
  {
   "cell_type": "code",
   "execution_count": null,
   "id": "8782653e",
   "metadata": {},
   "outputs": [],
   "source": [
    "Ex :- \n",
    "emp :\n",
    "    empid,empname,salary, loc   contact\n",
    "    1001. rohit.  80000.  pune  null\n",
    "    1002. snehal. 90000.  pune. 8983720070\n",
    "    1003  dhiraj  '70000' pune. no field\n",
    "    1004  neha.   60000.  pune. mobno/email\n",
    "    \n",
    "{contact:{'mobno':value,'email':value}}"
   ]
  },
  {
   "cell_type": "markdown",
   "id": "ec840799",
   "metadata": {},
   "source": [
    "### Step 1. create a Connection"
   ]
  },
  {
   "cell_type": "code",
   "execution_count": null,
   "id": "c169472e",
   "metadata": {},
   "outputs": [],
   "source": [
    "client = pymongo.MongoClient('mongodb://localhost:27017')\n",
    "client"
   ]
  },
  {
   "cell_type": "markdown",
   "id": "9b56480f",
   "metadata": {},
   "source": [
    "### Operations in mongo db"
   ]
  },
  {
   "cell_type": "raw",
   "id": "0f2b787d",
   "metadata": {},
   "source": [
    "1. Create database  \n",
    "2. create collection\n",
    "3. insert data\n",
    "4. read data\n",
    "5. update data\n",
    "6. delete data"
   ]
  },
  {
   "cell_type": "code",
   "execution_count": null,
   "id": "cc220059",
   "metadata": {},
   "outputs": [],
   "source": [
    "databases >> database >> collections >> documents >> key: value"
   ]
  },
  {
   "cell_type": "markdown",
   "id": "44282bc9",
   "metadata": {},
   "source": [
    "### 1. Create a database/ use a database"
   ]
  },
  {
   "cell_type": "code",
   "execution_count": null,
   "id": "14b23f0e",
   "metadata": {},
   "outputs": [],
   "source": [
    "db = client[\"database_name\"]\n",
    "db"
   ]
  },
  {
   "cell_type": "markdown",
   "id": "4ee15283",
   "metadata": {},
   "source": [
    "### 2. Create collection in a database"
   ]
  },
  {
   "cell_type": "code",
   "execution_count": null,
   "id": "13814836",
   "metadata": {},
   "outputs": [],
   "source": [
    "coll = db[\"collection_name\"]\n",
    "coll"
   ]
  },
  {
   "cell_type": "code",
   "execution_count": null,
   "id": "4d648321",
   "metadata": {},
   "outputs": [],
   "source": [
    "db.list_collections_name()"
   ]
  },
  {
   "cell_type": "markdown",
   "id": "cae78044",
   "metadata": {},
   "source": [
    "### 3. Insert documents "
   ]
  },
  {
   "cell_type": "raw",
   "id": "85eabdd6",
   "metadata": {},
   "source": [
    "1. insert_one() :- this will insert one document \n",
    "    - collection_name.insert_one({key:value})\n",
    "    \n",
    "2. insert_many() :- this will insert many documents\n",
    "    - collection_name.insert_many([{},{}]) "
   ]
  },
  {
   "cell_type": "raw",
   "id": "10e75804",
   "metadata": {},
   "source": [
    "create database:\n",
    "    connection_name['database_name']\n",
    "    \n",
    "create collection:\n",
    "    database_name['collection_name']\n",
    "    \n",
    "insert document:\n",
    "    insert_one(): used to insert a single document\n",
    "        collection_name.insert_one({key:value})\n",
    "    \n",
    "    insert_many(): used to insert multiple documents\n",
    "        collection_name.insert_many([{key:value},{key:value}])\n",
    "    \n",
    "read data :\n",
    "    find_one(): used to read a single document\n",
    "        collection_name.find_one({filter condition},{select})\n",
    "    without filter condition: read the first document of the collection\n",
    "    with filter condition   : read the first matched document\n",
    "        \n",
    "    find(): used to read multiple documents\n",
    "        collection_name.find({filter condition},{select})\n",
    "    without filter condition: read all documents of the collection\n",
    "    with filter condition   : read all matched documents\n",
    "        \n",
    "update data:\n",
    "    update_one(): update a single docuemnt\n",
    "        collection_name.update_one({filter condition},{'$set'{'key':'value'}})\n",
    "    without filter condition: update the first document of the collection\n",
    "    with filter condition   : update the first matched document\n",
    "   \n",
    "    update_many(): update multiple documents\n",
    "        collection_name.update_many({filter condition},{'$set':{'key':'value'}})\n",
    "    without filter condition: update all documents of the collection\n",
    "    with filter condition   : update all matched documents\n",
    "    \n",
    "delete data:\n",
    "    delete_one() : delete single document\n",
    "        collection_name.delete_one({filter condition})\n",
    "    without filter condition: delete the first document of the collection\n",
    "    with filter condition   : delete the first matched document\n",
    "        \n",
    "    delete_many(): delete multiple documents\n",
    "        collection_name.delete_many({filter condition})\n",
    "    without filter condition: delete all documents of the collection\n",
    "    with filter condition   : delete all matched documents\n",
    "   \n",
    "    \n",
    "    "
   ]
  },
  {
   "cell_type": "code",
   "execution_count": null,
   "id": "e6e21532",
   "metadata": {},
   "outputs": [],
   "source": []
  }
 ],
 "metadata": {
  "kernelspec": {
   "display_name": "Python 3 (ipykernel)",
   "language": "python",
   "name": "python3"
  },
  "language_info": {
   "codemirror_mode": {
    "name": "ipython",
    "version": 3
   },
   "file_extension": ".py",
   "mimetype": "text/x-python",
   "name": "python",
   "nbconvert_exporter": "python",
   "pygments_lexer": "ipython3",
   "version": "3.10.8"
  }
 },
 "nbformat": 4,
 "nbformat_minor": 5
}
