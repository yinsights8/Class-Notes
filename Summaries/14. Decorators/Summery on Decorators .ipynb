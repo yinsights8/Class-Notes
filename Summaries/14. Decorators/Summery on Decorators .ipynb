{
 "cells": [
  {
   "cell_type": "markdown",
   "id": "88fe95f5",
   "metadata": {},
   "source": [
    "### 1. Decorators"
   ]
  },
  {
   "cell_type": "markdown",
   "id": "202ca321",
   "metadata": {},
   "source": [
    "- Decorators are a very powerful and useful tool in Python since it allows programmers to modify the behaviour of a function or class. \n",
    "- Decorators allow us to wrap another function in order to extend the behaviour of the wrapped function, without permanently modifying it."
   ]
  },
  {
   "cell_type": "markdown",
   "id": "67b61d01",
   "metadata": {},
   "source": [
    "- First Class Objects\n",
    "    - In Python, functions are first class objects which means that functions in Python can be used or passed as arguments."
   ]
  },
  {
   "cell_type": "markdown",
   "id": "10c14b55",
   "metadata": {},
   "source": [
    "- A function is an instance of the Object type.\n",
    "- You can store the function in a variable.\n",
    "- You can pass the function as a parameter to another function. (It is known as higher order function)\n",
    "- You can return the function from a function.\n",
    "- You can store them in data structures such as hash tables, lists, …"
   ]
  },
  {
   "cell_type": "code",
   "execution_count": 4,
   "id": "c5ee76d5",
   "metadata": {},
   "outputs": [
    {
     "name": "stdout",
     "output_type": "stream",
     "text": [
      "This is Hello Decorator Function\n",
      "This is Inner Decorator Function\n"
     ]
    },
    {
     "data": {
      "text/plain": [
       "'Inner Decorator'"
      ]
     },
     "execution_count": 4,
     "metadata": {},
     "output_type": "execute_result"
    }
   ],
   "source": [
    "def HelloDecorator():\n",
    "    print(\"This is Hello Decorator Function\")\n",
    "    \n",
    "    def InnerDecoratorFunc():\n",
    "        print(\"This is Inner Decorator Function\")\n",
    "        return \"Inner Decorator\"\n",
    "    \n",
    "    \n",
    "    return InnerDecoratorFunc()\n",
    "\n",
    "HelloDecorator()"
   ]
  },
  {
   "cell_type": "code",
   "execution_count": 8,
   "id": "4690a57d",
   "metadata": {},
   "outputs": [],
   "source": [
    "from Demo1 import Division\n",
    "def Division1(func):\n",
    "    def InnerFun(a,b):\n",
    "        if a < b:\n",
    "            a,b = b,a\n",
    "        return func(a,b)\n",
    "    return InnerFun"
   ]
  },
  {
   "cell_type": "code",
   "execution_count": 9,
   "id": "37879cb2",
   "metadata": {},
   "outputs": [
    {
     "name": "stdout",
     "output_type": "stream",
     "text": [
      "Division of 10 and 5 ---> 2.0\n",
      "Division of 5 and 10 ---> 0.5\n"
     ]
    }
   ],
   "source": [
    "a = Division(10,5)\n",
    "b = Division(5,10)\n",
    "print(a)\n",
    "print(b)"
   ]
  },
  {
   "cell_type": "code",
   "execution_count": 10,
   "id": "27020045",
   "metadata": {},
   "outputs": [
    {
     "data": {
      "text/plain": [
       "'Division of 100 and 5 ---> 20.0'"
      ]
     },
     "execution_count": 10,
     "metadata": {},
     "output_type": "execute_result"
    }
   ],
   "source": [
    "@Division1\n",
    "def Division(a,b):\n",
    "    return f\"Division of {a} and {b} ---> {a/b}\"\n",
    "\n",
    "Division(100,5)"
   ]
  },
  {
   "cell_type": "code",
   "execution_count": null,
   "id": "22ed8b24",
   "metadata": {},
   "outputs": [],
   "source": []
  },
  {
   "cell_type": "code",
   "execution_count": 11,
   "id": "8b33d79f",
   "metadata": {},
   "outputs": [],
   "source": [
    "from Demo1 import Division\n",
    "\n",
    "def Outer_func(func):\n",
    "    def inner_func(c,d):\n",
    "        if c < d:\n",
    "            c,d = d,c\n",
    "        return func(c,d)\n",
    "    return inner_func"
   ]
  },
  {
   "cell_type": "code",
   "execution_count": 22,
   "id": "92732e9f",
   "metadata": {},
   "outputs": [
    {
     "data": {
      "text/plain": [
       "'2.0'"
      ]
     },
     "execution_count": 22,
     "metadata": {},
     "output_type": "execute_result"
    }
   ],
   "source": [
    "@Division1\n",
    "def Div(c,d):\n",
    "    return f\"{c/d}\"\n",
    "Div(5,10)"
   ]
  },
  {
   "cell_type": "code",
   "execution_count": null,
   "id": "37fd3b20",
   "metadata": {},
   "outputs": [],
   "source": []
  },
  {
   "cell_type": "code",
   "execution_count": null,
   "id": "fe12e208",
   "metadata": {},
   "outputs": [],
   "source": []
  }
 ],
 "metadata": {
  "kernelspec": {
   "display_name": "Python 3 (ipykernel)",
   "language": "python",
   "name": "python3"
  },
  "language_info": {
   "codemirror_mode": {
    "name": "ipython",
    "version": 3
   },
   "file_extension": ".py",
   "mimetype": "text/x-python",
   "name": "python",
   "nbconvert_exporter": "python",
   "pygments_lexer": "ipython3",
   "version": "3.10.8"
  }
 },
 "nbformat": 4,
 "nbformat_minor": 5
}
