{
 "cells": [
  {
   "cell_type": "markdown",
   "id": "80133b2c",
   "metadata": {},
   "source": [
    "# Frozenset data type\n",
    "- unordered data type\n",
    "- immutable data type\n",
    "- duplicate items are not allowed\n",
    "\n",
    "- it has the same functionality as set but it returns new set\n",
    "- syntax - \n",
    "       - frozenset(iterator)"
   ]
  },
  {
   "cell_type": "markdown",
   "id": "79a55125",
   "metadata": {},
   "source": [
    "## Functions\n",
    "- union()\n",
    "- intersection()\n",
    "- difference()\n",
    "- symetrix difference()\n",
    "- issubset()\n",
    "- issuperset()\n",
    "- isdisjoint()"
   ]
  },
  {
   "cell_type": "markdown",
   "id": "78787e23",
   "metadata": {},
   "source": [
    "### 1. .union()\n",
    "- this method returns new frozenset by extending set1 and set2\n",
    "- it dosen't change the original frozenset"
   ]
  },
  {
   "cell_type": "markdown",
   "id": "3a11f601",
   "metadata": {},
   "source": [
    "### 2. .intersection()\n",
    "- this mehod will compair two or more than two sets and returns new set of common elements\n",
    "- it returns the common elements among the sets\n",
    "- it dosen't affects the original set"
   ]
  },
  {
   "cell_type": "markdown",
   "id": "c6bbfd8e",
   "metadata": {},
   "source": [
    "### 3. . difference()\n",
    "- this method will return a new set of elements which are not avilable in set2 and set3 but set1.\n",
    "- this method also not affect on original sets"
   ]
  },
  {
   "cell_type": "markdown",
   "id": "dd69d88a",
   "metadata": {},
   "source": [
    "### 4.  .symetric_difference()\n",
    "- this method will return a new set  which will have a uncomon items \n",
    "- this method accepts only one iterator as a argument "
   ]
  },
  {
   "cell_type": "markdown",
   "id": "b7034985",
   "metadata": {},
   "source": [
    "### 5. .isubset()\n",
    "- if the set2 is identical and with the set1 element then it is subset of set1\n",
    "- ( < ) this is proper subset sign and ( <= ) this is subset sign\n",
    "###### Note :- in proper subset the elements should precisely identical, it should be shuffled"
   ]
  },
  {
   "cell_type": "markdown",
   "id": "0dfb4a11",
   "metadata": {},
   "source": [
    "### 6. .isuperset()\n",
    "- if the set1 is identical and with the set2 element then it is superset of set1\n",
    "- ( > ) this is proper superset sign and ( >= ) this is superset sign\n",
    "###### Note :- in proper subset the elements should precisely identical, it should be shuffled"
   ]
  },
  {
   "cell_type": "markdown",
   "id": "80101213",
   "metadata": {},
   "source": [
    "### 7. .isdisjoint()\n",
    "- this method will return True if the both the sets have different elements"
   ]
  },
  {
   "cell_type": "code",
   "execution_count": null,
   "id": "82e1dcc9",
   "metadata": {},
   "outputs": [],
   "source": []
  },
  {
   "cell_type": "code",
   "execution_count": 4,
   "id": "7f3536a1",
   "metadata": {},
   "outputs": [
    {
     "data": {
      "text/plain": [
       "True"
      ]
     },
     "execution_count": 4,
     "metadata": {},
     "output_type": "execute_result"
    }
   ],
   "source": [
    "set1 = {1,2,3,4,5,6}\n",
    "set2 = {5,6,4}\n",
    "\n",
    "set2.issubset(set1)"
   ]
  },
  {
   "cell_type": "code",
   "execution_count": 6,
   "id": "7aa594bd",
   "metadata": {},
   "outputs": [
    {
     "data": {
      "text/plain": [
       "True"
      ]
     },
     "execution_count": 6,
     "metadata": {},
     "output_type": "execute_result"
    }
   ],
   "source": [
    "set1 = {1,2,3,4,5,6}\n",
    "set2 = {5,6,4}\n",
    "\n",
    "set1.issuperset(set2)"
   ]
  },
  {
   "cell_type": "code",
   "execution_count": null,
   "id": "b895013d",
   "metadata": {},
   "outputs": [],
   "source": []
  }
 ],
 "metadata": {
  "kernelspec": {
   "display_name": "Python 3 (ipykernel)",
   "language": "python",
   "name": "python3"
  },
  "language_info": {
   "codemirror_mode": {
    "name": "ipython",
    "version": 3
   },
   "file_extension": ".py",
   "mimetype": "text/x-python",
   "name": "python",
   "nbconvert_exporter": "python",
   "pygments_lexer": "ipython3",
   "version": "3.9.12"
  }
 },
 "nbformat": 4,
 "nbformat_minor": 5
}
