{
 "cells": [
  {
   "cell_type": "markdown",
   "id": "b8a2d647",
   "metadata": {},
   "source": [
    "### Iterator :- "
   ]
  },
  {
   "cell_type": "markdown",
   "id": "0d3fac8c",
   "metadata": {},
   "source": [
    "- iterator is an object, which impliments iterator protocall\n",
    "- which consist of __iter__() and __next__() function \n",
    "- for loop iself is an example of iterator \n",
    "     - iterator - we can traverse through all the values present in a sequence or itarable\n",
    "     - iterable - it is like a sequence such as list, str, tuple, etc...\n",
    "- it has two functions \n",
    "    - iter function \n",
    "    - next function\n",
    "     \n",
    "     \n",
    "- \"_\" - temperory use"
   ]
  },
  {
   "cell_type": "markdown",
   "id": "fc157aba",
   "metadata": {},
   "source": [
    "###### we can also create our own iterators:- "
   ]
  },
  {
   "cell_type": "code",
   "execution_count": 4,
   "id": "d73eb0e5",
   "metadata": {},
   "outputs": [
    {
     "name": "stdout",
     "output_type": "stream",
     "text": [
      "1\n",
      "4\n"
     ]
    }
   ],
   "source": [
    "class Range():\n",
    "    def __init__(self, start, last):\n",
    "        self.start = start\n",
    "        self.last = last\n",
    "        \n",
    "    def __iter__(self):\n",
    "        self.start\n",
    "    \n",
    "    def __next__(self):\n",
    "        if self.start < self.last:\n",
    "            sqre = self.start**2\n",
    "            print(sqre)\n",
    "            self.start += 1\n",
    "            \n",
    "ran = Range(1,10)\n",
    "\n",
    "ran.__iter__()\n",
    "ran.__next__()\n",
    "ran.__iter__()\n",
    "ran.__next__()"
   ]
  },
  {
   "cell_type": "code",
   "execution_count": null,
   "id": "eff4c589",
   "metadata": {},
   "outputs": [],
   "source": []
  },
  {
   "cell_type": "markdown",
   "id": "c9859f0e",
   "metadata": {},
   "source": [
    "## Generators :- "
   ]
  },
  {
   "cell_type": "markdown",
   "id": "751da380",
   "metadata": {},
   "source": [
    "- Generator-Function: A generator-function is defined like a normal function, but whenever it needs to generate a value, it does so with the \"yield\" keyword rather than return. \n",
    "- If the body of a def contains yield, the function automatically becomes a generator function. \n",
    "- They process the data incrementally and do not allocate memory to all the results at the same time."
   ]
  },
  {
   "cell_type": "markdown",
   "id": "9826dded",
   "metadata": {},
   "source": [
    "#### where do we use genetators"
   ]
  },
  {
   "cell_type": "markdown",
   "id": "5a8bb5fa",
   "metadata": {},
   "source": [
    "- Consider using Generator when dealing with a huge dataset.\n",
    "- Consider using Generator in scenarios where we do NOT need to reiterate it more than once.\n",
    "- Generators give us lazy evaluation.\n",
    "- They are a great way to generate sequences in a memory-efficient manner."
   ]
  },
  {
   "cell_type": "code",
   "execution_count": 7,
   "id": "1902f63b",
   "metadata": {},
   "outputs": [],
   "source": [
    "def square():\n",
    "    for i in range(1,6):\n",
    "        yield i\n",
    "        \n",
    "sqr = square()"
   ]
  },
  {
   "cell_type": "code",
   "execution_count": 9,
   "id": "13a5ad2a",
   "metadata": {},
   "outputs": [
    {
     "name": "stdout",
     "output_type": "stream",
     "text": [
      "2\n",
      "3\n"
     ]
    }
   ],
   "source": [
    "print(next(sqr))\n",
    "print(next(sqr))"
   ]
  },
  {
   "cell_type": "code",
   "execution_count": null,
   "id": "17ccce0a",
   "metadata": {},
   "outputs": [],
   "source": []
  }
 ],
 "metadata": {
  "kernelspec": {
   "display_name": "Python 3 (ipykernel)",
   "language": "python",
   "name": "python3"
  },
  "language_info": {
   "codemirror_mode": {
    "name": "ipython",
    "version": 3
   },
   "file_extension": ".py",
   "mimetype": "text/x-python",
   "name": "python",
   "nbconvert_exporter": "python",
   "pygments_lexer": "ipython3",
   "version": "3.10.8"
  }
 },
 "nbformat": 4,
 "nbformat_minor": 5
}
