{
 "cells": [
  {
   "cell_type": "markdown",
   "id": "75a80e9b",
   "metadata": {},
   "source": [
    "# Tuple \n",
    "- it is immutable data type\n",
    "- allow duplicate items\n",
    "- Enclose by paranthisis ()\n",
    "- orderd \n",
    "- fixed length\n",
    "- faster than list\n",
    "- less functionality\n",
    "- allow different data types\n",
    "\n",
    "-  #### like string and list we can perform indexing and slicing in tuple\n",
    "\n",
    "### NOTE : - if the tuple contains list object then the items can be change which are within a list not can not be changer that are present within a tuple\n",
    "- e.g,  tp1 = (4, 5, ['Python', 'DS', 'ML'])"
   ]
  },
  {
   "cell_type": "markdown",
   "id": "c90bf8d7",
   "metadata": {},
   "source": [
    "#### ways to define tuple :- \n",
    "- we can define tuples by\n",
    "    - comma after a element ---> 1, , tup1 = (1,)\n",
    "    - assigining only characters or numbers to variables ---> a = 1,2,3,4 = (1,2,3,4)\n",
    "    - enclosing elements by () ---> a = (1,2,3,4)"
   ]
  },
  {
   "cell_type": "markdown",
   "id": "f4050c13",
   "metadata": {},
   "source": [
    "# delete items from tuple\n",
    " - we can not change the elements within a tuple or perform any other operations\n",
    " -  to delete or perform operations on tuple then we need to convert it into list by using constructor\n",
    " - e.g- list(tuple_list)\n",
    "\n",
    "### Tuple Constructor\n",
    "- new_tuple = tuple(tuple_object)"
   ]
  },
  {
   "cell_type": "markdown",
   "id": "d7335579",
   "metadata": {},
   "source": [
    "# perform operations on tuple\n",
    "- we can only perform addition and multiplication with tuple\n",
    "- e.g  new_tuple = tuple_object + tuple_object\n",
    "- e.g new_tuple = tuple * tuple"
   ]
  },
  {
   "cell_type": "markdown",
   "id": "5815b736",
   "metadata": {},
   "source": [
    "# Functions of tuple\n",
    "- index\n",
    "- count"
   ]
  },
  {
   "cell_type": "markdown",
   "id": "48c5dea0",
   "metadata": {},
   "source": [
    "## tuple comprehension"
   ]
  },
  {
   "cell_type": "markdown",
   "id": "8c21d61f",
   "metadata": {},
   "source": [
    "- new_tuple = tuple(new_item for itme in tuple_list)\n",
    "\n",
    "- new_tuple = tuple(new_item for item in tuple_list if condition)\n",
    "\n",
    "- new_tuple = tuple(new_item if condition else \"string or number\" for item in tuple_list)"
   ]
  },
  {
   "cell_type": "code",
   "execution_count": null,
   "id": "4cbd6637",
   "metadata": {},
   "outputs": [],
   "source": []
  },
  {
   "cell_type": "markdown",
   "id": "49d2e913",
   "metadata": {},
   "source": [
    "## tuple unpacking "
   ]
  },
  {
   "cell_type": "raw",
   "id": "a7462509",
   "metadata": {},
   "source": [
    "- (a,b) = key - a, value - b\n",
    "\n",
    "- for a,b in (a,b):\n",
    "    print(a)\n",
    "    print(b)"
   ]
  },
  {
   "cell_type": "code",
   "execution_count": null,
   "id": "911353fe",
   "metadata": {},
   "outputs": [],
   "source": []
  },
  {
   "cell_type": "code",
   "execution_count": null,
   "id": "1a70b0e8",
   "metadata": {},
   "outputs": [],
   "source": []
  },
  {
   "cell_type": "markdown",
   "id": "4bdf4f6c",
   "metadata": {},
   "source": [
    "## you can also use splat * unpacking syntax to unpack a generator expression:\n",
    "*(x for x in range(n)),"
   ]
  },
  {
   "cell_type": "markdown",
   "id": "efdcdfd7",
   "metadata": {},
   "source": [
    "##### Tuple is stored in a single block of memory. Creating a tuple is faster than creating a list. Creating a list is slower because two memory blocks need to be accessed. An element in a tuple cannot be removed or replaced"
   ]
  },
  {
   "cell_type": "code",
   "execution_count": null,
   "id": "6416b9d9",
   "metadata": {},
   "outputs": [],
   "source": []
  }
 ],
 "metadata": {
  "kernelspec": {
   "display_name": "Python 3 (ipykernel)",
   "language": "python",
   "name": "python3"
  },
  "language_info": {
   "codemirror_mode": {
    "name": "ipython",
    "version": 3
   },
   "file_extension": ".py",
   "mimetype": "text/x-python",
   "name": "python",
   "nbconvert_exporter": "python",
   "pygments_lexer": "ipython3",
   "version": "3.9.12"
  }
 },
 "nbformat": 4,
 "nbformat_minor": 5
}
