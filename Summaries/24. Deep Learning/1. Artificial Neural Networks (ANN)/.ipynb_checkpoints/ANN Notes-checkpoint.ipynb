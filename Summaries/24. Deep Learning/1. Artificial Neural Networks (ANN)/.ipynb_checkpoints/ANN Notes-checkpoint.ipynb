{
 "cells": [
  {
   "cell_type": "raw",
   "id": "4b1101fa",
   "metadata": {},
   "source": [
    "Neural Network :-\n",
    "it is a functional unit of the deep learning which mimics the human brain, and                       resolves the complex data driven problem."
   ]
  },
  {
   "cell_type": "raw",
   "id": "f6318133",
   "metadata": {},
   "source": [
    "Perceptron:\n",
    "    It is subpart of the neural network which helps us to understand the working of neural network       unit by unit.\n",
    "    data >> input_layer(with weights) >> Hidden_layer > z=W1X1+bias > activation >> output >> Y_pred"
   ]
  },
  {
   "cell_type": "raw",
   "id": "01eee1bb",
   "metadata": {},
   "source": [
    "ANN consists of \n",
    "1. Input layer  = No computation in this layer, simply data is passed with weights towords hidden                     layer.\n",
    "2. Hidden layer = this is the layer where intermideate computation part is done, there could be more                   than 1 hidden layers.\n",
    "3. activation fucntion = it is use to add the non-linearity into the inputs\n",
    "4. Output layer = this is where the output will produce, here we use softmax for multiclass                           classification and sigmoid for binary classification.\n"
   ]
  },
  {
   "cell_type": "code",
   "execution_count": null,
   "id": "5e3c17f5",
   "metadata": {},
   "outputs": [],
   "source": [
    "Forword Propagation:\n",
    "    "
   ]
  }
 ],
 "metadata": {
  "kernelspec": {
   "display_name": "Python 3 (ipykernel)",
   "language": "python",
   "name": "python3"
  },
  "language_info": {
   "codemirror_mode": {
    "name": "ipython",
    "version": 3
   },
   "file_extension": ".py",
   "mimetype": "text/x-python",
   "name": "python",
   "nbconvert_exporter": "python",
   "pygments_lexer": "ipython3",
   "version": "3.10.8"
  }
 },
 "nbformat": 4,
 "nbformat_minor": 5
}
