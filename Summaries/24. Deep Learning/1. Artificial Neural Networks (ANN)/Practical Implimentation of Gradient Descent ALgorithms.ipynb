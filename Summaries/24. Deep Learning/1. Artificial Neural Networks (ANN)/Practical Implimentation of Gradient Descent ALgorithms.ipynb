{
 "cells": [
  {
   "cell_type": "code",
   "execution_count": 1,
   "id": "8fd15ba4",
   "metadata": {},
   "outputs": [],
   "source": [
    "import numpy as np"
   ]
  },
  {
   "cell_type": "code",
   "execution_count": 3,
   "id": "66c1ab9a",
   "metadata": {},
   "outputs": [],
   "source": [
    "# we generate som random data pointswith 500 rows and 2 columns\n",
    "\n",
    "data = np.random.randn(500, 2) # column_1 = x_values, column_2 = y_values\n",
    "theta = np.zeros(2) # model parameters(weights)"
   ]
  },
  {
   "cell_type": "code",
   "execution_count": 17,
   "id": "2d80284e",
   "metadata": {},
   "outputs": [
    {
     "data": {
      "text/plain": [
       "0.0014151716357766347"
      ]
     },
     "execution_count": 17,
     "metadata": {},
     "output_type": "execute_result"
    }
   ],
   "source": [
    "# Calculatie the loss function using MSE\n",
    "\n",
    "def loss_function(data,theta):\n",
    "    # get m and b\n",
    "    m = theta[0]\n",
    "    b = theta[1]\n",
    "    loss = 0\n",
    "    \n",
    "    # on each data point\n",
    "    for i in range(0, len(data)):\n",
    "        # get x and y\n",
    "        x = data[i, 0]\n",
    "        y = data[i, 1]\n",
    "        \n",
    "        # predict the value ofy\n",
    "        y_hat = (m*x + b)\n",
    "        #copute loss as given questionn (2)\n",
    "        loss = loss + ((y  - (y_hat))** 2)\n",
    "\n",
    "        # mean squared loss\n",
    "        mean_squared_loss = loss / float(len(data))\n",
    "        return mean_squared_loss\n",
    "\n",
    "\n",
    "loss_function(data,theta)"
   ]
  },
  {
   "cell_type": "code",
   "execution_count": 24,
   "id": "1e839bfd",
   "metadata": {},
   "outputs": [],
   "source": [
    "# Calculate the Gradient of loss function for model parameters\n",
    "\n",
    "def compute_gradients(data, theta):\n",
    "    gradients = np.zeros(2)\n",
    "    #total number of data points\n",
    "    N = float(len(data))\n",
    "    m = theta[0]\n",
    "    b = theta[1]\n",
    "    #for each data point\n",
    "    for i in range(len(data)):\n",
    "        x = data[i, 0]\n",
    "        y = data[i, 1]\n",
    "        #gradient of loss function with respect to m as given in (3)\n",
    "        gradients[0] += - (2 / N) * x * (y - (( m* x) + b))\n",
    "        #gradient of loss funcction with respect to b as given in (4)\n",
    "        gradients[1] += - (2 / N) * (y - ((theta[0] * x) + b))\n",
    "    #add epsilon to avoid division by zero error\n",
    "    epsilon = 1e-6 \n",
    "    gradients = np.divide(gradients, N + epsilon)\n",
    "    return gradients\n",
    "\n",
    "\n",
    "\n",
    "# After computing gradients, we need to update our model parameter.\n",
    " \n",
    "\n",
    "theta = np.zeros(2)\n",
    "gr_loss=[]\n",
    "for t in range(50000):\n",
    "    #compute gradients\n",
    "    gradients = compute_gradients(data, theta)\n",
    "    #update parameter\n",
    "    theta = theta - (1e-2*gradients)\n",
    "    #store the loss\n",
    "    gr_loss.append(loss_function(data,theta))"
   ]
  },
  {
   "cell_type": "code",
   "execution_count": 28,
   "id": "13974018",
   "metadata": {},
   "outputs": [
    {
     "name": "stdout",
     "output_type": "stream",
     "text": [
      "50000\n"
     ]
    }
   ],
   "source": [
    "print(len(gr_loss))"
   ]
  },
  {
   "attachments": {
    "image.png": {
     "image/png": "[encoded data removed]"
    }
   },
   "cell_type": "markdown",
   "id": "fc53ec62",
   "metadata": {},
   "source": [
    "![image.png](attachment:image.png)"
   ]
  },
  {
   "cell_type": "code",
   "execution_count": null,
   "id": "809c76c9",
   "metadata": {},
   "outputs": [],
   "source": []
  }
 ],
 "metadata": {
  "kernelspec": {
   "display_name": "Python 3 (ipykernel)",
   "language": "python",
   "name": "python3"
  },
  "language_info": {
   "codemirror_mode": {
    "name": "ipython",
    "version": 3
   },
   "file_extension": ".py",
   "mimetype": "text/x-python",
   "name": "python",
   "nbconvert_exporter": "python",
   "pygments_lexer": "ipython3",
   "version": "3.9.13"
  }
 },
 "nbformat": 4,
 "nbformat_minor": 5
}
