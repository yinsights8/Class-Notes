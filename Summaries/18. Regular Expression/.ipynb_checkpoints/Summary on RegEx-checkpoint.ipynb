{
 "cells": [
  {
   "cell_type": "markdown",
   "id": "8b6f85b0",
   "metadata": {},
   "source": [
    "## Regular Expression\n",
    "- A RegEx, or Regular Expression, is a sequence of characters that forms a search pattern.\n",
    "- RegEx can be used to check if a string contains the specified search pattern.\n",
    "\n",
    "- RegEx Module\n",
    "    - Python has a built-in package called re, which can be used to work with Regular Expressions\n",
    "        - import re\n"
   ]
  },
  {
   "cell_type": "markdown",
   "id": "ca7e3b6c",
   "metadata": {},
   "source": [
    "- Regular expression methods\n",
    "    - https://www.w3schools.com/python/python_regex.asp"
   ]
  },
  {
   "cell_type": "raw",
   "id": "d67bee7c",
   "metadata": {},
   "source": [
    "To Extract the text from the image we use bellow methods\n",
    "Image  ---->  Text\n",
    "OCR :\n",
    "    - 1. Pytesseract\n",
    "    - 2. Google Vision\n",
    "    - 3. Amazon Textract\n",
    "    \n",
    "Pytesseract:- \n",
    "    - Image Processing using openCV(import cv2)\n",
    "    - Skew Correction\n",
    "    - Noise Removal"
   ]
  },
  {
   "cell_type": "markdown",
   "id": "ed3c0d9d",
   "metadata": {},
   "source": [
    "## Functions in regular Expression\n",
    "- findall \n",
    "    - \tReturns a list containing all matches\n",
    "- sub\n",
    "     - \tReplaces one or many matches with a string\n",
    "- match\n",
    "    - Returns the match of the pattern in the beginning of the string\n",
    "- search\n",
    "    - Returns a Match object if there is a match anywhere in the string \n",
    "    - it returns the indices of first occurence of the pattern\n",
    "- compile\n",
    "    - retuns a object of spefied pattern of a string\n",
    "- split\n",
    "    - Returns a list where the string has been split at each match"
   ]
  },
  {
   "cell_type": "markdown",
   "id": "65c3d2f9",
   "metadata": {},
   "source": [
    "## 1. findall()\n",
    "- Returns a list containing all matches\n",
    "- Syntax\n",
    "    - re.findall(pattern, string, flags=0)\n",
    "    \n",
    "- \"text\" :- literal match, it matches the charectars by characters\n",
    "- \"[arn]\" :- Returns a match where one of the specified characters (a, r, or n) is present"
   ]
  },
  {
   "cell_type": "markdown",
   "id": "9ac45074",
   "metadata": {},
   "source": [
    "- \"{}\" = Exactly the specified number of occurrences"
   ]
  },
  {
   "cell_type": "markdown",
   "id": "24aaf5de",
   "metadata": {},
   "source": [
    "### 1. \\d\n",
    "- \\d --> [0 - 9] only \n",
    "\n",
    "### 2. \\D\n",
    "- \\D --> [^0-9] Except number include everything (each special characters and alphabets)\n",
    "\n",
    "### 3. \\s\n",
    "- \\s --> [ ] only spaces and new line \"\\n\"\n",
    "\n",
    "### 4. \\S\n",
    "- \\S --> [^ ] Except spaces include everything\n",
    "\n",
    "### 5. \\w\n",
    "- \\w --> [a-zA-Z0-9] all alphanumeric values, except Special characters\n",
    "\n",
    "### 6. \\W\n",
    "- \\W --> [^ a-zA-Z0-9] No alphanumeric values, except Special characters\n",
    "\n",
    "### 7. \\b\n",
    "- word boundry\n",
    "- It will help us to check for char at the start or end of the word\n",
    "- Returns a match where the specified characters are at the beginning or at the end of a word\n",
    "\n",
    "###### Note :-  Make Raw string whenever the specile sequence starts with \\. otherwise it will consider as a char\n",
    "    - re.findall(r\"\\b[sequence]\")"
   ]
  },
  {
   "cell_type": "code",
   "execution_count": null,
   "id": "9427af2f",
   "metadata": {},
   "outputs": [],
   "source": []
  },
  {
   "cell_type": "markdown",
   "id": "a76e5129",
   "metadata": {},
   "source": [
    "## Special Sequence"
   ]
  },
  {
   "cell_type": "markdown",
   "id": "2e8f78b2",
   "metadata": {},
   "source": [
    "## 1. + (plus)\n",
    "     - + = one or more occurences of a characters\n",
    "     - at least one character should be there to print the output, else empty string will be return\n",
    "###### NOTE:- mention + in front of the available characters"
   ]
  },
  {
   "cell_type": "code",
   "execution_count": 1,
   "id": "a109ee80",
   "metadata": {},
   "outputs": [
    {
     "name": "stdout",
     "output_type": "stream",
     "text": [
      "[]\n",
      "['H']\n",
      "['e']\n"
     ]
    }
   ],
   "source": [
    "import re\n",
    "\n",
    "text = \"Hello\"\n",
    "a = re.findall(\"a+\",text)\n",
    "print(a)\n",
    "b = re.findall(\"H+\",text)\n",
    "print(b)\n",
    "c = re.findall(\"e+\",text)\n",
    "print(c)"
   ]
  },
  {
   "cell_type": "code",
   "execution_count": null,
   "id": "2f6cc8ed",
   "metadata": {},
   "outputs": [],
   "source": []
  },
  {
   "cell_type": "markdown",
   "id": "cba5a8e0",
   "metadata": {},
   "source": [
    "## 2. * (star)\n",
    "     - * = ZERO or more occurences of a characters after specified characters\n",
    "     - weather there is no character or more characters still it will return something\n",
    "NOTE:- mention * in front of the available characters"
   ]
  },
  {
   "cell_type": "code",
   "execution_count": 2,
   "id": "726c02c2",
   "metadata": {},
   "outputs": [
    {
     "name": "stdout",
     "output_type": "stream",
     "text": [
      "['Data Science', 'Dta Science', 'Daaaaaata Science']\n"
     ]
    }
   ],
   "source": [
    "text = \"\"\"Data Science Dta Science Daaaaaata Science Dtaaaaaa Science\"\"\"\n",
    "\n",
    "start_ma = re.findall(r\"Da*ta Science\",text)\n",
    "print(start_ma)"
   ]
  },
  {
   "cell_type": "code",
   "execution_count": 3,
   "id": "f9047075",
   "metadata": {},
   "outputs": [
    {
     "name": "stdout",
     "output_type": "stream",
     "text": [
      "['Data Science', 'Dta Science', 'Daaaaaata Science', 'Dtaaaaaa Science']\n"
     ]
    }
   ],
   "source": [
    "text = \"\"\"Data Science Dta Science Daaaaaata Science Dtaaaaaa Science\"\"\"\n",
    "\n",
    "start_ma = re.findall(r\"Da*ta* Science\",text)\n",
    "print(start_ma)"
   ]
  },
  {
   "cell_type": "code",
   "execution_count": 4,
   "id": "2c89925b",
   "metadata": {},
   "outputs": [
    {
     "name": "stdout",
     "output_type": "stream",
     "text": [
      "['Data Sience']\n"
     ]
    }
   ],
   "source": [
    "text = \"\"\"Data Sience\"\"\"\n",
    "\n",
    "start_ma = re.findall(r\"Data Sc*ience\",text)\n",
    "print(start_ma)"
   ]
  },
  {
   "cell_type": "code",
   "execution_count": 5,
   "id": "2d5f89a7",
   "metadata": {},
   "outputs": [
    {
     "name": "stdout",
     "output_type": "stream",
     "text": [
      "['http://localhost:8888/notebooks/02.%20Velocity%20Class%20Notes/Class']\n",
      "['http://localhost:8888/notebooks/02.%20Velocity%20Class%20Notes/Class', '']\n"
     ]
    }
   ],
   "source": [
    "url = r\"http://localhost:8888/notebooks/02.%20Velocity%20Class%20Notes/Class\"\n",
    "urll1 = re.findall(\"\\S+\",url)\n",
    "urll2 = re.findall(\"\\S*\",url)\n",
    "\n",
    "print(urll1)\n",
    "print(urll2)"
   ]
  },
  {
   "cell_type": "code",
   "execution_count": null,
   "id": "e97f22eb",
   "metadata": {},
   "outputs": [],
   "source": []
  },
  {
   "cell_type": "markdown",
   "id": "b2c15688",
   "metadata": {},
   "source": [
    "## 3. dot(.)\n",
    "    - . = Any Characters [Except newline (\\n)]\n",
    "\n",
    "###### Note:- After (.) any characters will be accepted EXCEPT NEW LINE (\\n)"
   ]
  },
  {
   "cell_type": "code",
   "execution_count": 6,
   "id": "9d356e12",
   "metadata": {},
   "outputs": [
    {
     "name": "stdout",
     "output_type": "stream",
     "text": [
      "['py', 'ho']\n",
      "['py!', 'hon']\n",
      "['py!h']\n",
      "['py!ho']\n",
      "['py!hon']\n"
     ]
    }
   ],
   "source": [
    "txt = \"\"\"py!hon\"\"\"\n",
    "ch = re.findall(\"\\w.\",txt)\n",
    "ch1 = re.findall(\"\\w..\",txt)\n",
    "ch2 = re.findall(\"\\w...\",txt)\n",
    "ch3 = re.findall(\"\\w....\",txt)\n",
    "ch4 = re.findall(\"\\w.....\",txt)\n",
    "\n",
    "print(ch)\n",
    "print(ch1)\n",
    "print(ch2)\n",
    "print(ch3)\n",
    "print(ch4)"
   ]
  },
  {
   "cell_type": "code",
   "execution_count": 7,
   "id": "a5f9528b",
   "metadata": {},
   "outputs": [
    {
     "name": "stdout",
     "output_type": "stream",
     "text": [
      "['python', 'pyt!on', 'pyt5on', 'pyt$on']\n"
     ]
    }
   ],
   "source": [
    "texc = \"\"\"python pyt!on pyt5on pyt$on\"\"\"\n",
    "te = re.findall(\"pyt.on\",texc)\n",
    "print(te)"
   ]
  },
  {
   "cell_type": "code",
   "execution_count": 8,
   "id": "8d1314a0",
   "metadata": {},
   "outputs": [
    {
     "name": "stdout",
     "output_type": "stream",
     "text": [
      "['johnweak123@gmail.com']\n"
     ]
    }
   ],
   "source": [
    "mail = \"johnweak123@gmail.com\"\n",
    "\n",
    "e_mail = re.findall(\"\\w.+\",mail)\n",
    "print(e_mail)"
   ]
  },
  {
   "cell_type": "code",
   "execution_count": null,
   "id": "f98b3e4e",
   "metadata": {},
   "outputs": [],
   "source": []
  },
  {
   "cell_type": "markdown",
   "id": "36138566",
   "metadata": {},
   "source": [
    "### 4. ? \n",
    "    - ? = It matches exactly Zero or One Char\n",
    "    - if there is multiple characters then only one occurence will be print"
   ]
  },
  {
   "cell_type": "code",
   "execution_count": 9,
   "id": "06e24e7e",
   "metadata": {},
   "outputs": [
    {
     "data": {
      "text/plain": [
       "['Hi']"
      ]
     },
     "execution_count": 9,
     "metadata": {},
     "output_type": "execute_result"
    }
   ],
   "source": [
    "text = \"\"\"Hi\"\"\"\n",
    "res = re.findall(r\"Hi?\",text)\n",
    "res"
   ]
  },
  {
   "cell_type": "code",
   "execution_count": 10,
   "id": "e7b6a4aa",
   "metadata": {},
   "outputs": [
    {
     "data": {
      "text/plain": [
       "['H']"
      ]
     },
     "execution_count": 10,
     "metadata": {},
     "output_type": "execute_result"
    }
   ],
   "source": [
    "text = \"\"\"H\"\"\"\n",
    "res = re.findall(r\"Hi?\",text)\n",
    "res"
   ]
  },
  {
   "cell_type": "code",
   "execution_count": 11,
   "id": "90ccafc4",
   "metadata": {},
   "outputs": [
    {
     "data": {
      "text/plain": [
       "['Hi']"
      ]
     },
     "execution_count": 11,
     "metadata": {},
     "output_type": "execute_result"
    }
   ],
   "source": [
    "text = \"\"\"Hiiiiii\"\"\"\n",
    "res = re.findall(r\"Hi?\",text)\n",
    "res"
   ]
  },
  {
   "cell_type": "code",
   "execution_count": 12,
   "id": "7303e1b4",
   "metadata": {},
   "outputs": [
    {
     "data": {
      "text/plain": [
       "['PPPPPPPython']"
      ]
     },
     "execution_count": 12,
     "metadata": {},
     "output_type": "execute_result"
    }
   ],
   "source": [
    "text = \"\"\"PPPPPPPython\"\"\"\n",
    "res = re.findall(r\"P?\\w+\",text)\n",
    "res"
   ]
  },
  {
   "cell_type": "code",
   "execution_count": 13,
   "id": "68aea14f",
   "metadata": {},
   "outputs": [
    {
     "data": {
      "text/plain": [
       "['Python']"
      ]
     },
     "execution_count": 13,
     "metadata": {},
     "output_type": "execute_result"
    }
   ],
   "source": [
    "text = \"\"\"PPPPPPPython\"\"\"\n",
    "res = re.findall(r\"P?ython\",text)\n",
    "res"
   ]
  },
  {
   "cell_type": "markdown",
   "id": "18986e59",
   "metadata": {},
   "source": [
    "### 5. ^( startswith)\n",
    "    - ^ = This symbole is use to check weather the string is starting with the specified character or not "
   ]
  },
  {
   "cell_type": "code",
   "execution_count": 14,
   "id": "a8181b65",
   "metadata": {},
   "outputs": [
    {
     "data": {
      "text/plain": [
       "['P']"
      ]
     },
     "execution_count": 14,
     "metadata": {},
     "output_type": "execute_result"
    }
   ],
   "source": [
    "text = \"\"\"Python\"\"\"\n",
    "result = re.findall(\"^P\",text)\n",
    "result"
   ]
  },
  {
   "cell_type": "code",
   "execution_count": 15,
   "id": "711e93ff",
   "metadata": {},
   "outputs": [
    {
     "data": {
      "text/plain": [
       "['Python#$%&&']"
      ]
     },
     "execution_count": 15,
     "metadata": {},
     "output_type": "execute_result"
    }
   ],
   "source": [
    "text = \"\"\"Python#$%&&\"\"\"\n",
    "result = re.findall(\"^P.+\",text)\n",
    "result"
   ]
  },
  {
   "cell_type": "code",
   "execution_count": 16,
   "id": "8dbef54b",
   "metadata": {},
   "outputs": [
    {
     "data": {
      "text/plain": [
       "[]"
      ]
     },
     "execution_count": 16,
     "metadata": {},
     "output_type": "execute_result"
    }
   ],
   "source": [
    "text = \"\"\"ython#$%&&\"\"\"\n",
    "result = re.findall(\"^P.+\",text)\n",
    "result"
   ]
  },
  {
   "cell_type": "code",
   "execution_count": 17,
   "id": "d4999b9e",
   "metadata": {},
   "outputs": [
    {
     "data": {
      "text/plain": [
       "[]"
      ]
     },
     "execution_count": 17,
     "metadata": {},
     "output_type": "execute_result"
    }
   ],
   "source": [
    "text = \"\"\"langPython#$%&&\"\"\"\n",
    "result = re.findall(\"^P.+\",text)\n",
    "result"
   ]
  },
  {
   "cell_type": "markdown",
   "id": "760738a6",
   "metadata": {},
   "source": [
    "### 6.   $ (endswith)\n",
    "    -  symbole is use to check weather the given string is ending with specified character or not"
   ]
  },
  {
   "cell_type": "code",
   "execution_count": 18,
   "id": "f7889c11",
   "metadata": {},
   "outputs": [
    {
     "data": {
      "text/plain": [
       "['n']"
      ]
     },
     "execution_count": 18,
     "metadata": {},
     "output_type": "execute_result"
    }
   ],
   "source": [
    "text = \"\"\"Python\"\"\"\n",
    "result = re.findall(\"n$\",text)\n",
    "result"
   ]
  },
  {
   "cell_type": "code",
   "execution_count": 19,
   "id": "1a1afe23",
   "metadata": {},
   "outputs": [
    {
     "data": {
      "text/plain": [
       "['hon']"
      ]
     },
     "execution_count": 19,
     "metadata": {},
     "output_type": "execute_result"
    }
   ],
   "source": [
    "text = \"\"\"Python\"\"\"\n",
    "result = re.findall(\"hon$\",text)\n",
    "result"
   ]
  },
  {
   "cell_type": "code",
   "execution_count": 20,
   "id": "be668727",
   "metadata": {},
   "outputs": [
    {
     "data": {
      "text/plain": [
       "['&']"
      ]
     },
     "execution_count": 20,
     "metadata": {},
     "output_type": "execute_result"
    }
   ],
   "source": [
    "text = \"\"\"langPython#$%&&\"\"\"\n",
    "result = re.findall(\"&$\",text)\n",
    "result"
   ]
  },
  {
   "cell_type": "code",
   "execution_count": 21,
   "id": "8437a9c9",
   "metadata": {},
   "outputs": [
    {
     "data": {
      "text/plain": [
       "['Python#$%&&']"
      ]
     },
     "execution_count": 21,
     "metadata": {},
     "output_type": "execute_result"
    }
   ],
   "source": [
    "text = \"\"\"langPython#$%&&\"\"\"\n",
    "result = re.findall(\"P.+$\",text)\n",
    "result"
   ]
  },
  {
   "cell_type": "code",
   "execution_count": 22,
   "id": "47f2ad1d",
   "metadata": {},
   "outputs": [
    {
     "data": {
      "text/plain": [
       "[]"
      ]
     },
     "execution_count": 22,
     "metadata": {},
     "output_type": "execute_result"
    }
   ],
   "source": [
    "text = \"\"\"langPython#$%&&\"\"\"\n",
    "result = re.findall(\"P$\",text)\n",
    "result"
   ]
  },
  {
   "cell_type": "markdown",
   "id": "6253ebc6",
   "metadata": {},
   "source": [
    "### 7. (.+) dot plus\n",
    "-  (.) everything will be acepted except space and  (+) at least one or more character should be there.\n",
    "- overall every character is accepted and the sequece will be continiued further utill the next condition."
   ]
  },
  {
   "cell_type": "markdown",
   "id": "68dc1e5e",
   "metadata": {},
   "source": [
    "### 8. (.*) dot star\n",
    "- after dot everything character is excepted weather the character is zero or more occurences"
   ]
  },
  {
   "cell_type": "markdown",
   "id": "4e092446",
   "metadata": {},
   "source": [
    "### 9. | (or)"
   ]
  },
  {
   "cell_type": "code",
   "execution_count": 25,
   "id": "11e7ad56",
   "metadata": {},
   "outputs": [
    {
     "data": {
      "text/plain": [
       "[('20-05-2022', ''),\n",
       " ('30.06.2022', ''),\n",
       " ('15,02,2021', ''),\n",
       " ('', '23-jan-2023'),\n",
       " ('05 05 2021', ''),\n",
       " ('06/02/2023', ''),\n",
       " ('08//09//2024', ''),\n",
       " ('08--09--2024', ''),\n",
       " ('', '02-December-2023')]"
      ]
     },
     "execution_count": 25,
     "metadata": {},
     "output_type": "execute_result"
    }
   ],
   "source": [
    "dates = \"\"\"\n",
    "20-05-2022,\n",
    "30.06.2022,\n",
    "15,02,2021,\n",
    "23-jan-2023,\n",
    "05 05 2021,\n",
    "06/02/2023,\n",
    "08//09//2024,\n",
    "08--09--2024,\n",
    "02-December-2023\n",
    "\"\"\"\n",
    "re.findall(r\"(\\d{2}[-,./ ]{1,2}\\d{2}[-,./ ]{1,2}\\d{4})|(\\d{2}[-]\\w{3,10}[-]\\d{4})\",dates)"
   ]
  },
  {
   "cell_type": "markdown",
   "id": "a8f8046d",
   "metadata": {},
   "source": [
    "## 10. ()\n",
    "- group of characters"
   ]
  },
  {
   "cell_type": "code",
   "execution_count": 26,
   "id": "b1a07184",
   "metadata": {},
   "outputs": [
    {
     "data": {
      "text/plain": [
       "<re.Match object; span=(0, 8), match='superman'>"
      ]
     },
     "execution_count": 26,
     "metadata": {},
     "output_type": "execute_result"
    }
   ],
   "source": [
    "text = \"superman and superwoman\"\n",
    "word = re.search(\"super(wo)?man\",text)\n",
    "word"
   ]
  },
  {
   "cell_type": "code",
   "execution_count": 27,
   "id": "78beedbd",
   "metadata": {},
   "outputs": [
    {
     "data": {
      "text/plain": [
       "'superman'"
      ]
     },
     "execution_count": 27,
     "metadata": {},
     "output_type": "execute_result"
    }
   ],
   "source": [
    "word.group()"
   ]
  },
  {
   "cell_type": "code",
   "execution_count": 36,
   "id": "8a058604",
   "metadata": {},
   "outputs": [
    {
     "data": {
      "text/plain": [
       "'superman'"
      ]
     },
     "execution_count": 36,
     "metadata": {},
     "output_type": "execute_result"
    }
   ],
   "source": [
    "word[0]"
   ]
  },
  {
   "cell_type": "code",
   "execution_count": 37,
   "id": "6ca430f3",
   "metadata": {},
   "outputs": [
    {
     "data": {
      "text/plain": [
       "<re.Match object; span=(0, 10), match='superwoman'>"
      ]
     },
     "execution_count": 37,
     "metadata": {},
     "output_type": "execute_result"
    }
   ],
   "source": [
    "text = \"superwoman and superman\"\n",
    "word = re.search(\"super(wo)?man\",text)\n",
    "word"
   ]
  },
  {
   "cell_type": "code",
   "execution_count": 38,
   "id": "2374bf0c",
   "metadata": {},
   "outputs": [
    {
     "data": {
      "text/plain": [
       "'superwoman'"
      ]
     },
     "execution_count": 38,
     "metadata": {},
     "output_type": "execute_result"
    }
   ],
   "source": [
    "word.group()"
   ]
  },
  {
   "cell_type": "code",
   "execution_count": 41,
   "id": "8dfeaa17",
   "metadata": {},
   "outputs": [
    {
     "data": {
      "text/plain": [
       "'superwoman'"
      ]
     },
     "execution_count": 41,
     "metadata": {},
     "output_type": "execute_result"
    }
   ],
   "source": [
    "word[0]"
   ]
  },
  {
   "cell_type": "code",
   "execution_count": null,
   "id": "2846f46b",
   "metadata": {},
   "outputs": [],
   "source": []
  },
  {
   "cell_type": "markdown",
   "id": "6402d1e7",
   "metadata": {},
   "source": [
    "## 2. Functions"
   ]
  },
  {
   "cell_type": "markdown",
   "id": "37cf770a",
   "metadata": {},
   "source": [
    "## 1. compile\n",
    "- Python’s re.compile() method is used to compile a regular expression pattern provided as a string into a regex pattern object (re.Pattern). Later we can use this pattern object to search for a match inside different target strings using regex methods such as a re.match() or re.search().\n",
    "- using compile method we can create an object of a perticular pattern so that later we use this pattern to search or match that perticular pattern in different target strings\n",
    "- Syntax\n",
    "    - re.compile(patten, text)"
   ]
  },
  {
   "cell_type": "code",
   "execution_count": null,
   "id": "0e94a441",
   "metadata": {},
   "outputs": [],
   "source": []
  },
  {
   "cell_type": "markdown",
   "id": "0a6fc113",
   "metadata": {},
   "source": [
    "## 2. split()\n",
    "- this method allows us to split the string with the specified characters as well as the count of the charcters\n",
    "- Syntax\n",
    "    - re.split(patten,maxsplit=0,text)"
   ]
  },
  {
   "cell_type": "markdown",
   "id": "79dcfdf6",
   "metadata": {},
   "source": [
    "## 2. search()\n",
    "- It searches for a match and return an object of the first match/occurrence of a characters only\n",
    "- Syntax\n",
    "    - re.search(pattern,text)"
   ]
  },
  {
   "cell_type": "markdown",
   "id": "17496cf4",
   "metadata": {},
   "source": [
    "## 3. match()\n",
    "- It searches for a match at the begining of the string and returns an object\n",
    "- Syntax\n",
    "    - re.match(pattern, text)"
   ]
  },
  {
   "cell_type": "markdown",
   "id": "f2d24e93",
   "metadata": {},
   "source": [
    "## 4. sub()\n",
    "- This method replace or substitutes the value with another values\n",
    "- Syntax\n",
    "    - re.sub(pattern, repl, string)"
   ]
  },
  {
   "cell_type": "code",
   "execution_count": null,
   "id": "2382cf50",
   "metadata": {},
   "outputs": [],
   "source": []
  }
 ],
 "metadata": {
  "kernelspec": {
   "display_name": "Python 3 (ipykernel)",
   "language": "python",
   "name": "python3"
  },
  "language_info": {
   "codemirror_mode": {
    "name": "ipython",
    "version": 3
   },
   "file_extension": ".py",
   "mimetype": "text/x-python",
   "name": "python",
   "nbconvert_exporter": "python",
   "pygments_lexer": "ipython3",
   "version": "3.9.12"
  }
 },
 "nbformat": 4,
 "nbformat_minor": 5
}
