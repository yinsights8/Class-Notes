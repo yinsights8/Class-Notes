{
 "cells": [
  {
   "cell_type": "code",
   "execution_count": 100,
   "id": "ae3d868c",
   "metadata": {},
   "outputs": [],
   "source": [
    "import pandas as pd\n",
    "import numpy as np\n",
    "from scipy import stats\n",
    "import seaborn as sns\n",
    "import matplotlib.pyplot as plt"
   ]
  },
  {
   "cell_type": "code",
   "execution_count": null,
   "id": "0a4a8dbe",
   "metadata": {},
   "outputs": [],
   "source": []
  },
  {
   "cell_type": "code",
   "execution_count": 6,
   "id": "1af43d3b",
   "metadata": {},
   "outputs": [
    {
     "data": {
      "text/html": [
       "<div>\n",
       "<style scoped>\n",
       "    .dataframe tbody tr th:only-of-type {\n",
       "        vertical-align: middle;\n",
       "    }\n",
       "\n",
       "    .dataframe tbody tr th {\n",
       "        vertical-align: top;\n",
       "    }\n",
       "\n",
       "    .dataframe thead th {\n",
       "        text-align: right;\n",
       "    }\n",
       "</style>\n",
       "<table border=\"1\" class=\"dataframe\">\n",
       "  <thead>\n",
       "    <tr style=\"text-align: right;\">\n",
       "      <th></th>\n",
       "      <th>Email</th>\n",
       "      <th>Address</th>\n",
       "      <th>Avatar</th>\n",
       "      <th>Avg. Session Length</th>\n",
       "      <th>Time on App</th>\n",
       "      <th>Time on Website</th>\n",
       "      <th>Length of Membership</th>\n",
       "      <th>Yearly Amount Spent</th>\n",
       "    </tr>\n",
       "  </thead>\n",
       "  <tbody>\n",
       "    <tr>\n",
       "      <th>0</th>\n",
       "      <td>mstephenson@fernandez.com</td>\n",
       "      <td>835 Frank Tunnel\\nWrightmouth, MI 82180-9605</td>\n",
       "      <td>Violet</td>\n",
       "      <td>34.497268</td>\n",
       "      <td>12.655651</td>\n",
       "      <td>39.577668</td>\n",
       "      <td>4.082621</td>\n",
       "      <td>587.951054</td>\n",
       "    </tr>\n",
       "    <tr>\n",
       "      <th>1</th>\n",
       "      <td>hduke@hotmail.com</td>\n",
       "      <td>4547 Archer Common\\nDiazchester, CA 06566-8576</td>\n",
       "      <td>DarkGreen</td>\n",
       "      <td>31.926272</td>\n",
       "      <td>11.109461</td>\n",
       "      <td>37.268959</td>\n",
       "      <td>2.664034</td>\n",
       "      <td>392.204933</td>\n",
       "    </tr>\n",
       "    <tr>\n",
       "      <th>2</th>\n",
       "      <td>pallen@yahoo.com</td>\n",
       "      <td>24645 Valerie Unions Suite 582\\nCobbborough, D...</td>\n",
       "      <td>Bisque</td>\n",
       "      <td>33.000915</td>\n",
       "      <td>11.330278</td>\n",
       "      <td>37.110597</td>\n",
       "      <td>4.104543</td>\n",
       "      <td>487.547505</td>\n",
       "    </tr>\n",
       "    <tr>\n",
       "      <th>3</th>\n",
       "      <td>riverarebecca@gmail.com</td>\n",
       "      <td>1414 David Throughway\\nPort Jason, OH 22070-1220</td>\n",
       "      <td>SaddleBrown</td>\n",
       "      <td>34.305557</td>\n",
       "      <td>13.717514</td>\n",
       "      <td>36.721283</td>\n",
       "      <td>3.120179</td>\n",
       "      <td>581.852344</td>\n",
       "    </tr>\n",
       "    <tr>\n",
       "      <th>4</th>\n",
       "      <td>mstephens@davidson-herman.com</td>\n",
       "      <td>14023 Rodriguez Passage\\nPort Jacobville, PR 3...</td>\n",
       "      <td>MediumAquaMarine</td>\n",
       "      <td>33.330673</td>\n",
       "      <td>12.795189</td>\n",
       "      <td>37.536653</td>\n",
       "      <td>4.446308</td>\n",
       "      <td>599.406092</td>\n",
       "    </tr>\n",
       "  </tbody>\n",
       "</table>\n",
       "</div>"
      ],
      "text/plain": [
       "                           Email  \\\n",
       "0      mstephenson@fernandez.com   \n",
       "1              hduke@hotmail.com   \n",
       "2               pallen@yahoo.com   \n",
       "3        riverarebecca@gmail.com   \n",
       "4  mstephens@davidson-herman.com   \n",
       "\n",
       "                                             Address            Avatar  \\\n",
       "0       835 Frank Tunnel\\nWrightmouth, MI 82180-9605            Violet   \n",
       "1     4547 Archer Common\\nDiazchester, CA 06566-8576         DarkGreen   \n",
       "2  24645 Valerie Unions Suite 582\\nCobbborough, D...            Bisque   \n",
       "3   1414 David Throughway\\nPort Jason, OH 22070-1220       SaddleBrown   \n",
       "4  14023 Rodriguez Passage\\nPort Jacobville, PR 3...  MediumAquaMarine   \n",
       "\n",
       "   Avg. Session Length  Time on App  Time on Website  Length of Membership  \\\n",
       "0            34.497268    12.655651        39.577668              4.082621   \n",
       "1            31.926272    11.109461        37.268959              2.664034   \n",
       "2            33.000915    11.330278        37.110597              4.104543   \n",
       "3            34.305557    13.717514        36.721283              3.120179   \n",
       "4            33.330673    12.795189        37.536653              4.446308   \n",
       "\n",
       "   Yearly Amount Spent  \n",
       "0           587.951054  \n",
       "1           392.204933  \n",
       "2           487.547505  \n",
       "3           581.852344  \n",
       "4           599.406092  "
      ]
     },
     "execution_count": 6,
     "metadata": {},
     "output_type": "execute_result"
    }
   ],
   "source": [
    "data = pd.read_csv(\"Ecommerce Customers.csv\")\n",
    "data.head()"
   ]
  },
  {
   "cell_type": "code",
   "execution_count": 3,
   "id": "6cc6c1fd",
   "metadata": {},
   "outputs": [
    {
     "name": "stdout",
     "output_type": "stream",
     "text": [
      "<class 'pandas.core.frame.DataFrame'>\n",
      "RangeIndex: 500 entries, 0 to 499\n",
      "Data columns (total 8 columns):\n",
      " #   Column                Non-Null Count  Dtype  \n",
      "---  ------                --------------  -----  \n",
      " 0   Email                 500 non-null    object \n",
      " 1   Address               500 non-null    object \n",
      " 2   Avatar                500 non-null    object \n",
      " 3   Avg. Session Length   500 non-null    float64\n",
      " 4   Time on App           500 non-null    float64\n",
      " 5   Time on Website       500 non-null    float64\n",
      " 6   Length of Membership  500 non-null    float64\n",
      " 7   Yearly Amount Spent   500 non-null    float64\n",
      "dtypes: float64(5), object(3)\n",
      "memory usage: 31.4+ KB\n"
     ]
    }
   ],
   "source": [
    "data.info()"
   ]
  },
  {
   "cell_type": "code",
   "execution_count": 4,
   "id": "09706c3a",
   "metadata": {},
   "outputs": [],
   "source": [
    "backup = data.copy()"
   ]
  },
  {
   "cell_type": "code",
   "execution_count": 7,
   "id": "2c9d96d1",
   "metadata": {},
   "outputs": [],
   "source": [
    "df = data.drop([\"Email\", \"Address\", \"Avatar\"], axis=1)"
   ]
  },
  {
   "cell_type": "code",
   "execution_count": 8,
   "id": "b22f93a1",
   "metadata": {},
   "outputs": [
    {
     "name": "stdout",
     "output_type": "stream",
     "text": [
      "<class 'pandas.core.frame.DataFrame'>\n",
      "RangeIndex: 500 entries, 0 to 499\n",
      "Data columns (total 5 columns):\n",
      " #   Column                Non-Null Count  Dtype  \n",
      "---  ------                --------------  -----  \n",
      " 0   Avg. Session Length   500 non-null    float64\n",
      " 1   Time on App           500 non-null    float64\n",
      " 2   Time on Website       500 non-null    float64\n",
      " 3   Length of Membership  500 non-null    float64\n",
      " 4   Yearly Amount Spent   500 non-null    float64\n",
      "dtypes: float64(5)\n",
      "memory usage: 19.7 KB\n"
     ]
    }
   ],
   "source": [
    "df.info()"
   ]
  },
  {
   "cell_type": "markdown",
   "id": "d2668aad",
   "metadata": {},
   "source": [
    "### Check For Outliers"
   ]
  },
  {
   "cell_type": "code",
   "execution_count": 12,
   "id": "df12a812",
   "metadata": {},
   "outputs": [
    {
     "data": {
      "text/plain": [
       "Index(['Avg. Session Length', 'Time on App', 'Time on Website',\n",
       "       'Length of Membership', 'Yearly Amount Spent'],\n",
       "      dtype='object')"
      ]
     },
     "execution_count": 12,
     "metadata": {},
     "output_type": "execute_result"
    }
   ],
   "source": [
    "df.columns"
   ]
  },
  {
   "cell_type": "code",
   "execution_count": 26,
   "id": "a340a2a6",
   "metadata": {},
   "outputs": [
    {
     "data": {
      "text/plain": [
       "Avg. Session Length        AxesSubplot(0.125,0.653529;0.227941x0.226471)\n",
       "Time on App             AxesSubplot(0.398529,0.653529;0.227941x0.226471)\n",
       "Time on Website         AxesSubplot(0.672059,0.653529;0.227941x0.226471)\n",
       "Length of Membership       AxesSubplot(0.125,0.381765;0.227941x0.226471)\n",
       "Yearly Amount Spent     AxesSubplot(0.398529,0.381765;0.227941x0.226471)\n",
       "dtype: object"
      ]
     },
     "execution_count": 26,
     "metadata": {},
     "output_type": "execute_result"
    },
    {
     "data": {
      "image/png": "[encoded data removed]",
      "text/plain": [
       "<Figure size 2000x1500 with 9 Axes>"
      ]
     },
     "metadata": {},
     "output_type": "display_data"
    }
   ],
   "source": [
    "sns.set_theme(color_codes=True)\n",
    "df.plot(kind=\"box\", subplots=True, layout=(3,3), grid=True, figsize=(20,15))"
   ]
  },
  {
   "cell_type": "code",
   "execution_count": 30,
   "id": "9c5dc09c",
   "metadata": {},
   "outputs": [
    {
     "data": {
      "text/plain": [
       "array([[<AxesSubplot: ylabel='Density'>, <AxesSubplot: ylabel='Density'>,\n",
       "        <AxesSubplot: ylabel='Density'>],\n",
       "       [<AxesSubplot: ylabel='Density'>, <AxesSubplot: ylabel='Density'>,\n",
       "        <AxesSubplot: ylabel='Density'>],\n",
       "       [<AxesSubplot: ylabel='Density'>, <AxesSubplot: ylabel='Density'>,\n",
       "        <AxesSubplot: ylabel='Density'>]], dtype=object)"
      ]
     },
     "execution_count": 30,
     "metadata": {},
     "output_type": "execute_result"
    },
    {
     "data": {
      "image/png": "[encoded data removed]",
      "text/plain": [
       "<Figure size 2000x1500 with 9 Axes>"
      ]
     },
     "metadata": {},
     "output_type": "display_data"
    }
   ],
   "source": [
    "df.plot(kind=\"density\", subplots=True, layout=(3,3), grid=True, figsize=(20,15))"
   ]
  },
  {
   "cell_type": "code",
   "execution_count": null,
   "id": "833dee1b",
   "metadata": {},
   "outputs": [],
   "source": []
  },
  {
   "cell_type": "code",
   "execution_count": 54,
   "id": "5ed9e7d3",
   "metadata": {},
   "outputs": [
    {
     "data": {
      "text/html": [
       "<div>\n",
       "<style scoped>\n",
       "    .dataframe tbody tr th:only-of-type {\n",
       "        vertical-align: middle;\n",
       "    }\n",
       "\n",
       "    .dataframe tbody tr th {\n",
       "        vertical-align: top;\n",
       "    }\n",
       "\n",
       "    .dataframe thead th {\n",
       "        text-align: right;\n",
       "    }\n",
       "</style>\n",
       "<table border=\"1\" class=\"dataframe\">\n",
       "  <thead>\n",
       "    <tr style=\"text-align: right;\">\n",
       "      <th></th>\n",
       "      <th>Avg. Session Length</th>\n",
       "      <th>Time on App</th>\n",
       "      <th>Time on Website</th>\n",
       "      <th>Length of Membership</th>\n",
       "      <th>Yearly Amount Spent</th>\n",
       "    </tr>\n",
       "  </thead>\n",
       "  <tbody>\n",
       "    <tr>\n",
       "      <th>count</th>\n",
       "      <td>500.000000</td>\n",
       "      <td>500.000000</td>\n",
       "      <td>500.000000</td>\n",
       "      <td>500.000000</td>\n",
       "      <td>500.000000</td>\n",
       "    </tr>\n",
       "    <tr>\n",
       "      <th>mean</th>\n",
       "      <td>33.053194</td>\n",
       "      <td>12.052488</td>\n",
       "      <td>37.060445</td>\n",
       "      <td>3.533462</td>\n",
       "      <td>499.314038</td>\n",
       "    </tr>\n",
       "    <tr>\n",
       "      <th>std</th>\n",
       "      <td>0.992563</td>\n",
       "      <td>0.994216</td>\n",
       "      <td>1.010489</td>\n",
       "      <td>0.999278</td>\n",
       "      <td>79.314782</td>\n",
       "    </tr>\n",
       "    <tr>\n",
       "      <th>min</th>\n",
       "      <td>29.532429</td>\n",
       "      <td>8.508152</td>\n",
       "      <td>33.913847</td>\n",
       "      <td>0.269901</td>\n",
       "      <td>256.670582</td>\n",
       "    </tr>\n",
       "    <tr>\n",
       "      <th>25%</th>\n",
       "      <td>32.341822</td>\n",
       "      <td>11.388153</td>\n",
       "      <td>36.349257</td>\n",
       "      <td>2.930450</td>\n",
       "      <td>445.038277</td>\n",
       "    </tr>\n",
       "    <tr>\n",
       "      <th>50%</th>\n",
       "      <td>33.082008</td>\n",
       "      <td>11.983231</td>\n",
       "      <td>37.069367</td>\n",
       "      <td>3.533975</td>\n",
       "      <td>498.887875</td>\n",
       "    </tr>\n",
       "    <tr>\n",
       "      <th>75%</th>\n",
       "      <td>33.711985</td>\n",
       "      <td>12.753850</td>\n",
       "      <td>37.716432</td>\n",
       "      <td>4.126502</td>\n",
       "      <td>549.313828</td>\n",
       "    </tr>\n",
       "    <tr>\n",
       "      <th>max</th>\n",
       "      <td>36.139662</td>\n",
       "      <td>15.126994</td>\n",
       "      <td>40.005182</td>\n",
       "      <td>6.922689</td>\n",
       "      <td>765.518462</td>\n",
       "    </tr>\n",
       "  </tbody>\n",
       "</table>\n",
       "</div>"
      ],
      "text/plain": [
       "       Avg. Session Length  Time on App  Time on Website  \\\n",
       "count           500.000000   500.000000       500.000000   \n",
       "mean             33.053194    12.052488        37.060445   \n",
       "std               0.992563     0.994216         1.010489   \n",
       "min              29.532429     8.508152        33.913847   \n",
       "25%              32.341822    11.388153        36.349257   \n",
       "50%              33.082008    11.983231        37.069367   \n",
       "75%              33.711985    12.753850        37.716432   \n",
       "max              36.139662    15.126994        40.005182   \n",
       "\n",
       "       Length of Membership  Yearly Amount Spent  \n",
       "count            500.000000           500.000000  \n",
       "mean               3.533462           499.314038  \n",
       "std                0.999278            79.314782  \n",
       "min                0.269901           256.670582  \n",
       "25%                2.930450           445.038277  \n",
       "50%                3.533975           498.887875  \n",
       "75%                4.126502           549.313828  \n",
       "max                6.922689           765.518462  "
      ]
     },
     "execution_count": 54,
     "metadata": {},
     "output_type": "execute_result"
    }
   ],
   "source": [
    "df.describe()"
   ]
  },
  {
   "cell_type": "markdown",
   "id": "96758262",
   "metadata": {},
   "source": [
    "### Get the Outliers by zscore"
   ]
  },
  {
   "cell_type": "raw",
   "id": "55775ea7",
   "metadata": {},
   "source": [
    "formula fo zscore = x - mean(x) / std(x)"
   ]
  },
  {
   "cell_type": "code",
   "execution_count": 69,
   "id": "7ff9b28d",
   "metadata": {},
   "outputs": [
    {
     "data": {
      "text/plain": [
       "Index(['Avg. Session Length', 'Time on App', 'Time on Website',\n",
       "       'Length of Membership', 'Yearly Amount Spent'],\n",
       "      dtype='object')"
      ]
     },
     "execution_count": 69,
     "metadata": {},
     "output_type": "execute_result"
    }
   ],
   "source": [
    "df.columns"
   ]
  },
  {
   "cell_type": "code",
   "execution_count": 127,
   "id": "1205076b",
   "metadata": {},
   "outputs": [
    {
     "data": {
      "text/html": [
       "<div>\n",
       "<style scoped>\n",
       "    .dataframe tbody tr th:only-of-type {\n",
       "        vertical-align: middle;\n",
       "    }\n",
       "\n",
       "    .dataframe tbody tr th {\n",
       "        vertical-align: top;\n",
       "    }\n",
       "\n",
       "    .dataframe thead th {\n",
       "        text-align: right;\n",
       "    }\n",
       "</style>\n",
       "<table border=\"1\" class=\"dataframe\">\n",
       "  <thead>\n",
       "    <tr style=\"text-align: right;\">\n",
       "      <th></th>\n",
       "      <th>Avg. Session Length</th>\n",
       "      <th>Time on App</th>\n",
       "      <th>Time on Website</th>\n",
       "      <th>Length of Membership</th>\n",
       "      <th>Yearly Amount Spent</th>\n",
       "    </tr>\n",
       "  </thead>\n",
       "  <tbody>\n",
       "    <tr>\n",
       "      <th>count</th>\n",
       "      <td>500.000000</td>\n",
       "      <td>500.000000</td>\n",
       "      <td>500.000000</td>\n",
       "      <td>500.000000</td>\n",
       "      <td>500.000000</td>\n",
       "    </tr>\n",
       "    <tr>\n",
       "      <th>mean</th>\n",
       "      <td>33.053194</td>\n",
       "      <td>12.052488</td>\n",
       "      <td>37.060445</td>\n",
       "      <td>3.533462</td>\n",
       "      <td>499.314038</td>\n",
       "    </tr>\n",
       "    <tr>\n",
       "      <th>std</th>\n",
       "      <td>0.992563</td>\n",
       "      <td>0.994216</td>\n",
       "      <td>1.010489</td>\n",
       "      <td>0.999278</td>\n",
       "      <td>79.314782</td>\n",
       "    </tr>\n",
       "    <tr>\n",
       "      <th>min</th>\n",
       "      <td>29.532429</td>\n",
       "      <td>8.508152</td>\n",
       "      <td>33.913847</td>\n",
       "      <td>0.269901</td>\n",
       "      <td>256.670582</td>\n",
       "    </tr>\n",
       "    <tr>\n",
       "      <th>25%</th>\n",
       "      <td>32.341822</td>\n",
       "      <td>11.388153</td>\n",
       "      <td>36.349257</td>\n",
       "      <td>2.930450</td>\n",
       "      <td>445.038277</td>\n",
       "    </tr>\n",
       "    <tr>\n",
       "      <th>50%</th>\n",
       "      <td>33.082008</td>\n",
       "      <td>11.983231</td>\n",
       "      <td>37.069367</td>\n",
       "      <td>3.533975</td>\n",
       "      <td>498.887875</td>\n",
       "    </tr>\n",
       "    <tr>\n",
       "      <th>75%</th>\n",
       "      <td>33.711985</td>\n",
       "      <td>12.753850</td>\n",
       "      <td>37.716432</td>\n",
       "      <td>4.126502</td>\n",
       "      <td>549.313828</td>\n",
       "    </tr>\n",
       "    <tr>\n",
       "      <th>max</th>\n",
       "      <td>36.139662</td>\n",
       "      <td>15.126994</td>\n",
       "      <td>40.005182</td>\n",
       "      <td>6.922689</td>\n",
       "      <td>765.518462</td>\n",
       "    </tr>\n",
       "  </tbody>\n",
       "</table>\n",
       "</div>"
      ],
      "text/plain": [
       "       Avg. Session Length  Time on App  Time on Website  \\\n",
       "count           500.000000   500.000000       500.000000   \n",
       "mean             33.053194    12.052488        37.060445   \n",
       "std               0.992563     0.994216         1.010489   \n",
       "min              29.532429     8.508152        33.913847   \n",
       "25%              32.341822    11.388153        36.349257   \n",
       "50%              33.082008    11.983231        37.069367   \n",
       "75%              33.711985    12.753850        37.716432   \n",
       "max              36.139662    15.126994        40.005182   \n",
       "\n",
       "       Length of Membership  Yearly Amount Spent  \n",
       "count            500.000000           500.000000  \n",
       "mean               3.533462           499.314038  \n",
       "std                0.999278            79.314782  \n",
       "min                0.269901           256.670582  \n",
       "25%                2.930450           445.038277  \n",
       "50%                3.533975           498.887875  \n",
       "75%                4.126502           549.313828  \n",
       "max                6.922689           765.518462  "
      ]
     },
     "execution_count": 127,
     "metadata": {},
     "output_type": "execute_result"
    }
   ],
   "source": [
    "df.describe()"
   ]
  },
  {
   "cell_type": "code",
   "execution_count": 156,
   "id": "5322d447",
   "metadata": {},
   "outputs": [
    {
     "data": {
      "text/plain": [
       "count    500.000000\n",
       "mean      12.052488\n",
       "std        0.994216\n",
       "min        8.508152\n",
       "25%       11.388153\n",
       "50%       11.983231\n",
       "75%       12.753850\n",
       "max       15.126994\n",
       "Name: Time on App, dtype: float64"
      ]
     },
     "execution_count": 156,
     "metadata": {},
     "output_type": "execute_result"
    }
   ],
   "source": []
  },
  {
   "cell_type": "markdown",
   "id": "28099e54",
   "metadata": {},
   "source": [
    "## 1. Time on App"
   ]
  },
  {
   "cell_type": "code",
   "execution_count": 89,
   "id": "f534e56e",
   "metadata": {},
   "outputs": [
    {
     "name": "stdout",
     "output_type": "stream",
     "text": [
      "Outliers in Time on App :- [15.126994288792469, 8.508152176032603, 8.668349517101323]\n"
     ]
    }
   ],
   "source": [
    "mean = np.mean(df[\"Time on App\"])\n",
    "std = np.std(df[\"Time on App\"])\n",
    "# print(mean, std)\n",
    "\n",
    "outliers_2 = []\n",
    "thresh = 3\n",
    "\n",
    "for value in df[\"Time on App\"]:\n",
    "    z_score = (value - mean) / std\n",
    "    if np.abs(z_score) > thresh:\n",
    "        outliers_2.append(value)\n",
    "print(f\"Outliers in Time on App :- {outliers_2}\")"
   ]
  },
  {
   "cell_type": "code",
   "execution_count": 108,
   "id": "25a2b971",
   "metadata": {},
   "outputs": [
    {
     "name": "stdout",
     "output_type": "stream",
     "text": [
      "Outliers in Time on App :- [15.126994288792469, 8.508152176032603, 8.668349517101323]\n"
     ]
    }
   ],
   "source": [
    "z_score_TA = np.abs(stats.zscore(df[\"Time on App\"]))\n",
    "out_TA = np.where(z_score_TA > 3)\n",
    "\n",
    "out_in_TA = [df[\"Time on App\"][i] for i in np.nditer(out_TA)]\n",
    "print(f\"Outliers in Time on App :- {out_in_TA}\")"
   ]
  },
  {
   "cell_type": "code",
   "execution_count": 163,
   "id": "5386d6a6",
   "metadata": {},
   "outputs": [
    {
     "data": {
      "text/plain": [
       "25%    11.388153\n",
       "50%    11.983231\n",
       "75%    12.753850\n",
       "Name: Time on App, dtype: float64"
      ]
     },
     "execution_count": 163,
     "metadata": {},
     "output_type": "execute_result"
    }
   ],
   "source": [
    "df[\"Time on App\"].describe()[4:7]"
   ]
  },
  {
   "cell_type": "code",
   "execution_count": 174,
   "id": "c300578d",
   "metadata": {},
   "outputs": [
    {
     "name": "stdout",
     "output_type": "stream",
     "text": [
      "Time on App\n",
      "\n",
      "for Normal Outliers :- \n",
      "IQR :- -1.365696999999999\n",
      "upper tail = 34.39036750451777\n",
      "Lower_tail = 31.66343952395447\n",
      "Time on App\n",
      "\n",
      "for Extreme Outliers :- \n",
      "IQR :- -1.365696999999999\n",
      "upper tail = 36.43891300451777\n",
      "Lower_tail = 29.61489402395447\n"
     ]
    }
   ],
   "source": [
    "## Normal Outliers for Time on App\n",
    "# IQR = Q3 - Q1\n",
    "# upper_tail = Q1 - 1.5 * IQR\n",
    "# lower_tail = Q3 + 1.5 * IQR\n",
    "print(\"Time on App\\n\")\n",
    "IQR_1 =  11.388153 - 12.753850\n",
    "\n",
    "upper_tail = Q1 - 1.5 * IQR_1\n",
    "lower_tail = Q3 + 1.5 * IQR_1\n",
    "print(f\"for Normal Outliers :- \\nIQR :- {IQR_1}\\nupper tail = {upper_tail}\\nLower_tail = {lower_tail}\")\n",
    "\n",
    "\n",
    "print(\"Time on App\\n\")\n",
    "IQR_1 =  11.388153 - 12.753850\n",
    "\n",
    "upper_tail = Q1 - 3 * IQR_1\n",
    "lower_tail = Q3 + 3 * IQR_1 # For extreme Outliers\n",
    "print(f\"for Extreme Outliers :- \\nIQR :- {IQR_1}\\nupper tail = {upper_tail}\\nLower_tail = {lower_tail}\")"
   ]
  },
  {
   "cell_type": "code",
   "execution_count": 90,
   "id": "44d05981",
   "metadata": {},
   "outputs": [
    {
     "data": {
      "text/html": [
       "<div>\n",
       "<style scoped>\n",
       "    .dataframe tbody tr th:only-of-type {\n",
       "        vertical-align: middle;\n",
       "    }\n",
       "\n",
       "    .dataframe tbody tr th {\n",
       "        vertical-align: top;\n",
       "    }\n",
       "\n",
       "    .dataframe thead th {\n",
       "        text-align: right;\n",
       "    }\n",
       "</style>\n",
       "<table border=\"1\" class=\"dataframe\">\n",
       "  <thead>\n",
       "    <tr style=\"text-align: right;\">\n",
       "      <th></th>\n",
       "      <th>Avg. Session Length</th>\n",
       "      <th>Time on App</th>\n",
       "      <th>Time on Website</th>\n",
       "      <th>Length of Membership</th>\n",
       "      <th>Yearly Amount Spent</th>\n",
       "    </tr>\n",
       "  </thead>\n",
       "  <tbody>\n",
       "    <tr>\n",
       "      <th>12</th>\n",
       "      <td>29.532429</td>\n",
       "      <td>10.961298</td>\n",
       "      <td>37.420216</td>\n",
       "      <td>4.046423</td>\n",
       "      <td>408.640351</td>\n",
       "    </tr>\n",
       "  </tbody>\n",
       "</table>\n",
       "</div>"
      ],
      "text/plain": [
       "    Avg. Session Length  Time on App  Time on Website  Length of Membership  \\\n",
       "12            29.532429    10.961298        37.420216              4.046423   \n",
       "\n",
       "    Yearly Amount Spent  \n",
       "12           408.640351  "
      ]
     },
     "execution_count": 90,
     "metadata": {},
     "output_type": "execute_result"
    }
   ],
   "source": [
    "df[df[\"Avg. Session Length\"] == 29.532428967057943]"
   ]
  },
  {
   "cell_type": "code",
   "execution_count": 91,
   "id": "a3fa6bc8",
   "metadata": {},
   "outputs": [
    {
     "data": {
      "text/html": [
       "<div>\n",
       "<style scoped>\n",
       "    .dataframe tbody tr th:only-of-type {\n",
       "        vertical-align: middle;\n",
       "    }\n",
       "\n",
       "    .dataframe tbody tr th {\n",
       "        vertical-align: top;\n",
       "    }\n",
       "\n",
       "    .dataframe thead th {\n",
       "        text-align: right;\n",
       "    }\n",
       "</style>\n",
       "<table border=\"1\" class=\"dataframe\">\n",
       "  <thead>\n",
       "    <tr style=\"text-align: right;\">\n",
       "      <th></th>\n",
       "      <th>Avg. Session Length</th>\n",
       "      <th>Time on App</th>\n",
       "      <th>Time on Website</th>\n",
       "      <th>Length of Membership</th>\n",
       "      <th>Yearly Amount Spent</th>\n",
       "    </tr>\n",
       "  </thead>\n",
       "  <tbody>\n",
       "    <tr>\n",
       "      <th>154</th>\n",
       "      <td>36.139662</td>\n",
       "      <td>12.050267</td>\n",
       "      <td>36.959643</td>\n",
       "      <td>3.864861</td>\n",
       "      <td>595.803819</td>\n",
       "    </tr>\n",
       "  </tbody>\n",
       "</table>\n",
       "</div>"
      ],
      "text/plain": [
       "     Avg. Session Length  Time on App  Time on Website  Length of Membership  \\\n",
       "154            36.139662    12.050267        36.959643              3.864861   \n",
       "\n",
       "     Yearly Amount Spent  \n",
       "154           595.803819  "
      ]
     },
     "execution_count": 91,
     "metadata": {},
     "output_type": "execute_result"
    }
   ],
   "source": [
    "df[df[\"Avg. Session Length\"] == 36.13966248879052]"
   ]
  },
  {
   "cell_type": "markdown",
   "id": "5f39c66d",
   "metadata": {},
   "source": [
    "## 2. Avg. Session Length"
   ]
  },
  {
   "cell_type": "code",
   "execution_count": 92,
   "id": "93ea0f9b",
   "metadata": {},
   "outputs": [
    {
     "name": "stdout",
     "output_type": "stream",
     "text": [
      "Outliers in Avg. Session Length :- [29.532428967057943, 36.13966248879052]\n"
     ]
    }
   ],
   "source": [
    "mean = np.mean(df[\"Avg. Session Length\"])\n",
    "std = np.std(df[\"Avg. Session Length\"])\n",
    "\n",
    "outliers = []\n",
    "thresh = 3\n",
    "\n",
    "for value in df[\"Avg. Session Length\"]:\n",
    "    z_score = (value - mean) / std\n",
    "    if np.abs(z_score) > thresh:\n",
    "        outliers.append(value)\n",
    "print(f\"Outliers in Avg. Session Length :- {outliers}\")"
   ]
  },
  {
   "cell_type": "code",
   "execution_count": 110,
   "id": "e61c541f",
   "metadata": {},
   "outputs": [
    {
     "name": "stdout",
     "output_type": "stream",
     "text": [
      "Outliers in Avg. Session Length :- (array([ 12, 154], dtype=int64),)\n"
     ]
    }
   ],
   "source": [
    "z_score_SL = np.abs(stats.zscore(df[\"Avg. Session Length\"]))\n",
    "out_SL = np.where(z_score_SL > 3)\n",
    "\n",
    "out_in_TA = [df[\"Avg. Session Length\"][i] for i in np.nditer(out_SL)]\n",
    "print(f\"Outliers in Avg. Session Length :- {out_SL}\")"
   ]
  },
  {
   "cell_type": "code",
   "execution_count": 165,
   "id": "7f32124a",
   "metadata": {},
   "outputs": [
    {
     "data": {
      "text/plain": [
       "25%    32.341822\n",
       "50%    33.082008\n",
       "75%    33.711985\n",
       "Name: Avg. Session Length, dtype: float64"
      ]
     },
     "execution_count": 165,
     "metadata": {},
     "output_type": "execute_result"
    }
   ],
   "source": [
    "df[\"Avg. Session Length\"].describe()[4:7]"
   ]
  },
  {
   "cell_type": "code",
   "execution_count": 176,
   "id": "ada9b3e9",
   "metadata": {},
   "outputs": [
    {
     "name": "stdout",
     "output_type": "stream",
     "text": [
      "Avg. Session Length\n",
      "\n",
      "for Normal Outliers :- \n",
      "IQR :- 1.370162999999998\n",
      "upper tail = 30.286577504517776\n",
      "Lower_tail = 35.76722952395447\n",
      "Avg. Session Length\n",
      "\n",
      "for Extreme Outliers :- \n",
      "IQR :- 1.370162999999998\n",
      "upper tail = 28.23133300451778\n",
      "Lower_tail = 37.82247402395446\n"
     ]
    }
   ],
   "source": [
    "## Normal Outliers for Time on App\n",
    "# IQR = Q3 - Q1\n",
    "# upper_tail = Q1 - 1.5 * IQR\n",
    "# lower_tail = Q3 + 1.5 * IQR\n",
    "print(\"Avg. Session Length\\n\")\n",
    "IQR_2 =  33.711985 - 32.341822\n",
    "\n",
    "upper_tail = Q1 - 1.5 * IQR_2\n",
    "lower_tail = Q3 + 1.5 * IQR_2 # for normal outliers \n",
    "print(f\"for Normal Outliers :- \\nIQR :- {IQR_2}\\nupper tail = {upper_tail}\\nLower_tail = {lower_tail}\")\n",
    "\n",
    "\n",
    "print(\"Avg. Session Length\\n\")\n",
    "IQR_2 =  33.711985 - 32.341822\n",
    "\n",
    "upper_tail = Q1 - 3 * IQR_2\n",
    "lower_tail = Q3 + 3 * IQR_2 # for Extreme outliers \n",
    "print(f\"for Extreme Outliers :- \\nIQR :- {IQR_2}\\nupper tail = {upper_tail}\\nLower_tail = {lower_tail}\")"
   ]
  },
  {
   "cell_type": "markdown",
   "id": "814176f3",
   "metadata": {},
   "source": [
    "## 3. Time on Website"
   ]
  },
  {
   "cell_type": "code",
   "execution_count": 93,
   "id": "d67642fc",
   "metadata": {},
   "outputs": [
    {
     "name": "stdout",
     "output_type": "stream",
     "text": [
      "Outliers in Time on Website :-  [33.91384724758464]\n"
     ]
    }
   ],
   "source": [
    "mean = np.mean(df[\"Time on Website\"])\n",
    "std = np.std(df[\"Time on Website\"])\n",
    "\n",
    "outliers_3 = []\n",
    "thresh = 3\n",
    "\n",
    "for value in df[\"Time on Website\"]:\n",
    "    z_score = (value - mean) / std\n",
    "    if np.abs(z_score) > thresh:\n",
    "        outliers_3.append(value)\n",
    "print(f\"Outliers in Time on Website :-  {outliers_3}\")"
   ]
  },
  {
   "cell_type": "code",
   "execution_count": 112,
   "id": "86b61f06",
   "metadata": {},
   "outputs": [
    {
     "name": "stdout",
     "output_type": "stream",
     "text": [
      "Outliers in Time on Website :- [33.91384724758464]\n"
     ]
    }
   ],
   "source": [
    "z_score_TW = np.abs(stats.zscore(df[\"Time on Website\"]))\n",
    "out_TW = np.where(z_score_TW > 3)\n",
    "\n",
    "out_in_TW = [df[\"Time on Website\"][i] for i in np.nditer(out_TW)]\n",
    "print(f\"Outliers in Time on Website :- {out_in_TW}\")"
   ]
  },
  {
   "cell_type": "code",
   "execution_count": 177,
   "id": "f0ab3403",
   "metadata": {},
   "outputs": [
    {
     "data": {
      "text/plain": [
       "25%    36.349257\n",
       "50%    37.069367\n",
       "75%    37.716432\n",
       "Name: Time on Website, dtype: float64"
      ]
     },
     "execution_count": 177,
     "metadata": {},
     "output_type": "execute_result"
    }
   ],
   "source": [
    "df[\"Time on Website\"].describe()[4:7]"
   ]
  },
  {
   "cell_type": "code",
   "execution_count": 178,
   "id": "9b690b70",
   "metadata": {},
   "outputs": [
    {
     "name": "stdout",
     "output_type": "stream",
     "text": [
      "Time on Website\n",
      "\n",
      "for Normal Outliers :- \n",
      "IQR :- 1.370162999999998\n",
      "upper tail = 30.286577504517776\n",
      "Lower_tail = 35.76722952395447\n",
      "Avg. Session Length\n",
      "\n",
      "for Extreme Outliers :- \n",
      "IQR :- 1.367174999999996\n",
      "upper tail = 28.240297004517785\n",
      "Lower_tail = 37.81351002395446\n"
     ]
    }
   ],
   "source": [
    "## Normal Outliers for Time on Website\n",
    "# IQR = Q3 - Q1\n",
    "# upper_tail = Q1 - 1.5 * IQR\n",
    "# lower_tail = Q3 + 1.5 * IQR\n",
    "print(\"Time on Website\\n\")\n",
    "IQR_3 =  33.711985 - 32.341822\n",
    "\n",
    "upper_tail = Q1 - 1.5 * IQR_3\n",
    "lower_tail = Q3 + 1.5 * IQR_3 # for normal outliers \n",
    "print(f\"for Normal Outliers :- \\nIQR :- {IQR_3}\\nupper tail = {upper_tail}\\nLower_tail = {lower_tail}\")\n",
    "\n",
    "\n",
    "print(\"Avg. Session Length\\n\")\n",
    "IQR_3 =  37.716432 - 36.349257\n",
    "\n",
    "upper_tail = Q1 - 3 * IQR_3\n",
    "lower_tail = Q3 + 3 * IQR_3 # for Extreme outliers \n",
    "print(f\"for Extreme Outliers :- \\nIQR :- {IQR_3}\\nupper tail = {upper_tail}\\nLower_tail = {lower_tail}\")"
   ]
  },
  {
   "cell_type": "markdown",
   "id": "a55ef85a",
   "metadata": {},
   "source": [
    "## 4. Length of Membership"
   ]
  },
  {
   "cell_type": "code",
   "execution_count": 94,
   "id": "375df6ad",
   "metadata": {},
   "outputs": [
    {
     "name": "stdout",
     "output_type": "stream",
     "text": [
      "Outliers in Length of Membership :-  [6.922689335035807, 0.2699010899842742]\n"
     ]
    }
   ],
   "source": [
    "mean = np.mean(df[\"Length of Membership\"])\n",
    "std = np.std(df[\"Length of Membership\"])\n",
    "\n",
    "outliers_4 = []\n",
    "thresh = 3\n",
    "\n",
    "for value in df[\"Length of Membership\"]:\n",
    "    z_score = (value - mean) / std\n",
    "    if np.abs(z_score) > thresh:\n",
    "        outliers_4.append(value)\n",
    "print(f\"Outliers in Length of Membership :-  {outliers_4}\")"
   ]
  },
  {
   "cell_type": "code",
   "execution_count": 113,
   "id": "f41a9589",
   "metadata": {},
   "outputs": [
    {
     "name": "stdout",
     "output_type": "stream",
     "text": [
      "Outliers in Length of Membership :- [6.922689335035807, 0.2699010899842742]\n"
     ]
    }
   ],
   "source": [
    "z_score_LM = np.abs(stats.zscore(df[\"Length of Membership\"]))\n",
    "out_LM = np.where(z_score_LM > 3)\n",
    "\n",
    "out_in_LM = [df[\"Length of Membership\"][i] for i in np.nditer(out_LM)]\n",
    "print(f\"Outliers in Length of Membership :- {out_in_LM}\")"
   ]
  },
  {
   "cell_type": "code",
   "execution_count": 179,
   "id": "8e641615",
   "metadata": {},
   "outputs": [
    {
     "data": {
      "text/plain": [
       "25%    2.930450\n",
       "50%    3.533975\n",
       "75%    4.126502\n",
       "Name: Length of Membership, dtype: float64"
      ]
     },
     "execution_count": 179,
     "metadata": {},
     "output_type": "execute_result"
    }
   ],
   "source": [
    "df[\"Length of Membership\"].describe()[4:7]"
   ]
  },
  {
   "cell_type": "code",
   "execution_count": 180,
   "id": "469cf0f2",
   "metadata": {},
   "outputs": [
    {
     "name": "stdout",
     "output_type": "stream",
     "text": [
      "Length of Membership\n",
      "\n",
      "for Normal Outliers :- \n",
      "IQR :- 1.370162999999998\n",
      "upper tail = 30.286577504517776\n",
      "Lower_tail = 35.76722952395447\n",
      "Avg. Session Length\n",
      "\n",
      "for Extreme Outliers :- \n",
      "IQR :- 1.370162999999998\n",
      "upper tail = 28.23133300451778\n",
      "Lower_tail = 37.82247402395446\n"
     ]
    }
   ],
   "source": [
    "## Normal Outliers for TLength of Membership\n",
    "# IQR = Q3 - Q1\n",
    "# upper_tail = Q1 - 1.5 * IQR\n",
    "# lower_tail = Q3 + 1.5 * IQR\n",
    "print(\"Length of Membership\\n\")\n",
    "IQR_4 =  33.711985 - 32.341822\n",
    "\n",
    "upper_tail = Q1 - 1.5 * IQR_4\n",
    "lower_tail = Q3 + 1.5 * IQR_4 # for normal outliers \n",
    "print(f\"for Normal Outliers :- \\nIQR :- {IQR_4}\\nupper tail = {upper_tail}\\nLower_tail = {lower_tail}\")\n",
    "\n",
    "\n",
    "print(\"Avg. Session Length\\n\")\n",
    "IQR_3 =  4.126502 - 2.930450\n",
    "\n",
    "upper_tail = Q1 - 3 * IQR_4\n",
    "lower_tail = Q3 + 3 * IQR_4 # for Extreme outliers \n",
    "print(f\"for Extreme Outliers :- \\nIQR :- {IQR_4}\\nupper tail = {upper_tail}\\nLower_tail = {lower_tail}\")"
   ]
  },
  {
   "cell_type": "code",
   "execution_count": null,
   "id": "881c78e0",
   "metadata": {},
   "outputs": [],
   "source": []
  },
  {
   "cell_type": "code",
   "execution_count": null,
   "id": "1824ea3d",
   "metadata": {},
   "outputs": [],
   "source": []
  },
  {
   "cell_type": "markdown",
   "id": "300b3863",
   "metadata": {},
   "source": [
    "### 5. Yearly Amount Spent"
   ]
  },
  {
   "cell_type": "code",
   "execution_count": 95,
   "id": "3fa05c8d",
   "metadata": {},
   "outputs": [
    {
     "name": "stdout",
     "output_type": "stream",
     "text": [
      "Outliers in Yearly Amount Spent :-  [765.5184619388372, 744.2218671047146, 256.67058229005585]\n"
     ]
    }
   ],
   "source": [
    "mean = np.mean(df[\"Yearly Amount Spent\"])\n",
    "std = np.std(df[\"Yearly Amount Spent\"])\n",
    "\n",
    "outliers_5 = []\n",
    "thresh = 3\n",
    "\n",
    "for value in df[\"Yearly Amount Spent\"]:\n",
    "    z_score = (value - mean) / std\n",
    "    if np.abs(z_score) > thresh:\n",
    "        outliers_5.append(value)\n",
    "print(f\"Outliers in Yearly Amount Spent :-  {outliers_5}\")"
   ]
  },
  {
   "cell_type": "code",
   "execution_count": 114,
   "id": "3239fe34",
   "metadata": {},
   "outputs": [
    {
     "name": "stdout",
     "output_type": "stream",
     "text": [
      "Outliers in Yearly Amount Spent :- [765.5184619388372, 744.2218671047146, 256.67058229005585]\n"
     ]
    }
   ],
   "source": [
    "z_score_YS = np.abs(stats.zscore(df[\"Yearly Amount Spent\"]))\n",
    "out_YS = np.where(z_score_YS > 3)\n",
    "\n",
    "out_in_YS = [df[\"Yearly Amount Spent\"][i] for i in np.nditer(out_YS)]\n",
    "print(f\"Outliers in Yearly Amount Spent :- {out_in_YS}\")"
   ]
  },
  {
   "cell_type": "code",
   "execution_count": 181,
   "id": "38b5eb2b",
   "metadata": {},
   "outputs": [
    {
     "data": {
      "text/plain": [
       "25%    445.038277\n",
       "50%    498.887875\n",
       "75%    549.313828\n",
       "Name: Yearly Amount Spent, dtype: float64"
      ]
     },
     "execution_count": 181,
     "metadata": {},
     "output_type": "execute_result"
    }
   ],
   "source": [
    "df[\"Yearly Amount Spent\"].describe()[4:7]"
   ]
  },
  {
   "cell_type": "code",
   "execution_count": 182,
   "id": "ae7ee7e7",
   "metadata": {},
   "outputs": [
    {
     "name": "stdout",
     "output_type": "stream",
     "text": [
      "Yearly Amount Spent\n",
      "\n",
      "for Normal Outliers :- \n",
      "IQR :- 1.370162999999998\n",
      "upper tail = 30.286577504517776\n",
      "Lower_tail = 35.76722952395447\n",
      "Yearly Amount Spent\n",
      "\n",
      "for Extreme Outliers :- \n",
      "IQR :- 1.370162999999998\n",
      "upper tail = 28.23133300451778\n",
      "Lower_tail = 37.82247402395446\n"
     ]
    }
   ],
   "source": [
    "## Normal Outliers for TLength of Membership\n",
    "# IQR = Q3 - Q1\n",
    "# upper_tail = Q1 - 1.5 * IQR\n",
    "# lower_tail = Q3 + 1.5 * IQR\n",
    "print(\"Yearly Amount Spent\\n\")\n",
    "IQR_4 =  33.711985 - 32.341822\n",
    "\n",
    "upper_tail = Q1 - 1.5 * IQR_4\n",
    "lower_tail = Q3 + 1.5 * IQR_4 # for normal outliers \n",
    "print(f\"for Normal Outliers :- \\nIQR :- {IQR_4}\\nupper tail = {upper_tail}\\nLower_tail = {lower_tail}\")\n",
    "\n",
    "\n",
    "print(\"Yearly Amount Spent\\n\")\n",
    "IQR_3 =  549.313828 - 445.038277\n",
    "\n",
    "upper_tail = Q1 - 3 * IQR_4\n",
    "lower_tail = Q3 + 3 * IQR_4 # for Extreme outliers \n",
    "print(f\"for Extreme Outliers :- \\nIQR :- {IQR_4}\\nupper tail = {upper_tail}\\nLower_tail = {lower_tail}\")"
   ]
  },
  {
   "cell_type": "code",
   "execution_count": 115,
   "id": "d03fdeee",
   "metadata": {},
   "outputs": [
    {
     "data": {
      "text/plain": [
       "Avg. Session Length        AxesSubplot(0.125,0.653529;0.227941x0.226471)\n",
       "Time on App             AxesSubplot(0.398529,0.653529;0.227941x0.226471)\n",
       "Time on Website         AxesSubplot(0.672059,0.653529;0.227941x0.226471)\n",
       "Length of Membership       AxesSubplot(0.125,0.381765;0.227941x0.226471)\n",
       "Yearly Amount Spent     AxesSubplot(0.398529,0.381765;0.227941x0.226471)\n",
       "dtype: object"
      ]
     },
     "execution_count": 115,
     "metadata": {},
     "output_type": "execute_result"
    },
    {
     "data": {
      "image/png": "[encoded data removed]",
      "text/plain": [
       "<Figure size 2000x1500 with 9 Axes>"
      ]
     },
     "metadata": {},
     "output_type": "display_data"
    }
   ],
   "source": [
    "sns.set_theme(color_codes=True)\n",
    "df.plot(kind=\"box\", subplots=True, layout=(3,3), grid=True, figsize=(20,15))"
   ]
  },
  {
   "cell_type": "code",
   "execution_count": null,
   "id": "fb98c381",
   "metadata": {},
   "outputs": [],
   "source": []
  },
  {
   "cell_type": "markdown",
   "id": "5fe84e56",
   "metadata": {},
   "source": [
    "# Handling Outliers"
   ]
  },
  {
   "cell_type": "markdown",
   "id": "8c9b6c0f",
   "metadata": {},
   "source": [
    "## 1. Deleting Observations"
   ]
  },
  {
   "cell_type": "markdown",
   "id": "c76c8a40",
   "metadata": {},
   "source": [
    "#### 1. Avg. Session Length\n",
    "- IQR :- 1.370162999999998\n",
    "- upper tail = 28.23133300451778\n",
    "- Lower_tail = 37.82247402395446"
   ]
  },
  {
   "cell_type": "code",
   "execution_count": 183,
   "id": "ba195c4b",
   "metadata": {},
   "outputs": [
    {
     "data": {
      "text/plain": [
       "Index(['Avg. Session Length', 'Time on App', 'Time on Website',\n",
       "       'Length of Membership', 'Yearly Amount Spent'],\n",
       "      dtype='object')"
      ]
     },
     "execution_count": 183,
     "metadata": {},
     "output_type": "execute_result"
    }
   ],
   "source": [
    "df.columns"
   ]
  },
  {
   "cell_type": "code",
   "execution_count": null,
   "id": "3799d5f0",
   "metadata": {},
   "outputs": [],
   "source": [
    "df1 = df.drop(df.loc[\"Avg. Session Length\"] >, axis=1)"
   ]
  },
  {
   "cell_type": "code",
   "execution_count": null,
   "id": "bda7c220",
   "metadata": {},
   "outputs": [],
   "source": [
    "df.loc[\"Avg. Session Length\"] > "
   ]
  },
  {
   "cell_type": "code",
   "execution_count": null,
   "id": "b90dc111",
   "metadata": {},
   "outputs": [],
   "source": []
  },
  {
   "cell_type": "code",
   "execution_count": null,
   "id": "bdcb650f",
   "metadata": {},
   "outputs": [],
   "source": []
  },
  {
   "cell_type": "code",
   "execution_count": null,
   "id": "a0983f91",
   "metadata": {},
   "outputs": [],
   "source": []
  }
 ],
 "metadata": {
  "kernelspec": {
   "display_name": "Python 3 (ipykernel)",
   "language": "python",
   "name": "python3"
  },
  "language_info": {
   "codemirror_mode": {
    "name": "ipython",
    "version": 3
   },
   "file_extension": ".py",
   "mimetype": "text/x-python",
   "name": "python",
   "nbconvert_exporter": "python",
   "pygments_lexer": "ipython3",
   "version": "3.10.8"
  }
 },
 "nbformat": 4,
 "nbformat_minor": 5
}
