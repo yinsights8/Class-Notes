{
 "cells": [
  {
   "cell_type": "markdown",
   "id": "283ef558",
   "metadata": {},
   "source": [
    "### Evaluation metrics in Logistic regression\n"
   ]
  },
  {
   "cell_type": "raw",
   "id": "3a6cb111",
   "metadata": {},
   "source": [
    "- 1. classification_report\n",
    "- 2. f1_score\n",
    "- 3. roc_auc_score\n",
    "- 4. fpr,tpr,threshold = roc_curve()\n",
    "- 5. confusion_matrix\n",
    "- 6. multilabel_confusion_matrix"
   ]
  },
  {
   "cell_type": "markdown",
   "id": "5a14fea4",
   "metadata": {},
   "source": [
    "### - Logistic Regression"
   ]
  },
  {
   "cell_type": "raw",
   "id": "a62180d8",
   "metadata": {},
   "source": [
    "- It is a supervised machine learning Algorithm which is use to resolve the classification problems.\n",
    "- it predicts the probability of the target variable depends on Inputed data.\n",
    "- it is a probabilistic algorithm and a linear model.\n",
    "- Logistc regression builds like a Linear regression model however it predicts the output variable that is discrete in two or more classes.\n",
    "- In logistic regression our Targer variable will be a catagorical or discreate nature\n",
    "\n",
    "- Logistic regression has two types:- \n",
    "    - 1. Binary Classification\n",
    "    - 2. Multiclass classification\n",
    "\n",
    "- Example :-\n",
    "    1. Binary Classification :- \n",
    "            Yes/No, Pass/Fail, Win/Lose, Cancerous/Non-cancerous, spam or Not-spam, 0 or 1 etc.\n",
    "    2. Multiple Classification :-\n",
    "            Low/Medium/High, 0/1/2, red/yellow/green"
   ]
  },
  {
   "cell_type": "markdown",
   "id": "962df8b8",
   "metadata": {},
   "source": [
    "#### Why we cannot apply Linear regression on Classification problems"
   ]
  },
  {
   "cell_type": "raw",
   "id": "5b338390",
   "metadata": {},
   "source": [
    "- The two limitations of using a linear regression model for classification problems are:\n",
    "\n",
    "    - 1. the predicted value may exceed the range (0,1)\n",
    "    - 2. error rate increases if the data has outliers\n",
    "\n",
    "- That is why we need to use logistic regression in classification problems."
   ]
  },
  {
   "cell_type": "raw",
   "id": "9f7a5bc6",
   "metadata": {},
   "source": [
    "The hypothesis of logistic regression tends it to limit the cost function between 0 and 1\n",
    "- That means the outplut of the logistic regression will always be in 0 and 1. and when we use linear regression on calssification problem value may exced the range (0,1), and sometimes it gives miscalssification values."
   ]
  },
  {
   "cell_type": "raw",
   "id": "85766e0f",
   "metadata": {},
   "source": [
    "Regression models predict a continuous variable. They can also predict probabilities. A probability-predicting regression model can be used as part of a classifier by imposing a decision rule(eg. if p>0.5 then 1 else 0), which is what a Logistic Regression exactly does…"
   ]
  },
  {
   "cell_type": "markdown",
   "id": "f0a2bd62",
   "metadata": {},
   "source": [
    "### - Logit odd  Function:"
   ]
  },
  {
   "cell_type": "raw",
   "id": "a9da4dbc",
   "metadata": {},
   "source": [
    "- The logit function maps probabilities to the full range of real numbers required prior to modeling.\n",
    "\n",
    "- The inverse of the logit function is the sigmoid function. That is, if you have a probability p, sigmoid(logit(p)) = p. The sigmoid function maps arbitrary real values back to the range [0, 1]. We can also say sigmoid function as the generalized form of logit function.\n",
    "\n",
    "- If the probability of an event occurring (P) and the probability that it will not occur is (1-P)\n",
    "    - Odds Ratio = P/(1-P)\n",
    "-Equestions:-\n",
    "    - Logit odd = log(p/(1-p))\n",
    "    \n",
    "Thus the result obtained from the sigmoid function ([0,1)] is then passed through a decision rule to divide the outcome into classes as required.\n",
    "    \n",
    "Note: Probability ranges from 0 to 1, Odds range from 0 to ∞, and Log Odds range from −∞ to ∞\n",
    "That is why the log odds are used to avoid modeling a variable with a restricted range such as probability."
   ]
  },
  {
   "cell_type": "markdown",
   "id": "28c37a44",
   "metadata": {},
   "source": [
    "### - Sigmoid Function"
   ]
  },
  {
   "cell_type": "raw",
   "id": "98d1f4f5",
   "metadata": {},
   "source": [
    "Sigmoid function is the generalized from of logit function. in order to map predicted value to probabillity value. we use sigmoid function. this function can mpas any real value to probability values which is between 0 and 1. \n",
    "\n",
    "- Equestion :- \n",
    "    - P(Y) = 1 / 1 + e^(-y)\n",
    "    \n",
    "- y = mx + c\n",
    "- e = eular's constant\n",
    "- e = 2.718"
   ]
  },
  {
   "cell_type": "markdown",
   "id": "05193785",
   "metadata": {},
   "source": [
    "### - Log Loss Function"
   ]
  },
  {
   "cell_type": "raw",
   "id": "1a95b79d",
   "metadata": {},
   "source": [
    "- Log - loss is indicative of how close the prediction probability is to the corresponding actual/true value (0 or 1 in case of binary classification). The more the predicted probability diverges from the actual value, the higher is the log-loss value.\n",
    "\n",
    "- 1. Log Loss Function measures the performance of the Classifiaction model, where the ouput is in Probability value between 0 and 1.\n",
    "\n",
    "- 2. The Goal of the machine learning model is to minimize the value, A perfect model would have a logloss = 0\n",
    "\n",
    "- 3. the value of logloss can be between 0 and infinity.\n",
    "\n",
    "- 4. logloss increases as the prediction probability diverges the actual lable.\n",
    "\n",
    "- 5. Higher the probability prediction value(Pi), lower the logloss function.(LL)\n",
    "\n",
    "- 6. Lower the probability prediction value (Pi), Higher the logloss function.(LL)\n",
    "\n",
    "- 7. we will get higher logloss value, when there is misclassified data points .\n",
    "\n",
    "- 8. we will get Lower logloss value, when there is corectly classified data points."
   ]
  },
  {
   "cell_type": "raw",
   "id": "77f4ec1b",
   "metadata": {},
   "source": [
    "- Equestion:-\n",
    "    - LogLoss = -1/m  Σ [Yi * log(Pi) + (1-Yi) * log(1-Pi)]\n",
    "    \n",
    "    if y = 0, then, -log(1-Pi)\n",
    "    if y = 1 then,  -log(Pi)\n",
    "    \n",
    "- Yi = targest's individual values\n",
    "- Pi = Prediction values of the target variabl"
   ]
  },
  {
   "cell_type": "markdown",
   "id": "35c3e882",
   "metadata": {},
   "source": [
    "### - Why Can't we use Cost Function in a Logistic regression"
   ]
  },
  {
   "cell_type": "raw",
   "id": "18f8cadd",
   "metadata": {},
   "source": [
    "- our prediction function is non-linear due to \"sigmoid tranformation\", squaring this prediction as we do in the MSE results in non-convex curve with many local minimums. if our cost function (MSE) has many local minimas, the gradient descent algorithm may not find the Optimum global minimum, therefore we use cross entropy log loss function."
   ]
  },
  {
   "cell_type": "markdown",
   "id": "d78c3b37",
   "metadata": {},
   "source": [
    "###### NOTE:- logloss function penalizes confident and wrong predictions more than it rewards confident and right predictions\n",
    "\n",
    "###### NOTE:- Logloss function penalizes missclassifications more as compaired to mean squared error"
   ]
  },
  {
   "cell_type": "markdown",
   "id": "0ede542e",
   "metadata": {},
   "source": [
    "### - Confusion Matrix"
   ]
  },
  {
   "cell_type": "raw",
   "id": "136db6b7",
   "metadata": {},
   "source": [
    " it is a performance measurement for machine learning classification problem where output can be two or more classes. It is a table with 4 different combinations of predicted and actual values.\n",
    "- It is extremely useful for measuring Recall, Precision, Specificity, Accuracy, and most importantly AUC-ROC curves."
   ]
  },
  {
   "cell_type": "markdown",
   "id": "a576e648",
   "metadata": {},
   "source": [
    "#### TPR (True Positive Rate)\n",
    "##### Recall == Sensityvity"
   ]
  },
  {
   "cell_type": "raw",
   "id": "5abc4841",
   "metadata": {},
   "source": [
    "- TPR == Sensitivity == Recall\n",
    "\n",
    "- It states that the proportion of the +ve class are correctly classified by classifier\n",
    "    - TPR = Tp / (TP + FN)"
   ]
  },
  {
   "cell_type": "markdown",
   "id": "04029f55",
   "metadata": {},
   "source": [
    "#### FNR (False Negative Rate)  \n",
    "##### Type - II Error"
   ]
  },
  {
   "cell_type": "raw",
   "id": "db4fbae8",
   "metadata": {},
   "source": [
    "- It states that the proportion of the +ve class are incorrectly classified by classifier\n",
    "    - FNR = FN / (TP + FN)"
   ]
  },
  {
   "cell_type": "markdown",
   "id": "2e36dd4b",
   "metadata": {},
   "source": [
    "#### TNR (True Negitive Rate)\n",
    "#### (1 - Specificity)"
   ]
  },
  {
   "cell_type": "raw",
   "id": "52a102ce",
   "metadata": {},
   "source": [
    "- It state that the proportion of the -ve class are Correctly classified by the classifier\n",
    "    - TNR = TN / (TN + FP)"
   ]
  },
  {
   "cell_type": "markdown",
   "id": "c02174d7",
   "metadata": {},
   "source": [
    "#### (FPR) False Positive Rate \n",
    "##### Type - I Error"
   ]
  },
  {
   "cell_type": "raw",
   "id": "e789d03f",
   "metadata": {},
   "source": [
    "- It state that the proportion of the -ve class are incorrectly classified by the classifier\n",
    "    - FPR = FP / (TN + FP)"
   ]
  },
  {
   "cell_type": "code",
   "execution_count": null,
   "id": "34770361",
   "metadata": {},
   "outputs": [],
   "source": []
  },
  {
   "cell_type": "markdown",
   "id": "ee5d59c0",
   "metadata": {},
   "source": [
    "### Classification Report"
   ]
  },
  {
   "cell_type": "raw",
   "id": "f35e24f0",
   "metadata": {},
   "source": [
    "1. Precision :- \n",
    "    - It states that all the classes that we have predicted Positive, How many are actually positive\n",
    "    - precision means what percentage of the positive predictions made were actually correct.\n",
    "\n",
    "- if precision  == 1 (Good Precision value)\n",
    "- precision = Tp / (TP + FP)\n",
    "\n",
    "- Precision should ideally be 1 (high) for a good classifier\n",
    "\n",
    "- If FP is low then the precision value will be high"
   ]
  },
  {
   "cell_type": "raw",
   "id": "79a3c118",
   "metadata": {},
   "source": [
    "It could be translated into simple language as, of all patients classified as having heart disease, how many of them actually had heart disease?"
   ]
  },
  {
   "cell_type": "raw",
   "id": "2415f3e1",
   "metadata": {},
   "source": [
    "- The Hospital that contains patients they've come for the treatement of heart decease . as a Data Scientest i've design a model which predictics the Probability according to inputs that the user provids weather they have heart Dicesease or not, \n",
    "Now, in real there were 50 patients who has Heart decease . out of 50 patients 35 (TP) patients are acual has heart decease, and only 15 (FP) patients predicted as the patients has No heart decease. so the 15 people will not recive any treatements from the doctors, because of the predicton say so.\n",
    "in this case we need to work on PRECISION and reduce the FP rate. \n",
    "\n",
    "Pricision = 35 / 35 + 15\n",
    "            = 0.7"
   ]
  },
  {
   "cell_type": "raw",
   "id": "947d2a73",
   "metadata": {},
   "source": [
    "- Recall :- \n",
    "    - From all the positive class or Out of total actual positive results, how many are predicted positve.\n",
    "- what percentage of actual positive predictions were correctly classified by the classifier. \n",
    "    \n",
    "    - Recall = TP / (TP + FN)\n",
    "- Recall should ideally be 1 (high) for a good classifier"
   ]
  },
  {
   "attachments": {
    "image.png": {
     "image/png": "[encoded data removed]"
    }
   },
   "cell_type": "markdown",
   "id": "9b972479",
   "metadata": {},
   "source": [
    "![image.png](attachment:image.png)"
   ]
  },
  {
   "cell_type": "raw",
   "id": "ea9239ad",
   "metadata": {},
   "source": [
    "It basically asks, of all the patients that have heart disease, how many were classified as having heart disease?"
   ]
  },
  {
   "cell_type": "raw",
   "id": "094fcb6d",
   "metadata": {},
   "source": [
    "- The Hospital that contains patients they've come for the reatement of heart. as a Data Scientest i've design a model which predictics the Probability according to inputs that the user provids weather they have heart Dicesease or not, \n",
    "Now, in real life there were 50 patients who has Heart decease. But Our model predicts that only 40 people has heart decease and 10 peoples predicted as no heart decease, so that would be the great loss, 10 people will recieve no treatement.\n",
    "in this case we need to work on Recall and reduce the FP rate. "
   ]
  },
  {
   "cell_type": "code",
   "execution_count": 1,
   "id": "8e025baa",
   "metadata": {},
   "outputs": [
    {
     "data": {
      "text/plain": [
       "0.7"
      ]
     },
     "execution_count": 1,
     "metadata": {},
     "output_type": "execute_result"
    }
   ],
   "source": [
    "35 / (35 + 15)"
   ]
  },
  {
   "cell_type": "markdown",
   "id": "ddbf9ec9",
   "metadata": {},
   "source": [
    "#### - F1_Score"
   ]
  },
  {
   "cell_type": "raw",
   "id": "b0e3cd86",
   "metadata": {},
   "source": [
    "- if the cost value of false positive and false negative are very different in that case we need to look at the F1 score,\n",
    "\n",
    "- it is hard to compare two models with high precision and the low recall or vise versa. in that case f1_score is use to make them comparable. f1_score will help us to make the precision and recall at the same time. f1_score uses harmonic mean at the place of Arithmatic mean by panishing the values more.\n",
    "\n",
    "- F1 Score becomes 1 only when precision and recall are both 1. F1 score becomes high only when both precision and recall are high.\n",
    "\n",
    "- Standard Formula :- \n",
    "    Fβ-Score = (1 + β²) * precision * Recall / β² * precision + Recall\n",
    "    \n",
    "    \n",
    "when β = 1:\n",
    "    F1-score = 2 * precision * Recall / (Precision + Recall)\n",
    "    \n",
    "When Beta = 1, Then we do focus on the FP and FN\n",
    "When Beta = 0.5, Then  we do focus on FP\n",
    "When Beta = 2 , Then we do focus on FN"
   ]
  },
  {
   "cell_type": "markdown",
   "id": "b74b78d5",
   "metadata": {},
   "source": [
    "#### - Accuracy"
   ]
  },
  {
   "cell_type": "markdown",
   "id": "3ffa3721",
   "metadata": {},
   "source": [
    "Accuracy = (TP + TN) / (Tp + FN + TN + FP)"
   ]
  },
  {
   "cell_type": "markdown",
   "id": "ee4f11b0",
   "metadata": {},
   "source": [
    "#### - ROC and AUC Curve"
   ]
  },
  {
   "cell_type": "raw",
   "id": "42d5cad1",
   "metadata": {},
   "source": [
    "The Recevier Operator Characteristic (ROC) curve is a evaluation metric for binary classification curve.\n",
    "\n",
    "- ROC curve is a probability curve that plots TPR against the FPR at various threshold values and separating the 'signal' and 'noises'. \n",
    "- AUC is the Area Under the curve which is use as a Summary of ROC curve.\n",
    "- Higher the AUC curve better the performance of our Model at distingushing between classes.\n",
    "\n",
    "- When AUC = 1, then the classifier is able to perfectly distinguish between all the Positive and the Negative class points correctly. If, however, the AUC had been 0, then the classifier would be predicting all Negatives as Positives, and all Positives as Negatives."
   ]
  },
  {
   "cell_type": "markdown",
   "id": "c0ec78bd",
   "metadata": {},
   "source": [
    "#### Overfitting and Underfitting "
   ]
  },
  {
   "cell_type": "markdown",
   "id": "2e59ae69",
   "metadata": {},
   "source": [
    "#### 1. Underfitting\n",
    "##### (High Bias, Low Variance)"
   ]
  },
  {
   "cell_type": "raw",
   "id": "6de3c470",
   "metadata": {},
   "source": [
    "- Underfitting :-\n",
    "    When the given model neaither learns from training dataset nor from Test dataset (unseen dataset), i.e it will have high error rates in Training Dataset and Low error rates in test dataset, but still it will have low accuracy in traning model and test model.\n",
    "    \n",
    "    - Low Training Accuracy \n",
    "    - Low Testing Accuracy\n",
    "    \n",
    "- Example:- \n",
    "    -  Training Accuracy :- 65%\n",
    "    -  Testing Accuracy :- 60%"
   ]
  },
  {
   "cell_type": "markdown",
   "id": "0e312b68",
   "metadata": {},
   "source": [
    "#### 2. Overfitting\n",
    "##### (Low Bias High Variance)"
   ]
  },
  {
   "cell_type": "raw",
   "id": "585fe762",
   "metadata": {},
   "source": [
    "- Overfitting :-\n",
    "    When the given Model Performes well on Training dataset but struggle to performe well on testing dataset (Unseen data). i.e it will have low Errors in Training sets but high Errors rates in Test data sets. therefore it will have High Accuracy on trainig set and Low Accuracy on test sets\n",
    "    \n",
    "    - High Training Accuracy \n",
    "    - Low Testing Accuracy\n",
    "    \n",
    "- Example :- \n",
    "    - Training Accuracy :- 95%\n",
    "    - Testing Accuracy :- 80%"
   ]
  },
  {
   "cell_type": "markdown",
   "id": "c8b025ef",
   "metadata": {},
   "source": [
    "####  Bias Variance Trade-off"
   ]
  },
  {
   "cell_type": "markdown",
   "id": "a13bdb81",
   "metadata": {},
   "source": [
    "##### 1. Bias"
   ]
  },
  {
   "cell_type": "raw",
   "id": "750f6ab0",
   "metadata": {},
   "source": [
    "- Bias :- \n",
    "    Bias is nothing but The Training Errors. Model with high bias pays very little attention to the training data and oversimplifies the model. It always leads to high error on training and test data."
   ]
  },
  {
   "cell_type": "markdown",
   "id": "cc51b46b",
   "metadata": {},
   "source": [
    "##### 2. Variance"
   ]
  },
  {
   "cell_type": "raw",
   "id": "56ad00a6",
   "metadata": {},
   "source": [
    "- Variance :- \n",
    "     Variance is nothing but the Testing Errors. Model with high variance pays a lot of attention to training data and does not generalize on the data which it hasn’t seen before. As a result, such models perform very well on training data but has high error rates on test data.\n",
    "     \n",
    "- The Difference between the accuracies of different datasets (Training and Testing Datasets)"
   ]
  },
  {
   "cell_type": "markdown",
   "id": "a1290225",
   "metadata": {},
   "source": [
    "#### How to avoid Overfitting and Underfitting"
   ]
  },
  {
   "cell_type": "raw",
   "id": "51300355",
   "metadata": {},
   "source": [
    "1. Underfitting :\n",
    "    it occures when the dimentionality of the dataset is less (less feature and rows)\n",
    "    \n",
    "    Low Training Accuracy\n",
    "    Low Testing Accuracy\n",
    "    \n",
    "1. Add more Parameters (more features) (20 >> 25 or 30)\n",
    "2. Use Correlated Features\n",
    "3. Remove Outliers\n",
    "4. Replace the missing values by mean, Median and Mode\n",
    "5. Increase the Data Size (20000 >> 25000)"
   ]
  },
  {
   "cell_type": "raw",
   "id": "f8ea9924",
   "metadata": {},
   "source": [
    "2. Overfitting :\n",
    "    it occures when the dimentionality of the dataset is large (number of feature and rows) and in nonlinear ML models.\n",
    "    \n",
    "    \n",
    "    High training Accuracy\n",
    "    Low Testing Accuracy\n",
    "    \n",
    "    \n",
    "1. Use less Parameters (less features)\n",
    "2. Use Hyperparameter Tuning\n",
    "3. We can Regularization Techniques (L1 and L2 Regularization)\n",
    "4. Remove Outliers\n",
    "5. We can go ahead with the Cross Validation Technique\n",
    "6. Increase the data size (10000 >> 20000)"
   ]
  },
  {
   "cell_type": "markdown",
   "id": "17c0266c",
   "metadata": {},
   "source": [
    "#### Multiclass Classification"
   ]
  },
  {
   "cell_type": "raw",
   "id": "ff1d8a20",
   "metadata": {},
   "source": [
    "- In Multiclassification problems there will be two or more unique values \n",
    "- it follows OVR technique\n",
    "    - classifier = LogisticRegression(multi_class = \"ovr\")"
   ]
  },
  {
   "cell_type": "raw",
   "id": "574e0e82",
   "metadata": {},
   "source": [
    "- One Vs Rest 'ovr' is technique to classify the multiclssification values\n",
    "    - ex. 0,1,2,3, red, green, yellow, low, medium, high\n",
    "The number of Unique values in Target feature equal to number of Confusion matrixs"
   ]
  },
  {
   "cell_type": "code",
   "execution_count": null,
   "id": "33f0f40c",
   "metadata": {},
   "outputs": [],
   "source": []
  }
 ],
 "metadata": {
  "kernelspec": {
   "display_name": "Python 3 (ipykernel)",
   "language": "python",
   "name": "python3"
  },
  "language_info": {
   "codemirror_mode": {
    "name": "ipython",
    "version": 3
   },
   "file_extension": ".py",
   "mimetype": "text/x-python",
   "name": "python",
   "nbconvert_exporter": "python",
   "pygments_lexer": "ipython3",
   "version": "3.11.3"
  }
 },
 "nbformat": 4,
 "nbformat_minor": 5
}
