{
 "cells": [
  {
   "cell_type": "markdown",
   "id": "c77a77da",
   "metadata": {},
   "source": [
    "- Normality\n",
    "    - it is represented in a bellshape curve or normal distributed curve\n",
    "    - Normality is a Normal distribution of the data points or residuals\n",
    "- In normality our data points should be spread near or around the mean value.\n",
    "- standard deviation(std) which is std(-3), std(-2), std(-1) mean(0) std(3), std(2), std(1).\n",
    "- data ponints should spread in 1st, 2nd, and 3rd standard deviation.\n",
    "- if the points are within the three deviations then it is consider as Outliars \n",
    "\n",
    "- Outliers\n",
    "    - 1. data point near 3rd std conisderd as Normal Outlairs\n",
    "    - 2. data point away from the all std's considerd as Extriem Outliars"
   ]
  },
  {
   "cell_type": "markdown",
   "id": "76cc68be",
   "metadata": {},
   "source": [
    "- to calculate the range of residuals\n",
    "    - mean + ((-1)std * feature_STD),  \n",
    "    - mean + ((-2)std * feature_STD)\n",
    "    - mean + ((-3)std * feature_STD)\n",
    "    \n",
    "    - mean + ((1)std * feature_STD),  \n",
    "    - mean + ((2)std * feature_STD)\n",
    "    - mean + ((3)std * feature_STD)"
   ]
  },
  {
   "cell_type": "code",
   "execution_count": 2,
   "id": "3c0018f6",
   "metadata": {},
   "outputs": [],
   "source": [
    "import pandas as pd\n",
    "import numpy as np\n",
    "\n",
    "Age = [30,40,35,36,34,33,38]"
   ]
  },
  {
   "cell_type": "code",
   "execution_count": 3,
   "id": "f04cf1e2",
   "metadata": {},
   "outputs": [
    {
     "name": "stdout",
     "output_type": "stream",
     "text": [
      "std :- 3.0438965360946453\n",
      "\n",
      "Mean :- 35.142857142857146\n"
     ]
    }
   ],
   "source": [
    "std  = np.std(Age)\n",
    "mean = np.mean(Age)\n",
    "print(f\"std :- {std}\\n\")\n",
    "print(f\"Mean :- {mean}\")"
   ]
  },
  {
   "cell_type": "code",
   "execution_count": 4,
   "id": "bdf64379",
   "metadata": {},
   "outputs": [
    {
     "data": {
      "text/plain": [
       "38.18"
      ]
     },
     "execution_count": 4,
     "metadata": {},
     "output_type": "execute_result"
    }
   ],
   "source": [
    "# 1st std\n",
    "35.14 + 1 *  3.04"
   ]
  },
  {
   "cell_type": "code",
   "execution_count": 5,
   "id": "eb067b93",
   "metadata": {},
   "outputs": [
    {
     "data": {
      "text/plain": [
       "41.22"
      ]
     },
     "execution_count": 5,
     "metadata": {},
     "output_type": "execute_result"
    }
   ],
   "source": [
    "# 2st std\n",
    "35.14 + 2 *  3.04"
   ]
  },
  {
   "cell_type": "code",
   "execution_count": 6,
   "id": "ba89ee36",
   "metadata": {},
   "outputs": [
    {
     "data": {
      "text/plain": [
       "44.260000000000005"
      ]
     },
     "execution_count": 6,
     "metadata": {},
     "output_type": "execute_result"
    }
   ],
   "source": [
    "# 3st std\n",
    "35.14 + 3 *  3.04"
   ]
  },
  {
   "cell_type": "code",
   "execution_count": null,
   "id": "01a14e13",
   "metadata": {},
   "outputs": [],
   "source": []
  },
  {
   "cell_type": "code",
   "execution_count": 7,
   "id": "9ddff11a",
   "metadata": {},
   "outputs": [
    {
     "data": {
      "text/plain": [
       "32.1"
      ]
     },
     "execution_count": 7,
     "metadata": {},
     "output_type": "execute_result"
    }
   ],
   "source": [
    "# -1st std\n",
    "35.14 + (-1) *  3.04"
   ]
  },
  {
   "cell_type": "code",
   "execution_count": 8,
   "id": "557dec9a",
   "metadata": {},
   "outputs": [
    {
     "data": {
      "text/plain": [
       "29.060000000000002"
      ]
     },
     "execution_count": 8,
     "metadata": {},
     "output_type": "execute_result"
    }
   ],
   "source": [
    "# -2st std\n",
    "35.14 + (-2) *  3.04"
   ]
  },
  {
   "cell_type": "code",
   "execution_count": 9,
   "id": "bfa2e355",
   "metadata": {},
   "outputs": [
    {
     "data": {
      "text/plain": [
       "26.02"
      ]
     },
     "execution_count": 9,
     "metadata": {},
     "output_type": "execute_result"
    }
   ],
   "source": [
    "# -3st std\n",
    "35.14 + (-3) *  3.04"
   ]
  },
  {
   "cell_type": "markdown",
   "id": "04aecd4f",
   "metadata": {},
   "source": [
    "## Graphical representation"
   ]
  },
  {
   "cell_type": "code",
   "execution_count": 10,
   "id": "beffc567",
   "metadata": {},
   "outputs": [
    {
     "data": {
      "text/plain": [
       "<AxesSubplot:xlabel='Age', ylabel='Count'>"
      ]
     },
     "execution_count": 10,
     "metadata": {},
     "output_type": "execute_result"
    },
    {
     "data": {
      "image/png": "[encoded data removed]",
      "text/plain": [
       "<Figure size 432x288 with 1 Axes>"
      ]
     },
     "metadata": {
      "needs_background": "light"
     },
     "output_type": "display_data"
    }
   ],
   "source": [
    "import pandas as pd\n",
    "import numpy as np\n",
    "import seaborn as sns\n",
    "\n",
    "Age = [30,40,35,36,34,33,38]\n",
    "\n",
    "df = pd.DataFrame({'Age':Age})\n",
    "\n",
    "sns.histplot(df[\"Age\"], kde=True)"
   ]
  },
  {
   "cell_type": "code",
   "execution_count": 11,
   "id": "1acd9f6d",
   "metadata": {},
   "outputs": [
    {
     "name": "stderr",
     "output_type": "stream",
     "text": [
      "C:\\Users\\yashd\\anaconda3\\lib\\site-packages\\seaborn\\distributions.py:2619: FutureWarning: `distplot` is a deprecated function and will be removed in a future version. Please adapt your code to use either `displot` (a figure-level function with similar flexibility) or `histplot` (an axes-level function for histograms).\n",
      "  warnings.warn(msg, FutureWarning)\n"
     ]
    },
    {
     "data": {
      "text/plain": [
       "<AxesSubplot:xlabel='Age', ylabel='Density'>"
      ]
     },
     "execution_count": 11,
     "metadata": {},
     "output_type": "execute_result"
    },
    {
     "data": {
      "image/png": "[encoded data removed]",
      "text/plain": [
       "<Figure size 432x288 with 1 Axes>"
      ]
     },
     "metadata": {
      "needs_background": "light"
     },
     "output_type": "display_data"
    }
   ],
   "source": [
    "sns.distplot(df['Age'], kde=True)"
   ]
  },
  {
   "cell_type": "code",
   "execution_count": null,
   "id": "d20ce18a",
   "metadata": {},
   "outputs": [],
   "source": []
  },
  {
   "cell_type": "markdown",
   "id": "6c22936b",
   "metadata": {},
   "source": [
    "## Compare the Age's between Two Graphs"
   ]
  },
  {
   "cell_type": "code",
   "execution_count": 12,
   "id": "21f337a6",
   "metadata": {},
   "outputs": [
    {
     "data": {
      "text/plain": [
       "<AxesSubplot:xlabel='Age2', ylabel='Count'>"
      ]
     },
     "execution_count": 12,
     "metadata": {},
     "output_type": "execute_result"
    },
    {
     "data": {
      "image/png": "[encoded data removed]",
      "text/plain": [
       "<Figure size 432x288 with 1 Axes>"
      ]
     },
     "metadata": {
      "needs_background": "light"
     },
     "output_type": "display_data"
    }
   ],
   "source": [
    "data = [30,40,50,55,35,60,80,90,150] ### Here we can see there is a huge gap 90 - 150\n",
    "df2 = pd.DataFrame({\"Age2\": data})\n",
    "sns.histplot(df2[\"Age2\"], kde=True)"
   ]
  },
  {
   "cell_type": "code",
   "execution_count": 13,
   "id": "f9cc5ebf",
   "metadata": {},
   "outputs": [
    {
     "name": "stderr",
     "output_type": "stream",
     "text": [
      "C:\\Users\\yashd\\anaconda3\\lib\\site-packages\\seaborn\\distributions.py:2619: FutureWarning: `distplot` is a deprecated function and will be removed in a future version. Please adapt your code to use either `displot` (a figure-level function with similar flexibility) or `histplot` (an axes-level function for histograms).\n",
      "  warnings.warn(msg, FutureWarning)\n"
     ]
    },
    {
     "data": {
      "text/plain": [
       "<AxesSubplot:xlabel='Age2', ylabel='Density'>"
      ]
     },
     "execution_count": 13,
     "metadata": {},
     "output_type": "execute_result"
    },
    {
     "data": {
      "image/png": "[encoded data removed]",
      "text/plain": [
       "<Figure size 432x288 with 1 Axes>"
      ]
     },
     "metadata": {
      "needs_background": "light"
     },
     "output_type": "display_data"
    }
   ],
   "source": [
    "### Here we can clearly see that there are outlairs after 90 \n",
    "sns.distplot(df2[\"Age2\"], kde=True)\n",
    "\n",
    "## This graph is right skiwed graph"
   ]
  },
  {
   "cell_type": "code",
   "execution_count": null,
   "id": "48789c84",
   "metadata": {},
   "outputs": [],
   "source": []
  },
  {
   "cell_type": "code",
   "execution_count": 14,
   "id": "e1c13074",
   "metadata": {},
   "outputs": [
    {
     "name": "stdout",
     "output_type": "stream",
     "text": [
      "108.0\n",
      "93.14504817756014\n"
     ]
    }
   ],
   "source": [
    "data = [10,20,30,50,80,90,100,150,250,300]\n",
    "\n",
    "std = np.std(data)\n",
    "mean = np.mean(data)\n",
    "print(mean)\n",
    "print(std)"
   ]
  },
  {
   "cell_type": "code",
   "execution_count": 15,
   "id": "d66a8543",
   "metadata": {},
   "outputs": [
    {
     "data": {
      "text/plain": [
       "<seaborn.axisgrid.FacetGrid at 0x20c59168ac0>"
      ]
     },
     "execution_count": 15,
     "metadata": {},
     "output_type": "execute_result"
    },
    {
     "data": {
      "image/png": "[encoded data removed]",
      "text/plain": [
       "<Figure size 360x360 with 1 Axes>"
      ]
     },
     "metadata": {
      "needs_background": "light"
     },
     "output_type": "display_data"
    }
   ],
   "source": [
    "sns.displot(data, kde=True)"
   ]
  }
 ],
 "metadata": {
  "kernelspec": {
   "display_name": "Python 3 (ipykernel)",
   "language": "python",
   "name": "python3"
  },
  "language_info": {
   "codemirror_mode": {
    "name": "ipython",
    "version": 3
   },
   "file_extension": ".py",
   "mimetype": "text/x-python",
   "name": "python",
   "nbconvert_exporter": "python",
   "pygments_lexer": "ipython3",
   "version": "3.9.12"
  }
 },
 "nbformat": 4,
 "nbformat_minor": 5
}
