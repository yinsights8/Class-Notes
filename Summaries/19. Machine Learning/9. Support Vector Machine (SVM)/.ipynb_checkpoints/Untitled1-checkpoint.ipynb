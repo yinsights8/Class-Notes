{
 "cells": [
  {
   "cell_type": "markdown",
   "id": "aa6c28a4",
   "metadata": {},
   "source": [
    "## Support Vector Machine Algorithm"
   ]
  },
  {
   "cell_type": "raw",
   "id": "4d4e5466",
   "metadata": {},
   "source": [
    "In Linearly separable data:\n",
    "    In Support vector machine if the data is linearly separable, this algorithm  finds the               hyperplane which passes passes throught between the classes.\n",
    "    \n",
    "    Margin :\n",
    "    \tmargin is the imaginary hyperplane which gets created with the help of support vectors, and \n",
    "        the support vectors are the datapoints which is close to the margins. On the basis of margin\n",
    "    \tIn SVM we make sure that distance between the margin should be maximum. if the distance is           maximum then our model would be good at classifying the datapoints correctly."
   ]
  }
 ],
 "metadata": {
  "kernelspec": {
   "display_name": "Python 3 (ipykernel)",
   "language": "python",
   "name": "python3"
  },
  "language_info": {
   "codemirror_mode": {
    "name": "ipython",
    "version": 3
   },
   "file_extension": ".py",
   "mimetype": "text/x-python",
   "name": "python",
   "nbconvert_exporter": "python",
   "pygments_lexer": "ipython3",
   "version": "3.10.8"
  }
 },
 "nbformat": 4,
 "nbformat_minor": 5
}
