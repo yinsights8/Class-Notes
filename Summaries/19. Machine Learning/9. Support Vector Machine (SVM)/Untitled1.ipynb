{
 "cells": [
  {
   "cell_type": "markdown",
   "id": "6575e3b2",
   "metadata": {},
   "source": [
    "## Support Vector Machine Algorithm"
   ]
  },
  {
   "cell_type": "raw",
   "id": "5609cde6",
   "metadata": {},
   "source": [
    "In Linearly separable data:\n",
    "    In Support vector machine if the data is linearly separable, this algorithm  finds the               hyperplane which passes passes throught between the classes.\n",
    "    \n",
    "    Margin :\n",
    "    \tmargin is the imaginary hyperplane which gets created with the help of support vectors, and \n",
    "        the support vectors are the datapoints which is close to the margins. On the basis of margin\n",
    "    \tIn SVM we make sure that distance between the margin should be maximum. if the distance is           maximum then our model would be good at classifying the datapoints correctly."
   ]
  },
  {
   "cell_type": "markdown",
   "id": "1963d0b0",
   "metadata": {},
   "source": [
    "https://towardsdatascience.com/radial-basis-function-rbf-kernel-the-go-to-kernel-acf0d22c798a"
   ]
  },
  {
   "cell_type": "code",
   "execution_count": null,
   "id": "c4983241",
   "metadata": {},
   "outputs": [],
   "source": []
  },
  {
   "cell_type": "code",
   "execution_count": 18,
   "id": "d1110dd0",
   "metadata": {},
   "outputs": [],
   "source": [
    "from sklearn.svm import SVC\n",
    "import plotly.express as px"
   ]
  },
  {
   "cell_type": "code",
   "execution_count": 3,
   "id": "8b26ee74",
   "metadata": {},
   "outputs": [],
   "source": [
    "X = [[0.1, 2.3],\n",
    "    [-1.5, 2.5],\n",
    "    [2.0, -4.3]]\n",
    "\n",
    "y = [0, 1, 0]"
   ]
  },
  {
   "cell_type": "code",
   "execution_count": 5,
   "id": "f35c1008",
   "metadata": {},
   "outputs": [],
   "source": [
    "model = SVC().fit(X,y)"
   ]
  },
  {
   "cell_type": "code",
   "execution_count": null,
   "id": "6c4d577c",
   "metadata": {},
   "outputs": [],
   "source": []
  },
  {
   "cell_type": "code",
   "execution_count": 9,
   "id": "19179aa5",
   "metadata": {},
   "outputs": [
    {
     "data": {
      "text/plain": [
       "[0.1, 2.3]"
      ]
     },
     "execution_count": 9,
     "metadata": {},
     "output_type": "execute_result"
    }
   ],
   "source": []
  },
  {
   "cell_type": "code",
   "execution_count": null,
   "id": "180f80b5",
   "metadata": {},
   "outputs": [],
   "source": []
  }
 ],
 "metadata": {
  "kernelspec": {
   "display_name": "Python 3 (ipykernel)",
   "language": "python",
   "name": "python3"
  },
  "language_info": {
   "codemirror_mode": {
    "name": "ipython",
    "version": 3
   },
   "file_extension": ".py",
   "mimetype": "text/x-python",
   "name": "python",
   "nbconvert_exporter": "python",
   "pygments_lexer": "ipython3",
   "version": "3.10.8"
  }
 },
 "nbformat": 4,
 "nbformat_minor": 5
}
