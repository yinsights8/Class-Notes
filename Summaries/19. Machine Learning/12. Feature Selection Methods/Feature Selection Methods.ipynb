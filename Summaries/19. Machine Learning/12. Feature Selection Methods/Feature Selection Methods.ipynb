{
 "cells": [
  {
   "cell_type": "markdown",
   "id": "0ec36292",
   "metadata": {},
   "source": [
    "## Feature Selection Methods"
   ]
  },
  {
   "cell_type": "raw",
   "id": "aa620e98",
   "metadata": {},
   "source": [
    "1. Filter Method\n",
    "2. Wrapper Method\n",
    "3. Embedded Method"
   ]
  },
  {
   "cell_type": "markdown",
   "id": "6aa3e40d",
   "metadata": {},
   "source": [
    "## 1. Filter Methods"
   ]
  },
  {
   "cell_type": "raw",
   "id": "7103a314",
   "metadata": {},
   "source": [
    "1. coefficient of Correlation \n",
    "2. information Gain  \n",
    "3. Missing Value Ratio\n",
    "4. Annova Test\n",
    "5. Fishers Score \n",
    "6. Mean Absolute Difference\n",
    "7. Chi-Square Test"
   ]
  },
  {
   "cell_type": "markdown",
   "id": "c41d0ef2",
   "metadata": {},
   "source": [
    "## 2. Wrapper Method"
   ]
  },
  {
   "cell_type": "raw",
   "id": "6194972b",
   "metadata": {},
   "source": [
    "1. Forward Selection Method\n",
    "2. Backward Selection Method\n",
    "3. Recursive Feature Selection\n",
    "4. Exhaustive Feature Selection"
   ]
  },
  {
   "cell_type": "markdown",
   "id": "0b859a09",
   "metadata": {},
   "source": [
    "## 3. Embedded Method"
   ]
  },
  {
   "cell_type": "raw",
   "id": "f2f7d145",
   "metadata": {},
   "source": [
    "1. Regularization\n",
    "2. Random Forest importance Method"
   ]
  },
  {
   "cell_type": "code",
   "execution_count": null,
   "id": "683da0e3",
   "metadata": {},
   "outputs": [],
   "source": []
  },
  {
   "cell_type": "markdown",
   "id": "0f55826d",
   "metadata": {},
   "source": [
    "### 1. Coefficient of Correlation"
   ]
  },
  {
   "cell_type": "code",
   "execution_count": null,
   "id": "3c303dc9",
   "metadata": {},
   "outputs": [],
   "source": [
    "import matplotlib.pyplot \n",
    "import seaborn as sns\n",
    "\n",
    "sns.head(df.corr(), annot=True)"
   ]
  },
  {
   "cell_type": "code",
   "execution_count": null,
   "id": "90b35352",
   "metadata": {},
   "outputs": [],
   "source": []
  },
  {
   "cell_type": "code",
   "execution_count": null,
   "id": "60fddea3",
   "metadata": {},
   "outputs": [],
   "source": []
  },
  {
   "cell_type": "code",
   "execution_count": null,
   "id": "b27da118",
   "metadata": {},
   "outputs": [],
   "source": []
  },
  {
   "cell_type": "code",
   "execution_count": null,
   "id": "63991e6d",
   "metadata": {},
   "outputs": [],
   "source": []
  },
  {
   "cell_type": "code",
   "execution_count": null,
   "id": "819d093c",
   "metadata": {},
   "outputs": [],
   "source": []
  },
  {
   "cell_type": "code",
   "execution_count": null,
   "id": "8be58086",
   "metadata": {},
   "outputs": [],
   "source": []
  },
  {
   "cell_type": "code",
   "execution_count": null,
   "id": "5530290c",
   "metadata": {},
   "outputs": [],
   "source": []
  }
 ],
 "metadata": {
  "kernelspec": {
   "display_name": "Python 3 (ipykernel)",
   "language": "python",
   "name": "python3"
  },
  "language_info": {
   "codemirror_mode": {
    "name": "ipython",
    "version": 3
   },
   "file_extension": ".py",
   "mimetype": "text/x-python",
   "name": "python",
   "nbconvert_exporter": "python",
   "pygments_lexer": "ipython3",
   "version": "3.11.3"
  }
 },
 "nbformat": 4,
 "nbformat_minor": 5
}
