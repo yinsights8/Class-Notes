{
 "cells": [
  {
   "cell_type": "markdown",
   "id": "d76968ee",
   "metadata": {},
   "source": [
    "# Set \n",
    "- unorderd data types\n",
    "- it is mutable \n",
    "- it has more functionality\n",
    "- duplicates items are not allowed \n",
    "- it is written inside a {   }\n",
    "- it returns unique values\n",
    "- it cannot be access by indexing and slicing"
   ]
  },
  {
   "cell_type": "markdown",
   "id": "7a87689f",
   "metadata": {},
   "source": [
    "# Functions in set() :-"
   ]
  },
  {
   "cell_type": "markdown",
   "id": "632b93dd",
   "metadata": {},
   "source": [
    "## 1. .add()\n",
    "\n",
    "- in-place function\n",
    "- it use to add only one element in a set\n",
    "\n",
    "- however to add multiple elements in a set we either an use seperate .add() or we can go for > for loop\n",
    "\n",
    "- If the element already exists, the add() method does not add the element.\n",
    "\n",
    "- syntax = \n",
    "         - set_var.add(element) "
   ]
  },
  {
   "cell_type": "code",
   "execution_count": null,
   "id": "24d0e1c3",
   "metadata": {},
   "outputs": [],
   "source": []
  },
  {
   "cell_type": "markdown",
   "id": "6273df78",
   "metadata": {},
   "source": [
    "### Note:- bellow methods accepts argument as a iterators such as list, tuple, string, range etc... \n",
    "### however if dictionary passed then it only accept values from it not keys"
   ]
  },
  {
   "cell_type": "markdown",
   "id": "f3508765",
   "metadata": {},
   "source": [
    "## 2. .update()\n",
    "\n",
    "- in - place function\n",
    "- it updates the current set, by adding a item from another set (or any other iterator)\n",
    "- If an item is present in both sets, only one appearance of this item will be present in the updated set.\n",
    "- can update more than two sets at the same time\n",
    "\n",
    "\n",
    "\n",
    "- syntax = \n",
    "        - set.update(set1,set2,set3...etc)"
   ]
  },
  {
   "cell_type": "markdown",
   "id": "0b7eb865",
   "metadata": {},
   "source": [
    "## 3. .union()\n",
    "\n",
    "- returns a new set\n",
    "- it is not a in- place method\n",
    "- The union() method returns a set that contains all items from the original set, and all items from the specified set(s).\n",
    "\n",
    "- You can specify as many sets you want, separated by commas.\n",
    "\n",
    "- It does not have to be a set, it can be any iterable object.\n",
    "\n",
    "- If an item is present in more than one set, the result will contain only one appearance of this item.\n",
    "\n",
    "- syntax:- \n",
    "\n",
    "        - set.union(set1, set2...)"
   ]
  },
  {
   "cell_type": "markdown",
   "id": "740281a7",
   "metadata": {},
   "source": [
    "## 4 .intersection()\n",
    "\n",
    "- return new set that contains common elements or symetric elements from two or more than two sets\n",
    "\n",
    "- Meaning: The returned set contains only items that exist in both sets, or in all sets if the comparison is done with more than two sets.\n",
    "\n",
    "- syntax\n",
    "       - set1.intersection(set2, set3 ... etc)"
   ]
  },
  {
   "cell_type": "markdown",
   "id": "292ff9f2",
   "metadata": {},
   "source": [
    "## 5. .intersection_update()\n",
    "- this method removes the items that are not present in the both (or more than two sets. if there is a comparison between more than two sets)\n",
    "- it not important to be pass a set only as arguments in .intersection_update() method\n",
    "- in-place fucntion\n",
    "- syntax\n",
    "            - set1.intersection_update(iterator1,iterator2, etc....)"
   ]
  },
  {
   "cell_type": "markdown",
   "id": "26b04fa6",
   "metadata": {},
   "source": [
    "## 6. .difference()\n",
    "- The difference() method returns a set that contains the difference between two sets or more than two.\n",
    "- in-place function\n",
    "- Meaning: The returned set contains items that exist only in the first set, and not in both sets.\n",
    "- returns the set without unwanted items\n",
    "- not necesserely to have set only as aurguments\n",
    "- syntax:-\n",
    "      - set.difference(iterator1,iterator2, etc....)"
   ]
  },
  {
   "cell_type": "markdown",
   "id": "ecf09bde",
   "metadata": {},
   "source": [
    "## 7. .difference_update()\n",
    "- it removes the items that are present both the sets\n",
    "- this method removes the items from the original set and updates the current set\n",
    "\n",
    "- syntax :- \n",
    "        - set.difference_update(iterator1,iterator2, etc....) \n",
    "        "
   ]
  },
  {
   "cell_type": "markdown",
   "id": "bbbc169e",
   "metadata": {},
   "source": [
    "## 8. .symetric_difference()\n",
    "- The symmetric_difference() method returns a set that contains all items from both set, but not the items that are present in both sets.\n",
    "\n",
    "- meaning: This method will ignore all symetrical or same elemets from both the sets and will return a pair of uncommon elements.\n",
    "\n",
    "- Meaning: The returned set contains a mix of items that are not present in both sets.\n",
    "\n",
    "- syntax\n",
    "               - set.symetric_difference(iterator1,iterator2, etc....)"
   ]
  },
  {
   "cell_type": "markdown",
   "id": "433c83a7",
   "metadata": {},
   "source": [
    "## 9. .symetric_difference_update()\n",
    "\n",
    "- The symmetric_difference_update() method updates the original set by removing items that are present in both sets, and inserting the other items.\n",
    "\n",
    "###### Note : - this method only accept one iterator as a argument other wise it will throw typerror if the multiple iterator is passed\n",
    "\n",
    "- syntax\n",
    "         - set.symetric_difference_update(iterator1, iterator2,etc....)"
   ]
  },
  {
   "cell_type": "markdown",
   "id": "204d61a9",
   "metadata": {},
   "source": [
    "# Delete Methods"
   ]
  },
  {
   "cell_type": "markdown",
   "id": "57e548fe",
   "metadata": {},
   "source": [
    "## 1. .remove()\n",
    "\n",
    "- this method will remove the element from the set\n",
    "\n",
    "\n",
    "\n",
    "###### Note :- if we try to delete the item which is not present in a list then it will return an KeyError  "
   ]
  },
  {
   "cell_type": "markdown",
   "id": "e90a79aa",
   "metadata": {},
   "source": [
    "## 2. .discard()\n",
    "- This method will remove the element from the set \n",
    "\n",
    "\n",
    "\n",
    "###### Note :- if we try to discard the item which is not present in a set then it will return a set as it is. \n",
    "###### meaning it won't return an error, instead it will return a set with no change"
   ]
  },
  {
   "cell_type": "markdown",
   "id": "396843c7",
   "metadata": {},
   "source": [
    "## 3. .pop()\n",
    "- The pop() method removes a random item from the set.\n",
    "\n",
    "- This method returns the removed item."
   ]
  },
  {
   "cell_type": "markdown",
   "id": "36f96f6f",
   "metadata": {},
   "source": [
    "## 4. .clear()\n",
    "\n",
    "- this method will delete all items from a set and return an empty set"
   ]
  },
  {
   "cell_type": "markdown",
   "id": "487dc23e",
   "metadata": {},
   "source": [
    "# other methods"
   ]
  },
  {
   "cell_type": "code",
   "execution_count": null,
   "id": "a4908220",
   "metadata": {},
   "outputs": [],
   "source": []
  },
  {
   "cell_type": "markdown",
   "id": "286a9ae0",
   "metadata": {},
   "source": [
    "## 1. .issubset()\n",
    "- The issubset() method returns True if all items in the set exists in the specified set, otherwise it retuns False.\n",
    "\n",
    "- in this method we can pass  different iterators like list, tuple, range, dictionary, etc... as a arguments\n",
    "\n",
    "- < use for proper subset  and <= use for subset\n",
    "\n",
    "###### Note : - Instead of using this issubset() you can also the      (‘<‘ or ‘<=‘)     operator to determine whether the set is a subset of another set. this only works on sets\n",
    "\n",
    "- Test whether every element in the set1 is in set2.\n",
    "\n",
    "###### Note :- while .issubset() can also work on any type of iterators"
   ]
  },
  {
   "cell_type": "code",
   "execution_count": null,
   "id": "5fa11d15",
   "metadata": {},
   "outputs": [],
   "source": []
  },
  {
   "cell_type": "markdown",
   "id": "4049ccaa",
   "metadata": {},
   "source": [
    "## 2. .issuperset()\n",
    "- The issuperset() method returns True if all items in the specified set exists in the original set, otherwise it retuns False.\n",
    "\n",
    "######    > - use for proper superset and >= use for superset\n",
    "\n",
    "###### Note : - Instead of using this issuperset() you can also use the (‘>‘ or ‘>=‘) operator to determine whether the set is a subset of another set. this only works on sets\n",
    "###### Note :- while .issuperset() can also work on any type of iterators"
   ]
  },
  {
   "cell_type": "code",
   "execution_count": null,
   "id": "5d3f86f0",
   "metadata": {},
   "outputs": [],
   "source": []
  },
  {
   "cell_type": "markdown",
   "id": "e5e40f0c",
   "metadata": {},
   "source": [
    "## 3. .isdisjoint()"
   ]
  },
  {
   "cell_type": "markdown",
   "id": "0ccd483f",
   "metadata": {},
   "source": [
    "- The .isdisjoint() method returns True if none of the items are present in both sets, otherwise it returns False."
   ]
  },
  {
   "cell_type": "markdown",
   "id": "0d801ea3",
   "metadata": {},
   "source": [
    "# set Comprehension"
   ]
  },
  {
   "cell_type": "markdown",
   "id": "af5278a4",
   "metadata": {},
   "source": [
    "- new_set = {new_item for item in iterator}\n",
    "- new_set = {new_item for item in iterator if condition}\n",
    "- new_set = {new_item if condition else \"statement\" for item in iterator}\n",
    "\n",
    "###### Note :- after else statement  if  there is print statement then only use statement form the print function and cut the print function from comprehension"
   ]
  },
  {
   "cell_type": "code",
   "execution_count": null,
   "id": "50837914",
   "metadata": {},
   "outputs": [],
   "source": []
  }
 ],
 "metadata": {
  "kernelspec": {
   "display_name": "Python 3 (ipykernel)",
   "language": "python",
   "name": "python3"
  },
  "language_info": {
   "codemirror_mode": {
    "name": "ipython",
    "version": 3
   },
   "file_extension": ".py",
   "mimetype": "text/x-python",
   "name": "python",
   "nbconvert_exporter": "python",
   "pygments_lexer": "ipython3",
   "version": "3.10.8"
  }
 },
 "nbformat": 4,
 "nbformat_minor": 5
}
