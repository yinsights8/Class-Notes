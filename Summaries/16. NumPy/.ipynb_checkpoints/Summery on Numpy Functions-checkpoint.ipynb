{
 "cells": [
  {
   "cell_type": "markdown",
   "id": "cb39631f",
   "metadata": {},
   "source": [
    "# 1. NumPy"
   ]
  },
  {
   "cell_type": "markdown",
   "id": "b1d553db",
   "metadata": {},
   "source": [
    "- NumPy is a Python library used for working with arrays.\n",
    "\n",
    "- It also has functions for working in domain of linear algebra, fourier transform, and matrices.\n",
    "- Numpy stands for Numerical python"
   ]
  },
  {
   "cell_type": "markdown",
   "id": "a81bd1b0",
   "metadata": {},
   "source": [
    "### Application\n",
    "- Linear Algebra\n",
    "- Statistics\n",
    "- Probability\n",
    "- Trignometric Operations (sin,cos,tan,etc.....)\n",
    "- Matrix\n",
    "- Image Processing\n",
    "- Logarithmic"
   ]
  },
  {
   "cell_type": "markdown",
   "id": "a35d405f",
   "metadata": {},
   "source": [
    "## Array\n",
    "- It is a collection of homogeneous datatypes\n",
    "- ndarray ---> n-dimentional array\n",
    "- Arrays are faster than list\n",
    "- Numpy is written in c/c++ language(Partially in python)\n",
    "- Arrays can be created with the help of tuples and list\n",
    "- Supported Datatypes = int, float, complex, str"
   ]
  },
  {
   "cell_type": "markdown",
   "id": "57052b21",
   "metadata": {},
   "source": [
    "- In Python we have lists that serve the purpose of arrays, but they are slow to process.\n",
    "- NumPy aims to provide an array object that is up to 50x faster than traditional Python lists.\n",
    "\n",
    "- The array object in NumPy is called ndarray, it provides a lot of supporting functions that make working with ndarray very easy.\n",
    "\n",
    "- Arrays are very frequently used in data science, where speed and resources are very important."
   ]
  },
  {
   "cell_type": "markdown",
   "id": "89ba28a1",
   "metadata": {},
   "source": [
    "### Why is NumPy Faster Than Lists?\n",
    "- NumPy arrays are stored at one continuous place in memory unlike lists, so processes can access and manipulate them very efficiently. \n",
    "- This behavior is called locality of reference in computer science. \n",
    "- This is the main reason why NumPy is faster than lists. Also it is optimized to work with latest CPU architectures. \n"
   ]
  },
  {
   "cell_type": "markdown",
   "id": "37a03d46",
   "metadata": {},
   "source": [
    "###### Note:- numpy arrays holds only one type of data type, any single type of another datatype value will change the whole dataset of array into differnent data type"
   ]
  },
  {
   "cell_type": "code",
   "execution_count": null,
   "id": "d36645ae",
   "metadata": {},
   "outputs": [],
   "source": []
  },
  {
   "cell_type": "markdown",
   "id": "62c302ab",
   "metadata": {},
   "source": [
    "### Creatign Dimensions\n",
    "##### 1. 0 - d (Zero - Dimension Arrary)\n",
    "##### 2. 1 - d (one - Dimension Arrary)\n",
    "##### 3. 2 - d (Two - Dimension Arrary)\n",
    "##### 4. 3 - d (Three - Dimension Arrary)\n"
   ]
  },
  {
   "cell_type": "markdown",
   "id": "b3268600",
   "metadata": {},
   "source": [
    "### 1. 0-D  (Zero - Dimension Arrary)"
   ]
  },
  {
   "cell_type": "code",
   "execution_count": 2,
   "id": "81be13a8",
   "metadata": {},
   "outputs": [
    {
     "name": "stdout",
     "output_type": "stream",
     "text": [
      "Array:- 1000\n",
      "dimensions of an array:- 0\n",
      "<><><><><><><><><><><><><><><><><><><><><><><><><><><><><><><><><><><><><><><><><><><><><><><><><><>\n",
      "Array:- yash dhakade\n",
      "dimensions of string array:- 0\n",
      "<><><><><><><><><><><><><><><><><><><><><><><><><><><><><><><><><><><><><><><><><><><><><><><><><><>\n"
     ]
    },
    {
     "ename": "TypeError",
     "evalue": "array() takes from 1 to 2 positional arguments but 3 were given",
     "output_type": "error",
     "traceback": [
      "\u001b[1;31m---------------------------------------------------------------------------\u001b[0m",
      "\u001b[1;31mTypeError\u001b[0m                                 Traceback (most recent call last)",
      "Input \u001b[1;32mIn [2]\u001b[0m, in \u001b[0;36m<cell line: 14>\u001b[1;34m()\u001b[0m\n\u001b[0;32m     10\u001b[0m \u001b[38;5;28mprint\u001b[39m(\u001b[38;5;124mf\u001b[39m\u001b[38;5;124m\"\u001b[39m\u001b[38;5;124mdimensions of string array:- \u001b[39m\u001b[38;5;132;01m{\u001b[39;00marr2\u001b[38;5;241m.\u001b[39mndim\u001b[38;5;132;01m}\u001b[39;00m\u001b[38;5;124m\"\u001b[39m)\n\u001b[0;32m     12\u001b[0m \u001b[38;5;28mprint\u001b[39m(\u001b[38;5;124m\"\u001b[39m\u001b[38;5;124m<>\u001b[39m\u001b[38;5;124m\"\u001b[39m\u001b[38;5;241m*\u001b[39m\u001b[38;5;241m50\u001b[39m)\n\u001b[1;32m---> 14\u001b[0m arr \u001b[38;5;241m=\u001b[39m \u001b[43mnp\u001b[49m\u001b[38;5;241;43m.\u001b[39;49m\u001b[43marray\u001b[49m\u001b[43m(\u001b[49m\u001b[38;5;241;43m1\u001b[39;49m\u001b[43m,\u001b[49m\u001b[38;5;241;43m2\u001b[39;49m\u001b[43m,\u001b[49m\u001b[38;5;241;43m3\u001b[39;49m\u001b[43m)\u001b[49m\n\u001b[0;32m     15\u001b[0m \u001b[38;5;28mprint\u001b[39m(\u001b[38;5;124mf\u001b[39m\u001b[38;5;124m\"\u001b[39m\u001b[38;5;124mArray:- \u001b[39m\u001b[38;5;132;01m{\u001b[39;00marr\u001b[38;5;132;01m}\u001b[39;00m\u001b[38;5;124m\"\u001b[39m)\n\u001b[0;32m     16\u001b[0m \u001b[38;5;28mprint\u001b[39m(\u001b[38;5;124mf\u001b[39m\u001b[38;5;124m\"\u001b[39m\u001b[38;5;124mdimensions of an array:- \u001b[39m\u001b[38;5;132;01m{\u001b[39;00marr\u001b[38;5;241m.\u001b[39mndim\u001b[38;5;132;01m}\u001b[39;00m\u001b[38;5;124m\"\u001b[39m)\n",
      "\u001b[1;31mTypeError\u001b[0m: array() takes from 1 to 2 positional arguments but 3 were given"
     ]
    }
   ],
   "source": [
    "import numpy as np\n",
    "arr1 = np.array(1000)\n",
    "print(f\"Array:- {arr1}\")\n",
    "print(f\"dimensions of an array:- {arr1.ndim}\")\n",
    "\n",
    "print(\"<>\"*50)\n",
    "\n",
    "arr2 = np.array(\"yash dhakade\")\n",
    "print(f\"Array:- {arr2}\")\n",
    "print(f\"dimensions of string array:- {arr2.ndim}\")\n",
    "\n",
    "print(\"<>\"*50)\n",
    "\n",
    "arr = np.array(1,2,3)\n",
    "print(f\"Array:- {arr}\")\n",
    "print(f\"dimensions of an array:- {arr.ndim}\")"
   ]
  },
  {
   "cell_type": "code",
   "execution_count": null,
   "id": "8aea7045",
   "metadata": {},
   "outputs": [],
   "source": []
  },
  {
   "cell_type": "markdown",
   "id": "5910b052",
   "metadata": {},
   "source": [
    "#### 1- d (one - dimension array)\n",
    "- It is a collection of  0 - d array "
   ]
  },
  {
   "cell_type": "code",
   "execution_count": 3,
   "id": "eae7dc08",
   "metadata": {},
   "outputs": [
    {
     "name": "stdout",
     "output_type": "stream",
     "text": [
      "Array:- [1 2 3]\n",
      "One Dimension array:- 1\n",
      "Shape of the array:- (3,)\n"
     ]
    }
   ],
   "source": [
    "ar = np.array([1,2,3])\n",
    "print(f\"Array:- {ar}\")\n",
    "print(f\"One Dimension array:- {ar.ndim}\")\n",
    "print(f\"Shape of the array:- {ar.shape}\")"
   ]
  },
  {
   "cell_type": "code",
   "execution_count": null,
   "id": "832c7172",
   "metadata": {},
   "outputs": [],
   "source": []
  },
  {
   "cell_type": "markdown",
   "id": "699d8f00",
   "metadata": {},
   "source": [
    "#### 2 - d Arrary (2-d dimension array) \n",
    "- it is a collection of one dimension array"
   ]
  },
  {
   "cell_type": "code",
   "execution_count": 11,
   "id": "454e49dc",
   "metadata": {},
   "outputs": [
    {
     "name": "stdout",
     "output_type": "stream",
     "text": [
      "Array:- [[  1.   2.   3.]\n",
      " [ 10.  20.  30.]\n",
      " [100. 200. 300.]]\n",
      "length of array:- 3\n",
      "One Dimension array:- 2\n",
      "shape of array:- (3, 3)\n",
      "\n",
      "<><><><><><><><><><><><><><><><><><><><><><><><><><><><><><><><><><><><><><><><><><><><><><><><><><>\n",
      "\n",
      "Array:- [[1 2 3]]\n",
      "Length of an Array:- 1\n",
      "Dimensions of an array are:- :- 2\n",
      "shape of an Array:- (1, 3)\n"
     ]
    }
   ],
   "source": [
    "arr = np.array([[1,2,3], [10,20,30], [100,200,300]],float)\n",
    "\n",
    "print(f\"Array:- {arr}\")\n",
    "print(f\"length of array:- {len(arr)}\")\n",
    "print(f\"One Dimension array:- {arr.ndim}\")\n",
    "print(f\"shape of array:- {arr.shape}\\n\")\n",
    "\n",
    "print(\"<>\"*50)\n",
    "\n",
    "arr = np.array([[1,2,3]])\n",
    "print(f\"\\nArray:- {arr}\")\n",
    "print(f\"Length of an Array:- {len(arr)}\")\n",
    "print(f\"Dimensions of an array are:- :- {arr.ndim}\")\n",
    "print(f\"shape of an Array:- {arr.shape}\")"
   ]
  },
  {
   "cell_type": "markdown",
   "id": "7a645c12",
   "metadata": {},
   "source": [
    "#### 3 - d Array (3 - d dimension array)\n",
    "- it is a collection of two dimension array"
   ]
  },
  {
   "cell_type": "code",
   "execution_count": 14,
   "id": "e194cea9",
   "metadata": {},
   "outputs": [
    {
     "name": "stdout",
     "output_type": "stream",
     "text": [
      "Array: \n",
      "[[[1. 4. 7.]\n",
      "  [2. 5. 8.]]\n",
      "\n",
      " [[3. 6. 9.]\n",
      "  [1. 2. 3.]]\n",
      "\n",
      " [[4. 5. 6.]\n",
      "  [7. 8. 9.]]]\n",
      "length of an array:- 3\n",
      "dimensions of an array: 3\n",
      "shape of an array: (3, 2, 3)\n",
      "size of an array;- 18\n"
     ]
    }
   ],
   "source": [
    "arrr = np.array([[[1,4,7], [2,5,8]], [[3,6,9], [1,2,3]], [[4,5,6], [7,8,9]]],float)\n",
    "\n",
    "print(f\"Array: \\n{arrr}\")\n",
    "print(f\"length of an array:- {len(arrr)}\")\n",
    "print(f\"dimensions of an array: {arrr.ndim}\")\n",
    "print(f\"shape of an array: {arrr.shape}\")\n",
    "print(f\"size of an array;- {arrr.size}\")"
   ]
  },
  {
   "cell_type": "code",
   "execution_count": null,
   "id": "685aa2eb",
   "metadata": {},
   "outputs": [],
   "source": []
  },
  {
   "cell_type": "code",
   "execution_count": null,
   "id": "bea6242f",
   "metadata": {},
   "outputs": [],
   "source": []
  },
  {
   "cell_type": "code",
   "execution_count": null,
   "id": "38c3136a",
   "metadata": {},
   "outputs": [],
   "source": []
  },
  {
   "cell_type": "code",
   "execution_count": null,
   "id": "cd79f3ce",
   "metadata": {},
   "outputs": [],
   "source": []
  },
  {
   "cell_type": "markdown",
   "id": "64afd317",
   "metadata": {},
   "source": [
    "### 1. numpy.arr.ndim :-\n",
    "- [int] Return the number of dimensions in arr."
   ]
  },
  {
   "cell_type": "markdown",
   "id": "c84164f3",
   "metadata": {},
   "source": [
    "### 2. numpy.arr.shape :- \n",
    "- it returns the shape of the array in tuple, \n",
    "- it returns (row, column) or\n",
    "- it returns n-dimensions or Arrays and n-elements in it (n-dim, n-element)\n",
    "\n",
    "\n",
    "######  >>In 3 - dimension array\n",
    "- arr.shape()\n",
    "- it returns number of dimension (length of array), number of row's and number of columns \n",
    "- [dim, row, coloumn] oR [len(arr), row, column] or [number_of_arrays, row, column]"
   ]
  },
  {
   "cell_type": "markdown",
   "id": "e626cba2",
   "metadata": {},
   "source": [
    "### 3. numpy.arr.size :-\n",
    "- it returns the total number of elements present in a n - dimension array"
   ]
  },
  {
   "cell_type": "code",
   "execution_count": null,
   "id": "8d6b0575",
   "metadata": {},
   "outputs": [],
   "source": []
  },
  {
   "cell_type": "markdown",
   "id": "0cf44399",
   "metadata": {},
   "source": [
    "# 1. Accesing array "
   ]
  },
  {
   "cell_type": "markdown",
   "id": "7cf61dbd",
   "metadata": {},
   "source": [
    "#### 1. Accessing array from 1-Dimention array"
   ]
  },
  {
   "cell_type": "markdown",
   "id": "f68c9baf",
   "metadata": {},
   "source": [
    "- we can access element from 1-D array as similar to python list"
   ]
  },
  {
   "cell_type": "code",
   "execution_count": 1,
   "id": "3148be98",
   "metadata": {},
   "outputs": [
    {
     "name": "stdout",
     "output_type": "stream",
     "text": [
      "2\n"
     ]
    }
   ],
   "source": [
    "import numpy as np\n",
    "arr = np.array([1, 2, 3, 4])\n",
    "\n",
    "print(arr[1])"
   ]
  },
  {
   "cell_type": "markdown",
   "id": "626a7c75",
   "metadata": {},
   "source": [
    "#### 2.Accesing array from 2-Dimentional array\n",
    "- we can access element from 2-D array by [Row, Column]"
   ]
  },
  {
   "cell_type": "code",
   "execution_count": 4,
   "id": "807b92e2",
   "metadata": {},
   "outputs": [
    {
     "name": "stdout",
     "output_type": "stream",
     "text": [
      "2nd element on 1st row:  2\n",
      "2nd element on 2st row:  8\n"
     ]
    }
   ],
   "source": [
    "arr = np.array([[1,2,3,4,5],              ## first row\n",
    "                [6,7,8,9,10]])            ## second row\n",
    "\n",
    "print('2nd element on 1st row: ', arr[0, 1])\n",
    "print('2nd element on 2st row: ', arr[1, 2])"
   ]
  },
  {
   "cell_type": "markdown",
   "id": "aa7ea902",
   "metadata": {},
   "source": [
    "#### 3.Accessing elements from 3-Dimentional Array\n",
    "###### arr[Dim ,row, Column]"
   ]
  },
  {
   "cell_type": "code",
   "execution_count": null,
   "id": "b7d7fc95",
   "metadata": {},
   "outputs": [],
   "source": [
    "arr = np.array([[[1, 2, 3], [4, 5, 6]], [[7, 8, 9], [10, 11, 12]]])\n",
    "\n",
    "print(arr[0, 1, 2])"
   ]
  },
  {
   "cell_type": "code",
   "execution_count": null,
   "id": "02468ddb",
   "metadata": {},
   "outputs": [],
   "source": []
  },
  {
   "cell_type": "markdown",
   "id": "32ed5dcd",
   "metadata": {},
   "source": [
    "#### data type conversion \n",
    "\n",
    "1. int   --> float, str\n",
    "2. float --> int, str\n",
    "3. int, float --> complex\n",
    "4. complex --> float  Not Possible "
   ]
  },
  {
   "cell_type": "code",
   "execution_count": null,
   "id": "1e822b8a",
   "metadata": {},
   "outputs": [],
   "source": []
  },
  {
   "cell_type": "markdown",
   "id": "d26a0191",
   "metadata": {},
   "source": [
    "## 2. Converting n-dimension array"
   ]
  },
  {
   "cell_type": "markdown",
   "id": "d3e2da72",
   "metadata": {},
   "source": [
    "- ndmin = dimensions\n",
    "- we can increase the dimension of the array by passing \"ndmin\" after passing an array\n",
    "\n",
    "\n",
    "- syntax:- \n",
    "    - array = np.array([1,2,3],ndmin = 1/ 2/ 3)"
   ]
  },
  {
   "cell_type": "markdown",
   "id": "5c4aca73",
   "metadata": {},
   "source": [
    " - array = np.array([1,2,3],ndmin = 1 /2 /3)\n",
    "\n",
    "###### Note:- we can only convert our array upto 33-dimensions"
   ]
  },
  {
   "cell_type": "code",
   "execution_count": null,
   "id": "742882a7",
   "metadata": {},
   "outputs": [],
   "source": []
  },
  {
   "cell_type": "code",
   "execution_count": null,
   "id": "1ef8dd8c",
   "metadata": {},
   "outputs": [],
   "source": [
    " "
   ]
  },
  {
   "cell_type": "markdown",
   "id": "9988c630",
   "metadata": {},
   "source": [
    "## 3. reshape()\n",
    "- The numpy.reshape() function shapes an array without changing the data of the array.\n",
    "- Array which is reshaped without changing the data.\n",
    "\n",
    "- syntax \n",
    "    - numpy.reshape(array, shape, order = 'C')\n",
    "    \n",
    "- to reshape the array \n",
    "    - 1. find the size of the array \n",
    "    - 2. then factorize the size of the array \n",
    "    - 3. that multiplication of the factors should be equal to size of the array"
   ]
  },
  {
   "cell_type": "code",
   "execution_count": 13,
   "id": "a1df074c",
   "metadata": {
    "scrolled": true
   },
   "outputs": [
    {
     "name": "stdout",
     "output_type": "stream",
     "text": [
      "6\n"
     ]
    }
   ],
   "source": [
    "a = np.array([1,2,3,4,5,6])\n",
    "print(a.size)"
   ]
  },
  {
   "cell_type": "code",
   "execution_count": 14,
   "id": "a4e31289",
   "metadata": {
    "scrolled": true
   },
   "outputs": [
    {
     "data": {
      "text/plain": [
       "array([[1, 2],\n",
       "       [3, 4],\n",
       "       [5, 6]])"
      ]
     },
     "execution_count": 14,
     "metadata": {},
     "output_type": "execute_result"
    }
   ],
   "source": [
    "a.reshape(3,2)"
   ]
  },
  {
   "cell_type": "markdown",
   "id": "1044b7f5",
   "metadata": {},
   "source": [
    "###### Combination of creating an array by its size of the factors\n",
    "- 3,2\n",
    "- 2,3"
   ]
  },
  {
   "cell_type": "code",
   "execution_count": 15,
   "id": "ccbc8cd3",
   "metadata": {
    "scrolled": true
   },
   "outputs": [
    {
     "ename": "ValueError",
     "evalue": "cannot reshape array of size 6 into shape (4,2)",
     "output_type": "error",
     "traceback": [
      "\u001b[1;31m---------------------------------------------------------------------------\u001b[0m",
      "\u001b[1;31mValueError\u001b[0m                                Traceback (most recent call last)",
      "Input \u001b[1;32mIn [15]\u001b[0m, in \u001b[0;36m<cell line: 1>\u001b[1;34m()\u001b[0m\n\u001b[1;32m----> 1\u001b[0m \u001b[43ma\u001b[49m\u001b[38;5;241;43m.\u001b[39;49m\u001b[43mreshape\u001b[49m\u001b[43m(\u001b[49m\u001b[38;5;241;43m4\u001b[39;49m\u001b[43m,\u001b[49m\u001b[38;5;241;43m2\u001b[39;49m\u001b[43m)\u001b[49m\n",
      "\u001b[1;31mValueError\u001b[0m: cannot reshape array of size 6 into shape (4,2)"
     ]
    }
   ],
   "source": [
    "a.reshape(4,2)"
   ]
  },
  {
   "cell_type": "markdown",
   "id": "05e5f197",
   "metadata": {},
   "source": [
    "###### Creating 3 dimensions array"
   ]
  },
  {
   "cell_type": "code",
   "execution_count": 25,
   "id": "39ae66b3",
   "metadata": {},
   "outputs": [
    {
     "data": {
      "text/plain": [
       "array([[[1, 2, 3],\n",
       "        [4, 5, 6]],\n",
       "\n",
       "       [[1, 2, 3],\n",
       "        [4, 5, 6]]])"
      ]
     },
     "execution_count": 25,
     "metadata": {},
     "output_type": "execute_result"
    }
   ],
   "source": [
    "## size = 12 - 6,2  4,3 \n",
    "## combinations:-\n",
    "###for two dimension array\n",
    "# 1. 4,3 or 3,4\n",
    "# 2. 6,2 or 2,6\n",
    "# 3. 12,1 or 1,12\n",
    "\n",
    "### for three dimension array\n",
    "# 1. 2,3,2\n",
    "# 2. 2,2,3\n",
    "\n",
    "a3 = np.array([[1,2,3,4,5,6], [1,2,3,4,5,6]])\n",
    "# a3.reshape(3,4)\n",
    "a3.reshape(2,2,3)"
   ]
  },
  {
   "cell_type": "code",
   "execution_count": null,
   "id": "846d9ec1",
   "metadata": {},
   "outputs": [],
   "source": []
  },
  {
   "cell_type": "code",
   "execution_count": null,
   "id": "72be4d28",
   "metadata": {},
   "outputs": [],
   "source": []
  },
  {
   "cell_type": "code",
   "execution_count": null,
   "id": "2d47b0c7",
   "metadata": {},
   "outputs": [],
   "source": []
  },
  {
   "cell_type": "markdown",
   "id": "5f764452",
   "metadata": {},
   "source": [
    "### 4. np.append()\n",
    "- this funciton will append the values into new array \n",
    "- syntax:- \n",
    "     - lis = np.append(array1,array2)"
   ]
  },
  {
   "cell_type": "markdown",
   "id": "0e9bc067",
   "metadata": {},
   "source": [
    "### 5. np.floor()\n",
    "- this function will return the float array by removing numbers after decimals.\n",
    "- syntax :- \n",
    "    - np.floor([1.2, 2.5, 3.6...etc...])"
   ]
  },
  {
   "cell_type": "code",
   "execution_count": 2,
   "id": "1cb9a117",
   "metadata": {},
   "outputs": [
    {
     "data": {
      "text/plain": [
       "array([3., 5., 6., 3., 9., 9.])"
      ]
     },
     "execution_count": 2,
     "metadata": {},
     "output_type": "execute_result"
    }
   ],
   "source": [
    "import numpy as np\n",
    "np.floor([3.7,5.5,6.7,3.2,9.9,9.2])\n"
   ]
  },
  {
   "cell_type": "markdown",
   "id": "d5fb9843",
   "metadata": {},
   "source": [
    "### 6. np.ceil()\n",
    "- The numpy.ceil() is a mathematical function that returns the ceil of the elements of array. The ceil of the scalar x is the smallest integer i, such that i >= x\n",
    "- syntax \n",
    "    - np.ceil([3.7,5.5,6.7,3.2,9.9,9.2])"
   ]
  },
  {
   "cell_type": "code",
   "execution_count": 4,
   "id": "0ee24859",
   "metadata": {},
   "outputs": [
    {
     "data": {
      "text/plain": [
       "array([ 4.,  6.,  7.,  4., 10., 10.])"
      ]
     },
     "execution_count": 4,
     "metadata": {},
     "output_type": "execute_result"
    }
   ],
   "source": [
    "np.ceil([3.7,5.5,6.7,3.2,9.9,9.2])"
   ]
  },
  {
   "cell_type": "markdown",
   "id": "8b1b2565",
   "metadata": {},
   "source": [
    "### 7. np.where()\n",
    "- The numpy.where() function returns the indices of elements in an input array where the given condition is satisfied. \n",
    "- syntax \n",
    "    - np.where(np.array([3.7,5.5,6.7,3.2,9.9,9.2]))"
   ]
  },
  {
   "cell_type": "code",
   "execution_count": 9,
   "id": "097ca5dd",
   "metadata": {},
   "outputs": [
    {
     "data": {
      "text/plain": [
       "(array([1, 2, 4, 5], dtype=int64),)"
      ]
     },
     "execution_count": 9,
     "metadata": {},
     "output_type": "execute_result"
    }
   ],
   "source": [
    "np.where(np.array([3.7,5.5,6.7,3.2,9.9,9.2]) > 4)"
   ]
  },
  {
   "cell_type": "code",
   "execution_count": 10,
   "id": "4e4257fc",
   "metadata": {},
   "outputs": [
    {
     "data": {
      "text/plain": [
       "(array([0, 3], dtype=int64),)"
      ]
     },
     "execution_count": 10,
     "metadata": {},
     "output_type": "execute_result"
    }
   ],
   "source": [
    "np.where(np.array([3.7,5.5,6.7,3.2,9.9,9.2]) < 4)"
   ]
  },
  {
   "cell_type": "code",
   "execution_count": null,
   "id": "a6ce48ff",
   "metadata": {},
   "outputs": [],
   "source": []
  },
  {
   "cell_type": "code",
   "execution_count": null,
   "id": "3d95a658",
   "metadata": {},
   "outputs": [],
   "source": []
  }
 ],
 "metadata": {
  "kernelspec": {
   "display_name": "Python 3 (ipykernel)",
   "language": "python",
   "name": "python3"
  },
  "language_info": {
   "codemirror_mode": {
    "name": "ipython",
    "version": 3
   },
   "file_extension": ".py",
   "mimetype": "text/x-python",
   "name": "python",
   "nbconvert_exporter": "python",
   "pygments_lexer": "ipython3",
   "version": "3.9.12"
  }
 },
 "nbformat": 4,
 "nbformat_minor": 5
}
