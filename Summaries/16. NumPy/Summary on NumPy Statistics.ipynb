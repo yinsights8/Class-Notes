{
 "cells": [
  {
   "cell_type": "markdown",
   "id": "ee87d115",
   "metadata": {},
   "source": [
    "### 1. mean()\n",
    "- Compute the arithmetic mean (average) of the given data (array elements) along the specified axis.\n",
    "- Syntax\n",
    "    - np.mean(array)"
   ]
  },
  {
   "cell_type": "code",
   "execution_count": 1,
   "id": "cb8185ad",
   "metadata": {},
   "outputs": [
    {
     "name": "stdout",
     "output_type": "stream",
     "text": [
      "5.25\n"
     ]
    }
   ],
   "source": [
    "import numpy as np\n",
    "arr = np.array([1,2,5,6,9,8,7,4])\n",
    "average = np.mean(arr)\n",
    "print(average)"
   ]
  },
  {
   "cell_type": "markdown",
   "id": "83b0b1b1",
   "metadata": {},
   "source": [
    "### 2. median()\n",
    "- numpy.median(arr, axis = None) : Compute the median of the given data (array elements) along the specified axis.\n",
    "\n",
    "- Given data points.\n",
    "    - Arrange them in ascending order\n",
    "    - Median = middle term if total no. of terms are odd.\n",
    "    - Median = Average of the terms in the middle (if total no. of terms are even)"
   ]
  },
  {
   "cell_type": "code",
   "execution_count": 3,
   "id": "8b2938dc",
   "metadata": {},
   "outputs": [
    {
     "data": {
      "text/plain": [
       "array([1, 2, 5, 6, 9, 8, 7, 4])"
      ]
     },
     "execution_count": 3,
     "metadata": {},
     "output_type": "execute_result"
    }
   ],
   "source": [
    "arr"
   ]
  },
  {
   "cell_type": "code",
   "execution_count": 15,
   "id": "0e6fcf10",
   "metadata": {},
   "outputs": [
    {
     "name": "stdout",
     "output_type": "stream",
     "text": [
      "[1 2 4 5 6 7 8 9]\n"
     ]
    },
    {
     "data": {
      "text/plain": [
       "5.5"
      ]
     },
     "execution_count": 15,
     "metadata": {},
     "output_type": "execute_result"
    }
   ],
   "source": [
    "sorted_arr = np.sort(arr)\n",
    "print(sorted_arr)\n",
    "\n",
    "5+6 # = 11\n",
    "\n",
    "11/2"
   ]
  },
  {
   "cell_type": "code",
   "execution_count": 16,
   "id": "5d815bb6",
   "metadata": {},
   "outputs": [
    {
     "name": "stdout",
     "output_type": "stream",
     "text": [
      "median of number is: 5.5\n"
     ]
    }
   ],
   "source": [
    "median = np.median(np.sort(arr))\n",
    "print(f\"median of number is: {median}\")"
   ]
  },
  {
   "cell_type": "code",
   "execution_count": null,
   "id": "254912e8",
   "metadata": {},
   "outputs": [],
   "source": []
  },
  {
   "cell_type": "markdown",
   "id": "d4686e53",
   "metadata": {},
   "source": [
    "### 3. mode\n",
    "- function calculates the mode of the array elements along the specified axis of the array (list in python).\n",
    "- it returns the frequency of element of an array \n",
    "- to use mode() we need to import scipy package > stats module \n",
    "- Syntax\n",
    "   - scipy.stats.mode(array, axis=0)"
   ]
  },
  {
   "cell_type": "code",
   "execution_count": 19,
   "id": "5badcaef",
   "metadata": {},
   "outputs": [
    {
     "name": "stdout",
     "output_type": "stream",
     "text": [
      "6 times a number 9 repeats itself. \n"
     ]
    }
   ],
   "source": [
    "from scipy import stats\n",
    "ar = [1,1,2,3,5,6,6,6,6,8,99,9,9,9,9,9,9,4,4,4,8,5,5]\n",
    "\n",
    "rep_mode = stats.mode(ar)\n",
    "print(f\"{rep_mode[1][0]} times a number {rep_mode[0][0]} repeats itself. \")"
   ]
  },
  {
   "cell_type": "code",
   "execution_count": null,
   "id": "89cd3834",
   "metadata": {},
   "outputs": [],
   "source": []
  }
 ],
 "metadata": {
  "kernelspec": {
   "display_name": "Python 3 (ipykernel)",
   "language": "python",
   "name": "python3"
  },
  "language_info": {
   "codemirror_mode": {
    "name": "ipython",
    "version": 3
   },
   "file_extension": ".py",
   "mimetype": "text/x-python",
   "name": "python",
   "nbconvert_exporter": "python",
   "pygments_lexer": "ipython3",
   "version": "3.9.12"
  }
 },
 "nbformat": 4,
 "nbformat_minor": 5
}
