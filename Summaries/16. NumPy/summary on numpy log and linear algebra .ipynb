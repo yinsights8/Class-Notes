{
 "cells": [
  {
   "cell_type": "code",
   "execution_count": 1,
   "id": "bfa0f3af",
   "metadata": {},
   "outputs": [],
   "source": [
    "import numpy as np"
   ]
  },
  {
   "cell_type": "markdown",
   "id": "9a535dbb",
   "metadata": {},
   "source": [
    "# 1. logarithmic functions"
   ]
  },
  {
   "cell_type": "markdown",
   "id": "5e1a19c2",
   "metadata": {},
   "source": [
    "## 1. np.log(x)\n",
    "- element wise natural log\n",
    "- it returns log values"
   ]
  },
  {
   "cell_type": "code",
   "execution_count": 2,
   "id": "39618bc0",
   "metadata": {},
   "outputs": [
    {
     "data": {
      "text/plain": [
       "array([0.        , 0.69314718, 1.09861229, 1.38629436, 1.60943791,\n",
       "       1.79175947])"
      ]
     },
     "execution_count": 2,
     "metadata": {},
     "output_type": "execute_result"
    }
   ],
   "source": [
    "np.log([1,2,3,4,5,6])"
   ]
  },
  {
   "cell_type": "markdown",
   "id": "29a72643",
   "metadata": {},
   "source": [
    "## 2. np.log2(x)\n",
    "- it returns the values of log to the base 2"
   ]
  },
  {
   "cell_type": "code",
   "execution_count": 6,
   "id": "3de4c855",
   "metadata": {},
   "outputs": [
    {
     "data": {
      "text/plain": [
       "array([0.        , 1.        , 1.5849625 , 2.        , 2.32192809,\n",
       "       2.5849625 ])"
      ]
     },
     "execution_count": 6,
     "metadata": {},
     "output_type": "execute_result"
    }
   ],
   "source": [
    "np.log2([1,2,3,4,5,6])"
   ]
  },
  {
   "cell_type": "markdown",
   "id": "217d74a4",
   "metadata": {},
   "source": [
    "## 3. np.log10(x)\n",
    "- it returns the values of log to the base 10"
   ]
  },
  {
   "cell_type": "code",
   "execution_count": 7,
   "id": "5501524e",
   "metadata": {},
   "outputs": [
    {
     "data": {
      "text/plain": [
       "array([0.        , 0.30103   , 0.47712125, 0.60205999, 0.69897   ,\n",
       "       0.77815125])"
      ]
     },
     "execution_count": 7,
     "metadata": {},
     "output_type": "execute_result"
    }
   ],
   "source": [
    "np.log10([1,2,3,4,5,6])"
   ]
  },
  {
   "cell_type": "markdown",
   "id": "8ae313cb",
   "metadata": {},
   "source": [
    "## 4. np.log1p(x)"
   ]
  },
  {
   "cell_type": "code",
   "execution_count": 8,
   "id": "44e8843c",
   "metadata": {},
   "outputs": [
    {
     "data": {
      "text/plain": [
       "array([0.69314718, 1.09861229, 1.38629436, 1.60943791, 1.79175947,\n",
       "       1.94591015])"
      ]
     },
     "execution_count": 8,
     "metadata": {},
     "output_type": "execute_result"
    }
   ],
   "source": [
    "np.log1p([1,2,3,4,5,6])"
   ]
  },
  {
   "cell_type": "code",
   "execution_count": null,
   "id": "732ba682",
   "metadata": {},
   "outputs": [],
   "source": []
  },
  {
   "cell_type": "markdown",
   "id": "18a1a9c0",
   "metadata": {},
   "source": [
    "# 2. Linear Algebra"
   ]
  },
  {
   "cell_type": "markdown",
   "id": "412740c8",
   "metadata": {},
   "source": [
    "### 1. np.linalg.solve()\n",
    "- this function will return the values of x and y \n",
    "-The Linear Algebra module of NumPy offers various methods to apply linear algebra on any numpy array.\n",
    "- One can find:\n",
    "\n",
    "    - rank, determinant, trace, etc. of an array.\n",
    "    - eigen values of matrices\n",
    "    - matrix and vector products (dot, inner, outer,etc. product), matrix exponentiation\n",
    "    - solve linear or tensor equations and much more!"
   ]
  },
  {
   "cell_type": "markdown",
   "id": "bdd4322b",
   "metadata": {},
   "source": [
    "### 2. np.linalg.det()\n",
    "- In NumPy, we can compute the determinant of the given square array with the help of numpy.\n",
    "- linalg.det(). It will take the given square array as a parameter and return the determinant of \n",
    "that.\n",
    "- Syntax \n",
    "    - np.linalg.det(array)"
   ]
  },
  {
   "cell_type": "markdown",
   "id": "2360a5b6",
   "metadata": {},
   "source": [
    "#### problem"
   ]
  },
  {
   "cell_type": "markdown",
   "id": "42c8cdeb",
   "metadata": {},
   "source": [
    "- 3x + 5y + 10z = 20\n",
    "- 4x + 7y + 13z = 30\n",
    "- 2x + 17y + 3z = 40"
   ]
  },
  {
   "cell_type": "markdown",
   "id": "e61a82e1",
   "metadata": {},
   "source": [
    "- [3, 5, 10]\n",
    "- [4, 7, 13]\n",
    "- [2, 17, 3]\n",
    "- [20, 30, 40]"
   ]
  },
  {
   "cell_type": "code",
   "execution_count": 11,
   "id": "354200c2",
   "metadata": {},
   "outputs": [
    {
     "name": "stdout",
     "output_type": "stream",
     "text": [
      "[ 45.  -1. -11.]\n"
     ]
    }
   ],
   "source": [
    "eq1 = np.array([[3, 5, 10], [4, 7, 13], [2, 17, 3]])\n",
    "eq2 = np.array([20, 30, 40])\n",
    "\n",
    "linear_equestion = np.linalg.solve(eq1, eq2)\n",
    "\n",
    "print(linear_equestion)"
   ]
  },
  {
   "cell_type": "code",
   "execution_count": 13,
   "id": "a8451913",
   "metadata": {},
   "outputs": [
    {
     "name": "stdout",
     "output_type": "stream",
     "text": [
      "20\n",
      "30\n",
      "40\n"
     ]
    }
   ],
   "source": [
    "x = 45\n",
    "y = -1\n",
    "z = -11\n",
    "\n",
    "print(3*x + 5*y + 10*z) \n",
    "print(4*x + 7*y + 13*z)\n",
    "print(2*x + 17*y + 3*z)"
   ]
  },
  {
   "cell_type": "code",
   "execution_count": null,
   "id": "df670f48",
   "metadata": {},
   "outputs": [],
   "source": []
  },
  {
   "cell_type": "markdown",
   "id": "6e9fe739",
   "metadata": {},
   "source": [
    "### 3. inverse algebra\n",
    "#### np.linalg.inv()\n",
    "- The inverse of a matrix is just a reciprocal of the matrix as we do in normal arithmetic for a single number which is used to solve the equations to find the value of unknown variables. \n",
    "- The inverse of a matrix is that matrix which when multiplied with the original matrix will give as an identity matrix. \n",
    "- The inverse of a matrix exists only if the matrix is non-singular i.e., determinant should not be 0. \n",
    "- Using determinant and adjoint, we can easily find the inverse of a square matrix using below formula,"
   ]
  },
  {
   "cell_type": "raw",
   "id": "2388e07f",
   "metadata": {},
   "source": [
    "if det(A) != 0\n",
    "    A-1 = adj(A)/det(A)\n",
    "else\n",
    "    \"Inverse doesn't exist\"  "
   ]
  },
  {
   "cell_type": "markdown",
   "id": "f31a603b",
   "metadata": {},
   "source": [
    "- The function numpy.linalg.inv() which is available in the python NumPy module is used to compute the inverse of a matrix. \n",
    "- Syntax\n",
    "    - np.linalg.inv(x)"
   ]
  },
  {
   "cell_type": "markdown",
   "id": "1c9376ab",
   "metadata": {},
   "source": [
    "#### problem"
   ]
  },
  {
   "cell_type": "code",
   "execution_count": 15,
   "id": "79eb913b",
   "metadata": {},
   "outputs": [
    {
     "data": {
      "text/plain": [
       "array([[-20. ,  15.5,  -0.5],\n",
       "       [  1.4,  -1.1,   0.1],\n",
       "       [  5.4,  -4.1,   0.1]])"
      ]
     },
     "execution_count": 15,
     "metadata": {},
     "output_type": "execute_result"
    }
   ],
   "source": [
    "inv_eq = np.array([[3, 5, 10], [4, 7, 13], [2, 17, 3]])\n",
    "np.linalg.inv(inv_eq)"
   ]
  },
  {
   "cell_type": "markdown",
   "id": "524b6946",
   "metadata": {},
   "source": [
    "## 3. copy array\n",
    "- np.copy(array) allows us to copy a array.\n",
    "- the change in the copied array will not reflect on original array\n",
    "- Syntax\n",
    "    - np.copy(array)\n",
    "    -\n",
    "    - array.copy()"
   ]
  },
  {
   "cell_type": "code",
   "execution_count": 17,
   "id": "1f702618",
   "metadata": {},
   "outputs": [
    {
     "name": "stdout",
     "output_type": "stream",
     "text": [
      "[[ 3  5 10]\n",
      " [ 4  7 13]\n",
      " [ 2 17  3]]\n"
     ]
    }
   ],
   "source": [
    "eq1 = np.array([[3, 5, 10], [4, 7, 13], [2, 17, 3]])\n",
    "print(eq1)"
   ]
  },
  {
   "cell_type": "code",
   "execution_count": 18,
   "id": "db76464f",
   "metadata": {},
   "outputs": [],
   "source": [
    "copy_eq = eq1.copy()"
   ]
  },
  {
   "cell_type": "code",
   "execution_count": 20,
   "id": "f90a4197",
   "metadata": {},
   "outputs": [],
   "source": [
    "copy_eq[0][-1] = 1000"
   ]
  },
  {
   "cell_type": "code",
   "execution_count": 23,
   "id": "98a65910",
   "metadata": {},
   "outputs": [
    {
     "data": {
      "text/plain": [
       "array([[   3,    5, 1000],\n",
       "       [   4,    7,   13],\n",
       "       [   2,   17,    3]])"
      ]
     },
     "execution_count": 23,
     "metadata": {},
     "output_type": "execute_result"
    }
   ],
   "source": [
    "copy_eq  # change is only in copy_eq"
   ]
  },
  {
   "cell_type": "code",
   "execution_count": 24,
   "id": "ac31ecee",
   "metadata": {},
   "outputs": [
    {
     "data": {
      "text/plain": [
       "array([[ 3,  5, 10],\n",
       "       [ 4,  7, 13],\n",
       "       [ 2, 17,  3]])"
      ]
     },
     "execution_count": 24,
     "metadata": {},
     "output_type": "execute_result"
    }
   ],
   "source": [
    "eq1 # change in original array not reflected"
   ]
  },
  {
   "cell_type": "code",
   "execution_count": null,
   "id": "61ecebcf",
   "metadata": {},
   "outputs": [],
   "source": []
  }
 ],
 "metadata": {
  "kernelspec": {
   "display_name": "Python 3 (ipykernel)",
   "language": "python",
   "name": "python3"
  },
  "language_info": {
   "codemirror_mode": {
    "name": "ipython",
    "version": 3
   },
   "file_extension": ".py",
   "mimetype": "text/x-python",
   "name": "python",
   "nbconvert_exporter": "python",
   "pygments_lexer": "ipython3",
   "version": "3.9.12"
  }
 },
 "nbformat": 4,
 "nbformat_minor": 5
}
