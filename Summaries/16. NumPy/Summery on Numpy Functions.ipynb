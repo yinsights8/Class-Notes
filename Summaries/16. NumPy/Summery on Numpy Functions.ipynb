{
 "cells": [
  {
   "cell_type": "markdown",
   "id": "cb39631f",
   "metadata": {},
   "source": [
    "# 1. NumPy"
   ]
  },
  {
   "cell_type": "code",
   "execution_count": 2,
   "id": "5e29d2c7",
   "metadata": {},
   "outputs": [],
   "source": [
    "import numpy as np"
   ]
  },
  {
   "cell_type": "markdown",
   "id": "b1d553db",
   "metadata": {},
   "source": [
    "- NumPy is a Python library used for working with arrays.\n",
    "\n",
    "- It also has functions for working in domain of linear algebra, fourier transform, and matrices.\n",
    "- Numpy stands for Numerical python"
   ]
  },
  {
   "cell_type": "markdown",
   "id": "a81bd1b0",
   "metadata": {},
   "source": [
    "### Application\n",
    "- Linear Algebra\n",
    "- Statistics\n",
    "- Probability\n",
    "- Trignometric Operations (sin,cos,tan,etc.....)\n",
    "- Matrix\n",
    "- Image Processing\n",
    "- Logarithmic"
   ]
  },
  {
   "cell_type": "markdown",
   "id": "a35d405f",
   "metadata": {},
   "source": [
    "## Array\n",
    "- It is a collection of homogeneous datatypes\n",
    "- ndarray ---> n-dimentional array\n",
    "- Arrays are faster than list\n",
    "- Numpy is written in c/c++ language(Partially in python)\n",
    "- Arrays can be created with the help of tuples and list\n",
    "- Supported Datatypes = int, float, complex, str"
   ]
  },
  {
   "cell_type": "markdown",
   "id": "57052b21",
   "metadata": {},
   "source": [
    "- In Python we have lists that serve the purpose of arrays, but they are slow to process.\n",
    "- NumPy aims to provide an array object that is up to 50x faster than traditional Python lists.\n",
    "\n",
    "- The array object in NumPy is called ndarray, it provides a lot of supporting functions that make working with ndarray very easy.\n",
    "\n",
    "- Arrays are very frequently used in data science, where speed and resources are very important."
   ]
  },
  {
   "cell_type": "markdown",
   "id": "89ba28a1",
   "metadata": {},
   "source": [
    "### Why is NumPy Faster Than Lists?\n",
    "- NumPy arrays are stored at one continuous place in memory unlike lists, so processes can access and manipulate them very efficiently. \n",
    "- This behavior is called locality of reference in computer science. \n",
    "- This is the main reason why NumPy is faster than lists. Also it is optimized to work with latest CPU architectures. \n"
   ]
  },
  {
   "cell_type": "markdown",
   "id": "37a03d46",
   "metadata": {},
   "source": [
    "###### Note:- numpy arrays holds only one type of data type, any single type of another datatype value will change the whole dataset of array into differnent data type"
   ]
  },
  {
   "cell_type": "code",
   "execution_count": null,
   "id": "d36645ae",
   "metadata": {},
   "outputs": [],
   "source": []
  },
  {
   "cell_type": "markdown",
   "id": "62c302ab",
   "metadata": {},
   "source": [
    "### Creatign Dimensions\n",
    "##### 1. 0 - d (Zero - Dimension Arrary)\n",
    "   - collection of single data type \n",
    "\n",
    "\n",
    "##### 2. 1 - d (one - Dimension Arrary)\n",
    "   - collection of zero dimension array\n",
    "\n",
    "\n",
    "##### 3. 2 - d (Two - Dimension Arrary)\n",
    "   - collection of two dimension array\n",
    "\n",
    "\n",
    "##### 4. 3 - d (Three - Dimension Arrary)\n",
    "   - collection of three dimension array"
   ]
  },
  {
   "cell_type": "markdown",
   "id": "b3268600",
   "metadata": {},
   "source": [
    "### 1. 0-D  (Zero - Dimension Arrary)\n",
    "\n",
    "- 0 - dimanesion array is single element "
   ]
  },
  {
   "cell_type": "code",
   "execution_count": 2,
   "id": "81be13a8",
   "metadata": {},
   "outputs": [
    {
     "name": "stdout",
     "output_type": "stream",
     "text": [
      "Array:- 1000\n",
      "dimensions of an array:- 0\n",
      "<><><><><><><><><><><><><><><><><><><><><><><><><><><><><><><><><><><><><><><><><><><><><><><><><><>\n",
      "Array:- yash dhakade\n",
      "dimensions of string array:- 0\n",
      "<><><><><><><><><><><><><><><><><><><><><><><><><><><><><><><><><><><><><><><><><><><><><><><><><><>\n"
     ]
    },
    {
     "ename": "TypeError",
     "evalue": "array() takes from 1 to 2 positional arguments but 3 were given",
     "output_type": "error",
     "traceback": [
      "\u001b[1;31m---------------------------------------------------------------------------\u001b[0m",
      "\u001b[1;31mTypeError\u001b[0m                                 Traceback (most recent call last)",
      "Input \u001b[1;32mIn [2]\u001b[0m, in \u001b[0;36m<cell line: 14>\u001b[1;34m()\u001b[0m\n\u001b[0;32m     10\u001b[0m \u001b[38;5;28mprint\u001b[39m(\u001b[38;5;124mf\u001b[39m\u001b[38;5;124m\"\u001b[39m\u001b[38;5;124mdimensions of string array:- \u001b[39m\u001b[38;5;132;01m{\u001b[39;00marr2\u001b[38;5;241m.\u001b[39mndim\u001b[38;5;132;01m}\u001b[39;00m\u001b[38;5;124m\"\u001b[39m)\n\u001b[0;32m     12\u001b[0m \u001b[38;5;28mprint\u001b[39m(\u001b[38;5;124m\"\u001b[39m\u001b[38;5;124m<>\u001b[39m\u001b[38;5;124m\"\u001b[39m\u001b[38;5;241m*\u001b[39m\u001b[38;5;241m50\u001b[39m)\n\u001b[1;32m---> 14\u001b[0m arr \u001b[38;5;241m=\u001b[39m \u001b[43mnp\u001b[49m\u001b[38;5;241;43m.\u001b[39;49m\u001b[43marray\u001b[49m\u001b[43m(\u001b[49m\u001b[38;5;241;43m1\u001b[39;49m\u001b[43m,\u001b[49m\u001b[38;5;241;43m2\u001b[39;49m\u001b[43m,\u001b[49m\u001b[38;5;241;43m3\u001b[39;49m\u001b[43m)\u001b[49m\n\u001b[0;32m     15\u001b[0m \u001b[38;5;28mprint\u001b[39m(\u001b[38;5;124mf\u001b[39m\u001b[38;5;124m\"\u001b[39m\u001b[38;5;124mArray:- \u001b[39m\u001b[38;5;132;01m{\u001b[39;00marr\u001b[38;5;132;01m}\u001b[39;00m\u001b[38;5;124m\"\u001b[39m)\n\u001b[0;32m     16\u001b[0m \u001b[38;5;28mprint\u001b[39m(\u001b[38;5;124mf\u001b[39m\u001b[38;5;124m\"\u001b[39m\u001b[38;5;124mdimensions of an array:- \u001b[39m\u001b[38;5;132;01m{\u001b[39;00marr\u001b[38;5;241m.\u001b[39mndim\u001b[38;5;132;01m}\u001b[39;00m\u001b[38;5;124m\"\u001b[39m)\n",
      "\u001b[1;31mTypeError\u001b[0m: array() takes from 1 to 2 positional arguments but 3 were given"
     ]
    }
   ],
   "source": [
    "import numpy as np\n",
    "arr1 = np.array(1000)\n",
    "print(f\"Array:- {arr1}\")\n",
    "print(f\"dimensions of an array:- {arr1.ndim}\")\n",
    "\n",
    "print(\"<>\"*50)\n",
    "\n",
    "arr2 = np.array(\"yash dhakade\")\n",
    "print(f\"Array:- {arr2}\")\n",
    "print(f\"dimensions of string array:- {arr2.ndim}\")\n",
    "\n",
    "print(\"<>\"*50)\n",
    "\n",
    "arr = np.array(1,2,3)\n",
    "print(f\"Array:- {arr}\")\n",
    "print(f\"dimensions of an array:- {arr.ndim}\")"
   ]
  },
  {
   "cell_type": "code",
   "execution_count": null,
   "id": "8aea7045",
   "metadata": {},
   "outputs": [],
   "source": []
  },
  {
   "cell_type": "markdown",
   "id": "5910b052",
   "metadata": {},
   "source": [
    "#### 1- d (one - dimension array)\n",
    "- It is a collection of  0 - d array (in a list)"
   ]
  },
  {
   "cell_type": "code",
   "execution_count": 3,
   "id": "eae7dc08",
   "metadata": {},
   "outputs": [
    {
     "name": "stdout",
     "output_type": "stream",
     "text": [
      "Array:- [1 2 3]\n",
      "One Dimension array:- 1\n",
      "Shape of the array:- (3,)\n"
     ]
    }
   ],
   "source": [
    "ar = np.array([1,2,3])\n",
    "print(f\"Array:- {ar}\")\n",
    "print(f\"One Dimension array:- {ar.ndim}\")\n",
    "print(f\"Shape of the array:- {ar.shape}\")"
   ]
  },
  {
   "cell_type": "code",
   "execution_count": null,
   "id": "832c7172",
   "metadata": {},
   "outputs": [],
   "source": []
  },
  {
   "cell_type": "markdown",
   "id": "699d8f00",
   "metadata": {},
   "source": [
    "#### 2 - d Arrary (2-d dimension array) \n",
    "- it is a collection of one dimension array"
   ]
  },
  {
   "cell_type": "code",
   "execution_count": 11,
   "id": "454e49dc",
   "metadata": {},
   "outputs": [
    {
     "name": "stdout",
     "output_type": "stream",
     "text": [
      "Array:- [[  1.   2.   3.]\n",
      " [ 10.  20.  30.]\n",
      " [100. 200. 300.]]\n",
      "length of array:- 3\n",
      "One Dimension array:- 2\n",
      "shape of array:- (3, 3)\n",
      "\n",
      "<><><><><><><><><><><><><><><><><><><><><><><><><><><><><><><><><><><><><><><><><><><><><><><><><><>\n",
      "\n",
      "Array:- [[1 2 3]]\n",
      "Length of an Array:- 1\n",
      "Dimensions of an array are:- :- 2\n",
      "shape of an Array:- (1, 3)\n"
     ]
    }
   ],
   "source": [
    "arr = np.array([[1,2,3], [10,20,30], [100,200,300]],float)\n",
    "\n",
    "print(f\"Array:- {arr}\")\n",
    "print(f\"length of array:- {len(arr)}\")\n",
    "print(f\"One Dimension array:- {arr.ndim}\")\n",
    "print(f\"shape of array:- {arr.shape}\\n\")\n",
    "\n",
    "print(\"<>\"*50)\n",
    "\n",
    "arr = np.array([[1,2,3]])\n",
    "print(f\"\\nArray:- {arr}\")\n",
    "print(f\"Length of an Array:- {len(arr)}\")\n",
    "print(f\"Dimensions of an array are:- :- {arr.ndim}\")\n",
    "print(f\"shape of an Array:- {arr.shape}\")"
   ]
  },
  {
   "cell_type": "markdown",
   "id": "7a645c12",
   "metadata": {},
   "source": [
    "#### 3 - d Array (3 - d dimension array)\n",
    "- it is a collection of two dimension array\n",
    "- shape = (no. dim of array, rows, columns)\n",
    "- OR (length of array, row, column)"
   ]
  },
  {
   "cell_type": "code",
   "execution_count": 14,
   "id": "e194cea9",
   "metadata": {},
   "outputs": [
    {
     "name": "stdout",
     "output_type": "stream",
     "text": [
      "Array: \n",
      "[[[1. 4. 7.]\n",
      "  [2. 5. 8.]]\n",
      "\n",
      " [[3. 6. 9.]\n",
      "  [1. 2. 3.]]\n",
      "\n",
      " [[4. 5. 6.]\n",
      "  [7. 8. 9.]]]\n",
      "length of an array:- 3\n",
      "dimensions of an array: 3\n",
      "shape of an array: (3, 2, 3)\n",
      "size of an array;- 18\n"
     ]
    }
   ],
   "source": [
    "arrr = np.array([[[1,4,7], [2,5,8]], [[3,6,9], [1,2,3]], [[4,5,6], [7,8,9]]],float)\n",
    "\n",
    "print(f\"Array: \\n{arrr}\")\n",
    "print(f\"length of an array:- {len(arrr)}\")\n",
    "print(f\"dimensions of an array: {arrr.ndim}\")\n",
    "print(f\"shape of an array: {arrr.shape}\")\n",
    "print(f\"size of an array;- {arrr.size}\")"
   ]
  },
  {
   "cell_type": "code",
   "execution_count": null,
   "id": "685aa2eb",
   "metadata": {},
   "outputs": [],
   "source": []
  },
  {
   "cell_type": "code",
   "execution_count": null,
   "id": "bea6242f",
   "metadata": {},
   "outputs": [],
   "source": []
  },
  {
   "cell_type": "code",
   "execution_count": null,
   "id": "38c3136a",
   "metadata": {},
   "outputs": [],
   "source": []
  },
  {
   "cell_type": "code",
   "execution_count": null,
   "id": "cd79f3ce",
   "metadata": {},
   "outputs": [],
   "source": []
  },
  {
   "cell_type": "markdown",
   "id": "64afd317",
   "metadata": {},
   "source": [
    "### 1. numpy.arr.ndim :-\n",
    "- [int] Return the number of dimensions in arr."
   ]
  },
  {
   "cell_type": "markdown",
   "id": "c84164f3",
   "metadata": {},
   "source": [
    "### 2. numpy.arr.shape :- \n",
    "- it returns the shape of the array in tuple, \n",
    "- it returns (row, column) or\n",
    "- it returns n-dimensions or Arrays and n-elements in it (n-dim, n-element)\n",
    "- in two- dimension\n",
    "    - shape = (rows, column)\n",
    "- in three dimension\n",
    "    - shape = (length array , rows, columns)\n",
    "\n",
    "\n",
    "######  >>In 3 - dimension array\n",
    "- arr.shape()\n",
    "- it returns number of dimension (length of array, number of row's, number of columns )\n",
    "- [dim, row, coloumn] oR [len(arr), row, column] or [number_of_arrays, row, column]"
   ]
  },
  {
   "cell_type": "markdown",
   "id": "e626cba2",
   "metadata": {},
   "source": [
    "### 3. numpy.arr.size :-\n",
    "- it returns the total number of elements present in each n - dimension array"
   ]
  },
  {
   "cell_type": "code",
   "execution_count": null,
   "id": "8d6b0575",
   "metadata": {},
   "outputs": [],
   "source": []
  },
  {
   "cell_type": "markdown",
   "id": "0cf44399",
   "metadata": {},
   "source": [
    "# 1. Accesing array "
   ]
  },
  {
   "cell_type": "markdown",
   "id": "7cf61dbd",
   "metadata": {},
   "source": [
    "#### 1. Accessing array from 1-Dimention array"
   ]
  },
  {
   "cell_type": "markdown",
   "id": "f68c9baf",
   "metadata": {},
   "source": [
    "- we can access element from 1-D array as similar to python list"
   ]
  },
  {
   "cell_type": "code",
   "execution_count": 4,
   "id": "3148be98",
   "metadata": {},
   "outputs": [
    {
     "name": "stdout",
     "output_type": "stream",
     "text": [
      "2\n"
     ]
    }
   ],
   "source": [
    "import numpy as np\n",
    "arr = np.array([1, 2, 3, 4])\n",
    "\n",
    "print(arr[1])"
   ]
  },
  {
   "cell_type": "markdown",
   "id": "626a7c75",
   "metadata": {},
   "source": [
    "#### 2.Accesing array from 2-Dimentional array\n",
    "- we can access element from 2-D array by [Row, Column]"
   ]
  },
  {
   "cell_type": "code",
   "execution_count": 8,
   "id": "807b92e2",
   "metadata": {},
   "outputs": [
    {
     "name": "stdout",
     "output_type": "stream",
     "text": [
      "2nd element on 1st row:  2\n",
      "2nd element on 2st row:  8\n",
      "\n",
      "2nd element on 1st row:  2\n",
      "2nd element on 2st row:  8\n"
     ]
    }
   ],
   "source": [
    "arr = np.array([[1,2,3,4,5],              ## first row\n",
    "                [6,7,8,9,10]])            ## second row\n",
    "\n",
    "print('2nd element on 1st row: ', arr[0, 1])\n",
    "print('2nd element on 2st row: ', arr[1, 2])\n",
    "print()\n",
    "print('2nd element on 1st row: ', arr[0][1])\n",
    "print('2nd element on 2st row: ', arr[1][2])"
   ]
  },
  {
   "cell_type": "markdown",
   "id": "aa7ea902",
   "metadata": {},
   "source": [
    "#### 3.Accessing elements from 3-Dimentional Array\n",
    "###### arr[len(arry) ,row, Column]"
   ]
  },
  {
   "cell_type": "code",
   "execution_count": 10,
   "id": "b7d7fc95",
   "metadata": {},
   "outputs": [
    {
     "name": "stdout",
     "output_type": "stream",
     "text": [
      "6\n",
      "\n",
      "6\n"
     ]
    }
   ],
   "source": [
    "arr = np.array([[[1, 2, 3], [4, 5, 6]], [[7, 8, 9], [10, 11, 12]]])\n",
    "\n",
    "print(arr[0, 1, 2])\n",
    "print()\n",
    "print(arr[0][1][2])"
   ]
  },
  {
   "cell_type": "code",
   "execution_count": null,
   "id": "02468ddb",
   "metadata": {},
   "outputs": [],
   "source": []
  },
  {
   "cell_type": "markdown",
   "id": "32ed5dcd",
   "metadata": {},
   "source": [
    "#### data type conversion \n",
    "\n",
    "1. int   --> float, str\n",
    "2. float --> int, str\n",
    "3. int, float --> complex\n",
    "4. complex --> float  Not Possible "
   ]
  },
  {
   "cell_type": "code",
   "execution_count": null,
   "id": "1e822b8a",
   "metadata": {},
   "outputs": [],
   "source": []
  },
  {
   "cell_type": "markdown",
   "id": "d26a0191",
   "metadata": {},
   "source": [
    "## 2. Converting n-dimension array"
   ]
  },
  {
   "cell_type": "markdown",
   "id": "d3e2da72",
   "metadata": {},
   "source": [
    "- ndmin = dimensions\n",
    "- we can increase the dimension of the array by passing \"ndmin\" after passing an array\n",
    "\n",
    "\n",
    "- syntax:- \n",
    "    - array = np.array([1,2,3],ndmin = 1/ 2/ 3)"
   ]
  },
  {
   "cell_type": "markdown",
   "id": "5c4aca73",
   "metadata": {},
   "source": [
    " - array = np.array([1,2,3],ndmin = 1 /2 /3)\n",
    "\n",
    "###### Note:- we can only convert our array upto 32-dimensions"
   ]
  },
  {
   "cell_type": "code",
   "execution_count": 14,
   "id": "742882a7",
   "metadata": {},
   "outputs": [
    {
     "name": "stdout",
     "output_type": "stream",
     "text": [
      "3-d array is: [[[1 2 3 4]]]\n"
     ]
    }
   ],
   "source": [
    "arr = np.array([1,2,3,4])\n",
    "\n",
    "dim_3 = np.array(arr,ndmin=3)\n",
    "print(f\"{dim_3.ndim}-d array is: {dim_3}\")"
   ]
  },
  {
   "cell_type": "code",
   "execution_count": null,
   "id": "1ef8dd8c",
   "metadata": {},
   "outputs": [],
   "source": [
    " "
   ]
  },
  {
   "cell_type": "markdown",
   "id": "9988c630",
   "metadata": {},
   "source": [
    "## 3. reshape()\n",
    "- The numpy.reshape() function shapes an array without changing the data of the array.\n",
    "- Array which is reshaped without changing the data.\n",
    "\n",
    "- syntax \n",
    "    - numpy.reshape(array, shape, order = 'C')\n",
    "    \n",
    "- to reshape the array \n",
    "    - 1. find the size of the array \n",
    "    - 2. then factorize the size of the array \n",
    "    - 3. that multiplication of the factors should be equal to size of the array"
   ]
  },
  {
   "cell_type": "code",
   "execution_count": 13,
   "id": "a1df074c",
   "metadata": {
    "scrolled": true
   },
   "outputs": [
    {
     "name": "stdout",
     "output_type": "stream",
     "text": [
      "6\n"
     ]
    }
   ],
   "source": [
    "a = np.array([1,2,3,4,5,6])\n",
    "print(a.size)"
   ]
  },
  {
   "cell_type": "code",
   "execution_count": 14,
   "id": "a4e31289",
   "metadata": {
    "scrolled": true
   },
   "outputs": [
    {
     "data": {
      "text/plain": [
       "array([[1, 2],\n",
       "       [3, 4],\n",
       "       [5, 6]])"
      ]
     },
     "execution_count": 14,
     "metadata": {},
     "output_type": "execute_result"
    }
   ],
   "source": [
    "a.reshape(3,2)"
   ]
  },
  {
   "cell_type": "markdown",
   "id": "1044b7f5",
   "metadata": {},
   "source": [
    "###### Combination of creating an array by its size of the factors\n",
    "- 3,2\n",
    "- 2,3"
   ]
  },
  {
   "cell_type": "code",
   "execution_count": 15,
   "id": "ccbc8cd3",
   "metadata": {
    "scrolled": true
   },
   "outputs": [
    {
     "ename": "ValueError",
     "evalue": "cannot reshape array of size 6 into shape (4,2)",
     "output_type": "error",
     "traceback": [
      "\u001b[1;31m---------------------------------------------------------------------------\u001b[0m",
      "\u001b[1;31mValueError\u001b[0m                                Traceback (most recent call last)",
      "Input \u001b[1;32mIn [15]\u001b[0m, in \u001b[0;36m<cell line: 1>\u001b[1;34m()\u001b[0m\n\u001b[1;32m----> 1\u001b[0m \u001b[43ma\u001b[49m\u001b[38;5;241;43m.\u001b[39;49m\u001b[43mreshape\u001b[49m\u001b[43m(\u001b[49m\u001b[38;5;241;43m4\u001b[39;49m\u001b[43m,\u001b[49m\u001b[38;5;241;43m2\u001b[39;49m\u001b[43m)\u001b[49m\n",
      "\u001b[1;31mValueError\u001b[0m: cannot reshape array of size 6 into shape (4,2)"
     ]
    }
   ],
   "source": [
    "a.reshape(4,2)"
   ]
  },
  {
   "cell_type": "markdown",
   "id": "05e5f197",
   "metadata": {},
   "source": [
    "###### Creating 3 dimensions array"
   ]
  },
  {
   "cell_type": "code",
   "execution_count": 25,
   "id": "39ae66b3",
   "metadata": {},
   "outputs": [
    {
     "data": {
      "text/plain": [
       "array([[[1, 2, 3],\n",
       "        [4, 5, 6]],\n",
       "\n",
       "       [[1, 2, 3],\n",
       "        [4, 5, 6]]])"
      ]
     },
     "execution_count": 25,
     "metadata": {},
     "output_type": "execute_result"
    }
   ],
   "source": [
    "## size = 12 - 6,2  4,3 \n",
    "## combinations:-\n",
    "###for two dimension array\n",
    "# 1. 4,3 or 3,4\n",
    "# 2. 6,2 or 2,6\n",
    "# 3. 12,1 or 1,12\n",
    "\n",
    "### for three dimension array\n",
    "# 1. 2,3,2\n",
    "# 2. 2,2,3\n",
    "\n",
    "a3 = np.array([[1,2,3,4,5,6], [1,2,3,4,5,6]])\n",
    "# a3.reshape(3,4)\n",
    "a3.reshape(2,2,3)"
   ]
  },
  {
   "cell_type": "code",
   "execution_count": null,
   "id": "846d9ec1",
   "metadata": {},
   "outputs": [],
   "source": []
  },
  {
   "cell_type": "code",
   "execution_count": null,
   "id": "72be4d28",
   "metadata": {},
   "outputs": [],
   "source": []
  },
  {
   "cell_type": "code",
   "execution_count": null,
   "id": "2d47b0c7",
   "metadata": {},
   "outputs": [],
   "source": []
  },
  {
   "cell_type": "markdown",
   "id": "5f764452",
   "metadata": {},
   "source": [
    "### 4. np.append()\n",
    "- this funciton will append the values into new array \n",
    "- syntax:- \n",
    "     - lis = np.append(array1,array2)"
   ]
  },
  {
   "cell_type": "markdown",
   "id": "0e9bc067",
   "metadata": {},
   "source": [
    "### 5. np.floor()\n",
    "- this function will return the float array by removing numbers after decimals.\n",
    "- syntax :- \n",
    "    - np.floor([1.2, 2.5, 3.6...etc...])"
   ]
  },
  {
   "cell_type": "code",
   "execution_count": null,
   "id": "54f83980",
   "metadata": {},
   "outputs": [],
   "source": []
  },
  {
   "cell_type": "code",
   "execution_count": null,
   "id": "6835ccba",
   "metadata": {},
   "outputs": [],
   "source": []
  },
  {
   "cell_type": "code",
   "execution_count": 2,
   "id": "1cb9a117",
   "metadata": {},
   "outputs": [
    {
     "data": {
      "text/plain": [
       "array([3., 5., 6., 3., 9., 9.])"
      ]
     },
     "execution_count": 2,
     "metadata": {},
     "output_type": "execute_result"
    }
   ],
   "source": [
    "import numpy as np\n",
    "np.floor([3.7,5.5,6.7,3.2,9.9,9.2])\n"
   ]
  },
  {
   "cell_type": "markdown",
   "id": "d5fb9843",
   "metadata": {},
   "source": [
    "### 6. np.ceil()\n",
    "- The numpy.ceil() is a mathematical function that returns the ceil of the elements of array. The ceil of the scalar x is the smallest integer i, such that i >= x\n",
    "- syntax \n",
    "    - np.ceil([3.7,5.5,6.7,3.2,9.9,9.2])\n",
    "- Ex.\n",
    "    - 3.1 --> 4\n",
    "    - 3.3 --> 4\n",
    "    - 5.9 --> 6\n",
    "    - 9.5 --> 10"
   ]
  },
  {
   "cell_type": "code",
   "execution_count": 4,
   "id": "0ee24859",
   "metadata": {
    "scrolled": true
   },
   "outputs": [
    {
     "data": {
      "text/plain": [
       "array([ 4.,  6.,  7.,  4., 10., 10.])"
      ]
     },
     "execution_count": 4,
     "metadata": {},
     "output_type": "execute_result"
    }
   ],
   "source": [
    "np.ceil([3.7,5.5,6.7,3.2,9.9,9.2])"
   ]
  },
  {
   "cell_type": "markdown",
   "id": "8b1b2565",
   "metadata": {},
   "source": [
    "### 7. np.where()\n",
    "- The numpy.where() function returns the indices of elements in an input array where the given condition is satisfied. \n",
    "- syntax \n",
    "    - np.where(np.array([3.7,5.5,6.7,3.2,9.9,9.2]) condition))"
   ]
  },
  {
   "cell_type": "code",
   "execution_count": 9,
   "id": "097ca5dd",
   "metadata": {},
   "outputs": [
    {
     "data": {
      "text/plain": [
       "(array([1, 2, 4, 5], dtype=int64),)"
      ]
     },
     "execution_count": 9,
     "metadata": {},
     "output_type": "execute_result"
    }
   ],
   "source": [
    "np.where(np.array([3.7,5.5,6.7,3.2,9.9,9.2]) > 4)"
   ]
  },
  {
   "cell_type": "code",
   "execution_count": 10,
   "id": "4e4257fc",
   "metadata": {},
   "outputs": [
    {
     "data": {
      "text/plain": [
       "(array([0, 3], dtype=int64),)"
      ]
     },
     "execution_count": 10,
     "metadata": {},
     "output_type": "execute_result"
    }
   ],
   "source": [
    "np.where(np.array([3.7,5.5,6.7,3.2,9.9,9.2]) < 4)"
   ]
  },
  {
   "cell_type": "markdown",
   "id": "bc4ecac2",
   "metadata": {},
   "source": [
    "### another method for accessing numpy array \n",
    "- we can access numpy by using for loop "
   ]
  },
  {
   "cell_type": "markdown",
   "id": "4b15e228",
   "metadata": {},
   "source": [
    "## 8. numpy.nditer()\n",
    "- It is an efficient multidimensional iterator object using which it is possible to iterate over an array. Each element of an array is visited using Python’s standard Iterator interface.\n",
    "- syntanx \n",
    "    - np.nditer(array)\n",
    "- we can use this inside for loop as well\n",
    "    - for i in np.nditer(array):\n",
    "        - print(i)\n",
    "###### Note:- using np.nditer() function, we don't need to use nested for loop"
   ]
  },
  {
   "cell_type": "markdown",
   "id": "489422bf",
   "metadata": {},
   "source": [
    "- he nditer class constructor has a flags parameter, which can take the following values\n"
   ]
  },
  {
   "cell_type": "raw",
   "id": "ab580c09",
   "metadata": {},
   "source": [
    "PARAMETER\t     DESCRIPTION\n",
    "1. external_loop\tCauses values given to be one-dimensional arrays with multiple values instead of                     zero-dimensional array\n",
    "\n",
    "2. c_index\t        C_order index can be tracked\n",
    "\n",
    "3. f_index\t        Fortran_order index is tracked\n",
    "\n",
    "4. multi-index\t    Type of indexes with one per iteration can be tracked"
   ]
  },
  {
   "cell_type": "code",
   "execution_count": 7,
   "id": "5f847955",
   "metadata": {},
   "outputs": [
    {
     "name": "stdout",
     "output_type": "stream",
     "text": [
      "Size of an array: 24\n",
      "1\n",
      "2\n",
      "3\n",
      "4\n",
      "5\n",
      "6\n",
      "7\n",
      "8\n",
      "9\n",
      "10\n",
      "11\n",
      "12\n",
      "10\n",
      "20\n",
      "30\n",
      "40\n",
      "50\n",
      "60\n",
      "70\n",
      "80\n",
      "90\n",
      "100\n",
      "110\n",
      "120\n"
     ]
    }
   ],
   "source": [
    "import numpy as np\n",
    "arr = np.array([[[1,2,3,4,5,6],[7,8,9,10,11,12]],[[10,20,30,40,50,60],[70,80,90,100,110,120]]])\n",
    "print(f\"Size of an array: {arr.size}\")\n",
    "\n",
    "arr.reshape(2,2,3,2) #(4,6)\n",
    "\n",
    "for i in np.nditer(arr):\n",
    "    print(i)"
   ]
  },
  {
   "cell_type": "markdown",
   "id": "282c9f90",
   "metadata": {},
   "source": [
    "### 9. np.ndenumerate() \n",
    "- Multidimensional index iterator.\n",
    "\n",
    "- Return an iterator yielding pairs of array coordinates and values."
   ]
  },
  {
   "cell_type": "code",
   "execution_count": 12,
   "id": "61e821ef",
   "metadata": {},
   "outputs": [
    {
     "name": "stdout",
     "output_type": "stream",
     "text": [
      "(0, 0, 0) 1\n",
      "(0, 0, 1) 2\n",
      "(0, 0, 2) 3\n",
      "(0, 1, 0) 4\n",
      "(0, 1, 1) 5\n",
      "(0, 1, 2) 6\n",
      "(1, 0, 0) 7\n",
      "(1, 0, 1) 8\n",
      "(1, 0, 2) 9\n",
      "(1, 1, 0) 10\n",
      "(1, 1, 1) 11\n",
      "(1, 1, 2) 12\n"
     ]
    }
   ],
   "source": [
    "arr = np.array([[[1,2,3],[4,5,6]],[[7,8,9], [10,11,12]]])\n",
    "\n",
    "for i,j in np.ndenumerate(arr):\n",
    "    print(i,j)"
   ]
  },
  {
   "cell_type": "markdown",
   "id": "bbdb07eb",
   "metadata": {},
   "source": [
    "### np.zeros()\n",
    "- The numpy.zeros() function returns a new array of given shape and dtype, with zeros. \n",
    "- Syntax:\n",
    "    - numpy.zeros(shape, dtype = float, order = 'C')\n",
    "- we use  numpy.zeros() function for weight initialisation\n",
    "- np.zeros(shape,dtype=float)\n",
    "- Return an array of zeros only\n",
    "- Weight Initialization\n",
    "- Target column creation"
   ]
  },
  {
   "cell_type": "code",
   "execution_count": 13,
   "id": "14a11085",
   "metadata": {},
   "outputs": [
    {
     "data": {
      "text/plain": [
       "array([[0, 0, 0, 0],\n",
       "       [0, 0, 0, 0],\n",
       "       [0, 0, 0, 0],\n",
       "       [0, 0, 0, 0]])"
      ]
     },
     "execution_count": 13,
     "metadata": {},
     "output_type": "execute_result"
    }
   ],
   "source": [
    "np.zeros([4,4],int)"
   ]
  },
  {
   "cell_type": "code",
   "execution_count": 14,
   "id": "69cb0863",
   "metadata": {},
   "outputs": [
    {
     "data": {
      "text/plain": [
       "array([0., 0., 0., 0., 0.])"
      ]
     },
     "execution_count": 14,
     "metadata": {},
     "output_type": "execute_result"
    }
   ],
   "source": [
    "np.zeros(5)"
   ]
  },
  {
   "cell_type": "markdown",
   "id": "531942a4",
   "metadata": {},
   "source": [
    "### np.ones()\n",
    "- The np.ones() function returns a new array of given shape and dtype, with ones.\n",
    "- syntax:\n",
    "    - np.ones(shape, dtype=float, order=\"C\")\n",
    "- return an array of ones only"
   ]
  },
  {
   "cell_type": "code",
   "execution_count": 16,
   "id": "0d58f67d",
   "metadata": {},
   "outputs": [
    {
     "data": {
      "text/plain": [
       "array([[1., 1., 1.],\n",
       "       [1., 1., 1.],\n",
       "       [1., 1., 1.]])"
      ]
     },
     "execution_count": 16,
     "metadata": {},
     "output_type": "execute_result"
    }
   ],
   "source": [
    "arr = np.array([[[1,2,3],[4,5,6]],[[7,8,9], [10,11,12]]])\n",
    "np.ones([3,3])"
   ]
  },
  {
   "cell_type": "code",
   "execution_count": null,
   "id": "f8ee4af9",
   "metadata": {},
   "outputs": [],
   "source": []
  },
  {
   "cell_type": "markdown",
   "id": "8a38b058",
   "metadata": {},
   "source": [
    "### np.arange( (start, stop,  step),dtype= (data type) )\n",
    "- The arange() function is used to get evenly spaced values within a given interval.\n",
    "- Values are generated within the half-open interval [start, stop]. \n",
    "- For integer arguments the function is equivalent to the Python built-in range function, but returns an ndarray rather than a list.\n",
    "\n",
    "- sytax \n",
    "    - np.arange(start, stop, step, dtype)"
   ]
  },
  {
   "cell_type": "code",
   "execution_count": 2,
   "id": "6bda3829",
   "metadata": {},
   "outputs": [
    {
     "data": {
      "text/plain": [
       "array([1, 3, 5, 7, 9])"
      ]
     },
     "execution_count": 2,
     "metadata": {},
     "output_type": "execute_result"
    }
   ],
   "source": [
    "import numpy as np\n",
    "a = np.arange(1,10,2)\n",
    "a"
   ]
  },
  {
   "cell_type": "markdown",
   "id": "2d7433ba",
   "metadata": {},
   "source": [
    "## np.linspace()\n",
    "- The linspace() function returns evenly spaced numbers over a specified interval [start, stop].\n",
    "- The endpoint of the interval can optionally be excluded.\n",
    "\n",
    "\n",
    "- Syntax \n",
    "    - np.linspace(start, stop, num=50, endpoint=True, retstep=False, dtype=None, axis=0)"
   ]
  },
  {
   "cell_type": "code",
   "execution_count": 10,
   "id": "83c24aa3",
   "metadata": {},
   "outputs": [
    {
     "name": "stdout",
     "output_type": "stream",
     "text": [
      "(array([ 1. ,  2.9,  4.8,  6.7,  8.6, 10.5, 12.4, 14.3, 16.2, 18.1]), 1.9) \n",
      "\n",
      "total numbers of equally spaced numbers are:  2\n"
     ]
    }
   ],
   "source": [
    "lin1 = np.linspace(1,20,num=10,endpoint=False, retstep=True)\n",
    "print(lin1,\"\\n\")\n",
    "print(\"total numbers of equally spaced numbers are: \",len(lin1))"
   ]
  },
  {
   "cell_type": "markdown",
   "id": "a180b8db",
   "metadata": {},
   "source": [
    "#### difference between np.linspace() and np.arange()\n",
    "- in linspace() - we can spacify weather the endpoint should be include or exclude\n",
    "\n",
    "-\n",
    "\n",
    "- it np.arange() - it is use to get evenly spaced values within a given intervel"
   ]
  },
  {
   "cell_type": "code",
   "execution_count": null,
   "id": "c5e98229",
   "metadata": {},
   "outputs": [],
   "source": []
  },
  {
   "cell_type": "markdown",
   "id": "190f452c",
   "metadata": {},
   "source": [
    "### np.eye()\n",
    "- The eye() function is used to create a 2-D array with ones on the diagonal and zeros elsewhere. \n",
    "-\n",
    "- syntax \n",
    "    - np.eye(shape, dtype)\n",
    "    -\n",
    "    - np.eye(N, M=None, k=0, dtype=<class 'float'>, order='C')\n",
    "    -\n",
    "    - n = number of rows in output\n",
    "    - m = Number of columns in the output. If None, defaults to N.\n",
    "    - k = Index of the diagonal: 0 (the default) refers to the main diagonal, a positive value refers to an upper diagonal, and a negative value to a lower diagonal.\n",
    "    \n",
    "###### Note: This will not return an identity matrix because the rows and columns can not be same all the time "
   ]
  },
  {
   "cell_type": "code",
   "execution_count": 8,
   "id": "a0424115",
   "metadata": {},
   "outputs": [
    {
     "name": "stdout",
     "output_type": "stream",
     "text": [
      "[[1. 0. 0. 0. 0. 0.]\n",
      " [0. 1. 0. 0. 0. 0.]\n",
      " [0. 0. 1. 0. 0. 0.]\n",
      " [0. 0. 0. 1. 0. 0.]]\n"
     ]
    }
   ],
   "source": [
    "eye = np.eye(4,6,k=0)\n",
    "print(eye)"
   ]
  },
  {
   "cell_type": "markdown",
   "id": "eb2ac8cb",
   "metadata": {},
   "source": [
    "### identity() \n",
    "- The identity array is a square array with ones on the main diagonal. The identity() function return the identity array.\n",
    "\n",
    "- Syntax \n",
    "    - np.identity(n,dtype=None)\n",
    "    - n = single value\n",
    "###### Note:- need to specify only one number otherwise it will through an error"
   ]
  },
  {
   "cell_type": "code",
   "execution_count": 10,
   "id": "a20d9b97",
   "metadata": {},
   "outputs": [
    {
     "data": {
      "text/plain": [
       "array([[1, 0, 0, 0],\n",
       "       [0, 1, 0, 0],\n",
       "       [0, 0, 1, 0],\n",
       "       [0, 0, 0, 1]])"
      ]
     },
     "execution_count": 10,
     "metadata": {},
     "output_type": "execute_result"
    }
   ],
   "source": [
    "ar = np.identity(4,dtype=int)\n",
    "ar"
   ]
  },
  {
   "cell_type": "code",
   "execution_count": null,
   "id": "5239f5ae",
   "metadata": {},
   "outputs": [],
   "source": []
  },
  {
   "cell_type": "markdown",
   "id": "b84c67c4",
   "metadata": {},
   "source": [
    "# random()\n",
    "- This is use to generate random valued array\n",
    "    - rand()\n",
    "        - The random module's rand() method returns a random float between 0 and 1 .\n",
    "        - 0 >= value < 1 (will be greater than equall to 0 but less than 1)\n",
    "     \n",
    "    - randint()\n",
    "        - The randint() method takes a size parameter where you can specify the shape of an array.\n",
    "        - and it returns the random value between specified range.\n",
    "        - size parameter will return the random values from the specified range in specified shape\n",
    "    -\n",
    "    - randn()\n",
    "    - ranf()"
   ]
  },
  {
   "cell_type": "markdown",
   "id": "e0f9eb77",
   "metadata": {},
   "source": [
    "### 1. rand()\n",
    "- this will generate a number between 0 and 1 upto total specifind number\n",
    "- syntax\n",
    "    - np.random.rand(d0, d1, ..., dn)"
   ]
  },
  {
   "cell_type": "code",
   "execution_count": 14,
   "id": "271e8f41",
   "metadata": {},
   "outputs": [
    {
     "name": "stdout",
     "output_type": "stream",
     "text": [
      "[0.9946175  0.39777197 0.34443281 0.26372681 0.14368274]\n"
     ]
    }
   ],
   "source": [
    "a = np.random.rand(5)\n",
    "print(a)"
   ]
  },
  {
   "cell_type": "code",
   "execution_count": 15,
   "id": "00b16865",
   "metadata": {},
   "outputs": [
    {
     "name": "stdout",
     "output_type": "stream",
     "text": [
      "[[0.9146042  0.48819794 0.86632608]\n",
      " [0.03568089 0.00323734 0.45487999]\n",
      " [0.03772878 0.86196126 0.33611666]]\n"
     ]
    }
   ],
   "source": [
    "a = np.random.rand(3,3)\n",
    "print(a)"
   ]
  },
  {
   "cell_type": "markdown",
   "id": "ac81f241",
   "metadata": {},
   "source": [
    "### 2. randint()\n",
    "- this will return the random value from the specified range \n",
    "- size parameter will return the random values between specied range\n",
    "- syntax \n",
    "    - np.random.randint(low, high, size=None)\n",
    "        - size = shape of the array\n",
    "        - low = start number\n",
    "        - high = last number"
   ]
  },
  {
   "cell_type": "code",
   "execution_count": 21,
   "id": "64734734",
   "metadata": {},
   "outputs": [
    {
     "name": "stdout",
     "output_type": "stream",
     "text": [
      "7\n"
     ]
    }
   ],
   "source": [
    "rn1 = np.random.randint(15)\n",
    "print(rn1)"
   ]
  },
  {
   "cell_type": "code",
   "execution_count": 22,
   "id": "c428c36a",
   "metadata": {},
   "outputs": [
    {
     "name": "stdout",
     "output_type": "stream",
     "text": [
      "2\n"
     ]
    }
   ],
   "source": [
    "rn2 = np.random.randint(1,5)\n",
    "print(rn2)"
   ]
  },
  {
   "cell_type": "code",
   "execution_count": 23,
   "id": "0bcdff41",
   "metadata": {},
   "outputs": [
    {
     "name": "stdout",
     "output_type": "stream",
     "text": [
      "[[[10 11  3]\n",
      "  [ 3 10 18]\n",
      "  [ 3  2  9]]\n",
      "\n",
      " [[ 4 18  2]\n",
      "  [14 13 16]\n",
      "  [ 5  2 12]]\n",
      "\n",
      " [[ 4  2 18]\n",
      "  [18 18 14]\n",
      "  [19  2 16]]]\n"
     ]
    }
   ],
   "source": [
    "rn3 = np.random.randint(1,20,size=(3,3,3))\n",
    "print(rn3)"
   ]
  },
  {
   "cell_type": "code",
   "execution_count": 24,
   "id": "956bc0d8",
   "metadata": {},
   "outputs": [
    {
     "name": "stdout",
     "output_type": "stream",
     "text": [
      "[[ 9  9 13]\n",
      " [ 6  5  3]\n",
      " [ 9 19  6]]\n"
     ]
    }
   ],
   "source": [
    "rn4 = np.random.randint(1,20,size=(3,3))\n",
    "print(rn4)"
   ]
  },
  {
   "cell_type": "code",
   "execution_count": null,
   "id": "341ae4cc",
   "metadata": {},
   "outputs": [],
   "source": []
  },
  {
   "cell_type": "markdown",
   "id": "d780d378",
   "metadata": {},
   "source": [
    "### 3. randn()\n",
    "- The numpy.random.randn() function creates an array of specified shape and fills it with random values as per standard normal distribution. \n",
    "If positive arguments are provided, randn generates an array of shape (d0, d1, …, dn), filled with random floats sampled from a univariate “normal” (Gaussian) distribution of mean 0 and variance 1 (if any of the d_i are floats, they are first converted to integers by truncation). A single float randomly sampled from the distribution is returned if no argument is provided.\n",
    "-\n",
    "- it return the values which are normally distributed \n",
    "- mean 0 and variance 1\n",
    "- Syntax\n",
    "    - numpy.random.randn(d0, d1, ..., dn)"
   ]
  },
  {
   "cell_type": "code",
   "execution_count": 26,
   "id": "d82c5fca",
   "metadata": {},
   "outputs": [
    {
     "name": "stdout",
     "output_type": "stream",
     "text": [
      "[ 1.19843662 -0.19008343 -1.01557191 -0.94253109 -0.57696019 -0.03586292\n",
      " -0.32405147  0.63786337 -1.24980594  0.52520271 -2.33753121  1.25312656\n",
      " -0.13573347 -1.94929077  0.18161267]\n"
     ]
    }
   ],
   "source": [
    "r = np.random.randn(15)\n",
    "print(r)"
   ]
  },
  {
   "cell_type": "markdown",
   "id": "b5e27b45",
   "metadata": {},
   "source": [
    "### np.ranf()\n",
    "- numpy.random.ranf() is one of the function for doing random sampling in numpy. It returns an array of specified shape and fills it with random floats in the half-open interval [0.0, 1.0).\n",
    "- (0,1] --> 1 >= value > 0\n",
    "- [0,1) --> 1 > value >= 0"
   ]
  },
  {
   "cell_type": "code",
   "execution_count": 27,
   "id": "ad0390b1",
   "metadata": {},
   "outputs": [
    {
     "name": "stdout",
     "output_type": "stream",
     "text": [
      "[[0.73882758 0.86798782]\n",
      " [0.3706973  0.34547639]\n",
      " [0.77708596 0.87923207]\n",
      " [0.38685004 0.376577  ]\n",
      " [0.2096433  0.62088076]]\n"
     ]
    }
   ],
   "source": [
    "r2 = np.random.ranf([5,2])\n",
    "print(r2)"
   ]
  },
  {
   "cell_type": "markdown",
   "id": "5a3356d0",
   "metadata": {},
   "source": [
    "### np.append()\n",
    "- The append() function is used to append values to the end of an given array.\n",
    "-syntax \n",
    "    - numpy.append(arr1, arr2, axis=None)\n",
    "\n",
    "- axis = 0 --> Rows\n",
    "- axis = 1 --> Col\n",
    "\n",
    "###### Note:- If the dimensions of both the arrays are different then it will through an error if the axis is 1 or 0\n",
    "###### Note:- Dimensions of an array should be same if axis is 1 or 0 \n",
    "###### Note:- If the axis = None, then it will not through an error"
   ]
  },
  {
   "cell_type": "code",
   "execution_count": 28,
   "id": "7e8a515d",
   "metadata": {},
   "outputs": [
    {
     "name": "stdout",
     "output_type": "stream",
     "text": [
      "[ 1  2  3  4  5 11 22 33 44 55]\n"
     ]
    }
   ],
   "source": [
    "arr1 = np.array([1,2,3,4,5])\n",
    "arr2 = np.array([[[11,22,33,44,55]]])\n",
    "\n",
    "arr3 = np.append(arr1, arr2,axis=None)\n",
    "\n",
    "print(arr3)"
   ]
  },
  {
   "cell_type": "code",
   "execution_count": 29,
   "id": "79b62ad9",
   "metadata": {},
   "outputs": [
    {
     "ename": "AxisError",
     "evalue": "axis 1 is out of bounds for array of dimension 1",
     "output_type": "error",
     "traceback": [
      "\u001b[1;31m---------------------------------------------------------------------------\u001b[0m",
      "\u001b[1;31mAxisError\u001b[0m                                 Traceback (most recent call last)",
      "Input \u001b[1;32mIn [29]\u001b[0m, in \u001b[0;36m<cell line: 4>\u001b[1;34m()\u001b[0m\n\u001b[0;32m      1\u001b[0m arr1 \u001b[38;5;241m=\u001b[39m np\u001b[38;5;241m.\u001b[39marray([\u001b[38;5;241m1\u001b[39m,\u001b[38;5;241m2\u001b[39m,\u001b[38;5;241m3\u001b[39m,\u001b[38;5;241m4\u001b[39m,\u001b[38;5;241m5\u001b[39m])\n\u001b[0;32m      2\u001b[0m arr2 \u001b[38;5;241m=\u001b[39m np\u001b[38;5;241m.\u001b[39marray([[[\u001b[38;5;241m11\u001b[39m,\u001b[38;5;241m22\u001b[39m,\u001b[38;5;241m33\u001b[39m,\u001b[38;5;241m44\u001b[39m,\u001b[38;5;241m55\u001b[39m]]])\n\u001b[1;32m----> 4\u001b[0m arr3 \u001b[38;5;241m=\u001b[39m \u001b[43mnp\u001b[49m\u001b[38;5;241;43m.\u001b[39;49m\u001b[43mappend\u001b[49m\u001b[43m(\u001b[49m\u001b[43marr1\u001b[49m\u001b[43m,\u001b[49m\u001b[43m \u001b[49m\u001b[43marr2\u001b[49m\u001b[43m,\u001b[49m\u001b[43maxis\u001b[49m\u001b[38;5;241;43m=\u001b[39;49m\u001b[38;5;241;43m1\u001b[39;49m\u001b[43m)\u001b[49m\n\u001b[0;32m      6\u001b[0m \u001b[38;5;28mprint\u001b[39m(arr3)\n",
      "File \u001b[1;32m<__array_function__ internals>:5\u001b[0m, in \u001b[0;36mappend\u001b[1;34m(*args, **kwargs)\u001b[0m\n",
      "File \u001b[1;32m~\\anaconda3\\lib\\site-packages\\numpy\\lib\\function_base.py:4817\u001b[0m, in \u001b[0;36mappend\u001b[1;34m(arr, values, axis)\u001b[0m\n\u001b[0;32m   4815\u001b[0m     values \u001b[38;5;241m=\u001b[39m ravel(values)\n\u001b[0;32m   4816\u001b[0m     axis \u001b[38;5;241m=\u001b[39m arr\u001b[38;5;241m.\u001b[39mndim\u001b[38;5;241m-\u001b[39m\u001b[38;5;241m1\u001b[39m\n\u001b[1;32m-> 4817\u001b[0m \u001b[38;5;28;01mreturn\u001b[39;00m \u001b[43mconcatenate\u001b[49m\u001b[43m(\u001b[49m\u001b[43m(\u001b[49m\u001b[43marr\u001b[49m\u001b[43m,\u001b[49m\u001b[43m \u001b[49m\u001b[43mvalues\u001b[49m\u001b[43m)\u001b[49m\u001b[43m,\u001b[49m\u001b[43m \u001b[49m\u001b[43maxis\u001b[49m\u001b[38;5;241;43m=\u001b[39;49m\u001b[43maxis\u001b[49m\u001b[43m)\u001b[49m\n",
      "File \u001b[1;32m<__array_function__ internals>:5\u001b[0m, in \u001b[0;36mconcatenate\u001b[1;34m(*args, **kwargs)\u001b[0m\n",
      "\u001b[1;31mAxisError\u001b[0m: axis 1 is out of bounds for array of dimension 1"
     ]
    }
   ],
   "source": [
    "arr1 = np.array([1,2,3,4,5])\n",
    "arr2 = np.array([[[11,22,33,44,55]]])\n",
    "\n",
    "arr3 = np.append(arr1, arr2,axis=1)\n",
    "\n",
    "print(arr3)"
   ]
  },
  {
   "cell_type": "markdown",
   "id": "77bd0b5c",
   "metadata": {},
   "source": [
    "## np.sort()\n",
    "- it will sort an array \n",
    "\n",
    "    - if axis = 0, it will sort the array by its column\n",
    "    - if axis = 1, it will sort athe array by its row\n",
    "\n",
    "- axis = 0 --> column \n",
    "- axis = 1 --> row"
   ]
  },
  {
   "cell_type": "markdown",
   "id": "fc523fda",
   "metadata": {},
   "source": [
    "###### 1. sroting an array by axis = 1 (row)"
   ]
  },
  {
   "cell_type": "code",
   "execution_count": 19,
   "id": "d38afaae",
   "metadata": {},
   "outputs": [
    {
     "data": {
      "text/plain": [
       "array([[2, 4, 5],\n",
       "       [7, 8, 9],\n",
       "       [1, 2, 3]])"
      ]
     },
     "execution_count": 19,
     "metadata": {},
     "output_type": "execute_result"
    }
   ],
   "source": [
    "arr = np.sort(np.array([[4, 2 ,5],[7, 9, 8],[3, 2, 1]]),axis=1)\n",
    "arr"
   ]
  },
  {
   "cell_type": "markdown",
   "id": "04684c46",
   "metadata": {},
   "source": [
    "###### 2. sroting an array by axis = 0 (column)"
   ]
  },
  {
   "cell_type": "code",
   "execution_count": 18,
   "id": "871638f8",
   "metadata": {},
   "outputs": [
    {
     "data": {
      "text/plain": [
       "array([[2, 2, 1],\n",
       "       [3, 4, 5],\n",
       "       [7, 9, 8]])"
      ]
     },
     "execution_count": 18,
     "metadata": {},
     "output_type": "execute_result"
    }
   ],
   "source": [
    "arr = np.sort(np.array([[2,4,5],[7,9,8],[3,2,1]]),axis=0)\n",
    "arr"
   ]
  },
  {
   "cell_type": "code",
   "execution_count": null,
   "id": "be0bacfd",
   "metadata": {},
   "outputs": [],
   "source": []
  },
  {
   "cell_type": "markdown",
   "id": "ad725404",
   "metadata": {},
   "source": [
    "## np.around()\n",
    "- numpy.around(arr, decimals = 0, out = None) : This mathematical function helps user to evenly round array elements to the given number of decimals.\n",
    "    - arr     - array\n",
    "    - decimal -  [int, optional] Decimal places we want to round off.\n",
    "- if don't give decimal number if after decimal the number is less than 5, it will return min. round vaule. if >5 it will return nearest max value"
   ]
  },
  {
   "cell_type": "code",
   "execution_count": 23,
   "id": "8cbca35a",
   "metadata": {},
   "outputs": [
    {
     "data": {
      "text/plain": [
       "array([1.77, 6.79, 2.46, 5.67])"
      ]
     },
     "execution_count": 23,
     "metadata": {},
     "output_type": "execute_result"
    }
   ],
   "source": [
    "ar1 = np.around([1.7654321,6.7888978,2.4554332,5.667786],2)\n",
    "ar1"
   ]
  },
  {
   "cell_type": "code",
   "execution_count": 24,
   "id": "7c0e3ab7",
   "metadata": {},
   "outputs": [
    {
     "data": {
      "text/plain": [
       "array([2., 7., 2., 6.])"
      ]
     },
     "execution_count": 24,
     "metadata": {},
     "output_type": "execute_result"
    }
   ],
   "source": [
    "ar2 = np.around([1.7654321,6.7888978,2.4554332,5.667786])\n",
    "ar2"
   ]
  },
  {
   "cell_type": "code",
   "execution_count": 25,
   "id": "52267d4c",
   "metadata": {},
   "outputs": [
    {
     "data": {
      "text/plain": [
       "2.0"
      ]
     },
     "execution_count": 25,
     "metadata": {},
     "output_type": "execute_result"
    }
   ],
   "source": [
    "np.around(2.43698)"
   ]
  },
  {
   "cell_type": "code",
   "execution_count": 26,
   "id": "d1e52bdb",
   "metadata": {},
   "outputs": [
    {
     "data": {
      "text/plain": [
       "3.0"
      ]
     },
     "execution_count": 26,
     "metadata": {},
     "output_type": "execute_result"
    }
   ],
   "source": [
    "np.around(2.53698)"
   ]
  },
  {
   "cell_type": "markdown",
   "id": "0cfc3b49",
   "metadata": {},
   "source": [
    "# converting array to list\n",
    "- first, find the array index\n",
    "- then apply tolist()function\n",
    "    - it is use to convert an array to a list\n",
    "- arr[index].tolist()\n",
    "\n",
    "- OR use list contructor to numpy.ndarray\n",
    "    - list(numpy.ndarray)"
   ]
  },
  {
   "cell_type": "code",
   "execution_count": 34,
   "id": "404da493",
   "metadata": {},
   "outputs": [
    {
     "name": "stdout",
     "output_type": "stream",
     "text": [
      "(array([ 1, 10, 20, 22], dtype=int64),)\n",
      "<class 'tuple'>\n"
     ]
    }
   ],
   "source": [
    "strn  = \"Machine Learning Is Amazing\"\n",
    "\n",
    "stn_array = np.array(list(strn.lower()))\n",
    "arr_indices = np.where(stn_array == \"a\")\n",
    "print(arr_indices)\n",
    "print(type(arr_indices))"
   ]
  },
  {
   "cell_type": "code",
   "execution_count": 33,
   "id": "59186a51",
   "metadata": {},
   "outputs": [
    {
     "data": {
      "text/plain": [
       "[1, 10, 20, 22]"
      ]
     },
     "execution_count": 33,
     "metadata": {},
     "output_type": "execute_result"
    }
   ],
   "source": [
    "arr_indices[0].tolist()"
   ]
  },
  {
   "cell_type": "code",
   "execution_count": null,
   "id": "c28ad636",
   "metadata": {},
   "outputs": [],
   "source": []
  }
 ],
 "metadata": {
  "kernelspec": {
   "display_name": "Python 3 (ipykernel)",
   "language": "python",
   "name": "python3"
  },
  "language_info": {
   "codemirror_mode": {
    "name": "ipython",
    "version": 3
   },
   "file_extension": ".py",
   "mimetype": "text/x-python",
   "name": "python",
   "nbconvert_exporter": "python",
   "pygments_lexer": "ipython3",
   "version": "3.9.12"
  }
 },
 "nbformat": 4,
 "nbformat_minor": 5
}
