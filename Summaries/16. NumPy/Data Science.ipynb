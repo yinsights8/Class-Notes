{
 "cells": [
  {
   "cell_type": "markdown",
   "id": "66537b5a",
   "metadata": {},
   "source": [
    "## Data Science"
   ]
  },
  {
   "cell_type": "markdown",
   "id": "cd048549",
   "metadata": {},
   "source": [
    "- 1. Pandas :- used for EDA (Exporatory Data Analysis), Data processing \n",
    "- 2. NumPy :- used for numerical Computing\n",
    "- 3. scikit-learn :- (Machine Learning Algorithms) = (sklearn)\n",
    "- 4. seaborn :- For Data visualization\n",
    "- 5. matplotlib :- For Data Visualization\n",
    "- 6. tensorflow :- Used for Deep Learning\n",
    "- 7. nltk :- NLP\n",
    "- 8. statsmodel\n",
    "- 9. scipy"
   ]
  },
  {
   "cell_type": "code",
   "execution_count": null,
   "id": "5ee1219f",
   "metadata": {},
   "outputs": [],
   "source": []
  }
 ],
 "metadata": {
  "kernelspec": {
   "display_name": "Python 3 (ipykernel)",
   "language": "python",
   "name": "python3"
  },
  "language_info": {
   "codemirror_mode": {
    "name": "ipython",
    "version": 3
   },
   "file_extension": ".py",
   "mimetype": "text/x-python",
   "name": "python",
   "nbconvert_exporter": "python",
   "pygments_lexer": "ipython3",
   "version": "3.9.12"
  }
 },
 "nbformat": 4,
 "nbformat_minor": 5
}
