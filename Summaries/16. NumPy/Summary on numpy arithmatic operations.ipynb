{
 "cells": [
  {
   "cell_type": "code",
   "execution_count": 1,
   "id": "2d2f5c13",
   "metadata": {},
   "outputs": [],
   "source": [
    "import numpy as np"
   ]
  },
  {
   "cell_type": "markdown",
   "id": "c120bd9b",
   "metadata": {},
   "source": [
    "## 1. Matrix Additon\n",
    "- numpy.add() function is used when we want to compute the addition of two array. It add arguments element-wise. \n",
    "- If shape of two arrays are not same, that is arr1.shape != arr2.shape, they must be broadcastable to a common shape (which may be the shape of one or the other).\n",
    "\n",
    "- syntax\n",
    "    - np.add(arr1, arr2)"
   ]
  },
  {
   "cell_type": "code",
   "execution_count": null,
   "id": "654e1d52",
   "metadata": {},
   "outputs": [],
   "source": []
  },
  {
   "cell_type": "markdown",
   "id": "053f781d",
   "metadata": {},
   "source": [
    "## 2. Matrix subtraction\n",
    "- numpy.subtract() function is used when we want to compute the difference of two array.It returns the difference of arr1 and arr2, element-wise.\n",
    "\n",
    "- syntax\n",
    "    - np.subtract(arr1, arr2)"
   ]
  },
  {
   "cell_type": "code",
   "execution_count": null,
   "id": "049fefed",
   "metadata": {},
   "outputs": [],
   "source": []
  },
  {
   "cell_type": "markdown",
   "id": "e7f5905a",
   "metadata": {},
   "source": [
    "## 3. Matrix Multiplication\n",
    "- numpy.multiply() function is used when we want to compute the multiplication of two array. It returns the product of arr1 and arr2, element-wise.\n",
    "- syntax\n",
    "    - np.multiply(arr1, arr2)"
   ]
  },
  {
   "cell_type": "code",
   "execution_count": null,
   "id": "2fb0aa08",
   "metadata": {},
   "outputs": [],
   "source": []
  },
  {
   "cell_type": "markdown",
   "id": "6ccdf7aa",
   "metadata": {},
   "source": [
    "## 4. Matrix division\n",
    "- Array element from first array is divided by elements from second element (all happens element-wise). Both arr1 and arr2 must have same shape and element in arr2 must not be zero; otherwise it will raise an error.\n",
    "\n",
    "- syntax\n",
    "    - np.divide(arr1, arr2)"
   ]
  },
  {
   "cell_type": "code",
   "execution_count": null,
   "id": "cb789ed7",
   "metadata": {},
   "outputs": [],
   "source": []
  },
  {
   "cell_type": "markdown",
   "id": "c75b86b7",
   "metadata": {},
   "source": [
    "## 5. Matrix dot product\n",
    "- numpy.dot(vector_a, vector_b, out = None) returns the dot product of vectors a and b. \n",
    "- It can handle 2D arrays but considers them as matrix and will perform matrix multiplication. \n",
    "- For N dimensions it is a sum-product over the last axis of a and the second-to-last of b \n",
    "- Syntax\n",
    "    - np.dot(arr1, arr2)"
   ]
  },
  {
   "cell_type": "code",
   "execution_count": null,
   "id": "da2b4f4e",
   "metadata": {},
   "outputs": [],
   "source": []
  }
 ],
 "metadata": {
  "kernelspec": {
   "display_name": "Python 3 (ipykernel)",
   "language": "python",
   "name": "python3"
  },
  "language_info": {
   "codemirror_mode": {
    "name": "ipython",
    "version": 3
   },
   "file_extension": ".py",
   "mimetype": "text/x-python",
   "name": "python",
   "nbconvert_exporter": "python",
   "pygments_lexer": "ipython3",
   "version": "3.9.12"
  }
 },
 "nbformat": 4,
 "nbformat_minor": 5
}
