{
 "cells": [
  {
   "cell_type": "markdown",
   "id": "a55a3d67",
   "metadata": {},
   "source": [
    "# Numpy-Revision\n",
    "- 1. np.array()\n",
    "- 2. array.ndim\n",
    "- 2.5 array.size\n",
    "- 3. array.shape\n",
    "- 4. array.reshape()\n",
    "- 5. array.copy()\n",
    "- 6. np.nditer()\n",
    "- 7. np.ndenumerate()\n",
    "- 8. np.zeros()\n",
    "- 9. np.ones()\n",
    "- 10. np.arange()\n",
    "- 11. np.linspace()    ## default num = 50 - it return's equally spaced values\n",
    "- 12. np.eye()\n",
    "- 13. np.identity()\n",
    "- 13.1 np.diag()\n",
    "- 14. np.random\n",
    "    - 1. np.random.rand()\n",
    "    - 2. np.random.randint()\n",
    "    - 3. np.random.randn()\n",
    "    - 4. np.random.ranf()\n",
    "- 15. np.sort()\n",
    "- 16. np.where()\n",
    "- 17. np.full()\n",
    "- 18. np.flip() --> reverse the vector"
   ]
  },
  {
   "cell_type": "markdown",
   "id": "73a7735a",
   "metadata": {},
   "source": [
    "# Join Arrays\n",
    "- 1. np.append() \n",
    "    - This function appends 0 or more dimensions of array. this function works like exetend and append functions from list.\n",
    "\n",
    "- 2. np.concatenate([arr1,arr2...arrn],axis=0)\n",
    "    - it concatenates the ndarray by axis 0 or 1\n",
    "    - both the array shoude be pass in a one dimension ([arr1,arr2...arrn])"
   ]
  },
  {
   "cell_type": "markdown",
   "id": "fc266662",
   "metadata": {},
   "source": [
    "# Numerical Operations\n",
    "- 1. np.ceil()\n",
    "- 2. np.floor()\n",
    "- 3. np.around()\n",
    "- 4. np.add()\n",
    "- 5. np.multiply()\n",
    "- 6. np.dot()\n",
    "- 7. np.sqrt()\n",
    "- 8. np.cbrt()\n",
    "- 9. np.sum()"
   ]
  },
  {
   "cell_type": "markdown",
   "id": "ce9f59bd",
   "metadata": {},
   "source": [
    "# Statistics\n",
    "- 1. np.mean()\n",
    "- 2. np.median()\n",
    "- 3. from scipy import stats\n",
    "    - stats.mode(array)\n",
    "- 4. np.std()\n",
    "- 5. np.min()\n",
    "- 6. np.max()\n",
    "- 7. np.argmax() \n",
    "    - The numpy. argmax() function returns indices of the max element of the array in a particular axis.\n",
    "    \n",
    "- 8. np.argmin()\n",
    "    - The numpy. argmin() function returns indices of the min element of the array in a particular axis."
   ]
  },
  {
   "cell_type": "markdown",
   "id": "35db8bf9",
   "metadata": {},
   "source": [
    "# Trigonometry\n",
    "- 1. np.sin()\n",
    "- 2. np.cos()\n",
    "- 3. np.tan()\n",
    "- 4. np.deg2rad()\n",
    "- 5. np.rad2deg()\n",
    "- 6. np.pi"
   ]
  },
  {
   "cell_type": "markdown",
   "id": "17ae4bd4",
   "metadata": {},
   "source": [
    "# Log\n",
    "- 1. np.log()\n",
    "- 2. np.log2()\n",
    "- 3. np.log10()"
   ]
  },
  {
   "cell_type": "markdown",
   "id": "de7a24d7",
   "metadata": {},
   "source": [
    "# Linear Algebra\n",
    "- 1. np.linalg.solve()\n",
    "- 2. np.linalg.inv()\n",
    "- 2. np.linalg.det()"
   ]
  },
  {
   "cell_type": "code",
   "execution_count": null,
   "id": "219c864f",
   "metadata": {},
   "outputs": [],
   "source": []
  },
  {
   "cell_type": "code",
   "execution_count": 1,
   "id": "189767b8",
   "metadata": {},
   "outputs": [],
   "source": [
    "import numpy as np"
   ]
  },
  {
   "cell_type": "code",
   "execution_count": 2,
   "id": "2b25dad8",
   "metadata": {},
   "outputs": [
    {
     "data": {
      "text/plain": [
       "2.0"
      ]
     },
     "execution_count": 2,
     "metadata": {},
     "output_type": "execute_result"
    }
   ],
   "source": [
    "np.around(2.5)"
   ]
  },
  {
   "cell_type": "code",
   "execution_count": 3,
   "id": "ef0ba841",
   "metadata": {},
   "outputs": [
    {
     "data": {
      "text/plain": [
       "4.0"
      ]
     },
     "execution_count": 3,
     "metadata": {},
     "output_type": "execute_result"
    }
   ],
   "source": [
    "np.around(4.5)"
   ]
  },
  {
   "cell_type": "code",
   "execution_count": 4,
   "id": "2cd05482",
   "metadata": {},
   "outputs": [
    {
     "data": {
      "text/plain": [
       "2.0"
      ]
     },
     "execution_count": 4,
     "metadata": {},
     "output_type": "execute_result"
    }
   ],
   "source": [
    "np.around(1.5)"
   ]
  },
  {
   "cell_type": "code",
   "execution_count": 5,
   "id": "f346ba36",
   "metadata": {},
   "outputs": [
    {
     "data": {
      "text/plain": [
       "4.0"
      ]
     },
     "execution_count": 5,
     "metadata": {},
     "output_type": "execute_result"
    }
   ],
   "source": [
    "np.around(3.5)"
   ]
  },
  {
   "cell_type": "code",
   "execution_count": null,
   "id": "a8db2e76",
   "metadata": {},
   "outputs": [],
   "source": []
  }
 ],
 "metadata": {
  "kernelspec": {
   "display_name": "Python 3 (ipykernel)",
   "language": "python",
   "name": "python3"
  },
  "language_info": {
   "codemirror_mode": {
    "name": "ipython",
    "version": 3
   },
   "file_extension": ".py",
   "mimetype": "text/x-python",
   "name": "python",
   "nbconvert_exporter": "python",
   "pygments_lexer": "ipython3",
   "version": "3.10.8"
  }
 },
 "nbformat": 4,
 "nbformat_minor": 5
}
