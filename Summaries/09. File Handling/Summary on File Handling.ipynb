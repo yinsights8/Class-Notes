{
 "cells": [
  {
   "cell_type": "markdown",
   "id": "07b70c4c",
   "metadata": {},
   "source": [
    "# File Handling"
   ]
  },
  {
   "cell_type": "markdown",
   "id": "8c9b5d5d",
   "metadata": {},
   "source": [
    "- uses\n",
    "    - we can read file \n",
    "    - we can write file \n",
    "    - we can append new data into the file \n",
    "    - we can create a file"
   ]
  },
  {
   "cell_type": "markdown",
   "id": "cb42cc7a",
   "metadata": {},
   "source": [
    "# Syntax:- \n",
    "\n",
    "- Syntax - 1\n",
    "\n",
    "\n",
    "    1. file_name = open(\"file_name.txt\",mode=\"type of mode\")\n",
    "       file_name.read()\n",
    "       file_name.write()\n",
    "       file_name.writelines()\n",
    "                .\n",
    "       file_name.close()\n",
    "\n",
    "\n",
    "\n",
    "- Syntax - 2\n",
    "\n",
    "\n",
    "    2. with open(\"file_name.txt\",mode = \"type of mode\") as file name:\n",
    "            file_name.read()\n",
    "            file_name.write()\n",
    "            file_name.writelines()\n",
    "                    .\n",
    "                    .\n",
    "                "
   ]
  },
  {
   "cell_type": "markdown",
   "id": "8bbd384f",
   "metadata": {},
   "source": [
    "## Modes "
   ]
  },
  {
   "cell_type": "markdown",
   "id": "dc61a283",
   "metadata": {},
   "source": [
    "- modes :- \n",
    "    - read = \"r\"\n",
    "    - write = \"w\"\n",
    "    - write = \"x\"\n",
    "    - append = \"a\"\n",
    "    - readbyte = \"rb\"\n",
    "    - writebyte = \"wb\""
   ]
  },
  {
   "cell_type": "markdown",
   "id": "eec5e062",
   "metadata": {},
   "source": [
    "###### Note :- The only difference between 1 syntax and 2 syntax is , while writing a 1st syntax we need to close the file after done with the code \n",
    "\n",
    "###### Note :- while writing a second syntax we do not need to close the file ,while it automatically closes the file"
   ]
  },
  {
   "cell_type": "markdown",
   "id": "4bf8299d",
   "metadata": {},
   "source": [
    "## write :- \n",
    "- 1. write = \"w\"\n",
    "    - \"w\" is mode which is use for write a text into the file\n",
    "    - if the file is not present, then this mode is just going to create a file \n",
    "    - and then write a text into this file \n",
    "    - if the file is already exits then the existing file will gets overwrite "
   ]
  },
  {
   "cell_type": "markdown",
   "id": "36d073d4",
   "metadata": {},
   "source": [
    "- 2. write = \"x\"\n",
    "    - \"X\" is also use to create of write a text into a file\n",
    "    - this mode only create a text file for once only \n",
    "    - it cannot overwites the text like \"w\" mode "
   ]
  },
  {
   "cell_type": "markdown",
   "id": "ecab441c",
   "metadata": {},
   "source": [
    "## append :- "
   ]
  },
  {
   "cell_type": "markdown",
   "id": "6c858b57",
   "metadata": {},
   "source": [
    "- 1. append = \"a\"\n",
    "    - it will create a new file if the file is not exist\n",
    "    - it will add the new data into the file if the file is already exist"
   ]
  },
  {
   "cell_type": "markdown",
   "id": "a1979bbb",
   "metadata": {},
   "source": [
    "## read \n",
    "\n",
    "- 1. .read = \"r\"\n",
    "    - it is also a bydefault mode\n",
    "    - it will read the content from the specified file\n",
    "    \n",
    "- 2. .readline(int_number) :- \n",
    "    - this command will read a file text character by characters and line by line\n",
    "    \n",
    "- 3. . readlines() :- \n",
    "    - This command will returns the list of all line"
   ]
  },
  {
   "cell_type": "code",
   "execution_count": 10,
   "id": "9dbfceb0",
   "metadata": {},
   "outputs": [],
   "source": []
  },
  {
   "cell_type": "code",
   "execution_count": 11,
   "id": "645abe3f",
   "metadata": {},
   "outputs": [],
   "source": []
  },
  {
   "cell_type": "code",
   "execution_count": null,
   "id": "52323b79",
   "metadata": {},
   "outputs": [],
   "source": []
  },
  {
   "cell_type": "code",
   "execution_count": null,
   "id": "1d97be7d",
   "metadata": {},
   "outputs": [],
   "source": []
  }
 ],
 "metadata": {
  "kernelspec": {
   "display_name": "Python 3 (ipykernel)",
   "language": "python",
   "name": "python3"
  },
  "language_info": {
   "codemirror_mode": {
    "name": "ipython",
    "version": 3
   },
   "file_extension": ".py",
   "mimetype": "text/x-python",
   "name": "python",
   "nbconvert_exporter": "python",
   "pygments_lexer": "ipython3",
   "version": "3.10.8"
  }
 },
 "nbformat": 4,
 "nbformat_minor": 5
}
