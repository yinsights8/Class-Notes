{
 "cells": [
  {
   "cell_type": "markdown",
   "id": "b79a8645",
   "metadata": {},
   "source": [
    "## Date time module\n",
    "- we can import datatime by \n",
    "    - import datetime"
   ]
  },
  {
   "cell_type": "markdown",
   "id": "14e1a0eb",
   "metadata": {},
   "source": [
    "### 1. formats of datetime "
   ]
  },
  {
   "cell_type": "markdown",
   "id": "93c66c50",
   "metadata": {},
   "source": [
    "- 10-01-20  - %d %m %y\n",
    "- 10 Jan 2020 - %d %b %Y\n",
    "- 2020-01-10  - %Y-%m-%d\n",
    "- 10/01/2020  - %d/%m/%Y"
   ]
  },
  {
   "cell_type": "markdown",
   "id": "c99314f5",
   "metadata": {},
   "source": [
    "#### commands"
   ]
  },
  {
   "cell_type": "markdown",
   "id": "3081c5fc",
   "metadata": {},
   "source": [
    "1. current_datetime  = datetime.datetime().now()\n",
    "- current_datetime.now()\n",
    "- current_datetime.today()\n",
    "- current_datetime.weekday()\n",
    "- current_datetime.date()\n",
    "- current_datetime.day\n",
    "- current_datetime.year\n",
    "- current_datetime.month"
   ]
  },
  {
   "cell_type": "markdown",
   "id": "37321c28",
   "metadata": {},
   "source": [
    "### 2. Timedelta"
   ]
  },
  {
   "cell_type": "raw",
   "id": "40be152b",
   "metadata": {},
   "source": [
    "A timedelta object represents a duration, the difference between two dates or times.\n",
    "\n",
    "class datetime.timedelta(days=0, seconds=0, microseconds=0, milliseconds=0, minutes=0, hours=0, weeks=0)\n",
    "\n",
    "All arguments are optional and default to 0. Arguments may be integers or floats, and may be positive or negative.\n",
    "\n",
    "- syntax-\n",
    "        - current_day = current_date + datetime.timedelta(days,weeks,hours..=?)\n",
    "\n",
    "### NOTE:- in this module we can only play with days,weeks,hours=1,2,3,4,..."
   ]
  },
  {
   "cell_type": "code",
   "execution_count": null,
   "id": "5e20766e",
   "metadata": {},
   "outputs": [],
   "source": []
  },
  {
   "cell_type": "markdown",
   "id": "bc500d78",
   "metadata": {},
   "source": [
    "## 3. strftime()\n",
    "    - syntax :-\n",
    "        data.strftime(format)\n",
    "- string from time object(time to string)\n",
    "- The strftime() function is used to convert date and time objects to their string representation. It takes one or more input of formatted code and returns the string representation."
   ]
  },
  {
   "cell_type": "raw",
   "id": "961786c9",
   "metadata": {},
   "source": [
    "The table below shows all the codes that you can pass to the strftime() method.\n",
    "\n",
    "Directive\tMeaning\tExample\n",
    "- %a  \tAbbreviated weekday name.\tSun, Mon, ...\n",
    "\n",
    "- %A\tFull weekday name.\tSunday, Monday, ...\n",
    "\n",
    "- %w\tWeekday as a decimal number.\t0, 1, ..., 6\n",
    "\n",
    "- %d\tDay of the month as a zero-padded decimal.\t01, 02, ..., 31\n",
    "\n",
    "- %b\tAbbreviated month name.\tJan, Feb, ..., Dec\n",
    "\n",
    "- %B\tFull month name.\tJanuary, February, ...\n",
    "\n",
    "- %m\tMonth as a zero-padded decimal number.\t01, 02, ..., 12\n",
    "\n",
    "- %y\tYear without century as a zero-padded decimal number.\t00, 01, ..., 99\n",
    "\n",
    "- %-y\tYear without century as a decimal number.\t0, 1, ..., 99\n",
    "\n",
    "- %Y\tYear with century as a decimal number.\t2013, 2019 etc.\n",
    "\n",
    "- %H\tHour (24-hour clock) as a zero-padded decimal number.\t00, 01, ..., 23\n",
    "\n",
    "- %I\tHour (12-hour clock) as a zero-padded decimal number.\t01, 02, ..., 12\n",
    "\n",
    "- %p\tLocale’s AM or PM.\tAM, PM\n",
    "\n",
    "- %M\tMinute as a zero-padded decimal number.\t00, 01, ..., 59\n",
    "\n",
    "- %S\tSecond as a zero-padded decimal number.\t00, 01, ..., 59\n",
    "\n",
    "- %f\tMicrosecond as a decimal number, zero-padded on the left.\t000000 - 999999\n",
    "\n",
    "- %z\tUTC offset in the form +HHMM or -HHMM.\t \n",
    "\n",
    "- %Z\tTime zone name.\t \n",
    "\n",
    "- %j\tDay of the year as a zero-padded decimal number.\t001, 002, ..., 366\n",
    "\n",
    "- %U\tWeek number of the year (Sunday as the first day of the week). All days in a new year preceding         the first Sunday are considered to be in week 0.\t00, 01, ..., 53\n",
    "\n",
    "- %W\tWeek number of the year (Monday as the first day of the week). All days in a new year preceding         the first Monday are considered to be in week 0.\t00, 01, ..., 53\n",
    "\n",
    "- %c\tLocale’s appropriate date and time representation.\tMon Sep 30 07:06:05 2013\n",
    "\n",
    "- %x\tLocale’s appropriate date representation.\t09/30/13\n",
    "\n",
    "- %X\tLocale’s appropriate time representation.\t07:06:05\n",
    "\n",
    "- %%\tA literal '%' character.\t%"
   ]
  },
  {
   "cell_type": "code",
   "execution_count": null,
   "id": "e60ecb91",
   "metadata": {},
   "outputs": [],
   "source": []
  },
  {
   "cell_type": "markdown",
   "id": "378eb59c",
   "metadata": {},
   "source": [
    "## 4. strptime()\n",
    "- string point to time(string to point objects)"
   ]
  },
  {
   "cell_type": "markdown",
   "id": "fab42a6b",
   "metadata": {},
   "source": [
    "- syntax - \n",
    "        - date = \"20/02/2022\"\n",
    "        - date_format = \"%d/%m/%Y\"\n",
    "        \n",
    "        - date = datetime.datetime.strptime(date, date_format)\n",
    "        \n",
    "- date = 11/20/2022\n",
    "\n",
    "- date_format = %d/%m/%Y\n",
    "\n",
    "###### NOTE:- style of date and dateformat shuould be match"
   ]
  },
  {
   "cell_type": "code",
   "execution_count": null,
   "id": "de1d0ab9",
   "metadata": {},
   "outputs": [],
   "source": []
  }
 ],
 "metadata": {
  "kernelspec": {
   "display_name": "Python 3 (ipykernel)",
   "language": "python",
   "name": "python3"
  },
  "language_info": {
   "codemirror_mode": {
    "name": "ipython",
    "version": 3
   },
   "file_extension": ".py",
   "mimetype": "text/x-python",
   "name": "python",
   "nbconvert_exporter": "python",
   "pygments_lexer": "ipython3",
   "version": "3.10.8"
  }
 },
 "nbformat": 4,
 "nbformat_minor": 5
}
