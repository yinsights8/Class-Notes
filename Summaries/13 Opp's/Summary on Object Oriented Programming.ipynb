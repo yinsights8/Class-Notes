{
 "cells": [
  {
   "cell_type": "markdown",
   "id": "8563c031",
   "metadata": {},
   "source": [
    "# 1. Object Oriented Programming"
   ]
  },
  {
   "cell_type": "markdown",
   "id": "78511191",
   "metadata": {},
   "source": [
    "- class :-\n",
    "    - it is nothing but a blueprint to create object\n",
    "    - it is an blueprint of objects that holds the variable and methods\n",
    "    \n",
    "- object :- \n",
    "    - it is a variable name that we assign to a class \n",
    "        - e.g. variable = ClassName()\n",
    "        \n",
    "    - in OPP's we called it \"INSTANCE\" of a class\n",
    "    - object :-  it is a REAL LIFE ENTITY (e.g. mobial, laptop, headphones, chair, fan, house....etc)\n",
    "    \n",
    "    \n",
    "- when we create a class we define number of fuction which is called nothing but \"METHODS\" in OOP's.\n",
    "- it provieds more readibility, reusablity and provides more structured way \n",
    "    \n",
    "    \n"
   ]
  },
  {
   "cell_type": "code",
   "execution_count": null,
   "id": "425b9444",
   "metadata": {},
   "outputs": [],
   "source": []
  },
  {
   "cell_type": "markdown",
   "id": "af3d9825",
   "metadata": {},
   "source": [
    "### syntax:-"
   ]
  },
  {
   "cell_type": "raw",
   "id": "2b79b281",
   "metadata": {},
   "source": [
    "class ClassName():\n",
    "    def __init__(self):  # this is where our attributes is going to be\n",
    "        pass\n",
    "    def Method1(self):\n",
    "        pass\n",
    "    def Method2(self):\n",
    "        pass\n",
    "    .\n",
    "    .\n",
    "    .\n",
    "    statements_n"
   ]
  },
  {
   "cell_type": "markdown",
   "id": "3f36afc3",
   "metadata": {},
   "source": [
    "- Attribute - attributes are those that the things they have such as name, colors, hands, brain etc...\n",
    "- methods - methods are those the things they can do or perform. such as walking, eating, jumping, playing etc"
   ]
  },
  {
   "cell_type": "markdown",
   "id": "5c703e86",
   "metadata": {},
   "source": [
    "e.g\n",
    "- cow        :-  is a class name\n",
    "- attributes :- four legs, colour, two horns etc...\n",
    "- methods    :- cow can walk, eat, sleep, sound etc..."
   ]
  },
  {
   "cell_type": "markdown",
   "id": "f16aa7dc",
   "metadata": {},
   "source": [
    "# 2. The self Parameter\n",
    "The self parameter is a reference to the current instance of the class, and is used to access variables that belongs to the class.\n",
    "\n",
    "\n",
    "\n",
    "It does not have to be named self , you can call it whatever you like, but it has to be the first parameter of any function in the class\n",
    "\n",
    "- and throughout the class we need to specify the same name instead of self\n",
    "\n",
    "e.g the instance we are creating will be passed or reffering to self in this way our method will get executed \n",
    "- The instance itself passing into the method itself and then it gets executed\n"
   ]
  },
  {
   "cell_type": "markdown",
   "id": "d2f5736e",
   "metadata": {},
   "source": [
    "## Self"
   ]
  },
  {
   "cell_type": "markdown",
   "id": "8d010e2b",
   "metadata": {},
   "source": [
    "- Self is nothing but a keyword, We can use any keword name, but you have to follow the same keyword name in entire class\n",
    "- It allows to access the variables and methods of each object\n",
    "- Self keyword is used to represent an instance of a class\n",
    "- It helps to distinguish between *****local variables and instance variables*****"
   ]
  },
  {
   "cell_type": "markdown",
   "id": "2a9f4874",
   "metadata": {},
   "source": [
    "###### NOTE:- class name variable can not be convert into global variable Or It can not be access globally. it can be only called inside of a class"
   ]
  },
  {
   "cell_type": "code",
   "execution_count": null,
   "id": "f29b9887",
   "metadata": {},
   "outputs": [],
   "source": []
  },
  {
   "cell_type": "markdown",
   "id": "9860db3d",
   "metadata": {},
   "source": [
    "    var1 = 5000                            # Global Variable\n",
    "\n",
    "    class ClassName():                     # Class Name\n",
    "        x = 1                              # Class Variables\n",
    "        y = 5.5                            # Class Variables\n",
    "        z = \"First Class\"                  # Class Variables\n",
    "\n",
    "        def method1(self):                 # First Method of a class\n",
    "            print(\"This is method1\")\n",
    "            var2 = \"Data Science\"          # Local Variable \n",
    "            self.city_name = \"Mumbai\"      # Instance Variable1\n",
    "            self.state     = \"Maharashtra\" # Instance Variable2\n",
    "\n",
    "        def method2(self):                 # Method 2\n",
    "            print(\"This is method2\")\n",
    "            var3 = \"Machine Learning\"      # Local Vartiable\n",
    "            self.var4 = \"NLP\"              # Instance variable \n",
    "            self.method1()\n",
    "            print(\"Variable 1 from method1\",self.city_name)\n",
    "            print(\"Variable 2 from method2\",self.x)"
   ]
  },
  {
   "cell_type": "code",
   "execution_count": null,
   "id": "0b9b0abe",
   "metadata": {},
   "outputs": [],
   "source": []
  },
  {
   "cell_type": "markdown",
   "id": "b8640b0e",
   "metadata": {},
   "source": [
    "######   class variables\n",
    ":- it can be only access inside of a class, it can't converted into globle variable or can not     be access globally.\n",
    "\n",
    "\n",
    "\n",
    "\n",
    "###### Instance Variable \n",
    ":- It can be access anywhere inside of a class, An instance variable is a variable which is declared in a class but outside of constructors, methods, or blocks. Instance variables are created when an object is instantiated (__init__), and are accessible to all the constructors, methods, or blocks in the class. Access modifiers can be given to the instance variable\n",
    "\n",
    "    - class ClassName():\n",
    "            def __init__(self,attr_1, attr_2, attr_3):\n",
    "                    self.attr_1 = attr_1\n",
    "                    self.attr_2 = attr_2\n",
    "                    self.attr_3 = attr_3"
   ]
  },
  {
   "cell_type": "markdown",
   "id": "59c46434",
   "metadata": {},
   "source": [
    "#### What if the variables are local \n",
    "###### If the variables are local variable then those variables will have limited scope in a class and we wil not be able to use them inside the whole class or another methods. to use them globaly inside a class then we have specify  (\"self.\")  keyword before local variables"
   ]
  },
  {
   "cell_type": "markdown",
   "id": "3dabc80f",
   "metadata": {},
   "source": [
    "## __init__ Method"
   ]
  },
  {
   "cell_type": "raw",
   "id": "3ab3be34",
   "metadata": {},
   "source": [
    "__init__ This method gets execute automatically whenever we create an object"
   ]
  },
  {
   "cell_type": "raw",
   "id": "e6b2769f",
   "metadata": {},
   "source": [
    "using self.variable name in each method for specifically will be so hectic. in order to overcome this situation we can \n",
    "define __init__ method and will call every attributes inside of a __init__ method"
   ]
  },
  {
   "cell_type": "markdown",
   "id": "6ad75ff2",
   "metadata": {},
   "source": [
    "- All the attributes of the class we define it in __init__ method"
   ]
  },
  {
   "cell_type": "markdown",
   "id": "85498b36",
   "metadata": {},
   "source": [
    "## Class variable"
   ]
  },
  {
   "cell_type": "markdown",
   "id": "de0ad17b",
   "metadata": {},
   "source": [
    "- class variable are those where we define it after creating a class and it is global variable for all methods\n",
    "of a class"
   ]
  },
  {
   "cell_type": "markdown",
   "id": "d873955e",
   "metadata": {},
   "source": [
    "- Class variable:-\n",
    "    - this will reflects the changes to all instances that we had created\n",
    "    - if we want to change the all variables of mathods of a whole class then use class variables\n",
    "    - this will reflect the changes to the whole class methods\n",
    "    - e.g - ClassName.variable\n",
    "    \n",
    "- instance variable:-\n",
    "     - This will reflect the changes to specific instances that we had created\n",
    "     - if we want to change the specific method variables then use instance variables\n",
    "     - this will reflect the changes in a specific class methods\n",
    "     - e.g - self.variable"
   ]
  },
  {
   "cell_type": "markdown",
   "id": "9a4b109e",
   "metadata": {},
   "source": [
    "- Some points on Python class:  \n",
    "\n",
    "    - Classes are created by keyword class.\n",
    "    - Attributes are the variables that belong to a class.\n",
    "    - Attributes are always public and can be accessed using the dot (.) operator. Eg.: Myclass.Myattribute"
   ]
  },
  {
   "cell_type": "code",
   "execution_count": null,
   "id": "de5d4917",
   "metadata": {},
   "outputs": [],
   "source": []
  },
  {
   "cell_type": "markdown",
   "id": "27dc2ac7",
   "metadata": {},
   "source": [
    "## There are four fundamentals concept of Oop's\n",
    "- Inheritance\n",
    "- Encapsulation\n",
    "- Polymorphism\n",
    "- Abstraction"
   ]
  },
  {
   "cell_type": "markdown",
   "id": "5c47dd09",
   "metadata": {},
   "source": [
    "### 1. Inheritance\n",
    "- It allows to define a class that inherits all the methods and properties from another class.\n",
    "- parent class - it is a class that is being inherited from \n",
    "- child class - it is a class that is inherits from another class\n",
    "    - Parent class -  Base class (Superclass)\n",
    "    - child class - Derived class (subclass)"
   ]
  },
  {
   "cell_type": "markdown",
   "id": "ef5d20a9",
   "metadata": {},
   "source": [
    "### There are four types of inheritance"
   ]
  },
  {
   "cell_type": "markdown",
   "id": "7500f1f8",
   "metadata": {},
   "source": [
    "- 1. Single Inheritance\n",
    "        - When a derived class inherits only from base class. it is known as single inheritance\n",
    "        \n",
    "- 2. Multiple Inheritance\n",
    "        - When a class can be derived from more than one base class this type of inheritance is called multiple inheritances. In multiple inheritances, all the features of the base classes are inherited into the derived class. \n",
    "        \n",
    "- 3. Multilevel Inheritance\n",
    "        - In multilevel inheritance, features of the base class and the derived class are further inherited into the new derived class. This is similar to a relationship representing a child and a grandfather. \n",
    "        \n",
    "- 4. Hirarchical Inheritance\n",
    "        - When more than one derived class are created from a single base this type of inheritance is called hierarchical inheritance.\n",
    "        \n",
    "- 5. Hybrid Inheritance\n",
    "        - Inheritance consisting of multiple types of inheritance is called hybrid inheritance."
   ]
  },
  {
   "cell_type": "code",
   "execution_count": null,
   "id": "b2cb50b4",
   "metadata": {},
   "outputs": [],
   "source": []
  },
  {
   "cell_type": "code",
   "execution_count": null,
   "id": "3c041f73",
   "metadata": {},
   "outputs": [],
   "source": []
  },
  {
   "cell_type": "code",
   "execution_count": null,
   "id": "4f0bef41",
   "metadata": {},
   "outputs": [],
   "source": []
  },
  {
   "cell_type": "markdown",
   "id": "d1e5c21e",
   "metadata": {},
   "source": [
    "#### 2. MultiLevel Inheritance"
   ]
  },
  {
   "cell_type": "raw",
   "id": "b0e89976",
   "metadata": {},
   "source": [
    "class GrandFather():\n",
    "    pass\n",
    "\n",
    "class Father(GrandFather): \n",
    "    pass\n",
    "\n",
    "class Child(Father): # Multilevel Inheritance\n",
    "    pass"
   ]
  },
  {
   "cell_type": "code",
   "execution_count": null,
   "id": "d81437b3",
   "metadata": {},
   "outputs": [],
   "source": []
  },
  {
   "cell_type": "markdown",
   "id": "95128ddd",
   "metadata": {},
   "source": [
    "### super().__init__()"
   ]
  },
  {
   "cell_type": "markdown",
   "id": "e4dbfd4e",
   "metadata": {
    "slideshow": {
     "slide_type": "notes"
    }
   },
   "source": [
    "- super().__init__(): \n",
    "    - This method can only work in single inheritance and multilevel inheritance.\n",
    "    - super method refers to the parent or super class \n",
    "    - when is comes to Hierachical or multiple inheritance etc.. except single inheritace \n",
    "- super method won't able to distinguish between two super class attributes and variables while initializing attrinbutes into the derived class"
   ]
  },
  {
   "cell_type": "code",
   "execution_count": null,
   "id": "6914e672",
   "metadata": {},
   "outputs": [],
   "source": []
  },
  {
   "cell_type": "code",
   "execution_count": null,
   "id": "6156ec82",
   "metadata": {},
   "outputs": [],
   "source": []
  },
  {
   "cell_type": "code",
   "execution_count": null,
   "id": "04de112f",
   "metadata": {},
   "outputs": [],
   "source": []
  },
  {
   "cell_type": "markdown",
   "id": "e36e0304",
   "metadata": {},
   "source": [
    "## 3. Encapsulation"
   ]
  },
  {
   "cell_type": "markdown",
   "id": "6a2ef3d2",
   "metadata": {},
   "source": [
    "Encapsulation is one of the most fundamental concepts in object-oriented programming (OOP). This is the concept of wrapping data and methods that work with data in one unit. This prevents data modification accidentally by limiting access to variables and methods. An object's method can change a variable's value to prevent accidental changes. These variables are called private variables."
   ]
  },
  {
   "cell_type": "markdown",
   "id": "510c12ca",
   "metadata": {},
   "source": [
    "- Encapsulation used to restrict the access of methods and variables from outside the class.\n",
    "- Protecting accidental change of data (Variables and Methods)\n"
   ]
  },
  {
   "cell_type": "markdown",
   "id": "65029cbc",
   "metadata": {},
   "source": [
    "  - syntax :- \n",
    "      - to identify or to create an encapsulation method we assing\n",
    "      - __variable_name or __Method_name()"
   ]
  },
  {
   "cell_type": "markdown",
   "id": "179c4e99",
   "metadata": {},
   "source": [
    "example - \n",
    "class Base1():\n",
    "    \n",
    "    def __init__(self, a, b):\n",
    "        self.__a = a\n",
    "        self.__b = b\n",
    "        \n",
    "    def __addition(self):\n",
    "        self.add = self.__a + self.__b\n",
    "        print(f\"Addition of {self.__a} and {self.__b} is {self.add}\")\n",
    "        \n",
    "    def __Multiplication(self):\n",
    "        multi = self.__a * self.__b\n",
    "        print(f\"Multiplication of {self.__a} and {self.__b} is {self.multi}\")"
   ]
  },
  {
   "cell_type": "markdown",
   "id": "806fb7a4",
   "metadata": {},
   "source": [
    " - in this way we can not access a single variable or method from the class"
   ]
  },
  {
   "cell_type": "markdown",
   "id": "865603d2",
   "metadata": {},
   "source": [
    "### How can we call or access the variables and methods from the Encapsulation class"
   ]
  },
  {
   "cell_type": "markdown",
   "id": "499713ec",
   "metadata": {},
   "source": [
    "#### Name Mangling\n",
    "- To access or modify the private variables and methods from outside the class\n",
    "\n",
    "- Syntax :-\n",
    "     - Obj._ClassName__VariableName"
   ]
  },
  {
   "cell_type": "markdown",
   "id": "890066a2",
   "metadata": {},
   "source": [
    "- We can access the \"Encapsulation class\" variables and methods by\n",
    "    - Obj._ClassName__VariableName"
   ]
  },
  {
   "cell_type": "code",
   "execution_count": null,
   "id": "65c75110",
   "metadata": {},
   "outputs": [],
   "source": []
  },
  {
   "cell_type": "markdown",
   "id": "bc3e5211",
   "metadata": {},
   "source": [
    "## 4. Abstraction"
   ]
  },
  {
   "cell_type": "markdown",
   "id": "9c416a03",
   "metadata": {},
   "source": [
    "- Blueprint of other class/project\n",
    "    - We can not create an object of the abstract class\n",
    "    - Abstract class is only used for the declaration of the methods\n",
    "    - In the abtract class we are not supposed to implement these methods\n",
    "            - @abstractmetho decorator --> used to define abstract method\n",
    "    - The abstract method is a child class of the ABC (ABC is Abstract Base Class Module)\n",
    "    - It is used to hide the internal functionality of the method"
   ]
  },
  {
   "cell_type": "markdown",
   "id": "96cbcad8",
   "metadata": {},
   "source": [
    "- An abstract class can be considered as a blueprint for other classes. It allows you to create a set of methods that must be created within any child classes built from the abstract class. \n",
    "- A class which contains one or more abstract methods is called an abstract class. \n",
    "- An abstract method is a method that has a declaration but does not have an implementation. \n",
    "- While we are designing large functional units we use an abstract class. \n",
    "- When we want to provide a common interface for different implementations of a component, we use an abstract class. "
   ]
  },
  {
   "cell_type": "markdown",
   "id": "35ddd6ca",
   "metadata": {},
   "source": [
    "#### Why use Abstract Base Classes : \n",
    "- By defining an abstract base class, you can define a common Application Program Interface(API) for a set of subclasses. \n",
    "- This capability is especially useful in situations where a third-party is going to provide implementations, such as with plugins, but can also help you when working in a large team or with a large code-base where keeping all classes in your mind is difficult or not possible. "
   ]
  },
  {
   "cell_type": "code",
   "execution_count": null,
   "id": "6e37cb97",
   "metadata": {},
   "outputs": [],
   "source": []
  }
 ],
 "metadata": {
  "kernelspec": {
   "display_name": "Python 3 (ipykernel)",
   "language": "python",
   "name": "python3"
  },
  "language_info": {
   "codemirror_mode": {
    "name": "ipython",
    "version": 3
   },
   "file_extension": ".py",
   "mimetype": "text/x-python",
   "name": "python",
   "nbconvert_exporter": "python",
   "pygments_lexer": "ipython3",
   "version": "3.10.8"
  }
 },
 "nbformat": 4,
 "nbformat_minor": 5
}
