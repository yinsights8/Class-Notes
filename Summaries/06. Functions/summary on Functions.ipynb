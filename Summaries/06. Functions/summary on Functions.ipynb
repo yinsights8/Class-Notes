{
 "cells": [
  {
   "cell_type": "markdown",
   "id": "9c9495d4",
   "metadata": {},
   "source": [
    "# 1. Functions\n",
    "\n",
    "- function is a block of code \n",
    "- it is reusable \n",
    "- functions are used to avoide repetation of the code\n",
    "- def keyword is use to create function\n",
    "- functions will get executed only when it gets called by \n",
    "                function_name(), \n",
    "                function_name(arg1,arg2...)\n",
    "- function name should follow the identifier rules"
   ]
  },
  {
   "cell_type": "markdown",
   "id": "f7897fbb",
   "metadata": {},
   "source": [
    "### Syntax 1. "
   ]
  },
  {
   "cell_type": "raw",
   "id": "e4898667",
   "metadata": {},
   "source": [
    "def function_name(): # Defining a function\n",
    "    statement-1 |\n",
    "    statement-1 |\n",
    "    statement-1 |------------->>> Block of code\n",
    "        .       |\n",
    "        .       |\n",
    "    statement-n |\n",
    "    \n",
    "    \n",
    "function_name() # Calling a function"
   ]
  },
  {
   "cell_type": "markdown",
   "id": "474696d4",
   "metadata": {},
   "source": [
    "### Syntax 2 \n"
   ]
  },
  {
   "cell_type": "raw",
   "id": "00d98778",
   "metadata": {},
   "source": [
    "my_functionname() # Calling a function\n",
    "\n",
    "def function_name(parameter1,parameter2)            # Defining a fucntions with parameters\n",
    "    statement-1 |\n",
    "    statement-1 |\n",
    "    statement-1 |------------->>> Block of code\n",
    "        .       |\n",
    "        .       |\n",
    "    statement-n |\n",
    "    \n",
    "    \n",
    "function_name(argument1,argument2)                    # Calling a fucntions with arguments\n"
   ]
  },
  {
   "cell_type": "markdown",
   "id": "a7e99cdf",
   "metadata": {},
   "source": [
    "###### arg = values\n",
    "##### arguments :-  These are niothing but values which are passing while calling a fucntions\n",
    "\n",
    "###### para = variable_name of data types inside of functions\n",
    "##### parameters :- These are noithing but variables which are passing while creating a functions\n"
   ]
  },
  {
   "cell_type": "code",
   "execution_count": null,
   "id": "277029c7",
   "metadata": {},
   "outputs": [],
   "source": []
  },
  {
   "cell_type": "markdown",
   "id": "85b976ea",
   "metadata": {},
   "source": [
    "## 2. Difference between Return and print()"
   ]
  },
  {
   "cell_type": "markdown",
   "id": "4be0ebe0",
   "metadata": {},
   "source": [
    "print() :- this is a inbuilt function which is use to print the output, however in function it only prints the output but we cannot save that output inside of another variable. "
   ]
  },
  {
   "cell_type": "markdown",
   "id": "bfee15ab",
   "metadata": {},
   "source": [
    "return :- This is a inbult fucntion and a reserved keyword, however unlike print fuction we can save there output into different variable, and it can in further in a code.\n",
    "- (return keyword is only use in functions)\n",
    "\n",
    "###### Note :- in return variable name should be equal to number of outputs that we are returing from the functions\n",
    "###### Note : -  unpacking works on every sequence. but  in dictionary it only returns keys() not values."
   ]
  },
  {
   "cell_type": "code",
   "execution_count": null,
   "id": "9438f1b6",
   "metadata": {},
   "outputs": [],
   "source": []
  },
  {
   "cell_type": "markdown",
   "id": "ab94cac1",
   "metadata": {},
   "source": [
    "### 3.Types of Arguments"
   ]
  },
  {
   "cell_type": "markdown",
   "id": "99b8f293",
   "metadata": {},
   "source": [
    "1. - Positional Arguments\n",
    "\n",
    "3. -  Arbitrary Positional Arguments(*args)\n",
    "\n",
    "2. -  Default Arguments/Keyword Argument\n",
    "\n",
    "4. -  Arbitrary Keyword Arguments(**kwargs)"
   ]
  },
  {
   "cell_type": "code",
   "execution_count": null,
   "id": "00a28a09",
   "metadata": {},
   "outputs": [],
   "source": []
  },
  {
   "cell_type": "code",
   "execution_count": null,
   "id": "9eec4180",
   "metadata": {},
   "outputs": [],
   "source": []
  },
  {
   "cell_type": "markdown",
   "id": "395d3872",
   "metadata": {},
   "source": [
    "# The sequence for the parameters should be followed\n",
    "- 1. Positional arguments ->->-> 2. Arbitary position arguments (*args) ->->-> 3. keywords / Default \n",
    "arguments ->->-> 4. Arbitary keyword arguments (**kwargs)\n",
    "\n",
    "###### NOTE:- If the sequence is not followed then this going give us an TypeError  in return "
   ]
  },
  {
   "cell_type": "code",
   "execution_count": null,
   "id": "4773391a",
   "metadata": {},
   "outputs": [],
   "source": []
  },
  {
   "cell_type": "code",
   "execution_count": null,
   "id": "0a86b4ab",
   "metadata": {},
   "outputs": [],
   "source": []
  },
  {
   "cell_type": "markdown",
   "id": "ea198fc9",
   "metadata": {},
   "source": [
    "#### 1.  Positional arguments :- \n",
    "- The arguments that can be called by their position in the function call.\n",
    "- positional arguments should follow  the sequence of the parameters \n",
    "- Number of positional arguments should  equals to number of parameters. else TypeError will be return\n",
    "\n",
    "###### NOTE: if the arguments are passed without following any order of parameters then the values will be interchange\n"
   ]
  },
  {
   "cell_type": "code",
   "execution_count": null,
   "id": "75cd5ec9",
   "metadata": {},
   "outputs": [],
   "source": []
  },
  {
   "cell_type": "markdown",
   "id": "4e334078",
   "metadata": {},
   "source": [
    "#### 2. Keyword arguments :- "
   ]
  },
  {
   "cell_type": "markdown",
   "id": "923f6e82",
   "metadata": {},
   "source": [
    "- keywords arguments are also known as default argumets\n",
    "- it is denoted by parameters = arguments while calling a function \n",
    "- there is no obligation to follow the sequence of arguments\n",
    "- parameters can also be defined default values\n",
    "- syntax :- \n",
    "            - def func(name= default, location = default):\n",
    "                pass\n",
    "              \n",
    "            -  func()\n"
   ]
  },
  {
   "cell_type": "markdown",
   "id": "26ff6981",
   "metadata": {},
   "source": [
    "#### 3. Arbitary position argumets ( *args )\n",
    "- syntax\n",
    "        - *args\n",
    "- args = it is a variable name and it can be anything, meaning except ( * ) we can change the \"args\"  part\n",
    "     - *args should be after positonal argument \n",
    "     \n",
    "- We can pass as much as arguments as we want, in fact we can pass multiple arguments with the help of *args\n",
    "\n",
    "###### NOTE:- Default data type of the *args are tuple . e.g - type(args) --> tuple"
   ]
  },
  {
   "cell_type": "code",
   "execution_count": null,
   "id": "86ebbb2e",
   "metadata": {},
   "outputs": [],
   "source": []
  },
  {
   "cell_type": "code",
   "execution_count": null,
   "id": "d8fe18c7",
   "metadata": {},
   "outputs": [],
   "source": []
  },
  {
   "cell_type": "markdown",
   "id": "bc8d8b4e",
   "metadata": {},
   "source": [
    "#### 4. Arbitary Keyword arguments ( **kwargs )\n",
    "- data type of the  **kwargs are dictionary\n",
    "- syntax \n",
    "           - **kwargs\n",
    "- kwargs = it is a variable name and it can be anything, meaning except ( ** ) we can change the \"kwargs\" part\n",
    "     - **kwargs should be at end as a parameter\n",
    "- We can pass as much as key value pairs as we want with the help of **kwargs i.e multiple key and values\n",
    "- if we specify kwargs after posiotnal or any other arguments then it will return syntax error\n",
    "     \n",
    "###### NOTE:- If the sequence is not followed then this going give an TypeError  in return "
   ]
  },
  {
   "cell_type": "code",
   "execution_count": null,
   "id": "6b1d61da",
   "metadata": {},
   "outputs": [],
   "source": []
  },
  {
   "cell_type": "code",
   "execution_count": null,
   "id": "5d7dc346",
   "metadata": {},
   "outputs": [],
   "source": []
  },
  {
   "cell_type": "markdown",
   "id": "d476f1e7",
   "metadata": {},
   "source": [
    "## 2. Lambda Functions"
   ]
  },
  {
   "cell_type": "markdown",
   "id": "2b00d4c2",
   "metadata": {},
   "source": [
    "syntax:-\n",
    "\n",
    "       variable =  lambda (parameters) : expresion\n",
    "                         |   👇             👇  | \n",
    "                 (multiple arguments   :  single expresion)"
   ]
  },
  {
   "cell_type": "markdown",
   "id": "cf395ab2",
   "metadata": {},
   "source": [
    "- define a variable name is not necessary assign to lambda functions\n",
    "- This is also known as Anonymous functions\n",
    "- lambda is a keyword to define a lambda function followed by multiple or single parameters\n",
    "- No need to return statement in lambda function\n",
    "- work\n",
    "    - The expresion is eveluated and result will be returned \n",
    "- this function is use wheneverwe required a short period function\n",
    "- Higher-order function :- if a function is taking another function as an argument\n",
    "\n",
    "###### Note:- Lambda function should have only one expresion and multiple or at least one parameter\n",
    "\n"
   ]
  },
  {
   "cell_type": "markdown",
   "id": "9f069fd7",
   "metadata": {},
   "source": [
    "\n",
    "- in lambda funtion as well the sequence should be followed of arguments\n",
    "- Positional arguments ->->-> 2. Arbitary position arguments (args) ->->-> 3. keywords / Default arguments ->->-> 4. Arbitary keyword arguments (kwargs)\n"
   ]
  },
  {
   "cell_type": "markdown",
   "id": "1199642d",
   "metadata": {},
   "source": [
    "## 2. Recursion Functions"
   ]
  },
  {
   "cell_type": "markdown",
   "id": "c9dd22a3",
   "metadata": {},
   "source": [
    "- calling a functions inside of a function it is called recursion functions\n",
    "- the functions which called itself called recursion functions"
   ]
  },
  {
   "cell_type": "code",
   "execution_count": null,
   "id": "005a6575",
   "metadata": {},
   "outputs": [],
   "source": []
  }
 ],
 "metadata": {
  "kernelspec": {
   "display_name": "Python 3 (ipykernel)",
   "language": "python",
   "name": "python3"
  },
  "language_info": {
   "codemirror_mode": {
    "name": "ipython",
    "version": 3
   },
   "file_extension": ".py",
   "mimetype": "text/x-python",
   "name": "python",
   "nbconvert_exporter": "python",
   "pygments_lexer": "ipython3",
   "version": "3.9.12"
  }
 },
 "nbformat": 4,
 "nbformat_minor": 5
}
