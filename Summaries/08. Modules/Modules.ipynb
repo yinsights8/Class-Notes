{
 "cells": [
  {
   "cell_type": "markdown",
   "id": "9385dac0",
   "metadata": {},
   "source": [
    "# Modules \n",
    "- it is a python script \n",
    "- it is a collection of functions, variables and classes\n",
    "- the extension for module is .py\n",
    "     - e.g : \n",
    "     1. main.py\n",
    "     2. file_name.py\n"
   ]
  },
  {
   "cell_type": "markdown",
   "id": "347755ba",
   "metadata": {},
   "source": [
    "## How to run the python script on command prompt (cmd)"
   ]
  },
  {
   "cell_type": "raw",
   "id": "08568d6c",
   "metadata": {},
   "source": [
    " - pyhton main.py"
   ]
  },
  {
   "cell_type": "markdown",
   "id": "ab28e935",
   "metadata": {},
   "source": [
    "##  1. what is \"__main__\" ?"
   ]
  },
  {
   "cell_type": "raw",
   "id": "8f6836f3",
   "metadata": {},
   "source": [
    "- __name__ == \"__main__\"\n",
    "\n",
    "- 1. \"__main__\" is a value of __name__\n",
    "- 2. __main__ is a first module name and it is always '__main__'\n",
    "- 3. This is the point where our execution of code starts....\n",
    "\n",
    "\n",
    "Note:-  __name__ value changes as per the place we are using.\n",
    "- when modules are imported the value of the __name__ also changes, at that time it will print module name as __name__ value"
   ]
  },
  {
   "cell_type": "markdown",
   "id": "e05b236a",
   "metadata": {},
   "source": [
    "## Q. what is __name__ and module"
   ]
  },
  {
   "cell_type": "raw",
   "id": "a5deee81",
   "metadata": {},
   "source": [
    "-  if __name__==\"__main__\""
   ]
  },
  {
   "cell_type": "markdown",
   "id": "d2dc2c72",
   "metadata": {},
   "source": [
    "- - __name__ :- this is an built-in variable of python it will returns the name of the module. each module contains a variable called __name__, which will return the value of the name of the module.\n",
    "    - for example we can use the __name__ to identify the name of the current working module\n",
    "    - it will return the name as __main__ by default \n",
    "\n",
    "\n",
    "\n",
    "- - Module :- it is nothing but a collection of functions, variable and class or python defination and statements\n",
    "\n",
    "\n",
    "###### NOTE:- if the file is being imported by some other module then the name will assign to the module name\n",
    "\n",
    "\n",
    "\n",
    "###### NOTE:- module name of th e current working file is always be a __main__"
   ]
  },
  {
   "cell_type": "raw",
   "id": "e684f7e1",
   "metadata": {},
   "source": [
    "__name__ = module name"
   ]
  },
  {
   "cell_type": "code",
   "execution_count": 1,
   "id": "3c5bc2ba",
   "metadata": {},
   "outputs": [
    {
     "name": "stdout",
     "output_type": "stream",
     "text": [
      "__main__\n"
     ]
    }
   ],
   "source": [
    "print(__name__)"
   ]
  },
  {
   "cell_type": "raw",
   "id": "aa972377",
   "metadata": {},
   "source": [
    "- to prevent to get the output of the imported file into the current working file we put conditon which is\n",
    "- if __name__ == \"__main__\":\n",
    "        statements()"
   ]
  },
  {
   "cell_type": "code",
   "execution_count": null,
   "id": "ceb54ab2",
   "metadata": {},
   "outputs": [],
   "source": []
  }
 ],
 "metadata": {
  "kernelspec": {
   "display_name": "Python 3 (ipykernel)",
   "language": "python",
   "name": "python3"
  },
  "language_info": {
   "codemirror_mode": {
    "name": "ipython",
    "version": 3
   },
   "file_extension": ".py",
   "mimetype": "text/x-python",
   "name": "python",
   "nbconvert_exporter": "python",
   "pygments_lexer": "ipython3",
   "version": "3.10.8"
  }
 },
 "nbformat": 4,
 "nbformat_minor": 5
}
